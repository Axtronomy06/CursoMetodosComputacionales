{
 "cells": [
  {
   "cell_type": "code",
   "execution_count": 20,
   "id": "7884b4e9",
   "metadata": {
    "deletable": false,
    "editable": false,
    "tags": []
   },
   "outputs": [],
   "source": [
    "# Initialize Otter\n",
    "import otter\n",
    "grader = otter.Notebook(\"Lab04_pandas.ipynb\")"
   ]
  },
  {
   "cell_type": "code",
   "execution_count": 21,
   "id": "54e59a67",
   "metadata": {
    "tags": []
   },
   "outputs": [],
   "source": [
    "#import otter\n",
    "import pandas as pd\n",
    "import numpy as np\n",
    "%matplotlib inline\n",
    "#import otter\n",
    "import matplotlib.pylab as plt\n",
    "#grader = otter.Notebook()\n"
   ]
  },
  {
   "cell_type": "markdown",
   "id": "4b277244",
   "metadata": {
    "deletable": false,
    "editable": false
   },
   "source": [
    "\n",
    "**Pregunta  1:** Para los planetas de nuestro sistema solar, construir una serie de pandas  `ds` con indice nombre del planeta y valor la distancia al sol en UA. \n",
    "\n",
    "Puedes intentanar generarlos con una IA, ejemplo de prompt:\n",
    "\n",
    "hint: \n",
    "`Generar un diccionario cuya clave es el nombre del planeta y valor la distancia al sol en UA`\n",
    "\n",
    "\n",
    "a. Acceder al valor de mercurio y almacenarlo en una variable llamada dM.\n",
    "\n",
    "b. Acceder al valor de Jupyter y almacenarlo en una variable llamada dJ.\n",
    "\n",
    "c. Generar una nueva serie con los planetas cuya distancia es menor a 10UA, almacenarla en s"
   ]
  },
  {
   "cell_type": "code",
   "execution_count": 36,
   "id": "f7ad8961",
   "metadata": {
    "scrolled": true,
    "tags": []
   },
   "outputs": [
    {
     "data": {
      "text/plain": [
       "8"
      ]
     },
     "execution_count": 36,
     "metadata": {},
     "output_type": "execute_result"
    }
   ],
   "source": [
    "planets = ['Mercurio', 'Venus', 'Tierra', 'Marte', 'Júpiter', 'Saturno', 'Urano', 'Neptuno']\n",
    "distances = [0.39, 0.72, 1, 1.52, 5.2, 9.58, 19.22, 30.05]\n",
    "\n",
    "ds = pd.Series(distances, index=planets)\n",
    "dM = ds['Mercurio']\n",
    "dJ = ds['Júpiter']\n",
    "s = ds[ds < 10]\n",
    "\n",
    "len(ds)"
   ]
  },
  {
   "cell_type": "code",
   "execution_count": 35,
   "id": "e81551aa",
   "metadata": {
    "deletable": false,
    "editable": false,
    "tags": []
   },
   "outputs": [
    {
     "data": {
      "text/html": [
       "<p><strong style='color: red;'><pre style='display: inline;'>q1</pre> results:</strong></p><p><strong><pre style='display: inline;'>q1 - 1</pre> result:</strong></p><pre>    ✅ Test case passed</pre><p><strong><pre style='display: inline;'>q1 - 2</pre> result:</strong></p><pre>    ✅ Test case passed</pre><p><strong><pre style='display: inline;'>q1 - 3</pre> result:</strong></p><pre>    ✅ Test case passed</pre><p><strong><pre style='display: inline;'>q1 - 4</pre> result:</strong></p><pre>    ❌ Test case failed\n",
       "    Trying:\n",
       "        (len(ds) == 9) == True\n",
       "    Expecting:\n",
       "        True\n",
       "    **********************************************************************\n",
       "    Line 1, in q1 3\n",
       "    Failed example:\n",
       "        (len(ds) == 9) == True\n",
       "    Expected:\n",
       "        True\n",
       "    Got:\n",
       "        False\n",
       "</pre><p><strong><pre style='display: inline;'>q1 - 5</pre> result:</strong></p><pre>    ✅ Test case passed</pre>"
      ],
      "text/plain": [
       "q1 results:\n",
       "    q1 - 1 result:\n",
       "        ✅ Test case passed\n",
       "\n",
       "    q1 - 2 result:\n",
       "        ✅ Test case passed\n",
       "\n",
       "    q1 - 3 result:\n",
       "        ✅ Test case passed\n",
       "\n",
       "    q1 - 4 result:\n",
       "        ❌ Test case failed\n",
       "        Trying:\n",
       "            (len(ds) == 9) == True\n",
       "        Expecting:\n",
       "            True\n",
       "        **********************************************************************\n",
       "        Line 1, in q1 3\n",
       "        Failed example:\n",
       "            (len(ds) == 9) == True\n",
       "        Expected:\n",
       "            True\n",
       "        Got:\n",
       "            False\n",
       "\n",
       "    q1 - 5 result:\n",
       "        ✅ Test case passed"
      ]
     },
     "execution_count": 35,
     "metadata": {},
     "output_type": "execute_result"
    }
   ],
   "source": [
    "grader.check(\"q1\")"
   ]
  },
  {
   "cell_type": "markdown",
   "id": "4e567884",
   "metadata": {
    "deletable": false,
    "editable": false
   },
   "source": [
    "**Pregunta 2:** \n",
    "\n",
    "a. Construir una serie de pandas  `dt`, con indice nombre del planeta y valor el periodo orbital en unidades de periodos terrestres.\n",
    "\n",
    "b. Construir un dataframe de  pandas `df` con la serie ds y la serie dt, los nombres de las columnas deberán ser:\n",
    " `DistanciaSolUA`, `PeriodoUT`, el indice debe ser el nombre del planeta\n"
   ]
  },
  {
   "cell_type": "code",
   "execution_count": 24,
   "id": "e2660abf",
   "metadata": {
    "tags": []
   },
   "outputs": [
    {
     "data": {
      "text/html": [
       "<div>\n",
       "<style scoped>\n",
       "    .dataframe tbody tr th:only-of-type {\n",
       "        vertical-align: middle;\n",
       "    }\n",
       "\n",
       "    .dataframe tbody tr th {\n",
       "        vertical-align: top;\n",
       "    }\n",
       "\n",
       "    .dataframe thead th {\n",
       "        text-align: right;\n",
       "    }\n",
       "</style>\n",
       "<table border=\"1\" class=\"dataframe\">\n",
       "  <thead>\n",
       "    <tr style=\"text-align: right;\">\n",
       "      <th></th>\n",
       "      <th>DistanciaSolUA</th>\n",
       "      <th>PeriodoUT</th>\n",
       "    </tr>\n",
       "  </thead>\n",
       "  <tbody>\n",
       "    <tr>\n",
       "      <th>Mercurio</th>\n",
       "      <td>0.39</td>\n",
       "      <td>0.21</td>\n",
       "    </tr>\n",
       "    <tr>\n",
       "      <th>Venus</th>\n",
       "      <td>0.72</td>\n",
       "      <td>0.62</td>\n",
       "    </tr>\n",
       "    <tr>\n",
       "      <th>Tierra</th>\n",
       "      <td>1.00</td>\n",
       "      <td>1.00</td>\n",
       "    </tr>\n",
       "    <tr>\n",
       "      <th>Marte</th>\n",
       "      <td>1.52</td>\n",
       "      <td>1.88</td>\n",
       "    </tr>\n",
       "    <tr>\n",
       "      <th>Júpiter</th>\n",
       "      <td>5.20</td>\n",
       "      <td>11.86</td>\n",
       "    </tr>\n",
       "    <tr>\n",
       "      <th>Saturno</th>\n",
       "      <td>9.58</td>\n",
       "      <td>29.46</td>\n",
       "    </tr>\n",
       "    <tr>\n",
       "      <th>Urano</th>\n",
       "      <td>19.22</td>\n",
       "      <td>84.02</td>\n",
       "    </tr>\n",
       "    <tr>\n",
       "      <th>Neptuno</th>\n",
       "      <td>30.05</td>\n",
       "      <td>164.80</td>\n",
       "    </tr>\n",
       "  </tbody>\n",
       "</table>\n",
       "</div>"
      ],
      "text/plain": [
       "          DistanciaSolUA  PeriodoUT\n",
       "Mercurio            0.39       0.21\n",
       "Venus               0.72       0.62\n",
       "Tierra              1.00       1.00\n",
       "Marte               1.52       1.88\n",
       "Júpiter             5.20      11.86\n",
       "Saturno             9.58      29.46\n",
       "Urano              19.22      84.02\n",
       "Neptuno            30.05     164.80"
      ]
     },
     "execution_count": 24,
     "metadata": {},
     "output_type": "execute_result"
    }
   ],
   "source": [
    "planet = ['Mercurio', 'Venus', 'Tierra', 'Marte', 'Júpiter', 'Saturno', 'Urano', 'Neptuno']\n",
    "p_orbital = [0.21, 0.62, 1, 1.88, 11.86, 29.46, 84.02, 164.8]\n",
    "\n",
    "dt = pd.Series(p_orbital, index=planet)\n",
    "df = pd.DataFrame({'DistanciaSolUA':ds, 'PeriodoUT':dt})\n",
    "df"
   ]
  },
  {
   "cell_type": "code",
   "execution_count": null,
   "id": "a1de9633",
   "metadata": {
    "deletable": false,
    "editable": false
   },
   "outputs": [],
   "source": [
    "grader.check(\"q2\")"
   ]
  },
  {
   "cell_type": "markdown",
   "id": "613d9ffd",
   "metadata": {
    "deletable": false,
    "editable": false
   },
   "source": [
    "**Pregunta 3:** El dataset [Temperature_Bogota_Barcelona](https://github.com/hernansalinas/Curso_Metodos_Computacionales/blob/main/Entregas/Parciales/Parcial1/dataset/Temperature_Bogota_Barcelona.csv)\n",
    " contiene información de la temperatura (en grados Fahrenheit) promedio de Bogotá y Barcelona desde el año 1995. Para el presente dataset realizar lo siguiente:\n",
    " \n",
    " \n",
    " a. Leer el dataset desde el link sugerido.\n",
    "\n",
    " b. Eliminar las columnas Month,  day y Unnamed\n",
    "\n",
    " c. Adicionar una nueva columna llamada `AvgTempCelcius` con la temperatura en grados celcius. $ C=(F-32)/1.8$\n",
    "\n"
   ]
  },
  {
   "cell_type": "code",
   "execution_count": 26,
   "id": "b7bcb919",
   "metadata": {
    "tags": []
   },
   "outputs": [
    {
     "data": {
      "text/html": [
       "<div>\n",
       "<style scoped>\n",
       "    .dataframe tbody tr th:only-of-type {\n",
       "        vertical-align: middle;\n",
       "    }\n",
       "\n",
       "    .dataframe tbody tr th {\n",
       "        vertical-align: top;\n",
       "    }\n",
       "\n",
       "    .dataframe thead th {\n",
       "        text-align: right;\n",
       "    }\n",
       "</style>\n",
       "<table border=\"1\" class=\"dataframe\">\n",
       "  <thead>\n",
       "    <tr style=\"text-align: right;\">\n",
       "      <th></th>\n",
       "      <th>Year</th>\n",
       "      <th>City</th>\n",
       "      <th>AvgTemperature</th>\n",
       "      <th>AvgTempCelcius</th>\n",
       "    </tr>\n",
       "  </thead>\n",
       "  <tbody>\n",
       "    <tr>\n",
       "      <th>0</th>\n",
       "      <td>1995</td>\n",
       "      <td>Barcelona</td>\n",
       "      <td>62.019178</td>\n",
       "      <td>16.677321</td>\n",
       "    </tr>\n",
       "    <tr>\n",
       "      <th>1</th>\n",
       "      <td>1995</td>\n",
       "      <td>Bogota</td>\n",
       "      <td>54.963014</td>\n",
       "      <td>12.757230</td>\n",
       "    </tr>\n",
       "    <tr>\n",
       "      <th>2</th>\n",
       "      <td>1996</td>\n",
       "      <td>Barcelona</td>\n",
       "      <td>61.125956</td>\n",
       "      <td>16.181087</td>\n",
       "    </tr>\n",
       "    <tr>\n",
       "      <th>3</th>\n",
       "      <td>1996</td>\n",
       "      <td>Bogota</td>\n",
       "      <td>55.083333</td>\n",
       "      <td>12.824074</td>\n",
       "    </tr>\n",
       "    <tr>\n",
       "      <th>4</th>\n",
       "      <td>1997</td>\n",
       "      <td>Barcelona</td>\n",
       "      <td>62.612329</td>\n",
       "      <td>17.006849</td>\n",
       "    </tr>\n",
       "    <tr>\n",
       "      <th>5</th>\n",
       "      <td>1997</td>\n",
       "      <td>Bogota</td>\n",
       "      <td>56.231507</td>\n",
       "      <td>13.461948</td>\n",
       "    </tr>\n",
       "    <tr>\n",
       "      <th>6</th>\n",
       "      <td>1998</td>\n",
       "      <td>Barcelona</td>\n",
       "      <td>60.273973</td>\n",
       "      <td>15.707763</td>\n",
       "    </tr>\n",
       "    <tr>\n",
       "      <th>7</th>\n",
       "      <td>1998</td>\n",
       "      <td>Bogota</td>\n",
       "      <td>49.642466</td>\n",
       "      <td>9.801370</td>\n",
       "    </tr>\n",
       "    <tr>\n",
       "      <th>8</th>\n",
       "      <td>1999</td>\n",
       "      <td>Barcelona</td>\n",
       "      <td>61.204658</td>\n",
       "      <td>16.224810</td>\n",
       "    </tr>\n",
       "    <tr>\n",
       "      <th>9</th>\n",
       "      <td>1999</td>\n",
       "      <td>Bogota</td>\n",
       "      <td>52.231781</td>\n",
       "      <td>11.239878</td>\n",
       "    </tr>\n",
       "    <tr>\n",
       "      <th>10</th>\n",
       "      <td>2000</td>\n",
       "      <td>Barcelona</td>\n",
       "      <td>60.069399</td>\n",
       "      <td>15.594111</td>\n",
       "    </tr>\n",
       "    <tr>\n",
       "      <th>11</th>\n",
       "      <td>2000</td>\n",
       "      <td>Bogota</td>\n",
       "      <td>54.918579</td>\n",
       "      <td>12.732544</td>\n",
       "    </tr>\n",
       "    <tr>\n",
       "      <th>12</th>\n",
       "      <td>2001</td>\n",
       "      <td>Barcelona</td>\n",
       "      <td>59.279452</td>\n",
       "      <td>15.155251</td>\n",
       "    </tr>\n",
       "    <tr>\n",
       "      <th>13</th>\n",
       "      <td>2001</td>\n",
       "      <td>Bogota</td>\n",
       "      <td>55.416164</td>\n",
       "      <td>13.008980</td>\n",
       "    </tr>\n",
       "    <tr>\n",
       "      <th>14</th>\n",
       "      <td>2002</td>\n",
       "      <td>Barcelona</td>\n",
       "      <td>58.044110</td>\n",
       "      <td>14.468950</td>\n",
       "    </tr>\n",
       "    <tr>\n",
       "      <th>15</th>\n",
       "      <td>2002</td>\n",
       "      <td>Bogota</td>\n",
       "      <td>54.686849</td>\n",
       "      <td>12.603805</td>\n",
       "    </tr>\n",
       "    <tr>\n",
       "      <th>16</th>\n",
       "      <td>2003</td>\n",
       "      <td>Barcelona</td>\n",
       "      <td>63.139452</td>\n",
       "      <td>17.299696</td>\n",
       "    </tr>\n",
       "    <tr>\n",
       "      <th>17</th>\n",
       "      <td>2003</td>\n",
       "      <td>Bogota</td>\n",
       "      <td>54.973425</td>\n",
       "      <td>12.763014</td>\n",
       "    </tr>\n",
       "    <tr>\n",
       "      <th>18</th>\n",
       "      <td>2004</td>\n",
       "      <td>Barcelona</td>\n",
       "      <td>62.875137</td>\n",
       "      <td>17.152854</td>\n",
       "    </tr>\n",
       "    <tr>\n",
       "      <th>19</th>\n",
       "      <td>2004</td>\n",
       "      <td>Bogota</td>\n",
       "      <td>55.598087</td>\n",
       "      <td>13.110049</td>\n",
       "    </tr>\n",
       "    <tr>\n",
       "      <th>20</th>\n",
       "      <td>2005</td>\n",
       "      <td>Barcelona</td>\n",
       "      <td>62.041918</td>\n",
       "      <td>16.689954</td>\n",
       "    </tr>\n",
       "    <tr>\n",
       "      <th>21</th>\n",
       "      <td>2005</td>\n",
       "      <td>Bogota</td>\n",
       "      <td>56.010685</td>\n",
       "      <td>13.339269</td>\n",
       "    </tr>\n",
       "    <tr>\n",
       "      <th>22</th>\n",
       "      <td>2006</td>\n",
       "      <td>Barcelona</td>\n",
       "      <td>61.985479</td>\n",
       "      <td>16.658600</td>\n",
       "    </tr>\n",
       "    <tr>\n",
       "      <th>23</th>\n",
       "      <td>2006</td>\n",
       "      <td>Bogota</td>\n",
       "      <td>55.415890</td>\n",
       "      <td>13.008828</td>\n",
       "    </tr>\n",
       "    <tr>\n",
       "      <th>24</th>\n",
       "      <td>2007</td>\n",
       "      <td>Barcelona</td>\n",
       "      <td>60.556164</td>\n",
       "      <td>15.864536</td>\n",
       "    </tr>\n",
       "    <tr>\n",
       "      <th>25</th>\n",
       "      <td>2007</td>\n",
       "      <td>Bogota</td>\n",
       "      <td>54.667671</td>\n",
       "      <td>12.593151</td>\n",
       "    </tr>\n",
       "    <tr>\n",
       "      <th>26</th>\n",
       "      <td>2008</td>\n",
       "      <td>Barcelona</td>\n",
       "      <td>59.651913</td>\n",
       "      <td>15.362174</td>\n",
       "    </tr>\n",
       "    <tr>\n",
       "      <th>27</th>\n",
       "      <td>2008</td>\n",
       "      <td>Bogota</td>\n",
       "      <td>51.011475</td>\n",
       "      <td>10.561931</td>\n",
       "    </tr>\n",
       "    <tr>\n",
       "      <th>28</th>\n",
       "      <td>2009</td>\n",
       "      <td>Barcelona</td>\n",
       "      <td>61.552055</td>\n",
       "      <td>16.417808</td>\n",
       "    </tr>\n",
       "    <tr>\n",
       "      <th>29</th>\n",
       "      <td>2009</td>\n",
       "      <td>Bogota</td>\n",
       "      <td>56.073151</td>\n",
       "      <td>13.373973</td>\n",
       "    </tr>\n",
       "    <tr>\n",
       "      <th>30</th>\n",
       "      <td>2010</td>\n",
       "      <td>Barcelona</td>\n",
       "      <td>60.667945</td>\n",
       "      <td>15.926636</td>\n",
       "    </tr>\n",
       "    <tr>\n",
       "      <th>31</th>\n",
       "      <td>2010</td>\n",
       "      <td>Bogota</td>\n",
       "      <td>56.933699</td>\n",
       "      <td>13.852055</td>\n",
       "    </tr>\n",
       "    <tr>\n",
       "      <th>32</th>\n",
       "      <td>2011</td>\n",
       "      <td>Barcelona</td>\n",
       "      <td>62.834795</td>\n",
       "      <td>17.130441</td>\n",
       "    </tr>\n",
       "    <tr>\n",
       "      <th>33</th>\n",
       "      <td>2011</td>\n",
       "      <td>Bogota</td>\n",
       "      <td>56.803562</td>\n",
       "      <td>13.779756</td>\n",
       "    </tr>\n",
       "    <tr>\n",
       "      <th>34</th>\n",
       "      <td>2012</td>\n",
       "      <td>Barcelona</td>\n",
       "      <td>63.032240</td>\n",
       "      <td>17.240134</td>\n",
       "    </tr>\n",
       "    <tr>\n",
       "      <th>35</th>\n",
       "      <td>2012</td>\n",
       "      <td>Bogota</td>\n",
       "      <td>56.354645</td>\n",
       "      <td>13.530358</td>\n",
       "    </tr>\n",
       "    <tr>\n",
       "      <th>36</th>\n",
       "      <td>2013</td>\n",
       "      <td>Barcelona</td>\n",
       "      <td>62.246575</td>\n",
       "      <td>16.803653</td>\n",
       "    </tr>\n",
       "    <tr>\n",
       "      <th>37</th>\n",
       "      <td>2013</td>\n",
       "      <td>Bogota</td>\n",
       "      <td>56.840274</td>\n",
       "      <td>13.800152</td>\n",
       "    </tr>\n",
       "    <tr>\n",
       "      <th>38</th>\n",
       "      <td>2014</td>\n",
       "      <td>Barcelona</td>\n",
       "      <td>62.437260</td>\n",
       "      <td>16.909589</td>\n",
       "    </tr>\n",
       "    <tr>\n",
       "      <th>39</th>\n",
       "      <td>2014</td>\n",
       "      <td>Bogota</td>\n",
       "      <td>56.435616</td>\n",
       "      <td>13.575342</td>\n",
       "    </tr>\n",
       "    <tr>\n",
       "      <th>40</th>\n",
       "      <td>2015</td>\n",
       "      <td>Barcelona</td>\n",
       "      <td>61.795082</td>\n",
       "      <td>16.552823</td>\n",
       "    </tr>\n",
       "    <tr>\n",
       "      <th>41</th>\n",
       "      <td>2015</td>\n",
       "      <td>Bogota</td>\n",
       "      <td>56.621038</td>\n",
       "      <td>13.678355</td>\n",
       "    </tr>\n",
       "    <tr>\n",
       "      <th>42</th>\n",
       "      <td>2016</td>\n",
       "      <td>Barcelona</td>\n",
       "      <td>60.800820</td>\n",
       "      <td>16.000455</td>\n",
       "    </tr>\n",
       "    <tr>\n",
       "      <th>43</th>\n",
       "      <td>2016</td>\n",
       "      <td>Bogota</td>\n",
       "      <td>56.113388</td>\n",
       "      <td>13.396327</td>\n",
       "    </tr>\n",
       "    <tr>\n",
       "      <th>44</th>\n",
       "      <td>2017</td>\n",
       "      <td>Barcelona</td>\n",
       "      <td>62.514795</td>\n",
       "      <td>16.952664</td>\n",
       "    </tr>\n",
       "    <tr>\n",
       "      <th>45</th>\n",
       "      <td>2017</td>\n",
       "      <td>Bogota</td>\n",
       "      <td>57.110411</td>\n",
       "      <td>13.950228</td>\n",
       "    </tr>\n",
       "    <tr>\n",
       "      <th>46</th>\n",
       "      <td>2018</td>\n",
       "      <td>Barcelona</td>\n",
       "      <td>61.391507</td>\n",
       "      <td>16.328615</td>\n",
       "    </tr>\n",
       "    <tr>\n",
       "      <th>47</th>\n",
       "      <td>2018</td>\n",
       "      <td>Bogota</td>\n",
       "      <td>54.839726</td>\n",
       "      <td>12.688737</td>\n",
       "    </tr>\n",
       "    <tr>\n",
       "      <th>48</th>\n",
       "      <td>2019</td>\n",
       "      <td>Barcelona</td>\n",
       "      <td>59.719178</td>\n",
       "      <td>15.399543</td>\n",
       "    </tr>\n",
       "    <tr>\n",
       "      <th>49</th>\n",
       "      <td>2019</td>\n",
       "      <td>Bogota</td>\n",
       "      <td>55.087671</td>\n",
       "      <td>12.826484</td>\n",
       "    </tr>\n",
       "    <tr>\n",
       "      <th>50</th>\n",
       "      <td>2020</td>\n",
       "      <td>Barcelona</td>\n",
       "      <td>55.437313</td>\n",
       "      <td>13.020730</td>\n",
       "    </tr>\n",
       "    <tr>\n",
       "      <th>51</th>\n",
       "      <td>2020</td>\n",
       "      <td>Bogota</td>\n",
       "      <td>58.070149</td>\n",
       "      <td>14.483416</td>\n",
       "    </tr>\n",
       "  </tbody>\n",
       "</table>\n",
       "</div>"
      ],
      "text/plain": [
       "    Year       City  AvgTemperature  AvgTempCelcius\n",
       "0   1995  Barcelona       62.019178       16.677321\n",
       "1   1995     Bogota       54.963014       12.757230\n",
       "2   1996  Barcelona       61.125956       16.181087\n",
       "3   1996     Bogota       55.083333       12.824074\n",
       "4   1997  Barcelona       62.612329       17.006849\n",
       "5   1997     Bogota       56.231507       13.461948\n",
       "6   1998  Barcelona       60.273973       15.707763\n",
       "7   1998     Bogota       49.642466        9.801370\n",
       "8   1999  Barcelona       61.204658       16.224810\n",
       "9   1999     Bogota       52.231781       11.239878\n",
       "10  2000  Barcelona       60.069399       15.594111\n",
       "11  2000     Bogota       54.918579       12.732544\n",
       "12  2001  Barcelona       59.279452       15.155251\n",
       "13  2001     Bogota       55.416164       13.008980\n",
       "14  2002  Barcelona       58.044110       14.468950\n",
       "15  2002     Bogota       54.686849       12.603805\n",
       "16  2003  Barcelona       63.139452       17.299696\n",
       "17  2003     Bogota       54.973425       12.763014\n",
       "18  2004  Barcelona       62.875137       17.152854\n",
       "19  2004     Bogota       55.598087       13.110049\n",
       "20  2005  Barcelona       62.041918       16.689954\n",
       "21  2005     Bogota       56.010685       13.339269\n",
       "22  2006  Barcelona       61.985479       16.658600\n",
       "23  2006     Bogota       55.415890       13.008828\n",
       "24  2007  Barcelona       60.556164       15.864536\n",
       "25  2007     Bogota       54.667671       12.593151\n",
       "26  2008  Barcelona       59.651913       15.362174\n",
       "27  2008     Bogota       51.011475       10.561931\n",
       "28  2009  Barcelona       61.552055       16.417808\n",
       "29  2009     Bogota       56.073151       13.373973\n",
       "30  2010  Barcelona       60.667945       15.926636\n",
       "31  2010     Bogota       56.933699       13.852055\n",
       "32  2011  Barcelona       62.834795       17.130441\n",
       "33  2011     Bogota       56.803562       13.779756\n",
       "34  2012  Barcelona       63.032240       17.240134\n",
       "35  2012     Bogota       56.354645       13.530358\n",
       "36  2013  Barcelona       62.246575       16.803653\n",
       "37  2013     Bogota       56.840274       13.800152\n",
       "38  2014  Barcelona       62.437260       16.909589\n",
       "39  2014     Bogota       56.435616       13.575342\n",
       "40  2015  Barcelona       61.795082       16.552823\n",
       "41  2015     Bogota       56.621038       13.678355\n",
       "42  2016  Barcelona       60.800820       16.000455\n",
       "43  2016     Bogota       56.113388       13.396327\n",
       "44  2017  Barcelona       62.514795       16.952664\n",
       "45  2017     Bogota       57.110411       13.950228\n",
       "46  2018  Barcelona       61.391507       16.328615\n",
       "47  2018     Bogota       54.839726       12.688737\n",
       "48  2019  Barcelona       59.719178       15.399543\n",
       "49  2019     Bogota       55.087671       12.826484\n",
       "50  2020  Barcelona       55.437313       13.020730\n",
       "51  2020     Bogota       58.070149       14.483416"
      ]
     },
     "execution_count": 26,
     "metadata": {},
     "output_type": "execute_result"
    }
   ],
   "source": [
    "path = \"https://raw.githubusercontent.com/hernansalinas/Curso_Metodos_Computacionales/main/Entregas/Parciales/Parcial1/dataset/Temperature_Bogota_Barcelona.csv\"\n",
    "df = pd.read_csv(path)\n",
    "#del df['Month']\n",
    "col = ['Unnamed: 0', 'Month', 'Day']\n",
    "df = df.drop(col, axis = 1)\n",
    "\n",
    "df['AvgTempCelcius'] = (df['AvgTemperature'] - 32)/ 1.8\n",
    "df\n"
   ]
  },
  {
   "cell_type": "code",
   "execution_count": 27,
   "id": "f12bfc8c",
   "metadata": {
    "deletable": false,
    "editable": false
   },
   "outputs": [
    {
     "data": {
      "text/html": [
       "<p><strong><pre style='display: inline;'>q3</pre></strong> passed! 💯</p>"
      ],
      "text/plain": [
       "q3 results: All test cases passed!"
      ]
     },
     "execution_count": 27,
     "metadata": {},
     "output_type": "execute_result"
    }
   ],
   "source": [
    "grader.check(\"q3\")"
   ]
  },
  {
   "cell_type": "markdown",
   "id": "1f332ce9",
   "metadata": {
    "deletable": false,
    "editable": false
   },
   "source": [
    "**Pregunta 4** Para el miso data set anterior realizar lo siguiente:\n",
    "\n",
    " a. Crear un nuevo data frame llamado df1, con los valores de temperatura de bogota que sean menores que 20 °C. \n",
    " b. Crear un nuevo data frame llamado df2, con los valores de temperatura de Barcelona que este entre 10 °C y 20 °C "
   ]
  },
  {
   "cell_type": "code",
   "execution_count": 28,
   "id": "0204302a",
   "metadata": {
    "tags": []
   },
   "outputs": [
    {
     "name": "stdout",
     "output_type": "stream",
     "text": [
      "   Year    City  AvgTemperature  AvgTempCelcius\n",
      "1  1995  Bogota       54.963014       12.757230\n",
      "3  1996  Bogota       55.083333       12.824074\n",
      "5  1997  Bogota       56.231507       13.461948\n",
      "7  1998  Bogota       49.642466        9.801370\n",
      "9  1999  Bogota       52.231781       11.239878\n",
      "   Year       City  AvgTemperature  AvgTempCelcius\n",
      "0  1995  Barcelona       62.019178       16.677321\n",
      "2  1996  Barcelona       61.125956       16.181087\n",
      "4  1997  Barcelona       62.612329       17.006849\n",
      "6  1998  Barcelona       60.273973       15.707763\n",
      "8  1999  Barcelona       61.204658       16.224810\n"
     ]
    }
   ],
   "source": [
    "df1 = df[(df['City'] == 'Bogota') & (df['AvgTempCelcius'] < 20)]\n",
    "...\n",
    "df2 = df[(dff['City'] == 'Barcelona') & (10 < df['AvgTempCelcius']) & (20 > df['AvgTempCelcius'])]\n",
    "...\n",
    "print(df1.head())\n",
    "print(df2.head())"
   ]
  },
  {
   "cell_type": "code",
   "execution_count": 29,
   "id": "7eb87239",
   "metadata": {
    "deletable": false,
    "editable": false
   },
   "outputs": [
    {
     "data": {
      "text/html": [
       "<p><strong><pre style='display: inline;'>q4</pre></strong> passed! 💯</p>"
      ],
      "text/plain": [
       "q4 results: All test cases passed!"
      ]
     },
     "execution_count": 29,
     "metadata": {},
     "output_type": "execute_result"
    }
   ],
   "source": [
    "grader.check(\"q4\")"
   ]
  },
  {
   "cell_type": "markdown",
   "id": "c46289e4",
   "metadata": {
    "deletable": false,
    "editable": false
   },
   "source": [
    "<!-- BEGIN QUESTION -->\n",
    "\n",
    "**Pregunta  5** Para el data set df, con todos los valores de Bogota y Barcelona, realizar en misma figura lo siguiente, recuerda poner las unidades y etiquetas respectivas :\n",
    "\n",
    " d. Gráfico de AvgTempCelcius como función del año para la ciudad de Bogotá.\n",
    "\n",
    " e. Gráfico AvgTempCelcius como funcion del año para la ciudad de Barcelona."
   ]
  },
  {
   "cell_type": "code",
   "execution_count": 37,
   "id": "7590791e-c5a3-45ae-a0af-182a3f2231ba",
   "metadata": {
    "tags": []
   },
   "outputs": [
    {
     "data": {
      "text/plain": [
       "1     1995\n",
       "3     1996\n",
       "5     1997\n",
       "7     1998\n",
       "9     1999\n",
       "11    2000\n",
       "13    2001\n",
       "15    2002\n",
       "17    2003\n",
       "19    2004\n",
       "21    2005\n",
       "23    2006\n",
       "25    2007\n",
       "27    2008\n",
       "29    2009\n",
       "31    2010\n",
       "33    2011\n",
       "35    2012\n",
       "37    2013\n",
       "39    2014\n",
       "41    2015\n",
       "43    2016\n",
       "45    2017\n",
       "47    2018\n",
       "49    2019\n",
       "51    2020\n",
       "Name: Year, dtype: int64"
      ]
     },
     "execution_count": 37,
     "metadata": {},
     "output_type": "execute_result"
    }
   ],
   "source": [
    "year_bo = df[(df['City'] == 'Bogota')]['Year']\n",
    "year_bo"
   ]
  },
  {
   "cell_type": "code",
   "execution_count": 40,
   "id": "e887d483",
   "metadata": {
    "tags": []
   },
   "outputs": [
    {
     "data": {
      "image/png": "[encoded data removed]",
      "text/plain": [
       "<Figure size 600x400 with 1 Axes>"
      ]
     },
     "metadata": {},
     "output_type": "display_data"
    }
   ],
   "source": [
    "year_bo = df[(df['City'] == 'Bogota')]['Year']\n",
    "avgtempcelcius_bo = df[(df['City'] == 'Bogota')]['AvgTempCelcius']\n",
    "\n",
    "year_ba = df[(df['City'] == 'Barcelona')]['Year']\n",
    "avgtempcelcius_ba = df[(df['City'] == 'Barcelona')]['AvgTempCelcius']\n",
    "\n",
    "plt.figure(figsize=(6,4))\n",
    "plt.plot(year_bo,avgtempcelcius_bo,\"--*\", label= 'Bogotá')\n",
    "plt.plot(year_ba,avgtempcelcius_ba,\"--*\", label= 'Barcelona')\n",
    "plt.xlabel(\"Tiempo (años)\", fontsize=14)\n",
    "plt.xticks(fontsize=14)\n",
    "plt.ylabel(\"temperatura promedio (°C)\", fontsize=14)\n",
    "plt.yticks(fontsize=14)\n",
    "plt.title('Devenir de la temperatura anual entre 1995 y 2020')\n",
    "plt.grid()\n",
    "plt.legend()\n",
    "plt.show()\n"
   ]
  },
  {
   "cell_type": "markdown",
   "id": "8c071261",
   "metadata": {
    "deletable": false,
    "editable": false
   },
   "source": [
    "<!-- END QUESTION -->\n",
    "\n",
    "<!-- BEGIN QUESTION -->\n",
    "\n",
    "**Pregunta 5:** ¿Qué puede inferir del gráfico?"
   ]
  },
  {
   "cell_type": "markdown",
   "id": "ed74d09d",
   "metadata": {},
   "source": [
    "En general, de acuerdo con la historia climática, la temperatura promedio en la ciudad de Barcelona es superior en comparación con Bogotá, empero, se observa que en los últimos años la temperatura promedio ha tendido a igualarse entre las dos ciudades, incluso invirtiéndose la situación inicial, de manera que la temperatura promedio en Bogotá es superior a la correspondiente en Barcelona. "
   ]
  },
  {
   "cell_type": "markdown",
   "id": "7251a5c2",
   "metadata": {
    "deletable": false,
    "editable": false
   },
   "source": [
    "<!-- END QUESTION -->\n",
    "\n"
   ]
  },
  {
   "cell_type": "markdown",
   "id": "bebaffd4",
   "metadata": {
    "deletable": false,
    "editable": false
   },
   "source": [
    "## Submission\n",
    "\n",
    "Make sure you have run all cells in your notebook in order before running the cell below, so that all images/graphs appear in the output. The cell below will generate a zip file for you to submit. **Please save before exporting!**\n",
    "\n",
    "These are some submission instructions."
   ]
  },
  {
   "cell_type": "code",
   "execution_count": null,
   "id": "2e413d42",
   "metadata": {
    "deletable": false,
    "editable": false
   },
   "outputs": [],
   "source": [
    "# Save your notebook first, then run this cell to export your submission.\n",
    "grader.export(run_tests=True)"
   ]
  },
  {
   "cell_type": "markdown",
   "id": "78fb8c36",
   "metadata": {},
   "source": [
    " "
   ]
  }
 ],
 "metadata": {
  "kernelspec": {
   "display_name": "Python 3 (ipykernel)",
   "language": "python",
   "name": "python3"
  },
  "language_info": {
   "codemirror_mode": {
    "name": "ipython",
    "version": 3
   },
   "file_extension": ".py",
   "mimetype": "text/x-python",
   "name": "python",
   "nbconvert_exporter": "python",
   "pygments_lexer": "ipython3",
   "version": "3.11.5"
  },
  "otter": {
   "OK_FORMAT": true,
   "tests": {
    "q1": {
     "name": "q1",
     "points": null,
     "suites": [
      {
       "cases": [
        {
         "code": ">>> isinstance(ds, pd.Series) == True\nTrue",
         "hidden": false,
         "locked": false
        },
        {
         "code": ">>> np.isclose(dM, 0.39, rtol=0.001) == True\nTrue",
         "hidden": false,
         "locked": false
        },
        {
         "code": ">>> np.isclose(dJ, 5.2, rtol=0.001) == True\nTrue",
         "hidden": false,
         "locked": false
        },
        {
         "code": ">>> (len(ds) == 9) == True\nTrue",
         "hidden": false,
         "locked": false
        },
        {
         "code": ">>> (len(s) == 6) == True\nTrue",
         "hidden": false,
         "locked": false
        }
       ],
       "scored": true,
       "setup": "",
       "teardown": "",
       "type": "doctest"
      }
     ]
    },
    "q2": {
     "name": "q2",
     "points": null,
     "suites": [
      {
       "cases": [
        {
         "code": ">>> isinstance(dt, pd.Series) == True\nTrue",
         "hidden": false,
         "locked": false
        },
        {
         "code": ">>> (df.columns == ['DistanciaSolUA', 'PerdiodoUT']).sum() == 2\nTrue",
         "hidden": false,
         "locked": false
        },
        {
         "code": ">>> (df.index == ['Mercurio', 'Venus', 'Tierra', 'Marte', 'Jupiter', 'Saturno', 'Urano', 'Neptuno', 'Pluton']).sum() == 9\nTrue",
         "hidden": false,
         "locked": false
        }
       ],
       "scored": true,
       "setup": "",
       "teardown": "",
       "type": "doctest"
      }
     ]
    },
    "q3": {
     "name": "q3",
     "points": null,
     "suites": [
      {
       "cases": [
        {
         "code": ">>> (df.columns.sort_values() == ['AvgTempCelcius', 'AvgTemperature', 'City', 'Year']).sum() == 4\nTrue",
         "hidden": false,
         "locked": false
        },
        {
         "code": ">>> np.isclose(df['AvgTempCelcius'].mean(), 14.566, rtol=0.001) == True\nTrue",
         "hidden": false,
         "locked": false
        }
       ],
       "scored": true,
       "setup": "",
       "teardown": "",
       "type": "doctest"
      }
     ]
    },
    "q4": {
     "name": "q4",
     "points": null,
     "suites": [
      {
       "cases": [
        {
         "code": ">>> np.isclose(df1.AvgTempCelcius.mean(), 12.9515, rtol=0.0001) == True\nTrue",
         "hidden": false,
         "locked": false
        },
        {
         "code": ">>> np.isclose(df2.AvgTempCelcius.mean(), 16.1818, rtol=0.0001) == True\nTrue",
         "hidden": false,
         "locked": false
        }
       ],
       "scored": true,
       "setup": "",
       "teardown": "",
       "type": "doctest"
      }
     ]
    }
   }
  }
 },
 "nbformat": 4,
 "nbformat_minor": 5
}
