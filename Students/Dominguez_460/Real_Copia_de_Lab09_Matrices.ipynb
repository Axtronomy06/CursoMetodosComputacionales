{
  "cells": [
    {
      "cell_type": "markdown",
      "metadata": {
        "id": "T2dxYgktDGDA"
      },
      "source": [
        "<a href=\"https://colab.research.google.com/github/hernansalinas/autogrades/blob/main/Laboratorios_Taller/Lab09_Matrices.ipynb\" target=\"_parent\"><img src=\"https://colab.research.google.com/assets/colab-badge.svg\" alt=\"Open In Colab\"/></a>"
      ]
    },
    {
      "cell_type": "markdown",
      "metadata": {
        "id": "SU1TpwPkcufT"
      },
      "source": [
        "# Laboratorio 09 Matrices\n",
        "\n",
        "#### Métodos computacionales para físicos  y astrónomos\n",
        "#### Universidad de Antioquia\n",
        "#### Prof: Hernan D. Salinas Jiménez & Juan Marcos Marín Ramírez"
      ]
    },
    {
      "cell_type": "markdown",
      "metadata": {
        "id": "5TEoJvENdGb7"
      },
      "source": [
        "## Punto 1: **Modelo de encriptación**\n",
        "\n",
        "\n",
        "Un proceso para encriptar un mensaje secreto es usar cierta matriz cuadrada cuyos elementos son enteros con elementos enteros en la inversa. Se recibe un mensaje, se asigna un número a cada letra Por ejemplo, A=1, B=2, C=3, ... etc. y espacio=27, se arreglan los números en una matriz de izquierda a derecha en cada fila, donde el número de elementos en la fila es igual al tamaño de la matriz de código, se multiplica esa matriz por la matriz de código por la derecha, se transcribe el mensaje en una cadena de números y se manda el mensaje.\n",
        "\n",
        "La persona que debe recibir el mensaje conoce la matriz de código. El o ella arreglan el mensaje encriptado en una matriz de izquierda a derecha en cada fila, en donde el número de elementos en una fila conicide con el tamaño de la matriz de código multiplicada por la derecha, por el inverso de la matriz de código y puede leer mensaje decodificado.\n",
        "\n",
        "Usted a recibido el siguiente mensaje que fue encriptado usando la matriz A. Decodifiquelo.\n",
        "\n",
        "```\n",
        "matrix([[ 1,  2, -3,  4,  5],\n",
        "        [-2, -5,  8, -8, -9],\n",
        "        [ 1,  2, -2,  7,  9],\n",
        "        [ 1,  1,  0,  6, 12],\n",
        "        [ 2,  4, -6,  8, 11]])\n",
        "```\n",
        "\n",
        "Mensaje\n",
        "\n",
        "```\n",
        "47,49,-19,257,487,10,-9,63,137,236, 79,142,-184,372,536,59,70,-40,332,588,\n",
        "```\n",
        "\n",
        "\n",
        "la primera fila del mensaje es `47,49,-19,257,487`\n",
        "\n",
        "*¿Cual es el mensaje?*"
      ]
    },
    {
      "cell_type": "code",
      "source": [
        "import numpy as np\n",
        "import pandas as pd\n",
        "import sympy as sy\n",
        "import matplotlib.pyplot as plt"
      ],
      "metadata": {
        "id": "Jh3hYw67D-RK"
      },
      "execution_count": null,
      "outputs": []
    },
    {
      "cell_type": "code",
      "execution_count": null,
      "metadata": {
        "id": "iWv1kbiZch_Z",
        "colab": {
          "base_uri": "https://localhost:8080/"
        },
        "outputId": "7dbb3d94-b5b1-4c9c-d252-728d3a8a8fcc"
      },
      "outputs": [
        {
          "output_type": "execute_result",
          "data": {
            "text/plain": [
              "matrix([[ 1., 18.,  5., 27., 25.],\n",
              "        [15., 21., 27.,  8.,  1.],\n",
              "        [22.,  9., 14.,  7., 27.],\n",
              "        [ 6., 21., 14., 27., 27.]])"
            ]
          },
          "metadata": {},
          "execution_count": 49
        }
      ],
      "source": [
        "I = np.array([[ 1,  2, -3,  4,  5],\n",
        "              [-2, -5,  8, -8, -9],\n",
        "              [ 1,  2, -2,  7,  9],\n",
        "              [ 1,  1,  0,  6, 12],\n",
        "              [ 2,  4, -6,  8, 11]])\n",
        "I = np.matrix(I)\n",
        "I_ = np.linalg.inv(I) # matriz de codigo invertida\n",
        "M = np.array([[47,49,-19,257,487],\n",
        "              [10,-9,63,137,236 ],\n",
        "              [79,142,-184,372,536],\n",
        "              [59,70,-40,332,588]])\n",
        "M = np.matrix(M)\n",
        "#MI = # falta sacarle la inversa\n",
        "Q = M@I_\n",
        "# puedo hacer un array con las letras donde la 27 es le espacio y luego asignar\n",
        "\n",
        "#np.shape(I_), np.shape(M)#, np.shape(MI)\n",
        "Q = np.round(Q)\n",
        "Q"
      ]
    },
    {
      "cell_type": "code",
      "source": [
        "for i in range(len(Q)):\n"
      ],
      "metadata": {
        "colab": {
          "base_uri": "https://localhost:8080/"
        },
        "id": "c4p0MrKMvvJT",
        "outputId": "afefa96d-37f9-4662-a224-310321e4c072"
      },
      "execution_count": null,
      "outputs": [
        {
          "output_type": "execute_result",
          "data": {
            "text/plain": [
              "1.0"
            ]
          },
          "metadata": {},
          "execution_count": 51
        }
      ]
    },
    {
      "cell_type": "markdown",
      "metadata": {
        "id": "3cfNt2WrdUVZ"
      },
      "source": [
        "## Punto 2: **Operaciones matricial con regresión lineal.**\n",
        "\n",
        "Cuando se desea hacer una regresión lineal multivariada, existen diferentes formas de realizar la regresión, una de ellas es encontrar el error cuadrático medio y minimizar el conjunto de parámetros de la regresión emplando algún método de minimización; otra forma es encontrar la expresión analítica en forma matricial, para determinar el conjunto de parámetros de la regresión. En este último caso, la regresión lineal viene dada por la siguiente expresion generalizada:\n",
        "\n",
        "\n",
        "$$\\Theta = (X^T X)^{-1} X^T y$$\n",
        "\n",
        "donte $\\Theta$ es la matriz de parametros asociados a la regresión lineal, $X$ la matriz de características y $y$ los valos esperados, así, si tenemos una conjunto de datos en $N$ dimensiones; la recta, plano o hiperplano puede ser calculado como:\n",
        "\n",
        "$$Y=\\Theta^T X$$\n",
        "\n",
        "\n",
        "En el caso de dos dimensiones, supongamos que $X$, e $Y$ presentan un comportamiento lineal, y vienen dados por (en este caso el super indice es):\n",
        "\n",
        "\n",
        "- Sea $\\vec{X}=x^{(1)}, x^{(2)}, x^{(3)}, x^{(4)}, ..., x^{(m)}$\n",
        "- Sea $\\vec{Y}=y^{(1)}, y^{(2)}, y^{(3)}, y^{(4)}, ..., y^{(m)}$\n",
        "\n",
        "Para determinar la ecuación de la recta, hay que conocer los párametros $\\theta_0 $, $\\theta_1$, que cumplen que :   $y^{(i)} = \\theta_1 x^{(i)} + \\theta_0$ la anterior expresión puede ser escrita como:\n",
        "\n",
        "\\begin{equation}\n",
        "\\begin{bmatrix}\n",
        "y^{(1)}\\\\\n",
        "y^{(2)}\\\\\n",
        "\\vdots\\\\\n",
        "y^{(m)}\\\\\n",
        "\\end{bmatrix}=\n",
        "\\begin{bmatrix}\n",
        "\\theta_0 & \\theta_1 \\\\\n",
        "\\end{bmatrix}\n",
        "\\begin{bmatrix}\n",
        "1 & 1 & \\cdots & 1 \\\\\n",
        "x_1^{(1)} & x_1^{(2)} & \\cdots & x_1^{(m)} \\\\\n",
        "\\end{bmatrix}\n",
        "\\end{equation}\n",
        "\n",
        "\n",
        "Para determinar la matriz de theta entonces se puede aplicar la ecuación:\n",
        "\n",
        "$$\\Theta = (X^T X)^{-1} X^T y$$\n",
        "\n",
        "donde:\n",
        "\\begin{equation}\n",
        "X=\n",
        "\\begin{bmatrix}\n",
        "1 & x_1^{(1)} \\\\\n",
        "1 & x_1^{(2)} \\\\\n",
        "\\vdots & \\vdots \\\\\n",
        "1 & x_1^{(m)}\n",
        "\\end{bmatrix}\n",
        "\\end{equation}\n",
        "\n",
        "y\n",
        "\n",
        "\n",
        "\\begin{equation}\n",
        "y=\n",
        "\\begin{bmatrix}\n",
        "y^{(1)} \\\\\n",
        "y^{(2)} \\\\\n",
        "\\vdots\\\\\n",
        "y^{(m)}\n",
        "\\end{bmatrix}\n",
        "\\end{equation}\n",
        "\n",
        "Su tarea será construir un programa que realice la regresión lineal para los siguientes puntos:\n",
        "```python\n",
        "N = 10\n",
        "x1 = np.linspace(0, 10, N)\n",
        "noise=2*np.random.random(N)-1\n",
        "y = 0.9*x1 + noise\n",
        "```\n",
        "\n",
        "\n",
        "\n",
        "Generalice para el siguiente problema bidimensional:\n",
        "\n",
        "\n",
        "```python\n",
        "N = 10\n",
        "x1 = np.linspace(-1, 1, N)\n",
        "x2 = np.linspace(-2, 2, N)\n",
        "noise1=2*np.random.random(N)-1\n",
        "noise2=2*np.random.random(N)-1\n",
        "y = 2*(x1+noise1) - 3*(x2+noise2) + 0.0 #+ 4*np.random.random(100)\n",
        "\n",
        "N = 10\n",
        "X1, X2 = np.meshgrid(x1,x2)\n",
        "Y = 2*X1 - 3*X2 + 0.0\n",
        "fig, ax = plt.subplots(subplot_kw={\"projection\": \"3d\"})\n",
        "surf = ax.plot_surface(X1, X2, Y)\n",
        "#scatter = ax.scatter(x1, x2, y,\"-\")\n",
        "```"
      ]
    },
    {
      "cell_type": "code",
      "execution_count": null,
      "metadata": {
        "id": "kOkh1nsj0jVr"
      },
      "outputs": [],
      "source": [
        "N =10\n",
        "x1 = np.linspace(0,10, N)\n",
        "noise = 2*np.random.random(N)-1\n",
        "y = 0.9*x1 + noise"
      ]
    },
    {
      "cell_type": "code",
      "source": [
        "X = np.zeros((len(x1), 2))\n",
        "X[:,0] = 1 # la columna 1 la lleno de de 1\n",
        "X[:,1] = x1 # la columna 2 la lleno de los valores de x1\n",
        "X = np.matrix(X)\n",
        "X"
      ],
      "metadata": {
        "colab": {
          "base_uri": "https://localhost:8080/"
        },
        "id": "GVJ-VvTjEkNi",
        "outputId": "6008bbdb-1d53-4728-ddd5-e185120aa017"
      },
      "execution_count": null,
      "outputs": [
        {
          "output_type": "execute_result",
          "data": {
            "text/plain": [
              "matrix([[ 1.        ,  0.        ],\n",
              "        [ 1.        ,  1.11111111],\n",
              "        [ 1.        ,  2.22222222],\n",
              "        [ 1.        ,  3.33333333],\n",
              "        [ 1.        ,  4.44444444],\n",
              "        [ 1.        ,  5.55555556],\n",
              "        [ 1.        ,  6.66666667],\n",
              "        [ 1.        ,  7.77777778],\n",
              "        [ 1.        ,  8.88888889],\n",
              "        [ 1.        , 10.        ]])"
            ]
          },
          "metadata": {},
          "execution_count": 8
        }
      ]
    },
    {
      "cell_type": "code",
      "source": [
        "theta = np.linalg.inv(X.T @ X) @ X.T @ y\n",
        "sy.Matrix(theta)"
      ],
      "metadata": {
        "colab": {
          "base_uri": "https://localhost:8080/",
          "height": 38
        },
        "id": "HYAX_717EpTD",
        "outputId": "bdb148ec-9e6e-49aa-858f-c0051681a2ba"
      },
      "execution_count": null,
      "outputs": [
        {
          "output_type": "execute_result",
          "data": {
            "text/plain": [
              "Matrix([[0.0643889025827127, 0.951248949087686]])"
            ],
            "text/latex": "$\\displaystyle \\left[\\begin{matrix}0.0643889025827127 & 0.951248949087686\\end{matrix}\\right]$"
          },
          "metadata": {},
          "execution_count": 9
        }
      ]
    },
    {
      "cell_type": "code",
      "source": [
        "Y = theta @ X.T # los valores de la transpuesta es X, corregir\n",
        "sy.Matrix(Y)"
      ],
      "metadata": {
        "colab": {
          "base_uri": "https://localhost:8080/",
          "height": 38
        },
        "id": "onH8xTpREvSm",
        "outputId": "64fb15eb-ff0f-4a59-e565-55343af86b30"
      },
      "execution_count": null,
      "outputs": [
        {
          "output_type": "execute_result",
          "data": {
            "text/plain": [
              "Matrix([[0.0643889025827127, 1.12133217934681, 2.1782754561109, 3.235218732875, 4.2921620096391, 5.34910528640319, 6.40604856316729, 7.46299183993138, 8.51993511669548, 9.57687839345957]])"
            ],
            "text/latex": "$\\displaystyle \\left[\\begin{matrix}0.0643889025827127 & 1.12133217934681 & 2.1782754561109 & 3.235218732875 & 4.2921620096391 & 5.34910528640319 & 6.40604856316729 & 7.46299183993138 & 8.51993511669548 & 9.57687839345957\\end{matrix}\\right]$"
          },
          "metadata": {},
          "execution_count": 10
        }
      ]
    },
    {
      "cell_type": "code",
      "source": [
        "plt.plot(x1, y, 'r*', label = 'Datos')\n",
        "plt.plot(x1, Y.T, 'k--', label = 'Regresion lineal')\n",
        "plt. grid()\n",
        "plt.legend()\n",
        "plt.show()"
      ],
      "metadata": {
        "colab": {
          "base_uri": "https://localhost:8080/",
          "height": 430
        },
        "id": "LpzKvaTuEyRi",
        "outputId": "7e8ae44a-dab8-424e-9b7d-dfd2c8f229b9"
      },
      "execution_count": null,
      "outputs": [
        {
          "output_type": "display_data",
          "data": {
            "text/plain": [
              "<Figure size 640x480 with 1 Axes>"
            ],
            "image/png": "[encoded data removed]"
          },
          "metadata": {}
        }
      ]
    },
    {
      "cell_type": "code",
      "source": [
        "N = 16\n",
        "x1 = np.linspace(-1, 1, N)\n",
        "x2 = np.linspace(-2, 2, N)\n",
        "noise1=2*np.random.random(N)-1\n",
        "noise2=2*np.random.random(N)-1\n",
        "y = 2*(x1+noise1) - 3*(x2+noise2) + 0.0 #+ 4*np.random.random(100)\n",
        "\n",
        "X = np.zeros((len(x1), 3))\n",
        "X[:, 0] = 1\n",
        "X[:, 1] = x1\n",
        "X[:, 2] = x2\n",
        "X = np.matrix(X)\n",
        "C = sy.Matrix(X)\n",
        "X"
      ],
      "metadata": {
        "colab": {
          "base_uri": "https://localhost:8080/"
        },
        "id": "b0CovXziEzb2",
        "outputId": "abaaf70e-d79c-473f-9d42-8e6d56f5a5ba"
      },
      "execution_count": null,
      "outputs": [
        {
          "output_type": "execute_result",
          "data": {
            "text/plain": [
              "matrix([[ 1.        , -1.        , -2.        ],\n",
              "        [ 1.        , -0.86666667, -1.73333333],\n",
              "        [ 1.        , -0.73333333, -1.46666667],\n",
              "        [ 1.        , -0.6       , -1.2       ],\n",
              "        [ 1.        , -0.46666667, -0.93333333],\n",
              "        [ 1.        , -0.33333333, -0.66666667],\n",
              "        [ 1.        , -0.2       , -0.4       ],\n",
              "        [ 1.        , -0.06666667, -0.13333333],\n",
              "        [ 1.        ,  0.06666667,  0.13333333],\n",
              "        [ 1.        ,  0.2       ,  0.4       ],\n",
              "        [ 1.        ,  0.33333333,  0.66666667],\n",
              "        [ 1.        ,  0.46666667,  0.93333333],\n",
              "        [ 1.        ,  0.6       ,  1.2       ],\n",
              "        [ 1.        ,  0.73333333,  1.46666667],\n",
              "        [ 1.        ,  0.86666667,  1.73333333],\n",
              "        [ 1.        ,  1.        ,  2.        ]])"
            ]
          },
          "metadata": {},
          "execution_count": 12
        }
      ]
    },
    {
      "cell_type": "code",
      "source": [
        "the = np.linalg.inv(X.T @ X) @ X.T @ y\n",
        "sy.Matrix(the)"
      ],
      "metadata": {
        "colab": {
          "base_uri": "https://localhost:8080/",
          "height": 38
        },
        "id": "K5B_KWKJEzkh",
        "outputId": "a73b797d-3461-4219-f375-822ce266a92e"
      },
      "execution_count": null,
      "outputs": [
        {
          "output_type": "execute_result",
          "data": {
            "text/plain": [
              "Matrix([[0.718377438985849, -1.12033261981014, -1.9327814606948]])"
            ],
            "text/latex": "$\\displaystyle \\left[\\begin{matrix}0.718377438985849 & -1.12033261981014 & -1.9327814606948\\end{matrix}\\right]$"
          },
          "metadata": {},
          "execution_count": 13
        }
      ]
    },
    {
      "cell_type": "code",
      "source": [
        "Y2 = the @ X.T\n",
        "Y2"
      ],
      "metadata": {
        "colab": {
          "base_uri": "https://localhost:8080/"
        },
        "id": "9ukObP2yEzsj",
        "outputId": "f7fb4b49-f9de-4db0-9383-b30cf6796550"
      },
      "execution_count": null,
      "outputs": [
        {
          "output_type": "execute_result",
          "data": {
            "text/plain": [
              "matrix([[ 5.70427298,  5.03948691,  4.37470084,  3.70991476,  3.04512869,\n",
              "          2.38034262,  1.71555655,  1.05077048,  0.3859844 , -0.27880167,\n",
              "         -0.94358774, -1.60837381, -2.27315989, -2.93794596, -3.60273203,\n",
              "         -4.2675181 ]])"
            ]
          },
          "metadata": {},
          "execution_count": 35
        }
      ]
    },
    {
      "cell_type": "code",
      "source": [
        "N = 16\n",
        "X1, X2 = np.meshgrid(x1, x2)\n",
        "Y2 = 2*X1 - 3*X2 + 0.0\n",
        "fig, ax = plt.subplots(subplot_kw={'projection': '3d'})\n",
        "surf = ax.plot_surface(X1,X2, Y2)"
      ],
      "metadata": {
        "colab": {
          "base_uri": "https://localhost:8080/",
          "height": 415
        },
        "id": "LauZee9BEz1q",
        "outputId": "8a031db7-bb7b-4e8a-ca48-c375d9a80707"
      },
      "execution_count": null,
      "outputs": [
        {
          "output_type": "display_data",
          "data": {
            "text/plain": [
              "<Figure size 640x480 with 1 Axes>"
            ],
            "image/png": "[encoded data removed]"
          },
          "metadata": {}
        }
      ]
    },
    {
      "cell_type": "markdown",
      "metadata": {
        "id": "Ajzpg16pd-Ul"
      },
      "source": [
        "## Punto 3: **Diagonalización**.\n",
        "\n",
        "Se sabe que un sistema físico es gobernado por las ecuaciones,\n",
        "\n",
        "\n",
        "\n",
        "$$\n",
        "\\begin{matrix}\n",
        "x' &=& 2x&-y&+z, \\\\\n",
        "y' &=&   &3y&-1z, \\\\\n",
        "z' &=& 2x&+y&+3z,\n",
        "\\end{matrix}\n",
        "$$\n",
        "\n",
        "donde $x',y',z'$ son las derivadas, en forma vectorial esto se puede representar como $\\mathbf{r}'=A\\mathbf{r}$ que tiene solución analítica general, $\\mathbf{r} = e^{At} \\mathbf{r}(0)$.\n",
        "\n",
        "a) Diagonalize $A$.\n",
        "\n",
        "b) Use el hecho de que $f(A) =U f(D) U^{-1}$ para encontrar $x(t),y(t),z(t)$ en el intervalo de tiempo $[0,2]$.\n",
        "\n",
        "c) Grafique $x(t),y(t),z(t)$ (use la condición inicial $\\mathbf{r}(0)=(1,1,2))$.\n",
        "\n",
        "d) Compare el resultado a la solución analítica,\n",
        "\n",
        "$$\n",
        "\\begin{align}\n",
        "2x & = x(0)(e^{2t}(1+e^{2t}-2t)) + y(0) (-2te^{2t}) + z(0)(e^{2t}(-1+e^{2t})), \\\\\n",
        "2y & = x(0)(-e^{2t}(-1+e^{2t}-2t)) + y(0)(2(t+1)e^{2t}) + z(0)(-e^{2t}(-1+e^{2t})), \\\\\n",
        "2z & = x(0)(e^{2t}(-1+e^{2t}+2t)) + y(0)(2te^{2t}) + z(0)(e^{2t}(1+e^{2t})).\n",
        "\\end{align}\n",
        "$$"
      ]
    },
    {
      "cell_type": "code",
      "source": [],
      "metadata": {
        "id": "uaKKmjrHExXl"
      },
      "execution_count": null,
      "outputs": []
    },
    {
      "cell_type": "code",
      "execution_count": null,
      "metadata": {
        "id": "gFlAdeASeQnu"
      },
      "outputs": [],
      "source": []
    },
    {
      "cell_type": "markdown",
      "metadata": {
        "id": "VCfTmYWleO0V"
      },
      "source": [
        "## Punto 4: **Modelo de población de una especie de pajaros**\n",
        "Se estudiará un modelo de crecimiento de la poblacion para una especie de pájaros. En esta población se supone que el número de pajaros hembras es igual al número de machos.  Sea :\n",
        "- $p_{j,n-1}$ la poblacion juvenil (inmadura) de hembras en el año (n-1)\n",
        "- $p_{a,n-1}$ el numero de hembras adultas en el mismo año.\n",
        "\n",
        "Algunos de los pájaros jóvenes morirán  durante el año. Se suponen que cierta proporción de pájaros $\\alpha$ de los pájaros jovenes sobrevivirán para llegar a adultos en la primavera del año $n$. Cada hembra que sobrevive prdocuce huevos en la primavera, los incupan y producen, en promedio, $k$ pájaros hembras jóvenes en al siguiente primavera. Los adultos también mueren y la proporcion de adultos que sobrevive de una primavera a la siguiente es $\\beta$.\n",
        "\n",
        "Un modelo para el crecimiento poblacional de pajaros\n",
        "\\begin{equation}\n",
        "p_{j,n} = kp_{a, n-1}\n",
        "\\end{equation}\n",
        "\n",
        "\n",
        "\\begin{equation}\n",
        "p_{a,n} =\\alpha p_{j,n-1} + \\beta p_{a, n-1}\n",
        "\\end{equation}\n",
        "\n",
        "Que puede ser escrita como ${\\bf p_n}=A{\\bf p_{n-1}}$, Siendo A la matrix definida en las ecuaciones anteriores, y ${\\bf p_n}$ un vector. Para la evolución temporal se cumple que:\n",
        "\n",
        "- ${\\bf p_1}=A{\\bf p_{0}}$, ${\\bf p_2}=A{\\bf p_{1}}= A(A{\\bf p_0})=A^2{\\bf p_{0}}$ $...$ y asi sucesivamente. Entonces:\n",
        "\n",
        "\\begin{equation}\n",
        "{\\bf p_n} = A^n {\\bf p_{0}}\n",
        "\\end{equation}\n",
        "\n",
        "\n",
        "Supongamos que tenemos 10 hembras  (y 10 machos) adultos y no hay jovenes, la supongmaos que la matriz A viene dada por:\n",
        "\n",
        "\\begin{bmatrix}\n",
        "0 & 2 \\\\\n",
        "0.3 & 0.5\n",
        "\\end{bmatrix}\n",
        "\n",
        "para la primera poblacion $p_{j,1}=20$, $p_{a,1}=5$, el total de hembras es 25 y la razón jovenes adultas es de 4 a 1. Muestre que la razon $p_{j,n}/p_{a,n}$ converge $1.88$,(como no se puede tener un número racional de pájaros,. aproxime siempre el resultados al menor entero).\n",
        "\n",
        "- Para la  solución general del modelo del problema de valores y vetores propios\n",
        "se tiene que:\n",
        "\\begin{equation}\n",
        "p_n=\\lambda_1^n\\left [ a_1 \\vec{v}_1 +\\left( \\frac{\\lambda_2}{\\lambda_1} \\right)^n \\right]a_2 \\vec{v}_2\n",
        "\\end{equation}\n",
        "\n",
        "Asumiendo que $\\lambda_2/ \\lambda_1 < 1$, entonces $(\\lambda_2/ \\lambda_1)^n << 1$ cuando n crece.  Entonce spara n grande se cumple que:\n",
        "\n",
        "donde $p_n=a_1\\lambda_1^n\\vec{v}_1$\n",
        "\n",
        "\n",
        "donde:\n",
        "\n",
        "${\\bf p_0} = a_1 \\vec{v}_1 + a_2 \\vec{v}_2$, con $v_1$ y $v_2$ vectores propios de A"
      ]
    },
    {
      "cell_type": "code",
      "execution_count": null,
      "metadata": {
        "id": "V5W0bcGy0pNJ"
      },
      "outputs": [],
      "source": []
    }
  ],
  "metadata": {
    "colab": {
      "provenance": []
    },
    "kernelspec": {
      "display_name": "Python 3 (ipykernel)",
      "language": "python",
      "name": "python3"
    },
    "language_info": {
      "codemirror_mode": {
        "name": "ipython",
        "version": 3
      },
      "file_extension": ".py",
      "mimetype": "text/x-python",
      "name": "python",
      "nbconvert_exporter": "python",
      "pygments_lexer": "ipython3",
      "version": "3.10.9"
    }
  },
  "nbformat": 4,
  "nbformat_minor": 0
}