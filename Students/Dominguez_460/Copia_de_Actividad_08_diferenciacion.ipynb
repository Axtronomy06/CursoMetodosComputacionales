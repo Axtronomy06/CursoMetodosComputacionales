{
  "cells": [
    {
      "cell_type": "markdown",
      "metadata": {
        "id": "NCx8KEwrIRxy"
      },
      "source": [
        "<a href=\"https://colab.research.google.com/github/hernansalinas/autogrades/blob/main/Actividades_clase/Actividad_08_diferenciacion.ipynb\" target=\"_parent\"><img src=\"https://colab.research.google.com/assets/colab-badge.svg\" alt=\"Open In Colab\"/></a>"
      ]
    },
    {
      "cell_type": "markdown",
      "metadata": {
        "id": "OmQK_OJm5k08"
      },
      "source": [
        "# Calculo de derivadas\n",
        "\n",
        "\n",
        "## Diferencias finitas de primer orden\n",
        "El método de diferencias finitas aproxima derivadas numéricamente.\n",
        "\n",
        "\n",
        "- Aproximación de primer orden hacia adelante:\n",
        "\n",
        "\\begin{equation}\n",
        "      f'(x_k) \\approx \\frac{f(x_{k+1}) - f(x_k)}{h}\n",
        "\\end{equation}\n",
        "\n",
        "- Aproximación de primer orden hacia atrás:\n",
        "\n",
        "\\begin{equation}\n",
        "      f'(x_k) \\approx \\frac{f(x_k) - f(x_{k-1})}{h}\n",
        "\\end{equation}\n",
        "\n",
        "\n",
        "\n",
        "\\begin{equation}\n",
        "\\text{Error} = \\frac{h}{2} f''(\\xi)\n",
        "\\end{equation}\n",
        "\n",
        "donde $x$ está entre $x_k$ y $x_{k+1}$.\n",
        "## Diferencias finitas de segundo orden, diferencia central\n",
        "\n",
        "\n",
        "Utilizando la fórmula de Taylor de segundo grado:\n",
        "\\begin{equation}\n",
        "f(x) = f(x_k) + f'(x_k)(x - x_k) + \\frac{f''(x_k)}{2}(x - x_k)^2 + R_2\n",
        "\\end{equation}\n",
        "\n",
        "Evaluando en $x = x_{k+1} y x = x_{k-1}$:\n",
        "\\begin{equation}\n",
        "f(x_{k+1}) = f(x_k) + f'(x_k)h + \\frac{f''(x_k)}{2}h^2 + O(h^3)\n",
        "\\end{equation}\n",
        "\n",
        "\\begin{equation}\n",
        "f(x_{k-1}) = f(x_k) - f'(x_k)h + \\frac{f''(x_k)}{2}h^2 + O(h^3)\n",
        "\\end{equation}\n",
        "\n",
        "Restando estas ecuaciones y despejando $f'(x_k)$:\n",
        "\n",
        "\\begin{equation}\n",
        "f'(x_k) \\approx \\frac{f(x_{k+1}) - f(x_{k-1})}{2h}\n",
        "\\end{equation}\n",
        "\n",
        "\n",
        "\n",
        "\n",
        "El error en la la aproximación de segundo orden es:\n",
        "\\begin{equation}\n",
        "f'(x_k) \\approx \\frac{f(x_{k+1}) - f(x_{k-1})}{2h}\n",
        "\\end{equation}\n",
        "\n",
        "El error de truncamiento es:\n",
        "\\begin{equation}\n",
        "\\text{Error} = \\frac{h^2}{6} f'''(\\xi)\n",
        "\\end{equation}\n",
        "\n",
        "donde $\\xi$ está entre $x_{k-1}$ y $x_{k+1}$."
      ]
    },
    {
      "cell_type": "markdown",
      "metadata": {
        "id": "Whc2Zv4IEKRL"
      },
      "source": [
        "\n",
        "# Actividad\n",
        "\n",
        "1. Construya una función que permita calcular la derivada de una funcion empleando el metodo de diferencias centrales para aproximar el cálculo de la derivada con la función:\n",
        "\n",
        "$y=e^{x^2}\\sin x $\n",
        "\n",
        "Compruebe  su solución empleando la derivada de sympy.\n",
        "\n",
        "Analice que  pasa con la derivada cuando varia el valor de h.\n",
        "\n",
        "\n",
        "2. Construya una función que permita calcular el método de diferencias centrales derivada para los siguientes puntos experimentales, emplee una pandas.\n",
        "\n",
        "https://raw.githubusercontent.com/hernansalinas/autogradesMetodosComputacionales/main/Dataset/datos_pendulo.csv\n",
        "\n"
      ]
    },
    {
      "cell_type": "markdown",
      "metadata": {
        "id": "dzs4T6lzD2OZ"
      },
      "source": [
        "3. El potencial eléctrico de un anillo de radio R, en la parte superior z del anillo viene dado por:\n",
        "\n",
        "\n",
        "\\begin{equation}\n",
        "V = \\frac{kq_{tot}z}{\\sqrt{z^2+R^2}}\n",
        "\\end{equation}\n",
        "\n",
        "Calcule el campo eléctrico para z>0 y R=0.1mm. Reescale el problema en unidades de $kq_{top}$ empleando:\n",
        "\n",
        "1. La librearia sympy.\n",
        "\n",
        "2. Calcular el campo en el punto  $z = 0.1mm$ empleando el metodo np.grad\n",
        "\n",
        "3. Calcular el campo para diferentes valores de z con z>0,,  empleando np.grad Construya un gráfico de E vs z.\n"
      ]
    },
    {
      "cell_type": "code",
      "execution_count": 1,
      "metadata": {
        "id": "FXwafGtSDx7i"
      },
      "outputs": [],
      "source": [
        "import numpy as np\n",
        "import matplotlib.pylab as plt\n",
        "import sympy as sp\n",
        "def Diff_C(fun, x, h):\n",
        "  \"\"\"\n",
        "  Esta funcin emplea el metodo de diferencias centrales para el calclo de la derivada\n",
        "  Input:\n",
        "    fun: Funcion para el cauclo de la derivada\n",
        "    x:  Punto en el que realizaremos el calculo de la derivada\n",
        "    h:  diferencias dx\n",
        "  OutpuT: Derivada\n",
        "  \"\"\"\n",
        "\n",
        "  derivada = (fun(x+h)-fun(x-h))/(2*h)\n",
        "  return derivada\n",
        "\n",
        "def D_simbolica(fun, z, orden):\n",
        "  ds = sp.diff(fun_s(z), z,1 )   # DErivada con sympy\n",
        "  dsn = sp.lambdify(z,ds)\n",
        "  return dsn"
      ]
    },
    {
      "cell_type": "code",
      "source": [
        "fun = lambda x:np.exp(x**2)*np.sin(x)\n",
        "z=sp.Symbol(\"z\")\n",
        "fun_s = lambda z:sp.exp(z**2)*sp.sin(z)\n",
        "\n",
        "x=np.linspace(-1, 1,1000)\n",
        "derivada = Diff_C(fun, x, h=1) # Numpy\n",
        "ds = D_simbolica(fun, z, 1)(x)\n"
      ],
      "metadata": {
        "id": "h3LAmMsn-B1B"
      },
      "execution_count": 2,
      "outputs": []
    },
    {
      "cell_type": "code",
      "source": [
        "fun = lambda x:np.exp(x**2)*np.sin(x)\n",
        "x=np.linspace(-1, 1,1000)\n",
        "\n",
        "fig, axs = plt.subplots(figsize=(10,4), ncols=2, nrows=1)\n",
        "ax=axs.flatten()\n",
        "ax[0].plot(x, fun(x))\n",
        "ax[0].set_ylabel(\"f(x)\")\n",
        "ax[0].set_xlabel(\"x\")\n",
        "\n",
        "derivada = Diff_C(fun, x, h=1E-2)\n",
        "ax[1].plot(x, derivada)\n",
        "derivada = Diff_C(fun, x, h=1)\n",
        "ax[1].plot(x, derivada)\n",
        "ax[1].set_ylabel(\"fp(x)\")\n",
        "ax[1].set_xlabel(\"x\")\n",
        "plt.show()"
      ],
      "metadata": {
        "id": "tQhp97Ud-EJZ",
        "colab": {
          "base_uri": "https://localhost:8080/",
          "height": 388
        },
        "outputId": "bb1fec3c-e88b-4077-cc03-16579fb7673f"
      },
      "execution_count": 3,
      "outputs": [
        {
          "output_type": "display_data",
          "data": {
            "text/plain": [
              "<Figure size 1000x400 with 2 Axes>"
            ],
            "image/png": "[encoded data removed]"
          },
          "metadata": {}
        }
      ]
    },
    {
      "cell_type": "code",
      "execution_count": null,
      "metadata": {
        "id": "dPGmqGCIDK2n"
      },
      "outputs": [],
      "source": []
    }
  ],
  "metadata": {
    "colab": {
      "provenance": []
    },
    "kernelspec": {
      "display_name": "Python 3 (ipykernel)",
      "language": "python",
      "name": "python3"
    },
    "language_info": {
      "codemirror_mode": {
        "name": "ipython",
        "version": 3
      },
      "file_extension": ".py",
      "mimetype": "text/x-python",
      "name": "python",
      "nbconvert_exporter": "python",
      "pygments_lexer": "ipython3",
      "version": "3.10.9"
    }
  },
  "nbformat": 4,
  "nbformat_minor": 0
}