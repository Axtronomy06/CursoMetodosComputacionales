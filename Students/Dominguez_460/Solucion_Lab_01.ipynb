{
  "cells": [
    {
      "cell_type": "markdown",
      "metadata": {
        "id": "GUTNoRgHTjfg"
      },
      "source": [
        "<a href=\"https://colab.research.google.com/github/hernansalinas/autogradesMetodosComputacionales/blob/main/Laboratorios_Taller/Lab01_python_basico01.ipynb\" target=\"_parent\"><img src=\"https://colab.research.google.com/assets/colab-badge.svg\" alt=\"Open In Colab\"/></a>\n",
        "\n",
        "\n",
        "\n",
        "\n",
        "# Laboratorio 01\n",
        "### Métodos computacionales para físicos  y astrónomos\n",
        "### Universidad de Antioquia\n",
        "### Profesores:\n",
        "### Hernan D. Salinas Jiménez\n",
        "### Juan Marcos Marin\n"
      ]
    },
    {
      "cell_type": "code",
      "execution_count": null,
      "metadata": {
        "id": "NmGdQYCBL7cs",
        "colab": {
          "base_uri": "https://localhost:8080/"
        },
        "outputId": "d1966f8b-8676-41ca-ba09-0e05a9914cf0"
      },
      "outputs": [
        {
          "output_type": "stream",
          "name": "stdout",
          "text": [
            "Cloning into 'autogradesMetodosComputacionales'...\n",
            "remote: Enumerating objects: 922, done.\u001b[K\n",
            "remote: Counting objects: 100% (222/222), done.\u001b[K\n",
            "remote: Compressing objects: 100% (145/145), done.\u001b[K\n",
            "remote: Total 922 (delta 147), reused 143 (delta 74), pack-reused 700\u001b[K\n",
            "Receiving objects: 100% (922/922), 38.83 MiB | 39.25 MiB/s, done.\n",
            "Resolving deltas: 100% (547/547), done.\n"
          ]
        }
      ],
      "source": [
        "# Ejecutar esta celda antes de cada laboratorio\n",
        "!git clone https://github.com/hernansalinas/autogradesMetodosComputacionales.git\n",
        "path1=f\"autogradesMetodosComputacionales/Laboratorios_Taller/libs/\"\n",
        "path2=f\"autogradesMetodosComputacionales/Laboratorios_Taller/libs/Lab_autotesting01/\"\n",
        "%run -i {path1}libUnitTest.py"
      ]
    },
    {
      "cell_type": "markdown",
      "metadata": {
        "id": "OkdTI9KQ8MLN"
      },
      "source": [
        "# Operaciones básicas en python.\n",
        "\n",
        "\n",
        "### Definicion de variables\n",
        "1. Definir una variable x tipo entero.\n",
        "2. Definir una variable y tipo float\n",
        "3. Definir una variable z tipo string."
      ]
    },
    {
      "cell_type": "code",
      "execution_count": null,
      "metadata": {
        "id": "nOYa9UQquq4d"
      },
      "outputs": [],
      "source": [
        "# Defina la variables en esta celda\n",
        "\n",
        "x = 2\n",
        "y = 2.0\n",
        "z = \"2\""
      ]
    },
    {
      "cell_type": "code",
      "execution_count": null,
      "metadata": {
        "id": "aod54z2z-ZeY",
        "colab": {
          "base_uri": "https://localhost:8080/",
          "height": 209
        },
        "outputId": "ab83e24e-f317-49d4-8621-95716901ed16"
      },
      "outputs": [
        {
          "output_type": "display_data",
          "data": {
            "text/plain": [
              "<IPython.core.display.HTML object>"
            ],
            "text/html": [
              "<style>\n",
              "  table { text-align: left; border-collapse: collapse; margin: 1em; caption-side: bottom; font-family: Sans-Serif; font-size: 12px}\n",
              "  caption { text-align: left; padding: 5px }\n",
              "  th, td { border: 2px solid #BFC9CA; padding: 5px }\n",
              "  th { background-color: #BFC9CA }\n",
              "  .passed { background-color: #76D7C4 }\n",
              "  .failed { background-color: #EC7063 }\n",
              "  .skipped { background-color: #EDBB99 }\n",
              "  .score { background-color: #7DCEA0 }\n",
              "  .results .points { display: none }\n",
              "  .results .message { display: block; font-size:smaller; color:#D35400 }\n",
              "  .results .note { display: block; font-size:smaller; font-decoration:italics }\n",
              "  .results .passed::before  { content: \"Passed\" } \n",
              "  .results .skipped::before  { content: \"Skipped\" } \n",
              "  .results .failed::before  { content: \"Failed\" } \n",
              "  .grade .passed  .message:empty::before { content:\"Passed\" }\n",
              "  .grade .failed  .message:empty::before { content:\"Failed\" }\n",
              "  .grade .skipped .message:empty::before { content:\"Skipped\" }   \n",
              "</style>\n",
              "<table class='results'>\n",
              "  <th class='test'>Test</th><th class='result'>Result</th></tr>\n",
              "<tr>\n",
              "  <td class='test'>\n",
              "    Definir x como un numero entero\n",
              "    <div class='message'>Done</div>\n",
              "  </td>\n",
              "  <td class='result passed'></td>\n",
              "</tr>\n",
              "<tr>\n",
              "  <td class='test'>\n",
              "    Defiir y como una variable tipo float\n",
              "    <div class='message'>Done</div>\n",
              "  </td>\n",
              "  <td class='result passed'></td>\n",
              "</tr>\n",
              "<tr>\n",
              "  <td class='test'>\n",
              "    Definir z como un string\n",
              "    <div class='message'>Done</div>\n",
              "  </td>\n",
              "  <td class='result passed'></td>\n",
              "</tr>  <tr><th class='score'>Total Points</th><th class='score'>3</th></tr></table>\n"
            ]
          },
          "metadata": {}
        }
      ],
      "source": [
        "# Ejecute la presente celda para probar su solucion\n",
        "%run -i {path2}/test01.py"
      ]
    },
    {
      "cell_type": "markdown",
      "metadata": {
        "id": "9JTEaQro_I8E"
      },
      "source": [
        "\n",
        "\n",
        "###  Creación de Funciones\n",
        "4. Crear una función con el nombre mul_lambda tipo lambda que multiple dos enteros, el resultado deberá ser un número entero.  \n",
        "\n",
        "Ejemplo de ejecución:\n",
        "\n",
        "```python\n",
        "\n",
        "mul_lambda(a,b)\n",
        "#donde a, y b son numeros enteros\n",
        "\n",
        "```\n",
        "\n",
        "\n",
        "5. Crear una función explicita con el nombre de sum_int, que realice la suma de dos números enteros\n",
        "\n",
        "Ejemplo de ejecución:\n",
        "\n",
        "```python\n",
        "\n",
        "sum_int(a,b)\n",
        "#donde a, y b son numeros enteros\n",
        "\n",
        "```\n",
        "\n"
      ]
    },
    {
      "cell_type": "code",
      "execution_count": null,
      "metadata": {
        "id": "zuTTQ1gmvl3O"
      },
      "outputs": [],
      "source": [
        "# Escriba las funciones en esta celda\n",
        "def sum_int(a,b):\n",
        "  c = a+b\n",
        "  return c\n",
        "\n",
        "def mul_lambda(a,b):\n",
        "  return a*b"
      ]
    },
    {
      "cell_type": "code",
      "execution_count": null,
      "metadata": {
        "id": "lSsnEjAx_Gay",
        "colab": {
          "base_uri": "https://localhost:8080/",
          "height": 171
        },
        "outputId": "d0d399fb-d9e6-4f78-d0a1-a1985e512c1a"
      },
      "outputs": [
        {
          "output_type": "display_data",
          "data": {
            "text/plain": [
              "<IPython.core.display.HTML object>"
            ],
            "text/html": [
              "<style>\n",
              "  table { text-align: left; border-collapse: collapse; margin: 1em; caption-side: bottom; font-family: Sans-Serif; font-size: 12px}\n",
              "  caption { text-align: left; padding: 5px }\n",
              "  th, td { border: 2px solid #BFC9CA; padding: 5px }\n",
              "  th { background-color: #BFC9CA }\n",
              "  .passed { background-color: #76D7C4 }\n",
              "  .failed { background-color: #EC7063 }\n",
              "  .skipped { background-color: #EDBB99 }\n",
              "  .score { background-color: #7DCEA0 }\n",
              "  .results .points { display: none }\n",
              "  .results .message { display: block; font-size:smaller; color:#D35400 }\n",
              "  .results .note { display: block; font-size:smaller; font-decoration:italics }\n",
              "  .results .passed::before  { content: \"Passed\" } \n",
              "  .results .skipped::before  { content: \"Skipped\" } \n",
              "  .results .failed::before  { content: \"Failed\" } \n",
              "  .grade .passed  .message:empty::before { content:\"Passed\" }\n",
              "  .grade .failed  .message:empty::before { content:\"Failed\" }\n",
              "  .grade .skipped .message:empty::before { content:\"Skipped\" }   \n",
              "</style>\n",
              "<table class='results'>\n",
              "  <th class='test'>Test</th><th class='result'>Result</th></tr>\n",
              "<tr>\n",
              "  <td class='test'>\n",
              "    Crear una funcion que multiplique dos números\n",
              "    <div class='message'>Done</div>\n",
              "  </td>\n",
              "  <td class='result passed'></td>\n",
              "</tr>\n",
              "<tr>\n",
              "  <td class='test'>\n",
              "    Crear una funcion que sume dos números\n",
              "    <div class='message'>Done</div>\n",
              "  </td>\n",
              "  <td class='result passed'></td>\n",
              "</tr>  <tr><th class='score'>Total Points</th><th class='score'>2</th></tr></table>\n"
            ]
          },
          "metadata": {}
        }
      ],
      "source": [
        "%run -i {path2}/test02.py"
      ]
    },
    {
      "cell_type": "markdown",
      "metadata": {
        "id": "uu42QkJsCQMb"
      },
      "source": [
        "\n",
        "###  Números complejos\n",
        "\n",
        "6. Defina un número complejo w.\n",
        "7. Retorne la parte imaginaria de w, almacenela en una variable w_img\n",
        "8. Retorne la parte real de w, almacenela en una variable w_real.\n",
        "9. Retorne el complejo conjugado de w, almacenla en una varible w_con.\n"
      ]
    },
    {
      "cell_type": "code",
      "execution_count": null,
      "metadata": {
        "id": "1InwYykmwngw",
        "colab": {
          "base_uri": "https://localhost:8080/"
        },
        "outputId": "8373df2d-6640-4c6b-efdd-fb517e1d709b"
      },
      "outputs": [
        {
          "output_type": "stream",
          "name": "stdout",
          "text": [
            "(5+2j)\n"
          ]
        }
      ],
      "source": [
        "# Escriba acá su solución\n",
        "w = complex(5,2)\n",
        "print(w)\n",
        "w_img = w.imag\n",
        "w_real = w.real\n",
        "w_con = w.conjugate()"
      ]
    },
    {
      "cell_type": "code",
      "execution_count": null,
      "metadata": {
        "id": "jx3J6yE1Kwki",
        "colab": {
          "base_uri": "https://localhost:8080/",
          "height": 248
        },
        "outputId": "ad1f4914-1c9e-4e63-d7b5-afcd72349abf"
      },
      "outputs": [
        {
          "output_type": "display_data",
          "data": {
            "text/plain": [
              "<IPython.core.display.HTML object>"
            ],
            "text/html": [
              "<style>\n",
              "  table { text-align: left; border-collapse: collapse; margin: 1em; caption-side: bottom; font-family: Sans-Serif; font-size: 12px}\n",
              "  caption { text-align: left; padding: 5px }\n",
              "  th, td { border: 2px solid #BFC9CA; padding: 5px }\n",
              "  th { background-color: #BFC9CA }\n",
              "  .passed { background-color: #76D7C4 }\n",
              "  .failed { background-color: #EC7063 }\n",
              "  .skipped { background-color: #EDBB99 }\n",
              "  .score { background-color: #7DCEA0 }\n",
              "  .results .points { display: none }\n",
              "  .results .message { display: block; font-size:smaller; color:#D35400 }\n",
              "  .results .note { display: block; font-size:smaller; font-decoration:italics }\n",
              "  .results .passed::before  { content: \"Passed\" } \n",
              "  .results .skipped::before  { content: \"Skipped\" } \n",
              "  .results .failed::before  { content: \"Failed\" } \n",
              "  .grade .passed  .message:empty::before { content:\"Passed\" }\n",
              "  .grade .failed  .message:empty::before { content:\"Failed\" }\n",
              "  .grade .skipped .message:empty::before { content:\"Skipped\" }   \n",
              "</style>\n",
              "<table class='results'>\n",
              "  <th class='test'>Test</th><th class='result'>Result</th></tr>\n",
              "<tr>\n",
              "  <td class='test'>\n",
              "    Definir w como un número complejo\n",
              "    <div class='message'>Done</div>\n",
              "  </td>\n",
              "  <td class='result passed'></td>\n",
              "</tr>\n",
              "<tr>\n",
              "  <td class='test'>\n",
              "    Determinar la parte real de w\n",
              "    <div class='message'>Done</div>\n",
              "  </td>\n",
              "  <td class='result passed'></td>\n",
              "</tr>\n",
              "<tr>\n",
              "  <td class='test'>\n",
              "    Determinar la parte imaginaria  de w\n",
              "    <div class='message'>Done</div>\n",
              "  </td>\n",
              "  <td class='result passed'></td>\n",
              "</tr>\n",
              "<tr>\n",
              "  <td class='test'>\n",
              "    Determinar el conjugado de w\n",
              "    <div class='message'>Done</div>\n",
              "  </td>\n",
              "  <td class='result passed'></td>\n",
              "</tr>  <tr><th class='score'>Total Points</th><th class='score'>4</th></tr></table>\n"
            ]
          },
          "metadata": {}
        }
      ],
      "source": [
        "%run -i {path2}/test03.py"
      ]
    },
    {
      "cell_type": "markdown",
      "metadata": {
        "id": "P-2vd2FFV-R-"
      },
      "source": [
        "###  Listas\n",
        "\n",
        "10.0  Construir una lista L con las variables usadas hasta acá y los resultados de las funciones.\n",
        "\n",
        "L=[x,y,z,mul_lambda, sum_int,w, w_img, w_real, w_con ]\n",
        "\n",
        "11.0 Invierta la lista y almacene en una variable L_reverse\n",
        "\n",
        "12.0 Almacene los elementos impares de la lista, L_imp\n",
        "\n",
        "13.0 Almacene los elementos pares de la lista, L_par\n",
        "\n",
        "14.0 Modifique el elemento 5 de la lista L con la palabra \"hello world\"\n"
      ]
    },
    {
      "cell_type": "code",
      "execution_count": null,
      "metadata": {
        "id": "5wcA7Bf8x6v4",
        "colab": {
          "base_uri": "https://localhost:8080/"
        },
        "outputId": "9afefa81-b327-4ec5-d51a-c73764f24a60"
      },
      "outputs": [
        {
          "output_type": "stream",
          "name": "stdout",
          "text": [
            "[(5-2j), 5.0, 2.0, (5+2j), <function sum_int at 0x78fb33ac9240>, <function mul_lambda at 0x78fb33ac8670>, '2', 2.0, 2]\n"
          ]
        }
      ],
      "source": [
        "# Escriba en esta celda su solucion\n",
        "L=[x,y,z,mul_lambda, sum_int,w, w_img, w_real, w_con ]\n",
        "#print(L)\n",
        "\n",
        "L_reverse = list(L[::-1])\n",
        "print(L_reverse)\n",
        "L_imp = L[1::2]\n",
        "L_par = L[::2]\n",
        "#print(L_par)\n",
        "L[6] = \"hello world\"\n",
        "#print(L)\n"
      ]
    },
    {
      "cell_type": "code",
      "execution_count": null,
      "metadata": {
        "id": "rUAEpJDDdM2q",
        "colab": {
          "base_uri": "https://localhost:8080/",
          "height": 656
        },
        "outputId": "88376381-cbef-4e4d-869b-ea42c3889947"
      },
      "outputs": [
        {
          "output_type": "display_data",
          "data": {
            "text/plain": [
              "<IPython.core.display.HTML object>"
            ],
            "text/html": [
              "<style>\n",
              "  table { text-align: left; border-collapse: collapse; margin: 1em; caption-side: bottom; font-family: Sans-Serif; font-size: 12px}\n",
              "  caption { text-align: left; padding: 5px }\n",
              "  th, td { border: 2px solid #BFC9CA; padding: 5px }\n",
              "  th { background-color: #BFC9CA }\n",
              "  .passed { background-color: #76D7C4 }\n",
              "  .failed { background-color: #EC7063 }\n",
              "  .skipped { background-color: #EDBB99 }\n",
              "  .score { background-color: #7DCEA0 }\n",
              "  .results .points { display: none }\n",
              "  .results .message { display: block; font-size:smaller; color:#D35400 }\n",
              "  .results .note { display: block; font-size:smaller; font-decoration:italics }\n",
              "  .results .passed::before  { content: \"Passed\" } \n",
              "  .results .skipped::before  { content: \"Skipped\" } \n",
              "  .results .failed::before  { content: \"Failed\" } \n",
              "  .grade .passed  .message:empty::before { content:\"Passed\" }\n",
              "  .grade .failed  .message:empty::before { content:\"Failed\" }\n",
              "  .grade .skipped .message:empty::before { content:\"Skipped\" }   \n",
              "</style>\n",
              "<table class='results'>\n",
              "  <th class='test'>Test</th><th class='result'>Result</th></tr>\n",
              "<tr>\n",
              "  <td class='test'>\n",
              "    Definir x como un numero entero\n",
              "    <div class='message'>Done</div>\n",
              "  </td>\n",
              "  <td class='result passed'></td>\n",
              "</tr>\n",
              "<tr>\n",
              "  <td class='test'>\n",
              "    Defiir y como una variable tipo float\n",
              "    <div class='message'>Done</div>\n",
              "  </td>\n",
              "  <td class='result passed'></td>\n",
              "</tr>\n",
              "<tr>\n",
              "  <td class='test'>\n",
              "    Definir z como un string\n",
              "    <div class='message'>Done</div>\n",
              "  </td>\n",
              "  <td class='result passed'></td>\n",
              "</tr>\n",
              "<tr>\n",
              "  <td class='test'>\n",
              "    Definir mul_lambda como una funcion\n",
              "    <div class='message'>Done</div>\n",
              "  </td>\n",
              "  <td class='result passed'></td>\n",
              "</tr>\n",
              "<tr>\n",
              "  <td class='test'>\n",
              "    Definir sum_int como una funcion\n",
              "    <div class='message'>Done</div>\n",
              "  </td>\n",
              "  <td class='result passed'></td>\n",
              "</tr>\n",
              "<tr>\n",
              "  <td class='test'>\n",
              "    Definir w como un número complejo\n",
              "    <div class='message'>Done</div>\n",
              "  </td>\n",
              "  <td class='result passed'></td>\n",
              "</tr>\n",
              "<tr>\n",
              "  <td class='test'>\n",
              "    Determinar la parte imaginiaria de w\n",
              "    <div class='message'>Done</div>\n",
              "  </td>\n",
              "  <td class='result passed'></td>\n",
              "</tr>\n",
              "<tr>\n",
              "  <td class='test'>\n",
              "    Determinar la parte real de w\n",
              "    <div class='message'>Done</div>\n",
              "  </td>\n",
              "  <td class='result passed'></td>\n",
              "</tr>\n",
              "<tr>\n",
              "  <td class='test'>\n",
              "    Calcular el complejo conjugado de w\n",
              "    <div class='message'>Done</div>\n",
              "  </td>\n",
              "  <td class='result passed'></td>\n",
              "</tr>\n",
              "<tr>\n",
              "  <td class='test'>\n",
              "    Definir una lista L\n",
              "    <div class='message'>Done</div>\n",
              "  </td>\n",
              "  <td class='result passed'></td>\n",
              "</tr>\n",
              "<tr>\n",
              "  <td class='test'>\n",
              "    La longitud de lista debe ser 9 \n",
              "    <div class='message'>Done</div>\n",
              "  </td>\n",
              "  <td class='result passed'></td>\n",
              "</tr>\n",
              "<tr>\n",
              "  <td class='test'>\n",
              "    Invierta la lista L\n",
              "    <div class='message'>Error: Lists differ: [(5-2j), 5.0, &#x27;hello world&#x27;, (5+2j), &lt;function sum_int [68 chars]0, 2] != [(5-2j), 5.0, 2.0, (5+2j), &lt;function sum_int at 0x78fb3[58 chars]0, 2]\n",
              "\n",
              "First differing element 2:\n",
              "&#x27;hello world&#x27;\n",
              "2.0\n",
              "\n",
              "  [(5-2j),\n",
              "   5.0,\n",
              "-  &#x27;hello world&#x27;,\n",
              "+  2.0,\n",
              "   (5+2j),\n",
              "   &lt;function sum_int at 0x78fb33ac9240&gt;,\n",
              "   &lt;function mul_lambda at 0x78fb33ac8670&gt;,\n",
              "   &#x27;2&#x27;,\n",
              "   2.0,\n",
              "   2] : #-The expect value is [(5-2j), 5.0, &#x27;hello world&#x27;, (5+2j), &lt;function sum_int at 0x78fb33ac9240&gt;, &lt;function mul_lambda at 0x78fb33ac8670&gt;, &#x27;2&#x27;, 2.0, 2] and the functions test is [(5-2j), 5.0, 2.0, (5+2j), &lt;function sum_int at 0x78fb33ac9240&gt;, &lt;function mul_lambda at 0x78fb33ac8670&gt;, &#x27;2&#x27;, 2.0, 2]\n",
              "</div>\n",
              "  </td>\n",
              "  <td class='result failed'></td>\n",
              "</tr>\n",
              "<tr>\n",
              "  <td class='test'>\n",
              "    Determine los valores impares de la lista\n",
              "    <div class='message'>Done</div>\n",
              "  </td>\n",
              "  <td class='result passed'></td>\n",
              "</tr>\n",
              "<tr>\n",
              "  <td class='test'>\n",
              "    Determinar los valores pares de la lista\n",
              "    <div class='message'>Error: Lists differ: [2, &#x27;2&#x27;, &lt;function sum_int at 0x78fb33ac9240&gt;, &#x27;hello world&#x27;, (5-2j)] != [2, &#x27;2&#x27;, &lt;function sum_int at 0x78fb33ac9240&gt;, 2.0, (5-2j)]\n",
              "\n",
              "First differing element 3:\n",
              "&#x27;hello world&#x27;\n",
              "2.0\n",
              "\n",
              "- [2, &#x27;2&#x27;, &lt;function sum_int at 0x78fb33ac9240&gt;, &#x27;hello world&#x27;, (5-2j)]\n",
              "?                                                ^^^^^^^^^^^^^\n",
              "\n",
              "+ [2, &#x27;2&#x27;, &lt;function sum_int at 0x78fb33ac9240&gt;, 2.0, (5-2j)]\n",
              "?                                                ^^^\n",
              " : #-The expect value is [2, &#x27;2&#x27;, &lt;function sum_int at 0x78fb33ac9240&gt;, &#x27;hello world&#x27;, (5-2j)] and the functions test is [2, &#x27;2&#x27;, &lt;function sum_int at 0x78fb33ac9240&gt;, 2.0, (5-2j)]\n",
              "</div>\n",
              "  </td>\n",
              "  <td class='result failed'></td>\n",
              "</tr>  <tr><th class='score'>Total Points</th><th class='score'>11</th></tr></table>\n"
            ]
          },
          "metadata": {}
        }
      ],
      "source": [
        "%run -i {path2}/test04.py"
      ]
    },
    {
      "cell_type": "markdown",
      "metadata": {
        "id": "9vVIrQeytD30"
      },
      "source": [
        "###  Tuplas\n",
        "\n",
        "15.0 Definir una tupla con 5 elementos almacenda en la variable Tup, los primeros 3 tipo string y los ultimos dos, tipo float."
      ]
    },
    {
      "cell_type": "code",
      "execution_count": null,
      "metadata": {
        "id": "xkrK3Wsgyqb1",
        "outputId": "c26fc506-2f8a-4991-ab25-e7d61b7a2d9d",
        "colab": {
          "base_uri": "https://localhost:8080/"
        }
      },
      "outputs": [
        {
          "output_type": "stream",
          "name": "stdout",
          "text": [
            "('hola', 'mundo', 'hola', 1.0, 1.0)\n"
          ]
        }
      ],
      "source": [
        "Tup = (\"hola\",\"mundo\", \"hola\",1.0,1.0)\n",
        "\n",
        "print(Tup)"
      ]
    },
    {
      "cell_type": "code",
      "execution_count": null,
      "metadata": {
        "colab": {
          "base_uri": "https://localhost:8080/",
          "height": 248
        },
        "id": "UswyGx3xuou2",
        "outputId": "b1d83448-0b5a-4db1-c800-fd58b9c4600d"
      },
      "outputs": [
        {
          "output_type": "display_data",
          "data": {
            "text/plain": [
              "<IPython.core.display.HTML object>"
            ],
            "text/html": [
              "<style>\n",
              "  table { text-align: left; border-collapse: collapse; margin: 1em; caption-side: bottom; font-family: Sans-Serif; font-size: 12px}\n",
              "  caption { text-align: left; padding: 5px }\n",
              "  th, td { border: 2px solid #BFC9CA; padding: 5px }\n",
              "  th { background-color: #BFC9CA }\n",
              "  .passed { background-color: #76D7C4 }\n",
              "  .failed { background-color: #EC7063 }\n",
              "  .skipped { background-color: #EDBB99 }\n",
              "  .score { background-color: #7DCEA0 }\n",
              "  .results .points { display: none }\n",
              "  .results .message { display: block; font-size:smaller; color:#D35400 }\n",
              "  .results .note { display: block; font-size:smaller; font-decoration:italics }\n",
              "  .results .passed::before  { content: \"Passed\" } \n",
              "  .results .skipped::before  { content: \"Skipped\" } \n",
              "  .results .failed::before  { content: \"Failed\" } \n",
              "  .grade .passed  .message:empty::before { content:\"Passed\" }\n",
              "  .grade .failed  .message:empty::before { content:\"Failed\" }\n",
              "  .grade .skipped .message:empty::before { content:\"Skipped\" }   \n",
              "</style>\n",
              "<table class='results'>\n",
              "  <th class='test'>Test</th><th class='result'>Result</th></tr>\n",
              "<tr>\n",
              "  <td class='test'>\n",
              "    Definir una tupla\n",
              "    <div class='message'>Done</div>\n",
              "  </td>\n",
              "  <td class='result passed'></td>\n",
              "</tr>\n",
              "<tr>\n",
              "  <td class='test'>\n",
              "    La longitud de la tupla debe ser 5 \n",
              "    <div class='message'>Done</div>\n",
              "  </td>\n",
              "  <td class='result passed'></td>\n",
              "</tr>\n",
              "<tr>\n",
              "  <td class='test'>\n",
              "    Los tres primeros elementos deben string \n",
              "    <div class='message'>Done</div>\n",
              "  </td>\n",
              "  <td class='result passed'></td>\n",
              "</tr>\n",
              "<tr>\n",
              "  <td class='test'>\n",
              "    Los dos ultimos elementos deben ser float \n",
              "    <div class='message'>Done</div>\n",
              "  </td>\n",
              "  <td class='result passed'></td>\n",
              "</tr>  <tr><th class='score'>Total Points</th><th class='score'>4</th></tr></table>\n"
            ]
          },
          "metadata": {}
        }
      ],
      "source": [
        " %run -i {path2}/test05.py"
      ]
    },
    {
      "cell_type": "markdown",
      "metadata": {
        "id": "E1VlbpbEysKy"
      },
      "source": [
        "###  Set\n",
        "16.0 Defina una variable tipo set llamada  D con los primeros 11 numeros primos, consultalos en la red. Notese que pasa en este variables cuando alguno de los elementos se repite\n",
        "\n",
        "17.0 Defina una variable tipo set llamada E con los números naturales del 1 al 20.\n",
        "\n",
        "18.0 Calcule la unión  y almacenela en una variable U.\n",
        "\n",
        "19.0 Calcule la intersección y almacenela en una variable I\n"
      ]
    },
    {
      "cell_type": "code",
      "execution_count": null,
      "metadata": {
        "id": "ua1aHdjPzfGp"
      },
      "outputs": [],
      "source": [
        "# Escriba acá su solución\n",
        "\n",
        "#creando un set por la función\n",
        "D = set([2,3,5,7,11,13,17,19,23,29,31])\n",
        "\n",
        "# Creando una un set con un rango desde una lista\n",
        "E = set(list(range(1,21)))\n",
        "\n",
        "#Unión de dos set's\n",
        "U = D | E\n",
        "\n",
        "#Para calcular la intersección de dos set's\n",
        "\n",
        "I = D.intersection(E)\n"
      ]
    },
    {
      "cell_type": "code",
      "execution_count": null,
      "metadata": {
        "id": "YJiDfeEr2cSc",
        "colab": {
          "base_uri": "https://localhost:8080/",
          "height": 468
        },
        "outputId": "000a0d8b-044a-45fb-ccb0-42e68e693b76"
      },
      "outputs": [
        {
          "output_type": "display_data",
          "data": {
            "text/plain": [
              "<IPython.core.display.HTML object>"
            ],
            "text/html": [
              "<style>\n",
              "  table { text-align: left; border-collapse: collapse; margin: 1em; caption-side: bottom; font-family: Sans-Serif; font-size: 12px}\n",
              "  caption { text-align: left; padding: 5px }\n",
              "  th, td { border: 2px solid #BFC9CA; padding: 5px }\n",
              "  th { background-color: #BFC9CA }\n",
              "  .passed { background-color: #76D7C4 }\n",
              "  .failed { background-color: #EC7063 }\n",
              "  .skipped { background-color: #EDBB99 }\n",
              "  .score { background-color: #7DCEA0 }\n",
              "  .results .points { display: none }\n",
              "  .results .message { display: block; font-size:smaller; color:#D35400 }\n",
              "  .results .note { display: block; font-size:smaller; font-decoration:italics }\n",
              "  .results .passed::before  { content: \"Passed\" } \n",
              "  .results .skipped::before  { content: \"Skipped\" } \n",
              "  .results .failed::before  { content: \"Failed\" } \n",
              "  .grade .passed  .message:empty::before { content:\"Passed\" }\n",
              "  .grade .failed  .message:empty::before { content:\"Failed\" }\n",
              "  .grade .skipped .message:empty::before { content:\"Skipped\" }   \n",
              "</style>\n",
              "<table class='results'>\n",
              "  <th class='test'>Test</th><th class='result'>Result</th></tr>\n",
              "<tr>\n",
              "  <td class='test'>\n",
              "    Definir una variable D tipo set\n",
              "    <div class='message'>Done</div>\n",
              "  </td>\n",
              "  <td class='result passed'></td>\n",
              "</tr>\n",
              "<tr>\n",
              "  <td class='test'>\n",
              "    Definir una variable E tipo set\n",
              "    <div class='message'>Done</div>\n",
              "  </td>\n",
              "  <td class='result passed'></td>\n",
              "</tr>\n",
              "<tr>\n",
              "  <td class='test'>\n",
              "    Definir una variable U tipo set\n",
              "    <div class='message'>Done</div>\n",
              "  </td>\n",
              "  <td class='result passed'></td>\n",
              "</tr>\n",
              "<tr>\n",
              "  <td class='test'>\n",
              "    Definir una variable I tipo set\n",
              "    <div class='message'>Done</div>\n",
              "  </td>\n",
              "  <td class='result passed'></td>\n",
              "</tr>\n",
              "<tr>\n",
              "  <td class='test'>\n",
              "    La longitud de D debe ser 11 \n",
              "    <div class='message'>Done</div>\n",
              "  </td>\n",
              "  <td class='result passed'></td>\n",
              "</tr>\n",
              "<tr>\n",
              "  <td class='test'>\n",
              "    11 primeros números de Bernulli\n",
              "    <div class='message'>Done</div>\n",
              "  </td>\n",
              "  <td class='result passed'></td>\n",
              "</tr>\n",
              "<tr>\n",
              "  <td class='test'>\n",
              "    20 primeros numeros naturales \n",
              "    <div class='message'>Done</div>\n",
              "  </td>\n",
              "  <td class='result passed'></td>\n",
              "</tr>\n",
              "<tr>\n",
              "  <td class='test'>\n",
              "    union \n",
              "    <div class='message'>Done</div>\n",
              "  </td>\n",
              "  <td class='result passed'></td>\n",
              "</tr>\n",
              "<tr>\n",
              "  <td class='test'>\n",
              "    Calcule la interseccion \n",
              "    <div class='message'>Done</div>\n",
              "  </td>\n",
              "  <td class='result passed'></td>\n",
              "</tr>  <tr><th class='score'>Total Points</th><th class='score'>9</th></tr></table>\n"
            ]
          },
          "metadata": {}
        }
      ],
      "source": [
        " %run -i {path2}/test06.py"
      ]
    },
    {
      "cell_type": "markdown",
      "metadata": {
        "id": "HWfazmVWTq1T"
      },
      "source": [
        "\n",
        "\n",
        "\n",
        "\n",
        "\n",
        "\n",
        "\n",
        "\n",
        "\n",
        "\n",
        "\n",
        "\n",
        "\n",
        "\n",
        "###  Diccionarios\n",
        "20.0 Construir un diccionario con 5 elementos cuya clave es el nombre del autor y valor el nombre del libro. Almacenarlo en una variable dicc.\n",
        "\n",
        "\n",
        "\n"
      ]
    },
    {
      "cell_type": "code",
      "execution_count": null,
      "metadata": {
        "id": "07sFgZvj0MP7"
      },
      "outputs": [],
      "source": [
        "# Escriba acá su solución\n",
        "\n",
        "dicc = {\"uberto eco\":\"la memoria vegetal\",\n",
        "            \"carl sagan\":\"los dragones de eden\",\n",
        "            \"giovanni papini\":\"la historia de cristo\",\n",
        "            \"jorge isaac\":\"la maria\",\n",
        "            \"harari\":\"homo sapiens\"}\n"
      ]
    },
    {
      "cell_type": "code",
      "execution_count": null,
      "metadata": {
        "id": "yfHkEyXV6DjL",
        "colab": {
          "base_uri": "https://localhost:8080/",
          "height": 178
        },
        "outputId": "daa524b8-d47d-4d75-f603-e6e01ca65748"
      },
      "outputs": [
        {
          "output_type": "display_data",
          "data": {
            "text/plain": [
              "<IPython.core.display.HTML object>"
            ],
            "text/html": [
              "<style>\n",
              "  table { text-align: left; border-collapse: collapse; margin: 1em; caption-side: bottom; font-family: Sans-Serif; font-size: 12px}\n",
              "  caption { text-align: left; padding: 5px }\n",
              "  th, td { border: 2px solid #BFC9CA; padding: 5px }\n",
              "  th { background-color: #BFC9CA }\n",
              "  .passed { background-color: #76D7C4 }\n",
              "  .failed { background-color: #EC7063 }\n",
              "  .skipped { background-color: #EDBB99 }\n",
              "  .score { background-color: #7DCEA0 }\n",
              "  .results .points { display: none }\n",
              "  .results .message { display: block; font-size:smaller; color:#D35400 }\n",
              "  .results .note { display: block; font-size:smaller; font-decoration:italics }\n",
              "  .results .passed::before  { content: \"Passed\" } \n",
              "  .results .skipped::before  { content: \"Skipped\" } \n",
              "  .results .failed::before  { content: \"Failed\" } \n",
              "  .grade .passed  .message:empty::before { content:\"Passed\" }\n",
              "  .grade .failed  .message:empty::before { content:\"Failed\" }\n",
              "  .grade .skipped .message:empty::before { content:\"Skipped\" }   \n",
              "</style>\n",
              "<table class='results'>\n",
              "  <th class='test'>Test</th><th class='result'>Result</th></tr>\n",
              "<tr>\n",
              "  <td class='test'>\n",
              "    Definir una variable dicc tipo diccionario\n",
              "    <div class='message'>Done</div>\n",
              "  </td>\n",
              "  <td class='result passed'></td>\n",
              "</tr>\n",
              "<tr>\n",
              "  <td class='test'>\n",
              "    la longitud del diccionario debe ser 5 \n",
              "    <div class='message'>Done</div>\n",
              "  </td>\n",
              "  <td class='result passed'></td>\n",
              "</tr>  <tr><th class='score'>Total Points</th><th class='score'>2</th></tr></table>\n"
            ]
          },
          "metadata": {}
        }
      ],
      "source": [
        " %run -i {path2}/test07.py"
      ]
    },
    {
      "cell_type": "markdown",
      "metadata": {
        "id": "7g0xWN387wOo"
      },
      "source": [
        "\n",
        "####  Ciclos y condicionales\n",
        "\n",
        "21.0  Cálculo de $\\pi$. Empleando la siguiente seria :\n",
        "\n",
        "\\begin{equation}\n",
        "\\frac{\\pi}{4} = 1 -\\frac{1}{3}+\\frac{1}{5}-\\frac{1}{7}+\\frac{1}{9}-...\n",
        "\\end{equation}\n",
        "\n",
        "Construya una función llamada pi_number en el que entrado el valor de k,(número de términos de la serie ) calcule el valor de pi. Si k es negativo deberá retornar un error como una variable tipo string.\n",
        "\n",
        "Ejemplo de ejecución:\n",
        "```python\n",
        "pi_number(10)\n",
        "```"
      ]
    },
    {
      "cell_type": "markdown",
      "source": [
        "![image.png](data:image/png;base64,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)"
      ],
      "metadata": {
        "id": "Q4HO__b_vYAz"
      }
    },
    {
      "cell_type": "code",
      "execution_count": 3,
      "metadata": {
        "id": "h9cuWKkT0pqQ",
        "colab": {
          "base_uri": "https://localhost:8080/"
        },
        "outputId": "4a0248e7-3751-42d9-d7c9-211076feaf88"
      },
      "outputs": [
        {
          "output_type": "stream",
          "name": "stdout",
          "text": [
            "3.142593654340044\n"
          ]
        }
      ],
      "source": [
        "# Escriba acá su solución\n",
        "def pi_number(k):\n",
        "  if k < 0:\n",
        "    print(\"Error: El número de términos k debe ser positivo\")\n",
        "  else:\n",
        "    sum = 0\n",
        "    for i in range(k):\n",
        "      num = (-1)**i\n",
        "      deno = 2*i + 1\n",
        "      frac = num/deno\n",
        "      sum += frac\n",
        "    return sum*4\n",
        "\n",
        "print(pi_number(999))"
      ]
    },
    {
      "cell_type": "code",
      "execution_count": null,
      "metadata": {
        "id": "OEACMhp6BS2k",
        "colab": {
          "base_uri": "https://localhost:8080/",
          "height": 196
        },
        "outputId": "627df59e-7711-4f7a-e974-84dcf9d7747e"
      },
      "outputs": [
        {
          "output_type": "stream",
          "name": "stdout",
          "text": [
            "Error: El número de términos k debe ser positivo\n"
          ]
        },
        {
          "output_type": "display_data",
          "data": {
            "text/plain": [
              "<IPython.core.display.HTML object>"
            ],
            "text/html": [
              "<style>\n",
              "  table { text-align: left; border-collapse: collapse; margin: 1em; caption-side: bottom; font-family: Sans-Serif; font-size: 12px}\n",
              "  caption { text-align: left; padding: 5px }\n",
              "  th, td { border: 2px solid #BFC9CA; padding: 5px }\n",
              "  th { background-color: #BFC9CA }\n",
              "  .passed { background-color: #76D7C4 }\n",
              "  .failed { background-color: #EC7063 }\n",
              "  .skipped { background-color: #EDBB99 }\n",
              "  .score { background-color: #7DCEA0 }\n",
              "  .results .points { display: none }\n",
              "  .results .message { display: block; font-size:smaller; color:#D35400 }\n",
              "  .results .note { display: block; font-size:smaller; font-decoration:italics }\n",
              "  .results .passed::before  { content: \"Passed\" } \n",
              "  .results .skipped::before  { content: \"Skipped\" } \n",
              "  .results .failed::before  { content: \"Failed\" } \n",
              "  .grade .passed  .message:empty::before { content:\"Passed\" }\n",
              "  .grade .failed  .message:empty::before { content:\"Failed\" }\n",
              "  .grade .skipped .message:empty::before { content:\"Skipped\" }   \n",
              "</style>\n",
              "<table class='results'>\n",
              "  <th class='test'>Test</th><th class='result'>Result</th></tr>\n",
              "<tr>\n",
              "  <td class='test'>\n",
              "    Prueba para valores negativos \n",
              "    <div class='message'>Done</div>\n",
              "  </td>\n",
              "  <td class='result passed'></td>\n",
              "</tr>\n",
              "<tr>\n",
              "  <td class='test'>\n",
              "    Prueba para valores negativos \n",
              "    <div class='message'>Error: &lt;class &#x27;str&#x27;&gt; != &lt;class &#x27;NoneType&#x27;&gt; : #-The expect value is &lt;class &#x27;str&#x27;&gt; and the functions test is &lt;class &#x27;NoneType&#x27;&gt;\n",
              "</div>\n",
              "  </td>\n",
              "  <td class='result failed'></td>\n",
              "</tr>  <tr><th class='score'>Total Points</th><th class='score'>1</th></tr></table>\n"
            ]
          },
          "metadata": {}
        }
      ],
      "source": [
        " %run -i {path2}/test08.py"
      ]
    }
  ],
  "metadata": {
    "colab": {
      "provenance": []
    },
    "kernelspec": {
      "display_name": "Python 3 (ipykernel)",
      "language": "python",
      "name": "python3"
    },
    "language_info": {
      "codemirror_mode": {
        "name": "ipython",
        "version": 3
      },
      "file_extension": ".py",
      "mimetype": "text/x-python",
      "name": "python",
      "nbconvert_exporter": "python",
      "pygments_lexer": "ipython3",
      "version": "3.9.6"
    }
  },
  "nbformat": 4,
  "nbformat_minor": 0
}