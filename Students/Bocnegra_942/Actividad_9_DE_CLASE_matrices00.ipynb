{
  "cells": [
    {
      "cell_type": "markdown",
      "id": "d2ef803b",
      "metadata": {
        "id": "d2ef803b"
      },
      "source": [
        "# Actividad matrices\n",
        "\n",
        "Para los siguientes enunciados trabajar con matrices simbolicas y objetos de numpy.\n",
        "\n",
        "1. Disenar un programa que permita sumar dos matrices.\n",
        "2. Disenar un programa que permita multiplicar dos matrices.\n",
        "3. Determinar la transpuesta de una matrix\n",
        "\n",
        "4. La matriz de rotación en 2D. Es una matriz que se usa para rotar puntos en el plano xy en sentido antihorario alrededor del origen. La matriz tiene la siguiente forma:\n",
        "\n",
        "\n",
        "\\begin{equation}\n",
        "R(\\theta) = \\begin{bmatrix}\n",
        "\\cos \\theta & -\\sin \\theta \\\\\n",
        "\\sin \\theta & \\cos \\theta\n",
        "\\end{bmatrix}\n",
        "\\end{equation}\n",
        "\n",
        "Construir un programa en python que permita realizar la rotación de un vector un ángulo theta, Mostrar\n",
        "la representación vectorial en el plano indicando la rotacion a realizar.\n",
        "\n",
        "Pruebe su solución para el vector $\\vec{v}=(1,1)$ rotado 20grados en sentido antihorario. Muestre el vector antes de la rotación y después de la rotación  \n"
      ]
    },
    {
      "cell_type": "code",
      "source": [
        "#**************************************\n",
        "#Desarrollo punto 1 actividad matrices\n",
        "#**************************************\n",
        "\n",
        "import numpy as np\n",
        "A = np.random.randint(0,10,(4,6))#definiendo la matriz A con numeros aleatorios\n",
        "B = np.random.randint(0,10,(4,6))#definiendo la matriz B con numero aleatorios\n",
        "\n",
        "resultado = np.zeros((A.shape[0],A.shape[1]))\n",
        "\n",
        "if A.shape == B.shape:\n",
        "\n",
        "    for i in range(0,A.shape[0]):\n",
        "        for j in range(0,A.shape[1]):\n",
        "            resultado[i][j]= A[i][j]+B[i][j]\n",
        "    print('A:')\n",
        "    print(A)\n",
        "    print('****************')\n",
        "    print('B:')\n",
        "    print(B)\n",
        "    print('****************')\n",
        "    print('A+B :')\n",
        "    print(resultado)\n",
        "else:\n",
        "    print('A Y B no se pueden sumar (tienen dimensiones diferentes)')\n",
        "\n",
        "\n",
        "\n",
        "\n"
      ],
      "metadata": {
        "id": "t2Z2SJr9srsD",
        "colab": {
          "base_uri": "https://localhost:8080/"
        },
        "outputId": "df798df0-3bf0-4675-852a-1927b7bff6bb"
      },
      "execution_count": 1,
      "outputs": [
        {
          "output_type": "stream",
          "name": "stdout",
          "text": [
            "A:\n",
            "[[9 6 1 3 5 2]\n",
            " [1 1 7 1 8 9]\n",
            " [9 5 1 9 2 5]\n",
            " [0 0 2 6 6 0]]\n",
            "****************\n",
            "B:\n",
            "[[8 0 8 5 7 5]\n",
            " [4 1 7 4 5 7]\n",
            " [7 8 8 5 2 4]\n",
            " [4 9 4 6 8 7]]\n",
            "****************\n",
            "A+B :\n",
            "[[17.  6.  9.  8. 12.  7.]\n",
            " [ 5.  2. 14.  5. 13. 16.]\n",
            " [16. 13.  9. 14.  4.  9.]\n",
            " [ 4.  9.  6. 12. 14.  7.]]\n"
          ]
        }
      ],
      "id": "t2Z2SJr9srsD"
    },
    {
      "cell_type": "code",
      "source": [
        "#**************************************\n",
        "#Desarrollo pundo 2 actividad matrices\n",
        "#**************************************\n",
        "#Programa para multiplicar dos matrices\n",
        "#Usando ciclos\n",
        "#Usando np.dot\n",
        "#Usando np.matmul\n",
        "#**************************************\n",
        "\n",
        "import numpy as np\n",
        "\n",
        "M = np.array([[1,2,3,4],[4,6,7,8],[9,10,11,12],[13,14,15,16]])#definiendo la matriz M\n",
        "\n",
        "N = np.random.randint(0,10,(4,6))#definiendo la matriz N con numeros aleatorios\n",
        "\n",
        "#la Matriz resultado tendra dimensión ( #de filas de M  x  # de columnas de N )\n",
        "# Para esto creamos una matriz de ceros con estas dimensiónes usando shape\n",
        "resultado = np.zeros((M.shape[0],N.shape[1]))\n",
        "\n",
        "print('Las dimensiones de M y N son : ',M.shape,N.shape)\n",
        "\n",
        "long_fil_M = M.shape[0]\n",
        "long_col_N = N.shape[1]\n",
        "\n",
        "print(M)\n",
        "print('****************')\n",
        "print(N)\n",
        "\n",
        "suma = 0\n",
        "\n",
        "#la condición para multiplicar las matrices es\n",
        "# Nro de columnas de M = Nro de filas de N\n",
        "if(M.shape[1]== N.shape[0]):#\n",
        "\n",
        "    for k in range(0,long_fil_M):\n",
        "\n",
        "        for i in range(0,long_col_N):\n",
        "\n",
        "            for j in range(0,long_fil_M):\n",
        "\n",
        "                suma += M[k][j]*N[j][i]\n",
        "\n",
        "            resultado[k][i] = suma\n",
        "            suma =0\n",
        "\n",
        "    print('****************')\n",
        "    print('MxN = ')\n",
        "    print(resultado)\n",
        "    print('***********************************')\n",
        "    print('usando np.dot para hallar MxN')\n",
        "    print(np.dot(M,N))\n",
        "    print('***********************************')\n",
        "    print('usando np.matmul para hallar MxN')\n",
        "    print(np.matmul(M,N))\n",
        "else:\n",
        "    print('No es posible multplicar las matrices el Numero de columnas de M')\n",
        "    print('es diferente al numero de filas de N')\n"
      ],
      "metadata": {
        "colab": {
          "base_uri": "https://localhost:8080/"
        },
        "id": "qM-OuQZW3PoE",
        "outputId": "e97e05bb-71d7-40d7-f2ba-2348b5116676"
      },
      "execution_count": 2,
      "outputs": [
        {
          "output_type": "stream",
          "name": "stdout",
          "text": [
            "Las dimensiones de M y N son :  (4, 4) (4, 6)\n",
            "[[ 1  2  3  4]\n",
            " [ 4  6  7  8]\n",
            " [ 9 10 11 12]\n",
            " [13 14 15 16]]\n",
            "****************\n",
            "[[3 2 4 0 1 1]\n",
            " [9 7 0 7 5 7]\n",
            " [2 8 5 5 8 7]\n",
            " [0 7 9 1 3 3]]\n",
            "****************\n",
            "MxN = \n",
            "[[ 27.  68.  55.  33.  47.  48.]\n",
            " [ 80. 162. 123.  85. 114. 119.]\n",
            " [139. 260. 199. 137. 183. 192.]\n",
            " [195. 356. 271. 189. 251. 264.]]\n",
            "***********************************\n",
            "usando np.dot para hallar MxN\n",
            "[[ 27  68  55  33  47  48]\n",
            " [ 80 162 123  85 114 119]\n",
            " [139 260 199 137 183 192]\n",
            " [195 356 271 189 251 264]]\n",
            "***********************************\n",
            "usando np.matmul para hallar MxN\n",
            "[[ 27  68  55  33  47  48]\n",
            " [ 80 162 123  85 114 119]\n",
            " [139 260 199 137 183 192]\n",
            " [195 356 271 189 251 264]]\n"
          ]
        }
      ],
      "id": "qM-OuQZW3PoE"
    },
    {
      "cell_type": "code",
      "source": [
        "#**************************************\n",
        "#Desarrollo punto 3 actividad matrices\n",
        "#**************************************\n",
        "\n",
        "import numpy as np\n",
        "\n",
        "A = np.random.randint(0,10,(4,4))\n",
        "T = np.zeros((A.shape[0],A.shape[1]))\n",
        "\n",
        "for i in range(0,A.shape[0]):\n",
        "    for j in range(0,A.shape[1]):\n",
        "        T[i][j]= A[j][i]\n",
        "print('A:')\n",
        "print(A)\n",
        "print('*************')\n",
        "print('A^T:')\n",
        "print(T)\n",
        "\n"
      ],
      "metadata": {
        "colab": {
          "base_uri": "https://localhost:8080/"
        },
        "id": "J1Mkc01oyDPu",
        "outputId": "0b8461f3-ef79-4afb-8705-8a64220b3023"
      },
      "execution_count": 3,
      "outputs": [
        {
          "output_type": "stream",
          "name": "stdout",
          "text": [
            "A:\n",
            "[[0 6 5 5]\n",
            " [8 2 9 3]\n",
            " [3 7 8 0]\n",
            " [5 2 3 4]]\n",
            "*************\n",
            "A^T:\n",
            "[[0. 8. 3. 5.]\n",
            " [6. 2. 7. 2.]\n",
            " [5. 9. 8. 3.]\n",
            " [5. 3. 0. 4.]]\n"
          ]
        }
      ],
      "id": "J1Mkc01oyDPu"
    },
    {
      "cell_type": "code",
      "source": [
        "#**************************************\n",
        "#Desarrollo punto 4 actividad matrices\n",
        "#**************************************\n",
        "import numpy as np\n",
        "import matplotlib.pyplot as plt\n",
        "\n",
        "\n",
        "teta = 35\n",
        "\n",
        "teta2 = np.deg2rad(teta)\n",
        "\n",
        "R = np. array([[np.cos(teta2),-np.sin(teta2)],[np.sin(teta2),np.cos(teta2)]])\n",
        "\n",
        "origen = np.array([1,1]) #  donde va a estar parado el vector\n",
        "\n",
        "\n",
        "V = np.array([3,3])\n",
        "\n",
        "\n",
        "\n",
        "#haciendo una resta vectorial para hallar el vector que esta entre el punto\n",
        "#de origen(donde esta parado el vector) y  la punta del vector ESTE SERÁ\n",
        "#EL VECTOR QUE SE VA A ROTAR\n",
        "vector_o_V = V-origen\n",
        "\n",
        "#Rotando el vector (obtengo las componentes del vector que roté)\n",
        "vector_o_V_rotado = np.dot(R,np.transpose(vector_o_V))\n",
        "\n",
        "\n",
        "\n",
        "\n",
        "#componentes del vector que esta ente el vector antes de rotar y el rotado\n",
        "vector_V_Vr = vector_o_V_rotado - vector_o_V\n",
        "\n",
        "\n",
        "#***************************************************************************************************************\n",
        "#Grafico\n",
        "# plt.quiver(coor_x_inicio_flecha , coor_y_inicio_flecha , componete_x , componente_y )\n",
        "#componente_x: componente a lo largo del eje x desde el inicio de la flecha\n",
        "#componente_y: componente a lo largo del eje y desde el inicio de la flecha\n",
        "\n",
        "plt.quiver( origen[0] , origen[1] , vector_o_V[0] , vector_o_V[1] ,color='blue', angles='xy', scale_units='xy', scale=1 , label='vector_o_V'   )\n",
        "\n",
        "plt.quiver(  origen[0]  ,  origen[1]  ,  vector_o_V_rotado[0]  ,  vector_o_V_rotado[1] ,color='green', angles='xy', scale_units='xy', scale=1 ,label='vector_o_V_rotado' )\n",
        "\n",
        "plt.quiver(V[0],V[1], vector_V_Vr[0], vector_V_Vr[1],angles='xy', scale_units='xy', scale=1 )\n",
        "\n",
        "plt.scatter(origen[0],origen[1],label='origen')\n",
        "plt.scatter(V[0],V[1],label='punto V')\n",
        "\n",
        "#scatter ubica lo puntos como es logico apartir de (0,0) entonces debemos sumar a las cordenadas de\n",
        "#rotación nuestras coordenadaas del origen escogido\n",
        "plt.scatter(vector_o_V_rotado[0] + origen[0],vector_o_V_rotado[1]+origen[1],label='punto {x_rot , y_rot}')\n",
        "\n",
        "extra_label = f'$\\Theta = ${teta}'  # Formato de la etiqueta\n",
        "plt.text(0, -0.5, extra_label, color='red', fontsize=10,\n",
        "                 ha='center', va='center')\n",
        "\n",
        "plt.grid()\n",
        "plt.legend(loc='lower left')\n",
        "plt.xlim(-4,4)\n",
        "plt.ylim(-1,4)\n",
        "plt.show()\n",
        "#*******************************************************************************************************************"
      ],
      "metadata": {
        "colab": {
          "base_uri": "https://localhost:8080/",
          "height": 435
        },
        "outputId": "773b39f8-6dd7-4e8e-bef4-b396d6762526",
        "id": "WcCaltdFssZ3"
      },
      "execution_count": 4,
      "outputs": [
        {
          "output_type": "display_data",
          "data": {
            "text/plain": [
              "<Figure size 640x480 with 1 Axes>"
            ],
            "image/png": "[encoded data removed]"
          },
          "metadata": {}
        }
      ],
      "id": "WcCaltdFssZ3"
    },
    {
      "cell_type": "code",
      "execution_count": null,
      "id": "fe9b9935",
      "metadata": {
        "id": "fe9b9935"
      },
      "outputs": [],
      "source": []
    }
  ],
  "metadata": {
    "kernelspec": {
      "display_name": "Python 3 (ipykernel)",
      "language": "python",
      "name": "python3"
    },
    "language_info": {
      "codemirror_mode": {
        "name": "ipython",
        "version": 3
      },
      "file_extension": ".py",
      "mimetype": "text/x-python",
      "name": "python",
      "nbconvert_exporter": "python",
      "pygments_lexer": "ipython3",
      "version": "3.10.9"
    },
    "colab": {
      "provenance": []
    }
  },
  "nbformat": 4,
  "nbformat_minor": 5
}