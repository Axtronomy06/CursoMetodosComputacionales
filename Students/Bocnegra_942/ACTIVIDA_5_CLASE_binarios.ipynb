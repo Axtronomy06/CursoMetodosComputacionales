{
  "nbformat": 4,
  "nbformat_minor": 0,
  "metadata": {
    "colab": {
      "provenance": []
    },
    "kernelspec": {
      "name": "python3",
      "display_name": "Python 3"
    },
    "language_info": {
      "name": "python"
    }
  },
  "cells": [
    {
      "cell_type": "code",
      "metadata": {
        "id": "kII5tw4d9_xA"
      },
      "source": [
        "import numpy as np\n",
        "import struct\n",
        "\n",
        "def  binario(numero):\n",
        "\n",
        "    lista=[]\n",
        "    binario = []\n",
        "\n",
        "    numero2 = numero\n",
        "\n",
        "    #Comienza la parte que convierte de entero a Binario\n",
        "    while numero2 != 0:\n",
        "        modulo = numero2 % 2\n",
        "        binario.append(modulo)\n",
        "        numero2= numero2 // 2\n",
        "\n",
        "     #Finaliza la conversiรณn de entero a Binario\n",
        "\n",
        "\n",
        "    lista = binario[::-1]\n",
        "\n",
        "\n",
        "    #Comienza el cรณdigo que agrega los ceros al inicio\n",
        "\n",
        "    cantidad = int(len(lista))\n",
        "\n",
        "    adicion=0\n",
        "\n",
        "    while cantidad < 8:     # el 8 es para darle la presentación en byte = 8 bits\n",
        "        cantidad += 1\n",
        "        binario.append(adicion)\n",
        "\n",
        "     #Finaliza el cรณdigo que agrega los ceros al inicio\n",
        "\n",
        "\n",
        "    lista = binario[::-1]\n",
        "\n",
        "\n",
        "    cadena = ''.join([str(_) for _ in lista])\n",
        "\n",
        "    return cadena\n",
        "\n"
      ],
      "execution_count": 1,
      "outputs": []
    },
    {
      "cell_type": "code",
      "source": [
        "binario(2)"
      ],
      "metadata": {
        "colab": {
          "base_uri": "https://localhost:8080/",
          "height": 36
        },
        "id": "vi8DZ5UAoich",
        "outputId": "64144ddd-8af8-401b-ca5b-8a0121545df0"
      },
      "execution_count": 2,
      "outputs": [
        {
          "output_type": "execute_result",
          "data": {
            "text/plain": [
              "'00000010'"
            ],
            "application/vnd.google.colaboratory.intrinsic+json": {
              "type": "string"
            }
          },
          "metadata": {},
          "execution_count": 2
        }
      ]
    },
    {
      "cell_type": "code",
      "metadata": {
        "id": "5Cxk6Kw9_DgC"
      },
      "source": [
        "def recuperar_float(BIN):\n",
        "\n",
        "\n",
        "    #BIN = '00111110001000000000000000000000'\n",
        "\n",
        "    #print(BIN)\n",
        "\n",
        "    b_inverted = np.array(list(BIN)[::-1]).astype(int)\n",
        "\n",
        "\n",
        "    #print(b_inverted)\n",
        "\n",
        "    s = b_inverted[31]\n",
        "\n",
        "    #print(s)\n",
        "\n",
        "    #EXPONENENT PART\n",
        "\n",
        "    be = b_inverted[23:31]\n",
        "\n",
        "    i = np.arange(be.size)\n",
        "\n",
        "    #print(i)\n",
        "\n",
        "    e = ( be * ( 2**i ) ).sum()\n",
        "\n",
        "    #print(e)\n",
        "\n",
        "    b_fracc = b_inverted[0:23]\n",
        "\n",
        "    #print(b_fracc.size)\n",
        "\n",
        "    i_inverted = np.arange( 1 , b_fracc.size + 1)[::-1]\n",
        "\n",
        "    #print(i_inverted)\n",
        "\n",
        "    numero =( (((-1)**s)) / (2**(127-e)) ) * (1 + (b_fracc / 2** i_inverted).sum())\n",
        "\n",
        "    #print(numero)\n",
        "    return numero\n"
      ],
      "execution_count": 3,
      "outputs": []
    },
    {
      "cell_type": "code",
      "source": [
        "recuperar_float('00111110001000000000000000000000')"
      ],
      "metadata": {
        "colab": {
          "base_uri": "https://localhost:8080/"
        },
        "id": "8iW8hs-BlaVX",
        "outputId": "48f4865d-813d-4f6f-9a81-719a352fa9b9"
      },
      "execution_count": 4,
      "outputs": [
        {
          "output_type": "execute_result",
          "data": {
            "text/plain": [
              "0.15625"
            ]
          },
          "metadata": {},
          "execution_count": 4
        }
      ]
    }
  ]
}