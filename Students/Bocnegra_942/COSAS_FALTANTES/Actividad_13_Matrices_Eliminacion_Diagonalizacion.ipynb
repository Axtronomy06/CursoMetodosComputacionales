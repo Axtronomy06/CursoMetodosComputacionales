{
  "nbformat": 4,
  "nbformat_minor": 0,
  "metadata": {
    "colab": {
      "provenance": []
    },
    "kernelspec": {
      "name": "python3",
      "display_name": "Python 3"
    },
    "language_info": {
      "name": "python"
    }
  },
  "cells": [
    {
      "cell_type": "markdown",
      "source": [
        "**ELiminación gausiana para una matriz creada aleatoria mente**"
      ],
      "metadata": {
        "id": "-U0pRAFce9CQ"
      }
    },
    {
      "cell_type": "code",
      "source": [
        "import numpy as np\n",
        "\n",
        "def eliminacion_gaussiana(A):\n",
        "    n = len(A)\n",
        "\n",
        "    for i in range(0, n):\n",
        "        # Búsqueda del pivote\n",
        "        max_fila = abs(A[i:, i]).argmax() + i\n",
        "        # Intercambiar la fila del pivote por la fila actual\n",
        "        A[[i, max_fila]] = A[[max_fila, i]]\n",
        "\n",
        "        for j in range(i+1, n):\n",
        "            factor = A[j,i] / A[i,i]\n",
        "            A[j, :] -= factor * A[i,:]\n",
        "\n",
        "    return A\n",
        "\n",
        "A = np.random.randint(0,10,(5,6)).astype(float)\n",
        "\n",
        "print(A)\n",
        "\n",
        "print(eliminacion_gaussiana(A))\n"
      ],
      "metadata": {
        "colab": {
          "base_uri": "https://localhost:8080/"
        },
        "id": "V8Gp0zPQ_W-a",
        "outputId": "85c7ab08-d81e-457c-ffc0-66f023b2589c"
      },
      "execution_count": null,
      "outputs": [
        {
          "output_type": "stream",
          "name": "stdout",
          "text": [
            "[[5. 1. 4. 0. 9. 5.]\n",
            " [8. 0. 9. 2. 6. 3.]\n",
            " [8. 2. 4. 2. 6. 4.]\n",
            " [8. 6. 1. 3. 8. 1.]\n",
            " [9. 8. 9. 4. 1. 3.]]\n",
            "[[ 9.          8.          9.          4.          1.          3.        ]\n",
            " [ 0.         -7.11111111  1.         -1.55555556  5.11111111  0.33333333]\n",
            " [ 0.          0.         -7.15625    -0.3125      6.3125     -1.71875   ]\n",
            " [ 0.          0.          0.         -1.40393013  4.65938865  3.52838428]\n",
            " [ 0.          0.          0.          0.         -3.49300156  1.64541213]]\n"
          ]
        }
      ]
    },
    {
      "cell_type": "markdown",
      "source": [
        "**Solución de un sistema AX = B  eliminación gaussiana**"
      ],
      "metadata": {
        "id": "ckeTSQtCfQ1y"
      }
    },
    {
      "cell_type": "code",
      "source": [
        "\n",
        "import numpy as np\n",
        "\n",
        "\n",
        "def eliminacion_gaussiana(A):\n",
        "    n = len(A)\n",
        "\n",
        "    for i in range(0, n):\n",
        "        # Búsqueda del pivote\n",
        "        max_fila = abs(A[i:, i]).argmax() + i\n",
        "        # Intercambiar la fila del pivote por la fila actual\n",
        "        A[[i, max_fila]] = A[[max_fila, i]]\n",
        "\n",
        "        for j in range(i+1, n):\n",
        "            factor = A[j,i] / A[i,i]\n",
        "            A[j, :] -= factor * A[i,:]\n",
        "\n",
        "    return A\n",
        "\n",
        "\n",
        "def regresion(A_ampliada):\n",
        "    n = A_ampliada.shape[0]\n",
        "    m = A_ampliada.shape[1]\n",
        "\n",
        "    # Eliminación Gaussiana\n",
        "    A_gauss = eliminacion_gaussiana(A_ampliada[:,0:n])\n",
        "\n",
        "    # Inicializar soluciones\n",
        "    x = np.zeros(n)\n",
        "\n",
        "    # Sustitución hacia atrás\n",
        "    for i in range(n-1,-1,-1):\n",
        "        suma = 0\n",
        "        for j in range(i+1,n):\n",
        "            suma += A_gauss[i,j]*x[j]\n",
        "        x[i] = (A_ampliada[i,-1] - suma)/A_gauss[i,i]\n",
        "\n",
        "    return x\n",
        "\n",
        "#crear matriz ampliada de manera aleatoria\n",
        "A = np.random.randint(-10,10,(5,6)).astype(float)\n",
        "sol = regresion(A)\n",
        "print(\"La solución del sistema es:\")\n",
        "print(sol)\n",
        "\n",
        "# Matriz de coeficientes\n",
        "coefficients = A[:, :-1]\n",
        "\n",
        "# Vector de términos constantes\n",
        "constants = -A[:, -1]\n",
        "\n",
        "solution = np.linalg.solve(coefficients, constants)\n",
        "\n",
        "print('Verificación usando librerías')\n",
        "print(solution)\n",
        "\n"
      ],
      "metadata": {
        "colab": {
          "base_uri": "https://localhost:8080/"
        },
        "id": "xtOCUuBjDamP",
        "outputId": "f3f00b37-38d1-4f59-f0ad-d126a761fcf6"
      },
      "execution_count": null,
      "outputs": [
        {
          "output_type": "stream",
          "name": "stdout",
          "text": [
            "La solución del sistema es:\n",
            "[0.12791215 2.24422706 0.98604482 0.97283355 1.73831776]\n",
            "Verificación usando librerías\n",
            "[-0.12791215 -2.24422706 -0.98604482 -0.97283355 -1.73831776]\n"
          ]
        }
      ]
    },
    {
      "cell_type": "markdown",
      "source": [
        "**Determinante de una matriz 4x4**"
      ],
      "metadata": {
        "id": "OEbOEMHBfkyh"
      }
    },
    {
      "cell_type": "code",
      "source": [
        "# determinante de una matriz 4x4\n",
        "\n",
        "import numpy as np\n",
        "\n",
        "\n",
        "#**************************************************\n",
        "def determinante(B,elemento,i):\n",
        "    det =0\n",
        "    det= B[0,0]*B[1,1]- B[0,1]*B[1,0]\n",
        "\n",
        "    #print(B)\n",
        "    #print(i)\n",
        "    #print(elemento)\n",
        "    #print(det)\n",
        "\n",
        "\n",
        "    return det*elemento * (-1)**i\n",
        "#*******************************************************\n",
        "\n",
        "\n",
        "def determinante2(A):\n",
        "\n",
        "\n",
        "\n",
        "    # Extraer la primera fila de A\n",
        "    fila = A[0, :]\n",
        "\n",
        "    # Extraer la segunda columna de A\n",
        "    columna = A[:, 1]\n",
        "\n",
        "    # Crear la matriz B a partir de las filas y columnas restantes\n",
        "    # Esto se puede hacer excluyendo la fila y la columna extraídas\n",
        "    suma = 0\n",
        "\n",
        "\n",
        "\n",
        "\n",
        "    for i in range(0,len(A[0]-1)):\n",
        "\n",
        "        B = np.delete(np.delete(A, 0, axis=0), i, axis=1)\n",
        "        elemento = A[0,i]\n",
        "        #print(B)\n",
        "        #print('suma', determinante( B , elemento , i))\n",
        "        suma += determinante( B , elemento , i)\n",
        "\n",
        "\n",
        "\n",
        "\n",
        "\n",
        "    #print(suma)\n",
        "\n",
        "\n",
        "\n",
        "\n",
        "    return suma\n",
        "print('A = ')\n",
        "print(A)\n",
        "A = np.array([[1, 2, 3, 4],\n",
        "                [8, 5, 6,7],\n",
        "                [10,7, 8, 9],\n",
        "                [11,12,13,14] ])\n",
        "\n",
        "\n",
        "B = np.delete(np.delete(A, 0, axis=0), 1 , axis=1)\n",
        "\n",
        "print(B)\n",
        "print(determinante2(B))\n",
        "print(np.linalg.det(B))\n",
        "\n",
        "\n"
      ],
      "metadata": {
        "colab": {
          "base_uri": "https://localhost:8080/"
        },
        "outputId": "3d6f710d-3bc0-426d-a33c-ecd3dd67c58a",
        "id": "-SPkjaPSDijl"
      },
      "execution_count": null,
      "outputs": [
        {
          "output_type": "stream",
          "name": "stdout",
          "text": [
            "A = \n",
            "[[1 2 3]\n",
            " [4 5 6]\n",
            " [7 8 9]]\n",
            "[[ 8  6  7]\n",
            " [10  8  9]\n",
            " [11 13 14]]\n",
            "8\n",
            "7.999999999999973\n"
          ]
        }
      ]
    },
    {
      "cell_type": "markdown",
      "source": [
        "**Resolución de un sistema AX =B por diagonalización de matrices**\n",
        "\n",
        "\n",
        "\n",
        "\n",
        "\n",
        "\n",
        "\n",
        "SI  $A$ tiene \\(n\\) autovectores linealmente independientes entonces $A$ es\n",
        " diagonalizable, donde. $\\lambda_i$ son los autovalores  y  $v_i$ son los autovectores asociados a la matriz $A$.\n",
        "\n",
        " **Construir la matriz P:** La matriz P se forma colocando los autovectores como columnas. Es decir, si $v_i$ es el $i$-ésimo autovector, entonces $P = [v_1, v_2, ..., v_n]$.\n",
        "\n",
        "**Calcular la matriz diagonal D:** $D = P^{-1}AP$\n",
        "\n",
        " **Resolver** $Dy = P^{-1}B\\$\n",
        "\n",
        "  El sistema $Dy = P^{-1}B\\$ es más fácil de resolver porque D es una matriz diagonal. Puedes resolver cada ecuación por separado.\n",
        "\n",
        "**Encontrar la solución de** $Ax = B$\n",
        "\n",
        "La solución $x$ del sistema original se encuentra usando $x = Py$.\n",
        "\n"
      ],
      "metadata": {
        "id": "g7zVoMwAgCjC"
      }
    },
    {
      "cell_type": "code",
      "source": [
        "import numpy as np\n",
        "\n",
        "def diagonali(A, B):\n",
        "    # Paso 1: Diagonalización\n",
        "    eigenvalues, eigenvectors = np.linalg.eig(A)\n",
        "    P = eigenvectors\n",
        "    D = np.linalg.inv(P) @ A @ P\n",
        "\n",
        "    # Paso 2: Resolver Dy = P^{-1}B\n",
        "    D_inv = np.linalg.inv(D)\n",
        "    y = D_inv @ P.T @ B\n",
        "\n",
        "    # Paso 3: Encontrar la solución de Ax = B\n",
        "    x = P @ y\n",
        "\n",
        "    return x\n",
        "\n",
        "# Ejemplo\n",
        "A = np.random.randint(-10,10,(2,2)).astype(float)\n",
        "B = np.random.randint(-10,10,(2)).astype(float)\n",
        "\n",
        "solution = diagonali(A, B)\n",
        "print(\"Solución del sistema Ax = B:\", solution)\n",
        "\n",
        "\n"
      ],
      "metadata": {
        "colab": {
          "base_uri": "https://localhost:8080/"
        },
        "outputId": "9f969b1a-41eb-4a4f-f60c-108f2cf06eca",
        "id": "lcYWc6IocRYd"
      },
      "execution_count": null,
      "outputs": [
        {
          "output_type": "stream",
          "name": "stdout",
          "text": [
            "Solución del sistema Ax = B: [-1.19245283  1.02641509]\n"
          ]
        }
      ]
    }
  ]
}