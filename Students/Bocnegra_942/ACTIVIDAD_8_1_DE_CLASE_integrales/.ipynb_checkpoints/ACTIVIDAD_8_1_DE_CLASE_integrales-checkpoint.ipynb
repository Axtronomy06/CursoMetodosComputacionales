{
 "cells": [
  {
   "cell_type": "code",
   "execution_count": null,
   "metadata": {
    "id": "ny6UMlUWcbeB"
   },
   "outputs": [],
   "source": []
  },
  {
   "cell_type": "code",
   "execution_count": 2,
   "metadata": {
    "colab": {
     "base_uri": "https://localhost:8080/"
    },
    "id": "TOC1X-OI6ire",
    "outputId": "402382ca-7dbe-4ca4-f958-68429bed54ad"
   },
   "outputs": [
    {
     "name": "stdout",
     "output_type": "stream",
     "text": [
      "El valor de la integral usando trapecio simple es :  45.33333333439996\n"
     ]
    }
   ],
   "source": [
    "\n",
    "import numpy as np\n",
    "import matplotlib.pyplot as plt\n",
    "import scipy as sp\n",
    "\n",
    "\n",
    "#************************************\n",
    "#Definición de funciones\n",
    "#************************************\n",
    "#definicion de f(x)\n",
    "def f(x):\n",
    "    return x**2+1\n",
    "\n",
    "\n",
    "\n",
    "#area de un trapecio(metodo simple)\n",
    "def area(a,b):\n",
    "    return ((b-a)/2)*(f(a)+f(b))\n",
    "\n",
    "def integral_trapz(a,b,N):\n",
    "\n",
    "\n",
    "    #suma de todas las areas de los trapecios\n",
    "    suma =0\n",
    "    suma2 =0\n",
    "    valores_x = np.linspace(a,b,N)\n",
    "\n",
    "    for i in range(0,len(valores_x)-1):\n",
    "\n",
    "        suma += area(valores_x[i],valores_x[i+1])\n",
    "        suma2 += f(valores_x[i])\n",
    "\n",
    "    return suma\n",
    "\n",
    "\n",
    "\n",
    "#************************************\n",
    "\n",
    "a=1\n",
    "b=5\n",
    "N = 100000\n",
    "\n",
    "print('El valor de la integral usando trapecio simple es : ',integral_trapz(a,b,N))\n",
    "\n",
    "\n",
    "\n"
   ]
  },
  {
   "cell_type": "code",
   "execution_count": null,
   "metadata": {
    "id": "LI1zNWoLgUI1"
   },
   "outputs": [],
   "source": []
  }
 ],
 "metadata": {
  "colab": {
   "provenance": []
  },
  "kernelspec": {
   "display_name": "Python 3 (ipykernel)",
   "language": "python",
   "name": "python3"
  },
  "language_info": {
   "codemirror_mode": {
    "name": "ipython",
    "version": 3
   },
   "file_extension": ".py",
   "mimetype": "text/x-python",
   "name": "python",
   "nbconvert_exporter": "python",
   "pygments_lexer": "ipython3",
   "version": "3.10.9"
  }
 },
 "nbformat": 4,
 "nbformat_minor": 1
}
