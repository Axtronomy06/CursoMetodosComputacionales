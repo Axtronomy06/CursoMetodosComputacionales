{
  "cells": [
    {
      "cell_type": "markdown",
      "metadata": {
        "id": "kKNBYkSAIO_-"
      },
      "source": [
        "<a href=\"https://colab.research.google.com/github/hernansalinas/autogrades/blob/main/Laboratorios_Taller/Lab02_v2_python_basico02.ipynb\" target=\"_parent\"><img src=\"https://colab.research.google.com/assets/colab-badge.svg\" alt=\"Open In Colab\"/></a>\n",
        "\n",
        "\n",
        "# Laboratorio 02\n",
        "### Métodos computacionales para físicos  y astrónomos\n",
        "### Universidad de Antioquia\n",
        "### Prof: Hernan D. Salinas Jiménez\n",
        "\n"
      ]
    },
    {
      "cell_type": "code",
      "execution_count": 123,
      "metadata": {
        "colab": {
          "base_uri": "https://localhost:8080/"
        },
        "id": "TFmOxrpqWCiE",
        "outputId": "792dc953-e08f-4701-9422-ed49a70a201e"
      },
      "outputs": [
        {
          "output_type": "stream",
          "name": "stdout",
          "text": [
            "Cloning into 'autogradesMetodosComputacionales'...\n",
            "remote: Enumerating objects: 600, done.\u001b[K\n",
            "remote: Counting objects: 100% (216/216), done.\u001b[K\n",
            "remote: Compressing objects: 100% (142/142), done.\u001b[K\n",
            "remote: Total 600 (delta 120), reused 128 (delta 73), pack-reused 384\u001b[K\n",
            "Receiving objects: 100% (600/600), 38.60 MiB | 31.52 MiB/s, done.\n",
            "Resolving deltas: 100% (314/314), done.\n"
          ]
        }
      ],
      "source": [
        "# Ejecutar esta celda antes de cada laboratorio\n",
        "!git clone https://github.com/hernansalinas/autogradesMetodosComputacionales.git"
      ]
    },
    {
      "cell_type": "code",
      "execution_count": 124,
      "metadata": {
        "id": "5tCaVJVzIRe3"
      },
      "outputs": [],
      "source": [
        "# Ejecutar esta celda antes de cada laboratorio\n",
        "path=\"autogradesMetodosComputacionales/Laboratorios_Taller/libs\"\n",
        "pathL=\"autogradesMetodosComputacionales/Laboratorios_Taller/libs/Lab_02\"\n",
        "%run -i {path}/libUnitTest.py"
      ]
    },
    {
      "cell_type": "markdown",
      "metadata": {
        "id": "Y94jQ_tzdU6l"
      },
      "source": [
        "### Teoria de números\n",
        "\n",
        "\n",
        "Diseñar un programa en el que entrado  un numero `a`  retorne una variable booleana True or false si cumple que es:\n",
        "\n",
        "2. [Números defectivo](https://es.wikipedia.org/wiki/Número_defectivo) : la suma de los divisores propios es menor que el número.\n",
        "\n",
        "  La rutina se deberá llamar números_defectivos\n",
        "\n",
        "\n",
        "\n",
        "3. [Números abundantes](https://es.wikipedia.org/wiki/Número_abundante): la suma de los divisores es mayor que el número.\n",
        "\n",
        "  La rutina se deberá llamar números_abundantes\n",
        "\n",
        "\n",
        "\n",
        "4. [Números semiperfectos](https://es.wikipedia.org/wiki/N%C3%BAmero_semiperfecto) la suma de todos o algunos de los divisores propios es igual al número.\n",
        "\n",
        "  La rutina se debera llamar numeros_semiperfectos\n",
        "\n",
        "5. [Números perfectos](https://es.wikipedia.org/wiki/N%C3%BAmero_perfecto) la suma de todos sus divisores propios, excepto el mismo numero, es igual al número.\n",
        "\n",
        "   La rutina se deberá llamar numeros_perfectos\n",
        "\n",
        "\n",
        "6. [Números primos](https://es.wikipedia.org/wiki/N%C3%BAmero_primo) el número es divisible unicamente por sí mismo y por 1.\n",
        "   La rutina se deberá llamar numeros_primos\n",
        "\n",
        "\n",
        "Problema no obligatorio:\n",
        "\n",
        "P1. Retornar los 30 primeros números de cada clase"
      ]
    },
    {
      "cell_type": "code",
      "source": [
        "#from re import T\n",
        "\n",
        "#******************************************************\n",
        "def divisores(a):\n",
        "    global red_flag                          #variable global\n",
        "    lista=[]\n",
        "    suma = 0\n",
        "\n",
        "    for i in range(1,a,1):\n",
        "\n",
        "        if a % i == 0:\n",
        "            lista.append(i)\n",
        "            numero\n",
        "            suma += i\n",
        "            lista=lista[::-1]\n",
        "    if red_flag > 0:\n",
        "\n",
        "\n",
        "        for j in range(1,red_flag,1):\n",
        "            lista = nuevalista(lista)\n",
        "\n",
        "\n",
        "    return lista,suma\n",
        "\n",
        "#******************************************************\n",
        "\n",
        "def numeros_primos(numero):\n",
        "    temporal=numero\n",
        "    factores_primos = []\n",
        "    divisor = 2\n",
        "\n",
        "    while divisor <= numero:\n",
        "        if numero % divisor == 0:\n",
        "            factores_primos.append(divisor)\n",
        "            numero = numero / divisor\n",
        "        else:\n",
        "            divisor += 1\n",
        "\n",
        "    if len(factores_primos)==1:\n",
        "        print(temporal,\": Es un número primo\")\n",
        "        return True\n",
        "    else:\n",
        "        return False\n",
        "\n",
        "\n",
        "\n",
        "\n",
        "#****************************************************\n",
        "def numeros_perfectos(a):\n",
        "\n",
        "    resultado = divisores(a)\n",
        "\n",
        "    #print(resultado)\n",
        "    if resultado[1] == a:\n",
        "        print(f\"{a} : Es un múmero perfecto \")\n",
        "        return True\n",
        "    else:\n",
        "        return False\n",
        "\n",
        "\n",
        "#*****************************************************\n",
        "\n",
        "\n",
        "\n",
        "#******************************************************\n",
        "def numeros_defectivos(a):\n",
        "    resultado = divisores(a)\n",
        "    if resultado[1] < a:\n",
        "        print(f\"{a} Es un múmero defectivo  :\")\n",
        "        return True\n",
        "    else:\n",
        "        return False\n",
        "\n",
        "#******************************************************\n",
        "\n",
        "\n",
        "\n",
        "#*********************************************************\n",
        "def numeros_abundantes(a):\n",
        "    resultado =divisores(a)\n",
        "\n",
        "    if resultado[1] > a:\n",
        "        print(f\"{a} Es un múmero abundante  :\")\n",
        "        return True\n",
        "    else:\n",
        "        return False\n",
        "\n",
        "#*********************************************************\n",
        "\n",
        "\n",
        "\n",
        "#************************************************************\n",
        "#************************************************************\n",
        "#************************************************************\n",
        "#COMIENZA LAS FUNCIONES PARA SEMIPERFECTO\n",
        "\n",
        "#*********************************************************\n",
        "#función para cambiar el orden de la lista\n",
        "def nuevalista(numeros):\n",
        "    for l in range(0,len(numeros)-1,1):\n",
        "        temp = numeros[l]\n",
        "        numeros[l]=numeros[l+1]\n",
        "        numeros[l+1]=temp\n",
        "    return numeros\n",
        "#***********************************************************\n",
        "\n",
        "\n",
        "#*************************************************************************************************************************\n",
        "#función para encontrar si el numero es semi perfecto se irá recorriendo la lista\n",
        "#numeros buscando si algunos de sus terminos suman  el valor contenido en \"total\"\n",
        "import math\n",
        "\n",
        "def numeros_semiperfectos(a):\n",
        "    global red_flag                          #variable global\n",
        "\n",
        "\n",
        "    resultado_funcion = divisores(a)\n",
        "    numeros = resultado_funcion[0]\n",
        "\n",
        "    terminacion = math.factorial(len(numeros))#numero de posibles combinaciones de la lista\n",
        "    if terminacion > 1000: # condicion para no permitir que haya un desborde de recursividad\n",
        "        terminacion = 950\n",
        "\n",
        "    total = a                                 # la suma que se espera encontrar\n",
        "    resultados=[]                              #lista vacia  en esta lista se iran guardando posibles resultados\n",
        "    suma2=0                                  #variable auxiliar para barrer la lista resultados con los numeros escogidos\n",
        "\n",
        "    if numeros_perfectos(a):\n",
        "        print(a ,\": Es semi-perfecto\")\n",
        "        print(numeros)\n",
        "        return True\n",
        "\n",
        "\n",
        "    for i in range(0,len(numeros),1):\n",
        "\n",
        "        flag =1                          #esta variable ayudara a controlar que no se agregue el mismo número dos veces\n",
        "        for j in range(i+1,len(numeros),1):\n",
        "            sum = numeros[i]+numeros[j]  #se suman dos numeros consecutivos en la lista y se verifica que sean menores que total\n",
        "            if sum <= total :\n",
        "                if flag ==1:\n",
        "                    resultados.append(numeros[i])\n",
        "                    flag =0                     #se cambia esta variable a cero para indicar que ya el primer número se agrego\n",
        "                resultados.append(numeros[j])\n",
        "                if len(resultados)>=len(numeros):#si la lista de resultados es mas grande que la lista original se desecha\n",
        "                    resultados=[]\n",
        "\n",
        "                for k in range(0,len(resultados),1):#se recorre la lista de resultados y se suman\n",
        "\n",
        "                    suma2 += resultados[k]\n",
        "\n",
        "                    if suma2 == total:\n",
        "                        print(a ,\": Es semi-perfecto\")\n",
        "                        print(resultados)\n",
        "                        return True\n",
        "\n",
        "                    if suma2 > total:\n",
        "                        suma2 -= resultados[-1] #si la suma excede el valor de total entonces restamos ese ultimo valor\n",
        "                        resultados[-1]=0        #cambiamos ese ultimo valor por cero\n",
        "\n",
        "                    if red_flag > terminacion: # condición de control para terminal cuando se lleve una cantidad igual al factorial de la longitud de la lista numeros\n",
        "                        print(\"No es número semi-perfecto\")\n",
        "                        return False\n",
        "\n",
        "                suma2=0\n",
        "\n",
        "\n",
        "    red_flag+=1\n",
        "    #print(\"el valor de red_flag es :\",red_flag)\n",
        "    #print(terminacion)                    # se incrementa la variable global cada vez que se busca la suma deseada en el orden de lista actual\n",
        "    numeros_semiperfectos(a)         #llamada recursiva\n",
        "    return \"FIN\"\n",
        "#************************************************************************************************************************************************************************\n",
        "\n",
        "\n",
        "\n",
        "red_flag =0  # Variable global que se usa en numeros_semiperfectos\n",
        "\n",
        "\n",
        "\n",
        "\n",
        "\n",
        "#************************************************************\n",
        "#************************************************************\n",
        "#************************************************************\n",
        "#Finalizan LAS FUNCIONES PARA SEMIPERFECTO\n",
        "\n",
        "\n",
        "\n",
        "\n",
        "\n",
        "\n",
        "numero = 380\n",
        "\n",
        "\n",
        "\n",
        "\n",
        "#print(numeros_perfectos(numero))\n",
        "#print(numeros_defectivos(numero))\n",
        "#print(numeros_abundantes(numero))\n",
        "#print(numeros_semiperfectos(numero))\n",
        "#divisores(numero)\n",
        "#numeros_primos(229)"
      ],
      "metadata": {
        "colab": {
          "base_uri": "https://localhost:8080/"
        },
        "id": "uPQDQBvPBDe1",
        "outputId": "c1a0e517-bac9-4cc0-cf90-c4a0bcfcec8a"
      },
      "execution_count": 121,
      "outputs": [
        {
          "output_type": "stream",
          "name": "stdout",
          "text": [
            "229 : Es un número primo\n"
          ]
        },
        {
          "output_type": "execute_result",
          "data": {
            "text/plain": [
              "True"
            ]
          },
          "metadata": {},
          "execution_count": 121
        }
      ]
    },
    {
      "cell_type": "code",
      "source": [
        "semi_perfectos = [88, 104, 112, 124, 128, 136, 148, 152, 160, 164,\n",
        "                          176, 184, 188, 196, 200, 208, 212, 220, 224, 232, 236,\n",
        "                          244, 248, 256, 260, 268, 272, 280, 284, 292, 296, 304,\n",
        "                          308, 316, 328, 332, 340, 344, 352, 356, 364, 368, 376,\n",
        "                          380, 388, 392, 400, 404, 412]\n",
        "for i in range(0,len(semi_perfectos),1):\n",
        "    #print(numeros_semiperfectos(semi_perfectos[i]))\n",
        "    print(numeros_defectivos(semi_perfectos[i]))\n"
      ],
      "metadata": {
        "colab": {
          "base_uri": "https://localhost:8080/"
        },
        "id": "C0wsLjE-DLxW",
        "outputId": "c52c2ec3-d975-472d-b9ac-4fc340e527e6"
      },
      "execution_count": 87,
      "outputs": [
        {
          "output_type": "stream",
          "name": "stdout",
          "text": [
            "False\n",
            "False\n",
            "False\n",
            "124 Es un múmero defectivo  :\n",
            "True\n",
            "128 Es un múmero defectivo  :\n",
            "True\n",
            "136 Es un múmero defectivo  :\n",
            "True\n",
            "148 Es un múmero defectivo  :\n",
            "True\n",
            "152 Es un múmero defectivo  :\n",
            "True\n",
            "False\n",
            "164 Es un múmero defectivo  :\n",
            "True\n",
            "False\n",
            "184 Es un múmero defectivo  :\n",
            "True\n",
            "188 Es un múmero defectivo  :\n",
            "True\n",
            "False\n",
            "False\n",
            "False\n",
            "212 Es un múmero defectivo  :\n",
            "True\n",
            "False\n",
            "False\n",
            "232 Es un múmero defectivo  :\n",
            "True\n",
            "236 Es un múmero defectivo  :\n",
            "True\n",
            "244 Es un múmero defectivo  :\n",
            "True\n",
            "248 Es un múmero defectivo  :\n",
            "True\n",
            "256 Es un múmero defectivo  :\n",
            "True\n",
            "False\n",
            "268 Es un múmero defectivo  :\n",
            "True\n",
            "False\n",
            "False\n",
            "284 Es un múmero defectivo  :\n",
            "True\n",
            "292 Es un múmero defectivo  :\n",
            "True\n",
            "296 Es un múmero defectivo  :\n",
            "True\n",
            "False\n",
            "False\n",
            "316 Es un múmero defectivo  :\n",
            "True\n",
            "328 Es un múmero defectivo  :\n",
            "True\n",
            "332 Es un múmero defectivo  :\n",
            "True\n",
            "False\n",
            "344 Es un múmero defectivo  :\n",
            "True\n",
            "False\n",
            "356 Es un múmero defectivo  :\n",
            "True\n",
            "False\n",
            "False\n",
            "376 Es un múmero defectivo  :\n",
            "True\n",
            "False\n",
            "388 Es un múmero defectivo  :\n",
            "True\n",
            "False\n",
            "False\n",
            "404 Es un múmero defectivo  :\n",
            "True\n",
            "412 Es un múmero defectivo  :\n",
            "True\n"
          ]
        }
      ]
    },
    {
      "cell_type": "code",
      "execution_count": 125,
      "metadata": {
        "colab": {
          "base_uri": "https://localhost:8080/",
          "height": 249
        },
        "id": "XSyDVlnzi9KL",
        "outputId": "fb3e75c4-7690-4b5f-e14f-79eb2c47f276"
      },
      "outputs": [
        {
          "output_type": "stream",
          "name": "stdout",
          "text": [
            "8 Es un múmero defectivo  :\n",
            "26 Es un múmero defectivo  :\n"
          ]
        },
        {
          "output_type": "display_data",
          "data": {
            "text/plain": [
              "<IPython.core.display.HTML object>"
            ],
            "text/html": [
              "<style>\n",
              "  table { text-align: left; border-collapse: collapse; margin: 1em; caption-side: bottom; font-family: Sans-Serif; font-size: 12px}\n",
              "  caption { text-align: left; padding: 5px }\n",
              "  th, td { border: 2px solid #BFC9CA; padding: 5px }\n",
              "  th { background-color: #BFC9CA }\n",
              "  .passed { background-color: #76D7C4 }\n",
              "  .failed { background-color: #EC7063 }\n",
              "  .skipped { background-color: #EDBB99 }\n",
              "  .score { background-color: #7DCEA0 }\n",
              "  .results .points { display: none }\n",
              "  .results .message { display: block; font-size:smaller; color:#D35400 }\n",
              "  .results .note { display: block; font-size:smaller; font-decoration:italics }\n",
              "  .results .passed::before  { content: \"Passed\" } \n",
              "  .results .skipped::before  { content: \"Skipped\" } \n",
              "  .results .failed::before  { content: \"Failed\" } \n",
              "  .grade .passed  .message:empty::before { content:\"Passed\" }\n",
              "  .grade .failed  .message:empty::before { content:\"Failed\" }\n",
              "  .grade .skipped .message:empty::before { content:\"Skipped\" }   \n",
              "</style>\n",
              "<table class='results'>\n",
              "  <th class='test'>Test</th><th class='result'>Result</th></tr>\n",
              "<tr>\n",
              "  <td class='test'>\n",
              "    Números defectivos, la variable debe ser booleana  \n",
              "    <div class='message'>Done</div>\n",
              "  </td>\n",
              "  <td class='result passed'></td>\n",
              "</tr>\n",
              "<tr>\n",
              "  <td class='test'>\n",
              "    Comprobando si el número 26 es defectivo   \n",
              "    <div class='message'>Done</div>\n",
              "  </td>\n",
              "  <td class='result passed'></td>\n",
              "</tr>\n",
              "<tr>\n",
              "  <td class='test'>\n",
              "    Comprobando si el 6 es un número es defectivo   \n",
              "    <div class='message'>Done</div>\n",
              "  </td>\n",
              "  <td class='result passed'></td>\n",
              "</tr>  <tr><th class='score'>Total Points</th><th class='score'>3</th></tr></table>\n"
            ]
          },
          "metadata": {}
        }
      ],
      "source": [
        "%run -i {pathL}/test02.py"
      ]
    },
    {
      "cell_type": "code",
      "execution_count": 146,
      "metadata": {
        "colab": {
          "base_uri": "https://localhost:8080/",
          "height": 232
        },
        "id": "DfHfIk0DkQev",
        "outputId": "20dd5079-45b6-4184-f99b-d299e9419501"
      },
      "outputs": [
        {
          "output_type": "stream",
          "name": "stdout",
          "text": [
            "18 Es un múmero abundante  :\n"
          ]
        },
        {
          "output_type": "display_data",
          "data": {
            "text/plain": [
              "<IPython.core.display.HTML object>"
            ],
            "text/html": [
              "<style>\n",
              "  table { text-align: left; border-collapse: collapse; margin: 1em; caption-side: bottom; font-family: Sans-Serif; font-size: 12px}\n",
              "  caption { text-align: left; padding: 5px }\n",
              "  th, td { border: 2px solid #BFC9CA; padding: 5px }\n",
              "  th { background-color: #BFC9CA }\n",
              "  .passed { background-color: #76D7C4 }\n",
              "  .failed { background-color: #EC7063 }\n",
              "  .skipped { background-color: #EDBB99 }\n",
              "  .score { background-color: #7DCEA0 }\n",
              "  .results .points { display: none }\n",
              "  .results .message { display: block; font-size:smaller; color:#D35400 }\n",
              "  .results .note { display: block; font-size:smaller; font-decoration:italics }\n",
              "  .results .passed::before  { content: \"Passed\" } \n",
              "  .results .skipped::before  { content: \"Skipped\" } \n",
              "  .results .failed::before  { content: \"Failed\" } \n",
              "  .grade .passed  .message:empty::before { content:\"Passed\" }\n",
              "  .grade .failed  .message:empty::before { content:\"Failed\" }\n",
              "  .grade .skipped .message:empty::before { content:\"Skipped\" }   \n",
              "</style>\n",
              "<table class='results'>\n",
              "  <th class='test'>Test</th><th class='result'>Result</th></tr>\n",
              "<tr>\n",
              "  <td class='test'>\n",
              "    Números abundantes, la variable debe ser booleana  \n",
              "    <div class='message'>Done</div>\n",
              "  </td>\n",
              "  <td class='result passed'></td>\n",
              "</tr>\n",
              "<tr>\n",
              "  <td class='test'>\n",
              "    Comprobando si el número 18 es abundantes   \n",
              "    <div class='message'>Done</div>\n",
              "  </td>\n",
              "  <td class='result passed'></td>\n",
              "</tr>\n",
              "<tr>\n",
              "  <td class='test'>\n",
              "    Comprobando si el 21 es un número  abundante   \n",
              "    <div class='message'>Done</div>\n",
              "  </td>\n",
              "  <td class='result passed'></td>\n",
              "</tr>  <tr><th class='score'>Total Points</th><th class='score'>3</th></tr></table>\n"
            ]
          },
          "metadata": {}
        }
      ],
      "source": [
        "%run -i {pathL}/test03.py"
      ]
    },
    {
      "cell_type": "code",
      "execution_count": 155,
      "metadata": {
        "id": "MJzLOXxHqKrz",
        "colab": {
          "base_uri": "https://localhost:8080/"
        },
        "outputId": "79564d61-a6b9-4730-8b86-8f6b093587f4"
      },
      "outputs": [
        {
          "output_type": "stream",
          "name": "stdout",
          "text": [
            "No es número semi-perfecto\n",
            "No es número semi-perfecto\n",
            "La función no ha sido definda o el numero de argumento no es el adecuado\n"
          ]
        }
      ],
      "source": [
        "%run -i {pathL}/test04.py"
      ]
    },
    {
      "cell_type": "code",
      "execution_count": 147,
      "metadata": {
        "id": "m9bNF9I6qMnD",
        "colab": {
          "base_uri": "https://localhost:8080/",
          "height": 232
        },
        "outputId": "0f4c2c64-19f2-41c1-9a5a-512a5c3a0af4"
      },
      "outputs": [
        {
          "output_type": "stream",
          "name": "stdout",
          "text": [
            "8128 : Es un múmero perfecto \n"
          ]
        },
        {
          "output_type": "display_data",
          "data": {
            "text/plain": [
              "<IPython.core.display.HTML object>"
            ],
            "text/html": [
              "<style>\n",
              "  table { text-align: left; border-collapse: collapse; margin: 1em; caption-side: bottom; font-family: Sans-Serif; font-size: 12px}\n",
              "  caption { text-align: left; padding: 5px }\n",
              "  th, td { border: 2px solid #BFC9CA; padding: 5px }\n",
              "  th { background-color: #BFC9CA }\n",
              "  .passed { background-color: #76D7C4 }\n",
              "  .failed { background-color: #EC7063 }\n",
              "  .skipped { background-color: #EDBB99 }\n",
              "  .score { background-color: #7DCEA0 }\n",
              "  .results .points { display: none }\n",
              "  .results .message { display: block; font-size:smaller; color:#D35400 }\n",
              "  .results .note { display: block; font-size:smaller; font-decoration:italics }\n",
              "  .results .passed::before  { content: \"Passed\" } \n",
              "  .results .skipped::before  { content: \"Skipped\" } \n",
              "  .results .failed::before  { content: \"Failed\" } \n",
              "  .grade .passed  .message:empty::before { content:\"Passed\" }\n",
              "  .grade .failed  .message:empty::before { content:\"Failed\" }\n",
              "  .grade .skipped .message:empty::before { content:\"Skipped\" }   \n",
              "</style>\n",
              "<table class='results'>\n",
              "  <th class='test'>Test</th><th class='result'>Result</th></tr>\n",
              "<tr>\n",
              "  <td class='test'>\n",
              "    Números perfectos, la variable debe ser booleana  \n",
              "    <div class='message'>Done</div>\n",
              "  </td>\n",
              "  <td class='result passed'></td>\n",
              "</tr>\n",
              "<tr>\n",
              "  <td class='test'>\n",
              "    Comprobando si el número 8128 es perfecto   \n",
              "    <div class='message'>Done</div>\n",
              "  </td>\n",
              "  <td class='result passed'></td>\n",
              "</tr>\n",
              "<tr>\n",
              "  <td class='test'>\n",
              "    Comprobando si el 2 es un número  perfecto   \n",
              "    <div class='message'>Done</div>\n",
              "  </td>\n",
              "  <td class='result passed'></td>\n",
              "</tr>  <tr><th class='score'>Total Points</th><th class='score'>3</th></tr></table>\n"
            ]
          },
          "metadata": {}
        }
      ],
      "source": [
        "%run -i {pathL}/test05.py"
      ]
    },
    {
      "cell_type": "code",
      "execution_count": 148,
      "metadata": {
        "id": "4uRbgtG8qN25",
        "colab": {
          "base_uri": "https://localhost:8080/",
          "height": 232
        },
        "outputId": "05d83d2a-5253-48a6-a756-f78693fd06a5"
      },
      "outputs": [
        {
          "output_type": "stream",
          "name": "stdout",
          "text": [
            "19 : Es un número primo\n"
          ]
        },
        {
          "output_type": "display_data",
          "data": {
            "text/plain": [
              "<IPython.core.display.HTML object>"
            ],
            "text/html": [
              "<style>\n",
              "  table { text-align: left; border-collapse: collapse; margin: 1em; caption-side: bottom; font-family: Sans-Serif; font-size: 12px}\n",
              "  caption { text-align: left; padding: 5px }\n",
              "  th, td { border: 2px solid #BFC9CA; padding: 5px }\n",
              "  th { background-color: #BFC9CA }\n",
              "  .passed { background-color: #76D7C4 }\n",
              "  .failed { background-color: #EC7063 }\n",
              "  .skipped { background-color: #EDBB99 }\n",
              "  .score { background-color: #7DCEA0 }\n",
              "  .results .points { display: none }\n",
              "  .results .message { display: block; font-size:smaller; color:#D35400 }\n",
              "  .results .note { display: block; font-size:smaller; font-decoration:italics }\n",
              "  .results .passed::before  { content: \"Passed\" } \n",
              "  .results .skipped::before  { content: \"Skipped\" } \n",
              "  .results .failed::before  { content: \"Failed\" } \n",
              "  .grade .passed  .message:empty::before { content:\"Passed\" }\n",
              "  .grade .failed  .message:empty::before { content:\"Failed\" }\n",
              "  .grade .skipped .message:empty::before { content:\"Skipped\" }   \n",
              "</style>\n",
              "<table class='results'>\n",
              "  <th class='test'>Test</th><th class='result'>Result</th></tr>\n",
              "<tr>\n",
              "  <td class='test'>\n",
              "    Números primos, la variable debe ser booleana  \n",
              "    <div class='message'>Done</div>\n",
              "  </td>\n",
              "  <td class='result passed'></td>\n",
              "</tr>\n",
              "<tr>\n",
              "  <td class='test'>\n",
              "    Comprobando si el número 19 es primos   \n",
              "    <div class='message'>Done</div>\n",
              "  </td>\n",
              "  <td class='result passed'></td>\n",
              "</tr>\n",
              "<tr>\n",
              "  <td class='test'>\n",
              "    Comprobando si el 36 es un número  primos   \n",
              "    <div class='message'>Done</div>\n",
              "  </td>\n",
              "  <td class='result passed'></td>\n",
              "</tr>  <tr><th class='score'>Total Points</th><th class='score'>3</th></tr></table>\n"
            ]
          },
          "metadata": {}
        }
      ],
      "source": [
        "%run -i {pathL}/test06.py"
      ]
    },
    {
      "cell_type": "markdown",
      "metadata": {
        "id": "WXOT_ssoJh8x"
      },
      "source": [
        "\n",
        "7. Diseñar un programa en el que entrado dos números `a`  y `b` retorne una variable booleana **True** o **false**.\n",
        "\n",
        "  [Números amigos](https://es.wikipedia.org/wiki/N%C3%BAmeros_amigos) `a` y `b` tales que a es la suma de los divisores propios de `b` y viceversa.\n",
        "    La rutina se debera llamar numeros_amigos\n",
        "\n",
        "\n",
        "\n",
        "\n",
        "P2. Retornar los 10 primeros pares de numeros perfectos, semiperfectos, amigos\n",
        "\n"
      ]
    },
    {
      "cell_type": "code",
      "source": [
        "def numeros_amigos(a,b):\n",
        "    divisores_a=divisores(a)\n",
        "    divisores_b=divisores(b)\n",
        "    if divisores_a[1]==b and divisores_b[1]==a:\n",
        "        print(a,\" \",b,\": Son números amigos\")\n",
        "        return True\n",
        "    else:\n",
        "        return False\n"
      ],
      "metadata": {
        "id": "HDdTRQ1DfP8J"
      },
      "execution_count": 156,
      "outputs": []
    },
    {
      "cell_type": "code",
      "source": [
        "print(numeros_amigos(2,3))"
      ],
      "metadata": {
        "colab": {
          "base_uri": "https://localhost:8080/"
        },
        "id": "6gGZZEqchanA",
        "outputId": "714483a1-f0bd-443f-ec77-582b4f250629"
      },
      "execution_count": 157,
      "outputs": [
        {
          "output_type": "stream",
          "name": "stdout",
          "text": [
            "False\n"
          ]
        }
      ]
    },
    {
      "cell_type": "code",
      "execution_count": 158,
      "metadata": {
        "colab": {
          "base_uri": "https://localhost:8080/",
          "height": 249
        },
        "id": "VKsxuvsll5gm",
        "outputId": "e9b6f336-8e5a-4796-9c51-9e3231379fcb"
      },
      "outputs": [
        {
          "output_type": "stream",
          "name": "stdout",
          "text": [
            "220   284 : Son números amigos\n",
            "10744   10856 : Son números amigos\n"
          ]
        },
        {
          "output_type": "display_data",
          "data": {
            "text/plain": [
              "<IPython.core.display.HTML object>"
            ],
            "text/html": [
              "<style>\n",
              "  table { text-align: left; border-collapse: collapse; margin: 1em; caption-side: bottom; font-family: Sans-Serif; font-size: 12px}\n",
              "  caption { text-align: left; padding: 5px }\n",
              "  th, td { border: 2px solid #BFC9CA; padding: 5px }\n",
              "  th { background-color: #BFC9CA }\n",
              "  .passed { background-color: #76D7C4 }\n",
              "  .failed { background-color: #EC7063 }\n",
              "  .skipped { background-color: #EDBB99 }\n",
              "  .score { background-color: #7DCEA0 }\n",
              "  .results .points { display: none }\n",
              "  .results .message { display: block; font-size:smaller; color:#D35400 }\n",
              "  .results .note { display: block; font-size:smaller; font-decoration:italics }\n",
              "  .results .passed::before  { content: \"Passed\" } \n",
              "  .results .skipped::before  { content: \"Skipped\" } \n",
              "  .results .failed::before  { content: \"Failed\" } \n",
              "  .grade .passed  .message:empty::before { content:\"Passed\" }\n",
              "  .grade .failed  .message:empty::before { content:\"Failed\" }\n",
              "  .grade .skipped .message:empty::before { content:\"Skipped\" }   \n",
              "</style>\n",
              "<table class='results'>\n",
              "  <th class='test'>Test</th><th class='result'>Result</th></tr>\n",
              "<tr>\n",
              "  <td class='test'>\n",
              "    Números amigos, la variable debe ser booleana  \n",
              "    <div class='message'>Done</div>\n",
              "  </td>\n",
              "  <td class='result passed'></td>\n",
              "</tr>\n",
              "<tr>\n",
              "  <td class='test'>\n",
              "    Comprobando si los números (10744, 10856) son amigos   \n",
              "    <div class='message'>Done</div>\n",
              "  </td>\n",
              "  <td class='result passed'></td>\n",
              "</tr>\n",
              "<tr>\n",
              "  <td class='test'>\n",
              "    Comprobando si  (22, 24) no es un número amigo   \n",
              "    <div class='message'>Done</div>\n",
              "  </td>\n",
              "  <td class='result passed'></td>\n",
              "</tr>  <tr><th class='score'>Total Points</th><th class='score'>3</th></tr></table>\n"
            ]
          },
          "metadata": {}
        }
      ],
      "source": [
        "%run -i {pathL}/test07.py"
      ]
    },
    {
      "cell_type": "markdown",
      "metadata": {
        "id": "my3FqZtRAN4S"
      },
      "source": [
        "8 Construir un programa en el que  entrado un arreglo de números se  ordenen de forma ascendente, Ver algoritmo\n",
        "[Quicksort](https://es.wikipedia.org/wiki/Quicksort).\n",
        "\n",
        "\n",
        "```python\n",
        "\n",
        "\n",
        "<<< v = [22, 32, 42, 12, 22, 31, 41, 11, 12, 232, 24, 12, 22]\n",
        "<<< def quicksort(v):\n",
        "\n",
        "<<<     return v\n",
        "<<< w = print(quicksort(v))\n",
        "<<< [11, 12, 12, 12, 22, 22, 22, 24, 31, 32, 41, 42, 232]\n",
        "\n",
        "```\n",
        "\n",
        "Sólo para comprobar tu código,  puedes hacer uso del comando sort de python.\n",
        "```python\n",
        "<<< b = [22, 32, 42, 12, 22, 31, 41, 11, 12, 232, 24, 12, 22]\n",
        "\n",
        "<<< print(b.sort())\n",
        "\n",
        "<<< [11, 12, 12, 12, 22, 22, 22, 24, 31, 32, 41, 42, 232]\n",
        "```"
      ]
    },
    {
      "cell_type": "code",
      "source": [
        " v = [22, 32, 42, 12, 22, 31, 41, 11, 12, 232, 24, 12, 22]\n",
        "\n",
        "def quicksort(v):\n",
        "    flag = 0\n",
        "    for i in range(0,len(v)-1,1):\n",
        "\n",
        "        if v[i]> v[i+1]:\n",
        "            v[i],v[i+1] = v[i+1],v[i]\n",
        "            flag = 1\n",
        "    if flag == 0:\n",
        "        return v\n",
        "\n",
        "    quicksort(v)\n",
        "    return v\n",
        "\n",
        "print(quicksort(v))\n",
        " # [11, 12, 12, 12, 22, 22, 22, 24, 31, 32, 41, 42, 232]"
      ],
      "metadata": {
        "colab": {
          "base_uri": "https://localhost:8080/"
        },
        "id": "zKKCEw1cjrGJ",
        "outputId": "5d6d3707-5b91-47e2-d59d-b05dca54869a"
      },
      "execution_count": 161,
      "outputs": [
        {
          "output_type": "stream",
          "name": "stdout",
          "text": [
            "[11, 12, 12, 12, 22, 22, 22, 24, 31, 32, 41, 42, 232]\n"
          ]
        }
      ]
    }
  ],
  "metadata": {
    "colab": {
      "provenance": []
    },
    "kernelspec": {
      "display_name": "Python 3 (ipykernel)",
      "language": "python",
      "name": "python3"
    },
    "language_info": {
      "codemirror_mode": {
        "name": "ipython",
        "version": 3
      },
      "file_extension": ".py",
      "mimetype": "text/x-python",
      "name": "python",
      "nbconvert_exporter": "python",
      "pygments_lexer": "ipython3",
      "version": "3.10.9"
    }
  },
  "nbformat": 4,
  "nbformat_minor": 0
}