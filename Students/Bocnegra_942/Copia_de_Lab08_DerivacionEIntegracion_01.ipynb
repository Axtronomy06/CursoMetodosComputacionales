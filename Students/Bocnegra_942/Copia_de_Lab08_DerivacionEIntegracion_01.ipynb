{
 "cells": [
  {
   "cell_type": "markdown",
   "metadata": {
    "id": "mfuoQaq5CYZG"
   },
   "source": [
    "<a href=\"https://colab.research.google.com/github/hernansalinas/autogrades/blob/main/Laboratorios_Taller/Lab08_DerivacionEIntegracion_01.ipynb\" target=\"_parent\"><img src=\"https://colab.research.google.com/assets/colab-badge.svg\" alt=\"Open In Colab\"/></a>\n"
   ]
  },
  {
   "cell_type": "markdown",
   "metadata": {
    "id": "8q4c8oS-hpaE"
   },
   "source": [
    "\n",
    "#1.Parte 1\n",
    "1. En un cirtcuito con un voltaje de  $\\varepsilon(t)$ y una inductancia de L, la primera ley de kirshhoff nos da la siguiente relación\n",
    "\n",
    "\n",
    "\\begin{equation}\n",
    "\\varepsilon(t) = L\\frac{\\mathrm{d}i}{\\mathrm{d}t} + Ri\n",
    "\\end{equation}\n",
    "\n",
    "donde r, es la resistencia del ciruito, i es la corriente. Suponga que medimos la corriente con varios valores de t y obtenemos:\n",
    "\n",
    "t = 1.00, 1.01, 1.02, 1.03, 1.0\n",
    "\n",
    "i = 3.10, 3.12, 3.14, 3.18, 3.24\n",
    "\n",
    "\n",
    "donde t se mide en segundos, i se de en amper, la inductancia L es una constante de 0.98 herios, la resistencia es de 0.142 ohms. Aproxime el votaje  $\\varepsilon(t)$ en los valores t=1.00, 1.01, 1.02, 1.03, 1.04 ,  para ello realice lo siguiente:\n",
    "\n",
    "\n",
    "- Construya un data frame de pandas con los valores de tiempo y corriente\n",
    "- Emplee un metodo calcular la derivada numérica.\n",
    "\n",
    "\n",
    "\n"
   ]
  },
  {
   "cell_type": "code",
   "execution_count": null,
   "metadata": {
    "colab": {
     "base_uri": "https://localhost:8080/",
     "height": 534
    },
    "id": "KFZsJeFZZ53I",
    "outputId": "d791bebf-8418-41ff-ff22-91e385b6bd02"
   },
   "outputs": [
    {
     "name": "stdout",
     "output_type": "stream",
     "text": [
      "   Corriente(1)  Tiempo      fem\n",
      "0          3.11   1.005  2.40162\n",
      "1          3.13   1.015  2.40446\n",
      "2          3.16   1.025  4.36872\n",
      "3          3.21   1.035  6.33582\n"
     ]
    },
    {
     "data": {
      "text/plain": [
       "[<matplotlib.lines.Line2D at 0x7bdb4af0b430>]"
      ]
     },
     "execution_count": 1,
     "metadata": {},
     "output_type": "execute_result"
    },
    {
     "data": {
      "image/png": "[encoded data removed]",
      "text/plain": [
       "<Figure size 640x480 with 1 Axes>"
      ]
     },
     "metadata": {},
     "output_type": "display_data"
    }
   ],
   "source": [
    "import numpy as np\n",
    "import matplotlib.pyplot as plt\n",
    "import pandas as pd\n",
    "#////////////////////////////////////////////////////////////////////////////////////\n",
    "                            #definicón de funciones\n",
    "\n",
    "#*********************************************************************************\n",
    "#En la siguiente función; \"promedio\" se usa :\n",
    "# x[1:] toma todos los elementos de x menos el primero\n",
    "# x[0:-1]toma todos los elementos de x menos el primero\n",
    "#  x[1:] + x[0 :-1] devuelve una lista con la suma de elementos consecutivos de x\n",
    "# (x[1:] + x[0 :-1])*0.5 divide en tre dos cada elemento de la lista\n",
    "\n",
    "def promedio(x):\n",
    "    return (x[1:]+x[0:-1])*0.5\n",
    "\n",
    "# esta función devuelve una lista que contiene el promedio de dos elementos\n",
    "#consecutivos de x\n",
    "#********************************************************************************\n",
    "\n",
    "#*********************************************************************\n",
    "#función que calgula el diferencial y se usara para calcular derivadas\n",
    "# ya que dy/dt = diff(y)/diff(t) donde \"y\" y \"t\" son arreglos de numpy\n",
    "# con un tamaño de paso lo mas pequeño posible\n",
    "\n",
    "def diff(x):\n",
    "    return x[1:]-x[0:-1]\n",
    "\n",
    "#*********************************************************************\n",
    "\n",
    "#**************************************\n",
    "def fem(corriente,derivada):\n",
    "    R = 0.142\n",
    "    L = 0.98\n",
    "    return L*derivada + R*corriente\n",
    "#**************************************\n",
    "\n",
    "                    #fin de la definición de funciones\n",
    "#/////////////////////////////////////////////////////////////////////////////////\n",
    "\n",
    "\n",
    "#************************************************\n",
    "#Definición de parámetros\n",
    "tiempo = np.array([1,1.01,1.02,1.03,1.04])\n",
    "corriente = np.array([3.10,3.12,3.14,3.18,3.24])\n",
    "#************************************************\n",
    "\n",
    "#***********************************************\n",
    "            #calculo de di/dt\n",
    "derivada = np.diff(corriente)/np.diff(tiempo)\n",
    "\n",
    "#usando la función construida diff\n",
    "derivada2 = diff(corriente)/diff(tiempo)\n",
    "\n",
    "#tanto derivada comoderivada2 tiene 4 elementos\n",
    "#************************************************\n",
    "\n",
    "\n",
    "#calculando pormedios de corriente\n",
    "corriente_promedios = promedio(corriente)\n",
    "#se calcula el promedio de la corriente para también tener una lista de 4 elemtos\n",
    "\n",
    "#calculando pormedios de tiempos\n",
    "tiempos_promedios = promedio(tiempo)\n",
    "#se calcula el promedio de la corriente para también tener una lista de 4 elemtos\n",
    "femm = fem(corriente_promedios,derivada)\n",
    "\n",
    "\n",
    "\n",
    "df = pd.DataFrame({'Corriente(1)':corriente_promedios,'Tiempo':tiempos_promedios,'fem':femm})\n",
    "print(df)\n",
    "\n",
    "\n",
    "#******************************\n",
    "#grafica\n",
    "plt.plot(tiempo,corriente)\n",
    "\n",
    "#*******************************"
   ]
  },
  {
   "cell_type": "markdown",
   "metadata": {
    "id": "WV6dMBzK_odZ"
   },
   "source": [
    "\n",
    "\n",
    "\n",
    "# Parte 2\n",
    "\n",
    "1. Escribir en código Markdown la expresión para calcular una integral con la regla del trapecio.\n",
    "\n",
    "2. Escribir en código Markdown la expresión para calcular una integral con la regla del simpson\n",
    "\n",
    "\n",
    "3. Escribir en código Markdown la expresión para calcular una integral con el metodo de cuadratura.\n",
    "\n",
    "4. Calcular una aproximación con el metodo 1,2,3 de las siguientes integrales\n",
    "\n",
    "<!--\n",
    " $$\n",
    " \\int_0^\\pi e^{1-\\sqrt{x}}\\, dx\n",
    " $$  -->\n",
    "\n",
    "\n",
    "- $$\n",
    " \\int_0^{\\pi/2} \\frac{1}{\\sqrt{\\tan x}}\\, dx\n",
    " $$\n",
    "\n",
    "-\n",
    "$$\n",
    " \\int_{-\\infty}^{\\infty} \\frac{1}{1+x^2} \\, dx\n",
    " $$\n",
    "\n",
    "\n",
    "-\n",
    "\n",
    "$$\n",
    " \\int_{0}^{\\pi/4} \\int_{\\sin x}^{\\cos x} (2y\\sin x +\\cos^2 x)\\, dxdy\n",
    " $$\n",
    "\n",
    "<!--\n",
    "-\n",
    "$$\n",
    " \\int_{-\\infty}^{\\infty} \\frac{1}{1+x^2} \\, dx\n",
    " $$ -->\n",
    "\n",
    "<!--\n",
    "-\n",
    "$$\n",
    " \\int_{e}^{2e} \\frac{1}{\\ln x} \\, dx\n",
    " $$ -->\n",
    "\n",
    "\n",
    "garantizando  que el error sea menor a $\\varepsilon=1E-5$.  "
   ]
  },
  {
   "cell_type": "markdown",
   "metadata": {
    "id": "sQ6R6OLNW9AW"
   },
   "source": [
    "\n",
    "\n",
    "\n",
    "**Método trapecio**\n",
    "\n",
    "\n",
    "*Método del Trapecio Simple:*\n",
    "\n",
    "\n",
    "\n",
    "$$\\int_a^b f(x) \\, dx \\approx \\frac{b-a}{2} \\left[f(a) + f(b)\\right]$$\n",
    "\n",
    "\n",
    "\n",
    "\n",
    "*Método del Trapecio Compuesto:*\n",
    "\n",
    "$$\n",
    "\\int_a^b f(x) \\, dx \\approx \\frac{h}{2} \\left[f(a) + 2\\sum_{i=1}^{n-1} f(x_i) + f(b)\\right]\n",
    "$$\n",
    "\n",
    "Donde:\n",
    "\n",
    "- $ f(x_i)$ son los valores de la función en los puntos $x_i$ dentro de cada subintervalo, donde \\(i = 1, 2,....., n-1\\).\n",
    "\n",
    "\n",
    "\n",
    "**Regla de simson**\n",
    "\n",
    "$$\\int_{a}^{b} f(x)=\\frac{h}{3}*[f(a)+2\\sum_{i=1}^{\\frac{n}{2}-1}f(x_{2i})+4\\sum_{i=1}^{\\frac{n}{2}}f(x_{2i-1})+f(b)]$$\n",
    "\n",
    "\n",
    "**Método de cuadratura**\n",
    "$$\\int_a^b f(x) \\, dx \\approx \\sum_{i=1}^n w_i \\cdot f(x_i)$$\n",
    "\n",
    "\n",
    "Donde:\n",
    "\n",
    "\n",
    "- $w_i$ son los pesos asociados a los puntos de muestreo en la fórmula de cuadratura.\n",
    "\n",
    "\n"
   ]
  },
  {
   "cell_type": "markdown",
   "metadata": {
    "id": "fkW5aPoDD40d"
   },
   "source": [
    "************************************************************\n",
    "A continuación se resuleve la integral\n",
    "\n",
    " $$\n",
    " \\int_0^{\\pi/2} \\frac{1}{\\sqrt{\\tan x}}\\, dx\n",
    " $$\n",
    " por varios métodos ; unos creados manualmente y otros de librerías ."
   ]
  },
  {
   "cell_type": "code",
   "execution_count": 15,
   "metadata": {
    "colab": {
     "base_uri": "https://localhost:8080/",
     "height": 539
    },
    "id": "MEXyiFHZzZsy",
    "outputId": "2e5cda32-2ca0-4cf8-bcdb-9368f445c7ba"
   },
   "outputs": [
    {
     "data": {
      "image/png": "[encoded data removed]",
      "text/plain": [
       "<Figure size 640x480 with 1 Axes>"
      ]
     },
     "metadata": {},
     "output_type": "display_data"
    },
    {
     "name": "stdout",
     "output_type": "stream",
     "text": [
      "El valor de la integral usando trapecio simple es :  2.2444466383580495\n",
      "El valor de la integral por metodo trapecio compuesto :  2.2941173352088087\n",
      "EL valor de la integral por la regal de simson compuesto es :  2.2695334705175836\n",
      "El valor de la integral usando el método del trapecio de scipy es :  2.2444466383581103\n",
      "EL valor de la integral por el método de la cuadratura. ERROR < 1E-5$ :  (2.2181496241824727, 9.960158160460253e-06)\n",
      "El valor de la integral por el métodod cuad con ERROR < 1E-5 (2.2214414690792026, 4.1406478246130973e-10)\n"
     ]
    }
   ],
   "source": [
    "\n",
    "\n",
    "import numpy as np\n",
    "import matplotlib.pyplot as plt\n",
    "import scipy as sp\n",
    "\n",
    "\n",
    "#************************************\n",
    "#Definición de funciones\n",
    "#************************************\n",
    "#definicion de f(x)\n",
    "def f(x):\n",
    "    return 1/np.sqrt(np.tan(x))\n",
    "\n",
    "#area de un trapecio(metodo simple)\n",
    "def area(a,b):\n",
    "    return ((b-a)/2)*(f(a)+f(b))\n",
    "\n",
    "def simson_compuesto(x,a,b):\n",
    "    suma0 = 0\n",
    "    suma1 = 0\n",
    "    h = (b-a)/len(x)\n",
    "\n",
    "    for i in range(0,len(x)//2-1):\n",
    "        suma0 += f(x[2*i])\n",
    "\n",
    "    for i in range(1,len(x)//2):\n",
    "        suma1 += f(x[2*i-1])\n",
    "\n",
    "    return h/3 * ( f(a) + 2* suma0 +  4 * suma1 + f(b) )\n",
    "\n",
    "#************************************\n",
    "\n",
    "\n",
    "valores_x = np.linspace(1e-9,np.pi/2,1000000)\n",
    "\n",
    "\n",
    "\n",
    "\n",
    "#grafica\n",
    "plt.plot(valores_x, f(valores_x),label='$\\\\frac{1}{\\\\sqrt{\\\\tan(x)}}$')\n",
    "plt.ylim(-1,5)\n",
    "plt.grid()\n",
    "plt.legend()\n",
    "plt.show()\n",
    "\n",
    "\n",
    "#*************************************************\n",
    "#suma de todas las areas de los trapecios\n",
    "suma =0\n",
    "suma2 =0\n",
    "\n",
    "for i in range(0,len(valores_x)-1):\n",
    "\n",
    "    suma += area(valores_x[i],valores_x[i+1])\n",
    "    suma2 += f(valores_x[i])\n",
    "\n",
    "#**************************************************\n",
    "\n",
    "#*************************************************\n",
    "\n",
    "tolerancia = 1e-5\n",
    "\n",
    "\n",
    "print('El valor de la integral usando trapecio simple es : ',suma)\n",
    "print('El valor de la integral por metodo trapecio compuesto : ', ( (  valores_x[-1]  -  valores_x[0] ) / len(valores_x) ) * 0.5 *  ( 2 * suma2 + f(valores_x[0] ) + f(valores_x[-1] ) ) )\n",
    "print('EL valor de la integral por la regal de simson compuesto es : ',simson_compuesto(valores_x,1e-9,np.pi/2))\n",
    "print('El valor de la integral usando el método del trapecio de scipy es : ', sp.integrate.trapezoid(f(valores_x),valores_x,0.0001))\n",
    "print('EL valor de la integral por el método de la cuadratura. ERROR < 1E-5$ : ',sp.integrate.quadrature(f,0,np.pi/2,tol=tolerancia,maxiter=500))\n",
    "print('El valor de la integral por el métodod cuad con ERROR < 1E-5',sp.integrate.quad(f,0,np.pi/2))\n",
    "\n",
    "\n",
    "\n"
   ]
  },
  {
   "cell_type": "markdown",
   "metadata": {
    "id": "Mg6SNea_IxdU"
   },
   "source": [
    "Notar que se alcanza el ERROR < 1e-5 en la función `integrate.cuadrature` modificando la cantidad de iteraciónes, al contraro se  alcanza de manera natural en `integrate.quad` y esto puede ser por la forma como esta construido el método en particulal y el tipo de función con sus respectivas singularidad en cero."
   ]
  },
  {
   "cell_type": "markdown",
   "metadata": {
    "id": "yY3OlyGaFCbB"
   },
   "source": [
    "****************************************************************\n",
    "A continuación se usan funciones construidas manualmente y librerías para solucionar la siguiente integral.\n",
    "$$\n",
    " \\int_{-\\infty}^{\\infty} \\frac{1}{1+x^2} \\, dx\n",
    " $$"
   ]
  },
  {
   "cell_type": "code",
   "execution_count": 5,
   "metadata": {
    "colab": {
     "base_uri": "https://localhost:8080/"
    },
    "id": "BREG_wf2gUut",
    "outputId": "145e0214-deb1-47e0-af5c-72a06b2048c3"
   },
   "outputs": [
    {
     "data": {
      "text/plain": [
       "(3.141592653589793, 5.155583041103855e-10)"
      ]
     },
     "execution_count": 5,
     "metadata": {},
     "output_type": "execute_result"
    }
   ],
   "source": [
    "def f1(x):\n",
    "    return 1/(1+x**2)\n",
    "sp.integrate.quad(f1,-np.inf, np.inf)"
   ]
  },
  {
   "cell_type": "code",
   "execution_count": 16,
   "metadata": {
    "colab": {
     "base_uri": "https://localhost:8080/",
     "height": 534
    },
    "id": "D9ZiiC34s9b2",
    "outputId": "4ca75705-6274-4048-9578-3e158d24f88a"
   },
   "outputs": [
    {
     "data": {
      "image/png": "[encoded data removed]",
      "text/plain": [
       "<Figure size 640x480 with 1 Axes>"
      ]
     },
     "metadata": {},
     "output_type": "display_data"
    },
    {
     "name": "stdout",
     "output_type": "stream",
     "text": [
      "El valor de la integral usando trapecio simple es :  3.131592736922037\n",
      "El valor de la integral por metodo trapecio compuesto :  3.1315924247626095\n",
      "EL valor de la integral por la regal de simson compuesto es :  3.1315924234290566\n",
      "El valor de la integral usando el método del trapecio de scipy es :  3.1315927369218715\n",
      "EL valor de la integral por el método de la cuadratura. :  (3.1315976822635307, 9.940376992201294e-06)\n",
      "El valor de la integral por el métodod cuad con ERROR < 1E-5 (3.141592653589793, 5.155583041103855e-10)\n"
     ]
    }
   ],
   "source": [
    "\n",
    "import numpy as np\n",
    "import matplotlib.pyplot as plt\n",
    "import scipy as sp\n",
    "\n",
    "\n",
    "#************************************\n",
    "#Definición de funciones\n",
    "#************************************\n",
    "#definicion de f(x)\n",
    "def f(x):\n",
    "    return 1/(1+x**2)\n",
    "\n",
    "#area de un trapecio(metodo simple)\n",
    "def area(a,b):\n",
    "    return ((b-a)/2)*(f(a)+f(b))\n",
    "\n",
    "def simson_compuesto(x,a,b):\n",
    "    suma0 = 0\n",
    "    suma1 = 0\n",
    "    h = (b-a)/len(x)\n",
    "\n",
    "    for i in range(0,len(x)//2-1):\n",
    "        suma0 += f(x[2*i])\n",
    "\n",
    "    for i in range(1,len(x)//2):\n",
    "        suma1 += f(x[2*i-1])\n",
    "\n",
    "    return h/3 * ( f(a) + 2* suma0 +  4 * suma1 + f(b) )\n",
    "\n",
    "#************************************\n",
    "\n",
    "\n",
    "infinito =  200\n",
    "\n",
    "valores_x = np.linspace(-infinito,infinito,10000000)\n",
    "\n",
    "\n",
    "\n",
    "\n",
    "#grafica\n",
    "plt.plot(valores_x, f(valores_x),label='$\\\\frac{1}{1+x^{2}}$')\n",
    "plt.ylim(0,1.5)\n",
    "plt.xlim(-10,10)\n",
    "plt.grid()\n",
    "plt.legend()\n",
    "plt.show()\n",
    "\n",
    "\n",
    "#*************************************************\n",
    "#suma de todas las areas de los trapecios\n",
    "suma =0\n",
    "suma2 =0\n",
    "\n",
    "for i in range(0,len(valores_x)-1):\n",
    "\n",
    "    suma += area(valores_x[i],valores_x[i+1])\n",
    "    suma2 += f(valores_x[i])\n",
    "\n",
    "#**************************************************\n",
    "\n",
    "#*************************************************\n",
    "\n",
    "tolerancia = 1e-5\n",
    "\n",
    "\n",
    "\n",
    "print('El valor de la integral usando trapecio simple es : ',suma)\n",
    "print('El valor de la integral por metodo trapecio compuesto : ', ( (  valores_x[-1]  -  valores_x[0] ) / len(valores_x) ) * 0.5 *  ( 2 * suma2 + f(valores_x[0] ) + f(valores_x[-1] ) ) )\n",
    "print('EL valor de la integral por la regal de simson compuesto es : ',simson_compuesto(valores_x,-infinito,infinito))\n",
    "print('El valor de la integral usando el método del trapecio de scipy es : ', sp.integrate.trapezoid(f(valores_x),valores_x,0.0001))\n",
    "print('EL valor de la integral por el método de la cuadratura. : ',sp.integrate.quadrature(f,-infinito,infinito,tol=tolerancia,maxiter=2000))\n",
    "print('El valor de la integral por el métodod cuad con ERROR < 1E-5',sp.integrate.quad(f,-np.inf,np.inf))\n",
    "\n",
    "\n",
    "\n"
   ]
  },
  {
   "cell_type": "markdown",
   "metadata": {
    "id": "9rwupNAe2DJd"
   },
   "source": [
    "************************************************\n",
    "A continuación se  soluciona la integral\n",
    "$$\n",
    " \\int_{0}^{\\pi/4} \\int_{\\sin x}^{\\cos x} (2y\\sin x +\\cos^2 x)\\, dxdy\n",
    " $$"
   ]
  },
  {
   "cell_type": "code",
   "execution_count": 25,
   "metadata": {
    "colab": {
     "base_uri": "https://localhost:8080/"
    },
    "id": "OdsZKk85WdWM",
    "outputId": "9837027f-5be0-4926-fa4f-23e5cee53725"
   },
   "outputs": [
    {
     "name": "stdout",
     "output_type": "stream",
     "text": [
      "El valor de la integral usando trapecio de scipy es :  0.5118445260477336\n",
      "El valor de la integral usando integrate.dblquad es : (0.5118446353109126, 1.1102181755259596e-14)\n"
     ]
    }
   ],
   "source": [
    "\n",
    "import numpy as np\n",
    "import matplotlib.pyplot as plt\n",
    "import scipy as sp\n",
    "\n",
    "\n",
    "#************************************\n",
    "#Definición de funciones\n",
    "#************************************\n",
    "#definicion de f(x) que en este caso es el integrando\n",
    "def f(x,y):\n",
    "    return  2 * y * np.sin(x) + np.cos(x)**2\n",
    "\n",
    "\n",
    "def integrand(y, x):\n",
    "    return 2 * y * np.sin(x) + np.cos(x)**2\n",
    "\n",
    "#************************************\n",
    "\n",
    "\n",
    "\n",
    "\n",
    "valores_x = np.linspace(0,np.pi/4,1000)\n",
    "\n",
    "I = np.zeros(len(valores_x))\n",
    "\n",
    "\n",
    "\n",
    "#*************************************************\n",
    "\n",
    "#**************************************************\n",
    "\n",
    "for i ,x_ in enumerate(valores_x):\n",
    "    y = np.linspace(np.sin(x_),np.cos(x_))\n",
    "    I[i] = sp.integrate.trapezoid(f(x_,y),y)\n",
    "\n",
    "\n",
    "#*************************************************\n",
    "\n",
    "tolerancia = 1e-5\n",
    "\n",
    "\n",
    "print('El valor de la integral usando trapecio de scipy es : ',sp.integrate.trapezoid(I,valores_x))\n",
    "\n",
    "\n",
    "\n",
    "print(\"El valor de la integral usando integrate.dblquad es :\", sp.integrate.dblquad( integrand , 0 , np.pi/4 ,lambda x: np.sin(x) , lambda x: np.cos(x)))\n",
    "\n",
    "\n",
    "\n",
    "\n"
   ]
  },
  {
   "cell_type": "markdown",
   "metadata": {
    "id": "L4uyWTgJKAfN"
   },
   "source": [
    "5. Un péndulo físico en el regimen de pequeñas oscilaciones tiene un periodo de:\n",
    "\n",
    "\\begin{equation}\n",
    "P_0=2\\pi \\sqrt{\\frac{I_0}{mgb}}\n",
    "\\end{equation}\n",
    "\n",
    "Cuando las oscilaciones no son pequenas, podemos encontrar una expresión para el periodo como sigue:\n",
    "\n",
    "\n",
    "La energia de un péndulo físico viene dada por:\n",
    "\n",
    "\\begin{equation}\n",
    "E=\\frac{I_0\\omega^2}{2}+mgb(1-\\cos \\theta)\n",
    "\\end{equation}\n",
    "\n",
    "En el punto más alejado de su posición de equilibrio, su energía es solo potencial y viene dada por:\n",
    "\n",
    "\\begin{equation}\n",
    "Ep = mgb(1-\\cos \\theta),\n",
    "\\end{equation}\n",
    "\n",
    "Igualando ambas expresiones tenemos que:\n",
    "\n",
    "\\begin{equation}\n",
    "mgb(1-\\cos \\theta)=\\frac{I_0\\omega^2}{2}+mgb(1-\\cos \\theta)\n",
    "\\end{equation}\n",
    "\n",
    "Integrando la ecuación respecto a $\\theta$ y realizando la sustitución:\n",
    "\n",
    "$\\sin \\phi = \\frac{\\sin \\frac{\\theta}{2}}{\\sin \\frac{\\theta_0}{2}}$ y  $k = \\sin \\frac{\\theta_0}{2}$, se puede encontrar  que el periodo de oscilación, viene dado en terminos de  la integral elíptica completa de primera especie:\n",
    "\n",
    "\n",
    "\\begin{equation}\n",
    "P = \\frac{2P_0}{\\pi} \\int _0^{\\pi/2} \\frac{\\mathrm{d\\phi}}{\\sqrt{1-k^2\\sin^2\\phi}}\n",
    "\\end{equation}\n",
    "\n",
    "donde,  $P_0$ es el periodo de las oscilaciones pequeñas. La anterior integral.\n",
    "\n",
    "Determinar el periodo de oscilación de un péndulo. Para ello:\n",
    "\n",
    "1. Suponga los párametros iniciales del pendulo.\n",
    "2. Realice una buena planificación del código para calcular la integral.\n",
    "3. Emplee un  método de integracion numérico que conozca.\n",
    "4. Compruebe su solucion con el valor exact de la integral mostrado en el punto 5."
   ]
  },
  {
   "cell_type": "code",
   "execution_count": 8,
   "metadata": {
    "colab": {
     "base_uri": "https://localhost:8080/"
    },
    "id": "0zvvTQFB983y",
    "outputId": "9bbd244b-e8e3-42c5-80e0-ea006c96a659"
   },
   "outputs": [
    {
     "name": "stdout",
     "output_type": "stream",
     "text": [
      "El periodo de oscilación es: 2.086255872614367\n"
     ]
    }
   ],
   "source": [
    "import numpy as np\n",
    "import scipy as sp\n",
    "\n",
    "# Definir los parámetros del péndulo\n",
    "I_0 = 1.0  # Momento de inercia\n",
    "m = 1.0  # Masa\n",
    "g = 9.81  # Aceleración debida a la gravedad\n",
    "b = 1.0  # Longitud del péndulo\n",
    "theta_0 = np.pi / 4  # Amplitud de oscilación (en radianes)\n",
    "\n",
    "# Definir la función que representa la integral elíptica\n",
    "def funcion(phi, k):\n",
    "    return 1 / np.sqrt(1 - k**2 * np.sin(phi)**2)\n",
    "\n",
    "# Calcular el valor de k\n",
    "k = np.sin(theta_0 / 2)\n",
    "\n",
    "# Calcular el periodo de oscilación utilizando la integral elíptica\n",
    "P_0 = 2 * np.pi * np.sqrt(I_0 / (m * g * b))\n",
    "result, _ = sp.integrate.quad(funcion, 0, np.pi / 2, args=(k,))\n",
    "P = (2 * P_0 / np.pi) * result\n",
    "\n",
    "# Imprimir el resultado\n",
    "print(\"El periodo de oscilación es:\", P)\n"
   ]
  }
 ],
 "metadata": {
  "colab": {
   "provenance": []
  },
  "kernelspec": {
   "display_name": "Python 3 (ipykernel)",
   "language": "python",
   "name": "python3"
  },
  "language_info": {
   "codemirror_mode": {
    "name": "ipython",
    "version": 3
   },
   "file_extension": ".py",
   "mimetype": "text/x-python",
   "name": "python",
   "nbconvert_exporter": "python",
   "pygments_lexer": "ipython3",
   "version": "3.10.9"
  }
 },
 "nbformat": 4,
 "nbformat_minor": 1
}
