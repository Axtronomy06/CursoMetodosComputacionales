{
  "cells": [
    {
      "cell_type": "markdown",
      "metadata": {
        "id": "zX5mmeZ08lWy"
      },
      "source": [
        "<a href=\"https://colab.research.google.com/github/hernansalinas/autogrades/blob/main/Laboratorios_Taller/Lab09_Matrices_v0.ipynb\" target=\"_parent\"><img src=\"https://colab.research.google.com/assets/colab-badge.svg\" alt=\"Open In Colab\"/></a>"
      ]
    },
    {
      "cell_type": "markdown",
      "metadata": {
        "id": "zRInnDiKcbSB"
      },
      "source": [
        "# Matrices\n",
        "\n",
        "1. **Modelo de encriptación**\n",
        "\n",
        "Un proceso para encriptar un mensaje secreto es usar cierta matrix cuadrada cuyos elementos son enteros con elementos enteros en la inversa. Se recibe un mensaje, se asigna un número a cada letra Por ejemplo, A=1, B=2, C=3, ... etc y espacio=27), se arreglan los números en una matriz de izquierda a derecha en cada fila, donde el número de elementos en la fila es igual al tamaño de la matriz de código, se multiplica esa matriz por la matriz de código por la derecha, se transcribe el mensaje en una cadena de números y se manda el mensaje.\n",
        "\n",
        "La persona que debe recibir el mensaje conoce la matriz de código. El o ella arrglan el mensaje encriptado en una matriz de izquierda a derecha en cada fila, en donde el número de elementos en una fila conicide con el tamaño de la matriz de código multiplicada por la derecha, por el inverso de la matriz de código y puede leer mensaje decodificado.\n",
        "\n",
        "Usted a recibido el siguiente mensaje que fue encriptado usando la matriz A. Decodifiquelo.\n",
        "\n",
        "```\n",
        "matrix([[ 1,  2, -3,  4,  5],\n",
        "        [-2, -5,  8, -8, -9],\n",
        "        [ 1,  2, -2,  7,  9],\n",
        "        [ 1,  1,  0,  6, 12],\n",
        "        [ 2,  4, -6,  8, 11]])\n",
        "```\n",
        "\n",
        "Mensaje\n",
        "\n",
        "47,49,-19,257,487,10,-9,63,137,236, 79,142,-184,372,536,59,70,-40,332,588,\n",
        "\n",
        "la primera fila del mensaje es 47,49,-19,257,487\n",
        "\n",
        "¿Cual es el mensaje?\n",
        "\n"
      ]
    },
    {
      "cell_type": "code",
      "source": [
        "import numpy as np\n",
        "\n",
        "#Definimos la matriz que encripta el mensaje\n",
        "\n",
        "clave = np.array([\n",
        "    [ 1,  2, -3,  4,  5],\n",
        "    [-2, -5,  8, -8, -9],\n",
        "    [ 1,  2, -2,  7,  9],\n",
        "    [ 1,  1,  0,  6, 12],\n",
        "    [ 2,  4, -6,  8, 11]\n",
        "])\n",
        "\n",
        "# Se calcula la inversa de la matriz clave\n",
        "inversa_clave = np.linalg.inv(clave)\n"
      ],
      "metadata": {
        "id": "npHeyb5pVkwk"
      },
      "execution_count": 1,
      "outputs": []
    },
    {
      "cell_type": "code",
      "source": [
        "#definir el mensaje encriptado\n",
        "mensaje_encriptado = np.array([\n",
        "    [47, 49, -19, 257, 487],\n",
        "    [10, -9, 63, 137, 236],\n",
        "    [79, 142, -184, 372, 536],\n",
        "    [59, 70, -40, 332, 588]\n",
        "])\n",
        "#obtenemos el mensaje original multiplicando por la inversa\n",
        "mensaje_original = np.dot(mensaje_encriptado,inversa_clave,).astype(int)\n"
      ],
      "metadata": {
        "id": "0EVEYDA1V94m"
      },
      "execution_count": 5,
      "outputs": []
    },
    {
      "cell_type": "markdown",
      "source": [
        "En la siguiente porción de código se obtiene el mensaje original.\n",
        "\n",
        "La función `chr()` se utiliza para obtener el caracter correspondiente al código ASCII a partir de un número .Por otra parte `ord('A')` nos da el valor numérico de la letra `A` en dicho código. *Por ejemplo:* si `numero = 1 ` entonces la linea `chr(ord('A') + numero - 1)`   procuce  `chr(65 + 1 - 1)` lo cual es `chr(65)` que corresponde  a la letra `A`.\n",
        "Dichas letras se irán concatenando  dejando un salto de linea entre fila y fila"
      ],
      "metadata": {
        "id": "hQV-sUlCiK7n"
      }
    },
    {
      "cell_type": "code",
      "source": [
        "mensaje_decodificado = \"\"\n",
        "for fila in mensaje_original:\n",
        "    for numero in fila:\n",
        "        letra = chr(ord('A') + numero - 1) if numero >= 1 and numero <= 26 else \" \"\n",
        "        mensaje_decodificado += letra\n",
        "    mensaje_decodificado += \"\\n\"\n",
        "\n",
        "print(mensaje_decodificado)\n",
        "\n"
      ],
      "metadata": {
        "colab": {
          "base_uri": "https://localhost:8080/"
        },
        "id": "I5MIPImmWFE9",
        "outputId": "b3e7a614-0e71-4c5d-f607-ab89274e540a"
      },
      "execution_count": 12,
      "outputs": [
        {
          "output_type": "stream",
          "name": "stdout",
          "text": [
            " REZY\n",
            "NU GA\n",
            "UINF \n",
            "EUMZ \n",
            "\n"
          ]
        }
      ]
    },
    {
      "cell_type": "markdown",
      "metadata": {
        "id": "C1AyA6lQ7ey3"
      },
      "source": [
        "2. Operaciones matricial con regresión lineal.\n",
        "\n",
        "Cuando se desea hacer una regresión lineal multivariada, existen diferentes formas de realizar la regresión, una de ellas es encontrar el error cuadrático medio y miniminzar el conjunto de parámetros de la regresión emplando algún metodo de minimización, otra forma es encontrar la expresión analítica en forma matricial, para determinar el conjunto de parámetros de la regresión. En este último caso, la regresión lineal viene dada por la siguiente expresion generalizada:\n",
        "\n",
        "\n",
        "- $\\Theta = (X^T X)^{-1} X^T y$\n",
        "\n",
        "donte $\\Theta$ es la matriz de parametros asociados a la regresión lineal, X la matriz de características y $y$ los valos esperados, así, si tenemos una conjunto de datos en N dimensiones; la recta, plano o hyperplano puede ser calculado como:\n",
        "\n",
        "$Y=\\Theta^T X$\n",
        "\n",
        "\n",
        "En el caso de dos dimensiones, supongamos que X, y Y presentan un comportamiento lineal, y vienen dados por ( En este caso el super indice es :\n",
        "\n",
        "\n",
        "- Sea $\\vec{X}=x^{(1)}, x^{(2)}, x^{(3)}, x^{(4)}, ..., x^{(m)}$\n",
        "- Sea $\\vec{Y}=y^{(1)}, y^{(2)}, y^{(3)}, y^{(4)}, ..., y^{(m)}$\n",
        "\n",
        "Para determinar la ecuación de la recta, hay que conocer los párametros $\\theta_0 $, $\\theta_1$, que cumplen que :   $y^{(i)} = \\theta_1 x^{(i)} + \\theta_0$ la anterior expresión puede ser escrita como:\n",
        "\n",
        "\\begin{equation}\n",
        "\\begin{bmatrix}\n",
        "y^{(1)}\\\\\n",
        "y^{(2)}\\\\\n",
        "\\vdots\\\\\n",
        "y^{(m)}\\\\\n",
        "\\end{bmatrix}=\n",
        "\\begin{bmatrix}\n",
        "\\theta_0 & \\theta_1 \\\\\n",
        "\\end{bmatrix}\n",
        "\\begin{bmatrix}\n",
        "1 & 1 & \\cdots & 1 \\\\\n",
        "x_1^{(1)} & x_1^{(2)} & \\cdots & x_1^{(m)} \\\\\n",
        "\\end{bmatrix}\n",
        "\\end{equation}\n",
        "\n",
        "\n",
        "Para determinar la matriz de theta entonces se puede aplicar la ecuación:\n",
        "\n",
        "- $\\Theta = (X^T X)^{-1} X^T y$\n",
        "\n",
        "donde:\n",
        "\\begin{equation}\n",
        "X=\n",
        "\\begin{bmatrix}\n",
        "1 & x_1^{(1)} \\\\\n",
        "1 & x_1^{(2)} \\\\\n",
        "\\vdots & \\vdots \\\\\n",
        "1 & x_1^{(m)}\n",
        "\\end{bmatrix}\n",
        "\\end{equation}\n",
        "\n",
        "y\n",
        "\n",
        "\n",
        "\\begin{equation}\n",
        "y=\n",
        "\\begin{bmatrix}\n",
        "y^{(1)} \\\\\n",
        "y^{(2)} \\\\\n",
        "\\vdots\\\\\n",
        "y^{(m)}\n",
        "\\end{bmatrix}\n",
        "\\end{equation}\n",
        "\n",
        "Su tarea será construir un programa que realice la regresión lineal para los siguientes puntos:\n",
        "```python\n",
        "N = 10\n",
        "x1 = np.linspace(0, 10, N)\n",
        "noise=2*np.random.random(N)-1\n",
        "y = 0.9*x1 + noise\n",
        "```\n",
        "\n",
        "\n",
        "\n",
        "Generalice para el siguiente problema bidimensional:\n",
        "\n",
        "\n",
        "```python\n",
        "N = 10\n",
        "x1 = np.linspace(-1, 1, N)\n",
        "x2 = np.linspace(-2, 2, N)\n",
        "noise1=2*np.random.random(N)-1\n",
        "noise2=2*np.random.random(N)-1\n",
        "y = 2*(x1+noise1) - 3*(x2+noise2) + 0.0 #+ 4*np.random.random(100)\n",
        "\n",
        "N = 10\n",
        "X1, X2 = np.meshgrid(x1,x2)\n",
        "Y = 2*X1 - 3*X2 + 0.0\n",
        "fig, ax = plt.subplots(subplot_kw={\"projection\": \"3d\"})\n",
        "surf = ax.plot_surface(X1, X2, Y)\n",
        "#scatter = ax.scatter(x1, x2, y,\"-\")\n",
        "```\n"
      ]
    },
    {
      "cell_type": "code",
      "execution_count": 19,
      "metadata": {
        "id": "SEgAFSH07ey5",
        "colab": {
          "base_uri": "https://localhost:8080/"
        },
        "outputId": "9ed1908b-c6f5-4c7d-b376-67dfa060a562"
      },
      "outputs": [
        {
          "output_type": "stream",
          "name": "stdout",
          "text": [
            "Theta: [ 1.26235566 -1.54979173 -0.41211744]\n"
          ]
        }
      ],
      "source": [
        "import numpy as np\n",
        "\n",
        "# Datos de entrada\n",
        "N = 10\n",
        "x1 = np.linspace(-1, 2, N)\n",
        "x2 = np.linspace(-2, 2, N)\n",
        "noise1 = 2 * np.random.random(N) - 1\n",
        "noise2 = 2 * np.random.random(N) - 1\n",
        "y = 2 * (x1 + noise1) - 3 * (x2 + noise2) + 0.0\n",
        "\n",
        "# Construir la matriz de características X\n",
        "X = np.vstack((np.ones(N), x1, x2)).T\n",
        "\n",
        "# Calcular la matriz de parámetros Theta utilizando la fórmula de regresión lineal\n",
        "Theta = np.linalg.inv(X.T.dot(X)).dot(X.T).dot(y)\n",
        "\n",
        "# Imprimir los parámetros Theta\n",
        "print(\"Theta:\", Theta)\n"
      ]
    },
    {
      "cell_type": "code",
      "source": [],
      "metadata": {
        "id": "bRcf1Og9_y2B"
      },
      "execution_count": null,
      "outputs": []
    }
  ],
  "metadata": {
    "colab": {
      "provenance": []
    },
    "kernelspec": {
      "display_name": "Python 3 (ipykernel)",
      "language": "python",
      "name": "python3"
    },
    "language_info": {
      "codemirror_mode": {
        "name": "ipython",
        "version": 3
      },
      "file_extension": ".py",
      "mimetype": "text/x-python",
      "name": "python",
      "nbconvert_exporter": "python",
      "pygments_lexer": "ipython3",
      "version": "3.10.9"
    }
  },
  "nbformat": 4,
  "nbformat_minor": 0
}