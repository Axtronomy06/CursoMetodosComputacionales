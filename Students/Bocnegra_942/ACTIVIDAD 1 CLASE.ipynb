{
 "cells": [
  {
   "cell_type": "code",
   "execution_count": 1,
   "metadata": {
    "colab": {
     "base_uri": "https://localhost:8080/"
    },
    "executionInfo": {
     "elapsed": 14,
     "status": "ok",
     "timestamp": 1691792430448,
     "user": {
      "displayName": "HUGO FERNANDO BOCANEGRA SANCHEZ",
      "userId": "01931858071930662891"
     },
     "user_tz": 300
    },
    "id": "_Cfa5iOOkjrB",
    "outputId": "1c038e8f-1d36-4781-fada-3066862c1b81"
   },
   "outputs": [
    {
     "name": "stdout",
     "output_type": "stream",
     "text": [
      "es palindromo\n"
     ]
    }
   ],
   "source": [
    "\n",
    "\n",
    "def palindromo (zen2):\n",
    "    if zen2 == zen2[::-1]:\n",
    "        print(\"es palindromo\")\n",
    "    else:\n",
    "        print (\"no es palindromo\")\n",
    "\n",
    "zen2 = \"ana\"\n",
    "palindromo(zen2)\n",
    "\n"
   ]
  },
  {
   "cell_type": "code",
   "execution_count": 2,
   "metadata": {
    "colab": {
     "base_uri": "https://localhost:8080/"
    },
    "executionInfo": {
     "elapsed": 365,
     "status": "ok",
     "timestamp": 1691801821265,
     "user": {
      "displayName": "HUGO FERNANDO BOCANEGRA SANCHEZ",
      "userId": "01931858071930662891"
     },
     "user_tz": 300
    },
    "id": "TAc5gpUBl3vK",
    "outputId": "90a6d605-006a-4645-c99d-3e2f43d2603d"
   },
   "outputs": [
    {
     "data": {
      "text/plain": [
       "120"
      ]
     },
     "execution_count": 2,
     "metadata": {},
     "output_type": "execute_result"
    }
   ],
   "source": [
    "fac = 5\n",
    "\n",
    "\n",
    "def factorial(fac):\n",
    "\n",
    "    temp =1\n",
    "    for i in range(1,fac,1):\n",
    "\n",
    "        if i <fac:\n",
    "            temp= temp* (i+1)\n",
    "            #print (temp)\n",
    "    return temp\n",
    "\n",
    "\n",
    "factorial(fac)"
   ]
  },
  {
   "cell_type": "code",
   "execution_count": 3,
   "metadata": {
    "colab": {
     "base_uri": "https://localhost:8080/"
    },
    "executionInfo": {
     "elapsed": 354,
     "status": "ok",
     "timestamp": 1691792460765,
     "user": {
      "displayName": "HUGO FERNANDO BOCANEGRA SANCHEZ",
      "userId": "01931858071930662891"
     },
     "user_tz": 300
    },
    "id": "6be2nSh4nR73",
    "outputId": "0cd54902-f06d-4809-9b7d-4218c10f4060"
   },
   "outputs": [
    {
     "name": "stdout",
     "output_type": "stream",
     "text": [
      "El doble factorial de -4 es 1\n"
     ]
    }
   ],
   "source": [
    "def doble_factorial(n):\n",
    "    if n <= 0:\n",
    "        return 1\n",
    "\n",
    "    resultado = 1\n",
    "    for i in range(n, 0, -2):\n",
    "        resultado *= i\n",
    "\n",
    "    return resultado\n",
    "\n",
    "\n",
    "numero =  -4\n",
    "resultado = doble_factorial(numero)\n",
    "print(f\"El doble factorial de {numero} es {resultado}\")\n"
   ]
  },
  {
   "cell_type": "code",
   "execution_count": 4,
   "metadata": {
    "colab": {
     "base_uri": "https://localhost:8080/"
    },
    "executionInfo": {
     "elapsed": 314,
     "status": "ok",
     "timestamp": 1691799969793,
     "user": {
      "displayName": "HUGO FERNANDO BOCANEGRA SANCHEZ",
      "userId": "01931858071930662891"
     },
     "user_tz": 300
    },
    "id": "RXrFqC-hqYuZ",
    "outputId": "f96a0df2-34b4-47d2-c297-5ac3eb022a82"
   },
   "outputs": [
    {
     "name": "stdout",
     "output_type": "stream",
     "text": [
      "76\n",
      "123\n",
      "199\n"
     ]
    }
   ],
   "source": [
    "def lucas (n):\n",
    "\n",
    "    if n == 0: #condición para cubrir la posibilidan n=0\n",
    "        return 2\n",
    "\n",
    "    if n == 1: #condición para cubrir la posibilidad n=1\n",
    "        return 1\n",
    "\n",
    "    else:      #cubre las demás posibilidades para n\n",
    "        a,b = 2,1\n",
    "\n",
    "        for i in range(2,n + 1):\n",
    "\n",
    "\n",
    "            #tem=a\n",
    "            #a=b\n",
    "            #b=b+tem\n",
    "            a,b = b , a+b # se le asigna a \"a\" el valor de \"b\" y a \"b\" el valor anterior de \"a\" mas el valor de \"b\"\n",
    "\n",
    "\n",
    "        return b # se retorna la variable que contiene elvalor requerido\n",
    "\n",
    "\n",
    "\n",
    "\n",
    "print(lucas(9))  # Ejemplo de llamada a la función con n = 9\n",
    "print(lucas(10))  # Ejemplo de llamada a la función con n = 10\n",
    "print(lucas(11))  # Ejemplo de llamada a la función con n = 11\n"
   ]
  },
  {
   "cell_type": "code",
   "execution_count": 5,
   "metadata": {
    "colab": {
     "base_uri": "https://localhost:8080/"
    },
    "executionInfo": {
     "elapsed": 263,
     "status": "ok",
     "timestamp": 1691802170963,
     "user": {
      "displayName": "HUGO FERNANDO BOCANEGRA SANCHEZ",
      "userId": "01931858071930662891"
     },
     "user_tz": 300
    },
    "id": "7009yD9NKwQG",
    "outputId": "3a02dacd-c863-41f7-91d2-c8ddceeecdb5"
   },
   "outputs": [
    {
     "name": "stdout",
     "output_type": "stream",
     "text": [
      "10.0\n"
     ]
    }
   ],
   "source": [
    "def binomial(n,k):\n",
    "    return factorial(n)/(factorial(k)*factorial(n-k))\n",
    "\n",
    "print(binomial(5,3))\n"
   ]
  },
  {
   "cell_type": "code",
   "execution_count": null,
   "metadata": {},
   "outputs": [],
   "source": []
  },
  {
   "cell_type": "code",
   "execution_count": null,
   "metadata": {},
   "outputs": [],
   "source": []
  }
 ],
 "metadata": {
  "colab": {
   "authorship_tag": "ABX9TyMoXF+sSWD6TyqoDDIc0EJi",
   "provenance": []
  },
  "kernelspec": {
   "display_name": "Python 3 (ipykernel)",
   "language": "python",
   "name": "python3"
  },
  "language_info": {
   "codemirror_mode": {
    "name": "ipython",
    "version": 3
   },
   "file_extension": ".py",
   "mimetype": "text/x-python",
   "name": "python",
   "nbconvert_exporter": "python",
   "pygments_lexer": "ipython3",
   "version": "3.10.9"
  }
 },
 "nbformat": 4,
 "nbformat_minor": 1
}
