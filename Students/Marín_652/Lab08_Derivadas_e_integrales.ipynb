{
  "cells": [
    {
      "cell_type": "markdown",
      "metadata": {
        "id": "AN0snC4EwM_p"
      },
      "source": [
        "<a href=\"https://colab.research.google.com/github/hernansalinas/autogrades/blob/main/Laboratorios_Taller/Lab08_Derivadas_e_integrales.ipynb\" target=\"_parent\"><img src=\"https://colab.research.google.com/assets/colab-badge.svg\" alt=\"Open In Colab\"/></a>"
      ]
    },
    {
      "cell_type": "code",
      "execution_count": null,
      "metadata": {
        "id": "J5O5W6xbuoZS"
      },
      "outputs": [],
      "source": [
        "import numpy as np\n",
        "import matplotlib.pyplot as plt\n",
        "import pandas as pd\n",
        "import sympy as sy\n",
        "import scipy.special as sp\n",
        "from scipy.integrate import simps\n",
        "from scipy.integrate import quad\n",
        "from scipy.special import ellipk"
      ]
    },
    {
      "cell_type": "markdown",
      "metadata": {
        "id": "mjVxBoseufI6"
      },
      "source": [
        "#Parte 1\n",
        "\n",
        "En un cirtcuito con un voltaje de  $\\varepsilon(t)$ y una inductancia de L, la primera ley de kirshhoff nos da la siguiente relación\n",
        "\n",
        "\\begin{equation}\n",
        "\\varepsilon(t) = L\\frac{\\mathrm{d}i}{\\mathrm{d}t} + Ri\n",
        "\\end{equation}\n",
        "\n",
        "donde $R$, es la resistencia del ciruito, $I$ es la corriente. Suponga que medimos la corriente con varios valores de $t$ y obtenemos:\n",
        "\n",
        "``t = 1.00, 1.01, 1.02, 1.03, 1.04``\n",
        "\n",
        "``i = 3.10, 3.12, 3.14, 3.18, 3.24``\n",
        "\n",
        "\n",
        "donde $t$ se mide en segundos, $I$ se da en Amperios, la inductancia $L$ es una constante de 0.98 H, la resistencia es de 0.142 $\\Omega$. Aproxime el votaje  $\\varepsilon(t)$ en los valores t=1.00, 1.01, 1.02, 1.03, 1.04 ,  para ello realice lo siguiente:\n",
        "\n",
        "\n",
        "- Construya un data frame de pandas con los valores de tiempo y corriente\n",
        "- Emplee un metodo calcular la derivada numérica."
      ]
    },
    {
      "cell_type": "code",
      "source": [
        "t = ([1.00, 1.01, 1.02, 1.03, 1.04])\n",
        "i = np.array([3.10, 3.12, 3.14, 3.18, 3.24])\n",
        "L=0.98\n",
        "R=0.142\n",
        "data = {'Tiempo (s)': t, 'Corriente (A)': i}\n",
        "df = pd.DataFrame(data)\n",
        "df"
      ],
      "metadata": {
        "colab": {
          "base_uri": "https://localhost:8080/",
          "height": 206
        },
        "id": "8r9vHhFtwb1R",
        "outputId": "f2c14565-8ce5-4b1f-e3c5-c0f4947ee2b6"
      },
      "execution_count": null,
      "outputs": [
        {
          "output_type": "execute_result",
          "data": {
            "text/plain": [
              "   Tiempo (s)  Corriente (A)\n",
              "0        1.00           3.10\n",
              "1        1.01           3.12\n",
              "2        1.02           3.14\n",
              "3        1.03           3.18\n",
              "4        1.04           3.24"
            ],
            "text/html": [
              "\n",
              "  <div id=\"df-b0b762f3-48f3-4535-8273-4c8496bd5c39\" class=\"colab-df-container\">\n",
              "    <div>\n",
              "<style scoped>\n",
              "    .dataframe tbody tr th:only-of-type {\n",
              "        vertical-align: middle;\n",
              "    }\n",
              "\n",
              "    .dataframe tbody tr th {\n",
              "        vertical-align: top;\n",
              "    }\n",
              "\n",
              "    .dataframe thead th {\n",
              "        text-align: right;\n",
              "    }\n",
              "</style>\n",
              "<table border=\"1\" class=\"dataframe\">\n",
              "  <thead>\n",
              "    <tr style=\"text-align: right;\">\n",
              "      <th></th>\n",
              "      <th>Tiempo (s)</th>\n",
              "      <th>Corriente (A)</th>\n",
              "    </tr>\n",
              "  </thead>\n",
              "  <tbody>\n",
              "    <tr>\n",
              "      <th>0</th>\n",
              "      <td>1.00</td>\n",
              "      <td>3.10</td>\n",
              "    </tr>\n",
              "    <tr>\n",
              "      <th>1</th>\n",
              "      <td>1.01</td>\n",
              "      <td>3.12</td>\n",
              "    </tr>\n",
              "    <tr>\n",
              "      <th>2</th>\n",
              "      <td>1.02</td>\n",
              "      <td>3.14</td>\n",
              "    </tr>\n",
              "    <tr>\n",
              "      <th>3</th>\n",
              "      <td>1.03</td>\n",
              "      <td>3.18</td>\n",
              "    </tr>\n",
              "    <tr>\n",
              "      <th>4</th>\n",
              "      <td>1.04</td>\n",
              "      <td>3.24</td>\n",
              "    </tr>\n",
              "  </tbody>\n",
              "</table>\n",
              "</div>\n",
              "    <div class=\"colab-df-buttons\">\n",
              "\n",
              "  <div class=\"colab-df-container\">\n",
              "    <button class=\"colab-df-convert\" onclick=\"convertToInteractive('df-b0b762f3-48f3-4535-8273-4c8496bd5c39')\"\n",
              "            title=\"Convert this dataframe to an interactive table.\"\n",
              "            style=\"display:none;\">\n",
              "\n",
              "  <svg xmlns=\"http://www.w3.org/2000/svg\" height=\"24px\" viewBox=\"0 -960 960 960\">\n",
              "    <path d=\"M120-120v-720h720v720H120Zm60-500h600v-160H180v160Zm220 220h160v-160H400v160Zm0 220h160v-160H400v160ZM180-400h160v-160H180v160Zm440 0h160v-160H620v160ZM180-180h160v-160H180v160Zm440 0h160v-160H620v160Z\"/>\n",
              "  </svg>\n",
              "    </button>\n",
              "\n",
              "  <style>\n",
              "    .colab-df-container {\n",
              "      display:flex;\n",
              "      gap: 12px;\n",
              "    }\n",
              "\n",
              "    .colab-df-convert {\n",
              "      background-color: #E8F0FE;\n",
              "      border: none;\n",
              "      border-radius: 50%;\n",
              "      cursor: pointer;\n",
              "      display: none;\n",
              "      fill: #1967D2;\n",
              "      height: 32px;\n",
              "      padding: 0 0 0 0;\n",
              "      width: 32px;\n",
              "    }\n",
              "\n",
              "    .colab-df-convert:hover {\n",
              "      background-color: #E2EBFA;\n",
              "      box-shadow: 0px 1px 2px rgba(60, 64, 67, 0.3), 0px 1px 3px 1px rgba(60, 64, 67, 0.15);\n",
              "      fill: #174EA6;\n",
              "    }\n",
              "\n",
              "    .colab-df-buttons div {\n",
              "      margin-bottom: 4px;\n",
              "    }\n",
              "\n",
              "    [theme=dark] .colab-df-convert {\n",
              "      background-color: #3B4455;\n",
              "      fill: #D2E3FC;\n",
              "    }\n",
              "\n",
              "    [theme=dark] .colab-df-convert:hover {\n",
              "      background-color: #434B5C;\n",
              "      box-shadow: 0px 1px 3px 1px rgba(0, 0, 0, 0.15);\n",
              "      filter: drop-shadow(0px 1px 2px rgba(0, 0, 0, 0.3));\n",
              "      fill: #FFFFFF;\n",
              "    }\n",
              "  </style>\n",
              "\n",
              "    <script>\n",
              "      const buttonEl =\n",
              "        document.querySelector('#df-b0b762f3-48f3-4535-8273-4c8496bd5c39 button.colab-df-convert');\n",
              "      buttonEl.style.display =\n",
              "        google.colab.kernel.accessAllowed ? 'block' : 'none';\n",
              "\n",
              "      async function convertToInteractive(key) {\n",
              "        const element = document.querySelector('#df-b0b762f3-48f3-4535-8273-4c8496bd5c39');\n",
              "        const dataTable =\n",
              "          await google.colab.kernel.invokeFunction('convertToInteractive',\n",
              "                                                    [key], {});\n",
              "        if (!dataTable) return;\n",
              "\n",
              "        const docLinkHtml = 'Like what you see? Visit the ' +\n",
              "          '<a target=\"_blank\" href=https://colab.research.google.com/notebooks/data_table.ipynb>data table notebook</a>'\n",
              "          + ' to learn more about interactive tables.';\n",
              "        element.innerHTML = '';\n",
              "        dataTable['output_type'] = 'display_data';\n",
              "        await google.colab.output.renderOutput(dataTable, element);\n",
              "        const docLink = document.createElement('div');\n",
              "        docLink.innerHTML = docLinkHtml;\n",
              "        element.appendChild(docLink);\n",
              "      }\n",
              "    </script>\n",
              "  </div>\n",
              "\n",
              "\n",
              "<div id=\"df-8124b347-aa64-4911-bad1-4c41b56b9375\">\n",
              "  <button class=\"colab-df-quickchart\" onclick=\"quickchart('df-8124b347-aa64-4911-bad1-4c41b56b9375')\"\n",
              "            title=\"Suggest charts\"\n",
              "            style=\"display:none;\">\n",
              "\n",
              "<svg xmlns=\"http://www.w3.org/2000/svg\" height=\"24px\"viewBox=\"0 0 24 24\"\n",
              "     width=\"24px\">\n",
              "    <g>\n",
              "        <path d=\"M19 3H5c-1.1 0-2 .9-2 2v14c0 1.1.9 2 2 2h14c1.1 0 2-.9 2-2V5c0-1.1-.9-2-2-2zM9 17H7v-7h2v7zm4 0h-2V7h2v10zm4 0h-2v-4h2v4z\"/>\n",
              "    </g>\n",
              "</svg>\n",
              "  </button>\n",
              "\n",
              "<style>\n",
              "  .colab-df-quickchart {\n",
              "      --bg-color: #E8F0FE;\n",
              "      --fill-color: #1967D2;\n",
              "      --hover-bg-color: #E2EBFA;\n",
              "      --hover-fill-color: #174EA6;\n",
              "      --disabled-fill-color: #AAA;\n",
              "      --disabled-bg-color: #DDD;\n",
              "  }\n",
              "\n",
              "  [theme=dark] .colab-df-quickchart {\n",
              "      --bg-color: #3B4455;\n",
              "      --fill-color: #D2E3FC;\n",
              "      --hover-bg-color: #434B5C;\n",
              "      --hover-fill-color: #FFFFFF;\n",
              "      --disabled-bg-color: #3B4455;\n",
              "      --disabled-fill-color: #666;\n",
              "  }\n",
              "\n",
              "  .colab-df-quickchart {\n",
              "    background-color: var(--bg-color);\n",
              "    border: none;\n",
              "    border-radius: 50%;\n",
              "    cursor: pointer;\n",
              "    display: none;\n",
              "    fill: var(--fill-color);\n",
              "    height: 32px;\n",
              "    padding: 0;\n",
              "    width: 32px;\n",
              "  }\n",
              "\n",
              "  .colab-df-quickchart:hover {\n",
              "    background-color: var(--hover-bg-color);\n",
              "    box-shadow: 0 1px 2px rgba(60, 64, 67, 0.3), 0 1px 3px 1px rgba(60, 64, 67, 0.15);\n",
              "    fill: var(--button-hover-fill-color);\n",
              "  }\n",
              "\n",
              "  .colab-df-quickchart-complete:disabled,\n",
              "  .colab-df-quickchart-complete:disabled:hover {\n",
              "    background-color: var(--disabled-bg-color);\n",
              "    fill: var(--disabled-fill-color);\n",
              "    box-shadow: none;\n",
              "  }\n",
              "\n",
              "  .colab-df-spinner {\n",
              "    border: 2px solid var(--fill-color);\n",
              "    border-color: transparent;\n",
              "    border-bottom-color: var(--fill-color);\n",
              "    animation:\n",
              "      spin 1s steps(1) infinite;\n",
              "  }\n",
              "\n",
              "  @keyframes spin {\n",
              "    0% {\n",
              "      border-color: transparent;\n",
              "      border-bottom-color: var(--fill-color);\n",
              "      border-left-color: var(--fill-color);\n",
              "    }\n",
              "    20% {\n",
              "      border-color: transparent;\n",
              "      border-left-color: var(--fill-color);\n",
              "      border-top-color: var(--fill-color);\n",
              "    }\n",
              "    30% {\n",
              "      border-color: transparent;\n",
              "      border-left-color: var(--fill-color);\n",
              "      border-top-color: var(--fill-color);\n",
              "      border-right-color: var(--fill-color);\n",
              "    }\n",
              "    40% {\n",
              "      border-color: transparent;\n",
              "      border-right-color: var(--fill-color);\n",
              "      border-top-color: var(--fill-color);\n",
              "    }\n",
              "    60% {\n",
              "      border-color: transparent;\n",
              "      border-right-color: var(--fill-color);\n",
              "    }\n",
              "    80% {\n",
              "      border-color: transparent;\n",
              "      border-right-color: var(--fill-color);\n",
              "      border-bottom-color: var(--fill-color);\n",
              "    }\n",
              "    90% {\n",
              "      border-color: transparent;\n",
              "      border-bottom-color: var(--fill-color);\n",
              "    }\n",
              "  }\n",
              "</style>\n",
              "\n",
              "  <script>\n",
              "    async function quickchart(key) {\n",
              "      const quickchartButtonEl =\n",
              "        document.querySelector('#' + key + ' button');\n",
              "      quickchartButtonEl.disabled = true;  // To prevent multiple clicks.\n",
              "      quickchartButtonEl.classList.add('colab-df-spinner');\n",
              "      try {\n",
              "        const charts = await google.colab.kernel.invokeFunction(\n",
              "            'suggestCharts', [key], {});\n",
              "      } catch (error) {\n",
              "        console.error('Error during call to suggestCharts:', error);\n",
              "      }\n",
              "      quickchartButtonEl.classList.remove('colab-df-spinner');\n",
              "      quickchartButtonEl.classList.add('colab-df-quickchart-complete');\n",
              "    }\n",
              "    (() => {\n",
              "      let quickchartButtonEl =\n",
              "        document.querySelector('#df-8124b347-aa64-4911-bad1-4c41b56b9375 button');\n",
              "      quickchartButtonEl.style.display =\n",
              "        google.colab.kernel.accessAllowed ? 'block' : 'none';\n",
              "    })();\n",
              "  </script>\n",
              "</div>\n",
              "    </div>\n",
              "  </div>\n"
            ],
            "application/vnd.google.colaboratory.intrinsic+json": {
              "type": "dataframe",
              "variable_name": "df",
              "summary": "{\n  \"name\": \"df\",\n  \"rows\": 5,\n  \"fields\": [\n    {\n      \"column\": \"Tiempo (s)\",\n      \"properties\": {\n        \"dtype\": \"number\",\n        \"std\": 0.01581138830084191,\n        \"min\": 1.0,\n        \"max\": 1.04,\n        \"num_unique_values\": 5,\n        \"samples\": [\n          1.01,\n          1.04,\n          1.02\n        ],\n        \"semantic_type\": \"\",\n        \"description\": \"\"\n      }\n    },\n    {\n      \"column\": \"Corriente (A)\",\n      \"properties\": {\n        \"dtype\": \"number\",\n        \"std\": 0.055497747702046483,\n        \"min\": 3.1,\n        \"max\": 3.24,\n        \"num_unique_values\": 5,\n        \"samples\": [\n          3.12,\n          3.24,\n          3.14\n        ],\n        \"semantic_type\": \"\",\n        \"description\": \"\"\n      }\n    }\n  ]\n}"
            }
          },
          "metadata": {},
          "execution_count": 2
        }
      ]
    },
    {
      "cell_type": "code",
      "source": [
        "plt.plot(df['Tiempo (s)'], df['Corriente (A)'],label='I (t)')\n",
        "plt.xlabel('t (s)')\n",
        "plt.ylabel('I (A)')\n",
        "plt.title('Corriente en función del tiempo')\n",
        "plt.legend()\n",
        "plt.grid()"
      ],
      "metadata": {
        "colab": {
          "base_uri": "https://localhost:8080/",
          "height": 472
        },
        "id": "_Klt-7zpyPZK",
        "outputId": "f952ab8c-7f00-4693-c80e-ed8217ed2cb5"
      },
      "execution_count": null,
      "outputs": [
        {
          "output_type": "display_data",
          "data": {
            "text/plain": [
              "<Figure size 640x480 with 1 Axes>"
            ],
            "image/png": "[encoded data removed]"
          },
          "metadata": {}
        }
      ]
    },
    {
      "cell_type": "code",
      "source": [
        "derivada=np.gradient(i,t)  #derivada númerica utilizando un método de diferencias\n",
        "derivada #muestra cómo es el cambio en la función\n"
      ],
      "metadata": {
        "colab": {
          "base_uri": "https://localhost:8080/"
        },
        "id": "T1byvshcypR7",
        "outputId": "c824c1f1-a5b1-4cf0-d1cc-72c48dad9f50"
      },
      "execution_count": null,
      "outputs": [
        {
          "output_type": "execute_result",
          "data": {
            "text/plain": [
              "array([2., 2., 3., 5., 6.])"
            ]
          },
          "metadata": {},
          "execution_count": 6
        }
      ]
    },
    {
      "cell_type": "code",
      "source": [
        "#otra forma de hacerlo\n",
        "di=np.diff(i)\n",
        "dt=np.diff(t)\n",
        "d=di/dt\n",
        "d #asociado a las pendientes(la diferencia con los valores de i respecto a las diferencias de los valores de t)"
      ],
      "metadata": {
        "colab": {
          "base_uri": "https://localhost:8080/"
        },
        "id": "vmEFmjMBzA07",
        "outputId": "63bdb27e-d3ea-4409-b422-4b16b884fafc"
      },
      "execution_count": null,
      "outputs": [
        {
          "output_type": "execute_result",
          "data": {
            "text/plain": [
              "array([2., 2., 4., 6.])"
            ]
          },
          "metadata": {},
          "execution_count": 7
        }
      ]
    },
    {
      "cell_type": "code",
      "source": [
        "e=L*derivada+R*i\n",
        "df['Fem (V)']=e\n",
        "df"
      ],
      "metadata": {
        "colab": {
          "base_uri": "https://localhost:8080/",
          "height": 206
        },
        "id": "OWJB4LI6z92J",
        "outputId": "4122abcf-1554-4c19-9128-9b0a369f5246"
      },
      "execution_count": null,
      "outputs": [
        {
          "output_type": "execute_result",
          "data": {
            "text/plain": [
              "   Tiempo (s)  Corriente (A)  Fem (V)\n",
              "0        1.00           3.10  2.40020\n",
              "1        1.01           3.12  2.40304\n",
              "2        1.02           3.14  3.38588\n",
              "3        1.03           3.18  5.35156\n",
              "4        1.04           3.24  6.34008"
            ],
            "text/html": [
              "\n",
              "  <div id=\"df-72b9441b-3e36-4944-a0fb-c6d917ab2eb1\" class=\"colab-df-container\">\n",
              "    <div>\n",
              "<style scoped>\n",
              "    .dataframe tbody tr th:only-of-type {\n",
              "        vertical-align: middle;\n",
              "    }\n",
              "\n",
              "    .dataframe tbody tr th {\n",
              "        vertical-align: top;\n",
              "    }\n",
              "\n",
              "    .dataframe thead th {\n",
              "        text-align: right;\n",
              "    }\n",
              "</style>\n",
              "<table border=\"1\" class=\"dataframe\">\n",
              "  <thead>\n",
              "    <tr style=\"text-align: right;\">\n",
              "      <th></th>\n",
              "      <th>Tiempo (s)</th>\n",
              "      <th>Corriente (A)</th>\n",
              "      <th>Fem (V)</th>\n",
              "    </tr>\n",
              "  </thead>\n",
              "  <tbody>\n",
              "    <tr>\n",
              "      <th>0</th>\n",
              "      <td>1.00</td>\n",
              "      <td>3.10</td>\n",
              "      <td>2.40020</td>\n",
              "    </tr>\n",
              "    <tr>\n",
              "      <th>1</th>\n",
              "      <td>1.01</td>\n",
              "      <td>3.12</td>\n",
              "      <td>2.40304</td>\n",
              "    </tr>\n",
              "    <tr>\n",
              "      <th>2</th>\n",
              "      <td>1.02</td>\n",
              "      <td>3.14</td>\n",
              "      <td>3.38588</td>\n",
              "    </tr>\n",
              "    <tr>\n",
              "      <th>3</th>\n",
              "      <td>1.03</td>\n",
              "      <td>3.18</td>\n",
              "      <td>5.35156</td>\n",
              "    </tr>\n",
              "    <tr>\n",
              "      <th>4</th>\n",
              "      <td>1.04</td>\n",
              "      <td>3.24</td>\n",
              "      <td>6.34008</td>\n",
              "    </tr>\n",
              "  </tbody>\n",
              "</table>\n",
              "</div>\n",
              "    <div class=\"colab-df-buttons\">\n",
              "\n",
              "  <div class=\"colab-df-container\">\n",
              "    <button class=\"colab-df-convert\" onclick=\"convertToInteractive('df-72b9441b-3e36-4944-a0fb-c6d917ab2eb1')\"\n",
              "            title=\"Convert this dataframe to an interactive table.\"\n",
              "            style=\"display:none;\">\n",
              "\n",
              "  <svg xmlns=\"http://www.w3.org/2000/svg\" height=\"24px\" viewBox=\"0 -960 960 960\">\n",
              "    <path d=\"M120-120v-720h720v720H120Zm60-500h600v-160H180v160Zm220 220h160v-160H400v160Zm0 220h160v-160H400v160ZM180-400h160v-160H180v160Zm440 0h160v-160H620v160ZM180-180h160v-160H180v160Zm440 0h160v-160H620v160Z\"/>\n",
              "  </svg>\n",
              "    </button>\n",
              "\n",
              "  <style>\n",
              "    .colab-df-container {\n",
              "      display:flex;\n",
              "      gap: 12px;\n",
              "    }\n",
              "\n",
              "    .colab-df-convert {\n",
              "      background-color: #E8F0FE;\n",
              "      border: none;\n",
              "      border-radius: 50%;\n",
              "      cursor: pointer;\n",
              "      display: none;\n",
              "      fill: #1967D2;\n",
              "      height: 32px;\n",
              "      padding: 0 0 0 0;\n",
              "      width: 32px;\n",
              "    }\n",
              "\n",
              "    .colab-df-convert:hover {\n",
              "      background-color: #E2EBFA;\n",
              "      box-shadow: 0px 1px 2px rgba(60, 64, 67, 0.3), 0px 1px 3px 1px rgba(60, 64, 67, 0.15);\n",
              "      fill: #174EA6;\n",
              "    }\n",
              "\n",
              "    .colab-df-buttons div {\n",
              "      margin-bottom: 4px;\n",
              "    }\n",
              "\n",
              "    [theme=dark] .colab-df-convert {\n",
              "      background-color: #3B4455;\n",
              "      fill: #D2E3FC;\n",
              "    }\n",
              "\n",
              "    [theme=dark] .colab-df-convert:hover {\n",
              "      background-color: #434B5C;\n",
              "      box-shadow: 0px 1px 3px 1px rgba(0, 0, 0, 0.15);\n",
              "      filter: drop-shadow(0px 1px 2px rgba(0, 0, 0, 0.3));\n",
              "      fill: #FFFFFF;\n",
              "    }\n",
              "  </style>\n",
              "\n",
              "    <script>\n",
              "      const buttonEl =\n",
              "        document.querySelector('#df-72b9441b-3e36-4944-a0fb-c6d917ab2eb1 button.colab-df-convert');\n",
              "      buttonEl.style.display =\n",
              "        google.colab.kernel.accessAllowed ? 'block' : 'none';\n",
              "\n",
              "      async function convertToInteractive(key) {\n",
              "        const element = document.querySelector('#df-72b9441b-3e36-4944-a0fb-c6d917ab2eb1');\n",
              "        const dataTable =\n",
              "          await google.colab.kernel.invokeFunction('convertToInteractive',\n",
              "                                                    [key], {});\n",
              "        if (!dataTable) return;\n",
              "\n",
              "        const docLinkHtml = 'Like what you see? Visit the ' +\n",
              "          '<a target=\"_blank\" href=https://colab.research.google.com/notebooks/data_table.ipynb>data table notebook</a>'\n",
              "          + ' to learn more about interactive tables.';\n",
              "        element.innerHTML = '';\n",
              "        dataTable['output_type'] = 'display_data';\n",
              "        await google.colab.output.renderOutput(dataTable, element);\n",
              "        const docLink = document.createElement('div');\n",
              "        docLink.innerHTML = docLinkHtml;\n",
              "        element.appendChild(docLink);\n",
              "      }\n",
              "    </script>\n",
              "  </div>\n",
              "\n",
              "\n",
              "<div id=\"df-d057ea5e-a805-4d28-938a-1a81772dd094\">\n",
              "  <button class=\"colab-df-quickchart\" onclick=\"quickchart('df-d057ea5e-a805-4d28-938a-1a81772dd094')\"\n",
              "            title=\"Suggest charts\"\n",
              "            style=\"display:none;\">\n",
              "\n",
              "<svg xmlns=\"http://www.w3.org/2000/svg\" height=\"24px\"viewBox=\"0 0 24 24\"\n",
              "     width=\"24px\">\n",
              "    <g>\n",
              "        <path d=\"M19 3H5c-1.1 0-2 .9-2 2v14c0 1.1.9 2 2 2h14c1.1 0 2-.9 2-2V5c0-1.1-.9-2-2-2zM9 17H7v-7h2v7zm4 0h-2V7h2v10zm4 0h-2v-4h2v4z\"/>\n",
              "    </g>\n",
              "</svg>\n",
              "  </button>\n",
              "\n",
              "<style>\n",
              "  .colab-df-quickchart {\n",
              "      --bg-color: #E8F0FE;\n",
              "      --fill-color: #1967D2;\n",
              "      --hover-bg-color: #E2EBFA;\n",
              "      --hover-fill-color: #174EA6;\n",
              "      --disabled-fill-color: #AAA;\n",
              "      --disabled-bg-color: #DDD;\n",
              "  }\n",
              "\n",
              "  [theme=dark] .colab-df-quickchart {\n",
              "      --bg-color: #3B4455;\n",
              "      --fill-color: #D2E3FC;\n",
              "      --hover-bg-color: #434B5C;\n",
              "      --hover-fill-color: #FFFFFF;\n",
              "      --disabled-bg-color: #3B4455;\n",
              "      --disabled-fill-color: #666;\n",
              "  }\n",
              "\n",
              "  .colab-df-quickchart {\n",
              "    background-color: var(--bg-color);\n",
              "    border: none;\n",
              "    border-radius: 50%;\n",
              "    cursor: pointer;\n",
              "    display: none;\n",
              "    fill: var(--fill-color);\n",
              "    height: 32px;\n",
              "    padding: 0;\n",
              "    width: 32px;\n",
              "  }\n",
              "\n",
              "  .colab-df-quickchart:hover {\n",
              "    background-color: var(--hover-bg-color);\n",
              "    box-shadow: 0 1px 2px rgba(60, 64, 67, 0.3), 0 1px 3px 1px rgba(60, 64, 67, 0.15);\n",
              "    fill: var(--button-hover-fill-color);\n",
              "  }\n",
              "\n",
              "  .colab-df-quickchart-complete:disabled,\n",
              "  .colab-df-quickchart-complete:disabled:hover {\n",
              "    background-color: var(--disabled-bg-color);\n",
              "    fill: var(--disabled-fill-color);\n",
              "    box-shadow: none;\n",
              "  }\n",
              "\n",
              "  .colab-df-spinner {\n",
              "    border: 2px solid var(--fill-color);\n",
              "    border-color: transparent;\n",
              "    border-bottom-color: var(--fill-color);\n",
              "    animation:\n",
              "      spin 1s steps(1) infinite;\n",
              "  }\n",
              "\n",
              "  @keyframes spin {\n",
              "    0% {\n",
              "      border-color: transparent;\n",
              "      border-bottom-color: var(--fill-color);\n",
              "      border-left-color: var(--fill-color);\n",
              "    }\n",
              "    20% {\n",
              "      border-color: transparent;\n",
              "      border-left-color: var(--fill-color);\n",
              "      border-top-color: var(--fill-color);\n",
              "    }\n",
              "    30% {\n",
              "      border-color: transparent;\n",
              "      border-left-color: var(--fill-color);\n",
              "      border-top-color: var(--fill-color);\n",
              "      border-right-color: var(--fill-color);\n",
              "    }\n",
              "    40% {\n",
              "      border-color: transparent;\n",
              "      border-right-color: var(--fill-color);\n",
              "      border-top-color: var(--fill-color);\n",
              "    }\n",
              "    60% {\n",
              "      border-color: transparent;\n",
              "      border-right-color: var(--fill-color);\n",
              "    }\n",
              "    80% {\n",
              "      border-color: transparent;\n",
              "      border-right-color: var(--fill-color);\n",
              "      border-bottom-color: var(--fill-color);\n",
              "    }\n",
              "    90% {\n",
              "      border-color: transparent;\n",
              "      border-bottom-color: var(--fill-color);\n",
              "    }\n",
              "  }\n",
              "</style>\n",
              "\n",
              "  <script>\n",
              "    async function quickchart(key) {\n",
              "      const quickchartButtonEl =\n",
              "        document.querySelector('#' + key + ' button');\n",
              "      quickchartButtonEl.disabled = true;  // To prevent multiple clicks.\n",
              "      quickchartButtonEl.classList.add('colab-df-spinner');\n",
              "      try {\n",
              "        const charts = await google.colab.kernel.invokeFunction(\n",
              "            'suggestCharts', [key], {});\n",
              "      } catch (error) {\n",
              "        console.error('Error during call to suggestCharts:', error);\n",
              "      }\n",
              "      quickchartButtonEl.classList.remove('colab-df-spinner');\n",
              "      quickchartButtonEl.classList.add('colab-df-quickchart-complete');\n",
              "    }\n",
              "    (() => {\n",
              "      let quickchartButtonEl =\n",
              "        document.querySelector('#df-d057ea5e-a805-4d28-938a-1a81772dd094 button');\n",
              "      quickchartButtonEl.style.display =\n",
              "        google.colab.kernel.accessAllowed ? 'block' : 'none';\n",
              "    })();\n",
              "  </script>\n",
              "</div>\n",
              "    </div>\n",
              "  </div>\n"
            ],
            "application/vnd.google.colaboratory.intrinsic+json": {
              "type": "dataframe",
              "variable_name": "df",
              "summary": "{\n  \"name\": \"df\",\n  \"rows\": 5,\n  \"fields\": [\n    {\n      \"column\": \"Tiempo (s)\",\n      \"properties\": {\n        \"dtype\": \"number\",\n        \"std\": 0.01581138830084191,\n        \"min\": 1.0,\n        \"max\": 1.04,\n        \"num_unique_values\": 5,\n        \"samples\": [\n          1.01,\n          1.04,\n          1.02\n        ],\n        \"semantic_type\": \"\",\n        \"description\": \"\"\n      }\n    },\n    {\n      \"column\": \"Corriente (A)\",\n      \"properties\": {\n        \"dtype\": \"number\",\n        \"std\": 0.055497747702046483,\n        \"min\": 3.1,\n        \"max\": 3.24,\n        \"num_unique_values\": 5,\n        \"samples\": [\n          3.12,\n          3.24,\n          3.14\n        ],\n        \"semantic_type\": \"\",\n        \"description\": \"\"\n      }\n    },\n    {\n      \"column\": \"Fem (V)\",\n      \"properties\": {\n        \"dtype\": \"number\",\n        \"std\": 1.7879198710009347,\n        \"min\": 2.4002,\n        \"max\": 6.3400799999999995,\n        \"num_unique_values\": 5,\n        \"samples\": [\n          2.40304,\n          6.3400799999999995,\n          3.38588\n        ],\n        \"semantic_type\": \"\",\n        \"description\": \"\"\n      }\n    }\n  ]\n}"
            }
          },
          "metadata": {},
          "execution_count": 8
        }
      ]
    },
    {
      "cell_type": "code",
      "source": [
        "fig, axs = plt.subplots(1, 2)\n",
        "axs[0].plot(df['Tiempo (s)'], df['Corriente (A)'], 'ro-')\n",
        "axs[0].set_title('Corriente en función del tiempo')\n",
        "axs[0].set_xlabel('Tiempo (s)')\n",
        "axs[0].set_ylabel('Corriente (A)')\n",
        "axs[1].plot(df['Tiempo (s)'], df['Fem (V)'], 'bo-')\n",
        "axs[1].set_title('Fem en función del tiempo')\n",
        "axs[1].set_xlabel('Tiempo (s)')\n",
        "axs[1].set_ylabel('Fem (V)')\n",
        "plt.tight_layout()\n",
        "plt.show()"
      ],
      "metadata": {
        "colab": {
          "base_uri": "https://localhost:8080/",
          "height": 487
        },
        "id": "rfdXbe0d05LV",
        "outputId": "f7b5d5b2-7baa-4283-b2d4-5e8f342b62c8"
      },
      "execution_count": null,
      "outputs": [
        {
          "output_type": "display_data",
          "data": {
            "text/plain": [
              "<Figure size 640x480 with 2 Axes>"
            ],
            "image/png": "[encoded data removed]"
          },
          "metadata": {}
        }
      ]
    },
    {
      "cell_type": "markdown",
      "source": [
        "\\begin{equation}\n",
        "  f´(x_0)=\\frac{1}{2h}[-3f(x_0)+4f(x_0+h)-f(x_0+2h)]\n",
        "\\end{equation}\n",
        "\n",
        "donde $h=x_1-x_0$\n",
        "\n",
        "hacer derivada tres puntos y  polinio de lagrange"
      ],
      "metadata": {
        "id": "-RH4aaS52Xjr"
      }
    },
    {
      "cell_type": "code",
      "source": [
        "import sympy as sp\n",
        "from scipy.interpolate import lagrange"
      ],
      "metadata": {
        "id": "f_2XUbht3PoN"
      },
      "execution_count": null,
      "outputs": []
    },
    {
      "cell_type": "code",
      "source": [
        "pl=lagrange(t,i)\n",
        "plt.figure(figsize=(8, 6))\n",
        "xm=np.linspace(np.min(t),np.max(t),10000)\n",
        "plt.plot(t, i, 'ro', label='Datos originales')\n",
        "plt.plot(xm, pl(xm), 'k-',label='Interpolación de Lagrange', linestyle='--')\n",
        "plt.xlabel('Tiempo (s)')\n",
        "plt.ylabel('Corriente (A)')\n",
        "plt.title('Interpolación de la corriente con Lagrange')\n",
        "plt.legend()"
      ],
      "metadata": {
        "colab": {
          "base_uri": "https://localhost:8080/",
          "height": 589
        },
        "id": "_e1MZFiT3rZ9",
        "outputId": "a78d1a58-b6a3-4b87-d3f8-05eb8bd9b350"
      },
      "execution_count": null,
      "outputs": [
        {
          "output_type": "stream",
          "name": "stderr",
          "text": [
            "<ipython-input-14-566d9e77db7e>:5: UserWarning: linestyle is redundantly defined by the 'linestyle' keyword argument and the fmt string \"k-\" (-> linestyle='-'). The keyword argument will take precedence.\n",
            "  plt.plot(xm, pl(xm), 'k-',label='Interpolación de Lagrange', linestyle='--')\n"
          ]
        },
        {
          "output_type": "execute_result",
          "data": {
            "text/plain": [
              "<matplotlib.legend.Legend at 0x78b99c810c10>"
            ]
          },
          "metadata": {},
          "execution_count": 14
        },
        {
          "output_type": "display_data",
          "data": {
            "text/plain": [
              "<Figure size 800x600 with 1 Axes>"
            ],
            "image/png": "[encoded data removed]"
          },
          "metadata": {}
        }
      ]
    },
    {
      "cell_type": "code",
      "source": [
        "polinomio_lagrange=pl(xm)\n",
        "polinomio_lagrange\n",
        "\n",
        "h=1e-6\n",
        "derivada1=1/(2*h)*(-3*pl(xm)+4*pl(xm+h)-pl(xm+2*h))\n",
        "derivada1\n",
        "plt.plot(xm,derivada1,label='Derivada original')\n",
        "plt.plot(t,derivada, label='Derivada de la interpolación')\n",
        "plt.xlabel('t (s)')\n",
        "plt.ylabel('dI/dt (A/s)')\n",
        "plt.title('Comparación de la derivada ')\n",
        "plt.legend()"
      ],
      "metadata": {
        "colab": {
          "base_uri": "https://localhost:8080/",
          "height": 490
        },
        "id": "xbspAO9k5Vqs",
        "outputId": "b17f6790-e94f-4d74-e0e6-51242293372a"
      },
      "execution_count": null,
      "outputs": [
        {
          "output_type": "execute_result",
          "data": {
            "text/plain": [
              "<matplotlib.legend.Legend at 0x78b99cb6d2a0>"
            ]
          },
          "metadata": {},
          "execution_count": 24
        },
        {
          "output_type": "display_data",
          "data": {
            "text/plain": [
              "<Figure size 640x480 with 1 Axes>"
            ],
            "image/png": "[encoded data removed]"
          },
          "metadata": {}
        }
      ]
    },
    {
      "cell_type": "markdown",
      "metadata": {
        "id": "yyh50GiIux2j"
      },
      "source": [
        "##**Parte 2**\n",
        "\n",
        "1. Escribir en código Markdown la expresión para calcular una integral con la regla del trapecio.\n",
        "\n",
        "2. Escribir en código Markdown la expresión para calcular una integral con la regla del simpson.\n",
        "\n",
        "3. Escribir en código Markdown la expresión para calcular una integral con el metodo de cuadratura.\n",
        "\n",
        "4. Calcular una aproximación con el metodo 1,2,3 de las siguientes integrales"
      ]
    },
    {
      "cell_type": "markdown",
      "source": [
        "#1). Regla del trapecio\n",
        "\n",
        "La expresión para calcular una integral usando la regla del trapecio es:\n",
        "\n",
        "\\begin{equation}\n",
        "  \\int_{a}^{b} f(x) \\, dx \\approx \\frac{b-a}{n} \\left[ f(x_0) + f(x_n)\n",
        "   + 2\n",
        "\\sum_{i=1}^{n-1}f(x_{i})\n",
        "\\right  ]\n",
        "\\end{equation}\n",
        "\n",
        "#2). Regla de simpson\n",
        "\n",
        "La expresión para calcular una integral cin la regla de SImpson es:\n",
        "\n",
        "\\begin{equation}\n",
        "  \\int_{a}^{b}f(x) dx\\approx \\frac{b-a}{3n} \\left[ f(x_0) + f(x_n)\n",
        "   + 2\n",
        "\\sum_{i=1}^{n/2-1}f(x_{2i}) + 4 \\sum_{i=1}^{n/2} f(x_{2i-1})\n",
        "\\right  ]\n",
        "\\end{equation}\n",
        "\n",
        "#3). Método de cuadratura\n",
        "\n",
        "La forma e calcular una integral con el método de cuadratura es\n",
        "\n",
        "\\begin{equation}\n",
        "  \\int_{a}^{b}f(x) dx≈ \\sum_{i=1}^{n}w_if(x_i)\n",
        "\\end{equation}\n",
        "\n",
        "donde $w_i$ son los pesos asociados a los puntos de cuadratura $x_i$"
      ],
      "metadata": {
        "id": "sQWsV-Zm_Lak"
      }
    },
    {
      "cell_type": "markdown",
      "metadata": {
        "id": "j3rJW3FevAeC"
      },
      "source": [
        "---\n",
        "$$\n",
        " \\int_0^{\\pi/2} \\frac{1}{\\sqrt{\\tan x}}\\mathrm{dx}\n",
        " $$\n",
        "\n",
        "----\n",
        "$$\n",
        " \\int_{1}^{\\infty} \\frac{\\cos x}{x^3}\\mathrm{dx}\n",
        " $$\n",
        "\n",
        "\n",
        "----\n",
        "\n",
        "$$\n",
        " \\int_{0}^{\\pi/4} \\int_{0}^{\\sin x} \\frac{1}{\\sqrt{1-y^2}}\\mathrm{dydx}\n",
        " $$\n",
        "\n",
        "---\n",
        "\n",
        "Garantizando  que el error sea menor a $\\varepsilon=1\\times 10^{-5}$."
      ]
    },
    {
      "cell_type": "markdown",
      "source": [
        "##*Regla del trapecio*"
      ],
      "metadata": {
        "id": "h5MGujfuBmta"
      }
    },
    {
      "cell_type": "code",
      "source": [
        "f1=lambda x: 1/(np.sqrt(np.tan(x))) #Función 1\n",
        "f2=lambda x: np.cos(x)/x**3 #Función 2\n",
        "f3=lambda y: 1/np.sqrt(1-y**2)  #Función 3"
      ],
      "metadata": {
        "id": "mNFF3Hct6p04"
      },
      "execution_count": null,
      "outputs": []
    },
    {
      "cell_type": "code",
      "source": [
        "def integral_trapecio(f,a,b):\n",
        "  n=1000000\n",
        "  x=np.linspace(a,b,n)\n",
        "  h=(b-a)/n\n",
        "  sum=0\n",
        "  for i in range(1,n):\n",
        "    sum+=f(x[i])\n",
        "    integral=(f(a)+f(b)+2*sum)*h/2\n",
        "  return integral"
      ],
      "metadata": {
        "id": "Snm627Zl-4ue"
      },
      "execution_count": null,
      "outputs": []
    },
    {
      "cell_type": "code",
      "source": [
        "#integral de la función usando la función integral_trapecio\n",
        "print(\"El valor de la integral de la función 1 es\", integral_trapecio(f1,1e-9,(np.pi)/2))\n",
        "\n",
        "\n",
        "#integral del trapecio usando una función de numpy\n",
        "a=1e-9\n",
        "b=np.pi/2\n",
        "x=np.linspace(a,b,1000000)\n",
        "f1_=f1(x)\n",
        "trapecio=np.trapz(f1_,x)\n",
        "print(\"El valor de la integral de la función 1 usando una función de numpy es\",trapecio)\n"
      ],
      "metadata": {
        "colab": {
          "base_uri": "https://localhost:8080/"
        },
        "id": "q41w2rC9_I2f",
        "outputId": "19351323-985e-41a8-be2b-36a4c0c0e571"
      },
      "execution_count": null,
      "outputs": [
        {
          "output_type": "stream",
          "name": "stdout",
          "text": [
            "El valor de la integral es 2.244444393911449\n",
            "El valor de la integral usando una función de numpy es 2.2444466383581103\n"
          ]
        }
      ]
    },
    {
      "cell_type": "code",
      "source": [
        "#integral de la función usando la función integral_trapecio\n",
        "print(\"El valor de la integral de la función 2es\", integral_trapecio(f2,1,1e3))\n",
        "\n",
        "#integral del trapecio usando una función de numpy\n",
        "a=1\n",
        "b=1e3\n",
        "x=np.linspace(a,b,1000000)\n",
        "f2_=f2(x)\n",
        "trapecio=np.trapz(f2_,x)\n",
        "print(\"El valor de la integral de la función 2 usando una función de numpy es\",trapecio)"
      ],
      "metadata": {
        "colab": {
          "base_uri": "https://localhost:8080/"
        },
        "id": "vnWQCQS8Buiw",
        "outputId": "a3139816-3d16-4477-d6aa-8a65db14f8ea"
      },
      "execution_count": null,
      "outputs": [
        {
          "output_type": "stream",
          "name": "stdout",
          "text": [
            "El valor de la integral es 0.01811780947681933\n",
            "El valor de la integral usando una función de numpy es 0.018117827594086252\n"
          ]
        }
      ]
    },
    {
      "cell_type": "code",
      "source": [
        "n=10000\n",
        "x=np.linspace(0,np.pi/4,n)\n",
        "l=np.zeros(n)\n",
        "for i,x_ in enumerate(x):\n",
        "  y=np.linspace(0,np.sin(x_),n)\n",
        "  I1=np.trapz(f3(y),y)\n",
        "  l[i]=I1\n",
        "\n",
        "I_resultante=np.trapz(l,x)\n",
        "print(\"El valor de la integral de la función 3 usando una función de numpy es\",I_resultante)"
      ],
      "metadata": {
        "colab": {
          "base_uri": "https://localhost:8080/"
        },
        "id": "BJncwbErDIXC",
        "outputId": "1af94169-e7f4-4d73-b2f7-87fcd26483fc"
      },
      "execution_count": null,
      "outputs": [
        {
          "output_type": "stream",
          "name": "stdout",
          "text": [
            "El valor de la integral usando una función de numpy es 0.30842513766192337\n"
          ]
        }
      ]
    },
    {
      "cell_type": "markdown",
      "source": [
        "##*Regla de Simpson*"
      ],
      "metadata": {
        "id": "Qcgz7r1DJYeE"
      }
    },
    {
      "cell_type": "code",
      "source": [
        "def integral_simpson(f,a,b):\n",
        "  n=1000000\n",
        "  h=(b-a)/n\n",
        "  suma=0\n",
        "  x = a\n",
        "  suma+=f(a)+f(b)\n",
        "  for i in range(1,n//2):\n",
        "    x=a+2*i*h\n",
        "    suma+=2*f(x)\n",
        "  for i in range(1, n//2 + 1):\n",
        "    x=a+(2*i-1)*h\n",
        "    suma+=4*f(x)\n",
        "  suma*=h/3\n",
        "  return suma"
      ],
      "metadata": {
        "id": "_zG1rFW2J9Cw"
      },
      "execution_count": null,
      "outputs": []
    },
    {
      "cell_type": "code",
      "source": [
        "#integral de la función usando la función integral_simpson\n",
        "print(\"El valor de la integral de la función 1 es\", integral_simpson(f1,1e-9,(np.pi)/2))\n",
        "\n",
        "#integral de simpson usando una función de numpy\n",
        "a=1e-9\n",
        "b=np.pi/2\n",
        "x=np.linspace(a,b,1000000)\n",
        "f1_=f1(x)\n",
        "simpson=simps(f1_,x)\n",
        "print(\"El valor de la integral de la función 1 usando una función de numpy es\",simpson)"
      ],
      "metadata": {
        "colab": {
          "base_uri": "https://localhost:8080/"
        },
        "id": "G0zXWIdnL6rV",
        "outputId": "7af20a96-1ff1-4b40-b7fe-e008324540aa"
      },
      "execution_count": null,
      "outputs": [
        {
          "output_type": "stream",
          "name": "stdout",
          "text": [
            "El valor de la integral es 2.23642039878166\n",
            "El valor de la integral usando una función de numpy es 2.2364204144765023\n"
          ]
        }
      ]
    },
    {
      "cell_type": "code",
      "source": [
        "#integral de la función usando la función integral_simpson\n",
        "print(\"El valor de la integral de la función 2 es\", integral_simpson(f2,1,1e3))\n",
        "\n",
        "#integral de simpson usando una función de numpy\n",
        "a=1\n",
        "b=1e3\n",
        "x=np.linspace(a,b,1000000)\n",
        "f2_=f2(x)\n",
        "simpson=simps(f2_,x)\n",
        "print(\"El valor de la integral de la función 2 usando una función de numpy es\",simpson)"
      ],
      "metadata": {
        "colab": {
          "base_uri": "https://localhost:8080/"
        },
        "id": "53nSyBFOM1s2",
        "outputId": "5a70b1d1-7a68-424d-872a-194b3e06b023"
      },
      "execution_count": null,
      "outputs": [
        {
          "output_type": "stream",
          "name": "stdout",
          "text": [
            "El valor de la integral es 0.018117622806103066\n",
            "El valor de la integral usando una función de numpy es 0.01811762280610362\n"
          ]
        }
      ]
    },
    {
      "cell_type": "code",
      "source": [
        "n=10000\n",
        "x=np.linspace(0,np.pi/4,n)\n",
        "l=np.zeros(n)\n",
        "for i,x_ in enumerate(x):\n",
        "  y=np.linspace(0,np.sin(x_),n)\n",
        "  I1=simps(f3(y),y)\n",
        "  l[i]=I1\n",
        "\n",
        "I_resultante=simps(l,x)\n",
        "print(\"El valor de la integral de la función 3 usando una función de numpy es\",I_resultante)"
      ],
      "metadata": {
        "colab": {
          "base_uri": "https://localhost:8080/"
        },
        "id": "Eq8wS_QUDITf",
        "outputId": "b8bb5aa0-f67f-473e-f49b-1544d6258df3"
      },
      "execution_count": null,
      "outputs": [
        {
          "output_type": "stream",
          "name": "stdout",
          "text": [
            "El valor de la integral usando una función de numpy es 0.3084251375340424\n"
          ]
        }
      ]
    },
    {
      "cell_type": "markdown",
      "source": [
        "##*Método de Cuadratura*"
      ],
      "metadata": {
        "id": "nOQmoSo3NrPj"
      }
    },
    {
      "cell_type": "code",
      "source": [
        "#integral método de cuadratura usando una función de numpy\n",
        "a=1e-9\n",
        "b=np.pi/2\n",
        "x=np.linspace(a,b,1000000)\n",
        "cuadratura=quad(f1,a,b)[0]\n",
        "print(\"El valor de la integral de la función 1 usando una función de numpy es\",cuadratura)"
      ],
      "metadata": {
        "colab": {
          "base_uri": "https://localhost:8080/"
        },
        "id": "k4AojJNj_hI1",
        "outputId": "23711150-bf6c-48b2-9dcf-95443352a173"
      },
      "execution_count": null,
      "outputs": [
        {
          "output_type": "stream",
          "name": "stdout",
          "text": [
            "El valor de la integral usando una función de numpy es 2.22144146908185\n"
          ]
        }
      ]
    },
    {
      "cell_type": "code",
      "source": [
        "a1=1\n",
        "b1=np.inf\n",
        "cuadratura1=quad(f2,a1,b1,limit=100000)[0]\n",
        "print(\"El valor de la integral de la función 2 usando una función de numpy es\",cuadratura1)"
      ],
      "metadata": {
        "id": "UOFvlN1pD-uC",
        "colab": {
          "base_uri": "https://localhost:8080/"
        },
        "outputId": "bc1fccf0-b2dd-4abf-b18f-162453730910"
      },
      "execution_count": null,
      "outputs": [
        {
          "output_type": "stream",
          "name": "stdout",
          "text": [
            "El valor de la integral de la función 2 usando una función de numpy es 0.018117622548772427\n"
          ]
        }
      ]
    },
    {
      "cell_type": "code",
      "source": [
        "a1=0\n",
        "b1=np.pi/4\n",
        "f=lambda x,y: 1/np.sqrt(1-y**2)  #Función 3\n",
        "def F3(x):\n",
        "  return quad(lambda y: f(x, y), 0, np.sin(x))[0]\n",
        "cuadratura2=quad(F3,a1,b1,limit=100000)[0]\n",
        "print(\"El valor de la integral de la función 2 usando una función de numpy es\",cuadratura2)"
      ],
      "metadata": {
        "colab": {
          "base_uri": "https://localhost:8080/"
        },
        "id": "sJ9foD628HjD",
        "outputId": "dd57ab25-ddf8-4543-f1d5-44a57772dd8b"
      },
      "execution_count": null,
      "outputs": [
        {
          "output_type": "stream",
          "name": "stdout",
          "text": [
            "El valor de la integral de la función 2 usando una función de numpy es 0.30842513753404244\n"
          ]
        }
      ]
    },
    {
      "cell_type": "markdown",
      "metadata": {
        "id": "pvB9I2lavCdW"
      },
      "source": [
        "## Parte 3\n",
        "\n",
        "Un péndulo físico en el regimen de pequeñas oscilaciones tiene un periodo de:\n",
        "\n",
        "\\begin{equation}\n",
        "P_0=2\\pi \\sqrt{\\frac{I_0}{mgb}}\n",
        "\\end{equation}\n",
        "\n",
        "Cuando las oscilaciones no son pequeñas, podemos encontrar una expresión para el periodo como sigue:\n",
        "\n",
        "\n",
        "La energia de un péndulo físico viene dada por:\n",
        "\n",
        "\\begin{equation}\n",
        "E=\\frac{I_0\\omega^2}{2}+mgb(1-\\cos \\theta)\n",
        "\\end{equation}\n",
        "\n",
        "En el punto más alejado de su posición de equilibrio, su energía es solo potencial y viene dada por:\n",
        "\n",
        "\\begin{equation}\n",
        "Ep = mgb(1-\\cos \\theta),\n",
        "\\end{equation}\n",
        "\n",
        "Igualando ambas expresiones tenemos que:\n",
        "\n",
        "\\begin{equation}\n",
        "mgb(1-\\cos \\theta)=\\frac{I_0\\omega^2}{2}+mgb(1-\\cos \\theta)\n",
        "\\end{equation}\n",
        "\n",
        "Integrando la ecuación respecto a $\\theta$ y realizando la sustitución:\n",
        "\n",
        "$\\sin \\phi = \\frac{\\sin \\frac{\\theta}{2}}{\\sin \\frac{\\theta_0}{2}}$ y  $k = \\sin \\frac{\\theta_0}{2}$, se puede encontrar  que el periodo de oscilación, viene dado en terminos de  la integral elíptica completa de primera especie:\n",
        "\n",
        "\n",
        "\\begin{equation}\n",
        "P = \\frac{2P_0}{\\pi} \\int _0^{\\pi/2} \\frac{\\mathrm{d\\phi}}{\\sqrt{1-k^2\\sin^2\\phi}}\n",
        "\\end{equation}\n",
        "\n",
        "donde,  $P_0$ es el periodo de las oscilaciones pequeñas.\n",
        "\n",
        "Determinar el periodo de oscilación de un péndulo. Para ello:\n",
        "\n",
        "1. Suponga los párametros iniciales del pendulo.\n",
        "2. Realice una buena planificación del código para calcular la integral.\n",
        "3. Emplee un  método de integracion numérico que conozca.\n",
        "4. Compruebe su solucion con el valor exacto de la integral mostrado en el punto"
      ]
    },
    {
      "cell_type": "markdown",
      "source": [
        "Para un péndulo simple con cuerda inextensible y tensión uniforme:\n",
        "\n",
        "\n",
        "\n",
        "*   **$I_0$** es el momento de incercía: **$I_0=I_{cm} + mb^2$**, donde **$I_{cm}$** es el momento de inercia del objeto respecto a su centro de masa.\n",
        "Si suponemos el péndulo físico como una barra delgada rotando alrededor de un eje perpendicular a la barra ypasando por su centro, entonces **$I_{cm}=\\frac {1}{12}mb^2$**, por tanto:**$$I_0=\\frac {1}{12}mb^2 + \\frac {b^2}{4}m$$**\n",
        "Entonces **$$I_0 =\\frac {1}{3}mb^2$$**\n",
        "*   **$b$** es la distancia desde el punto de suspensión hasta el centro de masa del péndulo\n",
        "*   **$θ_0$**  es la amplitud de las oscilaciones, es decir el ánguloi máximo.\n"
      ],
      "metadata": {
        "id": "_PJM3CkIxf92"
      }
    },
    {
      "cell_type": "code",
      "source": [
        "#Parámetros iniciales\n",
        "\n",
        "b=1.0  # distancia al centro de masa en m\n",
        "m=5.0  # masa del péndulo en kg\n",
        "g=9.82  # gravedad\n",
        "theta0=np.pi / 6  # amplitud angular máxima"
      ],
      "metadata": {
        "id": "6KHoSF9EE4Kt"
      },
      "execution_count": null,
      "outputs": []
    },
    {
      "cell_type": "code",
      "source": [
        "def I0(m, b):  # momento de inercia\n",
        "  I=(1/3)*m*b**2\n",
        "  return I\n",
        "\n",
        "def P0(m, b):  # período pequeñas oscilaciones para un péndulo físico\n",
        "  P=2*np.pi*np.sqrt(I0(m,b) /(m*g*b))\n",
        "  return P\n",
        "\n",
        "k=np.sin(theta0 / 2)\n",
        "\n",
        "def Integral_periodo(k):  #integral usando el método de cuadratura\n",
        "  intg=lambda phi, k: 1/np.sqrt(1-k**2*np.sin(phi)**2)\n",
        "  I=quad(intg,0,np.pi/2,args=(k,))[0]\n",
        "  return I\n",
        "\n",
        "P=2*P0(m,b)*Integral_periodo(k)/np.pi"
      ],
      "metadata": {
        "id": "vFarcRs6Kc6W"
      },
      "execution_count": null,
      "outputs": []
    },
    {
      "cell_type": "code",
      "source": [
        "print(f\"Periodo del péndulo para pequeñas oscilaciones (P0):{P0(m,b):.4f} s\")\n",
        "print(f\"Periodo de oscilación para grandes oscilaciones (P): {P:.4f} s\")\n",
        "\n",
        "\n",
        "P_exacto=(2*P0(m,b)/np.pi)*ellipk(k**2)  #comporbación de resultados con la función de integral elíptica de scipy\n",
        "print(f\"Periodo exacto usando integral elíptica de scipy: {P_exacto:.4f} s\")\n",
        "\n",
        "#error\n",
        "error=(abs(P- P_exacto)/P_exacto)*100\n",
        "print(f\"Diferencia entre el resultado numérico y el valor exacto: {error:.4e} s\")"
      ],
      "metadata": {
        "colab": {
          "base_uri": "https://localhost:8080/"
        },
        "id": "6cm3JPSCKYsA",
        "outputId": "0e6e3780-6934-4a71-8021-3c0e83e4a86f"
      },
      "execution_count": null,
      "outputs": [
        {
          "output_type": "stream",
          "name": "stdout",
          "text": [
            "Periodo del péndulo para pequeñas oscilaciones (P0):1.1576 s\n",
            "Periodo de oscilación para grandes oscilaciones (P): 1.1778 s\n",
            "Periodo exacto usando integral elíptica de scipy: 1.1778 s\n",
            "Diferencia entre el resultado numérico y el valor exacto: 1.8853e-14 s\n"
          ]
        }
      ]
    },
    {
      "cell_type": "markdown",
      "metadata": {
        "id": "R2jgnjm4vd95"
      },
      "source": [
        "## Parte 4\n",
        "\n",
        "The next  problems are examples of how elliptic integrals enter into realistic physics problems. It is straightforward to evaluate any integral numerically using the techniques of this chapter, but it may be difficult for you to  know if the answers you obtain are correct. One way to hone your integral evaluating skills is to compare your answers from quadrature to power series\n",
        "expressions, or to a polynomial approximations of know precision. To help you in this regard, we present here a polynomial approximation for an elliptic integral (Abramowitz and Stegun, 1972):\n",
        "\n",
        "\\begin{equation}\n",
        "K(m)=\\int_{0}^{\\pi/2} \\frac{\\mathrm{d\\phi}}{\\sqrt{1-m\\sin^2\\phi}}\n",
        "\\end{equation}\n",
        "\n",
        "\\begin{equation}\n",
        "\\approx a_0+a_1m_1+a_2m_2 - [ b_0+b_1m_1+b_2m_1^2]\\ln m_1 + \\epsilon(m)\n",
        "\\end{equation}\n",
        "\n",
        "\n",
        "* $m_1 = 1-m$,\n",
        "\n",
        "* $ 0 \\le m \\le1 $\n",
        "\n",
        "* $\\epsilon(m)\\leq 3\\times 10^{-5}$\n",
        "\n",
        "* $a_0 = 1.3862944$\n",
        "\n",
        "* $b_0 = 0.5$\n",
        "\n",
        "* $a_1 = 0.1119723$\n",
        "\n",
        "* $b_1 = 0.1213478$\n",
        "\n",
        "* $a_2 = 0.00725296$\n",
        "\n",
        "* $b_2 = 0.0288729$"
      ]
    },
    {
      "cell_type": "code",
      "source": [
        "a0=1.3862944\n",
        "b0=0.5\n",
        "a1=0.1119723\n",
        "b1=0.1213478\n",
        "a2=0.00725296\n",
        "b2=0.0288729\n",
        "def aprox_eliptica(m,e=3e-5):\n",
        "  m1=1-m\n",
        "  if m >=0 and m<=1:\n",
        "    sum1 = a0+a1*m1+a2*m1**2\n",
        "    sum2 = (b0 + b1 * m1 + b2 * m1 ** 2) * np.log(m1)\n",
        "    return sum1 - sum2 + e\n",
        "  else:\n",
        "    return print('m debe ser $ 0 \\le m \\le1 $')\n",
        "\n",
        "def K(m):\n",
        "  k=lambda phi,m:1/np.sqrt(1-m*np.sin(phi)**2)\n",
        "  I= quad(k,0,np.pi/2,args=(m,))[0]\n",
        "  return I"
      ],
      "metadata": {
        "id": "GcBZ50dGSASs"
      },
      "execution_count": null,
      "outputs": []
    },
    {
      "cell_type": "code",
      "source": [
        "#Valor de la integral usando la aproximación elíptica\n",
        "m= [0.1, 0.5, 0.9]\n",
        "for i in m:\n",
        "  resultado = aprox_eliptica(i)\n",
        "  print(f\"Aproximación para m = {i}: {resultado}\")"
      ],
      "metadata": {
        "colab": {
          "base_uri": "https://localhost:8080/"
        },
        "id": "lA-MExnjVhwb",
        "outputId": "60e2d3ea-8db9-4d9c-b798-f7dd970ee96c"
      },
      "execution_count": null,
      "outputs": [
        {
          "output_type": "stream",
          "name": "stdout",
          "text": [
            "Aproximación para m = 0.1: 1.5596254370750164\n",
            "Aproximación para m = 0.5: 1.837756615305946\n",
            "Aproximación para m = 0.9: 2.5774928927231007\n"
          ]
        }
      ]
    },
    {
      "cell_type": "code",
      "source": [
        "#Valor de la integral usando la integral\n",
        "m= [0.1, 0.5, 0.9]\n",
        "for i in m:\n",
        "  resultado = K(i)\n",
        "  print(f\"Resultado de la integral para m = {i}: {resultado}\")"
      ],
      "metadata": {
        "colab": {
          "base_uri": "https://localhost:8080/"
        },
        "id": "0USTNAxiWJ9N",
        "outputId": "ec64387a-9a86-4657-d803-cb7fbf648dc6"
      },
      "execution_count": null,
      "outputs": [
        {
          "output_type": "stream",
          "name": "stdout",
          "text": [
            "Aproximación para m = 0.1: 1.6124413487202194\n",
            "Aproximación para m = 0.5: 1.854074677301372\n",
            "Aproximación para m = 0.9: 2.5780921133481725\n"
          ]
        }
      ]
    },
    {
      "cell_type": "markdown",
      "metadata": {
        "id": "xDFUsTNRvzOV"
      },
      "source": [
        "# Parte 5 (Opcional)\n",
        "\n",
        "Figure 5.7 shows a current loop of radius a carrying a current I. The point P\n",
        "is a distance r from the center of the loop with spherical coordinates (r, θ, φ).\n",
        "Jackson (1988) solves for the φ component of the vector potential at point P\n",
        "in terms of elliptic integrals:\n",
        "\n",
        "\\begin{equation}\n",
        "A_{\\phi}(r, \\theta)=\\frac{\\mu_0}{4\\pi}\\frac{4Ia}{\\sqrt{a^2+r^2+2ar\\sin \\theta}}\\left(\\frac{(2-k^2)K(k)-2E(k)}{k^2} \\right)\n",
        "\\end{equation}\n",
        "\n",
        "\n",
        "where\n",
        "\n",
        "\\begin{equation}\n",
        "K(k)=\\int_{0}^{\\pi/2} \\frac{\\mathrm{d\\phi}}{\\sqrt{1-k^2\\sin^2\\phi}}\n",
        "\\end{equation}\n",
        "\n",
        "\n",
        "\\begin{equation}\n",
        "E(k)=\\int_{0}^{\\pi/2} \\mathrm{d\\phi} \\sqrt{1-k^2\\sin^2\\phi}\n",
        "\\end{equation}\n",
        "\n",
        "\n",
        "\\begin{equation}\n",
        "k^2=\\frac{4ar\\sin\\theta}{a^2+r^2+2ar\\sin\\theta}\n",
        "\\end{equation}\n",
        "\n",
        "\n",
        "\n",
        "Here K(k) is a complete elliptic integral of the first kind and E(k) is a complete\n",
        "elliptic integral of the second kind. For a = 1, I = 3, and μ0∕4π = 1, compute\n",
        "and plot\n",
        "\n",
        "a) Aφ(r = 1.1, θ) vs. θ\n",
        "\n",
        "b) Aφ(r, θ = π∕3) vs. r\n"
      ]
    },
    {
      "cell_type": "code",
      "source": [
        "a = 1\n",
        "I = 3\n",
        "mu=1\n",
        "\n",
        "def K(k):\n",
        "  return sp.ellipk(k**2)\n",
        "\n",
        "def E(k):\n",
        "  return sp.ellipe(k**2)\n",
        "def k_cuad(r, theta):\n",
        "  k2=4*a*r*np.sin(theta)/(a**2+r**2+2*a*r*np.sin(theta))\n",
        "  return k2\n",
        "\n",
        "def Apotencial(r, theta):\n",
        "  kcuadrado=k_cuad(r, theta)\n",
        "  k=np.sqrt(kcuadrado)\n",
        "  n=(2-kcuadrado)*K(k)-2*E(k)\n",
        "  d=kcuadrado\n",
        "  A=(mu/4*np.pi)*(4*I*a/np.sqrt(a**2+r**2+2*a*r*np.sin(theta)))*(n/d)\n",
        "  return A\n"
      ],
      "metadata": {
        "id": "wnsijL6kdua5"
      },
      "execution_count": null,
      "outputs": []
    },
    {
      "cell_type": "code",
      "source": [
        "#a) Aφ(r = 1.1, θ) vs. θ\n",
        "theta=np.linspace(0,np.pi,1000)\n",
        "r=1.1\n",
        "potencial=[]\n",
        "for i in theta:\n",
        "  potencial.append(Apotencial(r, i))\n",
        "\n",
        "plt.figure(figsize=(10, 8))\n",
        "plt.plot(theta, potencial, label='Aφ(r = 1.1, θ)')\n",
        "plt.title('Aφ(r = 1.1, θ) vs. θ')\n",
        "plt.xlabel('θ')\n",
        "plt.ylabel('Aφ')\n",
        "plt.legend()\n",
        "plt.grid()\n",
        "plt.show()"
      ],
      "metadata": {
        "colab": {
          "base_uri": "https://localhost:8080/",
          "height": 753
        },
        "id": "t1DU3KucdwQe",
        "outputId": "19ee1f57-03d1-4489-c5d7-ed8e0e3c21d6"
      },
      "execution_count": null,
      "outputs": [
        {
          "output_type": "stream",
          "name": "stderr",
          "text": [
            "<ipython-input-60-63269b7405a6>:19: RuntimeWarning: invalid value encountered in scalar divide\n",
            "  A=(mu/4*np.pi)*(4*I*a/np.sqrt(a**2+r**2+2*a*r*np.sin(theta)))*(n/d)\n"
          ]
        },
        {
          "output_type": "display_data",
          "data": {
            "text/plain": [
              "<Figure size 1000x800 with 1 Axes>"
            ],
            "image/png": "[encoded data removed]"
          },
          "metadata": {}
        }
      ]
    },
    {
      "cell_type": "code",
      "source": [
        "#b) Aφ(r, θ = π∕3) vs. r\n",
        "\n",
        "r=np.linspace(0.1,5,1000)\n",
        "theta=np.pi/3\n",
        "potencial=[]\n",
        "for i in r:\n",
        "  potencial.append(Apotencial(i, theta))\n",
        "\n",
        "plt.figure(figsize=(10, 8))\n",
        "plt.plot(r, potencial, label='Aφ(r, θ= π/3)')\n",
        "plt.title('Aφ(r, θ= π/3) vs. θ')\n",
        "plt.xlabel('r')\n",
        "plt.ylabel('Aφ')\n",
        "plt.legend()\n",
        "plt.grid()\n",
        "plt.show()"
      ],
      "metadata": {
        "colab": {
          "base_uri": "https://localhost:8080/",
          "height": 718
        },
        "id": "W6fgL5FOk5Iu",
        "outputId": "49a08e62-5da7-4d20-f115-ddddda7db493"
      },
      "execution_count": null,
      "outputs": [
        {
          "output_type": "display_data",
          "data": {
            "text/plain": [
              "<Figure size 1000x800 with 1 Axes>"
            ],
            "image/png": "[encoded data removed]"
          },
          "metadata": {}
        }
      ]
    }
  ],
  "metadata": {
    "colab": {
      "provenance": []
    },
    "kernelspec": {
      "display_name": "Python 3 (ipykernel)",
      "language": "python",
      "name": "python3"
    },
    "language_info": {
      "codemirror_mode": {
        "name": "ipython",
        "version": 3
      },
      "file_extension": ".py",
      "mimetype": "text/x-python",
      "name": "python",
      "nbconvert_exporter": "python",
      "pygments_lexer": "ipython3",
      "version": "3.10.9"
    }
  },
  "nbformat": 4,
  "nbformat_minor": 0
}