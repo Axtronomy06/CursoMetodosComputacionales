{
  "nbformat": 4,
  "nbformat_minor": 0,
  "metadata": {
    "colab": {
      "provenance": []
    },
    "kernelspec": {
      "name": "python3",
      "display_name": "Python 3"
    },
    "language_info": {
      "name": "python"
    }
  },
  "cells": [
    {
      "cell_type": "code",
      "source": [
        "import numpy as np\n",
        "import pandas as pd\n",
        "import sympy as sy\n",
        "import matplotlib.pyplot as plt"
      ],
      "metadata": {
        "id": "LGEtqLJlw2eb"
      },
      "execution_count": 1,
      "outputs": []
    },
    {
      "cell_type": "markdown",
      "source": [
        "# Arreglos de numpy"
      ],
      "metadata": {
        "id": "wtJNu-2mLSsV"
      }
    },
    {
      "cell_type": "code",
      "source": [
        "#Generemos una arreglos ndimensaionales, ¿como podemos acceder a los elementos?\n",
        "X = np.random.randint(0, 55, (6,6))\n",
        "np.shape(X)\n",
        "X"
      ],
      "metadata": {
        "colab": {
          "base_uri": "https://localhost:8080/"
        },
        "id": "97ecIcqMhbru",
        "outputId": "214aafd2-8d50-4ae4-af0a-dbc34335f0a7"
      },
      "execution_count": null,
      "outputs": [
        {
          "output_type": "execute_result",
          "data": {
            "text/plain": [
              "array([[38, 21, 25, 26, 17, 40],\n",
              "       [12, 54, 46, 25, 38, 47],\n",
              "       [31, 32, 11, 30, 46, 16],\n",
              "       [14, 26, 47, 42,  1, 14],\n",
              "       [53, 30,  7,  7, 27, 53],\n",
              "       [53, 24, 11, 24, 11,  0]])"
            ]
          },
          "metadata": {},
          "execution_count": 2
        }
      ]
    },
    {
      "cell_type": "code",
      "source": [
        "plt.imshow(X,cmap='gray')"
      ],
      "metadata": {
        "colab": {
          "base_uri": "https://localhost:8080/",
          "height": 448
        },
        "id": "4TdI8OfQRl9i",
        "outputId": "f7f0cb51-9119-4ae0-aa8d-576d0386a9d2"
      },
      "execution_count": null,
      "outputs": [
        {
          "output_type": "execute_result",
          "data": {
            "text/plain": [
              "<matplotlib.image.AxesImage at 0x7aeae51495a0>"
            ]
          },
          "metadata": {},
          "execution_count": 3
        },
        {
          "output_type": "display_data",
          "data": {
            "text/plain": [
              "<Figure size 640x480 with 1 Axes>"
            ],
            "image/png": "[encoded data removed]"
          },
          "metadata": {}
        }
      ]
    },
    {
      "cell_type": "code",
      "source": [
        "M=np.array([X,X,X])\n",
        "np.shape(M)\n",
        "plt.imshow(M.T)"
      ],
      "metadata": {
        "colab": {
          "base_uri": "https://localhost:8080/",
          "height": 448
        },
        "id": "A3t02SLGTHT9",
        "outputId": "5ceb8f01-ed3a-46a0-8ea1-fff2163c28e3"
      },
      "execution_count": null,
      "outputs": [
        {
          "output_type": "execute_result",
          "data": {
            "text/plain": [
              "<matplotlib.image.AxesImage at 0x7aeae2e7ded0>"
            ]
          },
          "metadata": {},
          "execution_count": 4
        },
        {
          "output_type": "display_data",
          "data": {
            "text/plain": [
              "<Figure size 640x480 with 1 Axes>"
            ],
            "image/png": "[encoded data removed]"
          },
          "metadata": {}
        }
      ]
    },
    {
      "cell_type": "code",
      "source": [
        "X1 = np.random.randint(0, 100, (6,6))\n",
        "X1"
      ],
      "metadata": {
        "colab": {
          "base_uri": "https://localhost:8080/"
        },
        "id": "kn1eBzh5TlB7",
        "outputId": "87c410a0-27aa-44c8-844e-9b59713753e8"
      },
      "execution_count": null,
      "outputs": [
        {
          "output_type": "execute_result",
          "data": {
            "text/plain": [
              "array([[ 3,  1, 38, 23, 36, 15],\n",
              "       [86, 27, 59, 59, 37, 35],\n",
              "       [44, 24, 30, 32, 82, 47],\n",
              "       [59, 16,  2, 85, 60, 31],\n",
              "       [35, 72, 20, 74, 83,  3],\n",
              "       [63, 46,  2, 35, 98, 15]])"
            ]
          },
          "metadata": {},
          "execution_count": 46
        }
      ]
    },
    {
      "cell_type": "code",
      "source": [
        "X1[0:3:2,1::2 ]    #inicio:fin:1,1::Número de espaciamiento entre cada columna"
      ],
      "metadata": {
        "colab": {
          "base_uri": "https://localhost:8080/"
        },
        "id": "PexGb7U7REid",
        "outputId": "264682b6-117e-44b5-a5ff-383023251cea"
      },
      "execution_count": null,
      "outputs": [
        {
          "output_type": "execute_result",
          "data": {
            "text/plain": [
              "array([[ 1, 23, 15],\n",
              "       [24, 32, 47]])"
            ]
          },
          "metadata": {},
          "execution_count": 68
        }
      ]
    },
    {
      "cell_type": "code",
      "source": [
        "M=np.matrix(X1)\n",
        "M"
      ],
      "metadata": {
        "colab": {
          "base_uri": "https://localhost:8080/"
        },
        "id": "sGEjmNVEWQKO",
        "outputId": "80a79236-6dbc-40ea-cd7f-4557f56e500e"
      },
      "execution_count": null,
      "outputs": [
        {
          "output_type": "execute_result",
          "data": {
            "text/plain": [
              "matrix([[ 3,  1, 38, 23, 36, 15],\n",
              "        [86, 27, 59, 59, 37, 35],\n",
              "        [44, 24, 30, 32, 82, 47],\n",
              "        [59, 16,  2, 85, 60, 31],\n",
              "        [35, 72, 20, 74, 83,  3],\n",
              "        [63, 46,  2, 35, 98, 15]])"
            ]
          },
          "metadata": {},
          "execution_count": 70
        }
      ]
    },
    {
      "cell_type": "code",
      "source": [
        "#@ operador matricial"
      ],
      "metadata": {
        "id": "oYfSYtfRT4bD"
      },
      "execution_count": null,
      "outputs": []
    },
    {
      "cell_type": "code",
      "source": [
        "X1[0:3:1,1::2 ]    #inicio:fin:1,1::Número de espaciamiento entre cada columna"
      ],
      "metadata": {
        "id": "2zQPsytVTv15"
      },
      "execution_count": null,
      "outputs": []
    },
    {
      "cell_type": "code",
      "source": [
        "X[0] #FILA CERO"
      ],
      "metadata": {
        "colab": {
          "base_uri": "https://localhost:8080/"
        },
        "id": "UPZ4HVeSiAa_",
        "outputId": "4264e444-431f-4d9a-f427-af3c596d972e"
      },
      "execution_count": null,
      "outputs": [
        {
          "output_type": "execute_result",
          "data": {
            "text/plain": [
              "array([34, 12, 48, 41, 16, 50])"
            ]
          },
          "metadata": {},
          "execution_count": 3
        }
      ]
    },
    {
      "cell_type": "code",
      "source": [
        "X[0][1:4]"
      ],
      "metadata": {
        "colab": {
          "base_uri": "https://localhost:8080/"
        },
        "id": "FfnQsOUDibOE",
        "outputId": "8d33aef6-be47-4a7f-f555-36aabcc236ec"
      },
      "execution_count": null,
      "outputs": [
        {
          "output_type": "execute_result",
          "data": {
            "text/plain": [
              "array([12, 48, 41])"
            ]
          },
          "metadata": {},
          "execution_count": 4
        }
      ]
    },
    {
      "cell_type": "code",
      "source": [
        "X[0, 1:4:2]"
      ],
      "metadata": {
        "colab": {
          "base_uri": "https://localhost:8080/"
        },
        "id": "vkNXHb5rizs5",
        "outputId": "583b6dec-5edd-488d-9c18-dcf3955a5fed"
      },
      "execution_count": null,
      "outputs": [
        {
          "output_type": "execute_result",
          "data": {
            "text/plain": [
              "array([12, 41])"
            ]
          },
          "metadata": {},
          "execution_count": 5
        }
      ]
    },
    {
      "cell_type": "code",
      "source": [
        "X[2::2,::2 ]"
      ],
      "metadata": {
        "colab": {
          "base_uri": "https://localhost:8080/"
        },
        "id": "KMe75hMwletS",
        "outputId": "08c1082b-8131-4661-9739-dc85ac897c90"
      },
      "execution_count": null,
      "outputs": [
        {
          "output_type": "execute_result",
          "data": {
            "text/plain": [
              "array([[ 5, 41, 45],\n",
              "       [41, 28, 38]])"
            ]
          },
          "metadata": {},
          "execution_count": 6
        }
      ]
    },
    {
      "cell_type": "code",
      "source": [
        "# Permutaciones:"
      ],
      "metadata": {
        "id": "hC_QTDyyM0T3"
      },
      "execution_count": null,
      "outputs": []
    },
    {
      "cell_type": "code",
      "source": [
        "X"
      ],
      "metadata": {
        "colab": {
          "base_uri": "https://localhost:8080/"
        },
        "id": "JYhVm8_TM2Tf",
        "outputId": "6567810f-8346-4fc2-8d2b-e28b96f0953b"
      },
      "execution_count": null,
      "outputs": [
        {
          "output_type": "execute_result",
          "data": {
            "text/plain": [
              "array([[ 3,  2, 24, 25, 37, 30],\n",
              "       [30, 30, 41, 34, 33, 30],\n",
              "       [31, 11, 51,  7, 44, 27],\n",
              "       [45, 33, 47, 42, 39, 16],\n",
              "       [10, 22, 20, 48, 28,  3],\n",
              "       [12, 13, 13, 14, 41, 14]])"
            ]
          },
          "metadata": {},
          "execution_count": 64
        }
      ]
    },
    {
      "cell_type": "code",
      "source": [
        "X[[2,1]] =X[[1,2]]\n",
        "X"
      ],
      "metadata": {
        "id": "m-oTG0W7M4Ku",
        "colab": {
          "base_uri": "https://localhost:8080/"
        },
        "outputId": "e2f7e184-efff-4151-c051-ee5d5c287610"
      },
      "execution_count": null,
      "outputs": [
        {
          "output_type": "execute_result",
          "data": {
            "text/plain": [
              "array([[34, 12, 48, 41, 16, 50],\n",
              "       [ 5,  6, 41, 37, 45, 12],\n",
              "       [ 4, 54, 39, 41, 44, 22],\n",
              "       [12,  7, 43, 37, 42,  9],\n",
              "       [41, 46, 28,  5, 38, 30],\n",
              "       [22, 18, 26, 44, 36, 22]])"
            ]
          },
          "metadata": {},
          "execution_count": 9
        }
      ]
    },
    {
      "cell_type": "code",
      "source": [
        "X"
      ],
      "metadata": {
        "colab": {
          "base_uri": "https://localhost:8080/"
        },
        "id": "cc_qEzAeNdmX",
        "outputId": "cc85d54b-e99d-418e-bd4b-bc3c6fe2fa8f"
      },
      "execution_count": null,
      "outputs": [
        {
          "output_type": "execute_result",
          "data": {
            "text/plain": [
              "array([[ 3,  2, 24, 25, 37, 30],\n",
              "       [31, 11, 51,  7, 44, 27],\n",
              "       [30, 30, 41, 34, 33, 30],\n",
              "       [45, 33, 47, 42, 39, 16],\n",
              "       [10, 22, 20, 48, 28,  3],\n",
              "       [12, 13, 13, 14, 41, 14]])"
            ]
          },
          "metadata": {},
          "execution_count": 66
        }
      ]
    },
    {
      "cell_type": "code",
      "source": [
        "# Operaciones matriciales"
      ],
      "metadata": {
        "id": "tpPPxUiULgge"
      },
      "execution_count": null,
      "outputs": []
    },
    {
      "cell_type": "code",
      "source": [
        "X=np.array([[1,2],[3,4]])\n",
        "B=np.array([[5,2],[1,4]])\n",
        "np.linalg.inv(X)"
      ],
      "metadata": {
        "colab": {
          "base_uri": "https://localhost:8080/"
        },
        "id": "U8snX3DpLXtp",
        "outputId": "6391f78d-5dca-425f-f8da-2cca6e106e0d"
      },
      "execution_count": null,
      "outputs": [
        {
          "output_type": "execute_result",
          "data": {
            "text/plain": [
              "array([[-2. ,  1. ],\n",
              "       [ 1.5, -0.5]])"
            ]
          },
          "metadata": {},
          "execution_count": 68
        }
      ]
    },
    {
      "cell_type": "code",
      "source": [
        "np.linalg.det(X)"
      ],
      "metadata": {
        "colab": {
          "base_uri": "https://localhost:8080/"
        },
        "id": "XwCim3VlLfKU",
        "outputId": "8c1604b6-4e32-4817-9699-87ade07efc00"
      },
      "execution_count": null,
      "outputs": [
        {
          "output_type": "execute_result",
          "data": {
            "text/plain": [
              "-2.0000000000000004"
            ]
          },
          "metadata": {},
          "execution_count": 69
        }
      ]
    },
    {
      "cell_type": "code",
      "source": [
        "np.dot([2j, 3j], [2j, 3j])"
      ],
      "metadata": {
        "colab": {
          "base_uri": "https://localhost:8080/"
        },
        "id": "JyXfDy4TL46a",
        "outputId": "8a4849b7-e0ae-49eb-d171-12ce6f0076b4"
      },
      "execution_count": null,
      "outputs": [
        {
          "output_type": "execute_result",
          "data": {
            "text/plain": [
              "(-13+0j)"
            ]
          },
          "metadata": {},
          "execution_count": 70
        }
      ]
    },
    {
      "cell_type": "code",
      "source": [
        "X*B"
      ],
      "metadata": {
        "colab": {
          "base_uri": "https://localhost:8080/"
        },
        "id": "WPC3XJLjMTvU",
        "outputId": "c26f1f88-c0e6-4642-f689-2e924570b418"
      },
      "execution_count": null,
      "outputs": [
        {
          "output_type": "execute_result",
          "data": {
            "text/plain": [
              "array([[ 5,  4],\n",
              "       [ 3, 16]])"
            ]
          },
          "metadata": {},
          "execution_count": 71
        }
      ]
    },
    {
      "cell_type": "code",
      "source": [
        "X@B"
      ],
      "metadata": {
        "colab": {
          "base_uri": "https://localhost:8080/"
        },
        "id": "SXr0_TeBMf2m",
        "outputId": "d45745c6-29ab-4fcd-960a-7103c76ae764"
      },
      "execution_count": null,
      "outputs": [
        {
          "output_type": "execute_result",
          "data": {
            "text/plain": [
              "array([[ 7, 10],\n",
              "       [19, 22]])"
            ]
          },
          "metadata": {},
          "execution_count": 72
        }
      ]
    },
    {
      "cell_type": "code",
      "source": [
        "np.matmul(X,B)"
      ],
      "metadata": {
        "colab": {
          "base_uri": "https://localhost:8080/"
        },
        "id": "Ht4V1OxIMg40",
        "outputId": "959516fe-c3d7-4f46-e478-b5d406ecfdc6"
      },
      "execution_count": null,
      "outputs": [
        {
          "output_type": "execute_result",
          "data": {
            "text/plain": [
              "array([[ 7, 10],\n",
              "       [19, 22]])"
            ]
          },
          "metadata": {},
          "execution_count": 73
        }
      ]
    },
    {
      "cell_type": "markdown",
      "source": [
        "# Algunos ejemplo\n",
        "\n",
        "```python\n",
        "import numpy as np\n",
        "\n",
        "# Producto de matrices\n",
        "A = np.array([[1, 2], [3, 4]])\n",
        "B = np.array([[5, 6], [7, 8]])\n",
        "producto = np.dot(A, B)\n",
        "\n",
        "# Determinante de una matriz\n",
        "C = np.array([[9, 2], [3, 4]])\n",
        "determinante = np.linalg.det(C)\n",
        "\n",
        "# Inversa de una matriz\n",
        "D = np.array([[2, 5], [1, 3]])\n",
        "inversa = np.linalg.inv(D)\n",
        "\n",
        "# Autovalores y autovectores\n",
        "E = np.array([[2, 0], [0, 3]])\n",
        "autovalores, autovectores = np.linalg.eig(E)\n",
        "\n",
        "# Resolución de sistemas de ecuaciones lineales\n",
        "F = np.array([[1, 1], [1, -1]])\n",
        "b = np.array([5, 1])\n",
        "solucion = np.linalg.solve(F, b)\n",
        "\n",
        "\n",
        "# Norma de un vector o matriz\n",
        "H = np.array([1, 2, 3])\n",
        "norma = np.linalg.norm(H)\n",
        "\n",
        "# Rango de una matriz\n",
        "I = np.array([[1, 2], [2, 4]])\n",
        "rango = np.linalg.matrix_rank(I)\n",
        "\n",
        "# Potencia de una matriz\n",
        "J = np.array([[1, 2], [3, 4]])\n",
        "potencia = np.linalg.matrix_power(J, 3)\n",
        "\n",
        "# Descomposición SVD\n",
        "G = np.array([[1, 2], [3, 4]])\n",
        "U, S, V = np.linalg.svd(G)\n",
        "\n",
        "\n",
        "```\n"
      ],
      "metadata": {
        "id": "wOgkVu4yL-mp"
      }
    },
    {
      "cell_type": "markdown",
      "source": [
        "# Matrices de numpy"
      ],
      "metadata": {
        "id": "iV1bdIUxLOwM"
      }
    },
    {
      "cell_type": "code",
      "source": [
        "M = np.matrix(X)\n",
        "type(M)"
      ],
      "metadata": {
        "colab": {
          "base_uri": "https://localhost:8080/"
        },
        "id": "ZoTW7RE1mDjk",
        "outputId": "14a05fb9-1984-4c11-b147-b7bcd121b13c"
      },
      "execution_count": null,
      "outputs": [
        {
          "output_type": "execute_result",
          "data": {
            "text/plain": [
              "numpy.matrix"
            ]
          },
          "metadata": {},
          "execution_count": 74
        }
      ]
    },
    {
      "cell_type": "code",
      "source": [
        "M@M"
      ],
      "metadata": {
        "colab": {
          "base_uri": "https://localhost:8080/"
        },
        "id": "smYYFQDnmSHx",
        "outputId": "13769bec-363a-48b7-82a3-bf103683b389"
      },
      "execution_count": null,
      "outputs": [
        {
          "output_type": "execute_result",
          "data": {
            "text/plain": [
              "matrix([[ 7, 10],\n",
              "        [15, 22]])"
            ]
          },
          "metadata": {},
          "execution_count": 75
        }
      ]
    },
    {
      "cell_type": "code",
      "source": [
        "M.T"
      ],
      "metadata": {
        "colab": {
          "base_uri": "https://localhost:8080/"
        },
        "id": "v0j1xF0Xnu3A",
        "outputId": "85564342-6758-47fd-af50-673c46f73374"
      },
      "execution_count": null,
      "outputs": [
        {
          "output_type": "execute_result",
          "data": {
            "text/plain": [
              "matrix([[1, 3],\n",
              "        [2, 4]])"
            ]
          },
          "metadata": {},
          "execution_count": 76
        }
      ]
    },
    {
      "cell_type": "code",
      "source": [
        "type(X)"
      ],
      "metadata": {
        "colab": {
          "base_uri": "https://localhost:8080/"
        },
        "id": "jsRxH4R9mJFs",
        "outputId": "27d1d956-b4c8-496b-901c-d3042981e811"
      },
      "execution_count": null,
      "outputs": [
        {
          "output_type": "execute_result",
          "data": {
            "text/plain": [
              "numpy.ndarray"
            ]
          },
          "metadata": {},
          "execution_count": 77
        }
      ]
    },
    {
      "cell_type": "code",
      "source": [
        "np.transpose(X)"
      ],
      "metadata": {
        "colab": {
          "base_uri": "https://localhost:8080/"
        },
        "id": "I6yi4tSzmXkx",
        "outputId": "9a305dad-b071-4fff-da5a-80ff7b9e49cc"
      },
      "execution_count": null,
      "outputs": [
        {
          "output_type": "execute_result",
          "data": {
            "text/plain": [
              "array([[1, 3],\n",
              "       [2, 4]])"
            ]
          },
          "metadata": {},
          "execution_count": 78
        }
      ]
    },
    {
      "cell_type": "code",
      "source": [
        "x = symbols(\"x\")"
      ],
      "metadata": {
        "id": "XQviMu9KmhP5",
        "colab": {
          "base_uri": "https://localhost:8080/",
          "height": 137
        },
        "outputId": "99d0c853-952d-4f0f-9c40-f032b5e55b68"
      },
      "execution_count": null,
      "outputs": [
        {
          "output_type": "error",
          "ename": "NameError",
          "evalue": "name 'symbols' is not defined",
          "traceback": [
            "\u001b[0;31m---------------------------------------------------------------------------\u001b[0m",
            "\u001b[0;31mNameError\u001b[0m                                 Traceback (most recent call last)",
            "\u001b[0;32m<ipython-input-79-0d3ce2562d18>\u001b[0m in \u001b[0;36m<cell line: 1>\u001b[0;34m()\u001b[0m\n\u001b[0;32m----> 1\u001b[0;31m \u001b[0mx\u001b[0m \u001b[0;34m=\u001b[0m \u001b[0msymbols\u001b[0m\u001b[0;34m(\u001b[0m\u001b[0;34m\"x\"\u001b[0m\u001b[0;34m)\u001b[0m\u001b[0;34m\u001b[0m\u001b[0;34m\u001b[0m\u001b[0m\n\u001b[0m",
            "\u001b[0;31mNameError\u001b[0m: name 'symbols' is not defined"
          ]
        }
      ]
    },
    {
      "cell_type": "code",
      "source": [
        "Y = np.array([[x**2,sy.sin(x)],[x,x]])\n",
        "q = Matrix(Y)\n",
        "q"
      ],
      "metadata": {
        "colab": {
          "base_uri": "https://localhost:8080/",
          "height": 170
        },
        "id": "6NQ5_urmm8P5",
        "outputId": "1ba948fd-45f4-4923-bef5-d3631bb289d3"
      },
      "execution_count": null,
      "outputs": [
        {
          "output_type": "error",
          "ename": "NameError",
          "evalue": "name 'x' is not defined",
          "traceback": [
            "\u001b[0;31m---------------------------------------------------------------------------\u001b[0m",
            "\u001b[0;31mNameError\u001b[0m                                 Traceback (most recent call last)",
            "\u001b[0;32m<ipython-input-80-20772fa0cd2b>\u001b[0m in \u001b[0;36m<cell line: 1>\u001b[0;34m()\u001b[0m\n\u001b[0;32m----> 1\u001b[0;31m \u001b[0mY\u001b[0m \u001b[0;34m=\u001b[0m \u001b[0mnp\u001b[0m\u001b[0;34m.\u001b[0m\u001b[0marray\u001b[0m\u001b[0;34m(\u001b[0m\u001b[0;34m[\u001b[0m\u001b[0;34m[\u001b[0m\u001b[0mx\u001b[0m\u001b[0;34m**\u001b[0m\u001b[0;36m2\u001b[0m\u001b[0;34m,\u001b[0m\u001b[0msy\u001b[0m\u001b[0;34m.\u001b[0m\u001b[0msin\u001b[0m\u001b[0;34m(\u001b[0m\u001b[0mx\u001b[0m\u001b[0;34m)\u001b[0m\u001b[0;34m]\u001b[0m\u001b[0;34m,\u001b[0m\u001b[0;34m[\u001b[0m\u001b[0mx\u001b[0m\u001b[0;34m,\u001b[0m\u001b[0mx\u001b[0m\u001b[0;34m]\u001b[0m\u001b[0;34m]\u001b[0m\u001b[0;34m)\u001b[0m\u001b[0;34m\u001b[0m\u001b[0;34m\u001b[0m\u001b[0m\n\u001b[0m\u001b[1;32m      2\u001b[0m \u001b[0mq\u001b[0m \u001b[0;34m=\u001b[0m \u001b[0mMatrix\u001b[0m\u001b[0;34m(\u001b[0m\u001b[0mY\u001b[0m\u001b[0;34m)\u001b[0m\u001b[0;34m\u001b[0m\u001b[0;34m\u001b[0m\u001b[0m\n\u001b[1;32m      3\u001b[0m \u001b[0mq\u001b[0m\u001b[0;34m\u001b[0m\u001b[0;34m\u001b[0m\u001b[0m\n",
            "\u001b[0;31mNameError\u001b[0m: name 'x' is not defined"
          ]
        }
      ]
    },
    {
      "cell_type": "code",
      "source": [
        "q@q"
      ],
      "metadata": {
        "colab": {
          "base_uri": "https://localhost:8080/",
          "height": 58
        },
        "id": "1H5elz7jnEKY",
        "outputId": "ad15f636-4042-4522-87bb-e094fd3146db"
      },
      "execution_count": null,
      "outputs": [
        {
          "output_type": "execute_result",
          "data": {
            "text/plain": [
              "Matrix([\n",
              "[x**4 + x*sin(x), x**2*sin(x) + x*sin(x)],\n",
              "[    x**3 + x**2,        x**2 + x*sin(x)]])"
            ],
            "text/latex": "$\\displaystyle \\left[\\begin{matrix}x^{4} + x \\sin{\\left(x \\right)} & x^{2} \\sin{\\left(x \\right)} + x \\sin{\\left(x \\right)}\\\\x^{3} + x^{2} & x^{2} + x \\sin{\\left(x \\right)}\\end{matrix}\\right]$"
          },
          "metadata": {},
          "execution_count": 39
        }
      ]
    },
    {
      "cell_type": "code",
      "source": [],
      "metadata": {
        "id": "owwyiJ0yN3oN"
      },
      "execution_count": null,
      "outputs": []
    },
    {
      "cell_type": "markdown",
      "source": [
        "# Actividad:\n",
        "\n",
        "1. Construir un programa que permita multiplicar dos matrices\n",
        "\n",
        "\n",
        "\n",
        "\n",
        "\n"
      ],
      "metadata": {
        "id": "k9jPDzNSjgnZ"
      }
    },
    {
      "cell_type": "code",
      "source": [
        "A = np.random.randint(0, 10, (3,3))  #generamos una matriz aleatoria\n",
        "print(A)\n",
        "len(A)  #Número de filas de la matriz A\n",
        "print(len(A[0])) #Número de columnas\n",
        "np.shape(A)[0] #Número de flas de la matriz A\n",
        "np.shape(A)[1]  #Numero de columnas de A"
      ],
      "metadata": {
        "colab": {
          "base_uri": "https://localhost:8080/"
        },
        "id": "MBn_eM5_X2fF",
        "outputId": "da3a152a-f682-40c5-edcc-673f47d847cd"
      },
      "execution_count": null,
      "outputs": [
        {
          "output_type": "stream",
          "name": "stdout",
          "text": [
            "[[0 2 3]\n",
            " [3 5 0]\n",
            " [3 9 6]]\n",
            "3\n"
          ]
        },
        {
          "output_type": "execute_result",
          "data": {
            "text/plain": [
              "3"
            ]
          },
          "metadata": {},
          "execution_count": 5
        }
      ]
    },
    {
      "cell_type": "code",
      "source": [
        "B= np.random.randint(0,10,(3,3))\n",
        "print(B)\n",
        "len(B) #número de filas de la matriz B\n",
        "np.shape(B)[0] #Número de flas de la matriz B\n",
        "np.shape(B)[1]  #Numero de columnas de B"
      ],
      "metadata": {
        "colab": {
          "base_uri": "https://localhost:8080/"
        },
        "id": "vROWuYpoX2mc",
        "outputId": "2b8be5f2-adb1-4a22-b2af-a7ec960c3363"
      },
      "execution_count": null,
      "outputs": [
        {
          "output_type": "stream",
          "name": "stdout",
          "text": [
            "[[9 0 9]\n",
            " [2 5 7]\n",
            " [8 7 7]]\n"
          ]
        },
        {
          "output_type": "execute_result",
          "data": {
            "text/plain": [
              "3"
            ]
          },
          "metadata": {},
          "execution_count": 6
        }
      ]
    },
    {
      "cell_type": "code",
      "source": [
        "def mult_matrices(A,B):  #donde A y B son matrices\n",
        "  if np.shape(A)[1] != np.shape(B)[0]: #El número de columnas de A debe coincidir con el número de filas de B\n",
        "    return print('Las matrices no se pueden multiplicar,las columans de A deben coincidir con el número de filas de B ')\n",
        "  else:\n",
        "    M=[]\n",
        "    for i in range(len(A)):\n",
        "      filas=[]\n",
        "      for j in range (len(B[0])):\n",
        "        suma=0\n",
        "        for k in range(len(B)):\n",
        "          suma+=A[i][k]*B[k][j]\n",
        "        filas.append(suma)\n",
        "      M.append(filas)\n",
        "    print(M)"
      ],
      "metadata": {
        "id": "6u0mcg2aeOp5"
      },
      "execution_count": null,
      "outputs": []
    },
    {
      "cell_type": "code",
      "source": [
        "mult_matrices(A,B)"
      ],
      "metadata": {
        "colab": {
          "base_uri": "https://localhost:8080/"
        },
        "id": "8H1_BRSCe2Zs",
        "outputId": "2b0e869f-37e2-4c30-dc48-651adc21f6f6"
      },
      "execution_count": null,
      "outputs": [
        {
          "output_type": "stream",
          "name": "stdout",
          "text": [
            "[[28, 31, 35], [37, 25, 62], [93, 87, 132]]\n"
          ]
        }
      ]
    },
    {
      "cell_type": "code",
      "source": [
        "#Supongamos ahora que tenemos dos matrices cuyas dimensiones de filas y columnas no coinciden\n",
        "\n",
        "A=np.random.randint(0, 10, (3,2))\n",
        "B=np.random.randint(0, 10, (4,5))\n",
        "mult_matrices(A,B)"
      ],
      "metadata": {
        "colab": {
          "base_uri": "https://localhost:8080/"
        },
        "id": "0GVwQzmfgFci",
        "outputId": "3d6eaa3e-1de6-4143-d809-aaa0c856a6ac"
      },
      "execution_count": null,
      "outputs": [
        {
          "output_type": "stream",
          "name": "stdout",
          "text": [
            "Las matrices no se pueden multiplicar,las columans de A deben coincidir con el número de filas de B \n"
          ]
        }
      ]
    },
    {
      "cell_type": "markdown",
      "source": [
        "2. Cosntruir un programa que permita construir una regresion lineal simple empleando lo que sigue:\n",
        "\n",
        "3. Construir un programa que permita calcular una regresion bidimensional y hacer su representación .\n",
        "\n",
        "\n",
        "Operaciones matricial con regresión lineal.\n",
        "\n",
        "Cuando se desea hacer una regresion lineal multivariada, existen diferentes formas de realizar la regresión, una de ellas es encontrar el error cuadrático medio y miniminzar el conjunto de parámetros de la regresión emplando algún metodo de minimización, otra forma es encontrar la expresión analítica en forma matricial para enoncontrar el conjunto de parametros de la regresión. En este último caso, la regresion lineal viene dada por la siguiente expresion generalizada:\n",
        "\n",
        "\n",
        "- $\\Theta = (X^T X)^{-1} X^T y$\n",
        "\n",
        "donte $\\Theta$ es la matriz de parametros asociados a la regresión lineal, X la matriz de características y y los valos esperados, así, si tenemos una conjunto de datos en N dimensiones la recta, plano o hyperplano puede ser calculado como:\n",
        "\n",
        "$Y=\\Theta^T X$\n",
        "\n",
        "\n",
        "En el caso de dos dimensiones, tenemos lo siguiente, Supongamos que X, y Y presentan un comportamiento lineal, y vienen dados por:\n",
        "\n",
        "\n",
        "- Sea $\\vec{X}=x^1, x^2, x^3, x^4, ..., x^m$\n",
        "- Sea $\\vec{Y}=y^1, y^2, y^3, y^4, ..., y^m$\n",
        "\n",
        "Para determinar la ecuacion de la recta, hay que conocer los párametros $\\theta_0 $, $\\theta_1$, que cumplen que :   $y^{i} = \\theta_1 x^{i} + \\theta_0$ la anterior expresion puede ser escrita como:\n",
        "\n",
        "\\begin{equation}\n",
        "\\begin{bmatrix}\n",
        "y^{1}\\\\\n",
        "y^{2}\\\\\n",
        "\\vdots\\\\\n",
        "y^{m}\\\\\n",
        "\\end{bmatrix}=\n",
        "\\begin{bmatrix}\n",
        "\\theta_0 & \\theta_1 \\\\\n",
        "\\end{bmatrix}\n",
        "\\begin{bmatrix}\n",
        "1 & 1 & \\cdots & 1 \\\\\n",
        "x_1^{1} & x_1^{2} & \\cdots & x_1^{m} \\\\\n",
        "\\end{bmatrix}\n",
        "\\end{equation}\n",
        "\n",
        "\n",
        "Para determinar la matriz de theta entonces se puede aplicar la ecuación:\n",
        "\n",
        "- $\\Theta = (X^T X)^{-1} X^T y$\n",
        "\n",
        "donde:\n",
        "\\begin{equation}\n",
        "X=\n",
        "\\begin{bmatrix}\n",
        "1 & x_1^{1} \\\\\n",
        "1 & x_1^{2} \\\\\n",
        "\\vdots & \\vdots \\\\\n",
        "1 & x_1^{m}\n",
        "\\end{bmatrix}\n",
        "\\end{equation}\n",
        "\n",
        "y\n",
        "\n",
        "\n",
        "\\begin{equation}\n",
        "y=\n",
        "\\begin{bmatrix}\n",
        "y^1 \\\\\n",
        "y^2 \\\\\n",
        "\\vdots\\\\\n",
        "y^m\n",
        "\\end{bmatrix}\n",
        "\\end{equation}\n",
        "\n",
        "Su tarea será construir un programa que realice la regresión lineal para los siguientes puntos:\n",
        "```python\n",
        "N = 10\n",
        "x1 = np.linspace(0, 10, N)\n",
        "noise=2*np.random.random(N)-1\n",
        "y = 0.9*x1 + noise\n",
        "```\n",
        "\n",
        "\n",
        "\n",
        "Generalice para el siguiente problema bidimensional:\n",
        "\n",
        "\n",
        "```python\n",
        "N = 10\n",
        "x1 = np.linspace(-1, 1, N)\n",
        "x2 = np.linspace(-2, 2, N)\n",
        "noise1=2*np.random.random(N)-1\n",
        "noise2=2*np.random.random(N)-1\n",
        "y = 2*(x1+noise1) - 3*(x2+noise2) + 0.0 #+ 4*np.random.random(100)\n",
        "\n",
        "N = 10\n",
        "X1, X2 = np.meshgrid(x1,x2)\n",
        "Y = 2*X1 - 3*X2 + 0.0\n",
        "fig, ax = plt.subplots(subplot_kw={\"projection\": \"3d\"})\n",
        "surf = ax.plot_surface(X1, X2, Y)\n",
        "#scatter = ax.scatter(x1, x2, y,\"-\")\n",
        "```\n",
        "\n"
      ],
      "metadata": {
        "id": "ctPmwCovhJ2X"
      }
    },
    {
      "cell_type": "code",
      "source": [
        "#2).\n",
        "\n",
        "N = 10\n",
        "x1 = np.linspace(0, 10, N)\n",
        "noise=2*np.random.random(N)-1\n",
        "y = 0.9*x1 + noise"
      ],
      "metadata": {
        "id": "hCTuow4q3BLk"
      },
      "execution_count": null,
      "outputs": []
    },
    {
      "cell_type": "code",
      "source": [
        "X=np.zeros((len(x1),2))\n",
        "X[:,0]=1  #Todos los elemtos en la poscion cero con 1\n",
        "X[:,1]=x1 #todos los elemento en posicion 2 llenarlo con las x\n",
        "X=np.matrix(X)\n",
        "sy.Matrix(X)"
      ],
      "metadata": {
        "colab": {
          "base_uri": "https://localhost:8080/",
          "height": 220
        },
        "id": "OCMzo10L3Dqt",
        "outputId": "7be7bdc6-c092-4d33-9e71-57274e9b24f5"
      },
      "execution_count": null,
      "outputs": [
        {
          "output_type": "execute_result",
          "data": {
            "text/plain": [
              "Matrix([\n",
              "[1.0,                0],\n",
              "[1.0, 1.11111111111111],\n",
              "[1.0, 2.22222222222222],\n",
              "[1.0, 3.33333333333333],\n",
              "[1.0, 4.44444444444444],\n",
              "[1.0, 5.55555555555556],\n",
              "[1.0, 6.66666666666667],\n",
              "[1.0, 7.77777777777778],\n",
              "[1.0, 8.88888888888889],\n",
              "[1.0,             10.0]])"
            ],
            "text/latex": "$\\displaystyle \\left[\\begin{matrix}1.0 & 0\\\\1.0 & 1.11111111111111\\\\1.0 & 2.22222222222222\\\\1.0 & 3.33333333333333\\\\1.0 & 4.44444444444444\\\\1.0 & 5.55555555555556\\\\1.0 & 6.66666666666667\\\\1.0 & 7.77777777777778\\\\1.0 & 8.88888888888889\\\\1.0 & 10.0\\end{matrix}\\right]$"
          },
          "metadata": {},
          "execution_count": 11
        }
      ]
    },
    {
      "cell_type": "code",
      "source": [
        "#Matriz Y\n",
        "sy.Matrix(y)"
      ],
      "metadata": {
        "colab": {
          "base_uri": "https://localhost:8080/",
          "height": 220
        },
        "id": "1gKJJU7D3DuT",
        "outputId": "ff406591-5801-4b04-c3b3-e4cc106617b9"
      },
      "execution_count": null,
      "outputs": [
        {
          "output_type": "execute_result",
          "data": {
            "text/plain": [
              "Matrix([\n",
              "[-0.10072543628553],\n",
              "[ 1.59017110212326],\n",
              "[ 2.57686754625251],\n",
              "[ 2.87752473896141],\n",
              "[ 4.86838651096303],\n",
              "[ 4.43024083062307],\n",
              "[ 5.34446366096001],\n",
              "[ 6.88822717417763],\n",
              "[ 7.62030877739775],\n",
              "[ 9.13597465727563]])"
            ],
            "text/latex": "$\\displaystyle \\left[\\begin{matrix}-0.10072543628553\\\\1.59017110212326\\\\2.57686754625251\\\\2.87752473896141\\\\4.86838651096303\\\\4.43024083062307\\\\5.34446366096001\\\\6.88822717417763\\\\7.62030877739775\\\\9.13597465727563\\end{matrix}\\right]$"
          },
          "metadata": {},
          "execution_count": 12
        }
      ]
    },
    {
      "cell_type": "code",
      "source": [
        "(X.T@X).I"
      ],
      "metadata": {
        "colab": {
          "base_uri": "https://localhost:8080/"
        },
        "id": "fr8gbGMw3Iq8",
        "outputId": "adf5f700-793b-4755-cb1e-0866f0820f00"
      },
      "execution_count": null,
      "outputs": [
        {
          "output_type": "execute_result",
          "data": {
            "text/plain": [
              "matrix([[ 0.34545455, -0.04909091],\n",
              "        [-0.04909091,  0.00981818]])"
            ]
          },
          "metadata": {},
          "execution_count": 13
        }
      ]
    },
    {
      "cell_type": "code",
      "source": [
        "#otra forma:\n",
        "theta=np.linalg.inv(X.T@X)@X.T@y\n",
        "sy.Matrix(theta)"
      ],
      "metadata": {
        "colab": {
          "base_uri": "https://localhost:8080/",
          "height": 38
        },
        "id": "TI0otnWY3KSB",
        "outputId": "474d970e-e71f-4319-e60e-ebae31291939"
      },
      "execution_count": null,
      "outputs": [
        {
          "output_type": "execute_result",
          "data": {
            "text/plain": [
              "Matrix([[0.326942125492513, 0.839240366150473]])"
            ],
            "text/latex": "$\\displaystyle \\left[\\begin{matrix}0.326942125492513 & 0.839240366150473\\end{matrix}\\right]$"
          },
          "metadata": {},
          "execution_count": 14
        }
      ]
    },
    {
      "cell_type": "code",
      "source": [
        "Y=theta@X.T\n",
        "sy.Matrix(Y)"
      ],
      "metadata": {
        "colab": {
          "base_uri": "https://localhost:8080/",
          "height": 58
        },
        "id": "NBrVDlJV3Kaj",
        "outputId": "ce10e1e2-8e18-49c2-8f8f-6671bc837ef4"
      },
      "execution_count": null,
      "outputs": [
        {
          "output_type": "execute_result",
          "data": {
            "text/plain": [
              "Matrix([[0.326942125492513, 1.25943142121526, 2.19192071693801, 3.12441001266076, 4.0568993083835, 4.98938860410625, 5.921877899829, 6.85436719555175, 7.7868564912745, 8.71934578699725]])"
            ],
            "text/latex": "$\\displaystyle \\left[\\begin{matrix}0.326942125492513 & 1.25943142121526 & 2.19192071693801 & 3.12441001266076 & 4.0568993083835 & 4.98938860410625 & 5.921877899829 & 6.85436719555175 & 7.7868564912745 & 8.71934578699725\\end{matrix}\\right]$"
          },
          "metadata": {},
          "execution_count": 15
        }
      ]
    },
    {
      "cell_type": "code",
      "source": [
        "plt.plot(x1,y,'r*', label='Datos')\n",
        "plt.plot(x1,Y.T,'k--', label='Regresión lineal')\n",
        "plt.grid()\n",
        "plt.legend()\n",
        "plt.show()"
      ],
      "metadata": {
        "colab": {
          "base_uri": "https://localhost:8080/",
          "height": 430
        },
        "id": "Cag8-zFt3Khj",
        "outputId": "761d09ee-95fe-4d6f-f225-353e18f3a496"
      },
      "execution_count": null,
      "outputs": [
        {
          "output_type": "display_data",
          "data": {
            "text/plain": [
              "<Figure size 640x480 with 1 Axes>"
            ],
            "image/png": "[encoded data removed]"
          },
          "metadata": {}
        }
      ]
    },
    {
      "cell_type": "code",
      "source": [
        "#3). Generalización para el problema bidimensional\n",
        "\n",
        "#Para un campo multivariado\n",
        "N = 20\n",
        "x1 = np.linspace(-1, 1, N)\n",
        "x2 = np.linspace(-2, 2, N)\n",
        "noise1=2*np.random.random(N)-1\n",
        "noise2=2*np.random.random(N)-1\n",
        "y = 2*(x1+noise1) - 3*(x2+noise2) + 0.0 #+ 4*np.random.random(100)"
      ],
      "metadata": {
        "id": "EEplVi_C3Knx"
      },
      "execution_count": null,
      "outputs": []
    },
    {
      "cell_type": "code",
      "source": [
        "X=np.zeros((len(x1),3))\n",
        "X[:,0]=1  #Todos los elemtos en la poscion cero con 1\n",
        "X[:,1]=x1 #todos los elemento en posicion 2 llenarlo con las x\n",
        "X[:,2]=x2 #todos los elemento en posicion 2 llenarlo con las x\n",
        "X=np.matrix(X)\n",
        "sy.Matrix(X) #Matriz X\n",
        "sy.Matrix(y) #Matriz y\n",
        "theta=np.linalg.inv(X.T@X)@X.T@y\n",
        "sy.Matrix(theta)\n",
        "Y=theta@X.T\n",
        "sy.Matrix(Y)\n",
        "\n",
        "X1, X2 = np.meshgrid(x1,x2)\n",
        "\n",
        "fig, ax = plt.subplots(subplot_kw={\"projection\": \"3d\"})\n",
        "surf = ax.plot_surface(X1, X2, Y.T, label='Regresión lineal')\n",
        "scatter = ax.scatter(x1, x2, y,\"-\", label='Datos')"
      ],
      "metadata": {
        "colab": {
          "base_uri": "https://localhost:8080/",
          "height": 415
        },
        "id": "opT_78n43b1v",
        "outputId": "bb1a8e47-e5da-4fad-9cca-d27c6f433f62"
      },
      "execution_count": null,
      "outputs": [
        {
          "output_type": "display_data",
          "data": {
            "text/plain": [
              "<Figure size 640x480 with 1 Axes>"
            ],
            "image/png": "[encoded data removed]"
          },
          "metadata": {}
        }
      ]
    },
    {
      "cell_type": "markdown",
      "source": [
        "4. Construir un programa que permita realizar eliminacion de Gauss- Jordan de una matriz\n",
        "\n",
        "El algoritmo de Gauss Jordan, consiste en llevar una matriz a la forma\n",
        "\n",
        "$$A=\\begin{bmatrix}\n",
        "1 & 0 & ... & 0 \\\\\n",
        "0 & 1 & ... & 0 \\\\\n",
        "\\vdots & \\vdots & \\ddots & \\vdots \\\\\n",
        "0 & 0 & ... & 1 \\\\\n",
        "\\end{bmatrix}$$\n",
        "\n",
        "Para lograr esto se deben ralizar los siguientes pasos:\n",
        "\n",
        "* 1). **Eliminación hacia adelante:**\n",
        "\n",
        "  **Selección del pivote:** Se busca el máximo elemento en la columna actual debajo de la diagonal principal.\n",
        "  \n",
        "  **Intercambio de filas:** Se intercambia la fila actual con la fila que coniene el pivote máximo, para asegurar que el pivote esté en la diagonal principal.\n",
        "\n",
        "  **Hacer ceros debajo del pivote:** Se divide cada elemento de la fila actual por el valor del pivote y se usa este factor para eliminar los elementos debajo de la diagonal principal en la columna actual. Esto se hace rstando la fila actual multiplicada por el factor del pivote a las filas debajo de ella.\n",
        "\n",
        "* 2). **Eliminación hacia atrás:**\n",
        "\n",
        "  **Hacer la diagonal principal igual a 1:** Se divide cada elemento de la fila por el valor de la diagonal principal, para hacer que la diagonal principal sea igual a 1.\n",
        "\n",
        "  **Hacer ceros encima de la diagonal:** Se utilizan los elementos por encima de la diagonal principal como pivotes para hacer ceros encima de la diagonal principal.\n",
        "\n",
        "\n",
        "\n"
      ],
      "metadata": {
        "id": "aqKefwix4IZM"
      }
    },
    {
      "cell_type": "code",
      "source": [
        "A=[[4, 5, 6],\n",
        "   [1, 2, 3],\n",
        "   [3, 1, -2]]\n",
        "A=np.array(A)\n",
        "print(A)"
      ],
      "metadata": {
        "colab": {
          "base_uri": "https://localhost:8080/"
        },
        "id": "LKNWipT0_MLI",
        "outputId": "25b8eba9-4390-4122-a998-5c978b6d3bea"
      },
      "execution_count": 2,
      "outputs": [
        {
          "output_type": "stream",
          "name": "stdout",
          "text": [
            "[[ 4  5  6]\n",
            " [ 1  2  3]\n",
            " [ 3  1 -2]]\n"
          ]
        }
      ]
    },
    {
      "cell_type": "markdown",
      "source": [
        "Definamos inicialmente las operaciones elementales que permitan escalonar y reducir la matriz\n",
        "\n",
        "1. Multiplicación de una columna por un escalar    $A_i \\to \\lambda A_i$"
      ],
      "metadata": {
        "id": "fOuQ6UO9AQNd"
      }
    },
    {
      "cell_type": "code",
      "source": [
        "def escalar(A,i,alfa):   #multiplicación de una columna por un escalar  #A: matriz, i:índice,alfa:escalar\n",
        "  B=np.copy(A)           #creo una copia de la matriz A para no modificarla directamenete\n",
        "  B=B.astype('float64')\n",
        "  B[i,:]=B[i,:]*alfa  #multiplicamos la fila i por el escalar alfa\n",
        "  return B\n",
        "\n",
        "print('Matriz Original: \\n',A)\n",
        "print('Matriz Modificada: \\n',escalar(A,2,3))"
      ],
      "metadata": {
        "colab": {
          "base_uri": "https://localhost:8080/"
        },
        "id": "9RJ0qht87ruP",
        "outputId": "0bb1768e-2c65-4001-8876-317a3ff88374"
      },
      "execution_count": 3,
      "outputs": [
        {
          "output_type": "stream",
          "name": "stdout",
          "text": [
            "Matriz Original: \n",
            " [[ 4  5  6]\n",
            " [ 1  2  3]\n",
            " [ 3  1 -2]]\n",
            "Matriz Modificada: \n",
            " [[ 4.  5.  6.]\n",
            " [ 1.  2.  3.]\n",
            " [ 9.  3. -6.]]\n"
          ]
        }
      ]
    },
    {
      "cell_type": "markdown",
      "source": [
        "2). Combinación de dos filas $A_i \\to A_i + \\lambda A_j$"
      ],
      "metadata": {
        "id": "UJWHydXfAmGC"
      }
    },
    {
      "cell_type": "code",
      "source": [
        "def combinacion(A,i,j,alfa):  #combinación de dos filas  #A:escalar, i,j:índices filas a intercamhiar, alfa:escalar\n",
        "  B=np.copy(A)\n",
        "  B=B.astype('float64')\n",
        "  B[i,:]+=escalar(A,j,alfa)[j,:] #combinación linela\n",
        "  return B\n",
        "\n",
        "print('Matriz Original: \\n',A)\n",
        "print('Matriz Modificada: \\n',combinacion(A,1,2,3))"
      ],
      "metadata": {
        "colab": {
          "base_uri": "https://localhost:8080/"
        },
        "id": "-4XKW9Aj_NEV",
        "outputId": "2335502e-0ac4-4ab0-f562-2f8190fa2d9c"
      },
      "execution_count": 4,
      "outputs": [
        {
          "output_type": "stream",
          "name": "stdout",
          "text": [
            "Matriz Original: \n",
            " [[ 4  5  6]\n",
            " [ 1  2  3]\n",
            " [ 3  1 -2]]\n",
            "Matriz Modificada: \n",
            " [[ 4.  5.  6.]\n",
            " [10.  5. -3.]\n",
            " [ 3.  1. -2.]]\n"
          ]
        }
      ]
    },
    {
      "cell_type": "markdown",
      "source": [
        "3). Intercambio de dos fílas $ A_i \\leftrightarrow A_j $"
      ],
      "metadata": {
        "id": "vzNH5fkRDObt"
      }
    },
    {
      "cell_type": "code",
      "source": [
        "def intercambio(A,i,j):\n",
        "  B=np.copy(A)\n",
        "  B=B.astype('float64')\n",
        "  B[[i,j]]=B[[j,i]]  #intercambio de los elemntos de una fila a otra fila\n",
        "  return B\n",
        "\n",
        "print('Matriz Original: \\n',A)\n",
        "print('Matriz Modificada: \\n',intercambio(A,1,2))"
      ],
      "metadata": {
        "colab": {
          "base_uri": "https://localhost:8080/"
        },
        "id": "fLGnvXOBBk9k",
        "outputId": "b4a9e487-0fc4-4cb4-f36f-080c5ea11945"
      },
      "execution_count": 5,
      "outputs": [
        {
          "output_type": "stream",
          "name": "stdout",
          "text": [
            "Matriz Original: \n",
            " [[ 4  5  6]\n",
            " [ 1  2  3]\n",
            " [ 3  1 -2]]\n",
            "Matriz Modificada: \n",
            " [[ 4.  5.  6.]\n",
            " [ 3.  1. -2.]\n",
            " [ 1.  2.  3.]]\n"
          ]
        }
      ]
    },
    {
      "cell_type": "code",
      "source": [
        "def gaussjordan(A):\n",
        "  B=np.copy(A)   #creo una copia de la matriz original para no modificarla directamente\n",
        "  m=len(A) #número de filas\n",
        "  n=len(A[0]) #número de columans\n",
        "\n",
        "  for j in range(n): #nos moc¿vemos sobre las columnas\n",
        "    for i in range(j,m):  #nos movemos sobre las filas\n",
        "      if B[i,j]!=0:  #encontramos el pivote\n",
        "        break\n",
        "    B=intercambio(B,i,j) #intercambio las filas i y j para poner el pivote en la posicion correcta\n",
        "    if B[j,j]==0: #si no hay pivote pasar a la siguiente columna\n",
        "      continue\n",
        "    B=escalar(B,j,1/B[j,j]) #normaizo la fila j dividiendo por el valor del pivote\n",
        "    for i in range(m):\n",
        "      if i==j:\n",
        "        continue\n",
        "      B=combinacion(B,i,j,-B[i,j]/B[j,j])\n",
        "  return B\n",
        "\n",
        "print('La matriz original es: \\n',A)\n",
        "print('La matriz reducida usando el método de Gauss Jordan es: \\n',gaussjordan(A))"
      ],
      "metadata": {
        "id": "ywIqJsQ8EOp6",
        "colab": {
          "base_uri": "https://localhost:8080/"
        },
        "outputId": "6de413e2-be54-45db-c8eb-d1b36bc8e64c"
      },
      "execution_count": 10,
      "outputs": [
        {
          "output_type": "stream",
          "name": "stdout",
          "text": [
            "La matriz original es: \n",
            " [[ 4  5  6]\n",
            " [ 1  2  3]\n",
            " [ 3  1 -2]]\n",
            "La matriz reducida usando el método de Gauss Jordan es: \n",
            " [[ 1.  0.  0.]\n",
            " [ 0.  1.  0.]\n",
            " [-0. -0.  1.]]\n"
          ]
        }
      ]
    }
  ]
}