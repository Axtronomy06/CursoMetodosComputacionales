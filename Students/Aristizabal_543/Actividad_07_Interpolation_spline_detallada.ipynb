{
  "cells": [
    {
      "cell_type": "markdown",
      "metadata": {
        "id": "a76MutrqNWdw"
      },
      "source": [
        "<a href=\"https://colab.research.google.com/github/hernansalinas/autogrades/blob/main/Actividades_clase/Actividad_07_Interpolation_spline_detallada.pynb\" target=\"_parent\"><img src=\"https://colab.research.google.com/assets/colab-badge.svg\" alt=\"Open In Colab\"/></a>\n"
      ]
    },
    {
      "cell_type": "markdown",
      "metadata": {
        "id": "QlSlCaocNWeB"
      },
      "source": [
        "Actividad :\n",
        "\n",
        "Entender el siguiente código para realizar la interpolación de splinbe de forma detallada. Agregar un punto adicional y realizar un proceso analogo al detallado a continuación."
      ]
    },
    {
      "cell_type": "markdown",
      "metadata": {
        "id": "LAi7gwybR1zQ"
      },
      "source": [
        "# Spline interpolacion\n",
        "  "
      ]
    },
    {
      "cell_type": "code",
      "execution_count": null,
      "metadata": {
        "id": "KCviXwLQR1zV"
      },
      "outputs": [],
      "source": [
        "import numpy as np\n",
        "import matplotlib.pylab as plt\n",
        "from numpy.linalg import solve\n",
        "%matplotlib inline\n",
        "#REF: Adaptado de  https://github.com/rrgalvan"
      ]
    },
    {
      "cell_type": "markdown",
      "metadata": {
        "id": "rfMQrtUZR1zf"
      },
      "source": [
        "Calcular el spline cúbico que interpola los puntos $(-1,5)$, $(0,3)$, $(0,3)$."
      ]
    },
    {
      "cell_type": "code",
      "execution_count": null,
      "metadata": {
        "id": "dWntiVEoR1zh"
      },
      "outputs": [],
      "source": [
        "x0, x1, x2 = -1, 0, 1\n",
        "_x = np.array([x0, x1, x2])\n",
        "y0, y1, y2 =  5, 3, 3\n",
        "_y = np.array([y0, y1, y2])"
      ]
    },
    {
      "cell_type": "markdown",
      "metadata": {
        "id": "l-GSuaVdR1zo"
      },
      "source": [
        "Para calcular los splines cúbicos debemos resolver el sistema de ecuaciones que define los coeficientes de los polinomios cúbicos en los subintervalos $[-1,0]$ y $[0,1]$. Empleando las condiciones del metodo de spline, y defiendo los polinomios para garantizar la continuidad en cada unos de los puntos, tenemos que:\n",
        "\n",
        "Sean:\n",
        "  * $s_0(x) = a_0 + b_0 (x-x_0) + c_0 (x-x_0)^2 + d_0 (x-x_0)^3$,\n",
        "  * $s_1(x) = a_1 + b_1 (x-x_1) + c_1 (x-x_1)^2 + d_1 (x-x_1)^3$,\n",
        "\n",
        "es decir:\n",
        "  * $s_0(x) = a_0 + b_0 (x+1) + c_0 (x+1)^2 + d_0 (x+1)^3$,\n",
        "  * $s_1(x) = a_1 + b_1 x + c_1 x^2 + d_1 x^3$.\n",
        "\n",
        "Entonces\n",
        "  * $s_0'(x) =  b_0 + 2 c_0 (x+1) + 3 d_0 (x+1)^2$,\n",
        "  * $s_0''(x) = 2 c_0 + 6 d_0 (x+1)$,\n",
        "  * $s_1'(x) =  b_1 + 2 c_1 x + 3 d_1 x^2$,\n",
        "  * $s_1''(x) = 2 c_1 + 6 d_1 x$.\n",
        "\n",
        "Tenemos 8 incógnitas, $a_i$, $b_i$, $c_i$, $d_i$ con $i=0,1$. Las ecuaciones son:\n",
        "\n",
        "  * Interpolación (y continuidad en 0):\n",
        "\n",
        "    * $s_0(-1) = 5$, es decir, $a_0=5$.\n",
        "    * $s_0(0)  = 3$, es decir, $a_0+b_0+c_0+d_0=3$.\n",
        "    * $s_1(0) = 3$, es decir, $a_1=3$.\n",
        "    * $s_1(1)  = 3$, es decir, $a_1+b_1+c_1+d_1=3$.\n",
        "    \n",
        "  * Derivabilidad:\n",
        "\n",
        "    * $s_0'(0) = s_1'(-1)$, es decir, $b_0+2c_0+3d_0 = b_1$.\n",
        "    * $s_0''(0) = s_1''(-1)$, es decir, $2c_0+6d_0 = 2c_1$.\n",
        "\n",
        "  * Condiciones naturales en los extremos, $-1$ y $1$:\n",
        "\n",
        "    * $s_0''(-1) = 0$, es decir, $2c_0=0$.\n",
        "    * $s_1''(1) = 0$, o sea $2c_1+6d_1=0$.\n",
        "\n",
        "\n",
        "De estas ecuaciones tenemos directamente $a_0$, $a_1$, y $c_1$. Le damos valores a las variables en python:"
      ]
    },
    {
      "cell_type": "code",
      "execution_count": null,
      "metadata": {
        "id": "5sxEuNwNR1zp"
      },
      "outputs": [],
      "source": [
        "a0 = 5\n",
        "a1 = 3\n",
        "c0 = 0"
      ]
    },
    {
      "cell_type": "markdown",
      "metadata": {
        "id": "eZScj4sDR1zu"
      },
      "source": [
        "Así, podemos eliminar la primera, tercera y séptima ecuación, llegando a un sistema de cinco ecuaciones con cinco incógnitas ($b_0$, $d_0$, $b_1$, $c_1$, $d_1$):\n",
        "\n",
        " * $b_0+d_0=3-a_0-c_0=-2$,\n",
        " * $b_1+c_1+d_1=3-a_1=0$,\n",
        " * $b_0+3d_0 - b_1 = -2c_0 = 0$,\n",
        " * $6d_0 - 2c_1 = -2c_0=0$\n",
        " * $2c_1+6d_1=0$\n",
        "\n",
        "\n",
        "La matriz y el segundo miembro asociados son:"
      ]
    },
    {
      "cell_type": "code",
      "execution_count": null,
      "metadata": {
        "id": "psxIbmXlR1zw"
      },
      "outputs": [],
      "source": [
        "A = np.array([\n",
        "\t[ 1, 1,   0,  0, 0],\n",
        "\t[ 0, 0,   1,  1, 1],\n",
        "\t[ 1, 3,  -1,  0, 0],\n",
        "\t[ 0, 6,   0, -2, 0],\n",
        "\t[ 0, 0,   0,  2, 6]])\n",
        "b = np.array([-2, 0, 0, 0, 0])"
      ]
    },
    {
      "cell_type": "code",
      "execution_count": null,
      "metadata": {
        "colab": {
          "base_uri": "https://localhost:8080/",
          "height": 34
        },
        "id": "WwMP5DSdVCuD",
        "outputId": "a3806283-4f1d-422d-d3e3-da19aeda0517"
      },
      "outputs": [
        {
          "name": "stdout",
          "output_type": "stream",
          "text": [
            "[-2.5  0.5 -1.   1.5 -0.5]\n"
          ]
        }
      ],
      "source": [
        "sol = solve(A,b)\n",
        "print(sol)"
      ]
    },
    {
      "cell_type": "markdown",
      "metadata": {
        "id": "1bjXd0wHR1z1"
      },
      "source": [
        "Ahora podemos resolver este sistema usando la función `solve()` (incluida en el modulo \"linalg\" del paquete *numpy*):"
      ]
    },
    {
      "cell_type": "code",
      "execution_count": null,
      "metadata": {
        "colab": {
          "base_uri": "https://localhost:8080/",
          "height": 51
        },
        "id": "NWQhfHd_R1z3",
        "outputId": "068c6ba6-fab8-4b92-d5f2-66377a31f507"
      },
      "outputs": [
        {
          "name": "stdout",
          "output_type": "stream",
          "text": [
            "a0, b0, c0, d0 = 5.000000, -2.500000, 0.000000, 0.500000\n",
            "a1, b1, c1, d1 = 3.000000, -1.000000, 1.500000, -0.500000\n"
          ]
        }
      ],
      "source": [
        "sol = solve(A,b)\n",
        "\n",
        "# Definimos la solución como variables b0, d0, b1, c1 y d1\n",
        "b0, d0, b1, c1, d1 = sol\n",
        "\n",
        "# Y mostramos los resultados\n",
        "print (\"a0, b0, c0, d0 = %f, %f, %f, %f\" % (a0, b0, c0, d0))\n",
        "print (\"a1, b1, c1, d1 = %f, %f, %f, %f\" % (a1, b1, c1, d1))"
      ]
    },
    {
      "cell_type": "markdown",
      "metadata": {
        "id": "SP51eFLgR1z_"
      },
      "source": [
        "Para dibujar la gráfica, lo más fácil es definir los polinomios $s_0$ y $s_1$ y representarlos gráficamente."
      ]
    },
    {
      "cell_type": "code",
      "execution_count": null,
      "metadata": {
        "colab": {
          "base_uri": "https://localhost:8080/",
          "height": 518
        },
        "id": "iZCSh6rkR10A",
        "outputId": "a7f26a77-41d2-489a-cbce-637c0a4155e8"
      },
      "outputs": [
        {
          "data": {
            "image/png": "[encoded data removed]",
            "text/plain": [
              "<Figure size 720x576 with 1 Axes>"
            ]
          },
          "metadata": {
            "tags": []
          },
          "output_type": "display_data"
        }
      ],
      "source": [
        "def s0(x):\n",
        "    return a0 + b0*(x+1) + c0*(x+1)**2 + d0*(x+1)**3\n",
        "def s1(x):\n",
        "    return a1 + b1*x + c1*x**2 + d1*x**3\n",
        "\n",
        "xx0 = np.linspace(-1,0)\n",
        "xx1 = np.linspace(0,1)\n",
        "\n",
        "plt.figure(figsize=(10, 8))\n",
        "plt.plot(xx0, s0(xx0), lw=3, label = \"S0\")\n",
        "plt.plot(xx1, s1(xx1), lw=3, label = \"S1\")\n",
        "plt.plot(_x, _y, 'o')\n",
        "plt.axvline(color = \"k\", ls=\"-.\")\n",
        "plt.ylabel(\"f(x)\", fontsize=20)\n",
        "plt.xlabel(\"x\", fontsize=20)\n",
        "plt.xticks(fontsize=20)\n",
        "plt.yticks(fontsize=20)\n",
        "plt.legend(loc = \"upper right\", fontsize= 20)\n",
        "plt.grid()\n",
        "plt.show()"
      ]
    },
    {
      "cell_type": "code",
      "source": [
        "import numpy as np\n",
        "import matplotlib.pyplot as plt\n",
        "from sympy import *\n",
        "\n",
        "def cubic_spline_free(xn,yn):\n",
        "    x = Symbol('x')\n",
        "    n=len(xn)-1\n",
        "\n",
        "    S=[]\n",
        "\n",
        "    #Pasen por los nodos\n",
        "    for j in range(0,n):\n",
        "        string='a%1.f b%1.f c%1.f d%1.f' %(j,j,j,j)\n",
        "        a,b,c,d=symbols(string)\n",
        "\n",
        "        Sj=a+b*(x-xn[j])+c*(x-xn[j])**2+d*(x-xn[j])**3\n",
        "\n",
        "        sol_a=solve(Sj.subs(x,xn[j])-yn[j])\n",
        "        Sj=Sj.subs(a,sol_a[0])\n",
        "\n",
        "        sol_b=solve(Sj.subs(x,xn[j+1])-yn[j+1],b)\n",
        "        Sj=Sj.subs(b,sol_b[0])\n",
        "\n",
        "        #Sj=expand(Sj)\n",
        "        S.append(Sj)\n",
        "\n",
        "    #1 Derivada continua\n",
        "    for j in range(0,n-1):\n",
        "        string='a%1.f b%1.f c%1.f d%1.f' %(j,j,j,j)\n",
        "        a,b,c,d=symbols(string)\n",
        "\n",
        "        DSj=diff(S[j],x)\n",
        "        DSj1=diff(S[j+1],x)\n",
        "\n",
        "        DS=(DSj-DSj1).subs(x,xn[j+1])\n",
        "\n",
        "        sol_c=solve(DS,c)\n",
        "\n",
        "        S[j]=S[j].subs(c,sol_c[0])\n",
        "\n",
        "        for i in range(0,j):\n",
        "            S[i]=S[i].subs(c,sol_c[0])\n",
        "\n",
        "    #2 Derivada continua\n",
        "    for j in range(0,n-1):\n",
        "        string='a%1.f b%1.f c%1.f d%1.f' %(j,j,j,j)\n",
        "        a,b,c,d=symbols(string)\n",
        "\n",
        "        DDSj=diff(S[j],x,x)\n",
        "        DDSj1=diff(S[j+1],x,x)\n",
        "\n",
        "        DDS=(DDSj-DDSj1).subs(x,xn[j+1])\n",
        "\n",
        "        sol_d=solve(DDS,d)\n",
        "\n",
        "        S[j]=S[j].subs(d,sol_d[0])\n",
        "\n",
        "        for i in range(0,j):\n",
        "            S[i]=S[i].subs(d,sol_d[0])\n",
        "\n",
        "\n",
        "    #Fronteras\n",
        "    string='c%1.f d%1.f' %(n-1,n-1)\n",
        "    c,d=symbols(string)\n",
        "\n",
        "\n",
        "    DDS0=diff(S[0],x,x).subs(x,xn[0])\n",
        "    sol_c=solve(DDS0-0,c)\n",
        "    for j in range(0,n):\n",
        "        S[j]=S[j].subs(c,sol_c[0])\n",
        "\n",
        "\n",
        "    DDSn=diff(S[-1],x,x).subs(x,xn[-1])\n",
        "    sol_d=solve(DDSn,d)\n",
        "    for j in range(0,n):\n",
        "        S[j]=S[j].subs(d,sol_d[0])\n",
        "        S[j]=expand(S[j])\n",
        "\n",
        "    return S"
      ],
      "metadata": {
        "id": "Q-oMH_8QNhWo"
      },
      "execution_count": 1,
      "outputs": []
    },
    {
      "cell_type": "code",
      "source": [
        "x0, x1, x2,x3 = -1, 0, 1, 2\n",
        "xn = np.array([x0, x1, x2, x3])\n",
        "y0, y1, y2,y3 =  5, 3, 3,5\n",
        "yn = np.array([y0, y1, y2,y3])\n",
        "x=Symbol('x')\n",
        "plt.plot(xn,yn,'o')\n",
        "pol_spl=cubic_spline_free(xn,yn)\n",
        "\n",
        "\n",
        "for i in range(len(pol_spl)):\n",
        "    pol_spl_np=lambdify(x,pol_spl[i],\"numpy\")\n",
        "    xspl=np.linspace(xn[i],xn[i+1])\n",
        "    yspl=pol_spl_np(xspl)\n",
        "    plt.plot(xspl,yspl,label=pol_spl[i])\n",
        "\n",
        "    print('para x entre [', xn[i],',',xn[i+1],'] : p(x)=',pol_spl[i])\n",
        "\n",
        "#plt.legend()\n",
        "plt.grid()"
      ],
      "metadata": {
        "id": "C5mImalgPhgq",
        "outputId": "b26244c6-dbce-43ff-f436-65a3712c4b7c",
        "colab": {
          "base_uri": "https://localhost:8080/",
          "height": 485
        }
      },
      "execution_count": 3,
      "outputs": [
        {
          "output_type": "stream",
          "name": "stdout",
          "text": [
            "para x entre [ -1 , 0 ] : p(x)= 2*x**3/5 + 6*x**2/5 - 6*x/5 + 3\n",
            "para x entre [ 0 , 1 ] : p(x)= 6*x**2/5 - 6*x/5 + 3\n",
            "para x entre [ 1 , 2 ] : p(x)= -2*x**3/5 + 12*x**2/5 - 12*x/5 + 17/5\n"
          ]
        },
        {
          "output_type": "display_data",
          "data": {
            "text/plain": [
              "<Figure size 640x480 with 1 Axes>"
            ],
            "image/png": "[encoded data removed]"
          },
          "metadata": {}
        }
      ]
    }
  ],
  "metadata": {
    "colab": {
      "provenance": []
    },
    "kernelspec": {
      "display_name": "Python 3 (ipykernel)",
      "language": "python",
      "name": "python3"
    },
    "language_info": {
      "codemirror_mode": {
        "name": "ipython",
        "version": 3
      },
      "file_extension": ".py",
      "mimetype": "text/x-python",
      "name": "python",
      "nbconvert_exporter": "python",
      "pygments_lexer": "ipython3",
      "version": "3.10.9"
    }
  },
  "nbformat": 4,
  "nbformat_minor": 0
}