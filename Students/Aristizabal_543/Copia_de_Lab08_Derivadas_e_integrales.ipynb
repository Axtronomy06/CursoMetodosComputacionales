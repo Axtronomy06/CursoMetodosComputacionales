{
  "cells": [
    {
      "cell_type": "markdown",
      "metadata": {
        "id": "-GOSy9guxq_t"
      },
      "source": [
        "<a href=\"https://colab.research.google.com/github/hernansalinas/autogrades/blob/main/Laboratorios_Taller/Lab08_Derivadas_e_integrales.ipynb\" target=\"_parent\"><img src=\"https://colab.research.google.com/assets/colab-badge.svg\" alt=\"Open In Colab\"/></a>"
      ]
    },
    {
      "cell_type": "code",
      "execution_count": null,
      "metadata": {
        "id": "J5O5W6xbuoZS"
      },
      "outputs": [],
      "source": [
        "import numpy as np\n",
        "import matplotlib.pyplot as plt\n",
        "import pandas as pd\n",
        "import scipy as sc\n",
        "import sympy as sy"
      ]
    },
    {
      "cell_type": "markdown",
      "metadata": {
        "id": "mjVxBoseufI6"
      },
      "source": [
        "## Parte 1\n",
        "\n",
        "En un cirtcuito con un voltaje de  $\\varepsilon(t)$ y una inductancia de L, la primera ley de kirshhoff nos da la siguiente relación\n",
        "\n",
        "\\begin{equation}\n",
        "\\varepsilon(t) = L\\frac{\\mathrm{d}i}{\\mathrm{d}t} + Ri\n",
        "\\end{equation}\n",
        "\n",
        "donde $R$, es la resistencia del ciruito, $I$ es la corriente. Suponga que medimos la corriente con varios valores de $t$ y obtenemos:\n",
        "\n",
        "``t = 1.00, 1.01, 1.02, 1.03, 1.0``\n",
        "\n",
        "``i = 3.10, 3.12, 3.14, 3.18, 3.24``\n",
        "\n",
        "\n",
        "donde $t$ se mide en segundos, $I$ se da en Amperios, la inductancia $L$ es una constante de 0.98 H, la resistencia es de 0.142 $\\Omega$. Aproxime el votaje  $\\varepsilon(t)$ en los valores t=1.00, 1.01, 1.02, 1.03, 1.04 ,  para ello realice lo siguiente:\n",
        "\n",
        "\n",
        "- Construya un data frame de pandas con los valores de tiempo y corriente\n",
        "- Emplee un metodo calcular la derivada numérica."
      ]
    },
    {
      "cell_type": "code",
      "source": [
        "import pandas as pd\n",
        "\n",
        "# Datos proporcionados\n",
        "t = [1.00, 1.01, 1.02, 1.03, 1.04]\n",
        "i = [3.10, 3.12, 3.14, 3.18, 3.24]\n",
        "L = 0.98  # Inductancia en Henrys\n",
        "R = 0.142  # Resistencia en Ohms\n",
        "\n",
        "# Crear un DataFrame con los datos de tiempo y corriente\n",
        "data = {'tiempo': t, 'corriente': i}\n",
        "df = pd.DataFrame(data)\n",
        "\n",
        "# Calcular la derivada numérica de la corriente\n",
        "df['di_dt'] = df['corriente'].diff() / 0.01\n",
        "\n",
        "# Calcular el voltaje epsilon(t)\n",
        "df['voltaje'] = L*df['di_dt'] + R*df['corriente']\n",
        "\n",
        "# Mostrar el DataFrame con los valores de tiempo, corriente, derivada e voltaje\n",
        "print(df)"
      ],
      "metadata": {
        "id": "G0CMCybr0Zam"
      },
      "execution_count": null,
      "outputs": []
    },
    {
      "cell_type": "markdown",
      "metadata": {
        "id": "yyh50GiIux2j"
      },
      "source": [
        "## Parte 2\n",
        "1. Escribir en código Markdown la expresión para calcular una integral con la regla del trapecio.\n",
        "\n",
        "2. Escribir en código Markdown la expresión para calcular una integral con la regla del simpson.\n",
        "\n",
        "3. Escribir en código Markdown la expresión para calcular una integral con el metodo de cuadratura.\n",
        "\n",
        "4. Calcular una aproximación con el metodo 1,2,3 de las siguientes integrales"
      ]
    },
    {
      "cell_type": "markdown",
      "metadata": {
        "id": "j3rJW3FevAeC"
      },
      "source": [
        "---\n",
        "$$\n",
        " \\int_0^{\\pi/2} \\frac{1}{\\sqrt{\\tan x}}\\mathrm{dx}\n",
        " $$\n",
        "\n",
        "----\n",
        "$$\n",
        " \\int_{1}^{\\infty} \\frac{\\cos x}{x^3}\\mathrm{dx}\n",
        " $$\n",
        "\n",
        "\n",
        "----\n",
        "\n",
        "$$\n",
        " \\int_{0}^{\\pi/4} \\int_{0}^{\\sin x} \\frac{1}{\\sqrt{1-y^2}}\\mathrm{dxdy}\n",
        " $$\n",
        "\n",
        "---\n",
        "\n",
        "Garantizando  que el error sea menor a $\\varepsilon=1\\times 10^{-5}$."
      ]
    },
    {
      "cell_type": "code",
      "source": [],
      "metadata": {
        "id": "riViPJK80rvU"
      },
      "execution_count": null,
      "outputs": []
    },
    {
      "cell_type": "markdown",
      "source": [
        "Expresión para calcular una integral con la regla del trapecio en Markdown: $$ \\int_{a}^{b} f(x) ,dx \\approx \\frac{b-a}{2} \\left( f(a) + f(b) \\right) $$\n",
        "\n",
        "Expresión para calcular una integral con la regla del Simpson en Markdown: $$ \\int_{a}^{b} f(x) ,dx \\approx \\frac{b-a}{6} \\left( f(a) + 4f\\left(\\frac{a+b}{2}\\right) + f(b) \\right) $$\n",
        "\n",
        "Expresión para calcular una integral con el método de cuadratura en Markdown: $$ \\int_{a}^{b} f(x) ,dx \\approx \\sum_{i=1}^{n} w_i ,f(x_i) $$\n"
      ],
      "metadata": {
        "id": "zrWwQSI_0nhU"
      }
    },
    {
      "cell_type": "code",
      "source": [
        "import numpy as np\n",
        "\n",
        "# Función para calcular una integral con la regla del trapecio\n",
        "def integral_trapecio(f, a, b, n):\n",
        "    x = np.linspace(a, b, n+1)\n",
        "    h = (b - a) / n\n",
        "    sumatoria = np.sum(f(x)) - 0.5 * (f(a) + f(b))\n",
        "    return h * sumatoria\n",
        "\n",
        "# Función para calcular una integral con la regla de Simpson\n",
        "def integral_simpson(f, a, b, n):\n",
        "    x = np.linspace(a, b, n+1)\n",
        "    h = (b - a) / n\n",
        "    sumatoria = f(a) + f(b)\n",
        "    for i in range(1, n):\n",
        "        if i % 2 == 0:\n",
        "            sumatoria += 2 * f(x[i])\n",
        "        else:\n",
        "            sumatoria += 4 * f(x[i])\n",
        "    return h * sumatoria / 3\n",
        "\n",
        "# Función para calcular una integral con el método de cuadratura\n",
        "def integral_cuadratura(f, a, b, n, metodo='midpoint'):\n",
        "    x = np.linspace(a, b, n+1)\n",
        "    h = (b - a) / n\n",
        "    sumatoria = 0\n",
        "    for i in range(n):\n",
        "        if metodo == 'midpoint':\n",
        "            c = (x[i] + x[i+1]) / 2\n",
        "            sumatoria += f(c)\n",
        "        elif metodo == 'trapezoidal':\n",
        "            sumatoria += f(x[i]) + f(x[i+1])\n",
        "        elif metodo == 'simpson':\n",
        "            sumatoria += f(x[i])\n",
        "        else:\n",
        "            raise ValueError(\"Método no válido\")\n",
        "    return h * sumatoria\n",
        "\n",
        "# Función para calcular una aproximación con método 1, 2 y 3 de una integral\n",
        "def aproximacion_integral(f, a, b, metodo1, metodo2, metodo3, epsilon):\n",
        "    n = 1\n",
        "    error = np.inf\n",
        "    while error > epsilon:\n",
        "        integral1 = metodo1(f, a, b, n)\n",
        "        integral2 = metodo2(f, a, b, n)\n",
        "        integral3 = metodo3(f, a, b, n)\n",
        "        error = np.abs((integral1 - integral2) / integral1)\n",
        "        n += 1\n",
        "    return integral1, integral2, integral3\n",
        "\n",
        "# Definir las funciones a integrar\n",
        "def f1(x):\n",
        "    return 1 / np.sqrt(np.tan(x))\n",
        "\n",
        "def f2(x):\n",
        "    return np.cos(x) / x**3\n",
        "\n",
        "def f3(x, y):\n",
        "    return 1 / np.sqrt(1 - y**2)\n",
        "\n",
        "# Definir los límites de integración\n",
        "a1 = 0\n",
        "b1 = np.pi/2\n",
        "\n",
        "a2 = 1\n",
        "b2 = np.inf\n",
        "\n",
        "a3x = 0\n",
        "b3x = np.pi/4\n",
        "\n",
        "a3y = 0\n",
        "b3y = lambda x: np.sin(x)\n",
        "\n",
        "# Calcular las aproximaciones de las integrales\n",
        "approx1 = aproximacion_integral(f1, a1, b1, integral_trapecio, integral_simpson, integral_cuadratura, 1e-5)\n",
        "approx2 = aproximacion_integral(f2, a2, b2, integral_trapecio, integral_simpson, integral_cuadratura, 1e-5)\n",
        "approx3 = aproximacion_integral(f3, a3x, b3x, integral_trapecio, integral_simpson, integral_cuadratura, 1e-5)\n",
        "\n",
        "print(\"Aproximación de la integral 1:\", approx1)\n",
        "print(\"Aproximación de la integral 2:\", approx2)\n",
        "print(\"Aproximación de la integral 3:\", approx3)"
      ],
      "metadata": {
        "id": "95W-NAjMyRQh",
        "outputId": "f0c6bf92-7c8a-4d14-89f7-ac1c843f353e",
        "colab": {
          "base_uri": "https://localhost:8080/",
          "height": 547
        }
      },
      "execution_count": null,
      "outputs": [
        {
          "output_type": "stream",
          "name": "stderr",
          "text": [
            "<ipython-input-8-59a710a0945b>:53: RuntimeWarning: divide by zero encountered in divide\n",
            "  return 1 / np.sqrt(np.tan(x))\n",
            "<ipython-input-8-59a710a0945b>:53: RuntimeWarning: divide by zero encountered in scalar divide\n",
            "  return 1 / np.sqrt(np.tan(x))\n",
            "<ipython-input-8-59a710a0945b>:7: RuntimeWarning: invalid value encountered in scalar subtract\n",
            "  sumatoria = np.sum(f(x)) - 0.5 * (f(a) + f(b))\n",
            "<ipython-input-8-59a710a0945b>:56: RuntimeWarning: invalid value encountered in cos\n",
            "  return np.cos(x) / x**3\n"
          ]
        },
        {
          "output_type": "error",
          "ename": "TypeError",
          "evalue": "f3() missing 1 required positional argument: 'y'",
          "traceback": [
            "\u001b[0;31m---------------------------------------------------------------------------\u001b[0m",
            "\u001b[0;31mTypeError\u001b[0m                                 Traceback (most recent call last)",
            "\u001b[0;32m<ipython-input-8-59a710a0945b>\u001b[0m in \u001b[0;36m<cell line: 77>\u001b[0;34m()\u001b[0m\n\u001b[1;32m     75\u001b[0m \u001b[0mapprox1\u001b[0m \u001b[0;34m=\u001b[0m \u001b[0maproximacion_integral\u001b[0m\u001b[0;34m(\u001b[0m\u001b[0mf1\u001b[0m\u001b[0;34m,\u001b[0m \u001b[0ma1\u001b[0m\u001b[0;34m,\u001b[0m \u001b[0mb1\u001b[0m\u001b[0;34m,\u001b[0m \u001b[0mintegral_trapecio\u001b[0m\u001b[0;34m,\u001b[0m \u001b[0mintegral_simpson\u001b[0m\u001b[0;34m,\u001b[0m \u001b[0mintegral_cuadratura\u001b[0m\u001b[0;34m,\u001b[0m \u001b[0;36m1e-5\u001b[0m\u001b[0;34m)\u001b[0m\u001b[0;34m\u001b[0m\u001b[0;34m\u001b[0m\u001b[0m\n\u001b[1;32m     76\u001b[0m \u001b[0mapprox2\u001b[0m \u001b[0;34m=\u001b[0m \u001b[0maproximacion_integral\u001b[0m\u001b[0;34m(\u001b[0m\u001b[0mf2\u001b[0m\u001b[0;34m,\u001b[0m \u001b[0ma2\u001b[0m\u001b[0;34m,\u001b[0m \u001b[0mb2\u001b[0m\u001b[0;34m,\u001b[0m \u001b[0mintegral_trapecio\u001b[0m\u001b[0;34m,\u001b[0m \u001b[0mintegral_simpson\u001b[0m\u001b[0;34m,\u001b[0m \u001b[0mintegral_cuadratura\u001b[0m\u001b[0;34m,\u001b[0m \u001b[0;36m1e-5\u001b[0m\u001b[0;34m)\u001b[0m\u001b[0;34m\u001b[0m\u001b[0;34m\u001b[0m\u001b[0m\n\u001b[0;32m---> 77\u001b[0;31m \u001b[0mapprox3\u001b[0m \u001b[0;34m=\u001b[0m \u001b[0maproximacion_integral\u001b[0m\u001b[0;34m(\u001b[0m\u001b[0mf3\u001b[0m\u001b[0;34m,\u001b[0m \u001b[0ma3x\u001b[0m\u001b[0;34m,\u001b[0m \u001b[0mb3x\u001b[0m\u001b[0;34m,\u001b[0m \u001b[0mintegral_trapecio\u001b[0m\u001b[0;34m,\u001b[0m \u001b[0mintegral_simpson\u001b[0m\u001b[0;34m,\u001b[0m \u001b[0mintegral_cuadratura\u001b[0m\u001b[0;34m,\u001b[0m \u001b[0;36m1e-5\u001b[0m\u001b[0;34m)\u001b[0m\u001b[0;34m\u001b[0m\u001b[0;34m\u001b[0m\u001b[0m\n\u001b[0m\u001b[1;32m     78\u001b[0m \u001b[0;34m\u001b[0m\u001b[0m\n\u001b[1;32m     79\u001b[0m \u001b[0mprint\u001b[0m\u001b[0;34m(\u001b[0m\u001b[0;34m\"Aproximación de la integral 1:\"\u001b[0m\u001b[0;34m,\u001b[0m \u001b[0mapprox1\u001b[0m\u001b[0;34m)\u001b[0m\u001b[0;34m\u001b[0m\u001b[0;34m\u001b[0m\u001b[0m\n",
            "\u001b[0;32m<ipython-input-8-59a710a0945b>\u001b[0m in \u001b[0;36maproximacion_integral\u001b[0;34m(f, a, b, metodo1, metodo2, metodo3, epsilon)\u001b[0m\n\u001b[1;32m     42\u001b[0m     \u001b[0merror\u001b[0m \u001b[0;34m=\u001b[0m \u001b[0mnp\u001b[0m\u001b[0;34m.\u001b[0m\u001b[0minf\u001b[0m\u001b[0;34m\u001b[0m\u001b[0;34m\u001b[0m\u001b[0m\n\u001b[1;32m     43\u001b[0m     \u001b[0;32mwhile\u001b[0m \u001b[0merror\u001b[0m \u001b[0;34m>\u001b[0m \u001b[0mepsilon\u001b[0m\u001b[0;34m:\u001b[0m\u001b[0;34m\u001b[0m\u001b[0;34m\u001b[0m\u001b[0m\n\u001b[0;32m---> 44\u001b[0;31m         \u001b[0mintegral1\u001b[0m \u001b[0;34m=\u001b[0m \u001b[0mmetodo1\u001b[0m\u001b[0;34m(\u001b[0m\u001b[0mf\u001b[0m\u001b[0;34m,\u001b[0m \u001b[0ma\u001b[0m\u001b[0;34m,\u001b[0m \u001b[0mb\u001b[0m\u001b[0;34m,\u001b[0m \u001b[0mn\u001b[0m\u001b[0;34m)\u001b[0m\u001b[0;34m\u001b[0m\u001b[0;34m\u001b[0m\u001b[0m\n\u001b[0m\u001b[1;32m     45\u001b[0m         \u001b[0mintegral2\u001b[0m \u001b[0;34m=\u001b[0m \u001b[0mmetodo2\u001b[0m\u001b[0;34m(\u001b[0m\u001b[0mf\u001b[0m\u001b[0;34m,\u001b[0m \u001b[0ma\u001b[0m\u001b[0;34m,\u001b[0m \u001b[0mb\u001b[0m\u001b[0;34m,\u001b[0m \u001b[0mn\u001b[0m\u001b[0;34m)\u001b[0m\u001b[0;34m\u001b[0m\u001b[0;34m\u001b[0m\u001b[0m\n\u001b[1;32m     46\u001b[0m         \u001b[0mintegral3\u001b[0m \u001b[0;34m=\u001b[0m \u001b[0mmetodo3\u001b[0m\u001b[0;34m(\u001b[0m\u001b[0mf\u001b[0m\u001b[0;34m,\u001b[0m \u001b[0ma\u001b[0m\u001b[0;34m,\u001b[0m \u001b[0mb\u001b[0m\u001b[0;34m,\u001b[0m \u001b[0mn\u001b[0m\u001b[0;34m)\u001b[0m\u001b[0;34m\u001b[0m\u001b[0;34m\u001b[0m\u001b[0m\n",
            "\u001b[0;32m<ipython-input-8-59a710a0945b>\u001b[0m in \u001b[0;36mintegral_trapecio\u001b[0;34m(f, a, b, n)\u001b[0m\n\u001b[1;32m      5\u001b[0m     \u001b[0mx\u001b[0m \u001b[0;34m=\u001b[0m \u001b[0mnp\u001b[0m\u001b[0;34m.\u001b[0m\u001b[0mlinspace\u001b[0m\u001b[0;34m(\u001b[0m\u001b[0ma\u001b[0m\u001b[0;34m,\u001b[0m \u001b[0mb\u001b[0m\u001b[0;34m,\u001b[0m \u001b[0mn\u001b[0m\u001b[0;34m+\u001b[0m\u001b[0;36m1\u001b[0m\u001b[0;34m)\u001b[0m\u001b[0;34m\u001b[0m\u001b[0;34m\u001b[0m\u001b[0m\n\u001b[1;32m      6\u001b[0m     \u001b[0mh\u001b[0m \u001b[0;34m=\u001b[0m \u001b[0;34m(\u001b[0m\u001b[0mb\u001b[0m \u001b[0;34m-\u001b[0m \u001b[0ma\u001b[0m\u001b[0;34m)\u001b[0m \u001b[0;34m/\u001b[0m \u001b[0mn\u001b[0m\u001b[0;34m\u001b[0m\u001b[0;34m\u001b[0m\u001b[0m\n\u001b[0;32m----> 7\u001b[0;31m     \u001b[0msumatoria\u001b[0m \u001b[0;34m=\u001b[0m \u001b[0mnp\u001b[0m\u001b[0;34m.\u001b[0m\u001b[0msum\u001b[0m\u001b[0;34m(\u001b[0m\u001b[0mf\u001b[0m\u001b[0;34m(\u001b[0m\u001b[0mx\u001b[0m\u001b[0;34m)\u001b[0m\u001b[0;34m)\u001b[0m \u001b[0;34m-\u001b[0m \u001b[0;36m0.5\u001b[0m \u001b[0;34m*\u001b[0m \u001b[0;34m(\u001b[0m\u001b[0mf\u001b[0m\u001b[0;34m(\u001b[0m\u001b[0ma\u001b[0m\u001b[0;34m)\u001b[0m \u001b[0;34m+\u001b[0m \u001b[0mf\u001b[0m\u001b[0;34m(\u001b[0m\u001b[0mb\u001b[0m\u001b[0;34m)\u001b[0m\u001b[0;34m)\u001b[0m\u001b[0;34m\u001b[0m\u001b[0;34m\u001b[0m\u001b[0m\n\u001b[0m\u001b[1;32m      8\u001b[0m     \u001b[0;32mreturn\u001b[0m \u001b[0mh\u001b[0m \u001b[0;34m*\u001b[0m \u001b[0msumatoria\u001b[0m\u001b[0;34m\u001b[0m\u001b[0;34m\u001b[0m\u001b[0m\n\u001b[1;32m      9\u001b[0m \u001b[0;34m\u001b[0m\u001b[0m\n",
            "\u001b[0;31mTypeError\u001b[0m: f3() missing 1 required positional argument: 'y'"
          ]
        }
      ]
    },
    {
      "cell_type": "markdown",
      "metadata": {
        "id": "pvB9I2lavCdW"
      },
      "source": [
        "## Parte 3\n",
        "Un péndulo físico en el regimen de pequeñas oscilaciones tiene un periodo de:\n",
        "\n",
        "\\begin{equation}\n",
        "P_0=2\\pi \\sqrt{\\frac{I_0}{mgb}}\n",
        "\\end{equation}\n",
        "\n",
        "Cuando las oscilaciones no son pequeñas, podemos encontrar una expresión para el periodo como sigue:\n",
        "\n",
        "\n",
        "La energia de un péndulo físico viene dada por:\n",
        "\n",
        "\\begin{equation}\n",
        "E=\\frac{I_0\\omega^2}{2}+mgb(1-\\cos \\theta)\n",
        "\\end{equation}\n",
        "\n",
        "En el punto más alejado de su posición de equilibrio, su energía es solo potencial y viene dada por:\n",
        "\n",
        "\\begin{equation}\n",
        "Ep = mgb(1-\\cos \\theta),\n",
        "\\end{equation}\n",
        "\n",
        "Igualando ambas expresiones tenemos que:\n",
        "\n",
        "\\begin{equation}\n",
        "mgb(1-\\cos \\theta)=\\frac{I_0\\omega^2}{2}+mgb(1-\\cos \\theta)\n",
        "\\end{equation}\n",
        "\n",
        "Integrando la ecuación respecto a $\\theta$ y realizando la sustitución:\n",
        "\n",
        "$\\sin \\phi = \\frac{\\sin \\frac{\\theta}{2}}{\\sin \\frac{\\theta_0}{2}}$ y  $k = \\sin \\frac{\\theta_0}{2}$, se puede encontrar  que el periodo de oscilación, viene dado en terminos de  la integral elíptica completa de primera especie:\n",
        "\n",
        "\n",
        "\\begin{equation}\n",
        "P = \\frac{2P_0}{\\pi} \\int _0^{\\pi/2} \\frac{\\mathrm{d\\phi}}{\\sqrt{1-k^2\\sin^2\\phi}}\n",
        "\\end{equation}\n",
        "\n",
        "donde,  $P_0$ es el periodo de las oscilaciones pequeñas.\n",
        "\n",
        "Determinar el periodo de oscilación de un péndulo. Para ello:\n",
        "\n",
        "1. Suponga los párametros iniciales del pendulo.\n",
        "2. Realice una buena planificación del código para calcular la integral.\n",
        "3. Emplee un  método de integracion numérico que conozca.\n",
        "4. Compruebe su solucion con el valor exacto de la integral mostrado en el punto"
      ]
    },
    {
      "cell_type": "code",
      "source": [
        "import numpy as np\n",
        "from scipy import integrate\n",
        "\n",
        "# Definir los parámetros iniciales del péndulo\n",
        "I0 = 1.0  # Momento de inercia\n",
        "m = 1.0   # Masa\n",
        "g = 9.8   # Aceleración de la gravedad\n",
        "b = 1.0   # Longitud del péndulo\n",
        "\n",
        "# Calcular el periodo de oscilación de pequeñas oscilaciones\n",
        "P0 = 2*np.pi*np.sqrt(I0/(m*g*b))\n",
        "\n",
        "# Definir la función a integrar\n",
        "def integrand(phi):\n",
        "    k = np.sin(np.pi/4)  # Por ejemplo, con theta_0 = pi/2\n",
        "    return 1/np.sqrt(1 - k**2 * np.sin(phi)**2)\n",
        "\n",
        "# Calcular la integral numéricamente\n",
        "result, error = integrate.quad(integrand, 0, np.pi/2)\n",
        "\n",
        "# Calcular el periodo de oscilación del péndulo\n",
        "P = 2*P0/np.pi * result\n",
        "\n",
        "print('El período de oscilación del péndulo es:', P)\n"
      ],
      "metadata": {
        "id": "M2I7wJuFzrvG",
        "outputId": "efb3acaf-4ec5-466b-dfb7-739456e42683",
        "colab": {
          "base_uri": "https://localhost:8080/"
        }
      },
      "execution_count": null,
      "outputs": [
        {
          "output_type": "stream",
          "name": "stdout",
          "text": [
            "El período de oscilación del péndulo es: 2.369049722175345\n"
          ]
        }
      ]
    },
    {
      "cell_type": "markdown",
      "metadata": {
        "id": "R2jgnjm4vd95"
      },
      "source": [
        "## Parte 4\n",
        "The next  problems are examples of how elliptic integrals enter into realistic physics problems. It is straightforward to evaluate any integral numerically using the techniques of this chapter, but it may be difficult for you to  know if the answers you obtain are correct. One way to hone your integral evaluating skills is to compare your answers from quadrature to power series\n",
        "expressions, or to a polynomial approximations of know precision. To help you in this regard, we present here a polynomial approximation for an elliptic integral (Abramowitz and Stegun, 1972):\n",
        "\n",
        "\\begin{equation}\n",
        "K(m)=\\int_{0}^{\\pi/2} \\frac{\\mathrm{d\\phi}}{\\sqrt{1-m\\sin^2\\phi}}\n",
        "\\end{equation}\n",
        "\n",
        "\\begin{equation}\n",
        "\\approx a_0+a_1m_1+a_2m_2 - [ b_0+b_1m_1+b_2m_1^2]\\ln m_1 + \\epsilon(m)\n",
        "\\end{equation}\n",
        "\n",
        "\n",
        "* $m_1 = 1-m$,\n",
        "\n",
        "* $ 0 \\le m \\le1 $\n",
        "\n",
        "* $\\epsilon(m)\\leq 3\\times 10^{-5}$\n",
        "\n",
        "* $a_0 = 1.3862944$\n",
        "\n",
        "* $b_0 = 0.5$\n",
        "\n",
        "* $a_1 = 0.1119723$\n",
        "\n",
        "* $b_1 = 0.1213478$\n",
        "\n",
        "* $a_2 = 0.00725296$\n",
        "\n",
        "* $b_2 = 0.0288729$"
      ]
    },
    {
      "cell_type": "code",
      "source": [
        "import math\n",
        "\n",
        "def elliptic_integral_approx(m):\n",
        "    m1 = 1 - m\n",
        "    a0 = 1.3862944\n",
        "    b0 = 0.5\n",
        "    a1 = 0.1119723\n",
        "    b1 = 0.1213478\n",
        "    a2 = 0.00725296\n",
        "    b2 = 0.0288729\n",
        "\n",
        "    result = a0 + a1*m1 + a2*m1**2 - (b0 + b1*m1 + b2*m1**2)*math.log(m1)\n",
        "    return result\n",
        "\n",
        "m = 0.3\n",
        "result = elliptic_integral_approx(m)\n",
        "print(result)"
      ],
      "metadata": {
        "id": "yLhW_RpyzkJz",
        "outputId": "d72dbc70-5ee9-4aaa-aa67-79ff408fc94a",
        "colab": {
          "base_uri": "https://localhost:8080/"
        }
      },
      "execution_count": null,
      "outputs": [
        {
          "output_type": "stream",
          "name": "stdout",
          "text": [
            "1.6819097737973638\n"
          ]
        }
      ]
    },
    {
      "cell_type": "markdown",
      "metadata": {
        "id": "xDFUsTNRvzOV"
      },
      "source": [
        "## Parte 5 (Opcional)\n",
        "\n",
        "Figure 5.7 shows a current loop of radius a carrying a current I. The point P\n",
        "is a distance r from the center of the loop with spherical coordinates (r, θ, φ).\n",
        "Jackson (1988) solves for the φ component of the vector potential at point P\n",
        "in terms of elliptic integrals:\n",
        "\n",
        "\\begin{equation}\n",
        "A_{\\phi}(r, \\theta)=\\frac{\\mu_0}{4\\pi}\\frac{4Ia}{\\sqrt{a^2+r^2+2ar\\sin \\theta}}\\left(\\frac{(2-k^2)K(k)-2E(k)}{k^2} \\right)\n",
        "\\end{equation}\n",
        "\n",
        "\n",
        "where\n",
        "\n",
        "\\begin{equation}\n",
        "K(k)=\\int_{0}^{\\pi/2} \\frac{\\mathrm{d\\phi}}{\\sqrt{1-k^2\\sin^2\\phi}}\n",
        "\\end{equation}\n",
        "\n",
        "\n",
        "\\begin{equation}\n",
        "E(k)=\\int_{0}^{\\pi/2} \\mathrm{d\\phi} \\sqrt{1-k^2\\sin^2\\phi}\n",
        "\\end{equation}\n",
        "\n",
        "\n",
        "\\begin{equation}\n",
        "k^2=\\frac{4ar\\sin\\theta}{a^2+r^2+2ar\\sin\\theta}\n",
        "\\end{equation}\n",
        "\n",
        "\n",
        "\n",
        "Here K(k) is a complete elliptic integral of the first kind and E(k) is a complete\n",
        "elliptic integral of the second kind. For a = 1, I = 3, and μ0∕4π = 1, compute\n",
        "and plot\n",
        "\n",
        "a) Aφ(r = 1.1, θ) vs. θ\n",
        "\n",
        "b) Aφ(r, θ = π∕3) vs. r\n"
      ]
    },
    {
      "cell_type": "code",
      "execution_count": null,
      "metadata": {
        "id": "Ny-ACuTtur-3"
      },
      "outputs": [],
      "source": []
    }
  ],
  "metadata": {
    "colab": {
      "provenance": []
    },
    "kernelspec": {
      "display_name": "Python 3 (ipykernel)",
      "language": "python",
      "name": "python3"
    },
    "language_info": {
      "codemirror_mode": {
        "name": "ipython",
        "version": 3
      },
      "file_extension": ".py",
      "mimetype": "text/x-python",
      "name": "python",
      "nbconvert_exporter": "python",
      "pygments_lexer": "ipython3",
      "version": "3.10.9"
    }
  },
  "nbformat": 4,
  "nbformat_minor": 0
}