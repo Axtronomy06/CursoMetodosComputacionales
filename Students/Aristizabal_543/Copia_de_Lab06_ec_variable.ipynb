{
  "cells": [
    {
      "cell_type": "markdown",
      "id": "39502ab7",
      "metadata": {
        "id": "39502ab7"
      },
      "source": [
        "<a href=\"https://colab.research.google.com/github/hernansalinas/autogrades/blob/main/Laboratorios_Taller/Lab06_ec_variable.ipynb\" target=\"_parent\"><img src=\"https://colab.research.google.com/assets/colab-badge.svg\" alt=\"Open In Colab\"/></a>"
      ]
    },
    {
      "cell_type": "markdown",
      "id": "7efe0541",
      "metadata": {
        "id": "7efe0541"
      },
      "source": [
        "## Ecuaciones de una variable:\n",
        "\n",
        "Para los siguiente problemas:\n",
        "\n",
        "\n",
        "1.0 ¿Para que ángulo el area del segmento circular es igual a un cuarto del area de la circunferencia?\n",
        "\n",
        "- Muestre que la expresión que permite resolver el problema:\n",
        "\n",
        "\n",
        "\\begin{equation}\n",
        "\\theta - \\sin \\theta = \\frac{\\pi}{2}\n",
        "\\end{equation}\n",
        "\n",
        "\n",
        "- ¿Construya una grafica para theta?,  Alrededor de que punto esta solución.(Para este punto se recomienda emplear un data frame de pandas )\n",
        "\n",
        "- Emplee el metodo de biseccion, punto fijo,  newton y secante  para comprobar la solución intuida del apartado anterior.\n",
        "\n",
        "\n",
        "2.0 An object falling vertically through the air is subjected to viscous resistance as well as to the force\n",
        "of gravity. Assume that an object with mass m is dropped from a height s0 and that the height of the\n",
        "object after t seconds is\n",
        "\n",
        "\\begin{equation}\n",
        "s(t)=s_0 - \\frac{mg}{k}t+\\frac{m^2g}{k}t(1-e^{-kt/m})\n",
        "\\end{equation}\n",
        "\n",
        "where $g = 32.17 ft/s2$ and $k$ represents the coefficient of air resistance in $lbs/ft$. Suppose $s0 = 300 ft$,\n",
        "$m = 0.25$ lb, and $k = 0.1$ lbs/ft. Find, to within $0.01$ s, the time it takes this quarter-pounder to hit the\n",
        "ground\n",
        "\n",
        "- Emplee el metodo de biseccion, punto fijo,  newton y secante  para comprobrar la solución.\n",
        "\n",
        "\n",
        "\n",
        "3.0 En la teoria de campo medio, La magnetización como función de la temperatura de un material magnético  puede ser calculada como:\n",
        "\n",
        "\\begin{equation}\n",
        "m(T) = \\tanh\\left( \\frac{m(T)}{T} \\right)\n",
        "\\end{equation}\n",
        "\n",
        "donde m y T son la magnetizacion y temperatura reducida respectivamente\n",
        "\n",
        "Para T = 0.5, determine:\n",
        "\n",
        "a. La magnetización reducida empleando el metodo de la secante(Muestre su resultado con 4 cifras)\n",
        "\n",
        "b. Valide su respuestado con el metodo de punto fijo.\n",
        "(Muestre su resultado con 4 cifras)\n",
        "\n",
        "d. Defina T = np.linspace(0.1,0.99,100), y emple el metodo de la secante para construir un gráfico de magnetización reducida como función de la temperatura para los  100 valores  de T.\n",
        "\n",
        "\n",
        "\n",
        "5. Construir un fractal empleando el metodo de Newton-Raphson,\n",
        "(Reproducir código y entender)\n",
        "\\begin{equation}\n",
        "z_{n+1} = z_n -a \\frac{f(z)}{f'(z)}\n",
        "\\end{equation}\n",
        "\n",
        "\n",
        "\n",
        "\\begin{equation}\n",
        "f'(z) = \\frac{ f(z+h)+f(z) }{h}\n",
        "\\end{equation}\n",
        "\n",
        "\n",
        "Replicar el codigo y entender.\n",
        "\n",
        "\n",
        "```\n",
        "\n",
        "import numpy as np\n",
        "import matplotlib.pylab as plt\n",
        "from PIL import Image\n",
        "\n",
        "Npx_X = 80 #Numero de pixeles en x\n",
        "Npx_Y = 80 #Numero de pixeles en y\n",
        "\n",
        "image = Image.new(\"RGB\", (Npx_X, Npx_Y)) #Creacion de la imagen inicial\n",
        "\n",
        "npx = np.arange(0, Npx_X)\n",
        "npy = np.arange(0, Npx_Y)\n",
        "\n",
        "xmin = -1\n",
        "xmax = 1\n",
        "ymin = -1\n",
        "ymax = 1\n",
        "#Transformación al plano complejo en un rectangulo (xmin, xmax), (ymin, ymax)\n",
        "zx = npx * (xmax - xmin) / (Npx_X - 1)   + xmin\n",
        "zy = npy * (ymax-ymin) / (Npx_Y - 1) + ymin\n",
        "\n",
        "#Definicion  la funcion y las derivada\n",
        "def f(z):\n",
        "  return z**3 - 1\n",
        "\n",
        "def fp(z):\n",
        "  return 3*z**2\n",
        "\n",
        "h = 1E-4\n",
        "def fpn(z, h):\n",
        "  return (f(z+h)-f(z))/h\n",
        "  \n",
        "\n",
        "a = 0.2\n",
        "Niteraciones = 120\n",
        "eps = 1E-8\n",
        "\n",
        "x = - 1\n",
        "for zx_ in zx:\n",
        "  x = x + 1\n",
        "  y = -1\n",
        "  for zy_ in zy:\n",
        "      y = y + 1\n",
        "      Z_0 = complex(zx_, zy_)\n",
        "    \n",
        "      for i in range(0, Niteraciones):\n",
        "        Z = Z_0 - a * f(Z_0)/fp(Z_0)\n",
        "\n",
        "        if( abs(Z-Z_0)<= eps):\n",
        "          break\n",
        "          \n",
        "        Z_0 = Z\n",
        "      #print(i)\n",
        "      #print(i)\n",
        "      r, g, b = i % 4 *64 , i % 8 *16, i% 16* 16\n",
        "      \n",
        "      image.putpixel((x,y), (r,g,b) )\n",
        "\n",
        "\n",
        "plt.imshow(image)\n",
        "#plt.xlim(400, 600)\n",
        "#plt.ylim(400, 523)\n",
        "```\n"
      ]
    },
    {
      "cell_type": "code",
      "source": [
        "#punto 1\n",
        "import numpy as np\n",
        "import pandas as pd\n",
        "import matplotlib.pyplot as plt\n",
        "from scipy import optimize  as optimize\n",
        "\n",
        "y = np.linspace(0,7,1000)\n",
        "x = np.zeros(len(y))\n",
        "\n",
        "for i in range(len(y)):\n",
        "    x[i]= np.sin(y[i])\n",
        "\n",
        "\n",
        "raiz = optimize.bisect(lambda x: np.cos(x),1,4)\n",
        "print(\"La raíz encontrada es: \",raiz)\n",
        "\n",
        "plt.plot(y,x)\n",
        "plt.grid()\n",
        "plt.show()"
      ],
      "metadata": {
        "id": "ahFPke7j5WQu",
        "outputId": "9e7ff3be-e7ac-49ee-ed4f-01bb07e110ef",
        "colab": {
          "base_uri": "https://localhost:8080/",
          "height": 448
        }
      },
      "id": "ahFPke7j5WQu",
      "execution_count": null,
      "outputs": [
        {
          "output_type": "stream",
          "name": "stdout",
          "text": [
            "La raíz encontrada es:  1.5707963267955165\n"
          ]
        },
        {
          "output_type": "display_data",
          "data": {
            "text/plain": [
              "<Figure size 640x480 with 1 Axes>"
            ],
            "image/png": "[encoded data removed]"
          },
          "metadata": {}
        }
      ]
    },
    {
      "cell_type": "code",
      "source": [
        "#Verificación por método de bisección:\n",
        "def biseccion(f,a,b,tol):\n",
        "    if f(a)*f(b)>=0:\n",
        "        return 'Error f(a) y f(b) deben tener signo contrario'\n",
        "\n",
        "    p=(a+b)/2\n",
        "\n",
        "\n",
        "\n",
        "    while abs(f(p))>tol:\n",
        "\n",
        "        if f(a)*f(p)<0:\n",
        "            b=p\n",
        "        if f(p)*f(b)<0:\n",
        "            a=p\n",
        "\n",
        "        p=(a+b)/2\n",
        "\n",
        "\n",
        "\n",
        "    return p\n",
        "\n",
        "print(biseccion(lambda x: np.cos(x), 1,4, 1e-10))"
      ],
      "metadata": {
        "id": "3x4JpL0i5s-g",
        "outputId": "2f2a834c-5785-43c5-b009-33f3d7523355",
        "colab": {
          "base_uri": "https://localhost:8080/"
        }
      },
      "id": "3x4JpL0i5s-g",
      "execution_count": null,
      "outputs": [
        {
          "output_type": "stream",
          "name": "stdout",
          "text": [
            "1.5707963267341256\n"
          ]
        }
      ]
    },
    {
      "cell_type": "code",
      "source": [
        "#Verificación por método de newton-raphson\n",
        "def f(x):\n",
        "    return np.cos(x)\n",
        "\n",
        "def df(x):\n",
        "    return -np.sin(x)\n",
        "\n",
        "def newton_raphson(p0,tol):\n",
        "    p=p0\n",
        "\n",
        "    while abs(f(p))>tol:\n",
        "        p=p-(f(p))/(df(p))\n",
        "\n",
        "\n",
        "    return p\n",
        "\n",
        "print(newton_raphson(1,1e-10))"
      ],
      "metadata": {
        "id": "1P8Zvyub56Re",
        "outputId": "9d2901fc-ee24-4dcf-aeb7-958cb68f9e09",
        "colab": {
          "base_uri": "https://localhost:8080/"
        }
      },
      "id": "1P8Zvyub56Re",
      "execution_count": null,
      "outputs": [
        {
          "output_type": "stream",
          "name": "stdout",
          "text": [
            "1.5707963267954879\n"
          ]
        }
      ]
    },
    {
      "cell_type": "code",
      "source": [
        "#Verificación por método de punto fijo\n",
        "def punto_fijo(f,p0,Nmax):\n",
        "    def g(x):\n",
        "        return f(x) + x\n",
        "\n",
        "    n=0\n",
        "    p=p0\n",
        "\n",
        "    while n<Nmax:\n",
        "        p=g(p)\n",
        "        n+=1\n",
        "\n",
        "    return p\n",
        "\n",
        "print(punto_fijo(lambda x: np.cos(x), 1, 1000))"
      ],
      "metadata": {
        "id": "HnmTM9bH6Cp8",
        "outputId": "5b9fbdc0-7b86-402b-e861-d6bcf243fd15",
        "colab": {
          "base_uri": "https://localhost:8080/"
        }
      },
      "id": "HnmTM9bH6Cp8",
      "execution_count": null,
      "outputs": [
        {
          "output_type": "stream",
          "name": "stdout",
          "text": [
            "1.5707963267948966\n"
          ]
        }
      ]
    },
    {
      "cell_type": "code",
      "source": [
        "#Verificación por método de la secante\n",
        "def secante(f,p0,p1,resolution):\n",
        "\n",
        "    pn_1=p1\n",
        "    pn_2=p0\n",
        "\n",
        "    res=resolution\n",
        "\n",
        "    while abs(pn_1-pn_2) > res:\n",
        "        pn=pn_1-(f(pn_1)*(pn_1-pn_2))/(f(pn_1)-f(pn_2))\n",
        "\n",
        "        pn_2 = pn_1 +0.\n",
        "        pn_1 = pn + 0.\n",
        "\n",
        "\n",
        "\n",
        "\n",
        "    return pn\n",
        "\n",
        "print(secante(lambda x: np.cos(x), 1,2, 1e-9))"
      ],
      "metadata": {
        "id": "WLepM3Dc6gVV",
        "outputId": "8f55a924-c656-4571-d947-2d0855b6f877",
        "colab": {
          "base_uri": "https://localhost:8080/"
        }
      },
      "id": "WLepM3Dc6gVV",
      "execution_count": null,
      "outputs": [
        {
          "output_type": "stream",
          "name": "stdout",
          "text": [
            "1.5707963267948966\n"
          ]
        }
      ]
    },
    {
      "cell_type": "code",
      "source": [
        "# punto 2\n",
        "\n",
        "m=0.25\n",
        "s=300\n",
        "k=0.1\n",
        "g=32.17\n",
        "\n",
        "f = lambda t : s - ((m*g)/k) * t  + (((m**2)*g)/k)* t*(1-np.exp(-k*t/m))\n",
        "df = lambda t : -1*((m*g)/k)  + (((m**2)*g)/k)* t*(1 + (k/m)*np.exp(-k*t/m)) + (((m**2)*g)/k)*(1-np.exp(-k*t/m))\n",
        "\n",
        "t_array= np.arange(-10,10,0.01)\n",
        "x = np.zeros(len(t_array))\n",
        "\n",
        "for i in range(len(t_array)):\n",
        "    x[i]=f(t_array[i])\n",
        "\n",
        "\n",
        "plt.plot(t_array,x)\n",
        "plt.grid()\n",
        "plt.show()"
      ],
      "metadata": {
        "id": "zhqxGEg_7HMv",
        "outputId": "b1e81b19-673f-4cca-bc70-fbe0048498dc",
        "colab": {
          "base_uri": "https://localhost:8080/",
          "height": 430
        }
      },
      "id": "zhqxGEg_7HMv",
      "execution_count": null,
      "outputs": [
        {
          "output_type": "display_data",
          "data": {
            "text/plain": [
              "<Figure size 640x480 with 1 Axes>"
            ],
            "image/png": "[encoded data removed]"
          },
          "metadata": {}
        }
      ]
    },
    {
      "cell_type": "code",
      "source": [
        "raiz_biseccion = optimize.bisect(f,2,8)\n",
        "\n",
        "h =lambda t :t -(+ s - ((m*g)/k) * t  + (((m**2)*g)/k)* t*(1-np.exp(-k*t/m)))\n",
        "raiz_puntofijo = optimize.fixed_point(h,6)\n",
        "\n",
        "\n",
        "raiz_newton = optimize.newton(f,2)\n",
        "raiz_secante = optimize.newton(f, 2)\n",
        "\n",
        "print(raiz_biseccion)\n",
        "print(raiz_puntofijo)\n",
        "print(raiz_newton)\n",
        "print(raiz_secante)"
      ],
      "metadata": {
        "id": "-Zd-wiky7dRD",
        "outputId": "43fab8b3-0c05-4543-ded1-d07f2c84ae95",
        "colab": {
          "base_uri": "https://localhost:8080/"
        }
      },
      "id": "-Zd-wiky7dRD",
      "execution_count": null,
      "outputs": [
        {
          "output_type": "stream",
          "name": "stdout",
          "text": [
            "4.736139137603004\n",
            "4.73613913760349\n",
            "4.73613913760349\n",
            "4.73613913760349\n"
          ]
        }
      ]
    },
    {
      "cell_type": "code",
      "source": [
        "#Punto 3\n",
        "\n",
        "#No me da la función que aparece en el enunciado, siempre me sale un error ya que es necesario un valor inicial para m(T).\n",
        "\n"
      ],
      "metadata": {
        "id": "KiHyZ19c7fTV"
      },
      "id": "KiHyZ19c7fTV",
      "execution_count": null,
      "outputs": []
    },
    {
      "cell_type": "code",
      "source": [
        "#Punto del fractal/ Replicar y entender\n",
        "\n",
        "import numpy as np\n",
        "import matplotlib.pylab as plt\n",
        "from PIL import Image\n",
        "\n",
        "Npx_X = 80 #Numero de pixeles en x\n",
        "Npx_Y = 80 #Numero de pixeles en y\n",
        "\n",
        "image = Image.new(\"RGB\", (Npx_X, Npx_Y)) #Creacion de la imagen inicial\n",
        "\n",
        "npx = np.arange(0, Npx_X)\n",
        "npy = np.arange(0, Npx_Y)\n",
        "\n",
        "xmin = -1\n",
        "xmax = 1\n",
        "ymin = -1\n",
        "ymax = 1\n",
        "# Transformación al plano complejo en un rectangulo (xmin, xmax), (ymin, ymax)\n",
        "zx = npx * (xmax - xmin) / (Npx_X - 1)   + xmin\n",
        "zy = npy * (ymax-ymin) / (Npx_Y - 1) + ymin\n",
        "\n",
        "# Definicion  la funcion y las derivadas\n",
        "def f(z):\n",
        "  return z**3 - 1\n",
        "\n",
        "def fp(z):\n",
        "  return 3*z**2\n",
        "\n",
        "h = 1E-4\n",
        "def fpn(z, h):\n",
        "  return (f(z+h)-f(z))/h\n",
        "\n",
        "\n",
        "a = 0.2\n",
        "Niteraciones = 120\n",
        "eps = 1E-8\n",
        "\n",
        "x = - 1\n",
        "for zx_ in zx:\n",
        "  x = x + 1\n",
        "  y = -1\n",
        "  for zy_ in zy:\n",
        "      y = y + 1\n",
        "      Z_0 = complex(zx_, zy_)\n",
        "\n",
        "      for i in range(0, Niteraciones):\n",
        "        Z = Z_0 - a * f(Z_0)/fp(Z_0)\n",
        "\n",
        "        if( abs(Z-Z_0)<= eps):\n",
        "          break\n",
        "\n",
        "        Z_0 = Z\n",
        "      #print(i)\n",
        "      #print(i)\n",
        "      r, g, b = i % 4 *64 , i % 8 *16, i% 16* 16\n",
        "\n",
        "      image.putpixel((x,y), (r,g,b) )\n",
        "\n",
        "\n",
        "plt.imshow(image)\n",
        "#plt.xlim(400, 600)\n",
        "#plt.ylim(400, 523)"
      ],
      "metadata": {
        "id": "jybIwR-rB5uq",
        "outputId": "1dbb500e-3f18-4e50-e3db-37c8ba6c1ee8",
        "colab": {
          "base_uri": "https://localhost:8080/",
          "height": 451
        }
      },
      "id": "jybIwR-rB5uq",
      "execution_count": null,
      "outputs": [
        {
          "output_type": "execute_result",
          "data": {
            "text/plain": [
              "<matplotlib.image.AxesImage at 0x7ab377468bb0>"
            ]
          },
          "metadata": {},
          "execution_count": 13
        },
        {
          "output_type": "display_data",
          "data": {
            "text/plain": [
              "<Figure size 640x480 with 1 Axes>"
            ],
            "image/png": "[encoded data removed]"
          },
          "metadata": {}
        }
      ]
    },
    {
      "cell_type": "code",
      "source": [],
      "metadata": {
        "id": "MRSJiKl-ClXg"
      },
      "id": "MRSJiKl-ClXg",
      "execution_count": null,
      "outputs": []
    }
  ],
  "metadata": {
    "kernelspec": {
      "display_name": "Python 3 (ipykernel)",
      "language": "python",
      "name": "python3"
    },
    "language_info": {
      "codemirror_mode": {
        "name": "ipython",
        "version": 3
      },
      "file_extension": ".py",
      "mimetype": "text/x-python",
      "name": "python",
      "nbconvert_exporter": "python",
      "pygments_lexer": "ipython3",
      "version": "3.10.9"
    },
    "colab": {
      "provenance": []
    }
  },
  "nbformat": 4,
  "nbformat_minor": 5
}