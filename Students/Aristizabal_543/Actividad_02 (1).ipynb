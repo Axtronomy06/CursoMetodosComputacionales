{
 "cells": [
  {
   "cell_type": "code",
   "execution_count": 3,
   "id": "8eb0260e",
   "metadata": {},
   "outputs": [
    {
     "name": "stdout",
     "output_type": "stream",
     "text": [
      "Ingrese la profundidad máxima en metros: 30\n"
     ]
    }
   ],
   "source": [
    "import numpy as np\n",
    "import matplotlib.pyplot as plt\n",
    "%matplotlib qt\n",
    "ro = 1\n",
    "g = 9.8\n",
    "def presion(h):\n",
    "    prof = np.linspace(0, h, 100)\n",
    "    presion = 1*9.8*(prof)  # Se calcula la presión como función de la profundidad, se escoge 0 como presión inicial por coveniencia\n",
    "    \n",
    "    # Graficar presión vs profundidad\n",
    "    plt.plot(presion, prof)\n",
    "    plt.xlabel('Presión(atm)')\n",
    "    plt.ylabel('Profundidad (m)')\n",
    "    plt.title(\"Variación de presión con la profundidad\")\n",
    "    plt.gca().invert_yaxis() # Invertir eje y para que la profundidad aumente hacia abajo\n",
    "    plt.grid()\n",
    "    plt.show()\n",
    "\n",
    "profundidad = float(input(\"Ingrese la profundidad máxima en metros: \"))\n",
    "presion(profundidad)"
   ]
  },
  {
   "cell_type": "code",
   "execution_count": 25,
   "id": "696e3da2",
   "metadata": {},
   "outputs": [
    {
     "name": "stdout",
     "output_type": "stream",
     "text": [
      "['No encestó']\n"
     ]
    },
    {
     "name": "stderr",
     "output_type": "stream",
     "text": [
      "C:\\Users\\DELL\\AppData\\Local\\Temp\\ipykernel_6684\\3330470122.py:7: RuntimeWarning: divide by zero encountered in double_scalars\n",
      "  t = d / (v * np.cos(math.radians(theta)))\n",
      "C:\\Users\\DELL\\AppData\\Local\\Temp\\ipykernel_6684\\3330470122.py:8: RuntimeWarning: invalid value encountered in multiply\n",
      "  altura = v * t * np.sin(math.radians(theta)) - 0.5 * g * t**2\n"
     ]
    }
   ],
   "source": [
    "#Acá me compliqué, no supe hacer lo del archivo json\n",
    "import math\n",
    "def encesto_o_no(v, theta, d):\n",
    "    g = 9.81 \n",
    "    h= 3 \n",
    "    \n",
    "    t = d / (v * np.cos(math.radians(theta)))\n",
    "    altura = v * t * np.sin(math.radians(theta)) - 0.5 * g * t**2\n",
    "\n",
    "    if altura == h:\n",
    "        return \"Encestó\"\n",
    "    else:\n",
    "        return \"No encestó\"\n",
    "\n",
    "    \n",
    "v, theta= 10, 45\n",
    "distancias=np.arange(0,30,500)\n",
    "resultados = []\n",
    "for i in range(len(distancias)):\n",
    "    resultado = encesto_o_no(distancias[i], v, theta)\n",
    "    resultados.append(resultado)\n",
    "\n",
    "print(resultados)"
   ]
  },
  {
   "cell_type": "code",
   "execution_count": null,
   "id": "33e9f5fe",
   "metadata": {},
   "outputs": [],
   "source": []
  }
 ],
 "metadata": {
  "kernelspec": {
   "display_name": "Python 3 (ipykernel)",
   "language": "python",
   "name": "python3"
  },
  "language_info": {
   "codemirror_mode": {
    "name": "ipython",
    "version": 3
   },
   "file_extension": ".py",
   "mimetype": "text/x-python",
   "name": "python",
   "nbconvert_exporter": "python",
   "pygments_lexer": "ipython3",
   "version": "3.9.13"
  }
 },
 "nbformat": 4,
 "nbformat_minor": 5
}
