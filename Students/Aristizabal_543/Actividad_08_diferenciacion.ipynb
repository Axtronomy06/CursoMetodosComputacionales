{
  "cells": [
    {
      "cell_type": "markdown",
      "metadata": {
        "id": "NCx8KEwrIRxy"
      },
      "source": [
        "<a href=\"https://colab.research.google.com/github/hernansalinas/autogrades/blob/main/Actividades_clase/Actividad_08_diferenciacion.ipynb\" target=\"_parent\"><img src=\"https://colab.research.google.com/assets/colab-badge.svg\" alt=\"Open In Colab\"/></a>"
      ]
    },
    {
      "cell_type": "markdown",
      "metadata": {
        "id": "OmQK_OJm5k08"
      },
      "source": [
        "# Calculo de derivadas\n",
        "\n",
        "\n",
        "## Diferencias finitas de primer orden\n",
        "El método de diferencias finitas aproxima derivadas numéricamente.\n",
        "\n",
        "\n",
        "- Aproximación de primer orden hacia adelante:\n",
        "\n",
        "\\begin{equation}\n",
        "      f'(x_k) \\approx \\frac{f(x_{k+1}) - f(x_k)}{h}\n",
        "\\end{equation}\n",
        "\n",
        "- Aproximación de primer orden hacia atrás:\n",
        "\n",
        "\\begin{equation}\n",
        "      f'(x_k) \\approx \\frac{f(x_k) - f(x_{k-1})}{h}\n",
        "\\end{equation}\n",
        "\n",
        "\n",
        "\n",
        "\\begin{equation}\n",
        "\\text{Error} = \\frac{h}{2} f''(\\xi)\n",
        "\\end{equation}\n",
        "\n",
        "donde $x$ está entre $x_k$ y $x_{k+1}$.\n",
        "## Diferencias finitas de segundo orden, diferencia central\n",
        "\n",
        "\n",
        "Utilizando la fórmula de Taylor de segundo grado:\n",
        "\\begin{equation}\n",
        "f(x) = f(x_k) + f'(x_k)(x - x_k) + \\frac{f''(x_k)}{2}(x - x_k)^2 + R_2\n",
        "\\end{equation}\n",
        "\n",
        "Evaluando en $x = x_{k+1} y x = x_{k-1}$:\n",
        "\\begin{equation}\n",
        "f(x_{k+1}) = f(x_k) + f'(x_k)h + \\frac{f''(x_k)}{2}h^2 + O(h^3)\n",
        "\\end{equation}\n",
        "\n",
        "\\begin{equation}\n",
        "f(x_{k-1}) = f(x_k) - f'(x_k)h + \\frac{f''(x_k)}{2}h^2 + O(h^3)\n",
        "\\end{equation}\n",
        "\n",
        "Restando estas ecuaciones y despejando $f'(x_k)$:\n",
        "\n",
        "\\begin{equation}\n",
        "f'(x_k) \\approx \\frac{f(x_{k+1}) - f(x_{k-1})}{2h}\n",
        "\\end{equation}\n",
        "\n",
        "\n",
        "\n",
        "\n",
        "El error en la la aproximación de segundo orden es:\n",
        "\\begin{equation}\n",
        "f'(x_k) \\approx \\frac{f(x_{k+1}) - f(x_{k-1})}{2h}\n",
        "\\end{equation}\n",
        "\n",
        "El error de truncamiento es:\n",
        "\\begin{equation}\n",
        "\\text{Error} = \\frac{h^2}{6} f'''(\\xi)\n",
        "\\end{equation}\n",
        "\n",
        "donde $\\xi$ está entre $x_{k-1}$ y $x_{k+1}$."
      ]
    },
    {
      "cell_type": "markdown",
      "metadata": {
        "id": "Whc2Zv4IEKRL"
      },
      "source": [
        "\n",
        "# Actividad\n",
        "\n",
        "1. Construya una función que permita calcular la derivada de una funcion empleando el metodo de diferencias centrales para aproximar el cálculo de la derivada con la función:\n",
        "\n",
        "$y=e^{x^2}\\sin x $\n",
        "\n",
        "Compruebe  su solución empleando la derivada de sympy.\n",
        "\n",
        "Analice que  pasa con la derivada cuando varia el valor de h.\n",
        "\n",
        "\n",
        "2. Construya una función que permita calcular el método de diferencias centrales derivada para los siguientes puntos experimentales, emplee una pandas.\n",
        "\n",
        "https://raw.githubusercontent.com/hernansalinas/autogradesMetodosComputacionales/main/Dataset/datos_pendulo.csv\n",
        "\n"
      ]
    },
    {
      "cell_type": "code",
      "source": [
        "import sympy as sp\n",
        "\n",
        "def funcion(x):\n",
        "    return sp.exp(x**2) * sp.sin(x)\n",
        "\n",
        "def derivada_diferencias_centrales(x, h):\n",
        "    return (funcion(x + h) - funcion(x - h)) / (2 * h)\n",
        "\n",
        "\n",
        "x = sp.Symbol('x')\n",
        "derivada_sympy = sp.diff(funcion(x), x)\n",
        "\n",
        "\n",
        "h = 0.001\n",
        "x_valor = 1\n",
        "derivada_aprox = derivada_diferencias_centrales(x_valor, h)\n",
        "\n",
        "print(\"Derivada calculada con diferencias centrales:\", derivada_aprox)\n",
        "print(\"Derivada calculada con sympy:\", derivada_sympy.evalf(subs={x: x_valor}))"
      ],
      "metadata": {
        "colab": {
          "base_uri": "https://localhost:8080/"
        },
        "id": "SOX_g6SHN6oz",
        "outputId": "425bd2b0-d3a9-415a-8833-47682d5372bb"
      },
      "execution_count": 2,
      "outputs": [
        {
          "output_type": "stream",
          "name": "stdout",
          "text": [
            "Derivada calculada con diferencias centrales: 6.04341401274100\n",
            "Derivada calculada con sympy: 6.04340451427357\n"
          ]
        }
      ]
    },
    {
      "cell_type": "code",
      "source": [
        "import pandas as pd\n",
        "\n",
        "\n",
        "url = \"https://raw.githubusercontent.com/hernansalinas/autogradesMetodosComputacionales/main/Dataset/datos_pendulo.csv\"\n",
        "datos = pd.read_csv(url)\n",
        "\n",
        "def diferencias_centrales_derivada(datos):   #Aqui se usa la funcioón como en elprimer puntos pero con la lista de datos\n",
        "    h = datos['Tiempo[ms]'].iloc[1] - datos['Tiempo[ms]'].iloc[0]\n",
        "    derivada = (datos['AnguloRad'].shift(-1) - datos['AnguloRad'].shift(1)) / (2*h)\n",
        "    return derivada\n",
        "\n",
        "\n",
        "datos['derivada'] = diferencias_centrales_derivada(datos)\n",
        "\n",
        "\n",
        "print(datos)"
      ],
      "metadata": {
        "colab": {
          "base_uri": "https://localhost:8080/"
        },
        "id": "RnqXyhifTkYF",
        "outputId": "9610a763-d2a5-4ebb-b79c-955384fd34e6"
      },
      "execution_count": 19,
      "outputs": [
        {
          "output_type": "stream",
          "name": "stdout",
          "text": [
            "      Unnamed: 0  Tiempo[ms]  AnguloDeg  AnguloRad  derivada\n",
            "0              0           9 -30.710388  -0.535997       NaN\n",
            "1              1          42 -30.017673  -0.523907  0.000515\n",
            "2              2          75 -28.762547  -0.502001  0.000928\n",
            "3              3         108 -26.507523  -0.462644  0.001098\n",
            "4              4         142 -24.611229  -0.429547  0.001301\n",
            "...          ...         ...        ...        ...       ...\n",
            "2842        2842       94709   4.937576   0.086177  0.000832\n",
            "2843        2843       94743   6.479851   0.113095  0.000794\n",
            "2844        2844       94776   7.940689   0.138591  0.000751\n",
            "2845        2845       94809   9.318092   0.162631  0.000713\n",
            "2846        2846       94843  10.637817   0.185665       NaN\n",
            "\n",
            "[2847 rows x 5 columns]\n"
          ]
        }
      ]
    },
    {
      "cell_type": "code",
      "source": [],
      "metadata": {
        "id": "CkejHkH8NYtf"
      },
      "execution_count": null,
      "outputs": []
    },
    {
      "cell_type": "markdown",
      "metadata": {
        "id": "dzs4T6lzD2OZ"
      },
      "source": [
        "3. El potencial eléctrico de un anillo de radio R, en la parte superior z del anillo viene dado por:\n",
        "\n",
        "\n",
        "\\begin{equation}\n",
        "V = \\frac{kq_{tot}z}{\\sqrt{z^2+R^2}}\n",
        "\\end{equation}\n",
        "\n",
        "Calcule el campo eléctrico para z>0 y R=0.1mm. Reescale el problema en unidades de $kq_{top}$ empleando:\n",
        "\n",
        "1. La librearia sympy.\n",
        "\n",
        "2. Calcular el campo en el punto  $z = 0.1mm$ empleando el metodo np.grad\n",
        "\n",
        "3. Calcular el campo para diferentes valores de z con z>0,,  empleando np.grad Construya un gráfico de E vs z.\n"
      ]
    },
    {
      "cell_type": "code",
      "source": [
        "import numpy as np\n",
        "import matplotlib.pyplot as plt\n",
        "import sympy as sp\n",
        "\n",
        "k = 8.9875517873681764e9\n",
        "R = 0.1e-3\n",
        "q_tot = 1\n",
        "z = sp.symbols('z')\n",
        "E = k * q_tot / sp.sqrt(z**2 + R**2)\n",
        "\n",
        "E_grad = sp.diff(E, z)\n",
        "\n",
        "E_grad_rescaled = E_grad.subs(z, z/(k*q_tot))\n",
        "\n",
        "print(\"Campo eléctrico en unidades de k*q_tot:\")\n",
        "print(E_grad_rescaled)\n",
        "\n",
        "\n",
        "E_point = sp.N(E_grad_rescaled.subs(z, 0.1e-3/(k*q_tot)))\n",
        "print(\"\\nCampo eléctrico en el punto z = 0.1mm:\")\n",
        "print(E_point)\n",
        "\n",
        "z_values = np.linspace(0.1e-3, 1e-3, 100)\n",
        "E_values = [sp.N(E_grad_rescaled.subs(z, z_val/(k*q_tot))) for z_val in z_values]\n",
        "\n",
        "plt.figure()\n",
        "plt.plot(z_values, E_values)\n",
        "plt.xlabel('z (m)')\n",
        "plt.ylabel('Campo eléctrico (N/C)')\n",
        "plt.title('Campo eléctrico vs z')\n",
        "plt.grid(True)\n",
        "plt.show()"
      ],
      "metadata": {
        "id": "R3UKRWzQNMTS",
        "colab": {
          "base_uri": "https://localhost:8080/",
          "height": 559
        },
        "outputId": "70f65ba1-5f45-45e6-8e0c-4dfc46a18039"
      },
      "execution_count": 1,
      "outputs": [
        {
          "output_type": "stream",
          "name": "stdout",
          "text": [
            "Campo eléctrico en unidades de k*q_tot:\n",
            "-1000000000000.0*z/(1.23799014723612e-12*z**2 + 1)**(3/2)\n",
            "\n",
            "Campo eléctrico en el punto z = 0.1mm:\n",
            "-0.0111265005605362\n"
          ]
        },
        {
          "output_type": "display_data",
          "data": {
            "text/plain": [
              "<Figure size 640x480 with 1 Axes>"
            ],
            "image/png": "[encoded data removed]"
          },
          "metadata": {}
        }
      ]
    }
  ],
  "metadata": {
    "colab": {
      "provenance": []
    },
    "kernelspec": {
      "display_name": "Python 3 (ipykernel)",
      "language": "python",
      "name": "python3"
    },
    "language_info": {
      "codemirror_mode": {
        "name": "ipython",
        "version": 3
      },
      "file_extension": ".py",
      "mimetype": "text/x-python",
      "name": "python",
      "nbconvert_exporter": "python",
      "pygments_lexer": "ipython3",
      "version": "3.10.9"
    }
  },
  "nbformat": 4,
  "nbformat_minor": 0
}