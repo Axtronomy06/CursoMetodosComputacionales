{
  "cells": [
    {
      "cell_type": "markdown",
      "id": "6d26e874",
      "metadata": {
        "id": "6d26e874"
      },
      "source": [
        "<a href=\"https://colab.research.google.com/github/hernansalinas/autogrades/blob/main/Actividades_clase/Actividad_04_Binarios_Errores.ipynb\" target=\"_parent\"><img src=\"https://colab.research.google.com/assets/colab-badge.svg\" alt=\"Open In Colab\"/></a>\n",
        "\n",
        "\n",
        "\n",
        "# Actividad 4\n",
        "### Métodos computacionales para físicos  y astrónomos\n",
        "### Universidad de Antioquia\n",
        "### Prof: Hernan D. Salinas Jiménez\n"
      ]
    },
    {
      "cell_type": "code",
      "execution_count": null,
      "id": "eae80e3f",
      "metadata": {
        "id": "eae80e3f",
        "outputId": "5bdbbc9f-b2dc-4930-dd0e-d315c4ee69fe"
      },
      "outputs": [
        {
          "name": "stderr",
          "output_type": "stream",
          "text": [
            "C:\\Users\\salin\\Documents\\Docencia\\autogrades\\Actividades_clase\\libs\\libUnitTest.py:3: DeprecationWarning: Importing display from IPython.core.display is deprecated since IPython 7.14, please import from IPython display\n",
            "  from IPython.core.display import display, HTML\n"
          ]
        }
      ],
      "source": [
        "!git clone https://github.com/hernansalinas/autogrades.git\n",
        "#path=\"libs\"\n",
        "path=\"autogrades/Actividades_clase/libs\"\n",
        "%run -i {path}/libUnitTest.py"
      ]
    },
    {
      "cell_type": "markdown",
      "id": "74f1131a",
      "metadata": {
        "id": "74f1131a"
      },
      "source": [
        "### Activity 1.0:\n",
        "\n",
        "Implement a function that get the binary representation of an integer with name mybin, the algorithm should return\n",
        "a string with 8 characters, the maximun number that represent the funcition is integer of 8 bit. The name of function is\n",
        "mybin\n",
        "\n",
        "Ejexample :\n",
        "\n",
        "b=mybin(x)\n",
        "\n",
        "b='00101000'"
      ]
    },
    {
      "cell_type": "code",
      "execution_count": null,
      "id": "4c8dabcf",
      "metadata": {
        "id": "4c8dabcf"
      },
      "outputs": [],
      "source": [
        "##!/usr/bin/env python3\n",
        "def mybin(x):\n",
        "    print('__name__ = {}'.format(__name__))\n",
        "   # Write your code here and change the next line as required\n",
        "    return \"111\""
      ]
    },
    {
      "cell_type": "code",
      "source": [
        "import matplotlib as plt\n",
        "import numpy as np\n",
        "s = 0\n",
        "\n",
        "def er(n):\n",
        "  s=0\n",
        "  for i in range(0,n):\n",
        "    s = s+0.1\n",
        "\n",
        "  return s\n",
        "\n",
        "n = int(input(\"Ingrese el número de sumandos: \"))\n",
        "\n",
        "error = (er(n) - (0.1*n)) / n\n",
        "\n",
        "print(er(n), error)\n",
        "\n",
        "l = np.arange(100,10100,100)\n",
        "\n",
        "l1 = np.zeros(len(l))\n",
        "\n",
        "for i in range(len(l)):\n",
        "  l1[i]= er(l[i])\n",
        "\n",
        "print(l1)"
      ],
      "metadata": {
        "colab": {
          "base_uri": "https://localhost:8080/"
        },
        "id": "QivkYFb6lqgt",
        "outputId": "7d43b6c7-d4cf-411a-e6f3-67d0effaf580"
      },
      "id": "QivkYFb6lqgt",
      "execution_count": null,
      "outputs": [
        {
          "output_type": "stream",
          "name": "stdout",
          "text": [
            "Ingrese el número de sumandos: 1\n",
            "0.1 0.0\n",
            "[  10.   20.   30.   40.   50.   60.   70.   80.   90.  100.  110.  120.\n",
            "  130.  140.  150.  160.  170.  180.  190.  200.  210.  220.  230.  240.\n",
            "  250.  260.  270.  280.  290.  300.  310.  320.  330.  340.  350.  360.\n",
            "  370.  380.  390.  400.  410.  420.  430.  440.  450.  460.  470.  480.\n",
            "  490.  500.  510.  520.  530.  540.  550.  560.  570.  580.  590.  600.\n",
            "  610.  620.  630.  640.  650.  660.  670.  680.  690.  700.  710.  720.\n",
            "  730.  740.  750.  760.  770.  780.  790.  800.  810.  820.  830.  840.\n",
            "  850.  860.  870.  880.  890.  900.  910.  920.  930.  940.  950.  960.\n",
            "  970.  980.  990. 1000.]\n"
          ]
        }
      ]
    },
    {
      "cell_type": "code",
      "source": [
        "n = int(input(\"Ingrese un número para hallarle su representaciòn binaria (Menor que 1024 pues la representación es a 8 bits):\"))\n",
        "\n",
        "def mybin(n):\n",
        "  m = n%2\n",
        "  k =n//2\n",
        "  l = []\n",
        "\n",
        "  while k != 0:\n",
        "    l.append(m)\n",
        "    k = k//2\n",
        "    m = k%2\n",
        "    if len(l)>8:\n",
        "      break\n",
        "\n",
        "  return l[:-1]\n",
        "\n",
        "s = \"\"\n",
        "c = mybin(n)\n",
        "for i in range(len(c)):\n",
        "  s=s + str(c[i])\n",
        "\n",
        "print(s)\n",
        "\n",
        "\n",
        "\n",
        "\n"
      ],
      "metadata": {
        "colab": {
          "base_uri": "https://localhost:8080/"
        },
        "id": "TGMaec2YqkvL",
        "outputId": "19e54cc5-81a4-472e-fce2-cd06dc2aede0"
      },
      "id": "TGMaec2YqkvL",
      "execution_count": null,
      "outputs": [
        {
          "output_type": "stream",
          "name": "stdout",
          "text": [
            "Ingrese un número para hallarle su representaciòn binaria (Menor que 1024 pues la representación es a 8 bits):1023\n",
            "11111111\n"
          ]
        }
      ]
    },
    {
      "cell_type": "code",
      "execution_count": null,
      "id": "885be6fb",
      "metadata": {
        "id": "885be6fb",
        "outputId": "7a5518dd-d2d0-495c-9765-3e6dc9f00800"
      },
      "outputs": [
        {
          "name": "stdout",
          "output_type": "stream",
          "text": [
            "__name__ = __main__\n",
            "__name__ = __main__\n",
            "__name__ = __main__\n"
          ]
        },
        {
          "data": {
            "text/html": [
              "<style>\n",
              "  table { text-align: left; border-collapse: collapse; margin: 1em; caption-side: bottom; font-family: Sans-Serif; font-size: 12px}\n",
              "  caption { text-align: left; padding: 5px }\n",
              "  th, td { border: 2px solid #BFC9CA; padding: 5px }\n",
              "  th { background-color: #BFC9CA }\n",
              "  .passed { background-color: #76D7C4 }\n",
              "  .failed { background-color: #EC7063 }\n",
              "  .skipped { background-color: #EDBB99 }\n",
              "  .score { background-color: #7DCEA0 }\n",
              "  .results .points { display: none }\n",
              "  .results .message { display: block; font-size:smaller; color:#D35400 }\n",
              "  .results .note { display: block; font-size:smaller; font-decoration:italics }\n",
              "  .results .passed::before  { content: \"Passed\" } \n",
              "  .results .skipped::before  { content: \"Skipped\" } \n",
              "  .results .failed::before  { content: \"Failed\" } \n",
              "  .grade .passed  .message:empty::before { content:\"Passed\" }\n",
              "  .grade .failed  .message:empty::before { content:\"Failed\" }\n",
              "  .grade .skipped .message:empty::before { content:\"Skipped\" }   \n",
              "</style>\n",
              "<table class='results'>\n",
              "  <th class='test'>Test</th><th class='result'>Result</th></tr>\n",
              "<tr>\n",
              "  <td class='test'>\n",
              "    La salida debe ser un string \n",
              "    <div class='message'>Done</div>\n",
              "  </td>\n",
              "  <td class='result passed'></td>\n",
              "</tr>\n",
              "<tr>\n",
              "  <td class='test'>\n",
              "    La longitud del string debe ser de 8 \n",
              "    <div class='message'>Error: 8 != 3 : #-The expect value is 8 and the functions test is 3\n",
              "</div>\n",
              "  </td>\n",
              "  <td class='result failed'></td>\n",
              "</tr>\n",
              "<tr>\n",
              "  <td class='test'>\n",
              "    Para el número 85 su representacion es 01010101 \n",
              "    <div class='message'>Error: &#x27;01010101&#x27; != 3 : #-The expect value is 01010101 and the functions test is 3\n",
              "</div>\n",
              "  </td>\n",
              "  <td class='result failed'></td>\n",
              "</tr>  <tr><th class='score'>Total Points</th><th class='score'>0</th></tr></table>\n"
            ],
            "text/plain": [
              "<IPython.core.display.HTML object>"
            ]
          },
          "metadata": {},
          "output_type": "display_data"
        }
      ],
      "source": [
        "%run -i {path}/Act_02/test01.py"
      ]
    },
    {
      "cell_type": "markdown",
      "id": "e622b7b5",
      "metadata": {
        "id": "e622b7b5"
      },
      "source": [
        "### Activity 2.0:\n",
        "\n",
        "With the binary representation please try to implement the formula to recover the number.\n",
        "\n",
        "Hint: Use as input the binary representation as a string and invert its order\n",
        "\n",
        "```\n",
        "number32(BIN):\n",
        "\n",
        "```\n",
        "\n",
        "Where BIN is a string with the binary number\n",
        "\n",
        "Example:\n",
        "\n",
        "\n",
        "Test your solution for the next number:\n",
        "\n",
        "number32(\"00111110001000000000001000010000\")"
      ]
    },
    {
      "cell_type": "code",
      "source": [
        "n = str(input(\"Ingrese el número en binario: \"))\n",
        "\n",
        "def recuperar(n):\n",
        "  l = []\n",
        "  for i in range(len(n)):\n",
        "    l.append(int(n[i]))\n",
        "\n",
        "  c= list(reversed(l))\n",
        "  s=0\n",
        "  for i in range(len(c)):\n",
        "    s = s + (c[i]*(2**i))\n",
        "\n",
        "  return s\n",
        "\n",
        "print(recuperar(n))\n"
      ],
      "metadata": {
        "colab": {
          "base_uri": "https://localhost:8080/"
        },
        "id": "Zo6WLQ7Pxj77",
        "outputId": "9498c06e-ccf0-4e85-d4cd-17c4fb31a642"
      },
      "id": "Zo6WLQ7Pxj77",
      "execution_count": null,
      "outputs": [
        {
          "output_type": "stream",
          "name": "stdout",
          "text": [
            "Ingrese el número en binario: 10101100111\n",
            "1383\n"
          ]
        }
      ]
    },
    {
      "cell_type": "code",
      "execution_count": 3,
      "id": "5f3c6506",
      "metadata": {
        "id": "5f3c6506",
        "colab": {
          "base_uri": "https://localhost:8080/"
        },
        "outputId": "9fcf323e-728e-48a1-b3bd-fe7a3594c737"
      },
      "outputs": [
        {
          "output_type": "execute_result",
          "data": {
            "text/plain": [
              "0.15625786781311035"
            ]
          },
          "metadata": {},
          "execution_count": 3
        }
      ],
      "source": [
        "import struct\n",
        "def number32(BIN):\n",
        "    f = int(BIN,2)\n",
        "    x = struct.unpack('f',struct.pack(\"I\",f))[0]\n",
        "    return x\n",
        "\n",
        "number32(\"00111110001000000000001000010000\")"
      ]
    },
    {
      "cell_type": "code",
      "execution_count": null,
      "id": "155ffd7f",
      "metadata": {
        "id": "155ffd7f",
        "outputId": "7a231d37-1137-43e6-91f7-ca81d41e36ff"
      },
      "outputs": [
        {
          "data": {
            "text/html": [
              "<style>\n",
              "  table { text-align: left; border-collapse: collapse; margin: 1em; caption-side: bottom; font-family: Sans-Serif; font-size: 12px}\n",
              "  caption { text-align: left; padding: 5px }\n",
              "  th, td { border: 2px solid #BFC9CA; padding: 5px }\n",
              "  th { background-color: #BFC9CA }\n",
              "  .passed { background-color: #76D7C4 }\n",
              "  .failed { background-color: #EC7063 }\n",
              "  .skipped { background-color: #EDBB99 }\n",
              "  .score { background-color: #7DCEA0 }\n",
              "  .results .points { display: none }\n",
              "  .results .message { display: block; font-size:smaller; color:#D35400 }\n",
              "  .results .note { display: block; font-size:smaller; font-decoration:italics }\n",
              "  .results .passed::before  { content: \"Passed\" } \n",
              "  .results .skipped::before  { content: \"Skipped\" } \n",
              "  .results .failed::before  { content: \"Failed\" } \n",
              "  .grade .passed  .message:empty::before { content:\"Passed\" }\n",
              "  .grade .failed  .message:empty::before { content:\"Failed\" }\n",
              "  .grade .skipped .message:empty::before { content:\"Skipped\" }   \n",
              "</style>\n",
              "<table class='results'>\n",
              "  <th class='test'>Test</th><th class='result'>Result</th></tr>\n",
              "<tr>\n",
              "  <td class='test'>\n",
              "    La salida debe ser un float \n",
              "    <div class='message'>Error: &lt;class &#x27;float&#x27;&gt; != &lt;class &#x27;NoneType&#x27;&gt; : #-The expect value is &lt;class &#x27;float&#x27;&gt; and the functions test is &lt;class &#x27;NoneType&#x27;&gt;\n",
              "</div>\n",
              "  </td>\n",
              "  <td class='result failed'></td>\n",
              "</tr>\n",
              "<tr>\n",
              "  <td class='test'>\n",
              "    Realizando prueba para un numero binario \n",
              "    <div class='message'>Need resolve the before assignement </div>\n",
              "  </td>\n",
              "  <td class='result skipped'></td>\n",
              "</tr>  <tr><th class='score'>Total Points</th><th class='score'>0</th></tr></table>\n"
            ],
            "text/plain": [
              "<IPython.core.display.HTML object>"
            ]
          },
          "metadata": {},
          "output_type": "display_data"
        }
      ],
      "source": [
        "%run -i {path}/Act_02/test02.py"
      ]
    },
    {
      "cell_type": "markdown",
      "id": "d11e596d",
      "metadata": {
        "id": "d11e596d"
      },
      "source": [
        "### Activity 3.0:\n",
        "1. Write a python script that calculates the double precision number represented by a 64-bits binary.\n",
        "\n",
        "the name of function should be:\n",
        "```\n",
        "number64(BIN):\n",
        "\n",
        "```\n",
        "\n",
        "2. What is the number represented by:\n",
        "\n",
        "BIN=\"0 10000000011 1011100100001111111111111111111111111111111111111111\""
      ]
    },
    {
      "cell_type": "code",
      "execution_count": 7,
      "id": "b0922a1d",
      "metadata": {
        "id": "b0922a1d",
        "colab": {
          "base_uri": "https://localhost:8080/"
        },
        "outputId": "d14256cc-0390-4c17-d335-ee2b34c64415"
      },
      "outputs": [
        {
          "output_type": "execute_result",
          "data": {
            "text/plain": [
              "27.566406249999996"
            ]
          },
          "metadata": {},
          "execution_count": 7
        }
      ],
      "source": [
        "def number64(BIN):\n",
        "    f = int(BIN,2)\n",
        "    x = struct.unpack('d',struct.pack(\"<Q\",f))[0] # \"L\"\n",
        "    return x\n",
        "\n",
        "number64(\"0100000000111011100100001111111111111111111111111111111111111111\") #Toca meterlo sin espacio"
      ]
    },
    {
      "cell_type": "code",
      "execution_count": null,
      "id": "cd48a992",
      "metadata": {
        "scrolled": false,
        "id": "cd48a992",
        "outputId": "774267ac-2898-4e54-fdd3-27baa64d905e"
      },
      "outputs": [
        {
          "data": {
            "text/html": [
              "<style>\n",
              "  table { text-align: left; border-collapse: collapse; margin: 1em; caption-side: bottom; font-family: Sans-Serif; font-size: 12px}\n",
              "  caption { text-align: left; padding: 5px }\n",
              "  th, td { border: 2px solid #BFC9CA; padding: 5px }\n",
              "  th { background-color: #BFC9CA }\n",
              "  .passed { background-color: #76D7C4 }\n",
              "  .failed { background-color: #EC7063 }\n",
              "  .skipped { background-color: #EDBB99 }\n",
              "  .score { background-color: #7DCEA0 }\n",
              "  .results .points { display: none }\n",
              "  .results .message { display: block; font-size:smaller; color:#D35400 }\n",
              "  .results .note { display: block; font-size:smaller; font-decoration:italics }\n",
              "  .results .passed::before  { content: \"Passed\" } \n",
              "  .results .skipped::before  { content: \"Skipped\" } \n",
              "  .results .failed::before  { content: \"Failed\" } \n",
              "  .grade .passed  .message:empty::before { content:\"Passed\" }\n",
              "  .grade .failed  .message:empty::before { content:\"Failed\" }\n",
              "  .grade .skipped .message:empty::before { content:\"Skipped\" }   \n",
              "</style>\n",
              "<table class='results'>\n",
              "  <th class='test'>Test</th><th class='result'>Result</th></tr>\n",
              "<tr>\n",
              "  <td class='test'>\n",
              "    La salida debe ser un float \n",
              "    <div class='message'>Error: &lt;class &#x27;float&#x27;&gt; != &lt;class &#x27;NoneType&#x27;&gt; : #-The expect value is &lt;class &#x27;float&#x27;&gt; and the functions test is &lt;class &#x27;NoneType&#x27;&gt;\n",
              "</div>\n",
              "  </td>\n",
              "  <td class='result failed'></td>\n",
              "</tr>\n",
              "<tr>\n",
              "  <td class='test'>\n",
              "    Realizando prueba para un numero binario \n",
              "    <div class='message'>Need resolve the before assignement </div>\n",
              "  </td>\n",
              "  <td class='result skipped'></td>\n",
              "</tr>  <tr><th class='score'>Total Points</th><th class='score'>0</th></tr></table>\n"
            ],
            "text/plain": [
              "<IPython.core.display.HTML object>"
            ]
          },
          "metadata": {},
          "output_type": "display_data"
        }
      ],
      "source": [
        "%run -i {path}/Act_02/test03.py"
      ]
    }
  ],
  "metadata": {
    "kernelspec": {
      "display_name": "Python 3 (ipykernel)",
      "language": "python",
      "name": "python3"
    },
    "language_info": {
      "codemirror_mode": {
        "name": "ipython",
        "version": 3
      },
      "file_extension": ".py",
      "mimetype": "text/x-python",
      "name": "python",
      "nbconvert_exporter": "python",
      "pygments_lexer": "ipython3",
      "version": "3.10.9"
    },
    "colab": {
      "provenance": []
    }
  },
  "nbformat": 4,
  "nbformat_minor": 5
}