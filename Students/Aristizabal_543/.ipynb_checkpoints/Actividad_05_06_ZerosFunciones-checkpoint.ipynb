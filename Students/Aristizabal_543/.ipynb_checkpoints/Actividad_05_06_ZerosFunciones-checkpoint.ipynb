{
 "cells": [
  {
   "cell_type": "markdown",
   "id": "3a6dc6a1",
   "metadata": {
    "id": "3a6dc6a1"
   },
   "source": [
    "<a href=\"https://colab.research.google.com/github/hernansalinas/autogrades/blob/main/Actividades_clase/Actividad_05_06_ZerosFunciones.ipynb\" target=\"_parent\"><img src=\"https://colab.research.google.com/assets/colab-badge.svg\" alt=\"Open In Colab\"/></a>\n",
    "\n",
    "\n",
    "\n",
    "# Actividad 5\n",
    "### Métodos computacionales para físicos  y astrónomos\n",
    "### Universidad de Antioquia\n",
    "### Prof: Hernan D. Salinas Jiménez\n",
    "Ref: https://github.com/restrepo/ComputationalMethods"
   ]
  },
  {
   "cell_type": "markdown",
   "id": "8e59c672",
   "metadata": {
    "id": "8e59c672"
   },
   "source": [
    "1. Implementar el metodo de la bisección para determinar las raices de una función.\n",
    "2. Implementar el metodo de la newton para determinar las raices de una función.\n",
    "\n",
    "Prueba tu resultado para:\n"
   ]
  },
  {
   "cell_type": "markdown",
   "id": "ee7acda4",
   "metadata": {
    "id": "ee7acda4"
   },
   "source": [
    "  \n",
    " 2. $a e^{x}-2= b\\cos(e^x-2)$"
   ]
  },
  {
   "cell_type": "code",
   "execution_count": 1,
   "id": "d0073dbf",
   "metadata": {
    "id": "d0073dbf"
   },
   "outputs": [],
   "source": [
    "import numpy as np\n",
    "import matplotlib.pyplot as plt\n",
    "\n",
    "def f(x):\n",
    "    return 1 * np.exp(x) - 2 - 1 * np.cos(np.exp(x) - 2)\n",
    "#se toma a=b=1 para simplificar\n",
    "\n",
    "def biseccion(f,a,b,tol):\n",
    "    if f(a)*f(b)>=0:\n",
    "        return 'Error f(a) y f(b) deben tener signo contrario'\n",
    "\n",
    "    p=(a+b)/2\n",
    "\n",
    "    n=0\n",
    "\n",
    "    while abs(f(p))>tol:\n",
    "\n",
    "        if f(a)*f(p)<0:\n",
    "            b=p\n",
    "        if f(p)*f(b)<0:\n",
    "            a=p\n",
    "\n",
    "        p=(a+b)/2\n",
    "        n+=1\n",
    "\n",
    "    print('Raiz encontrada en ', n,' iteraciones')\n",
    "\n",
    "    return p\n"
   ]
  },
  {
   "cell_type": "code",
   "execution_count": 2,
   "id": "fCprIEJi2mQt",
   "metadata": {
    "id": "fCprIEJi2mQt"
   },
   "outputs": [],
   "source": [
    "def df(x):\n",
    "    return 1 * np.exp(x) + 1*np.exp(x) * np.cos(np.exp(x) - 2)\n",
    "\n",
    "def newton_raphson(p0,tol):\n",
    "    n=0 #Contador para las iteraciones\n",
    "    p=p0\n",
    "\n",
    "    while abs(f(p))>tol:\n",
    "        p=p-(f(p))/(df(p))\n",
    "        n+=1\n",
    "\n",
    "    print ('Raiz encontrada en', n, 'iteraciones')\n",
    "\n",
    "    return p"
   ]
  },
  {
   "cell_type": "code",
   "execution_count": 3,
   "id": "6aK-pWC14ohn",
   "metadata": {
    "colab": {
     "base_uri": "https://localhost:8080/",
     "height": 474
    },
    "id": "6aK-pWC14ohn",
    "outputId": "65ba1e4b-d8d5-4d0a-82c6-6c0a880eac25"
   },
   "outputs": [
    {
     "data": {
      "image/png": "[encoded data removed]",
      "text/plain": [
       "<Figure size 640x480 with 1 Axes>"
      ]
     },
     "metadata": {},
     "output_type": "display_data"
    }
   ],
   "source": [
    "#Se grafica para ver donde más o menos está la solución para tomar los intervalos y los puntos\n",
    "a = 1\n",
    "b = 1\n",
    "x = np.linspace(-2, 2, 100)\n",
    "y = a * np.exp(x) - 2 - b * np.cos(np.exp(x) - 2)\n",
    "\n",
    "plt.plot(x, y)\n",
    "plt.xlabel('x')\n",
    "plt.ylabel('y')\n",
    "plt.title('$a e^{x}-2= b\\cos(e^x-2)$')\n",
    "plt.grid()\n",
    "plt.show()"
   ]
  },
  {
   "cell_type": "code",
   "execution_count": 4,
   "id": "1K-G5kYo5WAH",
   "metadata": {
    "colab": {
     "base_uri": "https://localhost:8080/"
    },
    "id": "1K-G5kYo5WAH",
    "outputId": "487bd6d0-ce81-445c-d031-1803db1571df"
   },
   "outputs": [
    {
     "name": "stdout",
     "output_type": "stream",
     "text": [
      "Raiz encontrada en  35  iteraciones\n",
      "La solución por el método de bisección es:  1.0076239716581767\n",
      "Raiz encontrada en 7 iteraciones\n",
      "La solución por el método de Newton-Raphson es:  1.0076239716571265\n"
     ]
    }
   ],
   "source": [
    "#Se verifican las soluciones:\n",
    "\n",
    "a1=0.0\n",
    "b1=3.0\n",
    "p0=1.0\n",
    "\n",
    "print(\"La solución por el método de bisección es: \",biseccion(f,a1,b1,1e-10))\n",
    "print(\"La solución por el método de Newton-Raphson es: \",newton_raphson(p0,1e-10))"
   ]
  },
  {
   "cell_type": "code",
   "execution_count": null,
   "id": "c4cce8ed",
   "metadata": {},
   "outputs": [],
   "source": []
  },
  {
   "cell_type": "code",
   "execution_count": null,
   "id": "22abb7a6",
   "metadata": {},
   "outputs": [],
   "source": []
  }
 ],
 "metadata": {
  "colab": {
   "provenance": []
  },
  "kernelspec": {
   "display_name": "Python 3 (ipykernel)",
   "language": "python",
   "name": "python3"
  },
  "language_info": {
   "codemirror_mode": {
    "name": "ipython",
    "version": 3
   },
   "file_extension": ".py",
   "mimetype": "text/x-python",
   "name": "python",
   "nbconvert_exporter": "python",
   "pygments_lexer": "ipython3",
   "version": "3.10.9"
  }
 },
 "nbformat": 4,
 "nbformat_minor": 5
}
