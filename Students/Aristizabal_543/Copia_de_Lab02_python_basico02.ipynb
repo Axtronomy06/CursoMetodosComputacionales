{
  "cells": [
    {
      "cell_type": "markdown",
      "metadata": {
        "id": "kKNBYkSAIO_-"
      },
      "source": [
        "<a href=\"https://colab.research.google.com/github/hernansalinas/autogrades/blob/main/Laboratorios_Taller/Lab02_python_basico02.ipynb\" target=\"_parent\"><img src=\"https://colab.research.google.com/assets/colab-badge.svg\" alt=\"Open In Colab\"/></a>\n",
        "\n",
        "\n",
        "# Laboratorio 02\n",
        "### Métodos computacionales para físicos  y astrónomos\n",
        "### Universidad de Antioquia\n",
        "### Prof: Hernan D. Salinas Jiménez\n",
        "\n"
      ]
    },
    {
      "cell_type": "code",
      "execution_count": null,
      "metadata": {
        "colab": {
          "base_uri": "https://localhost:8080/"
        },
        "id": "TFmOxrpqWCiE",
        "outputId": "6aadbfb3-f061-4b19-8556-ab29e86a466d"
      },
      "outputs": [
        {
          "output_type": "stream",
          "name": "stdout",
          "text": [
            "Cloning into 'autogradesMetodosComputacionales'...\n",
            "remote: Enumerating objects: 922, done.\u001b[K\n",
            "remote: Counting objects: 100% (222/222), done.\u001b[K\n",
            "remote: Compressing objects: 100% (145/145), done.\u001b[K\n",
            "remote: Total 922 (delta 147), reused 143 (delta 74), pack-reused 700\u001b[K\n",
            "Receiving objects: 100% (922/922), 38.83 MiB | 17.57 MiB/s, done.\n",
            "Resolving deltas: 100% (547/547), done.\n"
          ]
        }
      ],
      "source": [
        "# Ejecutar esta celda antes de cada laboratorio\n",
        "!git clone https://github.com/hernansalinas/autogradesMetodosComputacionales.git"
      ]
    },
    {
      "cell_type": "code",
      "execution_count": null,
      "metadata": {
        "id": "5tCaVJVzIRe3"
      },
      "outputs": [],
      "source": [
        "# Ejecutar esta celda antes de cada laboratorio\n",
        "path=\"autogradesMetodosComputacionales/Laboratorios_Taller/libs\"\n",
        "pathL=\"autogradesMetodosComputacionales/Laboratorios_Taller/libs/Lab_02\"\n",
        "%run -i {path}/libUnitTest.py"
      ]
    },
    {
      "cell_type": "markdown",
      "metadata": {
        "id": "l--LTzupJe4I"
      },
      "source": [
        "## Problemas\n",
        "\n",
        "### Factorial\n",
        "1. Elaborar un algoritmo e implementar en python, el factorial de un número entero `n` ingresado por el usuario.\n",
        "\n",
        "1. Si el número es un entero deberá retornal el factorial del número.\n",
        "2. Si el número es negativo deberá aparecer un mensaje tipo string con el mensaje  \"el número no puede ser negativo\"\n",
        "\n",
        "3. Si el número es pertenece a los reales(float) el mensaje será, el número no puede ser real.\n",
        "\n",
        "\n",
        "     ### Ejemplo de Ejecución\n",
        "    ```python\n",
        "\n",
        "    >>> factorial(3)\n",
        "        6\n",
        "\n",
        "    >>> factorial(1987123)\n",
        "        =???\n",
        "```\n"
      ]
    },
    {
      "cell_type": "code",
      "source": [
        "#Solución.\n",
        "x = int(input(\"Ingrese un número pa'calcularle el factorial: \"))\n",
        "def factorial(x):\n",
        "  if x<0:\n",
        "    print(\"Error, el número no puede ser negativo.\")\n",
        "  else:\n",
        "    i = 1\n",
        "\n",
        "    for j in range(1,x,1):\n",
        "      i = i*j\n",
        "    return i\n",
        "\n",
        "\n",
        "print(\"El factorial del número ingresado es: \",factorial(x))\n",
        "\n",
        "\n"
      ],
      "metadata": {
        "colab": {
          "base_uri": "https://localhost:8080/"
        },
        "id": "FnnBynSeSET8",
        "outputId": "4a3204a2-3f4a-4f79-a820-1fde1f4014bb"
      },
      "execution_count": null,
      "outputs": [
        {
          "output_type": "stream",
          "name": "stdout",
          "text": [
            "Ingrese un número pa'calcularle el factorial: 5\n",
            "El factorial del número ingresado es:  24\n"
          ]
        }
      ]
    },
    {
      "cell_type": "code",
      "execution_count": null,
      "metadata": {
        "colab": {
          "base_uri": "https://localhost:8080/"
        },
        "id": "Z_yv_5NEMRqp",
        "outputId": "c955c0fc-d362-4910-9543-070f38588556"
      },
      "outputs": [
        {
          "name": "stdout",
          "output_type": "stream",
          "text": [
            "La función no ha sido definda o el numero de argumento no es el adecuado\n"
          ]
        }
      ],
      "source": [
        "%run -i {pathL}/test01.py"
      ]
    },
    {
      "cell_type": "markdown",
      "metadata": {
        "id": "Y94jQ_tzdU6l"
      },
      "source": [
        "### Teoria de números\n",
        "\n",
        "Los enunciados 2 y 3 se refieren a la siguiente información:\n",
        "\n",
        "Diseñar un programa en el que entrado  un numero `a`  retorne una variable booleana True or false si cumple que es:\n",
        "\n",
        "2. [Números defectivo](https://es.wikipedia.org/wiki/Número_defectivo) : la suma de los divisores propios es menor que el número.\n",
        "\n",
        "  La rutina se deberá llamar números_defectivos\n",
        "\n",
        "\n",
        "\n",
        "3. [Números abundantes](https://es.wikipedia.org/wiki/Número_abundante): la suma de los divisores es mayor que el número.\n",
        "\n",
        "  La rutina se deberá llamar números_abundantes\n",
        "\n",
        "\n",
        "\n",
        "4. [Números semiperfectos](https://es.wikipedia.org/wiki/N%C3%BAmero_semiperfecto) la suma de todos o algunos de los divisores propios es igual al número.\n",
        "\n",
        "  La rutina se debera llamar numeros_semiperfectos\n",
        "\n",
        "5. [Números perfectos](https://es.wikipedia.org/wiki/N%C3%BAmero_perfecto) la suma de todos sus divisores propios, excepto el mismo numero, es igual al número.\n",
        "\n",
        "   La rutina se deberá llamar numeros_perfectos\n",
        "\n",
        "\n",
        "6. [Números primos](https://es.wikipedia.org/wiki/N%C3%BAmero_primo) el número es divisible unicamente por sí mismo y por 1.\n",
        "   La rutina se deberá llamar numeros_primos\n",
        "\n",
        "\n",
        "Problema no obligatorio:\n",
        "\n",
        "P1. Retornar los 30 primeros números de cada clase"
      ]
    },
    {
      "cell_type": "code",
      "source": [
        "#Solucion de los números defectivos:\n",
        "\n",
        "x = int(input(\"Ingrese un número entero: \"))\n",
        "\n",
        "def números_defectivos(x):\n",
        "\n",
        "  y = list(range(1,x,1))\n",
        "  z = list()\n",
        "\n",
        "  for i in range(1,x,1):\n",
        "    if x%i==0:\n",
        "      z.append(i)\n",
        "    else:\n",
        "      continue\n",
        "  print(\"los divisores son: \",z)\n",
        "  return(z)\n",
        "\n",
        "\n",
        "n=0\n",
        "z = números_defectivos(x)\n",
        "\n",
        "for i in range(len(z)):\n",
        "  n= n+z[i]\n",
        "print(\"La suma de los divisores es: \",n)\n",
        "\n",
        "if n<x:\n",
        "  print(\"el nùmero \", x, \"es defectivo\")\n",
        "else:\n",
        "  print(\"ingrese otro número.\")"
      ],
      "metadata": {
        "colab": {
          "base_uri": "https://localhost:8080/"
        },
        "id": "onKWiDTrRLd4",
        "outputId": "c80ae1ac-0802-4947-dcee-c1edf3ca4dd7"
      },
      "execution_count": null,
      "outputs": [
        {
          "output_type": "stream",
          "name": "stdout",
          "text": [
            "Ingrese un número entero: 20\n",
            "los divisores son:  [1, 2, 4, 5, 10]\n",
            "La suma de los divisores es:  22\n",
            "ingrese otro número.\n"
          ]
        }
      ]
    },
    {
      "cell_type": "code",
      "source": [
        "#Solución de los números abundantes:\n",
        "x = int(input(\"Ingrese un número entero: \"))\n",
        "\n",
        "def numeros_abundantes(x):\n",
        "\n",
        "  y = list(range(1,x,1))\n",
        "  z = list()\n",
        "\n",
        "  for i in range(1,x,1):\n",
        "    if x%i==0:\n",
        "      z.append(i)\n",
        "    else:\n",
        "      continue\n",
        "  print(\"los divisores son: \",z)\n",
        "  return(z)\n",
        "\n",
        "\n",
        "n=0\n",
        "z = numeros_abundantes(x)\n",
        "\n",
        "for i in range(len(z)):\n",
        "  n= n+z[i]\n",
        "print(\"La suma de los divisores es: \",n)\n",
        "\n",
        "if n>x:\n",
        "  print(\"el nùmero \", x, \"es abundante\")\n",
        "else:\n",
        "  print(\"ingrese otro número.\")"
      ],
      "metadata": {
        "colab": {
          "base_uri": "https://localhost:8080/"
        },
        "id": "7qj1ACaVSz8D",
        "outputId": "9c4ed1c6-5879-43f3-d3c6-ccb595f5ad44"
      },
      "execution_count": null,
      "outputs": [
        {
          "output_type": "stream",
          "name": "stdout",
          "text": [
            "Ingrese un número entero: 20\n",
            "los divisores son:  [1, 2, 4, 5, 10]\n",
            "La suma de los divisores es:  22\n",
            "el nùmero  20 es abundante\n"
          ]
        }
      ]
    },
    {
      "cell_type": "code",
      "source": [
        "#Solución de números semiperfectos:\n",
        "\n",
        "from itertools import combinations\n",
        "\n",
        "x = int(input(\"Ingrese un número entero: \"))\n",
        "\n",
        "def números_semiperfectos(x):\n",
        "  y = list(range(1,x,1))\n",
        "\n",
        "  z=list()\n",
        "\n",
        "  for i in range(1,x,1):\n",
        "    if x%i==0:\n",
        "      z.append(i)\n",
        "    else:\n",
        "      continue\n",
        "  print(\"los divisores son: \",z)\n",
        "\n",
        "  m = len(z)\n",
        "  comb= []\n",
        "\n",
        "  for i in range(2,m):\n",
        "    com = list(combinations(z,i))\n",
        "    comb.append(com)\n",
        "\n",
        "  print(\"Las posibles combinatorias son:\",comb)\n",
        "\n",
        "  h=[]\n",
        "  for i in range(len(comb)):\n",
        "    for k in range(len(comb[i])):\n",
        "      s = sum(comb[i][k])\n",
        "      h.append(s)\n",
        "\n",
        "  a= 0\n",
        "\n",
        "  for i in range(len(h)):\n",
        "    if x == h[i]:\n",
        "      a= a+1\n",
        "      break\n",
        "    else:\n",
        "      continue\n",
        "  return bool(a)\n",
        "\n",
        "g = números_semiperfectos(x)\n",
        "\n",
        "if bool(g) == 1:\n",
        "  print(\"El número \",x, \"Es semiperfecto\")\n",
        "else:\n",
        "  print(\"El número \",x, \"NO es semiperfecto\")\n",
        "\n"
      ],
      "metadata": {
        "colab": {
          "base_uri": "https://localhost:8080/"
        },
        "id": "7VR3FvO2YBeP",
        "outputId": "3f64fcb0-99ba-49a1-8a75-3f5a11cc91ae"
      },
      "execution_count": null,
      "outputs": [
        {
          "output_type": "stream",
          "name": "stdout",
          "text": [
            "Ingrese un número entero: 13\n",
            "los divisores son:  [1]\n",
            "Las posibles combinatorias son: []\n",
            "El número  13 NO es semiperfecto\n"
          ]
        }
      ]
    },
    {
      "cell_type": "code",
      "source": [
        "#Solución de números perfectos\n",
        "x = int(input(\"Ingrese un número entero: \"))\n",
        "\n",
        "def números_perfectos(x):\n",
        "\n",
        "  y = list(range(1,x,1))\n",
        "  z = list()\n",
        "\n",
        "  for i in range(1,x,1):\n",
        "    if x%i==0:\n",
        "      z.append(i)\n",
        "    else:\n",
        "      continue\n",
        "  print(\"los divisores son: \",z)\n",
        "  return(z)\n",
        "\n",
        "\n",
        "n=0\n",
        "z = números_perfectos(x)\n",
        "\n",
        "for i in range(len(z)):\n",
        "  n= n+z[i]\n",
        "print(\"La suma de los divisores es: \",n)\n",
        "\n",
        "if n==x:\n",
        "  print(\"el nùmero \", x, \"es perfecto\")\n",
        "else:\n",
        "  print(\"ingrese otro número.\")"
      ],
      "metadata": {
        "colab": {
          "base_uri": "https://localhost:8080/"
        },
        "id": "m_tZ9O9CTqQh",
        "outputId": "d68371a6-7e72-44ce-90b1-07a28d6da8f7"
      },
      "execution_count": null,
      "outputs": [
        {
          "output_type": "stream",
          "name": "stdout",
          "text": [
            "Ingrese un número entero: 6\n",
            "los divisores son:  [1, 2, 3]\n",
            "La suma de los divisores es:  6\n",
            "el nùmero  6 es perfecto\n"
          ]
        }
      ]
    },
    {
      "cell_type": "code",
      "source": [
        "#Solución de números primos.\n",
        "x = int(input(\"Ingrese un número entero: \"))\n",
        "\n",
        "def números_primos(x):\n",
        "\n",
        "  y = list(range(1,x,1))\n",
        "  z = list()\n",
        "\n",
        "  for i in range(1,x,1):\n",
        "    if x%i==0:\n",
        "      z.append(i)\n",
        "    else:\n",
        "      continue\n",
        "  print(\"los divisores son: \",z)\n",
        "  return(z)\n",
        "\n",
        "\n",
        "n=0\n",
        "z = números_perfectos(x)\n",
        "\n",
        "if len(z)==1:\n",
        "  print(\"el nùmero \", x, \"es primo\")\n",
        "else:\n",
        "  print(\"ingrese otro número, este no es primo.\")"
      ],
      "metadata": {
        "colab": {
          "base_uri": "https://localhost:8080/"
        },
        "id": "D-eRZT8xUI3o",
        "outputId": "24a4f58e-f70a-47d0-ef22-b9aa2a6f6240"
      },
      "execution_count": null,
      "outputs": [
        {
          "output_type": "stream",
          "name": "stdout",
          "text": [
            "Ingrese un número entero: 10\n",
            "los divisores son:  [1, 2, 5]\n",
            "ingrese otro número.\n"
          ]
        }
      ]
    },
    {
      "cell_type": "code",
      "execution_count": null,
      "metadata": {
        "colab": {
          "base_uri": "https://localhost:8080/",
          "height": 215
        },
        "id": "XSyDVlnzi9KL",
        "outputId": "7f5e672b-930b-4a60-f9ce-37a77fead65f"
      },
      "outputs": [
        {
          "data": {
            "text/html": [
              "<style>\n",
              "  table { text-align: left; border-collapse: collapse; margin: 1em; caption-side: bottom; font-family: Sans-Serif; font-size: 12px}\n",
              "  caption { text-align: left; padding: 5px }\n",
              "  th, td { border: 2px solid #BFC9CA; padding: 5px }\n",
              "  th { background-color: #BFC9CA }\n",
              "  .passed { background-color: #76D7C4 }\n",
              "  .failed { background-color: #EC7063 }\n",
              "  .skipped { background-color: #EDBB99 }\n",
              "  .score { background-color: #7DCEA0 }\n",
              "  .results .points { display: none }\n",
              "  .results .message { display: block; font-size:smaller; color:#D35400 }\n",
              "  .results .note { display: block; font-size:smaller; font-decoration:italics }\n",
              "  .results .passed::before  { content: \"Passed\" } \n",
              "  .results .skipped::before  { content: \"Skipped\" } \n",
              "  .results .failed::before  { content: \"Failed\" } \n",
              "  .grade .passed  .message:empty::before { content:\"Passed\" }\n",
              "  .grade .failed  .message:empty::before { content:\"Failed\" }\n",
              "  .grade .skipped .message:empty::before { content:\"Skipped\" }   \n",
              "</style>\n",
              "<table class='results'>\n",
              "  <th class='test'>Test</th><th class='result'>Result</th></tr>\n",
              "<tr>\n",
              "  <td class='test'>\n",
              "    Números defectivos, la variable debe ser booleana  \n",
              "    <div class='message'>Done</div>\n",
              "  </td>\n",
              "  <td class='result passed'></td>\n",
              "</tr>\n",
              "<tr>\n",
              "  <td class='test'>\n",
              "    Comprobando si el número 26 es defectivo   \n",
              "    <div class='message'>Done</div>\n",
              "  </td>\n",
              "  <td class='result passed'></td>\n",
              "</tr>\n",
              "<tr>\n",
              "  <td class='test'>\n",
              "    Comprobando si el 6 es un número es defectivo   \n",
              "    <div class='message'>Error: False != True : #-The expect value is False and the functions test is True\n",
              "</div>\n",
              "  </td>\n",
              "  <td class='result failed'></td>\n",
              "</tr>  <tr><th class='score'>Total Points</th><th class='score'>2</th></tr></table>\n"
            ],
            "text/plain": [
              "<IPython.core.display.HTML object>"
            ]
          },
          "metadata": {},
          "output_type": "display_data"
        }
      ],
      "source": [
        "%run -i {pathL}/test02.py"
      ]
    },
    {
      "cell_type": "code",
      "execution_count": null,
      "metadata": {
        "colab": {
          "base_uri": "https://localhost:8080/",
          "height": 215
        },
        "id": "DfHfIk0DkQev",
        "outputId": "d2ca69c0-3b14-44cb-e42e-6834d170e333"
      },
      "outputs": [
        {
          "data": {
            "text/html": [
              "<style>\n",
              "  table { text-align: left; border-collapse: collapse; margin: 1em; caption-side: bottom; font-family: Sans-Serif; font-size: 12px}\n",
              "  caption { text-align: left; padding: 5px }\n",
              "  th, td { border: 2px solid #BFC9CA; padding: 5px }\n",
              "  th { background-color: #BFC9CA }\n",
              "  .passed { background-color: #76D7C4 }\n",
              "  .failed { background-color: #EC7063 }\n",
              "  .skipped { background-color: #EDBB99 }\n",
              "  .score { background-color: #7DCEA0 }\n",
              "  .results .points { display: none }\n",
              "  .results .message { display: block; font-size:smaller; color:#D35400 }\n",
              "  .results .note { display: block; font-size:smaller; font-decoration:italics }\n",
              "  .results .passed::before  { content: \"Passed\" } \n",
              "  .results .skipped::before  { content: \"Skipped\" } \n",
              "  .results .failed::before  { content: \"Failed\" } \n",
              "  .grade .passed  .message:empty::before { content:\"Passed\" }\n",
              "  .grade .failed  .message:empty::before { content:\"Failed\" }\n",
              "  .grade .skipped .message:empty::before { content:\"Skipped\" }   \n",
              "</style>\n",
              "<table class='results'>\n",
              "  <th class='test'>Test</th><th class='result'>Result</th></tr>\n",
              "<tr>\n",
              "  <td class='test'>\n",
              "    Números abundates, la variable debe ser booleana  \n",
              "    <div class='message'>Done</div>\n",
              "  </td>\n",
              "  <td class='result passed'></td>\n",
              "</tr>\n",
              "<tr>\n",
              "  <td class='test'>\n",
              "    Comprobando si el número 20 es abundate   \n",
              "    <div class='message'>Done</div>\n",
              "  </td>\n",
              "  <td class='result passed'></td>\n",
              "</tr>\n",
              "<tr>\n",
              "  <td class='test'>\n",
              "    Comprobando si el 6 es un número es abundante   \n",
              "    <div class='message'>Error: False != True : #-The expect value is False and the functions test is True\n",
              "</div>\n",
              "  </td>\n",
              "  <td class='result failed'></td>\n",
              "</tr>  <tr><th class='score'>Total Points</th><th class='score'>2</th></tr></table>\n"
            ],
            "text/plain": [
              "<IPython.core.display.HTML object>"
            ]
          },
          "metadata": {},
          "output_type": "display_data"
        }
      ],
      "source": [
        "%run -i {pathL}/test03.py"
      ]
    },
    {
      "cell_type": "code",
      "execution_count": null,
      "metadata": {
        "id": "MJzLOXxHqKrz"
      },
      "outputs": [],
      "source": [
        "%run -i {pathL}/test04.py"
      ]
    },
    {
      "cell_type": "code",
      "execution_count": null,
      "metadata": {
        "id": "m9bNF9I6qMnD"
      },
      "outputs": [],
      "source": [
        "%run -i {pathL}/test05.py"
      ]
    },
    {
      "cell_type": "code",
      "execution_count": null,
      "metadata": {
        "id": "4uRbgtG8qN25"
      },
      "outputs": [],
      "source": [
        "%run -i {pathL}/test06.py"
      ]
    },
    {
      "cell_type": "markdown",
      "metadata": {
        "id": "WXOT_ssoJh8x"
      },
      "source": [
        "\n",
        "7. Diseñar un programa en el que entrado dos números `a`  y `b` retorne una variable booleana **True** o **false**.\n",
        "\n",
        "  [Números amigos](https://es.wikipedia.org/wiki/N%C3%BAmeros_amigos) `a` y `b` tales que a es la suma de los divisores propios de `b` y viceversa.\n",
        "    La rutina se debera llamar numeros_amigos\n",
        "\n",
        "\n",
        "\n",
        "\n",
        "P2. Retornar los 10 primeros pares de numeros perfectos, semiperfectos, amigos\n",
        "\n"
      ]
    },
    {
      "cell_type": "code",
      "source": [
        "#Números amigos\n",
        "\n",
        "a= int(input(\"Ingrese un número entero: \"))\n",
        "b= int(input(\"Ingrese un número entero: \"))\n",
        "\n",
        "al = list(range(1,a,1))\n",
        "bl = list(range(1,b,1))\n",
        "va=list()\n",
        "vb=list()\n",
        "for i in range(1,a,1):\n",
        "  if a%i==0:\n",
        "    va.append(i)\n",
        "  else:\n",
        "    continue\n",
        "\n",
        "for i in range(1,b,1):\n",
        "  if b%i==0:\n",
        "    vb.append(i)\n",
        "  else:\n",
        "    continue\n",
        "\n",
        "print(\"los divisores de a son: \",va)\n",
        "print(\"los divisores de b son: \",vb)\n",
        "\n",
        "m=0\n",
        "n=0\n",
        "\n",
        "for i in range(len(va)):\n",
        "  n= n+va[i]\n",
        "for i in range(len(vb)):\n",
        "  m= m+vb[i]\n",
        "\n",
        "print(\"La suma de los divisores de los nùmeros es: \",m,\"y\",n)\n",
        "\n",
        "if m==a and n==b:\n",
        "  print(\"los nùmeros \",a,\"y\",b,\"son amigos\")\n",
        "else:\n",
        "  print(\"los nùmeros \",a,\"y\",b,\" no son amigos\")"
      ],
      "metadata": {
        "colab": {
          "base_uri": "https://localhost:8080/"
        },
        "id": "5-w5vbQ9ZJ4H",
        "outputId": "c10347ac-0544-4e3b-ca7f-ae35dd57c693"
      },
      "execution_count": null,
      "outputs": [
        {
          "output_type": "stream",
          "name": "stdout",
          "text": [
            "Ingrese un número entero: 100\n",
            "Ingrese un número entero: 20\n",
            "los divisores de a son:  [1, 2, 4, 5, 10, 20, 25, 50]\n",
            "los divisores de b son:  [1, 2, 4, 5, 10]\n",
            "La suma de los divisores de los nùmeros es:  22 y 117\n",
            "los nùmeros  100 y 20  no son amigos\n"
          ]
        }
      ]
    },
    {
      "cell_type": "code",
      "execution_count": null,
      "metadata": {
        "colab": {
          "base_uri": "https://localhost:8080/",
          "height": 215
        },
        "id": "VKsxuvsll5gm",
        "outputId": "1389a307-893b-4bf9-a23f-8ca42460de2b"
      },
      "outputs": [
        {
          "data": {
            "text/html": [
              "<style>\n",
              "  table { text-align: left; border-collapse: collapse; margin: 1em; caption-side: bottom; font-family: Sans-Serif; font-size: 12px}\n",
              "  caption { text-align: left; padding: 5px }\n",
              "  th, td { border: 2px solid #BFC9CA; padding: 5px }\n",
              "  th { background-color: #BFC9CA }\n",
              "  .passed { background-color: #76D7C4 }\n",
              "  .failed { background-color: #EC7063 }\n",
              "  .skipped { background-color: #EDBB99 }\n",
              "  .score { background-color: #7DCEA0 }\n",
              "  .results .points { display: none }\n",
              "  .results .message { display: block; font-size:smaller; color:#D35400 }\n",
              "  .results .note { display: block; font-size:smaller; font-decoration:italics }\n",
              "  .results .passed::before  { content: \"Passed\" } \n",
              "  .results .skipped::before  { content: \"Skipped\" } \n",
              "  .results .failed::before  { content: \"Failed\" } \n",
              "  .grade .passed  .message:empty::before { content:\"Passed\" }\n",
              "  .grade .failed  .message:empty::before { content:\"Failed\" }\n",
              "  .grade .skipped .message:empty::before { content:\"Skipped\" }   \n",
              "</style>\n",
              "<table class='results'>\n",
              "  <th class='test'>Test</th><th class='result'>Result</th></tr>\n",
              "<tr>\n",
              "  <td class='test'>\n",
              "    Números amigos, la variable debe ser booleana  \n",
              "    <div class='message'>Done</div>\n",
              "  </td>\n",
              "  <td class='result passed'></td>\n",
              "</tr>\n",
              "<tr>\n",
              "  <td class='test'>\n",
              "    Comprobando si el número (8320, 7752) es amigo   \n",
              "    <div class='message'>Done</div>\n",
              "  </td>\n",
              "  <td class='result passed'></td>\n",
              "</tr>\n",
              "<tr>\n",
              "  <td class='test'>\n",
              "    Comprobando si  (118, 110) es un número es amigo   \n",
              "    <div class='message'>Error: False != True : #-The expect value is False and the functions test is True\n",
              "</div>\n",
              "  </td>\n",
              "  <td class='result failed'></td>\n",
              "</tr>  <tr><th class='score'>Total Points</th><th class='score'>2</th></tr></table>\n"
            ],
            "text/plain": [
              "<IPython.core.display.HTML object>"
            ]
          },
          "metadata": {},
          "output_type": "display_data"
        }
      ],
      "source": [
        "=%run -i {pathL}/test07.py"
      ]
    },
    {
      "cell_type": "markdown",
      "metadata": {
        "id": "CTw0tXZlJoDp"
      },
      "source": [
        "3. Determine si un número `n` entero ingresado por el usuario es un [palíndromo](https://en.wikipedia.org/wiki/Palindromic_number), (Retorne `True` en caso afirmativo y `False` en caso contrario)\n",
        "\n",
        "```python\n",
        "\n",
        "\n",
        "    >>> palindromo(3333333)\n",
        "        True\n",
        "\n",
        "    >>> palindromo(2323)\n",
        "        True\n",
        "        \n",
        "    >>> palindromo(1111349111111)\n",
        "        False\n",
        "```\n",
        "\n",
        "\n"
      ]
    },
    {
      "cell_type": "code",
      "source": [
        "x = int(input(\"Ingrese un número: \"))\n",
        "\n",
        "def palindromo(x):\n",
        "  y = list(str(x))\n",
        "  z=y[::-1]\n",
        "\n",
        "  if y==z:\n",
        "    return True\n",
        "  else:\n",
        "    return False\n",
        "\n",
        "print(palindromo(x))"
      ],
      "metadata": {
        "colab": {
          "base_uri": "https://localhost:8080/"
        },
        "id": "JbhODCwHc9n5",
        "outputId": "a391794e-9fdd-4f8f-ab0d-ba9c93ec8455"
      },
      "execution_count": null,
      "outputs": [
        {
          "output_type": "stream",
          "name": "stdout",
          "text": [
            "Ingrese un número: 101\n",
            "True\n"
          ]
        }
      ]
    },
    {
      "cell_type": "markdown",
      "metadata": {
        "id": "hBsfPzh_JuZg"
      },
      "source": [
        "8 Construir un programa en el que  entrado un arreglo de números se  ordenen de forma ascendente, Ver algoritmo\n",
        "[Quicksort](https://es.wikipedia.org/wiki/Quicksort).\n",
        "\n",
        "\n",
        "```python\n",
        "\n",
        "\n",
        "<<< v = [22, 32, 42, 12, 22, 31, 41, 11, 12, 232, 24, 12, 22]\n",
        "<<< def quicksort(v):\n",
        "\n",
        "<<<     return v\n",
        "<<< w = print(quicksort(v))\n",
        "<<< [11, 12, 12, 12, 22, 22, 22, 24, 31, 32, 41, 42, 232]\n",
        "\n",
        "```\n",
        "\n",
        "Sólo para comprobar tu código,  puedes hacer uso del comando sort de python.\n",
        "```python\n",
        "<<< b = [22, 32, 42, 12, 22, 31, 41, 11, 12, 232, 24, 12, 22]\n",
        "\n",
        "<<< print(b.sort())\n",
        "\n",
        "<<< [11, 12, 12, 12, 22, 22, 22, 24, 31, 32, 41, 42, 232]\n",
        "```"
      ]
    },
    {
      "cell_type": "code",
      "source": [
        "#Algoritmo quicksort\n",
        "\n",
        "l= [22, 32, 42, 12, 22, 31, 41, 11, 12, 232, 24, 12, 22]\n",
        "\n",
        "def particion(l):\n",
        "  piv = l[0]\n",
        "  menores = []\n",
        "  mayores = []\n",
        "\n",
        "  for i in range(1,len(l)):\n",
        "\n",
        "    if l[i]<piv:\n",
        "      menores.append(l[i])\n",
        "    else:\n",
        "      mayores.append(l[i])  #Nótese que aquí también entran los que son iguales al pivote\n",
        "\n",
        "  return menores, piv, mayores\n",
        "\n",
        "def quicksort(l):\n",
        "\n",
        "  if len(l)<2:\n",
        "    return l\n",
        "\n",
        "  menores, piv, mayores = particion(l)\n",
        "\n",
        "  return quicksort(menores) + [piv] + quicksort(mayores)\n",
        "\n",
        "\n",
        "\n",
        "print(quicksort(l))\n",
        "\n"
      ],
      "metadata": {
        "id": "jYCKK74ni4DQ",
        "colab": {
          "base_uri": "https://localhost:8080/"
        },
        "outputId": "393ccd9b-61f5-4278-dcfa-f5668d5529a8"
      },
      "execution_count": 2,
      "outputs": [
        {
          "output_type": "stream",
          "name": "stdout",
          "text": [
            "[11, 12, 12, 12, 22, 22, 22, 24, 31, 32, 41, 42, 232]\n"
          ]
        }
      ]
    }
  ],
  "metadata": {
    "colab": {
      "provenance": []
    },
    "kernelspec": {
      "display_name": "Python 3 (ipykernel)",
      "language": "python",
      "name": "python3"
    },
    "language_info": {
      "codemirror_mode": {
        "name": "ipython",
        "version": 3
      },
      "file_extension": ".py",
      "mimetype": "text/x-python",
      "name": "python",
      "nbconvert_exporter": "python",
      "pygments_lexer": "ipython3",
      "version": "3.10.9"
    }
  },
  "nbformat": 4,
  "nbformat_minor": 0
}