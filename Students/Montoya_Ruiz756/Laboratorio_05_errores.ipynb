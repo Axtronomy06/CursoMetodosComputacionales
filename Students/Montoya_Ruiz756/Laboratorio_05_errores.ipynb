{
  "cells": [
    {
      "cell_type": "markdown",
      "metadata": {
        "id": "QbkE2OYeca41"
      },
      "source": [
        "<a href=\"https://colab.research.google.com/github/hernansalinas/autogrades/blob/main/Laboratorios_Taller/Lab05_errores.ipynb\" target=\"_parent\"><img src=\"https://colab.research.google.com/assets/colab-badge.svg\" alt=\"Open In Colab\"/></a>"
      ]
    },
    {
      "cell_type": "markdown",
      "metadata": {
        "id": "z_gkZBk6K8TH"
      },
      "source": [
        "# Tipos de errores.\n",
        "\n",
        "Errores en la computación, ver libro [Computational Physics. ](https://www.dropbox.com/s/n06ul2r4l65khl6/Computational%20Physics%20-%20Problem%20Solving%20with%20Computers%2C%203527406263.pdf?dl=0)\n",
        ":\n",
        "\n",
        "\n",
        ">- ### Blunder or bad theory\n",
        "Errores tipográficos de entrada, errores en los datos, razonamientos teoricos malos, entre otros.\n",
        ">- ### Errores aleatorios.\n",
        "Impresiones causadas por eventos tales como fluctuaciones electronicas, rayos cósmicos. Se presentan rara vez, y y tiene una mayor probabilidad de ocurrir cuando los calculos se demoran del orden de semanas.\n",
        ">- ### Errores de aproximación:\n",
        "Se presentan por truncamiento de los modelos numéricos, por ejemplol si consideramos la serie asociada a la función\n",
        "$\\sin x$:\n",
        "\n",
        "\\begin{equation}\n",
        "\\sin x = \\sum_{n=1}^{\\infty} \\frac{(-1)^{n-1}x^{2n-1}}{(2n-1)!}\n",
        "\\end{equation}\n",
        "\n",
        "\n",
        "\\begin{equation}\n",
        "\\sin x = \\sum_{n=1}^{N} \\frac{(-1)^{n-1}x^{2n-1}}{(2n-1)!} + \\varepsilon(x, N)\n",
        "\\end{equation}\n",
        "\n",
        "\n",
        "> El error numérico  en el calculo computacional es del orden de  $\\varepsilon(x, N)$, dado que el computador debe truncar la serie en un N determinado.\n",
        "\n",
        "\n",
        ">- ### Errores de redondeo:\n",
        "Análogos a los errores  de  cantidad experimentales.\n"
      ]
    },
    {
      "cell_type": "markdown",
      "metadata": {
        "id": "OFqJhhVmLhdX"
      },
      "source": []
    },
    {
      "cell_type": "markdown",
      "metadata": {
        "id": "VVDQ_eH5Jjxw"
      },
      "source": [
        "# Errores de redondeo:\n",
        "## Cancelacion substractiva\n",
        "\n",
        "Sea $b_c = b (1+ \\epsilon)$ y Sea $c_c = c (1+ \\epsilon)$ La representacion de dos números en el computador.  Calculemos la diferencia entre estos dos números:\n",
        "\n",
        "\n",
        "$a_c = (b-c) + b\\epsilon_b -c\\epsilon_c = a+ b\\epsilon_b -c\\epsilon_c$\n",
        "\n",
        "$\\frac{a_c}{a} = 1 + \\frac{b}{a}\\epsilon_b -\\frac{c}{a}\\epsilon_c $\n",
        "\n",
        "$\\frac{a_c}{a} = 1 + \\frac{b}{a} \\max(\\epsilon_b,\\epsilon_c) $\n",
        "\n",
        "Si $b\\approx c$, el valor de a es un valor muy grande.\n",
        "\n",
        "\n",
        "\n"
      ]
    },
    {
      "cell_type": "code",
      "execution_count": null,
      "metadata": {
        "id": "O-SP8rPyDQ34"
      },
      "outputs": [],
      "source": [
        "import numpy as np"
      ]
    },
    {
      "cell_type": "code",
      "execution_count": null,
      "metadata": {
        "colab": {
          "base_uri": "https://localhost:8080/"
        },
        "id": "wqrGTlWw1OUR",
        "outputId": "a9dcadd4-b8fc-4dcf-9fe3-617f121da205"
      },
      "outputs": [
        {
          "output_type": "stream",
          "name": "stdout",
          "text": [
            "1.9073486e-06\n",
            "4.632568359374996\n"
          ]
        }
      ],
      "source": [
        "print(np.float32(12.123452) - np.float32(12.123450))\n",
        "diff = np.float32(12.123452) - np.float32(12.123450)\n",
        "valor_real = 0.000002\n",
        "error = abs(diff-valor_real)/ valor_real*100\n",
        "print(error)\n",
        "#(12.123452/valor_real)*1/(2**31)"
      ]
    },
    {
      "cell_type": "code",
      "execution_count": null,
      "metadata": {
        "colab": {
          "base_uri": "https://localhost:8080/"
        },
        "id": "AeDXTAN7OTcn",
        "outputId": "477fd6a6-3e41-4836-d5fc-ce74ffbf77ec"
      },
      "outputs": [
        {
          "output_type": "stream",
          "name": "stdout",
          "text": [
            "0.0\n",
            "5.0\n",
            "¿Cual es la diferencia entre estas dos restas?\n"
          ]
        }
      ],
      "source": [
        "print(np.float32(1234567895) - np.float32(1234567890))\n",
        "print(np.float64(1234567895) - np.float64(1234567890))\n",
        "print(\"¿Cual es la diferencia entre estas dos restas?\")"
      ]
    },
    {
      "cell_type": "code",
      "execution_count": null,
      "metadata": {
        "colab": {
          "base_uri": "https://localhost:8080/"
        },
        "id": "O5uQVd-TZmPQ",
        "outputId": "006fcd80-03c9-436f-ad5e-6809765e62c6"
      },
      "outputs": [
        {
          "name": "stdout",
          "output_type": "stream",
          "text": [
            "4.0\n",
            "5.0\n",
            "¿Cual es la diferencia entre estas dos restas?\n"
          ]
        }
      ],
      "source": [
        "print(np.float32(12345675) - np.float32(12345671))\n",
        "print(np.float64(1234567895) - np.float64(1234567890))\n",
        "print(\"¿Cual es la diferencia entre estas dos restas?\")"
      ]
    },
    {
      "cell_type": "code",
      "execution_count": null,
      "metadata": {
        "colab": {
          "base_uri": "https://localhost:8080/"
        },
        "id": "gSutoSLxR7A1",
        "outputId": "aa3a2b60-8cc1-4425-870a-675d869921d3"
      },
      "outputs": [
        {
          "data": {
            "text/plain": [
              "1.9073486328125e-06"
            ]
          },
          "execution_count": 28,
          "metadata": {},
          "output_type": "execute_result"
        }
      ],
      "source": [
        "xt = 12345678912.345678\n",
        "yt = 12345678912.345677\n",
        "xt-yt"
      ]
    },
    {
      "cell_type": "code",
      "execution_count": null,
      "metadata": {
        "colab": {
          "base_uri": "https://localhost:8080/"
        },
        "id": "7I__xYI7Sq98",
        "outputId": "67bd8bb6-fd86-4eaf-f958-1e36bf6ceaec"
      },
      "outputs": [
        {
          "data": {
            "text/plain": [
              "-9.999999999999995e-17"
            ]
          },
          "execution_count": 29,
          "metadata": {},
          "output_type": "execute_result"
        }
      ],
      "source": [
        "xt = 0.0000000000000005\n",
        "yt = 0.0000000000000006\n",
        "xt-yt"
      ]
    },
    {
      "cell_type": "code",
      "execution_count": null,
      "metadata": {
        "colab": {
          "base_uri": "https://localhost:8080/"
        },
        "id": "vqwW1XbkYiOS",
        "outputId": "55a31f4b-f49f-4a3a-d2b6-be1ef1222402"
      },
      "outputs": [
        {
          "name": "stdout",
          "output_type": "stream",
          "text": [
            "1.2345678912e-09\n"
          ]
        }
      ],
      "source": [
        "a = np.float16(1.2345678912345678912)-np.float16(1.2345678900000000000)\n",
        "r = 0.0000000012345678912\n",
        "print(r)"
      ]
    },
    {
      "cell_type": "markdown",
      "metadata": {
        "id": "D7wS4CRCMdcJ"
      },
      "source": [
        "## Errores de acumulación\n",
        "$\\epsilon_{ro}=\\sqrt{N}\\epsilon_m$\n"
      ]
    },
    {
      "cell_type": "code",
      "execution_count": null,
      "metadata": {
        "colab": {
          "base_uri": "https://localhost:8080/"
        },
        "id": "KJA7qyMPOkRH",
        "outputId": "535a0646-ff6c-41ae-c2e3-5d4514051ba9"
      },
      "outputs": [
        {
          "name": "stdout",
          "output_type": "stream",
          "text": [
            "Valor a través de la suma:  100000.00149011612\n",
            "Valor exacto:  100000.0\n",
            "Error  1.4901161193847656e-06\n"
          ]
        }
      ],
      "source": [
        "#Con numeros de 32 bit.\n",
        "eps = np. float64(0)\n",
        "N = 1000000\n",
        "for i in range(0, N):\n",
        " eps = np.float32(0.1) + eps\n",
        "\n",
        "exac = N*0.1\n",
        "error = np.abs(exac-eps) / exac\n",
        "print(\"Valor a través de la suma: \", eps)\n",
        "print(\"Valor exacto: \",  exac)\n",
        "print(\"Error \", error*100 )\n"
      ]
    },
    {
      "cell_type": "markdown",
      "metadata": {
        "id": "rjPq2MFFObTp"
      },
      "source": [
        "\n",
        "## Errores de aproximación.\n",
        " $\\epsilon_{aprox}=\\frac{\\alpha}{N^{\\beta}}$\n"
      ]
    },
    {
      "cell_type": "markdown",
      "metadata": {
        "id": "uisq8TnEOftp"
      },
      "source": [
        "## Error total:\n",
        " $\\epsilon_{aprox} = \\epsilon_{ro}+\\epsilon_{aprox}$\n",
        "\n"
      ]
    },
    {
      "cell_type": "markdown",
      "metadata": {
        "id": "4XGEWL7NN1H-"
      },
      "source": [
        "# Errores de una serie\n",
        "\n",
        "- ¿Converge la serie?\n",
        "- ¿Qué tan preciso es la convergencia?\n",
        "- Costo computacional\n",
        "\n",
        "\n",
        "## Error de una serie\n",
        "Sea $x$ el valor verdadero y $x^*$ el valor aproximado\n",
        "\n",
        "- Error absoluto : se define como\n",
        "\\begin{equation*}\n",
        "\\epsilon_{abs}= |x-x^*|\n",
        "\\end{equation*}\n",
        "- Error relativo : es dado por\n",
        "\\begin{equation*}\n",
        "\\epsilon_{rel}= \\frac{|x-x^*|}{|x|}\n",
        "\\end{equation*}\n",
        "- Error en series : El error para truncar una serie se toma como\n",
        "\\begin{equation*}\n",
        "\\epsilon_{aprox}= \\left|\\frac{nth\\hbox{-term}}{\\hbox{suma}}\\right|< \\hbox{eps}\n",
        "\\end{equation*}\n",
        "La tolerancia normalmente se toma como un número pequeño, por ejemplo `eps` $=10^{-10}$. Note que no se trunca la serie usando $|{nth}\\hbox{-term}|<$ eps,   usar esta forma puede conducir a errores debido a que no se compara con el valor de la suma (un millon compardo a uno es grande, pero comparado a diez mil millones es pequeño).\n",
        "\n",
        "Tomemos como ejemplo otra vez el cálculo de la serie del seno,\n"
      ]
    },
    {
      "cell_type": "markdown",
      "metadata": {
        "id": "reiKGKshRPay"
      },
      "source": [
        "# Laboratorio\n",
        "\n",
        "## 1. Exponencial, serie alternante (serieEn)\n",
        "Objetivo: Analizar el uso de la cancelación substractiva\n",
        "\n",
        "\n",
        "Copia textual del libro  [Computational Physics. ](https://www.dropbox.com/s/n06ul2r4l65khl6/Computational%20Physics%20-%20Problem%20Solving%20with%20Computers%2C%203527406263.pdf?dl=0)\n",
        "\n",
        "- Write a program that calculates $e^{-x}$\n",
        "\n",
        "\\begin{equation}\n",
        "e^{-x}=\\sum_{n=0}^{N}  (-1)^n \\frac{x^{n}}{n!}\n",
        "\\end{equation}\n",
        "\n",
        "\n",
        "- Calculate your series for $x \\le 1$ and compare it to the built-in function\n",
        "exp(x) (you may assume that the built-in exponential function is exact).\n",
        "You should pick an N for which the next term in the series is no more\n",
        "than $10^{-7}$ of the sum up to that point\n",
        "\n",
        "\\begin{equation}\n",
        "\\left| \\frac{(-x)^{N+1}}{(N+1)!} \\right | \\le \\left| 10^{-7} \\sum_{N=0}^{N} \\frac{(-x)^{n}}{n!} \\right|\n",
        "\\end{equation}\n",
        "\n",
        "- Examine the terms in the series for $x\\approx 10$ and observe the significant subtractive cancellations that occur when large terms add together to give small answers. In particular, print out the near-perfect cancellation\n",
        "at $n \\approx x − 1$.\n",
        "\n",
        "- See if better precision is obtained by being clever and using exp(−x) = 1/ exp(x) for large x values. This eliminates subtractive cancellation, but does not eliminate all roundoff errors\n",
        "\n",
        "- By progressively increasing x from 1 to 10, and then from 10 to 100, use your program to determine experimentally when the series starts to lose accuracy, and when the series no longer converges\n",
        "\n",
        "- Make a series of graphs of the error versus N for different values of x."
      ]
    },
    {
      "cell_type": "code",
      "source": [
        "import numpy as np\n",
        "import matplotlib.pyplot as plt\n",
        "from math import factorial"
      ],
      "metadata": {
        "id": "zzZenpdhe-J1"
      },
      "execution_count": null,
      "outputs": []
    },
    {
      "cell_type": "code",
      "source": [
        "def exponencial(x,n): # Dado u x, con n iteracciones calcule e^(-x)\n",
        "  exp = 0 # Inicia variable\n",
        "  for i in range(n):\n",
        "    exp += (-1)**i * x**i / factorial(i)\n",
        "  return exp"
      ],
      "metadata": {
        "id": "bzRNm3c9hkQA"
      },
      "execution_count": null,
      "outputs": []
    },
    {
      "cell_type": "code",
      "source": [
        "x = 0.1\n",
        "n = 100\n",
        "el = exponencial(x,n)\n",
        "e_exact = np.exp(-x)\n",
        "print(f\"{el}\\n{e_exact}\")"
      ],
      "metadata": {
        "colab": {
          "base_uri": "https://localhost:8080/"
        },
        "id": "ldqPgXuJf_fE",
        "outputId": "825d6d09-8401-4b6d-d3bf-e6abdf49e136"
      },
      "execution_count": null,
      "outputs": [
        {
          "output_type": "stream",
          "name": "stdout",
          "text": [
            "0.9048374180359596\n",
            "0.9048374180359595\n"
          ]
        }
      ]
    },
    {
      "cell_type": "code",
      "source": [
        "def exponencial_truncado(x,n):\n",
        "  ex = exponencial(x,n)\n",
        "  tresh = abs(1e-7*ex)\n",
        "  exp_ = 0\n",
        "  for i in range(n):\n",
        "    exp_ = abs((-x)**(i+1)/factorial(i+1) )\n",
        "    if exp_ <= tresh:\n",
        "      break\n",
        "  exp1 = exponencial(x,i)\n",
        "  return exp1, i"
      ],
      "metadata": {
        "id": "NPqY_2nZiFOZ"
      },
      "execution_count": null,
      "outputs": []
    },
    {
      "cell_type": "code",
      "source": [
        "x = 0.15\n",
        "n = 100\n",
        "exacto = np.exp(-1)\n",
        "print(f\"Valor de la serie:{exponencial(x,n)}\")\n",
        "print(f\"Valor de la serie truncada: {exponencial_truncado(x,n)}\")\n",
        "print(f\"Valor exacto: {exacto}]\")"
      ],
      "metadata": {
        "colab": {
          "base_uri": "https://localhost:8080/"
        },
        "id": "i2WcL_mejEKO",
        "outputId": "7d93821a-d260-4df5-cb85-bf570b6c4f01"
      },
      "execution_count": null,
      "outputs": [
        {
          "output_type": "stream",
          "name": "stdout",
          "text": [
            "Valor de la serie:0.8607079764250578\n",
            "Valor de la serie truncada: (0.86070859375, 5)\n",
            "Valor exacto: 0.36787944117144233]\n"
          ]
        }
      ]
    },
    {
      "cell_type": "code",
      "source": [
        "def invertida(x,n): # e^(-x) = 1/e^(x) donde e^(x) = x^(n)/n! sum(n=0 hasta n=N )\n",
        "  exp = 0\n",
        "  for i in range(n):\n",
        "    exp += x**i / factorial(i)\n",
        "  return 1/ exp"
      ],
      "metadata": {
        "id": "7CZN7GoQm_AI"
      },
      "execution_count": null,
      "outputs": []
    },
    {
      "cell_type": "code",
      "source": [
        "x = 0.15\n",
        "n = 100\n",
        "exacto = np.exp(-1)\n",
        "print(f\"Valor de la serie:{exponencial(x,n)}\")\n",
        "print(f\"Valor de la serie invertidas: {invertida(x,n)}\")\n",
        "print(f\"Valor exacto: {exacto}]\")"
      ],
      "metadata": {
        "colab": {
          "base_uri": "https://localhost:8080/"
        },
        "id": "qxoIg8cnoiQG",
        "outputId": "06874d34-a21d-48e0-a0a1-d454d617baad"
      },
      "execution_count": null,
      "outputs": [
        {
          "output_type": "stream",
          "name": "stdout",
          "text": [
            "Valor de la serie:0.8607079764250578\n",
            "Valor de la serie invertidas: 0.860707976425058\n",
            "Valor exacto: 0.36787944117144233]\n"
          ]
        }
      ]
    },
    {
      "cell_type": "code",
      "source": [
        "n = 100\n",
        "N = np.arange(1,n,1)\n",
        "x = 10\n",
        "exp1_ = np.zeros(len(N))\n",
        "exp2_ = np.zeros(len(N))\n",
        "for i,n in enumerate(N):\n",
        "  exp1_[i] = exponencial(x,n)\n",
        "  exp2_[i] = invertida(x,n)\n"
      ],
      "metadata": {
        "id": "5lkSgAAmorB0"
      },
      "execution_count": null,
      "outputs": []
    },
    {
      "cell_type": "code",
      "source": [
        "plt.figure()\n",
        "plt.plot(N, exp1_, \"g-\", label = \"Serie Alternante\")\n",
        "plt.plot(N, exp2_, \"r--\", label = \"Exponencial Invertidad\")\n",
        "plt.legend()\n",
        "plt.xlabel(\"Iteraciones\")\n",
        "plt.ylabel(\"Valor\")\n",
        "plt.show()"
      ],
      "metadata": {
        "colab": {
          "base_uri": "https://localhost:8080/",
          "height": 449
        },
        "id": "t0Fsy9VVpZwP",
        "outputId": "5e2a7e5d-300a-479a-a634-2fe9eac7645b"
      },
      "execution_count": null,
      "outputs": [
        {
          "output_type": "display_data",
          "data": {
            "text/plain": [
              "<Figure size 640x480 with 1 Axes>"
            ],
            "image/png": "[encoded data removed]"
          },
          "metadata": {}
        }
      ]
    },
    {
      "cell_type": "code",
      "source": [
        "x = 10\n",
        "exacto = np.exp(-x)\n",
        "error = abs(exp2_ - exacto)/ exacto * 100\n",
        "plt.plot(N,error)"
      ],
      "metadata": {
        "colab": {
          "base_uri": "https://localhost:8080/",
          "height": 463
        },
        "id": "txTvJg-js5lg",
        "outputId": "578ebbc4-5f78-4b80-df4f-d040fe29864f"
      },
      "execution_count": null,
      "outputs": [
        {
          "output_type": "execute_result",
          "data": {
            "text/plain": [
              "[<matplotlib.lines.Line2D at 0x7c60bf2a71c0>]"
            ]
          },
          "metadata": {},
          "execution_count": 105
        },
        {
          "output_type": "display_data",
          "data": {
            "text/plain": [
              "<Figure size 640x480 with 1 Axes>"
            ],
            "image/png": "[encoded data removed]"
          },
          "metadata": {}
        }
      ]
    },
    {
      "cell_type": "code",
      "source": [
        "x = 10\n",
        "exacto = np.exp(-x)\n",
        "error = abs(exp1_ - exacto)/ exacto * 100\n",
        "plt.plot(N,error)"
      ],
      "metadata": {
        "colab": {
          "base_uri": "https://localhost:8080/",
          "height": 463
        },
        "id": "ZBEmK9IjuAKr",
        "outputId": "f617f95d-2a7f-4832-c73f-da823c73f270"
      },
      "execution_count": null,
      "outputs": [
        {
          "output_type": "execute_result",
          "data": {
            "text/plain": [
              "[<matplotlib.lines.Line2D at 0x7c60c15690f0>]"
            ]
          },
          "metadata": {},
          "execution_count": 99
        },
        {
          "output_type": "display_data",
          "data": {
            "text/plain": [
              "<Figure size 640x480 with 1 Axes>"
            ],
            "image/png": "[encoded data removed]"
          },
          "metadata": {}
        }
      ]
    },
    {
      "cell_type": "markdown",
      "source": [
        "A partir de lo realizado se concluye lo siguiente:\n",
        "\n",
        "\n",
        "*   La serie invertidad converge màs rapido, por ello es mejor series que no sean alternentes\n",
        "*   La serie exponencial truncada, perimite determinar en que iteraccion la serie alternante converge\n",
        "*   Entre màs pequeño sea x màs grande es el error en la serie alternante\n",
        "\n"
      ],
      "metadata": {
        "id": "QGYQ7u3nt-Dz"
      }
    },
    {
      "cell_type": "markdown",
      "metadata": {
        "id": "XOTSco1pca5F"
      },
      "source": [
        "## 2. Cancelación sustractiva\n",
        "\n",
        "\n",
        "\n",
        "**serieSn**. Un ejemplo de la cancelacion substractiva es en la suma de series alternantes. Considere la serie $\\mathrm{S}_N$,  escrita  matematicamente de tres formas diferentes:\n",
        "\n",
        "-\n",
        "\\begin{equation}\n",
        "\\mathrm{S}_N^{(1)} = \\sum_{n = 1}^{2N} (-1)^n \\frac{n}{n+1}\n",
        "\\end{equation}\n",
        "\n",
        "- Sumando números pares e impares.\n",
        "\n",
        "\\begin{equation}\n",
        "\\mathrm{S}_N^{(2)} = -\\sum_{n = 1}^{N}\\frac{2n-1}{2n} + \\sum_{n=1}^{N} \\frac{2n}{2n+1}\n",
        "\\end{equation}\n",
        "\n",
        "- Combinando las series de una forma analítica\n",
        "\n",
        "\\begin{equation}\n",
        "\\mathrm{S}_N^{(3)} = \\sum_{n = 1}^{N}\\frac{1}{2n(2n+1)}\n",
        "\\end{equation}\n",
        "\n",
        "\n",
        "\n",
        "Las tres sumas $\\mathrm{S}_N^{(1)}$, $\\mathrm{S}_N^{(2)}$ y $\\mathrm{S}_N^{(3)}$ son matemáticamente iguales, pero los resultados  pueden tener resultados numéricos diferentes.\n",
        "\n",
        "\n",
        "- Escribir un programa que realice el cálculo de $\\mathrm{S}_N^{(1)}$, $\\mathrm{S}_N^{(2)}$ y $\\mathrm{S}_N^{(3)}$\n",
        "- Estudiar la convergencia de la serie para los tres casos.\n",
        "- Considere  que $S_N^{(3)}$ es la solución exacta, realizar dos graficos log-log, del error relativo en función\n",
        "del número de términos ($\\mathrm{Log_{10}} E$ VS $\\mathrm{Log_{10}} N$), para $S_N^{(1)}$ y $S_N^{(2)}$. Donde,  $E = |(S_N^{(i)} - S_N^{(3)})/S_N^{(3)}|$, i = 1, 2. Considere valores de $N = 1\\times 10^{6}$.\n",
        "- Analizar y discutir los resultados. Tenga en cuenta la discusión realizada sobre teoría de errores en la página\n",
        "39 del libro del libro [Computational Physics. ](https://www.dropbox.com/s/n06ul2r4l65khl6/Computational%20Physics%20-%20Problem%20Solving%20with%20Computers%2C%203527406263.pdf?dl=0)\n",
        "\n",
        "\n"
      ]
    },
    {
      "cell_type": "code",
      "source": [
        "import numpy as np\n",
        "import matplotlib.pyplot as plt"
      ],
      "metadata": {
        "id": "7Vb7vZn1Xk0y"
      },
      "execution_count": 38,
      "outputs": []
    },
    {
      "cell_type": "code",
      "execution_count": 158,
      "metadata": {
        "id": "wMHxxuIbca5G"
      },
      "outputs": [],
      "source": [
        "def s_1(N):\n",
        "  n = np.arange(1,N+1)\n",
        "  sum = np.sum((((-1)**n) * n) / (n+1))\n",
        "  return sum"
      ]
    },
    {
      "cell_type": "code",
      "source": [
        "def s_2(N):\n",
        "  n = np.arange(1,N+1)\n",
        "  sum = 0\n",
        "  sum1 = np.sum((2*n-1)/(2*n))\n",
        "  sum2 = np.sum((2*n)/(2*n+1))\n",
        "  sum = sum2 - sum1\n",
        "  return sum1"
      ],
      "metadata": {
        "id": "nv1XrcJaYFfT"
      },
      "execution_count": 159,
      "outputs": []
    },
    {
      "cell_type": "code",
      "source": [
        "def s_3(N):\n",
        "  n = np.arange(1,N+1)\n",
        "  sum = np.sum( 1/((2*n)*(2*n+1)))\n",
        "  return sum"
      ],
      "metadata": {
        "id": "OHgugTbxZdRb"
      },
      "execution_count": 160,
      "outputs": []
    },
    {
      "cell_type": "code",
      "source": [
        "n = 10\n",
        "N = np.arange(1,n+1)\n",
        "s_1_ = np.zeros(len(N))\n",
        "s_2_ = np.zeros(len(N))\n",
        "s_3_ = np.zeros(len(N))\n",
        "for i,n in enumerate(N):\n",
        "  s_1_[i] = s_1(n)\n",
        "  s_2_[i] = s_2(n)\n",
        "  s_3_[i] = s_3(n)"
      ],
      "metadata": {
        "id": "Dy9QwNzQZ-QT"
      },
      "execution_count": 161,
      "outputs": []
    },
    {
      "cell_type": "code",
      "source": [
        "s_3(10000)"
      ],
      "metadata": {
        "colab": {
          "base_uri": "https://localhost:8080/"
        },
        "id": "GwZUyUwrtpjE",
        "outputId": "27a850ed-8009-49f9-96e8-6a33f18513cb"
      },
      "execution_count": 170,
      "outputs": [
        {
          "output_type": "execute_result",
          "data": {
            "text/plain": [
              "0.3068278213149296"
            ]
          },
          "metadata": {},
          "execution_count": 170
        }
      ]
    },
    {
      "cell_type": "code",
      "source": [
        "plt.figure()\n",
        "plt.plot(N, s_1_, \"g.-\", label = \"$S^1_{n}$\")\n",
        "plt.plot(N, s_2_, \"r--\", label = \"$S^2_{n}$\")\n",
        "plt.plot(N, s_3_, \"b*-\", label = \"$S^3_{n}$\")\n",
        "plt.legend()\n",
        "plt.xlabel(\"Iteraciones\")\n",
        "plt.ylabel(\"Valor\")\n",
        "plt.show()"
      ],
      "metadata": {
        "colab": {
          "base_uri": "https://localhost:8080/",
          "height": 449
        },
        "id": "wyRi8g7MZFsL",
        "outputId": "4498db65-4a8e-44ee-ea2f-ac6d72ae942a"
      },
      "execution_count": 162,
      "outputs": [
        {
          "output_type": "display_data",
          "data": {
            "text/plain": [
              "<Figure size 640x480 with 1 Axes>"
            ],
            "image/png": "[encoded data removed]"
          },
          "metadata": {}
        }
      ]
    },
    {
      "cell_type": "code",
      "source": [
        "def E(n):\n",
        "  e1 = abs((s_1(n)-s_3(n))/s_3(n))\n",
        "  e2 = abs((s_2(n)-s_3(n))/s_3(n))\n",
        "  log10_e1 = np.log10(e1)\n",
        "  log10_e2 = np.log10(e2)\n",
        "  return log10_e1,log10_e2"
      ],
      "metadata": {
        "id": "h1NHtLSygEwj"
      },
      "execution_count": 163,
      "outputs": []
    },
    {
      "cell_type": "code",
      "source": [
        "n = 1e5\n",
        "N = np.arange(1,n+1)\n",
        "s_1_ = np.zeros(len(N))\n",
        "s_2_ = np.zeros(len(N))\n",
        "for i,n in enumerate(N):\n",
        "  s_1_[i], s_2_[i] = E(n)"
      ],
      "metadata": {
        "id": "RU9yWlIfjHCM"
      },
      "execution_count": 164,
      "outputs": []
    },
    {
      "cell_type": "code",
      "source": [
        "log_n = np.log(N) # Log_10 de cada elemento de N que es el intervalo\n",
        "# Asi tengo el log_10 para cada interaccion (n) donde despues lo comparo con el error relativo en n iteraciones"
      ],
      "metadata": {
        "id": "2pvAjQxrkrZD"
      },
      "execution_count": 165,
      "outputs": []
    },
    {
      "cell_type": "code",
      "source": [
        "plt.figure()\n",
        "plt.plot(log_n, s_1_, \"g-\", label = \"$S^1_{n}$\")\n",
        "plt.plot(log_n, s_2_, \"r--\", label = \"$S^2_{n}$\")\n",
        "plt.legend()\n",
        "plt.xlabel(\"Iteraciones $log_{10}(N)$\")\n",
        "plt.ylabel(\"Error relativo $log_{10}(E)$\")\n",
        "plt.show()"
      ],
      "metadata": {
        "colab": {
          "base_uri": "https://localhost:8080/",
          "height": 458
        },
        "id": "aLpXNgjkjoRL",
        "outputId": "3dcd7e78-0b7d-4dbd-87f0-5ea5f9d6965c"
      },
      "execution_count": 166,
      "outputs": [
        {
          "output_type": "display_data",
          "data": {
            "text/plain": [
              "<Figure size 640x480 with 1 Axes>"
            ],
            "image/png": "[encoded data removed]"
          },
          "metadata": {}
        }
      ]
    },
    {
      "cell_type": "markdown",
      "source": [
        "\n",
        "\n",
        "*   $S^2_N$ tiene un mayor error relativo cada vez más grande, es decir, se aleja cada cez más del valor exacto que es $S^3_N$.\n",
        "*   Aunque para $S^1_N$, el error relativo no crece tanto, tampoco converge a $S^3_N$, si no mas bien se acerca al valor exacto y a laa iteraccion siguiente se aleja, lo cual tiene sentido debido a que es una serie alternante.\n",
        "*   $S^3_N$ Converge muy rapido, es decir, tiende a un valor con muy pocas iteracciones.\n"
      ],
      "metadata": {
        "id": "vZjaB2atowEk"
      }
    }
  ],
  "metadata": {
    "colab": {
      "provenance": []
    },
    "kernelspec": {
      "display_name": "Python 3 (ipykernel)",
      "language": "python",
      "name": "python3"
    },
    "language_info": {
      "codemirror_mode": {
        "name": "ipython",
        "version": 3
      },
      "file_extension": ".py",
      "mimetype": "text/x-python",
      "name": "python",
      "nbconvert_exporter": "python",
      "pygments_lexer": "ipython3",
      "version": "3.10.9"
    }
  },
  "nbformat": 4,
  "nbformat_minor": 0
}