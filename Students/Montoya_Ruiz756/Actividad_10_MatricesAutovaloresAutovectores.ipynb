{
  "cells": [
    {
      "cell_type": "markdown",
      "metadata": {
        "id": "zZp0hm6wJsTT"
      },
      "source": [
        "<a href=\"https://colab.research.google.com/github/hernansalinas/autogrades/blob/main/Actividades_clase/Actividad_09_MatricesAutovaloresAutovectores.ipynb\" target=\"_parent\"><img src=\"https://colab.research.google.com/assets/colab-badge.svg\" alt=\"Open In Colab\"/></a>"
      ]
    },
    {
      "cell_type": "code",
      "execution_count": null,
      "metadata": {
        "id": "iJsmScMdtgYe"
      },
      "outputs": [],
      "source": [
        "import numpy as np\n",
        "import torch as pt\n",
        "import sympy as sp\n",
        "import matplotlib.pyplot as plt"
      ]
    },
    {
      "cell_type": "markdown",
      "metadata": {
        "id": "F2BmxAU22k-G"
      },
      "source": [
        "# Autovalores, autovectores, diagonalización\n",
        "\n",
        "Una matriz es diagonalizable cuando es semejante a una matriz diagonal. Esto significa que mediante un cambio de base, podemos reducir la matriz original a una forma diagonal. Para que una matriz sea diagonalizable, debe cumplir las siguientes condiciones:\n",
        "\n",
        "**Autovectores linealmente independientes**: Una matriz $(A \\in \\mathbb{R}^{n \\times n})$ es diagonalizable si y solo si tiene (n) autovectores linealmente independientes. Esto significa que los autovectores asociados a los autovalores deben ser linealmente independientes.\n",
        "\n",
        "**Semejanza**: Existe una matriz invertible (P) tal que ($P^{-1}AP = D$), donde (D) es una matriz diagonal formada por los autovalores de (A).\n",
        "\n",
        "La diagonalización es un proceso que transforma una matriz cuadrada ( A ) en una matriz diagonal ( D ) mediante una matriz invertible ( P ), tal que:\n",
        "\n",
        "$P^{-1}AP = D$\n",
        "\n",
        "La matriz diagonal ( D ) contiene los autovalores de ( A ) en la diagonal principal, y las columnas de ( P ) son los autovectores correspondientes a esos autovalores."
      ]
    },
    {
      "cell_type": "markdown",
      "metadata": {
        "id": "ZEt4N4lT2taJ"
      },
      "source": [
        "## Numpy"
      ]
    },
    {
      "cell_type": "code",
      "execution_count": null,
      "metadata": {
        "colab": {
          "base_uri": "https://localhost:8080/"
        },
        "id": "hcGonjho2Xi0",
        "outputId": "278f5f76-69be-408d-df89-267a852b0797"
      },
      "outputs": [
        {
          "output_type": "stream",
          "name": "stdout",
          "text": [
            "Autovalores: [6.16424794 1.60861762 3.22713444]\n",
            "Autovectores:\n",
            " [[-0.6611152   0.56181831 -0.49727948]\n",
            " [-0.7154086  -0.6717612   0.19216509]\n",
            " [-0.2260912   0.48280128  0.84604119]]\n"
          ]
        }
      ],
      "source": [
        "# Definir una matriz 3x3\n",
        "A = np.array([[4, 2, 0],\n",
        "              [2, 4, 1],\n",
        "              [0, 1, 3]])\n",
        "\n",
        "# Calcular autovalores y autovectores\n",
        "autovalores, autovectores = np.linalg.eig(A)\n",
        "U = autovectores.copy()\n",
        "print(\"Autovalores:\", autovalores)\n",
        "print(\"Autovectores:\\n\", autovectores)\n"
      ]
    },
    {
      "cell_type": "markdown",
      "metadata": {
        "id": "ioIEzfR52jVo"
      },
      "source": [
        "### Matriz Diagonal"
      ]
    },
    {
      "cell_type": "code",
      "execution_count": null,
      "metadata": {
        "colab": {
          "base_uri": "https://localhost:8080/"
        },
        "id": "qDM4idFV3R-e",
        "outputId": "231a82cf-6cc8-49f0-b933-746fd463e742"
      },
      "outputs": [
        {
          "output_type": "execute_result",
          "data": {
            "text/plain": [
              "array([[ 6.164248,  0.      , -0.      ],\n",
              "       [-0.      ,  1.608618, -0.      ],\n",
              "       [ 0.      , -0.      ,  3.227134]])"
            ]
          },
          "metadata": {},
          "execution_count": 6
        }
      ],
      "source": [
        "D = np.linalg.inv(U)@A@U\n",
        "np.set_printoptions(suppress=True, precision=6)\n",
        "D"
      ]
    },
    {
      "cell_type": "markdown",
      "metadata": {
        "id": "N-oGaJUS4p10"
      },
      "source": [
        "## Actividad:\n",
        "\n",
        "Construir un programa que permita elevar una matriz a una potencia.\n",
        "\n",
        "\n",
        "La exponencial de una matriz ( $e^A$) se define como la serie de Taylor de la función exponencial evaluada en la matriz ( A ):\n",
        "\n",
        "\n",
        "\\begin{equation}\n",
        "e^A = I + A + \\frac{1}{2!}A^2 + \\frac{1}{3!}A^3 + \\cdots = \\sum_{n=0}^{\\infty} \\frac{1}{n!}A^n\n",
        "\\end{equation}\n",
        "\n",
        "\n",
        "Donde ( $e^D$ ) es simplemente la matriz exponencial de la matriz diagonal ( D ), que es fácil de calcular porque solo implica elevar los autovalores de (A) a la potencia de (e):\n",
        "\n",
        "\n",
        "\n",
        "\\begin{equation}\n",
        "e^A = Pe^DP^{-1}\n",
        "\\end{equation}\n",
        "\n",
        "\n",
        "Exponencial de una matriz diagonal\n",
        "\n",
        "\\begin{equation}\n",
        "e^D = \\begin{bmatrix}\n",
        "e^{\\lambda_1} & 0 & \\cdots & 0 \\\\\n",
        "0 & e^{\\lambda_2} & \\cdots & 0 \\\\\n",
        "\\vdots & \\vdots & \\ddots & \\vdots \\\\\n",
        "0 & 0 & \\cdots & e^{\\lambda_n}\n",
        "\\end{bmatrix}\n",
        "\\end{equation}\n",
        "\n",
        "\n"
      ]
    },
    {
      "cell_type": "code",
      "execution_count": null,
      "metadata": {
        "id": "naNxFggKaor5"
      },
      "outputs": [],
      "source": [
        "def Diagonaliable(P,D):\n",
        "  A_ = P @ D @ np.linalg.inv(P) # Teorema de diagonalizacion A = PDP^-1 con P=[v1,...,vn] donde v1,...,vn son los vectores propios\n",
        "  if np.allclose(A, A_):\n",
        "    print(\"La Matrix es diagonalizable\")\n",
        "    return True\n",
        "  else:\n",
        "    print(\"No es diagonalizable\")\n",
        "    return False"
      ]
    },
    {
      "cell_type": "code",
      "execution_count": null,
      "metadata": {
        "id": "j5jSKZst7WQP"
      },
      "outputs": [],
      "source": [
        "def Matrix_Potencia(A):\n",
        "  np.set_printoptions(suppress=True, precision=6)\n",
        "  autovalores, autovectores = np.linalg.eig(A)\n",
        "  autovalores_ = np.matrix(autovalores)\n",
        "  D = np.diag(autovalores)\n",
        "  P = autovectores.copy()\n",
        "  valor_bool = Diagonaliable(P,D)\n",
        "  if valor_bool == True:\n",
        "    lista_valores = ([])\n",
        "    for i in autovalores:\n",
        "      e_elevado = np.exp(i) # e^autovalor\n",
        "      lista_valores = np.append(lista_valores,e_elevado)\n",
        "    E = np.diag(lista_valores) # e^D\n",
        "    matrix_elevada = P @ E @ np.linalg.inv(P) # Definicion de e^A\n",
        "    return print(\"e^A =\", matrix_elevada)"
      ]
    },
    {
      "cell_type": "code",
      "execution_count": null,
      "metadata": {
        "id": "-DFqBH24IDOp"
      },
      "outputs": [],
      "source": [
        "A = np.array([[4, 2, 0],\n",
        "              [2, 4, 1],\n",
        "              [0, 1, 3]])"
      ]
    },
    {
      "cell_type": "code",
      "execution_count": null,
      "metadata": {
        "colab": {
          "base_uri": "https://localhost:8080/"
        },
        "id": "Rl-6iLrS2GBr",
        "outputId": "8979dc0a-75d0-4c60-af2e-6f73307f98fb"
      },
      "outputs": [
        {
          "output_type": "stream",
          "name": "stdout",
          "text": [
            "La Matrix es diagonalizable\n",
            "e^A = [[215.613982 220.575     61.815562]\n",
            " [220.575    246.521763  79.379719]\n",
            " [ 61.815562  79.379719  43.51092 ]]\n"
          ]
        }
      ],
      "source": [
        "Matrix_Potencia(A)"
      ]
    },
    {
      "cell_type": "markdown",
      "metadata": {
        "id": "Utk5ujEkIFZx"
      },
      "source": [
        "Esta matrix no es diagonalizable"
      ]
    },
    {
      "cell_type": "code",
      "execution_count": null,
      "metadata": {
        "id": "Br-2_0BM2M0S"
      },
      "outputs": [],
      "source": [
        "A = np.array([[-4, -1, 1],\n",
        "              [0, -5, 1],\n",
        "              [-1, 0, -3]])"
      ]
    },
    {
      "cell_type": "markdown",
      "metadata": {
        "id": "JmmxMqieABY-"
      },
      "source": [
        "# Autovalores y autovectores complejos"
      ]
    },
    {
      "cell_type": "code",
      "execution_count": null,
      "metadata": {
        "colab": {
          "base_uri": "https://localhost:8080/"
        },
        "id": "3-NKfajD9kwp",
        "outputId": "162d690e-c639-41fc-9038-479fbc2eb909"
      },
      "outputs": [
        {
          "name": "stdout",
          "output_type": "stream",
          "text": [
            "Autovalores: [0.707107+0.707107j 0.707107-0.707107j]\n",
            "Autovectores:\n",
            " [[0.707107+0.j       0.707107-0.j      ]\n",
            " [0.      +0.707107j 0.      -0.707107j]]\n"
          ]
        },
        {
          "data": {
            "text/plain": [
              "array([[0.707107+0.707107j, 0.      +0.j      ],\n",
              "       [0.      +0.j      , 0.707107-0.707107j]])"
            ]
          },
          "execution_count": 67,
          "metadata": {},
          "output_type": "execute_result"
        }
      ],
      "source": [
        "theta=-np.pi/4\n",
        "A = np.array([[np.cos(theta),-np.sin(theta)],[np.sin(theta), np.cos(theta)]])\n",
        "\n",
        "# Calcular autovalores y autovectores\n",
        "autovalores, autovectores = np.linalg.eig(A)\n",
        "U = autovectores.copy()\n",
        "print(\"Autovalores:\", autovalores)\n",
        "print(\"Autovectores:\\n\", autovectores)\n",
        "\n",
        "D = np.linalg.inv(U)@A@U\n",
        "np.set_printoptions(suppress=True, precision=6)\n",
        "D"
      ]
    },
    {
      "cell_type": "code",
      "execution_count": null,
      "metadata": {
        "id": "MR1V99C9N6KO"
      },
      "outputs": [],
      "source": []
    },
    {
      "cell_type": "markdown",
      "metadata": {
        "id": "LlxqtSZ0JsTi"
      },
      "source": [
        "Actividad 2.\n",
        "\n",
        "Considere la ecuación cuadrática $x^2-4xy+3y^2=6$, esta ecuación cuadrática se corresponde a una hiperbola, la cual puede ser escrita en forma matricial como sigue:\n",
        "\n",
        "$A\\vec{v} \\cdot \\vec{v}=6$, donde $\\vec{v}=(x, y)$ y A es una matrix simetrica,\n",
        "\n",
        "\\begin{equation}\n",
        "A=\\begin{bmatrix}\n",
        "1 & -2 \\\\\n",
        "-2 & 3 \\\\\n",
        "\\end{bmatrix}\n",
        "\\end{equation}\n",
        "\n",
        "1. Realice un grafico que represente la hyperbola\n",
        "\n",
        "\n",
        "\n",
        "\n",
        "\n",
        "\n",
        "\n",
        "- Diagonalice A, para ello construya la matrix Q de autovectores ortoganales\n",
        "tal que $D=Q^{T}AQ$, en este caso se dice que A es diagonalizable ortogonalmente, donde $A=QDQ^T$.\n",
        "\n",
        "- Aplique el resultado de la siguiente demostración para encontrar una nueva hyperbola en una  nueva base\n",
        "\n",
        "\\begin{equation}\n",
        "QDQ^T \\vec{v} \\cdot \\vec{v} = d\n",
        "\\end{equation}\n",
        "\n",
        "\n",
        "\\begin{equation}\n",
        "Q(DQ^T\\vec{v}) \\cdot \\vec{v} = (DQ^T\\vec{v}) \\cdot (Q^T\\vec{v})=d\n",
        "\\end{equation}\n",
        "\n",
        "\n",
        "\\begin{equation}\n",
        "(DQ^T\\vec{v}) \\cdot (Q^T\\vec{v})=d\n",
        "\\end{equation}\n",
        "\n",
        "\n",
        "Sea $u=Q^T\\vec{v}$\n",
        "\n",
        "Luego :\n",
        "\n",
        "\n",
        "\\begin{equation}\n",
        "(D\\vec{u}) \\cdot \\vec{u}=d\n",
        "\\end{equation}\n",
        "\n",
        "donde $\\vec{u}=(x', y')$, tal que $D\\vec{u} \\cdot \\vec{u}=d$ es una nueva hyperbola\n",
        "\n",
        "\n",
        "\n",
        "\n",
        "\n",
        "\n",
        "\n"
      ]
    },
    {
      "cell_type": "markdown",
      "metadata": {
        "id": "AU5UiBQnLj1L"
      },
      "source": [
        "**PUNTO 1)** Diagonalizar A: Se comprueba que A es diagonalizable ortogonalmente"
      ]
    },
    {
      "cell_type": "code",
      "execution_count": null,
      "metadata": {
        "id": "gVqh3o3hMMNp"
      },
      "outputs": [],
      "source": [
        "np.set_printoptions(suppress=True, precision=6)"
      ]
    },
    {
      "cell_type": "code",
      "execution_count": null,
      "metadata": {
        "id": "ny6PxCdEIpiZ"
      },
      "outputs": [],
      "source": [
        "A = np.array([[1, -2],\n",
        "              [-2, 3]])"
      ]
    },
    {
      "cell_type": "code",
      "execution_count": null,
      "metadata": {
        "id": "PR2lORgsWM0K"
      },
      "outputs": [],
      "source": [
        "u = sp.symbols(\"x\")\n",
        "v = sp.symbols(\"y\")\n",
        "v_ = np.array([u,v])"
      ]
    },
    {
      "cell_type": "markdown",
      "metadata": {
        "id": "h76lw9E-RKGZ"
      },
      "source": [
        "$A\\vec{v} \\cdot \\vec{v}=6$, donde $\\vec{v}=(x, y)$ y A es una matrix simetrica. Esto es  igual a : $x^2-4xy+3y^2=6$"
      ]
    },
    {
      "cell_type": "code",
      "execution_count": null,
      "metadata": {
        "colab": {
          "base_uri": "https://localhost:8080/",
          "height": 39
        },
        "id": "GatzCs4RQTMB",
        "outputId": "9ef04c6e-95a1-47b2-c5b7-96721b9a7807"
      },
      "outputs": [
        {
          "data": {
            "text/latex": "$\\displaystyle x^{2} - 4 x y + 3 y^{2} = 6$",
            "text/plain": [
              "Eq(x**2 - 4*x*y + 3*y**2, 6)"
            ]
          },
          "execution_count": 96,
          "metadata": {},
          "output_type": "execute_result"
        }
      ],
      "source": [
        "ecuacion_ = A @ v_\n",
        "ecuacion_hiperbola_ = np.dot(ecuacion_,v_)\n",
        "ecuacion = sp.Eq(ecuacion_hiperbola_, 6)\n",
        "expresion_simplificada = sp.simplify(ecuacion)\n",
        "expresion_simplificada"
      ]
    },
    {
      "cell_type": "code",
      "source": [
        "# Definición de la ecuación de la hiperbola\n",
        "def hiperbola(x, y):\n",
        "    return x**2 - 4*x*y + 3*y**2 - 6\n",
        "\n",
        "# Generación de puntos que satisfacen la ecuación de la hiperbola\n",
        "x = np.linspace(-5, 5, 400)\n",
        "y = np.linspace(-5, 5, 400)\n",
        "X, Y = np.meshgrid(x, y)\n",
        "Z = hiperbola(X, Y)\n",
        "\n",
        "# Graficar la hiperbola\n",
        "plt.contour(X, Y, Z, levels=[0], colors='b')\n",
        "plt.xlabel('x')\n",
        "plt.ylabel('y')\n",
        "plt.title('Gráfico de la hiperbola $x^2 - 4xy + 3y^2 = 6$')\n",
        "plt.grid(True)\n",
        "plt.axis('equal')\n",
        "plt.show()"
      ],
      "metadata": {
        "colab": {
          "base_uri": "https://localhost:8080/",
          "height": 476
        },
        "id": "Y8YUuViFWlUZ",
        "outputId": "acd70a5e-4516-46dc-d3e1-79b88206b3c4"
      },
      "execution_count": null,
      "outputs": [
        {
          "output_type": "display_data",
          "data": {
            "text/plain": [
              "<Figure size 640x480 with 1 Axes>"
            ],
            "image/png": "[encoded data removed]"
          },
          "metadata": {}
        }
      ]
    },
    {
      "cell_type": "markdown",
      "metadata": {
        "id": "TjZSMzGfMuhh"
      },
      "source": [
        "\\begin{equation}\n",
        "QDQ^T \\vec{v} \\cdot \\vec{v}\n",
        "\\end{equation}"
      ]
    },
    {
      "cell_type": "code",
      "execution_count": null,
      "metadata": {
        "id": "YIrP6g9fRpkk"
      },
      "outputs": [],
      "source": [
        "valores_propios, vectores_propios = np.linalg.eig(A)\n",
        "Q = vectores_propios # Ya de por si son, vectores ortogonales, por que A es una Matriz Simetrica\n",
        "D = Q.T @ A @ Q #  la matriz diagonal de valores propios de A"
      ]
    },
    {
      "cell_type": "code",
      "execution_count": null,
      "metadata": {
        "colab": {
          "base_uri": "https://localhost:8080/",
          "height": 39
        },
        "id": "IAM8SfEYRjap",
        "outputId": "bc36134a-656e-4224-a493-55849d76429a"
      },
      "outputs": [
        {
          "data": {
            "text/latex": "$\\displaystyle 0.999999999999999 x^{2} - 4.0 x y + 3.0 y^{2}$",
            "text/plain": [
              "0.999999999999999*x**2 - 4.0*x*y + 3.0*y**2"
            ]
          },
          "execution_count": 98,
          "metadata": {},
          "output_type": "execute_result"
        }
      ],
      "source": [
        "u_ = Q.T @ v_\n",
        "r_ = D @ u_\n",
        "R = np.dot(r_,u_)\n",
        "expresion_simplificada = sp.simplify(R)\n",
        "expresion_simplificada"
      ]
    },
    {
      "cell_type": "code",
      "execution_count": null,
      "metadata": {
        "colab": {
          "base_uri": "https://localhost:8080/",
          "height": 39
        },
        "id": "pZF3ofiLMFvx",
        "outputId": "e8c7aabd-1dd9-4458-b557-4dd94c66e693"
      },
      "outputs": [
        {
          "data": {
            "text/latex": "$\\displaystyle x \\left(1.0 x - 2.0 y\\right) + y \\left(- 2.0 x + 3.0 y\\right)$",
            "text/plain": [
              "x*(1.0*x - 2.0*y) + y*(-2.0*x + 3.0*y)"
            ]
          },
          "execution_count": 64,
          "metadata": {},
          "output_type": "execute_result"
        }
      ],
      "source": [
        "r_ = Q @ D @ Q.T @ v_\n",
        "R = np.dot(r_,v_)\n",
        "R_ = np.dot(v_,r_)\n",
        "R"
      ]
    },
    {
      "cell_type": "code",
      "execution_count": null,
      "metadata": {
        "colab": {
          "base_uri": "https://localhost:8080/",
          "height": 39
        },
        "id": "-CqwaNGLPZa6",
        "outputId": "a79932ce-3cfa-4f6a-9d92-cad7a1db8f71"
      },
      "outputs": [
        {
          "data": {
            "text/latex": "$\\displaystyle 1.0 x^{2} - 4.0 x y + 3.0 y^{2} = 6$",
            "text/plain": [
              "Eq(1.0*x**2 - 4.0*x*y + 3.0*y**2, 6)"
            ]
          },
          "execution_count": 73,
          "metadata": {},
          "output_type": "execute_result"
        }
      ],
      "source": [
        "ecuacion = sp.Eq(R, 6)\n",
        "expresion_simplificada = sp.simplify(ecuacion)\n",
        "expresion_simplificada"
      ]
    },
    {
      "cell_type": "code",
      "execution_count": null,
      "metadata": {
        "colab": {
          "base_uri": "https://localhost:8080/",
          "height": 39
        },
        "id": "PpDOEJnkUwBx",
        "outputId": "0e85f467-b389-4e33-9acb-7da1444b2f4c"
      },
      "outputs": [
        {
          "output_type": "execute_result",
          "data": {
            "text/plain": [
              "0.999999999999999*x**2 - 4.0*x*y + 3.0*y**2 - 6.0"
            ],
            "text/latex": "$\\displaystyle 0.999999999999999 x^{2} - 4.0 x y + 3.0 y^{2} - 6.0$"
          },
          "metadata": {},
          "execution_count": 102
        }
      ],
      "source": [
        "ty =  np.dot(np.dot(D, u_), u_) - 6\n",
        "expresion_simplificada = sp.simplify(ty)\n",
        "expresion_simplificada"
      ]
    },
    {
      "cell_type": "code",
      "source": [
        "# Definimos la función nueva_hiperbola\n",
        "def nueva_hiperbola(u):\n",
        "    u_ = np.dot(Q.T, u)\n",
        "    D_reshaped = np.diag(np.diag(D))\n",
        "    return np.dot(np.dot(D_reshaped, u_), u_) - 6  # '6' es el mismo d de la ecuación original\n",
        "\n",
        "# Generamos puntos que satisfacen la ecuación de la nueva hiperbola\n",
        "u_values = np.linspace(-5, 5, 400)\n",
        "U = np.meshgrid(u_values, u_values)\n",
        "U_reshaped = np.array([U[0].flatten(), U[1].flatten()])\n",
        "\n",
        "# Calculamos la nueva hiperbola\n",
        "Z_nueva_hiperbola = nueva_hiperbola(U_reshaped)\n",
        "\n",
        "# Graficamos la nueva hiperbola\n",
        "plt.contour(U[0], U[1], Z_nueva_hiperbola, levels=[0], colors='r')\n",
        "plt.xlabel('x\\'')\n",
        "plt.ylabel('y\\'')\n",
        "plt.title('Gráfico de la nueva hiperbola en la nueva base')\n",
        "plt.grid(True)\n",
        "plt.axis('equal')\n",
        "plt.show()"
      ],
      "metadata": {
        "colab": {
          "base_uri": "https://localhost:8080/",
          "height": 211
        },
        "id": "S7pYfhMcVsLB",
        "outputId": "3ce2d3b5-d823-491b-e00c-d21c4ff1323c"
      },
      "execution_count": null,
      "outputs": [
        {
          "output_type": "error",
          "ename": "NameError",
          "evalue": "name 'np' is not defined",
          "traceback": [
            "\u001b[0;31m---------------------------------------------------------------------------\u001b[0m",
            "\u001b[0;31mNameError\u001b[0m                                 Traceback (most recent call last)",
            "\u001b[0;32m<ipython-input-1-3e7c58970176>\u001b[0m in \u001b[0;36m<cell line: 8>\u001b[0;34m()\u001b[0m\n\u001b[1;32m      6\u001b[0m \u001b[0;34m\u001b[0m\u001b[0m\n\u001b[1;32m      7\u001b[0m \u001b[0;31m# Generamos puntos que satisfacen la ecuación de la nueva hiperbola\u001b[0m\u001b[0;34m\u001b[0m\u001b[0;34m\u001b[0m\u001b[0m\n\u001b[0;32m----> 8\u001b[0;31m \u001b[0mu_values\u001b[0m \u001b[0;34m=\u001b[0m \u001b[0mnp\u001b[0m\u001b[0;34m.\u001b[0m\u001b[0mlinspace\u001b[0m\u001b[0;34m(\u001b[0m\u001b[0;34m-\u001b[0m\u001b[0;36m5\u001b[0m\u001b[0;34m,\u001b[0m \u001b[0;36m5\u001b[0m\u001b[0;34m,\u001b[0m \u001b[0;36m400\u001b[0m\u001b[0;34m)\u001b[0m\u001b[0;34m\u001b[0m\u001b[0;34m\u001b[0m\u001b[0m\n\u001b[0m\u001b[1;32m      9\u001b[0m \u001b[0mU\u001b[0m \u001b[0;34m=\u001b[0m \u001b[0mnp\u001b[0m\u001b[0;34m.\u001b[0m\u001b[0mmeshgrid\u001b[0m\u001b[0;34m(\u001b[0m\u001b[0mu_values\u001b[0m\u001b[0;34m,\u001b[0m \u001b[0mu_values\u001b[0m\u001b[0;34m)\u001b[0m\u001b[0;34m\u001b[0m\u001b[0;34m\u001b[0m\u001b[0m\n\u001b[1;32m     10\u001b[0m \u001b[0mU_reshaped\u001b[0m \u001b[0;34m=\u001b[0m \u001b[0mnp\u001b[0m\u001b[0;34m.\u001b[0m\u001b[0marray\u001b[0m\u001b[0;34m(\u001b[0m\u001b[0;34m[\u001b[0m\u001b[0mU\u001b[0m\u001b[0;34m[\u001b[0m\u001b[0;36m0\u001b[0m\u001b[0;34m]\u001b[0m\u001b[0;34m.\u001b[0m\u001b[0mflatten\u001b[0m\u001b[0;34m(\u001b[0m\u001b[0;34m)\u001b[0m\u001b[0;34m,\u001b[0m \u001b[0mU\u001b[0m\u001b[0;34m[\u001b[0m\u001b[0;36m1\u001b[0m\u001b[0;34m]\u001b[0m\u001b[0;34m.\u001b[0m\u001b[0mflatten\u001b[0m\u001b[0;34m(\u001b[0m\u001b[0;34m)\u001b[0m\u001b[0;34m]\u001b[0m\u001b[0;34m)\u001b[0m\u001b[0;34m\u001b[0m\u001b[0;34m\u001b[0m\u001b[0m\n",
            "\u001b[0;31mNameError\u001b[0m: name 'np' is not defined"
          ]
        }
      ]
    },
    {
      "cell_type": "code",
      "execution_count": null,
      "metadata": {
        "colab": {
          "base_uri": "https://localhost:8080/",
          "height": 472
        },
        "id": "e0vMfUS_TV_Y",
        "outputId": "1ca25033-484b-4cb7-c452-8329bbe5cfdf"
      },
      "outputs": [
        {
          "data": {
            "image/png": "[encoded data removed]",
            "text/plain": [
              "<Figure size 640x480 with 1 Axes>"
            ]
          },
          "metadata": {},
          "output_type": "display_data"
        }
      ],
      "source": [
        "# Diagonalizar A\n",
        "D, Q = np.linalg.eig(A)\n",
        "\n",
        "# Coordenadas originales (x, y)\n",
        "x = np.linspace(-10, 10, 400)\n",
        "y = np.linspace(-10, 10, 400)\n",
        "X, Y = np.meshgrid(x, y)\n",
        "\n",
        "# Aplicar transformación Q^T v\n",
        "v = np.vstack([X.ravel(), Y.ravel()])\n",
        "u = np.dot(Q.T, v)\n",
        "\n",
        "# Calcular la nueva hiperbola en las coordenadas (x', y')\n",
        "d = 6\n",
        "new_hyperbola = (D[0]*u[0]**2 + D[1]*u[1]**2) - d\n",
        "\n",
        "# Graficar la nueva hiperbola\n",
        "plt.contour(X, Y, new_hyperbola.reshape(X.shape), levels=[0], colors='r')\n",
        "plt.xlabel('x')\n",
        "plt.ylabel('y')\n",
        "plt.title('Nueva hiperbola en la nueva base')\n",
        "plt.grid(True)\n",
        "plt.gca().set_aspect('equal', adjustable='box')\n",
        "plt.show()"
      ]
    },
    {
      "cell_type": "markdown",
      "metadata": {
        "id": "bVBR8mx02xzR"
      },
      "source": [
        "### Sympy"
      ]
    },
    {
      "cell_type": "code",
      "execution_count": null,
      "metadata": {
        "colab": {
          "base_uri": "https://localhost:8080/"
        },
        "id": "5ZtjshtC2iBC",
        "outputId": "b2eddb03-7ef4-4d6a-db38-bcf1e857b08d"
      },
      "outputs": [
        {
          "name": "stdout",
          "output_type": "stream",
          "text": [
            "Autovalores simplificados: {11/3 + 16*2**(1/3)/(3*(61 + 3*sqrt(1407)*I)**(1/3)) + 2**(2/3)*(61 + 3*sqrt(1407)*I)**(1/3)/6: 1, (-128*2**(1/3) + (1 - sqrt(3)*I)*(44 + 2**(2/3)*(-1 + sqrt(3)*I)*(61 + 3*sqrt(1407)*I)**(1/3))*(61 + 3*sqrt(1407)*I)**(1/3))/(12*(1 - sqrt(3)*I)*(61 + 3*sqrt(1407)*I)**(1/3)): 1, (-128*2**(1/3) + (1 + sqrt(3)*I)*(44 - 2**(2/3)*(1 + sqrt(3)*I)*(61 + 3*sqrt(1407)*I)**(1/3))*(61 + 3*sqrt(1407)*I)**(1/3))/(12*(1 + sqrt(3)*I)*(61 + 3*sqrt(1407)*I)**(1/3)): 1}\n",
            "Autovectores simplificados:\n",
            " [((-128*2**(1/3) + (1 + sqrt(3)*I)*(44 - 2**(2/3)*(1 + sqrt(3)*I)*(61 + 3*sqrt(1407)*I)**(1/3))*(61 + 3*sqrt(1407)*I)**(1/3))/(12*(1 + sqrt(3)*I)*(61 + 3*sqrt(1407)*I)**(1/3)), 1, [Matrix([\n",
            "[(12*(-176 + 7*2**(2/3)*(1 + sqrt(3)*I)*(61 + 3*sqrt(1407)*I)**(1/3))*(1 + sqrt(3)*I)**2*(61 + 3*sqrt(1407)*I) + (61 + 3*sqrt(1407)*I)**(1/3)*(128*2**(1/3) + (-44 + 2**(2/3)*(1 + sqrt(3)*I)*(61 + 3*sqrt(1407)*I)**(1/3))*(1 + sqrt(3)*I)*(61 + 3*sqrt(1407)*I)**(1/3))**2 + 10752*2**(1/3)*(1 + sqrt(3)*I)*(61 + 3*sqrt(1407)*I)**(2/3))/(288*(1 + sqrt(3)*I)**2*(61 + 3*sqrt(1407)*I))],\n",
            "[                                                                                                                                                                                                             (-128*2**(1/3) + (1 + sqrt(3)*I)*(8 - 2**(2/3)*(1 + sqrt(3)*I)*(61 + 3*sqrt(1407)*I)**(1/3))*(61 + 3*sqrt(1407)*I)**(1/3))/(12*(1 + sqrt(3)*I)*(61 + 3*sqrt(1407)*I)**(1/3))],\n",
            "[                                                                                                                                                                                                                                                                                                                                                                                        1]])]), ((-128*2**(1/3) + (1 - sqrt(3)*I)*(44 + 2**(2/3)*(-1 + sqrt(3)*I)*(61 + 3*sqrt(1407)*I)**(1/3))*(61 + 3*sqrt(1407)*I)**(1/3))/(12*(1 - sqrt(3)*I)*(61 + 3*sqrt(1407)*I)**(1/3)), 1, [Matrix([\n",
            "[(10752*2**(1/3)*(1 - sqrt(3)*I)*(61 + 3*sqrt(1407)*I)**(2/3) + (61 + 3*sqrt(1407)*I)**(1/3)*(128*2**(1/3) + (-44 + 2**(2/3)*(1 - sqrt(3)*I)*(61 + 3*sqrt(1407)*I)**(1/3))*(1 - sqrt(3)*I)*(61 + 3*sqrt(1407)*I)**(1/3))**2 + 12*(-176 + 7*2**(2/3)*(1 - sqrt(3)*I)*(61 + 3*sqrt(1407)*I)**(1/3))*(1 - sqrt(3)*I)**2*(61 + 3*sqrt(1407)*I))/(288*(1 - sqrt(3)*I)**2*(61 + 3*sqrt(1407)*I))],\n",
            "[                                                                                                                                                                                                            (-128*2**(1/3) + (1 - sqrt(3)*I)*(8 + 2**(2/3)*(-1 + sqrt(3)*I)*(61 + 3*sqrt(1407)*I)**(1/3))*(61 + 3*sqrt(1407)*I)**(1/3))/(12*(1 - sqrt(3)*I)*(61 + 3*sqrt(1407)*I)**(1/3))],\n",
            "[                                                                                                                                                                                                                                                                                                                                                                                        1]])]), (11/3 + 16*2**(1/3)/(3*(61 + 3*sqrt(1407)*I)**(1/3)) + 2**(2/3)*(61 + 3*sqrt(1407)*I)**(1/3)/6, 1, [Matrix([\n",
            "[(42*sqrt(1407) - 191*2**(2/3)*I*(61 + 3*sqrt(1407)*I)**(1/3) - 854*I - 31*2**(1/3)*I*(61 + 3*sqrt(1407)*I)**(2/3) + sqrt(1407)*2**(2/3)*(61 + 3*sqrt(1407)*I)**(1/3) + sqrt(1407)*2**(1/3)*(61 + 3*sqrt(1407)*I)**(2/3))/(12*(3*sqrt(1407) - 61*I))],\n",
            "[                                                                                                                                                       2/3 + 16*2**(1/3)/(3*(61 + 3*sqrt(1407)*I)**(1/3)) + 2**(2/3)*(61 + 3*sqrt(1407)*I)**(1/3)/6],\n",
            "[                                                                                                                                                                                                                                                  1]])])]\n"
          ]
        }
      ],
      "source": [
        "from sympy import Matrix, simplify\n",
        "\n",
        "# Definir una matriz 3x3\n",
        "A = Matrix([[4, 2, 0],\n",
        "            [2, 4, 1],\n",
        "            [0, 1, 3]])\n",
        "\n",
        "# Calcular autovalores y autovectores\n",
        "autovalores = A.eigenvals()\n",
        "autovectores = A.eigenvects()\n",
        "\n",
        "# Simplificar autovalores y autovectores\n",
        "autovalores_simplificados = {simplify(l): m for l, m in autovalores.items()}\n",
        "autovectores_simplificados = [(simplify(l), m, [simplify(v) for v in vs]) for l, m, vs in autovectores]\n",
        "\n",
        "print(\"Autovalores simplificados:\", autovalores_simplificados)\n",
        "print(\"Autovectores simplificados:\\n\", autovectores_simplificados)\n"
      ]
    },
    {
      "cell_type": "code",
      "execution_count": null,
      "metadata": {
        "colab": {
          "base_uri": "https://localhost:8080/"
        },
        "id": "zGEs4pr2A5JR",
        "outputId": "47bf8fcb-8ad8-4b82-88c1-20ef9be35158"
      },
      "outputs": [
        {
          "data": {
            "text/plain": [
              "dict_keys([11/3 + 16*2**(1/3)/(3*(61 + 3*sqrt(1407)*I)**(1/3)) + 2**(2/3)*(61 + 3*sqrt(1407)*I)**(1/3)/6, (-128*2**(1/3) + (1 - sqrt(3)*I)*(44 + 2**(2/3)*(-1 + sqrt(3)*I)*(61 + 3*sqrt(1407)*I)**(1/3))*(61 + 3*sqrt(1407)*I)**(1/3))/(12*(1 - sqrt(3)*I)*(61 + 3*sqrt(1407)*I)**(1/3)), (-128*2**(1/3) + (1 + sqrt(3)*I)*(44 - 2**(2/3)*(1 + sqrt(3)*I)*(61 + 3*sqrt(1407)*I)**(1/3))*(61 + 3*sqrt(1407)*I)**(1/3))/(12*(1 + sqrt(3)*I)*(61 + 3*sqrt(1407)*I)**(1/3))])"
            ]
          },
          "execution_count": 30,
          "metadata": {},
          "output_type": "execute_result"
        }
      ],
      "source": [
        "autovalores_simplificados"
      ]
    },
    {
      "cell_type": "markdown",
      "metadata": {
        "id": "kZWZu8BRwG2h"
      },
      "source": [
        "# Pytorch\n",
        "\n",
        "Definción de una matrix de tres formas:\n",
        "Hasta ahora sabemos definir matrices como objetos de numpy y objetos de sympy, en la actualidad, el rápido crecimiento de las unidades de procesamiento gráfico GPU,  permite definir otro tipo de objetos que pueden acelerar el computo computacional.\n",
        "\n",
        "\n",
        "- Como objeto de numpy\n",
        "- Como objeto de sympy\n",
        "- Como objeto de pytorch\n",
        "\n",
        "\n",
        "La velocidad de ejecución entre PyTorch y Numpy puede variar dependiendo del tamaño de los datos y si se está utilizando o no la aceleración por GPU. Para operaciones con matrices pequeñas y cálculos que no requieren de la paralelización de una GPU, Numpy puede ser más rápido porque opera directamente en la CPU y la memoria principal. Sin embargo, para matrices grandes y operaciones que pueden ser paralelizadas, PyTorch con soporte de GPU puede ser significativamente más rápido.\n",
        "\n",
        "Comparativa de comandos de ejecución entre pytorch, numpy  y sympy\n",
        "\n",
        "\n",
        "| Operación | PyTorch | Numpy | SymPy |\n",
        "|-----------|---------|-------|-------|\n",
        "| Creación de una matriz | `torch.tensor([[1, 2], [3, 4]])` | `np.array([[1, 2], [3, 4]])` | `Matrix([[1, 2], [3, 4]])` |\n",
        "| Transposición de una matriz | `torch.transpose(A, 0, 1)` | `A.T` o `np.transpose(A)` | `A.T` |\n",
        "| Multiplicación de matrices | `torch.matmul(A, B)` | `np.dot(A, B)` o `A @ B` | `A * B` |\n",
        "| Inversa de una matriz | `torch.inverse(A)` | `np.linalg.inv(A)` | `A**-1` |\n",
        "| Determinante de una matriz | `torch.det(A)` | `np.linalg.det(A)` | `A.det()` |\n",
        "| Autovalores y autovectores | `torch.eig(A, eigenvectors=True)` | `np.linalg.eig(A)` | `A.eigenvals()`, `A.eigenvects()` |\n"
      ]
    },
    {
      "cell_type": "markdown",
      "metadata": {
        "id": "0IZOos3VztQS"
      },
      "source": [
        "Ejemplo básico del comparativo de un problema de algebra lineal, rotación de un vector:"
      ]
    },
    {
      "cell_type": "code",
      "execution_count": null,
      "metadata": {
        "id": "Ve2Qic9ttIkE"
      },
      "outputs": [],
      "source": [
        "\n",
        "def matrixA(theta, tipo=\"numpy\"):\n",
        "  if(tipo==\"np\"):\n",
        "    return np.array([[np.cos(theta),-np.sin(theta)],[np.sin(theta), np.cos(theta)]])\n",
        "  elif(tipo==\"sp\"):\n",
        "    return np.array([[sp.cos(theta),-sp.sin(theta)],[sp.sin(theta), sp.cos(theta)]])\n",
        "\n",
        "  elif(tipo==\"pt\"):\n",
        "    return pt.tensor([[np.cos(theta),-np.sin(theta)],[np.sin(theta), np.cos(theta)]])\n",
        "\n",
        "  else:\n",
        "\n",
        "    print(\"Define el tipo de variable que desea\")\n"
      ]
    },
    {
      "cell_type": "code",
      "execution_count": null,
      "metadata": {
        "colab": {
          "base_uri": "https://localhost:8080/",
          "height": 80
        },
        "id": "6pvCFzl7uDm3",
        "outputId": "cc6ee326-1d22-4ed8-a5f2-8e6da420e62e"
      },
      "outputs": [
        {
          "data": {
            "text/latex": [
              "$\\displaystyle \\left[\\begin{matrix}0.707106781186548 & -0.707106781186547\\\\0.707106781186547 & 0.707106781186548\\end{matrix}\\right]$"
            ],
            "text/plain": [
              "Matrix([\n",
              "[0.707106781186548, -0.707106781186547],\n",
              "[0.707106781186547,  0.707106781186548]])"
            ]
          },
          "execution_count": 16,
          "metadata": {},
          "output_type": "execute_result"
        }
      ],
      "source": [
        "x = sp.Symbol(\"x\")\n",
        "M = sp.Matrix(matrixA(np.pi/4, tipo=\"sp\"))\n",
        "M"
      ]
    },
    {
      "cell_type": "code",
      "execution_count": null,
      "metadata": {
        "colab": {
          "base_uri": "https://localhost:8080/"
        },
        "id": "brk8Daew2EmP",
        "outputId": "892116c1-d682-46af-a833-cdc197bf8b9a"
      },
      "outputs": [
        {
          "data": {
            "text/plain": [
              "array([[ 0.70710678, -0.70710678],\n",
              "       [ 0.70710678,  0.70710678]])"
            ]
          },
          "execution_count": 14,
          "metadata": {},
          "output_type": "execute_result"
        }
      ],
      "source": [
        "x=np.pi/4\n",
        "M = matrixA(x, tipo=\"np\")\n",
        "M"
      ]
    },
    {
      "cell_type": "code",
      "execution_count": null,
      "metadata": {
        "colab": {
          "base_uri": "https://localhost:8080/"
        },
        "id": "Z-6fzFXrvbgL",
        "outputId": "edfe7842-690e-48c4-bfca-5057aad32c83"
      },
      "outputs": [
        {
          "data": {
            "text/plain": [
              "array([[ 0.70710678, -0.70710678],\n",
              "       [ 0.70710678,  0.70710678]])"
            ]
          },
          "execution_count": 15,
          "metadata": {},
          "output_type": "execute_result"
        }
      ],
      "source": [
        "matrixA(x, tipo=\"pt\")\n",
        "M"
      ]
    },
    {
      "cell_type": "markdown",
      "metadata": {
        "id": "b-IQVSe3CAp6"
      },
      "source": [
        "Actividad:\n",
        "*   Resolver el problema de la potencia de una matriz empleando pytorch, construir.\n",
        "*   Resolver la exponencial de una  matriz ($e^A$)\n"
      ]
    },
    {
      "cell_type": "code",
      "execution_count": null,
      "metadata": {
        "colab": {
          "base_uri": "https://localhost:8080/"
        },
        "id": "IQ7pQHV6F_lz",
        "outputId": "03e963b8-6420-471a-9852-8a338ea56c9c"
      },
      "outputs": [
        {
          "output_type": "stream",
          "name": "stdout",
          "text": [
            "Matriz A elevada a la potencia 2 :\n",
            " tensor([[20, 16,  2],\n",
            "        [16, 21,  7],\n",
            "        [ 2,  7, 10]])\n"
          ]
        }
      ],
      "source": [
        "A = pt.tensor([[4, 2, 0],\n",
        "              [2, 4, 1],\n",
        "              [0, 1, 3]])\n",
        "\n",
        "n = 2\n",
        "A_n = pt.matrix_power(A, n)\n",
        "print(\"Matriz A elevada a la potencia\", n, \":\\n\", A_n)"
      ]
    },
    {
      "cell_type": "markdown",
      "source": [
        "| Operación |\n",
        "|-----------|\n",
        "| torch.eig(A, eigenvectors=True) |\n",
        "\n",
        "esta obsoleta, me recomienda en cambio ultizar\n",
        "\n",
        "```\n",
        "torch.linalg.eig(A)\n",
        "```\n",
        "\n"
      ],
      "metadata": {
        "id": "k-bFEv3NKCIR"
      }
    },
    {
      "cell_type": "code",
      "source": [
        "A = pt.tensor([[4, 2, 0],\n",
        "              [2, 4, 1],\n",
        "              [0, 1, 3]], dtype=float)\n",
        "# Lo contierto a este tipo de dato, para luego poder comparar con la otra matriz\n",
        "A = A.to(dtype=pt.complex128)\n",
        "valores_propios, vectores_propios = pt.linalg.eig(A)\n",
        "print(valores_propios,vectores_propios, sep=\"\\n\")"
      ],
      "metadata": {
        "colab": {
          "base_uri": "https://localhost:8080/"
        },
        "id": "OXUrs5zDJl30",
        "outputId": "30eb12ff-653d-4ebe-cf6c-ee5c4695928b"
      },
      "execution_count": null,
      "outputs": [
        {
          "output_type": "stream",
          "name": "stdout",
          "text": [
            "tensor([6.1642+0.j, 1.6086+0.j, 3.2271+0.j], dtype=torch.complex128)\n",
            "tensor([[ 0.6611-0.j, -0.5618+0.j, -0.4973+0.j],\n",
            "        [ 0.7154+0.j,  0.6718+0.j,  0.1922+0.j],\n",
            "        [ 0.2261-0.j, -0.4828+0.j,  0.8460+0.j]], dtype=torch.complex128)\n"
          ]
        }
      ]
    },
    {
      "cell_type": "markdown",
      "source": [
        "**Nota:** Lo que quiero decir es que si dejo el tensor con `dtype = float` luego si escrbo `A = A_`. Para algunos datos retorna True y para otros False incluso cuando a efectos matematicos son iguales en realidad. La solucion que encontre fue convertir la matriz A al mismo dtype que ` torch.matmul` retorna, es decir, `dtype = complex128`. En la documentancion de pytorch tambien tienen notas al respecto\n"
      ],
      "metadata": {
        "id": "Di_uFArPn2Ls"
      }
    },
    {
      "cell_type": "code",
      "source": [
        "def Diagonalizable(P,D):\n",
        "  A_ = pt.matmul(P,pt.matmul(D, pt.inverse(P)))\n",
        "  umbral = 1e-15\n",
        "  A_[pt.abs(A_) < umbral] = 0\n",
        "  if pt.allclose(A,A_) == True:\n",
        "    print(\"La Matrix es diagonalizable\")\n",
        "    return True\n",
        "  else:\n",
        "    print(\"No es diagonalizable\")\n",
        "    return False"
      ],
      "metadata": {
        "id": "imC1a4iogvwm"
      },
      "execution_count": null,
      "outputs": []
    },
    {
      "cell_type": "code",
      "source": [
        "def Matriz_potencia(A):\n",
        "  valores_propios, vectores_propios = pt.linalg.eig(A)\n",
        "  D = pt.diag(valores_propios)\n",
        "  P = vectores_propios\n",
        "  valor_bool = Diagonalizable(P,D)\n",
        "  if valor_bool == True:\n",
        "    lista_valores = ([])\n",
        "    for i in valores_propios:\n",
        "      e_elevado = np.exp(i) # e^autovalor\n",
        "      lista_valores = np.append(lista_valores,e_elevado)\n",
        "    lista_valores_ = pt.tensor(lista_valores)\n",
        "    E = pt.diag(lista_valores_) # e^D\n",
        "    matrix_elevada = pt.matmul(P, pt.matmul(E, pt.inverse(P))) # Definicion de e^A\n",
        "    return print(\"e^A =\", matrix_elevada)"
      ],
      "metadata": {
        "id": "UEif2LfwJP7o"
      },
      "execution_count": null,
      "outputs": []
    },
    {
      "cell_type": "code",
      "source": [
        "Matriz_potencia(A)"
      ],
      "metadata": {
        "colab": {
          "base_uri": "https://localhost:8080/"
        },
        "id": "kisGCz3jrgea",
        "outputId": "29874f9a-e34b-4e1d-f61c-83751f185d09"
      },
      "execution_count": null,
      "outputs": [
        {
          "output_type": "stream",
          "name": "stdout",
          "text": [
            "La Matrix es diagonalizable\n",
            "e^A = tensor([[215.6140+0.j, 220.5750+0.j,  61.8156+0.j],\n",
            "        [220.5750+0.j, 246.5218+0.j,  79.3797+0.j],\n",
            "        [ 61.8156+0.j,  79.3797+0.j,  43.5109+0.j]], dtype=torch.complex128)\n"
          ]
        }
      ]
    }
  ],
  "metadata": {
    "colab": {
      "provenance": []
    },
    "kernelspec": {
      "display_name": "Python 3",
      "name": "python3"
    },
    "language_info": {
      "name": "python",
      "version": "3.9.18"
    }
  },
  "nbformat": 4,
  "nbformat_minor": 0
}