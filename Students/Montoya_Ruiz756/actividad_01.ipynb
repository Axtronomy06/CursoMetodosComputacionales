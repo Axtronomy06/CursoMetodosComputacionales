{
  "nbformat": 4,
  "nbformat_minor": 0,
  "metadata": {
    "colab": {
      "provenance": []
    },
    "kernelspec": {
      "name": "python3",
      "display_name": "Python 3"
    },
    "language_info": {
      "name": "python"
    }
  },
  "cells": [
    {
      "cell_type": "markdown",
      "source": [
        "1. Escribir un programa que pida al usuario dos números enteros y muestre por pantalla la <n> entre <m> da un cociente <c> y un resto <r> donde <n> y <m> son los números introducidos por el usuario, y <c> y <r> son el cociente y el resto de la división entera respectivamente."
      ],
      "metadata": {
        "id": "_p_o2HLpuC0r"
      }
    },
    {
      "cell_type": "code",
      "execution_count": 62,
      "metadata": {
        "colab": {
          "base_uri": "https://localhost:8080/"
        },
        "id": "SqcDJbqwtrUZ",
        "outputId": "6fe74fec-c55b-452e-efcf-709169fb443f"
      },
      "outputs": [
        {
          "output_type": "stream",
          "name": "stdout",
          "text": [
            "Este es un script que retorna el cociente y residuo entre dos números\n",
            "ingrese un dividendo 5\n",
            "ingrese el divisor 3\n",
            "el cociente es 1.6666666666666667 y el residuo 2.0\n"
          ]
        }
      ],
      "source": [
        "print(\"Este es un script que retorna el cociente y residuo entre dos números\")\n",
        "a = float(input(\"ingrese un dividendo \"))\n",
        "b = float(input(\"ingrese el divisor \"))\n",
        "def div_mod(a,b):\n",
        "    c = a / b\n",
        "    r = a % b\n",
        "    return print(f\"el cociente es {c} y el residuo {r}\")\n",
        "div_mod(a,b)"
      ]
    },
    {
      "cell_type": "markdown",
      "source": [
        "32. Crea una función llamada `doble_factorial` que reciba un parámetro llamado `n`. La función debe devolver el doble factorial de `n`, que se define como el producto de todos los números naturales desde n hasta 1 que tienen el mismo paridad que n. Por ejemplo, si `n` es 5, la función debe devolver 15, que es el resultado de 5 x 3 x 1. Llama a la función `doble_factorial` con diferentes valores para el parámetro `n`, como 6, 7 o 8."
      ],
      "metadata": {
        "id": "blbE9cz-uVHk"
      }
    },
    {
      "cell_type": "code",
      "source": [
        "def doble_factorial(n):\n",
        "  if type(n) == int:\n",
        "    fact = 1\n",
        "    if n < 0:\n",
        "      mensaje = \"el número no puede ser negativo\"\n",
        "      return mensaje\n",
        "    elif n > 1:\n",
        "      fact = n * doble_factorial(n - 2) # Se calcula el doble factorial\n",
        "    elif n == 1:\n",
        "      fact = 1\n",
        "    return fact\n",
        "  elif type(n) == float:\n",
        "    mensaje2 = \"el número no puede ser real\"\n",
        "    return mensaje2\n",
        "print(\"Este es un sript que calcula el doble factorial de un numero\")\n",
        "n = eval(input(\"Ingrese el numero \"))\n",
        "resultado = doble_factorial(n)\n",
        "print(resultado)"
      ],
      "metadata": {
        "id": "bULQuosIuaio",
        "colab": {
          "base_uri": "https://localhost:8080/"
        },
        "outputId": "b6973c1e-0059-4940-e837-f38fb3ad1c44"
      },
      "execution_count": 57,
      "outputs": [
        {
          "output_type": "stream",
          "name": "stdout",
          "text": [
            "Este es un sript que calcula el doble factorial de un numero\n",
            "Ingrese el numero 25\n",
            "7905853580625\n"
          ]
        }
      ]
    },
    {
      "cell_type": "markdown",
      "source": [
        "3. Crea una función llamada `lucas` que reciba un parámetro llamado `n`. La función debe devolver el n-ésimo término de la sucesión de Lucas, que se define de forma similar a la sucesión de Fibonacci, pero con los dos primeros términos iguales a 2 y 1. Por ejemplo, si `n` es 3, la función debe devolver 4, que es el tercer término de la sucesión. Llama a la función `lucas` con diferentes valores para el parámetro `n`, como 9, 10 o 11."
      ],
      "metadata": {
        "id": "Uya-jM1h0I2U"
      }
    },
    {
      "cell_type": "code",
      "source": [
        "def lucas(n):\n",
        "  l = [2,1]\n",
        "  if n > 2:\n",
        "    while len(l) < n:\n",
        "      suma = l[-1] + l[-2]\n",
        "      l.append(suma)\n",
        "  elif n == 1 :\n",
        "    return l[0]\n",
        "  elif n == 2 :\n",
        "    return l[1]\n",
        "  return l[-1]\n",
        "print(\"Este es un script que retorna el n-ésimo término de la sucesión de Lucas\")\n",
        "n = int(input(\"ingrese el n-ésimo termino \"))\n",
        "r = lucas(n)\n",
        "print(f\"el {n} ésimo termino de la sucecion de lucas es {r}\")"
      ],
      "metadata": {
        "id": "hezu_dzNxwLg",
        "colab": {
          "base_uri": "https://localhost:8080/"
        },
        "outputId": "3086be6c-481b-4dae-c7af-682653bade67"
      },
      "execution_count": 58,
      "outputs": [
        {
          "output_type": "stream",
          "name": "stdout",
          "text": [
            "Este es un script que retorna el n-ésimo término de la sucesión de Lucas\n",
            "ingrese el n-ésimo termino 5\n",
            "el 5 ésimo termino de la sucecion de lucas es 7\n"
          ]
        }
      ]
    },
    {
      "cell_type": "code",
      "source": [
        "lucas(6)"
      ],
      "metadata": {
        "colab": {
          "base_uri": "https://localhost:8080/"
        },
        "id": "LyHUEKKq2kqv",
        "outputId": "479cf3ec-c937-4fab-97db-03e1006bbcb8"
      },
      "execution_count": 11,
      "outputs": [
        {
          "output_type": "execute_result",
          "data": {
            "text/plain": [
              "11"
            ]
          },
          "metadata": {},
          "execution_count": 11
        }
      ]
    },
    {
      "cell_type": "markdown",
      "source": [
        "4. Crea una función llamada `binomial` que reciba dos parámetros llamados `n` y `k`. La función debe devolver el coeficiente binomial de `n` y `k`, que se define como el número de formas de elegir k elementos distintos de un conjunto de n elementos. Por ejemplo, si `n` es 5 y `k` es 3, la función debe devolver 10, ya que hay diez formas de elegir tres elementos distintos de un conjunto de cinco elementos. Llama a la función `binomial` con diferentes valores para los parámetros `n` y `k`, como 6 y 4, o 7 y 2.\n"
      ],
      "metadata": {
        "id": "oATcggV-7sZq"
      }
    },
    {
      "cell_type": "code",
      "source": [
        "def factorial(n):\n",
        "  if type(n) == int:\n",
        "    fact = 1\n",
        "    if n < 0:\n",
        "      mensaje = \"el número no puede ser negativo\"\n",
        "      return mensaje\n",
        "    elif n > 1:\n",
        "      fact = n * factorial(n - 1) # Se calcula el factorial\n",
        "    elif n == 1:\n",
        "      fact = 1\n",
        "    return fact\n",
        "  elif type(n) == float:\n",
        "    mensaje2 = \"el número no puede ser real\"\n",
        "    return mensaje2\n",
        "def binomial(n,k):\n",
        "  p = n-k\n",
        "  n = factorial(n)\n",
        "  d = factorial(k) * factorial(p)\n",
        "  binomial = n / d\n",
        "  return binomial\n",
        "print(\"Este es un scirpt que calcula el coeficiente binomial de n y k\")\n",
        "n = eval(input(\"ingrese el número n \"))\n",
        "k = eval(input(\"ingrese el número k \"))\n",
        "r = binomial(n,k)\n",
        "print(f\"El coeficiente binomial de n y k es {r}\")"
      ],
      "metadata": {
        "id": "gouqA_vz4-72",
        "colab": {
          "base_uri": "https://localhost:8080/"
        },
        "outputId": "037c0493-5aa5-43f9-d4b5-8cf617a273cd"
      },
      "execution_count": 59,
      "outputs": [
        {
          "output_type": "stream",
          "name": "stdout",
          "text": [
            "Este es un scirpt que calcula el coeficiente binomial de n y k\n",
            "ingrese el número n 5\n",
            "ingrese el número k 3\n",
            "El coeficiente binomial de n y k es 10.0\n"
          ]
        }
      ]
    },
    {
      "cell_type": "code",
      "source": [
        "binomial(7,2)"
      ],
      "metadata": {
        "colab": {
          "base_uri": "https://localhost:8080/"
        },
        "id": "Ngttw2d5AENG",
        "outputId": "c2d23639-9e18-4221-e3b6-ceb809862896"
      },
      "execution_count": 19,
      "outputs": [
        {
          "output_type": "execute_result",
          "data": {
            "text/plain": [
              "21.0"
            ]
          },
          "metadata": {},
          "execution_count": 19
        }
      ]
    }
  ]
}