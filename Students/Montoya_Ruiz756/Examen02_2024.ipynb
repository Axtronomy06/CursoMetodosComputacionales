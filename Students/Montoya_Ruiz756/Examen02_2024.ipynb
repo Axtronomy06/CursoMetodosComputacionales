{
  "nbformat": 4,
  "nbformat_minor": 0,
  "metadata": {
    "colab": {
      "provenance": []
    },
    "kernelspec": {
      "name": "python3",
      "display_name": "Python 3"
    },
    "language_info": {
      "name": "python"
    }
  },
  "cells": [
    {
      "cell_type": "markdown",
      "source": [
        "# Examen 2: Métodos computacionales.\n",
        "\n",
        "## Profesor: Hernán Salinas\n",
        "### Universidad de Antioquia\n",
        "\n",
        "El examen consta de dos partes, cada una con igual valor. Es un examen individual y no se permite el uso de herramientas de inteligencia artificial para su realización. Una lectura detallada será suficiente para resolver ambos problemas, basándose en los conocimientos adquiridos en el curso.\n"
      ],
      "metadata": {
        "id": "yzIQLm5ASP00"
      }
    },
    {
      "cell_type": "code",
      "source": [
        "import requests\n",
        "import pandas as pd\n",
        "import numpy as np\n",
        "import matplotlib.pyplot as plt\n",
        "from io import StringIO\n",
        "from scipy.integrate import quad\n",
        "from scipy.optimize import curve_fit\n",
        "from scipy.interpolate import CubicSpline"
      ],
      "metadata": {
        "id": "KSTz2PMPQ7Zx"
      },
      "execution_count": 6,
      "outputs": []
    },
    {
      "cell_type": "markdown",
      "source": [
        "### I. Radiación de Cuerpo Negro:\n",
        "\n",
        " La radiación de cuerpo negro, se refiere a la radiación electromagnética emitida por un objeto que absorbe toda la radiación incidente sin reflejar nada. La cual  puede ser modelada según la ley de Planck que relaciona la intensidad de la radiación de un cuerpo negro con la temperatura del objeto. A medida que la temperatura aumenta, la longitud de onda máxima de la radiación se desplaza hacia longitudes de onda más cortas. Para generar una intuición,  piensa en  trozo  de carbón, el cual representa un ejemplo cercano a lo que se conoce como un cuerpo negro en física. Este elemento tiene la particularidad de reflejar mínimamente la luz, capturando prácticamente toda la radiación que recibe. Al alcanzar temperaturas elevadas, similar a las de las brasas ardientes, el carbón comienza a emitir radiación tanto en el rango visible como en el infrarrojo del espectro.\n",
        "\n",
        "  La radiación de cuerpo negro puede ser modelada empleando la ley de Planck para describir la densidad  espectral  de energía de la radiación emitida por un cuerpo negro a una temperatura (T). La ley de Planck establece que la densidad espectral de energía $u(\\lambda, T)$  para un cuerpo negro está dada por:\n",
        "\n",
        "\\begin{equation}\n",
        "u(\\lambda, T) = \\frac{{8\\pi hc}}{{\\lambda^5}} \\cdot \\frac{1}{{e^{\\frac{{hc}}{{\\lambda k_B T}}} - 1}}\n",
        "\\end{equation}\n",
        "\n",
        " donde:\n",
        "\n",
        "$h = 6.62607015  \\times 10^{-34} \\mathrm{J} s$ : es la constante de Planck.\n",
        "\n",
        "$c = 299792458 \\mathrm{m/s}$ : es la velocidad de la luz.\n",
        "\n",
        "\n",
        "$k_B = 1.380649 \\times 10^{-23}\\mathrm{J/K}$ : es la constante de Boltzmann.\n",
        "\n",
        "$ \\lambda$ es la longitud de onda.\n",
        "\n",
        "\n",
        "Podemos integrar la densidad espectral de energía sobre todas las longitudes de onda para obtener la potencia total emitida por unidad de área de un cuerpo negro a una temperatura (T) (ley  de Stefan-Boltzmann):\n",
        "\n",
        "\n",
        "\\begin{equation}\n",
        "P_{\\text{total}} = \\sigma T^4\n",
        "\\end{equation}\n",
        "\n",
        "donde:\n",
        "\n",
        "$\\sigma$ es la constante de Stefan-Boltzmann.\n",
        "\n",
        "\n",
        "Su tarea en este examen será:\n",
        "\n",
        "1. Realizar una gráfica de $u(\\lambda, T)$ vs $\\lambda$, toma valores de $\\lambda$ entre $1\\mathrm{nm}$ y $8\\mathrm{\\mu m}$, para valores de\n",
        "```T=np.array([1000,2000,4000,5000]) ```K\n",
        "\n",
        "\n",
        "Las curvas resultantes deben reflejar el comportamiento típico de datos experimentales, tal como se muestra al ejecutar el siguiente código :\n",
        "\n",
        "```python\n",
        "import requests\n",
        "from io import StringIO\n",
        "\n",
        "\n",
        "# URL del archivo txt en línea\n",
        "url_del_archivo = 'http://www.sc.ehu.es/sbweb/fisica3/calor/radiacion/espectro.txt'\n",
        "\n",
        "# Realizar una petición GET para obtener el contenido del archivo\n",
        "respuesta = requests.get(url_del_archivo)\n",
        "\n",
        "# Verificar que la petición fue exitosa\n",
        "if respuesta.status_code == 200:\n",
        "    # Acceder al contenido del archivo\n",
        "    data_string = respuesta.text\n",
        "else:\n",
        "    print(f\"Error al acceder al archivo: {respuesta.status_code}\")\n",
        "# Utilizar StringIO para simular un archivo en memoria a partir del string\n",
        "data = StringIO(data_string)\n",
        "# Convertir el string a DataFrame, especificando el separador de espacios\n",
        "df = pd.read_csv(data, sep=\" \", header=None)\n",
        "# Asignar nombres a las columnas si es necesario\n",
        "df.columns = ['A', 'B', 'C', \"D\"]\n",
        "# Mostrar el DataFrame\n",
        "plt.plot(df.A, df.B)\n",
        "```\n",
        "\n",
        "\n",
        "\n",
        "\n"
      ],
      "metadata": {
        "id": "htqIUVv20gWU"
      }
    },
    {
      "cell_type": "code",
      "source": [
        "from scipy.constants import h,c,k # La constante de plank, la velocidad de la luz y la constante de Boltzmann.\n",
        "print(h,c,k,sep=\"\\n\")"
      ],
      "metadata": {
        "colab": {
          "base_uri": "https://localhost:8080/"
        },
        "id": "fB8m7pgqPEQi",
        "outputId": "adcda9b9-30bb-4ff2-8bdb-f1c540f3ba43"
      },
      "execution_count": 7,
      "outputs": [
        {
          "output_type": "stream",
          "name": "stdout",
          "text": [
            "6.62607015e-34\n",
            "299792458.0\n",
            "1.380649e-23\n"
          ]
        }
      ]
    },
    {
      "cell_type": "code",
      "source": [
        "def densidad_espectral(lamb,temperatura):\n",
        "  l = np.array([])\n",
        "  u = lambda lamb,temperatura: (8*np.pi*h*c)/ (lamb**5 * (np.exp((h * c) / (lamb * k * temperatura))-1))\n",
        "  for e in lamb:\n",
        "    r = u(e,temperatura)\n",
        "    l = np.append(l,r)\n",
        "  return l"
      ],
      "metadata": {
        "id": "xv_d11FJOkOp"
      },
      "execution_count": 8,
      "outputs": []
    },
    {
      "cell_type": "code",
      "source": [
        "lamb = np.linspace(1e-9, 8e-6, 1000)\n",
        "T = np.array([1000, 2000, 4000, 5000])\n",
        "df = pd.DataFrame(columns=T) # Nombro las columnas\n",
        "for T_ in T:\n",
        "  p = densidad_espectral(lamb, T_)\n",
        "  df[T_] = p"
      ],
      "metadata": {
        "colab": {
          "base_uri": "https://localhost:8080/"
        },
        "id": "VxxICfPTeCMd",
        "outputId": "093af10c-d742-4582-8423-a1d177620d9b"
      },
      "execution_count": 9,
      "outputs": [
        {
          "output_type": "stream",
          "name": "stderr",
          "text": [
            "<ipython-input-8-20813e2b131a>:3: RuntimeWarning: overflow encountered in exp\n",
            "  u = lambda lamb,temperatura: (8*np.pi*h*c)/ (lamb**5 * (np.exp((h * c) / (lamb * k * temperatura))-1))\n"
          ]
        }
      ]
    },
    {
      "cell_type": "markdown",
      "source": [
        "***Nota***: Para λ ya muy pequeños $e^{\\frac{{hc}}{{\\lambda k_B T}}}$ se desborda por eso da inf. entonces esos datos se pierden y por ende no aportan ya al calculo de la densidad espectral"
      ],
      "metadata": {
        "id": "y-jPXmuVvfZ3"
      }
    },
    {
      "cell_type": "code",
      "source": [
        "np.exp((h * c) / (1e-9 * k * 5000))"
      ],
      "metadata": {
        "colab": {
          "base_uri": "https://localhost:8080/"
        },
        "id": "tbEX45vVtm_4",
        "outputId": "71433659-b3e9-433c-97a5-238ebe523718"
      },
      "execution_count": 10,
      "outputs": [
        {
          "output_type": "stream",
          "name": "stderr",
          "text": [
            "<ipython-input-10-4d1396f38c5a>:1: RuntimeWarning: overflow encountered in exp\n",
            "  np.exp((h * c) / (1e-9 * k * 5000))\n"
          ]
        },
        {
          "output_type": "execute_result",
          "data": {
            "text/plain": [
              "inf"
            ]
          },
          "metadata": {},
          "execution_count": 10
        }
      ]
    },
    {
      "cell_type": "code",
      "source": [
        "np.exp((h * c) / (1e-6 * k * 5000))"
      ],
      "metadata": {
        "colab": {
          "base_uri": "https://localhost:8080/"
        },
        "id": "SneTIyPouM33",
        "outputId": "59c6508f-54dd-441d-ae59-3df815df5d8c"
      },
      "execution_count": 11,
      "outputs": [
        {
          "output_type": "execute_result",
          "data": {
            "text/plain": [
              "17.77074836094772"
            ]
          },
          "metadata": {},
          "execution_count": 11
        }
      ]
    },
    {
      "cell_type": "markdown",
      "source": [
        "Asi queda entonces el dataframe"
      ],
      "metadata": {
        "id": "z2s38d4oCag-"
      }
    },
    {
      "cell_type": "code",
      "source": [
        "df"
      ],
      "metadata": {
        "colab": {
          "base_uri": "https://localhost:8080/",
          "height": 423
        },
        "id": "cDxtoxU9iEjr",
        "outputId": "2f38391b-05d9-4eef-d8fa-b35cb50bd83e"
      },
      "execution_count": 12,
      "outputs": [
        {
          "output_type": "execute_result",
          "data": {
            "text/plain": [
              "              1000           2000           4000           5000\n",
              "0     0.000000e+00   0.000000e+00   0.000000e+00   0.000000e+00\n",
              "1     0.000000e+00   0.000000e+00  3.091752e-157  1.503996e-122\n",
              "2     0.000000e+00  8.230103e-169   5.368389e-77   1.238032e-58\n",
              "3    9.454361e-236  6.937641e-111   1.879324e-48   5.761819e-36\n",
              "4    8.226909e-176   3.232734e-81   6.408209e-34   1.845738e-24\n",
              "..             ...            ...            ...            ...\n",
              "995   3.057401e+01   1.059886e+02   2.724488e+02   3.573748e+02\n",
              "996   3.048693e+01   1.056186e+02   2.714225e+02   3.560103e+02\n",
              "997   3.040014e+01   1.052501e+02   2.704010e+02   3.546523e+02\n",
              "998   3.031364e+01   1.048833e+02   2.693844e+02   3.533007e+02\n",
              "999   3.022743e+01   1.045181e+02   2.683725e+02   3.519556e+02\n",
              "\n",
              "[1000 rows x 4 columns]"
            ],
            "text/html": [
              "\n",
              "  <div id=\"df-237d2d0c-0c83-4638-b7a1-540fdd9e655b\" class=\"colab-df-container\">\n",
              "    <div>\n",
              "<style scoped>\n",
              "    .dataframe tbody tr th:only-of-type {\n",
              "        vertical-align: middle;\n",
              "    }\n",
              "\n",
              "    .dataframe tbody tr th {\n",
              "        vertical-align: top;\n",
              "    }\n",
              "\n",
              "    .dataframe thead th {\n",
              "        text-align: right;\n",
              "    }\n",
              "</style>\n",
              "<table border=\"1\" class=\"dataframe\">\n",
              "  <thead>\n",
              "    <tr style=\"text-align: right;\">\n",
              "      <th></th>\n",
              "      <th>1000</th>\n",
              "      <th>2000</th>\n",
              "      <th>4000</th>\n",
              "      <th>5000</th>\n",
              "    </tr>\n",
              "  </thead>\n",
              "  <tbody>\n",
              "    <tr>\n",
              "      <th>0</th>\n",
              "      <td>0.000000e+00</td>\n",
              "      <td>0.000000e+00</td>\n",
              "      <td>0.000000e+00</td>\n",
              "      <td>0.000000e+00</td>\n",
              "    </tr>\n",
              "    <tr>\n",
              "      <th>1</th>\n",
              "      <td>0.000000e+00</td>\n",
              "      <td>0.000000e+00</td>\n",
              "      <td>3.091752e-157</td>\n",
              "      <td>1.503996e-122</td>\n",
              "    </tr>\n",
              "    <tr>\n",
              "      <th>2</th>\n",
              "      <td>0.000000e+00</td>\n",
              "      <td>8.230103e-169</td>\n",
              "      <td>5.368389e-77</td>\n",
              "      <td>1.238032e-58</td>\n",
              "    </tr>\n",
              "    <tr>\n",
              "      <th>3</th>\n",
              "      <td>9.454361e-236</td>\n",
              "      <td>6.937641e-111</td>\n",
              "      <td>1.879324e-48</td>\n",
              "      <td>5.761819e-36</td>\n",
              "    </tr>\n",
              "    <tr>\n",
              "      <th>4</th>\n",
              "      <td>8.226909e-176</td>\n",
              "      <td>3.232734e-81</td>\n",
              "      <td>6.408209e-34</td>\n",
              "      <td>1.845738e-24</td>\n",
              "    </tr>\n",
              "    <tr>\n",
              "      <th>...</th>\n",
              "      <td>...</td>\n",
              "      <td>...</td>\n",
              "      <td>...</td>\n",
              "      <td>...</td>\n",
              "    </tr>\n",
              "    <tr>\n",
              "      <th>995</th>\n",
              "      <td>3.057401e+01</td>\n",
              "      <td>1.059886e+02</td>\n",
              "      <td>2.724488e+02</td>\n",
              "      <td>3.573748e+02</td>\n",
              "    </tr>\n",
              "    <tr>\n",
              "      <th>996</th>\n",
              "      <td>3.048693e+01</td>\n",
              "      <td>1.056186e+02</td>\n",
              "      <td>2.714225e+02</td>\n",
              "      <td>3.560103e+02</td>\n",
              "    </tr>\n",
              "    <tr>\n",
              "      <th>997</th>\n",
              "      <td>3.040014e+01</td>\n",
              "      <td>1.052501e+02</td>\n",
              "      <td>2.704010e+02</td>\n",
              "      <td>3.546523e+02</td>\n",
              "    </tr>\n",
              "    <tr>\n",
              "      <th>998</th>\n",
              "      <td>3.031364e+01</td>\n",
              "      <td>1.048833e+02</td>\n",
              "      <td>2.693844e+02</td>\n",
              "      <td>3.533007e+02</td>\n",
              "    </tr>\n",
              "    <tr>\n",
              "      <th>999</th>\n",
              "      <td>3.022743e+01</td>\n",
              "      <td>1.045181e+02</td>\n",
              "      <td>2.683725e+02</td>\n",
              "      <td>3.519556e+02</td>\n",
              "    </tr>\n",
              "  </tbody>\n",
              "</table>\n",
              "<p>1000 rows × 4 columns</p>\n",
              "</div>\n",
              "    <div class=\"colab-df-buttons\">\n",
              "\n",
              "  <div class=\"colab-df-container\">\n",
              "    <button class=\"colab-df-convert\" onclick=\"convertToInteractive('df-237d2d0c-0c83-4638-b7a1-540fdd9e655b')\"\n",
              "            title=\"Convert this dataframe to an interactive table.\"\n",
              "            style=\"display:none;\">\n",
              "\n",
              "  <svg xmlns=\"http://www.w3.org/2000/svg\" height=\"24px\" viewBox=\"0 -960 960 960\">\n",
              "    <path d=\"M120-120v-720h720v720H120Zm60-500h600v-160H180v160Zm220 220h160v-160H400v160Zm0 220h160v-160H400v160ZM180-400h160v-160H180v160Zm440 0h160v-160H620v160ZM180-180h160v-160H180v160Zm440 0h160v-160H620v160Z\"/>\n",
              "  </svg>\n",
              "    </button>\n",
              "\n",
              "  <style>\n",
              "    .colab-df-container {\n",
              "      display:flex;\n",
              "      gap: 12px;\n",
              "    }\n",
              "\n",
              "    .colab-df-convert {\n",
              "      background-color: #E8F0FE;\n",
              "      border: none;\n",
              "      border-radius: 50%;\n",
              "      cursor: pointer;\n",
              "      display: none;\n",
              "      fill: #1967D2;\n",
              "      height: 32px;\n",
              "      padding: 0 0 0 0;\n",
              "      width: 32px;\n",
              "    }\n",
              "\n",
              "    .colab-df-convert:hover {\n",
              "      background-color: #E2EBFA;\n",
              "      box-shadow: 0px 1px 2px rgba(60, 64, 67, 0.3), 0px 1px 3px 1px rgba(60, 64, 67, 0.15);\n",
              "      fill: #174EA6;\n",
              "    }\n",
              "\n",
              "    .colab-df-buttons div {\n",
              "      margin-bottom: 4px;\n",
              "    }\n",
              "\n",
              "    [theme=dark] .colab-df-convert {\n",
              "      background-color: #3B4455;\n",
              "      fill: #D2E3FC;\n",
              "    }\n",
              "\n",
              "    [theme=dark] .colab-df-convert:hover {\n",
              "      background-color: #434B5C;\n",
              "      box-shadow: 0px 1px 3px 1px rgba(0, 0, 0, 0.15);\n",
              "      filter: drop-shadow(0px 1px 2px rgba(0, 0, 0, 0.3));\n",
              "      fill: #FFFFFF;\n",
              "    }\n",
              "  </style>\n",
              "\n",
              "    <script>\n",
              "      const buttonEl =\n",
              "        document.querySelector('#df-237d2d0c-0c83-4638-b7a1-540fdd9e655b button.colab-df-convert');\n",
              "      buttonEl.style.display =\n",
              "        google.colab.kernel.accessAllowed ? 'block' : 'none';\n",
              "\n",
              "      async function convertToInteractive(key) {\n",
              "        const element = document.querySelector('#df-237d2d0c-0c83-4638-b7a1-540fdd9e655b');\n",
              "        const dataTable =\n",
              "          await google.colab.kernel.invokeFunction('convertToInteractive',\n",
              "                                                    [key], {});\n",
              "        if (!dataTable) return;\n",
              "\n",
              "        const docLinkHtml = 'Like what you see? Visit the ' +\n",
              "          '<a target=\"_blank\" href=https://colab.research.google.com/notebooks/data_table.ipynb>data table notebook</a>'\n",
              "          + ' to learn more about interactive tables.';\n",
              "        element.innerHTML = '';\n",
              "        dataTable['output_type'] = 'display_data';\n",
              "        await google.colab.output.renderOutput(dataTable, element);\n",
              "        const docLink = document.createElement('div');\n",
              "        docLink.innerHTML = docLinkHtml;\n",
              "        element.appendChild(docLink);\n",
              "      }\n",
              "    </script>\n",
              "  </div>\n",
              "\n",
              "\n",
              "<div id=\"df-3b943d1d-f840-4e4c-93b5-cd4dc834a2e8\">\n",
              "  <button class=\"colab-df-quickchart\" onclick=\"quickchart('df-3b943d1d-f840-4e4c-93b5-cd4dc834a2e8')\"\n",
              "            title=\"Suggest charts\"\n",
              "            style=\"display:none;\">\n",
              "\n",
              "<svg xmlns=\"http://www.w3.org/2000/svg\" height=\"24px\"viewBox=\"0 0 24 24\"\n",
              "     width=\"24px\">\n",
              "    <g>\n",
              "        <path d=\"M19 3H5c-1.1 0-2 .9-2 2v14c0 1.1.9 2 2 2h14c1.1 0 2-.9 2-2V5c0-1.1-.9-2-2-2zM9 17H7v-7h2v7zm4 0h-2V7h2v10zm4 0h-2v-4h2v4z\"/>\n",
              "    </g>\n",
              "</svg>\n",
              "  </button>\n",
              "\n",
              "<style>\n",
              "  .colab-df-quickchart {\n",
              "      --bg-color: #E8F0FE;\n",
              "      --fill-color: #1967D2;\n",
              "      --hover-bg-color: #E2EBFA;\n",
              "      --hover-fill-color: #174EA6;\n",
              "      --disabled-fill-color: #AAA;\n",
              "      --disabled-bg-color: #DDD;\n",
              "  }\n",
              "\n",
              "  [theme=dark] .colab-df-quickchart {\n",
              "      --bg-color: #3B4455;\n",
              "      --fill-color: #D2E3FC;\n",
              "      --hover-bg-color: #434B5C;\n",
              "      --hover-fill-color: #FFFFFF;\n",
              "      --disabled-bg-color: #3B4455;\n",
              "      --disabled-fill-color: #666;\n",
              "  }\n",
              "\n",
              "  .colab-df-quickchart {\n",
              "    background-color: var(--bg-color);\n",
              "    border: none;\n",
              "    border-radius: 50%;\n",
              "    cursor: pointer;\n",
              "    display: none;\n",
              "    fill: var(--fill-color);\n",
              "    height: 32px;\n",
              "    padding: 0;\n",
              "    width: 32px;\n",
              "  }\n",
              "\n",
              "  .colab-df-quickchart:hover {\n",
              "    background-color: var(--hover-bg-color);\n",
              "    box-shadow: 0 1px 2px rgba(60, 64, 67, 0.3), 0 1px 3px 1px rgba(60, 64, 67, 0.15);\n",
              "    fill: var(--button-hover-fill-color);\n",
              "  }\n",
              "\n",
              "  .colab-df-quickchart-complete:disabled,\n",
              "  .colab-df-quickchart-complete:disabled:hover {\n",
              "    background-color: var(--disabled-bg-color);\n",
              "    fill: var(--disabled-fill-color);\n",
              "    box-shadow: none;\n",
              "  }\n",
              "\n",
              "  .colab-df-spinner {\n",
              "    border: 2px solid var(--fill-color);\n",
              "    border-color: transparent;\n",
              "    border-bottom-color: var(--fill-color);\n",
              "    animation:\n",
              "      spin 1s steps(1) infinite;\n",
              "  }\n",
              "\n",
              "  @keyframes spin {\n",
              "    0% {\n",
              "      border-color: transparent;\n",
              "      border-bottom-color: var(--fill-color);\n",
              "      border-left-color: var(--fill-color);\n",
              "    }\n",
              "    20% {\n",
              "      border-color: transparent;\n",
              "      border-left-color: var(--fill-color);\n",
              "      border-top-color: var(--fill-color);\n",
              "    }\n",
              "    30% {\n",
              "      border-color: transparent;\n",
              "      border-left-color: var(--fill-color);\n",
              "      border-top-color: var(--fill-color);\n",
              "      border-right-color: var(--fill-color);\n",
              "    }\n",
              "    40% {\n",
              "      border-color: transparent;\n",
              "      border-right-color: var(--fill-color);\n",
              "      border-top-color: var(--fill-color);\n",
              "    }\n",
              "    60% {\n",
              "      border-color: transparent;\n",
              "      border-right-color: var(--fill-color);\n",
              "    }\n",
              "    80% {\n",
              "      border-color: transparent;\n",
              "      border-right-color: var(--fill-color);\n",
              "      border-bottom-color: var(--fill-color);\n",
              "    }\n",
              "    90% {\n",
              "      border-color: transparent;\n",
              "      border-bottom-color: var(--fill-color);\n",
              "    }\n",
              "  }\n",
              "</style>\n",
              "\n",
              "  <script>\n",
              "    async function quickchart(key) {\n",
              "      const quickchartButtonEl =\n",
              "        document.querySelector('#' + key + ' button');\n",
              "      quickchartButtonEl.disabled = true;  // To prevent multiple clicks.\n",
              "      quickchartButtonEl.classList.add('colab-df-spinner');\n",
              "      try {\n",
              "        const charts = await google.colab.kernel.invokeFunction(\n",
              "            'suggestCharts', [key], {});\n",
              "      } catch (error) {\n",
              "        console.error('Error during call to suggestCharts:', error);\n",
              "      }\n",
              "      quickchartButtonEl.classList.remove('colab-df-spinner');\n",
              "      quickchartButtonEl.classList.add('colab-df-quickchart-complete');\n",
              "    }\n",
              "    (() => {\n",
              "      let quickchartButtonEl =\n",
              "        document.querySelector('#df-3b943d1d-f840-4e4c-93b5-cd4dc834a2e8 button');\n",
              "      quickchartButtonEl.style.display =\n",
              "        google.colab.kernel.accessAllowed ? 'block' : 'none';\n",
              "    })();\n",
              "  </script>\n",
              "</div>\n",
              "    </div>\n",
              "  </div>\n"
            ],
            "application/vnd.google.colaboratory.intrinsic+json": {
              "type": "dataframe",
              "variable_name": "df",
              "summary": "{\n  \"name\": \"df\",\n  \"rows\": 1000,\n  \"fields\": [\n    {\n      \"column\": 1000,\n      \"properties\": {\n        \"dtype\": \"number\",\n        \"std\": 55.72444804483975,\n        \"min\": 0.0,\n        \"max\": 171.67783414671575,\n        \"num_unique_values\": 998,\n        \"samples\": [\n          152.79755148211194,\n          55.78918874669842,\n          72.78603826512888\n        ],\n        \"semantic_type\": \"\",\n        \"description\": \"\"\n      }\n    },\n    {\n      \"column\": 2000,\n      \"properties\": {\n        \"dtype\": \"number\",\n        \"std\": 1692.9133869046443,\n        \"min\": 0.0,\n        \"max\": 5493.6835549059315,\n        \"num_unique_values\": 999,\n        \"samples\": [\n          1260.4076750117667,\n          228.73002052628027,\n          5220.453737153134\n        ],\n        \"semantic_type\": \"\",\n        \"description\": \"\"\n      }\n    },\n    {\n      \"column\": 4000,\n      \"properties\": {\n        \"dtype\": \"number\",\n        \"std\": 44698.772297695934,\n        \"min\": 0.0,\n        \"max\": 175791.83286018044,\n        \"num_unique_values\": 1000,\n        \"samples\": [\n          2885.25097328505,\n          830.4287753957269,\n          818.1578484847781\n        ],\n        \"semantic_type\": \"\",\n        \"description\": \"\"\n      }\n    },\n    {\n      \"column\": 5000,\n      \"properties\": {\n        \"dtype\": \"number\",\n        \"std\": 125456.32836758264,\n        \"min\": 0.0,\n        \"max\": 536477.4387532285,\n        \"num_unique_values\": 1000,\n        \"samples\": [\n          3974.8741360916515,\n          1109.396490010614,\n          1092.684642741642\n        ],\n        \"semantic_type\": \"\",\n        \"description\": \"\"\n      }\n    }\n  ]\n}"
            }
          },
          "metadata": {},
          "execution_count": 12
        }
      ]
    },
    {
      "cell_type": "code",
      "source": [
        "for c in df:\n",
        "  plt.plot(lamb,df[c],label = f\"T ={c}K\")\n",
        "plt.xlabel('Longitud de onda (m)')\n",
        "plt.ylabel('Densidad espectral de energía')\n",
        "plt.title('Densidad espectral de energía vs Longitud de onda para diferentes temperaturas')\n",
        "plt.legend()\n",
        "plt.grid()\n",
        "plt.show()"
      ],
      "metadata": {
        "colab": {
          "base_uri": "https://localhost:8080/",
          "height": 472
        },
        "id": "bBzOFwyNikqD",
        "outputId": "011ac375-8d9a-41c1-a3df-2445ddcbcaf3"
      },
      "execution_count": 13,
      "outputs": [
        {
          "output_type": "display_data",
          "data": {
            "text/plain": [
              "<Figure size 640x480 with 1 Axes>"
            ],
            "image/png": "[encoded data removed]"
          },
          "metadata": {}
        }
      ]
    },
    {
      "cell_type": "markdown",
      "source": [
        "\n",
        "2. Determina la longitud de onda para el cual se obtiene el  máximo valor de cada unas de las anteriores curvas, comprueba que $\\lambda_{max} T=2897.8 \\mathrm{\\mu mK}$"
      ],
      "metadata": {
        "id": "NuB0H4hSll7L"
      }
    },
    {
      "cell_type": "code",
      "source": [
        "l = np.array([])\n",
        "for c in df:\n",
        "  max = df[c].idxmax()\n",
        "  l = np.append(l,max)\n",
        "l"
      ],
      "metadata": {
        "colab": {
          "base_uri": "https://localhost:8080/"
        },
        "id": "iJG2hnJMlmUz",
        "outputId": "b658adb4-59f1-4e62-b614-0b789ef80619"
      },
      "execution_count": 14,
      "outputs": [
        {
          "output_type": "execute_result",
          "data": {
            "text/plain": [
              "array([362., 181.,  90.,  72.])"
            ]
          },
          "metadata": {},
          "execution_count": 14
        }
      ]
    },
    {
      "cell_type": "code",
      "source": [
        "type(l[0])"
      ],
      "metadata": {
        "colab": {
          "base_uri": "https://localhost:8080/"
        },
        "id": "egCcFU-koWnh",
        "outputId": "f690f2fc-2c2f-4cd1-ccea-01c1e5850e7f"
      },
      "execution_count": 15,
      "outputs": [
        {
          "output_type": "execute_result",
          "data": {
            "text/plain": [
              "numpy.float64"
            ]
          },
          "metadata": {},
          "execution_count": 15
        }
      ]
    },
    {
      "cell_type": "code",
      "source": [
        "q = np.array([])\n",
        "for i in l:\n",
        "  longitud_max = lamb[i.astype(int)]\n",
        "  q = np.append(q,longitud_max)\n",
        "q"
      ],
      "metadata": {
        "colab": {
          "base_uri": "https://localhost:8080/"
        },
        "id": "6g3UxTNomk5y",
        "outputId": "66f74747-0813-4a2f-f5ef-e3dfb97fde5f"
      },
      "execution_count": 16,
      "outputs": [
        {
          "output_type": "execute_result",
          "data": {
            "text/plain": [
              "array([2.89953654e-06, 1.45026827e-06, 7.21630631e-07, 5.77504505e-07])"
            ]
          },
          "metadata": {},
          "execution_count": 16
        }
      ]
    },
    {
      "cell_type": "markdown",
      "source": [
        "Se acerca al valor, si se quisiera más precision entonces se puede aumentar el numero de datos(n) que quiero en `lamb = np.linspace(1e-9, 8e-6, n=  1000)`"
      ],
      "metadata": {
        "id": "72ldYwEaw18_"
      }
    },
    {
      "cell_type": "code",
      "source": [
        "for i, T_ in enumerate(T):\n",
        "  print(q[i]*T_*1e+6, \"μmK\")"
      ],
      "metadata": {
        "colab": {
          "base_uri": "https://localhost:8080/"
        },
        "id": "xU3b_6Sznl3C",
        "outputId": "f9b6ef0e-47db-4268-8d30-580363d9731d"
      },
      "execution_count": 17,
      "outputs": [
        {
          "output_type": "stream",
          "name": "stdout",
          "text": [
            "2899.5365365365365 μmK\n",
            "2900.5365365365365 μmK\n",
            "2886.5225225225226 μmK\n",
            "2887.5225225225217 μmK\n"
          ]
        }
      ]
    },
    {
      "cell_type": "markdown",
      "source": [
        "\n",
        "\n",
        "\n",
        "\n",
        "3. De la ley de densidad espectral de energía, mostrar que la potencia total emitida por unidad de área $P_{total}$ es:\n",
        "\n",
        "\n",
        "\n",
        "\\begin{equation}\n",
        "P_{\\text{total}} =  \\frac{c}{4}\\int_0^{\\infty} u(\\lambda, T) \\mathrm{d}\\lambda = \\sigma T^4\n",
        "\\end{equation}\n",
        "\n",
        "donde $\\sigma=5.67\\times 10^{-8}\\mathrm{W m^{-2} K^{-4}}$. Para resolver la integral, se recomienda emplear la sustitución $x=\\frac{hc}{\\lambda k_BT}$ y emplear algún método computacional de integración conocido :\n",
        "\n",
        "\\begin{equation}\n",
        "P_{\\text{total}} \\propto \\int_0^{\\infty} \\frac{x^3}{e^{x}-1} \\mathrm{d}x\n",
        "\\end{equation}\n",
        "\n",
        "muestre que el valor de la integral se aproxima al valor esperado $\\frac{\\pi^4}{15}$.\n",
        "\n",
        "Con el resultado anterior, construya una curva de $P_{total}$ vs $T^4$, ¿su resultado esta acorde con los esperado?"
      ],
      "metadata": {
        "id": "-7MM3vu6OXSi"
      }
    },
    {
      "cell_type": "markdown",
      "source": [
        "Aqui aplico $P_{total}= \\sigma T^4$"
      ],
      "metadata": {
        "id": "YZhqyGZHzid9"
      }
    },
    {
      "cell_type": "code",
      "source": [
        "sigma = 5.67e-8\n",
        "p_total = ([])\n",
        "for c in df:\n",
        "  p_total = np.append(p_total,c**4*sigma) # Potencia Total para cada T\n",
        "p_total"
      ],
      "metadata": {
        "colab": {
          "base_uri": "https://localhost:8080/"
        },
        "id": "-BtRpb0YyMRH",
        "outputId": "9093de9b-6528-4106-ba63-695407246002"
      },
      "execution_count": 18,
      "outputs": [
        {
          "output_type": "execute_result",
          "data": {
            "text/plain": [
              "array([   56700.,   907200., 14515200., 35437500.])"
            ]
          },
          "metadata": {},
          "execution_count": 18
        }
      ]
    },
    {
      "cell_type": "markdown",
      "source": [
        "Esto es $P_{total}$ vs $T^4$"
      ],
      "metadata": {
        "id": "kxMRPLqA6EvL"
      }
    },
    {
      "cell_type": "code",
      "source": [
        "plt.plot(T**4,p_total, \"o-\")\n",
        "plt.title(\"$P_{total} vs T^4$\")\n",
        "plt.xlabel(\"$T^4$\")\n",
        "plt.ylabel(\"$P_{total}$\")\n",
        "plt.grid()"
      ],
      "metadata": {
        "colab": {
          "base_uri": "https://localhost:8080/",
          "height": 480
        },
        "id": "kt7r_Yry38xc",
        "outputId": "b9fc749b-4ab3-42e0-fd49-f24662d5d736"
      },
      "execution_count": 19,
      "outputs": [
        {
          "output_type": "display_data",
          "data": {
            "text/plain": [
              "<Figure size 640x480 with 1 Axes>"
            ],
            "image/png": "[encoded data removed]"
          },
          "metadata": {}
        }
      ]
    },
    {
      "cell_type": "markdown",
      "source": [
        "Aqui hago la integración $P_{total}$ con la sustitucion sugeridad,luego compruebo que se aproxima al valor esperado $\\frac{\\pi^4}{15}$."
      ],
      "metadata": {
        "id": "jar2kwxzzvU2"
      }
    },
    {
      "cell_type": "code",
      "source": [
        "p_ = lambda x: x**3/(np.exp(x)-1)\n",
        "resultado, error = quad(p_, 0, np.inf)\n",
        "resultado"
      ],
      "metadata": {
        "colab": {
          "base_uri": "https://localhost:8080/"
        },
        "id": "AYEYCBABoUfy",
        "outputId": "28691ca9-6d8d-413c-fde7-2772bbad11a7"
      },
      "execution_count": 20,
      "outputs": [
        {
          "output_type": "stream",
          "name": "stderr",
          "text": [
            "<ipython-input-20-b9e250fc774d>:1: RuntimeWarning: overflow encountered in exp\n",
            "  p_ = lambda x: x**3/(np.exp(x)-1)\n"
          ]
        },
        {
          "output_type": "execute_result",
          "data": {
            "text/plain": [
              "6.49393940226683"
            ]
          },
          "metadata": {},
          "execution_count": 20
        }
      ]
    },
    {
      "cell_type": "code",
      "source": [
        "r = np.pi**4/15\n",
        "r"
      ],
      "metadata": {
        "colab": {
          "base_uri": "https://localhost:8080/"
        },
        "id": "XYwVWOa7zbfG",
        "outputId": "0118a59c-9ca3-4778-8d52-90d7267a8df1"
      },
      "execution_count": 21,
      "outputs": [
        {
          "output_type": "execute_result",
          "data": {
            "text/plain": [
              "6.493939402266828"
            ]
          },
          "metadata": {},
          "execution_count": 21
        }
      ]
    },
    {
      "cell_type": "markdown",
      "source": [
        "# 2. Calentamiento Global\n",
        "El conjunto de datos a continuación ofrece una visión detallada de las anomalías de temperatura terrestre:\n",
        "\n",
        "\n",
        "https://data.giss.nasa.gov/gistemp/graphs/graph_data/Global_Mean_Estimates_based_on_Land_and_Ocean_Data/graph.txt\n",
        "\n",
        "\n",
        "Las anomalías de temperatura son variaciones en la temperatura media superficial del planeta respecto a un promedio histórico. Estas variaciones pueden ser tanto positivas (más cálidas) como negativas (más frías) y constituyen indicadores esenciales del cambio climático a nivel mundial. Para obtener información adicional, consulte:\n",
        "\n",
        "\n",
        "https://climate.nasa.gov/en-espanol/signos-vitales/temperatura-global/?intent=111\n",
        "\n",
        "Este ejercicio no solo busca profundizar en la comprensión del calentamiento global, sino también distinguir entre la interpolación y la construcción de modelos. Con el código proporcionado que procesa los datos de cambio climático reportados por la National Aeronautics and Space Administration,\n",
        "\n",
        "\n",
        "```python\n",
        "import pandas as pd\n",
        "import matplotlib.pylab as plt\n",
        "url=\"https://data.giss.nasa.gov/gistemp/graphs/graph_data/Global_Mean_Estimates_based_on_Land_and_Ocean_Data/graph.txt\"\n",
        "data = pd.read_csv(url, sep='\\\\s+',header=None, skiprows=5)\n",
        "data.columns = [\"Año\" ,\"NoSauvizado\",  \"Promedio_5\"]\n",
        "\n",
        "\n",
        "# Muestra las primeras filas del DataFrame\n",
        "print(data.head())\n",
        "```\n",
        "\n",
        "Realice lo siguiente en un gráfico combinado:\n",
        "\n",
        "\n",
        "\n",
        "1. Gráfico de la media móvil de 5 años (Promedio_5) frente al año, representado con líneas.\n",
        "2. Gráfico de los datos sin suavizar (NoSauvizado) frente al año.\n",
        "\n",
        "\n",
        "3. Analice el gráfico resultante y extraiga conclusiones.\n",
        "\n",
        "\n",
        "\n",
        "\n"
      ],
      "metadata": {
        "id": "TVvx06Ky6dgE"
      }
    },
    {
      "cell_type": "code",
      "source": [
        "url=\"https://data.giss.nasa.gov/gistemp/graphs/graph_data/Global_Mean_Estimates_based_on_Land_and_Ocean_Data/graph.txt\"\n",
        "data = pd.read_csv(url, sep='\\\\s+',header=None, skiprows=5)\n",
        "data.columns = [\"Año\" ,\"NoSauvizado\",  \"Promedio_5\"]\n",
        "# Muestra las primeras filas del DataFrame\n",
        "print(data.head())"
      ],
      "metadata": {
        "colab": {
          "base_uri": "https://localhost:8080/"
        },
        "id": "XKk3gSNH6nhD",
        "outputId": "5ed456fb-63dc-44e3-b1c5-d54d969b96a8"
      },
      "execution_count": 22,
      "outputs": [
        {
          "output_type": "stream",
          "name": "stdout",
          "text": [
            "    Año  NoSauvizado  Promedio_5\n",
            "0  1880        -0.17       -0.09\n",
            "1  1881        -0.09       -0.13\n",
            "2  1882        -0.11       -0.17\n",
            "3  1883        -0.17       -0.21\n",
            "4  1884        -0.29       -0.24\n"
          ]
        }
      ]
    },
    {
      "cell_type": "code",
      "source": [
        "fig, ax = plt.subplots()\n",
        "data.plot.line(x=\"Año\", y=\"Promedio_5\", ax=ax, label=\"Promedio_5\")\n",
        "data.plot.line(x=\"Año\", y=\"NoSauvizado\", ax=ax, label=\"NoSauvizado\")\n",
        "plt.grid()\n",
        "plt.show()"
      ],
      "metadata": {
        "colab": {
          "base_uri": "https://localhost:8080/",
          "height": 454
        },
        "id": "-LUS9QvZ8LOz",
        "outputId": "99b4e48f-d901-47ce-8bba-9a825cc15651"
      },
      "execution_count": 23,
      "outputs": [
        {
          "output_type": "display_data",
          "data": {
            "text/plain": [
              "<Figure size 640x480 with 1 Axes>"
            ],
            "image/png": "[encoded data removed]"
          },
          "metadata": {}
        }
      ]
    },
    {
      "cell_type": "code",
      "source": [
        "print(data.tail())"
      ],
      "metadata": {
        "colab": {
          "base_uri": "https://localhost:8080/"
        },
        "id": "FqU7SqtIDbMh",
        "outputId": "6aeeeb78-e00c-4035-c2b5-5a47c2f2d51b"
      },
      "execution_count": 24,
      "outputs": [
        {
          "output_type": "stream",
          "name": "stdout",
          "text": [
            "      Año  NoSauvizado  Promedio_5\n",
            "139  2019         0.98        0.94\n",
            "140  2020         1.02        0.95\n",
            "141  2021         0.85        0.98\n",
            "142  2022         0.90        1.00\n",
            "143  2023         1.17        1.02\n"
          ]
        }
      ]
    },
    {
      "cell_type": "markdown",
      "source": [
        "3) R\\=\n",
        "\n",
        "*   El crecimiento de la temperatura media global ha sido en un grado mucho mayor desde los años 1960 en adelante.\n",
        "\n",
        "*   Solo entre los años 1900 y 1920 se noto una disminunción en promedio de la temperatura.\n",
        "\n",
        "*   Por los datos obtenidos y a partir de la grafica se deduce un amuento cada vez mayor de la temperatura media global, con un corpotamiento exponencial que solo indica que la temperatura aumentara cada vez más rapido y en mayor cantidad\n",
        "\n",
        "\n"
      ],
      "metadata": {
        "id": "SalIXRj0JPR2"
      }
    },
    {
      "cell_type": "markdown",
      "source": [
        "Posteriormente, construiremos un modelo para evaluar el incremento de la temperatura en años recientes utilizando el código de regresión dado a continuación:\n",
        "\n",
        "\n",
        "```python\n",
        "import numpy as np\n",
        "from scipy.optimize import curve_fit\n",
        "import matplotlib.pyplot as plt\n",
        "\n",
        "# Define la función del modelo que deseas ajustar\n",
        "# En este caso, una función lineal: f(x) = m*x + b\n",
        "def linear_func(x, m, b):\n",
        "    return m * x + b\n",
        "\n",
        "# Datos de ejemplo, reemplace en esta linea por los valores de interes\n",
        "x = np.array([1, 2, 3, 4, 5])\n",
        "y = np.array([2, 4, 5, 4, 5])\n",
        "\n",
        "# Realizar el ajuste de curva\n",
        "params, covariance = curve_fit(linear_func, x, y)\n",
        "\n",
        "# Parámetros del ajuste\n",
        "m, b = params\n",
        "\n",
        "# Generar datos de x para la línea de ajuste\n",
        "x_fit = np.linspace(min(x), max(x), 100)\n",
        "y_fit = linear_func(x_fit, m, b)\n",
        "\n",
        "# Graficar datos y ajuste\n",
        "plt.scatter(x, y, label='Datos')\n",
        "plt.plot(x_fit, y_fit, label='Ajuste lineal', color='red')\n",
        "plt.xlabel('x')\n",
        "plt.ylabel('y')\n",
        "plt.legend()\n",
        "plt.show()\n",
        "\n",
        "```\n",
        "\n",
        "\n",
        " Seleccione los datos del periodo 2000-2020 y proceda a:\n",
        "\n",
        "4. Ajustar los datos sin suavizar (NoSauvizado) vs al año de forma lineal.\n",
        "\n",
        "\n",
        "\n",
        "6. ¿Es preferible realizar una interpolación o un ajuste de parámetros al modelo en este caso? Justifique su respuesta.\n",
        "\n",
        "7. ¿Cómo podría predecirse el incremento en la temperatura anómala para el año 2030? Justifique su respuesta.\n",
        "\n"
      ],
      "metadata": {
        "id": "1oNQXVno6r0b"
      }
    },
    {
      "cell_type": "code",
      "source": [
        "# Define la función del modelo que deseas ajustar\n",
        "# En este caso, una función lineal: f(x) = m*x + b\n",
        "def linear_func(x, m, b):\n",
        "    return m * x + b\n",
        "\n",
        "# Datos de ejemplo, reemplace en esta linea por los valores de interes\n",
        "data_filtrado = data[data[\"Año\"].between(2000, 2020)]\n",
        "x = data_filtrado[\"Año\"]\n",
        "y = data_filtrado[\"NoSauvizado\"]\n",
        "\n",
        "# Realizar el ajuste de curva\n",
        "params, covariance = curve_fit(linear_func, x, y)\n",
        "\n",
        "# Parámetros del ajuste\n",
        "m, b = params\n",
        "\n",
        "# Generar datos de x para la línea de ajuste\n",
        "x_fit = np.linspace(np.min(x), np.max(x), 100)\n",
        "y_fit = linear_func(x_fit, m, b)\n",
        "\n",
        "# Graficar datos y ajuste\n",
        "plt.scatter(x, y, label='Datos')\n",
        "plt.plot(x_fit, y_fit, label='Ajuste lineal', color='red')\n",
        "plt.xlabel('x')\n",
        "plt.ylabel('y')\n",
        "plt.legend()\n",
        "plt.show()"
      ],
      "metadata": {
        "colab": {
          "base_uri": "https://localhost:8080/",
          "height": 449
        },
        "id": "VMjRcBhA8f07",
        "outputId": "f1cb8e20-8710-47bb-a222-3811fa28a63b"
      },
      "execution_count": 25,
      "outputs": [
        {
          "output_type": "display_data",
          "data": {
            "text/plain": [
              "<Figure size 640x480 with 1 Axes>"
            ],
            "image/png": "[encoded data removed]"
          },
          "metadata": {}
        }
      ]
    },
    {
      "cell_type": "markdown",
      "source": [
        "Aqui voy a interpolar entre los años 2000 y 2020"
      ],
      "metadata": {
        "id": "3jsf-BYvDA_B"
      }
    },
    {
      "cell_type": "code",
      "source": [
        "Cs = CubicSpline(x,y)\n",
        "X = np.linspace(data_filtrado[\"Año\"].min(), data_filtrado[\"Año\"].max())\n",
        "plt.plot(data_filtrado[\"Año\"],data_filtrado[\"NoSauvizado\"],\"ro\",label = \"Datos\")\n",
        "plt.plot(X, Cs(X), \"k-\", label=\"Interpolacion Lineal\")\n",
        "plt.legend()\n",
        "plt.show()"
      ],
      "metadata": {
        "colab": {
          "base_uri": "https://localhost:8080/",
          "height": 430
        },
        "id": "IsGj6mu09JgK",
        "outputId": "0651c540-4ce6-4a90-ea3c-9d53bc028899"
      },
      "execution_count": 26,
      "outputs": [
        {
          "output_type": "display_data",
          "data": {
            "text/plain": [
              "<Figure size 640x480 with 1 Axes>"
            ],
            "image/png": "[encoded data removed]"
          },
          "metadata": {}
        }
      ]
    },
    {
      "cell_type": "markdown",
      "source": [
        "\n",
        "\n",
        "\n",
        "\n",
        "\n",
        "\n",
        "\n",
        "\n",
        "\n",
        "\n",
        "\n",
        "\n",
        "\n",
        "\n",
        "\n",
        "\n",
        "\n",
        "\n",
        "\n",
        "\n",
        "\n",
        "\n",
        "\n",
        "\n",
        "\n",
        "\n",
        "\n",
        "\n",
        "\n",
        "\n",
        "\n",
        "\n",
        "\n",
        "\n",
        "\n",
        "\n",
        "\n",
        "\n",
        "\n",
        "\n",
        "\n",
        "\n",
        "\n",
        "\n",
        "\n",
        "\n",
        "\n",
        "\n",
        "\n",
        "\n",
        "\n",
        "\n",
        "\n",
        "\n",
        "\n",
        "\n",
        "\n",
        "\n",
        "\n",
        "\n",
        "\n",
        "\n",
        "\n",
        "\n",
        "\n",
        "\n",
        "\n",
        "\n",
        "\n",
        "\n",
        "6) R\\= Para este caso es preferible la regresion lineal ya que el objetivo es evaluar el incremento de la temperatura en años recientes, lo cual lo deja más en claro la regresion lineal. La interpolacion lo que nos permite visualizar el cambio de temperatura a partir de los datos pero es en la regresion que se evidencia el incremento en la temperatura."
      ],
      "metadata": {
        "id": "bF8YQz7MHN-P"
      }
    },
    {
      "cell_type": "markdown",
      "source": [
        "7) R\\= Se podria predecir determinando la ecuacion de la recta resultante de la regresion lineal. En este caso x_fit, y_fit son los valores de (x,y) de la recta con los cuales se llegaria a la ecuación de la recta. Consiguiendo la ecuacion de la recta ya solo quedaria evaluar para el año 2030 y la ecuación daria el valor de la temperatura para ese año."
      ],
      "metadata": {
        "id": "zP17LgjlH-SI"
      }
    },
    {
      "cell_type": "markdown",
      "source": [
        "**Nota**: Seleccione solo los datos entre 2000 y 2020 pero tambien se puede hacer entre 2000 y 2023 para tomar los datos de los ultimos años"
      ],
      "metadata": {
        "id": "64Ofm2gvHrWR"
      }
    },
    {
      "cell_type": "code",
      "source": [
        "# Realizar el ajuste de curva\n",
        "params, covariance = curve_fit(linear_func, x_fit, y_fit)\n",
        "\n",
        "# Parámetros del ajuste\n",
        "m, b = params\n",
        "año_objetivo = 2030\n",
        "temperatura = linear_func(año_objetivo, m, b)\n",
        "\n",
        "print(\"La temperatura para el año 2030 es:\", temperatura)"
      ],
      "metadata": {
        "colab": {
          "base_uri": "https://localhost:8080/"
        },
        "id": "P18P_S6RC_zg",
        "outputId": "44458b5f-ac1e-4fc1-a582-fd81495710e4"
      },
      "execution_count": 27,
      "outputs": [
        {
          "output_type": "stream",
          "name": "stdout",
          "text": [
            "La temperatura para el año 2030 es: 1.2075324631057498\n"
          ]
        }
      ]
    }
  ]
}