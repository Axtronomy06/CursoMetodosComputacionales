{
  "nbformat": 4,
  "nbformat_minor": 0,
  "metadata": {
    "colab": {
      "provenance": []
    },
    "kernelspec": {
      "name": "python3",
      "display_name": "Python 3"
    },
    "language_info": {
      "name": "python"
    }
  },
  "cells": [
    {
      "cell_type": "code",
      "source": [
        "import numpy as np\n",
        "import pandas as pd\n",
        "import sympy as sy\n",
        "import matplotlib.pyplot as plt"
      ],
      "metadata": {
        "id": "LGEtqLJlw2eb"
      },
      "execution_count": null,
      "outputs": []
    },
    {
      "cell_type": "markdown",
      "source": [
        "# Arreglos de numpy"
      ],
      "metadata": {
        "id": "wtJNu-2mLSsV"
      }
    },
    {
      "cell_type": "code",
      "source": [
        "# Generemos una arreglos ndimensaionales, ¿como podemos acceder a los elementos?\n",
        "X = np.random.randint(0, 55, (6,6))\n",
        "X"
      ],
      "metadata": {
        "colab": {
          "base_uri": "https://localhost:8080/"
        },
        "id": "97ecIcqMhbru",
        "outputId": "1a21b8be-4266-4af0-8f87-58526b1d6086"
      },
      "execution_count": null,
      "outputs": [
        {
          "output_type": "execute_result",
          "data": {
            "text/plain": [
              "array([[38, 42,  8, 34, 39, 53],\n",
              "       [47, 12, 31, 53, 43, 17],\n",
              "       [ 5,  4, 31, 43, 27, 41],\n",
              "       [14, 27, 46,  9, 54, 12],\n",
              "       [52, 20, 14, 12, 52, 30],\n",
              "       [ 0, 47, 22, 54, 49, 46]])"
            ]
          },
          "metadata": {},
          "execution_count": 2
        }
      ]
    },
    {
      "cell_type": "code",
      "source": [
        "X[0]"
      ],
      "metadata": {
        "colab": {
          "base_uri": "https://localhost:8080/"
        },
        "id": "UPZ4HVeSiAa_",
        "outputId": "267b5d70-c394-495f-e810-15d381ed9f32"
      },
      "execution_count": null,
      "outputs": [
        {
          "output_type": "execute_result",
          "data": {
            "text/plain": [
              "array([31,  6, 20, 27, 31, 38])"
            ]
          },
          "metadata": {},
          "execution_count": 3
        }
      ]
    },
    {
      "cell_type": "code",
      "source": [
        "X[0][1:4]"
      ],
      "metadata": {
        "colab": {
          "base_uri": "https://localhost:8080/"
        },
        "id": "FfnQsOUDibOE",
        "outputId": "7da03fe4-9d00-4fa1-feef-0c8b6852fe77"
      },
      "execution_count": null,
      "outputs": [
        {
          "output_type": "execute_result",
          "data": {
            "text/plain": [
              "array([ 6, 20, 27])"
            ]
          },
          "metadata": {},
          "execution_count": 4
        }
      ]
    },
    {
      "cell_type": "code",
      "source": [
        "X[0, 1:4:2]"
      ],
      "metadata": {
        "colab": {
          "base_uri": "https://localhost:8080/"
        },
        "id": "vkNXHb5rizs5",
        "outputId": "1674842d-09b5-4aa7-8d9f-3450da23e779"
      },
      "execution_count": null,
      "outputs": [
        {
          "output_type": "execute_result",
          "data": {
            "text/plain": [
              "array([ 6, 27])"
            ]
          },
          "metadata": {},
          "execution_count": 5
        }
      ]
    },
    {
      "cell_type": "code",
      "source": [
        "X[2::2,::2 ]"
      ],
      "metadata": {
        "colab": {
          "base_uri": "https://localhost:8080/"
        },
        "id": "KMe75hMwletS",
        "outputId": "70f60516-4ef5-43d6-9844-2a5366cbf6f5"
      },
      "execution_count": null,
      "outputs": [
        {
          "output_type": "execute_result",
          "data": {
            "text/plain": [
              "array([[37, 52, 11],\n",
              "       [ 7, 48, 42]])"
            ]
          },
          "metadata": {},
          "execution_count": 6
        }
      ]
    },
    {
      "cell_type": "code",
      "source": [
        "# Permutaciones:"
      ],
      "metadata": {
        "id": "hC_QTDyyM0T3"
      },
      "execution_count": null,
      "outputs": []
    },
    {
      "cell_type": "code",
      "source": [
        "X"
      ],
      "metadata": {
        "colab": {
          "base_uri": "https://localhost:8080/"
        },
        "id": "JYhVm8_TM2Tf",
        "outputId": "ec454276-7aae-4c55-c42b-ff64e5a33a1a"
      },
      "execution_count": null,
      "outputs": [
        {
          "output_type": "execute_result",
          "data": {
            "text/plain": [
              "array([[31,  6, 20, 27, 31, 38],\n",
              "       [51, 23, 23,  5, 54, 44],\n",
              "       [37, 33, 52, 27, 11, 21],\n",
              "       [10, 42, 18, 16, 38,  8],\n",
              "       [ 7,  4, 48, 50, 42, 33],\n",
              "       [ 8, 17, 44,  3, 40, 35]])"
            ]
          },
          "metadata": {},
          "execution_count": 7
        }
      ]
    },
    {
      "cell_type": "code",
      "source": [
        "X[[2,1]] =X[[1,2]]"
      ],
      "metadata": {
        "id": "m-oTG0W7M4Ku"
      },
      "execution_count": null,
      "outputs": []
    },
    {
      "cell_type": "code",
      "source": [
        "X"
      ],
      "metadata": {
        "colab": {
          "base_uri": "https://localhost:8080/"
        },
        "id": "cc_qEzAeNdmX",
        "outputId": "cc85d54b-e99d-418e-bd4b-bc3c6fe2fa8f"
      },
      "execution_count": null,
      "outputs": [
        {
          "output_type": "execute_result",
          "data": {
            "text/plain": [
              "array([[ 3,  2, 24, 25, 37, 30],\n",
              "       [31, 11, 51,  7, 44, 27],\n",
              "       [30, 30, 41, 34, 33, 30],\n",
              "       [45, 33, 47, 42, 39, 16],\n",
              "       [10, 22, 20, 48, 28,  3],\n",
              "       [12, 13, 13, 14, 41, 14]])"
            ]
          },
          "metadata": {},
          "execution_count": 66
        }
      ]
    },
    {
      "cell_type": "code",
      "source": [
        "# Operaciones matriciales"
      ],
      "metadata": {
        "id": "tpPPxUiULgge"
      },
      "execution_count": null,
      "outputs": []
    },
    {
      "cell_type": "code",
      "source": [
        "X=np.array([[1,2],[3,4]])\n",
        "B=np.array([[5,2],[1,4]])\n",
        "np.linalg.inv(X)"
      ],
      "metadata": {
        "colab": {
          "base_uri": "https://localhost:8080/"
        },
        "id": "U8snX3DpLXtp",
        "outputId": "6391f78d-5dca-425f-f8da-2cca6e106e0d"
      },
      "execution_count": null,
      "outputs": [
        {
          "output_type": "execute_result",
          "data": {
            "text/plain": [
              "array([[-2. ,  1. ],\n",
              "       [ 1.5, -0.5]])"
            ]
          },
          "metadata": {},
          "execution_count": 68
        }
      ]
    },
    {
      "cell_type": "code",
      "source": [
        "np.linalg.det(X)"
      ],
      "metadata": {
        "colab": {
          "base_uri": "https://localhost:8080/"
        },
        "id": "XwCim3VlLfKU",
        "outputId": "8c1604b6-4e32-4817-9699-87ade07efc00"
      },
      "execution_count": null,
      "outputs": [
        {
          "output_type": "execute_result",
          "data": {
            "text/plain": [
              "-2.0000000000000004"
            ]
          },
          "metadata": {},
          "execution_count": 69
        }
      ]
    },
    {
      "cell_type": "code",
      "source": [
        "np.dot([2j, 3j], [2j, 3j])"
      ],
      "metadata": {
        "colab": {
          "base_uri": "https://localhost:8080/"
        },
        "id": "JyXfDy4TL46a",
        "outputId": "8a4849b7-e0ae-49eb-d171-12ce6f0076b4"
      },
      "execution_count": null,
      "outputs": [
        {
          "output_type": "execute_result",
          "data": {
            "text/plain": [
              "(-13+0j)"
            ]
          },
          "metadata": {},
          "execution_count": 70
        }
      ]
    },
    {
      "cell_type": "code",
      "source": [
        "X*B"
      ],
      "metadata": {
        "colab": {
          "base_uri": "https://localhost:8080/"
        },
        "id": "WPC3XJLjMTvU",
        "outputId": "c26f1f88-c0e6-4642-f689-2e924570b418"
      },
      "execution_count": null,
      "outputs": [
        {
          "output_type": "execute_result",
          "data": {
            "text/plain": [
              "array([[ 5,  4],\n",
              "       [ 3, 16]])"
            ]
          },
          "metadata": {},
          "execution_count": 71
        }
      ]
    },
    {
      "cell_type": "code",
      "source": [
        "X@B"
      ],
      "metadata": {
        "colab": {
          "base_uri": "https://localhost:8080/"
        },
        "id": "SXr0_TeBMf2m",
        "outputId": "d45745c6-29ab-4fcd-960a-7103c76ae764"
      },
      "execution_count": null,
      "outputs": [
        {
          "output_type": "execute_result",
          "data": {
            "text/plain": [
              "array([[ 7, 10],\n",
              "       [19, 22]])"
            ]
          },
          "metadata": {},
          "execution_count": 72
        }
      ]
    },
    {
      "cell_type": "code",
      "source": [
        "np.matmul(X,B)"
      ],
      "metadata": {
        "colab": {
          "base_uri": "https://localhost:8080/"
        },
        "id": "Ht4V1OxIMg40",
        "outputId": "959516fe-c3d7-4f46-e478-b5d406ecfdc6"
      },
      "execution_count": null,
      "outputs": [
        {
          "output_type": "execute_result",
          "data": {
            "text/plain": [
              "array([[ 7, 10],\n",
              "       [19, 22]])"
            ]
          },
          "metadata": {},
          "execution_count": 73
        }
      ]
    },
    {
      "cell_type": "markdown",
      "source": [
        "# Algunos ejemplo\n",
        "\n",
        "```python\n",
        "import numpy as np\n",
        "\n",
        "# Producto de matrices\n",
        "A = np.array([[1, 2], [3, 4]])\n",
        "B = np.array([[5, 6], [7, 8]])\n",
        "producto = np.dot(A, B)\n",
        "\n",
        "# Determinante de una matriz\n",
        "C = np.array([[9, 2], [3, 4]])\n",
        "determinante = np.linalg.det(C)\n",
        "\n",
        "# Inversa de una matriz\n",
        "D = np.array([[2, 5], [1, 3]])\n",
        "inversa = np.linalg.inv(D)\n",
        "\n",
        "# Autovalores y autovectores\n",
        "E = np.array([[2, 0], [0, 3]])\n",
        "autovalores, autovectores = np.linalg.eig(E)\n",
        "\n",
        "# Resolución de sistemas de ecuaciones lineales\n",
        "F = np.array([[1, 1], [1, -1]])\n",
        "b = np.array([5, 1])\n",
        "solucion = np.linalg.solve(F, b)\n",
        "\n",
        "\n",
        "# Norma de un vector o matriz\n",
        "H = np.array([1, 2, 3])\n",
        "norma = np.linalg.norm(H)\n",
        "\n",
        "# Rango de una matriz\n",
        "I = np.array([[1, 2], [2, 4]])\n",
        "rango = np.linalg.matrix_rank(I)\n",
        "\n",
        "# Potencia de una matriz\n",
        "J = np.array([[1, 2], [3, 4]])\n",
        "potencia = np.linalg.matrix_power(J, 3)\n",
        "\n",
        "# Descomposición SVD\n",
        "G = np.array([[1, 2], [3, 4]])\n",
        "U, S, V = np.linalg.svd(G)\n",
        "\n",
        "\n",
        "```\n"
      ],
      "metadata": {
        "id": "wOgkVu4yL-mp"
      }
    },
    {
      "cell_type": "markdown",
      "source": [
        "# Matrices de numpy"
      ],
      "metadata": {
        "id": "iV1bdIUxLOwM"
      }
    },
    {
      "cell_type": "code",
      "source": [
        "M = np.matrix(X)\n",
        "type(M)"
      ],
      "metadata": {
        "colab": {
          "base_uri": "https://localhost:8080/"
        },
        "id": "ZoTW7RE1mDjk",
        "outputId": "14a05fb9-1984-4c11-b147-b7bcd121b13c"
      },
      "execution_count": null,
      "outputs": [
        {
          "output_type": "execute_result",
          "data": {
            "text/plain": [
              "numpy.matrix"
            ]
          },
          "metadata": {},
          "execution_count": 74
        }
      ]
    },
    {
      "cell_type": "code",
      "source": [
        "M@M"
      ],
      "metadata": {
        "colab": {
          "base_uri": "https://localhost:8080/"
        },
        "id": "smYYFQDnmSHx",
        "outputId": "13769bec-363a-48b7-82a3-bf103683b389"
      },
      "execution_count": null,
      "outputs": [
        {
          "output_type": "execute_result",
          "data": {
            "text/plain": [
              "matrix([[ 7, 10],\n",
              "        [15, 22]])"
            ]
          },
          "metadata": {},
          "execution_count": 75
        }
      ]
    },
    {
      "cell_type": "code",
      "source": [
        "M.T"
      ],
      "metadata": {
        "colab": {
          "base_uri": "https://localhost:8080/"
        },
        "id": "v0j1xF0Xnu3A",
        "outputId": "85564342-6758-47fd-af50-673c46f73374"
      },
      "execution_count": null,
      "outputs": [
        {
          "output_type": "execute_result",
          "data": {
            "text/plain": [
              "matrix([[1, 3],\n",
              "        [2, 4]])"
            ]
          },
          "metadata": {},
          "execution_count": 76
        }
      ]
    },
    {
      "cell_type": "code",
      "source": [
        "type(X)"
      ],
      "metadata": {
        "colab": {
          "base_uri": "https://localhost:8080/"
        },
        "id": "jsRxH4R9mJFs",
        "outputId": "27d1d956-b4c8-496b-901c-d3042981e811"
      },
      "execution_count": null,
      "outputs": [
        {
          "output_type": "execute_result",
          "data": {
            "text/plain": [
              "numpy.ndarray"
            ]
          },
          "metadata": {},
          "execution_count": 77
        }
      ]
    },
    {
      "cell_type": "code",
      "source": [
        "np.transpose(X)"
      ],
      "metadata": {
        "colab": {
          "base_uri": "https://localhost:8080/"
        },
        "id": "I6yi4tSzmXkx",
        "outputId": "9a305dad-b071-4fff-da5a-80ff7b9e49cc"
      },
      "execution_count": null,
      "outputs": [
        {
          "output_type": "execute_result",
          "data": {
            "text/plain": [
              "array([[1, 3],\n",
              "       [2, 4]])"
            ]
          },
          "metadata": {},
          "execution_count": 78
        }
      ]
    },
    {
      "cell_type": "code",
      "source": [
        "x = symbols(\"x\")"
      ],
      "metadata": {
        "id": "XQviMu9KmhP5",
        "colab": {
          "base_uri": "https://localhost:8080/",
          "height": 137
        },
        "outputId": "99d0c853-952d-4f0f-9c40-f032b5e55b68"
      },
      "execution_count": null,
      "outputs": [
        {
          "output_type": "error",
          "ename": "NameError",
          "evalue": "name 'symbols' is not defined",
          "traceback": [
            "\u001b[0;31m---------------------------------------------------------------------------\u001b[0m",
            "\u001b[0;31mNameError\u001b[0m                                 Traceback (most recent call last)",
            "\u001b[0;32m<ipython-input-79-0d3ce2562d18>\u001b[0m in \u001b[0;36m<cell line: 1>\u001b[0;34m()\u001b[0m\n\u001b[0;32m----> 1\u001b[0;31m \u001b[0mx\u001b[0m \u001b[0;34m=\u001b[0m \u001b[0msymbols\u001b[0m\u001b[0;34m(\u001b[0m\u001b[0;34m\"x\"\u001b[0m\u001b[0;34m)\u001b[0m\u001b[0;34m\u001b[0m\u001b[0;34m\u001b[0m\u001b[0m\n\u001b[0m",
            "\u001b[0;31mNameError\u001b[0m: name 'symbols' is not defined"
          ]
        }
      ]
    },
    {
      "cell_type": "code",
      "source": [
        "Y = np.array([[x**2,sy.sin(x)],[x,x]])\n",
        "q = Matrix(Y)\n",
        "q"
      ],
      "metadata": {
        "colab": {
          "base_uri": "https://localhost:8080/",
          "height": 170
        },
        "id": "6NQ5_urmm8P5",
        "outputId": "1ba948fd-45f4-4923-bef5-d3631bb289d3"
      },
      "execution_count": null,
      "outputs": [
        {
          "output_type": "error",
          "ename": "NameError",
          "evalue": "name 'x' is not defined",
          "traceback": [
            "\u001b[0;31m---------------------------------------------------------------------------\u001b[0m",
            "\u001b[0;31mNameError\u001b[0m                                 Traceback (most recent call last)",
            "\u001b[0;32m<ipython-input-80-20772fa0cd2b>\u001b[0m in \u001b[0;36m<cell line: 1>\u001b[0;34m()\u001b[0m\n\u001b[0;32m----> 1\u001b[0;31m \u001b[0mY\u001b[0m \u001b[0;34m=\u001b[0m \u001b[0mnp\u001b[0m\u001b[0;34m.\u001b[0m\u001b[0marray\u001b[0m\u001b[0;34m(\u001b[0m\u001b[0;34m[\u001b[0m\u001b[0;34m[\u001b[0m\u001b[0mx\u001b[0m\u001b[0;34m**\u001b[0m\u001b[0;36m2\u001b[0m\u001b[0;34m,\u001b[0m\u001b[0msy\u001b[0m\u001b[0;34m.\u001b[0m\u001b[0msin\u001b[0m\u001b[0;34m(\u001b[0m\u001b[0mx\u001b[0m\u001b[0;34m)\u001b[0m\u001b[0;34m]\u001b[0m\u001b[0;34m,\u001b[0m\u001b[0;34m[\u001b[0m\u001b[0mx\u001b[0m\u001b[0;34m,\u001b[0m\u001b[0mx\u001b[0m\u001b[0;34m]\u001b[0m\u001b[0;34m]\u001b[0m\u001b[0;34m)\u001b[0m\u001b[0;34m\u001b[0m\u001b[0;34m\u001b[0m\u001b[0m\n\u001b[0m\u001b[1;32m      2\u001b[0m \u001b[0mq\u001b[0m \u001b[0;34m=\u001b[0m \u001b[0mMatrix\u001b[0m\u001b[0;34m(\u001b[0m\u001b[0mY\u001b[0m\u001b[0;34m)\u001b[0m\u001b[0;34m\u001b[0m\u001b[0;34m\u001b[0m\u001b[0m\n\u001b[1;32m      3\u001b[0m \u001b[0mq\u001b[0m\u001b[0;34m\u001b[0m\u001b[0;34m\u001b[0m\u001b[0m\n",
            "\u001b[0;31mNameError\u001b[0m: name 'x' is not defined"
          ]
        }
      ]
    },
    {
      "cell_type": "code",
      "source": [
        "q@q"
      ],
      "metadata": {
        "colab": {
          "base_uri": "https://localhost:8080/",
          "height": 58
        },
        "id": "1H5elz7jnEKY",
        "outputId": "ad15f636-4042-4522-87bb-e094fd3146db"
      },
      "execution_count": null,
      "outputs": [
        {
          "output_type": "execute_result",
          "data": {
            "text/plain": [
              "Matrix([\n",
              "[x**4 + x*sin(x), x**2*sin(x) + x*sin(x)],\n",
              "[    x**3 + x**2,        x**2 + x*sin(x)]])"
            ],
            "text/latex": "$\\displaystyle \\left[\\begin{matrix}x^{4} + x \\sin{\\left(x \\right)} & x^{2} \\sin{\\left(x \\right)} + x \\sin{\\left(x \\right)}\\\\x^{3} + x^{2} & x^{2} + x \\sin{\\left(x \\right)}\\end{matrix}\\right]$"
          },
          "metadata": {},
          "execution_count": 39
        }
      ]
    },
    {
      "cell_type": "code",
      "source": [],
      "metadata": {
        "id": "owwyiJ0yN3oN"
      },
      "execution_count": null,
      "outputs": []
    },
    {
      "cell_type": "markdown",
      "source": [
        "# Actividad:\n",
        "\n"
      ],
      "metadata": {
        "id": "k9jPDzNSjgnZ"
      }
    },
    {
      "cell_type": "markdown",
      "source": [
        "1. Construir un programa que permita multiplicar dos matrices"
      ],
      "metadata": {
        "id": "Ja5wtoKCZoeB"
      }
    },
    {
      "cell_type": "code",
      "source": [
        "X = np.random.randint(0, 55, (2,3))\n",
        "Y = np.random.randint(0,55,(3,5))"
      ],
      "metadata": {
        "id": "4kOH1Md5ZoGm"
      },
      "execution_count": null,
      "outputs": []
    },
    {
      "cell_type": "code",
      "source": [
        "def xMatriz(A,B):\n",
        "  n,m1 = np.shape(X)\n",
        "  m2,p = np.shape(Y)\n",
        "  if m1 == m2:\n",
        "    M = np.zeros((n,p))\n",
        "    for i in range(0,n): # Filas\n",
        "      for j in range(0,p): # Columnas\n",
        "        M[i,j] = np.sum(X[i,:]*Y[:,j])\n",
        "  else:\n",
        "    print(\"Las matrices no se pueden multipicar\")\n",
        "  return M"
      ],
      "metadata": {
        "id": "tHF6AB2saxGn"
      },
      "execution_count": null,
      "outputs": []
    },
    {
      "cell_type": "code",
      "source": [
        "X@Y"
      ],
      "metadata": {
        "colab": {
          "base_uri": "https://localhost:8080/"
        },
        "id": "sOOYvWFCgkDX",
        "outputId": "f92a9956-d9a9-4635-b6ae-35be6a6ad20d"
      },
      "execution_count": null,
      "outputs": [
        {
          "output_type": "execute_result",
          "data": {
            "text/plain": [
              "array([[1607, 2555,  767,  458, 3227],\n",
              "       [1154, 2241,  300,  147, 1844]])"
            ]
          },
          "metadata": {},
          "execution_count": 5
        }
      ]
    },
    {
      "cell_type": "code",
      "source": [
        "M = xMatriz(X,Y)\n",
        "M"
      ],
      "metadata": {
        "colab": {
          "base_uri": "https://localhost:8080/"
        },
        "id": "eSwR23jtgfSf",
        "outputId": "64e4dded-2dc0-4cad-e62a-d2e26ba263a1"
      },
      "execution_count": null,
      "outputs": [
        {
          "output_type": "execute_result",
          "data": {
            "text/plain": [
              "array([[1607., 2555.,  767.,  458., 3227.],\n",
              "       [1154., 2241.,  300.,  147., 1844.]])"
            ]
          },
          "metadata": {},
          "execution_count": 6
        }
      ]
    },
    {
      "cell_type": "markdown",
      "source": [
        "\n",
        "2. Cosntruir un programa que permita construir una regresion lineal simple empleando lo que sigue:\n",
        "\n",
        "Su tarea será construir un programa que realice la regresión lineal para los siguientes puntos:\n",
        "```python\n",
        "N = 10\n",
        "x1 = np.linspace(0, 10, N)\n",
        "noise=2*np.random.random(N)-1\n",
        "y = 0.9*x1 + noise\n",
        "```"
      ],
      "metadata": {
        "id": "NGG219Q1ZwBB"
      }
    },
    {
      "cell_type": "code",
      "source": [
        "N = 10\n",
        "x1 = np.linspace(0, 10, N)\n",
        "noise=2*np.random.random(N)-1\n",
        "y = 0.9*x1 + noise\n",
        "x1"
      ],
      "metadata": {
        "id": "eUZmpukalF4X",
        "colab": {
          "base_uri": "https://localhost:8080/"
        },
        "outputId": "bc15ea8b-0716-4dda-db15-be33ab229104"
      },
      "execution_count": null,
      "outputs": [
        {
          "output_type": "execute_result",
          "data": {
            "text/plain": [
              "array([ 0.        ,  1.11111111,  2.22222222,  3.33333333,  4.44444444,\n",
              "        5.55555556,  6.66666667,  7.77777778,  8.88888889, 10.        ])"
            ]
          },
          "metadata": {},
          "execution_count": 7
        }
      ]
    },
    {
      "cell_type": "code",
      "source": [
        "X = np.zeros((len(x1),2))\n",
        "X[:,0] = 1\n",
        "X[:,1] = x1\n",
        "X = np.matrix(X)\n",
        "sy.Matrix(X)"
      ],
      "metadata": {
        "id": "XjRgAnGmlFuh",
        "colab": {
          "base_uri": "https://localhost:8080/",
          "height": 220
        },
        "outputId": "cd3905ef-8b49-4044-ac38-5daa08f46739"
      },
      "execution_count": null,
      "outputs": [
        {
          "output_type": "execute_result",
          "data": {
            "text/plain": [
              "Matrix([\n",
              "[1.0,                0],\n",
              "[1.0, 1.11111111111111],\n",
              "[1.0, 2.22222222222222],\n",
              "[1.0, 3.33333333333333],\n",
              "[1.0, 4.44444444444444],\n",
              "[1.0, 5.55555555555556],\n",
              "[1.0, 6.66666666666667],\n",
              "[1.0, 7.77777777777778],\n",
              "[1.0, 8.88888888888889],\n",
              "[1.0,             10.0]])"
            ],
            "text/latex": "$\\displaystyle \\left[\\begin{matrix}1.0 & 0\\\\1.0 & 1.11111111111111\\\\1.0 & 2.22222222222222\\\\1.0 & 3.33333333333333\\\\1.0 & 4.44444444444444\\\\1.0 & 5.55555555555556\\\\1.0 & 6.66666666666667\\\\1.0 & 7.77777777777778\\\\1.0 & 8.88888888888889\\\\1.0 & 10.0\\end{matrix}\\right]$"
          },
          "metadata": {},
          "execution_count": 8
        }
      ]
    },
    {
      "cell_type": "code",
      "source": [
        "Theta = ((X.T @ X).I) @ X.T @ y\n",
        "sy.Matrix(Theta)"
      ],
      "metadata": {
        "colab": {
          "base_uri": "https://localhost:8080/",
          "height": 38
        },
        "id": "zqJCgY-y_LXj",
        "outputId": "94f238ae-ddce-439a-aaa3-8bbacb5d1fc0"
      },
      "execution_count": null,
      "outputs": [
        {
          "output_type": "execute_result",
          "data": {
            "text/plain": [
              "Matrix([[-0.122420746534435, 0.889750257538534]])"
            ],
            "text/latex": "$\\displaystyle \\left[\\begin{matrix}-0.122420746534435 & 0.889750257538534\\end{matrix}\\right]$"
          },
          "metadata": {},
          "execution_count": 9
        }
      ]
    },
    {
      "cell_type": "code",
      "source": [
        "Y = Theta @ X.T\n",
        "Y"
      ],
      "metadata": {
        "colab": {
          "base_uri": "https://localhost:8080/"
        },
        "id": "Gd0s4w9-_M2x",
        "outputId": "36d758a0-26b0-4fa9-af94-4ed7d9e4f84d"
      },
      "execution_count": null,
      "outputs": [
        {
          "output_type": "execute_result",
          "data": {
            "text/plain": [
              "matrix([[-0.12242075,  0.86619065,  1.85480205,  2.84341345,  3.83202484,\n",
              "          4.82063624,  5.80924764,  6.79785903,  7.78647043,  8.77508183]])"
            ]
          },
          "metadata": {},
          "execution_count": 10
        }
      ]
    },
    {
      "cell_type": "code",
      "source": [
        "plt.plot(x1,y,\"r*\", label = \"Datos\")\n",
        "plt.plot(x1,Y.T,\"k--\", label = \"Regresiòn Lineal\")\n",
        "plt.grid()\n",
        "plt.legend()"
      ],
      "metadata": {
        "colab": {
          "base_uri": "https://localhost:8080/",
          "height": 447
        },
        "id": "hJraEPaR_OPK",
        "outputId": "7c70294e-613e-497e-c5f4-de26029ffa90"
      },
      "execution_count": null,
      "outputs": [
        {
          "output_type": "execute_result",
          "data": {
            "text/plain": [
              "<matplotlib.legend.Legend at 0x7a9ae4592a70>"
            ]
          },
          "metadata": {},
          "execution_count": 13
        },
        {
          "output_type": "display_data",
          "data": {
            "text/plain": [
              "<Figure size 640x480 with 1 Axes>"
            ],
            "image/png": "[encoded data removed]"
          },
          "metadata": {}
        }
      ]
    },
    {
      "cell_type": "markdown",
      "source": [
        "\n",
        "\n",
        "3. Construir un programa que permita calcular una regresion bidimensional y hacer su representación .\n",
        "\n",
        "\n",
        "Operaciones matricial con regresión lineal.\n",
        "\n",
        "Cuando se desea hacer una regresion lineal multivariada, existen diferentes formas de realizar la regresión, una de ellas es encontrar el error cuadrático medio y miniminzar el conjunto de parámetros de la regresión emplando algún metodo de minimización, otra forma es encontrar la expresión analítica en forma matricial para enoncontrar el conjunto de parametros de la regresión. En este último caso, la regresion lineal viene dada por la siguiente expresion generalizada:\n",
        "\n",
        "\n",
        "- $\\Theta = (X^T X)^{-1} X^T y$\n",
        "\n",
        "donte $\\Theta$ es la matriz de parametros asociados a la regresión lineal, X la matriz de características y y los valos esperados, así, si tenemos una conjunto de datos en N dimensiones la recta, plano o hyperplano puede ser calculado como:\n",
        "\n",
        "$Y=\\Theta^T X$\n",
        "\n",
        "\n",
        "En el caso de dos dimensiones, tenemos lo siguiente, Supongamos que X, y Y presentan un comportamiento lineal, y vienen dados por:\n",
        "\n",
        "\n",
        "- Sea $\\vec{X}=x^1, x^2, x^3, x^4, ..., x^m$\n",
        "- Sea $\\vec{Y}=y^1, y^2, y^3, y^4, ..., y^m$\n",
        "\n",
        "Para determinar la ecuacion de la recta, hay que conocer los párametros $\\theta_0 $, $\\theta_1$, que cumplen que :   $y^{i} = \\theta_1 x^{i} + \\theta_0$ la anterior expresion puede ser escrita como:\n",
        "\n",
        "\\begin{equation}\n",
        "\\begin{bmatrix}\n",
        "y^{1}\\\\\n",
        "y^{2}\\\\\n",
        "\\vdots\\\\\n",
        "y^{m}\\\\\n",
        "\\end{bmatrix}=\n",
        "\\begin{bmatrix}\n",
        "\\theta_0 & \\theta_1 \\\\\n",
        "\\end{bmatrix}\n",
        "\\begin{bmatrix}\n",
        "1 & 1 & \\cdots & 1 \\\\\n",
        "x_1^{1} & x_1^{2} & \\cdots & x_1^{m} \\\\\n",
        "\\end{bmatrix}\n",
        "\\end{equation}\n",
        "\n",
        "\n",
        "Para determinar la matriz de theta entonces se puede aplicar la ecuación:\n",
        "\n",
        "- $\\Theta = (X^T X)^{-1} X^T y$\n",
        "\n",
        "donde:\n",
        "\\begin{equation}\n",
        "X=\n",
        "\\begin{bmatrix}\n",
        "1 & x_1^{1} \\\\\n",
        "1 & x_1^{2} \\\\\n",
        "\\vdots & \\vdots \\\\\n",
        "1 & x_1^{m}\n",
        "\\end{bmatrix}\n",
        "\\end{equation}\n",
        "\n",
        "y\n",
        "\n",
        "\n",
        "\\begin{equation}\n",
        "y=\n",
        "\\begin{bmatrix}\n",
        "y^1 \\\\\n",
        "y^2 \\\\\n",
        "\\vdots\\\\\n",
        "y^m\n",
        "\\end{bmatrix}\n",
        "\\end{equation}\n",
        "\n",
        "\n",
        "\n",
        "\n",
        "\n",
        "Generalice para el siguiente problema bidimensional:\n",
        "\n",
        "\n",
        "```python\n",
        "N = 10\n",
        "x1 = np.linspace(-1, 1, N)\n",
        "x2 = np.linspace(-2, 2, N)\n",
        "noise1=2*np.random.random(N)-1\n",
        "noise2=2*np.random.random(N)-1\n",
        "y = 2*(x1+noise1) - 3*(x2+noise2) + 0.0 #+ 4*np.random.random(100)\n",
        "\n",
        "N = 10\n",
        "X1, X2 = np.meshgrid(x1,x2)\n",
        "Y = 2*X1 - 3*X2 + 0.0\n",
        "fig, ax = plt.subplots(subplot_kw={\"projection\": \"3d\"})\n",
        "surf = ax.plot_surface(X1, X2, Y)\n",
        "#scatter = ax.scatter(x1, x2, y,\"-\")\n",
        "```\n",
        "\n"
      ],
      "metadata": {
        "id": "abZtGx5XZ34h"
      }
    },
    {
      "cell_type": "code",
      "source": [
        "N = 20\n",
        "x1 = np.linspace(-1, 1, N)\n",
        "x2 = np.linspace(-2, 2, N)\n",
        "noise1=2*np.random.random(N)-1\n",
        "noise2=2*np.random.random(N)-1\n",
        "y = 2*(x1+noise1) - 3*(x2+noise2) + 0.0 #+ 4*np.random.random(100)\n",
        "\n",
        "N = 10\n",
        "X1, X2 = np.meshgrid(x1,x2)\n",
        "Y = 2*X1 - 3*X2 + 0.0\n",
        "fig, ax = plt.subplots(subplot_kw={\"projection\": \"3d\"})\n",
        "surf = ax.plot_surface(X1, X2, Y)\n",
        "# scatter = ax.scatter(x1, x2, y,\"-\")"
      ],
      "metadata": {
        "colab": {
          "base_uri": "https://localhost:8080/",
          "height": 415
        },
        "id": "U71txJym_g95",
        "outputId": "97ea338f-b308-4777-b3b9-a910d5d056e7"
      },
      "execution_count": null,
      "outputs": [
        {
          "output_type": "display_data",
          "data": {
            "text/plain": [
              "<Figure size 640x480 with 1 Axes>"
            ],
            "image/png": "[encoded data removed]"
          },
          "metadata": {}
        }
      ]
    },
    {
      "cell_type": "code",
      "source": [
        "X = np.zeros((len(x1),3))\n",
        "X[:,0] = 1\n",
        "X[:,1] = x1\n",
        "X[:,2] = x2\n",
        "X = np.matrix(X)\n",
        "sy.Matrix(X)"
      ],
      "metadata": {
        "colab": {
          "base_uri": "https://localhost:8080/",
          "height": 424
        },
        "id": "qvY_N_Yu_lpI",
        "outputId": "f570a107-71ed-4074-89f8-9ed5365150af"
      },
      "execution_count": null,
      "outputs": [
        {
          "output_type": "execute_result",
          "data": {
            "text/plain": [
              "Matrix([\n",
              "[1.0,                -1.0,               -2.0],\n",
              "[1.0,  -0.894736842105263,  -1.78947368421053],\n",
              "[1.0,  -0.789473684210526,  -1.57894736842105],\n",
              "[1.0,  -0.684210526315789,  -1.36842105263158],\n",
              "[1.0,  -0.578947368421053,  -1.15789473684211],\n",
              "[1.0,  -0.473684210526316, -0.947368421052632],\n",
              "[1.0,  -0.368421052631579, -0.736842105263158],\n",
              "[1.0,  -0.263157894736842, -0.526315789473684],\n",
              "[1.0,  -0.157894736842105, -0.315789473684211],\n",
              "[1.0, -0.0526315789473685, -0.105263157894737],\n",
              "[1.0,  0.0526315789473684,  0.105263157894737],\n",
              "[1.0,   0.157894736842105,  0.315789473684211],\n",
              "[1.0,   0.263157894736842,  0.526315789473684],\n",
              "[1.0,   0.368421052631579,  0.736842105263158],\n",
              "[1.0,   0.473684210526316,  0.947368421052631],\n",
              "[1.0,   0.578947368421053,   1.15789473684211],\n",
              "[1.0,   0.684210526315789,   1.36842105263158],\n",
              "[1.0,   0.789473684210526,   1.57894736842105],\n",
              "[1.0,   0.894736842105263,   1.78947368421053],\n",
              "[1.0,                 1.0,                2.0]])"
            ],
            "text/latex": "$\\displaystyle \\left[\\begin{matrix}1.0 & -1.0 & -2.0\\\\1.0 & -0.894736842105263 & -1.78947368421053\\\\1.0 & -0.789473684210526 & -1.57894736842105\\\\1.0 & -0.684210526315789 & -1.36842105263158\\\\1.0 & -0.578947368421053 & -1.15789473684211\\\\1.0 & -0.473684210526316 & -0.947368421052632\\\\1.0 & -0.368421052631579 & -0.736842105263158\\\\1.0 & -0.263157894736842 & -0.526315789473684\\\\1.0 & -0.157894736842105 & -0.315789473684211\\\\1.0 & -0.0526315789473685 & -0.105263157894737\\\\1.0 & 0.0526315789473684 & 0.105263157894737\\\\1.0 & 0.157894736842105 & 0.315789473684211\\\\1.0 & 0.263157894736842 & 0.526315789473684\\\\1.0 & 0.368421052631579 & 0.736842105263158\\\\1.0 & 0.473684210526316 & 0.947368421052631\\\\1.0 & 0.578947368421053 & 1.15789473684211\\\\1.0 & 0.684210526315789 & 1.36842105263158\\\\1.0 & 0.789473684210526 & 1.57894736842105\\\\1.0 & 0.894736842105263 & 1.78947368421053\\\\1.0 & 1.0 & 2.0\\end{matrix}\\right]$"
          },
          "metadata": {},
          "execution_count": 15
        }
      ]
    },
    {
      "cell_type": "code",
      "source": [
        "Theta = ((X.T @ X).I) @ X.T @ y\n",
        "sy.Matrix(Theta)"
      ],
      "metadata": {
        "colab": {
          "base_uri": "https://localhost:8080/",
          "height": 38
        },
        "id": "rDfKWYv9_nGz",
        "outputId": "301ab61f-3aca-4a07-e059-13f471f2d280"
      },
      "execution_count": null,
      "outputs": [
        {
          "output_type": "execute_result",
          "data": {
            "text/plain": [
              "Matrix([[-0.185840386894517, -0.943674100378495, -1.77800090650097]])"
            ],
            "text/latex": "$\\displaystyle \\left[\\begin{matrix}-0.185840386894517 & -0.943674100378495 & -1.77800090650097\\end{matrix}\\right]$"
          },
          "metadata": {},
          "execution_count": 16
        }
      ]
    },
    {
      "cell_type": "code",
      "source": [
        "Y = Theta @ X.T\n",
        "Y"
      ],
      "metadata": {
        "colab": {
          "base_uri": "https://localhost:8080/"
        },
        "id": "WBy9NCzb_pLA",
        "outputId": "3e101010-5881-4110-bceb-7afb933e4a5b"
      },
      "execution_count": null,
      "outputs": [
        {
          "output_type": "execute_result",
          "data": {
            "text/plain": [
              "matrix([[ 4.31383553,  3.84018543,  3.36653533,  2.89288524,  2.41923514,\n",
              "          1.94558505,  1.47193495,  0.99828485,  0.52463476,  0.05098466,\n",
              "         -0.42266543, -0.89631553, -1.36996563, -1.84361572, -2.31726582,\n",
              "         -2.79091592, -3.26456601, -3.73821611, -4.2118662 , -4.6855163 ]])"
            ]
          },
          "metadata": {},
          "execution_count": 18
        }
      ]
    },
    {
      "cell_type": "code",
      "source": [
        "X_1, X_2 = np.meshgrid(x1,x2)\n",
        "Y_ = 2*X1 - 3*X2 + 0.0\n",
        "fig, ax = plt.subplots(subplot_kw={\"projection\": \"3d\"})\n",
        "surf = ax.plot_surface(X_1, X_2, Y,color = \"#004b75\",label=\"Regresion Lineal\", alpha = 0.7) # alhpa es transparencia de (0 a 1), 0 completamente transparente\n",
        "ax.scatter(x1, x2, y,color=\"red\",label=\"Datos\")"
      ],
      "metadata": {
        "colab": {
          "base_uri": "https://localhost:8080/",
          "height": 432
        },
        "id": "-3F9-6Uj_qwQ",
        "outputId": "b087496e-080d-4975-fd6b-bcfd2e2ae5f2"
      },
      "execution_count": null,
      "outputs": [
        {
          "output_type": "execute_result",
          "data": {
            "text/plain": [
              "<mpl_toolkits.mplot3d.art3d.Path3DCollection at 0x7a9ac3eb4c40>"
            ]
          },
          "metadata": {},
          "execution_count": 25
        },
        {
          "output_type": "display_data",
          "data": {
            "text/plain": [
              "<Figure size 640x480 with 1 Axes>"
            ],
            "image/png": "[encoded data removed]"
          },
          "metadata": {}
        }
      ]
    },
    {
      "cell_type": "markdown",
      "source": [
        "\n",
        "4. Construir un programa que permita realizar eliminacion de Gauss- Jordan de una matriz\n"
      ],
      "metadata": {
        "id": "i_a314UjZ-hQ"
      }
    },
    {
      "cell_type": "code",
      "source": [
        "M = np.random.randint(0,11,(3,4))\n",
        "M = np.matrix(M)\n",
        "M"
      ],
      "metadata": {
        "colab": {
          "base_uri": "https://localhost:8080/"
        },
        "id": "iIIDZeQpBQUG",
        "outputId": "16d20455-ab4a-4355-ae9e-5b89f81cc52f"
      },
      "execution_count": null,
      "outputs": [
        {
          "output_type": "execute_result",
          "data": {
            "text/plain": [
              "matrix([[ 3,  8,  5, 10],\n",
              "        [ 5,  1,  7,  1],\n",
              "        [ 3,  2,  2, 10]])"
            ]
          },
          "metadata": {},
          "execution_count": 112
        }
      ]
    },
    {
      "cell_type": "code",
      "source": [
        "def multiplicarfila(M,x,c):\n",
        "  Mcopy = M.copy()\n",
        "  m = c*M[x,:]\n",
        "  Mcopy[x,:] = m\n",
        "  return Mcopy\n",
        "def sumafila(M,x,y):\n",
        "  Mcopy = M.copy()\n",
        "  s = M[x,:] + M[y,:]\n",
        "  Mcopy[y] = s\n",
        "  return Mcopy\n",
        "def cambiarfila(M,x,y):\n",
        "  Mcopy = M.copy()\n",
        "  Mcopy[[x, y], :] = Mcopy[[y, x], :]\n",
        "  return Mcopy"
      ],
      "metadata": {
        "id": "tTRLLkHnHXFy"
      },
      "execution_count": null,
      "outputs": []
    },
    {
      "cell_type": "code",
      "source": [
        "q = multiplicarfila(M,0,-4)\n",
        "q = sumafila(q,0,1)\n",
        "q = multiplicarfila(q,0,1/8)\n",
        "q = sumafila(q,0,2)\n",
        "q = multiplicarfila(q,0,-1)\n",
        "q = multiplicarfila(q,1,-3/22)\n",
        "q = sumafila(q,1,2)\n",
        "q"
      ],
      "metadata": {
        "colab": {
          "base_uri": "https://localhost:8080/"
        },
        "id": "LFfopQrnC78J",
        "outputId": "75198ad7-9f00-4bf2-b875-ac17b0edc1f9"
      },
      "execution_count": null,
      "outputs": [
        {
          "output_type": "execute_result",
          "data": {
            "text/plain": [
              "matrix([[4, 4],\n",
              "        [3, 4],\n",
              "        [3, 4]])"
            ]
          },
          "metadata": {},
          "execution_count": 108
        }
      ]
    },
    {
      "cell_type": "code",
      "source": [
        "def formatear_zeros(x): # QUiero cambiar -0.0 a 0.0\n",
        "    return 0.0 if np.isclose(x, 0.0) else x"
      ],
      "metadata": {
        "id": "fFh8w1IoQVGB"
      },
      "execution_count": null,
      "outputs": []
    },
    {
      "cell_type": "code",
      "source": [
        "def gauss_jordan(A):\n",
        "    n = len(A)\n",
        "    Ab = np.copy(A).astype(\"float\")\n",
        "    for i in range(n):\n",
        "        # Pivote en la fila i y columna i\n",
        "        pivot_row = Ab[i, :]\n",
        "        pivot_elem = pivot_row[i]\n",
        "\n",
        "        # Dividir la fila por el pivote para hacer el pivote igual a 1\n",
        "        Ab[i, :] /= pivot_elem\n",
        "\n",
        "        # Restar las filas debajo de la fila actual para hacer ceros debajo del pivote\n",
        "        for j in range(i + 1, n):\n",
        "            factor = Ab[j, i]\n",
        "            Ab[j, :] -= factor * Ab[i, :]\n",
        "    # Formatear los valores cercanos a cero como 0.0\n",
        "    Ab = np.vectorize(formatear_zeros)(Ab)\n",
        "\n",
        "    # Eliminación hacia atrás\n",
        "    for i in range(n - 1, 0, -1):\n",
        "        for j in range(i - 1, -1, -1):\n",
        "            factor = Ab[j, i]\n",
        "            Ab[j, :] -= factor * Ab[i, :]\n",
        "\n",
        "    return Ab"
      ],
      "metadata": {
        "id": "KzhAVjcsOIuN"
      },
      "execution_count": null,
      "outputs": []
    },
    {
      "cell_type": "code",
      "source": [
        "p = gauss_jordan(M)\n",
        "p"
      ],
      "metadata": {
        "colab": {
          "base_uri": "https://localhost:8080/"
        },
        "id": "PXRev5l8OQV7",
        "outputId": "7fb725f2-44bb-4d1a-f9ea-e48c71b1f257"
      },
      "execution_count": null,
      "outputs": [
        {
          "output_type": "execute_result",
          "data": {
            "text/plain": [
              "array([[ 1.        ,  0.        ,  0.        ,  4.4137931 ],\n",
              "       [ 0.        ,  1.        ,  0.        ,  1.62068966],\n",
              "       [ 0.        ,  0.        ,  1.        , -3.24137931]])"
            ]
          },
          "metadata": {},
          "execution_count": 119
        }
      ]
    },
    {
      "cell_type": "code",
      "source": [
        "c = np.linalg.solve(M[:,:-1],M[:,-1])\n",
        "c"
      ],
      "metadata": {
        "colab": {
          "base_uri": "https://localhost:8080/"
        },
        "id": "YdJYIplDTmWK",
        "outputId": "4c80dfc3-a4b9-4fd2-c4b5-1b3d8b5ca2ba"
      },
      "execution_count": null,
      "outputs": [
        {
          "output_type": "execute_result",
          "data": {
            "text/plain": [
              "matrix([[ 4.4137931 ],\n",
              "        [ 1.62068966],\n",
              "        [-3.24137931]])"
            ]
          },
          "metadata": {},
          "execution_count": 114
        }
      ]
    }
  ]
}