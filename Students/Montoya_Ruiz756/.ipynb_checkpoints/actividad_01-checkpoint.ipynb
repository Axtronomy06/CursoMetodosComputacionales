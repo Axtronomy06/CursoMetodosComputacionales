{
 "cells": [
  {
   "cell_type": "markdown",
   "metadata": {
    "id": "_p_o2HLpuC0r"
   },
   "source": [
    "1. Escribir un programa que pida al usuario dos números enteros y muestre por pantalla la <n> entre <m> da un cociente <c> y un resto <r> donde <n> y <m> son los números introducidos por el usuario, y <c> y <r> son el cociente y el resto de la división entera respectivamente."
   ]
  },
  {
   "cell_type": "code",
   "execution_count": 62,
   "metadata": {
    "colab": {
     "base_uri": "https://localhost:8080/"
    },
    "id": "SqcDJbqwtrUZ",
    "outputId": "6fe74fec-c55b-452e-efcf-709169fb443f"
   },
   "outputs": [
    {
     "name": "stdout",
     "output_type": "stream",
     "text": [
      "Este es un script que retorna el cociente y residuo entre dos números\n",
      "ingrese un dividendo 5\n",
      "ingrese el divisor 3\n",
      "el cociente es 1.6666666666666667 y el residuo 2.0\n"
     ]
    }
   ],
   "source": [
    "print(\"Este es un script que retorna el cociente y residuo entre dos números\")\n",
    "a = float(input(\"ingrese un dividendo \"))\n",
    "b = float(input(\"ingrese el divisor \"))\n",
    "def div_mod(a,b):\n",
    "    c = a / b\n",
    "    r = a % b\n",
    "    return print(f\"el cociente es {c} y el residuo {r}\")\n",
    "div_mod(a,b)"
   ]
  },
  {
   "cell_type": "markdown",
   "metadata": {
    "id": "blbE9cz-uVHk"
   },
   "source": [
    "32. Crea una función llamada `doble_factorial` que reciba un parámetro llamado `n`. La función debe devolver el doble factorial de `n`, que se define como el producto de todos los números naturales desde n hasta 1 que tienen el mismo paridad que n. Por ejemplo, si `n` es 5, la función debe devolver 15, que es el resultado de 5 x 3 x 1. Llama a la función `doble_factorial` con diferentes valores para el parámetro `n`, como 6, 7 o 8."
   ]
  },
  {
   "cell_type": "code",
   "execution_count": 57,
   "metadata": {
    "colab": {
     "base_uri": "https://localhost:8080/"
    },
    "id": "bULQuosIuaio",
    "outputId": "b6973c1e-0059-4940-e837-f38fb3ad1c44"
   },
   "outputs": [
    {
     "name": "stdout",
     "output_type": "stream",
     "text": [
      "Este es un sript que calcula el doble factorial de un numero\n",
      "Ingrese el numero 25\n",
      "7905853580625\n"
     ]
    }
   ],
   "source": [
    "def doble_factorial(n):\n",
    "  if type(n) == int:\n",
    "    fact = 1\n",
    "    if n < 0:\n",
    "      mensaje = \"el número no puede ser negativo\"\n",
    "      return mensaje\n",
    "    elif n > 1:\n",
    "      fact = n * doble_factorial(n - 2) # Se calcula el doble factorial\n",
    "    elif n == 1:\n",
    "      fact = 1\n",
    "    return fact\n",
    "  elif type(n) == float:\n",
    "    mensaje2 = \"el número no puede ser real\"\n",
    "    return mensaje2\n",
    "print(\"Este es un sript que calcula el doble factorial de un numero\")\n",
    "n = eval(input(\"Ingrese el numero \"))\n",
    "resultado = doble_factorial(n)\n",
    "print(resultado)"
   ]
  },
  {
   "cell_type": "markdown",
   "metadata": {
    "id": "Uya-jM1h0I2U"
   },
   "source": [
    "3. Crea una función llamada `lucas` que reciba un parámetro llamado `n`. La función debe devolver el n-ésimo término de la sucesión de Lucas, que se define de forma similar a la sucesión de Fibonacci, pero con los dos primeros términos iguales a 2 y 1. Por ejemplo, si `n` es 3, la función debe devolver 4, que es el tercer término de la sucesión. Llama a la función `lucas` con diferentes valores para el parámetro `n`, como 9, 10 o 11."
   ]
  },
  {
   "cell_type": "code",
   "execution_count": 58,
   "metadata": {
    "colab": {
     "base_uri": "https://localhost:8080/"
    },
    "id": "hezu_dzNxwLg",
    "outputId": "3086be6c-481b-4dae-c7af-682653bade67"
   },
   "outputs": [
    {
     "name": "stdout",
     "output_type": "stream",
     "text": [
      "Este es un script que retorna el n-ésimo término de la sucesión de Lucas\n",
      "ingrese el n-ésimo termino 5\n",
      "el 5 ésimo termino de la sucecion de lucas es 7\n"
     ]
    }
   ],
   "source": [
    "def lucas(n):\n",
    "  l = [2,1]\n",
    "  if n > 2:\n",
    "    while len(l) < n:\n",
    "      suma = l[-1] + l[-2]\n",
    "      l.append(suma)\n",
    "  elif n == 1 :\n",
    "    return l[0]\n",
    "  elif n == 2 :\n",
    "    return l[1]\n",
    "  return l[-1]\n",
    "print(\"Este es un script que retorna el n-ésimo término de la sucesión de Lucas\")\n",
    "n = int(input(\"ingrese el n-ésimo termino \"))\n",
    "r = lucas(n)\n",
    "print(f\"el {n} ésimo termino de la sucecion de lucas es {r}\")"
   ]
  },
  {
   "cell_type": "code",
   "execution_count": 11,
   "metadata": {
    "colab": {
     "base_uri": "https://localhost:8080/"
    },
    "id": "LyHUEKKq2kqv",
    "outputId": "479cf3ec-c937-4fab-97db-03e1006bbcb8"
   },
   "outputs": [
    {
     "data": {
      "text/plain": [
       "11"
      ]
     },
     "execution_count": 11,
     "metadata": {},
     "output_type": "execute_result"
    }
   ],
   "source": [
    "lucas(6)"
   ]
  },
  {
   "cell_type": "markdown",
   "metadata": {
    "id": "oATcggV-7sZq"
   },
   "source": [
    "4. Crea una función llamada `binomial` que reciba dos parámetros llamados `n` y `k`. La función debe devolver el coeficiente binomial de `n` y `k`, que se define como el número de formas de elegir k elementos distintos de un conjunto de n elementos. Por ejemplo, si `n` es 5 y `k` es 3, la función debe devolver 10, ya que hay diez formas de elegir tres elementos distintos de un conjunto de cinco elementos. Llama a la función `binomial` con diferentes valores para los parámetros `n` y `k`, como 6 y 4, o 7 y 2.\n"
   ]
  },
  {
   "cell_type": "code",
   "execution_count": 59,
   "metadata": {
    "colab": {
     "base_uri": "https://localhost:8080/"
    },
    "id": "gouqA_vz4-72",
    "outputId": "037c0493-5aa5-43f9-d4b5-8cf617a273cd"
   },
   "outputs": [
    {
     "name": "stdout",
     "output_type": "stream",
     "text": [
      "Este es un scirpt que calcula el coeficiente binomial de n y k\n",
      "ingrese el número n 5\n",
      "ingrese el número k 3\n",
      "El coeficiente binomial de n y k es 10.0\n"
     ]
    }
   ],
   "source": [
    "def factorial(n):\n",
    "  if type(n) == int:\n",
    "    fact = 1\n",
    "    if n < 0:\n",
    "      mensaje = \"el número no puede ser negativo\"\n",
    "      return mensaje\n",
    "    elif n > 1:\n",
    "      fact = n * factorial(n - 1) # Se calcula el factorial\n",
    "    elif n == 1:\n",
    "      fact = 1\n",
    "    return fact\n",
    "  elif type(n) == float:\n",
    "    mensaje2 = \"el número no puede ser real\"\n",
    "    return mensaje2\n",
    "def binomial(n,k):\n",
    "  p = n-k\n",
    "  n = factorial(n)\n",
    "  d = factorial(k) * factorial(p)\n",
    "  binomial = n / d\n",
    "  return binomial\n",
    "print(\"Este es un scirpt que calcula el coeficiente binomial de n y k\")\n",
    "n = eval(input(\"ingrese el número n \"))\n",
    "k = eval(input(\"ingrese el número k \"))\n",
    "r = binomial(n,k)\n",
    "print(f\"El coeficiente binomial de n y k es {r}\")"
   ]
  },
  {
   "cell_type": "code",
   "execution_count": 19,
   "metadata": {
    "colab": {
     "base_uri": "https://localhost:8080/"
    },
    "id": "Ngttw2d5AENG",
    "outputId": "c2d23639-9e18-4221-e3b6-ceb809862896"
   },
   "outputs": [
    {
     "data": {
      "text/plain": [
       "21.0"
      ]
     },
     "execution_count": 19,
     "metadata": {},
     "output_type": "execute_result"
    }
   ],
   "source": [
    "binomial(7,2)"
   ]
  }
 ],
 "metadata": {
  "colab": {
   "provenance": []
  },
  "kernelspec": {
   "display_name": "Python 3 (ipykernel)",
   "language": "python",
   "name": "python3"
  },
  "language_info": {
   "codemirror_mode": {
    "name": "ipython",
    "version": 3
   },
   "file_extension": ".py",
   "mimetype": "text/x-python",
   "name": "python",
   "nbconvert_exporter": "python",
   "pygments_lexer": "ipython3",
   "version": "3.10.9"
  }
 },
 "nbformat": 4,
 "nbformat_minor": 1
}
