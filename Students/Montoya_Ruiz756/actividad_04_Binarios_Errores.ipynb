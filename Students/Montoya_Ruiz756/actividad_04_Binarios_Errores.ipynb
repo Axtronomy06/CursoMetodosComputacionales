{
  "cells": [
    {
      "cell_type": "markdown",
      "id": "6d26e874",
      "metadata": {
        "id": "6d26e874"
      },
      "source": [
        "<a href=\"https://colab.research.google.com/github/hernansalinas/autogrades/blob/main/Actividades_clase/Actividad_04_Binarios_Errores.ipynb\" target=\"_parent\"><img src=\"https://colab.research.google.com/assets/colab-badge.svg\" alt=\"Open In Colab\"/></a>\n",
        "\n",
        "\n",
        "\n",
        "# Actividad 4\n",
        "### Métodos computacionales para físicos  y astrónomos\n",
        "### Universidad de Antioquia\n",
        "### Prof: Hernan D. Salinas Jiménez\n"
      ]
    },
    {
      "cell_type": "code",
      "execution_count": null,
      "id": "eae80e3f",
      "metadata": {
        "id": "eae80e3f",
        "outputId": "5322cf52-051b-45e3-ef23-1fd96462ebbe",
        "colab": {
          "base_uri": "https://localhost:8080/"
        }
      },
      "outputs": [
        {
          "output_type": "stream",
          "name": "stdout",
          "text": [
            "Cloning into 'autogrades'...\n",
            "remote: Enumerating objects: 1002, done.\u001b[K\n",
            "remote: Counting objects: 100% (64/64), done.\u001b[K\n",
            "remote: Compressing objects: 100% (54/54), done.\u001b[K\n",
            "remote: Total 1002 (delta 33), reused 35 (delta 9), pack-reused 938\u001b[K\n",
            "Receiving objects: 100% (1002/1002), 38.88 MiB | 31.05 MiB/s, done.\n",
            "Resolving deltas: 100% (608/608), done.\n"
          ]
        }
      ],
      "source": [
        "!git clone https://github.com/hernansalinas/autogrades.git\n",
        "#path=\"libs\"\n",
        "path=\"autogrades/Actividades_clase/libs\"\n",
        "%run -i {path}/libUnitTest.py"
      ]
    },
    {
      "cell_type": "markdown",
      "id": "74f1131a",
      "metadata": {
        "id": "74f1131a"
      },
      "source": [
        "### Activity 1.0:\n",
        "\n",
        "Implement a function that get the binary representation of an integer with name mybin, the algorithm should return\n",
        "a string with 8 characters, the maximun number that represent the funcition is integer of 8 bit. The name of function is\n",
        "mybin\n",
        "\n",
        "Ejexample :\n",
        "\n",
        "b=mybin(x)\n",
        "\n",
        "b='00101000'"
      ]
    },
    {
      "cell_type": "code",
      "source": [
        "##!/usr/bin/env python3\n",
        "def mybin(x):\n",
        "  s = \"\"\n",
        "  while x > 0: # Cuando el cociente sea 0 y siginfica que ya hemos convertido todo el numero\n",
        "    c, r = divmod(x, 2) # retorna el cociente y el residuo de la division\n",
        "    x = c\n",
        "    s = str(r) + s\n",
        "  s = s.rjust(8, '0')  # Agrega ceros a la izquierda para completar 8 bits\n",
        "  return s"
      ],
      "metadata": {
        "id": "Q4tHOyHqukFH"
      },
      "id": "Q4tHOyHqukFH",
      "execution_count": null,
      "outputs": []
    },
    {
      "cell_type": "code",
      "source": [
        "mybin(212)"
      ],
      "metadata": {
        "colab": {
          "base_uri": "https://localhost:8080/",
          "height": 36
        },
        "id": "-R8XLPgRul5v",
        "outputId": "d8e4660d-0e1d-4094-96f2-47bf17a16664"
      },
      "id": "-R8XLPgRul5v",
      "execution_count": null,
      "outputs": [
        {
          "output_type": "execute_result",
          "data": {
            "text/plain": [
              "'11010100'"
            ],
            "application/vnd.google.colaboratory.intrinsic+json": {
              "type": "string"
            }
          },
          "metadata": {},
          "execution_count": 22
        }
      ]
    },
    {
      "cell_type": "code",
      "execution_count": null,
      "id": "885be6fb",
      "metadata": {
        "id": "885be6fb",
        "outputId": "805b080f-ab49-451c-ed5b-a499e00adede",
        "colab": {
          "base_uri": "https://localhost:8080/",
          "height": 214
        }
      },
      "outputs": [
        {
          "output_type": "display_data",
          "data": {
            "text/plain": [
              "<IPython.core.display.HTML object>"
            ],
            "text/html": [
              "<style>\n",
              "  table { text-align: left; border-collapse: collapse; margin: 1em; caption-side: bottom; font-family: Sans-Serif; font-size: 12px}\n",
              "  caption { text-align: left; padding: 5px }\n",
              "  th, td { border: 2px solid #BFC9CA; padding: 5px }\n",
              "  th { background-color: #BFC9CA }\n",
              "  .passed { background-color: #76D7C4 }\n",
              "  .failed { background-color: #EC7063 }\n",
              "  .skipped { background-color: #EDBB99 }\n",
              "  .score { background-color: #7DCEA0 }\n",
              "  .results .points { display: none }\n",
              "  .results .message { display: block; font-size:smaller; color:#D35400 }\n",
              "  .results .note { display: block; font-size:smaller; font-decoration:italics }\n",
              "  .results .passed::before  { content: \"Passed\" } \n",
              "  .results .skipped::before  { content: \"Skipped\" } \n",
              "  .results .failed::before  { content: \"Failed\" } \n",
              "  .grade .passed  .message:empty::before { content:\"Passed\" }\n",
              "  .grade .failed  .message:empty::before { content:\"Failed\" }\n",
              "  .grade .skipped .message:empty::before { content:\"Skipped\" }   \n",
              "</style>\n",
              "<table class='results'>\n",
              "  <th class='test'>Test</th><th class='result'>Result</th></tr>\n",
              "<tr>\n",
              "  <td class='test'>\n",
              "    La salida debe ser un string \n",
              "    <div class='message'>Done</div>\n",
              "  </td>\n",
              "  <td class='result passed'></td>\n",
              "</tr>\n",
              "<tr>\n",
              "  <td class='test'>\n",
              "    La longitud del string debe ser de 8 \n",
              "    <div class='message'>Done</div>\n",
              "  </td>\n",
              "  <td class='result passed'></td>\n",
              "</tr>\n",
              "<tr>\n",
              "  <td class='test'>\n",
              "    Para el número 240 su representacion es 11110000 \n",
              "    <div class='message'>Done</div>\n",
              "  </td>\n",
              "  <td class='result passed'></td>\n",
              "</tr>  <tr><th class='score'>Total Points</th><th class='score'>3</th></tr></table>\n"
            ]
          },
          "metadata": {}
        }
      ],
      "source": [
        "%run -i {path}/Act_02/test01.py"
      ]
    },
    {
      "cell_type": "markdown",
      "id": "e622b7b5",
      "metadata": {
        "id": "e622b7b5"
      },
      "source": [
        "### Activity 2.0:\n",
        "\n",
        "With the binary representation please try to implement the formula to recover the number.\n",
        "\n",
        "Hint: Use as input the binary representation as a string and invert its order\n",
        "\n",
        "```\n",
        "number32(BIN):\n",
        "\n",
        "```\n",
        "\n",
        "Where BIN is a string with the binary number\n",
        "\n",
        "Example:\n",
        "\n",
        "\n",
        "Test your solution for the next number:\n",
        "\n",
        "number32(\"00111110001000000000001000010000\")"
      ]
    },
    {
      "cell_type": "code",
      "source": [
        "import numpy as np"
      ],
      "metadata": {
        "id": "IsaOu_Xgh0zU"
      },
      "id": "IsaOu_Xgh0zU",
      "execution_count": null,
      "outputs": []
    },
    {
      "cell_type": "code",
      "execution_count": null,
      "id": "5f3c6506",
      "metadata": {
        "id": "5f3c6506"
      },
      "outputs": [],
      "source": [
        "def number32(BIN): # Debido a que estamos representado números de 32 bits\n",
        "  bin = np.array(list(BIN))\n",
        "  bin = bin[::-1].astype(int) # Asi convierte los string a un int\n",
        "  s= bin[-1] # solo si hemos reservado el ultimo bit como signo del número (0 para positivos 1 para negativos)\n",
        "  bs = bin[23:31] # los bits de (23 a 30) el exponente del numero\n",
        "  i = np.arange(8) # de 0 a 7 que es lo que necesitamos para el número de 32 bits\n",
        "  e = (bs*(2**i)).sum() # La 1 suma ponderada, .sum() permite iterar sin hacer un ciclo\n",
        "  br = bin[:23] # bits de (0 a 22) la fracción del numero\n",
        "  i2 = np.arange(1,24)[::-1] # De 23 a 1 que es lo que dice la imagen\n",
        "  sum2 = (br/(2**i2)).sum() # La 2 suma ponderada\n",
        "  numero = (((-1)**s)/(2**(127-e)))*(1+ sum2) # La formula que nos dan\n",
        "  return numero"
      ]
    },
    {
      "cell_type": "code",
      "source": [
        "number32(\"0111111110000000000000000000000\")"
      ],
      "metadata": {
        "colab": {
          "base_uri": "https://localhost:8080/"
        },
        "id": "X6JmU_s7iUwL",
        "outputId": "be942a5b-1642-49f1-d7d8-7d8e5d95db65"
      },
      "id": "X6JmU_s7iUwL",
      "execution_count": null,
      "outputs": [
        {
          "output_type": "execute_result",
          "data": {
            "text/plain": [
              "1.5"
            ]
          },
          "metadata": {},
          "execution_count": 59
        }
      ]
    },
    {
      "cell_type": "code",
      "source": [
        "o = \"0111111110000000000000000000000\"\n",
        "o\n"
      ],
      "metadata": {
        "colab": {
          "base_uri": "https://localhost:8080/"
        },
        "id": "43PrD694Ahj5",
        "outputId": "363f1cf2-5ec2-4209-a256-8a1003c2d0a9"
      },
      "id": "43PrD694Ahj5",
      "execution_count": null,
      "outputs": [
        {
          "output_type": "execute_result",
          "data": {
            "text/plain": [
              "8"
            ]
          },
          "metadata": {},
          "execution_count": 65
        }
      ]
    },
    {
      "cell_type": "code",
      "execution_count": null,
      "id": "155ffd7f",
      "metadata": {
        "id": "155ffd7f",
        "outputId": "78975639-15fb-446e-ed1f-be4d59b11695",
        "colab": {
          "base_uri": "https://localhost:8080/"
        }
      },
      "outputs": [
        {
          "output_type": "stream",
          "name": "stdout",
          "text": [
            "La función no ha sido definda o el numero de argumento no es el adecuado\n"
          ]
        }
      ],
      "source": [
        "%run -i {path}/Act_02/test02.py"
      ]
    },
    {
      "cell_type": "markdown",
      "id": "d11e596d",
      "metadata": {
        "id": "d11e596d"
      },
      "source": [
        "### Activity 3.0:\n",
        "1. Write a python script that calculates the double precision number represented by a 64-bits binary.\n",
        "\n",
        "the name of function should be:\n",
        "```\n",
        "number64(BIN):\n",
        "\n",
        "```\n",
        "\n",
        "2. What is the number represented by:\n",
        "\n",
        "BIN=\"0 10000000011 1011100100001111111111111111111111111111111111111111\""
      ]
    },
    {
      "cell_type": "code",
      "execution_count": null,
      "id": "b0922a1d",
      "metadata": {
        "id": "b0922a1d"
      },
      "outputs": [],
      "source": [
        "def number64(BIN):\n",
        "  bin = np.array(list(BIN))\n",
        "  bin = bin[::-1].astype(int) # Asi convierte los string a un int\n",
        "  s= bin[-1] # solo si hemos reservado el ultimo bit como signo del número (0 para positivos 1 para negativos)\n",
        "  bs = bin[52:63] # los bits de (52 a 30) el exponente del numero\n",
        "  i = np.arange(11) # de 0 a 10 que es lo que necesitamos para el número de 64 bits\n",
        "  e = (bs*(2**i)).sum() # La 1 suma ponderada, .sum() permite iterar sin hacer un ciclo\n",
        "  br = bin[51::-1] # bits de (0 a 51) la fracción del numero\n",
        "  i2 = np.arange(1,53) # De 1 a 52 que es lo que dice la imagen\n",
        "  i2 = np.power(float(2), -i2) # Por que no se puede elevar un número entero a una potencia negativa en python\n",
        "  sum2 = (br *(i2)).sum() # La 2 suma ponderada\n",
        "  numero = ((-1)**s) * (1 + sum2) * (2**(e-1023)) # La formula que nos dan\n",
        "  return numero"
      ]
    },
    {
      "cell_type": "code",
      "source": [
        "number64(\"0100000000111011100100001111111111111111111111111111111111111111\")"
      ],
      "metadata": {
        "colab": {
          "base_uri": "https://localhost:8080/"
        },
        "id": "W3JOUhODA8i7",
        "outputId": "66df4bbe-6682-4841-daf4-ef537dddf924"
      },
      "id": "W3JOUhODA8i7",
      "execution_count": null,
      "outputs": [
        {
          "output_type": "execute_result",
          "data": {
            "text/plain": [
              "27.566406249999996"
            ]
          },
          "metadata": {},
          "execution_count": 13
        }
      ]
    },
    {
      "cell_type": "code",
      "execution_count": null,
      "id": "cd48a992",
      "metadata": {
        "scrolled": false,
        "id": "cd48a992",
        "outputId": "68b9aa76-b486-47b1-a934-b54a409916c2",
        "colab": {
          "base_uri": "https://localhost:8080/",
          "height": 106
        }
      },
      "outputs": [
        {
          "output_type": "error",
          "ename": "SyntaxError",
          "evalue": "unmatched ')' (test03.py, line 28)",
          "traceback": [
            "\u001b[0;36m  File \u001b[0;32m\"/content/autogrades/Actividades_clase/libs/Act_02/test03.py\"\u001b[0;36m, line \u001b[0;32m28\u001b[0m\n\u001b[0;31m    True)\u001b[0m\n\u001b[0m        ^\u001b[0m\n\u001b[0;31mSyntaxError\u001b[0m\u001b[0;31m:\u001b[0m unmatched ')'\n"
          ]
        }
      ],
      "source": [
        "%run -i {path}/Act_02/test03.py"
      ]
    },
    {
      "cell_type": "code",
      "source": [
        "N = 1000\n",
        "p = 0.9993\n",
        "p = p ** N\n",
        "print(\"la Probabilidad de que el codigo este mal escrito es de {0:.5f}\".format(p))"
      ],
      "metadata": {
        "colab": {
          "base_uri": "https://localhost:8080/"
        },
        "id": "fJQIQJqI1Vu5",
        "outputId": "814dd989-4317-4f0f-c904-6ccc47be9c81"
      },
      "id": "fJQIQJqI1Vu5",
      "execution_count": null,
      "outputs": [
        {
          "output_type": "stream",
          "name": "stdout",
          "text": [
            "la Probabilidad de que el codigo este mal escrito es de 0.49646\n"
          ]
        }
      ]
    },
    {
      "cell_type": "code",
      "source": [],
      "metadata": {
        "id": "Sxn6w1kk1w66"
      },
      "id": "Sxn6w1kk1w66",
      "execution_count": null,
      "outputs": []
    }
  ],
  "metadata": {
    "kernelspec": {
      "display_name": "Python 3 (ipykernel)",
      "language": "python",
      "name": "python3"
    },
    "language_info": {
      "codemirror_mode": {
        "name": "ipython",
        "version": 3
      },
      "file_extension": ".py",
      "mimetype": "text/x-python",
      "name": "python",
      "nbconvert_exporter": "python",
      "pygments_lexer": "ipython3",
      "version": "3.10.9"
    },
    "colab": {
      "provenance": []
    }
  },
  "nbformat": 4,
  "nbformat_minor": 5
}