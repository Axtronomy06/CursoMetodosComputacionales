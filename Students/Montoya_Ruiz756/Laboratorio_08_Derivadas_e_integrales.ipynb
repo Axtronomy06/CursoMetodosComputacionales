{
  "cells": [
    {
      "cell_type": "markdown",
      "metadata": {
        "id": "je_9VSCywjrR"
      },
      "source": [
        "<a href=\"https://colab.research.google.com/github/hernansalinas/autogrades/blob/main/Laboratorios_Taller/Lab08_Derivadas_e_integrales.ipynb\" target=\"_parent\"><img src=\"https://colab.research.google.com/assets/colab-badge.svg\" alt=\"Open In Colab\"/></a>"
      ]
    },
    {
      "cell_type": "code",
      "execution_count": null,
      "metadata": {
        "id": "J5O5W6xbuoZS"
      },
      "outputs": [],
      "source": [
        "import numpy as np\n",
        "import matplotlib.pyplot as plt\n",
        "import pandas as pd\n",
        "import scipy as sc\n",
        "import sympy as sy\n",
        "from scipy.integrate import simps\n",
        "from scipy.integrate import quad"
      ]
    },
    {
      "cell_type": "markdown",
      "metadata": {
        "id": "mjVxBoseufI6"
      },
      "source": [
        "#Parte 1\n",
        "\n",
        "En un cirtcuito con un voltaje de  $\\varepsilon(t)$ y una inductancia de L, la primera ley de kirshhoff nos da la siguiente relación\n",
        "\n",
        "\\begin{equation}\n",
        "\\varepsilon(t) = L\\frac{\\mathrm{d}i}{\\mathrm{d}t} + Ri\n",
        "\\end{equation}\n",
        "\n",
        "donde $R$, es la resistencia del ciruito, $I$ es la corriente. Suponga que medimos la corriente con varios valores de $t$ y obtenemos:\n",
        "\n",
        "``t = 1.00, 1.01, 1.02, 1.03, 1.0``\n",
        "\n",
        "``i = 3.10, 3.12, 3.14, 3.18, 3.24``\n",
        "\n",
        "\n",
        "donde $t$ se mide en segundos, $I$ se da en Amperios, la inductancia $L$ es una constante de 0.98 H, la resistencia es de 0.142 $\\Omega$. Aproxime el votaje  $\\varepsilon(t)$ en los valores t=1.00, 1.01, 1.02, 1.03, 1.04 ,  para ello realice lo siguiente:\n",
        "\n",
        "\n",
        "- Construya un data frame de pandas con los valores de tiempo y corriente\n",
        "- Emplee un metodo calcular la derivada numérica."
      ]
    },
    {
      "cell_type": "code",
      "source": [
        "i = np.array([3.10,3.12,3.14,3.18,3.24])\n",
        "t = np.array([1.00,1.01,1.02,1.03,1.04])"
      ],
      "metadata": {
        "id": "UCkaczab1mkg"
      },
      "execution_count": null,
      "outputs": []
    },
    {
      "cell_type": "code",
      "source": [
        "data = {\"t\":t, \"i\": i}\n",
        "df = pd.DataFrame(data)\n",
        "df.head()"
      ],
      "metadata": {
        "colab": {
          "base_uri": "https://localhost:8080/",
          "height": 206
        },
        "id": "8OMyt1mew46u",
        "outputId": "1ba9e23f-3eba-4580-8693-9f1812de15ea"
      },
      "execution_count": null,
      "outputs": [
        {
          "output_type": "execute_result",
          "data": {
            "text/plain": [
              "      t     i\n",
              "0  1.00  3.10\n",
              "1  1.01  3.12\n",
              "2  1.02  3.14\n",
              "3  1.03  3.18\n",
              "4  1.04  3.24"
            ],
            "text/html": [
              "\n",
              "  <div id=\"df-87434ae7-c387-4a61-8c99-b80f5aebf54f\" class=\"colab-df-container\">\n",
              "    <div>\n",
              "<style scoped>\n",
              "    .dataframe tbody tr th:only-of-type {\n",
              "        vertical-align: middle;\n",
              "    }\n",
              "\n",
              "    .dataframe tbody tr th {\n",
              "        vertical-align: top;\n",
              "    }\n",
              "\n",
              "    .dataframe thead th {\n",
              "        text-align: right;\n",
              "    }\n",
              "</style>\n",
              "<table border=\"1\" class=\"dataframe\">\n",
              "  <thead>\n",
              "    <tr style=\"text-align: right;\">\n",
              "      <th></th>\n",
              "      <th>t</th>\n",
              "      <th>i</th>\n",
              "    </tr>\n",
              "  </thead>\n",
              "  <tbody>\n",
              "    <tr>\n",
              "      <th>0</th>\n",
              "      <td>1.00</td>\n",
              "      <td>3.10</td>\n",
              "    </tr>\n",
              "    <tr>\n",
              "      <th>1</th>\n",
              "      <td>1.01</td>\n",
              "      <td>3.12</td>\n",
              "    </tr>\n",
              "    <tr>\n",
              "      <th>2</th>\n",
              "      <td>1.02</td>\n",
              "      <td>3.14</td>\n",
              "    </tr>\n",
              "    <tr>\n",
              "      <th>3</th>\n",
              "      <td>1.03</td>\n",
              "      <td>3.18</td>\n",
              "    </tr>\n",
              "    <tr>\n",
              "      <th>4</th>\n",
              "      <td>1.04</td>\n",
              "      <td>3.24</td>\n",
              "    </tr>\n",
              "  </tbody>\n",
              "</table>\n",
              "</div>\n",
              "    <div class=\"colab-df-buttons\">\n",
              "\n",
              "  <div class=\"colab-df-container\">\n",
              "    <button class=\"colab-df-convert\" onclick=\"convertToInteractive('df-87434ae7-c387-4a61-8c99-b80f5aebf54f')\"\n",
              "            title=\"Convert this dataframe to an interactive table.\"\n",
              "            style=\"display:none;\">\n",
              "\n",
              "  <svg xmlns=\"http://www.w3.org/2000/svg\" height=\"24px\" viewBox=\"0 -960 960 960\">\n",
              "    <path d=\"M120-120v-720h720v720H120Zm60-500h600v-160H180v160Zm220 220h160v-160H400v160Zm0 220h160v-160H400v160ZM180-400h160v-160H180v160Zm440 0h160v-160H620v160ZM180-180h160v-160H180v160Zm440 0h160v-160H620v160Z\"/>\n",
              "  </svg>\n",
              "    </button>\n",
              "\n",
              "  <style>\n",
              "    .colab-df-container {\n",
              "      display:flex;\n",
              "      gap: 12px;\n",
              "    }\n",
              "\n",
              "    .colab-df-convert {\n",
              "      background-color: #E8F0FE;\n",
              "      border: none;\n",
              "      border-radius: 50%;\n",
              "      cursor: pointer;\n",
              "      display: none;\n",
              "      fill: #1967D2;\n",
              "      height: 32px;\n",
              "      padding: 0 0 0 0;\n",
              "      width: 32px;\n",
              "    }\n",
              "\n",
              "    .colab-df-convert:hover {\n",
              "      background-color: #E2EBFA;\n",
              "      box-shadow: 0px 1px 2px rgba(60, 64, 67, 0.3), 0px 1px 3px 1px rgba(60, 64, 67, 0.15);\n",
              "      fill: #174EA6;\n",
              "    }\n",
              "\n",
              "    .colab-df-buttons div {\n",
              "      margin-bottom: 4px;\n",
              "    }\n",
              "\n",
              "    [theme=dark] .colab-df-convert {\n",
              "      background-color: #3B4455;\n",
              "      fill: #D2E3FC;\n",
              "    }\n",
              "\n",
              "    [theme=dark] .colab-df-convert:hover {\n",
              "      background-color: #434B5C;\n",
              "      box-shadow: 0px 1px 3px 1px rgba(0, 0, 0, 0.15);\n",
              "      filter: drop-shadow(0px 1px 2px rgba(0, 0, 0, 0.3));\n",
              "      fill: #FFFFFF;\n",
              "    }\n",
              "  </style>\n",
              "\n",
              "    <script>\n",
              "      const buttonEl =\n",
              "        document.querySelector('#df-87434ae7-c387-4a61-8c99-b80f5aebf54f button.colab-df-convert');\n",
              "      buttonEl.style.display =\n",
              "        google.colab.kernel.accessAllowed ? 'block' : 'none';\n",
              "\n",
              "      async function convertToInteractive(key) {\n",
              "        const element = document.querySelector('#df-87434ae7-c387-4a61-8c99-b80f5aebf54f');\n",
              "        const dataTable =\n",
              "          await google.colab.kernel.invokeFunction('convertToInteractive',\n",
              "                                                    [key], {});\n",
              "        if (!dataTable) return;\n",
              "\n",
              "        const docLinkHtml = 'Like what you see? Visit the ' +\n",
              "          '<a target=\"_blank\" href=https://colab.research.google.com/notebooks/data_table.ipynb>data table notebook</a>'\n",
              "          + ' to learn more about interactive tables.';\n",
              "        element.innerHTML = '';\n",
              "        dataTable['output_type'] = 'display_data';\n",
              "        await google.colab.output.renderOutput(dataTable, element);\n",
              "        const docLink = document.createElement('div');\n",
              "        docLink.innerHTML = docLinkHtml;\n",
              "        element.appendChild(docLink);\n",
              "      }\n",
              "    </script>\n",
              "  </div>\n",
              "\n",
              "\n",
              "<div id=\"df-aab9611e-b444-424e-8174-bf27f37ce151\">\n",
              "  <button class=\"colab-df-quickchart\" onclick=\"quickchart('df-aab9611e-b444-424e-8174-bf27f37ce151')\"\n",
              "            title=\"Suggest charts\"\n",
              "            style=\"display:none;\">\n",
              "\n",
              "<svg xmlns=\"http://www.w3.org/2000/svg\" height=\"24px\"viewBox=\"0 0 24 24\"\n",
              "     width=\"24px\">\n",
              "    <g>\n",
              "        <path d=\"M19 3H5c-1.1 0-2 .9-2 2v14c0 1.1.9 2 2 2h14c1.1 0 2-.9 2-2V5c0-1.1-.9-2-2-2zM9 17H7v-7h2v7zm4 0h-2V7h2v10zm4 0h-2v-4h2v4z\"/>\n",
              "    </g>\n",
              "</svg>\n",
              "  </button>\n",
              "\n",
              "<style>\n",
              "  .colab-df-quickchart {\n",
              "      --bg-color: #E8F0FE;\n",
              "      --fill-color: #1967D2;\n",
              "      --hover-bg-color: #E2EBFA;\n",
              "      --hover-fill-color: #174EA6;\n",
              "      --disabled-fill-color: #AAA;\n",
              "      --disabled-bg-color: #DDD;\n",
              "  }\n",
              "\n",
              "  [theme=dark] .colab-df-quickchart {\n",
              "      --bg-color: #3B4455;\n",
              "      --fill-color: #D2E3FC;\n",
              "      --hover-bg-color: #434B5C;\n",
              "      --hover-fill-color: #FFFFFF;\n",
              "      --disabled-bg-color: #3B4455;\n",
              "      --disabled-fill-color: #666;\n",
              "  }\n",
              "\n",
              "  .colab-df-quickchart {\n",
              "    background-color: var(--bg-color);\n",
              "    border: none;\n",
              "    border-radius: 50%;\n",
              "    cursor: pointer;\n",
              "    display: none;\n",
              "    fill: var(--fill-color);\n",
              "    height: 32px;\n",
              "    padding: 0;\n",
              "    width: 32px;\n",
              "  }\n",
              "\n",
              "  .colab-df-quickchart:hover {\n",
              "    background-color: var(--hover-bg-color);\n",
              "    box-shadow: 0 1px 2px rgba(60, 64, 67, 0.3), 0 1px 3px 1px rgba(60, 64, 67, 0.15);\n",
              "    fill: var(--button-hover-fill-color);\n",
              "  }\n",
              "\n",
              "  .colab-df-quickchart-complete:disabled,\n",
              "  .colab-df-quickchart-complete:disabled:hover {\n",
              "    background-color: var(--disabled-bg-color);\n",
              "    fill: var(--disabled-fill-color);\n",
              "    box-shadow: none;\n",
              "  }\n",
              "\n",
              "  .colab-df-spinner {\n",
              "    border: 2px solid var(--fill-color);\n",
              "    border-color: transparent;\n",
              "    border-bottom-color: var(--fill-color);\n",
              "    animation:\n",
              "      spin 1s steps(1) infinite;\n",
              "  }\n",
              "\n",
              "  @keyframes spin {\n",
              "    0% {\n",
              "      border-color: transparent;\n",
              "      border-bottom-color: var(--fill-color);\n",
              "      border-left-color: var(--fill-color);\n",
              "    }\n",
              "    20% {\n",
              "      border-color: transparent;\n",
              "      border-left-color: var(--fill-color);\n",
              "      border-top-color: var(--fill-color);\n",
              "    }\n",
              "    30% {\n",
              "      border-color: transparent;\n",
              "      border-left-color: var(--fill-color);\n",
              "      border-top-color: var(--fill-color);\n",
              "      border-right-color: var(--fill-color);\n",
              "    }\n",
              "    40% {\n",
              "      border-color: transparent;\n",
              "      border-right-color: var(--fill-color);\n",
              "      border-top-color: var(--fill-color);\n",
              "    }\n",
              "    60% {\n",
              "      border-color: transparent;\n",
              "      border-right-color: var(--fill-color);\n",
              "    }\n",
              "    80% {\n",
              "      border-color: transparent;\n",
              "      border-right-color: var(--fill-color);\n",
              "      border-bottom-color: var(--fill-color);\n",
              "    }\n",
              "    90% {\n",
              "      border-color: transparent;\n",
              "      border-bottom-color: var(--fill-color);\n",
              "    }\n",
              "  }\n",
              "</style>\n",
              "\n",
              "  <script>\n",
              "    async function quickchart(key) {\n",
              "      const quickchartButtonEl =\n",
              "        document.querySelector('#' + key + ' button');\n",
              "      quickchartButtonEl.disabled = true;  // To prevent multiple clicks.\n",
              "      quickchartButtonEl.classList.add('colab-df-spinner');\n",
              "      try {\n",
              "        const charts = await google.colab.kernel.invokeFunction(\n",
              "            'suggestCharts', [key], {});\n",
              "      } catch (error) {\n",
              "        console.error('Error during call to suggestCharts:', error);\n",
              "      }\n",
              "      quickchartButtonEl.classList.remove('colab-df-spinner');\n",
              "      quickchartButtonEl.classList.add('colab-df-quickchart-complete');\n",
              "    }\n",
              "    (() => {\n",
              "      let quickchartButtonEl =\n",
              "        document.querySelector('#df-aab9611e-b444-424e-8174-bf27f37ce151 button');\n",
              "      quickchartButtonEl.style.display =\n",
              "        google.colab.kernel.accessAllowed ? 'block' : 'none';\n",
              "    })();\n",
              "  </script>\n",
              "</div>\n",
              "    </div>\n",
              "  </div>\n"
            ],
            "application/vnd.google.colaboratory.intrinsic+json": {
              "type": "dataframe",
              "variable_name": "df",
              "summary": "{\n  \"name\": \"df\",\n  \"rows\": 5,\n  \"fields\": [\n    {\n      \"column\": \"t\",\n      \"properties\": {\n        \"dtype\": \"number\",\n        \"std\": 0.01581138830084191,\n        \"min\": 1.0,\n        \"max\": 1.04,\n        \"num_unique_values\": 5,\n        \"samples\": [\n          1.01,\n          1.04,\n          1.02\n        ],\n        \"semantic_type\": \"\",\n        \"description\": \"\"\n      }\n    },\n    {\n      \"column\": \"i\",\n      \"properties\": {\n        \"dtype\": \"number\",\n        \"std\": 0.055497747702046483,\n        \"min\": 3.1,\n        \"max\": 3.24,\n        \"num_unique_values\": 5,\n        \"samples\": [\n          3.12,\n          3.24,\n          3.14\n        ],\n        \"semantic_type\": \"\",\n        \"description\": \"\"\n      }\n    }\n  ]\n}"
            }
          },
          "metadata": {},
          "execution_count": 34
        }
      ]
    },
    {
      "cell_type": "code",
      "source": [
        "df.plot.line(x=\"t\", y=\"i\",color=\"r\",)\n",
        "plt.plot(df[\"t\"],df[\"i\"],\"yo\")\n",
        "plt.grid()\n",
        "plt.show()"
      ],
      "metadata": {
        "colab": {
          "base_uri": "https://localhost:8080/",
          "height": 449
        },
        "id": "liI1n_xVztHd",
        "outputId": "967ea774-1685-4175-8b83-0fb130a3aaa2"
      },
      "execution_count": null,
      "outputs": [
        {
          "output_type": "display_data",
          "data": {
            "text/plain": [
              "<Figure size 640x480 with 1 Axes>"
            ],
            "image/png": "[encoded data removed]"
          },
          "metadata": {}
        }
      ]
    },
    {
      "cell_type": "code",
      "source": [
        "derivada = np.gradient(df[\"i\"],df[\"t\"])\n",
        "plt.plot(df[\"t\"],derivada,label=\"Derivdad de Primer orden\")\n",
        "plt.grid()\n",
        "plt.show()"
      ],
      "metadata": {
        "colab": {
          "base_uri": "https://localhost:8080/",
          "height": 430
        },
        "id": "p04kpL_tzPkb",
        "outputId": "ad305ec5-5cd3-4610-8027-ed9f33983c26"
      },
      "execution_count": null,
      "outputs": [
        {
          "output_type": "display_data",
          "data": {
            "text/plain": [
              "<Figure size 640x480 with 1 Axes>"
            ],
            "image/png": "[encoded data removed]"
          },
          "metadata": {}
        }
      ]
    },
    {
      "cell_type": "code",
      "source": [
        "L = 0.98\n",
        "R = 0.142\n",
        "i = df[\"i\"]\n",
        "E_t = L*derivada*R*i\n",
        "df[\"Fem(v)\"]=E_t\n",
        "df.head()"
      ],
      "metadata": {
        "colab": {
          "base_uri": "https://localhost:8080/",
          "height": 206
        },
        "id": "7gbfRhe_0stw",
        "outputId": "0bc6d3fd-f4f5-4fe6-b911-ff6a17a462aa"
      },
      "execution_count": null,
      "outputs": [
        {
          "output_type": "execute_result",
          "data": {
            "text/plain": [
              "      t     i    Fem(v)\n",
              "0  1.00  3.10  0.862792\n",
              "1  1.01  3.12  0.868358\n",
              "2  1.02  3.14  1.310887\n",
              "3  1.03  3.18  2.212644\n",
              "4  1.04  3.24  2.705270"
            ],
            "text/html": [
              "\n",
              "  <div id=\"df-78642dc3-5cc1-492b-9d7b-58eae39dba3c\" class=\"colab-df-container\">\n",
              "    <div>\n",
              "<style scoped>\n",
              "    .dataframe tbody tr th:only-of-type {\n",
              "        vertical-align: middle;\n",
              "    }\n",
              "\n",
              "    .dataframe tbody tr th {\n",
              "        vertical-align: top;\n",
              "    }\n",
              "\n",
              "    .dataframe thead th {\n",
              "        text-align: right;\n",
              "    }\n",
              "</style>\n",
              "<table border=\"1\" class=\"dataframe\">\n",
              "  <thead>\n",
              "    <tr style=\"text-align: right;\">\n",
              "      <th></th>\n",
              "      <th>t</th>\n",
              "      <th>i</th>\n",
              "      <th>Fem(v)</th>\n",
              "    </tr>\n",
              "  </thead>\n",
              "  <tbody>\n",
              "    <tr>\n",
              "      <th>0</th>\n",
              "      <td>1.00</td>\n",
              "      <td>3.10</td>\n",
              "      <td>0.862792</td>\n",
              "    </tr>\n",
              "    <tr>\n",
              "      <th>1</th>\n",
              "      <td>1.01</td>\n",
              "      <td>3.12</td>\n",
              "      <td>0.868358</td>\n",
              "    </tr>\n",
              "    <tr>\n",
              "      <th>2</th>\n",
              "      <td>1.02</td>\n",
              "      <td>3.14</td>\n",
              "      <td>1.310887</td>\n",
              "    </tr>\n",
              "    <tr>\n",
              "      <th>3</th>\n",
              "      <td>1.03</td>\n",
              "      <td>3.18</td>\n",
              "      <td>2.212644</td>\n",
              "    </tr>\n",
              "    <tr>\n",
              "      <th>4</th>\n",
              "      <td>1.04</td>\n",
              "      <td>3.24</td>\n",
              "      <td>2.705270</td>\n",
              "    </tr>\n",
              "  </tbody>\n",
              "</table>\n",
              "</div>\n",
              "    <div class=\"colab-df-buttons\">\n",
              "\n",
              "  <div class=\"colab-df-container\">\n",
              "    <button class=\"colab-df-convert\" onclick=\"convertToInteractive('df-78642dc3-5cc1-492b-9d7b-58eae39dba3c')\"\n",
              "            title=\"Convert this dataframe to an interactive table.\"\n",
              "            style=\"display:none;\">\n",
              "\n",
              "  <svg xmlns=\"http://www.w3.org/2000/svg\" height=\"24px\" viewBox=\"0 -960 960 960\">\n",
              "    <path d=\"M120-120v-720h720v720H120Zm60-500h600v-160H180v160Zm220 220h160v-160H400v160Zm0 220h160v-160H400v160ZM180-400h160v-160H180v160Zm440 0h160v-160H620v160ZM180-180h160v-160H180v160Zm440 0h160v-160H620v160Z\"/>\n",
              "  </svg>\n",
              "    </button>\n",
              "\n",
              "  <style>\n",
              "    .colab-df-container {\n",
              "      display:flex;\n",
              "      gap: 12px;\n",
              "    }\n",
              "\n",
              "    .colab-df-convert {\n",
              "      background-color: #E8F0FE;\n",
              "      border: none;\n",
              "      border-radius: 50%;\n",
              "      cursor: pointer;\n",
              "      display: none;\n",
              "      fill: #1967D2;\n",
              "      height: 32px;\n",
              "      padding: 0 0 0 0;\n",
              "      width: 32px;\n",
              "    }\n",
              "\n",
              "    .colab-df-convert:hover {\n",
              "      background-color: #E2EBFA;\n",
              "      box-shadow: 0px 1px 2px rgba(60, 64, 67, 0.3), 0px 1px 3px 1px rgba(60, 64, 67, 0.15);\n",
              "      fill: #174EA6;\n",
              "    }\n",
              "\n",
              "    .colab-df-buttons div {\n",
              "      margin-bottom: 4px;\n",
              "    }\n",
              "\n",
              "    [theme=dark] .colab-df-convert {\n",
              "      background-color: #3B4455;\n",
              "      fill: #D2E3FC;\n",
              "    }\n",
              "\n",
              "    [theme=dark] .colab-df-convert:hover {\n",
              "      background-color: #434B5C;\n",
              "      box-shadow: 0px 1px 3px 1px rgba(0, 0, 0, 0.15);\n",
              "      filter: drop-shadow(0px 1px 2px rgba(0, 0, 0, 0.3));\n",
              "      fill: #FFFFFF;\n",
              "    }\n",
              "  </style>\n",
              "\n",
              "    <script>\n",
              "      const buttonEl =\n",
              "        document.querySelector('#df-78642dc3-5cc1-492b-9d7b-58eae39dba3c button.colab-df-convert');\n",
              "      buttonEl.style.display =\n",
              "        google.colab.kernel.accessAllowed ? 'block' : 'none';\n",
              "\n",
              "      async function convertToInteractive(key) {\n",
              "        const element = document.querySelector('#df-78642dc3-5cc1-492b-9d7b-58eae39dba3c');\n",
              "        const dataTable =\n",
              "          await google.colab.kernel.invokeFunction('convertToInteractive',\n",
              "                                                    [key], {});\n",
              "        if (!dataTable) return;\n",
              "\n",
              "        const docLinkHtml = 'Like what you see? Visit the ' +\n",
              "          '<a target=\"_blank\" href=https://colab.research.google.com/notebooks/data_table.ipynb>data table notebook</a>'\n",
              "          + ' to learn more about interactive tables.';\n",
              "        element.innerHTML = '';\n",
              "        dataTable['output_type'] = 'display_data';\n",
              "        await google.colab.output.renderOutput(dataTable, element);\n",
              "        const docLink = document.createElement('div');\n",
              "        docLink.innerHTML = docLinkHtml;\n",
              "        element.appendChild(docLink);\n",
              "      }\n",
              "    </script>\n",
              "  </div>\n",
              "\n",
              "\n",
              "<div id=\"df-b57d1953-7866-4f65-94ad-7a96cf83a235\">\n",
              "  <button class=\"colab-df-quickchart\" onclick=\"quickchart('df-b57d1953-7866-4f65-94ad-7a96cf83a235')\"\n",
              "            title=\"Suggest charts\"\n",
              "            style=\"display:none;\">\n",
              "\n",
              "<svg xmlns=\"http://www.w3.org/2000/svg\" height=\"24px\"viewBox=\"0 0 24 24\"\n",
              "     width=\"24px\">\n",
              "    <g>\n",
              "        <path d=\"M19 3H5c-1.1 0-2 .9-2 2v14c0 1.1.9 2 2 2h14c1.1 0 2-.9 2-2V5c0-1.1-.9-2-2-2zM9 17H7v-7h2v7zm4 0h-2V7h2v10zm4 0h-2v-4h2v4z\"/>\n",
              "    </g>\n",
              "</svg>\n",
              "  </button>\n",
              "\n",
              "<style>\n",
              "  .colab-df-quickchart {\n",
              "      --bg-color: #E8F0FE;\n",
              "      --fill-color: #1967D2;\n",
              "      --hover-bg-color: #E2EBFA;\n",
              "      --hover-fill-color: #174EA6;\n",
              "      --disabled-fill-color: #AAA;\n",
              "      --disabled-bg-color: #DDD;\n",
              "  }\n",
              "\n",
              "  [theme=dark] .colab-df-quickchart {\n",
              "      --bg-color: #3B4455;\n",
              "      --fill-color: #D2E3FC;\n",
              "      --hover-bg-color: #434B5C;\n",
              "      --hover-fill-color: #FFFFFF;\n",
              "      --disabled-bg-color: #3B4455;\n",
              "      --disabled-fill-color: #666;\n",
              "  }\n",
              "\n",
              "  .colab-df-quickchart {\n",
              "    background-color: var(--bg-color);\n",
              "    border: none;\n",
              "    border-radius: 50%;\n",
              "    cursor: pointer;\n",
              "    display: none;\n",
              "    fill: var(--fill-color);\n",
              "    height: 32px;\n",
              "    padding: 0;\n",
              "    width: 32px;\n",
              "  }\n",
              "\n",
              "  .colab-df-quickchart:hover {\n",
              "    background-color: var(--hover-bg-color);\n",
              "    box-shadow: 0 1px 2px rgba(60, 64, 67, 0.3), 0 1px 3px 1px rgba(60, 64, 67, 0.15);\n",
              "    fill: var(--button-hover-fill-color);\n",
              "  }\n",
              "\n",
              "  .colab-df-quickchart-complete:disabled,\n",
              "  .colab-df-quickchart-complete:disabled:hover {\n",
              "    background-color: var(--disabled-bg-color);\n",
              "    fill: var(--disabled-fill-color);\n",
              "    box-shadow: none;\n",
              "  }\n",
              "\n",
              "  .colab-df-spinner {\n",
              "    border: 2px solid var(--fill-color);\n",
              "    border-color: transparent;\n",
              "    border-bottom-color: var(--fill-color);\n",
              "    animation:\n",
              "      spin 1s steps(1) infinite;\n",
              "  }\n",
              "\n",
              "  @keyframes spin {\n",
              "    0% {\n",
              "      border-color: transparent;\n",
              "      border-bottom-color: var(--fill-color);\n",
              "      border-left-color: var(--fill-color);\n",
              "    }\n",
              "    20% {\n",
              "      border-color: transparent;\n",
              "      border-left-color: var(--fill-color);\n",
              "      border-top-color: var(--fill-color);\n",
              "    }\n",
              "    30% {\n",
              "      border-color: transparent;\n",
              "      border-left-color: var(--fill-color);\n",
              "      border-top-color: var(--fill-color);\n",
              "      border-right-color: var(--fill-color);\n",
              "    }\n",
              "    40% {\n",
              "      border-color: transparent;\n",
              "      border-right-color: var(--fill-color);\n",
              "      border-top-color: var(--fill-color);\n",
              "    }\n",
              "    60% {\n",
              "      border-color: transparent;\n",
              "      border-right-color: var(--fill-color);\n",
              "    }\n",
              "    80% {\n",
              "      border-color: transparent;\n",
              "      border-right-color: var(--fill-color);\n",
              "      border-bottom-color: var(--fill-color);\n",
              "    }\n",
              "    90% {\n",
              "      border-color: transparent;\n",
              "      border-bottom-color: var(--fill-color);\n",
              "    }\n",
              "  }\n",
              "</style>\n",
              "\n",
              "  <script>\n",
              "    async function quickchart(key) {\n",
              "      const quickchartButtonEl =\n",
              "        document.querySelector('#' + key + ' button');\n",
              "      quickchartButtonEl.disabled = true;  // To prevent multiple clicks.\n",
              "      quickchartButtonEl.classList.add('colab-df-spinner');\n",
              "      try {\n",
              "        const charts = await google.colab.kernel.invokeFunction(\n",
              "            'suggestCharts', [key], {});\n",
              "      } catch (error) {\n",
              "        console.error('Error during call to suggestCharts:', error);\n",
              "      }\n",
              "      quickchartButtonEl.classList.remove('colab-df-spinner');\n",
              "      quickchartButtonEl.classList.add('colab-df-quickchart-complete');\n",
              "    }\n",
              "    (() => {\n",
              "      let quickchartButtonEl =\n",
              "        document.querySelector('#df-b57d1953-7866-4f65-94ad-7a96cf83a235 button');\n",
              "      quickchartButtonEl.style.display =\n",
              "        google.colab.kernel.accessAllowed ? 'block' : 'none';\n",
              "    })();\n",
              "  </script>\n",
              "</div>\n",
              "    </div>\n",
              "  </div>\n"
            ],
            "application/vnd.google.colaboratory.intrinsic+json": {
              "type": "dataframe",
              "variable_name": "df",
              "summary": "{\n  \"name\": \"df\",\n  \"rows\": 5,\n  \"fields\": [\n    {\n      \"column\": \"t\",\n      \"properties\": {\n        \"dtype\": \"number\",\n        \"std\": 0.01581138830084191,\n        \"min\": 1.0,\n        \"max\": 1.04,\n        \"num_unique_values\": 5,\n        \"samples\": [\n          1.01,\n          1.04,\n          1.02\n        ],\n        \"semantic_type\": \"\",\n        \"description\": \"\"\n      }\n    },\n    {\n      \"column\": \"i\",\n      \"properties\": {\n        \"dtype\": \"number\",\n        \"std\": 0.055497747702046483,\n        \"min\": 3.1,\n        \"max\": 3.24,\n        \"num_unique_values\": 5,\n        \"samples\": [\n          3.12,\n          3.24,\n          3.14\n        ],\n        \"semantic_type\": \"\",\n        \"description\": \"\"\n      }\n    },\n    {\n      \"column\": \"Fem(v)\",\n      \"properties\": {\n        \"dtype\": \"number\",\n        \"std\": 0.8305112637149722,\n        \"min\": 0.8627919999999999,\n        \"max\": 2.7052704,\n        \"num_unique_values\": 5,\n        \"samples\": [\n          0.8683583999999999,\n          2.7052704,\n          1.3108872\n        ],\n        \"semantic_type\": \"\",\n        \"description\": \"\"\n      }\n    }\n  ]\n}"
            }
          },
          "metadata": {},
          "execution_count": 38
        }
      ]
    },
    {
      "cell_type": "code",
      "source": [
        "fig,axs = plt.subplots(1,2)\n",
        "axs[0].plot(t,i)\n",
        "axs[0].plot(t,i,\"bo\")\n",
        "axs[0].set_title(\"t vs i\")\n",
        "axs[1].plot(t,derivada,\"r\")\n",
        "axs[1].plot(t,derivada,\"ro\")\n",
        "axs[1].set_title(\"t vs E(t)\")\n",
        "plt.show()"
      ],
      "metadata": {
        "colab": {
          "base_uri": "https://localhost:8080/",
          "height": 452
        },
        "id": "CpgiYM1D3Dka",
        "outputId": "3734d5a5-3b9b-4635-87ce-9ce5d0027217"
      },
      "execution_count": null,
      "outputs": [
        {
          "output_type": "display_data",
          "data": {
            "text/plain": [
              "<Figure size 640x480 with 2 Axes>"
            ],
            "image/png": "[encoded data removed]"
          },
          "metadata": {}
        }
      ]
    },
    {
      "cell_type": "code",
      "source": [
        "PL = sc.interpolate.lagrange(t,i)\n",
        "xL = np.linspace(np.min(t),np.max(t))\n",
        "iL= PL(xL)\n",
        "plt.plot(xL,iL,\"g*\")"
      ],
      "metadata": {
        "colab": {
          "base_uri": "https://localhost:8080/",
          "height": 447
        },
        "id": "ZVpODwuR30vL",
        "outputId": "4868e60a-1a4b-4903-f082-605f161a913a"
      },
      "execution_count": null,
      "outputs": [
        {
          "output_type": "execute_result",
          "data": {
            "text/plain": [
              "[<matplotlib.lines.Line2D at 0x7b970a2a02e0>]"
            ]
          },
          "metadata": {},
          "execution_count": 68
        },
        {
          "output_type": "display_data",
          "data": {
            "text/plain": [
              "<Figure size 640x480 with 1 Axes>"
            ],
            "image/png": "[encoded data removed]"
          },
          "metadata": {}
        }
      ]
    },
    {
      "cell_type": "code",
      "source": [
        "h = 1e-4\n",
        "derivada1 = 1/(2*h)*(-3*PL(xL)+4*PL(xL+h)-PL(xL+2*h))\n",
        "plt.plot(xL,derivada1,label=\"Polinomio de Lagrange\")\n",
        "plt.plot(t,derivada,label= \"Derivada de primer orden\")\n",
        "plt.legend()\n",
        "plt.grid()\n",
        "plt.show()"
      ],
      "metadata": {
        "colab": {
          "base_uri": "https://localhost:8080/",
          "height": 430
        },
        "id": "iMX9IEsL89yh",
        "outputId": "c9945f2c-2389-4c2d-ca21-9d6616cf95c8"
      },
      "execution_count": null,
      "outputs": [
        {
          "output_type": "display_data",
          "data": {
            "text/plain": [
              "<Figure size 640x480 with 1 Axes>"
            ],
            "image/png": "[encoded data removed]"
          },
          "metadata": {}
        }
      ]
    },
    {
      "cell_type": "markdown",
      "metadata": {
        "id": "yyh50GiIux2j"
      },
      "source": [
        "##**Parte 2**\n",
        "\n",
        "1.La expresión para calcular una integral con la regla del trapecio.\n",
        "\n",
        "$$\\int_a^{b}f(x)≈\\frac{h}{2}[f(x_0)+f(x_n)+2\\sum_{i=1}^{n-1} f(x_i)]$$\n",
        "\n",
        "$$h=\\frac{b-a}{n}$$\n",
        "\n",
        "2. La expresión para calcular una integral con la regla del simpson.\n",
        "\n",
        "$$\\int_a^{b}f(x)≈\\frac{h}{3}[f(x_0)+f(x_n)+2\\sum_{i=1}^{n/2-1} f(x_{2i})+4\\sum_{i=1}^{n/2} f(x_{2i-1})]$$\n",
        "\n",
        "$$h=\\frac{b-a}{n}$$\n",
        "\n",
        "3. La expresión para calcular una integral con el metodo de cuadratura.\n",
        "\n",
        "$$\\int_a^{b} f(x) \\approx \\sum_{i=1}^{n} w_i \\cdot f(x_i)$$\n",
        "\n",
        "* Donde $w_i$ son los pesos asociados a los puntos de cuadratura $x_i$.\n",
        "\n",
        "4. Calcular una aproximación con el metodo 1,2,3 de las siguientes integrales"
      ]
    },
    {
      "cell_type": "markdown",
      "metadata": {
        "id": "j3rJW3FevAeC"
      },
      "source": [
        "---\n",
        "$$\n",
        " \\int_0^{\\pi/2} \\frac{1}{\\sqrt{\\tan x}}\\mathrm{dx}\n",
        " $$\n",
        "\n",
        "----\n",
        "$$\n",
        " \\int_{1}^{\\infty} \\frac{\\cos x}{x^3}\\mathrm{dx}\n",
        " $$\n",
        "\n",
        "\n",
        "----\n",
        "\n",
        "$$\n",
        " \\int_{0}^{\\pi/4} \\int_{0}^{\\sin x} \\frac{1}{\\sqrt{1-y^2}}\\mathrm{dxdy}\n",
        " $$\n",
        "\n",
        "---\n",
        "\n",
        "Garantizando  que el error sea menor a $\\varepsilon=1\\times 10^{-5}$."
      ]
    },
    {
      "cell_type": "code",
      "source": [
        "f = lambda x: 1/np.sqrt(np.tan(x))\n",
        "n = 1000000\n",
        "h = ((np.pi/2)-1e-8)/n\n",
        "x = np.linspace(1e-8,np.pi/2,n)\n",
        "i = range(1,n)\n",
        "intf = (h/2)*(f(1e-8)+f(np.pi/2)+(2*np.sum(f(x[i]))))\n",
        "intf"
      ],
      "metadata": {
        "colab": {
          "base_uri": "https://localhost:8080/"
        },
        "id": "HRPtHf8i_T7R",
        "outputId": "61927cdc-6650-4612-f558-011104607c1c"
      },
      "execution_count": null,
      "outputs": [
        {
          "output_type": "execute_result",
          "data": {
            "text/plain": [
              "2.2274525503672744"
            ]
          },
          "metadata": {},
          "execution_count": 10
        }
      ]
    },
    {
      "cell_type": "markdown",
      "source": [
        "**Regla del Trapecio**"
      ],
      "metadata": {
        "id": "wq881DtQAaUv"
      }
    },
    {
      "cell_type": "code",
      "source": [
        "a = 1e-8\n",
        "b = np.pi / 2\n",
        "f = lambda x: 1/np.sqrt(np.tan(x))\n",
        "x_values = np.linspace(a, b, n)\n",
        "f_values = f(x_values)\n",
        "integral_value = np.trapz(f_values, x_values)\n",
        "integral_value"
      ],
      "metadata": {
        "colab": {
          "base_uri": "https://localhost:8080/"
        },
        "id": "vkN9sHh3_wLU",
        "outputId": "6544656e-b1e3-40a2-e366-22a1eef115b8"
      },
      "execution_count": null,
      "outputs": [
        {
          "output_type": "execute_result",
          "data": {
            "text/plain": [
              "2.2274547778220395"
            ]
          },
          "metadata": {},
          "execution_count": 11
        }
      ]
    },
    {
      "cell_type": "code",
      "source": [
        "a = 0\n",
        "b = np.inf\n",
        "f = lambda x: np.cos(x)/x**3\n",
        "x_values = np.linspace(a, b, 10000)\n",
        "f_values = f(x_values)\n",
        "integral_value = np.trapz(f_values, x_values)\n",
        "integral_value"
      ],
      "metadata": {
        "colab": {
          "base_uri": "https://localhost:8080/"
        },
        "id": "BCj4xFPrWXzi",
        "outputId": "79f2f014-2eff-427c-c3be-239b586c2c90"
      },
      "execution_count": null,
      "outputs": [
        {
          "output_type": "stream",
          "name": "stderr",
          "text": [
            "<ipython-input-18-0e326fa6182c>:3: RuntimeWarning: invalid value encountered in cos\n",
            "  f = lambda x: np.cos(x)/x**3\n"
          ]
        },
        {
          "output_type": "execute_result",
          "data": {
            "text/plain": [
              "nan"
            ]
          },
          "metadata": {},
          "execution_count": 18
        }
      ]
    },
    {
      "cell_type": "code",
      "source": [
        "f = lambda y: 1/np.sqrt(1-y**2)\n",
        "x = np.linspace(0, np.pi/4 , 1000)\n",
        "U = np.zeros(1000)\n",
        "\n",
        "for i, x_ in enumerate(x):\n",
        "    y = np.linspace(0, np.sin(x_), 1000)\n",
        "    I_1 = np.trapz(f(y), y) # Integral respecto a y\n",
        "    U[i] = I_1\n",
        "\n",
        "II = np.trapz(U, x) # Intregral respecto a x\n",
        "II"
      ],
      "metadata": {
        "colab": {
          "base_uri": "https://localhost:8080/"
        },
        "id": "hIWnCC0FgeG0",
        "outputId": "01b78b91-a3d8-4ab0-f94c-2dc4581d61e0"
      },
      "execution_count": null,
      "outputs": [
        {
          "output_type": "execute_result",
          "data": {
            "text/plain": [
              "0.3084251503452092"
            ]
          },
          "metadata": {},
          "execution_count": 19
        }
      ]
    },
    {
      "cell_type": "markdown",
      "source": [
        "**Regla de Simpson**"
      ],
      "metadata": {
        "id": "s0nscf45_6vW"
      }
    },
    {
      "cell_type": "code",
      "source": [
        "def f(x):\n",
        "    return 1 / np.sqrt(np.tan(x))\n",
        "n = 10000000\n",
        "x_values = np.linspace(a, b, n)\n",
        "f_values = f(x_values)\n",
        "integral_value=simps(f_values, x_values)\n",
        "integral_value"
      ],
      "metadata": {
        "colab": {
          "base_uri": "https://localhost:8080/"
        },
        "id": "oN01LAGL_Niz",
        "outputId": "e410162d-ae08-4323-c2ca-49b4a8aa2313"
      },
      "execution_count": null,
      "outputs": [
        {
          "output_type": "execute_result",
          "data": {
            "text/plain": [
              "2.2214309594391692"
            ]
          },
          "metadata": {},
          "execution_count": 2
        }
      ]
    },
    {
      "cell_type": "code",
      "source": [
        "def f(x):\n",
        "    return np.cos(x) / x**3\n",
        "a = 1\n",
        "b = np.inf\n",
        "n = 10000000\n",
        "x_values = np.linspace(a, b, n)\n",
        "f_values = f(x_values)\n",
        "integral_value=simps(f_values, x_values)\n",
        "integral_value"
      ],
      "metadata": {
        "colab": {
          "base_uri": "https://localhost:8080/"
        },
        "id": "bTRqsIvfaccY",
        "outputId": "a748cc97-9e7e-4f5f-9883-c4ff50b16b0a"
      },
      "execution_count": null,
      "outputs": [
        {
          "output_type": "stream",
          "name": "stderr",
          "text": [
            "<ipython-input-8-b823f2fe92d8>:2: RuntimeWarning: invalid value encountered in cos\n",
            "  return np.cos(x) / x**3\n"
          ]
        },
        {
          "output_type": "execute_result",
          "data": {
            "text/plain": [
              "nan"
            ]
          },
          "metadata": {},
          "execution_count": 8
        }
      ]
    },
    {
      "cell_type": "code",
      "source": [
        "f = lambda y: 1/np.sqrt(1-y**2)\n",
        "x = np.linspace(0, np.pi/4 , 1000)\n",
        "U = np.zeros(1000)\n",
        "\n",
        "for i, x_ in enumerate(x):\n",
        "    y = np.linspace(0, np.sin(x_), 1000)\n",
        "    I_1 = simps(f(y), y) # Integral respecto a y\n",
        "    U[i] = I_1\n",
        "\n",
        "II = simps(U, x) # Intregral respecto a x\n",
        "II"
      ],
      "metadata": {
        "colab": {
          "base_uri": "https://localhost:8080/"
        },
        "id": "oLWWGP8bhS46",
        "outputId": "c68e557c-47bd-4193-8ee5-ceb74b7d0045"
      },
      "execution_count": null,
      "outputs": [
        {
          "output_type": "execute_result",
          "data": {
            "text/plain": [
              "0.3084251375341329"
            ]
          },
          "metadata": {},
          "execution_count": 23
        }
      ]
    },
    {
      "cell_type": "markdown",
      "source": [
        "**Metodo de Cuadratura**"
      ],
      "metadata": {
        "id": "Xr6AcyQFAjI-"
      }
    },
    {
      "cell_type": "code",
      "source": [
        "def f(x):\n",
        "    return 1 / np.sqrt(np.tan(x))\n",
        "def integrate_f():\n",
        "    result, _ = quad(f, 1e-8, np.pi/2)\n",
        "    return result\n",
        "integral_value = integrate_f()\n",
        "integral_value"
      ],
      "metadata": {
        "colab": {
          "base_uri": "https://localhost:8080/"
        },
        "id": "cDa1Uwms_mpy",
        "outputId": "a2fffbaf-ad44-4f7e-af3b-bfaad77d1d3e"
      },
      "execution_count": null,
      "outputs": [
        {
          "output_type": "execute_result",
          "data": {
            "text/plain": [
              "2.22144146938126"
            ]
          },
          "metadata": {},
          "execution_count": 13
        }
      ]
    },
    {
      "cell_type": "code",
      "source": [
        "def f(x):\n",
        "    return np.cos(x) / x**3\n",
        "def integrate_f():\n",
        "    result, _ = quad(f, 1, np.inf,limit= 1000)\n",
        "    return result\n",
        "integral_value = integrate_f()\n",
        "integral_value"
      ],
      "metadata": {
        "colab": {
          "base_uri": "https://localhost:8080/"
        },
        "id": "nYhSK5bFXnOY",
        "outputId": "4f8e89d1-0467-4e0c-9cf6-84bd66c7c72a"
      },
      "execution_count": null,
      "outputs": [
        {
          "output_type": "execute_result",
          "data": {
            "text/plain": [
              "0.018117622548772427"
            ]
          },
          "metadata": {},
          "execution_count": 15
        }
      ]
    },
    {
      "cell_type": "code",
      "source": [
        "f = lambda x, y: 1/np.sqrt(1-y**2)\n",
        "\n",
        "def F(x):\n",
        "    return quad(lambda y: f(x, y), 0, np.sin(x))[0]\n",
        "\n",
        "x = np.linspace(0, np.pi/4, 10000, endpoint=True)\n",
        "\n",
        "II, _ = quad(F, 0, np.pi/4)\n",
        "print(II)"
      ],
      "metadata": {
        "colab": {
          "base_uri": "https://localhost:8080/"
        },
        "id": "h-GvxQwUjeYI",
        "outputId": "be018e02-6621-4fcd-f02a-6ab0b4b2e9de"
      },
      "execution_count": null,
      "outputs": [
        {
          "output_type": "stream",
          "name": "stdout",
          "text": [
            "0.30842513753404244\n"
          ]
        }
      ]
    },
    {
      "cell_type": "markdown",
      "metadata": {
        "id": "pvB9I2lavCdW"
      },
      "source": [
        "## Parte 3\n",
        "\n",
        "Un péndulo físico en el regimen de pequeñas oscilaciones tiene un periodo de:\n",
        "\n",
        "\\begin{equation}\n",
        "P_0=2\\pi \\sqrt{\\frac{I_0}{mgb}}\n",
        "\\end{equation}\n",
        "\n",
        "Cuando las oscilaciones no son pequeñas, podemos encontrar una expresión para el periodo como sigue:\n",
        "\n",
        "\n",
        "La energia de un péndulo físico viene dada por:\n",
        "\n",
        "\\begin{equation}\n",
        "E=\\frac{I_0\\omega^2}{2}+mgb(1-\\cos \\theta)\n",
        "\\end{equation}\n",
        "\n",
        "En el punto más alejado de su posición de equilibrio, su energía es solo potencial y viene dada por:\n",
        "\n",
        "\\begin{equation}\n",
        "Ep = mgb(1-\\cos \\theta),\n",
        "\\end{equation}\n",
        "\n",
        "Igualando ambas expresiones tenemos que:\n",
        "\n",
        "\\begin{equation}\n",
        "mgb(1-\\cos \\theta)=\\frac{I_0\\omega^2}{2}+mgb(1-\\cos \\theta)\n",
        "\\end{equation}\n",
        "\n",
        "Integrando la ecuación respecto a $\\theta$ y realizando la sustitución:\n",
        "\n",
        "$\\sin \\phi = \\frac{\\sin \\frac{\\theta}{2}}{\\sin \\frac{\\theta_0}{2}}$ y  $k = \\sin \\frac{\\theta_0}{2}$, se puede encontrar  que el periodo de oscilación, viene dado en terminos de  la integral elíptica completa de primera especie:\n",
        "\n",
        "\n",
        "\\begin{equation}\n",
        "P = \\frac{2P_0}{\\pi} \\int _0^{\\pi/2} \\frac{\\mathrm{d\\phi}}{\\sqrt{1-k^2\\sin^2\\phi}}\n",
        "\\end{equation}\n",
        "\n",
        "donde,  $P_0$ es el periodo de las oscilaciones pequeñas.\n",
        "\n",
        "Determinar el periodo de oscilación de un péndulo. Para ello:\n",
        "\n",
        "1. Suponga los párametros iniciales del pendulo.\n",
        "2. Realice una buena planificación del código para calcular la integral.\n",
        "3. Emplee un  método de integracion numérico que conozca.\n",
        "4. Compruebe su solucion con el valor exacto de la integral mostrado en el punto"
      ]
    },
    {
      "cell_type": "markdown",
      "source": [
        "Para un péndulo simple:\n",
        "\n",
        "*   El momento de inercia $I_o = {\\frac{1}{3}}ml^2$\n",
        "*   $b$ es la distancia  entre el centro de masa del péndulo y el punto de suspensión, entonces $b$ sería simplemente la longitud del hilo o la distancia desde el punto de suspensión hasta el centro de masa de la masa puntual.\n",
        "*   $\\theta_o$ es la amplitud de las oscilacione(angulo máximo). Como $\\sin(\\theta_o)=\\frac{h}{l}$.  donde $h$ es la altura inicial, de la que se dejo caer el pendulo, entonce $\\arcsin(\\frac{h}{l})= \\theta_o$\n",
        "\n",
        "\n",
        "\n"
      ],
      "metadata": {
        "id": "YeTvBXHQ-CXQ"
      }
    },
    {
      "cell_type": "code",
      "source": [
        "def I(m,l):\n",
        "  Io= (1/3)*m*l**2\n",
        "  return Io"
      ],
      "metadata": {
        "id": "hXTFmtMj902Q"
      },
      "execution_count": null,
      "outputs": []
    },
    {
      "cell_type": "code",
      "source": [
        "def Po(m,l):\n",
        "  Io = I(m,l)\n",
        "  g = 9.8 # Gravedad (mts/sg^2)\n",
        "  b = l/2\n",
        "  r_ = m*g*b\n",
        "  r = 2*np.pi*np.sqrt(Io / r_)\n",
        "  return r"
      ],
      "metadata": {
        "id": "Zwwtj7m20b3p"
      },
      "execution_count": null,
      "outputs": []
    },
    {
      "cell_type": "markdown",
      "source": [
        "Utilice dos metodos trapecio y cuadratura para comparar resultados. Mas abajo utilizo trapecio manualmente (codigo).  "
      ],
      "metadata": {
        "id": "ByvjkbUEgUY2"
      }
    },
    {
      "cell_type": "code",
      "source": [
        "def integral_phi(k):\n",
        "  f = lambda phi,k: 1/np.sqrt(1-(k**2*np.sin(phi)**2))\n",
        "  resultado, error = quad(f, 0, np.pi/2, args=(k,))\n",
        "  return resultado"
      ],
      "metadata": {
        "id": "vFmZWg9gYx7H"
      },
      "execution_count": null,
      "outputs": []
    },
    {
      "cell_type": "code",
      "source": [
        "def integral_phi(k):\n",
        "  f = lambda phi: 1/np.sqrt(1-(k**2*np.sin(phi)**2))\n",
        "  theta = np.linspace(0, np.pi/2, 10000)\n",
        "  f_ = f(theta)\n",
        "  integral = np.trapz(f_, theta)\n",
        "  return integral"
      ],
      "metadata": {
        "id": "BczQlP3zfuz2"
      },
      "execution_count": null,
      "outputs": []
    },
    {
      "cell_type": "code",
      "source": [
        "def P(m,l,h):\n",
        "  P_o = Po(m,l)\n",
        "  theta_o = np.arcsin(h/l)\n",
        "  k = np.sin(theta_o/2)\n",
        "  integral = integral_phi(k)\n",
        "  p = (2*P_o/np.pi) * integral\n",
        "  return p"
      ],
      "metadata": {
        "id": "8fL74rgNUj7v"
      },
      "execution_count": null,
      "outputs": []
    },
    {
      "cell_type": "code",
      "source": [
        "m = 1 # Masa (kg)\n",
        "l = 0.10 # Longitud (mts)\n",
        "h = 0.05 # Altura (mts)\n",
        "P(m,l,h) # Periodo (sg)"
      ],
      "metadata": {
        "colab": {
          "base_uri": "https://localhost:8080/"
        },
        "id": "rym1f0PJatkW",
        "outputId": "42842bb9-03a6-43e5-eace-8cec8113d31b"
      },
      "execution_count": null,
      "outputs": [
        {
          "output_type": "execute_result",
          "data": {
            "text/plain": [
              "0.5272501229273843"
            ]
          },
          "metadata": {},
          "execution_count": 89
        }
      ]
    },
    {
      "cell_type": "markdown",
      "source": [
        "**Regla del trapecio**"
      ],
      "metadata": {
        "id": "PxtnPtdEcNFE"
      }
    },
    {
      "cell_type": "code",
      "source": [
        "f = lambda phi: 1/np.sqrt(1-(k**2*np.sin(phi)**2))\n",
        "h_ = 0.05\n",
        "theta_o = np.arcsin(h_/l)\n",
        "k = np.sin(theta_o/2)\n",
        "\n",
        "# Integral\n",
        "n = 10000\n",
        "h = (np.pi/2)/n # h = b-a/n\n",
        "x = np.linspace(0,np.pi/2,n) # l = longitud del pendulo, entonces tambien es la maxima distancia en el eje x\n",
        "i = range(1,n)\n",
        "intf = (h/2)*(f(0)+f(np.pi/2)+(2*np.sum(f(x[i]))))\n",
        "\n",
        "# Periodo\n",
        "P_o = Po(m,l)\n",
        "p = (2*P_o/np.pi) * intf\n",
        "p"
      ],
      "metadata": {
        "colab": {
          "base_uri": "https://localhost:8080/"
        },
        "id": "-TplSjswcE3e",
        "outputId": "e5ed7602-a248-405b-8d25-200860a48213"
      },
      "execution_count": null,
      "outputs": [
        {
          "output_type": "execute_result",
          "data": {
            "text/plain": [
              "0.5272510488658868"
            ]
          },
          "metadata": {},
          "execution_count": 84
        }
      ]
    },
    {
      "cell_type": "markdown",
      "metadata": {
        "id": "R2jgnjm4vd95"
      },
      "source": [
        "## Parte 4\n",
        "\n",
        "The next  problems are examples of how elliptic integrals enter into realistic physics problems. It is straightforward to evaluate any integral numerically using the techniques of this chapter, but it may be difficult for you to  know if the answers you obtain are correct. One way to hone your integral evaluating skills is to compare your answers from quadrature to power series\n",
        "expressions, or to a polynomial approximations of know precision. To help you in this regard, we present here a polynomial approximation for an elliptic integral (Abramowitz and Stegun, 1972):\n",
        "\n",
        "\\begin{equation}\n",
        "K(m)=\\int_{0}^{\\pi/2} \\frac{\\mathrm{d\\phi}}{\\sqrt{1-m\\sin^2\\phi}}\n",
        "\\end{equation}\n",
        "\n",
        "\\begin{equation}\n",
        "\\approx a_0+a_1m_1+a_2m_2 - [ b_0+b_1m_1+b_2m_1^2]\\ln m_1 + \\epsilon(m)\n",
        "\\end{equation}\n",
        "\n",
        "\n",
        "* $m_1 = 1-m$,\n",
        "\n",
        "* $ 0 \\le m \\le1 $\n",
        "\n",
        "* $\\epsilon(m)\\leq 3\\times 10^{-5}$\n",
        "\n",
        "* $a_0 = 1.3862944$\n",
        "\n",
        "* $b_0 = 0.5$\n",
        "\n",
        "* $a_1 = 0.1119723$\n",
        "\n",
        "* $b_1 = 0.1213478$\n",
        "\n",
        "* $a_2 = 0.00725296$\n",
        "\n",
        "* $b_2 = 0.0288729$"
      ]
    },
    {
      "cell_type": "code",
      "source": [
        "m = 0.5\n",
        "m_1 = 1-m\n",
        "epsilon_m = 3*(10**-3) # coloco 10**-3 por que epsilon(m) es <= 3*10**-5.\n",
        "a_0 = 1.3862944\n",
        "b_0 = 0.5\n",
        "a_1 = 0.1119723\n",
        "b_1 = 0.1213478\n",
        "a_2 = 0.00725296\n",
        "b_2 = 0.0288729"
      ],
      "metadata": {
        "id": "9HxZ5ukvftF-"
      },
      "execution_count": null,
      "outputs": []
    },
    {
      "cell_type": "code",
      "source": [
        "ter1 = a_0 + a_1*m_1 + a_2*m_1\n",
        "ter2 = (b_0 + b_1*m_1 + b_2*m_1**2) * np.log(m_1)\n",
        "k = ter1-ter2 + epsilon_m\n",
        "k"
      ],
      "metadata": {
        "colab": {
          "base_uri": "https://localhost:8080/"
        },
        "id": "QJW5kPJ_7sEM",
        "outputId": "e8feafa4-c0de-4504-9bc0-f7382a2dfea8"
      },
      "execution_count": null,
      "outputs": [
        {
          "output_type": "execute_result",
          "data": {
            "text/plain": [
              "1.842539855305946"
            ]
          },
          "metadata": {},
          "execution_count": 201
        }
      ]
    },
    {
      "cell_type": "code",
      "source": [
        "def k_integrando(m):\n",
        "  k = lambda phi,m: 1 / np.sqrt(1 - m * np.sin(phi)**2)\n",
        "  resultado, error = quad(k,0,np.pi/2,args=(m,))\n",
        "  return resultado"
      ],
      "metadata": {
        "id": "ja9aIiuczzi1"
      },
      "execution_count": null,
      "outputs": []
    },
    {
      "cell_type": "code",
      "source": [
        "k_integrando(m)"
      ],
      "metadata": {
        "colab": {
          "base_uri": "https://localhost:8080/"
        },
        "id": "UZHPdGQh05pG",
        "outputId": "7b77dca9-1821-40e8-f5be-c04b90268f72"
      },
      "execution_count": null,
      "outputs": [
        {
          "output_type": "execute_result",
          "data": {
            "text/plain": [
              "1.854074677301372"
            ]
          },
          "metadata": {},
          "execution_count": 204
        }
      ]
    },
    {
      "cell_type": "markdown",
      "source": [
        "si quiero econtrar $\\epsilon(m)\\leq 3\\times 10^{-5}$"
      ],
      "metadata": {
        "id": "yCzPUyEX9f-E"
      }
    },
    {
      "cell_type": "code",
      "source": [
        "k_ = np.linspace(3*(10**-1.5),3*(10**-3))\n",
        "t = np.array([])\n",
        "for i in k_:\n",
        "  r =  ter1-ter2 + i\n",
        "  t = np.append(t,r)\n",
        "t"
      ],
      "metadata": {
        "colab": {
          "base_uri": "https://localhost:8080/"
        },
        "id": "P1wtZOjM9c0k",
        "outputId": "d44cd576-305b-4fe5-ae43-afa9aa84c592"
      },
      "execution_count": null,
      "outputs": [
        {
          "output_type": "execute_result",
          "data": {
            "text/plain": [
              "array([1.93440819, 1.93253332, 1.93065846, 1.92878359, 1.92690873,\n",
              "       1.92503387, 1.923159  , 1.92128414, 1.91940927, 1.91753441,\n",
              "       1.91565955, 1.91378468, 1.91190982, 1.91003495, 1.90816009,\n",
              "       1.90628523, 1.90441036, 1.9025355 , 1.90066064, 1.89878577,\n",
              "       1.89691091, 1.89503604, 1.89316118, 1.89128632, 1.88941145,\n",
              "       1.88753659, 1.88566172, 1.88378686, 1.881912  , 1.88003713,\n",
              "       1.87816227, 1.87628741, 1.87441254, 1.87253768, 1.87066281,\n",
              "       1.86878795, 1.86691309, 1.86503822, 1.86316336, 1.86128849,\n",
              "       1.85941363, 1.85753877, 1.8556639 , 1.85378904, 1.85191417,\n",
              "       1.85003931, 1.84816445, 1.84628958, 1.84441472, 1.84253986])"
            ]
          },
          "metadata": {},
          "execution_count": 213
        }
      ]
    },
    {
      "cell_type": "code",
      "source": [
        "epsilon_m = k_[-7]\n",
        "ter1 = a_0 + a_1*m_1 + a_2*m_1\n",
        "ter2 = (b_0 + b_1*m_1 + b_2*m_1**2) * np.log(m_1)\n",
        "k = ter1-ter2 + epsilon_m\n",
        "k"
      ],
      "metadata": {
        "colab": {
          "base_uri": "https://localhost:8080/"
        },
        "id": "rC32zJTY_1ur",
        "outputId": "c91dea72-857a-438c-e499-c1150f419315"
      },
      "execution_count": null,
      "outputs": [
        {
          "output_type": "execute_result",
          "data": {
            "text/plain": [
              "1.853789038547381"
            ]
          },
          "metadata": {},
          "execution_count": 214
        }
      ]
    },
    {
      "cell_type": "markdown",
      "metadata": {
        "id": "xDFUsTNRvzOV"
      },
      "source": [
        "# Parte 5 (Opcional)\n",
        "\n",
        "Figure 5.7 shows a current loop of radius a carrying a current I. The point P\n",
        "is a distance r from the center of the loop with spherical coordinates (r, θ, φ).\n",
        "Jackson (1988) solves for the φ component of the vector potential at point P\n",
        "in terms of elliptic integrals:\n",
        "\n",
        "\\begin{equation}\n",
        "A_{\\phi}(r, \\theta)=\\frac{\\mu_0}{4\\pi}\\frac{4Ia}{\\sqrt{a^2+r^2+2ar\\sin \\theta}}\\left(\\frac{(2-k^2)K(k)-2E(k)}{k^2} \\right)\n",
        "\\end{equation}\n",
        "\n",
        "\n",
        "where\n",
        "\n",
        "\\begin{equation}\n",
        "K(k)=\\int_{0}^{\\pi/2} \\frac{\\mathrm{d\\phi}}{\\sqrt{1-k^2\\sin^2\\phi}}\n",
        "\\end{equation}\n",
        "\n",
        "\n",
        "\\begin{equation}\n",
        "E(k)=\\int_{0}^{\\pi/2} \\mathrm{d\\phi} \\sqrt{1-k^2\\sin^2\\phi}\n",
        "\\end{equation}\n",
        "\n",
        "\n",
        "\\begin{equation}\n",
        "k^2=\\frac{4ar\\sin\\theta}{a^2+r^2+2ar\\sin\\theta}\n",
        "\\end{equation}\n",
        "\n",
        "\n",
        "\n",
        "Here K(k) is a complete elliptic integral of the first kind and E(k) is a complete\n",
        "elliptic integral of the second kind. For a = 1, I = 3, and μ0∕4π = 1, compute\n",
        "and plot\n",
        "\n",
        "a) Aφ(r = 1.1, θ) vs. θ\n",
        "\n",
        "b) Aφ(r, θ = π∕3) vs. r\n"
      ]
    },
    {
      "cell_type": "code",
      "execution_count": null,
      "metadata": {
        "id": "Ny-ACuTtur-3"
      },
      "outputs": [],
      "source": [
        "def A_(r,theta,I,a):\n",
        "  n = 4*I*a\n",
        "  d = np.sqrt(a**2+r**2+(2*a*r*np.sin(theta)))\n",
        "  p1 = n/d\n",
        "  k_2 = calculate_k_cuadrado(r,theta,a )\n",
        "  k = np.sqrt(k_2)\n",
        "  p2 = (((2-k_2)* integrate_K(k)) - 2*integrate_E(k))/k_2\n",
        "  return p1*p2"
      ]
    },
    {
      "cell_type": "code",
      "source": [
        "@np.vectorize\n",
        "def integrate_K(k):\n",
        "  f = lambda phi,k: 1/np.sqrt(1-k**2*(np.sin(phi)**2))\n",
        "  K, _ = quad(f, 0, np.pi/2,args=(k,))\n",
        "  return K"
      ],
      "metadata": {
        "id": "lwMWIS0LKPMS"
      },
      "execution_count": null,
      "outputs": []
    },
    {
      "cell_type": "code",
      "source": [
        "@np.vectorize\n",
        "def integrate_E(k):\n",
        "  g = lambda phi,k: np.sqrt(1-k**2*(np.sin(phi))**2 )\n",
        "  E, _ = quad(g, 0, np.pi/2,args=(k,))\n",
        "  return E"
      ],
      "metadata": {
        "id": "NIUOgJSLGFk7"
      },
      "execution_count": null,
      "outputs": []
    },
    {
      "cell_type": "code",
      "source": [
        "def calculate_k_cuadrado(r,theta,a):\n",
        "  n = 4*a*r*np.sin(theta)\n",
        "  d = a**2+r**2+(2*a*r*np.sin(theta))\n",
        "  k = n/d\n",
        "  return k"
      ],
      "metadata": {
        "id": "iJFUtGYOGLn8"
      },
      "execution_count": null,
      "outputs": []
    },
    {
      "cell_type": "code",
      "source": [
        "a = 1\n",
        "I = 3\n",
        "r = np.linspace(0.1,5)\n",
        "theta = np.pi/4"
      ],
      "metadata": {
        "id": "vQe-kBxHGSkc"
      },
      "execution_count": null,
      "outputs": []
    },
    {
      "cell_type": "code",
      "source": [
        "A = A_(r,theta,I,a)"
      ],
      "metadata": {
        "id": "ycOApI90RxJj"
      },
      "execution_count": null,
      "outputs": []
    },
    {
      "cell_type": "code",
      "source": [
        "plt.plot(r,A)\n",
        "plt.xlabel(\"r\")\n",
        "plt.ylabel(\"A(r, θ)\")\n",
        "plt.show()"
      ],
      "metadata": {
        "colab": {
          "base_uri": "https://localhost:8080/",
          "height": 451
        },
        "id": "B2M3S-fsHKBw",
        "outputId": "a7345c58-9609-433e-fb66-cd380b5b108c"
      },
      "execution_count": null,
      "outputs": [
        {
          "output_type": "display_data",
          "data": {
            "text/plain": [
              "<Figure size 640x480 with 1 Axes>"
            ],
            "image/png": "[encoded data removed]"
          },
          "metadata": {}
        }
      ]
    }
  ],
  "metadata": {
    "colab": {
      "provenance": []
    },
    "kernelspec": {
      "display_name": "Python 3 (ipykernel)",
      "language": "python",
      "name": "python3"
    },
    "language_info": {
      "codemirror_mode": {
        "name": "ipython",
        "version": 3
      },
      "file_extension": ".py",
      "mimetype": "text/x-python",
      "name": "python",
      "nbconvert_exporter": "python",
      "pygments_lexer": "ipython3",
      "version": "3.10.9"
    }
  },
  "nbformat": 4,
  "nbformat_minor": 0
}