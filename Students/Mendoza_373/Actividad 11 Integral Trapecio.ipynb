{
 "cells": [
  {
   "cell_type": "code",
   "execution_count": 58,
   "metadata": {
    "executionInfo": {
     "elapsed": 4,
     "status": "ok",
     "timestamp": 1696942457535,
     "user": {
      "displayName": "BERNARDO ALEJANDRO MENDOZA MONTES",
      "userId": "06337125590248933261"
     },
     "user_tz": 300
    },
    "id": "OQ_CkcJPhvA9"
   },
   "outputs": [],
   "source": [
    "import numpy as np\n",
    "import matplotlib.pyplot as plt\n",
    "import scipy as sc\n",
    "import sympy as sp"
   ]
  },
  {
   "cell_type": "code",
   "execution_count": 111,
   "metadata": {
    "executionInfo": {
     "elapsed": 8,
     "status": "ok",
     "timestamp": 1696943853627,
     "user": {
      "displayName": "BERNARDO ALEJANDRO MENDOZA MONTES",
      "userId": "06337125590248933261"
     },
     "user_tz": 300
    },
    "id": "F_ZdnJjHiJ24"
   },
   "outputs": [],
   "source": [
    "f = lambda x: np.sin(x)*(((x-1)**(2))/3) + 1\n",
    "x1 = np.linspace(0,2)\n",
    "y1 = f(x1)"
   ]
  },
  {
   "cell_type": "code",
   "execution_count": 87,
   "metadata": {
    "colab": {
     "base_uri": "https://localhost:8080/",
     "height": 56
    },
    "executionInfo": {
     "elapsed": 326,
     "status": "ok",
     "timestamp": 1696942968986,
     "user": {
      "displayName": "BERNARDO ALEJANDRO MENDOZA MONTES",
      "userId": "06337125590248933261"
     },
     "user_tz": 300
    },
    "id": "9ji5sE6njV6x",
    "outputId": "a3749374-b1ea-4df6-8513-81908034e2e3"
   },
   "outputs": [
    {
     "data": {
      "text/latex": [
       "$\\displaystyle - \\frac{\\left(x - 1\\right)^{2} \\sin{\\left(x \\right)}}{3} + \\frac{2 \\cdot \\left(2 x - 2\\right) \\cos{\\left(x \\right)}}{3} + \\frac{2 \\sin{\\left(x \\right)}}{3}$"
      ],
      "text/plain": [
       "-(x - 1)**2*sin(x)/3 + 2*(2*x - 2)*cos(x)/3 + 2*sin(x)/3"
      ]
     },
     "execution_count": 87,
     "metadata": {},
     "output_type": "execute_result"
    }
   ],
   "source": [
    "x = sp.symbols(\"x\")\n",
    "f = sp.sin(x)*((x-1)**2)/3 +1\n",
    "fp = sp.diff(f,x)\n",
    "f2p = sp.diff(fp,x)\n",
    "f2p"
   ]
  },
  {
   "cell_type": "code",
   "execution_count": 108,
   "metadata": {
    "colab": {
     "base_uri": "https://localhost:8080/"
    },
    "executionInfo": {
     "elapsed": 8,
     "status": "ok",
     "timestamp": 1696943748853,
     "user": {
      "displayName": "BERNARDO ALEJANDRO MENDOZA MONTES",
      "userId": "06337125590248933261"
     },
     "user_tz": 300
    },
    "id": "Ns1DM2rUlJwJ",
    "outputId": "18bf260e-8868-41e1-a666-27aefc3b3fd9"
   },
   "outputs": [
    {
     "data": {
      "text/plain": [
       "0.7200759351561077"
      ]
     },
     "execution_count": 108,
     "metadata": {},
     "output_type": "execute_result"
    }
   ],
   "source": [
    "fd2 = lambda x:((-((x-1)**2))*np.sin(x)/3) + (2*(2*x-2)*np.cos(x)/3) + (2*np.sin(x)/3)\n",
    "\n",
    "x2 = np.linspace(0,2)\n",
    "y2 = fd2(x2)\n",
    "max = y.max()\n",
    "max"
   ]
  },
  {
   "cell_type": "code",
   "execution_count": 122,
   "metadata": {
    "colab": {
     "base_uri": "https://localhost:8080/",
     "height": 430
    },
    "executionInfo": {
     "elapsed": 388,
     "status": "ok",
     "timestamp": 1696944461996,
     "user": {
      "displayName": "BERNARDO ALEJANDRO MENDOZA MONTES",
      "userId": "06337125590248933261"
     },
     "user_tz": 300
    },
    "id": "IGpWt6T0t41Z",
    "outputId": "c7b05b28-2e95-47ae-9775-81aad1133474"
   },
   "outputs": [
    {
     "data": {
      "image/png": "[encoded data removed]",
      "text/plain": [
       "<Figure size 640x480 with 1 Axes>"
      ]
     },
     "metadata": {},
     "output_type": "display_data"
    }
   ],
   "source": [
    "plt.plot(x1,y1)\n",
    "plt.plot(x2,y2)\n",
    "plt.grid()\n",
    "plt.show()"
   ]
  },
  {
   "cell_type": "code",
   "execution_count": 120,
   "metadata": {
    "colab": {
     "base_uri": "https://localhost:8080/"
    },
    "executionInfo": {
     "elapsed": 406,
     "status": "ok",
     "timestamp": 1696944318642,
     "user": {
      "displayName": "BERNARDO ALEJANDRO MENDOZA MONTES",
      "userId": "06337125590248933261"
     },
     "user_tz": 300
    },
    "id": "ENvbkYE-spVh",
    "outputId": "a7cfeafd-7ce9-4f4f-97c8-36e9cad38431"
   },
   "outputs": [
    {
     "data": {
      "text/plain": [
       "21.910057586355293"
      ]
     },
     "execution_count": 120,
     "metadata": {},
     "output_type": "execute_result"
    }
   ],
   "source": [
    "n = np.sqrt(((2-0)**3)*(max)/(12e-3))\n",
    "n"
   ]
  },
  {
   "cell_type": "code",
   "execution_count": 124,
   "metadata": {
    "executionInfo": {
     "elapsed": 375,
     "status": "ok",
     "timestamp": 1696944597359,
     "user": {
      "displayName": "BERNARDO ALEJANDRO MENDOZA MONTES",
      "userId": "06337125590248933261"
     },
     "user_tz": 300
    },
    "id": "EwXlecWAxoTJ"
   },
   "outputs": [],
   "source": [
    "def trapezoid(f,a,b,n):\n",
    "\n",
    "  x = np.linspace(a,b,n)\n",
    "  s = (x[1:len(x)] - x[0:len(x)-1] * (f(x[0:len(x)-1])) + f(x[1:len(x)]))/2\n",
    "  e ="
   ]
  }
 ],
 "metadata": {
  "colab": {
   "authorship_tag": "ABX9TyO2YxP4ap0gS1H7RaGKT8Ym",
   "provenance": []
  },
  "kernelspec": {
   "display_name": "Python 3 (ipykernel)",
   "language": "python",
   "name": "python3"
  },
  "language_info": {
   "codemirror_mode": {
    "name": "ipython",
    "version": 3
   },
   "file_extension": ".py",
   "mimetype": "text/x-python",
   "name": "python",
   "nbconvert_exporter": "python",
   "pygments_lexer": "ipython3",
   "version": "3.10.9"
  }
 },
 "nbformat": 4,
 "nbformat_minor": 1
}
