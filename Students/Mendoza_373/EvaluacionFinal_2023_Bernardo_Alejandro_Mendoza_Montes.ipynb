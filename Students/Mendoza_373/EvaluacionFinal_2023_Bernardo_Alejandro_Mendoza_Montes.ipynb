{
  "cells": [
    {
      "cell_type": "markdown",
      "metadata": {
        "id": "-2A2h8KfIxU1"
      },
      "source": [
        "<a href=\"https://colab.research.google.com/github/hernansalinas/autogrades/blob/main/Evaluaciones/EvaluacionFinal_2023_I.ipynb\" target=\"_parent\"><img src=\"https://colab.research.google.com/assets/colab-badge.svg\" alt=\"Open In Colab\"/></a>"
      ]
    },
    {
      "cell_type": "markdown",
      "metadata": {
        "id": "ZJKDD4sdpzP7"
      },
      "source": [
        "Examen Final:\n",
        "\n",
        "Métodos Computacionales para físicos\n",
        "\n",
        "\n",
        "\n",
        "Nota: La entrega del examen es a través del github en la página del curso, en el directorio asociado a cada uno.\n",
        "\n",
        "\n",
        "\n",
        "\n",
        "Las aletas son sólidos que transfieren calor por conducción a lo largo de su geometría y por convección a través de su entorno. La ecuación diferencial que describe la temperatura como función de  la longitud de una  aleta viene dada por :\n",
        "\n",
        "\n",
        "\\begin{equation}\n",
        "\\frac{d^2(T-T_{\\infty})}{dx^2} - \\left( \\frac{hp}{kAc} \\right ) ^2 (T-T_{\\infty})=0\n",
        "\\end{equation}\n",
        "\n",
        "donde Ac es el  área de la sección transversal Ac, p es perímetro,\n",
        "k es el coficiente de conducción que depende de cada material y h el coficiente de convección. La temperatura  $T_{\\infty}$ es la temperatura ambiente.\n",
        "\n",
        "\n",
        "![aleta](https://github.com/hernansalinas/autogradesMetodosComputacionales/blob/main/Evaluaciones/img/aleta.png?raw=true)\n",
        "\n",
        "\n",
        "\n",
        "En general, el área de la sección transversal A y el perímetro p de una aleta\n",
        "varían con x, lo cual hace que esta ecuación diferencial sea difícil de resolver. En el caso especial de una sección transversal constante y conductividad térmica constante, la ecuación diferencial se reduce a\n",
        "\n",
        "\\begin{equation}\n",
        "\\frac{d^2 \\theta}{dx^2} - a ^2 \\theta=0\n",
        "\\end{equation}\n",
        "\n",
        "\n",
        "donde  $\\theta=T-T_{\\infty}$ y $a=\\frac{hp}{kAc}$\n",
        "\n",
        "\n",
        "Para una aleta suficientemente larga de sección transversal uniforme (Ac =\n",
        "constante), la temperatura en la base de la aleta viene dada por:\n",
        "\n",
        "\n",
        "\\begin{equation}\n",
        "\\theta(0)=\\theta_b=T_b-T_{\\infty}\n",
        "\\end{equation}\n",
        "\n",
        "\n",
        " y en la punta de la aleta, tenderá a la del medio, por consiguiente $\\theta$ tenderá a cero.\n",
        "\n",
        "\\begin{equation}\n",
        "\\theta(L)=T(L)-T_{\\infty}=0\n",
        "\\end{equation}\n",
        "\n",
        "La solucion  exacta viene dada por :\n",
        "\n",
        "\\begin{equation}\n",
        "T(x)=T_{\\infty}+(T_b-T_{\\infty})e^{-x\\sqrt{hp/kAc}}\n",
        "\\end{equation}\n",
        "\n",
        "\n",
        "\n",
        "Considerando  una aleta rectangular muy larga, fijada a una\n",
        "superficie plana de tal forma que la temperatura en el extremo\n",
        "de la aleta es prácticamente la del aire circundante, es decir,\n",
        "$T_{\\infty}=300K$. Asuma que el ancho es de 5.0 cm, el espesor de 1 mm, es decir, su area $A=5\\times 10^{-5}m^2$ y su perimetro de $p=0.102m$. La  conductividad térmica es $k=200 W/m K$, la temperatura en la base de $T_b=313K$ y el coeficiente de transferencia de calor es de $h=20 W/m^2K$. Calcule:\n",
        "\n",
        "\n",
        "\n",
        "1 (30%) La solución numérica de la ecuación diferencial.\n",
        "\n",
        "2 (20%) Construya un gráfico de  la temperatura de la aleta como función de la longitud de la aleta\n",
        "\n",
        "3 (25%) Compare la solución numérica con la analítica\n",
        "\n",
        "4 (25%) Empleando el método de newton detetermine el punto de la aleta para la cual la temperatura es de 305K\n",
        "\n",
        "\n",
        "\n",
        "\n",
        "\n",
        "Referencias: Ejercicio e imagenes tomado y adaptado de:\n",
        "\n",
        "Cengel, Y. A. (2016). “Transferencia de calor y masa” McGRAW-HILL/INTERAMERICANA EDITORES, S.A. DE C.V. 3ra. Edición\n",
        "\n"
      ]
    },
    {
      "cell_type": "code",
      "execution_count": 2,
      "metadata": {
        "id": "AkOvTEXo1X8i"
      },
      "outputs": [],
      "source": [
        "import numpy as np\n",
        "import matplotlib.pyplot as plt\n",
        "import scipy as sc\n",
        "import sympy as sp"
      ]
    },
    {
      "cell_type": "markdown",
      "source": [
        "#1: Solución númerica de a EDO por medios numericos (RK4)\n",
        "\n",
        "Al tener una EDO de orden 2, replazamos $\\frac{dθ}{dx} = u$. Asi tenemos:\n",
        "\n",
        "\\begin{equation}\n",
        "\\frac{\\mathrm{d}u}{\\mathrm{d}x}= a²θ\n",
        "\\end{equation}\n",
        "\n",
        "\\begin{equation}\n",
        "\\frac{\\mathrm{d}θ}{\\mathrm{d}x}= u\n",
        "\\end{equation}"
      ],
      "metadata": {
        "id": "Rvi4K5UMKBjr"
      }
    },
    {
      "cell_type": "code",
      "source": [
        "def edo_rk4(y0,t0,tf,n,f):\n",
        "\n",
        "  h = (xf-x0)/n\n",
        "  t = np.linspace(t0,tf,n)\n",
        "  y = np.zeros(len(t))\n",
        "\n",
        "  for i in range(0,len(t)):\n",
        "\n",
        "   k1 = f(t[i],y0)\n",
        "   k2 = f(t[i] + 0.5*h, y0 + 0.5*k1*h)\n",
        "   k3 = f(t[i] + 0.5*h, y0 + 0.5*k2*h)\n",
        "   k4 = f(t[i] + h, y0 + k3*h)\n",
        "\n",
        "   y1 = y0 + (1/6)*h*(k1 + 2*k2 + 2*k3 + k4)\n",
        "\n",
        "   y[i] = y1\n",
        "\n",
        "   y0 = y1\n",
        "\n",
        "  graf = np.array([t,y])\n",
        "  return graf"
      ],
      "metadata": {
        "id": "JTeHnKYyWi-C"
      },
      "execution_count": 23,
      "outputs": []
    },
    {
      "cell_type": "code",
      "source": [
        "# Parametros del Problema\n",
        "\n",
        "Ac = 5e10-5\n",
        "p = 0.102\n",
        "k = 200\n",
        "h = 20\n",
        "a = (h*p)/(Ac*k)\n",
        "ap = 2 # parametro a de prueva\n",
        "\n",
        "ta = 300\n",
        "\n",
        "# Limites del problema\n",
        "\n",
        "x0 = 2\n",
        "xf = 10\n",
        "t0 = 313\n",
        "n = 10000\n",
        "H = (xf-x0)/n\n",
        "\n",
        "d_u = lambda theta,u: (ap**2)*theta\n",
        "\n",
        "# Método RK4 para encontrar U(x)\n",
        "\n",
        "Xn = edo_rk4(t0,x0,xf,n,d_u)[0]\n",
        "Un = edo_rk4(t0,x0,xf,n,d_u)[1]\n",
        "\n",
        "U = sc.interpolate.CubicSpline(Xn, Un,)\n",
        "\n",
        "# Método RK4 para encontrar theta(x)\n",
        "\n",
        "d_theta = U\n",
        "\n",
        "theta_n = edo_rk4(t0,x0,xf,n,d_theta)[1]\n",
        "\n",
        "plt.plot(Xn, theta_n, label = \"theta(x)\")\n",
        "plt.plot(Xn,U(Xn), label = \"U(x)\")\n",
        "plt.legend()\n",
        "plt.grid()\n",
        "plt.show()"
      ],
      "metadata": {
        "colab": {
          "base_uri": "https://localhost:8080/",
          "height": 430
        },
        "id": "4PX86vdgKUBU",
        "outputId": "64d52a65-b0e6-4779-be72-0588d83f11a3"
      },
      "execution_count": 93,
      "outputs": [
        {
          "output_type": "display_data",
          "data": {
            "text/plain": [
              "<Figure size 640x480 with 1 Axes>"
            ],
            "image/png": "[encoded data removed]"
          },
          "metadata": {}
        }
      ]
    },
    {
      "cell_type": "markdown",
      "source": [
        "# 3: Solución exacta de la EDO\n",
        "# 4: X para el cual T(x) = 305 K"
      ],
      "metadata": {
        "id": "-QB3sQcnQGNR"
      }
    },
    {
      "cell_type": "code",
      "source": [
        "# Parametros del Problema\n",
        "\n",
        "Ac = 5e10-5\n",
        "p = 0.102\n",
        "k = 200\n",
        "h = 20\n",
        "a = (h*p)/(Ac*k)\n",
        "ta = 300\n",
        "\n",
        "# Limites del problema\n",
        "\n",
        "x0 = 2\n",
        "xf = 5e7\n",
        "t0 = 313\n",
        "n = 1000\n",
        "H = (xf-x0)/n\n",
        "\n",
        "T = lambda x: ta + (t0 - ta)*np.exp(-x*np.sqrt(a))\n",
        "\n",
        "\n",
        "Xt = np.linspace(x0,xf,n)\n",
        "Yt = T(Xt)\n",
        "\n",
        "T_305 = lambda x: ta + (t0 - ta)*np.exp(-x*np.sqrt(a)) - 305\n",
        "dT_305 = lambda x: -np.sqrt(a)*(t0-ta)*np.exp(-x*np.sqrt(a))\n",
        "\n",
        "\n",
        "x_305 = sc.optimize.newton(T_305,1,dT_305)\n",
        "x_305\n",
        "\n",
        "plt.plot(Xt,Yt)\n",
        "plt.scatter(x_305,T(x_305))\n",
        "plt.grid()\n",
        "plt.show()\n"
      ],
      "metadata": {
        "colab": {
          "base_uri": "https://localhost:8080/",
          "height": 448
        },
        "id": "7D-FOAY1QF08",
        "outputId": "28d8b349-1782-43e2-b3f5-6994e1d2f1ea"
      },
      "execution_count": 90,
      "outputs": [
        {
          "output_type": "display_data",
          "data": {
            "text/plain": [
              "<Figure size 640x480 with 1 Axes>"
            ],
            "image/png": "[encoded data removed]"
          },
          "metadata": {}
        }
      ]
    }
  ],
  "metadata": {
    "colab": {
      "provenance": []
    },
    "kernelspec": {
      "display_name": "Python 3 (ipykernel)",
      "language": "python",
      "name": "python3"
    },
    "language_info": {
      "codemirror_mode": {
        "name": "ipython",
        "version": 3
      },
      "file_extension": ".py",
      "mimetype": "text/x-python",
      "name": "python",
      "nbconvert_exporter": "python",
      "pygments_lexer": "ipython3",
      "version": "3.10.9"
    }
  },
  "nbformat": 4,
  "nbformat_minor": 0
}