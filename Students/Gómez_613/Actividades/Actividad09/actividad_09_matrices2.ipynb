{
  "cells": [
    {
      "cell_type": "code",
      "execution_count": 1,
      "metadata": {
        "id": "LGEtqLJlw2eb",
        "metadata": {}
      },
      "outputs": [],
      "source": [
        "import numpy as np\n",
        "import pandas as pd\n",
        "import sympy as sy\n",
        "import matplotlib.pyplot as plt"
      ]
    },
    {
      "cell_type": "markdown",
      "metadata": {
        "id": "wtJNu-2mLSsV"
      },
      "source": [
        "# Arreglos de numpy"
      ]
    },
    {
      "cell_type": "code",
      "execution_count": 2,
      "metadata": {
        "colab": {
          "base_uri": "https://localhost:8080/"
        },
        "id": "97ecIcqMhbru",
        "metadata": {},
        "outputId": "afb79b9a-31db-47ad-e81a-0c6a6fb50d69"
      },
      "outputs": [
        {
          "data": {
            "text/plain": [
              "array([[80, 79, 68, 84, 60, 73],\n",
              "       [77, 58, 37, 64, 83, 56],\n",
              "       [19, 20, 70, 24, 92, 28],\n",
              "       [85, 33, 27, 42, 93, 10],\n",
              "       [12, 18, 94, 36, 90, 19],\n",
              "       [96, 54, 63, 77, 58, 86]])"
            ]
          },
          "execution_count": 2,
          "metadata": {},
          "output_type": "execute_result"
        }
      ],
      "source": [
        "# Generemos una arreglos ndimensionales, ¿como podemos acceder a los elementos?\n",
        "X = np.random.randint(0,100,(6,6))\n",
        "X"
      ]
    },
    {
      "cell_type": "code",
      "execution_count": 3,
      "metadata": {
        "colab": {
          "base_uri": "https://localhost:8080/"
        },
        "id": "UPZ4HVeSiAa_",
        "metadata": {},
        "outputId": "5e1a08c7-734d-40ad-8208-eea2b923d2d8"
      },
      "outputs": [
        {
          "data": {
            "text/plain": [
              "(array([[93, 10],\n",
              "        [90, 19],\n",
              "        [58, 86]]),\n",
              " array([[79, 84, 73],\n",
              "        [20, 24, 28],\n",
              "        [18, 36, 19]]),\n",
              " array([[85, 27],\n",
              "        [96, 63]]))"
            ]
          },
          "execution_count": 3,
          "metadata": {},
          "output_type": "execute_result"
        }
      ],
      "source": [
        "X[3::1,4::1],X[:5:2,1::2],X[3::2,:3:2]"
      ]
    },
    {
      "cell_type": "code",
      "execution_count": 4,
      "metadata": {
        "metadata": {}
      },
      "outputs": [
        {
          "data": {
            "text/plain": [
              "array([[28643, 20056, 25630, 24717, 35059, 20426],\n",
              "       [23141, 16817, 23030, 21056, 29508, 16938],\n",
              "       [10222,  8021, 17992, 11032, 21376,  8863],\n",
              "       [15500, 12769, 19397, 15782, 23179, 11856],\n",
              "       [10096,  7706, 18691, 10631, 23412,  8220],\n",
              "       [28532, 20205, 25885, 24976, 33407, 21064]])"
            ]
          },
          "execution_count": 4,
          "metadata": {},
          "output_type": "execute_result"
        }
      ],
      "source": [
        "X@X"
      ]
    },
    {
      "cell_type": "code",
      "execution_count": 5,
      "metadata": {
        "metadata": {}
      },
      "outputs": [
        {
          "data": {
            "text/plain": [
              "array([[ 0.01095501, -0.03766978,  0.01715643,  0.02153726, -0.01977282,\n",
              "         0.0115084 ],\n",
              "       [ 0.04800487, -0.0308941 ,  0.04153669,  0.00916245, -0.03817779,\n",
              "        -0.02678558],\n",
              "       [ 0.02036941, -0.04221992,  0.017723  ,  0.01077278, -0.00692698,\n",
              "         0.00470918],\n",
              "       [-0.03860838,  0.07080513, -0.0874394 , -0.02050053,  0.06963111,\n",
              "         0.00213537],\n",
              "       [-0.01410347,  0.02431999,  0.00190359, -0.00428444,  0.00365581,\n",
              "        -0.00479398],\n",
              "       [-0.01321361,  0.01258001,  0.01878928, -0.01644182, -0.01369118,\n",
              "         0.01347167]])"
            ]
          },
          "execution_count": 5,
          "metadata": {},
          "output_type": "execute_result"
        }
      ],
      "source": [
        "np.linalg.inv(X)"
      ]
    },
    {
      "cell_type": "code",
      "execution_count": 6,
      "metadata": {
        "id": "hC_QTDyyM0T3",
        "metadata": {}
      },
      "outputs": [
        {
          "data": {
            "text/plain": [
              "array([[80, 79, 68, 84, 60, 73],\n",
              "       [77, 58, 37, 64, 83, 56],\n",
              "       [19, 20, 70, 24, 92, 28],\n",
              "       [85, 33, 27, 42, 93, 10],\n",
              "       [12, 18, 94, 36, 90, 19],\n",
              "       [96, 54, 63, 77, 58, 86]])"
            ]
          },
          "execution_count": 6,
          "metadata": {},
          "output_type": "execute_result"
        }
      ],
      "source": [
        "# Permutaciones:\n",
        "X"
      ]
    },
    {
      "cell_type": "code",
      "execution_count": 7,
      "metadata": {
        "id": "m-oTG0W7M4Ku",
        "metadata": {}
      },
      "outputs": [
        {
          "data": {
            "text/plain": [
              "array([[80, 79, 68, 84, 60, 73],\n",
              "       [19, 20, 70, 24, 92, 28],\n",
              "       [77, 58, 37, 64, 83, 56],\n",
              "       [85, 33, 27, 42, 93, 10],\n",
              "       [12, 18, 94, 36, 90, 19],\n",
              "       [96, 54, 63, 77, 58, 86]])"
            ]
          },
          "execution_count": 7,
          "metadata": {},
          "output_type": "execute_result"
        }
      ],
      "source": [
        "X[[2,1]] =X[[1,2]]\n",
        "X"
      ]
    },
    {
      "cell_type": "code",
      "execution_count": 8,
      "metadata": {
        "colab": {
          "base_uri": "https://localhost:8080/"
        },
        "id": "U8snX3DpLXtp",
        "metadata": {},
        "outputId": "6391f78d-5dca-425f-f8da-2cca6e106e0d"
      },
      "outputs": [
        {
          "data": {
            "text/plain": [
              "array([[-2. ,  1. ],\n",
              "       [ 1.5, -0.5]])"
            ]
          },
          "execution_count": 8,
          "metadata": {},
          "output_type": "execute_result"
        }
      ],
      "source": [
        "# Operaciones matriciales\n",
        "X=np.array([[1,2],[3,4]])\n",
        "B=np.array([[5,2],[1,4]])\n",
        "np.linalg.inv(X)"
      ]
    },
    {
      "cell_type": "code",
      "execution_count": 9,
      "metadata": {
        "colab": {
          "base_uri": "https://localhost:8080/"
        },
        "id": "XwCim3VlLfKU",
        "metadata": {},
        "outputId": "8c1604b6-4e32-4817-9699-87ade07efc00"
      },
      "outputs": [
        {
          "data": {
            "text/plain": [
              "-2.0000000000000004"
            ]
          },
          "execution_count": 9,
          "metadata": {},
          "output_type": "execute_result"
        }
      ],
      "source": [
        "np.linalg.det(X)"
      ]
    },
    {
      "cell_type": "code",
      "execution_count": 10,
      "metadata": {
        "colab": {
          "base_uri": "https://localhost:8080/"
        },
        "id": "JyXfDy4TL46a",
        "metadata": {},
        "outputId": "8a4849b7-e0ae-49eb-d171-12ce6f0076b4"
      },
      "outputs": [
        {
          "data": {
            "text/plain": [
              "(-13+0j)"
            ]
          },
          "execution_count": 10,
          "metadata": {},
          "output_type": "execute_result"
        }
      ],
      "source": [
        "np.dot([2j, 3j], [2j, 3j])"
      ]
    },
    {
      "cell_type": "code",
      "execution_count": 11,
      "metadata": {
        "colab": {
          "base_uri": "https://localhost:8080/"
        },
        "id": "WPC3XJLjMTvU",
        "metadata": {},
        "outputId": "c26f1f88-c0e6-4642-f689-2e924570b418"
      },
      "outputs": [
        {
          "data": {
            "text/plain": [
              "array([[ 5,  4],\n",
              "       [ 3, 16]])"
            ]
          },
          "execution_count": 11,
          "metadata": {},
          "output_type": "execute_result"
        }
      ],
      "source": [
        "X*B"
      ]
    },
    {
      "cell_type": "code",
      "execution_count": 12,
      "metadata": {
        "colab": {
          "base_uri": "https://localhost:8080/"
        },
        "id": "SXr0_TeBMf2m",
        "metadata": {},
        "outputId": "d45745c6-29ab-4fcd-960a-7103c76ae764"
      },
      "outputs": [
        {
          "data": {
            "text/plain": [
              "array([[ 7, 10],\n",
              "       [19, 22]])"
            ]
          },
          "execution_count": 12,
          "metadata": {},
          "output_type": "execute_result"
        }
      ],
      "source": [
        "X@B"
      ]
    },
    {
      "cell_type": "code",
      "execution_count": 13,
      "metadata": {
        "colab": {
          "base_uri": "https://localhost:8080/"
        },
        "id": "Ht4V1OxIMg40",
        "metadata": {},
        "outputId": "959516fe-c3d7-4f46-e478-b5d406ecfdc6"
      },
      "outputs": [
        {
          "data": {
            "text/plain": [
              "array([[ 7, 10],\n",
              "       [19, 22]])"
            ]
          },
          "execution_count": 13,
          "metadata": {},
          "output_type": "execute_result"
        }
      ],
      "source": [
        "np.matmul(X,B)"
      ]
    },
    {
      "cell_type": "markdown",
      "metadata": {
        "id": "wOgkVu4yL-mp"
      },
      "source": [
        "# Algunos ejemplos\n",
        "\n",
        "```python\n",
        "import numpy as np\n",
        "\n",
        "# Producto de matrices\n",
        "A = np.array([[1, 2], [3, 4]])\n",
        "B = np.array([[5, 6], [7, 8]])\n",
        "producto = np.dot(A, B)\n",
        "\n",
        "# Determinante de una matriz\n",
        "C = np.array([[9, 2], [3, 4]])\n",
        "determinante = np.linalg.det(C)\n",
        "\n",
        "# Inversa de una matriz\n",
        "D = np.array([[2, 5], [1, 3]])\n",
        "inversa = np.linalg.inv(D)\n",
        "\n",
        "# Autovalores y autovectores\n",
        "E = np.array([[2, 0], [0, 3]])\n",
        "autovalores, autovectores = np.linalg.eig(E)\n",
        "\n",
        "# Resolución de sistemas de ecuaciones lineales\n",
        "F = np.array([[1, 1], [1, -1]])\n",
        "b = np.array([5, 1])\n",
        "solucion = np.linalg.solve(F, b)\n",
        "\n",
        "\n",
        "# Norma de un vector o matriz\n",
        "H = np.array([1, 2, 3])\n",
        "norma = np.linalg.norm(H)\n",
        "\n",
        "# Rango de una matriz\n",
        "I = np.array([[1, 2], [2, 4]])\n",
        "rango = np.linalg.matrix_rank(I)\n",
        "\n",
        "# Potencia de una matriz\n",
        "J = np.array([[1, 2], [3, 4]])\n",
        "potencia = np.linalg.matrix_power(J, 3)\n",
        "\n",
        "# Descomposición SVD\n",
        "G = np.array([[1, 2], [3, 4]])\n",
        "U, S, V = np.linalg.svd(G)\n",
        "\n",
        "\n",
        "```\n"
      ]
    },
    {
      "cell_type": "markdown",
      "metadata": {
        "id": "iV1bdIUxLOwM"
      },
      "source": [
        "# Matrices de numpy"
      ]
    },
    {
      "cell_type": "code",
      "execution_count": 14,
      "metadata": {
        "colab": {
          "base_uri": "https://localhost:8080/"
        },
        "id": "ZoTW7RE1mDjk",
        "metadata": {},
        "outputId": "14a05fb9-1984-4c11-b147-b7bcd121b13c"
      },
      "outputs": [
        {
          "data": {
            "text/plain": [
              "numpy.matrix"
            ]
          },
          "execution_count": 14,
          "metadata": {},
          "output_type": "execute_result"
        }
      ],
      "source": [
        "M = np.matrix(X)\n",
        "type(M)"
      ]
    },
    {
      "cell_type": "code",
      "execution_count": 15,
      "metadata": {
        "colab": {
          "base_uri": "https://localhost:8080/"
        },
        "id": "smYYFQDnmSHx",
        "metadata": {},
        "outputId": "13769bec-363a-48b7-82a3-bf103683b389"
      },
      "outputs": [
        {
          "data": {
            "text/plain": [
              "matrix([[ 7, 10],\n",
              "        [15, 22]])"
            ]
          },
          "execution_count": 15,
          "metadata": {},
          "output_type": "execute_result"
        }
      ],
      "source": [
        "M@M"
      ]
    },
    {
      "cell_type": "code",
      "execution_count": 16,
      "metadata": {
        "colab": {
          "base_uri": "https://localhost:8080/"
        },
        "id": "v0j1xF0Xnu3A",
        "metadata": {},
        "outputId": "85564342-6758-47fd-af50-673c46f73374"
      },
      "outputs": [
        {
          "data": {
            "text/plain": [
              "matrix([[1, 3],\n",
              "        [2, 4]])"
            ]
          },
          "execution_count": 16,
          "metadata": {},
          "output_type": "execute_result"
        }
      ],
      "source": [
        "M.T"
      ]
    },
    {
      "cell_type": "code",
      "execution_count": 17,
      "metadata": {
        "colab": {
          "base_uri": "https://localhost:8080/"
        },
        "id": "jsRxH4R9mJFs",
        "metadata": {},
        "outputId": "27d1d956-b4c8-496b-901c-d3042981e811"
      },
      "outputs": [
        {
          "data": {
            "text/plain": [
              "numpy.ndarray"
            ]
          },
          "execution_count": 17,
          "metadata": {},
          "output_type": "execute_result"
        }
      ],
      "source": [
        "type(X)"
      ]
    },
    {
      "cell_type": "code",
      "execution_count": 18,
      "metadata": {
        "colab": {
          "base_uri": "https://localhost:8080/"
        },
        "id": "I6yi4tSzmXkx",
        "metadata": {},
        "outputId": "9a305dad-b071-4fff-da5a-80ff7b9e49cc"
      },
      "outputs": [
        {
          "data": {
            "text/plain": [
              "array([[1, 3],\n",
              "       [2, 4]])"
            ]
          },
          "execution_count": 18,
          "metadata": {},
          "output_type": "execute_result"
        }
      ],
      "source": [
        "np.transpose(X)"
      ]
    },
    {
      "cell_type": "code",
      "execution_count": 19,
      "metadata": {
        "colab": {
          "base_uri": "https://localhost:8080/",
          "height": 137
        },
        "id": "XQviMu9KmhP5",
        "metadata": {},
        "outputId": "99d0c853-952d-4f0f-9c40-f032b5e55b68"
      },
      "outputs": [],
      "source": [
        "sy.init_printing(True)\n",
        "x = sy.symbols(\"x\")"
      ]
    },
    {
      "cell_type": "code",
      "execution_count": 20,
      "metadata": {
        "colab": {
          "base_uri": "https://localhost:8080/",
          "height": 170
        },
        "id": "6NQ5_urmm8P5",
        "metadata": {},
        "outputId": "1ba948fd-45f4-4923-bef5-d3631bb289d3"
      },
      "outputs": [
        {
          "data": {
            "text/plain": [
              "matrix([[x**2, sin(x)],\n",
              "        [x, x]], dtype=object)"
            ]
          },
          "execution_count": 20,
          "metadata": {},
          "output_type": "execute_result"
        }
      ],
      "source": [
        "Y = np.array([[x**2,sy.sin(x)],[x,x]])\n",
        "q = np.matrix(Y)\n",
        "q"
      ]
    },
    {
      "cell_type": "code",
      "execution_count": 21,
      "metadata": {
        "colab": {
          "base_uri": "https://localhost:8080/",
          "height": 58
        },
        "id": "1H5elz7jnEKY",
        "metadata": {},
        "outputId": "ad15f636-4042-4522-87bb-e094fd3146db"
      },
      "outputs": [
        {
          "data": {
            "text/plain": [
              "matrix([[x**4 + x*sin(x), x**2*sin(x) + x*sin(x)],\n",
              "        [x**3 + x**2, x**2 + x*sin(x)]], dtype=object)"
            ]
          },
          "execution_count": 21,
          "metadata": {},
          "output_type": "execute_result"
        }
      ],
      "source": [
        "q@q"
      ]
    },
    {
      "cell_type": "markdown",
      "metadata": {
        "id": "k9jPDzNSjgnZ"
      },
      "source": [
        "# Actividad:\n",
        "\n",
        "1. Construir un programa que permita multiplicar dos matrices\n",
        "\n"
      ]
    },
    {
      "cell_type": "code",
      "execution_count": 22,
      "metadata": {
        "metadata": {}
      },
      "outputs": [
        {
          "data": {
            "text/plain": [
              "array([[14., 35.],\n",
              "       [ 9., 27.]])"
            ]
          },
          "execution_count": 22,
          "metadata": {},
          "output_type": "execute_result"
        }
      ],
      "source": [
        "#def mul(A,B):\n",
        "A=np.array([[2,3,2],[4,1,1]])\n",
        "B=np.array([[1,4],[2,5],[3,6]])\n",
        "\n",
        "nA=len(A[:,0])\n",
        "nB=len(B[0])\n",
        "\n",
        "if nA!=nB:\n",
        "    print('Error, las dimensiones de la matriz no son los adecuados.')\n",
        "else:\n",
        "    R=np.zeros((nA,nB))\n",
        "    for i in range(0,nA):\n",
        "        for j in range(0,nB):\n",
        "            R[i,j]=np.sum(A[i]*B[:,j])\n",
        "R"
      ]
    },
    {
      "cell_type": "markdown",
      "metadata": {},
      "source": [
        "2. Construir un programa que permita construir una regresion lineal simple empleando lo que sigue:\n",
        "\n"
      ]
    },
    {
      "cell_type": "markdown",
      "metadata": {},
      "source": [
        "3. Construir un programa que permita calcular una regresion bidimensional y hacer su representación.\n",
        "\n",
        "\n",
        "Operaciones matricial con regresión lineal.\n",
        "\n",
        "Cuando se desea hacer una regresion lineal multivariada, existen diferentes formas de realizar la regresión, una de ellas es encontrar el error cuadrático medio y miniminzar el conjunto de parámetros de la regresión emplando algún metodo de minimización, otra forma es encontrar la expresión analítica en forma matricial para enoncontrar el conjunto de parametros de la regresión. En este último caso, la regresion lineal viene dada por la siguiente expresion generalizada:\n",
        "\n",
        "\n",
        "- $\\Theta = (X^T X)^{-1} X^T y$\n",
        "\n",
        "donte $\\Theta$ es la matriz de parametros asociados a la regresión lineal, X la matriz de características y y los valos esperados, así, si tenemos una conjunto de datos en N dimensiones la recta, plano o hyperplano puede ser calculado como:\n",
        "\n",
        "$Y=\\Theta^T X$\n",
        "\n",
        "\n",
        "En el caso de dos dimensiones, tenemos lo siguiente, Supongamos que X, y Y presentan un comportamiento lineal, y vienen dados por:\n",
        "\n",
        "\n",
        "- Sea $\\vec{X}=x^1, x^2, x^3, x^4, ..., x^m$\n",
        "- Sea $\\vec{Y}=y^1, y^2, y^3, y^4, ..., y^m$\n",
        "\n",
        "Para determinar la ecuacion de la recta, hay que conocer los párametros $\\theta_0 $, $\\theta_1$, que cumplen que :   $y^{i} = \\theta_1 x^{i} + \\theta_0$ la anterior expresion puede ser escrita como:\n",
        "\n",
        "\\begin{equation}\n",
        "\\begin{bmatrix}\n",
        "y^{1}\\\\\n",
        "y^{2}\\\\\n",
        "\\vdots\\\\\n",
        "y^{m}\\\\\n",
        "\\end{bmatrix}=\n",
        "\\begin{bmatrix}\n",
        "\\theta_0 & \\theta_1 \\\\\n",
        "\\end{bmatrix}\n",
        "\\begin{bmatrix}\n",
        "1 & 1 & \\cdots & 1 \\\\\n",
        "x_1^{1} & x_1^{2} & \\cdots & x_1^{m} \\\\\n",
        "\\end{bmatrix}\n",
        "\\end{equation}\n",
        "\n",
        "\n",
        "Para determinar la matriz de theta entonces se puede aplicar la ecuación:\n",
        "\n",
        "- $\\Theta = (X^T X)^{-1} X^T y$\n",
        "\n",
        "donde:\n",
        "\\begin{equation}\n",
        "X=\n",
        "\\begin{bmatrix}\n",
        "1 & x_1^{1} \\\\\n",
        "1 & x_1^{2} \\\\\n",
        "\\vdots & \\vdots \\\\\n",
        "1 & x_1^{m}\n",
        "\\end{bmatrix}\n",
        "\\end{equation}\n",
        "\n",
        "y\n",
        "\n",
        "\n",
        "\\begin{equation}\n",
        "y=\n",
        "\\begin{bmatrix}\n",
        "y^1 \\\\\n",
        "y^2 \\\\\n",
        "\\vdots\\\\\n",
        "y^m\n",
        "\\end{bmatrix}\n",
        "\\end{equation}\n",
        "\n",
        "Su tarea será construir un programa que realice la regresión lineal para los siguientes puntos:\n",
        "```python\n",
        "N = 10\n",
        "x1 = np.linspace(0, 10, N)\n",
        "noise=2*np.random.random(N)-1\n",
        "y = 0.9*x1 + noise\n",
        "```\n",
        "\n",
        "\n",
        "\n",
        "Generalice para el siguiente problema bidimensional:\n",
        "\n",
        "\n",
        "```python\n",
        "N = 10\n",
        "x1 = np.linspace(-1, 1, N)\n",
        "x2 = np.linspace(-2, 2, N)\n",
        "noise1=2*np.random.random(N)-1\n",
        "noise2=2*np.random.random(N)-1\n",
        "y = 2*(x1+noise1) - 3*(x2+noise2) + 0.0 #+ 4*np.random.random(100)\n",
        "\n",
        "N = 10\n",
        "X1, X2 = np.meshgrid(x1,x2)\n",
        "Y = 2*X1 - 3*X2 + 0.0\n",
        "fig, ax = plt.subplots(subplot_kw={\"projection\": \"3d\"})\n",
        "surf = ax.plot_surface(X1, X2, Y)\n",
        "#scatter = ax.scatter(x1, x2, y,\"-\")\n",
        "```"
      ]
    },
    {
      "cell_type": "code",
      "execution_count": 23,
      "metadata": {},
      "outputs": [
        {
          "data": {
            "text/plain": [
              "<matplotlib.legend.Legend at 0x28b7017f510>"
            ]
          },
          "execution_count": 23,
          "metadata": {},
          "output_type": "execute_result"
        },
        {
          "data": {
            "image/png": "[encoded data removed]",
            "text/plain": [
              "<Figure size 640x480 with 1 Axes>"
            ]
          },
          "metadata": {},
          "output_type": "display_data"
        }
      ],
      "source": [
        "N = 10\n",
        "x1 = np.linspace(0, 10, N)\n",
        "noise=2*np.random.random(N)-1\n",
        "y = 0.9*x1 + noise\n",
        "\n",
        "X=np.zeros((len(x1),2))\n",
        "X[:,0]=1\n",
        "X[:,1]=x1\n",
        "\n",
        "theta=np.linalg.inv(X.T@X)@X.T@y\n",
        "\n",
        "Y=theta@X.T\n",
        "\n",
        "plt.plot(x1,y,'o',label='Datos')\n",
        "plt.plot(x1,Y.T,'r--',label='Regresión lineal')\n",
        "plt.title('Regresión lineal')\n",
        "plt.grid()\n",
        "plt.legend()"
      ]
    },
    {
      "cell_type": "code",
      "execution_count": 24,
      "metadata": {},
      "outputs": [
        {
          "data": {
            "image/png": "[encoded data removed]",
            "text/plain": [
              "<Figure size 640x480 with 1 Axes>"
            ]
          },
          "metadata": {},
          "output_type": "display_data"
        }
      ],
      "source": [
        "N = 16\n",
        "x1_ = np.linspace(-1, 1, N)\n",
        "x2_ = np.linspace(-2, 2, N)\n",
        "noise1_=2*np.random.random(N)-1\n",
        "noise2_=2*np.random.random(N)-1\n",
        "y_ = 2*(x1_+noise1_) - 3*(x2_+noise2_)#+ 4*np.random.random(N)\n",
        "\n",
        "X_=np.zeros((len(x1_),3))\n",
        "X_[:,0]=1\n",
        "X_[:,1]=x1_\n",
        "X_[:,2]=x2_\n",
        "X_,y_\n",
        "\n",
        "theta_=np.linalg.inv(X_.T@X_)@X_.T@y_\n",
        "\n",
        "Y_=theta_@X_.T\n",
        "\n",
        "X1, X2 = np.meshgrid(x1_,x2_)\n",
        "Y = 2*X1 - 3*X2 + 0.0\n",
        "fig, ax = plt.subplots(subplot_kw={\"projection\": \"3d\"})\n",
        "surf = ax.plot_surface(X1, X2, Y)\n",
        "scatter = ax.scatter(x1_, x2_, y_,\"-\")"
      ]
    },
    {
      "cell_type": "markdown",
      "metadata": {},
      "source": [
        "4. Construir un programa que permita realizar eliminacion de Gauss- Jordan de una matriz"
      ]
    },
    {
      "cell_type": "code",
      "execution_count": 74,
      "metadata": {},
      "outputs": [
        {
          "data": {
            "text/plain": [
              "matrix([[  2.,   1.,  -1.,   8.],\n",
              "        [ -3.,  -1.,   2., -11.],\n",
              "        [ -2.,   1.,   2.,  -3.]])"
            ]
          },
          "execution_count": 74,
          "metadata": {},
          "output_type": "execute_result"
        }
      ],
      "source": [
        "def inter(i,j,M):\n",
        "  B=M.copy()\n",
        "  B[[j,i]]=B[[i,j]]\n",
        "  return B\n",
        "\n",
        "def mult(i,λ,M):\n",
        "  B=M.copy()\n",
        "  B[i]=λ*B[i]\n",
        "  return B\n",
        "\n",
        "def comb(i,j,λ,M):\n",
        "  B=M.copy()\n",
        "  B[j]=B[i]*λ-B[j]\n",
        "  return B\n",
        "\n",
        "#a=np.matrix([[5,-4,2,1,4],[-4,6,-3,5,1],[1,-3,5,-2,3],[2,4,3,5,6]])\n",
        "#a=np.random.randint(1,30,(6,7))\n",
        "a=np.matrix([[2,1,-1,8],[-3,-1,2,-11],[-2,1,2,-3]])\n",
        "a=a*1.0\n",
        "a"
      ]
    },
    {
      "cell_type": "code",
      "execution_count": 6,
      "metadata": {},
      "outputs": [],
      "source": [
        "#paso a paso\n",
        "#a=mult(0,1/a[0,0],a).copy()     #uno en a11     \n",
        "#a=comb(0,1,a[1,0],a)            #cero en a21\n",
        "#a=mult(1,1/a[1,1],a)            #uno en a22\n",
        "#a=comb(0,2,a[2,0],a)            #cero en a31\n",
        "#a=comb(1,2,a[2,1],a)            #cero en a32\n",
        "#a=mult(2,1/a[2,2],a)            #uno en a33\n",
        "#a"
      ]
    },
    {
      "cell_type": "code",
      "execution_count": 75,
      "metadata": {},
      "outputs": [
        {
          "data": {
            "text/plain": [
              "matrix([[ 1. ,  0.5, -0.5,  4. ],\n",
              "        [-0. ,  1. ,  1. ,  2. ],\n",
              "        [ 0. ,  0. ,  1. , -1. ]])"
            ]
          },
          "execution_count": 75,
          "metadata": {},
          "output_type": "execute_result"
        }
      ],
      "source": [
        "#forma escalonada\n",
        "def gauss_jordan(a):\n",
        "    for i in range(1,len(a[:,0])):\n",
        "        #print(f'i1={i}')\n",
        "        a=a.copy()\n",
        "        a=mult(i-1,1/a[i-1,i-1],a)\n",
        "\n",
        "        if i==1:\n",
        "            a=comb(i-1,i,a[i,i-1],a)\n",
        "            \n",
        "        else:\n",
        "            for _ in range(0,i+1):\n",
        "                #print(f'i2={i}')\n",
        "                #print(f'_={_}')\n",
        "                a=comb(_,i,a[i,_],a)\n",
        "    a=mult(len(a[:,0])-1,1/a[len(a[:,0])-1,len(a[:,0])-1],a)        #tocó meter este paso a la fuerza porque no conseguí que hiciera el \n",
        "    return a                                                        #último uno dentro del ciclo\n",
        "\n",
        "gauss_jordan(a)"
      ]
    }
  ],
  "metadata": {
    "colab": {
      "provenance": []
    },
    "kernelspec": {
      "display_name": "Python 3",
      "name": "python3"
    },
    "language_info": {
      "codemirror_mode": {
        "name": "ipython",
        "version": 3
      },
      "file_extension": ".py",
      "mimetype": "text/x-python",
      "name": "python",
      "nbconvert_exporter": "python",
      "pygments_lexer": "ipython3",
      "version": "3.11.9"
    }
  },
  "nbformat": 4,
  "nbformat_minor": 0
}
