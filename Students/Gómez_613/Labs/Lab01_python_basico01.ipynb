{
 "cells": [
  {
   "cell_type": "markdown",
   "metadata": {
    "id": "GUTNoRgHTjfg"
   },
   "source": [
    "<a href=\"https://colab.research.google.com/github/hernansalinas/autogradesMetodosComputacionales/blob/main/Laboratorios_Taller/Lab01_python_basico01.ipynb\" target=\"_parent\"><img src=\"https://colab.research.google.com/assets/colab-badge.svg\" alt=\"Open In Colab\"/></a>\n",
    "\n",
    "\n",
    "\n",
    "\n",
    "# Laboratorio 01\n",
    "### Métodos computacionales para físicos  y astrónomos\n",
    "### Universidad de Antioquia\n",
    "### Profesores:\n",
    "### Hernan D. Salinas Jiménez\n",
    "### Juan Marcos Marin\n"
   ]
  },
  {
   "cell_type": "code",
   "execution_count": 1,
   "metadata": {
    "colab": {
     "base_uri": "https://localhost:8080/"
    },
    "id": "NmGdQYCBL7cs",
    "outputId": "63e870f3-2e02-46ad-a425-7aec37da5f13",
    "tags": []
   },
   "outputs": [
    {
     "name": "stderr",
     "output_type": "stream",
     "text": [
      "Cloning into 'autogradesMetodosComputacionales'...\n",
      "C:\\Users\\CristianGómez\\OneDrive - Universidad de Antioquia\\Materias\\Semestre 5\\Métodos computacionales\\Labs\\autogradesMetodosComputacionales\\Laboratorios_Taller\\libs\\libUnitTest.py:3: DeprecationWarning: Importing display from IPython.core.display is deprecated since IPython 7.14, please import from IPython display\n",
      "  from IPython.core.display import display, HTML\n"
     ]
    }
   ],
   "source": [
    "# Ejecutar esta celda antes de cada laboratorio\n",
    "!git clone https://github.com/hernansalinas/autogradesMetodosComputacionales.git\n",
    "path1=f\"autogradesMetodosComputacionales/Laboratorios_Taller/libs/\"\n",
    "path2=f\"autogradesMetodosComputacionales/Laboratorios_Taller/libs/Lab_autotesting01/\"\n",
    "%run -i {path1}libUnitTest.py"
   ]
  },
  {
   "cell_type": "markdown",
   "metadata": {
    "id": "OkdTI9KQ8MLN"
   },
   "source": [
    "# Operaciones básicas en python.\n",
    "\n",
    "\n",
    "### Definicion de variables\n",
    "1. Definir una variable x tipo entero.\n",
    "2. Definir una variable y tipo float\n",
    "3. Definir una variable z tipo string."
   ]
  },
  {
   "cell_type": "code",
   "execution_count": 2,
   "metadata": {
    "id": "nOYa9UQquq4d",
    "tags": []
   },
   "outputs": [],
   "source": [
    "# Defina la variables en esta celda\n",
    "\n",
    "x=1\n",
    "y=1.0\n",
    "z='uno'"
   ]
  },
  {
   "cell_type": "code",
   "execution_count": 3,
   "metadata": {
    "colab": {
     "base_uri": "https://localhost:8080/",
     "height": 212
    },
    "id": "aod54z2z-ZeY",
    "outputId": "1df4b842-3de6-4030-fb7c-04a348b23d93",
    "tags": []
   },
   "outputs": [
    {
     "data": {
      "text/html": [
       "<style>\n",
       "  table { text-align: left; border-collapse: collapse; margin: 1em; caption-side: bottom; font-family: Sans-Serif; font-size: 12px}\n",
       "  caption { text-align: left; padding: 5px }\n",
       "  th, td { border: 2px solid #BFC9CA; padding: 5px }\n",
       "  th { background-color: #BFC9CA }\n",
       "  .passed { background-color: #76D7C4 }\n",
       "  .failed { background-color: #EC7063 }\n",
       "  .skipped { background-color: #EDBB99 }\n",
       "  .score { background-color: #7DCEA0 }\n",
       "  .results .points { display: none }\n",
       "  .results .message { display: block; font-size:smaller; color:#D35400 }\n",
       "  .results .note { display: block; font-size:smaller; font-decoration:italics }\n",
       "  .results .passed::before  { content: \"Passed\" } \n",
       "  .results .skipped::before  { content: \"Skipped\" } \n",
       "  .results .failed::before  { content: \"Failed\" } \n",
       "  .grade .passed  .message:empty::before { content:\"Passed\" }\n",
       "  .grade .failed  .message:empty::before { content:\"Failed\" }\n",
       "  .grade .skipped .message:empty::before { content:\"Skipped\" }   \n",
       "</style>\n",
       "<table class='results'>\n",
       "  <th class='test'>Test</th><th class='result'>Result</th></tr>\n",
       "<tr>\n",
       "  <td class='test'>\n",
       "    Definir x como un numero entero\n",
       "    <div class='message'>Done</div>\n",
       "  </td>\n",
       "  <td class='result passed'></td>\n",
       "</tr>\n",
       "<tr>\n",
       "  <td class='test'>\n",
       "    Defiir y como una variable tipo float\n",
       "    <div class='message'>Done</div>\n",
       "  </td>\n",
       "  <td class='result passed'></td>\n",
       "</tr>\n",
       "<tr>\n",
       "  <td class='test'>\n",
       "    Definir z como un string\n",
       "    <div class='message'>Done</div>\n",
       "  </td>\n",
       "  <td class='result passed'></td>\n",
       "</tr>  <tr><th class='score'>Total Points</th><th class='score'>3</th></tr></table>\n"
      ],
      "text/plain": [
       "<IPython.core.display.HTML object>"
      ]
     },
     "metadata": {},
     "output_type": "display_data"
    }
   ],
   "source": [
    "# Ejecute la presente celda para probar su solucion\n",
    "%run -i {path2}/test01.py"
   ]
  },
  {
   "cell_type": "markdown",
   "metadata": {
    "id": "9JTEaQro_I8E"
   },
   "source": [
    "\n",
    "\n",
    "###  Creación de Funciones\n",
    "4. Crear una función con el nombre mul_lambda tipo lambda que multiple dos enteros, el resultado deberá ser un número entero.  \n",
    "\n",
    "Ejemplo de ejecución:\n",
    "\n",
    "```python\n",
    "\n",
    "mul_lambda(a,b)\n",
    "#donde a, y b son numeros enteros\n",
    "\n",
    "```\n",
    "\n",
    "\n",
    "5. Crear una función explicita con el nombre de sum_int, que realice la suma de dos números enteros\n",
    "\n",
    "Ejemplo de ejecución:\n",
    "\n",
    "```python\n",
    "\n",
    "sum_int(a,b)\n",
    "#donde a, y b son numeros enteros\n",
    "\n",
    "```\n",
    "\n"
   ]
  },
  {
   "cell_type": "code",
   "execution_count": 4,
   "metadata": {
    "id": "zuTTQ1gmvl3O",
    "tags": []
   },
   "outputs": [],
   "source": [
    "# Escriba las funciones en esta celda\n",
    "def mul_lambda(a,b):\n",
    "  return a*b\n",
    "\n",
    "def sum_int(a,b):\n",
    "  return a+b"
   ]
  },
  {
   "cell_type": "code",
   "execution_count": 5,
   "metadata": {
    "colab": {
     "base_uri": "https://localhost:8080/",
     "height": 173
    },
    "id": "lSsnEjAx_Gay",
    "outputId": "f38f60df-bbeb-4c67-9aac-2251ca09e38e",
    "tags": []
   },
   "outputs": [
    {
     "data": {
      "text/html": [
       "<style>\n",
       "  table { text-align: left; border-collapse: collapse; margin: 1em; caption-side: bottom; font-family: Sans-Serif; font-size: 12px}\n",
       "  caption { text-align: left; padding: 5px }\n",
       "  th, td { border: 2px solid #BFC9CA; padding: 5px }\n",
       "  th { background-color: #BFC9CA }\n",
       "  .passed { background-color: #76D7C4 }\n",
       "  .failed { background-color: #EC7063 }\n",
       "  .skipped { background-color: #EDBB99 }\n",
       "  .score { background-color: #7DCEA0 }\n",
       "  .results .points { display: none }\n",
       "  .results .message { display: block; font-size:smaller; color:#D35400 }\n",
       "  .results .note { display: block; font-size:smaller; font-decoration:italics }\n",
       "  .results .passed::before  { content: \"Passed\" } \n",
       "  .results .skipped::before  { content: \"Skipped\" } \n",
       "  .results .failed::before  { content: \"Failed\" } \n",
       "  .grade .passed  .message:empty::before { content:\"Passed\" }\n",
       "  .grade .failed  .message:empty::before { content:\"Failed\" }\n",
       "  .grade .skipped .message:empty::before { content:\"Skipped\" }   \n",
       "</style>\n",
       "<table class='results'>\n",
       "  <th class='test'>Test</th><th class='result'>Result</th></tr>\n",
       "<tr>\n",
       "  <td class='test'>\n",
       "    Crear una funcion que multiplique dos números\n",
       "    <div class='message'>Done</div>\n",
       "  </td>\n",
       "  <td class='result passed'></td>\n",
       "</tr>\n",
       "<tr>\n",
       "  <td class='test'>\n",
       "    Crear una funcion que sume dos números\n",
       "    <div class='message'>Done</div>\n",
       "  </td>\n",
       "  <td class='result passed'></td>\n",
       "</tr>  <tr><th class='score'>Total Points</th><th class='score'>2</th></tr></table>\n"
      ],
      "text/plain": [
       "<IPython.core.display.HTML object>"
      ]
     },
     "metadata": {},
     "output_type": "display_data"
    }
   ],
   "source": [
    "%run -i {path2}/test02.py"
   ]
  },
  {
   "cell_type": "markdown",
   "metadata": {
    "id": "uu42QkJsCQMb"
   },
   "source": [
    "\n",
    "###  Números complejos\n",
    "\n",
    "6. Defina un número complejo w.\n",
    "7. Retorne la parte imaginaria de w, almacenela en una variable w_img\n",
    "8. Retorne la parte real de w, almacenela en una variable w_real.\n",
    "9. Retorne el complejo conjugado de w, almacenla en una varible w_con.\n"
   ]
  },
  {
   "cell_type": "code",
   "execution_count": 6,
   "metadata": {
    "id": "1InwYykmwngw",
    "tags": []
   },
   "outputs": [],
   "source": [
    "# Escriba acá su solución\n",
    "w=3+2j\n",
    "w_img=w.imag\n",
    "w_real=w.real\n",
    "w_con=w.conjugate()"
   ]
  },
  {
   "cell_type": "code",
   "execution_count": 7,
   "metadata": {
    "colab": {
     "base_uri": "https://localhost:8080/",
     "height": 251
    },
    "id": "jx3J6yE1Kwki",
    "outputId": "59992982-c965-470f-c95d-9345658c3b1f",
    "tags": []
   },
   "outputs": [
    {
     "data": {
      "text/html": [
       "<style>\n",
       "  table { text-align: left; border-collapse: collapse; margin: 1em; caption-side: bottom; font-family: Sans-Serif; font-size: 12px}\n",
       "  caption { text-align: left; padding: 5px }\n",
       "  th, td { border: 2px solid #BFC9CA; padding: 5px }\n",
       "  th { background-color: #BFC9CA }\n",
       "  .passed { background-color: #76D7C4 }\n",
       "  .failed { background-color: #EC7063 }\n",
       "  .skipped { background-color: #EDBB99 }\n",
       "  .score { background-color: #7DCEA0 }\n",
       "  .results .points { display: none }\n",
       "  .results .message { display: block; font-size:smaller; color:#D35400 }\n",
       "  .results .note { display: block; font-size:smaller; font-decoration:italics }\n",
       "  .results .passed::before  { content: \"Passed\" } \n",
       "  .results .skipped::before  { content: \"Skipped\" } \n",
       "  .results .failed::before  { content: \"Failed\" } \n",
       "  .grade .passed  .message:empty::before { content:\"Passed\" }\n",
       "  .grade .failed  .message:empty::before { content:\"Failed\" }\n",
       "  .grade .skipped .message:empty::before { content:\"Skipped\" }   \n",
       "</style>\n",
       "<table class='results'>\n",
       "  <th class='test'>Test</th><th class='result'>Result</th></tr>\n",
       "<tr>\n",
       "  <td class='test'>\n",
       "    Definir w como un número complejo\n",
       "    <div class='message'>Done</div>\n",
       "  </td>\n",
       "  <td class='result passed'></td>\n",
       "</tr>\n",
       "<tr>\n",
       "  <td class='test'>\n",
       "    Determinar la parte real de w\n",
       "    <div class='message'>Done</div>\n",
       "  </td>\n",
       "  <td class='result passed'></td>\n",
       "</tr>\n",
       "<tr>\n",
       "  <td class='test'>\n",
       "    Determinar la parte imaginaria  de w\n",
       "    <div class='message'>Done</div>\n",
       "  </td>\n",
       "  <td class='result passed'></td>\n",
       "</tr>\n",
       "<tr>\n",
       "  <td class='test'>\n",
       "    Determinar el conjugado de w\n",
       "    <div class='message'>Done</div>\n",
       "  </td>\n",
       "  <td class='result passed'></td>\n",
       "</tr>  <tr><th class='score'>Total Points</th><th class='score'>4</th></tr></table>\n"
      ],
      "text/plain": [
       "<IPython.core.display.HTML object>"
      ]
     },
     "metadata": {},
     "output_type": "display_data"
    }
   ],
   "source": [
    "%run -i {path2}/test03.py"
   ]
  },
  {
   "cell_type": "markdown",
   "metadata": {
    "id": "P-2vd2FFV-R-"
   },
   "source": [
    "###  Listas\n",
    "\n",
    "10.0  Construir una lista L con las variables usadas hasta acá y los resultados de las funciones.\n",
    "\n",
    "L=[x,y,z,mul_lambda, sum_int,w, w_img, w_real, w_con ]\n",
    "\n",
    "11.0 Invierta la lista y almacene en una variable L_reverse\n",
    "\n",
    "12.0 Almacene los elementos impares de la lista, L_imp\n",
    "\n",
    "13.0 Almacene los elementos pares de la lista, L_par\n",
    "\n",
    "14.0 Modifique el elemento 5 de la lista L con la palabra \"hello world\"\n"
   ]
  },
  {
   "cell_type": "code",
   "execution_count": 11,
   "metadata": {
    "id": "5wcA7Bf8x6v4",
    "tags": []
   },
   "outputs": [],
   "source": [
    "# Escriba en esta celda su solucion\n",
    "L=[x,y,z,mul_lambda(2,1),sum_int(7,1),w,w_img,w_real,w_con]\n",
    "L_reverse=L[::-1]\n",
    "L_imp=L[1::2]\n",
    "L_par=L[::2]\n",
    "L[4]='hello world'"
   ]
  },
  {
   "cell_type": "code",
   "execution_count": 12,
   "metadata": {
    "colab": {
     "base_uri": "https://localhost:8080/",
     "height": 640
    },
    "id": "rUAEpJDDdM2q",
    "outputId": "ef7f72b1-3893-4ddd-b9d7-c5ff04b90d01",
    "tags": []
   },
   "outputs": [
    {
     "ename": "SyntaxError",
     "evalue": "expected 'except' or 'finally' block (test04.py, line 48)",
     "output_type": "error",
     "traceback": [
      "\u001b[1;36m  File \u001b[1;32m~\\OneDrive - Universidad de Antioquia\\Materias\\Semestre 5\\Métodos computacionales\\Labs\\autogradesMetodosComputacionales\\Laboratorios_Taller\\libs\\Lab_autotesting01\\test04.py:48\u001b[1;36m\u001b[0m\n\u001b[1;33m    config_.append_variables_values(\"testOneValuesVariables.test_Expectedvaluevalue\",\\\u001b[0m\n\u001b[1;37m    ^\u001b[0m\n\u001b[1;31mSyntaxError\u001b[0m\u001b[1;31m:\u001b[0m expected 'except' or 'finally' block\n"
     ]
    }
   ],
   "source": [
    "%run -i {path2}/test04.py"
   ]
  },
  {
   "cell_type": "markdown",
   "metadata": {
    "id": "9vVIrQeytD30"
   },
   "source": [
    "###  Tuplas\n",
    "\n",
    "15.0 Definir una tupla con 5 elementos almacenda en la variable Tup, los primeros 3 tipo string y los ultimos dos, tipo float."
   ]
  },
  {
   "cell_type": "code",
   "execution_count": 13,
   "metadata": {
    "id": "xkrK3Wsgyqb1",
    "tags": []
   },
   "outputs": [],
   "source": [
    "Tup = (\"hola\",\"mundo\", \"hola\",1.0,1.0)"
   ]
  },
  {
   "cell_type": "code",
   "execution_count": 14,
   "metadata": {
    "colab": {
     "base_uri": "https://localhost:8080/",
     "height": 251
    },
    "id": "UswyGx3xuou2",
    "outputId": "fae3b560-8d4e-4d58-afcb-79c0e43e0033",
    "tags": []
   },
   "outputs": [
    {
     "data": {
      "text/html": [
       "<style>\n",
       "  table { text-align: left; border-collapse: collapse; margin: 1em; caption-side: bottom; font-family: Sans-Serif; font-size: 12px}\n",
       "  caption { text-align: left; padding: 5px }\n",
       "  th, td { border: 2px solid #BFC9CA; padding: 5px }\n",
       "  th { background-color: #BFC9CA }\n",
       "  .passed { background-color: #76D7C4 }\n",
       "  .failed { background-color: #EC7063 }\n",
       "  .skipped { background-color: #EDBB99 }\n",
       "  .score { background-color: #7DCEA0 }\n",
       "  .results .points { display: none }\n",
       "  .results .message { display: block; font-size:smaller; color:#D35400 }\n",
       "  .results .note { display: block; font-size:smaller; font-decoration:italics }\n",
       "  .results .passed::before  { content: \"Passed\" } \n",
       "  .results .skipped::before  { content: \"Skipped\" } \n",
       "  .results .failed::before  { content: \"Failed\" } \n",
       "  .grade .passed  .message:empty::before { content:\"Passed\" }\n",
       "  .grade .failed  .message:empty::before { content:\"Failed\" }\n",
       "  .grade .skipped .message:empty::before { content:\"Skipped\" }   \n",
       "</style>\n",
       "<table class='results'>\n",
       "  <th class='test'>Test</th><th class='result'>Result</th></tr>\n",
       "<tr>\n",
       "  <td class='test'>\n",
       "    Definir una tupla\n",
       "    <div class='message'>Done</div>\n",
       "  </td>\n",
       "  <td class='result passed'></td>\n",
       "</tr>\n",
       "<tr>\n",
       "  <td class='test'>\n",
       "    La longitud de la tupla debe ser 5 \n",
       "    <div class='message'>Done</div>\n",
       "  </td>\n",
       "  <td class='result passed'></td>\n",
       "</tr>\n",
       "<tr>\n",
       "  <td class='test'>\n",
       "    Los tres primeros elementos deben string \n",
       "    <div class='message'>Done</div>\n",
       "  </td>\n",
       "  <td class='result passed'></td>\n",
       "</tr>\n",
       "<tr>\n",
       "  <td class='test'>\n",
       "    Los dos ultimos elementos deben ser float \n",
       "    <div class='message'>Done</div>\n",
       "  </td>\n",
       "  <td class='result passed'></td>\n",
       "</tr>  <tr><th class='score'>Total Points</th><th class='score'>4</th></tr></table>\n"
      ],
      "text/plain": [
       "<IPython.core.display.HTML object>"
      ]
     },
     "metadata": {},
     "output_type": "display_data"
    }
   ],
   "source": [
    " %run -i {path2}/test05.py"
   ]
  },
  {
   "cell_type": "markdown",
   "metadata": {
    "id": "E1VlbpbEysKy"
   },
   "source": [
    "###  Set\n",
    "16.0 Defina una variable tipo set llamada  D con los primeros 11 numeros primos, consultalos en la red. Notese que pasa en este variables cuando alguno de los elementos se repite\n",
    "\n",
    "17.0 Defina una variable tipo set llamada E con los números naturales del 1 al 20.\n",
    "\n",
    "18.0 Calcule la unión  y almacenela en una variable U.\n",
    "\n",
    "19.0 Calcule la intersección y almacenela en una variable I\n"
   ]
  },
  {
   "cell_type": "code",
   "execution_count": 15,
   "metadata": {
    "id": "ua1aHdjPzfGp",
    "tags": []
   },
   "outputs": [],
   "source": [
    "# Escriba acá su solución\n",
    "D={2,3,5,7,11,13,17,19,23,29,31}\n",
    "E={1,2,3,4,5,6,7,8,9,10,11,12,13,14,15,16,17,18,19,20}\n",
    "U=D|E\n",
    "I=D&E"
   ]
  },
  {
   "cell_type": "code",
   "execution_count": 16,
   "metadata": {
    "colab": {
     "base_uri": "https://localhost:8080/",
     "height": 445
    },
    "id": "YJiDfeEr2cSc",
    "outputId": "cec23cbb-f040-4426-ff0c-d7f72ea54dfd",
    "tags": []
   },
   "outputs": [
    {
     "data": {
      "text/html": [
       "<style>\n",
       "  table { text-align: left; border-collapse: collapse; margin: 1em; caption-side: bottom; font-family: Sans-Serif; font-size: 12px}\n",
       "  caption { text-align: left; padding: 5px }\n",
       "  th, td { border: 2px solid #BFC9CA; padding: 5px }\n",
       "  th { background-color: #BFC9CA }\n",
       "  .passed { background-color: #76D7C4 }\n",
       "  .failed { background-color: #EC7063 }\n",
       "  .skipped { background-color: #EDBB99 }\n",
       "  .score { background-color: #7DCEA0 }\n",
       "  .results .points { display: none }\n",
       "  .results .message { display: block; font-size:smaller; color:#D35400 }\n",
       "  .results .note { display: block; font-size:smaller; font-decoration:italics }\n",
       "  .results .passed::before  { content: \"Passed\" } \n",
       "  .results .skipped::before  { content: \"Skipped\" } \n",
       "  .results .failed::before  { content: \"Failed\" } \n",
       "  .grade .passed  .message:empty::before { content:\"Passed\" }\n",
       "  .grade .failed  .message:empty::before { content:\"Failed\" }\n",
       "  .grade .skipped .message:empty::before { content:\"Skipped\" }   \n",
       "</style>\n",
       "<table class='results'>\n",
       "  <th class='test'>Test</th><th class='result'>Result</th></tr>\n",
       "<tr>\n",
       "  <td class='test'>\n",
       "    Definir una variable D tipo set\n",
       "    <div class='message'>Done</div>\n",
       "  </td>\n",
       "  <td class='result passed'></td>\n",
       "</tr>\n",
       "<tr>\n",
       "  <td class='test'>\n",
       "    Definir una variable E tipo set\n",
       "    <div class='message'>Done</div>\n",
       "  </td>\n",
       "  <td class='result passed'></td>\n",
       "</tr>\n",
       "<tr>\n",
       "  <td class='test'>\n",
       "    Definir una variable U tipo set\n",
       "    <div class='message'>Done</div>\n",
       "  </td>\n",
       "  <td class='result passed'></td>\n",
       "</tr>\n",
       "<tr>\n",
       "  <td class='test'>\n",
       "    Definir una variable I tipo set\n",
       "    <div class='message'>Done</div>\n",
       "  </td>\n",
       "  <td class='result passed'></td>\n",
       "</tr>\n",
       "<tr>\n",
       "  <td class='test'>\n",
       "    La longitud de D debe ser 11 \n",
       "    <div class='message'>Done</div>\n",
       "  </td>\n",
       "  <td class='result passed'></td>\n",
       "</tr>\n",
       "<tr>\n",
       "  <td class='test'>\n",
       "    11 primeros números de Bernulli\n",
       "    <div class='message'>Done</div>\n",
       "  </td>\n",
       "  <td class='result passed'></td>\n",
       "</tr>\n",
       "<tr>\n",
       "  <td class='test'>\n",
       "    20 primeros numeros naturales \n",
       "    <div class='message'>Done</div>\n",
       "  </td>\n",
       "  <td class='result passed'></td>\n",
       "</tr>\n",
       "<tr>\n",
       "  <td class='test'>\n",
       "    union \n",
       "    <div class='message'>Done</div>\n",
       "  </td>\n",
       "  <td class='result passed'></td>\n",
       "</tr>\n",
       "<tr>\n",
       "  <td class='test'>\n",
       "    Calcule la interseccion \n",
       "    <div class='message'>Done</div>\n",
       "  </td>\n",
       "  <td class='result passed'></td>\n",
       "</tr>  <tr><th class='score'>Total Points</th><th class='score'>9</th></tr></table>\n"
      ],
      "text/plain": [
       "<IPython.core.display.HTML object>"
      ]
     },
     "metadata": {},
     "output_type": "display_data"
    }
   ],
   "source": [
    " %run -i {path2}/test06.py"
   ]
  },
  {
   "cell_type": "markdown",
   "metadata": {
    "id": "HWfazmVWTq1T"
   },
   "source": [
    "\n",
    "\n",
    "\n",
    "\n",
    "\n",
    "\n",
    "\n",
    "\n",
    "\n",
    "\n",
    "\n",
    "\n",
    "\n",
    "\n",
    "###  Diccionarios\n",
    "20.0 Construir un diccionario con 5 elementos cuya clave es el nombre del autor y valor el nombre del libro. Almacenarlo en una variable dicc.\n",
    "\n",
    "\n",
    "\n"
   ]
  },
  {
   "cell_type": "code",
   "execution_count": 17,
   "metadata": {
    "id": "07sFgZvj0MP7",
    "tags": []
   },
   "outputs": [],
   "source": [
    "# Escriba acá su solución\n",
    "dicc={'Edwin':'Cálculo',\n",
    "      'Pita':'Álgebra lineal',\n",
    "      'Churchill':'Complex Calculus',\n",
    "      'Hewitt':'Conceptos de Física',\n",
    "      'Kleppner':'An Introduction to Mechanics'}"
   ]
  },
  {
   "cell_type": "code",
   "execution_count": 18,
   "metadata": {
    "colab": {
     "base_uri": "https://localhost:8080/",
     "height": 173
    },
    "id": "yfHkEyXV6DjL",
    "outputId": "a77fad5e-9d4c-4fcd-c8d9-ae7e586118de",
    "tags": []
   },
   "outputs": [
    {
     "data": {
      "text/html": [
       "<style>\n",
       "  table { text-align: left; border-collapse: collapse; margin: 1em; caption-side: bottom; font-family: Sans-Serif; font-size: 12px}\n",
       "  caption { text-align: left; padding: 5px }\n",
       "  th, td { border: 2px solid #BFC9CA; padding: 5px }\n",
       "  th { background-color: #BFC9CA }\n",
       "  .passed { background-color: #76D7C4 }\n",
       "  .failed { background-color: #EC7063 }\n",
       "  .skipped { background-color: #EDBB99 }\n",
       "  .score { background-color: #7DCEA0 }\n",
       "  .results .points { display: none }\n",
       "  .results .message { display: block; font-size:smaller; color:#D35400 }\n",
       "  .results .note { display: block; font-size:smaller; font-decoration:italics }\n",
       "  .results .passed::before  { content: \"Passed\" } \n",
       "  .results .skipped::before  { content: \"Skipped\" } \n",
       "  .results .failed::before  { content: \"Failed\" } \n",
       "  .grade .passed  .message:empty::before { content:\"Passed\" }\n",
       "  .grade .failed  .message:empty::before { content:\"Failed\" }\n",
       "  .grade .skipped .message:empty::before { content:\"Skipped\" }   \n",
       "</style>\n",
       "<table class='results'>\n",
       "  <th class='test'>Test</th><th class='result'>Result</th></tr>\n",
       "<tr>\n",
       "  <td class='test'>\n",
       "    Definir una variable dicc tipo diccionario\n",
       "    <div class='message'>Done</div>\n",
       "  </td>\n",
       "  <td class='result passed'></td>\n",
       "</tr>\n",
       "<tr>\n",
       "  <td class='test'>\n",
       "    la longitud del diccionario debe ser 5 \n",
       "    <div class='message'>Done</div>\n",
       "  </td>\n",
       "  <td class='result passed'></td>\n",
       "</tr>  <tr><th class='score'>Total Points</th><th class='score'>2</th></tr></table>\n"
      ],
      "text/plain": [
       "<IPython.core.display.HTML object>"
      ]
     },
     "metadata": {},
     "output_type": "display_data"
    }
   ],
   "source": [
    " %run -i {path2}/test07.py"
   ]
  },
  {
   "cell_type": "markdown",
   "metadata": {
    "id": "7g0xWN387wOo"
   },
   "source": [
    "\n",
    "####  Ciclos y condicionales\n",
    "\n",
    "21.0  Cálculo de $\\pi$. Empleando la siguiente seria :\n",
    "\n",
    "\\begin{equation}\n",
    "\\frac{\\pi}{4} = 1 -\\frac{1}{3}+\\frac{1}{5}-\\frac{1}{7}+\\frac{1}{9}-...\n",
    "\\end{equation}\n",
    "\n",
    "Construya una función llamada pi_number en el que entrado el valor de k,(número de términos de la serie ) calcule el valor de pi. Si k es negativo deberá retornar un error como una variable tipo string.\n",
    "\n",
    "Ejemplo de ejecución:\n",
    "```python\n",
    "pi_number(10)\n",
    "```"
   ]
  },
  {
   "cell_type": "code",
   "execution_count": 25,
   "metadata": {
    "id": "h9cuWKkT0pqQ",
    "tags": []
   },
   "outputs": [
    {
     "data": {
      "text/plain": [
       "3.1415925535897915"
      ]
     },
     "execution_count": 25,
     "metadata": {},
     "output_type": "execute_result"
    }
   ],
   "source": [
    "# Escriba acá su solución\n",
    "def pi_number(k):\n",
    "    if k<0:\n",
    "        return 'ValueError'\n",
    "    else:\n",
    "        suma=0\n",
    "        for i in range(0,k):\n",
    "            suma+=4*(((-1)**i)/(2*i+1))\n",
    "    return suma\n",
    "pi_number(10000000)"
   ]
  },
  {
   "cell_type": "code",
   "execution_count": 22,
   "metadata": {
    "id": "OEACMhp6BS2k",
    "tags": []
   },
   "outputs": [
    {
     "data": {
      "text/html": [
       "<style>\n",
       "  table { text-align: left; border-collapse: collapse; margin: 1em; caption-side: bottom; font-family: Sans-Serif; font-size: 12px}\n",
       "  caption { text-align: left; padding: 5px }\n",
       "  th, td { border: 2px solid #BFC9CA; padding: 5px }\n",
       "  th { background-color: #BFC9CA }\n",
       "  .passed { background-color: #76D7C4 }\n",
       "  .failed { background-color: #EC7063 }\n",
       "  .skipped { background-color: #EDBB99 }\n",
       "  .score { background-color: #7DCEA0 }\n",
       "  .results .points { display: none }\n",
       "  .results .message { display: block; font-size:smaller; color:#D35400 }\n",
       "  .results .note { display: block; font-size:smaller; font-decoration:italics }\n",
       "  .results .passed::before  { content: \"Passed\" } \n",
       "  .results .skipped::before  { content: \"Skipped\" } \n",
       "  .results .failed::before  { content: \"Failed\" } \n",
       "  .grade .passed  .message:empty::before { content:\"Passed\" }\n",
       "  .grade .failed  .message:empty::before { content:\"Failed\" }\n",
       "  .grade .skipped .message:empty::before { content:\"Skipped\" }   \n",
       "</style>\n",
       "<table class='results'>\n",
       "  <th class='test'>Test</th><th class='result'>Result</th></tr>\n",
       "<tr>\n",
       "  <td class='test'>\n",
       "    Prueba para valores negativos \n",
       "    <div class='message'>Done</div>\n",
       "  </td>\n",
       "  <td class='result passed'></td>\n",
       "</tr>\n",
       "<tr>\n",
       "  <td class='test'>\n",
       "    Prueba para valores negativos \n",
       "    <div class='message'>Done</div>\n",
       "  </td>\n",
       "  <td class='result passed'></td>\n",
       "</tr>  <tr><th class='score'>Total Points</th><th class='score'>2</th></tr></table>\n"
      ],
      "text/plain": [
       "<IPython.core.display.HTML object>"
      ]
     },
     "metadata": {},
     "output_type": "display_data"
    }
   ],
   "source": [
    " %run -i {path2}/test08.py"
   ]
  },
  {
   "cell_type": "code",
   "execution_count": null,
   "metadata": {},
   "outputs": [],
   "source": []
  }
 ],
 "metadata": {
  "colab": {
   "provenance": []
  },
  "kernelspec": {
   "display_name": "Python 3 (ipykernel)",
   "language": "python",
   "name": "python3"
  },
  "language_info": {
   "codemirror_mode": {
    "name": "ipython",
    "version": 3
   },
   "file_extension": ".py",
   "mimetype": "text/x-python",
   "name": "python",
   "nbconvert_exporter": "python",
   "pygments_lexer": "ipython3",
   "version": "3.11.4"
  }
 },
 "nbformat": 4,
 "nbformat_minor": 4
}
