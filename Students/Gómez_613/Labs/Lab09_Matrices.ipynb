{
  "cells": [
    {
      "cell_type": "markdown",
      "metadata": {
        "id": "PLwucYoy4N0m"
      },
      "source": [
        "<a href=\"https://colab.research.google.com/github/hernansalinas/autogrades/blob/main/Laboratorios_Taller/Lab09_Matrices.ipynb\" target=\"_parent\"><img src=\"https://colab.research.google.com/assets/colab-badge.svg\" alt=\"Open In Colab\"/></a>"
      ]
    },
    {
      "cell_type": "code",
      "execution_count": 2,
      "metadata": {
        "metadata": {}
      },
      "outputs": [],
      "source": [
        "import numpy as np\n",
        "import sympy as sp\n",
        "import matplotlib.pyplot as plt"
      ]
    },
    {
      "cell_type": "markdown",
      "metadata": {
        "id": "SU1TpwPkcufT"
      },
      "source": [
        "# Laboratorio 09 Matrices\n",
        "\n",
        "#### Métodos computacionales para físicos  y astrónomos\n",
        "#### Universidad de Antioquia\n",
        "#### Prof: Hernan D. Salinas Jiménez & Juan Marcos Marín Ramírez"
      ]
    },
    {
      "cell_type": "markdown",
      "metadata": {
        "id": "5TEoJvENdGb7"
      },
      "source": [
        "## Punto 1: **Modelo de encriptación**\n",
        "\n",
        "\n",
        "Un proceso para encriptar un mensaje secreto es usar cierta matriz cuadrada cuyos elementos son enteros con elementos enteros en la inversa. Se recibe un mensaje, se asigna un número a cada letra Por ejemplo, A=1, B=2, C=3, ... etc. y espacio=27, se arreglan los números en una matriz de izquierda a derecha en cada fila, donde el número de elementos en la fila es igual al tamaño de la matriz de código, se multiplica esa matriz por la matriz de código por la derecha, se transcribe el mensaje en una cadena de números y se manda el mensaje.\n",
        "\n",
        "La persona que debe recibir el mensaje conoce la matriz de código. El o ella arreglan el mensaje encriptado en una matriz de izquierda a derecha en cada fila, en donde el número de elementos en una fila conicide con el tamaño de la matriz de código multiplicada por la derecha, por el inverso de la matriz de código y puede leer mensaje decodificado.\n",
        "\n",
        "Usted a recibido el siguiente mensaje que fue encriptado usando la matriz A. Decodifiquelo.\n",
        "\n",
        "```\n",
        "matrix([[ 1,  2, -3,  4,  5],\n",
        "        [-2, -5,  8, -8, -9],\n",
        "        [ 1,  2, -2,  7,  9],\n",
        "        [ 1,  1,  0,  6, 12],\n",
        "        [ 2,  4, -6,  8, 11]])\n",
        "```\n",
        "\n",
        "Mensaje\n",
        "\n",
        "```\n",
        "47,49,-19,257,487,10,-9,63,137,236, 79,142,-184,372,536,59,70,-40,332,588,\n",
        "```\n",
        "\n",
        "\n",
        "la primera fila del mensaje es `47,49,-19,257,487`\n",
        "\n",
        "*¿Cual es el mensaje?*"
      ]
    },
    {
      "cell_type": "code",
      "execution_count": 3,
      "metadata": {
        "id": "iWv1kbiZch_Z",
        "metadata": {}
      },
      "outputs": [
        {
          "data": {
            "text/plain": [
              "'are you having fun  '"
            ]
          },
          "execution_count": 3,
          "metadata": {},
          "output_type": "execute_result"
        }
      ],
      "source": [
        "m=np.matrix([[1,2,-3,4,5],\n",
        "            [-2,-5,8,-8,-9],\n",
        "            [1,2,-2,7,9],\n",
        "            [1,1,0,6,12],\n",
        "            [2,4,-6,8,11]])\n",
        "\n",
        "deco=m.I\n",
        "\n",
        "mensaje=np.matrix([[47,49,-19,257,487],\n",
        "                [10,-9,63,137,236],\n",
        "                [79,142,-184,372,536],\n",
        "                [59,70,-40,332,588]])\n",
        "\n",
        "r=mensaje@deco\n",
        "r=np.round(r).astype(int)\n",
        "\n",
        "alpha={1:'a',2:'b',3:'c',4:'d',5:'e',6:'f',7:'g',8:'h',9:'i',\n",
        "       10:'j',11:'k',12:'l',13:'m',14:'n',15:'o',16:'p',17:'q',18:'r',\n",
        "       19:'s',20:'t',21:'u',22:'v',23:'w',24:'x',25:'y',26:'z',27:' '}\n",
        "\n",
        "message=''\n",
        "for i in range(np.shape(r[:,0])[0]):\n",
        "    for j in range(np.shape(r[0,:])[1]):\n",
        "       message+=alpha[r[i,j]]\n",
        "       \n",
        "message"
      ]
    },
    {
      "cell_type": "markdown",
      "metadata": {
        "id": "3cfNt2WrdUVZ"
      },
      "source": [
        "## Punto 2: **Operaciones matricial con regresión lineal.**\n",
        "\n",
        "Cuando se desea hacer una regresión lineal multivariada, existen diferentes formas de realizar la regresión, una de ellas es encontrar el error cuadrático medio y minimizar el conjunto de parámetros de la regresión emplando algún método de minimización; otra forma es encontrar la expresión analítica en forma matricial, para determinar el conjunto de parámetros de la regresión. En este último caso, la regresión lineal viene dada por la siguiente expresion generalizada:\n",
        "\n",
        "$$\\Theta = (X^T X)^{-1} X^T y$$\n",
        "\n",
        "donte $\\Theta$ es la matriz de parametros asociados a la regresión lineal, $X$ la matriz de características y $y$ los valos esperados, así, si tenemos una conjunto de datos en $N$ dimensiones; la recta, plano o hiperplano puede ser calculado como:\n",
        "\n",
        "$$Y=\\Theta X^T$$\n",
        "\n",
        "En el caso de dos dimensiones, supongamos que $X$, e $Y$ presentan un comportamiento lineal, y vienen dados por (en este caso el super indice es):\n",
        "\n",
        "- Sea $\\vec{X}=x^{(1)}, x^{(2)}, x^{(3)}, x^{(4)}, ..., x^{(m)}$\n",
        "- Sea $\\vec{Y}=y^{(1)}, y^{(2)}, y^{(3)}, y^{(4)}, ..., y^{(m)}$\n",
        "\n",
        "Para determinar la ecuación de la recta, hay que conocer los párametros $\\theta_0 $, $\\theta_1$, que cumplen que :   $y^{(i)} = \\theta_1 x^{(i)} + \\theta_0$ la anterior expresión puede ser escrita como:\n",
        "\n",
        "\\begin{equation}\n",
        "\\begin{bmatrix}\n",
        "y^{(1)}\\\\\n",
        "y^{(2)}\\\\\n",
        "\\vdots\\\\\n",
        "y^{(m)}\\\\\n",
        "\\end{bmatrix}=\n",
        "\\begin{bmatrix}\n",
        "\\theta_0 & \\theta_1 \\\\\n",
        "\\end{bmatrix}\n",
        "\\begin{bmatrix}\n",
        "1 & 1 & \\cdots & 1 \\\\\n",
        "x_1^{(1)} & x_1^{(2)} & \\cdots & x_1^{(m)} \\\\\n",
        "\\end{bmatrix}\n",
        "\\end{equation}\n",
        "\n",
        "Para determinar la matriz de theta entonces se puede aplicar la ecuación:\n",
        "\n",
        "$$\\Theta = (X^T X)^{-1} X^T y$$\n",
        "\n",
        "donde:\n",
        "\\begin{equation}\n",
        "X=\n",
        "\\begin{bmatrix}\n",
        "1 & x_1^{(1)} \\\\\n",
        "1 & x_1^{(2)} \\\\\n",
        "\\vdots & \\vdots \\\\\n",
        "1 & x_1^{(m)}\n",
        "\\end{bmatrix}\n",
        "\\end{equation}\n",
        "\n",
        "y\n",
        "\n",
        "\\begin{equation}\n",
        "y=\n",
        "\\begin{bmatrix}\n",
        "y^{(1)} \\\\\n",
        "y^{(2)} \\\\\n",
        "\\vdots\\\\\n",
        "y^{(m)}\n",
        "\\end{bmatrix}\n",
        "\\end{equation}\n",
        "\n",
        "Su tarea será construir un programa que realice la regresión lineal para los siguientes puntos:\n",
        "```python\n",
        "N = 10\n",
        "x1 = np.linspace(0, 10, N)\n",
        "noise=2*np.random.random(N)-1\n",
        "y = 0.9*x1 + noise\n",
        "```"
      ]
    },
    {
      "cell_type": "code",
      "execution_count": 4,
      "metadata": {
        "id": "kOkh1nsj0jVr",
        "metadata": {}
      },
      "outputs": [],
      "source": [
        "N = 10\n",
        "x1 = np.linspace(0, 10, N)\n",
        "noise=2*np.random.random(N)-1\n",
        "y = 0.9*x1 + noise"
      ]
    },
    {
      "cell_type": "code",
      "execution_count": 5,
      "metadata": {
        "metadata": {}
      },
      "outputs": [
        {
          "data": {
            "text/plain": [
              "(array([[ 1.        ,  0.        ],\n",
              "        [ 1.        ,  1.11111111],\n",
              "        [ 1.        ,  2.22222222],\n",
              "        [ 1.        ,  3.33333333],\n",
              "        [ 1.        ,  4.44444444],\n",
              "        [ 1.        ,  5.55555556],\n",
              "        [ 1.        ,  6.66666667],\n",
              "        [ 1.        ,  7.77777778],\n",
              "        [ 1.        ,  8.88888889],\n",
              "        [ 1.        , 10.        ]]),\n",
              " array([-0.70980686,  0.78331273,  2.59252972,  2.9967756 ,  4.93968035,\n",
              "         4.00630456,  5.33042456,  7.47525764,  8.93629243,  8.31561152]))"
            ]
          },
          "execution_count": 5,
          "metadata": {},
          "output_type": "execute_result"
        }
      ],
      "source": [
        "X=np.zeros((len(x1),2))\n",
        "X[:,0]=1\n",
        "X[:,1]=x1\n",
        "X,y"
      ]
    },
    {
      "cell_type": "code",
      "execution_count": 6,
      "metadata": {
        "metadata": {}
      },
      "outputs": [
        {
          "data": {
            "text/plain": [
              "array([-0.13647543,  0.92062273])"
            ]
          },
          "execution_count": 6,
          "metadata": {},
          "output_type": "execute_result"
        }
      ],
      "source": [
        "theta=np.linalg.inv(X.T@X)@X.T@y\n",
        "theta"
      ]
    },
    {
      "cell_type": "code",
      "execution_count": 7,
      "metadata": {
        "metadata": {}
      },
      "outputs": [
        {
          "data": {
            "text/plain": [
              "array([-0.13647543,  0.88643872,  1.90935286,  2.93226701,  3.95518115,\n",
              "        4.9780953 ,  6.00100944,  7.02392359,  8.04683773,  9.06975188])"
            ]
          },
          "execution_count": 7,
          "metadata": {},
          "output_type": "execute_result"
        }
      ],
      "source": [
        "Y=theta@X.T\n",
        "Y"
      ]
    },
    {
      "cell_type": "code",
      "execution_count": 8,
      "metadata": {
        "metadata": {}
      },
      "outputs": [
        {
          "data": {
            "text/plain": [
              "<matplotlib.legend.Legend at 0x2e6e49d1610>"
            ]
          },
          "execution_count": 8,
          "metadata": {},
          "output_type": "execute_result"
        },
        {
          "data": {
            "image/png": "[encoded data removed]",
            "text/plain": [
              "<Figure size 640x480 with 1 Axes>"
            ]
          },
          "metadata": {},
          "output_type": "display_data"
        }
      ],
      "source": [
        "plt.plot(x1,y,'o',label='Datos')\n",
        "plt.plot(x1,Y.T,'r--',label='Regresión lineal')\n",
        "plt.title('Regresión lineal')\n",
        "plt.grid()\n",
        "plt.legend()"
      ]
    },
    {
      "cell_type": "markdown",
      "metadata": {},
      "source": [
        "Generalice para el siguiente problema bidimensional:\n",
        "\n",
        "```python\n",
        "N = 10\n",
        "x1 = np.linspace(-1, 1, N)\n",
        "x2 = np.linspace(-2, 2, N)\n",
        "noise1=2*np.random.random(N)-1\n",
        "noise2=2*np.random.random(N)-1\n",
        "y = 2*(x1+noise1) - 3*(x2+noise2) + 0.0 #+ 4*np.random.random(100)\n",
        "\n",
        "N = 10\n",
        "X1, X2 = np.meshgrid(x1,x2)\n",
        "Y = 2*X1 - 3*X2 + 0.0\n",
        "fig, ax = plt.subplots(subplot_kw={\"projection\": \"3d\"})\n",
        "surf = ax.plot_surface(X1, X2, Y)\n",
        "#scatter = ax.scatter(x1, x2, y,\"-\")\n",
        "```"
      ]
    },
    {
      "cell_type": "code",
      "execution_count": 9,
      "metadata": {
        "metadata": {}
      },
      "outputs": [
        {
          "data": {
            "image/png": "[encoded data removed]",
            "text/plain": [
              "<Figure size 640x480 with 1 Axes>"
            ]
          },
          "metadata": {},
          "output_type": "display_data"
        }
      ],
      "source": [
        "N = 16\n",
        "x1_ = np.linspace(-1, 1, N)\n",
        "x2_ = np.linspace(-2, 2, N)\n",
        "noise1_=2*np.random.random(N)-1\n",
        "noise2_=2*np.random.random(N)-1\n",
        "y_ = 2*(x1_+noise1_) - 3*(x2_+noise2_)#+ 4*np.random.random(N)\n",
        "\n",
        "X_=np.zeros((len(x1_),3))\n",
        "X_[:,0]=1\n",
        "X_[:,1]=x1_\n",
        "X_[:,2]=x2_\n",
        "X_,y_\n",
        "\n",
        "theta_=np.linalg.inv(X_.T@X_)@X_.T@y_\n",
        "\n",
        "Y_=theta_@X_.T\n",
        "\n",
        "X1, X2 = np.meshgrid(x1_,x2_)\n",
        "Y = 2*X1 - 3*X2 + 0.0\n",
        "fig, ax = plt.subplots(subplot_kw={\"projection\": \"3d\"})\n",
        "surf = ax.plot_surface(X1, X2, Y)\n",
        "scatter = ax.scatter(x1_, x2_, y_,\"-\")"
      ]
    },
    {
      "cell_type": "markdown",
      "metadata": {
        "id": "Ajzpg16pd-Ul"
      },
      "source": [
        "## Punto 3: **Diagonalización**.\n",
        "\n",
        "Se sabe que un sistema físico es gobernado por las ecuaciones,\n",
        "\n",
        "\n",
        "\n",
        "$$\n",
        "\\begin{matrix}\n",
        "x' &=& 2x&-y&+z, \\\\\n",
        "y' &=&   &3y&-1z, \\\\\n",
        "z' &=& 2x&+y&+3z,\n",
        "\\end{matrix}\n",
        "$$\n",
        "\n",
        "donde $x',y',z'$ son las derivadas, en forma vectorial esto se puede representar como $\\mathbf{r}'=A\\mathbf{r}$ que tiene solución analítica general, $\\mathbf{r} = e^{At} \\mathbf{r}(0)$.\n",
        "\n",
        "a) Diagonalize $A$.\n",
        "\n",
        "b) Use el hecho de que $f(A) =U f(D) U^{-1}$ para encontrar $x(t),y(t),z(t)$ en el intervalo de tiempo $[0,2]$.\n",
        "\n",
        "c) Grafique $x(t),y(t),z(t)$ (use la condición inicial $\\mathbf{r}(0)=(1,1,2))$.\n",
        "\n",
        "d) Compare el resultado a la solución analítica,\n",
        "\n",
        "$$\n",
        "\\begin{align}\n",
        "2x & = x(0)(e^{2t}(1+e^{2t}-2t)) + y(0) (-2te^{2t}) + z(0)(e^{2t}(-1+e^{2t})), \\\\\n",
        "2y & = x(0)(-e^{2t}(-1+e^{2t}-2t)) + y(0)(2(t+1)e^{2t}) + z(0)(-e^{2t}(-1+e^{2t})), \\\\\n",
        "2z & = x(0)(e^{2t}(-1+e^{2t}+2t)) + y(0)(2te^{2t}) + z(0)(e^{2t}(1+e^{2t})).\n",
        "\\end{align}\n",
        "$$"
      ]
    },
    {
      "cell_type": "code",
      "execution_count": 10,
      "metadata": {
        "id": "gFlAdeASeQnu"
      },
      "outputs": [
        {
          "name": "stdout",
          "output_type": "stream",
          "text": [
            "Autovector para λ=4.0: {v1: v3, v2: -v3}\n",
            "Autovector para λ=2.0: {v1: -v3, v2: v3}\n",
            "Autovector para λ=2.0: {v1: -v3, v2: v3}\n"
          ]
        },
        {
          "data": {
            "text/plain": [
              "array([[4., 0., 0.],\n",
              "       [0., 2., 0.],\n",
              "       [0., 0., 2.]])"
            ]
          },
          "execution_count": 10,
          "metadata": {},
          "output_type": "execute_result"
        }
      ],
      "source": [
        "x,y,z=sp.symbols('x,y,z',cls=sp.Function)\n",
        "t,λ,v1,v2,v3=sp.symbols('t,λ,v1,v2,v3')\n",
        "\n",
        "x=x(t)\n",
        "y=y(t)\n",
        "z=z(t)\n",
        "\n",
        "A=sp.Matrix([[2,-1,1],[0,3,-1],[2,1,3]])\n",
        "#A=sp.Matrix([[6, 2, 1],[0, 3, -1],[0, 0, 2]])\n",
        "I=sp.eye(3)\n",
        "\n",
        "r=sp.Matrix([[x],[y],[z]])\n",
        "rp=sp.Matrix([[sp.diff(x,t)],[sp.diff(y,t)],[sp.diff(z,t)]])\n",
        "\n",
        "Aλ_I=A-λ*sp.eye(len(A[0,:]))                    #A-λI\n",
        "Apol=sp.det(Aλ_I)                               #polinomio característico\n",
        "\n",
        "root=sp.roots(Apol)                             #autovalores\n",
        "roots=np.zeros(len(A[0,:]))\n",
        "for i,j in enumerate(root):                     #este ciclo es para crear la matriz D, cuando A tiene\n",
        "    roots[i]=j                                  #valores propios con multiplicidad mayor que 1\n",
        "    if root[j]>1:\n",
        "        for _ in range(root[j]):\n",
        "            roots[i+_]=j\n",
        "\n",
        "D=np.diag(roots)                                 #matriz diagonal\n",
        "\n",
        "v=sp.Matrix([[v1],[v2],[v3]])\n",
        "\n",
        "for i in range(len(A[0,:])):\n",
        "    sis=A@v-roots[i]*v\n",
        "    print(f'Autovector para λ={roots[i]}: {sp.solve(sis)}')     #vectores propios para cada valor propio\n",
        "D"
      ]
    },
    {
      "cell_type": "markdown",
      "metadata": {},
      "source": [
        "Es decir que los vectores propios de $A$ son $v_1=(1,-1,1)$, $v_2=(-1,1,1)$ y $v_3=(-1,1,1)$. De este modo,"
      ]
    },
    {
      "cell_type": "code",
      "execution_count": 11,
      "metadata": {},
      "outputs": [
        {
          "data": {
            "text/plain": [
              "{4: 1, 2: 2}"
            ]
          },
          "execution_count": 11,
          "metadata": {},
          "output_type": "execute_result"
        }
      ],
      "source": [
        "A.eigenvects()\n",
        "A.eigenvals()\n",
        "\n",
        "#P,d=A.diagonalize()\n",
        "#Pinv=P.inv()\n",
        "#m=P@d@Pinv\n",
        "#m\n",
        "\n",
        "#La matriz del problema es una matriz que no es diagonalizable, intenté cambiarle algunos signos\n",
        "#a ver si era por eso pero ninguna combinación que hice resultó en la matriz original cuando hacía\n",
        "#PDP^-1, daban cosas totalmente diferentes. Hasta Wolfram me dice que no es diagonalizable, pero que\n",
        "#sí tiene descomposición de Jordan. Pero eso es otra cosa"
      ]
    },
    {
      "cell_type": "markdown",
      "metadata": {
        "id": "VCfTmYWleO0V"
      },
      "source": [
        "## Punto 4: **Modelo de población de una especie de pájaros**\n",
        "Se estudiará un modelo de crecimiento de la poblacion para una especie de pájaros. En esta población se supone que el número de pajaros hembras es igual al número de machos.  Sea :\n",
        "- $p_{j,n-1}$ la población juvenil (inmadura) de hembras en el año (n-1)\n",
        "- $p_{a,n-1}$ el número de hembras adultas en el mismo año.\n",
        "\n",
        "Algunos de los pájaros jóvenes morirán  durante el año. Se suponen que cierta proporción de pájaros $\\alpha$ de los pájaros jóvenes sobrevivirán para llegar a adultos en la primavera del año $n$. Cada hembra que sobrevive prdocuce huevos en la primavera, los incuban y producen, en promedio, $k$ pájaros hembras jóvenes en al siguiente primavera. Los adultos también mueren y la proporcion de adultos que sobrevive de una primavera a la siguiente es $\\beta$.\n",
        "\n",
        "Un modelo para el crecimiento poblacional de pájaros\n",
        "\\begin{equation}\n",
        "p_{j,n} = kp_{a, n-1}\n",
        "\\end{equation}\n",
        "\n",
        "\n",
        "\\begin{equation}\n",
        "p_{a,n} =\\alpha p_{j,n-1} + \\beta p_{a, n-1}\n",
        "\\end{equation}\n",
        "\n",
        "Que puede ser escrita como ${\\bf p_n}=A{\\bf p_{n-1}}$, Siendo A la matrix definida en las ecuaciones anteriores, y ${\\bf p_n}$ un vector. Para la evolución temporal se cumple que:\n",
        "\n",
        "- ${\\bf p_1}=A{\\bf p_{0}}$, ${\\bf p_2}=A{\\bf p_{1}}= A(A{\\bf p_0})=A^2{\\bf p_{0}}$ $...$ y asi sucesivamente. Entonces:\n",
        "\n",
        "\\begin{equation}\n",
        "{\\bf p_n} = A^n {\\bf p_{0}}\n",
        "\\end{equation}\n",
        "\n",
        "\n",
        "Supongamos que tenemos 10 hembras  (y 10 machos) adultos y no hay jóvenes, y que la matriz A viene dada por:\n",
        "\n",
        "\\begin{bmatrix}\n",
        "0 & 2 \\\\\n",
        "0.3 & 0.5\n",
        "\\end{bmatrix}\n",
        "\n",
        "para la primera poblacion $p_{j,1}=20$, $p_{a,1}=5$, el total de hembras es 25 y la razón jóvenes adultas es de 4 a 1. Muestre que la razón $p_{j,n}/p_{a,n}$ converge $1.88$,(como no se puede tener un número racional de pájaros, aproxime siempre el resultados al menor entero).\n",
        "\n",
        "- Para la  solución general del modelo del problema de valores y vectores propios\n",
        "se tiene que:\n",
        "\\begin{equation}\n",
        "p_n=\\lambda_1^n\\left [ a_1 \\vec{v}_1 +\\left( \\frac{\\lambda_2}{\\lambda_1} \\right)^n \\right]a_2 \\vec{v}_2\n",
        "\\end{equation}\n",
        "\n",
        "Asumiendo que $\\lambda_2/ \\lambda_1 < 1$, entonces $(\\lambda_2/ \\lambda_1)^n << 1$ cuando $n$ crece.  Entonces para $n$ grande se cumple que:\n",
        "\n",
        "donde $p_n=a_1\\lambda_1^n\\vec{v}_1$\n",
        "\n",
        "\n",
        "donde:\n",
        "\n",
        "${\\bf p_0} = a_1 \\vec{v}_1 + a_2 \\vec{v}_2$, con $v_1$ y $v_2$ vectores propios de A"
      ]
    },
    {
      "cell_type": "code",
      "execution_count": 70,
      "metadata": {
        "id": "V5W0bcGy0pNJ"
      },
      "outputs": [],
      "source": [
        "λ=sp.symbols('λ')\n",
        "B=sp.Matrix([[0,2],[0.3,0.5]])\n",
        "\n",
        "Aλ_I=B-λ*sp.eye(len(B[0,:]))                    #A-λI\n",
        "Apol=sp.det(Aλ_I)                               #polinomio característico\n",
        "\n",
        "root=sp.roots(Apol)                             #autovalores\n",
        "lambs=np.zeros(len(B[0,:]))\n",
        "for i,j in enumerate(root):                     #este ciclo es para crear la matriz D, cuando A tiene\n",
        "    lambs[i]=j                                  #valores propios con multiplicidad mayor que 1\n",
        "    if root[j]>1:\n",
        "        for _ in range(root[j]):\n",
        "            lambs[i+_]=j\n",
        "\n",
        "D=np.diag(lambs)                                 #matriz diagonal\n",
        "\n",
        "vec=B.eigenvects()\n",
        "\n",
        "v1=vec[0][2][0]\n",
        "v2=vec[1][2][0]"
      ]
    },
    {
      "cell_type": "markdown",
      "metadata": {},
      "source": [
        "Ahora, para hallar $\\bf P_0$, debemos hallar $a_1$ y $a_2$"
      ]
    },
    {
      "cell_type": "code",
      "execution_count": 72,
      "metadata": {},
      "outputs": [
        {
          "data": {
            "text/plain": [
              "(1.88247341848434, 1)"
            ]
          },
          "execution_count": 72,
          "metadata": {},
          "output_type": "execute_result"
        }
      ],
      "source": [
        "a1,a2=sp.symbols('a_1,a_2')\n",
        "\n",
        "po=sp.Matrix([[20],[5]])\n",
        "\n",
        "eq1=sp.Eq(a1*v1[0]+a2*v2[0],po[0])\n",
        "eq2=sp.Eq(a1*v1[1]+a2*v2[1],po[1])\n",
        "\n",
        "sol=sp.solve((eq1,eq2),(a1,a2))\n",
        "coef=np.zeros(2)\n",
        "for i,j in enumerate(sol.items()):\n",
        "    coef[i]=j[1]\n",
        "\n",
        "a_1=coef[0]\n",
        "a_2=coef[1]\n",
        "\n",
        "def pn(n):\n",
        "    return lambs[0]**n*a_1*v1+lambs[1]**n*a_2*v2\n",
        "\n",
        "conv=pn(10)[0]/pn(10)[1]\n",
        "\n",
        "conv,np.floor(conv)"
      ]
    }
  ],
  "metadata": {
    "colab": {
      "provenance": []
    },
    "kernelspec": {
      "display_name": "Python 3 (ipykernel)",
      "language": "python",
      "name": "python3"
    },
    "language_info": {
      "codemirror_mode": {
        "name": "ipython",
        "version": 3
      },
      "file_extension": ".py",
      "mimetype": "text/x-python",
      "name": "python",
      "nbconvert_exporter": "python",
      "pygments_lexer": "ipython3",
      "version": "3.11.9"
    }
  },
  "nbformat": 4,
  "nbformat_minor": 0
}
