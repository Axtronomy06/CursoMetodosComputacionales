{
 "cells": [
  {
   "cell_type": "markdown",
   "metadata": {
    "id": "kKNBYkSAIO_-"
   },
   "source": [
    "<a href=\"https://colab.research.google.com/github/hernansalinas/autogrades/blob/main/Laboratorios_Taller/Lab02_python_basico02.ipynb\" target=\"_parent\"><img src=\"https://colab.research.google.com/assets/colab-badge.svg\" alt=\"Open In Colab\"/></a>\n",
    "\n",
    "\n",
    "# Laboratorio 02\n",
    "### Métodos computacionales para físicos  y astrónomos\n",
    "### Universidad de Antioquia\n",
    "### Prof: Hernan D. Salinas Jiménez\n",
    "\n"
   ]
  },
  {
   "cell_type": "code",
   "execution_count": 2,
   "metadata": {
    "colab": {
     "base_uri": "https://localhost:8080/"
    },
    "id": "TFmOxrpqWCiE",
    "outputId": "facabc7a-8b14-458a-f9ae-7ed33da7b342",
    "tags": []
   },
   "outputs": [
    {
     "name": "stderr",
     "output_type": "stream",
     "text": [
      "fatal: destination path 'autogradesMetodosComputacionales' already exists and is not an empty directory.\n"
     ]
    }
   ],
   "source": [
    "# Ejecutar esta celda antes de cada laboratorio\n",
    "!git clone https://github.com/hernansalinas/autogradesMetodosComputacionales.git"
   ]
  },
  {
   "cell_type": "code",
   "execution_count": 3,
   "metadata": {
    "id": "5tCaVJVzIRe3",
    "tags": []
   },
   "outputs": [
    {
     "name": "stderr",
     "output_type": "stream",
     "text": [
      "C:\\Users\\CristianGómez\\OneDrive - Universidad de Antioquia\\Materias\\Semestre 5\\Métodos computacionales\\Labs\\autogradesMetodosComputacionales\\Laboratorios_Taller\\libs\\libUnitTest.py:3: DeprecationWarning: Importing display from IPython.core.display is deprecated since IPython 7.14, please import from IPython display\n",
      "  from IPython.core.display import display, HTML\n"
     ]
    }
   ],
   "source": [
    "# Ejecutar esta celda antes de cada laboratorio\n",
    "path=\"autogradesMetodosComputacionales/Laboratorios_Taller/libs\"\n",
    "pathL=\"autogradesMetodosComputacionales/Laboratorios_Taller/libs/Lab_02\"\n",
    "%run -i {path}/libUnitTest.py"
   ]
  },
  {
   "cell_type": "markdown",
   "metadata": {
    "id": "l--LTzupJe4I"
   },
   "source": [
    "## Problemas\n",
    "\n",
    "### Factorial\n",
    "1. Elaborar un algoritmo e implementar en python, el factorial de un número entero `n` ingresado por el usuario.\n",
    "\n",
    "1. Si el número es un entero deberá retornal el factorial del número.\n",
    "2. Si el número es negativo deberá aparecer un mensaje tipo string con el mensaje  \"el número no puede ser negativo\"\n",
    "\n",
    "3. Si el número es pertenece a los reales(float) el mensaje será, el número no puede ser real.\n",
    "\n",
    "### Ejemplo de Ejecución\n",
    "```python\n",
    "\n",
    "    >>> factorial(3)\n",
    "        6\n",
    "\n",
    "    >>> factorial(1987123)\n",
    "        =???\n",
    "```\n"
   ]
  },
  {
   "cell_type": "code",
   "execution_count": 4,
   "metadata": {
    "tags": []
   },
   "outputs": [],
   "source": [
    "def factorial(n):\n",
    "    if n<0:\n",
    "        return 'el número no puede ser negativo'\n",
    "    elif type(n)==float:\n",
    "        return 'el número no puede ser real'\n",
    "    elif type(n)==int:\n",
    "        l=[n for n in range(1,n+1)]\n",
    "        num=1\n",
    "        for i in l:\n",
    "            num*=l[i-1]\n",
    "        return num"
   ]
  },
  {
   "cell_type": "code",
   "execution_count": 5,
   "metadata": {
    "colab": {
     "base_uri": "https://localhost:8080/"
    },
    "id": "Z_yv_5NEMRqp",
    "outputId": "c955c0fc-d362-4910-9543-070f38588556",
    "tags": []
   },
   "outputs": [
    {
     "data": {
      "text/html": [
       "<style>\n",
       "  table { text-align: left; border-collapse: collapse; margin: 1em; caption-side: bottom; font-family: Sans-Serif; font-size: 12px}\n",
       "  caption { text-align: left; padding: 5px }\n",
       "  th, td { border: 2px solid #BFC9CA; padding: 5px }\n",
       "  th { background-color: #BFC9CA }\n",
       "  .passed { background-color: #76D7C4 }\n",
       "  .failed { background-color: #EC7063 }\n",
       "  .skipped { background-color: #EDBB99 }\n",
       "  .score { background-color: #7DCEA0 }\n",
       "  .results .points { display: none }\n",
       "  .results .message { display: block; font-size:smaller; color:#D35400 }\n",
       "  .results .note { display: block; font-size:smaller; font-decoration:italics }\n",
       "  .results .passed::before  { content: \"Passed\" } \n",
       "  .results .skipped::before  { content: \"Skipped\" } \n",
       "  .results .failed::before  { content: \"Failed\" } \n",
       "  .grade .passed  .message:empty::before { content:\"Passed\" }\n",
       "  .grade .failed  .message:empty::before { content:\"Failed\" }\n",
       "  .grade .skipped .message:empty::before { content:\"Skipped\" }   \n",
       "</style>\n",
       "<table class='results'>\n",
       "  <th class='test'>Test</th><th class='result'>Result</th></tr>\n",
       "<tr>\n",
       "  <td class='test'>\n",
       "    Calcular  el  factorial de un número entero \n",
       "    <div class='message'>Done</div>\n",
       "  </td>\n",
       "  <td class='result passed'></td>\n",
       "</tr>\n",
       "<tr>\n",
       "  <td class='test'>\n",
       "    Prueba para valores negativos \n",
       "    <div class='message'>Done</div>\n",
       "  </td>\n",
       "  <td class='result passed'></td>\n",
       "</tr>\n",
       "<tr>\n",
       "  <td class='test'>\n",
       "    Prueba para valores reales \n",
       "    <div class='message'>Done</div>\n",
       "  </td>\n",
       "  <td class='result passed'></td>\n",
       "</tr>\n",
       "<tr>\n",
       "  <td class='test'>\n",
       "    Prueba para el factorial de 0 \n",
       "    <div class='message'>Done</div>\n",
       "  </td>\n",
       "  <td class='result passed'></td>\n",
       "</tr>  <tr><th class='score'>Total Points</th><th class='score'>4</th></tr></table>\n"
      ],
      "text/plain": [
       "<IPython.core.display.HTML object>"
      ]
     },
     "metadata": {},
     "output_type": "display_data"
    }
   ],
   "source": [
    "%run -i {pathL}/test01.py"
   ]
  },
  {
   "cell_type": "markdown",
   "metadata": {
    "id": "Y94jQ_tzdU6l"
   },
   "source": [
    "### Teoria de números\n",
    "\n",
    "Los enunciados 2 y 3 se refieren a la siguiente información:\n",
    "\n",
    "Diseñar un programa en el que entrado  un numero `a`  retorne una variable booleana True or false si cumple que es:\n",
    "\n",
    "2. [Números defectivo](https://es.wikipedia.org/wiki/Número_defectivo) : la suma de los divisores propios es menor que el número.\n",
    "\n",
    "  La rutina se deberá llamar números_defectivos\n",
    "\n",
    "\n",
    "\n",
    "3. [Números abundantes](https://es.wikipedia.org/wiki/Número_abundante): la suma de los divisores es mayor que el número.\n",
    "\n",
    "  La rutina se deberá llamar números_abundantes\n",
    "\n",
    "\n",
    "\n",
    "4. [Números semiperfectos](https://es.wikipedia.org/wiki/N%C3%BAmero_semiperfecto) la suma de todos o algunos de los divisores propios es igual al número.\n",
    "\n",
    "  La rutina se debera llamar numeros_semiperfectos\n",
    "\n",
    "5. [Números perfectos](https://es.wikipedia.org/wiki/N%C3%BAmero_perfecto) la suma de todos sus divisores propios, excepto el mismo numero, es igual al número.\n",
    "\n",
    "   La rutina se deberá llamar numeros_perfectos\n",
    "\n",
    "\n",
    "6. [Números primos](https://es.wikipedia.org/wiki/N%C3%BAmero_primo) el número es divisible unicamente por sí mismo y por 1.\n",
    "   La rutina se deberá llamar numeros_primos\n",
    "\n",
    "\n",
    "Problema no obligatorio:\n",
    "\n",
    "P1. Retornar los 30 primeros números de cada clase"
   ]
  },
  {
   "cell_type": "code",
   "execution_count": 6,
   "metadata": {
    "tags": []
   },
   "outputs": [],
   "source": [
    "def numeros_defectivos(a):\n",
    "    suma=0\n",
    "    for i in range(1,a):\n",
    "        if a%i==0:\n",
    "            suma+=i\n",
    "    if a>suma:\n",
    "        return True\n",
    "    else:\n",
    "        return False"
   ]
  },
  {
   "cell_type": "code",
   "execution_count": 7,
   "metadata": {
    "colab": {
     "base_uri": "https://localhost:8080/",
     "height": 215
    },
    "id": "XSyDVlnzi9KL",
    "outputId": "7f5e672b-930b-4a60-f9ce-37a77fead65f",
    "tags": []
   },
   "outputs": [
    {
     "data": {
      "text/html": [
       "<style>\n",
       "  table { text-align: left; border-collapse: collapse; margin: 1em; caption-side: bottom; font-family: Sans-Serif; font-size: 12px}\n",
       "  caption { text-align: left; padding: 5px }\n",
       "  th, td { border: 2px solid #BFC9CA; padding: 5px }\n",
       "  th { background-color: #BFC9CA }\n",
       "  .passed { background-color: #76D7C4 }\n",
       "  .failed { background-color: #EC7063 }\n",
       "  .skipped { background-color: #EDBB99 }\n",
       "  .score { background-color: #7DCEA0 }\n",
       "  .results .points { display: none }\n",
       "  .results .message { display: block; font-size:smaller; color:#D35400 }\n",
       "  .results .note { display: block; font-size:smaller; font-decoration:italics }\n",
       "  .results .passed::before  { content: \"Passed\" } \n",
       "  .results .skipped::before  { content: \"Skipped\" } \n",
       "  .results .failed::before  { content: \"Failed\" } \n",
       "  .grade .passed  .message:empty::before { content:\"Passed\" }\n",
       "  .grade .failed  .message:empty::before { content:\"Failed\" }\n",
       "  .grade .skipped .message:empty::before { content:\"Skipped\" }   \n",
       "</style>\n",
       "<table class='results'>\n",
       "  <th class='test'>Test</th><th class='result'>Result</th></tr>\n",
       "<tr>\n",
       "  <td class='test'>\n",
       "    Números defectivos, la variable debe ser booleana  \n",
       "    <div class='message'>Done</div>\n",
       "  </td>\n",
       "  <td class='result passed'></td>\n",
       "</tr>\n",
       "<tr>\n",
       "  <td class='test'>\n",
       "    Comprobando si el número 13 es defectivo   \n",
       "    <div class='message'>Done</div>\n",
       "  </td>\n",
       "  <td class='result passed'></td>\n",
       "</tr>\n",
       "<tr>\n",
       "  <td class='test'>\n",
       "    Comprobando si el 6 es un número es defectivo   \n",
       "    <div class='message'>Done</div>\n",
       "  </td>\n",
       "  <td class='result passed'></td>\n",
       "</tr>  <tr><th class='score'>Total Points</th><th class='score'>3</th></tr></table>\n"
      ],
      "text/plain": [
       "<IPython.core.display.HTML object>"
      ]
     },
     "metadata": {},
     "output_type": "display_data"
    }
   ],
   "source": [
    "%run -i {pathL}/test02.py"
   ]
  },
  {
   "cell_type": "code",
   "execution_count": 8,
   "metadata": {
    "tags": []
   },
   "outputs": [],
   "source": [
    "def numeros_abundantes(a):\n",
    "    suma=0\n",
    "    for i in range(1,a):\n",
    "        if a%i==0:\n",
    "            suma+=i\n",
    "    if a<suma:\n",
    "        return True\n",
    "    else:\n",
    "        return False"
   ]
  },
  {
   "cell_type": "code",
   "execution_count": 9,
   "metadata": {
    "colab": {
     "base_uri": "https://localhost:8080/",
     "height": 215
    },
    "id": "DfHfIk0DkQev",
    "outputId": "d2ca69c0-3b14-44cb-e42e-6834d170e333",
    "tags": []
   },
   "outputs": [
    {
     "data": {
      "text/html": [
       "<style>\n",
       "  table { text-align: left; border-collapse: collapse; margin: 1em; caption-side: bottom; font-family: Sans-Serif; font-size: 12px}\n",
       "  caption { text-align: left; padding: 5px }\n",
       "  th, td { border: 2px solid #BFC9CA; padding: 5px }\n",
       "  th { background-color: #BFC9CA }\n",
       "  .passed { background-color: #76D7C4 }\n",
       "  .failed { background-color: #EC7063 }\n",
       "  .skipped { background-color: #EDBB99 }\n",
       "  .score { background-color: #7DCEA0 }\n",
       "  .results .points { display: none }\n",
       "  .results .message { display: block; font-size:smaller; color:#D35400 }\n",
       "  .results .note { display: block; font-size:smaller; font-decoration:italics }\n",
       "  .results .passed::before  { content: \"Passed\" } \n",
       "  .results .skipped::before  { content: \"Skipped\" } \n",
       "  .results .failed::before  { content: \"Failed\" } \n",
       "  .grade .passed  .message:empty::before { content:\"Passed\" }\n",
       "  .grade .failed  .message:empty::before { content:\"Failed\" }\n",
       "  .grade .skipped .message:empty::before { content:\"Skipped\" }   \n",
       "</style>\n",
       "<table class='results'>\n",
       "  <th class='test'>Test</th><th class='result'>Result</th></tr>\n",
       "<tr>\n",
       "  <td class='test'>\n",
       "    Números abundantes, la variable debe ser booleana  \n",
       "    <div class='message'>Done</div>\n",
       "  </td>\n",
       "  <td class='result passed'></td>\n",
       "</tr>\n",
       "<tr>\n",
       "  <td class='test'>\n",
       "    Comprobando si el número 108 es abundantes   \n",
       "    <div class='message'>Done</div>\n",
       "  </td>\n",
       "  <td class='result passed'></td>\n",
       "</tr>\n",
       "<tr>\n",
       "  <td class='test'>\n",
       "    Comprobando si el 3 es un número  abundante   \n",
       "    <div class='message'>Done</div>\n",
       "  </td>\n",
       "  <td class='result passed'></td>\n",
       "</tr>  <tr><th class='score'>Total Points</th><th class='score'>3</th></tr></table>\n"
      ],
      "text/plain": [
       "<IPython.core.display.HTML object>"
      ]
     },
     "metadata": {},
     "output_type": "display_data"
    }
   ],
   "source": [
    "%run -i {pathL}/test03.py"
   ]
  },
  {
   "cell_type": "code",
   "execution_count": 10,
   "metadata": {
    "tags": []
   },
   "outputs": [],
   "source": [
    "def numeros_semiperfectos(a):\n",
    "    suma=0\n",
    "    for i in range(1,a):\n",
    "        if a%i==0:\n",
    "            suma+=i\n",
    "            if suma>a:\n",
    "                return True\n",
    "    return suma==a"
   ]
  },
  {
   "cell_type": "code",
   "execution_count": 11,
   "metadata": {
    "id": "MJzLOXxHqKrz",
    "tags": []
   },
   "outputs": [
    {
     "data": {
      "text/html": [
       "<style>\n",
       "  table { text-align: left; border-collapse: collapse; margin: 1em; caption-side: bottom; font-family: Sans-Serif; font-size: 12px}\n",
       "  caption { text-align: left; padding: 5px }\n",
       "  th, td { border: 2px solid #BFC9CA; padding: 5px }\n",
       "  th { background-color: #BFC9CA }\n",
       "  .passed { background-color: #76D7C4 }\n",
       "  .failed { background-color: #EC7063 }\n",
       "  .skipped { background-color: #EDBB99 }\n",
       "  .score { background-color: #7DCEA0 }\n",
       "  .results .points { display: none }\n",
       "  .results .message { display: block; font-size:smaller; color:#D35400 }\n",
       "  .results .note { display: block; font-size:smaller; font-decoration:italics }\n",
       "  .results .passed::before  { content: \"Passed\" } \n",
       "  .results .skipped::before  { content: \"Skipped\" } \n",
       "  .results .failed::before  { content: \"Failed\" } \n",
       "  .grade .passed  .message:empty::before { content:\"Passed\" }\n",
       "  .grade .failed  .message:empty::before { content:\"Failed\" }\n",
       "  .grade .skipped .message:empty::before { content:\"Skipped\" }   \n",
       "</style>\n",
       "<table class='results'>\n",
       "  <th class='test'>Test</th><th class='result'>Result</th></tr>\n",
       "<tr>\n",
       "  <td class='test'>\n",
       "    Números semiperfectos, la variable debe ser booleana  \n",
       "    <div class='message'>Done</div>\n",
       "  </td>\n",
       "  <td class='result passed'></td>\n",
       "</tr>\n",
       "<tr>\n",
       "  <td class='test'>\n",
       "    Comprobando si el número 66 es semiperfectos   \n",
       "    <div class='message'>Done</div>\n",
       "  </td>\n",
       "  <td class='result passed'></td>\n",
       "</tr>\n",
       "<tr>\n",
       "  <td class='test'>\n",
       "    Comprobando si el 23 es un número  semiperfectos   \n",
       "    <div class='message'>Done</div>\n",
       "  </td>\n",
       "  <td class='result passed'></td>\n",
       "</tr>  <tr><th class='score'>Total Points</th><th class='score'>3</th></tr></table>\n"
      ],
      "text/plain": [
       "<IPython.core.display.HTML object>"
      ]
     },
     "metadata": {},
     "output_type": "display_data"
    }
   ],
   "source": [
    "%run -i {pathL}/test04.py"
   ]
  },
  {
   "cell_type": "code",
   "execution_count": 12,
   "metadata": {
    "tags": []
   },
   "outputs": [],
   "source": [
    "def numeros_perfectos(a):\n",
    "    suma=0\n",
    "    for i in range(1,a):\n",
    "        if a%i==0:\n",
    "            suma+=i\n",
    "    if suma==a:\n",
    "        return True\n",
    "    else:\n",
    "        return False"
   ]
  },
  {
   "cell_type": "code",
   "execution_count": 13,
   "metadata": {
    "id": "m9bNF9I6qMnD",
    "tags": []
   },
   "outputs": [
    {
     "data": {
      "text/html": [
       "<style>\n",
       "  table { text-align: left; border-collapse: collapse; margin: 1em; caption-side: bottom; font-family: Sans-Serif; font-size: 12px}\n",
       "  caption { text-align: left; padding: 5px }\n",
       "  th, td { border: 2px solid #BFC9CA; padding: 5px }\n",
       "  th { background-color: #BFC9CA }\n",
       "  .passed { background-color: #76D7C4 }\n",
       "  .failed { background-color: #EC7063 }\n",
       "  .skipped { background-color: #EDBB99 }\n",
       "  .score { background-color: #7DCEA0 }\n",
       "  .results .points { display: none }\n",
       "  .results .message { display: block; font-size:smaller; color:#D35400 }\n",
       "  .results .note { display: block; font-size:smaller; font-decoration:italics }\n",
       "  .results .passed::before  { content: \"Passed\" } \n",
       "  .results .skipped::before  { content: \"Skipped\" } \n",
       "  .results .failed::before  { content: \"Failed\" } \n",
       "  .grade .passed  .message:empty::before { content:\"Passed\" }\n",
       "  .grade .failed  .message:empty::before { content:\"Failed\" }\n",
       "  .grade .skipped .message:empty::before { content:\"Skipped\" }   \n",
       "</style>\n",
       "<table class='results'>\n",
       "  <th class='test'>Test</th><th class='result'>Result</th></tr>\n",
       "<tr>\n",
       "  <td class='test'>\n",
       "    Números perfectos, la variable debe ser booleana  \n",
       "    <div class='message'>Done</div>\n",
       "  </td>\n",
       "  <td class='result passed'></td>\n",
       "</tr>\n",
       "<tr>\n",
       "  <td class='test'>\n",
       "    Comprobando si el número 496 es perfecto   \n",
       "    <div class='message'>Done</div>\n",
       "  </td>\n",
       "  <td class='result passed'></td>\n",
       "</tr>\n",
       "<tr>\n",
       "  <td class='test'>\n",
       "    Comprobando si el 7 es un número  perfecto   \n",
       "    <div class='message'>Done</div>\n",
       "  </td>\n",
       "  <td class='result passed'></td>\n",
       "</tr>  <tr><th class='score'>Total Points</th><th class='score'>3</th></tr></table>\n"
      ],
      "text/plain": [
       "<IPython.core.display.HTML object>"
      ]
     },
     "metadata": {},
     "output_type": "display_data"
    }
   ],
   "source": [
    "%run -i {pathL}/test05.py"
   ]
  },
  {
   "cell_type": "code",
   "execution_count": 14,
   "metadata": {
    "tags": []
   },
   "outputs": [],
   "source": [
    "def numeros_primos(a):\n",
    "    div=[]\n",
    "    for i in range(2,a):\n",
    "        if a%i==0:\n",
    "            div.append(i)\n",
    "        if len(div)==0:\n",
    "            return True\n",
    "        else: \n",
    "            return False"
   ]
  },
  {
   "cell_type": "code",
   "execution_count": 15,
   "metadata": {
    "id": "4uRbgtG8qN25",
    "tags": []
   },
   "outputs": [
    {
     "data": {
      "text/html": [
       "<style>\n",
       "  table { text-align: left; border-collapse: collapse; margin: 1em; caption-side: bottom; font-family: Sans-Serif; font-size: 12px}\n",
       "  caption { text-align: left; padding: 5px }\n",
       "  th, td { border: 2px solid #BFC9CA; padding: 5px }\n",
       "  th { background-color: #BFC9CA }\n",
       "  .passed { background-color: #76D7C4 }\n",
       "  .failed { background-color: #EC7063 }\n",
       "  .skipped { background-color: #EDBB99 }\n",
       "  .score { background-color: #7DCEA0 }\n",
       "  .results .points { display: none }\n",
       "  .results .message { display: block; font-size:smaller; color:#D35400 }\n",
       "  .results .note { display: block; font-size:smaller; font-decoration:italics }\n",
       "  .results .passed::before  { content: \"Passed\" } \n",
       "  .results .skipped::before  { content: \"Skipped\" } \n",
       "  .results .failed::before  { content: \"Failed\" } \n",
       "  .grade .passed  .message:empty::before { content:\"Passed\" }\n",
       "  .grade .failed  .message:empty::before { content:\"Failed\" }\n",
       "  .grade .skipped .message:empty::before { content:\"Skipped\" }   \n",
       "</style>\n",
       "<table class='results'>\n",
       "  <th class='test'>Test</th><th class='result'>Result</th></tr>\n",
       "<tr>\n",
       "  <td class='test'>\n",
       "    Números primos, la variable debe ser booleana  \n",
       "    <div class='message'>Done</div>\n",
       "  </td>\n",
       "  <td class='result passed'></td>\n",
       "</tr>\n",
       "<tr>\n",
       "  <td class='test'>\n",
       "    Comprobando si el número 11 es primos   \n",
       "    <div class='message'>Done</div>\n",
       "  </td>\n",
       "  <td class='result passed'></td>\n",
       "</tr>\n",
       "<tr>\n",
       "  <td class='test'>\n",
       "    Comprobando si el 6 es un número  primos   \n",
       "    <div class='message'>Done</div>\n",
       "  </td>\n",
       "  <td class='result passed'></td>\n",
       "</tr>  <tr><th class='score'>Total Points</th><th class='score'>3</th></tr></table>\n"
      ],
      "text/plain": [
       "<IPython.core.display.HTML object>"
      ]
     },
     "metadata": {},
     "output_type": "display_data"
    }
   ],
   "source": [
    "%run -i {pathL}/test06.py"
   ]
  },
  {
   "cell_type": "markdown",
   "metadata": {
    "id": "WXOT_ssoJh8x"
   },
   "source": [
    "\n",
    "7. Diseñar un programa en el que entrado dos números `a`  y `b` retorne una variable booleana **True** o **false**.\n",
    "\n",
    "  [Números amigos](https://es.wikipedia.org/wiki/N%C3%BAmeros_amigos) `a` y `b` tales que a es la suma de los divisores propios de `b` y viceversa.\n",
    "    La rutina se debera llamar numeros_amigos\n",
    "\n",
    "\n",
    "\n",
    "\n",
    "P2. Retornar los 10 primeros pares de numeros perfectos, semiperfectos, amigos\n",
    "\n"
   ]
  },
  {
   "cell_type": "code",
   "execution_count": 16,
   "metadata": {
    "tags": []
   },
   "outputs": [],
   "source": [
    "def numeros_amigos(a,b):\n",
    "    sumab=0\n",
    "    for i in range(1,b):\n",
    "        if b%i==0:\n",
    "            sumab+=i\n",
    "    if sumab==a:\n",
    "        return True\n",
    "    else:\n",
    "        return False"
   ]
  },
  {
   "cell_type": "code",
   "execution_count": 17,
   "metadata": {
    "colab": {
     "base_uri": "https://localhost:8080/",
     "height": 215
    },
    "id": "VKsxuvsll5gm",
    "outputId": "1389a307-893b-4bf9-a23f-8ca42460de2b",
    "tags": []
   },
   "outputs": [
    {
     "data": {
      "text/html": [
       "<style>\n",
       "  table { text-align: left; border-collapse: collapse; margin: 1em; caption-side: bottom; font-family: Sans-Serif; font-size: 12px}\n",
       "  caption { text-align: left; padding: 5px }\n",
       "  th, td { border: 2px solid #BFC9CA; padding: 5px }\n",
       "  th { background-color: #BFC9CA }\n",
       "  .passed { background-color: #76D7C4 }\n",
       "  .failed { background-color: #EC7063 }\n",
       "  .skipped { background-color: #EDBB99 }\n",
       "  .score { background-color: #7DCEA0 }\n",
       "  .results .points { display: none }\n",
       "  .results .message { display: block; font-size:smaller; color:#D35400 }\n",
       "  .results .note { display: block; font-size:smaller; font-decoration:italics }\n",
       "  .results .passed::before  { content: \"Passed\" } \n",
       "  .results .skipped::before  { content: \"Skipped\" } \n",
       "  .results .failed::before  { content: \"Failed\" } \n",
       "  .grade .passed  .message:empty::before { content:\"Passed\" }\n",
       "  .grade .failed  .message:empty::before { content:\"Failed\" }\n",
       "  .grade .skipped .message:empty::before { content:\"Skipped\" }   \n",
       "</style>\n",
       "<table class='results'>\n",
       "  <th class='test'>Test</th><th class='result'>Result</th></tr>\n",
       "<tr>\n",
       "  <td class='test'>\n",
       "    Números amigos, la variable debe ser booleana  \n",
       "    <div class='message'>Done</div>\n",
       "  </td>\n",
       "  <td class='result passed'></td>\n",
       "</tr>\n",
       "<tr>\n",
       "  <td class='test'>\n",
       "    Comprobando si los números (17296, 18416) son amigos   \n",
       "    <div class='message'>Done</div>\n",
       "  </td>\n",
       "  <td class='result passed'></td>\n",
       "</tr>\n",
       "<tr>\n",
       "  <td class='test'>\n",
       "    Comprobando si  (620, 292) no es un número amigo   \n",
       "    <div class='message'>Done</div>\n",
       "  </td>\n",
       "  <td class='result passed'></td>\n",
       "</tr>  <tr><th class='score'>Total Points</th><th class='score'>3</th></tr></table>\n"
      ],
      "text/plain": [
       "<IPython.core.display.HTML object>"
      ]
     },
     "metadata": {},
     "output_type": "display_data"
    }
   ],
   "source": [
    "%run -i {pathL}/test07.py"
   ]
  },
  {
   "cell_type": "markdown",
   "metadata": {
    "id": "CTw0tXZlJoDp"
   },
   "source": [
    "8. Determine si un número `n` entero ingresado por el usuario es un [palíndromo](https://en.wikipedia.org/wiki/Palindromic_number), (Retorne `True` en caso afirmativo y `False` en caso contrario)\n",
    "\n",
    "```python\n",
    "\n",
    "\n",
    "    >>> palindromo(3333333)\n",
    "        True\n",
    "\n",
    "    >>> palindromo(2323)\n",
    "        False\n",
    "        \n",
    "    >>> palindromo(1111349111111)\n",
    "        False\n",
    "```\n",
    "\n",
    "\n"
   ]
  },
  {
   "cell_type": "code",
   "execution_count": 18,
   "metadata": {
    "tags": []
   },
   "outputs": [],
   "source": [
    "def palindromo(n):\n",
    "    n=str(n)\n",
    "    rn=n[::-1]\n",
    "    if int(n)==int(rn):\n",
    "        return True\n",
    "    else:\n",
    "        return False"
   ]
  },
  {
   "cell_type": "markdown",
   "metadata": {
    "id": "hBsfPzh_JuZg",
    "tags": []
   },
   "source": [
    "9. Construir un programa en el que  entrado un arreglo de números se  ordenen de forma ascendente, Ver algoritmo\n",
    "[Quicksort](https://es.wikipedia.org/wiki/Quicksort).\n",
    "\n",
    "\n",
    "```python\n",
    "\n",
    "\n",
    "<<< v = [22, 32, 42, 12, 22, 31, 41, 11, 12, 232, 24, 12, 22]\n",
    "<<< def quicksort(v):\n",
    "\n",
    "<<<     return v\n",
    "<<< w = print(quicksort(v))\n",
    "<<< [11, 12, 12, 12, 22, 22, 22, 24, 31, 32, 41, 42, 232]\n",
    "\n",
    "```\n",
    "\n",
    "Sólo para comprobar tu código,  puedes hacer uso del comando sort de python.\n",
    "```python\n",
    "<<< b = [22, 32, 42, 12, 22, 31, 41, 11, 12, 232, 24, 12, 22]\n",
    "\n",
    "<<< print(b.sort())\n",
    "\n",
    "<<< [11, 12, 12, 12, 22, 22, 22, 24, 31, 32, 41, 42, 232]\n",
    "```"
   ]
  },
  {
   "cell_type": "code",
   "execution_count": 19,
   "metadata": {},
   "outputs": [],
   "source": [
    "def quicksort(l):\n",
    "    if len(l)<=1:\n",
    "        return l\n",
    "    \n",
    "    men=[]\n",
    "    may=[]\n",
    "    piv=l[0]\n",
    "\n",
    "    for i in l[1:]:\n",
    "        if i<=piv:\n",
    "            men.append(i)\n",
    "        elif i>piv:\n",
    "            may.append(i)\n",
    "    return quicksort(men)+[piv]+quicksort(may)"
   ]
  },
  {
   "cell_type": "code",
   "execution_count": 20,
   "metadata": {},
   "outputs": [
    {
     "data": {
      "text/plain": [
       "[1, 3, 7, 6, 2, 5, 4]"
      ]
     },
     "execution_count": 20,
     "metadata": {},
     "output_type": "execute_result"
    }
   ],
   "source": [
    "#intento por el método más eficiente\n",
    "def sort(l):\n",
    "    if len(l)<=1:\n",
    "        return l\n",
    "    for i in range(len(l)-1):\n",
    "        j=len(l)-(i+2)\n",
    "        piv=l[-1]\n",
    "        if l[i]>piv and l[j]<piv:\n",
    "            change=l[i]\n",
    "            l[i]=l[j]\n",
    "            l[j]=change\n",
    "        return l\n",
    "\n",
    "l=[5,3,7,6,2,1,4]\n",
    "sort(l) #sóllo hace el primer paso\n"
   ]
  },
  {
   "cell_type": "code",
   "execution_count": 21,
   "metadata": {},
   "outputs": [],
   "source": [
    "from itertools import combinations\n",
    "\n",
    "def semiperfecto(k):\n",
    "    comb=[]\n",
    "    n=[]\n",
    "    sums=[]\n",
    "    for _ in range(1,k):\n",
    "        if k%_==0:\n",
    "            n.append(_)\n",
    "\n",
    "    for i in range(2,len(n)+1):\n",
    "        com=list(combinations(n,i))\n",
    "        comb.append(com)\n",
    "\n",
    "    for k in range(len(comb)):\n",
    "        for j in comb[k]:\n",
    "            sums.append(sum(j))\n",
    "\n",
    "    for m in sums:\n",
    "        if m==k:\n",
    "            return True\n",
    "        else:\n",
    "            return False"
   ]
  }
 ],
 "metadata": {
  "colab": {
   "provenance": []
  },
  "kernelspec": {
   "display_name": "Python 3 (ipykernel)",
   "language": "python",
   "name": "python3"
  },
  "language_info": {
   "codemirror_mode": {
    "name": "ipython",
    "version": 3
   },
   "file_extension": ".py",
   "mimetype": "text/x-python",
   "name": "python",
   "nbconvert_exporter": "python",
   "pygments_lexer": "ipython3",
   "version": "3.11.4"
  }
 },
 "nbformat": 4,
 "nbformat_minor": 4
}
