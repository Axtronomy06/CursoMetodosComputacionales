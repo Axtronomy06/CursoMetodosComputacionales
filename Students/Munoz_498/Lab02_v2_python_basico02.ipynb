{
  "cells": [
    {
      "cell_type": "markdown",
      "metadata": {
        "id": "kKNBYkSAIO_-"
      },
      "source": [
        "<a href=\"https://colab.research.google.com/github/hernansalinas/autogrades/blob/main/Laboratorios_Taller/Lab02_v2_python_basico02.ipynb\" target=\"_parent\"><img src=\"https://colab.research.google.com/assets/colab-badge.svg\" alt=\"Open In Colab\"/></a>\n",
        "\n",
        "\n",
        "# Laboratorio 02 - Melanie Andrea Munoz Chavarria\n",
        "### Métodos computacionales para físicos  y astrónomos\n",
        "### Universidad de Antioquia\n",
        "### Prof: Hernan D. Salinas Jiménez\n",
        "\n"
      ]
    },
    {
      "cell_type": "code",
      "execution_count": null,
      "metadata": {
        "colab": {
          "base_uri": "https://localhost:8080/"
        },
        "id": "TFmOxrpqWCiE",
        "outputId": "dcb193b8-d91f-4e3c-a2e3-17f2da1445b3"
      },
      "outputs": [
        {
          "output_type": "stream",
          "name": "stdout",
          "text": [
            "Cloning into 'autogradesMetodosComputacionales'...\n",
            "remote: Enumerating objects: 600, done.\u001b[K\n",
            "remote: Counting objects: 100% (216/216), done.\u001b[K\n",
            "remote: Compressing objects: 100% (142/142), done.\u001b[K\n",
            "remote: Total 600 (delta 120), reused 128 (delta 73), pack-reused 384\u001b[K\n",
            "Receiving objects: 100% (600/600), 38.60 MiB | 37.53 MiB/s, done.\n",
            "Resolving deltas: 100% (314/314), done.\n"
          ]
        }
      ],
      "source": [
        "# Ejecutar esta celda antes de cada laboratorio\n",
        "!git clone https://github.com/hernansalinas/autogradesMetodosComputacionales.git"
      ]
    },
    {
      "cell_type": "code",
      "execution_count": null,
      "metadata": {
        "id": "5tCaVJVzIRe3"
      },
      "outputs": [],
      "source": [
        "# Ejecutar esta celda antes de cada laboratorio\n",
        "path=\"autogradesMetodosComputacionales/Laboratorios_Taller/libs\"\n",
        "pathL=\"autogradesMetodosComputacionales/Laboratorios_Taller/libs/Lab_02\"\n",
        "%run -i {path}/libUnitTest.py"
      ]
    },
    {
      "cell_type": "markdown",
      "metadata": {
        "id": "Y94jQ_tzdU6l"
      },
      "source": [
        "### Teoria de números\n",
        "\n",
        "\n",
        "Diseñar un programa en el que entrado  un numero `a`  retorne una variable booleana True or false si cumple que es:\n",
        "\n",
        "2. [Números defectivo](https://es.wikipedia.org/wiki/Número_defectivo) : la suma de los divisores propios es menor que el número.\n",
        "\n",
        "  La rutina se deberá llamar números_defectivos\n",
        "\n",
        "\n",
        "\n",
        "3. [Números abundantes](https://es.wikipedia.org/wiki/Número_abundante): la suma de los divisores es mayor que el número.\n",
        "\n",
        "  La rutina se deberá llamar números_abundantes\n",
        "\n",
        "\n",
        "\n",
        "4. [Números semiperfectos](https://es.wikipedia.org/wiki/N%C3%BAmero_semiperfecto) la suma de todos o algunos de los divisores propios es igual al número.\n",
        "\n",
        "  La rutina se debera llamar numeros_semiperfectos\n",
        "\n",
        "5. [Números perfectos](https://es.wikipedia.org/wiki/N%C3%BAmero_perfecto) la suma de todos sus divisores propios, excepto el mismo numero, es igual al número.\n",
        "\n",
        "   La rutina se deberá llamar numeros_perfectos\n",
        "\n",
        "\n",
        "6. [Números primos](https://es.wikipedia.org/wiki/N%C3%BAmero_primo) el número es divisible unicamente por sí mismo y por 1.\n",
        "   La rutina se deberá llamar numeros_primos\n",
        "\n",
        "\n",
        "Problema no obligatorio:\n",
        "\n",
        "P1. Retornar los 30 primeros números de cada clase"
      ]
    },
    {
      "cell_type": "markdown",
      "source": [
        "###Número defectivo\n",
        "\n",
        "El código, al tener una lista, agrega los valores enteros en un rango de (1,n), donde n es el valor igresado. Luego itera sobre esos valores, para con condicional saber si el número es divisor propio. Para después, agregarlo a una lista y sumar los elementos de ella."
      ],
      "metadata": {
        "id": "vENgJlceNIKN"
      }
    },
    {
      "cell_type": "code",
      "execution_count": null,
      "metadata": {
        "colab": {
          "base_uri": "https://localhost:8080/"
        },
        "id": "XSyDVlnzi9KL",
        "outputId": "ff962040-27b2-4438-da9d-3b2c790616b1"
      },
      "outputs": [
        {
          "output_type": "stream",
          "name": "stdout",
          "text": [
            "La función no ha sido definda o el numero de argumento no es el adecuado\n",
            "True\n",
            "True\n"
          ]
        }
      ],
      "source": [
        "%run -i {pathL}/test02.py\n",
        "\n",
        "def números_defectivos(n):\n",
        "#Números enteros menores al valor ingresado\n",
        "  lista=[]\n",
        "  for i in range(1,n):\n",
        "    lista.append(i)\n",
        "#Se almacenan los divisores en la lista\n",
        "  Lista_divisores=[]\n",
        "  for k in lista:\n",
        "    if n%k==0:\n",
        "      Lista_divisores.append(k)\n",
        "      suma=sum(Lista_divisores)\n",
        "  if suma<n:\n",
        "    return True\n",
        "  else:\n",
        "    return False\n",
        "\n",
        "\n",
        "print(números_defectivos(38))\n",
        "print(números_defectivos(19))\n"
      ]
    },
    {
      "cell_type": "markdown",
      "source": [
        "###Números abutandes\n",
        "El proceso es similar al realizado con números defectivos, salvo por la desigualdad del condicional para la suma de los valores."
      ],
      "metadata": {
        "id": "i8SI5fZ3TZ6a"
      }
    },
    {
      "cell_type": "code",
      "execution_count": null,
      "metadata": {
        "colab": {
          "base_uri": "https://localhost:8080/",
          "height": 250
        },
        "id": "DfHfIk0DkQev",
        "outputId": "eddc27d4-de26-4c6d-cf9a-6ae58659b10e"
      },
      "outputs": [
        {
          "output_type": "display_data",
          "data": {
            "text/plain": [
              "<IPython.core.display.HTML object>"
            ],
            "text/html": [
              "<style>\n",
              "  table { text-align: left; border-collapse: collapse; margin: 1em; caption-side: bottom; font-family: Sans-Serif; font-size: 12px}\n",
              "  caption { text-align: left; padding: 5px }\n",
              "  th, td { border: 2px solid #BFC9CA; padding: 5px }\n",
              "  th { background-color: #BFC9CA }\n",
              "  .passed { background-color: #76D7C4 }\n",
              "  .failed { background-color: #EC7063 }\n",
              "  .skipped { background-color: #EDBB99 }\n",
              "  .score { background-color: #7DCEA0 }\n",
              "  .results .points { display: none }\n",
              "  .results .message { display: block; font-size:smaller; color:#D35400 }\n",
              "  .results .note { display: block; font-size:smaller; font-decoration:italics }\n",
              "  .results .passed::before  { content: \"Passed\" } \n",
              "  .results .skipped::before  { content: \"Skipped\" } \n",
              "  .results .failed::before  { content: \"Failed\" } \n",
              "  .grade .passed  .message:empty::before { content:\"Passed\" }\n",
              "  .grade .failed  .message:empty::before { content:\"Failed\" }\n",
              "  .grade .skipped .message:empty::before { content:\"Skipped\" }   \n",
              "</style>\n",
              "<table class='results'>\n",
              "  <th class='test'>Test</th><th class='result'>Result</th></tr>\n",
              "<tr>\n",
              "  <td class='test'>\n",
              "    Números abundantes, la variable debe ser booleana  \n",
              "    <div class='message'>Done</div>\n",
              "  </td>\n",
              "  <td class='result passed'></td>\n",
              "</tr>\n",
              "<tr>\n",
              "  <td class='test'>\n",
              "    Comprobando si el número 30 es abundantes   \n",
              "    <div class='message'>Done</div>\n",
              "  </td>\n",
              "  <td class='result passed'></td>\n",
              "</tr>\n",
              "<tr>\n",
              "  <td class='test'>\n",
              "    Comprobando si el 4 es un número  abundante   \n",
              "    <div class='message'>Done</div>\n",
              "  </td>\n",
              "  <td class='result passed'></td>\n",
              "</tr>  <tr><th class='score'>Total Points</th><th class='score'>3</th></tr></table>\n"
            ]
          },
          "metadata": {}
        },
        {
          "output_type": "stream",
          "name": "stdout",
          "text": [
            "True\n",
            "False\n"
          ]
        }
      ],
      "source": [
        "%run -i {pathL}/test03.py\n",
        "\n",
        "def numeros_abundantes(n):\n",
        "#Lista para ingresar los valores menores\n",
        "  lista=[]\n",
        "  for i in range(1,n):\n",
        "    lista.append(i)\n",
        "#Proceso para clasificar los divisores\n",
        "  Lista_divisores=[]\n",
        "  for k in lista:\n",
        "    if n%k==0:\n",
        "      Lista_divisores.append(k)\n",
        "      suma=sum(Lista_divisores)\n",
        "  if suma>n:\n",
        "    return True\n",
        "  else:\n",
        "    return False\n",
        "\n",
        "\n",
        "print(numeros_abundantes(112))\n",
        "print(numeros_abundantes(7))"
      ]
    },
    {
      "cell_type": "markdown",
      "source": [
        "###Números semiperfectos\n",
        "Primero se hace uso de la función combinaciones_suma, la idea es tomar todos los elementos combinados, que se generan en parejas y sumarlos. Luego, agregar esa suma a una lista y sobre esa lista se harán nuevamente combinaciones y sumas de las combinaciones. El proceso se repite hasta que en algun momento una suma sea igual al número ingresado (lo que implica que el número es semiperfecto) y se detine cuando la lista de suma de combinaciones tenga tan solo un elemento.\n",
        "\n",
        "Después, se define la función numeros_semiperfectos. Si se cumple la condición de números perfectos retorna verdadero, si se cumple la condición de números defectivos retorna falso. Y finalmente con el uso de la función combinaciones_suma, si está retorna verdadero, entonces la función es numeros_semiperfectos retorna verdadero, de lo contrario falso."
      ],
      "metadata": {
        "id": "L2kbzy05tH-R"
      }
    },
    {
      "cell_type": "code",
      "execution_count": null,
      "metadata": {
        "id": "MJzLOXxHqKrz",
        "colab": {
          "base_uri": "https://localhost:8080/",
          "height": 249
        },
        "outputId": "8fb891ae-bbad-4135-aa07-7bb637fb7c29"
      },
      "outputs": [
        {
          "output_type": "display_data",
          "data": {
            "text/plain": [
              "<IPython.core.display.HTML object>"
            ],
            "text/html": [
              "<style>\n",
              "  table { text-align: left; border-collapse: collapse; margin: 1em; caption-side: bottom; font-family: Sans-Serif; font-size: 12px}\n",
              "  caption { text-align: left; padding: 5px }\n",
              "  th, td { border: 2px solid #BFC9CA; padding: 5px }\n",
              "  th { background-color: #BFC9CA }\n",
              "  .passed { background-color: #76D7C4 }\n",
              "  .failed { background-color: #EC7063 }\n",
              "  .skipped { background-color: #EDBB99 }\n",
              "  .score { background-color: #7DCEA0 }\n",
              "  .results .points { display: none }\n",
              "  .results .message { display: block; font-size:smaller; color:#D35400 }\n",
              "  .results .note { display: block; font-size:smaller; font-decoration:italics }\n",
              "  .results .passed::before  { content: \"Passed\" } \n",
              "  .results .skipped::before  { content: \"Skipped\" } \n",
              "  .results .failed::before  { content: \"Failed\" } \n",
              "  .grade .passed  .message:empty::before { content:\"Passed\" }\n",
              "  .grade .failed  .message:empty::before { content:\"Failed\" }\n",
              "  .grade .skipped .message:empty::before { content:\"Skipped\" }   \n",
              "</style>\n",
              "<table class='results'>\n",
              "  <th class='test'>Test</th><th class='result'>Result</th></tr>\n",
              "<tr>\n",
              "  <td class='test'>\n",
              "    Números semiperfectos, la variable debe ser booleana  \n",
              "    <div class='message'>Done</div>\n",
              "  </td>\n",
              "  <td class='result passed'></td>\n",
              "</tr>\n",
              "<tr>\n",
              "  <td class='test'>\n",
              "    Comprobando si el número 20 es semiperfectos   \n",
              "    <div class='message'>Done</div>\n",
              "  </td>\n",
              "  <td class='result passed'></td>\n",
              "</tr>\n",
              "<tr>\n",
              "  <td class='test'>\n",
              "    Comprobando si el 47 es un número  semiperfectos   \n",
              "    <div class='message'>Done</div>\n",
              "  </td>\n",
              "  <td class='result passed'></td>\n",
              "</tr>  <tr><th class='score'>Total Points</th><th class='score'>3</th></tr></table>\n"
            ]
          },
          "metadata": {}
        },
        {
          "output_type": "stream",
          "name": "stdout",
          "text": [
            "False\n",
            "True\n"
          ]
        }
      ],
      "source": [
        "%run -i {pathL}/test04.py\n",
        "\n",
        "#Realiza las combinaciones\n",
        "def combinaciones_suma(lista,n):\n",
        "  lista_suma_combinaciones=[]\n",
        "  numero=len(lista)\n",
        "  #Iteración para unir en parejas los numeros que ya se generan en pares por combinación\n",
        "  for i in range(0,numero):\n",
        "    for j in range(i+1,numero):\n",
        "      #La suma de los dos números productos de la combinación\n",
        "      suma=lista[i]+lista[j]\n",
        "      lista_suma_combinaciones.append(suma)\n",
        "      #Si en algun punto después de correr la función la suma de los elementos combinados es n, se cumple que el número es perfecto\n",
        "      if suma==n:\n",
        "        return True\n",
        "  #Para continuar con el proceso de unión de las combinaciones, se llama a la función nuevamente.\n",
        "  repeticion=combinaciones_suma(lista_suma_combinaciones,n)\n",
        "  return repeticion\n",
        "\n",
        "def numeros_semiperfectos(a):\n",
        "  lista=[]\n",
        "  for i in range(1,a):\n",
        "    lista.append(i)\n",
        "  Lista_divisores=[]\n",
        "  for k in lista:\n",
        "    if a%k==0:\n",
        "      Lista_divisores.append(k)\n",
        "      suma=sum(Lista_divisores)\n",
        "  #Condición de números perfectos\n",
        "  if a==suma:\n",
        "    return True\n",
        "  #Condición de números defectivos\n",
        "  if suma<a:\n",
        "    return False\n",
        "  #Acudir a la combinación se no se cumple algua de las condiciones anteriores\n",
        "  combinacion=combinaciones_suma(Lista_divisores,a)\n",
        "  if combinacion==True:\n",
        "    return True\n",
        "  else:\n",
        "    return False\n",
        "\n",
        "\n",
        "print(numeros_semiperfectos(13))\n",
        "print(numeros_semiperfectos(40))\n",
        "\n",
        "\n"
      ]
    },
    {
      "cell_type": "markdown",
      "source": [
        "###Numeros perfectos\n"
      ],
      "metadata": {
        "id": "sMe9790PM2QC"
      }
    },
    {
      "cell_type": "code",
      "execution_count": null,
      "metadata": {
        "id": "m9bNF9I6qMnD",
        "colab": {
          "base_uri": "https://localhost:8080/",
          "height": 249
        },
        "outputId": "ce90bd20-3562-4abd-e872-e2ed0eda277b"
      },
      "outputs": [
        {
          "output_type": "display_data",
          "data": {
            "text/plain": [
              "<IPython.core.display.HTML object>"
            ],
            "text/html": [
              "<style>\n",
              "  table { text-align: left; border-collapse: collapse; margin: 1em; caption-side: bottom; font-family: Sans-Serif; font-size: 12px}\n",
              "  caption { text-align: left; padding: 5px }\n",
              "  th, td { border: 2px solid #BFC9CA; padding: 5px }\n",
              "  th { background-color: #BFC9CA }\n",
              "  .passed { background-color: #76D7C4 }\n",
              "  .failed { background-color: #EC7063 }\n",
              "  .skipped { background-color: #EDBB99 }\n",
              "  .score { background-color: #7DCEA0 }\n",
              "  .results .points { display: none }\n",
              "  .results .message { display: block; font-size:smaller; color:#D35400 }\n",
              "  .results .note { display: block; font-size:smaller; font-decoration:italics }\n",
              "  .results .passed::before  { content: \"Passed\" } \n",
              "  .results .skipped::before  { content: \"Skipped\" } \n",
              "  .results .failed::before  { content: \"Failed\" } \n",
              "  .grade .passed  .message:empty::before { content:\"Passed\" }\n",
              "  .grade .failed  .message:empty::before { content:\"Failed\" }\n",
              "  .grade .skipped .message:empty::before { content:\"Skipped\" }   \n",
              "</style>\n",
              "<table class='results'>\n",
              "  <th class='test'>Test</th><th class='result'>Result</th></tr>\n",
              "<tr>\n",
              "  <td class='test'>\n",
              "    Números perfectos, la variable debe ser booleana  \n",
              "    <div class='message'>Done</div>\n",
              "  </td>\n",
              "  <td class='result passed'></td>\n",
              "</tr>\n",
              "<tr>\n",
              "  <td class='test'>\n",
              "    Comprobando si el número 496 es perfecto   \n",
              "    <div class='message'>Done</div>\n",
              "  </td>\n",
              "  <td class='result passed'></td>\n",
              "</tr>\n",
              "<tr>\n",
              "  <td class='test'>\n",
              "    Comprobando si el 10 es un número  perfecto   \n",
              "    <div class='message'>Done</div>\n",
              "  </td>\n",
              "  <td class='result passed'></td>\n",
              "</tr>  <tr><th class='score'>Total Points</th><th class='score'>3</th></tr></table>\n"
            ]
          },
          "metadata": {}
        },
        {
          "output_type": "stream",
          "name": "stdout",
          "text": [
            "True\n",
            "False\n"
          ]
        }
      ],
      "source": [
        "%run -i {pathL}/test05.py\n",
        "\n",
        "def números_perfectos(n):\n",
        "  lista=[]\n",
        "  for i in range(1,n):\n",
        "    lista.append(i)\n",
        "#Proceso para clasificar los divisores\n",
        "  Lista_divisores=[]\n",
        "  for k in lista:\n",
        "    if n%k==0:\n",
        "      Lista_divisores.append(k)\n",
        "      suma=sum(Lista_divisores)\n",
        "  if suma==n:\n",
        "    return True\n",
        "  else:\n",
        "    return False\n",
        "\n",
        "print(números_perfectos(28))\n",
        "print(números_perfectos(3))"
      ]
    },
    {
      "cell_type": "markdown",
      "source": [
        "###Numero primos\n",
        "Con el uso de un condicional sobre el número de elementos de la lista de los divisores del valor ingresado, se conoce si esta cantidad es dos y luego, si esos dos valores corresponden a 1 y el valor ingresado, entonces en número será primo"
      ],
      "metadata": {
        "id": "dK3jbx7NVwTY"
      }
    },
    {
      "cell_type": "code",
      "execution_count": null,
      "metadata": {
        "id": "4uRbgtG8qN25",
        "colab": {
          "base_uri": "https://localhost:8080/",
          "height": 249
        },
        "outputId": "ca9fdb91-4f27-4a3f-fbca-3904911b9806"
      },
      "outputs": [
        {
          "output_type": "display_data",
          "data": {
            "text/plain": [
              "<IPython.core.display.HTML object>"
            ],
            "text/html": [
              "<style>\n",
              "  table { text-align: left; border-collapse: collapse; margin: 1em; caption-side: bottom; font-family: Sans-Serif; font-size: 12px}\n",
              "  caption { text-align: left; padding: 5px }\n",
              "  th, td { border: 2px solid #BFC9CA; padding: 5px }\n",
              "  th { background-color: #BFC9CA }\n",
              "  .passed { background-color: #76D7C4 }\n",
              "  .failed { background-color: #EC7063 }\n",
              "  .skipped { background-color: #EDBB99 }\n",
              "  .score { background-color: #7DCEA0 }\n",
              "  .results .points { display: none }\n",
              "  .results .message { display: block; font-size:smaller; color:#D35400 }\n",
              "  .results .note { display: block; font-size:smaller; font-decoration:italics }\n",
              "  .results .passed::before  { content: \"Passed\" } \n",
              "  .results .skipped::before  { content: \"Skipped\" } \n",
              "  .results .failed::before  { content: \"Failed\" } \n",
              "  .grade .passed  .message:empty::before { content:\"Passed\" }\n",
              "  .grade .failed  .message:empty::before { content:\"Failed\" }\n",
              "  .grade .skipped .message:empty::before { content:\"Skipped\" }   \n",
              "</style>\n",
              "<table class='results'>\n",
              "  <th class='test'>Test</th><th class='result'>Result</th></tr>\n",
              "<tr>\n",
              "  <td class='test'>\n",
              "    Números primos, la variable debe ser booleana  \n",
              "    <div class='message'>Done</div>\n",
              "  </td>\n",
              "  <td class='result passed'></td>\n",
              "</tr>\n",
              "<tr>\n",
              "  <td class='test'>\n",
              "    Comprobando si el número 29 es primos   \n",
              "    <div class='message'>Done</div>\n",
              "  </td>\n",
              "  <td class='result passed'></td>\n",
              "</tr>\n",
              "<tr>\n",
              "  <td class='test'>\n",
              "    Comprobando si el 36 es un número  primos   \n",
              "    <div class='message'>Done</div>\n",
              "  </td>\n",
              "  <td class='result passed'></td>\n",
              "</tr>  <tr><th class='score'>Total Points</th><th class='score'>3</th></tr></table>\n"
            ]
          },
          "metadata": {}
        },
        {
          "output_type": "stream",
          "name": "stdout",
          "text": [
            "True\n",
            "True\n"
          ]
        }
      ],
      "source": [
        "%run -i {pathL}/test06.py\n",
        "def numeros_primos(n):\n",
        "  lista=[]\n",
        "  for i in range(1,n+1):\n",
        "    lista.append(i)\n",
        "  lista_divisores=[]\n",
        "  for k in lista:\n",
        "    if n%k==0:\n",
        "      lista_divisores.append(k)\n",
        "\n",
        "  contador=len(lista_divisores)\n",
        "  if contador==2:\n",
        "    if lista_divisores[0]==1 and lista_divisores[1]==n:\n",
        "      return True\n",
        "    else:\n",
        "      return False\n",
        "  else:\n",
        "    return False\n",
        "\n",
        "\n",
        "print(numeros_primos(3))\n",
        "print(numeros_primos(13))\n"
      ]
    },
    {
      "cell_type": "markdown",
      "metadata": {
        "id": "WXOT_ssoJh8x"
      },
      "source": [
        "\n",
        "7. Diseñar un programa en el que entrado dos números `a`  y `b` retorne una variable booleana **True** o **false**.\n",
        "\n",
        "  [Números amigos](https://es.wikipedia.org/wiki/N%C3%BAmeros_amigos) `a` y `b` tales que a es la suma de los divisores propios de `b` y viceversa.\n",
        "    La rutina se debera llamar numeros_amigos\n",
        "\n",
        "\n",
        "\n",
        "\n",
        "P2. Retornar los 10 primeros pares de numeros perfectos, semiperfectos, amigos\n",
        "\n"
      ]
    },
    {
      "cell_type": "markdown",
      "source": [
        "###Números amigos"
      ],
      "metadata": {
        "id": "aqLb02FEWXLE"
      }
    },
    {
      "cell_type": "code",
      "execution_count": null,
      "metadata": {
        "colab": {
          "base_uri": "https://localhost:8080/",
          "height": 249
        },
        "id": "VKsxuvsll5gm",
        "outputId": "5ad9e78f-f827-4c08-e7d7-b8d660a07421"
      },
      "outputs": [
        {
          "output_type": "display_data",
          "data": {
            "text/plain": [
              "<IPython.core.display.HTML object>"
            ],
            "text/html": [
              "<style>\n",
              "  table { text-align: left; border-collapse: collapse; margin: 1em; caption-side: bottom; font-family: Sans-Serif; font-size: 12px}\n",
              "  caption { text-align: left; padding: 5px }\n",
              "  th, td { border: 2px solid #BFC9CA; padding: 5px }\n",
              "  th { background-color: #BFC9CA }\n",
              "  .passed { background-color: #76D7C4 }\n",
              "  .failed { background-color: #EC7063 }\n",
              "  .skipped { background-color: #EDBB99 }\n",
              "  .score { background-color: #7DCEA0 }\n",
              "  .results .points { display: none }\n",
              "  .results .message { display: block; font-size:smaller; color:#D35400 }\n",
              "  .results .note { display: block; font-size:smaller; font-decoration:italics }\n",
              "  .results .passed::before  { content: \"Passed\" } \n",
              "  .results .skipped::before  { content: \"Skipped\" } \n",
              "  .results .failed::before  { content: \"Failed\" } \n",
              "  .grade .passed  .message:empty::before { content:\"Passed\" }\n",
              "  .grade .failed  .message:empty::before { content:\"Failed\" }\n",
              "  .grade .skipped .message:empty::before { content:\"Skipped\" }   \n",
              "</style>\n",
              "<table class='results'>\n",
              "  <th class='test'>Test</th><th class='result'>Result</th></tr>\n",
              "<tr>\n",
              "  <td class='test'>\n",
              "    Números amigos, la variable debe ser booleana  \n",
              "    <div class='message'>Done</div>\n",
              "  </td>\n",
              "  <td class='result passed'></td>\n",
              "</tr>\n",
              "<tr>\n",
              "  <td class='test'>\n",
              "    Comprobando si los números (6232, 6368) son amigos   \n",
              "    <div class='message'>Done</div>\n",
              "  </td>\n",
              "  <td class='result passed'></td>\n",
              "</tr>\n",
              "<tr>\n",
              "  <td class='test'>\n",
              "    Comprobando si  (170, 196) no es un número amigo   \n",
              "    <div class='message'>Done</div>\n",
              "  </td>\n",
              "  <td class='result passed'></td>\n",
              "</tr>  <tr><th class='score'>Total Points</th><th class='score'>3</th></tr></table>\n"
            ]
          },
          "metadata": {}
        },
        {
          "output_type": "stream",
          "name": "stdout",
          "text": [
            "True\n",
            "False\n"
          ]
        }
      ],
      "source": [
        "%run -i {pathL}/test07.py\n",
        "\n",
        "def números_amigos(a,b):\n",
        "  lista_a=[]\n",
        "  lista_b=[]\n",
        "  for i in range(1,a):\n",
        "    lista_a.append(i)\n",
        "  for j in range(1,b):\n",
        "    lista_b.append(j)\n",
        "  lista_divisores_a=[]\n",
        "  lista_divisores_b=[]\n",
        "  for l in lista_a:\n",
        "    if a%l==0:\n",
        "      lista_divisores_a.append(l)\n",
        "  for k in lista_b:\n",
        "    if b%k==0:\n",
        "      lista_divisores_b.append(k)\n",
        "  suma_a=sum(lista_divisores_a)\n",
        "  suma_b=sum(lista_divisores_b)\n",
        "  if a==suma_b and b==suma_a:\n",
        "    return True\n",
        "  else:\n",
        "    return False\n",
        "\n",
        "print(números_amigos(220,284))\n",
        "print(números_amigos(13,12))\n",
        "\n"
      ]
    },
    {
      "cell_type": "markdown",
      "metadata": {
        "id": "Y4RJ2DDJAt6G"
      },
      "source": [
        "8 Construir un programa en el que  entrado un arreglo de números se  ordenen de forma ascendente, Ver algoritmo\n",
        "[Quicksort](https://es.wikipedia.org/wiki/Quicksort).\n",
        "\n",
        "\n",
        "```python\n",
        "\n",
        "\n",
        "<<< v = [22, 32, 42, 12, 22, 31, 41, 11, 12, 232, 24, 12, 22]\n",
        "<<< def quicksort(v):\n",
        "\n",
        "<<<     return v\n",
        "<<< w = print(quicksort(v))\n",
        "<<< [11, 12, 12, 12, 22, 22, 22, 24, 31, 32, 41, 42, 232]\n",
        "\n",
        "```\n",
        "\n",
        "Sólo para comprobar tu código,  puedes hacer uso del comando sort de python.\n",
        "```python\n",
        "<<< b = [22, 32, 42, 12, 22, 31, 41, 11, 12, 232, 24, 12, 22]\n",
        "\n",
        "<<< print(b.sort())\n",
        "\n",
        "<<< [11, 12, 12, 12, 22, 22, 22, 24, 31, 32, 41, 42, 232]\n",
        "```"
      ]
    },
    {
      "cell_type": "markdown",
      "source": [
        "###Quicksort\n",
        "\n",
        "Tomando primero el número de elementos de la lista para saber si es menor o a uno, pues para ese valor la partición no se tiene que dar o el proceso se debe detener. Luego, en dos listas, se almancenan los valores mayores y menores que el pivote (que para este caso, es el último elemento de la lista sin aplicar el quicksort), con una iteración sobre la lista original sin el pivote.\n",
        "\n",
        "Finalmente, se hace uso de la función en una concatenación de listas para continuar la partición y la selección de pivotes."
      ],
      "metadata": {
        "id": "jeo3uM8RBU3u"
      }
    },
    {
      "cell_type": "code",
      "source": [
        "def quicksort(arr):\n",
        "  numero=len(arr)\n",
        "  #Para detener el proceso\n",
        "  if numero<=1:\n",
        "    return arr\n",
        "  #Listas\n",
        "  lista_menores_pivote=[]\n",
        "  lista_mayores_pivote=[]\n",
        "  pivote=arr[numero-1]\n",
        "  #Iteración sobre la lista, menos el pivote\n",
        "  for i in range(0,numero-1):\n",
        "    if arr[i]<pivote:\n",
        "      lista_menores_pivote.append(arr[i])\n",
        "    else:\n",
        "      lista_mayores_pivote.append(arr[i])\n",
        "  #Uso de la función dentro de la función, que se rompe con el condicional inicial\n",
        "  repeticion= quicksort(lista_menores_pivote)+ [pivote] + quicksort(lista_mayores_pivote)\n",
        "  return repeticion\n",
        "\n",
        "b = [22, 32, 42, 12, 22, 31, 41, 11, 12, 232, 24, 12, 22]\n",
        "\n",
        "quicksort(b)\n"
      ],
      "metadata": {
        "colab": {
          "base_uri": "https://localhost:8080/"
        },
        "id": "Hn996JFk2HcM",
        "outputId": "79bba048-2565-445c-9e73-d62ab2799217"
      },
      "execution_count": null,
      "outputs": [
        {
          "output_type": "execute_result",
          "data": {
            "text/plain": [
              "[11, 12, 12, 12, 22, 22, 22, 24, 31, 32, 41, 42, 232]"
            ]
          },
          "metadata": {},
          "execution_count": 4
        }
      ]
    }
  ],
  "metadata": {
    "colab": {
      "provenance": []
    },
    "kernelspec": {
      "display_name": "Python 3 (ipykernel)",
      "language": "python",
      "name": "python3"
    },
    "language_info": {
      "codemirror_mode": {
        "name": "ipython",
        "version": 3
      },
      "file_extension": ".py",
      "mimetype": "text/x-python",
      "name": "python",
      "nbconvert_exporter": "python",
      "pygments_lexer": "ipython3",
      "version": "3.10.9"
    }
  },
  "nbformat": 4,
  "nbformat_minor": 0
}