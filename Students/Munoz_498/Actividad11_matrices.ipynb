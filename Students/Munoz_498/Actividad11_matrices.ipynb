{
  "nbformat": 4,
  "nbformat_minor": 0,
  "metadata": {
    "colab": {
      "provenance": []
    },
    "kernelspec": {
      "name": "python3",
      "display_name": "Python 3"
    },
    "language_info": {
      "name": "python"
    }
  },
  "cells": [
    {
      "cell_type": "markdown",
      "source": [
        "#Actividad matrices - Melanie Andrea Muñoz Chavarria\n",
        "\n",
        "Para los siguientes enunciados trabajar con matrices simbolicas y objetos de numpy.\n",
        "\n",
        "1. Diseñar un programa que permita sumar dos matrices.\n",
        "\n",
        "2. Diseñar un programa que permita multiplicar dos matrices.\n",
        "\n",
        "3. Determinar la transpuesta de una matrix\n",
        "\n",
        "4. La matriz de rotación en 2D. Es una matriz que se usa para rotar puntos en el plano xy en sentido antihorario alrededor del origen. La matriz tiene la siguiente forma:\n",
        "\n",
        "\\begin{equation}\n",
        "R(\\theta)=\n",
        "\\begin{pmatrix}\n",
        "cos(\\theta) & -sin(\\theta) \\\\\n",
        "sin(\\theta) & cos(\\theta) \\\\\n",
        "\\end{pmatrix}\n",
        "\\end{equation}\n",
        "Construir un programa en python que permita realizar la rotación de un vector un ángulo theta, Mostrar la representación vectorial en el plano indicando la rotacion a realizar.\n",
        "\n",
        "Pruebe su solución para el vector $\\vec{v}=(1,1)$ rotado 20 grados en sentido antihorario. Muestre el vector antes de la rotación y después de la rotación"
      ],
      "metadata": {
        "id": "3hU9mNKvLEeV"
      }
    },
    {
      "cell_type": "code",
      "execution_count": null,
      "metadata": {
        "id": "d3odJP_BK9fm"
      },
      "outputs": [],
      "source": [
        "#Librerías\n",
        "import numpy as np\n",
        "import matplotlib.pyplot as plt"
      ]
    },
    {
      "cell_type": "code",
      "source": [
        "#Definiendo la suma de matrices\n",
        "def suma_matrices(A,B):\n",
        "  dimA=np.shape(A)\n",
        "  dimB=np.shape(B)\n",
        "\n",
        "  #Definiendo la condición fundamental para la suma de matrices\n",
        "  if dimA==dimB:\n",
        "    return A+B\n",
        "\n",
        "  else:\n",
        "    return 'Las dimensiones de las matrices no son las correctas'"
      ],
      "metadata": {
        "id": "DtR4KGUnnCNL"
      },
      "execution_count": null,
      "outputs": []
    },
    {
      "cell_type": "code",
      "source": [
        "#Sumando dos matrices\n",
        "M1=np.matrix([[1,2],[3,4]])\n",
        "M2=np.matrix([[5,6],[7,8]])\n",
        "M3=np.matrix([[1],[2]])\n",
        "\n",
        "print(suma_matrices(M1,M2))\n",
        "print(suma_matrices(M3,M1))\n"
      ],
      "metadata": {
        "colab": {
          "base_uri": "https://localhost:8080/"
        },
        "id": "K9BM7DyOoivK",
        "outputId": "e4fd03eb-f147-4d4a-f26d-47392e54cd6a"
      },
      "execution_count": null,
      "outputs": [
        {
          "output_type": "stream",
          "name": "stdout",
          "text": [
            "[[ 6  8]\n",
            " [10 12]]\n",
            "Las dimensiones de las matrices no son las correctas\n"
          ]
        }
      ]
    },
    {
      "cell_type": "code",
      "source": [
        "#Sumando matrices de np.array\n",
        "m1=np.array([[1,2],\n",
        "             [3,4]])\n",
        "m2=np.array([[5,6],\n",
        "             [7,8]])\n",
        "\n",
        "print(suma_matrices(m1,m2))"
      ],
      "metadata": {
        "colab": {
          "base_uri": "https://localhost:8080/"
        },
        "id": "g2OLQnz6SVgj",
        "outputId": "f36cfcbf-062a-476e-fe3d-acab56db643b"
      },
      "execution_count": null,
      "outputs": [
        {
          "output_type": "stream",
          "name": "stdout",
          "text": [
            "[[ 6  8]\n",
            " [10 12]]\n"
          ]
        }
      ]
    },
    {
      "cell_type": "code",
      "source": [
        "#Múltiplicación de matrices\n",
        "def multiplicacion_matrices(M1,M2):\n",
        "  dim1=np.shape(M1)\n",
        "  dim2=np.shape(M2)\n",
        "\n",
        "  Mul=np.zeros((dim1[0],dim2[1]))\n",
        "\n",
        "  #Para granticar que el número de columnas de M1 se igual al número de columanas de M2\n",
        "  if dim1[1]==dim2[0]:\n",
        "\n",
        "  #Se busca con el for, hacer lo que se hace con la sumatoria en la definifición de producto de un matrix.\n",
        "    for i in range(0,dim1[0]):\n",
        "      for j in range(0,dim2[1]):\n",
        "        for m in range(0,dim1[1]):\n",
        "          Mul[i][j]= Mul[i][j]+ M1[i][m]*M2[m][j]\n",
        "    return Mul\n",
        "  else:\n",
        "    return 'Las dimesiones no son las acordes'"
      ],
      "metadata": {
        "id": "r5jtVeUqqByZ"
      },
      "execution_count": null,
      "outputs": []
    },
    {
      "cell_type": "code",
      "source": [
        "#Multiplicando matrices\n",
        "M4=np.array([[1,1],\n",
        "             [0,1]])\n",
        "M5=np.array([[2,1],\n",
        "             [2,1]])\n",
        "\n",
        "print(multiplicacion_matrices(M4,M5))"
      ],
      "metadata": {
        "colab": {
          "base_uri": "https://localhost:8080/"
        },
        "id": "e7VV-YpxrC6e",
        "outputId": "d93bfdfa-4181-4216-efcf-336fc04bfddf"
      },
      "execution_count": null,
      "outputs": [
        {
          "output_type": "stream",
          "name": "stdout",
          "text": [
            "[[4. 2.]\n",
            " [2. 1.]]\n"
          ]
        }
      ]
    },
    {
      "cell_type": "code",
      "source": [
        "#Transpuesta de una matriz\n",
        "\n",
        "def transpuesta_matriz(A):\n",
        "  dim=np.shape(A)\n",
        "  A_transpuesta=np.zeros((dim[1],dim[0]))\n",
        "\n",
        "  for i in range(0,dim[0]):\n",
        "    A_transpuesta[:,i]=A[i] #Intercambiando filas por Columnas\n",
        "\n",
        "  return A_transpuesta"
      ],
      "metadata": {
        "id": "Vq1Tk2ZtTL4N"
      },
      "execution_count": null,
      "outputs": []
    },
    {
      "cell_type": "code",
      "source": [
        "#Calculando la transpuesta de una matriz\n",
        "B=np.array([[4,5,6,7],\n",
        "            [8,13,21,15],\n",
        "            [17,22,23,18]])\n",
        "\n",
        "print(transpuesta_matriz(B))\n",
        "\n",
        "print('_______________________')\n",
        "#Calculando la transpuesta para uno objeto tipo matriz\n",
        "B_=np.matrix([[4,5,6,7],[8,13,21,15],[17,22,23,18]])\n",
        "print(transpuesta_matriz(B_))"
      ],
      "metadata": {
        "colab": {
          "base_uri": "https://localhost:8080/"
        },
        "id": "K1sLh2NvWsKm",
        "outputId": "0d726324-a85b-4de0-9e94-3f2bd21cd0c3"
      },
      "execution_count": null,
      "outputs": [
        {
          "output_type": "stream",
          "name": "stdout",
          "text": [
            "[[ 4.  8. 17.]\n",
            " [ 5. 13. 22.]\n",
            " [ 6. 21. 23.]\n",
            " [ 7. 15. 18.]]\n",
            "_______________________\n",
            "[[ 4.  8. 17.]\n",
            " [ 5. 13. 22.]\n",
            " [ 6. 21. 23.]\n",
            " [ 7. 15. 18.]]\n"
          ]
        }
      ]
    },
    {
      "cell_type": "code",
      "source": [
        "#Rotación\n",
        "def rotacion(v,theta):\n",
        "  theta_rad=np.deg2rad(theta)\n",
        "  R=np.matrix([[np.cos(theta_rad),-np.sin(theta_rad)],[np.sin(theta_rad),np.cos(theta_rad)]])\n",
        "\n",
        "  dim_v=np.shape(v)\n",
        "  if dim_v==(1,2):\n",
        "    Rotacion= R*np.transpose(v)\n",
        "    return np.transpose(Rotacion)\n",
        "\n",
        "  else:\n",
        "    return 'Solo calcula para rtación para vectores de dimensión 2'\n"
      ],
      "metadata": {
        "id": "qRh4FO79ORpb"
      },
      "execution_count": null,
      "outputs": []
    },
    {
      "cell_type": "code",
      "source": [
        "#Calculando para el valor pedido\n",
        "v=np.matrix([[1,1]])\n",
        "v_rot=rotacion(v,20)\n",
        "print(f'El vector {v} rotado 20° es {v_rot}')"
      ],
      "metadata": {
        "colab": {
          "base_uri": "https://localhost:8080/"
        },
        "id": "gGmSo9n8P_Rj",
        "outputId": "93e74d09-6532-4ed9-9567-1f748a3f83af"
      },
      "execution_count": null,
      "outputs": [
        {
          "output_type": "stream",
          "name": "stdout",
          "text": [
            "El vector [[1 1]] rotado 20° es [[0.59767248 1.28171276]]\n"
          ]
        }
      ]
    },
    {
      "cell_type": "code",
      "source": [
        "#Graficando el resultado de la rotación\n",
        "plt.figure()\n",
        "plt.quiver(0,0,v[0,0],v[0,1],scale_units='xy',angles='xy',scale=1, color='red', label='v')\n",
        "plt.quiver(0,0,v_rot[0,0],v_rot[0,1],scale_units='xy',angles='xy',scale=1, color='blue', label='v rotación')\n",
        "plt.ylim(0,2)\n",
        "plt.xlim(0,2)\n",
        "plt.xlabel('x',fontsize=12)\n",
        "plt.ylabel('y',fontsize=12)\n",
        "plt.title('Vector y su rotación', fontsize=14)\n",
        "plt.grid()\n",
        "plt.legend()"
      ],
      "metadata": {
        "colab": {
          "base_uri": "https://localhost:8080/",
          "height": 496
        },
        "id": "KMVxJVe-bX6P",
        "outputId": "62e01db1-64ad-4e3c-c7c9-653eb15914e3"
      },
      "execution_count": null,
      "outputs": [
        {
          "output_type": "execute_result",
          "data": {
            "text/plain": [
              "<matplotlib.legend.Legend at 0x7afa7914a980>"
            ]
          },
          "metadata": {},
          "execution_count": 109
        },
        {
          "output_type": "display_data",
          "data": {
            "text/plain": [
              "<Figure size 640x480 with 1 Axes>"
            ],
            "image/png": "[encoded data removed]"
          },
          "metadata": {}
        }
      ]
    }
  ]
}