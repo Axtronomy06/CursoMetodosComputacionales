{
 "cells": [
  {
   "cell_type": "markdown",
   "metadata": {
    "id": "mXC3-e-jYWS9"
   },
   "source": [
    "## Campo eléctrico - Melanie Andrea Munoz Chavarria\n",
    "\n",
    "1. Elaborar un programa para calcular el campo eléctrico producido por un dipolo eléctrico, realizar una representación del campo para todo el dominio\n",
    "elegido para calcular el campo. Para encontrar el campo, se sugiere hacer lo siguiente:\n",
    "\n",
    "- a. Encontrar el campo en un punto producido por dos cargas q1 y q2\n",
    "- b. Emplee el comando  plt.quiver(x, y, Ex, Ey) para mostrar el campo producido por q1 y q2. Puedes intentarlo con el comando, plt.stremplot.\n",
    "- c. Generalice el problema para varios puntos en el espacio.\n",
    "\n",
    "Se recomienda emplear numpy array."
   ]
  },
  {
   "cell_type": "markdown",
   "metadata": {
    "id": "7RDP5bHlpzta"
   },
   "source": [
    "Este programa calcula el campo eléctrico de un dipol, definido por:\n",
    "\\begin"
   ]
  },
  {
   "cell_type": "code",
   "execution_count": 1,
   "metadata": {
    "id": "QKxzQI-9cP3t"
   },
   "outputs": [],
   "source": [
    "import numpy as np\n",
    "import matplotlib.pyplot as plt"
   ]
  },
  {
   "cell_type": "markdown",
   "metadata": {
    "id": "4C_TiviVxf7f"
   },
   "source": [
    "###El campo eleéctrico en un punto, para dos cargas q1 y q2.\n",
    "\n",
    "A partir de la ecuación:\n",
    "\n",
    "$\\vec{E}= \\frac{1}{4 \\pi \\epsilon_{0}} \\frac{q}{r^2} \\hat{\\Delta{r}}$\n",
    "\n",
    "\n",
    "Haciendo la resta respectiva entre los vectores posición de las párticulas cargadas ( $\\vec{r_1}$ y $\\vec{r_2}$) y el punto donde se desea calcular el campo ($\\vec{r_p}$). Se hace una resta tal que:\n",
    "$\\vec{\\Delta{r}}= \\vec{r_p} - \\vec{r_i}$\n",
    "\n",
    "Luego normalizando este vector, se multiplica por la magnitud del campo, es decir $E=\\frac{1}{4 \\pi \\epsilon_{0}} \\frac{q}{r^2} $. Obtienndo así un vector co las componentes Ex y Ey del campo.  \n",
    "\n",
    "\n",
    "\n"
   ]
  },
  {
   "cell_type": "code",
   "execution_count": 2,
   "metadata": {
    "colab": {
     "base_uri": "https://localhost:8080/"
    },
    "id": "JgBYn5LHhBEN",
    "outputId": "119bead8-530e-4dec-a50b-7744d0357f77"
   },
   "outputs": [
    {
     "name": "stdout",
     "output_type": "stream",
     "text": [
      "Campo carga positiva [3.18198052 3.18198052] [N/C]\n",
      "Campo carga negativa [ 3.18198052 -3.18198052] [N/C]\n"
     ]
    }
   ],
   "source": [
    "#Posición particula positiva\n",
    "x1=-1\n",
    "y1= 0\n",
    "\n",
    "#Posición punto\n",
    "xp=0\n",
    "yp=1\n",
    "\n",
    "#Posición carga negativo\n",
    "x2=1\n",
    "y2=0\n",
    "#Valores Cargas\n",
    "q1=(1*10**(9)) #Con este valor para cancelar la potencia negativa de la constante de Coulomb, note que la carga tiene unidades de  nC\n",
    "q2=(-q1)\n",
    "\n",
    "#Vector posición a la carga positiva\n",
    "r1=np.array([x1,y1])\n",
    "\n",
    "#Vector posición del punto\n",
    "rp=np.array([xp,yp])\n",
    "\n",
    "#Vector posición a la carga negativa\n",
    "r2=np.array([x2,y2])\n",
    "\n",
    "\n",
    "#Campo para la carga positiva\n",
    "k=9*10**(-9)\n",
    "delta_q1=rp-r1\n",
    "magnitud_delta_q1=np.linalg.norm(delta_q1) #Norma\n",
    "unitario_q1=(1/magnitud_delta_q1)*(delta_q1) #Unitario\n",
    "magnitud_campo_q1= k*(q1/(magnitud_delta_q1)**2) #Magnitud campo\n",
    "campo_q1=(magnitud_campo_q1)*(unitario_q1) #Componentes x, y del campo\n",
    "print(f'Campo carga positiva {campo_q1} [N/C]')\n",
    "\n",
    "#Campo para la carga negativa\n",
    "delta_q2=rp-r2\n",
    "magnitud_delta_q2=np.linalg.norm(delta_q2)\n",
    "unitario_q2=(1/magnitud_delta_q2)*(delta_q2)\n",
    "magnitud_campo_q2=k*(q2/(magnitud_delta_q2)**2)\n",
    "campo_q2=(magnitud_campo_q2)*(unitario_q2)\n",
    "print(f'Campo carga negativa {campo_q2} [N/C]')\n"
   ]
  },
  {
   "cell_type": "markdown",
   "metadata": {
    "id": "hkGBHdyA2SWk"
   },
   "source": [
    "###Función campo eléctrico\n",
    "\n",
    "Tomando el mismo desarollo para el campo eléctrico generado por dos cargas en un punto fijo. Se toma la magtitud del campo, multiplicandola por el vector unitario, con una función con paramétros para la carga, la posición del punto (xp,yp) y la posición de la particula (xi,yi)"
   ]
  },
  {
   "cell_type": "code",
   "execution_count": 3,
   "metadata": {
    "colab": {
     "base_uri": "https://localhost:8080/"
    },
    "id": "6ws3jKFOiCJ6",
    "outputId": "a2d71934-7580-4da3-ae58-f8112364a850"
   },
   "outputs": [
    {
     "data": {
      "text/plain": [
       "array([2.74784643e-10, 4.80873125e-10])"
      ]
     },
     "execution_count": 3,
     "metadata": {},
     "output_type": "execute_result"
    }
   ],
   "source": [
    "def campo_electrico(carga,x_punto,y_punto,x_carga,y_carga):\n",
    "  r1=np.array([x_carga,y_carga])\n",
    "  rp=np.array([x_punto,y_punto])\n",
    "  delta_carga=rp-r1\n",
    "  magnitud_delta_carga=np.linalg.norm(delta_carga)\n",
    "  unitario_carga=(1/magnitud_delta_carga)*(delta_carga)\n",
    "  magnitud_campo_carga= k*(carga/(magnitud_delta_carga)**2)\n",
    "  campo_carga=(magnitud_campo_carga)*(unitario_carga)\n",
    "  return campo_carga\n",
    "\n",
    "campo_electrico(4,3,7,-1,0)"
   ]
  },
  {
   "cell_type": "markdown",
   "metadata": {
    "id": "2LOAln_1SoD4"
   },
   "source": [
    "###Campo producido\n",
    "Para el primer caso, tomando tres puntos, se hace un uso sencillo de plt.quiver()\n",
    "Para el caso, generalizado, con la ayuda de una iteración primero sobre \"xp\" y luego sobre \"yp\" (las coordenadas del punto donde se desea calcular el campo), Con la ayuda de np.arange(), dandole un valor inicial y final, en intervalos de 1. Se uso nuevamente la función plt.quiver()\n",
    "\n",
    "En ambos casos, lo que se hace para obtener el campo es usar la función campo_electrico y dándole ciertos valores, para luego guardarlos en variables E1 (campo negativo) y E2 (campo positivo) y después E=E1+E2"
   ]
  },
  {
   "cell_type": "code",
   "execution_count": 4,
   "metadata": {
    "colab": {
     "base_uri": "https://localhost:8080/",
     "height": 489
    },
    "id": "tUqiv3Zkun1K",
    "outputId": "c5380deb-f764-4f74-b74d-ad56a43caa13"
   },
   "outputs": [
    {
     "name": "stdout",
     "output_type": "stream",
     "text": [
      "[3.18198052 3.18198052]\n",
      "[ 3.18198052 -3.18198052]\n",
      "[6.36396103 0.        ]\n"
     ]
    },
    {
     "data": {
      "text/plain": [
       "Text(0, 0.5, 'y')"
      ]
     },
     "execution_count": 4,
     "metadata": {},
     "output_type": "execute_result"
    },
    {
     "data": {
      "image/png": "[encoded data removed]",
      "text/plain": [
       "<Figure size 400x400 with 1 Axes>"
      ]
     },
     "metadata": {},
     "output_type": "display_data"
    }
   ],
   "source": [
    "#Campo del dipolo\n",
    "E1= campo_electrico(q1,xp,yp,x1,y1) #Campo carga negativa\n",
    "print(E1)\n",
    "E2=campo_electrico(q2,xp,yp,x2,y2) #Campo carga positiva\n",
    "print(E2)\n",
    "E=E1+E2\n",
    "print(E)\n",
    "#Figura para 2 cargas y una carga de prueba\n",
    "plt.figure(figsize=(4,4))\n",
    "plt.plot(x1,y1,'ro')\n",
    "plt.plot(x2,y2,'bo')\n",
    "plt.plot(xp,yp,'go')\n",
    "plt.quiver(xp,yp,E[0],E[1])\n",
    "plt.grid()\n",
    "plt.title('Campo eléctrico en punto [N\\C]',fontsize=16)\n",
    "plt.xlabel('x',fontsize=16)\n",
    "plt.ylabel('y',fontsize=16)\n",
    "\n"
   ]
  },
  {
   "cell_type": "code",
   "execution_count": 5,
   "metadata": {
    "colab": {
     "base_uri": "https://localhost:8080/",
     "height": 643
    },
    "id": "c7ALT_Eq-ODe",
    "outputId": "95da7e2b-9a81-4506-b766-b43b7904fac5"
   },
   "outputs": [
    {
     "name": "stderr",
     "output_type": "stream",
     "text": [
      "/var/folders/6s/h5hh29jn1dqd4r627s043vy40000gn/T/ipykernel_13187/1900324172.py:6: RuntimeWarning: divide by zero encountered in double_scalars\n",
      "  unitario_carga=(1/magnitud_delta_carga)*(delta_carga)\n",
      "/var/folders/6s/h5hh29jn1dqd4r627s043vy40000gn/T/ipykernel_13187/1900324172.py:6: RuntimeWarning: invalid value encountered in multiply\n",
      "  unitario_carga=(1/magnitud_delta_carga)*(delta_carga)\n",
      "/var/folders/6s/h5hh29jn1dqd4r627s043vy40000gn/T/ipykernel_13187/1900324172.py:7: RuntimeWarning: divide by zero encountered in double_scalars\n",
      "  magnitud_campo_carga= k*(carga/(magnitud_delta_carga)**2)\n",
      "/Users/neuman/anaconda3/lib/python3.10/site-packages/matplotlib/quiver.py:628: RuntimeWarning: Mean of empty slice.\n",
      "  amean = a[~self.Umask].mean()\n",
      "/Users/neuman/anaconda3/lib/python3.10/site-packages/numpy/core/_methods.py:190: RuntimeWarning: invalid value encountered in double_scalars\n",
      "  ret = ret.dtype.type(ret / rcount)\n"
     ]
    },
    {
     "data": {
      "image/png": "[encoded data removed]",
      "text/plain": [
       "<Figure size 640x480 with 1 Axes>"
      ]
     },
     "metadata": {},
     "output_type": "display_data"
    }
   ],
   "source": [
    "#Intervalos y salto, para el valor rp\n",
    "componente_x=np.arange(-4,4,1)\n",
    "componente_y=np.arange(-4,4,1)\n",
    "\n",
    "#Iteración para recorrer los intervalos\n",
    "for x in componente_x:\n",
    "  for y in componente_y:\n",
    "    E1= campo_electrico(q1,x,y,x1,y1) #Campo carga negativa\n",
    "    E2=campo_electrico(q2,x,y,x2,y2) #Campo carga positiva\n",
    "    E=E1+E2\n",
    "\n",
    "    plt.quiver(x,y,E[0],E[1])\n",
    "#Figura\n",
    "plt.plot(x1,y1,'ro',markersize=10)\n",
    "plt.plot(x2,y2,'bo', markersize= 10)\n",
    "plt.title('Campo eléctrico de un dipolo [N\\C]',fontsize=10)\n",
    "plt.xlabel('x',fontsize=10)\n",
    "plt.ylabel('y',fontsize=10)\n",
    "plt.xlim(-4,4)\n",
    "plt.ylim(-4,4)\n",
    "plt.show()\n",
    "\n"
   ]
  },
  {
   "cell_type": "markdown",
   "metadata": {
    "id": "8wxF1qcnFkHI"
   },
   "source": [
    "###Generalización\n"
   ]
  },
  {
   "cell_type": "code",
   "execution_count": 6,
   "metadata": {
    "colab": {
     "base_uri": "https://localhost:8080/"
    },
    "id": "Kn3_FZn3FtE5",
    "outputId": "b4c71c07-4890-48f9-84b4-172260a48658"
   },
   "outputs": [
    {
     "name": "stdout",
     "output_type": "stream",
     "text": [
      "Ingrese el valor de la carga positiva en Coulombs2\n",
      "Ingrese la posición en x de la partícula positiva2\n",
      "Ingrese la posición en y de la partícula positiva2\n",
      "Ingrese la posición en x de la partícula negativa2\n",
      "Ingrese la posición en y de la partícula negativa2\n",
      "Ingrese el valor límite inicial de x2\n",
      "Ingrese el valor de límite final de x2\n",
      "ingrese el valor del salto para x2\n",
      "Ingrese el valor límite inicial de y2\n",
      "Ingrese el valor de límite final de y2\n",
      "ingrese el valor del salto para y2\n"
     ]
    }
   ],
   "source": [
    "1#Datos\n",
    "q1=int(input('Ingrese el valor de la carga positiva en Coulombs'))\n",
    "q2=-q1\n",
    "x1=int(input('Ingrese la posición en x de la partícula positiva'))\n",
    "y1=int(input('Ingrese la posición en y de la partícula positiva'))\n",
    "x2=int(input('Ingrese la posición en x de la partícula negativa'))\n",
    "y2=int(input('Ingrese la posición en y de la partícula negativa'))\n",
    "inicio_x=int(input('Ingrese el valor límite inicial de x'))\n",
    "final_x=int(input('Ingrese el valor de límite final de x'))\n",
    "salto_x=int(input('ingrese el valor del salto para x'))\n",
    "inicio_y=int(input('Ingrese el valor límite inicial de y'))\n",
    "final_y=int(input('Ingrese el valor de límite final de y'))\n",
    "salto_y=int(input('ingrese el valor del salto para y'))\n",
    "\n",
    "componente_x=np.arange(inicio_x,final_x,salto_x)\n",
    "componente_y=np.arange(inicio_y,final_y,salto_y)\n",
    "for x in componente_x:\n",
    "  for y in componente_y:\n",
    "    E1= campo_electrico(q1,x,y,x1,y1) #Campo carga negativa\n",
    "    E2=campo_electrico(q2,x,y,x2,y2) #Campo carga positiva\n",
    "    E=E1+E2\n",
    "    print((x,y),E[0],E[1])\n",
    "\n"
   ]
  },
  {
   "cell_type": "code",
   "execution_count": null,
   "metadata": {},
   "outputs": [],
   "source": []
  }
 ],
 "metadata": {
  "colab": {
   "provenance": []
  },
  "kernelspec": {
   "display_name": "Python 3 (ipykernel)",
   "language": "python",
   "name": "python3"
  },
  "language_info": {
   "codemirror_mode": {
    "name": "ipython",
    "version": 3
   },
   "file_extension": ".py",
   "mimetype": "text/x-python",
   "name": "python",
   "nbconvert_exporter": "python",
   "pygments_lexer": "ipython3",
   "version": "3.10.9"
  }
 },
 "nbformat": 4,
 "nbformat_minor": 1
}
