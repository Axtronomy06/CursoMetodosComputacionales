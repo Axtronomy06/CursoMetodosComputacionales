{
  "nbformat": 4,
  "nbformat_minor": 0,
  "metadata": {
    "colab": {
      "provenance": []
    },
    "kernelspec": {
      "name": "python3",
      "display_name": "Python 3"
    },
    "language_info": {
      "name": "python"
    }
  },
  "cells": [
    {
      "cell_type": "markdown",
      "source": [
        "#**Laboratorio 7: integración y derivación - Melanie Andrea Muñoz Chavarria**"
      ],
      "metadata": {
        "id": "Ek9nfXLf1OH-"
      }
    },
    {
      "cell_type": "code",
      "execution_count": 1,
      "metadata": {
        "id": "eYyuVKmHZMj9"
      },
      "outputs": [],
      "source": [
        "import numpy as np\n",
        "import matplotlib.pyplot as plt\n",
        "import pandas as pd\n",
        "import scipy as sc\n",
        "import sympy as sy"
      ]
    },
    {
      "cell_type": "markdown",
      "source": [
        "##**Parte 1**\n",
        "1. En un cirtcuito con un voltaje de  $\\varepsilon(t)$ y una inductancia de L, la primera ley de kirshhoff nos da la siguiente relación\n",
        "\n",
        "\\begin{equation}\n",
        "\\varepsilon(t) = L\\frac{\\mathrm{d}i}{\\mathrm{d}t} + Ri\n",
        "\\end{equation}\n",
        "\n",
        "donde r, es la resistencia del ciruito, i es la corriente. Suponga que medimos la corriente con varios valores de t y obtenemos:\n",
        "\n",
        "t = 1.00, 1.01, 1.02, 1.03, 1.0\n",
        "\n",
        "i = 3.10, 3.12, 3.14, 3.18, 3.24\n",
        "\n",
        "\n",
        "donde t se mide en segundos, i se de en amper, la inductancia L es una constante de 0.98 herios, la resistencia es de 0.142 ohms. Aproxime el votaje  $\\varepsilon(t)$ en los valores t=1.00, 1.01, 1.02, 1.03, 1.04 ,  para ello realice lo siguiente:\n",
        "\n",
        "\n",
        "- Construya un data frame de pandas con los valores de tiempo y corriente\n",
        "- Emplee un metodo calcular la derivada numérica."
      ],
      "metadata": {
        "id": "GG-JlFfm1fkV"
      }
    },
    {
      "cell_type": "markdown",
      "source": [
        "####**Data Frame**"
      ],
      "metadata": {
        "id": "1ardU0LS2qIL"
      }
    },
    {
      "cell_type": "code",
      "source": [
        "#Puntos\n",
        "t=np.array([1.00,1.01,1.02,1.03,1.04])\n",
        "i=np.array([3.10,3.12,3.14,3.18,3.24])"
      ],
      "metadata": {
        "id": "a7q-aI7GZV9F"
      },
      "execution_count": 2,
      "outputs": []
    },
    {
      "cell_type": "code",
      "source": [
        "#Data Frama\n",
        "data={'Tiempo [s]':t,'Corriente [A]':i}\n",
        "df=pd.DataFrame(data) #Para pasardel diccionario al data\n",
        "df"
      ],
      "metadata": {
        "colab": {
          "base_uri": "https://localhost:8080/",
          "height": 206
        },
        "id": "X3HEo-j_byY2",
        "outputId": "c2956b1f-5cd6-4247-8df2-8a06cae0dea5"
      },
      "execution_count": 3,
      "outputs": [
        {
          "output_type": "execute_result",
          "data": {
            "text/plain": [
              "   Tiempo [s]  Corriente [A]\n",
              "0        1.00           3.10\n",
              "1        1.01           3.12\n",
              "2        1.02           3.14\n",
              "3        1.03           3.18\n",
              "4        1.04           3.24"
            ],
            "text/html": [
              "\n",
              "  <div id=\"df-ec50dfa2-709e-4a45-af1e-d225d23925c0\" class=\"colab-df-container\">\n",
              "    <div>\n",
              "<style scoped>\n",
              "    .dataframe tbody tr th:only-of-type {\n",
              "        vertical-align: middle;\n",
              "    }\n",
              "\n",
              "    .dataframe tbody tr th {\n",
              "        vertical-align: top;\n",
              "    }\n",
              "\n",
              "    .dataframe thead th {\n",
              "        text-align: right;\n",
              "    }\n",
              "</style>\n",
              "<table border=\"1\" class=\"dataframe\">\n",
              "  <thead>\n",
              "    <tr style=\"text-align: right;\">\n",
              "      <th></th>\n",
              "      <th>Tiempo [s]</th>\n",
              "      <th>Corriente [A]</th>\n",
              "    </tr>\n",
              "  </thead>\n",
              "  <tbody>\n",
              "    <tr>\n",
              "      <th>0</th>\n",
              "      <td>1.00</td>\n",
              "      <td>3.10</td>\n",
              "    </tr>\n",
              "    <tr>\n",
              "      <th>1</th>\n",
              "      <td>1.01</td>\n",
              "      <td>3.12</td>\n",
              "    </tr>\n",
              "    <tr>\n",
              "      <th>2</th>\n",
              "      <td>1.02</td>\n",
              "      <td>3.14</td>\n",
              "    </tr>\n",
              "    <tr>\n",
              "      <th>3</th>\n",
              "      <td>1.03</td>\n",
              "      <td>3.18</td>\n",
              "    </tr>\n",
              "    <tr>\n",
              "      <th>4</th>\n",
              "      <td>1.04</td>\n",
              "      <td>3.24</td>\n",
              "    </tr>\n",
              "  </tbody>\n",
              "</table>\n",
              "</div>\n",
              "    <div class=\"colab-df-buttons\">\n",
              "\n",
              "  <div class=\"colab-df-container\">\n",
              "    <button class=\"colab-df-convert\" onclick=\"convertToInteractive('df-ec50dfa2-709e-4a45-af1e-d225d23925c0')\"\n",
              "            title=\"Convert this dataframe to an interactive table.\"\n",
              "            style=\"display:none;\">\n",
              "\n",
              "  <svg xmlns=\"http://www.w3.org/2000/svg\" height=\"24px\" viewBox=\"0 -960 960 960\">\n",
              "    <path d=\"M120-120v-720h720v720H120Zm60-500h600v-160H180v160Zm220 220h160v-160H400v160Zm0 220h160v-160H400v160ZM180-400h160v-160H180v160Zm440 0h160v-160H620v160ZM180-180h160v-160H180v160Zm440 0h160v-160H620v160Z\"/>\n",
              "  </svg>\n",
              "    </button>\n",
              "\n",
              "  <style>\n",
              "    .colab-df-container {\n",
              "      display:flex;\n",
              "      gap: 12px;\n",
              "    }\n",
              "\n",
              "    .colab-df-convert {\n",
              "      background-color: #E8F0FE;\n",
              "      border: none;\n",
              "      border-radius: 50%;\n",
              "      cursor: pointer;\n",
              "      display: none;\n",
              "      fill: #1967D2;\n",
              "      height: 32px;\n",
              "      padding: 0 0 0 0;\n",
              "      width: 32px;\n",
              "    }\n",
              "\n",
              "    .colab-df-convert:hover {\n",
              "      background-color: #E2EBFA;\n",
              "      box-shadow: 0px 1px 2px rgba(60, 64, 67, 0.3), 0px 1px 3px 1px rgba(60, 64, 67, 0.15);\n",
              "      fill: #174EA6;\n",
              "    }\n",
              "\n",
              "    .colab-df-buttons div {\n",
              "      margin-bottom: 4px;\n",
              "    }\n",
              "\n",
              "    [theme=dark] .colab-df-convert {\n",
              "      background-color: #3B4455;\n",
              "      fill: #D2E3FC;\n",
              "    }\n",
              "\n",
              "    [theme=dark] .colab-df-convert:hover {\n",
              "      background-color: #434B5C;\n",
              "      box-shadow: 0px 1px 3px 1px rgba(0, 0, 0, 0.15);\n",
              "      filter: drop-shadow(0px 1px 2px rgba(0, 0, 0, 0.3));\n",
              "      fill: #FFFFFF;\n",
              "    }\n",
              "  </style>\n",
              "\n",
              "    <script>\n",
              "      const buttonEl =\n",
              "        document.querySelector('#df-ec50dfa2-709e-4a45-af1e-d225d23925c0 button.colab-df-convert');\n",
              "      buttonEl.style.display =\n",
              "        google.colab.kernel.accessAllowed ? 'block' : 'none';\n",
              "\n",
              "      async function convertToInteractive(key) {\n",
              "        const element = document.querySelector('#df-ec50dfa2-709e-4a45-af1e-d225d23925c0');\n",
              "        const dataTable =\n",
              "          await google.colab.kernel.invokeFunction('convertToInteractive',\n",
              "                                                    [key], {});\n",
              "        if (!dataTable) return;\n",
              "\n",
              "        const docLinkHtml = 'Like what you see? Visit the ' +\n",
              "          '<a target=\"_blank\" href=https://colab.research.google.com/notebooks/data_table.ipynb>data table notebook</a>'\n",
              "          + ' to learn more about interactive tables.';\n",
              "        element.innerHTML = '';\n",
              "        dataTable['output_type'] = 'display_data';\n",
              "        await google.colab.output.renderOutput(dataTable, element);\n",
              "        const docLink = document.createElement('div');\n",
              "        docLink.innerHTML = docLinkHtml;\n",
              "        element.appendChild(docLink);\n",
              "      }\n",
              "    </script>\n",
              "  </div>\n",
              "\n",
              "\n",
              "<div id=\"df-3b401274-3206-4973-9c97-84387ad4103d\">\n",
              "  <button class=\"colab-df-quickchart\" onclick=\"quickchart('df-3b401274-3206-4973-9c97-84387ad4103d')\"\n",
              "            title=\"Suggest charts.\"\n",
              "            style=\"display:none;\">\n",
              "\n",
              "<svg xmlns=\"http://www.w3.org/2000/svg\" height=\"24px\"viewBox=\"0 0 24 24\"\n",
              "     width=\"24px\">\n",
              "    <g>\n",
              "        <path d=\"M19 3H5c-1.1 0-2 .9-2 2v14c0 1.1.9 2 2 2h14c1.1 0 2-.9 2-2V5c0-1.1-.9-2-2-2zM9 17H7v-7h2v7zm4 0h-2V7h2v10zm4 0h-2v-4h2v4z\"/>\n",
              "    </g>\n",
              "</svg>\n",
              "  </button>\n",
              "\n",
              "<style>\n",
              "  .colab-df-quickchart {\n",
              "      --bg-color: #E8F0FE;\n",
              "      --fill-color: #1967D2;\n",
              "      --hover-bg-color: #E2EBFA;\n",
              "      --hover-fill-color: #174EA6;\n",
              "      --disabled-fill-color: #AAA;\n",
              "      --disabled-bg-color: #DDD;\n",
              "  }\n",
              "\n",
              "  [theme=dark] .colab-df-quickchart {\n",
              "      --bg-color: #3B4455;\n",
              "      --fill-color: #D2E3FC;\n",
              "      --hover-bg-color: #434B5C;\n",
              "      --hover-fill-color: #FFFFFF;\n",
              "      --disabled-bg-color: #3B4455;\n",
              "      --disabled-fill-color: #666;\n",
              "  }\n",
              "\n",
              "  .colab-df-quickchart {\n",
              "    background-color: var(--bg-color);\n",
              "    border: none;\n",
              "    border-radius: 50%;\n",
              "    cursor: pointer;\n",
              "    display: none;\n",
              "    fill: var(--fill-color);\n",
              "    height: 32px;\n",
              "    padding: 0;\n",
              "    width: 32px;\n",
              "  }\n",
              "\n",
              "  .colab-df-quickchart:hover {\n",
              "    background-color: var(--hover-bg-color);\n",
              "    box-shadow: 0 1px 2px rgba(60, 64, 67, 0.3), 0 1px 3px 1px rgba(60, 64, 67, 0.15);\n",
              "    fill: var(--button-hover-fill-color);\n",
              "  }\n",
              "\n",
              "  .colab-df-quickchart-complete:disabled,\n",
              "  .colab-df-quickchart-complete:disabled:hover {\n",
              "    background-color: var(--disabled-bg-color);\n",
              "    fill: var(--disabled-fill-color);\n",
              "    box-shadow: none;\n",
              "  }\n",
              "\n",
              "  .colab-df-spinner {\n",
              "    border: 2px solid var(--fill-color);\n",
              "    border-color: transparent;\n",
              "    border-bottom-color: var(--fill-color);\n",
              "    animation:\n",
              "      spin 1s steps(1) infinite;\n",
              "  }\n",
              "\n",
              "  @keyframes spin {\n",
              "    0% {\n",
              "      border-color: transparent;\n",
              "      border-bottom-color: var(--fill-color);\n",
              "      border-left-color: var(--fill-color);\n",
              "    }\n",
              "    20% {\n",
              "      border-color: transparent;\n",
              "      border-left-color: var(--fill-color);\n",
              "      border-top-color: var(--fill-color);\n",
              "    }\n",
              "    30% {\n",
              "      border-color: transparent;\n",
              "      border-left-color: var(--fill-color);\n",
              "      border-top-color: var(--fill-color);\n",
              "      border-right-color: var(--fill-color);\n",
              "    }\n",
              "    40% {\n",
              "      border-color: transparent;\n",
              "      border-right-color: var(--fill-color);\n",
              "      border-top-color: var(--fill-color);\n",
              "    }\n",
              "    60% {\n",
              "      border-color: transparent;\n",
              "      border-right-color: var(--fill-color);\n",
              "    }\n",
              "    80% {\n",
              "      border-color: transparent;\n",
              "      border-right-color: var(--fill-color);\n",
              "      border-bottom-color: var(--fill-color);\n",
              "    }\n",
              "    90% {\n",
              "      border-color: transparent;\n",
              "      border-bottom-color: var(--fill-color);\n",
              "    }\n",
              "  }\n",
              "</style>\n",
              "\n",
              "  <script>\n",
              "    async function quickchart(key) {\n",
              "      const quickchartButtonEl =\n",
              "        document.querySelector('#' + key + ' button');\n",
              "      quickchartButtonEl.disabled = true;  // To prevent multiple clicks.\n",
              "      quickchartButtonEl.classList.add('colab-df-spinner');\n",
              "      try {\n",
              "        const charts = await google.colab.kernel.invokeFunction(\n",
              "            'suggestCharts', [key], {});\n",
              "      } catch (error) {\n",
              "        console.error('Error during call to suggestCharts:', error);\n",
              "      }\n",
              "      quickchartButtonEl.classList.remove('colab-df-spinner');\n",
              "      quickchartButtonEl.classList.add('colab-df-quickchart-complete');\n",
              "    }\n",
              "    (() => {\n",
              "      let quickchartButtonEl =\n",
              "        document.querySelector('#df-3b401274-3206-4973-9c97-84387ad4103d button');\n",
              "      quickchartButtonEl.style.display =\n",
              "        google.colab.kernel.accessAllowed ? 'block' : 'none';\n",
              "    })();\n",
              "  </script>\n",
              "</div>\n",
              "    </div>\n",
              "  </div>\n"
            ]
          },
          "metadata": {},
          "execution_count": 3
        }
      ]
    },
    {
      "cell_type": "code",
      "source": [
        "#Gráfico de los datos del data Frame\n",
        "plt.figure()\n",
        "plt.plot(df['Tiempo [s]'],df['Corriente [A]'], '.r-',markersize=12)\n",
        "plt.title('Corriente (i) en función del tiempo (t)',fontsize=20)\n",
        "plt.xlabel('t [s]',fontsize=12)\n",
        "plt.ylabel('I [A]', fontsize=12)\n",
        "\n",
        "plt.grid()"
      ],
      "metadata": {
        "colab": {
          "base_uri": "https://localhost:8080/",
          "height": 485
        },
        "id": "lk_Ue67VbERT",
        "outputId": "502d22ec-8f34-41b8-9b3e-b527717dfad7"
      },
      "execution_count": 4,
      "outputs": [
        {
          "output_type": "display_data",
          "data": {
            "text/plain": [
              "<Figure size 640x480 with 1 Axes>"
            ],
            "image/png": "[encoded data removed]"
          },
          "metadata": {}
        }
      ]
    },
    {
      "cell_type": "markdown",
      "source": [
        "####**Derivadas númericas con pendientes**"
      ],
      "metadata": {
        "id": "9IMZXTMJ2-8d"
      }
    },
    {
      "cell_type": "code",
      "source": [
        "#Pendientes/Derivadas  #Falta por polinomio de lagrange eeeee\n",
        "m=np.diff(i)/np.diff(t)"
      ],
      "metadata": {
        "id": "rWCahSTAasdF"
      },
      "execution_count": 5,
      "outputs": []
    },
    {
      "cell_type": "code",
      "source": [
        "#Para obtener cuatro puntos se toman los promedios de los valores, con vectorización\n",
        "i_promedios=(i[0:4]+i[1:])/2\n",
        "print(i_promedios)\n",
        "\n",
        "t_promedios=(t[0:4]+t[1:])/2\n",
        "print(t_promedios)\n"
      ],
      "metadata": {
        "colab": {
          "base_uri": "https://localhost:8080/"
        },
        "id": "BjJ0zbImfKQ_",
        "outputId": "5f32ba6d-fd90-43d9-e8b7-bf70b3311870"
      },
      "execution_count": 6,
      "outputs": [
        {
          "output_type": "stream",
          "name": "stdout",
          "text": [
            "[3.11 3.13 3.16 3.21]\n",
            "[1.005 1.015 1.025 1.035]\n"
          ]
        }
      ]
    },
    {
      "cell_type": "code",
      "source": [
        "#Fem\n",
        "R=0.142 #ohms\n",
        "L=0.98 #herios\n",
        "fem=L*m+R*i_promedios"
      ],
      "metadata": {
        "id": "qvLhPg94kGRA"
      },
      "execution_count": 7,
      "outputs": []
    },
    {
      "cell_type": "code",
      "source": [
        "#Data frame con cambios\n",
        "data1={'Tiempo [seg]':t_promedios,'Corriente [A]':i_promedios, 'Derivada númerica [V]': m, 'Fem [V]':fem}\n",
        "df1=pd.DataFrame(data1)\n",
        "df1"
      ],
      "metadata": {
        "colab": {
          "base_uri": "https://localhost:8080/",
          "height": 175
        },
        "id": "O_tDB4R8jH2a",
        "outputId": "5272babc-ba5b-4ce3-d194-acd56af02dd8"
      },
      "execution_count": 8,
      "outputs": [
        {
          "output_type": "execute_result",
          "data": {
            "text/plain": [
              "   Tiempo [seg]  Corriente [A]  Derivada númerica [V]  Fem [V]\n",
              "0         1.005           3.11                    2.0  2.40162\n",
              "1         1.015           3.13                    2.0  2.40446\n",
              "2         1.025           3.16                    4.0  4.36872\n",
              "3         1.035           3.21                    6.0  6.33582"
            ],
            "text/html": [
              "\n",
              "  <div id=\"df-f6ff5e71-9597-44ac-85e4-844ac2095558\" class=\"colab-df-container\">\n",
              "    <div>\n",
              "<style scoped>\n",
              "    .dataframe tbody tr th:only-of-type {\n",
              "        vertical-align: middle;\n",
              "    }\n",
              "\n",
              "    .dataframe tbody tr th {\n",
              "        vertical-align: top;\n",
              "    }\n",
              "\n",
              "    .dataframe thead th {\n",
              "        text-align: right;\n",
              "    }\n",
              "</style>\n",
              "<table border=\"1\" class=\"dataframe\">\n",
              "  <thead>\n",
              "    <tr style=\"text-align: right;\">\n",
              "      <th></th>\n",
              "      <th>Tiempo [seg]</th>\n",
              "      <th>Corriente [A]</th>\n",
              "      <th>Derivada númerica [V]</th>\n",
              "      <th>Fem [V]</th>\n",
              "    </tr>\n",
              "  </thead>\n",
              "  <tbody>\n",
              "    <tr>\n",
              "      <th>0</th>\n",
              "      <td>1.005</td>\n",
              "      <td>3.11</td>\n",
              "      <td>2.0</td>\n",
              "      <td>2.40162</td>\n",
              "    </tr>\n",
              "    <tr>\n",
              "      <th>1</th>\n",
              "      <td>1.015</td>\n",
              "      <td>3.13</td>\n",
              "      <td>2.0</td>\n",
              "      <td>2.40446</td>\n",
              "    </tr>\n",
              "    <tr>\n",
              "      <th>2</th>\n",
              "      <td>1.025</td>\n",
              "      <td>3.16</td>\n",
              "      <td>4.0</td>\n",
              "      <td>4.36872</td>\n",
              "    </tr>\n",
              "    <tr>\n",
              "      <th>3</th>\n",
              "      <td>1.035</td>\n",
              "      <td>3.21</td>\n",
              "      <td>6.0</td>\n",
              "      <td>6.33582</td>\n",
              "    </tr>\n",
              "  </tbody>\n",
              "</table>\n",
              "</div>\n",
              "    <div class=\"colab-df-buttons\">\n",
              "\n",
              "  <div class=\"colab-df-container\">\n",
              "    <button class=\"colab-df-convert\" onclick=\"convertToInteractive('df-f6ff5e71-9597-44ac-85e4-844ac2095558')\"\n",
              "            title=\"Convert this dataframe to an interactive table.\"\n",
              "            style=\"display:none;\">\n",
              "\n",
              "  <svg xmlns=\"http://www.w3.org/2000/svg\" height=\"24px\" viewBox=\"0 -960 960 960\">\n",
              "    <path d=\"M120-120v-720h720v720H120Zm60-500h600v-160H180v160Zm220 220h160v-160H400v160Zm0 220h160v-160H400v160ZM180-400h160v-160H180v160Zm440 0h160v-160H620v160ZM180-180h160v-160H180v160Zm440 0h160v-160H620v160Z\"/>\n",
              "  </svg>\n",
              "    </button>\n",
              "\n",
              "  <style>\n",
              "    .colab-df-container {\n",
              "      display:flex;\n",
              "      gap: 12px;\n",
              "    }\n",
              "\n",
              "    .colab-df-convert {\n",
              "      background-color: #E8F0FE;\n",
              "      border: none;\n",
              "      border-radius: 50%;\n",
              "      cursor: pointer;\n",
              "      display: none;\n",
              "      fill: #1967D2;\n",
              "      height: 32px;\n",
              "      padding: 0 0 0 0;\n",
              "      width: 32px;\n",
              "    }\n",
              "\n",
              "    .colab-df-convert:hover {\n",
              "      background-color: #E2EBFA;\n",
              "      box-shadow: 0px 1px 2px rgba(60, 64, 67, 0.3), 0px 1px 3px 1px rgba(60, 64, 67, 0.15);\n",
              "      fill: #174EA6;\n",
              "    }\n",
              "\n",
              "    .colab-df-buttons div {\n",
              "      margin-bottom: 4px;\n",
              "    }\n",
              "\n",
              "    [theme=dark] .colab-df-convert {\n",
              "      background-color: #3B4455;\n",
              "      fill: #D2E3FC;\n",
              "    }\n",
              "\n",
              "    [theme=dark] .colab-df-convert:hover {\n",
              "      background-color: #434B5C;\n",
              "      box-shadow: 0px 1px 3px 1px rgba(0, 0, 0, 0.15);\n",
              "      filter: drop-shadow(0px 1px 2px rgba(0, 0, 0, 0.3));\n",
              "      fill: #FFFFFF;\n",
              "    }\n",
              "  </style>\n",
              "\n",
              "    <script>\n",
              "      const buttonEl =\n",
              "        document.querySelector('#df-f6ff5e71-9597-44ac-85e4-844ac2095558 button.colab-df-convert');\n",
              "      buttonEl.style.display =\n",
              "        google.colab.kernel.accessAllowed ? 'block' : 'none';\n",
              "\n",
              "      async function convertToInteractive(key) {\n",
              "        const element = document.querySelector('#df-f6ff5e71-9597-44ac-85e4-844ac2095558');\n",
              "        const dataTable =\n",
              "          await google.colab.kernel.invokeFunction('convertToInteractive',\n",
              "                                                    [key], {});\n",
              "        if (!dataTable) return;\n",
              "\n",
              "        const docLinkHtml = 'Like what you see? Visit the ' +\n",
              "          '<a target=\"_blank\" href=https://colab.research.google.com/notebooks/data_table.ipynb>data table notebook</a>'\n",
              "          + ' to learn more about interactive tables.';\n",
              "        element.innerHTML = '';\n",
              "        dataTable['output_type'] = 'display_data';\n",
              "        await google.colab.output.renderOutput(dataTable, element);\n",
              "        const docLink = document.createElement('div');\n",
              "        docLink.innerHTML = docLinkHtml;\n",
              "        element.appendChild(docLink);\n",
              "      }\n",
              "    </script>\n",
              "  </div>\n",
              "\n",
              "\n",
              "<div id=\"df-84ac1c2c-391b-4617-b523-fd504c274007\">\n",
              "  <button class=\"colab-df-quickchart\" onclick=\"quickchart('df-84ac1c2c-391b-4617-b523-fd504c274007')\"\n",
              "            title=\"Suggest charts.\"\n",
              "            style=\"display:none;\">\n",
              "\n",
              "<svg xmlns=\"http://www.w3.org/2000/svg\" height=\"24px\"viewBox=\"0 0 24 24\"\n",
              "     width=\"24px\">\n",
              "    <g>\n",
              "        <path d=\"M19 3H5c-1.1 0-2 .9-2 2v14c0 1.1.9 2 2 2h14c1.1 0 2-.9 2-2V5c0-1.1-.9-2-2-2zM9 17H7v-7h2v7zm4 0h-2V7h2v10zm4 0h-2v-4h2v4z\"/>\n",
              "    </g>\n",
              "</svg>\n",
              "  </button>\n",
              "\n",
              "<style>\n",
              "  .colab-df-quickchart {\n",
              "      --bg-color: #E8F0FE;\n",
              "      --fill-color: #1967D2;\n",
              "      --hover-bg-color: #E2EBFA;\n",
              "      --hover-fill-color: #174EA6;\n",
              "      --disabled-fill-color: #AAA;\n",
              "      --disabled-bg-color: #DDD;\n",
              "  }\n",
              "\n",
              "  [theme=dark] .colab-df-quickchart {\n",
              "      --bg-color: #3B4455;\n",
              "      --fill-color: #D2E3FC;\n",
              "      --hover-bg-color: #434B5C;\n",
              "      --hover-fill-color: #FFFFFF;\n",
              "      --disabled-bg-color: #3B4455;\n",
              "      --disabled-fill-color: #666;\n",
              "  }\n",
              "\n",
              "  .colab-df-quickchart {\n",
              "    background-color: var(--bg-color);\n",
              "    border: none;\n",
              "    border-radius: 50%;\n",
              "    cursor: pointer;\n",
              "    display: none;\n",
              "    fill: var(--fill-color);\n",
              "    height: 32px;\n",
              "    padding: 0;\n",
              "    width: 32px;\n",
              "  }\n",
              "\n",
              "  .colab-df-quickchart:hover {\n",
              "    background-color: var(--hover-bg-color);\n",
              "    box-shadow: 0 1px 2px rgba(60, 64, 67, 0.3), 0 1px 3px 1px rgba(60, 64, 67, 0.15);\n",
              "    fill: var(--button-hover-fill-color);\n",
              "  }\n",
              "\n",
              "  .colab-df-quickchart-complete:disabled,\n",
              "  .colab-df-quickchart-complete:disabled:hover {\n",
              "    background-color: var(--disabled-bg-color);\n",
              "    fill: var(--disabled-fill-color);\n",
              "    box-shadow: none;\n",
              "  }\n",
              "\n",
              "  .colab-df-spinner {\n",
              "    border: 2px solid var(--fill-color);\n",
              "    border-color: transparent;\n",
              "    border-bottom-color: var(--fill-color);\n",
              "    animation:\n",
              "      spin 1s steps(1) infinite;\n",
              "  }\n",
              "\n",
              "  @keyframes spin {\n",
              "    0% {\n",
              "      border-color: transparent;\n",
              "      border-bottom-color: var(--fill-color);\n",
              "      border-left-color: var(--fill-color);\n",
              "    }\n",
              "    20% {\n",
              "      border-color: transparent;\n",
              "      border-left-color: var(--fill-color);\n",
              "      border-top-color: var(--fill-color);\n",
              "    }\n",
              "    30% {\n",
              "      border-color: transparent;\n",
              "      border-left-color: var(--fill-color);\n",
              "      border-top-color: var(--fill-color);\n",
              "      border-right-color: var(--fill-color);\n",
              "    }\n",
              "    40% {\n",
              "      border-color: transparent;\n",
              "      border-right-color: var(--fill-color);\n",
              "      border-top-color: var(--fill-color);\n",
              "    }\n",
              "    60% {\n",
              "      border-color: transparent;\n",
              "      border-right-color: var(--fill-color);\n",
              "    }\n",
              "    80% {\n",
              "      border-color: transparent;\n",
              "      border-right-color: var(--fill-color);\n",
              "      border-bottom-color: var(--fill-color);\n",
              "    }\n",
              "    90% {\n",
              "      border-color: transparent;\n",
              "      border-bottom-color: var(--fill-color);\n",
              "    }\n",
              "  }\n",
              "</style>\n",
              "\n",
              "  <script>\n",
              "    async function quickchart(key) {\n",
              "      const quickchartButtonEl =\n",
              "        document.querySelector('#' + key + ' button');\n",
              "      quickchartButtonEl.disabled = true;  // To prevent multiple clicks.\n",
              "      quickchartButtonEl.classList.add('colab-df-spinner');\n",
              "      try {\n",
              "        const charts = await google.colab.kernel.invokeFunction(\n",
              "            'suggestCharts', [key], {});\n",
              "      } catch (error) {\n",
              "        console.error('Error during call to suggestCharts:', error);\n",
              "      }\n",
              "      quickchartButtonEl.classList.remove('colab-df-spinner');\n",
              "      quickchartButtonEl.classList.add('colab-df-quickchart-complete');\n",
              "    }\n",
              "    (() => {\n",
              "      let quickchartButtonEl =\n",
              "        document.querySelector('#df-84ac1c2c-391b-4617-b523-fd504c274007 button');\n",
              "      quickchartButtonEl.style.display =\n",
              "        google.colab.kernel.accessAllowed ? 'block' : 'none';\n",
              "    })();\n",
              "  </script>\n",
              "</div>\n",
              "    </div>\n",
              "  </div>\n"
            ]
          },
          "metadata": {},
          "execution_count": 8
        }
      ]
    },
    {
      "cell_type": "code",
      "source": [
        "#Grafico de la Fem en función del tiempo\n",
        "plt.figure()\n",
        "plt.plot(df1['Tiempo [seg]'],df1['Fem [V]'],'.g-',markersize=12)\n",
        "plt.title('Fem en función del tiempo', fontsize=20)\n",
        "plt.ylabel('Fem [V]', fontsize=12)\n",
        "plt.xlabel('Tiempo [s]', fontsize=12)\n",
        "plt.grid()"
      ],
      "metadata": {
        "colab": {
          "base_uri": "https://localhost:8080/",
          "height": 485
        },
        "id": "Vl7LCf57iMVn",
        "outputId": "64ebe991-0680-4abc-a814-b3d9bfd08aa2"
      },
      "execution_count": 9,
      "outputs": [
        {
          "output_type": "display_data",
          "data": {
            "text/plain": [
              "<Figure size 640x480 with 1 Axes>"
            ],
            "image/png": "[encoded data removed]"
          },
          "metadata": {}
        }
      ]
    },
    {
      "cell_type": "markdown",
      "source": [
        "####**Derivadas númericas con la interpolación**"
      ],
      "metadata": {
        "id": "eQBHQFpSECzY"
      }
    },
    {
      "cell_type": "code",
      "source": [
        "#Interpolación\n",
        "p_c=sc.interpolate.CubicSpline(t,i)\n",
        "\n",
        "#Derivada de la interpolación\n",
        "\n",
        "derivadas_p_c=sc.misc.derivative(p_c,t)\n",
        "\n",
        "#Fem\n",
        "fem_interpolacion=L*derivadas_p_c+R*i\n",
        "\n",
        "#Data frame con los datos de la iterpolación\n",
        "#Data frame con cambios\n",
        "data2={'Tiempo 1 [seg]':t,'Corriente 1 [A]':i, 'Derivada númerica [V]': derivadas_p_c, 'Fem 1 [V]':fem_interpolacion}\n",
        "df2=pd.DataFrame(data2)\n",
        "df2"
      ],
      "metadata": {
        "colab": {
          "base_uri": "https://localhost:8080/",
          "height": 262
        },
        "id": "rBby9xWNEB5-",
        "outputId": "b25c5fc9-d972-412e-a8a6-25e687b6b788"
      },
      "execution_count": 10,
      "outputs": [
        {
          "output_type": "stream",
          "name": "stderr",
          "text": [
            "<ipython-input-10-39ea7e0dbcff>:6: DeprecationWarning: scipy.misc.derivative is deprecated in SciPy v1.10.0; and will be completely removed in SciPy v1.12.0. You may consider using findiff: https://github.com/maroba/findiff or numdifftools: https://github.com/pbrod/numdifftools\n",
            "  derivadas_p_c=sc.misc.derivative(p_c,t)\n"
          ]
        },
        {
          "output_type": "execute_result",
          "data": {
            "text/plain": [
              "   Tiempo 1 [seg]  Corriente 1 [A]  Derivada númerica [V]   Fem 1 [V]\n",
              "0            1.00             3.10              1816.5200  1780.62980\n",
              "1            1.01             3.12              1742.5025  1708.09549\n",
              "2            1.02             3.14              1669.5000  1636.55588\n",
              "3            1.03             3.18              1597.4975  1565.99911\n",
              "4            1.04             3.24              1526.4800  1496.41048"
            ],
            "text/html": [
              "\n",
              "  <div id=\"df-69b742a9-e530-4583-a5ba-9b28086bd16a\" class=\"colab-df-container\">\n",
              "    <div>\n",
              "<style scoped>\n",
              "    .dataframe tbody tr th:only-of-type {\n",
              "        vertical-align: middle;\n",
              "    }\n",
              "\n",
              "    .dataframe tbody tr th {\n",
              "        vertical-align: top;\n",
              "    }\n",
              "\n",
              "    .dataframe thead th {\n",
              "        text-align: right;\n",
              "    }\n",
              "</style>\n",
              "<table border=\"1\" class=\"dataframe\">\n",
              "  <thead>\n",
              "    <tr style=\"text-align: right;\">\n",
              "      <th></th>\n",
              "      <th>Tiempo 1 [seg]</th>\n",
              "      <th>Corriente 1 [A]</th>\n",
              "      <th>Derivada númerica [V]</th>\n",
              "      <th>Fem 1 [V]</th>\n",
              "    </tr>\n",
              "  </thead>\n",
              "  <tbody>\n",
              "    <tr>\n",
              "      <th>0</th>\n",
              "      <td>1.00</td>\n",
              "      <td>3.10</td>\n",
              "      <td>1816.5200</td>\n",
              "      <td>1780.62980</td>\n",
              "    </tr>\n",
              "    <tr>\n",
              "      <th>1</th>\n",
              "      <td>1.01</td>\n",
              "      <td>3.12</td>\n",
              "      <td>1742.5025</td>\n",
              "      <td>1708.09549</td>\n",
              "    </tr>\n",
              "    <tr>\n",
              "      <th>2</th>\n",
              "      <td>1.02</td>\n",
              "      <td>3.14</td>\n",
              "      <td>1669.5000</td>\n",
              "      <td>1636.55588</td>\n",
              "    </tr>\n",
              "    <tr>\n",
              "      <th>3</th>\n",
              "      <td>1.03</td>\n",
              "      <td>3.18</td>\n",
              "      <td>1597.4975</td>\n",
              "      <td>1565.99911</td>\n",
              "    </tr>\n",
              "    <tr>\n",
              "      <th>4</th>\n",
              "      <td>1.04</td>\n",
              "      <td>3.24</td>\n",
              "      <td>1526.4800</td>\n",
              "      <td>1496.41048</td>\n",
              "    </tr>\n",
              "  </tbody>\n",
              "</table>\n",
              "</div>\n",
              "    <div class=\"colab-df-buttons\">\n",
              "\n",
              "  <div class=\"colab-df-container\">\n",
              "    <button class=\"colab-df-convert\" onclick=\"convertToInteractive('df-69b742a9-e530-4583-a5ba-9b28086bd16a')\"\n",
              "            title=\"Convert this dataframe to an interactive table.\"\n",
              "            style=\"display:none;\">\n",
              "\n",
              "  <svg xmlns=\"http://www.w3.org/2000/svg\" height=\"24px\" viewBox=\"0 -960 960 960\">\n",
              "    <path d=\"M120-120v-720h720v720H120Zm60-500h600v-160H180v160Zm220 220h160v-160H400v160Zm0 220h160v-160H400v160ZM180-400h160v-160H180v160Zm440 0h160v-160H620v160ZM180-180h160v-160H180v160Zm440 0h160v-160H620v160Z\"/>\n",
              "  </svg>\n",
              "    </button>\n",
              "\n",
              "  <style>\n",
              "    .colab-df-container {\n",
              "      display:flex;\n",
              "      gap: 12px;\n",
              "    }\n",
              "\n",
              "    .colab-df-convert {\n",
              "      background-color: #E8F0FE;\n",
              "      border: none;\n",
              "      border-radius: 50%;\n",
              "      cursor: pointer;\n",
              "      display: none;\n",
              "      fill: #1967D2;\n",
              "      height: 32px;\n",
              "      padding: 0 0 0 0;\n",
              "      width: 32px;\n",
              "    }\n",
              "\n",
              "    .colab-df-convert:hover {\n",
              "      background-color: #E2EBFA;\n",
              "      box-shadow: 0px 1px 2px rgba(60, 64, 67, 0.3), 0px 1px 3px 1px rgba(60, 64, 67, 0.15);\n",
              "      fill: #174EA6;\n",
              "    }\n",
              "\n",
              "    .colab-df-buttons div {\n",
              "      margin-bottom: 4px;\n",
              "    }\n",
              "\n",
              "    [theme=dark] .colab-df-convert {\n",
              "      background-color: #3B4455;\n",
              "      fill: #D2E3FC;\n",
              "    }\n",
              "\n",
              "    [theme=dark] .colab-df-convert:hover {\n",
              "      background-color: #434B5C;\n",
              "      box-shadow: 0px 1px 3px 1px rgba(0, 0, 0, 0.15);\n",
              "      filter: drop-shadow(0px 1px 2px rgba(0, 0, 0, 0.3));\n",
              "      fill: #FFFFFF;\n",
              "    }\n",
              "  </style>\n",
              "\n",
              "    <script>\n",
              "      const buttonEl =\n",
              "        document.querySelector('#df-69b742a9-e530-4583-a5ba-9b28086bd16a button.colab-df-convert');\n",
              "      buttonEl.style.display =\n",
              "        google.colab.kernel.accessAllowed ? 'block' : 'none';\n",
              "\n",
              "      async function convertToInteractive(key) {\n",
              "        const element = document.querySelector('#df-69b742a9-e530-4583-a5ba-9b28086bd16a');\n",
              "        const dataTable =\n",
              "          await google.colab.kernel.invokeFunction('convertToInteractive',\n",
              "                                                    [key], {});\n",
              "        if (!dataTable) return;\n",
              "\n",
              "        const docLinkHtml = 'Like what you see? Visit the ' +\n",
              "          '<a target=\"_blank\" href=https://colab.research.google.com/notebooks/data_table.ipynb>data table notebook</a>'\n",
              "          + ' to learn more about interactive tables.';\n",
              "        element.innerHTML = '';\n",
              "        dataTable['output_type'] = 'display_data';\n",
              "        await google.colab.output.renderOutput(dataTable, element);\n",
              "        const docLink = document.createElement('div');\n",
              "        docLink.innerHTML = docLinkHtml;\n",
              "        element.appendChild(docLink);\n",
              "      }\n",
              "    </script>\n",
              "  </div>\n",
              "\n",
              "\n",
              "<div id=\"df-ef680d85-75f2-47ff-9dbd-b053248aebf8\">\n",
              "  <button class=\"colab-df-quickchart\" onclick=\"quickchart('df-ef680d85-75f2-47ff-9dbd-b053248aebf8')\"\n",
              "            title=\"Suggest charts.\"\n",
              "            style=\"display:none;\">\n",
              "\n",
              "<svg xmlns=\"http://www.w3.org/2000/svg\" height=\"24px\"viewBox=\"0 0 24 24\"\n",
              "     width=\"24px\">\n",
              "    <g>\n",
              "        <path d=\"M19 3H5c-1.1 0-2 .9-2 2v14c0 1.1.9 2 2 2h14c1.1 0 2-.9 2-2V5c0-1.1-.9-2-2-2zM9 17H7v-7h2v7zm4 0h-2V7h2v10zm4 0h-2v-4h2v4z\"/>\n",
              "    </g>\n",
              "</svg>\n",
              "  </button>\n",
              "\n",
              "<style>\n",
              "  .colab-df-quickchart {\n",
              "      --bg-color: #E8F0FE;\n",
              "      --fill-color: #1967D2;\n",
              "      --hover-bg-color: #E2EBFA;\n",
              "      --hover-fill-color: #174EA6;\n",
              "      --disabled-fill-color: #AAA;\n",
              "      --disabled-bg-color: #DDD;\n",
              "  }\n",
              "\n",
              "  [theme=dark] .colab-df-quickchart {\n",
              "      --bg-color: #3B4455;\n",
              "      --fill-color: #D2E3FC;\n",
              "      --hover-bg-color: #434B5C;\n",
              "      --hover-fill-color: #FFFFFF;\n",
              "      --disabled-bg-color: #3B4455;\n",
              "      --disabled-fill-color: #666;\n",
              "  }\n",
              "\n",
              "  .colab-df-quickchart {\n",
              "    background-color: var(--bg-color);\n",
              "    border: none;\n",
              "    border-radius: 50%;\n",
              "    cursor: pointer;\n",
              "    display: none;\n",
              "    fill: var(--fill-color);\n",
              "    height: 32px;\n",
              "    padding: 0;\n",
              "    width: 32px;\n",
              "  }\n",
              "\n",
              "  .colab-df-quickchart:hover {\n",
              "    background-color: var(--hover-bg-color);\n",
              "    box-shadow: 0 1px 2px rgba(60, 64, 67, 0.3), 0 1px 3px 1px rgba(60, 64, 67, 0.15);\n",
              "    fill: var(--button-hover-fill-color);\n",
              "  }\n",
              "\n",
              "  .colab-df-quickchart-complete:disabled,\n",
              "  .colab-df-quickchart-complete:disabled:hover {\n",
              "    background-color: var(--disabled-bg-color);\n",
              "    fill: var(--disabled-fill-color);\n",
              "    box-shadow: none;\n",
              "  }\n",
              "\n",
              "  .colab-df-spinner {\n",
              "    border: 2px solid var(--fill-color);\n",
              "    border-color: transparent;\n",
              "    border-bottom-color: var(--fill-color);\n",
              "    animation:\n",
              "      spin 1s steps(1) infinite;\n",
              "  }\n",
              "\n",
              "  @keyframes spin {\n",
              "    0% {\n",
              "      border-color: transparent;\n",
              "      border-bottom-color: var(--fill-color);\n",
              "      border-left-color: var(--fill-color);\n",
              "    }\n",
              "    20% {\n",
              "      border-color: transparent;\n",
              "      border-left-color: var(--fill-color);\n",
              "      border-top-color: var(--fill-color);\n",
              "    }\n",
              "    30% {\n",
              "      border-color: transparent;\n",
              "      border-left-color: var(--fill-color);\n",
              "      border-top-color: var(--fill-color);\n",
              "      border-right-color: var(--fill-color);\n",
              "    }\n",
              "    40% {\n",
              "      border-color: transparent;\n",
              "      border-right-color: var(--fill-color);\n",
              "      border-top-color: var(--fill-color);\n",
              "    }\n",
              "    60% {\n",
              "      border-color: transparent;\n",
              "      border-right-color: var(--fill-color);\n",
              "    }\n",
              "    80% {\n",
              "      border-color: transparent;\n",
              "      border-right-color: var(--fill-color);\n",
              "      border-bottom-color: var(--fill-color);\n",
              "    }\n",
              "    90% {\n",
              "      border-color: transparent;\n",
              "      border-bottom-color: var(--fill-color);\n",
              "    }\n",
              "  }\n",
              "</style>\n",
              "\n",
              "  <script>\n",
              "    async function quickchart(key) {\n",
              "      const quickchartButtonEl =\n",
              "        document.querySelector('#' + key + ' button');\n",
              "      quickchartButtonEl.disabled = true;  // To prevent multiple clicks.\n",
              "      quickchartButtonEl.classList.add('colab-df-spinner');\n",
              "      try {\n",
              "        const charts = await google.colab.kernel.invokeFunction(\n",
              "            'suggestCharts', [key], {});\n",
              "      } catch (error) {\n",
              "        console.error('Error during call to suggestCharts:', error);\n",
              "      }\n",
              "      quickchartButtonEl.classList.remove('colab-df-spinner');\n",
              "      quickchartButtonEl.classList.add('colab-df-quickchart-complete');\n",
              "    }\n",
              "    (() => {\n",
              "      let quickchartButtonEl =\n",
              "        document.querySelector('#df-ef680d85-75f2-47ff-9dbd-b053248aebf8 button');\n",
              "      quickchartButtonEl.style.display =\n",
              "        google.colab.kernel.accessAllowed ? 'block' : 'none';\n",
              "    })();\n",
              "  </script>\n",
              "</div>\n",
              "    </div>\n",
              "  </div>\n"
            ]
          },
          "metadata": {},
          "execution_count": 10
        }
      ]
    },
    {
      "cell_type": "markdown",
      "source": [
        "##**Parte 2**\n",
        "\n",
        "1. Escribir en código Markdown la expresión para calcular una integral con la regla del trapecio.\n",
        "\n",
        "2. Escribir en código Markdown la expresión para calcular una integral con la regla del simpson\n",
        "\n",
        "\n",
        "3. Escribir en código Markdown la expresión para calcular una integral con el metodo de cuadratura."
      ],
      "metadata": {
        "id": "wozwiuW-CK8R"
      }
    },
    {
      "cell_type": "markdown",
      "source": [
        "####**Código Markdown para la integral por regla del trapecio**\n",
        "1. Ingresar la función f para la cual, se desea integrar.\n",
        "2. Ingresar los intervalos de integración a y b. Y la n cantidad de puntos que tendrá la variable independiente.\n",
        "3. Crear un vector x que inicie en a, finalice en b y tenga n puntos.\n",
        "4. Utilizando la definición de la integral por trapecios:\n",
        "$$\n",
        "\\int_{a}^{b} f(x) \\, dx = \\frac{h}{2} \\left( f(a) + f(b) + 2 \\sum_{i=1}^{n-1} f(x_i) \\right)\n",
        "$$\n",
        "\n",
        "- crear c=0 y h=(b-a)/n\n",
        "\n",
        "- Repetir para i en x:\n",
        "\n",
        "    c= c+ f(i)\n",
        "\n",
        "5. Sea $$integral=\\frac{h}{2} (f(a)+f(b)+2c)$$\n",
        "\n",
        "6. Retornar integral.\n",
        "\n",
        "####**Código Markdown para la integral por regla de Simpson compuesta**\n",
        "\n",
        "1. Ingresar f(x), la función para la cual se desee calcular la integral.\n",
        "2. Ingresar a y b, los lí,ites de integración, superior e inferior respectivamente.\n",
        "4. Ingresar la cantidad de puntos, n en la variable independiente.\n",
        "3. Crear un vector x con n datos, desde a, hasta b.\n",
        "4. Dada la formula:\n",
        "$\\int_{a}^{b} f(x) dx = \\frac {h}{3} [f(a)+2 \\sum_{j=1}^{(n/2)-1} f(x_{2j}) + 4 \\sum_{j=1}^{n/2} f(x_{2j}) + f(b)]$\n",
        " 4.1 Crear un vector x_pares con todos los valores pares hasta n-2 del vector x.\n",
        "\n",
        " 4.2 Crear un vector x_impares que con todos los valores imapares hasta n-1.\n",
        "\n",
        " 4.3 Crear la variable c, que almacene la suma de las evaluaciones de f en cada elemento de x_pares. Y crear variable d, que alamcene la suma de cada evaluación de f en x impares.\n",
        "\n",
        "5. $integral= \\frac{h}{3}(f(a)+f(b)+4c+2d)$\n",
        "6. Retornar integral\n",
        "---\n",
        "\n"
      ],
      "metadata": {
        "id": "oZ7eM23FCRqM"
      }
    },
    {
      "cell_type": "markdown",
      "source": [
        "\n",
        "\n",
        "4. Calcular una aproximación con el metodo 1,2,3 de las siguientes integrales\n",
        "\n",
        "<!--\n",
        " $$\n",
        " \\int_0^\\pi e^{1-\\sqrt{x}}\\, dx\n",
        " $$  -->\n",
        "\n",
        "\n",
        "- $$\n",
        " \\int_0^{\\pi/2} \\frac{1}{\\sqrt{\\tan x}}\\, dx\n",
        " $$\n",
        "\n",
        "-\n",
        "$$\n",
        " \\int_{-\\infty}^{\\infty} \\frac{1}{1+x^2} \\, dx\n",
        " $$\n",
        "\n",
        "\n",
        "-\n",
        "\n",
        "$$\n",
        " \\int_{0}^{\\pi/4} \\int_{\\sin x}^{\\cos x} (2y\\sin x +\\cos^2 x)\\, dxdy\n",
        " $$\n",
        "\n",
        "<!--\n",
        "-\n",
        "$$\n",
        " \\int_{-\\infty}^{\\infty} \\frac{1}{1+x^2} \\, dx\n",
        " $$ -->\n",
        "\n",
        "<!--\n",
        "-\n",
        "$$\n",
        " \\int_{e}^{2e} \\frac{1}{\\ln x} \\, dx\n",
        " $$ -->\n",
        "\n",
        "\n",
        "garantizando  que el error sea menor a $\\varepsilon=1E-5$.  "
      ],
      "metadata": {
        "id": "3RhFZuzl5UbE"
      }
    },
    {
      "cell_type": "markdown",
      "source": [
        "\n",
        "\n",
        "---\n",
        "\n",
        "\n",
        " $$\n",
        " \\int_0^{\\pi/2} \\frac{1}{\\sqrt{\\tan x}}\\, dx\n",
        " $$\n",
        "\n",
        "\n",
        "---\n",
        "\n",
        "\n"
      ],
      "metadata": {
        "id": "vkiY6Ce3Ih0a"
      }
    },
    {
      "cell_type": "code",
      "source": [
        "#Resolviendo la integral primero con sympy\n",
        "x_=sy.Symbol('x')\n",
        "f_1=1/(sy.tan(x_))**(1/2)\n",
        "integral_f_1=sy.integrate(f_1, (x_, 0, sy.pi/2))\n",
        "\n",
        "\n",
        "print(f'El resultado de la integral es: {integral_f_1}')"
      ],
      "metadata": {
        "colab": {
          "base_uri": "https://localhost:8080/"
        },
        "id": "mE9YVaiuPq_w",
        "outputId": "169bdede-fe20-447c-c6f9-581f501a239a"
      },
      "execution_count": 11,
      "outputs": [
        {
          "output_type": "stream",
          "name": "stdout",
          "text": [
            "El resultado de la integral es: Integral(tan(x)**(-0.5), (x, 0, pi/2))\n"
          ]
        }
      ]
    },
    {
      "cell_type": "code",
      "source": [
        "#Definiendo el error deseado\n",
        "E=1e-5"
      ],
      "metadata": {
        "id": "iKl2lWvDHOWD"
      },
      "execution_count": 12,
      "outputs": []
    },
    {
      "cell_type": "markdown",
      "source": [
        "####**Regla del trapecio**\n",
        "\n",
        "Dada la formula: $$\\int_{a}^{b} f(x) dx ≈ \\frac {h}{2} [f(a)+ 2 \\sum_{i=1}^{n-1} f(x_{i}) + f(b)] $$\n",
        "\n",
        "Con $$h=\\frac {b-a}{n}$$\n",
        "\n",
        "con error:\n",
        "$$E=-\\frac{(b-a)^{3}}{12n^{2}} f''(\\xi)$$"
      ],
      "metadata": {
        "id": "Yn9DQ4UxD3XG"
      }
    },
    {
      "cell_type": "code",
      "source": [
        "f1= lambda x: 1/np.sqrt(np.tan(x))"
      ],
      "metadata": {
        "id": "RkvDM8mqImeT"
      },
      "execution_count": 13,
      "outputs": []
    },
    {
      "cell_type": "code",
      "source": [
        "#Para garantizar el error que nos están pidiendo\n",
        "#Tomando las derivadas con sympy\n",
        "x_=sy.Symbol('x_')\n",
        "f1_=1/(sy.tan(x_))**(1/2)\n",
        "d1f1_=sy.diff(f1_,x_)\n",
        "d2f1_=sy.diff(d1f1_,x_)\n",
        "print(d2f1_)"
      ],
      "metadata": {
        "colab": {
          "base_uri": "https://localhost:8080/"
        },
        "id": "E8CmzH17EDi8",
        "outputId": "c556ab8f-09a7-4555-95e9-9f088a1c793e"
      },
      "execution_count": 14,
      "outputs": [
        {
          "output_type": "stream",
          "name": "stdout",
          "text": [
            "(-1.5*tan(x_)**2 - 1.5)*(-0.5*tan(x_)**2 - 0.5)/tan(x_)**2.5 - 0.5*(2*tan(x_)**2 + 2)/tan(x_)**0.5\n"
          ]
        }
      ]
    },
    {
      "cell_type": "code",
      "source": [
        "#Tomando las derivadas\n",
        "d1f1=lambda x: ((-1/2)*(np.tan(x)**2)-(1/5))/(np.tan(x)**(3/2))\n",
        "d2f1= lambda x: (-1.5*np.tan(x)**2 - 1.5)*(-0.5*np.tan(x)**2 - 0.5)/np.tan(x)**2.5 - 0.5*(2*np.tan(x)**2 + 2)/np.tan(x)**0.5\n",
        "d2f1_invertida= lambda x: (-1)* (-1.5*np.tan(x)**2 - 1.5)*(-0.5*np.tan(x)**2 - 0.5)/np.tan(x)**2.5 - 0.5*(2*np.tan(x)**2 + 2)/np.tan(x)**0.5 #Para obtener el máximo de la función en [a,b]\n",
        "\n",
        "#Puntos\n",
        "a=0\n",
        "b=np.pi/2\n",
        "\n",
        "#Intervalo\n",
        "x=np.linspace(0.01,b-0.07,3000)\n",
        "plt.figure()\n",
        "plt.plot(x,f1(x),'.r-', label=\"f\")\n",
        "plt.plot(x,d1f1(x),'.m-', label=\"f '\")\n",
        "plt.plot(x,d2f1(x),'.g-', label= \"f ''\")\n",
        "plt.plot(x,d2f1_invertida(x), '.k-', label=\"f '' invertida\")\n",
        "plt.xlabel('x')\n",
        "plt.ylabel('f(x)')\n",
        "plt.title('Funciones y sus derivadas')\n",
        "plt.grid()\n",
        "plt.legend()\n"
      ],
      "metadata": {
        "colab": {
          "base_uri": "https://localhost:8080/",
          "height": 490
        },
        "id": "AHMmTZ_rFU4u",
        "outputId": "b45c3e78-e2b9-4a28-da6a-5d24eabf05ce"
      },
      "execution_count": 15,
      "outputs": [
        {
          "output_type": "execute_result",
          "data": {
            "text/plain": [
              "<matplotlib.legend.Legend at 0x7adc4371da50>"
            ]
          },
          "metadata": {},
          "execution_count": 15
        },
        {
          "output_type": "display_data",
          "data": {
            "text/plain": [
              "<Figure size 640x480 with 1 Axes>"
            ],
            "image/png": "[encoded data removed]"
          },
          "metadata": {}
        }
      ]
    },
    {
      "cell_type": "code",
      "source": [
        "#Obteniendo el máximo de la segunda derivada en el intervalo [a,b]\n",
        "#maximo_trapecios=sc.optimize.fmin_powell(d2f1_invertida,0.2)\n",
        "#maximo_trapecios"
      ],
      "metadata": {
        "id": "olfEQ6NYIxBe"
      },
      "execution_count": 16,
      "outputs": []
    },
    {
      "cell_type": "code",
      "source": [
        "#El número de trapecios dado el error es:\n",
        "#n_trapecios=np.sqrt(abs((((b-a)**3)/(12*E))*d2f1(maximo_trapecios[0])))\n",
        "#n_trapecios"
      ],
      "metadata": {
        "id": "Er65FpcCKB7o"
      },
      "execution_count": 17,
      "outputs": []
    },
    {
      "cell_type": "code",
      "source": [
        "#Tomando la función definida\n",
        "\n",
        "def integral_trap(f,a,b,N):\n",
        "  x=np.linspace(a,b,int(N))\n",
        "  h=(b-a)/N\n",
        "  integral=(f(x[0])+f(x[-1])+2*f(x[1:-1]).sum())*0.5*h\n",
        "\n",
        "  return integral\n",
        "\n",
        "#Los resultados de la integral con él código creado\n",
        "\n",
        "integralf1_trapecio=integral_trap(f1,0.01,b-0.07,30000)\n",
        "\n",
        "#Redefiniendo el intervalo para scipy y utilizando la función de la misma librería\n",
        "x=np.linspace(0.01,b-0.07,int(30000))\n",
        "integralf1_trapecio_sc=sc.integrate.trapezoid(f1(x), x)\n",
        "\n",
        "print(f'''El resultado de la integral con el código creado es {integralf1_trapecio} y con\n",
        "scipy es {integralf1_trapecio_sc}. Entonces comparando el resultado de scipy con el\n",
        "del código creado {integralf1_trapecio_sc/integralf1_trapecio}''')\n"
      ],
      "metadata": {
        "colab": {
          "base_uri": "https://localhost:8080/"
        },
        "id": "S1sc7h2VMLyD",
        "outputId": "bb9f0d9c-8a81-4b1d-a33a-5e81c24fc673"
      },
      "execution_count": 18,
      "outputs": [
        {
          "output_type": "stream",
          "name": "stdout",
          "text": [
            "El resultado de la integral con el código creado es 2.0090241034448164 y con\n",
            "scipy es 2.009091073147254. Entonces comparando el resultado de scipy con el\n",
            "del código creado 1.0000333344444812\n"
          ]
        }
      ]
    },
    {
      "cell_type": "markdown",
      "source": [
        "####**Regla de Simpson Compuesta**\n",
        "\n",
        "Con formula:\n",
        "$$\\int_{a}^{b} f(x) dx = \\frac {h}{3} [f(a)+2 \\sum_{j=1}^{(n/2)-1} f(x_{2j}) + 4 \\sum_{j=1}^{n/2} f(x_{2j}) + f(b)]$$\n",
        "\n",
        "Y error:$$E=-\\frac{b-a}{180} {h}^{4} {f}^{(4)}(\\xi) =-\\frac{{(b-a)}^{5}}{2880 {n}^{4}} {f}^{(4)}(\\xi)$$\n",
        "\n"
      ],
      "metadata": {
        "id": "_KoofHV2mOC1"
      }
    },
    {
      "cell_type": "code",
      "source": [
        "#Cálculando el error\n",
        "x_=sy.Symbol('x')\n",
        "f1_=1/(sy.tan(x_))**(1/2)\n",
        "d1f1_=sy.diff(f1_,x_)\n",
        "d2f1_=sy.diff(d1f1_,x_)\n",
        "d3f1_=sy.diff(d2f1_,x_)\n",
        "d4f1_=sy.diff(d3f1_,x_)\n",
        "print(d4f1_)"
      ],
      "metadata": {
        "colab": {
          "base_uri": "https://localhost:8080/"
        },
        "id": "NIq_6PAPptvj",
        "outputId": "350e99df-1826-4c2a-900b-f22583dfc126"
      },
      "execution_count": 19,
      "outputs": [
        {
          "output_type": "stream",
          "name": "stdout",
          "text": [
            "(-3.5*tan(x)**2 - 3.5)*(-2.5*tan(x)**2 - 2.5)*(-1.5*tan(x)**2 - 1.5)*(-0.5*tan(x)**2 - 0.5)/tan(x)**4.5 - 0.5*(-2.5*tan(x)**2 - 2.5)*(-1.5*tan(x)**2 - 1.5)*(2*tan(x)**2 + 2)/tan(x)**2.5 - 1.5*(-2.5*tan(x)**2 - 2.5)*(-0.5*tan(x)**2 - 0.5)*(2*tan(x)**2 + 2)/tan(x)**2.5 - 4.5*(-1.5*tan(x)**2 - 1.5)*(-0.5*tan(x)**2 - 0.5)*(2*tan(x)**2 + 2)/tan(x)**2.5 - 1.0*(-1.5*tan(x)**2 - 1.5)*(2*tan(x)**2 + 2)/tan(x)**0.5 - 0.5*2.25*(-tan(x)**2 - 1)**2*(2*tan(x)**2 + 2)/tan(x)**2.5 - 4.0*(-0.5*tan(x)**2 - 0.5)*(2*tan(x)**2 + 2)/tan(x)**0.5 - 1.0*(0.5*tan(x)**2 + 0.5)*(2*tan(x)**2 + 2)/tan(x)**0.5 + 1.75*(2*tan(x)**2 + 2)**2/tan(x)**0.5 - 2.0*(2*tan(x)**2 + 2)*tan(x)**1.5\n"
          ]
        }
      ]
    },
    {
      "cell_type": "code",
      "source": [
        "#Ahora tomando las cuartas derivadas\n",
        "d4f1=sy.lambdify(x_, d4f1_, 'numpy')\n",
        "d4f1_inversa=lambda x: (-1)*d4f1(x)"
      ],
      "metadata": {
        "id": "q6ogs1TdspRO"
      },
      "execution_count": 20,
      "outputs": []
    },
    {
      "cell_type": "code",
      "source": [
        "#Analizando las gráficos de las funciones de las derivadas\n",
        "plt.figure()\n",
        "plt.plot(x,f1(x),'.r-', label=\"f\")\n",
        "plt.plot(x,d4f1(x),'.m-', label=\"f''''\")\n",
        "plt.plot(x,d4f1_inversa(x), '.k-', label=\"f '''' invertida\")\n",
        "plt.xlabel('x')\n",
        "plt.ylabel('f(x)')\n",
        "plt.title('Funciones y sus derivadas')\n",
        "plt.grid()\n",
        "plt.legend()"
      ],
      "metadata": {
        "colab": {
          "base_uri": "https://localhost:8080/",
          "height": 490
        },
        "id": "Cu4Ocbsetin3",
        "outputId": "b74e5e7a-d17c-49c5-edea-29897365f7bb"
      },
      "execution_count": 21,
      "outputs": [
        {
          "output_type": "execute_result",
          "data": {
            "text/plain": [
              "<matplotlib.legend.Legend at 0x7adc43404af0>"
            ]
          },
          "metadata": {},
          "execution_count": 21
        },
        {
          "output_type": "display_data",
          "data": {
            "text/plain": [
              "<Figure size 640x480 with 1 Axes>"
            ],
            "image/png": "[encoded data removed]"
          },
          "metadata": {}
        }
      ]
    },
    {
      "cell_type": "code",
      "source": [
        "#Calculando el máximo\n",
        "#maximo_simpson=sc.optimize.fmin_powell(d4f1_inversa,np.pi/2)\n",
        "#maximo_simpson"
      ],
      "metadata": {
        "id": "sO-vayLjxX3h"
      },
      "execution_count": 22,
      "outputs": []
    },
    {
      "cell_type": "code",
      "source": [
        "#Tomando la función definida\n",
        "def regla_simpson_compuesta(f,a,b,N):\n",
        "  x5=np.linspace(a,b,int(N))\n",
        "\n",
        "  h=x5[1]-x5[0]\n",
        "\n",
        "  xj2=x5[2:int(N-2):2]\n",
        "  xj2_1=x5[1:int(N-1):2]\n",
        "\n",
        "  integral=(f(a)+f(b)+2*(f(xj2).sum())+4*(f(xj2_1).sum()))*(h/3)\n",
        "  return integral\n",
        "\n",
        "#Resultado de la integral\n",
        "integralf1_simpson=regla_simpson_compuesta(f1,0.01,b-0.07,int(30000))\n",
        "\n",
        "#Resultado con scipy\n",
        "x=np.linspace(0.01,b-0.07,int(30000))\n",
        "integralf1_simpson_sc=sc.integrate.simpson(f1(x), x)\n",
        "\n",
        "print(f'''El resultado de la integral con el código creado es {integralf1_simpson} y con\n",
        "scipy es {integralf1_simpson_sc}. Entonces comparando el resultado de scipy con el\n",
        "del código creado {integralf1_simpson_sc/integralf1_simpson}''')\n"
      ],
      "metadata": {
        "colab": {
          "base_uri": "https://localhost:8080/"
        },
        "id": "S_EES2_p2kSu",
        "outputId": "e2d03684-02ca-4d14-b65a-1042c37bd60f"
      },
      "execution_count": 23,
      "outputs": [
        {
          "output_type": "stream",
          "name": "stdout",
          "text": [
            "El resultado de la integral con el código creado es 2.0090778079493865 y con\n",
            "scipy es 2.0090909706342575. Entonces comparando el resultado de scipy con el\n",
            "del código creado 1.000006551605328\n"
          ]
        }
      ]
    },
    {
      "cell_type": "markdown",
      "source": [
        "---\n",
        "$$\\int_{-\\infty}^{\\infty} \\frac{1}{1+x^2} \\, dx $$\n",
        "\n",
        "\n",
        "---\n",
        "\n",
        "Considere el cambio de variable:\n",
        "\n",
        "$$x= tan(\\phi)$$,diferenciando $$dx={sec(\\phi)}^{2} d\\phi$$\n",
        "\n",
        "Cuando $x$ tiende a $∞$, $\\phi$ tiende a $\\pi/2$. Y cuando $x$ tiende a $-∞$, $\\phi$ tiende a $-\\pi/2$\n",
        "\n",
        "Entonces:\n",
        "$$\\int_{-\\infty}^{\\infty} \\frac{1}{1+x^2} \\, dx =\\int_{-\\pi/2}^{\\pi/2} \\frac{{sec(\\phi)}^{2}}{1 + {tan(\\phi)}^{2}}\\, d\\phi $$\n",
        "\n",
        "Por identidades trigonométricas $1 + {tan(\\phi)}^{2}={sec(\\phi)}^{2}$. Por lo tanto:\n",
        "$$\\int_{-\\infty}^{\\infty} \\frac{1}{1+x^2} \\, dx =\\int_{-\\pi/2}^{\\pi/2}\\, d\\phi $$\n",
        "\n",
        "\n",
        "\n",
        "\n"
      ],
      "metadata": {
        "id": "6KrCCwdvRiRN"
      }
    },
    {
      "cell_type": "code",
      "source": [
        "#Resolviendo la integral, primero con Simpy\n",
        "f_2=1/(1+x_**2)\n",
        "integral_f_2=sy.integrate(f_2, (x_, -sy.oo, sy.oo))\n",
        "print(f'El resultado de la integral es: {integral_f_2}')"
      ],
      "metadata": {
        "colab": {
          "base_uri": "https://localhost:8080/"
        },
        "id": "ubq6PUQESs3Y",
        "outputId": "d12eebe1-48e1-4675-e84a-33e23d45fea7"
      },
      "execution_count": 24,
      "outputs": [
        {
          "output_type": "stream",
          "name": "stdout",
          "text": [
            "El resultado de la integral es: pi\n"
          ]
        }
      ]
    },
    {
      "cell_type": "code",
      "source": [
        "f2=lambda x: 1 * x**0"
      ],
      "metadata": {
        "id": "ZhLy6uc7Ym1B"
      },
      "execution_count": 25,
      "outputs": []
    },
    {
      "cell_type": "markdown",
      "source": [
        "####**Regla de Trapecio**"
      ],
      "metadata": {
        "id": "-EnHEAMiRwby"
      }
    },
    {
      "cell_type": "code",
      "source": [
        "d2f2=lambda x: 0 * x**0 #Es constante, entonces la integral converge al valor, incluso para n, muy pequeñas\n",
        "\n",
        "#Puntos\n",
        "a1=-np.pi/2\n",
        "b1=np.pi/2\n",
        "\n",
        "#Resultados de la integrales\n",
        "integralf2_trapecio=integral_trap(f2,a1,b1,300)\n",
        "\n",
        "\n",
        "#Redefiniendo el intervalo para scipy y utilizando la función de la misma librería\n",
        "x1=np.linspace(a1,b1,300)\n",
        "integralf2_trapecio_sc=sc.integrate.trapezoid(f2(x1),x1)\n",
        "\n",
        "print(f'''El resultado de la integral con el código creado es {integralf2_trapecio} y con\n",
        "scipy es {integralf2_trapecio_sc}. Entonces comparando el resultado de scipy con el\n",
        "del código creado {integralf2_trapecio_sc/integralf2_trapecio}''')\n"
      ],
      "metadata": {
        "colab": {
          "base_uri": "https://localhost:8080/"
        },
        "id": "GIZf-ZgLYtZB",
        "outputId": "96385ac1-b75f-45ed-d792-467858a34e68"
      },
      "execution_count": 26,
      "outputs": [
        {
          "output_type": "stream",
          "name": "stdout",
          "text": [
            "El resultado de la integral con el código creado es 3.131120678077827 y con\n",
            "scipy es 3.141592653589793. Entonces comparando el resultado de scipy con el\n",
            "del código creado 1.0033444816053512\n"
          ]
        }
      ]
    },
    {
      "cell_type": "markdown",
      "source": [
        "####**Regla Simpson compuesta**"
      ],
      "metadata": {
        "id": "NW4Hs7hI48lY"
      }
    },
    {
      "cell_type": "code",
      "source": [
        "#Resultados de la integrales\n",
        "integralf2_simpson=regla_simpson_compuesta(f2,a1,b1,300)\n",
        "\n",
        "\n",
        "#Resultado con Scipy\n",
        "x1=np.linspace(a1,b1,300)\n",
        "integralf2_simpson_sc=sc.integrate.simpson(f2(x1),x1)\n",
        "\n",
        "print(f'''El resultado de la integral con el código creado es {integralf2_simpson} y con\n",
        "scipy es {integralf2_simpson_sc}. Entonces comparando el resultado de scipy con el\n",
        "del código creado {integralf2_simpson_sc/integralf2_simpson}''')"
      ],
      "metadata": {
        "colab": {
          "base_uri": "https://localhost:8080/"
        },
        "id": "xZK_kgV548EL",
        "outputId": "d0cfc2d4-9084-4825-d1d1-1bb42fc1286b"
      },
      "execution_count": 27,
      "outputs": [
        {
          "output_type": "stream",
          "name": "stdout",
          "text": [
            "El resultado de la integral con el código creado es 3.1310856547483645 y con\n",
            "scipy es 3.141592653589793. Entonces comparando el resultado de scipy con el\n",
            "del código creado 1.0033557046979837\n"
          ]
        }
      ]
    },
    {
      "cell_type": "markdown",
      "source": [
        "\n",
        "\n",
        "---\n",
        "$$\n",
        " \\int_{0}^{\\pi/4} \\int_{\\sin x}^{\\cos x} (2y\\sin x +\\cos^2 x)\\, dxdy\n",
        " $$\n",
        "\n",
        "\n",
        "---"
      ],
      "metadata": {
        "id": "qRS3C1l7UDDf"
      }
    },
    {
      "cell_type": "markdown",
      "source": [
        "1. Se crea un intervalo de x en el cual se evaluará la función y el intervalo $[sin(x),cos(x)]$. Además de definir la función.\n",
        "2. Se integra la función iterando sobre cada valor de n, en el intervalo definido anteriormente. Y se almacenan los valores en un vector.\n",
        "3. Luego, el vector creado en el paso anterior se integra con respecto a la última integración ente $[0, \\pi/4]$."
      ],
      "metadata": {
        "id": "yJVCMq-bZK3G"
      }
    },
    {
      "cell_type": "code",
      "source": [
        "x_=np.linspace(0,np.pi/4,3000)\n",
        "\n",
        "f_doble=lambda x,y: 2*y*np.sin(x)+(np.cos(x)**2)"
      ],
      "metadata": {
        "id": "3BN61bhvyyf2"
      },
      "execution_count": 28,
      "outputs": []
    },
    {
      "cell_type": "code",
      "source": [
        "#Integral doble\n",
        "integrales_y=np.zeros(len(x_))\n",
        "\n",
        "for i, n_ in enumerate(x_):\n",
        "  y_intervalo=np.linspace(np.sin(n_),np.cos(n_),3000) #Intervalo de y\n",
        "  integral=sc.integrate.simpson(f_doble(n_,y_intervalo),y_intervalo) #Evaluando cada integral\n",
        "  integrales_y[i]=integral\n",
        "\n",
        "integrales_y"
      ],
      "metadata": {
        "colab": {
          "base_uri": "https://localhost:8080/"
        },
        "id": "aFEMGjtpy5v7",
        "outputId": "08107493-9462-4886-8369-00d82a1afeac"
      },
      "execution_count": 29,
      "outputs": [
        {
          "output_type": "execute_result",
          "data": {
            "text/plain": [
              "array([1.00000000e+00, 9.99999897e-01, 9.99999588e-01, ...,\n",
              "       1.11109084e-03, 5.55545517e-04, 1.11022302e-16])"
            ]
          },
          "metadata": {},
          "execution_count": 29
        }
      ]
    },
    {
      "cell_type": "code",
      "source": [
        "\n",
        "integral_doble=sc.integrate.simpson(integrales_y,x_) #Hcer por los otros métodos\n",
        "integral_doble"
      ],
      "metadata": {
        "colab": {
          "base_uri": "https://localhost:8080/"
        },
        "id": "VtcKuup7zHy0",
        "outputId": "0baf179e-bbbc-4941-e041-6062c650ece3"
      },
      "execution_count": 30,
      "outputs": [
        {
          "output_type": "execute_result",
          "data": {
            "text/plain": [
              "0.5118446353109152"
            ]
          },
          "metadata": {},
          "execution_count": 30
        }
      ]
    },
    {
      "cell_type": "markdown",
      "source": [
        "5. Un péndulo físico en el regimen de pequeñas oscilaciones tiene un periodo de:\n",
        "\n",
        "\\begin{equation}\n",
        "P_0=2\\pi \\sqrt{\\frac{I_0}{mgb}}\n",
        "\\end{equation}\n",
        "\n",
        "Cuando las oscilaciones no son pequenas, podemos encontrar una expresión para el periodo como sigue:\n",
        "\n",
        "\n",
        "La energia de un péndulo físico viene dada por:\n",
        "\n",
        "\\begin{equation}\n",
        "E=\\frac{I_0\\omega^2}{2}+mgb(1-\\cos \\theta)\n",
        "\\end{equation}\n",
        "\n",
        "En el punto más alejado de su posición de equilibrio, su energía es solo potencial y viene dada por:\n",
        "\n",
        "\\begin{equation}\n",
        "Ep = mgb(1-\\cos \\theta),\n",
        "\\end{equation}\n",
        "\n",
        "Igualando ambas expresiones tenemos que:\n",
        "\n",
        "\\begin{equation}\n",
        "mgb(1-\\cos \\theta)=\\frac{I_0\\omega^2}{2}+mgb(1-\\cos \\theta)\n",
        "\\end{equation}\n",
        "\n",
        "Integrando la ecuación respecto a $\\theta$ y realizando la sustitución:\n",
        "\n",
        "$\\sin \\phi = \\frac{\\sin \\frac{\\theta}{2}}{\\sin \\frac{\\theta_0}{2}}$ y  $k = \\sin \\frac{\\theta_0}{2}$, se puede encontrar  que el periodo de oscilación, viene dado en terminos de  la integral elíptica completa de primera especie:\n",
        "\n",
        "\n",
        "\\begin{equation}\n",
        "P = \\frac{2P_0}{\\pi} \\int _0^{\\pi/2} \\frac{\\mathrm{d\\phi}}{\\sqrt{1-k^2\\sin^2\\phi}}\n",
        "\\end{equation}\n",
        "\n",
        "donde,  $P_0$ es el periodo de las oscilaciones pequeñas. La anterior integral.\n",
        "\n",
        "Determinar el periodo de oscilación de un péndulo. Para ello:\n",
        "\n",
        "1. Suponga los párametros iniciales del pendulo.\n",
        "2. Realice una buena planificación del código para calcular la integral.\n",
        "3. Emplee un  método de integracion numérico que conozca.\n",
        "4. Compruebe su solucion con el valor exact de la integral mostrado en el punto 5."
      ],
      "metadata": {
        "id": "vl3EtrnfSiqN"
      }
    },
    {
      "cell_type": "code",
      "source": [
        "#Datos\n",
        "\n",
        "b=0.5 #Longitud [m]\n",
        "g=9.8 #gravedad [m/s²]\n",
        "I_0=83.33e-6 #[kg m²] momento de inercia , idelaizado para una barilla generalizar\n",
        "m=0.1 #[kg] masa\n",
        "\n",
        "\n",
        "P_0=2*np.pi*np.sqrt((I_0/(m*g*b)))"
      ],
      "metadata": {
        "id": "TUnWoHnuShyk"
      },
      "execution_count": 31,
      "outputs": []
    },
    {
      "cell_type": "code",
      "source": [
        "#Valores de theta para k\n",
        "theta_0=np.linspace(np.deg2rad(0.1),np.deg2rad(45),100)"
      ],
      "metadata": {
        "id": "XzGyOyiRUKhi"
      },
      "execution_count": 32,
      "outputs": []
    },
    {
      "cell_type": "code",
      "source": [
        "#Función de período oscilación\n",
        "def periodo_oscilacion(theta_0, phi):\n",
        "  k=np.sin(theta_0/2)\n",
        "\n",
        "  P_1=(2*P_0)/np.pi\n",
        "\n",
        "  p_func= P_1*(1/(np.sqrt(1-(k**2)*(np.sin(phi))**2)))\n",
        "\n",
        "  return p_func"
      ],
      "metadata": {
        "id": "S4HHAbYEUdig"
      },
      "execution_count": 33,
      "outputs": []
    },
    {
      "cell_type": "code",
      "source": [
        "#Utilizando el método integrate.trapezoid\n",
        "phi=np.linspace(0,np.pi/2,10000)\n",
        "\n",
        "integral_trapezoid=np.zeros(len(theta_0))\n",
        "for i,n_ in enumerate(theta_0):\n",
        "  a=sc.integrate.trapezoid(periodo_oscilacion(n_,phi), phi)\n",
        "  integral_trapezoid[i]=a\n",
        "\n",
        "integral_trapezoid"
      ],
      "metadata": {
        "id": "4rXKvX9zUq1b",
        "colab": {
          "base_uri": "https://localhost:8080/"
        },
        "outputId": "f14011e5-800c-4b93-851a-358b51deb109"
      },
      "execution_count": 34,
      "outputs": [
        {
          "output_type": "execute_result",
          "data": {
            "text/plain": [
              "array([0.08193748, 0.08193794, 0.08193905, 0.08194079, 0.08194318,\n",
              "       0.08194621, 0.08194988, 0.0819542 , 0.08195915, 0.08196475,\n",
              "       0.081971  , 0.08197788, 0.08198541, 0.08199358, 0.0820024 ,\n",
              "       0.08201186, 0.08202197, 0.08203272, 0.08204412, 0.08205616,\n",
              "       0.08206885, 0.08208219, 0.08209618, 0.08211081, 0.0821261 ,\n",
              "       0.08214203, 0.08215862, 0.08217585, 0.08219374, 0.08221228,\n",
              "       0.08223148, 0.08225133, 0.08227183, 0.08229299, 0.08231481,\n",
              "       0.08233729, 0.08236042, 0.08238422, 0.08240868, 0.0824338 ,\n",
              "       0.08245958, 0.08248603, 0.08251314, 0.08254092, 0.08256937,\n",
              "       0.08259848, 0.08262827, 0.08265873, 0.08268986, 0.08272167,\n",
              "       0.08275415, 0.08278731, 0.08282115, 0.08285567, 0.08289088,\n",
              "       0.08292676, 0.08296334, 0.08300059, 0.08303854, 0.08307718,\n",
              "       0.08311651, 0.08315653, 0.08319725, 0.08323867, 0.08328078,\n",
              "       0.0833236 , 0.08336712, 0.08341134, 0.08345628, 0.08350192,\n",
              "       0.08354827, 0.08359534, 0.08364312, 0.08369162, 0.08374084,\n",
              "       0.08379079, 0.08384145, 0.08389285, 0.08394497, 0.08399783,\n",
              "       0.08405142, 0.08410575, 0.08416081, 0.08421662, 0.08427318,\n",
              "       0.08433048, 0.08438853, 0.08444734, 0.0845069 , 0.08456721,\n",
              "       0.08462829, 0.08469014, 0.08475275, 0.08481613, 0.08488029,\n",
              "       0.08494522, 0.08501093, 0.08507743, 0.08514471, 0.08521278])"
            ]
          },
          "metadata": {},
          "execution_count": 34
        }
      ]
    },
    {
      "cell_type": "code",
      "source": [
        "#Gráfico perido de oscilación en función theta\n",
        "plt.figure()\n",
        "plt.plot(theta_0,integral_trapezoid,'.m-')\n",
        "plt.title('Periodo de oscilación (P) en función del ángulo de partida (theta_0)', fontsize=12)\n",
        "plt.xlabel('theta_0 [rad]', fontsize=12)\n",
        "plt.ylabel('P [s]', fontsize=12)\n",
        "plt.grid()"
      ],
      "metadata": {
        "id": "08F0B8_CUy9W",
        "colab": {
          "base_uri": "https://localhost:8080/",
          "height": 476
        },
        "outputId": "c5d9d331-683d-4002-8ff6-d96a46eab8ca"
      },
      "execution_count": 35,
      "outputs": [
        {
          "output_type": "display_data",
          "data": {
            "text/plain": [
              "<Figure size 640x480 with 1 Axes>"
            ],
            "image/png": "[encoded data removed]"
          },
          "metadata": {}
        }
      ]
    },
    {
      "cell_type": "code",
      "source": [
        "#Utilizando el método integrate.quad\n",
        "\n",
        "integral_integrate_quad=np.zeros(len(theta_0))\n",
        "errores_integral=np.zeros(len(theta_0))\n",
        "for i,n_ in enumerate(theta_0):\n",
        "  b=sc.integrate.quad(periodo_oscilacion, 0,np.pi/2, args=(n_,))\n",
        "  integral_integrate_quad[i]=b[0]\n",
        "  errores_integral[i]=b[1]\n",
        "\n",
        "print(integral_integrate_quad)\n",
        "print(errores_integral)"
      ],
      "metadata": {
        "id": "9ZQr0SMZV9xg",
        "colab": {
          "base_uri": "https://localhost:8080/"
        },
        "outputId": "1dd533d7-df74-4254-bb71-be805ce4a366"
      },
      "execution_count": 36,
      "outputs": [
        {
          "output_type": "stream",
          "name": "stdout",
          "text": [
            "[0.08193749 0.08193816 0.08193976 0.0819423  0.08194577 0.08195017\n",
            " 0.08195551 0.08196177 0.08196897 0.0819771  0.08198615 0.08199614\n",
            " 0.08200705 0.08201889 0.08203166 0.08204536 0.08205997 0.08207552\n",
            " 0.08209198 0.08210937 0.08212767 0.08214689 0.08216703 0.08218809\n",
            " 0.08221006 0.08223294 0.08225673 0.08228142 0.08230703 0.08233353\n",
            " 0.08236094 0.08238925 0.08241845 0.08244855 0.08247954 0.08251142\n",
            " 0.08254419 0.08257783 0.08261236 0.08264777 0.08268405 0.0827212\n",
            " 0.08275921 0.0827981  0.08283784 0.08287843 0.08291988 0.08296218\n",
            " 0.08300532 0.0830493  0.08309412 0.08313976 0.08318624 0.08323353\n",
            " 0.08328164 0.08333056 0.08338028 0.08343081 0.08348213 0.08353424\n",
            " 0.08358713 0.0836408  0.08369524 0.08375044 0.0838064  0.08386311\n",
            " 0.08392056 0.08397875 0.08403767 0.08409731 0.08415766 0.08421872\n",
            " 0.08428048 0.08434292 0.08440605 0.08446984 0.0845343  0.08459941\n",
            " 0.08466517 0.08473156 0.08479857 0.0848662  0.08493443 0.08500325\n",
            " 0.08507265 0.08514262 0.08521316 0.08528424 0.08535585 0.08542798\n",
            " 0.08550063 0.08557377 0.0856474  0.0857215  0.08579605 0.08587104\n",
            " 0.08594647 0.0860223  0.08609854 0.08617516]\n",
            "[9.09688845e-16 9.09696307e-16 9.09714124e-16 9.09742295e-16\n",
            " 9.09780818e-16 9.09829691e-16 9.09888909e-16 9.09958469e-16\n",
            " 9.10038364e-16 9.10128589e-16 9.10229138e-16 9.10340001e-16\n",
            " 9.10461172e-16 9.10592641e-16 9.10734398e-16 9.10886431e-16\n",
            " 9.11048730e-16 9.11221281e-16 9.11404072e-16 9.11597088e-16\n",
            " 9.11800314e-16 9.12013733e-16 9.12237330e-16 9.12471086e-16\n",
            " 9.12714982e-16 9.12968999e-16 9.13233116e-16 9.13507312e-16\n",
            " 9.13791564e-16 9.14085848e-16 9.14390140e-16 9.14704415e-16\n",
            " 9.15028645e-16 9.15362803e-16 9.15706860e-16 9.16060787e-16\n",
            " 9.16424552e-16 9.16798122e-16 9.17181466e-16 9.17574547e-16\n",
            " 9.17977331e-16 9.18389781e-16 9.18811857e-16 9.19243521e-16\n",
            " 9.19684732e-16 9.20135447e-16 9.20595623e-16 9.21065216e-16\n",
            " 9.21544177e-16 9.22032460e-16 9.22530016e-16 9.23036793e-16\n",
            " 9.23552738e-16 9.24077799e-16 9.24611919e-16 9.25155042e-16\n",
            " 9.25707107e-16 9.26268055e-16 9.26837823e-16 9.27416347e-16\n",
            " 9.28003561e-16 9.28599397e-16 9.29203785e-16 9.29816654e-16\n",
            " 9.30437929e-16 9.31067535e-16 9.31705395e-16 9.32351429e-16\n",
            " 9.33005554e-16 9.33667686e-16 9.34337739e-16 9.35015625e-16\n",
            " 9.35701252e-16 9.36394527e-16 9.37095355e-16 9.37803637e-16\n",
            " 9.38519272e-16 9.39242158e-16 9.39972189e-16 9.40709256e-16\n",
            " 9.41453249e-16 9.42204054e-16 9.42961555e-16 9.43725632e-16\n",
            " 9.44496162e-16 9.45273023e-16 9.46056084e-16 9.46845217e-16\n",
            " 9.47640286e-16 9.48441155e-16 9.49247683e-16 9.50059728e-16\n",
            " 9.50877144e-16 9.51699780e-16 9.52527484e-16 9.53360100e-16\n",
            " 9.54197467e-16 9.55039424e-16 9.55885804e-16 9.56736436e-16]\n"
          ]
        }
      ]
    },
    {
      "cell_type": "code",
      "source": [
        "#Gráfico perido de oscilación en función theta\n",
        "plt.figure()\n",
        "plt.plot(theta_0,integral_integrate_quad,'.r-')\n",
        "plt.title('Periodo de oscilación (P) en función del ángulo de partida (theta_0)', fontsize=12)\n",
        "plt.xlabel('theta_0 [rad]',fontsize=12)\n",
        "plt.ylabel('P [s]',fontsize=12)\n",
        "plt.grid()"
      ],
      "metadata": {
        "id": "fsgZ4R-5WaH8",
        "colab": {
          "base_uri": "https://localhost:8080/",
          "height": 476
        },
        "outputId": "50dccaa7-6554-4ba8-9e78-0d409055be68"
      },
      "execution_count": 37,
      "outputs": [
        {
          "output_type": "display_data",
          "data": {
            "text/plain": [
              "<Figure size 640x480 with 1 Axes>"
            ],
            "image/png": "[encoded data removed]"
          },
          "metadata": {}
        }
      ]
    }
  ]
}