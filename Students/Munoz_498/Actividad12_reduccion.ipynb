{
  "nbformat": 4,
  "nbformat_minor": 0,
  "metadata": {
    "colab": {
      "provenance": []
    },
    "kernelspec": {
      "name": "python3",
      "display_name": "Python 3"
    },
    "language_info": {
      "name": "python"
    }
  },
  "cells": [
    {
      "cell_type": "markdown",
      "source": [
        "#**Actividad 12: reducción de matrices - Melanie Muñoz Chavarria**"
      ],
      "metadata": {
        "id": "uI-2ucpPrWG4"
      }
    },
    {
      "cell_type": "code",
      "source": [
        "import numpy as np\n",
        "import sympy as sy"
      ],
      "metadata": {
        "id": "eABDLWOVrdXQ"
      },
      "execution_count": null,
      "outputs": []
    },
    {
      "cell_type": "code",
      "source": [
        "M=np.matrix([[2,1,-1,5],\n",
        "             [4,1,1,1],\n",
        "             [6,2,1,4]])\n",
        "M=M.astype(float)"
      ],
      "metadata": {
        "id": "3YsX8SMTsJ_S"
      },
      "execution_count": null,
      "outputs": []
    },
    {
      "cell_type": "markdown",
      "source": [
        "##**Operaciones elementales de fila**"
      ],
      "metadata": {
        "id": "zL_dFuY8hweZ"
      }
    },
    {
      "cell_type": "code",
      "execution_count": null,
      "metadata": {
        "id": "UeYGCo4Cq_5Q"
      },
      "outputs": [],
      "source": [
        "#Operaciones elementales de fila\n",
        "\n",
        "#Multiplicacion por escalar\n",
        "\n",
        "def multiplicacion_por_escalar(M,n,alpha):\n",
        "\n",
        "  #Definiendo las matrices donde se alamacena la operacion\n",
        "  M_escalar=M.copy()\n",
        "\n",
        "  #Aplicando la operación\n",
        "  M_escalar[n]=alpha*M[n]\n",
        "\n",
        "  return M_escalar\n",
        "\n",
        "#Intercambio de filas\n",
        "\n",
        "def intercambio_de_filas(M,i,j):\n",
        "  #Definiendo las matrices donde se alamacena la operacion\n",
        "  M_intercambio=M.copy()\n",
        "\n",
        "  #Aplicando la operacion\n",
        "\n",
        "  M_intercambio[i]=M[j]\n",
        "  M_intercambio[j]=M[i]\n",
        "\n",
        "  return M_intercambio\n",
        "\n",
        "\n",
        "#Suma de filas\n",
        "\n",
        "def suma_de_filas(M,i,j,alpha):\n",
        "  M_suma=M.copy()\n",
        "  M_suma[i]=M[i]+ multiplicacion_por_escalar(M,j,alpha)[j]\n",
        "\n",
        "  return M_suma\n",
        "\n"
      ]
    },
    {
      "cell_type": "markdown",
      "source": [
        "##**Reducción manual con las operaciones definidas**"
      ],
      "metadata": {
        "id": "GShq-wNKh3RO"
      }
    },
    {
      "cell_type": "code",
      "source": [
        "#Reduciendo la matriz de forma manual\n",
        "M1=suma_de_filas(M,1,0,-2)\n",
        "M2=suma_de_filas(M1,2,0,-3)\n",
        "M3=suma_de_filas(M2,2,1,-1)\n",
        "M4=suma_de_filas(M3,1,2,-3)\n",
        "M5=suma_de_filas(M4,0,2,1)\n",
        "M6=suma_de_filas(M5,0,1,1)\n",
        "M7=multiplicacion_por_escalar(M6,1,-1)\n",
        "M8=multiplicacion_por_escalar(M7,0,0.5)\n",
        "sy.Matrix(M8)"
      ],
      "metadata": {
        "colab": {
          "base_uri": "https://localhost:8080/",
          "height": 78
        },
        "id": "u0Ki-73o1Z-z",
        "outputId": "415b6cde-3439-4cbd-a928-a430be01167e"
      },
      "execution_count": null,
      "outputs": [
        {
          "output_type": "execute_result",
          "data": {
            "text/plain": [
              "Matrix([\n",
              "[1.0,   0,   0,    0],\n",
              "[  0, 1.0,   0,  3.0],\n",
              "[  0,   0, 1.0, -2.0]])"
            ],
            "text/latex": "$\\displaystyle \\left[\\begin{matrix}1.0 & 0 & 0 & 0\\\\0 & 1.0 & 0 & 3.0\\\\0 & 0 & 1.0 & -2.0\\end{matrix}\\right]$"
          },
          "metadata": {},
          "execution_count": 4
        }
      ]
    },
    {
      "cell_type": "markdown",
      "source": [
        "##**Generalización de la reducción para matriz 3x3**"
      ],
      "metadata": {
        "id": "zuPKLtKah_Gn"
      }
    },
    {
      "cell_type": "code",
      "source": [
        "def reduccion(A):\n",
        "#Valores de dimesión\n",
        "  dim=np.shape(A)\n",
        "  n=dim[0]-1\n",
        "  n_=dim[0]\n",
        "#Si la primera entrada es 0\n",
        "  if A[0,0]==0:\n",
        "    #Intercambio de filas\n",
        "    A1=intercambio_de_filas(A,0,2)\n",
        "\n",
        "    #Obteniendo triangular inferior\n",
        "    for i in range(0,n):\n",
        "      for j in range(1,n_):\n",
        "        a=(j,i) #Para garantizar que no se altere el elmento que ya es cero\n",
        "        if i!=j and a!=(2,0):\n",
        "          alpha_0=(1/A1[i,i])*(-1)*(A1[j,i])\n",
        "          A__=suma_de_filas(A1,j,i,alpha_0)\n",
        "          A1=A__\n",
        "\n",
        "    #Obteniendo la triangular superior\n",
        "    for i in range(0,n):\n",
        "      for j in range(1,n_):\n",
        "        if i!=j:\n",
        "          alpha_=(1/A__[n-i,n-i])*(-1)*(A__[n-j,n-i])\n",
        "          A1_=suma_de_filas(A__,n-j,n-i,alpha_)\n",
        "          A__=A1_\n",
        "\n",
        "    #Haciendo 1  los elmentos de la diagonal\n",
        "    for i in range(0,n_):\n",
        "      beta=1/A1_[i,i]\n",
        "      A2__=multiplicacion_por_escalar(A1_,i,beta)\n",
        "      A1_=A2__\n",
        "\n",
        "    return A2__\n",
        "\n",
        "  else:\n",
        "      #Triangular inferior\n",
        "    for i in range(0,n):\n",
        "      for j in range(1,n_):\n",
        "        if i!=j:\n",
        "          alpha=(1/A[i,i])*(-1)*(A[j,i])\n",
        "          A__=suma_de_filas(A,j,i,alpha)\n",
        "          A=A__\n",
        "\n",
        "      #Trinagular superior\n",
        "    for i in range(0,n):\n",
        "      for j in range(1,n_):\n",
        "        if i!=j:\n",
        "          alpha_=(1/A__[n-i,n-i])*(-1)*(A__[n-j,n-i])\n",
        "          A1_=suma_de_filas(A__,n-j,n-i,alpha_)\n",
        "          A__=A1_\n",
        "\n",
        "      #Organizando los elmentos de la diagonal\n",
        "    for i in range(0,n_):\n",
        "      beta=1/A1_[i,i]\n",
        "      A2_=multiplicacion_por_escalar(A1_,i,beta)\n",
        "      A1_=A2_\n",
        "    return A2_\n",
        "\n"
      ],
      "metadata": {
        "id": "eOTcXVUadusJ"
      },
      "execution_count": null,
      "outputs": []
    },
    {
      "cell_type": "code",
      "source": [
        "sy.Matrix(reduccion(M))"
      ],
      "metadata": {
        "colab": {
          "base_uri": "https://localhost:8080/",
          "height": 78
        },
        "id": "2eRdeFlBg4n6",
        "outputId": "d7eb4b46-b7cb-4883-8ccc-ec06280c558a"
      },
      "execution_count": null,
      "outputs": [
        {
          "output_type": "execute_result",
          "data": {
            "text/plain": [
              "Matrix([\n",
              "[1.0,   0,   0,    0],\n",
              "[  0, 1.0,   0,  3.0],\n",
              "[  0,   0, 1.0, -2.0]])"
            ],
            "text/latex": "$\\displaystyle \\left[\\begin{matrix}1.0 & 0 & 0 & 0\\\\0 & 1.0 & 0 & 3.0\\\\0 & 0 & 1.0 & -2.0\\end{matrix}\\right]$"
          },
          "metadata": {},
          "execution_count": 6
        }
      ]
    },
    {
      "cell_type": "code",
      "source": [
        "#Analizando para otras matrices\n",
        "A=np.matrix([[0,2,3,8],\n",
        "             [4,5,6,7],\n",
        "             [3,8,10,5]])\n",
        "A=A.astype(float)"
      ],
      "metadata": {
        "id": "aCNxdRxNi2x0"
      },
      "execution_count": null,
      "outputs": []
    },
    {
      "cell_type": "code",
      "source": [
        "#Reducción con código creado\n",
        "sy.Matrix(reduccion(A))"
      ],
      "metadata": {
        "colab": {
          "base_uri": "https://localhost:8080/",
          "height": 78
        },
        "id": "HJlpJ_VTjRni",
        "outputId": "c7c52304-965d-4c2f-aa23-bc28affe58d9"
      },
      "execution_count": null,
      "outputs": [
        {
          "output_type": "execute_result",
          "data": {
            "text/plain": [
              "Matrix([\n",
              "[1.0,   0,   0,  4.14285714285714],\n",
              "[  0, 1.0,   0, -25.5714285714285],\n",
              "[  0,   0, 1.0,  19.7142857142857]])"
            ],
            "text/latex": "$\\displaystyle \\left[\\begin{matrix}1.0 & 0 & 0 & 4.14285714285714\\\\0 & 1.0 & 0 & -25.5714285714285\\\\0 & 0 & 1.0 & 19.7142857142857\\end{matrix}\\right]$"
          },
          "metadata": {},
          "execution_count": 8
        }
      ]
    },
    {
      "cell_type": "code",
      "source": [
        "#Comprobando el resultado con Numpy\n",
        "A_=np.array([[0,2,3],\n",
        "             [4,5,6],\n",
        "             [3,8,10]])\n",
        "b_=np.array([8,7,5])\n",
        "\n",
        "sol_=np.linalg.solve(A_,b_)\n",
        "\n",
        "sy.Matrix(sol_)"
      ],
      "metadata": {
        "colab": {
          "base_uri": "https://localhost:8080/",
          "height": 78
        },
        "id": "ZjtH9GoaQXo5",
        "outputId": "c38a3e6b-f328-4be6-e982-ae1d8a08e4da"
      },
      "execution_count": null,
      "outputs": [
        {
          "output_type": "execute_result",
          "data": {
            "text/plain": [
              "Matrix([\n",
              "[ 4.14285714285715],\n",
              "[-25.5714285714286],\n",
              "[ 19.7142857142857]])"
            ],
            "text/latex": "$\\displaystyle \\left[\\begin{matrix}4.14285714285715\\\\-25.5714285714286\\\\19.7142857142857\\end{matrix}\\right]$"
          },
          "metadata": {},
          "execution_count": 9
        }
      ]
    },
    {
      "cell_type": "markdown",
      "source": [
        "##**Resultado de la reducción obtenido con numpy**"
      ],
      "metadata": {
        "id": "OxZsjTtJiLP6"
      }
    },
    {
      "cell_type": "code",
      "source": [
        "M_=np.array([[2,1,-1],\n",
        "             [4,1,1],\n",
        "             [6,2,1]])\n",
        "b=np.array([5,1,4])\n",
        "\n",
        "sol=np.linalg.solve(M_,b)\n",
        "sy.Matrix(sol)"
      ],
      "metadata": {
        "colab": {
          "base_uri": "https://localhost:8080/",
          "height": 78
        },
        "id": "j-jZq0vmiWfJ",
        "outputId": "21c20e90-3e05-461e-edff-af602b050b76"
      },
      "execution_count": null,
      "outputs": [
        {
          "output_type": "execute_result",
          "data": {
            "text/plain": [
              "Matrix([\n",
              "[-2.96059473233375e-16],\n",
              "[                  3.0],\n",
              "[                 -2.0]])"
            ],
            "text/latex": "$\\displaystyle \\left[\\begin{matrix}-2.96059473233375 \\cdot 10^{-16}\\\\3.0\\\\-2.0\\end{matrix}\\right]$"
          },
          "metadata": {},
          "execution_count": 10
        }
      ]
    }
  ]
}