{
  "cells": [
    {
      "cell_type": "markdown",
      "id": "6d26e874",
      "metadata": {
        "id": "6d26e874"
      },
      "source": [
        "<a href=\"https://colab.research.google.com/github/hernansalinas/autogrades/blob/main/Actividades_clase/Actividad_04_Binarios_Errores.ipynb\" target=\"_parent\"><img src=\"https://colab.research.google.com/assets/colab-badge.svg\" alt=\"Open In Colab\"/></a>\n",
        "\n",
        "\n",
        "\n",
        "# Actividad 5 - Melanie Muñoz Chavarria\n",
        "### Métodos computacionales para físicos  y astrónomos\n",
        "### Universidad de Antioquia\n",
        "### Prof: Hernan D. Salinas Jiménez\n"
      ]
    },
    {
      "cell_type": "code",
      "execution_count": null,
      "id": "eae80e3f",
      "metadata": {
        "id": "eae80e3f",
        "outputId": "fd2e1a05-cfa6-47b9-baff-c149ca188caf",
        "colab": {
          "base_uri": "https://localhost:8080/"
        }
      },
      "outputs": [
        {
          "output_type": "stream",
          "name": "stdout",
          "text": [
            "Cloning into 'autogrades'...\n",
            "remote: Enumerating objects: 637, done.\u001b[K\n",
            "remote: Counting objects: 100% (253/253), done.\u001b[K\n",
            "remote: Compressing objects: 100% (170/170), done.\u001b[K\n",
            "remote: Total 637 (delta 141), reused 151 (delta 82), pack-reused 384\u001b[K\n",
            "Receiving objects: 100% (637/637), 38.78 MiB | 20.00 MiB/s, done.\n",
            "Resolving deltas: 100% (335/335), done.\n"
          ]
        }
      ],
      "source": [
        "!git clone https://github.com/hernansalinas/autogrades.git\n",
        "#path=\"libs\"\n",
        "path=\"autogrades/Actividades_clase/libs\"\n",
        "%run -i {path}/libUnitTest.py"
      ]
    },
    {
      "cell_type": "markdown",
      "id": "74f1131a",
      "metadata": {
        "id": "74f1131a"
      },
      "source": [
        "### Activity 1.0:\n",
        "\n",
        "Implement a function that get the binary representation of an integer with name mybin, the algorithm should return\n",
        "a string with 8 characters, the maximun number that represent the funcition is integer of 8 bit. The name of function is\n",
        "mybin\n",
        "\n",
        "Ejexample :\n",
        "\n",
        "b=mybin(x)\n",
        "\n",
        "b='00101000'"
      ]
    },
    {
      "cell_type": "code",
      "execution_count": null,
      "id": "4c8dabcf",
      "metadata": {
        "id": "4c8dabcf"
      },
      "outputs": [],
      "source": [
        "#!/usr/bin/env python3\n",
        "#def mybin(x):\n",
        " #   print('__name__ = {}'.format(__name__))\n",
        "   # Write your code here and change the next line as required\n",
        "  #  return \"111\""
      ]
    },
    {
      "cell_type": "code",
      "source": [
        "import numpy as np"
      ],
      "metadata": {
        "id": "YXzHjeYO2ge5"
      },
      "id": "YXzHjeYO2ge5",
      "execution_count": null,
      "outputs": []
    },
    {
      "cell_type": "code",
      "execution_count": null,
      "id": "885be6fb",
      "metadata": {
        "id": "885be6fb",
        "outputId": "3e185591-c41d-4754-e12a-1393f3be282f",
        "colab": {
          "base_uri": "https://localhost:8080/",
          "height": 232
        }
      },
      "outputs": [
        {
          "output_type": "display_data",
          "data": {
            "text/plain": [
              "<IPython.core.display.HTML object>"
            ],
            "text/html": [
              "<style>\n",
              "  table { text-align: left; border-collapse: collapse; margin: 1em; caption-side: bottom; font-family: Sans-Serif; font-size: 12px}\n",
              "  caption { text-align: left; padding: 5px }\n",
              "  th, td { border: 2px solid #BFC9CA; padding: 5px }\n",
              "  th { background-color: #BFC9CA }\n",
              "  .passed { background-color: #76D7C4 }\n",
              "  .failed { background-color: #EC7063 }\n",
              "  .skipped { background-color: #EDBB99 }\n",
              "  .score { background-color: #7DCEA0 }\n",
              "  .results .points { display: none }\n",
              "  .results .message { display: block; font-size:smaller; color:#D35400 }\n",
              "  .results .note { display: block; font-size:smaller; font-decoration:italics }\n",
              "  .results .passed::before  { content: \"Passed\" } \n",
              "  .results .skipped::before  { content: \"Skipped\" } \n",
              "  .results .failed::before  { content: \"Failed\" } \n",
              "  .grade .passed  .message:empty::before { content:\"Passed\" }\n",
              "  .grade .failed  .message:empty::before { content:\"Failed\" }\n",
              "  .grade .skipped .message:empty::before { content:\"Skipped\" }   \n",
              "</style>\n",
              "<table class='results'>\n",
              "  <th class='test'>Test</th><th class='result'>Result</th></tr>\n",
              "<tr>\n",
              "  <td class='test'>\n",
              "    La salida debe ser un string \n",
              "    <div class='message'>Done</div>\n",
              "  </td>\n",
              "  <td class='result passed'></td>\n",
              "</tr>\n",
              "<tr>\n",
              "  <td class='test'>\n",
              "    La longitud del string debe ser de 8 \n",
              "    <div class='message'>Done</div>\n",
              "  </td>\n",
              "  <td class='result passed'></td>\n",
              "</tr>\n",
              "<tr>\n",
              "  <td class='test'>\n",
              "    Para el número 131 su representacion es 10000011 \n",
              "    <div class='message'>Done</div>\n",
              "  </td>\n",
              "  <td class='result passed'></td>\n",
              "</tr>  <tr><th class='score'>Total Points</th><th class='score'>3</th></tr></table>\n"
            ]
          },
          "metadata": {}
        },
        {
          "output_type": "execute_result",
          "data": {
            "text/plain": [
              "'01001000'"
            ],
            "application/vnd.google.colaboratory.intrinsic+json": {
              "type": "string"
            }
          },
          "metadata": {},
          "execution_count": 5
        }
      ],
      "source": [
        "%run -i {path}/Act_02/test01.py\n",
        "def mybin(n):\n",
        "  lista_residuos=[] #Se almacenaran los residuos de cada división por 2\n",
        "\n",
        "  #Para garantizar que el número sea entero\n",
        "  a=isinstance(n,int)\n",
        "  if a==True:\n",
        "\n",
        "  #Ciclo para alamcenar los residuos y continuar con las divsiones hasata que el número sea 1\n",
        "    while n>1:\n",
        "      cociente=int(n/2)\n",
        "      residuo=int(n%2)\n",
        "      n=cociente\n",
        "      lista_residuos.append(str(residuo)) #Para garantizar que en la lista se ingresen cadenas\n",
        "  else:\n",
        "    return 'El número no es entero'\n",
        "\n",
        "  #Se invierten los valores de la lista residuo, luego se agrega 1 al incio y finalemnte se transforma en una str\n",
        "  lista_prebinario=lista_residuos[::-1]\n",
        "  lista_binario=['1'] + lista_prebinario\n",
        "  binario=\"\".join(lista_binario)\n",
        "\n",
        " #Para obtener los 8 bits\n",
        "  longitud=len(binario)\n",
        "\n",
        "  if longitud==8:\n",
        "      return binario\n",
        "  else:\n",
        "    #Se obtendrán la cantidad de números que faltan\n",
        "    cuantas_veces=8-longitud\n",
        "    #Se realizan operaciones en el string para agregar la cantidad de ceros que hagan falta\n",
        "    nuevo_binario=('0'*cuantas_veces) + (binario)\n",
        "    return nuevo_binario\n",
        "\n",
        "mybin(72)"
      ]
    },
    {
      "cell_type": "markdown",
      "id": "e622b7b5",
      "metadata": {
        "id": "e622b7b5"
      },
      "source": [
        "### Activity 2.0:\n",
        "\n",
        "With the binary representation please try to implement the formula to recover the number.\n",
        "\n",
        "Hint: Use as input the binary representation as a string and invert its order\n",
        "\n",
        "```\n",
        "number32(BIN):\n",
        "\n",
        "```\n",
        "\n",
        "Where BIN is a string with the binary number\n",
        "\n",
        "Example:\n",
        "\n",
        "\n",
        "Test your solution for the next number:\n",
        "\n",
        "number32(\"00111110001000000000001000010000\")"
      ]
    },
    {
      "cell_type": "markdown",
      "source": [
        " ![32-bits](http://upload.wikimedia.org/wikipedia/commons/thumb/d/d2/Float_example.svg/590px-Float_example.svg.png)\n",
        "\n",
        "\n",
        " Formula\n",
        " $$r = \\frac{(-1)^s}{2^{127-e}} \\left( 1 + \\sum_{i=0}^{22}\\frac{b_{i}}{2^{23-i}} \\right)$$\n",
        "\n",
        " Exponete\n",
        " $$e = \\sum_{i=0}^7 b_{23+i}2^i$$\n",
        "\n",
        " fraccion\n",
        " $$\\left( 1 + \\sum_{i=0}^{22}\\frac{b_{i}}{2^{23-i}} \\right)$$"
      ],
      "metadata": {
        "id": "PHblImLWSfns"
      },
      "id": "PHblImLWSfns"
    },
    {
      "cell_type": "code",
      "execution_count": null,
      "id": "155ffd7f",
      "metadata": {
        "id": "155ffd7f",
        "outputId": "bcaf18a0-fc59-4d03-c530-663c395fa5e6",
        "colab": {
          "base_uri": "https://localhost:8080/"
        }
      },
      "outputs": [
        {
          "output_type": "stream",
          "name": "stdout",
          "text": [
            "<class 'float'>\n",
            "0.15625786781311035\n"
          ]
        }
      ],
      "source": [
        "def number32(n):\n",
        "  if isinstance(n,str)==True and len(n)==32:\n",
        "    n_invertida=n[::-1]\n",
        "    entero_32=np.zeros(len(n))\n",
        "\n",
        "    for j in range(0,len(n)):\n",
        "      entero=int(n_invertida[j])\n",
        "      entero_32[j]=entero\n",
        "\n",
        "    signo=entero_32[31]\n",
        "\n",
        "   #Exponente\n",
        "    exponente_32=0\n",
        "\n",
        "    for i in range(0,8): #Para que le aplique esta formula a los elementos de 23 hasta 30\n",
        "      exponente_32= exponente_32 + entero_32[23+i]*(2**i)\n",
        "\n",
        "    #Fraccionario\n",
        "    fraccion_32=0\n",
        "\n",
        "    for k in range(0,23): ##Para que le aplique esta formula a los elementos de 0 hasta el 23\n",
        "      fraccion_32= fraccion_32 + entero_32[k]/(2**(23-k))\n",
        "\n",
        "    formula=(((-1)**signo)/(2**(127-exponente_32)))*(1 + fraccion_32) #Presenta el valor del número en base 10\n",
        "\n",
        "    return float(formula) #Para ver si funcio así\n",
        "\n",
        "  else:\n",
        "    return 'Ingrese una variable tipo str de 32 bits'\n",
        "\n",
        "a=number32('00111110001000000000001000010000')\n",
        "\n",
        "print(type(a))\n",
        "\n",
        "print(a)\n",
        "\n"
      ]
    },
    {
      "cell_type": "code",
      "source": [
        "%run -i {path}/Act_02/test02.py"
      ],
      "metadata": {
        "colab": {
          "base_uri": "https://localhost:8080/",
          "height": 174
        },
        "id": "P-JmF3iV3SF6",
        "outputId": "6f109127-15e8-4d92-b681-01a68b6cd82b"
      },
      "id": "P-JmF3iV3SF6",
      "execution_count": null,
      "outputs": [
        {
          "output_type": "display_data",
          "data": {
            "text/plain": [
              "<IPython.core.display.HTML object>"
            ],
            "text/html": [
              "<style>\n",
              "  table { text-align: left; border-collapse: collapse; margin: 1em; caption-side: bottom; font-family: Sans-Serif; font-size: 12px}\n",
              "  caption { text-align: left; padding: 5px }\n",
              "  th, td { border: 2px solid #BFC9CA; padding: 5px }\n",
              "  th { background-color: #BFC9CA }\n",
              "  .passed { background-color: #76D7C4 }\n",
              "  .failed { background-color: #EC7063 }\n",
              "  .skipped { background-color: #EDBB99 }\n",
              "  .score { background-color: #7DCEA0 }\n",
              "  .results .points { display: none }\n",
              "  .results .message { display: block; font-size:smaller; color:#D35400 }\n",
              "  .results .note { display: block; font-size:smaller; font-decoration:italics }\n",
              "  .results .passed::before  { content: \"Passed\" } \n",
              "  .results .skipped::before  { content: \"Skipped\" } \n",
              "  .results .failed::before  { content: \"Failed\" } \n",
              "  .grade .passed  .message:empty::before { content:\"Passed\" }\n",
              "  .grade .failed  .message:empty::before { content:\"Failed\" }\n",
              "  .grade .skipped .message:empty::before { content:\"Skipped\" }   \n",
              "</style>\n",
              "<table class='results'>\n",
              "  <th class='test'>Test</th><th class='result'>Result</th></tr>\n",
              "<tr>\n",
              "  <td class='test'>\n",
              "    La salida debe ser un float \n",
              "    <div class='message'>Error: &lt;class &#x27;float&#x27;&gt; != &lt;class &#x27;str&#x27;&gt; : #-The expect value is &lt;class &#x27;float&#x27;&gt; and the functions test is &lt;class &#x27;str&#x27;&gt;\n",
              "</div>\n",
              "  </td>\n",
              "  <td class='result failed'></td>\n",
              "</tr>\n",
              "<tr>\n",
              "  <td class='test'>\n",
              "    Realizando prueba para un numero binario \n",
              "    <div class='message'>Done</div>\n",
              "  </td>\n",
              "  <td class='result passed'></td>\n",
              "</tr>  <tr><th class='score'>Total Points</th><th class='score'>1</th></tr></table>\n"
            ]
          },
          "metadata": {}
        }
      ]
    },
    {
      "cell_type": "markdown",
      "id": "d11e596d",
      "metadata": {
        "id": "d11e596d"
      },
      "source": [
        "### Activity 3.0:\n",
        "1. Write a python script that calculates the double precision number represented by a 64-bits binary.\n",
        "\n",
        "the name of function should be:\n",
        "```\n",
        "number64(BIN):\n",
        "\n",
        "```\n",
        "\n",
        "2. What is the number represented by:\n",
        "\n",
        "BIN=\"0 10000000011 1011100100001111111111111111111111111111111111111111\""
      ]
    },
    {
      "cell_type": "markdown",
      "source": [
        "![64-bits](http://upload.wikimedia.org/wikipedia/commons/thumb/a/a9/IEEE_754_Double_Floating_Point_Format.svg/618px-IEEE_754_Double_Floating_Point_Format.svg.png)\n",
        "\n",
        "Fracción:\n",
        "$$1 + \\sum_{i=1}^{52}b_{52-i}2^{-i}$$\n",
        "\n",
        "Exponente:\n",
        "$$e = \\sum_{i=0}^{10} b_{52+i}2^i$$\n",
        "\n",
        "Formula:\n",
        "$$r = (-1)^s\\times \\left( 1 + \\sum_{i=1}^{52}b_{52-i}2^{-i} \\right)\\times 2^{e-1023}$$"
      ],
      "metadata": {
        "id": "rqsqgLtY5Yd-"
      },
      "id": "rqsqgLtY5Yd-"
    },
    {
      "cell_type": "code",
      "execution_count": null,
      "id": "b0922a1d",
      "metadata": {
        "id": "b0922a1d",
        "colab": {
          "base_uri": "https://localhost:8080/"
        },
        "outputId": "f7d6d1e3-d47c-4f80-8365-11036af00000"
      },
      "outputs": [
        {
          "output_type": "stream",
          "name": "stdout",
          "text": [
            "<class 'numpy.float64'>\n",
            "27.566406249999996\n"
          ]
        }
      ],
      "source": [
        "def number64(n):\n",
        "\n",
        "  if isinstance(n,str)==True and len(n)==64:\n",
        "    n_inverso64=n[::-1]\n",
        "    entero_64=np.zeros(len(n))\n",
        "\n",
        "    for j in range(0,len(n)):\n",
        "      entero=int(n_inverso64[j])\n",
        "      entero_64[j]=entero\n",
        "\n",
        "    signo=entero_64[63]\n",
        "\n",
        "    #Exponente\n",
        "    exponente_64= 0\n",
        "\n",
        "    for i in range(0,11):\n",
        "      exponente_64 = exponente_64 + (entero_64[52+i]*(2**i))\n",
        "\n",
        "    #Fraccionario\n",
        "    fraccion_64=0\n",
        "\n",
        "    for k in range(1,53):\n",
        "      fraccion_64= fraccion_64 + (entero_64[52-k]*(2**(-k)))\n",
        "\n",
        "    #Resultado\n",
        "    formula=((-1)**signo)*(1+fraccion_64)*(2**(exponente_64-1023))\n",
        "\n",
        "    return formula\n",
        "\n",
        "  else:\n",
        "    return 'Se debe ingresar una variable str de 64 bits'\n",
        "\n",
        "\n",
        "a=number64('0100000000111011100100001111111111111111111111111111111111111111')\n",
        "print(type(a))\n",
        "print(a)\n",
        "\n",
        "\n"
      ]
    },
    {
      "cell_type": "code",
      "execution_count": null,
      "id": "cd48a992",
      "metadata": {
        "scrolled": false,
        "id": "cd48a992",
        "outputId": "ef991cb0-3b66-47c5-c5f7-3a03485e589f",
        "colab": {
          "base_uri": "https://localhost:8080/",
          "height": 145
        }
      },
      "outputs": [
        {
          "output_type": "error",
          "ename": "SyntaxError",
          "evalue": "ignored",
          "traceback": [
            "\u001b[0;36m  File \u001b[0;32m\"/content/autogrades/Actividades_clase/libs/Act_02/test03.py\"\u001b[0;36m, line \u001b[0;32m28\u001b[0m\n\u001b[0;31m    True)\u001b[0m\n\u001b[0m        ^\u001b[0m\n\u001b[0;31mSyntaxError\u001b[0m\u001b[0;31m:\u001b[0m unmatched ')'\n"
          ]
        }
      ],
      "source": [
        "%run -i {path}/Act_02/test03.py"
      ]
    }
  ],
  "metadata": {
    "kernelspec": {
      "display_name": "Python 3 (ipykernel)",
      "language": "python",
      "name": "python3"
    },
    "language_info": {
      "codemirror_mode": {
        "name": "ipython",
        "version": 3
      },
      "file_extension": ".py",
      "mimetype": "text/x-python",
      "name": "python",
      "nbconvert_exporter": "python",
      "pygments_lexer": "ipython3",
      "version": "3.10.9"
    },
    "colab": {
      "provenance": []
    }
  },
  "nbformat": 4,
  "nbformat_minor": 5
}