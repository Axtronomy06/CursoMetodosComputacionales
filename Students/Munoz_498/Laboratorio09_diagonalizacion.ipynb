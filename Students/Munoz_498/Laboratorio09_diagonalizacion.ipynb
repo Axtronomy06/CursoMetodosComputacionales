{
 "cells": [
  {
   "cell_type": "markdown",
   "metadata": {
    "id": "KqVklnaMvKyP"
   },
   "source": [
    "#**Laboratorio 9: Diagonalización - Melanie Andrea Muñoz Chavarria**\n",
    "\n"
   ]
  },
  {
   "cell_type": "markdown",
   "metadata": {
    "id": "M6prlb84bBGQ"
   },
   "source": [
    "Se sabe que un sistema físico es gobernado por las ecuaciones,\n",
    "\n",
    "\\begin{matrix}\n",
    "x' &=& 2x&-y&+z, \\\\\n",
    "y' &=&   &3y&-1z,\\\\\n",
    "z' &=& 2x&+y&+3z,\\\\\n",
    "\\end{matrix}\n",
    "\n",
    "donde $x',y',z'$ son las derivadas, en forma vectorial esto se puede representar como $\\vec{r}'=A \\vec{r}$ que tiene solución analítica general, $\\vec{r} = e^{At} \\vec{r}(0)$.\n",
    "\n",
    "a) Diagonalize $A$.\n",
    "\n",
    "b) Use el hecho de que $f(A) =U f(D) U^{-1}$ para encontrar $x(t),y(t),z(t)$ en el intervalo de tiempo $[0,2]$\n",
    "\n",
    "c) Grafique $x(t),y(t),z(t)$ (use la condición inicial $\\vec{r}(0)=(1,1,2))$\n",
    "\n",
    "d)Compare el resultado a la solución analítica,\n",
    "\n",
    "\\begin{align}\n",
    "2x &= x(0)(e^{2t}(1+e^{2t}-2t)) + y(0) (-2te^{2t}) + z(0)(e^{2t}(-1+e^{2t})), \\\\\n",
    "2y &= x(0)(-e^{2t}(-1+e^{2t}-2t)) + y(0)(2(t+1)e^{2t}) + z(0)(-e^{2t}(-1+e^{2t})), \\\\\n",
    "2z &= x(0)(e^{2t}(-1+e^{2t}+2t)) + y(0)(2te^{2t}) + z(0)(e^{2t}(1+e^{2t}))\n",
    "\\end{align}\n"
   ]
  },
  {
   "cell_type": "code",
   "execution_count": 27,
   "metadata": {
    "id": "nrFW8mrwvJeO"
   },
   "outputs": [],
   "source": [
    "import numpy as np\n",
    "import sympy as sy\n",
    "import matplotlib.pyplot as plt"
   ]
  },
  {
   "cell_type": "markdown",
   "metadata": {
    "id": "lnRwdVvNhdz6"
   },
   "source": [
    "Entonces se presenta el siguiente sistema matricial:\n",
    "\\begin{aligned}\n",
    "\\begin{bmatrix}\n",
    "x' \\\\ y' \\\\ z'\n",
    "\\end{bmatrix}\n",
    "&=\n",
    "\\begin{bmatrix}\n",
    "2 & -1 & 1 \\\\\n",
    "0 & 3 & -1 \\\\\n",
    "2 & 1 & 3\n",
    "\\end{bmatrix}\n",
    "\\begin{bmatrix}\n",
    "x \\\\ y \\\\ z\n",
    "\\end{bmatrix}\n",
    "\\end{aligned}\n"
   ]
  },
  {
   "cell_type": "markdown",
   "metadata": {
    "id": "99xOpqKKztyL"
   },
   "source": [
    "##**Diagonalización A**"
   ]
  },
  {
   "cell_type": "code",
   "execution_count": 28,
   "metadata": {
    "colab": {
     "base_uri": "https://localhost:8080/"
    },
    "id": "TCqkPzlShdhJ",
    "outputId": "a27c74b1-315f-4a8d-de68-03cb5b877c0e"
   },
   "outputs": [
    {
     "data": {
      "text/plain": [
       "array([4.+0.j, 2.+0.j, 2.-0.j])"
      ]
     },
     "execution_count": 28,
     "metadata": {},
     "output_type": "execute_result"
    }
   ],
   "source": [
    "#Construyendo la diagonalización de A\n",
    "A=np.matrix([[2,-1,1],\n",
    "             [0,3,-1],\n",
    "             [2,1,3]])\n",
    "\n",
    "#Calculando los autovalores y autovectores\n",
    "eigvals=np.round(np.linalg.eig(A)[0])\n",
    "eigvects=np.array(np.round(np.linalg.eig(A)[1]))\n",
    "\n",
    "eigvals"
   ]
  },
  {
   "cell_type": "markdown",
   "metadata": {
    "id": "z3d-Llj4DVs_"
   },
   "source": [
    "La matriz presenta un valor propio de multiplicidad 2, en este caso $\\lambda=2$. Entonces la diagoalización no es posible y toca recurrir  aun matriz de Jordan para intentar diagonalizarla.\n",
    "\n",
    "Para ello, primero se cálcula un vector generalizado.\n",
    "$(A-2I)\\vec{v_2}=\\vec{v_1}$\n",
    "Donde $v_1$ es el vector asociado al valor $\\lambda=2$."
   ]
  },
  {
   "cell_type": "code",
   "execution_count": 29,
   "metadata": {
    "colab": {
     "base_uri": "https://localhost:8080/"
    },
    "id": "sZFmKrlXE8I1",
    "outputId": "cf4d6fef-0094-4ce8-ef81-3f80f857bb55"
   },
   "outputs": [
    {
     "data": {
      "text/plain": [
       "{x: -z, y: z + 1.0}"
      ]
     },
     "execution_count": 29,
     "metadata": {},
     "output_type": "execute_result"
    }
   ],
   "source": [
    "#Vector generalizado\n",
    "x=sy.Symbol('x')\n",
    "y=sy.Symbol('y')\n",
    "z=sy.Symbol('z')\n",
    "C=sy.Matrix(A)-2*sy.eye(3)\n",
    "v_2=sy.Matrix([x,y,z])\n",
    "v_1=sy.Matrix(eigvects[:,1])\n",
    "\n",
    "solucion=sy.solve(C*v_2-v_1,[x,y,z])\n",
    "solucion"
   ]
  },
  {
   "cell_type": "markdown",
   "metadata": {
    "id": "dmvGGYQ-GX5g"
   },
   "source": [
    "Un vector que cumple las condiciones anteriores es $\\vec{v_2}=(0,1,0)$. Entonces calculando las matrices para producir $A$:"
   ]
  },
  {
   "cell_type": "code",
   "execution_count": 30,
   "metadata": {
    "colab": {
     "base_uri": "https://localhost:8080/"
    },
    "id": "6qFt2dCLGWod",
    "outputId": "571194a8-1818-4128-bfa0-d846776a63d9"
   },
   "outputs": [
    {
     "data": {
      "text/plain": [
       "matrix([[4.+0.j, 0.+0.j, 0.+0.j],\n",
       "        [0.+0.j, 2.+0.j, 1.+0.j],\n",
       "        [0.+0.j, 0.+0.j, 2.-0.j]])"
      ]
     },
     "execution_count": 30,
     "metadata": {},
     "output_type": "execute_result"
    }
   ],
   "source": [
    "#Matriz de jordan\n",
    "J=np.matrix([[eigvals[0],0,0],\n",
    "             [0,eigvals[1],1],\n",
    "             [0,0,eigvals[2]]])\n",
    "J"
   ]
  },
  {
   "cell_type": "code",
   "execution_count": 31,
   "metadata": {
    "id": "N_36wAOzHljn"
   },
   "outputs": [],
   "source": [
    "#Matrices laterales\n",
    "v2=np.array([0,1,0])\n",
    "\n",
    "#Tiene los vectores propios y el vector generalizado, ubicado en las columnas\n",
    "P=np.matrix([eigvects[:,0],eigvects[:,1],v2]).T\n",
    "\n",
    "P_inversa=np.linalg.inv(P)"
   ]
  },
  {
   "cell_type": "code",
   "execution_count": 32,
   "metadata": {
    "colab": {
     "base_uri": "https://localhost:8080/",
     "height": 78
    },
    "id": "2eVqQmv_InWm",
    "outputId": "1f1f901c-1773-4926-e77b-45287c5f7dc5"
   },
   "outputs": [
    {
     "data": {
      "text/latex": [
       "$\\displaystyle \\left[\\begin{matrix}2.0 & -1.0 & 1.0\\\\0 & 3.0 & -1.0\\\\2.0 & 1.0 & 3.0\\end{matrix}\\right]$"
      ],
      "text/plain": [
       "Matrix([\n",
       "[2.0, -1.0,  1.0],\n",
       "[  0,  3.0, -1.0],\n",
       "[2.0,  1.0,  3.0]])"
      ]
     },
     "execution_count": 32,
     "metadata": {},
     "output_type": "execute_result"
    }
   ],
   "source": [
    "#Ahora A se puede escribir como\n",
    "sy.Matrix(P@J@P_inversa)"
   ]
  },
  {
   "cell_type": "markdown",
   "metadata": {
    "id": "KHPBisc3z02T"
   },
   "source": [
    "##**$x(t),y(t),z(t)$ en el intervalo de tiempo $[0,2]$**\n",
    "Donde $x(t),y(t),z(t)$, son las componentes por columnas del vector $\\vec{sol}$"
   ]
  },
  {
   "cell_type": "code",
   "execution_count": 33,
   "metadata": {
    "colab": {
     "base_uri": "https://localhost:8080/",
     "height": 78
    },
    "id": "t4UzDJF4xeAc",
    "outputId": "1a329f5d-912e-4b70-e90c-c3d6c4332fd8"
   },
   "outputs": [
    {
     "data": {
      "text/latex": [
       "$\\displaystyle \\left[\\begin{matrix}- 1.0 t y_{0} e^{2.0 t} + x_{0} \\left(- 1.0 t e^{2.0 t} + 0.5 e^{2.0 t} + 0.5 e^{4.0 t}\\right) + z_{0} \\left(- 0.5 e^{2.0 t} + 0.5 e^{4.0 t}\\right)\\\\x_{0} \\cdot \\left(1.0 t e^{2.0 t} + 0.5 e^{2.0 t} - 0.5 e^{4.0 t}\\right) + y_{0} \\cdot \\left(1.0 t e^{2.0 t} + 1.0 e^{2.0 t}\\right) + z_{0} \\cdot \\left(0.5 e^{2.0 t} - 0.5 e^{4.0 t}\\right)\\\\1.0 t y_{0} e^{2.0 t} + x_{0} \\cdot \\left(1.0 t e^{2.0 t} - 0.5 e^{2.0 t} + 0.5 e^{4.0 t}\\right) + z_{0} \\cdot \\left(0.5 e^{2.0 t} + 0.5 e^{4.0 t}\\right)\\end{matrix}\\right]$"
      ],
      "text/plain": [
       "Matrix([\n",
       "[                -1.0*t*y_0*exp(2.0*t) + x_0*(-1.0*t*exp(2.0*t) + 0.5*exp(2.0*t) + 0.5*exp(4.0*t)) + z_0*(-0.5*exp(2.0*t) + 0.5*exp(4.0*t))],\n",
       "[x_0*(1.0*t*exp(2.0*t) + 0.5*exp(2.0*t) - 0.5*exp(4.0*t)) + y_0*(1.0*t*exp(2.0*t) + 1.0*exp(2.0*t)) + z_0*(0.5*exp(2.0*t) - 0.5*exp(4.0*t))],\n",
       "[                   1.0*t*y_0*exp(2.0*t) + x_0*(1.0*t*exp(2.0*t) - 0.5*exp(2.0*t) + 0.5*exp(4.0*t)) + z_0*(0.5*exp(2.0*t) + 0.5*exp(4.0*t))]])"
      ]
     },
     "execution_count": 33,
     "metadata": {},
     "output_type": "execute_result"
    }
   ],
   "source": [
    "#Defiendo la solución con la exponencial\n",
    "\n",
    "#PVI\n",
    "x0=sy.Symbol('x_0')\n",
    "y0=sy.Symbol('y_0')\n",
    "z0=sy.Symbol('z_0')\n",
    "\n",
    "#Vector de PVI\n",
    "c=sy.Matrix([x0,y0,z0])\n",
    "\n",
    "#e^Jt\n",
    "t=sy.Symbol('t')\n",
    "f_J=sy.Matrix([[sy.exp(eigvals[0]*t),0,0],\n",
    "               [0,sy.exp(eigvals[1]*t),t*sy.exp(eigvals[1]*t)],\n",
    "               [0,0,sy.exp(eigvals[2]*t)]])\n",
    "\n",
    "#Matrices\n",
    "P_=sy.Matrix(P)\n",
    "P_inversa_=sy.Matrix(P_inversa)\n",
    "\n",
    "#Solcuión para todo tiempo t\n",
    "sol=P_@f_J@P_inversa_@c\n",
    "sol"
   ]
  },
  {
   "cell_type": "markdown",
   "metadata": {
    "id": "pBOsELsc00u4"
   },
   "source": [
    "##**Grafique $x(t),y(t),z(t)$ (use la condición inicial $\\vec{r}(0)=(1,1,2))$**"
   ]
  },
  {
   "cell_type": "code",
   "execution_count": 34,
   "metadata": {
    "colab": {
     "base_uri": "https://localhost:8080/",
     "height": 78
    },
    "id": "pf65_Io51D0N",
    "outputId": "60ede30f-052a-425e-e6b9-c241d5cadd62"
   },
   "outputs": [
    {
     "data": {
      "text/latex": [
       "$\\displaystyle \\left[\\begin{matrix}- 2.0 t e^{2.0 t} - 0.5 e^{2.0 t} + 1.5 e^{4.0 t}\\\\2.0 t e^{2.0 t} + 2.5 e^{2.0 t} - 1.5 e^{4.0 t}\\\\2.0 t e^{2.0 t} + 0.5 e^{2.0 t} + 1.5 e^{4.0 t}\\end{matrix}\\right]$"
      ],
      "text/plain": [
       "Matrix([\n",
       "[-2.0*t*exp(2.0*t) - 0.5*exp(2.0*t) + 1.5*exp(4.0*t)],\n",
       "[ 2.0*t*exp(2.0*t) + 2.5*exp(2.0*t) - 1.5*exp(4.0*t)],\n",
       "[ 2.0*t*exp(2.0*t) + 0.5*exp(2.0*t) + 1.5*exp(4.0*t)]])"
      ]
     },
     "execution_count": 34,
     "metadata": {},
     "output_type": "execute_result"
    }
   ],
   "source": [
    "#Vector de PVI\n",
    "r=sy.Matrix([1,1,2])\n",
    "\n",
    "#e^Jt\n",
    "t=sy.Symbol('t')\n",
    "f_J=sy.Matrix([[sy.exp(eigvals[0]*t),0,0],\n",
    "               [0,sy.exp(eigvals[1]*t),t*sy.exp(eigvals[1]*t)],\n",
    "               [0,0,sy.exp(eigvals[2]*t)]])\n",
    "\n",
    "#Matrices\n",
    "P_=sy.Matrix(P)\n",
    "P_inversa_=sy.Matrix(P_inversa)\n",
    "\n",
    "#Solcuión para todo tiempo t\n",
    "sol=P_@f_J@P_inversa_@r\n",
    "sol"
   ]
  },
  {
   "cell_type": "code",
   "execution_count": 35,
   "metadata": {
    "colab": {
     "base_uri": "https://localhost:8080/",
     "height": 505
    },
    "id": "4TcuhuBd1RIz",
    "outputId": "26259c6b-f07c-488b-c5b1-d866af7ae47f"
   },
   "outputs": [
    {
     "data": {
      "text/plain": [
       "<matplotlib.legend.Legend at 0x78f6c436f520>"
      ]
     },
     "execution_count": 35,
     "metadata": {},
     "output_type": "execute_result"
    },
    {
     "data": {
      "image/png": "[encoded data removed]",
      "text/plain": [
       "<Figure size 640x480 with 1 Axes>"
      ]
     },
     "metadata": {},
     "output_type": "display_data"
    }
   ],
   "source": [
    "#Escribiendo las ecuaciones\n",
    "\n",
    "x=lambda t: -2*t*np.exp(2*t)-(0.5)*np.exp(2*t)+(1.5)*np.exp(4*t)\n",
    "y=lambda t: 2*t*np.exp(2*t)+(2.5)*np.exp(2*t)-(1.5)*np.exp(4*t)\n",
    "z=lambda t: 2*t*np.exp(2*t)+(0.5)*np.exp(2*t)+(1.5)*np.exp(4*t)\n",
    "\n",
    "t=np.linspace(-4,4,200)\n",
    "plt.figure()\n",
    "plt.xlabel('t')\n",
    "plt.ylabel('f(t)')\n",
    "plt.title(f'Solcuión sistema de ecuaciones diferenciales con PVI {r}')\n",
    "plt.plot(t,x(t),'-b.',label='$x(t)')\n",
    "plt.plot(t,y(t),'-g.',label='$y(t)$')\n",
    "plt.plot(t,z(t),'-r.',label='$z(t)$')\n",
    "plt.grid()\n",
    "plt.legend()"
   ]
  }
 ],
 "metadata": {
  "colab": {
   "provenance": []
  },
  "kernelspec": {
   "display_name": "Python 3 (ipykernel)",
   "language": "python",
   "name": "python3"
  },
  "language_info": {
   "codemirror_mode": {
    "name": "ipython",
    "version": 3
   },
   "file_extension": ".py",
   "mimetype": "text/x-python",
   "name": "python",
   "nbconvert_exporter": "python",
   "pygments_lexer": "ipython3",
   "version": "3.10.9"
  }
 },
 "nbformat": 4,
 "nbformat_minor": 1
}
