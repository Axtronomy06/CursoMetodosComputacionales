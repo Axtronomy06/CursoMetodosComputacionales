{
  "nbformat": 4,
  "nbformat_minor": 0,
  "metadata": {
    "colab": {
      "provenance": []
    },
    "kernelspec": {
      "name": "python3",
      "display_name": "Python 3"
    },
    "language_info": {
      "name": "python"
    }
  },
  "cells": [
    {
      "cell_type": "markdown",
      "source": [
        "#**Actividad 13: Diagonalización - Melanie Andrea Muñoz Chavarria**"
      ],
      "metadata": {
        "id": "-if7La_pu79I"
      }
    },
    {
      "cell_type": "code",
      "source": [
        "import numpy as np\n",
        "import sympy as sy\n",
        "import matplotlib.pyplot as plt"
      ],
      "metadata": {
        "id": "grLM72nuvQr9"
      },
      "execution_count": 1,
      "outputs": []
    },
    {
      "cell_type": "markdown",
      "source": [
        "#**Autovalores, autovectores, polinomio caracteristico, diagonalización.**"
      ],
      "metadata": {
        "id": "qPVhHkJpLhGJ"
      }
    },
    {
      "cell_type": "markdown",
      "source": [
        "##**Actividad 1**\n",
        "Calcular el polinomio caracteristico, los autovalores y autvectores propios de la siguiente matrices, comprobar con la solucion analitica:\n",
        "\\begin{equation}\n",
        "A=\n",
        "\\begin{bmatrix}\n",
        "1 & -1 & 4 \\\\\n",
        "3 & 2 & -1 \\\\\n",
        "2 & 1 & -1\\\\\n",
        "\\end{bmatrix}\n",
        "\\end{equation}\n",
        "\n",
        "\n",
        "\n",
        "\\begin{equation}\n",
        "B=\n",
        "\\begin{bmatrix}\n",
        "3 & -5 \\\\\n",
        "1 & -1 \\\\\n",
        "\\end{bmatrix}\n",
        "\\end{equation}"
      ],
      "metadata": {
        "id": "9nWUQo4WvkzG"
      }
    },
    {
      "cell_type": "markdown",
      "source": [
        "##**Caja negra diagonalización**\n",
        "\n",
        "Se calculan los determinantes para matrices 2x2 y 3x3, a partir de allí, se realizan operaciones para calcular los vectores propios y los valores propios, utilizando el concepto de determinente y las soluciones del sistema, soponiendo un sistema con soluciones infinitas.\n",
        "\n",
        "Ahora, para obtener los valores propios. Primero se triangula inferiormente cada matriz $T= A - \\lambda I$, donde A es la matriz que se desea digonalizar y $\\lambda$ es el valor propio. Pues note que no se puede reducir el sistema totalemente, pues es básicamente el espacio nulo de la la matriz T.\n",
        "\n",
        "Con la tringulación se obtiene una fila de ceros, y se crea un sistema asignando una variable libre. Para luego resolver, el sistema ampliadocon esta variable libre y obtener los vectores propios."
      ],
      "metadata": {
        "id": "IwGyQ7lwruGO"
      }
    },
    {
      "cell_type": "code",
      "source": [
        "#Determinante matriz 2x2\n",
        "def determinante2x2(A):\n",
        "  det=A[0, 0] * A[1, 1] - A[0, 1] * A[1, 0]\n",
        "  return det\n",
        "\n",
        "#Determinante 3x3\n",
        "def determinante3x3(B):\n",
        "  M1=B[1:3,1:3]\n",
        "  M2=B[1:3:1,0:3:2]\n",
        "  M3=B[1:3, 0:2]\n",
        "\n",
        "  b=np.array([M1,M2,M3])\n",
        "\n",
        "  dim=sy.shape(B)\n",
        "  sig=-1\n",
        "  det=0\n",
        "\n",
        "  for i in range(0,dim[0]):\n",
        "    det=det+((sig)**i)*B[0,i]*determinante2x2(b[i])\n",
        "\n",
        "  return det"
      ],
      "metadata": {
        "id": "5nTITYzUr0O6"
      },
      "execution_count": 2,
      "outputs": []
    },
    {
      "cell_type": "markdown",
      "source": [
        "###**Polinomio Caracteristico**"
      ],
      "metadata": {
        "id": "PQNI6oIFtQ7R"
      }
    },
    {
      "cell_type": "code",
      "source": [
        "def polinomio_caracteristico(B):\n",
        "  #Se calcula la dimensión, pues la suma de matrices solo es posible si sus diemsiones coinciden\n",
        "  dim=sy.shape(B)\n",
        "  l=sy.Symbol('\\lambda')\n",
        "\n",
        "  if dim==(3,3):\n",
        "    I=sy.eye(3)\n",
        "    C=(B-l*I)\n",
        "    poli=sy.poly(determinante3x3(C),l)\n",
        "    return poli\n",
        "\n",
        "  if dim==(2,2):\n",
        "    I=sy.eye(2)\n",
        "    C=(B-l*I)\n",
        "    poli=sy.poly(determinante2x2(C),l)\n",
        "    return poli"
      ],
      "metadata": {
        "id": "mY4bkaORtVNB"
      },
      "execution_count": 3,
      "outputs": []
    },
    {
      "cell_type": "markdown",
      "source": [
        "###**Valores propios**"
      ],
      "metadata": {
        "id": "6GiaUlf5toRp"
      }
    },
    {
      "cell_type": "code",
      "source": [
        "def valores_propios(B):\n",
        "  l=sy.Symbol('\\lambda')\n",
        "\n",
        "  #Se resuelve el polinomio característico\n",
        "  v=sy.solve(polinomio_caracteristico(B), l)\n",
        "\n",
        "  return sy.Matrix(v)"
      ],
      "metadata": {
        "id": "4-UudOlQtn0T"
      },
      "execution_count": 4,
      "outputs": []
    },
    {
      "cell_type": "markdown",
      "source": [
        "###**Vectores propios**"
      ],
      "metadata": {
        "id": "4hq2-wIDt9Mf"
      }
    },
    {
      "cell_type": "markdown",
      "source": [
        "Se definen las operaciones elementales para triangular la matriz y se define la función para triangularla apartir de las de anteriores"
      ],
      "metadata": {
        "id": "6b1_2K1quEwB"
      }
    },
    {
      "cell_type": "code",
      "source": [
        "#Operaciones elementales\n",
        "\n",
        "#Multiplicación por escalar\n",
        "def mult_escalar(M,fila,escalar):\n",
        "  M_escalar=M.copy()\n",
        "  M_escalar[fila,:]=escalar*M[fila,:]\n",
        "\n",
        "  return M_escalar\n",
        "\n",
        "#Intercambio de filas\n",
        "def inter_filas(M,i,j):\n",
        "  M_intercambio=M.copy()\n",
        "  M_intercambio[i,:]=M[j,:]\n",
        "  M_intercambio[j,:]=M[i,:]\n",
        "\n",
        "  return M_intercambio\n",
        "\n",
        "#Suma de filas\n",
        "def sum_filas(M,escalar,fila_operacion,fila_a_cambiar):\n",
        "  M_sumaf=M.copy()\n",
        "\n",
        "  M_sumaf[fila_a_cambiar,:]=M_sumaf[fila_a_cambiar,:]+mult_escalar(M,fila_operacion,escalar)[fila_operacion,:]\n",
        "\n",
        "  return M_sumaf\n",
        "\n",
        "#Triangular inferior\n",
        "def triangular_inferior(B):\n",
        "  #Dimesiones de filas\n",
        "  n=B.shape[0]-1\n",
        "  n_=B.shape[0]\n",
        "\n",
        "  #Por si la primera entrada es cero\n",
        "  if B[0,0]==0:\n",
        "    B=inter_filas(B,0,2)\n",
        "    B_=B.copy()\n",
        "\n",
        "    for i in range(0,n):\n",
        "      for j in range(1,n_):\n",
        "        a=(i,j) #Para evitar alterar el elmento que ya es cero\n",
        "        if i!=j and a!=(2,0):\n",
        "          alpha_0=(1/B[i,i])*(-1)*(B[j,i]) #Escalar para reducir\n",
        "          B_=sum_filas(B,alpha_0,i,j)\n",
        "          B=B_\n",
        "    return B\n",
        "\n",
        "  else:\n",
        "\n",
        "    B_=B.copy()\n",
        "    for i in range(0,n):\n",
        "      for j in range(1,n_):\n",
        "        if i !=j:\n",
        "          alpha=(-1)*(1/B[i,i])*B[j,i]\n",
        "          B_=sum_filas(B,alpha,i,j)\n",
        "          B=B_\n",
        "    return B_"
      ],
      "metadata": {
        "id": "E_mDmDQzt62M"
      },
      "execution_count": 5,
      "outputs": []
    },
    {
      "cell_type": "code",
      "source": [
        "#Definiendo la función de valores propios\n",
        "def vectores_propios(A_):\n",
        "  #Variable libre\n",
        "  a=sy.Symbol('a')\n",
        "  #Para resolver el sistema cuando se asigne la variable libre\n",
        "  y=sy.Symbol('y')\n",
        "  z=sy.Symbol('z')\n",
        "\n",
        "  dim=sy.shape(A_)\n",
        "  #Matriz vacía donde se almacenan los valores propios\n",
        "  C=sy.Matrix()\n",
        "  #Calculo de los valores propios\n",
        "  c=valores_propios(A_)\n",
        "\n",
        "  if dim==(3,3):\n",
        "    for i in range(0, len(c)):\n",
        "      #La matriz menos lambda veces la identidad\n",
        "      T=(A_-c[i]*sy.eye(3))\n",
        "\n",
        "      #Triangulando\n",
        "      D=triangular_inferior(T)\n",
        "\n",
        "      #Creando un nuevo sistema ampliado con la triangulación\n",
        "      P=sy.Matrix([[D[0,1],D[0,2]],\n",
        "                  [D[1,1],D[1,2]]])\n",
        "      #Asignando la variable libre\n",
        "      b=sy.Matrix([-a*D[0,0],-a*D[1,0]])\n",
        "      v=sy.Matrix([y,z])\n",
        "      #Solcuión del sistema\n",
        "      solucion =sy.solve(P*v - b, [y, z])\n",
        "      #Vector propio\n",
        "      vi=sy.Matrix([1,solucion[y]/a,solucion[z]/a])\n",
        "      C=C.row_join(vi)\n",
        "    return C\n",
        "\n",
        "  if dim==(2,2):\n",
        "    #Nos es necesario triangular pues una de las filas es linielamente idepediente de la otra, por tanto solo basta trabajar con una de las filas\n",
        "    for i in range(0,len(c)):\n",
        "      T=A_-c[i]*sy.eye(2)\n",
        "      #Se despeja como si se hubiera asignado una variable libre\n",
        "      s=(-1)*T[0,0]/T[0,1]\n",
        "      vi=sy.Matrix([1,s])\n",
        "      C=C.row_join(vi)\n",
        "    return C\n"
      ],
      "metadata": {
        "id": "9z5lfwh3vxRS"
      },
      "execution_count": 6,
      "outputs": []
    },
    {
      "cell_type": "markdown",
      "source": [
        "##**Comparando los resultados con numpy**"
      ],
      "metadata": {
        "id": "23ivMJJWvwcu"
      }
    },
    {
      "cell_type": "code",
      "source": [
        "#Para la matriz A\n",
        "A=np.matrix([[1,-1,4],\n",
        "             [3,2,-1],\n",
        "             [2,1,-1]])\n",
        "A_=sy.Matrix(A)\n",
        "\n",
        "#Para la matriz B\n",
        "B=np.matrix([[3,-5],\n",
        "             [1,-1]])\n",
        "B_=sy.Matrix(B)"
      ],
      "metadata": {
        "id": "NUYf_hMvxv7e"
      },
      "execution_count": 7,
      "outputs": []
    },
    {
      "cell_type": "markdown",
      "source": [
        "Polinomio característico"
      ],
      "metadata": {
        "id": "UsJK1F1yyeFn"
      }
    },
    {
      "cell_type": "code",
      "source": [
        "p_1=polinomio_caracteristico(A_)\n",
        "p_2=np.poly(A)\n",
        "\n",
        "p_3=polinomio_caracteristico(B_)\n",
        "p_4=np.poly(B)\n",
        "\n",
        "print(f'Para la matriz {A} , el polinomio caracaterírico con la caja negra es {p_1} y con numpy es {p_2}')\n",
        "print('______')\n",
        "print(f'Para la matriz {B} , el polinomio caracaterírico con la caja negra es {p_3} y con numpy es {p_4}')"
      ],
      "metadata": {
        "colab": {
          "base_uri": "https://localhost:8080/"
        },
        "id": "vuc8o88JydQO",
        "outputId": "7a242a62-4fb8-4ffd-9943-decd986f0cab"
      },
      "execution_count": 8,
      "outputs": [
        {
          "output_type": "stream",
          "name": "stdout",
          "text": [
            "Para la matriz [[ 1 -1  4]\n",
            " [ 3  2 -1]\n",
            " [ 2  1 -1]] , el polinomio caracaterírico con la caja negra es Poly(-\\lambda**3 + 2*\\lambda**2 + 5*\\lambda - 6, \\lambda, domain='ZZ') y con numpy es [ 1. -2. -5.  6.]\n",
            "______\n",
            "Para la matriz [[ 3 -5]\n",
            " [ 1 -1]] , el polinomio caracaterírico con la caja negra es Poly(\\lambda**2 - 2*\\lambda + 2, \\lambda, domain='ZZ') y con numpy es [ 1. -2.  2.]\n"
          ]
        }
      ]
    },
    {
      "cell_type": "markdown",
      "source": [
        "Valores propios"
      ],
      "metadata": {
        "id": "M4qd8P65zTHs"
      }
    },
    {
      "cell_type": "code",
      "source": [
        "evals_1=valores_propios(A_)\n",
        "evals_2=np.linalg.eig(A)[0]\n",
        "\n",
        "evals_3=valores_propios(B_)\n",
        "evals_4=np.linalg.eig(B)[0]\n",
        "print(f'Para la matriz {A} , los valores propios con la caja negra es {evals_1} y con numpy es {evals_2}')\n",
        "print('____')\n",
        "print(f'Para la matriz {B} , los valores propios con la caja negra es {evals_3} y con numpy es {evals_4}')"
      ],
      "metadata": {
        "colab": {
          "base_uri": "https://localhost:8080/"
        },
        "id": "y0-rnJ6xzSh-",
        "outputId": "cdce2b0b-1f87-4fc9-9be3-dcb02f6014c3"
      },
      "execution_count": 9,
      "outputs": [
        {
          "output_type": "stream",
          "name": "stdout",
          "text": [
            "Para la matriz [[ 1 -1  4]\n",
            " [ 3  2 -1]\n",
            " [ 2  1 -1]] , los valores propios con la caja negra es Matrix([[-2], [1], [3]]) y con numpy es [ 3. -2.  1.]\n",
            "____\n",
            "Para la matriz [[ 3 -5]\n",
            " [ 1 -1]] , los valores propios con la caja negra es Matrix([[1 - I], [1 + I]]) y con numpy es [1.+1.j 1.-1.j]\n"
          ]
        }
      ]
    },
    {
      "cell_type": "markdown",
      "source": [
        "Vectores propios"
      ],
      "metadata": {
        "id": "W5873gN_1BXy"
      }
    },
    {
      "cell_type": "code",
      "source": [
        "evec_1=vectores_propios(A_)\n",
        "evec_2=np.linalg.eig(A)[1]\n",
        "\n",
        "evec_3=vectores_propios(B_)\n",
        "evec_4=np.linalg.eig(B)[1]\n",
        "print(f'Para la matriz {A} , los valores propios con la caja negra es {evec_1} y con numpy es {evec_2}')\n",
        "print('____')\n",
        "print(f'Para la matriz {A} , los valores propios con la caja negra es {evec_3} y con numpy es {evec_4}')"
      ],
      "metadata": {
        "colab": {
          "base_uri": "https://localhost:8080/"
        },
        "id": "B1xDROnmyYyp",
        "outputId": "b9431ee0-9176-4e42-e2cf-68686d9dfc6f"
      },
      "execution_count": 10,
      "outputs": [
        {
          "output_type": "stream",
          "name": "stdout",
          "text": [
            "Para la matriz [[ 1 -1  4]\n",
            " [ 3  2 -1]\n",
            " [ 2  1 -1]] , los valores propios con la caja negra es Matrix([[1, 1, 1], [-1, -4, 2], [-1, -1, 1]]) y con numpy es [[ 0.40824829  0.57735027  0.23570226]\n",
            " [ 0.81649658 -0.57735027 -0.94280904]\n",
            " [ 0.40824829 -0.57735027 -0.23570226]]\n",
            "____\n",
            "Para la matriz [[ 1 -1  4]\n",
            " [ 3  2 -1]\n",
            " [ 2  1 -1]] , los valores propios con la caja negra es Matrix([[1, 1], [2/5 + I/5, 2/5 - I/5]]) y con numpy es [[0.91287093+0.j         0.91287093-0.j        ]\n",
            " [0.36514837-0.18257419j 0.36514837+0.18257419j]]\n"
          ]
        }
      ]
    },
    {
      "cell_type": "markdown",
      "source": [
        "#**Diagonalización**\n",
        "Una matriz cuadrada $A$ es diagonalizable si y solo si cada autovalor $\\lambda$ de multiplicidad $m$ produce exactamente $m$ autovectores básicos; es decir, si y solo si la solución general del sistema $(A-\\lambda I) \\vec{x}=0$ tiene exactamente $m$ parámetros.\n",
        "\n",
        "Para diagonalizar una matriz $A$ se necesita encontrar una matriz invertible $P$ tal que $P^{-1}AP$ sea una matriz diagonal $D$.Esto significa que las columnas de $P$ son los autovectores de $A$ y los elementos de la diagonal de $D$ son los autovalores correspondientes de $A$.\n",
        "\n",
        "##**Actividad 2**\n",
        "\n",
        "Considere la ecuación cuadrática $x^2-4xy+3y^2=6$, esta ecuación cuadrática se corresponde a una hiperbola, la cual puede ser escrita en forma matricial como sigue:\n",
        "$A\\vec{v}\\cdot \\vec{v}=6$, donde $\\vec{v}=(x, y)$ y A es una matrix simetrica.\n",
        "\n",
        "\\begin{equation}\n",
        "A=\\begin{bmatrix}\n",
        "1 & -2 \\\\\n",
        "-2 & 3 \\\\\n",
        "\\end{bmatrix}\n",
        "\\end{equation}\n",
        "  \n",
        "1. Realice un grafico que represente la hyperbola.\n",
        "\n",
        "- Diagonalice A, para ello construya la matrix Q de autovectores ortoganale, tal que $D=Q^{T}AQ$, en este caso se dice que A es diagonalizable ortogonalmente, donde $A=QDQ^T$.\n",
        "- Aplique el resultado de la siguiente demostración para encontrar una nueva hyperbola en una  nueva base.\n",
        "\\begin{equation}\n",
        "QDQ^T \\vec{v} \\cdot \\vec{v} = d\n",
        "\\end{equation}\n",
        "\n",
        "\\begin{equation}\n",
        "Q(DQ^T\\vec{v}) \\cdot \\vec{v} = (DQ^T\\vec{v}) \\cdot (Q^T\\vec{v})=d\n",
        "\\end{equation}\n",
        "\n",
        "\\begin{equation}\n",
        "(DQ^T\\vec{v}) \\cdot (Q^T\\vec{v})=d\n",
        "\\end{equation}\n",
        "\n",
        "Sea $u=Q^T\\vec{v}$\n",
        "\n",
        "Luego :\n",
        "\\begin{equation}\n",
        "(D\\vec{u}) \\cdot \\vec{u}=d\n",
        "\\end{equation}\n",
        "\n",
        "donde $\\vec{u}=(x', y')$, tal que $D\\vec{u} \\cdot \\vec{u}=d$ es una nueva hyperbola"
      ],
      "metadata": {
        "id": "V7_nkM0FKNqX"
      }
    },
    {
      "cell_type": "code",
      "source": [
        "#Definiendo la matriz\n",
        "A=np.matrix([[1,-2],\n",
        "             [-2,3]])\n",
        "#Calculando los vectores y valores propios\n",
        "eigvals=np.linalg.eig(A)[0]\n",
        "eigvecs=np.linalg.eig(A)[1]"
      ],
      "metadata": {
        "id": "B3VzX16CiseJ"
      },
      "execution_count": 11,
      "outputs": []
    },
    {
      "cell_type": "markdown",
      "source": [
        "Como los vectores que presentan numpy ya están normalizados, solo basta con diagonalizar ortogonalmente. Pero hay que ganrantizar que la matriz $Q$ sea una matriz de rotación, es decir, $det(Q)=1$."
      ],
      "metadata": {
        "id": "D8IE9O2BnFEK"
      }
    },
    {
      "cell_type": "code",
      "source": [
        "#Diagonal\n",
        "D=np.matrix([[eigvals[0],0],\n",
        "             [0,eigvals[1]]])\n",
        "#Matriz ortogonal\n",
        "Q=eigvecs\n",
        "Q=np.transpose(Q)\n",
        "\n",
        "#Garantizar matriz de rotación\n",
        "determinante=np.linalg.det(Q)\n",
        "print(determinante) #Es matriz de rotación"
      ],
      "metadata": {
        "colab": {
          "base_uri": "https://localhost:8080/"
        },
        "id": "mVWNYMAWnAWg",
        "outputId": "0554ad6d-8193-412c-f1ee-ff36e0a19b94"
      },
      "execution_count": 12,
      "outputs": [
        {
          "output_type": "stream",
          "name": "stdout",
          "text": [
            "0.9999999999999998\n"
          ]
        }
      ]
    },
    {
      "cell_type": "markdown",
      "source": [
        "Considerando la base $B=(v_1,v_2)$ los vecotres propios normalizados. La ecuación $x^2-4xy+3y^2=6$, se tiene que con respecto a la base B la ecuación está dada por: ${\\lambda}_{1} {x'}^{2} +{\\lambda}_{2} {y'}^{2}=6$, con ${\\lambda}_{1}, {\\lambda}_{2}$ los valores propios asociados a cada vector propio de $B$, respectivamente"
      ],
      "metadata": {
        "id": "5PDFPpuLqr48"
      }
    },
    {
      "cell_type": "code",
      "source": [
        "#Despejando la ecuación en terminos de y\n",
        "def hiperbola(x):\n",
        "  h=np.sqrt((6-eigvals[0]*(x**2))/(eigvals[1]))\n",
        "  return h\n",
        "\n",
        "#Intervalo para graficarla\n",
        "x_inter=np.linspace(-6,6,300)\n",
        "#Las soluciones positiva y negativa\n",
        "y_p=hiperbola(x_inter)\n",
        "y_n=(-1)*hiperbola(x_inter)\n",
        "\n",
        "\n",
        "plt.figure()\n",
        "plt.title('Hipérbola')\n",
        "plt.plot(x_inter,y_p,'b', label=f\"${eigvals[0]}x'^2+{eigvals[1]}y'^2=6$\")\n",
        "plt.plot(x_inter,y_n,'b')\n",
        "plt.axhline(0,color='black',linewidth=1,linestyle='--', label=\"x'\")\n",
        "plt.axvline(0,color='black',linewidth=1, label=\"y'\")\n",
        "plt.legend(loc='upper right', bbox_to_anchor=(1.9, 1))\n",
        "plt.grid()"
      ],
      "metadata": {
        "colab": {
          "base_uri": "https://localhost:8080/",
          "height": 453
        },
        "id": "7VytEb31oZmv",
        "outputId": "5695b82f-da60-48e8-edb1-753b783f9ccf"
      },
      "execution_count": 13,
      "outputs": [
        {
          "output_type": "display_data",
          "data": {
            "text/plain": [
              "<Figure size 640x480 with 1 Axes>"
            ],
            "image/png": "[encoded data removed]"
          },
          "metadata": {}
        }
      ]
    }
  ]
}