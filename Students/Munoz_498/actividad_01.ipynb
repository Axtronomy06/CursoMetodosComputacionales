{
 "cells": [
  {
   "cell_type": "code",
   "execution_count": 1,
   "metadata": {
    "colab": {
     "base_uri": "https://localhost:8080/"
    },
    "id": "igPkHlRJJh56",
    "outputId": "b4e48ce6-074f-4609-9af6-f7a19878a811"
   },
   "outputs": [
    {
     "name": "stdout",
     "output_type": "stream",
     "text": [
      "El factorial de 10: 3628800\n",
      "El factorial de 1: 1\n",
      "El factorial de 0: 1\n",
      "Para el valor 3.5: solo es posible calcular el factorial para números enteros\n",
      "Para el valor -4: no es posible calcular factorial para valores negativos\n"
     ]
    }
   ],
   "source": [
    "#@title Factorial\n",
    "\n",
    "def factorial(n):\n",
    "  a=isinstance(n,int)\n",
    "  if a==True:\n",
    "    if n==0:\n",
    "      return 1\n",
    "    if n>0:\n",
    "      for i in range(1,n):\n",
    "        n=n*i\n",
    "      return n\n",
    "    if n<0:\n",
    "      return 'no es posible calcular factorial para valores negativos'\n",
    "  else:\n",
    "    return 'solo es posible calcular el factorial para números enteros'\n",
    "\n",
    "\n",
    "print(f'El factorial de 10: {factorial(10)}')\n",
    "print(f'El factorial de 1: {factorial(1)}')\n",
    "print(f'El factorial de 0: {factorial(0)}')\n",
    "print(f'Para el valor 3.5: {factorial(3.5)}')\n",
    "print(f'Para el valor -4: {factorial(-4)}')"
   ]
  },
  {
   "cell_type": "markdown",
   "metadata": {
    "id": "7o81r4oaJoyw"
   },
   "source": [
    "# Actividad 01\n",
    "\n",
    "\n",
    "1. Crea una función llamada `doble_factorial` que reciba un parámetro llamado `n`. La función debe devolver el doble factorial de `n`, que se define como el producto de todos los números naturales desde n hasta 1 que tienen el mismo paridad que n. Por ejemplo, si `n` es 5, la función debe devolver 15, que es el resultado de 5 x 3 x 1. Llama a la función `doble_factorial` con diferentes valores para el parámetro `n`, como 6, 7 o 8.\n",
    "\n",
    "2. Crea una función llamada `lucas` que reciba un parámetro llamado `n`. La función debe devolver el n-ésimo término de la sucesión de Lucas, que se define de forma similar a la sucesión de Fibonacci, pero con los dos primeros términos iguales a 2 y 1. Por ejemplo, si `n` es 3, la función debe devolver 4, que es el tercer término de la sucesión. Llama a la función `lucas` con diferentes valores para el parámetro `n`, como 9, 10 o 11.\n",
    "\n",
    "3. Crea una función llamada `binomial` que reciba dos parámetros llamados `n` y `k`. La función debe devolver el coeficiente binomial de `n` y `k`, que se define como el número de formas de elegir k elementos distintos de un conjunto de n elementos. Por ejemplo, si `n` es 5 y `k` es 3, la función debe devolver 10, ya que hay diez formas de elegir tres elementos distintos de un conjunto de cinco elementos. Llama a la función `binomial` con diferentes valores para los parámetros `n` y `k`, como 6 y 4, o 7 y 2.\n",
    "\n",
    "La entrega se realizará de dos formas:\n",
    "\n",
    "1. Creando un archivo de jupyter con extension actividad_01.ipynb.\n",
    "2. Creando un archivo llamado actividad_01.py,"
   ]
  },
  {
   "cell_type": "code",
   "execution_count": 2,
   "metadata": {
    "colab": {
     "base_uri": "https://localhost:8080/"
    },
    "id": "ALmQbGfcO4bR",
    "outputId": "a776cc96-e24a-47db-e315-36079f3ec65a"
   },
   "outputs": [
    {
     "name": "stdout",
     "output_type": "stream",
     "text": [
      "El doble factorial de 6 es: 48\n",
      "El doble factorial de 7 es: 105\n",
      "El doble factorial de 8 es: 384\n"
     ]
    }
   ],
   "source": [
    "#@title 1)\n",
    "def doble_factorial(n):\n",
    "  prueba=isinstance(n,int)\n",
    "  negativos='no es posible calcular factorial para valores negativos'\n",
    "  if prueba==True:\n",
    "    par=n%2\n",
    "    if par==0:\n",
    "      if n==0:\n",
    "        return 1\n",
    "      if n>0:\n",
    "        for i in range(2,n,2):\n",
    "          n=n*i\n",
    "      return n\n",
    "      if n<0:\n",
    "        return negativos\n",
    "    else:\n",
    "      if n>0:\n",
    "        for i in range(1,n,2):\n",
    "          n=n*i\n",
    "        return n\n",
    "      if n==0:\n",
    "        return 1\n",
    "      if n<0:\n",
    "        return negativos\n",
    "  else:\n",
    "    return 'solo es posible calcular el factorial para números enteros'\n",
    "\n",
    "print(f'El doble factorial de 6 es: {doble_factorial(6)}')\n",
    "print(f'El doble factorial de 7 es: {doble_factorial(7)}')\n",
    "print(f'El doble factorial de 8 es: {doble_factorial(8)}')"
   ]
  },
  {
   "cell_type": "code",
   "execution_count": 3,
   "metadata": {
    "colab": {
     "base_uri": "https://localhost:8080/"
    },
    "id": "p1mXPR21R3aq",
    "outputId": "06c56677-5d21-477c-ebd5-257986e8e885"
   },
   "outputs": [
    {
     "name": "stdout",
     "output_type": "stream",
     "text": [
      "El noveno término de la sucesión es : 76\n",
      "El décimo término de la sucesión es : 123\n",
      "El undécimo término de la sucesión es : 199\n"
     ]
    },
    {
     "data": {
      "text/plain": [
       "4"
      ]
     },
     "execution_count": 3,
     "metadata": {},
     "output_type": "execute_result"
    }
   ],
   "source": [
    "#@title 2)\n",
    "def lucas(n):\n",
    "  prueba=isinstance(n,int)\n",
    "  L_1=2\n",
    "  L_2=1\n",
    "  L=[L_1,L_2]\n",
    "\n",
    "  if prueba==True and prueba>0:\n",
    "    for x in range(0,n-1):\n",
    "      L_sum=L_1+L_2\n",
    "      L_1=L_2\n",
    "      L_2=L_sum\n",
    "      L.append(L_sum)\n",
    "    return L[n]\n",
    "\n",
    "print(f'El noveno término de la sucesión es : {lucas(9)}' )\n",
    "print(f'El décimo término de la sucesión es : {lucas(10)}' )\n",
    "print(f'El undécimo término de la sucesión es : {lucas(11)}')\n",
    "lucas(3)"
   ]
  },
  {
   "cell_type": "code",
   "execution_count": 4,
   "metadata": {
    "colab": {
     "base_uri": "https://localhost:8080/"
    },
    "id": "BQbEIIxqDq5P",
    "outputId": "5c1d79c9-ac53-4478-e4c8-00f242682d82"
   },
   "outputs": [
    {
     "name": "stdout",
     "output_type": "stream",
     "text": [
      "La combinación de 6 y 4: 15.0\n",
      "La combinación de 7 y 2: 21.0\n"
     ]
    }
   ],
   "source": [
    "#@title 3)\n",
    "def binomial(n,k):\n",
    "  prueba_n=isinstance(n,int)\n",
    "  prueba_k=isinstance(k,int)\n",
    "  if prueba_n==True and prueba_k==True and n>=k:\n",
    "    resta=n-k\n",
    "    bn=(factorial(n)/((factorial(k))*(factorial(resta))))\n",
    "    return bn\n",
    "  else:\n",
    "    return 'Nos es posible el cálculo con los valores dados'\n",
    "\n",
    "print(f'La combinación de 6 y 4: {binomial(6,4)}')\n",
    "print(f'La combinación de 7 y 2: {binomial(7,2)}')"
   ]
  },
  {
   "cell_type": "code",
   "execution_count": null,
   "metadata": {},
   "outputs": [],
   "source": []
  },
  {
   "cell_type": "code",
   "execution_count": null,
   "metadata": {},
   "outputs": [],
   "source": []
  }
 ],
 "metadata": {
  "colab": {
   "provenance": []
  },
  "kernelspec": {
   "display_name": "Python 3 (ipykernel)",
   "language": "python",
   "name": "python3"
  },
  "language_info": {
   "codemirror_mode": {
    "name": "ipython",
    "version": 3
   },
   "file_extension": ".py",
   "mimetype": "text/x-python",
   "name": "python",
   "nbconvert_exporter": "python",
   "pygments_lexer": "ipython3",
   "version": "3.10.9"
  }
 },
 "nbformat": 4,
 "nbformat_minor": 1
}
