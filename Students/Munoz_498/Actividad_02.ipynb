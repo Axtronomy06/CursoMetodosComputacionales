{
  "nbformat": 4,
  "nbformat_minor": 0,
  "metadata": {
    "colab": {
      "provenance": []
    },
    "kernelspec": {
      "name": "python3",
      "display_name": "Python 3"
    },
    "language_info": {
      "name": "python"
    }
  },
  "cells": [
    {
      "cell_type": "markdown",
      "source": [
        "## Campo eléctrico - Melanie Andrea Munoz Chavarria\n",
        "\n",
        "1. Elaborar un programa para calcular el campo eléctrico producido por un dipolo eléctrico, realizar una representación del campo para todo el dominio\n",
        "elegido para calcular el campo. Para encontrar el campo, se sugiere hacer lo siguiente:\n",
        "\n",
        "- a. Encontrar el campo en un punto producido por dos cargas q1 y q2\n",
        "- b. Emplee el comando  plt.quiver(x, y, Ex, Ey) para mostrar el campo producido por q1 y q2. Puedes intentarlo con el comando, plt.stremplot.\n",
        "- c. Generalice el problema para varios puntos en el espacio.\n",
        "\n",
        "Se recomienda emplear numpy array."
      ],
      "metadata": {
        "id": "mXC3-e-jYWS9"
      }
    },
    {
      "cell_type": "markdown",
      "source": [
        "Este programa calcula el campo eléctrico de un dipol, definido por:\n",
        "\\begin"
      ],
      "metadata": {
        "id": "7RDP5bHlpzta"
      }
    },
    {
      "cell_type": "code",
      "source": [
        "import numpy as np\n",
        "import matplotlib.pyplot as plt"
      ],
      "metadata": {
        "id": "QKxzQI-9cP3t"
      },
      "execution_count": null,
      "outputs": []
    },
    {
      "cell_type": "markdown",
      "source": [
        "###El campo eleéctrico en un punto, para dos cargas q1 y q2.\n",
        "\n",
        "A partir de la ecuación:\n",
        "\n",
        "$\\vec{E}= \\frac{1}{4 \\pi \\epsilon_{0}} \\frac{q}{r^2} \\hat{\\Delta{r}}$\n",
        "\n",
        "\n",
        "Haciendo la resta respectiva entre los vectores posición de las párticulas cargadas ( $\\vec{r_1}$ y $\\vec{r_2}$) y el punto donde se desea calcular el campo ($\\vec{r_p}$). Se hace una resta tal que:\n",
        "$\\vec{\\Delta{r}}= \\vec{r_p} - \\vec{r_i}$\n",
        "\n",
        "Luego normalizando este vector, se multiplica por la magnitud del campo, es decir $E=\\frac{1}{4 \\pi \\epsilon_{0}} \\frac{q}{r^2} $. Obtienndo así un vector co las componentes Ex y Ey del campo.  \n",
        "\n",
        "\n",
        "\n"
      ],
      "metadata": {
        "id": "4C_TiviVxf7f"
      }
    },
    {
      "cell_type": "code",
      "source": [
        "#Posición particula positiva\n",
        "x1=-1\n",
        "y1= 0\n",
        "\n",
        "#Posición punto\n",
        "xp=0\n",
        "yp=1\n",
        "\n",
        "#Posición carga negativo\n",
        "x2=1\n",
        "y2=0\n",
        "#Valores Cargas\n",
        "q1=(1*10**(9)) #Con este valor para cancelar la potencia negativa de la constante de Coulomb, note que la carga tiene unidades de  nC\n",
        "q2=(-q1)\n",
        "\n",
        "#Vector posición a la carga positiva\n",
        "r1=np.array([x1,y1])\n",
        "\n",
        "#Vector posición del punto\n",
        "rp=np.array([xp,yp])\n",
        "\n",
        "#Vector posición a la carga negativa\n",
        "r2=np.array([x2,y2])\n",
        "\n",
        "\n",
        "#Campo para la carga positiva\n",
        "k=9*10**(-9)\n",
        "delta_q1=rp-r1\n",
        "magnitud_delta_q1=np.linalg.norm(delta_q1) #Norma\n",
        "unitario_q1=(1/magnitud_delta_q1)*(delta_q1) #Unitario\n",
        "magnitud_campo_q1= k*(q1/(magnitud_delta_q1)**2) #Magnitud campo\n",
        "campo_q1=(magnitud_campo_q1)*(unitario_q1) #Componentes x, y del campo\n",
        "print(f'Campo carga positiva {campo_q1} [N/C]')\n",
        "\n",
        "#Campo para la carga negativa\n",
        "delta_q2=rp-r2\n",
        "magnitud_delta_q2=np.linalg.norm(delta_q2)\n",
        "unitario_q2=(1/magnitud_delta_q2)*(delta_q2)\n",
        "magnitud_campo_q2=k*(q2/(magnitud_delta_q2)**2)\n",
        "campo_q2=(magnitud_campo_q2)*(unitario_q2)\n",
        "print(f'Campo carga negativa {campo_q2} [N/C]')\n"
      ],
      "metadata": {
        "id": "JgBYn5LHhBEN",
        "colab": {
          "base_uri": "https://localhost:8080/"
        },
        "outputId": "119bead8-530e-4dec-a50b-7744d0357f77"
      },
      "execution_count": null,
      "outputs": [
        {
          "output_type": "stream",
          "name": "stdout",
          "text": [
            "Campo carga positiva [3.18198052 3.18198052] [N/C]\n",
            "Campo carga negativa [ 3.18198052 -3.18198052] [N/C]\n"
          ]
        }
      ]
    },
    {
      "cell_type": "markdown",
      "source": [
        "###Función campo eléctrico\n",
        "\n",
        "Tomando el mismo desarollo para el campo eléctrico generado por dos cargas en un punto fijo. Se toma la magtitud del campo, multiplicandola por el vector unitario, con una función con paramétros para la carga, la posición del punto (xp,yp) y la posición de la particula (xi,yi)"
      ],
      "metadata": {
        "id": "hkGBHdyA2SWk"
      }
    },
    {
      "cell_type": "code",
      "source": [
        "def campo_electrico(carga,x_punto,y_punto,x_carga,y_carga):\n",
        "  r1=np.array([x_carga,y_carga])\n",
        "  rp=np.array([x_punto,y_punto])\n",
        "  delta_carga=rp-r1\n",
        "  magnitud_delta_carga=np.linalg.norm(delta_carga)\n",
        "  unitario_carga=(1/magnitud_delta_carga)*(delta_carga)\n",
        "  magnitud_campo_carga= k*(carga/(magnitud_delta_carga)**2)\n",
        "  campo_carga=(magnitud_campo_carga)*(unitario_carga)\n",
        "  return campo_carga\n",
        "\n",
        "campo_electrico(4,3,7,-1,0)"
      ],
      "metadata": {
        "colab": {
          "base_uri": "https://localhost:8080/"
        },
        "id": "6ws3jKFOiCJ6",
        "outputId": "a2d71934-7580-4da3-ae58-f8112364a850"
      },
      "execution_count": null,
      "outputs": [
        {
          "output_type": "execute_result",
          "data": {
            "text/plain": [
              "array([2.74784643e-10, 4.80873125e-10])"
            ]
          },
          "metadata": {},
          "execution_count": 4
        }
      ]
    },
    {
      "cell_type": "markdown",
      "source": [
        "###Campo producido\n",
        "Para el primer caso, tomando tres puntos, se hace un uso sencillo de plt.quiver()\n",
        "Para el caso, generalizado, con la ayuda de una iteración primero sobre \"xp\" y luego sobre \"yp\" (las coordenadas del punto donde se desea calcular el campo), Con la ayuda de np.arange(), dandole un valor inicial y final, en intervalos de 1. Se uso nuevamente la función plt.quiver()\n",
        "\n",
        "En ambos casos, lo que se hace para obtener el campo es usar la función campo_electrico y dándole ciertos valores, para luego guardarlos en variables E1 (campo negativo) y E2 (campo positivo) y después E=E1+E2"
      ],
      "metadata": {
        "id": "2LOAln_1SoD4"
      }
    },
    {
      "cell_type": "code",
      "source": [
        "#Campo del dipolo\n",
        "E1= campo_electrico(q1,xp,yp,x1,y1) #Campo carga negativa\n",
        "print(E1)\n",
        "E2=campo_electrico(q2,xp,yp,x2,y2) #Campo carga positiva\n",
        "print(E2)\n",
        "E=E1+E2\n",
        "print(E)\n",
        "#Figura para 2 cargas y una carga de prueba\n",
        "plt.figure(figsize=(4,4))\n",
        "plt.plot(x1,y1,'ro')\n",
        "plt.plot(x2,y2,'bo')\n",
        "plt.plot(xp,yp,'go')\n",
        "plt.quiver(xp,yp,E[0],E[1])\n",
        "plt.grid()\n",
        "plt.title('Campo eléctrico en punto [N\\C]',fontsize=16)\n",
        "plt.xlabel('x',fontsize=16)\n",
        "plt.ylabel('y',fontsize=16)\n",
        "\n"
      ],
      "metadata": {
        "colab": {
          "base_uri": "https://localhost:8080/",
          "height": 489
        },
        "id": "tUqiv3Zkun1K",
        "outputId": "c5380deb-f764-4f74-b74d-ad56a43caa13"
      },
      "execution_count": null,
      "outputs": [
        {
          "output_type": "stream",
          "name": "stdout",
          "text": [
            "[3.18198052 3.18198052]\n",
            "[ 3.18198052 -3.18198052]\n",
            "[6.36396103 0.        ]\n"
          ]
        },
        {
          "output_type": "execute_result",
          "data": {
            "text/plain": [
              "Text(0, 0.5, 'y')"
            ]
          },
          "metadata": {},
          "execution_count": 5
        },
        {
          "output_type": "display_data",
          "data": {
            "text/plain": [
              "<Figure size 400x400 with 1 Axes>"
            ],
            "image/png": "[encoded data removed]"
          },
          "metadata": {}
        }
      ]
    },
    {
      "cell_type": "code",
      "source": [
        "#Intervalos y salto, para el valor rp\n",
        "componente_x=np.arange(-4,4,1)\n",
        "componente_y=np.arange(-4,4,1)\n",
        "\n",
        "#Iteración para recorrer los intervalos\n",
        "for x in componente_x:\n",
        "  for y in componente_y:\n",
        "    E1= campo_electrico(q1,x,y,x1,y1) #Campo carga negativa\n",
        "    E2=campo_electrico(q2,x,y,x2,y2) #Campo carga positiva\n",
        "    E=E1+E2\n",
        "\n",
        "    plt.quiver(x,y,E[0],E[1])\n",
        "#Figura\n",
        "plt.plot(x1,y1,'ro',markersize=10)\n",
        "plt.plot(x2,y2,'bo', markersize= 10)\n",
        "plt.title('Campo eléctrico de un dipolo [N\\C]',fontsize=10)\n",
        "plt.xlabel('x',fontsize=10)\n",
        "plt.ylabel('y',fontsize=10)\n",
        "plt.xlim(-4,4)\n",
        "plt.ylim(-4,4)\n",
        "plt.show()\n",
        "\n"
      ],
      "metadata": {
        "id": "c7ALT_Eq-ODe",
        "colab": {
          "base_uri": "https://localhost:8080/",
          "height": 643
        },
        "outputId": "95da7e2b-9a81-4506-b766-b43b7904fac5"
      },
      "execution_count": null,
      "outputs": [
        {
          "output_type": "stream",
          "name": "stderr",
          "text": [
            "<ipython-input-4-0a2e6612d283>:6: RuntimeWarning: divide by zero encountered in double_scalars\n",
            "  unitario_carga=(1/magnitud_delta_carga)*(delta_carga)\n",
            "<ipython-input-4-0a2e6612d283>:6: RuntimeWarning: invalid value encountered in multiply\n",
            "  unitario_carga=(1/magnitud_delta_carga)*(delta_carga)\n",
            "<ipython-input-4-0a2e6612d283>:7: RuntimeWarning: divide by zero encountered in double_scalars\n",
            "  magnitud_campo_carga= k*(carga/(magnitud_delta_carga)**2)\n",
            "/usr/local/lib/python3.10/dist-packages/matplotlib/quiver.py:628: RuntimeWarning: Mean of empty slice.\n",
            "  amean = a[~self.Umask].mean()\n",
            "/usr/local/lib/python3.10/dist-packages/numpy/core/_methods.py:190: RuntimeWarning: invalid value encountered in double_scalars\n",
            "  ret = ret.dtype.type(ret / rcount)\n"
          ]
        },
        {
          "output_type": "display_data",
          "data": {
            "text/plain": [
              "<Figure size 640x480 with 1 Axes>"
            ],
            "image/png": "[encoded data removed]"
          },
          "metadata": {}
        }
      ]
    },
    {
      "cell_type": "markdown",
      "source": [
        "###Generalización\n"
      ],
      "metadata": {
        "id": "8wxF1qcnFkHI"
      }
    },
    {
      "cell_type": "code",
      "source": [
        "1#Datos\n",
        "q1=int(input('Ingrese el valor de la carga positiva en Coulombs'))\n",
        "q2=-q1\n",
        "x1=int(input('Ingrese la posición en x de la partícula positiva'))\n",
        "y1=int(input('Ingrese la posición en y de la partícula positiva'))\n",
        "x2=int(input('Ingrese la posición en x de la partícula negativa'))\n",
        "y2=int(input('Ingrese la posición en y de la partícula negativa'))\n",
        "inicio_x=int(input('Ingrese el valor límite inicial de x'))\n",
        "final_x=int(input('Ingrese el valor de límite final de x'))\n",
        "salto_x=int(input('ingrese el valor del salto para x'))\n",
        "inicio_y=int(input('Ingrese el valor límite inicial de y'))\n",
        "final_y=int(input('Ingrese el valor de límite final de y'))\n",
        "salto_y=int(input('ingrese el valor del salto para y'))\n",
        "\n",
        "componente_x=np.arange(inicio_x,final_x,salto_x)\n",
        "componente_y=np.arange(inicio_y,final_y,salto_y)\n",
        "for x in componente_x:\n",
        "  for y in componente_y:\n",
        "    E1= campo_electrico(q1,x,y,x1,y1) #Campo carga negativa\n",
        "    E2=campo_electrico(q2,x,y,x2,y2) #Campo carga positiva\n",
        "    E=E1+E2\n",
        "    print((x,y),E[0],E[1])\n",
        "\n"
      ],
      "metadata": {
        "colab": {
          "base_uri": "https://localhost:8080/"
        },
        "id": "Kn3_FZn3FtE5",
        "outputId": "b4c71c07-4890-48f9-84b4-172260a48658"
      },
      "execution_count": null,
      "outputs": [
        {
          "output_type": "stream",
          "name": "stdout",
          "text": [
            "Ingrese el valor de la carga positiva en Coulombs1\n",
            "Ingrese la posición en x de la partícula positiva-1\n",
            "Ingrese la posición en y de la partícula positiva0\n",
            "Ingrese la posición en x de la partícula negativa1\n",
            "Ingrese la posición en y de la partícula negativa0\n",
            "Ingrese el valor límite inicial de x-4\n",
            "Ingrese el valor de límite final de x4\n",
            "ingrese el valor del salto para x1\n",
            "Ingrese el valor límite inicial de y-4\n",
            "Ingrese el valor de límite final de y4\n",
            "ingrese el valor del salto para y1\n",
            "(-4, -4) -4.458977353689581e-11 -1.5087181882951664e-10\n",
            "(-4, -3) -1.2656996908112983e-10 -2.1736333768598744e-10\n",
            "(-4, -2) -2.8788688060637104e-10 -2.687640373510734e-10\n",
            "(-4, -1) -5.143831958909129e-10 -2.1671863494424425e-10\n",
            "(-4, 0) -6.400000000000001e-10 0.0\n",
            "(-4, 1) -5.143831958909129e-10 2.1671863494424425e-10\n",
            "(-4, 2) -2.8788688060637104e-10 2.687640373510734e-10\n",
            "(-4, 3) -1.2656996908112983e-10 2.1736333768598744e-10\n",
            "(-3, -4) -2.3723357662645744e-12 -2.0361845374124562e-10\n",
            "(-3, -3) -9.602321277131254e-11 -3.6003481915696876e-10\n",
            "(-3, -2) -3.930028928849038e-10 -5.942490108598849e-10\n",
            "(-3, -1) -1.0963640907817315e-09 -6.76583258645395e-10\n",
            "(-3, 0) -1.6875000000000002e-09 0.0\n",
            "(-3, 1) -1.0963640907817315e-09 6.76583258645395e-10\n",
            "(-3, 2) -3.930028928849038e-10 5.942490108598849e-10\n",
            "(-3, 3) -9.602321277131254e-11 3.6003481915696876e-10\n",
            "(-2, -4) 8.759878674547083e-11 -2.2560485301811686e-10\n",
            "(-2, -3) 6.894840117811975e-11 -5.002615776521884e-10\n",
            "(-2, -2) -2.2894965274295533e-10 -1.2259457310285357e-09\n",
            "(-2, -1) -2.3281655470940013e-09 -2.8973755259243094e-09\n",
            "(-2, 0) -8e-09 0.0\n",
            "(-2, 1) -2.3281655470940013e-09 2.8973755259243094e-09\n",
            "(-2, 2) -2.2894965274295533e-10 1.2259457310285357e-09\n",
            "(-2, 3) 6.894840117811975e-11 5.002615776521884e-10\n",
            "(-1, -4) 2.0124611797498104e-10 -1.60007764050038e-10\n",
            "(-1, -3) 3.840232127713126e-10 -4.239651808430312e-10\n",
            "(-1, -2) 7.954951288348659e-10 -1.4545048711651344e-09\n",
            "(-1, -1) 1.6099689437998483e-09 -8.195015528100076e-09\n",
            "(-1, 0) nan nan\n",
            "(-1, 1) 1.6099689437998483e-09 8.195015528100076e-09\n",
            "(-1, 2) 7.954951288348659e-10 1.4545048711651344e-09\n",
            "(-1, 3) 3.840232127713126e-10 4.239651808430312e-10\n",
            "(0, -4) 2.5680242650905845e-10 0.0\n",
            "(0, -3) 5.692099788303083e-10 0.0\n",
            "(0, -2) 1.6099689437998483e-09 0.0\n",
            "(0, -1) 6.363961030678927e-09 0.0\n",
            "(0, 0) 1.8000000000000002e-08 0.0\n",
            "(0, 1) 6.363961030678927e-09 0.0\n",
            "(0, 2) 1.6099689437998483e-09 0.0\n",
            "(0, 3) 5.692099788303083e-10 0.0\n",
            "(1, -4) 2.0124611797498104e-10 1.60007764050038e-10\n",
            "(1, -3) 3.840232127713126e-10 4.239651808430312e-10\n",
            "(1, -2) 7.954951288348659e-10 1.4545048711651344e-09\n",
            "(1, -1) 1.6099689437998483e-09 8.195015528100076e-09\n",
            "(1, 0) nan nan\n",
            "(1, 1) 1.6099689437998483e-09 -8.195015528100076e-09\n",
            "(1, 2) 7.954951288348659e-10 -1.4545048711651344e-09\n",
            "(1, 3) 3.840232127713126e-10 -4.239651808430312e-10\n",
            "(2, -4) 8.759878674547083e-11 2.2560485301811686e-10\n",
            "(2, -3) 6.894840117811975e-11 5.002615776521884e-10\n",
            "(2, -2) -2.2894965274295533e-10 1.2259457310285357e-09\n",
            "(2, -1) -2.3281655470940013e-09 2.8973755259243094e-09\n",
            "(2, 0) -8e-09 0.0\n",
            "(2, 1) -2.3281655470940013e-09 -2.8973755259243094e-09\n",
            "(2, 2) -2.2894965274295533e-10 -1.2259457310285357e-09\n",
            "(2, 3) 6.894840117811975e-11 -5.002615776521884e-10\n",
            "(3, -4) -2.3723357662645744e-12 2.0361845374124562e-10\n",
            "(3, -3) -9.602321277131254e-11 3.6003481915696876e-10\n",
            "(3, -2) -3.930028928849038e-10 5.942490108598849e-10\n",
            "(3, -1) -1.0963640907817315e-09 6.76583258645395e-10\n",
            "(3, 0) -1.6875000000000002e-09 0.0\n",
            "(3, 1) -1.0963640907817315e-09 -6.76583258645395e-10\n",
            "(3, 2) -3.930028928849038e-10 -5.942490108598849e-10\n",
            "(3, 3) -9.602321277131254e-11 -3.6003481915696876e-10\n"
          ]
        },
        {
          "output_type": "stream",
          "name": "stderr",
          "text": [
            "<ipython-input-4-0a2e6612d283>:6: RuntimeWarning: divide by zero encountered in double_scalars\n",
            "  unitario_carga=(1/magnitud_delta_carga)*(delta_carga)\n",
            "<ipython-input-4-0a2e6612d283>:6: RuntimeWarning: invalid value encountered in multiply\n",
            "  unitario_carga=(1/magnitud_delta_carga)*(delta_carga)\n",
            "<ipython-input-4-0a2e6612d283>:7: RuntimeWarning: divide by zero encountered in double_scalars\n",
            "  magnitud_campo_carga= k*(carga/(magnitud_delta_carga)**2)\n"
          ]
        }
      ]
    }
  ]
}