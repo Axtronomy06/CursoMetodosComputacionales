{
  "nbformat": 4,
  "nbformat_minor": 0,
  "metadata": {
    "colab": {
      "provenance": []
    },
    "kernelspec": {
      "name": "python3",
      "display_name": "Python 3"
    },
    "language_info": {
      "name": "python"
    }
  },
  "cells": [
    {
      "cell_type": "markdown",
      "source": [
        "## Cálculo para doble factorial."
      ],
      "metadata": {
        "id": "M6BqcxOUZui6"
      }
    },
    {
      "cell_type": "code",
      "execution_count": null,
      "metadata": {
        "colab": {
          "base_uri": "https://localhost:8080/"
        },
        "id": "QhVixmNrL7UQ",
        "outputId": "88f7ed3e-5e77-4fb9-c811-f7d24564df1f"
      },
      "outputs": [
        {
          "output_type": "stream",
          "name": "stdout",
          "text": [
            "Ingrese un número por favor para calcular el doble factorial. 9\n",
            "El doble factorial de 9 es : 945\n"
          ]
        }
      ],
      "source": [
        "valor = 1\n",
        "x = int(input(\"Ingrese un número por favor para calcular el doble factorial. \" ))\n",
        "def doble_fact(x):\n",
        "  global valor\n",
        "  if x < 0:\n",
        "    print(\"Ingrese por favor un número positivo, intentelo de nuevo\")\n",
        "  else:\n",
        "    for i in range(0,x,2):\n",
        "      valor = valor*(x-i)\n",
        "    print(f\"El doble factorial de {x} es : {valor}\")\n",
        "doble_fact(x)\n",
        "\n"
      ]
    },
    {
      "cell_type": "markdown",
      "source": [
        "## Función Lucas."
      ],
      "metadata": {
        "id": "7A6feL_oa4dB"
      }
    },
    {
      "cell_type": "code",
      "source": [
        "posicion =int(input(\"Ingrese el numero de la posición de la sucesión de lucas que desee conocer. \" ))\n",
        "def lucas(posicion):\n",
        "  global lista\n",
        "  lista = [2,1]\n",
        "  for i in range(posicion):\n",
        "    ultimo = lista[-1]\n",
        "    penultimo = lista[-2]\n",
        "    nuevo_elemento = ultimo + penultimo\n",
        "    lista += [nuevo_elemento]\n",
        "  elemento_posicion = lista[posicion-1]\n",
        "  print(f\"El elemento de la posición {posicion} sería : {elemento_posicion}\")\n",
        "\n",
        "\n",
        "lucas(posicion)"
      ],
      "metadata": {
        "colab": {
          "base_uri": "https://localhost:8080/"
        },
        "id": "JwoikHQMaZ-C",
        "outputId": "a186c7d4-a6f7-4a38-d143-f731f3924668"
      },
      "execution_count": null,
      "outputs": [
        {
          "output_type": "stream",
          "name": "stdout",
          "text": [
            "Ingrese el numero de la posición de la sucesión de lucas que desee conocer. 6\n",
            "El elemento de la posición 6 sería : 11\n"
          ]
        }
      ]
    },
    {
      "cell_type": "markdown",
      "source": [
        "## Combinatoria."
      ],
      "metadata": {
        "id": "W2Dp6gvbu4bv"
      }
    },
    {
      "cell_type": "code",
      "source": [
        "\n",
        "from math import factorial\n",
        "n = float(input(\"Ingrese la cantidad de elementos n = \"))\n",
        "k = float(input(\"Ingrese como desea agrupar los datos k = \"))\n",
        "def binomial(n,k):\n",
        "  if (k>0 and n>0) and (k > n) :\n",
        "    print(\"El coeficiente binomial sería cero\")\n",
        "  elif (k > 0 and n > 0) and ( k - int(k) != 0 or n - int(n) != 0):\n",
        "    print(\"Los numeros ingresados deben ser naturales, vuelvalo a intentar\")\n",
        "  elif (k < 0 or n < 0 ):\n",
        "    print(\"Los numeros ingresados deben ser naturales, vuelvalo a intentar\")\n",
        "  elif k > n :\n",
        "    print(\"El coeficiente binomial sería cero\")\n",
        "  elif (k > 0 and n > 0) and ( k - int(k) == 0 and n - int(n) == 0):\n",
        "    combinaciones = (factorial(int(n))/(factorial(int(k))*factorial(int(n)-int(k))))\n",
        "    print(f\"El coeficiente binomial ({int(n)},{int(k)}) sería : {int(combinaciones)}\")\n",
        "\n",
        "binomial(n,k)\n"
      ],
      "metadata": {
        "colab": {
          "base_uri": "https://localhost:8080/"
        },
        "id": "GEZrYQHFu33q",
        "outputId": "a268c082-a01e-4660-e15b-a0b87e3b02d2"
      },
      "execution_count": null,
      "outputs": [
        {
          "output_type": "stream",
          "name": "stdout",
          "text": [
            "Ingrese la cantidad de elementos n = 70\n",
            "Ingrese como desea agrupar los datos k = 9\n",
            "El coeficiente binomial (70,9) sería : 65033528560\n"
          ]
        }
      ]
    }
  ]
}