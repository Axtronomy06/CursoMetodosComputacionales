{
  "nbformat": 4,
  "nbformat_minor": 0,
  "metadata": {
    "colab": {
      "provenance": []
    },
    "kernelspec": {
      "name": "python3",
      "display_name": "Python 3"
    },
    "language_info": {
      "name": "python"
    }
  },
  "cells": [
    {
      "cell_type": "code",
      "execution_count": 17,
      "metadata": {
        "colab": {
          "base_uri": "https://localhost:8080/"
        },
        "id": "-L5Bip8dUQXl",
        "outputId": "e71487a5-84dd-4bec-d5c9-c007c95225b2"
      },
      "outputs": [
        {
          "output_type": "stream",
          "name": "stdout",
          "text": [
            "1.8954942785175828\n"
          ]
        },
        {
          "output_type": "execute_result",
          "data": {
            "text/plain": [
              "1.8954942785175828"
            ]
          },
          "metadata": {},
          "execution_count": 17
        }
      ],
      "source": [
        "import scipy.optimize as scp\n",
        "import numpy as np\n",
        "## esta función únicamente funciona para un único cero, y cuando el parametro xo está cerca.\n",
        "def newton(xo,f,fp,epsilon):\n",
        "  xn1 = list()\n",
        "  xn1.append(xo)\n",
        "  while abs(f(xn1[-1])) > epsilon:\n",
        "    xn = xn1[-1] - (  f(xn1[-1]) / fp(xn1[-1]) )\n",
        "    xn1.append(xn)\n",
        "  return xn1[-1]\n",
        "\n",
        "\n",
        "f = lambda x : (1 / 3) * np.exp(x) - x + np.log(3) - 1\n",
        "fp = lambda x : (1 / 3) * np.exp(x) - 1\n",
        "xo = 1\n",
        "epsilon = 1E-12\n",
        "\n",
        "f2 = lambda x : x ** 2 - 4 * x * np.sin(x) + ( 2 * np.sin(x)) ** 2\n",
        "fp2 = lambda x : -2 * (x - 2 * np.sin(x)) * (2 * np.cos(x) - 1 )\n",
        "x1 = 2.2\n",
        "epsilon = 1E-15\n",
        "\n",
        "valor = newton(xo,f,fp,epsilon)\n",
        "#print(valor)\n",
        "#scp.newton(f,xo,fp)\n",
        "\n",
        "\n",
        "\n",
        "valor2 = newton(x1,f2,fp2,epsilon)\n",
        "print(valor2)\n",
        "scp.newton(f2,x1,fp2)\n",
        "\n",
        "\n"
      ]
    },
    {
      "cell_type": "code",
      "source": [],
      "metadata": {
        "colab": {
          "base_uri": "https://localhost:8080/"
        },
        "id": "cBoaAMGhVV6c",
        "outputId": "0a7000dc-8305-473d-9e5b-2c245fe4c024"
      },
      "execution_count": 12,
      "outputs": [
        {
          "output_type": "stream",
          "name": "stdout",
          "text": [
            "-7.226022961767472e-07\n"
          ]
        }
      ]
    },
    {
      "cell_type": "code",
      "source": [],
      "metadata": {
        "id": "Ts6ZrdDRXrfW"
      },
      "execution_count": null,
      "outputs": []
    }
  ]
}