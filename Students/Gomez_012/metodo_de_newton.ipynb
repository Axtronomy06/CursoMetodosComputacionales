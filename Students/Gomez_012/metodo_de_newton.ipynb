{
 "cells": [
  {
   "cell_type": "code",
   "execution_count": 17,
   "metadata": {
    "colab": {
     "base_uri": "https://localhost:8080/"
    },
    "id": "-L5Bip8dUQXl",
    "outputId": "e71487a5-84dd-4bec-d5c9-c007c95225b2"
   },
   "outputs": [
    {
     "name": "stdout",
     "output_type": "stream",
     "text": [
      "1.8954942785175828\n"
     ]
    },
    {
     "data": {
      "text/plain": [
       "1.8954942785175828"
      ]
     },
     "execution_count": 17,
     "metadata": {},
     "output_type": "execute_result"
    }
   ],
   "source": [
    "import scipy.optimize as scp\n",
    "import numpy as np\n",
    "## esta función únicamente funciona para un único cero, y cuando el parametro xo está cerca.\n",
    "def newton(xo,f,fp,epsilon):\n",
    "  xn1 = list()\n",
    "  xn1.append(xo)\n",
    "  while abs(f(xn1[-1])) > epsilon:\n",
    "    xn = xn1[-1] - (  f(xn1[-1]) / fp(xn1[-1]) )\n",
    "    xn1.append(xn)\n",
    "  return xn1[-1]\n",
    "\n",
    "\n",
    "f = lambda x : (1 / 3) * np.exp(x) - x + np.log(3) - 1\n",
    "fp = lambda x : (1 / 3) * np.exp(x) - 1\n",
    "xo = 1\n",
    "epsilon = 1E-12\n",
    "\n",
    "f2 = lambda x : x ** 2 - 4 * x * np.sin(x) + ( 2 * np.sin(x)) ** 2\n",
    "fp2 = lambda x : -2 * (x - 2 * np.sin(x)) * (2 * np.cos(x) - 1 )\n",
    "x1 = 2.2\n",
    "epsilon = 1E-15\n",
    "\n",
    "valor = newton(xo,f,fp,epsilon)\n",
    "#print(valor)\n",
    "#scp.newton(f,xo,fp)\n",
    "\n",
    "\n",
    "\n",
    "valor2 = newton(x1,f2,fp2,epsilon)\n",
    "print(valor2)\n",
    "scp.newton(f2,x1,fp2)\n",
    "\n",
    "\n"
   ]
  },
  {
   "cell_type": "code",
   "execution_count": 12,
   "metadata": {
    "colab": {
     "base_uri": "https://localhost:8080/"
    },
    "id": "cBoaAMGhVV6c",
    "outputId": "0a7000dc-8305-473d-9e5b-2c245fe4c024"
   },
   "outputs": [
    {
     "name": "stdout",
     "output_type": "stream",
     "text": [
      "-7.226022961767472e-07\n"
     ]
    }
   ],
   "source": []
  },
  {
   "cell_type": "code",
   "execution_count": null,
   "metadata": {
    "id": "Ts6ZrdDRXrfW"
   },
   "outputs": [],
   "source": []
  }
 ],
 "metadata": {
  "colab": {
   "provenance": []
  },
  "kernelspec": {
   "display_name": "Python 3 (ipykernel)",
   "language": "python",
   "name": "python3"
  },
  "language_info": {
   "codemirror_mode": {
    "name": "ipython",
    "version": 3
   },
   "file_extension": ".py",
   "mimetype": "text/x-python",
   "name": "python",
   "nbconvert_exporter": "python",
   "pygments_lexer": "ipython3",
   "version": "3.10.9"
  }
 },
 "nbformat": 4,
 "nbformat_minor": 1
}
