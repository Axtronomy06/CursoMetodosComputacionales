{
 "cells": [
  {
   "cell_type": "markdown",
   "metadata": {
    "id": "FpZyycd9Ov0P"
   },
   "source": [
    "1. Calcular el polinomio caracteristico, los autovalores y autvectores propios de la siguiente matrices, comprobar con la solucion analitica:\n",
    "\n",
    "a.\n",
    "    \\begin{bmatrix}\n",
    "    1 & -1 & 4 \\\\\n",
    "    3 & 2 & -1 \\\\\n",
    "    2 & 1 & -1\\\n",
    "    \\end{bmatrix}\n",
    "\n",
    "\n",
    "\n",
    "b. Matriz con autovalores imaginarios\n",
    "    \\begin{bmatrix}\n",
    "    3 & -5 \\\\\n",
    "    1 & -1 \\\\\n",
    "    \\end{bmatrix}\n"
   ]
  },
  {
   "cell_type": "code",
   "execution_count": 4,
   "metadata": {
    "id": "Xwds4v90FeML"
   },
   "outputs": [],
   "source": [
    "import numpy as np\n",
    "import sympy as sp\n",
    "import scipy as sc"
   ]
  },
  {
   "cell_type": "code",
   "execution_count": 5,
   "metadata": {
    "colab": {
     "base_uri": "https://localhost:8080/"
    },
    "id": "qS4nYaqspNvR",
    "outputId": "a069f939-2da3-4cba-d358-7ef840b3b97a"
   },
   "outputs": [
    {
     "data": {
      "text/plain": [
       "array([[ 0.40824829,  0.57735027,  0.23570226],\n",
       "       [ 0.81649658, -0.57735027, -0.94280904],\n",
       "       [ 0.40824829, -0.57735027, -0.23570226]])"
      ]
     },
     "execution_count": 5,
     "metadata": {},
     "output_type": "execute_result"
    }
   ],
   "source": [
    "## variable simbolica.\n",
    "\n",
    "x = sp.Symbol(\"x\")\n",
    "\n",
    "M = np.array([\n",
    "    [1,-1,4],\n",
    "    [3,2,-1],\n",
    "    [2,1,-1]\n",
    "])\n",
    "\n",
    "e,v = np.linalg.eig(M)\n",
    "\n",
    "M2 = np.array([\n",
    "\n",
    "    [3,-5],\n",
    "    [1,-1]\n",
    "])\n",
    "\n",
    "v"
   ]
  },
  {
   "cell_type": "code",
   "execution_count": 6,
   "metadata": {
    "id": "xIMdHsv6rdMR"
   },
   "outputs": [],
   "source": [
    "## esta funcion me calcula el det para una matriz 2x2\n",
    "def det2x2(M):\n",
    "  val = M[0][0]  * M[1][1]\n",
    "  val2 = M[1][0] * M[0][1]\n",
    "  det = val - val2\n",
    "  return det\n",
    "\n",
    "## esta funcion me calcula el det para una matriz 3x3\n",
    "\n",
    "def det3x3(M):\n",
    "  T1 = M[0,0]*det2x2(M[1:3:1,1:3:1])\n",
    "  T2 = M[0,1]*det2x2(M[1:3:1,0:3:2])\n",
    "  T3 = M[0,2]*det2x2(M[1:3:1,0:2:1])\n",
    "  det = T1 - T2 + T3\n",
    "  return det\n",
    "\n",
    "## esta funcion me calcula polinomio caracteristico de una matriz 3x3\n",
    "\n",
    "def poly_caract(M):\n",
    "  I = np.identity(np.shape(M)[0])\n",
    "  newM = M-x*I\n",
    "  poly = det3x3(newM)\n",
    "  return poly\n",
    "\n",
    "## esta funcion me calcula los autovalores de una matriz 3x3\n",
    "\n",
    "def autovalores(M):\n",
    "  poly = poly_caract(M)\n",
    "  sol = sp.solve(poly,x)\n",
    "  return sol\n",
    "\n",
    "\n",
    "def poly_caract2x2(M):\n",
    "  x = sp.Symbol(\"x\")\n",
    "  I = np.identity(np.shape(M)[0])\n",
    "  newM = M - x*I\n",
    "  poly = det2x2(newM)\n",
    "  return poly\n",
    "\n",
    "def autovalores2x2(M):\n",
    "  poly = poly_caract2x2(M)\n",
    "  sol = sp.solve(poly,x)\n",
    "  return sol"
   ]
  },
  {
   "cell_type": "code",
   "execution_count": 68,
   "metadata": {
    "id": "coF-8fZbrLt5"
   },
   "outputs": [],
   "source": [
    "## aquí se pondrá todo lo relacionado con el gauss jordan requerido y generalizado para matrices homogeneas.\n",
    "\n",
    "\n",
    "def sum_filas_escalar(M,R1,R2,a,b):\n",
    "  R1 = R1-1\n",
    "  R2 = R2-1\n",
    "  B = np.copy(M)\n",
    "  B[R1] = a*M[R1]+b*M[R2]\n",
    "  return B\n",
    "\n",
    "def mul_escalar(M,R1,a):\n",
    "  R1 = R1-1\n",
    "  B = np.copy(M)\n",
    "  B[R1] = a*M[R1]\n",
    "  return B\n",
    "def intercambio(M,R1,R2):\n",
    "  R1 = R1-1\n",
    "  R2 = R2-1\n",
    "  B = np.copy(M)\n",
    "  B[R1] = M[R2]\n",
    "  B[R2] = M[R1]\n",
    "  return B\n",
    "\n",
    "def gauss_jordan(M):\n",
    "  x = sp.Symbol(\"x\")\n",
    "  B = np.copy(M)\n",
    "  if M[0][0] !=0:\n",
    "    if M[1][0] !=0:\n",
    "      resul = sp.solve(x*M[0][0]-M[1][0],x)\n",
    "      resul = float(resul[0])\n",
    "      M = sum_filas_escalar(M,2,1,1,-resul)\n",
    "    if M[2][0] !=0:\n",
    "      resul = sp.solve(x*M[0][0]-M[2][0],x)\n",
    "      resul = float(resul[0])\n",
    "      M = sum_filas_escalar(M,3,1,1,-resul)\n",
    "  if M[0][0] == 0 and M[1][0] !=0:\n",
    "    M = intercambio(M,1,2)\n",
    "    if M[2][0] !=0:\n",
    "      resul = sp.solve(x*M[0][0]-M[2][0],x)\n",
    "      resul = float(resul[0])\n",
    "      M = sum_filas_escalar(M,3,1,1,-resul)\n",
    "  if M[0][0] == 0 and M[1][0] ==0:\n",
    "    M = intercambio(M,1,3)\n",
    "  if M[1][1] != 0 and M[2][1] !=0:\n",
    "    resul = sp.solve(x*M[1][1]-M[2][1],x)\n",
    "    resul = float(resul[0])\n",
    "    M = sum_filas_escalar(M,3,2,1,-resul)\n",
    "  if M[1][1] == 0 and M[2][1] !=0:\n",
    "    M = intercambio(M,2,3)\n",
    "  return M\n",
    "\n",
    "\n",
    "def solution(M):\n",
    "  C = sp.solve(x*M[2][2]-M[2][3],x)\n",
    "  C = float(C[0])\n",
    "  B = sp.solve(x*M[1][1]+M[1][2]*C-M[1][3],x)\n",
    "  B = float(B[0])\n",
    "  A = sp.solve(x*M[0][0]+M[0][1]*B+M[0][2]*C-M[0][3],x)\n",
    "  A = float(A[0])\n",
    "  return A,B,C\n",
    "\n",
    "\n",
    "def gauss_jordan2x2(M):\n",
    "  x = sp.Symbol(\"x\")\n",
    "  if M[1,0] != 0 and M[0,0] !=0 :\n",
    "    val = sp.solve(x*M[0,0]-M[1,0],x)\n",
    "    val = val[0]\n",
    "    M = sum_filas_escalar(M,2,1,1,-val)\n",
    "    return M\n",
    "  elif M[0,0] == 0 and M[0,1] == 0 and M[1,0] == 0 and M[1,1] !=0:\n",
    "    return M\n",
    "  elif M[0,0] !=0 and M[0,1] == 0 and M[1,0] == 0 and M[1,1] == 0:\n",
    "    return M\n",
    "  elif M[0,0] == 0 and M[0,1]!=0 and M[1,0] == 0 and M[1,1] == 0:\n",
    "    return M\n",
    "  elif M[0,0] == 0 and M[1,0] !=0:\n",
    "    M = intercambio(M,1,2)\n",
    "    return M\n",
    "  elif M[0,0] !=0 and M[1,1] !=0 and M[1,0] == 0 and M[0,1] == 0:\n",
    "    return M\n",
    "  elif M[0,0] !=0 and M[0,1] == 0:\n",
    "    M = intercambio(M,1,2)\n",
    "    val = sp.solve(x*M[0,0]-M[1,0],x)\n",
    "    val = val[0]\n",
    "    M = sum_filas_escalar(M,2,1,1,-val)\n",
    "    return M\n",
    "  elif M[0,0] != 0 and M[1,0] == 0:\n",
    "    return M\n",
    "  elif M[0,0] == 0 and M[0,1] == 0 and M[1,0] !=0:\n",
    "    M = intercambio(M,1,2)\n",
    "    return M\n",
    "  elif M[0,0] == 0 and M[0,1] !=0 and M[1,0] == 0 and M[1,1] !=0:\n",
    "    val = sp.solve(x*M[0,1]-M[1,1],x)\n",
    "    val = val[0]\n",
    "    M = sum_filas_escalar(M,2,1,1,-val)\n",
    "    return M\n",
    "  return M\n",
    "\n"
   ]
  },
  {
   "cell_type": "code",
   "execution_count": 69,
   "metadata": {
    "id": "1XuwSN7kaQov"
   },
   "outputs": [],
   "source": [
    "## Gauss jordan Linealmente dependiente.\n",
    "def gauss_jordanLD3x3(M):\n",
    "  x = sp.Symbol(\"x\")\n",
    "  gauss = gauss_jordan(M)\n",
    "  dimM = np.shape(M)\n",
    "  vect = np.zeros(dimM[0])\n",
    "  eps = 1e-6\n",
    "  if gauss[2,2] <= eps and gauss[1,1]!=0:\n",
    "    z = np.random.random(1)\n",
    "    y = sp.solve(x*gauss[1][1]+gauss[1][2]*z,x)\n",
    "    y = y[x]\n",
    "    y = np.array([y])\n",
    "    val1 = gauss[0][1]*y\n",
    "    val2 = gauss[0][2]*z\n",
    "    cte = val1+val2\n",
    "    x1 = sp.solve(x*gauss[0][0]+cte,x)\n",
    "    vect = np.zeros((1,3))\n",
    "    vect[0,0] = x1[x]\n",
    "    vect[0,1] = y\n",
    "    vect[0,2] = z\n",
    "    return vect\n",
    "  elif  gauss[2,2] <= eps and gauss[1,1] <= eps:\n",
    "    z = 0\n",
    "    y = np.random.random(1)\n",
    "    x1 = sp.solve(x*gauss[0,0]+y*gauss[0,1],x)\n",
    "    vect = np.zeros((1,3))\n",
    "    vect[0,0] = x1[x]\n",
    "    vect[0,1] = y\n",
    "    vect[0,2] = z\n",
    "    return vect\n",
    "\n",
    "def gauss_jordanLD2x2(M):\n",
    "  x = sp.Symbol(\"x\")\n",
    "  gauss = gauss_jordan2x2(M)\n",
    "  y = np.random.random(1)\n",
    "  x1 = sp.solve(x*gauss[0,0]+y*gauss[0,1],x)\n",
    "  x1 = x1[x]\n",
    "  vect = np.zeros((2,1))\n",
    "  vect[0,0] = x1\n",
    "  vect[1,0] = y\n",
    "  return vect"
   ]
  },
  {
   "cell_type": "code",
   "execution_count": 88,
   "metadata": {
    "id": "08p4vMraxDRH"
   },
   "outputs": [],
   "source": [
    "## en esta linea vamos a generalizar la idea anterior para hallar los vectores propios\n",
    "\n",
    "def autovectores(M):\n",
    "  eigenvalues = autovalores(M)\n",
    "  I = np.identity(np.shape(M)[0])\n",
    "  matriz_solve = M-(eigenvalues[0]*I)\n",
    "  eig_vect0 = gauss_jordanLD3x3(matriz_solve)\n",
    "  matriz_solve1 = M - (eigenvalues[1]*I)\n",
    "  eig_vect1 = gauss_jordanLD3x3(matriz_solve1)\n",
    "  matriz_solve2 = M - (eigenvalues[2]*I)\n",
    "  eig_vect2 = gauss_jordanLD3x3(matriz_solve2)\n",
    "  P = np.array([eig_vect0,eig_vect1,eig_vect2])\n",
    "  return P\n",
    "\n",
    "def matriz_autovalores2x2(M):\n",
    "  eigenvalues = autovalores2x2(M)\n",
    "  Matriz = np.zeros((2,2))\n",
    "  for i in range(len(eigenvalues)):\n",
    "    Matriz[i,i] = eigenvalues[i]\n",
    "  return Matriz\n",
    "\n",
    "def autovectores2x2(M):\n",
    "  eigenvalues = autovalores2x2(M)\n",
    "  I = np.identity(np.shape(M)[0])\n",
    "  matriz_res = M - eigenvalues[0]*I\n",
    "  eigen_vect0 = gauss_jordanLD2x2(matriz_res)\n",
    "  matriz_res1 = M - eigenvalues[1]*I\n",
    "  eigen_vect1 = gauss_jordanLD2x2(matriz_res1)\n",
    "  matriz_vects = np.array([eigen_vect0,eigen_vect1])\n",
    "  return matriz_vects\n",
    "\n",
    "def matriz_autovectores2x2(M):\n",
    "  matriz_vects = autovectores2x2(M)\n",
    "  matriz_autovectores = np.zeros((2,2))\n",
    "  for i in range(2):\n",
    "    for j in range(2):\n",
    "      matriz_autovectores[j,i] = matriz_vects[i][j]\n",
    "  matriz_autovectores\n",
    "  return matriz_autovectores\n",
    "\n",
    "def matriz_autovectores2x2complex(M):\n",
    "  matriz_autovectores = np.empty((2,2),dtype = complex)\n",
    "  matriz_vects = autovectores2x2(M)\n",
    "  return matriz_vects\n",
    "\n",
    "def matriz_autovectores(M):\n",
    "  vectors = autovectores(M)\n",
    "  P_ = np.zeros((3,3))\n",
    "  eigenvalues = autovalores(M)\n",
    "  for i in range(len(eigenvalues)):\n",
    "    for j in range(len(eigenvalues)):\n",
    "      P_[j,i] = vectors[i][0][j]\n",
    "  return P_\n",
    "\n",
    "def matriz_autovalores(M):\n",
    "  eigenvalues = autovalores(M)\n",
    "  P = np.zeros((3,3))\n",
    "  for i in range(len(eigenvalues)):\n",
    "    P[i,i] = eigenvalues[i]\n",
    "  return P\n",
    "\n",
    "def diagonal3x3(M):\n",
    "  det = det3x3(M)\n",
    "  if det!=0:\n",
    "    U = np.asmatrix(matriz_autovectores(M))\n",
    "    P = np.asmatrix(matriz_autovalores(M))\n",
    "    invU = U.I\n",
    "    val = invU@M@U\n",
    "    return val\n",
    "  else:\n",
    "    msg = \"no se puede diagonalizar\"\n",
    "    return msg\n",
    "\n",
    "def diagonal2x2(M):\n",
    "  det = det2x2(M)\n",
    "  if det!=0:\n",
    "    U = np.asmatrix(matriz_autovectores2x2(M))\n",
    "    invU = U.I\n",
    "    val = invU@M@U\n",
    "    return val\n",
    "  else:\n",
    "    msg = \"no se puede diagonalizar\"\n",
    "    return msg\n",
    "\n",
    "\n"
   ]
  },
  {
   "cell_type": "code",
   "execution_count": 99,
   "metadata": {
    "colab": {
     "base_uri": "https://localhost:8080/"
    },
    "id": "Am_x1B5zve8i",
    "outputId": "ba03aab8-1f6d-419c-8e9c-3b8e00431912"
   },
   "outputs": [
    {
     "data": {
      "text/plain": [
       "(matrix([[-2.00000000e+00, -4.33597378e-14, -1.41855310e-14],\n",
       "         [-5.82278738e-17,  1.00000000e+00,  3.73260614e-16],\n",
       "         [-5.26969898e-17,  1.80399170e-15,  3.00000000e+00]]),\n",
       " matrix([[ 1., -1.,  4.],\n",
       "         [ 3.,  2., -1.],\n",
       "         [ 2.,  1., -1.]]))"
      ]
     },
     "execution_count": 99,
     "metadata": {},
     "output_type": "execute_result"
    }
   ],
   "source": [
    "M = np.array([[1,-1,4],\n",
    "              [3,2,-1],\n",
    "              [2,1,-1]\n",
    "\n",
    "              ])\n",
    "U = np.asmatrix(matriz_autovectores(M))\n",
    "P = np.asmatrix(matriz_autovalores(M))\n",
    "\n",
    "D = U.I@M@U\n",
    "diagonal3x3(M),U@P@U.I"
   ]
  },
  {
   "cell_type": "code",
   "execution_count": 105,
   "metadata": {
    "id": "0bLmAn9wJQ32"
   },
   "outputs": [],
   "source": [
    "M10 = np.array([ [3,-5],\n",
    "               [1,-1]\n",
    "                     ])\n",
    "U_, P_ = np.linalg.eig(M10)\n",
    "diagonal = np.diag(U_)\n",
    "P_ = np.asmatrix(P_)"
   ]
  },
  {
   "cell_type": "code",
   "execution_count": 108,
   "metadata": {
    "colab": {
     "base_uri": "https://localhost:8080/"
    },
    "id": "zDjaF6rTiCkw",
    "outputId": "6d9aeeb4-a477-4a30-ec8a-049c94f8da65"
   },
   "outputs": [
    {
     "data": {
      "text/plain": [
       "matrix([[ 1.00000000e+00+1.00000000e+00j,\n",
       "         -1.11022302e-16-3.88578059e-16j],\n",
       "        [-5.55111512e-17+4.99600361e-16j,\n",
       "          1.00000000e+00-1.00000000e+00j]])"
      ]
     },
     "execution_count": 108,
     "metadata": {},
     "output_type": "execute_result"
    }
   ],
   "source": [
    "M10 = np.asmatrix(M10)\n",
    "D_ = P_.I@M10@P_\n",
    "## diagonalización\n",
    "D_"
   ]
  },
  {
   "cell_type": "code",
   "execution_count": null,
   "metadata": {
    "id": "q2UQHaXY2uFM"
   },
   "outputs": [],
   "source": []
  }
 ],
 "metadata": {
  "colab": {
   "provenance": []
  },
  "kernelspec": {
   "display_name": "Python 3 (ipykernel)",
   "language": "python",
   "name": "python3"
  },
  "language_info": {
   "codemirror_mode": {
    "name": "ipython",
    "version": 3
   },
   "file_extension": ".py",
   "mimetype": "text/x-python",
   "name": "python",
   "nbconvert_exporter": "python",
   "pygments_lexer": "ipython3",
   "version": "3.10.9"
  }
 },
 "nbformat": 4,
 "nbformat_minor": 1
}
