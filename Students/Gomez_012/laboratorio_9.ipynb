{
  "cells": [
    {
      "cell_type": "markdown",
      "metadata": {
        "id": "zX5mmeZ08lWy"
      },
      "source": [
        "<a href=\"https://colab.research.google.com/github/hernansalinas/autogrades/blob/main/Laboratorios_Taller/Lab09_Matrices_v0.ipynb\" target=\"_parent\"><img src=\"https://colab.research.google.com/assets/colab-badge.svg\" alt=\"Open In Colab\"/></a>"
      ]
    },
    {
      "cell_type": "markdown",
      "metadata": {
        "id": "zRInnDiKcbSB"
      },
      "source": [
        "# Matrices\n",
        "\n",
        "1. **Modelo de encriptación**\n",
        "\n",
        "Un proceso para encriptar un mensaje secreto es usar cierta matrix cuadrada cuyos elementos son enteros con elementos enteros en la inversa. Se recibe un mensaje, se asigna un número a cada letra Por ejemplo, A=1, B=2, C=3, ... etc y espacio=27), se arreglan los números en una matriz de izquierda a derecha en cada fila, donde el número de elementos en la fila es igual al tamaño de la matriz de código, se multiplica esa matriz por la matriz de código por la derecha, se transcribe el mensaje en una cadena de números y se manda el mensaje.\n",
        "\n",
        "La persona que debe recibir el mensaje conoce la matriz de código. El o ella arrglan el mensaje encriptado en una matriz de izquierda a derecha en cada fila, en donde el número de elementos en una fila conicide con el tamaño de la matriz de código multiplicada por la derecha, por el inverso de la matriz de código y puede leer mensaje decodificado.\n",
        "\n",
        "Usted a recibido el siguiente mensaje que fue encriptado usando la matriz A. Decodifiquelo.\n",
        "\n",
        "```\n",
        "matrix([[ 1,  2, -3,  4,  5],\n",
        "        [-2, -5,  8, -8, -9],\n",
        "        [ 1,  2, -2,  7,  9],\n",
        "        [ 1,  1,  0,  6, 12],\n",
        "        [ 2,  4, -6,  8, 11]])\n",
        "```\n",
        "\n",
        "Mensaje\n",
        "\n",
        "47,49,-19,257,487,10,-9,63,137,236, 79,142,-184,372,536,59,70,-40,332,588,\n",
        "\n",
        "la primera fila del mensaje es 47,49,-19,257,487\n",
        "\n",
        "¿Cual es el mensaje?\n",
        "\n"
      ]
    },
    {
      "cell_type": "code",
      "source": [
        "import numpy as np\n",
        "from scipy import linalg\n",
        "import sympy as sp\n",
        "import matplotlib.pyplot as plt\n"
      ],
      "metadata": {
        "id": "xlwzdsYJk6mK"
      },
      "execution_count": 1,
      "outputs": []
    },
    {
      "cell_type": "code",
      "source": [
        "codigo = np.array([[ 1,  2, -3,  4,  5],\n",
        "        [-2, -5,  8, -8, -9],\n",
        "        [ 1,  2, -2,  7,  9],\n",
        "        [ 1,  1,  0,  6, 12],\n",
        "        [ 2,  4, -6,  8, 11]])\n",
        "\n",
        "\n",
        "\n",
        "mensaje = np.array([[47,49,-19,257,487],\n",
        "                    [10,-9,63,137,236],\n",
        "                    [79,142,-184,372,536],\n",
        "                    [59,70,-40,332,588],\n",
        "\n",
        "                    ])"
      ],
      "metadata": {
        "id": "XdJ4SOzliMGJ"
      },
      "execution_count": 2,
      "outputs": []
    },
    {
      "cell_type": "code",
      "source": [
        "\n",
        "inv_codigo = np.linalg.inv(codigo)\n",
        "\n",
        "deco = np.matmul(mensaje,inv_codigo)\n",
        "\n",
        "dic = {1:\"A\",2:\"B\",3:\"C\",4:\"D\",5:\"E\",6:\"F\",\n",
        "       7:\"G\",8:\"H\",9:\"I\",10:\"J\",11:\"K\",12:\"L\",13:\"M\",14:\"N\",15:\"O\",16:\"P\",17:\"Q\",\n",
        "       18:\"R\",19:\"S\",20:\"T\",21:\"U\",22:\"V\",23:\"W\",24:\"X\",25:\"Y\",26:\"Z\",27:\" \"}"
      ],
      "metadata": {
        "id": "YKpCpw1VmgQh"
      },
      "execution_count": 3,
      "outputs": []
    },
    {
      "cell_type": "code",
      "source": [
        "\n",
        "msg = \"\"\n",
        "\n",
        "for i in range(np.shape(deco)[0]):\n",
        "  for j in range(np.shape(deco)[1]):\n",
        "    val = round(float(deco[i,j]),0)\n",
        "    msg = msg + dic[val]\n",
        "msg"
      ],
      "metadata": {
        "colab": {
          "base_uri": "https://localhost:8080/",
          "height": 35
        },
        "id": "k5YnJztGKGxc",
        "outputId": "87906e35-2ea6-4d78-91eb-ae49aaf35244"
      },
      "execution_count": 4,
      "outputs": [
        {
          "output_type": "execute_result",
          "data": {
            "text/plain": [
              "'ARE YOU HAVING FUN  '"
            ],
            "application/vnd.google.colaboratory.intrinsic+json": {
              "type": "string"
            }
          },
          "metadata": {},
          "execution_count": 4
        }
      ]
    },
    {
      "cell_type": "markdown",
      "metadata": {
        "id": "LREbykvfhdYe"
      },
      "source": [
        "2. Operaciones matricial con regresión lineal.\n",
        "\n",
        "Cuando se desea hacer una regresión lineal multivariada, existen diferentes formas de realizar la regresión, una de ellas es encontrar el error cuadrático medio y miniminzar el conjunto de parámetros de la regresión emplando algún metodo de minimización, otra forma es encontrar la expresión analítica en forma matricial, para determinar el conjunto de parámetros de la regresión. En este último caso, la regresión lineal viene dada por la siguiente expresion generalizada:\n",
        "\n",
        "\n",
        "- $\\Theta = (X^T X)^{-1} X^T y$\n",
        "\n",
        "donte $\\Theta$ es la matriz de parametros asociados a la regresión lineal, X la matriz de características y $y$ los valos esperados, así, si tenemos una conjunto de datos en N dimensiones; la recta, plano o hyperplano puede ser calculado como:\n",
        "\n",
        "$Y=\\Theta^T X$\n",
        "\n",
        "\n",
        "En el caso de dos dimensiones, supongamos que X, y Y presentan un comportamiento lineal, y vienen dados por ( En este caso el super indice es :\n",
        "\n",
        "\n",
        "- Sea $\\vec{X}=x^{(1)}, x^{(2)}, x^{(3)}, x^{(4)}, ..., x^{(m)}$\n",
        "- Sea $\\vec{Y}=y^{(1)}, y^{(2)}, y^{(3)}, y^{(4)}, ..., y^{(m)}$\n",
        "\n",
        "Para determinar la ecuación de la recta, hay que conocer los párametros $\\theta_0 $, $\\theta_1$, que cumplen que :   $y^{(i)} = \\theta_1 x^{(i)} + \\theta_0$ la anterior expresión puede ser escrita como:\n",
        "\n",
        "\\begin{equation}\n",
        "\\begin{bmatrix}\n",
        "y^{(1)}\\\\\n",
        "y^{(2)}\\\\\n",
        "\\vdots\\\\\n",
        "y^{(m)}\\\\\n",
        "\\end{bmatrix}=\n",
        "\\begin{bmatrix}\n",
        "\\theta_0 & \\theta_1 \\\\\n",
        "\\end{bmatrix}\n",
        "\\begin{bmatrix}\n",
        "1 & 1 & \\cdots & 1 \\\\\n",
        "x_1^{(1)} & x_1^{(2)} & \\cdots & x_1^{(m)} \\\\\n",
        "\\end{bmatrix}\n",
        "\\end{equation}\n",
        "\n",
        "\n",
        "Para determinar la matriz de theta entonces se puede aplicar la ecuación:\n",
        "\n",
        "- $\\Theta = (X^T X)^{-1} X^T y$\n",
        "\n",
        "donde:\n",
        "\\begin{equation}\n",
        "X=\n",
        "\\begin{bmatrix}\n",
        "1 & x_1^{(1)} \\\\\n",
        "1 & x_1^{(2)} \\\\\n",
        "\\vdots & \\vdots \\\\\n",
        "1 & x_1^{(m)}\n",
        "\\end{bmatrix}\n",
        "\\end{equation}\n",
        "\n",
        "y\n",
        "\n",
        "\n",
        "\\begin{equation}\n",
        "y=\n",
        "\\begin{bmatrix}\n",
        "y^{(1)} \\\\\n",
        "y^{(2)} \\\\\n",
        "\\vdots\\\\\n",
        "y^{(m)}\n",
        "\\end{bmatrix}\n",
        "\\end{equation}\n",
        "\n",
        "Su tarea será construir un programa que realice la regresión lineal para los siguientes puntos:\n",
        "```python\n",
        "N = 10\n",
        "x1 = np.linspace(0, 10, N)\n",
        "noise=2*np.random.random(N)-1\n",
        "y = 0.9*x1 + noise\n",
        "```\n",
        "\n",
        "\n",
        "\n",
        "Generalice para el siguiente problema bidimensional:\n",
        "\n",
        "\n",
        "```python\n",
        "N = 10\n",
        "x1 = np.linspace(-1, 1, N)\n",
        "x2 = np.linspace(-2, 2, N)\n",
        "noise1=2*np.random.random(N)-1\n",
        "noise2=2*np.random.random(N)-1\n",
        "y = 2*(x1+noise1) - 3*(x2+noise2) + 0.0 #+ 4*np.random.random(100)\n",
        "\n",
        "N = 10\n",
        "X1, X2 = np.meshgrid(x1,x2)\n",
        "Y = 2*X1 - 3*X2 + 0.0\n",
        "fig, ax = plt.subplots(subplot_kw={\"projection\": \"3d\"})\n",
        "surf = ax.plot_surface(X1, X2, Y)\n",
        "#scatter = ax.scatter(x1, x2, y,\"-\")\n",
        "```\n"
      ]
    },
    {
      "cell_type": "code",
      "execution_count": 5,
      "metadata": {
        "id": "emwmOD1ahdYf",
        "outputId": "47085aa1-1563-45fb-a994-4cb855462404",
        "colab": {
          "base_uri": "https://localhost:8080/"
        }
      },
      "outputs": [
        {
          "output_type": "execute_result",
          "data": {
            "text/plain": [
              "array([ 0.        ,  1.11111111,  2.22222222,  3.33333333,  4.44444444,\n",
              "        5.55555556,  6.66666667,  7.77777778,  8.88888889, 10.        ])"
            ]
          },
          "metadata": {},
          "execution_count": 5
        }
      ],
      "source": [
        "## Condiciones iniciales.\n",
        "\n",
        "N = 10\n",
        "x1 = np.linspace(0, 10, N)\n",
        "x3 = np.linspace(0,10,200)\n",
        "\n",
        "noise = 2*np.random.random(N)-1\n",
        "y = 0.9*x1 + noise\n",
        "\n",
        "x2 = np.empty((len(x1),2))\n",
        "\n",
        "y2 = np.empty((len(y),1))\n",
        "y\n",
        "\n",
        "\n",
        "x1"
      ]
    },
    {
      "cell_type": "code",
      "source": [
        "## construyendo el vector x y el vector y\n",
        "for i in range(np.shape(x2)[0]):\n",
        "  y2[i] = y[i]\n",
        "  for j in range(np.shape(x2)[1]):\n",
        "    if j == 0:\n",
        "      x2[i,j] = 1\n",
        "    if j == 1:\n",
        "      x2[i,j] = x1[i]\n",
        "\n",
        "x2 = np.asmatrix(x2)\n",
        "y2 = np.asmatrix(y2)\n",
        "\n",
        "\n",
        "x2,y2\n"
      ],
      "metadata": {
        "id": "fiMF8kjPrWCj",
        "outputId": "68552c3e-b487-4de4-e65d-094053ae311a",
        "colab": {
          "base_uri": "https://localhost:8080/"
        }
      },
      "execution_count": 6,
      "outputs": [
        {
          "output_type": "execute_result",
          "data": {
            "text/plain": [
              "(matrix([[ 1.        ,  0.        ],\n",
              "         [ 1.        ,  1.11111111],\n",
              "         [ 1.        ,  2.22222222],\n",
              "         [ 1.        ,  3.33333333],\n",
              "         [ 1.        ,  4.44444444],\n",
              "         [ 1.        ,  5.55555556],\n",
              "         [ 1.        ,  6.66666667],\n",
              "         [ 1.        ,  7.77777778],\n",
              "         [ 1.        ,  8.88888889],\n",
              "         [ 1.        , 10.        ]]),\n",
              " matrix([[0.5529202 ],\n",
              "         [0.82531726],\n",
              "         [2.46499285],\n",
              "         [2.26985449],\n",
              "         [3.82204079],\n",
              "         [5.51223098],\n",
              "         [5.56178959],\n",
              "         [6.08395452],\n",
              "         [8.29519055],\n",
              "         [9.98520435]]))"
            ]
          },
          "metadata": {},
          "execution_count": 6
        }
      ]
    },
    {
      "cell_type": "code",
      "source": [
        "## transpuesta de la matriz\n",
        "\n",
        "x2_T = x2.T\n",
        "\n",
        "x2_T,x2\n",
        "\n",
        "T1 = x2_T@x2\n",
        "\n",
        "T1 = T1.I\n",
        "\n",
        "\n",
        "constantes = np.array([T1@x2_T@y2])\n",
        "\n",
        "f = lambda x,a,b :  a*x + b\n"
      ],
      "metadata": {
        "id": "ZvY9OTAEsAnQ"
      },
      "execution_count": 7,
      "outputs": []
    },
    {
      "cell_type": "code",
      "source": [
        "plt.figure(figsize = (8,6))\n",
        "plt.grid(True)\n",
        "plt.plot(x1,y,\"^\", color = \"red\")\n",
        "plt.plot(x3,f(x3,constantes[0][1],constantes[0][0]), color = \"blue\", ls = \"--\")\n",
        "plt.title(\"Regresión lineal\")"
      ],
      "metadata": {
        "id": "WLO6Hk4ssiu4",
        "outputId": "9f95029a-d6e9-4010-8858-00b093994ad8",
        "colab": {
          "base_uri": "https://localhost:8080/",
          "height": 563
        }
      },
      "execution_count": 8,
      "outputs": [
        {
          "output_type": "execute_result",
          "data": {
            "text/plain": [
              "Text(0.5, 1.0, 'Regresión lineal')"
            ]
          },
          "metadata": {},
          "execution_count": 8
        },
        {
          "output_type": "display_data",
          "data": {
            "text/plain": [
              "<Figure size 800x600 with 1 Axes>"
            ],
            "image/png": "[encoded data removed]"
          },
          "metadata": {}
        }
      ]
    },
    {
      "cell_type": "code",
      "source": [
        "N = 10\n",
        "x1 = np.linspace(-1, 1, N)\n",
        "x2 = np.linspace(-3, 2, N)\n",
        "noise1=2*np.random.random(N)-1\n",
        "noise2=2*np.random.random(N)-1\n",
        "y = 2*(x1+noise1) - 3*(x2+noise2) + 0.0 #+ 4*np.random.random(100)\n",
        "\n",
        "N = 10\n",
        "X1, X2 = np.meshgrid(x1,x2)\n",
        "Y = 2*X1 - 3*X2 + 0.0\n",
        "fig, ax = plt.subplots(subplot_kw={\"projection\": \"3d\"})\n",
        "surf = ax.plot_surface(X1, X2, Y)\n",
        "scatter = ax.scatter(x1, x2, y,\"-\")\n",
        "\n",
        "\n",
        "y\n"
      ],
      "metadata": {
        "id": "e9dIOcB1skfu",
        "outputId": "cc90cf9e-d2b6-479f-8c8e-05b0383e049c",
        "colab": {
          "base_uri": "https://localhost:8080/",
          "height": 451
        }
      },
      "execution_count": 30,
      "outputs": [
        {
          "output_type": "execute_result",
          "data": {
            "text/plain": [
              "array([ 6.97940217,  5.60973995,  7.41882395,  0.92852926,  0.15563301,\n",
              "        0.94550968, -1.42782467, -4.11442117, -3.72617994, -5.99447112])"
            ]
          },
          "metadata": {},
          "execution_count": 30
        },
        {
          "output_type": "display_data",
          "data": {
            "text/plain": [
              "<Figure size 640x480 with 1 Axes>"
            ],
            "image/png": "[encoded data removed]"
          },
          "metadata": {}
        }
      ]
    },
    {
      "cell_type": "code",
      "source": [
        "## construcción de la matriz X_.\n",
        "colX1 = np.shape(x1)[0]\n",
        "\n",
        "X_ = np.zeros((colX1,3))\n",
        "\n",
        "for i in range(colX1):\n",
        "  for j in range(3):\n",
        "    if j == 0:\n",
        "      X_[i,j] = 1\n",
        "    elif j == 1:\n",
        "      X_[i,j] = x1[i]\n",
        "    elif j == 2:\n",
        "      X_[i,j] = x2[i]\n",
        "## construcción del vector y_\n",
        "\n",
        "y_ = np.zeros((colX1,1))\n",
        "\n",
        "for i in range(len(x1)):\n",
        "  y_[i,0] = y[i]\n",
        "y_\n",
        "\n",
        "y_ = np.asmatrix(y_)\n",
        "\n",
        "sp.Matrix(X_),sp.Matrix(y_)"
      ],
      "metadata": {
        "id": "KuqCIqdhxd8Q",
        "colab": {
          "base_uri": "https://localhost:8080/"
        },
        "outputId": "e2eccdff-3515-45f1-a9dd-93d4e1ad49a2"
      },
      "execution_count": 39,
      "outputs": [
        {
          "output_type": "execute_result",
          "data": {
            "text/plain": [
              "(Matrix([\n",
              " [1.0,               -1.0,               -3.0],\n",
              " [1.0, -0.777777777777778,  -2.44444444444444],\n",
              " [1.0, -0.555555555555556,  -1.88888888888889],\n",
              " [1.0, -0.333333333333333,  -1.33333333333333],\n",
              " [1.0, -0.111111111111111, -0.777777777777778],\n",
              " [1.0,  0.111111111111111, -0.222222222222222],\n",
              " [1.0,  0.333333333333333,  0.333333333333333],\n",
              " [1.0,  0.555555555555555,  0.888888888888889],\n",
              " [1.0,  0.777777777777778,   1.44444444444444],\n",
              " [1.0,                1.0,                2.0]]),\n",
              " Matrix([\n",
              " [ 6.97940216858479],\n",
              " [ 5.60973995385444],\n",
              " [ 7.41882395443002],\n",
              " [0.928529261083936],\n",
              " [0.155633008782868],\n",
              " [0.945509680300255],\n",
              " [-1.42782466994352],\n",
              " [-4.11442117430453],\n",
              " [-3.72617994135635],\n",
              " [-5.99447112495149]]))"
            ]
          },
          "metadata": {},
          "execution_count": 39
        }
      ]
    },
    {
      "cell_type": "code",
      "source": [
        "## traspuesta de la matriz X_\n",
        "X_T = np.transpose(X_)\n",
        "\n",
        "\n",
        "## Multiplicación por la matriz original\n",
        "\n",
        "mult = np.matmul(X_T,X_)\n",
        "\n",
        "\n",
        "\n",
        "## Inversa de la multiplicación anterior\n",
        "\n",
        "mult_inv = np.linalg.inv(mult)\n",
        "\n",
        "mult_inv = np.asmatrix(mult_inv)\n",
        "\n",
        "## solución de la linealización\n",
        "\n",
        "sol = mult_inv@X_T@y_\n",
        "\n",
        "sol = np.array(sol)\n",
        "\n",
        "## La ecuación resultante es de la forma. Y = C+AX+By.\n",
        "\n",
        "## Entonces, las constantes C,A y B son:\n",
        "\n",
        "print(f\"C:{sol[0]},A:{sol[1]},B:{sol[2]}\")\n"
      ],
      "metadata": {
        "colab": {
          "base_uri": "https://localhost:8080/"
        },
        "id": "cZo3pFZT5-kP",
        "outputId": "85a3dbaa-8aed-40d2-810c-397c1d0b768d"
      },
      "execution_count": 41,
      "outputs": [
        {
          "output_type": "stream",
          "name": "stdout",
          "text": [
            "C:[0.49524648],A:[-10.47862261],B:[0.16397781]\n"
          ]
        }
      ]
    }
  ],
  "metadata": {
    "colab": {
      "provenance": []
    },
    "kernelspec": {
      "display_name": "Python 3 (ipykernel)",
      "language": "python",
      "name": "python3"
    },
    "language_info": {
      "codemirror_mode": {
        "name": "ipython",
        "version": 3
      },
      "file_extension": ".py",
      "mimetype": "text/x-python",
      "name": "python",
      "nbconvert_exporter": "python",
      "pygments_lexer": "ipython3",
      "version": "3.10.9"
    }
  },
  "nbformat": 4,
  "nbformat_minor": 0
}