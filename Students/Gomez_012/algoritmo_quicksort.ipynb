{
  "nbformat": 4,
  "nbformat_minor": 0,
  "metadata": {
    "colab": {
      "provenance": []
    },
    "kernelspec": {
      "name": "python3",
      "display_name": "Python 3"
    },
    "language_info": {
      "name": "python"
    }
  },
  "cells": [
    {
      "cell_type": "code",
      "execution_count": null,
      "metadata": {
        "id": "uOa-z6sWWPS-"
      },
      "outputs": [],
      "source": [
        "def quicksort(lista):\n",
        "  if len(lista) <= 1:\n",
        "    return lista\n",
        "  else:\n",
        "\n",
        "    medio = []\n",
        "    izquierda = []\n",
        "    derecha = []\n",
        "    pivote = len(lista) // 2\n",
        "    for i in range(len(lista)):\n",
        "      if lista[i] < lista[pivote]:\n",
        "        izquierda.append(lista[i])\n",
        "      elif lista[i] > lista[pivote]:\n",
        "        derecha.append(lista[i])\n",
        "      elif lista[i] == lista[pivote]:\n",
        "        medio.append(lista[i])\n",
        "    return quicksort(izquierda) + medio + quicksort(derecha)"
      ]
    }
  ]
}