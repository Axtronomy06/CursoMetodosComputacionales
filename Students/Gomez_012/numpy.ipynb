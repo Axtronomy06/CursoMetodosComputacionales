{
  "nbformat": 4,
  "nbformat_minor": 0,
  "metadata": {
    "colab": {
      "provenance": []
    },
    "kernelspec": {
      "name": "python3",
      "display_name": "Python 3"
    },
    "language_info": {
      "name": "python"
    }
  },
  "cells": [
    {
      "cell_type": "code",
      "execution_count": 27,
      "metadata": {
        "id": "zNkS83HR8JKY"
      },
      "outputs": [],
      "source": [
        "import numpy as np\n",
        "import matplotlib.pyplot as plt\n",
        "from scipy import linalg\n",
        "from matplotlib.patches import Arc"
      ]
    },
    {
      "cell_type": "code",
      "source": [
        "x = np.random.randint(0,255,(8,8))"
      ],
      "metadata": {
        "id": "9lRl9mI28Mzs"
      },
      "execution_count": 2,
      "outputs": []
    },
    {
      "cell_type": "code",
      "source": [
        "x"
      ],
      "metadata": {
        "colab": {
          "base_uri": "https://localhost:8080/"
        },
        "id": "A3e1pyHy8T5r",
        "outputId": "a4a90a4b-f213-4967-bdcf-8d998fb6efa6"
      },
      "execution_count": 3,
      "outputs": [
        {
          "output_type": "execute_result",
          "data": {
            "text/plain": [
              "array([[ 65,  40,  68, 135, 217,  99, 113,  81],\n",
              "       [254, 142,  34, 179,  60, 209, 218,  13],\n",
              "       [ 40, 154,  65,  13,  37,  95, 140,  47],\n",
              "       [ 94, 118,   1,  86,  66,  88, 248,  48],\n",
              "       [ 11,  18, 177, 193,  21, 237,  89, 134],\n",
              "       [141, 173, 251, 214, 218, 127,  91, 159],\n",
              "       [ 32,  95, 138, 178,  23, 204, 134,  87],\n",
              "       [ 40,  33,  86, 143, 201,  86,  72,  20]])"
            ]
          },
          "metadata": {},
          "execution_count": 3
        }
      ]
    },
    {
      "cell_type": "code",
      "source": [
        "newx = x[2:7,2:7]\n",
        "newx[:,0][0:7:2]"
      ],
      "metadata": {
        "colab": {
          "base_uri": "https://localhost:8080/"
        },
        "id": "VCEtTyOf87Ox",
        "outputId": "afdf447e-4ff5-496a-a38d-cfe8d1c28557"
      },
      "execution_count": 4,
      "outputs": [
        {
          "output_type": "execute_result",
          "data": {
            "text/plain": [
              "array([ 65, 177, 138])"
            ]
          },
          "metadata": {},
          "execution_count": 4
        }
      ]
    },
    {
      "cell_type": "code",
      "source": [
        "plt.imshow(x)"
      ],
      "metadata": {
        "colab": {
          "base_uri": "https://localhost:8080/",
          "height": 448
        },
        "id": "TN9rmu7v9Mly",
        "outputId": "76b07be4-a721-47f0-afe5-2ce91f2b798a"
      },
      "execution_count": 5,
      "outputs": [
        {
          "output_type": "execute_result",
          "data": {
            "text/plain": [
              "<matplotlib.image.AxesImage at 0x7a00302dc940>"
            ]
          },
          "metadata": {},
          "execution_count": 5
        },
        {
          "output_type": "display_data",
          "data": {
            "text/plain": [
              "<Figure size 640x480 with 1 Axes>"
            ],
            "image/png": "[encoded data removed]"
          },
          "metadata": {}
        }
      ]
    },
    {
      "cell_type": "code",
      "source": [
        "M = np.array([\n",
        " [1,2,3,4],\n",
        " [5,6,7,8],\n",
        " [9,10,11,12],\n",
        " [13,14,15,16]])\n",
        "\n",
        "## Operaciones basicas.\n",
        "\n",
        "## Multiplicación por un escalar.\n",
        "b = 3\n",
        "C = b * M\n",
        "C\n"
      ],
      "metadata": {
        "colab": {
          "base_uri": "https://localhost:8080/"
        },
        "id": "2ZOJoUfe7UDT",
        "outputId": "a0996185-e4df-43fe-fb66-0b3603642ada"
      },
      "execution_count": 7,
      "outputs": [
        {
          "output_type": "execute_result",
          "data": {
            "text/plain": [
              "array([[ 3,  6,  9, 12],\n",
              "       [15, 18, 21, 24],\n",
              "       [27, 30, 33, 36],\n",
              "       [39, 42, 45, 48]])"
            ]
          },
          "metadata": {},
          "execution_count": 7
        }
      ]
    },
    {
      "cell_type": "code",
      "source": [
        "## Restar por otra matriz\n",
        "\n",
        "N = np.array([\n",
        "    [123,21,2,34],\n",
        "    [9,10,29,10],\n",
        "    [543,321,596,12],\n",
        "    [12,3,4,5]\n",
        "              ])\n",
        "F = M - N\n",
        "F"
      ],
      "metadata": {
        "colab": {
          "base_uri": "https://localhost:8080/"
        },
        "id": "Cw1PI4hQ7rqa",
        "outputId": "e62e6dbd-5f9f-4024-b6af-648b8f0b8502"
      },
      "execution_count": 8,
      "outputs": [
        {
          "output_type": "execute_result",
          "data": {
            "text/plain": [
              "array([[-122,  -19,    1,  -30],\n",
              "       [  -4,   -4,  -22,   -2],\n",
              "       [-534, -311, -585,    0],\n",
              "       [   1,   11,   11,   11]])"
            ]
          },
          "metadata": {},
          "execution_count": 8
        }
      ]
    },
    {
      "cell_type": "code",
      "source": [
        "## Transpuesta de una matriz.\n",
        "\n",
        "M_ = np.transpose(M)\n",
        "M_"
      ],
      "metadata": {
        "colab": {
          "base_uri": "https://localhost:8080/"
        },
        "id": "CzCPZ7Nh8Yza",
        "outputId": "8610981d-66d2-43a1-a496-45f2cb7d0c19"
      },
      "execution_count": 9,
      "outputs": [
        {
          "output_type": "execute_result",
          "data": {
            "text/plain": [
              "array([[ 1,  5,  9, 13],\n",
              "       [ 2,  6, 10, 14],\n",
              "       [ 3,  7, 11, 15],\n",
              "       [ 4,  8, 12, 16]])"
            ]
          },
          "metadata": {},
          "execution_count": 9
        }
      ]
    },
    {
      "cell_type": "code",
      "source": [
        "### Multiplicación de una matriz por un vector.\n",
        "\n",
        "V = np.array([[2],\n",
        " [3],\n",
        " [4],\n",
        " [5]])\n",
        "\n",
        "dimV = np.shape(V)\n",
        "dimM = np.shape(M)\n",
        "dimR = (dimM[0],dimV[1])\n",
        "T = M*V\n",
        "\n",
        "## definir el vector vació resultante de la multiplicación.\n",
        "\n",
        "R = np.empty(dimR,dtype = float)\n",
        "\n",
        "\n",
        "for i in range(dimM[0]):\n",
        "  sum = 0\n",
        "  column = M[i]\n",
        "  for j in range(len(column)):\n",
        "    sum = sum + column[j]*V[j]\n",
        "  R[i] = sum\n",
        "\n",
        "R"
      ],
      "metadata": {
        "colab": {
          "base_uri": "https://localhost:8080/"
        },
        "id": "offNbi4V8eif",
        "outputId": "0fa6b1ea-6fc9-4ebd-b4b3-8c515a2c6121"
      },
      "execution_count": 10,
      "outputs": [
        {
          "output_type": "execute_result",
          "data": {
            "text/plain": [
              "array([[ 40.],\n",
              "       [ 96.],\n",
              "       [152.],\n",
              "       [208.]])"
            ]
          },
          "metadata": {},
          "execution_count": 10
        }
      ]
    },
    {
      "cell_type": "code",
      "source": [
        "### Generalización del anterior proceso.\n",
        "\n",
        "\n",
        "## En esta función se multiplica la matriz M, por el vector V.\n",
        "def mult_vect(M,V):\n",
        "  dimV = np.shape(V)\n",
        "  dimM = np.shape(M)\n",
        "  if dimM[1] == dimV[0]:\n",
        "    dimR = (dimM[0],dimV[1])\n",
        "    R = np.empty(dimR,dtype = float)\n",
        "    for i in range(dimM[0]):\n",
        "      sum = 0\n",
        "      column = M[i]\n",
        "      for j in range(len(column)):\n",
        "        sum = sum + column[j]*V[j]\n",
        "      R[i] = sum\n",
        "    return R\n",
        "  else:\n",
        "    msg = \"Las dimensiones no son las adecuadas, intentelo de nuevo\"\n",
        "    return msg\n",
        "\n",
        "A = np.array([\n",
        "    [2,3,4],\n",
        "    [5,6,7],\n",
        "    [8,9,10]\n",
        "              ])\n",
        "V2 = np.array([[1,3,6],[2,4,6]])\n",
        "\n",
        "print(mult_vect(M,V))\n",
        "\n",
        "print(np.matmul(M,V))\n",
        "\n"
      ],
      "metadata": {
        "colab": {
          "base_uri": "https://localhost:8080/"
        },
        "id": "TMp6XOYL8rfE",
        "outputId": "42a9a9f6-9564-4fa6-e28d-433bff529461"
      },
      "execution_count": 11,
      "outputs": [
        {
          "output_type": "stream",
          "name": "stdout",
          "text": [
            "[[ 40.]\n",
            " [ 96.]\n",
            " [152.]\n",
            " [208.]]\n",
            "[[ 40]\n",
            " [ 96]\n",
            " [152]\n",
            " [208]]\n"
          ]
        }
      ]
    },
    {
      "cell_type": "code",
      "source": [
        "### Multiplicación de dos matrices.\n",
        "\n",
        "A = np.array([\n",
        "    [2,3,3],\n",
        "    [5,6,6],\n",
        "    [8,9,7],\n",
        "    [9,10,11]\n",
        "              ])\n",
        "B = np.array([\n",
        " [1,2],\n",
        " [5,6],\n",
        " [1234,812]])\n",
        "\n",
        "\n",
        "dimA = np.shape(A)\n",
        "dimB = np.shape(B)\n",
        "dimR2 = (dimA[0],dimB[1])\n",
        "R2 = np.empty(dimR2, dtype = float)\n",
        "for i in range(dimA[0]):\n",
        "  colA = A[i]\n",
        "  for j in range(dimB[1]):\n",
        "    sum2 = 0\n",
        "    rowB = B[:,j]\n",
        "    for q in range(dimB[0]):\n",
        "      sum2 = sum2 + colA[q]*rowB[q]\n",
        "    R2[i,j] = sum2\n",
        "\n",
        "R2\n",
        "\n"
      ],
      "metadata": {
        "colab": {
          "base_uri": "https://localhost:8080/"
        },
        "id": "9p0KIE8_BKwB",
        "outputId": "c0e00039-de9d-4871-e336-0d7758e13fb0"
      },
      "execution_count": 12,
      "outputs": [
        {
          "output_type": "execute_result",
          "data": {
            "text/plain": [
              "array([[ 3719.,  2458.],\n",
              "       [ 7439.,  4918.],\n",
              "       [ 8691.,  5754.],\n",
              "       [13633.,  9010.]])"
            ]
          },
          "metadata": {},
          "execution_count": 12
        }
      ]
    },
    {
      "cell_type": "code",
      "source": [
        "## Generalización del anterior codigo.\n",
        "\n",
        "def mult_matriz(A,B):\n",
        "  dimA = np.shape(A)\n",
        "  dimB = np.shape(B)\n",
        "  if dimA[1] == dimB[0]:\n",
        "    dimR = (dimA[0],dimB[1])\n",
        "    R = np.empty(dimR, dtype = float)\n",
        "    for i in range(dimA[0]):\n",
        "      colA = A[i]\n",
        "      for j in range(dimB[1]):\n",
        "        sum = 0\n",
        "        rowB = B[:,j]\n",
        "        for q in range(dimB[0]):\n",
        "          sum = sum + colA[q]*rowB[q]\n",
        "        R[i,j] = sum\n",
        "    return R\n",
        "  else:\n",
        "    msg = \"Las dimensiones no son adecuadas, intentelo de nuevo\"\n",
        "    return msg\n",
        "\n",
        "print(mult_matriz(A,B))\n",
        "## np.matmul saca la multiplicación de dos matrices.\n",
        "print(np.matmul(A,B))\n"
      ],
      "metadata": {
        "colab": {
          "base_uri": "https://localhost:8080/"
        },
        "id": "Wz6LWRmpB3CA",
        "outputId": "bc751c3e-c127-4701-e517-b2e6174bd16b"
      },
      "execution_count": 20,
      "outputs": [
        {
          "output_type": "stream",
          "name": "stdout",
          "text": [
            "[[ 3719.  2458.]\n",
            " [ 7439.  4918.]\n",
            " [ 8691.  5754.]\n",
            " [13633.  9010.]]\n",
            "[[ 3719  2458]\n",
            " [ 7439  4918]\n",
            " [ 8691  5754]\n",
            " [13633  9010]]\n"
          ]
        }
      ]
    },
    {
      "cell_type": "code",
      "source": [
        "## Con numpy también podemos definir matrices.\n",
        "\n",
        "D1 = np.asmatrix(A)\n",
        "D2 = np.asmatrix(B)\n",
        "\n",
        "## Con esta definición es mas sencilla realizar operaciones\n",
        "## sobre matrices. Ello se vuelve un objeto matricial. Y se comporta como tal.\n",
        "\n",
        "## Inversa\n",
        "D1.I"
      ],
      "metadata": {
        "colab": {
          "base_uri": "https://localhost:8080/"
        },
        "id": "Y8R9kq2ZGt5F",
        "outputId": "502861b0-8527-491b-d8cf-725588a66134"
      },
      "execution_count": 14,
      "outputs": [
        {
          "output_type": "execute_result",
          "data": {
            "text/plain": [
              "matrix([[-1.18374558, -0.48409894,  0.22261484,  0.44522968],\n",
              "        [ 1.02650177,  0.40636042,  0.18904594, -0.62190813],\n",
              "        [ 0.02473498,  0.0459364 , -0.35689046,  0.28621908]])"
            ]
          },
          "metadata": {},
          "execution_count": 14
        }
      ]
    },
    {
      "cell_type": "code",
      "source": [
        "## Traspuesta.\n",
        "D1.I"
      ],
      "metadata": {
        "colab": {
          "base_uri": "https://localhost:8080/"
        },
        "id": "klZrUXsIJDWi",
        "outputId": "2708e6cd-ee48-464a-abca-34b108bfb371"
      },
      "execution_count": 15,
      "outputs": [
        {
          "output_type": "execute_result",
          "data": {
            "text/plain": [
              "matrix([[-1.18374558, -0.48409894,  0.22261484,  0.44522968],\n",
              "        [ 1.02650177,  0.40636042,  0.18904594, -0.62190813],\n",
              "        [ 0.02473498,  0.0459364 , -0.35689046,  0.28621908]])"
            ]
          },
          "metadata": {},
          "execution_count": 15
        }
      ]
    },
    {
      "cell_type": "code",
      "source": [
        "## Producto de matrices.\n",
        "\n",
        "D1@D2"
      ],
      "metadata": {
        "colab": {
          "base_uri": "https://localhost:8080/"
        },
        "id": "4KkE3wxDKKqX",
        "outputId": "3e945ace-ff2e-4501-df27-39189643e6b0"
      },
      "execution_count": 16,
      "outputs": [
        {
          "output_type": "execute_result",
          "data": {
            "text/plain": [
              "matrix([[ 3719,  2458],\n",
              "        [ 7439,  4918],\n",
              "        [ 8691,  5754],\n",
              "        [13633,  9010]])"
            ]
          },
          "metadata": {},
          "execution_count": 16
        }
      ]
    },
    {
      "cell_type": "code",
      "source": [
        "### Está función me permite calcular la rotación de un vector.\n",
        "\n",
        "\n",
        "## Está funcion recibe un vector V, y un ángulo theta.\n",
        "\n",
        "##Cabe señalar que el angulo debe estar en grados.\n",
        "def rotacion(V,theta):\n",
        "  dimB = (2,1)\n",
        "  dimV = np.shape(V)\n",
        "  if dimV == dimB:\n",
        "    theta = np.deg2rad(theta)\n",
        "    R = np.array([[np.cos(theta),-1*np.sin(theta)],\n",
        "                  [np.sin(theta),np.cos(theta)]])\n",
        "    u = mult_matriz(R,V)\n",
        "    return u\n",
        "  else:\n",
        "    msg = \"Por favor, ingrese un vector de dimensión (2,1)\"\n",
        "    return msg\n",
        "\n",
        "V5 = np.array([[1],[1]])\n",
        "\n",
        "V5_rot = rotacion(V5,180)\n",
        "\n",
        "\n",
        "\n",
        "\n",
        "\n"
      ],
      "metadata": {
        "id": "OH8ujND-KbgM"
      },
      "execution_count": 39,
      "outputs": []
    },
    {
      "cell_type": "code",
      "source": [
        "\n",
        "# Crear una figura\n",
        "fig, ax = plt.subplots()\n",
        "\n",
        "# Dibujar los vectores originales\n",
        "ax.quiver(0, 0, V5[0, 0], V5[1, 0], angles='xy', scale_units='xy', scale = 1, color='blue', label='Vector original')\n",
        "ax.quiver(0, 0, V5_rot[0, 0], V5_rot[1, 0], angles='xy', scale_units='xy', scale=1, color='red', label='Vector rotado')\n",
        "\n",
        "\n",
        "# Configurar límites y etiquetas\n",
        "ax.set_xlim(-2, 2)\n",
        "ax.set_ylim(-2, 2)\n",
        "ax.set_aspect('equal', adjustable='box')\n",
        "ax.legend()\n",
        "\n",
        "# Mostrar el gráfico\n",
        "plt.grid()\n",
        "plt.show()"
      ],
      "metadata": {
        "colab": {
          "base_uri": "https://localhost:8080/",
          "height": 435
        },
        "id": "giXiCgahSr0l",
        "outputId": "1b1f7217-6c18-46e0-c6d9-fc8abe1bb915"
      },
      "execution_count": 41,
      "outputs": [
        {
          "output_type": "display_data",
          "data": {
            "text/plain": [
              "<Figure size 640x480 with 1 Axes>"
            ],
            "image/png": "[encoded data removed]"
          },
          "metadata": {}
        }
      ]
    }
  ]
}