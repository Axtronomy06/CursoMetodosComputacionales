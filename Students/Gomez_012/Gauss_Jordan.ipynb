{
  "nbformat": 4,
  "nbformat_minor": 0,
  "metadata": {
    "colab": {
      "provenance": []
    },
    "kernelspec": {
      "name": "python3",
      "display_name": "Python 3"
    },
    "language_info": {
      "name": "python"
    }
  },
  "cells": [
    {
      "cell_type": "code",
      "execution_count": 15,
      "metadata": {
        "id": "wA5n2RzyrSV8"
      },
      "outputs": [],
      "source": [
        "import numpy as np\n",
        "import sympy as sp\n",
        "import scipy as sc\n",
        "import scipy.integrate as integrate"
      ]
    },
    {
      "cell_type": "code",
      "source": [
        "A = np.array([[1,1,1,2],\n",
        "              [4,1,2,2],\n",
        "              [5,1,4,8/3],\n",
        "              ])\n",
        "\n",
        "A = np.asmatrix(A)\n",
        "A"
      ],
      "metadata": {
        "colab": {
          "base_uri": "https://localhost:8080/"
        },
        "id": "GvWMMTMUs2Wg",
        "outputId": "ca649109-83d9-4671-d072-c793d3767a46"
      },
      "execution_count": 16,
      "outputs": [
        {
          "output_type": "execute_result",
          "data": {
            "text/plain": [
              "matrix([[1.        , 1.        , 1.        , 2.        ],\n",
              "        [4.        , 1.        , 2.        , 2.        ],\n",
              "        [5.        , 1.        , 4.        , 2.66666667]])"
            ]
          },
          "metadata": {},
          "execution_count": 16
        }
      ]
    },
    {
      "cell_type": "code",
      "source": [
        "## Multiplicar una fila por escalar\n",
        "\n",
        "a = 5\n",
        "\n",
        "opera = a*A[1]\n",
        "print(opera)\n",
        "B = np.copy(A)\n",
        "print(B)\n",
        "row = 1\n",
        "B[row] = opera\n",
        "\n",
        "B\n",
        "\n"
      ],
      "metadata": {
        "colab": {
          "base_uri": "https://localhost:8080/"
        },
        "id": "QzKdfWdjtHye",
        "outputId": "fa267683-d6b4-450d-af20-7a00bfba7815"
      },
      "execution_count": 17,
      "outputs": [
        {
          "output_type": "stream",
          "name": "stdout",
          "text": [
            "[[20.  5. 10. 10.]]\n",
            "[[1.         1.         1.         2.        ]\n",
            " [4.         1.         2.         2.        ]\n",
            " [5.         1.         4.         2.66666667]]\n"
          ]
        },
        {
          "output_type": "execute_result",
          "data": {
            "text/plain": [
              "array([[ 1.        ,  1.        ,  1.        ,  2.        ],\n",
              "       [20.        ,  5.        , 10.        , 10.        ],\n",
              "       [ 5.        ,  1.        ,  4.        ,  2.66666667]])"
            ]
          },
          "metadata": {},
          "execution_count": 17
        }
      ]
    },
    {
      "cell_type": "code",
      "source": [
        "## Intercambiar dos filas\n",
        "\n",
        "C = np.copy(A)\n",
        "\n",
        "row_org = 2\n",
        "row_cambio = 1\n",
        "C[row_cambio] = A[row_org]\n",
        "A,C\n"
      ],
      "metadata": {
        "colab": {
          "base_uri": "https://localhost:8080/"
        },
        "id": "bavyNZOCvfLK",
        "outputId": "90458202-18c9-41fa-a5d9-c3413c44c6a5"
      },
      "execution_count": 18,
      "outputs": [
        {
          "output_type": "execute_result",
          "data": {
            "text/plain": [
              "(matrix([[1.        , 1.        , 1.        , 2.        ],\n",
              "         [4.        , 1.        , 2.        , 2.        ],\n",
              "         [5.        , 1.        , 4.        , 2.66666667]]),\n",
              " array([[1.        , 1.        , 1.        , 2.        ],\n",
              "        [5.        , 1.        , 4.        , 2.66666667],\n",
              "        [5.        , 1.        , 4.        , 2.66666667]]))"
            ]
          },
          "metadata": {},
          "execution_count": 18
        }
      ]
    },
    {
      "cell_type": "code",
      "source": [
        "## Sumar dos filas multiplicadas por un escalar\n",
        "\n",
        "D = np.copy(A)\n",
        "row_sum1,row_sum2 = 0,1\n",
        "D[row_sum1] = A[row_sum1] -5* A[row_sum2]\n",
        "D"
      ],
      "metadata": {
        "colab": {
          "base_uri": "https://localhost:8080/"
        },
        "id": "w8ilKVJjwfBA",
        "outputId": "ba2cd369-b8ad-4ce2-ad19-e1621282af13"
      },
      "execution_count": 19,
      "outputs": [
        {
          "output_type": "execute_result",
          "data": {
            "text/plain": [
              "array([[-19.        ,  -4.        ,  -9.        ,  -8.        ],\n",
              "       [  4.        ,   1.        ,   2.        ,   2.        ],\n",
              "       [  5.        ,   1.        ,   4.        ,   2.66666667]])"
            ]
          },
          "metadata": {},
          "execution_count": 19
        }
      ]
    },
    {
      "cell_type": "code",
      "source": [
        "## Generalizacion del anterior codigo\n",
        "\n",
        "## Esta funcion recibe la matriz M, que se le va a operar R1 : a*R1 + b*R2\n",
        "## Es decir, el segundo argumento de la funcion sera la fila donde se haran las operaciones, multiplicadas por cierto escalar.\n",
        "\n",
        "def sum_filas_escalar(M,R1,R2,a,b):\n",
        "  R1 = R1-1\n",
        "  R2 = R2-1\n",
        "  B = np.copy(M)\n",
        "  B[R1] = a*M[R1]+b*M[R2]\n",
        "  return B\n",
        "\n",
        "A,sum_filas_escalar(A,1,2,1,-5)"
      ],
      "metadata": {
        "colab": {
          "base_uri": "https://localhost:8080/"
        },
        "id": "qFq1Vy7zxE7u",
        "outputId": "e8d9982f-46d2-4e37-9a9d-5aff85698acd"
      },
      "execution_count": 20,
      "outputs": [
        {
          "output_type": "execute_result",
          "data": {
            "text/plain": [
              "(matrix([[1.        , 1.        , 1.        , 2.        ],\n",
              "         [4.        , 1.        , 2.        , 2.        ],\n",
              "         [5.        , 1.        , 4.        , 2.66666667]]),\n",
              " array([[-19.        ,  -4.        ,  -9.        ,  -8.        ],\n",
              "        [  4.        ,   1.        ,   2.        ,   2.        ],\n",
              "        [  5.        ,   1.        ,   4.        ,   2.66666667]]))"
            ]
          },
          "metadata": {},
          "execution_count": 20
        }
      ]
    },
    {
      "cell_type": "code",
      "source": [
        "## Esta funcion multiplica la fila R1, de la matriz M, por un escalar a.\n",
        "def mul_escalar(M,R1,a):\n",
        "  R1 = R1-1\n",
        "  B = np.copy(M)\n",
        "  B[R1] = a*M[R1]\n",
        "  return B\n",
        "\n",
        "A,mul_escalar(A,2,a)\n"
      ],
      "metadata": {
        "colab": {
          "base_uri": "https://localhost:8080/"
        },
        "id": "o9kYikHCyUST",
        "outputId": "5697af3f-c210-4692-8f8b-694267629f92"
      },
      "execution_count": 21,
      "outputs": [
        {
          "output_type": "execute_result",
          "data": {
            "text/plain": [
              "(matrix([[1.        , 1.        , 1.        , 2.        ],\n",
              "         [4.        , 1.        , 2.        , 2.        ],\n",
              "         [5.        , 1.        , 4.        , 2.66666667]]),\n",
              " array([[ 1.        ,  1.        ,  1.        ,  2.        ],\n",
              "        [20.        ,  5.        , 10.        , 10.        ],\n",
              "        [ 5.        ,  1.        ,  4.        ,  2.66666667]]))"
            ]
          },
          "metadata": {},
          "execution_count": 21
        }
      ]
    },
    {
      "cell_type": "code",
      "source": [
        "## Esta funcion me intercambia dos filas de posicion.\n",
        "## Es decir, la fila R1 la intercambia por la fila R2\n",
        "\n",
        "def intercambio(M,R1,R2):\n",
        "  R1 = R1-1\n",
        "  R2 = R2-1\n",
        "  B = np.copy(M)\n",
        "  B[R1] = M[R2]\n",
        "  B[R2] = M[R1]\n",
        "  return B\n",
        "\n",
        "A,intercambio(A,3,1)\n"
      ],
      "metadata": {
        "colab": {
          "base_uri": "https://localhost:8080/"
        },
        "id": "NcZXp2qbrpC6",
        "outputId": "53cc22d1-8bab-4ce6-9df9-b8f2da89b8b8"
      },
      "execution_count": 22,
      "outputs": [
        {
          "output_type": "execute_result",
          "data": {
            "text/plain": [
              "(matrix([[1.        , 1.        , 1.        , 2.        ],\n",
              "         [4.        , 1.        , 2.        , 2.        ],\n",
              "         [5.        , 1.        , 4.        , 2.66666667]]),\n",
              " array([[5.        , 1.        , 4.        , 2.66666667],\n",
              "        [4.        , 1.        , 2.        , 2.        ],\n",
              "        [1.        , 1.        , 1.        , 2.        ]]))"
            ]
          },
          "metadata": {},
          "execution_count": 22
        }
      ]
    },
    {
      "cell_type": "code",
      "source": [
        "## Vamos a realizar gauss jordan para la matriz dada A.\n",
        "\n",
        "\n",
        "H = sum_filas_escalar(A,3,2,1,-1)\n",
        "H = sum_filas_escalar(H,2,3,1,-1)\n",
        "H = mul_escalar(H,3,0.5)\n",
        "H = sum_filas_escalar(H,1,2,1,-1)\n",
        "H = sum_filas_escalar(H,1,3,1,-1)\n",
        "sp.Matrix(H)"
      ],
      "metadata": {
        "colab": {
          "base_uri": "https://localhost:8080/",
          "height": 78
        },
        "id": "lL0_W1o8sE8B",
        "outputId": "50954b62-df42-463b-9346-b3d4b0ebe4ac"
      },
      "execution_count": 23,
      "outputs": [
        {
          "output_type": "execute_result",
          "data": {
            "text/plain": [
              "Matrix([\n",
              "[-2.5,   0,   0, 0.333333333333333],\n",
              "[ 3.0, 1.0,   0,  1.33333333333333],\n",
              "[ 0.5,   0, 1.0, 0.333333333333333]])"
            ],
            "text/latex": "$\\displaystyle \\left[\\begin{matrix}-2.5 & 0 & 0 & 0.333333333333333\\\\3.0 & 1.0 & 0 & 1.33333333333333\\\\0.5 & 0 & 1.0 & 0.333333333333333\\end{matrix}\\right]$"
          },
          "metadata": {},
          "execution_count": 23
        }
      ]
    },
    {
      "cell_type": "code",
      "source": [
        "4/3"
      ],
      "metadata": {
        "colab": {
          "base_uri": "https://localhost:8080/"
        },
        "id": "ot52u1V66vUp",
        "outputId": "2614fabe-f2e5-4ec5-caa1-f08ddd27919f"
      },
      "execution_count": 24,
      "outputs": [
        {
          "output_type": "execute_result",
          "data": {
            "text/plain": [
              "1.3333333333333333"
            ]
          },
          "metadata": {},
          "execution_count": 24
        }
      ]
    },
    {
      "cell_type": "code",
      "source": [
        "A = np.array(A)\n",
        "\n",
        "\n",
        "x = sp.Symbol(\"x\")\n",
        "\n",
        "A\n",
        "resul = sp.solve(x*A[1][0]-A[0][0],x)\n",
        "\n",
        "## Aqui vemos como resolver un sistema de ecuaciones"
      ],
      "metadata": {
        "id": "3DjB1t-S0ncM"
      },
      "execution_count": 25,
      "outputs": []
    },
    {
      "cell_type": "code",
      "source": [
        "A1 = np.array([[5,3,-4,1],\n",
        "              [2,5,-10,2],\n",
        "              [5,2,9,3]\n",
        "\n",
        "              ])\n"
      ],
      "metadata": {
        "id": "OtdyfFyF-Er3"
      },
      "execution_count": 30,
      "outputs": []
    },
    {
      "cell_type": "code",
      "source": [
        "\n",
        "def gauss_jordan(M):\n",
        "  x = sp.Symbol(\"x\")\n",
        "  B = np.copy(M)\n",
        "  if M[0][0] !=0:\n",
        "    if M[1][0] !=0:\n",
        "      resul = sp.solve(x*M[0][0]-M[1][0],x)\n",
        "      resul = float(resul[0])\n",
        "      M = sum_filas_escalar(M,2,1,1,-resul)\n",
        "    if M[2][0] !=0:\n",
        "      resul = sp.solve(x*M[0][0]-M[2][0],x)\n",
        "      resul = float(resul[0])\n",
        "      M = sum_filas_escalar(M,3,1,1,-resul)\n",
        "  if M[0][0] == 0 and M[1][0] !=0:\n",
        "    M = intercambio(M,1,2)\n",
        "    if M[2][0] !=0:\n",
        "      resul = sp.solve(x*M[0][0]-M[2][0],x)\n",
        "      resul = float(resul[0])\n",
        "      M = sum_filas_escalar(M,3,1,1,-resul)\n",
        "  if M[0][0] == 0 and M[1][0] ==0:\n",
        "    M = intercambio(M,1,3)\n",
        "  if M[1][1] != 0 and M[2][1] !=0:\n",
        "    resul = sp.solve(x*M[1][1]-M[2][1],x)\n",
        "    resul = float(resul[0])\n",
        "    M = sum_filas_escalar(M,3,2,1,-resul)\n",
        "  if M[1][1] == 0 and M[2][1] !=0:\n",
        "    M = intercambio(M,2,3)\n",
        "  return M\n",
        "\n",
        "\n",
        "\n",
        "\n",
        "def solution(M):\n",
        "  C = sp.solve(x*M[2][2]-M[2][3],x)\n",
        "  C = float(C[0])\n",
        "  B = sp.solve(x*M[1][1]+M[1][2]*C-M[1][3],x)\n",
        "  B = float(B[0])\n",
        "  A = sp.solve(x*M[0][0]+M[0][1]*B+M[0][2]*C-M[0][3],x)\n",
        "  A = float(A[0])\n",
        "  return A,B,C\n",
        "\n",
        "\n"
      ],
      "metadata": {
        "id": "riYJuNxc8fmf"
      },
      "execution_count": 31,
      "outputs": []
    },
    {
      "cell_type": "code",
      "source": [
        "print(gauss_jordan(A1))\n",
        "print(solution(gauss_jordan(A1)))"
      ],
      "metadata": {
        "colab": {
          "base_uri": "https://localhost:8080/"
        },
        "id": "OmuEDGJKD61-",
        "outputId": "98525f0c-6875-42c2-bcab-fc228be6ca34"
      },
      "execution_count": 32,
      "outputs": [
        {
          "output_type": "stream",
          "name": "stdout",
          "text": [
            "[[ 5  3 -4  1]\n",
            " [ 0  3 -8  1]\n",
            " [ 0  0 10  2]]\n",
            "(-0.16, 0.8666666666666667, 0.2)\n"
          ]
        }
      ]
    },
    {
      "cell_type": "code",
      "source": [],
      "metadata": {
        "id": "Iy1Fd5mu8B_E"
      },
      "execution_count": 14,
      "outputs": []
    }
  ]
}