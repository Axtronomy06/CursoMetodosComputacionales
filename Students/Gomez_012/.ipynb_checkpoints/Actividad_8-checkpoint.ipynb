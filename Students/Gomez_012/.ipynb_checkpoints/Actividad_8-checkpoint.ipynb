{
 "cells": [
  {
   "cell_type": "markdown",
   "metadata": {
    "id": "T4bwBxUQu2x-"
   },
   "source": [
    "# Deducción de la formula general del trapecio.\n",
    "Sea $f(x)$ una función tal que $f \\in C[a,b]$, por lo tanto se puede garantizar la convergencia de:\n",
    "\\begin{equation}\n",
    "\\int_{a}^{b}f(x)dx\n",
    "\\end{equation}\n",
    "No obstante, no se puede determinar la antiderivada en terminos de funciones elementales, o por lo menos no es sencillo de hacer. Por ende, se busca realizar aquella integral dependiendo únicamente de $f(x)$, para lo cual, aproximamos la función $f(x)$ mediante un polinomio $p_{n}(x)$, el cual siempre podemos hallar su integral en terminos de funciónes elementales, entonces:\n",
    "\\begin{equation}\n",
    "\\int_{a}^{b}f(x) = \\int_{a}^{b}p_{n}(x)\n",
    "\\end{equation}\n",
    "Donde, $p_{n}(x)$ se define únicamente para los puntos $\\left\\{a,b \\right\\}$, por ende, $p_{n}(x) = f(x_{0})ℒ_{0}(x) + f(x_{1})ℒ_{1}(x)$ y $ℒ_{i}(x) =  \\prod_{j=0,j\\neq i }^{n}\\frac{(x-x_{j})}{(x_{i}-x_{j})}$, que en nuestro caso:\n",
    "\\begin{equation}\n",
    "ℒ_{0}(x) = \\frac{x-x_{1}}{x_{0}-x_{1}}\n",
    "\\end{equation}\n",
    "\\begin{equation}\n",
    "ℒ_{1}(x) = \\frac{x-x_{0}}{x_{1}-x_{0}}\n",
    "\\end{equation}\n",
    "Así tenemos que aquella integral se convierte en:\n",
    "\\begin{equation}\n",
    "\\int_{a}^{b}f(x)dx = \\int_{a}^{b}(f(x_{0})\\frac{x-x_{1}}{x_{0}-x_{1}} + f(x_{1})\\frac{x-x_{0}}{x_{1}-x_{0}}) dx\n",
    "\\end{equation}\n",
    "Realizando algunas cuentas y teniendo presente que $x_{0} = a$, $x_{1}= b$ y $h = b-a$, se obtiene que:\n",
    "\\begin{equation}\n",
    "\\int_{a}^{b}f(x)dx = \\frac{h}{2}[f(a) + f(b)]\n",
    "\\end{equation}\n",
    "Para determinar su respectivo error debemos recordar que el error asociada al polinomio $p_{n}(x)$ viene dado por la ecuación:\n",
    "\\begin{equation}\n",
    "E(x) = \\frac{f^{n+1}(\\alpha(x))}{(n+1)!}\\prod_{i = 0}^{n}(x-x_{i})\n",
    "\\end{equation}\n",
    "Aquella ecuación indica que  $∀x\\in[a,b]$ existe un $\\alpha(x)$ tal que el error de la aproximación del polinomio para la función evaluada en aquel valor, viene dada por la ecuación anterior. En nuestro caso para dos puntos tenemos que:\n",
    "\\begin{equation}\n",
    "E(x) = \\frac{f^{(2)}(\\alpha(x))}{2}(x-x_{0})(x-x_{1})\n",
    "\\end{equation}\n",
    "Consecuentemente el arrox al aproximar una integral por dos puntos sería:\n",
    "\\begin{equation}\n",
    "\\int_{a}^{b}f(x)dx = \\int_{a}^{b}(p_{n}(x) + E(x))dx\n",
    "\\end{equation}\n",
    "\\begin{equation}\n",
    "\\int_{a}^{b}f(x)dx = \\int_{a}^{b}p_{n}(x)dx + \\int_{a}^{b}E(x)dx\n",
    "\\end{equation}\n",
    "\\begin{equation}\n",
    "\\int_{a}^{b}f(x)dx - \\frac{h}{2}(f(a)+f(b)) = \\int_{a}^{b}E(x)dx\n",
    "\\end{equation}\n",
    "\\begin{equation}\n",
    "\\int_{a}^{b}f(x)dx - \\frac{h}{2}(f(a)+f(b)) = \\int_{a}^{b}\\frac{f''(\\alpha(x))}{2}(x-x_{0})(x-x_{1})dx\n",
    "\\end{equation}\n",
    "Para resolver aquella integral debemos considerar el teorema de valor medio de las integrales.\n",
    "Este teorema indica que si $f(x)\\in C[a,b]$,la integral de $g(x)$ se encuentra bien definida en aquel intervalo y $g(x)$ no cambia de signo en el intervalo, entonces existe un único $\\beta$, tal que:\n",
    "\\begin{equation}\n",
    "\\int_{a}^{b}f(x)g(x)dx = f(\\beta)\\int_{a}^{b}g(x)dx\n",
    "\\end{equation}\n",
    "De ese modo, si en la integral del error definimos $g(x) := (x-x_{0})(x-x_{1})$. La cual, siempre toma valores negativos en el intervalo $[a,b]$ y claramente su integral está bien definida por ser un polinomio, se obtiene:\n",
    "\\begin{equation}\n",
    "\\int_{a}^{b}\\frac{f''(\\alpha(x))}{2}(x-x_{0})(x-x_{1})dx = \\frac{f''(\\beta)}{2}\\int_{a}^{b}(x-x_{0})(x-x_{1})dx\n",
    "\\end{equation}\n",
    "Luego de unas cuentas el resultado es:\n",
    "\\begin{equation}\n",
    "\\int_{a}^{b}\\frac{f''(\\alpha(x))}{2}(x-x_{0})(x-x_{1})dx = -\\frac{f''(\\beta)h^{3}}{12}\n",
    "\\end{equation}\n",
    "Así:\n",
    "\\begin{equation}\n",
    "\\int_{a}^{b}f(x)dx=  \\frac{h}{2}(f(a)+f(b)) -\\frac{f''(\\beta) h^{3}}{12}\n",
    "\\end{equation}\n"
   ]
  },
  {
   "cell_type": "markdown",
   "metadata": {
    "id": "5pWb1Dpi5Y5R"
   },
   "source": [
    "# Deducción de la formula general del trapecio compuesta.\n",
    "En la anterior deducción se observa que el error depende del termino cubico $h^{3}$, donde $h$ es el ancho del intervalo. De ese modo si el intervalo $[a,b]$ es de un ancho considerable $h>1$ aquel error es grande. Para solucionar este problema se busca recortar aquel intervalo en $n$ subconjuntos, es decir, $h = \\frac{b-a}{n}$. Donde, a cada subintervalo podemos realizar el método del trapecio. De ese modo:\n",
    "\\begin{equation}\n",
    "\\int_{a}^{b}f(x)dx = \\int_{x_{1}}^{x_{2}}p_{n}(x)dx + \\int_{x_{2}}^{x_{3}}p_{n}(x)dx \\cdots \\int_{x_{n-1}}^{x_{n}}p_{n}(x)dx\n",
    "\\end{equation}\n",
    "\\begin{equation}\n",
    "\\int_{a}^{b}f(x)dx = \\frac{h}{2}[f(x_{0})+f(x_{1})] - \\frac{f''(\\beta_{1})h^{3}}{12} + \\frac{h}{2}[f(x_{1})+f(x_{2})] - \\frac{f''(\\beta_{2})h^{3}}{12}  \\cdots \\frac{h}{2}[f(x_{n-1})+f(x_{n})] - \\frac{f''(\\beta_{n})h^{3}}{12}\n",
    "\\end{equation}\n",
    "Lo cual puede ser representado como:\n",
    "\\begin{equation}\n",
    "\\int_{a}^{b}f(x)dx = \\frac{h}{2}[f(x_{0})+f(x_{n}) + 2\\sum_{i = 1}^{n-1}f(x_{i})] - \\frac{h^{3}}{12}\\sum_{i = 1}^{n}f''(\\beta_{i})\n",
    "\\end{equation}\n",
    "Aquí cabe mencionar algo importante.  Como $f(x)\\in C^{2}[a,b]$, se tiene que la segunda derivada es constante en el intervalo $[a,b]$, por ende, se puede garantizar que en aquel intervalo siempre hay un mínimo y máximo local, por lo tanto existen dos números $m,M$ tal que:\n",
    "\\begin{equation}\n",
    " m\\leqslant f''(x)\\leqslant M \\\\\n",
    " \\forall x\\in [a,b]\n",
    "\\end{equation}\n",
    "Considerando los valores $\\beta_{i}, i = 1,\\cdots,n$ tenemos que:\n",
    "\\begin{equation}\n",
    "m\\leqslant f''(\\beta_{1})\\leqslant M, m\\leqslant f''(\\beta_{2})\\leqslant M, \\cdots, m\\leqslant f''(\\beta_{n})\\leqslant M\n",
    "\\end{equation}\n",
    "Sumando todas estas expresiones:\n",
    "\\begin{equation}\n",
    "\\sum_{i = 1}^{n}m \\leqslant \\sum_{i = 1}^{n}f''(\\beta_{i}) \\leqslant \\sum_{i = 1}^{n}M\n",
    "\\end{equation}\n",
    "\\begin{equation}\n",
    "nm \\leqslant \\sum_{i = 1}^{n}f''(\\beta_{i}) \\leqslant nM\n",
    "\\end{equation}\n",
    "\\begin{equation}\n",
    "m \\leqslant \\frac{1}{n}\\sum_{i = 1}^{n}f''(\\beta_{i}) \\leqslant M\n",
    "\\end{equation}\n",
    "Demostrando así que aquella sumatoria nuevamente queda delimitada en el intervalo $[m,M]$ de la imagen de la segunda derivada, por el teorema del valor intermedio se garantiza la existencia de un $\\xi$ tal que:\n",
    "\\begin{equation}\n",
    "f''(\\xi) = \\frac{1}{n}\\sum_{i = 1}^{n}f''(\\beta_{i}) ⟺f''(\\xi) n =\\frac{1}{n}\\sum_{i = 1}^{n}f''(\\beta_{i})\n",
    "\\end{equation}\n",
    "Considerando este resultado, tenemos que el valor de la integral mediante el metódo compuesto sería:\n",
    "\\begin{equation}\n",
    "\\int_{a}^{b}f(x)dx = \\frac{h}{2}[f(x_{0})+f(x_{n}) + 2\\sum_{i = 1}^{n-1}f(x_{i})] - \\frac{h^{3}}{12}f''(\\xi) n\n",
    "\\end{equation}\n",
    "\\begin{equation}\n",
    "\\int_{a}^{b}f(x)dx = \\frac{h}{2}[f(x_{0})+f(x_{n}) + 2\\sum_{i = 1}^{n-1}f(x_{i})] - \\frac{h^{2}(b-a)}{12}f''(\\xi)  \n",
    "\\end{equation}\n",
    "Si $h→0$(el ancho de cada subintervalo es muy pequeño, al tener muchos intervalos), entonces:\n",
    "\\begin{equation}\n",
    "\\int_{a}^{b}f(x) \\approx \\frac{h}{2}[f(x_{0})+f(x_{n}) + 2\\sum_{i = 1}^{n-1}f(x_{i})]\n",
    "\\end{equation}\n",
    "\n",
    "\n"
   ]
  },
  {
   "cell_type": "code",
   "execution_count": 1,
   "metadata": {
    "id": "RPq31tK5CBHj"
   },
   "outputs": [],
   "source": [
    "import numpy as np\n",
    "import sympy as sp\n",
    "import matplotlib.pyplot as plt\n",
    "import scipy.integrate as intg\n",
    "import scipy.optimize as sc"
   ]
  },
  {
   "cell_type": "code",
   "execution_count": 2,
   "metadata": {
    "colab": {
     "base_uri": "https://localhost:8080/"
    },
    "id": "sUKuY3h8uypy",
    "outputId": "df1f9716-d16b-4f49-c69f-492347b68d9f"
   },
   "outputs": [
    {
     "name": "stdout",
     "output_type": "stream",
     "text": [
      "18.0\n",
      "18.0\n"
     ]
    }
   ],
   "source": [
    "## Está función calcula la integral mediante la regla trapecio para el caso simple.\n",
    "## Su entrada viene dado por la función, y el intervalo [a,b] donde se desea integrar\n",
    "def integral_trapz_simple(f,a,b):\n",
    "  h = b-a\n",
    "  T1 = h/2\n",
    "  T2 = f(a) + f(b)\n",
    "  value = T1 * T2\n",
    "  return value\n",
    "f = lambda y : y ** 3 + 5\n",
    "a,b = 0,2\n",
    "x1 = np.array([a,b])\n",
    "y = f(x1)\n",
    "\n",
    "print(integral_trapz_simple(f,a,b))\n",
    "print(intg.trapezoid(y,x1))\n"
   ]
  },
  {
   "cell_type": "code",
   "execution_count": 3,
   "metadata": {
    "colab": {
     "base_uri": "https://localhost:8080/"
    },
    "id": "hebc1cFkD7-_",
    "outputId": "04246f66-50e1-42e2-fb78-48071c4cae2f"
   },
   "outputs": [
    {
     "name": "stdout",
     "output_type": "stream",
     "text": [
      "11.47265625\n",
      "7.548828125\n"
     ]
    }
   ],
   "source": [
    "## Está función me calcula la integral mediante la regla del trapecio compuesta\n",
    "## Sus entradas es la función f a integrar, el intervalo [a,b] y n, la cantidad de puntos que se\n",
    "## discretizar el intervalo.\n",
    "def integral_tapz_compuesta(f,a,b,n):\n",
    "  h = (b-a) / n\n",
    "  T1 = h / 2\n",
    "  ## vamos a calcular 2 * \\sum_{i = 1}^{n-1}f(x_{i})\n",
    "  sum = 0\n",
    "  for i in range(1,n-1,1):\n",
    "    x_i = a + h*i\n",
    "    val = f(x_i)\n",
    "    sum = sum + val\n",
    "  T2 = f(a) + f(b) + 2 * sum\n",
    "  value = T1 * T2\n",
    "  return value\n",
    "\n",
    "n = 8\n",
    "h = (b-a)/n\n",
    "x2 = np.zeros(n-2)\n",
    "j = 0\n",
    "for i in range(1,n-1,1):\n",
    "  x2[j] = a + h*i\n",
    "  j+=1\n",
    "y2 = f(x2)\n",
    "print(integral_tapz_compuesta(f,a,b,n))\n",
    "print(intg.trapezoid(f(x2),x2,8))\n",
    "\n",
    "\n",
    "\n"
   ]
  },
  {
   "cell_type": "code",
   "execution_count": 10,
   "metadata": {
    "id": "lKKq9Sr0Cos-"
   },
   "outputs": [],
   "source": [
    "### En este caso, vamos a definir una función para determinar la cantidad de iteraciones necesarias\n",
    "### recibe como parametros (df2po,df2ne,a,b,epsilon)\n",
    "### aquello sería la segunda derivada de la función f, la primera positiva, la segunda multiplicada por un menos.\n",
    "### para tener cierta precisión indicada, para el intervalo [a,b]\n",
    "### En este caso se debe buscar el máximo de la función df2 en el intervalo [a,b]\n",
    "def iteraciones(df2po,df2ne,a,b,epsilon):\n",
    "  ## vamos a buscar el máximo de la función df2 en el intervalo [a,b]\n",
    "  x_max = sc.fmin_powell(df2ne, a)\n",
    "  ## aquella función sc.fmin_powell me está indicando la ubicación del maximo de la funció, que debe ser evaluado.\n",
    "  val = df2po(x_max)\n",
    "  T1 = (b-a) ** 3\n",
    "  T2 = -1 / (12 * epsilon)\n",
    "  n = np.sqrt(abs(T1 * T2 * val))\n",
    "  return int(n)\n",
    "\n"
   ]
  },
  {
   "cell_type": "code",
   "execution_count": 13,
   "metadata": {
    "id": "4XGzBmWTFHHD"
   },
   "outputs": [],
   "source": [
    "### Ejemplo especifico de la clase.\n",
    "x3 = np.linspace(0,2,200)\n",
    "x = sp.Symbol(\"x\")\n",
    "g = ((x-1)**2 * sp.sin(x))/3 + 1\n",
    "dg2 = sp.diff(g,x,2)\n",
    "dg3 = -1 * dg2\n",
    "g = sp.lambdify(x,g,\"numpy\")\n",
    "dg2 = sp.lambdify(x,dg2,\"numpy\")\n",
    "dg3 = sp.lambdify(x,dg3,\"numpy\")"
   ]
  },
  {
   "cell_type": "code",
   "execution_count": 14,
   "metadata": {
    "colab": {
     "base_uri": "https://localhost:8080/",
     "height": 625
    },
    "id": "zC040hrpN3g2",
    "outputId": "622b25c2-d81b-4a25-f1aa-b7b1a55d853d"
   },
   "outputs": [
    {
     "data": {
      "text/plain": [
       "<Figure size 640x480 with 0 Axes>"
      ]
     },
     "metadata": {},
     "output_type": "display_data"
    },
    {
     "data": {
      "image/png": "[encoded data removed]",
      "text/plain": [
       "<Figure size 800x600 with 2 Axes>"
      ]
     },
     "metadata": {},
     "output_type": "display_data"
    }
   ],
   "source": [
    "plt.figure()\n",
    "fig, ax = plt.subplots(1,2,figsize = (8,6))\n",
    "ax[0].plot(x3,g(x3), color = \"blue\", label = r\"$\\frac{(x-1)^{2}sin(x)}{3} + 1$\")\n",
    "ax[0].grid(True, ls = \"dashed\")\n",
    "ax[0].set_xlabel(\"x\")\n",
    "ax[0].set_ylabel(\"y\")\n",
    "ax[0].set_title(\"f(x)\")\n",
    "ax[0].legend()\n",
    "ax[1].plot(x3,dg2(x3), color = \"red\", label = r\"$\\frac{-(x-1)^{2}sin(x)+4(x-1)cos(x)+2sin(x)}{3}$\")\n",
    "ax[1].grid(True, ls = \"dashed\")\n",
    "ax[1].set_xlabel(\"x\")\n",
    "ax[1].set_ylabel(\"y\")\n",
    "ax[1].set_title(\"f''(x)\")\n",
    "ax[1].legend()\n",
    "plt.tight_layout()\n",
    "plt.show()"
   ]
  },
  {
   "cell_type": "code",
   "execution_count": 15,
   "metadata": {
    "colab": {
     "base_uri": "https://localhost:8080/"
    },
    "id": "vxXE_YiwObnD",
    "outputId": "2a3ad5b7-e715-4989-d29c-54ddf54b1a3e"
   },
   "outputs": [
    {
     "name": "stdout",
     "output_type": "stream",
     "text": [
      "Optimization terminated successfully.\n",
      "         Current function value: -0.720789\n",
      "         Iterations: 2\n",
      "         Function evaluations: 19\n",
      "2.014461795920578\n",
      "1.7982096621950552\n"
     ]
    }
   ],
   "source": [
    "\n",
    "N = iteraciones(dg2,dg3,a,b,1E-3)\n",
    "N\n",
    "n = N\n",
    "h = (b-a)/n\n",
    "x2 = np.zeros(n-2)\n",
    "j = 0\n",
    "for i in range(1,n-1,1):\n",
    "  x2[j] = a + h*i\n",
    "  j+=1\n",
    "y2 = g(x2)\n",
    "print(integral_tapz_compuesta(g,a,b,N))\n",
    "print(intg.trapezoid(g(x2),x2))"
   ]
  },
  {
   "cell_type": "code",
   "execution_count": 16,
   "metadata": {
    "colab": {
     "base_uri": "https://localhost:8080/"
    },
    "id": "SAp63C-F8Mjp",
    "outputId": "a8771465-d384-4c0c-c12a-86edee05c491"
   },
   "outputs": [
    {
     "data": {
      "text/plain": [
       "2.6666666666666665"
      ]
     },
     "execution_count": 16,
     "metadata": {},
     "output_type": "execute_result"
    }
   ],
   "source": [
    "## Esta función me permite calcular la integral usando la regla de simpsom.\n",
    "def simpson(f,a,b):\n",
    "  h = b-a\n",
    "  T1 = h / 6\n",
    "  T2 = f(a) + 4 * f( (a+b)/2 ) + f(b)\n",
    "  intg = T1 * T2\n",
    "  return intg\n",
    "\n",
    "p = lambda x : x ** 2\n",
    "simpson(p,a,b)\n",
    "\n",
    "\n",
    "\n"
   ]
  },
  {
   "cell_type": "code",
   "execution_count": 18,
   "metadata": {
    "colab": {
     "base_uri": "https://localhost:8080/"
    },
    "id": "rOxchvtEBL0e",
    "outputId": "0955093c-3b43-4fa5-f0b1-b598016cced9"
   },
   "outputs": [
    {
     "name": "stdout",
     "output_type": "stream",
     "text": [
      "2.1121477630568983\n",
      "2.1223082439817595\n",
      "2.13414933903474\n"
     ]
    }
   ],
   "source": [
    "\n",
    "### Aquí vamos a calcular todos los valores del intervalo.\n",
    "def intervalo(a,b,n):\n",
    "  h = (b-a)/n\n",
    "  x_i = np.zeros(n)\n",
    "  for i in range(n):\n",
    "    x_i[i] = a + i * h\n",
    "  return x_i\n",
    "\n",
    "\n",
    "## esta función retorna dos numpy array, a partir de un array ingresado.\n",
    "\n",
    "def par_impar(x):\n",
    "  par = list()\n",
    "  impar = list()\n",
    "  for i in range(len(x)):\n",
    "    if i%2 == 0:\n",
    "      par.append(x[i])\n",
    "    else:\n",
    "      impar.append(x[i])\n",
    "  par,impar = np.array(par),np.array(impar)\n",
    "  return par,impar\n",
    "\n",
    "\n",
    "### Método de simpson compuesta.\n",
    "\n",
    "def simpson_comp(f,a,b,n):\n",
    "  sum_1 = 0\n",
    "  sum_2 = 0\n",
    "  if n%2 !=0:\n",
    "    N = n + 1\n",
    "  else:\n",
    "    N = n\n",
    "  x_i = intervalo(a,b,N)\n",
    "  par,impar = par_impar(x_i)\n",
    "  h = (b-a)/N\n",
    "  for i in range(1,int((N/2)-1),1): ## realizar la sumatorias manualmente con un ciclo for.\n",
    "    sum_1 = sum_1 + f(par[i])\n",
    "  for i in range(1,int(N/2),1):\n",
    "    sum_2 = sum_2 + f(impar[i])\n",
    "  T1 = h/3\n",
    "  T2 = f(a) + f(b) + 4 * sum_2 + 2 * sum_1\n",
    "  val = T1 * T2\n",
    "  return val\n",
    "\n",
    "def simpson_comp2(f,a,b,n):\n",
    "  if n%2 !=0:\n",
    "    N = n + 1\n",
    "  else:\n",
    "    N = n\n",
    "  x_ = np.linspace(a,b,N)\n",
    "  par = x_[2 : N - 2 : 2]\n",
    "  impar = x_[1 : N-1 : 2]\n",
    "  h = (b-a)/N\n",
    "  T1 = h / 3\n",
    "  T2 = f(a) + f(b) + 2 * f(par).sum() + 4 * f(impar).sum()\n",
    "  val = T1 * T2\n",
    "  return val\n",
    "\n",
    "\n",
    "\n",
    "print(simpson_comp(g,0,2,200))\n",
    "\n",
    "print(simpson_comp2(g,0,2,400))\n",
    "\n",
    "print(intg.quad(g,0,2)[0])"
   ]
  },
  {
   "cell_type": "code",
   "execution_count": 9,
   "metadata": {
    "id": "ksTYmFgG99Z9"
   },
   "outputs": [],
   "source": []
  },
  {
   "cell_type": "markdown",
   "metadata": {
    "id": "vAYAtZjd4qn_"
   },
   "source": [
    "## Reto.\n",
    "\\begin{equation}\n",
    "\\int_{0}^{∞}cos(xe^{x})dx\n",
    "\\end{equation}"
   ]
  },
  {
   "cell_type": "code",
   "execution_count": 9,
   "metadata": {
    "id": "zWeUcRbLegUJ"
   },
   "outputs": [],
   "source": []
  }
 ],
 "metadata": {
  "colab": {
   "provenance": []
  },
  "kernelspec": {
   "display_name": "Python 3 (ipykernel)",
   "language": "python",
   "name": "python3"
  },
  "language_info": {
   "codemirror_mode": {
    "name": "ipython",
    "version": 3
   },
   "file_extension": ".py",
   "mimetype": "text/x-python",
   "name": "python",
   "nbconvert_exporter": "python",
   "pygments_lexer": "ipython3",
   "version": "3.10.9"
  }
 },
 "nbformat": 4,
 "nbformat_minor": 1
}
