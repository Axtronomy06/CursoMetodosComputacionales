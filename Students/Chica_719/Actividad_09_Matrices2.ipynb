{
  "cells": [
    {
      "cell_type": "markdown",
      "metadata": {
        "id": "VNjfAn0uKvRd"
      },
      "source": [
        "<a href=\"https://colab.research.google.com/github/hernansalinas/autogrades/blob/main/Actividades_clase/Actividad_09_Matrices2.ipynb\" target=\"_parent\"><img src=\"https://colab.research.google.com/assets/colab-badge.svg\" alt=\"Open In Colab\"/></a>"
      ]
    },
    {
      "cell_type": "code",
      "execution_count": 2,
      "metadata": {
        "id": "LGEtqLJlw2eb"
      },
      "outputs": [],
      "source": [
        "import numpy as np\n",
        "import pandas as pd\n",
        "import sympy as sy\n",
        "import matplotlib.pyplot as plt\n"
      ]
    },
    {
      "cell_type": "markdown",
      "metadata": {
        "id": "wtJNu-2mLSsV"
      },
      "source": [
        "# Arreglos de numpy"
      ]
    },
    {
      "cell_type": "code",
      "execution_count": null,
      "metadata": {
        "colab": {
          "base_uri": "https://localhost:8080/"
        },
        "id": "97ecIcqMhbru",
        "outputId": "078dd32f-0bbb-4561-9e64-43baf1fe7372"
      },
      "outputs": [
        {
          "output_type": "execute_result",
          "data": {
            "text/plain": [
              "array([[28, 24, 42, 48, 12,  7],\n",
              "       [53,  8,  0, 40, 48,  3],\n",
              "       [54, 52, 11, 25, 20, 46],\n",
              "       [ 3, 13, 45,  7, 33, 49],\n",
              "       [54, 16, 31, 48, 46, 30],\n",
              "       [16, 50, 43, 53, 46, 30]])"
            ]
          },
          "metadata": {},
          "execution_count": 3
        }
      ],
      "source": [
        "# Generemos una arreglos ndimensaionales, ¿como podemos acceder a los elementos?\n",
        "X = np.random.randint(0, 55, (6,6))\n",
        "X"
      ]
    },
    {
      "cell_type": "code",
      "execution_count": null,
      "metadata": {
        "colab": {
          "base_uri": "https://localhost:8080/"
        },
        "id": "UPZ4HVeSiAa_",
        "outputId": "ce4fcd2b-b723-4fbe-eb04-6466aa120f3a"
      },
      "outputs": [
        {
          "output_type": "execute_result",
          "data": {
            "text/plain": [
              "array([28, 24, 42, 48, 12,  7])"
            ]
          },
          "metadata": {},
          "execution_count": 4
        }
      ],
      "source": [
        "X[0]"
      ]
    },
    {
      "cell_type": "code",
      "execution_count": null,
      "metadata": {
        "colab": {
          "base_uri": "https://localhost:8080/"
        },
        "id": "FfnQsOUDibOE",
        "outputId": "90f4586c-e146-4b9e-bf3b-33faba04b498"
      },
      "outputs": [
        {
          "output_type": "execute_result",
          "data": {
            "text/plain": [
              "array([24, 42, 48])"
            ]
          },
          "metadata": {},
          "execution_count": 5
        }
      ],
      "source": [
        "X[0][1:4]"
      ]
    },
    {
      "cell_type": "code",
      "execution_count": null,
      "metadata": {
        "colab": {
          "base_uri": "https://localhost:8080/"
        },
        "id": "vkNXHb5rizs5",
        "outputId": "ac5e165a-708f-4fa8-c912-cc0bb1195e2a"
      },
      "outputs": [
        {
          "output_type": "execute_result",
          "data": {
            "text/plain": [
              "array([24, 48])"
            ]
          },
          "metadata": {},
          "execution_count": 6
        }
      ],
      "source": [
        "X[0, 1:4:2]"
      ]
    },
    {
      "cell_type": "code",
      "execution_count": null,
      "metadata": {
        "colab": {
          "base_uri": "https://localhost:8080/"
        },
        "id": "KMe75hMwletS",
        "outputId": "efb37396-44b0-4d48-90d0-9816c87e52e2"
      },
      "outputs": [
        {
          "output_type": "execute_result",
          "data": {
            "text/plain": [
              "array([[54, 11, 20],\n",
              "       [54, 31, 46]])"
            ]
          },
          "metadata": {},
          "execution_count": 7
        }
      ],
      "source": [
        "\n",
        "X[2::2,::2 ]"
      ]
    },
    {
      "cell_type": "code",
      "execution_count": null,
      "metadata": {
        "id": "hC_QTDyyM0T3"
      },
      "outputs": [],
      "source": [
        "# Permutaciones:"
      ]
    },
    {
      "cell_type": "code",
      "execution_count": null,
      "metadata": {
        "colab": {
          "base_uri": "https://localhost:8080/"
        },
        "id": "JYhVm8_TM2Tf",
        "outputId": "f60c071b-db9a-4cda-f558-dab33ef661ad"
      },
      "outputs": [
        {
          "output_type": "execute_result",
          "data": {
            "text/plain": [
              "array([[28, 24, 42, 48, 12,  7],\n",
              "       [53,  8,  0, 40, 48,  3],\n",
              "       [54, 52, 11, 25, 20, 46],\n",
              "       [ 3, 13, 45,  7, 33, 49],\n",
              "       [54, 16, 31, 48, 46, 30],\n",
              "       [16, 50, 43, 53, 46, 30]])"
            ]
          },
          "metadata": {},
          "execution_count": 9
        }
      ],
      "source": [
        "X"
      ]
    },
    {
      "cell_type": "code",
      "execution_count": null,
      "metadata": {
        "id": "m-oTG0W7M4Ku"
      },
      "outputs": [],
      "source": [
        "X[[2,1]] =X[[1,2]]"
      ]
    },
    {
      "cell_type": "code",
      "execution_count": null,
      "metadata": {
        "colab": {
          "base_uri": "https://localhost:8080/"
        },
        "id": "cc_qEzAeNdmX",
        "outputId": "a2a340c0-706c-4d9d-cba0-24390a40b395"
      },
      "outputs": [
        {
          "output_type": "execute_result",
          "data": {
            "text/plain": [
              "array([[28, 24, 42, 48, 12,  7],\n",
              "       [54, 52, 11, 25, 20, 46],\n",
              "       [53,  8,  0, 40, 48,  3],\n",
              "       [ 3, 13, 45,  7, 33, 49],\n",
              "       [54, 16, 31, 48, 46, 30],\n",
              "       [16, 50, 43, 53, 46, 30]])"
            ]
          },
          "metadata": {},
          "execution_count": 11
        }
      ],
      "source": [
        "X"
      ]
    },
    {
      "cell_type": "code",
      "execution_count": null,
      "metadata": {
        "id": "tpPPxUiULgge"
      },
      "outputs": [],
      "source": [
        "# Operaciones matriciales"
      ]
    },
    {
      "cell_type": "code",
      "execution_count": null,
      "metadata": {
        "colab": {
          "base_uri": "https://localhost:8080/"
        },
        "id": "U8snX3DpLXtp",
        "outputId": "43bc83a8-cf10-430c-bb6a-35abf22f66d7"
      },
      "outputs": [
        {
          "output_type": "execute_result",
          "data": {
            "text/plain": [
              "array([[-2. ,  1. ],\n",
              "       [ 1.5, -0.5]])"
            ]
          },
          "metadata": {},
          "execution_count": 13
        }
      ],
      "source": [
        "X=np.array([[1,2],[3,4]])\n",
        "B=np.array([[5,2],[1,4]])\n",
        "np.linalg.inv(X)"
      ]
    },
    {
      "cell_type": "code",
      "execution_count": null,
      "metadata": {
        "colab": {
          "base_uri": "https://localhost:8080/"
        },
        "id": "XwCim3VlLfKU",
        "outputId": "e2c8b36a-4b73-4b17-9dbe-cf19d7698289"
      },
      "outputs": [
        {
          "output_type": "execute_result",
          "data": {
            "text/plain": [
              "-2.0000000000000004"
            ]
          },
          "metadata": {},
          "execution_count": 14
        }
      ],
      "source": [
        "np.linalg.det(X)"
      ]
    },
    {
      "cell_type": "code",
      "execution_count": null,
      "metadata": {
        "colab": {
          "base_uri": "https://localhost:8080/"
        },
        "id": "JyXfDy4TL46a",
        "outputId": "aaf87173-8765-466b-9bed-b269dad4dd8f"
      },
      "outputs": [
        {
          "output_type": "execute_result",
          "data": {
            "text/plain": [
              "(-13+0j)"
            ]
          },
          "metadata": {},
          "execution_count": 15
        }
      ],
      "source": [
        "np.dot([2j, 3j], [2j, 3j])"
      ]
    },
    {
      "cell_type": "code",
      "execution_count": null,
      "metadata": {
        "colab": {
          "base_uri": "https://localhost:8080/"
        },
        "id": "WPC3XJLjMTvU",
        "outputId": "5ef458e9-0c49-4b97-d211-a7fb2814e73d"
      },
      "outputs": [
        {
          "output_type": "execute_result",
          "data": {
            "text/plain": [
              "array([[ 5,  4],\n",
              "       [ 3, 16]])"
            ]
          },
          "metadata": {},
          "execution_count": 16
        }
      ],
      "source": [
        "X*B"
      ]
    },
    {
      "cell_type": "code",
      "execution_count": null,
      "metadata": {
        "colab": {
          "base_uri": "https://localhost:8080/"
        },
        "id": "SXr0_TeBMf2m",
        "outputId": "f666bffb-c4cf-487a-89a0-f3bd873f855d"
      },
      "outputs": [
        {
          "output_type": "execute_result",
          "data": {
            "text/plain": [
              "array([[ 7, 10],\n",
              "       [19, 22]])"
            ]
          },
          "metadata": {},
          "execution_count": 17
        }
      ],
      "source": [
        "X@B"
      ]
    },
    {
      "cell_type": "code",
      "execution_count": null,
      "metadata": {
        "colab": {
          "base_uri": "https://localhost:8080/"
        },
        "id": "Ht4V1OxIMg40",
        "outputId": "2089e744-ad12-4c94-e431-b2659bf3e3e1"
      },
      "outputs": [
        {
          "output_type": "execute_result",
          "data": {
            "text/plain": [
              "array([[ 7, 10],\n",
              "       [19, 22]])"
            ]
          },
          "metadata": {},
          "execution_count": 18
        }
      ],
      "source": [
        "np.matmul(X,B)"
      ]
    },
    {
      "cell_type": "markdown",
      "metadata": {
        "id": "wOgkVu4yL-mp"
      },
      "source": [
        "# Algunos ejemplo\n",
        "\n",
        "```python\n",
        "import numpy as np\n",
        "\n",
        "# Producto de matrices\n",
        "A = np.array([[1, 2], [3, 4]])\n",
        "B = np.array([[5, 6], [7, 8]])\n",
        "producto = np.dot(A, B)\n",
        "\n",
        "# Determinante de una matriz\n",
        "C = np.array([[9, 2], [3, 4]])\n",
        "determinante = np.linalg.det(C)\n",
        "\n",
        "# Inversa de una matriz\n",
        "D = np.array([[2, 5], [1, 3]])\n",
        "inversa = np.linalg.inv(D)\n",
        "\n",
        "# Autovalores y autovectores\n",
        "E = np.array([[2, 0], [0, 3]])\n",
        "autovalores, autovectores = np.linalg.eig(E)\n",
        "\n",
        "# Resolución de sistemas de ecuaciones lineales\n",
        "F = np.array([[1, 1], [1, -1]])\n",
        "b = np.array([5, 1])\n",
        "solucion = np.linalg.solve(F, b)\n",
        "\n",
        "\n",
        "# Norma de un vector o matriz\n",
        "H = np.array([1, 2, 3])\n",
        "norma = np.linalg.norm(H)\n",
        "\n",
        "# Rango de una matriz\n",
        "I = np.array([[1, 2], [2, 4]])\n",
        "rango = np.linalg.matrix_rank(I)\n",
        "\n",
        "# Potencia de una matriz\n",
        "J = np.array([[1, 2], [3, 4]])\n",
        "potencia = np.linalg.matrix_power(J, 3)\n",
        "\n",
        "# Descomposición SVD\n",
        "G = np.array([[1, 2], [3, 4]])\n",
        "U, S, V = np.linalg.svd(G)\n",
        "\n",
        "\n",
        "```\n"
      ]
    },
    {
      "cell_type": "code",
      "source": [],
      "metadata": {
        "colab": {
          "base_uri": "https://localhost:8080/",
          "height": 106
        },
        "id": "LTFrS5g2NSNI",
        "outputId": "317d59f3-3a8f-41dd-e60f-256abe4defc2"
      },
      "execution_count": null,
      "outputs": [
        {
          "output_type": "error",
          "ename": "SyntaxError",
          "evalue": "invalid non-printable character U+00A0 (<ipython-input-45-7b5f5ef83b13>, line 1)",
          "traceback": [
            "\u001b[0;36m  File \u001b[0;32m\"<ipython-input-45-7b5f5ef83b13>\"\u001b[0;36m, line \u001b[0;32m1\u001b[0m\n\u001b[0;31m    import numpy as np\u001b[0m\n\u001b[0m          ^\u001b[0m\n\u001b[0;31mSyntaxError\u001b[0m\u001b[0;31m:\u001b[0m invalid non-printable character U+00A0\n"
          ]
        }
      ]
    },
    {
      "cell_type": "markdown",
      "metadata": {
        "id": "iV1bdIUxLOwM"
      },
      "source": [
        "# Matrices de numpy"
      ]
    },
    {
      "cell_type": "code",
      "execution_count": null,
      "metadata": {
        "colab": {
          "base_uri": "https://localhost:8080/"
        },
        "id": "ZoTW7RE1mDjk",
        "outputId": "4bcbc8be-63a2-4b95-fccc-7c588805e922"
      },
      "outputs": [
        {
          "output_type": "execute_result",
          "data": {
            "text/plain": [
              "numpy.matrix"
            ]
          },
          "metadata": {},
          "execution_count": 19
        }
      ],
      "source": [
        "M = np.matrix(X)\n",
        "type(M)"
      ]
    },
    {
      "cell_type": "code",
      "execution_count": null,
      "metadata": {
        "colab": {
          "base_uri": "https://localhost:8080/"
        },
        "id": "smYYFQDnmSHx",
        "outputId": "96f07705-2720-41d0-f151-e97748a5c0a1"
      },
      "outputs": [
        {
          "output_type": "execute_result",
          "data": {
            "text/plain": [
              "matrix([[ 7, 10],\n",
              "        [15, 22]])"
            ]
          },
          "metadata": {},
          "execution_count": 20
        }
      ],
      "source": [
        "M@M"
      ]
    },
    {
      "cell_type": "code",
      "execution_count": null,
      "metadata": {
        "colab": {
          "base_uri": "https://localhost:8080/"
        },
        "id": "v0j1xF0Xnu3A",
        "outputId": "e28a2b3a-3226-4456-859a-f57b945c43cc"
      },
      "outputs": [
        {
          "output_type": "execute_result",
          "data": {
            "text/plain": [
              "matrix([[1, 3],\n",
              "        [2, 4]])"
            ]
          },
          "metadata": {},
          "execution_count": 21
        }
      ],
      "source": [
        "M.T"
      ]
    },
    {
      "cell_type": "code",
      "execution_count": null,
      "metadata": {
        "colab": {
          "base_uri": "https://localhost:8080/"
        },
        "id": "jsRxH4R9mJFs",
        "outputId": "68634c3d-43b4-438e-dab6-baec989496fe"
      },
      "outputs": [
        {
          "output_type": "execute_result",
          "data": {
            "text/plain": [
              "numpy.ndarray"
            ]
          },
          "metadata": {},
          "execution_count": 22
        }
      ],
      "source": [
        "type(X)"
      ]
    },
    {
      "cell_type": "code",
      "execution_count": null,
      "metadata": {
        "colab": {
          "base_uri": "https://localhost:8080/"
        },
        "id": "I6yi4tSzmXkx",
        "outputId": "60786cb2-d19a-4e31-dbe0-bef3dcb3f2f0"
      },
      "outputs": [
        {
          "output_type": "execute_result",
          "data": {
            "text/plain": [
              "array([[1, 3],\n",
              "       [2, 4]])"
            ]
          },
          "metadata": {},
          "execution_count": 23
        }
      ],
      "source": [
        "np.transpose(X)"
      ]
    },
    {
      "cell_type": "code",
      "execution_count": null,
      "metadata": {
        "colab": {
          "base_uri": "https://localhost:8080/",
          "height": 141
        },
        "id": "XQviMu9KmhP5",
        "outputId": "986de1e3-913d-4fc7-f729-7b9dc067067f"
      },
      "outputs": [
        {
          "output_type": "error",
          "ename": "NameError",
          "evalue": "name 'symbols' is not defined",
          "traceback": [
            "\u001b[0;31m---------------------------------------------------------------------------\u001b[0m",
            "\u001b[0;31mNameError\u001b[0m                                 Traceback (most recent call last)",
            "\u001b[0;32m<ipython-input-24-0d3ce2562d18>\u001b[0m in \u001b[0;36m<cell line: 1>\u001b[0;34m()\u001b[0m\n\u001b[0;32m----> 1\u001b[0;31m \u001b[0mx\u001b[0m \u001b[0;34m=\u001b[0m \u001b[0msymbols\u001b[0m\u001b[0;34m(\u001b[0m\u001b[0;34m\"x\"\u001b[0m\u001b[0;34m)\u001b[0m\u001b[0;34m\u001b[0m\u001b[0;34m\u001b[0m\u001b[0m\n\u001b[0m",
            "\u001b[0;31mNameError\u001b[0m: name 'symbols' is not defined"
          ]
        }
      ],
      "source": [
        "x = symbols(\"x\")"
      ]
    },
    {
      "cell_type": "code",
      "execution_count": null,
      "metadata": {
        "colab": {
          "base_uri": "https://localhost:8080/",
          "height": 176
        },
        "id": "6NQ5_urmm8P5",
        "outputId": "0992b2eb-15f2-4959-a1ff-43bea6a33262"
      },
      "outputs": [
        {
          "output_type": "error",
          "ename": "NameError",
          "evalue": "name 'x' is not defined",
          "traceback": [
            "\u001b[0;31m---------------------------------------------------------------------------\u001b[0m",
            "\u001b[0;31mNameError\u001b[0m                                 Traceback (most recent call last)",
            "\u001b[0;32m<ipython-input-25-20772fa0cd2b>\u001b[0m in \u001b[0;36m<cell line: 1>\u001b[0;34m()\u001b[0m\n\u001b[0;32m----> 1\u001b[0;31m \u001b[0mY\u001b[0m \u001b[0;34m=\u001b[0m \u001b[0mnp\u001b[0m\u001b[0;34m.\u001b[0m\u001b[0marray\u001b[0m\u001b[0;34m(\u001b[0m\u001b[0;34m[\u001b[0m\u001b[0;34m[\u001b[0m\u001b[0mx\u001b[0m\u001b[0;34m**\u001b[0m\u001b[0;36m2\u001b[0m\u001b[0;34m,\u001b[0m\u001b[0msy\u001b[0m\u001b[0;34m.\u001b[0m\u001b[0msin\u001b[0m\u001b[0;34m(\u001b[0m\u001b[0mx\u001b[0m\u001b[0;34m)\u001b[0m\u001b[0;34m]\u001b[0m\u001b[0;34m,\u001b[0m\u001b[0;34m[\u001b[0m\u001b[0mx\u001b[0m\u001b[0;34m,\u001b[0m\u001b[0mx\u001b[0m\u001b[0;34m]\u001b[0m\u001b[0;34m]\u001b[0m\u001b[0;34m)\u001b[0m\u001b[0;34m\u001b[0m\u001b[0;34m\u001b[0m\u001b[0m\n\u001b[0m\u001b[1;32m      2\u001b[0m \u001b[0mq\u001b[0m \u001b[0;34m=\u001b[0m \u001b[0mMatrix\u001b[0m\u001b[0;34m(\u001b[0m\u001b[0mY\u001b[0m\u001b[0;34m)\u001b[0m\u001b[0;34m\u001b[0m\u001b[0;34m\u001b[0m\u001b[0m\n\u001b[1;32m      3\u001b[0m \u001b[0mq\u001b[0m\u001b[0;34m\u001b[0m\u001b[0;34m\u001b[0m\u001b[0m\n",
            "\u001b[0;31mNameError\u001b[0m: name 'x' is not defined"
          ]
        }
      ],
      "source": [
        "Y = np.array([[x**2,sy.sin(x)],[x,x]])\n",
        "q = Matrix(Y)\n",
        "q"
      ]
    },
    {
      "cell_type": "code",
      "execution_count": null,
      "metadata": {
        "colab": {
          "base_uri": "https://localhost:8080/",
          "height": 141
        },
        "id": "1H5elz7jnEKY",
        "outputId": "30612884-d694-4808-82b7-b38dcc63c75c"
      },
      "outputs": [
        {
          "output_type": "error",
          "ename": "NameError",
          "evalue": "name 'q' is not defined",
          "traceback": [
            "\u001b[0;31m---------------------------------------------------------------------------\u001b[0m",
            "\u001b[0;31mNameError\u001b[0m                                 Traceback (most recent call last)",
            "\u001b[0;32m<ipython-input-26-d8ad8a825ed1>\u001b[0m in \u001b[0;36m<cell line: 1>\u001b[0;34m()\u001b[0m\n\u001b[0;32m----> 1\u001b[0;31m \u001b[0mq\u001b[0m\u001b[0;34m@\u001b[0m\u001b[0mq\u001b[0m\u001b[0;34m\u001b[0m\u001b[0;34m\u001b[0m\u001b[0m\n\u001b[0m",
            "\u001b[0;31mNameError\u001b[0m: name 'q' is not defined"
          ]
        }
      ],
      "source": [
        "q@q"
      ]
    },
    {
      "cell_type": "code",
      "execution_count": null,
      "metadata": {
        "id": "owwyiJ0yN3oN"
      },
      "outputs": [],
      "source": []
    },
    {
      "cell_type": "markdown",
      "metadata": {
        "id": "k9jPDzNSjgnZ"
      },
      "source": [
        "# Actividad:\n",
        "\n",
        "1. Construir un programa que permita multiplicar dos matrices\n",
        "\n",
        "2. Cosntruir un programa que permita construir una regresion lineal simple empleando lo que sigue:\n",
        "\n",
        "3. Construir un programa que permita calcular una regresion bidimensional y hacer su representación .\n",
        "\n",
        "\n",
        "Operaciones matricial con regresión lineal.\n",
        "\n",
        "Cuando se desea hacer una regresion lineal multivariada, existen diferentes formas de realizar la regresión, una de ellas es encontrar el error cuadrático medio y miniminzar el conjunto de parámetros de la regresión emplando algún metodo de minimización, otra forma es encontrar la expresión analítica en forma matricial para enoncontrar el conjunto de parametros de la regresión. En este último caso, la regresion lineal viene dada por la siguiente expresion generalizada:\n",
        "\n",
        "\n",
        "- $\\Theta = (X^T X)^{-1} X^T y$\n",
        "\n",
        "donte $\\Theta$ es la matriz de parametros asociados a la regresión lineal, X la matriz de características y y los valos esperados, así, si tenemos una conjunto de datos en N dimensiones la recta, plano o hyperplano puede ser calculado como:\n",
        "\n",
        "$Y=\\Theta^T X$\n",
        "\n",
        "\n",
        "En el caso de dos dimensiones, tenemos lo siguiente, Supongamos que X, y Y presentan un comportamiento lineal, y vienen dados por:\n",
        "\n",
        "\n",
        "- Sea $\\vec{X}=x^1, x^2, x^3, x^4, ..., x^m$\n",
        "- Sea $\\vec{Y}=y^1, y^2, y^3, y^4, ..., y^m$\n",
        "\n",
        "Para determinar la ecuacion de la recta, hay que conocer los párametros $\\theta_0 $, $\\theta_1$, que cumplen que :   $y^{i} = \\theta_1 x^{i} + \\theta_0$ la anterior expresion puede ser escrita como:\n",
        "\n",
        "\\begin{equation}\n",
        "\\begin{bmatrix}\n",
        "y^{1}\\\\\n",
        "y^{2}\\\\\n",
        "\\vdots\\\\\n",
        "y^{m}\\\\\n",
        "\\end{bmatrix}=\n",
        "\\begin{bmatrix}\n",
        "\\theta_0 & \\theta_1 \\\\\n",
        "\\end{bmatrix}\n",
        "\\begin{bmatrix}\n",
        "1 & 1 & \\cdots & 1 \\\\\n",
        "x_1^{1} & x_1^{2} & \\cdots & x_1^{m} \\\\\n",
        "\\end{bmatrix}\n",
        "\\end{equation}\n",
        "\n",
        "\n",
        "Para determinar la matriz de theta entonces se puede aplicar la ecuación:\n",
        "\n",
        "- $\\Theta = (X^T X)^{-1} X^T y$\n",
        "\n",
        "donde:\n",
        "\\begin{equation}\n",
        "X=\n",
        "\\begin{bmatrix}\n",
        "1 & x_1^{1} \\\\\n",
        "1 & x_1^{2} \\\\\n",
        "\\vdots & \\vdots \\\\\n",
        "1 & x_1^{m}\n",
        "\\end{bmatrix}\n",
        "\\end{equation}\n",
        "\n",
        "y\n",
        "\n",
        "\n",
        "\\begin{equation}\n",
        "y=\n",
        "\\begin{bmatrix}\n",
        "y^1 \\\\\n",
        "y^2 \\\\\n",
        "\\vdots\\\\\n",
        "y^m\n",
        "\\end{bmatrix}\n",
        "\\end{equation}\n",
        "\n",
        "Su tarea será construir un programa que realice la regresión lineal para los siguientes puntos:\n",
        "```python\n",
        "N = 10\n",
        "x1 = np.linspace(0, 10, N)\n",
        "noise=2*np.random.random(N)-1\n",
        "y = 0.9*x1 + noise\n",
        "```\n",
        "\n",
        "\n",
        "\n",
        "Generalice para el siguiente problema bidimensional:\n",
        "\n",
        "\n",
        "```python\n",
        "N = 10\n",
        "x1 = np.linspace(-1, 1, N)\n",
        "x2 = np.linspace(-2, 2, N)\n",
        "noise1=2*np.random.random(N)-1\n",
        "noise2=2*np.random.random(N)-1\n",
        "y = 2*(x1+noise1) - 3*(x2+noise2) + 0.0 #+ 4*np.random.random(100)\n",
        "\n",
        "N = 10\n",
        "X1, X2 = np.meshgrid(x1,x2)\n",
        "Y = 2*X1 - 3*X2 + 0.0\n",
        "fig, ax = plt.subplots(subplot_kw={\"projection\": \"3d\"})\n",
        "surf = ax.plot_surface(X1, X2, Y)\n",
        "#scatter = ax.scatter(x1, x2, y,\"-\")\n",
        "```\n",
        "\n",
        "\n",
        "\n",
        "4. Construir un programa que permita realizar eliminacion de Gauss- Jordan de una matriz\n",
        "\n"
      ]
    },
    {
      "cell_type": "markdown",
      "source": [
        "1)# Actividad:\n",
        "\n",
        "1. Construir un programa que permita multiplicar dos matrices\n",
        "\n",
        "2. Cosntruir un programa que permita construir una regresion lineal simple empleando lo que sigue:\n",
        "\n",
        "3. Construir un programa que permita calcular una regresion bidimensional y hacer su representación ."
      ],
      "metadata": {
        "id": "NUXLeLO-K75I"
      }
    },
    {
      "cell_type": "code",
      "source": [
        "X1 = np.random.randint(1, 10, (2,2))\n",
        "M1 = np.matrix(X1)\n",
        "X2 = np.random.randint(1, 10, (2,3))\n",
        "M2 = np.matrix(X2)\n",
        "def mul_matrix(M1,M2):\n",
        "  if M1.shape[1]==M2.shape[0]:\n",
        "    pro=np.zeros((M1.shape[0],M2.shape[1]))\n",
        "    for i in range(M1.shape[0]):\n",
        "      for j in range(M2.shape[1]):\n",
        "        pro[i][j]=M1[i]*M2[:,j]\n",
        "    return(np.matrix(pro))\n",
        "  else:\n",
        "    return(\"las dimensiones no coiciden\")\n",
        "\n",
        "\n",
        "\n",
        "print(\"M1:\",\"\\n\",M1,\"\\n\",\"M2:\",\"\\n\",M2,\"\\n\",\"producto\",\"\\n\",mul_matrix(M1,M2))"
      ],
      "metadata": {
        "colab": {
          "base_uri": "https://localhost:8080/"
        },
        "id": "g6ZHCaoUK7Lx",
        "outputId": "8617e9bc-3c9c-4ea4-a062-773cbd8e3658"
      },
      "execution_count": null,
      "outputs": [
        {
          "output_type": "stream",
          "name": "stdout",
          "text": [
            "M1: \n",
            " [[1 4]\n",
            " [2 6]] \n",
            " M2: \n",
            " [[5 7 9]\n",
            " [4 4 2]] \n",
            " producto \n",
            " [[21. 23. 17.]\n",
            " [34. 38. 30.]]\n"
          ]
        },
        {
          "output_type": "stream",
          "name": "stderr",
          "text": [
            "<ipython-input-40-81f33d474020>:10: DeprecationWarning: Conversion of an array with ndim > 0 to a scalar is deprecated, and will error in future. Ensure you extract a single element from your array before performing this operation. (Deprecated NumPy 1.25.)\n",
            "  pro[i][j]=M1[i]*M2[:,j]\n"
          ]
        }
      ]
    },
    {
      "cell_type": "code",
      "source": [
        "import numpy as np\n",
        "\n",
        "def linear_regression_simple(x, y):\n",
        "    # Agregamos una columna de unos a la matriz de características\n",
        "    X = np.column_stack((np.ones_like(x), x))\n",
        "\n",
        "    # Calculamos los parámetros theta utilizando la expresión matricial\n",
        "    theta = np.linalg.inv(X.T @ X) @ X.T @ y\n",
        "\n",
        "    return theta\n",
        "\n",
        "# Puntos de ejemplo\n",
        "N = 10\n",
        "x1 = np.linspace(0, 10, N)\n",
        "noise = 2 * np.random.random(N) - 1\n",
        "y = 0.9 * x1 + noise\n",
        "\n",
        "# Calculamos los parámetros de la regresión lineal\n",
        "theta = linear_regression_simple(x1, y)\n",
        "print(\"Parámetros de la regresión lineal simple:\")\n",
        "print(\"theta_0:\", theta[0])\n",
        "print(\"theta_1:\", theta[1])\n",
        "\n",
        "\n",
        "theta = linear_regression_simple(x1, y)\n",
        "\n",
        "# Graficamos los puntos de datos\n",
        "plt.scatter(x1, y, label='Datos')\n",
        "\n",
        "# Graficamos la línea de regresión lineal\n",
        "plt.plot(x1, theta[0] + theta[1] * x1, color='red', label='Regresión lineal')\n",
        "\n",
        "plt.xlabel('x')\n",
        "plt.ylabel('y')\n",
        "plt.title('Regresión lineal simple')\n",
        "plt.legend()\n",
        "plt.grid(True)\n",
        "plt.show()\n"
      ],
      "metadata": {
        "colab": {
          "base_uri": "https://localhost:8080/",
          "height": 524
        },
        "id": "HdYCyYMrK9Ir",
        "outputId": "674ec065-6e73-4422-b9fa-37f4b25af948"
      },
      "execution_count": null,
      "outputs": [
        {
          "output_type": "stream",
          "name": "stdout",
          "text": [
            "Parámetros de la regresión lineal simple:\n",
            "theta_0: 0.3460497713729349\n",
            "theta_1: 0.8500614348191399\n"
          ]
        },
        {
          "output_type": "display_data",
          "data": {
            "text/plain": [
              "<Figure size 640x480 with 1 Axes>"
            ],
            "image/png": "[encoded data removed]"
          },
          "metadata": {}
        }
      ]
    },
    {
      "cell_type": "code",
      "source": [
        "N = 10\n",
        "x1 = np.linspace(0, 10, N)\n",
        "noise=2*np.random.random(N)-1\n",
        "y = 0.9*x1 + noise\n",
        "N = 10\n",
        "x1 = np.linspace(-1, 1, N)\n",
        "x2 = np.linspace(-2, 2, N)\n",
        "noise1=2*np.random.random(N)-1\n",
        "noise2=2*np.random.random(N)-1\n",
        "y = 2*(x1+noise1) - 3*(x2+noise2) + 0.0 #+ 4*np.random.random(100)\n",
        "\n",
        "N = 10\n",
        "X1, X2 = np.meshgrid(x1,x2)\n",
        "Y = 2*X1 - 3*X2 + 0.0\n",
        "fig, ax = plt.subplots(subplot_kw={\"projection\": \"3d\"})\n",
        "surf = ax.plot_surface(X1, X2, Y)\n",
        "# scatter = ax.scatter(x1, x2, y,\"-\")"
      ],
      "metadata": {
        "colab": {
          "base_uri": "https://localhost:8080/",
          "height": 415
        },
        "id": "nGFV1z1dMy7D",
        "outputId": "a80e66b1-6dfa-4cf9-83ce-9028b6fd3e55"
      },
      "execution_count": 3,
      "outputs": [
        {
          "output_type": "display_data",
          "data": {
            "text/plain": [
              "<Figure size 640x480 with 1 Axes>"
            ],
            "image/png": "[encoded data removed]"
          },
          "metadata": {}
        }
      ]
    },
    {
      "cell_type": "code",
      "source": [
        "def gauss_jordan_elimination(A, b):\n",
        "    # Combinamos la matriz A y el vector b en una sola matriz aumentada\n",
        "    augmented_matrix = np.column_stack([A, b])\n",
        "\n",
        "    # Convertimos la matriz aumentada a una forma escalonada\n",
        "    n = len(augmented_matrix)\n",
        "    for i in range(n):\n",
        "        # Pivoteamos\n",
        "        pivot_row = augmented_matrix[i]\n",
        "        pivot = pivot_row[i]\n",
        "        augmented_matrix[i] = pivot_row / pivot\n",
        "\n",
        "        # Eliminación hacia abajo\n",
        "        for j in range(i + 1, n):\n",
        "            factor = augmented_matrix[j][i]\n",
        "            augmented_matrix[j] -= factor * augmented_matrix[i]\n",
        "\n",
        "    # Convertimos la matriz a una forma escalonada reducida\n",
        "    for i in range(n - 1, -1, -1):\n",
        "        # Eliminación hacia arriba\n",
        "        for j in range(i - 1, -1, -1):\n",
        "            factor = augmented_matrix[j][i]\n",
        "            augmented_matrix[j] -= factor * augmented_matrix[i]\n",
        "\n",
        "    return augmented_matrix[:, -1]\n",
        "\n",
        "# Ejemplo de uso\n",
        "A = np.array([[2, 1, -1],\n",
        "              [-3, -1, 2],\n",
        "              [-2, 1, 2]])\n",
        "b = np.array([8, -11, -3])\n",
        "\n",
        "solution = gauss_jordan_elimination(A, b)\n",
        "print(\"Solución del sistema de ecuaciones:\")\n",
        "print(solution)\n"
      ],
      "metadata": {
        "colab": {
          "base_uri": "https://localhost:8080/"
        },
        "id": "s4zbQpuRM4de",
        "outputId": "6546822f-6040-48dd-a9dc-4302707a79b3"
      },
      "execution_count": null,
      "outputs": [
        {
          "output_type": "stream",
          "name": "stdout",
          "text": [
            "Solución del sistema de ecuaciones:\n",
            "[4 1 1]\n"
          ]
        }
      ]
    },
    {
      "cell_type": "markdown",
      "source": [
        "thinker"
      ],
      "metadata": {
        "id": "mGcZHJxFKBtG"
      }
    },
    {
      "cell_type": "code",
      "source": [],
      "metadata": {
        "id": "iUTAuqOWM8_j"
      },
      "execution_count": null,
      "outputs": []
    }
  ],
  "metadata": {
    "colab": {
      "provenance": []
    },
    "kernelspec": {
      "display_name": "Python 3",
      "name": "python3"
    },
    "language_info": {
      "name": "python"
    }
  },
  "nbformat": 4,
  "nbformat_minor": 0
}