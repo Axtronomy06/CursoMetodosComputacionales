{
  "cells": [
    {
      "cell_type": "markdown",
      "id": "3a6dc6a1",
      "metadata": {
        "id": "3a6dc6a1"
      },
      "source": [
        "<a href=\"https://colab.research.google.com/github/hernansalinas/autogrades/blob/main/Actividades_clase/Actividad_05_06_ZerosFunciones.ipynb\" target=\"_parent\"><img src=\"https://colab.research.google.com/assets/colab-badge.svg\" alt=\"Open In Colab\"/></a>\n",
        "\n",
        "\n",
        "\n",
        "# Actividad 5\n",
        "### Métodos computacionales para físicos  y astrónomos\n",
        "### Universidad de Antioquia\n",
        "### Prof: Hernan D. Salinas Jiménez\n",
        "Ref: https://github.com/restrepo/ComputationalMethods"
      ]
    },
    {
      "cell_type": "markdown",
      "id": "8e59c672",
      "metadata": {
        "id": "8e59c672"
      },
      "source": [
        "1. Implementar el metodo de la bisección para determinar las raices de una función.\n",
        "2. Implementar el metodo de la newton para determinar las raices de una función.\n",
        "\n",
        "Prueba tu resultado para:\n"
      ]
    },
    {
      "cell_type": "markdown",
      "id": "ee7acda4",
      "metadata": {
        "id": "ee7acda4"
      },
      "source": [
        "  \n",
        " 2. $a e^{x}-2= b\\cos(e^x-2)$"
      ]
    },
    {
      "cell_type": "code",
      "source": [
        "import numpy as np\n",
        "import matplotlib.pyplot as plt\n",
        "from scipy.interpolate import lagrange\n",
        "import sympy as sp\n",
        "import scipy as sc\n",
        "from scipy import optimize"
      ],
      "metadata": {
        "id": "gker0z_ereJz"
      },
      "id": "gker0z_ereJz",
      "execution_count": 79,
      "outputs": []
    },
    {
      "cell_type": "code",
      "source": [
        "#a=np.linspace(-1,1,100)\n",
        "#b=np.linspace(-1,1,100)\n",
        "a=3\n",
        "b=4\n",
        "g = lambda x: a*np.exp(x)-b*np.cos(np.exp(x)-2)-2\n",
        "x = np.linspace(-2,2,100)\n",
        "plt.plot(x,g(x))\n",
        "plt.grid()\n",
        "plt.show()"
      ],
      "metadata": {
        "colab": {
          "base_uri": "https://localhost:8080/",
          "height": 430
        },
        "id": "Bg-H2YlRrB0k",
        "outputId": "c22dc6ed-85ce-4425-a88f-f02a9c507de3"
      },
      "id": "Bg-H2YlRrB0k",
      "execution_count": 80,
      "outputs": [
        {
          "output_type": "display_data",
          "data": {
            "text/plain": [
              "<Figure size 640x480 with 1 Axes>"
            ],
            "image/png": "[encoded data removed]"
          },
          "metadata": {}
        }
      ]
    },
    {
      "cell_type": "code",
      "execution_count": 81,
      "id": "d0073dbf",
      "metadata": {
        "id": "d0073dbf",
        "colab": {
          "base_uri": "https://localhost:8080/"
        },
        "outputId": "e0a0ecd5-026d-499c-93d6-9bf9f6001e36"
      },
      "outputs": [
        {
          "output_type": "execute_result",
          "data": {
            "text/plain": [
              "0.6931471805599454"
            ]
          },
          "metadata": {},
          "execution_count": 81
        }
      ],
      "source": [
        "a=3\n",
        "b=4\n",
        "g = lambda x: a*np.exp(x)-b*np.cos(np.exp(x)-2)-2\n",
        "x = np.linspace(-2,2,100)\n",
        "\n",
        "xa = 0\n",
        "xb = 2\n",
        "epsilon=1e-5\n",
        "Nmax = 100\n",
        "def bisection(g, xa, xb, epsilon, Nmax):\n",
        "  niter = 0\n",
        "  while (g(xa)*f(xb)<0 | niter<Nmax):\n",
        "    niter = niter+1\n",
        "    xc = (xa+xb)*0.5\n",
        "    if (g(xc)<0):\n",
        "      xa = xc\n",
        "    elif(g(xc) >0):\n",
        "      xb = xc\n",
        "    elif( abs(g(xc))<epsilon ):\n",
        "\n",
        "      break\n",
        "    else :\n",
        "      print(\"Error\")\n",
        "  return xc\n",
        "bisection(g, xa, xb, epsilon, Nmax)"
      ]
    },
    {
      "cell_type": "code",
      "source": [
        "sc.optimize.bisect(g,0,2)"
      ],
      "metadata": {
        "colab": {
          "base_uri": "https://localhost:8080/"
        },
        "id": "76tuv17s3Jq3",
        "outputId": "1062cce8-6981-455d-ec52-008cbfe434f8"
      },
      "id": "76tuv17s3Jq3",
      "execution_count": 82,
      "outputs": [
        {
          "output_type": "execute_result",
          "data": {
            "text/plain": [
              "0.6931471805601177"
            ]
          },
          "metadata": {},
          "execution_count": 82
        }
      ]
    },
    {
      "cell_type": "code",
      "source": [
        "#f = lambda y: a*sp.exp(y)-b*sp.cos(sp.exp(y)-2)-2\n",
        "#y=sp.symbols('y')\n",
        "#print(f(y))\n",
        "#df=sp.diff(f(y),y)\n",
        "#print(' ')\n",
        "#print(df)\n"
      ],
      "metadata": {
        "id": "09xtV384wYlK"
      },
      "id": "09xtV384wYlK",
      "execution_count": 61,
      "outputs": []
    },
    {
      "cell_type": "code",
      "source": [],
      "metadata": {
        "id": "ZpwvjGbpxpRp"
      },
      "id": "ZpwvjGbpxpRp",
      "execution_count": 61,
      "outputs": []
    },
    {
      "cell_type": "code",
      "source": [
        "\n",
        "x = np.linspace(-2,2,100)\n",
        "f = lambda x:  a*np.exp(x)-b*np.cos(np.exp(x)-2)-2\n",
        "df = lambda x: a*np.exp(x)+4*np.exp(x)*np.sin(np.exp(x)-2)\n",
        "\n",
        "x0=2\n",
        "epsilon=1E-9\n",
        "\n",
        "def newton_ra(f,df,x0,epsilon=1E-9,Nmax=300):\n",
        "  iter=0\n",
        "  while (abs(f(x0))>=epsilon)&(iter<=3):\n",
        "    x1=x0-f(x0)/df(x0)\n",
        "    x0=x1\n",
        "    iter=iter+1\n",
        "  return(x0)\n",
        "newton_ra(f,df,1)"
      ],
      "metadata": {
        "id": "dHqyMqvLcF_L",
        "colab": {
          "base_uri": "https://localhost:8080/"
        },
        "outputId": "a2d20475-ec8d-4443-ab61-56c8f7c0f0fe"
      },
      "id": "dHqyMqvLcF_L",
      "execution_count": 73,
      "outputs": [
        {
          "output_type": "execute_result",
          "data": {
            "text/plain": [
              "0.693147522536204"
            ]
          },
          "metadata": {},
          "execution_count": 73
        }
      ]
    },
    {
      "cell_type": "code",
      "source": [
        "sc.optimize.newton(f,1)"
      ],
      "metadata": {
        "colab": {
          "base_uri": "https://localhost:8080/"
        },
        "id": "tRRopYXU0qCG",
        "outputId": "86f08636-c38e-49fd-a353-c9bd3291c94b"
      },
      "id": "tRRopYXU0qCG",
      "execution_count": 72,
      "outputs": [
        {
          "output_type": "execute_result",
          "data": {
            "text/plain": [
              "0.6931471805599831"
            ]
          },
          "metadata": {},
          "execution_count": 72
        }
      ]
    },
    {
      "cell_type": "code",
      "source": [],
      "metadata": {
        "id": "Peol5jEu0wWf"
      },
      "id": "Peol5jEu0wWf",
      "execution_count": null,
      "outputs": []
    }
  ],
  "metadata": {
    "kernelspec": {
      "display_name": "Python 3 (ipykernel)",
      "language": "python",
      "name": "python3"
    },
    "language_info": {
      "codemirror_mode": {
        "name": "ipython",
        "version": 3
      },
      "file_extension": ".py",
      "mimetype": "text/x-python",
      "name": "python",
      "nbconvert_exporter": "python",
      "pygments_lexer": "ipython3",
      "version": "3.10.9"
    },
    "colab": {
      "provenance": []
    }
  },
  "nbformat": 4,
  "nbformat_minor": 5
}