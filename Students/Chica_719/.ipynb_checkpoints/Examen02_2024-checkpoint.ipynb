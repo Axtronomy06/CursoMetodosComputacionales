{
 "cells": [
  {
   "cell_type": "markdown",
   "metadata": {
    "id": "S0kN6L8eRbd_"
   },
   "source": [
    "## ***Luis Fernando Chica***\n",
    "## ***CC.1107524719 ***"
   ]
  },
  {
   "cell_type": "markdown",
   "metadata": {
    "id": "yzIQLm5ASP00"
   },
   "source": [
    "# Examen 2: Métodos computacionales.\n",
    "\n",
    "## Profesor: Hernán Salinas\n",
    "### Universidad de Antioquia\n",
    "\n",
    "El examen consta de dos partes, cada una con igual valor. Es un examen individual y no se permite el uso de herramientas de inteligencia artificial para su realización. Una lectura detallada será suficiente para resolver ambos problemas, basándose en los conocimientos adquiridos en el curso.\n"
   ]
  },
  {
   "cell_type": "markdown",
   "metadata": {
    "id": "htqIUVv20gWU"
   },
   "source": [
    "### I. Radiación de Cuerpo Negro:\n",
    "\n",
    " La radiación de cuerpo negro, se refiere a la radiación electromagnética emitida por un objeto que absorbe toda la radiación incidente sin reflejar nada. La cual  puede ser modelada según la ley de Planck que relaciona la intensidad de la radiación de un cuerpo negro con la temperatura del objeto. A medida que la temperatura aumenta, la longitud de onda máxima de la radiación se desplaza hacia longitudes de onda más cortas. Para generar una intuición,  piensa en  trozo  de carbón, el cual representa un ejemplo cercano a lo que se conoce como un cuerpo negro en física. Este elemento tiene la particularidad de reflejar mínimamente la luz, capturando prácticamente toda la radiación que recibe. Al alcanzar temperaturas elevadas, similar a las de las brasas ardientes, el carbón comienza a emitir radiación tanto en el rango visible como en el infrarrojo del espectro.\n",
    "\n",
    "  La radiación de cuerpo negro puede ser modelada empleando la ley de Planck para describir la densidad  espectral  de energía de la radiación emitida por un cuerpo negro a una temperatura (T). La ley de Planck establece que la densidad espectral de energía $u(\\lambda, T)$  para un cuerpo negro está dada por:\n",
    "\n",
    "\\begin{equation}\n",
    "u(\\lambda, T) = \\frac{{8\\pi hc}}{{\\lambda^5}} \\cdot \\frac{1}{{e^{\\frac{{hc}}{{\\lambda k_B T}}} - 1}}\n",
    "\\end{equation}\n",
    "\n",
    " donde:\n",
    "\n",
    "$h = 6.62607015  \\times 10^{-34} \\mathrm{J} s$ : es la constante de Planck.\n",
    "\n",
    "$c = 299792458 \\mathrm{m/s}$ : es la velocidad de la luz.\n",
    "\n",
    "\n",
    "$k_B = 1.380649 \\times 10^{-23}\\mathrm{J/K}$ : es la constante de Boltzmann.\n",
    "\n",
    "$ \\lambda$ es la longitud de onda.\n",
    "\n",
    "\n",
    "Podemos integrar la densidad espectral de energía sobre todas las longitudes de onda para obtener la potencia total emitida por unidad de área de un cuerpo negro a una temperatura (T) (ley  de Stefan-Boltzmann):\n",
    "\n",
    "\n",
    "\\begin{equation}\n",
    "P_{\\text{total}} = \\sigma T^4\n",
    "\\end{equation}\n",
    "\n",
    "donde:\n",
    "\n",
    "$\\sigma$ es la constante de Stefan-Boltzmann.\n",
    "\n",
    "\n",
    "Su tarea en este examen será:\n",
    "\n",
    "1. Realizar una gráfica de $u(\\lambda, T)$ vs $\\lambda$, toma valores de $\\lambda$ entre $1\\mathrm{nm}$ y $8\\mathrm{\\mu m}$, para valores de\n",
    "```T=np.array([1000,2000,4000,5000]) ```K\n",
    "\n",
    "\n",
    "Las curvas resultantes deben reflejar el comportamiento típico de datos experimentales, tal como se muestra al ejecutar el siguiente código :\n",
    "\n",
    "```python\n",
    "import requests\n",
    "from io import StringIO\n",
    "\n",
    "\n",
    "# URL del archivo txt en línea\n",
    "url_del_archivo = 'http://www.sc.ehu.es/sbweb/fisica3/calor/radiacion/espectro.txt'\n",
    "\n",
    "# Realizar una petición GET para obtener el contenido del archivo\n",
    "respuesta = requests.get(url_del_archivo)\n",
    "\n",
    "# Verificar que la petición fue exitosa\n",
    "if respuesta.status_code == 200:\n",
    "    # Acceder al contenido del archivo\n",
    "    data_string = respuesta.text\n",
    "else:\n",
    "    print(f\"Error al acceder al archivo: {respuesta.status_code}\")\n",
    "# Utilizar StringIO para simular un archivo en memoria a partir del string\n",
    "data = StringIO(data_string)\n",
    "# Convertir el string a DataFrame, especificando el separador de espacios\n",
    "df = pd.read_csv(data, sep=\" \", header=None)\n",
    "# Asignar nombres a las columnas si es necesario\n",
    "df.columns = ['A', 'B', 'C', \"D\"]\n",
    "# Mostrar el DataFrame\n",
    "plt.plot(df.A, df.B)\n",
    "```\n",
    "\n",
    "\n",
    "\n",
    "2. Determina la longitud de onda para el cual se obtiene el  máximo valor de cada unas de las anteriores curvas, comprueba que $\\lambda_{max} T=2897.8 \\mathrm{\\mu mK}$\n",
    "\n",
    "\n",
    "\n",
    "3. De la ley de densidad espectral de energía, mostrar que la potencia total emitida por unidad de área $P_{total}$ es:\n",
    "\n",
    "\n",
    "\n",
    "\\begin{equation}\n",
    "P_{\\text{total}} =  \\frac{c}{4}\\int_0^{\\infty} u(\\lambda, T) \\mathrm{d}\\lambda = \\sigma T^4\n",
    "\\end{equation}\n",
    "\n",
    "donde $\\sigma=5.67\\times 10^{-8}\\mathrm{W m^{-2} K^{-4}}$. Para resolver la integral, se recomienda emplear la sustitución $x=\\frac{hc}{\\lambda k_BT}$ y emplear algún método computacional de integración conocido :\n",
    "\n",
    "\\begin{equation}\n",
    "P_{\\text{total}} \\propto \\int_0^{\\infty} \\frac{x^3}{e^{x}-1} \\mathrm{d}x\n",
    "\\end{equation}\n",
    "\n",
    "muestre que el valor de la integral se aproxima al valor esperado $\\frac{\\pi^4}{15}$.\n",
    "\n",
    "Con el resultado anterior, construya una curva de $P_{total}$ vs $T^4$, ¿su resultado esta acorde con los esperado?\n",
    "\n"
   ]
  },
  {
   "cell_type": "markdown",
   "metadata": {
    "id": "TVvx06Ky6dgE"
   },
   "source": [
    "# 2. Calentamiento Global\n",
    "El conjunto de datos a continuación ofrece una visión detallada de las anomalías de temperatura terrestre:\n",
    "\n",
    "\n",
    "https://data.giss.nasa.gov/gistemp/graphs/graph_data/Global_Mean_Estimates_based_on_Land_and_Ocean_Data/graph.txt\n",
    "\n",
    "\n",
    "Las anomalías de temperatura son variaciones en la temperatura media superficial del planeta respecto a un promedio histórico. Estas variaciones pueden ser tanto positivas (más cálidas) como negativas (más frías) y constituyen indicadores esenciales del cambio climático a nivel mundial. Para obtener información adicional, consulte:\n",
    "\n",
    "\n",
    "https://climate.nasa.gov/en-espanol/signos-vitales/temperatura-global/?intent=111\n",
    "\n",
    "Este ejercicio no solo busca profundizar en la comprensión del calentamiento global, sino también distinguir entre la interpolación y la construcción de modelos. Con el código proporcionado que procesa los datos de cambio climático reportados por la National Aeronautics and Space Administration,\n",
    "\n",
    "\n",
    "```python\n",
    "import pandas as pd\n",
    "import matplotlib.pylab as plt\n",
    "url=\"https://data.giss.nasa.gov/gistemp/graphs/graph_data/Global_Mean_Estimates_based_on_Land_and_Ocean_Data/graph.txt\"\n",
    "data = pd.read_csv(url, sep='\\\\s+',header=None, skiprows=5)\n",
    "data.columns = [\"Año\" ,\"NoSauvizado\",  \"Promedio_5\"]\n",
    "\n",
    "\n",
    "# Muestra las primeras filas del DataFrame\n",
    "print(data.head())\n",
    "```\n",
    "\n",
    "Realice lo siguiente en un gráfico combinado:\n",
    "\n",
    "\n",
    "\n",
    "1. Gráfico de la media móvil de 5 años (Promedio_5) frente al año, representado con líneas.\n",
    "2. Gráfico de los datos sin suavizar (NoSauvizado) frente al año.\n",
    "\n",
    "\n",
    "3. Analice el gráfico resultante y extraiga conclusiones.\n",
    "\n",
    "Posteriormente, construiremos un modelo para evaluar el incremento de la temperatura en años recientes utilizando el código de regresión dado a continuación:\n",
    "\n",
    "\n",
    "```python\n",
    "import numpy as np\n",
    "from scipy.optimize import curve_fit\n",
    "import matplotlib.pyplot as plt\n",
    "\n",
    "# Define la función del modelo que deseas ajustar\n",
    "# En este caso, una función lineal: f(x) = m*x + b\n",
    "def linear_func(x, m, b):\n",
    "    return m * x + b\n",
    "\n",
    "# Datos de ejemplo, reemplace en esta linea por los valores de interes\n",
    "x = np.array([1, 2, 3, 4, 5])\n",
    "y = np.array([2, 4, 5, 4, 5])\n",
    "\n",
    "# Realizar el ajuste de curva\n",
    "params, covariance = curve_fit(linear_func, x, y)\n",
    "\n",
    "# Parámetros del ajuste\n",
    "m, b = params\n",
    "\n",
    "# Generar datos de x para la línea de ajuste\n",
    "x_fit = np.linspace(min(x), max(x), 100)\n",
    "y_fit = linear_func(x_fit, m, b)\n",
    "\n",
    "# Graficar datos y ajuste\n",
    "plt.scatter(x, y, label='Datos')\n",
    "plt.plot(x_fit, y_fit, label='Ajuste lineal', color='red')\n",
    "plt.xlabel('x')\n",
    "plt.ylabel('y')\n",
    "plt.legend()\n",
    "plt.show()\n",
    "\n",
    "```\n",
    "\n",
    "\n",
    " Seleccione los datos del periodo 2000-2020 y proceda a:\n",
    "\n",
    "4. Ajustar los datos sin suavizar (NoSauvizado) vs al año de forma lineal.\n",
    "5. Interpolar los datos entre los años 2000 y 2020.\n",
    "\n",
    "\n",
    "6. ¿Es preferible realizar una interpolación o un ajuste de parámetros al modelo en este caso? Justifique su respuesta.\n",
    "\n",
    "7. ¿Cómo podría predecirse el incremento en la temperatura anómala para el año 2030? Justifique su respuesta.\n",
    "\n",
    "\n",
    "\n",
    "\n"
   ]
  },
  {
   "cell_type": "markdown",
   "metadata": {
    "id": "VRaKgDiA0fOf"
   },
   "source": [
    "#---------------------------------------------------------------------------------------------------------------------------------------"
   ]
  },
  {
   "cell_type": "markdown",
   "metadata": {
    "id": "JZdl8M1y0WWI"
   },
   "source": [
    "#1) primer punto"
   ]
  },
  {
   "cell_type": "markdown",
   "metadata": {
    "id": "DPiBL6qA0cGv"
   },
   "source": [
    "##1.1)\n",
    " La radiación de cuerpo negro puede ser modelada empleando la ley de Planck para describir la densidad  espectral  de energía de la radiación emitida por un cuerpo negro a una temperatura (T). La ley de Planck establece que la densidad espectral de energía $u(\\lambda, T)$  para un cuerpo negro está dada por:\n",
    "\n",
    "\\begin{equation}\n",
    "u(\\lambda, T) = \\frac{{8\\pi hc}}{{\\lambda^5}} \\cdot \\frac{1}{{e^{\\frac{{hc}}{{\\lambda k_B T}}} - 1}}\n",
    "\\end{equation}\n",
    "\n",
    " donde:\n",
    "\n",
    "$h = 6.62607015  \\times 10^{-34} \\mathrm{J} s$ : es la constante de Planck.\n",
    "\n",
    "$c = 299792458 \\mathrm{m/s}$ : es la velocidad de la luz.\n",
    "\n",
    "\n",
    "$k_B = 1.380649 \\times 10^{-23}\\mathrm{J/K}$ : es la constante de Boltzmann.\n",
    "\n",
    "$ \\lambda$ es la longitud de onda.\n",
    "\n",
    "\n",
    "Podemos integrar la densidad espectral de energía sobre todas las longitudes de onda para obtener la potencia total emitida por unidad de área de un cuerpo negro a una temperatura (T) (ley  de Stefan-Boltzmann):\n",
    "\n",
    "\n",
    "\\begin{equation}\n",
    "P_{\\text{total}} = \\sigma T^4\n",
    "\\end{equation}\n",
    "\n",
    "donde:\n",
    "\n",
    "$\\sigma$ es la constante de Stefan-Boltzmann.\n",
    "\n",
    "\n",
    "Su tarea en este examen será:\n",
    "\n",
    "1. Realizar una gráfica de $u(\\lambda, T)$ vs $\\lambda$, toma valores de $\\lambda$ entre $1\\mathrm{nm}$ y $8\\mathrm{\\mu m}$, para valores de\n",
    "```T=np.array([1000,2000,4000,5000]) ```K"
   ]
  },
  {
   "cell_type": "code",
   "execution_count": 35,
   "metadata": {
    "colab": {
     "base_uri": "https://localhost:8080/"
    },
    "id": "8LpVmERry48c",
    "outputId": "a10490d5-2595-4625-dd6f-7ec599699e1c"
   },
   "outputs": [
    {
     "name": "stdout",
     "output_type": "stream",
     "text": [
      "[1000 2000 4000 5000]\n"
     ]
    }
   ],
   "source": [
    "import numpy as np\n",
    "import pandas as pd\n",
    "import sympy as sy\n",
    "import matplotlib.pyplot as plt\n",
    "import scipy as sc\n",
    "T=np.array([1000,2000,4000,5000])\n",
    "print(T)"
   ]
  },
  {
   "cell_type": "code",
   "execution_count": 36,
   "metadata": {
    "id": "5KaJkczq4aZI"
   },
   "outputs": [],
   "source": [
    "\n",
    "h = 6.62607015e-34  # J s\n",
    "c = 299792458       # m/s\n",
    "k_B = 1.380649e-23  # J/K\n",
    "sigma = 5.670374419e-8\n",
    "lambd= np.linspace(1e-9,8e-6,4)\n",
    "T=np.array([1000,2000,4000,5000])\n",
    "#f=lambda lambd,T:((8)*(np.pi)*(h)*(c)*(lambd**(-5)))*(1/(np.exp((h*c)/lambd*k_B*T)-1))\n",
    "#f(lambd,T)"
   ]
  },
  {
   "cell_type": "code",
   "execution_count": 37,
   "metadata": {
    "colab": {
     "base_uri": "https://localhost:8080/"
    },
    "id": "nNvMsicaV9ZF",
    "outputId": "73654f67-7c4c-483b-819c-baa7ae881eb4"
   },
   "outputs": [
    {
     "name": "stderr",
     "output_type": "stream",
     "text": [
      "<ipython-input-37-c40aad297014>:1: RuntimeWarning: overflow encountered in exp\n",
      "  (np.exp((h*c)/(lambd*k_B*T)))\n"
     ]
    },
    {
     "data": {
      "text/plain": [
       "array([        inf, 14.8356399 ,  1.96282451,  1.4328912 ])"
      ]
     },
     "execution_count": 37,
     "metadata": {},
     "output_type": "execute_result"
    }
   ],
   "source": [
    "(np.exp((h*c)/(lambd*k_B*T)))"
   ]
  },
  {
   "cell_type": "code",
   "execution_count": 38,
   "metadata": {
    "colab": {
     "base_uri": "https://localhost:8080/"
    },
    "id": "TTUOwy4a0aE_",
    "outputId": "7f49d525-3914-4bf2-93bb-0f6144c5ebfc"
   },
   "outputs": [
    {
     "name": "stderr",
     "output_type": "stream",
     "text": [
      "<ipython-input-38-f59f4cc6c846>:10: RuntimeWarning: overflow encountered in exp\n",
      "  f=((8)*(np.pi)*(h)*(c)*(lambd**(-5)))*(1/(np.exp((h*c)/(lambd*k_B*T))-1))\n"
     ]
    },
    {
     "data": {
      "text/plain": [
       "array([   0.        , 2672.58102318, 1201.26853695,  351.9556185 ])"
      ]
     },
     "execution_count": 38,
     "metadata": {},
     "output_type": "execute_result"
    }
   ],
   "source": [
    " # J/K\n",
    "\n",
    "lambd= np.linspace(1e-9,8e-6,4)\n",
    "T=np.array([1000,2000,4000,5000])\n",
    "def u(lambd,T):\n",
    "  h=6.62607015e-34#Js\n",
    "  c= 299792458 #m/s\n",
    "  k_B=1.380649*(10**-23)\n",
    "  #e=np.exp((h*c)/lambd*k_B*T)\n",
    "  f=((8)*(np.pi)*(h)*(c)*(lambd**(-5)))*(1/(np.exp((h*c)/(lambd*k_B*T))-1))\n",
    "  return f\n",
    "u(lambd,T)\n"
   ]
  },
  {
   "cell_type": "code",
   "execution_count": 39,
   "metadata": {
    "colab": {
     "base_uri": "https://localhost:8080/"
    },
    "id": "e7X0gcLoN0WA",
    "outputId": "292100a8-dfe4-4549-d9a9-0528d41e9012"
   },
   "outputs": [
    {
     "data": {
      "text/plain": [
       "numpy.ndarray"
      ]
     },
     "execution_count": 39,
     "metadata": {},
     "output_type": "execute_result"
    }
   ],
   "source": [
    "type(T)"
   ]
  },
  {
   "cell_type": "code",
   "execution_count": 40,
   "metadata": {
    "colab": {
     "base_uri": "https://localhost:8080/"
    },
    "id": "E2rk0dLeNmch",
    "outputId": "9611b4e1-6398-4120-deff-4c6b99075dc8"
   },
   "outputs": [
    {
     "name": "stdout",
     "output_type": "stream",
     "text": [
      "[1000 2000 4000 5000]\n"
     ]
    }
   ],
   "source": [
    "print(T)"
   ]
  },
  {
   "cell_type": "code",
   "execution_count": 41,
   "metadata": {
    "colab": {
     "base_uri": "https://localhost:8080/",
     "height": 500
    },
    "id": "bdqQiXH5LXfL",
    "outputId": "aee7007a-dbd3-4275-bc83-e1431c198457"
   },
   "outputs": [
    {
     "name": "stderr",
     "output_type": "stream",
     "text": [
      "<ipython-input-38-f59f4cc6c846>:10: RuntimeWarning: overflow encountered in exp\n",
      "  f=((8)*(np.pi)*(h)*(c)*(lambd**(-5)))*(1/(np.exp((h*c)/(lambd*k_B*T))-1))\n"
     ]
    },
    {
     "data": {
      "image/png": "[encoded data removed]",
      "text/plain": [
       "<Figure size 640x480 with 1 Axes>"
      ]
     },
     "metadata": {},
     "output_type": "display_data"
    },
    {
     "data": {
      "text/plain": [
       "array([2.89953654e-06, 1.45026827e-06, 7.21630631e-07, 5.77504505e-07])"
      ]
     },
     "execution_count": 41,
     "metadata": {},
     "output_type": "execute_result"
    }
   ],
   "source": [
    "\n",
    "lambd_g= np.linspace(1e-9,8e-6,1000)\n",
    "T_g=np.array([1000,2000,4000,5000])\n",
    "vect_max=np.zeros(4)\n",
    "for i,j in enumerate(T_g):\n",
    "    plt.plot(lambd_g , u(lambd_g, j), label=f'T={j} K')\n",
    "    n=np.argmax(u(lambd_g, j))\n",
    "    vect_max[i]=lambd_g[n]\n",
    "\n",
    "    plt.plot(vect_max[i],u(vect_max[i], j),'ro',label=f'max_{i}={lambd_g[n]*1e6,j}')\n",
    "\n",
    "plt.legend()\n",
    "plt.grid(True)\n",
    "plt.show()\n",
    "vect_max\n"
   ]
  },
  {
   "cell_type": "code",
   "execution_count": 41,
   "metadata": {
    "id": "_XkHj8HbXKRe"
   },
   "outputs": [],
   "source": [
    "\n"
   ]
  },
  {
   "cell_type": "code",
   "execution_count": 42,
   "metadata": {
    "colab": {
     "base_uri": "https://localhost:8080/",
     "height": 430
    },
    "id": "WpQUn2UTw04B",
    "outputId": "4656f1de-a3f1-410c-8672-5674f9dcd0a5"
   },
   "outputs": [
    {
     "data": {
      "image/png": "[encoded data removed]",
      "text/plain": [
       "<Figure size 640x480 with 1 Axes>"
      ]
     },
     "metadata": {},
     "output_type": "display_data"
    }
   ],
   "source": [
    "import requests\n",
    "\n",
    "from io import StringIO\n",
    "\n",
    "\n",
    "\n",
    "# URL del archivo txt en línea\n",
    "url_del_archivo='http://www.sc.ehu.es/sbweb/fisica3/calor/radiacion/espectro.txt'\n",
    "\n",
    "# Realizar una petición GET para obtener el contenido del archivo\n",
    "respuesta=requests.get(url_del_archivo)\n",
    "\n",
    "# Verificar que la petición fue exitosa\n",
    "if respuesta.status_code == 200:\n",
    "# Acceder al contenido del archivo\n",
    "  data_string = respuesta.text\n",
    "  # Utilizar StringIO para simular un archivo en memoria a partir del string\n",
    "  data = StringIO(data_string)\n",
    "  # Convertir el string a DataFrame, especificando el separador de espacios\n",
    "  df = pd.read_csv(data, delim_whitespace=True, header=None)\n",
    "  # Asignar nombres a las columnas si es necesario\n",
    "  df.columns =['A', 'B', 'C', 'D']\n",
    "  # Mostrar el DataFrame\n",
    "  plt.plot(df['A'], df['B'])\n",
    "  df.head()\n",
    "else:\n",
    "  print(f\"Error al acceder al archivo: {respuesta.status_code}\")\n"
   ]
  },
  {
   "cell_type": "code",
   "execution_count": 42,
   "metadata": {
    "id": "bDWFo5qK7eZC"
   },
   "outputs": [],
   "source": []
  },
  {
   "cell_type": "code",
   "execution_count": 42,
   "metadata": {
    "id": "lXPbL6LvQW6c"
   },
   "outputs": [],
   "source": []
  },
  {
   "cell_type": "code",
   "execution_count": 42,
   "metadata": {
    "id": "m_Zk1cN0QXOs"
   },
   "outputs": [],
   "source": []
  },
  {
   "cell_type": "markdown",
   "metadata": {
    "id": "4nDV3xLKQX1w"
   },
   "source": [
    "2. Determina la longitud de onda para el cual se obtiene el  máximo valor de cada unas de las anteriores curvas, comprueba que $\\lambda_{max} T=2897.8 \\mathrm{\\mu mK}$\n",
    "\n",
    "\n",
    "\n",
    "3. De la ley de densidad espectral de energía, mostrar que la potencia total emitida por unidad de área $P_{total}$ es:\n",
    "\n",
    "\n",
    "\n",
    "\\begin{equation}\n",
    "P_{\\text{total}} =  \\frac{c}{4}\\int_0^{\\infty} u(\\lambda, T) \\mathrm{d}\\lambda = \\sigma T^4\n",
    "\\end{equation}\n",
    "\n",
    "donde $\\sigma=5.67\\times 10^{-8}\\mathrm{W m^{-2} K^{-4}}$. Para resolver la integral, se recomienda emplear la sustitución $x=\\frac{hc}{\\lambda k_BT}$ y emplear algún método computacional de integración conocido :\n",
    "\n",
    "\\begin{equation}\n",
    "P_{\\text{total}} \\propto \\int_0^{\\infty} \\frac{x^3}{e^{x}-1} \\mathrm{d}x\n",
    "\\end{equation}\n",
    "\n",
    "muestre que el valor de la integral se aproxima al valor esperado $\\frac{\\pi^4}{15}$.\n",
    "\n",
    "Con el resultado anterior, construya una curva de $P_{total}$ vs $T^4$, ¿su resultado esta acorde con los esperado?\n"
   ]
  },
  {
   "cell_type": "code",
   "execution_count": 43,
   "metadata": {
    "id": "GLY3gjitt7Ii"
   },
   "outputs": [],
   "source": [
    "import scipy as sp\n",
    "\n",
    "import matplotlib.pyplot as plt\n",
    "from scipy.integrate import quad"
   ]
  },
  {
   "cell_type": "code",
   "execution_count": 44,
   "metadata": {
    "colab": {
     "base_uri": "https://localhost:8080/"
    },
    "id": "asogu44LjytB",
    "outputId": "c3ff28b0-4e73-410a-f918-536d6a9b1315"
   },
   "outputs": [
    {
     "data": {
      "text/plain": [
       "array([2.89953654e-06, 1.45026827e-06, 7.21630631e-07, 5.77504505e-07])"
      ]
     },
     "execution_count": 44,
     "metadata": {},
     "output_type": "execute_result"
    }
   ],
   "source": [
    "vect_max #maximos\n",
    "vect_max"
   ]
  },
  {
   "cell_type": "code",
   "execution_count": 58,
   "metadata": {
    "colab": {
     "base_uri": "https://localhost:8080/"
    },
    "id": "cOb4qEFFQXi3",
    "outputId": "cb161e4f-e69f-4373-b1f8-7f449992a5d6"
   },
   "outputs": [
    {
     "name": "stdout",
     "output_type": "stream",
     "text": [
      "el valor de T0 es 2899.5365365365365\n",
      "el valor de T1 es 2900.5365365365365\n",
      "el valor de T2 es 2886.5225225225226\n",
      "el valor de T3 es 2887.5225225225217\n"
     ]
    },
    {
     "name": "stderr",
     "output_type": "stream",
     "text": [
      "<ipython-input-38-f59f4cc6c846>:10: RuntimeWarning: overflow encountered in exp\n",
      "  f=((8)*(np.pi)*(h)*(c)*(lambd**(-5)))*(1/(np.exp((h*c)/(lambd*k_B*T))-1))\n"
     ]
    }
   ],
   "source": [
    "c=np.max(u(lambd,T))\n",
    "a=np.max(lambd)\n",
    "b=np.max(T)\n",
    "for i in range(len(vect_max)):\n",
    "  print(f\"el valor de T{i} es {vect_max[i]*T[i]*10e5}\")\n",
    "\n"
   ]
  },
  {
   "cell_type": "markdown",
   "metadata": {
    "id": "cvWelueQ1aoU"
   },
   "source": [
    "\\begin{equation}\n",
    "P_{\\text{total}} \\propto \\int_0^{\\infty} \\frac{x^3}{e^{x}-1} \\mathrm{d}x\n",
    "\\end{equation}"
   ]
  },
  {
   "cell_type": "code",
   "execution_count": 46,
   "metadata": {
    "colab": {
     "base_uri": "https://localhost:8080/"
    },
    "id": "zQeY2SotyS8D",
    "outputId": "94dd473a-acf9-4e80-87fb-a2c54e63a45d"
   },
   "outputs": [
    {
     "name": "stdout",
     "output_type": "stream",
     "text": [
      "Integral con libreria = (6.49393940226683, 2.628470028924825e-09)\n"
     ]
    },
    {
     "name": "stderr",
     "output_type": "stream",
     "text": [
      "<ipython-input-46-0519b026f622>:1: RuntimeWarning: overflow encountered in exp\n",
      "  Inte =lambda x: (x**3)/(np.exp(x)-1)\n"
     ]
    },
    {
     "data": {
      "text/plain": [
       "6.49393940226683"
      ]
     },
     "execution_count": 46,
     "metadata": {},
     "output_type": "execute_result"
    }
   ],
   "source": [
    "Inte =lambda x: (x**3)/(np.exp(x)-1)\n",
    "\n",
    "a = 0\n",
    "b = np.inf\n",
    "I =quad(Inte,a,b)\n",
    "print(\"Integral con libreria =\",I)\n",
    "I[0]"
   ]
  },
  {
   "cell_type": "code",
   "execution_count": 47,
   "metadata": {
    "colab": {
     "base_uri": "https://localhost:8080/"
    },
    "id": "3WSTooHE1kuZ",
    "outputId": "6b84c981-53a7-43f9-dc96-32a8d86d5946"
   },
   "outputs": [
    {
     "data": {
      "text/plain": [
       "True"
      ]
     },
     "execution_count": 47,
     "metadata": {},
     "output_type": "execute_result"
    }
   ],
   "source": [
    "a=np.pi**4/15\n",
    "a=round(a,13)\n",
    "I=round(I[0],13)\n",
    "I==a #Esto demuestra que la integral es igual a pi^4/15"
   ]
  },
  {
   "cell_type": "code",
   "execution_count": 48,
   "metadata": {
    "id": "h0wJtH8Kmg5S"
   },
   "outputs": [],
   "source": [
    "import sympy as sp\n",
    "from sympy import pi, oo, tan, symbols, integrate\n",
    "from scipy.interpolate import lagrange\n",
    "import numpy as np\n",
    "from scipy.optimize import curve_fit\n",
    "import matplotlib.pyplot as plt"
   ]
  },
  {
   "cell_type": "code",
   "execution_count": 48,
   "metadata": {
    "id": "lAG5FYWtzHPb"
   },
   "outputs": [],
   "source": []
  },
  {
   "cell_type": "code",
   "execution_count": 49,
   "metadata": {
    "colab": {
     "base_uri": "https://localhost:8080/"
    },
    "id": "cVbXlBM5_1pm",
    "outputId": "aaa53512-9102-4e8d-dabf-be14c0b02ca2"
   },
   "outputs": [
    {
     "data": {
      "text/plain": [
       "array([   56700.,   907200., 14515200., 35437500.])"
      ]
     },
     "execution_count": 49,
     "metadata": {},
     "output_type": "execute_result"
    }
   ],
   "source": [
    "type(T_g)\n",
    "I\n",
    "T_g=np.array([1000,2000,4000,5000])\n",
    "\n",
    "P=lambda T_g:(5.67*10**(-8))*(T_g)**4\n",
    "P(T_g)"
   ]
  },
  {
   "cell_type": "code",
   "execution_count": 50,
   "metadata": {
    "colab": {
     "base_uri": "https://localhost:8080/",
     "height": 445
    },
    "id": "F70hMLQSSusA",
    "outputId": "d344f490-cea1-46d4-a993-faab0aa8f732"
   },
   "outputs": [
    {
     "data": {
      "image/png": "[encoded data removed]",
      "text/plain": [
       "<Figure size 640x480 with 1 Axes>"
      ]
     },
     "metadata": {},
     "output_type": "display_data"
    }
   ],
   "source": [
    "XL=np.linspace(np.min(T_g),np.max(T_g),1000)\n",
    "T_g=np.array([1000,2000,4000,5000])\n",
    "\n",
    "P=lambda T_g:(5.67*10**(-8))*(T_g)**4\n",
    "#LG=lagrange(T_g,P(T_g))\n",
    "#plt.plot((XL)**4,LG(XL),'--r')\n",
    "#plt.plot((T_g)**4,P(T_g),'o')\n",
    "#optimize\n",
    "def linear_func(x, m, b):\n",
    "    return m * x + b\n",
    "\n",
    "# Datos de ejemplo, reemplace en esta linea por los valores de interes\n",
    "x = T_g\n",
    "y = P(T_g)\n",
    "\n",
    "# Realizar el ajuste de curva\n",
    "params, covariance = curve_fit(linear_func, x, y)\n",
    "m, b = params\n",
    "x_fit = np.linspace(min(x), max(x), 100)\n",
    "y_fit = linear_func(x_fit, m, b)\n",
    "plt.scatter(x, y, label='Datos')\n",
    "plt.plot(x_fit, y_fit, label='Ajuste lineal', color='red')\n",
    "plt.legend()\n",
    "plt.grid(True)\n",
    "plt.show()\n"
   ]
  },
  {
   "cell_type": "markdown",
   "metadata": {
    "id": "67C8aJYKOk3h"
   },
   "source": [
    "# 2. Calentamiento Global"
   ]
  },
  {
   "cell_type": "markdown",
   "metadata": {
    "id": "j1vhuQfCPPgs"
   },
   "source": [
    "Realice lo siguiente en un gráfico combinado:\n",
    "\n",
    "\n",
    "\n",
    "1. Gráfico de la media móvil de 5 años (Promedio_5) frente al año, representado con líneas.\n",
    "2. Gráfico de los datos sin suavizar (NoSauvizado) frente al año.\n",
    "\n",
    "\n",
    "3. Analice el gráfico resultante y extraiga conclusiones.\n",
    "\n"
   ]
  },
  {
   "cell_type": "code",
   "execution_count": 51,
   "metadata": {
    "colab": {
     "base_uri": "https://localhost:8080/",
     "height": 423
    },
    "id": "fpaVg1iSC2OB",
    "outputId": "c0dbd56a-b80a-48ed-b62f-d7beb9b8175d"
   },
   "outputs": [
    {
     "data": {
      "application/vnd.google.colaboratory.intrinsic+json": {
       "summary": "{\n  \"name\": \"data\",\n  \"rows\": 144,\n  \"fields\": [\n    {\n      \"column\": \"A\\u00f1o\",\n      \"properties\": {\n        \"dtype\": \"number\",\n        \"std\": 41,\n        \"min\": 1880,\n        \"max\": 2023,\n        \"num_unique_values\": 144,\n        \"samples\": [\n          1997,\n          1899,\n          1962\n        ],\n        \"semantic_type\": \"\",\n        \"description\": \"\"\n      }\n    },\n    {\n      \"column\": \"NoSauvizado\",\n      \"properties\": {\n        \"dtype\": \"number\",\n        \"std\": 0.3801107000965565,\n        \"min\": -0.48,\n        \"max\": 1.17,\n        \"num_unique_values\": 82,\n        \"samples\": [\n          -0.12,\n          -0.17,\n          -0.48\n        ],\n        \"semantic_type\": \"\",\n        \"description\": \"\"\n      }\n    },\n    {\n      \"column\": \"Promedio_5\",\n      \"properties\": {\n        \"dtype\": \"number\",\n        \"std\": 0.36912957529388424,\n        \"min\": -0.42,\n        \"max\": 1.02,\n        \"num_unique_values\": 84,\n        \"samples\": [\n          0.7,\n          -0.09,\n          0.37\n        ],\n        \"semantic_type\": \"\",\n        \"description\": \"\"\n      }\n    }\n  ]\n}",
       "type": "dataframe",
       "variable_name": "data"
      },
      "text/html": [
       "\n",
       "  <div id=\"df-4cb158b3-ab6c-41be-89a0-f01e070430b1\" class=\"colab-df-container\">\n",
       "    <div>\n",
       "<style scoped>\n",
       "    .dataframe tbody tr th:only-of-type {\n",
       "        vertical-align: middle;\n",
       "    }\n",
       "\n",
       "    .dataframe tbody tr th {\n",
       "        vertical-align: top;\n",
       "    }\n",
       "\n",
       "    .dataframe thead th {\n",
       "        text-align: right;\n",
       "    }\n",
       "</style>\n",
       "<table border=\"1\" class=\"dataframe\">\n",
       "  <thead>\n",
       "    <tr style=\"text-align: right;\">\n",
       "      <th></th>\n",
       "      <th>Año</th>\n",
       "      <th>NoSauvizado</th>\n",
       "      <th>Promedio_5</th>\n",
       "    </tr>\n",
       "  </thead>\n",
       "  <tbody>\n",
       "    <tr>\n",
       "      <th>0</th>\n",
       "      <td>1880</td>\n",
       "      <td>-0.17</td>\n",
       "      <td>-0.09</td>\n",
       "    </tr>\n",
       "    <tr>\n",
       "      <th>1</th>\n",
       "      <td>1881</td>\n",
       "      <td>-0.09</td>\n",
       "      <td>-0.13</td>\n",
       "    </tr>\n",
       "    <tr>\n",
       "      <th>2</th>\n",
       "      <td>1882</td>\n",
       "      <td>-0.11</td>\n",
       "      <td>-0.17</td>\n",
       "    </tr>\n",
       "    <tr>\n",
       "      <th>3</th>\n",
       "      <td>1883</td>\n",
       "      <td>-0.17</td>\n",
       "      <td>-0.21</td>\n",
       "    </tr>\n",
       "    <tr>\n",
       "      <th>4</th>\n",
       "      <td>1884</td>\n",
       "      <td>-0.29</td>\n",
       "      <td>-0.24</td>\n",
       "    </tr>\n",
       "    <tr>\n",
       "      <th>...</th>\n",
       "      <td>...</td>\n",
       "      <td>...</td>\n",
       "      <td>...</td>\n",
       "    </tr>\n",
       "    <tr>\n",
       "      <th>139</th>\n",
       "      <td>2019</td>\n",
       "      <td>0.98</td>\n",
       "      <td>0.94</td>\n",
       "    </tr>\n",
       "    <tr>\n",
       "      <th>140</th>\n",
       "      <td>2020</td>\n",
       "      <td>1.02</td>\n",
       "      <td>0.95</td>\n",
       "    </tr>\n",
       "    <tr>\n",
       "      <th>141</th>\n",
       "      <td>2021</td>\n",
       "      <td>0.85</td>\n",
       "      <td>0.98</td>\n",
       "    </tr>\n",
       "    <tr>\n",
       "      <th>142</th>\n",
       "      <td>2022</td>\n",
       "      <td>0.90</td>\n",
       "      <td>1.00</td>\n",
       "    </tr>\n",
       "    <tr>\n",
       "      <th>143</th>\n",
       "      <td>2023</td>\n",
       "      <td>1.17</td>\n",
       "      <td>1.02</td>\n",
       "    </tr>\n",
       "  </tbody>\n",
       "</table>\n",
       "<p>144 rows × 3 columns</p>\n",
       "</div>\n",
       "    <div class=\"colab-df-buttons\">\n",
       "\n",
       "  <div class=\"colab-df-container\">\n",
       "    <button class=\"colab-df-convert\" onclick=\"convertToInteractive('df-4cb158b3-ab6c-41be-89a0-f01e070430b1')\"\n",
       "            title=\"Convert this dataframe to an interactive table.\"\n",
       "            style=\"display:none;\">\n",
       "\n",
       "  <svg xmlns=\"http://www.w3.org/2000/svg\" height=\"24px\" viewBox=\"0 -960 960 960\">\n",
       "    <path d=\"M120-120v-720h720v720H120Zm60-500h600v-160H180v160Zm220 220h160v-160H400v160Zm0 220h160v-160H400v160ZM180-400h160v-160H180v160Zm440 0h160v-160H620v160ZM180-180h160v-160H180v160Zm440 0h160v-160H620v160Z\"/>\n",
       "  </svg>\n",
       "    </button>\n",
       "\n",
       "  <style>\n",
       "    .colab-df-container {\n",
       "      display:flex;\n",
       "      gap: 12px;\n",
       "    }\n",
       "\n",
       "    .colab-df-convert {\n",
       "      background-color: #E8F0FE;\n",
       "      border: none;\n",
       "      border-radius: 50%;\n",
       "      cursor: pointer;\n",
       "      display: none;\n",
       "      fill: #1967D2;\n",
       "      height: 32px;\n",
       "      padding: 0 0 0 0;\n",
       "      width: 32px;\n",
       "    }\n",
       "\n",
       "    .colab-df-convert:hover {\n",
       "      background-color: #E2EBFA;\n",
       "      box-shadow: 0px 1px 2px rgba(60, 64, 67, 0.3), 0px 1px 3px 1px rgba(60, 64, 67, 0.15);\n",
       "      fill: #174EA6;\n",
       "    }\n",
       "\n",
       "    .colab-df-buttons div {\n",
       "      margin-bottom: 4px;\n",
       "    }\n",
       "\n",
       "    [theme=dark] .colab-df-convert {\n",
       "      background-color: #3B4455;\n",
       "      fill: #D2E3FC;\n",
       "    }\n",
       "\n",
       "    [theme=dark] .colab-df-convert:hover {\n",
       "      background-color: #434B5C;\n",
       "      box-shadow: 0px 1px 3px 1px rgba(0, 0, 0, 0.15);\n",
       "      filter: drop-shadow(0px 1px 2px rgba(0, 0, 0, 0.3));\n",
       "      fill: #FFFFFF;\n",
       "    }\n",
       "  </style>\n",
       "\n",
       "    <script>\n",
       "      const buttonEl =\n",
       "        document.querySelector('#df-4cb158b3-ab6c-41be-89a0-f01e070430b1 button.colab-df-convert');\n",
       "      buttonEl.style.display =\n",
       "        google.colab.kernel.accessAllowed ? 'block' : 'none';\n",
       "\n",
       "      async function convertToInteractive(key) {\n",
       "        const element = document.querySelector('#df-4cb158b3-ab6c-41be-89a0-f01e070430b1');\n",
       "        const dataTable =\n",
       "          await google.colab.kernel.invokeFunction('convertToInteractive',\n",
       "                                                    [key], {});\n",
       "        if (!dataTable) return;\n",
       "\n",
       "        const docLinkHtml = 'Like what you see? Visit the ' +\n",
       "          '<a target=\"_blank\" href=https://colab.research.google.com/notebooks/data_table.ipynb>data table notebook</a>'\n",
       "          + ' to learn more about interactive tables.';\n",
       "        element.innerHTML = '';\n",
       "        dataTable['output_type'] = 'display_data';\n",
       "        await google.colab.output.renderOutput(dataTable, element);\n",
       "        const docLink = document.createElement('div');\n",
       "        docLink.innerHTML = docLinkHtml;\n",
       "        element.appendChild(docLink);\n",
       "      }\n",
       "    </script>\n",
       "  </div>\n",
       "\n",
       "\n",
       "<div id=\"df-682be9ea-e23e-4f9d-b081-9209e131a368\">\n",
       "  <button class=\"colab-df-quickchart\" onclick=\"quickchart('df-682be9ea-e23e-4f9d-b081-9209e131a368')\"\n",
       "            title=\"Suggest charts\"\n",
       "            style=\"display:none;\">\n",
       "\n",
       "<svg xmlns=\"http://www.w3.org/2000/svg\" height=\"24px\"viewBox=\"0 0 24 24\"\n",
       "     width=\"24px\">\n",
       "    <g>\n",
       "        <path d=\"M19 3H5c-1.1 0-2 .9-2 2v14c0 1.1.9 2 2 2h14c1.1 0 2-.9 2-2V5c0-1.1-.9-2-2-2zM9 17H7v-7h2v7zm4 0h-2V7h2v10zm4 0h-2v-4h2v4z\"/>\n",
       "    </g>\n",
       "</svg>\n",
       "  </button>\n",
       "\n",
       "<style>\n",
       "  .colab-df-quickchart {\n",
       "      --bg-color: #E8F0FE;\n",
       "      --fill-color: #1967D2;\n",
       "      --hover-bg-color: #E2EBFA;\n",
       "      --hover-fill-color: #174EA6;\n",
       "      --disabled-fill-color: #AAA;\n",
       "      --disabled-bg-color: #DDD;\n",
       "  }\n",
       "\n",
       "  [theme=dark] .colab-df-quickchart {\n",
       "      --bg-color: #3B4455;\n",
       "      --fill-color: #D2E3FC;\n",
       "      --hover-bg-color: #434B5C;\n",
       "      --hover-fill-color: #FFFFFF;\n",
       "      --disabled-bg-color: #3B4455;\n",
       "      --disabled-fill-color: #666;\n",
       "  }\n",
       "\n",
       "  .colab-df-quickchart {\n",
       "    background-color: var(--bg-color);\n",
       "    border: none;\n",
       "    border-radius: 50%;\n",
       "    cursor: pointer;\n",
       "    display: none;\n",
       "    fill: var(--fill-color);\n",
       "    height: 32px;\n",
       "    padding: 0;\n",
       "    width: 32px;\n",
       "  }\n",
       "\n",
       "  .colab-df-quickchart:hover {\n",
       "    background-color: var(--hover-bg-color);\n",
       "    box-shadow: 0 1px 2px rgba(60, 64, 67, 0.3), 0 1px 3px 1px rgba(60, 64, 67, 0.15);\n",
       "    fill: var(--button-hover-fill-color);\n",
       "  }\n",
       "\n",
       "  .colab-df-quickchart-complete:disabled,\n",
       "  .colab-df-quickchart-complete:disabled:hover {\n",
       "    background-color: var(--disabled-bg-color);\n",
       "    fill: var(--disabled-fill-color);\n",
       "    box-shadow: none;\n",
       "  }\n",
       "\n",
       "  .colab-df-spinner {\n",
       "    border: 2px solid var(--fill-color);\n",
       "    border-color: transparent;\n",
       "    border-bottom-color: var(--fill-color);\n",
       "    animation:\n",
       "      spin 1s steps(1) infinite;\n",
       "  }\n",
       "\n",
       "  @keyframes spin {\n",
       "    0% {\n",
       "      border-color: transparent;\n",
       "      border-bottom-color: var(--fill-color);\n",
       "      border-left-color: var(--fill-color);\n",
       "    }\n",
       "    20% {\n",
       "      border-color: transparent;\n",
       "      border-left-color: var(--fill-color);\n",
       "      border-top-color: var(--fill-color);\n",
       "    }\n",
       "    30% {\n",
       "      border-color: transparent;\n",
       "      border-left-color: var(--fill-color);\n",
       "      border-top-color: var(--fill-color);\n",
       "      border-right-color: var(--fill-color);\n",
       "    }\n",
       "    40% {\n",
       "      border-color: transparent;\n",
       "      border-right-color: var(--fill-color);\n",
       "      border-top-color: var(--fill-color);\n",
       "    }\n",
       "    60% {\n",
       "      border-color: transparent;\n",
       "      border-right-color: var(--fill-color);\n",
       "    }\n",
       "    80% {\n",
       "      border-color: transparent;\n",
       "      border-right-color: var(--fill-color);\n",
       "      border-bottom-color: var(--fill-color);\n",
       "    }\n",
       "    90% {\n",
       "      border-color: transparent;\n",
       "      border-bottom-color: var(--fill-color);\n",
       "    }\n",
       "  }\n",
       "</style>\n",
       "\n",
       "  <script>\n",
       "    async function quickchart(key) {\n",
       "      const quickchartButtonEl =\n",
       "        document.querySelector('#' + key + ' button');\n",
       "      quickchartButtonEl.disabled = true;  // To prevent multiple clicks.\n",
       "      quickchartButtonEl.classList.add('colab-df-spinner');\n",
       "      try {\n",
       "        const charts = await google.colab.kernel.invokeFunction(\n",
       "            'suggestCharts', [key], {});\n",
       "      } catch (error) {\n",
       "        console.error('Error during call to suggestCharts:', error);\n",
       "      }\n",
       "      quickchartButtonEl.classList.remove('colab-df-spinner');\n",
       "      quickchartButtonEl.classList.add('colab-df-quickchart-complete');\n",
       "    }\n",
       "    (() => {\n",
       "      let quickchartButtonEl =\n",
       "        document.querySelector('#df-682be9ea-e23e-4f9d-b081-9209e131a368 button');\n",
       "      quickchartButtonEl.style.display =\n",
       "        google.colab.kernel.accessAllowed ? 'block' : 'none';\n",
       "    })();\n",
       "  </script>\n",
       "</div>\n",
       "    </div>\n",
       "  </div>\n"
      ],
      "text/plain": [
       "      Año  NoSauvizado  Promedio_5\n",
       "0    1880        -0.17       -0.09\n",
       "1    1881        -0.09       -0.13\n",
       "2    1882        -0.11       -0.17\n",
       "3    1883        -0.17       -0.21\n",
       "4    1884        -0.29       -0.24\n",
       "..    ...          ...         ...\n",
       "139  2019         0.98        0.94\n",
       "140  2020         1.02        0.95\n",
       "141  2021         0.85        0.98\n",
       "142  2022         0.90        1.00\n",
       "143  2023         1.17        1.02\n",
       "\n",
       "[144 rows x 3 columns]"
      ]
     },
     "execution_count": 51,
     "metadata": {},
     "output_type": "execute_result"
    }
   ],
   "source": [
    "import pandas as pd\n",
    "import matplotlib.pylab as plt\n",
    "url=\"https://data.giss.nasa.gov/gistemp/graphs/graph_data/Global_Mean_Estimates_based_on_Land_and_Ocean_Data/graph.txt\"\n",
    "data = pd.read_csv(url, sep='\\\\s+',header=None, skiprows=5)\n",
    "data.columns = [\"Año\" ,\"NoSauvizado\",  \"Promedio_5\"]\n",
    "\n",
    "\n",
    "# Muestra las primeras filas del DataFrame\n",
    "data"
   ]
  },
  {
   "cell_type": "code",
   "execution_count": 52,
   "metadata": {
    "colab": {
     "base_uri": "https://localhost:8080/"
    },
    "id": "-J_JBuVvPnMN",
    "outputId": "f48c7b3c-0174-44ff-95e5-f8d0a208ae62"
   },
   "outputs": [
    {
     "data": {
      "text/plain": [
       "Index(['Año', 'NoSauvizado', 'Promedio_5'], dtype='object')"
      ]
     },
     "execution_count": 52,
     "metadata": {},
     "output_type": "execute_result"
    }
   ],
   "source": [
    "data.columns"
   ]
  },
  {
   "cell_type": "code",
   "execution_count": 53,
   "metadata": {
    "colab": {
     "base_uri": "https://localhost:8080/",
     "height": 447
    },
    "id": "kyop9GJjOvkK",
    "outputId": "141f5d38-90d9-410f-92b9-ac49adbdf32d"
   },
   "outputs": [
    {
     "data": {
      "text/plain": [
       "[<matplotlib.lines.Line2D at 0x7f48bb603a00>]"
      ]
     },
     "execution_count": 53,
     "metadata": {},
     "output_type": "execute_result"
    },
    {
     "data": {
      "image/png": "[encoded data removed]",
      "text/plain": [
       "<Figure size 640x480 with 1 Axes>"
      ]
     },
     "metadata": {},
     "output_type": "display_data"
    }
   ],
   "source": [
    "plt.plot(data['Año'],data['Promedio_5'],'--b')\n"
   ]
  },
  {
   "cell_type": "code",
   "execution_count": 54,
   "metadata": {
    "colab": {
     "base_uri": "https://localhost:8080/",
     "height": 452
    },
    "id": "gmHzfbXEPkIR",
    "outputId": "1fe269c4-bb10-49b5-b9e9-85ba5a967ca1"
   },
   "outputs": [
    {
     "data": {
      "text/plain": [
       "[<matplotlib.lines.Line2D at 0x7f48bd772110>]"
      ]
     },
     "execution_count": 54,
     "metadata": {},
     "output_type": "execute_result"
    },
    {
     "data": {
      "image/png": "[encoded data removed]",
      "text/plain": [
       "<Figure size 640x480 with 1 Axes>"
      ]
     },
     "metadata": {},
     "output_type": "display_data"
    }
   ],
   "source": [
    "plt.plot(data['Año'],data['NoSauvizado'])"
   ]
  },
  {
   "cell_type": "code",
   "execution_count": 55,
   "metadata": {
    "colab": {
     "base_uri": "https://localhost:8080/",
     "height": 490
    },
    "id": "myMrdPUUQH-_",
    "outputId": "f3796016-a714-4e61-8b17-a09b296e1aee"
   },
   "outputs": [
    {
     "name": "stderr",
     "output_type": "stream",
     "text": [
      "<ipython-input-55-b5c8691cda4a>:1: UserWarning: color is redundantly defined by the 'color' keyword argument and the fmt string \"--b\" (-> color='b'). The keyword argument will take precedence.\n",
      "  plt.plot(data['Año'],data['Promedio_5'],'--b',markersize=1, color='blue', linewidth=2.5)\n"
     ]
    },
    {
     "data": {
      "image/png": "[encoded data removed]",
      "text/plain": [
       "<Figure size 640x480 with 1 Axes>"
      ]
     },
     "metadata": {},
     "output_type": "display_data"
    }
   ],
   "source": [
    "plt.plot(data['Año'],data['Promedio_5'],'--b',markersize=1, color='blue', linewidth=2.5)\n",
    "plt.plot(data['Año'],data['NoSauvizado'],'-o', color='darkorange', markersize=2,linewidth=1.5)\n",
    "\n",
    "plt.grid()"
   ]
  },
  {
   "cell_type": "code",
   "execution_count": 55,
   "metadata": {
    "id": "VqkvIaCUQ38G"
   },
   "outputs": [],
   "source": []
  },
  {
   "cell_type": "markdown",
   "metadata": {
    "id": "LWjDavQUTEkq"
   },
   "source": []
  },
  {
   "cell_type": "code",
   "execution_count": 56,
   "metadata": {
    "colab": {
     "base_uri": "https://localhost:8080/",
     "height": 449
    },
    "id": "Eta8cVdzTFRn",
    "outputId": "f90e3b3e-e3e7-465b-f75f-ada47f1176d7"
   },
   "outputs": [
    {
     "data": {
      "image/png": "[encoded data removed]",
      "text/plain": [
       "<Figure size 640x480 with 1 Axes>"
      ]
     },
     "metadata": {},
     "output_type": "display_data"
    }
   ],
   "source": [
    "import numpy as np\n",
    "from scipy.optimize import curve_fit\n",
    "import matplotlib.pyplot as plt\n",
    "\n",
    "# Define la función del modelo que deseas ajustar\n",
    "# En este caso, una función lineal: f(x) = m*x + b\n",
    "def linear_func(x, m, b):\n",
    "    return m * x + b\n",
    "\n",
    "# Datos de ejemplo, reemplace en esta linea por los valores de interes\n",
    "x = np.array([1, 2, 3, 4, 5])\n",
    "y = np.array([2, 4, 5, 4, 5])\n",
    "\n",
    "# Realizar el ajuste de curva\n",
    "params, covariance = curve_fit(linear_func, x, y)\n",
    "\n",
    "# Parámetros del ajuste\n",
    "m, b = params\n",
    "\n",
    "# Generar datos de x para la línea de ajuste\n",
    "x_fit = np.linspace(min(x), max(x), 100)\n",
    "y_fit = linear_func(x_fit, m, b)\n",
    "\n",
    "# Graficar datos y ajuste\n",
    "plt.scatter(x, y, label='Datos')\n",
    "plt.plot(x_fit, y_fit, label='Ajuste lineal', color='red')\n",
    "plt.xlabel('x')\n",
    "plt.ylabel('y')\n",
    "plt.legend()\n",
    "plt.show()"
   ]
  },
  {
   "cell_type": "markdown",
   "metadata": {
    "id": "ad7bh6ndTSLa"
   },
   "source": [
    " Seleccione los datos del periodo 2000-2020 y proceda a:\n",
    "\n",
    "4. Ajustar los datos sin suavizar (NoSauvizado) vs al año de forma lineal.\n",
    "5. Interpolar los datos entre los años 2000 y 2020.\n",
    "\n",
    "\n",
    "6. ¿Es preferible realizar una interpolación o un ajuste de parámetros al modelo en este caso? Justifique su respuesta.\n",
    "\n",
    "7. ¿Cómo podría predecirse el incremento en la temperatura anómala para el año 2030? Justifique su respuesta.\n"
   ]
  },
  {
   "cell_type": "code",
   "execution_count": 66,
   "metadata": {
    "id": "8wYo0ZtgL0wf"
   },
   "outputs": [],
   "source": [
    "data_interpolate=data[(data['Año']>=2000) & (data['Año']<=2020) ]\n"
   ]
  },
  {
   "cell_type": "code",
   "execution_count": 67,
   "metadata": {
    "colab": {
     "base_uri": "https://localhost:8080/",
     "height": 449
    },
    "id": "wPOQD86_TIRn",
    "outputId": "1d1173cc-454c-436a-f70c-1492989d507c"
   },
   "outputs": [
    {
     "data": {
      "image/png": "[encoded data removed]",
      "text/plain": [
       "<Figure size 640x480 with 1 Axes>"
      ]
     },
     "metadata": {},
     "output_type": "display_data"
    }
   ],
   "source": [
    "import numpy as np\n",
    "from scipy.optimize import curve_fit\n",
    "import matplotlib.pyplot as plt\n",
    "\n",
    "# Define la función del modelo que deseas ajustar\n",
    "# En este caso, una función lineal: f(x) = m*x + b\n",
    "def linear_func(x, m, b):\n",
    "    return m * x + b\n",
    "\n",
    "# Datos de ejemplo, reemplace en esta linea por los valores de interes\n",
    "x=np.array(data_interpolate['Año'])\n",
    "y=np.array(data_interpolate['NoSauvizado'])\n",
    "\n",
    "# Realizar el ajuste de curva\n",
    "params, covariance = curve_fit(linear_func, x, y)\n",
    "\n",
    "# Parámetros del ajuste\n",
    "m, b = params\n",
    "\n",
    "# Generar datos de x para la línea de ajuste\n",
    "x_fit = np.linspace(min(x), max(x), 100)\n",
    "y_fit = linear_func(x_fit, m, b)\n",
    "\n",
    "# Graficar datos y ajuste\n",
    "plt.scatter(x, y, label='Datos')\n",
    "plt.plot(x_fit, y_fit, label='Ajuste lineal', color='red')\n",
    "plt.xlabel('x')\n",
    "plt.ylabel('y')\n",
    "plt.legend()\n",
    "plt.show()"
   ]
  },
  {
   "cell_type": "code",
   "execution_count": 60,
   "metadata": {
    "id": "aGM0iXGcY20Z"
   },
   "outputs": [],
   "source": [
    "from scipy.interpolate import CubicSpline"
   ]
  },
  {
   "cell_type": "code",
   "execution_count": 68,
   "metadata": {
    "colab": {
     "base_uri": "https://localhost:8080/",
     "height": 1000
    },
    "id": "Y7oZHaR7aRGa",
    "outputId": "733074bb-c7fb-4d57-a73b-58a5489793fd"
   },
   "outputs": [
    {
     "data": {
      "application/vnd.google.colaboratory.intrinsic+json": {
       "summary": "{\n  \"name\": \"data_interpolate\",\n  \"rows\": 21,\n  \"fields\": [\n    {\n      \"column\": \"A\\u00f1o\",\n      \"properties\": {\n        \"dtype\": \"number\",\n        \"std\": 6,\n        \"min\": 2000,\n        \"max\": 2020,\n        \"num_unique_values\": 21,\n        \"samples\": [\n          2000,\n          2017,\n          2015\n        ],\n        \"semantic_type\": \"\",\n        \"description\": \"\"\n      }\n    },\n    {\n      \"column\": \"NoSauvizado\",\n      \"properties\": {\n        \"dtype\": \"number\",\n        \"std\": 0.17417150824895067,\n        \"min\": 0.39,\n        \"max\": 1.02,\n        \"num_unique_values\": 17,\n        \"samples\": [\n          0.39,\n          0.53,\n          0.64\n        ],\n        \"semantic_type\": \"\",\n        \"description\": \"\"\n      }\n    },\n    {\n      \"column\": \"Promedio_5\",\n      \"properties\": {\n        \"dtype\": \"number\",\n        \"std\": 0.14637199836294476,\n        \"min\": 0.5,\n        \"max\": 0.95,\n        \"num_unique_values\": 18,\n        \"samples\": [\n          0.5,\n          0.52,\n          0.65\n        ],\n        \"semantic_type\": \"\",\n        \"description\": \"\"\n      }\n    }\n  ]\n}",
       "type": "dataframe",
       "variable_name": "data_interpolate"
      },
      "text/html": [
       "\n",
       "  <div id=\"df-2038894c-dd6f-444f-a88c-2243b6b19cdc\" class=\"colab-df-container\">\n",
       "    <div>\n",
       "<style scoped>\n",
       "    .dataframe tbody tr th:only-of-type {\n",
       "        vertical-align: middle;\n",
       "    }\n",
       "\n",
       "    .dataframe tbody tr th {\n",
       "        vertical-align: top;\n",
       "    }\n",
       "\n",
       "    .dataframe thead th {\n",
       "        text-align: right;\n",
       "    }\n",
       "</style>\n",
       "<table border=\"1\" class=\"dataframe\">\n",
       "  <thead>\n",
       "    <tr style=\"text-align: right;\">\n",
       "      <th></th>\n",
       "      <th>Año</th>\n",
       "      <th>NoSauvizado</th>\n",
       "      <th>Promedio_5</th>\n",
       "    </tr>\n",
       "  </thead>\n",
       "  <tbody>\n",
       "    <tr>\n",
       "      <th>120</th>\n",
       "      <td>2000</td>\n",
       "      <td>0.39</td>\n",
       "      <td>0.50</td>\n",
       "    </tr>\n",
       "    <tr>\n",
       "      <th>121</th>\n",
       "      <td>2001</td>\n",
       "      <td>0.53</td>\n",
       "      <td>0.52</td>\n",
       "    </tr>\n",
       "    <tr>\n",
       "      <th>122</th>\n",
       "      <td>2002</td>\n",
       "      <td>0.63</td>\n",
       "      <td>0.55</td>\n",
       "    </tr>\n",
       "    <tr>\n",
       "      <th>123</th>\n",
       "      <td>2003</td>\n",
       "      <td>0.62</td>\n",
       "      <td>0.58</td>\n",
       "    </tr>\n",
       "    <tr>\n",
       "      <th>124</th>\n",
       "      <td>2004</td>\n",
       "      <td>0.53</td>\n",
       "      <td>0.61</td>\n",
       "    </tr>\n",
       "    <tr>\n",
       "      <th>125</th>\n",
       "      <td>2005</td>\n",
       "      <td>0.68</td>\n",
       "      <td>0.62</td>\n",
       "    </tr>\n",
       "    <tr>\n",
       "      <th>126</th>\n",
       "      <td>2006</td>\n",
       "      <td>0.64</td>\n",
       "      <td>0.62</td>\n",
       "    </tr>\n",
       "    <tr>\n",
       "      <th>127</th>\n",
       "      <td>2007</td>\n",
       "      <td>0.66</td>\n",
       "      <td>0.63</td>\n",
       "    </tr>\n",
       "    <tr>\n",
       "      <th>128</th>\n",
       "      <td>2008</td>\n",
       "      <td>0.54</td>\n",
       "      <td>0.64</td>\n",
       "    </tr>\n",
       "    <tr>\n",
       "      <th>129</th>\n",
       "      <td>2009</td>\n",
       "      <td>0.66</td>\n",
       "      <td>0.64</td>\n",
       "    </tr>\n",
       "    <tr>\n",
       "      <th>130</th>\n",
       "      <td>2010</td>\n",
       "      <td>0.73</td>\n",
       "      <td>0.65</td>\n",
       "    </tr>\n",
       "    <tr>\n",
       "      <th>131</th>\n",
       "      <td>2011</td>\n",
       "      <td>0.61</td>\n",
       "      <td>0.67</td>\n",
       "    </tr>\n",
       "    <tr>\n",
       "      <th>132</th>\n",
       "      <td>2012</td>\n",
       "      <td>0.65</td>\n",
       "      <td>0.70</td>\n",
       "    </tr>\n",
       "    <tr>\n",
       "      <th>133</th>\n",
       "      <td>2013</td>\n",
       "      <td>0.68</td>\n",
       "      <td>0.74</td>\n",
       "    </tr>\n",
       "    <tr>\n",
       "      <th>134</th>\n",
       "      <td>2014</td>\n",
       "      <td>0.75</td>\n",
       "      <td>0.79</td>\n",
       "    </tr>\n",
       "    <tr>\n",
       "      <th>135</th>\n",
       "      <td>2015</td>\n",
       "      <td>0.90</td>\n",
       "      <td>0.83</td>\n",
       "    </tr>\n",
       "    <tr>\n",
       "      <th>136</th>\n",
       "      <td>2016</td>\n",
       "      <td>1.02</td>\n",
       "      <td>0.88</td>\n",
       "    </tr>\n",
       "    <tr>\n",
       "      <th>137</th>\n",
       "      <td>2017</td>\n",
       "      <td>0.93</td>\n",
       "      <td>0.92</td>\n",
       "    </tr>\n",
       "    <tr>\n",
       "      <th>138</th>\n",
       "      <td>2018</td>\n",
       "      <td>0.85</td>\n",
       "      <td>0.94</td>\n",
       "    </tr>\n",
       "    <tr>\n",
       "      <th>139</th>\n",
       "      <td>2019</td>\n",
       "      <td>0.98</td>\n",
       "      <td>0.94</td>\n",
       "    </tr>\n",
       "    <tr>\n",
       "      <th>140</th>\n",
       "      <td>2020</td>\n",
       "      <td>1.02</td>\n",
       "      <td>0.95</td>\n",
       "    </tr>\n",
       "  </tbody>\n",
       "</table>\n",
       "</div>\n",
       "    <div class=\"colab-df-buttons\">\n",
       "\n",
       "  <div class=\"colab-df-container\">\n",
       "    <button class=\"colab-df-convert\" onclick=\"convertToInteractive('df-2038894c-dd6f-444f-a88c-2243b6b19cdc')\"\n",
       "            title=\"Convert this dataframe to an interactive table.\"\n",
       "            style=\"display:none;\">\n",
       "\n",
       "  <svg xmlns=\"http://www.w3.org/2000/svg\" height=\"24px\" viewBox=\"0 -960 960 960\">\n",
       "    <path d=\"M120-120v-720h720v720H120Zm60-500h600v-160H180v160Zm220 220h160v-160H400v160Zm0 220h160v-160H400v160ZM180-400h160v-160H180v160Zm440 0h160v-160H620v160ZM180-180h160v-160H180v160Zm440 0h160v-160H620v160Z\"/>\n",
       "  </svg>\n",
       "    </button>\n",
       "\n",
       "  <style>\n",
       "    .colab-df-container {\n",
       "      display:flex;\n",
       "      gap: 12px;\n",
       "    }\n",
       "\n",
       "    .colab-df-convert {\n",
       "      background-color: #E8F0FE;\n",
       "      border: none;\n",
       "      border-radius: 50%;\n",
       "      cursor: pointer;\n",
       "      display: none;\n",
       "      fill: #1967D2;\n",
       "      height: 32px;\n",
       "      padding: 0 0 0 0;\n",
       "      width: 32px;\n",
       "    }\n",
       "\n",
       "    .colab-df-convert:hover {\n",
       "      background-color: #E2EBFA;\n",
       "      box-shadow: 0px 1px 2px rgba(60, 64, 67, 0.3), 0px 1px 3px 1px rgba(60, 64, 67, 0.15);\n",
       "      fill: #174EA6;\n",
       "    }\n",
       "\n",
       "    .colab-df-buttons div {\n",
       "      margin-bottom: 4px;\n",
       "    }\n",
       "\n",
       "    [theme=dark] .colab-df-convert {\n",
       "      background-color: #3B4455;\n",
       "      fill: #D2E3FC;\n",
       "    }\n",
       "\n",
       "    [theme=dark] .colab-df-convert:hover {\n",
       "      background-color: #434B5C;\n",
       "      box-shadow: 0px 1px 3px 1px rgba(0, 0, 0, 0.15);\n",
       "      filter: drop-shadow(0px 1px 2px rgba(0, 0, 0, 0.3));\n",
       "      fill: #FFFFFF;\n",
       "    }\n",
       "  </style>\n",
       "\n",
       "    <script>\n",
       "      const buttonEl =\n",
       "        document.querySelector('#df-2038894c-dd6f-444f-a88c-2243b6b19cdc button.colab-df-convert');\n",
       "      buttonEl.style.display =\n",
       "        google.colab.kernel.accessAllowed ? 'block' : 'none';\n",
       "\n",
       "      async function convertToInteractive(key) {\n",
       "        const element = document.querySelector('#df-2038894c-dd6f-444f-a88c-2243b6b19cdc');\n",
       "        const dataTable =\n",
       "          await google.colab.kernel.invokeFunction('convertToInteractive',\n",
       "                                                    [key], {});\n",
       "        if (!dataTable) return;\n",
       "\n",
       "        const docLinkHtml = 'Like what you see? Visit the ' +\n",
       "          '<a target=\"_blank\" href=https://colab.research.google.com/notebooks/data_table.ipynb>data table notebook</a>'\n",
       "          + ' to learn more about interactive tables.';\n",
       "        element.innerHTML = '';\n",
       "        dataTable['output_type'] = 'display_data';\n",
       "        await google.colab.output.renderOutput(dataTable, element);\n",
       "        const docLink = document.createElement('div');\n",
       "        docLink.innerHTML = docLinkHtml;\n",
       "        element.appendChild(docLink);\n",
       "      }\n",
       "    </script>\n",
       "  </div>\n",
       "\n",
       "\n",
       "<div id=\"df-e49dc669-13bd-4688-b56f-825b6e0d59fa\">\n",
       "  <button class=\"colab-df-quickchart\" onclick=\"quickchart('df-e49dc669-13bd-4688-b56f-825b6e0d59fa')\"\n",
       "            title=\"Suggest charts\"\n",
       "            style=\"display:none;\">\n",
       "\n",
       "<svg xmlns=\"http://www.w3.org/2000/svg\" height=\"24px\"viewBox=\"0 0 24 24\"\n",
       "     width=\"24px\">\n",
       "    <g>\n",
       "        <path d=\"M19 3H5c-1.1 0-2 .9-2 2v14c0 1.1.9 2 2 2h14c1.1 0 2-.9 2-2V5c0-1.1-.9-2-2-2zM9 17H7v-7h2v7zm4 0h-2V7h2v10zm4 0h-2v-4h2v4z\"/>\n",
       "    </g>\n",
       "</svg>\n",
       "  </button>\n",
       "\n",
       "<style>\n",
       "  .colab-df-quickchart {\n",
       "      --bg-color: #E8F0FE;\n",
       "      --fill-color: #1967D2;\n",
       "      --hover-bg-color: #E2EBFA;\n",
       "      --hover-fill-color: #174EA6;\n",
       "      --disabled-fill-color: #AAA;\n",
       "      --disabled-bg-color: #DDD;\n",
       "  }\n",
       "\n",
       "  [theme=dark] .colab-df-quickchart {\n",
       "      --bg-color: #3B4455;\n",
       "      --fill-color: #D2E3FC;\n",
       "      --hover-bg-color: #434B5C;\n",
       "      --hover-fill-color: #FFFFFF;\n",
       "      --disabled-bg-color: #3B4455;\n",
       "      --disabled-fill-color: #666;\n",
       "  }\n",
       "\n",
       "  .colab-df-quickchart {\n",
       "    background-color: var(--bg-color);\n",
       "    border: none;\n",
       "    border-radius: 50%;\n",
       "    cursor: pointer;\n",
       "    display: none;\n",
       "    fill: var(--fill-color);\n",
       "    height: 32px;\n",
       "    padding: 0;\n",
       "    width: 32px;\n",
       "  }\n",
       "\n",
       "  .colab-df-quickchart:hover {\n",
       "    background-color: var(--hover-bg-color);\n",
       "    box-shadow: 0 1px 2px rgba(60, 64, 67, 0.3), 0 1px 3px 1px rgba(60, 64, 67, 0.15);\n",
       "    fill: var(--button-hover-fill-color);\n",
       "  }\n",
       "\n",
       "  .colab-df-quickchart-complete:disabled,\n",
       "  .colab-df-quickchart-complete:disabled:hover {\n",
       "    background-color: var(--disabled-bg-color);\n",
       "    fill: var(--disabled-fill-color);\n",
       "    box-shadow: none;\n",
       "  }\n",
       "\n",
       "  .colab-df-spinner {\n",
       "    border: 2px solid var(--fill-color);\n",
       "    border-color: transparent;\n",
       "    border-bottom-color: var(--fill-color);\n",
       "    animation:\n",
       "      spin 1s steps(1) infinite;\n",
       "  }\n",
       "\n",
       "  @keyframes spin {\n",
       "    0% {\n",
       "      border-color: transparent;\n",
       "      border-bottom-color: var(--fill-color);\n",
       "      border-left-color: var(--fill-color);\n",
       "    }\n",
       "    20% {\n",
       "      border-color: transparent;\n",
       "      border-left-color: var(--fill-color);\n",
       "      border-top-color: var(--fill-color);\n",
       "    }\n",
       "    30% {\n",
       "      border-color: transparent;\n",
       "      border-left-color: var(--fill-color);\n",
       "      border-top-color: var(--fill-color);\n",
       "      border-right-color: var(--fill-color);\n",
       "    }\n",
       "    40% {\n",
       "      border-color: transparent;\n",
       "      border-right-color: var(--fill-color);\n",
       "      border-top-color: var(--fill-color);\n",
       "    }\n",
       "    60% {\n",
       "      border-color: transparent;\n",
       "      border-right-color: var(--fill-color);\n",
       "    }\n",
       "    80% {\n",
       "      border-color: transparent;\n",
       "      border-right-color: var(--fill-color);\n",
       "      border-bottom-color: var(--fill-color);\n",
       "    }\n",
       "    90% {\n",
       "      border-color: transparent;\n",
       "      border-bottom-color: var(--fill-color);\n",
       "    }\n",
       "  }\n",
       "</style>\n",
       "\n",
       "  <script>\n",
       "    async function quickchart(key) {\n",
       "      const quickchartButtonEl =\n",
       "        document.querySelector('#' + key + ' button');\n",
       "      quickchartButtonEl.disabled = true;  // To prevent multiple clicks.\n",
       "      quickchartButtonEl.classList.add('colab-df-spinner');\n",
       "      try {\n",
       "        const charts = await google.colab.kernel.invokeFunction(\n",
       "            'suggestCharts', [key], {});\n",
       "      } catch (error) {\n",
       "        console.error('Error during call to suggestCharts:', error);\n",
       "      }\n",
       "      quickchartButtonEl.classList.remove('colab-df-spinner');\n",
       "      quickchartButtonEl.classList.add('colab-df-quickchart-complete');\n",
       "    }\n",
       "    (() => {\n",
       "      let quickchartButtonEl =\n",
       "        document.querySelector('#df-e49dc669-13bd-4688-b56f-825b6e0d59fa button');\n",
       "      quickchartButtonEl.style.display =\n",
       "        google.colab.kernel.accessAllowed ? 'block' : 'none';\n",
       "    })();\n",
       "  </script>\n",
       "</div>\n",
       "    </div>\n",
       "  </div>\n"
      ],
      "text/plain": [
       "      Año  NoSauvizado  Promedio_5\n",
       "120  2000         0.39        0.50\n",
       "121  2001         0.53        0.52\n",
       "122  2002         0.63        0.55\n",
       "123  2003         0.62        0.58\n",
       "124  2004         0.53        0.61\n",
       "125  2005         0.68        0.62\n",
       "126  2006         0.64        0.62\n",
       "127  2007         0.66        0.63\n",
       "128  2008         0.54        0.64\n",
       "129  2009         0.66        0.64\n",
       "130  2010         0.73        0.65\n",
       "131  2011         0.61        0.67\n",
       "132  2012         0.65        0.70\n",
       "133  2013         0.68        0.74\n",
       "134  2014         0.75        0.79\n",
       "135  2015         0.90        0.83\n",
       "136  2016         1.02        0.88\n",
       "137  2017         0.93        0.92\n",
       "138  2018         0.85        0.94\n",
       "139  2019         0.98        0.94\n",
       "140  2020         1.02        0.95"
      ]
     },
     "execution_count": 68,
     "metadata": {},
     "output_type": "execute_result"
    },
    {
     "data": {
      "image/png": "[encoded data removed]",
      "text/plain": [
       "<Figure size 640x480 with 1 Axes>"
      ]
     },
     "metadata": {},
     "output_type": "display_data"
    }
   ],
   "source": [
    "data_interpolate=data[(data['Año']>=2000) & (data['Año']<=2020) ]\n",
    "plt.plot(x,y,'o', color='blue', markersize=2,linewidth=2)\n",
    "x=np.array(data_interpolate['Año'])\n",
    "y=np.array(data_interpolate['NoSauvizado'])\n",
    "data_interpolate"
   ]
  },
  {
   "cell_type": "code",
   "execution_count": 73,
   "metadata": {
    "colab": {
     "base_uri": "https://localhost:8080/",
     "height": 430
    },
    "id": "uNmnykhLTr_B",
    "outputId": "38ee7b5d-54fb-44bd-be27-83df0f8f751c"
   },
   "outputs": [
    {
     "data": {
      "image/png": "[encoded data removed]",
      "text/plain": [
       "<Figure size 640x480 with 1 Axes>"
      ]
     },
     "metadata": {},
     "output_type": "display_data"
    }
   ],
   "source": [
    "data_interpolate=data[(data['Año']>=2000) & (data['Año']<=2020) ]\n",
    "plt.plot(x,y,'o', color='blue', markersize=2,linewidth=2)\n",
    "x=np.array(data_interpolate['Año'])\n",
    "y=np.array(data_interpolate['NoSauvizado'])\n",
    "\n",
    "P_cub=CubicSpline(x,y)\n",
    "x_cubi=np.arange(2000,2020,0.01)\n",
    "plt.plot(x_cubi,P_cub(x_cubi),'r')\n",
    "\n",
    "plt.grid()\n"
   ]
  },
  {
   "cell_type": "markdown",
   "metadata": {
    "id": "ywhyxqUmPKRn"
   },
   "source": [
    "##Respuestas:\n",
    "##6)El ajuste de parámetros sería preferible sobre la interpolación para modelar la relación entre la temperatura anómala y el tiempo. Este enfoque simplifica la complejidad de los datos al resumir la relación en una forma más simple, como una línea recta, lo que facilita su interpretación y comunicación. Además, el ajuste de parámetros proporciona mayor estabilidad y robustez a las fluctuaciones en los datos, así como la capacidad de hacer predicciones a largo plazo extrapolando la tendencia observada en los datos pasados.\n",
    "##7) Si bien la interpolación con Spline cúbico puede ser útil para visualizar tendencias y obtener estimaciones puntuales para años dentro del rango medido, el ajuste de parámetros con una función lineal y la posterior extrapolación ofrecen una forma más robusta, interpretable y comunicable de analizar la temperatura anómala y predecir su incremento para el año 2030, considerando la incertidumbre asociada a la predicción."
   ]
  },
  {
   "cell_type": "code",
   "execution_count": 74,
   "metadata": {
    "colab": {
     "base_uri": "https://localhost:8080/"
    },
    "id": "cr5b9dhCT72I",
    "outputId": "dba7571d-a14b-4fae-c0ec-58a07ab45e4b"
   },
   "outputs": [
    {
     "data": {
      "text/plain": [
       "array(-3.64647764)"
      ]
     },
     "execution_count": 74,
     "metadata": {},
     "output_type": "execute_result"
    }
   ],
   "source": [
    "P_cub(2023)"
   ]
  },
  {
   "cell_type": "code",
   "execution_count": null,
   "metadata": {
    "id": "AV_mV2ZEa1JP"
   },
   "outputs": [],
   "source": []
  }
 ],
 "metadata": {
  "colab": {
   "provenance": []
  },
  "kernelspec": {
   "display_name": "Python 3 (ipykernel)",
   "language": "python",
   "name": "python3"
  },
  "language_info": {
   "codemirror_mode": {
    "name": "ipython",
    "version": 3
   },
   "file_extension": ".py",
   "mimetype": "text/x-python",
   "name": "python",
   "nbconvert_exporter": "python",
   "pygments_lexer": "ipython3",
   "version": "3.10.9"
  }
 },
 "nbformat": 4,
 "nbformat_minor": 1
}
