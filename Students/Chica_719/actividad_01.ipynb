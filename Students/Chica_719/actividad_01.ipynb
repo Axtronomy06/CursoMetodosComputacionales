{
  "nbformat": 4,
  "nbformat_minor": 0,
  "metadata": {
    "colab": {
      "provenance": []
    },
    "kernelspec": {
      "name": "python3",
      "display_name": "Python 3"
    },
    "language_info": {
      "name": "python"
    }
  },
  "cells": [
    {
      "cell_type": "markdown",
      "source": [
        "###1. Escribir un programa que pida al usuario dos números enteros , y muestre por pantalla el cociente y el residuo entre y ."
      ],
      "metadata": {
        "id": "6_d6zi9_xof3"
      }
    },
    {
      "cell_type": "code",
      "source": [
        "a=int(input(\"Escriba el primer numero entero: \"))\n",
        "b=int(input(\"Escriba el segundo numero entero: \"))\n",
        "if type(a)==(int) and type(b)==(int):\n",
        "  x=a/b\n",
        "  y=a%b\n",
        "  print(\"Divisiòn:\",x)\n",
        "  print(\"Residuo\",y)\n",
        "else:\n",
        "  print(\"Debe ser de tipo entero\")"
      ],
      "metadata": {
        "id": "N4t_BLXjdJ6P",
        "colab": {
          "base_uri": "https://localhost:8080/"
        },
        "outputId": "89b36f74-eca9-48f0-c269-482b84e45c08"
      },
      "execution_count": 19,
      "outputs": [
        {
          "output_type": "stream",
          "name": "stdout",
          "text": [
            "Escriba el primer numero entero: 2\n",
            "Escriba el segundo numero entero: 3\n",
            "Divisiòn: 0.6666666666666666\n",
            "Residuo 2\n"
          ]
        }
      ]
    },
    {
      "cell_type": "markdown",
      "source": [
        "### 2. Crea una función llamada doble_factorial que reciba un parámetro llamado n. La función debe devolver el doble factorial de n, que se define como el producto de todos los números naturales desde n hasta 1 que tienen el mismo paridad que n. Por ejemplo, si n es 5, la función debe devolver 15, que es el resultado de 5 x 3 x 1. Llama a la función doble_factorial con diferentes valores para el parámetro n, como 6, 7 o 8."
      ],
      "metadata": {
        "id": "s9Ba4S8axPwn"
      }
    },
    {
      "cell_type": "code",
      "source": [
        "def doble_factorial(n):\n",
        "    s=n\n",
        "    while(n>2):\n",
        "        n=n-2\n",
        "        s=s*n\n",
        "    return(s)\n",
        "n=5\n",
        "r= doble_factorial(n)\n",
        "print(\"El doble factorial de\",n, \"es\", r)\n",
        "n=6\n",
        "r= doble_factorial(n)\n",
        "print(\"El doble factorial de\",n, \"es\", r)\n",
        "n=8\n",
        "r= doble_factorial(n)\n",
        "print(\"El doble factorial de\",n, \"es\", r)"
      ],
      "metadata": {
        "colab": {
          "base_uri": "https://localhost:8080/"
        },
        "id": "FO3J4UIRcvYF",
        "outputId": "253e54c9-9c4e-4edd-a940-70ff9d23f6b6"
      },
      "execution_count": 17,
      "outputs": [
        {
          "output_type": "stream",
          "name": "stdout",
          "text": [
            "El doble factorial de 5 es 15\n",
            "El doble factorial de 6 es 48\n",
            "El doble factorial de 8 es 384\n"
          ]
        }
      ]
    },
    {
      "cell_type": "markdown",
      "source": [
        "###3. Crea una función llamada lucas que reciba un parámetro llamado n. La función debe devolver el n-ésimo término de la sucesión de Lucas, que se define de forma similar a la sucesión de Fibonacci, pero con los dos primeros términos iguales a 2 y 1. Por ejemplo, si n es 3, la función debe devolver 4, que es el tercer término de la sucesión. Llama a la función lucas con diferentes valores para el parámetro n, como 9, 10 o 11."
      ],
      "metadata": {
        "id": "EUEUntxoyLJs"
      }
    },
    {
      "cell_type": "code",
      "source": [
        "n=int(input(\"Escribe el numero de lucas que deseas: \"))\n",
        "def numero_de_lucas(n):\n",
        "  sl=0\n",
        "  s=[1,3]\n",
        "  if n==0:\n",
        "    print(2)\n",
        "  elif n==1:\n",
        "    print(1)\n",
        "  else:\n",
        "    for i in range(1,n-1):\n",
        "      sl=s[i]+s[i-1]\n",
        "      s.append(sl)\n",
        "    print(\"Esta es la secuencia del numero de lucas de\",n,\"en esta lista:\",s)\n",
        "    print(f\"El numero de lucas de L({n}) =\",s[i+1])\n",
        "\n",
        "numero_de_lucas(n)"
      ],
      "metadata": {
        "id": "A8H7gEC5cuLu",
        "colab": {
          "base_uri": "https://localhost:8080/"
        },
        "outputId": "01be7c57-87b9-437f-88e5-cce01806e521"
      },
      "execution_count": 19,
      "outputs": [
        {
          "output_type": "stream",
          "name": "stdout",
          "text": [
            "Escribe el numero de lucas que deseas: 15\n",
            "Esta es la secuencia del numero de lucas de 15 en esta lista: [1, 3, 4, 7, 11, 18, 29, 47, 76, 123, 199, 322, 521, 843, 1364]\n",
            "El numero de lucas de L(15) = 1364\n"
          ]
        }
      ]
    },
    {
      "cell_type": "markdown",
      "source": [
        "###4.Crea una función llamada binomial que reciba dos parámetros llamados n y k. La función debe devolver el coeficiente binomial de n y k, que se define como el número de formas de elegir k elementos distintos de un conjunto de n elementos. Por ejemplo, si n es 5 y k es 3, la función debe devolver 10, ya que hay diez formas de elegir tres elementos distintos de un conjunto de cinco elementos. Llama a la función binomial con diferentes valores para los parámetros n y k, como 6 y 4, o 7 y 2."
      ],
      "metadata": {
        "id": "JIWdgWbM0o79"
      }
    },
    {
      "cell_type": "code",
      "execution_count": 9,
      "metadata": {
        "id": "cvxTDO58H3zK",
        "colab": {
          "base_uri": "https://localhost:8080/"
        },
        "outputId": "0cd103ca-75a8-4350-ee35-bcaa7cd80308"
      },
      "outputs": [
        {
          "output_type": "stream",
          "name": "stdout",
          "text": [
            "Escribe el numero total de elementos del conjunto: 6\n",
            "Escribe el numero de elementos que deseas elegir de ese conjunto: 2\n",
            "El número de formas diferentes en que se pueden seleccionar de 2 elementos de un conjunto de 6 elementos es: 15.0\n"
          ]
        }
      ],
      "source": [
        "def factorial1(n):\n",
        "\n",
        "  if n<0:\n",
        "    return(\"el número no puede ser negativo\")\n",
        "  elif type(n)==float:\n",
        "    return(\"el número no puede ser real\")\n",
        "  else:\n",
        "    f=1\n",
        "    for i in range(n):\n",
        "      f*=i+1\n",
        "    return(f)\n",
        "n=int(input(\"Escribe el numero total de elementos del conjunto: \"))\n",
        "k=int(input(\"Escribe el numero de elementos que deseas elegir de ese conjunto: \"))\n",
        "def binomial (n,k):\n",
        "  x=factorial1(n)\n",
        "  y=factorial1(k)\n",
        "  z=n-k\n",
        "  h=factorial1(z)\n",
        "  l=x/((h)*y)\n",
        "  print(\"El número de formas diferentes en que se pueden seleccionar de\",k,\"elementos de un conjunto de\",n,\"elementos es:\",l)\n",
        "\n",
        "binomial(n,k)"
      ]
    },
    {
      "cell_type": "code",
      "source": [
        "\n",
        "\n"
      ],
      "metadata": {
        "colab": {
          "base_uri": "https://localhost:8080/"
        },
        "id": "VLkco1aFITAJ",
        "outputId": "5aabcc95-9003-48b8-f2a7-f3b9152df8e8"
      },
      "execution_count": 48,
      "outputs": [
        {
          "output_type": "execute_result",
          "data": {
            "text/plain": [
              "3.0"
            ]
          },
          "metadata": {},
          "execution_count": 48
        }
      ]
    },
    {
      "cell_type": "code",
      "source": [],
      "metadata": {
        "id": "Yy8WN0IZJC9t"
      },
      "execution_count": null,
      "outputs": []
    }
  ]
}