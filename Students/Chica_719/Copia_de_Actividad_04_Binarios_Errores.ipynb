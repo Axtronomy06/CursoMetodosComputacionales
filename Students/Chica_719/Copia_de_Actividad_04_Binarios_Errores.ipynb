{
  "cells": [
    {
      "cell_type": "markdown",
      "id": "6d26e874",
      "metadata": {
        "id": "6d26e874"
      },
      "source": [
        "<a href=\"https://colab.research.google.com/github/hernansalinas/autogrades/blob/main/Actividades_clase/Actividad_04_Binarios_Errores.ipynb\" target=\"_parent\"><img src=\"https://colab.research.google.com/assets/colab-badge.svg\" alt=\"Open In Colab\"/></a>\n",
        "\n",
        "\n",
        "\n",
        "# Actividad 4\n",
        "### Métodos computacionales para físicos  y astrónomos\n",
        "### Universidad de Antioquia\n",
        "### Prof: Hernan D. Salinas Jiménez\n"
      ]
    },
    {
      "cell_type": "code",
      "execution_count": null,
      "id": "eae80e3f",
      "metadata": {
        "id": "eae80e3f",
        "outputId": "10720a42-5783-4fe4-c0d8-8d740009f760",
        "colab": {
          "base_uri": "https://localhost:8080/"
        }
      },
      "outputs": [
        {
          "output_type": "stream",
          "name": "stdout",
          "text": [
            "Cloning into 'autogrades'...\n",
            "remote: Enumerating objects: 1002, done.\u001b[K\n",
            "remote: Counting objects: 100% (64/64), done.\u001b[K\n",
            "remote: Compressing objects: 100% (54/54), done.\u001b[K\n",
            "remote: Total 1002 (delta 33), reused 35 (delta 9), pack-reused 938\u001b[K\n",
            "Receiving objects: 100% (1002/1002), 38.88 MiB | 27.12 MiB/s, done.\n",
            "Resolving deltas: 100% (608/608), done.\n"
          ]
        }
      ],
      "source": [
        "!git clone https://github.com/hernansalinas/autogrades.git\n",
        "#path=\"libs\"\n",
        "path=\"autogrades/Actividades_clase/libs\"\n",
        "%run -i {path}/libUnitTest.py"
      ]
    },
    {
      "cell_type": "markdown",
      "id": "74f1131a",
      "metadata": {
        "id": "74f1131a"
      },
      "source": [
        "### Activity 1.0:\n",
        "\n",
        "Implement a function that get the binary representation of an integer with name mybin, the algorithm should return\n",
        "a string with 8 characters, the maximun number that represent the funcition is integer of 8 bit. The name of function is\n",
        "mybin\n",
        "\n",
        "Ejexample :\n",
        "\n",
        "b=mybin(x)\n",
        "\n",
        "b='00101000'"
      ]
    },
    {
      "cell_type": "code",
      "execution_count": 21,
      "id": "4c8dabcf",
      "metadata": {
        "id": "4c8dabcf",
        "outputId": "d74b8cb9-70ff-409a-8a40-291cf7c58a40",
        "colab": {
          "base_uri": "https://localhost:8080/",
          "height": 35
        }
      },
      "outputs": [
        {
          "output_type": "execute_result",
          "data": {
            "text/plain": [
              "'1 1 1 1 1 1 1 1'"
            ],
            "application/vnd.google.colaboratory.intrinsic+json": {
              "type": "string"
            }
          },
          "metadata": {},
          "execution_count": 21
        }
      ],
      "source": [
        "##!/usr/bin/env python3\n",
        "import numpy as np\n",
        "\n",
        "def mybin(x):\n",
        "  r=[]\n",
        "  c=0\n",
        "  while x>0:\n",
        "    x%2==0\n",
        "    r.append(x%2)\n",
        "    c=x//2\n",
        "    x=c\n",
        "    #print(r[::-1])\n",
        "  nu=str(0)\n",
        "  if len(r)<8:\n",
        "    for i in range(len(r)):\n",
        "      nu+=\" \"+str(r[i])\n",
        "    return(\"0 \"+nu[:1:-1])\n",
        "  else:\n",
        "    for i in range(len(r)):\n",
        "      nu+=\" \"+str(r[i])\n",
        "    return(nu[:1:-1])\n",
        "mybin(255)\n",
        "    #print('__name__ = {}'.format(__name__))\n",
        "   # Write your code here and change the next line as required\n",
        "    #return \"111\""
      ]
    },
    {
      "cell_type": "code",
      "execution_count": null,
      "id": "885be6fb",
      "metadata": {
        "id": "885be6fb",
        "colab": {
          "base_uri": "https://localhost:8080/",
          "height": 215
        },
        "outputId": "430d6da2-b42f-496a-ff7f-00e2dbee4352"
      },
      "outputs": [
        {
          "output_type": "display_data",
          "data": {
            "text/plain": [
              "<IPython.core.display.HTML object>"
            ],
            "text/html": [
              "<style>\n",
              "  table { text-align: left; border-collapse: collapse; margin: 1em; caption-side: bottom; font-family: Sans-Serif; font-size: 12px}\n",
              "  caption { text-align: left; padding: 5px }\n",
              "  th, td { border: 2px solid #BFC9CA; padding: 5px }\n",
              "  th { background-color: #BFC9CA }\n",
              "  .passed { background-color: #76D7C4 }\n",
              "  .failed { background-color: #EC7063 }\n",
              "  .skipped { background-color: #EDBB99 }\n",
              "  .score { background-color: #7DCEA0 }\n",
              "  .results .points { display: none }\n",
              "  .results .message { display: block; font-size:smaller; color:#D35400 }\n",
              "  .results .note { display: block; font-size:smaller; font-decoration:italics }\n",
              "  .results .passed::before  { content: \"Passed\" } \n",
              "  .results .skipped::before  { content: \"Skipped\" } \n",
              "  .results .failed::before  { content: \"Failed\" } \n",
              "  .grade .passed  .message:empty::before { content:\"Passed\" }\n",
              "  .grade .failed  .message:empty::before { content:\"Failed\" }\n",
              "  .grade .skipped .message:empty::before { content:\"Skipped\" }   \n",
              "</style>\n",
              "<table class='results'>\n",
              "  <th class='test'>Test</th><th class='result'>Result</th></tr>\n",
              "<tr>\n",
              "  <td class='test'>\n",
              "    La salida debe ser un string \n",
              "    <div class='message'>Done</div>\n",
              "  </td>\n",
              "  <td class='result passed'></td>\n",
              "</tr>\n",
              "<tr>\n",
              "  <td class='test'>\n",
              "    La longitud del string debe ser de 8 \n",
              "    <div class='message'>Error: 8 != 15 : #-The expect value is 8 and the functions test is 15\n",
              "</div>\n",
              "  </td>\n",
              "  <td class='result failed'></td>\n",
              "</tr>\n",
              "<tr>\n",
              "  <td class='test'>\n",
              "    Para el número 136 su representacion es 10001000 \n",
              "    <div class='message'>Error: &#x27;10001000&#x27; != &#x27;1 0 0 0 1 0 0 0&#x27;\n",
              "- 10001000\n",
              "+ 1 0 0 0 1 0 0 0\n",
              " : #-The expect value is 10001000 and the functions test is 1 0 0 0 1 0 0 0\n",
              "</div>\n",
              "  </td>\n",
              "  <td class='result failed'></td>\n",
              "</tr>  <tr><th class='score'>Total Points</th><th class='score'>0</th></tr></table>\n"
            ]
          },
          "metadata": {}
        }
      ],
      "source": [
        "%run -i {path}/Act_02/test01.py"
      ]
    },
    {
      "cell_type": "markdown",
      "id": "e622b7b5",
      "metadata": {
        "id": "e622b7b5"
      },
      "source": [
        "### Activity 2.0:\n",
        "\n",
        "With the binary representation please try to implement the formula to recover the number.\n",
        "\n",
        "Hint: Use as input the binary representation as a string and invert its order\n",
        "\n",
        "```\n",
        "number32(BIN):\n",
        "\n",
        "```\n",
        "\n",
        "Where BIN is a string with the binary number\n",
        "\n",
        "Example:\n",
        "\n",
        "\n",
        "Test your solution for the next number:\n",
        "\n",
        "number32(\"00111110001000000000001000010000\")"
      ]
    },
    {
      "cell_type": "code",
      "source": [],
      "metadata": {
        "colab": {
          "base_uri": "https://localhost:8080/"
        },
        "id": "6dsGq0r62yf9",
        "outputId": "7ecb59dd-6557-4336-8749-a32c9901d184"
      },
      "id": "6dsGq0r62yf9",
      "execution_count": null,
      "outputs": [
        {
          "output_type": "execute_result",
          "data": {
            "text/plain": [
              "True"
            ]
          },
          "metadata": {},
          "execution_count": 116
        }
      ]
    },
    {
      "cell_type": "code",
      "execution_count": 1,
      "id": "5f3c6506",
      "metadata": {
        "id": "5f3c6506",
        "colab": {
          "base_uri": "https://localhost:8080/"
        },
        "outputId": "71e30da1-579e-4e08-b0fd-0ee519809c69"
      },
      "outputs": [
        {
          "output_type": "execute_result",
          "data": {
            "text/plain": [
              "1042285072"
            ]
          },
          "metadata": {},
          "execution_count": 1
        }
      ],
      "source": [
        "def number32(x):\n",
        "  BIN=str(x)\n",
        "  #print(BIN)\n",
        "  BIN=BIN[::-1]\n",
        "  #print(BIN)\n",
        "  c=0\n",
        "  for i in range(len(BIN)):\n",
        "    c+=int(BIN[i])*2**(i)\n",
        "    #print(i,BIN[i],2**(i))\n",
        "    #print(c)\n",
        "  return(c)\n",
        "number32(\"00111110001000000000001000010000\")"
      ]
    },
    {
      "cell_type": "code",
      "source": [
        "b0=\"00111110001000000000000000000000\"\n",
        "def e(b0):\n",
        "  #b0=\"00111110001000000000000000000000\"\n",
        "  #print(b0)\n",
        "  b=b0[::-1]\n",
        "  #print(b)\n",
        "  signo=b[31]\n",
        "  #print(signo)\n",
        "  pos_expo=b[23:31]\n",
        "  #print(pos_expo)\n",
        "  pos_frac=b[0:23]\n",
        "  len(signo),len(pos_expo),len(pos_frac)\n",
        "  s=0\n",
        "  for i in range(0,8):\n",
        "    s+=int(pos_expo[i])*(2**(i))\n",
        "  return(s)\n",
        "\n",
        "a=1\n",
        "def r(a):\n",
        "  #b0=\"00111110001000000000000000000000\"\n",
        "  #print(b0)\n",
        "  b=b0[::-1]\n",
        "  #print(b)\n",
        "  signo=b[31]\n",
        "  #print(signo)\n",
        "  pos_expo=b[23:31]\n",
        "  #print(pos_expo)\n",
        "  pos_frac=b[0:22]\n",
        "  s0=0\n",
        "  for j in range(0,22):\n",
        "    s0=s0+(int(pos_frac[j]))/(2**((23)-j))\n",
        "  return(s0+1)\n",
        "#print(r(a))\n",
        "#print(e(b0))\n",
        "n=(1/(2**(127-e(b0))))*(r(a))\n",
        "print(n)\n"
      ],
      "metadata": {
        "colab": {
          "base_uri": "https://localhost:8080/"
        },
        "id": "Stcgil_PuZd1",
        "outputId": "6288dccf-92f7-485c-a276-6b3274be8ada"
      },
      "id": "Stcgil_PuZd1",
      "execution_count": 6,
      "outputs": [
        {
          "output_type": "stream",
          "name": "stdout",
          "text": [
            "0.15625\n"
          ]
        }
      ]
    },
    {
      "cell_type": "code",
      "execution_count": null,
      "id": "155ffd7f",
      "metadata": {
        "id": "155ffd7f",
        "colab": {
          "base_uri": "https://localhost:8080/",
          "height": 175
        },
        "outputId": "8117fd45-fd24-45e2-91bc-330e78b38adb"
      },
      "outputs": [
        {
          "output_type": "display_data",
          "data": {
            "text/plain": [
              "<IPython.core.display.HTML object>"
            ],
            "text/html": [
              "<style>\n",
              "  table { text-align: left; border-collapse: collapse; margin: 1em; caption-side: bottom; font-family: Sans-Serif; font-size: 12px}\n",
              "  caption { text-align: left; padding: 5px }\n",
              "  th, td { border: 2px solid #BFC9CA; padding: 5px }\n",
              "  th { background-color: #BFC9CA }\n",
              "  .passed { background-color: #76D7C4 }\n",
              "  .failed { background-color: #EC7063 }\n",
              "  .skipped { background-color: #EDBB99 }\n",
              "  .score { background-color: #7DCEA0 }\n",
              "  .results .points { display: none }\n",
              "  .results .message { display: block; font-size:smaller; color:#D35400 }\n",
              "  .results .note { display: block; font-size:smaller; font-decoration:italics }\n",
              "  .results .passed::before  { content: \"Passed\" } \n",
              "  .results .skipped::before  { content: \"Skipped\" } \n",
              "  .results .failed::before  { content: \"Failed\" } \n",
              "  .grade .passed  .message:empty::before { content:\"Passed\" }\n",
              "  .grade .failed  .message:empty::before { content:\"Failed\" }\n",
              "  .grade .skipped .message:empty::before { content:\"Skipped\" }   \n",
              "</style>\n",
              "<table class='results'>\n",
              "  <th class='test'>Test</th><th class='result'>Result</th></tr>\n",
              "<tr>\n",
              "  <td class='test'>\n",
              "    La salida debe ser un float \n",
              "    <div class='message'>Error: &lt;class &#x27;float&#x27;&gt; != &lt;class &#x27;int&#x27;&gt; : #-The expect value is &lt;class &#x27;float&#x27;&gt; and the functions test is &lt;class &#x27;int&#x27;&gt;\n",
              "</div>\n",
              "  </td>\n",
              "  <td class='result failed'></td>\n",
              "</tr>\n",
              "<tr>\n",
              "  <td class='test'>\n",
              "    Realizando prueba para un numero binario \n",
              "    <div class='message'>Need resolve the before assignement </div>\n",
              "  </td>\n",
              "  <td class='result skipped'></td>\n",
              "</tr>  <tr><th class='score'>Total Points</th><th class='score'>0</th></tr></table>\n"
            ]
          },
          "metadata": {}
        }
      ],
      "source": [
        "%run -i {path}/Act_02/test02.py"
      ]
    },
    {
      "cell_type": "markdown",
      "id": "d11e596d",
      "metadata": {
        "id": "d11e596d"
      },
      "source": [
        "### Activity 3.0:\n",
        "1. Write a python script that calculates the double precision number represented by a 64-bits binary.\n",
        "\n",
        "the name of function should be:\n",
        "```\n",
        "number64(BIN):\n",
        "\n",
        "```\n",
        "\n",
        "2. What is the number represented by:\n",
        "\n",
        "BIN=\"0 10000000011 1011100100001111111111111111111111111111111111111111\""
      ]
    },
    {
      "cell_type": "code",
      "execution_count": 11,
      "id": "b0922a1d",
      "metadata": {
        "id": "b0922a1d",
        "colab": {
          "base_uri": "https://localhost:8080/"
        },
        "outputId": "6ff01339-0f35-41e4-f469-2cd099326f0e"
      },
      "outputs": [
        {
          "output_type": "stream",
          "name": "stdout",
          "text": [
            "27.566406249999996\n"
          ]
        }
      ],
      "source": [
        "b0=\"0100000000111011100100001111111111111111111111111111111111111111\"\n",
        "def e(b0):\n",
        "  #b0=\"00111110001000000000000000000000\"\n",
        "  #print(b0)\n",
        "  b=b0[::-1]\n",
        "  #print(b)\n",
        "  signo=b[63]\n",
        "  #print(signo)\n",
        "  pos_expo=b[52:63]\n",
        "  #print(pos_expo)\n",
        "  pos_frac=b[0:52]\n",
        "  #print(pos_frac)\n",
        "  len(signo),len(pos_expo),len(pos_frac)\n",
        "  s=0\n",
        "  for i in range(0,11):\n",
        "    s+=int(pos_expo[i])*(2**(i))\n",
        "    #print(i)\n",
        "  return(s)\n",
        "a=1\n",
        "def r(a):\n",
        "\n",
        "  #b0=\"00111110001000000000000000000000\"\n",
        "  #print(b0)\n",
        "  b=b0[::-1]\n",
        "  #print(b)\n",
        "  signo=b[63]\n",
        "  #print(signo)\n",
        "  pos_expo=b[51:63]\n",
        "  #print(pos_expo)\n",
        "  pos_frac=b[0:52]\n",
        "  #print(pos_frac)\n",
        "  s0=0\n",
        "  for j in range(0,52):\n",
        "    s0=s0+(int(pos_frac[j]))/(2**((52-j)))\n",
        "    #print(j)\n",
        "  return(s0+1)\n",
        "  a=s0+1\n",
        "\n",
        "n=(r(a))*(2**(e(b0)-1023))\n",
        "print(n)\n",
        "\n",
        "#100000000111\n"
      ]
    },
    {
      "cell_type": "code",
      "execution_count": null,
      "id": "cd48a992",
      "metadata": {
        "scrolled": false,
        "id": "cd48a992",
        "outputId": "83b30ffe-0ac4-41b6-e1f2-521d460a41a6",
        "colab": {
          "base_uri": "https://localhost:8080/",
          "height": 106
        }
      },
      "outputs": [
        {
          "output_type": "error",
          "ename": "SyntaxError",
          "evalue": "unmatched ')' (test03.py, line 28)",
          "traceback": [
            "\u001b[0;36m  File \u001b[0;32m\"/content/autogrades/Actividades_clase/libs/Act_02/test03.py\"\u001b[0;36m, line \u001b[0;32m28\u001b[0m\n\u001b[0;31m    True)\u001b[0m\n\u001b[0m        ^\u001b[0m\n\u001b[0;31mSyntaxError\u001b[0m\u001b[0;31m:\u001b[0m unmatched ')'\n"
          ]
        }
      ],
      "source": [
        "%run -i {path}/Act_02/test03.py"
      ]
    },
    {
      "cell_type": "code",
      "source": [],
      "metadata": {
        "id": "ucXgnSxVI-uv"
      },
      "id": "ucXgnSxVI-uv",
      "execution_count": null,
      "outputs": []
    }
  ],
  "metadata": {
    "kernelspec": {
      "display_name": "Python 3 (ipykernel)",
      "language": "python",
      "name": "python3"
    },
    "language_info": {
      "codemirror_mode": {
        "name": "ipython",
        "version": 3
      },
      "file_extension": ".py",
      "mimetype": "text/x-python",
      "name": "python",
      "nbconvert_exporter": "python",
      "pygments_lexer": "ipython3",
      "version": "3.10.9"
    },
    "colab": {
      "provenance": []
    }
  },
  "nbformat": 4,
  "nbformat_minor": 5
}