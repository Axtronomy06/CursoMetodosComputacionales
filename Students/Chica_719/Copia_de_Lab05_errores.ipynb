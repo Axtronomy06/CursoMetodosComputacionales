{
  "cells": [
    {
      "cell_type": "markdown",
      "metadata": {
        "id": "APjUyX_ccJdO"
      },
      "source": [
        "<a href=\"https://colab.research.google.com/github/hernansalinas/autogrades/blob/main/Laboratorios_Taller/Lab05_errores.ipynb\" target=\"_parent\"><img src=\"https://colab.research.google.com/assets/colab-badge.svg\" alt=\"Open In Colab\"/></a>"
      ]
    },
    {
      "cell_type": "markdown",
      "metadata": {
        "id": "z_gkZBk6K8TH"
      },
      "source": [
        "# Tipos de errores.\n",
        "\n",
        "Errores en la computación, ver libro [Computational Physics. ](https://www.dropbox.com/s/n06ul2r4l65khl6/Computational%20Physics%20-%20Problem%20Solving%20with%20Computers%2C%203527406263.pdf?dl=0)\n",
        ":\n",
        "\n",
        "\n",
        ">- ### Blunder or bad theory\n",
        "Errores tipográficos de entrada, errores en los datos, razonamientos teoricos malos, entre otros.\n",
        ">- ### Errores aleatorios.\n",
        "Impresiones causadas por eventos tales como fluctuaciones electronicas, rayos cósmicos. Se presentan rara vez, y y tiene una mayor probabilidad de ocurrir cuando los calculos se demoran del orden de semanas.\n",
        ">- ### Errores de aproximación:\n",
        "Se presentan por truncamiento de los modelos numéricos, por ejemplol si consideramos la serie asociada a la función\n",
        "$\\sin x$:\n",
        "\n",
        "\\begin{equation}\n",
        "\\sin x = \\sum_{n=1}^{\\infty} \\frac{(-1)^{n-1}x^{2n-1}}{(2n-1)!}\n",
        "\\end{equation}\n",
        "\n",
        "\n",
        "\\begin{equation}\n",
        "\\sin x = \\sum_{n=1}^{N} \\frac{(-1)^{n-1}x^{2n-1}}{(2n-1)!} + \\varepsilon(x, N)\n",
        "\\end{equation}\n",
        "\n",
        "\n",
        "> El error numérico  en el calculo computacional es del orden de  $\\varepsilon(x, N)$, dado que el computador debe truncar la serie en un N determinado.\n",
        "\n",
        "\n",
        ">- ### Errores de redondeo:\n",
        "Análogos a los errores  de  cantidad experimentales.\n"
      ]
    },
    {
      "cell_type": "markdown",
      "metadata": {
        "id": "OFqJhhVmLhdX"
      },
      "source": []
    },
    {
      "cell_type": "markdown",
      "metadata": {
        "id": "VVDQ_eH5Jjxw"
      },
      "source": [
        "# Errores de redondeo:\n",
        "## Cancelacion substractiva\n",
        "\n",
        "Sea $b_c = b (1+ \\epsilon)$ y Sea $c_c = c (1+ \\epsilon)$ La representacion de dos números en el computador.  Calculemos la diferencia entre estos dos números:\n",
        "\n",
        "\n",
        "$a_c = (b-c) + b\\epsilon_b -c\\epsilon_c = a+ b\\epsilon_b -c\\epsilon_c$\n",
        "\n",
        "$\\frac{a_c}{a} = 1 + \\frac{b}{a}\\epsilon_b -\\frac{c}{a}\\epsilon_c $\n",
        "\n",
        "$\\frac{a_c}{a} = 1 + \\frac{b}{a} \\max(\\epsilon_b,\\epsilon_c) $\n",
        "\n",
        "Si $b\\approx c$, el valor de a es un valor muy grande.\n",
        "\n",
        "\n",
        "\n"
      ]
    },
    {
      "cell_type": "code",
      "execution_count": null,
      "metadata": {
        "id": "O-SP8rPyDQ34"
      },
      "outputs": [],
      "source": [
        "import numpy as np"
      ]
    },
    {
      "cell_type": "code",
      "source": [],
      "metadata": {
        "id": "B61GUGDmdYqx"
      },
      "execution_count": null,
      "outputs": []
    },
    {
      "cell_type": "code",
      "execution_count": null,
      "metadata": {
        "colab": {
          "base_uri": "https://localhost:8080/"
        },
        "id": "wqrGTlWw1OUR",
        "outputId": "468d3496-5ed8-4d69-d91f-77f162e5d279"
      },
      "outputs": [
        {
          "output_type": "stream",
          "name": "stdout",
          "text": [
            "1.9073486e-06\n",
            "4.632568359374996%\n"
          ]
        }
      ],
      "source": [
        "print(np.float32(12.123452) - np.float32(12.123450))\n",
        "diff=np.float32(12.123452) - np.float32(12.123450)\n",
        "valor_real = 0.000002\n",
        "error=(abs(diff-valor_real)/valor_real)*100\n",
        "print(f\"{error}%\")\n",
        "#(12.123452/valor_real)*1/(2**31)"
      ]
    },
    {
      "cell_type": "code",
      "execution_count": null,
      "metadata": {
        "colab": {
          "base_uri": "https://localhost:8080/"
        },
        "id": "AeDXTAN7OTcn",
        "outputId": "5f01350d-933a-48f9-b382-c0d723af2396"
      },
      "outputs": [
        {
          "output_type": "stream",
          "name": "stdout",
          "text": [
            "0.0\n",
            "5.0\n",
            "¿Cual es la diferencia entre estas dos restas?\n"
          ]
        }
      ],
      "source": [
        "print(np.float32(1234567895) - np.float32(1234567890))\n",
        "print(np.float64(1234567895) - np.float64(1234567890))\n",
        "print(\"¿Cual es la diferencia entre estas dos restas?\")"
      ]
    },
    {
      "cell_type": "code",
      "execution_count": null,
      "metadata": {
        "colab": {
          "base_uri": "https://localhost:8080/"
        },
        "id": "O5uQVd-TZmPQ",
        "outputId": "006fcd80-03c9-436f-ad5e-6809765e62c6"
      },
      "outputs": [
        {
          "name": "stdout",
          "output_type": "stream",
          "text": [
            "4.0\n",
            "5.0\n",
            "¿Cual es la diferencia entre estas dos restas?\n"
          ]
        }
      ],
      "source": [
        "print(np.float32(12345675) - np.float32(12345671))\n",
        "print(np.float64(1234567895) - np.float64(1234567890))\n",
        "print(\"¿Cual es la diferencia entre estas dos restas?\")"
      ]
    },
    {
      "cell_type": "code",
      "execution_count": null,
      "metadata": {
        "colab": {
          "base_uri": "https://localhost:8080/"
        },
        "id": "gSutoSLxR7A1",
        "outputId": "aa3a2b60-8cc1-4425-870a-675d869921d3"
      },
      "outputs": [
        {
          "data": {
            "text/plain": [
              "1.9073486328125e-06"
            ]
          },
          "execution_count": 28,
          "metadata": {},
          "output_type": "execute_result"
        }
      ],
      "source": [
        "xt = 12345678912.345678\n",
        "yt = 12345678912.345677\n",
        "xt-yt"
      ]
    },
    {
      "cell_type": "code",
      "execution_count": null,
      "metadata": {
        "colab": {
          "base_uri": "https://localhost:8080/"
        },
        "id": "7I__xYI7Sq98",
        "outputId": "67bd8bb6-fd86-4eaf-f958-1e36bf6ceaec"
      },
      "outputs": [
        {
          "data": {
            "text/plain": [
              "-9.999999999999995e-17"
            ]
          },
          "execution_count": 29,
          "metadata": {},
          "output_type": "execute_result"
        }
      ],
      "source": [
        "xt = 0.0000000000000005\n",
        "yt = 0.0000000000000006\n",
        "xt-yt"
      ]
    },
    {
      "cell_type": "code",
      "execution_count": null,
      "metadata": {
        "colab": {
          "base_uri": "https://localhost:8080/"
        },
        "id": "vqwW1XbkYiOS",
        "outputId": "55a31f4b-f49f-4a3a-d2b6-be1ef1222402"
      },
      "outputs": [
        {
          "name": "stdout",
          "output_type": "stream",
          "text": [
            "1.2345678912e-09\n"
          ]
        }
      ],
      "source": [
        "a = np.float16(1.2345678912345678912)-np.float16(1.2345678900000000000)\n",
        "r = 0.0000000012345678912\n",
        "print(r)"
      ]
    },
    {
      "cell_type": "markdown",
      "metadata": {
        "id": "D7wS4CRCMdcJ"
      },
      "source": [
        "## Errores de acumulación\n",
        "$\\epsilon_{ro}=\\sqrt{N}\\epsilon_m$\n"
      ]
    },
    {
      "cell_type": "code",
      "execution_count": null,
      "metadata": {
        "colab": {
          "base_uri": "https://localhost:8080/"
        },
        "id": "KJA7qyMPOkRH",
        "outputId": "535a0646-ff6c-41ae-c2e3-5d4514051ba9"
      },
      "outputs": [
        {
          "name": "stdout",
          "output_type": "stream",
          "text": [
            "Valor a través de la suma:  100000.00149011612\n",
            "Valor exacto:  100000.0\n",
            "Error  1.4901161193847656e-06\n"
          ]
        }
      ],
      "source": [
        "#Con numeros de 32 bit.\n",
        "eps = np. float64(0)\n",
        "N = 1000000\n",
        "for i in range(0, N):\n",
        " eps = np.float32(0.1) + eps\n",
        "\n",
        "exac = N*0.1\n",
        "error = np.abs(exac-eps) / exac\n",
        "print(\"Valor a través de la suma: \", eps)\n",
        "print(\"Valor exacto: \",  exac)\n",
        "print(\"Error \", error*100 )\n"
      ]
    },
    {
      "cell_type": "markdown",
      "metadata": {
        "id": "rjPq2MFFObTp"
      },
      "source": [
        "\n",
        "## Errores de aproximación.\n",
        " $\\epsilon_{aprox}=\\frac{\\alpha}{N^{\\beta}}$\n"
      ]
    },
    {
      "cell_type": "markdown",
      "metadata": {
        "id": "uisq8TnEOftp"
      },
      "source": [
        "## Error total:\n",
        " $\\epsilon_{aprox} = \\epsilon_{ro}+\\epsilon_{aprox}$\n",
        "\n"
      ]
    },
    {
      "cell_type": "markdown",
      "metadata": {
        "id": "4XGEWL7NN1H-"
      },
      "source": [
        "# Errores de una serie\n",
        "\n",
        "- ¿Converge la serie?\n",
        "- ¿Qué tan preciso es la convergencia?\n",
        "- Costo computacional\n",
        "\n",
        "\n",
        "## Error de una serie\n",
        "Sea $x$ el valor verdadero y $x^*$ el valor aproximado\n",
        "\n",
        "- Error absoluto : se define como\n",
        "\\begin{equation*}\n",
        "\\epsilon_{abs}= |x-x^*|\n",
        "\\end{equation*}\n",
        "- Error relativo : es dado por\n",
        "\\begin{equation*}\n",
        "\\epsilon_{rel}= \\frac{|x-x^*|}{|x|}\n",
        "\\end{equation*}\n",
        "- Error en series : El error para truncar una serie se toma como\n",
        "\\begin{equation*}\n",
        "\\epsilon_{aprox}= \\left|\\frac{nth\\hbox{-term}}{\\hbox{suma}}\\right|< \\hbox{eps}\n",
        "\\end{equation*}\n",
        "La tolerancia normalmente se toma como un número pequeño, por ejemplo `eps` $=10^{-10}$. Note que no se trunca la serie usando $|{nth}\\hbox{-term}|<$ eps,   usar esta forma puede conducir a errores debido a que no se compara con el valor de la suma (un millon compardo a uno es grande, pero comparado a diez mil millones es pequeño).\n",
        "\n",
        "Tomemos como ejemplo otra vez el cálculo de la serie del seno,\n"
      ]
    },
    {
      "cell_type": "markdown",
      "metadata": {
        "id": "reiKGKshRPay"
      },
      "source": [
        "# Laboratorio\n",
        "\n",
        "## 1. Exponencial, serie alternante (serieEn)\n",
        "Objetivo: Analizar el uso de la cancelación substractiva\n",
        "\n",
        "\n",
        "Copia textual del libro  [Computational Physics. ](https://www.dropbox.com/s/n06ul2r4l65khl6/Computational%20Physics%20-%20Problem%20Solving%20with%20Computers%2C%203527406263.pdf?dl=0)\n",
        "\n",
        "- Write a program that calculates $e^{-x}$\n",
        "\n",
        "\\begin{equation}\n",
        "e^{-x}=\\sum_{n=0}^{N}  (-1)^n \\frac{x^{n}}{n!}\n",
        "\\end{equation}\n",
        "\n",
        "\n",
        "- Calculate your series for $x \\le 1$ and compare it to the built-in function\n",
        "exp(x) (you may assume that the built-in exponential function is exact).\n",
        "You should pick an N for which the next term in the series is no more\n",
        "than $10^{-7}$ of the sum up to that point\n",
        "\n",
        "\\begin{equation}\n",
        "\\left| \\frac{(-x)^{N+1}}{(N+1)!} \\right | \\le \\left| 10^{-7} \\sum_{N=0}^{N} \\frac{(-x)^{n}}{n!} \\right|\n",
        "\\end{equation}\n",
        "\n",
        "- Examine the terms in the series for $x\\approx 10$ and observe the significant subtractive cancellations that occur when large terms add together to give small answers. In particular, print out the near-perfect cancellation\n",
        "at $n \\approx x − 1$.\n",
        "\n",
        "- See if better precision is obtained by being clever and using exp(−x) = 1/ exp(x) for large x values. This eliminates subtractive cancellation, but does not eliminate all roundoff errors\n",
        "\n",
        "- By progressively increasing x from 1 to 10, and then from 10 to 100, use your program to determine experimentally when the series starts to lose accuracy, and when the series no longer converges\n",
        "\n",
        "- Make a series of graphs of the error versus N for different values of x."
      ]
    },
    {
      "cell_type": "code",
      "source": [
        "import math\n",
        "\n",
        "def factorial(n):\n",
        "  if n == 0:\n",
        "    return 1\n",
        "  else:\n",
        "    return n * factorial(n - 1)\n",
        "\n",
        "def exp_minus_x(x, N, tolerancia):\n",
        "  suma = 0.0\n",
        "  termino = 1.0\n",
        "  for n in range(N + 1):\n",
        "    suma += termino\n",
        "    termino *= -x / (n + 1)\n",
        "    if abs(termino) < tolerancia * abs(suma):\n",
        "      break\n",
        "  return suma\n",
        "\n",
        "def main():\n",
        "  x = 0.5\n",
        "  N = 10\n",
        "  tolerancia = 1e-7\n",
        "\n",
        "  # Calcular e^(-x) con la serie de Maclaurin\n",
        "  suma_serie = exp_minus_x(x, N, tolerancia)\n",
        "\n",
        "  # Comparar con la función exp(-x) incorporada\n",
        "  exp_incorporada = math.exp(-x)\n",
        "\n",
        "  # Mostrar resultados\n",
        "  print(f\"x = {x}\")\n",
        "  print(f\"N = {N}\")\n",
        "  print(f\"Serie de Maclaurin: {suma_serie}\")\n",
        "  print(f\"Función exp(-x) incorporada: {exp_incorporada}\")\n",
        "  print(f\"Error: {abs(suma_serie - exp_incorporada)}\")\n",
        "\n",
        "  # Examinar términos para x ≈ 10\n",
        "  if x == 10.0:\n",
        "    for n in range(N + 1):\n",
        "      print(f\"n = {n}, término = {(-x)**n / factorial(n)}\")\n",
        "\n",
        "  # Probar la precisión con exp(-x) = 1 / exp(x)\n",
        "  if x >= 10.0:\n",
        "    exp_inversa = 1.0 / exp_minus_x(x, N, tolerancia)\n",
        "    print(f\"e^(-x) usando 1 / exp(x): {exp_inversa}\")\n",
        "\n",
        "main()\n"
      ],
      "metadata": {
        "colab": {
          "base_uri": "https://localhost:8080/"
        },
        "id": "sxGmStiWqYmn",
        "outputId": "bff52719-ebbd-4416-f747-fc501d0748c2"
      },
      "execution_count": 18,
      "outputs": [
        {
          "output_type": "stream",
          "name": "stdout",
          "text": [
            "x = 0.5\n",
            "N = 10\n",
            "Serie de Maclaurin: 0.6065306648375496\n",
            "Función exp(-x) incorporada: 0.6065306597126334\n",
            "Error: 5.124916158116832e-09\n"
          ]
        }
      ]
    },
    {
      "cell_type": "markdown",
      "metadata": {
        "id": "JlEPRSzJcJde"
      },
      "source": [
        "## 2. Cancelación sustractiva\n",
        "\n",
        "\n",
        "\n",
        "**serieSn**. Un ejemplo de la cancelacion substractiva es en la suma de series alternantes. Considere la serie $\\mathrm{S}_N$,  escrita  matematicamente de tres formas diferentes:\n",
        "\n",
        "-\n",
        "\\begin{equation}\n",
        "\\mathrm{S}_N^{(1)} = \\sum_{n = 1}^{2N} (-1)^n \\frac{n}{n+1}\n",
        "\\end{equation}\n",
        "\n",
        "- Sumando números pares e impares.\n",
        "\n",
        "\\begin{equation}\n",
        "\\mathrm{S}_N^{(2)} = -\\sum_{n = 1}^{N}\\frac{2n-1}{2n} + \\sum_{n=1}^{N} \\frac{2n}{2n+1}\n",
        "\\end{equation}\n",
        "\n",
        "- Combinando las series de una forma analítica\n",
        "\n",
        "\\begin{equation}\n",
        "\\mathrm{S}_N^{(3)} = \\sum_{n = 1}^{N}\\frac{1}{2n(2n+1)}\n",
        "\\end{equation}\n",
        "\n",
        "\n",
        "\n",
        "Las tres sumas $\\mathrm{S}_N^{(1)}$, $\\mathrm{S}_N^{(2)}$ y $\\mathrm{S}_N^{(3)}$ son matemáticamente iguales, pero los resultados  pueden tener resultados numéricos diferentes.\n",
        "\n",
        "\n",
        "- Escribir un programa que realice el cálculo de $\\mathrm{S}_N^{(1)}$, $\\mathrm{S}_N^{(2)}$ y $\\mathrm{S}_N^{(3)}$\n",
        "- Estudiar la convergencia de la serie para los tres casos.\n",
        "- Considere  que $S_N^{(3)}$ es la solución exacta, realizar dos graficos log-log, del error relativo en función\n",
        "del número de términos ($\\mathrm{Log_{10}} E$ VS $\\mathrm{Log_{10}} N$), para $S_N^{(1)}$ y $S_N^{(2)}$. Donde,  $E = |(S_N^{(i)} - S_N^{(3)})/S_N^{(3)}|$, i = 1, 2. Considere valores de $N = 1\\times 10^{6}$.\n",
        "- Analizar y discutir los resultados. Tenga en cuenta la discusión realizada sobre teoría de errores en la página\n",
        "39 del libro del libro [Computational Physics. ](https://www.dropbox.com/s/n06ul2r4l65khl6/Computational%20Physics%20-%20Problem%20Solving%20with%20Computers%2C%203527406263.pdf?dl=0)\n",
        "\n",
        "\n"
      ]
    },
    {
      "cell_type": "code",
      "execution_count": null,
      "metadata": {
        "id": "mVBPZn6XcJdf"
      },
      "outputs": [],
      "source": []
    },
    {
      "cell_type": "code",
      "source": [
        "import numpy as np\n",
        "import matplotlib.pyplot as plt\n",
        "\n",
        "def sum_S1(N):\n",
        "    result = np.zeros_like(N, dtype=float)\n",
        "    for i, n in enumerate(N):\n",
        "        for j in range(1, 2*n + 1):\n",
        "            result[i] += (-1)**j * j / (j + 1)\n",
        "    return result\n",
        "\n",
        "def sum_S2(N):\n",
        "    result = np.zeros_like(N, dtype=float)\n",
        "    for i, n in enumerate(N):\n",
        "        for j in range(1, n + 1):\n",
        "            result[i] -= (2*j - 1) / (2*j)\n",
        "            result[i] += 2*j / (2*j + 1)\n",
        "    return result\n",
        "\n",
        "def sum_S3(N):\n",
        "    result = np.zeros_like(N, dtype=float)\n",
        "    for i, n in enumerate(N):\n",
        "        for j in range(1, n + 1):\n",
        "            result[i] += 1 / (2*j * (2*j + 1))\n",
        "    return result\n",
        "\n",
        "def relative_error(approx, exact):\n",
        "    return np.abs((approx - exact) / exact)\n",
        "\n",
        "def plot_error(N_values, error_values, title):\n",
        "    plt.figure()\n",
        "    plt.loglog(N_values, error_values, marker='o', linestyle='-')\n",
        "    plt.title(title)\n",
        "    plt.xlabel('$\\log_{10} N$')\n",
        "    plt.ylabel('$\\log_{10} E$')\n",
        "    plt.grid(True)\n",
        "    plt.show()\n",
        "\n",
        "N_values = np.logspace(1, 6, num=100, dtype=int)\n",
        "error_S1 = relative_error(sum_S1(N_values), sum_S3(N_values))\n",
        "error_S2 = relative_error(sum_S2(N_values), sum_S3(N_values))\n",
        "\n",
        "plot_error(N_values, error_S1, 'Error relativo para $S_N^{(1)}$ vs $S_N^{(3)}$')\n",
        "plot_error(N_values, error_S2, 'Error relativo para $S_N^{(2)}$ vs $S_N^{(3)}$')\n",
        "sum_S1(N_values)\n",
        "sum_S2(N_values)\n",
        "sum_S3(N_values)\n"
      ],
      "metadata": {
        "colab": {
          "base_uri": "https://localhost:8080/",
          "height": 1000
        },
        "id": "8v_HYJrsrWkK",
        "outputId": "1e824c7c-24a9-47e8-f90d-b4f3b579cf19"
      },
      "execution_count": 30,
      "outputs": [
        {
          "output_type": "display_data",
          "data": {
            "text/plain": [
              "<Figure size 640x480 with 1 Axes>"
            ],
            "image/png": "[encoded data removed]"
          },
          "metadata": {}
        },
        {
          "output_type": "display_data",
          "data": {
            "text/plain": [
              "<Figure size 640x480 with 1 Axes>"
            ],
            "image/png": "[encoded data removed]"
          },
          "metadata": {}
        },
        {
          "output_type": "execute_result",
          "data": {
            "text/plain": [
              "array([0.28360955, 0.28558583, 0.2872525 , 0.28990853, 0.2909838 ,\n",
              "       0.2927711 , 0.29480637, 0.29586513, 0.297145  , 0.29815782,\n",
              "       0.29897929, 0.29986015, 0.30071808, 0.3013885 , 0.30192683,\n",
              "       0.3025239 , 0.30299187, 0.30341643, 0.30379474, 0.30412804,\n",
              "       0.30441974, 0.30467418, 0.30492604, 0.30513756, 0.30531672,\n",
              "       0.30549228, 0.30563775, 0.30577407, 0.30589036, 0.30599592,\n",
              "       0.30609004, 0.30617301, 0.30624859, 0.3063149 , 0.30637366,\n",
              "       0.30642602, 0.30647274, 0.30651487, 0.30655189, 0.30658479,\n",
              "       0.30661421, 0.30664037, 0.30666368, 0.30668444, 0.30670301,\n",
              "       0.3067194 , 0.30673404, 0.3067471 , 0.30675872, 0.30676903,\n",
              "       0.30677823, 0.30678641, 0.30679371, 0.3068002 , 0.30680597,\n",
              "       0.30681112, 0.3068157 , 0.30681977, 0.3068234 , 0.30682663,\n",
              "       0.3068295 , 0.30683207, 0.30683434, 0.30683637, 0.30683818,\n",
              "       0.30683978, 0.30684122, 0.30684249, 0.30684362, 0.30684463,\n",
              "       0.30684553, 0.30684633, 0.30684704, 0.30684768, 0.30684824,\n",
              "       0.30684875, 0.30684919, 0.30684959, 0.30684995, 0.30685026,\n",
              "       0.30685054, 0.30685079, 0.30685101, 0.30685121, 0.30685139,\n",
              "       0.30685155, 0.30685169, 0.30685181, 0.30685192, 0.30685202,\n",
              "       0.30685211, 0.30685219, 0.30685226, 0.30685232, 0.30685237,\n",
              "       0.30685242, 0.30685247, 0.3068525 , 0.30685254, 0.30685257])"
            ]
          },
          "metadata": {},
          "execution_count": 30
        }
      ]
    },
    {
      "cell_type": "code",
      "source": [],
      "metadata": {
        "id": "uzoEENggsnz0"
      },
      "execution_count": null,
      "outputs": []
    }
  ],
  "metadata": {
    "colab": {
      "provenance": []
    },
    "kernelspec": {
      "display_name": "Python 3 (ipykernel)",
      "language": "python",
      "name": "python3"
    },
    "language_info": {
      "codemirror_mode": {
        "name": "ipython",
        "version": 3
      },
      "file_extension": ".py",
      "mimetype": "text/x-python",
      "name": "python",
      "nbconvert_exporter": "python",
      "pygments_lexer": "ipython3",
      "version": "3.10.9"
    }
  },
  "nbformat": 4,
  "nbformat_minor": 0
}