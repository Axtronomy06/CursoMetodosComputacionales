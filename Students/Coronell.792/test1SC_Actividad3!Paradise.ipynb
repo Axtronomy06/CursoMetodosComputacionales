{
  "cells": [
    {
      "cell_type": "code",
      "execution_count": null,
      "id": "6d83d19d",
      "metadata": {
        "deletable": false,
        "editable": false,
        "id": "6d83d19d"
      },
      "outputs": [],
      "source": [
        "# Initialize Otter\n",
        "import otter\n",
        "grader = otter.Notebook(\"test1.ipynb\")"
      ]
    },
    {
      "cell_type": "code",
      "execution_count": null,
      "id": "c2066cfe",
      "metadata": {
        "id": "c2066cfe"
      },
      "outputs": [],
      "source": [
        "#!pip install otter-grader"
      ]
    },
    {
      "cell_type": "markdown",
      "id": "8a7d1298",
      "metadata": {
        "id": "8a7d1298"
      },
      "source": [
        "<a href=\"https://colab.research.google.com/github/hernansalinas/autogradesMetodosComputacionales/blob/main/Actividades_clase/actividad03/test1.ipynb\" target=\"_parent\"><img src=\"https://colab.research.google.com/assets/colab-badge.svg\" alt=\"Open In Colab\"/></a>\n",
        "\n"
      ]
    },
    {
      "cell_type": "code",
      "execution_count": null,
      "id": "54e59a67",
      "metadata": {
        "id": "54e59a67"
      },
      "outputs": [],
      "source": [
        "import otter\n",
        "import pandas as pd\n",
        "import numpy as np\n",
        "%matplotlib inline\n",
        "import otter\n",
        "grader = otter.Notebook()\n"
      ]
    },
    {
      "cell_type": "markdown",
      "id": "02469dfd",
      "metadata": {
        "deletable": false,
        "editable": false,
        "id": "02469dfd"
      },
      "source": [
        "**Question 1:** Escribir una función llamada `promedio` que retorne el promedio de una arrray de numpy"
      ]
    },
    {
      "cell_type": "code",
      "execution_count": null,
      "id": "0921bc33",
      "metadata": {
        "tags": [],
        "id": "0921bc33",
        "outputId": "c07d30de-8865-430d-802e-9b7ee6c59890"
      },
      "outputs": [
        {
          "data": {
            "text/plain": [
              "8.0"
            ]
          },
          "execution_count": 101,
          "metadata": {},
          "output_type": "execute_result"
        }
      ],
      "source": [
        "def promedio(array=[]):\n",
        "    n = len(array)\n",
        "    E_x = sum(array)\n",
        "    pro = E_x/n\n",
        "    return pro\n",
        "\n",
        "promedio(array=[2,7,8,7,8,16])"
      ]
    },
    {
      "cell_type": "code",
      "execution_count": null,
      "id": "6b2bd0b1",
      "metadata": {
        "deletable": false,
        "editable": false,
        "id": "6b2bd0b1",
        "outputId": "3cfb8bb1-6afe-4409-8ab2-5d26da168c23"
      },
      "outputs": [
        {
          "data": {
            "text/html": [
              "<p><strong><pre style='display: inline;'>q1</pre></strong> passed! 💯</p>"
            ],
            "text/plain": [
              "q1 results: All test cases passed!"
            ]
          },
          "execution_count": 102,
          "metadata": {},
          "output_type": "execute_result"
        }
      ],
      "source": [
        "grader.check(\"q1\")"
      ]
    },
    {
      "cell_type": "markdown",
      "id": "2cac85e0",
      "metadata": {
        "deletable": false,
        "editable": false,
        "id": "2cac85e0"
      },
      "source": [
        "**Question 2:** Create a DataFrame mirroring the table below and assign this to `data`. Then group by the `flavor` column and find the mean price for each flavor; assign this **series** to `price_by_flavor`.\n",
        "\n",
        "| flavor | scoops | price |\n",
        "|-----|-----|-----|\n",
        "| chocolate | 1 | 2 |\n",
        "| vanilla | 1 | 1.5 |\n",
        "| chocolate | 2 | 3 |\n",
        "| strawberry | 1 | 2 |\n",
        "| strawberry | 3 | 4 |\n",
        "| vanilla | 2 | 2 |\n",
        "| mint | 1 | 4 |\n",
        "| mint | 2 | 5 |\n",
        "| chocolate | 3 | 5 |"
      ]
    },
    {
      "cell_type": "code",
      "execution_count": null,
      "id": "038ac89e",
      "metadata": {
        "tags": [],
        "id": "038ac89e",
        "outputId": "e8ac49ad-50d7-4824-929e-9011fdb3da23"
      },
      "outputs": [
        {
          "data": {
            "text/plain": [
              "chocolate     3.333333\n",
              "vanilla       1.750000\n",
              "strawberry    3.000000\n",
              "mint          4.500000\n",
              "dtype: float64"
            ]
          },
          "execution_count": 125,
          "metadata": {},
          "output_type": "execute_result"
        }
      ],
      "source": [
        "import pandas as pd\n",
        "Helao = {'flavor':['chocolate','vanilla','chocolate','strawberry','strawberry','vanilla','mint','mint','chocolate'],\n",
        "        'scoops':[1,1,2,1,3,2,1,2,3],\n",
        "        'price':[2,1.5,3,2,4,2,4,5,5]}\n",
        "data = pd.DataFrame(Helao)\n",
        "#data = data.set_index('flavor')\n",
        "price_by_flavor = pd.Series(ponderados)\n",
        "price_by_flavor"
      ]
    },
    {
      "cell_type": "code",
      "execution_count": null,
      "id": "3308c4bd",
      "metadata": {
        "id": "3308c4bd",
        "outputId": "32fe47dc-6bcc-470e-8285-5fbb6e9d09b9"
      },
      "outputs": [
        {
          "data": {
            "text/html": [
              "<div>\n",
              "<style scoped>\n",
              "    .dataframe tbody tr th:only-of-type {\n",
              "        vertical-align: middle;\n",
              "    }\n",
              "\n",
              "    .dataframe tbody tr th {\n",
              "        vertical-align: top;\n",
              "    }\n",
              "\n",
              "    .dataframe thead th {\n",
              "        text-align: right;\n",
              "    }\n",
              "</style>\n",
              "<table border=\"1\" class=\"dataframe\">\n",
              "  <thead>\n",
              "    <tr style=\"text-align: right;\">\n",
              "      <th></th>\n",
              "      <th>flavor</th>\n",
              "      <th>scoops</th>\n",
              "      <th>price</th>\n",
              "    </tr>\n",
              "  </thead>\n",
              "  <tbody>\n",
              "    <tr>\n",
              "      <th>0</th>\n",
              "      <td>chocolate</td>\n",
              "      <td>1</td>\n",
              "      <td>2.0</td>\n",
              "    </tr>\n",
              "    <tr>\n",
              "      <th>1</th>\n",
              "      <td>vanilla</td>\n",
              "      <td>1</td>\n",
              "      <td>1.5</td>\n",
              "    </tr>\n",
              "    <tr>\n",
              "      <th>2</th>\n",
              "      <td>chocolate</td>\n",
              "      <td>2</td>\n",
              "      <td>3.0</td>\n",
              "    </tr>\n",
              "    <tr>\n",
              "      <th>3</th>\n",
              "      <td>strawberry</td>\n",
              "      <td>1</td>\n",
              "      <td>2.0</td>\n",
              "    </tr>\n",
              "    <tr>\n",
              "      <th>4</th>\n",
              "      <td>strawberry</td>\n",
              "      <td>3</td>\n",
              "      <td>4.0</td>\n",
              "    </tr>\n",
              "    <tr>\n",
              "      <th>5</th>\n",
              "      <td>vanilla</td>\n",
              "      <td>2</td>\n",
              "      <td>2.0</td>\n",
              "    </tr>\n",
              "    <tr>\n",
              "      <th>6</th>\n",
              "      <td>mint</td>\n",
              "      <td>1</td>\n",
              "      <td>4.0</td>\n",
              "    </tr>\n",
              "    <tr>\n",
              "      <th>7</th>\n",
              "      <td>mint</td>\n",
              "      <td>2</td>\n",
              "      <td>5.0</td>\n",
              "    </tr>\n",
              "    <tr>\n",
              "      <th>8</th>\n",
              "      <td>chocolate</td>\n",
              "      <td>3</td>\n",
              "      <td>5.0</td>\n",
              "    </tr>\n",
              "  </tbody>\n",
              "</table>\n",
              "</div>"
            ],
            "text/plain": [
              "       flavor  scoops  price\n",
              "0   chocolate       1    2.0\n",
              "1     vanilla       1    1.5\n",
              "2   chocolate       2    3.0\n",
              "3  strawberry       1    2.0\n",
              "4  strawberry       3    4.0\n",
              "5     vanilla       2    2.0\n",
              "6        mint       1    4.0\n",
              "7        mint       2    5.0\n",
              "8   chocolate       3    5.0"
            ]
          },
          "execution_count": 119,
          "metadata": {},
          "output_type": "execute_result"
        }
      ],
      "source": [
        "data"
      ]
    },
    {
      "cell_type": "code",
      "execution_count": null,
      "id": "a26543c9",
      "metadata": {
        "id": "a26543c9",
        "outputId": "1d2e188b-d5aa-43d0-a96e-e3f8cb4457f8"
      },
      "outputs": [
        {
          "data": {
            "text/html": [
              "<div>\n",
              "<style scoped>\n",
              "    .dataframe tbody tr th:only-of-type {\n",
              "        vertical-align: middle;\n",
              "    }\n",
              "\n",
              "    .dataframe tbody tr th {\n",
              "        vertical-align: top;\n",
              "    }\n",
              "\n",
              "    .dataframe thead th {\n",
              "        text-align: right;\n",
              "    }\n",
              "</style>\n",
              "<table border=\"1\" class=\"dataframe\">\n",
              "  <thead>\n",
              "    <tr style=\"text-align: right;\">\n",
              "      <th></th>\n",
              "      <th>scoops</th>\n",
              "      <th>price</th>\n",
              "    </tr>\n",
              "    <tr>\n",
              "      <th>flavor</th>\n",
              "      <th></th>\n",
              "      <th></th>\n",
              "    </tr>\n",
              "  </thead>\n",
              "  <tbody>\n",
              "    <tr>\n",
              "      <th>chocolate</th>\n",
              "      <td>2.0</td>\n",
              "      <td>3.333333</td>\n",
              "    </tr>\n",
              "    <tr>\n",
              "      <th>mint</th>\n",
              "      <td>1.5</td>\n",
              "      <td>4.500000</td>\n",
              "    </tr>\n",
              "    <tr>\n",
              "      <th>strawberry</th>\n",
              "      <td>2.0</td>\n",
              "      <td>3.000000</td>\n",
              "    </tr>\n",
              "    <tr>\n",
              "      <th>vanilla</th>\n",
              "      <td>1.5</td>\n",
              "      <td>1.750000</td>\n",
              "    </tr>\n",
              "  </tbody>\n",
              "</table>\n",
              "</div>"
            ],
            "text/plain": [
              "            scoops     price\n",
              "flavor                      \n",
              "chocolate      2.0  3.333333\n",
              "mint           1.5  4.500000\n",
              "strawberry     2.0  3.000000\n",
              "vanilla        1.5  1.750000"
            ]
          },
          "execution_count": 120,
          "metadata": {},
          "output_type": "execute_result"
        }
      ],
      "source": [
        "price_by_flavor=data.groupby(by=data.flavor).mean()\n",
        "price_by_flavor"
      ]
    },
    {
      "cell_type": "code",
      "execution_count": null,
      "id": "bd439218",
      "metadata": {
        "id": "bd439218",
        "outputId": "ba9959da-f563-4ec1-f979-0ca5e0a62893"
      },
      "outputs": [
        {
          "data": {
            "text/plain": [
              "chocolate     3.333333\n",
              "vanilla       1.750000\n",
              "strawberry    3.000000\n",
              "mint          4.500000\n",
              "dtype: float64"
            ]
          },
          "execution_count": 123,
          "metadata": {},
          "output_type": "execute_result"
        }
      ],
      "source": [
        "siries = pd.Series(Helao)\n",
        "siries.flavor\n",
        "data = data.set_index('flavor')\n",
        "choco = data.loc['chocolate']\n",
        "choco.price.mean()\n",
        "vani = data.loc['vanilla']\n",
        "vani.price.mean()\n",
        "fresa = data.loc['strawberry']\n",
        "fresa.price.mean()\n",
        "mint = data.loc['mint']\n",
        "mint.price.mean()\n",
        "ponderados = {'chocolate': choco.price.mean(),\n",
        "             'vanilla': vani.price.mean(),\n",
        "             'strawberry': fresa.price.mean(),\n",
        "             'mint': mint.price.mean()}\n",
        "pd.Series(ponderados)"
      ]
    },
    {
      "cell_type": "code",
      "execution_count": null,
      "id": "f4c44e72",
      "metadata": {
        "deletable": false,
        "editable": false,
        "id": "f4c44e72",
        "outputId": "219c22f4-328b-4116-a086-d5ff39c488bd"
      },
      "outputs": [
        {
          "data": {
            "text/html": [
              "<p><strong><pre style='display: inline;'>q2</pre></strong> passed! 🙌</p>"
            ],
            "text/plain": [
              "q2 results: All test cases passed!"
            ]
          },
          "execution_count": 126,
          "metadata": {},
          "output_type": "execute_result"
        }
      ],
      "source": [
        "grader.check(\"q2\")"
      ]
    },
    {
      "cell_type": "markdown",
      "id": "54ec00f8",
      "metadata": {
        "deletable": false,
        "editable": false,
        "id": "54ec00f8"
      },
      "source": [
        "<!-- BEGIN QUESTION -->\n",
        "\n",
        "**Question 3:** Create a barplot of `price_by_flavor`."
      ]
    },
    {
      "cell_type": "code",
      "execution_count": null,
      "id": "ef80470e",
      "metadata": {
        "id": "ef80470e"
      },
      "outputs": [],
      "source": [
        "sab = price_by_flavor.index\n",
        "val = price_by_flavor.values"
      ]
    },
    {
      "cell_type": "code",
      "execution_count": null,
      "id": "179e88a4",
      "metadata": {
        "tags": [],
        "id": "179e88a4",
        "outputId": "ca3bfdc1-d599-4449-99a3-7aac89ceccce"
      },
      "outputs": [
        {
          "data": {
            "text/plain": [
              "<BarContainer object of 4 artists>"
            ]
          },
          "execution_count": 137,
          "metadata": {},
          "output_type": "execute_result"
        },
        {
          "data": {
            "image/png": "[encoded data removed]",
            "text/plain": [
              "<Figure size 432x288 with 1 Axes>"
            ]
          },
          "metadata": {
            "needs_background": "light"
          },
          "output_type": "display_data"
        }
      ],
      "source": [
        "import matplotlib.pyplot as plt\n",
        "plt.figure()\n",
        "plt.bar(sab,val,color='maroon',width = 0.4)"
      ]
    },
    {
      "cell_type": "markdown",
      "id": "8c071261",
      "metadata": {
        "deletable": false,
        "editable": false,
        "id": "8c071261"
      },
      "source": [
        "<!-- END QUESTION -->\n",
        "\n",
        "<!-- BEGIN QUESTION -->\n",
        "\n",
        "**Question 4:** What do you notice about the bar plot?"
      ]
    },
    {
      "cell_type": "markdown",
      "id": "86718a38",
      "metadata": {
        "id": "86718a38"
      },
      "source": [
        "_Answer:_\n",
        "Que el helado de menta, a pesar de haber sido escogido solo dos veces, es uno de los helados que mas valor tiene con respecto a la media"
      ]
    },
    {
      "cell_type": "markdown",
      "id": "cc53b976",
      "metadata": {
        "deletable": false,
        "editable": false,
        "id": "cc53b976"
      },
      "source": [
        "<!-- END QUESTION -->\n",
        "\n"
      ]
    },
    {
      "cell_type": "markdown",
      "id": "fb4ac6d9",
      "metadata": {
        "deletable": false,
        "editable": false,
        "id": "fb4ac6d9"
      },
      "source": [
        "## Submission\n",
        "\n",
        "Make sure you have run all cells in your notebook in order before running the cell below, so that all images/graphs appear in the output. The cell below will generate a zip file for you to submit. **Please save before exporting!**\n",
        "\n",
        "These are some submission instructions."
      ]
    },
    {
      "cell_type": "code",
      "execution_count": null,
      "id": "94dcc117",
      "metadata": {
        "deletable": false,
        "editable": false,
        "id": "94dcc117"
      },
      "outputs": [],
      "source": [
        "# Save your notebook first, then run this cell to export your submission.\n",
        "grader.export(run_tests=True)"
      ]
    },
    {
      "cell_type": "markdown",
      "id": "28fbdd01",
      "metadata": {
        "id": "28fbdd01"
      },
      "source": [
        ""
      ]
    }
  ],
  "metadata": {
    "kernelspec": {
      "display_name": "Python 3 (ipykernel)",
      "language": "python",
      "name": "python3"
    },
    "language_info": {
      "codemirror_mode": {
        "name": "ipython",
        "version": 3
      },
      "file_extension": ".py",
      "mimetype": "text/x-python",
      "name": "python",
      "nbconvert_exporter": "python",
      "pygments_lexer": "ipython3",
      "version": "3.9.12"
    },
    "otter": {
      "OK_FORMAT": true,
      "tests": {
        "q1": {
          "name": "q1",
          "points": null,
          "suites": [
            {
              "cases": [
                {
                  "code": ">>> x_ = np.arange(1, 100)\n>>> promedio(x_) == x_.mean()\nTrue",
                  "hidden": false,
                  "locked": false
                }
              ],
              "scored": true,
              "setup": "",
              "teardown": "",
              "type": "doctest"
            }
          ]
        },
        "q2": {
          "name": "q2",
          "points": null,
          "suites": [
            {
              "cases": [
                {
                  "code": ">>> len(data['flavor'].unique()) == 4\nTrue",
                  "hidden": false,
                  "locked": false
                },
                {
                  "code": ">>> for l in ['chocolate', 'vanilla', 'strawberry', 'mint']:\n...     assert l in data['flavor'].unique()\n",
                  "hidden": false,
                  "locked": false
                },
                {
                  "code": ">>> assert type(price_by_flavor) == pd.Series\n",
                  "hidden": false,
                  "locked": false
                },
                {
                  "code": ">>> assert len(price_by_flavor) == 4\n",
                  "hidden": false,
                  "locked": false
                }
              ],
              "scored": true,
              "setup": "",
              "teardown": "",
              "type": "doctest"
            }
          ]
        }
      }
    },
    "colab": {
      "provenance": []
    }
  },
  "nbformat": 4,
  "nbformat_minor": 5
}