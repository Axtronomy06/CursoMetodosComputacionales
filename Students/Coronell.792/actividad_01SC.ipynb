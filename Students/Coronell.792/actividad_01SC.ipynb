{
  "nbformat": 4,
  "nbformat_minor": 0,
  "metadata": {
    "colab": {
      "provenance": []
    },
    "kernelspec": {
      "name": "python3",
      "display_name": "Python 3"
    },
    "language_info": {
      "name": "python"
    }
  },
  "cells": [
    {
      "cell_type": "markdown",
      "source": [
        "Cociente y Residuo"
      ],
      "metadata": {
        "id": "NtupByxrpvPd"
      }
    },
    {
      "cell_type": "code",
      "execution_count": 1,
      "metadata": {
        "colab": {
          "base_uri": "https://localhost:8080/"
        },
        "id": "rLXftpVJoohZ",
        "outputId": "761b0df1-dfb9-47aa-9d66-99ed391e1cf5"
      },
      "outputs": [
        {
          "output_type": "stream",
          "name": "stdout",
          "text": [
            "dame un numero: 3\n",
            "dame un numero: 4\n",
            "el valor de la division entre a y b es 0.750000\n",
            "el valor del residuo de a y b es 3.000000\n"
          ]
        }
      ],
      "source": [
        "a = float(input(\"dame un numero: \"))\n",
        "b = float(input(\"dame un numero: \"))\n",
        "\n",
        "div = a/b\n",
        "resi = a%b\n",
        "print(\"el valor de la division entre a y b es %f\" %div)\n",
        "print(\"el valor del residuo de a y b es %f\" %resi)"
      ]
    },
    {
      "cell_type": "markdown",
      "source": [
        "Doble Factorial"
      ],
      "metadata": {
        "id": "8SkM4enJqAEW"
      }
    },
    {
      "cell_type": "code",
      "execution_count": 2,
      "metadata": {
        "id": "ba033736"
      },
      "outputs": [],
      "source": [
        "import numpy as np\n",
        "def doblefact(n):\n",
        "    if type(n)==int and n>0:\n",
        "        i = 0\n",
        "        L = np.arange(n)+1\n",
        "        doublefact = L[i]\n",
        "        if n%2!=0:\n",
        "            for i in range(0,len(L),2):\n",
        "                doublefact *= L[i]\n",
        "\n",
        "        if n%2==0:\n",
        "            for i in range(1,len(L),2):\n",
        "                doublefact *= L[i]\n",
        "\n",
        "    return doublefact\n"
      ]
    },
    {
      "cell_type": "code",
      "source": [
        "doblefact(8)"
      ],
      "metadata": {
        "colab": {
          "base_uri": "https://localhost:8080/"
        },
        "id": "1h8KAP3pqC1S",
        "outputId": "1f725978-27a1-4b04-b189-d92b1487bddb"
      },
      "execution_count": 3,
      "outputs": [
        {
          "output_type": "execute_result",
          "data": {
            "text/plain": [
              "384"
            ]
          },
          "metadata": {},
          "execution_count": 3
        }
      ]
    },
    {
      "cell_type": "markdown",
      "source": [
        "Serie Lucas"
      ],
      "metadata": {
        "id": "Wd_TmDYzqfpj"
      }
    },
    {
      "cell_type": "code",
      "source": [
        "def serie_Lucas(n,Nmax):\n",
        "    L=[]\n",
        "    if n == 0:\n",
        "       L_n = 2\n",
        "       L.append(L_n)\n",
        "    if n==1:\n",
        "        L_n = 1\n",
        "        L.append(L_n)\n",
        "    if n>2:\n",
        "        L1 = n - 1\n",
        "        L.append(L1)\n",
        "        L2 = n - 2\n",
        "        L.append(L2)\n",
        "        i = 0\n",
        "        while(len(L)<Nmax):\n",
        "          L2 += L1\n",
        "          L.append(L2)\n",
        "          L1 = L2 - L1\n",
        "\n",
        "    return L"
      ],
      "metadata": {
        "id": "tQEarY8cqh73"
      },
      "execution_count": 4,
      "outputs": []
    },
    {
      "cell_type": "code",
      "source": [
        "serie_Lucas(3,10)"
      ],
      "metadata": {
        "colab": {
          "base_uri": "https://localhost:8080/"
        },
        "id": "dyEqVJXVqt1p",
        "outputId": "8ebedb16-396e-4c31-e28b-38b581ee5d46"
      },
      "execution_count": 5,
      "outputs": [
        {
          "output_type": "execute_result",
          "data": {
            "text/plain": [
              "[2, 1, 3, 4, 7, 11, 18, 29, 47, 76]"
            ]
          },
          "metadata": {},
          "execution_count": 5
        }
      ]
    },
    {
      "cell_type": "markdown",
      "source": [
        "Coeficiente Binomial"
      ],
      "metadata": {
        "id": "Rt0fCDwPqyTs"
      }
    },
    {
      "cell_type": "code",
      "source": [
        "#A partir de hallar todos los subconjuntos posibles con cierta cantidad de elementos\n",
        "#, y asi pedir la longitud de esa sublista de subconjuntos y que me de el coeficiente binomial\n",
        "import numpy as np\n",
        "from itertools import combinations\n",
        "def binomial(n,k):\n",
        "  cobi = []\n",
        "  L = np.arange(n)\n",
        "  for i in range(k+1):\n",
        "    coef = list(combinations(L,i))\n",
        "  return len(coef)"
      ],
      "metadata": {
        "id": "_uoAH6hkq0hz"
      },
      "execution_count": 6,
      "outputs": []
    },
    {
      "cell_type": "code",
      "source": [
        "binomial(6,4)"
      ],
      "metadata": {
        "colab": {
          "base_uri": "https://localhost:8080/"
        },
        "id": "LmthRmzktAHd",
        "outputId": "245d8afc-2bfc-4757-999b-74a1da2dbfa6"
      },
      "execution_count": 15,
      "outputs": [
        {
          "output_type": "execute_result",
          "data": {
            "text/plain": [
              "15"
            ]
          },
          "metadata": {},
          "execution_count": 15
        }
      ]
    },
    {
      "cell_type": "code",
      "source": [
        "import numpy as np\n",
        "def Factory(N):\n",
        "  if type(N)==int and N>0:\n",
        "    ln = np.arange(N)+1\n",
        "    i=0\n",
        "    Fact = ln[i]\n",
        "    while i !=N:\n",
        "      Fact *= ln[i]\n",
        "      i = i+1\n",
        "    return Fact\n",
        "\n",
        "  elif N<0:\n",
        "    return \"el número no puede ser negativo\"\n",
        "\n",
        "  elif type(N)==float:\n",
        "    return \"el número no puede ser real\""
      ],
      "metadata": {
        "id": "AzVPSSZBUw7x"
      },
      "execution_count": 7,
      "outputs": []
    },
    {
      "cell_type": "code",
      "source": [
        "#A partir de la formula establecidad de coeficiente binomial\n",
        "def Formula_CoefBinomial(n,k):\n",
        "  coef = Factory(n)/(Factory(k)*Factory(n-k))\n",
        "  return coef"
      ],
      "metadata": {
        "id": "Y9-jyV2Gr5DB"
      },
      "execution_count": 9,
      "outputs": []
    },
    {
      "cell_type": "code",
      "source": [
        "Formula_CoefBinomial(6,4)"
      ],
      "metadata": {
        "colab": {
          "base_uri": "https://localhost:8080/"
        },
        "id": "F_7yNBGvtX0i",
        "outputId": "59f55cf5-02c0-4172-a97a-6226b6dd1afd"
      },
      "execution_count": 14,
      "outputs": [
        {
          "output_type": "execute_result",
          "data": {
            "text/plain": [
              "15.0"
            ]
          },
          "metadata": {},
          "execution_count": 14
        }
      ]
    },
    {
      "cell_type": "code",
      "source": [],
      "metadata": {
        "id": "t2nH0CxVtafQ"
      },
      "execution_count": null,
      "outputs": []
    }
  ]
}