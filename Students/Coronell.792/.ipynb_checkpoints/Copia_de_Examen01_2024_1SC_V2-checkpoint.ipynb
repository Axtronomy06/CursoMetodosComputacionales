{
 "cells": [
  {
   "cell_type": "markdown",
   "metadata": {
    "id": "pb-wUg6mHtL5"
   },
   "source": [
    "***Punto 1***"
   ]
  },
  {
   "cell_type": "code",
   "execution_count": 1,
   "metadata": {
    "id": "JKYDpZGv6rYR"
   },
   "outputs": [
    {
     "ename": "SyntaxError",
     "evalue": "invalid syntax (1953288175.py, line 2)",
     "output_type": "error",
     "traceback": [
      "\u001b[0;36m  Cell \u001b[0;32mIn[1], line 2\u001b[0;36m\u001b[0m\n\u001b[0;31m    R =\u001b[0m\n\u001b[0m       ^\u001b[0m\n\u001b[0;31mSyntaxError\u001b[0m\u001b[0;31m:\u001b[0m invalid syntax\n"
     ]
    }
   ],
   "source": [
    "def MaximumR(theta,vo,b,g):\n",
    "  R ="
   ]
  },
  {
   "cell_type": "code",
   "execution_count": null,
   "metadata": {
    "id": "Ip5p_b00GJ7G"
   },
   "outputs": [],
   "source": [
    "import matplotlib.pyplot as plt\n",
    "import numpy as np\n",
    "import pandas as pd\n",
    "from scipy import optimize\n",
    "from PIL import Image\n",
    "import sympy as sp\n"
   ]
  },
  {
   "cell_type": "code",
   "execution_count": null,
   "metadata": {
    "id": "kQXtR3-0QrPj"
   },
   "outputs": [],
   "source": [
    "import numpy as np\n",
    "\n",
    "def tan(grados):\n",
    "  return np.tan(np.deg2rad(grados))\n",
    "\n",
    "def sen(grados):\n",
    "  return np.sin(np.deg2rad(grados))\n",
    "\n",
    "def cos(grados):\n",
    "  return np.cos(np.deg2rad(grados))\n",
    "\n",
    "def intan(grados):\n",
    "  return np.rad2deg(np.arctan(grados))\n",
    "\n",
    "def insen(grados):\n",
    "  return np.rad2deg(np.arcsin(grados))\n",
    "\n",
    "def incos(grados):\n",
    "  return np.rad2deg(np.arccos(grados))\n",
    "\n",
    "def cotan(grados):\n",
    "  return 1/tan(grados)"
   ]
  },
  {
   "cell_type": "code",
   "execution_count": null,
   "metadata": {
    "id": "bLE0vaJkF6fv"
   },
   "outputs": [],
   "source": [
    "import numpy as np\n",
    "vo = 55\n",
    "theta = 45\n",
    "b = 0.005\n",
    "g = 9.8\n",
    "vox = vo*cos(45)\n",
    "voy = vo*sen(45)\n",
    "f = lambda R: (((g/b)+voy)*(R/vox)) + ((g/b**2)*np.log(1-((R*b)/vox)))\n",
    "\n",
    "R = np.arange(300,302,0.1)"
   ]
  },
  {
   "cell_type": "code",
   "execution_count": null,
   "metadata": {
    "colab": {
     "base_uri": "https://localhost:8080/",
     "height": 465
    },
    "id": "8vA83Go3E1Ll",
    "outputId": "7e768ae5-8738-460e-e03c-6cc85ea80bb0"
   },
   "outputs": [],
   "source": [
    "plt.plot(R,f(R))\n",
    "plt.grid()\n",
    "plt.legend()"
   ]
  },
  {
   "cell_type": "markdown",
   "metadata": {
    "id": "OZ6PigdjMBvc"
   },
   "source": [
    "***Punto 2***"
   ]
  },
  {
   "cell_type": "code",
   "execution_count": null,
   "metadata": {
    "id": "QD63QIBdq-gl"
   },
   "outputs": [],
   "source": [
    "def biseccion(f,a,b,N,eps):\n",
    "  for i in range(N):\n",
    "    if f(a)*f(b)>0:\n",
    "      print(\"cambie los valores del intervalo\")\n",
    "      break\n",
    "\n",
    "  i = 0\n",
    "  while i !=N:\n",
    "\n",
    "      p = (a+b)/2\n",
    "      print (i, p, f(p))\n",
    "      if f(a)*f(p)>0:\n",
    "        a = p\n",
    "      elif f(a)*f(p)<0:\n",
    "        b = p\n",
    "        #for i in range(N):\n",
    "          #if abs(p-p[i-1]) < eps:\n",
    "            #print(f\"el cero es {p}\")\n",
    "            #break\n",
    "          #elif abs(p - p[i-1])/abs((p)) < eps:\n",
    "            #print(f\"el cero es {p}\")\n",
    "            #break\n",
    "      if abs(f(p)) < eps:\n",
    "        print(f\"el cero esta en {p}\")\n",
    "        break\n",
    "\n",
    "      i = i+1\n",
    "  return p\n"
   ]
  },
  {
   "cell_type": "code",
   "execution_count": null,
   "metadata": {
    "colab": {
     "base_uri": "https://localhost:8080/"
    },
    "id": "HuAnW2XpHUdQ",
    "outputId": "f89227f0-675b-4a65-d7ce-8e0594ffd3f9"
   },
   "outputs": [],
   "source": [
    "biseccion(f = lambda R: (((g/b)+voy)*(R/vox)) + ((g/b**2)*np.log(1-((R*b)/vox))),a=300.5,b=301.5,N=100,eps=1e-7)"
   ]
  },
  {
   "cell_type": "code",
   "execution_count": null,
   "metadata": {
    "colab": {
     "base_uri": "https://localhost:8080/"
    },
    "id": "m_-owPymH0Iv",
    "outputId": "f4e810d5-64e1-4bbd-8cbc-80bdf7f7e16e"
   },
   "outputs": [],
   "source": [
    "optimize.bisect(f,300.5,301.5)"
   ]
  },
  {
   "cell_type": "markdown",
   "metadata": {
    "id": "J0nezBBtMyVr"
   },
   "source": [
    "***Punto 3***"
   ]
  },
  {
   "cell_type": "code",
   "execution_count": null,
   "metadata": {
    "id": "UCCeA3nQRkC9"
   },
   "outputs": [],
   "source": [
    "def puntosfijos(f,p,eps,N):\n",
    "  x0 = p\n",
    "  i = 0\n",
    "  while i<N:\n",
    "    i=i+1\n",
    "    p = f(x0)\n",
    "    print (i, p, np.abs(p - x0) )\n",
    "    if ( np.abs(p-x0) < eps ):\n",
    "      break\n",
    "    x0 = p\n",
    "  return p"
   ]
  },
  {
   "cell_type": "code",
   "execution_count": null,
   "metadata": {
    "id": "R4zYebJ_FPm6"
   },
   "outputs": [],
   "source": [
    "puntosfijos(f,300.5,1e-7,100)"
   ]
  },
  {
   "cell_type": "code",
   "execution_count": null,
   "metadata": {
    "id": "MuJtu84ITHvO"
   },
   "outputs": [],
   "source": [
    "def puntosfijos_values(f,p,eps,N):\n",
    "  x0 = p\n",
    "  i = 0\n",
    "  while i<N:\n",
    "    i=i+1\n",
    "    p = f(x0)\n",
    "    #print (i, p, np.abs(p - x0) )\n",
    "    if ( np.abs(p - x0) < eps ):\n",
    "      break\n",
    "    x0 = p\n",
    "  return p"
   ]
  },
  {
   "cell_type": "code",
   "execution_count": null,
   "metadata": {
    "colab": {
     "base_uri": "https://localhost:8080/"
    },
    "id": "v8Lpuk98Sc_R",
    "outputId": "1155f92a-0030-4aa8-f6a0-3a4127e4848e"
   },
   "outputs": [],
   "source": [
    "p = puntosfijos_values(f = lambda R: (((g/b)+voy)*(R/vox)) + ((g/b**2)*np.log(1-((R*b)/vox))),p=300.5,eps=1e-7,N=100)\n",
    "root = 300.5 + p\n",
    "root"
   ]
  },
  {
   "cell_type": "markdown",
   "metadata": {
    "id": "rq339Ea1Nou_"
   },
   "source": [
    "Con la funcion que hice de punto fijo no resulto tan correcto, asi que probe con optimize para hallar la raiz por punto fijo"
   ]
  },
  {
   "cell_type": "code",
   "execution_count": null,
   "metadata": {
    "colab": {
     "base_uri": "https://localhost:8080/"
    },
    "id": "HPWnB58l1lbB",
    "outputId": "908f7031-ad00-4a56-cd92-88209cb85988"
   },
   "outputs": [],
   "source": [
    "fixf = lambda R: R - f(R)\n",
    "fix = optimize.fixed_point(fixf,300.5)\n",
    "print(f'La Raíz por punto fijo es igual a : {fix}')"
   ]
  },
  {
   "cell_type": "code",
   "execution_count": null,
   "metadata": {
    "id": "Db1Qoc-aNkvh"
   },
   "outputs": [],
   "source": [
    "def biseccion_value(f,a,b,N,eps):\n",
    "  for i in range(N):\n",
    "    if f(a)*f(b)>0:\n",
    "      print(\"cambie los valores del intervalo\")\n",
    "      break\n",
    "\n",
    "  i = 0\n",
    "  while i !=N:\n",
    "\n",
    "      p = (a+b)/2\n",
    "      #print (i, p, f(p))\n",
    "      if f(a)*f(p)>0:\n",
    "        a = p\n",
    "      elif f(a)*f(p)<0:\n",
    "        b = p\n",
    "        #for i in range(N):\n",
    "          #if abs(p-p[i-1]) < eps:\n",
    "            #print(f\"el cero es {p}\")\n",
    "            #break\n",
    "          #elif abs(p - p[i-1])/abs((p)) < eps:\n",
    "            #print(f\"el cero es {p}\")\n",
    "            #break\n",
    "      if abs(f(p)) < eps:\n",
    "        #print(f\"el cero es {p}\")\n",
    "        break\n",
    "\n",
    "      i = i+1\n",
    "  return p\n"
   ]
  },
  {
   "cell_type": "code",
   "execution_count": null,
   "metadata": {
    "colab": {
     "base_uri": "https://localhost:8080/"
    },
    "id": "IHiCZgA2Nrl8",
    "outputId": "b6be7c72-5284-4853-f24d-0d3eeab29a65"
   },
   "outputs": [],
   "source": [
    "R_mau = biseccion_value(f = lambda R: (((g/b)+voy)*(R/vox)) + ((g/b**2)*np.log(1-((R*b)/vox))),a=300.5,b=301.5,N=100,eps=1e-7)\n",
    "R_t = np.arange(0.5,R_mau,0.01)\n",
    "tv = -(1/b)*np.log(1-((R_t*b)/vox))\n",
    "print(f'los valores de tiempo hasta llegar a R son: {tv}')"
   ]
  },
  {
   "cell_type": "markdown",
   "metadata": {
    "id": "YqeWJ_ISM12B"
   },
   "source": [
    "***Punto 4***"
   ]
  },
  {
   "cell_type": "code",
   "execution_count": null,
   "metadata": {
    "colab": {
     "base_uri": "https://localhost:8080/"
    },
    "id": "fW2DuP65Ogoi",
    "outputId": "e3d11e8e-5332-4bc8-d953-83eeea592a84"
   },
   "outputs": [],
   "source": [
    "x = (vox/b)*(1-np.exp(-b*tv))\n",
    "y = (1/b)*((g/b)+voy) * (1-np.exp(-b*tv)) - ((g/b)*tv)\n",
    "x,y"
   ]
  },
  {
   "cell_type": "code",
   "execution_count": null,
   "metadata": {
    "colab": {
     "base_uri": "https://localhost:8080/",
     "height": 466
    },
    "id": "FwE-mT2aPcSd",
    "outputId": "26e01d40-750c-4417-9858-c25c25e98bf5"
   },
   "outputs": [],
   "source": [
    "plt.figure()\n",
    "plt.plot(tv,x,'r.', label= 'x vs t')\n",
    "plt.xlabel(\"tiempo en segundos\")\n",
    "plt.ylabel(\"Distancia alcanzada\")\n",
    "plt.legend()\n"
   ]
  },
  {
   "cell_type": "code",
   "execution_count": null,
   "metadata": {
    "colab": {
     "base_uri": "https://localhost:8080/",
     "height": 466
    },
    "id": "ppzdkOMnQEk1",
    "outputId": "b3e7884e-e456-4ddd-c7d6-0c49c7c63bb6"
   },
   "outputs": [],
   "source": [
    "plt.figure()\n",
    "plt.plot(tv,y,'g-',label='y vs t')\n",
    "plt.xlabel(\"tiempo en segundos\")\n",
    "plt.ylabel(\"Altura alcanzada\")\n",
    "plt.legend()"
   ]
  },
  {
   "cell_type": "code",
   "execution_count": null,
   "metadata": {
    "colab": {
     "base_uri": "https://localhost:8080/",
     "height": 466
    },
    "id": "jQfz0KOhQNmW",
    "outputId": "1169c60e-857b-445b-f469-8ec999516286"
   },
   "outputs": [],
   "source": [
    "plt.figure()\n",
    "plt.plot(x,y,'b+',label='x vs y')\n",
    "plt.xlabel(\"Distancia alcanzada\")\n",
    "plt.ylabel(\"Altura alcanzada\")\n",
    "plt.legend()"
   ]
  },
  {
   "cell_type": "markdown",
   "metadata": {
    "id": "rZM2rpOp3WxH"
   },
   "source": [
    "*Parte 5-7*"
   ]
  },
  {
   "cell_type": "code",
   "execution_count": null,
   "metadata": {
    "colab": {
     "base_uri": "https://localhost:8080/",
     "height": 465
    },
    "id": "HCz-Det23dg1",
    "outputId": "6182f59e-4197-4b35-c3eb-342bd7b1225e"
   },
   "outputs": [],
   "source": [
    "import matplotlib.pyplot as plt\n",
    "import numpy as np\n",
    "import pandas as pd\n",
    "from scipy import optimize\n",
    "from PIL import Image\n",
    "import sympy as sp\n",
    "\n",
    "import numpy as np\n",
    "vo_n = 40\n",
    "theta_n = np.arange(0,90,5)\n",
    "b_n = 0.009\n",
    "g = 9.8\n",
    "vox = vo_n*cos(theta_n)\n",
    "voy = vo_n*sen(theta_n)\n",
    "f_n = lambda R: (((g/b_n)+voy)*(R/vox)) + ((g/b_n**2)*np.log(1-((R*b_n)/vox)))\n",
    "\n",
    "R_n = np.linspace(27,30,18)\n",
    "\n",
    "plt.plot(R_n,f_n(R_n))\n",
    "plt.grid()\n",
    "plt.legend()"
   ]
  },
  {
   "cell_type": "code",
   "execution_count": null,
   "metadata": {
    "id": "8R5mCeH9l2FT"
   },
   "outputs": [],
   "source": [
    "def rootsangu(theta_n):\n",
    "  i = 0\n",
    "  while i in range(len(theta_n)):\n",
    "    i = (np.arange(len(theta_n)))\n",
    "    x0 = theta_n[i]+50\n",
    "    vox = vo_n*cos(theta_n[i])\n",
    "    voy = vo_n*sen(theta_n[i])\n",
    "    F_n = lambda R : (((g/b_n)+voy)*(R/vox)) + ((g/b_n**2)*np.log(1-((R*b_n)/vox)))\n",
    "    r = optimize.newton(F_n,x0)\n",
    "    Time_thetas = lambda R_n: -(1/b_n)*np.log(1-((r*b_n)/vox))\n",
    "    tv = optimize.fixed_point(Time_thetas,x0)\n",
    "    print(f'La raiz de R en el angulo{theta_n[i]-1} es igual a : {r[i]}, y en el tiempo dado fue: {tv[i]}')\n",
    "    return r,tv"
   ]
  },
  {
   "cell_type": "code",
   "execution_count": null,
   "metadata": {
    "colab": {
     "base_uri": "https://localhost:8080/"
    },
    "id": "GsYv5RxWZZYP",
    "outputId": "e05053fd-42a7-498f-fa4c-ab39fd0e1914"
   },
   "outputs": [],
   "source": [
    "thetasvalues = rootsangu(theta_n)"
   ]
  },
  {
   "cell_type": "code",
   "execution_count": null,
   "metadata": {
    "id": "s8dECHffsVqT"
   },
   "outputs": [],
   "source": [
    "R_thetas,T_thetas = thetasvalues"
   ]
  },
  {
   "cell_type": "code",
   "execution_count": null,
   "metadata": {
    "colab": {
     "base_uri": "https://localhost:8080/",
     "height": 447
    },
    "id": "YEHDvVtGsrNt",
    "outputId": "33284b2a-75aa-4925-b699-eba916e3e48f"
   },
   "outputs": [],
   "source": [
    "plt.plot(T_thetas,R_thetas, label = 'R vs T')\n",
    "plt.grid()\n",
    "plt.legend()"
   ]
  },
  {
   "cell_type": "code",
   "execution_count": null,
   "metadata": {
    "colab": {
     "base_uri": "https://localhost:8080/",
     "height": 1000
    },
    "id": "mzaVLAWCvQSG",
    "outputId": "aedec6df-a24c-4174-aa7e-4b35418e3e25"
   },
   "outputs": [],
   "source": [
    "theta_n = np.arange(0,90,5)\n",
    "R=np.linspace(0,200,10000)\n",
    "\n",
    "for i in theta_n:\n",
    "  vox = vo_n*cos(i)\n",
    "  voy = vo_n*sen(i)\n",
    "  plt.plot(R,f_n(R),label=f'θ = {i}')\n",
    "  plt.ylim(0,90)\n",
    "  plt.title(\"Trayectorias para cada ángulo θ\")\n",
    "  plt.xlabel(\"x(m)\")\n",
    "  plt.ylabel(\"y(m)\")\n",
    "  plt.legend()\n",
    "  plt.grid()\n",
    "  plt.show()"
   ]
  },
  {
   "cell_type": "markdown",
   "metadata": {
    "id": "NFnulQedwhTQ"
   },
   "source": [
    "# residuo no terminado de usar"
   ]
  },
  {
   "cell_type": "code",
   "execution_count": null,
   "metadata": {
    "colab": {
     "base_uri": "https://localhost:8080/"
    },
    "id": "1C1PKLNc8Nek",
    "outputId": "d209e19d-a6b0-45d1-8a4d-c90e8a899e4c"
   },
   "outputs": [],
   "source": [
    "z = f_n(R_n)\n",
    "z"
   ]
  },
  {
   "cell_type": "code",
   "execution_count": null,
   "metadata": {
    "colab": {
     "base_uri": "https://localhost:8080/",
     "height": 449
    },
    "id": "gkHD8gryGMy5",
    "outputId": "e874fb66-0d28-4319-befe-b97521c586d2"
   },
   "outputs": [],
   "source": [
    "data = {'RValues':R_n,'Funcion':z}\n",
    "dataf = pd.DataFrame(data)\n",
    "\n",
    "#dataf.plot.line(x='Theta Values',y='Funcion')\n",
    "\n",
    "\n",
    "datafilt = dataf[dataf.RValues.between(29.8,30)]\n",
    "datafilt.plot.line(x='RValues',y='Funcion')\n",
    "plt.axhline(y=0,xmax = 85,color = 'r')\n",
    "plt.axvline(x=29.8,ymax=80, color= 'g')\n",
    "plt.axvline(x=30,ymax=80,color='g')\n",
    "plt.grid()\n",
    "plt.show()"
   ]
  },
  {
   "cell_type": "code",
   "execution_count": null,
   "metadata": {
    "colab": {
     "base_uri": "https://localhost:8080/",
     "height": 449
    },
    "id": "rh173_JuVi79",
    "outputId": "72ab367d-d221-4789-d686-346d9c9384e3"
   },
   "outputs": [],
   "source": [
    "data = {'thetaValues':theta_n,'Funcion':z}\n",
    "dataf = pd.DataFrame(data)\n",
    "\n",
    "#dataf.plot.line(x='Theta Values',y='Funcion')\n",
    "\n",
    "\n",
    "datafilt = dataf[dataf.thetaValues.between(80,85)]\n",
    "datafilt.plot.line(x='thetaValues',y='Funcion')\n",
    "plt.axhline(y=0,xmax = 85,color = 'r')\n",
    "#plt.axvline(x=29.8,ymax=80, color= 'g')\n",
    "#plt.axvline(x=30,ymax=80,color='g')\n",
    "plt.grid()\n",
    "plt.show()"
   ]
  },
  {
   "cell_type": "code",
   "execution_count": null,
   "metadata": {
    "id": "iFUt3ws9YMkn"
   },
   "outputs": [],
   "source": [
    "vox_N = vo_n*cos(83)\n",
    "voy_N = vo_n*sen(83)"
   ]
  },
  {
   "cell_type": "code",
   "execution_count": null,
   "metadata": {
    "id": "ZX17AgaGaErT"
   },
   "outputs": [],
   "source": [
    "def biseccion_rtr(f,a,b,N,eps,vox):\n",
    "  for i in range(N):\n",
    "    if f(a)[i]*f(b)[i]>0:\n",
    "      print(\"cambie los valores del intervalo\")\n",
    "      break\n",
    "\n",
    "  i = 0\n",
    "  while i !=len(vox):\n",
    "    for k in range(len(vox)):\n",
    "      p = (a+b)/2\n",
    "      print (i, p, f(p))\n",
    "      if f(a)[k]*f(p)[k]>0:\n",
    "        a = p\n",
    "      elif f(a)[k]*f(p)[k]<0:\n",
    "        b = p\n",
    "        #for i in range(N):\n",
    "          #if abs(p-p[i-1]) < eps:\n",
    "            #print(f\"el cero es {p}\")\n",
    "            #break\n",
    "          #elif abs(p - p[i-1])/abs((p)) < eps:\n",
    "            #print(f\"el cero es {p}\")\n",
    "            #break\n",
    "      if abs(f(p)[k]) < eps:\n",
    "        print(f\"el cero es {p}\")\n",
    "        break\n",
    "\n",
    "      i = i+1\n",
    "  return p\n"
   ]
  },
  {
   "cell_type": "code",
   "execution_count": null,
   "metadata": {
    "colab": {
     "base_uri": "https://localhost:8080/",
     "height": 263
    },
    "id": "huFoK9dCKFcT",
    "outputId": "a68a9864-a585-4f1c-8893-341b3ea9e956"
   },
   "outputs": [],
   "source": [
    "biseccion(f = lambda R: (((g/b_n)+voy)*(R/vox)) + ((g/b_n**2)*np.log(1-((R*b_n)/vox))) ,a=29.9,b=30,N=100,eps=1e-7)"
   ]
  },
  {
   "cell_type": "code",
   "execution_count": null,
   "metadata": {
    "colab": {
     "base_uri": "https://localhost:8080/",
     "height": 287
    },
    "id": "gNup2eljSrlM",
    "outputId": "d95512b3-4e07-4c9f-a899-0e397b4408af"
   },
   "outputs": [],
   "source": [
    "optimize.bisect(f_n,29.9,30)"
   ]
  },
  {
   "cell_type": "code",
   "execution_count": null,
   "metadata": {
    "colab": {
     "base_uri": "https://localhost:8080/",
     "height": 332
    },
    "id": "3ndc8W6moLnA",
    "outputId": "f7debbde-a368-4712-a116-8fd6f83f7d0f"
   },
   "outputs": [],
   "source": [
    "tota = np.arange(0,90,5)\n",
    "R = np.linspace(0,200,10000)\n",
    "\n",
    "for i in tota:\n",
    "  x0 = i+50\n",
    "  r = optimize.newton(ectraspos_y,x0,args=(g,b_n,vo_n,i))\n",
    "  print(f'el cero de y para theta={i} se encuentra en {r:.4}')\n",
    "  plt.plot(R,ectraspos_y(g,b_n,vo_n,i,R))"
   ]
  },
  {
   "cell_type": "code",
   "execution_count": null,
   "metadata": {
    "colab": {
     "base_uri": "https://localhost:8080/",
     "height": 280
    },
    "id": "4coFwCOh7rau",
    "outputId": "2366bdbe-7e4b-47b0-ad76-a99903912e1e"
   },
   "outputs": [],
   "source": [
    "for i in range(len(vox)):\n",
    "  biseccion(f = lambda R: (((g/b_n)+voy)*(R/vox)) + ((g/b_n**2)*np.log(1-((R*b_n)/vox))) ,a=29.9,b=30,N=100,eps=1e-7)"
   ]
  },
  {
   "cell_type": "code",
   "execution_count": null,
   "metadata": {
    "colab": {
     "base_uri": "https://localhost:8080/"
    },
    "id": "DCUugrLG8Y9Q",
    "outputId": "b352f540-7494-4a36-9400-af3493709318"
   },
   "outputs": [],
   "source": [
    "biseccion_rtr(f_n ,a=29,b=30,N=100,eps=1e-7,vox=vox)"
   ]
  },
  {
   "cell_type": "code",
   "execution_count": null,
   "metadata": {
    "colab": {
     "base_uri": "https://localhost:8080/"
    },
    "id": "t24UzKJmBYBn",
    "outputId": "81a6b19b-26e2-4c70-ee4a-714600d78338"
   },
   "outputs": [],
   "source": [
    "f_n(80)"
   ]
  },
  {
   "cell_type": "code",
   "execution_count": null,
   "metadata": {
    "colab": {
     "base_uri": "https://localhost:8080/"
    },
    "id": "dlnLrwRIqeCV",
    "outputId": "f1934f20-dcae-4aa7-e331-aa51ff6d6804"
   },
   "outputs": [],
   "source": [
    "x0 = np.arange(0,90,5)\n",
    "optimize.newton(ectraspos_y,x0,args=(g,b_n,vo_n,i))"
   ]
  },
  {
   "cell_type": "code",
   "execution_count": null,
   "metadata": {
    "colab": {
     "base_uri": "https://localhost:8080/",
     "height": 391
    },
    "id": "1azCklNM69-y",
    "outputId": "179be944-85af-4938-9cdd-af6bcb02db2a"
   },
   "outputs": [],
   "source": [
    "fixedf = lambda R: R - f_n(R)\n",
    "fixer = optimize.fixed_point(fixedf,29.9)\n",
    "fixer"
   ]
  },
  {
   "cell_type": "code",
   "execution_count": null,
   "metadata": {
    "colab": {
     "base_uri": "https://localhost:8080/",
     "height": 263
    },
    "id": "eycPa_Mx_ZR8",
    "outputId": "6a3d044f-a47f-4851-ffb2-220d01876af4"
   },
   "outputs": [],
   "source": [
    "optimize.newton(f_n,29)"
   ]
  },
  {
   "cell_type": "markdown",
   "metadata": {
    "id": "yzIQLm5ASP00"
   },
   "source": [
    "# Examen 1: Métodos computacionales.\n",
    "\n",
    "## Profesor: Hernán Salinas\n",
    "### Universidad de Antioquia\n",
    "\n",
    "\n",
    "El examen consta de 7 puntos, cada uno de igual valor, el uso de herramientas de IA no esta permitido. Puede usar la documentacion de scipy, numpy, matplotlib.\n",
    "\n",
    "La entrega se realiza a través del github del curso.\n",
    "\n",
    "\n",
    "#### Examen\n",
    "\n",
    "Una esfera de masa $m$ es lanzada desde la superficie de la tierra con velocidad $\\vec{v_0}$. Las fuerzas que actúan sobre la bolita son: el peso $m\\vec{g}$, y la fuerza de rozamiento $\\vec{f}=-mb\\vec{v}_0$ que el  aire ejerce sobre la bolita. Un digrama de cuerpo libre es esquematizado en la siguiente figura.\n",
    "\n",
    "![Movimiento parabolico](http://www.sc.ehu.es/sbweb/fisica/dinamica/stokes2/stokes1.gif)\n",
    "\n",
    "Para dar solución al movimiento de la bolita, se debe plantear las ecuaciones de movimiento desde la segunda ley de Newton y después solucionarla para encontrar la ecuaciones de posición y velocidad. Su tarea será determinar el valor del alcance máximo para diferentes ángulos de lanzamiento. Para ello lea detenidamente lo siguiente:  \n",
    "\n",
    "Las **ecuaciones de movimiento** de la bolita vienen dadas por:\n",
    "\\begin{equation}\n",
    "m\\frac{\\mathrm{d}v_x}{\\mathrm{d}t} = - mbv_x\n",
    "\\end{equation}\n",
    "\n",
    "\n",
    "\\begin{equation}\n",
    "m\\frac{\\mathrm{d}v_y}{\\mathrm{d}t} = - mg-mbv_y\n",
    "\\end{equation}\n",
    "\n",
    "\n",
    "donde:\n",
    "\n",
    "$v_{0x}=v_0\\cos \\theta$,  $v_{0y}=v_0\\sin \\theta$,  $b$ el coeficiente de rozamiento con el aire, y $g$ la aceleración de la gravedad\n",
    "\n",
    "\n",
    "La solución a las ecuaciones anteriores para la **posición ($x$, $y$) y la velocidad ($v_x$, $v_y$)**  son:\n",
    "\n",
    "\n",
    "\\begin{equation}\n",
    "x =  \\frac{v_{0x}}{b}\\left( 1-e^{-bt} \\right)\n",
    "\\end{equation}\n",
    "\n",
    "\\begin{equation}\n",
    "y =  \\frac{1}{b}\\left( \\frac{g}{b}+v_{0y}\\right)(1-e^{-bt})-\\frac{g}{b}t\n",
    "\\end{equation}\n",
    "\n",
    "\n",
    "\\begin{equation}\n",
    "v_x = v_{0x}e^{-bt}\n",
    "\\end{equation}\n",
    "\n",
    "\\begin{equation}\n",
    "v_y = \\left(\\frac{g}{b}+v_{0y} \\right) e^{-bt}-\\frac{g}{b}\n",
    "\\end{equation}\n",
    "\n",
    "\n",
    "\n",
    "**Alcance máximo**\n",
    "\n",
    "El tiempo asociado al alcance máximo del proyectil se da cuando $x=R$, despejando de la ecuación para $x$ el tiempo, se tiene que:\n",
    "\n",
    "\\begin{equation}\n",
    "t_v=-\\frac{1}{b} \\ln \\left(1-\\frac{Rb}{v_{0x}} \\right)\n",
    "\\end{equation}\n",
    "\n",
    "Reemplanzando en la ecuación para $y$ obtenemos que:\n",
    "\\begin{equation}\n",
    "y =\\left(\\frac{g}{b} + v_{0y}  \\right) \\frac{R}{v_{0x}}+\\frac{g}{b^2}\\ln \\left(1-\\frac{Rb}{v_{0x}} \\right)\n",
    "\\end{equation}\n",
    "\n",
    "El alcance máximo R, estará deteminado cuando $y=0$ en la anterior ecuación. Notese que es una ecuación trascendental. Su tarea será determinar el valor de R para diferentes ángulos de lanzamiento, para ello realice lo siguiente:\n",
    "\n",
    "\n",
    "\n",
    "\n",
    "\n",
    "1. Construir una función de python paramétrica para determinar el valor de R.\n",
    "$y = f(R, \\theta, v_{ox},v_{oy},b,g)$\n",
    "\n",
    "\n",
    "\n",
    "2. Asumiento que la bolita es lanzada con una rapidez de\n",
    "$v_0=55\\mathrm{m}/\\mathrm{s}$ y un ángulo de $45^{\\circ}$ respecto a la horizontal, $b=0.005$ y $g=9.8\\mathrm{m}/\\mathrm{s^2}$, determine el alcance máximo. Emplee el método que desee.\n",
    "\n",
    "\n",
    "3. Valide el resutado anterior, con un método diferente al que empleo en el apartado anterior y además, determine el tiempo de vuelo $t_v$.  \n",
    "\n",
    "\n",
    "4. Construya una gráfica de $x$ vs $t$, $y$ vs $t$, $x$ vs $y$. Asegurese de  no superar en las trayectorias los tiempos establecidos por el  tiempo de vuelo $t_v$.\n",
    "\n",
    "Ahora,  vamos a mostrar la trayectoria para múltiples ángulos de lanzamiento.\n",
    "\n",
    "5. Suponiendo,  $b=0.009$, $v_0 = 40\\mathrm{m}/\\mathrm{s}$ y  $\\theta$ entre $0<\\theta<90^{\\circ}$ en pasos de $5^{\\circ}$:\n",
    "```python\n",
    "theta=np.arange(0, 90, 5)\n",
    "theta=np.deg2rad(theta)\n",
    "```\n",
    "\n",
    "\n",
    "generalice el resultado del punto  número 2  para determinar el conjunto de valores de R asociados a cada ángulo. Con lo anterior determine los tiempos de vuelo.\n",
    "\n",
    "6. Realice un gráfico de $R$ vs $t_v$\n",
    "\n",
    "7. Finalmente, construya todas las trayectorias ($y$ vs $x$) para cada ángulo $\\theta$.\n",
    "\n",
    "\n",
    "\n",
    "\n",
    "\n",
    "\n",
    "\n",
    "\n",
    "\n",
    "\n",
    "\n"
   ]
  }
 ],
 "metadata": {
  "colab": {
   "provenance": []
  },
  "kernelspec": {
   "display_name": "Python 3 (ipykernel)",
   "language": "python",
   "name": "python3"
  },
  "language_info": {
   "codemirror_mode": {
    "name": "ipython",
    "version": 3
   },
   "file_extension": ".py",
   "mimetype": "text/x-python",
   "name": "python",
   "nbconvert_exporter": "python",
   "pygments_lexer": "ipython3",
   "version": "3.10.9"
  }
 },
 "nbformat": 4,
 "nbformat_minor": 1
}
