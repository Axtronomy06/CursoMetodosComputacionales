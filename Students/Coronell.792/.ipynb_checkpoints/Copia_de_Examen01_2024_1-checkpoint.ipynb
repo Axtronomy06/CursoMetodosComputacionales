{
 "cells": [
  {
   "cell_type": "markdown",
   "metadata": {
    "id": "pb-wUg6mHtL5"
   },
   "source": [
    "Punto 1"
   ]
  },
  {
   "cell_type": "code",
   "execution_count": 1,
   "metadata": {
    "id": "JKYDpZGv6rYR"
   },
   "outputs": [
    {
     "ename": "SyntaxError",
     "evalue": "invalid syntax (1953288175.py, line 2)",
     "output_type": "error",
     "traceback": [
      "\u001b[0;36m  Cell \u001b[0;32mIn[1], line 2\u001b[0;36m\u001b[0m\n\u001b[0;31m    R =\u001b[0m\n\u001b[0m       ^\u001b[0m\n\u001b[0;31mSyntaxError\u001b[0m\u001b[0;31m:\u001b[0m invalid syntax\n"
     ]
    }
   ],
   "source": [
    "def MaximumR(theta,vo,b,g):\n",
    "  R ="
   ]
  },
  {
   "cell_type": "code",
   "execution_count": 2,
   "metadata": {
    "id": "Ip5p_b00GJ7G"
   },
   "outputs": [],
   "source": [
    "import matplotlib.pyplot as plt\n",
    "import numpy as np\n",
    "import pandas as pd\n",
    "from scipy import optimize\n",
    "from PIL import Image\n",
    "import sympy as sp\n"
   ]
  },
  {
   "cell_type": "code",
   "execution_count": 3,
   "metadata": {
    "colab": {
     "base_uri": "https://localhost:8080/",
     "height": 366
    },
    "id": "SIpsWpG1Kpny",
    "outputId": "2160c2bb-53a7-430b-b531-a1c4ac0dbd17"
   },
   "outputs": [
    {
     "ename": "TypeError",
     "evalue": "loop of ufunc does not support argument 0 of type Add which has no callable log method",
     "output_type": "error",
     "traceback": [
      "\u001b[0;31m---------------------------------------------------------------------------\u001b[0m",
      "\u001b[0;31mAttributeError\u001b[0m                            Traceback (most recent call last)",
      "\u001b[0;31mAttributeError\u001b[0m: 'Add' object has no attribute 'log'",
      "\nThe above exception was the direct cause of the following exception:\n",
      "\u001b[0;31mTypeError\u001b[0m                                 Traceback (most recent call last)",
      "Cell \u001b[0;32mIn[3], line 3\u001b[0m\n\u001b[1;32m      1\u001b[0m R,vox,voy,b,g \u001b[38;5;241m=\u001b[39m sp\u001b[38;5;241m.\u001b[39msymbols(\u001b[38;5;124m'\u001b[39m\u001b[38;5;124mR vox voy b g\u001b[39m\u001b[38;5;124m'\u001b[39m)\n\u001b[1;32m      2\u001b[0m f \u001b[38;5;241m=\u001b[39m \u001b[38;5;28;01mlambda\u001b[39;00m R,vox,voy,b,g: (((g\u001b[38;5;241m/\u001b[39mb)\u001b[38;5;241m+\u001b[39mvoy)\u001b[38;5;241m*\u001b[39m(R\u001b[38;5;241m/\u001b[39mvox)) \u001b[38;5;241m+\u001b[39m ((g\u001b[38;5;241m/\u001b[39mb\u001b[38;5;241m*\u001b[39m\u001b[38;5;241m*\u001b[39m\u001b[38;5;241m2\u001b[39m)\u001b[38;5;241m*\u001b[39mnp\u001b[38;5;241m.\u001b[39mlog(\u001b[38;5;241m1\u001b[39m\u001b[38;5;241m-\u001b[39m((R\u001b[38;5;241m*\u001b[39mb)\u001b[38;5;241m/\u001b[39mvox)))\n\u001b[0;32m----> 3\u001b[0m sp\u001b[38;5;241m.\u001b[39mdiff(\u001b[43mf\u001b[49m\u001b[43m(\u001b[49m\u001b[43mR\u001b[49m\u001b[43m,\u001b[49m\u001b[43mvox\u001b[49m\u001b[43m,\u001b[49m\u001b[43mvoy\u001b[49m\u001b[43m,\u001b[49m\u001b[43mb\u001b[49m\u001b[43m,\u001b[49m\u001b[43mg\u001b[49m\u001b[43m)\u001b[49m,R)\n",
      "Cell \u001b[0;32mIn[3], line 2\u001b[0m, in \u001b[0;36m<lambda>\u001b[0;34m(R, vox, voy, b, g)\u001b[0m\n\u001b[1;32m      1\u001b[0m R,vox,voy,b,g \u001b[38;5;241m=\u001b[39m sp\u001b[38;5;241m.\u001b[39msymbols(\u001b[38;5;124m'\u001b[39m\u001b[38;5;124mR vox voy b g\u001b[39m\u001b[38;5;124m'\u001b[39m)\n\u001b[0;32m----> 2\u001b[0m f \u001b[38;5;241m=\u001b[39m \u001b[38;5;28;01mlambda\u001b[39;00m R,vox,voy,b,g: (((g\u001b[38;5;241m/\u001b[39mb)\u001b[38;5;241m+\u001b[39mvoy)\u001b[38;5;241m*\u001b[39m(R\u001b[38;5;241m/\u001b[39mvox)) \u001b[38;5;241m+\u001b[39m ((g\u001b[38;5;241m/\u001b[39mb\u001b[38;5;241m*\u001b[39m\u001b[38;5;241m*\u001b[39m\u001b[38;5;241m2\u001b[39m)\u001b[38;5;241m*\u001b[39m\u001b[43mnp\u001b[49m\u001b[38;5;241;43m.\u001b[39;49m\u001b[43mlog\u001b[49m\u001b[43m(\u001b[49m\u001b[38;5;241;43m1\u001b[39;49m\u001b[38;5;241;43m-\u001b[39;49m\u001b[43m(\u001b[49m\u001b[43m(\u001b[49m\u001b[43mR\u001b[49m\u001b[38;5;241;43m*\u001b[39;49m\u001b[43mb\u001b[49m\u001b[43m)\u001b[49m\u001b[38;5;241;43m/\u001b[39;49m\u001b[43mvox\u001b[49m\u001b[43m)\u001b[49m\u001b[43m)\u001b[49m)\n\u001b[1;32m      3\u001b[0m sp\u001b[38;5;241m.\u001b[39mdiff(f(R,vox,voy,b,g),R)\n",
      "\u001b[0;31mTypeError\u001b[0m: loop of ufunc does not support argument 0 of type Add which has no callable log method"
     ]
    }
   ],
   "source": [
    "R,vox,voy,b,g = sp.symbols('R vox voy b g')\n",
    "f = lambda R,vox,voy,b,g: (((g/b)+voy)*(R/vox)) + ((g/b**2)*np.log(1-((R*b)/vox)))\n",
    "sp.diff(f(R,vox,voy,b,g),R)"
   ]
  },
  {
   "cell_type": "code",
   "execution_count": null,
   "metadata": {
    "id": "kQXtR3-0QrPj"
   },
   "outputs": [],
   "source": [
    "import numpy as np\n",
    "\n",
    "def tan(grados):\n",
    "  return np.tan(np.deg2rad(grados))\n",
    "\n",
    "def sen(grados):\n",
    "  return np.sin(np.deg2rad(grados))\n",
    "\n",
    "def cos(grados):\n",
    "  return np.cos(np.deg2rad(grados))\n",
    "\n",
    "def intan(grados):\n",
    "  return np.rad2deg(np.arctan(grados))\n",
    "\n",
    "def insen(grados):\n",
    "  return np.rad2deg(np.arcsin(grados))\n",
    "\n",
    "def incos(grados):\n",
    "  return np.rad2deg(np.arccos(grados))\n",
    "\n",
    "def cotan(grados):\n",
    "  return 1/tan(grados)"
   ]
  },
  {
   "cell_type": "code",
   "execution_count": null,
   "metadata": {
    "id": "15bKen3jC5G8"
   },
   "outputs": [],
   "source": [
    "import numpy as np\n",
    "vo = 55\n",
    "theta = 45\n",
    "b = 0.005\n",
    "g = 9.8\n",
    "vox = vo*cos(45)\n",
    "voy = vo*sen(45)\n",
    "f = lambda R,vox,voy,b,g: (((g/b)+voy)*(R/vox)) + ((g/b**2)*np.log(1-((R*b)/vox)))\n",
    "\n",
    "R = np.arange(-1,1,0.1)"
   ]
  },
  {
   "cell_type": "code",
   "execution_count": null,
   "metadata": {
    "id": "bLE0vaJkF6fv"
   },
   "outputs": [],
   "source": [
    "import numpy as np\n",
    "vo = 55\n",
    "theta = 45\n",
    "b = 0.005\n",
    "g = 9.8\n",
    "vox = vo*cos(45)\n",
    "voy = vo*sen(45)\n",
    "f = lambda R: (((g/b)+voy)*(R/vox)) + ((g/b**2)*np.log(1-((R*b)/vox)))\n",
    "\n",
    "R = np.arange(300,302,0.1)"
   ]
  },
  {
   "cell_type": "code",
   "execution_count": null,
   "metadata": {
    "colab": {
     "base_uri": "https://localhost:8080/"
    },
    "id": "Fp5eq8emHZv5",
    "outputId": "442bda05-fc88-4cd5-bef2-add1a1c72a5d"
   },
   "outputs": [],
   "source": [
    "f(300.5)"
   ]
  },
  {
   "cell_type": "code",
   "execution_count": null,
   "metadata": {
    "colab": {
     "base_uri": "https://localhost:8080/",
     "height": 467
    },
    "id": "8vA83Go3E1Ll",
    "outputId": "68505080-ec92-4c3e-b4b3-de61e7275361"
   },
   "outputs": [],
   "source": [
    "plt.plot(R,f(R))\n",
    "plt.grid()\n",
    "plt.legend()"
   ]
  },
  {
   "cell_type": "code",
   "execution_count": null,
   "metadata": {
    "id": "QD63QIBdq-gl"
   },
   "outputs": [],
   "source": [
    "def biseccion(f,a,b,N,eps):\n",
    "  for i in range(N):\n",
    "    if f(a)*f(b)>0:\n",
    "      print(\"cambie los valores del intervalo\")\n",
    "      break\n",
    "\n",
    "  i = 0\n",
    "  while i !=N:\n",
    "\n",
    "      p = (a+b)/2\n",
    "      print (i, p, f(p))\n",
    "      if f(a)*f(p)>0:\n",
    "        a = p\n",
    "      elif f(a)*f(p)<0:\n",
    "        b = p\n",
    "        #for i in range(N):\n",
    "          #if abs(p-p[i-1]) < eps:\n",
    "            #print(f\"el cero es {p}\")\n",
    "            #break\n",
    "          #elif abs(p - p[i-1])/abs((p)) < eps:\n",
    "            #print(f\"el cero es {p}\")\n",
    "            #break\n",
    "      if abs(f(p)) < eps:\n",
    "        print(f\"el cero es {p}\")\n",
    "        break\n",
    "\n",
    "      i = i+1\n",
    "  return p\n"
   ]
  },
  {
   "cell_type": "code",
   "execution_count": 4,
   "metadata": {
    "colab": {
     "base_uri": "https://localhost:8080/"
    },
    "id": "HuAnW2XpHUdQ",
    "outputId": "338b5987-5b8b-44e9-9d94-f94c8c0dd3a8"
   },
   "outputs": [
    {
     "ename": "NameError",
     "evalue": "name 'biseccion' is not defined",
     "output_type": "error",
     "traceback": [
      "\u001b[0;31m---------------------------------------------------------------------------\u001b[0m",
      "\u001b[0;31mNameError\u001b[0m                                 Traceback (most recent call last)",
      "Cell \u001b[0;32mIn[4], line 1\u001b[0m\n\u001b[0;32m----> 1\u001b[0m \u001b[43mbiseccion\u001b[49m(f \u001b[38;5;241m=\u001b[39m \u001b[38;5;28;01mlambda\u001b[39;00m R: (((g\u001b[38;5;241m/\u001b[39mb)\u001b[38;5;241m+\u001b[39mvoy)\u001b[38;5;241m*\u001b[39m(R\u001b[38;5;241m/\u001b[39mvox)) \u001b[38;5;241m+\u001b[39m ((g\u001b[38;5;241m/\u001b[39mb\u001b[38;5;241m*\u001b[39m\u001b[38;5;241m*\u001b[39m\u001b[38;5;241m2\u001b[39m)\u001b[38;5;241m*\u001b[39mnp\u001b[38;5;241m.\u001b[39mlog(\u001b[38;5;241m1\u001b[39m\u001b[38;5;241m-\u001b[39m((R\u001b[38;5;241m*\u001b[39mb)\u001b[38;5;241m/\u001b[39mvox))),a\u001b[38;5;241m=\u001b[39m\u001b[38;5;241m300.5\u001b[39m,b\u001b[38;5;241m=\u001b[39m\u001b[38;5;241m301.5\u001b[39m,N\u001b[38;5;241m=\u001b[39m\u001b[38;5;241m100\u001b[39m,eps\u001b[38;5;241m=\u001b[39m\u001b[38;5;241m1e-7\u001b[39m)\n",
      "\u001b[0;31mNameError\u001b[0m: name 'biseccion' is not defined"
     ]
    }
   ],
   "source": [
    "biseccion(f = lambda R: (((g/b)+voy)*(R/vox)) + ((g/b**2)*np.log(1-((R*b)/vox))),a=300.5,b=301.5,N=100,eps=1e-7)"
   ]
  },
  {
   "cell_type": "code",
   "execution_count": 5,
   "metadata": {
    "colab": {
     "base_uri": "https://localhost:8080/"
    },
    "id": "m_-owPymH0Iv",
    "outputId": "5728fa33-d791-4274-8be0-79ca6e490610"
   },
   "outputs": [
    {
     "ename": "TypeError",
     "evalue": "<lambda>() missing 4 required positional arguments: 'vox', 'voy', 'b', and 'g'",
     "output_type": "error",
     "traceback": [
      "\u001b[0;31m---------------------------------------------------------------------------\u001b[0m",
      "\u001b[0;31mTypeError\u001b[0m                                 Traceback (most recent call last)",
      "Cell \u001b[0;32mIn[5], line 1\u001b[0m\n\u001b[0;32m----> 1\u001b[0m \u001b[43moptimize\u001b[49m\u001b[38;5;241;43m.\u001b[39;49m\u001b[43mbisect\u001b[49m\u001b[43m(\u001b[49m\u001b[43mf\u001b[49m\u001b[43m,\u001b[49m\u001b[38;5;241;43m300.5\u001b[39;49m\u001b[43m,\u001b[49m\u001b[38;5;241;43m301.5\u001b[39;49m\u001b[43m)\u001b[49m\n",
      "File \u001b[0;32m~/anaconda3/lib/python3.10/site-packages/scipy/optimize/_zeros_py.py:557\u001b[0m, in \u001b[0;36mbisect\u001b[0;34m(f, a, b, args, xtol, rtol, maxiter, full_output, disp)\u001b[0m\n\u001b[1;32m    555\u001b[0m \u001b[38;5;28;01mif\u001b[39;00m rtol \u001b[38;5;241m<\u001b[39m _rtol:\n\u001b[1;32m    556\u001b[0m     \u001b[38;5;28;01mraise\u001b[39;00m \u001b[38;5;167;01mValueError\u001b[39;00m(\u001b[38;5;124m\"\u001b[39m\u001b[38;5;124mrtol too small (\u001b[39m\u001b[38;5;132;01m%g\u001b[39;00m\u001b[38;5;124m < \u001b[39m\u001b[38;5;132;01m%g\u001b[39;00m\u001b[38;5;124m)\u001b[39m\u001b[38;5;124m\"\u001b[39m \u001b[38;5;241m%\u001b[39m (rtol, _rtol))\n\u001b[0;32m--> 557\u001b[0m r \u001b[38;5;241m=\u001b[39m \u001b[43m_zeros\u001b[49m\u001b[38;5;241;43m.\u001b[39;49m\u001b[43m_bisect\u001b[49m\u001b[43m(\u001b[49m\u001b[43mf\u001b[49m\u001b[43m,\u001b[49m\u001b[43m \u001b[49m\u001b[43ma\u001b[49m\u001b[43m,\u001b[49m\u001b[43m \u001b[49m\u001b[43mb\u001b[49m\u001b[43m,\u001b[49m\u001b[43m \u001b[49m\u001b[43mxtol\u001b[49m\u001b[43m,\u001b[49m\u001b[43m \u001b[49m\u001b[43mrtol\u001b[49m\u001b[43m,\u001b[49m\u001b[43m \u001b[49m\u001b[43mmaxiter\u001b[49m\u001b[43m,\u001b[49m\u001b[43m \u001b[49m\u001b[43margs\u001b[49m\u001b[43m,\u001b[49m\u001b[43m \u001b[49m\u001b[43mfull_output\u001b[49m\u001b[43m,\u001b[49m\u001b[43m \u001b[49m\u001b[43mdisp\u001b[49m\u001b[43m)\u001b[49m\n\u001b[1;32m    558\u001b[0m \u001b[38;5;28;01mreturn\u001b[39;00m results_c(full_output, r)\n",
      "\u001b[0;31mTypeError\u001b[0m: <lambda>() missing 4 required positional arguments: 'vox', 'voy', 'b', and 'g'"
     ]
    }
   ],
   "source": [
    "optimize.bisect(f,300.5,301.5)"
   ]
  },
  {
   "cell_type": "code",
   "execution_count": 6,
   "metadata": {
    "id": "Db1Qoc-aNkvh"
   },
   "outputs": [],
   "source": [
    "def biseccion_value(f,a,b,N,eps):\n",
    "  for i in range(N):\n",
    "    if f(a)*f(b)>0:\n",
    "      print(\"cambie los valores del intervalo\")\n",
    "      break\n",
    "\n",
    "  i = 0\n",
    "  while i !=N:\n",
    "\n",
    "      p = (a+b)/2\n",
    "      #print (i, p, f(p))\n",
    "      if f(a)*f(p)>0:\n",
    "        a = p\n",
    "      elif f(a)*f(p)<0:\n",
    "        b = p\n",
    "        #for i in range(N):\n",
    "          #if abs(p-p[i-1]) < eps:\n",
    "            #print(f\"el cero es {p}\")\n",
    "            #break\n",
    "          #elif abs(p - p[i-1])/abs((p)) < eps:\n",
    "            #print(f\"el cero es {p}\")\n",
    "            #break\n",
    "      if abs(f(p)) < eps:\n",
    "        #print(f\"el cero es {p}\")\n",
    "        break\n",
    "\n",
    "      i = i+1\n",
    "  return p\n"
   ]
  },
  {
   "cell_type": "code",
   "execution_count": 7,
   "metadata": {
    "colab": {
     "base_uri": "https://localhost:8080/"
    },
    "id": "IHiCZgA2Nrl8",
    "outputId": "78c5f99c-5d88-47df-85ae-c8c2d38e1502"
   },
   "outputs": [
    {
     "ename": "TypeError",
     "evalue": "loop of ufunc does not support argument 0 of type Add which has no callable log method",
     "output_type": "error",
     "traceback": [
      "\u001b[0;31m---------------------------------------------------------------------------\u001b[0m",
      "\u001b[0;31mAttributeError\u001b[0m                            Traceback (most recent call last)",
      "\u001b[0;31mAttributeError\u001b[0m: 'Add' object has no attribute 'log'",
      "\nThe above exception was the direct cause of the following exception:\n",
      "\u001b[0;31mTypeError\u001b[0m                                 Traceback (most recent call last)",
      "Cell \u001b[0;32mIn[7], line 1\u001b[0m\n\u001b[0;32m----> 1\u001b[0m R_mau \u001b[38;5;241m=\u001b[39m \u001b[43mbiseccion_value\u001b[49m\u001b[43m(\u001b[49m\u001b[43mf\u001b[49m\u001b[43m \u001b[49m\u001b[38;5;241;43m=\u001b[39;49m\u001b[43m \u001b[49m\u001b[38;5;28;43;01mlambda\u001b[39;49;00m\u001b[43m \u001b[49m\u001b[43mR\u001b[49m\u001b[43m:\u001b[49m\u001b[43m \u001b[49m\u001b[43m(\u001b[49m\u001b[43m(\u001b[49m\u001b[43m(\u001b[49m\u001b[43mg\u001b[49m\u001b[38;5;241;43m/\u001b[39;49m\u001b[43mb\u001b[49m\u001b[43m)\u001b[49m\u001b[38;5;241;43m+\u001b[39;49m\u001b[43mvoy\u001b[49m\u001b[43m)\u001b[49m\u001b[38;5;241;43m*\u001b[39;49m\u001b[43m(\u001b[49m\u001b[43mR\u001b[49m\u001b[38;5;241;43m/\u001b[39;49m\u001b[43mvox\u001b[49m\u001b[43m)\u001b[49m\u001b[43m)\u001b[49m\u001b[43m \u001b[49m\u001b[38;5;241;43m+\u001b[39;49m\u001b[43m \u001b[49m\u001b[43m(\u001b[49m\u001b[43m(\u001b[49m\u001b[43mg\u001b[49m\u001b[38;5;241;43m/\u001b[39;49m\u001b[43mb\u001b[49m\u001b[38;5;241;43m*\u001b[39;49m\u001b[38;5;241;43m*\u001b[39;49m\u001b[38;5;241;43m2\u001b[39;49m\u001b[43m)\u001b[49m\u001b[38;5;241;43m*\u001b[39;49m\u001b[43mnp\u001b[49m\u001b[38;5;241;43m.\u001b[39;49m\u001b[43mlog\u001b[49m\u001b[43m(\u001b[49m\u001b[38;5;241;43m1\u001b[39;49m\u001b[38;5;241;43m-\u001b[39;49m\u001b[43m(\u001b[49m\u001b[43m(\u001b[49m\u001b[43mR\u001b[49m\u001b[38;5;241;43m*\u001b[39;49m\u001b[43mb\u001b[49m\u001b[43m)\u001b[49m\u001b[38;5;241;43m/\u001b[39;49m\u001b[43mvox\u001b[49m\u001b[43m)\u001b[49m\u001b[43m)\u001b[49m\u001b[43m)\u001b[49m\u001b[43m,\u001b[49m\u001b[43ma\u001b[49m\u001b[38;5;241;43m=\u001b[39;49m\u001b[38;5;241;43m300.5\u001b[39;49m\u001b[43m,\u001b[49m\u001b[43mb\u001b[49m\u001b[38;5;241;43m=\u001b[39;49m\u001b[38;5;241;43m301.5\u001b[39;49m\u001b[43m,\u001b[49m\u001b[43mN\u001b[49m\u001b[38;5;241;43m=\u001b[39;49m\u001b[38;5;241;43m100\u001b[39;49m\u001b[43m,\u001b[49m\u001b[43meps\u001b[49m\u001b[38;5;241;43m=\u001b[39;49m\u001b[38;5;241;43m1e-7\u001b[39;49m\u001b[43m)\u001b[49m\n\u001b[1;32m      2\u001b[0m R_t \u001b[38;5;241m=\u001b[39m np\u001b[38;5;241m.\u001b[39marange(\u001b[38;5;241m50.5\u001b[39m,R_mau,\u001b[38;5;241m0.01\u001b[39m)\n\u001b[1;32m      3\u001b[0m tv \u001b[38;5;241m=\u001b[39m \u001b[38;5;241m-\u001b[39m(\u001b[38;5;241m1\u001b[39m\u001b[38;5;241m/\u001b[39mb)\u001b[38;5;241m*\u001b[39mnp\u001b[38;5;241m.\u001b[39mlog(\u001b[38;5;241m1\u001b[39m\u001b[38;5;241m-\u001b[39m((R_t\u001b[38;5;241m*\u001b[39mb)\u001b[38;5;241m/\u001b[39mvox))\n",
      "Cell \u001b[0;32mIn[6], line 3\u001b[0m, in \u001b[0;36mbiseccion_value\u001b[0;34m(f, a, b, N, eps)\u001b[0m\n\u001b[1;32m      1\u001b[0m \u001b[38;5;28;01mdef\u001b[39;00m \u001b[38;5;21mbiseccion_value\u001b[39m(f,a,b,N,eps):\n\u001b[1;32m      2\u001b[0m   \u001b[38;5;28;01mfor\u001b[39;00m i \u001b[38;5;129;01min\u001b[39;00m \u001b[38;5;28mrange\u001b[39m(N):\n\u001b[0;32m----> 3\u001b[0m     \u001b[38;5;28;01mif\u001b[39;00m \u001b[43mf\u001b[49m\u001b[43m(\u001b[49m\u001b[43ma\u001b[49m\u001b[43m)\u001b[49m\u001b[38;5;241m*\u001b[39mf(b)\u001b[38;5;241m>\u001b[39m\u001b[38;5;241m0\u001b[39m:\n\u001b[1;32m      4\u001b[0m       \u001b[38;5;28mprint\u001b[39m(\u001b[38;5;124m\"\u001b[39m\u001b[38;5;124mcambie los valores del intervalo\u001b[39m\u001b[38;5;124m\"\u001b[39m)\n\u001b[1;32m      5\u001b[0m       \u001b[38;5;28;01mbreak\u001b[39;00m\n",
      "Cell \u001b[0;32mIn[7], line 1\u001b[0m, in \u001b[0;36m<lambda>\u001b[0;34m(R)\u001b[0m\n\u001b[0;32m----> 1\u001b[0m R_mau \u001b[38;5;241m=\u001b[39m biseccion_value(f \u001b[38;5;241m=\u001b[39m \u001b[38;5;28;01mlambda\u001b[39;00m R: (((g\u001b[38;5;241m/\u001b[39mb)\u001b[38;5;241m+\u001b[39mvoy)\u001b[38;5;241m*\u001b[39m(R\u001b[38;5;241m/\u001b[39mvox)) \u001b[38;5;241m+\u001b[39m ((g\u001b[38;5;241m/\u001b[39mb\u001b[38;5;241m*\u001b[39m\u001b[38;5;241m*\u001b[39m\u001b[38;5;241m2\u001b[39m)\u001b[38;5;241m*\u001b[39m\u001b[43mnp\u001b[49m\u001b[38;5;241;43m.\u001b[39;49m\u001b[43mlog\u001b[49m\u001b[43m(\u001b[49m\u001b[38;5;241;43m1\u001b[39;49m\u001b[38;5;241;43m-\u001b[39;49m\u001b[43m(\u001b[49m\u001b[43m(\u001b[49m\u001b[43mR\u001b[49m\u001b[38;5;241;43m*\u001b[39;49m\u001b[43mb\u001b[49m\u001b[43m)\u001b[49m\u001b[38;5;241;43m/\u001b[39;49m\u001b[43mvox\u001b[49m\u001b[43m)\u001b[49m\u001b[43m)\u001b[49m),a\u001b[38;5;241m=\u001b[39m\u001b[38;5;241m300.5\u001b[39m,b\u001b[38;5;241m=\u001b[39m\u001b[38;5;241m301.5\u001b[39m,N\u001b[38;5;241m=\u001b[39m\u001b[38;5;241m100\u001b[39m,eps\u001b[38;5;241m=\u001b[39m\u001b[38;5;241m1e-7\u001b[39m)\n\u001b[1;32m      2\u001b[0m R_t \u001b[38;5;241m=\u001b[39m np\u001b[38;5;241m.\u001b[39marange(\u001b[38;5;241m50.5\u001b[39m,R_mau,\u001b[38;5;241m0.01\u001b[39m)\n\u001b[1;32m      3\u001b[0m tv \u001b[38;5;241m=\u001b[39m \u001b[38;5;241m-\u001b[39m(\u001b[38;5;241m1\u001b[39m\u001b[38;5;241m/\u001b[39mb)\u001b[38;5;241m*\u001b[39mnp\u001b[38;5;241m.\u001b[39mlog(\u001b[38;5;241m1\u001b[39m\u001b[38;5;241m-\u001b[39m((R_t\u001b[38;5;241m*\u001b[39mb)\u001b[38;5;241m/\u001b[39mvox))\n",
      "\u001b[0;31mTypeError\u001b[0m: loop of ufunc does not support argument 0 of type Add which has no callable log method"
     ]
    }
   ],
   "source": [
    "R_mau = biseccion_value(f = lambda R: (((g/b)+voy)*(R/vox)) + ((g/b**2)*np.log(1-((R*b)/vox))),a=300.5,b=301.5,N=100,eps=1e-7)\n",
    "R_t = np.arange(50.5,R_mau,0.01)\n",
    "tv = -(1/b)*np.log(1-((R_t*b)/vox))\n",
    "tv"
   ]
  },
  {
   "cell_type": "code",
   "execution_count": 8,
   "metadata": {
    "colab": {
     "base_uri": "https://localhost:8080/"
    },
    "id": "fW2DuP65Ogoi",
    "outputId": "ef7d9b83-834b-446e-e1fd-cd471f10283c"
   },
   "outputs": [
    {
     "ename": "NameError",
     "evalue": "name 'tv' is not defined",
     "output_type": "error",
     "traceback": [
      "\u001b[0;31m---------------------------------------------------------------------------\u001b[0m",
      "\u001b[0;31mNameError\u001b[0m                                 Traceback (most recent call last)",
      "Cell \u001b[0;32mIn[8], line 1\u001b[0m\n\u001b[0;32m----> 1\u001b[0m x \u001b[38;5;241m=\u001b[39m (vox\u001b[38;5;241m/\u001b[39mb)\u001b[38;5;241m*\u001b[39m(\u001b[38;5;241m1\u001b[39m\u001b[38;5;241m-\u001b[39mnp\u001b[38;5;241m.\u001b[39mexp(\u001b[38;5;241m-\u001b[39mb\u001b[38;5;241m*\u001b[39m\u001b[43mtv\u001b[49m))\n\u001b[1;32m      2\u001b[0m y \u001b[38;5;241m=\u001b[39m (\u001b[38;5;241m1\u001b[39m\u001b[38;5;241m/\u001b[39mb)\u001b[38;5;241m*\u001b[39m((g\u001b[38;5;241m/\u001b[39mb)\u001b[38;5;241m+\u001b[39mvoy) \u001b[38;5;241m*\u001b[39m (\u001b[38;5;241m1\u001b[39m\u001b[38;5;241m-\u001b[39mnp\u001b[38;5;241m.\u001b[39mexp(\u001b[38;5;241m-\u001b[39mb\u001b[38;5;241m*\u001b[39mtv)) \u001b[38;5;241m-\u001b[39m ((g\u001b[38;5;241m/\u001b[39mb)\u001b[38;5;241m*\u001b[39mtv)\n\u001b[1;32m      3\u001b[0m x,y\n",
      "\u001b[0;31mNameError\u001b[0m: name 'tv' is not defined"
     ]
    }
   ],
   "source": [
    "x = (vox/b)*(1-np.exp(-b*tv))\n",
    "y = (1/b)*((g/b)+voy) * (1-np.exp(-b*tv)) - ((g/b)*tv)\n",
    "x,y"
   ]
  },
  {
   "cell_type": "code",
   "execution_count": 9,
   "metadata": {
    "colab": {
     "base_uri": "https://localhost:8080/",
     "height": 448
    },
    "id": "FwE-mT2aPcSd",
    "outputId": "533ff451-a689-44bb-b9cf-286d1b046ffe"
   },
   "outputs": [
    {
     "ename": "NameError",
     "evalue": "name 'tv' is not defined",
     "output_type": "error",
     "traceback": [
      "\u001b[0;31m---------------------------------------------------------------------------\u001b[0m",
      "\u001b[0;31mNameError\u001b[0m                                 Traceback (most recent call last)",
      "Cell \u001b[0;32mIn[9], line 2\u001b[0m\n\u001b[1;32m      1\u001b[0m plt\u001b[38;5;241m.\u001b[39mfigure()\n\u001b[0;32m----> 2\u001b[0m plt\u001b[38;5;241m.\u001b[39mplot(\u001b[43mtv\u001b[49m,x,\u001b[38;5;124m'\u001b[39m\u001b[38;5;124mr.\u001b[39m\u001b[38;5;124m'\u001b[39m, label\u001b[38;5;241m=\u001b[39m \u001b[38;5;124m'\u001b[39m\u001b[38;5;124mx vs t\u001b[39m\u001b[38;5;124m'\u001b[39m)\n\u001b[1;32m      3\u001b[0m plt\u001b[38;5;241m.\u001b[39mlegend()\n",
      "\u001b[0;31mNameError\u001b[0m: name 'tv' is not defined"
     ]
    },
    {
     "data": {
      "text/plain": [
       "<Figure size 640x480 with 0 Axes>"
      ]
     },
     "metadata": {},
     "output_type": "display_data"
    }
   ],
   "source": [
    "plt.figure()\n",
    "plt.plot(tv,x,'r.', label= 'x vs t')\n",
    "plt.legend()\n"
   ]
  },
  {
   "cell_type": "code",
   "execution_count": 10,
   "metadata": {
    "colab": {
     "base_uri": "https://localhost:8080/",
     "height": 448
    },
    "id": "ppzdkOMnQEk1",
    "outputId": "f49db839-d505-47ab-f1fd-d03995279818"
   },
   "outputs": [
    {
     "ename": "NameError",
     "evalue": "name 'tv' is not defined",
     "output_type": "error",
     "traceback": [
      "\u001b[0;31m---------------------------------------------------------------------------\u001b[0m",
      "\u001b[0;31mNameError\u001b[0m                                 Traceback (most recent call last)",
      "Cell \u001b[0;32mIn[10], line 2\u001b[0m\n\u001b[1;32m      1\u001b[0m plt\u001b[38;5;241m.\u001b[39mfigure()\n\u001b[0;32m----> 2\u001b[0m plt\u001b[38;5;241m.\u001b[39mplot(\u001b[43mtv\u001b[49m,y,\u001b[38;5;124m'\u001b[39m\u001b[38;5;124mg-\u001b[39m\u001b[38;5;124m'\u001b[39m,label\u001b[38;5;241m=\u001b[39m\u001b[38;5;124m'\u001b[39m\u001b[38;5;124my vs t\u001b[39m\u001b[38;5;124m'\u001b[39m)\n\u001b[1;32m      3\u001b[0m plt\u001b[38;5;241m.\u001b[39mlegend()\n",
      "\u001b[0;31mNameError\u001b[0m: name 'tv' is not defined"
     ]
    },
    {
     "data": {
      "text/plain": [
       "<Figure size 640x480 with 0 Axes>"
      ]
     },
     "metadata": {},
     "output_type": "display_data"
    }
   ],
   "source": [
    "plt.figure()\n",
    "plt.plot(tv,y,'g-',label='y vs t')\n",
    "plt.legend()"
   ]
  },
  {
   "cell_type": "code",
   "execution_count": 11,
   "metadata": {
    "colab": {
     "base_uri": "https://localhost:8080/",
     "height": 448
    },
    "id": "jQfz0KOhQNmW",
    "outputId": "a17e520b-9e1b-467f-f5fb-c7bb2c745d7d"
   },
   "outputs": [
    {
     "ename": "NameError",
     "evalue": "name 'x' is not defined",
     "output_type": "error",
     "traceback": [
      "\u001b[0;31m---------------------------------------------------------------------------\u001b[0m",
      "\u001b[0;31mNameError\u001b[0m                                 Traceback (most recent call last)",
      "Cell \u001b[0;32mIn[11], line 2\u001b[0m\n\u001b[1;32m      1\u001b[0m plt\u001b[38;5;241m.\u001b[39mfigure()\n\u001b[0;32m----> 2\u001b[0m plt\u001b[38;5;241m.\u001b[39mplot(\u001b[43mx\u001b[49m,y,\u001b[38;5;124m'\u001b[39m\u001b[38;5;124mb+\u001b[39m\u001b[38;5;124m'\u001b[39m,label\u001b[38;5;241m=\u001b[39m\u001b[38;5;124m'\u001b[39m\u001b[38;5;124mx vs y\u001b[39m\u001b[38;5;124m'\u001b[39m)\n\u001b[1;32m      3\u001b[0m plt\u001b[38;5;241m.\u001b[39mlegend()\n",
      "\u001b[0;31mNameError\u001b[0m: name 'x' is not defined"
     ]
    },
    {
     "data": {
      "text/plain": [
       "<Figure size 640x480 with 0 Axes>"
      ]
     },
     "metadata": {},
     "output_type": "display_data"
    }
   ],
   "source": [
    "plt.figure()\n",
    "plt.plot(x,y,'b+',label='x vs y')\n",
    "plt.legend()"
   ]
  },
  {
   "cell_type": "code",
   "execution_count": 12,
   "metadata": {
    "id": "UCCeA3nQRkC9"
   },
   "outputs": [],
   "source": [
    "def puntosfijos(f,x0,eps,N):\n",
    "\n",
    "  i = 0\n",
    "  while i<N:\n",
    "    i=i+1\n",
    "    p = f(x0)\n",
    "    print (i, p, np.abs(p - x0) )\n",
    "    if ( np.abs(p - x0) < eps ):\n",
    "      break\n",
    "    x0 = p\n",
    "  return p"
   ]
  },
  {
   "cell_type": "code",
   "execution_count": 13,
   "metadata": {
    "id": "MuJtu84ITHvO"
   },
   "outputs": [],
   "source": [
    "def puntosfijos_values(f,x0,eps,N):\n",
    "  i = 0\n",
    "  while i<N:\n",
    "    i=i+1\n",
    "    p = f(x0)\n",
    "    #print (i, p, np.abs(p - x0) )\n",
    "    if ( np.abs(p - x0) < eps ):\n",
    "      break\n",
    "    x0 = p\n",
    "  return p"
   ]
  },
  {
   "cell_type": "code",
   "execution_count": 14,
   "metadata": {
    "colab": {
     "base_uri": "https://localhost:8080/"
    },
    "id": "v8Lpuk98Sc_R",
    "outputId": "13537e54-2932-4c18-db0f-5dd2d6af26fe"
   },
   "outputs": [
    {
     "ename": "TypeError",
     "evalue": "loop of ufunc does not support argument 0 of type Add which has no callable log method",
     "output_type": "error",
     "traceback": [
      "\u001b[0;31m---------------------------------------------------------------------------\u001b[0m",
      "\u001b[0;31mAttributeError\u001b[0m                            Traceback (most recent call last)",
      "\u001b[0;31mAttributeError\u001b[0m: 'Add' object has no attribute 'log'",
      "\nThe above exception was the direct cause of the following exception:\n",
      "\u001b[0;31mTypeError\u001b[0m                                 Traceback (most recent call last)",
      "Cell \u001b[0;32mIn[14], line 1\u001b[0m\n\u001b[0;32m----> 1\u001b[0m p \u001b[38;5;241m=\u001b[39m \u001b[43mpuntosfijos_values\u001b[49m\u001b[43m(\u001b[49m\u001b[43mf\u001b[49m\u001b[43m \u001b[49m\u001b[38;5;241;43m=\u001b[39;49m\u001b[43m \u001b[49m\u001b[38;5;28;43;01mlambda\u001b[39;49;00m\u001b[43m \u001b[49m\u001b[43mR\u001b[49m\u001b[43m:\u001b[49m\u001b[43m \u001b[49m\u001b[43m(\u001b[49m\u001b[43m(\u001b[49m\u001b[43m(\u001b[49m\u001b[43mg\u001b[49m\u001b[38;5;241;43m/\u001b[39;49m\u001b[43mb\u001b[49m\u001b[43m)\u001b[49m\u001b[38;5;241;43m+\u001b[39;49m\u001b[43mvoy\u001b[49m\u001b[43m)\u001b[49m\u001b[38;5;241;43m*\u001b[39;49m\u001b[43m(\u001b[49m\u001b[43mR\u001b[49m\u001b[38;5;241;43m/\u001b[39;49m\u001b[43mvox\u001b[49m\u001b[43m)\u001b[49m\u001b[43m)\u001b[49m\u001b[43m \u001b[49m\u001b[38;5;241;43m+\u001b[39;49m\u001b[43m \u001b[49m\u001b[43m(\u001b[49m\u001b[43m(\u001b[49m\u001b[43mg\u001b[49m\u001b[38;5;241;43m/\u001b[39;49m\u001b[43mb\u001b[49m\u001b[38;5;241;43m*\u001b[39;49m\u001b[38;5;241;43m*\u001b[39;49m\u001b[38;5;241;43m2\u001b[39;49m\u001b[43m)\u001b[49m\u001b[38;5;241;43m*\u001b[39;49m\u001b[43mnp\u001b[49m\u001b[38;5;241;43m.\u001b[39;49m\u001b[43mlog\u001b[49m\u001b[43m(\u001b[49m\u001b[38;5;241;43m1\u001b[39;49m\u001b[38;5;241;43m-\u001b[39;49m\u001b[43m(\u001b[49m\u001b[43m(\u001b[49m\u001b[43mR\u001b[49m\u001b[38;5;241;43m*\u001b[39;49m\u001b[43mb\u001b[49m\u001b[43m)\u001b[49m\u001b[38;5;241;43m/\u001b[39;49m\u001b[43mvox\u001b[49m\u001b[43m)\u001b[49m\u001b[43m)\u001b[49m\u001b[43m)\u001b[49m\u001b[43m,\u001b[49m\u001b[43mx0\u001b[49m\u001b[38;5;241;43m=\u001b[39;49m\u001b[38;5;241;43m300.5\u001b[39;49m\u001b[43m,\u001b[49m\u001b[43meps\u001b[49m\u001b[38;5;241;43m=\u001b[39;49m\u001b[38;5;241;43m1e-7\u001b[39;49m\u001b[43m,\u001b[49m\u001b[43mN\u001b[49m\u001b[38;5;241;43m=\u001b[39;49m\u001b[38;5;241;43m100\u001b[39;49m\u001b[43m)\u001b[49m\n\u001b[1;32m      2\u001b[0m root \u001b[38;5;241m=\u001b[39m \u001b[38;5;241m300.5\u001b[39m \u001b[38;5;241m+\u001b[39m p\n\u001b[1;32m      3\u001b[0m root\n",
      "Cell \u001b[0;32mIn[13], line 5\u001b[0m, in \u001b[0;36mpuntosfijos_values\u001b[0;34m(f, x0, eps, N)\u001b[0m\n\u001b[1;32m      3\u001b[0m \u001b[38;5;28;01mwhile\u001b[39;00m i\u001b[38;5;241m<\u001b[39mN:\n\u001b[1;32m      4\u001b[0m   i\u001b[38;5;241m=\u001b[39mi\u001b[38;5;241m+\u001b[39m\u001b[38;5;241m1\u001b[39m\n\u001b[0;32m----> 5\u001b[0m   p \u001b[38;5;241m=\u001b[39m \u001b[43mf\u001b[49m\u001b[43m(\u001b[49m\u001b[43mx0\u001b[49m\u001b[43m)\u001b[49m\n\u001b[1;32m      6\u001b[0m   \u001b[38;5;66;03m#print (i, p, np.abs(p - x0) )\u001b[39;00m\n\u001b[1;32m      7\u001b[0m   \u001b[38;5;28;01mif\u001b[39;00m ( np\u001b[38;5;241m.\u001b[39mabs(p \u001b[38;5;241m-\u001b[39m x0) \u001b[38;5;241m<\u001b[39m eps ):\n",
      "Cell \u001b[0;32mIn[14], line 1\u001b[0m, in \u001b[0;36m<lambda>\u001b[0;34m(R)\u001b[0m\n\u001b[0;32m----> 1\u001b[0m p \u001b[38;5;241m=\u001b[39m puntosfijos_values(f \u001b[38;5;241m=\u001b[39m \u001b[38;5;28;01mlambda\u001b[39;00m R: (((g\u001b[38;5;241m/\u001b[39mb)\u001b[38;5;241m+\u001b[39mvoy)\u001b[38;5;241m*\u001b[39m(R\u001b[38;5;241m/\u001b[39mvox)) \u001b[38;5;241m+\u001b[39m ((g\u001b[38;5;241m/\u001b[39mb\u001b[38;5;241m*\u001b[39m\u001b[38;5;241m*\u001b[39m\u001b[38;5;241m2\u001b[39m)\u001b[38;5;241m*\u001b[39m\u001b[43mnp\u001b[49m\u001b[38;5;241;43m.\u001b[39;49m\u001b[43mlog\u001b[49m\u001b[43m(\u001b[49m\u001b[38;5;241;43m1\u001b[39;49m\u001b[38;5;241;43m-\u001b[39;49m\u001b[43m(\u001b[49m\u001b[43m(\u001b[49m\u001b[43mR\u001b[49m\u001b[38;5;241;43m*\u001b[39;49m\u001b[43mb\u001b[49m\u001b[43m)\u001b[49m\u001b[38;5;241;43m/\u001b[39;49m\u001b[43mvox\u001b[49m\u001b[43m)\u001b[49m\u001b[43m)\u001b[49m),x0\u001b[38;5;241m=\u001b[39m\u001b[38;5;241m300.5\u001b[39m,eps\u001b[38;5;241m=\u001b[39m\u001b[38;5;241m1e-7\u001b[39m,N\u001b[38;5;241m=\u001b[39m\u001b[38;5;241m100\u001b[39m)\n\u001b[1;32m      2\u001b[0m root \u001b[38;5;241m=\u001b[39m \u001b[38;5;241m300.5\u001b[39m \u001b[38;5;241m+\u001b[39m p\n\u001b[1;32m      3\u001b[0m root\n",
      "\u001b[0;31mTypeError\u001b[0m: loop of ufunc does not support argument 0 of type Add which has no callable log method"
     ]
    }
   ],
   "source": [
    "p = puntosfijos_values(f = lambda R: (((g/b)+voy)*(R/vox)) + ((g/b**2)*np.log(1-((R*b)/vox))),x0=300.5,eps=1e-7,N=100)\n",
    "root = 300.5 + p\n",
    "root"
   ]
  },
  {
   "cell_type": "code",
   "execution_count": 15,
   "metadata": {
    "id": "Y8P9-yk3IMmh"
   },
   "outputs": [],
   "source": [
    "import numpy as np\n",
    "\n",
    "def newton_raphson2(f,df,x0,eps,Nmax):\n",
    "\n",
    "   i=1\n",
    "   while i<Nmax:\n",
    "\n",
    "      p = x0 -f(x0)/df(x0)\n",
    "      print (i, p, f(p))\n",
    "\n",
    "      if ( np.abs(p - p0) < eps ): break\n",
    "\n",
    "      i=i+1\n",
    "      p0 = p\n",
    "\n",
    "\n",
    "   return p"
   ]
  },
  {
   "cell_type": "code",
   "execution_count": 16,
   "metadata": {
    "id": "6YpqW2ktI2sb"
   },
   "outputs": [
    {
     "ename": "TypeError",
     "evalue": "newton_raphson2() missing 4 required positional arguments: 'df', 'x0', 'eps', and 'Nmax'",
     "output_type": "error",
     "traceback": [
      "\u001b[0;31m---------------------------------------------------------------------------\u001b[0m",
      "\u001b[0;31mTypeError\u001b[0m                                 Traceback (most recent call last)",
      "Cell \u001b[0;32mIn[16], line 1\u001b[0m\n\u001b[0;32m----> 1\u001b[0m \u001b[43mnewton_raphson2\u001b[49m\u001b[43m(\u001b[49m\u001b[43mf\u001b[49m\u001b[43m \u001b[49m\u001b[38;5;241;43m=\u001b[39;49m\u001b[43m \u001b[49m\u001b[38;5;28;43;01mlambda\u001b[39;49;00m\u001b[43m \u001b[49m\u001b[43mR\u001b[49m\u001b[43m:\u001b[49m\u001b[43m \u001b[49m\u001b[43m(\u001b[49m\u001b[43m(\u001b[49m\u001b[43m(\u001b[49m\u001b[43mg\u001b[49m\u001b[38;5;241;43m/\u001b[39;49m\u001b[43mb\u001b[49m\u001b[43m)\u001b[49m\u001b[38;5;241;43m+\u001b[39;49m\u001b[43mvoy\u001b[49m\u001b[43m)\u001b[49m\u001b[38;5;241;43m*\u001b[39;49m\u001b[43m(\u001b[49m\u001b[43mR\u001b[49m\u001b[38;5;241;43m/\u001b[39;49m\u001b[43mvox\u001b[49m\u001b[43m)\u001b[49m\u001b[43m)\u001b[49m\u001b[43m \u001b[49m\u001b[38;5;241;43m+\u001b[39;49m\u001b[43m \u001b[49m\u001b[43m(\u001b[49m\u001b[43m(\u001b[49m\u001b[43mg\u001b[49m\u001b[38;5;241;43m/\u001b[39;49m\u001b[43mb\u001b[49m\u001b[38;5;241;43m*\u001b[39;49m\u001b[38;5;241;43m*\u001b[39;49m\u001b[38;5;241;43m2\u001b[39;49m\u001b[43m)\u001b[49m\u001b[38;5;241;43m*\u001b[39;49m\u001b[43mnp\u001b[49m\u001b[38;5;241;43m.\u001b[39;49m\u001b[43mlog\u001b[49m\u001b[43m(\u001b[49m\u001b[38;5;241;43m1\u001b[39;49m\u001b[38;5;241;43m-\u001b[39;49m\u001b[43m(\u001b[49m\u001b[43m(\u001b[49m\u001b[43mR\u001b[49m\u001b[38;5;241;43m*\u001b[39;49m\u001b[43mb\u001b[49m\u001b[43m)\u001b[49m\u001b[38;5;241;43m/\u001b[39;49m\u001b[43mvox\u001b[49m\u001b[43m)\u001b[49m\u001b[43m)\u001b[49m\u001b[43m)\u001b[49m\u001b[43m,\u001b[49m\u001b[43m)\u001b[49m\n",
      "\u001b[0;31mTypeError\u001b[0m: newton_raphson2() missing 4 required positional arguments: 'df', 'x0', 'eps', and 'Nmax'"
     ]
    }
   ],
   "source": [
    "newton_raphson2(f = lambda R: (((g/b)+voy)*(R/vox)) + ((g/b**2)*np.log(1-((R*b)/vox))),)"
   ]
  },
  {
   "cell_type": "markdown",
   "metadata": {
    "id": "yzIQLm5ASP00"
   },
   "source": [
    "# Examen 1: Métodos computacionales.\n",
    "\n",
    "## Profesor: Hernán Salinas\n",
    "### Universidad de Antioquia\n",
    "\n",
    "\n",
    "El examen consta de 7 puntos, cada uno de igual valor, el uso de herramientas de IA no esta permitido. Puede usar la documentacion de scipy, numpy, matplotlib.\n",
    "\n",
    "La entrega se realiza a través del github del curso.\n",
    "\n",
    "\n",
    "#### Examen\n",
    "\n",
    "Una esfera de masa $m$ es lanzada desde la superficie de la tierra con velocidad $\\vec{v_0}$. Las fuerzas que actúan sobre la bolita son: el peso $m\\vec{g}$, y la fuerza de rozamiento $\\vec{f}=-mb\\vec{v}_0$ que el  aire ejerce sobre la bolita. Un digrama de cuerpo libre es esquematizado en la siguiente figura.\n",
    "\n",
    "![Movimiento parabolico](http://www.sc.ehu.es/sbweb/fisica/dinamica/stokes2/stokes1.gif)\n",
    "\n",
    "Para dar solución al movimiento de la bolita, se debe plantear las ecuaciones de movimiento desde la segunda ley de Newton y después solucionarla para encontrar la ecuaciones de posición y velocidad. Su tarea será determinar el valor del alcance máximo para diferentes ángulos de lanzamiento. Para ello lea detenidamente lo siguiente:  \n",
    "\n",
    "Las **ecuaciones de movimiento** de la bolita vienen dadas por:\n",
    "\\begin{equation}\n",
    "m\\frac{\\mathrm{d}v_x}{\\mathrm{d}t} = - mbv_x\n",
    "\\end{equation}\n",
    "\n",
    "\n",
    "\\begin{equation}\n",
    "m\\frac{\\mathrm{d}v_y}{\\mathrm{d}t} = - mg-mbv_y\n",
    "\\end{equation}\n",
    "\n",
    "\n",
    "donde:\n",
    "\n",
    "$v_{0x}=v_0\\cos \\theta$,  $v_{0y}=v_0\\sin \\theta$,  $b$ el coeficiente de rozamiento con el aire, y $g$ la aceleración de la gravedad\n",
    "\n",
    "\n",
    "La solución a las ecuaciones anteriores para la **posición ($x$, $y$) y la velocidad ($v_x$, $v_y$)**  son:\n",
    "\n",
    "\n",
    "\\begin{equation}\n",
    "x =  \\frac{v_{0x}}{b}\\left( 1-e^{-bt} \\right)\n",
    "\\end{equation}\n",
    "\n",
    "\\begin{equation}\n",
    "y =  \\frac{1}{b}\\left( \\frac{g}{b}+v_{0y}\\right)(1-e^{-bt})-\\frac{g}{b}t\n",
    "\\end{equation}\n",
    "\n",
    "\n",
    "\\begin{equation}\n",
    "v_x = v_{0x}e^{-bt}\n",
    "\\end{equation}\n",
    "\n",
    "\\begin{equation}\n",
    "v_y = \\left(\\frac{g}{b}+v_{0y} \\right) e^{-bt}-\\frac{g}{b}\n",
    "\\end{equation}\n",
    "\n",
    "\n",
    "\n",
    "**Alcance máximo**\n",
    "\n",
    "El tiempo asociado al alcance máximo del proyectil se da cuando $x=R$, despejando de la ecuación para $x$ el tiempo, se tiene que:\n",
    "\n",
    "\\begin{equation}\n",
    "t_v=-\\frac{1}{b} \\ln \\left(1-\\frac{Rb}{v_{0x}} \\right)\n",
    "\\end{equation}\n",
    "\n",
    "Reemplanzando en la ecuación para $y$ obtenemos que:\n",
    "\\begin{equation}\n",
    "y =\\left(\\frac{g}{b} + v_{0y}  \\right) \\frac{R}{v_{0x}}+\\frac{g}{b^2}\\ln \\left(1-\\frac{Rb}{v_{0x}} \\right)\n",
    "\\end{equation}\n",
    "\n",
    "El alcance máximo R, estará deteminado cuando $y=0$ en la anterior ecuación. Notese que es una ecuación trascendental. Su tarea será determinar el valor de R para diferentes ángulos de lanzamiento, para ello realice lo siguiente:\n",
    "\n",
    "\n",
    "\n",
    "\n",
    "\n",
    "1. Construir una función de python paramétrica para determinar el valor de R.\n",
    "$y = f(R, \\theta, v_{ox},v_{oy},b,g)$\n",
    "\n",
    "\n",
    "\n",
    "2. Asumiento que la bolita es lanzada con una rapidez de\n",
    "$v_0=55\\mathrm{m}/\\mathrm{s}$ y un ángulo de $45^{\\circ}$ respecto a la horizontal, $b=0.005$ y $g=9.8\\mathrm{m}/\\mathrm{s^2}$, determine el alcance máximo. Emplee el método que desee.\n",
    "\n",
    "\n",
    "3. Valide el resutado anterior, con un método diferente al que empleo en el apartado anterior y además, determine el tiempo de vuelo $t_v$.  \n",
    "\n",
    "\n",
    "4. Construya una gráfica de $x$ vs $t$, $y$ vs $t$, $x$ vs $y$. Asegurese de  no superar en las trayectorias los tiempos establecidos por el  tiempo de vuelo $t_v$.\n",
    "\n",
    "Ahora,  vamos a mostrar la trayectoria para múltiples ángulos de lanzamiento.\n",
    "\n",
    "5. Suponiendo,  $b=0.009$, $v_0 = 40\\mathrm{m}/\\mathrm{s}$ y  $\\theta$ entre $0<\\theta<90^{\\circ}$ en pasos de $5^{\\circ}$:\n",
    "```python\n",
    "theta=np.arange(0, 90, 5)\n",
    "theta=np.deg2rad(theta)\n",
    "```\n",
    "\n",
    "\n",
    "generalice el resultado del punto  número 2  para determinar el conjunto de valores de R asociados a cada ángulo. Con lo anterior determine los tiempos de vuelo.\n",
    "\n",
    "6. Realice un gráfico de $R$ vs $t_v$\n",
    "\n",
    "7. Finalmente, construya todas las trayectorias ($y$ vs $x$) para cada ángulo $\\theta$.\n",
    "\n",
    "\n",
    "\n",
    "\n",
    "\n",
    "\n",
    "\n",
    "\n",
    "\n",
    "\n",
    "\n"
   ]
  },
  {
   "cell_type": "code",
   "execution_count": null,
   "metadata": {},
   "outputs": [],
   "source": []
  },
  {
   "cell_type": "code",
   "execution_count": null,
   "metadata": {},
   "outputs": [],
   "source": []
  }
 ],
 "metadata": {
  "colab": {
   "provenance": []
  },
  "kernelspec": {
   "display_name": "Python 3 (ipykernel)",
   "language": "python",
   "name": "python3"
  },
  "language_info": {
   "codemirror_mode": {
    "name": "ipython",
    "version": 3
   },
   "file_extension": ".py",
   "mimetype": "text/x-python",
   "name": "python",
   "nbconvert_exporter": "python",
   "pygments_lexer": "ipython3",
   "version": "3.10.9"
  }
 },
 "nbformat": 4,
 "nbformat_minor": 1
}
