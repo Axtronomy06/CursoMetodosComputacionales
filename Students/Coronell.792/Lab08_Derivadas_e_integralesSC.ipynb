{
  "nbformat": 4,
  "nbformat_minor": 0,
  "metadata": {
    "colab": {
      "provenance": []
    },
    "kernelspec": {
      "name": "python3",
      "display_name": "Python 3"
    },
    "language_info": {
      "name": "python"
    }
  },
  "cells": [
    {
      "cell_type": "code",
      "execution_count": null,
      "metadata": {
        "id": "1oci8lE7VK7d"
      },
      "outputs": [],
      "source": []
    },
    {
      "cell_type": "markdown",
      "source": [
        "# Lab_08"
      ],
      "metadata": {
        "id": "U8MAlxhO3bbr"
      }
    },
    {
      "cell_type": "code",
      "source": [
        "import scipy as sp\n",
        "import numpy as np\n",
        "x = np.linspace(0,5,50)\n",
        "Y = ((x-1)**2)/(3+1)\n",
        "sp.integrate.trapezoid(Y,x)"
      ],
      "metadata": {
        "colab": {
          "base_uri": "https://localhost:8080/"
        },
        "id": "u0OAzAZDDTHL",
        "outputId": "d665a64c-d5c2-4b78-b5e6-33df61ede844"
      },
      "execution_count": 2,
      "outputs": [
        {
          "output_type": "execute_result",
          "data": {
            "text/plain": [
              "5.418835901707622"
            ]
          },
          "metadata": {},
          "execution_count": 2
        }
      ]
    },
    {
      "cell_type": "code",
      "source": [
        "import pandas as pd\n",
        "t=np.array([1.00,1.01,1.02,1.03,1.04])\n",
        "i=np.array([3.10,3.12,3.14,3.18,3.24])\n",
        "\n",
        "voltio = {'Tiempo (s)':t, 'Corriente (A)':i}\n",
        "DataE = pd.DataFrame(voltio)\n",
        "DataE"
      ],
      "metadata": {
        "id": "qzYxXvBKKJKY",
        "colab": {
          "base_uri": "https://localhost:8080/",
          "height": 206
        },
        "outputId": "b6fb47c4-d230-49f7-f9b4-3ff81b047d3c"
      },
      "execution_count": 16,
      "outputs": [
        {
          "output_type": "execute_result",
          "data": {
            "text/plain": [
              "   Tiempo (s)  Corriente (A)\n",
              "0        1.00           3.10\n",
              "1        1.01           3.12\n",
              "2        1.02           3.14\n",
              "3        1.03           3.18\n",
              "4        1.04           3.24"
            ],
            "text/html": [
              "\n",
              "  <div id=\"df-d263c414-8267-4bd1-9bb1-482174b68cdc\" class=\"colab-df-container\">\n",
              "    <div>\n",
              "<style scoped>\n",
              "    .dataframe tbody tr th:only-of-type {\n",
              "        vertical-align: middle;\n",
              "    }\n",
              "\n",
              "    .dataframe tbody tr th {\n",
              "        vertical-align: top;\n",
              "    }\n",
              "\n",
              "    .dataframe thead th {\n",
              "        text-align: right;\n",
              "    }\n",
              "</style>\n",
              "<table border=\"1\" class=\"dataframe\">\n",
              "  <thead>\n",
              "    <tr style=\"text-align: right;\">\n",
              "      <th></th>\n",
              "      <th>Tiempo (s)</th>\n",
              "      <th>Corriente (A)</th>\n",
              "    </tr>\n",
              "  </thead>\n",
              "  <tbody>\n",
              "    <tr>\n",
              "      <th>0</th>\n",
              "      <td>1.00</td>\n",
              "      <td>3.10</td>\n",
              "    </tr>\n",
              "    <tr>\n",
              "      <th>1</th>\n",
              "      <td>1.01</td>\n",
              "      <td>3.12</td>\n",
              "    </tr>\n",
              "    <tr>\n",
              "      <th>2</th>\n",
              "      <td>1.02</td>\n",
              "      <td>3.14</td>\n",
              "    </tr>\n",
              "    <tr>\n",
              "      <th>3</th>\n",
              "      <td>1.03</td>\n",
              "      <td>3.18</td>\n",
              "    </tr>\n",
              "    <tr>\n",
              "      <th>4</th>\n",
              "      <td>1.04</td>\n",
              "      <td>3.24</td>\n",
              "    </tr>\n",
              "  </tbody>\n",
              "</table>\n",
              "</div>\n",
              "    <div class=\"colab-df-buttons\">\n",
              "\n",
              "  <div class=\"colab-df-container\">\n",
              "    <button class=\"colab-df-convert\" onclick=\"convertToInteractive('df-d263c414-8267-4bd1-9bb1-482174b68cdc')\"\n",
              "            title=\"Convert this dataframe to an interactive table.\"\n",
              "            style=\"display:none;\">\n",
              "\n",
              "  <svg xmlns=\"http://www.w3.org/2000/svg\" height=\"24px\" viewBox=\"0 -960 960 960\">\n",
              "    <path d=\"M120-120v-720h720v720H120Zm60-500h600v-160H180v160Zm220 220h160v-160H400v160Zm0 220h160v-160H400v160ZM180-400h160v-160H180v160Zm440 0h160v-160H620v160ZM180-180h160v-160H180v160Zm440 0h160v-160H620v160Z\"/>\n",
              "  </svg>\n",
              "    </button>\n",
              "\n",
              "  <style>\n",
              "    .colab-df-container {\n",
              "      display:flex;\n",
              "      gap: 12px;\n",
              "    }\n",
              "\n",
              "    .colab-df-convert {\n",
              "      background-color: #E8F0FE;\n",
              "      border: none;\n",
              "      border-radius: 50%;\n",
              "      cursor: pointer;\n",
              "      display: none;\n",
              "      fill: #1967D2;\n",
              "      height: 32px;\n",
              "      padding: 0 0 0 0;\n",
              "      width: 32px;\n",
              "    }\n",
              "\n",
              "    .colab-df-convert:hover {\n",
              "      background-color: #E2EBFA;\n",
              "      box-shadow: 0px 1px 2px rgba(60, 64, 67, 0.3), 0px 1px 3px 1px rgba(60, 64, 67, 0.15);\n",
              "      fill: #174EA6;\n",
              "    }\n",
              "\n",
              "    .colab-df-buttons div {\n",
              "      margin-bottom: 4px;\n",
              "    }\n",
              "\n",
              "    [theme=dark] .colab-df-convert {\n",
              "      background-color: #3B4455;\n",
              "      fill: #D2E3FC;\n",
              "    }\n",
              "\n",
              "    [theme=dark] .colab-df-convert:hover {\n",
              "      background-color: #434B5C;\n",
              "      box-shadow: 0px 1px 3px 1px rgba(0, 0, 0, 0.15);\n",
              "      filter: drop-shadow(0px 1px 2px rgba(0, 0, 0, 0.3));\n",
              "      fill: #FFFFFF;\n",
              "    }\n",
              "  </style>\n",
              "\n",
              "    <script>\n",
              "      const buttonEl =\n",
              "        document.querySelector('#df-d263c414-8267-4bd1-9bb1-482174b68cdc button.colab-df-convert');\n",
              "      buttonEl.style.display =\n",
              "        google.colab.kernel.accessAllowed ? 'block' : 'none';\n",
              "\n",
              "      async function convertToInteractive(key) {\n",
              "        const element = document.querySelector('#df-d263c414-8267-4bd1-9bb1-482174b68cdc');\n",
              "        const dataTable =\n",
              "          await google.colab.kernel.invokeFunction('convertToInteractive',\n",
              "                                                    [key], {});\n",
              "        if (!dataTable) return;\n",
              "\n",
              "        const docLinkHtml = 'Like what you see? Visit the ' +\n",
              "          '<a target=\"_blank\" href=https://colab.research.google.com/notebooks/data_table.ipynb>data table notebook</a>'\n",
              "          + ' to learn more about interactive tables.';\n",
              "        element.innerHTML = '';\n",
              "        dataTable['output_type'] = 'display_data';\n",
              "        await google.colab.output.renderOutput(dataTable, element);\n",
              "        const docLink = document.createElement('div');\n",
              "        docLink.innerHTML = docLinkHtml;\n",
              "        element.appendChild(docLink);\n",
              "      }\n",
              "    </script>\n",
              "  </div>\n",
              "\n",
              "\n",
              "<div id=\"df-e2eec201-9e6b-41a6-9f69-d76b4b025d8f\">\n",
              "  <button class=\"colab-df-quickchart\" onclick=\"quickchart('df-e2eec201-9e6b-41a6-9f69-d76b4b025d8f')\"\n",
              "            title=\"Suggest charts\"\n",
              "            style=\"display:none;\">\n",
              "\n",
              "<svg xmlns=\"http://www.w3.org/2000/svg\" height=\"24px\"viewBox=\"0 0 24 24\"\n",
              "     width=\"24px\">\n",
              "    <g>\n",
              "        <path d=\"M19 3H5c-1.1 0-2 .9-2 2v14c0 1.1.9 2 2 2h14c1.1 0 2-.9 2-2V5c0-1.1-.9-2-2-2zM9 17H7v-7h2v7zm4 0h-2V7h2v10zm4 0h-2v-4h2v4z\"/>\n",
              "    </g>\n",
              "</svg>\n",
              "  </button>\n",
              "\n",
              "<style>\n",
              "  .colab-df-quickchart {\n",
              "      --bg-color: #E8F0FE;\n",
              "      --fill-color: #1967D2;\n",
              "      --hover-bg-color: #E2EBFA;\n",
              "      --hover-fill-color: #174EA6;\n",
              "      --disabled-fill-color: #AAA;\n",
              "      --disabled-bg-color: #DDD;\n",
              "  }\n",
              "\n",
              "  [theme=dark] .colab-df-quickchart {\n",
              "      --bg-color: #3B4455;\n",
              "      --fill-color: #D2E3FC;\n",
              "      --hover-bg-color: #434B5C;\n",
              "      --hover-fill-color: #FFFFFF;\n",
              "      --disabled-bg-color: #3B4455;\n",
              "      --disabled-fill-color: #666;\n",
              "  }\n",
              "\n",
              "  .colab-df-quickchart {\n",
              "    background-color: var(--bg-color);\n",
              "    border: none;\n",
              "    border-radius: 50%;\n",
              "    cursor: pointer;\n",
              "    display: none;\n",
              "    fill: var(--fill-color);\n",
              "    height: 32px;\n",
              "    padding: 0;\n",
              "    width: 32px;\n",
              "  }\n",
              "\n",
              "  .colab-df-quickchart:hover {\n",
              "    background-color: var(--hover-bg-color);\n",
              "    box-shadow: 0 1px 2px rgba(60, 64, 67, 0.3), 0 1px 3px 1px rgba(60, 64, 67, 0.15);\n",
              "    fill: var(--button-hover-fill-color);\n",
              "  }\n",
              "\n",
              "  .colab-df-quickchart-complete:disabled,\n",
              "  .colab-df-quickchart-complete:disabled:hover {\n",
              "    background-color: var(--disabled-bg-color);\n",
              "    fill: var(--disabled-fill-color);\n",
              "    box-shadow: none;\n",
              "  }\n",
              "\n",
              "  .colab-df-spinner {\n",
              "    border: 2px solid var(--fill-color);\n",
              "    border-color: transparent;\n",
              "    border-bottom-color: var(--fill-color);\n",
              "    animation:\n",
              "      spin 1s steps(1) infinite;\n",
              "  }\n",
              "\n",
              "  @keyframes spin {\n",
              "    0% {\n",
              "      border-color: transparent;\n",
              "      border-bottom-color: var(--fill-color);\n",
              "      border-left-color: var(--fill-color);\n",
              "    }\n",
              "    20% {\n",
              "      border-color: transparent;\n",
              "      border-left-color: var(--fill-color);\n",
              "      border-top-color: var(--fill-color);\n",
              "    }\n",
              "    30% {\n",
              "      border-color: transparent;\n",
              "      border-left-color: var(--fill-color);\n",
              "      border-top-color: var(--fill-color);\n",
              "      border-right-color: var(--fill-color);\n",
              "    }\n",
              "    40% {\n",
              "      border-color: transparent;\n",
              "      border-right-color: var(--fill-color);\n",
              "      border-top-color: var(--fill-color);\n",
              "    }\n",
              "    60% {\n",
              "      border-color: transparent;\n",
              "      border-right-color: var(--fill-color);\n",
              "    }\n",
              "    80% {\n",
              "      border-color: transparent;\n",
              "      border-right-color: var(--fill-color);\n",
              "      border-bottom-color: var(--fill-color);\n",
              "    }\n",
              "    90% {\n",
              "      border-color: transparent;\n",
              "      border-bottom-color: var(--fill-color);\n",
              "    }\n",
              "  }\n",
              "</style>\n",
              "\n",
              "  <script>\n",
              "    async function quickchart(key) {\n",
              "      const quickchartButtonEl =\n",
              "        document.querySelector('#' + key + ' button');\n",
              "      quickchartButtonEl.disabled = true;  // To prevent multiple clicks.\n",
              "      quickchartButtonEl.classList.add('colab-df-spinner');\n",
              "      try {\n",
              "        const charts = await google.colab.kernel.invokeFunction(\n",
              "            'suggestCharts', [key], {});\n",
              "      } catch (error) {\n",
              "        console.error('Error during call to suggestCharts:', error);\n",
              "      }\n",
              "      quickchartButtonEl.classList.remove('colab-df-spinner');\n",
              "      quickchartButtonEl.classList.add('colab-df-quickchart-complete');\n",
              "    }\n",
              "    (() => {\n",
              "      let quickchartButtonEl =\n",
              "        document.querySelector('#df-e2eec201-9e6b-41a6-9f69-d76b4b025d8f button');\n",
              "      quickchartButtonEl.style.display =\n",
              "        google.colab.kernel.accessAllowed ? 'block' : 'none';\n",
              "    })();\n",
              "  </script>\n",
              "</div>\n",
              "    </div>\n",
              "  </div>\n"
            ],
            "application/vnd.google.colaboratory.intrinsic+json": {
              "type": "dataframe",
              "variable_name": "DataE",
              "summary": "{\n  \"name\": \"DataE\",\n  \"rows\": 5,\n  \"fields\": [\n    {\n      \"column\": \"Tiempo (s)\",\n      \"properties\": {\n        \"dtype\": \"number\",\n        \"std\": 0.01581138830084191,\n        \"min\": 1.0,\n        \"max\": 1.04,\n        \"num_unique_values\": 5,\n        \"samples\": [\n          1.01,\n          1.04,\n          1.02\n        ],\n        \"semantic_type\": \"\",\n        \"description\": \"\"\n      }\n    },\n    {\n      \"column\": \"Corriente (A)\",\n      \"properties\": {\n        \"dtype\": \"number\",\n        \"std\": 0.055497747702046483,\n        \"min\": 3.1,\n        \"max\": 3.24,\n        \"num_unique_values\": 5,\n        \"samples\": [\n          3.12,\n          3.24,\n          3.14\n        ],\n        \"semantic_type\": \"\",\n        \"description\": \"\"\n      }\n    }\n  ]\n}"
            }
          },
          "metadata": {},
          "execution_count": 16
        }
      ]
    },
    {
      "cell_type": "code",
      "source": [
        "L=0.98\n",
        "R=0.142\n",
        "\n",
        "dI = np.gradient(i, t)\n",
        "dI\n",
        "\n",
        "e = L*dI + R*i\n",
        "DataE['fem (V)'] = e\n",
        "DataE"
      ],
      "metadata": {
        "colab": {
          "base_uri": "https://localhost:8080/",
          "height": 206
        },
        "id": "bq-aTHWxhS68",
        "outputId": "0c2f2243-b428-4258-c026-d5dc325bfe2b"
      },
      "execution_count": 19,
      "outputs": [
        {
          "output_type": "execute_result",
          "data": {
            "text/plain": [
              "   Tiempo (s)  Corriente (A)  fem (V)\n",
              "0        1.00           3.10  2.40020\n",
              "1        1.01           3.12  2.40304\n",
              "2        1.02           3.14  3.38588\n",
              "3        1.03           3.18  5.35156\n",
              "4        1.04           3.24  6.34008"
            ],
            "text/html": [
              "\n",
              "  <div id=\"df-f8f6c69f-cbdf-4536-99b9-a080304bfda5\" class=\"colab-df-container\">\n",
              "    <div>\n",
              "<style scoped>\n",
              "    .dataframe tbody tr th:only-of-type {\n",
              "        vertical-align: middle;\n",
              "    }\n",
              "\n",
              "    .dataframe tbody tr th {\n",
              "        vertical-align: top;\n",
              "    }\n",
              "\n",
              "    .dataframe thead th {\n",
              "        text-align: right;\n",
              "    }\n",
              "</style>\n",
              "<table border=\"1\" class=\"dataframe\">\n",
              "  <thead>\n",
              "    <tr style=\"text-align: right;\">\n",
              "      <th></th>\n",
              "      <th>Tiempo (s)</th>\n",
              "      <th>Corriente (A)</th>\n",
              "      <th>fem (V)</th>\n",
              "    </tr>\n",
              "  </thead>\n",
              "  <tbody>\n",
              "    <tr>\n",
              "      <th>0</th>\n",
              "      <td>1.00</td>\n",
              "      <td>3.10</td>\n",
              "      <td>2.40020</td>\n",
              "    </tr>\n",
              "    <tr>\n",
              "      <th>1</th>\n",
              "      <td>1.01</td>\n",
              "      <td>3.12</td>\n",
              "      <td>2.40304</td>\n",
              "    </tr>\n",
              "    <tr>\n",
              "      <th>2</th>\n",
              "      <td>1.02</td>\n",
              "      <td>3.14</td>\n",
              "      <td>3.38588</td>\n",
              "    </tr>\n",
              "    <tr>\n",
              "      <th>3</th>\n",
              "      <td>1.03</td>\n",
              "      <td>3.18</td>\n",
              "      <td>5.35156</td>\n",
              "    </tr>\n",
              "    <tr>\n",
              "      <th>4</th>\n",
              "      <td>1.04</td>\n",
              "      <td>3.24</td>\n",
              "      <td>6.34008</td>\n",
              "    </tr>\n",
              "  </tbody>\n",
              "</table>\n",
              "</div>\n",
              "    <div class=\"colab-df-buttons\">\n",
              "\n",
              "  <div class=\"colab-df-container\">\n",
              "    <button class=\"colab-df-convert\" onclick=\"convertToInteractive('df-f8f6c69f-cbdf-4536-99b9-a080304bfda5')\"\n",
              "            title=\"Convert this dataframe to an interactive table.\"\n",
              "            style=\"display:none;\">\n",
              "\n",
              "  <svg xmlns=\"http://www.w3.org/2000/svg\" height=\"24px\" viewBox=\"0 -960 960 960\">\n",
              "    <path d=\"M120-120v-720h720v720H120Zm60-500h600v-160H180v160Zm220 220h160v-160H400v160Zm0 220h160v-160H400v160ZM180-400h160v-160H180v160Zm440 0h160v-160H620v160ZM180-180h160v-160H180v160Zm440 0h160v-160H620v160Z\"/>\n",
              "  </svg>\n",
              "    </button>\n",
              "\n",
              "  <style>\n",
              "    .colab-df-container {\n",
              "      display:flex;\n",
              "      gap: 12px;\n",
              "    }\n",
              "\n",
              "    .colab-df-convert {\n",
              "      background-color: #E8F0FE;\n",
              "      border: none;\n",
              "      border-radius: 50%;\n",
              "      cursor: pointer;\n",
              "      display: none;\n",
              "      fill: #1967D2;\n",
              "      height: 32px;\n",
              "      padding: 0 0 0 0;\n",
              "      width: 32px;\n",
              "    }\n",
              "\n",
              "    .colab-df-convert:hover {\n",
              "      background-color: #E2EBFA;\n",
              "      box-shadow: 0px 1px 2px rgba(60, 64, 67, 0.3), 0px 1px 3px 1px rgba(60, 64, 67, 0.15);\n",
              "      fill: #174EA6;\n",
              "    }\n",
              "\n",
              "    .colab-df-buttons div {\n",
              "      margin-bottom: 4px;\n",
              "    }\n",
              "\n",
              "    [theme=dark] .colab-df-convert {\n",
              "      background-color: #3B4455;\n",
              "      fill: #D2E3FC;\n",
              "    }\n",
              "\n",
              "    [theme=dark] .colab-df-convert:hover {\n",
              "      background-color: #434B5C;\n",
              "      box-shadow: 0px 1px 3px 1px rgba(0, 0, 0, 0.15);\n",
              "      filter: drop-shadow(0px 1px 2px rgba(0, 0, 0, 0.3));\n",
              "      fill: #FFFFFF;\n",
              "    }\n",
              "  </style>\n",
              "\n",
              "    <script>\n",
              "      const buttonEl =\n",
              "        document.querySelector('#df-f8f6c69f-cbdf-4536-99b9-a080304bfda5 button.colab-df-convert');\n",
              "      buttonEl.style.display =\n",
              "        google.colab.kernel.accessAllowed ? 'block' : 'none';\n",
              "\n",
              "      async function convertToInteractive(key) {\n",
              "        const element = document.querySelector('#df-f8f6c69f-cbdf-4536-99b9-a080304bfda5');\n",
              "        const dataTable =\n",
              "          await google.colab.kernel.invokeFunction('convertToInteractive',\n",
              "                                                    [key], {});\n",
              "        if (!dataTable) return;\n",
              "\n",
              "        const docLinkHtml = 'Like what you see? Visit the ' +\n",
              "          '<a target=\"_blank\" href=https://colab.research.google.com/notebooks/data_table.ipynb>data table notebook</a>'\n",
              "          + ' to learn more about interactive tables.';\n",
              "        element.innerHTML = '';\n",
              "        dataTable['output_type'] = 'display_data';\n",
              "        await google.colab.output.renderOutput(dataTable, element);\n",
              "        const docLink = document.createElement('div');\n",
              "        docLink.innerHTML = docLinkHtml;\n",
              "        element.appendChild(docLink);\n",
              "      }\n",
              "    </script>\n",
              "  </div>\n",
              "\n",
              "\n",
              "<div id=\"df-136440c0-4fad-47a9-9cae-2c4ede37c9fc\">\n",
              "  <button class=\"colab-df-quickchart\" onclick=\"quickchart('df-136440c0-4fad-47a9-9cae-2c4ede37c9fc')\"\n",
              "            title=\"Suggest charts\"\n",
              "            style=\"display:none;\">\n",
              "\n",
              "<svg xmlns=\"http://www.w3.org/2000/svg\" height=\"24px\"viewBox=\"0 0 24 24\"\n",
              "     width=\"24px\">\n",
              "    <g>\n",
              "        <path d=\"M19 3H5c-1.1 0-2 .9-2 2v14c0 1.1.9 2 2 2h14c1.1 0 2-.9 2-2V5c0-1.1-.9-2-2-2zM9 17H7v-7h2v7zm4 0h-2V7h2v10zm4 0h-2v-4h2v4z\"/>\n",
              "    </g>\n",
              "</svg>\n",
              "  </button>\n",
              "\n",
              "<style>\n",
              "  .colab-df-quickchart {\n",
              "      --bg-color: #E8F0FE;\n",
              "      --fill-color: #1967D2;\n",
              "      --hover-bg-color: #E2EBFA;\n",
              "      --hover-fill-color: #174EA6;\n",
              "      --disabled-fill-color: #AAA;\n",
              "      --disabled-bg-color: #DDD;\n",
              "  }\n",
              "\n",
              "  [theme=dark] .colab-df-quickchart {\n",
              "      --bg-color: #3B4455;\n",
              "      --fill-color: #D2E3FC;\n",
              "      --hover-bg-color: #434B5C;\n",
              "      --hover-fill-color: #FFFFFF;\n",
              "      --disabled-bg-color: #3B4455;\n",
              "      --disabled-fill-color: #666;\n",
              "  }\n",
              "\n",
              "  .colab-df-quickchart {\n",
              "    background-color: var(--bg-color);\n",
              "    border: none;\n",
              "    border-radius: 50%;\n",
              "    cursor: pointer;\n",
              "    display: none;\n",
              "    fill: var(--fill-color);\n",
              "    height: 32px;\n",
              "    padding: 0;\n",
              "    width: 32px;\n",
              "  }\n",
              "\n",
              "  .colab-df-quickchart:hover {\n",
              "    background-color: var(--hover-bg-color);\n",
              "    box-shadow: 0 1px 2px rgba(60, 64, 67, 0.3), 0 1px 3px 1px rgba(60, 64, 67, 0.15);\n",
              "    fill: var(--button-hover-fill-color);\n",
              "  }\n",
              "\n",
              "  .colab-df-quickchart-complete:disabled,\n",
              "  .colab-df-quickchart-complete:disabled:hover {\n",
              "    background-color: var(--disabled-bg-color);\n",
              "    fill: var(--disabled-fill-color);\n",
              "    box-shadow: none;\n",
              "  }\n",
              "\n",
              "  .colab-df-spinner {\n",
              "    border: 2px solid var(--fill-color);\n",
              "    border-color: transparent;\n",
              "    border-bottom-color: var(--fill-color);\n",
              "    animation:\n",
              "      spin 1s steps(1) infinite;\n",
              "  }\n",
              "\n",
              "  @keyframes spin {\n",
              "    0% {\n",
              "      border-color: transparent;\n",
              "      border-bottom-color: var(--fill-color);\n",
              "      border-left-color: var(--fill-color);\n",
              "    }\n",
              "    20% {\n",
              "      border-color: transparent;\n",
              "      border-left-color: var(--fill-color);\n",
              "      border-top-color: var(--fill-color);\n",
              "    }\n",
              "    30% {\n",
              "      border-color: transparent;\n",
              "      border-left-color: var(--fill-color);\n",
              "      border-top-color: var(--fill-color);\n",
              "      border-right-color: var(--fill-color);\n",
              "    }\n",
              "    40% {\n",
              "      border-color: transparent;\n",
              "      border-right-color: var(--fill-color);\n",
              "      border-top-color: var(--fill-color);\n",
              "    }\n",
              "    60% {\n",
              "      border-color: transparent;\n",
              "      border-right-color: var(--fill-color);\n",
              "    }\n",
              "    80% {\n",
              "      border-color: transparent;\n",
              "      border-right-color: var(--fill-color);\n",
              "      border-bottom-color: var(--fill-color);\n",
              "    }\n",
              "    90% {\n",
              "      border-color: transparent;\n",
              "      border-bottom-color: var(--fill-color);\n",
              "    }\n",
              "  }\n",
              "</style>\n",
              "\n",
              "  <script>\n",
              "    async function quickchart(key) {\n",
              "      const quickchartButtonEl =\n",
              "        document.querySelector('#' + key + ' button');\n",
              "      quickchartButtonEl.disabled = true;  // To prevent multiple clicks.\n",
              "      quickchartButtonEl.classList.add('colab-df-spinner');\n",
              "      try {\n",
              "        const charts = await google.colab.kernel.invokeFunction(\n",
              "            'suggestCharts', [key], {});\n",
              "      } catch (error) {\n",
              "        console.error('Error during call to suggestCharts:', error);\n",
              "      }\n",
              "      quickchartButtonEl.classList.remove('colab-df-spinner');\n",
              "      quickchartButtonEl.classList.add('colab-df-quickchart-complete');\n",
              "    }\n",
              "    (() => {\n",
              "      let quickchartButtonEl =\n",
              "        document.querySelector('#df-136440c0-4fad-47a9-9cae-2c4ede37c9fc button');\n",
              "      quickchartButtonEl.style.display =\n",
              "        google.colab.kernel.accessAllowed ? 'block' : 'none';\n",
              "    })();\n",
              "  </script>\n",
              "</div>\n",
              "    </div>\n",
              "  </div>\n"
            ],
            "application/vnd.google.colaboratory.intrinsic+json": {
              "type": "dataframe",
              "variable_name": "DataE",
              "summary": "{\n  \"name\": \"DataE\",\n  \"rows\": 5,\n  \"fields\": [\n    {\n      \"column\": \"Tiempo (s)\",\n      \"properties\": {\n        \"dtype\": \"number\",\n        \"std\": 0.01581138830084191,\n        \"min\": 1.0,\n        \"max\": 1.04,\n        \"num_unique_values\": 5,\n        \"samples\": [\n          1.01,\n          1.04,\n          1.02\n        ],\n        \"semantic_type\": \"\",\n        \"description\": \"\"\n      }\n    },\n    {\n      \"column\": \"Corriente (A)\",\n      \"properties\": {\n        \"dtype\": \"number\",\n        \"std\": 0.055497747702046483,\n        \"min\": 3.1,\n        \"max\": 3.24,\n        \"num_unique_values\": 5,\n        \"samples\": [\n          3.12,\n          3.24,\n          3.14\n        ],\n        \"semantic_type\": \"\",\n        \"description\": \"\"\n      }\n    },\n    {\n      \"column\": \"fem (V)\",\n      \"properties\": {\n        \"dtype\": \"number\",\n        \"std\": 1.7879198710009347,\n        \"min\": 2.4002,\n        \"max\": 6.3400799999999995,\n        \"num_unique_values\": 5,\n        \"samples\": [\n          2.40304,\n          6.3400799999999995,\n          3.38588\n        ],\n        \"semantic_type\": \"\",\n        \"description\": \"\"\n      }\n    }\n  ]\n}"
            }
          },
          "metadata": {},
          "execution_count": 19
        }
      ]
    },
    {
      "cell_type": "code",
      "source": [
        "fig, axs = plt.subplots(1, 2)\n",
        "\n",
        "axs[0].plot(DataE['Tiempo (s)'], DataE['Corriente (A)'], 'ro-', label = 'I(t)')\n",
        "axs[0].legend()\n",
        "axs[1].plot(DataE['Tiempo (s)'], DataE['fem (V)'], 'bo-', label = '$ε(t)$')\n",
        "axs[1].legend()"
      ],
      "metadata": {
        "colab": {
          "base_uri": "https://localhost:8080/",
          "height": 449
        },
        "id": "EZsJmIK-ilzz",
        "outputId": "ab2eccd9-e86a-47c8-a5f4-5567d46d08ae"
      },
      "execution_count": 24,
      "outputs": [
        {
          "output_type": "execute_result",
          "data": {
            "text/plain": [
              "<matplotlib.legend.Legend at 0x7ef7c310db40>"
            ]
          },
          "metadata": {},
          "execution_count": 24
        },
        {
          "output_type": "display_data",
          "data": {
            "text/plain": [
              "<Figure size 640x480 with 2 Axes>"
            ],
            "image/png": "[encoded data removed]"
          },
          "metadata": {}
        }
      ]
    },
    {
      "cell_type": "code",
      "source": [
        "l = sp.interpolate.lagrange(t, i)\n",
        "\n",
        "x = np.linspace(np.min(t), np.max(t), 1000)\n",
        "\n",
        "plt.title('Interpolacion de los datos')\n",
        "plt.plot(x, l(x), 'g', label = 'Interpolacion')\n",
        "plt.plot(t,i, 'ro-', label = 'Datos')\n",
        "plt.xlabel('Tiempo (s)')\n",
        "plt.ylabel('Corriente (A)')\n",
        "plt.legend()\n",
        "plt.grid()"
      ],
      "metadata": {
        "colab": {
          "base_uri": "https://localhost:8080/",
          "height": 472
        },
        "id": "7cFmCvJIl1G1",
        "outputId": "eec2dc72-241e-4c1e-eb5c-1b4493ba8ff4"
      },
      "execution_count": 25,
      "outputs": [
        {
          "output_type": "display_data",
          "data": {
            "text/plain": [
              "<Figure size 640x480 with 1 Axes>"
            ],
            "image/png": "[encoded data removed]"
          },
          "metadata": {}
        }
      ]
    },
    {
      "cell_type": "code",
      "source": [
        "def diff_f(f, x, h):\n",
        "\n",
        "  d = (-25*f(x) + 48*f(x+h)- 36*f(x+2*h) + 16*f(x+3*h) -3*f(x+4*h))/(12*h)\n",
        "\n",
        "  return d\n",
        "\n",
        "d = diff_f(l, x, x[1]-x[0])\n",
        "\n",
        "plt.title('Comportamiento de la corriente y la fem en el tiempo')\n",
        "plt.plot(x, d, label = 'Derivada de primer orden')\n",
        "plt.plot(t, dI)\n",
        "plt.xlabel('Tiempo (s)')\n",
        "plt.ylabel('Corriente (A)')\n",
        "plt.legend()\n",
        "plt.grid()"
      ],
      "metadata": {
        "colab": {
          "base_uri": "https://localhost:8080/",
          "height": 472
        },
        "id": "gY3WrdLnnwy2",
        "outputId": "864dc9c0-528a-40d4-fca4-02bada8ca1a9"
      },
      "execution_count": 29,
      "outputs": [
        {
          "output_type": "display_data",
          "data": {
            "text/plain": [
              "<Figure size 640x480 with 1 Axes>"
            ],
            "image/png": "[encoded data removed]"
          },
          "metadata": {}
        }
      ]
    },
    {
      "cell_type": "markdown",
      "source": [
        "*Parte 2*"
      ],
      "metadata": {
        "id": "A_4fxzUsbvw2"
      }
    },
    {
      "cell_type": "code",
      "source": [
        "import numpy as np\n",
        "import sympy as sy\n",
        "\n",
        "def tan(grados):\n",
        "  return np.tan(np.deg2rad(grados))\n",
        "\n",
        "def sen(grados):\n",
        "  return np.sin(np.deg2rad(grados))\n",
        "\n",
        "def cos(grados):\n",
        "  return np.cos(np.deg2rad(grados))\n",
        "\n",
        "def intan(grados):\n",
        "  return np.rad2deg(np.arctan(grados))\n",
        "\n",
        "def insen(grados):\n",
        "  return np.rad2deg(np.arcsin(grados))\n",
        "\n",
        "def incos(grados):\n",
        "  return np.rad2deg(np.arccos(grados))\n",
        "\n",
        "def cotan(grados):\n",
        "  return 1/tan(grados)"
      ],
      "metadata": {
        "id": "8Y4Sj-d2KJr3"
      },
      "execution_count": 1,
      "outputs": []
    },
    {
      "cell_type": "markdown",
      "source": [
        "\n",
        "  Trapezoide($f,a,b,n$):\n",
        "\n",
        "  $h = (b-a)/n$\n",
        "\n",
        "  $S = (f(a)+f(b))/2$\n",
        "\n",
        "  for $i$ in range($1,n$):\n",
        "  \n",
        "  $S = S+f(a + i*h)$\n",
        "\n",
        "  return $S*h$"
      ],
      "metadata": {
        "id": "s5_LBSqMu7me"
      }
    },
    {
      "cell_type": "code",
      "source": [
        "def trapezoide(f,a,b,n):\n",
        "  h = (b-a)/n\n",
        "  S = (f(a)+f(b))/2\n",
        "  for i in range(1,n):\n",
        "    S = S + f(a + i*h)\n",
        "  return S*h\n",
        "\n",
        "trapezoide(lambda x: 1/np.sqrt(np.tan(x)),0.001,np.pi/2,1000)"
      ],
      "metadata": {
        "colab": {
          "base_uri": "https://localhost:8080/"
        },
        "id": "QPtKpRfJEn47",
        "outputId": "617b1da4-847d-4138-9fd5-a9f9cb0c7f36"
      },
      "execution_count": 3,
      "outputs": [
        {
          "output_type": "execute_result",
          "data": {
            "text/plain": [
              "2.1611180044201346"
            ]
          },
          "metadata": {},
          "execution_count": 3
        }
      ]
    },
    {
      "cell_type": "code",
      "source": [
        "x,y = sy.symbols('x,y')\n",
        "Lala = 1/sy.sqrt(1 - y**2)\n",
        "fint = sy.integrate(Lala,(y,0,sy.sin(x)))\n",
        "sint = sy.lambdify(x,fint,\"numpy\")\n",
        "trapezoide(sint,0.001,np.pi/4,1000), Simpson(sint,0.001,np.pi/4,1000), Cuadratura(sint,0.001,np.pi/4,1000)\n",
        "\n",
        "#opoop = sy.cos(x)/x**3\n",
        "#sy.integrate(opoop,(x,1,1e2))"
      ],
      "metadata": {
        "colab": {
          "base_uri": "https://localhost:8080/"
        },
        "id": "N9PSlaw-bZnd",
        "outputId": "2a72ebf2-c5f0-4150-bba4-91b55b51fe83"
      },
      "execution_count": 14,
      "outputs": [
        {
          "output_type": "execute_result",
          "data": {
            "text/plain": [
              "(0.30842463753404253, 0.3084246375340425, 0.308732277773413)"
            ]
          },
          "metadata": {},
          "execution_count": 14
        }
      ]
    },
    {
      "cell_type": "code",
      "source": [
        "trapezoide(lambda x: np.cos(x)/x**3,1,1e2,100000)"
      ],
      "metadata": {
        "colab": {
          "base_uri": "https://localhost:8080/"
        },
        "id": "3o3FCzdygBVN",
        "outputId": "fdbaa6b6-09f3-4791-e78c-384055366642"
      },
      "execution_count": 5,
      "outputs": [
        {
          "output_type": "execute_result",
          "data": {
            "text/plain": [
              "0.01811729151742567"
            ]
          },
          "metadata": {},
          "execution_count": 5
        }
      ]
    },
    {
      "cell_type": "code",
      "source": [
        "import numpy as np\n",
        "import scipy as sp\n",
        "x = np.linspace(1,100,100)\n",
        "sp.integrate.trapezoid(np.cos(x)/x**3,x)"
      ],
      "metadata": {
        "colab": {
          "base_uri": "https://localhost:8080/"
        },
        "id": "yeqOHdcREuKG",
        "outputId": "99023c52-df00-4d70-c311-0f0be39c25e8"
      },
      "execution_count": 6,
      "outputs": [
        {
          "output_type": "execute_result",
          "data": {
            "text/plain": [
              "0.17842136341501433"
            ]
          },
          "metadata": {},
          "execution_count": 6
        }
      ]
    },
    {
      "cell_type": "markdown",
      "source": [
        "$Simpson(f,a,b,n):$\n",
        "\n",
        "$h = (b-a)/n$\n",
        "\n",
        "$S0 = f(a)+f(b)$\n",
        "\n",
        "$S2=0$\n",
        "\n",
        "$S1=0$\n",
        "\n",
        "for $i$ in range$(1,n):$\n",
        "\n",
        "if ($i$%2==0):\n",
        "$S2 += f(a + i*h)$\n",
        "\n",
        "else: $S1 += f(a + i*h)$\n",
        "\n",
        "return $(S0 + 2*S2 + 4*S1)*h/3$"
      ],
      "metadata": {
        "id": "ApNA-7q-E4TF"
      }
    },
    {
      "cell_type": "code",
      "execution_count": 7,
      "metadata": {
        "id": "eNTqtFYpxxom",
        "outputId": "9d0a6ca6-6bc1-49b2-8652-8ca520d9e3dc",
        "colab": {
          "base_uri": "https://localhost:8080/"
        }
      },
      "outputs": [
        {
          "output_type": "execute_result",
          "data": {
            "text/plain": [
              "2.1587371660639"
            ]
          },
          "metadata": {},
          "execution_count": 7
        }
      ],
      "source": [
        "\n",
        "import numpy as np\n",
        "def Simpson(f,a,b,n):\n",
        "    h = (b - a)/n\n",
        "    S0 = f(a) + 4*f(a + (n-1)*h) + f(b)\n",
        "    S1 = 0\n",
        "    S2 = 0\n",
        "    for i in range(1,n//2):    # suma de 1, ..., n/2 - 1\n",
        "        S2 += f(a + 2*i*h )    # suma de pares\n",
        "        S1 += f(a + (2*i-1)*h) # suma de impares\n",
        "    return (S0 + 2*S2 + 4*S1)*h/3\n",
        "\n",
        "\n",
        "Simpson(lambda x: 1/np.sqrt(np.tan(x)),0.001, np.pi/2, 1000)"
      ]
    },
    {
      "cell_type": "code",
      "source": [
        "Simpson(lambda x: np.cos(x)/x**3,1,1e2,1000)"
      ],
      "metadata": {
        "colab": {
          "base_uri": "https://localhost:8080/"
        },
        "id": "6ZVkMM09le5I",
        "outputId": "4b640437-8fb7-4caf-afba-5db42d6f12e8"
      },
      "execution_count": 8,
      "outputs": [
        {
          "output_type": "execute_result",
          "data": {
            "text/plain": [
              "0.018146084790970848"
            ]
          },
          "metadata": {},
          "execution_count": 8
        }
      ]
    },
    {
      "cell_type": "code",
      "source": [
        "Simpson(sint,0.001,np.pi/4,1000)"
      ],
      "metadata": {
        "colab": {
          "base_uri": "https://localhost:8080/"
        },
        "id": "dwqq27WrdTrC",
        "outputId": "41c33221-6de0-43d7-c3f3-a47007e0eb66"
      },
      "execution_count": 10,
      "outputs": [
        {
          "output_type": "execute_result",
          "data": {
            "text/plain": [
              "0.3084246375340425"
            ]
          },
          "metadata": {},
          "execution_count": 10
        }
      ]
    },
    {
      "cell_type": "markdown",
      "source": [
        "$Cuadratura(f,a,b,n):$\n",
        "   \n",
        "   $h = (b - a)/n$\n",
        "   \n",
        "   $S = 0$\n",
        "\n",
        "   for $i$ in $range(1,n+1):$\n",
        "\n",
        "   $ S += f(a + i*h)*h $  \n",
        "\n",
        "   return $S$"
      ],
      "metadata": {
        "id": "OQxIvLKvIesl"
      }
    },
    {
      "cell_type": "code",
      "source": [],
      "metadata": {
        "id": "Ru2zVwiGNkbJ"
      },
      "execution_count": null,
      "outputs": []
    },
    {
      "cell_type": "code",
      "execution_count": 11,
      "metadata": {
        "id": "Dk3dP6ShxxoU",
        "outputId": "bcb6883c-274c-4ba6-90fe-cd0b65e9092c",
        "colab": {
          "base_uri": "https://localhost:8080/"
        }
      },
      "outputs": [
        {
          "output_type": "execute_result",
          "data": {
            "text/plain": [
              "2.163549898494433"
            ]
          },
          "metadata": {},
          "execution_count": 11
        }
      ],
      "source": [
        "import numpy as np\n",
        "import matplotlib.pyplot as plt\n",
        "\n",
        "# Si la entrada es una función definida en [a,b], con n subintervalos.\n",
        "def Cuadratura(f,a,b,n):\n",
        "   h = (b - a)/n\n",
        "   S = 0\n",
        "   for i in range(1,n+1): #  range(n)=0,..,n-1\n",
        "     S += f(a + i*h)*h    # I = A1 + A2 + ... + An\n",
        "   return S\n",
        "\n",
        "\n",
        "Cuadratura(lambda x: 1/np.sqrt(np.tan(x)),0, np.pi/2, 1000)"
      ]
    },
    {
      "cell_type": "code",
      "source": [
        "Cuadratura(lambda x: np.cos(x)/x**3,1,1e2,10000000)"
      ],
      "metadata": {
        "colab": {
          "base_uri": "https://localhost:8080/"
        },
        "id": "-4UWf9J_mEdI",
        "outputId": "8e52dd37-f596-4bdc-ed57-2fedcc294bf1"
      },
      "execution_count": 12,
      "outputs": [
        {
          "output_type": "execute_result",
          "data": {
            "text/plain": [
              "0.018114415930713147"
            ]
          },
          "metadata": {},
          "execution_count": 12
        }
      ]
    },
    {
      "cell_type": "code",
      "source": [
        "Cuadratura(sint,0.001,np.pi/4,1000)"
      ],
      "metadata": {
        "colab": {
          "base_uri": "https://localhost:8080/"
        },
        "id": "nAqbCyc0dcOT",
        "outputId": "4f7614d7-8b84-4322-9463-f60b0644c845"
      },
      "execution_count": 13,
      "outputs": [
        {
          "output_type": "execute_result",
          "data": {
            "text/plain": [
              "0.308732277773413"
            ]
          },
          "metadata": {},
          "execution_count": 13
        }
      ]
    },
    {
      "cell_type": "markdown",
      "source": [
        "*Parte 3*\n"
      ],
      "metadata": {
        "id": "rMIAAgtmS04E"
      }
    },
    {
      "cell_type": "code",
      "source": [
        "g = 9.8 #aceleracion de la gravedad\n",
        "b = 2.98 #longitud\n",
        "m = 7 # masa\n",
        "I_0 = m*(b**2) # Inercia inicial\n",
        "\n",
        "smallosis = 2*np.pi*np.sqrt(I_0/(m*g*b))\n",
        "O_0, Ot = 0,np.pi/2\n",
        "K = np.sin(O_0)/2\n",
        "elipint = lambda Ø,K : 1/np.sqrt(1 - (K**2)*(np.sin(Ø)**2))\n",
        "spelip = sp.integrate.quad(elipint,0,np.pi/2,args=(K,))[0]\n",
        "\n",
        "\n",
        "\n",
        "\n",
        "P = ((2*smallosis)/np.pi) * spelip\n",
        "\n",
        "P"
      ],
      "metadata": {
        "colab": {
          "base_uri": "https://localhost:8080/"
        },
        "id": "-SCCMKiQl7-d",
        "outputId": "db86e04c-b930-42cd-ab79-f697d3fabfc0"
      },
      "execution_count": null,
      "outputs": [
        {
          "output_type": "execute_result",
          "data": {
            "text/plain": [
              "3.4647744053101577"
            ]
          },
          "metadata": {},
          "execution_count": 4
        }
      ]
    },
    {
      "cell_type": "code",
      "source": [
        "sp.integrate.quad(elipint,0,np.pi/2,args=(K,))[0]"
      ],
      "metadata": {
        "colab": {
          "base_uri": "https://localhost:8080/"
        },
        "id": "EjyagWFT5r5a",
        "outputId": "6f600048-e6ce-4337-ea59-a7838239b5a2"
      },
      "execution_count": null,
      "outputs": [
        {
          "output_type": "execute_result",
          "data": {
            "text/plain": [
              "1.5707963267948966"
            ]
          },
          "metadata": {},
          "execution_count": 5
        }
      ]
    },
    {
      "cell_type": "markdown",
      "source": [
        "*Parte 4*"
      ],
      "metadata": {
        "id": "4nmEyo5LbWVl"
      }
    },
    {
      "cell_type": "code",
      "source": [
        "m = 0.13\n",
        "m1 = 1 - m\n",
        "a0 = 1.3862944\n",
        "b0 = 0.5\n",
        "a1 = 0.1119723\n",
        "b1 = 0.1213478\n",
        "a2 = 0.00725296\n",
        "b2 = 0.0288729\n",
        "\n",
        "a0 + a1*m1 + a2*m1 - (b0 + b1*m1 + b2*(m1**2))*np.log(m1) + 3e-5\n",
        "\n"
      ],
      "metadata": {
        "colab": {
          "base_uri": "https://localhost:8080/"
        },
        "id": "37doj_dgOiq3",
        "outputId": "b5f44207-cf03-4f23-cfeb-fd7784c72de0"
      },
      "execution_count": null,
      "outputs": [
        {
          "output_type": "execute_result",
          "data": {
            "text/plain": [
              "1.5774270854630266"
            ]
          },
          "metadata": {},
          "execution_count": 15
        }
      ]
    },
    {
      "cell_type": "code",
      "source": [
        "sp.integrate.quad(elipint,0,np.pi/2,args=(m,))[0]"
      ],
      "metadata": {
        "colab": {
          "base_uri": "https://localhost:8080/"
        },
        "id": "1dzevb3tnYoO",
        "outputId": "51a98e49-9cc4-418e-953d-c2868e66c620"
      },
      "execution_count": null,
      "outputs": [
        {
          "output_type": "execute_result",
          "data": {
            "text/plain": [
              "1.5774967807286575"
            ]
          },
          "metadata": {},
          "execution_count": 17
        }
      ]
    },
    {
      "cell_type": "markdown",
      "source": [
        "*Parte 5*"
      ],
      "metadata": {
        "id": "wLnG35F1bOC5"
      }
    },
    {
      "cell_type": "code",
      "source": [
        "hx = lambda Ø,K: np.sqrt(1 - (K**2)*(np.sin(Ø)**2))\n",
        "\n",
        "def KK(k,f):\n",
        "  I = sp.integrate.quad(f, 0, np.pi/2, args=(k, ))[0]\n",
        "  return I\n",
        "\n",
        "def E(k,g):\n",
        "  I = sp.integrate.quad(g, 0, np.pi/2, args=(k, ))[0]\n",
        "  return I\n",
        "\n",
        "def k_cuadrado(r,theta,a ):\n",
        "  n = 4*a*r*np.sin(theta)\n",
        "  d = a**2+r**2+2*a*r*np.sin(theta)\n",
        "  return n/d\n",
        "\n",
        "def Apotencial(r, theta, a, I):\n",
        "  n = 4*I*a\n",
        "  d = np.sqrt(a**2+r**2+2*a*r*np.sin(theta))\n",
        "  PT = n/d\n",
        "  k_2 = k_cuadrado(r,theta,a )\n",
        "  k = np.sqrt(k_2)\n",
        "  ST = (((2-k_2)* KK(k,elipint)) - 2*E(k,hx))/k_2\n",
        "\n",
        "  A = PT*ST\n",
        "  return   A\n",
        "\n",
        "\n",
        "a=1\n",
        "I=3\n",
        "r=np.linspace(0.001,100,1000)\n",
        "A = np.zeros(len(r))\n",
        "for i, r_  in enumerate(r):\n",
        "  A[i] = Apotencial(r_, np.pi/3, a, I)\n",
        "\n",
        "plt.plot(r,A, label = \"r _ cambiante\")\n",
        "plt.legend()\n",
        "plt.xlabel(\"r\")\n",
        "plt.ylabel(\"A(r, θ)\")\n"
      ],
      "metadata": {
        "colab": {
          "base_uri": "https://localhost:8080/",
          "height": 466
        },
        "id": "9ByFHITDrEy1",
        "outputId": "f10eb9cd-4e05-45a2-ff97-cf61b0e8f199"
      },
      "execution_count": null,
      "outputs": [
        {
          "output_type": "execute_result",
          "data": {
            "text/plain": [
              "Text(0, 0.5, 'A(r, θ)')"
            ]
          },
          "metadata": {},
          "execution_count": 39
        },
        {
          "output_type": "display_data",
          "data": {
            "text/plain": [
              "<Figure size 640x480 with 1 Axes>"
            ],
            "image/png": "[encoded data removed]"
          },
          "metadata": {}
        }
      ]
    },
    {
      "cell_type": "code",
      "source": [
        "a=1\n",
        "I=3\n",
        "O=np.linspace(0.001, np.pi,1000)\n",
        "A = np.zeros(len(O))\n",
        "r = 1.1\n",
        "for i, O_  in enumerate(O):\n",
        "  A[i] = Apotencial(r,O_, a, I)\n",
        "\n",
        "plt.plot(O,A, label = \"theta cambiante\")\n",
        "plt.legend()\n",
        "plt.xlabel(\"θ\")\n",
        "plt.ylabel(\"A(r, θ)\")"
      ],
      "metadata": {
        "colab": {
          "base_uri": "https://localhost:8080/",
          "height": 466
        },
        "id": "bjDr71H7wnr5",
        "outputId": "e6e73d19-fa39-4c83-fb12-b4036f3f4009"
      },
      "execution_count": null,
      "outputs": [
        {
          "output_type": "execute_result",
          "data": {
            "text/plain": [
              "Text(0, 0.5, 'A(r, θ)')"
            ]
          },
          "metadata": {},
          "execution_count": 40
        },
        {
          "output_type": "display_data",
          "data": {
            "text/plain": [
              "<Figure size 640x480 with 1 Axes>"
            ],
            "image/png": "[encoded data removed]"
          },
          "metadata": {}
        }
      ]
    }
  ]
}