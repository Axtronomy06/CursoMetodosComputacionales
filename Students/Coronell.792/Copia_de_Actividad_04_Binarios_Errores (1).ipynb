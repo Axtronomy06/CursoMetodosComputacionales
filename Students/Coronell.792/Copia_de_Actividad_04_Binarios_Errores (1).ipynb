{
  "cells": [
    {
      "cell_type": "markdown",
      "id": "6d26e874",
      "metadata": {
        "id": "6d26e874"
      },
      "source": [
        "<a href=\"https://colab.research.google.com/github/hernansalinas/autogrades/blob/main/Actividades_clase/Actividad_04_Binarios_Errores.ipynb\" target=\"_parent\"><img src=\"https://colab.research.google.com/assets/colab-badge.svg\" alt=\"Open In Colab\"/></a>\n",
        "\n",
        "\n",
        "\n",
        "# Actividad 4\n",
        "### Métodos computacionales para físicos  y astrónomos\n",
        "### Universidad de Antioquia\n",
        "### Prof: Hernan D. Salinas Jiménez\n"
      ]
    },
    {
      "cell_type": "code",
      "execution_count": 3,
      "id": "eae80e3f",
      "metadata": {
        "id": "eae80e3f",
        "outputId": "a3715ceb-5ff7-448f-dbad-b3f5bdbf147e",
        "colab": {
          "base_uri": "https://localhost:8080/"
        }
      },
      "outputs": [
        {
          "output_type": "stream",
          "name": "stdout",
          "text": [
            "Cloning into 'autogrades'...\n",
            "remote: Enumerating objects: 1011, done.\u001b[K\n",
            "remote: Counting objects: 100% (73/73), done.\u001b[K\n",
            "remote: Compressing objects: 100% (61/61), done.\u001b[K\n",
            "remote: Total 1011 (delta 39), reused 40 (delta 11), pack-reused 938\u001b[K\n",
            "Receiving objects: 100% (1011/1011), 38.99 MiB | 25.66 MiB/s, done.\n",
            "Resolving deltas: 100% (614/614), done.\n"
          ]
        }
      ],
      "source": [
        "!git clone https://github.com/hernansalinas/autogrades.git\n",
        "#path=\"libs\"\n",
        "path=\"autogrades/Actividades_clase/libs\"\n",
        "%run -i {path}/libUnitTest.py"
      ]
    },
    {
      "cell_type": "code",
      "source": [
        "import numpy as np\n",
        "L = ['0','1']\n",
        "suma = ''\n",
        "for i in L:\n",
        "  suma += i\n",
        "\n",
        "suma"
      ],
      "metadata": {
        "colab": {
          "base_uri": "https://localhost:8080/",
          "height": 36
        },
        "id": "fsrD2HtjLaAx",
        "outputId": "937e590d-50a1-40cc-e572-27c5233675dc"
      },
      "id": "fsrD2HtjLaAx",
      "execution_count": null,
      "outputs": [
        {
          "output_type": "execute_result",
          "data": {
            "text/plain": [
              "'01'"
            ],
            "application/vnd.google.colaboratory.intrinsic+json": {
              "type": "string"
            }
          },
          "metadata": {},
          "execution_count": 12
        }
      ]
    },
    {
      "cell_type": "code",
      "source": [
        "85"
      ],
      "metadata": {
        "colab": {
          "base_uri": "https://localhost:8080/"
        },
        "id": "sE3F8UsXZJZL",
        "outputId": "395ef445-62de-45ba-9812-9d1cfdf3718d"
      },
      "id": "sE3F8UsXZJZL",
      "execution_count": null,
      "outputs": [
        {
          "output_type": "execute_result",
          "data": {
            "text/plain": [
              "1"
            ]
          },
          "metadata": {},
          "execution_count": 28
        }
      ]
    },
    {
      "cell_type": "code",
      "source": [
        "def mybin(x):\n",
        "  L = []\n",
        "  while x!=0:\n",
        "    b = x%2\n",
        "    L.append(str(b))\n",
        "    x = x//2\n",
        "\n",
        "  #L = L[::-1]\n",
        "\n",
        "  suma = ''\n",
        "  for i in L:\n",
        "    suma += i\n",
        "    suma = suma.rjust(2,\"0\")\n",
        "\n",
        "  return suma, len(suma)\n",
        "\n",
        "mybin(85)"
      ],
      "metadata": {
        "colab": {
          "base_uri": "https://localhost:8080/"
        },
        "id": "zs3YcTNBXwPJ",
        "outputId": "990df983-735f-42a5-c034-5ac3ea8690d4"
      },
      "id": "zs3YcTNBXwPJ",
      "execution_count": null,
      "outputs": [
        {
          "output_type": "execute_result",
          "data": {
            "text/plain": [
              "('01010101', 8)"
            ]
          },
          "metadata": {},
          "execution_count": 44
        }
      ]
    },
    {
      "cell_type": "code",
      "source": [
        "a = input(\"Digite su binario:\", )\n",
        "type(a)"
      ],
      "metadata": {
        "colab": {
          "base_uri": "https://localhost:8080/"
        },
        "id": "9F1pZ_QxJlqN",
        "outputId": "89253f07-61c7-438b-b0c3-3e4c84468310"
      },
      "id": "9F1pZ_QxJlqN",
      "execution_count": null,
      "outputs": [
        {
          "name": "stdout",
          "output_type": "stream",
          "text": [
            "Digite su binario:111001000110100\n"
          ]
        },
        {
          "output_type": "execute_result",
          "data": {
            "text/plain": [
              "str"
            ]
          },
          "metadata": {},
          "execution_count": 74
        }
      ]
    },
    {
      "cell_type": "code",
      "source": [
        "def number32(bi):\n",
        "  bi = bi[::-1]\n",
        "  sign = bi[31]\n",
        "\n",
        "  e = bi[23:31]\n",
        "  E = 0\n",
        "  for i in range(len(e)):\n",
        "    E+= (2**i) * int(e[i])\n",
        "\n",
        "  fra = bi[0:23]\n",
        "  fra = fra[::-1]\n",
        "  F = 0\n",
        "  for i in range(1,len(fra)):\n",
        "    F += int(fra[i]) * (float(2**(-(i+1))))\n",
        "\n",
        "  NUMBA = (-1)**int(sign) * (2**(E-127)) *(1+F)\n",
        "\n",
        "  return NUMBA\n",
        "\n",
        "a = input(\"Digite su binario:\", )\n",
        "type(a)\n",
        "\n",
        "number32(a)"
      ],
      "metadata": {
        "colab": {
          "base_uri": "https://localhost:8080/"
        },
        "id": "-l3hQHR4J955",
        "outputId": "2dcbed5c-52a1-4b25-923a-a979424fb44e"
      },
      "id": "-l3hQHR4J955",
      "execution_count": null,
      "outputs": [
        {
          "name": "stdout",
          "output_type": "stream",
          "text": [
            "Digite su binario:00111110001000000000001000010000\n"
          ]
        },
        {
          "output_type": "execute_result",
          "data": {
            "text/plain": [
              "0.15625786781311035"
            ]
          },
          "metadata": {},
          "execution_count": 79
        }
      ]
    },
    {
      "cell_type": "markdown",
      "id": "74f1131a",
      "metadata": {
        "id": "74f1131a"
      },
      "source": [
        "### Activity 1.0:\n",
        "\n",
        "Implement a function that get the binary representation of an integer with name mybin, the algorithm should return\n",
        "a string with 8 characters, the maximun number that represent the funcition is integer of 8 bit. The name of function is\n",
        "mybin\n",
        "\n",
        "Ejexample :\n",
        "\n",
        "b=mybin(x)\n",
        "\n",
        "b='00101000'"
      ]
    },
    {
      "cell_type": "code",
      "execution_count": null,
      "id": "4c8dabcf",
      "metadata": {
        "id": "4c8dabcf",
        "colab": {
          "base_uri": "https://localhost:8080/",
          "height": 36
        },
        "outputId": "30d947a1-7a0d-4939-ac8c-0b94bf876de5"
      },
      "outputs": [
        {
          "output_type": "execute_result",
          "data": {
            "text/plain": [
              "'00101111'"
            ],
            "application/vnd.google.colaboratory.intrinsic+json": {
              "type": "string"
            }
          },
          "metadata": {},
          "execution_count": 69
        }
      ],
      "source": [
        "##!/usr/bin/env python3\n",
        "#def mybin(x):\n",
        "    #print('__name__ = {}'.format(__name__))\n",
        "   # Write your code here and change the next line as required\n",
        "   # return \"111\"\n",
        "def mybin(x):\n",
        "  L = []\n",
        "  while x!=0:\n",
        "    b = x%2\n",
        "    L.append(str(b))\n",
        "    x = x//2\n",
        "\n",
        "  L = L[::-1]\n",
        "\n",
        "  suma = ''\n",
        "  for i in L:\n",
        "    suma += i\n",
        "\n",
        "  suma = suma.rjust(8,\"0\")\n",
        "\n",
        "  return suma\n",
        "\n",
        "mybin(47)"
      ]
    },
    {
      "cell_type": "code",
      "execution_count": null,
      "id": "885be6fb",
      "metadata": {
        "id": "885be6fb",
        "outputId": "8d9901cd-a631-44c2-d297-81fdd42a8e25",
        "colab": {
          "base_uri": "https://localhost:8080/",
          "height": 212
        }
      },
      "outputs": [
        {
          "output_type": "display_data",
          "data": {
            "text/plain": [
              "<IPython.core.display.HTML object>"
            ],
            "text/html": [
              "<style>\n",
              "  table { text-align: left; border-collapse: collapse; margin: 1em; caption-side: bottom; font-family: Sans-Serif; font-size: 12px}\n",
              "  caption { text-align: left; padding: 5px }\n",
              "  th, td { border: 2px solid #BFC9CA; padding: 5px }\n",
              "  th { background-color: #BFC9CA }\n",
              "  .passed { background-color: #76D7C4 }\n",
              "  .failed { background-color: #EC7063 }\n",
              "  .skipped { background-color: #EDBB99 }\n",
              "  .score { background-color: #7DCEA0 }\n",
              "  .results .points { display: none }\n",
              "  .results .message { display: block; font-size:smaller; color:#D35400 }\n",
              "  .results .note { display: block; font-size:smaller; font-decoration:italics }\n",
              "  .results .passed::before  { content: \"Passed\" } \n",
              "  .results .skipped::before  { content: \"Skipped\" } \n",
              "  .results .failed::before  { content: \"Failed\" } \n",
              "  .grade .passed  .message:empty::before { content:\"Passed\" }\n",
              "  .grade .failed  .message:empty::before { content:\"Failed\" }\n",
              "  .grade .skipped .message:empty::before { content:\"Skipped\" }   \n",
              "</style>\n",
              "<table class='results'>\n",
              "  <th class='test'>Test</th><th class='result'>Result</th></tr>\n",
              "<tr>\n",
              "  <td class='test'>\n",
              "    La salida debe ser un string \n",
              "    <div class='message'>Done</div>\n",
              "  </td>\n",
              "  <td class='result passed'></td>\n",
              "</tr>\n",
              "<tr>\n",
              "  <td class='test'>\n",
              "    La longitud del string debe ser de 8 \n",
              "    <div class='message'>Done</div>\n",
              "  </td>\n",
              "  <td class='result passed'></td>\n",
              "</tr>\n",
              "<tr>\n",
              "  <td class='test'>\n",
              "    Para el número 166 su representacion es 10100110 \n",
              "    <div class='message'>Done</div>\n",
              "  </td>\n",
              "  <td class='result passed'></td>\n",
              "</tr>  <tr><th class='score'>Total Points</th><th class='score'>3</th></tr></table>\n"
            ]
          },
          "metadata": {}
        }
      ],
      "source": [
        "%run -i {path}/Act_02/test01.py"
      ]
    },
    {
      "cell_type": "markdown",
      "id": "e622b7b5",
      "metadata": {
        "id": "e622b7b5"
      },
      "source": [
        "### Activity 2.0:\n",
        "\n",
        "With the binary representation please try to implement the formula to recover the number.\n",
        "\n",
        "Hint: Use as input the binary representation as a string and invert its order\n",
        "\n",
        "```\n",
        "number32(BIN):\n",
        "\n",
        "```\n",
        "\n",
        "Where BIN is a string with the binary number\n",
        "\n",
        "Example:\n",
        "\n",
        "\n",
        "Test your solution for the next number:\n",
        "\n",
        "number32(\"00111110001000000000001000010000\")"
      ]
    },
    {
      "cell_type": "code",
      "execution_count": 11,
      "id": "5f3c6506",
      "metadata": {
        "id": "5f3c6506",
        "colab": {
          "base_uri": "https://localhost:8080/"
        },
        "outputId": "f2dd0713-a248-48cf-e0d8-fdcd60be017c"
      },
      "outputs": [
        {
          "output_type": "execute_result",
          "data": {
            "text/plain": [
              "0.15625786781311035"
            ]
          },
          "metadata": {},
          "execution_count": 11
        }
      ],
      "source": [
        "#def number32(BIN):\n",
        " #   return None\n",
        "\n",
        "def number32(BIN):\n",
        "  BIN = BIN[::-1]\n",
        "  sign = BIN[31]\n",
        "\n",
        "  e = BIN[23:31]\n",
        "  E = 0\n",
        "  for i in range(len(e)):\n",
        "    E+= (2**i) * int(e[i])\n",
        "\n",
        "  fra = BIN[0:23]\n",
        "  fra = fra[::-1]\n",
        "  F = 0\n",
        "  for i in range(1,len(fra)):\n",
        "    F += int(fra[i]) * (float(2**(-(i+1))))\n",
        "\n",
        "  NUMBA = (-1)**int(sign) * (2**(E-127)) *(1+F)\n",
        "\n",
        "  return NUMBA\n",
        "\n",
        "#a = input(\"Digite su binario:\", )\n",
        "#type(a)\n",
        "BIN = \"00111110001000000000001000010000\"\n",
        "number32(BIN)"
      ]
    },
    {
      "cell_type": "code",
      "execution_count": 12,
      "id": "155ffd7f",
      "metadata": {
        "id": "155ffd7f",
        "outputId": "a5c27a5b-b458-42b5-96ab-858dbaa11bd7",
        "colab": {
          "base_uri": "https://localhost:8080/"
        }
      },
      "outputs": [
        {
          "output_type": "stream",
          "name": "stdout",
          "text": [
            "La función no ha sido definda o el numero de argumento no es el adecuado\n"
          ]
        }
      ],
      "source": [
        "%run -i {path}/Act_02/test02.py"
      ]
    },
    {
      "cell_type": "markdown",
      "id": "d11e596d",
      "metadata": {
        "id": "d11e596d"
      },
      "source": [
        "### Activity 3.0:\n",
        "1. Write a python script that calculates the double precision number represented by a 64-bits binary.\n",
        "\n",
        "the name of function should be:\n",
        "```\n",
        "number64(BIN):\n",
        "\n",
        "```\n",
        "\n",
        "2. What is the number represented by:\n",
        "\n",
        "BIN=\"0 10000000011 1011100100001111111111111111111111111111111111111111\""
      ]
    },
    {
      "cell_type": "code",
      "execution_count": 1,
      "id": "b0922a1d",
      "metadata": {
        "id": "b0922a1d",
        "colab": {
          "base_uri": "https://localhost:8080/"
        },
        "outputId": "e928ecb9-5692-4d81-cfce-8f29c4604025"
      },
      "outputs": [
        {
          "output_type": "execute_result",
          "data": {
            "text/plain": [
              "23.0"
            ]
          },
          "metadata": {},
          "execution_count": 1
        }
      ],
      "source": [
        "def number64(BIN):\n",
        "  bi64 = BIN[::-1]\n",
        "  sign_ = bi64[63]\n",
        "  e = bi64[52:63]\n",
        "  e_ = 0\n",
        "  for i in range(len(e)):\n",
        "    e_+= (2**i) * int(e[i])\n",
        "\n",
        "  fra = bi64[0:52]\n",
        "  fra = fra[::-1]\n",
        "  F_ = 0\n",
        "  for i in range(1,len(fra)):\n",
        "    F_ += int(fra[i]) * (float(2**(-(i+1))))\n",
        "\n",
        "  number64 = (-1)**int(sign_) *(1+F_) * (2**(e_-1023))\n",
        "  return number64\n",
        "\n",
        "number64('0100000000110111000000000000000000000000000000000000000000000000')\n",
        "\n"
      ]
    },
    {
      "cell_type": "code",
      "source": [],
      "metadata": {
        "id": "vyXoo0vLz_Qi"
      },
      "id": "vyXoo0vLz_Qi",
      "execution_count": null,
      "outputs": []
    },
    {
      "cell_type": "code",
      "source": [
        "number64('0100000000111011100100001111111111111111111111111111111111111111')"
      ],
      "metadata": {
        "colab": {
          "base_uri": "https://localhost:8080/"
        },
        "id": "DMZ2ZQO9xNiF",
        "outputId": "cac298a4-3548-4f53-8186-c5113139964b"
      },
      "id": "DMZ2ZQO9xNiF",
      "execution_count": 4,
      "outputs": [
        {
          "output_type": "execute_result",
          "data": {
            "text/plain": [
              "19.566406249999996"
            ]
          },
          "metadata": {},
          "execution_count": 4
        }
      ]
    },
    {
      "cell_type": "code",
      "execution_count": 14,
      "id": "cd48a992",
      "metadata": {
        "scrolled": false,
        "id": "cd48a992",
        "outputId": "243e3fb3-718e-49cc-85a5-99ebc6f6a784",
        "colab": {
          "base_uri": "https://localhost:8080/",
          "height": 106
        }
      },
      "outputs": [
        {
          "output_type": "error",
          "ename": "SyntaxError",
          "evalue": "unmatched ')' (test03.py, line 28)",
          "traceback": [
            "\u001b[0;36m  File \u001b[0;32m\"/content/autogrades/Actividades_clase/libs/Act_02/test03.py\"\u001b[0;36m, line \u001b[0;32m28\u001b[0m\n\u001b[0;31m    True)\u001b[0m\n\u001b[0m        ^\u001b[0m\n\u001b[0;31mSyntaxError\u001b[0m\u001b[0;31m:\u001b[0m unmatched ')'\n"
          ]
        }
      ],
      "source": [
        "%run -i {path}/Act_02/test03.py"
      ]
    }
  ],
  "metadata": {
    "kernelspec": {
      "display_name": "Python 3 (ipykernel)",
      "language": "python",
      "name": "python3"
    },
    "language_info": {
      "codemirror_mode": {
        "name": "ipython",
        "version": 3
      },
      "file_extension": ".py",
      "mimetype": "text/x-python",
      "name": "python",
      "nbconvert_exporter": "python",
      "pygments_lexer": "ipython3",
      "version": "3.10.9"
    },
    "colab": {
      "provenance": []
    }
  },
  "nbformat": 4,
  "nbformat_minor": 5
}