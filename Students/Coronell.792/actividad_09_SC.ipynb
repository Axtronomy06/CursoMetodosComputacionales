{
  "nbformat": 4,
  "nbformat_minor": 0,
  "metadata": {
    "colab": {
      "provenance": []
    },
    "kernelspec": {
      "name": "python3",
      "display_name": "Python 3"
    },
    "language_info": {
      "name": "python"
    }
  },
  "cells": [
    {
      "cell_type": "code",
      "execution_count": null,
      "metadata": {
        "id": "8FoPHVsrscZW"
      },
      "outputs": [],
      "source": []
    },
    {
      "cell_type": "markdown",
      "source": [
        "Multiplicación de dos Matrices"
      ],
      "metadata": {
        "id": "XqSA6hyuvUBC"
      }
    },
    {
      "cell_type": "code",
      "source": [
        "U = np.random.randint(0,100,(3,4))\n",
        "H = np.random.randint(0,100,(4,6))\n",
        "U,H"
      ],
      "metadata": {
        "colab": {
          "base_uri": "https://localhost:8080/"
        },
        "id": "ww98jG0WWUV_",
        "outputId": "e89dbb5b-fa4e-447a-9df6-7f3379c0d8bb"
      },
      "execution_count": null,
      "outputs": [
        {
          "output_type": "execute_result",
          "data": {
            "text/plain": [
              "(array([[51, 40, 33, 17],\n",
              "        [48, 62, 15, 12],\n",
              "        [16,  7,  9, 11]]),\n",
              " array([[47, 26, 32, 14, 12, 42],\n",
              "        [10, 88, 50, 77,  2, 14],\n",
              "        [ 5, 71, 57, 45, 34, 76],\n",
              "        [79, 78, 39,  1, 20, 76]]))"
            ]
          },
          "metadata": {},
          "execution_count": 35
        }
      ]
    },
    {
      "cell_type": "code",
      "source": [
        "U[1,:]"
      ],
      "metadata": {
        "colab": {
          "base_uri": "https://localhost:8080/"
        },
        "id": "YRMe8dIGYNgA",
        "outputId": "c9bd1ae3-18c8-41f1-b427-c00707c4253a"
      },
      "execution_count": null,
      "outputs": [
        {
          "output_type": "execute_result",
          "data": {
            "text/plain": [
              "array([48, 62, 15, 12])"
            ]
          },
          "metadata": {},
          "execution_count": 45
        }
      ]
    },
    {
      "cell_type": "code",
      "source": [
        "H[:,1]"
      ],
      "metadata": {
        "colab": {
          "base_uri": "https://localhost:8080/"
        },
        "id": "JbiEPYF-YVJi",
        "outputId": "dfbc28d8-d4fd-41bd-8cf1-f76ef0518b34"
      },
      "execution_count": null,
      "outputs": [
        {
          "output_type": "execute_result",
          "data": {
            "text/plain": [
              "array([26, 88, 71, 78])"
            ]
          },
          "metadata": {},
          "execution_count": 48
        }
      ]
    },
    {
      "cell_type": "code",
      "source": [
        "o = U[1,:]*H[:,1]\n",
        "o"
      ],
      "metadata": {
        "colab": {
          "base_uri": "https://localhost:8080/"
        },
        "id": "CizwLXwKZj6w",
        "outputId": "c9bf6a70-0ca8-4d9a-ca13-3464197b5b31"
      },
      "execution_count": null,
      "outputs": [
        {
          "output_type": "execute_result",
          "data": {
            "text/plain": [
              "array([1248, 5456, 1065,  936])"
            ]
          },
          "metadata": {},
          "execution_count": 70
        }
      ]
    },
    {
      "cell_type": "code",
      "source": [
        "O = np.sum(o)\n",
        "O"
      ],
      "metadata": {
        "colab": {
          "base_uri": "https://localhost:8080/"
        },
        "id": "RyalQGCVbNMi",
        "outputId": "68bebf2f-c6f1-4822-e5fd-1473c8578e57"
      },
      "execution_count": null,
      "outputs": [
        {
          "output_type": "execute_result",
          "data": {
            "text/plain": [
              "8705"
            ]
          },
          "metadata": {},
          "execution_count": 73
        }
      ]
    },
    {
      "cell_type": "code",
      "source": [
        "k = np.zeros((3,6))\n",
        "k[1,1] = O"
      ],
      "metadata": {
        "id": "UFkwFY8ubP-h"
      },
      "execution_count": null,
      "outputs": []
    },
    {
      "cell_type": "code",
      "source": [
        "k"
      ],
      "metadata": {
        "colab": {
          "base_uri": "https://localhost:8080/"
        },
        "id": "ZJqidDRNboiB",
        "outputId": "1d387696-6031-455e-f88f-920f3feec485"
      },
      "execution_count": null,
      "outputs": [
        {
          "output_type": "execute_result",
          "data": {
            "text/plain": [
              "array([[   0.,    0.,    0.,    0.,    0.,    0.],\n",
              "       [   0., 8705.,    0.,    0.,    0.,    0.],\n",
              "       [   0.,    0.,    0.,    0.,    0.,    0.]])"
            ]
          },
          "metadata": {},
          "execution_count": 94
        }
      ]
    },
    {
      "cell_type": "code",
      "source": [
        "i = 0\n",
        "while i != 3:\n",
        "  for j in range(6):\n",
        "    r = U[i,:]*H[:,j]\n",
        "    k[i,j] = np.sum(r)\n",
        "  i = i+1\n",
        "\n",
        "k"
      ],
      "metadata": {
        "colab": {
          "base_uri": "https://localhost:8080/"
        },
        "id": "jLT1ERzqepjD",
        "outputId": "bff96bce-97d8-44eb-8d92-0669ed0d61c5"
      },
      "execution_count": null,
      "outputs": [
        {
          "output_type": "execute_result",
          "data": {
            "text/plain": [
              "array([[4305., 8515., 6176., 5296., 2154., 6502.],\n",
              "       [3899., 8705., 5959., 6133., 1450., 4936.],\n",
              "       [1736., 2529., 1804., 1179.,  732., 2290.]])"
            ]
          },
          "metadata": {},
          "execution_count": 107
        }
      ]
    },
    {
      "cell_type": "code",
      "source": [
        "range(3)"
      ],
      "metadata": {
        "colab": {
          "base_uri": "https://localhost:8080/"
        },
        "id": "nCWmjvoRhjWJ",
        "outputId": "9663a8f0-9f60-4592-f088-6ba4d1acce5d"
      },
      "execution_count": null,
      "outputs": [
        {
          "output_type": "execute_result",
          "data": {
            "text/plain": [
              "range(0, 3)"
            ]
          },
          "metadata": {},
          "execution_count": 103
        }
      ]
    },
    {
      "cell_type": "code",
      "source": [
        "U@H"
      ],
      "metadata": {
        "colab": {
          "base_uri": "https://localhost:8080/"
        },
        "id": "awQcdbhgh8fj",
        "outputId": "1998888e-4c00-4bd6-a236-d2f0d76c3ffd"
      },
      "execution_count": null,
      "outputs": [
        {
          "output_type": "execute_result",
          "data": {
            "text/plain": [
              "array([[4305, 8515, 6176, 5296, 2154, 6502],\n",
              "       [3899, 8705, 5959, 6133, 1450, 4936],\n",
              "       [1736, 2529, 1804, 1179,  732, 2290]])"
            ]
          },
          "metadata": {},
          "execution_count": 108
        }
      ]
    },
    {
      "cell_type": "markdown",
      "source": [
        "Regresion Lineal"
      ],
      "metadata": {
        "id": "jfVm7Zx8vX-f"
      }
    },
    {
      "cell_type": "code",
      "source": [
        "N = 10\n",
        "x1 = np.linspace(0, 10, N)\n",
        "noise=2*np.random.random(N)-1\n",
        "y = 0.9*x1 + noise"
      ],
      "metadata": {
        "id": "hVw7lTut0ibR"
      },
      "execution_count": null,
      "outputs": []
    },
    {
      "cell_type": "code",
      "source": [
        "import sympy as sy\n",
        "x = np.zeros((len(x1),2))\n",
        "x[:,0] = 1\n",
        "x[:,1] = x1\n",
        "x=np.matrix(x)\n",
        "#sy.Matrix(x)\n",
        "thta = np.linalg.inv(x.T@x) @ x.T @ y\n",
        "#sy.Matrix(thta)\n",
        "Y = thta@x.T\n",
        "#sy.Matrix(Y)\n",
        "plt.plot(x1,y,'r+',label='Datos')\n",
        "plt.plot(x1,Y.T,'g--',label='Regresion lineal')\n",
        "plt.grid()\n",
        "plt.legend()\n",
        "plt.show()"
      ],
      "metadata": {
        "colab": {
          "base_uri": "https://localhost:8080/",
          "height": 430
        },
        "id": "xRfrUbe71X9q",
        "outputId": "ea3e002d-5b18-4a9e-efda-49121312897f"
      },
      "execution_count": null,
      "outputs": [
        {
          "output_type": "display_data",
          "data": {
            "text/plain": [
              "<Figure size 640x480 with 1 Axes>"
            ],
            "image/png": "[encoded data removed]"
          },
          "metadata": {}
        }
      ]
    },
    {
      "cell_type": "markdown",
      "source": [
        "Regresion Bidimensional"
      ],
      "metadata": {
        "id": "JJ2EBFe1vr-t"
      }
    },
    {
      "cell_type": "code",
      "source": [
        "N=21\n",
        "x1 = np.linspace(-1,1,N)\n",
        "x2 = np.linspace(-2,2,N)\n",
        "noise1=2*np.random.random(N)-1\n",
        "noise2=2*np.random.random(N)-1\n",
        "y = 2*(x1+noise1)-3*(x2+noise2)+0.0+4#+np.random.random(N)\n",
        "\n",
        "x = np.zeros((len(x1),3))\n",
        "x[:,0] = 1\n",
        "x[:,1] = x1\n",
        "x[:,2] = x2\n",
        "\n",
        "x = np.matrix(x)\n",
        "thta = np.linalg.inv(x.T@x)@ x.T @ y\n",
        "\n",
        "Y = thta@x.T\n",
        "\n",
        "X1, X2 = np.meshgrid(x1,x2)\n",
        "Y = 2*X1 - 3*X2 + 0.0\n",
        "fig, ax = plt.subplots(subplot_kw={\"projection\": \"3d\"})\n",
        "surf = ax.plot_surface(X1, X2, Y)\n",
        "scatter = ax.scatter(x1, x2, y,\"-\")"
      ],
      "metadata": {
        "colab": {
          "base_uri": "https://localhost:8080/",
          "height": 415
        },
        "id": "olwTScIV2Lx6",
        "outputId": "a1f28c81-e325-4d20-b7a5-4305abd73697"
      },
      "execution_count": null,
      "outputs": [
        {
          "output_type": "display_data",
          "data": {
            "text/plain": [
              "<Figure size 640x480 with 1 Axes>"
            ],
            "image/png": "[encoded data removed]"
          },
          "metadata": {}
        }
      ]
    },
    {
      "cell_type": "markdown",
      "source": [
        "Eliminación de Gauss"
      ],
      "metadata": {
        "id": "i9znencgvzf5"
      }
    },
    {
      "cell_type": "markdown",
      "source": [
        "$x-3y+4z=3$\n",
        "\n",
        "$2x-5y+6z=6$\n",
        "\n",
        "$-3x+3y+4z=6$"
      ],
      "metadata": {
        "id": "YUKoXGNSpf44"
      }
    },
    {
      "cell_type": "code",
      "source": [
        "import numpy as np\n",
        "mat = np.array([[1,-3,4,3],\n",
        "          [2,-5,6,6],\n",
        "          [-3,3,4,6]])"
      ],
      "metadata": {
        "id": "GeT9AbRmtTS6"
      },
      "execution_count": null,
      "outputs": []
    },
    {
      "cell_type": "code",
      "source": [
        "mat[1,:] = -mat[0]*2 +mat[1]\n",
        "mat"
      ],
      "metadata": {
        "colab": {
          "base_uri": "https://localhost:8080/"
        },
        "id": "gpRpHtIEwsPj",
        "outputId": "fc184403-b175-456b-8f40-265fbfd4cfc4"
      },
      "execution_count": null,
      "outputs": [
        {
          "output_type": "execute_result",
          "data": {
            "text/plain": [
              "array([[ 1, -3,  4,  3],\n",
              "       [ 0,  1, -2,  0],\n",
              "       [-3,  3,  4,  6]])"
            ]
          },
          "metadata": {},
          "execution_count": 25
        }
      ]
    },
    {
      "cell_type": "code",
      "source": [
        "mat[2,:] = mat[0]*3 + mat[2]\n",
        "mat"
      ],
      "metadata": {
        "colab": {
          "base_uri": "https://localhost:8080/"
        },
        "id": "eEtBv3w1xCFK",
        "outputId": "da51f671-830d-4915-cc8d-5c28044c3983"
      },
      "execution_count": null,
      "outputs": [
        {
          "output_type": "execute_result",
          "data": {
            "text/plain": [
              "array([[ 1, -3,  4,  3],\n",
              "       [ 0,  1, -2,  0],\n",
              "       [ 0, -6, 16, 15]])"
            ]
          },
          "metadata": {},
          "execution_count": 26
        }
      ]
    },
    {
      "cell_type": "code",
      "source": [
        "mat[2,:] = mat[1]*6 + mat[2]\n",
        "mat"
      ],
      "metadata": {
        "colab": {
          "base_uri": "https://localhost:8080/"
        },
        "id": "WHqugzgKzQvO",
        "outputId": "e4762338-74cd-4fc3-b4de-649b9f5772f6"
      },
      "execution_count": null,
      "outputs": [
        {
          "output_type": "execute_result",
          "data": {
            "text/plain": [
              "array([[ 1, -3,  4,  3],\n",
              "       [ 0,  1, -2,  0],\n",
              "       [ 0,  0,  4, 15]])"
            ]
          },
          "metadata": {},
          "execution_count": 27
        }
      ]
    },
    {
      "cell_type": "code",
      "source": [
        "mat[2:] = mat[2]*(1/4)"
      ],
      "metadata": {
        "colab": {
          "base_uri": "https://localhost:8080/"
        },
        "id": "f-La_FyN06lO",
        "outputId": "e6f3992a-c507-4fe6-ef4c-3bc42add6dd1"
      },
      "execution_count": null,
      "outputs": [
        {
          "output_type": "execute_result",
          "data": {
            "text/plain": [
              "array([[ 1, -3,  4,  3],\n",
              "       [ 0,  1, -2,  0],\n",
              "       [ 0,  0,  0,  0]])"
            ]
          },
          "metadata": {},
          "execution_count": 30
        }
      ]
    },
    {
      "cell_type": "code",
      "source": [
        "import sympy as sy\n",
        "sym = sy.Matrix(mat)\n",
        "sym[1,:] = -sym[0,:]*2 +sym[1,:]\n",
        "sym[2,:] = sym[0,:]*3 + sym[2,:]\n",
        "sym[2,:] = sym[1,:]*6 + sym[2,:]\n",
        "sym[2,:] = sym[2,:]/4\n",
        "sym"
      ],
      "metadata": {
        "colab": {
          "base_uri": "https://localhost:8080/",
          "height": 78
        },
        "id": "a3DzD9O52IDQ",
        "outputId": "f87e7e19-eb1e-423d-caab-80c338b7ea65"
      },
      "execution_count": null,
      "outputs": [
        {
          "output_type": "execute_result",
          "data": {
            "text/plain": [
              "Matrix([\n",
              "[1, -3,  4,    3],\n",
              "[0,  1, -2,    0],\n",
              "[0,  0,  1, 15/4]])"
            ],
            "text/latex": "$\\displaystyle \\left[\\begin{matrix}1 & -3 & 4 & 3\\\\0 & 1 & -2 & 0\\\\0 & 0 & 1 & \\frac{15}{4}\\end{matrix}\\right]$"
          },
          "metadata": {},
          "execution_count": 38
        }
      ]
    },
    {
      "cell_type": "code",
      "source": [],
      "metadata": {
        "id": "CaOcaqgi7wqk"
      },
      "execution_count": null,
      "outputs": []
    }
  ]
}