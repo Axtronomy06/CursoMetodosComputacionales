{
  "cells": [
    {
      "cell_type": "markdown",
      "id": "6d26e874",
      "metadata": {
        "id": "6d26e874"
      },
      "source": [
        "<a href=\"https://colab.research.google.com/github/hernansalinas/autogrades/blob/main/Actividades_clase/Actividad_04_Binarios_Errores.ipynb\" target=\"_parent\"><img src=\"https://colab.research.google.com/assets/colab-badge.svg\" alt=\"Open In Colab\"/></a>\n",
        "\n",
        "\n",
        "\n",
        "# Actividad 4\n",
        "### Métodos computacionales para físicos  y astrónomos\n",
        "### Universidad de Antioquia\n",
        "### Prof: Hernan D. Salinas Jiménez\n"
      ]
    },
    {
      "cell_type": "code",
      "execution_count": null,
      "id": "eae80e3f",
      "metadata": {
        "id": "eae80e3f",
        "outputId": "ddda683b-d253-4d88-f8c8-a7bc5ceb9337",
        "colab": {
          "base_uri": "https://localhost:8080/"
        }
      },
      "outputs": [
        {
          "output_type": "stream",
          "name": "stdout",
          "text": [
            "Cloning into 'autogrades'...\n",
            "remote: Enumerating objects: 1002, done.\u001b[K\n",
            "remote: Counting objects: 100% (64/64), done.\u001b[K\n",
            "remote: Compressing objects: 100% (54/54), done.\u001b[K\n",
            "remote: Total 1002 (delta 33), reused 35 (delta 9), pack-reused 938\u001b[K\n",
            "Receiving objects: 100% (1002/1002), 38.88 MiB | 26.63 MiB/s, done.\n",
            "Resolving deltas: 100% (608/608), done.\n"
          ]
        }
      ],
      "source": [
        "!git clone https://github.com/hernansalinas/autogrades.git\n",
        "#path=\"libs\"\n",
        "path=\"autogrades/Actividades_clase/libs\"\n",
        "%run -i {path}/libUnitTest.py"
      ]
    },
    {
      "cell_type": "markdown",
      "id": "74f1131a",
      "metadata": {
        "id": "74f1131a"
      },
      "source": [
        "### Activity 1.0:\n",
        "\n",
        "Implement a function that get the binary representation of an integer with name mybin, the algorithm should return\n",
        "a string with 8 characters, the maximun number that represent the funcition is integer of 8 bit. The name of function is\n",
        "mybin\n",
        "\n",
        "Ejexample :\n",
        "\n",
        "b=mybin(x)\n",
        "\n",
        "b='00101000'"
      ]
    },
    {
      "cell_type": "code",
      "execution_count": null,
      "id": "4c8dabcf",
      "metadata": {
        "id": "4c8dabcf",
        "colab": {
          "base_uri": "https://localhost:8080/",
          "height": 35
        },
        "outputId": "1223fa6b-d0a2-479a-c091-6b0b063f2767"
      },
      "outputs": [
        {
          "output_type": "execute_result",
          "data": {
            "text/plain": [
              "'  101100'"
            ],
            "application/vnd.google.colaboratory.intrinsic+json": {
              "type": "string"
            }
          },
          "metadata": {},
          "execution_count": 22
        }
      ],
      "source": [
        "##!/usr/bin/env python3\n",
        "def mybin(x):\n",
        "  #print('__name__ = {}'.format(__name__))\n",
        "  b = ''\n",
        "  while x >= 1:\n",
        "    r = str(x%2)\n",
        "    x = int(x/2)\n",
        "    b += r\n",
        "  return b[::-1].rjust(8)\n",
        "\n",
        "mybin(44)"
      ]
    },
    {
      "cell_type": "code",
      "execution_count": null,
      "id": "885be6fb",
      "metadata": {
        "id": "885be6fb",
        "outputId": "5a28d209-5ae4-4acc-b01a-f3d2b9722ab0",
        "colab": {
          "base_uri": "https://localhost:8080/",
          "height": 215
        }
      },
      "outputs": [
        {
          "output_type": "display_data",
          "data": {
            "text/plain": [
              "<IPython.core.display.HTML object>"
            ],
            "text/html": [
              "<style>\n",
              "  table { text-align: left; border-collapse: collapse; margin: 1em; caption-side: bottom; font-family: Sans-Serif; font-size: 12px}\n",
              "  caption { text-align: left; padding: 5px }\n",
              "  th, td { border: 2px solid #BFC9CA; padding: 5px }\n",
              "  th { background-color: #BFC9CA }\n",
              "  .passed { background-color: #76D7C4 }\n",
              "  .failed { background-color: #EC7063 }\n",
              "  .skipped { background-color: #EDBB99 }\n",
              "  .score { background-color: #7DCEA0 }\n",
              "  .results .points { display: none }\n",
              "  .results .message { display: block; font-size:smaller; color:#D35400 }\n",
              "  .results .note { display: block; font-size:smaller; font-decoration:italics }\n",
              "  .results .passed::before  { content: \"Passed\" } \n",
              "  .results .skipped::before  { content: \"Skipped\" } \n",
              "  .results .failed::before  { content: \"Failed\" } \n",
              "  .grade .passed  .message:empty::before { content:\"Passed\" }\n",
              "  .grade .failed  .message:empty::before { content:\"Failed\" }\n",
              "  .grade .skipped .message:empty::before { content:\"Skipped\" }   \n",
              "</style>\n",
              "<table class='results'>\n",
              "  <th class='test'>Test</th><th class='result'>Result</th></tr>\n",
              "<tr>\n",
              "  <td class='test'>\n",
              "    La salida debe ser un string \n",
              "    <div class='message'>Done</div>\n",
              "  </td>\n",
              "  <td class='result passed'></td>\n",
              "</tr>\n",
              "<tr>\n",
              "  <td class='test'>\n",
              "    La longitud del string debe ser de 8 \n",
              "    <div class='message'>Done</div>\n",
              "  </td>\n",
              "  <td class='result passed'></td>\n",
              "</tr>\n",
              "<tr>\n",
              "  <td class='test'>\n",
              "    Para el número 246 su representacion es 11110110 \n",
              "    <div class='message'>Done</div>\n",
              "  </td>\n",
              "  <td class='result passed'></td>\n",
              "</tr>  <tr><th class='score'>Total Points</th><th class='score'>3</th></tr></table>\n"
            ]
          },
          "metadata": {}
        }
      ],
      "source": [
        "%run -i {path}/Act_02/test01.py"
      ]
    },
    {
      "cell_type": "markdown",
      "id": "e622b7b5",
      "metadata": {
        "id": "e622b7b5"
      },
      "source": [
        "### Activity 2.0:\n",
        "\n",
        "With the binary representation please try to implement the formula to recover the number.\n",
        "\n",
        "Hint: Use as input the binary representation as a string and invert its order\n",
        "\n",
        "```\n",
        "number32(BIN):\n",
        "\n",
        "```\n",
        "\n",
        "Where BIN is a string with the binary number\n",
        "\n",
        "Example:\n",
        "\n",
        "\n",
        "Test your solution for the next number:\n",
        "\n",
        "number32(\"00111110001000000000001000010000\")"
      ]
    },
    {
      "cell_type": "code",
      "execution_count": null,
      "id": "5f3c6506",
      "metadata": {
        "id": "5f3c6506",
        "colab": {
          "base_uri": "https://localhost:8080/"
        },
        "outputId": "c950b103-ac85-47a3-fef6-450800661f76"
      },
      "outputs": [
        {
          "output_type": "execute_result",
          "data": {
            "text/plain": [
              "0.15625"
            ]
          },
          "metadata": {},
          "execution_count": 33
        }
      ],
      "source": [
        "def number32(BIN):\n",
        "  n = BIN[::-1]\n",
        "  signo = n[31]\n",
        "  e = n[23:31]\n",
        "  r = n[0:23]\n",
        "  E = 0\n",
        "  c = 0\n",
        "\n",
        "  for i in range(0,len(e)):\n",
        "    x = float(e[i])\n",
        "    x *= 2**i\n",
        "    E += x\n",
        "\n",
        "  d = 2 ** (E-127)\n",
        "\n",
        "  for i in range(1,len(r)):\n",
        "    y = float(r[23-i])\n",
        "    y *= 2**(-i)\n",
        "    c += y\n",
        "\n",
        "  f = (1 + c) * d\n",
        "\n",
        "  if signo == 1:\n",
        "    f *= -1\n",
        "\n",
        "\n",
        "  return f\n",
        "\n",
        "number32(\"00111110001000000000000000000000\")"
      ]
    },
    {
      "cell_type": "code",
      "execution_count": null,
      "id": "155ffd7f",
      "metadata": {
        "id": "155ffd7f",
        "outputId": "67c7e2b4-aff8-4653-87ec-c3edba9a23b4",
        "colab": {
          "base_uri": "https://localhost:8080/"
        }
      },
      "outputs": [
        {
          "output_type": "stream",
          "name": "stdout",
          "text": [
            "La función no ha sido definda o el numero de argumento no es el adecuado\n"
          ]
        }
      ],
      "source": [
        "%run -i {path}/Act_02/test02.py"
      ]
    },
    {
      "cell_type": "markdown",
      "id": "d11e596d",
      "metadata": {
        "id": "d11e596d"
      },
      "source": [
        "### Activity 3.0:\n",
        "1. Write a python script that calculates the double precision number represented by a 64-bits binary.\n",
        "\n",
        "the name of function should be:\n",
        "```\n",
        "number64(BIN):\n",
        "\n",
        "```\n",
        "\n",
        "2. What is the number represented by:\n",
        "\n",
        "BIN=\"0 10000000011 1011100100001111111111111111111111111111111111111111\""
      ]
    },
    {
      "cell_type": "code",
      "execution_count": null,
      "id": "b0922a1d",
      "metadata": {
        "id": "b0922a1d",
        "colab": {
          "base_uri": "https://localhost:8080/"
        },
        "outputId": "daabbcce-a75e-4b16-a65f-2a14a8e454c2"
      },
      "outputs": [
        {
          "output_type": "execute_result",
          "data": {
            "text/plain": [
              "27.566406249999993"
            ]
          },
          "metadata": {},
          "execution_count": 31
        }
      ],
      "source": [
        "def number64(BIN):\n",
        "  n = BIN[::-1]\n",
        "  signo = n[63]\n",
        "  e = n[52:63]\n",
        "  r = n[0:52]\n",
        "  E = 0\n",
        "  c = 0\n",
        "\n",
        "  for i in range(0,len(e)):\n",
        "    x = float(e[i])\n",
        "    x *= 2**i\n",
        "    E += x\n",
        "\n",
        "  d = 2 ** (E-1023)\n",
        "\n",
        "  for i in range(1,len(r)):\n",
        "    y = float(r[52-i])\n",
        "    y *= 2**(-i)\n",
        "    c += y\n",
        "\n",
        "  f = (1 + c) * d\n",
        "\n",
        "  if signo == 1:\n",
        "    f *= -1\n",
        "\n",
        "\n",
        "  return f\n",
        "\n",
        "number64(\"0100000000111011100100001111111111111111111111111111111111111111\")"
      ]
    },
    {
      "cell_type": "code",
      "execution_count": null,
      "id": "cd48a992",
      "metadata": {
        "scrolled": false,
        "id": "cd48a992"
      },
      "outputs": [],
      "source": [
        "#%run -i {path}/Act_02/test03.py"
      ]
    }
  ],
  "metadata": {
    "kernelspec": {
      "display_name": "Python 3 (ipykernel)",
      "language": "python",
      "name": "python3"
    },
    "language_info": {
      "codemirror_mode": {
        "name": "ipython",
        "version": 3
      },
      "file_extension": ".py",
      "mimetype": "text/x-python",
      "name": "python",
      "nbconvert_exporter": "python",
      "pygments_lexer": "ipython3",
      "version": "3.10.9"
    },
    "colab": {
      "provenance": []
    }
  },
  "nbformat": 4,
  "nbformat_minor": 5
}