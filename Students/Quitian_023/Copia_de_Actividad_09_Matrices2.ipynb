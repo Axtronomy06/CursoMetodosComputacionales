{
  "nbformat": 4,
  "nbformat_minor": 0,
  "metadata": {
    "colab": {
      "provenance": []
    },
    "kernelspec": {
      "name": "python3",
      "display_name": "Python 3"
    },
    "language_info": {
      "name": "python"
    }
  },
  "cells": [
    {
      "cell_type": "code",
      "source": [
        "import numpy as np\n",
        "import pandas as pd\n",
        "import sympy as sy\n",
        "import matplotlib.pyplot as plt\n"
      ],
      "metadata": {
        "id": "LGEtqLJlw2eb"
      },
      "execution_count": 120,
      "outputs": []
    },
    {
      "cell_type": "markdown",
      "source": [
        "# Arreglos de numpy"
      ],
      "metadata": {
        "id": "wtJNu-2mLSsV"
      }
    },
    {
      "cell_type": "code",
      "source": [
        "# Generemos una arreglos ndimensaionales, ¿como podemos acceder a los elementos?\n",
        "X = np.random.randint(0, 55, (6,6))\n",
        "X"
      ],
      "metadata": {
        "colab": {
          "base_uri": "https://localhost:8080/"
        },
        "id": "97ecIcqMhbru",
        "outputId": "1e88124f-f0e7-4985-b451-b3f2a905e5df"
      },
      "execution_count": 121,
      "outputs": [
        {
          "output_type": "execute_result",
          "data": {
            "text/plain": [
              "array([[27, 54, 27,  0,  8, 31],\n",
              "       [14, 31, 38, 42,  1, 37],\n",
              "       [48, 40, 27, 30, 29,  1],\n",
              "       [31,  3, 44, 23,  2, 28],\n",
              "       [39, 19, 51, 38, 36, 50],\n",
              "       [43, 44,  6, 28, 11, 18]])"
            ]
          },
          "metadata": {},
          "execution_count": 121
        }
      ]
    },
    {
      "cell_type": "code",
      "source": [
        "X[0]"
      ],
      "metadata": {
        "colab": {
          "base_uri": "https://localhost:8080/"
        },
        "id": "UPZ4HVeSiAa_",
        "outputId": "71c14253-a9c6-4662-af5c-98753894016c"
      },
      "execution_count": 122,
      "outputs": [
        {
          "output_type": "execute_result",
          "data": {
            "text/plain": [
              "array([27, 54, 27,  0,  8, 31])"
            ]
          },
          "metadata": {},
          "execution_count": 122
        }
      ]
    },
    {
      "cell_type": "code",
      "source": [
        "X[0][1:4]"
      ],
      "metadata": {
        "colab": {
          "base_uri": "https://localhost:8080/"
        },
        "id": "FfnQsOUDibOE",
        "outputId": "be4350d4-7e3a-4e4c-9dc8-e12542b5ade1"
      },
      "execution_count": 123,
      "outputs": [
        {
          "output_type": "execute_result",
          "data": {
            "text/plain": [
              "array([54, 27,  0])"
            ]
          },
          "metadata": {},
          "execution_count": 123
        }
      ]
    },
    {
      "cell_type": "code",
      "source": [
        "X[0, 1:4:2]"
      ],
      "metadata": {
        "colab": {
          "base_uri": "https://localhost:8080/"
        },
        "id": "vkNXHb5rizs5",
        "outputId": "bcd4c22e-0d05-45ab-da40-e2b8a0e228d9"
      },
      "execution_count": 124,
      "outputs": [
        {
          "output_type": "execute_result",
          "data": {
            "text/plain": [
              "array([54,  0])"
            ]
          },
          "metadata": {},
          "execution_count": 124
        }
      ]
    },
    {
      "cell_type": "code",
      "source": [
        "X[0:3:2 , 2:4:1]"
      ],
      "metadata": {
        "colab": {
          "base_uri": "https://localhost:8080/"
        },
        "id": "BJkM5j28QGZ_",
        "outputId": "115579d5-0152-40ba-8133-7713b1ed9e27"
      },
      "execution_count": 125,
      "outputs": [
        {
          "output_type": "execute_result",
          "data": {
            "text/plain": [
              "array([[27,  0],\n",
              "       [27, 30]])"
            ]
          },
          "metadata": {},
          "execution_count": 125
        }
      ]
    },
    {
      "cell_type": "code",
      "source": [
        "X[2::2,::2 ]"
      ],
      "metadata": {
        "colab": {
          "base_uri": "https://localhost:8080/"
        },
        "id": "KMe75hMwletS",
        "outputId": "78bf49b5-051d-423b-ffa2-502312cdb156"
      },
      "execution_count": 126,
      "outputs": [
        {
          "output_type": "execute_result",
          "data": {
            "text/plain": [
              "array([[48, 27, 29],\n",
              "       [39, 51, 36]])"
            ]
          },
          "metadata": {},
          "execution_count": 126
        }
      ]
    },
    {
      "cell_type": "code",
      "source": [
        "# Permutaciones:"
      ],
      "metadata": {
        "id": "hC_QTDyyM0T3"
      },
      "execution_count": 127,
      "outputs": []
    },
    {
      "cell_type": "code",
      "source": [
        "X"
      ],
      "metadata": {
        "colab": {
          "base_uri": "https://localhost:8080/"
        },
        "id": "JYhVm8_TM2Tf",
        "outputId": "34d0cb1b-925e-4786-d996-6b52ada0ce80"
      },
      "execution_count": 128,
      "outputs": [
        {
          "output_type": "execute_result",
          "data": {
            "text/plain": [
              "array([[27, 54, 27,  0,  8, 31],\n",
              "       [14, 31, 38, 42,  1, 37],\n",
              "       [48, 40, 27, 30, 29,  1],\n",
              "       [31,  3, 44, 23,  2, 28],\n",
              "       [39, 19, 51, 38, 36, 50],\n",
              "       [43, 44,  6, 28, 11, 18]])"
            ]
          },
          "metadata": {},
          "execution_count": 128
        }
      ]
    },
    {
      "cell_type": "code",
      "source": [
        "X[[2,1]] =X[[1,2]]"
      ],
      "metadata": {
        "id": "m-oTG0W7M4Ku"
      },
      "execution_count": 129,
      "outputs": []
    },
    {
      "cell_type": "code",
      "source": [
        "X"
      ],
      "metadata": {
        "colab": {
          "base_uri": "https://localhost:8080/"
        },
        "id": "cc_qEzAeNdmX",
        "outputId": "5bd9efd8-70b9-494e-8dc7-c939dccb2042"
      },
      "execution_count": 130,
      "outputs": [
        {
          "output_type": "execute_result",
          "data": {
            "text/plain": [
              "array([[27, 54, 27,  0,  8, 31],\n",
              "       [48, 40, 27, 30, 29,  1],\n",
              "       [14, 31, 38, 42,  1, 37],\n",
              "       [31,  3, 44, 23,  2, 28],\n",
              "       [39, 19, 51, 38, 36, 50],\n",
              "       [43, 44,  6, 28, 11, 18]])"
            ]
          },
          "metadata": {},
          "execution_count": 130
        }
      ]
    },
    {
      "cell_type": "code",
      "source": [
        "# Operaciones matriciales"
      ],
      "metadata": {
        "id": "tpPPxUiULgge"
      },
      "execution_count": 131,
      "outputs": []
    },
    {
      "cell_type": "code",
      "source": [
        "X=np.array([[1,2],[3,4]])\n",
        "B=np.array([[5,2],[1,4]])\n",
        "np.linalg.inv(X)"
      ],
      "metadata": {
        "colab": {
          "base_uri": "https://localhost:8080/"
        },
        "id": "U8snX3DpLXtp",
        "outputId": "f689a718-cc9a-4643-d2c3-d4aeb94749b6"
      },
      "execution_count": 132,
      "outputs": [
        {
          "output_type": "execute_result",
          "data": {
            "text/plain": [
              "array([[-2. ,  1. ],\n",
              "       [ 1.5, -0.5]])"
            ]
          },
          "metadata": {},
          "execution_count": 132
        }
      ]
    },
    {
      "cell_type": "code",
      "source": [
        "np.linalg.det(X)"
      ],
      "metadata": {
        "colab": {
          "base_uri": "https://localhost:8080/"
        },
        "id": "XwCim3VlLfKU",
        "outputId": "7420bb86-7b17-462d-f9a5-1f43a4edb3fe"
      },
      "execution_count": 133,
      "outputs": [
        {
          "output_type": "execute_result",
          "data": {
            "text/plain": [
              "-2.0000000000000004"
            ]
          },
          "metadata": {},
          "execution_count": 133
        }
      ]
    },
    {
      "cell_type": "code",
      "source": [
        "np.dot([2j, 3j], [2j, 3j])"
      ],
      "metadata": {
        "colab": {
          "base_uri": "https://localhost:8080/"
        },
        "id": "JyXfDy4TL46a",
        "outputId": "195b49e1-77a1-4568-87f1-e5f5f8d127cf"
      },
      "execution_count": 134,
      "outputs": [
        {
          "output_type": "execute_result",
          "data": {
            "text/plain": [
              "(-13+0j)"
            ]
          },
          "metadata": {},
          "execution_count": 134
        }
      ]
    },
    {
      "cell_type": "code",
      "source": [
        "X*B"
      ],
      "metadata": {
        "colab": {
          "base_uri": "https://localhost:8080/"
        },
        "id": "WPC3XJLjMTvU",
        "outputId": "ef409e69-31a7-4688-c1e9-5cd51a948b7c"
      },
      "execution_count": 135,
      "outputs": [
        {
          "output_type": "execute_result",
          "data": {
            "text/plain": [
              "array([[ 5,  4],\n",
              "       [ 3, 16]])"
            ]
          },
          "metadata": {},
          "execution_count": 135
        }
      ]
    },
    {
      "cell_type": "code",
      "source": [
        "X@B"
      ],
      "metadata": {
        "colab": {
          "base_uri": "https://localhost:8080/"
        },
        "id": "SXr0_TeBMf2m",
        "outputId": "a0122a17-eb1d-443b-e03a-6d0d539274e1"
      },
      "execution_count": 136,
      "outputs": [
        {
          "output_type": "execute_result",
          "data": {
            "text/plain": [
              "array([[ 7, 10],\n",
              "       [19, 22]])"
            ]
          },
          "metadata": {},
          "execution_count": 136
        }
      ]
    },
    {
      "cell_type": "code",
      "source": [
        "np.matmul(X,B)"
      ],
      "metadata": {
        "colab": {
          "base_uri": "https://localhost:8080/"
        },
        "id": "Ht4V1OxIMg40",
        "outputId": "0e15dc36-5c89-4fa6-8af2-285d42610f23"
      },
      "execution_count": 137,
      "outputs": [
        {
          "output_type": "execute_result",
          "data": {
            "text/plain": [
              "array([[ 7, 10],\n",
              "       [19, 22]])"
            ]
          },
          "metadata": {},
          "execution_count": 137
        }
      ]
    },
    {
      "cell_type": "code",
      "source": [
        "x = np.random.randint(0, 100, (6,6))\n",
        "x"
      ],
      "metadata": {
        "colab": {
          "base_uri": "https://localhost:8080/"
        },
        "id": "kOftgaxYQUWY",
        "outputId": "343d17aa-9b09-4d72-9028-aef9f2302386"
      },
      "execution_count": 138,
      "outputs": [
        {
          "output_type": "execute_result",
          "data": {
            "text/plain": [
              "array([[64, 11, 30, 25,  2, 58],\n",
              "       [96, 18, 30, 60, 55, 24],\n",
              "       [79, 90, 40, 15, 96, 66],\n",
              "       [84, 93, 82, 93,  7, 97],\n",
              "       [19,  2, 57, 52, 80, 36],\n",
              "       [43, 46, 92, 75, 34, 25]])"
            ]
          },
          "metadata": {},
          "execution_count": 138
        }
      ]
    },
    {
      "cell_type": "code",
      "source": [
        "x[4:6:1 , 0]"
      ],
      "metadata": {
        "colab": {
          "base_uri": "https://localhost:8080/"
        },
        "id": "Et6L1ndDT4EQ",
        "outputId": "45bf14a4-2cb5-4aa2-829d-8c028a5b3861"
      },
      "execution_count": 139,
      "outputs": [
        {
          "output_type": "execute_result",
          "data": {
            "text/plain": [
              "array([19, 43])"
            ]
          },
          "metadata": {},
          "execution_count": 139
        }
      ]
    },
    {
      "cell_type": "code",
      "source": [
        "x[3:6:1 , 1]"
      ],
      "metadata": {
        "colab": {
          "base_uri": "https://localhost:8080/"
        },
        "id": "7ZrySc03SLU_",
        "outputId": "63fbd61b-3340-429e-a566-a05ebe43e552"
      },
      "execution_count": 140,
      "outputs": [
        {
          "output_type": "execute_result",
          "data": {
            "text/plain": [
              "array([93,  2, 46])"
            ]
          },
          "metadata": {},
          "execution_count": 140
        }
      ]
    },
    {
      "cell_type": "code",
      "source": [],
      "metadata": {
        "id": "k6A5otN_T7wP"
      },
      "execution_count": 140,
      "outputs": []
    },
    {
      "cell_type": "code",
      "source": [
        "x[3:6:1 , 1]"
      ],
      "metadata": {
        "id": "l7rPMJfJT10P",
        "colab": {
          "base_uri": "https://localhost:8080/"
        },
        "outputId": "fd241319-2e37-4bc7-f9ee-04547d59a554"
      },
      "execution_count": 141,
      "outputs": [
        {
          "output_type": "execute_result",
          "data": {
            "text/plain": [
              "array([93,  2, 46])"
            ]
          },
          "metadata": {},
          "execution_count": 141
        }
      ]
    },
    {
      "cell_type": "code",
      "source": [
        "x[3:6:1 , 4:6:1]"
      ],
      "metadata": {
        "colab": {
          "base_uri": "https://localhost:8080/"
        },
        "id": "E5xJccuhQfGe",
        "outputId": "c3b0a30e-f486-42f9-a6a5-d95f435cc7b0"
      },
      "execution_count": 142,
      "outputs": [
        {
          "output_type": "execute_result",
          "data": {
            "text/plain": [
              "array([[ 7, 97],\n",
              "       [80, 36],\n",
              "       [34, 25]])"
            ]
          },
          "metadata": {},
          "execution_count": 142
        }
      ]
    },
    {
      "cell_type": "code",
      "source": [
        "x.T"
      ],
      "metadata": {
        "colab": {
          "base_uri": "https://localhost:8080/"
        },
        "id": "e_pzc7kYUE-f",
        "outputId": "b9bd2ade-41d3-4a4d-a641-492e551f685a"
      },
      "execution_count": 143,
      "outputs": [
        {
          "output_type": "execute_result",
          "data": {
            "text/plain": [
              "array([[64, 96, 79, 84, 19, 43],\n",
              "       [11, 18, 90, 93,  2, 46],\n",
              "       [30, 30, 40, 82, 57, 92],\n",
              "       [25, 60, 15, 93, 52, 75],\n",
              "       [ 2, 55, 96,  7, 80, 34],\n",
              "       [58, 24, 66, 97, 36, 25]])"
            ]
          },
          "metadata": {},
          "execution_count": 143
        }
      ]
    },
    {
      "cell_type": "code",
      "source": [
        "2*x"
      ],
      "metadata": {
        "colab": {
          "base_uri": "https://localhost:8080/"
        },
        "id": "sIQoa3-CULD9",
        "outputId": "f69a437b-ef1c-46ec-ea28-cc35b0ac9507"
      },
      "execution_count": 144,
      "outputs": [
        {
          "output_type": "execute_result",
          "data": {
            "text/plain": [
              "array([[128,  22,  60,  50,   4, 116],\n",
              "       [192,  36,  60, 120, 110,  48],\n",
              "       [158, 180,  80,  30, 192, 132],\n",
              "       [168, 186, 164, 186,  14, 194],\n",
              "       [ 38,   4, 114, 104, 160,  72],\n",
              "       [ 86,  92, 184, 150,  68,  50]])"
            ]
          },
          "metadata": {},
          "execution_count": 144
        }
      ]
    },
    {
      "cell_type": "code",
      "source": [
        "x*x"
      ],
      "metadata": {
        "colab": {
          "base_uri": "https://localhost:8080/"
        },
        "id": "QSgEndl8UMY3",
        "outputId": "eace498f-88d3-4976-9a91-0f11dbb74d79"
      },
      "execution_count": 145,
      "outputs": [
        {
          "output_type": "execute_result",
          "data": {
            "text/plain": [
              "array([[4096,  121,  900,  625,    4, 3364],\n",
              "       [9216,  324,  900, 3600, 3025,  576],\n",
              "       [6241, 8100, 1600,  225, 9216, 4356],\n",
              "       [7056, 8649, 6724, 8649,   49, 9409],\n",
              "       [ 361,    4, 3249, 2704, 6400, 1296],\n",
              "       [1849, 2116, 8464, 5625, 1156,  625]])"
            ]
          },
          "metadata": {},
          "execution_count": 145
        }
      ]
    },
    {
      "cell_type": "code",
      "source": [
        "x@x"
      ],
      "metadata": {
        "colab": {
          "base_uri": "https://localhost:8080/"
        },
        "id": "h9KY8JEPUToA",
        "outputId": "95c387e5-3b30-46b5-de24-efd896dad1f0"
      },
      "execution_count": 146,
      "outputs": [
        {
          "output_type": "execute_result",
          "data": {
            "text/plain": [
              "array([[12154,  8599, 10950,  9489,  5920,  9903],\n",
              "       [17359, 10874, 14883, 14170,  9698, 16380],\n",
              "       [22778, 10712, 19444, 19312, 18977, 15943],\n",
              "       [32898, 23103, 25539, 25198, 17664, 24214],\n",
              "       [13347, 12027, 15046, 13146, 13608, 13736],\n",
              "       [22457, 17774, 16738, 15833, 15543, 18794]])"
            ]
          },
          "metadata": {},
          "execution_count": 146
        }
      ]
    },
    {
      "cell_type": "code",
      "source": [
        "# Inversa\n",
        "np.linalg.inv(x)"
      ],
      "metadata": {
        "colab": {
          "base_uri": "https://localhost:8080/"
        },
        "id": "Xe8PvgYUUcX1",
        "outputId": "b0c1be37-232e-4f21-f932-08404cec3ea4"
      },
      "execution_count": 147,
      "outputs": [
        {
          "output_type": "execute_result",
          "data": {
            "text/plain": [
              "array([[ 0.01022675,  0.00764687,  0.00196331, -0.00723412, -0.00968712,\n",
              "         0.00576764],\n",
              "       [-0.01330949, -0.00059497,  0.00593281,  0.00659794, -0.00717576,\n",
              "         0.00051966],\n",
              "       [ 0.01732613, -0.01110943,  0.0027472 , -0.01363201, -0.00449786,\n",
              "         0.02258493],\n",
              "       [-0.01904273,  0.01105342, -0.00976119,  0.01527803,  0.00832095,\n",
              "        -0.01192354],\n",
              "       [-0.00562777,  0.00226915,  0.00406316, -0.00193333,  0.00804552,\n",
              "        -0.00393293],\n",
              "       [ 0.00792125, -0.00742148, -0.00064526,  0.00726349,  0.01051259,\n",
              "        -0.01286963]])"
            ]
          },
          "metadata": {},
          "execution_count": 147
        }
      ]
    },
    {
      "cell_type": "code",
      "source": [
        "# Determinante\n",
        "np.linalg.det(x)"
      ],
      "metadata": {
        "colab": {
          "base_uri": "https://localhost:8080/"
        },
        "id": "QZ0p7XdkU2Dp",
        "outputId": "f41f7637-36a4-4619-b024-01381543851c"
      },
      "execution_count": 148,
      "outputs": [
        {
          "output_type": "execute_result",
          "data": {
            "text/plain": [
              "-161561438229.99957"
            ]
          },
          "metadata": {},
          "execution_count": 148
        }
      ]
    },
    {
      "cell_type": "code",
      "source": [
        "# producto punto\n",
        "np.dot(x[1],x[:,0])"
      ],
      "metadata": {
        "colab": {
          "base_uri": "https://localhost:8080/"
        },
        "id": "AE9caiVhVTO9",
        "outputId": "8c60f048-919f-4f3d-af3f-d40a61dd8f9f"
      },
      "execution_count": 149,
      "outputs": [
        {
          "output_type": "execute_result",
          "data": {
            "text/plain": [
              "17359"
            ]
          },
          "metadata": {},
          "execution_count": 149
        }
      ]
    },
    {
      "cell_type": "code",
      "source": [
        "plt.imshow(x, cmap = 'gray')"
      ],
      "metadata": {
        "colab": {
          "base_uri": "https://localhost:8080/",
          "height": 448
        },
        "id": "3euavpwbRa4s",
        "outputId": "d6acaffd-ac25-442d-e929-c2de8edf6e0f"
      },
      "execution_count": 150,
      "outputs": [
        {
          "output_type": "execute_result",
          "data": {
            "text/plain": [
              "<matplotlib.image.AxesImage at 0x7c259fe2a6b0>"
            ]
          },
          "metadata": {},
          "execution_count": 150
        },
        {
          "output_type": "display_data",
          "data": {
            "text/plain": [
              "<Figure size 640x480 with 1 Axes>"
            ],
            "image/png": "[encoded data removed]"
          },
          "metadata": {}
        }
      ]
    },
    {
      "cell_type": "code",
      "source": [
        "M = np.array([x, x, x])\n",
        "np.shape(M)"
      ],
      "metadata": {
        "colab": {
          "base_uri": "https://localhost:8080/"
        },
        "id": "0_HkWf8zTLxZ",
        "outputId": "9762c3ee-3453-4c0a-ff71-2717d4151b5c"
      },
      "execution_count": 151,
      "outputs": [
        {
          "output_type": "execute_result",
          "data": {
            "text/plain": [
              "(3, 6, 6)"
            ]
          },
          "metadata": {},
          "execution_count": 151
        }
      ]
    },
    {
      "cell_type": "code",
      "source": [
        "plt.imshow(M.T)"
      ],
      "metadata": {
        "colab": {
          "base_uri": "https://localhost:8080/",
          "height": 448
        },
        "id": "2krF7xoVTXXP",
        "outputId": "c640b252-94be-43e4-e8de-5ff7116b413f"
      },
      "execution_count": 152,
      "outputs": [
        {
          "output_type": "execute_result",
          "data": {
            "text/plain": [
              "<matplotlib.image.AxesImage at 0x7c259fcc73a0>"
            ]
          },
          "metadata": {},
          "execution_count": 152
        },
        {
          "output_type": "display_data",
          "data": {
            "text/plain": [
              "<Figure size 640x480 with 1 Axes>"
            ],
            "image/png": "[encoded data removed]"
          },
          "metadata": {}
        }
      ]
    },
    {
      "cell_type": "markdown",
      "source": [
        "# Algunos ejemplo\n",
        "\n",
        "```python\n",
        "import numpy as np\n",
        "\n",
        "# Producto de matrices\n",
        "A = np.array([[1, 2], [3, 4]])\n",
        "B = np.array([[5, 6], [7, 8]])\n",
        "producto = np.dot(A, B)\n",
        "\n",
        "# Determinante de una matriz\n",
        "C = np.array([[9, 2], [3, 4]])\n",
        "determinante = np.linalg.det(C)\n",
        "\n",
        "# Inversa de una matriz\n",
        "D = np.array([[2, 5], [1, 3]])\n",
        "inversa = np.linalg.inv(D)\n",
        "\n",
        "# Autovalores y autovectores\n",
        "E = np.array([[2, 0], [0, 3]])\n",
        "autovalores, autovectores = np.linalg.eig(E)\n",
        "\n",
        "# Resolución de sistemas de ecuaciones lineales\n",
        "F = np.array([[1, 1], [1, -1]])\n",
        "b = np.array([5, 1])\n",
        "solucion = np.linalg.solve(F, b)\n",
        "\n",
        "\n",
        "# Norma de un vector o matriz\n",
        "H = np.array([1, 2, 3])\n",
        "norma = np.linalg.norm(H)\n",
        "\n",
        "# Rango de una matriz\n",
        "I = np.array([[1, 2], [2, 4]])\n",
        "rango = np.linalg.matrix_rank(I)\n",
        "\n",
        "# Potencia de una matriz\n",
        "J = np.array([[1, 2], [3, 4]])\n",
        "potencia = np.linalg.matrix_power(J, 3)\n",
        "\n",
        "# Descomposición SVD\n",
        "G = np.array([[1, 2], [3, 4]])\n",
        "U, S, V = np.linalg.svd(G)\n",
        "\n",
        "\n",
        "```\n"
      ],
      "metadata": {
        "id": "wOgkVu4yL-mp"
      }
    },
    {
      "cell_type": "markdown",
      "source": [
        "# Matrices de numpy"
      ],
      "metadata": {
        "id": "iV1bdIUxLOwM"
      }
    },
    {
      "cell_type": "code",
      "source": [
        "M = np.matrix(X)\n",
        "type(M)"
      ],
      "metadata": {
        "colab": {
          "base_uri": "https://localhost:8080/"
        },
        "id": "ZoTW7RE1mDjk",
        "outputId": "8564b9fd-adfc-46a3-a7d1-d66e7b276e1d"
      },
      "execution_count": 153,
      "outputs": [
        {
          "output_type": "execute_result",
          "data": {
            "text/plain": [
              "numpy.matrix"
            ]
          },
          "metadata": {},
          "execution_count": 153
        }
      ]
    },
    {
      "cell_type": "code",
      "source": [
        "M@M"
      ],
      "metadata": {
        "colab": {
          "base_uri": "https://localhost:8080/"
        },
        "id": "smYYFQDnmSHx",
        "outputId": "fcb04967-c163-4369-f1d2-7d737ba66ca1"
      },
      "execution_count": 154,
      "outputs": [
        {
          "output_type": "execute_result",
          "data": {
            "text/plain": [
              "matrix([[ 7, 10],\n",
              "        [15, 22]])"
            ]
          },
          "metadata": {},
          "execution_count": 154
        }
      ]
    },
    {
      "cell_type": "code",
      "source": [
        "M.T"
      ],
      "metadata": {
        "colab": {
          "base_uri": "https://localhost:8080/"
        },
        "id": "v0j1xF0Xnu3A",
        "outputId": "d974e4fd-9f1f-415d-8e81-852da6882960"
      },
      "execution_count": 155,
      "outputs": [
        {
          "output_type": "execute_result",
          "data": {
            "text/plain": [
              "matrix([[1, 3],\n",
              "        [2, 4]])"
            ]
          },
          "metadata": {},
          "execution_count": 155
        }
      ]
    },
    {
      "cell_type": "code",
      "source": [
        "type(X)"
      ],
      "metadata": {
        "colab": {
          "base_uri": "https://localhost:8080/"
        },
        "id": "jsRxH4R9mJFs",
        "outputId": "12211b9a-8cc9-497c-9532-ac5aa62a12bf"
      },
      "execution_count": 156,
      "outputs": [
        {
          "output_type": "execute_result",
          "data": {
            "text/plain": [
              "numpy.ndarray"
            ]
          },
          "metadata": {},
          "execution_count": 156
        }
      ]
    },
    {
      "cell_type": "code",
      "source": [
        "np.transpose(X)"
      ],
      "metadata": {
        "colab": {
          "base_uri": "https://localhost:8080/"
        },
        "id": "I6yi4tSzmXkx",
        "outputId": "04861b01-4fd4-4dcd-df71-838ac0cac1db"
      },
      "execution_count": 157,
      "outputs": [
        {
          "output_type": "execute_result",
          "data": {
            "text/plain": [
              "array([[1, 3],\n",
              "       [2, 4]])"
            ]
          },
          "metadata": {},
          "execution_count": 157
        }
      ]
    },
    {
      "cell_type": "code",
      "source": [
        "x = sy.Symbol(\"x\")"
      ],
      "metadata": {
        "id": "XQviMu9KmhP5"
      },
      "execution_count": 158,
      "outputs": []
    },
    {
      "cell_type": "code",
      "source": [
        "Y = np.array([[x**2,sy.sin(x)],[x,x]])\n",
        "q = sy.Matrix(Y)\n",
        "q"
      ],
      "metadata": {
        "colab": {
          "base_uri": "https://localhost:8080/",
          "height": 0
        },
        "id": "6NQ5_urmm8P5",
        "outputId": "eb48ad0a-e4c4-455f-d8d8-c539110cfbad"
      },
      "execution_count": 159,
      "outputs": [
        {
          "output_type": "execute_result",
          "data": {
            "text/plain": [
              "Matrix([\n",
              "[x**2, sin(x)],\n",
              "[   x,      x]])"
            ],
            "text/latex": "$\\displaystyle \\left[\\begin{matrix}x^{2} & \\sin{\\left(x \\right)}\\\\x & x\\end{matrix}\\right]$"
          },
          "metadata": {},
          "execution_count": 159
        }
      ]
    },
    {
      "cell_type": "code",
      "source": [
        "q@q"
      ],
      "metadata": {
        "colab": {
          "base_uri": "https://localhost:8080/",
          "height": 0
        },
        "id": "1H5elz7jnEKY",
        "outputId": "7a85e40e-43db-441c-b7ee-347a834218cd"
      },
      "execution_count": 160,
      "outputs": [
        {
          "output_type": "execute_result",
          "data": {
            "text/plain": [
              "Matrix([\n",
              "[x**4 + x*sin(x), x**2*sin(x) + x*sin(x)],\n",
              "[    x**3 + x**2,        x**2 + x*sin(x)]])"
            ],
            "text/latex": "$\\displaystyle \\left[\\begin{matrix}x^{4} + x \\sin{\\left(x \\right)} & x^{2} \\sin{\\left(x \\right)} + x \\sin{\\left(x \\right)}\\\\x^{3} + x^{2} & x^{2} + x \\sin{\\left(x \\right)}\\end{matrix}\\right]$"
          },
          "metadata": {},
          "execution_count": 160
        }
      ]
    },
    {
      "cell_type": "code",
      "source": [
        "q.inv()"
      ],
      "metadata": {
        "id": "owwyiJ0yN3oN",
        "colab": {
          "base_uri": "https://localhost:8080/",
          "height": 0
        },
        "outputId": "4b0a4101-b657-457d-d5d6-fb689e3d0b10"
      },
      "execution_count": 161,
      "outputs": [
        {
          "output_type": "execute_result",
          "data": {
            "text/plain": [
              "Matrix([\n",
              "[   1/(x**2 - sin(x)), -sin(x)/(x**3 - x*sin(x))],\n",
              "[-x/(x**3 - x*sin(x)),    x**2/(x**3 - x*sin(x))]])"
            ],
            "text/latex": "$\\displaystyle \\left[\\begin{matrix}\\frac{1}{x^{2} - \\sin{\\left(x \\right)}} & - \\frac{\\sin{\\left(x \\right)}}{x^{3} - x \\sin{\\left(x \\right)}}\\\\- \\frac{x}{x^{3} - x \\sin{\\left(x \\right)}} & \\frac{x^{2}}{x^{3} - x \\sin{\\left(x \\right)}}\\end{matrix}\\right]$"
          },
          "metadata": {},
          "execution_count": 161
        }
      ]
    },
    {
      "cell_type": "markdown",
      "source": [
        "# Actividad:\n",
        "\n",
        "1. Construir un programa que permita multiplicar dos matrices\n",
        "\n",
        "2. Cosntruir un programa que permita construir una regresion lineal simple empleando lo que sigue:\n",
        "\n",
        "3. Construir un programa que permita calcular una regresion bidimensional y hacer su representación .\n",
        "\n",
        "\n",
        "Operaciones matricial con regresión lineal.\n",
        "\n",
        "Cuando se desea hacer una regresion lineal multivariada, existen diferentes formas de realizar la regresión, una de ellas es encontrar el error cuadrático medio y miniminzar el conjunto de parámetros de la regresión emplando algún metodo de minimización, otra forma es encontrar la expresión analítica en forma matricial para enoncontrar el conjunto de parametros de la regresión. En este último caso, la regresion lineal viene dada por la siguiente expresion generalizada:\n",
        "\n",
        "\n",
        "- $\\Theta = (X^T X)^{-1} X^T y$\n",
        "\n",
        "donte $\\Theta$ es la matriz de parametros asociados a la regresión lineal, X la matriz de características y y los valos esperados, así, si tenemos una conjunto de datos en N dimensiones la recta, plano o hyperplano puede ser calculado como:\n",
        "\n",
        "$Y=\\Theta^T X$\n",
        "\n",
        "\n",
        "En el caso de dos dimensiones, tenemos lo siguiente, Supongamos que X, y Y presentan un comportamiento lineal, y vienen dados por:\n",
        "\n",
        "\n",
        "- Sea $\\vec{X}=x^1, x^2, x^3, x^4, ..., x^m$\n",
        "- Sea $\\vec{Y}=y^1, y^2, y^3, y^4, ..., y^m$\n",
        "\n",
        "Para determinar la ecuacion de la recta, hay que conocer los párametros $\\theta_0 $, $\\theta_1$, que cumplen que :   $y^{i} = \\theta_1 x^{i} + \\theta_0$ la anterior expresion puede ser escrita como:\n",
        "\n",
        "\\begin{equation}\n",
        "\\begin{bmatrix}\n",
        "y^{1}\\\\\n",
        "y^{2}\\\\\n",
        "\\vdots\\\\\n",
        "y^{m}\\\\\n",
        "\\end{bmatrix}=\n",
        "\\begin{bmatrix}\n",
        "\\theta_0 & \\theta_1 \\\\\n",
        "\\end{bmatrix}\n",
        "\\begin{bmatrix}\n",
        "1 & 1 & \\cdots & 1 \\\\\n",
        "x_1^{1} & x_1^{2} & \\cdots & x_1^{m} \\\\\n",
        "\\end{bmatrix}\n",
        "\\end{equation}\n",
        "\n",
        "\n",
        "Para determinar la matriz de theta entonces se puede aplicar la ecuación:\n",
        "\n",
        "- $\\Theta = (X^T X)^{-1} X^T y$\n",
        "\n",
        "donde:\n",
        "\\begin{equation}\n",
        "X=\n",
        "\\begin{bmatrix}\n",
        "1 & x_1^{1} \\\\\n",
        "1 & x_1^{2} \\\\\n",
        "\\vdots & \\vdots \\\\\n",
        "1 & x_1^{m}\n",
        "\\end{bmatrix}\n",
        "\\end{equation}\n",
        "\n",
        "y\n",
        "\n",
        "\n",
        "\\begin{equation}\n",
        "y=\n",
        "\\begin{bmatrix}\n",
        "y^1 \\\\\n",
        "y^2 \\\\\n",
        "\\vdots\\\\\n",
        "y^m\n",
        "\\end{bmatrix}\n",
        "\\end{equation}\n",
        "\n",
        "Su tarea será construir un programa que realice la regresión lineal para los siguientes puntos:\n",
        "```python\n",
        "N = 10\n",
        "x1 = np.linspace(0, 10, N)\n",
        "noise=2*np.random.random(N)-1\n",
        "y = 0.9*x1 + noise\n",
        "```\n",
        "\n",
        "\n",
        "\n",
        "Generalice para el siguiente problema bidimensional:\n",
        "\n",
        "\n",
        "```python\n",
        "N = 10\n",
        "x1 = np.linspace(-1, 1, N)\n",
        "x2 = np.linspace(-2, 2, N)\n",
        "noise1=2*np.random.random(N)-1\n",
        "noise2=2*np.random.random(N)-1\n",
        "y = 2*(x1+noise1) - 3*(x2+noise2) + 0.0 #+ 4*np.random.random(100)\n",
        "\n",
        "N = 10\n",
        "X1, X2 = np.meshgrid(x1,x2)\n",
        "Y = 2*X1 - 3*X2 + 0.0\n",
        "fig, ax = plt.subplots(subplot_kw={\"projection\": \"3d\"})\n",
        "surf = ax.plot_surface(X1, X2, Y)\n",
        "#scatter = ax.scatter(x1, x2, y,\"-\")\n",
        "```\n",
        "\n",
        "\n",
        "\n",
        "4. Construir un programa que permita realizar eliminacion de Gauss- Jordan de una matriz\n",
        "\n"
      ],
      "metadata": {
        "id": "k9jPDzNSjgnZ"
      }
    },
    {
      "cell_type": "code",
      "source": [
        "# Punto 1\n",
        "def mult_mat(x, y):\n",
        "  # Calculamos las dimensiones de las matrices ingresadas\n",
        "  n = np.shape(x)[0]\n",
        "  m = np.shape(y)[1]\n",
        "\n",
        "  # Comprobamos si se pueden multiplicar\n",
        "  if  n != m:\n",
        "    return 'Las dimensiones de las matrices no permiten la multiplicacion'\n",
        "\n",
        "  else:\n",
        "    r = np.zeros((n,m))\n",
        "\n",
        "    # Realizamos el calculo de la multiplicacion de las matrices\n",
        "    for i in range(0, n):\n",
        "      for j in range(0, m):\n",
        "        r[i,j] = np.sum(x[i]*y[:,j])\n",
        "\n",
        "  return r\n",
        "\n",
        "# Probamos la funcion\n",
        "b = np.random.randint(0, 55, (6,6))\n",
        "B = np.matrix(b)\n",
        "\n",
        "c = np.random.randint(0, 55, (6,6))\n",
        "C = np.matrix(c)\n",
        "\n",
        "print('La multiplicacion entre B*C con la funcion es')\n",
        "print(mult_mat(B, C))\n",
        "print('La multiplicacion entre B*C con librerias es')\n",
        "print(B*C)"
      ],
      "metadata": {
        "id": "TSvDlZTuW_vQ",
        "colab": {
          "base_uri": "https://localhost:8080/"
        },
        "outputId": "77a8d799-de1b-4be5-860e-30502ce8102d"
      },
      "execution_count": 162,
      "outputs": [
        {
          "output_type": "stream",
          "name": "stdout",
          "text": [
            "La multiplicacion entre B*C con la funcion es\n",
            "[[5558. 4620. 4231. 1722. 4886. 3795.]\n",
            " [5165. 5854. 4034. 1941. 5564. 5621.]\n",
            " [2809. 2928. 1320. 1011. 2422. 3382.]\n",
            " [3943. 4325. 2904. 1415. 4272. 4333.]\n",
            " [3407. 3896. 2382. 1242. 3952. 3774.]\n",
            " [3052. 2802. 1720. 1237. 3429. 3413.]]\n",
            "La multiplicacion entre B*C con librerias es\n",
            "[[5558 4620 4231 1722 4886 3795]\n",
            " [5165 5854 4034 1941 5564 5621]\n",
            " [2809 2928 1320 1011 2422 3382]\n",
            " [3943 4325 2904 1415 4272 4333]\n",
            " [3407 3896 2382 1242 3952 3774]\n",
            " [3052 2802 1720 1237 3429 3413]]\n"
          ]
        }
      ]
    },
    {
      "cell_type": "code",
      "source": [
        "# Punto 2\n",
        "# Definimos nuestros datos\n",
        "N = 10\n",
        "x1 = np.linspace(0, 10, N)\n",
        "noise=2*np.random.random(N)-1\n",
        "y = 0.9*x1 + noise\n",
        "\n",
        "# Añadimos una columna de unos\n",
        "x = np.vstack([np.ones(N), x1]).T\n",
        "\n",
        "# Definimos la funcion para hacer la regresion\n",
        "def regresion_lineal(x, y):\n",
        "  X = np.matrix(x) # Comvertimos el array en una matriz\n",
        "  y1 = np.matrix(y).reshape(-1, 1) # Volvemos el array de y en un vector columna\n",
        "  theta = np.linalg.inv(X.T * X) * X.T*y1 # Calculamos θ\n",
        "\n",
        "  Y = X*theta\n",
        "\n",
        "  return Y\n",
        "\n",
        "# Calculamos la regresion lineal para los puntos dados\n",
        "Y = regresion_lineal(x, y)\n",
        "\n",
        "# Graficamos\n",
        "plt.title('Regresion lineal simple para un conjunto de puntos')\n",
        "plt.plot(x1, y, 'o', label = 'Datos')\n",
        "plt.plot(x1, Y, label = 'Regresion lineal')\n",
        "plt.xlabel('x')\n",
        "plt.ylabel('y')\n",
        "plt.legend()\n",
        "plt.grid()"
      ],
      "metadata": {
        "id": "4WJeRcLSgowy",
        "colab": {
          "base_uri": "https://localhost:8080/",
          "height": 472
        },
        "outputId": "61758ece-e47d-4a5f-dfda-7f3aa1d619f3"
      },
      "execution_count": 163,
      "outputs": [
        {
          "output_type": "display_data",
          "data": {
            "text/plain": [
              "<Figure size 640x480 with 1 Axes>"
            ],
            "image/png": "[encoded data removed]"
          },
          "metadata": {}
        }
      ]
    },
    {
      "cell_type": "code",
      "source": [
        "# Punto 3\n",
        "# Definimos nuestros datos\n",
        "N = 10\n",
        "x1 = np.linspace(-1, 1, N)\n",
        "x2 = np.linspace(-2, 2, N)\n",
        "noise1=2*np.random.random(N)-1\n",
        "noise2=2*np.random.random(N)-1\n",
        "y = 2*(x1+noise1) - 3*(x2+noise2)\n",
        "\n",
        "X1, X2 = np.meshgrid(x1,x2)\n",
        "Yn = 2*X1 - 3*X2\n",
        "\n",
        "# Agregamos una columna de unos a la matriz de vectores\n",
        "xn = np.vstack([np.ones(N), x1, x2]).T\n",
        "\n",
        "# Definimos la funcion para la regresion\n",
        "def regresion_lineal2d(x, y):\n",
        "  X = np.matrix(x) # Comvertimos el array en una matriz\n",
        "  y1 = np.matrix(y).reshape(-1, 1) # Volvemos el array de y en un vector columna\n",
        "  theta = np.linalg.pinv(X.T * X) * X.T*y1 # Calculamos θ, toco hacer pinv devido a que con la funcion normal estaba dando un error de matriz singular,\n",
        "                                            # Para solucionar esto se le consulto a chatgpt que estaba pasando y sugirio usar np.linalg.pinv\n",
        "                                            # el cual calcula una pseudo-inversa de Moore-Penrose\n",
        "\n",
        "  Y = X*theta\n",
        "\n",
        "  return Y\n",
        "\n",
        "# Calculamos la regresion lineal para los puntos dados\n",
        "Y1 = regresion_lineal2d(xn, y)\n",
        "\n",
        "# Graficamos\n",
        "fig, ax = plt.subplots(subplot_kw={\"projection\": \"3d\"})\n",
        "surf = ax.plot_surface(X1, X2, Yn)\n",
        "ax.plot(x1, x2, np.array(Y1).flatten(), label = 'Regresion lineal bidimensional')\n",
        "scatter = ax.scatter(x1, x2, y, label = 'Puntos')\n",
        "ax.set_title('Regresion lineal bidimensional para un conjunto de puntos')\n",
        "ax.set_xlabel('x1')\n",
        "ax.set_ylabel('x2')\n",
        "ax.set_zlabel('y')\n",
        "ax.legend()\n",
        "ax.grid()"
      ],
      "metadata": {
        "colab": {
          "base_uri": "https://localhost:8080/",
          "height": 438
        },
        "id": "TUY6PoNLnhNU",
        "outputId": "55e6005b-ad1e-4dda-be93-ef2b22f04b36"
      },
      "execution_count": 164,
      "outputs": [
        {
          "output_type": "display_data",
          "data": {
            "text/plain": [
              "<Figure size 640x480 with 1 Axes>"
            ],
            "image/png": "[encoded data removed]"
          },
          "metadata": {}
        }
      ]
    },
    {
      "cell_type": "code",
      "source": [
        "# Punto 4\n",
        "def Gauss_Jordan(A):\n",
        "  # Calculamos las dimensiones de la matriz ingresada\n",
        "  n, m = np.shape(A)\n",
        "\n",
        "  for i in range(n):\n",
        "    # Miramos si la matriz tiene un cero en la entrada (i,i), la entrada i de la diagonal\n",
        "    # Si es diferente de cero, lo normalizamos para que sea uno\n",
        "    if A[i,i] != 0:\n",
        "      p = A[i,i]\n",
        "      A[i] = A[i]/p\n",
        "\n",
        "    # Si es igual a cero, vamos intercambiando filas hasta que sea diferente de cero\n",
        "    else:\n",
        "      c = 0\n",
        "      while A[i,i] == 0:\n",
        "        A[[i,c]] = A[[c,i]]\n",
        "        c += 1\n",
        "\n",
        "      # Cuando encontremos un valor diferente de cero lo normalizamos\n",
        "      p = A[i,i]\n",
        "      A[i] = A[i]/p\n",
        "\n",
        "\n",
        "    # Hacemos cero todas las entradas debajo del pivote (i,i) en la fila i\n",
        "    for j in range(n):\n",
        "      if j != i: # Diferenciamos del pivote\n",
        "        d = A[j,i] # Miramos cada valor debajo del pivote\n",
        "        A[j] = A[j] - d*A[i] # Lo volvemos cero\n",
        "\n",
        "  return A\n",
        "\n",
        "# Probamos nuestra funcion\n",
        "a = np.random.randint(0, 55, (6,6))\n",
        "A = np.matrix(a)\n",
        "\n",
        "print('La matriz A')\n",
        "print(A)\n",
        "print('La reduccion Gauus_Jordan de la matriz A da como resultado')\n",
        "print(Gauss_Jordan(A))"
      ],
      "metadata": {
        "colab": {
          "base_uri": "https://localhost:8080/"
        },
        "id": "yPmh2SKCg0Dy",
        "outputId": "f6fcb268-75e9-4487-e24c-4feaf0335390"
      },
      "execution_count": 165,
      "outputs": [
        {
          "output_type": "stream",
          "name": "stdout",
          "text": [
            "La matriz A\n",
            "[[33 36 52 17 37  7]\n",
            " [45 26  1  2 48 12]\n",
            " [ 2 15 17 21  2 14]\n",
            " [43 54 27 44  6  6]\n",
            " [19 10 49  2 11 16]\n",
            " [34 48  5  4 44 45]]\n",
            "La reduccion Gauus_Jordan de la matriz A da como resultado\n",
            "[[1 0 0 0 0 0]\n",
            " [0 1 0 0 0 0]\n",
            " [0 0 1 0 0 0]\n",
            " [0 0 0 1 0 0]\n",
            " [0 0 0 0 1 0]\n",
            " [0 0 0 0 0 1]]\n"
          ]
        }
      ]
    },
    {
      "cell_type": "code",
      "source": [],
      "metadata": {
        "id": "z1Gvf6RglDPX"
      },
      "execution_count": 165,
      "outputs": []
    }
  ]
}