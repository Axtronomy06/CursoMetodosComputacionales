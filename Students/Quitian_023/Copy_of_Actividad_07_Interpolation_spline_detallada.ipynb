{
  "nbformat": 4,
  "nbformat_minor": 0,
  "metadata": {
    "kernelspec": {
      "display_name": "Python 3",
      "language": "python",
      "name": "python3"
    },
    "language_info": {
      "codemirror_mode": {
        "name": "ipython",
        "version": 3
      },
      "file_extension": ".py",
      "mimetype": "text/x-python",
      "name": "python",
      "nbconvert_exporter": "python",
      "pygments_lexer": "ipython3",
      "version": "3.7.2"
    },
    "colab": {
      "provenance": []
    }
  },
  "cells": [
    {
      "cell_type": "markdown",
      "metadata": {
        "id": "LAi7gwybR1zQ"
      },
      "source": [
        "# Spline interpolacion\n",
        "  "
      ]
    },
    {
      "cell_type": "code",
      "metadata": {
        "id": "KCviXwLQR1zV"
      },
      "source": [
        "# Librerias\n",
        "import numpy as np\n",
        "import matplotlib.pylab as plt\n",
        "from numpy.linalg import solve\n",
        "%matplotlib inline\n",
        "#REF: Adaptado de  https://github.com/rrgalvan"
      ],
      "execution_count": 27,
      "outputs": []
    },
    {
      "cell_type": "markdown",
      "metadata": {
        "id": "rfMQrtUZR1zf"
      },
      "source": [
        "Calcular el spline cúbico que interpola los puntos $(-1,5)$, $(0,3)$, $(1,3)$."
      ]
    },
    {
      "cell_type": "code",
      "metadata": {
        "id": "dWntiVEoR1zh"
      },
      "source": [
        "# Definimos nuestros datos\n",
        "x0, x1, x2 = -1, 0, 1\n",
        "_x = np.array([x0, x1, x2])\n",
        "y0, y1, y2 =  5, 3, 3\n",
        "_y = np.array([y0, y1, y2])"
      ],
      "execution_count": 41,
      "outputs": []
    },
    {
      "cell_type": "markdown",
      "metadata": {
        "id": "l-GSuaVdR1zo"
      },
      "source": [
        "Para calcular los splines cúbicos debemos resolver el sistema de ecuaciones que define los coeficientes de los polinomios cúbicos en los subintervalos $[-1,0]$ y $[0,1]$. Empleando las condiciones del metodo de spline, y defiendo los polinomios para garantizar la continuidad en cada unos de los puntos, tenemos que:\n",
        "\n",
        "Sean:\n",
        "  * $s_0(x) = a_0 + b_0 (x-x_0) + c_0 (x-x_0)^2 + d_0 (x-x_0)^3$,\n",
        "  * $s_1(x) = a_1 + b_1 (x-x_1) + c_1 (x-x_1)^2 + d_1 (x-x_1)^3$,\n",
        "\n",
        "es decir:\n",
        "  * $s_0(x) = a_0 + b_0 (x+1) + c_0 (x+1)^2 + d_0 (x+1)^3$,\n",
        "  * $s_1(x) = a_1 + b_1 x + c_1 x^2 + d_1 x^3$.\n",
        "\n",
        "Entonces\n",
        "  * $s_0'(x) =  b_0 + 2 c_0 (x+1) + 3 d_0 (x+1)^2$,\n",
        "  * $s_0''(x) = 2 c_0 + 6 d_0 (x+1)$,\n",
        "  * $s_1'(x) =  b_1 + 2 c_1 x + 3 d_1 x^2$,\n",
        "  * $s_1''(x) = 2 c_1 + 6 d_1 x$.\n",
        "\n",
        "Tenemos 8 incógnitas, $a_i$, $b_i$, $c_i$, $d_i$ con $i=0,1$. Las ecuaciones son:\n",
        "\n",
        "  * Interpolación (y continuidad en 0):\n",
        "\n",
        "    * $s_0(-1) = 5$, es decir, $a_0=5$.\n",
        "    * $s_0(0)  = 3$, es decir, $a_0+b_0+c_0+d_0=3$.\n",
        "    * $s_1(0) = 3$, es decir, $a_1=3$.\n",
        "    * $s_1(1)  = 3$, es decir, $a_1+b_1+c_1+d_1=3$.\n",
        "    \n",
        "  * Derivabilidad:\n",
        "\n",
        "    * $s_0'(0) = s_1'(0)$, es decir, $b_0+2c_0+3d_0 = b_1$.\n",
        "    * $s_0''(0) = s_1''(0)$, es decir, $2c_0+6d_0 = 2c_1$.\n",
        "\n",
        "  * Condiciones naturales en los extremos, $-1$ y $1$:\n",
        "\n",
        "    * $s_0''(-1) = 0$, es decir, $2c_0=0$.\n",
        "    * $s_1''(1) = 0$, o sea $2c_1+6d_1=0$.\n",
        "\n",
        "\n",
        "De estas ecuaciones tenemos directamente $a_0$, $a_1$, y $c_0$. Le damos valores a las variables en python:"
      ]
    },
    {
      "cell_type": "code",
      "metadata": {
        "id": "5sxEuNwNR1zp"
      },
      "source": [
        "# Valores obtenidos\n",
        "a0 = 5\n",
        "a1 = 3\n",
        "c0 = 0"
      ],
      "execution_count": 42,
      "outputs": []
    },
    {
      "cell_type": "markdown",
      "metadata": {
        "id": "eZScj4sDR1zu"
      },
      "source": [
        "Así, podemos eliminar la primera, tercera y séptima ecuación, llegando a un sistema de cinco ecuaciones con cinco incógnitas ($b_0$, $d_0$, $b_1$, $c_1$, $d_1$):\n",
        "\n",
        " * $b_0+d_0=3-a_0-c_0=-2$,\n",
        " * $b_1+c_1+d_1=3-a_1=0$,\n",
        " * $b_0+3d_0 - b_1 = -2c_0 = 0$,\n",
        " * $6d_0 - 2c_1 = -2c_0=0$\n",
        " * $2c_1+6d_1=0$\n",
        "\n",
        "\n",
        "La matriz y el segundo miembro asociados son:"
      ]
    },
    {
      "cell_type": "code",
      "metadata": {
        "id": "psxIbmXlR1zw"
      },
      "source": [
        "# Matriz asociada al sistema de ecuaciones\n",
        "A = np.array([             # El orden de las filas es b0 d0 b1 c1 d1\n",
        "\t[1, 1, 0, 0, 0],\n",
        "\t[0, 0, 1, 1, 1],\n",
        "\t[1, 3, -1, 0, 0],\n",
        "\t[0, 6, 0, -2, 0],\n",
        "\t[0, 0, 0, 2, 6]])\n",
        "b = np.array([-2, 0, 0, 0, 0])"
      ],
      "execution_count": 43,
      "outputs": []
    },
    {
      "cell_type": "markdown",
      "metadata": {
        "id": "1bjXd0wHR1z1"
      },
      "source": [
        "Ahora podemos resolver este sistema usando la función `solve()` (incluida en el modulo \"linalg\" del paquete *numpy*):"
      ]
    },
    {
      "cell_type": "code",
      "metadata": {
        "id": "NWQhfHd_R1z3",
        "outputId": "a18cc9c4-5aec-4e00-fc52-9e82d82105cb",
        "colab": {
          "base_uri": "https://localhost:8080/"
        }
      },
      "source": [
        "# Resolvemos el sistema de ecuaciones asociado\n",
        "sol = solve(A,b)\n",
        "\n",
        "# Definimos la solución como variables b0, d0, b1, c1 y d1\n",
        "b0, d0, b1, c1, d1 = sol\n",
        "\n",
        "# Mostramos los resultados\n",
        "print (\"a0, b0, c0, d0 = %f, %f, %f, %f\" % (a0, b0, c0, d0))\n",
        "print (\"a1, b1, c1, d1 = %f, %f, %f, %f\" % (a1, b1, c1, d1))"
      ],
      "execution_count": 44,
      "outputs": [
        {
          "output_type": "stream",
          "name": "stdout",
          "text": [
            "a0, b0, c0, d0 = 5.000000, -2.500000, 0.000000, 0.500000\n",
            "a1, b1, c1, d1 = 3.000000, -1.000000, 1.500000, -0.500000\n"
          ]
        }
      ]
    },
    {
      "cell_type": "markdown",
      "metadata": {
        "id": "SP51eFLgR1z_"
      },
      "source": [
        "Para dibujar la gráfica, lo más fácil es definir los polinomios $s_0$ y $s_1$ y representarlos gráficamente."
      ]
    },
    {
      "cell_type": "code",
      "metadata": {
        "id": "iZCSh6rkR10A",
        "outputId": "10391a2e-d46b-4430-f94b-86f0f19a9121",
        "colab": {
          "base_uri": "https://localhost:8080/",
          "height": 472
        }
      },
      "source": [
        "# Definimos los polinomios\n",
        "def s0(x):\n",
        "    return a0 + b0*(x+1) + c0*(x+1)**2 + d0*(x+1)**3\n",
        "\n",
        "def s1(x):\n",
        "    return a1 + b1*x + c1*x**2 + d1*x**3\n",
        "\n",
        "xx0 = np.linspace(-1,0)\n",
        "xx1 = np.linspace(0,1)\n",
        "\n",
        "# Graficamos el comportamiento de los polinomios en el intervalo dado\n",
        "plt.title('Comportamiento de los polinomios ')\n",
        "plt.plot(xx0, s0(xx0), lw=3, label = \"S0\")\n",
        "plt.plot(xx1, s1(xx1), lw=3, label = \"S1\")\n",
        "plt.plot(_x, _y, 'ro')\n",
        "plt.axvline(color = \"k\", ls=\"-.\")\n",
        "plt.ylabel(\"f(x)\")\n",
        "plt.xlabel(\"x\")\n",
        "plt.legend()\n",
        "plt.grid()\n",
        "plt.show()"
      ],
      "execution_count": 45,
      "outputs": [
        {
          "output_type": "display_data",
          "data": {
            "text/plain": [
              "<Figure size 640x480 with 1 Axes>"
            ],
            "image/png": "[encoded data removed]"
          },
          "metadata": {}
        }
      ]
    },
    {
      "cell_type": "markdown",
      "source": [
        "# Agreguemos un tercer punto\n",
        "\n",
        "Calcular el spline cúbico que interpola los puntos $(-1,5)$, $(0,3)$, $(1,3)$, $(2,4)$."
      ],
      "metadata": {
        "id": "ODW9tmst0cLU"
      }
    },
    {
      "cell_type": "code",
      "source": [
        "# Definimos nuestros datos\n",
        "x0, x1, x2, x3 = -1, 0, 1, 2\n",
        "x_ = np.array([x0, x1, x2, x3])\n",
        "y0, y1, y2, y3 =  5, 3, 3, 4\n",
        "y_ = np.array([y0, y1, y2, y3])"
      ],
      "metadata": {
        "id": "qHVn3A4F0xow"
      },
      "execution_count": 39,
      "outputs": []
    },
    {
      "cell_type": "markdown",
      "source": [
        "Por lo tanto para calcular los splines cúbicos debemos resolver el sistema de ecuaciones que define los coeficientes de los polinomios cúbicos en los subintervalos $[-1,0]$, $[0,1]$ y $[1,2]$. Empleando las condiciones del metodo de spline, y defiendo los polinomios para garantizar la continuidad en cada unos de los puntos, tenemos que:\n",
        "\n",
        "Sean:\n",
        "  * $s_0(x) = a_0 + b_0 (x-x_0) + c_0 (x-x_0)^2 + d_0 (x-x_0)^3$,\n",
        "  * $s_1(x) = a_1 + b_1 (x-x_1) + c_1 (x-x_1)^2 + d_1 (x-x_1)^3$,\n",
        "  * $s_2(x) = a_2 + b_2 (x-x_2) + c_2 (x-x_2)^2 + d_2 (x-x_2)^3$\n",
        "\n",
        "es decir:\n",
        "  * $s_0(x) = a_0 + b_0 (x+1) + c_0 (x+1)^2 + d_0 (x+1)^3$,\n",
        "  * $s_1(x) = a_1 + b_1 x + c_1 x^2 + d_1 x^3$,\n",
        "  * $s_2(x) = a_2 + b_2 (x-1) + c_2 (x-1)^2 + d_2 (x-1)^3$.\n",
        "\n",
        "Entonces\n",
        "\n",
        "  * $s_0'(x) =  b_0 + 2 c_0 (x+1) + 3 d_0 (x+1)^2$,\n",
        "  * $s_0''(x) = 2 c_0 + 6 d_0 (x+1)$,\n",
        "  * $s_1'(x) =  b_1 + 2 c_1 x + 3 d_1 x^2$,\n",
        "  * $s_1''(x) = 2 c_1 + 6 d_1 x$.\n",
        "  * $s_2'(x) =  b_2 + 2 c_2 (x-1) + 3 d_2 (x-1)^2$,\n",
        "  * $s_2''(x) = 2 c_2 + 6 d_2 (x-1)$,\n",
        "\n",
        "\n",
        "Tenemos 12 incógnitas, $a_i$, $b_i$, $c_i$, $d_i$ con $i=0, 1, 2$. Las ecuaciones son:\n",
        "\n",
        "  * Interpolación (y continuidad en 0 y 1):\n",
        "\n",
        "    * $s_0(-1) = 5$, es decir, $a_0=5$.\n",
        "    * $s_0(0)  = 3$, es decir, $a_0+b_0+c_0+d_0=3$.\n",
        "    * $s_1(0) = 3$, es decir, $a_1=3$.\n",
        "    * $s_1(1)  = 3$, es decir, $a_1+b_1+c_1+d_1=3$.\n",
        "    * $s_2(1) = 3$, es decir, $a_2 = 3$.\n",
        "    * $s_2(2)  = 4$, es decir, $a_2+b_2+c_2+d_2=4$.\n",
        "    \n",
        "  * Derivabilidad:\n",
        "\n",
        "    * $s_0'(0) = s_1'(0)$, es decir, $b_0+2c_0+3d_0 = b_1$.\n",
        "    * $s_0''(0) = s_1''(0)$, es decir, $2c_0+6d_0 = 2c_1$.\n",
        "    * $s_1'(1) = s_2'(1)$, es decir, $b_1+2c_1+3d_1 = b_2$.\n",
        "    * $s_1''(1) = s_2''(1)$, es decir, $2c_1+6d_1 = 2c_2$.\n",
        "\n",
        "  * Condiciones naturales en los extremos, $-1$ y $2$:\n",
        "\n",
        "    * $s_0''(-1) = 0$, es decir, $2c_0=0$.\n",
        "    * $s_2''(2) = 0$, o sea $2c_2+6d_2=0$.\n",
        "\n",
        "\n",
        "De estas ecuaciones tenemos directamente $a_0$, $a_1$, $a_2$ y $c_0$. Le damos valores a las variables en python:"
      ],
      "metadata": {
        "id": "RCvFSmrN9ng7"
      }
    },
    {
      "cell_type": "code",
      "source": [
        "# Valores obtenidos\n",
        "a0 = 5\n",
        "a1 = 3\n",
        "a2 = 3\n",
        "c0 = 0"
      ],
      "metadata": {
        "id": "wXaQ4LpC9CxO"
      },
      "execution_count": 34,
      "outputs": []
    },
    {
      "cell_type": "markdown",
      "source": [
        "Así, podemos eliminar la primera, tercera, quinta y onceava ecuación, llegando a un sistema de 8 ecuaciones con ocho incógnitas ($b_0$, $d_0$, $b_1$, $c_1$, $d_1$, $b_2$, $c_2$, $d_2$):\n",
        "\n",
        " * $b_0+d_0=3-a_0-c_0=-2$,\n",
        " * $b_1+c_1+d_1=3-a_1=0$,\n",
        " * $b_2+c_2+d_2=4-a_2=1$,\n",
        " * $b_0+3d_0 - b_1 = -2c_0 = 0$,\n",
        " * $6d_0 - 2c_1 = -2c_0=0$,\n",
        " * $b_1+2c_1+3d_1-b_2 = 0$,\n",
        " * $2c_1+6d_1-2c_2 = 0$,\n",
        " * $2c_2+6d_2=0$\n",
        "\n",
        "\n",
        "La matriz y el segundo miembro asociados son:"
      ],
      "metadata": {
        "id": "QqMD7qaXD8PD"
      }
    },
    {
      "cell_type": "code",
      "source": [
        "# Matriz asociada al sistema de ecuaciones\n",
        "A = np.array([                # El orden de las filas es b0 d0 b1 c1 d1\n",
        "\t[1, 1, 0, 0, 0, 0, 0, 0],\n",
        "\t[0, 0, 1, 1, 1, 0, 0, 0],\n",
        "  [0, 0, 0, 0, 0, 1, 1, 1],\n",
        "\t[1, 3, -1, 0, 0, 0, 0, 0],\n",
        "\t[0, 6, 0, -2, 0, 0, 0, 0],\n",
        "  [0, 0, 1, 2, 3, -1, 0, 0],\n",
        "  [0, 0, 0, 1, 6, 0, -2, 0],\n",
        "\t[0, 0, 0, 0, 0, 0, 2, 6]])\n",
        "\n",
        "b = np.array([-2, 0, 1, 0, 0, 0, 0, 0])"
      ],
      "metadata": {
        "id": "2J9hBf5xDuyN"
      },
      "execution_count": 35,
      "outputs": []
    },
    {
      "cell_type": "code",
      "source": [
        "# Resolvemos el sistema de ecuaciones asociado\n",
        "sol = solve(A,b)\n",
        "\n",
        "# Definimos la solución como variables b0, d0, b1, c1, d1, b2, c2 y d2\n",
        "b0, d0, b1, c1, d1, b2, c2, d2 = sol\n",
        "\n",
        "# Mostramos los resultados\n",
        "print (\"a0, b0, c0, d0 = %f, %f, %f, %f\" % (a0, b0, c0, d0))\n",
        "print (\"a1, b1, c1, d1 = %f, %f, %f, %f\" % (a1, b1, c1, d1))\n",
        "print (\"a2, b2, c2, d2 = %f, %f, %f, %f\" % (a2, b2, c2, d2))"
      ],
      "metadata": {
        "id": "Dt-bXBW9IwZm",
        "outputId": "43602821-fb21-4642-edbd-552e063170f5",
        "colab": {
          "base_uri": "https://localhost:8080/"
        }
      },
      "execution_count": 36,
      "outputs": [
        {
          "output_type": "stream",
          "name": "stdout",
          "text": [
            "a0, b0, c0, d0 = 5.000000, -2.437500, 0.000000, 0.437500\n",
            "a1, b1, c1, d1 = 3.000000, -1.125000, 1.312500, -0.187500\n",
            "a2, b2, c2, d2 = 3.000000, 0.937500, 0.093750, -0.031250\n"
          ]
        }
      ]
    },
    {
      "cell_type": "code",
      "source": [
        "# Definimos los polinomios\n",
        "def s0(x):\n",
        "    return a0 + b0*(x+1) + c0*(x+1)**2 + d0*(x+1)**3\n",
        "\n",
        "def s1(x):\n",
        "    return a1 + b1*x + c1*x**2 + d1*x**3\n",
        "\n",
        "def s2(x):\n",
        "    return a2 + b2*(x-1) + c2*(x-1)**2 + d2*(x-1)**3\n",
        "\n",
        "xx0 = np.linspace(-1, 0)\n",
        "xx1 = np.linspace(0, 1)\n",
        "xx2 = np.linspace(1, 2)\n",
        "\n",
        "# Graficamos el comportamiento de los polinomios en el intervalo dado\n",
        "plt.title('Comportamiento de los polinomios')\n",
        "plt.plot(xx0, s0(xx0), lw=3, label = \"S0\")\n",
        "plt.plot(xx1, s1(xx1), lw=3, label = \"S1\")\n",
        "plt.plot(xx2, s2(xx2), lw=3, label = \"S2\")\n",
        "plt.plot(x_, y_, 'o')\n",
        "plt.axvline(color = \"k\", ls=\"-.\")\n",
        "plt.ylabel(\"f(x)\")\n",
        "plt.xlabel(\"x\")\n",
        "plt.legend()\n",
        "plt.grid()\n",
        "plt.show()"
      ],
      "metadata": {
        "id": "CUIF0l6kIzoB",
        "colab": {
          "base_uri": "https://localhost:8080/",
          "height": 472
        },
        "outputId": "a17fd658-1a1f-4dc0-f57b-f4b9706b0578"
      },
      "execution_count": 40,
      "outputs": [
        {
          "output_type": "display_data",
          "data": {
            "text/plain": [
              "<Figure size 640x480 with 1 Axes>"
            ],
            "image/png": "[encoded data removed]"
          },
          "metadata": {}
        }
      ]
    },
    {
      "cell_type": "code",
      "source": [],
      "metadata": {
        "id": "X0o942vn0Gv1"
      },
      "execution_count": 37,
      "outputs": []
    }
  ]
}