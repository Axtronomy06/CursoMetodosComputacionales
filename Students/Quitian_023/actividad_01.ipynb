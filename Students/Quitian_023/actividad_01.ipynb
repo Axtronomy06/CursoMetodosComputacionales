{
  "nbformat": 4,
  "nbformat_minor": 0,
  "metadata": {
    "colab": {
      "provenance": []
    },
    "kernelspec": {
      "name": "python3",
      "display_name": "Python 3"
    },
    "language_info": {
      "name": "python"
    }
  },
  "cells": [
    {
      "cell_type": "markdown",
      "source": [
        "Metodos computacionales actividad 01\n",
        "\n",
        "Felipe Quitian Gallego   Cc. 1000077023"
      ],
      "metadata": {
        "id": "mNTse4syUi7u"
      }
    },
    {
      "cell_type": "code",
      "execution_count": 66,
      "metadata": {
        "colab": {
          "base_uri": "https://localhost:8080/"
        },
        "id": "aE55rhevT-oD",
        "outputId": "aaccb86b-4e9a-410b-8101-f9327778e83c"
      },
      "outputs": [
        {
          "output_type": "stream",
          "name": "stdout",
          "text": [
            "Ingrese el valor del primer numero:7\n",
            "Ingrese el valor del segundo numero:29\n",
            "El resultado de la division es 0.2414\n",
            "El residuo de la division es 7\n"
          ]
        }
      ],
      "source": [
        "# Construir un programa en el que ingresador dos numeros a y b,\n",
        "# el programa debe retornar el valor de la division y el residuo\n",
        "\n",
        "a = int(input('Ingrese el valor del primer numero:'))\n",
        "b = int(input('Ingrese el valor del segundo numero:'))\n",
        "c = a/b\n",
        "d = a%b\n",
        "\n",
        "print(f'El resultado de la division es {c:.4}')\n",
        "print('El residuo de la division es',d)"
      ]
    },
    {
      "cell_type": "code",
      "source": [
        "# Crea una función llamada doble_factorial que reciba un parámetro llamado n.\n",
        "# La función debe devolver el doble factorial de n,\n",
        "# que se define como el producto de todos los números naturales desde n hasta 1 que tienen el mismo paridad que n.\n",
        "\n",
        "def doble_factorial(n):\n",
        "    l = []\n",
        "    a = []\n",
        "    for i in range(n):\n",
        "        l.append(n-i)\n",
        "    for i in range(0, len(l),2):\n",
        "        a.append(l[i])\n",
        "    b = a[0]\n",
        "    for i in range(1, len(a)):\n",
        "        b *= a[i]\n",
        "    return b"
      ],
      "metadata": {
        "id": "u4ZF5i5GU9im"
      },
      "execution_count": 67,
      "outputs": []
    },
    {
      "cell_type": "code",
      "source": [
        "doble_factorial(5)"
      ],
      "metadata": {
        "colab": {
          "base_uri": "https://localhost:8080/"
        },
        "id": "95Gbi7T9Vqgw",
        "outputId": "cdbcca40-64f8-419f-d4f0-ce5b94b5f93d"
      },
      "execution_count": 68,
      "outputs": [
        {
          "output_type": "execute_result",
          "data": {
            "text/plain": [
              "15"
            ]
          },
          "metadata": {},
          "execution_count": 68
        }
      ]
    },
    {
      "cell_type": "code",
      "source": [
        "doble_factorial(6)"
      ],
      "metadata": {
        "colab": {
          "base_uri": "https://localhost:8080/"
        },
        "id": "l0Kh9sCcdGa9",
        "outputId": "eeb56341-d4cb-4b5b-b984-cef2bf556395"
      },
      "execution_count": 69,
      "outputs": [
        {
          "output_type": "execute_result",
          "data": {
            "text/plain": [
              "48"
            ]
          },
          "metadata": {},
          "execution_count": 69
        }
      ]
    },
    {
      "cell_type": "code",
      "source": [
        "doble_factorial(7)"
      ],
      "metadata": {
        "colab": {
          "base_uri": "https://localhost:8080/"
        },
        "id": "DJlXQK5pV8bb",
        "outputId": "ba6b286d-39c5-48b9-fbeb-5f8f3b3876e4"
      },
      "execution_count": 70,
      "outputs": [
        {
          "output_type": "execute_result",
          "data": {
            "text/plain": [
              "105"
            ]
          },
          "metadata": {},
          "execution_count": 70
        }
      ]
    },
    {
      "cell_type": "code",
      "source": [
        "doble_factorial(8)"
      ],
      "metadata": {
        "colab": {
          "base_uri": "https://localhost:8080/"
        },
        "id": "ClIiFXXkdOzv",
        "outputId": "3acc5d2f-add6-4c89-f22f-002b29fcf218"
      },
      "execution_count": 71,
      "outputs": [
        {
          "output_type": "execute_result",
          "data": {
            "text/plain": [
              "384"
            ]
          },
          "metadata": {},
          "execution_count": 71
        }
      ]
    },
    {
      "cell_type": "code",
      "source": [
        "# Crea una función llamada lucas que reciba un parámetro llamado n.\n",
        "# La función debe devolver el n-ésimo término de la sucesión de Lucas,\n",
        "# que se define de forma similar a la sucesión de Fibonacci, pero con los dos primeros términos iguales a 2 y 1.\n",
        "\n",
        "def lucas(n):\n",
        "  if n==0:\n",
        "    return 2\n",
        "  if n==1:\n",
        "    return 1\n",
        "  else:\n",
        "    a = [2,1]\n",
        "    for i in range (0,n):\n",
        "      a.append(a[i]+a[i+1])\n",
        "  return a[n]"
      ],
      "metadata": {
        "id": "wLsdL51wdPw2"
      },
      "execution_count": 72,
      "outputs": []
    },
    {
      "cell_type": "code",
      "source": [
        "lucas(3)"
      ],
      "metadata": {
        "colab": {
          "base_uri": "https://localhost:8080/"
        },
        "id": "JvlmwcqHeBNk",
        "outputId": "3a06e425-860b-496d-bd3c-2fc4ffbed228"
      },
      "execution_count": 73,
      "outputs": [
        {
          "output_type": "execute_result",
          "data": {
            "text/plain": [
              "4"
            ]
          },
          "metadata": {},
          "execution_count": 73
        }
      ]
    },
    {
      "cell_type": "code",
      "source": [
        "lucas(9)"
      ],
      "metadata": {
        "colab": {
          "base_uri": "https://localhost:8080/"
        },
        "id": "b7oxpOBheDPH",
        "outputId": "acbe9e4b-0273-4e28-863a-d5e487825d5f"
      },
      "execution_count": 74,
      "outputs": [
        {
          "output_type": "execute_result",
          "data": {
            "text/plain": [
              "76"
            ]
          },
          "metadata": {},
          "execution_count": 74
        }
      ]
    },
    {
      "cell_type": "code",
      "source": [
        "lucas(10)"
      ],
      "metadata": {
        "colab": {
          "base_uri": "https://localhost:8080/"
        },
        "id": "FztrRi4Ye3WQ",
        "outputId": "37fb1650-7e96-4439-dae8-09f2d889ee39"
      },
      "execution_count": 75,
      "outputs": [
        {
          "output_type": "execute_result",
          "data": {
            "text/plain": [
              "123"
            ]
          },
          "metadata": {},
          "execution_count": 75
        }
      ]
    },
    {
      "cell_type": "code",
      "source": [
        "lucas(11)"
      ],
      "metadata": {
        "colab": {
          "base_uri": "https://localhost:8080/"
        },
        "id": "jUzEsFl6e484",
        "outputId": "82f03578-07c8-4815-8fd1-811c4d24b8cb"
      },
      "execution_count": 76,
      "outputs": [
        {
          "output_type": "execute_result",
          "data": {
            "text/plain": [
              "199"
            ]
          },
          "metadata": {},
          "execution_count": 76
        }
      ]
    },
    {
      "cell_type": "code",
      "source": [
        "# Primero creamos una funcion que nos calcule el factorial de un numero n\n",
        "def factorial(n):\n",
        "  if n == 0:\n",
        "    return 1\n",
        "  if n < 0:\n",
        "    return 'El numero no puede ser negativo'\n",
        "  if type(n) == float:\n",
        "    return 'El numero debe ser entero'\n",
        "  else:\n",
        "    s = n\n",
        "    while (n>1):\n",
        "        n=n-1\n",
        "        s=s*n\n",
        "  return s"
      ],
      "metadata": {
        "id": "DXBaIxUH2dP7"
      },
      "execution_count": 77,
      "outputs": []
    },
    {
      "cell_type": "code",
      "source": [
        "# Crea una función llamada binomial que reciba dos parámetros llamados n y k.\n",
        "# La función debe devolver el coeficiente binomial de n y k,\n",
        "# que se define como el número de formas de elegir k elementos distintos de un conjunto de n elementos.\n",
        "\n",
        "def binomial(n,k):\n",
        "  m = factorial(n)\n",
        "  q = factorial(k)\n",
        "  d = factorial(n-k)\n",
        "\n",
        "  c = m / (q * d)\n",
        "\n",
        "  return c"
      ],
      "metadata": {
        "id": "aWCQMAdse63X"
      },
      "execution_count": 78,
      "outputs": []
    },
    {
      "cell_type": "code",
      "source": [
        "binomial(5,3)"
      ],
      "metadata": {
        "colab": {
          "base_uri": "https://localhost:8080/"
        },
        "id": "ZwxkBLr32-Ud",
        "outputId": "9e4eaabf-7e77-43f5-b150-fd0b6ff495c8"
      },
      "execution_count": 79,
      "outputs": [
        {
          "output_type": "execute_result",
          "data": {
            "text/plain": [
              "10.0"
            ]
          },
          "metadata": {},
          "execution_count": 79
        }
      ]
    },
    {
      "cell_type": "code",
      "source": [
        "binomial(6,4)"
      ],
      "metadata": {
        "colab": {
          "base_uri": "https://localhost:8080/"
        },
        "id": "2Z3-2Slo3EN3",
        "outputId": "262b4d62-1930-4da6-c962-9086ab39d481"
      },
      "execution_count": 80,
      "outputs": [
        {
          "output_type": "execute_result",
          "data": {
            "text/plain": [
              "15.0"
            ]
          },
          "metadata": {},
          "execution_count": 80
        }
      ]
    },
    {
      "cell_type": "code",
      "source": [
        "binomial(7,2)"
      ],
      "metadata": {
        "colab": {
          "base_uri": "https://localhost:8080/"
        },
        "id": "TmxxUlUC3MmQ",
        "outputId": "dcc18077-7bba-4991-a746-2d9eabf3ffd6"
      },
      "execution_count": 81,
      "outputs": [
        {
          "output_type": "execute_result",
          "data": {
            "text/plain": [
              "21.0"
            ]
          },
          "metadata": {},
          "execution_count": 81
        }
      ]
    },
    {
      "cell_type": "code",
      "source": [],
      "metadata": {
        "id": "ti8Z9YBm4I52"
      },
      "execution_count": 65,
      "outputs": []
    }
  ]
}