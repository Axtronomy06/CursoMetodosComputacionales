{
  "cells": [
    {
      "cell_type": "markdown",
      "metadata": {
        "id": "pCZcb0gSMhAU"
      },
      "source": [
        "<a href=\"https://colab.research.google.com/github/hernansalinas/autogrades/blob/main/Actividades_clase/Actividad_09_MatricesAutovaloresAutovectores.ipynb\" target=\"_parent\"><img src=\"https://colab.research.google.com/assets/colab-badge.svg\" alt=\"Open In Colab\"/></a>"
      ]
    },
    {
      "cell_type": "code",
      "execution_count": 1,
      "metadata": {
        "id": "iJsmScMdtgYe"
      },
      "outputs": [],
      "source": [
        "import numpy as np\n",
        "import torch as pt\n",
        "import sympy as sp\n",
        "import matplotlib.pyplot as plt"
      ]
    },
    {
      "cell_type": "markdown",
      "metadata": {
        "id": "F2BmxAU22k-G"
      },
      "source": [
        "# Autovalores, autovectores, diagonalización\n",
        "\n",
        "Una matriz es diagonalizable cuando es semejante a una matriz diagonal. Esto significa que mediante un cambio de base, podemos reducir la matriz original a una forma diagonal. Para que una matriz sea diagonalizable, debe cumplir las siguientes condiciones:\n",
        "\n",
        "**Autovectores linealmente independientes**: Una matriz $(A \\in \\mathbb{R}^{n \\times n})$ es diagonalizable si y solo si tiene (n) autovectores linealmente independientes. Esto significa que los autovectores asociados a los autovalores deben ser linealmente independientes.\n",
        "\n",
        "**Semejanza**: Existe una matriz invertible (P) tal que ($P^{-1}AP = D$), donde (D) es una matriz diagonal formada por los autovalores de (A).\n",
        "\n",
        "La diagonalización es un proceso que transforma una matriz cuadrada ( A ) en una matriz diagonal ( D ) mediante una matriz invertible ( P ), tal que:\n",
        "\n",
        "$P^{-1}AP = D$\n",
        "\n",
        "La matriz diagonal ( D ) contiene los autovalores de ( A ) en la diagonal principal, y las columnas de ( P ) son los autovectores correspondientes a esos autovalores."
      ]
    },
    {
      "cell_type": "markdown",
      "metadata": {
        "id": "ZEt4N4lT2taJ"
      },
      "source": [
        "## Numpy"
      ]
    },
    {
      "cell_type": "code",
      "execution_count": 2,
      "metadata": {
        "colab": {
          "base_uri": "https://localhost:8080/"
        },
        "id": "hcGonjho2Xi0",
        "outputId": "c36acfa9-c9d7-4710-84b0-ba2d44244514"
      },
      "outputs": [
        {
          "output_type": "stream",
          "name": "stdout",
          "text": [
            "Autovalores: [6.16424794 1.60861762 3.22713444]\n",
            "Autovectores:\n",
            " [[-0.6611152   0.56181831 -0.49727948]\n",
            " [-0.7154086  -0.6717612   0.19216509]\n",
            " [-0.2260912   0.48280128  0.84604119]]\n"
          ]
        }
      ],
      "source": [
        "# Definir una matriz 3x3\n",
        "A = np.array([[4, 2, 0],\n",
        "              [2, 4, 1],\n",
        "              [0, 1, 3]])\n",
        "\n",
        "# Calcular autovalores y autovectores\n",
        "autovalores, autovectores = np.linalg.eig(A)\n",
        "U = autovectores.copy()\n",
        "print(\"Autovalores:\", autovalores)\n",
        "print(\"Autovectores:\\n\", autovectores)\n"
      ]
    },
    {
      "cell_type": "markdown",
      "metadata": {
        "id": "ioIEzfR52jVo"
      },
      "source": [
        "### Matriz Diagonal"
      ]
    },
    {
      "cell_type": "code",
      "execution_count": 3,
      "metadata": {
        "colab": {
          "base_uri": "https://localhost:8080/"
        },
        "id": "qDM4idFV3R-e",
        "outputId": "f98028f9-4339-4829-976c-3b7b8c685317"
      },
      "outputs": [
        {
          "output_type": "execute_result",
          "data": {
            "text/plain": [
              "array([[ 6.164248,  0.      , -0.      ],\n",
              "       [-0.      ,  1.608618, -0.      ],\n",
              "       [ 0.      , -0.      ,  3.227134]])"
            ]
          },
          "metadata": {},
          "execution_count": 3
        }
      ],
      "source": [
        "D = np.linalg.inv(U)@A@U\n",
        "np.set_printoptions(suppress=True, precision=6)\n",
        "D"
      ]
    },
    {
      "cell_type": "code",
      "execution_count": 4,
      "metadata": {
        "id": "rU-w2AWm3r_H"
      },
      "outputs": [],
      "source": [
        "np.set_printoptions(suppress=True, precision=6)\n"
      ]
    },
    {
      "cell_type": "markdown",
      "metadata": {
        "id": "N-oGaJUS4p10"
      },
      "source": [
        "## Actividad:\n",
        "\n",
        "Construir un programa que permita elevar una matriz a una potencia.\n",
        "\n",
        "\n",
        "La exponencial de una matriz ( $e^A$) se define como la serie de Taylor de la función exponencial evaluada en la matriz ( A ):\n",
        "\n",
        "\n",
        "\\begin{equation}\n",
        "e^A = I + A + \\frac{1}{2!}A^2 + \\frac{1}{3!}A^3 + \\cdots = \\sum_{n=0}^{\\infty} \\frac{1}{n!}A^n\n",
        "\\end{equation}\n",
        "\n",
        "\n",
        "Donde ( $e^D$ ) es simplemente la matriz exponencial de la matriz diagonal ( D ), que es fácil de calcular porque solo implica elevar los autovalores de (A) a la potencia de (e):\n",
        "\n",
        "\n",
        "\n",
        "\\begin{equation}\n",
        "e^A = Pe^DP^{-1}\n",
        "\\end{equation}\n",
        "\n",
        "\n",
        "Exponencial de una matriz diagonal\n",
        "\n",
        "\\begin{equation}\n",
        "e^D = \\begin{bmatrix}\n",
        "e^{\\lambda_1} & 0 & \\cdots & 0 \\\\\n",
        "0 & e^{\\lambda_2} & \\cdots & 0 \\\\\n",
        "\\vdots & \\vdots & \\ddots & \\vdots \\\\\n",
        "0 & 0 & \\cdots & e^{\\lambda_n}\n",
        "\\end{bmatrix}\n",
        "\\end{equation}\n",
        "\n",
        "\n"
      ]
    },
    {
      "cell_type": "code",
      "source": [
        "# Definimos la funcion para elevar una matriz A a una potencia n\n",
        "def pot_matriz(A, n):\n",
        "  # Calculemos los autovalores y autovectores de A\n",
        "  autovalores, autovectores = np.linalg.eig(A)\n",
        "\n",
        "  # Definimos la matriz de cambio de base con los autovectores de A como sus columnas\n",
        "  U = autovectores.copy()\n",
        "\n",
        "  # Calculamos la matriz diagonal D\n",
        "  D = U.I @ A @ U\n",
        "\n",
        "  # Calculamos A^n\n",
        "  An = U @ D**n @ U.I\n",
        "\n",
        "  np.set_printoptions(suppress=True, precision=6)\n",
        "  return An\n",
        "\n",
        "# Probemos nuestra funcion\n",
        "A = np.matrix([[2, -1, 1],\n",
        "               [0, 3, -1],\n",
        "               [2, 1, 3]])\n",
        "\n",
        "# Calculamos A^6 con la funcion y multiplicando A 6 veces\n",
        "A6c = pot_matriz(A, 6)\n",
        "A6e = A @ A @ A @ A @ A @ A\n",
        "\n",
        "# Vemos la comparacion de los resultados\n",
        "print('La matriz A elevada a la 6 usando la funcion da como resultado')\n",
        "print(A6c)\n",
        "print('El valor esperado de la matriz A elevada a la 6 da como resultado')\n",
        "print(A6e)"
      ],
      "metadata": {
        "colab": {
          "base_uri": "https://localhost:8080/"
        },
        "id": "UM0j37oOEXM-",
        "outputId": "c1230764-ca74-4dae-ceb8-a5a112abf418"
      },
      "execution_count": 5,
      "outputs": [
        {
          "output_type": "stream",
          "name": "stdout",
          "text": [
            "La matriz A elevada a la 6 usando la funcion da como resultado\n",
            "[[ 1888.+0.j  -192.+0.j  2016.-0.j]\n",
            " [-1824.+0.j   256.+0.j -2016.-0.j]\n",
            " [ 2208.-0.j   192.-0.j  2080.+0.j]]\n",
            "El valor esperado de la matriz A elevada a la 6 da como resultado\n",
            "[[ 1888  -192  2016]\n",
            " [-1824   256 -2016]\n",
            " [ 2208   192  2080]]\n"
          ]
        }
      ]
    },
    {
      "cell_type": "markdown",
      "metadata": {
        "id": "JmmxMqieABY-"
      },
      "source": [
        "# Autovalores y autovectores complejos"
      ]
    },
    {
      "cell_type": "code",
      "execution_count": 6,
      "metadata": {
        "colab": {
          "base_uri": "https://localhost:8080/"
        },
        "id": "3-NKfajD9kwp",
        "outputId": "ee1d56bd-95df-446a-929f-2a7175f04948"
      },
      "outputs": [
        {
          "output_type": "stream",
          "name": "stdout",
          "text": [
            "Autovalores: [0.707107+0.707107j 0.707107-0.707107j]\n",
            "Autovectores:\n",
            " [[0.707107+0.j       0.707107-0.j      ]\n",
            " [0.      +0.707107j 0.      -0.707107j]]\n"
          ]
        },
        {
          "output_type": "execute_result",
          "data": {
            "text/plain": [
              "array([[0.707107+0.707107j, 0.      +0.j      ],\n",
              "       [0.      +0.j      , 0.707107-0.707107j]])"
            ]
          },
          "metadata": {},
          "execution_count": 6
        }
      ],
      "source": [
        "theta=-np.pi/4\n",
        "A = np.array([[np.cos(theta),-np.sin(theta)],[np.sin(theta), np.cos(theta)]])\n",
        "\n",
        "# Calcular autovalores y autovectores\n",
        "autovalores, autovectores = np.linalg.eig(A)\n",
        "U = autovectores.copy()\n",
        "print(\"Autovalores:\", autovalores)\n",
        "print(\"Autovectores:\\n\", autovectores)\n",
        "\n",
        "D = np.linalg.inv(U)@A@U\n",
        "np.set_printoptions(suppress=True, precision=6)\n",
        "D"
      ]
    },
    {
      "cell_type": "code",
      "execution_count": 7,
      "metadata": {
        "colab": {
          "base_uri": "https://localhost:8080/"
        },
        "id": "pUIRWAJv9oVb",
        "outputId": "658797fd-9027-42cb-f087-029cf7890cd8"
      },
      "outputs": [
        {
          "output_type": "execute_result",
          "data": {
            "text/plain": [
              "array([[1.541863+1.317538j, 1.      +0.j      ],\n",
              "       [1.      +0.j      , 1.541863-1.317538j]])"
            ]
          },
          "metadata": {},
          "execution_count": 7
        }
      ],
      "source": [
        "np.exp(D)"
      ]
    },
    {
      "cell_type": "markdown",
      "metadata": {
        "id": "_ZdlipTzMhAh"
      },
      "source": [
        "Actividad 2.\n",
        "\n",
        "Considere la ecuación cuadrática $x^2-4xy+3y^2=6$, esta ecuación cuadrática se corresponde a una hiperbola, la cual puede ser escrita en forma matricial como sigue:\n",
        "\n",
        "$A\\vec{v} \\cdot \\vec{v}=6$, donde $\\vec{v}=(x, y)$ y A es una matrix simetrica,\n",
        "\n",
        "\\begin{equation}\n",
        "A=\\begin{bmatrix}\n",
        "1 & -2 \\\\\n",
        "-2 & 3 \\\\\n",
        "\\end{bmatrix}\n",
        "\\end{equation}\n",
        "\n",
        "1. Realice un grafico que represente la hyperbola\n",
        "\n",
        "\n",
        "\n",
        "\n",
        "\n",
        "\n",
        "\n",
        "- Diagonalice A, para ello construya la matrix Q de autovectores ortoganales\n",
        "tal que $D=Q^{T}AQ$, en este caso se dice que A es diagonalizable ortogonalmente, donde $A=QDQ^T$.\n",
        "\n",
        "- Aplique el resultado de la siguiente demostración para encontrar una nueva hyperbola en una  nueva base\n",
        "\n",
        "\\begin{equation}\n",
        "QDQ^T \\vec{v} \\cdot \\vec{v} = d\n",
        "\\end{equation}\n",
        "\n",
        "\n",
        "\\begin{equation}\n",
        "Q(DQ^T\\vec{v}) \\cdot \\vec{v} = (DQ^T\\vec{v}) \\cdot (Q^T\\vec{v})=d\n",
        "\\end{equation}\n",
        "\n",
        "\n",
        "\\begin{equation}\n",
        "(DQ^T\\vec{v}) \\cdot (Q^T\\vec{v})=d\n",
        "\\end{equation}\n",
        "\n",
        "\n",
        "Sea $u=Q^T\\vec{v}$\n",
        "\n",
        "Luego :\n",
        "\n",
        "\n",
        "\\begin{equation}\n",
        "(D\\vec{u}) \\cdot \\vec{u}=d\n",
        "\\end{equation}\n",
        "\n",
        "donde $\\vec{u}=(x', y')$, tal que $D\\vec{u} \\cdot \\vec{u}=d$ es una nueva hyperbola"
      ]
    },
    {
      "cell_type": "markdown",
      "source": [
        "Solucionando la ecuación cuadrática para y, tenemos que:\n",
        "\n",
        "$$ y = \\frac{1}{3}(2x\\pm\\sqrt{x^2+18}) $$"
      ],
      "metadata": {
        "id": "kcbFMsHF6z41"
      }
    },
    {
      "cell_type": "code",
      "source": [
        "# Definimos las soluciones de y como funciones\n",
        "y1 = lambda x: 1/3 * (2*x + np.sqrt(x**2+18))\n",
        "y2 = lambda x: 1/3 * (2*x - np.sqrt(x**2+18))\n",
        "\n",
        "# Elegimos un rango de x para ver la hiperbola\n",
        "x = np.linspace(-20, 20, 1000)\n",
        "\n",
        "# Graficamos la hiperbola\n",
        "plt.title('Hiperbola')\n",
        "plt.plot(x, y1(x), label = 'y1(x)')\n",
        "plt.plot(x, y2(x), label = 'y2(x)')\n",
        "plt.xlabel('x')\n",
        "plt.ylabel('y')\n",
        "plt.legend()\n",
        "plt.grid()"
      ],
      "metadata": {
        "colab": {
          "base_uri": "https://localhost:8080/",
          "height": 472
        },
        "id": "h8Xh6hcC857V",
        "outputId": "cf10fc12-0835-4b31-d8b3-bd1c83b86b65"
      },
      "execution_count": 8,
      "outputs": [
        {
          "output_type": "display_data",
          "data": {
            "text/plain": [
              "<Figure size 640x480 with 1 Axes>"
            ],
            "image/png": "[encoded data removed]"
          },
          "metadata": {}
        }
      ]
    },
    {
      "cell_type": "code",
      "source": [
        "# Definimos la matriz A\n",
        "A1 = np.matrix([[1, -2],\n",
        "                [-2, 3]])\n",
        "\n",
        "# Calculemos los autovalores y autovectores de A1\n",
        "autovalores, autovectores = np.linalg.eig(A1)\n",
        "\n",
        "# Veamos si los autovectores de A1 son ortogonales, para esto calculemos el producto punto entre los dos vectores\n",
        "p = autovectores[0,0]*autovectores[1,0] + autovectores[0,1]*autovectores[1,1]\n",
        "\n",
        "print(f'El producto punto entre los autovectores de A1 es {p}')"
      ],
      "metadata": {
        "colab": {
          "base_uri": "https://localhost:8080/"
        },
        "id": "56qjTnjq0GLU",
        "outputId": "670f5713-06be-4ce3-c9f2-27f5abb5a566"
      },
      "execution_count": 9,
      "outputs": [
        {
          "output_type": "stream",
          "name": "stdout",
          "text": [
            "El producto punto entre los autovectores de A1 es 0.0\n"
          ]
        }
      ]
    },
    {
      "cell_type": "markdown",
      "source": [
        "Como el producto punto entre los autovectores de A es cero, entonces los vectores son ortogonales, por lo que la matriz Q será la matriz cuyas columnas son los autovectores de A."
      ],
      "metadata": {
        "id": "8kvEURymOFrt"
      }
    },
    {
      "cell_type": "code",
      "source": [
        "# Definimos la matriz de cambio de base con los autovectores de A1 como sus columnas\n",
        "Q = autovectores.copy()\n",
        "\n",
        "# Calculamos la matriz diagonal D\n",
        "D = Q.T @ A1 @ Q\n",
        "\n",
        "np.set_printoptions(suppress=True, precision=6)\n",
        "print('La matriz diagonalizada es')\n",
        "print(D)"
      ],
      "metadata": {
        "colab": {
          "base_uri": "https://localhost:8080/"
        },
        "id": "qJVOFI1cN5CL",
        "outputId": "fc010ef2-fa8c-4bac-dab3-074228f42aee"
      },
      "execution_count": 10,
      "outputs": [
        {
          "output_type": "stream",
          "name": "stdout",
          "text": [
            "La matriz diagonalizada es\n",
            "[[-0.236068 -0.      ]\n",
            " [-0.        4.236068]]\n"
          ]
        }
      ]
    },
    {
      "cell_type": "code",
      "source": [
        "# Veamos que A = QDQ^T\n",
        "Ac = Q @ D @ Q.T\n",
        "\n",
        "print('La matriz A1 es')\n",
        "print(A1)\n",
        "print('La matriz A calculada es')\n",
        "print(Ac)"
      ],
      "metadata": {
        "colab": {
          "base_uri": "https://localhost:8080/"
        },
        "id": "cnuthHZx_epF",
        "outputId": "25990e20-3e6d-4a9c-9c82-9c7a34378b28"
      },
      "execution_count": 11,
      "outputs": [
        {
          "output_type": "stream",
          "name": "stdout",
          "text": [
            "La matriz A1 es\n",
            "[[ 1 -2]\n",
            " [-2  3]]\n",
            "La matriz A calculada es\n",
            "[[ 1. -2.]\n",
            " [-2.  3.]]\n"
          ]
        }
      ]
    },
    {
      "cell_type": "code",
      "source": [
        "# Veamos que Q^-1 = Q^T\n",
        "print('La inversa de Q es')\n",
        "print(Q.I)\n",
        "print('La transpuesta de Q es')\n",
        "print(Q.T)"
      ],
      "metadata": {
        "colab": {
          "base_uri": "https://localhost:8080/"
        },
        "id": "cl5DmtBQ_gT4",
        "outputId": "8f50fb56-3e8c-4417-c7cd-8e8f19435ae2"
      },
      "execution_count": 12,
      "outputs": [
        {
          "output_type": "stream",
          "name": "stdout",
          "text": [
            "La inversa de Q es\n",
            "[[-0.850651 -0.525731]\n",
            " [ 0.525731 -0.850651]]\n",
            "La transpuesta de Q es\n",
            "[[-0.850651 -0.525731]\n",
            " [ 0.525731 -0.850651]]\n"
          ]
        }
      ]
    },
    {
      "cell_type": "code",
      "source": [
        "# Calculemos u1 y u2, para y1 y y2\n",
        "v1 = np.array([x, y1(x)])\n",
        "v2 = np.array([x, y2(x)])\n",
        "u1 = Q.T @ v1\n",
        "u2 = Q.T @ v2\n",
        "\n",
        "# Definimos los valores de x, y1 y y2 en la nueva base\n",
        "xprima1 = u1[0,].A1 # Usamos .A1 para volverlos arreglos de numpy\n",
        "yprima1 = u1[1,].A1\n",
        "\n",
        "xprima2 = u2[0,].A1\n",
        "yprima2 = u2[1,].A1\n",
        "\n",
        "# Graficamos la hiperbola en la nueva base\n",
        "plt.title('Hiperbola en una nueva base')\n",
        "plt.plot(xprima1, yprima1, label = 'y1´(x)')\n",
        "plt.plot(xprima2, yprima2, label = 'y2´(x)')\n",
        "plt.xlabel('x´')\n",
        "plt.ylabel('y´')\n",
        "plt.legend()\n",
        "plt.grid()"
      ],
      "metadata": {
        "colab": {
          "base_uri": "https://localhost:8080/",
          "height": 472
        },
        "id": "0W-ck76LQOLA",
        "outputId": "1e996b60-2035-4c62-e3cc-cc1716b15418"
      },
      "execution_count": 13,
      "outputs": [
        {
          "output_type": "display_data",
          "data": {
            "text/plain": [
              "<Figure size 640x480 with 1 Axes>"
            ],
            "image/png": "[encoded data removed]"
          },
          "metadata": {}
        }
      ]
    },
    {
      "cell_type": "markdown",
      "metadata": {
        "id": "bVBR8mx02xzR"
      },
      "source": [
        "### Sympy"
      ]
    },
    {
      "cell_type": "code",
      "execution_count": 14,
      "metadata": {
        "colab": {
          "base_uri": "https://localhost:8080/"
        },
        "id": "5ZtjshtC2iBC",
        "outputId": "3a5d0b81-bd7a-4533-f6b3-2910680a86f5"
      },
      "outputs": [
        {
          "output_type": "stream",
          "name": "stdout",
          "text": [
            "Autovalores simplificados: {11/3 + 16*2**(1/3)/(3*(61 + 3*sqrt(1407)*I)**(1/3)) + 2**(2/3)*(61 + 3*sqrt(1407)*I)**(1/3)/6: 1, (-128*2**(1/3) + (1 - sqrt(3)*I)*(44 + 2**(2/3)*(-1 + sqrt(3)*I)*(61 + 3*sqrt(1407)*I)**(1/3))*(61 + 3*sqrt(1407)*I)**(1/3))/(12*(1 - sqrt(3)*I)*(61 + 3*sqrt(1407)*I)**(1/3)): 1, (-128*2**(1/3) + (1 + sqrt(3)*I)*(44 - 2**(2/3)*(1 + sqrt(3)*I)*(61 + 3*sqrt(1407)*I)**(1/3))*(61 + 3*sqrt(1407)*I)**(1/3))/(12*(1 + sqrt(3)*I)*(61 + 3*sqrt(1407)*I)**(1/3)): 1}\n",
            "Autovectores simplificados:\n",
            " [((-128*2**(1/3) + (1 + sqrt(3)*I)*(44 - 2**(2/3)*(1 + sqrt(3)*I)*(61 + 3*sqrt(1407)*I)**(1/3))*(61 + 3*sqrt(1407)*I)**(1/3))/(12*(1 + sqrt(3)*I)*(61 + 3*sqrt(1407)*I)**(1/3)), 1, [Matrix([\n",
            "[(12*(-176 + 7*2**(2/3)*(1 + sqrt(3)*I)*(61 + 3*sqrt(1407)*I)**(1/3))*(1 + sqrt(3)*I)**2*(61 + 3*sqrt(1407)*I) + (61 + 3*sqrt(1407)*I)**(1/3)*(128*2**(1/3) + (-44 + 2**(2/3)*(1 + sqrt(3)*I)*(61 + 3*sqrt(1407)*I)**(1/3))*(1 + sqrt(3)*I)*(61 + 3*sqrt(1407)*I)**(1/3))**2 + 10752*2**(1/3)*(1 + sqrt(3)*I)*(61 + 3*sqrt(1407)*I)**(2/3))/(288*(1 + sqrt(3)*I)**2*(61 + 3*sqrt(1407)*I))],\n",
            "[                                                                                                                                                                                                             (-128*2**(1/3) + (1 + sqrt(3)*I)*(8 - 2**(2/3)*(1 + sqrt(3)*I)*(61 + 3*sqrt(1407)*I)**(1/3))*(61 + 3*sqrt(1407)*I)**(1/3))/(12*(1 + sqrt(3)*I)*(61 + 3*sqrt(1407)*I)**(1/3))],\n",
            "[                                                                                                                                                                                                                                                                                                                                                                                        1]])]), ((-128*2**(1/3) + (1 - sqrt(3)*I)*(44 + 2**(2/3)*(-1 + sqrt(3)*I)*(61 + 3*sqrt(1407)*I)**(1/3))*(61 + 3*sqrt(1407)*I)**(1/3))/(12*(1 - sqrt(3)*I)*(61 + 3*sqrt(1407)*I)**(1/3)), 1, [Matrix([\n",
            "[(10752*2**(1/3)*(1 - sqrt(3)*I)*(61 + 3*sqrt(1407)*I)**(2/3) + (61 + 3*sqrt(1407)*I)**(1/3)*(128*2**(1/3) + (-44 + 2**(2/3)*(1 - sqrt(3)*I)*(61 + 3*sqrt(1407)*I)**(1/3))*(1 - sqrt(3)*I)*(61 + 3*sqrt(1407)*I)**(1/3))**2 + 12*(-176 + 7*2**(2/3)*(1 - sqrt(3)*I)*(61 + 3*sqrt(1407)*I)**(1/3))*(1 - sqrt(3)*I)**2*(61 + 3*sqrt(1407)*I))/(288*(1 - sqrt(3)*I)**2*(61 + 3*sqrt(1407)*I))],\n",
            "[                                                                                                                                                                                                            (-128*2**(1/3) + (1 - sqrt(3)*I)*(8 + 2**(2/3)*(-1 + sqrt(3)*I)*(61 + 3*sqrt(1407)*I)**(1/3))*(61 + 3*sqrt(1407)*I)**(1/3))/(12*(1 - sqrt(3)*I)*(61 + 3*sqrt(1407)*I)**(1/3))],\n",
            "[                                                                                                                                                                                                                                                                                                                                                                                        1]])]), (11/3 + 16*2**(1/3)/(3*(61 + 3*sqrt(1407)*I)**(1/3)) + 2**(2/3)*(61 + 3*sqrt(1407)*I)**(1/3)/6, 1, [Matrix([\n",
            "[(42*sqrt(1407) - 191*2**(2/3)*I*(61 + 3*sqrt(1407)*I)**(1/3) - 854*I - 31*2**(1/3)*I*(61 + 3*sqrt(1407)*I)**(2/3) + sqrt(1407)*2**(2/3)*(61 + 3*sqrt(1407)*I)**(1/3) + sqrt(1407)*2**(1/3)*(61 + 3*sqrt(1407)*I)**(2/3))/(12*(3*sqrt(1407) - 61*I))],\n",
            "[                                                                                                                                                       2/3 + 16*2**(1/3)/(3*(61 + 3*sqrt(1407)*I)**(1/3)) + 2**(2/3)*(61 + 3*sqrt(1407)*I)**(1/3)/6],\n",
            "[                                                                                                                                                                                                                                                  1]])])]\n"
          ]
        }
      ],
      "source": [
        "from sympy import Matrix, simplify\n",
        "\n",
        "# Definir una matriz 3x3\n",
        "A = Matrix([[4, 2, 0],\n",
        "            [2, 4, 1],\n",
        "            [0, 1, 3]])\n",
        "\n",
        "# Calcular autovalores y autovectores\n",
        "autovalores = A.eigenvals()\n",
        "autovectores = A.eigenvects()\n",
        "\n",
        "# Simplificar autovalores y autovectores\n",
        "autovalores_simplificados = {simplify(l): m for l, m in autovalores.items()}\n",
        "autovectores_simplificados = [(simplify(l), m, [simplify(v) for v in vs]) for l, m, vs in autovectores]\n",
        "\n",
        "print(\"Autovalores simplificados:\", autovalores_simplificados)\n",
        "print(\"Autovectores simplificados:\\n\", autovectores_simplificados)\n"
      ]
    },
    {
      "cell_type": "code",
      "execution_count": 15,
      "metadata": {
        "colab": {
          "base_uri": "https://localhost:8080/"
        },
        "id": "zGEs4pr2A5JR",
        "outputId": "1a0e245c-f810-431d-936f-1b0489401dbd"
      },
      "outputs": [
        {
          "output_type": "execute_result",
          "data": {
            "text/plain": [
              "{11/3 + 16*2**(1/3)/(3*(61 + 3*sqrt(1407)*I)**(1/3)) + 2**(2/3)*(61 + 3*sqrt(1407)*I)**(1/3)/6: 1,\n",
              " (-128*2**(1/3) + (1 - sqrt(3)*I)*(44 + 2**(2/3)*(-1 + sqrt(3)*I)*(61 + 3*sqrt(1407)*I)**(1/3))*(61 + 3*sqrt(1407)*I)**(1/3))/(12*(1 - sqrt(3)*I)*(61 + 3*sqrt(1407)*I)**(1/3)): 1,\n",
              " (-128*2**(1/3) + (1 + sqrt(3)*I)*(44 - 2**(2/3)*(1 + sqrt(3)*I)*(61 + 3*sqrt(1407)*I)**(1/3))*(61 + 3*sqrt(1407)*I)**(1/3))/(12*(1 + sqrt(3)*I)*(61 + 3*sqrt(1407)*I)**(1/3)): 1}"
            ]
          },
          "metadata": {},
          "execution_count": 15
        }
      ],
      "source": [
        "autovalores_simplificados"
      ]
    },
    {
      "cell_type": "markdown",
      "metadata": {
        "id": "kZWZu8BRwG2h"
      },
      "source": [
        "# Pytorch\n",
        "\n",
        "Definción de una matrix de tres formas:\n",
        "Hasta ahora sabemos definir matrices como objetos de numpy y objetos de sympy, en la actualidad, el rápido crecimiento de las unidades de procesamiento gráfico GPU,  permite definir otro tipo de objetos que pueden acelerar el computo computacional.\n",
        "\n",
        "\n",
        "- Como objeto de numpy\n",
        "- Como objeto de sympy\n",
        "- Como objeto de pytorch\n",
        "\n",
        "\n",
        "La velocidad de ejecución entre PyTorch y Numpy puede variar dependiendo del tamaño de los datos y si se está utilizando o no la aceleración por GPU. Para operaciones con matrices pequeñas y cálculos que no requieren de la paralelización de una GPU, Numpy puede ser más rápido porque opera directamente en la CPU y la memoria principal. Sin embargo, para matrices grandes y operaciones que pueden ser paralelizadas, PyTorch con soporte de GPU puede ser significativamente más rápido.\n",
        "\n",
        "Comparativa de comandos de ejecución entre pytorch, numpy  y sympy\n",
        "\n",
        "\n",
        "| Operación | PyTorch | Numpy | SymPy |\n",
        "|-----------|---------|-------|-------|\n",
        "| Creación de una matriz | `torch.tensor([[1, 2], [3, 4]])` | `np.array([[1, 2], [3, 4]])` | `Matrix([[1, 2], [3, 4]])` |\n",
        "| Transposición de una matriz | `torch.transpose(A, 0, 1)` | `A.T` o `np.transpose(A)` | `A.T` |\n",
        "| Multiplicación de matrices | `torch.matmul(A, B)` | `np.dot(A, B)` o `A @ B` | `A * B` |\n",
        "| Inversa de una matriz | `torch.inverse(A)` | `np.linalg.inv(A)` | `A**-1` |\n",
        "| Determinante de una matriz | `torch.det(A)` | `np.linalg.det(A)` | `A.det()` |\n",
        "| Autovalores y autovectores | `torch.eig(A, eigenvectors=True)` | `np.linalg.eig(A)` | `A.eigenvals()`, `A.eigenvects()` |\n",
        "\n"
      ]
    },
    {
      "cell_type": "markdown",
      "metadata": {
        "id": "0IZOos3VztQS"
      },
      "source": [
        "Ejemplo básico del comparativo de un problema de algebra lineal, rotación de un vector:"
      ]
    },
    {
      "cell_type": "code",
      "execution_count": 16,
      "metadata": {
        "id": "Ve2Qic9ttIkE"
      },
      "outputs": [],
      "source": [
        "\n",
        "def matrixA(theta, tipo=\"numpy\"):\n",
        "  if(tipo==\"np\"):\n",
        "    return np.array([[np.cos(theta),-np.sin(theta)],[np.sin(theta), np.cos(theta)]])\n",
        "  elif(tipo==\"sp\"):\n",
        "    return np.array([[sp.cos(theta),-sp.sin(theta)],[sp.sin(theta), sp.cos(theta)]])\n",
        "\n",
        "  elif(tipo==\"pt\"):\n",
        "    return pt.tensor([[np.cos(theta),-np.sin(theta)],[np.sin(theta), np.cos(theta)]])\n",
        "\n",
        "  else:\n",
        "\n",
        "    print(\"Define el tipo de variable que desea\")\n"
      ]
    },
    {
      "cell_type": "code",
      "execution_count": 17,
      "metadata": {
        "colab": {
          "base_uri": "https://localhost:8080/",
          "height": 58
        },
        "id": "6pvCFzl7uDm3",
        "outputId": "eb909028-237a-47ee-b4b3-1b973b90c8ea"
      },
      "outputs": [
        {
          "output_type": "execute_result",
          "data": {
            "text/plain": [
              "Matrix([\n",
              "[0.707106781186548, -0.707106781186547],\n",
              "[0.707106781186547,  0.707106781186548]])"
            ],
            "text/latex": "$\\displaystyle \\left[\\begin{matrix}0.707106781186548 & -0.707106781186547\\\\0.707106781186547 & 0.707106781186548\\end{matrix}\\right]$"
          },
          "metadata": {},
          "execution_count": 17
        }
      ],
      "source": [
        "x = sp.Symbol(\"x\")\n",
        "M = sp.Matrix(matrixA(np.pi/4, tipo=\"sp\"))\n",
        "M"
      ]
    },
    {
      "cell_type": "code",
      "execution_count": 18,
      "metadata": {
        "colab": {
          "base_uri": "https://localhost:8080/"
        },
        "id": "brk8Daew2EmP",
        "outputId": "6fa78c52-90a1-4aaa-c6f6-8e37e6cf07c1"
      },
      "outputs": [
        {
          "output_type": "execute_result",
          "data": {
            "text/plain": [
              "array([[ 0.707107, -0.707107],\n",
              "       [ 0.707107,  0.707107]])"
            ]
          },
          "metadata": {},
          "execution_count": 18
        }
      ],
      "source": [
        "x=np.pi/4\n",
        "M = matrixA(x, tipo=\"np\")\n",
        "M"
      ]
    },
    {
      "cell_type": "code",
      "execution_count": 19,
      "metadata": {
        "colab": {
          "base_uri": "https://localhost:8080/"
        },
        "id": "Z-6fzFXrvbgL",
        "outputId": "28739908-e4e0-40a9-ec66-c32b961a8da3"
      },
      "outputs": [
        {
          "output_type": "execute_result",
          "data": {
            "text/plain": [
              "array([[ 0.707107, -0.707107],\n",
              "       [ 0.707107,  0.707107]])"
            ]
          },
          "metadata": {},
          "execution_count": 19
        }
      ],
      "source": [
        "matrixA(x, tipo=\"pt\")\n",
        "M"
      ]
    },
    {
      "cell_type": "markdown",
      "metadata": {
        "id": "b-IQVSe3CAp6"
      },
      "source": [
        "Actividad: Resolver el problema de la potencia de una matriz empleando pytorch, construir."
      ]
    },
    {
      "cell_type": "code",
      "execution_count": 20,
      "metadata": {
        "id": "jiAATXj8CFsk",
        "colab": {
          "base_uri": "https://localhost:8080/"
        },
        "outputId": "becbc9bd-d2bd-493f-f8e3-2ab96cad63aa"
      },
      "outputs": [
        {
          "output_type": "stream",
          "name": "stdout",
          "text": [
            "La matriz A elevada a la 6 usando la funcion da como resultado\n",
            "tensor([[ 2123.6686,    43.6687,  2015.9999],\n",
            "        [-2059.6686,    20.3313, -2015.9999],\n",
            "        [ 1972.3312,   -43.6687,  2079.9999]], dtype=torch.float64)\n",
            "El valor esperado de la matriz A elevada a la 6 da como resultado\n",
            "[[ 1888  -192  2016]\n",
            " [-1824   256 -2016]\n",
            " [ 2208   192  2080]]\n"
          ]
        }
      ],
      "source": [
        "# Definimos la funcion para elevar una matriz A a una potencia n empleando pytorch\n",
        "def pot_matriz_Torch(A, n):\n",
        "  # Si la matriz ingresada no esta definida con Torch la redefinimos\n",
        "  A = pt.tensor(A, dtype = float)\n",
        "\n",
        "  # Calculemos los autovalores y autovectores de A\n",
        "  autovalores, autovectores = pt.linalg.eig(A)\n",
        "  # Definimos la matriz de cambio de base con los autovectores de A como sus columnas\n",
        "  U = autovectores.real.clone()\n",
        "\n",
        "  # Calculamos la matriz diagonal D\n",
        "  D = pt.matmul(pt.matmul(pt.inverse(U), A), U)\n",
        "\n",
        "  # Calculamos A^n\n",
        "  An = pt.matmul(pt.matmul(U, D**n), pt.inverse(U))\n",
        "\n",
        "  np.set_printoptions(suppress=True, precision=6)\n",
        "  return An\n",
        "\n",
        "# Probemos nuestra funcion\n",
        "A = np.matrix([[2, -1, 1],\n",
        "               [0, 3, -1],\n",
        "               [2, 1, 3]])\n",
        "\n",
        "# Calculamos A^6 con la funcion y multiplicando A 6 veces\n",
        "A6c = pot_matriz_Torch(A, 6)\n",
        "A6e = A @ A @ A @ A @ A @ A\n",
        "\n",
        "# Vemos la comparacion de los resultados\n",
        "print('La matriz A elevada a la 6 usando la funcion da como resultado')\n",
        "print(A6c)\n",
        "print('El valor esperado de la matriz A elevada a la 6 da como resultado')\n",
        "print(A6e)"
      ]
    },
    {
      "cell_type": "markdown",
      "source": [
        "Profe dan diferentes pero no entiendo por qué y no veo algún error en el código."
      ],
      "metadata": {
        "id": "IjU62BCiBhrM"
      }
    },
    {
      "cell_type": "code",
      "source": [],
      "metadata": {
        "id": "WMaE93IuAIOb"
      },
      "execution_count": 20,
      "outputs": []
    }
  ],
  "metadata": {
    "colab": {
      "provenance": []
    },
    "kernelspec": {
      "display_name": "Python 3",
      "name": "python3"
    },
    "language_info": {
      "name": "python",
      "version": "3.9.18"
    }
  },
  "nbformat": 4,
  "nbformat_minor": 0
}