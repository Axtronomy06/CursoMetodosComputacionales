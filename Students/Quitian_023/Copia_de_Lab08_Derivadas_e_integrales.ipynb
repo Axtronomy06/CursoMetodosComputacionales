{
  "cells": [
    {
      "cell_type": "markdown",
      "metadata": {
        "id": "ruI2PnfWDNnh"
      },
      "source": [
        "<a href=\"https://colab.research.google.com/github/hernansalinas/autogrades/blob/main/Laboratorios_Taller/Lab08_Derivadas_e_integrales.ipynb\" target=\"_parent\"><img src=\"https://colab.research.google.com/assets/colab-badge.svg\" alt=\"Open In Colab\"/></a>"
      ]
    },
    {
      "cell_type": "code",
      "execution_count": 1,
      "metadata": {
        "id": "J5O5W6xbuoZS"
      },
      "outputs": [],
      "source": [
        "# Librerias\n",
        "import numpy as np\n",
        "import matplotlib.pyplot as plt\n",
        "import pandas as pd\n",
        "import scipy as sc\n",
        "import sympy as sp"
      ]
    },
    {
      "cell_type": "markdown",
      "metadata": {
        "id": "mjVxBoseufI6"
      },
      "source": [
        "## Parte 1\n",
        "\n",
        "En un cirtcuito con un voltaje de  $\\varepsilon(t)$ y una inductancia de L, la primera ley de kirshhoff nos da la siguiente relación\n",
        "\n",
        "\\begin{equation}\n",
        "\\varepsilon(t) = L\\frac{\\mathrm{d}i}{\\mathrm{d}t} + Ri\n",
        "\\end{equation}\n",
        "\n",
        "donde $R$, es la resistencia del ciruito, $I$ es la corriente. Suponga que medimos la corriente con varios valores de $t$ y obtenemos:\n",
        "\n",
        "``t = 1.00, 1.01, 1.02, 1.03, 1.04``\n",
        "\n",
        "``i = 3.10, 3.12, 3.14, 3.18, 3.24``\n",
        "\n",
        "\n",
        "donde $t$ se mide en segundos, $I$ se da en Amperios, la inductancia $L$ es una constante de 0.98 H, la resistencia es de 0.142 $\\Omega$. Aproxime el votaje  $\\varepsilon(t)$ en los valores t=1.00, 1.01, 1.02, 1.03, 1.04 ,  para ello realice lo siguiente:\n",
        "\n",
        "\n",
        "- Construya un data frame de pandas con los valores de tiempo y corriente\n",
        "- Emplee un metodo calcular la derivada numérica."
      ]
    },
    {
      "cell_type": "code",
      "execution_count": 2,
      "metadata": {
        "colab": {
          "base_uri": "https://localhost:8080/",
          "height": 206
        },
        "id": "aMYmHQZ1Dkze",
        "outputId": "d6403eee-27e7-47c0-e45e-8c0893b11079"
      },
      "outputs": [
        {
          "output_type": "execute_result",
          "data": {
            "text/plain": [
              "   Tiempo (s)  Corriente (A)\n",
              "0        1.00           3.10\n",
              "1        1.01           3.12\n",
              "2        1.02           3.14\n",
              "3        1.03           3.18\n",
              "4        1.04           3.24"
            ],
            "text/html": [
              "\n",
              "  <div id=\"df-b876b800-2911-434e-9d83-63fb75a9ed4e\" class=\"colab-df-container\">\n",
              "    <div>\n",
              "<style scoped>\n",
              "    .dataframe tbody tr th:only-of-type {\n",
              "        vertical-align: middle;\n",
              "    }\n",
              "\n",
              "    .dataframe tbody tr th {\n",
              "        vertical-align: top;\n",
              "    }\n",
              "\n",
              "    .dataframe thead th {\n",
              "        text-align: right;\n",
              "    }\n",
              "</style>\n",
              "<table border=\"1\" class=\"dataframe\">\n",
              "  <thead>\n",
              "    <tr style=\"text-align: right;\">\n",
              "      <th></th>\n",
              "      <th>Tiempo (s)</th>\n",
              "      <th>Corriente (A)</th>\n",
              "    </tr>\n",
              "  </thead>\n",
              "  <tbody>\n",
              "    <tr>\n",
              "      <th>0</th>\n",
              "      <td>1.00</td>\n",
              "      <td>3.10</td>\n",
              "    </tr>\n",
              "    <tr>\n",
              "      <th>1</th>\n",
              "      <td>1.01</td>\n",
              "      <td>3.12</td>\n",
              "    </tr>\n",
              "    <tr>\n",
              "      <th>2</th>\n",
              "      <td>1.02</td>\n",
              "      <td>3.14</td>\n",
              "    </tr>\n",
              "    <tr>\n",
              "      <th>3</th>\n",
              "      <td>1.03</td>\n",
              "      <td>3.18</td>\n",
              "    </tr>\n",
              "    <tr>\n",
              "      <th>4</th>\n",
              "      <td>1.04</td>\n",
              "      <td>3.24</td>\n",
              "    </tr>\n",
              "  </tbody>\n",
              "</table>\n",
              "</div>\n",
              "    <div class=\"colab-df-buttons\">\n",
              "\n",
              "  <div class=\"colab-df-container\">\n",
              "    <button class=\"colab-df-convert\" onclick=\"convertToInteractive('df-b876b800-2911-434e-9d83-63fb75a9ed4e')\"\n",
              "            title=\"Convert this dataframe to an interactive table.\"\n",
              "            style=\"display:none;\">\n",
              "\n",
              "  <svg xmlns=\"http://www.w3.org/2000/svg\" height=\"24px\" viewBox=\"0 -960 960 960\">\n",
              "    <path d=\"M120-120v-720h720v720H120Zm60-500h600v-160H180v160Zm220 220h160v-160H400v160Zm0 220h160v-160H400v160ZM180-400h160v-160H180v160Zm440 0h160v-160H620v160ZM180-180h160v-160H180v160Zm440 0h160v-160H620v160Z\"/>\n",
              "  </svg>\n",
              "    </button>\n",
              "\n",
              "  <style>\n",
              "    .colab-df-container {\n",
              "      display:flex;\n",
              "      gap: 12px;\n",
              "    }\n",
              "\n",
              "    .colab-df-convert {\n",
              "      background-color: #E8F0FE;\n",
              "      border: none;\n",
              "      border-radius: 50%;\n",
              "      cursor: pointer;\n",
              "      display: none;\n",
              "      fill: #1967D2;\n",
              "      height: 32px;\n",
              "      padding: 0 0 0 0;\n",
              "      width: 32px;\n",
              "    }\n",
              "\n",
              "    .colab-df-convert:hover {\n",
              "      background-color: #E2EBFA;\n",
              "      box-shadow: 0px 1px 2px rgba(60, 64, 67, 0.3), 0px 1px 3px 1px rgba(60, 64, 67, 0.15);\n",
              "      fill: #174EA6;\n",
              "    }\n",
              "\n",
              "    .colab-df-buttons div {\n",
              "      margin-bottom: 4px;\n",
              "    }\n",
              "\n",
              "    [theme=dark] .colab-df-convert {\n",
              "      background-color: #3B4455;\n",
              "      fill: #D2E3FC;\n",
              "    }\n",
              "\n",
              "    [theme=dark] .colab-df-convert:hover {\n",
              "      background-color: #434B5C;\n",
              "      box-shadow: 0px 1px 3px 1px rgba(0, 0, 0, 0.15);\n",
              "      filter: drop-shadow(0px 1px 2px rgba(0, 0, 0, 0.3));\n",
              "      fill: #FFFFFF;\n",
              "    }\n",
              "  </style>\n",
              "\n",
              "    <script>\n",
              "      const buttonEl =\n",
              "        document.querySelector('#df-b876b800-2911-434e-9d83-63fb75a9ed4e button.colab-df-convert');\n",
              "      buttonEl.style.display =\n",
              "        google.colab.kernel.accessAllowed ? 'block' : 'none';\n",
              "\n",
              "      async function convertToInteractive(key) {\n",
              "        const element = document.querySelector('#df-b876b800-2911-434e-9d83-63fb75a9ed4e');\n",
              "        const dataTable =\n",
              "          await google.colab.kernel.invokeFunction('convertToInteractive',\n",
              "                                                    [key], {});\n",
              "        if (!dataTable) return;\n",
              "\n",
              "        const docLinkHtml = 'Like what you see? Visit the ' +\n",
              "          '<a target=\"_blank\" href=https://colab.research.google.com/notebooks/data_table.ipynb>data table notebook</a>'\n",
              "          + ' to learn more about interactive tables.';\n",
              "        element.innerHTML = '';\n",
              "        dataTable['output_type'] = 'display_data';\n",
              "        await google.colab.output.renderOutput(dataTable, element);\n",
              "        const docLink = document.createElement('div');\n",
              "        docLink.innerHTML = docLinkHtml;\n",
              "        element.appendChild(docLink);\n",
              "      }\n",
              "    </script>\n",
              "  </div>\n",
              "\n",
              "\n",
              "<div id=\"df-996bbc82-887d-41bb-ab25-1afd725dddb1\">\n",
              "  <button class=\"colab-df-quickchart\" onclick=\"quickchart('df-996bbc82-887d-41bb-ab25-1afd725dddb1')\"\n",
              "            title=\"Suggest charts\"\n",
              "            style=\"display:none;\">\n",
              "\n",
              "<svg xmlns=\"http://www.w3.org/2000/svg\" height=\"24px\"viewBox=\"0 0 24 24\"\n",
              "     width=\"24px\">\n",
              "    <g>\n",
              "        <path d=\"M19 3H5c-1.1 0-2 .9-2 2v14c0 1.1.9 2 2 2h14c1.1 0 2-.9 2-2V5c0-1.1-.9-2-2-2zM9 17H7v-7h2v7zm4 0h-2V7h2v10zm4 0h-2v-4h2v4z\"/>\n",
              "    </g>\n",
              "</svg>\n",
              "  </button>\n",
              "\n",
              "<style>\n",
              "  .colab-df-quickchart {\n",
              "      --bg-color: #E8F0FE;\n",
              "      --fill-color: #1967D2;\n",
              "      --hover-bg-color: #E2EBFA;\n",
              "      --hover-fill-color: #174EA6;\n",
              "      --disabled-fill-color: #AAA;\n",
              "      --disabled-bg-color: #DDD;\n",
              "  }\n",
              "\n",
              "  [theme=dark] .colab-df-quickchart {\n",
              "      --bg-color: #3B4455;\n",
              "      --fill-color: #D2E3FC;\n",
              "      --hover-bg-color: #434B5C;\n",
              "      --hover-fill-color: #FFFFFF;\n",
              "      --disabled-bg-color: #3B4455;\n",
              "      --disabled-fill-color: #666;\n",
              "  }\n",
              "\n",
              "  .colab-df-quickchart {\n",
              "    background-color: var(--bg-color);\n",
              "    border: none;\n",
              "    border-radius: 50%;\n",
              "    cursor: pointer;\n",
              "    display: none;\n",
              "    fill: var(--fill-color);\n",
              "    height: 32px;\n",
              "    padding: 0;\n",
              "    width: 32px;\n",
              "  }\n",
              "\n",
              "  .colab-df-quickchart:hover {\n",
              "    background-color: var(--hover-bg-color);\n",
              "    box-shadow: 0 1px 2px rgba(60, 64, 67, 0.3), 0 1px 3px 1px rgba(60, 64, 67, 0.15);\n",
              "    fill: var(--button-hover-fill-color);\n",
              "  }\n",
              "\n",
              "  .colab-df-quickchart-complete:disabled,\n",
              "  .colab-df-quickchart-complete:disabled:hover {\n",
              "    background-color: var(--disabled-bg-color);\n",
              "    fill: var(--disabled-fill-color);\n",
              "    box-shadow: none;\n",
              "  }\n",
              "\n",
              "  .colab-df-spinner {\n",
              "    border: 2px solid var(--fill-color);\n",
              "    border-color: transparent;\n",
              "    border-bottom-color: var(--fill-color);\n",
              "    animation:\n",
              "      spin 1s steps(1) infinite;\n",
              "  }\n",
              "\n",
              "  @keyframes spin {\n",
              "    0% {\n",
              "      border-color: transparent;\n",
              "      border-bottom-color: var(--fill-color);\n",
              "      border-left-color: var(--fill-color);\n",
              "    }\n",
              "    20% {\n",
              "      border-color: transparent;\n",
              "      border-left-color: var(--fill-color);\n",
              "      border-top-color: var(--fill-color);\n",
              "    }\n",
              "    30% {\n",
              "      border-color: transparent;\n",
              "      border-left-color: var(--fill-color);\n",
              "      border-top-color: var(--fill-color);\n",
              "      border-right-color: var(--fill-color);\n",
              "    }\n",
              "    40% {\n",
              "      border-color: transparent;\n",
              "      border-right-color: var(--fill-color);\n",
              "      border-top-color: var(--fill-color);\n",
              "    }\n",
              "    60% {\n",
              "      border-color: transparent;\n",
              "      border-right-color: var(--fill-color);\n",
              "    }\n",
              "    80% {\n",
              "      border-color: transparent;\n",
              "      border-right-color: var(--fill-color);\n",
              "      border-bottom-color: var(--fill-color);\n",
              "    }\n",
              "    90% {\n",
              "      border-color: transparent;\n",
              "      border-bottom-color: var(--fill-color);\n",
              "    }\n",
              "  }\n",
              "</style>\n",
              "\n",
              "  <script>\n",
              "    async function quickchart(key) {\n",
              "      const quickchartButtonEl =\n",
              "        document.querySelector('#' + key + ' button');\n",
              "      quickchartButtonEl.disabled = true;  // To prevent multiple clicks.\n",
              "      quickchartButtonEl.classList.add('colab-df-spinner');\n",
              "      try {\n",
              "        const charts = await google.colab.kernel.invokeFunction(\n",
              "            'suggestCharts', [key], {});\n",
              "      } catch (error) {\n",
              "        console.error('Error during call to suggestCharts:', error);\n",
              "      }\n",
              "      quickchartButtonEl.classList.remove('colab-df-spinner');\n",
              "      quickchartButtonEl.classList.add('colab-df-quickchart-complete');\n",
              "    }\n",
              "    (() => {\n",
              "      let quickchartButtonEl =\n",
              "        document.querySelector('#df-996bbc82-887d-41bb-ab25-1afd725dddb1 button');\n",
              "      quickchartButtonEl.style.display =\n",
              "        google.colab.kernel.accessAllowed ? 'block' : 'none';\n",
              "    })();\n",
              "  </script>\n",
              "</div>\n",
              "    </div>\n",
              "  </div>\n"
            ],
            "application/vnd.google.colaboratory.intrinsic+json": {
              "type": "dataframe",
              "variable_name": "df",
              "summary": "{\n  \"name\": \"df\",\n  \"rows\": 5,\n  \"fields\": [\n    {\n      \"column\": \"Tiempo (s)\",\n      \"properties\": {\n        \"dtype\": \"number\",\n        \"std\": 0.01581138830084191,\n        \"min\": 1.0,\n        \"max\": 1.04,\n        \"num_unique_values\": 5,\n        \"samples\": [\n          1.01,\n          1.04,\n          1.02\n        ],\n        \"semantic_type\": \"\",\n        \"description\": \"\"\n      }\n    },\n    {\n      \"column\": \"Corriente (A)\",\n      \"properties\": {\n        \"dtype\": \"number\",\n        \"std\": 0.055497747702046483,\n        \"min\": 3.1,\n        \"max\": 3.24,\n        \"num_unique_values\": 5,\n        \"samples\": [\n          3.12,\n          3.24,\n          3.14\n        ],\n        \"semantic_type\": \"\",\n        \"description\": \"\"\n      }\n    }\n  ]\n}"
            }
          },
          "metadata": {},
          "execution_count": 2
        }
      ],
      "source": [
        "# Definimos nuestros valores\n",
        "L = 0.98\n",
        "R = 0.142\n",
        "\n",
        "t = np.array([1, 1.01, 1.02, 1.03, 1.04])\n",
        "I = np.array([3.10, 3.12, 3.14, 3.18, 3.24])\n",
        "\n",
        "# DataFrame\n",
        "dicc = {'Tiempo (s)':t, 'Corriente (A)':I}\n",
        "df = pd.DataFrame(dicc)\n",
        "df"
      ]
    },
    {
      "cell_type": "code",
      "execution_count": 3,
      "metadata": {
        "colab": {
          "base_uri": "https://localhost:8080/",
          "height": 472
        },
        "id": "phB7p7iXDr5k",
        "outputId": "37b79ec1-1c3b-46b4-e764-6170311e5906"
      },
      "outputs": [
        {
          "output_type": "display_data",
          "data": {
            "text/plain": [
              "<Figure size 640x480 with 1 Axes>"
            ],
            "image/png": "[encoded data removed]"
          },
          "metadata": {}
        }
      ],
      "source": [
        "# Graficamos la corriente en el tiempo\n",
        "plt.title('Comportamiento de la corriente en el tiempo')\n",
        "plt.plot(df['Tiempo (s)'], df['Corriente (A)'], 'o-', label = '$I(t)$')\n",
        "plt.xlabel('Tiempo (s)')\n",
        "plt.ylabel('Corriente (A)')\n",
        "plt.legend()\n",
        "plt.grid()"
      ]
    },
    {
      "cell_type": "code",
      "execution_count": 4,
      "metadata": {
        "colab": {
          "base_uri": "https://localhost:8080/"
        },
        "id": "x65SqwVMDuiE",
        "outputId": "fe73f20d-af7c-4a9c-b0d5-7a931c3f5003"
      },
      "outputs": [
        {
          "output_type": "execute_result",
          "data": {
            "text/plain": [
              "array([2., 2., 3., 5., 6.])"
            ]
          },
          "metadata": {},
          "execution_count": 4
        }
      ],
      "source": [
        "# Calculemos la derivada de I\n",
        "\n",
        "dI = np.gradient(I, t)\n",
        "dI"
      ]
    },
    {
      "cell_type": "code",
      "execution_count": 5,
      "metadata": {
        "colab": {
          "base_uri": "https://localhost:8080/"
        },
        "id": "tbZ_k5AhEWlK",
        "outputId": "b0772b91-b1a7-4e11-a359-6080b85ef5ae"
      },
      "outputs": [
        {
          "output_type": "execute_result",
          "data": {
            "text/plain": [
              "array([2., 2., 4., 6.])"
            ]
          },
          "metadata": {},
          "execution_count": 5
        }
      ],
      "source": [
        "# Otra forma\n",
        "di = np.diff(I)\n",
        "dt = np.diff(t)\n",
        "d = di/dt\n",
        "d"
      ]
    },
    {
      "cell_type": "code",
      "execution_count": 6,
      "metadata": {
        "colab": {
          "base_uri": "https://localhost:8080/",
          "height": 206
        },
        "id": "NpU5SAYIEXCs",
        "outputId": "b95ccd53-7d49-45e4-e98d-e53f275dd196"
      },
      "outputs": [
        {
          "output_type": "execute_result",
          "data": {
            "text/plain": [
              "   Tiempo (s)  Corriente (A)  fem (V)\n",
              "0        1.00           3.10  2.40020\n",
              "1        1.01           3.12  2.40304\n",
              "2        1.02           3.14  3.38588\n",
              "3        1.03           3.18  5.35156\n",
              "4        1.04           3.24  6.34008"
            ],
            "text/html": [
              "\n",
              "  <div id=\"df-fc420a8e-2765-4906-845f-a66832b9f9a6\" class=\"colab-df-container\">\n",
              "    <div>\n",
              "<style scoped>\n",
              "    .dataframe tbody tr th:only-of-type {\n",
              "        vertical-align: middle;\n",
              "    }\n",
              "\n",
              "    .dataframe tbody tr th {\n",
              "        vertical-align: top;\n",
              "    }\n",
              "\n",
              "    .dataframe thead th {\n",
              "        text-align: right;\n",
              "    }\n",
              "</style>\n",
              "<table border=\"1\" class=\"dataframe\">\n",
              "  <thead>\n",
              "    <tr style=\"text-align: right;\">\n",
              "      <th></th>\n",
              "      <th>Tiempo (s)</th>\n",
              "      <th>Corriente (A)</th>\n",
              "      <th>fem (V)</th>\n",
              "    </tr>\n",
              "  </thead>\n",
              "  <tbody>\n",
              "    <tr>\n",
              "      <th>0</th>\n",
              "      <td>1.00</td>\n",
              "      <td>3.10</td>\n",
              "      <td>2.40020</td>\n",
              "    </tr>\n",
              "    <tr>\n",
              "      <th>1</th>\n",
              "      <td>1.01</td>\n",
              "      <td>3.12</td>\n",
              "      <td>2.40304</td>\n",
              "    </tr>\n",
              "    <tr>\n",
              "      <th>2</th>\n",
              "      <td>1.02</td>\n",
              "      <td>3.14</td>\n",
              "      <td>3.38588</td>\n",
              "    </tr>\n",
              "    <tr>\n",
              "      <th>3</th>\n",
              "      <td>1.03</td>\n",
              "      <td>3.18</td>\n",
              "      <td>5.35156</td>\n",
              "    </tr>\n",
              "    <tr>\n",
              "      <th>4</th>\n",
              "      <td>1.04</td>\n",
              "      <td>3.24</td>\n",
              "      <td>6.34008</td>\n",
              "    </tr>\n",
              "  </tbody>\n",
              "</table>\n",
              "</div>\n",
              "    <div class=\"colab-df-buttons\">\n",
              "\n",
              "  <div class=\"colab-df-container\">\n",
              "    <button class=\"colab-df-convert\" onclick=\"convertToInteractive('df-fc420a8e-2765-4906-845f-a66832b9f9a6')\"\n",
              "            title=\"Convert this dataframe to an interactive table.\"\n",
              "            style=\"display:none;\">\n",
              "\n",
              "  <svg xmlns=\"http://www.w3.org/2000/svg\" height=\"24px\" viewBox=\"0 -960 960 960\">\n",
              "    <path d=\"M120-120v-720h720v720H120Zm60-500h600v-160H180v160Zm220 220h160v-160H400v160Zm0 220h160v-160H400v160ZM180-400h160v-160H180v160Zm440 0h160v-160H620v160ZM180-180h160v-160H180v160Zm440 0h160v-160H620v160Z\"/>\n",
              "  </svg>\n",
              "    </button>\n",
              "\n",
              "  <style>\n",
              "    .colab-df-container {\n",
              "      display:flex;\n",
              "      gap: 12px;\n",
              "    }\n",
              "\n",
              "    .colab-df-convert {\n",
              "      background-color: #E8F0FE;\n",
              "      border: none;\n",
              "      border-radius: 50%;\n",
              "      cursor: pointer;\n",
              "      display: none;\n",
              "      fill: #1967D2;\n",
              "      height: 32px;\n",
              "      padding: 0 0 0 0;\n",
              "      width: 32px;\n",
              "    }\n",
              "\n",
              "    .colab-df-convert:hover {\n",
              "      background-color: #E2EBFA;\n",
              "      box-shadow: 0px 1px 2px rgba(60, 64, 67, 0.3), 0px 1px 3px 1px rgba(60, 64, 67, 0.15);\n",
              "      fill: #174EA6;\n",
              "    }\n",
              "\n",
              "    .colab-df-buttons div {\n",
              "      margin-bottom: 4px;\n",
              "    }\n",
              "\n",
              "    [theme=dark] .colab-df-convert {\n",
              "      background-color: #3B4455;\n",
              "      fill: #D2E3FC;\n",
              "    }\n",
              "\n",
              "    [theme=dark] .colab-df-convert:hover {\n",
              "      background-color: #434B5C;\n",
              "      box-shadow: 0px 1px 3px 1px rgba(0, 0, 0, 0.15);\n",
              "      filter: drop-shadow(0px 1px 2px rgba(0, 0, 0, 0.3));\n",
              "      fill: #FFFFFF;\n",
              "    }\n",
              "  </style>\n",
              "\n",
              "    <script>\n",
              "      const buttonEl =\n",
              "        document.querySelector('#df-fc420a8e-2765-4906-845f-a66832b9f9a6 button.colab-df-convert');\n",
              "      buttonEl.style.display =\n",
              "        google.colab.kernel.accessAllowed ? 'block' : 'none';\n",
              "\n",
              "      async function convertToInteractive(key) {\n",
              "        const element = document.querySelector('#df-fc420a8e-2765-4906-845f-a66832b9f9a6');\n",
              "        const dataTable =\n",
              "          await google.colab.kernel.invokeFunction('convertToInteractive',\n",
              "                                                    [key], {});\n",
              "        if (!dataTable) return;\n",
              "\n",
              "        const docLinkHtml = 'Like what you see? Visit the ' +\n",
              "          '<a target=\"_blank\" href=https://colab.research.google.com/notebooks/data_table.ipynb>data table notebook</a>'\n",
              "          + ' to learn more about interactive tables.';\n",
              "        element.innerHTML = '';\n",
              "        dataTable['output_type'] = 'display_data';\n",
              "        await google.colab.output.renderOutput(dataTable, element);\n",
              "        const docLink = document.createElement('div');\n",
              "        docLink.innerHTML = docLinkHtml;\n",
              "        element.appendChild(docLink);\n",
              "      }\n",
              "    </script>\n",
              "  </div>\n",
              "\n",
              "\n",
              "<div id=\"df-c41b0263-27b7-4178-b9af-beb17d6c0909\">\n",
              "  <button class=\"colab-df-quickchart\" onclick=\"quickchart('df-c41b0263-27b7-4178-b9af-beb17d6c0909')\"\n",
              "            title=\"Suggest charts\"\n",
              "            style=\"display:none;\">\n",
              "\n",
              "<svg xmlns=\"http://www.w3.org/2000/svg\" height=\"24px\"viewBox=\"0 0 24 24\"\n",
              "     width=\"24px\">\n",
              "    <g>\n",
              "        <path d=\"M19 3H5c-1.1 0-2 .9-2 2v14c0 1.1.9 2 2 2h14c1.1 0 2-.9 2-2V5c0-1.1-.9-2-2-2zM9 17H7v-7h2v7zm4 0h-2V7h2v10zm4 0h-2v-4h2v4z\"/>\n",
              "    </g>\n",
              "</svg>\n",
              "  </button>\n",
              "\n",
              "<style>\n",
              "  .colab-df-quickchart {\n",
              "      --bg-color: #E8F0FE;\n",
              "      --fill-color: #1967D2;\n",
              "      --hover-bg-color: #E2EBFA;\n",
              "      --hover-fill-color: #174EA6;\n",
              "      --disabled-fill-color: #AAA;\n",
              "      --disabled-bg-color: #DDD;\n",
              "  }\n",
              "\n",
              "  [theme=dark] .colab-df-quickchart {\n",
              "      --bg-color: #3B4455;\n",
              "      --fill-color: #D2E3FC;\n",
              "      --hover-bg-color: #434B5C;\n",
              "      --hover-fill-color: #FFFFFF;\n",
              "      --disabled-bg-color: #3B4455;\n",
              "      --disabled-fill-color: #666;\n",
              "  }\n",
              "\n",
              "  .colab-df-quickchart {\n",
              "    background-color: var(--bg-color);\n",
              "    border: none;\n",
              "    border-radius: 50%;\n",
              "    cursor: pointer;\n",
              "    display: none;\n",
              "    fill: var(--fill-color);\n",
              "    height: 32px;\n",
              "    padding: 0;\n",
              "    width: 32px;\n",
              "  }\n",
              "\n",
              "  .colab-df-quickchart:hover {\n",
              "    background-color: var(--hover-bg-color);\n",
              "    box-shadow: 0 1px 2px rgba(60, 64, 67, 0.3), 0 1px 3px 1px rgba(60, 64, 67, 0.15);\n",
              "    fill: var(--button-hover-fill-color);\n",
              "  }\n",
              "\n",
              "  .colab-df-quickchart-complete:disabled,\n",
              "  .colab-df-quickchart-complete:disabled:hover {\n",
              "    background-color: var(--disabled-bg-color);\n",
              "    fill: var(--disabled-fill-color);\n",
              "    box-shadow: none;\n",
              "  }\n",
              "\n",
              "  .colab-df-spinner {\n",
              "    border: 2px solid var(--fill-color);\n",
              "    border-color: transparent;\n",
              "    border-bottom-color: var(--fill-color);\n",
              "    animation:\n",
              "      spin 1s steps(1) infinite;\n",
              "  }\n",
              "\n",
              "  @keyframes spin {\n",
              "    0% {\n",
              "      border-color: transparent;\n",
              "      border-bottom-color: var(--fill-color);\n",
              "      border-left-color: var(--fill-color);\n",
              "    }\n",
              "    20% {\n",
              "      border-color: transparent;\n",
              "      border-left-color: var(--fill-color);\n",
              "      border-top-color: var(--fill-color);\n",
              "    }\n",
              "    30% {\n",
              "      border-color: transparent;\n",
              "      border-left-color: var(--fill-color);\n",
              "      border-top-color: var(--fill-color);\n",
              "      border-right-color: var(--fill-color);\n",
              "    }\n",
              "    40% {\n",
              "      border-color: transparent;\n",
              "      border-right-color: var(--fill-color);\n",
              "      border-top-color: var(--fill-color);\n",
              "    }\n",
              "    60% {\n",
              "      border-color: transparent;\n",
              "      border-right-color: var(--fill-color);\n",
              "    }\n",
              "    80% {\n",
              "      border-color: transparent;\n",
              "      border-right-color: var(--fill-color);\n",
              "      border-bottom-color: var(--fill-color);\n",
              "    }\n",
              "    90% {\n",
              "      border-color: transparent;\n",
              "      border-bottom-color: var(--fill-color);\n",
              "    }\n",
              "  }\n",
              "</style>\n",
              "\n",
              "  <script>\n",
              "    async function quickchart(key) {\n",
              "      const quickchartButtonEl =\n",
              "        document.querySelector('#' + key + ' button');\n",
              "      quickchartButtonEl.disabled = true;  // To prevent multiple clicks.\n",
              "      quickchartButtonEl.classList.add('colab-df-spinner');\n",
              "      try {\n",
              "        const charts = await google.colab.kernel.invokeFunction(\n",
              "            'suggestCharts', [key], {});\n",
              "      } catch (error) {\n",
              "        console.error('Error during call to suggestCharts:', error);\n",
              "      }\n",
              "      quickchartButtonEl.classList.remove('colab-df-spinner');\n",
              "      quickchartButtonEl.classList.add('colab-df-quickchart-complete');\n",
              "    }\n",
              "    (() => {\n",
              "      let quickchartButtonEl =\n",
              "        document.querySelector('#df-c41b0263-27b7-4178-b9af-beb17d6c0909 button');\n",
              "      quickchartButtonEl.style.display =\n",
              "        google.colab.kernel.accessAllowed ? 'block' : 'none';\n",
              "    })();\n",
              "  </script>\n",
              "</div>\n",
              "    </div>\n",
              "  </div>\n"
            ],
            "application/vnd.google.colaboratory.intrinsic+json": {
              "type": "dataframe",
              "variable_name": "df",
              "summary": "{\n  \"name\": \"df\",\n  \"rows\": 5,\n  \"fields\": [\n    {\n      \"column\": \"Tiempo (s)\",\n      \"properties\": {\n        \"dtype\": \"number\",\n        \"std\": 0.01581138830084191,\n        \"min\": 1.0,\n        \"max\": 1.04,\n        \"num_unique_values\": 5,\n        \"samples\": [\n          1.01,\n          1.04,\n          1.02\n        ],\n        \"semantic_type\": \"\",\n        \"description\": \"\"\n      }\n    },\n    {\n      \"column\": \"Corriente (A)\",\n      \"properties\": {\n        \"dtype\": \"number\",\n        \"std\": 0.055497747702046483,\n        \"min\": 3.1,\n        \"max\": 3.24,\n        \"num_unique_values\": 5,\n        \"samples\": [\n          3.12,\n          3.24,\n          3.14\n        ],\n        \"semantic_type\": \"\",\n        \"description\": \"\"\n      }\n    },\n    {\n      \"column\": \"fem (V)\",\n      \"properties\": {\n        \"dtype\": \"number\",\n        \"std\": 1.7879198710009347,\n        \"min\": 2.4002,\n        \"max\": 6.3400799999999995,\n        \"num_unique_values\": 5,\n        \"samples\": [\n          2.40304,\n          6.3400799999999995,\n          3.38588\n        ],\n        \"semantic_type\": \"\",\n        \"description\": \"\"\n      }\n    }\n  ]\n}"
            }
          },
          "metadata": {},
          "execution_count": 6
        }
      ],
      "source": [
        "# Calculamos el valor de la fem\n",
        "e = L*dI + R*I\n",
        "df['fem (V)'] = e\n",
        "df"
      ]
    },
    {
      "cell_type": "code",
      "execution_count": 7,
      "metadata": {
        "colab": {
          "base_uri": "https://localhost:8080/",
          "height": 450
        },
        "id": "MWK4yCiCEbOF",
        "outputId": "06764db7-8c58-4302-ce25-27296e97cbeb"
      },
      "outputs": [
        {
          "output_type": "execute_result",
          "data": {
            "text/plain": [
              "[<matplotlib.lines.Line2D at 0x7c5fe3e397b0>]"
            ]
          },
          "metadata": {},
          "execution_count": 7
        },
        {
          "output_type": "display_data",
          "data": {
            "text/plain": [
              "<Figure size 640x480 with 2 Axes>"
            ],
            "image/png": "[encoded data removed]"
          },
          "metadata": {}
        }
      ],
      "source": [
        "fig, axs = plt.subplots(1, 2)\n",
        "\n",
        "axs[0].plot(df['Tiempo (s)'], df['Corriente (A)'], 'ro-', label = '$I(t)$')\n",
        "axs[1].plot(df['Tiempo (s)'], df['fem (V)'], 'bo-', label = 'ε(t)')\n"
      ]
    },
    {
      "cell_type": "code",
      "execution_count": 8,
      "metadata": {
        "colab": {
          "base_uri": "https://localhost:8080/",
          "height": 472
        },
        "id": "j67g5UA-Edyc",
        "outputId": "f231779f-12cd-4881-d15f-214ba8e49a9c"
      },
      "outputs": [
        {
          "output_type": "display_data",
          "data": {
            "text/plain": [
              "<Figure size 640x480 with 1 Axes>"
            ],
            "image/png": "[encoded data removed]"
          },
          "metadata": {}
        }
      ],
      "source": [
        "l = sc.interpolate.lagrange(t, I)\n",
        "\n",
        "x = np.linspace(np.min(t), np.max(t), 1000)\n",
        "\n",
        "plt.title('Interpolacion de los datos')\n",
        "plt.plot(x, l(x), 'g', label = 'Interpolacion')\n",
        "plt.plot(t,I, 'ro-', label = 'Datos')\n",
        "plt.xlabel('Tiempo (s)')\n",
        "plt.ylabel('Corriente (A)')\n",
        "plt.legend()\n",
        "plt.grid()"
      ]
    },
    {
      "cell_type": "code",
      "execution_count": 9,
      "metadata": {
        "colab": {
          "base_uri": "https://localhost:8080/",
          "height": 510
        },
        "id": "a5nq6_PQEgcf",
        "outputId": "9300e1aa-e0b9-4bd2-af76-968ad976e6ba"
      },
      "outputs": [
        {
          "output_type": "stream",
          "name": "stderr",
          "text": [
            "WARNING:matplotlib.legend:No artists with labels found to put in legend.  Note that artists whose label start with an underscore are ignored when legend() is called with no argument.\n"
          ]
        },
        {
          "output_type": "display_data",
          "data": {
            "text/plain": [
              "<Figure size 640x480 with 1 Axes>"
            ],
            "image/png": "[encoded data removed]"
          },
          "metadata": {}
        }
      ],
      "source": [
        "def diff_f(f, x, h):\n",
        "\n",
        "  d = (-25*f(x) + 48*f(x+h)- 36*f(x+2*h) + 16*f(x+3*h) -3*f(x+4*h))/(12*h)\n",
        "\n",
        "  return d\n",
        "\n",
        "d = diff_f(l, x, x[1]-x[0])\n",
        "\n",
        "plt.title('Comportamiento de la corriente y la fem en el tiempo')\n",
        "plt.plot(x, d, label = '')\n",
        "plt.plot(t, dI, label = '')\n",
        "plt.xlabel('Tiempo (s)')\n",
        "plt.ylabel('Corriente (A)')\n",
        "plt.legend()\n",
        "plt.grid()"
      ]
    },
    {
      "cell_type": "markdown",
      "metadata": {
        "id": "yyh50GiIux2j"
      },
      "source": [
        "## Parte 2\n",
        "1. Escribir en código Markdown la expresión para calcular una integral con la regla del trapecio.\n",
        "\n",
        "2. Escribir en código Markdown la expresión para calcular una integral con la regla del simpson.\n",
        "\n",
        "3. Escribir en código Markdown la expresión para calcular una integral con el metodo de cuadratura.\n",
        "\n",
        "4. Calcular una aproximación con el metodo 1,2,3 de las siguientes integrales"
      ]
    },
    {
      "cell_type": "markdown",
      "metadata": {
        "id": "j3rJW3FevAeC"
      },
      "source": [
        "---\n",
        "$$\n",
        " \\int_0^{\\pi/2} \\frac{1}{\\sqrt{\\tan x}}\\mathrm{dx}\n",
        " $$\n",
        "\n",
        "----\n",
        "$$\n",
        " \\int_{1}^{\\infty} \\frac{\\cos x}{x^3}\\mathrm{dx}\n",
        " $$\n",
        "\n",
        "\n",
        "----\n",
        "\n",
        "$$\n",
        " \\int_{0}^{\\pi/4} \\int_{0}^{\\sin x} \\frac{1}{\\sqrt{1-y^2}}\\mathrm{dxdy}\n",
        " $$\n",
        "\n",
        "---\n",
        "\n",
        "Garantizando  que el error sea menor a $\\varepsilon=1\\times 10^{-5}$."
      ]
    },
    {
      "cell_type": "markdown",
      "metadata": {
        "id": "7DMgJLNycd-z"
      },
      "source": [
        "## 1. Regla del trapecio\n",
        "\n",
        "La expresión para calcular una integral usando la regla del trapecio es:\n",
        "\n",
        "\\begin{equation}\n",
        "  \\int_{a}^{b} f(x) \\, dx \\approx \\frac{b-a}{2n} \\left[ f(a) + f(b) + 2 \\sum_{i=1}^{n-1}f(x_{i})\\right  ]\n",
        "\\end{equation}\n",
        "\n",
        "Su error esta dado por:\n",
        "\n",
        "\\begin{equation}\n",
        "-\\frac{(b-a)^3}{12n^2}f''(ξ)\n",
        "\\end{equation}\n",
        "\n",
        "\n",
        "## 2. Regla de simpson\n",
        "\n",
        "La expresión para calcular una integral con la regla de SImpson es:\n",
        "\n",
        "\\begin{equation}\n",
        "  \\int_{a}^{b}f(x) dx\\approx \\frac{b-a}{3n} \\left[ f(a) + f(b) + 2 \\sum_{i=1}^{\\frac{n}{2}-1}f(x_{2i}) + 4 \\sum_{i=1}^{\\frac{n}{2}} f(x_{2i-1})\n",
        "\\right  ]\n",
        "\\end{equation}\n",
        "\n",
        "Su error esta dado por:\n",
        "\n",
        "\\begin{equation}\n",
        "-\\frac{(b-a)^5}{180n^4}f^{(4)}(ξ)\n",
        "\\end{equation}\n",
        "\n",
        "## 3. Método de cuadratura\n",
        "\n",
        "La forma e calcular una integral con el método de cuadratura es\n",
        "\n",
        "\\begin{equation}\n",
        "  \\int_{a}^{b}f(x) dx≈ \\sum_{i=1}^{n}w_if(x_i)\n",
        "\\end{equation}\n",
        "\n",
        "donde $w_i$ son los pesos asociados a los puntos de cuadratura $x_i$"
      ]
    },
    {
      "cell_type": "code",
      "execution_count": 10,
      "metadata": {
        "id": "pGy0f3EmEllx"
      },
      "outputs": [],
      "source": [
        "# Definimos las funciones para el calculo de las integrales\n",
        "\n",
        "# Trapecios\n",
        "def trapecios(f, fs, a, b):\n",
        "  n = int(1e7)\n",
        "  xp = np.linspace(a, b, n)\n",
        "  h = (b - a)/n\n",
        "\n",
        "  # Definimos nuestra funcion simbolicamente\n",
        "  y = sp.symbols('y')\n",
        "\n",
        "  # Calculamos la segunda derivada de la funcion\n",
        "  d2f = sp.diff(fs(y), y, 2)\n",
        "  f2 = sp.lambdify(y, d2f, 'numpy') # Comvertimos la funcion simbolica en una funcion de numpy\n",
        "\n",
        "  max = np.max(abs(f2(xp)))\n",
        "\n",
        "  error = (-(b-a)**3)/(12*n**2)*max\n",
        "\n",
        "  c = 0\n",
        "  for i in range(1, n):\n",
        "   c += f(a + i*h)\n",
        "\n",
        "  I = h/2 * (f(a) + f(b) + 2*c)\n",
        "\n",
        "  return I, abs(error)\n",
        "\n",
        "# Simpson\n",
        "def simpson(f, fs, a, b):\n",
        "  n = int(1e7)\n",
        "  xp = np.linspace(a, b, n)\n",
        "  h = (b - a)/n\n",
        "\n",
        "  # Definimos nuestra funcion simbolicamente\n",
        "  y = sp.symbols('y')\n",
        "\n",
        "  # Calculamos la segunda derivada de la funcion\n",
        "  d4f = sp.diff(fs(y), y, 4)\n",
        "  f4 = sp.lambdify(y, d4f, 'numpy') # Comvertimos la funcion simbolica en una funcion de numpy\n",
        "\n",
        "  max = np.max(abs(f4(xp)))\n",
        "\n",
        "  error = - (b-a)/180 * h**4 * max\n",
        "\n",
        "  c = 0\n",
        "  for i in range(1, int(n/2 - 1)):\n",
        "   c += f(a + 2*i*h)\n",
        "\n",
        "  d = 0\n",
        "  for i in range(1, int(n/2)):\n",
        "    d += f(a + (2*i-1)*h)\n",
        "\n",
        "  I = h/3 * (f(a) + f(b) + 2*c + 4*d)\n",
        "\n",
        "  return I, abs(error)\n",
        "\n",
        "# La cuadratura la calculamos usando quad"
      ]
    },
    {
      "cell_type": "code",
      "execution_count": 11,
      "metadata": {
        "id": "LPaoLl8VEolD"
      },
      "outputs": [],
      "source": [
        "# Definimos las funciones de las integrales a calcular\n",
        "t = lambda x: 1/np.sqrt(np.tan(x))\n",
        "\n",
        "f = lambda x: np.cos(x)/(x**3)\n",
        "\n",
        "g = lambda x: 1/np.sqrt(1-x**2)"
      ]
    },
    {
      "cell_type": "code",
      "execution_count": 12,
      "metadata": {
        "id": "Y3qH0dF2hn-D"
      },
      "outputs": [],
      "source": [
        "# Definimos las funciones con sympy para calcular los errores\n",
        "ts = lambda x: 1/sp.sqrt(sp.tan(x))\n",
        "\n",
        "fs = lambda x: sp.cos(x)/(x**3)\n",
        "\n",
        "gs = lambda x: 1/sp.sqrt(1-x**2)"
      ]
    },
    {
      "cell_type": "code",
      "execution_count": 13,
      "metadata": {
        "colab": {
          "base_uri": "https://localhost:8080/"
        },
        "id": "pmrtKjemWonY",
        "outputId": "23de9e8b-f7b3-4258-97ca-a5bb454a4d27"
      },
      "outputs": [
        {
          "output_type": "stream",
          "name": "stdout",
          "text": [
            "El valor de la integral y su error maximo con el metodo del trapecio son (2.2456991204851873, 7660191880409.317)\n",
            "El valor de la integral y su error maximo con el metodo de simpson son (2.2375002072898798, 2.772459177772075e+27)\n",
            "El valor de la integral y su error maximo con el metodo de cuadratura son (2.2214414696578597, 1.680438854734234e-08)\n"
          ]
        }
      ],
      "source": [
        "# Calculo de la primer integral\n",
        "print(f'El valor de la integral y su error maximo con el metodo del trapecio son {trapecios(t, ts, 1e-11, np.pi/2)}')\n",
        "print(f'El valor de la integral y su error maximo con el metodo de simpson son {simpson(t, ts, 1e-11, np.pi/2)}')\n",
        "print(f'El valor de la integral y su error maximo con el metodo de cuadratura son {sc.integrate.quad(t, 1e-11, np.pi/2)}')"
      ]
    },
    {
      "cell_type": "code",
      "execution_count": 14,
      "metadata": {
        "colab": {
          "base_uri": "https://localhost:8080/"
        },
        "id": "JiId7iQTfLcM",
        "outputId": "f188739f-46f1-4462-a471-1a4c81c506a1"
      },
      "outputs": [
        {
          "output_type": "stream",
          "name": "stdout",
          "text": [
            "El valor de la integral y su error maximo con el metodo del trapecio son (0.018117090422865113, 8.888061157021462e-09)\n",
            "El valor de la integral y su error maximo con el metodo de simpson son (0.018117090385673926, 1.8385952970791568e-18)\n",
            "El valor de la integral y su error maximo con el metodo de cuadratura son (0.01811709040274776, 9.106342434136545e-13)\n"
          ]
        }
      ],
      "source": [
        "# Calculo de la segunda integral\n",
        "print(f'El valor de la integral y su error maximo con el metodo del trapecio son {trapecios(f, fs, 1, 1e2)}')\n",
        "print(f'El valor de la integral y su error maximo con el metodo de simpson son {simpson(f, fs, 1, 1e2)}')\n",
        "print(f'El valor de la integral y su error maximo con el metodo de cuadratura son {sc.integrate.quad(f, 1, 1e2)}')"
      ]
    },
    {
      "cell_type": "code",
      "execution_count": 15,
      "metadata": {
        "colab": {
          "base_uri": "https://localhost:8080/"
        },
        "id": "FxMbdf5RfNUr",
        "outputId": "20f02ce1-42fb-4957-cb3c-0220dcb49063"
      },
      "outputs": [
        {
          "output_type": "stream",
          "name": "stdout",
          "text": [
            "El valor de la integral doble es 0.308425\n"
          ]
        }
      ],
      "source": [
        "# Calculo de la tercer integral\n",
        "# Definimos en intervalo de x\n",
        "x = np.linspace(0, np.pi/4, 10000)\n",
        "p = np.zeros_like(x)\n",
        "\n",
        "# Haremos la primer integral de manera que tengamos un array de todos los valores de la primer integral en el intervalo de 0 a sin(x)\n",
        "for i, j in enumerate(x):\n",
        "  y = np.linspace(0, np.sin(j), 10000) # Intervalo de 0 a sin(x) para cada x\n",
        "  p[i] = np.trapz(g(y), y) # Evaluamos la integral en cada intervalo para obtener el array\n",
        "\n",
        "print(f'El valor de la integral doble es {np.trapz(p, x):.6}') # Calculamos la integral en dx"
      ]
    },
    {
      "cell_type": "markdown",
      "metadata": {
        "id": "pvB9I2lavCdW"
      },
      "source": [
        "## Parte 3\n",
        "Un péndulo físico en el regimen de pequeñas oscilaciones tiene un periodo de:\n",
        "\n",
        "\\begin{equation}\n",
        "P_0=2\\pi \\sqrt{\\frac{I_0}{mgb}}\n",
        "\\end{equation}\n",
        "\n",
        "Cuando las oscilaciones no son pequeñas, podemos encontrar una expresión para el periodo como sigue:\n",
        "\n",
        "\n",
        "La energia de un péndulo físico viene dada por:\n",
        "\n",
        "\\begin{equation}\n",
        "E=\\frac{I_0\\omega^2}{2}+mgb(1-\\cos \\theta)\n",
        "\\end{equation}\n",
        "\n",
        "En el punto más alejado de su posición de equilibrio, su energía es solo potencial y viene dada por:\n",
        "\n",
        "\\begin{equation}\n",
        "Ep = mgb(1-\\cos \\theta),\n",
        "\\end{equation}\n",
        "\n",
        "Igualando ambas expresiones tenemos que:\n",
        "\n",
        "\\begin{equation}\n",
        "mgb(1-\\cos \\theta)=\\frac{I_0\\omega^2}{2}+mgb(1-\\cos \\theta)\n",
        "\\end{equation}\n",
        "\n",
        "Integrando la ecuación respecto a $\\theta$ y realizando la sustitución:\n",
        "\n",
        "$\\sin \\phi = \\frac{\\sin \\frac{\\theta}{2}}{\\sin \\frac{\\theta_0}{2}}$ y  $k = \\sin \\frac{\\theta_0}{2}$, se puede encontrar  que el periodo de oscilación, viene dado en terminos de  la integral elíptica completa de primera especie:\n",
        "\n",
        "\n",
        "\\begin{equation}\n",
        "P = \\frac{2P_0}{\\pi} \\int _0^{\\pi/2} \\frac{\\mathrm{d\\phi}}{\\sqrt{1-k^2\\sin^2\\phi}}\n",
        "\\end{equation}\n",
        "\n",
        "donde,  $P_0$ es el periodo de las oscilaciones pequeñas.\n",
        "\n",
        "Determinar el periodo de oscilación de un péndulo. Para ello:\n",
        "\n",
        "1. Suponga los párametros iniciales del pendulo.\n",
        "2. Realice una buena planificación del código para calcular la integral.\n",
        "3. Emplee un  método de integracion numérico que conozca.\n",
        "4. Compruebe su solucion con el valor exacto de la integral mostrado en el punto"
      ]
    },
    {
      "cell_type": "code",
      "execution_count": 23,
      "metadata": {
        "colab": {
          "base_uri": "https://localhost:8080/"
        },
        "id": "EwI0qrLPZX89",
        "outputId": "04fe7185-15bf-489b-cec2-1f38e1bae0ad"
      },
      "outputs": [
        {
          "output_type": "stream",
          "name": "stdout",
          "text": [
            "El periodo de oscilacion del pendulo es de 1.76 s\n"
          ]
        }
      ],
      "source": [
        "# Definimos los parametros iniciales del pendulo\n",
        "g = 9.776\n",
        "m = 0.5\n",
        "b = 0.6\n",
        "I0 = 0.2\n",
        "theta0 = np.pi/3\n",
        "\n",
        "# Definimos P0 y k\n",
        "P0 = 2*np.pi*np.sqrt(I0/(m*g*b))\n",
        "k = np.sin(theta0/2)\n",
        "\n",
        "# Definimos la funcion para calcular la integral\n",
        "P = lambda phi: 1 / np.sqrt(1 - k**2 * np.sin(phi)**2)\n",
        "Ps = lambda phi: 1 / sp.sqrt(1 - k**2 * sp.sin(phi)**2) # Para calcular el error\n",
        "\n",
        "I = simpson(P, Ps, 0, np.pi/2)[0]\n",
        "\n",
        "# Integramos\n",
        "print(f'El periodo de oscilacion del pendulo es de {2*P0 / (np.pi) * I:.3} s')"
      ]
    },
    {
      "cell_type": "markdown",
      "metadata": {
        "id": "R2jgnjm4vd95"
      },
      "source": [
        "## Parte 4\n",
        "The next  problems are examples of how elliptic integrals enter into realistic physics problems. It is straightforward to evaluate any integral numerically using the techniques of this chapter, but it may be difficult for you to  know if the answers you obtain are correct. One way to hone your integral evaluating skills is to compare your answers from quadrature to power series\n",
        "expressions, or to a polynomial approximations of know precision. To help you in this regard, we present here a polynomial approximation for an elliptic integral (Abramowitz and Stegun, 1972):\n",
        "\n",
        "\\begin{equation}\n",
        "K(m)=\\int_{0}^{\\pi/2} \\frac{\\mathrm{d\\phi}}{\\sqrt{1-m\\sin^2\\phi}}\n",
        "\\end{equation}\n",
        "\n",
        "\\begin{equation}\n",
        "\\approx a_0+a_1m_1+a_2m_1 - [ b_0+b_1m_1+b_2m_1^2]\\ln m_1 + \\epsilon(m)\n",
        "\\end{equation}\n",
        "\n",
        "\n",
        "* $m_1 = 1-m$,\n",
        "\n",
        "* $ 0 \\le m \\le1 $\n",
        "\n",
        "* $\\epsilon(m)\\leq 3\\times 10^{-5}$\n",
        "\n",
        "* $a_0 = 1.3862944$\n",
        "\n",
        "* $b_0 = 0.5$\n",
        "\n",
        "* $a_1 = 0.1119723$\n",
        "\n",
        "* $b_1 = 0.1213478$\n",
        "\n",
        "* $a_2 = 0.00725296$\n",
        "\n",
        "* $b_2 = 0.0288729$"
      ]
    },
    {
      "cell_type": "code",
      "execution_count": 17,
      "metadata": {
        "colab": {
          "base_uri": "https://localhost:8080/"
        },
        "id": "e8Nv1WXJZCk_",
        "outputId": "4452bb04-b441-47b0-da42-b38a7c3b4e88"
      },
      "outputs": [
        {
          "output_type": "stream",
          "name": "stdout",
          "text": [
            "El valor de la integral es de 1.69 mientras que el del polinomio es 1.65\n"
          ]
        }
      ],
      "source": [
        "# Definimos el valor de m como k^2 para verificar el resultado de la integral del punto anterior\n",
        "m = k**2\n",
        "\n",
        "# Definimos los valores del polinomio\n",
        "m1 = 1 - m\n",
        "0 < m < 1\n",
        "ϵ = 3*1e-4\n",
        "a0 = 1.3862944\n",
        "b0 = 0.5\n",
        "a1 = 0.1119723\n",
        "b1 = 0.1213478\n",
        "a2 = 0.00725296\n",
        "b2 = 0.0288729\n",
        "\n",
        "# Calculamos el valor del polinomio\n",
        "P = a0 + a1*m1 + a2*m1 - (b0 + b1*m1 + b2*m1**2)*np.log(m1) + ϵ\n",
        "\n",
        "# Comparamos el resultado de la integral con el polinomio\n",
        "print(f'El valor de la integral es de {I:.3} mientras que el del polinomio es {P:.3}')"
      ]
    },
    {
      "cell_type": "markdown",
      "source": [
        "Vemos que el valor del polinomio se aproxima mucho al valor obtenido en la integral, por lo que podemos concluir que la integral ha dado un resultado correcto."
      ],
      "metadata": {
        "id": "mH6zVNKWPZrA"
      }
    },
    {
      "cell_type": "markdown",
      "metadata": {
        "id": "xDFUsTNRvzOV"
      },
      "source": [
        "## Parte 5 (Opcional)\n",
        "\n",
        "Figure 5.7 shows a current loop of radius a carrying a current I. The point P\n",
        "is a distance r from the center of the loop with spherical coordinates (r, θ, φ).\n",
        "Jackson (1988) solves for the φ component of the vector potential at point P\n",
        "in terms of elliptic integrals:\n",
        "\n",
        "\\begin{equation}\n",
        "A_{\\phi}(r, \\theta)=\\frac{\\mu_0}{4\\pi}\\frac{4Ia}{\\sqrt{a^2+r^2+2ar\\sin \\theta}}\\left(\\frac{(2-k^2)K(k)-2E(k)}{k^2} \\right)\n",
        "\\end{equation}\n",
        "\n",
        "\n",
        "where\n",
        "\n",
        "\\begin{equation}\n",
        "K(k)=\\int_{0}^{\\pi/2} \\frac{\\mathrm{d\\phi}}{\\sqrt{1-k^2\\sin^2\\phi}}\n",
        "\\end{equation}\n",
        "\n",
        "\n",
        "\\begin{equation}\n",
        "E(k)=\\int_{0}^{\\pi/2} \\mathrm{d\\phi} \\sqrt{1-k^2\\sin^2\\phi}\n",
        "\\end{equation}\n",
        "\n",
        "\n",
        "\\begin{equation}\n",
        "k^2=\\frac{4ar\\sin\\theta}{a^2+r^2+2ar\\sin\\theta}\n",
        "\\end{equation}\n",
        "\n",
        "\n",
        "\n",
        "Here K(k) is a complete elliptic integral of the first kind and E(k) is a complete\n",
        "elliptic integral of the second kind. For a = 1, I = 3, and μ0∕4π = 1, compute\n",
        "and plot\n",
        "\n",
        "a) Aφ(r = 1.1, θ) vs. θ\n",
        "\n",
        "b) Aφ(r, θ = π∕3) vs. r\n"
      ]
    },
    {
      "cell_type": "code",
      "execution_count": 18,
      "metadata": {
        "id": "Ny-ACuTtur-3"
      },
      "outputs": [],
      "source": [
        "# Definamos todas las funciones necesarias\n",
        "\n",
        "# Definimos k\n",
        "def k(r, theta, a):\n",
        "  k = np.sqrt( (4*a*r*np.sin(theta)) / (a**2 + r**2 + 2*a*r*np.sin(theta)) )\n",
        "\n",
        "  return k\n",
        "\n",
        "# Definimos la funcion a integral dentro de E\n",
        "fe = lambda phi, r, theta, a: np.sqrt(1 - (k(r, theta, a))**2*(np.sin(phi))**2)\n",
        "\n",
        "# Definimos E\n",
        "def E(fe, r, theta, a):\n",
        "  I = sc.integrate.quad(fe, 0, np.pi/2, args = (r, theta, a))\n",
        "\n",
        "  return I[0]\n",
        "\n",
        "# Definimos la funcion a integral dentro de K\n",
        "fk = lambda phi, r, theta, a: 1/np.sqrt(1 - (k(r, theta, a))**2*(np.sin(phi))**2)\n",
        "\n",
        "# Definimos K\n",
        "def K(fk, r, theta, a):\n",
        "  I = sc.integrate.quad(fk, 0, np.pi/2, args = (r, theta, a))\n",
        "\n",
        "  return I[0]\n",
        "\n",
        "# Definimos el potencial A\n",
        "def A(r, theta, a, I, mu, fe, fk):\n",
        "  k1 = k(r, theta, a)\n",
        "  K1 = K(fk, r, theta, a)\n",
        "  E1 = E(fe, r, theta, a)\n",
        "\n",
        "  A = mu/(4*np.pi) * ( 4*I*a / (np.sqrt(a**2 + r**2 + 2*a*r*np.sin(theta))) ) * ( ((2 - k1**2)*K1 - 2*E1) / (k1**2) )\n",
        "\n",
        "  return A"
      ]
    },
    {
      "cell_type": "code",
      "execution_count": 19,
      "metadata": {
        "colab": {
          "base_uri": "https://localhost:8080/",
          "height": 472
        },
        "id": "u0tM_EwHF-_z",
        "outputId": "54f93f8b-c250-4820-b641-0231f5fc7cdb"
      },
      "outputs": [
        {
          "output_type": "display_data",
          "data": {
            "text/plain": [
              "<Figure size 640x480 with 1 Axes>"
            ],
            "image/png": "[encoded data removed]"
          },
          "metadata": {}
        }
      ],
      "source": [
        "# Variables definidas\n",
        "a = 1\n",
        "I = 3\n",
        "mu = 4*np.pi\n",
        "r = 1.1\n",
        "\n",
        "theta = np.linspace(1e-11, np.pi, 1000) # Variamos theta\n",
        "b = np.zeros(1000) # Arreglo para calcular A al variar theta\n",
        "\n",
        "# Calculamos A para todos los theta\n",
        "for i,j  in enumerate(theta):\n",
        "  b[i] = A(r, j, a, I, mu, fe, fk)\n",
        "\n",
        "# Graficamos el comportamiento de A\n",
        "plt.title('Comportamiento del vector pontencial en funcion de θ')\n",
        "plt.plot(theta, b, label = 'A(1.1,θ)')\n",
        "plt.xlabel('θ')\n",
        "plt.ylabel('A(r,θ)')\n",
        "plt.legend()\n",
        "plt.grid()"
      ]
    },
    {
      "cell_type": "code",
      "execution_count": 20,
      "metadata": {
        "colab": {
          "base_uri": "https://localhost:8080/",
          "height": 472
        },
        "id": "kVvfSz94LzkU",
        "outputId": "09cd4db5-3787-4360-b0a5-61615ddc7ce8"
      },
      "outputs": [
        {
          "output_type": "display_data",
          "data": {
            "text/plain": [
              "<Figure size 640x480 with 1 Axes>"
            ],
            "image/png": "[encoded data removed]"
          },
          "metadata": {}
        }
      ],
      "source": [
        "# Variables definidas\n",
        "a = 1\n",
        "I = 3\n",
        "mu = 4*np.pi\n",
        "theta = np.pi/3\n",
        "\n",
        "r = np.linspace(1e-11, 3, 1000) # Variamos r\n",
        "b = np.zeros(1000) # Arreglo para calcular A al variar r\n",
        "\n",
        "# Calculamos A para todos los valores de r\n",
        "for i,j  in enumerate(r):\n",
        "  b[i] = A(j, theta, a, I, mu, fe, fk)\n",
        "\n",
        "# Graficamos el comportamiento de A\n",
        "plt.title('Comportamiento del vector pontencial en funcion de r')\n",
        "plt.plot(r, b, label = 'A(r,π/3)')\n",
        "plt.xlabel('r')\n",
        "plt.ylabel('A(r,θ)')\n",
        "plt.legend()\n",
        "plt.grid()"
      ]
    },
    {
      "cell_type": "code",
      "execution_count": 20,
      "metadata": {
        "id": "iD1YfejvsORj"
      },
      "outputs": [],
      "source": []
    }
  ],
  "metadata": {
    "colab": {
      "provenance": []
    },
    "kernelspec": {
      "display_name": "Python 3 (ipykernel)",
      "language": "python",
      "name": "python3"
    },
    "language_info": {
      "codemirror_mode": {
        "name": "ipython",
        "version": 3
      },
      "file_extension": ".py",
      "mimetype": "text/x-python",
      "name": "python",
      "nbconvert_exporter": "python",
      "pygments_lexer": "ipython3",
      "version": "3.10.9"
    }
  },
  "nbformat": 4,
  "nbformat_minor": 0
}