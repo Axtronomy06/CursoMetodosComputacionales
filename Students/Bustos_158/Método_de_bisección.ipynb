{
  "nbformat": 4,
  "nbformat_minor": 0,
  "metadata": {
    "colab": {
      "provenance": []
    },
    "kernelspec": {
      "name": "python3",
      "display_name": "Python 3"
    },
    "language_info": {
      "name": "python"
    }
  },
  "cells": [
    {
      "cell_type": "code",
      "execution_count": null,
      "metadata": {
        "id": "dFvoi2oED8nP"
      },
      "outputs": [],
      "source": [
        "import numpy as np\n",
        "import matplotlib.pyplot as plt\n",
        "from scipy import optimize\n",
        "import scipy as sp"
      ]
    },
    {
      "cell_type": "markdown",
      "source": [
        "Encontrar la solución a la ecuación"
      ],
      "metadata": {
        "id": "1TbI7MNPCd_4"
      }
    },
    {
      "cell_type": "code",
      "source": [
        "f=lambda x: x*np.exp(x)-1"
      ],
      "metadata": {
        "id": "fDcgKh-iEY__"
      },
      "execution_count": null,
      "outputs": []
    },
    {
      "cell_type": "code",
      "source": [
        "x=np.linspace(0,1,100)"
      ],
      "metadata": {
        "id": "2rstqLvpEbPd"
      },
      "execution_count": null,
      "outputs": []
    },
    {
      "cell_type": "code",
      "source": [
        "plt.plot(x,f(x),c=\"b\")\n",
        "plt.ylabel(\"f(x)\")\n",
        "plt.xlabel(\"x\")\n",
        "plt.title(\"Gráfica de la ecuación\")\n",
        "plt.grid()"
      ],
      "metadata": {
        "colab": {
          "base_uri": "https://localhost:8080/",
          "height": 472
        },
        "id": "fgPA3PHkEdH1",
        "outputId": "58b35ba3-7b9c-4ab1-960b-b6040ec13066"
      },
      "execution_count": null,
      "outputs": [
        {
          "output_type": "display_data",
          "data": {
            "text/plain": [
              "<Figure size 640x480 with 1 Axes>"
            ],
            "image/png": "[encoded data removed]"
          },
          "metadata": {}
        }
      ]
    },
    {
      "cell_type": "code",
      "source": [
        "# Función para el método de bisección\n",
        "\n",
        "\n",
        "a= 0.5\n",
        "b= 0.8\n",
        "nmaxiter=1000\n",
        "ep= 1E-7 # tolerancia\n",
        "\n",
        "def bisection (a,b,f,ep):\n",
        "  c=a\n",
        "  iter=0\n",
        "  while( (abs(f(c))>= ep) & (f(a)*f(b)>0) & (iter<nmaxiter)):\n",
        "\n",
        "   c=(a+b)*0.5  # punto medio\n",
        "   f(c)\n",
        "\n",
        "  if (f(c)>0):   # positivo\n",
        "    b=c\n",
        "  else:\n",
        "      a=c            # negativo\n",
        "  iter=iter+1\n",
        "\n",
        "  if(iter==nmaxiter):\n",
        "    print(f\"No se alcanza la posición, deseada, número máximo de iteraciones superado nmax={nmaxiter}\")\n",
        "  return c\n",
        "\n",
        "\n",
        "raiz= bisection(a,b,f,ep)\n",
        "print(raiz)"
      ],
      "metadata": {
        "colab": {
          "base_uri": "https://localhost:8080/"
        },
        "id": "j9Y4nhADEymn",
        "outputId": "a278ca78-8391-4a6a-d7bb-f3732c7d324d"
      },
      "execution_count": null,
      "outputs": [
        {
          "output_type": "stream",
          "name": "stdout",
          "text": [
            "0.5\n"
          ]
        }
      ]
    },
    {
      "cell_type": "code",
      "source": [
        "c"
      ],
      "metadata": {
        "id": "x0jjTrgjFPpN",
        "outputId": "4e306109-597c-42c8-c163-60d566d46b25",
        "colab": {
          "base_uri": "https://localhost:8080/"
        }
      },
      "execution_count": null,
      "outputs": [
        {
          "output_type": "execute_result",
          "data": {
            "text/plain": [
              "0.5671432733535766"
            ]
          },
          "metadata": {},
          "execution_count": 40
        }
      ]
    },
    {
      "cell_type": "code",
      "source": [
        "root= sp.optimize.bisect(f,a,b) # raíz esperada\n",
        "root"
      ],
      "metadata": {
        "id": "bfVb0YVBFQBc",
        "outputId": "dce6728f-a04f-4a28-c915-feb7deeeefe5",
        "colab": {
          "base_uri": "https://localhost:8080/"
        }
      },
      "execution_count": null,
      "outputs": [
        {
          "output_type": "execute_result",
          "data": {
            "text/plain": [
              "0.5671432904087851"
            ]
          },
          "metadata": {},
          "execution_count": 42
        }
      ]
    }
  ]
}