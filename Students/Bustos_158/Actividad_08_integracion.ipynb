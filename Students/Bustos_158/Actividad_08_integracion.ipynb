{
  "nbformat": 4,
  "nbformat_minor": 0,
  "metadata": {
    "colab": {
      "provenance": []
    },
    "kernelspec": {
      "name": "python3",
      "display_name": "Python 3"
    },
    "language_info": {
      "name": "python"
    }
  },
  "cells": [
    {
      "cell_type": "code",
      "execution_count": 1,
      "metadata": {
        "id": "X3UBKdPmwYyZ"
      },
      "outputs": [],
      "source": [
        "import numpy as np\n",
        "import pandas as pd\n",
        "import matplotlib.pyplot as plt\n",
        "import sympy as sp\n",
        "import scipy as scipy"
      ]
    },
    {
      "cell_type": "code",
      "source": [
        "f= lambda x: x**2"
      ],
      "metadata": {
        "id": "jb9J6EEFzdhH"
      },
      "execution_count": null,
      "outputs": []
    },
    {
      "cell_type": "code",
      "source": [
        "x= np.linspace(0,4,10)\n",
        "x"
      ],
      "metadata": {
        "colab": {
          "base_uri": "https://localhost:8080/"
        },
        "id": "9-_kK8U2zjay",
        "outputId": "aa195a3f-6abe-4a8e-8109-39775e4f425c"
      },
      "execution_count": null,
      "outputs": [
        {
          "output_type": "execute_result",
          "data": {
            "text/plain": [
              "array([0.        , 0.44444444, 0.88888889, 1.33333333, 1.77777778,\n",
              "       2.22222222, 2.66666667, 3.11111111, 3.55555556, 4.        ])"
            ]
          },
          "metadata": {},
          "execution_count": 3
        }
      ]
    },
    {
      "cell_type": "code",
      "source": [
        "plt.plot(x,f(x),c=\"b\")\n",
        "plt.grid()"
      ],
      "metadata": {
        "colab": {
          "base_uri": "https://localhost:8080/",
          "height": 430
        },
        "id": "bt2UgkNo0-MR",
        "outputId": "1bc39a31-78b6-449a-f79b-108a1a3a6f0c"
      },
      "execution_count": null,
      "outputs": [
        {
          "output_type": "display_data",
          "data": {
            "text/plain": [
              "<Figure size 640x480 with 1 Axes>"
            ],
            "image/png": "[encoded data removed]"
          },
          "metadata": {}
        }
      ]
    },
    {
      "cell_type": "code",
      "source": [
        "f(x)"
      ],
      "metadata": {
        "colab": {
          "base_uri": "https://localhost:8080/"
        },
        "id": "faX1fDmE0Edh",
        "outputId": "43a293b2-c231-4eb7-c7ac-1c8d25b0852b"
      },
      "execution_count": null,
      "outputs": [
        {
          "output_type": "execute_result",
          "data": {
            "text/plain": [
              "array([ 0.        ,  0.19753086,  0.79012346,  1.77777778,  3.16049383,\n",
              "        4.9382716 ,  7.11111111,  9.67901235, 12.64197531, 16.        ])"
            ]
          },
          "metadata": {},
          "execution_count": 5
        }
      ]
    },
    {
      "cell_type": "markdown",
      "source": [
        "# **Método del trapecio**"
      ],
      "metadata": {
        "id": "NGb5Pw07lPz-"
      }
    },
    {
      "cell_type": "code",
      "source": [
        "# Prueba de como funciona\n",
        "\n",
        "A=0\n",
        "\n",
        "for i in range(len(x)-1):\n",
        "  a= x[i+1]\n",
        "  b= x[i]\n",
        "  A+=abs((b-a)/2*(f(a)+f(b)))\n",
        "print(A)"
      ],
      "metadata": {
        "colab": {
          "base_uri": "https://localhost:8080/"
        },
        "id": "8Awv-E7DyZf8",
        "outputId": "40f6313b-29a9-4976-bdd6-3d10e9fce2e3"
      },
      "execution_count": null,
      "outputs": [
        {
          "output_type": "stream",
          "name": "stdout",
          "text": [
            "21.46502057613169\n"
          ]
        }
      ]
    },
    {
      "cell_type": "code",
      "source": [
        "# Comprobación\n",
        "\n",
        "x = np.linspace(0, 4,10)\n",
        "y = x**2\n",
        "scipy.integrate.trapezoid(y, x)"
      ],
      "metadata": {
        "colab": {
          "base_uri": "https://localhost:8080/"
        },
        "id": "zxy3NY_61W3v",
        "outputId": "006fd7a8-d75a-4d17-f06c-4f37aa3341ab"
      },
      "execution_count": null,
      "outputs": [
        {
          "output_type": "execute_result",
          "data": {
            "text/plain": [
              "21.46502057613169"
            ]
          },
          "metadata": {},
          "execution_count": 7
        }
      ]
    },
    {
      "cell_type": "code",
      "source": [
        "# Se define una f y se da un intervalo específico ( método propio )\n",
        "\n",
        "def trapezoide(f,x):\n",
        "  A=0\n",
        "  for i in range (len(x)-1):\n",
        "    a= x[i+1]\n",
        "    b= x[i]\n",
        "    A+=abs((b-a)/2*(f(a)+f(b)))\n",
        "  return A"
      ],
      "metadata": {
        "id": "hPprWooH4Pua"
      },
      "execution_count": null,
      "outputs": []
    },
    {
      "cell_type": "code",
      "source": [
        "trapezoide(f,x)"
      ],
      "metadata": {
        "colab": {
          "base_uri": "https://localhost:8080/"
        },
        "id": "nKXRjUh7_DjL",
        "outputId": "27e69436-0a0c-488a-d6ef-95842d3e521c"
      },
      "execution_count": null,
      "outputs": [
        {
          "output_type": "execute_result",
          "data": {
            "text/plain": [
              "21.46502057613169"
            ]
          },
          "metadata": {},
          "execution_count": 9
        }
      ]
    },
    {
      "cell_type": "code",
      "source": [
        "def trapecio_general(f,x):\n",
        "  sumatoria=0\n",
        "\n",
        "  for i in range (1,len(x)-1):\n",
        "    sumatoria+= f(x[i])\n",
        "    for j in range(len(x)):\n",
        "      h= x[j]-x[j-1]\n",
        "  A= h/2*(f(min(x))+f(max(x))+2*sumatoria)\n",
        "  return A"
      ],
      "metadata": {
        "id": "BBXUJ6nv7BFR"
      },
      "execution_count": null,
      "outputs": []
    },
    {
      "cell_type": "code",
      "source": [
        "trapecio_general(f,x)"
      ],
      "metadata": {
        "colab": {
          "base_uri": "https://localhost:8080/"
        },
        "id": "eGNaaBxd88Pa",
        "outputId": "69a1c5ec-7e89-4851-cc3e-f83485296c1c"
      },
      "execution_count": null,
      "outputs": [
        {
          "output_type": "execute_result",
          "data": {
            "text/plain": [
              "21.465020576131693"
            ]
          },
          "metadata": {},
          "execution_count": 11
        }
      ]
    },
    {
      "cell_type": "markdown",
      "source": [
        "# **Generalización**"
      ],
      "metadata": {
        "id": "y3cD_t3ACqbR"
      }
    },
    {
      "cell_type": "code",
      "source": [
        "def integral_trapz(f,a,b,N):\n",
        "\n",
        "  x= np.linspace (a,b,int(N))\n",
        "  h=(b-a)/N\n",
        "  A= ( f(x[0]) + f(x[-1]) + 2*f(x[1:-1]).sum())*h*0.5\n",
        "  return A"
      ],
      "metadata": {
        "id": "L9xWjZLPC1qa"
      },
      "execution_count": null,
      "outputs": []
    },
    {
      "cell_type": "code",
      "source": [
        "integral= integral_trapz(f,0,4,N=10)\n",
        "integral"
      ],
      "metadata": {
        "colab": {
          "base_uri": "https://localhost:8080/"
        },
        "id": "4tbjYnZGDqsZ",
        "outputId": "43d1effc-2e2e-48b8-b8b3-7a592a4b9b7f"
      },
      "execution_count": null,
      "outputs": [
        {
          "output_type": "execute_result",
          "data": {
            "text/plain": [
              "19.318518518518516"
            ]
          },
          "metadata": {},
          "execution_count": 14
        }
      ]
    },
    {
      "cell_type": "code",
      "source": [
        "N= np.linspace(100,10000,10)\n",
        "areas= np.zeros(len(N))\n",
        "\n",
        "for i, n_ in enumerate(N):\n",
        "  areas[i]= integral_trapz(f,0,1,n_)"
      ],
      "metadata": {
        "id": "TjXTjeAID7-d"
      },
      "execution_count": null,
      "outputs": []
    },
    {
      "cell_type": "code",
      "source": [
        "plt.plot(N,areas,c=\"r\")\n",
        "plt.xlabel(\"N\")\n",
        "plt.ylabel(\"Área\")\n",
        "plt.grid()"
      ],
      "metadata": {
        "colab": {
          "base_uri": "https://localhost:8080/",
          "height": 449
        },
        "id": "2VfCiRHbEP_b",
        "outputId": "51af1edc-b331-4964-8254-891867ab3abb"
      },
      "execution_count": null,
      "outputs": [
        {
          "output_type": "display_data",
          "data": {
            "text/plain": [
              "<Figure size 640x480 with 1 Axes>"
            ],
            "image/png": "[encoded data removed]"
          },
          "metadata": {}
        }
      ]
    },
    {
      "cell_type": "markdown",
      "source": [
        "# **Error del método**"
      ],
      "metadata": {
        "id": "bz1LY0Jyf4_l"
      }
    },
    {
      "cell_type": "code",
      "source": [
        "g= lambda t: ((t-1)**2/3*np.sin(t))+1"
      ],
      "metadata": {
        "id": "U_io2TAJf7zI"
      },
      "execution_count": null,
      "outputs": []
    },
    {
      "cell_type": "code",
      "source": [
        "t_= np.linspace(0,2,100)"
      ],
      "metadata": {
        "id": "brV5H_b5gyGq"
      },
      "execution_count": null,
      "outputs": []
    },
    {
      "cell_type": "code",
      "source": [
        "plt.plot(t_,g(t_),c=\"r\")\n",
        "plt.grid()"
      ],
      "metadata": {
        "colab": {
          "base_uri": "https://localhost:8080/",
          "height": 430
        },
        "id": "Ii7qbLlJhOqu",
        "outputId": "2c5a0fca-26f4-4e03-a6b3-ddef4c3690d8"
      },
      "execution_count": null,
      "outputs": [
        {
          "output_type": "display_data",
          "data": {
            "text/plain": [
              "<Figure size 640x480 with 1 Axes>"
            ],
            "image/png": "[encoded data removed]"
          },
          "metadata": {}
        }
      ]
    },
    {
      "cell_type": "code",
      "source": [
        "trapecio_general(g,t)"
      ],
      "metadata": {
        "colab": {
          "base_uri": "https://localhost:8080/"
        },
        "id": "AAitTZysgjII",
        "outputId": "42874406-647a-4099-a0c3-cde1f90c123c"
      },
      "execution_count": null,
      "outputs": [
        {
          "output_type": "execute_result",
          "data": {
            "text/plain": [
              "2.1341539024386145"
            ]
          },
          "metadata": {},
          "execution_count": 49
        }
      ]
    },
    {
      "cell_type": "code",
      "source": [
        "# comprobación inicial\n",
        "\n",
        "scipy.integrate.trapezoid(g(t_), t_)"
      ],
      "metadata": {
        "colab": {
          "base_uri": "https://localhost:8080/"
        },
        "id": "eLwqxu-9hFEN",
        "outputId": "e7e35c71-79eb-4c7f-a95d-53a7e38b90cd"
      },
      "execution_count": null,
      "outputs": [
        {
          "output_type": "execute_result",
          "data": {
            "text/plain": [
              "2.1341539024386242"
            ]
          },
          "metadata": {},
          "execution_count": 129
        }
      ]
    },
    {
      "cell_type": "code",
      "source": [
        "t= sp.symbols(\"t\")\n",
        "funcion= (((t-1)**2)/3*sp.sin(t))+1"
      ],
      "metadata": {
        "id": "L9QKYKOyhaIl"
      },
      "execution_count": null,
      "outputs": []
    },
    {
      "cell_type": "code",
      "source": [
        "primera=sp.diff(funcion)\n",
        "primera"
      ],
      "metadata": {
        "colab": {
          "base_uri": "https://localhost:8080/",
          "height": 56
        },
        "id": "RKVg8St6iCQ1",
        "outputId": "ade11247-5994-4c61-e158-d581bf0c9fac"
      },
      "execution_count": null,
      "outputs": [
        {
          "output_type": "execute_result",
          "data": {
            "text/plain": [
              "(t - 1)**2*cos(t)/3 + (2*t - 2)*sin(t)/3"
            ],
            "text/latex": "$\\displaystyle \\frac{\\left(t - 1\\right)^{2} \\cos{\\left(t \\right)}}{3} + \\frac{\\left(2 t - 2\\right) \\sin{\\left(t \\right)}}{3}$"
          },
          "metadata": {},
          "execution_count": 59
        }
      ]
    },
    {
      "cell_type": "code",
      "source": [
        "sp.diff(primera) # segunda derivada de la función"
      ],
      "metadata": {
        "colab": {
          "base_uri": "https://localhost:8080/",
          "height": 56
        },
        "id": "JSrTfnYEiHaL",
        "outputId": "35dde43c-8f8e-4497-b547-427beaa30022"
      },
      "execution_count": null,
      "outputs": [
        {
          "output_type": "execute_result",
          "data": {
            "text/plain": [
              "-(t - 1)**2*sin(t)/3 + 2*(2*t - 2)*cos(t)/3 + 2*sin(t)/3"
            ],
            "text/latex": "$\\displaystyle - \\frac{\\left(t - 1\\right)^{2} \\sin{\\left(t \\right)}}{3} + \\frac{2 \\cdot \\left(2 t - 2\\right) \\cos{\\left(t \\right)}}{3} + \\frac{2 \\sin{\\left(t \\right)}}{3}$"
          },
          "metadata": {},
          "execution_count": 64
        }
      ]
    },
    {
      "cell_type": "code",
      "source": [
        "# interpolar para hallar el máximo entre (0,2)\n",
        "\n",
        "def s_derivada(t):\n",
        "  return -(-(t-1)**2*np.sin(t)/3+2*(2*t-2)*np.cos(t)/3+2*np.sin(t)/3)  # invertir la función"
      ],
      "metadata": {
        "id": "GmYPE-zKjNwX"
      },
      "execution_count": null,
      "outputs": []
    },
    {
      "cell_type": "code",
      "source": [
        "plt.plot(t_,s_derivada(t_),c=\"b\")\n",
        "plt.grid()"
      ],
      "metadata": {
        "colab": {
          "base_uri": "https://localhost:8080/",
          "height": 430
        },
        "id": "RmYEvoZXoI8r",
        "outputId": "1be8f245-d6b3-42d8-c16b-9ebf2f4fff03"
      },
      "execution_count": null,
      "outputs": [
        {
          "output_type": "display_data",
          "data": {
            "text/plain": [
              "<Figure size 640x480 with 1 Axes>"
            ],
            "image/png": "[encoded data removed]"
          },
          "metadata": {}
        }
      ]
    },
    {
      "cell_type": "code",
      "source": [
        "maximo= scipy.optimize.fmin_powell(s_derivada,0.1)\n",
        "maximo # el valor de epsilon"
      ],
      "metadata": {
        "colab": {
          "base_uri": "https://localhost:8080/"
        },
        "id": "De3pR-szlGLn",
        "outputId": "70bb56bd-8d4c-47c7-cd5e-8e0b7de0a696"
      },
      "execution_count": null,
      "outputs": [
        {
          "output_type": "stream",
          "name": "stdout",
          "text": [
            "Optimization terminated successfully.\n",
            "         Current function value: -0.720789\n",
            "         Iterations: 2\n",
            "         Function evaluations: 20\n"
          ]
        },
        {
          "output_type": "execute_result",
          "data": {
            "text/plain": [
              "array([1.28731699])"
            ]
          },
          "metadata": {},
          "execution_count": 116
        }
      ]
    },
    {
      "cell_type": "code",
      "source": [
        "e= 12E-3 # por el método del trapecio"
      ],
      "metadata": {
        "id": "SJr61qtAicIw"
      },
      "execution_count": null,
      "outputs": []
    },
    {
      "cell_type": "code",
      "source": [
        "n= np.sqrt(abs((2)**3/e*s_derivada(maximo)))\n",
        "n # error del método"
      ],
      "metadata": {
        "colab": {
          "base_uri": "https://localhost:8080/"
        },
        "id": "iBeosqrUihem",
        "outputId": "d90a870e-627d-4952-a4fd-469f5f011c0d"
      },
      "execution_count": null,
      "outputs": [
        {
          "output_type": "execute_result",
          "data": {
            "text/plain": [
              "array([21.92090641])"
            ]
          },
          "metadata": {},
          "execution_count": 143
        }
      ]
    },
    {
      "cell_type": "code",
      "source": [
        "# comprobación 2\n",
        "\n",
        "integral_trapz(g,0,2,N=n) # reduce mucho el valor"
      ],
      "metadata": {
        "colab": {
          "base_uri": "https://localhost:8080/"
        },
        "id": "l4nZQMOGvTEu",
        "outputId": "7a2334f8-5b20-4448-939d-3e5179ec760a"
      },
      "execution_count": null,
      "outputs": [
        {
          "output_type": "execute_result",
          "data": {
            "text/plain": [
              "array([1.94723856])"
            ]
          },
          "metadata": {},
          "execution_count": 144
        }
      ]
    },
    {
      "cell_type": "code",
      "source": [
        "# comprobación 3\n",
        "\n",
        "scipy.integrate.trapezoid(g(t_), t_,dx=n)"
      ],
      "metadata": {
        "colab": {
          "base_uri": "https://localhost:8080/"
        },
        "id": "H3yTreTMvTLP",
        "outputId": "b3aafcbd-8ebc-4543-b329-fb357b2ca776"
      },
      "execution_count": null,
      "outputs": [
        {
          "output_type": "execute_result",
          "data": {
            "text/plain": [
              "2.1341539024386242"
            ]
          },
          "metadata": {},
          "execution_count": 145
        }
      ]
    },
    {
      "cell_type": "code",
      "source": [
        "integral_trapz(g,0,2,N=n)"
      ],
      "metadata": {
        "colab": {
          "base_uri": "https://localhost:8080/"
        },
        "id": "XaOAIdeqypRQ",
        "outputId": "06600048-c97e-4662-ce68-0979d0aa00a0"
      },
      "execution_count": null,
      "outputs": [
        {
          "output_type": "execute_result",
          "data": {
            "text/plain": [
              "array([1.94723856])"
            ]
          },
          "metadata": {},
          "execution_count": 147
        }
      ]
    },
    {
      "cell_type": "markdown",
      "source": [
        "# **Regla de simpson**"
      ],
      "metadata": {
        "id": "ZRrN7D5W0Wsq"
      }
    },
    {
      "cell_type": "code",
      "source": [
        "def funcion(x):\n",
        "  return x**2"
      ],
      "metadata": {
        "id": "9ZfRdDE40ZzC"
      },
      "execution_count": 16,
      "outputs": []
    },
    {
      "cell_type": "code",
      "source": [
        "x=np.linspace(0,4,100)"
      ],
      "metadata": {
        "id": "4birSqcu0kbq"
      },
      "execution_count": 17,
      "outputs": []
    },
    {
      "cell_type": "code",
      "source": [
        "plt.plot(x,funcion(x),c=\"b\")\n",
        "plt.xlabel(\"x\")\n",
        "plt.ylabel(\"f(x)\")\n",
        "plt.grid()"
      ],
      "metadata": {
        "colab": {
          "base_uri": "https://localhost:8080/",
          "height": 449
        },
        "id": "1P95UOzW1SK3",
        "outputId": "b4c1f55b-576c-4e10-ddb6-25e0305c795a"
      },
      "execution_count": 25,
      "outputs": [
        {
          "output_type": "display_data",
          "data": {
            "text/plain": [
              "<Figure size 640x480 with 1 Axes>"
            ],
            "image/png": "[encoded data removed]"
          },
          "metadata": {}
        }
      ]
    },
    {
      "cell_type": "code",
      "source": [
        "# Códgio vectorizado\n",
        "\n",
        "def simpson_c(a,b,N):\n",
        "\n",
        "  x= np.linspace(a,b,N)\n",
        "  a= x[0]\n",
        "  b= x[-1]\n",
        "  h= (b-a)/N\n",
        "\n",
        "  s1= x[2:N-2:2] # términos a recorrer\n",
        "  s2= x[1:N-1:2]\n",
        "\n",
        "  e= (h/3*(funcion(a)+ 2*funcion(s1).sum() + 4*funcion(s2).sum() + funcion(b))).sum()\n",
        "\n",
        "  return e\n"
      ],
      "metadata": {
        "id": "0Qgby_v02XCy"
      },
      "execution_count": 19,
      "outputs": []
    },
    {
      "cell_type": "code",
      "source": [
        "simpson_c(0,1,10000) # converge lentamente"
      ],
      "metadata": {
        "colab": {
          "base_uri": "https://localhost:8080/"
        },
        "id": "shvk4QqS7FFt",
        "outputId": "a89cd1cd-e387-4c6f-8ff0-daac9fa3ff93"
      },
      "execution_count": 20,
      "outputs": [
        {
          "output_type": "execute_result",
          "data": {
            "text/plain": [
              "0.3332000166676667"
            ]
          },
          "metadata": {},
          "execution_count": 20
        }
      ]
    },
    {
      "cell_type": "code",
      "source": [
        "# Comprobación\n",
        "x_= np.linspace(0,1,1000)\n",
        "scipy.integrate.simpson(funcion(x_), x_)"
      ],
      "metadata": {
        "colab": {
          "base_uri": "https://localhost:8080/"
        },
        "id": "SS5VLdL0GeWF",
        "outputId": "af48bcca-0c31-4453-fe02-013af94e55e3"
      },
      "execution_count": 23,
      "outputs": [
        {
          "output_type": "execute_result",
          "data": {
            "text/plain": [
              "0.3333333333333333"
            ]
          },
          "metadata": {},
          "execution_count": 23
        }
      ]
    },
    {
      "cell_type": "markdown",
      "source": [
        "# **Programa generalizado**"
      ],
      "metadata": {
        "id": "ZYNEk9iZmsjk"
      }
    },
    {
      "cell_type": "code",
      "source": [
        "import sys"
      ],
      "metadata": {
        "id": "GXgMhLqsnlJE"
      },
      "execution_count": 105,
      "outputs": []
    },
    {
      "cell_type": "code",
      "source": [
        "# integral.py\n",
        "\n",
        "def integral_trapz(f,a,b,N):\n",
        "\n",
        "  x= np.linspace (a,b,int(N))\n",
        "  h=(b-a)/N\n",
        "  A= ( f(x[0]) + f(x[-1]) + 2*f(x[1:-1]).sum())*h*0.5\n",
        "  return A"
      ],
      "metadata": {
        "id": "LzqUl6uwzHm0"
      },
      "execution_count": 111,
      "outputs": []
    },
    {
      "cell_type": "code",
      "source": [
        "if __name__==\"__main__\":\n",
        "  if len(sys.argv)!=5:\n",
        "    print(\"EROR: parámetros incorrectos\")\n",
        "    print(\"Modo de uso\")\n",
        "    print(f\"{sys.executable} {sys.argv[0]} f a b N \")\n",
        "    print(\"Ejemplo\")\n",
        "    print(f\"{sys.executable}{sys.argv[0]} x**2 1 3 100\")\n",
        "    exit(1)\n",
        "\n",
        "  else:\n",
        "    try:\n",
        "      n1= sys.argv[1]\n",
        "    except ValueError:\n",
        "      print(\"EROR: el párametro no es una funcion\")\n",
        "      exit(1)\n",
        "    try:\n",
        "      n2=int(sys.argv[1])\n",
        "      n3=int(sys.argv[2])\n",
        "      n4= int(sys.argv[3])\n",
        "    except ValueError:\n",
        "      print(\"ERROR: los parámetros no son números\")\n",
        "      exit(1)\n",
        "\n",
        "    print(f\"El valor de integral es {integral_trapz(f,a,b,N)}\")\n",
        "    exit(0)"
      ],
      "metadata": {
        "colab": {
          "base_uri": "https://localhost:8080/"
        },
        "id": "Cxav9rD-rwoL",
        "outputId": "19a0d69f-a83f-40c3-9f96-b0cb5734c581"
      },
      "execution_count": 82,
      "outputs": [
        {
          "output_type": "stream",
          "name": "stdout",
          "text": [
            "EROR: parámetros incorrectos\n",
            "Modo de uso\n",
            "/usr/bin/python3 /usr/local/lib/python3.10/dist-packages/colab_kernel_launcher.py f a b N \n",
            "Ejemplo\n",
            "/usr/bin/python3/usr/local/lib/python3.10/dist-packages/colab_kernel_launcher.py x**2 1 3 100\n"
          ]
        }
      ]
    },
    {
      "cell_type": "code",
      "source": [
        "print(\"Nombre del programa:\", sys.argv[0])\n",
        "print(\"Numero de elementos:\", len(sys.argv))\n",
        "print(\"Lista de argumentos:\", str(sys.argv))\n",
        "print(\"Numero de elementos excluyendo el programa:\", (len(sys.argv) - 1))"
      ],
      "metadata": {
        "colab": {
          "base_uri": "https://localhost:8080/"
        },
        "id": "uM326iyzzvOg",
        "outputId": "2ab6777d-d194-44f7-c038-7bd1b916dc40"
      },
      "execution_count": 113,
      "outputs": [
        {
          "output_type": "stream",
          "name": "stdout",
          "text": [
            "Nombre del programa: /usr/local/lib/python3.10/dist-packages/colab_kernel_launcher.py\n",
            "Numero de elementos: 3\n",
            "Lista de argumentos: ['/usr/local/lib/python3.10/dist-packages/colab_kernel_launcher.py', '-f', '/root/.local/share/jupyter/runtime/kernel-ea318d82-a2d4-467c-ac3d-9ef4ab3f65a0.json']\n",
            "Numero de elementos excluyendo el programa: 2\n"
          ]
        }
      ]
    },
    {
      "cell_type": "code",
      "source": [
        "f= lambda x: x**2+1"
      ],
      "metadata": {
        "id": "2KOB-piQvyms"
      },
      "execution_count": 89,
      "outputs": []
    },
    {
      "cell_type": "code",
      "source": [
        "integral_trapz(f,1,5,10)"
      ],
      "metadata": {
        "colab": {
          "base_uri": "https://localhost:8080/"
        },
        "id": "bnMERJH3rPPj",
        "outputId": "ce800d17-89cc-4a1e-a7f5-80e659799a1f"
      },
      "execution_count": 91,
      "outputs": [
        {
          "output_type": "execute_result",
          "data": {
            "text/plain": [
              "40.91851851851851"
            ]
          },
          "metadata": {},
          "execution_count": 91
        }
      ]
    },
    {
      "cell_type": "code",
      "source": [
        "h= lambda x: np.cos(x*np.exp(x))"
      ],
      "metadata": {
        "id": "beAVGuz9GGJo"
      },
      "execution_count": 39,
      "outputs": []
    },
    {
      "cell_type": "code",
      "source": [
        "I= simpson_c(0.1,np.inf,10)"
      ],
      "metadata": {
        "colab": {
          "base_uri": "https://localhost:8080/"
        },
        "id": "Zvue50WKGSrD",
        "outputId": "9296e7dd-25fb-4c1a-9377-7fc1eeb44789"
      },
      "execution_count": 40,
      "outputs": [
        {
          "output_type": "stream",
          "name": "stderr",
          "text": [
            "/usr/local/lib/python3.10/dist-packages/numpy/core/function_base.py:151: RuntimeWarning: invalid value encountered in multiply\n",
            "  y *= step\n"
          ]
        }
      ]
    }
  ]
}