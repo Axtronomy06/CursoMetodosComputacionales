{
 "cells": [
  {
   "cell_type": "code",
   "execution_count": 1,
   "metadata": {
    "id": "S-3rxeKSp7Tc"
   },
   "outputs": [],
   "source": [
    "import numpy as np\n",
    "import sympy as sp\n",
    "import matplotlib.pyplot as plt\n",
    "from numpy import linalg as LA # libreria de álgebra lineal"
   ]
  },
  {
   "cell_type": "markdown",
   "metadata": {
    "id": "E_g3esRqItPt"
   },
   "source": [
    "# **Analíticamente**\n",
    "\n",
    "\n"
   ]
  },
  {
   "cell_type": "code",
   "execution_count": 2,
   "metadata": {
    "colab": {
     "base_uri": "https://localhost:8080/"
    },
    "id": "SpivUyKerERY",
    "outputId": "d38f29ad-8d8d-46ee-be55-31694d26dc9e"
   },
   "outputs": [
    {
     "data": {
      "text/plain": [
       "array([[ 1, -1,  4],\n",
       "       [ 3,  2, -1],\n",
       "       [ 2,  1, -1]])"
      ]
     },
     "execution_count": 2,
     "metadata": {},
     "output_type": "execute_result"
    }
   ],
   "source": [
    "A= np.array([[1,-1,4],\n",
    "              [3,2,-1],\n",
    "              [2,1,-1]])\n",
    "A"
   ]
  },
  {
   "cell_type": "code",
   "execution_count": 3,
   "metadata": {
    "colab": {
     "base_uri": "https://localhost:8080/"
    },
    "id": "GIrC4tBRsCMr",
    "outputId": "7b41ade5-0e71-4c55-93c6-f4c6cd2c04b9"
   },
   "outputs": [
    {
     "data": {
      "text/plain": [
       "array([[1, 0, 0],\n",
       "       [0, 1, 0],\n",
       "       [0, 0, 1]])"
      ]
     },
     "execution_count": 3,
     "metadata": {},
     "output_type": "execute_result"
    }
   ],
   "source": [
    "I= np.array([[1,0,0],\n",
    "             [0,1,0],\n",
    "             [0,0,1]])\n",
    "I"
   ]
  },
  {
   "cell_type": "code",
   "execution_count": 4,
   "metadata": {
    "id": "qc7U4tK1sSCu"
   },
   "outputs": [],
   "source": [
    "I_s= sp. Matrix(I)"
   ]
  },
  {
   "cell_type": "code",
   "execution_count": 5,
   "metadata": {
    "id": "x7jIGhm1qKmZ"
   },
   "outputs": [],
   "source": [
    "B= sp.Matrix(A)\n",
    "C= sp.Matrix(I)"
   ]
  },
  {
   "cell_type": "code",
   "execution_count": 6,
   "metadata": {
    "colab": {
     "base_uri": "https://localhost:8080/",
     "height": 39
    },
    "id": "OPA2PNtVsK4c",
    "outputId": "f0cf8a86-0cbd-4c34-8e85-c8e5676b3abd"
   },
   "outputs": [
    {
     "data": {
      "text/latex": [
       "$\\displaystyle \\lambda$"
      ],
      "text/plain": [
       "lambda"
      ]
     },
     "execution_count": 6,
     "metadata": {},
     "output_type": "execute_result"
    }
   ],
   "source": [
    "lambda_= sp.Symbol(\"lambda\")\n",
    "lambda_"
   ]
  },
  {
   "cell_type": "code",
   "execution_count": 7,
   "metadata": {
    "colab": {
     "base_uri": "https://localhost:8080/",
     "height": 78
    },
    "id": "XYWEKPPpsN-p",
    "outputId": "c88931da-7ab7-45ae-9d4f-d375537e0197"
   },
   "outputs": [
    {
     "data": {
      "text/latex": [
       "$\\displaystyle \\left[\\begin{matrix}1 - \\lambda & -1 & 4\\\\3 & 2 - \\lambda & -1\\\\2 & 1 & - \\lambda - 1\\end{matrix}\\right]$"
      ],
      "text/plain": [
       "Matrix([\n",
       "[1 - lambda,         -1,           4],\n",
       "[         3, 2 - lambda,          -1],\n",
       "[         2,          1, -lambda - 1]])"
      ]
     },
     "execution_count": 7,
     "metadata": {},
     "output_type": "execute_result"
    }
   ],
   "source": [
    "M= B-lambda_*I_s\n",
    "M"
   ]
  },
  {
   "cell_type": "code",
   "execution_count": 8,
   "metadata": {
    "colab": {
     "base_uri": "https://localhost:8080/",
     "height": 39
    },
    "id": "QiM3TOG1sVJx",
    "outputId": "a7fce9e4-ddf7-42ac-eab8-57b4561837ec"
   },
   "outputs": [
    {
     "data": {
      "text/latex": [
       "$\\displaystyle - \\lambda^{3} + 2 \\lambda^{2} + 5 \\lambda - 6$"
      ],
      "text/plain": [
       "-lambda**3 + 2*lambda**2 + 5*lambda - 6"
      ]
     },
     "execution_count": 8,
     "metadata": {},
     "output_type": "execute_result"
    }
   ],
   "source": [
    "# Polinomio característico\n",
    "\n",
    "det= M.det()\n",
    "det"
   ]
  },
  {
   "cell_type": "code",
   "execution_count": 9,
   "metadata": {
    "colab": {
     "base_uri": "https://localhost:8080/"
    },
    "id": "sdAmcnYXq-H7",
    "outputId": "3c01f608-9bab-4eb0-83d2-007d90afeed3"
   },
   "outputs": [
    {
     "data": {
      "text/plain": [
       "array([ 1., -2., -5.,  6.])"
      ]
     },
     "execution_count": 9,
     "metadata": {},
     "output_type": "execute_result"
    }
   ],
   "source": [
    "np.poly(A)"
   ]
  },
  {
   "cell_type": "code",
   "execution_count": 10,
   "metadata": {
    "colab": {
     "base_uri": "https://localhost:8080/"
    },
    "id": "qBhyJFUfroMr",
    "outputId": "9d157955-8a7a-4f11-aa33-fb4027c4ea9a"
   },
   "outputs": [
    {
     "data": {
      "text/plain": [
       "(array([ 3., -2.,  1.]),\n",
       " array([[ 0.40824829,  0.57735027,  0.23570226],\n",
       "        [ 0.81649658, -0.57735027, -0.94280904],\n",
       "        [ 0.40824829, -0.57735027, -0.23570226]]))"
      ]
     },
     "execution_count": 10,
     "metadata": {},
     "output_type": "execute_result"
    }
   ],
   "source": [
    "# Valores propios y vectores propios\n",
    "\n",
    "np.linalg.eig(A)"
   ]
  },
  {
   "cell_type": "markdown",
   "metadata": {
    "id": "nWtlN41PsltW"
   },
   "source": [
    "# **Generalizar determinante  3x3**"
   ]
  },
  {
   "cell_type": "code",
   "execution_count": 11,
   "metadata": {
    "id": "aB3EolETspGn"
   },
   "outputs": [],
   "source": [
    "# Determinante de una matriz 2x2\n",
    "\n",
    "def det(M):\n",
    " return M[0,0]*M[1,1]-M[1,0]*M[0,1]"
   ]
  },
  {
   "cell_type": "code",
   "execution_count": 12,
   "metadata": {
    "id": "0Axbp8YHu9jF"
   },
   "outputs": [],
   "source": [
    "def det_3 (M1):\n",
    "  d= M1[0,0]*det(M1[1:3:1,1:3:1])-M1[1,0]*det(M1[0:3:2,1:3:1])+ M1[2,0]*det(M1[0:2:1,1:3:1])\n",
    "  return d"
   ]
  },
  {
   "cell_type": "code",
   "execution_count": 13,
   "metadata": {
    "colab": {
     "base_uri": "https://localhost:8080/",
     "height": 37
    },
    "id": "cMzDNniS0qRL",
    "outputId": "60ace940-4c45-4d98-b60b-ba0bf2a81ed7"
   },
   "outputs": [
    {
     "data": {
      "text/latex": [
       "$\\displaystyle -6$"
      ],
      "text/plain": [
       "-6"
      ]
     },
     "execution_count": 13,
     "metadata": {},
     "output_type": "execute_result"
    }
   ],
   "source": [
    "det_3(B)"
   ]
  },
  {
   "cell_type": "code",
   "execution_count": 14,
   "metadata": {
    "colab": {
     "base_uri": "https://localhost:8080/",
     "height": 39
    },
    "id": "RFs0ekljMd7k",
    "outputId": "76a37d0e-3d56-4d02-bd73-7b336ed1fa80"
   },
   "outputs": [
    {
     "data": {
      "text/latex": [
       "$\\displaystyle \\operatorname{Poly}{\\left( -\\lambda^{3} + 2 \\lambda^{2} + 5 \\lambda - 6, \\lambda, domain=\\mathbb{Z} \\right)}$"
      ],
      "text/plain": [
       "Poly(-lambda**3 + 2*lambda**2 + 5*lambda - 6, lambda, domain='ZZ')"
      ]
     },
     "execution_count": 14,
     "metadata": {},
     "output_type": "execute_result"
    }
   ],
   "source": [
    "# Polinomío característico\n",
    "pol= B-lambda_*I_s\n",
    "pol_= sp.poly(det_3(pol))\n",
    "pol_"
   ]
  },
  {
   "cell_type": "markdown",
   "metadata": {
    "id": "DauWAZf6NcDq"
   },
   "source": [
    "# **Generalización para determinar los vectores propios**"
   ]
  },
  {
   "cell_type": "code",
   "execution_count": 15,
   "metadata": {
    "colab": {
     "base_uri": "https://localhost:8080/"
    },
    "id": "J6q9oopX12IW",
    "outputId": "3cfb4aa6-2c57-40ba-ef01-aa3802d8eb2c"
   },
   "outputs": [
    {
     "data": {
      "text/plain": [
       "(-2, 1, 3)"
      ]
     },
     "execution_count": 15,
     "metadata": {},
     "output_type": "execute_result"
    }
   ],
   "source": [
    "# Valores propios de la matriz\n",
    "\n",
    "pol= B-lambda_*I_s\n",
    "pol_= sp.poly(det_3(pol))\n",
    "\n",
    "sol1,sol2,sol3,= sp.solve(pol_)\n",
    "sol1,sol2,sol3"
   ]
  },
  {
   "cell_type": "code",
   "execution_count": 16,
   "metadata": {
    "colab": {
     "base_uri": "https://localhost:8080/",
     "height": 78
    },
    "id": "cSlT_BO58ybC",
    "outputId": "24681338-52bd-4a0c-b2ad-2fba3973579c"
   },
   "outputs": [
    {
     "data": {
      "text/latex": [
       "$\\displaystyle \\left[\\begin{matrix}3 & -1 & 4\\\\3 & 4 & -1\\\\2 & 1 & 1\\end{matrix}\\right]$"
      ],
      "text/plain": [
       "Matrix([\n",
       "[3, -1,  4],\n",
       "[3,  4, -1],\n",
       "[2,  1,  1]])"
      ]
     },
     "execution_count": 16,
     "metadata": {},
     "output_type": "execute_result"
    }
   ],
   "source": [
    "B2= B-sol1*I_s\n",
    "B2"
   ]
  },
  {
   "cell_type": "code",
   "execution_count": 17,
   "metadata": {
    "colab": {
     "base_uri": "https://localhost:8080/",
     "height": 78
    },
    "id": "sXCkRETL991w",
    "outputId": "656af5e0-0719-4cbf-8eaf-41e3d53a0991"
   },
   "outputs": [
    {
     "data": {
      "text/latex": [
       "$\\displaystyle \\left[\\begin{matrix}0 & -1 & 4\\\\3 & 1 & -1\\\\2 & 1 & -2\\end{matrix}\\right]$"
      ],
      "text/plain": [
       "Matrix([\n",
       "[0, -1,  4],\n",
       "[3,  1, -1],\n",
       "[2,  1, -2]])"
      ]
     },
     "execution_count": 17,
     "metadata": {},
     "output_type": "execute_result"
    }
   ],
   "source": [
    "B1= B-sol2*I_s\n",
    "B1"
   ]
  },
  {
   "cell_type": "code",
   "execution_count": 18,
   "metadata": {
    "colab": {
     "base_uri": "https://localhost:8080/",
     "height": 78
    },
    "id": "k7tatoJ2-BfI",
    "outputId": "bf90ccb3-5c85-44e5-bba1-f6a3b524b379"
   },
   "outputs": [
    {
     "data": {
      "text/latex": [
       "$\\displaystyle \\left[\\begin{matrix}-2 & -1 & 4\\\\3 & -1 & -1\\\\2 & 1 & -4\\end{matrix}\\right]$"
      ],
      "text/plain": [
       "Matrix([\n",
       "[-2, -1,  4],\n",
       "[ 3, -1, -1],\n",
       "[ 2,  1, -4]])"
      ]
     },
     "execution_count": 18,
     "metadata": {},
     "output_type": "execute_result"
    }
   ],
   "source": [
    "B3= B-sol3*I_s\n",
    "B3"
   ]
  },
  {
   "cell_type": "code",
   "execution_count": 19,
   "metadata": {
    "colab": {
     "base_uri": "https://localhost:8080/",
     "height": 78
    },
    "id": "ex2e5KIkRuXe",
    "outputId": "d28f4702-783a-4ed9-e772-693335c5956b"
   },
   "outputs": [
    {
     "data": {
      "text/latex": [
       "$\\displaystyle \\left[\\begin{matrix}x_{1}\\\\x_{2}\\\\x_{3}\\end{matrix}\\right]$"
      ],
      "text/plain": [
       "Matrix([\n",
       "[x1],\n",
       "[x2],\n",
       "[x3]])"
      ]
     },
     "execution_count": 19,
     "metadata": {},
     "output_type": "execute_result"
    }
   ],
   "source": [
    "x1= sp.Symbol(\"x1\")\n",
    "x2= sp.Symbol(\"x2\")\n",
    "x3= sp.Symbol(\"x3\")\n",
    "X_= sp.Matrix([x1,x2,x3])\n",
    "X_"
   ]
  },
  {
   "cell_type": "code",
   "execution_count": 20,
   "metadata": {
    "colab": {
     "base_uri": "https://localhost:8080/",
     "height": 78
    },
    "id": "Qc1GKy_mYvdM",
    "outputId": "d0d80cf7-e04c-4ddc-946a-ca2772e622d0"
   },
   "outputs": [
    {
     "data": {
      "text/latex": [
       "$\\displaystyle \\left[\\begin{matrix}1 & 0 & 1\\\\0 & 1 & -1\\\\0 & 0 & 0\\end{matrix}\\right]$"
      ],
      "text/plain": [
       "Matrix([\n",
       "[1, 0,  1],\n",
       "[0, 1, -1],\n",
       "[0, 0,  0]])"
      ]
     },
     "execution_count": 20,
     "metadata": {},
     "output_type": "execute_result"
    }
   ],
   "source": [
    "p= B2.rref()[0] # luego llamar a las variables x1,x2,x3\n",
    "p"
   ]
  },
  {
   "cell_type": "code",
   "execution_count": 21,
   "metadata": {
    "colab": {
     "base_uri": "https://localhost:8080/",
     "height": 78
    },
    "id": "wL0Qj-xXZYN5",
    "outputId": "2319d8d7-eaed-436c-beb9-94dfd2a8b11a"
   },
   "outputs": [
    {
     "data": {
      "text/latex": [
       "$\\displaystyle \\left[\\begin{matrix}x_{1} + x_{3}\\\\x_{2} - x_{3}\\\\0\\end{matrix}\\right]$"
      ],
      "text/plain": [
       "Matrix([\n",
       "[x1 + x3],\n",
       "[x2 - x3],\n",
       "[      0]])"
      ]
     },
     "execution_count": 21,
     "metadata": {},
     "output_type": "execute_result"
    }
   ],
   "source": [
    "p*X_"
   ]
  },
  {
   "cell_type": "code",
   "execution_count": 22,
   "metadata": {
    "id": "XFZpQegJZ9gj"
   },
   "outputs": [],
   "source": [
    "prueba= sp.solve(p*X_) # x3 debería tomar cualquier valor"
   ]
  },
  {
   "cell_type": "code",
   "execution_count": 23,
   "metadata": {
    "colab": {
     "base_uri": "https://localhost:8080/"
    },
    "id": "rIvAH48Mb0HA",
    "outputId": "7feb66d9-40d0-408f-8070-b54fd8b75f0a"
   },
   "outputs": [
    {
     "data": {
      "text/plain": [
       "{x1: -x3, x2: x3}"
      ]
     },
     "execution_count": 23,
     "metadata": {},
     "output_type": "execute_result"
    }
   ],
   "source": [
    "prueba"
   ]
  },
  {
   "cell_type": "code",
   "execution_count": 24,
   "metadata": {
    "colab": {
     "base_uri": "https://localhost:8080/",
     "height": 78
    },
    "id": "zGmQtJf0SaCB",
    "outputId": "cf57722e-8551-4258-abcf-2c837b56cc15"
   },
   "outputs": [
    {
     "data": {
      "text/latex": [
       "$\\displaystyle \\left[\\begin{matrix}3 x_{1} - x_{2} + 4 x_{3}\\\\3 x_{1} + 4 x_{2} - x_{3}\\\\2 x_{1} + x_{2} + x_{3}\\end{matrix}\\right]$"
      ],
      "text/plain": [
       "Matrix([\n",
       "[3*x1 - x2 + 4*x3],\n",
       "[3*x1 + 4*x2 - x3],\n",
       "[  2*x1 + x2 + x3]])"
      ]
     },
     "execution_count": 24,
     "metadata": {},
     "output_type": "execute_result"
    }
   ],
   "source": [
    "B2*X_ # cual es la columna LD"
   ]
  },
  {
   "cell_type": "code",
   "execution_count": 25,
   "metadata": {
    "colab": {
     "base_uri": "https://localhost:8080/"
    },
    "id": "c8CofvyhSJU4",
    "outputId": "97457701-048f-4cac-873d-592470a4e331"
   },
   "outputs": [
    {
     "data": {
      "text/plain": [
       "([Matrix([\n",
       "  [-1],\n",
       "  [ 1],\n",
       "  [ 1]])],\n",
       " [Matrix([\n",
       "  [1],\n",
       "  [2],\n",
       "  [1]])],\n",
       " [Matrix([\n",
       "  [-1],\n",
       "  [ 4],\n",
       "  [ 1]])])"
      ]
     },
     "execution_count": 25,
     "metadata": {},
     "output_type": "execute_result"
    }
   ],
   "source": [
    "# comprobación librería\n",
    "B2.nullspace(),B3.nullspace(),B1.nullspace()"
   ]
  },
  {
   "cell_type": "code",
   "execution_count": 26,
   "metadata": {
    "id": "lhwKW2CebdNU"
   },
   "outputs": [],
   "source": [
    "def vectores_(M):\n",
    "  col= np.zeros((3,1))\n",
    "  valores=[]\n",
    "\n",
    "  if det_3(M) == 0:\n",
    "    M_LD = M.rref()[0]\n",
    "    Sol = sp.solve(M_LD*X_)\n",
    "    for clave, objeto in Sol.items():\n",
    "      columna= objeto/x3 # factorizar el elemento de ese vector\n",
    "      valores.append(columna)\n",
    "      for i, valor in enumerate(valores):\n",
    "        col[i, 0] = valor\n",
    "  return col.T"
   ]
  },
  {
   "cell_type": "code",
   "execution_count": 27,
   "metadata": {
    "colab": {
     "base_uri": "https://localhost:8080/"
    },
    "id": "lAmxm4Sunt8_",
    "outputId": "04b2fada-3513-4d3c-fd86-61d830d3b404"
   },
   "outputs": [
    {
     "data": {
      "text/plain": [
       "(1, 3)"
      ]
     },
     "execution_count": 27,
     "metadata": {},
     "output_type": "execute_result"
    }
   ],
   "source": [
    "np.shape(vectores_(B1))"
   ]
  },
  {
   "cell_type": "code",
   "execution_count": 28,
   "metadata": {
    "colab": {
     "base_uri": "https://localhost:8080/",
     "height": 78
    },
    "id": "uu8_VytpcLMk",
    "outputId": "121693bc-8a35-43c1-8f5a-1e623cd2ff90"
   },
   "outputs": [
    {
     "data": {
      "text/latex": [
       "$\\displaystyle \\left[\\begin{matrix}-1 & -1 & 1\\\\4 & 1 & 2\\\\1 & 1 & 1\\end{matrix}\\right]$"
      ],
      "text/plain": [
       "Matrix([\n",
       "[-1, -1, 1],\n",
       "[ 4,  1, 2],\n",
       "[ 1,  1, 1]])"
      ]
     },
     "execution_count": 28,
     "metadata": {},
     "output_type": "execute_result"
    }
   ],
   "source": [
    "Pp= np.array(((vectores_(B1)),(vectores_(B2)),(vectores_(B3)))).reshape(3,3).astype(int)\n",
    "P_= sp.Matrix(Pp)\n",
    "P= P_.T.subs({0:1})\n",
    "P"
   ]
  },
  {
   "cell_type": "code",
   "execution_count": 29,
   "metadata": {
    "colab": {
     "base_uri": "https://localhost:8080/",
     "height": 78
    },
    "id": "CF0efWzwqr_c",
    "outputId": "f692704d-e3f4-47c7-c180-9898533ae4d7"
   },
   "outputs": [
    {
     "data": {
      "text/latex": [
       "$\\displaystyle \\left[\\begin{matrix}1 & 0 & 0\\\\0 & -2 & 0\\\\0 & 0 & 3\\end{matrix}\\right]$"
      ],
      "text/plain": [
       "Matrix([\n",
       "[1,  0, 0],\n",
       "[0, -2, 0],\n",
       "[0,  0, 3]])"
      ]
     },
     "execution_count": 29,
     "metadata": {},
     "output_type": "execute_result"
    }
   ],
   "source": [
    "D= sp.Matrix(((1,0,0),\n",
    "              (0,-2,0),\n",
    "              (0,0,3)))\n",
    "D"
   ]
  },
  {
   "cell_type": "code",
   "execution_count": 30,
   "metadata": {
    "colab": {
     "base_uri": "https://localhost:8080/",
     "height": 78
    },
    "id": "Ud6np3uUjzOE",
    "outputId": "71d393e6-c85b-44eb-def1-538f9a5c8be7"
   },
   "outputs": [
    {
     "data": {
      "text/latex": [
       "$\\displaystyle \\left[\\begin{matrix}1 & -1 & 4\\\\3 & 2 & -1\\\\2 & 1 & -1\\end{matrix}\\right]$"
      ],
      "text/plain": [
       "Matrix([\n",
       "[1, -1,  4],\n",
       "[3,  2, -1],\n",
       "[2,  1, -1]])"
      ]
     },
     "execution_count": 30,
     "metadata": {},
     "output_type": "execute_result"
    }
   ],
   "source": [
    "# Diagonalización\n",
    "\n",
    "A_diag = P @ (D @ P.inv())\n",
    "A_diag"
   ]
  },
  {
   "cell_type": "markdown",
   "metadata": {
    "id": "Puu8AlP6hOYX"
   },
   "source": [
    "# **Parte 2**"
   ]
  },
  {
   "cell_type": "code",
   "execution_count": 31,
   "metadata": {
    "id": "hlF7kJoMhTaX"
   },
   "outputs": [],
   "source": [
    "A_= np.array([[1,-2],\n",
    "            [-2,3]])"
   ]
  },
  {
   "cell_type": "code",
   "execution_count": 32,
   "metadata": {
    "id": "fw5izsye6aUP"
   },
   "outputs": [],
   "source": [
    "x= sp.Symbol(\"x\")\n",
    "y= sp.Symbol(\"y\")"
   ]
  },
  {
   "cell_type": "code",
   "execution_count": 33,
   "metadata": {
    "id": "ba8LtkMD0P6h"
   },
   "outputs": [],
   "source": [
    "def hiperbola(x, y):\n",
    "    v = np.array([x, y])\n",
    "    return np.array([(A_ @ v).dot(v)-6])"
   ]
  },
  {
   "cell_type": "code",
   "execution_count": 34,
   "metadata": {
    "colab": {
     "base_uri": "https://localhost:8080/"
    },
    "id": "W1QgH_3-5gkK",
    "outputId": "77605eaa-d4c3-4b50-8a33-37f494ce1b8e"
   },
   "outputs": [
    {
     "data": {
      "text/plain": [
       "array([x*(x - 2*y) + y*(-2*x + 3*y) - 6], dtype=object)"
      ]
     },
     "execution_count": 34,
     "metadata": {},
     "output_type": "execute_result"
    }
   ],
   "source": [
    "hiperbola(x,y)"
   ]
  },
  {
   "cell_type": "code",
   "execution_count": 35,
   "metadata": {
    "id": "KrOX412x6nDo"
   },
   "outputs": [],
   "source": [
    "x_ = np.linspace(-5, 5, 400)\n",
    "y_ = np.linspace(-5, 5, 400)\n",
    "X, Y = np.meshgrid(x_, y_)"
   ]
  },
  {
   "cell_type": "code",
   "execution_count": 36,
   "metadata": {
    "id": "3HAxjdso0j9i"
   },
   "outputs": [],
   "source": [
    "hiperbola_vals = np.vectorize(hiperbola)(X,Y)"
   ]
  },
  {
   "cell_type": "code",
   "execution_count": 37,
   "metadata": {
    "colab": {
     "base_uri": "https://localhost:8080/",
     "height": 447
    },
    "id": "FMWNa1Il6xaX",
    "outputId": "3b480394-1b28-45e8-9349-3e7e722da77a"
   },
   "outputs": [
    {
     "data": {
      "text/plain": [
       "<matplotlib.contour.QuadContourSet at 0x1245bb670>"
      ]
     },
     "execution_count": 37,
     "metadata": {},
     "output_type": "execute_result"
    },
    {
     "data": {
      "image/png": "[encoded data removed]",
      "text/plain": [
       "<Figure size 640x480 with 1 Axes>"
      ]
     },
     "metadata": {},
     "output_type": "display_data"
    }
   ],
   "source": [
    "plt.contour(X,Y, hiperbola_vals,levels=[0], colors='b')"
   ]
  },
  {
   "cell_type": "code",
   "execution_count": 38,
   "metadata": {
    "colab": {
     "base_uri": "https://localhost:8080/"
    },
    "id": "O6uBEoxDs_ox",
    "outputId": "ac25b5d1-cbd4-48b0-cb24-f8a85deb9c27"
   },
   "outputs": [
    {
     "data": {
      "text/plain": [
       "(array([-0.23606798,  4.23606798]),\n",
       " array([[-0.85065081,  0.52573111],\n",
       "        [-0.52573111, -0.85065081]]))"
      ]
     },
     "execution_count": 38,
     "metadata": {},
     "output_type": "execute_result"
    }
   ],
   "source": [
    "# Valores y vectores propios de A_\n",
    "\n",
    "vp,Q= LA.eig(A_)\n",
    "vp,Q\n",
    "\n",
    "# V es la matriz de autovectores que son ortogonales entre si"
   ]
  },
  {
   "cell_type": "code",
   "execution_count": 39,
   "metadata": {
    "colab": {
     "base_uri": "https://localhost:8080/"
    },
    "id": "l1zzCoFkv_WA",
    "outputId": "e71f9086-d3ce-401a-cef4-9d2bbe5c0a1a"
   },
   "outputs": [
    {
     "data": {
      "text/plain": [
       "array([[-2.36067977e-01, -3.48462032e-16],\n",
       "       [-3.10277310e-16,  4.23606798e+00]])"
      ]
     },
     "execution_count": 39,
     "metadata": {},
     "output_type": "execute_result"
    }
   ],
   "source": [
    "D= Q.T @ A_ @ Q\n",
    "D"
   ]
  },
  {
   "cell_type": "code",
   "execution_count": 40,
   "metadata": {
    "colab": {
     "base_uri": "https://localhost:8080/"
    },
    "id": "vB74e6WYwwjO",
    "outputId": "46ec84f3-4760-4cc0-b765-23db85155848"
   },
   "outputs": [
    {
     "data": {
      "text/plain": [
       "array([[ 1., -2.],\n",
       "       [-2.,  3.]])"
      ]
     },
     "execution_count": 40,
     "metadata": {},
     "output_type": "execute_result"
    }
   ],
   "source": [
    "a= Q @ D @ Q.T\n",
    "a # diagonizable ortogonalmente"
   ]
  },
  {
   "cell_type": "code",
   "execution_count": 41,
   "metadata": {
    "id": "MYABGTWn7WiY"
   },
   "outputs": [],
   "source": [
    "v = np.array((x, y))"
   ]
  },
  {
   "cell_type": "code",
   "execution_count": 42,
   "metadata": {
    "colab": {
     "base_uri": "https://localhost:8080/"
    },
    "id": "ymthfMFAvKuZ",
    "outputId": "4d1e63e5-886b-40bd-e31c-74b1fb473780"
   },
   "outputs": [
    {
     "data": {
      "text/plain": [
       "array([[-0.85065080835204*x, -0.525731112119133*y],\n",
       "       [0.525731112119133*x, -0.85065080835204*y]], dtype=object)"
      ]
     },
     "execution_count": 42,
     "metadata": {},
     "output_type": "execute_result"
    }
   ],
   "source": [
    "u= Q.T * v\n",
    "u"
   ]
  },
  {
   "cell_type": "code",
   "execution_count": 43,
   "metadata": {
    "colab": {
     "base_uri": "https://localhost:8080/"
    },
    "id": "RXrDiKz5ybSB",
    "outputId": "1c6a3d1c-41b3-4618-8146-1db481960bf6"
   },
   "outputs": [
    {
     "data": {
      "text/plain": [
       "array([[-0.170820393249937*x**2 + 0.0652475842498529*x*y,\n",
       "        -0.105572809000084*x*y - 0.105572809000084*y**2],\n",
       "       [-1.89442719099992*x**2 - 1.89442719099992*x*y,\n",
       "        -1.17082039324994*x*y + 3.06524758424985*y**2]], dtype=object)"
      ]
     },
     "execution_count": 43,
     "metadata": {},
     "output_type": "execute_result"
    }
   ],
   "source": [
    "# Hiperbola en la nueva base\n",
    "\n",
    "d= (D @ u).dot(u)\n",
    "d"
   ]
  },
  {
   "cell_type": "code",
   "execution_count": null,
   "metadata": {},
   "outputs": [],
   "source": []
  },
  {
   "cell_type": "code",
   "execution_count": null,
   "metadata": {},
   "outputs": [],
   "source": []
  }
 ],
 "metadata": {
  "colab": {
   "provenance": []
  },
  "kernelspec": {
   "display_name": "Python 3 (ipykernel)",
   "language": "python",
   "name": "python3"
  },
  "language_info": {
   "codemirror_mode": {
    "name": "ipython",
    "version": 3
   },
   "file_extension": ".py",
   "mimetype": "text/x-python",
   "name": "python",
   "nbconvert_exporter": "python",
   "pygments_lexer": "ipython3",
   "version": "3.10.9"
  }
 },
 "nbformat": 4,
 "nbformat_minor": 1
}
