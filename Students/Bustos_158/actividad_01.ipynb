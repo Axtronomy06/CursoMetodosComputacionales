{
  "nbformat": 4,
  "nbformat_minor": 0,
  "metadata": {
    "colab": {
      "provenance": []
    },
    "kernelspec": {
      "name": "python3",
      "display_name": "Python 3"
    },
    "language_info": {
      "name": "python"
    }
  },
  "cells": [
    {
      "cell_type": "markdown",
      "source": [
        "# **Punto 1**"
      ],
      "metadata": {
        "id": "IR_BcHpwxlyW"
      }
    },
    {
      "cell_type": "code",
      "source": [
        "# Punto 1 (4 lineas menos)\n",
        "print(\"La siguiente función pide un número natural que devuelve su factorial doble\")\n",
        "n=int(input(\"Ingrese el número:\"))\n",
        "def doble_factorial(n):\n",
        "  f=1\n",
        "  for i in range (n,0,-2):\n",
        "      f=f*i\n",
        "  return(f)\n",
        "print(\"Resultado:\",doble_factorial(n))"
      ],
      "metadata": {
        "colab": {
          "base_uri": "https://localhost:8080/"
        },
        "id": "JMLm3l4PvYnH",
        "outputId": "9c8ad685-fe49-4a56-ad60-a94cc1f50473"
      },
      "execution_count": null,
      "outputs": [
        {
          "output_type": "stream",
          "name": "stdout",
          "text": [
            "La siguiente función pide un número natural que devuelve su factorial doble\n",
            "Ingrese el número:6\n",
            "Resultado: 48\n"
          ]
        }
      ]
    },
    {
      "cell_type": "markdown",
      "source": [
        "# **Punto 2**"
      ],
      "metadata": {
        "id": "tOwC98Uwx02w"
      }
    },
    {
      "cell_type": "code",
      "source": [
        "print(\"Sucesión similar a la de Fibonacci, empieza sumando el 2 y 1\")\n",
        "n=int(input(\"Ingrese el n-ésimo término de la sucesión:\"))\n",
        "def lucas(n):\n",
        "  f0=2\n",
        "  f1=1\n",
        "  for i in range(n):\n",
        "    f_nuevo=f0+f1\n",
        "    f0=f1\n",
        "    f1=f_nuevo+f0-f1\n",
        "  return(f0)\n",
        "print(\"Resultado:\",lucas(n))"
      ],
      "metadata": {
        "colab": {
          "base_uri": "https://localhost:8080/"
        },
        "id": "x9SzRMIYx4lz",
        "outputId": "58bb11de-2fc9-40f5-ebb8-a31fe4b9cd7d"
      },
      "execution_count": null,
      "outputs": [
        {
          "output_type": "stream",
          "name": "stdout",
          "text": [
            "Sucesión similar a la de Fibonacci, empieza sumando el 2 y 1\n",
            "Ingrese el n-ésimo término de la sucesión:3\n",
            "Resultado: 4\n"
          ]
        }
      ]
    },
    {
      "cell_type": "markdown",
      "source": [
        "# **Punto 3**"
      ],
      "metadata": {
        "id": "Sun9gy53SxFr"
      }
    },
    {
      "cell_type": "code",
      "source": [
        "print(\"La siguiente función calcula el coeficiente binomial\")\n",
        "n=int(input(\"Ingrese el número de elementos del conjunto:\"))\n",
        "k=int(input(\"Ingrese el número de formas en las que desea agrupar los elementos:\"))\n",
        "def binomial(n,k):\n",
        "  f=1\n",
        "  m=1\n",
        "  h=1 # para r\n",
        "  r=n-k\n",
        "  for i in range (1,n+1):\n",
        "    f=f*i\n",
        "  for j in range (1,k+1):\n",
        "    m=m*j\n",
        "  for l in range (1,r+1):\n",
        "    h=h*l\n",
        "    coef=(f/(m*h))\n",
        "  return(coef)\n",
        "print(\"Resultado:\",binomial(n,k))"
      ],
      "metadata": {
        "colab": {
          "base_uri": "https://localhost:8080/"
        },
        "id": "p6EVnGUsS0Pd",
        "outputId": "378bd840-2141-459c-e7f2-2095405e2d6e"
      },
      "execution_count": null,
      "outputs": [
        {
          "output_type": "stream",
          "name": "stdout",
          "text": [
            "La siguiente función calcula el coeficiente binomial\n",
            "Ingrese el número de elementos del conjunto:6\n",
            "Ingrese el número de formas en las que desea agrupar los elementos:4\n",
            "Resultado: 15.0\n"
          ]
        }
      ]
    }
  ]
}