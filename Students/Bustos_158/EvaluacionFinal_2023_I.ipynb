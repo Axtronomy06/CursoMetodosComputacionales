{
  "cells": [
    {
      "cell_type": "markdown",
      "metadata": {
        "id": "j1boEMm5EiX1"
      },
      "source": [
        "<a href=\"https://colab.research.google.com/github/hernansalinas/autogrades/blob/main/Evaluaciones/EvaluacionFinal_2023_I.ipynb\" target=\"_parent\"><img src=\"https://colab.research.google.com/assets/colab-badge.svg\" alt=\"Open In Colab\"/></a>"
      ]
    },
    {
      "cell_type": "markdown",
      "metadata": {
        "id": "ZJKDD4sdpzP7"
      },
      "source": [
        "Examen Final:\n",
        "\n",
        "Métodos Computacionales para físicos\n",
        "\n",
        "\n",
        "\n",
        "Nota: La entrega del examen es a través del github en la página del curso, en el directorio asociado a cada uno.\n",
        "\n",
        "\n",
        "\n",
        "\n",
        "Las aletas son sólidos que transfieren calor por conducción a lo largo de su geometría y por convección a través de su entorno. La ecuación diferencial que describe la temperatura como función de  la longitud de una  aleta viene dada por :\n",
        "\n",
        "\n",
        "\\begin{equation}\n",
        "\\frac{d^2(T-T_{\\infty})}{dx^2} - \\left( \\frac{hp}{kAc} \\right ) ^2 (T-T_{\\infty})=0\n",
        "\\end{equation}\n",
        "\n",
        "donde Ac es el  área de la sección transversal Ac, p es perímetro,\n",
        "k es el coficiente de conducción que depende de cada material y h el coficiente de convección. La temperatura  $T_{\\infty}$ es la temperatura ambiente.\n",
        "\n",
        "\n",
        "![aleta](https://github.com/hernansalinas/autogradesMetodosComputacionales/blob/main/Evaluaciones/img/aleta.png?raw=true)\n",
        "\n",
        "\n",
        "\n",
        "En general, el área de la sección transversal A y el perímetro p de una aleta\n",
        "varían con x, lo cual hace que esta ecuación diferencial sea difícil de resolver. En el caso especial de una sección transversal constante y conductividad térmica constante, la ecuación diferencial se reduce a\n",
        "\n",
        "\\begin{equation}\n",
        "\\frac{d^2 \\theta}{dx^2} - a ^2 \\theta=0\n",
        "\\end{equation}\n",
        "\n",
        "\n",
        "donde  $\\theta=T-T_{\\infty}$ y $a=\\frac{hp}{kAc}$\n",
        "\n",
        "\n",
        "Para una aleta suficientemente larga de sección transversal uniforme (Ac =\n",
        "constante), la temperatura en la base de la aleta viene dada por:\n",
        "\n",
        "\n",
        "\\begin{equation}\n",
        "\\theta(0)=\\theta_b=T_b-T_{\\infty}\n",
        "\\end{equation}\n",
        "\n",
        "\n",
        " y en la punta de la aleta, tenderá a la del medio, por consiguiente $\\theta$ tenderá a cero.\n",
        "\n",
        "\\begin{equation}\n",
        "\\theta(L)=T(L)-T_{\\infty}=0\n",
        "\\end{equation}\n",
        "\n",
        "La solucion  exacta viene dada por :\n",
        "\n",
        "\\begin{equation}\n",
        "T(x)=T_{\\infty}+(T_b-T_{\\infty})e^{-x\\sqrt{hp/kAc}}\n",
        "\\end{equation}\n",
        "\n",
        "\n",
        "\n",
        "Considerando  una aleta rectangular muy larga, fijada a una\n",
        "superficie plana de tal forma que la temperatura en el extremo\n",
        "de la aleta es prácticamente la del aire circundante, es decir,\n",
        "$T_{\\infty}=300K$. Asuma que el ancho es de 5.0 cm, el espesor de 1 mm, es decir, su area $A=5\\times 10^{-5}m^2$ y su perimetro de $p=0.102m$. La  conductividad térmica es $k=200 W/m K$, la temperatura en la base de $T_b=313K$ y el coeficiente de transferencia de calor es de $h=20 W/m^2K$. Calcule:\n",
        "\n",
        "\n",
        "\n",
        "1 (30%) La solución numérica de la ecuación diferencial.\n",
        "\n",
        "2 (20%) Construya un gráfico de  la temperatura de la aleta como función de la longitud de la aleta\n",
        "\n",
        "3 (25%) Compare la solución numérica con la analítica\n",
        "\n",
        "4 (25%) Empleando el método de newton detetermine el punto de la aleta para la cual la temperatura es de 305K\n",
        "\n",
        "\n",
        "\n",
        "\n",
        "\n",
        "Referencias: Ejercicio e imagenes tomado y adaptado de:\n",
        "\n",
        "Cengel, Y. A. (2016). “Transferencia de calor y masa” McGRAW-HILL/INTERAMERICANA EDITORES, S.A. DE C.V. 3ra. Edición\n",
        "\n"
      ]
    },
    {
      "cell_type": "code",
      "execution_count": 617,
      "metadata": {
        "id": "AkOvTEXo1X8i"
      },
      "outputs": [],
      "source": [
        "import numpy as np\n",
        "import matplotlib.pyplot as plt\n",
        "import scipy as sp\n",
        "from scipy.integrate import quad,simpson,trapz,odeint\n",
        "from scipy.optimize import newton"
      ]
    },
    {
      "cell_type": "markdown",
      "source": [
        "# **Solución**"
      ],
      "metadata": {
        "id": "n-2vQ0d7FCul"
      }
    },
    {
      "cell_type": "markdown",
      "source": [
        "1."
      ],
      "metadata": {
        "id": "9S2v-1BbO1og"
      }
    },
    {
      "cell_type": "code",
      "source": [
        "# Condiciones iniciales\n",
        "\n",
        "Tinf= 300\n",
        "A = 5*10E-5\n",
        "p = 0.102\n",
        "k = 200\n",
        "Tb = 313\n",
        "h = 20\n",
        "a = h*p/k*A\n",
        "\n",
        "\n",
        "theta = [Tb-Tinf,1E10-3]"
      ],
      "metadata": {
        "id": "nNcSRFUoFCKv"
      },
      "execution_count": 618,
      "outputs": []
    },
    {
      "cell_type": "code",
      "source": [
        "def ecuacion(y,t):\n",
        "  d1dt = y[1]\n",
        "  d2dt = d1dt-a**2*y[0]\n",
        "  vectores =[d1dt,d2dt]\n",
        "  return vectores"
      ],
      "metadata": {
        "id": "wtATLhQUFx6j"
      },
      "execution_count": 619,
      "outputs": []
    },
    {
      "cell_type": "code",
      "source": [
        "longitudes = np.linspace(0,2,100)"
      ],
      "metadata": {
        "id": "ll2d-HW3JVRs"
      },
      "execution_count": 620,
      "outputs": []
    },
    {
      "cell_type": "code",
      "source": [
        "sol = odeint(ecuacion,theta, longitudes)"
      ],
      "metadata": {
        "id": "9w1OcufsJSR6"
      },
      "execution_count": 621,
      "outputs": []
    },
    {
      "cell_type": "markdown",
      "source": [
        "2."
      ],
      "metadata": {
        "id": "Sr_5k_R6O3Z-"
      }
    },
    {
      "cell_type": "code",
      "source": [
        "# Gráfica\n",
        "\n",
        "plt.plot(longitudes,sol[:,1],c=\"b\")\n",
        "plt.title(\"Solución numérica\")\n",
        "plt.xlabel(\"x\")\n",
        "plt.ylabel(\"T\")\n",
        "plt.grid()"
      ],
      "metadata": {
        "colab": {
          "base_uri": "https://localhost:8080/",
          "height": 472
        },
        "id": "fATshbrjJnbT",
        "outputId": "4699f176-b0df-4396-8166-6c244f40c989"
      },
      "execution_count": 622,
      "outputs": [
        {
          "output_type": "display_data",
          "data": {
            "text/plain": [
              "<Figure size 640x480 with 1 Axes>"
            ],
            "image/png": "[encoded data removed]"
          },
          "metadata": {}
        }
      ]
    },
    {
      "cell_type": "markdown",
      "source": [
        "3."
      ],
      "metadata": {
        "id": "Np7F7zoHO6pO"
      }
    },
    {
      "cell_type": "code",
      "source": [
        "def exacta(x):\n",
        "  T = Tinf+((Tb-Tinf)*np.exp(-x*np.sqrt(h*p/k)))\n",
        "  return T"
      ],
      "metadata": {
        "id": "WPnfzbIxHMhZ"
      },
      "execution_count": 623,
      "outputs": []
    },
    {
      "cell_type": "code",
      "source": [
        "x_l = np.linspace(0,200,100) # aleta muy larga"
      ],
      "metadata": {
        "id": "brk7POGwHisY"
      },
      "execution_count": 624,
      "outputs": []
    },
    {
      "cell_type": "code",
      "source": [
        "plt.plot(x_l,exacta(x_l),c=\"r\")\n",
        "plt.title(\"Solución exacta\")\n",
        "plt.xlabel(\"x\")\n",
        "plt.ylabel(\"T\")\n",
        "plt.grid()"
      ],
      "metadata": {
        "colab": {
          "base_uri": "https://localhost:8080/",
          "height": 472
        },
        "id": "281ig6G3HktC",
        "outputId": "05573b59-9bbc-47c7-915f-399e87deddcb"
      },
      "execution_count": 625,
      "outputs": [
        {
          "output_type": "display_data",
          "data": {
            "text/plain": [
              "<Figure size 640x480 with 1 Axes>"
            ],
            "image/png": "[encoded data removed]"
          },
          "metadata": {}
        }
      ]
    },
    {
      "cell_type": "markdown",
      "source": [
        "4."
      ],
      "metadata": {
        "id": "Dpi08BS7O8-l"
      }
    },
    {
      "cell_type": "code",
      "source": [
        "teorica = lambda x: (313*np.exp(-x*np.sqrt(h*p/k)))-305"
      ],
      "metadata": {
        "id": "GH5TsLWyVR_R"
      },
      "execution_count": 626,
      "outputs": []
    },
    {
      "cell_type": "code",
      "source": [
        "punto_aleta = newton(teorica,0) # con la secante\n",
        "punto_aleta"
      ],
      "metadata": {
        "colab": {
          "base_uri": "https://localhost:8080/"
        },
        "id": "4SOs-jggLW1E",
        "outputId": "fa5a17b1-db68-4b46-89b8-f62c9f8dcaf5"
      },
      "execution_count": 627,
      "outputs": [
        {
          "output_type": "execute_result",
          "data": {
            "text/plain": [
              "0.2563631988969473"
            ]
          },
          "metadata": {},
          "execution_count": 627
        }
      ]
    }
  ],
  "metadata": {
    "colab": {
      "provenance": []
    },
    "kernelspec": {
      "display_name": "Python 3 (ipykernel)",
      "language": "python",
      "name": "python3"
    },
    "language_info": {
      "codemirror_mode": {
        "name": "ipython",
        "version": 3
      },
      "file_extension": ".py",
      "mimetype": "text/x-python",
      "name": "python",
      "nbconvert_exporter": "python",
      "pygments_lexer": "ipython3",
      "version": "3.10.9"
    }
  },
  "nbformat": 4,
  "nbformat_minor": 0
}