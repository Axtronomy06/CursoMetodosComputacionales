{
 "cells": [
  {
   "cell_type": "code",
   "execution_count": 1,
   "metadata": {
    "id": "gJeb5AWTlM5b"
   },
   "outputs": [],
   "source": [
    "import numpy as np\n",
    "import sympy as sp"
   ]
  },
  {
   "cell_type": "code",
   "execution_count": 2,
   "metadata": {
    "colab": {
     "base_uri": "https://localhost:8080/",
     "height": 78
    },
    "id": "kTtIpFBZlS8b",
    "outputId": "70bce995-2011-4c87-f42e-e8bb225fcb7c"
   },
   "outputs": [
    {
     "data": {
      "text/latex": [
       "$\\displaystyle \\left[\\begin{matrix}5 & -4 & 0 & 1\\\\-4 & 7 & -3 & 2\\\\0 & -3 & 5 & 3\\end{matrix}\\right]$"
      ],
      "text/plain": [
       "Matrix([\n",
       "[ 5, -4,  0, 1],\n",
       "[-4,  7, -3, 2],\n",
       "[ 0, -3,  5, 3]])"
      ]
     },
     "execution_count": 2,
     "metadata": {},
     "output_type": "execute_result"
    }
   ],
   "source": [
    "M1 = np.array( [[5,-4,0,1],[-4,7,-3,2],[0,-3,5,3]] )\n",
    "sp.Matrix(M1) # [1,2,3] es para determinar las soluciones"
   ]
  },
  {
   "cell_type": "code",
   "execution_count": 3,
   "metadata": {
    "id": "eVKqfhhftOUn"
   },
   "outputs": [],
   "source": [
    "def intercambio (M,i,j):\n",
    "  I= M.copy()\n",
    "\n",
    "  I[i]= M1[j]\n",
    "  I[j]= M1[i]\n",
    "  return I"
   ]
  },
  {
   "cell_type": "code",
   "execution_count": 4,
   "metadata": {
    "colab": {
     "base_uri": "https://localhost:8080/"
    },
    "id": "h4V4O-fbtXT1",
    "outputId": "fcf02cca-bd15-46a3-ba9f-589b0e491b40"
   },
   "outputs": [
    {
     "data": {
      "text/plain": [
       "array([[-4,  7, -3,  2],\n",
       "       [ 5, -4,  0,  1],\n",
       "       [ 0, -3,  5,  3]])"
      ]
     },
     "execution_count": 4,
     "metadata": {},
     "output_type": "execute_result"
    }
   ],
   "source": [
    "intercambio(M1,0,1)"
   ]
  },
  {
   "cell_type": "code",
   "execution_count": 5,
   "metadata": {
    "id": "9mRQ-Dx1uGET"
   },
   "outputs": [],
   "source": [
    "def suma (M,i,j,a):\n",
    "  S= M.copy()\n",
    "  S[j]= a*S[i]+S[j]\n",
    "  return S"
   ]
  },
  {
   "cell_type": "code",
   "execution_count": 6,
   "metadata": {
    "colab": {
     "base_uri": "https://localhost:8080/"
    },
    "id": "yezZ8gK-up6M",
    "outputId": "c1a9a523-82bf-44f6-da9f-831d724c2503"
   },
   "outputs": [
    {
     "data": {
      "text/plain": [
       "array([[ 5, -4,  0,  1],\n",
       "       [ 6, -1, -3,  4],\n",
       "       [ 0, -3,  5,  3]])"
      ]
     },
     "execution_count": 6,
     "metadata": {},
     "output_type": "execute_result"
    }
   ],
   "source": [
    "suma(M1,0,1,2)"
   ]
  },
  {
   "cell_type": "code",
   "execution_count": 7,
   "metadata": {
    "id": "Lk5TGiVtwRdC"
   },
   "outputs": [],
   "source": [
    "def escalar (M,i,a):\n",
    "  E= M.copy()\n",
    "  E[i]= a*E[i]\n",
    "  return E"
   ]
  },
  {
   "cell_type": "code",
   "execution_count": 8,
   "metadata": {
    "colab": {
     "base_uri": "https://localhost:8080/"
    },
    "id": "co0vJaZOwnzO",
    "outputId": "711c491a-39c5-4ff0-9a84-f526a611e615"
   },
   "outputs": [
    {
     "data": {
      "text/plain": [
       "array([[10, -8,  0,  2],\n",
       "       [-4,  7, -3,  2],\n",
       "       [ 0, -3,  5,  3]])"
      ]
     },
     "execution_count": 8,
     "metadata": {},
     "output_type": "execute_result"
    }
   ],
   "source": [
    "escalar(M1,0,2)"
   ]
  },
  {
   "cell_type": "code",
   "execution_count": 9,
   "metadata": {
    "colab": {
     "base_uri": "https://localhost:8080/"
    },
    "id": "l81d_EDUx4wm",
    "outputId": "f4834653-bf7d-4b6e-bee0-c80fe04d9a7c"
   },
   "outputs": [
    {
     "data": {
      "text/plain": [
       "array([[2, 1, 1, 5],\n",
       "       [4, 1, 1, 1],\n",
       "       [6, 2, 1, 4]])"
      ]
     },
     "execution_count": 9,
     "metadata": {},
     "output_type": "execute_result"
    }
   ],
   "source": [
    "A= np.array([[2,1,1,5],[4,1,1,1],[6,2,1,4]]) # Para escalares racionales\n",
    "A"
   ]
  },
  {
   "cell_type": "code",
   "execution_count": 10,
   "metadata": {
    "colab": {
     "base_uri": "https://localhost:8080/"
    },
    "id": "rG15S_gAy91D",
    "outputId": "38fc116b-3830-4055-a1fa-2d3c107b4371"
   },
   "outputs": [
    {
     "data": {
      "text/plain": [
       "array([[ 1,  0,  0, -2],\n",
       "       [ 0,  1,  0,  7],\n",
       "       [ 0,  0,  1,  2]])"
      ]
     },
     "execution_count": 10,
     "metadata": {},
     "output_type": "execute_result"
    }
   ],
   "source": [
    "# Eliminación gaussiana\n",
    "\n",
    "F1= suma(A,0,1,-2).copy()\n",
    "F2= suma(F1,0,2,-3).copy()\n",
    "F3= suma(F2,1,2,-1)\n",
    "F3= escalar(F3,2,-1)\n",
    "F4= suma(F3,2,1,1)\n",
    "F5= suma(F4,2,0,-1)\n",
    "F6= suma(F5,1,0,1)\n",
    "F7= escalar(F6,1,-1)\n",
    "F8= escalar(F7,0,1/2)\n",
    "F8"
   ]
  },
  {
   "cell_type": "code",
   "execution_count": 11,
   "metadata": {
    "colab": {
     "base_uri": "https://localhost:8080/"
    },
    "id": "odGfNYQWnNST",
    "outputId": "8a47aa22-d752-4663-ef9a-2cc019cf4d3a"
   },
   "outputs": [
    {
     "data": {
      "text/plain": [
       "array([[ 5, -4,  0,  1],\n",
       "       [-4,  7, -3,  2],\n",
       "       [ 0, -3,  5,  3]])"
      ]
     },
     "execution_count": 11,
     "metadata": {},
     "output_type": "execute_result"
    }
   ],
   "source": [
    "M1"
   ]
  },
  {
   "cell_type": "code",
   "execution_count": 12,
   "metadata": {
    "id": "i-uYie0lU6nk"
   },
   "outputs": [],
   "source": [
    "def eliminacion_gaussiana(M):\n",
    "\n",
    "  Mc = M.copy().astype(float) # operar con racionales\n",
    "  n = len(M)\n",
    "  soluciones = np.zeros(np.shape(Mc[0:n,n]))\n",
    "\n",
    "  for i in range(n):\n",
    "    Mc = escalar(Mc, i,1 / Mc[i, i]) # pivotes\n",
    "    for j in range(i + 1, n):\n",
    "      Mc = suma(Mc, i, j, -Mc[j, i]) #reducción\n",
    "\n",
    "  # Para determinar las soluciones\n",
    "\n",
    "  for i in range(n - 1, -1, -1):\n",
    "    soluciones[i] = (Mc[i, -1] - np.dot(Mc[i, i + 1:n], soluciones[i + 1:])) / Mc[i, i]\n",
    "\n",
    "  return Mc, soluciones"
   ]
  },
  {
   "cell_type": "code",
   "execution_count": 13,
   "metadata": {
    "colab": {
     "base_uri": "https://localhost:8080/"
    },
    "id": "GZfI5PX7VhLm",
    "outputId": "9b603bae-fdbe-4948-8539-396eea30d4ac"
   },
   "outputs": [
    {
     "name": "stdout",
     "output_type": "stream",
     "text": [
      "Matriz reducida: [[ 1.   0.5  0.5  2.5]\n",
      " [-0.   1.   1.   9. ]\n",
      " [-0.  -0.   1.   2. ]] \n",
      "La solución es: [-2.  7.  2.]\n"
     ]
    }
   ],
   "source": [
    "matriz, soluciones = eliminacion_gaussiana(A)\n",
    "print(f\"Matriz reducida: {matriz} \")\n",
    "print(f\"La solución es: {soluciones}\") # concuerda con la solución manual"
   ]
  },
  {
   "cell_type": "code",
   "execution_count": 14,
   "metadata": {
    "colab": {
     "base_uri": "https://localhost:8080/"
    },
    "id": "K5XZXpXhvYIK",
    "outputId": "0eb1814a-4fdf-4778-8120-5b63db36395a"
   },
   "outputs": [
    {
     "name": "stdout",
     "output_type": "stream",
     "text": [
      "Matriz reducida: [[ 1.00000000e+00 -8.00000000e-01  0.00000000e+00  2.00000000e-01]\n",
      " [ 0.00000000e+00  1.00000000e+00 -7.89473684e-01  7.36842105e-01]\n",
      " [ 0.00000000e+00 -1.68753900e-16  1.00000000e+00  1.98000000e+00]] \n",
      "La solución es: [2.04 2.3  1.98]\n"
     ]
    }
   ],
   "source": [
    "matriz1, soluciones1 = eliminacion_gaussiana(M1)\n",
    "print(f\"Matriz reducida: {matriz1} \")\n",
    "print(f\"La solución es: {soluciones1}\")"
   ]
  },
  {
   "cell_type": "code",
   "execution_count": null,
   "metadata": {},
   "outputs": [],
   "source": []
  }
 ],
 "metadata": {
  "colab": {
   "provenance": []
  },
  "kernelspec": {
   "display_name": "Python 3 (ipykernel)",
   "language": "python",
   "name": "python3"
  },
  "language_info": {
   "codemirror_mode": {
    "name": "ipython",
    "version": 3
   },
   "file_extension": ".py",
   "mimetype": "text/x-python",
   "name": "python",
   "nbconvert_exporter": "python",
   "pygments_lexer": "ipython3",
   "version": "3.10.9"
  }
 },
 "nbformat": 4,
 "nbformat_minor": 1
}
