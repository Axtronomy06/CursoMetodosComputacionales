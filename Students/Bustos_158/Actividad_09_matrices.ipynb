{
  "nbformat": 4,
  "nbformat_minor": 0,
  "metadata": {
    "colab": {
      "provenance": []
    },
    "kernelspec": {
      "name": "python3",
      "display_name": "Python 3"
    },
    "language_info": {
      "name": "python"
    }
  },
  "cells": [
    {
      "cell_type": "code",
      "execution_count": 1,
      "metadata": {
        "id": "lL-GRvQhRP5W"
      },
      "outputs": [],
      "source": [
        "import numpy as np\n",
        "import sympy\n",
        "import matplotlib.pyplot as plt"
      ]
    },
    {
      "cell_type": "markdown",
      "source": [
        "# **1. Sumar matrices**"
      ],
      "metadata": {
        "id": "PS7QfeoCSpTj"
      }
    },
    {
      "cell_type": "code",
      "source": [
        "Matrix([[1,0], [0,1]])"
      ],
      "metadata": {
        "colab": {
          "base_uri": "https://localhost:8080/",
          "height": 58
        },
        "id": "oA1O1hfuWrSd",
        "outputId": "2c752dfa-d136-416c-8169-331263c4ab17"
      },
      "execution_count": null,
      "outputs": [
        {
          "output_type": "execute_result",
          "data": {
            "text/plain": [
              "Matrix([\n",
              "[1, 0],\n",
              "[0, 1]])"
            ],
            "text/latex": "$\\displaystyle \\left[\\begin{matrix}1 & 0\\\\0 & 1\\end{matrix}\\right]$"
          },
          "metadata": {},
          "execution_count": 66
        }
      ]
    },
    {
      "cell_type": "code",
      "source": [
        "A= np.array([[1,2],\n",
        "            [3,4]])\n",
        "\n",
        "B= np.array([[5,6],\n",
        "            [0,1]])"
      ],
      "metadata": {
        "id": "NU3x8DUNoOTc"
      },
      "execution_count": 67,
      "outputs": []
    },
    {
      "cell_type": "code",
      "source": [
        "# Para una matriz 2x2\n",
        "\n",
        "def suma_matrices(A,B):\n",
        "\n",
        "  c1= A[0:,0][0] + B[0:,0][0]\n",
        "  c2= A[0:,1][0] + B[0:,1][0]\n",
        "\n",
        "  c3= A[1:,0][0] + B[1:,0][0]\n",
        "  c4= A[1:,1][0] + B[1:,1][0]\n",
        "\n",
        "  S= np.array([[c1,c2],\n",
        "               [c3,c4]])\n",
        "  return S"
      ],
      "metadata": {
        "id": "8PiUcbi8XDBj"
      },
      "execution_count": null,
      "outputs": []
    },
    {
      "cell_type": "code",
      "source": [
        "suma_matrices(A,B)"
      ],
      "metadata": {
        "colab": {
          "base_uri": "https://localhost:8080/"
        },
        "id": "E5OWtkq2uAWz",
        "outputId": "3cfab12f-9fe0-4a02-fdd7-459af956944b"
      },
      "execution_count": null,
      "outputs": [
        {
          "output_type": "execute_result",
          "data": {
            "text/plain": [
              "array([[6, 8],\n",
              "       [3, 5]])"
            ]
          },
          "metadata": {},
          "execution_count": 63
        }
      ]
    },
    {
      "cell_type": "code",
      "source": [
        "# Para cualesquiera dos matrices A y B\n",
        "\n",
        "S=  np.zeros_like(A)\n",
        "\n",
        "def s_matrices(A,B):\n",
        "\n",
        "  if len(A) != len(B) or len(A[0]) != len(B[0]):\n",
        "      print(\"Las matrices deben tener el mismo tamaño, vuelva a intentarlo\")\n",
        "  for i in range(len(A)): # filas\n",
        "    for j in range(len(A[0])): # columnas\n",
        "      S[i][j] = A[i][j] + B[i][j]\n",
        "\n",
        "    return S"
      ],
      "metadata": {
        "id": "HfF9ogA9xgI3"
      },
      "execution_count": null,
      "outputs": []
    },
    {
      "cell_type": "code",
      "source": [
        "s_matrices(A,B)"
      ],
      "metadata": {
        "colab": {
          "base_uri": "https://localhost:8080/"
        },
        "id": "1dsAcILZ1aoP",
        "outputId": "be393371-a7e5-4b7f-82e8-60c1465ac13a"
      },
      "execution_count": null,
      "outputs": [
        {
          "output_type": "execute_result",
          "data": {
            "text/plain": [
              "array([[6, 8],\n",
              "       [0, 0]])"
            ]
          },
          "metadata": {},
          "execution_count": 123
        }
      ]
    },
    {
      "cell_type": "code",
      "source": [
        "M1= sympy.Matrix(A)\n",
        "M2= sympy.Matrix(B)"
      ],
      "metadata": {
        "id": "O_2FE5K8wGhB"
      },
      "execution_count": null,
      "outputs": []
    },
    {
      "cell_type": "code",
      "source": [
        "M1+M2 # comprobación simbólica"
      ],
      "metadata": {
        "colab": {
          "base_uri": "https://localhost:8080/",
          "height": 58
        },
        "id": "n16J8GCywUtS",
        "outputId": "2235179e-9889-4aef-ce05-00993197dffc"
      },
      "execution_count": null,
      "outputs": [
        {
          "output_type": "execute_result",
          "data": {
            "text/plain": [
              "Matrix([\n",
              "[6, 8],\n",
              "[3, 5]])"
            ],
            "text/latex": "$\\displaystyle \\left[\\begin{matrix}6 & 8\\\\3 & 5\\end{matrix}\\right]$"
          },
          "metadata": {},
          "execution_count": 69
        }
      ]
    },
    {
      "cell_type": "markdown",
      "source": [
        "# **2. Multiplicar matrices**"
      ],
      "metadata": {
        "id": "TP1IV1qtv3Xn"
      }
    },
    {
      "cell_type": "code",
      "source": [
        "def producto_m(M1,M2):\n",
        "\n",
        "  if np.shape(M1) != np.shape(M2):\n",
        "    print(\"Error: las matrices deben ser cuadradas, vuelva a intentarlo\")\n",
        "  else:\n",
        "    M3 = np.zeros((np.shape(A)))\n",
        "\n",
        "    for i in range(len(A)):\n",
        "      for j in range(len(A)):\n",
        "        for k in range(len(A)):\n",
        "          M3[i, j] += M1[i, k] * M2[k, j]\n",
        "    return M3"
      ],
      "metadata": {
        "id": "F0ZSm9SAv8QI"
      },
      "execution_count": 162,
      "outputs": []
    },
    {
      "cell_type": "code",
      "source": [
        "producto_m(A,B)"
      ],
      "metadata": {
        "colab": {
          "base_uri": "https://localhost:8080/"
        },
        "id": "BRxWuSECj6yb",
        "outputId": "59256735-7f4e-4eb5-f246-78f98843540b"
      },
      "execution_count": 163,
      "outputs": [
        {
          "output_type": "execute_result",
          "data": {
            "text/plain": [
              "array([[ 5.,  8.],\n",
              "       [15., 22.]])"
            ]
          },
          "metadata": {},
          "execution_count": 163
        }
      ]
    },
    {
      "cell_type": "code",
      "source": [
        "A @ B # comprobar"
      ],
      "metadata": {
        "colab": {
          "base_uri": "https://localhost:8080/"
        },
        "id": "RGyQTaL3kc5F",
        "outputId": "9c80b6b6-1328-45e1-ab09-cdc93d53b4ed"
      },
      "execution_count": 151,
      "outputs": [
        {
          "output_type": "execute_result",
          "data": {
            "text/plain": [
              "array([[ 5,  8],\n",
              "       [15, 22]])"
            ]
          },
          "metadata": {},
          "execution_count": 151
        }
      ]
    },
    {
      "cell_type": "code",
      "source": [
        "C= np.array([[1,2],\n",
        "            [3,4],\n",
        "            [1,1]]) # no cuadrada\n",
        "\n",
        "D= np.array([[5,6],\n",
        "            [0,1]])"
      ],
      "metadata": {
        "id": "ZW6ndXtuk-w7"
      },
      "execution_count": 158,
      "outputs": []
    },
    {
      "cell_type": "code",
      "source": [
        "producto_m(C,D) # con una matriz no cuadrada"
      ],
      "metadata": {
        "colab": {
          "base_uri": "https://localhost:8080/"
        },
        "id": "VwGnTPG5lFgh",
        "outputId": "8d6cf720-eb7b-4be9-aceb-8ce97ac5141c"
      },
      "execution_count": 159,
      "outputs": [
        {
          "output_type": "stream",
          "name": "stdout",
          "text": [
            "Error: las matrices deben ser cuadradas, vuelva a intentarlo\n"
          ]
        }
      ]
    },
    {
      "cell_type": "markdown",
      "source": [
        "# **3. Transpuesta de una matriz**"
      ],
      "metadata": {
        "id": "uXDufSms7rqX"
      }
    },
    {
      "cell_type": "code",
      "source": [
        "A.T"
      ],
      "metadata": {
        "colab": {
          "base_uri": "https://localhost:8080/"
        },
        "id": "sp_WT0Pa7umP",
        "outputId": "956016a6-dda8-47b8-9da3-c2cacb866b60"
      },
      "execution_count": null,
      "outputs": [
        {
          "output_type": "execute_result",
          "data": {
            "text/plain": [
              "array([[1, 3],\n",
              "       [2, 4]])"
            ]
          },
          "metadata": {},
          "execution_count": 124
        }
      ]
    },
    {
      "cell_type": "code",
      "source": [
        "B.T"
      ],
      "metadata": {
        "colab": {
          "base_uri": "https://localhost:8080/"
        },
        "id": "c9jOvHGX70oX",
        "outputId": "d8af87e3-b7ed-47df-91eb-e5f6ae158145"
      },
      "execution_count": null,
      "outputs": [
        {
          "output_type": "execute_result",
          "data": {
            "text/plain": [
              "array([[5, 0],\n",
              "       [6, 1]])"
            ]
          },
          "metadata": {},
          "execution_count": 125
        }
      ]
    },
    {
      "cell_type": "markdown",
      "source": [
        "# **Matriz de rotación**"
      ],
      "metadata": {
        "id": "51fSyRCv75iB"
      }
    },
    {
      "cell_type": "code",
      "source": [
        "v= np.array([1,1])"
      ],
      "metadata": {
        "id": "Ycj71WVGne6h"
      },
      "execution_count": 180,
      "outputs": []
    },
    {
      "cell_type": "code",
      "source": [
        "# Función para la matriz\n",
        "\n",
        "def R(theta):\n",
        "  cos = np.cos(np.radians(theta))\n",
        "  sin = np.sin(np.radians(theta))\n",
        "\n",
        "  R = np.array([[cos, -sin],\n",
        "                [sin, cos]])\n",
        "  return R"
      ],
      "metadata": {
        "id": "7OyCxoajo8js"
      },
      "execution_count": 188,
      "outputs": []
    },
    {
      "cell_type": "code",
      "source": [
        "def Rotacion(v,R):\n",
        "  return np.dot(R,v) # Producto punto para obtener las nuevas coordenadas"
      ],
      "metadata": {
        "id": "clDWEN1YqbVl"
      },
      "execution_count": 189,
      "outputs": []
    },
    {
      "cell_type": "code",
      "source": [
        "v_r= Rotacion(v,R(20))"
      ],
      "metadata": {
        "id": "ZZvx_jd7qk_0"
      },
      "execution_count": 196,
      "outputs": []
    },
    {
      "cell_type": "code",
      "source": [
        "plt.quiver(*v,angles=\"xy\", scale_units=\"xy\", scale=1, color=\"b\")\n",
        "plt.quiver(*v_r,angles=\"xy\", scale_units=\"xy\", scale=1, color=\"r\")\n",
        "plt.xlim(-2, 2)\n",
        "plt.ylim(-2, 2)\n",
        "plt.title(\"Rotación del vector\")\n",
        "plt.grid()"
      ],
      "metadata": {
        "colab": {
          "base_uri": "https://localhost:8080/",
          "height": 452
        },
        "id": "fTI_non2qtdE",
        "outputId": "df44cf9d-f3a2-4553-ed2f-7e14ef155ac2"
      },
      "execution_count": 213,
      "outputs": [
        {
          "output_type": "display_data",
          "data": {
            "text/plain": [
              "<Figure size 640x480 with 1 Axes>"
            ],
            "image/png": "[encoded data removed]"
          },
          "metadata": {}
        }
      ]
    }
  ]
}