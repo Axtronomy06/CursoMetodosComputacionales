{
 "cells": [
  {
   "cell_type": "markdown",
   "metadata": {
    "id": "GUTNoRgHTjfg"
   },
   "source": [
    "<a href=\"https://colab.research.google.com/github/hernansalinas/autogradesMetodosComputacionales/blob/main/Laboratorios_Taller/Lab01_python_basico01.ipynb\" target=\"_parent\"><img src=\"https://colab.research.google.com/assets/colab-badge.svg\" alt=\"Open In Colab\"/></a>\n",
    "\n",
    "\n",
    "\n",
    "\n",
    "# Laboratorio 01\n",
    "### Métodos computacionales para físicos  y astrónomos\n",
    "### Universidad de Antioquia\n",
    "### Prof: Hernan D. Salinas Jiménez\n"
   ]
  },
  {
   "cell_type": "code",
   "execution_count": null,
   "metadata": {
    "colab": {
     "base_uri": "https://localhost:8080/"
    },
    "id": "NmGdQYCBL7cs",
    "outputId": "7b3702e5-e3a6-4d68-a5ac-94f17bac603a"
   },
   "outputs": [
    {
     "name": "stdout",
     "output_type": "stream",
     "text": [
      "Cloning into 'autogradesMetodosComputacionales'...\n",
      "remote: Enumerating objects: 556, done.\u001b[K\n",
      "remote: Counting objects: 100% (172/172), done.\u001b[K\n",
      "remote: Compressing objects: 100% (102/102), done.\u001b[K\n",
      "remote: Total 556 (delta 98), reused 120 (delta 69), pack-reused 384\u001b[K\n",
      "Receiving objects: 100% (556/556), 38.59 MiB | 25.88 MiB/s, done.\n",
      "Resolving deltas: 100% (292/292), done.\n"
     ]
    }
   ],
   "source": [
    "# Ejecutar esta celda antes de cada laboratorio\n",
    "!git clone https://github.com/hernansalinas/autogradesMetodosComputacionales.git\n",
    "%run -i autogradesMetodosComputacionales/example/libs/libUnitTest.py"
   ]
  },
  {
   "cell_type": "markdown",
   "metadata": {
    "id": "OkdTI9KQ8MLN"
   },
   "source": [
    "# Operaciones básicas en python.\n",
    "\n",
    "\n",
    "### Definicion de variables\n",
    "1. Definir una variable x tipo entero.\n",
    "2. Definir una variable y tipo float\n",
    "3. Definir una variable z tipo string."
   ]
  },
  {
   "cell_type": "code",
   "execution_count": null,
   "metadata": {
    "id": "L_4glMubfOpY"
   },
   "outputs": [],
   "source": [
    "# Puntos 1-3\n",
    "x=int(4)\n",
    "y=float(5.2)\n",
    "z=\"Hola\""
   ]
  },
  {
   "cell_type": "code",
   "execution_count": null,
   "metadata": {
    "colab": {
     "base_uri": "https://localhost:8080/",
     "height": 212
    },
    "id": "aod54z2z-ZeY",
    "outputId": "31846768-cd25-469e-9613-ebcc240b0731"
   },
   "outputs": [
    {
     "data": {
      "text/html": [
       "<style>\n",
       "  table { text-align: left; border-collapse: collapse; margin: 1em; caption-side: bottom; font-family: Sans-Serif; font-size: 12px}\n",
       "  caption { text-align: left; padding: 5px }\n",
       "  th, td { border: 2px solid #BFC9CA; padding: 5px }\n",
       "  th { background-color: #BFC9CA }\n",
       "  .passed { background-color: #76D7C4 }\n",
       "  .failed { background-color: #EC7063 }\n",
       "  .skipped { background-color: #EDBB99 }\n",
       "  .score { background-color: #7DCEA0 }\n",
       "  .results .points { display: none }\n",
       "  .results .message { display: block; font-size:smaller; color:#D35400 }\n",
       "  .results .note { display: block; font-size:smaller; font-decoration:italics }\n",
       "  .results .passed::before  { content: \"Passed\" } \n",
       "  .results .skipped::before  { content: \"Skipped\" } \n",
       "  .results .failed::before  { content: \"Failed\" } \n",
       "  .grade .passed  .message:empty::before { content:\"Passed\" }\n",
       "  .grade .failed  .message:empty::before { content:\"Failed\" }\n",
       "  .grade .skipped .message:empty::before { content:\"Skipped\" }   \n",
       "</style>\n",
       "<table class='results'>\n",
       "  <th class='test'>Test</th><th class='result'>Result</th></tr>\n",
       "<tr>\n",
       "  <td class='test'>\n",
       "    Definir x como un numero entero\n",
       "    <div class='message'>Done</div>\n",
       "  </td>\n",
       "  <td class='result passed'></td>\n",
       "</tr>\n",
       "<tr>\n",
       "  <td class='test'>\n",
       "    Defiir y como una variable tipo float\n",
       "    <div class='message'>Done</div>\n",
       "  </td>\n",
       "  <td class='result passed'></td>\n",
       "</tr>\n",
       "<tr>\n",
       "  <td class='test'>\n",
       "    Definir z como un string\n",
       "    <div class='message'>Done</div>\n",
       "  </td>\n",
       "  <td class='result passed'></td>\n",
       "</tr>  <tr><th class='score'>Total Points</th><th class='score'>3</th></tr></table>\n"
      ],
      "text/plain": [
       "<IPython.core.display.HTML object>"
      ]
     },
     "metadata": {},
     "output_type": "display_data"
    }
   ],
   "source": [
    "# Ejecute la presente celda para probar su solucion\n",
    "%run -i autogradesMetodosComputacionales/example/libs/Lab_autotesting01/test01.py"
   ]
  },
  {
   "cell_type": "markdown",
   "metadata": {
    "id": "9JTEaQro_I8E"
   },
   "source": [
    "\n",
    "\n",
    "###  Creación de Funciones\n",
    "4. Crear una función con el nombre mul_lambda, lambda que multiple dos enteros, el resultado deberá ser un número entero.  \n",
    "\n",
    "Ejemplo de ejecución:\n",
    "\n",
    "```python\n",
    "mul_lambda(a,b)\n",
    "donde a, y b son numeros enteros\n",
    "```\n",
    "\n",
    "\n",
    "5. Crear una función explicita con el nombre de suma_int, que realice la suma de dos números enteros\n",
    "\n",
    "Ejemplo de ejecución:\n",
    "\n",
    "```python\n",
    "sum_int(a,b)\n",
    "donde a, y b son numeros enteros\n",
    "```\n",
    "\n"
   ]
  },
  {
   "cell_type": "code",
   "execution_count": null,
   "metadata": {
    "colab": {
     "base_uri": "https://localhost:8080/"
    },
    "id": "yzc0G-TMfnsV",
    "outputId": "7ec4871d-1ef5-4117-9111-27e78a565f56"
   },
   "outputs": [
    {
     "data": {
      "text/plain": [
       "45"
      ]
     },
     "execution_count": 4,
     "metadata": {},
     "output_type": "execute_result"
    }
   ],
   "source": [
    "# Punto 4\n",
    "mul_lambda=lambda a,b: a*b\n",
    "mul_lambda(9,5)"
   ]
  },
  {
   "cell_type": "code",
   "execution_count": null,
   "metadata": {
    "colab": {
     "base_uri": "https://localhost:8080/"
    },
    "id": "uHamknEnfzCo",
    "outputId": "082967c2-7511-4eb4-f5cb-56a02526cd9c"
   },
   "outputs": [
    {
     "data": {
      "text/plain": [
       "245"
      ]
     },
     "execution_count": 5,
     "metadata": {},
     "output_type": "execute_result"
    }
   ],
   "source": [
    "# Punto 5\n",
    "def sum_int(a,b):\n",
    "  sum_int=a+b\n",
    "  return(sum_int)\n",
    "\n",
    "sum_int(-44,289)"
   ]
  },
  {
   "cell_type": "code",
   "execution_count": null,
   "metadata": {
    "colab": {
     "base_uri": "https://localhost:8080/",
     "height": 173
    },
    "id": "lSsnEjAx_Gay",
    "outputId": "3537466b-0511-4bf4-b1f0-04d24e7fc82f"
   },
   "outputs": [
    {
     "data": {
      "text/html": [
       "<style>\n",
       "  table { text-align: left; border-collapse: collapse; margin: 1em; caption-side: bottom; font-family: Sans-Serif; font-size: 12px}\n",
       "  caption { text-align: left; padding: 5px }\n",
       "  th, td { border: 2px solid #BFC9CA; padding: 5px }\n",
       "  th { background-color: #BFC9CA }\n",
       "  .passed { background-color: #76D7C4 }\n",
       "  .failed { background-color: #EC7063 }\n",
       "  .skipped { background-color: #EDBB99 }\n",
       "  .score { background-color: #7DCEA0 }\n",
       "  .results .points { display: none }\n",
       "  .results .message { display: block; font-size:smaller; color:#D35400 }\n",
       "  .results .note { display: block; font-size:smaller; font-decoration:italics }\n",
       "  .results .passed::before  { content: \"Passed\" } \n",
       "  .results .skipped::before  { content: \"Skipped\" } \n",
       "  .results .failed::before  { content: \"Failed\" } \n",
       "  .grade .passed  .message:empty::before { content:\"Passed\" }\n",
       "  .grade .failed  .message:empty::before { content:\"Failed\" }\n",
       "  .grade .skipped .message:empty::before { content:\"Skipped\" }   \n",
       "</style>\n",
       "<table class='results'>\n",
       "  <th class='test'>Test</th><th class='result'>Result</th></tr>\n",
       "<tr>\n",
       "  <td class='test'>\n",
       "    Crear una funcion que multiplique dos números\n",
       "    <div class='message'>Done</div>\n",
       "  </td>\n",
       "  <td class='result passed'></td>\n",
       "</tr>\n",
       "<tr>\n",
       "  <td class='test'>\n",
       "    Crear una funcion que sume dos números\n",
       "    <div class='message'>Done</div>\n",
       "  </td>\n",
       "  <td class='result passed'></td>\n",
       "</tr>  <tr><th class='score'>Total Points</th><th class='score'>2</th></tr></table>\n"
      ],
      "text/plain": [
       "<IPython.core.display.HTML object>"
      ]
     },
     "metadata": {},
     "output_type": "display_data"
    }
   ],
   "source": [
    "%run -i autogradesMetodosComputacionales/example/libs/Lab_autotesting01/test02.py"
   ]
  },
  {
   "cell_type": "markdown",
   "metadata": {
    "id": "uu42QkJsCQMb"
   },
   "source": [
    "\n",
    "###  Números complejos\n",
    "\n",
    "6. Defina un número complejo w.\n",
    "7. Retorne la parte imaginaria de w, almacenela en una variable w_img\n",
    "8. Retorne la parte real de w, almacenela en una variable w_real.\n",
    "9. Retorne el complejo conjugado de w, almacenla en una varible w_con.\n"
   ]
  },
  {
   "cell_type": "code",
   "execution_count": null,
   "metadata": {
    "colab": {
     "base_uri": "https://localhost:8080/"
    },
    "id": "iU1xr8G1gNP3",
    "outputId": "63f4d516-b235-4ab4-ad3e-d53b7ddaad71"
   },
   "outputs": [
    {
     "name": "stdout",
     "output_type": "stream",
     "text": [
      "7.0\n",
      "8.0\n",
      "(7-8j)\n"
     ]
    }
   ],
   "source": [
    "# Puntos 6-9\n",
    "w=7+8j\n",
    "w_real= w.real\n",
    "w_img= w.imag\n",
    "w_con= w.conjugate()\n",
    "print(w_real)\n",
    "print(w_img)\n",
    "print(w_con)"
   ]
  },
  {
   "cell_type": "code",
   "execution_count": null,
   "metadata": {
    "colab": {
     "base_uri": "https://localhost:8080/",
     "height": 251
    },
    "id": "jx3J6yE1Kwki",
    "outputId": "4de4eaa6-fc35-4e47-9571-c7b6c1ae19c4"
   },
   "outputs": [
    {
     "data": {
      "text/html": [
       "<style>\n",
       "  table { text-align: left; border-collapse: collapse; margin: 1em; caption-side: bottom; font-family: Sans-Serif; font-size: 12px}\n",
       "  caption { text-align: left; padding: 5px }\n",
       "  th, td { border: 2px solid #BFC9CA; padding: 5px }\n",
       "  th { background-color: #BFC9CA }\n",
       "  .passed { background-color: #76D7C4 }\n",
       "  .failed { background-color: #EC7063 }\n",
       "  .skipped { background-color: #EDBB99 }\n",
       "  .score { background-color: #7DCEA0 }\n",
       "  .results .points { display: none }\n",
       "  .results .message { display: block; font-size:smaller; color:#D35400 }\n",
       "  .results .note { display: block; font-size:smaller; font-decoration:italics }\n",
       "  .results .passed::before  { content: \"Passed\" } \n",
       "  .results .skipped::before  { content: \"Skipped\" } \n",
       "  .results .failed::before  { content: \"Failed\" } \n",
       "  .grade .passed  .message:empty::before { content:\"Passed\" }\n",
       "  .grade .failed  .message:empty::before { content:\"Failed\" }\n",
       "  .grade .skipped .message:empty::before { content:\"Skipped\" }   \n",
       "</style>\n",
       "<table class='results'>\n",
       "  <th class='test'>Test</th><th class='result'>Result</th></tr>\n",
       "<tr>\n",
       "  <td class='test'>\n",
       "    Definir w como un número complejo\n",
       "    <div class='message'>Done</div>\n",
       "  </td>\n",
       "  <td class='result passed'></td>\n",
       "</tr>\n",
       "<tr>\n",
       "  <td class='test'>\n",
       "    Determinar la parte real de w\n",
       "    <div class='message'>Done</div>\n",
       "  </td>\n",
       "  <td class='result passed'></td>\n",
       "</tr>\n",
       "<tr>\n",
       "  <td class='test'>\n",
       "    Determinar la parte imaginaria  de w\n",
       "    <div class='message'>Done</div>\n",
       "  </td>\n",
       "  <td class='result passed'></td>\n",
       "</tr>\n",
       "<tr>\n",
       "  <td class='test'>\n",
       "    Determinar el conjugado de w\n",
       "    <div class='message'>Done</div>\n",
       "  </td>\n",
       "  <td class='result passed'></td>\n",
       "</tr>  <tr><th class='score'>Total Points</th><th class='score'>4</th></tr></table>\n"
      ],
      "text/plain": [
       "<IPython.core.display.HTML object>"
      ]
     },
     "metadata": {},
     "output_type": "display_data"
    }
   ],
   "source": [
    "%run -i autogradesMetodosComputacionales/example/libs/Lab_autotesting01/test03.py"
   ]
  },
  {
   "cell_type": "markdown",
   "metadata": {
    "id": "P-2vd2FFV-R-"
   },
   "source": [
    "###  Listas\n",
    "\n",
    "10.0  Construir una lista L con las variables usadas hasta acá y los resultados de las funciones.\n",
    "\n",
    "L=[x,y,z,mul_lambda, mul_int,w, w_img, w_real, w_con ]\n",
    "\n",
    "11.0 Invierta la lista y almacene en una variable L_reverse\n",
    "\n",
    "12.0 Almacene los elementos impares de la lista, L_imp\n",
    "\n",
    "13.0 Almacene los elementos pares de la lista, L_par\n",
    "\n",
    "14.0 Modifique el elemento 5 de la lista L con la palabra \"hello world\"\n"
   ]
  },
  {
   "cell_type": "code",
   "execution_count": null,
   "metadata": {
    "colab": {
     "base_uri": "https://localhost:8080/"
    },
    "id": "XGATe9Cyid-v",
    "outputId": "e8fc0a09-b860-4fd2-fe95-22e92777163b"
   },
   "outputs": [
    {
     "name": "stdout",
     "output_type": "stream",
     "text": [
      "[5.2, <function <lambda> at 0x7bdf6e372290>, (7+8j), 7.0]\n",
      "[(7-8j), 7.0, 8.0, (7+8j), <function sum_int at 0x7bdf513d4670>, <function <lambda> at 0x7bdf6e372290>, 'Hola', 5.2, 4]\n"
     ]
    }
   ],
   "source": [
    "# Puntos 10-14\n",
    "x=int(4)\n",
    "y=float(5.2)\n",
    "z=\"Hola\"\n",
    "\n",
    "w=7+8j\n",
    "w_real= w.real\n",
    "w_img= w.imag\n",
    "w_con= w.conjugate()\n",
    "\n",
    "mul_lambda=lambda a,b: a*b\n",
    "mul_lambda(9,5)\n",
    "\n",
    "def sum_int(a,b):\n",
    "  sum_int=a+b\n",
    "  return(sum_int)\n",
    "sum_int(-44,289)\n",
    "\n",
    "def mul_int():\n",
    "  return()\n",
    "L=[x,y,z,mul_lambda, sum_int,w, w_img, w_real, w_con]\n",
    "L_reverse=list(reversed(L))\n",
    "L_imp=L[1::2]\n",
    "L_par=L[0::2]\n",
    "L_hola=L\n",
    "L_hola[5]=\"Hola mundo\"\n",
    "print(L_imp)\n",
    "print(L_reverse)"
   ]
  },
  {
   "cell_type": "code",
   "execution_count": null,
   "metadata": {
    "colab": {
     "base_uri": "https://localhost:8080/",
     "height": 677
    },
    "id": "rUAEpJDDdM2q",
    "outputId": "a7651500-1272-4b26-9747-9ac4e08d8a51"
   },
   "outputs": [
    {
     "data": {
      "text/html": [
       "<style>\n",
       "  table { text-align: left; border-collapse: collapse; margin: 1em; caption-side: bottom; font-family: Sans-Serif; font-size: 12px}\n",
       "  caption { text-align: left; padding: 5px }\n",
       "  th, td { border: 2px solid #BFC9CA; padding: 5px }\n",
       "  th { background-color: #BFC9CA }\n",
       "  .passed { background-color: #76D7C4 }\n",
       "  .failed { background-color: #EC7063 }\n",
       "  .skipped { background-color: #EDBB99 }\n",
       "  .score { background-color: #7DCEA0 }\n",
       "  .results .points { display: none }\n",
       "  .results .message { display: block; font-size:smaller; color:#D35400 }\n",
       "  .results .note { display: block; font-size:smaller; font-decoration:italics }\n",
       "  .results .passed::before  { content: \"Passed\" } \n",
       "  .results .skipped::before  { content: \"Skipped\" } \n",
       "  .results .failed::before  { content: \"Failed\" } \n",
       "  .grade .passed  .message:empty::before { content:\"Passed\" }\n",
       "  .grade .failed  .message:empty::before { content:\"Failed\" }\n",
       "  .grade .skipped .message:empty::before { content:\"Skipped\" }   \n",
       "</style>\n",
       "<table class='results'>\n",
       "  <th class='test'>Test</th><th class='result'>Result</th></tr>\n",
       "<tr>\n",
       "  <td class='test'>\n",
       "    Definir x como un numero entero\n",
       "    <div class='message'>Done</div>\n",
       "  </td>\n",
       "  <td class='result passed'></td>\n",
       "</tr>\n",
       "<tr>\n",
       "  <td class='test'>\n",
       "    Defiir y como una variable tipo float\n",
       "    <div class='message'>Done</div>\n",
       "  </td>\n",
       "  <td class='result passed'></td>\n",
       "</tr>\n",
       "<tr>\n",
       "  <td class='test'>\n",
       "    Definir z como un string\n",
       "    <div class='message'>Done</div>\n",
       "  </td>\n",
       "  <td class='result passed'></td>\n",
       "</tr>\n",
       "<tr>\n",
       "  <td class='test'>\n",
       "    Definir mul_lambda como una funcion\n",
       "    <div class='message'>Done</div>\n",
       "  </td>\n",
       "  <td class='result passed'></td>\n",
       "</tr>\n",
       "<tr>\n",
       "  <td class='test'>\n",
       "    Definir mul_int como una funcion\n",
       "    <div class='message'>Done</div>\n",
       "  </td>\n",
       "  <td class='result passed'></td>\n",
       "</tr>\n",
       "<tr>\n",
       "  <td class='test'>\n",
       "    Definir w como un número complejo\n",
       "    <div class='message'>Done</div>\n",
       "  </td>\n",
       "  <td class='result passed'></td>\n",
       "</tr>\n",
       "<tr>\n",
       "  <td class='test'>\n",
       "    Determinar la parte imaginiaria de w\n",
       "    <div class='message'>Done</div>\n",
       "  </td>\n",
       "  <td class='result passed'></td>\n",
       "</tr>\n",
       "<tr>\n",
       "  <td class='test'>\n",
       "    Determinar la parte real de w\n",
       "    <div class='message'>Done</div>\n",
       "  </td>\n",
       "  <td class='result passed'></td>\n",
       "</tr>\n",
       "<tr>\n",
       "  <td class='test'>\n",
       "    Calcular el complejo conjugado de w\n",
       "    <div class='message'>Done</div>\n",
       "  </td>\n",
       "  <td class='result passed'></td>\n",
       "</tr>\n",
       "<tr>\n",
       "  <td class='test'>\n",
       "    Definir una lista L\n",
       "    <div class='message'>Done</div>\n",
       "  </td>\n",
       "  <td class='result passed'></td>\n",
       "</tr>\n",
       "<tr>\n",
       "  <td class='test'>\n",
       "    La longitud de lista debe ser 9 \n",
       "    <div class='message'>Done</div>\n",
       "  </td>\n",
       "  <td class='result passed'></td>\n",
       "</tr>\n",
       "<tr>\n",
       "  <td class='test'>\n",
       "    Invierta la lista L\n",
       "    <div class='message'>Error: Lists differ: [(7-8j), 7.0, 8.0, &#x27;Hola mundo&#x27;, &lt;function sum_int at 0x7bdf[60 chars]2, 4] != [(7-8j), 7.0, 8.0, (7+8j), &lt;function sum_int at 0x7bdf513d46[54 chars]2, 4]\n",
       "\n",
       "First differing element 3:\n",
       "&#x27;Hola mundo&#x27;\n",
       "(7+8j)\n",
       "\n",
       "  [(7-8j),\n",
       "   7.0,\n",
       "   8.0,\n",
       "-  &#x27;Hola mundo&#x27;,\n",
       "+  (7+8j),\n",
       "   &lt;function sum_int at 0x7bdf513d4670&gt;,\n",
       "   &lt;function &lt;lambda&gt; at 0x7bdf6e372290&gt;,\n",
       "   &#x27;Hola&#x27;,\n",
       "   5.2,\n",
       "   4] : #-The expect value is [(7-8j), 7.0, 8.0, &#x27;Hola mundo&#x27;, &lt;function sum_int at 0x7bdf513d4670&gt;, &lt;function &lt;lambda&gt; at 0x7bdf6e372290&gt;, &#x27;Hola&#x27;, 5.2, 4] and the functions test is [(7-8j), 7.0, 8.0, (7+8j), &lt;function sum_int at 0x7bdf513d4670&gt;, &lt;function &lt;lambda&gt; at 0x7bdf6e372290&gt;, &#x27;Hola&#x27;, 5.2, 4]\n",
       "</div>\n",
       "  </td>\n",
       "  <td class='result failed'></td>\n",
       "</tr>\n",
       "<tr>\n",
       "  <td class='test'>\n",
       "    Determine los valores impares de la lista\n",
       "    <div class='message'>Error: Lists differ: [5.2, &lt;function &lt;lambda&gt; at 0x7bdf6e372290&gt;, &#x27;Hola mundo&#x27;, 7.0] != [5.2, &lt;function &lt;lambda&gt; at 0x7bdf6e372290&gt;, (7+8j), 7.0]\n",
       "\n",
       "First differing element 2:\n",
       "&#x27;Hola mundo&#x27;\n",
       "(7+8j)\n",
       "\n",
       "- [5.2, &lt;function &lt;lambda&gt; at 0x7bdf6e372290&gt;, &#x27;Hola mundo&#x27;, 7.0]\n",
       "?                                              ^^^^^^^^^^^^\n",
       "\n",
       "+ [5.2, &lt;function &lt;lambda&gt; at 0x7bdf6e372290&gt;, (7+8j), 7.0]\n",
       "?                                              ^^^^^^\n",
       " : #-The expect value is [5.2, &lt;function &lt;lambda&gt; at 0x7bdf6e372290&gt;, &#x27;Hola mundo&#x27;, 7.0] and the functions test is [5.2, &lt;function &lt;lambda&gt; at 0x7bdf6e372290&gt;, (7+8j), 7.0]\n",
       "</div>\n",
       "  </td>\n",
       "  <td class='result failed'></td>\n",
       "</tr>\n",
       "<tr>\n",
       "  <td class='test'>\n",
       "    Determinar los valores pares de la lista\n",
       "    <div class='message'>Done</div>\n",
       "  </td>\n",
       "  <td class='result passed'></td>\n",
       "</tr>  <tr><th class='score'>Total Points</th><th class='score'>11</th></tr></table>\n"
      ],
      "text/plain": [
       "<IPython.core.display.HTML object>"
      ]
     },
     "metadata": {},
     "output_type": "display_data"
    }
   ],
   "source": [
    "%run -i autogradesMetodosComputacionales/example/libs/Lab_autotesting01/test04.py"
   ]
  },
  {
   "cell_type": "markdown",
   "metadata": {
    "id": "9vVIrQeytD30"
   },
   "source": [
    "###  Tuplas\n",
    "\n",
    "15.0 Definir una tupla con 5 elementos almacenda en la variable Tup, los primeros 3 tipo string y los ultimos dos, tipo float."
   ]
  },
  {
   "cell_type": "code",
   "execution_count": null,
   "metadata": {
    "id": "Ht8bI1yfj3Xt"
   },
   "outputs": [],
   "source": [
    "# Punto 15\n",
    "Tup= (\"Hola\",\"Nuevo\",\"Mundo\",3.4,2.6)"
   ]
  },
  {
   "cell_type": "code",
   "execution_count": null,
   "metadata": {
    "colab": {
     "base_uri": "https://localhost:8080/",
     "height": 251
    },
    "id": "UswyGx3xuou2",
    "outputId": "58004122-ee94-41e2-e73a-7d30538a30d4"
   },
   "outputs": [
    {
     "data": {
      "text/html": [
       "<style>\n",
       "  table { text-align: left; border-collapse: collapse; margin: 1em; caption-side: bottom; font-family: Sans-Serif; font-size: 12px}\n",
       "  caption { text-align: left; padding: 5px }\n",
       "  th, td { border: 2px solid #BFC9CA; padding: 5px }\n",
       "  th { background-color: #BFC9CA }\n",
       "  .passed { background-color: #76D7C4 }\n",
       "  .failed { background-color: #EC7063 }\n",
       "  .skipped { background-color: #EDBB99 }\n",
       "  .score { background-color: #7DCEA0 }\n",
       "  .results .points { display: none }\n",
       "  .results .message { display: block; font-size:smaller; color:#D35400 }\n",
       "  .results .note { display: block; font-size:smaller; font-decoration:italics }\n",
       "  .results .passed::before  { content: \"Passed\" } \n",
       "  .results .skipped::before  { content: \"Skipped\" } \n",
       "  .results .failed::before  { content: \"Failed\" } \n",
       "  .grade .passed  .message:empty::before { content:\"Passed\" }\n",
       "  .grade .failed  .message:empty::before { content:\"Failed\" }\n",
       "  .grade .skipped .message:empty::before { content:\"Skipped\" }   \n",
       "</style>\n",
       "<table class='results'>\n",
       "  <th class='test'>Test</th><th class='result'>Result</th></tr>\n",
       "<tr>\n",
       "  <td class='test'>\n",
       "    Definir una tupla\n",
       "    <div class='message'>Done</div>\n",
       "  </td>\n",
       "  <td class='result passed'></td>\n",
       "</tr>\n",
       "<tr>\n",
       "  <td class='test'>\n",
       "    La longitud de la tupla debe ser 5 \n",
       "    <div class='message'>Done</div>\n",
       "  </td>\n",
       "  <td class='result passed'></td>\n",
       "</tr>\n",
       "<tr>\n",
       "  <td class='test'>\n",
       "    Los tres primeros elementos deben string \n",
       "    <div class='message'>Done</div>\n",
       "  </td>\n",
       "  <td class='result passed'></td>\n",
       "</tr>\n",
       "<tr>\n",
       "  <td class='test'>\n",
       "    Los dos ultimos elementos deben ser float \n",
       "    <div class='message'>Done</div>\n",
       "  </td>\n",
       "  <td class='result passed'></td>\n",
       "</tr>  <tr><th class='score'>Total Points</th><th class='score'>4</th></tr></table>\n"
      ],
      "text/plain": [
       "<IPython.core.display.HTML object>"
      ]
     },
     "metadata": {},
     "output_type": "display_data"
    }
   ],
   "source": [
    " %run -i autogradesMetodosComputacionales/example/libs/Lab_autotesting01/test05.py"
   ]
  },
  {
   "cell_type": "markdown",
   "metadata": {
    "id": "E1VlbpbEysKy"
   },
   "source": [
    "###  Set\n",
    "16.0 Defina una variable tipo set llamada  D con los primeros 10 numeros de Bernulli, consultalos en la red. Notese que pasa en este variables cuando alguno de los elementos se repite\n",
    "\n",
    "17.0 Defina una variable tipo set llamada E con los números naturales del 1 al 20.\n",
    "\n",
    "18.0 Calcule la unión  y almacenela en una variable U.\n",
    "\n",
    "19.0 Calcule la intersección y almacenela en una variable I\n"
   ]
  },
  {
   "cell_type": "code",
   "execution_count": null,
   "metadata": {
    "id": "WNPDjS2xkMfT"
   },
   "outputs": [],
   "source": [
    "# Puntos 16-19\n",
    "D={1,-1/2,1/6,0,-1/30,0,1/42,0,-1/30,0,5/66}\n",
    "E={i**1 for i in range(1,20)}\n",
    "U= D.union(E)\n",
    "I= D.intersection(E)"
   ]
  },
  {
   "cell_type": "code",
   "execution_count": null,
   "metadata": {
    "colab": {
     "base_uri": "https://localhost:8080/",
     "height": 445
    },
    "id": "YJiDfeEr2cSc",
    "outputId": "25c05973-f082-4b4f-defd-b732748817d0"
   },
   "outputs": [
    {
     "data": {
      "text/html": [
       "<style>\n",
       "  table { text-align: left; border-collapse: collapse; margin: 1em; caption-side: bottom; font-family: Sans-Serif; font-size: 12px}\n",
       "  caption { text-align: left; padding: 5px }\n",
       "  th, td { border: 2px solid #BFC9CA; padding: 5px }\n",
       "  th { background-color: #BFC9CA }\n",
       "  .passed { background-color: #76D7C4 }\n",
       "  .failed { background-color: #EC7063 }\n",
       "  .skipped { background-color: #EDBB99 }\n",
       "  .score { background-color: #7DCEA0 }\n",
       "  .results .points { display: none }\n",
       "  .results .message { display: block; font-size:smaller; color:#D35400 }\n",
       "  .results .note { display: block; font-size:smaller; font-decoration:italics }\n",
       "  .results .passed::before  { content: \"Passed\" } \n",
       "  .results .skipped::before  { content: \"Skipped\" } \n",
       "  .results .failed::before  { content: \"Failed\" } \n",
       "  .grade .passed  .message:empty::before { content:\"Passed\" }\n",
       "  .grade .failed  .message:empty::before { content:\"Failed\" }\n",
       "  .grade .skipped .message:empty::before { content:\"Skipped\" }   \n",
       "</style>\n",
       "<table class='results'>\n",
       "  <th class='test'>Test</th><th class='result'>Result</th></tr>\n",
       "<tr>\n",
       "  <td class='test'>\n",
       "    Definir una variable D tipo set\n",
       "    <div class='message'>Done</div>\n",
       "  </td>\n",
       "  <td class='result passed'></td>\n",
       "</tr>\n",
       "<tr>\n",
       "  <td class='test'>\n",
       "    Definir una variable E tipo set\n",
       "    <div class='message'>Done</div>\n",
       "  </td>\n",
       "  <td class='result passed'></td>\n",
       "</tr>\n",
       "<tr>\n",
       "  <td class='test'>\n",
       "    Definir una variable U tipo set\n",
       "    <div class='message'>Done</div>\n",
       "  </td>\n",
       "  <td class='result passed'></td>\n",
       "</tr>\n",
       "<tr>\n",
       "  <td class='test'>\n",
       "    Definir una variable I tipo set\n",
       "    <div class='message'>Done</div>\n",
       "  </td>\n",
       "  <td class='result passed'></td>\n",
       "</tr>\n",
       "<tr>\n",
       "  <td class='test'>\n",
       "    La longitud de la tupla debe ser 5 \n",
       "    <div class='message'>Done</div>\n",
       "  </td>\n",
       "  <td class='result passed'></td>\n",
       "</tr>\n",
       "<tr>\n",
       "  <td class='test'>\n",
       "    10 primeros números de Bernulli\n",
       "    <div class='message'>Done</div>\n",
       "  </td>\n",
       "  <td class='result passed'></td>\n",
       "</tr>\n",
       "<tr>\n",
       "  <td class='test'>\n",
       "    20 primeros numeros naturales \n",
       "    <div class='message'>Done</div>\n",
       "  </td>\n",
       "  <td class='result passed'></td>\n",
       "</tr>\n",
       "<tr>\n",
       "  <td class='test'>\n",
       "    union \n",
       "    <div class='message'>Done</div>\n",
       "  </td>\n",
       "  <td class='result passed'></td>\n",
       "</tr>\n",
       "<tr>\n",
       "  <td class='test'>\n",
       "    Calcule la interseccion \n",
       "    <div class='message'>Done</div>\n",
       "  </td>\n",
       "  <td class='result passed'></td>\n",
       "</tr>  <tr><th class='score'>Total Points</th><th class='score'>9</th></tr></table>\n"
      ],
      "text/plain": [
       "<IPython.core.display.HTML object>"
      ]
     },
     "metadata": {},
     "output_type": "display_data"
    }
   ],
   "source": [
    " %run -i autogradesMetodosComputacionales/example/libs/Lab_autotesting01/test06.py"
   ]
  },
  {
   "cell_type": "markdown",
   "metadata": {
    "id": "HWfazmVWTq1T"
   },
   "source": [
    "\n",
    "\n",
    "\n",
    "\n",
    "\n",
    "\n",
    "\n",
    "\n",
    "\n",
    "\n",
    "\n",
    "\n",
    "\n",
    "\n",
    "###  Diccionarios\n",
    "20.0 Construi un diccionario con 5 elementos cuya clave es el nombre del autor y valor el nombre del libro. Almacenarlo en una variable dicc.\n",
    "\n",
    "\n",
    "\n"
   ]
  },
  {
   "cell_type": "code",
   "execution_count": null,
   "metadata": {
    "colab": {
     "base_uri": "https://localhost:8080/"
    },
    "id": "rNWS1EupkXYT",
    "outputId": "e49b50ed-838f-4c28-b477-0479209d29d4"
   },
   "outputs": [
    {
     "data": {
      "text/plain": [
       "5"
      ]
     },
     "execution_count": 15,
     "metadata": {},
     "output_type": "execute_result"
    }
   ],
   "source": [
    "# Punto 20\n",
    "dicc= {\"Mary Shelley\":\"Frankenstein\", \"George Orwell\":\"1984\",\"Don Quijote de la Mancha\":\"Miguel de Cervantes\",\"Franz Kafka\":\"La metamorfosis\",\"Gabriel García Márquez\":\"Cien años de soledad\"}\n",
    "len(dicc)"
   ]
  },
  {
   "cell_type": "code",
   "execution_count": null,
   "metadata": {
    "colab": {
     "base_uri": "https://localhost:8080/",
     "height": 173
    },
    "id": "yfHkEyXV6DjL",
    "outputId": "7537a9ed-cb68-4b99-808d-e34a4481ca3c"
   },
   "outputs": [
    {
     "data": {
      "text/html": [
       "<style>\n",
       "  table { text-align: left; border-collapse: collapse; margin: 1em; caption-side: bottom; font-family: Sans-Serif; font-size: 12px}\n",
       "  caption { text-align: left; padding: 5px }\n",
       "  th, td { border: 2px solid #BFC9CA; padding: 5px }\n",
       "  th { background-color: #BFC9CA }\n",
       "  .passed { background-color: #76D7C4 }\n",
       "  .failed { background-color: #EC7063 }\n",
       "  .skipped { background-color: #EDBB99 }\n",
       "  .score { background-color: #7DCEA0 }\n",
       "  .results .points { display: none }\n",
       "  .results .message { display: block; font-size:smaller; color:#D35400 }\n",
       "  .results .note { display: block; font-size:smaller; font-decoration:italics }\n",
       "  .results .passed::before  { content: \"Passed\" } \n",
       "  .results .skipped::before  { content: \"Skipped\" } \n",
       "  .results .failed::before  { content: \"Failed\" } \n",
       "  .grade .passed  .message:empty::before { content:\"Passed\" }\n",
       "  .grade .failed  .message:empty::before { content:\"Failed\" }\n",
       "  .grade .skipped .message:empty::before { content:\"Skipped\" }   \n",
       "</style>\n",
       "<table class='results'>\n",
       "  <th class='test'>Test</th><th class='result'>Result</th></tr>\n",
       "<tr>\n",
       "  <td class='test'>\n",
       "    Definir una variable dicc tipo diccionario\n",
       "    <div class='message'>Done</div>\n",
       "  </td>\n",
       "  <td class='result passed'></td>\n",
       "</tr>\n",
       "<tr>\n",
       "  <td class='test'>\n",
       "    la longitud del diccionario debe ser 5 \n",
       "    <div class='message'>Done</div>\n",
       "  </td>\n",
       "  <td class='result passed'></td>\n",
       "</tr>  <tr><th class='score'>Total Points</th><th class='score'>2</th></tr></table>\n"
      ],
      "text/plain": [
       "<IPython.core.display.HTML object>"
      ]
     },
     "metadata": {},
     "output_type": "display_data"
    }
   ],
   "source": [
    " %run -i autogradesMetodosComputacionales/example/libs/Lab_autotesting01/test07.py"
   ]
  },
  {
   "cell_type": "markdown",
   "metadata": {
    "id": "7g0xWN387wOo"
   },
   "source": [
    "\n",
    "####  Ciclos y condicionales\n",
    "\n",
    "21.0  Cálculo de $\\pi$. Empleando la siguiente seria :\n",
    "\n",
    "\\begin{equation}\n",
    "\\frac{\\pi}{4} = 1 -\\frac{1}{3}+-\\frac{1}{5}-\\frac{1}{7}+\\frac{1}{9}-...\n",
    "\\end{equation}\n",
    "\n",
    "Construya una función llamada pi_number en el que entrado el valor de k,(número de términos de la serie ) calcule el valor de pi. Si k es negativo deberá retornar un error como una variable tipo string.\n",
    "\n",
    "Ejemplo de ecución:\n",
    "```python\n",
    "pi_number(10)\n",
    "```"
   ]
  },
  {
   "cell_type": "code",
   "execution_count": null,
   "metadata": {
    "colab": {
     "base_uri": "https://localhost:8080/"
    },
    "id": "zCt4xXroozx7",
    "outputId": "2e8ba798-312a-42c4-acd9-381e9b217c89"
   },
   "outputs": [
    {
     "name": "stdout",
     "output_type": "stream",
     "text": [
      "Ingrese el valor k (términos de la serie):1005\n",
      "3.142587678219129\n"
     ]
    }
   ],
   "source": [
    "# Punto 21\n",
    "k=int(input(\"Ingrese el valor k (términos de la serie):\"))\n",
    "def pi_number(k):\n",
    "  suma=0\n",
    "  for k in range (0,k):\n",
    "   serie=(((-1)**k))/((2*k)+1)\n",
    "   suma+=serie\n",
    "  if k<0:\n",
    "    suma=str()\n",
    "    print(\"Error\")\n",
    "  return(suma*4)\n",
    "print(pi_number(k))"
   ]
  },
  {
   "cell_type": "code",
   "execution_count": null,
   "metadata": {
    "colab": {
     "base_uri": "https://localhost:8080/",
     "height": 191
    },
    "id": "OEACMhp6BS2k",
    "outputId": "d5e16862-5bb0-43e0-dc92-1a6960be0456"
   },
   "outputs": [
    {
     "name": "stdout",
     "output_type": "stream",
     "text": [
      "Error\n"
     ]
    },
    {
     "data": {
      "text/html": [
       "<style>\n",
       "  table { text-align: left; border-collapse: collapse; margin: 1em; caption-side: bottom; font-family: Sans-Serif; font-size: 12px}\n",
       "  caption { text-align: left; padding: 5px }\n",
       "  th, td { border: 2px solid #BFC9CA; padding: 5px }\n",
       "  th { background-color: #BFC9CA }\n",
       "  .passed { background-color: #76D7C4 }\n",
       "  .failed { background-color: #EC7063 }\n",
       "  .skipped { background-color: #EDBB99 }\n",
       "  .score { background-color: #7DCEA0 }\n",
       "  .results .points { display: none }\n",
       "  .results .message { display: block; font-size:smaller; color:#D35400 }\n",
       "  .results .note { display: block; font-size:smaller; font-decoration:italics }\n",
       "  .results .passed::before  { content: \"Passed\" } \n",
       "  .results .skipped::before  { content: \"Skipped\" } \n",
       "  .results .failed::before  { content: \"Failed\" } \n",
       "  .grade .passed  .message:empty::before { content:\"Passed\" }\n",
       "  .grade .failed  .message:empty::before { content:\"Failed\" }\n",
       "  .grade .skipped .message:empty::before { content:\"Skipped\" }   \n",
       "</style>\n",
       "<table class='results'>\n",
       "  <th class='test'>Test</th><th class='result'>Result</th></tr>\n",
       "<tr>\n",
       "  <td class='test'>\n",
       "    Crear una funcion que calcule el numero pi\n",
       "    <div class='message'>Done</div>\n",
       "  </td>\n",
       "  <td class='result passed'></td>\n",
       "</tr>\n",
       "<tr>\n",
       "  <td class='test'>\n",
       "    Prueba para valores negativos \n",
       "    <div class='message'>Done</div>\n",
       "  </td>\n",
       "  <td class='result passed'></td>\n",
       "</tr>  <tr><th class='score'>Total Points</th><th class='score'>2</th></tr></table>\n"
      ],
      "text/plain": [
       "<IPython.core.display.HTML object>"
      ]
     },
     "metadata": {},
     "output_type": "display_data"
    }
   ],
   "source": [
    " %run -i autogradesMetodosComputacionales/example/libs/Lab_autotesting01/test08.py"
   ]
  }
 ],
 "metadata": {
  "colab": {
   "provenance": []
  },
  "kernelspec": {
   "display_name": "Python 3 (ipykernel)",
   "language": "python",
   "name": "python3"
  },
  "language_info": {
   "codemirror_mode": {
    "name": "ipython",
    "version": 3
   },
   "file_extension": ".py",
   "mimetype": "text/x-python",
   "name": "python",
   "nbconvert_exporter": "python",
   "pygments_lexer": "ipython3",
   "version": "3.10.9"
  }
 },
 "nbformat": 4,
 "nbformat_minor": 1
}
