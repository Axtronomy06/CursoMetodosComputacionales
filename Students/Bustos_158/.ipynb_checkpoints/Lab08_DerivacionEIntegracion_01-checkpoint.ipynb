{
 "cells": [
  {
   "cell_type": "markdown",
   "metadata": {
    "id": "mfuoQaq5CYZG"
   },
   "source": [
    "<a href=\"https://colab.research.google.com/github/hernansalinas/autogrades/blob/main/Laboratorios_Taller/Lab08_DerivacionEIntegracion_01.ipynb\" target=\"_parent\"><img src=\"https://colab.research.google.com/assets/colab-badge.svg\" alt=\"Open In Colab\"/></a>\n"
   ]
  },
  {
   "cell_type": "code",
   "execution_count": 1,
   "metadata": {
    "id": "Yptof9v9XAic"
   },
   "outputs": [],
   "source": [
    "import numpy as np\n",
    "import matplotlib.pyplot as plt\n",
    "import sympy as sp\n",
    "import scipy as scipy\n",
    "import pandas as pd"
   ]
  },
  {
   "cell_type": "markdown",
   "metadata": {
    "id": "8q4c8oS-hpaE"
   },
   "source": [
    "\n",
    "#1.Parte 1\n",
    "1. En un cirtcuito con un voltaje de  $\\varepsilon(t)$ y una inductancia de L, la primera ley de kirshhoff nos da la siguiente relación\n",
    "\n",
    "\n",
    "\\begin{equation}\n",
    "\\varepsilon(t) = L\\frac{\\mathrm{d}i}{\\mathrm{d}t} + Ri\n",
    "\\end{equation}\n",
    "\n",
    "donde r, es la resistencia del circuito, i es la corriente. Suponga que medimos la corriente con varios valores de t y obtenemos:\n",
    "\n",
    "t = 1.00, 1.01, 1.02, 1.03, 1.04\n",
    "\n",
    "i = 3.10, 3.12, 3.14, 3.18, 3.24\n",
    "\n",
    "\n",
    "donde t se mide en segundos, i se de en amper, la inductancia L es una constante de 0.98 herios, la resistencia es de 0.142 ohms. Aproxime el votaje  $\\varepsilon(t)$ en los valores t=1.00, 1.01, 1.02, 1.03, 1.04 ,  para ello realice lo siguiente:\n",
    "\n",
    "\n",
    "- Construya un data frame de pandas con los valores de tiempo y corriente\n",
    "- Emplee un metodo calcular la derivada numérica.\n",
    "\n",
    "\n",
    "\n"
   ]
  },
  {
   "cell_type": "code",
   "execution_count": null,
   "metadata": {
    "id": "G0Ken4XOqfQ8"
   },
   "outputs": [],
   "source": [
    "t= np.array([1.00,1.01,1.02,1.03,1.04]) # en s\n",
    "i= np.array([3.10,3.12,3.14,3.18,3.24]) # en A"
   ]
  },
  {
   "cell_type": "code",
   "execution_count": null,
   "metadata": {
    "colab": {
     "base_uri": "https://localhost:8080/",
     "height": 452
    },
    "id": "AEHbcWF7TeJ_",
    "outputId": "5263ad12-f2f9-4ae0-bc27-d34e0ca1f782"
   },
   "outputs": [
    {
     "data": {
      "image/png": "[encoded data removed]",
      "text/plain": [
       "<Figure size 640x480 with 1 Axes>"
      ]
     },
     "metadata": {},
     "output_type": "display_data"
    }
   ],
   "source": [
    "plt.plot(t,i,\"ro\")\n",
    "plt.title(\"Puntos\")\n",
    "plt.grid()"
   ]
  },
  {
   "cell_type": "code",
   "execution_count": null,
   "metadata": {
    "id": "yr4BD37KTgur"
   },
   "outputs": [],
   "source": [
    "L= 0.98\n",
    "R= 0.142 # en ohms"
   ]
  },
  {
   "cell_type": "code",
   "execution_count": null,
   "metadata": {
    "colab": {
     "base_uri": "https://localhost:8080/",
     "height": 206
    },
    "id": "f_KcPxRnTik6",
    "outputId": "af94ce11-09eb-4a5d-ed42-7872dc2cd1ef"
   },
   "outputs": [
    {
     "data": {
      "text/html": [
       "\n",
       "  <div id=\"df-1c675d45-046d-42d1-ac22-6d5405c6bd53\" class=\"colab-df-container\">\n",
       "    <div>\n",
       "<style scoped>\n",
       "    .dataframe tbody tr th:only-of-type {\n",
       "        vertical-align: middle;\n",
       "    }\n",
       "\n",
       "    .dataframe tbody tr th {\n",
       "        vertical-align: top;\n",
       "    }\n",
       "\n",
       "    .dataframe thead th {\n",
       "        text-align: right;\n",
       "    }\n",
       "</style>\n",
       "<table border=\"1\" class=\"dataframe\">\n",
       "  <thead>\n",
       "    <tr style=\"text-align: right;\">\n",
       "      <th></th>\n",
       "      <th>Tiempo</th>\n",
       "      <th>Corriente</th>\n",
       "    </tr>\n",
       "  </thead>\n",
       "  <tbody>\n",
       "    <tr>\n",
       "      <th>0</th>\n",
       "      <td>1.00</td>\n",
       "      <td>3.10</td>\n",
       "    </tr>\n",
       "    <tr>\n",
       "      <th>1</th>\n",
       "      <td>1.01</td>\n",
       "      <td>3.12</td>\n",
       "    </tr>\n",
       "    <tr>\n",
       "      <th>2</th>\n",
       "      <td>1.02</td>\n",
       "      <td>3.14</td>\n",
       "    </tr>\n",
       "    <tr>\n",
       "      <th>3</th>\n",
       "      <td>1.03</td>\n",
       "      <td>3.18</td>\n",
       "    </tr>\n",
       "    <tr>\n",
       "      <th>4</th>\n",
       "      <td>1.04</td>\n",
       "      <td>3.24</td>\n",
       "    </tr>\n",
       "  </tbody>\n",
       "</table>\n",
       "</div>\n",
       "    <div class=\"colab-df-buttons\">\n",
       "\n",
       "  <div class=\"colab-df-container\">\n",
       "    <button class=\"colab-df-convert\" onclick=\"convertToInteractive('df-1c675d45-046d-42d1-ac22-6d5405c6bd53')\"\n",
       "            title=\"Convert this dataframe to an interactive table.\"\n",
       "            style=\"display:none;\">\n",
       "\n",
       "  <svg xmlns=\"http://www.w3.org/2000/svg\" height=\"24px\" viewBox=\"0 -960 960 960\">\n",
       "    <path d=\"M120-120v-720h720v720H120Zm60-500h600v-160H180v160Zm220 220h160v-160H400v160Zm0 220h160v-160H400v160ZM180-400h160v-160H180v160Zm440 0h160v-160H620v160ZM180-180h160v-160H180v160Zm440 0h160v-160H620v160Z\"/>\n",
       "  </svg>\n",
       "    </button>\n",
       "\n",
       "  <style>\n",
       "    .colab-df-container {\n",
       "      display:flex;\n",
       "      gap: 12px;\n",
       "    }\n",
       "\n",
       "    .colab-df-convert {\n",
       "      background-color: #E8F0FE;\n",
       "      border: none;\n",
       "      border-radius: 50%;\n",
       "      cursor: pointer;\n",
       "      display: none;\n",
       "      fill: #1967D2;\n",
       "      height: 32px;\n",
       "      padding: 0 0 0 0;\n",
       "      width: 32px;\n",
       "    }\n",
       "\n",
       "    .colab-df-convert:hover {\n",
       "      background-color: #E2EBFA;\n",
       "      box-shadow: 0px 1px 2px rgba(60, 64, 67, 0.3), 0px 1px 3px 1px rgba(60, 64, 67, 0.15);\n",
       "      fill: #174EA6;\n",
       "    }\n",
       "\n",
       "    .colab-df-buttons div {\n",
       "      margin-bottom: 4px;\n",
       "    }\n",
       "\n",
       "    [theme=dark] .colab-df-convert {\n",
       "      background-color: #3B4455;\n",
       "      fill: #D2E3FC;\n",
       "    }\n",
       "\n",
       "    [theme=dark] .colab-df-convert:hover {\n",
       "      background-color: #434B5C;\n",
       "      box-shadow: 0px 1px 3px 1px rgba(0, 0, 0, 0.15);\n",
       "      filter: drop-shadow(0px 1px 2px rgba(0, 0, 0, 0.3));\n",
       "      fill: #FFFFFF;\n",
       "    }\n",
       "  </style>\n",
       "\n",
       "    <script>\n",
       "      const buttonEl =\n",
       "        document.querySelector('#df-1c675d45-046d-42d1-ac22-6d5405c6bd53 button.colab-df-convert');\n",
       "      buttonEl.style.display =\n",
       "        google.colab.kernel.accessAllowed ? 'block' : 'none';\n",
       "\n",
       "      async function convertToInteractive(key) {\n",
       "        const element = document.querySelector('#df-1c675d45-046d-42d1-ac22-6d5405c6bd53');\n",
       "        const dataTable =\n",
       "          await google.colab.kernel.invokeFunction('convertToInteractive',\n",
       "                                                    [key], {});\n",
       "        if (!dataTable) return;\n",
       "\n",
       "        const docLinkHtml = 'Like what you see? Visit the ' +\n",
       "          '<a target=\"_blank\" href=https://colab.research.google.com/notebooks/data_table.ipynb>data table notebook</a>'\n",
       "          + ' to learn more about interactive tables.';\n",
       "        element.innerHTML = '';\n",
       "        dataTable['output_type'] = 'display_data';\n",
       "        await google.colab.output.renderOutput(dataTable, element);\n",
       "        const docLink = document.createElement('div');\n",
       "        docLink.innerHTML = docLinkHtml;\n",
       "        element.appendChild(docLink);\n",
       "      }\n",
       "    </script>\n",
       "  </div>\n",
       "\n",
       "\n",
       "<div id=\"df-1ff78be8-ed26-407e-8200-341bfb453a69\">\n",
       "  <button class=\"colab-df-quickchart\" onclick=\"quickchart('df-1ff78be8-ed26-407e-8200-341bfb453a69')\"\n",
       "            title=\"Suggest charts.\"\n",
       "            style=\"display:none;\">\n",
       "\n",
       "<svg xmlns=\"http://www.w3.org/2000/svg\" height=\"24px\"viewBox=\"0 0 24 24\"\n",
       "     width=\"24px\">\n",
       "    <g>\n",
       "        <path d=\"M19 3H5c-1.1 0-2 .9-2 2v14c0 1.1.9 2 2 2h14c1.1 0 2-.9 2-2V5c0-1.1-.9-2-2-2zM9 17H7v-7h2v7zm4 0h-2V7h2v10zm4 0h-2v-4h2v4z\"/>\n",
       "    </g>\n",
       "</svg>\n",
       "  </button>\n",
       "\n",
       "<style>\n",
       "  .colab-df-quickchart {\n",
       "      --bg-color: #E8F0FE;\n",
       "      --fill-color: #1967D2;\n",
       "      --hover-bg-color: #E2EBFA;\n",
       "      --hover-fill-color: #174EA6;\n",
       "      --disabled-fill-color: #AAA;\n",
       "      --disabled-bg-color: #DDD;\n",
       "  }\n",
       "\n",
       "  [theme=dark] .colab-df-quickchart {\n",
       "      --bg-color: #3B4455;\n",
       "      --fill-color: #D2E3FC;\n",
       "      --hover-bg-color: #434B5C;\n",
       "      --hover-fill-color: #FFFFFF;\n",
       "      --disabled-bg-color: #3B4455;\n",
       "      --disabled-fill-color: #666;\n",
       "  }\n",
       "\n",
       "  .colab-df-quickchart {\n",
       "    background-color: var(--bg-color);\n",
       "    border: none;\n",
       "    border-radius: 50%;\n",
       "    cursor: pointer;\n",
       "    display: none;\n",
       "    fill: var(--fill-color);\n",
       "    height: 32px;\n",
       "    padding: 0;\n",
       "    width: 32px;\n",
       "  }\n",
       "\n",
       "  .colab-df-quickchart:hover {\n",
       "    background-color: var(--hover-bg-color);\n",
       "    box-shadow: 0 1px 2px rgba(60, 64, 67, 0.3), 0 1px 3px 1px rgba(60, 64, 67, 0.15);\n",
       "    fill: var(--button-hover-fill-color);\n",
       "  }\n",
       "\n",
       "  .colab-df-quickchart-complete:disabled,\n",
       "  .colab-df-quickchart-complete:disabled:hover {\n",
       "    background-color: var(--disabled-bg-color);\n",
       "    fill: var(--disabled-fill-color);\n",
       "    box-shadow: none;\n",
       "  }\n",
       "\n",
       "  .colab-df-spinner {\n",
       "    border: 2px solid var(--fill-color);\n",
       "    border-color: transparent;\n",
       "    border-bottom-color: var(--fill-color);\n",
       "    animation:\n",
       "      spin 1s steps(1) infinite;\n",
       "  }\n",
       "\n",
       "  @keyframes spin {\n",
       "    0% {\n",
       "      border-color: transparent;\n",
       "      border-bottom-color: var(--fill-color);\n",
       "      border-left-color: var(--fill-color);\n",
       "    }\n",
       "    20% {\n",
       "      border-color: transparent;\n",
       "      border-left-color: var(--fill-color);\n",
       "      border-top-color: var(--fill-color);\n",
       "    }\n",
       "    30% {\n",
       "      border-color: transparent;\n",
       "      border-left-color: var(--fill-color);\n",
       "      border-top-color: var(--fill-color);\n",
       "      border-right-color: var(--fill-color);\n",
       "    }\n",
       "    40% {\n",
       "      border-color: transparent;\n",
       "      border-right-color: var(--fill-color);\n",
       "      border-top-color: var(--fill-color);\n",
       "    }\n",
       "    60% {\n",
       "      border-color: transparent;\n",
       "      border-right-color: var(--fill-color);\n",
       "    }\n",
       "    80% {\n",
       "      border-color: transparent;\n",
       "      border-right-color: var(--fill-color);\n",
       "      border-bottom-color: var(--fill-color);\n",
       "    }\n",
       "    90% {\n",
       "      border-color: transparent;\n",
       "      border-bottom-color: var(--fill-color);\n",
       "    }\n",
       "  }\n",
       "</style>\n",
       "\n",
       "  <script>\n",
       "    async function quickchart(key) {\n",
       "      const quickchartButtonEl =\n",
       "        document.querySelector('#' + key + ' button');\n",
       "      quickchartButtonEl.disabled = true;  // To prevent multiple clicks.\n",
       "      quickchartButtonEl.classList.add('colab-df-spinner');\n",
       "      try {\n",
       "        const charts = await google.colab.kernel.invokeFunction(\n",
       "            'suggestCharts', [key], {});\n",
       "      } catch (error) {\n",
       "        console.error('Error during call to suggestCharts:', error);\n",
       "      }\n",
       "      quickchartButtonEl.classList.remove('colab-df-spinner');\n",
       "      quickchartButtonEl.classList.add('colab-df-quickchart-complete');\n",
       "    }\n",
       "    (() => {\n",
       "      let quickchartButtonEl =\n",
       "        document.querySelector('#df-1ff78be8-ed26-407e-8200-341bfb453a69 button');\n",
       "      quickchartButtonEl.style.display =\n",
       "        google.colab.kernel.accessAllowed ? 'block' : 'none';\n",
       "    })();\n",
       "  </script>\n",
       "</div>\n",
       "    </div>\n",
       "  </div>\n"
      ],
      "text/plain": [
       "   Tiempo  Corriente\n",
       "0    1.00       3.10\n",
       "1    1.01       3.12\n",
       "2    1.02       3.14\n",
       "3    1.03       3.18\n",
       "4    1.04       3.24"
      ]
     },
     "execution_count": 5,
     "metadata": {},
     "output_type": "execute_result"
    }
   ],
   "source": [
    "df= pd.DataFrame({\"Tiempo\": t,\"Corriente\":i})\n",
    "df"
   ]
  },
  {
   "cell_type": "code",
   "execution_count": null,
   "metadata": {
    "id": "ONIKPCbbTrjK"
   },
   "outputs": [],
   "source": [
    "for j in range(len(t)-1):\n",
    "  derivada=([j+1]-i[j])/(t[j+1]-t[j])"
   ]
  },
  {
   "cell_type": "code",
   "execution_count": null,
   "metadata": {
    "id": "VIZm6RyuTukb"
   },
   "outputs": [],
   "source": [
    "# derivada númerica\n",
    "\n",
    "def derivada (t,i):\n",
    "  return  np.diff(i)/np.diff(t)\n",
    "\n",
    "def promedio (x):\n",
    "  return (x[1:] + x[0:-1])*0.5"
   ]
  },
  {
   "cell_type": "code",
   "execution_count": null,
   "metadata": {
    "colab": {
     "base_uri": "https://localhost:8080/"
    },
    "id": "Et2zvFgKTybZ",
    "outputId": "dcb6186b-ae09-44f2-b91d-ef6cbada4076"
   },
   "outputs": [
    {
     "data": {
      "text/plain": [
       "array([2., 2., 4., 6.])"
      ]
     },
     "execution_count": 8,
     "metadata": {},
     "output_type": "execute_result"
    }
   ],
   "source": [
    "derivada(t,i)"
   ]
  },
  {
   "cell_type": "code",
   "execution_count": null,
   "metadata": {
    "id": "kQj-wsHgT05R"
   },
   "outputs": [],
   "source": [
    "prom_i= promedio(i)\n",
    "prom_t= promedio(t)\n",
    "Fem= L*derivada(t,i)+R*prom_i"
   ]
  },
  {
   "cell_type": "code",
   "execution_count": null,
   "metadata": {
    "colab": {
     "base_uri": "https://localhost:8080/",
     "height": 174
    },
    "id": "k4qTYo7MT3LK",
    "outputId": "b2cf916b-20e9-474f-e75f-f47de392f090"
   },
   "outputs": [
    {
     "data": {
      "text/html": [
       "\n",
       "  <div id=\"df-004de771-011b-4b29-84f4-eafaee2d5117\" class=\"colab-df-container\">\n",
       "    <div>\n",
       "<style scoped>\n",
       "    .dataframe tbody tr th:only-of-type {\n",
       "        vertical-align: middle;\n",
       "    }\n",
       "\n",
       "    .dataframe tbody tr th {\n",
       "        vertical-align: top;\n",
       "    }\n",
       "\n",
       "    .dataframe thead th {\n",
       "        text-align: right;\n",
       "    }\n",
       "</style>\n",
       "<table border=\"1\" class=\"dataframe\">\n",
       "  <thead>\n",
       "    <tr style=\"text-align: right;\">\n",
       "      <th></th>\n",
       "      <th>Prom_i</th>\n",
       "      <th>Prom_t</th>\n",
       "      <th>Fem</th>\n",
       "    </tr>\n",
       "  </thead>\n",
       "  <tbody>\n",
       "    <tr>\n",
       "      <th>0</th>\n",
       "      <td>3.11</td>\n",
       "      <td>1.005</td>\n",
       "      <td>2.40162</td>\n",
       "    </tr>\n",
       "    <tr>\n",
       "      <th>1</th>\n",
       "      <td>3.13</td>\n",
       "      <td>1.015</td>\n",
       "      <td>2.40446</td>\n",
       "    </tr>\n",
       "    <tr>\n",
       "      <th>2</th>\n",
       "      <td>3.16</td>\n",
       "      <td>1.025</td>\n",
       "      <td>4.36872</td>\n",
       "    </tr>\n",
       "    <tr>\n",
       "      <th>3</th>\n",
       "      <td>3.21</td>\n",
       "      <td>1.035</td>\n",
       "      <td>6.33582</td>\n",
       "    </tr>\n",
       "  </tbody>\n",
       "</table>\n",
       "</div>\n",
       "    <div class=\"colab-df-buttons\">\n",
       "\n",
       "  <div class=\"colab-df-container\">\n",
       "    <button class=\"colab-df-convert\" onclick=\"convertToInteractive('df-004de771-011b-4b29-84f4-eafaee2d5117')\"\n",
       "            title=\"Convert this dataframe to an interactive table.\"\n",
       "            style=\"display:none;\">\n",
       "\n",
       "  <svg xmlns=\"http://www.w3.org/2000/svg\" height=\"24px\" viewBox=\"0 -960 960 960\">\n",
       "    <path d=\"M120-120v-720h720v720H120Zm60-500h600v-160H180v160Zm220 220h160v-160H400v160Zm0 220h160v-160H400v160ZM180-400h160v-160H180v160Zm440 0h160v-160H620v160ZM180-180h160v-160H180v160Zm440 0h160v-160H620v160Z\"/>\n",
       "  </svg>\n",
       "    </button>\n",
       "\n",
       "  <style>\n",
       "    .colab-df-container {\n",
       "      display:flex;\n",
       "      gap: 12px;\n",
       "    }\n",
       "\n",
       "    .colab-df-convert {\n",
       "      background-color: #E8F0FE;\n",
       "      border: none;\n",
       "      border-radius: 50%;\n",
       "      cursor: pointer;\n",
       "      display: none;\n",
       "      fill: #1967D2;\n",
       "      height: 32px;\n",
       "      padding: 0 0 0 0;\n",
       "      width: 32px;\n",
       "    }\n",
       "\n",
       "    .colab-df-convert:hover {\n",
       "      background-color: #E2EBFA;\n",
       "      box-shadow: 0px 1px 2px rgba(60, 64, 67, 0.3), 0px 1px 3px 1px rgba(60, 64, 67, 0.15);\n",
       "      fill: #174EA6;\n",
       "    }\n",
       "\n",
       "    .colab-df-buttons div {\n",
       "      margin-bottom: 4px;\n",
       "    }\n",
       "\n",
       "    [theme=dark] .colab-df-convert {\n",
       "      background-color: #3B4455;\n",
       "      fill: #D2E3FC;\n",
       "    }\n",
       "\n",
       "    [theme=dark] .colab-df-convert:hover {\n",
       "      background-color: #434B5C;\n",
       "      box-shadow: 0px 1px 3px 1px rgba(0, 0, 0, 0.15);\n",
       "      filter: drop-shadow(0px 1px 2px rgba(0, 0, 0, 0.3));\n",
       "      fill: #FFFFFF;\n",
       "    }\n",
       "  </style>\n",
       "\n",
       "    <script>\n",
       "      const buttonEl =\n",
       "        document.querySelector('#df-004de771-011b-4b29-84f4-eafaee2d5117 button.colab-df-convert');\n",
       "      buttonEl.style.display =\n",
       "        google.colab.kernel.accessAllowed ? 'block' : 'none';\n",
       "\n",
       "      async function convertToInteractive(key) {\n",
       "        const element = document.querySelector('#df-004de771-011b-4b29-84f4-eafaee2d5117');\n",
       "        const dataTable =\n",
       "          await google.colab.kernel.invokeFunction('convertToInteractive',\n",
       "                                                    [key], {});\n",
       "        if (!dataTable) return;\n",
       "\n",
       "        const docLinkHtml = 'Like what you see? Visit the ' +\n",
       "          '<a target=\"_blank\" href=https://colab.research.google.com/notebooks/data_table.ipynb>data table notebook</a>'\n",
       "          + ' to learn more about interactive tables.';\n",
       "        element.innerHTML = '';\n",
       "        dataTable['output_type'] = 'display_data';\n",
       "        await google.colab.output.renderOutput(dataTable, element);\n",
       "        const docLink = document.createElement('div');\n",
       "        docLink.innerHTML = docLinkHtml;\n",
       "        element.appendChild(docLink);\n",
       "      }\n",
       "    </script>\n",
       "  </div>\n",
       "\n",
       "\n",
       "<div id=\"df-df0a7dd3-a425-420a-b68b-49acc9a30fa0\">\n",
       "  <button class=\"colab-df-quickchart\" onclick=\"quickchart('df-df0a7dd3-a425-420a-b68b-49acc9a30fa0')\"\n",
       "            title=\"Suggest charts.\"\n",
       "            style=\"display:none;\">\n",
       "\n",
       "<svg xmlns=\"http://www.w3.org/2000/svg\" height=\"24px\"viewBox=\"0 0 24 24\"\n",
       "     width=\"24px\">\n",
       "    <g>\n",
       "        <path d=\"M19 3H5c-1.1 0-2 .9-2 2v14c0 1.1.9 2 2 2h14c1.1 0 2-.9 2-2V5c0-1.1-.9-2-2-2zM9 17H7v-7h2v7zm4 0h-2V7h2v10zm4 0h-2v-4h2v4z\"/>\n",
       "    </g>\n",
       "</svg>\n",
       "  </button>\n",
       "\n",
       "<style>\n",
       "  .colab-df-quickchart {\n",
       "      --bg-color: #E8F0FE;\n",
       "      --fill-color: #1967D2;\n",
       "      --hover-bg-color: #E2EBFA;\n",
       "      --hover-fill-color: #174EA6;\n",
       "      --disabled-fill-color: #AAA;\n",
       "      --disabled-bg-color: #DDD;\n",
       "  }\n",
       "\n",
       "  [theme=dark] .colab-df-quickchart {\n",
       "      --bg-color: #3B4455;\n",
       "      --fill-color: #D2E3FC;\n",
       "      --hover-bg-color: #434B5C;\n",
       "      --hover-fill-color: #FFFFFF;\n",
       "      --disabled-bg-color: #3B4455;\n",
       "      --disabled-fill-color: #666;\n",
       "  }\n",
       "\n",
       "  .colab-df-quickchart {\n",
       "    background-color: var(--bg-color);\n",
       "    border: none;\n",
       "    border-radius: 50%;\n",
       "    cursor: pointer;\n",
       "    display: none;\n",
       "    fill: var(--fill-color);\n",
       "    height: 32px;\n",
       "    padding: 0;\n",
       "    width: 32px;\n",
       "  }\n",
       "\n",
       "  .colab-df-quickchart:hover {\n",
       "    background-color: var(--hover-bg-color);\n",
       "    box-shadow: 0 1px 2px rgba(60, 64, 67, 0.3), 0 1px 3px 1px rgba(60, 64, 67, 0.15);\n",
       "    fill: var(--button-hover-fill-color);\n",
       "  }\n",
       "\n",
       "  .colab-df-quickchart-complete:disabled,\n",
       "  .colab-df-quickchart-complete:disabled:hover {\n",
       "    background-color: var(--disabled-bg-color);\n",
       "    fill: var(--disabled-fill-color);\n",
       "    box-shadow: none;\n",
       "  }\n",
       "\n",
       "  .colab-df-spinner {\n",
       "    border: 2px solid var(--fill-color);\n",
       "    border-color: transparent;\n",
       "    border-bottom-color: var(--fill-color);\n",
       "    animation:\n",
       "      spin 1s steps(1) infinite;\n",
       "  }\n",
       "\n",
       "  @keyframes spin {\n",
       "    0% {\n",
       "      border-color: transparent;\n",
       "      border-bottom-color: var(--fill-color);\n",
       "      border-left-color: var(--fill-color);\n",
       "    }\n",
       "    20% {\n",
       "      border-color: transparent;\n",
       "      border-left-color: var(--fill-color);\n",
       "      border-top-color: var(--fill-color);\n",
       "    }\n",
       "    30% {\n",
       "      border-color: transparent;\n",
       "      border-left-color: var(--fill-color);\n",
       "      border-top-color: var(--fill-color);\n",
       "      border-right-color: var(--fill-color);\n",
       "    }\n",
       "    40% {\n",
       "      border-color: transparent;\n",
       "      border-right-color: var(--fill-color);\n",
       "      border-top-color: var(--fill-color);\n",
       "    }\n",
       "    60% {\n",
       "      border-color: transparent;\n",
       "      border-right-color: var(--fill-color);\n",
       "    }\n",
       "    80% {\n",
       "      border-color: transparent;\n",
       "      border-right-color: var(--fill-color);\n",
       "      border-bottom-color: var(--fill-color);\n",
       "    }\n",
       "    90% {\n",
       "      border-color: transparent;\n",
       "      border-bottom-color: var(--fill-color);\n",
       "    }\n",
       "  }\n",
       "</style>\n",
       "\n",
       "  <script>\n",
       "    async function quickchart(key) {\n",
       "      const quickchartButtonEl =\n",
       "        document.querySelector('#' + key + ' button');\n",
       "      quickchartButtonEl.disabled = true;  // To prevent multiple clicks.\n",
       "      quickchartButtonEl.classList.add('colab-df-spinner');\n",
       "      try {\n",
       "        const charts = await google.colab.kernel.invokeFunction(\n",
       "            'suggestCharts', [key], {});\n",
       "      } catch (error) {\n",
       "        console.error('Error during call to suggestCharts:', error);\n",
       "      }\n",
       "      quickchartButtonEl.classList.remove('colab-df-spinner');\n",
       "      quickchartButtonEl.classList.add('colab-df-quickchart-complete');\n",
       "    }\n",
       "    (() => {\n",
       "      let quickchartButtonEl =\n",
       "        document.querySelector('#df-df0a7dd3-a425-420a-b68b-49acc9a30fa0 button');\n",
       "      quickchartButtonEl.style.display =\n",
       "        google.colab.kernel.accessAllowed ? 'block' : 'none';\n",
       "    })();\n",
       "  </script>\n",
       "</div>\n",
       "    </div>\n",
       "  </div>\n"
      ],
      "text/plain": [
       "   Prom_i  Prom_t      Fem\n",
       "0    3.11   1.005  2.40162\n",
       "1    3.13   1.015  2.40446\n",
       "2    3.16   1.025  4.36872\n",
       "3    3.21   1.035  6.33582"
      ]
     },
     "execution_count": 10,
     "metadata": {},
     "output_type": "execute_result"
    }
   ],
   "source": [
    "df_1=pd.DataFrame({\"Prom_i\": prom_i,\"Prom_t\":prom_t,\"Fem\":Fem})\n",
    "df_1"
   ]
  },
  {
   "cell_type": "code",
   "execution_count": null,
   "metadata": {
    "colab": {
     "base_uri": "https://localhost:8080/",
     "height": 472
    },
    "id": "KtYGNDroT_1b",
    "outputId": "6cd81c6d-45af-414e-baf8-e21d888972fc"
   },
   "outputs": [
    {
     "data": {
      "image/png": "[encoded data removed]",
      "text/plain": [
       "<Figure size 640x480 with 1 Axes>"
      ]
     },
     "metadata": {},
     "output_type": "display_data"
    }
   ],
   "source": [
    "plt.plot(df_1.Prom_t, df_1.Prom_i,c=\"r\")\n",
    "plt.title(\"Corriente vs t\")\n",
    "plt.ylabel(\"Promedio i\")\n",
    "plt.xlabel(\"Promedio t\")\n",
    "plt.grid()"
   ]
  },
  {
   "cell_type": "markdown",
   "metadata": {
    "id": "WV6dMBzK_odZ"
   },
   "source": [
    "\n",
    "\n",
    "\n",
    "# Parte 2\n",
    "\n",
    "1. Escribir en código Markdown la expresión para calcular una integral con la regla del trapecio.\n",
    "\n",
    "2. Escribir en código Markdown la expresión para calcular una integral con la regla del simpson\n",
    "\n",
    "\n",
    "3. Escribir en código Markdown la expresión para calcular una integral con el metodo de cuadratura.\n",
    "\n",
    "4. Calcular una aproximación con el metodo 1,2,3 de las siguientes integrales\n",
    "\n",
    "<!--\n",
    " $$\n",
    " \\int_0^\\pi e^{1-\\sqrt{x}}\\, dx\n",
    " $$  -->\n",
    "\n",
    "\n",
    "* $$\n",
    " \\int_0^{\\pi/2} \\frac{1}{\\sqrt{\\tan x}}\\, dx\n",
    " $$\n",
    "\n",
    "-\n",
    "$$\n",
    " \\int_{-\\infty}^{\\infty} \\frac{1}{1+x^2} \\, dx\n",
    " $$\n",
    "\n",
    "\n",
    "-\n",
    "\n",
    "$$\n",
    " \\int_{0}^{\\pi/4} \\int_{\\sin x}^{\\cos x} (2y\\sin x +\\cos^2 x)\\, dxdy\n",
    " $$\n",
    "\n",
    "<!--\n",
    "-\n",
    "$$\n",
    " \\int_{-\\infty}^{\\infty} \\frac{1}{1+x^2} \\, dx\n",
    " $$ -->\n",
    "\n",
    "<!--\n",
    "-\n",
    "$$\n",
    " \\int_{e}^{2e} \\frac{1}{\\ln x} \\, dx\n",
    " $$ -->\n",
    "\n",
    "\n",
    "garantizando  que el error sea menor a $\\varepsilon=1E-5$.  "
   ]
  },
  {
   "cell_type": "markdown",
   "metadata": {
    "id": "R7TP09lWhSXB"
   },
   "source": [
    "1. Escribir en código Markdown la expresión para calcular una integral con la regla del trapecio\n"
   ]
  },
  {
   "cell_type": "markdown",
   "metadata": {
    "id": "1q0i0Vpbho8P"
   },
   "source": [
    " $$\n",
    " \\int_a^{b} f(x) dx = \\frac{b-a}{2}(f(a)-f(b))\n",
    " $$"
   ]
  },
  {
   "cell_type": "markdown",
   "metadata": {
    "id": "V5yhD9Iosups"
   },
   "source": [
    "2. Escribir en código Markdown la expresión para calcular una integral con la regla del simpson"
   ]
  },
  {
   "cell_type": "markdown",
   "metadata": {
    "id": "bvVMWdsRtPGm"
   },
   "source": [
    "Es el resultado cuando se realiza una interpolación con polinomio de segundo grado. Sería la integral para un solo tramo.\n",
    "\n",
    "\\begin{equation}\n",
    "  \\\\\\int_a^{b} f(x) dx\\approx \\frac{b-a}{3}[ f(a)+4f(\\frac{a+b}{2})+f(b)]\n",
    "\\end{equation}\n"
   ]
  },
  {
   "cell_type": "markdown",
   "metadata": {
    "id": "dmgl8kXtXXVH"
   },
   "source": [
    "4. Calcular una aproximación con el metodo 1,2,3 de las siguientes integrales"
   ]
  },
  {
   "cell_type": "markdown",
   "metadata": {
    "id": "ZHMa8Pcw_koX"
   },
   "source": [
    "**Integral de tangente**"
   ]
  },
  {
   "cell_type": "markdown",
   "metadata": {
    "id": "xv705QF8X_KQ"
   },
   "source": [
    "$$\n",
    " \\int_0^{\\pi/2} \\frac{1}{\\sqrt{\\tan x}}\\, dx\n",
    " $$"
   ]
  },
  {
   "cell_type": "code",
   "execution_count": 2,
   "metadata": {
    "colab": {
     "base_uri": "https://localhost:8080/"
    },
    "id": "aEMMi93SWDTh",
    "outputId": "0c872e6a-36f4-47a9-8baa-1445ec8c7584"
   },
   "outputs": [
    {
     "data": {
      "text/plain": [
       "2.2269584986151783"
      ]
     },
     "execution_count": 2,
     "metadata": {},
     "output_type": "execute_result"
    }
   ],
   "source": [
    "# Método del trapecio: ¿A partir de que N el error es menor que 1E-5?\n",
    "\n",
    "def funcion(x):\n",
    "  return 1/np.sqrt(np.tan(x))\n",
    "\n",
    "x_= np.linspace(0.00001,np.pi/2,10000) # valor tan pequeño distinto de cero\n",
    "\n",
    "scipy.integrate.trapezoid(funcion(x_), x_, dx=1E-5)"
   ]
  },
  {
   "cell_type": "code",
   "execution_count": null,
   "metadata": {
    "id": "l5KARgFu6iJm"
   },
   "outputs": [],
   "source": [
    "def integral_trapz(f,a,b,N):\n",
    "\n",
    "  x= np.linspace (a,b,int(N))\n",
    "  h=(b-a)/N\n",
    "  A= ( f(x[0]) + f(x[-1]) + 2*f(x[1:-1]).sum())*h*0.5\n",
    "  return A"
   ]
  },
  {
   "cell_type": "code",
   "execution_count": null,
   "metadata": {
    "id": "T1ecaRL0_S1x"
   },
   "outputs": [],
   "source": [
    "g= lambda x: 1/np.sqrt(np.tan(x))"
   ]
  },
  {
   "cell_type": "code",
   "execution_count": null,
   "metadata": {
    "colab": {
     "base_uri": "https://localhost:8080/"
    },
    "id": "kIz9EGhe-7b6",
    "outputId": "776b193c-f79f-4c31-cd47-32a350f7cc94"
   },
   "outputs": [
    {
     "data": {
      "text/plain": [
       "2.226735802765317"
      ]
     },
     "execution_count": 194,
     "metadata": {},
     "output_type": "execute_result"
    }
   ],
   "source": [
    "integral_trapz(g,0.00001,np.pi/2,10000)"
   ]
  },
  {
   "cell_type": "code",
   "execution_count": null,
   "metadata": {
    "colab": {
     "base_uri": "https://localhost:8080/"
    },
    "id": "fPk-K8NZHmO0",
    "outputId": "e7a90adf-5c85-42d1-d86d-5dc2d5feab3b"
   },
   "outputs": [
    {
     "data": {
      "text/plain": [
       "2.2211097513315843"
      ]
     },
     "execution_count": 195,
     "metadata": {},
     "output_type": "execute_result"
    }
   ],
   "source": [
    "# Método de simpson\n",
    "\n",
    "scipy.integrate.simpson(funcion(x_), x_, dx=1E-5)"
   ]
  },
  {
   "cell_type": "code",
   "execution_count": null,
   "metadata": {
    "id": "0Qgby_v02XCy"
   },
   "outputs": [],
   "source": [
    "# Código vectorizado\n",
    "\n",
    "def simpson_c(a,b,N):\n",
    "\n",
    "  x= np.linspace(a,b,N)\n",
    "  a= x[0]\n",
    "  b= x[-1]\n",
    "  h= (b-a)/N\n",
    "\n",
    "  s1= x[2:N-2:2] # términos a recorrer\n",
    "  s2= x[1:N-1:2]\n",
    "\n",
    "  e= (h/3*(funcion(a)+ 2*funcion(s1).sum() + 4*funcion(s2).sum() + funcion(b))).sum()\n",
    "\n",
    "  return e"
   ]
  },
  {
   "cell_type": "code",
   "execution_count": null,
   "metadata": {
    "colab": {
     "base_uri": "https://localhost:8080/"
    },
    "id": "61AJVNZT-iNO",
    "outputId": "e04f3c8d-4a30-4aba-ae05-dbe7cf7160a3"
   },
   "outputs": [
    {
     "data": {
      "text/plain": [
       "2.2208859035985116"
      ]
     },
     "execution_count": 197,
     "metadata": {},
     "output_type": "execute_result"
    }
   ],
   "source": [
    "simpson_c(0.00001,np.pi/2,10000)"
   ]
  },
  {
   "cell_type": "code",
   "execution_count": null,
   "metadata": {
    "colab": {
     "base_uri": "https://localhost:8080/"
    },
    "id": "MRKiN1zdZxIy",
    "outputId": "69cadee5-09e0-4ce8-e0cb-bcd963981d87"
   },
   "outputs": [
    {
     "data": {
      "text/plain": [
       "(2.215116913771584, 1.3154568294699838e-08)"
      ]
     },
     "execution_count": 24,
     "metadata": {},
     "output_type": "execute_result"
    }
   ],
   "source": [
    "# Método cuadratura falta\n",
    "\n",
    "f= lambda x:1/np.sqrt(np.tan(x))\n",
    "scipy.integrate.quad(f, 0.00001, np.pi/2)"
   ]
  },
  {
   "cell_type": "markdown",
   "metadata": {
    "id": "m1U9dt8p_uK-"
   },
   "source": [
    "**Integral límites infinitos**"
   ]
  },
  {
   "cell_type": "markdown",
   "metadata": {
    "id": "JmIJp0ukMZO8"
   },
   "source": [
    "Si se realiza la sustitución trigonométrica $$x=tan(\\theta)$$ se obtiene la integral\n",
    "$$\n",
    " \\ \\int_{-\\pi/2}^{\\pi/2} \\, d\\theta\n",
    " $$"
   ]
  },
  {
   "cell_type": "code",
   "execution_count": 27,
   "metadata": {
    "colab": {
     "base_uri": "https://localhost:8080/"
    },
    "id": "RaMKtXwaFpH8",
    "outputId": "1d497f2a-c88c-4686-f8af-0a4ca2e41099"
   },
   "outputs": [
    {
     "data": {
      "text/plain": [
       "3.141592653589793"
      ]
     },
     "execution_count": 27,
     "metadata": {},
     "output_type": "execute_result"
    }
   ],
   "source": [
    "# Método del trapecio\n",
    "\n",
    "y=x/x  # de esta manera la funcion lo interpreta\n",
    "\n",
    "x= np.linspace(-np.pi/2, np.pi/2)\n",
    "\n",
    "scipy.integrate.trapezoid(y, x)"
   ]
  },
  {
   "cell_type": "code",
   "execution_count": 28,
   "metadata": {
    "colab": {
     "base_uri": "https://localhost:8080/"
    },
    "id": "UQtOJikuSPSl",
    "outputId": "5c778cb2-1cc9-46b8-a7a4-268c76679618"
   },
   "outputs": [
    {
     "data": {
      "text/plain": [
       "3.141592653589793"
      ]
     },
     "execution_count": 28,
     "metadata": {},
     "output_type": "execute_result"
    }
   ],
   "source": [
    "# Método de Simpson\n",
    "\n",
    "scipy.integrate.simpson(y, x, dx=1E-5)"
   ]
  },
  {
   "cell_type": "code",
   "execution_count": 33,
   "metadata": {
    "colab": {
     "base_uri": "https://localhost:8080/"
    },
    "id": "RTkb_tZDuWeu",
    "outputId": "a9c9be05-beb5-4d6e-c1cb-a157954e5cf4"
   },
   "outputs": [
    {
     "data": {
      "text/plain": [
       "(3.141592653589793, 3.487868498008632e-14)"
      ]
     },
     "execution_count": 33,
     "metadata": {},
     "output_type": "execute_result"
    }
   ],
   "source": [
    "# Método de cuadratura\n",
    "\n",
    "def f(x):\n",
    "  return 1\n",
    "resultado, error = scipy.integrate.quad(f, -np.pi/2, np.pi/2)\n",
    "\n",
    "resultado, error"
   ]
  },
  {
   "cell_type": "markdown",
   "metadata": {
    "id": "o_nLv3seTekM"
   },
   "source": [
    "**Integral doble**"
   ]
  },
  {
   "cell_type": "markdown",
   "metadata": {
    "id": "zxIuud53lw6H"
   },
   "source": [
    "\n",
    "$$\n",
    " \\int_{0}^{\\pi/4} \\int_{\\sin x}^{\\cos x} (2y\\sin x +\\cos^2 x)\\, dxdy\n",
    " $$"
   ]
  },
  {
   "cell_type": "code",
   "execution_count": 36,
   "metadata": {
    "id": "N94fmZvkno7D"
   },
   "outputs": [],
   "source": [
    "# Método del trapecio\n",
    "\n",
    "x__= sp.symbols(\"x\")\n",
    "y_= sp.symbols(\"y\")"
   ]
  },
  {
   "cell_type": "code",
   "execution_count": 37,
   "metadata": {
    "colab": {
     "base_uri": "https://localhost:8080/",
     "height": 39
    },
    "id": "GkaM1HH3oFXT",
    "outputId": "048c0cde-1a9c-4591-ab12-bc8197519806"
   },
   "outputs": [
    {
     "data": {
      "text/latex": [
       "$\\displaystyle y^{2} \\sin{\\left(x \\right)} + y \\cos^{2}{\\left(x \\right)}$"
      ],
      "text/plain": [
       "y**2*sin(x) + y*cos(x)**2"
      ]
     },
     "execution_count": 37,
     "metadata": {},
     "output_type": "execute_result"
    }
   ],
   "source": [
    "# Integral simbólica\n",
    "\n",
    "f = 2*y_ * sp.sin(x__) + sp.cos(x__)**2\n",
    "sp.integrate(f,y_)"
   ]
  },
  {
   "cell_type": "code",
   "execution_count": 38,
   "metadata": {
    "id": "uinUGqzizAGR"
   },
   "outputs": [],
   "source": [
    "g= lambda x,y: 2*y*np.sin(x)+np.cos(x)**2"
   ]
  },
  {
   "cell_type": "code",
   "execution_count": 39,
   "metadata": {
    "id": "wtxAROfR0BR6"
   },
   "outputs": [],
   "source": [
    "x_valor= np.linspace(0,np.pi/4,100)\n",
    "I1= np.zeros(len(x_valor))\n",
    "\n",
    "for i,x in enumerate(x_valor):\n",
    "  y = np.linspace(np.sin(x), np.cos(x), 100)\n",
    "  U= g(x, y)\n",
    "  I1[i]= scipy.integrate.trapezoid(U, y, dx=1E-5)\n"
   ]
  },
  {
   "cell_type": "code",
   "execution_count": 40,
   "metadata": {
    "colab": {
     "base_uri": "https://localhost:8080/"
    },
    "id": "qk3DMlVP0POn",
    "outputId": "0342981c-ee5a-405c-fb16-72c78b385f2c"
   },
   "outputs": [
    {
     "data": {
      "text/plain": [
       "0.5118335093392186"
      ]
     },
     "execution_count": 40,
     "metadata": {},
     "output_type": "execute_result"
    }
   ],
   "source": [
    "scipy.integrate.trapezoid(I1, x_valor, dx=1E-5)"
   ]
  },
  {
   "cell_type": "code",
   "execution_count": 99,
   "metadata": {
    "id": "DJphi-lVyLjL"
   },
   "outputs": [],
   "source": [
    "# Método de Simpson\n",
    "\n",
    "I2= np.zeros(len(x_valor))\n",
    "\n",
    "for i,x in enumerate(x_valor):\n",
    "  y = np.linspace(np.sin(x), np.cos(x), 100)\n",
    "  U= g(x,y)\n",
    "  I2[i]=scipy.integrate.simpson(U, y, dx=1E-5)"
   ]
  },
  {
   "cell_type": "code",
   "execution_count": 51,
   "metadata": {
    "colab": {
     "base_uri": "https://localhost:8080/"
    },
    "id": "gpZE7wJqzcrz",
    "outputId": "7b00a19e-0be4-4e69-9c78-9c54a12bd65b"
   },
   "outputs": [
    {
     "data": {
      "text/plain": [
       "0.5118446374265215"
      ]
     },
     "execution_count": 51,
     "metadata": {},
     "output_type": "execute_result"
    }
   ],
   "source": [
    "scipy.integrate.simpson(I2, x_valor, dx=1E-5)"
   ]
  },
  {
   "cell_type": "code",
   "execution_count": 112,
   "metadata": {
    "id": "p45-OGXZz9B-"
   },
   "outputs": [],
   "source": [
    "# Método de cuadratura\n",
    "\n",
    "I3= np.zeros(len(x_valor))\n",
    "\n",
    "def U(y):\n",
    "        return g(x, y)\n",
    "\n",
    "for i,x in enumerate(x_valor):\n",
    "  y = np.linspace(np.sin(x), np.cos(x), 100)\n",
    "  F= U\n",
    "  resultado, error= scipy.integrate.quad(F, np.sin(x), np.cos(x))\n",
    "  I3[i] = resultado"
   ]
  },
  {
   "cell_type": "code",
   "execution_count": 113,
   "metadata": {
    "id": "-hlC2-jqe5Rc"
   },
   "outputs": [],
   "source": [
    "f= lambda x: I3.sum()"
   ]
  },
  {
   "cell_type": "code",
   "execution_count": 116,
   "metadata": {
    "colab": {
     "base_uri": "https://localhost:8080/"
    },
    "id": "Bz6vqe34COL5",
    "outputId": "0ce18042-0113-446e-d4f5-4758bea2fc89"
   },
   "outputs": [
    {
     "data": {
      "text/plain": [
       "51.06421650628136"
      ]
     },
     "execution_count": 116,
     "metadata": {},
     "output_type": "execute_result"
    }
   ],
   "source": [
    "resultado, error = scipy.integrate.quad(f, 0, np.pi/4)\n",
    "resultado"
   ]
  },
  {
   "cell_type": "markdown",
   "metadata": {
    "id": "6hJGsmCkF6Wv"
   },
   "source": [
    "5. (No se resulve)The next  problems are examples of how elliptic integrals enter into realistic physics problems. It is straightforward to evaluate any integral numerically using the techniques of this chapter, but it may be difficult for you to  know if the answers you obtain are correct. One way to hone your integral\u0002evaluating skills is to compare your answers from quadrature to power series\n",
    "expressions, or to a polynomial approximations of know precision. To help you in this regard, we present here a polynomial approximation for an elliptic integral (Abramowitz and Stegun, 1972):\n",
    "\n",
    "\\begin{equation}\n",
    "K(m)=\\int_{0}^{\\pi/2} \\frac{\\mathrm{d\\phi}}{\\sqrt{1-m\\sin^2\\phi}}\n",
    "\\end{equation}\n",
    "\n",
    "\\begin{equation}\n",
    "\\approx a_0+a_1m_1+a_2m_2 - [ b_0+b_1m_1+b_2m_1^2]\\ln m_1 + \\epsilon(m)\n",
    "\\end{equation}\n",
    "\n",
    "\n",
    "\n",
    "$m_1 = 1-m$,\n",
    "\n",
    "$ 0 \\le m \\le1 $\n",
    "\n",
    "$\\epsilon(m)\\leq 3\\times 10^{-5}$\n",
    "\n",
    "\n",
    "\n",
    "$a_0 = 1.3862944$\n",
    "\n",
    "$b_0 = 0.5$\n",
    "\n",
    "$a_1 = 0.1119723$\n",
    "\n",
    "$b_1 = 0.1213478$\n",
    "\n",
    "$a_2 = 0.00725296$\n",
    "\n",
    "$b_2 = 0.0288729$\n",
    "\n",
    "6. Figure 5.7 shows a current loop of radius a carrying a current I. The point P\n",
    "is a distance r from the center of the loop with spherical coordinates (r, θ, φ).\n",
    "Jackson (1988) solves for the φ component of the vector potential at point P\n",
    "in terms of elliptic integrals:\n",
    "\n",
    "\\begin{equation}\n",
    "A_{\\phi}(r, \\theta)=\\frac{\\mu_0}{4\\pi}\\frac{4Ia}{\\sqrt{a^2+r^2+2ar\\sin \\theta}}\\left(\\frac{(2-k^2)K(k)-2E(k)}{k^2} \\right)\n",
    "\\end{equation}\n",
    "\n",
    "\n",
    "where\n",
    "\n",
    "\\begin{equation}\n",
    "K(k)=\\int_{0}^{\\pi/2} \\frac{\\mathrm{d\\phi}}{\\sqrt{1-k^2\\sin^2\\phi}}\n",
    "\\end{equation}\n",
    "\n",
    "\n",
    "\\begin{equation}\n",
    "E(k)=\\int_{0}^{\\pi/2} \\mathrm{d\\phi} \\sqrt{1-k^2\\sin^2\\phi}\n",
    "\\end{equation}\n",
    "\n",
    "\n",
    "\\begin{equation}\n",
    "k^2=\\frac{4ar\\sin\\theta}{a^2+r^2+2ar\\sin\\theta}\n",
    "\\end{equation}\n",
    "\n",
    "\n",
    "\n",
    "Here K(k) is a complete elliptic integral of the first kind and E(k) is a complete\n",
    "elliptic integral of the second kind. For a = 1, I = 3, and μ0∕4π = 1, compute\n",
    "and plot\n",
    "\n",
    "a) Aφ(r = 1.1, θ) vs. θ\n",
    "\n",
    "b) Aφ(r, θ = π∕3) vs. r\n",
    "\n",
    "\n",
    "\n",
    "<!-- 7. Suppose a body of mass m is traveling vertically upward starting at the surface of the earth. If all\n",
    "resistance except gravity is neglected, the escape velocity v is given by\n",
    "\n",
    "$$\n",
    "v^2=2gR\\int_1 ^\\infty z^{-2} dz,\n",
    "$$\n",
    "\n",
    "where z=x/R, R is the earth radius and g de gravity aceleration. Approximate the scape velocity -->"
   ]
  },
  {
   "cell_type": "markdown",
   "metadata": {
    "id": "dJVCeEtpX2sJ"
   },
   "source": [
    "\n",
    "7 (No se resulve)Write a double precision program to integrate an arbitrary function numerically using the trapezoid rule, the Simpson rule, and Gaussian quadrature. For our assumed problems there is an analytics answer:\n",
    "\n",
    "\\begin{equation}\n",
    "\\frac{\\mathrm{d}N(t)}{\\mathrm{d}t}=e^{-t}\n",
    "\\end{equation}\n",
    "\n",
    "\\begin{equation}\n",
    "N(1)=\\int_0^{1}e^{-t} dt=1-e^{-1}\n",
    "\\end{equation}\n",
    "\n",
    "7.2. Compute the relative error $\\epsilon=|numerical-exact|/exact$ in each case. Present your data in the tabular form\n",
    "with space or tabas seprating the field. Try N values of 2, 10, 20 , 40 , 80, 160\n",
    "\n",
    "| N  |$\\epsilon_T$ | $\\epsilon_S$ | $\\epsilon_G$ |\n",
    "|----|---------------|--------------|--------------|\n",
    "|   2  |...|...|...|\n",
    "|   10  |...|...|...|\n",
    "\n",
    "7.3. Make a log-log plot of relative errore versus. You should observe that\n",
    "$\\epsilon\\approx CN^{\\alpha}$, $\\mathrm{log} \\epsilon =\\alpha \\mathrm{log}N + \\mathrm{constant}$. This mean that a power-law dependence appears as a straight line on a log-log plot, and that if you use $\\log_{10}$, the the ordinate on your log-log plot will be the negative of the numver of decimal places of presicion in your calculation.\n",
    "7.4. Use your plot or table to stimate the power-law dependence of the error $\\epsilon$ on the number of points N and to determine the number of decimal places of presicion in your calculation. Do this for both the trapezoid and simpsons rules and for both the algolrithmic and round-off error regimes. (Note that if may be hard to reach the round-off error regime for the trapezoid rule becasue the aproximation ) error is so large"
   ]
  },
  {
   "cell_type": "markdown",
   "metadata": {
    "id": "L4uyWTgJKAfN"
   },
   "source": [
    "5. Un péndulo físico en el regimen de pequeñas oscilaciones tiene un periodo de:\n",
    "\n",
    "\\begin{equation}\n",
    "P_0=2\\pi \\sqrt{\\frac{I_0}{mgb}}\n",
    "\\end{equation}\n",
    "\n",
    "Cuando las oscilaciones no son pequenas, podemos encontrar una expresión para el periodo como sigue:\n",
    "\n",
    "\n",
    "La energia de un péndulo físico viene dada por:\n",
    "\n",
    "\\begin{equation}\n",
    "E=\\frac{I_0\\omega^2}{2}+mgb(1-\\cos \\theta)\n",
    "\\end{equation}\n",
    "\n",
    "En el punto más alejado de su posición de equilibrio, su energía es solo potencial y viene dada por:\n",
    "\n",
    "\\begin{equation}\n",
    "Ep = mgb(1-\\cos \\theta),\n",
    "\\end{equation}\n",
    "\n",
    "Igualando ambas expresiones tenemos que:\n",
    "\n",
    "\\begin{equation}\n",
    "mgb(1-\\cos \\theta)=\\frac{I_0\\omega^2}{2}+mgb(1-\\cos \\theta)\n",
    "\\end{equation}\n",
    "\n",
    "Integrando la ecuación respecto a $\\theta$ y realizando la sustitución:\n",
    "\n",
    "$\\sin \\phi = \\frac{\\sin \\frac{\\theta}{2}}{\\sin \\frac{\\theta_0}{2}}$ y  $k = \\sin \\frac{\\theta_0}{2}$, se puede encontrar  que el periodo de oscilación, viene dado en terminos de  la integral elíptica completa de primera especie:\n",
    "\n",
    "\n",
    "\\begin{equation}\n",
    "P = \\frac{2P_0}{\\pi} \\int _0^{\\pi/2} \\frac{\\mathrm{d\\phi}}{\\sqrt{1-k^2\\sin^2\\phi}}\n",
    "\\end{equation}\n",
    "\n",
    "donde,  $P_0$ es el periodo de las oscilaciones pequeñas. La anterior integral.\n",
    "\n",
    "Determinar el periodo de oscilación de un péndulo. Para ello:\n",
    "\n",
    "1. Suponga los párametros iniciales del pendulo.\n",
    "2. Realice una buena planificación del código para calcular la integral.\n",
    "3. Emplee un  método de integracion numérico que conozca.\n",
    "4. Compruebe su solucion con el valor exact de la integral mostrado en el punto 5."
   ]
  },
  {
   "cell_type": "code",
   "execution_count": null,
   "metadata": {
    "id": "t5IBWvtOWmHW"
   },
   "outputs": [],
   "source": [
    "# Parámetros iniciales\n",
    "\n",
    "m= 1  # kg\n",
    "g= 9.8  # m/s**2\n",
    "d= 0.3 # cm\n",
    "theta_0= np.pi/3  # ángulo máximo del péndulo\n",
    "I0= 1/12*m*(d)**2\n",
    "P0= 2*np.pi*np.sqrt(I0/m*g*d)"
   ]
  },
  {
   "cell_type": "code",
   "execution_count": null,
   "metadata": {
    "id": "ASH5q5Necu6J"
   },
   "outputs": [],
   "source": [
    "phi=(np.sin(theta_0/2)/np.sin(theta_0/2))**2\n",
    "k= np.sin(theta_0/2)"
   ]
  },
  {
   "cell_type": "code",
   "execution_count": null,
   "metadata": {
    "id": "u-S1XxqQY9FL"
   },
   "outputs": [],
   "source": [
    "f= lambda phi: 1/np.sqrt(1-k**2*phi)"
   ]
  },
  {
   "cell_type": "code",
   "execution_count": null,
   "metadata": {
    "id": "lo6dUIMpZ8_u"
   },
   "outputs": [],
   "source": [
    "phi= np.linspace(0,np.pi/2,10000)"
   ]
  },
  {
   "cell_type": "code",
   "execution_count": null,
   "metadata": {
    "colab": {
     "base_uri": "https://localhost:8080/",
     "height": 474
    },
    "id": "R6Foyn3paFFx",
    "outputId": "25d43ffc-383a-41a9-9cd4-43305f0308fc"
   },
   "outputs": [
    {
     "data": {
      "image/png": "[encoded data removed]",
      "text/plain": [
       "<Figure size 640x480 with 1 Axes>"
      ]
     },
     "metadata": {},
     "output_type": "display_data"
    }
   ],
   "source": [
    "plt.plot(p,f(p),c=\"r\")\n",
    "plt.xlabel(\"Ángulo(ϕ)\")\n",
    "plt.ylabel(\"f(ϕ)\")\n",
    "plt.title(\"Periodo\")\n",
    "plt.grid()"
   ]
  },
  {
   "cell_type": "code",
   "execution_count": null,
   "metadata": {
    "colab": {
     "base_uri": "https://localhost:8080/"
    },
    "id": "CXbCuaxaag3s",
    "outputId": "337c5607-51f2-429b-d4e7-ab142ecbd01d"
   },
   "outputs": [
    {
     "data": {
      "text/plain": [
       "1.0487359799458047"
      ]
     },
     "execution_count": 187,
     "metadata": {},
     "output_type": "execute_result"
    }
   ],
   "source": [
    "# Método del trapezoide\n",
    "\n",
    "y = 1/np.sqrt(1-k**2*phi)\n",
    "p= np.linspace(0,np.pi/2,10000)\n",
    "\n",
    "integral= scipy.integrate.trapezoid(y,p)\n",
    "\n",
    "2*P0/np.pi*integral"
   ]
  },
  {
   "cell_type": "code",
   "execution_count": null,
   "metadata": {
    "colab": {
     "base_uri": "https://localhost:8080/"
    },
    "id": "xI-JUvPniIDh",
    "outputId": "f1ba367e-eeea-4a72-91f6-7b8c69e105f6"
   },
   "outputs": [
    {
     "data": {
      "text/plain": [
       "(1.7656388642234033, 1.960252920233833e-14)"
      ]
     },
     "execution_count": 194,
     "metadata": {},
     "output_type": "execute_result"
    }
   ],
   "source": [
    "# Método quad\n",
    "\n",
    "integral_1= scipy.integrate.quad(f, 0, np.pi/2)\n",
    "integral_1"
   ]
  },
  {
   "cell_type": "code",
   "execution_count": null,
   "metadata": {
    "colab": {
     "base_uri": "https://localhost:8080/"
    },
    "id": "mnSe4KA3jK-A",
    "outputId": "566973b9-30c4-42cd-9976-3827e667c331"
   },
   "outputs": [
    {
     "data": {
      "text/plain": [
       "1.048735979775861"
      ]
     },
     "execution_count": 195,
     "metadata": {},
     "output_type": "execute_result"
    }
   ],
   "source": [
    "2*P0/np.pi*1.7656388642234033"
   ]
  },
  {
   "cell_type": "markdown",
   "metadata": {
    "id": "Dt3jwqtUjdPC"
   },
   "source": [
    "# **Periodo en función del ángulo**"
   ]
  },
  {
   "cell_type": "code",
   "execution_count": null,
   "metadata": {
    "id": "fzIlIGMGjhLR"
   },
   "outputs": [],
   "source": [
    "t_valores= np.linspace(0,np.pi/4)\n",
    "lista= np.zeros(len(t_valores))\n",
    "\n",
    "for i in range(0,len(t_valores)):\n",
    "  k= np.sin(t_valores[i]/2)\n",
    "  phi= np.linspace(0,np.pi/2)\n",
    "  f= lambda phi: 1/np.sqrt(1-k**2*np.sin(phi))\n",
    "  y= f(phi)\n",
    "  lista[i]=scipy.integrate.trapezoid(y,phi)"
   ]
  },
  {
   "cell_type": "code",
   "execution_count": null,
   "metadata": {
    "colab": {
     "base_uri": "https://localhost:8080/",
     "height": 472
    },
    "id": "7m2aOvw_lgPM",
    "outputId": "ad75c472-aed6-46ab-d7b8-1682af94cd42"
   },
   "outputs": [
    {
     "data": {
      "image/png": "[encoded data removed]",
      "text/plain": [
       "<Figure size 640x480 with 1 Axes>"
      ]
     },
     "metadata": {},
     "output_type": "display_data"
    }
   ],
   "source": [
    "plt.plot(t_valores,lista,c=\"b\")\n",
    "plt.xlabel(\"θ_0\")\n",
    "plt.ylabel(\"P\")\n",
    "plt.title(\"Periodo vs θ_0 \")\n",
    "plt.grid()"
   ]
  }
 ],
 "metadata": {
  "colab": {
   "provenance": []
  },
  "kernelspec": {
   "display_name": "Python 3 (ipykernel)",
   "language": "python",
   "name": "python3"
  },
  "language_info": {
   "codemirror_mode": {
    "name": "ipython",
    "version": 3
   },
   "file_extension": ".py",
   "mimetype": "text/x-python",
   "name": "python",
   "nbconvert_exporter": "python",
   "pygments_lexer": "ipython3",
   "version": "3.10.9"
  }
 },
 "nbformat": 4,
 "nbformat_minor": 1
}
