{
 "cells": [
  {
   "cell_type": "code",
   "execution_count": 1,
   "metadata": {
    "id": "dFvoi2oED8nP"
   },
   "outputs": [],
   "source": [
    "import numpy as np\n",
    "import matplotlib.pyplot as plt\n",
    "from scipy import optimize\n",
    "import scipy as sp"
   ]
  },
  {
   "cell_type": "markdown",
   "metadata": {
    "id": "1TbI7MNPCd_4"
   },
   "source": [
    "Encontrar la solución a la ecuación"
   ]
  },
  {
   "cell_type": "code",
   "execution_count": 2,
   "metadata": {
    "id": "fDcgKh-iEY__"
   },
   "outputs": [],
   "source": [
    "f=lambda x: x*np.exp(x)-1"
   ]
  },
  {
   "cell_type": "code",
   "execution_count": 3,
   "metadata": {
    "id": "2rstqLvpEbPd"
   },
   "outputs": [],
   "source": [
    "x=np.linspace(0,1,100)"
   ]
  },
  {
   "cell_type": "code",
   "execution_count": 4,
   "metadata": {
    "colab": {
     "base_uri": "https://localhost:8080/",
     "height": 472
    },
    "id": "fgPA3PHkEdH1",
    "outputId": "58b35ba3-7b9c-4ab1-960b-b6040ec13066"
   },
   "outputs": [
    {
     "data": {
      "image/png": "[encoded data removed]",
      "text/plain": [
       "<Figure size 640x480 with 1 Axes>"
      ]
     },
     "metadata": {},
     "output_type": "display_data"
    }
   ],
   "source": [
    "plt.plot(x,f(x),c=\"b\")\n",
    "plt.ylabel(\"f(x)\")\n",
    "plt.xlabel(\"x\")\n",
    "plt.title(\"Gráfica de la ecuación\")\n",
    "plt.grid()"
   ]
  },
  {
   "cell_type": "code",
   "execution_count": 7,
   "metadata": {
    "colab": {
     "base_uri": "https://localhost:8080/"
    },
    "id": "j9Y4nhADEymn",
    "outputId": "a278ca78-8391-4a6a-d7bb-f3732c7d324d"
   },
   "outputs": [
    {
     "name": "stdout",
     "output_type": "stream",
     "text": [
      "0.5\n"
     ]
    }
   ],
   "source": [
    "# Función para el método de bisección\n",
    "\n",
    "\n",
    "a= 0.5\n",
    "b= 0.8\n",
    "nmaxiter=1000\n",
    "ep= 1E-7 # tolerancia\n",
    "\n",
    "def bisection (a,b,f,ep):\n",
    "  c=a\n",
    "  iter=0\n",
    "  while( (abs(f(c))>= ep) & (f(a)*f(b)>0) & (iter<nmaxiter)):\n",
    "\n",
    "   c=(a+b)*0.5  # punto medio\n",
    "   f(c)\n",
    "\n",
    "  if (f(c)>0):   # positivo\n",
    "    b=c\n",
    "  else:\n",
    "      a=c            # negativo\n",
    "  iter=iter+1\n",
    "\n",
    "  if(iter==nmaxiter):\n",
    "    print(f\"No se alcanza la posición, deseada, número máximo de iteraciones superado nmax={nmaxiter}\")\n",
    "  return c\n",
    "\n",
    "\n",
    "raiz= bisection(a,b,f,ep)\n",
    "print(raiz)"
   ]
  },
  {
   "cell_type": "code",
   "execution_count": 8,
   "metadata": {
    "colab": {
     "base_uri": "https://localhost:8080/"
    },
    "id": "x0jjTrgjFPpN",
    "outputId": "4e306109-597c-42c8-c163-60d566d46b25"
   },
   "outputs": [
    {
     "ename": "NameError",
     "evalue": "name 'c' is not defined",
     "output_type": "error",
     "traceback": [
      "\u001b[0;31m---------------------------------------------------------------------------\u001b[0m",
      "\u001b[0;31mNameError\u001b[0m                                 Traceback (most recent call last)",
      "Cell \u001b[0;32mIn[8], line 1\u001b[0m\n\u001b[0;32m----> 1\u001b[0m \u001b[43mc\u001b[49m\n",
      "\u001b[0;31mNameError\u001b[0m: name 'c' is not defined"
     ]
    }
   ],
   "source": [
    "c"
   ]
  },
  {
   "cell_type": "code",
   "execution_count": 9,
   "metadata": {
    "colab": {
     "base_uri": "https://localhost:8080/"
    },
    "id": "bfVb0YVBFQBc",
    "outputId": "dce6728f-a04f-4a28-c915-feb7deeeefe5"
   },
   "outputs": [
    {
     "data": {
      "text/plain": [
       "0.5671432904087851"
      ]
     },
     "execution_count": 9,
     "metadata": {},
     "output_type": "execute_result"
    }
   ],
   "source": [
    "root= sp.optimize.bisect(f,a,b) # raíz esperada\n",
    "root"
   ]
  },
  {
   "cell_type": "code",
   "execution_count": null,
   "metadata": {},
   "outputs": [],
   "source": []
  }
 ],
 "metadata": {
  "colab": {
   "provenance": []
  },
  "kernelspec": {
   "display_name": "Python 3 (ipykernel)",
   "language": "python",
   "name": "python3"
  },
  "language_info": {
   "codemirror_mode": {
    "name": "ipython",
    "version": 3
   },
   "file_extension": ".py",
   "mimetype": "text/x-python",
   "name": "python",
   "nbconvert_exporter": "python",
   "pygments_lexer": "ipython3",
   "version": "3.10.9"
  }
 },
 "nbformat": 4,
 "nbformat_minor": 1
}
