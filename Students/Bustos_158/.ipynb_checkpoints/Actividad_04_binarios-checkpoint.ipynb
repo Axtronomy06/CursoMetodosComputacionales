{
 "cells": [
  {
   "cell_type": "markdown",
   "id": "6d26e874",
   "metadata": {
    "id": "6d26e874"
   },
   "source": [
    "<a href=\"https://colab.research.google.com/github/hernansalinas/autogrades/blob/main/Actividades_clase/Actividad_04_Binarios_Errores.ipynb\" target=\"_parent\"><img src=\"https://colab.research.google.com/assets/colab-badge.svg\" alt=\"Open In Colab\"/></a>\n",
    "\n",
    "\n",
    "\n",
    "# Actividad 4\n",
    "### Métodos computacionales para físicos  y astrónomos\n",
    "### Universidad de Antioquia\n",
    "### Prof: Hernan D. Salinas Jiménez\n"
   ]
  },
  {
   "cell_type": "code",
   "execution_count": 1,
   "id": "eae80e3f",
   "metadata": {
    "colab": {
     "base_uri": "https://localhost:8080/"
    },
    "id": "eae80e3f",
    "outputId": "4144a175-7f66-4e89-dee0-0769f989a77b"
   },
   "outputs": [
    {
     "name": "stdout",
     "output_type": "stream",
     "text": [
      "Cloning into 'autogrades'...\n",
      "remote: Enumerating objects: 736, done.\u001b[K\n",
      "remote: Counting objects: 100% (36/36), done.\u001b[K\n",
      "remote: Compressing objects: 100% (24/24), done.\u001b[K\n",
      "remote: Total 736 (delta 21), reused 23 (delta 12), pack-reused 700\u001b[K\n",
      "Receiving objects: 100% (736/736), 38.74 MiB | 2.35 MiB/s, done.\n",
      "Resolving deltas: 100% (421/421), done.\n"
     ]
    },
    {
     "name": "stderr",
     "output_type": "stream",
     "text": [
      "/Users/neuman/Documents/Docencia/Cursos/MetodosComputacionales/CursoMetodosComputacionales/Students/Bustos_158/autogrades/Actividades_clase/libs/libUnitTest.py:3: DeprecationWarning: Importing display from IPython.core.display is deprecated since IPython 7.14, please import from IPython display\n",
      "  from IPython.core.display import display, HTML\n"
     ]
    }
   ],
   "source": [
    "!git clone https://github.com/hernansalinas/autogrades.git\n",
    "#path=\"libs\"\n",
    "path=\"autogrades/Actividades_clase/libs\"\n",
    "%run -i {path}/libUnitTest.py"
   ]
  },
  {
   "cell_type": "markdown",
   "id": "74f1131a",
   "metadata": {
    "id": "74f1131a"
   },
   "source": [
    "### Activity 1.0:\n",
    "\n",
    "Implement a function that get the binary representation of an integer with name mybin, the algorithm should return\n",
    "a string with 8 characters, the maximun number that represent the funcition is integer of 8 bit. The name of function is\n",
    "mybin\n",
    "\n",
    "Ejexample :\n",
    "\n",
    "b=mybin(x)\n",
    "\n",
    "b='00101000'"
   ]
  },
  {
   "cell_type": "code",
   "execution_count": 2,
   "id": "BevRYbOA1XzL",
   "metadata": {
    "colab": {
     "base_uri": "https://localhost:8080/"
    },
    "id": "BevRYbOA1XzL",
    "outputId": "5f64ab79-f2e3-423b-de62-147b3daee51f"
   },
   "outputs": [
    {
     "name": "stdout",
     "output_type": "stream",
     "text": [
      "01011111\n"
     ]
    }
   ],
   "source": [
    "x= 95\n",
    "# Retornará el binario de 8 bits\n",
    "\n",
    "def mybin(x):\n",
    "  binario=\"\"\n",
    "  while x>=2:\n",
    "    cociente = int(x/2)\n",
    "    residuo = x % 2\n",
    "    x=cociente\n",
    "    binario= binario+str(residuo)\n",
    "  if x==1:\n",
    "    binario=binario+str(cociente)\n",
    "    binario=binario[::-1]  # Invertir la cadena de binario\n",
    "  for i in range(1,9-len(binario)):\n",
    "    binario=i*str(0*i % i)+binario\n",
    "  return binario #101000+0+0\n",
    "\n",
    "print(mybin(x))"
   ]
  },
  {
   "cell_type": "code",
   "execution_count": 3,
   "id": "885be6fb",
   "metadata": {
    "colab": {
     "base_uri": "https://localhost:8080/",
     "height": 213
    },
    "id": "885be6fb",
    "outputId": "9bb11939-5bb5-408f-dd49-8b7abe601cb3"
   },
   "outputs": [
    {
     "data": {
      "text/html": [
       "<style>\n",
       "  table { text-align: left; border-collapse: collapse; margin: 1em; caption-side: bottom; font-family: Sans-Serif; font-size: 12px}\n",
       "  caption { text-align: left; padding: 5px }\n",
       "  th, td { border: 2px solid #BFC9CA; padding: 5px }\n",
       "  th { background-color: #BFC9CA }\n",
       "  .passed { background-color: #76D7C4 }\n",
       "  .failed { background-color: #EC7063 }\n",
       "  .skipped { background-color: #EDBB99 }\n",
       "  .score { background-color: #7DCEA0 }\n",
       "  .results .points { display: none }\n",
       "  .results .message { display: block; font-size:smaller; color:#D35400 }\n",
       "  .results .note { display: block; font-size:smaller; font-decoration:italics }\n",
       "  .results .passed::before  { content: \"Passed\" } \n",
       "  .results .skipped::before  { content: \"Skipped\" } \n",
       "  .results .failed::before  { content: \"Failed\" } \n",
       "  .grade .passed  .message:empty::before { content:\"Passed\" }\n",
       "  .grade .failed  .message:empty::before { content:\"Failed\" }\n",
       "  .grade .skipped .message:empty::before { content:\"Skipped\" }   \n",
       "</style>\n",
       "<table class='results'>\n",
       "  <th class='test'>Test</th><th class='result'>Result</th></tr>\n",
       "<tr>\n",
       "  <td class='test'>\n",
       "    La salida debe ser un string \n",
       "    <div class='message'>Done</div>\n",
       "  </td>\n",
       "  <td class='result passed'></td>\n",
       "</tr>\n",
       "<tr>\n",
       "  <td class='test'>\n",
       "    La longitud del string debe ser de 8 \n",
       "    <div class='message'>Done</div>\n",
       "  </td>\n",
       "  <td class='result passed'></td>\n",
       "</tr>\n",
       "<tr>\n",
       "  <td class='test'>\n",
       "    Para el número 255 su representacion es 11111111 \n",
       "    <div class='message'>Done</div>\n",
       "  </td>\n",
       "  <td class='result passed'></td>\n",
       "</tr>  <tr><th class='score'>Total Points</th><th class='score'>3</th></tr></table>\n"
      ],
      "text/plain": [
       "<IPython.core.display.HTML object>"
      ]
     },
     "metadata": {},
     "output_type": "display_data"
    }
   ],
   "source": [
    "%run -i {path}/Act_02/test01.py"
   ]
  },
  {
   "cell_type": "markdown",
   "id": "e622b7b5",
   "metadata": {
    "id": "e622b7b5"
   },
   "source": [
    "### Activity 2.0:\n",
    "\n",
    "With the binary representation please try to implement the formula to recover the number.\n",
    "\n",
    "Hint: Use as input the binary representation as a string and invert its order\n",
    "\n",
    "```\n",
    "number32(BIN):\n",
    "\n",
    "```\n",
    "\n",
    "Where BIN is a string with the binary number\n",
    "\n",
    "Example:\n",
    "\n",
    "\n",
    "Test your solution for the next number:\n",
    "\n",
    "number32(\"00111110001000000000001000010000\")"
   ]
  },
  {
   "cell_type": "code",
   "execution_count": 4,
   "id": "kB74uFqdbw9N",
   "metadata": {
    "colab": {
     "base_uri": "https://localhost:8080/"
    },
    "id": "kB74uFqdbw9N",
    "outputId": "d3d3517e-e7ff-408b-f934-7bc3dbd8911f"
   },
   "outputs": [
    {
     "name": "stdout",
     "output_type": "stream",
     "text": [
      "0.15625786781311035\n"
     ]
    }
   ],
   "source": [
    "BIN=\"00111110001000000000001000010000\"\n",
    "BIN=BIN[::-1]\n",
    "s=BIN[31]\n",
    "\n",
    " # Parte decimal\n",
    "dec=1\n",
    "for j in range (1,24):\n",
    "  dec += int(BIN[23-j])*2**-j\n",
    "\n",
    "# Parte exponencial\n",
    "e=0\n",
    "for i in range(1,8):\n",
    "  e+= int(BIN[23+i])*2**i\n",
    "\n",
    "def number32(BIN):\n",
    "\n",
    "  numero= ((-1)**int(s)/2**(127-e))*dec\n",
    "  return numero\n",
    "print(number32(BIN))"
   ]
  },
  {
   "cell_type": "code",
   "execution_count": 5,
   "id": "155ffd7f",
   "metadata": {
    "colab": {
     "base_uri": "https://localhost:8080/",
     "height": 174
    },
    "id": "155ffd7f",
    "outputId": "e18d8bff-e5c9-4e56-ab1c-61e4e2723c21"
   },
   "outputs": [
    {
     "data": {
      "text/html": [
       "<style>\n",
       "  table { text-align: left; border-collapse: collapse; margin: 1em; caption-side: bottom; font-family: Sans-Serif; font-size: 12px}\n",
       "  caption { text-align: left; padding: 5px }\n",
       "  th, td { border: 2px solid #BFC9CA; padding: 5px }\n",
       "  th { background-color: #BFC9CA }\n",
       "  .passed { background-color: #76D7C4 }\n",
       "  .failed { background-color: #EC7063 }\n",
       "  .skipped { background-color: #EDBB99 }\n",
       "  .score { background-color: #7DCEA0 }\n",
       "  .results .points { display: none }\n",
       "  .results .message { display: block; font-size:smaller; color:#D35400 }\n",
       "  .results .note { display: block; font-size:smaller; font-decoration:italics }\n",
       "  .results .passed::before  { content: \"Passed\" } \n",
       "  .results .skipped::before  { content: \"Skipped\" } \n",
       "  .results .failed::before  { content: \"Failed\" } \n",
       "  .grade .passed  .message:empty::before { content:\"Passed\" }\n",
       "  .grade .failed  .message:empty::before { content:\"Failed\" }\n",
       "  .grade .skipped .message:empty::before { content:\"Skipped\" }   \n",
       "</style>\n",
       "<table class='results'>\n",
       "  <th class='test'>Test</th><th class='result'>Result</th></tr>\n",
       "<tr>\n",
       "  <td class='test'>\n",
       "    La salida debe ser un float \n",
       "    <div class='message'>Done</div>\n",
       "  </td>\n",
       "  <td class='result passed'></td>\n",
       "</tr>\n",
       "<tr>\n",
       "  <td class='test'>\n",
       "    Realizando prueba para un numero binario \n",
       "    <div class='message'>Error: 0.15625405311584473 != 0.15625786781311035 : #-The expect value is 0.15625405311584473 and the functions test is 0.15625786781311035\n",
       "</div>\n",
       "  </td>\n",
       "  <td class='result failed'></td>\n",
       "</tr>  <tr><th class='score'>Total Points</th><th class='score'>1</th></tr></table>\n"
      ],
      "text/plain": [
       "<IPython.core.display.HTML object>"
      ]
     },
     "metadata": {},
     "output_type": "display_data"
    }
   ],
   "source": [
    "%run -i {path}/Act_02/test02.py"
   ]
  },
  {
   "cell_type": "markdown",
   "id": "d11e596d",
   "metadata": {
    "id": "d11e596d"
   },
   "source": [
    "### Activity 3.0:\n",
    "1. Write a python script that calculates the double precision number represented by a 64-bits binary.\n",
    "\n",
    "the name of function should be:\n",
    "```\n",
    "number64(BIN):\n",
    "\n",
    "```\n",
    "\n",
    "2. What is the number represented by:\n",
    "\n",
    "BIN=\"0 10000000011 1011100100001111111111111111111111111111111111111111\""
   ]
  },
  {
   "cell_type": "code",
   "execution_count": 8,
   "id": "b0922a1d",
   "metadata": {
    "colab": {
     "base_uri": "https://localhost:8080/"
    },
    "id": "b0922a1d",
    "outputId": "79c37905-f0e1-4d7e-d92a-7e2353f86df9"
   },
   "outputs": [
    {
     "name": "stdout",
     "output_type": "stream",
     "text": [
      "-4.25352958651173e+37\n"
     ]
    }
   ],
   "source": [
    "BIN=\"0100000000111011100100001111111111111111111111111111111111111111\" # 64 bits\n",
    "\n",
    "def number64(BIN):\n",
    "  signo=BIN[63]\n",
    "  exp=0\n",
    "  p=1\n",
    "  z=(-1)**int(signo)\n",
    "\n",
    "  for i in range(0,11):\n",
    "    exp+=int(BIN[52+i])*2**i\n",
    "\n",
    "  for j in range(1,52):\n",
    "    p+=len(BIN[52-j])*2**-j\n",
    "\n",
    "    r=z*p*2**e-1023\n",
    "\n",
    "  return r\n",
    "\n",
    "print(number64(BIN))"
   ]
  },
  {
   "cell_type": "code",
   "execution_count": 9,
   "id": "cd48a992",
   "metadata": {
    "colab": {
     "base_uri": "https://localhost:8080/",
     "height": 144
    },
    "id": "cd48a992",
    "outputId": "3e56e94d-8a7f-4f15-b509-f62c6f005a00",
    "scrolled": false
   },
   "outputs": [
    {
     "ename": "SyntaxError",
     "evalue": "unmatched ')' (test03.py, line 28)",
     "output_type": "error",
     "traceback": [
      "\u001b[0;36m  File \u001b[0;32m~/Documents/Docencia/Cursos/MetodosComputacionales/CursoMetodosComputacionales/Students/Bustos_158/autogrades/Actividades_clase/libs/Act_02/test03.py:28\u001b[0;36m\u001b[0m\n\u001b[0;31m    True)\u001b[0m\n\u001b[0m        ^\u001b[0m\n\u001b[0;31mSyntaxError\u001b[0m\u001b[0;31m:\u001b[0m unmatched ')'\n"
     ]
    }
   ],
   "source": [
    "%run -i {path}/Act_02/test03.py"
   ]
  },
  {
   "cell_type": "code",
   "execution_count": null,
   "id": "901af537",
   "metadata": {},
   "outputs": [],
   "source": []
  },
  {
   "cell_type": "code",
   "execution_count": null,
   "id": "9720c64d",
   "metadata": {},
   "outputs": [],
   "source": []
  }
 ],
 "metadata": {
  "colab": {
   "provenance": []
  },
  "kernelspec": {
   "display_name": "Python 3 (ipykernel)",
   "language": "python",
   "name": "python3"
  },
  "language_info": {
   "codemirror_mode": {
    "name": "ipython",
    "version": 3
   },
   "file_extension": ".py",
   "mimetype": "text/x-python",
   "name": "python",
   "nbconvert_exporter": "python",
   "pygments_lexer": "ipython3",
   "version": "3.10.9"
  }
 },
 "nbformat": 4,
 "nbformat_minor": 5
}
