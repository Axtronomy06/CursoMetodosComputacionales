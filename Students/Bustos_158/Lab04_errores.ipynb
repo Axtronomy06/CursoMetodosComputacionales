{
  "cells": [
    {
      "cell_type": "markdown",
      "metadata": {
        "id": "eIZ2Sde65031"
      },
      "source": [
        "<a href=\"https://colab.research.google.com/github/hernansalinas/autogrades/blob/main/Laboratorios_Taller/Lab05_errores.ipynb\" target=\"_parent\"><img src=\"https://colab.research.google.com/assets/colab-badge.svg\" alt=\"Open In Colab\"/></a>"
      ]
    },
    {
      "cell_type": "markdown",
      "metadata": {
        "id": "ifkkjBLv1XCU"
      },
      "source": [
        "\n",
        "\n",
        "\n",
        "\n",
        "## Exponencial, serie alternante (serieEn)\n",
        "Objetivo: Analizar el uso de la cancelación substractiva\n",
        "\n",
        "\n",
        "Copia textual del libro  [Computational Physics. ](https://www.dropbox.com/s/n06ul2r4l65khl6/Computational%20Physics%20-%20Problem%20Solving%20with%20Computers%2C%203527406263.pdf?dl=0)\n",
        "\n",
        "- Write a program that calculates $e^{-x}$\n",
        "\n",
        "\\begin{equation}\n",
        "e^{-x}=\\sum_{n=0}^{N}  (-1)^n \\frac{x^{n}}{n!}\n",
        "\\end{equation}\n",
        "\n",
        "\n",
        "- Calculate your series for $x \\le 1$ and compare it to the built-in function\n",
        "exp(x) (you may assume that the built-in exponential function is exact).\n",
        "You should pick an N for which the next term in the series is no more\n",
        "than $10^{-7}$ of the sum up to that point\n",
        "\n",
        "\\begin{equation}\n",
        "\\left| \\frac{(-x)^{N+1}}{(N+1)!} \\right | \\le \\left| 10^{-7} \\sum_{N=0}^{N} \\frac{(-x)^{n}}{n!} \\right|\n",
        "\\end{equation}\n",
        "\n",
        "- Examine the terms in the series for $x\\approx 10$ and observe the significant subtractive cancellations that occur when large terms add together to give small answers. In particular, print out the near-perfect cancellation\n",
        "at $n \\approx x − 1$.\n",
        "\n",
        "- See if better precision is obtained by being clever and using exp(−x) = 1/ exp(x) for large x values. This eliminates subtractive cancellation, but does not eliminate all roundoff errors\n",
        "\n",
        "- By progressively increasing x from 1 to 10, and then from 10 to 100, use your program to determine experimentally when the series starts to lose accuracy, and when the series no longer converges\n",
        "\n",
        "- Make a series of graphs of the error versus N for different values of x.\n",
        "\n",
        "\n",
        "## Cancelación sustractiva\n",
        "\n",
        "\n",
        "\n",
        "**serieSn**. Un ejemplo de la cancelacion substractiva es en la suma de series alternantes. Considere la serie $\\mathrm{S}_N$,  escrita  matematicamente de tres formas diferentes:\n",
        "\n",
        "-\n",
        "\\begin{equation}\n",
        "\\mathrm{S}_N^{(1)} = \\sum_{n = 1}^{2N} (-1)^n \\frac{n}{n+1}\n",
        "\\end{equation}\n",
        "\n",
        "- Sumando números pares e impares.\n",
        "\n",
        "\\begin{equation}\n",
        "\\mathrm{S}_N^{(2)} = -\\sum_{n = 1}^{N}\\frac{2n-1}{2n} + \\sum_{n=1}^{N} \\frac{2n}{2n+1}\n",
        "\\end{equation}\n",
        "\n",
        "- Combinando las series de una forma analítica\n",
        "\n",
        "\\begin{equation}\n",
        "\\mathrm{S}_N^{(3)} = \\sum_{n = 1}^{N}\\frac{1}{2n(2n+1)}\n",
        "\\end{equation}\n",
        "\n",
        "\n",
        "\n",
        "Las tres sumas $\\mathrm{S}_N^{(1)}$, $\\mathrm{S}_N^{(2)}$ y $\\mathrm{S}_N^{(3)}$ son matemáticamente iguales, pero los resultados  pueden tener resultados numéricos diferentes.\n",
        "\n",
        "\n",
        "- Escribir un programa que realice el cálculo de $\\mathrm{S}_N^{(1)}$, $\\mathrm{S}_N^{(2)}$ y $\\mathrm{S}_N^{(3)}$\n",
        "- Estudiar la convergencia de la serie para los tres casos.\n",
        "- Considere  que $S_N^{(3)}$ es la solución exacta, realizar dos graficos log-log, del error relativo en función\n",
        "del número de términos ($\\mathrm{Log_{10}} E$ VS $\\mathrm{Log_{10}} N$), para $S_N^{(1)}$ y $S_N^{(2)}$. Donde,  $E = |(S_N^{(i)} - S_N^{(3)})/S_N^{(3)}|$, i = 1, 2. Considere valores de $N = 1\\times 10^{6}$.\n",
        "- Analizar y discutir los resultados. Tenga en cuenta la discusión realizada sobre teoría de errores en la página\n",
        "39 del libro del libro [Computational Physics. ](https://www.dropbox.com/s/n06ul2r4l65khl6/Computational%20Physics%20-%20Problem%20Solving%20with%20Computers%2C%203527406263.pdf?dl=0)\n",
        "\n",
        "\n"
      ]
    },
    {
      "cell_type": "markdown",
      "source": [
        "\n",
        "\\begin{equation}\n",
        "e^{-x}=\\sum_{n=0}^{N}  (-1)^n \\frac{x^{n}}{n!}\n",
        "\\end{equation}"
      ],
      "metadata": {
        "id": "2w02w_C4afw7"
      }
    },
    {
      "cell_type": "code",
      "source": [
        "import numpy as np\n",
        "import math\n",
        "import matplotlib.pyplot as plt"
      ],
      "metadata": {
        "id": "OwLemZtXRbEJ"
      },
      "execution_count": 90,
      "outputs": []
    },
    {
      "cell_type": "code",
      "source": [
        "x=0.5\n",
        "\n",
        "def exponencial(x, N=100):\n",
        "  serie=0\n",
        "\n",
        "  for n in range(0,N):\n",
        "    exp_= (-1)**n*x**n/math.factorial(n)\n",
        "    serie=serie+exp_\n",
        "\n",
        "  return serie"
      ],
      "metadata": {
        "id": "X3VRkZKrPnE6"
      },
      "execution_count": 208,
      "outputs": []
    },
    {
      "cell_type": "code",
      "source": [
        "epsilon= 1e-7\n",
        "\n",
        "# Comparación para estimar el N que cumple la condición\n",
        "N=0\n",
        "while abs(((-x)**(N + 1)) / math.factorial(N + 1)) >= abs(epsilon* exponencial(x, N)):\n",
        "    N += 1"
      ],
      "metadata": {
        "id": "8C5wrSfSdsuB"
      },
      "execution_count": 3,
      "outputs": []
    },
    {
      "cell_type": "code",
      "source": [
        "aprox = exponencial(x, N)\n",
        "v_teorico= np.exp(-x)\n",
        "\n",
        "print(f\"Aproximación : {aprox}\")\n",
        "print(f\"Valor teórico : {v_teorico}\")\n",
        "print(f\"Número de términos: {N}\") # Desde N=8 se cumple la condición"
      ],
      "metadata": {
        "colab": {
          "base_uri": "https://localhost:8080/"
        },
        "id": "Pb6U5zyfeCqT",
        "outputId": "e510db0f-aaa6-4d04-9d8b-976f14a44179"
      },
      "execution_count": 4,
      "outputs": [
        {
          "output_type": "stream",
          "name": "stdout",
          "text": [
            "Aproximación : 0.6065305679563492\n",
            "Valor teórico : 0.6065306597126334\n",
            "Número de términos: 8\n"
          ]
        }
      ]
    },
    {
      "cell_type": "code",
      "source": [
        "x= 9.8\n",
        "n= 10\n",
        "\n",
        "for i in range(n + 1):\n",
        "    termino = ((-1) ** i) * (x ** i) / math.factorial(i)\n",
        "    print(f\"Termino {i}: {termino}\") # Los números cambian de signo como se espera de la serie alternante pero unos son más grandes que otros"
      ],
      "metadata": {
        "colab": {
          "base_uri": "https://localhost:8080/"
        },
        "id": "9zvEoRxdfJng",
        "outputId": "88ff78a4-4380-41db-d411-1d7d400c3abb"
      },
      "execution_count": 62,
      "outputs": [
        {
          "output_type": "stream",
          "name": "stdout",
          "text": [
            "Termino 0: 1.0\n",
            "Termino 1: -9.8\n",
            "Termino 2: 48.02000000000001\n",
            "Termino 3: -156.86533333333338\n",
            "Termino 4: 384.32006666666683\n",
            "Termino 5: -753.267330666667\n",
            "Termino 6: 1230.3366400888895\n",
            "Termino 7: -1722.4712961244452\n",
            "Termino 8: 2110.0273377524454\n",
            "Termino 9: -2297.585323330441\n",
            "Termino 10: 2251.6336168638322\n"
          ]
        }
      ]
    },
    {
      "cell_type": "code",
      "source": [
        "# Precisión para valores grandes x\n",
        "\n",
        "x_valores= [9.8, 20, 30, 40, 50, 60, 70, 80, 90, 100]\n",
        "\n",
        "for x in x_valores:\n",
        "    N = 0\n",
        "    ep= 1e-7\n",
        "    while abs(((-x)**(N + 1)) / math.factorial(N + 1)) >= abs(ep* exponencial(x, N)):\n",
        "        N += 1\n",
        "\n",
        "    aprox = 1/exponencial(-x,N) # para ver si hay mayor precisión\n",
        "    valor_exacto = np.exp(-x)\n",
        "    print(f\"x = {x}, Aproximación: {aprox}, Valor Exacto: {valor_exacto}, N: {N}\")\n",
        "\n",
        "# Aparentemente hay mejor precisión con 1/exponencial(-x,N)"
      ],
      "metadata": {
        "colab": {
          "base_uri": "https://localhost:8080/"
        },
        "id": "VgUra3blH1No",
        "outputId": "c4a54720-b940-4795-c986-43e50d0fe766"
      },
      "execution_count": 91,
      "outputs": [
        {
          "output_type": "stream",
          "name": "stdout",
          "text": [
            "x = 9.8, Aproximación: 5.5451599432177e-05, Valor Exacto: 5.5451599432176945e-05, N: 44\n",
            "x = 20, Aproximación: 2.0611536224385583e-09, Valor Exacto: 2.061153622438558e-09, N: 82\n",
            "x = 30, Aproximación: 9.357622968840171e-14, Valor Exacto: 9.357622968840175e-14, N: 101\n",
            "x = 40, Aproximación: 4.24835425529159e-18, Valor Exacto: 4.248354255291589e-18, N: 122\n",
            "x = 50, Aproximación: 1.9287498479639164e-22, Valor Exacto: 1.9287498479639178e-22, N: 139\n",
            "x = 60, Aproximación: 8.75651076269652e-27, Valor Exacto: 8.75651076269652e-27, N: 154\n",
            "x = 70, Aproximación: 3.975449735908648e-31, Valor Exacto: 3.975449735908647e-31, N: 171\n",
            "x = 80, Aproximación: 1.8048513878454156e-35, Valor Exacto: 1.8048513878454153e-35, N: 186\n",
            "x = 90, Aproximación: 8.194012623990511e-40, Valor Exacto: 8.194012623990515e-40, N: 203\n",
            "x = 100, Aproximación: 3.7200759760208356e-44, Valor Exacto: 3.720075976020836e-44, N: 217\n"
          ]
        }
      ]
    },
    {
      "cell_type": "markdown",
      "source": [
        "By progressively increasing x from 1 to 10, and then from 10 to 100, use your program to determine experimentally when the series starts to lose accuracy, and when the series no longer converges"
      ],
      "metadata": {
        "id": "-k5xk0xvdLci"
      }
    },
    {
      "cell_type": "code",
      "source": [
        "# Incrementando progresivamente desde el 1 al 10\n",
        "\n",
        "e = 1e-7\n",
        "valores_x = [1, 10, 20, 30, 40, 50, 60, 70, 80, 90, 100]\n",
        "\n",
        "for x in valores_x:\n",
        "    N = 0\n",
        "    termino_anterior = 1\n",
        "    convergencia = True\n",
        "\n",
        "    while True:\n",
        "        termino = ((-x) ** (N + 1)) / math.factorial(N + 1)\n",
        "        if abs(termino) <= abs(e * termino_anterior):\n",
        "            convergencia = False\n",
        "            break\n",
        "        termino_anterior = termino\n",
        "        N += 1\n",
        "\n",
        "    aproximacion = exponencial(x, N)\n",
        "    valor_exacto = np.exp(-x)\n",
        "\n",
        "    print(f\"x = {x}, Aproximación: {aproximacion}, Valor Exacto: {valor_exacto}, N: {N}, Convergencia: {convergencia}\")\n",
        "\n",
        "# Entre más grande x, se ve que es menos probable que converga a cierto valor en específico"
      ],
      "metadata": {
        "colab": {
          "base_uri": "https://localhost:8080/"
        },
        "id": "T5Cmh-FvSTCG",
        "outputId": "cc1bab16-0538-457c-b81d-db0d00fc146b"
      },
      "execution_count": 219,
      "outputs": [
        {
          "output_type": "stream",
          "name": "stdout",
          "text": [
            "x = 1, Aproximación: 0.36787944117144245, Valor Exacto: 0.36787944117144233, N: 177, Convergencia: False\n",
            "x = 10, Aproximación: 4.5399929433607724e-05, Valor Exacto: 4.5399929762484854e-05, N: 306, Convergencia: False\n",
            "x = 20, Aproximación: 5.47810291652921e-10, Valor Exacto: 2.061153622438558e-09, N: 380, Convergencia: False\n",
            "x = 30, Aproximación: -8.553016433669241e-05, Valor Exacto: 9.357622968840175e-14, N: 439, Convergencia: False\n",
            "x = 40, Aproximación: 0.1470264494805502, Valor Exacto: 4.248354255291589e-18, N: 491, Convergencia: False\n",
            "x = 50, Aproximación: -7015.776232597128, Valor Exacto: 1.9287498479639178e-22, N: 538, Convergencia: False\n",
            "x = 60, Aproximación: -1223051118.0619795, Valor Exacto: 8.75651076269652e-27, N: 582, Convergencia: False\n",
            "x = 70, Aproximación: 15141759713408.848, Valor Exacto: 3.975449735908647e-31, N: 623, Convergencia: False\n",
            "x = 80, Aproximación: 6.772465846238849e+17, Valor Exacto: 1.8048513878454153e-35, N: 663, Convergencia: False\n",
            "x = 90, Aproximación: -7.884988118863822e+21, Valor Exacto: 8.194012623990515e-40, N: 702, Convergencia: False\n",
            "x = 100, Aproximación: -2.8756582514726483e+26, Valor Exacto: 3.720075976020836e-44, N: 739, Convergencia: False\n"
          ]
        }
      ]
    },
    {
      "cell_type": "code",
      "source": [
        "def error(x, N):\n",
        "    valor_exacto = math.exp(-x)\n",
        "    ap = exponencial(x, N)\n",
        "    error = abs(valor_exacto - ap)/abs(valor_exacto)\n",
        "    return error\n",
        "print(error(x,N))"
      ],
      "metadata": {
        "colab": {
          "base_uri": "https://localhost:8080/"
        },
        "id": "pHkrxKg0ZWVu",
        "outputId": "62ae6592-8b34-462a-d598-aac9dcc916ce"
      },
      "execution_count": 246,
      "outputs": [
        {
          "output_type": "stream",
          "name": "stdout",
          "text": [
            "1.3967334149491155e+35\n"
          ]
        }
      ]
    },
    {
      "cell_type": "code",
      "source": [
        "x_pruebas = [1, 5, 12, 20, 60]\n",
        "N_values = list(range(1, 101))"
      ],
      "metadata": {
        "id": "gf8eD9c1YGJO"
      },
      "execution_count": 247,
      "outputs": []
    },
    {
      "cell_type": "code",
      "source": [
        "errores_x=[]\n",
        "\n",
        "for i in x_pruebas:\n",
        "    errores = [error(x, N) for N in N_values]\n",
        "    errores_x.append(errores)\n",
        "\n",
        "for i, x in enumerate(x_pruebas):\n",
        "    plt.plot(N_values, errores_x[i], label=f'x = {x}')\n",
        "\n",
        "plt.xlabel(\"Número de Términos (N)\")\n",
        "plt.ylabel(\"Error\")\n",
        "plt.title(\"Error vs N\")\n",
        "plt.legend()\n",
        "plt.grid()"
      ],
      "metadata": {
        "colab": {
          "base_uri": "https://localhost:8080/",
          "height": 472
        },
        "id": "Yp5tQxVoeW4H",
        "outputId": "3300bb49-b20d-49f9-ac09-6be7e11d40c1"
      },
      "execution_count": 249,
      "outputs": [
        {
          "output_type": "display_data",
          "data": {
            "text/plain": [
              "<Figure size 640x480 with 1 Axes>"
            ],
            "image/png": "[encoded data removed]"
          },
          "metadata": {}
        }
      ]
    },
    {
      "cell_type": "markdown",
      "source": [
        "# **Cancelación sustractiva**"
      ],
      "metadata": {
        "id": "CtCMLk48p1bT"
      }
    }
  ],
  "metadata": {
    "colab": {
      "provenance": []
    },
    "kernelspec": {
      "display_name": "Python 3 (ipykernel)",
      "language": "python",
      "name": "python3"
    },
    "language_info": {
      "codemirror_mode": {
        "name": "ipython",
        "version": 3
      },
      "file_extension": ".py",
      "mimetype": "text/x-python",
      "name": "python",
      "nbconvert_exporter": "python",
      "pygments_lexer": "ipython3",
      "version": "3.8.12"
    }
  },
  "nbformat": 4,
  "nbformat_minor": 0
}