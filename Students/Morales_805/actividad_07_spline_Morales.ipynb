{
 "cells": [
  {
   "cell_type": "markdown",
   "metadata": {
    "id": "oi5h-qEdaY-B"
   },
   "source": [
    "***Luisa María Morales Sánchez***"
   ]
  },
  {
   "cell_type": "markdown",
   "metadata": {
    "id": "LAi7gwybR1zQ"
   },
   "source": [
    "# Spline interpolacion\n",
    "  "
   ]
  },
  {
   "cell_type": "code",
   "execution_count": null,
   "metadata": {
    "id": "KCviXwLQR1zV"
   },
   "outputs": [],
   "source": [
    "import numpy as np\n",
    "import matplotlib.pylab as plt\n",
    "from numpy.linalg import solve\n",
    "%matplotlib inline\n",
    "#REF: Adaptado de  https://github.com/rrgalvan"
   ]
  },
  {
   "cell_type": "markdown",
   "metadata": {
    "id": "rfMQrtUZR1zf"
   },
   "source": [
    "Calcular el spline cúbico que interpola los puntos $(-1,5)$, $(0,3)$, $(1,3)$."
   ]
  },
  {
   "cell_type": "code",
   "execution_count": null,
   "metadata": {
    "id": "dWntiVEoR1zh"
   },
   "outputs": [],
   "source": [
    "x0, x1, x2, x3= -1, 0, 1, 2\n",
    "_x = np.array([x0, x1, x2, x3])\n",
    "y0, y1, y2, y3 =  5, 3, 3, 4\n",
    "_y = np.array([y0, y1, y2, y3])"
   ]
  },
  {
   "cell_type": "markdown",
   "metadata": {
    "id": "l-GSuaVdR1zo"
   },
   "source": [
    "Para calcular los splines cúbicos debemos resolver el sistema de ecuaciones que define los coeficientes de los polinomios cúbicos en los subintervalos $[-1,0]$ y $[0,1]$. Empleando las condiciones del metodo de spline, y defiendo los polinomios para garantizar la continuidad en cada unos de los puntos, tenemos que:\n",
    "\n",
    "Sean:\n",
    "  * $s_0(x) = a_0 + b_0 (x-x_0) + c_0 (x-x_0)^2 + d_0 (x-x_0)^3$,\n",
    "  * $s_1(x) = a_1 + b_1 (x-x_1) + c_1 (x-x_1)^2 + d_1 (x-x_1)^3$,\n",
    "  * $s_2(x) = a_2 + b_2 (x-x_2) + c_2 (x-x_2)^2 + d_2 (x-x_2)^3$,\n",
    "\n",
    "es decir:\n",
    "  * $s_0(x) = a_0 + b_0 (x+1) + c_0 (x+1)^2 + d_0 (x+1)^3$,\n",
    "  * $s_1(x) = a_1 + b_1 x + c_1 x^2 + d_1 x^3$.\n",
    "  * $s_2(x) = a_2 + b_2 (x-1) + c_2 (x-1)^2 + d_2 (x-1)^3$.\n",
    "\n",
    "Entonces\n",
    "  * $s_0'(x) =  b_0 + 2 c_0 (x+1) + 3 d_0 (x+1)^2$,\n",
    "  * $s_0''(x) = 2 c_0 + 6 d_0 (x+1)$,\n",
    "  * $s_1'(x) =  b_1 + 2 c_1 x + 3 d_1 x^2$,\n",
    "  * $s_1''(x) = 2 c_1 + 6 d_1 x$.\n",
    "  * $s_2'(x) =  b_2 + 2 c_2 (x-1) + 3 d_2 (x-1)^2$,\n",
    "  * $s_2''(x) = 2 c_2 + 6 d_2 (x-1)$.\n",
    "\n",
    "\n",
    "Tenemos 8 incógnitas, $a_i$, $b_i$, $c_i$, $d_i$ con $i=0,1$. Las ecuaciones son:\n",
    "\n",
    "  * Interpolación (y continuidad en 0):\n",
    "\n",
    "    * $s_0(-1) = 5$, es decir, $a_0=5$.\n",
    "    * $s_0(0)  = 3$, es decir, $a_0+b_0+c_0+d_0=3$.\n",
    "    * $s_1(0) = 3$, es decir, $a_1=3$.\n",
    "    * $s_1(1)  = 3$, es decir, $a_1+b_1+c_1+d_1=3$.\n",
    "    * $s_2(1) = 3$, es decir, $a_2=3$.\n",
    "    * $s_2(2)  = 4$, es decir, $a_2+b_2+c_2+d_2=4$.\n",
    "    \n",
    "  * Derivabilidad:\n",
    "\n",
    "    * $s_0'(0) = s_1'(0)$, es decir, $b_0+2c_0+3d_0 = b_1$.\n",
    "    * $s_0''(0) = s_1''(0)$, es decir, $2c_0+6d_0 = 2c_1$.\n",
    "    * $s_1'(1) = s_2'(1)$, es decir, $b_1+2c_1+3d_1 = b_2$.\n",
    "    * $s_1''(1) = s_2''(1)$, es decir, $2c_1+6d_1 = 2c_2$.\n",
    "\n",
    "  * Condiciones naturales en los extremos, $-1$ y $1$:\n",
    "\n",
    "    * $s_0''(-1) = 0$, es decir, $2c_0=0$.\n",
    "    * $s_2''(2) = 0$, o sea $2c_2+6d_2=0$.\n",
    "\n",
    "\n",
    "De estas ecuaciones tenemos directamente $a_0$, $a_1$, $a_2$ y $c_0$. Le damos valores a las variables en python:"
   ]
  },
  {
   "cell_type": "code",
   "execution_count": null,
   "metadata": {
    "id": "5sxEuNwNR1zp"
   },
   "outputs": [],
   "source": [
    "a0 = 5\n",
    "a1 = 3\n",
    "a2 = 3\n",
    "c0 = 0"
   ]
  },
  {
   "cell_type": "markdown",
   "metadata": {
    "id": "eZScj4sDR1zu"
   },
   "source": [
    "Así, podemos eliminar la primera, tercera y séptima ecuación, llegando a un sistema de cinco ecuaciones con cinco incógnitas ($b_0$, $d_0$, $b_1$, $c_1$, $d_1$,$b_2$,$c_2$,$d_2$):\n",
    "\n",
    " * $b_0+d_0=3-a_0-c_0=-2$,\n",
    " * $b_1+c_1+d_1=3-a_1=0$,\n",
    " * $b_0+3d_0 - b_1 = -2c_0 = 0$,\n",
    " * $6d_0 - 2c_1 = -2c_0=0$\n",
    " * $b_2+c_2+d_2=4-a_2=1$,\n",
    " * $b_1+2c_1+3d_1 = b_2$,\n",
    " * $2c_2 +6d_2=0$\n",
    " * $2c_1+6d_1-2c_2=0$,\n",
    "\n",
    "\n",
    "\n",
    "\n",
    "La matriz y el segundo miembro asociados son:"
   ]
  },
  {
   "cell_type": "code",
   "execution_count": null,
   "metadata": {
    "id": "nKkYZMLDixxE"
   },
   "outputs": [],
   "source": [
    "C = np.array([\n",
    "    [ 1, 1,   0,  0, 0, 0, 0 , 0],\n",
    "    [ 0, 0,   1,  1, 1, 0, 0, 0],\n",
    "    [ 0, 0,   0,  0, 0, 1, 1, 1],\n",
    "    [ 1, 3,  -1,  0, 0, 0, 0, 0],\n",
    "    [ 0, 6,   0, -2, 0, 0, 0, 0],\n",
    "    [ 0, 0,   1,  2, 3, -1, 0, 0],\n",
    "    [ 0, 0,   0,  2, 6, -2, 0, 0],\n",
    "    [ 0, 0,   0,  0, 0,  0, 2, 6]])\n",
    "d = np.array([-2, 0, 1, 0, 0, 0, 0, 0])"
   ]
  },
  {
   "cell_type": "code",
   "execution_count": null,
   "metadata": {
    "colab": {
     "base_uri": "https://localhost:8080/"
    },
    "id": "WwMP5DSdVCuD",
    "outputId": "564435b4-d48a-4041-8701-3a75ecb46980"
   },
   "outputs": [
    {
     "name": "stdout",
     "output_type": "stream",
     "text": [
      "[-2.40000000e+00  4.00000000e-01 -1.20000000e+00  1.20000000e+00\n",
      "  5.92118946e-17  1.20000000e+00 -3.00000000e-01  1.00000000e-01]\n"
     ]
    }
   ],
   "source": [
    "sol = solve(C,d)\n",
    "print(sol)"
   ]
  },
  {
   "cell_type": "markdown",
   "metadata": {
    "id": "1bjXd0wHR1z1"
   },
   "source": [
    "Ahora podemos resolver este sistema usando la función `solve()` (incluida en el modulo \"linalg\" del paquete *numpy*):"
   ]
  },
  {
   "cell_type": "code",
   "execution_count": null,
   "metadata": {
    "colab": {
     "base_uri": "https://localhost:8080/"
    },
    "id": "hyTFL2PhlRwq",
    "outputId": "908917b8-48b4-487e-e05e-82e8a7065d46"
   },
   "outputs": [
    {
     "name": "stdout",
     "output_type": "stream",
     "text": [
      "a0, b0, c0, d0 = 5.000000, -2.400000, 0.000000, 0.400000\n",
      "a1, b1, c1, d1 = 3.000000, -1.200000, 1.200000, 0.000000\n",
      "a2, b2, c2, d2 = 3.000000, 1.200000, -0.300000, 0.100000\n"
     ]
    }
   ],
   "source": [
    "sol = solve(C,d)\n",
    "\n",
    "# Definimos la solución como variables b0, d0, b1, c1 y d1\n",
    "b0, d0, b1, c1, d1, b2, c2, d2 = sol\n",
    "\n",
    "# Y mostramos los resultados\n",
    "print (\"a0, b0, c0, d0 = %f, %f, %f, %f\" % (a0, b0, c0, d0))\n",
    "print (\"a1, b1, c1, d1 = %f, %f, %f, %f\" % (a1, b1, c1, d1))\n",
    "print (\"a2, b2, c2, d2 = %f, %f, %f, %f\" % (a2, b2, c2, d2))"
   ]
  },
  {
   "cell_type": "markdown",
   "metadata": {
    "id": "SP51eFLgR1z_"
   },
   "source": [
    "Para dibujar la gráfica, lo más fácil es definir los polinomios $s_0$ y $s_1$ y representarlos gráficamente."
   ]
  },
  {
   "cell_type": "code",
   "execution_count": null,
   "metadata": {
    "colab": {
     "base_uri": "https://localhost:8080/",
     "height": 472
    },
    "id": "iZCSh6rkR10A",
    "outputId": "42662f9a-a2ca-4728-f849-a28e5790c70d"
   },
   "outputs": [
    {
     "data": {
      "image/png": "[encoded data removed]",
      "text/plain": [
       "<Figure size 640x480 with 1 Axes>"
      ]
     },
     "metadata": {},
     "output_type": "display_data"
    }
   ],
   "source": [
    "def s0(x):\n",
    "    return a0 + b0*(x+1) + c0*(x+1)**2 + d0*(x+1)**3\n",
    "def s1(x):\n",
    "    return a1 + b1*x + c1*x**2 + d1*x**3\n",
    "def s2(x):\n",
    "    return a2 + b2*(x-1) + c2*(x-1)**2 + d2*(x-1)**3\n",
    "\n",
    "xx0 = np.linspace(-1,0)\n",
    "xx1 = np.linspace(0,1)\n",
    "xx2 = np.linspace(1,2)\n",
    "\n",
    "plt.figure()\n",
    "plt.title('Interpolacion de puntos con spline cubico')\n",
    "plt.plot(xx0, s0(xx0), lw=3, label = \"S0\",color='mediumpurple')\n",
    "plt.plot(xx1, s1(xx1), lw=3, label = \"S1\",color='skyblue')\n",
    "plt.plot(xx2, s2(xx2), lw=3, label = \"S2\",color='palevioletred')\n",
    "plt.plot(_x, _y, 'o')\n",
    "plt.axvline(color = \"k\", ls=\"-.\")\n",
    "plt.ylabel(\"f(x)\")\n",
    "plt.xlabel(\"x\")\n",
    "\n",
    "plt.legend(loc = \"upper right\")\n",
    "plt.grid()\n",
    "plt.show()"
   ]
  },
  {
   "cell_type": "code",
   "execution_count": null,
   "metadata": {
    "id": "0QETgs_HoD4N"
   },
   "outputs": [],
   "source": []
  }
 ],
 "metadata": {
  "colab": {
   "provenance": []
  },
  "kernelspec": {
   "display_name": "Python 3 (ipykernel)",
   "language": "python",
   "name": "python3"
  },
  "language_info": {
   "codemirror_mode": {
    "name": "ipython",
    "version": 3
   },
   "file_extension": ".py",
   "mimetype": "text/x-python",
   "name": "python",
   "nbconvert_exporter": "python",
   "pygments_lexer": "ipython3",
   "version": "3.10.9"
  }
 },
 "nbformat": 4,
 "nbformat_minor": 1
}
