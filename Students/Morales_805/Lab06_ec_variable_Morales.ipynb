{
  "cells": [
    {
      "cell_type": "markdown",
      "id": "39502ab7",
      "metadata": {
        "id": "39502ab7"
      },
      "source": [
        "<a href=\"https://colab.research.google.com/github/hernansalinas/autogrades/blob/main/Laboratorios_Taller/Lab06_ec_variable.ipynb\" target=\"_parent\"><img src=\"https://colab.research.google.com/assets/colab-badge.svg\" alt=\"Open In Colab\"/></a>"
      ]
    },
    {
      "cell_type": "markdown",
      "id": "7efe0541",
      "metadata": {
        "id": "7efe0541"
      },
      "source": [
        "## Ecuaciones de una variable:\n",
        "\n",
        "Para los siguiente problemas:\n",
        "\n",
        "\n",
        "1.0 ¿Para que ángulo el area del segmento circular es igual a un cuarto del area de la circunferencia?\n",
        "\n",
        "- Muestre que la expresión que permite resolver el problema:\n",
        "\n",
        "\n",
        "\\begin{equation}\n",
        "\\theta - \\sin \\theta = \\frac{\\pi}{2}\n",
        "\\end{equation}\n",
        "\n",
        "\n",
        "- ¿Construya una grafica para theta?,  Alrededor de que punto esta solución.(Para este punto se recomienda emplear un data frame de pandas )\n",
        "\n",
        "- Emplee el metodo de biseccion, punto fijo,  newton y secante  para comprobar la solución intuida del apartado anterior.\n",
        "\n",
        "\n",
        "2.0 An object falling vertically through the air is subjected to viscous resistance as well as to the force\n",
        "of gravity. Assume that an object with mass m is dropped from a height s0 and that the height of the\n",
        "object after t seconds is\n",
        "\n",
        "\\begin{equation}\n",
        "s(t)=s_0 - \\frac{mg}{k}t+\\frac{m^2g}{k}t(1-e^{-kt/m})\n",
        "\\end{equation}\n",
        "\n",
        "where $g = 32.17 ft/s2$ and $k$ represents the coefficient of air resistance in $lbs/ft$. Suppose $s0 = 300 ft$,\n",
        "$m = 0.25$ lb, and $k = 0.1$ lbs/ft. Find, to within $0.01$ s, the time it takes this quarter-pounder to hit the\n",
        "ground\n",
        "\n",
        "- Emplee el metodo de biseccion, punto fijo,  newton y secante  para comprobrar la solución.\n",
        "\n",
        "\n",
        "\n",
        "3.0 En la teoria de campo medio, La magnetización como función de la temperatura de un material magnético  puede ser calculada como:\n",
        "\n",
        "\\begin{equation}\n",
        "m(T) = \\tanh\\left( \\frac{m(T)}{T} \\right)\n",
        "\\end{equation}\n",
        "\n",
        "donde m y T son la magnetizacion y temperatura reducida respectivamente\n",
        "\n",
        "Para T = 0.5, determine:\n",
        "\n",
        "a. La magnetización reducida empleando el metodo de la secante(Muestre su resultado con 4 cifras)\n",
        "\n",
        "b. Valide su respuestado con el metodo de punto fijo.\n",
        "(Muestre su resultado con 4 cifras)\n",
        "\n",
        "d. Defina T = np.linspace(0.1,0.99,100), y emple el metodo de la secante para construir un gráfico de magnetización reducida como función de la temperatura para los  100 valores  de T.\n",
        "\n",
        "\n",
        "\n",
        "5. Construir un fractal empleando el metodo de Newton-Raphson,\n",
        "(Reproducir código y entender)\n",
        "\\begin{equation}\n",
        "z_{n+1} = z_n -a \\frac{f(z)}{f'(z)}\n",
        "\\end{equation}\n",
        "\n",
        "\n",
        "\n",
        "\\begin{equation}\n",
        "f'(z) = \\frac{ f(z+h)+f(z) }{h}\n",
        "\\end{equation}\n",
        "\n",
        "\n",
        "Replicar el codigo y entender.\n",
        "\n",
        "\n",
        "```\n",
        "\n",
        "import numpy as np\n",
        "import matplotlib.pylab as plt\n",
        "from PIL import Image\n",
        "\n",
        "Npx_X = 80 #Numero de pixeles en x\n",
        "Npx_Y = 80 #Numero de pixeles en y\n",
        "\n",
        "image = Image.new(\"RGB\", (Npx_X, Npx_Y)) #Creacion de la imagen inicial\n",
        "\n",
        "npx = np.arange(0, Npx_X)\n",
        "npy = np.arange(0, Npx_Y)\n",
        "\n",
        "xmin = -1\n",
        "xmax = 1\n",
        "ymin = -1\n",
        "ymax = 1\n",
        "#Transformación al plano complejo en un rectangulo (xmin, xmax), (ymin, ymax)\n",
        "zx = npx * (xmax - xmin) / (Npx_X - 1)   + xmin\n",
        "zy = npy * (ymax-ymin) / (Npx_Y - 1) + ymin\n",
        "\n",
        "#Definicion  la funcion y las derivada\n",
        "def f(z):\n",
        "  return z**3 - 1\n",
        "\n",
        "def fp(z):\n",
        "  return 3*z**2\n",
        "\n",
        "h = 1E-4\n",
        "def fpn(z, h):\n",
        "  return (f(z+h)-f(z))/h\n",
        "  \n",
        "\n",
        "a = 0.2\n",
        "Niteraciones = 120\n",
        "eps = 1E-8\n",
        "\n",
        "x = - 1\n",
        "for zx_ in zx:\n",
        "  x = x + 1\n",
        "  y = -1\n",
        "  for zy_ in zy:\n",
        "      y = y + 1\n",
        "      Z_0 = complex(zx_, zy_)\n",
        "    \n",
        "      for i in range(0, Niteraciones):\n",
        "        Z = Z_0 - a * f(Z_0)/fp(Z_0)\n",
        "\n",
        "        if( abs(Z-Z_0)<= eps):\n",
        "          break\n",
        "          \n",
        "        Z_0 = Z\n",
        "      #print(i)\n",
        "      #print(i)\n",
        "      r, g, b = i % 4 *64 , i % 8 *16, i% 16* 16\n",
        "      \n",
        "      image.putpixel((x,y), (r,g,b) )\n",
        "\n",
        "\n",
        "plt.imshow(image)\n",
        "#plt.xlim(400, 600)\n",
        "#plt.ylim(400, 523)\n",
        "```\n"
      ]
    },
    {
      "cell_type": "code",
      "source": [
        "#Librerias\n",
        "import numpy as np\n",
        "import matplotlib.pylab as plt\n",
        "from scipy import optimize\n",
        "import pandas as pd"
      ],
      "metadata": {
        "id": "qJNpaZG-gPpN"
      },
      "id": "qJNpaZG-gPpN",
      "execution_count": 1,
      "outputs": []
    },
    {
      "cell_type": "markdown",
      "source": [
        "***Punto 1***"
      ],
      "metadata": {
        "id": "e7fmV-nivnjK"
      },
      "id": "e7fmV-nivnjK"
    },
    {
      "cell_type": "code",
      "source": [
        "th = lambda x: x - np.sin(x) - np.pi/2\n",
        "x = np.arange(0,2*np.pi,0.01)\n",
        "y = th(x)"
      ],
      "metadata": {
        "id": "UgCEQJO8fXwp"
      },
      "id": "UgCEQJO8fXwp",
      "execution_count": null,
      "outputs": []
    },
    {
      "cell_type": "code",
      "source": [
        "d = {'Theta':x,'Funcion':y}\n",
        "df = pd.DataFrame(d)\n",
        "df"
      ],
      "metadata": {
        "id": "fjKwxh33gNID"
      },
      "id": "fjKwxh33gNID",
      "execution_count": null,
      "outputs": []
    },
    {
      "cell_type": "code",
      "source": [
        "df.plot.line(x='Theta',y='Funcion',color='mediumpurple')\n",
        "plt.grid(True)\n",
        "plt.show()"
      ],
      "metadata": {
        "id": "kxBgZEj-gn46",
        "colab": {
          "base_uri": "https://localhost:8080/",
          "height": 453
        },
        "outputId": "49c11a0f-f2f7-4a7f-ac69-15741081d23e"
      },
      "id": "kxBgZEj-gn46",
      "execution_count": null,
      "outputs": [
        {
          "output_type": "display_data",
          "data": {
            "text/plain": [
              "<Figure size 640x480 with 1 Axes>"
            ],
            "image/png": "[encoded data removed]"
          },
          "metadata": {}
        }
      ]
    },
    {
      "cell_type": "code",
      "source": [
        "filter = df[df.Funcion.between(-0.1,0.1)] #se escoje la columna del dataframe y un intervalo para hacer \"zoom\"\n",
        "filter.plot.line(x='Theta',y='Funcion',color='mediumpurple')\n",
        "plt.grid()\n",
        "plt.show()"
      ],
      "metadata": {
        "id": "Th4fxEWogxVK",
        "colab": {
          "base_uri": "https://localhost:8080/",
          "height": 449
        },
        "outputId": "e6e5c1fc-a5e0-4150-f290-cb2e0f43ef9d"
      },
      "id": "Th4fxEWogxVK",
      "execution_count": null,
      "outputs": [
        {
          "output_type": "display_data",
          "data": {
            "text/plain": [
              "<Figure size 640x480 with 1 Axes>"
            ],
            "image/png": "[encoded data removed]"
          },
          "metadata": {}
        }
      ]
    },
    {
      "cell_type": "code",
      "source": [
        "#metodo biseccion\n",
        "root = optimize.bisect(th,2.30,2.31) #funcion y dos escalares con dif signo\n",
        "root"
      ],
      "metadata": {
        "colab": {
          "base_uri": "https://localhost:8080/"
        },
        "id": "dHJRhlwxhrqQ",
        "outputId": "cc11fadf-8e95-4162-fa21-b0cc5ec07718"
      },
      "id": "dHJRhlwxhrqQ",
      "execution_count": null,
      "outputs": [
        {
          "output_type": "execute_result",
          "data": {
            "text/plain": [
              "2.3098814600089104"
            ]
          },
          "metadata": {},
          "execution_count": 48
        }
      ]
    },
    {
      "cell_type": "code",
      "source": [
        "#metodo newton\n",
        "dth = lambda x: 1 - np.cos(x)\n",
        "raiz = optimize.newton(th,2.30,dth) #funcion, escalay y derivada\n",
        "raiz"
      ],
      "metadata": {
        "colab": {
          "base_uri": "https://localhost:8080/"
        },
        "id": "CaevTvXgih1V",
        "outputId": "d40daf64-bd0b-4b79-eced-8f005dda6c09"
      },
      "id": "CaevTvXgih1V",
      "execution_count": null,
      "outputs": [
        {
          "output_type": "execute_result",
          "data": {
            "text/plain": [
              "2.309881460010057"
            ]
          },
          "metadata": {},
          "execution_count": 61
        }
      ]
    },
    {
      "cell_type": "code",
      "source": [
        "#punto fijo\n",
        "punto = lambda x: x-th(x) #punto menos la funcion evaluada en ese punto\n",
        "root_point = optimize.fixed_point(punto,2.30)\n",
        "root_point"
      ],
      "metadata": {
        "colab": {
          "base_uri": "https://localhost:8080/"
        },
        "id": "gYGMoY2-kwZw",
        "outputId": "a7097e12-2c9d-4926-8684-10d7f0c2c54e"
      },
      "id": "gYGMoY2-kwZw",
      "execution_count": null,
      "outputs": [
        {
          "output_type": "execute_result",
          "data": {
            "text/plain": [
              "array(2.30988146)"
            ]
          },
          "metadata": {},
          "execution_count": 23
        }
      ]
    },
    {
      "cell_type": "code",
      "source": [
        "#secante\n",
        "dth = lambda x: 1 - np.cos(x)\n",
        "raiz = optimize.newton(th,2.30) #igual que newton sin derivada.\n",
        "raiz"
      ],
      "metadata": {
        "colab": {
          "base_uri": "https://localhost:8080/"
        },
        "id": "bn1zStFul2Yx",
        "outputId": "e46d5f26-67c2-4892-9fa8-5b742cb13f70"
      },
      "id": "bn1zStFul2Yx",
      "execution_count": null,
      "outputs": [
        {
          "output_type": "execute_result",
          "data": {
            "text/plain": [
              "2.3098814600100575"
            ]
          },
          "metadata": {},
          "execution_count": 25
        }
      ]
    },
    {
      "cell_type": "markdown",
      "source": [
        "***Punto 2***"
      ],
      "metadata": {
        "id": "dMSHO2BBwMmq"
      },
      "id": "dMSHO2BBwMmq"
    },
    {
      "cell_type": "code",
      "source": [
        "#Caida de un objeto\n",
        "\n",
        "#Parametros\n",
        "s0 = 300 #ft\n",
        "m = 0.25 #lb\n",
        "k = 0.1 #lbs/ft\n",
        "g = 32.17 #ft/s²\n",
        "\n",
        "st = lambda x: s0 - (m*g/k)*x + ((m**2)*g/k)*x *(1-np.exp(-k*x/m))\n",
        "#x = tiempo\n",
        "x = np.arange(1,5,0.01)\n",
        "#y = altura\n",
        "y = st(x)"
      ],
      "metadata": {
        "id": "BMZTK_JymF-E"
      },
      "id": "BMZTK_JymF-E",
      "execution_count": null,
      "outputs": []
    },
    {
      "cell_type": "code",
      "source": [
        "t = {'Tiempo':x,'Funcion':y}\n",
        "dt = pd.DataFrame(t)\n",
        "dt"
      ],
      "metadata": {
        "id": "hlFJN57Csur_"
      },
      "id": "hlFJN57Csur_",
      "execution_count": null,
      "outputs": []
    },
    {
      "cell_type": "code",
      "source": [
        "dt.plot.line(x='Tiempo',y='Funcion',color='mediumpurple')\n",
        "plt.title('Altura de un objeto en caida en funcion del tiempo')\n",
        "plt.grid(True)\n",
        "plt.xlabel('Tiempo (s)')\n",
        "plt.ylabel('ALtura (m)')\n",
        "plt.show()"
      ],
      "metadata": {
        "colab": {
          "base_uri": "https://localhost:8080/",
          "height": 472
        },
        "id": "g2pX8eMTvWfx",
        "outputId": "f67112c3-7343-496d-baeb-2abdd8667eac"
      },
      "id": "g2pX8eMTvWfx",
      "execution_count": null,
      "outputs": [
        {
          "output_type": "display_data",
          "data": {
            "text/plain": [
              "<Figure size 640x480 with 1 Axes>"
            ],
            "image/png": "[encoded data removed]"
          },
          "metadata": {}
        }
      ]
    },
    {
      "cell_type": "code",
      "source": [
        "#metodo biseccion\n",
        "flor = optimize.bisect(st,2.5,10.0) #funcion y dos escalares con dif signo\n",
        "flor"
      ],
      "metadata": {
        "colab": {
          "base_uri": "https://localhost:8080/"
        },
        "id": "iiSQbzcauSeh",
        "outputId": "d6b27236-7b6c-44d7-d6a3-454524f2d691"
      },
      "id": "iiSQbzcauSeh",
      "execution_count": null,
      "outputs": [
        {
          "output_type": "execute_result",
          "data": {
            "text/plain": [
              "4.736139137605164"
            ]
          },
          "metadata": {},
          "execution_count": 52
        }
      ]
    },
    {
      "cell_type": "code",
      "source": [
        "#punto fijo\n",
        "point = lambda x: x-st(x) #punto menos la funcion evaluada en ese punto\n",
        "r_point = optimize.fixed_point(point,4.7)\n",
        "r_point"
      ],
      "metadata": {
        "colab": {
          "base_uri": "https://localhost:8080/"
        },
        "id": "Jc5I35TWwrYc",
        "outputId": "b9fe1665-8bee-4b9e-ecce-f133de353cc5"
      },
      "id": "Jc5I35TWwrYc",
      "execution_count": null,
      "outputs": [
        {
          "output_type": "execute_result",
          "data": {
            "text/plain": [
              "array(4.73613914)"
            ]
          },
          "metadata": {},
          "execution_count": 59
        }
      ]
    },
    {
      "cell_type": "code",
      "source": [
        "#metodo newton\n",
        "dst = lambda x: 1 - np.cos(x)\n",
        "raiz = optimize.newton(st,2.30,dst) #funcion, escalay y derivada\n",
        "raiz"
      ],
      "metadata": {
        "id": "3Y-65S7hwstp"
      },
      "id": "3Y-65S7hwstp",
      "execution_count": null,
      "outputs": []
    },
    {
      "cell_type": "code",
      "source": [
        "#metodo secante\n",
        "ds = lambda x: 1 - np.cos(x)\n",
        "raiz = optimize.newton(st,2.30) #igual que newton sin derivada.\n",
        "raiz"
      ],
      "metadata": {
        "colab": {
          "base_uri": "https://localhost:8080/"
        },
        "id": "12_o-nC-yi0y",
        "outputId": "873b8f31-e5c4-4168-a6c2-8867100364d7"
      },
      "id": "12_o-nC-yi0y",
      "execution_count": null,
      "outputs": [
        {
          "output_type": "execute_result",
          "data": {
            "text/plain": [
              "4.736139137603489"
            ]
          },
          "metadata": {},
          "execution_count": 65
        }
      ]
    },
    {
      "cell_type": "markdown",
      "source": [
        "***Punto 3***"
      ],
      "metadata": {
        "id": "X6QXbdeNyrD0"
      },
      "id": "X6QXbdeNyrD0"
    },
    {
      "cell_type": "code",
      "source": [
        "#Magnetizacion como funcion de la temperatura\n",
        "m = 0.1\n",
        "Temp = np.linspace(0.1,0.99,100)\n",
        "def magnet(T,m,epsilon,N):\n",
        "  m1 = m\n",
        "  for i in range(N):\n",
        "    m2 = np.tanh(m1/T)\n",
        "    if abs(m2-m1) < epsilon:\n",
        "      return m2\n",
        "    m1 = m2\n",
        "\n",
        "T = 0.5\n",
        "N = 100\n",
        "epsilon = 1e-6\n",
        "#mT = lambda x: np.tanh((m)/x)\n",
        "magnet(T,m,epsilon,N)\n"
      ],
      "metadata": {
        "id": "8Rj5RKh5zQJK",
        "colab": {
          "base_uri": "https://localhost:8080/"
        },
        "outputId": "cf64f980-4a25-4167-dcda-2e77a8efd5e7"
      },
      "id": "8Rj5RKh5zQJK",
      "execution_count": 11,
      "outputs": [
        {
          "output_type": "execute_result",
          "data": {
            "text/plain": [
              "0.9575039460401423"
            ]
          },
          "metadata": {},
          "execution_count": 11
        }
      ]
    },
    {
      "cell_type": "code",
      "source": [
        "#Magnetizacion como funcion de la temperatura\n",
        "m = 0.1\n",
        "Temp = np.linspace(0.1,0.99,100)\n",
        "def magnet(T,m):\n",
        "  return np.tanh((m)/T)"
      ],
      "metadata": {
        "id": "Ipl7JgK0Vpza"
      },
      "execution_count": 7,
      "outputs": [],
      "id": "Ipl7JgK0Vpza"
    },
    {
      "cell_type": "code",
      "source": [
        "Temp = np.linspace(0.1,0.99,100)\n",
        "mt= magnet(Temp,m)\n",
        "mt"
      ],
      "metadata": {
        "colab": {
          "base_uri": "https://localhost:8080/"
        },
        "id": "bqQlq70v9U0A",
        "outputId": "ea6faa37-81e0-4e09-90f8-50786edbec20"
      },
      "id": "bqQlq70v9U0A",
      "execution_count": 8,
      "outputs": [
        {
          "output_type": "execute_result",
          "data": {
            "text/plain": [
              "array([0.76159416, 0.72472029, 0.68981501, 0.65704132, 0.62642634,\n",
              "       0.59791484, 0.57140487, 0.54677067, 0.52387716, 0.50258877,\n",
              "       0.48277456, 0.4643111 , 0.44708378, 0.43098726, 0.41592539,\n",
              "       0.40181075, 0.38856413, 0.3761138 , 0.36439492, 0.35334882,\n",
              "       0.34292247, 0.33306782, 0.32374137, 0.31490364, 0.30651879,\n",
              "       0.2985542 , 0.2909802 , 0.28376972, 0.27689801, 0.27034248,\n",
              "       0.2640824 , 0.25809878, 0.25237415, 0.24689247, 0.24163893,\n",
              "       0.2365999 , 0.23176278, 0.22711589, 0.22264846, 0.21835047,\n",
              "       0.21421261, 0.21022627, 0.20638338, 0.20267647, 0.19909855,\n",
              "       0.1956431 , 0.19230401, 0.18907559, 0.18595249, 0.1829297 ,\n",
              "       0.18000252, 0.17716654, 0.17441761, 0.17175182, 0.1691655 ,\n",
              "       0.16665518, 0.16421758, 0.16184963, 0.15954841, 0.15731116,\n",
              "       0.15513527, 0.15301828, 0.15095784, 0.14895173, 0.14699786,\n",
              "       0.14509421, 0.1432389 , 0.14143012, 0.13966614, 0.13794535,\n",
              "       0.13626617, 0.13462714, 0.13302683, 0.13146389, 0.12993705,\n",
              "       0.12844507, 0.12698678, 0.12556105, 0.12416681, 0.12280305,\n",
              "       0.12146876, 0.12016302, 0.11888492, 0.11763359, 0.11640821,\n",
              "       0.11520799, 0.11403215, 0.11287997, 0.11175074, 0.11064379,\n",
              "       0.10955847, 0.10849415, 0.10745023, 0.10642612, 0.10542129,\n",
              "       0.10443518, 0.10346728, 0.1025171 , 0.10158414, 0.10066796])"
            ]
          },
          "metadata": {},
          "execution_count": 8
        }
      ]
    },
    {
      "cell_type": "code",
      "source": [
        "#metodo secante\n",
        "#ma = optimize.newton(mT,0.5) #igual que newton sin derivada."
      ],
      "metadata": {
        "id": "5u9xLhIOzkPe"
      },
      "id": "5u9xLhIOzkPe",
      "execution_count": null,
      "outputs": []
    }
  ],
  "metadata": {
    "kernelspec": {
      "display_name": "Python 3 (ipykernel)",
      "language": "python",
      "name": "python3"
    },
    "language_info": {
      "codemirror_mode": {
        "name": "ipython",
        "version": 3
      },
      "file_extension": ".py",
      "mimetype": "text/x-python",
      "name": "python",
      "nbconvert_exporter": "python",
      "pygments_lexer": "ipython3",
      "version": "3.10.9"
    },
    "colab": {
      "provenance": []
    }
  },
  "nbformat": 4,
  "nbformat_minor": 5
}