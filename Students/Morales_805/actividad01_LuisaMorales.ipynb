{
  "nbformat": 4,
  "nbformat_minor": 0,
  "metadata": {
    "colab": {
      "provenance": []
    },
    "kernelspec": {
      "name": "python3",
      "display_name": "Python 3"
    },
    "language_info": {
      "name": "python"
    }
  },
  "cells": [
    {
      "cell_type": "markdown",
      "source": [
        "# **Actividad 01**\n",
        "\n",
        "Luisa María Morales Sánchez\n",
        "\n",
        "Universidad de Antioquia\n",
        "\n",
        "Metodos Computacionales"
      ],
      "metadata": {
        "id": "iva36Gyjud27"
      }
    },
    {
      "cell_type": "markdown",
      "source": [
        "1. Escribir un programa que pida al usuario dos números enteros , y muestre por pantalla el cociente y el residuo entre y .\n",
        "\n"
      ],
      "metadata": {
        "id": "u-IZ7xMSuV4k"
      }
    },
    {
      "cell_type": "code",
      "source": [
        "%%writefile actividad_01_enteros.py\n",
        "a = int(input(\"ingrese un numero: \"))\n",
        "b = int(input(\"ingrese un numero: \"))\n",
        "\n",
        "z = a/b\n",
        "d = a%b\n",
        "\n",
        "print(f\"El valor de la division: {z}\")\n",
        "print(f\"El valor del residuo es: {d}\")"
      ],
      "metadata": {
        "colab": {
          "base_uri": "https://localhost:8080/"
        },
        "id": "73Sz81g0Oyl6",
        "outputId": "85ea5823-cc03-4bb4-ceff-75bec3016295"
      },
      "execution_count": 5,
      "outputs": [
        {
          "output_type": "stream",
          "name": "stdout",
          "text": [
            "Writing actividad_01_enteros.py\n"
          ]
        }
      ]
    },
    {
      "cell_type": "markdown",
      "source": [
        "2. Crea una función llamada doble_factorial que reciba un parámetro llamado n. La función debe devolver el doble factorial de n, que se define como el producto de todos los números naturales desde n hasta 1 que tienen el mismo paridad que n. Por ejemplo, si n es 5, la función debe devolver 15, que es el resultado de 5 x 3 x 1. Llama a la función doble_factorial con diferentes valores para el parámetro n, como 6, 7 o 8."
      ],
      "metadata": {
        "id": "BmxbClvfuysi"
      }
    },
    {
      "cell_type": "code",
      "execution_count": 6,
      "metadata": {
        "colab": {
          "base_uri": "https://localhost:8080/"
        },
        "id": "MJipziTMJpik",
        "outputId": "fa31e698-cbb3-48d9-b461-54f9c3ec002a"
      },
      "outputs": [
        {
          "output_type": "stream",
          "name": "stdout",
          "text": [
            "Writing actividad_01_doblefactorial.py\n"
          ]
        }
      ],
      "source": [
        "%%writefile actividad_01_doblefactorial.py\n",
        "def doble_factorial(n):\n",
        "    fact = n\n",
        "    while(n>2):\n",
        "        n = n-2\n",
        "        fact = fact*n\n",
        "\n",
        "    return s\n",
        "\n",
        "n = int(input())\n",
        "doble_factorial(n)"
      ]
    },
    {
      "cell_type": "markdown",
      "source": [
        "3. Crea una función llamada lucas que reciba un parámetro llamado n. La función debe devolver el n-ésimo término de la sucesión de Lucas, que se define de forma similar a la sucesión de Fibonacci, pero con los dos primeros términos iguales a 2 y 1. Por ejemplo, si n es 3, la función debe devolver 4, que es el tercer término de la sucesión. Llama a la función lucas con diferentes valores para el parámetro n, como 9, 10 o 11."
      ],
      "metadata": {
        "id": "BT91DWiZu6zj"
      }
    },
    {
      "cell_type": "code",
      "source": [
        "%%writefile actividad_01_lucas.py\n",
        "def lucas(n):\n",
        "  if n == 0:\n",
        "    return 2\n",
        "  elif n == 1:\n",
        "    return 1\n",
        "  else:\n",
        "      return lucas(n-1) + lucas(n-2)\n",
        "\n",
        "n= 8\n",
        "for i in range(n+1):\n",
        "  sequence = lucas(i)\n",
        "  print(sequence)"
      ],
      "metadata": {
        "id": "Z39glHXSOF4S",
        "colab": {
          "base_uri": "https://localhost:8080/"
        },
        "outputId": "9ea3fa61-7e18-40b6-bc53-5270a04cb762"
      },
      "execution_count": 7,
      "outputs": [
        {
          "output_type": "stream",
          "name": "stdout",
          "text": [
            "Writing actividad_01_lucas.py\n"
          ]
        }
      ]
    },
    {
      "cell_type": "markdown",
      "source": [
        "4. Crea una función llamada binomial que reciba dos parámetros llamados n y k. La función debe devolver el coeficiente binomial de n y k, que se define como el número de formas de elegir k elementos distintos de un conjunto de n elementos. Por ejemplo, si n es 5 y k es 3, la función debe devolver 10, ya que hay diez formas de elegir tres elementos distintos de un conjunto de cinco elementos. Llama a la función binomial con diferentes valores para los parámetros n y k, como 6 y 4, o 7 y 2."
      ],
      "metadata": {
        "id": "lkZGg7oxvF6C"
      }
    },
    {
      "cell_type": "code",
      "source": [
        "%%writefile actividad_01_binomial.py\n",
        "\n",
        "def binomial(n,k):\n",
        "  if k == 0 or k == n:\n",
        "    return 1\n",
        "  else:\n",
        "    return binomial(n-1, k) + binomial(n-1, k-1)\n",
        "    #binomial(n-1, k): El numero de maneras de escoger k elementos para un set de n-1 elementos (en el caso de (6,4) hay 4 maneras)\n",
        "    #binomial(n-1, k-1): El numero de maneras de escoger k-1 elementos para un set de n-1 elementos (en el caso de (6,4) hay 11 maneras)\n",
        "\n",
        "binomial(7, 2)"
      ],
      "metadata": {
        "id": "VxJJHAvpOlX6",
        "colab": {
          "base_uri": "https://localhost:8080/"
        },
        "outputId": "fcfc6f55-b360-4f00-e3ac-70cae4cfee26"
      },
      "execution_count": 8,
      "outputs": [
        {
          "output_type": "stream",
          "name": "stdout",
          "text": [
            "Writing actividad_01_binomial.py\n"
          ]
        }
      ]
    }
  ]
}