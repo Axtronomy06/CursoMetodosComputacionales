{
 "cells": [
  {
   "cell_type": "markdown",
   "metadata": {
    "id": "dvxqaVLk0be_"
   },
   "source": [
    "***Luisa María Morales Sánchez***"
   ]
  },
  {
   "cell_type": "code",
   "execution_count": 30,
   "metadata": {
    "id": "iJsmScMdtgYe"
   },
   "outputs": [],
   "source": [
    "import numpy as np\n",
    "import torch\n",
    "import sympy as sp\n",
    "import matplotlib.pylab as plt"
   ]
  },
  {
   "cell_type": "markdown",
   "metadata": {
    "id": "F2BmxAU22k-G"
   },
   "source": [
    "# Autovalores, autovectores, diagonalización\n",
    "\n",
    "Una matriz es diagonalizable cuando es semejante a una matriz diagonal. Esto significa que mediante un cambio de base, podemos reducir la matriz original a una forma diagonal. Para que una matriz sea diagonalizable, debe cumplir las siguientes condiciones:\n",
    "\n",
    "**Autovectores linealmente independientes**: Una matriz $(A \\in \\mathbb{R}^{n \\times n})$ es diagonalizable si y solo si tiene (n) autovectores linealmente independientes. Esto significa que los autovectores asociados a los autovalores deben ser linealmente independientes.\n",
    "\n",
    "**Semejanza**: Existe una matriz invertible (P) tal que ($P^{-1}AP = D$), donde (D) es una matriz diagonal formada por los autovalores de (A).\n",
    "\n",
    "La diagonalización es un proceso que transforma una matriz cuadrada ( A ) en una matriz diagonal ( D ) mediante una matriz invertible ( P ), tal que:\n",
    "\n",
    "$P^{-1}AP = D$\n",
    "\n",
    "La matriz diagonal ( D ) contiene los autovalores de ( A ) en la diagonal principal, y las columnas de ( P ) son los autovectores correspondientes a esos autovalores."
   ]
  },
  {
   "cell_type": "markdown",
   "metadata": {
    "id": "ZEt4N4lT2taJ"
   },
   "source": [
    "## Numpy"
   ]
  },
  {
   "cell_type": "code",
   "execution_count": null,
   "metadata": {
    "colab": {
     "base_uri": "https://localhost:8080/"
    },
    "id": "hcGonjho2Xi0",
    "outputId": "bbca9fe8-1eee-4a45-c274-440e81295c88"
   },
   "outputs": [
    {
     "name": "stdout",
     "output_type": "stream",
     "text": [
      "Autovalores: [6.16424794 1.60861762 3.22713444]\n",
      "Autovectores:\n",
      " [[-0.6611152   0.56181831 -0.49727948]\n",
      " [-0.7154086  -0.6717612   0.19216509]\n",
      " [-0.2260912   0.48280128  0.84604119]]\n"
     ]
    }
   ],
   "source": [
    "# Definir una matriz 3x3\n",
    "A = np.array([[4, 2, 0],\n",
    "              [2, 4, 1],\n",
    "              [0, 1, 3]])\n",
    "\n",
    "# Calcular autovalores y autovectores\n",
    "autovalores, autovectores = np.linalg.eig(A)\n",
    "U = autovectores.copy()\n",
    "print(\"Autovalores:\", autovalores)\n",
    "print(\"Autovectores:\\n\", autovectores)"
   ]
  },
  {
   "cell_type": "code",
   "execution_count": null,
   "metadata": {
    "colab": {
     "base_uri": "https://localhost:8080/",
     "height": 447
    },
    "id": "PAkWzzfXRVGC",
    "outputId": "c8fbf9ba-6102-4549-a43b-c189d76b3222"
   },
   "outputs": [
    {
     "data": {
      "text/plain": [
       "[<matplotlib.lines.Line2D at 0x7a317f64ce50>]"
      ]
     },
     "execution_count": 6,
     "metadata": {},
     "output_type": "execute_result"
    },
    {
     "data": {
      "image/png": "[encoded data removed]",
      "text/plain": [
       "<Figure size 640x480 with 1 Axes>"
      ]
     },
     "metadata": {},
     "output_type": "display_data"
    }
   ],
   "source": [
    "from scipy import optimize\n",
    "pol = lambda x: -x**3 +11*x**2 -35*x+32\n",
    "x = np.linspace(-10,10,10)\n",
    "plt.plot(x,pol(x))"
   ]
  },
  {
   "cell_type": "code",
   "execution_count": null,
   "metadata": {
    "id": "1ZcqQtYRNRr9"
   },
   "outputs": [],
   "source": [
    "#determinante"
   ]
  },
  {
   "cell_type": "markdown",
   "metadata": {
    "id": "ioIEzfR52jVo"
   },
   "source": [
    "### Matriz Diagonal"
   ]
  },
  {
   "cell_type": "code",
   "execution_count": null,
   "metadata": {
    "colab": {
     "base_uri": "https://localhost:8080/"
    },
    "id": "qDM4idFV3R-e",
    "outputId": "4b4e032d-ab5a-413d-92c7-73215351dbf4"
   },
   "outputs": [
    {
     "data": {
      "text/plain": [
       "array([[ 6.164248,  0.      , -0.      ],\n",
       "       [-0.      ,  1.608618, -0.      ],\n",
       "       [ 0.      , -0.      ,  3.227134]])"
      ]
     },
     "execution_count": 4,
     "metadata": {},
     "output_type": "execute_result"
    }
   ],
   "source": [
    "D = np.linalg.inv(U)@A@U\n",
    "np.set_printoptions(suppress=True, precision=6)\n",
    "D"
   ]
  },
  {
   "cell_type": "code",
   "execution_count": null,
   "metadata": {
    "id": "rU-w2AWm3r_H"
   },
   "outputs": [],
   "source": [
    "np.set_printoptions(suppress=True, precision=6)\n"
   ]
  },
  {
   "cell_type": "markdown",
   "metadata": {
    "id": "N-oGaJUS4p10"
   },
   "source": [
    "## Actividad:\n",
    "\n",
    "Construir un programa que permita elevar una matriz a una potencia.\n",
    "\n",
    "\n",
    "La exponencial de una matriz ( $e^A$) se define como la serie de Taylor de la función exponencial evaluada en la matriz ( A ):\n",
    "\n",
    "\n",
    "\\begin{equation}\n",
    "e^A = I + A + \\frac{1}{2!}A^2 + \\frac{1}{3!}A^3 + \\cdots = \\sum_{n=0}^{\\infty} \\frac{1}{n!}A^n\n",
    "\\end{equation}\n",
    "\n",
    "\n",
    "Donde ( $e^D$ ) es simplemente la matriz exponencial de la matriz diagonal ( D ), que es fácil de calcular porque solo implica elevar los autovalores de (A) a la potencia de (e):\n",
    "\n",
    "\n",
    "\n",
    "\\begin{equation}\n",
    "e^A = Pe^DP^{-1}\n",
    "\\end{equation}\n",
    "\n",
    "\n",
    "Exponencial de una matriz diagonal\n",
    "\n",
    "\\begin{equation}\n",
    "e^D = \\begin{bmatrix}\n",
    "e^{\\lambda_1} & 0 & \\cdots & 0 \\\\\n",
    "0 & e^{\\lambda_2} & \\cdots & 0 \\\\\n",
    "\\vdots & \\vdots & \\ddots & \\vdots \\\\\n",
    "0 & 0 & \\cdots & e^{\\lambda_n}\n",
    "\\end{bmatrix}\n",
    "\\end{equation}\n",
    "\n",
    "\n"
   ]
  },
  {
   "cell_type": "markdown",
   "metadata": {
    "id": "JmmxMqieABY-"
   },
   "source": [
    "# Autovalores y autovectores complejos"
   ]
  },
  {
   "cell_type": "code",
   "execution_count": null,
   "metadata": {
    "colab": {
     "base_uri": "https://localhost:8080/"
    },
    "id": "3-NKfajD9kwp",
    "outputId": "7492a5ce-af44-4154-fa6f-8de033f85a4d"
   },
   "outputs": [
    {
     "name": "stdout",
     "output_type": "stream",
     "text": [
      "Autovalores: [0.707107+0.707107j 0.707107-0.707107j]\n",
      "Autovectores:\n",
      " [[0.707107+0.j       0.707107-0.j      ]\n",
      " [0.      +0.707107j 0.      -0.707107j]]\n"
     ]
    },
    {
     "data": {
      "text/plain": [
       "array([[0.707107+0.707107j, 0.      +0.j      ],\n",
       "       [0.      +0.j      , 0.707107-0.707107j]])"
      ]
     },
     "execution_count": 31,
     "metadata": {},
     "output_type": "execute_result"
    }
   ],
   "source": [
    "theta=-np.pi/4\n",
    "A = np.array([[np.cos(theta),-np.sin(theta)],[np.sin(theta), np.cos(theta)]])\n",
    "\n",
    "# Calcular autovalores y autovectores\n",
    "autovalores, autovectores = np.linalg.eig(A)\n",
    "U = autovectores.copy()\n",
    "print(\"Autovalores:\", autovalores)\n",
    "print(\"Autovectores:\\n\", autovectores)\n",
    "\n",
    "D = np.linalg.inv(U)@A@U\n",
    "np.set_printoptions(suppress=True, precision=6)\n",
    "D"
   ]
  },
  {
   "cell_type": "code",
   "execution_count": null,
   "metadata": {
    "colab": {
     "base_uri": "https://localhost:8080/"
    },
    "id": "pUIRWAJv9oVb",
    "outputId": "e5830539-4def-4bf5-dd82-3ae8ff4ea038"
   },
   "outputs": [
    {
     "data": {
      "text/plain": [
       "array([[1.068139+1.25593j, 1.      +0.j     ],\n",
       "       [1.      +0.j     , 1.068139-1.25593j]])"
      ]
     },
     "execution_count": 22,
     "metadata": {},
     "output_type": "execute_result"
    }
   ],
   "source": [
    "np.exp(D)"
   ]
  },
  {
   "cell_type": "markdown",
   "metadata": {
    "id": "bVBR8mx02xzR"
   },
   "source": [
    "### Sympy"
   ]
  },
  {
   "cell_type": "code",
   "execution_count": null,
   "metadata": {
    "colab": {
     "base_uri": "https://localhost:8080/"
    },
    "id": "5ZtjshtC2iBC",
    "outputId": "b2eddb03-7ef4-4d6a-db38-bcf1e857b08d"
   },
   "outputs": [
    {
     "name": "stdout",
     "output_type": "stream",
     "text": [
      "Autovalores simplificados: {11/3 + 16*2**(1/3)/(3*(61 + 3*sqrt(1407)*I)**(1/3)) + 2**(2/3)*(61 + 3*sqrt(1407)*I)**(1/3)/6: 1, (-128*2**(1/3) + (1 - sqrt(3)*I)*(44 + 2**(2/3)*(-1 + sqrt(3)*I)*(61 + 3*sqrt(1407)*I)**(1/3))*(61 + 3*sqrt(1407)*I)**(1/3))/(12*(1 - sqrt(3)*I)*(61 + 3*sqrt(1407)*I)**(1/3)): 1, (-128*2**(1/3) + (1 + sqrt(3)*I)*(44 - 2**(2/3)*(1 + sqrt(3)*I)*(61 + 3*sqrt(1407)*I)**(1/3))*(61 + 3*sqrt(1407)*I)**(1/3))/(12*(1 + sqrt(3)*I)*(61 + 3*sqrt(1407)*I)**(1/3)): 1}\n",
      "Autovectores simplificados:\n",
      " [((-128*2**(1/3) + (1 + sqrt(3)*I)*(44 - 2**(2/3)*(1 + sqrt(3)*I)*(61 + 3*sqrt(1407)*I)**(1/3))*(61 + 3*sqrt(1407)*I)**(1/3))/(12*(1 + sqrt(3)*I)*(61 + 3*sqrt(1407)*I)**(1/3)), 1, [Matrix([\n",
      "[(12*(-176 + 7*2**(2/3)*(1 + sqrt(3)*I)*(61 + 3*sqrt(1407)*I)**(1/3))*(1 + sqrt(3)*I)**2*(61 + 3*sqrt(1407)*I) + (61 + 3*sqrt(1407)*I)**(1/3)*(128*2**(1/3) + (-44 + 2**(2/3)*(1 + sqrt(3)*I)*(61 + 3*sqrt(1407)*I)**(1/3))*(1 + sqrt(3)*I)*(61 + 3*sqrt(1407)*I)**(1/3))**2 + 10752*2**(1/3)*(1 + sqrt(3)*I)*(61 + 3*sqrt(1407)*I)**(2/3))/(288*(1 + sqrt(3)*I)**2*(61 + 3*sqrt(1407)*I))],\n",
      "[                                                                                                                                                                                                             (-128*2**(1/3) + (1 + sqrt(3)*I)*(8 - 2**(2/3)*(1 + sqrt(3)*I)*(61 + 3*sqrt(1407)*I)**(1/3))*(61 + 3*sqrt(1407)*I)**(1/3))/(12*(1 + sqrt(3)*I)*(61 + 3*sqrt(1407)*I)**(1/3))],\n",
      "[                                                                                                                                                                                                                                                                                                                                                                                        1]])]), ((-128*2**(1/3) + (1 - sqrt(3)*I)*(44 + 2**(2/3)*(-1 + sqrt(3)*I)*(61 + 3*sqrt(1407)*I)**(1/3))*(61 + 3*sqrt(1407)*I)**(1/3))/(12*(1 - sqrt(3)*I)*(61 + 3*sqrt(1407)*I)**(1/3)), 1, [Matrix([\n",
      "[(10752*2**(1/3)*(1 - sqrt(3)*I)*(61 + 3*sqrt(1407)*I)**(2/3) + (61 + 3*sqrt(1407)*I)**(1/3)*(128*2**(1/3) + (-44 + 2**(2/3)*(1 - sqrt(3)*I)*(61 + 3*sqrt(1407)*I)**(1/3))*(1 - sqrt(3)*I)*(61 + 3*sqrt(1407)*I)**(1/3))**2 + 12*(-176 + 7*2**(2/3)*(1 - sqrt(3)*I)*(61 + 3*sqrt(1407)*I)**(1/3))*(1 - sqrt(3)*I)**2*(61 + 3*sqrt(1407)*I))/(288*(1 - sqrt(3)*I)**2*(61 + 3*sqrt(1407)*I))],\n",
      "[                                                                                                                                                                                                            (-128*2**(1/3) + (1 - sqrt(3)*I)*(8 + 2**(2/3)*(-1 + sqrt(3)*I)*(61 + 3*sqrt(1407)*I)**(1/3))*(61 + 3*sqrt(1407)*I)**(1/3))/(12*(1 - sqrt(3)*I)*(61 + 3*sqrt(1407)*I)**(1/3))],\n",
      "[                                                                                                                                                                                                                                                                                                                                                                                        1]])]), (11/3 + 16*2**(1/3)/(3*(61 + 3*sqrt(1407)*I)**(1/3)) + 2**(2/3)*(61 + 3*sqrt(1407)*I)**(1/3)/6, 1, [Matrix([\n",
      "[(42*sqrt(1407) - 191*2**(2/3)*I*(61 + 3*sqrt(1407)*I)**(1/3) - 854*I - 31*2**(1/3)*I*(61 + 3*sqrt(1407)*I)**(2/3) + sqrt(1407)*2**(2/3)*(61 + 3*sqrt(1407)*I)**(1/3) + sqrt(1407)*2**(1/3)*(61 + 3*sqrt(1407)*I)**(2/3))/(12*(3*sqrt(1407) - 61*I))],\n",
      "[                                                                                                                                                       2/3 + 16*2**(1/3)/(3*(61 + 3*sqrt(1407)*I)**(1/3)) + 2**(2/3)*(61 + 3*sqrt(1407)*I)**(1/3)/6],\n",
      "[                                                                                                                                                                                                                                                  1]])])]\n"
     ]
    }
   ],
   "source": [
    "from sympy import Matrix, simplify\n",
    "\n",
    "# Definir una matriz 3x3\n",
    "A = Matrix([[4, 2, 0],\n",
    "            [2, 4, 1],\n",
    "            [0, 1, 3]])\n",
    "\n",
    "# Calcular autovalores y autovectores\n",
    "autovalores = A.eigenvals()\n",
    "autovectores = A.eigenvects()\n",
    "\n",
    "# Simplificar autovalores y autovectores\n",
    "autovalores_simplificados = {simplify(l): m for l, m in autovalores.items()}\n",
    "autovectores_simplificados = [(simplify(l), m, [simplify(v) for v in vs]) for l, m, vs in autovectores]\n",
    "\n",
    "print(\"Autovalores simplificados:\", autovalores_simplificados)\n",
    "print(\"Autovectores simplificados:\\n\", autovectores_simplificados)\n"
   ]
  },
  {
   "cell_type": "code",
   "execution_count": null,
   "metadata": {
    "colab": {
     "base_uri": "https://localhost:8080/"
    },
    "id": "zGEs4pr2A5JR",
    "outputId": "47bf8fcb-8ad8-4b82-88c1-20ef9be35158"
   },
   "outputs": [
    {
     "data": {
      "text/plain": [
       "dict_keys([11/3 + 16*2**(1/3)/(3*(61 + 3*sqrt(1407)*I)**(1/3)) + 2**(2/3)*(61 + 3*sqrt(1407)*I)**(1/3)/6, (-128*2**(1/3) + (1 - sqrt(3)*I)*(44 + 2**(2/3)*(-1 + sqrt(3)*I)*(61 + 3*sqrt(1407)*I)**(1/3))*(61 + 3*sqrt(1407)*I)**(1/3))/(12*(1 - sqrt(3)*I)*(61 + 3*sqrt(1407)*I)**(1/3)), (-128*2**(1/3) + (1 + sqrt(3)*I)*(44 - 2**(2/3)*(1 + sqrt(3)*I)*(61 + 3*sqrt(1407)*I)**(1/3))*(61 + 3*sqrt(1407)*I)**(1/3))/(12*(1 + sqrt(3)*I)*(61 + 3*sqrt(1407)*I)**(1/3))])"
      ]
     },
     "execution_count": 30,
     "metadata": {},
     "output_type": "execute_result"
    }
   ],
   "source": [
    "autovalores_simplificados"
   ]
  },
  {
   "cell_type": "markdown",
   "metadata": {
    "id": "kZWZu8BRwG2h"
   },
   "source": [
    "# Pytorch\n",
    "\n",
    "Definción de una matrix de tres formas:\n",
    "Hasta ahora sabemos definir matrices como objetos de numpy y objetos de sympy, en la actualidad, el rápido crecimiento de las unidades de procesamiento gráfico GPU,  permite definir otro tipo de objetos que pueden acelerar el computo computacional.\n",
    "\n",
    "\n",
    "- Como objeto de numpy\n",
    "- Como objeto de sympy\n",
    "- Como objeto de pytorch\n",
    "\n",
    "\n",
    "La velocidad de ejecución entre PyTorch y Numpy puede variar dependiendo del tamaño de los datos y si se está utilizando o no la aceleración por GPU. Para operaciones con matrices pequeñas y cálculos que no requieren de la paralelización de una GPU, Numpy puede ser más rápido porque opera directamente en la CPU y la memoria principal. Sin embargo, para matrices grandes y operaciones que pueden ser paralelizadas, PyTorch con soporte de GPU puede ser significativamente más rápido.\n",
    "\n",
    "Comparativa de comandos de ejecución entre pytorch, numpy  y sympy\n",
    "\n",
    "\n",
    "| Operación | PyTorch | Numpy | SymPy |\n",
    "|-----------|---------|-------|-------|\n",
    "| Creación de una matriz | `torch.tensor([[1, 2], [3, 4]])` | `np.array([[1, 2], [3, 4]])` | `Matrix([[1, 2], [3, 4]])` |\n",
    "| Transposición de una matriz | `torch.transpose(A, 0, 1)` | `A.T` o `np.transpose(A)` | `A.T` |\n",
    "| Multiplicación de matrices | `torch.matmul(A, B)` | `np.dot(A, B)` o `A @ B` | `A * B` |\n",
    "| Inversa de una matriz | `torch.inverse(A)` | `np.linalg.inv(A)` | `A**-1` |\n",
    "| Determinante de una matriz | `torch.det(A)` | `np.linalg.det(A)` | `A.det()` |\n",
    "| Autovalores y autovectores | `torch.eig(A, eigenvectors=True)` | `np.linalg.eig(A)` | `A.eigenvals()`, `A.eigenvects()` |\n",
    "\n"
   ]
  },
  {
   "cell_type": "markdown",
   "metadata": {
    "id": "0IZOos3VztQS"
   },
   "source": [
    "Ejemplo básico del comparativo de un problema de algebra lineal, rotación de un vector:"
   ]
  },
  {
   "cell_type": "code",
   "execution_count": 3,
   "metadata": {
    "id": "Ve2Qic9ttIkE"
   },
   "outputs": [],
   "source": [
    "\n",
    "def matrixA(theta, tipo=\"numpy\"):\n",
    "  if(tipo==\"np\"):\n",
    "    return np.array([[np.cos(theta),-np.sin(theta)],[np.sin(theta), np.cos(theta)]])\n",
    "  elif(tipo==\"sp\"):\n",
    "    return np.array([[sp.cos(theta),-sp.sin(theta)],[sp.sin(theta), sp.cos(theta)]])\n",
    "\n",
    "  elif(tipo==\"pt\"):\n",
    "    return pt.tensor([[np.cos(theta),-np.sin(theta)],[np.sin(theta), np.cos(theta)]])\n",
    "\n",
    "  else:\n",
    "\n",
    "    print(\"Define el tipo de variable que desea\")\n"
   ]
  },
  {
   "cell_type": "code",
   "execution_count": 4,
   "metadata": {
    "colab": {
     "base_uri": "https://localhost:8080/",
     "height": 58
    },
    "id": "6pvCFzl7uDm3",
    "outputId": "4d664c3e-d67f-476f-9484-e5530ede6d31"
   },
   "outputs": [
    {
     "data": {
      "text/latex": [
       "$\\displaystyle \\left[\\begin{matrix}0.707106781186548 & -0.707106781186547\\\\0.707106781186547 & 0.707106781186548\\end{matrix}\\right]$"
      ],
      "text/plain": [
       "Matrix([\n",
       "[0.707106781186548, -0.707106781186547],\n",
       "[0.707106781186547,  0.707106781186548]])"
      ]
     },
     "execution_count": 4,
     "metadata": {},
     "output_type": "execute_result"
    }
   ],
   "source": [
    "x = sp.Symbol(\"x\")\n",
    "M = sp.Matrix(matrixA(np.pi/4, tipo=\"sp\"))\n",
    "M"
   ]
  },
  {
   "cell_type": "code",
   "execution_count": 5,
   "metadata": {
    "colab": {
     "base_uri": "https://localhost:8080/"
    },
    "id": "brk8Daew2EmP",
    "outputId": "84aca3f0-67fe-4769-e7b4-d06725989ce3"
   },
   "outputs": [
    {
     "data": {
      "text/plain": [
       "array([[ 0.70710678, -0.70710678],\n",
       "       [ 0.70710678,  0.70710678]])"
      ]
     },
     "execution_count": 5,
     "metadata": {},
     "output_type": "execute_result"
    }
   ],
   "source": [
    "x=np.pi/4\n",
    "M = matrixA(x, tipo=\"np\")\n",
    "M"
   ]
  },
  {
   "cell_type": "code",
   "execution_count": 6,
   "metadata": {
    "colab": {
     "base_uri": "https://localhost:8080/"
    },
    "id": "Z-6fzFXrvbgL",
    "outputId": "d3b2c80a-03d9-4073-80d2-098fe584dc02"
   },
   "outputs": [
    {
     "data": {
      "text/plain": [
       "array([[ 0.70710678, -0.70710678],\n",
       "       [ 0.70710678,  0.70710678]])"
      ]
     },
     "execution_count": 6,
     "metadata": {},
     "output_type": "execute_result"
    }
   ],
   "source": [
    "matrixA(x, tipo=\"pt\")\n",
    "M"
   ]
  },
  {
   "cell_type": "markdown",
   "metadata": {
    "id": "b-IQVSe3CAp6"
   },
   "source": [
    "***Actividad: Resolver el problema de la potencia de una matriz empleando pytorch, construir.***"
   ]
  },
  {
   "cell_type": "markdown",
   "metadata": {
    "id": "dd4YZLknzy9T"
   },
   "source": [
    "***Potencia de una matriz***\n",
    "\n",
    "$$ A^{n} = SD^{n}S^{-1}\n",
    "$$"
   ]
  },
  {
   "cell_type": "code",
   "execution_count": 34,
   "metadata": {
    "colab": {
     "base_uri": "https://localhost:8080/"
    },
    "id": "jiAATXj8CFsk",
    "outputId": "a39ed8ee-e285-4719-80b1-e56deac4d38c"
   },
   "outputs": [
    {
     "data": {
      "text/plain": [
       "tensor([[5.0000+0.j, 4.0000+0.j],\n",
       "        [4.0000+0.j, 5.0000+0.j]])"
      ]
     },
     "execution_count": 34,
     "metadata": {},
     "output_type": "execute_result"
    }
   ],
   "source": [
    "H = torch.tensor([[2.,1.],[1.,2.]])\n",
    "\n",
    "def M_power(H,p):\n",
    "  eigval, eigvec = torch.linalg.eig(H)\n",
    "  eigval_p = torch.diag(eigval**p)\n",
    "  H_p = torch.matmul(eigvec,torch.matmul(eigval_p, torch.inverse(eigvec)))\n",
    "  return H_p\n",
    "\n",
    "M_power(H,2)"
   ]
  }
 ],
 "metadata": {
  "colab": {
   "provenance": []
  },
  "kernelspec": {
   "display_name": "Python 3 (ipykernel)",
   "language": "python",
   "name": "python3"
  },
  "language_info": {
   "codemirror_mode": {
    "name": "ipython",
    "version": 3
   },
   "file_extension": ".py",
   "mimetype": "text/x-python",
   "name": "python",
   "nbconvert_exporter": "python",
   "pygments_lexer": "ipython3",
   "version": "3.10.9"
  }
 },
 "nbformat": 4,
 "nbformat_minor": 1
}
