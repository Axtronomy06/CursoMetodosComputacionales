{
  "cells": [
    {
      "cell_type": "markdown",
      "metadata": {
        "id": "Izb7IGXZ0Ex_"
      },
      "source": [
        "<a href=\"https://colab.research.google.com/github/hernansalinas/autogrades/blob/main/Laboratorios_Taller/Lab09_Matrices.ipynb\" target=\"_parent\"><img src=\"https://colab.research.google.com/assets/colab-badge.svg\" alt=\"Open In Colab\"/></a>"
      ]
    },
    {
      "cell_type": "markdown",
      "source": [
        "***Luisa María Morales Sánchez***"
      ],
      "metadata": {
        "id": "Wvao85fY8Cg7"
      }
    },
    {
      "cell_type": "markdown",
      "metadata": {
        "id": "SU1TpwPkcufT"
      },
      "source": [
        "# Laboratorio 09 Matrices\n",
        "\n",
        "#### Métodos computacionales para físicos  y astrónomos\n",
        "#### Universidad de Antioquia\n",
        "#### Prof: Hernan D. Salinas Jiménez & Juan Marcos Marín Ramírez"
      ]
    },
    {
      "cell_type": "code",
      "execution_count": null,
      "metadata": {
        "id": "cT7xC04T1cTD"
      },
      "outputs": [],
      "source": [
        "import numpy as np\n",
        "import scipy as sc\n",
        "import sympy as sy\n",
        "import matplotlib.pylab as plt"
      ]
    },
    {
      "cell_type": "markdown",
      "metadata": {
        "id": "5TEoJvENdGb7"
      },
      "source": [
        "## Punto 1: **Modelo de encriptación**\n",
        "\n",
        "\n",
        "Un proceso para encriptar un mensaje secreto es usar cierta matriz cuadrada cuyos elementos son enteros con elementos enteros en la inversa. Se recibe un mensaje, se asigna un número a cada letra Por ejemplo, A=1, B=2, C=3, ... etc. y espacio=27, se arreglan los números en una matriz de izquierda a derecha en cada fila, donde el número de elementos en la fila es igual al tamaño de la matriz de código, se multiplica esa matriz por la matriz de código por la derecha, se transcribe el mensaje en una cadena de números y se manda el mensaje.\n",
        "\n",
        "La persona que debe recibir el mensaje conoce la matriz de código. El o ella arreglan el mensaje encriptado en una matriz de izquierda a derecha en cada fila, en donde el número de elementos en una fila conicide con el tamaño de la matriz de código multiplicada por la derecha, por el inverso de la matriz de código y puede leer mensaje decodificado.\n",
        "\n",
        "Usted a recibido el siguiente mensaje que fue encriptado usando la matriz A. Decodifiquelo.\n",
        "\n",
        "```\n",
        "matrix([[ 1,  2, -3,  4,  5],\n",
        "        [-2, -5,  8, -8, -9],\n",
        "        [ 1,  2, -2,  7,  9],\n",
        "        [ 1,  1,  0,  6, 12],\n",
        "        [ 2,  4, -6,  8, 11]])\n",
        "```\n",
        "\n",
        "Mensaje\n",
        "\n",
        "```\n",
        "47,49,-19,257,487,10,-9,63,137,236, 79,142,-184,372,536,59,70,-40,332,588,\n",
        "```\n",
        "\n",
        "\n",
        "la primera fila del mensaje es `47,49,-19,257,487`\n",
        "\n",
        "*¿Cual es el mensaje?*"
      ]
    },
    {
      "cell_type": "code",
      "execution_count": null,
      "metadata": {
        "colab": {
          "base_uri": "https://localhost:8080/",
          "height": 119
        },
        "id": "iWv1kbiZch_Z",
        "outputId": "88c8b6cd-2cc6-4547-8e0d-a94480096dc5"
      },
      "outputs": [
        {
          "output_type": "execute_result",
          "data": {
            "text/plain": [
              "Matrix([\n",
              "[ 1.0,  2.0, -3.0,  4.0,  5.0],\n",
              "[-2.0, -5.0,  8.0, -8.0, -9.0],\n",
              "[ 1.0,  2.0, -2.0,  7.0,  9.0],\n",
              "[ 1.0,  1.0,    0,  6.0, 12.0],\n",
              "[ 2.0,  4.0, -6.0,  8.0, 11.0]])"
            ],
            "text/latex": "$\\displaystyle \\left[\\begin{matrix}1.0 & 2.0 & -3.0 & 4.0 & 5.0\\\\-2.0 & -5.0 & 8.0 & -8.0 & -9.0\\\\1.0 & 2.0 & -2.0 & 7.0 & 9.0\\\\1.0 & 1.0 & 0 & 6.0 & 12.0\\\\2.0 & 4.0 & -6.0 & 8.0 & 11.0\\end{matrix}\\right]$"
          },
          "metadata": {},
          "execution_count": 3
        }
      ],
      "source": [
        "e1 = (1,-2,1,1,2)\n",
        "e2 = (2,-5,2,1,4)\n",
        "e3 = (-3,8,-2,0,-6)\n",
        "e4 = (4,-8,7,6,8)\n",
        "e5 = (5,-9,9,12,11)\n",
        "\n",
        "E = np.zeros((len(e1),5))\n",
        "E[:,0] = e1\n",
        "E[:,1] = e2\n",
        "E[:,2] = e3\n",
        "E[:,3] = e4\n",
        "E[:,4] = e5\n",
        "E = np.matrix(E)\n",
        "sy.Matrix(E)"
      ]
    },
    {
      "cell_type": "code",
      "execution_count": null,
      "metadata": {
        "colab": {
          "base_uri": "https://localhost:8080/",
          "height": 98
        },
        "id": "duxp-NrtF4BH",
        "outputId": "d702f1a0-60a5-408d-b099-3e735f27d5ca"
      },
      "outputs": [
        {
          "output_type": "execute_result",
          "data": {
            "text/plain": [
              "Matrix([\n",
              "[47.0,  49.0,  -19.0, 257.0, 487.0],\n",
              "[10.0,  -9.0,   63.0, 137.0, 236.0],\n",
              "[79.0, 142.0, -184.0, 372.0, 536.0],\n",
              "[59.0,  70.0,  -40.0, 332.0, 588.0]])"
            ],
            "text/latex": "$\\displaystyle \\left[\\begin{matrix}47.0 & 49.0 & -19.0 & 257.0 & 487.0\\\\10.0 & -9.0 & 63.0 & 137.0 & 236.0\\\\79.0 & 142.0 & -184.0 & 372.0 & 536.0\\\\59.0 & 70.0 & -40.0 & 332.0 & 588.0\\end{matrix}\\right]$"
          },
          "metadata": {},
          "execution_count": 4
        }
      ],
      "source": [
        "E_I = E.I\n",
        "m1 = (47,49,-19,257,487)\n",
        "m2 = (10,-9,63,137,236)\n",
        "m3 = (79,142,-184,372,536)\n",
        "m4 = (59,70,-40,332,588)\n",
        "M = np.zeros(((4),(5)))\n",
        "M[0] = m1\n",
        "M[1] = m2\n",
        "M[2] = m3\n",
        "M[3] = m4\n",
        "M = np.matrix(M)\n",
        "sy.Matrix(M)"
      ]
    },
    {
      "cell_type": "code",
      "execution_count": null,
      "metadata": {
        "colab": {
          "base_uri": "https://localhost:8080/"
        },
        "id": "n2Ni1FBPHbl2",
        "outputId": "2d21071b-d3e9-417a-e1b7-8102df04edea"
      },
      "outputs": [
        {
          "output_type": "execute_result",
          "data": {
            "text/plain": [
              "matrix([[ 1., 18.,  5., 27., 25.],\n",
              "        [15., 21., 27.,  8.,  1.],\n",
              "        [22.,  9., 14.,  7., 27.],\n",
              "        [ 6., 21., 14., 27., 27.]])"
            ]
          },
          "metadata": {},
          "execution_count": 5
        }
      ],
      "source": [
        "Men = M*E_I\n",
        "Men\n"
      ]
    },
    {
      "cell_type": "code",
      "execution_count": null,
      "metadata": {
        "colab": {
          "base_uri": "https://localhost:8080/"
        },
        "id": "bND2WGJ0Hgdl",
        "outputId": "0a7a7637-120d-4e54-86c4-ff049eb72ec5"
      },
      "outputs": [
        {
          "output_type": "execute_result",
          "data": {
            "text/plain": [
              "('A', 'Q', 'E', 'Z', 'X')"
            ]
          },
          "metadata": {},
          "execution_count": 6
        }
      ],
      "source": [
        "L = ['A','B','C','D','E','F','G','H','I','J','K','L','M','N','Ñ','O','P','Q','R','S','T','U','V','W','X','Y','Z']\n",
        "L[0],L[17],L[4],L[26],L[24]"
      ]
    },
    {
      "cell_type": "markdown",
      "metadata": {
        "id": "3cfNt2WrdUVZ"
      },
      "source": [
        "## Punto 2: **Operaciones matricial con regresión lineal.**\n",
        "\n",
        "Cuando se desea hacer una regresión lineal multivariada, existen diferentes formas de realizar la regresión, una de ellas es encontrar el error cuadrático medio y minimizar el conjunto de parámetros de la regresión emplando algún método de minimización; otra forma es encontrar la expresión analítica en forma matricial, para determinar el conjunto de parámetros de la regresión. En este último caso, la regresión lineal viene dada por la siguiente expresion generalizada:\n",
        "\n",
        "\n",
        "$$\\Theta = (X^T X)^{-1} X^T y$$\n",
        "\n",
        "donte $\\Theta$ es la matriz de parametros asociados a la regresión lineal, $X$ la matriz de características y $y$ los valos esperados, así, si tenemos una conjunto de datos en $N$ dimensiones; la recta, plano o hiperplano puede ser calculado como:\n",
        "\n",
        "$$Y=\\Theta X^T$$\n",
        "\n",
        "\n",
        "En el caso de dos dimensiones, supongamos que $X$, e $Y$ presentan un comportamiento lineal, y vienen dados por (en este caso el super indice es):\n",
        "\n",
        "\n",
        "- Sea $\\vec{X}=x^{(1)}, x^{(2)}, x^{(3)}, x^{(4)}, ..., x^{(m)}$\n",
        "- Sea $\\vec{Y}=y^{(1)}, y^{(2)}, y^{(3)}, y^{(4)}, ..., y^{(m)}$\n",
        "\n",
        "Para determinar la ecuación de la recta, hay que conocer los párametros $\\theta_0 $, $\\theta_1$, que cumplen que :   $y^{(i)} = \\theta_1 x^{(i)} + \\theta_0$ la anterior expresión puede ser escrita como:\n",
        "\n",
        "\\begin{equation}\n",
        "\\begin{bmatrix}\n",
        "y^{(1)}\\\\\n",
        "y^{(2)}\\\\\n",
        "\\vdots\\\\\n",
        "y^{(m)}\\\\\n",
        "\\end{bmatrix}=\n",
        "\\begin{bmatrix}\n",
        "\\theta_0 & \\theta_1 \\\\\n",
        "\\end{bmatrix}\n",
        "\\begin{bmatrix}\n",
        "1 & 1 & \\cdots & 1 \\\\\n",
        "x_1^{(1)} & x_1^{(2)} & \\cdots & x_1^{(m)} \\\\\n",
        "\\end{bmatrix}\n",
        "\\end{equation}\n",
        "\n",
        "\n",
        "Para determinar la matriz de theta entonces se puede aplicar la ecuación:\n",
        "\n",
        "$$\\Theta = (X^T X)^{-1} X^T y$$\n",
        "\n",
        "donde:\n",
        "\\begin{equation}\n",
        "X=\n",
        "\\begin{bmatrix}\n",
        "1 & x_1^{(1)} \\\\\n",
        "1 & x_1^{(2)} \\\\\n",
        "\\vdots & \\vdots \\\\\n",
        "1 & x_1^{(m)}\n",
        "\\end{bmatrix}\n",
        "\\end{equation}\n",
        "\n",
        "y\n",
        "\n",
        "\n",
        "\\begin{equation}\n",
        "y=\n",
        "\\begin{bmatrix}\n",
        "y^{(1)} \\\\\n",
        "y^{(2)} \\\\\n",
        "\\vdots\\\\\n",
        "y^{(m)}\n",
        "\\end{bmatrix}\n",
        "\\end{equation}\n",
        "\n",
        "Su tarea será construir un programa que realice la regresión lineal para los siguientes puntos:\n",
        "```python\n",
        "N = 10\n",
        "x1 = np.linspace(0, 10, N)\n",
        "noise=2*np.random.random(N)-1\n",
        "y = 0.9*x1 + noise\n",
        "```\n",
        "\n",
        "\n",
        "\n",
        "Generalice para el siguiente problema bidimensional:\n",
        "\n",
        "\n",
        "```python\n",
        "N = 10\n",
        "x1 = np.linspace(-1, 1, N)\n",
        "x2 = np.linspace(-2, 2, N)\n",
        "noise1=2*np.random.random(N)-1\n",
        "noise2=2*np.random.random(N)-1\n",
        "y = 2*(x1+noise1) - 3*(x2+noise2) + 0.0 #+ 4*np.random.random(100)\n",
        "\n",
        "N = 10\n",
        "X1, X2 = np.meshgrid(x1,x2)\n",
        "Y = 2*X1 - 3*X2 + 0.0\n",
        "fig, ax = plt.subplots(subplot_kw={\"projection\": \"3d\"})\n",
        "surf = ax.plot_surface(X1, X2, Y)\n",
        "#scatter = ax.scatter(x1, x2, y,\"-\")\n",
        "```"
      ]
    },
    {
      "cell_type": "markdown",
      "metadata": {
        "id": "vpTGBhAJ0gp9"
      },
      "source": [
        "***Caso 1. Punto 2***"
      ]
    },
    {
      "cell_type": "code",
      "execution_count": null,
      "metadata": {
        "colab": {
          "base_uri": "https://localhost:8080/"
        },
        "id": "kOkh1nsj0jVr",
        "outputId": "b78eb168-46c4-48d1-fcd0-d7d28b092cc2"
      },
      "outputs": [
        {
          "output_type": "execute_result",
          "data": {
            "text/plain": [
              "matrix([[ 1.        ,  0.        ],\n",
              "        [ 1.        ,  1.11111111],\n",
              "        [ 1.        ,  2.22222222],\n",
              "        [ 1.        ,  3.33333333],\n",
              "        [ 1.        ,  4.44444444],\n",
              "        [ 1.        ,  5.55555556],\n",
              "        [ 1.        ,  6.66666667],\n",
              "        [ 1.        ,  7.77777778],\n",
              "        [ 1.        ,  8.88888889],\n",
              "        [ 1.        , 10.        ]])"
            ]
          },
          "metadata": {},
          "execution_count": 7
        }
      ],
      "source": [
        "N = 10\n",
        "x1 = np.linspace(0, 10, N)\n",
        "noise=2*np.random.random(N)-1\n",
        "y = 0.9*x1 + noise\n",
        "\n",
        "x = sy.symbols(\"x\")\n",
        "X = np.zeros((len(x1),2))\n",
        "X[:,0] = 1\n",
        "X[:,1] = x1\n",
        "X = np.matrix(X)\n",
        "sy.Matrix(X.round())\n",
        "X"
      ]
    },
    {
      "cell_type": "markdown",
      "metadata": {
        "id": "jQHTUcNB3yrC"
      },
      "source": [
        "$$\\Theta = (X^T X)^{-1} X^T y$$"
      ]
    },
    {
      "cell_type": "code",
      "execution_count": null,
      "metadata": {
        "colab": {
          "base_uri": "https://localhost:8080/",
          "height": 58
        },
        "id": "kiAsqh7p3ikf",
        "outputId": "6a11e7f0-e49a-4326-ae1b-b57b037153db"
      },
      "outputs": [
        {
          "output_type": "execute_result",
          "data": {
            "text/plain": [
              "Matrix([[-0.662458474624484, 0.416104125585328, 1.49466672579514, 2.57322932600495, 3.65179192621477, 4.73035452642458, 5.80891712663439, 6.8874797268442, 7.96604232705402, 9.04460492726383]])"
            ],
            "text/latex": "$\\displaystyle \\left[\\begin{matrix}-0.662458474624484 & 0.416104125585328 & 1.49466672579514 & 2.57322932600495 & 3.65179192621477 & 4.73035452642458 & 5.80891712663439 & 6.8874797268442 & 7.96604232705402 & 9.04460492726383\\end{matrix}\\right]$"
          },
          "metadata": {},
          "execution_count": 8
        }
      ],
      "source": [
        "sy.Matrix(y)\n",
        "#Matriz de parametros asociados a la regresiòn lineal\n",
        "theta = np.linalg.inv(X.T @ X)@X.T@y\n",
        "sy.Matrix(theta)\n",
        "Y = theta@X.T\n",
        "sy.Matrix(Y)"
      ]
    },
    {
      "cell_type": "code",
      "execution_count": null,
      "metadata": {
        "colab": {
          "base_uri": "https://localhost:8080/",
          "height": 447
        },
        "id": "oKSPlmW-56F-",
        "outputId": "d007bcf5-e238-4e20-b9c1-6f36f010d878"
      },
      "outputs": [
        {
          "output_type": "execute_result",
          "data": {
            "text/plain": [
              "[<matplotlib.lines.Line2D at 0x7f58d93e0070>]"
            ]
          },
          "metadata": {},
          "execution_count": 9
        },
        {
          "output_type": "display_data",
          "data": {
            "text/plain": [
              "<Figure size 640x480 with 1 Axes>"
            ],
            "image/png": "[encoded data removed]"
          },
          "metadata": {}
        }
      ],
      "source": [
        "plt.plot(x1,y,'*',label=\"Datos\")\n",
        "#plt.plot(x)"
      ]
    },
    {
      "cell_type": "markdown",
      "metadata": {
        "id": "n30FQuSZ61uw"
      },
      "source": [
        "***Caso 2. Multivariado***"
      ]
    },
    {
      "cell_type": "code",
      "execution_count": null,
      "metadata": {
        "id": "R7VcGYDT61I5"
      },
      "outputs": [],
      "source": [
        "N = 20\n",
        "x1 = np.linspace(-1, 1, N)\n",
        "x2 = np.linspace(-1, 1, N)\n",
        "noise1=2*np.random.random(N)-1\n",
        "noise2=2*np.random.random(N)-1\n",
        "y1 = 2*(x1+noise1) - 3*(x2+noise2) + 0.0 #+ 4*np.random.random(100)"
      ]
    },
    {
      "cell_type": "code",
      "execution_count": null,
      "metadata": {
        "colab": {
          "base_uri": "https://localhost:8080/",
          "height": 424
        },
        "id": "dNaWfmOT7edG",
        "outputId": "488f1589-5f39-408c-a1b3-104058ba863d"
      },
      "outputs": [
        {
          "output_type": "execute_result",
          "data": {
            "text/plain": [
              "Matrix([\n",
              "[1.0,  -1.0,  -1.0],\n",
              "[1.0, -0.89, -0.89],\n",
              "[1.0, -0.79, -0.79],\n",
              "[1.0, -0.68, -0.68],\n",
              "[1.0, -0.58, -0.58],\n",
              "[1.0, -0.47, -0.47],\n",
              "[1.0, -0.37, -0.37],\n",
              "[1.0, -0.26, -0.26],\n",
              "[1.0, -0.16, -0.16],\n",
              "[1.0, -0.05, -0.05],\n",
              "[1.0,  0.05,  0.05],\n",
              "[1.0,  0.16,  0.16],\n",
              "[1.0,  0.26,  0.26],\n",
              "[1.0,  0.37,  0.37],\n",
              "[1.0,  0.47,  0.47],\n",
              "[1.0,  0.58,  0.58],\n",
              "[1.0,  0.68,  0.68],\n",
              "[1.0,  0.79,  0.79],\n",
              "[1.0,  0.89,  0.89],\n",
              "[1.0,   1.0,   1.0]])"
            ],
            "text/latex": "$\\displaystyle \\left[\\begin{matrix}1.0 & -1.0 & -1.0\\\\1.0 & -0.89 & -0.89\\\\1.0 & -0.79 & -0.79\\\\1.0 & -0.68 & -0.68\\\\1.0 & -0.58 & -0.58\\\\1.0 & -0.47 & -0.47\\\\1.0 & -0.37 & -0.37\\\\1.0 & -0.26 & -0.26\\\\1.0 & -0.16 & -0.16\\\\1.0 & -0.05 & -0.05\\\\1.0 & 0.05 & 0.05\\\\1.0 & 0.16 & 0.16\\\\1.0 & 0.26 & 0.26\\\\1.0 & 0.37 & 0.37\\\\1.0 & 0.47 & 0.47\\\\1.0 & 0.58 & 0.58\\\\1.0 & 0.68 & 0.68\\\\1.0 & 0.79 & 0.79\\\\1.0 & 0.89 & 0.89\\\\1.0 & 1.0 & 1.0\\end{matrix}\\right]$"
          },
          "metadata": {},
          "execution_count": 11
        }
      ],
      "source": [
        "Xn = np.zeros((len(x1),3))\n",
        "Xn[:,0] = 1\n",
        "Xn[:,1] = x1\n",
        "Xn[:,2] = x2\n",
        "Xn = np.matrix(Xn)\n",
        "sy.Matrix(Xn.round(2))"
      ]
    },
    {
      "cell_type": "code",
      "execution_count": null,
      "metadata": {
        "colab": {
          "base_uri": "https://localhost:8080/",
          "height": 38
        },
        "id": "Xq32WwuY7UBo",
        "outputId": "d0d5c315-cb86-43de-e655-ce830e305642"
      },
      "outputs": [
        {
          "output_type": "execute_result",
          "data": {
            "text/plain": [
              "Matrix([[-0.536182480840903, -0.103357216448583, 0.349094121789995]])"
            ],
            "text/latex": "$\\displaystyle \\left[\\begin{matrix}-0.536182480840903 & -0.103357216448583 & 0.349094121789995\\end{matrix}\\right]$"
          },
          "metadata": {},
          "execution_count": 12
        }
      ],
      "source": [
        "thetan = (Xn.T @ Xn).I @ Xn.T @ y1\n",
        "sy.Matrix(thetan)"
      ]
    },
    {
      "cell_type": "code",
      "execution_count": null,
      "metadata": {
        "colab": {
          "base_uri": "https://localhost:8080/",
          "height": 58
        },
        "id": "P5mNm6mcACp4",
        "outputId": "3f1c1bf9-dc40-4ea5-bf69-66f77de95ee1"
      },
      "outputs": [
        {
          "output_type": "execute_result",
          "data": {
            "text/plain": [
              "Matrix([[-0.781919386182314, -0.756052343514797, -0.73018530084728, -0.704318258179763, -0.678451215512246, -0.652584172844729, -0.626717130177212, -0.600850087509695, -0.574983044842178, -0.549116002174661, -0.523248959507144, -0.497381916839627, -0.47151487417211, -0.445647831504593, -0.419780788837076, -0.393913746169559, -0.368046703502042, -0.342179660834525, -0.316312618167008, -0.290445575499491]])"
            ],
            "text/latex": "$\\displaystyle \\left[\\begin{array}{cccccccccccccccccccc}-0.781919386182314 & -0.756052343514797 & -0.73018530084728 & -0.704318258179763 & -0.678451215512246 & -0.652584172844729 & -0.626717130177212 & -0.600850087509695 & -0.574983044842178 & -0.549116002174661 & -0.523248959507144 & -0.497381916839627 & -0.47151487417211 & -0.445647831504593 & -0.419780788837076 & -0.393913746169559 & -0.368046703502042 & -0.342179660834525 & -0.316312618167008 & -0.290445575499491\\end{array}\\right]$"
          },
          "metadata": {},
          "execution_count": 13
        }
      ],
      "source": [
        "Yn = thetan@Xn.T\n",
        "sy.Matrix(Yn)"
      ]
    },
    {
      "cell_type": "code",
      "execution_count": 47,
      "metadata": {
        "colab": {
          "base_uri": "https://localhost:8080/",
          "height": 415
        },
        "id": "-anm7Dd2CedH",
        "outputId": "ba04b8e6-1d09-4f38-d1c8-d7a838ca43b2"
      },
      "outputs": [
        {
          "output_type": "display_data",
          "data": {
            "text/plain": [
              "<Figure size 640x480 with 1 Axes>"
            ],
            "image/png": "[encoded data removed]"
          },
          "metadata": {}
        }
      ],
      "source": [
        "N = 10\n",
        "X1, X2 = np.meshgrid(x1,x2)\n",
        "Y = 2*X1 - 3*X2 + 0.0\n",
        "fig, ax = plt.subplots(subplot_kw={\"projection\": \"3d\"})\n",
        "surf = ax.plot_surface(X1, X2, Yn,color='palevioletred')"
      ]
    },
    {
      "cell_type": "markdown",
      "metadata": {
        "id": "Ajzpg16pd-Ul"
      },
      "source": [
        "## Punto 3: **Diagonalización**.\n",
        "\n",
        "Se sabe que un sistema físico es gobernado por las ecuaciones,\n",
        "\n",
        "\n",
        "\n",
        "$$\n",
        "\\begin{matrix}\n",
        "x' &=& 2x&-y&+z, \\\\\n",
        "y' &=&   &3y&-1z, \\\\\n",
        "z' &=& 2x&+y&+3z,\n",
        "\\end{matrix}\n",
        "$$\n",
        "\n",
        "donde $x',y',z'$ son las derivadas, en forma vectorial esto se puede representar como $\\mathbf{r}'=A\\mathbf{r}$ que tiene solución analítica general, $\\mathbf{r} = e^{At} \\mathbf{r}(0)$.\n",
        "\n",
        "a) Diagonalize $A$.\n",
        "\n",
        "b) Use el hecho de que $f(A) =U f(D) U^{-1}$ para encontrar $x(t),y(t),z(t)$ en el intervalo de tiempo $[0,2]$.\n",
        "\n",
        "c) Grafique $x(t),y(t),z(t)$ (use la condición inicial $\\mathbf{r}(0)=(1,1,2))$.\n",
        "\n",
        "d) Compare el resultado a la solución analítica,\n",
        "\n",
        "$$\n",
        "\\begin{align}\n",
        "2x & = x(0)(e^{2t}(1+e^{2t}-2t)) + y(0) (-2te^{2t}) + z(0)(e^{2t}(-1+e^{2t})), \\\\\n",
        "2y & = x(0)(-e^{2t}(-1+e^{2t}-2t)) + y(0)(2(t+1)e^{2t}) + z(0)(-e^{2t}(-1+e^{2t})), \\\\\n",
        "2z & = x(0)(e^{2t}(-1+e^{2t}+2t)) + y(0)(2te^{2t}) + z(0)(e^{2t}(1+e^{2t})).\n",
        "\\end{align}\n",
        "$$"
      ]
    },
    {
      "cell_type": "markdown",
      "source": [
        "***Diagonalización de A***"
      ],
      "metadata": {
        "id": "Qz8bXu3wTLug"
      }
    },
    {
      "cell_type": "code",
      "execution_count": null,
      "metadata": {
        "colab": {
          "base_uri": "https://localhost:8080/"
        },
        "id": "gFlAdeASeQnu",
        "outputId": "c84cc829-d4c8-4836-d5a4-5d26f09a882b"
      },
      "outputs": [
        {
          "output_type": "stream",
          "name": "stdout",
          "text": [
            "Autovalores: [4.+0.j 2.+0.j 2.-0.j]\n",
            "Autovectores: [[-0.57735+0.j -0.57735+0.j -0.57735-0.j]\n",
            " [ 0.57735+0.j  0.57735+0.j  0.57735-0.j]\n",
            " [-0.57735+0.j  0.57735-0.j  0.57735+0.j]]\n"
          ]
        }
      ],
      "source": [
        "A = np.array([[2,-1,1],\n",
        "                     [0,3,-1],\n",
        "                     [2,1,3]])\n",
        "#Autovalores y autovectores\n",
        "avalues, avectors = np.linalg.eig(A)\n",
        "np.set_printoptions(suppress=True, precision=6)\n",
        "F = avectors.copy()\n",
        "\n",
        "print(f\"Autovalores: {avalues}\")\n",
        "print(f\"Autovectores: {avectors}\")\n"
      ]
    },
    {
      "cell_type": "code",
      "execution_count": null,
      "metadata": {
        "colab": {
          "base_uri": "https://localhost:8080/"
        },
        "id": "71d1VDbcTFl9",
        "outputId": "607b9f12-f912-4eed-ceb9-6ca07d27b0eb"
      },
      "outputs": [
        {
          "output_type": "stream",
          "name": "stdout",
          "text": [
            "Matriz Diagonal: [[ 4.+0.j -0.-0.j -0.+0.j]\n",
            " [-0.-0.j  2.+0.j  0.-0.j]\n",
            " [-0.+0.j  0.+0.j  2.-0.j]]\n",
            "Matriz de autovectores: [[-0.57735+0.j -0.57735+0.j -0.57735-0.j]\n",
            " [ 0.57735+0.j  0.57735+0.j  0.57735-0.j]\n",
            " [-0.57735+0.j  0.57735-0.j  0.57735+0.j]]\n"
          ]
        }
      ],
      "source": [
        "#Matriz de autovectores\n",
        "F = avectors.copy()\n",
        "#Matriz de autovalores\n",
        "D = np.linalg.inv(F)@A@F\n",
        "np.set_printoptions(suppress=True, precision=6)\n",
        "print(f'Matriz Diagonal: {D}')\n",
        "print(f'Matriz de autovectores: {F}')"
      ]
    },
    {
      "cell_type": "code",
      "execution_count": null,
      "metadata": {
        "colab": {
          "base_uri": "https://localhost:8080/"
        },
        "id": "9oLRjAw1SbtV",
        "outputId": "725b48da-a42b-4b53-fc4f-49e22b1687e9"
      },
      "outputs": [
        {
          "output_type": "execute_result",
          "data": {
            "text/plain": [
              "array([[ 2.-0.j, -1.-0.j,  1.-0.j],\n",
              "       [ 0.-0.j,  3.-0.j, -1.-0.j],\n",
              "       [ 2.-0.j,  1.-0.j,  3.+0.j]])"
            ]
          },
          "metadata": {},
          "execution_count": 17
        }
      ],
      "source": [
        "'''La operacion F*D*F.inv es igual a la matriz A original'''\n",
        "F@D@np.linalg.inv(F)"
      ]
    },
    {
      "cell_type": "markdown",
      "source": [
        "***$x(t),y(t),z(t)$ en el intervalo de\n",
        "tiempo $[0,2]$.***\n",
        "\n",
        "$\n",
        "x= Uy, A=UDU^{-1} \\\\\n",
        "D = U^{-1}AU\\\\\n",
        "Uy' = AUy \\\\\n",
        "y' = U^{-1}AUy \\\\\n",
        "y' = Dy\\\\\n",
        "x' = 4x, y'= 2y, z' = 2z\\\\\n",
        "x(t) = x(0)e^{4t}, y(t)=y(0)e^{2t}, z(t)=z(0)e^{2t}$"
      ],
      "metadata": {
        "id": "73nHLS2FUmdm"
      }
    },
    {
      "cell_type": "code",
      "source": [
        "t = np.linspace(0,2,10)\n",
        "#x(0), y(0) y z(0)\n",
        "r_0 = np.array([1,1,2])"
      ],
      "metadata": {
        "id": "aEzd1KGyUmKT"
      },
      "execution_count": null,
      "outputs": []
    },
    {
      "cell_type": "code",
      "source": [
        "x_t = r_0[0]*(np.exp(D[0][0])*t)\n",
        "y_t = r_0[1]*(np.exp(D[1][1])*t)\n",
        "z_t = r_0[2]*(np.exp(D[2][2])*t)"
      ],
      "metadata": {
        "id": "y-ACZ-twTCjG"
      },
      "execution_count": null,
      "outputs": []
    },
    {
      "cell_type": "code",
      "source": [
        "plt.figure()\n",
        "plt.plot(t,x_t,color='mediumpurple',label='x(t)')\n",
        "plt.plot(t,y_t,color='palevioletred',label='y(t)')\n",
        "plt.plot(t,z_t,color='lightseagreen',label='z(t)')\n",
        "plt.xlabel('Tiempo')\n",
        "plt.ylabel('X(t)')\n",
        "plt.legend()\n",
        "plt.show()"
      ],
      "metadata": {
        "colab": {
          "base_uri": "https://localhost:8080/",
          "height": 504
        },
        "id": "SyzPwYUdTCIE",
        "outputId": "e1129258-5cac-46e5-ac0f-6f5040d61cfa"
      },
      "execution_count": null,
      "outputs": [
        {
          "output_type": "stream",
          "name": "stderr",
          "text": [
            "/usr/local/lib/python3.10/dist-packages/matplotlib/cbook/__init__.py:1335: ComplexWarning: Casting complex values to real discards the imaginary part\n",
            "  return np.asarray(x, float)\n"
          ]
        },
        {
          "output_type": "display_data",
          "data": {
            "text/plain": [
              "<Figure size 640x480 with 1 Axes>"
            ],
            "image/png": "[encoded data removed]"
          },
          "metadata": {}
        }
      ]
    },
    {
      "cell_type": "markdown",
      "metadata": {
        "id": "VCfTmYWleO0V"
      },
      "source": [
        "## Punto 4: **Modelo de población de una especie de pajaros**\n",
        "Se estudiará un modelo de crecimiento de la poblacion para una especie de pájaros. En esta población se supone que el número de pajaros hembras es igual al número de machos.  Sea :\n",
        "- $p_{j,n-1}$ la poblacion juvenil (inmadura) de hembras en el año (n-1)\n",
        "- $p_{a,n-1}$ el numero de hembras adultas en el mismo año.\n",
        "\n",
        "Algunos de los pájaros jóvenes morirán  durante el año. Se suponen que cierta proporción de pájaros $\\alpha$ de los pájaros jovenes sobrevivirán para llegar a adultos en la primavera del año $n$. Cada hembra que sobrevive prdocuce huevos en la primavera, los incupan y producen, en promedio, $k$ pájaros hembras jóvenes en al siguiente primavera. Los adultos también mueren y la proporcion de adultos que sobrevive de una primavera a la siguiente es $\\beta$.\n",
        "\n",
        "Un modelo para el crecimiento poblacional de pajaros\n",
        "\\begin{equation}\n",
        "p_{j,n} = kp_{a, n-1}\n",
        "\\end{equation}\n",
        "\n",
        "\n",
        "\\begin{equation}\n",
        "p_{a,n} =\\alpha p_{j,n-1} + \\beta p_{a, n-1}\n",
        "\\end{equation}\n",
        "\n",
        "Que puede ser escrita como ${\\bf p_n}=A{\\bf p_{n-1}}$, Siendo A la matrix definida en las ecuaciones anteriores, y ${\\bf p_n}$ un vector. Para la evolución temporal se cumple que:\n",
        "\n",
        "- ${\\bf p_1}=A{\\bf p_{0}}$, ${\\bf p_2}=A{\\bf p_{1}}= A(A{\\bf p_0})=A^2{\\bf p_{0}}$ $...$ y asi sucesivamente. Entonces:\n",
        "\n",
        "\\begin{equation}\n",
        "{\\bf p_n} = A^n {\\bf p_{0}}\n",
        "\\end{equation}\n",
        "\n",
        "\n",
        "Supongamos que tenemos 10 hembras  (y 10 machos) adultos y no hay jovenes, la supongmaos que la matriz A viene dada por:\n",
        "\n",
        "\\begin{bmatrix}\n",
        "0 & 2 \\\\\n",
        "0.3 & 0.5\n",
        "\\end{bmatrix}\n",
        "\n",
        "para la primera poblacion $p_{j,1}=20$, $p_{a,1}=5$, el total de hembras es 25 y la razón jovenes adultas es de 4 a 1. Muestre que la razon $p_{j,n}/p_{a,n}$ converge $1.88$,(como no se puede tener un número racional de pájaros,. aproxime siempre el resultados al menor entero).\n",
        "\n",
        "- Para la  solución general del modelo del problema de valores y vetores propios\n",
        "se tiene que:\n",
        "\\begin{equation}\n",
        "p_n=\\lambda_1^n\\left [ a_1 \\vec{v}_1 +\\left( \\frac{\\lambda_2}{\\lambda_1} \\right)^n \\right]a_2 \\vec{v}_2\n",
        "\\end{equation}\n",
        "\n",
        "Asumiendo que $\\lambda_2/ \\lambda_1 < 1$, entonces $(\\lambda_2/ \\lambda_1)^n << 1$ cuando n crece.  Entonce spara n grande se cumple que:\n",
        "\n",
        "donde $p_n=a_1\\lambda_1^n\\vec{v}_1$\n",
        "\n",
        "\n",
        "donde:\n",
        "\n",
        "${\\bf p_0} = a_1 \\vec{v}_1 + a_2 \\vec{v}_2$, con $v_1$ y $v_2$ vectores propios de A"
      ]
    },
    {
      "cell_type": "code",
      "execution_count": null,
      "metadata": {
        "id": "V5W0bcGy0pNJ",
        "colab": {
          "base_uri": "https://localhost:8080/"
        },
        "outputId": "c3ddb680-4955-43d9-a238-03b09aca763a"
      },
      "outputs": [
        {
          "output_type": "stream",
          "name": "stdout",
          "text": [
            "Autovalores: [-0.56394  1.06394]\n",
            "Autovectores: [[-0.96247 -0.88285]\n",
            " [ 0.27139 -0.46965]]\n"
          ]
        }
      ],
      "source": [
        "P = np.array([[0,2],[0.3,0.5]])\n",
        "evalues,evectors =np.linalg.eig(P)\n",
        "np.set_printoptions(suppress=True, precision=5)\n",
        "\n",
        "print(f\"Autovalores: {evalues}\")\n",
        "print(f\"Autovectores: {evectors}\")"
      ]
    },
    {
      "cell_type": "markdown",
      "source": [
        "$$\n",
        "\\vec p_n=(\\begin{matrix}p_{j,n} \\\\\n",
        "p_{a,n}\\end{matrix})\\\\\n",
        "p_n = a_{1}\\lambda_{1}^{n}\\vec v_{1}\\\\\n",
        "\\vec v_{1}=(\\begin{matrix} v_{1,1}\\\\v_{1,2}\\end{matrix})\\\\\n",
        "p_n = a_{1}\\lambda_{1}^{n}(\\begin{matrix} v_{1,1}\\\\v_{1,2}\\end{matrix})\\\\\n",
        "$$\n",
        "La razón ebtre jovenes y adultos seria entonces:\n",
        "\\begin{equation}\n",
        "\\frac{p_{j,n}}{p_{a,n}} = \\frac{v_{1,1}}{v_{1,2}}\n",
        "\\end{equation}"
      ],
      "metadata": {
        "id": "XmpC_nyy1sLH"
      }
    },
    {
      "cell_type": "code",
      "source": [
        "#Ordenar los indices de los valores propios\n",
        "idx = np.argsort(np.abs(evalues))[::-1]\n",
        "\n",
        "evalues = evalues[idx]\n",
        "evectors = evectors[:, idx]\n",
        "\n",
        "#Vector propio correspondiente al valor propio dominante\n",
        "v1 = evectors[:,0]\n",
        "\n",
        "#Razon entre poblaciones\n",
        "div = v1[0]/v1[1]\n",
        "print(f'La razón entre la poblacion juvenil de pajaros y la poblacion adulta de pajaros hembra es: {div}')"
      ],
      "metadata": {
        "colab": {
          "base_uri": "https://localhost:8080/"
        },
        "id": "id_c-mH-hVVP",
        "outputId": "c1e767c3-46be-453d-c63f-fadbb68c70f3"
      },
      "execution_count": 46,
      "outputs": [
        {
          "output_type": "stream",
          "name": "stdout",
          "text": [
            "La razón entre la poblacion juvenil de pajaros y la poblacion adulta de pajaros hembra es: 1.8798034326832844\n"
          ]
        }
      ]
    }
  ],
  "metadata": {
    "colab": {
      "provenance": []
    },
    "kernelspec": {
      "display_name": "Python 3 (ipykernel)",
      "language": "python",
      "name": "python3"
    },
    "language_info": {
      "codemirror_mode": {
        "name": "ipython",
        "version": 3
      },
      "file_extension": ".py",
      "mimetype": "text/x-python",
      "name": "python",
      "nbconvert_exporter": "python",
      "pygments_lexer": "ipython3",
      "version": "3.10.9"
    }
  },
  "nbformat": 4,
  "nbformat_minor": 0
}