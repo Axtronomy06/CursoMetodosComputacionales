{
  "nbformat": 4,
  "nbformat_minor": 0,
  "metadata": {
    "colab": {
      "provenance": []
    },
    "kernelspec": {
      "name": "python3",
      "display_name": "Python 3"
    },
    "language_info": {
      "name": "python"
    }
  },
  "cells": [
    {
      "cell_type": "code",
      "source": [
        "import numpy as np\n",
        "import scipy as sc\n",
        "import sympy as sy\n",
        "import matplotlib.pylab as plt"
      ],
      "metadata": {
        "id": "LGEtqLJlw2eb"
      },
      "execution_count": 4,
      "outputs": []
    },
    {
      "cell_type": "markdown",
      "source": [
        "# Arreglos de numpy"
      ],
      "metadata": {
        "id": "wtJNu-2mLSsV"
      }
    },
    {
      "cell_type": "code",
      "source": [
        "# Generemos una arreglos ndimensaionales, ¿como podemos acceder a los elementos?\n",
        "X = np.random.randint(0, 55, (6,6))\n",
        "\n",
        "X"
      ],
      "metadata": {
        "colab": {
          "base_uri": "https://localhost:8080/"
        },
        "id": "97ecIcqMhbru",
        "outputId": "c586f042-996d-4222-e24e-b12fd7c889d6"
      },
      "execution_count": null,
      "outputs": [
        {
          "output_type": "execute_result",
          "data": {
            "text/plain": [
              "array([[16, 51,  8, 37, 45,  0],\n",
              "       [49, 20, 21,  6, 10,  9],\n",
              "       [ 2, 21,  6, 33, 39, 16],\n",
              "       [30, 51, 18, 16, 53,  7],\n",
              "       [23, 21, 38,  6, 50, 40],\n",
              "       [ 9,  0,  6, 42, 11, 28]])"
            ]
          },
          "metadata": {},
          "execution_count": 8
        }
      ]
    },
    {
      "cell_type": "code",
      "source": [
        "X[0] #filas\n",
        "X[:,1] #Columna"
      ],
      "metadata": {
        "colab": {
          "base_uri": "https://localhost:8080/"
        },
        "id": "UPZ4HVeSiAa_",
        "outputId": "8d7b27ba-d097-4094-8e2c-11a495e55f8d"
      },
      "execution_count": null,
      "outputs": [
        {
          "output_type": "execute_result",
          "data": {
            "text/plain": [
              "array([51, 20, 21, 51, 21,  0])"
            ]
          },
          "metadata": {},
          "execution_count": 9
        }
      ]
    },
    {
      "cell_type": "code",
      "source": [
        "X[0][1:4]\n",
        "#[fila][ini:fin:step]"
      ],
      "metadata": {
        "colab": {
          "base_uri": "https://localhost:8080/"
        },
        "id": "FfnQsOUDibOE",
        "outputId": "15f00e21-dbc0-461d-df6b-e39f1ddc83b8"
      },
      "execution_count": null,
      "outputs": [
        {
          "output_type": "execute_result",
          "data": {
            "text/plain": [
              "array([51,  8, 37])"
            ]
          },
          "metadata": {},
          "execution_count": 10
        }
      ]
    },
    {
      "cell_type": "code",
      "source": [
        "X[0, 1:4:2]"
      ],
      "metadata": {
        "colab": {
          "base_uri": "https://localhost:8080/"
        },
        "id": "vkNXHb5rizs5",
        "outputId": "74ef44da-d825-48d7-a866-78d1397c0087"
      },
      "execution_count": null,
      "outputs": [
        {
          "output_type": "execute_result",
          "data": {
            "text/plain": [
              "array([51, 37])"
            ]
          },
          "metadata": {},
          "execution_count": 11
        }
      ]
    },
    {
      "cell_type": "code",
      "source": [
        "X[2::2,::2 ]"
      ],
      "metadata": {
        "colab": {
          "base_uri": "https://localhost:8080/"
        },
        "id": "KMe75hMwletS",
        "outputId": "8152972f-93a5-4daf-a737-0bbba440049b"
      },
      "execution_count": null,
      "outputs": [
        {
          "output_type": "execute_result",
          "data": {
            "text/plain": [
              "array([[ 2,  6, 39],\n",
              "       [23, 38, 50]])"
            ]
          },
          "metadata": {},
          "execution_count": 12
        }
      ]
    },
    {
      "cell_type": "code",
      "source": [
        "Y = np.random.randint(0,22,(6,6))\n",
        "Y"
      ],
      "metadata": {
        "colab": {
          "base_uri": "https://localhost:8080/"
        },
        "id": "ZtFDHH1jQ7va",
        "outputId": "e1075530-6423-4293-cc95-4a568e5ad266"
      },
      "execution_count": null,
      "outputs": [
        {
          "output_type": "execute_result",
          "data": {
            "text/plain": [
              "array([[ 4, 19, 17, 21, 19,  5],\n",
              "       [12, 12, 10,  7, 13, 21],\n",
              "       [15, 18, 10, 16, 15, 16],\n",
              "       [ 8,  8, 20, 21, 15,  9],\n",
              "       [19, 16,  8, 14, 17, 17],\n",
              "       [ 9,  9,  7, 20, 16, 17]])"
            ]
          },
          "metadata": {},
          "execution_count": 25
        }
      ]
    },
    {
      "cell_type": "code",
      "source": [
        "Y[3::,4::]"
      ],
      "metadata": {
        "colab": {
          "base_uri": "https://localhost:8080/"
        },
        "id": "BefWq4H2RNC6",
        "outputId": "a2ef3eab-f2a3-4edb-a774-94c9b1722e8d"
      },
      "execution_count": null,
      "outputs": [
        {
          "output_type": "execute_result",
          "data": {
            "text/plain": [
              "array([[15,  9],\n",
              "       [17, 17],\n",
              "       [16, 17]])"
            ]
          },
          "metadata": {},
          "execution_count": 49
        }
      ]
    },
    {
      "cell_type": "code",
      "source": [
        "Y[2::2,::2]"
      ],
      "metadata": {
        "colab": {
          "base_uri": "https://localhost:8080/"
        },
        "id": "X_Y_5x0qTzxy",
        "outputId": "e54d44f5-c4a2-42a5-c5fd-38a74110bd29"
      },
      "execution_count": null,
      "outputs": [
        {
          "output_type": "execute_result",
          "data": {
            "text/plain": [
              "array([[15, 10, 15],\n",
              "       [19,  8, 17]])"
            ]
          },
          "metadata": {},
          "execution_count": 62
        }
      ]
    },
    {
      "cell_type": "code",
      "source": [
        "Y.T #transpuesta\n",
        "'''\n",
        "numpy.linalg: para hacer operaciones en matrices\n",
        "'''\n",
        "np.linalg.inv(Y) #inversa"
      ],
      "metadata": {
        "id": "MDk6PCCRU1XP"
      },
      "execution_count": null,
      "outputs": []
    },
    {
      "cell_type": "code",
      "source": [
        "#permutaciones\n",
        "X[[1,2]]\n",
        "#fila 1 y fila 2\n",
        "X[[1,2]] = X[[2,1]]"
      ],
      "metadata": {
        "id": "JYhVm8_TM2Tf"
      },
      "execution_count": null,
      "outputs": []
    },
    {
      "cell_type": "code",
      "source": [
        "# Operaciones matriciales"
      ],
      "metadata": {
        "id": "tpPPxUiULgge"
      },
      "execution_count": null,
      "outputs": []
    },
    {
      "cell_type": "code",
      "source": [
        "X=np.array([[1,2],[3,4]])\n",
        "B=np.array([[5,2],[1,4]])\n",
        "np.linalg.inv(X) #inversa"
      ],
      "metadata": {
        "colab": {
          "base_uri": "https://localhost:8080/"
        },
        "id": "U8snX3DpLXtp",
        "outputId": "6391f78d-5dca-425f-f8da-2cca6e106e0d"
      },
      "execution_count": null,
      "outputs": [
        {
          "output_type": "execute_result",
          "data": {
            "text/plain": [
              "array([[-2. ,  1. ],\n",
              "       [ 1.5, -0.5]])"
            ]
          },
          "metadata": {},
          "execution_count": 68
        }
      ]
    },
    {
      "cell_type": "code",
      "source": [
        "np.linalg.det(X) #determinante"
      ],
      "metadata": {
        "colab": {
          "base_uri": "https://localhost:8080/"
        },
        "id": "XwCim3VlLfKU",
        "outputId": "8c1604b6-4e32-4817-9699-87ade07efc00"
      },
      "execution_count": null,
      "outputs": [
        {
          "output_type": "execute_result",
          "data": {
            "text/plain": [
              "-2.0000000000000004"
            ]
          },
          "metadata": {},
          "execution_count": 69
        }
      ]
    },
    {
      "cell_type": "code",
      "source": [
        "np.dot([2j, 3j], [2j, 3j]) #producto punto"
      ],
      "metadata": {
        "colab": {
          "base_uri": "https://localhost:8080/"
        },
        "id": "JyXfDy4TL46a",
        "outputId": "8a4849b7-e0ae-49eb-d171-12ce6f0076b4"
      },
      "execution_count": null,
      "outputs": [
        {
          "output_type": "execute_result",
          "data": {
            "text/plain": [
              "(-13+0j)"
            ]
          },
          "metadata": {},
          "execution_count": 70
        }
      ]
    },
    {
      "cell_type": "code",
      "source": [
        "X*B"
      ],
      "metadata": {
        "colab": {
          "base_uri": "https://localhost:8080/"
        },
        "id": "WPC3XJLjMTvU",
        "outputId": "c26f1f88-c0e6-4642-f689-2e924570b418"
      },
      "execution_count": null,
      "outputs": [
        {
          "output_type": "execute_result",
          "data": {
            "text/plain": [
              "array([[ 5,  4],\n",
              "       [ 3, 16]])"
            ]
          },
          "metadata": {},
          "execution_count": 71
        }
      ]
    },
    {
      "cell_type": "code",
      "source": [
        "X@B"
      ],
      "metadata": {
        "colab": {
          "base_uri": "https://localhost:8080/"
        },
        "id": "SXr0_TeBMf2m",
        "outputId": "d45745c6-29ab-4fcd-960a-7103c76ae764"
      },
      "execution_count": null,
      "outputs": [
        {
          "output_type": "execute_result",
          "data": {
            "text/plain": [
              "array([[ 7, 10],\n",
              "       [19, 22]])"
            ]
          },
          "metadata": {},
          "execution_count": 72
        }
      ]
    },
    {
      "cell_type": "code",
      "source": [
        "np.matmul(X,B)"
      ],
      "metadata": {
        "colab": {
          "base_uri": "https://localhost:8080/"
        },
        "id": "Ht4V1OxIMg40",
        "outputId": "959516fe-c3d7-4f46-e478-b5d406ecfdc6"
      },
      "execution_count": null,
      "outputs": [
        {
          "output_type": "execute_result",
          "data": {
            "text/plain": [
              "array([[ 7, 10],\n",
              "       [19, 22]])"
            ]
          },
          "metadata": {},
          "execution_count": 73
        }
      ]
    },
    {
      "cell_type": "markdown",
      "source": [
        "# Algunos ejemplo\n",
        "\n",
        "```python\n",
        "import numpy as np\n",
        "\n",
        "# Producto de matrices\n",
        "A = np.array([[1, 2], [3, 4]])\n",
        "B = np.array([[5, 6], [7, 8]])\n",
        "producto = np.dot(A, B)\n",
        "\n",
        "# Determinante de una matriz\n",
        "C = np.array([[9, 2], [3, 4]])\n",
        "determinante = np.linalg.det(C)\n",
        "\n",
        "# Inversa de una matriz\n",
        "D = np.array([[2, 5], [1, 3]])\n",
        "inversa = np.linalg.inv(D)\n",
        "\n",
        "# Autovalores y autovectores\n",
        "E = np.array([[2, 0], [0, 3]])\n",
        "autovalores, autovectores = np.linalg.eig(E)\n",
        "\n",
        "# Resolución de sistemas de ecuaciones lineales\n",
        "F = np.array([[1, 1], [1, -1]])\n",
        "b = np.array([5, 1])\n",
        "solucion = np.linalg.solve(F, b)\n",
        "\n",
        "\n",
        "# Norma de un vector o matriz\n",
        "H = np.array([1, 2, 3])\n",
        "norma = np.linalg.norm(H)\n",
        "\n",
        "# Rango de una matriz\n",
        "I = np.array([[1, 2], [2, 4]])\n",
        "rango = np.linalg.matrix_rank(I)\n",
        "\n",
        "# Potencia de una matriz\n",
        "J = np.array([[1, 2], [3, 4]])\n",
        "potencia = np.linalg.matrix_power(J, 3)\n",
        "\n",
        "# Descomposición SVD\n",
        "G = np.array([[1, 2], [3, 4]])\n",
        "U, S, V = np.linalg.svd(G)\n",
        "\n",
        "\n",
        "```\n"
      ],
      "metadata": {
        "id": "wOgkVu4yL-mp"
      }
    },
    {
      "cell_type": "markdown",
      "source": [
        "# Matrices de numpy"
      ],
      "metadata": {
        "id": "iV1bdIUxLOwM"
      }
    },
    {
      "cell_type": "code",
      "source": [
        "M = np.matrix(X)\n",
        "type(M)"
      ],
      "metadata": {
        "colab": {
          "base_uri": "https://localhost:8080/"
        },
        "id": "ZoTW7RE1mDjk",
        "outputId": "41f48dac-75c7-4583-aee4-76b18b474eb0"
      },
      "execution_count": null,
      "outputs": [
        {
          "output_type": "execute_result",
          "data": {
            "text/plain": [
              "numpy.matrix"
            ]
          },
          "metadata": {},
          "execution_count": 69
        }
      ]
    },
    {
      "cell_type": "code",
      "source": [
        "M@M #producto matricial"
      ],
      "metadata": {
        "colab": {
          "base_uri": "https://localhost:8080/"
        },
        "id": "smYYFQDnmSHx",
        "outputId": "61823282-28f8-4cdc-932a-12881a71589f"
      },
      "execution_count": null,
      "outputs": [
        {
          "output_type": "execute_result",
          "data": {
            "text/plain": [
              "matrix([[2895, 4879, 2978, 3185, 7000, 2947],\n",
              "        [2399, 3165, 2440, 2237, 4844, 2629],\n",
              "        [2344, 3855, 1495, 3133, 4112, 1203],\n",
              "        [3226, 4890, 3268, 3769, 7094, 3406],\n",
              "        [3962, 3730, 3356, 3848, 5492, 3840],\n",
              "        [2203, 2952, 1540, 2283, 3549, 1572]])"
            ]
          },
          "metadata": {},
          "execution_count": 70
        }
      ]
    },
    {
      "cell_type": "code",
      "source": [
        "M.I #inversa"
      ],
      "metadata": {
        "colab": {
          "base_uri": "https://localhost:8080/"
        },
        "id": "v0j1xF0Xnu3A",
        "outputId": "5f4baf7e-5050-458e-90f1-601ca89d7e94"
      },
      "execution_count": null,
      "outputs": [
        {
          "output_type": "execute_result",
          "data": {
            "text/plain": [
              "matrix([[-0.04597633,  0.0412278 ,  0.02916437,  0.02819095, -0.02581031,\n",
              "         -0.00310887],\n",
              "        [ 0.01630046, -0.16690214, -0.07887439,  0.10106855,  0.00460061,\n",
              "          0.0888857 ],\n",
              "        [ 0.12265481,  0.05325407,  0.06526705, -0.19646564,  0.06384168,\n",
              "         -0.09349559],\n",
              "        [ 0.04169477,  0.05035342,  0.03493898, -0.07843632,  0.00560083,\n",
              "         -0.02839588],\n",
              "        [-0.03599216,  0.12362789,  0.03869078, -0.0251485 , -0.01199179,\n",
              "         -0.05966258],\n",
              "        [-0.05990744, -0.14876161, -0.09096848,  0.16057265, -0.00907438,\n",
              "          0.12278103]])"
            ]
          },
          "metadata": {},
          "execution_count": 71
        }
      ]
    },
    {
      "cell_type": "code",
      "source": [
        "type(X)"
      ],
      "metadata": {
        "colab": {
          "base_uri": "https://localhost:8080/"
        },
        "id": "jsRxH4R9mJFs",
        "outputId": "27d1d956-b4c8-496b-901c-d3042981e811"
      },
      "execution_count": null,
      "outputs": [
        {
          "output_type": "execute_result",
          "data": {
            "text/plain": [
              "numpy.ndarray"
            ]
          },
          "metadata": {},
          "execution_count": 77
        }
      ]
    },
    {
      "cell_type": "code",
      "source": [
        "np.transpose(X)"
      ],
      "metadata": {
        "colab": {
          "base_uri": "https://localhost:8080/"
        },
        "id": "I6yi4tSzmXkx",
        "outputId": "9a305dad-b071-4fff-da5a-80ff7b9e49cc"
      },
      "execution_count": null,
      "outputs": [
        {
          "output_type": "execute_result",
          "data": {
            "text/plain": [
              "array([[1, 3],\n",
              "       [2, 4]])"
            ]
          },
          "metadata": {},
          "execution_count": 78
        }
      ]
    },
    {
      "cell_type": "code",
      "source": [
        "x = sy.symbols(\"x\")"
      ],
      "metadata": {
        "id": "XQviMu9KmhP5"
      },
      "execution_count": null,
      "outputs": []
    },
    {
      "cell_type": "code",
      "source": [
        "'con objetos simbolicos'\n",
        "\n",
        "Y = np.array([[x**2,sy.sin(x)],[x,x]])\n",
        "q = sy.Matrix(Y)\n",
        "q"
      ],
      "metadata": {
        "colab": {
          "base_uri": "https://localhost:8080/",
          "height": 58
        },
        "id": "6NQ5_urmm8P5",
        "outputId": "53a97ee7-ad75-4362-9ee9-aef0900df817"
      },
      "execution_count": null,
      "outputs": [
        {
          "output_type": "execute_result",
          "data": {
            "text/plain": [
              "Matrix([\n",
              "[x**2, sin(x)],\n",
              "[   x,      x]])"
            ],
            "text/latex": "$\\displaystyle \\left[\\begin{matrix}x^{2} & \\sin{\\left(x \\right)}\\\\x & x\\end{matrix}\\right]$"
          },
          "metadata": {},
          "execution_count": 75
        }
      ]
    },
    {
      "cell_type": "code",
      "source": [
        "'multiplicacion'\n",
        "q@q\n",
        "'inversa'\n",
        "q.inv()"
      ],
      "metadata": {
        "colab": {
          "base_uri": "https://localhost:8080/",
          "height": 69
        },
        "id": "1H5elz7jnEKY",
        "outputId": "097eddf9-62ec-45e5-d3e8-e51577ef8e2d"
      },
      "execution_count": null,
      "outputs": [
        {
          "output_type": "execute_result",
          "data": {
            "text/plain": [
              "Matrix([\n",
              "[   1/(x**2 - sin(x)), -sin(x)/(x**3 - x*sin(x))],\n",
              "[-x/(x**3 - x*sin(x)),    x**2/(x**3 - x*sin(x))]])"
            ],
            "text/latex": "$\\displaystyle \\left[\\begin{matrix}\\frac{1}{x^{2} - \\sin{\\left(x \\right)}} & - \\frac{\\sin{\\left(x \\right)}}{x^{3} - x \\sin{\\left(x \\right)}}\\\\- \\frac{x}{x^{3} - x \\sin{\\left(x \\right)}} & \\frac{x^{2}}{x^{3} - x \\sin{\\left(x \\right)}}\\end{matrix}\\right]$"
          },
          "metadata": {},
          "execution_count": 77
        }
      ]
    },
    {
      "cell_type": "markdown",
      "source": [
        "# Actividad:\n",
        "\n",
        "1. Construir un programa que permita multiplicar dos matrices\n",
        "\n",
        "2. Cosntruir un programa que permita construir una regresion lineal simple empleando lo que sigue:\n",
        "\n",
        "3. Construir un programa que permita calcular una regresion bidimensional y hacer su representación .\n",
        "\n",
        "\n",
        "Operaciones matricial con regresión lineal.\n",
        "\n",
        "Cuando se desea hacer una regresion lineal multivariada, existen diferentes formas de realizar la regresión, una de ellas es encontrar el error cuadrático medio y miniminzar el conjunto de parámetros de la regresión emplando algún metodo de minimización, otra forma es encontrar la expresión analítica en forma matricial para enoncontrar el conjunto de parametros de la regresión. En este último caso, la regresion lineal viene dada por la siguiente expresion generalizada:\n",
        "\n",
        "\n",
        "- $\\Theta = (X^T X)^{-1} X^T y$\n",
        "\n",
        "donte $\\Theta$ es la matriz de parametros asociados a la regresión lineal, X la matriz de características y y los valos esperados, así, si tenemos una conjunto de datos en N dimensiones la recta, plano o hyperplano puede ser calculado como:\n",
        "\n",
        "$$Y=\\Theta X^T$$\n",
        "\n",
        "\n",
        "En el caso de dos dimensiones, tenemos lo siguiente, Supongamos que X, y Y presentan un comportamiento lineal, y vienen dados por:\n",
        "\n",
        "\n",
        "- Sea $\\vec{X}=x^1, x^2, x^3, x^4, ..., x^m$\n",
        "- Sea $\\vec{Y}=y^1, y^2, y^3, y^4, ..., y^m$\n",
        "\n",
        "Para determinar la ecuacion de la recta, hay que conocer los párametros $\\theta_0 $, $\\theta_1$, que cumplen que :   $y^{i} = \\theta_1 x^{i} + \\theta_0$ la anterior expresion puede ser escrita como:\n",
        "\n",
        "\\begin{equation}\n",
        "\\begin{bmatrix}\n",
        "y^{1}\\\\\n",
        "y^{2}\\\\\n",
        "\\vdots\\\\\n",
        "y^{m}\\\\\n",
        "\\end{bmatrix}=\n",
        "\\begin{bmatrix}\n",
        "\\theta_0 & \\theta_1 \\\\\n",
        "\\end{bmatrix}\n",
        "\\begin{bmatrix}\n",
        "1 & 1 & \\cdots & 1 \\\\\n",
        "x_1^{1} & x_1^{2} & \\cdots & x_1^{m} \\\\\n",
        "\\end{bmatrix}\n",
        "\\end{equation}\n",
        "\n",
        "\n",
        "Para determinar la matriz de theta entonces se puede aplicar la ecuación:\n",
        "\n",
        "- $\\Theta = (X^T X)^{-1} X^T y$\n",
        "\n",
        "donde:\n",
        "\\begin{equation}\n",
        "X=\n",
        "\\begin{bmatrix}\n",
        "1 & x_1^{1} \\\\\n",
        "1 & x_1^{2} \\\\\n",
        "\\vdots & \\vdots \\\\\n",
        "1 & x_1^{m}\n",
        "\\end{bmatrix}\n",
        "\\end{equation}\n",
        "\n",
        "y\n",
        "\n",
        "\n",
        "\\begin{equation}\n",
        "y=\n",
        "\\begin{bmatrix}\n",
        "y^1 \\\\\n",
        "y^2 \\\\\n",
        "\\vdots\\\\\n",
        "y^m\n",
        "\\end{bmatrix}\n",
        "\\end{equation}\n",
        "\n",
        "Su tarea será construir un programa que realice la regresión lineal para los siguientes puntos:\n",
        "```python\n",
        "N = 10\n",
        "x1 = np.linspace(0, 10, N)\n",
        "noise=2*np.random.random(N)-1\n",
        "y = 0.9*x1 + noise\n",
        "```\n",
        "\n",
        "\n",
        "\n",
        "Generalice para el siguiente problema bidimensional:\n",
        "\n",
        "\n",
        "```python\n",
        "N = 10\n",
        "x1 = np.linspace(-1, 1, N)\n",
        "x2 = np.linspace(-2, 2, N)\n",
        "noise1=2*np.random.random(N)-1\n",
        "noise2=2*np.random.random(N)-1\n",
        "y = 2*(x1+noise1) - 3*(x2+noise2) + 0.0 #+ 4*np.random.random(100)\n",
        "\n",
        "N = 10\n",
        "X1, X2 = np.meshgrid(x1,x2)\n",
        "Y = 2*X1 - 3*X2 + 0.0\n",
        "fig, ax = plt.subplots(subplot_kw={\"projection\": \"3d\"})\n",
        "surf = ax.plot_surface(X1, X2, Y)\n",
        "#scatter = ax.scatter(x1, x2, y,\"-\")\n",
        "```\n",
        "\n",
        "\n",
        "\n",
        "\n",
        "\n"
      ],
      "metadata": {
        "id": "k9jPDzNSjgnZ"
      }
    },
    {
      "cell_type": "markdown",
      "source": [
        "***Punto 1. Construir un programa que permita multiplicar dos matrices***"
      ],
      "metadata": {
        "id": "plIEcjDlAyuc"
      }
    },
    {
      "cell_type": "code",
      "source": [
        "A = np.random.randint(0,10,(3,2))\n",
        "B = np.random.randint(0,10,(2,3))\n",
        "A,B"
      ],
      "metadata": {
        "colab": {
          "base_uri": "https://localhost:8080/"
        },
        "id": "4NRI2nSHXr6X",
        "outputId": "33e9fb76-6d58-468b-dd1d-eca421661de5"
      },
      "execution_count": null,
      "outputs": [
        {
          "output_type": "execute_result",
          "data": {
            "text/plain": [
              "(array([[3, 3],\n",
              "        [8, 0],\n",
              "        [5, 6]]),\n",
              " array([[3, 5, 9],\n",
              "        [6, 3, 1]]))"
            ]
          },
          "metadata": {},
          "execution_count": 113
        }
      ]
    },
    {
      "cell_type": "code",
      "source": [
        "def mult(A,B):\n",
        "  n,m = np.shape(A)\n",
        "  l,p = np.shape(B)\n",
        "  if (m==l):\n",
        "    M = np.zeros((n,p))\n",
        "    sum = 0\n",
        "    for i in range(0,n):\n",
        "     for j in range(0,p):\n",
        "      for r in range(len(B)):\n",
        "       M[i][j] += A[i][r]*B[r][j]\n",
        "    return M\n",
        "mult(A,B)"
      ],
      "metadata": {
        "colab": {
          "base_uri": "https://localhost:8080/"
        },
        "id": "bLPuu_Z9YviV",
        "outputId": "e88b172e-5d3d-482d-be04-abdc98db88e4"
      },
      "execution_count": null,
      "outputs": [
        {
          "output_type": "execute_result",
          "data": {
            "text/plain": [
              "array([[27., 24., 30.],\n",
              "       [24., 40., 72.],\n",
              "       [51., 43., 51.]])"
            ]
          },
          "metadata": {},
          "execution_count": 131
        }
      ]
    },
    {
      "cell_type": "code",
      "source": [
        "#comprobar\n",
        "A@B"
      ],
      "metadata": {
        "colab": {
          "base_uri": "https://localhost:8080/"
        },
        "id": "we3sFNeke74Y",
        "outputId": "c3a0c922-f3ec-4d65-b6aa-925984468a0c"
      },
      "execution_count": null,
      "outputs": [
        {
          "output_type": "execute_result",
          "data": {
            "text/plain": [
              "array([[27, 24, 30],\n",
              "       [24, 40, 72],\n",
              "       [51, 43, 51]])"
            ]
          },
          "metadata": {},
          "execution_count": 132
        }
      ]
    },
    {
      "cell_type": "code",
      "source": [
        "sum = 0\n",
        "for i,j in range(0,2):\n",
        "  for r in range(0,2):\n",
        "    sum += A[i,r]*B[r,j]"
      ],
      "metadata": {
        "id": "3poNAXp4abX2"
      },
      "execution_count": null,
      "outputs": []
    },
    {
      "cell_type": "markdown",
      "source": [
        "***Punto 2. Cosntruir un programa que permita construir una regresion lineal simple***"
      ],
      "metadata": {
        "id": "k-6M4UfZeUgL"
      }
    },
    {
      "cell_type": "code",
      "source": [
        "N = 10\n",
        "x1 = np.linspace(0, 10, N)\n",
        "noise=2*np.random.random(N)-1\n",
        "y = 0.9*x1 + noise\n",
        "\n",
        "x = sy.symbols(\"x\")\n",
        "X = np.zeros((len(x1),2))\n",
        "X[:,0] = 1\n",
        "X[:,1] = x1\n",
        "X = np.matrix(X)\n",
        "sy.Matrix(X.round())\n",
        "X"
      ],
      "metadata": {
        "id": "c-2gLdWBeaOU",
        "colab": {
          "base_uri": "https://localhost:8080/"
        },
        "outputId": "b2267d2f-3541-4a3d-ba67-2c1af2675eee"
      },
      "execution_count": 6,
      "outputs": [
        {
          "output_type": "execute_result",
          "data": {
            "text/plain": [
              "matrix([[ 1.        ,  0.        ],\n",
              "        [ 1.        ,  1.11111111],\n",
              "        [ 1.        ,  2.22222222],\n",
              "        [ 1.        ,  3.33333333],\n",
              "        [ 1.        ,  4.44444444],\n",
              "        [ 1.        ,  5.55555556],\n",
              "        [ 1.        ,  6.66666667],\n",
              "        [ 1.        ,  7.77777778],\n",
              "        [ 1.        ,  8.88888889],\n",
              "        [ 1.        , 10.        ]])"
            ]
          },
          "metadata": {},
          "execution_count": 6
        }
      ]
    },
    {
      "cell_type": "code",
      "source": [
        "sy.Matrix(y)\n",
        "#Matriz de parametros asociados a la regresiòn lineal\n",
        "theta = np.linalg.inv(X.T @ X)@X.T@y\n",
        "sy.Matrix(theta)\n",
        "Y = theta@X.T\n",
        "sy.Matrix(Y)\n",
        "\n",
        "plt.figure()\n",
        "plt.plot(x1,y,'*',label=\"Datos\")\n",
        "plt.show()"
      ],
      "metadata": {
        "colab": {
          "base_uri": "https://localhost:8080/",
          "height": 450
        },
        "id": "Op8nA1M7Jyk_",
        "outputId": "56d34383-fa28-47d4-e017-67a87f31a9b9"
      },
      "execution_count": 8,
      "outputs": [
        {
          "output_type": "execute_result",
          "data": {
            "text/plain": [
              "[<matplotlib.lines.Line2D at 0x798ee8593850>]"
            ]
          },
          "metadata": {},
          "execution_count": 8
        },
        {
          "output_type": "display_data",
          "data": {
            "text/plain": [
              "<Figure size 640x480 with 1 Axes>"
            ],
            "image/png": "[encoded data removed]"
          },
          "metadata": {}
        }
      ]
    },
    {
      "cell_type": "markdown",
      "source": [
        "***Punto 3. Construir un programa que permita calcular una regresion bidimensional y hacer su representación***"
      ],
      "metadata": {
        "id": "j6EZ9muTea4U"
      }
    },
    {
      "cell_type": "code",
      "source": [
        "N = 20\n",
        "x1 = np.linspace(-1, 1, N)\n",
        "x2 = np.linspace(-1, 1, N)\n",
        "noise1=2*np.random.random(N)-1\n",
        "noise2=2*np.random.random(N)-1\n",
        "y1 = 2*(x1+noise1) - 3*(x2+noise2) + 0.0 #+ 4*np.random.random(100)"
      ],
      "metadata": {
        "id": "OAJv2xeBepME"
      },
      "execution_count": 9,
      "outputs": []
    },
    {
      "cell_type": "code",
      "source": [
        "Xn = np.zeros((len(x1),3))\n",
        "Xn[:,0] = 1\n",
        "Xn[:,1] = x1\n",
        "Xn[:,2] = x2\n",
        "Xn = np.matrix(Xn)\n",
        "sy.Matrix(Xn.round(2))"
      ],
      "metadata": {
        "colab": {
          "base_uri": "https://localhost:8080/",
          "height": 424
        },
        "id": "Q_QqgdiIJ7JM",
        "outputId": "99036d2a-6548-4998-f81f-f4f11aeff651"
      },
      "execution_count": 10,
      "outputs": [
        {
          "output_type": "execute_result",
          "data": {
            "text/plain": [
              "Matrix([\n",
              "[1.0,  -1.0,  -1.0],\n",
              "[1.0, -0.89, -0.89],\n",
              "[1.0, -0.79, -0.79],\n",
              "[1.0, -0.68, -0.68],\n",
              "[1.0, -0.58, -0.58],\n",
              "[1.0, -0.47, -0.47],\n",
              "[1.0, -0.37, -0.37],\n",
              "[1.0, -0.26, -0.26],\n",
              "[1.0, -0.16, -0.16],\n",
              "[1.0, -0.05, -0.05],\n",
              "[1.0,  0.05,  0.05],\n",
              "[1.0,  0.16,  0.16],\n",
              "[1.0,  0.26,  0.26],\n",
              "[1.0,  0.37,  0.37],\n",
              "[1.0,  0.47,  0.47],\n",
              "[1.0,  0.58,  0.58],\n",
              "[1.0,  0.68,  0.68],\n",
              "[1.0,  0.79,  0.79],\n",
              "[1.0,  0.89,  0.89],\n",
              "[1.0,   1.0,   1.0]])"
            ],
            "text/latex": "$\\displaystyle \\left[\\begin{matrix}1.0 & -1.0 & -1.0\\\\1.0 & -0.89 & -0.89\\\\1.0 & -0.79 & -0.79\\\\1.0 & -0.68 & -0.68\\\\1.0 & -0.58 & -0.58\\\\1.0 & -0.47 & -0.47\\\\1.0 & -0.37 & -0.37\\\\1.0 & -0.26 & -0.26\\\\1.0 & -0.16 & -0.16\\\\1.0 & -0.05 & -0.05\\\\1.0 & 0.05 & 0.05\\\\1.0 & 0.16 & 0.16\\\\1.0 & 0.26 & 0.26\\\\1.0 & 0.37 & 0.37\\\\1.0 & 0.47 & 0.47\\\\1.0 & 0.58 & 0.58\\\\1.0 & 0.68 & 0.68\\\\1.0 & 0.79 & 0.79\\\\1.0 & 0.89 & 0.89\\\\1.0 & 1.0 & 1.0\\end{matrix}\\right]$"
          },
          "metadata": {},
          "execution_count": 10
        }
      ]
    },
    {
      "cell_type": "code",
      "source": [
        "thetan = (Xn.T @ Xn).I @ Xn.T @ y1\n",
        "sy.Matrix(thetan)\n",
        "Yn = thetan@Xn.T\n",
        "sy.Matrix(Yn)"
      ],
      "metadata": {
        "colab": {
          "base_uri": "https://localhost:8080/",
          "height": 58
        },
        "id": "w7LuXgr8J-mE",
        "outputId": "36ba082d-c047-473f-b6ee-3711e6479e3e"
      },
      "execution_count": 11,
      "outputs": [
        {
          "output_type": "execute_result",
          "data": {
            "text/plain": [
              "Matrix([[0.291636216791285, 0.248111766517577, 0.20458731624387, 0.161062865970163, 0.117538415696456, 0.0740139654227494, 0.0304895151490423, -0.0130349351246647, -0.0565593853983717, -0.100083835672079, -0.143608285945786, -0.187132736219493, -0.2306571864932, -0.274181636766907, -0.317706087040614, -0.361230537314321, -0.404754987588028, -0.448279437861735, -0.491803888135442, -0.535328338409149]])"
            ],
            "text/latex": "$\\displaystyle \\left[\\begin{array}{cccccccccccccccccccc}0.291636216791285 & 0.248111766517577 & 0.20458731624387 & 0.161062865970163 & 0.117538415696456 & 0.0740139654227494 & 0.0304895151490423 & -0.0130349351246647 & -0.0565593853983717 & -0.100083835672079 & -0.143608285945786 & -0.187132736219493 & -0.2306571864932 & -0.274181636766907 & -0.317706087040614 & -0.361230537314321 & -0.404754987588028 & -0.448279437861735 & -0.491803888135442 & -0.535328338409149\\end{array}\\right]$"
          },
          "metadata": {},
          "execution_count": 11
        }
      ]
    },
    {
      "cell_type": "code",
      "source": [
        "N = 10\n",
        "X1, X2 = np.meshgrid(x1,x2)\n",
        "Y = 2*X1 - 3*X2 + 0.0\n",
        "fig, ax = plt.subplots(subplot_kw={\"projection\": \"3d\"})\n",
        "surf = ax.plot_surface(X1, X2, Yn,color='palevioletred')"
      ],
      "metadata": {
        "colab": {
          "base_uri": "https://localhost:8080/",
          "height": 415
        },
        "id": "EzIDNiCdKCsc",
        "outputId": "b47ff131-3be7-450b-f5a0-171b9385b81a"
      },
      "execution_count": 12,
      "outputs": [
        {
          "output_type": "display_data",
          "data": {
            "text/plain": [
              "<Figure size 640x480 with 1 Axes>"
            ],
            "image/png": "[encoded data removed]"
          },
          "metadata": {}
        }
      ]
    },
    {
      "cell_type": "markdown",
      "source": [
        "***Punto 4. Construir un programa que permita realizar eliminacion de Gauss- Jordan de una matriz***"
      ],
      "metadata": {
        "id": "XYQxs_cjA3Jv"
      }
    },
    {
      "cell_type": "code",
      "source": [
        "L = np.array([[2.,-4,0],\n",
        "              [-4,5,-3],\n",
        "              [0,-3,5]])\n",
        "J = np.matrix(L)\n",
        "sy.Matrix(J)"
      ],
      "metadata": {
        "colab": {
          "base_uri": "https://localhost:8080/",
          "height": 78
        },
        "id": "-iYGySwAA4NP",
        "outputId": "a0721440-d98e-4d62-f95a-e41c641c2a45"
      },
      "execution_count": null,
      "outputs": [
        {
          "output_type": "execute_result",
          "data": {
            "text/plain": [
              "Matrix([\n",
              "[ 2.0, -4.0,    0],\n",
              "[-4.0,  5.0, -3.0],\n",
              "[   0, -3.0,  5.0]])"
            ],
            "text/latex": "$\\displaystyle \\left[\\begin{matrix}2.0 & -4.0 & 0\\\\-4.0 & 5.0 & -3.0\\\\0 & -3.0 & 5.0\\end{matrix}\\right]$"
          },
          "metadata": {},
          "execution_count": 65
        }
      ]
    },
    {
      "cell_type": "code",
      "source": [
        "#Operaciones para eliminacion Gaussiana\n",
        "\n",
        "def change(i,j,J):\n",
        "  F = J.copy()\n",
        "  F[[j,i]] = F[[i,j]]\n",
        "  return F\n",
        "\n",
        "def mul_lambda(i,lamb,J):\n",
        "  F = J.copy()\n",
        "  F[i] = lamb*F[i]\n",
        "  return F\n",
        "\n",
        "def mul_sum(i,j,lamb,J):\n",
        "  F = J.copy()\n",
        "  F[j] = lamb*F[i] + F[j]\n",
        "  return F"
      ],
      "metadata": {
        "id": "ljzESGuUEH54"
      },
      "execution_count": null,
      "outputs": []
    },
    {
      "cell_type": "markdown",
      "source": [
        "***Eliminacion gaussiana. Matriz triangular superior***"
      ],
      "metadata": {
        "id": "JJhEyQ9CTV-1"
      }
    },
    {
      "cell_type": "code",
      "source": [
        "J1 = mul_sum(0,1,2,J).copy()\n",
        "J1 = mul_sum(1,2,-1,J1).copy()\n",
        "J1 = mul_lambda(1,-1/3,J1).copy()\n",
        "J1 = mul_lambda(2,1/8,J1).copy()\n",
        "J1 = mul_lambda(0,1/2,J1).copy()\n",
        "sy.Matrix(J1)"
      ],
      "metadata": {
        "colab": {
          "base_uri": "https://localhost:8080/",
          "height": 78
        },
        "id": "c6uGeeO6QT-B",
        "outputId": "a9abca5c-c104-411d-ebaa-8707f5b4d40e"
      },
      "execution_count": null,
      "outputs": [
        {
          "output_type": "execute_result",
          "data": {
            "text/plain": [
              "Matrix([\n",
              "[1.0, -2.0,   0],\n",
              "[  0,  1.0, 1.0],\n",
              "[  0,    0, 1.0]])"
            ],
            "text/latex": "$\\displaystyle \\left[\\begin{matrix}1.0 & -2.0 & 0\\\\0 & 1.0 & 1.0\\\\0 & 0 & 1.0\\end{matrix}\\right]$"
          },
          "metadata": {},
          "execution_count": 101
        }
      ]
    }
  ]
}