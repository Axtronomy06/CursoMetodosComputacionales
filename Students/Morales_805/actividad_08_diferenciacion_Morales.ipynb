{
  "cells": [
    {
      "cell_type": "markdown",
      "metadata": {
        "id": "NCx8KEwrIRxy"
      },
      "source": [
        "<a href=\"https://colab.research.google.com/github/hernansalinas/autogrades/blob/main/Actividades_clase/Actividad_08_diferenciacion.ipynb\" target=\"_parent\"><img src=\"https://colab.research.google.com/assets/colab-badge.svg\" alt=\"Open In Colab\"/></a>"
      ]
    },
    {
      "cell_type": "markdown",
      "metadata": {
        "id": "OmQK_OJm5k08"
      },
      "source": [
        "# Calculo de derivadas\n",
        "\n",
        "\n",
        "## Diferencias finitas de primer orden\n",
        "El método de diferencias finitas aproxima derivadas numéricamente.\n",
        "\n",
        "\n",
        "- Aproximación de primer orden hacia adelante:\n",
        "\n",
        "\\begin{equation}\n",
        "      f'(x_k) \\approx \\frac{f(x_{k+1}) - f(x_k)}{h}\n",
        "\\end{equation}\n",
        "\n",
        "- Aproximación de primer orden hacia atrás:\n",
        "\n",
        "\\begin{equation}\n",
        "      f'(x_k) \\approx \\frac{f(x_k) - f(x_{k-1})}{h}\n",
        "\\end{equation}\n",
        "\n",
        "\n",
        "\n",
        "\\begin{equation}\n",
        "\\text{Error} = \\frac{h}{2} f''(\\xi)\n",
        "\\end{equation}\n",
        "\n",
        "donde $x$ está entre $x_k$ y $x_{k+1}$.\n",
        "## Diferencias finitas de segundo orden, diferencia central\n",
        "\n",
        "\n",
        "Utilizando la fórmula de Taylor de segundo grado:\n",
        "\\begin{equation}\n",
        "f(x) = f(x_k) + f'(x_k)(x - x_k) + \\frac{f''(x_k)}{2}(x - x_k)^2 + R_2\n",
        "\\end{equation}\n",
        "\n",
        "Evaluando en $x = x_{k+1} y x = x_{k-1}$:\n",
        "\\begin{equation}\n",
        "f(x_{k+1}) = f(x_k) + f'(x_k)h + \\frac{f''(x_k)}{2}h^2 + O(h^3)\n",
        "\\end{equation}\n",
        "\n",
        "\\begin{equation}\n",
        "f(x_{k-1}) = f(x_k) - f'(x_k)h + \\frac{f''(x_k)}{2}h^2 + O(h^3)\n",
        "\\end{equation}\n",
        "\n",
        "Restando estas ecuaciones y despejando $f'(x_k)$:\n",
        "\n",
        "\\begin{equation}\n",
        "f'(x_k) \\approx \\frac{f(x_{k+1}) - f(x_{k-1})}{2h}\n",
        "\\end{equation}\n",
        "\n",
        "\n",
        "\n",
        "\n",
        "El error en la la aproximación de segundo orden es:\n",
        "\\begin{equation}\n",
        "f'(x_k) \\approx \\frac{f(x_{k+1}) - f(x_{k-1})}{2h}\n",
        "\\end{equation}\n",
        "\n",
        "El error de truncamiento es:\n",
        "\\begin{equation}\n",
        "\\text{Error} = \\frac{h^2}{6} f'''(\\xi)\n",
        "\\end{equation}\n",
        "\n",
        "donde $\\xi$ está entre $x_{k-1}$ y $x_{k+1}$."
      ]
    },
    {
      "cell_type": "markdown",
      "metadata": {
        "id": "Whc2Zv4IEKRL"
      },
      "source": [
        "\n",
        "# Actividad\n",
        "\n",
        "1. Construya una función que permita calcular la derivada de una funcion empleando el metodo de diferencias centrales para aproximar el cálculo de la derivada con la función:\n",
        "\n",
        "$y=e^{x^2}\\sin x $\n",
        "\n",
        "Compruebe  su solución empleando la derivada de sympy.\n",
        "\n",
        "Analice que  pasa con la derivada cuando varia el valor de h.\n",
        "\n",
        "\n",
        "2. Construya una función que permita calcular el metodo de diferencias centrales derivada para los siguientes puntos experimentales, emplee una pandas.\n",
        "\n"
      ]
    },
    {
      "cell_type": "markdown",
      "metadata": {
        "id": "dzs4T6lzD2OZ"
      },
      "source": [
        "3. El potencial eléctrico de un anillo de radio R, en la parte superior z del anillo viene dado por:\n",
        "\n",
        "\n",
        "\\begin{equation}\n",
        "V = \\frac{kq_{tot}}{\\sqrt{z^2+R^2}}\n",
        "\\end{equation}\n",
        "\n",
        "Calcule el campo eléctrico para z>0 y R=0.1mm. Reescale el problema en unidades de $kq_{top}$ empleando:\n",
        "\n",
        "1. La librearia sympy.\n",
        "\n",
        "2. Calcular el campo en el punto  $z = 0.1mm$ empleando el metodo np.grad\n",
        "\n",
        "3. Calcular el campo para diferentes valores de z con z>0,,  empleando np.grad Construya un gráfico de E vs z.\n"
      ]
    },
    {
      "cell_type": "code",
      "source": [
        "#Librerias\n",
        "import numpy as np\n",
        "import matplotlib.pylab as plt\n",
        "import sympy as sp\n",
        "import pandas as pd"
      ],
      "metadata": {
        "id": "AESTmQfQMjjQ"
      },
      "execution_count": null,
      "outputs": []
    },
    {
      "cell_type": "markdown",
      "source": [
        "***Punto 1***"
      ],
      "metadata": {
        "id": "xopCptjhNzEL"
      }
    },
    {
      "cell_type": "code",
      "execution_count": null,
      "metadata": {
        "id": "FXwafGtSDx7i"
      },
      "outputs": [],
      "source": [
        "y = lambda x: np.exp(x**2)*np.sin(x)\n",
        "x = np.linspace(-1,1,100)\n",
        "\"\"\"\n",
        "Derivadas centrales\n",
        "y : funcion\n",
        "x : punto para calculo de derivada\n",
        "h : dif de x\n",
        "\"\"\"\n",
        "def difcent(x,y,h):\n",
        "  dy = (y(x+h)-y(x-h))/(2*h)\n",
        "  return dy\n",
        "\n",
        "dy = difcent(x,y,h=1E-2)"
      ]
    },
    {
      "cell_type": "markdown",
      "source": [
        "***Derivada de la funcion con sympy***"
      ],
      "metadata": {
        "id": "LP0xtOdlOHFJ"
      }
    },
    {
      "cell_type": "code",
      "source": [
        "sp.init_printing()\n",
        "z = sp.symbols('z')\n",
        "g = lambda z: sp.exp(z**2)*sp.sin(z)\n",
        "g(z)\n"
      ],
      "metadata": {
        "colab": {
          "base_uri": "https://localhost:8080/",
          "height": 40
        },
        "id": "L9AyezWJUlwY",
        "outputId": "5ff6c230-2ba9-4fb9-c62a-70911c89f87b"
      },
      "execution_count": null,
      "outputs": [
        {
          "output_type": "execute_result",
          "data": {
            "text/plain": [
              " ⎛ 2⎞       \n",
              " ⎝z ⎠       \n",
              "ℯ    ⋅sin(z)"
            ],
            "text/latex": "$\\displaystyle e^{z^{2}} \\sin{\\left(z \\right)}$"
          },
          "metadata": {},
          "execution_count": 3
        }
      ]
    },
    {
      "cell_type": "code",
      "source": [
        "#derivada de la funcion\n",
        "dg = sp.diff(g(z),z,1)\n",
        "Z = sp.lambdify(z,dg,'numpy')"
      ],
      "metadata": {
        "id": "TQHaLxB_VHdO"
      },
      "execution_count": null,
      "outputs": []
    },
    {
      "cell_type": "code",
      "execution_count": null,
      "metadata": {
        "id": "dPGmqGCIDK2n",
        "colab": {
          "base_uri": "https://localhost:8080/",
          "height": 452
        },
        "outputId": "3993e15f-344e-409b-96c6-b583a26e5cf4"
      },
      "outputs": [
        {
          "output_type": "display_data",
          "data": {
            "text/plain": [
              "<Figure size 640x480 with 1 Axes>"
            ],
            "image/png": "[encoded data removed]"
          },
          "metadata": {}
        }
      ],
      "source": [
        "plt.figure()\n",
        "plt.title('Derivada por Dif.Centrales')\n",
        "plt.plot(x,y(x),label='Funcion')\n",
        "plt.plot(x,dy,\"o\",label='Derivada')\n",
        "plt.plot(x,Z(x),\".\", label='Derivada sympy')\n",
        "plt.legend()\n",
        "plt.show()\n",
        "#fig, axs = plt.subplots(ncols=2,nrows=1)"
      ]
    },
    {
      "cell_type": "markdown",
      "source": [
        "***Punto 2. Pandas***"
      ],
      "metadata": {
        "id": "S3XTrqKhOqBC"
      }
    },
    {
      "cell_type": "code",
      "source": [
        "import pandas as pd\n",
        "\n",
        "df = pd.read_csv('https://raw.githubusercontent.com/hernansalinas/autogradesMetodosComputacionales/main/Dataset/datos_pendulo.csv')\n",
        "dp = pd.DataFrame(df)\n",
        "dp"
      ],
      "metadata": {
        "id": "gPJsGfKITnT1",
        "colab": {
          "base_uri": "https://localhost:8080/",
          "height": 423
        },
        "outputId": "22c178c9-2737-4cc4-d26c-9309be026cb8"
      },
      "execution_count": null,
      "outputs": [
        {
          "output_type": "execute_result",
          "data": {
            "text/plain": [
              "      Unnamed: 0  Tiempo[ms]  AnguloDeg  AnguloRad\n",
              "0              0           9 -30.710388  -0.535997\n",
              "1              1          42 -30.017673  -0.523907\n",
              "2              2          75 -28.762547  -0.502001\n",
              "3              3         108 -26.507523  -0.462644\n",
              "4              4         142 -24.611229  -0.429547\n",
              "...          ...         ...        ...        ...\n",
              "2842        2842       94709   4.937576   0.086177\n",
              "2843        2843       94743   6.479851   0.113095\n",
              "2844        2844       94776   7.940689   0.138591\n",
              "2845        2845       94809   9.318092   0.162631\n",
              "2846        2846       94843  10.637817   0.185665\n",
              "\n",
              "[2847 rows x 4 columns]"
            ],
            "text/html": [
              "\n",
              "  <div id=\"df-ec8a48fb-f2a7-4315-8128-34552cebd8b3\" class=\"colab-df-container\">\n",
              "    <div>\n",
              "<style scoped>\n",
              "    .dataframe tbody tr th:only-of-type {\n",
              "        vertical-align: middle;\n",
              "    }\n",
              "\n",
              "    .dataframe tbody tr th {\n",
              "        vertical-align: top;\n",
              "    }\n",
              "\n",
              "    .dataframe thead th {\n",
              "        text-align: right;\n",
              "    }\n",
              "</style>\n",
              "<table border=\"1\" class=\"dataframe\">\n",
              "  <thead>\n",
              "    <tr style=\"text-align: right;\">\n",
              "      <th></th>\n",
              "      <th>Unnamed: 0</th>\n",
              "      <th>Tiempo[ms]</th>\n",
              "      <th>AnguloDeg</th>\n",
              "      <th>AnguloRad</th>\n",
              "    </tr>\n",
              "  </thead>\n",
              "  <tbody>\n",
              "    <tr>\n",
              "      <th>0</th>\n",
              "      <td>0</td>\n",
              "      <td>9</td>\n",
              "      <td>-30.710388</td>\n",
              "      <td>-0.535997</td>\n",
              "    </tr>\n",
              "    <tr>\n",
              "      <th>1</th>\n",
              "      <td>1</td>\n",
              "      <td>42</td>\n",
              "      <td>-30.017673</td>\n",
              "      <td>-0.523907</td>\n",
              "    </tr>\n",
              "    <tr>\n",
              "      <th>2</th>\n",
              "      <td>2</td>\n",
              "      <td>75</td>\n",
              "      <td>-28.762547</td>\n",
              "      <td>-0.502001</td>\n",
              "    </tr>\n",
              "    <tr>\n",
              "      <th>3</th>\n",
              "      <td>3</td>\n",
              "      <td>108</td>\n",
              "      <td>-26.507523</td>\n",
              "      <td>-0.462644</td>\n",
              "    </tr>\n",
              "    <tr>\n",
              "      <th>4</th>\n",
              "      <td>4</td>\n",
              "      <td>142</td>\n",
              "      <td>-24.611229</td>\n",
              "      <td>-0.429547</td>\n",
              "    </tr>\n",
              "    <tr>\n",
              "      <th>...</th>\n",
              "      <td>...</td>\n",
              "      <td>...</td>\n",
              "      <td>...</td>\n",
              "      <td>...</td>\n",
              "    </tr>\n",
              "    <tr>\n",
              "      <th>2842</th>\n",
              "      <td>2842</td>\n",
              "      <td>94709</td>\n",
              "      <td>4.937576</td>\n",
              "      <td>0.086177</td>\n",
              "    </tr>\n",
              "    <tr>\n",
              "      <th>2843</th>\n",
              "      <td>2843</td>\n",
              "      <td>94743</td>\n",
              "      <td>6.479851</td>\n",
              "      <td>0.113095</td>\n",
              "    </tr>\n",
              "    <tr>\n",
              "      <th>2844</th>\n",
              "      <td>2844</td>\n",
              "      <td>94776</td>\n",
              "      <td>7.940689</td>\n",
              "      <td>0.138591</td>\n",
              "    </tr>\n",
              "    <tr>\n",
              "      <th>2845</th>\n",
              "      <td>2845</td>\n",
              "      <td>94809</td>\n",
              "      <td>9.318092</td>\n",
              "      <td>0.162631</td>\n",
              "    </tr>\n",
              "    <tr>\n",
              "      <th>2846</th>\n",
              "      <td>2846</td>\n",
              "      <td>94843</td>\n",
              "      <td>10.637817</td>\n",
              "      <td>0.185665</td>\n",
              "    </tr>\n",
              "  </tbody>\n",
              "</table>\n",
              "<p>2847 rows × 4 columns</p>\n",
              "</div>\n",
              "    <div class=\"colab-df-buttons\">\n",
              "\n",
              "  <div class=\"colab-df-container\">\n",
              "    <button class=\"colab-df-convert\" onclick=\"convertToInteractive('df-ec8a48fb-f2a7-4315-8128-34552cebd8b3')\"\n",
              "            title=\"Convert this dataframe to an interactive table.\"\n",
              "            style=\"display:none;\">\n",
              "\n",
              "  <svg xmlns=\"http://www.w3.org/2000/svg\" height=\"24px\" viewBox=\"0 -960 960 960\">\n",
              "    <path d=\"M120-120v-720h720v720H120Zm60-500h600v-160H180v160Zm220 220h160v-160H400v160Zm0 220h160v-160H400v160ZM180-400h160v-160H180v160Zm440 0h160v-160H620v160ZM180-180h160v-160H180v160Zm440 0h160v-160H620v160Z\"/>\n",
              "  </svg>\n",
              "    </button>\n",
              "\n",
              "  <style>\n",
              "    .colab-df-container {\n",
              "      display:flex;\n",
              "      gap: 12px;\n",
              "    }\n",
              "\n",
              "    .colab-df-convert {\n",
              "      background-color: #E8F0FE;\n",
              "      border: none;\n",
              "      border-radius: 50%;\n",
              "      cursor: pointer;\n",
              "      display: none;\n",
              "      fill: #1967D2;\n",
              "      height: 32px;\n",
              "      padding: 0 0 0 0;\n",
              "      width: 32px;\n",
              "    }\n",
              "\n",
              "    .colab-df-convert:hover {\n",
              "      background-color: #E2EBFA;\n",
              "      box-shadow: 0px 1px 2px rgba(60, 64, 67, 0.3), 0px 1px 3px 1px rgba(60, 64, 67, 0.15);\n",
              "      fill: #174EA6;\n",
              "    }\n",
              "\n",
              "    .colab-df-buttons div {\n",
              "      margin-bottom: 4px;\n",
              "    }\n",
              "\n",
              "    [theme=dark] .colab-df-convert {\n",
              "      background-color: #3B4455;\n",
              "      fill: #D2E3FC;\n",
              "    }\n",
              "\n",
              "    [theme=dark] .colab-df-convert:hover {\n",
              "      background-color: #434B5C;\n",
              "      box-shadow: 0px 1px 3px 1px rgba(0, 0, 0, 0.15);\n",
              "      filter: drop-shadow(0px 1px 2px rgba(0, 0, 0, 0.3));\n",
              "      fill: #FFFFFF;\n",
              "    }\n",
              "  </style>\n",
              "\n",
              "    <script>\n",
              "      const buttonEl =\n",
              "        document.querySelector('#df-ec8a48fb-f2a7-4315-8128-34552cebd8b3 button.colab-df-convert');\n",
              "      buttonEl.style.display =\n",
              "        google.colab.kernel.accessAllowed ? 'block' : 'none';\n",
              "\n",
              "      async function convertToInteractive(key) {\n",
              "        const element = document.querySelector('#df-ec8a48fb-f2a7-4315-8128-34552cebd8b3');\n",
              "        const dataTable =\n",
              "          await google.colab.kernel.invokeFunction('convertToInteractive',\n",
              "                                                    [key], {});\n",
              "        if (!dataTable) return;\n",
              "\n",
              "        const docLinkHtml = 'Like what you see? Visit the ' +\n",
              "          '<a target=\"_blank\" href=https://colab.research.google.com/notebooks/data_table.ipynb>data table notebook</a>'\n",
              "          + ' to learn more about interactive tables.';\n",
              "        element.innerHTML = '';\n",
              "        dataTable['output_type'] = 'display_data';\n",
              "        await google.colab.output.renderOutput(dataTable, element);\n",
              "        const docLink = document.createElement('div');\n",
              "        docLink.innerHTML = docLinkHtml;\n",
              "        element.appendChild(docLink);\n",
              "      }\n",
              "    </script>\n",
              "  </div>\n",
              "\n",
              "\n",
              "<div id=\"df-66dd33a8-cf29-432a-92c8-8df3a392218e\">\n",
              "  <button class=\"colab-df-quickchart\" onclick=\"quickchart('df-66dd33a8-cf29-432a-92c8-8df3a392218e')\"\n",
              "            title=\"Suggest charts\"\n",
              "            style=\"display:none;\">\n",
              "\n",
              "<svg xmlns=\"http://www.w3.org/2000/svg\" height=\"24px\"viewBox=\"0 0 24 24\"\n",
              "     width=\"24px\">\n",
              "    <g>\n",
              "        <path d=\"M19 3H5c-1.1 0-2 .9-2 2v14c0 1.1.9 2 2 2h14c1.1 0 2-.9 2-2V5c0-1.1-.9-2-2-2zM9 17H7v-7h2v7zm4 0h-2V7h2v10zm4 0h-2v-4h2v4z\"/>\n",
              "    </g>\n",
              "</svg>\n",
              "  </button>\n",
              "\n",
              "<style>\n",
              "  .colab-df-quickchart {\n",
              "      --bg-color: #E8F0FE;\n",
              "      --fill-color: #1967D2;\n",
              "      --hover-bg-color: #E2EBFA;\n",
              "      --hover-fill-color: #174EA6;\n",
              "      --disabled-fill-color: #AAA;\n",
              "      --disabled-bg-color: #DDD;\n",
              "  }\n",
              "\n",
              "  [theme=dark] .colab-df-quickchart {\n",
              "      --bg-color: #3B4455;\n",
              "      --fill-color: #D2E3FC;\n",
              "      --hover-bg-color: #434B5C;\n",
              "      --hover-fill-color: #FFFFFF;\n",
              "      --disabled-bg-color: #3B4455;\n",
              "      --disabled-fill-color: #666;\n",
              "  }\n",
              "\n",
              "  .colab-df-quickchart {\n",
              "    background-color: var(--bg-color);\n",
              "    border: none;\n",
              "    border-radius: 50%;\n",
              "    cursor: pointer;\n",
              "    display: none;\n",
              "    fill: var(--fill-color);\n",
              "    height: 32px;\n",
              "    padding: 0;\n",
              "    width: 32px;\n",
              "  }\n",
              "\n",
              "  .colab-df-quickchart:hover {\n",
              "    background-color: var(--hover-bg-color);\n",
              "    box-shadow: 0 1px 2px rgba(60, 64, 67, 0.3), 0 1px 3px 1px rgba(60, 64, 67, 0.15);\n",
              "    fill: var(--button-hover-fill-color);\n",
              "  }\n",
              "\n",
              "  .colab-df-quickchart-complete:disabled,\n",
              "  .colab-df-quickchart-complete:disabled:hover {\n",
              "    background-color: var(--disabled-bg-color);\n",
              "    fill: var(--disabled-fill-color);\n",
              "    box-shadow: none;\n",
              "  }\n",
              "\n",
              "  .colab-df-spinner {\n",
              "    border: 2px solid var(--fill-color);\n",
              "    border-color: transparent;\n",
              "    border-bottom-color: var(--fill-color);\n",
              "    animation:\n",
              "      spin 1s steps(1) infinite;\n",
              "  }\n",
              "\n",
              "  @keyframes spin {\n",
              "    0% {\n",
              "      border-color: transparent;\n",
              "      border-bottom-color: var(--fill-color);\n",
              "      border-left-color: var(--fill-color);\n",
              "    }\n",
              "    20% {\n",
              "      border-color: transparent;\n",
              "      border-left-color: var(--fill-color);\n",
              "      border-top-color: var(--fill-color);\n",
              "    }\n",
              "    30% {\n",
              "      border-color: transparent;\n",
              "      border-left-color: var(--fill-color);\n",
              "      border-top-color: var(--fill-color);\n",
              "      border-right-color: var(--fill-color);\n",
              "    }\n",
              "    40% {\n",
              "      border-color: transparent;\n",
              "      border-right-color: var(--fill-color);\n",
              "      border-top-color: var(--fill-color);\n",
              "    }\n",
              "    60% {\n",
              "      border-color: transparent;\n",
              "      border-right-color: var(--fill-color);\n",
              "    }\n",
              "    80% {\n",
              "      border-color: transparent;\n",
              "      border-right-color: var(--fill-color);\n",
              "      border-bottom-color: var(--fill-color);\n",
              "    }\n",
              "    90% {\n",
              "      border-color: transparent;\n",
              "      border-bottom-color: var(--fill-color);\n",
              "    }\n",
              "  }\n",
              "</style>\n",
              "\n",
              "  <script>\n",
              "    async function quickchart(key) {\n",
              "      const quickchartButtonEl =\n",
              "        document.querySelector('#' + key + ' button');\n",
              "      quickchartButtonEl.disabled = true;  // To prevent multiple clicks.\n",
              "      quickchartButtonEl.classList.add('colab-df-spinner');\n",
              "      try {\n",
              "        const charts = await google.colab.kernel.invokeFunction(\n",
              "            'suggestCharts', [key], {});\n",
              "      } catch (error) {\n",
              "        console.error('Error during call to suggestCharts:', error);\n",
              "      }\n",
              "      quickchartButtonEl.classList.remove('colab-df-spinner');\n",
              "      quickchartButtonEl.classList.add('colab-df-quickchart-complete');\n",
              "    }\n",
              "    (() => {\n",
              "      let quickchartButtonEl =\n",
              "        document.querySelector('#df-66dd33a8-cf29-432a-92c8-8df3a392218e button');\n",
              "      quickchartButtonEl.style.display =\n",
              "        google.colab.kernel.accessAllowed ? 'block' : 'none';\n",
              "    })();\n",
              "  </script>\n",
              "</div>\n",
              "\n",
              "  <div id=\"id_132c9771-a873-4486-aaca-b55a4749ec23\">\n",
              "    <style>\n",
              "      .colab-df-generate {\n",
              "        background-color: #E8F0FE;\n",
              "        border: none;\n",
              "        border-radius: 50%;\n",
              "        cursor: pointer;\n",
              "        display: none;\n",
              "        fill: #1967D2;\n",
              "        height: 32px;\n",
              "        padding: 0 0 0 0;\n",
              "        width: 32px;\n",
              "      }\n",
              "\n",
              "      .colab-df-generate:hover {\n",
              "        background-color: #E2EBFA;\n",
              "        box-shadow: 0px 1px 2px rgba(60, 64, 67, 0.3), 0px 1px 3px 1px rgba(60, 64, 67, 0.15);\n",
              "        fill: #174EA6;\n",
              "      }\n",
              "\n",
              "      [theme=dark] .colab-df-generate {\n",
              "        background-color: #3B4455;\n",
              "        fill: #D2E3FC;\n",
              "      }\n",
              "\n",
              "      [theme=dark] .colab-df-generate:hover {\n",
              "        background-color: #434B5C;\n",
              "        box-shadow: 0px 1px 3px 1px rgba(0, 0, 0, 0.15);\n",
              "        filter: drop-shadow(0px 1px 2px rgba(0, 0, 0, 0.3));\n",
              "        fill: #FFFFFF;\n",
              "      }\n",
              "    </style>\n",
              "    <button class=\"colab-df-generate\" onclick=\"generateWithVariable('dp')\"\n",
              "            title=\"Generate code using this dataframe.\"\n",
              "            style=\"display:none;\">\n",
              "\n",
              "  <svg xmlns=\"http://www.w3.org/2000/svg\" height=\"24px\"viewBox=\"0 0 24 24\"\n",
              "       width=\"24px\">\n",
              "    <path d=\"M7,19H8.4L18.45,9,17,7.55,7,17.6ZM5,21V16.75L18.45,3.32a2,2,0,0,1,2.83,0l1.4,1.43a1.91,1.91,0,0,1,.58,1.4,1.91,1.91,0,0,1-.58,1.4L9.25,21ZM18.45,9,17,7.55Zm-12,3A5.31,5.31,0,0,0,4.9,8.1,5.31,5.31,0,0,0,1,6.5,5.31,5.31,0,0,0,4.9,4.9,5.31,5.31,0,0,0,6.5,1,5.31,5.31,0,0,0,8.1,4.9,5.31,5.31,0,0,0,12,6.5,5.46,5.46,0,0,0,6.5,12Z\"/>\n",
              "  </svg>\n",
              "    </button>\n",
              "    <script>\n",
              "      (() => {\n",
              "      const buttonEl =\n",
              "        document.querySelector('#id_132c9771-a873-4486-aaca-b55a4749ec23 button.colab-df-generate');\n",
              "      buttonEl.style.display =\n",
              "        google.colab.kernel.accessAllowed ? 'block' : 'none';\n",
              "\n",
              "      buttonEl.onclick = () => {\n",
              "        google.colab.notebook.generateWithVariable('dp');\n",
              "      }\n",
              "      })();\n",
              "    </script>\n",
              "  </div>\n",
              "\n",
              "    </div>\n",
              "  </div>\n"
            ],
            "application/vnd.google.colaboratory.intrinsic+json": {
              "type": "dataframe",
              "variable_name": "dp",
              "summary": "{\n  \"name\": \"dp\",\n  \"rows\": 2847,\n  \"fields\": [\n    {\n      \"column\": \"Unnamed: 0\",\n      \"properties\": {\n        \"dtype\": \"number\",\n        \"std\": 822,\n        \"min\": 0,\n        \"max\": 2846,\n        \"num_unique_values\": 2847,\n        \"samples\": [\n          1576,\n          324,\n          2123\n        ],\n        \"semantic_type\": \"\",\n        \"description\": \"\"\n      }\n    },\n    {\n      \"column\": \"Tiempo[ms]\",\n      \"properties\": {\n        \"dtype\": \"number\",\n        \"std\": 27390,\n        \"min\": 9,\n        \"max\": 94843,\n        \"num_unique_values\": 2847,\n        \"samples\": [\n          52524,\n          10805,\n          70751\n        ],\n        \"semantic_type\": \"\",\n        \"description\": \"\"\n      }\n    },\n    {\n      \"column\": \"AnguloDeg\",\n      \"properties\": {\n        \"dtype\": \"number\",\n        \"std\": 15.449320984577225,\n        \"min\": -30.710388183594,\n        \"max\": 39.27893066406301,\n        \"num_unique_values\": 2846,\n        \"samples\": [\n          -15.040145874023397,\n          -8.291114807128906,\n          -9.234382629394505\n        ],\n        \"semantic_type\": \"\",\n        \"description\": \"\"\n      }\n    },\n    {\n      \"column\": \"AnguloRad\",\n      \"properties\": {\n        \"dtype\": \"number\",\n        \"std\": 0.2696415183783247,\n        \"min\": -0.5359973883692761,\n        \"max\": 0.6855466667504624,\n        \"num_unique_values\": 2846,\n        \"samples\": [\n          -0.2625000654819485,\n          -0.1447072520452539,\n          -0.1611703812719054\n        ],\n        \"semantic_type\": \"\",\n        \"description\": \"\"\n      }\n    }\n  ]\n}"
            }
          },
          "metadata": {},
          "execution_count": 6
        }
      ]
    },
    {
      "cell_type": "markdown",
      "source": [
        "***Punto 3***\n",
        "\n",
        "*Cálculo del Campo Eléctrico*"
      ],
      "metadata": {
        "id": "mWwalrOHSv8A"
      }
    },
    {
      "cell_type": "code",
      "source": [
        "r = 0.0001 #m\n",
        "K = 8.988*10**9 #Nm^2/C^2\n",
        "Q =  1*10**-6 #C\n",
        "\n",
        "V = lambda d: (K*Q)/(np.sqrt(d**2 + r**2))\n",
        "d = np.linspace(0.0001,0.01,100)"
      ],
      "metadata": {
        "id": "RL7CSaxrarxZ"
      },
      "execution_count": null,
      "outputs": []
    },
    {
      "cell_type": "code",
      "source": [
        "#derivada simbolica de la funcion con sympy\n",
        "sp.init_printing()\n",
        "q,e,k,R = sp.symbols('q e k R')\n",
        "h =  (k*q)/(sp.sqrt(e**2 + R**2))\n",
        "dh = -sp.diff(h,e)\n",
        "dh"
      ],
      "metadata": {
        "colab": {
          "base_uri": "https://localhost:8080/",
          "height": 61
        },
        "id": "sHEIB1nTV7v4",
        "outputId": "51ef1856-a743-4085-e410-0a18788ba6b7"
      },
      "execution_count": null,
      "outputs": [
        {
          "output_type": "execute_result",
          "data": {
            "text/plain": [
              "   e⋅k⋅q    \n",
              "────────────\n",
              "         3/2\n",
              "⎛ 2    2⎞   \n",
              "⎝R  + e ⎠   "
            ],
            "text/latex": "$\\displaystyle \\frac{e k q}{\\left(R^{2} + e^{2}\\right)^{\\frac{3}{2}}}$"
          },
          "metadata": {},
          "execution_count": 8
        }
      ]
    },
    {
      "cell_type": "markdown",
      "source": [
        "Campo electrico para z>0"
      ],
      "metadata": {
        "id": "iqpcUsm69B3u"
      }
    },
    {
      "cell_type": "code",
      "source": [
        "#Campo electrico por medio del gradiente del potencial\n",
        "E = -np.gradient(V(d),d)\n",
        "E"
      ],
      "metadata": {
        "id": "0tXOlhmGZ2bX"
      },
      "execution_count": null,
      "outputs": []
    },
    {
      "cell_type": "markdown",
      "source": [
        "Campo electrico para z = 0.1 mm"
      ],
      "metadata": {
        "id": "IXyHcxta9BoB"
      }
    },
    {
      "cell_type": "code",
      "source": [
        "'''\n",
        "Dado que se definio z como d y este con valores de 0.0001 hasta 0.01,\n",
        "el primer valor de d es z = 0.1 mm, es decir, 0.0001 metros.\n",
        "Así que evaluamos el campo en el primer termino para conocer su valor\n",
        "'''\n",
        "E = -np.gradient(V(d),d)\n",
        "print(f'El campo electrico en z = 0.1 mm es: {E[0]} V/m')"
      ],
      "metadata": {
        "colab": {
          "base_uri": "https://localhost:8080/"
        },
        "id": "J3I6Ymdj9N6j",
        "outputId": "fb506951-01cf-4bba-e359-f39533d91916"
      },
      "execution_count": null,
      "outputs": [
        {
          "output_type": "stream",
          "name": "stdout",
          "text": [
            "El campo electrico en z = 0.1 mm es: 233591995295.1067 V/m\n"
          ]
        }
      ]
    },
    {
      "cell_type": "markdown",
      "source": [
        "Nota: Hice el calculo manual del valor del campo en el punto que se pide, el resultado es 3.177737875*10^11. El codigo lastimosamente me lanza un numero muy diferente y no pude encontrarle el error."
      ],
      "metadata": {
        "id": "EFLb9bN6-RUY"
      }
    },
    {
      "cell_type": "code",
      "source": [
        "#Grafica del Campo Electrico vs z\n",
        "plt.figure()\n",
        "plt.title('Campo Electrico vs Distancia')\n",
        "plt.plot(d,E,color='cornflowerblue', label='Campo electrico')\n",
        "plt.xlabel('Distancia (m)')\n",
        "plt.ylabel('Campo electrico (V/m)')\n",
        "plt.legend()\n",
        "plt.show()"
      ],
      "metadata": {
        "colab": {
          "base_uri": "https://localhost:8080/",
          "height": 472
        },
        "id": "20pJMNNR2PQA",
        "outputId": "fb90d19e-7e33-4751-d697-ce66af6be545"
      },
      "execution_count": null,
      "outputs": [
        {
          "output_type": "display_data",
          "data": {
            "text/plain": [
              "<Figure size 640x480 with 1 Axes>"
            ],
            "image/png": "[encoded data removed]"
          },
          "metadata": {}
        }
      ]
    }
  ],
  "metadata": {
    "colab": {
      "provenance": []
    },
    "kernelspec": {
      "display_name": "Python 3 (ipykernel)",
      "language": "python",
      "name": "python3"
    },
    "language_info": {
      "codemirror_mode": {
        "name": "ipython",
        "version": 3
      },
      "file_extension": ".py",
      "mimetype": "text/x-python",
      "name": "python",
      "nbconvert_exporter": "python",
      "pygments_lexer": "ipython3",
      "version": "3.10.9"
    }
  },
  "nbformat": 4,
  "nbformat_minor": 0
}