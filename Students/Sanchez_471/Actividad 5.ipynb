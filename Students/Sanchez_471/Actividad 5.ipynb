{
  "cells": [
    {
      "cell_type": "markdown",
      "id": "6d26e874",
      "metadata": {
        "id": "6d26e874"
      },
      "source": [
        "<a href=\"https://colab.research.google.com/github/hernansalinas/autogrades/blob/main/Actividades_clase/Actividad_04_Binarios_Errores.ipynb\" target=\"_parent\"><img src=\"https://colab.research.google.com/assets/colab-badge.svg\" alt=\"Open In Colab\"/></a>\n",
        "\n",
        "\n",
        "\n",
        "# Actividad 4\n",
        "### Métodos computacionales para físicos  y astrónomos\n",
        "### Universidad de Antioquia\n",
        "### Prof: Hernan D. Salinas Jiménez\n"
      ]
    },
    {
      "cell_type": "code",
      "execution_count": 1,
      "id": "10f52170",
      "metadata": {},
      "outputs": [],
      "source": [
        "import numpy as np"
      ]
    },
    {
      "cell_type": "code",
      "execution_count": null,
      "id": "eae80e3f",
      "metadata": {
        "colab": {
          "base_uri": "https://localhost:8080/"
        },
        "id": "eae80e3f",
        "outputId": "5eb0a8f5-0b2d-4bca-ff91-dabcf8ab0186"
      },
      "outputs": [
        {
          "name": "stdout",
          "output_type": "stream",
          "text": [
            "fatal: destination path 'autogrades' already exists and is not an empty directory.\n"
          ]
        }
      ],
      "source": [
        "!git clone https://github.com/hernansalinas/autogrades.git\n",
        "#path=\"libs\"\n",
        "path=\"autogrades/Actividades_clase/libs\"\n",
        "%run -i {path}/libUnitTest.py\n"
      ]
    },
    {
      "cell_type": "markdown",
      "id": "74f1131a",
      "metadata": {
        "id": "74f1131a"
      },
      "source": [
        "### Activity 1.0:\n",
        "\n",
        "Implement a function that get the binary representation of an integer with name mybin, the algorithm should return\n",
        "a string with 8 characters, the maximun number that represent the funcition is integer of 8 bit. The name of function is\n",
        "mybin\n",
        "\n",
        "Ejexample :\n",
        "\n",
        "b=mybin(x)\n",
        "\n",
        "b='00101000'"
      ]
    },
    {
      "cell_type": "code",
      "execution_count": 2,
      "id": "4c8dabcf",
      "metadata": {
        "id": "4c8dabcf"
      },
      "outputs": [],
      "source": [
        "def mybin(n):\n",
        "\n",
        "  Contador = n\n",
        "  L = np.arange(1,9,1)\n",
        "  Listador1 = np.zeros(8)\n",
        "\n",
        "  while Contador > 1:\n",
        "    for i in L:\n",
        "\n",
        "      x = Contador // 2\n",
        "      z = Contador - (2 * x)\n",
        "      Listador1[8-i] = z\n",
        "      Contador = x\n",
        "\n",
        "  Listador2 = \"\"\n",
        "  for i in L:\n",
        "    Listador2 = Listador2 + str(int(Listador1[i-1]))\n",
        "\n",
        "  return Listador2"
      ]
    },
    {
      "cell_type": "code",
      "execution_count": 3,
      "id": "77dadf59",
      "metadata": {},
      "outputs": [
        {
          "data": {
            "text/plain": [
              "'00101000'"
            ]
          },
          "execution_count": 3,
          "metadata": {},
          "output_type": "execute_result"
        }
      ],
      "source": [
        "mybin(40)"
      ]
    },
    {
      "cell_type": "code",
      "execution_count": null,
      "id": "885be6fb",
      "metadata": {
        "colab": {
          "base_uri": "https://localhost:8080/",
          "height": 212
        },
        "id": "885be6fb",
        "outputId": "20b6a53f-9cbf-4f2d-c318-4bd7359fa712"
      },
      "outputs": [
        {
          "data": {
            "text/html": [
              "<style>\n",
              "  table { text-align: left; border-collapse: collapse; margin: 1em; caption-side: bottom; font-family: Sans-Serif; font-size: 12px}\n",
              "  caption { text-align: left; padding: 5px }\n",
              "  th, td { border: 2px solid #BFC9CA; padding: 5px }\n",
              "  th { background-color: #BFC9CA }\n",
              "  .passed { background-color: #76D7C4 }\n",
              "  .failed { background-color: #EC7063 }\n",
              "  .skipped { background-color: #EDBB99 }\n",
              "  .score { background-color: #7DCEA0 }\n",
              "  .results .points { display: none }\n",
              "  .results .message { display: block; font-size:smaller; color:#D35400 }\n",
              "  .results .note { display: block; font-size:smaller; font-decoration:italics }\n",
              "  .results .passed::before  { content: \"Passed\" } \n",
              "  .results .skipped::before  { content: \"Skipped\" } \n",
              "  .results .failed::before  { content: \"Failed\" } \n",
              "  .grade .passed  .message:empty::before { content:\"Passed\" }\n",
              "  .grade .failed  .message:empty::before { content:\"Failed\" }\n",
              "  .grade .skipped .message:empty::before { content:\"Skipped\" }   \n",
              "</style>\n",
              "<table class='results'>\n",
              "  <th class='test'>Test</th><th class='result'>Result</th></tr>\n",
              "<tr>\n",
              "  <td class='test'>\n",
              "    La salida debe ser un string \n",
              "    <div class='message'>Done</div>\n",
              "  </td>\n",
              "  <td class='result passed'></td>\n",
              "</tr>\n",
              "<tr>\n",
              "  <td class='test'>\n",
              "    La longitud del string debe ser de 8 \n",
              "    <div class='message'>Done</div>\n",
              "  </td>\n",
              "  <td class='result passed'></td>\n",
              "</tr>\n",
              "<tr>\n",
              "  <td class='test'>\n",
              "    Para el número 124 su representacion es 01111100 \n",
              "    <div class='message'>Done</div>\n",
              "  </td>\n",
              "  <td class='result passed'></td>\n",
              "</tr>  <tr><th class='score'>Total Points</th><th class='score'>3</th></tr></table>\n"
            ],
            "text/plain": [
              "<IPython.core.display.HTML object>"
            ]
          },
          "metadata": {},
          "output_type": "display_data"
        }
      ],
      "source": [
        "%run -i {path}/Act_02/test01.py"
      ]
    },
    {
      "cell_type": "markdown",
      "id": "e622b7b5",
      "metadata": {
        "id": "e622b7b5"
      },
      "source": [
        "### Activity 2.0:\n",
        "\n",
        "With the binary representation please try to implement the formula to recover the number.\n",
        "\n",
        "Hint: Use as input the binary representation as a string and invert its order\n",
        "\n",
        "```\n",
        "number32(BIN):\n",
        "\n",
        "```\n",
        "\n",
        "Where BIN is a string with the binary number\n",
        "\n",
        "Example:\n",
        "\n",
        "\n",
        "Test your solution for the next number:\n",
        "\n",
        "number32(\"00111110001000000000001000010000\")"
      ]
    },
    {
      "cell_type": "code",
      "execution_count": 4,
      "id": "5f3c6506",
      "metadata": {
        "id": "5f3c6506"
      },
      "outputs": [],
      "source": [
        "def number32(BIN):\n",
        "\n",
        "  L8 = np.arange(0,8,1)\n",
        "  L23 = np.arange(0,23,1)\n",
        "\n",
        "  ffrancional = np.zeros(len(L23))\n",
        "  ee = np.zeros(len(L8))\n",
        "\n",
        "  for i in L8:\n",
        "\n",
        "    ee[i] = int(BIN[8 - int(i)])*(2**int(i))\n",
        "  e = sum(ee)\n",
        "\n",
        "  for l in L23:\n",
        "\n",
        "    ffrancional[l] = (int(BIN[31 - int(l)])) / (2**(23 - int(l)))\n",
        "  fracional = sum(ffrancional)\n",
        "\n",
        "  r = (((-1)**int(BIN[0])) / (2**(127-e))) * ( 1 + fracional)\n",
        "\n",
        "  return float(r)"
      ]
    },
    {
      "cell_type": "code",
      "execution_count": 5,
      "id": "QUBv5jDLvgb4",
      "metadata": {
        "colab": {
          "base_uri": "https://localhost:8080/"
        },
        "id": "QUBv5jDLvgb4",
        "outputId": "9115be1c-5c91-4573-af68-a9aa9e5d418a"
      },
      "outputs": [
        {
          "data": {
            "text/plain": [
              "0.15625786781311035"
            ]
          },
          "execution_count": 5,
          "metadata": {},
          "output_type": "execute_result"
        }
      ],
      "source": [
        "number32(\"00111110001000000000001000010000\")"
      ]
    },
    {
      "cell_type": "code",
      "execution_count": null,
      "id": "155ffd7f",
      "metadata": {
        "colab": {
          "base_uri": "https://localhost:8080/"
        },
        "id": "155ffd7f",
        "outputId": "40c233ae-e921-4f49-fc4a-cd96b8176a20"
      },
      "outputs": [
        {
          "name": "stdout",
          "output_type": "stream",
          "text": [
            "La función no ha sido definda o el numero de argumento no es el adecuado\n"
          ]
        }
      ],
      "source": [
        "%run -i {path}/Act_02/test02.py"
      ]
    },
    {
      "cell_type": "markdown",
      "id": "d11e596d",
      "metadata": {
        "id": "d11e596d"
      },
      "source": [
        "### Activity 3.0:\n",
        "1. Write a python script that calculates the double precision number represented by a 64-bits binary.\n",
        "\n",
        "the name of function should be:\n",
        "```\n",
        "number64(BIN):\n",
        "\n",
        "```\n",
        "\n",
        "2. What is the number represented by:\n",
        "\n",
        "BIN=\"0 10000000011 1011100100001111111111111111111111111111111111111111\""
      ]
    },
    {
      "cell_type": "code",
      "execution_count": 6,
      "id": "b0922a1d",
      "metadata": {
        "id": "b0922a1d"
      },
      "outputs": [],
      "source": [
        "def number64(BIN):\n",
        "\n",
        "  L11 = np.arange(0,11,1)\n",
        "  L52 = np.arange(1,53,1)\n",
        "\n",
        "  ffrancional = np.zeros(len(L52))\n",
        "  ee = np.zeros(len(L11))\n",
        "\n",
        "  for i in L11:\n",
        "\n",
        "    ee[i] = int(BIN[11 - int(i)])*(2**int(i))\n",
        "  e = sum(ee)\n",
        "\n",
        "  for l in L52:\n",
        "\n",
        "    ffrancional[int(l) - 1] = int(BIN[11 + l]) / (2**int(l))\n",
        "  fracional = sum(ffrancional)\n",
        "\n",
        "  r = ((-1)**int(BIN[0])) * ( 1 + fracional) * (2**(e-1023))\n",
        "\n",
        "  return float(r)\n"
      ]
    },
    {
      "cell_type": "code",
      "execution_count": 7,
      "id": "L-tiXKLc9U9A",
      "metadata": {
        "colab": {
          "base_uri": "https://localhost:8080/"
        },
        "id": "L-tiXKLc9U9A",
        "outputId": "8504d771-63f0-4f46-b09e-4b15a647b884"
      },
      "outputs": [
        {
          "data": {
            "text/plain": [
              "27.566406249999996"
            ]
          },
          "execution_count": 7,
          "metadata": {},
          "output_type": "execute_result"
        }
      ],
      "source": [
        "number64(\"0100000000111011100100001111111111111111111111111111111111111111\")"
      ]
    },
    {
      "cell_type": "code",
      "execution_count": null,
      "id": "cd48a992",
      "metadata": {
        "colab": {
          "base_uri": "https://localhost:8080/",
          "height": 140
        },
        "id": "cd48a992",
        "outputId": "4c834eb4-25f8-4e1e-894d-c30902b32a1e",
        "scrolled": false
      },
      "outputs": [
        {
          "ename": "SyntaxError",
          "evalue": "ignored",
          "output_type": "error",
          "traceback": [
            "\u001b[0;36m  File \u001b[0;32m\"/content/autogrades/Actividades_clase/libs/Act_02/test03.py\"\u001b[0;36m, line \u001b[0;32m28\u001b[0m\n\u001b[0;31m    True)\u001b[0m\n\u001b[0m        ^\u001b[0m\n\u001b[0;31mSyntaxError\u001b[0m\u001b[0;31m:\u001b[0m unmatched ')'\n"
          ]
        }
      ],
      "source": [
        "%run -i {path}/Act_02/test03.py"
      ]
    }
  ],
  "metadata": {
    "colab": {
      "provenance": []
    },
    "kernelspec": {
      "display_name": "Python 3 (ipykernel)",
      "language": "python",
      "name": "python3"
    },
    "language_info": {
      "codemirror_mode": {
        "name": "ipython",
        "version": 3
      },
      "file_extension": ".py",
      "mimetype": "text/x-python",
      "name": "python",
      "nbconvert_exporter": "python",
      "pygments_lexer": "ipython3",
      "version": "3.11.5"
    }
  },
  "nbformat": 4,
  "nbformat_minor": 5
}
