{
 "cells": [
  {
   "cell_type": "code",
   "execution_count": 142,
   "metadata": {},
   "outputs": [],
   "source": [
    "import numpy as np\n",
    "import matplotlib.pylab as plt\n",
    "from numpy.linalg import solve"
   ]
  },
  {
   "cell_type": "markdown",
   "metadata": {},
   "source": [
    "**Tres puntos**\n",
    "\n",
    "Sean:\n",
    "\n",
    "$ x_0 = -1 $ ; $ x_1 = 0 $ ; $ x_2 = 1 $ ; $ y_0 = 5 $ ; $ y_1 = 3 $ ; $ y_2 = 3 $"
   ]
  },
  {
   "cell_type": "code",
   "execution_count": 143,
   "metadata": {},
   "outputs": [],
   "source": [
    "x_2 = np.array([-1,0,1])\n",
    "y_2 = np.array([5,3,3])"
   ]
  },
  {
   "cell_type": "markdown",
   "metadata": {},
   "source": [
    "Así:\n",
    "  * $s_0(x) = a_0 + b_0 (x-x_0) + c_0 (x-x_0)^2 + d_0 (x-x_0)^3$\n",
    "  * $s_1(x) = a_1 + b_1 (x-x_1) + c_1 (x-x_1)^2 + d_1 (x-x_1)^3$\n",
    "\n",
    "Entonces\n",
    "  * $s_0'(x) =  b_0 + 2 c_0 (x-x_0) + 3 d_0 (x-x_0)^2$\n",
    "  * $s_0''(x) = 2 c_0 + 6 d_0 (x-x_0)$\n",
    "\n",
    "Y:\n",
    "  * $s_1'(x) =  b_1 + 2 c_1 (x-x_1) + 3 d_1 (x-x_1)^2$\n",
    "  * $s_1''(x) = 2 c_1 + 6 d_1 (x-x_1)$\n",
    "\n",
    "Tenemos 8 incógnitas, $a_1$, $b_1$, $c_1$, $d_1$, $a_2$, $b_2$, $c_2$, $d_2$.\n",
    "Aplicando las condiciones:\n",
    "\n",
    "  * Interpolación (y continuidad en x_1):\n",
    "\n",
    "    * $s_0(x_0) = a_0 = y_0$\n",
    "    * $s_0(x_1) = a_0 + b_0 (x_1-x_0) + c_0 (x_1-x_0)^2 + d_0 (x_1-x_0)^3 = y_1$\n",
    "    * $s_1(x_1) = a_1 = y_1$\n",
    "    * $s_1(x_2) = a_1 + b_1 (x_2-x_1) + c_1 (x_2-x_1)^2 + d_1 (x_2-x_1)^3 = y_2$\n",
    "    \n",
    "  * Derivabilidad:\n",
    "\n",
    "    * $s_0'(x_1) = s_1'(x_1) $,\n",
    "    es decir:\n",
    "    * $b_0 + 2 c_0 (x_1-x_0) + 3 d_0 (x_1-x_0)^2 = b_1 $\n",
    "    \n",
    "    y:\n",
    "\n",
    "    * $s_0''(x_1) = s_1''(x_1)$,\n",
    "    es decir:\n",
    "    * $2 c_0 + 6 d_0 (x_1-x_0) = 2 c_1$\n",
    "\n",
    "  * Condiciones naturales en los extremos, $x_0$ y $x_2$:\n",
    "\n",
    "    * $s_0''(x_0) = 2 c_0 = 0$\n",
    "    * $s_1''(x_2) = 2 c_1 + 6 d_1 (x_2-x_1) = 0$\n"
   ]
  },
  {
   "cell_type": "code",
   "execution_count": 144,
   "metadata": {},
   "outputs": [],
   "source": [
    "row_1 = lambda x_0,x_1,x_2 :  [ 1 , 0 , 0 , 0 , 0 , 0 , 0 , 0 ]\n",
    "row_2 = lambda x_0,x_1,x_2 :  [ 1 , (x_1-x_0) , (x_1-x_0)**2 , (x_1-x_0)**3 , 0 , 0 , 0 , 0 ]\n",
    "row_3 = lambda x_0,x_1,x_2 :  [ 0 , 0 , 0 , 0 , 1 , 0 , 0 , 0 ]\n",
    "row_4 = lambda x_0,x_1,x_2 :  [ 0 , 0 , 0 , 0 , 1 , (x_2-x_1) , (x_2-x_1)**2 , (x_2-x_1)**3 ]\n",
    "row_5 = lambda x_0,x_1,x_2 :  [ 0 , 1 , 2*(x_1-x_0) , 3*(x_1-x_0)**2, 0 , -1 , 0 , 0 ]\n",
    "row_6 = lambda x_0,x_1,x_2 :  [ 0 , 0 , 2 , 6*(x_1-x_0) , 0 , 0 , -2 , 0 ]\n",
    "row_7 = lambda x_0,x_1,x_2 :  [ 0 , 0 , 2 , 0 , 0 , 0 , 0 , 0 ]\n",
    "row_8 = lambda x_0,x_1,x_2 :  [ 0 , 0 , 0 , 0 , 0 , 0 , 2 , 6*(x_2-x_1) ]"
   ]
  },
  {
   "cell_type": "code",
   "execution_count": 145,
   "metadata": {},
   "outputs": [],
   "source": [
    "b = lambda y_0,y_1,y_2 :  np.array([ y_0 , y_1 , y_1 , y_2 , 0 , 0 , 0 , 0 ])"
   ]
  },
  {
   "cell_type": "code",
   "execution_count": 146,
   "metadata": {},
   "outputs": [],
   "source": [
    "A_2 = np.array([\n",
    "\trow_1(*x_2),\n",
    "\trow_2(*x_2),\n",
    "\trow_3(*x_2),\n",
    "\trow_4(*x_2),\n",
    "\trow_5(*x_2),\n",
    "    row_6(*x_2),\n",
    "    row_7(*x_2),\n",
    "    row_8(*x_2)])\n",
    "\n",
    "B_2 = b(*y_2)"
   ]
  },
  {
   "cell_type": "code",
   "execution_count": 147,
   "metadata": {},
   "outputs": [
    {
     "data": {
      "text/plain": [
       "(array([[ 1,  0,  0,  0,  0,  0,  0,  0],\n",
       "        [ 1,  1,  1,  1,  0,  0,  0,  0],\n",
       "        [ 0,  0,  0,  0,  1,  0,  0,  0],\n",
       "        [ 0,  0,  0,  0,  1,  1,  1,  1],\n",
       "        [ 0,  1,  2,  3,  0, -1,  0,  0],\n",
       "        [ 0,  0,  2,  6,  0,  0, -2,  0],\n",
       "        [ 0,  0,  2,  0,  0,  0,  0,  0],\n",
       "        [ 0,  0,  0,  0,  0,  0,  2,  6]]),\n",
       " array([5, 3, 3, 3, 0, 0, 0, 0]))"
      ]
     },
     "execution_count": 147,
     "metadata": {},
     "output_type": "execute_result"
    }
   ],
   "source": [
    "A_2, B_2"
   ]
  },
  {
   "cell_type": "code",
   "execution_count": 148,
   "metadata": {},
   "outputs": [
    {
     "name": "stdout",
     "output_type": "stream",
     "text": [
      "Los coeficientes a0, b0, c0, d0, a1, b1, c1, d1 son: [ 5.  -2.5  0.   0.5  3.  -1.   1.5 -0.5] respectivamente\n"
     ]
    }
   ],
   "source": [
    "coe_2 = solve(A_2,B_2)\n",
    "\n",
    "print('Los coeficientes a0, b0, c0, d0, a1, b1, c1, d1 son: '+str(coe_2[:])+' respectivamente')"
   ]
  },
  {
   "cell_type": "code",
   "execution_count": 149,
   "metadata": {},
   "outputs": [],
   "source": [
    "s0 = lambda x, x_0: coe_2[0] + coe_2[1]*(x - x_0) + coe_2[2]*((x - x_0)**2) + coe_2[3]*((x - x_0)**3)\n",
    "s1 = lambda x, x_1: coe_2[4] + coe_2[5]*(x - x_1) + coe_2[6]*((x - x_1)**2) + coe_2[7]*((x - x_1)**3)"
   ]
  },
  {
   "cell_type": "code",
   "execution_count": 150,
   "metadata": {},
   "outputs": [
    {
     "data": {
      "image/png": "[encoded data removed]",
      "text/plain": [
       "<Figure size 640x480 with 1 Axes>"
      ]
     },
     "metadata": {},
     "output_type": "display_data"
    }
   ],
   "source": [
    "X_0 = np.linspace(-1,0,1000)\n",
    "X_1 = np.linspace(0,1,1000)\n",
    "\n",
    "plt.plot(X_0, s0(X_0,-1), label = \"S0\")\n",
    "plt.plot(X_1, s1(X_1,0), label = \"S1\")\n",
    "plt.plot(x_2,y_2, 'o')\n",
    "plt.xlabel(\"x\")\n",
    "plt.ylabel(\"f(x)\")\n",
    "plt.legend()\n",
    "plt.grid()"
   ]
  },
  {
   "cell_type": "markdown",
   "metadata": {},
   "source": [
    "**Cuatro puntos**\n",
    "\n",
    "Sean:\n",
    "\n",
    "$ x_0 = -1 $ ; $ x_1 = 0 $ ; $ x_2 = 1 $ ; $ x_3 = 2 $ ; $ y_0 = 5 $ ; $ y_1 = 3 $ ; $ y_2 = 3 $ ; $ y_3 = 7 $"
   ]
  },
  {
   "cell_type": "code",
   "execution_count": 151,
   "metadata": {},
   "outputs": [],
   "source": [
    "x_3 = np.array([0, 1, 2])\n",
    "y_3 = np.array([3, 3, 7])"
   ]
  },
  {
   "cell_type": "code",
   "execution_count": 152,
   "metadata": {},
   "outputs": [],
   "source": [
    "A_3 = np.array([\n",
    "\trow_1(*x_3),\n",
    "\trow_2(*x_3),\n",
    "\trow_3(*x_3),\n",
    "\trow_4(*x_3),\n",
    "\trow_5(*x_3),\n",
    "    row_6(*x_3),\n",
    "    row_7(*x_3),\n",
    "    row_8(*x_3)])\n",
    "\n",
    "B_3= b(*y_3)"
   ]
  },
  {
   "cell_type": "code",
   "execution_count": 153,
   "metadata": {},
   "outputs": [
    {
     "data": {
      "text/plain": [
       "(array([[ 1,  0,  0,  0,  0,  0,  0,  0],\n",
       "        [ 1,  1,  1,  1,  0,  0,  0,  0],\n",
       "        [ 0,  0,  0,  0,  1,  0,  0,  0],\n",
       "        [ 0,  0,  0,  0,  1,  1,  1,  1],\n",
       "        [ 0,  1,  2,  3,  0, -1,  0,  0],\n",
       "        [ 0,  0,  2,  6,  0,  0, -2,  0],\n",
       "        [ 0,  0,  2,  0,  0,  0,  0,  0],\n",
       "        [ 0,  0,  0,  0,  0,  0,  2,  6]]),\n",
       " array([3, 3, 3, 7, 0, 0, 0, 0]))"
      ]
     },
     "execution_count": 153,
     "metadata": {},
     "output_type": "execute_result"
    }
   ],
   "source": [
    "A_3, B_3"
   ]
  },
  {
   "cell_type": "code",
   "execution_count": 154,
   "metadata": {},
   "outputs": [
    {
     "name": "stdout",
     "output_type": "stream",
     "text": [
      "Los coeficientes a0, b0, c0, d0, a1, b1, c1, d1 son: [ 3. -1.  0.  1.  3.  2.  3. -1.] respectivamente\n"
     ]
    }
   ],
   "source": [
    "coe_3 = solve(A_3,B_3)\n",
    "\n",
    "print('Los coeficientes a0, b0, c0, d0, a1, b1, c1, d1 son: '+str(coe_3[:])+' respectivamente')"
   ]
  },
  {
   "cell_type": "code",
   "execution_count": 155,
   "metadata": {},
   "outputs": [],
   "source": [
    "s1 = lambda x, x_1: coe_3[0] + coe_3[1]*(x - x_1) + coe_3[2]*((x - x_1)**2) + coe_3[3]*((x - x_1)**3)\n",
    "s2 = lambda x, x_2: coe_3[4] + coe_3[5]*(x - x_2) + coe_3[6]*((x - x_2)**2) + coe_3[7]*((x - x_2)**3)"
   ]
  },
  {
   "cell_type": "code",
   "execution_count": 156,
   "metadata": {},
   "outputs": [
    {
     "data": {
      "image/png": "[encoded data removed]",
      "text/plain": [
       "<Figure size 640x480 with 1 Axes>"
      ]
     },
     "metadata": {},
     "output_type": "display_data"
    }
   ],
   "source": [
    "x_, y_ = np.array([-1,0,1,2]), np.array([5,3,3,7])\n",
    "X_2 = np.linspace(1,2,1000)\n",
    "\n",
    "plt.plot(X_0, s0(X_0,-1), 'r', label = \"S0\")\n",
    "plt.plot(X_1, s1(X_1,0), 'b', label = \"S1\")\n",
    "plt.plot(X_2, s2(X_2,1), 'g', label = \"S3\")\n",
    "plt.plot(x_,y_, 'o')\n",
    "plt.xlabel(\"x\")\n",
    "plt.ylabel(\"f(x)\")\n",
    "plt.legend()\n",
    "plt.grid()"
   ]
  },
  {
   "cell_type": "code",
   "execution_count": null,
   "metadata": {},
   "outputs": [],
   "source": []
  }
 ],
 "metadata": {
  "kernelspec": {
   "display_name": "Python 3",
   "language": "python",
   "name": "python3"
  },
  "language_info": {
   "codemirror_mode": {
    "name": "ipython",
    "version": 3
   },
   "file_extension": ".py",
   "mimetype": "text/x-python",
   "name": "python",
   "nbconvert_exporter": "python",
   "pygments_lexer": "ipython3",
   "version": "3.11.6"
  }
 },
 "nbformat": 4,
 "nbformat_minor": 2
}
