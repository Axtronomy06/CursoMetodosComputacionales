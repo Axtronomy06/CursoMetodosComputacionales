{
  "cells": [
    {
      "cell_type": "code",
      "execution_count": 53,
      "metadata": {
        "id": "zZG8D_K7Sg6K"
      },
      "outputs": [],
      "source": [
        "import numpy as np\n",
        "import matplotlib.pylab as plt\n",
        "import scipy as sc "
      ]
    },
    {
      "cell_type": "code",
      "execution_count": 54,
      "metadata": {
        "id": "3JVD0oXMSyWb"
      },
      "outputs": [],
      "source": [
        "def ecuacion(f,izq,der,N):\n",
        "\n",
        "  x = np.linspace(izq,der,N)\n",
        "  y = np.arange(0,len(x) ,1)\n",
        "  Contador = np.zeros(len(x))\n",
        "\n",
        "  for i in y:\n",
        "    Contador[i] = f(x[i])\n",
        "\n",
        "  return Contador\n"
      ]
    },
    {
      "cell_type": "code",
      "execution_count": 55,
      "metadata": {
        "id": "PzBE4uQRX8RK"
      },
      "outputs": [],
      "source": [
        "def solucion_ecuacion(izq,der,f,n):\n",
        "\n",
        "  x = np.linspace(izq,der,10000)\n",
        "  D = ecuacion(f,izq,der,10000)\n",
        "  nn = 1\n",
        "\n",
        "  Contador = len(D) // 2\n",
        "  y = D[Contador]\n",
        "\n",
        "  while nn <= n:\n",
        "    while round(y,nn) != 0:\n",
        "\n",
        "        if y < 0:\n",
        "\n",
        "          Contador = Contador + ((len(D) - Contador ) // 2)\n",
        "          y = D[Contador]\n",
        "          z = x[Contador]\n",
        "\n",
        "        elif y > 0:\n",
        "\n",
        "          Contador = Contador - ((len(D) - Contador ) // 2)\n",
        "          y = D[Contador]\n",
        "          z = x[Contador]\n",
        "\n",
        "    x = np.linspace(z - (10**(-nn)), z + (10**(-nn)),10000)\n",
        "    D = ecuacion(f,z - (10**(-nn)), z + (10**(-nn)),10000)\n",
        "    nn = nn + 1\n",
        "\n",
        "\n",
        "  return z\n"
      ]
    },
    {
      "cell_type": "code",
      "execution_count": 56,
      "metadata": {
        "id": "qOY8xCKtSIV3"
      },
      "outputs": [],
      "source": [
        "ff = lambda x : x*np.exp(x) - 1"
      ]
    },
    {
      "cell_type": "markdown",
      "metadata": {},
      "source": [
        "Nota: La función solucion_ecuacion recibe los siguientes argumentos: (izq, der, f, n), donde \"izq\" y \"der\" representan los extremos izquierdo y derecho del intervalo seleccionado, \"f\" es una ecuación igualada a cero, y \"n\" representa la tolerancia como la cantidad de decimales a los cuales se desea la precisión. Por ejemplo, para $ n = 3 $, la tolerancia es de $ 1/10^3 = 0,001 $."
      ]
    },
    {
      "cell_type": "code",
      "execution_count": 57,
      "metadata": {
        "colab": {
          "base_uri": "https://localhost:8080/"
        },
        "id": "ZO2JO_vEbbM4",
        "outputId": "7cac9410-e642-4c42-ce54-be755a7c91dc"
      },
      "outputs": [
        {
          "data": {
            "text/plain": [
              "(0.5671432904097838, 0.5671432904109679)"
            ]
          },
          "execution_count": 57,
          "metadata": {},
          "output_type": "execute_result"
        }
      ],
      "source": [
        "solucion_ecuacion(-20,20,ff,30), sc.optimize.bisect(ff,-1,1)"
      ]
    }
  ],
  "metadata": {
    "colab": {
      "provenance": []
    },
    "kernelspec": {
      "display_name": "Python 3",
      "name": "python3"
    },
    "language_info": {
      "codemirror_mode": {
        "name": "ipython",
        "version": 3
      },
      "file_extension": ".py",
      "mimetype": "text/x-python",
      "name": "python",
      "nbconvert_exporter": "python",
      "pygments_lexer": "ipython3",
      "version": "3.11.5"
    }
  },
  "nbformat": 4,
  "nbformat_minor": 0
}
