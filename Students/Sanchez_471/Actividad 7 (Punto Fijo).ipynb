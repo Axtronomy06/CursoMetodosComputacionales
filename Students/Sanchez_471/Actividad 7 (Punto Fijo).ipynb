{
 "cells": [
  {
   "cell_type": "code",
   "execution_count": 1,
   "metadata": {},
   "outputs": [],
   "source": [
    "import numpy as np\n",
    "import matplotlib.pyplot as plt\n",
    "from scipy import optimize"
   ]
  },
  {
   "cell_type": "code",
   "execution_count": 2,
   "metadata": {},
   "outputs": [],
   "source": [
    "f = lambda x : (x**2) - (3*x) + 1\n",
    "g = lambda x: (x**2 + 1) / 3"
   ]
  },
  {
   "cell_type": "code",
   "execution_count": 3,
   "metadata": {},
   "outputs": [],
   "source": [
    "def punto_fijo(x0, f, epsilon):\n",
    "\n",
    "    x1 = x0\n",
    "    Contador = 0\n",
    "    \n",
    "    while Contador <= 1000:\n",
    "\n",
    "        x2 = f(x1)\n",
    "\n",
    "        if Contador >= 1000:\n",
    "            return \"no converge\"\n",
    "        \n",
    "        if abs(x2 - x1) <= epsilon:\n",
    "            return x1\n",
    "        \n",
    "        x1 = x2\n",
    "        Contador = Contador + 1\n"
   ]
  },
  {
   "cell_type": "code",
   "execution_count": 6,
   "metadata": {},
   "outputs": [
    {
     "data": {
      "text/plain": [
       "0.3819660111953403"
      ]
     },
     "execution_count": 6,
     "metadata": {},
     "output_type": "execute_result"
    }
   ],
   "source": [
    "punto_fijo(0, g, 1e-10)"
   ]
  },
  {
   "cell_type": "code",
   "execution_count": 5,
   "metadata": {},
   "outputs": [
    {
     "data": {
      "text/plain": [
       "array(0.38196601)"
      ]
     },
     "execution_count": 5,
     "metadata": {},
     "output_type": "execute_result"
    }
   ],
   "source": [
    "optimize.fixed_point(g,0)"
   ]
  }
 ],
 "metadata": {
  "kernelspec": {
   "display_name": "Python 3",
   "language": "python",
   "name": "python3"
  },
  "language_info": {
   "codemirror_mode": {
    "name": "ipython",
    "version": 3
   },
   "file_extension": ".py",
   "mimetype": "text/x-python",
   "name": "python",
   "nbconvert_exporter": "python",
   "pygments_lexer": "ipython3",
   "version": "3.11.6"
  }
 },
 "nbformat": 4,
 "nbformat_minor": 2
}
