{
 "cells": [
  {
   "cell_type": "code",
   "execution_count": 235,
   "metadata": {},
   "outputs": [],
   "source": [
    "import numpy as np\n",
    "from numpy import linalg\n",
    "import matplotlib.pyplot as plt\n",
    "import sympy as sy"
   ]
  },
  {
   "cell_type": "markdown",
   "metadata": {},
   "source": [
    "*Primer punto*"
   ]
  },
  {
   "cell_type": "code",
   "execution_count": 236,
   "metadata": {},
   "outputs": [],
   "source": [
    "Alfabeto = {1: \"a\", 2: \"b\", 3: \"c\", 4: \"d\", 5: \"e\", 6: \"f\", 7: \"g\", 8: \"h\", 9: \"i\", 10: \"j\", 11: \"k\", 12: \"l\", 13: \"m\", 14: \"n\", 15: \"o\", 16: \"p\", 17: \"q\", 18: \"r\", 19: \"s\", 20: \"t\", 21: \"u\", 22: \"v\", 23: \"w\", 24: \"x\", 25: \"y\", 26: \"z\", 27: \" \"}\n",
    "round_ = np.vectorize(round)"
   ]
  },
  {
   "cell_type": "markdown",
   "metadata": {},
   "source": [
    "```\n",
    "matrix([[ 1,  2, -3,  4,  5],\n",
    "        [-2, -5,  8, -8, -9],\n",
    "        [ 1,  2, -2,  7,  9],\n",
    "        [ 1,  1,  0,  6, 12],\n",
    "        [ 2,  4, -6,  8, 11]])\n",
    "```"
   ]
  },
  {
   "cell_type": "code",
   "execution_count": 237,
   "metadata": {},
   "outputs": [],
   "source": [
    "A = np.array( [ [ 1,  2, -3,  4,  5],\n",
    "                [-2, -5,  8, -8, -9],\n",
    "                [ 1,  2, -2,  7,  9],\n",
    "                [ 1,  1,  0,  6, 12],\n",
    "                [ 2,  4, -6,  8, 11] ] )"
   ]
  },
  {
   "cell_type": "markdown",
   "metadata": {},
   "source": [
    "Mensaje\n",
    "\n",
    "47,49,-19,257,487,10,-9,63,137,236, 79,142,-184,372,536,59,70,-40,332,588,"
   ]
  },
  {
   "cell_type": "code",
   "execution_count": 238,
   "metadata": {},
   "outputs": [],
   "source": [
    "\n",
    "B = np.array( [ [47, 49, -19, 257, 487],\n",
    "                 [10, -9, 63, 137, 236], \n",
    "                 [79, 142, -184, 372, 536],\n",
    "                 [59, 70, -40, 332, 588]])"
   ]
  },
  {
   "cell_type": "code",
   "execution_count": 239,
   "metadata": {},
   "outputs": [
    {
     "data": {
      "text/plain": [
       "'are you having fun  '"
      ]
     },
     "execution_count": 239,
     "metadata": {},
     "output_type": "execute_result"
    }
   ],
   "source": [
    "A_inv = np.linalg.inv(A)\n",
    "MENSAJE_ = B @ A_inv\n",
    "MENSAJE = np.array(MENSAJE_.reshape(1,20))\n",
    "MENSAJE[:,:] = round_(MENSAJE[:,:])\n",
    "\n",
    "mensaje = \"\"\n",
    "\n",
    "for i in range(np.shape(MENSAJE)[1]):\n",
    "\n",
    "    mensaje = mensaje + Alfabeto[MENSAJE[0,i]]\n",
    "\n",
    "mensaje"
   ]
  },
  {
   "cell_type": "markdown",
   "metadata": {},
   "source": [
    "*Segundo punto*"
   ]
  },
  {
   "cell_type": "code",
   "execution_count": 240,
   "metadata": {},
   "outputs": [],
   "source": [
    "N = 10\n",
    "x1 = np.linspace(0, 10, N)\n",
    "noise = 2*np.random.random(N)-1\n",
    "y1 = 0.9*x1 + noise"
   ]
  },
  {
   "cell_type": "markdown",
   "metadata": {},
   "source": [
    "Para determinar la matriz de theta entonces se puede aplicar la ecuación:\n",
    "\n",
    "$$\\Theta = (X^T X)^{-1} X^T y$$\n",
    "\n",
    "donde:\n",
    "\\begin{equation}\n",
    "X=\n",
    "\\begin{bmatrix}\n",
    "1 & x_1^{(1)} \\\\\n",
    "1 & x_1^{(2)} \\\\\n",
    "\\vdots & \\vdots \\\\\n",
    "1 & x_1^{(m)}\n",
    "\\end{bmatrix}\n",
    "\\end{equation}\n",
    "\n",
    "y\n",
    "\n",
    "\n",
    "\\begin{equation}\n",
    "y=\n",
    "\\begin{bmatrix}\n",
    "y^{(1)} \\\\\n",
    "y^{(2)} \\\\\n",
    "\\vdots\\\\\n",
    "y^{(m)}\n",
    "\\end{bmatrix}\n",
    "\\end{equation}"
   ]
  },
  {
   "cell_type": "code",
   "execution_count": 245,
   "metadata": {},
   "outputs": [],
   "source": [
    "def THETA_(x,y):\n",
    "    X_ = np.matrix(np.ones( ( 2, np.shape(x)[1] ) ))\n",
    "    X_[1,:] = x\n",
    "    X_ = X_.T\n",
    "    THETA = ( np.linalg.inv(X_.T @ X_) @ X_.T ) @ y\n",
    "    return THETA"
   ]
  },
  {
   "cell_type": "code",
   "execution_count": 246,
   "metadata": {},
   "outputs": [
    {
     "data": {
      "text/plain": [
       "matrix([[-0.15002862,  0.88061055]])"
      ]
     },
     "execution_count": 246,
     "metadata": {},
     "output_type": "execute_result"
    }
   ],
   "source": [
    "x = np.matrix(x1)\n",
    "y = np.matrix(y1).T\n",
    "THETA = THETA_(x,y1)\n",
    "THETA"
   ]
  },
  {
   "cell_type": "code",
   "execution_count": null,
   "metadata": {},
   "outputs": [],
   "source": [
    "ecuacion_recta = lambda x: (THETA[0,1])*x + (THETA[0,0])"
   ]
  },
  {
   "cell_type": "code",
   "execution_count": 249,
   "metadata": {},
   "outputs": [
    {
     "data": {
      "image/png": "[encoded data removed]",
      "text/plain": [
       "<Figure size 640x480 with 1 Axes>"
      ]
     },
     "metadata": {},
     "output_type": "display_data"
    }
   ],
   "source": [
    "yy = ecuacion_recta(x1)\n",
    "\n",
    "plt.plot(x1, yy, label = \"Recta\")\n",
    "plt.scatter(x1, y1, label = \"Puntos\")\n",
    "plt.title(\"Regresión Lineal\")\n",
    "plt.ylabel(\"eje y\")\n",
    "plt.xlabel(\"eje x\")\n",
    "plt.legend()\n",
    "plt.grid()\n",
    "plt.show()"
   ]
  },
  {
   "cell_type": "code",
   "execution_count": null,
   "metadata": {},
   "outputs": [],
   "source": []
  }
 ],
 "metadata": {
  "kernelspec": {
   "display_name": "Python 3",
   "language": "python",
   "name": "python3"
  },
  "language_info": {
   "codemirror_mode": {
    "name": "ipython",
    "version": 3
   },
   "file_extension": ".py",
   "mimetype": "text/x-python",
   "name": "python",
   "nbconvert_exporter": "python",
   "pygments_lexer": "ipython3",
   "version": "3.11.6"
  }
 },
 "nbformat": 4,
 "nbformat_minor": 2
}
