{
 "cells": [
  {
   "cell_type": "code",
   "execution_count": 1,
   "metadata": {
    "id": "lt1i2RSTwWX9"
   },
   "outputs": [],
   "source": [
    "import numpy as np\n",
    "import scipy as sc\n",
    "import pylab as plt"
   ]
  },
  {
   "cell_type": "code",
   "execution_count": 2,
   "metadata": {
    "id": "I8bs-H3WxuRm"
   },
   "outputs": [],
   "source": [
    "f = lambda x: x**2 + 115\n",
    "g = lambda x: x\n",
    "h = lambda x: np.cos(x)"
   ]
  },
  {
   "cell_type": "code",
   "execution_count": 3,
   "metadata": {
    "id": "UjsIBAndzY-m"
   },
   "outputs": [],
   "source": [
    "def integral_trapz(f,X):\n",
    "\n",
    "  S = (((X[1:len(X)] - X[0:len(X)-1])) * (f(X[0:len(X)-1]) + f(X[1:len(X)]))) / 2\n",
    "\n",
    "  return np.sum(S)"
   ]
  },
  {
   "cell_type": "code",
   "execution_count": 4,
   "metadata": {
    "colab": {
     "base_uri": "https://localhost:8080/"
    },
    "id": "Uoy9vhJl1w-G",
    "outputId": "9f3c47e3-5b4c-428c-f7b9-95520477bb36"
   },
   "outputs": [
    {
     "data": {
      "text/plain": [
       "(115.33539094650206, 115.33539094650206)"
      ]
     },
     "execution_count": 4,
     "metadata": {},
     "output_type": "execute_result"
    }
   ],
   "source": [
    "a, b, n = 0, 1, 10\n",
    "X = np.linspace(a,b,n)\n",
    "\n",
    "integral_trapz(f,X), sc.integrate.trapz(f(X),X)"
   ]
  },
  {
   "cell_type": "code",
   "execution_count": 5,
   "metadata": {
    "id": "CyK8Os9B330y"
   },
   "outputs": [],
   "source": [
    "def trapz(f,a,b,n):\n",
    "\n",
    "  X = np.linspace(a,b,n)\n",
    "  h, H, S = X[1] - X[0], f(X[len(X)-1]) + f(X[0]), f(X[1:len(X)-1])\n",
    "\n",
    "  return (h/2) * (H + (2 * np.sum(S)))"
   ]
  },
  {
   "cell_type": "code",
   "execution_count": 6,
   "metadata": {
    "colab": {
     "base_uri": "https://localhost:8080/"
    },
    "id": "VddpQCqH4WXb",
    "outputId": "4bf0d603-b2b1-456c-f494-ad8f06b11037"
   },
   "outputs": [
    {
     "data": {
      "text/plain": [
       "(115.33539094650205, 115.33539094650206)"
      ]
     },
     "execution_count": 6,
     "metadata": {},
     "output_type": "execute_result"
    }
   ],
   "source": [
    "a, b, n = 0, 1, 10\n",
    "\n",
    "trapz(f,a,b,n), sc.integrate.trapz(f(X),X)"
   ]
  }
 ],
 "metadata": {
  "colab": {
   "provenance": []
  },
  "kernelspec": {
   "display_name": "Python 3 (ipykernel)",
   "language": "python",
   "name": "python3"
  },
  "language_info": {
   "codemirror_mode": {
    "name": "ipython",
    "version": 3
   },
   "file_extension": ".py",
   "mimetype": "text/x-python",
   "name": "python",
   "nbconvert_exporter": "python",
   "pygments_lexer": "ipython3",
   "version": "3.10.9"
  }
 },
 "nbformat": 4,
 "nbformat_minor": 1
}
