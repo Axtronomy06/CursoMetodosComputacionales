{
 "cells": [
  {
   "cell_type": "markdown",
   "metadata": {
    "id": "VfYKXyG5Jb7x"
   },
   "source": [
    "<a href=\"https://colab.research.google.com/github/hernansalinas/autogrades/blob/main/Evaluaciones/EvaluacionFinal_2023_I.ipynb\" target=\"_parent\"><img src=\"https://colab.research.google.com/assets/colab-badge.svg\" alt=\"Open In Colab\"/></a>"
   ]
  },
  {
   "cell_type": "markdown",
   "metadata": {
    "id": "ZJKDD4sdpzP7"
   },
   "source": [
    "Examen Final:\n",
    "\n",
    "Métodos Computacionales para físicos\n",
    "\n",
    "\n",
    "\n",
    "Nota: La entrega del examen es a través del github en la página del curso, en el directorio asociado a cada uno.\n",
    "\n",
    "\n",
    "\n",
    "\n",
    "Las aletas son sólidos que transfieren calor por conducción a lo largo de su geometría y por convección a través de su entorno. La ecuación diferencial que describe la temperatura como función de  la longitud de una  aleta viene dada por :\n",
    "\n",
    "\n",
    "\\begin{equation}\n",
    "\\frac{d^2(T-T_{\\infty})}{dx^2} - \\left( \\frac{hp}{kAc} \\right ) ^2 (T-T_{\\infty})=0\n",
    "\\end{equation}\n",
    "\n",
    "donde Ac es el  área de la sección transversal Ac, p es perímetro,\n",
    "k es el coficiente de conducción que depende de cada material y h el coficiente de convección. La temperatura  $T_{\\infty}$ es la temperatura ambiente.\n",
    "\n",
    "\n",
    "![aleta](https://github.com/hernansalinas/autogradesMetodosComputacionales/blob/main/Evaluaciones/img/aleta.png?raw=true)\n",
    "\n",
    "\n",
    "\n",
    "\n",
    "\n"
   ]
  },
  {
   "cell_type": "code",
   "execution_count": null,
   "metadata": {},
   "outputs": [],
   "source": []
  },
  {
   "cell_type": "markdown",
   "metadata": {},
   "source": [
    "En general, el área de la sección transversal A y el perímetro p de una aleta\n",
    "varían con x, lo cual hace que esta ecuación diferencial sea difícil de resolver. En el caso especial de una sección transversal constante y conductividad térmica constante, la ecuación diferencial se reduce a\n",
    "\n",
    "\\begin{equation}\n",
    "\\frac{d^2 \\theta}{dx^2} - a ^2 \\theta=0\n",
    "\\end{equation}\n",
    "\n",
    "\n",
    "donde  $\\theta=T-T_{\\infty}$ y $a=\\frac{hp}{kAc}$\n",
    "\n",
    "\n",
    "Para una aleta suficientemente larga de sección transversal uniforme (Ac =\n",
    "constante), la temperatura en la base de la aleta viene dada por:\n",
    "\n",
    "\n",
    "\\begin{equation}\n",
    "\\theta(0)=\\theta_b=T_b-T_{\\infty}\n",
    "\\end{equation}\n",
    "\n",
    "\n",
    " y en la punta de la aleta, tenderá a la del medio, por consiguiente $\\theta$ tenderá a cero.\n",
    "\n",
    "\\begin{equation}\n",
    "\\theta(L)=T(L)-T_{\\infty}=0\n",
    "\\end{equation}\n",
    "\n",
    "La solucion  exacta viene dada por :\n",
    "\n",
    "\\begin{equation}\n",
    "T(x)=T_{\\infty}+(T_b-T_{\\infty})e^{-x\\sqrt{hp/kAc}}\n",
    "\\end{equation}\n",
    "\n",
    "Referencias: Ejercicio e imagenes tomado y adaptado de:\n",
    "\n",
    "Cengel, Y. A. (2016). “Transferencia de calor y masa” McGRAW-HILL/INTERAMERICANA EDITORES, S.A. DE C.V. 3ra. Edición"
   ]
  },
  {
   "cell_type": "code",
   "execution_count": null,
   "metadata": {},
   "outputs": [],
   "source": []
  },
  {
   "cell_type": "markdown",
   "metadata": {},
   "source": [
    "\n",
    "Considerando  una aleta rectangular muy larga, fijada a una\n",
    "superficie plana de tal forma que la temperatura en el extremo\n",
    "de la aleta es prácticamente la del aire circundante, es decir,\n",
    "$T_{\\infty}=300K$. Asuma que el ancho es de 5.0 cm, el espesor de 1 mm, es decir, su area $A=5\\times 10^{-5}m^2$ y su perimetro de $p=0.102m$. La  conductividad térmica es $k=200 W/m K$, la temperatura en la base de $T_b=313K$ y el coeficiente de transferencia de calor es de $h=20 W/m^2K$. Calcule:\n",
    "\n",
    "\n",
    "\n",
    "1 (30%) La solución numérica de la ecuación diferencial.\n",
    "\n",
    "2 (20%) Construya un gráfico de  la temperatura de la aleta como función de la longitud de la aleta\n",
    "\n",
    "3 (25%) Compare la solución numérica con la analítica\n",
    "\n",
    "4 (25%) Empleando el método de newton detetermine el punto de la aleta para la cual la temperatura es de 305K"
   ]
  },
  {
   "cell_type": "code",
   "execution_count": 205,
   "metadata": {},
   "outputs": [],
   "source": [
    "import numpy as np\n",
    "import pylab as plt\n",
    "import scipy as sc"
   ]
  },
  {
   "cell_type": "markdown",
   "metadata": {},
   "source": [
    "**Solucion Numerica**"
   ]
  },
  {
   "cell_type": "code",
   "execution_count": 206,
   "metadata": {},
   "outputs": [],
   "source": [
    "T_inf, T_base = 300, 313                                  #Temperatura del aire circundante y de la base\n",
    "ancho = 5e-2\n",
    "espesor = 1e-3\n",
    "p = 0.102                                                 #Perimetro  \n",
    "k = 200                                                   #Conductividad_termica    \n",
    "h = 20                                                    #Coeficiente de transeferencia de calor"
   ]
  },
  {
   "cell_type": "markdown",
   "metadata": {},
   "source": [
    "\n",
    "$$ \\frac{d^2 \\theta}{dx^2} - a ^2 \\theta=0 $$\n",
    "\n",
    "donde  $\\theta=T-T_{\\infty}$ y $a=\\frac{hp}{kAc}$"
   ]
  },
  {
   "cell_type": "code",
   "execution_count": 207,
   "metadata": {},
   "outputs": [],
   "source": [
    "Ac = lambda ancho, espesor: ancho * espesor\n",
    "a = lambda h,p,k,Ac: (h*p) / (k*Ac)\n",
    "Theta = lambda T_base, T_inf: T_base - T_inf\n",
    "Omega0 = 0"
   ]
  },
  {
   "cell_type": "markdown",
   "metadata": {},
   "source": [
    "Sea:\n",
    "\n",
    "$$ \\frac{d \\theta}{d x} =  \\omega $$\n",
    "\n",
    "entonces:\n",
    "\n",
    "$$ \\frac{d \\omega}{dx} = a ^2 \\theta $$"
   ]
  },
  {
   "cell_type": "code",
   "execution_count": 209,
   "metadata": {},
   "outputs": [],
   "source": [
    "dTheta_dX = lambda Omega: Omega\n",
    "dOmega_dX = lambda Theta, a: (a**2) * Theta"
   ]
  },
  {
   "cell_type": "markdown",
   "metadata": {},
   "source": [
    "Ademas:\n",
    "\n",
    "$$ \\theta=T-T_{\\infty} $$\n",
    "\n",
    "por consecuente: \n",
    "\n",
    "$$ T = \\theta + T_{\\infty} $$\n",
    "\n",
    "y:\n",
    "\n",
    "$$  a=\\frac{hp}{kAc} $$"
   ]
  },
  {
   "cell_type": "code",
   "execution_count": 210,
   "metadata": {},
   "outputs": [],
   "source": [
    "def temperatura_barra(X_,T_inf, T_base, ancho, espesor, p, k, h, Omega0_):\n",
    "\n",
    "    Theta0_ = Theta(T_base, T_inf)\n",
    "    Ac0 = Ac(ancho, espesor)\n",
    "    a0 = a(h,p,k,Ac0)\n",
    "    delta_t = X_[1] - X_[0] \n",
    "\n",
    "    Ky_, Kv_ = np.zeros((np.shape(X_)[0],4)), np.zeros((np.shape(X_)[0],4))\n",
    "    THETA_, OMEGA_ = np.zeros(np.shape(X_)[0]), np.zeros(np.shape(X_)[0])\n",
    "    THETA_[0], OMEGA_[0] = Theta0_, Omega0_  \n",
    "    T_ = np.zeros(np.shape(X_)[0])\n",
    "    T_[0] = T_base\n",
    "\n",
    "    for i in range(np.shape(X_)[0] - 1):\n",
    "\n",
    "        Ky_[i,:] = dTheta_dX(OMEGA_[i])\n",
    "        Kv_[i,:] = dOmega_dX(THETA_[i], a0 )\n",
    "\n",
    "        THETA_[i+1] = THETA_[i] + (delta_t/6) * (Ky_[i,0] + 2*Ky_[i,1] + 2*Ky_[i,2] + Ky_[i,3])\n",
    "        OMEGA_[i+1] = OMEGA_[i] + (delta_t/6) * (Kv_[i,0] + 2*Kv_[i,1] + 2*Kv_[i,2] + Kv_[i,3])\n",
    "        \n",
    "        T_[i+1] = T_inf + THETA_[i] \n",
    "\n",
    "    return T_"
   ]
  },
  {
   "cell_type": "markdown",
   "metadata": {},
   "source": [
    "**Grafica de  la temperatura de la aleta como función de la longitud de la aleta**"
   ]
  },
  {
   "cell_type": "code",
   "execution_count": 211,
   "metadata": {},
   "outputs": [
    {
     "data": {
      "image/png": "[encoded data removed]",
      "text/plain": [
       "<Figure size 640x480 with 1 Axes>"
      ]
     },
     "metadata": {},
     "output_type": "display_data"
    }
   ],
   "source": [
    "X = np.linspace(0,0.1,100)\n",
    "Y = temperatura_barra(X,T_inf, T_base, ancho, espesor, p, k, h, Omega0)\n",
    "\n",
    "plt.plot(X,Y)\n",
    "plt.grid()\n",
    "plt.xlabel(\"Longitud (metros)\")\n",
    "plt.ylabel(\"Temperatura (Kelvin)\")\n",
    "\n",
    "plt.show()"
   ]
  },
  {
   "cell_type": "markdown",
   "metadata": {},
   "source": [
    "**Solucion analitica &  Comparacion**"
   ]
  },
  {
   "cell_type": "markdown",
   "metadata": {},
   "source": [
    "La solucion  exacta viene dada por :\n",
    "\n",
    "\\begin{equation}\n",
    "T(x)=T_{\\infty}+(T_b-T_{\\infty})e^{-x\\sqrt{hp/kAc}}\n",
    "\\end{equation}\n"
   ]
  },
  {
   "cell_type": "code",
   "execution_count": 212,
   "metadata": {},
   "outputs": [],
   "source": [
    "T_analitica = lambda T_inf, T_base, h, p, k, Ac, x: T_inf + ( (T_base - T_inf) * np.exp( -x * (np.sqrt( (h*p) / (k*Ac(ancho, espesor)) )) ) )\n"
   ]
  },
  {
   "cell_type": "code",
   "execution_count": 213,
   "metadata": {},
   "outputs": [
    {
     "data": {
      "image/png": "[encoded data removed]",
      "text/plain": [
       "<Figure size 640x480 with 1 Axes>"
      ]
     },
     "metadata": {},
     "output_type": "display_data"
    }
   ],
   "source": [
    "X = np.linspace(0,1,100000)\n",
    "Y = T_analitica(T_inf, T_base, h, p, k, Ac, X)\n",
    "\n",
    "plt.plot(X,Y)\n",
    "plt.grid()\n",
    "plt.xlabel(\"Longitud (metros)\")\n",
    "plt.ylabel(\"Temperatura (Kelvin)\")\n",
    "plt.show()"
   ]
  },
  {
   "cell_type": "markdown",
   "metadata": {},
   "source": [
    "**Longitud a la cual la aleta esta a 305**"
   ]
  },
  {
   "cell_type": "code",
   "execution_count": 214,
   "metadata": {},
   "outputs": [
    {
     "data": {
      "text/plain": [
       "0.0668991823266331"
      ]
     },
     "execution_count": 214,
     "metadata": {},
     "output_type": "execute_result"
    }
   ],
   "source": [
    "g =  lambda x: T_analitica(T_inf, T_base, h, p, k, Ac, x) - 305\n",
    "longitud_pedida = sc.optimize.newton(g, 0)\n",
    "longitud_pedida"
   ]
  },
  {
   "cell_type": "markdown",
   "metadata": {},
   "source": [
    "La longitud a la cual la aleta esta a 305 grados es: 6,69 cm"
   ]
  }
 ],
 "metadata": {
  "colab": {
   "provenance": []
  },
  "kernelspec": {
   "display_name": "Python 3 (ipykernel)",
   "language": "python",
   "name": "python3"
  },
  "language_info": {
   "codemirror_mode": {
    "name": "ipython",
    "version": 3
   },
   "file_extension": ".py",
   "mimetype": "text/x-python",
   "name": "python",
   "nbconvert_exporter": "python",
   "pygments_lexer": "ipython3",
   "version": "3.10.9"
  }
 },
 "nbformat": 4,
 "nbformat_minor": 1
}
