{
  "cells": [
    {
      "cell_type": "code",
      "execution_count": 156,
      "metadata": {
        "id": "xIA6dFy4mng2"
      },
      "outputs": [],
      "source": [
        "import numpy as np\n",
        "import sympy as sp\n",
        "import scipy as sc"
      ]
    },
    {
      "cell_type": "code",
      "execution_count": 157,
      "metadata": {
        "id": "AcZRZXVHmwj4"
      },
      "outputs": [],
      "source": [
        "def intercambio_filas(M1,m,n):\n",
        "\n",
        "  M = M1.copy()\n",
        "  M[m,:], M[n,:]  = M1[n,:], M1[m,:]\n",
        "\n",
        "  return M\n",
        "\n",
        "def suma_filas(M1,m,n,c): #Suma la multiplicacion escalar de la fila 'n' con \"c\" a la fila 'm'\n",
        "\n",
        "  M = M1.copy()\n",
        "  M[m,:] = (M1[n,:]*c) + M1[m,:]\n",
        "\n",
        "  return M\n",
        "\n",
        "def escalar_filas(M1,m,c):\n",
        "\n",
        "  M = M1.copy()\n",
        "  M[m,:] = M1[m,:]*c\n",
        "\n",
        "  return M"
      ]
    },
    {
      "cell_type": "code",
      "execution_count": 158,
      "metadata": {
        "id": "1ZhF4GipsHi5"
      },
      "outputs": [],
      "source": [
        "def gauss_jordan(M1):\n",
        "\n",
        "  I, J, eps, M = np.arange(0,np.shape(M1)[0]), np.arange(0,np.min(np.shape(M1))), 1e-8, M1.copy()\n",
        "  \n",
        "  for j in J:\n",
        "    \n",
        "    if np.abs(M[j,j]) <= eps and j == np.max(I):\n",
        "      break\n",
        "\n",
        "    if np.abs(M[j,j]) <= eps and j != np.max(I):\n",
        "      \n",
        "      K = np.arange(j + 1,np.max(I) + 1,1)\n",
        "\n",
        "      for k in K:\n",
        "      \n",
        "        L, N = np.arange(0,np.max(K) - j,1), np.arange(0,k - j,1)\n",
        "\n",
        "        if np.abs(M[j,k]) <= eps and k == np.max(K):\n",
        "            \n",
        "          for l in L:\n",
        "\n",
        "            if M[np.max(K) - l,j] <= eps and l == np.max(L):\n",
        "              M = intercambio_filas(M,j,j + 1)\n",
        "              break\n",
        "\n",
        "            if M[np.max(K) - l,j] > eps:\n",
        "              M = intercambio_filas(M,j,np.max(K) - l)\n",
        "              break\n",
        "\n",
        "        if np.abs(M[j,k]) > eps and k != np.max(K):\n",
        "\n",
        "          for n in N:\n",
        "             \n",
        "             if M[k - n,j] > eps and n == np.max(N):\n",
        "              M = intercambio_filas(M,j,j + 1) \n",
        "              break\n",
        "\n",
        "             if M[k - n,j] <= eps:\n",
        "              M = intercambio_filas(M,j,np.max(K) - n)\n",
        "              break      \n",
        "\n",
        "    if np.abs(M[j,j]) <= eps:\n",
        "      break\n",
        "\n",
        "    M[j,:] = escalar_filas(M,j,( 1 / M[j,j] ))[j]\n",
        "    for i in I:\n",
        "      if i != j:\n",
        "        M[i,:] = suma_filas(M,i,j,-M[i,j])[i]\n",
        "\n",
        "  return M"
      ]
    },
    {
      "cell_type": "code",
      "execution_count": 159,
      "metadata": {},
      "outputs": [],
      "source": [
        "M3 = np.random.uniform(0, 100, size=(10, 11))"
      ]
    },
    {
      "cell_type": "code",
      "execution_count": 160,
      "metadata": {},
      "outputs": [],
      "source": [
        "MM3, MM33 = np.zeros((np.shape(M3)[0],np.shape(M3)[1] - 1)), np.zeros((np.shape(M3)[0],1))\n",
        "MM3[0:,0:], MM33 = M3[0:,0:-1], M3[0:,-1]"
      ]
    },
    {
      "cell_type": "code",
      "execution_count": 161,
      "metadata": {},
      "outputs": [
        {
          "data": {
            "text/latex": [
              "$\\displaystyle \\left[\\begin{matrix}96.11 & 10.29 & 52.75 & 77.3 & 87.64 & 16.02 & 77.63 & 38.21 & 62.04 & 14.77\\\\48.91 & 71.1 & 71.45 & 47.75 & 15.36 & 48.89 & 17.86 & 85.99 & 83.53 & 54.62\\\\20.33 & 66.4 & 41.33 & 12.24 & 86.65 & 34.27 & 45.6 & 55.55 & 97.56 & 7.78\\\\30.02 & 25.36 & 53.66 & 86.11 & 20.91 & 90.55 & 0.33 & 56.93 & 18.61 & 15.05\\\\57.61 & 29.67 & 20.59 & 45.47 & 38.84 & 24.52 & 8.09 & 56.2 & 14.07 & 8.8\\\\70.99 & 10.42 & 64.07 & 93.77 & 89.83 & 2.53 & 38.07 & 12.8 & 40.17 & 92.28\\\\37.14 & 85.05 & 28.01 & 55.06 & 95.54 & 52.64 & 87.77 & 16.63 & 39.77 & 71.5\\\\30.32 & 88.43 & 86.25 & 37.48 & 95.31 & 15.93 & 27.52 & 92.28 & 48.1 & 82.12\\\\11.43 & 39.28 & 35.23 & 51.97 & 65.05 & 36.47 & 78.9 & 29.16 & 57.56 & 92.52\\\\48.5 & 67.5 & 37.75 & 94.26 & 77.19 & 30.04 & 28.85 & 82.17 & 82.03 & 86.73\\end{matrix}\\right]$"
            ],
            "text/plain": [
              "Matrix([\n",
              "[96.11, 10.29, 52.75,  77.3, 87.64, 16.02, 77.63, 38.21, 62.04, 14.77],\n",
              "[48.91,  71.1, 71.45, 47.75, 15.36, 48.89, 17.86, 85.99, 83.53, 54.62],\n",
              "[20.33,  66.4, 41.33, 12.24, 86.65, 34.27,  45.6, 55.55, 97.56,  7.78],\n",
              "[30.02, 25.36, 53.66, 86.11, 20.91, 90.55,  0.33, 56.93, 18.61, 15.05],\n",
              "[57.61, 29.67, 20.59, 45.47, 38.84, 24.52,  8.09,  56.2, 14.07,   8.8],\n",
              "[70.99, 10.42, 64.07, 93.77, 89.83,  2.53, 38.07,  12.8, 40.17, 92.28],\n",
              "[37.14, 85.05, 28.01, 55.06, 95.54, 52.64, 87.77, 16.63, 39.77,  71.5],\n",
              "[30.32, 88.43, 86.25, 37.48, 95.31, 15.93, 27.52, 92.28,  48.1, 82.12],\n",
              "[11.43, 39.28, 35.23, 51.97, 65.05, 36.47,  78.9, 29.16, 57.56, 92.52],\n",
              "[ 48.5,  67.5, 37.75, 94.26, 77.19, 30.04, 28.85, 82.17, 82.03, 86.73]])"
            ]
          },
          "execution_count": 161,
          "metadata": {},
          "output_type": "execute_result"
        }
      ],
      "source": [
        "sp.Matrix(np.round(MM3,2))"
      ]
    },
    {
      "cell_type": "code",
      "execution_count": 162,
      "metadata": {},
      "outputs": [
        {
          "data": {
            "text/latex": [
              "$\\displaystyle \\left[\\begin{matrix}56.39\\\\80.09\\\\50.21\\\\74.65\\\\47.78\\\\28.09\\\\91.58\\\\89.61\\\\59.64\\\\71.28\\end{matrix}\\right]$"
            ],
            "text/plain": [
              "Matrix([\n",
              "[56.39],\n",
              "[80.09],\n",
              "[50.21],\n",
              "[74.65],\n",
              "[47.78],\n",
              "[28.09],\n",
              "[91.58],\n",
              "[89.61],\n",
              "[59.64],\n",
              "[71.28]])"
            ]
          },
          "execution_count": 162,
          "metadata": {},
          "output_type": "execute_result"
        }
      ],
      "source": [
        "sp.Matrix(np.round(MM33,2))"
      ]
    },
    {
      "cell_type": "code",
      "execution_count": 163,
      "metadata": {},
      "outputs": [
        {
          "data": {
            "text/latex": [
              "$\\displaystyle \\left[\\begin{matrix}-0.13\\\\0.67\\\\0.29\\\\0.42\\\\-0.23\\\\0.04\\\\0.58\\\\0.36\\\\-0.37\\\\-0.21\\end{matrix}\\right]$"
            ],
            "text/plain": [
              "Matrix([\n",
              "[-0.13],\n",
              "[ 0.67],\n",
              "[ 0.29],\n",
              "[ 0.42],\n",
              "[-0.23],\n",
              "[ 0.04],\n",
              "[ 0.58],\n",
              "[ 0.36],\n",
              "[-0.37],\n",
              "[-0.21]])"
            ]
          },
          "execution_count": 163,
          "metadata": {},
          "output_type": "execute_result"
        }
      ],
      "source": [
        "sp.Matrix(np.round(sc.linalg.solve(MM3,MM33),2))"
      ]
    },
    {
      "cell_type": "code",
      "execution_count": 164,
      "metadata": {},
      "outputs": [
        {
          "data": {
            "text/latex": [
              "$\\displaystyle \\left[\\begin{matrix}-0.13\\\\0.67\\\\0.29\\\\0.42\\\\-0.23\\\\0.04\\\\0.58\\\\0.36\\\\-0.37\\\\-0.21\\end{matrix}\\right]$"
            ],
            "text/plain": [
              "Matrix([\n",
              "[-0.13],\n",
              "[ 0.67],\n",
              "[ 0.29],\n",
              "[ 0.42],\n",
              "[-0.23],\n",
              "[ 0.04],\n",
              "[ 0.58],\n",
              "[ 0.36],\n",
              "[-0.37],\n",
              "[-0.21]])"
            ]
          },
          "execution_count": 164,
          "metadata": {},
          "output_type": "execute_result"
        }
      ],
      "source": [
        "sp.Matrix(np.round(gauss_jordan(M3)[0:,-1],2))"
      ]
    },
    {
      "cell_type": "code",
      "execution_count": 165,
      "metadata": {},
      "outputs": [],
      "source": [
        "M4 = M3.copy()\n",
        "M4[1,:], M4[-1,:] = M3[0,:], M3[0,:]\n",
        "M4[7,:] = M3[0,:]\n",
        "M4[3,:] = M3[0,:]\n",
        "M4[5,:] = M3[0,:]\n",
        "M4[8,:] = M3[0,:]"
      ]
    },
    {
      "cell_type": "code",
      "execution_count": 166,
      "metadata": {},
      "outputs": [
        {
          "data": {
            "text/latex": [
              "$\\displaystyle \\left[\\begin{array}{ccccccccccc}96.11 & 10.29 & 52.75 & 77.3 & 87.64 & 16.02 & 77.63 & 38.21 & 62.04 & 14.77 & 56.39\\\\96.11 & 10.29 & 52.75 & 77.3 & 87.64 & 16.02 & 77.63 & 38.21 & 62.04 & 14.77 & 56.39\\\\20.33 & 66.4 & 41.33 & 12.24 & 86.65 & 34.27 & 45.6 & 55.55 & 97.56 & 7.78 & 50.21\\\\96.11 & 10.29 & 52.75 & 77.3 & 87.64 & 16.02 & 77.63 & 38.21 & 62.04 & 14.77 & 56.39\\\\57.61 & 29.67 & 20.59 & 45.47 & 38.84 & 24.52 & 8.09 & 56.2 & 14.07 & 8.8 & 47.78\\\\96.11 & 10.29 & 52.75 & 77.3 & 87.64 & 16.02 & 77.63 & 38.21 & 62.04 & 14.77 & 56.39\\\\37.14 & 85.05 & 28.01 & 55.06 & 95.54 & 52.64 & 87.77 & 16.63 & 39.77 & 71.5 & 91.58\\\\96.11 & 10.29 & 52.75 & 77.3 & 87.64 & 16.02 & 77.63 & 38.21 & 62.04 & 14.77 & 56.39\\\\96.11 & 10.29 & 52.75 & 77.3 & 87.64 & 16.02 & 77.63 & 38.21 & 62.04 & 14.77 & 56.39\\\\96.11 & 10.29 & 52.75 & 77.3 & 87.64 & 16.02 & 77.63 & 38.21 & 62.04 & 14.77 & 56.39\\end{array}\\right]$"
            ],
            "text/plain": [
              "Matrix([\n",
              "[96.11, 10.29, 52.75,  77.3, 87.64, 16.02, 77.63, 38.21, 62.04, 14.77, 56.39],\n",
              "[96.11, 10.29, 52.75,  77.3, 87.64, 16.02, 77.63, 38.21, 62.04, 14.77, 56.39],\n",
              "[20.33,  66.4, 41.33, 12.24, 86.65, 34.27,  45.6, 55.55, 97.56,  7.78, 50.21],\n",
              "[96.11, 10.29, 52.75,  77.3, 87.64, 16.02, 77.63, 38.21, 62.04, 14.77, 56.39],\n",
              "[57.61, 29.67, 20.59, 45.47, 38.84, 24.52,  8.09,  56.2, 14.07,   8.8, 47.78],\n",
              "[96.11, 10.29, 52.75,  77.3, 87.64, 16.02, 77.63, 38.21, 62.04, 14.77, 56.39],\n",
              "[37.14, 85.05, 28.01, 55.06, 95.54, 52.64, 87.77, 16.63, 39.77,  71.5, 91.58],\n",
              "[96.11, 10.29, 52.75,  77.3, 87.64, 16.02, 77.63, 38.21, 62.04, 14.77, 56.39],\n",
              "[96.11, 10.29, 52.75,  77.3, 87.64, 16.02, 77.63, 38.21, 62.04, 14.77, 56.39],\n",
              "[96.11, 10.29, 52.75,  77.3, 87.64, 16.02, 77.63, 38.21, 62.04, 14.77, 56.39]])"
            ]
          },
          "execution_count": 166,
          "metadata": {},
          "output_type": "execute_result"
        }
      ],
      "source": [
        "sp.Matrix(np.round(M4,2))"
      ]
    },
    {
      "cell_type": "code",
      "execution_count": 167,
      "metadata": {},
      "outputs": [
        {
          "data": {
            "text/latex": [
              "$\\displaystyle \\left[\\begin{array}{ccccccccccc}1.0 & 0 & 0 & 0 & -0.89 & 0.13 & -2.83 & 2.92 & -0.26 & -1.64 & -0.08\\\\0 & 1.0 & 0 & 0 & 0.29 & 0.56 & -0.44 & 0.94 & 0.14 & 0.14 & 0.63\\\\0 & 0 & 1.0 & 0 & 1.78 & -0.16 & 2.31 & -0.8 & 2.43 & 0.14 & 0.02\\\\0 & 0 & 0 & 1.0 & 0.98 & 0.08 & 3.01 & -2.71 & -0.55 & 2.11 & 0.73\\\\0 & 0 & 0 & 0 & 0 & 0 & 0 & 0 & 0 & 0 & 0\\\\0 & 0 & 0 & 0 & 0 & 0 & 0 & 0 & 0 & 0 & 0\\\\0 & 0 & 0 & 0 & 0 & 0 & 0 & 0 & 0 & 0 & 0\\\\0 & 0 & 0 & 0 & 0 & 0 & 0 & 0 & 0 & 0 & 0\\\\0 & 0 & 0 & 0 & 0 & 0 & 0 & 0 & 0 & 0 & 0\\\\0 & 0 & 0 & 0 & 0 & 0 & 0 & 0 & 0 & 0 & 0\\end{array}\\right]$"
            ],
            "text/plain": [
              "Matrix([\n",
              "[1.0,   0,   0,   0, -0.89,  0.13, -2.83,  2.92, -0.26, -1.64, -0.08],\n",
              "[  0, 1.0,   0,   0,  0.29,  0.56, -0.44,  0.94,  0.14,  0.14,  0.63],\n",
              "[  0,   0, 1.0,   0,  1.78, -0.16,  2.31,  -0.8,  2.43,  0.14,  0.02],\n",
              "[  0,   0,   0, 1.0,  0.98,  0.08,  3.01, -2.71, -0.55,  2.11,  0.73],\n",
              "[  0,   0,   0,   0,     0,     0,     0,     0,     0,     0,     0],\n",
              "[  0,   0,   0,   0,     0,     0,     0,     0,     0,     0,     0],\n",
              "[  0,   0,   0,   0,     0,     0,     0,     0,     0,     0,     0],\n",
              "[  0,   0,   0,   0,     0,     0,     0,     0,     0,     0,     0],\n",
              "[  0,   0,   0,   0,     0,     0,     0,     0,     0,     0,     0],\n",
              "[  0,   0,   0,   0,     0,     0,     0,     0,     0,     0,     0]])"
            ]
          },
          "execution_count": 167,
          "metadata": {},
          "output_type": "execute_result"
        }
      ],
      "source": [
        "sp.Matrix(np.round(gauss_jordan(M4),2))"
      ]
    },
    {
      "cell_type": "code",
      "execution_count": null,
      "metadata": {},
      "outputs": [],
      "source": []
    }
  ],
  "metadata": {
    "colab": {
      "provenance": []
    },
    "kernelspec": {
      "display_name": "Python 3",
      "name": "python3"
    },
    "language_info": {
      "codemirror_mode": {
        "name": "ipython",
        "version": 3
      },
      "file_extension": ".py",
      "mimetype": "text/x-python",
      "name": "python",
      "nbconvert_exporter": "python",
      "pygments_lexer": "ipython3",
      "version": "3.11.6"
    }
  },
  "nbformat": 4,
  "nbformat_minor": 0
}
