{
 "cells": [
  {
   "cell_type": "markdown",
   "metadata": {},
   "source": [
    "**LABORATORIO 5**"
   ]
  },
  {
   "cell_type": "code",
   "execution_count": 1,
   "metadata": {},
   "outputs": [],
   "source": [
    "import numpy as np\n",
    "import pylab as plt\n",
    "import math"
   ]
  },
  {
   "cell_type": "markdown",
   "metadata": {},
   "source": [
    "**Exponencial, serie alternante (serieEn)**"
   ]
  },
  {
   "cell_type": "code",
   "execution_count": 2,
   "metadata": {},
   "outputs": [],
   "source": [
    "def exponencial_negativo(x,k):\n",
    "\n",
    "    N = np.arange(0,k,1)\n",
    "    Sumador = 0\n",
    "\n",
    "    for n in N:\n",
    "\n",
    "        Sumador = Sumador + ((-1)**int(n)) * (x**int(n)) / math.factorial(int(n))\n",
    "\n",
    "    return Sumador"
   ]
  },
  {
   "cell_type": "code",
   "execution_count": 3,
   "metadata": {},
   "outputs": [
    {
     "data": {
      "text/plain": [
       "(2.7182818284590455, 0.4065696597405991)"
      ]
     },
     "execution_count": 3,
     "metadata": {},
     "output_type": "execute_result"
    }
   ],
   "source": [
    "exponencial_negativo(-1,1000), np.exp(-0.9)"
   ]
  },
  {
   "cell_type": "code",
   "execution_count": 4,
   "metadata": {},
   "outputs": [],
   "source": [
    "def exponencial_negativo_n(x):\n",
    "\n",
    "    N = np.arange(0,10000,1)\n",
    "\n",
    "    Sumador = 0\n",
    "    Sumando = 0\n",
    "    nn = 0\n",
    "    \n",
    "\n",
    "\n",
    "    for n in N:\n",
    "\n",
    "        if np.abs(Sumando) < np.abs((Sumador * (10**(-7)))):\n",
    "            break\n",
    "\n",
    "        else:\n",
    "             \n",
    "            Sumador = Sumador + ((-1)**int(n)) * (x**int(n)) / math.factorial(int(n))\n",
    "            Sumando = ((-1)**int(n)) * (x**int(n)) / math.factorial(int(n))\n",
    "            nn = n\n",
    "\n",
    "    return Sumador, nn"
   ]
  },
  {
   "cell_type": "code",
   "execution_count": 5,
   "metadata": {},
   "outputs": [
    {
     "data": {
      "text/plain": [
       "(0.4065696591893227, 11)"
      ]
     },
     "execution_count": 5,
     "metadata": {},
     "output_type": "execute_result"
    }
   ],
   "source": [
    "exponencial_negativo_n(0.9)"
   ]
  },
  {
   "cell_type": "code",
   "execution_count": 6,
   "metadata": {},
   "outputs": [
    {
     "data": {
      "text/plain": [
       "((4.539992975340805e-05, 46), 1342.5873015873017, 4.5399929762484854e-05)"
      ]
     },
     "execution_count": 6,
     "metadata": {},
     "output_type": "execute_result"
    }
   ],
   "source": [
    "x = 10\n",
    "\n",
    "exponencial_negativo_n(x), exponencial_negativo(x,x -1), np.exp(-x)"
   ]
  },
  {
   "cell_type": "code",
   "execution_count": 7,
   "metadata": {},
   "outputs": [],
   "source": [
    "def exponecial(x,k):\n",
    "\n",
    "    N = np.arange(0,k,1)\n",
    "    Sumador = 0\n",
    "\n",
    "    for n in N:\n",
    "\n",
    "        Sumador = Sumador + (x**int(n)) / math.factorial(int(n))\n",
    "\n",
    "    return Sumador\n"
   ]
  },
  {
   "cell_type": "code",
   "execution_count": 8,
   "metadata": {},
   "outputs": [
    {
     "data": {
      "text/plain": [
       "(0.00013640999214018616, 1342.5873015873017, 4.539992976248485e-05)"
      ]
     },
     "execution_count": 8,
     "metadata": {},
     "output_type": "execute_result"
    }
   ],
   "source": [
    "x = 10\n",
    "\n",
    "1/exponecial(x,x-1), exponencial_negativo(x,x -1), 1/np.exp(x)"
   ]
  },
  {
   "cell_type": "code",
   "execution_count": 9,
   "metadata": {},
   "outputs": [
    {
     "data": {
      "text/plain": [
       "array([1.00000000e+00, 8.18730753e-01, 6.70320047e-01, 5.48811635e-01,\n",
       "       4.49328966e-01, 3.67879439e-01, 3.01194213e-01, 2.46596963e-01,\n",
       "       2.01896519e-01, 1.65298888e-01, 1.35335284e-01, 1.10803158e-01,\n",
       "       9.07179523e-02, 7.42735788e-02, 6.08100623e-02, 4.97870685e-02,\n",
       "       4.07622039e-02, 3.33732696e-02, 2.73237227e-02, 2.23707717e-02,\n",
       "       1.83156390e-02, 1.49955770e-02, 1.22773398e-02, 1.00518358e-02,\n",
       "       8.22974702e-03, 6.73794702e-03, 5.51656448e-03, 4.51658091e-03,\n",
       "       3.69786373e-03, 3.02755479e-03, 2.47875215e-03, 2.02943065e-03,\n",
       "       1.66155727e-03, 1.36036802e-03, 1.11377516e-03, 9.11881960e-04,\n",
       "       7.46585812e-04, 6.11252770e-04, 5.00451429e-04, 4.09734982e-04,\n",
       "       3.35462626e-04, 2.74653566e-04, 2.24867326e-04, 1.84105793e-04,\n",
       "       1.50733076e-04, 1.23409805e-04, 1.01039401e-04, 8.27240656e-05,\n",
       "       6.77287373e-05, 5.54515983e-05, 4.53999298e-05])"
      ]
     },
     "execution_count": 9,
     "metadata": {},
     "output_type": "execute_result"
    }
   ],
   "source": [
    "X1 = np.arange(0,10 + 0.2 ,0.2)\n",
    "F1 = np.zeros(len(X1))\n",
    "\n",
    "M1 = np.arange(0,len(X1),1)\n",
    "\n",
    "for m1 in M1:\n",
    "    f1,n1 = exponencial_negativo_n(float(X1[m1]))\n",
    "    F1[m1] = f1\n",
    "\n",
    "F1"
   ]
  },
  {
   "cell_type": "code",
   "execution_count": 10,
   "metadata": {},
   "outputs": [
    {
     "data": {
      "text/plain": [
       "(4.539992975340805e-05, 4.5399929762484854e-05)"
      ]
     },
     "execution_count": 10,
     "metadata": {},
     "output_type": "execute_result"
    }
   ],
   "source": [
    "f,n = exponencial_negativo_n(10)\n",
    "\n",
    "f, np.exp(-10)"
   ]
  },
  {
   "cell_type": "code",
   "execution_count": 11,
   "metadata": {},
   "outputs": [
    {
     "data": {
      "text/plain": [
       "array([4.53999298e-05, 3.71703182e-05, 3.04324825e-05, 2.49160106e-05,\n",
       "       2.03995023e-05, 1.67017004e-05, 1.36741941e-05, 1.11954830e-05,\n",
       "       9.16608916e-06, 7.50455920e-06, 6.14421493e-06, 5.03045638e-06,\n",
       "       4.11859565e-06, 3.37202156e-06, 2.76077863e-06, 2.26034150e-06,\n",
       "       1.85059718e-06, 1.51514067e-06, 1.24047267e-06, 1.01563985e-06,\n",
       "       8.31563087e-07, 6.80815430e-07, 5.57389833e-07, 4.56396072e-07,\n",
       "       3.73628379e-07, 3.05948666e-07, 2.50411486e-07, 2.05026541e-07,\n",
       "       1.67937107e-07, 1.37329655e-07, 1.12610959e-07, 9.24227634e-08,\n",
       "       7.54790789e-08, 6.14748692e-08, 5.01279977e-08, 4.16731340e-08,\n",
       "       3.33199243e-08, 2.74030333e-08, 2.20156017e-08, 1.74743278e-08,\n",
       "       1.55448649e-08, 1.06697452e-08, 1.11721378e-08])"
      ]
     },
     "execution_count": 11,
     "metadata": {},
     "output_type": "execute_result"
    }
   ],
   "source": [
    "X2 = np.arange(10,100, 0.2)\n",
    "N2 = []\n",
    "F2 = []\n",
    "M2 = np.arange(0,len(X2),1)\n",
    "f = 10\n",
    "\n",
    "\n",
    "for m2 in M2:\n",
    "    \n",
    "    f2,n2 = exponencial_negativo_n(float(X2[m2]))\n",
    "    F2.append(f2), N2.append(n2)\n",
    "\n",
    "    if f < f2:\n",
    "        break \n",
    "\n",
    "    else:\n",
    "        f = f2 \n",
    "\n",
    "np.array(F2)"
   ]
  },
  {
   "cell_type": "code",
   "execution_count": 12,
   "metadata": {},
   "outputs": [
    {
     "data": {
      "text/plain": [
       "(True,\n",
       " 1.982201980788498e-09,\n",
       " 1.4484993259195466e-08,\n",
       " 5.602796437537268e-09,\n",
       " 4.587181746647525e-09)"
      ]
     },
     "execution_count": 12,
     "metadata": {},
     "output_type": "execute_result"
    }
   ],
   "source": [
    "f2,n2 = exponencial_negativo_n(10*4*0.2 + 5*0.2 + 10)\n",
    "f3,n3 = exponencial_negativo_n(10*4*0.2 + 6*0.2 + 10)\n",
    "f22, f33 = np.exp(-(10*4*0.2 + 5*0.2 + 10)), np.exp(-(10*4*0.2 + 6*0.2 + 10))\n",
    "\n",
    "f2 < f3, f2, f3, f22, f33"
   ]
  },
  {
   "cell_type": "code",
   "execution_count": 13,
   "metadata": {},
   "outputs": [],
   "source": [
    "def exponencial_n(x):\n",
    "\n",
    "    N = np.arange(0,10000,1)\n",
    "\n",
    "    Sumador = 0\n",
    "    Sumando = 0\n",
    "    nn = 0\n",
    "\n",
    "    for n in N:\n",
    "\n",
    "        if np.abs(Sumando) < np.abs((Sumador * (10**(-7)))):\n",
    "            break\n",
    "\n",
    "        else:\n",
    "             \n",
    "            Sumador = Sumador + (x**int(n)) / math.factorial(int(n))\n",
    "            Sumando = (x**int(n)) / math.factorial(int(n))\n",
    "            nn = n\n",
    "\n",
    "    return Sumador, nn"
   ]
  },
  {
   "cell_type": "code",
   "execution_count": 14,
   "metadata": {},
   "outputs": [
    {
     "data": {
      "text/plain": [
       "array([1.00000000e+00, 8.18730755e-01, 6.70320046e-01, 5.48811637e-01,\n",
       "       4.49328965e-01, 3.67879441e-01, 3.01194214e-01, 2.46596965e-01,\n",
       "       2.01896518e-01, 1.65298890e-01, 1.35335284e-01, 1.10803160e-01,\n",
       "       9.07179538e-02, 7.42735796e-02, 6.08100631e-02, 4.97870685e-02,\n",
       "       4.07622044e-02, 3.33732701e-02, 2.73237227e-02, 2.23707724e-02,\n",
       "       1.83156391e-02, 1.49955772e-02, 1.22773400e-02, 1.00518360e-02,\n",
       "       8.22974712e-03, 6.73794712e-03, 5.51656446e-03, 4.51658101e-03,\n",
       "       3.69786383e-03, 3.02755479e-03, 2.47875224e-03, 2.02943066e-03,\n",
       "       1.66155731e-03, 1.36036805e-03, 1.11377517e-03, 9.11881992e-04,\n",
       "       7.46585818e-04, 6.11252775e-04, 5.00451452e-04, 4.09734986e-04,\n",
       "       3.35462638e-04, 2.74653574e-04, 2.24867329e-04, 1.84105800e-04,\n",
       "       1.50733078e-04, 1.23409807e-04, 1.01039403e-04, 8.27240673e-05,\n",
       "       6.77287387e-05, 5.54516003e-05, 4.53999309e-05])"
      ]
     },
     "execution_count": 14,
     "metadata": {},
     "output_type": "execute_result"
    }
   ],
   "source": [
    "X1 = np.arange(0,10 + 0.2 ,0.2)\n",
    "F1 = np.zeros(len(X1))\n",
    "\n",
    "M1 = np.arange(0,len(X1),1)\n",
    "\n",
    "for m1 in M1:\n",
    "    f1,n1 = exponencial_n(X1[m1])\n",
    "    F1[m1] = 1/f1\n",
    "\n",
    "F1"
   ]
  },
  {
   "cell_type": "code",
   "execution_count": 15,
   "metadata": {},
   "outputs": [
    {
     "data": {
      "text/plain": [
       "(array([4.53999309e-05, 2.75364500e-05, 1.67017011e-05, 1.01300938e-05,\n",
       "        6.14421246e-06, 3.72665334e-06, 2.26032950e-06, 1.37095914e-06,\n",
       "        8.31528745e-07, 5.04347676e-07, 3.05902328e-07, 1.85539147e-07,\n",
       "        1.12535180e-07, 6.82560365e-08, 4.13993786e-08, 2.51099923e-08,\n",
       "        1.52299807e-08, 9.23745016e-09, 5.60279669e-09, 3.39826795e-09,\n",
       "        2.06115369e-09, 1.25015295e-09, 7.58256084e-10, 4.59905559e-10,\n",
       "        2.78946820e-10, 1.69189805e-10, 1.02618803e-10, 6.22414494e-11,\n",
       "        3.77513470e-11, 2.28973493e-11, 1.38879448e-11, 8.42346422e-12,\n",
       "        5.10908926e-12, 3.09881925e-12, 1.87952895e-12, 1.13999192e-12,\n",
       "        6.91440043e-13, 4.19379601e-13, 2.54366582e-13, 1.54281129e-13,\n",
       "        9.35762340e-14, 5.67568570e-14, 3.44247734e-14, 2.08796803e-14,\n",
       "        1.26641661e-14, 7.68120529e-15, 4.65888645e-15, 2.82575744e-15,\n",
       "        1.71390859e-15, 1.03953809e-15, 6.30511714e-16, 3.82424682e-16,\n",
       "        2.31952302e-16, 1.40686181e-16, 8.53304810e-17, 5.17555549e-17,\n",
       "        3.13913303e-17, 1.90398040e-17, 1.15482254e-17, 7.00435261e-18,\n",
       "        4.24835455e-18, 2.57675725e-18, 1.56288233e-18, 9.47936036e-19,\n",
       "        5.74952262e-19, 3.48726187e-19, 2.11513121e-19, 1.28289191e-19,\n",
       "        7.78113305e-20, 4.71949568e-20, 2.86251878e-20, 1.73620547e-20,\n",
       "        1.05306183e-20, 6.38714277e-21, 3.87399786e-21, 2.34969856e-21,\n",
       "        1.42516419e-21, 8.64405767e-22, 5.24288618e-22, 3.17997116e-22,\n",
       "        1.92874998e-22, 1.16984604e-22, 7.09547476e-23, 4.30362292e-23,\n",
       "        2.61027934e-23, 1.58321442e-23, 9.60268074e-24, 5.82432050e-24,\n",
       "        3.53262889e-24, 2.14264770e-24, 1.29958157e-24, 7.88236050e-25,\n",
       "        4.78089324e-25, 2.89975844e-25, 1.75879236e-25, 1.06676148e-25,\n",
       "        6.47023565e-26, 3.92439622e-26, 2.38026659e-26, 1.44370472e-26,\n",
       "        8.75651158e-27, 5.31109266e-27, 3.22134065e-27, 1.95384183e-27,\n",
       "        1.18506496e-27, 7.18778255e-28, 4.35961041e-28, 2.64423749e-28,\n",
       "        1.60381107e-28, 9.72760568e-29, 5.90009133e-29, 3.57858621e-29,\n",
       "        2.17052221e-29, 1.31648832e-29, 7.98490513e-30, 4.84308968e-30,\n",
       "        2.93748250e-30, 1.78167316e-30, 1.08063938e-30, 6.55440938e-31,\n",
       "        3.97545016e-31, 2.41123237e-31, 1.46248641e-31, 8.87042829e-32,\n",
       "        5.38018663e-32, 3.26324826e-32, 1.97926008e-32, 1.20048197e-32,\n",
       "        7.28129106e-33, 4.41632618e-33, 2.67863734e-33, 1.62467563e-33,\n",
       "        9.85415565e-34, 5.97684776e-34, 3.62514133e-34, 2.19875932e-34,\n",
       "        1.33361499e-34, 8.08878363e-35, 4.90609518e-35, 2.97569726e-35,\n",
       "        1.80485158e-35, 1.09469787e-35, 6.63967802e-36, 4.02716821e-36,\n",
       "        2.44260109e-36, 1.48151241e-36, 8.98582685e-37, 5.45017969e-37,\n",
       "        3.30570101e-37, 2.00500910e-37, 1.21609946e-37, 7.37601592e-38,\n",
       "        4.47377999e-38, 2.71348466e-38, 1.64581161e-38, 9.98235239e-39,\n",
       "        6.05460264e-39, 3.67230206e-39, 2.22736387e-39, 1.35096445e-39,\n",
       "        8.19401393e-40, 4.96992055e-40, 3.01440912e-40, 1.82833163e-40,\n",
       "        1.10893916e-40, 6.72605587e-41, 4.07955926e-41, 2.47437771e-41,\n",
       "        1.50078601e-41, 9.10272705e-42, 5.52108292e-42, 3.34870620e-42,\n",
       "        2.03109293e-42, 1.23192011e-42, 7.47197345e-43, 4.53198088e-43,\n",
       "        2.74878547e-43, 1.66722262e-43, 1.01122161e-43]),\n",
       " array([ 31.,  32.,  33.,  34.,  35.,  35.,  36.,  37.,  38.,  39.,  40.,\n",
       "         40.,  41.,  42.,  43.,  44.,  44.,  45.,  46.,  47.,  48.,  48.,\n",
       "         49.,  50.,  51.,  51.,  52.,  53.,  54.,  55.,  55.,  56.,  57.,\n",
       "         58.,  58.,  59.,  60.,  60.,  61.,  62.,  63.,  63.,  64.,  65.,\n",
       "         66.,  66.,  67.,  68.,  68.,  69.,  70.,  71.,  71.,  72.,  73.,\n",
       "         73.,  74.,  75.,  75.,  76.,  77.,  78.,  78.,  79.,  80.,  80.,\n",
       "         81.,  82.,  82.,  83.,  84.,  84.,  85.,  86.,  87.,  87.,  88.,\n",
       "         89.,  89.,  90.,  91.,  91.,  92.,  93.,  93.,  94.,  95.,  95.,\n",
       "         96.,  97.,  97.,  98.,  99.,  99., 100., 101., 101., 102., 103.,\n",
       "        103., 104., 105., 105., 106., 107., 107., 108., 108., 109., 110.,\n",
       "        110., 111., 112., 112., 113., 114., 114., 115., 116., 116., 117.,\n",
       "        118., 118., 119., 120., 120., 121., 121., 122., 123., 123., 124.,\n",
       "        125., 125., 126., 127., 127., 128., 129., 129., 130., 130., 131.,\n",
       "        132., 132., 133., 134., 134., 135., 135., 136., 137., 137., 138.,\n",
       "        139., 139., 140., 141., 141., 142., 142., 143., 144., 144., 145.,\n",
       "        146., 146., 147., 147., 148., 149., 149., 150., 151., 151., 152.,\n",
       "        152., 153., 154.]))"
      ]
     },
     "execution_count": 15,
     "metadata": {},
     "output_type": "execute_result"
    }
   ],
   "source": [
    "X2 = np.arange(10,99 + 0.5,0.5)\n",
    "N2 = np.zeros(len(X2))\n",
    "F2 = np.zeros(len(X2))\n",
    "M2 = np.arange(0,len(X2),1)\n",
    "\n",
    "for m2 in M2:\n",
    "    f2,n2 = exponencial_n(float(X2[m2]))\n",
    "    F2[m2],N2[m2] = 1/f2, n2\n",
    "\n",
    "F2, N2"
   ]
  },
  {
   "cell_type": "code",
   "execution_count": 16,
   "metadata": {},
   "outputs": [
    {
     "data": {
      "text/plain": [
       "((-1806559128062.4675, 166), 9.85967654375977e-305, 9.859681194365e-305, 833)"
      ]
     },
     "execution_count": 16,
     "metadata": {},
     "output_type": "execute_result"
    }
   ],
   "source": [
    "f,n = exponencial_n(700)\n",
    "\n",
    "exponencial_negativo_n(67), np.exp(-700), 1/f, n"
   ]
  },
  {
   "cell_type": "markdown",
   "metadata": {},
   "source": [
    "**Cancelación sustractiva**"
   ]
  },
  {
   "cell_type": "code",
   "execution_count": 36,
   "metadata": {},
   "outputs": [],
   "source": [
    "def S1(k):\n",
    "\n",
    "    N = np.arange(1,2*k,1)\n",
    "    Sumador = 0 \n",
    "\n",
    "    for n in N:\n",
    "\n",
    "        Sumador = Sumador + (((-1)**int(n)) * (int(n) / (int(n) + 1 )))\n",
    "    \n",
    "    return Sumador\n",
    "\n",
    "def S2(k):\n",
    "\n",
    "    N = np.arange(1,k,1)\n",
    "    Sumador_n = 0 \n",
    "    Sumador_p = 0\n",
    "\n",
    "    for n in N:\n",
    "        \n",
    "        Sumador_n = Sumador_n + (2*int(n) - 1) / (2*int(n))\n",
    "        Sumador_p = Sumador_p + (2*int(n)) / (2*int(n) + 1)\n",
    "\n",
    "    return Sumador_p - Sumador_n\n",
    "\n",
    "def S3(k):\n",
    "\n",
    "    N = np.arange(1,k,1)\n",
    "    Sumador = 0\n",
    "\n",
    "    for n in N:\n",
    "\n",
    "        Sumador = Sumador + 1 / (2*int(n) * (2*int(n) + 1))\n",
    "    \n",
    "    return Sumador"
   ]
  },
  {
   "cell_type": "code",
   "execution_count": 38,
   "metadata": {},
   "outputs": [
    {
     "data": {
      "text/plain": [
       "(-0.690031945994226, 0.30371805400575624, 0.3037180540057747)"
      ]
     },
     "execution_count": 38,
     "metadata": {},
     "output_type": "execute_result"
    }
   ],
   "source": [
    "k = 80\n",
    "\n",
    "S1(k),S2(k),S3(k)"
   ]
  },
  {
   "cell_type": "code",
   "execution_count": null,
   "metadata": {},
   "outputs": [],
   "source": []
  }
 ],
 "metadata": {
  "kernelspec": {
   "display_name": "Python 3",
   "language": "python",
   "name": "python3"
  },
  "language_info": {
   "codemirror_mode": {
    "name": "ipython",
    "version": 3
   },
   "file_extension": ".py",
   "mimetype": "text/x-python",
   "name": "python",
   "nbconvert_exporter": "python",
   "pygments_lexer": "ipython3",
   "version": "3.11.6"
  },
  "orig_nbformat": 4
 },
 "nbformat": 4,
 "nbformat_minor": 2
}
