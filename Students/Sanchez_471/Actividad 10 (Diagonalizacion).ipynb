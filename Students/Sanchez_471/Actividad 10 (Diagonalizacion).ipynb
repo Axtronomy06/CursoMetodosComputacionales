{
 "cells": [
  {
   "cell_type": "code",
   "execution_count": 273,
   "metadata": {},
   "outputs": [],
   "source": [
    "import numpy as np\n",
    "import scipy as sc\n",
    "import pylab as plt\n",
    "import sympy as sp"
   ]
  },
  {
   "cell_type": "code",
   "execution_count": 274,
   "metadata": {},
   "outputs": [],
   "source": [
    "def diagonalizacion_D_P(M_): \n",
    "\n",
    "    lam  = sp.Symbol(\"\\lambda\")\n",
    "    M, I = sp.Matrix(M_), sp.Matrix.eye(np.shape(M_)[0])\n",
    "\n",
    "    POLINOMIO_CARACTERISTICO = (M - I*lam).det()\n",
    "    Valores_Propios = sp.roots(POLINOMIO_CARACTERISTICO)\n",
    "    V_P, MULTIPLICIDAD = np.array(list(Valores_Propios.keys()), dtype = complex), np.array(list(Valores_Propios.values()))\n",
    "    \n",
    "    V_PP = []\n",
    "\n",
    "    for i in range(np.shape(MULTIPLICIDAD)[0]):\n",
    "        V_PP.append([V_P[i]]*MULTIPLICIDAD[i])\n",
    "\n",
    "    VALORES_PROPIOS = []\n",
    "\n",
    "    for j in range(np.shape(MULTIPLICIDAD)[0]):\n",
    "        for k in range(MULTIPLICIDAD[j]):      \n",
    "            VALORES_PROPIOS.append(V_PP[j][k])  \n",
    "\n",
    "    VALORES_PROPIOS = np.array(VALORES_PROPIOS, dtype = complex)  \n",
    "\n",
    "    D = np.zeros((np.shape(M_)[0], np.shape(M_)[0]), dtype = complex )\n",
    "\n",
    "    for k in range(np.shape(D)[0]):\n",
    "        D[k,k] = VALORES_PROPIOS[k]\n",
    "\n",
    "    P_ = []\n",
    "\n",
    "    for m in range(np.shape(V_P)[0]):\n",
    "\n",
    "        MATRIX_ECUACION = M - I*V_P[m]\n",
    "        KERNEL_BASE = sp.Matrix.nullspace(MATRIX_ECUACION)\n",
    "        P_.append(KERNEL_BASE)\n",
    "\n",
    "    P = []\n",
    "\n",
    "    for j in range(np.shape(MULTIPLICIDAD)[0]):\n",
    "        for k in range(MULTIPLICIDAD[j]):\n",
    "            \n",
    "         P.append(np.array(P_[j][k], dtype = complex))  \n",
    "\n",
    "    P = np.array(P)[:,:,0].T \n",
    "    \n",
    "    return P,D"
   ]
  },
  {
   "cell_type": "markdown",
   "metadata": {},
   "source": [
    "**COMPARACION**"
   ]
  },
  {
   "cell_type": "code",
   "execution_count": 275,
   "metadata": {},
   "outputs": [
    {
     "data": {
      "text/latex": [
       "$\\displaystyle \\left[\\begin{matrix}5 & -4 & 4\\\\1 & 0 & 1\\\\-1 & 2 & 1\\end{matrix}\\right]$"
      ],
      "text/plain": [
       "Matrix([\n",
       "[ 5, -4, 4],\n",
       "[ 1,  0, 1],\n",
       "[-1,  2, 1]])"
      ]
     },
     "execution_count": 275,
     "metadata": {},
     "output_type": "execute_result"
    }
   ],
   "source": [
    "M_ = np.array(( [5,-4,4],\n",
    "                [1,0,1],\n",
    "                [-1,2,1] ))\n",
    "M = sp.Matrix(M_)\n",
    "M"
   ]
  },
  {
   "cell_type": "markdown",
   "metadata": {},
   "source": [
    "*Usando sp.Matrix.diagonalize*"
   ]
  },
  {
   "cell_type": "code",
   "execution_count": 276,
   "metadata": {},
   "outputs": [],
   "source": [
    "P_sp,D_sp = sp.Matrix.diagonalize(M)"
   ]
  },
  {
   "cell_type": "code",
   "execution_count": 277,
   "metadata": {},
   "outputs": [
    {
     "data": {
      "text/latex": [
       "$\\displaystyle \\left[\\begin{matrix}-2 & -4 & -4\\\\-1 & -1 & -1\\\\1 & 2 & 1\\end{matrix}\\right]$"
      ],
      "text/plain": [
       "Matrix([\n",
       "[-2, -4, -4],\n",
       "[-1, -1, -1],\n",
       "[ 1,  2,  1]])"
      ]
     },
     "execution_count": 277,
     "metadata": {},
     "output_type": "execute_result"
    }
   ],
   "source": [
    "P_sp"
   ]
  },
  {
   "cell_type": "code",
   "execution_count": 278,
   "metadata": {},
   "outputs": [
    {
     "data": {
      "text/latex": [
       "$\\displaystyle \\left[\\begin{matrix}1 & 0 & 0\\\\0 & 2 & 0\\\\0 & 0 & 3\\end{matrix}\\right]$"
      ],
      "text/plain": [
       "Matrix([\n",
       "[1, 0, 0],\n",
       "[0, 2, 0],\n",
       "[0, 0, 3]])"
      ]
     },
     "execution_count": 278,
     "metadata": {},
     "output_type": "execute_result"
    }
   ],
   "source": [
    "D_sp"
   ]
  },
  {
   "cell_type": "code",
   "execution_count": 279,
   "metadata": {},
   "outputs": [
    {
     "data": {
      "text/latex": [
       "$\\displaystyle \\left[\\begin{matrix}5 & -4 & 4\\\\1 & 0 & 1\\\\-1 & 2 & 1\\end{matrix}\\right]$"
      ],
      "text/plain": [
       "Matrix([\n",
       "[ 5, -4, 4],\n",
       "[ 1,  0, 1],\n",
       "[-1,  2, 1]])"
      ]
     },
     "execution_count": 279,
     "metadata": {},
     "output_type": "execute_result"
    }
   ],
   "source": [
    "P_sp @ D_sp @ P_sp.inv()"
   ]
  },
  {
   "cell_type": "markdown",
   "metadata": {},
   "source": [
    "*Usando diagonalizacion_D_P*"
   ]
  },
  {
   "cell_type": "code",
   "execution_count": 280,
   "metadata": {},
   "outputs": [],
   "source": [
    "P_d, D_d = diagonalizacion_D_P(M_)\n",
    "P_d, D_d = sp.Matrix(P), sp.Matrix(D)\n"
   ]
  },
  {
   "cell_type": "code",
   "execution_count": 281,
   "metadata": {},
   "outputs": [
    {
     "data": {
      "text/latex": [
       "$\\displaystyle \\left[\\begin{matrix}-4.0 & -2.0 & -2.0\\\\-1.0 & -0.5 & -1.0\\\\1.0 & 1.0 & 1.0\\end{matrix}\\right]$"
      ],
      "text/plain": [
       "Matrix([\n",
       "[-4.0, -2.0, -2.0],\n",
       "[-1.0, -0.5, -1.0],\n",
       "[ 1.0,  1.0,  1.0]])"
      ]
     },
     "execution_count": 281,
     "metadata": {},
     "output_type": "execute_result"
    }
   ],
   "source": [
    "P_d"
   ]
  },
  {
   "cell_type": "code",
   "execution_count": 282,
   "metadata": {},
   "outputs": [
    {
     "data": {
      "text/latex": [
       "$\\displaystyle \\left[\\begin{matrix}3.0 & 0 & 0\\\\0 & 2.0 & 0\\\\0 & 0 & 1.0\\end{matrix}\\right]$"
      ],
      "text/plain": [
       "Matrix([\n",
       "[3.0,   0,   0],\n",
       "[  0, 2.0,   0],\n",
       "[  0,   0, 1.0]])"
      ]
     },
     "execution_count": 282,
     "metadata": {},
     "output_type": "execute_result"
    }
   ],
   "source": [
    "D_d"
   ]
  },
  {
   "cell_type": "code",
   "execution_count": 283,
   "metadata": {},
   "outputs": [
    {
     "data": {
      "text/latex": [
       "$\\displaystyle \\left[\\begin{matrix}5.0 & -4.0 & 4.0\\\\1.0 & 0 & 1.0\\\\-1.0 & 2.0 & 1.0\\end{matrix}\\right]$"
      ],
      "text/plain": [
       "Matrix([\n",
       "[ 5.0, -4.0, 4.0],\n",
       "[ 1.0,    0, 1.0],\n",
       "[-1.0,  2.0, 1.0]])"
      ]
     },
     "execution_count": 283,
     "metadata": {},
     "output_type": "execute_result"
    }
   ],
   "source": [
    "P_d @ D_d @ P_d.inv()"
   ]
  }
 ],
 "metadata": {
  "kernelspec": {
   "display_name": "Python 3",
   "language": "python",
   "name": "python3"
  },
  "language_info": {
   "codemirror_mode": {
    "name": "ipython",
    "version": 3
   },
   "file_extension": ".py",
   "mimetype": "text/x-python",
   "name": "python",
   "nbconvert_exporter": "python",
   "pygments_lexer": "ipython3",
   "version": "3.11.6"
  }
 },
 "nbformat": 4,
 "nbformat_minor": 2
}
