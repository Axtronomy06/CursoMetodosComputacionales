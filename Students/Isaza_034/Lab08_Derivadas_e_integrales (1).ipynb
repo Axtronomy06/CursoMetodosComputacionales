{
  "nbformat": 4,
  "nbformat_minor": 0,
  "metadata": {
    "colab": {
      "provenance": []
    },
    "kernelspec": {
      "name": "python3",
      "display_name": "Python 3"
    },
    "language_info": {
      "name": "python"
    }
  },
  "cells": [
    {
      "cell_type": "code",
      "source": [
        "import numpy as np\n",
        "import matplotlib.pyplot as plt\n",
        "import pandas as pd\n",
        "import scipy as sc\n",
        "import sympy as sy\n",
        "from sympy import integrate, oo\n",
        "import math as mt"
      ],
      "metadata": {
        "id": "J5O5W6xbuoZS"
      },
      "execution_count": 2,
      "outputs": []
    },
    {
      "cell_type": "markdown",
      "source": [
        "#Parte 1\n",
        "\n",
        "En un cirtcuito con un voltaje de  $\\varepsilon(t)$ y una inductancia de L, la primera ley de kirshhoff nos da la siguiente relación\n",
        "\n",
        "\\begin{equation}\n",
        "\\varepsilon(t) = L\\frac{\\mathrm{d}i}{\\mathrm{d}t} + Ri\n",
        "\\end{equation}\n",
        "\n",
        "donde $R$, es la resistencia del ciruito, $I$ es la corriente. Suponga que medimos la corriente con varios valores de $t$ y obtenemos:\n",
        "\n",
        "``t = 1.00, 1.01, 1.02, 1.03, 1.0``\n",
        "\n",
        "``i = 3.10, 3.12, 3.14, 3.18, 3.24``\n",
        "\n",
        "\n",
        "donde $t$ se mide en segundos, $I$ se da en Amperios, la inductancia $L$ es una constante de 0.98 H, la resistencia es de 0.142 $\\Omega$. Aproxime el votaje  $\\varepsilon(t)$ en los valores t=1.00, 1.01, 1.02, 1.03, 1.04 ,  para ello realice lo siguiente:\n",
        "\n",
        "\n",
        "- Construya un data frame de pandas con los valores de tiempo y corriente\n",
        "- Emplee un metodo calcular la derivada numérica."
      ],
      "metadata": {
        "id": "mjVxBoseufI6"
      }
    },
    {
      "cell_type": "code",
      "source": [
        "t = np.array([1.00, 1.01, 1.02, 1.03, 1.04])\n",
        "i = np.array([3.10, 3.12, 3.14, 3.18, 3.24])"
      ],
      "metadata": {
        "id": "JbbANQiIxRA-"
      },
      "execution_count": 3,
      "outputs": []
    },
    {
      "cell_type": "code",
      "source": [
        "\n",
        "\n",
        "data = {\"Tiempo (s)\":t, \"Corriente (A)\":i}\n",
        "df = pd.DataFrame(data)\n",
        "df"
      ],
      "metadata": {
        "id": "mVrjs13hyK9V",
        "outputId": "b11e6908-2820-4d02-d0ff-3e7752ce86e3",
        "colab": {
          "base_uri": "https://localhost:8080/",
          "height": 206
        }
      },
      "execution_count": 4,
      "outputs": [
        {
          "output_type": "execute_result",
          "data": {
            "text/plain": [
              "   Tiempo (s)  Corriente (A)\n",
              "0        1.00           3.10\n",
              "1        1.01           3.12\n",
              "2        1.02           3.14\n",
              "3        1.03           3.18\n",
              "4        1.04           3.24"
            ],
            "text/html": [
              "\n",
              "  <div id=\"df-93fea6eb-3c0d-4ac1-90d8-8713b4dde8b0\" class=\"colab-df-container\">\n",
              "    <div>\n",
              "<style scoped>\n",
              "    .dataframe tbody tr th:only-of-type {\n",
              "        vertical-align: middle;\n",
              "    }\n",
              "\n",
              "    .dataframe tbody tr th {\n",
              "        vertical-align: top;\n",
              "    }\n",
              "\n",
              "    .dataframe thead th {\n",
              "        text-align: right;\n",
              "    }\n",
              "</style>\n",
              "<table border=\"1\" class=\"dataframe\">\n",
              "  <thead>\n",
              "    <tr style=\"text-align: right;\">\n",
              "      <th></th>\n",
              "      <th>Tiempo (s)</th>\n",
              "      <th>Corriente (A)</th>\n",
              "    </tr>\n",
              "  </thead>\n",
              "  <tbody>\n",
              "    <tr>\n",
              "      <th>0</th>\n",
              "      <td>1.00</td>\n",
              "      <td>3.10</td>\n",
              "    </tr>\n",
              "    <tr>\n",
              "      <th>1</th>\n",
              "      <td>1.01</td>\n",
              "      <td>3.12</td>\n",
              "    </tr>\n",
              "    <tr>\n",
              "      <th>2</th>\n",
              "      <td>1.02</td>\n",
              "      <td>3.14</td>\n",
              "    </tr>\n",
              "    <tr>\n",
              "      <th>3</th>\n",
              "      <td>1.03</td>\n",
              "      <td>3.18</td>\n",
              "    </tr>\n",
              "    <tr>\n",
              "      <th>4</th>\n",
              "      <td>1.04</td>\n",
              "      <td>3.24</td>\n",
              "    </tr>\n",
              "  </tbody>\n",
              "</table>\n",
              "</div>\n",
              "    <div class=\"colab-df-buttons\">\n",
              "\n",
              "  <div class=\"colab-df-container\">\n",
              "    <button class=\"colab-df-convert\" onclick=\"convertToInteractive('df-93fea6eb-3c0d-4ac1-90d8-8713b4dde8b0')\"\n",
              "            title=\"Convert this dataframe to an interactive table.\"\n",
              "            style=\"display:none;\">\n",
              "\n",
              "  <svg xmlns=\"http://www.w3.org/2000/svg\" height=\"24px\" viewBox=\"0 -960 960 960\">\n",
              "    <path d=\"M120-120v-720h720v720H120Zm60-500h600v-160H180v160Zm220 220h160v-160H400v160Zm0 220h160v-160H400v160ZM180-400h160v-160H180v160Zm440 0h160v-160H620v160ZM180-180h160v-160H180v160Zm440 0h160v-160H620v160Z\"/>\n",
              "  </svg>\n",
              "    </button>\n",
              "\n",
              "  <style>\n",
              "    .colab-df-container {\n",
              "      display:flex;\n",
              "      gap: 12px;\n",
              "    }\n",
              "\n",
              "    .colab-df-convert {\n",
              "      background-color: #E8F0FE;\n",
              "      border: none;\n",
              "      border-radius: 50%;\n",
              "      cursor: pointer;\n",
              "      display: none;\n",
              "      fill: #1967D2;\n",
              "      height: 32px;\n",
              "      padding: 0 0 0 0;\n",
              "      width: 32px;\n",
              "    }\n",
              "\n",
              "    .colab-df-convert:hover {\n",
              "      background-color: #E2EBFA;\n",
              "      box-shadow: 0px 1px 2px rgba(60, 64, 67, 0.3), 0px 1px 3px 1px rgba(60, 64, 67, 0.15);\n",
              "      fill: #174EA6;\n",
              "    }\n",
              "\n",
              "    .colab-df-buttons div {\n",
              "      margin-bottom: 4px;\n",
              "    }\n",
              "\n",
              "    [theme=dark] .colab-df-convert {\n",
              "      background-color: #3B4455;\n",
              "      fill: #D2E3FC;\n",
              "    }\n",
              "\n",
              "    [theme=dark] .colab-df-convert:hover {\n",
              "      background-color: #434B5C;\n",
              "      box-shadow: 0px 1px 3px 1px rgba(0, 0, 0, 0.15);\n",
              "      filter: drop-shadow(0px 1px 2px rgba(0, 0, 0, 0.3));\n",
              "      fill: #FFFFFF;\n",
              "    }\n",
              "  </style>\n",
              "\n",
              "    <script>\n",
              "      const buttonEl =\n",
              "        document.querySelector('#df-93fea6eb-3c0d-4ac1-90d8-8713b4dde8b0 button.colab-df-convert');\n",
              "      buttonEl.style.display =\n",
              "        google.colab.kernel.accessAllowed ? 'block' : 'none';\n",
              "\n",
              "      async function convertToInteractive(key) {\n",
              "        const element = document.querySelector('#df-93fea6eb-3c0d-4ac1-90d8-8713b4dde8b0');\n",
              "        const dataTable =\n",
              "          await google.colab.kernel.invokeFunction('convertToInteractive',\n",
              "                                                    [key], {});\n",
              "        if (!dataTable) return;\n",
              "\n",
              "        const docLinkHtml = 'Like what you see? Visit the ' +\n",
              "          '<a target=\"_blank\" href=https://colab.research.google.com/notebooks/data_table.ipynb>data table notebook</a>'\n",
              "          + ' to learn more about interactive tables.';\n",
              "        element.innerHTML = '';\n",
              "        dataTable['output_type'] = 'display_data';\n",
              "        await google.colab.output.renderOutput(dataTable, element);\n",
              "        const docLink = document.createElement('div');\n",
              "        docLink.innerHTML = docLinkHtml;\n",
              "        element.appendChild(docLink);\n",
              "      }\n",
              "    </script>\n",
              "  </div>\n",
              "\n",
              "\n",
              "<div id=\"df-0932b327-2274-47b8-a4e7-108fef7501a8\">\n",
              "  <button class=\"colab-df-quickchart\" onclick=\"quickchart('df-0932b327-2274-47b8-a4e7-108fef7501a8')\"\n",
              "            title=\"Suggest charts\"\n",
              "            style=\"display:none;\">\n",
              "\n",
              "<svg xmlns=\"http://www.w3.org/2000/svg\" height=\"24px\"viewBox=\"0 0 24 24\"\n",
              "     width=\"24px\">\n",
              "    <g>\n",
              "        <path d=\"M19 3H5c-1.1 0-2 .9-2 2v14c0 1.1.9 2 2 2h14c1.1 0 2-.9 2-2V5c0-1.1-.9-2-2-2zM9 17H7v-7h2v7zm4 0h-2V7h2v10zm4 0h-2v-4h2v4z\"/>\n",
              "    </g>\n",
              "</svg>\n",
              "  </button>\n",
              "\n",
              "<style>\n",
              "  .colab-df-quickchart {\n",
              "      --bg-color: #E8F0FE;\n",
              "      --fill-color: #1967D2;\n",
              "      --hover-bg-color: #E2EBFA;\n",
              "      --hover-fill-color: #174EA6;\n",
              "      --disabled-fill-color: #AAA;\n",
              "      --disabled-bg-color: #DDD;\n",
              "  }\n",
              "\n",
              "  [theme=dark] .colab-df-quickchart {\n",
              "      --bg-color: #3B4455;\n",
              "      --fill-color: #D2E3FC;\n",
              "      --hover-bg-color: #434B5C;\n",
              "      --hover-fill-color: #FFFFFF;\n",
              "      --disabled-bg-color: #3B4455;\n",
              "      --disabled-fill-color: #666;\n",
              "  }\n",
              "\n",
              "  .colab-df-quickchart {\n",
              "    background-color: var(--bg-color);\n",
              "    border: none;\n",
              "    border-radius: 50%;\n",
              "    cursor: pointer;\n",
              "    display: none;\n",
              "    fill: var(--fill-color);\n",
              "    height: 32px;\n",
              "    padding: 0;\n",
              "    width: 32px;\n",
              "  }\n",
              "\n",
              "  .colab-df-quickchart:hover {\n",
              "    background-color: var(--hover-bg-color);\n",
              "    box-shadow: 0 1px 2px rgba(60, 64, 67, 0.3), 0 1px 3px 1px rgba(60, 64, 67, 0.15);\n",
              "    fill: var(--button-hover-fill-color);\n",
              "  }\n",
              "\n",
              "  .colab-df-quickchart-complete:disabled,\n",
              "  .colab-df-quickchart-complete:disabled:hover {\n",
              "    background-color: var(--disabled-bg-color);\n",
              "    fill: var(--disabled-fill-color);\n",
              "    box-shadow: none;\n",
              "  }\n",
              "\n",
              "  .colab-df-spinner {\n",
              "    border: 2px solid var(--fill-color);\n",
              "    border-color: transparent;\n",
              "    border-bottom-color: var(--fill-color);\n",
              "    animation:\n",
              "      spin 1s steps(1) infinite;\n",
              "  }\n",
              "\n",
              "  @keyframes spin {\n",
              "    0% {\n",
              "      border-color: transparent;\n",
              "      border-bottom-color: var(--fill-color);\n",
              "      border-left-color: var(--fill-color);\n",
              "    }\n",
              "    20% {\n",
              "      border-color: transparent;\n",
              "      border-left-color: var(--fill-color);\n",
              "      border-top-color: var(--fill-color);\n",
              "    }\n",
              "    30% {\n",
              "      border-color: transparent;\n",
              "      border-left-color: var(--fill-color);\n",
              "      border-top-color: var(--fill-color);\n",
              "      border-right-color: var(--fill-color);\n",
              "    }\n",
              "    40% {\n",
              "      border-color: transparent;\n",
              "      border-right-color: var(--fill-color);\n",
              "      border-top-color: var(--fill-color);\n",
              "    }\n",
              "    60% {\n",
              "      border-color: transparent;\n",
              "      border-right-color: var(--fill-color);\n",
              "    }\n",
              "    80% {\n",
              "      border-color: transparent;\n",
              "      border-right-color: var(--fill-color);\n",
              "      border-bottom-color: var(--fill-color);\n",
              "    }\n",
              "    90% {\n",
              "      border-color: transparent;\n",
              "      border-bottom-color: var(--fill-color);\n",
              "    }\n",
              "  }\n",
              "</style>\n",
              "\n",
              "  <script>\n",
              "    async function quickchart(key) {\n",
              "      const quickchartButtonEl =\n",
              "        document.querySelector('#' + key + ' button');\n",
              "      quickchartButtonEl.disabled = true;  // To prevent multiple clicks.\n",
              "      quickchartButtonEl.classList.add('colab-df-spinner');\n",
              "      try {\n",
              "        const charts = await google.colab.kernel.invokeFunction(\n",
              "            'suggestCharts', [key], {});\n",
              "      } catch (error) {\n",
              "        console.error('Error during call to suggestCharts:', error);\n",
              "      }\n",
              "      quickchartButtonEl.classList.remove('colab-df-spinner');\n",
              "      quickchartButtonEl.classList.add('colab-df-quickchart-complete');\n",
              "    }\n",
              "    (() => {\n",
              "      let quickchartButtonEl =\n",
              "        document.querySelector('#df-0932b327-2274-47b8-a4e7-108fef7501a8 button');\n",
              "      quickchartButtonEl.style.display =\n",
              "        google.colab.kernel.accessAllowed ? 'block' : 'none';\n",
              "    })();\n",
              "  </script>\n",
              "</div>\n",
              "    </div>\n",
              "  </div>\n"
            ],
            "application/vnd.google.colaboratory.intrinsic+json": {
              "type": "dataframe",
              "variable_name": "df",
              "summary": "{\n  \"name\": \"df\",\n  \"rows\": 5,\n  \"fields\": [\n    {\n      \"column\": \"Tiempo (s)\",\n      \"properties\": {\n        \"dtype\": \"number\",\n        \"std\": 0.01581138830084191,\n        \"min\": 1.0,\n        \"max\": 1.04,\n        \"num_unique_values\": 5,\n        \"samples\": [\n          1.01,\n          1.04,\n          1.02\n        ],\n        \"semantic_type\": \"\",\n        \"description\": \"\"\n      }\n    },\n    {\n      \"column\": \"Corriente (A)\",\n      \"properties\": {\n        \"dtype\": \"number\",\n        \"std\": 0.055497747702046483,\n        \"min\": 3.1,\n        \"max\": 3.24,\n        \"num_unique_values\": 5,\n        \"samples\": [\n          3.12,\n          3.24,\n          3.14\n        ],\n        \"semantic_type\": \"\",\n        \"description\": \"\"\n      }\n    }\n  ]\n}"
            }
          },
          "metadata": {},
          "execution_count": 4
        }
      ]
    },
    {
      "cell_type": "code",
      "source": [
        "plt.plot(df[\"Tiempo (s)\"], df[\"Corriente (A)\"],\"ro-\")\n",
        "plt.grid()"
      ],
      "metadata": {
        "id": "D8VWJHNpynU9",
        "outputId": "3688130e-0f4c-4a80-fec0-f0833c00b2f9",
        "colab": {
          "base_uri": "https://localhost:8080/",
          "height": 430
        }
      },
      "execution_count": 5,
      "outputs": [
        {
          "output_type": "display_data",
          "data": {
            "text/plain": [
              "<Figure size 640x480 with 1 Axes>"
            ],
            "image/png": "[encoded data removed]"
          },
          "metadata": {}
        }
      ]
    },
    {
      "cell_type": "code",
      "source": [
        "derivada = np.gradient(i,t)\n",
        "derivada"
      ],
      "metadata": {
        "id": "99g7jKuKyzAc",
        "outputId": "a590905a-d7da-4030-b26f-d1c06d4f8178",
        "colab": {
          "base_uri": "https://localhost:8080/"
        }
      },
      "execution_count": 6,
      "outputs": [
        {
          "output_type": "execute_result",
          "data": {
            "text/plain": [
              "array([2., 2., 3., 5., 6.])"
            ]
          },
          "metadata": {},
          "execution_count": 6
        }
      ]
    },
    {
      "cell_type": "code",
      "source": [
        "di= np.diff(i)\n",
        "dt = np.diff(t)\n",
        "d = di/dt\n",
        "d"
      ],
      "metadata": {
        "id": "jow3JRfFzDnd",
        "outputId": "bbec3a69-db32-469a-fba1-83983fc084be",
        "colab": {
          "base_uri": "https://localhost:8080/"
        }
      },
      "execution_count": 7,
      "outputs": [
        {
          "output_type": "execute_result",
          "data": {
            "text/plain": [
              "array([2., 2., 4., 6.])"
            ]
          },
          "metadata": {},
          "execution_count": 7
        }
      ]
    },
    {
      "cell_type": "code",
      "source": [
        "L = 0.98\n",
        "R = 0.142\n",
        "E_t = L*derivada + R*i\n",
        "df[\"fem (v)\"]=E_t\n",
        "df"
      ],
      "metadata": {
        "id": "DPjIWQcWzwMi",
        "outputId": "7eadf9cd-ac78-45b6-8c0d-320ef1f95347",
        "colab": {
          "base_uri": "https://localhost:8080/",
          "height": 206
        }
      },
      "execution_count": 8,
      "outputs": [
        {
          "output_type": "execute_result",
          "data": {
            "text/plain": [
              "   Tiempo (s)  Corriente (A)  fem (v)\n",
              "0        1.00           3.10  2.40020\n",
              "1        1.01           3.12  2.40304\n",
              "2        1.02           3.14  3.38588\n",
              "3        1.03           3.18  5.35156\n",
              "4        1.04           3.24  6.34008"
            ],
            "text/html": [
              "\n",
              "  <div id=\"df-f3ac19c3-4b2d-475e-90ef-e9778a5a99dd\" class=\"colab-df-container\">\n",
              "    <div>\n",
              "<style scoped>\n",
              "    .dataframe tbody tr th:only-of-type {\n",
              "        vertical-align: middle;\n",
              "    }\n",
              "\n",
              "    .dataframe tbody tr th {\n",
              "        vertical-align: top;\n",
              "    }\n",
              "\n",
              "    .dataframe thead th {\n",
              "        text-align: right;\n",
              "    }\n",
              "</style>\n",
              "<table border=\"1\" class=\"dataframe\">\n",
              "  <thead>\n",
              "    <tr style=\"text-align: right;\">\n",
              "      <th></th>\n",
              "      <th>Tiempo (s)</th>\n",
              "      <th>Corriente (A)</th>\n",
              "      <th>fem (v)</th>\n",
              "    </tr>\n",
              "  </thead>\n",
              "  <tbody>\n",
              "    <tr>\n",
              "      <th>0</th>\n",
              "      <td>1.00</td>\n",
              "      <td>3.10</td>\n",
              "      <td>2.40020</td>\n",
              "    </tr>\n",
              "    <tr>\n",
              "      <th>1</th>\n",
              "      <td>1.01</td>\n",
              "      <td>3.12</td>\n",
              "      <td>2.40304</td>\n",
              "    </tr>\n",
              "    <tr>\n",
              "      <th>2</th>\n",
              "      <td>1.02</td>\n",
              "      <td>3.14</td>\n",
              "      <td>3.38588</td>\n",
              "    </tr>\n",
              "    <tr>\n",
              "      <th>3</th>\n",
              "      <td>1.03</td>\n",
              "      <td>3.18</td>\n",
              "      <td>5.35156</td>\n",
              "    </tr>\n",
              "    <tr>\n",
              "      <th>4</th>\n",
              "      <td>1.04</td>\n",
              "      <td>3.24</td>\n",
              "      <td>6.34008</td>\n",
              "    </tr>\n",
              "  </tbody>\n",
              "</table>\n",
              "</div>\n",
              "    <div class=\"colab-df-buttons\">\n",
              "\n",
              "  <div class=\"colab-df-container\">\n",
              "    <button class=\"colab-df-convert\" onclick=\"convertToInteractive('df-f3ac19c3-4b2d-475e-90ef-e9778a5a99dd')\"\n",
              "            title=\"Convert this dataframe to an interactive table.\"\n",
              "            style=\"display:none;\">\n",
              "\n",
              "  <svg xmlns=\"http://www.w3.org/2000/svg\" height=\"24px\" viewBox=\"0 -960 960 960\">\n",
              "    <path d=\"M120-120v-720h720v720H120Zm60-500h600v-160H180v160Zm220 220h160v-160H400v160Zm0 220h160v-160H400v160ZM180-400h160v-160H180v160Zm440 0h160v-160H620v160ZM180-180h160v-160H180v160Zm440 0h160v-160H620v160Z\"/>\n",
              "  </svg>\n",
              "    </button>\n",
              "\n",
              "  <style>\n",
              "    .colab-df-container {\n",
              "      display:flex;\n",
              "      gap: 12px;\n",
              "    }\n",
              "\n",
              "    .colab-df-convert {\n",
              "      background-color: #E8F0FE;\n",
              "      border: none;\n",
              "      border-radius: 50%;\n",
              "      cursor: pointer;\n",
              "      display: none;\n",
              "      fill: #1967D2;\n",
              "      height: 32px;\n",
              "      padding: 0 0 0 0;\n",
              "      width: 32px;\n",
              "    }\n",
              "\n",
              "    .colab-df-convert:hover {\n",
              "      background-color: #E2EBFA;\n",
              "      box-shadow: 0px 1px 2px rgba(60, 64, 67, 0.3), 0px 1px 3px 1px rgba(60, 64, 67, 0.15);\n",
              "      fill: #174EA6;\n",
              "    }\n",
              "\n",
              "    .colab-df-buttons div {\n",
              "      margin-bottom: 4px;\n",
              "    }\n",
              "\n",
              "    [theme=dark] .colab-df-convert {\n",
              "      background-color: #3B4455;\n",
              "      fill: #D2E3FC;\n",
              "    }\n",
              "\n",
              "    [theme=dark] .colab-df-convert:hover {\n",
              "      background-color: #434B5C;\n",
              "      box-shadow: 0px 1px 3px 1px rgba(0, 0, 0, 0.15);\n",
              "      filter: drop-shadow(0px 1px 2px rgba(0, 0, 0, 0.3));\n",
              "      fill: #FFFFFF;\n",
              "    }\n",
              "  </style>\n",
              "\n",
              "    <script>\n",
              "      const buttonEl =\n",
              "        document.querySelector('#df-f3ac19c3-4b2d-475e-90ef-e9778a5a99dd button.colab-df-convert');\n",
              "      buttonEl.style.display =\n",
              "        google.colab.kernel.accessAllowed ? 'block' : 'none';\n",
              "\n",
              "      async function convertToInteractive(key) {\n",
              "        const element = document.querySelector('#df-f3ac19c3-4b2d-475e-90ef-e9778a5a99dd');\n",
              "        const dataTable =\n",
              "          await google.colab.kernel.invokeFunction('convertToInteractive',\n",
              "                                                    [key], {});\n",
              "        if (!dataTable) return;\n",
              "\n",
              "        const docLinkHtml = 'Like what you see? Visit the ' +\n",
              "          '<a target=\"_blank\" href=https://colab.research.google.com/notebooks/data_table.ipynb>data table notebook</a>'\n",
              "          + ' to learn more about interactive tables.';\n",
              "        element.innerHTML = '';\n",
              "        dataTable['output_type'] = 'display_data';\n",
              "        await google.colab.output.renderOutput(dataTable, element);\n",
              "        const docLink = document.createElement('div');\n",
              "        docLink.innerHTML = docLinkHtml;\n",
              "        element.appendChild(docLink);\n",
              "      }\n",
              "    </script>\n",
              "  </div>\n",
              "\n",
              "\n",
              "<div id=\"df-ac50b149-6967-4371-af9e-244f96263895\">\n",
              "  <button class=\"colab-df-quickchart\" onclick=\"quickchart('df-ac50b149-6967-4371-af9e-244f96263895')\"\n",
              "            title=\"Suggest charts\"\n",
              "            style=\"display:none;\">\n",
              "\n",
              "<svg xmlns=\"http://www.w3.org/2000/svg\" height=\"24px\"viewBox=\"0 0 24 24\"\n",
              "     width=\"24px\">\n",
              "    <g>\n",
              "        <path d=\"M19 3H5c-1.1 0-2 .9-2 2v14c0 1.1.9 2 2 2h14c1.1 0 2-.9 2-2V5c0-1.1-.9-2-2-2zM9 17H7v-7h2v7zm4 0h-2V7h2v10zm4 0h-2v-4h2v4z\"/>\n",
              "    </g>\n",
              "</svg>\n",
              "  </button>\n",
              "\n",
              "<style>\n",
              "  .colab-df-quickchart {\n",
              "      --bg-color: #E8F0FE;\n",
              "      --fill-color: #1967D2;\n",
              "      --hover-bg-color: #E2EBFA;\n",
              "      --hover-fill-color: #174EA6;\n",
              "      --disabled-fill-color: #AAA;\n",
              "      --disabled-bg-color: #DDD;\n",
              "  }\n",
              "\n",
              "  [theme=dark] .colab-df-quickchart {\n",
              "      --bg-color: #3B4455;\n",
              "      --fill-color: #D2E3FC;\n",
              "      --hover-bg-color: #434B5C;\n",
              "      --hover-fill-color: #FFFFFF;\n",
              "      --disabled-bg-color: #3B4455;\n",
              "      --disabled-fill-color: #666;\n",
              "  }\n",
              "\n",
              "  .colab-df-quickchart {\n",
              "    background-color: var(--bg-color);\n",
              "    border: none;\n",
              "    border-radius: 50%;\n",
              "    cursor: pointer;\n",
              "    display: none;\n",
              "    fill: var(--fill-color);\n",
              "    height: 32px;\n",
              "    padding: 0;\n",
              "    width: 32px;\n",
              "  }\n",
              "\n",
              "  .colab-df-quickchart:hover {\n",
              "    background-color: var(--hover-bg-color);\n",
              "    box-shadow: 0 1px 2px rgba(60, 64, 67, 0.3), 0 1px 3px 1px rgba(60, 64, 67, 0.15);\n",
              "    fill: var(--button-hover-fill-color);\n",
              "  }\n",
              "\n",
              "  .colab-df-quickchart-complete:disabled,\n",
              "  .colab-df-quickchart-complete:disabled:hover {\n",
              "    background-color: var(--disabled-bg-color);\n",
              "    fill: var(--disabled-fill-color);\n",
              "    box-shadow: none;\n",
              "  }\n",
              "\n",
              "  .colab-df-spinner {\n",
              "    border: 2px solid var(--fill-color);\n",
              "    border-color: transparent;\n",
              "    border-bottom-color: var(--fill-color);\n",
              "    animation:\n",
              "      spin 1s steps(1) infinite;\n",
              "  }\n",
              "\n",
              "  @keyframes spin {\n",
              "    0% {\n",
              "      border-color: transparent;\n",
              "      border-bottom-color: var(--fill-color);\n",
              "      border-left-color: var(--fill-color);\n",
              "    }\n",
              "    20% {\n",
              "      border-color: transparent;\n",
              "      border-left-color: var(--fill-color);\n",
              "      border-top-color: var(--fill-color);\n",
              "    }\n",
              "    30% {\n",
              "      border-color: transparent;\n",
              "      border-left-color: var(--fill-color);\n",
              "      border-top-color: var(--fill-color);\n",
              "      border-right-color: var(--fill-color);\n",
              "    }\n",
              "    40% {\n",
              "      border-color: transparent;\n",
              "      border-right-color: var(--fill-color);\n",
              "      border-top-color: var(--fill-color);\n",
              "    }\n",
              "    60% {\n",
              "      border-color: transparent;\n",
              "      border-right-color: var(--fill-color);\n",
              "    }\n",
              "    80% {\n",
              "      border-color: transparent;\n",
              "      border-right-color: var(--fill-color);\n",
              "      border-bottom-color: var(--fill-color);\n",
              "    }\n",
              "    90% {\n",
              "      border-color: transparent;\n",
              "      border-bottom-color: var(--fill-color);\n",
              "    }\n",
              "  }\n",
              "</style>\n",
              "\n",
              "  <script>\n",
              "    async function quickchart(key) {\n",
              "      const quickchartButtonEl =\n",
              "        document.querySelector('#' + key + ' button');\n",
              "      quickchartButtonEl.disabled = true;  // To prevent multiple clicks.\n",
              "      quickchartButtonEl.classList.add('colab-df-spinner');\n",
              "      try {\n",
              "        const charts = await google.colab.kernel.invokeFunction(\n",
              "            'suggestCharts', [key], {});\n",
              "      } catch (error) {\n",
              "        console.error('Error during call to suggestCharts:', error);\n",
              "      }\n",
              "      quickchartButtonEl.classList.remove('colab-df-spinner');\n",
              "      quickchartButtonEl.classList.add('colab-df-quickchart-complete');\n",
              "    }\n",
              "    (() => {\n",
              "      let quickchartButtonEl =\n",
              "        document.querySelector('#df-ac50b149-6967-4371-af9e-244f96263895 button');\n",
              "      quickchartButtonEl.style.display =\n",
              "        google.colab.kernel.accessAllowed ? 'block' : 'none';\n",
              "    })();\n",
              "  </script>\n",
              "</div>\n",
              "    </div>\n",
              "  </div>\n"
            ],
            "application/vnd.google.colaboratory.intrinsic+json": {
              "type": "dataframe",
              "variable_name": "df",
              "summary": "{\n  \"name\": \"df\",\n  \"rows\": 5,\n  \"fields\": [\n    {\n      \"column\": \"Tiempo (s)\",\n      \"properties\": {\n        \"dtype\": \"number\",\n        \"std\": 0.01581138830084191,\n        \"min\": 1.0,\n        \"max\": 1.04,\n        \"num_unique_values\": 5,\n        \"samples\": [\n          1.01,\n          1.04,\n          1.02\n        ],\n        \"semantic_type\": \"\",\n        \"description\": \"\"\n      }\n    },\n    {\n      \"column\": \"Corriente (A)\",\n      \"properties\": {\n        \"dtype\": \"number\",\n        \"std\": 0.055497747702046483,\n        \"min\": 3.1,\n        \"max\": 3.24,\n        \"num_unique_values\": 5,\n        \"samples\": [\n          3.12,\n          3.24,\n          3.14\n        ],\n        \"semantic_type\": \"\",\n        \"description\": \"\"\n      }\n    },\n    {\n      \"column\": \"fem (v)\",\n      \"properties\": {\n        \"dtype\": \"number\",\n        \"std\": 1.7879198710009347,\n        \"min\": 2.4002,\n        \"max\": 6.3400799999999995,\n        \"num_unique_values\": 5,\n        \"samples\": [\n          2.40304,\n          6.3400799999999995,\n          3.38588\n        ],\n        \"semantic_type\": \"\",\n        \"description\": \"\"\n      }\n    }\n  ]\n}"
            }
          },
          "metadata": {},
          "execution_count": 8
        }
      ]
    },
    {
      "cell_type": "code",
      "source": [
        "\n",
        "fig , axs = plt.subplots(1,2)\n",
        "\n",
        "axs[0].plot(df[\"Tiempo (s)\"], df[\"Corriente (A)\"], \"ro-\")\n",
        "axs[1].plot(df[\"Tiempo (s)\"], df[\"fem (v)\"],\"g*-\")"
      ],
      "metadata": {
        "id": "LtZxQYng0Vi6",
        "outputId": "c681b9b5-5b1c-46a5-b545-62fa40314301",
        "colab": {
          "base_uri": "https://localhost:8080/",
          "height": 449
        }
      },
      "execution_count": 9,
      "outputs": [
        {
          "output_type": "execute_result",
          "data": {
            "text/plain": [
              "[<matplotlib.lines.Line2D at 0x7f637b0e9c00>]"
            ]
          },
          "metadata": {},
          "execution_count": 9
        },
        {
          "output_type": "display_data",
          "data": {
            "text/plain": [
              "<Figure size 640x480 with 2 Axes>"
            ],
            "image/png": "[encoded data removed]"
          },
          "metadata": {}
        }
      ]
    },
    {
      "cell_type": "code",
      "source": [
        "\n",
        "x0=1.00\n",
        "x1 = 1.01\n",
        "x2 = 1.02"
      ],
      "metadata": {
        "id": "WiAIN71J44V6"
      },
      "execution_count": 10,
      "outputs": []
    },
    {
      "cell_type": "code",
      "source": [
        "l_0 = lambda x: ((x-x1)*(x-x2))/((x0-x1)*(x0-x2))\n",
        "l_1 = lambda x: ((x-x0)*(x-x2))/((x1-x0)*(x1-x2))\n",
        "l_2 = lambda x: ((x-x0)*(x-x1))/((x2-x0)*(x2-x1))\n",
        "P = lambda x: l_0*3.10+l_1*3.12+l_2*3.14"
      ],
      "metadata": {
        "id": "oZumbY-F5HFz"
      },
      "execution_count": 11,
      "outputs": []
    },
    {
      "cell_type": "code",
      "source": [
        "h = 1e-2\n",
        "PL =sc.interpolate.lagrange(t,i)\n",
        "PL"
      ],
      "metadata": {
        "id": "CPqQnMk_7e_n",
        "outputId": "f6129a34-f7e3-4e0e-80f3-df64de87559e",
        "colab": {
          "base_uri": "https://localhost:8080/"
        }
      },
      "execution_count": 12,
      "outputs": [
        {
          "output_type": "execute_result",
          "data": {
            "text/plain": [
              "poly1d([ -83333.33333335,  341666.66666669, -525191.66666673,\n",
              "        358719.83333332,  -91858.39999999])"
            ]
          },
          "metadata": {},
          "execution_count": 12
        }
      ]
    },
    {
      "cell_type": "code",
      "source": [
        "\n",
        "xl = np.linspace(np.min(t), np.max(t))\n",
        "iL =PL(xl)"
      ],
      "metadata": {
        "id": "YUUsIcGc785W"
      },
      "execution_count": 13,
      "outputs": []
    },
    {
      "cell_type": "code",
      "source": [
        "plt.plot(xl,iL)\n",
        "plt.grid()"
      ],
      "metadata": {
        "id": "ydlZspFZ8Lbl",
        "outputId": "130c4ad7-d454-441f-b900-7df0990d826e",
        "colab": {
          "base_uri": "https://localhost:8080/",
          "height": 430
        }
      },
      "execution_count": 14,
      "outputs": [
        {
          "output_type": "display_data",
          "data": {
            "text/plain": [
              "<Figure size 640x480 with 1 Axes>"
            ],
            "image/png": "[encoded data removed]"
          },
          "metadata": {}
        }
      ]
    },
    {
      "cell_type": "code",
      "source": [
        "h=1e-6\n",
        "\n",
        "deriva = 1/(2*h)*(-3*PL(xl)+4*PL(xl+h)-PL(xl+2*h))"
      ],
      "metadata": {
        "id": "7q5Nj9U98jMe"
      },
      "execution_count": 15,
      "outputs": []
    },
    {
      "cell_type": "code",
      "source": [
        "plt.plot(df[\"Tiempo (s)\"],derivada)\n",
        "plt.plot(xl,deriva)"
      ],
      "metadata": {
        "id": "qBpfKeZG9H0U",
        "outputId": "432fbcb0-1714-4afb-cb63-a03290c36b4a",
        "colab": {
          "base_uri": "https://localhost:8080/",
          "height": 447
        }
      },
      "execution_count": 16,
      "outputs": [
        {
          "output_type": "execute_result",
          "data": {
            "text/plain": [
              "[<matplotlib.lines.Line2D at 0x7f6374e60490>]"
            ]
          },
          "metadata": {},
          "execution_count": 16
        },
        {
          "output_type": "display_data",
          "data": {
            "text/plain": [
              "<Figure size 640x480 with 1 Axes>"
            ],
            "image/png": "[encoded data removed]"
          },
          "metadata": {}
        }
      ]
    },
    {
      "cell_type": "markdown",
      "source": [
        "##**Parte 2**\n",
        "\n",
        "1. Escribir en código Markdown la expresión para calcular una integral con la regla del trapecio.\n",
        "\n",
        "2. Escribir en código Markdown la expresión para calcular una integral con la regla del simpson.\n",
        "\n",
        "3. Escribir en código Markdown la expresión para calcular una integral con el metodo de cuadratura.\n",
        "\n",
        "4. Calcular una aproximación con el metodo 1,2,3 de las siguientes integrales"
      ],
      "metadata": {
        "id": "yyh50GiIux2j"
      }
    },
    {
      "cell_type": "markdown",
      "source": [
        "---\n",
        "$$\n",
        " \\int_0^{\\pi/2} \\frac{1}{\\sqrt{\\tan x}}\\, dx\n",
        " $$\n",
        "\n",
        "----\n",
        "$$\n",
        " \\int_{-\\infty}^{\\infty} \\frac{1}{1+x^2} \\, dx\n",
        " $$\n",
        "\n",
        "\n",
        "----\n",
        "\n",
        "$$\n",
        " \\int_{0}^{\\pi/4} \\int_{\\sin x}^{\\cos x} (2y\\sin x +\\cos^2 x)\\, dxdy\n",
        " $$\n",
        "\n",
        "---\n",
        "\n",
        "Garantizando  que el error sea menor a $\\varepsilon=1\\times 10^{-5}$."
      ],
      "metadata": {
        "id": "j3rJW3FevAeC"
      }
    },
    {
      "cell_type": "markdown",
      "source": [
        "regla del trapecio"
      ],
      "metadata": {
        "id": "1d9iXO09TxUB"
      }
    },
    {
      "cell_type": "code",
      "source": [
        "f = lambda x: 1/np.sqrt(np.tan(x))\n",
        "n= 1000000\n",
        "h= (np.pi/2-1e-8)/n\n",
        "x = np.linspace(1e-8, np.pi/2, n)\n",
        "i = range(1, n)\n",
        "intg = h/2*(f(1e-8)+f(np.pi/2)+ (2*f(x[i]).sum()))\n",
        "intg\n"
      ],
      "metadata": {
        "id": "y2lb1bgw_EGY",
        "outputId": "fb69ab13-0781-4ce3-b9d6-9171363edfe9",
        "colab": {
          "base_uri": "https://localhost:8080/"
        }
      },
      "execution_count": 17,
      "outputs": [
        {
          "output_type": "execute_result",
          "data": {
            "text/plain": [
              "2.2274525503672744"
            ]
          },
          "metadata": {},
          "execution_count": 17
        }
      ]
    },
    {
      "cell_type": "markdown",
      "source": [
        "Regla de Simpson"
      ],
      "metadata": {
        "id": "xl_Ba_g9T3i_"
      }
    },
    {
      "cell_type": "code",
      "source": [
        "from scipy.integrate import simps\n",
        "def f(x):\n",
        "    return 1 / np.sqrt(np.tan(x))\n",
        "\n",
        "a = 1e-8\n",
        "b = np.pi / 2\n",
        "n = 10000000\n",
        "x_values = np.linspace(a, b, n)\n",
        "f_values = f(x_values)\n",
        "integral_value=simps(f_values, x_values)\n",
        "integral_value\n"
      ],
      "metadata": {
        "colab": {
          "base_uri": "https://localhost:8080/"
        },
        "id": "V5FRdwNlKbJG",
        "outputId": "4b441a11-fbd7-4bba-f5d0-b540e8cbca78"
      },
      "execution_count": 18,
      "outputs": [
        {
          "output_type": "execute_result",
          "data": {
            "text/plain": [
              "2.2214309594391692"
            ]
          },
          "metadata": {},
          "execution_count": 18
        }
      ]
    },
    {
      "cell_type": "markdown",
      "source": [
        "Metodo de la cuadratura"
      ],
      "metadata": {
        "id": "g0H0AEjLUxLO"
      }
    },
    {
      "cell_type": "code",
      "source": [
        "from scipy.integrate import quad\n",
        "def f(x):\n",
        "    return 1 / np.sqrt(np.tan(x))\n",
        "\n",
        "def integrate_f():\n",
        "    result, _ = quad(f, 1e-8, np.pi/2)\n",
        "    return result\n",
        "integral_value = integrate_f()\n",
        "integral_value"
      ],
      "metadata": {
        "colab": {
          "base_uri": "https://localhost:8080/"
        },
        "id": "NaAJfTmcSgLr",
        "outputId": "6562f263-3cc5-4fbe-a3ca-13d5d39031f7"
      },
      "execution_count": 19,
      "outputs": [
        {
          "output_type": "execute_result",
          "data": {
            "text/plain": [
              "2.22144146938126"
            ]
          },
          "metadata": {},
          "execution_count": 19
        }
      ]
    },
    {
      "cell_type": "code",
      "source": [
        "def f(x):\n",
        "    return 1 / np.sqrt(np.tan(x))\n",
        "\n",
        "a = 1e-8\n",
        "b = np.pi / 2\n",
        "n = 100000000\n",
        "\n",
        "x_values = np.linspace(a, b, n)\n",
        "f_values = f(x_values)\n",
        "integral_value = np.trapz(f_values, x_values)\n",
        "print(\"Approximate integral:\", integral_value)"
      ],
      "metadata": {
        "colab": {
          "base_uri": "https://localhost:8080/"
        },
        "id": "ZfbwXC-y89Bq",
        "outputId": "272a3753-15f7-4ed9-a36e-5d5be29d3319"
      },
      "execution_count": 20,
      "outputs": [
        {
          "output_type": "stream",
          "name": "stdout",
          "text": [
            "Approximate integral: 2.2212507613572687\n"
          ]
        }
      ]
    },
    {
      "cell_type": "code",
      "source": [
        "import numpy as np\n",
        "from scipy.integrate import quad\n",
        "\n",
        "def fa(x):\n",
        "    return np.cos(x) / x**3\n",
        "def integrate_f():\n",
        "    result, _ = quad(fa, 1, np.inf)\n",
        "    return result\n",
        "integral_value = integrate_f()\n",
        "integral_value\n",
        "\n"
      ],
      "metadata": {
        "colab": {
          "base_uri": "https://localhost:8080/"
        },
        "id": "HiVbgaW1CWX2",
        "outputId": "a262fe0f-f1b0-4feb-d95b-ac1317e7087c"
      },
      "execution_count": 21,
      "outputs": [
        {
          "output_type": "stream",
          "name": "stderr",
          "text": [
            "<ipython-input-21-1c4380b182b2>:7: IntegrationWarning: The maximum number of subdivisions (50) has been achieved.\n",
            "  If increasing the limit yields no improvement it is advised to analyze \n",
            "  the integrand in order to determine the difficulties.  If the position of a \n",
            "  local difficulty can be determined (singularity, discontinuity) one will \n",
            "  probably gain from splitting up the interval and calling the integrator \n",
            "  on the subranges.  Perhaps a special-purpose integrator should be used.\n",
            "  result, _ = quad(fa, 1, np.inf)\n"
          ]
        },
        {
          "output_type": "execute_result",
          "data": {
            "text/plain": [
              "0.01811792007976691"
            ]
          },
          "metadata": {},
          "execution_count": 21
        }
      ]
    },
    {
      "cell_type": "code",
      "source": [
        "a = 1\n",
        "M_values = np.logspace(1, 5, 100)  # Generate values of M from 10 to 100000\n",
        "\n",
        "def f1(x):\n",
        "    return np.cos(x) / x**3\n",
        "\n",
        "def integrate_f1(M):\n",
        "    n = 10000000\n",
        "    x_values = np.linspace(a, M, n)\n",
        "    f1_values = f1(x_values)\n",
        "    integral_value = np.trapz(f1_values, x_values)\n",
        "    return integral_value\n",
        "integral_values = [integrate_f1(M) for M in M_values]\n",
        "\n",
        "final_integral_estimate = integral_values[-1]\n",
        "print(\"Estimated Integral as M -> Infinity:\", final_integral_estimate)"
      ],
      "metadata": {
        "colab": {
          "base_uri": "https://localhost:8080/"
        },
        "id": "-c9YgrTQ8liV",
        "outputId": "ec097a95-66a5-4998-f892-ca9b75ad9398"
      },
      "execution_count": 22,
      "outputs": [
        {
          "output_type": "stream",
          "name": "stdout",
          "text": [
            "Estimated Integral as M -> Infinity: 0.018138140598518964\n"
          ]
        }
      ]
    },
    {
      "cell_type": "code",
      "source": [
        "import sympy as sp\n",
        "import numpy as np\n",
        "\n",
        "x, y = sp.symbols(\"x y\")\n",
        "\n",
        "f = 1/sp.sqrt(1-y**2)\n",
        "F = sp.integrate(f, y)\n",
        "result = F.subs(y, sp.sin(x)) - F.subs(y, 0)\n",
        "result"
      ],
      "metadata": {
        "colab": {
          "base_uri": "https://localhost:8080/",
          "height": 38
        },
        "id": "LcQ6DnIz4oNF",
        "outputId": "e7038968-64fd-4306-86ff-05b2bc35b496"
      },
      "execution_count": 24,
      "outputs": [
        {
          "output_type": "execute_result",
          "data": {
            "text/plain": [
              "asin(sin(x))"
            ],
            "text/latex": "$\\displaystyle \\operatorname{asin}{\\left(\\sin{\\left(x \\right)} \\right)}$"
          },
          "metadata": {},
          "execution_count": 24
        }
      ]
    },
    {
      "cell_type": "code",
      "source": [
        "import sympy as sp\n",
        "\n",
        "x, y = sp.symbols(\"x y\")\n",
        "\n",
        "f = 1/sp.sqrt(1-y**2)\n",
        "F = sp.integrate(f, y)\n",
        "result = F.subs(y, sp.sin(x)) - F.subs(y, 0)\n",
        "result_value = result.subs(x, sp.pi/4)-result.subs(x, 0)\n",
        "result_value"
      ],
      "metadata": {
        "colab": {
          "base_uri": "https://localhost:8080/",
          "height": 47
        },
        "id": "-QfByOew9vrT",
        "outputId": "636a1e78-80c5-40bd-d029-bf2414f6f302"
      },
      "execution_count": 25,
      "outputs": [
        {
          "output_type": "execute_result",
          "data": {
            "text/plain": [
              "pi/4"
            ],
            "text/latex": "$\\displaystyle \\frac{\\pi}{4}$"
          },
          "metadata": {},
          "execution_count": 25
        }
      ]
    },
    {
      "cell_type": "code",
      "source": [
        "from sympy import *\n",
        "x, y = sp.symbols(\"x y\")\n",
        "I= integrate(1/sqrt(1-y**2), (y,0,sp.sin(x)), (x, 0, sp.pi/4))\n",
        "I.evalf()"
      ],
      "metadata": {
        "colab": {
          "base_uri": "https://localhost:8080/",
          "height": 37
        },
        "id": "GV2KhYPG-qDp",
        "outputId": "aba74489-f0f6-4b6e-9ba4-c96ee04d2381"
      },
      "execution_count": 26,
      "outputs": [
        {
          "output_type": "execute_result",
          "data": {
            "text/plain": [
              "0.308425137534042"
            ],
            "text/latex": "$\\displaystyle 0.308425137534042$"
          },
          "metadata": {},
          "execution_count": 26
        }
      ]
    },
    {
      "cell_type": "code",
      "source": [
        "from scipy.integrate import trapezoid, simps, quad\n",
        "f = lambda x, y: 1/np.sqrt(1-y**2)\n",
        "x = np.linspace(0, np.pi/4 , 10000, endpoint = True)\n",
        "U= []\n",
        "for x_ in x:\n",
        "    y = np.linspace(0, np.sin(x_), 10000, endpoint=True)\n",
        "    I_1 = trapezoid(f(x_, y), y)\n",
        "    U.append(I_1)\n",
        "II= trapezoid(U,x)\n",
        "II"
      ],
      "metadata": {
        "colab": {
          "base_uri": "https://localhost:8080/"
        },
        "id": "ZuI3ITS0Agv1",
        "outputId": "8170d3e7-28cf-4b68-f0ed-f0833fbd49c5"
      },
      "execution_count": 27,
      "outputs": [
        {
          "output_type": "execute_result",
          "data": {
            "text/plain": [
              "0.30842513766192337"
            ]
          },
          "metadata": {},
          "execution_count": 27
        }
      ]
    },
    {
      "cell_type": "code",
      "source": [
        "import numpy as np\n",
        "from scipy.integrate import trapz\n",
        "\n",
        "f = lambda y: 1/np.sqrt(1-y**2)\n",
        "x = np.linspace(0, np.pi/4 , 1000)\n",
        "U = np.zeros(1000)\n",
        "\n",
        "for i, x_ in enumerate(x):\n",
        "    y = np.linspace(0, np.sin(x_), 1000)\n",
        "    I_1 = trapz(f(y), y)\n",
        "    U[i] = I_1\n",
        "\n",
        "II = trapz(U, x)\n",
        "II\n"
      ],
      "metadata": {
        "colab": {
          "base_uri": "https://localhost:8080/"
        },
        "id": "HXC7vZcBDJjF",
        "outputId": "3868090a-9424-4195-a948-96242b6f59c0"
      },
      "execution_count": 28,
      "outputs": [
        {
          "output_type": "execute_result",
          "data": {
            "text/plain": [
              "0.3084251503452092"
            ]
          },
          "metadata": {},
          "execution_count": 28
        }
      ]
    },
    {
      "cell_type": "markdown",
      "source": [
        "## Parte 3\n",
        "\n",
        "Un péndulo físico en el regimen de pequeñas oscilaciones tiene un periodo de:\n",
        "\n",
        "\\begin{equation}\n",
        "P_0=2\\pi \\sqrt{\\frac{I_0}{mgb}}\n",
        "\\end{equation}\n",
        "\n",
        "Cuando las oscilaciones no son pequenas, podemos encontrar una expresión para el periodo como sigue:\n",
        "\n",
        "\n",
        "La energia de un péndulo físico viene dada por:\n",
        "\n",
        "\\begin{equation}\n",
        "E=\\frac{I_0\\omega^2}{2}+mgb(1-\\cos \\theta)\n",
        "\\end{equation}\n",
        "\n",
        "En el punto más alejado de su posición de equilibrio, su energía es solo potencial y viene dada por:\n",
        "\n",
        "\\begin{equation}\n",
        "Ep = mgb(1-\\cos \\theta),\n",
        "\\end{equation}\n",
        "\n",
        "Igualando ambas expresiones tenemos que:\n",
        "\n",
        "\\begin{equation}\n",
        "mgb(1-\\cos \\theta)=\\frac{I_0\\omega^2}{2}+mgb(1-\\cos \\theta)\n",
        "\\end{equation}\n",
        "\n",
        "Integrando la ecuación respecto a $\\theta$ y realizando la sustitución:\n",
        "\n",
        "$\\sin \\phi = \\frac{\\sin \\frac{\\theta}{2}}{\\sin \\frac{\\theta_0}{2}}$ y  $k = \\sin \\frac{\\theta_0}{2}$, se puede encontrar  que el periodo de oscilación, viene dado en terminos de  la integral elíptica completa de primera especie:\n",
        "\n",
        "\n",
        "\\begin{equation}\n",
        "P = \\frac{2P_0}{\\pi} \\int _0^{\\pi/2} \\frac{\\mathrm{d\\phi}}{\\sqrt{1-k^2\\sin^2\\phi}}\n",
        "\\end{equation}\n",
        "\n",
        "donde,  $P_0$ es el periodo de las oscilaciones pequeñas. La anterior integral.\n",
        "\n",
        "Determinar el periodo de oscilación de un péndulo. Para ello:\n",
        "\n",
        "1. Suponga los párametros iniciales del pendulo.\n",
        "2. Realice una buena planificación del código para calcular la integral.\n",
        "3. Emplee un  método de integracion numérico que conozca.\n",
        "4. Compruebe su solucion con el valor exact de la integral mostrado en el punto"
      ],
      "metadata": {
        "id": "pvB9I2lavCdW"
      }
    },
    {
      "cell_type": "code",
      "source": [
        "def periodo_pendulo(m, g, b, theta0):\n",
        "\n",
        "    I0 = m * b**2\n",
        "    P0 = 2 * np.pi * np.sqrt(I0 / (m * g * b))\n",
        "    k = np.sin(theta0 / 2)\n",
        "\n",
        "    def integrand0(phi):\n",
        "        return 1 / np.sqrt(1 - k**2 * np.sin(phi)**2)\n",
        "\n",
        "    result, error = quad(integrand0, 0, np.pi/2)\n",
        "    P = (2 * P0 / np.pi) * result\n",
        "    return P\n",
        "\n",
        "m = 1.0\n",
        "g = 9.81\n",
        "b = 1.0\n",
        "theta0 = np.pi / 3\n",
        "\n",
        "P = periodo_pendulo(m, g, b, theta0)\n",
        "print(f\"El periodo del pendulo es {P:.4f} segundos\")\n",
        "m, g, b, theta0 = sp.symbols('m g b theta0')\n",
        "I0 = m*b**2\n",
        "omega0 = sp.sqrt(g/b)\n",
        "\n",
        "k = sp.sin(theta0/2)\n",
        "phi = sp.symbols('phi')\n",
        "P0 = 2*sp.pi*sp.sqrt(I0/(m*g*b))\n",
        "F = P0*(2/sp.pi)*sp.integrate(1/sp.sqrt(1 - k**2*sp.sin(phi)**2), (phi, 0, sp.pi/2))\n",
        "\n",
        "print(f\"El periodo del pendulo con el metodo de la simpson es {F.subs({m:1, g:9.8, b:1, theta0:sp.pi/3}):.4f} seconds\")"
      ],
      "metadata": {
        "colab": {
          "base_uri": "https://localhost:8080/"
        },
        "id": "lLUNpcepacos",
        "outputId": "78ddf1f4-2f8b-4504-93d2-0a4a8d7234d2"
      },
      "execution_count": 45,
      "outputs": [
        {
          "output_type": "stream",
          "name": "stdout",
          "text": [
            "El periodo del pendulo es 2.1529 segundos\n",
            "El periodo del pendulo con el metodo de la simpson es 2.1540 seconds\n"
          ]
        }
      ]
    },
    {
      "cell_type": "markdown",
      "source": [
        "## Parte 4\n",
        "\n",
        "The next  problems are examples of how elliptic integrals enter into realistic physics problems. It is straightforward to evaluate any integral numerically using the techniques of this chapter, but it may be difficult for you to  know if the answers you obtain are correct. One way to hone your integral evaluating skills is to compare your answers from quadrature to power series\n",
        "expressions, or to a polynomial approximations of know precision. To help you in this regard, we present here a polynomial approximation for an elliptic integral (Abramowitz and Stegun, 1972):\n",
        "\n",
        "\\begin{equation}\n",
        "K(m)=\\int_{0}^{\\pi/2} \\frac{\\mathrm{d\\phi}}{\\sqrt{1-m\\sin^2\\phi}}\n",
        "\\end{equation}\n",
        "\n",
        "\\begin{equation}\n",
        "\\approx a_0+a_1m_1+a_2m_2 - [ b_0+b_1m_1+b_2m_1^2]\\ln m_1 + \\epsilon(m)\n",
        "\\end{equation}\n",
        "\n",
        "\n",
        "* $m_1 = 1-m$,\n",
        "\n",
        "* $ 0 \\le m \\le1 $\n",
        "\n",
        "* $\\epsilon(m)\\leq 3\\times 10^{-5}$\n",
        "\n",
        "* $a_0 = 1.3862944$\n",
        "\n",
        "* $b_0 = 0.5$\n",
        "\n",
        "* $a_1 = 0.1119723$\n",
        "\n",
        "* $b_1 = 0.1213478$\n",
        "\n",
        "* $a_2 = 0.00725296$\n",
        "\n",
        "* $b_2 = 0.0288729$"
      ],
      "metadata": {
        "id": "R2jgnjm4vd95"
      }
    },
    {
      "cell_type": "code",
      "source": [
        "import numpy as np\n",
        "\n",
        "def aproximacion_de_la_integral(m):\n",
        "    m1 = 1 - m\n",
        "    a0 = 1.3862944\n",
        "    b0 = 0.5\n",
        "    a1 = 0.1119723\n",
        "    b1 = 0.1213478\n",
        "    a2 = 0.00725296\n",
        "    b2 = 0.0288729\n",
        "\n",
        "    approx = a0 + a1 * m1 + a2 * m1**2 - (b0 + b1 * m1 + b2 * m1**2) * np.log(m1)\n",
        "    return approx\n",
        "\n",
        "m_values = np.linspace(0, 1, 11)\n",
        "for m in m_values:\n",
        "    approx_value = aproximacion_de_la_integral(m)\n",
        "    print(f\"Para m = {m}, Valor aproximado = {approx_value}\")"
      ],
      "metadata": {
        "colab": {
          "base_uri": "https://localhost:8080/"
        },
        "id": "hf8ckLJxfWFA",
        "outputId": "b901c513-f465-4d0d-a121-2922a7cb45da"
      },
      "execution_count": 50,
      "outputs": [
        {
          "output_type": "stream",
          "name": "stdout",
          "text": [
            "Para m = 0.0, Valor aproximado = 1.5055196599999998\n",
            "Para m = 0.1, Valor aproximado = 1.5595954370750165\n",
            "Para m = 0.2, Valor aproximado = 1.6178716862093916\n",
            "Para m = 0.30000000000000004, Valor aproximado = 1.6819097737973638\n",
            "Para m = 0.4, Valor aproximado = 1.7540038430344496\n",
            "Para m = 0.5, Valor aproximado = 1.837726615305946\n",
            "Para m = 0.6000000000000001, Valor aproximado = 1.9390980606339778\n",
            "Para m = 0.7000000000000001, Valor aproximado = 2.069483690656785\n",
            "Para m = 0.8, Valor aproximado = 2.254617050195221\n",
            "Para m = 0.9, Valor aproximado = 2.5774628927231005\n",
            "Para m = 1.0, Valor aproximado = inf\n"
          ]
        },
        {
          "output_type": "stream",
          "name": "stderr",
          "text": [
            "<ipython-input-50-e8140bb76a42>:12: RuntimeWarning: divide by zero encountered in log\n",
            "  approx = a0 + a1 * m1 + a2 * m1**2 - (b0 + b1 * m1 + b2 * m1**2) * np.log(m1)\n"
          ]
        }
      ]
    },
    {
      "cell_type": "markdown",
      "source": [
        "# Parte 5 (Opcional)\n",
        "\n",
        "Figure 5.7 shows a current loop of radius a carrying a current I. The point P\n",
        "is a distance r from the center of the loop with spherical coordinates (r, θ, φ).\n",
        "Jackson (1988) solves for the φ component of the vector potential at point P\n",
        "in terms of elliptic integrals:\n",
        "\n",
        "\\begin{equation}\n",
        "A_{\\phi}(r, \\theta)=\\frac{\\mu_0}{4\\pi}\\frac{4Ia}{\\sqrt{a^2+r^2+2ar\\sin \\theta}}\\left(\\frac{(2-k^2)K(k)-2E(k)}{k^2} \\right)\n",
        "\\end{equation}\n",
        "\n",
        "\n",
        "where\n",
        "\n",
        "\\begin{equation}\n",
        "K(k)=\\int_{0}^{\\pi/2} \\frac{\\mathrm{d\\phi}}{\\sqrt{1-k^2\\sin^2\\phi}}\n",
        "\\end{equation}\n",
        "\n",
        "\n",
        "\\begin{equation}\n",
        "E(k)=\\int_{0}^{\\pi/2} \\mathrm{d\\phi} \\sqrt{1-k^2\\sin^2\\phi}\n",
        "\\end{equation}\n",
        "\n",
        "\n",
        "\\begin{equation}\n",
        "k^2=\\frac{4ar\\sin\\theta}{a^2+r^2+2ar\\sin\\theta}\n",
        "\\end{equation}\n",
        "\n",
        "\n",
        "\n",
        "Here K(k) is a complete elliptic integral of the first kind and E(k) is a complete\n",
        "elliptic integral of the second kind. For a = 1, I = 3, and μ0∕4π = 1, compute\n",
        "and plot\n",
        "\n",
        "a) Aφ(r = 1.1, θ) vs. θ\n",
        "\n",
        "b) Aφ(r, θ = π∕3) vs. r\n"
      ],
      "metadata": {
        "id": "xDFUsTNRvzOV"
      }
    },
    {
      "cell_type": "code",
      "source": [
        "phi = np.linspace(0, np.pi/4)\n",
        "tetha = np.linspace(0, np.pi/2)\n",
        "a = 1\n",
        "r= np.linspace(0.001, 2)\n",
        "k = np.sqrt((4*a*r*np.sin(tetha))/(a**2+r**2+2*a*r*np.sin(tetha)))\n",
        "k"
      ],
      "metadata": {
        "id": "Ny-ACuTtur-3",
        "colab": {
          "base_uri": "https://localhost:8080/"
        },
        "outputId": "8e1ecad3-08fc-4f7d-b081-4ed6ff22d1fd"
      },
      "execution_count": null,
      "outputs": [
        {
          "output_type": "execute_result",
          "data": {
            "text/plain": [
              "array([0.        , 0.07304031, 0.14423803, 0.21358096, 0.28029374,\n",
              "       0.34374811, 0.40348163, 0.45919834, 0.51075532, 0.55814019,\n",
              "       0.60144428, 0.64083545, 0.67653326, 0.70878797, 0.73786383,\n",
              "       0.76402661, 0.7875348 , 0.80863376, 0.82755231, 0.84450094,\n",
              "       0.85967138, 0.87323687, 0.88535307, 0.89615918, 0.90577935,\n",
              "       0.91432394, 0.92189096, 0.92856732, 0.93443001, 0.93954721,\n",
              "       0.94397926, 0.94777956, 0.95099538, 0.95366849, 0.95583584,\n",
              "       0.95753009, 0.95878005, 0.95961115, 0.96004577, 0.96010357,\n",
              "       0.95980178, 0.95915545, 0.95817761, 0.95687956, 0.95527092,\n",
              "       0.95335986, 0.95115317, 0.94865639, 0.94587392, 0.94280904])"
            ]
          },
          "metadata": {},
          "execution_count": 89
        }
      ]
    },
    {
      "cell_type": "code",
      "source": [
        "import numpy as np\n",
        "from scipy.integrate import quad\n",
        "\n",
        "def E(k, phi):\n",
        "    return np.sqrt(1 - k**2 * np.sin(phi)**2)\n",
        "\n",
        "def integrate_E(k, phi):\n",
        "    def integrand(phi):\n",
        "        return E(k, phi)\n",
        "    result, _ = quad(integrand, 0, np.pi/2)\n",
        "    return result\n",
        "\n",
        "phi = np.linspace(0, np.pi/4)\n",
        "theta = np.linspace(0, np.pi/2)\n",
        "a = 1\n",
        "r = np.linspace(0.001, 2)\n",
        "k = np.sqrt((4*a*r*np.sin(theta))/(a**2+r**2+2*a*r*np.sin(theta)))\n",
        "\n",
        "integral_values = [integrate_E(k_val, phi) for k_val in k]\n",
        "integral_values"
      ],
      "metadata": {
        "colab": {
          "base_uri": "https://localhost:8080/"
        },
        "id": "62yQL6EaD1JD",
        "outputId": "50f8d119-36dc-4ca6-cdff-47eb8ab45312"
      },
      "execution_count": null,
      "outputs": [
        {
          "output_type": "execute_result",
          "data": {
            "text/plain": [
              "[1.5707963267948966,\n",
              " 1.5686992210958997,\n",
              " 1.5625942265294381,\n",
              " 1.5527264359316344,\n",
              " 1.5394740584430484,\n",
              " 1.5233116974598535,\n",
              " 1.50476896337969,\n",
              " 1.4843907227360567,\n",
              " 1.4627036876834267,\n",
              " 1.4401918576603765,\n",
              " 1.4172812663516632,\n",
              " 1.394333006064366,\n",
              " 1.3716427183568558,\n",
              " 1.349444546193077,\n",
              " 1.3279177349854216,\n",
              " 1.3071944478273336,\n",
              " 1.2873677774399968,\n",
              " 1.2684993091335743,\n",
              " 1.2506258800748788,\n",
              " 1.233765386349733,\n",
              " 1.2179216224877507,\n",
              " 1.2030882153920233,\n",
              " 1.1892517526614013,\n",
              " 1.1763942178620563,\n",
              " 1.164494842663507,\n",
              " 1.1535314750421075,\n",
              " 1.1434815486761858,\n",
              " 1.1343227241873861,\n",
              " 1.126033259859443,\n",
              " 1.1185921590132692,\n",
              " 1.111979134004972,\n",
              " 1.1061744231485973,\n",
              " 1.1011584966445411,\n",
              " 1.0969116901584206,\n",
              " 1.0934138086834848,\n",
              " 1.0906437466720644,\n",
              " 1.0885791706816335,\n",
              " 1.0871963057620164,\n",
              " 1.0864698554808567,\n",
              " 1.0863730686828004,\n",
              " 1.0868779466011182,\n",
              " 1.0879555657796023,\n",
              " 1.089576479231965,\n",
              " 1.0917111526697876,\n",
              " 1.094330394608428,\n",
              " 1.0974057469525755,\n",
              " 1.1009098135175581,\n",
              " 1.1048165151432914,\n",
              " 1.1091012696333054,\n",
              " 1.1137411017129453]"
            ]
          },
          "metadata": {},
          "execution_count": 95
        }
      ]
    },
    {
      "cell_type": "code",
      "source": [
        "def K(k, phi):\n",
        "    return np.sqrt(1/(1 - k**2 * np.sin(phi)**2))\n",
        "\n",
        "def integrate_K(k, phi):\n",
        "    def integrande(phi):\n",
        "        return K(k, phi)\n",
        "    result1, _ = quad(integrande, 0, np.pi/2)\n",
        "    return result1\n",
        "\n",
        "phi = np.linspace(0, np.pi/4)\n",
        "theta = np.linspace(0, np.pi/2)\n",
        "a = 1\n",
        "r = np.linspace(0.001, 2)\n",
        "k = np.sqrt((4*a*r*np.sin(theta))/(a**2+r**2+2*a*r*np.sin(theta)))\n",
        "\n",
        "integral_values_K = [integrate_K(k_val, phi) for k_val in k]\n",
        "integral_values_K"
      ],
      "metadata": {
        "colab": {
          "base_uri": "https://localhost:8080/"
        },
        "id": "COs-hc1bF6P6",
        "outputId": "8909422b-31c1-4374-b726-236415ecd8ce"
      },
      "execution_count": null,
      "outputs": [
        {
          "output_type": "execute_result",
          "data": {
            "text/plain": [
              "[1.5707963267948966,\n",
              " 1.5728976424407246,\n",
              " 1.5790632910611355,\n",
              " 1.5891847568932662,\n",
              " 1.6030911718448748,\n",
              " 1.6205613543852768,\n",
              " 1.64133802075781,\n",
              " 1.6651423609688056,\n",
              " 1.6916874527575663,\n",
              " 1.7206894679372884,\n",
              " 1.7518761487645513,\n",
              " 1.7849924782779187,\n",
              " 1.8198037787765997,\n",
              " 1.8560966404791015,\n",
              " 1.893678133955452,\n",
              " 1.932373733127383,\n",
              " 1.97202430649107,\n",
              " 2.0124824503586667,\n",
              " 2.053608357509703,\n",
              " 2.095265348167456,\n",
              " 2.1373151430870108,\n",
              " 2.179612933567214,\n",
              " 2.2220023023736464,\n",
              " 2.264310075099134,\n",
              " 2.306341236034489,\n",
              " 2.347874128518134,\n",
              " 2.3886562771491686,\n",
              " 2.428401312935134,\n",
              " 2.4667876371053685,\n",
              " 2.503459594329715,\n",
              " 2.5380319915800946,\n",
              " 2.570098727191131,\n",
              " 2.5992460124520282,\n",
              " 2.6250701234712968,\n",
              " 2.6471988244669356,\n",
              " 2.6653146678167636,\n",
              " 2.6791775287794732,\n",
              " 2.688643271352278,\n",
              " 2.6936756244831788,\n",
              " 2.6943492582833155,\n",
              " 2.690843512916191,\n",
              " 2.683427851279176,\n",
              " 2.672441417774055,\n",
              " 2.6582697553015877,\n",
              " 2.6413216768514944,\n",
              " 2.6220086632122914,\n",
              " 2.600728250834992,\n",
              " 2.5778519664037596,\n",
              " 2.553717647092792,\n",
              " 2.5286255322188937]"
            ]
          },
          "metadata": {},
          "execution_count": 97
        }
      ]
    },
    {
      "cell_type": "code",
      "source": [
        "from scipy.integrate import quad\n",
        "import matplotlib.pyplot as plt\n",
        "import numpy as np\n",
        "\n",
        "f = lambda phi, k: 1/np.sqrt(1 - k**2*(np.sin(phi))**2)\n",
        "g = lambda phi, k: np.sqrt(1 - k**2*(np.sin(phi))**2)\n",
        "\n",
        "def KK(k, f):\n",
        "    I = quad(f, 0, np.pi/2, args=(k, ))[0]\n",
        "    return I\n",
        "\n",
        "def EE(k, g):\n",
        "    I = quad(g, 0, np.pi/2, args=(k, ))[0]\n",
        "    return I\n",
        "\n",
        "def k_cuadrado(r, theta, a):\n",
        "    n = 4*a*r*np.sin(theta)/(a**2 + r**2 + 2*a*r*np.sin(theta))\n",
        "    return n\n",
        "\n",
        "def Apotencial(r, theta, a, I):\n",
        "    n = 4*I*a\n",
        "    d = np.sqrt(a**2 + r**2 + 2*a*r*np.sin(theta))\n",
        "    PT = n/d\n",
        "    k_2 = k_cuadrado(r, theta, a)\n",
        "    k = np.sqrt(k_2)\n",
        "\n",
        "    ST = (((2-k_2)*KK(k, f)) - 2*EE(k, g))/k_2\n",
        "    A = PT*ST\n",
        "    return A\n",
        "\n",
        "a = 1\n",
        "I = 3\n",
        "r = np.linspace(0.1, 5.0, 100)\n",
        "\n",
        "theta = np.pi/4\n",
        "\n",
        "A = np.zeros(len(r))\n",
        "for i, r_val in enumerate(r):\n",
        "    A[i] = Apotencial(r_val, theta, a, I)\n",
        "\n",
        "plt.plot(r, A)\n",
        "plt.xlabel(\"r\")\n",
        "plt.ylabel(\"A(r,theta)\")\n",
        "plt.show()"
      ],
      "metadata": {
        "colab": {
          "base_uri": "https://localhost:8080/",
          "height": 451
        },
        "id": "iWRiOrouSLuM",
        "outputId": "df058890-326d-4e74-b07b-9305cd28a632"
      },
      "execution_count": null,
      "outputs": [
        {
          "output_type": "display_data",
          "data": {
            "text/plain": [
              "<Figure size 640x480 with 1 Axes>"
            ],
            "image/png": "[encoded data removed]"
          },
          "metadata": {}
        }
      ]
    }
  ]
}