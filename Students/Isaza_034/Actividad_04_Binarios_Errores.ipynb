{
  "cells": [
    {
      "cell_type": "markdown",
      "id": "6d26e874",
      "metadata": {
        "id": "6d26e874"
      },
      "source": [
        "<a href=\"https://colab.research.google.com/github/hernansalinas/autogrades/blob/main/Actividades_clase/Actividad_04_Binarios_Errores.ipynb\" target=\"_parent\"><img src=\"https://colab.research.google.com/assets/colab-badge.svg\" alt=\"Open In Colab\"/></a>\n",
        "\n",
        "\n",
        "\n",
        "# Actividad 4\n",
        "### Métodos computacionales para físicos  y astrónomos\n",
        "### Universidad de Antioquia\n",
        "### Prof: Hernan D. Salinas Jiménez\n"
      ]
    },
    {
      "cell_type": "code",
      "execution_count": 5,
      "id": "eae80e3f",
      "metadata": {
        "id": "eae80e3f",
        "outputId": "01b003ee-4082-414d-f219-72a49685f26d",
        "colab": {
          "base_uri": "https://localhost:8080/"
        }
      },
      "outputs": [
        {
          "output_type": "stream",
          "name": "stdout",
          "text": [
            "fatal: destination path 'autogrades' already exists and is not an empty directory.\n"
          ]
        }
      ],
      "source": [
        "!git clone https://github.com/hernansalinas/autogrades.git\n",
        "#path=\"libs\"\n",
        "path=\"autogrades/Actividades_clase/libs\"\n",
        "%run -i {path}/libUnitTest.py"
      ]
    },
    {
      "cell_type": "code",
      "source": [],
      "metadata": {
        "id": "cgiAv31c_Edd"
      },
      "id": "cgiAv31c_Edd",
      "execution_count": null,
      "outputs": []
    },
    {
      "cell_type": "markdown",
      "id": "74f1131a",
      "metadata": {
        "id": "74f1131a"
      },
      "source": [
        "### Activity 1.0:\n",
        "\n",
        "Implement a function that get the binary representation of an integer with name mybin, the algorithm should return\n",
        "a string with 8 characters, the maximun number that represent the funcition is integer of 8 bit. The name of function is\n",
        "mybin\n",
        "\n",
        "Ejexample :\n",
        "\n",
        "b=mybin(x)\n",
        "\n",
        "b='00101000'"
      ]
    },
    {
      "cell_type": "code",
      "source": [
        "import numpy as np\n",
        "import matplotlib.pylab as plt"
      ],
      "metadata": {
        "id": "eR32q8CIq13q"
      },
      "id": "eR32q8CIq13q",
      "execution_count": 6,
      "outputs": []
    },
    {
      "cell_type": "code",
      "source": [
        "def error_suma(n):\n",
        "  s =0.0\n",
        "  #n=100\n",
        "  for i in range(1, n+1):\n",
        "    s=s+0.1\n",
        "\n",
        "  expect = n*0.1\n",
        "  print(s)\n",
        "  print(expect)\n",
        "  error = abs((expect-s))/s\n",
        "  return error\n",
        "\n",
        "N= np.array([10, 100, 1000, 100000, 1000000])\n",
        "\n",
        "e = np.zeros(len(N))\n",
        "\n",
        "for i, n in enumerate(N):\n",
        "    e[i] = error_suma(n)"
      ],
      "metadata": {
        "id": "ba3A9zKuokXu",
        "outputId": "22b9fb4a-28bf-4212-975b-38f19cb2a9a6",
        "colab": {
          "base_uri": "https://localhost:8080/"
        }
      },
      "id": "ba3A9zKuokXu",
      "execution_count": 7,
      "outputs": [
        {
          "output_type": "stream",
          "name": "stdout",
          "text": [
            "0.9999999999999999\n",
            "1.0\n",
            "9.99999999999998\n",
            "10.0\n",
            "99.9999999999986\n",
            "100.0\n",
            "10000.000000018848\n",
            "10000.0\n",
            "100000.00000133288\n",
            "100000.0\n"
          ]
        }
      ]
    },
    {
      "cell_type": "code",
      "source": [
        "plt.plot(N,e)"
      ],
      "metadata": {
        "id": "dVC4nTZ1qHOc",
        "outputId": "f02b1510-a29b-485f-e030-fb1e142573ee",
        "colab": {
          "base_uri": "https://localhost:8080/",
          "height": 480
        }
      },
      "id": "dVC4nTZ1qHOc",
      "execution_count": null,
      "outputs": [
        {
          "output_type": "execute_result",
          "data": {
            "text/plain": [
              "[<matplotlib.lines.Line2D at 0x7c42fddce9e0>]"
            ]
          },
          "metadata": {},
          "execution_count": 32
        },
        {
          "output_type": "display_data",
          "data": {
            "text/plain": [
              "<Figure size 640x480 with 1 Axes>"
            ],
            "image/png": "[encoded data removed]"
          },
          "metadata": {}
        }
      ]
    },
    {
      "cell_type": "markdown",
      "source": [
        "Implementar una función que obtenga la representación binaria de un entero con nombre mybin, el algoritmo debe devolver una cadena con 8 caracteres, el número máximo que representa la función es entero de 8 bits. El nombre de la función es mybin\n"
      ],
      "metadata": {
        "id": "uYUzdU5GzoWq"
      },
      "id": "uYUzdU5GzoWq"
    },
    {
      "cell_type": "code",
      "source": [
        "def mybin(x):\n",
        "  b= \"\"\n",
        "  while x > 0:\n",
        "    c,r= divmod(x, 2)\n",
        "    x =c\n",
        "    b = str(r)+b\n",
        "\n",
        "  if len(b)< 8:\n",
        "    b = \"0\" * (8-len(b))+b\n",
        "  return b\n",
        "mybin(200)"
      ],
      "metadata": {
        "colab": {
          "base_uri": "https://localhost:8080/",
          "height": 35
        },
        "id": "DnMv3sgeC6dd",
        "outputId": "2f7a2b92-ea17-450e-82f8-531920b9a16b"
      },
      "id": "DnMv3sgeC6dd",
      "execution_count": 8,
      "outputs": [
        {
          "output_type": "execute_result",
          "data": {
            "text/plain": [
              "'11001000'"
            ],
            "application/vnd.google.colaboratory.intrinsic+json": {
              "type": "string"
            }
          },
          "metadata": {},
          "execution_count": 8
        }
      ]
    },
    {
      "cell_type": "code",
      "source": [
        "mybin(200)"
      ],
      "metadata": {
        "id": "Y8R4NwdO4lZL",
        "colab": {
          "base_uri": "https://localhost:8080/",
          "height": 35
        },
        "outputId": "edbe6af6-c0a9-49c3-eeb0-1f273878e409"
      },
      "id": "Y8R4NwdO4lZL",
      "execution_count": 9,
      "outputs": [
        {
          "output_type": "execute_result",
          "data": {
            "text/plain": [
              "'11001000'"
            ],
            "application/vnd.google.colaboratory.intrinsic+json": {
              "type": "string"
            }
          },
          "metadata": {},
          "execution_count": 9
        }
      ]
    },
    {
      "cell_type": "code",
      "execution_count": null,
      "id": "885be6fb",
      "metadata": {
        "id": "885be6fb",
        "outputId": "6d4623db-42a8-46ea-bf86-893afd6e8a6b",
        "colab": {
          "base_uri": "https://localhost:8080/",
          "height": 215
        }
      },
      "outputs": [
        {
          "output_type": "display_data",
          "data": {
            "text/plain": [
              "<IPython.core.display.HTML object>"
            ],
            "text/html": [
              "<style>\n",
              "  table { text-align: left; border-collapse: collapse; margin: 1em; caption-side: bottom; font-family: Sans-Serif; font-size: 12px}\n",
              "  caption { text-align: left; padding: 5px }\n",
              "  th, td { border: 2px solid #BFC9CA; padding: 5px }\n",
              "  th { background-color: #BFC9CA }\n",
              "  .passed { background-color: #76D7C4 }\n",
              "  .failed { background-color: #EC7063 }\n",
              "  .skipped { background-color: #EDBB99 }\n",
              "  .score { background-color: #7DCEA0 }\n",
              "  .results .points { display: none }\n",
              "  .results .message { display: block; font-size:smaller; color:#D35400 }\n",
              "  .results .note { display: block; font-size:smaller; font-decoration:italics }\n",
              "  .results .passed::before  { content: \"Passed\" } \n",
              "  .results .skipped::before  { content: \"Skipped\" } \n",
              "  .results .failed::before  { content: \"Failed\" } \n",
              "  .grade .passed  .message:empty::before { content:\"Passed\" }\n",
              "  .grade .failed  .message:empty::before { content:\"Failed\" }\n",
              "  .grade .skipped .message:empty::before { content:\"Skipped\" }   \n",
              "</style>\n",
              "<table class='results'>\n",
              "  <th class='test'>Test</th><th class='result'>Result</th></tr>\n",
              "<tr>\n",
              "  <td class='test'>\n",
              "    La salida debe ser un string \n",
              "    <div class='message'>Done</div>\n",
              "  </td>\n",
              "  <td class='result passed'></td>\n",
              "</tr>\n",
              "<tr>\n",
              "  <td class='test'>\n",
              "    La longitud del string debe ser de 8 \n",
              "    <div class='message'>Done</div>\n",
              "  </td>\n",
              "  <td class='result passed'></td>\n",
              "</tr>\n",
              "<tr>\n",
              "  <td class='test'>\n",
              "    Para el número 90 su representacion es 01011010 \n",
              "    <div class='message'>Done</div>\n",
              "  </td>\n",
              "  <td class='result passed'></td>\n",
              "</tr>  <tr><th class='score'>Total Points</th><th class='score'>3</th></tr></table>\n"
            ]
          },
          "metadata": {}
        }
      ],
      "source": [
        "%run -i {path}/Act_02/test01.py"
      ]
    },
    {
      "cell_type": "markdown",
      "id": "e622b7b5",
      "metadata": {
        "id": "e622b7b5"
      },
      "source": [
        "### Activity 2.0:\n",
        "\n",
        "With the binary representation please try to implement the formula to recover the number.\n",
        "\n",
        "Hint: Use as input the binary representation as a string and invert its order\n",
        "\n",
        "```\n",
        "number32(BIN):\n",
        "\n",
        "```\n",
        "\n",
        "Where BIN is a string with the binary number\n",
        "\n",
        "Example:\n",
        "\n",
        "\n",
        "Test your solution for the next number:\n",
        "\n",
        "number32(\"00111110001000000000001000010000\")"
      ]
    },
    {
      "cell_type": "code",
      "execution_count": 10,
      "id": "5f3c6506",
      "metadata": {
        "id": "5f3c6506",
        "colab": {
          "base_uri": "https://localhost:8080/"
        },
        "outputId": "2bb53a13-3149-49c7-e80e-ef2592ae318f"
      },
      "outputs": [
        {
          "output_type": "execute_result",
          "data": {
            "text/plain": [
              "0.15625"
            ]
          },
          "metadata": {},
          "execution_count": 10
        }
      ],
      "source": [
        "def number32(BIN):\n",
        "  bin = np.array(list(BIN))\n",
        "  bin = bin[::-1].astype(int)\n",
        "  s=bin[-1]\n",
        "  bs=bin[23:31]\n",
        "  i = np.arange(8)\n",
        "  e = (bs*(2**i)).sum()\n",
        "  br= bin[:23]\n",
        "  i2= np.arange(1,24)[::-1]\n",
        "  sum2=(br/(2**i2)).sum()\n",
        "  numero = (((-1)**s)/(2**(127-e)))*(1+ sum2)\n",
        "  return numero\n",
        "number32(\"00111110001000000000000000000000\")"
      ]
    },
    {
      "cell_type": "code",
      "execution_count": null,
      "id": "155ffd7f",
      "metadata": {
        "id": "155ffd7f",
        "outputId": "60917797-d961-45b4-d01b-c16173f80538",
        "colab": {
          "base_uri": "https://localhost:8080/"
        }
      },
      "outputs": [
        {
          "output_type": "stream",
          "name": "stdout",
          "text": [
            "La función no ha sido definda o el numero de argumento no es el adecuado\n"
          ]
        }
      ],
      "source": [
        "%run -i {path}/Act_02/test02.py"
      ]
    },
    {
      "cell_type": "markdown",
      "id": "d11e596d",
      "metadata": {
        "id": "d11e596d"
      },
      "source": [
        "### Activity 3.0:\n",
        "1. Write a python script that calculates the double precision number represented by a 64-bits binary.\n",
        "\n",
        "the name of function should be:\n",
        "```\n",
        "number64(BIN):\n",
        "\n",
        "```\n",
        "\n",
        "2. What is the number represented by:\n",
        "\n",
        "BIN=\"0 10000000011 1011100100001111111111111111111111111111111111111111\""
      ]
    },
    {
      "cell_type": "code",
      "execution_count": 11,
      "id": "b0922a1d",
      "metadata": {
        "id": "b0922a1d",
        "colab": {
          "base_uri": "https://localhost:8080/"
        },
        "outputId": "c01666a4-edef-454f-a28e-9f3b7e468f43"
      },
      "outputs": [
        {
          "output_type": "execute_result",
          "data": {
            "text/plain": [
              "27.566406249999996"
            ]
          },
          "metadata": {},
          "execution_count": 11
        }
      ],
      "source": [
        "def number64(BIN):\n",
        "  bin = np.array(list(BIN))\n",
        "  bin = bin[::-1].astype(int)\n",
        "  s=bin[-1]\n",
        "  exponente=bin[52:63]\n",
        "  suma = 0\n",
        "  for i, ex in enumerate(exponente):\n",
        "    suma += int(ex)*2**i\n",
        "  e= suma\n",
        "  br= bin[51::-1]\n",
        "  i2= np.arange(1,53)\n",
        "  i2 = np.power(float(2), -i2)\n",
        "  sum2=(br*i2).sum()\n",
        "  numero = ((-1)**s)*(1+ sum2)*(2**(e-1023))\n",
        "  return numero\n",
        "\n",
        "number64(\"0100000000111011100100001111111111111111111111111111111111111111\")\n"
      ]
    },
    {
      "cell_type": "code",
      "execution_count": null,
      "id": "cd48a992",
      "metadata": {
        "scrolled": false,
        "id": "cd48a992",
        "outputId": "07d5c46c-2ced-4594-fb19-40003edfdb36",
        "colab": {
          "base_uri": "https://localhost:8080/",
          "height": 124
        }
      },
      "outputs": [
        {
          "output_type": "error",
          "ename": "SyntaxError",
          "evalue": "unmatched ')' (test03.py, line 28)",
          "traceback": [
            "\u001b[0;36m  File \u001b[0;32m\"/content/autogrades/Actividades_clase/libs/Act_02/test03.py\"\u001b[0;36m, line \u001b[0;32m28\u001b[0m\n\u001b[0;31m    True)\u001b[0m\n\u001b[0m        ^\u001b[0m\n\u001b[0;31mSyntaxError\u001b[0m\u001b[0;31m:\u001b[0m unmatched ')'\n"
          ]
        }
      ],
      "source": [
        "%run -i {path}/Act_02/test03.py"
      ]
    },
    {
      "cell_type": "code",
      "source": [
        "N=1000\n",
        "p=0.9993\n",
        "P= p **N\n",
        "\n",
        "print(\"la probabilidad de que el codigo este mal escrito es de: {0:.3f}\".format(P))\n",
        "p"
      ],
      "metadata": {
        "colab": {
          "base_uri": "https://localhost:8080/"
        },
        "id": "NdheYbSd1Imi",
        "outputId": "22166971-ea0f-4155-8eaa-91ef42edf4dc"
      },
      "id": "NdheYbSd1Imi",
      "execution_count": 12,
      "outputs": [
        {
          "output_type": "stream",
          "name": "stdout",
          "text": [
            "la probabilidad de que el codigo este mal escrito es de: 0.496\n"
          ]
        },
        {
          "output_type": "execute_result",
          "data": {
            "text/plain": [
              "0.9993"
            ]
          },
          "metadata": {},
          "execution_count": 12
        }
      ]
    },
    {
      "cell_type": "code",
      "source": [
        "b0=\"00111110001000000000000000000000\"\n",
        "b = b0[::-1]"
      ],
      "metadata": {
        "id": "qLo5L38y1_75"
      },
      "id": "qLo5L38y1_75",
      "execution_count": 13,
      "outputs": []
    },
    {
      "cell_type": "code",
      "source": [
        "signo=b[31]\n",
        "signo\n",
        "pos_exponente = b[23:31]\n",
        "fracciòn = b[0:23]\n",
        "len(signo), len(pos_exponente), len(fracciòn)"
      ],
      "metadata": {
        "colab": {
          "base_uri": "https://localhost:8080/"
        },
        "id": "5jop_SQ_6cta",
        "outputId": "86e3ab23-e677-4c8c-d1d8-afa29aac3e97"
      },
      "id": "5jop_SQ_6cta",
      "execution_count": 14,
      "outputs": [
        {
          "output_type": "execute_result",
          "data": {
            "text/plain": [
              "(1, 8, 23)"
            ]
          },
          "metadata": {},
          "execution_count": 14
        }
      ]
    },
    {
      "cell_type": "code",
      "source": [],
      "metadata": {
        "id": "t2G4dzdpKh8g"
      },
      "id": "t2G4dzdpKh8g",
      "execution_count": null,
      "outputs": []
    },
    {
      "cell_type": "code",
      "source": [
        "def pos_exponente():\n",
        "    pos_exponente = np.arange(0, 7)\n",
        "    e = 0\n",
        "    for i in range(0, 8):\n",
        "        print(pos_exponente[i])\n",
        "        e = e + int(pos_exponente[i]) * (2 ** i)\n",
        "    return e\n"
      ],
      "metadata": {
        "id": "4scAAYZgBFG3"
      },
      "id": "4scAAYZgBFG3",
      "execution_count": 15,
      "outputs": []
    }
  ],
  "metadata": {
    "kernelspec": {
      "display_name": "Python 3 (ipykernel)",
      "language": "python",
      "name": "python3"
    },
    "language_info": {
      "codemirror_mode": {
        "name": "ipython",
        "version": 3
      },
      "file_extension": ".py",
      "mimetype": "text/x-python",
      "name": "python",
      "nbconvert_exporter": "python",
      "pygments_lexer": "ipython3",
      "version": "3.10.9"
    },
    "colab": {
      "provenance": []
    }
  },
  "nbformat": 4,
  "nbformat_minor": 5
}