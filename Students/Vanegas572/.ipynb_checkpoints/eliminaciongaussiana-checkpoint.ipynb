{
 "cells": [
  {
   "cell_type": "code",
   "execution_count": 185,
   "metadata": {
    "executionInfo": {
     "elapsed": 254,
     "status": "ok",
     "timestamp": 1698345308775,
     "user": {
      "displayName": "ANGELICA VANEGAS GARCIA",
      "userId": "16861485320675243414"
     },
     "user_tz": 300
    },
    "id": "2LIfg3XRpih5"
   },
   "outputs": [],
   "source": [
    "import numpy as np\n",
    "import sympy as sp\n",
    "from numpy import linalg"
   ]
  },
  {
   "cell_type": "code",
   "execution_count": 186,
   "metadata": {
    "colab": {
     "base_uri": "https://localhost:8080/"
    },
    "executionInfo": {
     "elapsed": 299,
     "status": "ok",
     "timestamp": 1698345309295,
     "user": {
      "displayName": "ANGELICA VANEGAS GARCIA",
      "userId": "16861485320675243414"
     },
     "user_tz": 300
    },
    "id": "UbVenDmIqDXN",
    "outputId": "617725a2-a2c5-450e-bba0-c2fba723f2ee"
   },
   "outputs": [
    {
     "data": {
      "text/plain": [
       "matrix([[ 2.,  1., -1.,  5.],\n",
       "        [ 4.,  1.,  1.,  1.],\n",
       "        [ 6.,  2.,  1.,  4.]])"
      ]
     },
     "execution_count": 186,
     "metadata": {},
     "output_type": "execute_result"
    }
   ],
   "source": [
    "#@title Encontraremos la solución de esta matriz por medio de eliminación gaussiana\n",
    "A = np.matrix([[2, 1, -1, 5], [4, 1, 1, 1], [6, 2, 1, 4]]).astype(float)\n",
    "A"
   ]
  },
  {
   "cell_type": "code",
   "execution_count": 187,
   "metadata": {
    "colab": {
     "base_uri": "https://localhost:8080/"
    },
    "executionInfo": {
     "elapsed": 21,
     "status": "ok",
     "timestamp": 1698345309296,
     "user": {
      "displayName": "ANGELICA VANEGAS GARCIA",
      "userId": "16861485320675243414"
     },
     "user_tz": 300
    },
    "id": "luZnUu62rGeV",
    "outputId": "271bd31d-0f3c-429a-abdb-90904e11e25b"
   },
   "outputs": [
    {
     "data": {
      "text/plain": [
       "(3, 4)"
      ]
     },
     "execution_count": 187,
     "metadata": {},
     "output_type": "execute_result"
    }
   ],
   "source": [
    "np.shape(A)"
   ]
  },
  {
   "cell_type": "code",
   "execution_count": 188,
   "metadata": {
    "colab": {
     "base_uri": "https://localhost:8080/"
    },
    "executionInfo": {
     "elapsed": 20,
     "status": "ok",
     "timestamp": 1698345309296,
     "user": {
      "displayName": "ANGELICA VANEGAS GARCIA",
      "userId": "16861485320675243414"
     },
     "user_tz": 300
    },
    "id": "Ng6ww0pmt_nR",
    "outputId": "3c1c8beb-54cf-4fd0-e39a-e7f57a039efc"
   },
   "outputs": [
    {
     "data": {
      "text/plain": [
       "numpy.matrix"
      ]
     },
     "execution_count": 188,
     "metadata": {},
     "output_type": "execute_result"
    }
   ],
   "source": [
    "type(A)"
   ]
  },
  {
   "cell_type": "code",
   "execution_count": 189,
   "metadata": {
    "colab": {
     "base_uri": "https://localhost:8080/",
     "height": 78
    },
    "executionInfo": {
     "elapsed": 19,
     "status": "ok",
     "timestamp": 1698345309296,
     "user": {
      "displayName": "ANGELICA VANEGAS GARCIA",
      "userId": "16861485320675243414"
     },
     "user_tz": 300
    },
    "id": "ozrGdBW1vA9d",
    "outputId": "aaf8e7f3-ca6d-46b2-daa3-70a86ede68b4"
   },
   "outputs": [
    {
     "data": {
      "text/latex": [
       "$\\displaystyle \\left[\\begin{matrix}2.0 & 1.0 & -1.0 & 5.0\\\\4.0 & 1.0 & 1.0 & 1.0\\\\6.0 & 2.0 & 1.0 & 4.0\\end{matrix}\\right]$"
      ],
      "text/plain": [
       "Matrix([\n",
       "[2.0, 1.0, -1.0, 5.0],\n",
       "[4.0, 1.0,  1.0, 1.0],\n",
       "[6.0, 2.0,  1.0, 4.0]])"
      ]
     },
     "execution_count": 189,
     "metadata": {},
     "output_type": "execute_result"
    }
   ],
   "source": [
    "sp.Matrix(A)"
   ]
  },
  {
   "cell_type": "code",
   "execution_count": 190,
   "metadata": {
    "colab": {
     "base_uri": "https://localhost:8080/",
     "height": 78
    },
    "executionInfo": {
     "elapsed": 19,
     "status": "ok",
     "timestamp": 1698345309296,
     "user": {
      "displayName": "ANGELICA VANEGAS GARCIA",
      "userId": "16861485320675243414"
     },
     "user_tz": 300
    },
    "id": "LMGtNjVUrQh8",
    "outputId": "a0a91388-311b-472f-8fb7-6155baf25b20"
   },
   "outputs": [
    {
     "data": {
      "text/latex": [
       "$\\displaystyle \\left[\\begin{matrix}-4.0 & -2.0 & 2.0 & -10.0\\\\4.0 & 1.0 & 1.0 & 1.0\\\\6.0 & 2.0 & 1.0 & 4.0\\end{matrix}\\right]$"
      ],
      "text/plain": [
       "Matrix([\n",
       "[-4.0, -2.0, 2.0, -10.0],\n",
       "[ 4.0,  1.0, 1.0,   1.0],\n",
       "[ 6.0,  2.0, 1.0,   4.0]])"
      ]
     },
     "execution_count": 190,
     "metadata": {},
     "output_type": "execute_result"
    }
   ],
   "source": [
    "#@title Realizaremos un programa que nos permita realizar eliminación gaussiana a la matriz A\n",
    "\n",
    "#definimos primero las operaciones elementales de fila\n",
    "\n",
    "def multiplicacion_por_escalar(a, A, i):\n",
    "  B = A.copy()\n",
    "  B[i] = a * A[i]\n",
    "  return B\n",
    "\n",
    "B = multiplicacion_por_escalar(-2, A, 0)\n",
    "sp.Matrix(B)"
   ]
  },
  {
   "cell_type": "code",
   "execution_count": 191,
   "metadata": {
    "colab": {
     "base_uri": "https://localhost:8080/",
     "height": 78
    },
    "executionInfo": {
     "elapsed": 18,
     "status": "ok",
     "timestamp": 1698345309296,
     "user": {
      "displayName": "ANGELICA VANEGAS GARCIA",
      "userId": "16861485320675243414"
     },
     "user_tz": 300
    },
    "id": "uZzZlOcFysFu",
    "outputId": "ac027c6a-f5b2-476f-b1fe-ef2b8cfd3b92"
   },
   "outputs": [
    {
     "data": {
      "text/latex": [
       "$\\displaystyle \\left[\\begin{matrix}4.0 & 1.0 & 1.0 & 1.0\\\\-4.0 & -2.0 & 2.0 & -10.0\\\\6.0 & 2.0 & 1.0 & 4.0\\end{matrix}\\right]$"
      ],
      "text/plain": [
       "Matrix([\n",
       "[ 4.0,  1.0, 1.0,   1.0],\n",
       "[-4.0, -2.0, 2.0, -10.0],\n",
       "[ 6.0,  2.0, 1.0,   4.0]])"
      ]
     },
     "execution_count": 191,
     "metadata": {},
     "output_type": "execute_result"
    }
   ],
   "source": [
    "def intercambio_de_filas(A, i, j):\n",
    "  C = A.copy()\n",
    "  C[i] = A[j]\n",
    "  C[j] = A[i]\n",
    "  return C\n",
    "\n",
    "C = intercambio_de_filas(B, 1, 0)\n",
    "sp.Matrix(C)\n"
   ]
  },
  {
   "cell_type": "code",
   "execution_count": 192,
   "metadata": {
    "colab": {
     "base_uri": "https://localhost:8080/",
     "height": 78
    },
    "executionInfo": {
     "elapsed": 17,
     "status": "ok",
     "timestamp": 1698345309296,
     "user": {
      "displayName": "ANGELICA VANEGAS GARCIA",
      "userId": "16861485320675243414"
     },
     "user_tz": 300
    },
    "id": "yaYJ2e6q0fTW",
    "outputId": "791c84d8-31a6-44e1-b5bb-0aa29b1ba105"
   },
   "outputs": [
    {
     "data": {
      "text/latex": [
       "$\\displaystyle \\left[\\begin{matrix}4.0 & 1.0 & 1.0 & 1.0\\\\0 & -1.0 & 3.0 & -9.0\\\\6.0 & 2.0 & 1.0 & 4.0\\end{matrix}\\right]$"
      ],
      "text/plain": [
       "Matrix([\n",
       "[4.0,  1.0, 1.0,  1.0],\n",
       "[  0, -1.0, 3.0, -9.0],\n",
       "[6.0,  2.0, 1.0,  4.0]])"
      ]
     },
     "execution_count": 192,
     "metadata": {},
     "output_type": "execute_result"
    }
   ],
   "source": [
    "def suma_de_filas(A, i, j, k): #matriz, i + j, a la que va\n",
    "  D = A.copy()\n",
    "  D[k] = A[i] + A[j]\n",
    "  return D\n",
    "\n",
    "D = suma_de_filas(C, 0, 1, 1)\n",
    "sp.Matrix(D)"
   ]
  },
  {
   "cell_type": "code",
   "execution_count": 193,
   "metadata": {
    "colab": {
     "base_uri": "https://localhost:8080/",
     "height": 78
    },
    "executionInfo": {
     "elapsed": 17,
     "status": "ok",
     "timestamp": 1698345309296,
     "user": {
      "displayName": "ANGELICA VANEGAS GARCIA",
      "userId": "16861485320675243414"
     },
     "user_tz": 300
    },
    "id": "g1M5AjzC2BY7",
    "outputId": "cc2b62f1-0e0e-4deb-cd22-42f2753eb2c5"
   },
   "outputs": [
    {
     "data": {
      "text/latex": [
       "$\\displaystyle \\left[\\begin{matrix}1.0 & 0.166666666666667 & 0.5 & -0.5\\\\0 & 0.333333333333333 & -1.0 & 3.0\\\\0 & 0.333333333333333 & 0 & 1.0\\end{matrix}\\right]$"
      ],
      "text/plain": [
       "Matrix([\n",
       "[1.0, 0.166666666666667,  0.5, -0.5],\n",
       "[  0, 0.333333333333333, -1.0,  3.0],\n",
       "[  0, 0.333333333333333,    0,  1.0]])"
      ]
     },
     "execution_count": 193,
     "metadata": {},
     "output_type": "execute_result"
    }
   ],
   "source": [
    "MATRIZ = multiplicacion_por_escalar(1/3, D, 1)\n",
    "MATRIZ1 = suma_de_filas(MATRIZ, 1, 0, 0)\n",
    "MATRIZ2 = multiplicacion_por_escalar(1/4, MATRIZ1, 0)\n",
    "MATRIZ3 = multiplicacion_por_escalar(-6, MATRIZ2, 0)\n",
    "MATRIZ4 = suma_de_filas(MATRIZ3, 0, 2, 2)\n",
    "MATRIZ5 = multiplicacion_por_escalar(2, MATRIZ4, 1)\n",
    "MATRIZ6 = suma_de_filas(MATRIZ5, 1, 2, 2)\n",
    "MATRIZ7 = multiplicacion_por_escalar(-1/6, MATRIZ6, 0)\n",
    "MATRIZ8 = multiplicacion_por_escalar(-1/2, MATRIZ7, 1)\n",
    "sp.Matrix(MATRIZ8)"
   ]
  },
  {
   "cell_type": "code",
   "execution_count": 220,
   "metadata": {
    "colab": {
     "base_uri": "https://localhost:8080/"
    },
    "executionInfo": {
     "elapsed": 231,
     "status": "ok",
     "timestamp": 1698345700417,
     "user": {
      "displayName": "ANGELICA VANEGAS GARCIA",
      "userId": "16861485320675243414"
     },
     "user_tz": 300
    },
    "id": "tP65wbsU9fzk",
    "outputId": "be3054bf-687b-41ae-c4d6-4a3ba69531dc"
   },
   "outputs": [
    {
     "data": {
      "text/plain": [
       "matrix([[ 2.,  2.,  3.,  1.],\n",
       "        [-1.,  2.,  1.,  2.],\n",
       "        [ 4., -1.,  1.,  3.]])"
      ]
     },
     "execution_count": 220,
     "metadata": {},
     "output_type": "execute_result"
    }
   ],
   "source": [
    "#@title  Ahora vamos a generalizar el problema para una matriz $3 × 3$\n",
    "\n",
    "#definimos una matriz arbitraria 3 × 3, con el vector solución\n",
    "\n",
    "G = np.matrix([[2, 2, 3, 1], [-1, 2, 1, 2], [4, -1, 1, 3]]).astype(float)\n",
    "G"
   ]
  },
  {
   "cell_type": "code",
   "execution_count": 221,
   "metadata": {
    "colab": {
     "base_uri": "https://localhost:8080/",
     "height": 78
    },
    "executionInfo": {
     "elapsed": 233,
     "status": "ok",
     "timestamp": 1698345701870,
     "user": {
      "displayName": "ANGELICA VANEGAS GARCIA",
      "userId": "16861485320675243414"
     },
     "user_tz": 300
    },
    "id": "kTQpkPeUHoUa",
    "outputId": "45d5207c-19f5-4d4e-ff6d-168b6ed06b70"
   },
   "outputs": [
    {
     "data": {
      "text/latex": [
       "$\\displaystyle \\left[\\begin{matrix}2.0 & 2.0 & 3.0 & 1.0\\\\-1.0 & 2.0 & 1.0 & 2.0\\\\4.0 & -1.0 & 1.0 & 3.0\\end{matrix}\\right]$"
      ],
      "text/plain": [
       "Matrix([\n",
       "[ 2.0,  2.0, 3.0, 1.0],\n",
       "[-1.0,  2.0, 1.0, 2.0],\n",
       "[ 4.0, -1.0, 1.0, 3.0]])"
      ]
     },
     "execution_count": 221,
     "metadata": {},
     "output_type": "execute_result"
    }
   ],
   "source": [
    "sp.Matrix(G)"
   ]
  },
  {
   "cell_type": "code",
   "execution_count": 222,
   "metadata": {
    "colab": {
     "base_uri": "https://localhost:8080/"
    },
    "executionInfo": {
     "elapsed": 2,
     "status": "ok",
     "timestamp": 1698345703975,
     "user": {
      "displayName": "ANGELICA VANEGAS GARCIA",
      "userId": "16861485320675243414"
     },
     "user_tz": 300
    },
    "id": "3GUFuKO7BOEd",
    "outputId": "e7a6c4be-2226-4050-a18d-5b79a24e30b6"
   },
   "outputs": [
    {
     "data": {
      "text/plain": [
       "(3, 4)"
      ]
     },
     "execution_count": 222,
     "metadata": {},
     "output_type": "execute_result"
    }
   ],
   "source": [
    "np.shape(G)"
   ]
  },
  {
   "cell_type": "code",
   "execution_count": 223,
   "metadata": {
    "colab": {
     "base_uri": "https://localhost:8080/"
    },
    "executionInfo": {
     "elapsed": 215,
     "status": "ok",
     "timestamp": 1698345705242,
     "user": {
      "displayName": "ANGELICA VANEGAS GARCIA",
      "userId": "16861485320675243414"
     },
     "user_tz": 300
    },
    "id": "UIENVz2jPoFp",
    "outputId": "00bab995-11b9-4f85-fcef-6b30ba313c3c"
   },
   "outputs": [
    {
     "data": {
      "text/plain": [
       "matrix([[1. , 1. , 1.5, 0.5]])"
      ]
     },
     "execution_count": 223,
     "metadata": {},
     "output_type": "execute_result"
    }
   ],
   "source": [
    "G[0]/G[0, 0]"
   ]
  },
  {
   "cell_type": "code",
   "execution_count": 224,
   "metadata": {
    "colab": {
     "base_uri": "https://localhost:8080/"
    },
    "executionInfo": {
     "elapsed": 2,
     "status": "ok",
     "timestamp": 1698345706187,
     "user": {
      "displayName": "ANGELICA VANEGAS GARCIA",
      "userId": "16861485320675243414"
     },
     "user_tz": 300
    },
    "id": "4rP9m-smSA8b",
    "outputId": "daddd481-bda3-4b35-eef7-3abe0e08bac4"
   },
   "outputs": [
    {
     "name": "stdout",
     "output_type": "stream",
     "text": [
      "2.0 soy el primer termino\n",
      "[[1.  1.  1.5 0.5]] otro\n"
     ]
    }
   ],
   "source": [
    "if (G[0,0] == 0):\n",
    "  G = intercambio_de_filas(G, 0, 1)\n",
    "if (G[0,0] != 1):\n",
    "  print(G[0,0], \"soy el primer termino\")\n",
    "  G[0] = G[0] / G[0,0]\n",
    "  print(G[0], \"otro\")"
   ]
  },
  {
   "cell_type": "code",
   "execution_count": 225,
   "metadata": {
    "colab": {
     "base_uri": "https://localhost:8080/",
     "height": 78
    },
    "executionInfo": {
     "elapsed": 254,
     "status": "ok",
     "timestamp": 1698345707811,
     "user": {
      "displayName": "ANGELICA VANEGAS GARCIA",
      "userId": "16861485320675243414"
     },
     "user_tz": 300
    },
    "id": "IBAd9fspSC6S",
    "outputId": "47071b49-8b62-4460-832b-989542081ceb"
   },
   "outputs": [
    {
     "data": {
      "text/latex": [
       "$\\displaystyle \\left[\\begin{matrix}1.0 & 1.0 & 1.5 & 0.5\\\\-1.0 & 2.0 & 1.0 & 2.0\\\\4.0 & -1.0 & 1.0 & 3.0\\end{matrix}\\right]$"
      ],
      "text/plain": [
       "Matrix([\n",
       "[ 1.0,  1.0, 1.5, 0.5],\n",
       "[-1.0,  2.0, 1.0, 2.0],\n",
       "[ 4.0, -1.0, 1.0, 3.0]])"
      ]
     },
     "execution_count": 225,
     "metadata": {},
     "output_type": "execute_result"
    }
   ],
   "source": [
    "sp.Matrix(G)"
   ]
  }
 ],
 "metadata": {
  "colab": {
   "authorship_tag": "ABX9TyNUKrxj8rtoPGdmYQFDAHSt",
   "provenance": []
  },
  "kernelspec": {
   "display_name": "Python 3 (ipykernel)",
   "language": "python",
   "name": "python3"
  },
  "language_info": {
   "codemirror_mode": {
    "name": "ipython",
    "version": 3
   },
   "file_extension": ".py",
   "mimetype": "text/x-python",
   "name": "python",
   "nbconvert_exporter": "python",
   "pygments_lexer": "ipython3",
   "version": "3.10.9"
  }
 },
 "nbformat": 4,
 "nbformat_minor": 1
}
