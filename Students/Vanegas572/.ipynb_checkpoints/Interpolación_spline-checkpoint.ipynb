{
 "cells": [
  {
   "cell_type": "code",
   "execution_count": 10,
   "metadata": {
    "executionInfo": {
     "elapsed": 314,
     "status": "ok",
     "timestamp": 1696870083702,
     "user": {
      "displayName": "ANGELICA VANEGAS GARCIA",
      "userId": "16861485320675243414"
     },
     "user_tz": 300
    },
    "id": "POys9fqJ24n0"
   },
   "outputs": [],
   "source": [
    "import numpy as np\n",
    "import matplotlib.pylab as plt\n",
    "from numpy.linalg import solve"
   ]
  },
  {
   "cell_type": "markdown",
   "metadata": {
    "id": "Pmy2T2N97mn3"
   },
   "source": [
    "Calcular el spline cúbico que interpola los puntos $(-1,5)$, $(0,3)$, $(1,3)$ y $(2,7)$."
   ]
  },
  {
   "cell_type": "code",
   "execution_count": 11,
   "metadata": {
    "executionInfo": {
     "elapsed": 17,
     "status": "ok",
     "timestamp": 1696870084038,
     "user": {
      "displayName": "ANGELICA VANEGAS GARCIA",
      "userId": "16861485320675243414"
     },
     "user_tz": 300
    },
    "id": "6pdLTA1S3IGV"
   },
   "outputs": [],
   "source": [
    "x0, x1, x2, x3 = -1, 0, 1, 2\n",
    "_x = np.array([x0, x1, x2, x3])\n",
    "y0, y1, y2, y3 =  5, 3, 3, 7\n",
    "_y = np.array([y0, y1, y2, y3])"
   ]
  },
  {
   "cell_type": "markdown",
   "metadata": {
    "id": "DblUTviV32Cm"
   },
   "source": [
    "Para calcular los splines cúbicos debemos resolver el sistema de ecuaciones que define los coeficientes de los polinomios cúbicos en los subintervalos $[-1,0]$, $[0,1]$ y $[1,2]$. Empleando las condiciones del metodo de spline, y defiendo los polinomios para garantizar la continuidad en cada unos de los puntos, tenemos que:\n",
    "\n",
    "Sean:\n",
    "  * $s_0(x) = a_0 + b_0 (x-x_0) + c_0 (x-x_0)^2 + d_0 (x-x_0)^3$,\n",
    "  * $s_1(x) = a_1 + b_1 (x-x_1) + c_1 (x-x_1)^2 + d_1 (x-x_1)^3$,\n",
    "  * $s_2(x) = a_2 + b_2 (x-x_2) + c_2 (x-x_2)^2 + d_2 (x-x_2)^3$,\n",
    "\n",
    "es decir:\n",
    "  * $s_0(x) = a_0 + b_0 (x+1) + c_0 (x+1)^2 + d_0 (x+1)^3$,\n",
    "  * $s_1(x) = a_1 + b_1 x + c_1 x^2 + d_1 x^3$.\n",
    "  * $s_2(x) = a_2 + b_2 (x-1) + c_2 (x-1)^2 + d_2 (x-1)^3$,\n",
    "\n",
    "Entonces\n",
    "  * $s_0'(x) =  b_0 + 2 c_0 (x+1) + 3 d_0 (x+1)^2$,\n",
    "  * $s_0''(x) = 2 c_0 + 6 d_0 (x+1)$,\n",
    "  * $s_1'(x) =  b_1 + 2 c_1 x + 3 d_1 x^2$,\n",
    "  * $s_1''(x) = 2 c_1 + 6 d_1 x$,\n",
    "  * $s_2'(x) = b_2 + 2 c_2 (x-1) + 3 d_2 (x-1)^2$,\n",
    "  * $s_2''(x) = 2 c_2 + 6 d_2 (x-1)$,  \n",
    "\n",
    "  Tenemos 12 incógnitas, $a_i$, $b_i$, $c_i$, $d_i$ con $i=0,1,2$. Las ecuaciones son:\n",
    "\n",
    "  * Interpolación (continuidad en 0 y en 1):\n",
    "\n",
    "    * $s_0(-1) = 5$, es decir, $a_0=5$.\n",
    "    * $s_0(0)  = 3$, es decir, $a_0+b_0+c_0+d_0=3$.\n",
    "    * $s_1(0) = 3$, es decir, $a_1=3$.\n",
    "    * $s_1(1)  = 3$, es decir, $a_1+b_1+c_1+d_1=3$.\n",
    "    * $s_2(1) = 3 $, es decir, $a_2=3$.\n",
    "    * $s_2(2) = 7$, es decir, $a_2+b_2+c_2+d_2 = 7$,\n",
    "\n",
    "  * Derivabilidad:\n",
    "\n",
    "    * $s_0'(0) = s_1'(0)$, es decir, $b_0+2c_0+3d_0 = b_1$.\n",
    "    * $s_0''(0) = s_1''(0)$, es decir, $2c_0+6d_0 = 2c_1$.\n",
    "    * $s_1'(1) = s_2'(1)$, es decir, $b_1+2 c_1+3d_1 = b_2$.\n",
    "    * $s_1''(1) = s_2''(1)$, es decir, $2c_1+6 d_1 = 2 c_2$.\n",
    "\n",
    "  * Condiciones naturales en los extremos, $-1$ y $2$:\n",
    "\n",
    "    * $s_0''(-1) = 0$, es decir, $2c_0=0$.\n",
    "    * $s_2''(2) = 0$, es decir, $2c_2+6d_2=0$.\n",
    "\n",
    "\n",
    "De estas ecuaciones tenemos directamente $a_0$, $a_1$, $a_2$ y $c_0$. Le damos valores a las variables en python:\n",
    "\n",
    "    \n",
    "\n",
    "\n",
    "\n"
   ]
  },
  {
   "cell_type": "code",
   "execution_count": 12,
   "metadata": {
    "executionInfo": {
     "elapsed": 17,
     "status": "ok",
     "timestamp": 1696870084039,
     "user": {
      "displayName": "ANGELICA VANEGAS GARCIA",
      "userId": "16861485320675243414"
     },
     "user_tz": 300
    },
    "id": "sbuozejR3ZVF"
   },
   "outputs": [],
   "source": [
    "a0 = 5\n",
    "a1 = 3\n",
    "a2 = 3\n",
    "c0 = 0"
   ]
  },
  {
   "cell_type": "markdown",
   "metadata": {
    "id": "nN81ErvmnYeB"
   },
   "source": [
    "Así, podemos eliminar la primera, tercera, quinta y onceava ecuación, llegando a un sistema de ocho ecuaciones con ocho incógnitas ($b_0$, $d_0$, $b_1$, $c_1$, $d_1$, $b_2$, $c_2$, $d_2$):\n",
    "\n",
    " * $b_0+d_0=3-a_0-c_0=-2$,\n",
    " * $b_1+c_1+d_1=3-a_1=0$,\n",
    " * $b_2+c_2+d_2=7-a_2=4$,\n",
    " * $b_0+3d_0 - b_1 = -2c_0 = 0$,\n",
    " * $6d_0 - 2c_1 = -2c_0=0$,\n",
    " * $b_1+2c_1+3d_1 - b_2 = 0$,\n",
    " * $2c_1+6d_1 - 2c_2 = 0$\n",
    " * $2c_2+6d_2=0$\n",
    "\n",
    "\n",
    "La matriz y el segundo miembro asociados son:"
   ]
  },
  {
   "cell_type": "code",
   "execution_count": 13,
   "metadata": {
    "executionInfo": {
     "elapsed": 17,
     "status": "ok",
     "timestamp": 1696870084039,
     "user": {
      "displayName": "ANGELICA VANEGAS GARCIA",
      "userId": "16861485320675243414"
     },
     "user_tz": 300
    },
    "id": "5bi55m2EnXlK"
   },
   "outputs": [],
   "source": [
    "A = np.array([\n",
    "\t[ 1, 1, 0, 0, 0, 0, 0, 0],\n",
    "\t[ 0, 0, 1, 1, 1, 0, 0, 0],\n",
    "  [ 0, 0, 0, 0, 0, 1, 1, 1],\n",
    "\t[ 1, 3,-1, 0, 0, 0, 0, 0],\n",
    "\t[ 0, 6, 0,-2, 0, 0, 0, 0],\n",
    "  [ 0, 0, 1, 2, 3,-1, 0, 0],\n",
    "  [ 0, 0, 0, 2, 6, 0,-2, 0],\n",
    "\t[ 0, 0, 0, 0, 0, 0, 2, 6]])\n",
    "b = np.array([-2, 0, 4, 0, 0, 0, 0, 0])"
   ]
  },
  {
   "cell_type": "markdown",
   "metadata": {
    "id": "yxZzITZ0OaVe"
   },
   "source": [
    "Ahora podemos resolver este sistema usando la función `solve()` (incluida en el modulo \"linalg\" del paquete *numpy*):"
   ]
  },
  {
   "cell_type": "code",
   "execution_count": 14,
   "metadata": {
    "colab": {
     "base_uri": "https://localhost:8080/"
    },
    "executionInfo": {
     "elapsed": 17,
     "status": "ok",
     "timestamp": 1696870084040,
     "user": {
      "displayName": "ANGELICA VANEGAS GARCIA",
      "userId": "16861485320675243414"
     },
     "user_tz": 300
    },
    "id": "2uTRXzK6NlPX",
    "outputId": "15f1c396-e519-4269-8fb3-db0dd12251c1"
   },
   "outputs": [
    {
     "name": "stdout",
     "output_type": "stream",
     "text": [
      "[-2.26666667  0.26666667 -1.46666667  0.8         0.66666667  2.13333333\n",
      "  2.8        -0.93333333]\n"
     ]
    }
   ],
   "source": [
    "sol = solve(A,b)\n",
    "print(sol)"
   ]
  },
  {
   "cell_type": "code",
   "execution_count": 15,
   "metadata": {
    "colab": {
     "base_uri": "https://localhost:8080/"
    },
    "executionInfo": {
     "elapsed": 13,
     "status": "ok",
     "timestamp": 1696870084040,
     "user": {
      "displayName": "ANGELICA VANEGAS GARCIA",
      "userId": "16861485320675243414"
     },
     "user_tz": 300
    },
    "id": "G04J30z7OaCU",
    "outputId": "c1d6b0f2-af8d-42e4-c998-2c1f20aa4d4e"
   },
   "outputs": [
    {
     "name": "stdout",
     "output_type": "stream",
     "text": [
      "a0, b0, c0, d0 = 5.000000, -2.266667, 0.000000, 0.266667\n",
      "a1, b1, c1, d1 = 3.000000, -1.466667, 0.800000, 0.666667\n",
      "a2, b2, c2, d2 = 3.000000, 2.133333, 2.800000, -0.933333\n"
     ]
    }
   ],
   "source": [
    "# Definimos la solución como variables b0, d0, b1, c1, d1, b2, c2 y d2\n",
    "b0, d0, b1, c1, d1, b2, c2, d2 = sol\n",
    "\n",
    "# Y mostramos los resultados\n",
    "print (\"a0, b0, c0, d0 = %f, %f, %f, %f\" % (a0, b0, c0, d0))\n",
    "print (\"a1, b1, c1, d1 = %f, %f, %f, %f\" % (a1, b1, c1, d1))\n",
    "print (\"a2, b2, c2, d2 = %f, %f, %f, %f\" % (a2, b2, c2, d2))"
   ]
  },
  {
   "cell_type": "markdown",
   "metadata": {
    "id": "AUg3BnTyPX-b"
   },
   "source": [
    "Para dibujar la gráfica, lo más fácil es definir los polinomios $s_0$,  $s_1$, $s_2$ y representarlos gráficamente."
   ]
  },
  {
   "cell_type": "code",
   "execution_count": 16,
   "metadata": {
    "colab": {
     "base_uri": "https://localhost:8080/",
     "height": 724
    },
    "executionInfo": {
     "elapsed": 479,
     "status": "ok",
     "timestamp": 1696870084511,
     "user": {
      "displayName": "ANGELICA VANEGAS GARCIA",
      "userId": "16861485320675243414"
     },
     "user_tz": 300
    },
    "id": "qYdcmAHlPi7h",
    "outputId": "02114637-4db0-4bdc-85c4-0a3b6b1c571f"
   },
   "outputs": [
    {
     "data": {
      "image/png": "[encoded data removed]",
      "text/plain": [
       "<Figure size 1000x800 with 1 Axes>"
      ]
     },
     "metadata": {},
     "output_type": "display_data"
    }
   ],
   "source": [
    "def s0(x):\n",
    "    return a0 + b0*(x+1) + c0*(x+1)**2 + d0*(x+1)**3\n",
    "def s1(x):\n",
    "    return a1 + b1*x + c1*x**2 + d1*x**3\n",
    "def s2(x):\n",
    "  return a2 + b2*(x-1) + c2*(x-1)**2 + d2*(x-1)**3\n",
    "\n",
    "xx0 = np.linspace(-1,0)\n",
    "xx1 = np.linspace(0,1)\n",
    "xx2 = np.linspace(1,2)\n",
    "\n",
    "plt.figure(figsize=(10, 8))\n",
    "plt.plot(xx0, s0(xx0), lw=3, label = \"S0\")\n",
    "plt.plot(xx1, s1(xx1), lw=3, label = \"S1\")\n",
    "plt.plot(xx2, s2(xx2), lw=3, label = \"S2\" )\n",
    "plt.plot(_x, _y, 'o')\n",
    "plt.axvline(color = \"k\", ls=\"-.\")\n",
    "plt.ylabel(\"f(x)\", fontsize=20)\n",
    "plt.xlabel(\"x\", fontsize=20)\n",
    "plt.xticks(fontsize=20)\n",
    "plt.yticks(fontsize=20)\n",
    "plt.legend(loc = \"upper right\", fontsize= 20)\n",
    "plt.grid()\n",
    "plt.show()"
   ]
  }
 ],
 "metadata": {
  "colab": {
   "authorship_tag": "ABX9TyMHHvjKPKsP5psZBnDRvQzy",
   "provenance": []
  },
  "kernelspec": {
   "display_name": "Python 3 (ipykernel)",
   "language": "python",
   "name": "python3"
  },
  "language_info": {
   "codemirror_mode": {
    "name": "ipython",
    "version": 3
   },
   "file_extension": ".py",
   "mimetype": "text/x-python",
   "name": "python",
   "nbconvert_exporter": "python",
   "pygments_lexer": "ipython3",
   "version": "3.10.9"
  }
 },
 "nbformat": 4,
 "nbformat_minor": 1
}
