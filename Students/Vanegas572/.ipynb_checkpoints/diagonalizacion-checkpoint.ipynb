{
 "cells": [
  {
   "cell_type": "code",
   "execution_count": 1,
   "metadata": {
    "executionInfo": {
     "elapsed": 1968,
     "status": "ok",
     "timestamp": 1698947994076,
     "user": {
      "displayName": "ANGELICA VANEGAS GARCIA",
      "userId": "16861485320675243414"
     },
     "user_tz": 300
    },
    "id": "x2wtfls4t3hL"
   },
   "outputs": [],
   "source": [
    "import numpy as np\n",
    "from numpy import linalg\n",
    "import sympy as sy"
   ]
  },
  {
   "cell_type": "code",
   "execution_count": 2,
   "metadata": {
    "executionInfo": {
     "elapsed": 13,
     "status": "ok",
     "timestamp": 1698947994076,
     "user": {
      "displayName": "ANGELICA VANEGAS GARCIA",
      "userId": "16861485320675243414"
     },
     "user_tz": 300
    },
    "id": "9ThothYdvGrw"
   },
   "outputs": [],
   "source": [
    "#@title Definimos la matriz con la que vamos a trabajar\n",
    "\n",
    "a = np.array([[1, -1, 4], [3, 2, -1], [2, 1, -1]])\n",
    "#A = np.matrix(a)\n",
    "#sy.Matrix(A)"
   ]
  },
  {
   "cell_type": "code",
   "execution_count": 3,
   "metadata": {
    "colab": {
     "base_uri": "https://localhost:8080/",
     "height": 78
    },
    "executionInfo": {
     "elapsed": 13,
     "status": "ok",
     "timestamp": 1698947994076,
     "user": {
      "displayName": "ANGELICA VANEGAS GARCIA",
      "userId": "16861485320675243414"
     },
     "user_tz": 300
    },
    "id": "OmhVMnFV3e-h",
    "outputId": "3b4cd9b9-85af-4cb4-b1bd-34c761db9079"
   },
   "outputs": [
    {
     "data": {
      "text/latex": [
       "$\\displaystyle \\left[\\begin{matrix}1 & -1 & 4\\\\3 & 2 & -1\\\\2 & 1 & -1\\end{matrix}\\right]$"
      ],
      "text/plain": [
       "Matrix([\n",
       "[1, -1,  4],\n",
       "[3,  2, -1],\n",
       "[2,  1, -1]])"
      ]
     },
     "execution_count": 3,
     "metadata": {},
     "output_type": "execute_result"
    }
   ],
   "source": [
    "sy.Matrix(a)"
   ]
  },
  {
   "cell_type": "code",
   "execution_count": 4,
   "metadata": {
    "colab": {
     "base_uri": "https://localhost:8080/"
    },
    "executionInfo": {
     "elapsed": 11,
     "status": "ok",
     "timestamp": 1698947994076,
     "user": {
      "displayName": "ANGELICA VANEGAS GARCIA",
      "userId": "16861485320675243414"
     },
     "user_tz": 300
    },
    "id": "qHL4OZ8Qy3IZ",
    "outputId": "c15de2fa-90f5-44e9-b0c3-bc4a919b3092"
   },
   "outputs": [
    {
     "data": {
      "text/plain": [
       "array([[ 3,  2, -1],\n",
       "       [ 2,  1, -1]])"
      ]
     },
     "execution_count": 4,
     "metadata": {},
     "output_type": "execute_result"
    }
   ],
   "source": [
    "a[1:3:1, 0:3:1]"
   ]
  },
  {
   "cell_type": "code",
   "execution_count": 5,
   "metadata": {
    "colab": {
     "base_uri": "https://localhost:8080/",
     "height": 58
    },
    "executionInfo": {
     "elapsed": 11,
     "status": "ok",
     "timestamp": 1698947994077,
     "user": {
      "displayName": "ANGELICA VANEGAS GARCIA",
      "userId": "16861485320675243414"
     },
     "user_tz": 300
    },
    "id": "dfuJm1lqCteU",
    "outputId": "aa2a7fe8-368e-4d0d-eb7e-cd29dec11115"
   },
   "outputs": [
    {
     "data": {
      "text/latex": [
       "$\\displaystyle \\left[\\begin{matrix}1 & -1\\\\3 & 2\\end{matrix}\\right]$"
      ],
      "text/plain": [
       "Matrix([\n",
       "[1, -1],\n",
       "[3,  2]])"
      ]
     },
     "execution_count": 5,
     "metadata": {},
     "output_type": "execute_result"
    }
   ],
   "source": [
    "a2 = a[0:2:1, 0:2:1]\n",
    "sy.Matrix(a2)"
   ]
  },
  {
   "cell_type": "code",
   "execution_count": 6,
   "metadata": {
    "colab": {
     "base_uri": "https://localhost:8080/"
    },
    "executionInfo": {
     "elapsed": 221,
     "status": "ok",
     "timestamp": 1698947994288,
     "user": {
      "displayName": "ANGELICA VANEGAS GARCIA",
      "userId": "16861485320675243414"
     },
     "user_tz": 300
    },
    "id": "0_zyV1LbwM1C",
    "outputId": "a8a4a257-63c6-48f1-cf96-8d64a6c4e8ee"
   },
   "outputs": [
    {
     "data": {
      "text/plain": [
       "5"
      ]
     },
     "execution_count": 6,
     "metadata": {},
     "output_type": "execute_result"
    }
   ],
   "source": [
    "#@title Lo primero que necesitamos son los valores propios, para eso necesitamos calcular $p(\\lambda) = det(A - \\lambda I)$\n",
    "\n",
    "#definimos una función que saque el determinante de una matriz 2 * 2\n",
    "\n",
    "def determinante_2_2(B):\n",
    "  det = (B[0][0] * B[1][1]) - (B[1][0] * B[0][1])\n",
    "  return det\n",
    "determinante_2_2(a2)"
   ]
  },
  {
   "cell_type": "code",
   "execution_count": 26,
   "metadata": {
    "colab": {
     "base_uri": "https://localhost:8080/"
    },
    "executionInfo": {
     "elapsed": 3,
     "status": "ok",
     "timestamp": 1698948456160,
     "user": {
      "displayName": "ANGELICA VANEGAS GARCIA",
      "userId": "16861485320675243414"
     },
     "user_tz": 300
    },
    "id": "y89tjjOFC38g",
    "outputId": "a32cb9f9-5ec7-46c2-ca3d-3a393ddfcb5b"
   },
   "outputs": [
    {
     "data": {
      "text/plain": [
       "-6"
      ]
     },
     "execution_count": 26,
     "metadata": {},
     "output_type": "execute_result"
    }
   ],
   "source": [
    "#ahora definimos una función que saque el determinante de una matriz 3 * 3\n",
    "\n",
    "def determinante_3_3(A):\n",
    "  B = A[1:3:1, 1:3:1]\n",
    "  C = A[1:3:1, 0:3:2]\n",
    "  D = A[1:3:1, 0:2:1]\n",
    "  det = (A[0][0] * determinante_2_2(B)) - (A[0][1] * determinante_2_2(C)) + (A[0][2] * determinante_2_2(D))\n",
    "  return det\n",
    "\n",
    "determinante_3_3(a)"
   ]
  },
  {
   "cell_type": "code",
   "execution_count": null,
   "metadata": {
    "id": "AG9lAye6QXxQ"
   },
   "outputs": [],
   "source": [
    "#H.subs para evaluar\n",
    "#sympy.simplify para simplificar lo que mas se pueda\n",
    "#H.eigenvals()\n"
   ]
  }
 ],
 "metadata": {
  "colab": {
   "authorship_tag": "ABX9TyOC3UwZpmzd9nIIG01OFlS3",
   "provenance": []
  },
  "kernelspec": {
   "display_name": "Python 3 (ipykernel)",
   "language": "python",
   "name": "python3"
  },
  "language_info": {
   "codemirror_mode": {
    "name": "ipython",
    "version": 3
   },
   "file_extension": ".py",
   "mimetype": "text/x-python",
   "name": "python",
   "nbconvert_exporter": "python",
   "pygments_lexer": "ipython3",
   "version": "3.10.9"
  }
 },
 "nbformat": 4,
 "nbformat_minor": 1
}
