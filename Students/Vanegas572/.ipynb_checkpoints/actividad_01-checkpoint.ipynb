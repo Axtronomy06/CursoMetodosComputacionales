{
 "cells": [
  {
   "cell_type": "code",
   "execution_count": 1,
   "metadata": {
    "colab": {
     "base_uri": "https://localhost:8080/"
    },
    "executionInfo": {
     "elapsed": 2247,
     "status": "ok",
     "timestamp": 1691899254126,
     "user": {
      "displayName": "ANGELICA VANEGAS GARCIA",
      "userId": "16861485320675243414"
     },
     "user_tz": 300
    },
    "id": "fzXr0PhOmZEV",
    "outputId": "843dc2a9-6c7c-406c-8a94-60183420d169"
   },
   "outputs": [
    {
     "name": "stdout",
     "output_type": "stream",
     "text": [
      "Ingresa una palabra2\n",
      "es palindroma\n"
     ]
    },
    {
     "data": {
      "text/plain": [
       "True"
      ]
     },
     "execution_count": 1,
     "metadata": {},
     "output_type": "execute_result"
    }
   ],
   "source": [
    "#haremos una funcion que diga si una palabra es palindroma o no\n",
    "\n",
    "j= str(input(\"Ingresa una palabra\"))\n",
    "\n",
    "def palindroma(a): #definir para funcion para una variable\n",
    "  b=a[::-1]   #definimo b igual a la \"inversa\" de a\n",
    "  if(a==b): #si a=b\n",
    "    print(\"es palindroma\") #diga esto\n",
    "    var=True\n",
    "  else: #si no\n",
    "    print(\"no es palindroma\") #diga esto#\n",
    "    var=False\n",
    "  return var\n",
    "\n",
    "palindroma(j)\n"
   ]
  },
  {
   "cell_type": "code",
   "execution_count": 2,
   "metadata": {
    "colab": {
     "base_uri": "https://localhost:8080/"
    },
    "executionInfo": {
     "elapsed": 2546,
     "status": "ok",
     "timestamp": 1691899280788,
     "user": {
      "displayName": "ANGELICA VANEGAS GARCIA",
      "userId": "16861485320675243414"
     },
     "user_tz": 300
    },
    "id": "ZESiDn2XqveD",
    "outputId": "5fbcddcf-d40b-4859-d81e-4b792d5c1c24"
   },
   "outputs": [
    {
     "name": "stdout",
     "output_type": "stream",
     "text": [
      "Ingresa un numero mayor a 1 \n"
     ]
    },
    {
     "ename": "ValueError",
     "evalue": "invalid literal for int() with base 10: ''",
     "output_type": "error",
     "traceback": [
      "\u001b[0;31m---------------------------------------------------------------------------\u001b[0m",
      "\u001b[0;31mValueError\u001b[0m                                Traceback (most recent call last)",
      "Cell \u001b[0;32mIn[2], line 3\u001b[0m\n\u001b[1;32m      1\u001b[0m \u001b[38;5;66;03m#funcion factorial\u001b[39;00m\n\u001b[0;32m----> 3\u001b[0m i\u001b[38;5;241m=\u001b[39m \u001b[38;5;28;43mint\u001b[39;49m\u001b[43m(\u001b[49m\u001b[38;5;28;43minput\u001b[39;49m\u001b[43m(\u001b[49m\u001b[38;5;124;43m\"\u001b[39;49m\u001b[38;5;124;43mIngresa un numero mayor a 1 \u001b[39;49m\u001b[38;5;124;43m\"\u001b[39;49m\u001b[43m)\u001b[49m\u001b[43m)\u001b[49m\n\u001b[1;32m      5\u001b[0m \u001b[38;5;28;01mdef\u001b[39;00m \u001b[38;5;21mfactorial\u001b[39m(n): \u001b[38;5;66;03m#defino el nombre de la funcion, esto me sirve para no tener que volver a hacer todo si no solo ingresar mi numero\u001b[39;00m\n\u001b[1;32m      6\u001b[0m   \u001b[38;5;28;01mif\u001b[39;00m \u001b[38;5;28misinstance\u001b[39m(n,\u001b[38;5;28mint\u001b[39m):\n",
      "\u001b[0;31mValueError\u001b[0m: invalid literal for int() with base 10: ''"
     ]
    }
   ],
   "source": [
    "#funcion factorial\n",
    "\n",
    "i= int(input(\"Ingresa un numero mayor a 1 \"))\n",
    "\n",
    "def factorial(n): #defino el nombre de la funcion, esto me sirve para no tener que volver a hacer todo si no solo ingresar mi numero\n",
    "  if isinstance(n,int):\n",
    "   y=n-1 #aqui defino la resta\n",
    "   x=y*n #defino la multiplicacion y ahora vamos a generalizar\n",
    "\n",
    "   for i in range(0, n-2): #este ciclo me ayuda haciendo las repeticiones necesarias\n",
    "    y=y-1 #la primer operacion que se generaliza\n",
    "    x=x*y #la segunda operacion que se generaliza\n",
    "   print(f\"El factorial de {n} es:\",x)\n",
    "   return x #me entrega la ultima multiplicacion que realiza\n",
    "  else:\n",
    "    print(f\"{n} no es un numero entero\")\n",
    "factorial(i)"
   ]
  },
  {
   "cell_type": "markdown",
   "metadata": {
    "id": "aWfZOOy0In0d"
   },
   "source": [
    "1. Función doble factorial"
   ]
  },
  {
   "cell_type": "code",
   "execution_count": 4,
   "metadata": {
    "colab": {
     "base_uri": "https://localhost:8080/"
    },
    "executionInfo": {
     "elapsed": 3131,
     "status": "ok",
     "timestamp": 1691899295428,
     "user": {
      "displayName": "ANGELICA VANEGAS GARCIA",
      "userId": "16861485320675243414"
     },
     "user_tz": 300
    },
    "id": "Fo9Vm_zD03QX",
    "outputId": "6116a590-08f9-477d-eb83-d1a9a86d38a9"
   },
   "outputs": [
    {
     "name": "stdout",
     "output_type": "stream",
     "text": [
      "ingresa un número n>1 9\n",
      "El doble factorial de 9 es: 945\n"
     ]
    },
    {
     "data": {
      "text/plain": [
       "945"
      ]
     },
     "execution_count": 4,
     "metadata": {},
     "output_type": "execute_result"
    }
   ],
   "source": [
    "#funcion doble factorial\n",
    "\n",
    "h = int(input(\"ingresa un número n>1 \"))\n",
    "\n",
    "def doble_factorial(n):  #definimos la funcion para n\n",
    "  if isinstance(n,int): #leemos si n es un numero entero\n",
    "    y=n-2 #le restamos 2 unidades a n y ese numero lo llamamos y\n",
    "    x=y*n #multiplicamos y*n y a ese numero lo llamo x\n",
    "    for i in range(0,n): #creamos un ciclo for para que me realice esa misma operacion condicionada por n\n",
    "      y=y-2 #para que el ciclo funcione redefino y\n",
    "      if y>0: # y condiciono a y para que no tome valores igual a 0 o negativos\n",
    "       x=x*y #con el y condicionado redefino x\n",
    "    print(f\"El doble factorial de {n} es:\",x) #y print\n",
    "    return x\n",
    "  else:\n",
    "    print(f\"{n} no es un numero entero\") #si n no es un numero entero entonces saldra este anuncio\n",
    "\n",
    "doble_factorial(h)"
   ]
  },
  {
   "cell_type": "markdown",
   "metadata": {
    "id": "cx89GjMyItN-"
   },
   "source": [
    "2. Funcion lucas"
   ]
  },
  {
   "cell_type": "code",
   "execution_count": 6,
   "metadata": {
    "colab": {
     "base_uri": "https://localhost:8080/"
    },
    "executionInfo": {
     "elapsed": 2383,
     "status": "ok",
     "timestamp": 1691899322508,
     "user": {
      "displayName": "ANGELICA VANEGAS GARCIA",
      "userId": "16861485320675243414"
     },
     "user_tz": 300
    },
    "id": "hyxfpTkyXX6t",
    "outputId": "c5fea8a8-48e6-444d-983b-07f769ca7faf"
   },
   "outputs": [
    {
     "name": "stdout",
     "output_type": "stream",
     "text": [
      "Ingresa un número mayor o igual a 0 7\n",
      " El termino n-ésimo correspondiente a la sucesión de Lucas es: 29\n"
     ]
    },
    {
     "data": {
      "text/plain": [
       "29"
      ]
     },
     "execution_count": 6,
     "metadata": {},
     "output_type": "execute_result"
    }
   ],
   "source": [
    "#vamos a definir una funcion que me devuelva el n-esimo termino de la sucesion de lucas\n",
    "\n",
    "k= int(input(\"Ingresa un número mayor o igual a 0 \"))\n",
    "\n",
    "\n",
    "def lucas(n): #definimos la funcion\n",
    "  l_0=2 #definimos el termino l_0\n",
    "  l_1=1 #definimos el termino l_1\n",
    "  if isinstance(n,int): #leemos si es un entero\n",
    "    if n == 0: #aplico la primera condicion para l_0 pues es un numero fijo\n",
    "      print(f\"el término n-ésimo correspondiente a la sucesión de Lucas es: {l_0}\")\n",
    "    if n == 1: #aplico la condicion anterior para l_1\n",
    "      print(f\"termino n-ésimo correspondiente a la sucesión de Lucas es: {l_1}\")\n",
    "    if n >= 2: #para n>=2\n",
    "      for i in range (n-1): #creo un ciclo for para que se realice n-1 veces pues asi funciona la sucesion\n",
    "        l_n=l_0+l_1 #defino la primera funcion como la suma de l0 y l_1\n",
    "        l_0=l_1 #redefino el termino de l_0 para que sea el numero siguiente a el\n",
    "        l_1=l_n #redefino el termino de l_1 para que sea el numero siguiente a el, en este caso es el l_n\n",
    "      print(f\" El termino n-ésimo correspondiente a la sucesión de Lucas es: {l_n}\")\n",
    "      return l_n\n",
    "\n",
    "  else:\n",
    "    print(\"Ingresa un número entero\") #si no es un numero entero, print\n",
    "\n",
    "lucas(k)\n"
   ]
  },
  {
   "cell_type": "markdown",
   "metadata": {
    "id": "tMnXdVvmB5Cy"
   },
   "source": [
    "Para el último punto de la actividad usaré la función factorial creada anteriormente y usaré la fórmula para combinaciones sin repetición:\n",
    "\n",
    "![formulacombinacionessinrepeticion.jpg](data:image/jpeg;base64,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)"
   ]
  },
  {
   "cell_type": "code",
   "execution_count": 12,
   "metadata": {
    "colab": {
     "base_uri": "https://localhost:8080/"
    },
    "executionInfo": {
     "elapsed": 5621,
     "status": "ok",
     "timestamp": 1691900357201,
     "user": {
      "displayName": "ANGELICA VANEGAS GARCIA",
      "userId": "16861485320675243414"
     },
     "user_tz": 300
    },
    "id": "CUfvJf_25P07",
    "outputId": "6a702cbe-4611-436a-8269-e0d5fbc7ab23"
   },
   "outputs": [
    {
     "name": "stdout",
     "output_type": "stream",
     "text": [
      "Ingresa el número de elementos de tu conjunto 5\n",
      "Ingresa el número de elementos que deseas tomar 3\n",
      "El factorial de 5 es: 120\n",
      "El factorial de 3 es: 6\n",
      "El factorial de 2 es: 2\n",
      "El numero de combinaciones distintas es: 10\n"
     ]
    },
    {
     "data": {
      "text/plain": [
       "10"
      ]
     },
     "execution_count": 12,
     "metadata": {},
     "output_type": "execute_result"
    }
   ],
   "source": [
    "#haremos una funcion que nos devuelva el numero de combinaciones distintas que le puedo hacer a un conjunto de elementos\n",
    "\n",
    "t = int(input(\"Ingresa el número de elementos de tu conjunto \")) #ingreso dos variables\n",
    "g =int(input(\"Ingresa el número de elementos que deseas tomar \"))\n",
    "\n",
    "def binomial(n,k): #defino la funcion\n",
    "  y = factorial(n) #defino los factoriales que me pide la formula utilizando la funcion que ya programe\n",
    "  x = factorial(k)\n",
    "  a = factorial(n-k)\n",
    "  u= int(y/((x)*(a))) #utilizo los factoriales sacados anteriormente\n",
    "  print(f\"El numero de combinaciones distintas es: {u}\") #pido que me devuelva u\n",
    "  return u\n",
    "\n",
    "binomial(t,g)\n"
   ]
  }
 ],
 "metadata": {
  "colab": {
   "authorship_tag": "ABX9TyOa1skmqVJr1beEJ84JR5o1",
   "provenance": []
  },
  "kernelspec": {
   "display_name": "Python 3 (ipykernel)",
   "language": "python",
   "name": "python3"
  },
  "language_info": {
   "codemirror_mode": {
    "name": "ipython",
    "version": 3
   },
   "file_extension": ".py",
   "mimetype": "text/x-python",
   "name": "python",
   "nbconvert_exporter": "python",
   "pygments_lexer": "ipython3",
   "version": "3.10.9"
  }
 },
 "nbformat": 4,
 "nbformat_minor": 1
}
