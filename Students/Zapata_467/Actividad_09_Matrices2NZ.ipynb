{
  "cells": [
    {
      "cell_type": "markdown",
      "metadata": {
        "id": "2NeEf2LIiaeO"
      },
      "source": [
        "<a href=\"https://colab.research.google.com/github/hernansalinas/autogrades/blob/main/Actividades_clase/Actividad_09_Matrices2.ipynb\" target=\"_parent\"><img src=\"https://colab.research.google.com/assets/colab-badge.svg\" alt=\"Open In Colab\"/></a>"
      ]
    },
    {
      "cell_type": "code",
      "execution_count": 1,
      "metadata": {
        "id": "LGEtqLJlw2eb"
      },
      "outputs": [],
      "source": [
        "import numpy as np\n",
        "import pandas as pd\n",
        "import sympy as sy"
      ]
    },
    {
      "cell_type": "markdown",
      "metadata": {
        "id": "wtJNu-2mLSsV"
      },
      "source": [
        "# Arreglos de numpy"
      ]
    },
    {
      "cell_type": "code",
      "execution_count": 2,
      "metadata": {
        "colab": {
          "base_uri": "https://localhost:8080/"
        },
        "id": "97ecIcqMhbru",
        "outputId": "2b8c36af-b9fe-487d-ed3d-c8ae6708bf5b"
      },
      "outputs": [
        {
          "output_type": "execute_result",
          "data": {
            "text/plain": [
              "array([[27, 52, 54, 40, 47, 20],\n",
              "       [38, 35, 34, 12, 35, 49],\n",
              "       [33, 31, 32,  4,  0, 37],\n",
              "       [ 0, 40, 29, 51, 14,  4],\n",
              "       [51, 45, 12, 41, 36,  4],\n",
              "       [ 3, 31, 48,  5, 14, 22]])"
            ]
          },
          "metadata": {},
          "execution_count": 2
        }
      ],
      "source": [
        "# Generemos una arreglos ndimensaionales, ¿como podemos acceder a los elementos?\n",
        "X = np.random.randint(0, 55, (6,6))\n",
        "X"
      ]
    },
    {
      "cell_type": "code",
      "execution_count": 3,
      "metadata": {
        "colab": {
          "base_uri": "https://localhost:8080/"
        },
        "id": "UPZ4HVeSiAa_",
        "outputId": "5760af32-3b6f-487a-9488-41bfb870a701"
      },
      "outputs": [
        {
          "output_type": "execute_result",
          "data": {
            "text/plain": [
              "array([27, 52, 54, 40, 47, 20])"
            ]
          },
          "metadata": {},
          "execution_count": 3
        }
      ],
      "source": [
        "X[0]"
      ]
    },
    {
      "cell_type": "code",
      "execution_count": 4,
      "metadata": {
        "colab": {
          "base_uri": "https://localhost:8080/"
        },
        "id": "FfnQsOUDibOE",
        "outputId": "a7fdd130-5aee-4942-b644-7ef62d5ff25a"
      },
      "outputs": [
        {
          "output_type": "execute_result",
          "data": {
            "text/plain": [
              "array([52, 54, 40])"
            ]
          },
          "metadata": {},
          "execution_count": 4
        }
      ],
      "source": [
        "X[0][1:4]"
      ]
    },
    {
      "cell_type": "code",
      "execution_count": 5,
      "metadata": {
        "colab": {
          "base_uri": "https://localhost:8080/"
        },
        "id": "vkNXHb5rizs5",
        "outputId": "6de3986b-6c98-4bc3-c0a0-61c602f8fdf8"
      },
      "outputs": [
        {
          "output_type": "execute_result",
          "data": {
            "text/plain": [
              "array([52, 40])"
            ]
          },
          "metadata": {},
          "execution_count": 5
        }
      ],
      "source": [
        "X[0, 1:4:2]"
      ]
    },
    {
      "cell_type": "code",
      "execution_count": 6,
      "metadata": {
        "colab": {
          "base_uri": "https://localhost:8080/"
        },
        "id": "KMe75hMwletS",
        "outputId": "78330592-3252-4d77-d1d9-f0edb3ae885a"
      },
      "outputs": [
        {
          "output_type": "execute_result",
          "data": {
            "text/plain": [
              "array([[33, 32,  0],\n",
              "       [51, 12, 36]])"
            ]
          },
          "metadata": {},
          "execution_count": 6
        }
      ],
      "source": [
        "X[2::2,::2 ]"
      ]
    },
    {
      "cell_type": "code",
      "execution_count": 7,
      "metadata": {
        "id": "hC_QTDyyM0T3"
      },
      "outputs": [],
      "source": [
        "# Permutaciones:"
      ]
    },
    {
      "cell_type": "code",
      "execution_count": 8,
      "metadata": {
        "colab": {
          "base_uri": "https://localhost:8080/"
        },
        "id": "JYhVm8_TM2Tf",
        "outputId": "4f1fd676-3360-4800-def7-f54573965597"
      },
      "outputs": [
        {
          "output_type": "execute_result",
          "data": {
            "text/plain": [
              "array([[27, 52, 54, 40, 47, 20],\n",
              "       [38, 35, 34, 12, 35, 49],\n",
              "       [33, 31, 32,  4,  0, 37],\n",
              "       [ 0, 40, 29, 51, 14,  4],\n",
              "       [51, 45, 12, 41, 36,  4],\n",
              "       [ 3, 31, 48,  5, 14, 22]])"
            ]
          },
          "metadata": {},
          "execution_count": 8
        }
      ],
      "source": [
        "X"
      ]
    },
    {
      "cell_type": "code",
      "execution_count": 9,
      "metadata": {
        "id": "m-oTG0W7M4Ku"
      },
      "outputs": [],
      "source": [
        "X[[2,1]] =X[[1,2]]"
      ]
    },
    {
      "cell_type": "code",
      "execution_count": 10,
      "metadata": {
        "colab": {
          "base_uri": "https://localhost:8080/"
        },
        "id": "cc_qEzAeNdmX",
        "outputId": "b9b6780d-a748-474e-a857-b5a711077cf0"
      },
      "outputs": [
        {
          "output_type": "execute_result",
          "data": {
            "text/plain": [
              "array([[27, 52, 54, 40, 47, 20],\n",
              "       [33, 31, 32,  4,  0, 37],\n",
              "       [38, 35, 34, 12, 35, 49],\n",
              "       [ 0, 40, 29, 51, 14,  4],\n",
              "       [51, 45, 12, 41, 36,  4],\n",
              "       [ 3, 31, 48,  5, 14, 22]])"
            ]
          },
          "metadata": {},
          "execution_count": 10
        }
      ],
      "source": [
        "X"
      ]
    },
    {
      "cell_type": "code",
      "execution_count": 11,
      "metadata": {
        "id": "tpPPxUiULgge"
      },
      "outputs": [],
      "source": [
        "# Operaciones matriciales"
      ]
    },
    {
      "cell_type": "code",
      "execution_count": 12,
      "metadata": {
        "colab": {
          "base_uri": "https://localhost:8080/"
        },
        "id": "U8snX3DpLXtp",
        "outputId": "4c04883d-3afb-4de4-df76-3c766eb97ff0"
      },
      "outputs": [
        {
          "output_type": "execute_result",
          "data": {
            "text/plain": [
              "array([[-2. ,  1. ],\n",
              "       [ 1.5, -0.5]])"
            ]
          },
          "metadata": {},
          "execution_count": 12
        }
      ],
      "source": [
        "X=np.array([[1,2],[3,4]])\n",
        "B=np.array([[5,2],[1,4]])\n",
        "np.linalg.inv(X)"
      ]
    },
    {
      "cell_type": "code",
      "execution_count": 13,
      "metadata": {
        "colab": {
          "base_uri": "https://localhost:8080/"
        },
        "id": "XwCim3VlLfKU",
        "outputId": "43ccf72b-c478-4e7d-89ee-fbc9894a231c"
      },
      "outputs": [
        {
          "output_type": "execute_result",
          "data": {
            "text/plain": [
              "-2.0000000000000004"
            ]
          },
          "metadata": {},
          "execution_count": 13
        }
      ],
      "source": [
        "np.linalg.det(X)"
      ]
    },
    {
      "cell_type": "code",
      "execution_count": 14,
      "metadata": {
        "colab": {
          "base_uri": "https://localhost:8080/"
        },
        "id": "JyXfDy4TL46a",
        "outputId": "d6c53527-25b7-4b8b-c928-972ed571a2de"
      },
      "outputs": [
        {
          "output_type": "execute_result",
          "data": {
            "text/plain": [
              "(-13+0j)"
            ]
          },
          "metadata": {},
          "execution_count": 14
        }
      ],
      "source": [
        "np.dot([2j, 3j], [2j, 3j])"
      ]
    },
    {
      "cell_type": "code",
      "execution_count": 15,
      "metadata": {
        "colab": {
          "base_uri": "https://localhost:8080/"
        },
        "id": "WPC3XJLjMTvU",
        "outputId": "48fbf386-82fc-4835-c5ce-3841c126b17b"
      },
      "outputs": [
        {
          "output_type": "execute_result",
          "data": {
            "text/plain": [
              "array([[ 5,  4],\n",
              "       [ 3, 16]])"
            ]
          },
          "metadata": {},
          "execution_count": 15
        }
      ],
      "source": [
        "X*B"
      ]
    },
    {
      "cell_type": "code",
      "execution_count": 16,
      "metadata": {
        "colab": {
          "base_uri": "https://localhost:8080/"
        },
        "id": "SXr0_TeBMf2m",
        "outputId": "8d296915-0db3-45a2-90b2-0ded0727b49f"
      },
      "outputs": [
        {
          "output_type": "execute_result",
          "data": {
            "text/plain": [
              "array([[ 7, 10],\n",
              "       [19, 22]])"
            ]
          },
          "metadata": {},
          "execution_count": 16
        }
      ],
      "source": [
        "X@B"
      ]
    },
    {
      "cell_type": "code",
      "execution_count": 17,
      "metadata": {
        "colab": {
          "base_uri": "https://localhost:8080/"
        },
        "id": "Ht4V1OxIMg40",
        "outputId": "f2c975c8-4b8b-438c-f52f-b277771c1660"
      },
      "outputs": [
        {
          "output_type": "execute_result",
          "data": {
            "text/plain": [
              "array([[ 7, 10],\n",
              "       [19, 22]])"
            ]
          },
          "metadata": {},
          "execution_count": 17
        }
      ],
      "source": [
        "np.matmul(X,B)"
      ]
    },
    {
      "cell_type": "markdown",
      "metadata": {
        "id": "wOgkVu4yL-mp"
      },
      "source": [
        "# Algunos ejemplo\n",
        "\n",
        "```python\n",
        "import numpy as np\n",
        "\n",
        "# Producto de matrices\n",
        "A = np.array([[1, 2], [3, 4]])\n",
        "B = np.array([[5, 6], [7, 8]])\n",
        "producto = np.dot(A, B)\n",
        "\n",
        "# Determinante de una matriz\n",
        "C = np.array([[9, 2], [3, 4]])\n",
        "determinante = np.linalg.det(C)\n",
        "\n",
        "# Inversa de una matriz\n",
        "D = np.array([[2, 5], [1, 3]])\n",
        "inversa = np.linalg.inv(D)\n",
        "\n",
        "# Autovalores y autovectores\n",
        "E = np.array([[2, 0], [0, 3]])\n",
        "autovalores, autovectores = np.linalg.eig(E)\n",
        "\n",
        "# Resolución de sistemas de ecuaciones lineales\n",
        "F = np.array([[1, 1], [1, -1]])\n",
        "b = np.array([5, 1])\n",
        "solucion = np.linalg.solve(F, b)\n",
        "\n",
        "\n",
        "# Norma de un vector o matriz\n",
        "H = np.array([1, 2, 3])\n",
        "norma = np.linalg.norm(H)\n",
        "\n",
        "# Rango de una matriz\n",
        "I = np.array([[1, 2], [2, 4]])\n",
        "rango = np.linalg.matrix_rank(I)\n",
        "\n",
        "# Potencia de una matriz\n",
        "J = np.array([[1, 2], [3, 4]])\n",
        "potencia = np.linalg.matrix_power(J, 3)\n",
        "\n",
        "# Descomposición SVD\n",
        "G = np.array([[1, 2], [3, 4]])\n",
        "U, S, V = np.linalg.svd(G)\n",
        "\n",
        "\n",
        "```\n"
      ]
    },
    {
      "cell_type": "markdown",
      "metadata": {
        "id": "iV1bdIUxLOwM"
      },
      "source": [
        "# Matrices de numpy"
      ]
    },
    {
      "cell_type": "code",
      "execution_count": 18,
      "metadata": {
        "colab": {
          "base_uri": "https://localhost:8080/"
        },
        "id": "ZoTW7RE1mDjk",
        "outputId": "78c102b7-ea8e-4632-e371-c5cebbe475aa"
      },
      "outputs": [
        {
          "output_type": "execute_result",
          "data": {
            "text/plain": [
              "numpy.matrix"
            ]
          },
          "metadata": {},
          "execution_count": 18
        }
      ],
      "source": [
        "M = np.matrix(X)\n",
        "type(M)"
      ]
    },
    {
      "cell_type": "code",
      "execution_count": 19,
      "metadata": {
        "colab": {
          "base_uri": "https://localhost:8080/"
        },
        "id": "smYYFQDnmSHx",
        "outputId": "45e81316-ecad-4de2-ba01-fabad0e0d88b"
      },
      "outputs": [
        {
          "output_type": "execute_result",
          "data": {
            "text/plain": [
              "matrix([[ 7, 10],\n",
              "        [15, 22]])"
            ]
          },
          "metadata": {},
          "execution_count": 19
        }
      ],
      "source": [
        "M@M"
      ]
    },
    {
      "cell_type": "code",
      "execution_count": 20,
      "metadata": {
        "colab": {
          "base_uri": "https://localhost:8080/"
        },
        "id": "v0j1xF0Xnu3A",
        "outputId": "285d728c-8c12-48c3-e118-a83dc851f486"
      },
      "outputs": [
        {
          "output_type": "execute_result",
          "data": {
            "text/plain": [
              "matrix([[1, 3],\n",
              "        [2, 4]])"
            ]
          },
          "metadata": {},
          "execution_count": 20
        }
      ],
      "source": [
        "M.T"
      ]
    },
    {
      "cell_type": "code",
      "execution_count": 21,
      "metadata": {
        "colab": {
          "base_uri": "https://localhost:8080/"
        },
        "id": "jsRxH4R9mJFs",
        "outputId": "7666f723-b214-4b30-cbd4-e7df7dd14cde"
      },
      "outputs": [
        {
          "output_type": "execute_result",
          "data": {
            "text/plain": [
              "numpy.ndarray"
            ]
          },
          "metadata": {},
          "execution_count": 21
        }
      ],
      "source": [
        "type(X)"
      ]
    },
    {
      "cell_type": "code",
      "execution_count": 22,
      "metadata": {
        "colab": {
          "base_uri": "https://localhost:8080/"
        },
        "id": "I6yi4tSzmXkx",
        "outputId": "b2ddf0a0-fda1-455d-9469-5a867beeeac7"
      },
      "outputs": [
        {
          "output_type": "execute_result",
          "data": {
            "text/plain": [
              "array([[1, 3],\n",
              "       [2, 4]])"
            ]
          },
          "metadata": {},
          "execution_count": 22
        }
      ],
      "source": [
        "np.transpose(X)"
      ]
    },
    {
      "cell_type": "code",
      "execution_count": 23,
      "metadata": {
        "colab": {
          "base_uri": "https://localhost:8080/",
          "height": 141
        },
        "id": "XQviMu9KmhP5",
        "outputId": "a76d9f42-daac-425c-fb17-80d70720aa4e"
      },
      "outputs": [
        {
          "output_type": "error",
          "ename": "NameError",
          "evalue": "name 'symbols' is not defined",
          "traceback": [
            "\u001b[0;31m---------------------------------------------------------------------------\u001b[0m",
            "\u001b[0;31mNameError\u001b[0m                                 Traceback (most recent call last)",
            "\u001b[0;32m<ipython-input-23-0d3ce2562d18>\u001b[0m in \u001b[0;36m<cell line: 1>\u001b[0;34m()\u001b[0m\n\u001b[0;32m----> 1\u001b[0;31m \u001b[0mx\u001b[0m \u001b[0;34m=\u001b[0m \u001b[0msymbols\u001b[0m\u001b[0;34m(\u001b[0m\u001b[0;34m\"x\"\u001b[0m\u001b[0;34m)\u001b[0m\u001b[0;34m\u001b[0m\u001b[0;34m\u001b[0m\u001b[0m\n\u001b[0m",
            "\u001b[0;31mNameError\u001b[0m: name 'symbols' is not defined"
          ]
        }
      ],
      "source": [
        "x = symbols(\"x\")"
      ]
    },
    {
      "cell_type": "code",
      "execution_count": null,
      "metadata": {
        "id": "6NQ5_urmm8P5"
      },
      "outputs": [],
      "source": [
        "Y = np.array([[x**2,sy.sin(x)],[x,x]])\n",
        "q = Matrix(Y)\n",
        "q"
      ]
    },
    {
      "cell_type": "code",
      "execution_count": null,
      "metadata": {
        "id": "1H5elz7jnEKY"
      },
      "outputs": [],
      "source": [
        "q@q"
      ]
    },
    {
      "cell_type": "code",
      "execution_count": 23,
      "metadata": {
        "id": "owwyiJ0yN3oN"
      },
      "outputs": [],
      "source": []
    },
    {
      "cell_type": "markdown",
      "metadata": {
        "id": "k9jPDzNSjgnZ"
      },
      "source": [
        "# Actividad:\n",
        "\n",
        "1. Construir un programa que permita multiplicar dos matrices\n",
        "\n",
        "2. Cosntruir un programa que permita construir una regresion lineal simple empleando lo que sigue:\n",
        "\n",
        "3. Construir un programa que permita calcular una regresion bidimensional y hacer su representación .\n",
        "\n",
        "\n",
        "Operaciones matricial con regresión lineal.\n",
        "\n",
        "Cuando se desea hacer una regresion lineal multivariada, existen diferentes formas de realizar la regresión, una de ellas es encontrar el error cuadrático medio y miniminzar el conjunto de parámetros de la regresión emplando algún metodo de minimización, otra forma es encontrar la expresión analítica en forma matricial para enoncontrar el conjunto de parametros de la regresión. En este último caso, la regresion lineal viene dada por la siguiente expresion generalizada:\n",
        "\n",
        "\n",
        "- $\\Theta = (X^T X)^{-1} X^T y$\n",
        "\n",
        "donte $\\Theta$ es la matriz de parametros asociados a la regresión lineal, X la matriz de características y y los valos esperados, así, si tenemos una conjunto de datos en N dimensiones la recta, plano o hyperplano puede ser calculado como:\n",
        "\n",
        "$Y=\\Theta^T X$\n",
        "\n",
        "\n",
        "En el caso de dos dimensiones, tenemos lo siguiente, Supongamos que X, y Y presentan un comportamiento lineal, y vienen dados por:\n",
        "\n",
        "\n",
        "- Sea $\\vec{X}=x^1, x^2, x^3, x^4, ..., x^m$\n",
        "- Sea $\\vec{Y}=y^1, y^2, y^3, y^4, ..., y^m$\n",
        "\n",
        "Para determinar la ecuacion de la recta, hay que conocer los párametros $\\theta_0 $, $\\theta_1$, que cumplen que :   $y^{i} = \\theta_1 x^{i} + \\theta_0$ la anterior expresion puede ser escrita como:\n",
        "\n",
        "\\begin{equation}\n",
        "\\begin{bmatrix}\n",
        "y^{1}\\\\\n",
        "y^{2}\\\\\n",
        "\\vdots\\\\\n",
        "y^{m}\\\\\n",
        "\\end{bmatrix}=\n",
        "\\begin{bmatrix}\n",
        "\\theta_0 & \\theta_1 \\\\\n",
        "\\end{bmatrix}\n",
        "\\begin{bmatrix}\n",
        "1 & 1 & \\cdots & 1 \\\\\n",
        "x_1^{1} & x_1^{2} & \\cdots & x_1^{m} \\\\\n",
        "\\end{bmatrix}\n",
        "\\end{equation}\n",
        "\n",
        "\n",
        "Para determinar la matriz de theta entonces se puede aplicar la ecuación:\n",
        "\n",
        "- $\\Theta = (X^T X)^{-1} X^T y$\n",
        "\n",
        "donde:\n",
        "\\begin{equation}\n",
        "X=\n",
        "\\begin{bmatrix}\n",
        "1 & x_1^{1} \\\\\n",
        "1 & x_1^{2} \\\\\n",
        "\\vdots & \\vdots \\\\\n",
        "1 & x_1^{m}\n",
        "\\end{bmatrix}\n",
        "\\end{equation}\n",
        "\n",
        "y\n",
        "\n",
        "\n",
        "\\begin{equation}\n",
        "y=\n",
        "\\begin{bmatrix}\n",
        "y^1 \\\\\n",
        "y^2 \\\\\n",
        "\\vdots\\\\\n",
        "y^m\n",
        "\\end{bmatrix}\n",
        "\\end{equation}\n",
        "\n",
        "Su tarea será construir un programa que realice la regresión lineal para los siguientes puntos:\n",
        "```python\n",
        "N = 10\n",
        "x1 = np.linspace(0, 10, N)\n",
        "noise=2*np.random.random(N)-1\n",
        "y = 0.9*x1 + noise\n",
        "```\n",
        "\n",
        "\n",
        "\n",
        "Generalice para el siguiente problema bidimensional:\n",
        "\n",
        "\n",
        "```python\n",
        "N = 10\n",
        "x1 = np.linspace(-1, 1, N)\n",
        "x2 = np.linspace(-2, 2, N)\n",
        "noise1=2*np.random.random(N)-1\n",
        "noise2=2*np.random.random(N)-1\n",
        "y = 2*(x1+noise1) - 3*(x2+noise2) + 0.0 #+ 4*np.random.random(100)\n",
        "\n",
        "N = 10\n",
        "X1, X2 = np.meshgrid(x1,x2)\n",
        "Y = 2*X1 - 3*X2 + 0.0\n",
        "fig, ax = plt.subplots(subplot_kw={\"projection\": \"3d\"})\n",
        "surf = ax.plot_surface(X1, X2, Y)\n",
        "#scatter = ax.scatter(x1, x2, y,\"-\")\n",
        "```\n",
        "\n",
        "\n",
        "\n",
        "4. Construir un programa que permita realizar eliminacion de Gauss- Jordan de una matriz\n",
        "\n"
      ]
    },
    {
      "cell_type": "code",
      "source": [],
      "metadata": {
        "id": "qtpDsqimidWy"
      },
      "execution_count": 23,
      "outputs": []
    },
    {
      "cell_type": "markdown",
      "source": [
        "1. Construir un programa que permita multiplicar dos matrices\n"
      ],
      "metadata": {
        "id": "b-bd31vOX4TJ"
      }
    },
    {
      "cell_type": "code",
      "source": [
        "A=np.random.randint(0,10, (3,3))\n",
        "B= np.random.randint(0,10, (3,3))\n",
        "print(A)\n",
        "print(B)"
      ],
      "metadata": {
        "colab": {
          "base_uri": "https://localhost:8080/"
        },
        "id": "1y-49PD_abTl",
        "outputId": "4fc070a7-f502-4a4a-ba7d-e9f65a9b035c"
      },
      "execution_count": 24,
      "outputs": [
        {
          "output_type": "stream",
          "name": "stdout",
          "text": [
            "[[6 7 9]\n",
            " [1 3 7]\n",
            " [7 2 4]]\n",
            "[[9 9 2]\n",
            " [9 9 0]\n",
            " [9 0 6]]\n"
          ]
        }
      ]
    },
    {
      "cell_type": "code",
      "source": [
        "def mult(A,B):\n",
        "  n,m1= np.shape(A)\n",
        "  m2,p= np.shape(B)\n",
        "  if(m1==m2):\n",
        "    M= np.zeros((n,p))\n",
        "    for i in range(m1):\n",
        "      for j in range(m2):\n",
        "        for k in range(0,3):\n",
        "          M[i,j]+= A[i,k]*B[k,j]\n",
        "    print(M)\n",
        "mult(A,B)"
      ],
      "metadata": {
        "id": "1wsENduzYFQB",
        "colab": {
          "base_uri": "https://localhost:8080/"
        },
        "outputId": "8907b0fb-4ded-4654-aa21-1f287f492fc2"
      },
      "execution_count": 25,
      "outputs": [
        {
          "output_type": "stream",
          "name": "stdout",
          "text": [
            "[[198. 117.  66.]\n",
            " [ 99.  36.  44.]\n",
            " [117.  81.  38.]]\n"
          ]
        }
      ]
    },
    {
      "cell_type": "code",
      "source": [],
      "metadata": {
        "id": "Cd5GRy8vh8mp"
      },
      "execution_count": 25,
      "outputs": []
    },
    {
      "cell_type": "code",
      "source": [
        "import matplotlib.pyplot as plt\n",
        "from mpl_toolkits.mplot3d import Axes3D\n",
        "import numpy as np\n",
        "from numpy import linalg as lig\n"
      ],
      "metadata": {
        "id": "xYbghKjQU8LB"
      },
      "execution_count": 26,
      "outputs": []
    },
    {
      "cell_type": "code",
      "execution_count": 27,
      "metadata": {
        "id": "kOkh1nsj0jVr"
      },
      "outputs": [],
      "source": [
        "N_0 = 10\n",
        "x1 = np.linspace(0, 10, N_0)\n",
        "noise=2*np.random.random(N_0)-1\n",
        "y1 = 0.9*x1 + noise\n",
        "y=np.transpose(y1)\n",
        "X=np.matrix([[1,1,1,1,1,1,1,1,1,1],\n",
        "             x1])\n",
        "X=np.transpose(X)\n",
        "XT=np.transpose(X)\n",
        "XTX=np.dot(XT,X)\n",
        "XTXinv=lig.inv(XTX)\n",
        "FF=np.dot(XT,y)\n",
        "FF=FF.T\n",
        "\n",
        "THETA=np.dot(XTXinv,FF)\n",
        "THETA\n",
        "WW=np.dot(X,THETA)\n"
      ]
    },
    {
      "cell_type": "code",
      "source": [
        "plt.scatter(x1, y, label='dots', color='blue', marker='o')\n",
        "plt.plot(x1,WW)"
      ],
      "metadata": {
        "colab": {
          "base_uri": "https://localhost:8080/",
          "height": 447
        },
        "id": "QWTdDp46Us1b",
        "outputId": "dc4af784-cad4-4587-ed3e-94ba7e9ec4f0"
      },
      "execution_count": 28,
      "outputs": [
        {
          "output_type": "execute_result",
          "data": {
            "text/plain": [
              "[<matplotlib.lines.Line2D at 0x786413c36f20>]"
            ]
          },
          "metadata": {},
          "execution_count": 28
        },
        {
          "output_type": "display_data",
          "data": {
            "text/plain": [
              "<Figure size 640x480 with 1 Axes>"
            ],
            "image/png": "[encoded data removed]"
          },
          "metadata": {}
        }
      ]
    },
    {
      "cell_type": "code",
      "source": [
        "N = 10\n",
        "x_1 = np.linspace(-1, 1, N)\n",
        "x_2 = np.linspace(-2,5, N)\n",
        "noise1=2*np.random.random(N)-1\n",
        "noise2=2*np.random.random(N)-1\n",
        "y = 2*(x_1+noise1) - 3*(x_2+noise2) + 0.0 #+ 4*np.random.random(100)\n",
        "X1, X2 = np.meshgrid(x_1,x_2)\n",
        "Y = 2*X1 - 3*X2 + 0.0\n",
        "xs = x_1\n",
        "ys =x_2\n",
        "zs = 2*(x_1+noise1) - 3*(x_2+noise2)\n",
        "# plot raw data\n",
        "plt.figure()\n",
        "ax = plt.subplot(111, projection='3d')\n",
        "ax.scatter(xs, ys, zs, color='b')\n",
        "##Fit\n",
        "b = np.matrix(y).T\n",
        "A = np.matrix((np.ones(N), x_1, x_2)).T\n",
        "fit = (A.T * A).I * A.T * b\n",
        "errors = b - A * fit\n",
        "residual = np.linalg.norm(errors)\n",
        "# plot plane\n",
        "xlim = ax.get_xlim()\n",
        "ylim = ax.get_ylim()\n",
        "X,Y = np.meshgrid(np.arange(xlim[0], xlim[1]),\n",
        "                  np.arange(ylim[0], ylim[1]))\n",
        "Z = np.zeros(X.shape)\n",
        "for r in range(X.shape[0]):\n",
        "    for c in range(X.shape[1]):\n",
        "        Z[r,c] = fit[0] * X[r,c] + fit[1] * Y[r,c] + fit[2]\n",
        "ax.plot_wireframe(X,Y,Z, color='k')\n",
        "\n",
        "ax.set_xlabel('x')\n",
        "ax.set_ylabel('y')\n",
        "ax.set_zlabel('z')\n",
        "plt.show()"
      ],
      "metadata": {
        "colab": {
          "base_uri": "https://localhost:8080/",
          "height": 470
        },
        "id": "fXEGB2BobZqi",
        "outputId": "37d8a3ac-d4c4-4c0a-8935-e8f44f3183e1"
      },
      "execution_count": 29,
      "outputs": [
        {
          "output_type": "stream",
          "name": "stderr",
          "text": [
            "<ipython-input-29-9048376b2ad5>:30: DeprecationWarning: Conversion of an array with ndim > 0 to a scalar is deprecated, and will error in future. Ensure you extract a single element from your array before performing this operation. (Deprecated NumPy 1.25.)\n",
            "  Z[r,c] = fit[0] * X[r,c] + fit[1] * Y[r,c] + fit[2]\n"
          ]
        },
        {
          "output_type": "display_data",
          "data": {
            "text/plain": [
              "<Figure size 640x480 with 1 Axes>"
            ],
            "image/png": "[encoded data removed]"
          },
          "metadata": {}
        }
      ]
    },
    {
      "cell_type": "markdown",
      "source": [
        "\n",
        "Eliminacion guassiana"
      ],
      "metadata": {
        "id": "u56PqaTFEODH"
      }
    },
    {
      "cell_type": "code",
      "source": [
        "import numpy as np"
      ],
      "metadata": {
        "id": "Gwu2uBKhENDp"
      },
      "execution_count": 30,
      "outputs": []
    },
    {
      "cell_type": "code",
      "source": [
        "s=np.random.random((3,3))\n",
        "M=np.matrix(s)\n",
        "\n",
        "M"
      ],
      "metadata": {
        "colab": {
          "base_uri": "https://localhost:8080/"
        },
        "id": "1kHR3UbfIGZk",
        "outputId": "1d6a862a-c400-4c47-c13c-f570f16f5b3a"
      },
      "execution_count": 40,
      "outputs": [
        {
          "output_type": "execute_result",
          "data": {
            "text/plain": [
              "matrix([[0.56709626, 0.14428319, 0.80844529],\n",
              "        [0.5936236 , 0.07426522, 0.20768989],\n",
              "        [0.05659236, 0.07655663, 0.3367222 ]])"
            ]
          },
          "metadata": {},
          "execution_count": 40
        }
      ]
    },
    {
      "cell_type": "code",
      "source": [
        "\n",
        "def scalar_fila(M,i,a):\n",
        "  B=M.copy()\n",
        "  B[i]=B[i]*a\n",
        "  return B\n",
        "def intercambio_filas(M,i,j):\n",
        "  B=M.copy()\n",
        "  B[[i,j]]=B[[j,i]]\n",
        "  return B\n",
        "def fila_sum(M,i,j,a):\n",
        "  B=M.copy()\n",
        "  B[j]=B[i]*a+B[j]\n",
        "\n",
        "  return B\n",
        "M"
      ],
      "metadata": {
        "colab": {
          "base_uri": "https://localhost:8080/"
        },
        "id": "5AUCYikMI4UZ",
        "outputId": "bf473647-f223-4c5d-c16c-23ffa10ce04d"
      },
      "execution_count": 51,
      "outputs": [
        {
          "output_type": "execute_result",
          "data": {
            "text/plain": [
              "matrix([[0.56709626, 0.14428319, 0.80844529],\n",
              "        [0.5936236 , 0.07426522, 0.20768989],\n",
              "        [0.05659236, 0.07655663, 0.3367222 ]])"
            ]
          },
          "metadata": {},
          "execution_count": 51
        }
      ]
    },
    {
      "cell_type": "code",
      "source": [
        "def Gauss_jor(M):\n",
        "  eps=1e-6\n",
        "  D=M.copy()\n",
        "  D=scalar_fila(D,0,(1/M[0,0])) ###HAciendo pibote\n",
        "  D=fila_sum(D,0,1,-D[1,0])\n",
        "  D=fila_sum(D,0,2,-D[2,0])\n",
        "  D=scalar_fila(D,1,1/D[1,1]) ###HAciendo pibote\n",
        "  D=fila_sum(D,1,2,-D[2,1])\n",
        "  D=scalar_fila(D,2,(1/D[2,2]))  ###HAciendo pibote\n",
        "  for i in range(3):\n",
        "    for j in range(3):\n",
        "      if abs(D[i,j])<eps:\n",
        "        D[i,j]=D[i,j]*0\n",
        "\n",
        "  return D\n",
        "Gauss_jor(M)"
      ],
      "metadata": {
        "colab": {
          "base_uri": "https://localhost:8080/"
        },
        "id": "ElHdtehEKinA",
        "outputId": "db610053-4a74-44fd-9f80-7910367365dd"
      },
      "execution_count": 65,
      "outputs": [
        {
          "output_type": "execute_result",
          "data": {
            "text/plain": [
              "matrix([[ 1.        ,  0.25442451,  1.42558742],\n",
              "        [-0.        ,  1.        ,  8.31830043],\n",
              "        [-0.        ,  0.        ,  1.        ]])"
            ]
          },
          "metadata": {},
          "execution_count": 65
        }
      ]
    },
    {
      "cell_type": "code",
      "source": [],
      "metadata": {
        "id": "rKNj-VeljVRN"
      },
      "execution_count": 42,
      "outputs": []
    }
  ],
  "metadata": {
    "colab": {
      "provenance": []
    },
    "kernelspec": {
      "display_name": "Python 3",
      "name": "python3"
    },
    "language_info": {
      "name": "python"
    }
  },
  "nbformat": 4,
  "nbformat_minor": 0
}