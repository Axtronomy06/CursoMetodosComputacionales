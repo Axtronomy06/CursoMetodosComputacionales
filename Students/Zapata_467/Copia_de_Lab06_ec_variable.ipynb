{
  "cells": [
    {
      "cell_type": "markdown",
      "id": "39502ab7",
      "metadata": {
        "id": "39502ab7"
      },
      "source": [
        "<a href=\"https://colab.research.google.com/github/hernansalinas/autogrades/blob/main/Laboratorios_Taller/Lab06_ec_variable.ipynb\" target=\"_parent\"><img src=\"https://colab.research.google.com/assets/colab-badge.svg\" alt=\"Open In Colab\"/></a>"
      ]
    },
    {
      "cell_type": "markdown",
      "id": "7efe0541",
      "metadata": {
        "id": "7efe0541"
      },
      "source": [
        "## Ecuaciones de una variable:\n",
        "\n",
        "Para los siguiente problemas:\n",
        "\n",
        "\n",
        "1.0 ¿Para que ángulo el area del segmento circular es igual a un cuarto del area de la circunferencia?\n",
        "\n",
        "- Muestre que la expresión que permite resolver el problema:\n",
        "\n",
        "\n",
        "\\begin{equation}\n",
        "\\theta - \\sin \\theta = \\frac{\\pi}{2}\n",
        "\\end{equation}\n",
        "\n",
        "\n",
        "- ¿Construya una grafica para theta?,  Alrededor de que punto esta solución.(Para este punto se recomienda emplear un data frame de pandas )\n",
        "\n",
        "- Emplee el metodo de biseccion, punto fijo,  newton y secante  para comprobar la solución intuida del apartado anterior.\n",
        "\n",
        "\n",
        "2.0 An object falling vertically through the air is subjected to viscous resistance as well as to the force\n",
        "of gravity. Assume that an object with mass m is dropped from a height s0 and that the height of the\n",
        "object after t seconds is\n",
        "\n",
        "\\begin{equation}\n",
        "s(t)=s_0 - \\frac{mg}{k}t+\\frac{m^2g}{k}t(1-e^{-kt/m})\n",
        "\\end{equation}\n",
        "\n",
        "where $g = 32.17 ft/s2$ and $k$ represents the coefficient of air resistance in $lbs/ft$. Suppose $s0 = 300 ft$,\n",
        "$m = 0.25$ lb, and $k = 0.1$ lbs/ft. Find, to within $0.01$ s, the time it takes this quarter-pounder to hit the\n",
        "ground\n",
        "\n",
        "- Emplee el metodo de biseccion, punto fijo,  newton y secante  para comprobrar la solución.\n",
        "\n",
        "\n",
        "\n",
        "3.0 En la teoria de campo medio, La magnetización como función de la temperatura de un material magnético  puede ser calculada como:\n",
        "\n",
        "\\begin{equation}\n",
        "m(T) = \\tanh\\left( \\frac{m(T)}{T} \\right)\n",
        "\\end{equation}\n",
        "\n",
        "donde m y T son la magnetizacion y temperatura reducida respectivamente\n",
        "\n",
        "Para T = 0.5, determine:\n",
        "\n",
        "a. La magnetización reducida empleando el metodo de la secante(Muestre su resultado con 4 cifras)\n",
        "\n",
        "b. Valide su respuestado con el metodo de punto fijo.\n",
        "(Muestre su resultado con 4 cifras)\n",
        "\n",
        "d. Defina T = np.linspace(0.1,0.99,100), y emple el metodo de la secante para construir un gráfico de magnetización reducida como función de la temperatura para los  100 valores  de T.\n",
        "\n",
        "\n",
        "\n",
        "5. Construir un fractal empleando el metodo de Newton-Raphson,\n",
        "(Reproducir código y entender)\n",
        "\\begin{equation}\n",
        "z_{n+1} = z_n -a \\frac{f(z)}{f'(z)}\n",
        "\\end{equation}\n",
        "\n",
        "\n",
        "\n",
        "\\begin{equation}\n",
        "f'(z) = \\frac{ f(z+h)+f(z) }{h}\n",
        "\\end{equation}\n",
        "\n",
        "\n",
        "Replicar el codigo y entender.\n",
        "\n",
        "\n",
        "```\n",
        "\n",
        "import numpy as np\n",
        "import matplotlib.pylab as plt\n",
        "from PIL import Image\n",
        "\n",
        "Npx_X = 80 #Numero de pixeles en x\n",
        "Npx_Y = 80 #Numero de pixeles en y\n",
        "\n",
        "image = Image.new(\"RGB\", (Npx_X, Npx_Y)) #Creacion de la imagen inicial\n",
        "\n",
        "npx = np.arange(0, Npx_X)\n",
        "npy = np.arange(0, Npx_Y)\n",
        "\n",
        "xmin = -1\n",
        "xmax = 1\n",
        "ymin = -1\n",
        "ymax = 1\n",
        "#Transformación al plano complejo en un rectangulo (xmin, xmax), (ymin, ymax)\n",
        "zx = npx * (xmax - xmin) / (Npx_X - 1)   + xmin\n",
        "zy = npy * (ymax-ymin) / (Npx_Y - 1) + ymin\n",
        "\n",
        "#Definicion  la funcion y las derivada\n",
        "def f(z):\n",
        "  return z**3 - 1\n",
        "\n",
        "def fp(z):\n",
        "  return 3*z**2\n",
        "\n",
        "h = 1E-4\n",
        "def fpn(z, h):\n",
        "  return (f(z+h)-f(z))/h\n",
        "  \n",
        "\n",
        "a = 0.2\n",
        "Niteraciones = 120\n",
        "eps = 1E-8\n",
        "\n",
        "x = - 1\n",
        "for zx_ in zx:\n",
        "  x = x + 1\n",
        "  y = -1\n",
        "  for zy_ in zy:\n",
        "      y = y + 1\n",
        "      Z_0 = complex(zx_, zy_)\n",
        "    \n",
        "      for i in range(0, Niteraciones):\n",
        "        Z = Z_0 - a * f(Z_0)/fp(Z_0)\n",
        "\n",
        "        if( abs(Z-Z_0)<= eps):\n",
        "          break\n",
        "          \n",
        "        Z_0 = Z\n",
        "      #print(i)\n",
        "      #print(i)\n",
        "      r, g, b = i % 4 *64 , i % 8 *16, i% 16* 16\n",
        "      \n",
        "      image.putpixel((x,y), (r,g,b) )\n",
        "\n",
        "\n",
        "plt.imshow(image)\n",
        "#plt.xlim(400, 600)\n",
        "#plt.ylim(400, 523)\n",
        "```\n"
      ]
    },
    {
      "cell_type": "code",
      "source": [
        "import matplotlib.pyplot as plt\n",
        "import numpy as np\n",
        "import pandas as pd\n",
        "from scipy import optimize as op"
      ],
      "metadata": {
        "id": "DVSaPJnmjVQU"
      },
      "id": "DVSaPJnmjVQU",
      "execution_count": 99,
      "outputs": []
    },
    {
      "cell_type": "code",
      "source": [
        "theta = lambda x: x - np.sin(x) - np.pi/2"
      ],
      "metadata": {
        "id": "JTc7X_kdjhLW"
      },
      "id": "JTc7X_kdjhLW",
      "execution_count": 100,
      "outputs": []
    },
    {
      "cell_type": "code",
      "source": [
        "x= np.arange(0,2*np.pi, 0.01)\n",
        "y = theta(x)"
      ],
      "metadata": {
        "id": "DvozwC_Mj8Wj"
      },
      "id": "DvozwC_Mj8Wj",
      "execution_count": 101,
      "outputs": []
    },
    {
      "cell_type": "code",
      "source": [
        "d = {'Theta': x, 'Funcion': y}\n",
        "df = pd.DataFrame(d)"
      ],
      "metadata": {
        "id": "6koB1XO5kae8"
      },
      "id": "6koB1XO5kae8",
      "execution_count": 102,
      "outputs": []
    },
    {
      "cell_type": "code",
      "source": [
        "df.plot.line(x= 'Theta', y= 'Funcion')\n",
        "\n",
        "plt.show()"
      ],
      "metadata": {
        "colab": {
          "base_uri": "https://localhost:8080/",
          "height": 453
        },
        "id": "fALGxza7klIs",
        "outputId": "f8ba4450-d9d7-4fcb-98f4-918690d71e3c"
      },
      "id": "fALGxza7klIs",
      "execution_count": 104,
      "outputs": [
        {
          "output_type": "display_data",
          "data": {
            "text/plain": [
              "<Figure size 640x480 with 1 Axes>"
            ],
            "image/png": "[encoded data removed]"
          },
          "metadata": {}
        }
      ]
    },
    {
      "cell_type": "code",
      "source": [
        "df_filtro = df[df.Funcion.between(-0.1,0.1)] #creando nuevo dataframe en base a la columna funcion\n",
        "df_filtro.plot.line( x= 'Theta', y= 'Funcion')\n",
        "#df_filtro"
      ],
      "metadata": {
        "colab": {
          "base_uri": "https://localhost:8080/",
          "height": 466
        },
        "id": "B7VrQwbBlQUu",
        "outputId": "df514b49-8fbf-4e1c-d992-b8331d80b486"
      },
      "id": "B7VrQwbBlQUu",
      "execution_count": 105,
      "outputs": [
        {
          "output_type": "execute_result",
          "data": {
            "text/plain": [
              "<Axes: xlabel='Theta'>"
            ]
          },
          "metadata": {},
          "execution_count": 105
        },
        {
          "output_type": "display_data",
          "data": {
            "text/plain": [
              "<Figure size 640x480 with 1 Axes>"
            ],
            "image/png": "[encoded data removed]"
          },
          "metadata": {}
        }
      ]
    },
    {
      "cell_type": "code",
      "source": [],
      "metadata": {
        "id": "ypTu6-wQn2_j"
      },
      "id": "ypTu6-wQn2_j",
      "execution_count": 105,
      "outputs": []
    },
    {
      "cell_type": "code",
      "source": [
        "#metodo de biseccion\n",
        "op.bisect?"
      ],
      "metadata": {
        "id": "xxv3ColamueG"
      },
      "id": "xxv3ColamueG",
      "execution_count": 163,
      "outputs": []
    },
    {
      "cell_type": "code",
      "source": [
        "raiz= op.bisect(theta, 2.30,2.31)\n",
        "print('la raiz usando el metod de la biseccion sera', raiz)"
      ],
      "metadata": {
        "colab": {
          "base_uri": "https://localhost:8080/"
        },
        "id": "Wjll8D6BnFVF",
        "outputId": "ae7386e3-4cfa-42ad-c8cd-d82f7c4b0736"
      },
      "id": "Wjll8D6BnFVF",
      "execution_count": 109,
      "outputs": [
        {
          "output_type": "stream",
          "name": "stdout",
          "text": [
            "la raiz usando el metod de la biseccion sera 2.3098814600089104\n"
          ]
        }
      ]
    },
    {
      "cell_type": "code",
      "source": [
        "\n",
        "#metodo de newton rhapson, debemos emplear la primera derivada\n",
        "dtheta = lambda x: 1 - np.cos(x)"
      ],
      "metadata": {
        "id": "Zast_XEKnjUC"
      },
      "id": "Zast_XEKnjUC",
      "execution_count": 110,
      "outputs": []
    },
    {
      "cell_type": "code",
      "source": [
        "raiz_newton = op.newton(theta, 2.30, dtheta)\n",
        "print('la raiz empleando el metodo de newton rhapson sera: ', raiz_newton)"
      ],
      "metadata": {
        "colab": {
          "base_uri": "https://localhost:8080/"
        },
        "id": "NZH-H-VHoJIk",
        "outputId": "50b543be-5fd7-45b5-dc6b-c2e34d327b01"
      },
      "id": "NZH-H-VHoJIk",
      "execution_count": 113,
      "outputs": [
        {
          "output_type": "stream",
          "name": "stdout",
          "text": [
            "la raiz empleando el metodo de newton rhapson sera:  2.309881460010057\n"
          ]
        }
      ]
    },
    {
      "cell_type": "code",
      "source": [
        "# metodo de punto fijo\n",
        "op.fixed_point?"
      ],
      "metadata": {
        "id": "DZEnMgneo5W_"
      },
      "id": "DZEnMgneo5W_",
      "execution_count": 129,
      "outputs": []
    },
    {
      "cell_type": "code",
      "source": [
        "fixed_theta= lambda x: x- theta(x)"
      ],
      "metadata": {
        "id": "uuADzvAOpfkS"
      },
      "id": "uuADzvAOpfkS",
      "execution_count": 115,
      "outputs": []
    },
    {
      "cell_type": "code",
      "source": [
        "raiz_fijo= op.fixed_point(fixed_theta, 2.30)\n",
        "print('la raiz por el metodo de punto fijo será', raiz_fijo)"
      ],
      "metadata": {
        "colab": {
          "base_uri": "https://localhost:8080/"
        },
        "id": "3ZU7iqMOpsvo",
        "outputId": "113fdb02-8aa4-48d1-cf30-2095e439a469"
      },
      "id": "3ZU7iqMOpsvo",
      "execution_count": 117,
      "outputs": [
        {
          "output_type": "stream",
          "name": "stdout",
          "text": [
            "la raiz por el metodo de punto fijo será 2.3098814600100575\n"
          ]
        }
      ]
    },
    {
      "cell_type": "code",
      "source": [
        "#metodo de secante\n",
        "raiz_secante = op.newton(theta, 2.30)\n",
        "print('la raiz empleando el metodo de newton rhapson sera: ', raiz_secante)"
      ],
      "metadata": {
        "colab": {
          "base_uri": "https://localhost:8080/"
        },
        "id": "EoNhbuS2p7c7",
        "outputId": "cfe4f266-8a17-4496-aac0-2dd4b2a70753"
      },
      "id": "EoNhbuS2p7c7",
      "execution_count": 119,
      "outputs": [
        {
          "output_type": "stream",
          "name": "stdout",
          "text": [
            "la raiz empleando el metodo de newton rhapson sera:  2.3098814600100575\n"
          ]
        }
      ]
    },
    {
      "cell_type": "markdown",
      "source": [
        "2.0 An object falling vertically through the air is subjected to viscous resistance as well as to the force\n",
        "of gravity. Assume that an object with mass m is dropped from a height s0 and that the height of the\n",
        "object after t seconds is\n",
        "\n",
        "\\begin{equation}\n",
        "s(t)=s_0 - \\frac{mg}{k}t+\\frac{m^2g}{k}t(1-e^{-kt/m})\n",
        "\\end{equation}\n",
        "\n",
        "where $g = 32.17 ft/s2$ and $k$ represents the coefficient of air resistance in $lbs/ft$. Suppose $s0 = 300 ft$,\n",
        "$m = 0.25$ lb, and $k = 0.1$ lbs/ft. Find, to within $0.01$ s, the time it takes this quarter-pounder to hit the\n",
        "ground\n",
        "\n",
        "- Emplee el metodo de biseccion, punto fijo,  newton y secante  para comprobrar la solución."
      ],
      "metadata": {
        "id": "ErWvAHVqtOU2"
      },
      "id": "ErWvAHVqtOU2"
    },
    {
      "cell_type": "code",
      "source": [
        "\n",
        "def alt(t,s0,m,k,g):\n",
        "\n",
        "  h1=m*g*t/k\n",
        "  h2=(m**2)*g*t/k\n",
        "  h3=1-np.exp(-k*t/m)\n",
        "  return s0-h1+(h2*h3)\n",
        "def altD(t,s0,m,k,g):\n",
        "  d1=g*m*t*np.exp(-k*t/m)\n",
        "  d2= g*m/k\n",
        "  d3=(g*(m**2)*(1-np.exp(-k*t/m)))/k\n",
        "  return d1-d2+d3\n",
        "\n"
      ],
      "metadata": {
        "id": "BVAh_zvmp5NY"
      },
      "id": "BVAh_zvmp5NY",
      "execution_count": 161,
      "outputs": []
    },
    {
      "cell_type": "code",
      "source": [
        "#Por medio del metodo de secante\n",
        "Cero1= op.newton(alt,0.01, args=(300,0.25,0.1,32.17))\n",
        "print(Cero1)\n",
        "#Por medio del metodo de punto fijo\n",
        "Cero2= op.fixed_point(alt,0.01, args=(300,0.25,0.1,32.17))\n",
        "print(Cero2)\n",
        "#Por medio del método de newton\n",
        "Cero3= op.newton(alt,0.01, altD,args=(300,0.25,0.1,32.17))\n",
        "print(Cero3)\n",
        "#Por medio del método de bisección\n",
        "Cero4= op.bisect(alt, -5,5,args=(300,0.25,0.1,32.17))\n",
        "print(Cero4)\n"
      ],
      "metadata": {
        "colab": {
          "base_uri": "https://localhost:8080/"
        },
        "id": "C_PDQcraLljA",
        "outputId": "205c27fd-3214-4daf-d81e-eb15d3b6674d"
      },
      "id": "C_PDQcraLljA",
      "execution_count": 170,
      "outputs": [
        {
          "output_type": "stream",
          "name": "stdout",
          "text": [
            "4.73613913760349\n",
            "4.65534478295253\n",
            "4.736139137603489\n",
            "4.736139137604596\n"
          ]
        }
      ]
    },
    {
      "cell_type": "markdown",
      "source": [
        "Podemos concluir que el tiempo que demora la moneda en tocar el suelo es al rededor  4.736 segundos"
      ],
      "metadata": {
        "id": "iKULBIXM6fTR"
      },
      "id": "iKULBIXM6fTR"
    },
    {
      "cell_type": "code",
      "source": [
        "import sympy as sp\n",
        "t=sp.Symbol(\"t\")\n",
        "g=sp.Symbol(\"g\")\n",
        "k=sp.Symbol(\"k\")\n",
        "m=sp.Symbol(\"m\")\n",
        "s0=sp.Symbol(\"s0\")\n",
        "def alt(t):\n",
        "  h1=m*g*t/k\n",
        "  h2=(m**2)*g*t/k\n",
        "  h3=1-sp.exp(-k*t/m)\n",
        "  return s0-h1+(h2*h3)\n",
        "altD=sp.diff(alt(t),t)\n",
        "altD"
      ],
      "metadata": {
        "colab": {
          "base_uri": "https://localhost:8080/",
          "height": 66
        },
        "id": "tnJ2gNhAtfrR",
        "outputId": "b8407a3f-9d57-4043-849c-6768b7905623"
      },
      "id": "tnJ2gNhAtfrR",
      "execution_count": 153,
      "outputs": [
        {
          "output_type": "execute_result",
          "data": {
            "text/plain": [
              "g*m*t*exp(-k*t/m) + g*m**2*(1 - exp(-k*t/m))/k - g*m/k"
            ],
            "text/latex": "$\\displaystyle g m t e^{- \\frac{k t}{m}} + \\frac{g m^{2} \\cdot \\left(1 - e^{- \\frac{k t}{m}}\\right)}{k} - \\frac{g m}{k}$"
          },
          "metadata": {},
          "execution_count": 153
        }
      ]
    },
    {
      "cell_type": "markdown",
      "source": [
        "3.0 En la teoria de campo medio, La magnetización como función de la temperatura de un material magnético  puede ser calculada como:\n",
        "\n",
        "\\begin{equation}\n",
        "m(T) = \\tanh\\left( \\frac{m(T)}{T} \\right)\n",
        "\\end{equation}\n",
        "\n",
        "donde m y T son la magnetizacion y temperatura reducida respectivamente\n",
        "\n",
        "Para T = 0.5, determine:\n",
        "\n",
        "a. La magnetización reducida empleando el metodo de la secante(Muestre su resultado con 4 cifras)\n",
        "\n",
        "b. Valide su respuestado con el metodo de punto fijo.\n",
        "(Muestre su resultado con 4 cifras)\n",
        "\n",
        "d. Defina T = np.linspace(0.1,0.99,100), y emple el metodo de la secante para construir un gráfico de magnetización reducida como función de la temperatura para los  100 valores  de T."
      ],
      "metadata": {
        "id": "DfIOJOxBWCPi"
      },
      "id": "DfIOJOxBWCPi"
    },
    {
      "cell_type": "code",
      "source": [
        "#punto a\n",
        "def magnet(Y):\n",
        "  return   np.tanh(Y/0.5)-Y\n",
        "\n",
        "magnet1=  op.newton(magnet,10)\n",
        "print(f\"La magnetización es {magnet1:.4f}\")\n",
        "#punto b\n",
        "\n",
        "\n",
        "def magnet_fixed(Y):\n",
        "  return   Y-magnet(Y)\n",
        "\n",
        "magnet2= op.fixed_point(magnet_fixed,0.9)\n",
        "print(f\"La magnetización es {magnet2:.4f}\")\n",
        "\n",
        "\n"
      ],
      "metadata": {
        "colab": {
          "base_uri": "https://localhost:8080/"
        },
        "id": "wzKY3loyDX-2",
        "outputId": "bb1a7f03-e6d0-460d-b229-efa04f8fedea"
      },
      "id": "wzKY3loyDX-2",
      "execution_count": 171,
      "outputs": [
        {
          "output_type": "stream",
          "name": "stdout",
          "text": [
            "La magnetización es 0.9575\n",
            "La magnetización es 0.9575\n"
          ]
        }
      ]
    },
    {
      "cell_type": "code",
      "source": [
        "#punto d\n",
        "T= np.linspace(0.1,0.99,100)\n",
        "def magnet_ts(Y,T):\n",
        "    return   np.tanh(Y/T)-Y\n",
        "Zs=[]\n",
        "\n",
        "for i in T:\n",
        "   Zs.append(op.newton(magnet_ts,100, args=(i,)))\n",
        "plt.plot(T,Zs, \".\",label=\"$m(t)$\")\n",
        "plt.xlabel( r'Temperatura $0.1\\leq T \\leq 0.99$ ')\n",
        "plt.ylabel(\"Mgnetización reduciada en función de la temp\")\n",
        "plt.legend();\n",
        ""
      ],
      "metadata": {
        "colab": {
          "base_uri": "https://localhost:8080/",
          "height": 452
        },
        "id": "kHRWqpNdMIT2",
        "outputId": "34bb6590-b54a-4608-b383-3fdda405835b"
      },
      "id": "kHRWqpNdMIT2",
      "execution_count": 172,
      "outputs": [
        {
          "output_type": "display_data",
          "data": {
            "text/plain": [
              "<Figure size 640x480 with 1 Axes>"
            ],
            "image/png": "[encoded data removed]"
          },
          "metadata": {}
        }
      ]
    },
    {
      "cell_type": "code",
      "source": [
        "\n",
        "import numpy as np\n",
        "import matplotlib.pylab as plt\n",
        "from PIL import Image\n",
        "\n",
        "Npx_X = 80 #Numero de pixeles en x\n",
        "Npx_Y = 80 #Numero de pixeles en y\n",
        "\n",
        "image = Image.new(\"RGB\", (Npx_X, Npx_Y)) #Creacion de la imagen inicial\n",
        "image"
      ],
      "metadata": {
        "id": "Fq18LQvxWU8p",
        "colab": {
          "base_uri": "https://localhost:8080/",
          "height": 97
        },
        "outputId": "9cd31a21-3ab7-47f6-b89d-bbc638bae870"
      },
      "id": "Fq18LQvxWU8p",
      "execution_count": 173,
      "outputs": [
        {
          "output_type": "execute_result",
          "data": {
            "text/plain": [
              "<PIL.Image.Image image mode=RGB size=80x80>"
            ],
            "image/png": "[encoded data removed]"
          },
          "metadata": {},
          "execution_count": 173
        }
      ]
    },
    {
      "cell_type": "code",
      "source": [
        "\n",
        "npx = np.arange(0, Npx_X)\n",
        "npy = np.arange(0, Npx_Y)\n",
        "\n",
        "xmin = -1\n",
        "xmax = 1\n",
        "ymin = -1\n",
        "ymax = 1\n",
        "# Transformación al plano complejo en un rectangulo (xmin, xmax), (ymin, ymax)\n",
        "zx = npx * (xmax - xmin) / (Npx_X - 1)   + xmin\n",
        "zy = npy * (ymax-ymin) / (Npx_Y - 1) + ymin\n",
        "\n",
        "print(zx)\n",
        "print(zy)\n",
        "def f(z):\n",
        "  return z**3 - 1\n",
        "\n",
        "def fp(z):\n",
        "  return 3*z**2\n",
        "\n",
        "h = 1E-4\n",
        "def fpn(z, h):\n",
        "  return (f(z+h)-f(z))/h\n",
        "W=complex(2,5)\n",
        "W"
      ],
      "metadata": {
        "colab": {
          "base_uri": "https://localhost:8080/"
        },
        "id": "H3Phy2uYM9F2",
        "outputId": "20ceaabc-16c8-41f5-8257-97f13d83511c"
      },
      "id": "H3Phy2uYM9F2",
      "execution_count": 174,
      "outputs": [
        {
          "output_type": "stream",
          "name": "stdout",
          "text": [
            "[-1.         -0.97468354 -0.94936709 -0.92405063 -0.89873418 -0.87341772\n",
            " -0.84810127 -0.82278481 -0.79746835 -0.7721519  -0.74683544 -0.72151899\n",
            " -0.69620253 -0.67088608 -0.64556962 -0.62025316 -0.59493671 -0.56962025\n",
            " -0.5443038  -0.51898734 -0.49367089 -0.46835443 -0.44303797 -0.41772152\n",
            " -0.39240506 -0.36708861 -0.34177215 -0.3164557  -0.29113924 -0.26582278\n",
            " -0.24050633 -0.21518987 -0.18987342 -0.16455696 -0.13924051 -0.11392405\n",
            " -0.08860759 -0.06329114 -0.03797468 -0.01265823  0.01265823  0.03797468\n",
            "  0.06329114  0.08860759  0.11392405  0.13924051  0.16455696  0.18987342\n",
            "  0.21518987  0.24050633  0.26582278  0.29113924  0.3164557   0.34177215\n",
            "  0.36708861  0.39240506  0.41772152  0.44303797  0.46835443  0.49367089\n",
            "  0.51898734  0.5443038   0.56962025  0.59493671  0.62025316  0.64556962\n",
            "  0.67088608  0.69620253  0.72151899  0.74683544  0.7721519   0.79746835\n",
            "  0.82278481  0.84810127  0.87341772  0.89873418  0.92405063  0.94936709\n",
            "  0.97468354  1.        ]\n",
            "[-1.         -0.97468354 -0.94936709 -0.92405063 -0.89873418 -0.87341772\n",
            " -0.84810127 -0.82278481 -0.79746835 -0.7721519  -0.74683544 -0.72151899\n",
            " -0.69620253 -0.67088608 -0.64556962 -0.62025316 -0.59493671 -0.56962025\n",
            " -0.5443038  -0.51898734 -0.49367089 -0.46835443 -0.44303797 -0.41772152\n",
            " -0.39240506 -0.36708861 -0.34177215 -0.3164557  -0.29113924 -0.26582278\n",
            " -0.24050633 -0.21518987 -0.18987342 -0.16455696 -0.13924051 -0.11392405\n",
            " -0.08860759 -0.06329114 -0.03797468 -0.01265823  0.01265823  0.03797468\n",
            "  0.06329114  0.08860759  0.11392405  0.13924051  0.16455696  0.18987342\n",
            "  0.21518987  0.24050633  0.26582278  0.29113924  0.3164557   0.34177215\n",
            "  0.36708861  0.39240506  0.41772152  0.44303797  0.46835443  0.49367089\n",
            "  0.51898734  0.5443038   0.56962025  0.59493671  0.62025316  0.64556962\n",
            "  0.67088608  0.69620253  0.72151899  0.74683544  0.7721519   0.79746835\n",
            "  0.82278481  0.84810127  0.87341772  0.89873418  0.92405063  0.94936709\n",
            "  0.97468354  1.        ]\n"
          ]
        },
        {
          "output_type": "execute_result",
          "data": {
            "text/plain": [
              "(2+5j)"
            ]
          },
          "metadata": {},
          "execution_count": 174
        }
      ]
    },
    {
      "cell_type": "code",
      "source": [
        "x = - 1\n",
        "eps = 1E-8\n",
        "a = 0.2\n",
        "Niteraciones = 120\n",
        "for zx_ in zx:\n",
        "  x = x + 1\n",
        "  y = -1\n",
        "  #print(x)\n",
        "  for zy_ in zy:\n",
        "      y = y + 1\n",
        "      Z_0 = complex(zx_, zy_)          #La parte imaginaria es zy_ y z_x es la parte real\n",
        "      #print(Z_0)\n",
        "\n",
        "      for i in range(0, Niteraciones):               #Newton Raphson, encontrando los ceros\n",
        "        Z = Z_0 - a * f(Z_0)/fp(Z_0)\n",
        "        #print(Z)\n",
        "\n",
        "        if( abs(Z-Z_0)<= eps):\n",
        "          break\n",
        "W=complex(2,5)\n",
        "f(W)"
      ],
      "metadata": {
        "colab": {
          "base_uri": "https://localhost:8080/"
        },
        "id": "hiBPi-KmN0oS",
        "outputId": "2cbdba5a-c41e-4f8c-b760-7d4f774c0213"
      },
      "id": "hiBPi-KmN0oS",
      "execution_count": 175,
      "outputs": [
        {
          "output_type": "execute_result",
          "data": {
            "text/plain": [
              "(-143-65j)"
            ]
          },
          "metadata": {},
          "execution_count": 175
        }
      ]
    },
    {
      "cell_type": "markdown",
      "source": [
        "Punto 5\n"
      ],
      "metadata": {
        "id": "K60fovDXCePu"
      },
      "id": "K60fovDXCePu"
    },
    {
      "cell_type": "code",
      "source": [
        "\n",
        "import numpy as np\n",
        "import matplotlib.pylab as plt\n",
        "from PIL import Image\n",
        "\n",
        "Npx_X = 80 #Numero de pixeles en x\n",
        "Npx_Y = 80 #Numero de pixeles en y\n",
        "\n",
        "image = Image.new(\"RGB\", (Npx_X, Npx_Y)) #Creacion de la imagen inicial\n",
        "\n",
        "npx = np.arange(0, Npx_X)\n",
        "npy = np.arange(0, Npx_Y)\n",
        "\n",
        "xmin = -1\n",
        "xmax = 1\n",
        "ymin = -1\n",
        "ymax = 1\n",
        "# Transformación al plano complejo en un rectangulo (xmin, xmax), (ymin, ymax)\n",
        "zx = npx * (xmax - xmin) / (Npx_X - 1)   + xmin\n",
        "zy = npy * (ymax-ymin) / (Npx_Y - 1) + ymin\n",
        "\n",
        "# Definicion  la funcion y las derivada\n",
        "def f(z):\n",
        "  return z**3 - 1\n",
        "\n",
        "def fp(z):\n",
        "  return 3*z**2\n",
        "\n",
        "h = 1E-4\n",
        "def fpn(z, h):\n",
        "  return (f(z+h)-f(z))/h\n",
        "\n",
        "\n",
        "a = 0.2\n",
        "Niteraciones = 120\n",
        "eps = 1E-8\n",
        "\n",
        "x = - 1\n",
        "for zx_ in zx:\n",
        "  x = x + 1\n",
        "  y = -1\n",
        "  for zy_ in zy:\n",
        "      y = y + 1\n",
        "      Z_0 = complex(zx_, zy_)\n",
        "\n",
        "      for i in range(0, Niteraciones):\n",
        "        Z = Z_0 - a * f(Z_0)/fp(Z_0)\n",
        "\n",
        "        if( abs(Z-Z_0)<= eps):\n",
        "          #print(i)\n",
        "          breakzasswe\n",
        "\n",
        "        Z_0 = Z\n",
        "      #print(i)\n",
        "      #print(i)\n",
        "      r, g, b = i % 4 *64 , i % 8 *16, i% 16* 16          #Escala de colores\n",
        "      #print(r,g,b)\n",
        "\n",
        "      image.putpixel((x,y), (r,g,b) )\n",
        "\n",
        "\n",
        "plt.imshow(image)\n",
        "# plt.xlim(400, 600)\n",
        "# plt.ylim(400, 523)"
      ],
      "metadata": {
        "id": "-bPrE-wDCjtQ",
        "colab": {
          "base_uri": "https://localhost:8080/",
          "height": 211
        },
        "outputId": "03c2884d-d1c5-4156-bf1d-175804e9e17c"
      },
      "id": "-bPrE-wDCjtQ",
      "execution_count": 176,
      "outputs": [
        {
          "output_type": "error",
          "ename": "NameError",
          "evalue": "name 'breakzasswe' is not defined",
          "traceback": [
            "\u001b[0;31m---------------------------------------------------------------------------\u001b[0m",
            "\u001b[0;31mNameError\u001b[0m                                 Traceback (most recent call last)",
            "\u001b[0;32m<ipython-input-176-4ef3eff71b63>\u001b[0m in \u001b[0;36m<cell line: 38>\u001b[0;34m()\u001b[0m\n\u001b[1;32m     48\u001b[0m         \u001b[0;32mif\u001b[0m\u001b[0;34m(\u001b[0m \u001b[0mabs\u001b[0m\u001b[0;34m(\u001b[0m\u001b[0mZ\u001b[0m\u001b[0;34m-\u001b[0m\u001b[0mZ_0\u001b[0m\u001b[0;34m)\u001b[0m\u001b[0;34m<=\u001b[0m \u001b[0meps\u001b[0m\u001b[0;34m)\u001b[0m\u001b[0;34m:\u001b[0m\u001b[0;34m\u001b[0m\u001b[0;34m\u001b[0m\u001b[0m\n\u001b[1;32m     49\u001b[0m           \u001b[0;31m#print(i)\u001b[0m\u001b[0;34m\u001b[0m\u001b[0;34m\u001b[0m\u001b[0m\n\u001b[0;32m---> 50\u001b[0;31m           \u001b[0mbreakzasswe\u001b[0m\u001b[0;34m\u001b[0m\u001b[0;34m\u001b[0m\u001b[0m\n\u001b[0m\u001b[1;32m     51\u001b[0m \u001b[0;34m\u001b[0m\u001b[0m\n\u001b[1;32m     52\u001b[0m         \u001b[0mZ_0\u001b[0m \u001b[0;34m=\u001b[0m \u001b[0mZ\u001b[0m\u001b[0;34m\u001b[0m\u001b[0;34m\u001b[0m\u001b[0m\n",
            "\u001b[0;31mNameError\u001b[0m: name 'breakzasswe' is not defined"
          ]
        }
      ]
    },
    {
      "cell_type": "code",
      "source": [
        " image.putpixel?"
      ],
      "metadata": {
        "id": "WfzH0uhKCkQF"
      },
      "id": "WfzH0uhKCkQF",
      "execution_count": null,
      "outputs": []
    },
    {
      "cell_type": "code",
      "source": [
        "\n",
        "Niteraciones = 120\n",
        "eps = 1E-8\n",
        "a = 0.2\n",
        "x = - 1\n",
        "for zx_ in zx:\n",
        "  x = x + 1\n",
        "  y = -1\n",
        "  for zy_ in zy:\n",
        "      y = y + 1\n",
        "\n",
        "      for i in range(0, Niteraciones):\n",
        "        r, g, b = i % 4 *64 , i % 8 *16, i% 16* 16\n",
        "\n",
        "\n",
        "\n",
        "image.putpixel((x,y), (r,g,b) )\n",
        "plt.imshow(image)\n"
      ],
      "metadata": {
        "colab": {
          "base_uri": "https://localhost:8080/",
          "height": 451
        },
        "id": "8Nzr1J80StMl",
        "outputId": "e1a08c98-fdd3-4b19-8948-8639b86d9884"
      },
      "id": "8Nzr1J80StMl",
      "execution_count": null,
      "outputs": [
        {
          "output_type": "execute_result",
          "data": {
            "text/plain": [
              "<matplotlib.image.AxesImage at 0x7b54146f2770>"
            ]
          },
          "metadata": {},
          "execution_count": 25
        },
        {
          "output_type": "display_data",
          "data": {
            "text/plain": [
              "<Figure size 640x480 with 1 Axes>"
            ],
            "image/png": "[encoded data removed]"
          },
          "metadata": {}
        }
      ]
    },
    {
      "cell_type": "code",
      "source": [],
      "metadata": {
        "id": "uu-XHcvjTq3H"
      },
      "id": "uu-XHcvjTq3H",
      "execution_count": null,
      "outputs": []
    }
  ],
  "metadata": {
    "kernelspec": {
      "display_name": "Python 3 (ipykernel)",
      "language": "python",
      "name": "python3"
    },
    "language_info": {
      "codemirror_mode": {
        "name": "ipython",
        "version": 3
      },
      "file_extension": ".py",
      "mimetype": "text/x-python",
      "name": "python",
      "nbconvert_exporter": "python",
      "pygments_lexer": "ipython3",
      "version": "3.10.9"
    },
    "colab": {
      "provenance": []
    }
  },
  "nbformat": 4,
  "nbformat_minor": 5
}