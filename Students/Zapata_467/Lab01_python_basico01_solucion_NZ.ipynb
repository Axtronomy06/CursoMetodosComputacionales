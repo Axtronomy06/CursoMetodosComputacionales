{
  "cells": [
    {
      "cell_type": "markdown",
      "metadata": {
        "id": "GUTNoRgHTjfg"
      },
      "source": [
        "<a href=\"https://colab.research.google.com/github/hernansalinas/autogradesMetodosComputacionales/blob/main/Laboratorios_Taller/Lab01_python_basico01.ipynb\" target=\"_parent\"><img src=\"https://colab.research.google.com/assets/colab-badge.svg\" alt=\"Open In Colab\"/></a>\n",
        "\n",
        "\n",
        "\n",
        "\n",
        "# Laboratorio 01\n",
        "### Métodos computacionales para físicos  y astrónomos\n",
        "### Universidad de Antioquia\n",
        "### Profesores:\n",
        "### Hernan D. Salinas Jiménez\n",
        "### Juan Marcos Marin\n"
      ]
    },
    {
      "cell_type": "code",
      "execution_count": 14,
      "metadata": {
        "colab": {
          "base_uri": "https://localhost:8080/"
        },
        "id": "NmGdQYCBL7cs",
        "outputId": "ef899657-8109-4458-8ceb-c3f1619cc362"
      },
      "outputs": [
        {
          "output_type": "stream",
          "name": "stdout",
          "text": [
            "fatal: destination path 'autogradesMetodosComputacionales' already exists and is not an empty directory.\n"
          ]
        }
      ],
      "source": [
        "# Ejecutar esta celda antes de cada laboratorio\n",
        "!git clone https://github.com/hernansalinas/autogradesMetodosComputacionales.git\n",
        "path1=f\"autogradesMetodosComputacionales/Laboratorios_Taller/libs/\"\n",
        "path2=f\"autogradesMetodosComputacionales/Laboratorios_Taller/libs/Lab_autotesting01/\"\n",
        "%run -i {path1}libUnitTest.py"
      ]
    },
    {
      "cell_type": "markdown",
      "metadata": {
        "id": "OkdTI9KQ8MLN"
      },
      "source": [
        "# Operaciones básicas en python.\n",
        "\n",
        "\n",
        "### Definicion de variables\n",
        "1. Definir una variable x tipo entero.\n",
        "2. Definir una variable y tipo float\n",
        "3. Definir una variable z tipo string."
      ]
    },
    {
      "cell_type": "code",
      "execution_count": 4,
      "metadata": {
        "id": "nOYa9UQquq4d"
      },
      "outputs": [],
      "source": [
        "# Defina la variables en esta celda\n",
        "\n",
        "x =3\n",
        "y =3.3\n",
        "z = \"Hola\"\n"
      ]
    },
    {
      "cell_type": "code",
      "execution_count": 5,
      "metadata": {
        "colab": {
          "base_uri": "https://localhost:8080/",
          "height": 213
        },
        "id": "aod54z2z-ZeY",
        "outputId": "669e5f64-3b4b-46e0-e4c6-b4b9b2b46875"
      },
      "outputs": [
        {
          "output_type": "display_data",
          "data": {
            "text/plain": [
              "<IPython.core.display.HTML object>"
            ],
            "text/html": [
              "<style>\n",
              "  table { text-align: left; border-collapse: collapse; margin: 1em; caption-side: bottom; font-family: Sans-Serif; font-size: 12px}\n",
              "  caption { text-align: left; padding: 5px }\n",
              "  th, td { border: 2px solid #BFC9CA; padding: 5px }\n",
              "  th { background-color: #BFC9CA }\n",
              "  .passed { background-color: #76D7C4 }\n",
              "  .failed { background-color: #EC7063 }\n",
              "  .skipped { background-color: #EDBB99 }\n",
              "  .score { background-color: #7DCEA0 }\n",
              "  .results .points { display: none }\n",
              "  .results .message { display: block; font-size:smaller; color:#D35400 }\n",
              "  .results .note { display: block; font-size:smaller; font-decoration:italics }\n",
              "  .results .passed::before  { content: \"Passed\" } \n",
              "  .results .skipped::before  { content: \"Skipped\" } \n",
              "  .results .failed::before  { content: \"Failed\" } \n",
              "  .grade .passed  .message:empty::before { content:\"Passed\" }\n",
              "  .grade .failed  .message:empty::before { content:\"Failed\" }\n",
              "  .grade .skipped .message:empty::before { content:\"Skipped\" }   \n",
              "</style>\n",
              "<table class='results'>\n",
              "  <th class='test'>Test</th><th class='result'>Result</th></tr>\n",
              "<tr>\n",
              "  <td class='test'>\n",
              "    Definir x como un numero entero\n",
              "    <div class='message'>Done</div>\n",
              "  </td>\n",
              "  <td class='result passed'></td>\n",
              "</tr>\n",
              "<tr>\n",
              "  <td class='test'>\n",
              "    Defiir y como una variable tipo float\n",
              "    <div class='message'>Done</div>\n",
              "  </td>\n",
              "  <td class='result passed'></td>\n",
              "</tr>\n",
              "<tr>\n",
              "  <td class='test'>\n",
              "    Definir z como un string\n",
              "    <div class='message'>Done</div>\n",
              "  </td>\n",
              "  <td class='result passed'></td>\n",
              "</tr>  <tr><th class='score'>Total Points</th><th class='score'>3</th></tr></table>\n"
            ]
          },
          "metadata": {}
        }
      ],
      "source": [
        "# Ejecute la presente celda para probar su solucion\n",
        "%run -i {path2}/test01.py"
      ]
    },
    {
      "cell_type": "markdown",
      "metadata": {
        "id": "9JTEaQro_I8E"
      },
      "source": [
        "\n",
        "\n",
        "###  Creación de Funciones\n",
        "4. Crear una función con el nombre mul_lambda tipo lambda que multiple dos enteros, el resultado deberá ser un número entero.  \n",
        "\n",
        "Ejemplo de ejecución:\n",
        "\n",
        "```python\n",
        "\n",
        "mul_lambda(a,b)\n",
        "#donde a, y b son numeros enteros\n",
        "\n",
        "```\n",
        "\n",
        "\n",
        "5. Crear una función explicita con el nombre de sum_int, que realice la suma de dos números enteros\n",
        "\n",
        "Ejemplo de ejecución:\n",
        "\n",
        "```python\n",
        "\n",
        "sum_int(a,b)\n",
        "#donde a, y b son numeros enteros\n",
        "\n",
        "```\n",
        "\n"
      ]
    },
    {
      "cell_type": "code",
      "execution_count": 6,
      "metadata": {
        "id": "zuTTQ1gmvl3O"
      },
      "outputs": [],
      "source": [
        "# Escriba las funciones en esta celda\n",
        "def mul_lambda(a,b) :\n",
        "  return a*b\n",
        "\n",
        "def sum_int(a,b):\n",
        "  return a+b\n"
      ]
    },
    {
      "cell_type": "code",
      "execution_count": 7,
      "metadata": {
        "colab": {
          "base_uri": "https://localhost:8080/",
          "height": 174
        },
        "id": "lSsnEjAx_Gay",
        "outputId": "0fb0efe9-ec93-4cee-bc48-9fa86a9d3648"
      },
      "outputs": [
        {
          "output_type": "display_data",
          "data": {
            "text/plain": [
              "<IPython.core.display.HTML object>"
            ],
            "text/html": [
              "<style>\n",
              "  table { text-align: left; border-collapse: collapse; margin: 1em; caption-side: bottom; font-family: Sans-Serif; font-size: 12px}\n",
              "  caption { text-align: left; padding: 5px }\n",
              "  th, td { border: 2px solid #BFC9CA; padding: 5px }\n",
              "  th { background-color: #BFC9CA }\n",
              "  .passed { background-color: #76D7C4 }\n",
              "  .failed { background-color: #EC7063 }\n",
              "  .skipped { background-color: #EDBB99 }\n",
              "  .score { background-color: #7DCEA0 }\n",
              "  .results .points { display: none }\n",
              "  .results .message { display: block; font-size:smaller; color:#D35400 }\n",
              "  .results .note { display: block; font-size:smaller; font-decoration:italics }\n",
              "  .results .passed::before  { content: \"Passed\" } \n",
              "  .results .skipped::before  { content: \"Skipped\" } \n",
              "  .results .failed::before  { content: \"Failed\" } \n",
              "  .grade .passed  .message:empty::before { content:\"Passed\" }\n",
              "  .grade .failed  .message:empty::before { content:\"Failed\" }\n",
              "  .grade .skipped .message:empty::before { content:\"Skipped\" }   \n",
              "</style>\n",
              "<table class='results'>\n",
              "  <th class='test'>Test</th><th class='result'>Result</th></tr>\n",
              "<tr>\n",
              "  <td class='test'>\n",
              "    Crear una funcion que multiplique dos números\n",
              "    <div class='message'>Done</div>\n",
              "  </td>\n",
              "  <td class='result passed'></td>\n",
              "</tr>\n",
              "<tr>\n",
              "  <td class='test'>\n",
              "    Crear una funcion que sume dos números\n",
              "    <div class='message'>Done</div>\n",
              "  </td>\n",
              "  <td class='result passed'></td>\n",
              "</tr>  <tr><th class='score'>Total Points</th><th class='score'>2</th></tr></table>\n"
            ]
          },
          "metadata": {}
        }
      ],
      "source": [
        "%run -i {path2}/test02.py"
      ]
    },
    {
      "cell_type": "markdown",
      "metadata": {
        "id": "uu42QkJsCQMb"
      },
      "source": [
        "\n",
        "###  Números complejos\n",
        "\n",
        "6. Defina un número complejo w.\n",
        "7. Retorne la parte imaginaria de w, almacenela en una variable w_img\n",
        "8. Retorne la parte real de w, almacenela en una variable w_real.\n",
        "9. Retorne el complejo conjugado de w, almacenla en una varible w_con.\n"
      ]
    },
    {
      "cell_type": "code",
      "execution_count": 8,
      "metadata": {
        "id": "1InwYykmwngw"
      },
      "outputs": [],
      "source": [
        "# Escriba acá su solución\n",
        "w= 9+7j\n",
        "w_img= w.imag\n",
        "w_real= w.real\n",
        "w_con= w.conjugate()\n"
      ]
    },
    {
      "cell_type": "code",
      "execution_count": 9,
      "metadata": {
        "colab": {
          "base_uri": "https://localhost:8080/",
          "height": 252
        },
        "id": "jx3J6yE1Kwki",
        "outputId": "aaa21a5f-3b82-41c9-aa2b-cccf74772e6e"
      },
      "outputs": [
        {
          "output_type": "display_data",
          "data": {
            "text/plain": [
              "<IPython.core.display.HTML object>"
            ],
            "text/html": [
              "<style>\n",
              "  table { text-align: left; border-collapse: collapse; margin: 1em; caption-side: bottom; font-family: Sans-Serif; font-size: 12px}\n",
              "  caption { text-align: left; padding: 5px }\n",
              "  th, td { border: 2px solid #BFC9CA; padding: 5px }\n",
              "  th { background-color: #BFC9CA }\n",
              "  .passed { background-color: #76D7C4 }\n",
              "  .failed { background-color: #EC7063 }\n",
              "  .skipped { background-color: #EDBB99 }\n",
              "  .score { background-color: #7DCEA0 }\n",
              "  .results .points { display: none }\n",
              "  .results .message { display: block; font-size:smaller; color:#D35400 }\n",
              "  .results .note { display: block; font-size:smaller; font-decoration:italics }\n",
              "  .results .passed::before  { content: \"Passed\" } \n",
              "  .results .skipped::before  { content: \"Skipped\" } \n",
              "  .results .failed::before  { content: \"Failed\" } \n",
              "  .grade .passed  .message:empty::before { content:\"Passed\" }\n",
              "  .grade .failed  .message:empty::before { content:\"Failed\" }\n",
              "  .grade .skipped .message:empty::before { content:\"Skipped\" }   \n",
              "</style>\n",
              "<table class='results'>\n",
              "  <th class='test'>Test</th><th class='result'>Result</th></tr>\n",
              "<tr>\n",
              "  <td class='test'>\n",
              "    Definir w como un número complejo\n",
              "    <div class='message'>Done</div>\n",
              "  </td>\n",
              "  <td class='result passed'></td>\n",
              "</tr>\n",
              "<tr>\n",
              "  <td class='test'>\n",
              "    Determinar la parte real de w\n",
              "    <div class='message'>Done</div>\n",
              "  </td>\n",
              "  <td class='result passed'></td>\n",
              "</tr>\n",
              "<tr>\n",
              "  <td class='test'>\n",
              "    Determinar la parte imaginaria  de w\n",
              "    <div class='message'>Done</div>\n",
              "  </td>\n",
              "  <td class='result passed'></td>\n",
              "</tr>\n",
              "<tr>\n",
              "  <td class='test'>\n",
              "    Determinar el conjugado de w\n",
              "    <div class='message'>Done</div>\n",
              "  </td>\n",
              "  <td class='result passed'></td>\n",
              "</tr>  <tr><th class='score'>Total Points</th><th class='score'>4</th></tr></table>\n"
            ]
          },
          "metadata": {}
        }
      ],
      "source": [
        "%run -i {path2}/test03.py"
      ]
    },
    {
      "cell_type": "markdown",
      "metadata": {
        "id": "P-2vd2FFV-R-"
      },
      "source": [
        "###  Listas\n",
        "\n",
        "10.0  Construir una lista L con las variables usadas hasta acá y los resultados de las funciones.\n",
        "\n",
        "L=[x,y,z,mul_lambda, sum_int,w, w_img, w_real, w_con ]\n",
        "\n",
        "11.0 Invierta la lista y almacene en una variable L_reverse\n",
        "\n",
        "12.0 Almacene los indices impares de la lista, L_imp\n",
        "\n",
        "13.0 Almacene los indicies pares de la lista, L_par\n",
        "\n",
        "14.0 Almacena en una nueva variable llamada Lnew con la lista L, modifique el indice 5 de la lista L con la palabra \"hello world\"\n"
      ]
    },
    {
      "cell_type": "code",
      "execution_count": 12,
      "metadata": {
        "id": "5wcA7Bf8x6v4",
        "colab": {
          "base_uri": "https://localhost:8080/"
        },
        "outputId": "be690d11-91ad-48c4-816d-66247d09300e"
      },
      "outputs": [
        {
          "output_type": "execute_result",
          "data": {
            "text/plain": [
              "[3,\n",
              " 3.3,\n",
              " 'Hola',\n",
              " <function __main__.mul_lambda(a, b)>,\n",
              " 'hola mundo',\n",
              " (9+7j),\n",
              " 7.0,\n",
              " 9.0,\n",
              " (9-7j)]"
            ]
          },
          "metadata": {},
          "execution_count": 12
        }
      ],
      "source": [
        "\n",
        "\n",
        "# Escriba en esta celda su solucion\n",
        "L=[x,y,z,mul_lambda, sum_int, w, w_img, w_real, w_con]\n",
        "L_reverse=L[::-1]\n",
        "\n",
        "L_imp=[ L[i]for i in range(len(L)) if i %2==0 ]\n",
        "L_par=[ L[i]for i in range(len(L)) if i %2!=0 ]\n",
        "\n",
        "Lnew=L.copy()\n",
        "Lnew[4]=\"hola mundo\"\n",
        "Lnew\n"
      ]
    },
    {
      "cell_type": "code",
      "execution_count": null,
      "metadata": {
        "id": "zpm1YB3izaxT"
      },
      "outputs": [],
      "source": []
    },
    {
      "cell_type": "code",
      "execution_count": null,
      "metadata": {
        "id": "rUAEpJDDdM2q"
      },
      "outputs": [],
      "source": [
        "%run -i {path2}/test04.py"
      ]
    },
    {
      "cell_type": "markdown",
      "metadata": {
        "id": "9vVIrQeytD30"
      },
      "source": [
        "###  Tuplas\n",
        "\n",
        "15.0 Definir una tupla con 5 elementos almacenda en la variable Tup, los primeros 3 tipo string y los ultimos dos, tipo float."
      ]
    },
    {
      "cell_type": "code",
      "execution_count": 18,
      "metadata": {
        "id": "K3VIL01AzaxV"
      },
      "outputs": [],
      "source": [
        "# Escriba en esta celda su solucion\n",
        "Tup=[\"e\",\"o\",\"w\", 4.4, 9.8]"
      ]
    },
    {
      "cell_type": "code",
      "execution_count": 19,
      "metadata": {
        "id": "UswyGx3xuou2",
        "colab": {
          "base_uri": "https://localhost:8080/",
          "height": 278
        },
        "outputId": "fcc4f221-7f40-4e0c-99a2-119a140fd07c"
      },
      "outputs": [
        {
          "output_type": "display_data",
          "data": {
            "text/plain": [
              "<IPython.core.display.HTML object>"
            ],
            "text/html": [
              "<style>\n",
              "  table { text-align: left; border-collapse: collapse; margin: 1em; caption-side: bottom; font-family: Sans-Serif; font-size: 12px}\n",
              "  caption { text-align: left; padding: 5px }\n",
              "  th, td { border: 2px solid #BFC9CA; padding: 5px }\n",
              "  th { background-color: #BFC9CA }\n",
              "  .passed { background-color: #76D7C4 }\n",
              "  .failed { background-color: #EC7063 }\n",
              "  .skipped { background-color: #EDBB99 }\n",
              "  .score { background-color: #7DCEA0 }\n",
              "  .results .points { display: none }\n",
              "  .results .message { display: block; font-size:smaller; color:#D35400 }\n",
              "  .results .note { display: block; font-size:smaller; font-decoration:italics }\n",
              "  .results .passed::before  { content: \"Passed\" } \n",
              "  .results .skipped::before  { content: \"Skipped\" } \n",
              "  .results .failed::before  { content: \"Failed\" } \n",
              "  .grade .passed  .message:empty::before { content:\"Passed\" }\n",
              "  .grade .failed  .message:empty::before { content:\"Failed\" }\n",
              "  .grade .skipped .message:empty::before { content:\"Skipped\" }   \n",
              "</style>\n",
              "<table class='results'>\n",
              "  <th class='test'>Test</th><th class='result'>Result</th></tr>\n",
              "<tr>\n",
              "  <td class='test'>\n",
              "    Definir una tupla\n",
              "  <div class='note'>Hint: Recuerde definir el tipo adecuado empleando el metodo int</div>\n",
              "    <hr/>\n",
              "    <div class='message'>Error: &lt;class &#x27;list&#x27;&gt; != &lt;class &#x27;tuple&#x27;&gt; : #- Tup=[&#x27;e&#x27;, &#x27;o&#x27;, &#x27;w&#x27;, 4.4, 9.8] migth be type string\n",
              "</div>\n",
              "  </td>\n",
              "  <td class='result failed'></td>\n",
              "</tr>\n",
              "<tr>\n",
              "  <td class='test'>\n",
              "    La longitud de la tupla debe ser 5 \n",
              "    <div class='message'>Done</div>\n",
              "  </td>\n",
              "  <td class='result passed'></td>\n",
              "</tr>\n",
              "<tr>\n",
              "  <td class='test'>\n",
              "    Los tres primeros elementos deben string \n",
              "    <div class='message'>Done</div>\n",
              "  </td>\n",
              "  <td class='result passed'></td>\n",
              "</tr>\n",
              "<tr>\n",
              "  <td class='test'>\n",
              "    Los dos ultimos elementos deben ser float \n",
              "    <div class='message'>Done</div>\n",
              "  </td>\n",
              "  <td class='result passed'></td>\n",
              "</tr>  <tr><th class='score'>Total Points</th><th class='score'>3</th></tr></table>\n"
            ]
          },
          "metadata": {}
        }
      ],
      "source": [
        " %run -i {path2}/test05.py"
      ]
    },
    {
      "cell_type": "markdown",
      "metadata": {
        "id": "E1VlbpbEysKy"
      },
      "source": [
        "###  Set\n",
        "16.0 Defina una variable tipo set llamada  D con los primeros 11 numeros primos, consultalos en la red. Notese que pasa en este variables cuando alguno de los elementos se repite\n",
        "\n",
        "17.0 Defina una variable tipo set llamada E con los números naturales del 1 al 20.\n",
        "\n",
        "18.0 Calcule la unión  y almacenela en una variable U.\n",
        "\n",
        "19.0 Calcule la intersección y almacenela en una variable I\n"
      ]
    },
    {
      "cell_type": "code",
      "execution_count": null,
      "metadata": {
        "id": "ua1aHdjPzfGp",
        "colab": {
          "base_uri": "https://localhost:8080/"
        },
        "outputId": "47c173bd-7767-415e-cf63-34280d66e29b"
      },
      "outputs": [
        {
          "output_type": "execute_result",
          "data": {
            "text/plain": [
              "{2, 3, 5, 7, 11, 13, 17, 19}"
            ]
          },
          "metadata": {},
          "execution_count": 84
        }
      ],
      "source": [
        "# Escriba acá su solución\n",
        "D={2, 3, 5, 7, 11, 13, 17, 19, 23, 29, 31}\n",
        "E=set(range(1,21))\n",
        "U=D.union(E)\n",
        "I=D.intersection(E)\n",
        "I"
      ]
    },
    {
      "cell_type": "code",
      "execution_count": null,
      "metadata": {
        "id": "YJiDfeEr2cSc",
        "colab": {
          "base_uri": "https://localhost:8080/",
          "height": 447
        },
        "outputId": "a5cb63b4-33b9-4115-b733-a85f4f58c36d"
      },
      "outputs": [
        {
          "output_type": "display_data",
          "data": {
            "text/plain": [
              "<IPython.core.display.HTML object>"
            ],
            "text/html": [
              "<style>\n",
              "  table { text-align: left; border-collapse: collapse; margin: 1em; caption-side: bottom; font-family: Sans-Serif; font-size: 12px}\n",
              "  caption { text-align: left; padding: 5px }\n",
              "  th, td { border: 2px solid #BFC9CA; padding: 5px }\n",
              "  th { background-color: #BFC9CA }\n",
              "  .passed { background-color: #76D7C4 }\n",
              "  .failed { background-color: #EC7063 }\n",
              "  .skipped { background-color: #EDBB99 }\n",
              "  .score { background-color: #7DCEA0 }\n",
              "  .results .points { display: none }\n",
              "  .results .message { display: block; font-size:smaller; color:#D35400 }\n",
              "  .results .note { display: block; font-size:smaller; font-decoration:italics }\n",
              "  .results .passed::before  { content: \"Passed\" } \n",
              "  .results .skipped::before  { content: \"Skipped\" } \n",
              "  .results .failed::before  { content: \"Failed\" } \n",
              "  .grade .passed  .message:empty::before { content:\"Passed\" }\n",
              "  .grade .failed  .message:empty::before { content:\"Failed\" }\n",
              "  .grade .skipped .message:empty::before { content:\"Skipped\" }   \n",
              "</style>\n",
              "<table class='results'>\n",
              "  <th class='test'>Test</th><th class='result'>Result</th></tr>\n",
              "<tr>\n",
              "  <td class='test'>\n",
              "    Definir una variable D tipo set\n",
              "    <div class='message'>Done</div>\n",
              "  </td>\n",
              "  <td class='result passed'></td>\n",
              "</tr>\n",
              "<tr>\n",
              "  <td class='test'>\n",
              "    Definir una variable E tipo set\n",
              "    <div class='message'>Done</div>\n",
              "  </td>\n",
              "  <td class='result passed'></td>\n",
              "</tr>\n",
              "<tr>\n",
              "  <td class='test'>\n",
              "    Definir una variable U tipo set\n",
              "    <div class='message'>Done</div>\n",
              "  </td>\n",
              "  <td class='result passed'></td>\n",
              "</tr>\n",
              "<tr>\n",
              "  <td class='test'>\n",
              "    Definir una variable I tipo set\n",
              "    <div class='message'>Done</div>\n",
              "  </td>\n",
              "  <td class='result passed'></td>\n",
              "</tr>\n",
              "<tr>\n",
              "  <td class='test'>\n",
              "    La longitud de D debe ser 11 \n",
              "    <div class='message'>Done</div>\n",
              "  </td>\n",
              "  <td class='result passed'></td>\n",
              "</tr>\n",
              "<tr>\n",
              "  <td class='test'>\n",
              "    11 primeros números de Bernulli\n",
              "    <div class='message'>Done</div>\n",
              "  </td>\n",
              "  <td class='result passed'></td>\n",
              "</tr>\n",
              "<tr>\n",
              "  <td class='test'>\n",
              "    20 primeros numeros naturales \n",
              "    <div class='message'>Done</div>\n",
              "  </td>\n",
              "  <td class='result passed'></td>\n",
              "</tr>\n",
              "<tr>\n",
              "  <td class='test'>\n",
              "    union \n",
              "    <div class='message'>Done</div>\n",
              "  </td>\n",
              "  <td class='result passed'></td>\n",
              "</tr>\n",
              "<tr>\n",
              "  <td class='test'>\n",
              "    Calcule la interseccion \n",
              "    <div class='message'>Done</div>\n",
              "  </td>\n",
              "  <td class='result passed'></td>\n",
              "</tr>  <tr><th class='score'>Total Points</th><th class='score'>9</th></tr></table>\n"
            ]
          },
          "metadata": {}
        }
      ],
      "source": [
        " %run -i {path2}/test06.py"
      ]
    },
    {
      "cell_type": "markdown",
      "metadata": {
        "id": "HWfazmVWTq1T"
      },
      "source": [
        "\n",
        "\n",
        "\n",
        "\n",
        "\n",
        "\n",
        "\n",
        "\n",
        "\n",
        "\n",
        "\n",
        "\n",
        "\n",
        "\n",
        "###  Diccionarios\n",
        "20.0 Construir un diccionario con 5 elementos cuya clave es el nombre del autor y valor el nombre del libro. Almacenarlo en una variable dicc.\n",
        "\n",
        "\n",
        "\n"
      ]
    },
    {
      "cell_type": "code",
      "execution_count": 29,
      "metadata": {
        "id": "07sFgZvj0MP7",
        "colab": {
          "base_uri": "https://localhost:8080/"
        },
        "outputId": "443f9e2e-3de7-4688-bfcf-ba869c4d54a2"
      },
      "outputs": [
        {
          "output_type": "stream",
          "name": "stdout",
          "text": [
            "{'Carlo_Rovelli': 'Seven Brief Lessons on Physics', 'Rowling': 'Harry Potter', 'Gabriel_García': 'El coronel no tiene quien le escriba', 'Fernando_Gonzales': 'Viaje a pie', 'Scott_Fitzgerald': 'The Great Gatsby'}\n"
          ]
        }
      ],
      "source": [
        "# Escriba acá su solución\n",
        "dicc = dict(\n",
        "    Carlo_Rovelli='Seven Brief Lessons on Physics',\n",
        "    Rowling='Harry Potter',\n",
        "    Gabriel_García='El coronel no tiene quien le escriba',\n",
        "    Fernando_Gonzales='Viaje a pie',\n",
        "    Scott_Fitzgerald='The Great Gatsby')\n",
        "print(dicc)"
      ]
    },
    {
      "cell_type": "code",
      "execution_count": 30,
      "metadata": {
        "id": "yfHkEyXV6DjL",
        "colab": {
          "base_uri": "https://localhost:8080/",
          "height": 174
        },
        "outputId": "959a01ce-0541-480f-beea-169173ffa52d"
      },
      "outputs": [
        {
          "output_type": "display_data",
          "data": {
            "text/plain": [
              "<IPython.core.display.HTML object>"
            ],
            "text/html": [
              "<style>\n",
              "  table { text-align: left; border-collapse: collapse; margin: 1em; caption-side: bottom; font-family: Sans-Serif; font-size: 12px}\n",
              "  caption { text-align: left; padding: 5px }\n",
              "  th, td { border: 2px solid #BFC9CA; padding: 5px }\n",
              "  th { background-color: #BFC9CA }\n",
              "  .passed { background-color: #76D7C4 }\n",
              "  .failed { background-color: #EC7063 }\n",
              "  .skipped { background-color: #EDBB99 }\n",
              "  .score { background-color: #7DCEA0 }\n",
              "  .results .points { display: none }\n",
              "  .results .message { display: block; font-size:smaller; color:#D35400 }\n",
              "  .results .note { display: block; font-size:smaller; font-decoration:italics }\n",
              "  .results .passed::before  { content: \"Passed\" } \n",
              "  .results .skipped::before  { content: \"Skipped\" } \n",
              "  .results .failed::before  { content: \"Failed\" } \n",
              "  .grade .passed  .message:empty::before { content:\"Passed\" }\n",
              "  .grade .failed  .message:empty::before { content:\"Failed\" }\n",
              "  .grade .skipped .message:empty::before { content:\"Skipped\" }   \n",
              "</style>\n",
              "<table class='results'>\n",
              "  <th class='test'>Test</th><th class='result'>Result</th></tr>\n",
              "<tr>\n",
              "  <td class='test'>\n",
              "    Definir una variable dicc tipo diccionario\n",
              "    <div class='message'>Done</div>\n",
              "  </td>\n",
              "  <td class='result passed'></td>\n",
              "</tr>\n",
              "<tr>\n",
              "  <td class='test'>\n",
              "    la longitud del diccionario debe ser 5 \n",
              "    <div class='message'>Done</div>\n",
              "  </td>\n",
              "  <td class='result passed'></td>\n",
              "</tr>  <tr><th class='score'>Total Points</th><th class='score'>2</th></tr></table>\n"
            ]
          },
          "metadata": {}
        }
      ],
      "source": [
        " %run -i {path2}/test07.py"
      ]
    },
    {
      "cell_type": "markdown",
      "metadata": {
        "id": "7g0xWN387wOo"
      },
      "source": [
        "\n",
        "####  Ciclos y condicionales\n",
        "\n",
        "21.0  Cálculo de $\\pi$. Empleando la siguiente seria :\n",
        "\n",
        "\\begin{equation}\n",
        "\\frac{\\pi}{4} = 1 -\\frac{1}{3}+\\frac{1}{5}-\\frac{1}{7}+\\frac{1}{9}-...\n",
        "\\end{equation}\n",
        "\n",
        "Construya una función llamada pi_number en el que entrado el valor de k,(número de términos de la serie ) calcule el valor de pi. Si k es negativo deberá retornar un error como una variable tipo string.\n",
        "\n",
        "Ejemplo de ejecución:\n",
        "```python\n",
        "pi_number(10)\n",
        "```"
      ]
    },
    {
      "cell_type": "code",
      "execution_count": 229,
      "metadata": {
        "id": "h9cuWKkT0pqQ",
        "colab": {
          "base_uri": "https://localhost:8080/"
        },
        "outputId": "436c92a3-1e15-4b40-efc8-008146917f8f"
      },
      "outputs": [
        {
          "output_type": "stream",
          "name": "stdout",
          "text": [
            "ingrese k: 900\n",
            "La aproximación de pi con 900  terminos es 0.7856756327903573\n",
            "si quieres ver la lista de terminos escribe 'terminos': terminos\n",
            "[0.6666666666666667, 0.8666666666666667, 0.7238095238095239, 0.8349206349206351, 0.7440115440115441, 0.8209346209346211, 0.7542679542679545, 0.8130914836797192, 0.7604599047323508, 0.8080789523513985, 0.7646006914818333, 0.8046006914818333, 0.7675636544447964, 0.802046413065486, 0.769788348549357, 0.8000913788523872, 0.7715199502809587, 0.7985469773079856, 0.77290595166696, 0.797296195569399, 0.7740403816159106, 0.7962626038381329, 0.774986008093452, 0.7953941713587581, 0.7757863282215032, 0.7946542527498051, 0.7764724345679869, 0.7940162942171096, 0.7770671416747368, 0.7934605842976876, 0.7775875684246718, 0.7929721838092871, 0.7780468106749587, 0.7925395642981471, 0.7784550572558936, 0.7921536873928798, 0.7788203540595465, 0.7918073670465595, 0.7791491391984583, 0.7914948182108039, 0.7794466254397195, 0.7912113313220724, 0.7797170784485092, 0.790953033504689, 0.7799640225156781, 0.7907167106877211, 0.7801903948982474, 0.7904996732487628, 0.7803986631477527, 0.7902996532467627, 0.780590915382685, 0.7901147249064945, 0.7807689305139711, 0.7899432424405766, 0.7809342334315675, 0.7897837909536914, 0.7810881387797785, 0.789635147326787, 0.7812317859822492, 0.7894962487921665, 0.7813661674913535, 0.7893661674913535, 0.781492151743322, 0.7892440897278181, 0.7816105019415586, 0.7891292989340397, 0.7817218915266323, 0.789021161599625, 0.7818269169953085, 0.7889191155768688, 0.7819261085838618, 0.7888226603079997, 0.7820199392195644, 0.7887313486155375, 0.7821088320592461, 0.7886447797716644, 0.7821931668684385, 0.7885625936200309, 0.7822732854439303, 0.7884844655681539, 0.7823494962430005, 0.7884101023036066, 0.7824220783515108, 0.7883392381148244, 0.7824912848984502, 0.7882716317192595, 0.7825573460049738, 0.7882070635190981, 0.7826204713403271, 0.7881453332187801, 0.7826808523444632, 0.7880862577498686, 0.7827386641669809, 0.7880296694579862, 0.7827940673637455, 0.7879754145140045, 0.7828472093857994, 0.7879233515177791, 0.7828982258896384, 0.7878733502677479, 0.7829472418933636, 0.7878252906738514, 0.7829943727994553, 0.7877790617946706, 0.7830397253017796, 0.7877345609825307, 0.783083398191833, 0.7876916931227086, 0.7831254830770464, 0.7876503699548745, 0.783166065022139, 0.7876105094665835, 0.7832052231229711, 0.7875720353500454, 0.7832430310210411, 0.7875348765146033, 0.7832795573656671, 0.7874989666483675, 0.7833148662299575, 0.7874642438233185, 0.7833490174858699, 0.7874306501389312, 0.7833820671429798, 0.7873981314000079, 0.783414067654988, 0.7873666368249485, 0.7834450681974975, 0.7873361187811551, 0.7834751149201512, 0.7873065325446723, 0.783504251175851, 0.7872778360815114, 0.7835325177294514, 0.7872499898484105, 0.7835599529480416, 0.7872229566110452, 0.7835865929746816, 0.7871967012779307, 0.7836124718872497, 0.7871711907484596, 0.783637621843866, 0.7871463937736906, 0.7836620732161993, 0.7871222808286561, 0.7836858547118176, 0.7870988239950941, 0.7837089934866196, 0.787075996853623, 0.7837315152482718, 0.7870537743844844, 0.7837534443514811, 0.7870321328760712, 0.7837748038858432, 0.7870110498405357, 0.7837956157569345, 0.7869905039358482, 0.7838159007612451, 0.7869704748937372, 0.7838356786554926, 0.7869509434530004, 0.7838549682208023, 0.7869318912977253, 0.7838737873221902, 0.7869133010000017, 0.7838921529637479, 0.786895155966751, 0.7839100813398853, 0.7868774403903304, 0.7839275878829557, 0.7868601392026038, 0.7839446873075601, 0.7868432380321977, 0.7839613936517942, 0.7868267231646882, 0.7839777203156854, 0.7868105815054871, 0.7839936800970364, 0.7867948005452157, 0.7840092852248814, 0.7867793683273745, 0.7840245473907353, 0.7867642734181326, 0.7840394777778056, 0.7867495048780766, 0.7840540870883191, 0.7867350522357722, 0.7840683855691055, 0.7867209054630048, 0.7840823830355641, 0.7867070549515746, 0.7840960888941333, 0.7866934914915359, 0.7841095121633705, 0.7866802062507742, 0.7841226614937409, 0.7866671907558274, 0.7841355451862071, 0.7866544368738645, 0.784148171209704, 0.7866419367957389, 0.7841605472175751, 0.7866296830200442, 0.7841726805630418, 0.7866176683381029, 0.784184578313772, 0.7866058858198253, 0.7841962472656084, 0.7865943288003806, 0.7842076939555118, 0.7865829908676258, 0.7842189246737724, 0.786571865850243, 0.7842299454755357, 0.7865609478065381, 0.7842407621916889, 0.7865502310138598, 0.7842513804391471, 0.7865397099585979, 0.7842618056305797, 0.7865293793267248, 0.7842720429836098, 0.7865192339948457, 0.7842820975295213, 0.7865092690217261, 0.7842919741215044, 0.7864994796402682, 0.784301677442466, 0.7864898612499058, 0.784311212012433, 0.7864804094093961, 0.7843205821955732, 0.7864711198299819, 0.7843297922068555, 0.7864619883689025, 0.7843388461183717, 0.7864530110232343, 0.7843477478653396, 0.7864441839240398, 0.784356501251806, 0.7864355033308081, 0.7843651099560669, 0.78642696562617, 0.7843735775358209, 0.786418567310872, 0.7843819074330716, 0.7864103049989944, 0.7843901029787924, 0.7864021754134001, 0.784398167397368, 0.7863941753814, 0.7844061038108234, 0.7863863018306254, 0.7844139152428542, 0.7863785517850939, 0.7844216046226673, 0.7863709223614588, 0.7844291747886433, 0.7863634107654325, 0.7844366284918294, 0.7863560142883745, 0.7844439683992732, 0.7863487303040351, 0.7844511970972039, 0.7863415562654459, 0.7844583170940711, 0.7863344897019511, 0.7844653308234464, 0.7863275282163701, 0.7844722406467968, 0.7863206694822866, 0.7844790488561356, 0.7863139112414568, 0.7844857576765574, 0.7863072513013297, 0.7844923692686618, 0.7863006875326763, 0.7844988857308746, 0.7862942178673198, 0.7845053091016668, 0.7862878402959628, 0.7845116413616822, 0.7862815528661069, 0.7845178844357719, 0.7862753536800601, 0.7845240401949463, 0.7862692408930265, 0.784530110458244, 0.7862632127112769, 0.7845360969945239, 0.786257267390393, 0.7845420015241837, 0.7862514032335854, 0.7845478257208086, 0.7862456185900786, 0.784553571212752, 0.7862399118535615, 0.7845592395846539, 0.7862342814607008, 0.7845648323788978, 0.7862287258897132, 0.78457035109701, 0.7862232436589934, 0.7845757972010033, 0.7862178333257981, 0.7845811721146688, 0.7862124934849788, 0.7845864772248162, 0.786207222767766, 0.7845917138824672, 0.7862020198405992, 0.7845968834040021, 0.7861968834040022, 0.7846019870722637, 0.7861918121915006, 0.7846070261376179, 0.7861868049685816, 0.7846120018189753, 0.7861818605316911, 0.7846169153047741, 0.7861769777072701, 0.7846217677539264, 0.7861721553508256, 0.7846265602967298, 0.7861673923460365, 0.7846312940357446, 0.7861626876038916, 0.7846359700466398, 0.7861580400618604, 0.7846405893790076, 0.7861534486830923, 0.7846451530571497, 0.7861489124556459, 0.7846496620808333, 0.7861444303917451, 0.7846541174260223, 0.7861400015270624, 0.7846585200455809, 0.786135624920027, 0.7846628708699533, 0.7861312996511575, 0.7846671708078192, 0.7861270248224178, 0.7846714207467264, 0.7861227995565957, 0.7846756215537013, 0.7861186229967028, 0.7846797740758394, 0.7861144943053947, 0.784683879140874, 0.7861104126644118, 0.7846879375577263, 0.7861063772740383, 0.7846919501170369, 0.7861023873525799, 0.7846959175916798, 0.7860984421358593, 0.784699840737258, 0.7860945408767279, 0.7847037202925833, 0.7860906828445944, 0.7847075569801407, 0.7860868673249684, 0.7847113515065365, 0.7860830936190193, 0.7847151045629317, 0.78607936104315, 0.784718816825463, 0.7860756689285837, 0.7847224889556473, 0.7860720166209645, 0.784726121600776, 0.7860684034799706, 0.7847297153942946, 0.7860648288789408, 0.7847332709561712, 0.7860612922045112, 0.7847367888932528, 0.7860577928562648, 0.7847402697996113, 0.7860543302463918, 0.7847437142568767, 0.7860509037993604, 0.7847471228345625, 0.7860475129515976, 0.7847504960903784, 0.7860441571511805, 0.7847538345705353, 0.7860408358575366, 0.7847571388100398, 0.7860375485411538, 0.7847604093329801, 0.7860342946832986, 0.784763646652803, 0.7860310737757434, 0.7847668512725828, 0.7860278853205022, 0.784770023685282, 0.7860247288295731, 0.7847731643740036, 0.7860216038246902, 0.7847762738122369, 0.7860185098370817, 0.7847793524640952, 0.786015446407235, 0.784782400784547, 0.78601241308467, 0.7847854192196393, 0.7860094094277176, 0.7847884082067164, 0.7860064350033059, 0.7847913681746304, 0.7860034893867516, 0.7847942995439463, 0.7860005721615578, 0.7847972027271415, 0.7859976829192183, 0.7848000781287992, 0.7859948212590262, 0.7848029261457962, 0.785991986787889, 0.7848057471674856, 0.7859891791201483, 0.7848085415758744, 0.7859863978774057, 0.7848113097457958, 0.7859836426883515, 0.7848140520450767, 0.7859809131886006, 0.7848167688347008, 0.7859782090205312, 0.7848194604689669, 0.7859755298331288, 0.7848221272956432, 0.7859728752818341, 0.7848247696561166, 0.7859702450283961, 0.784827387885539, 0.7859676387407271, 0.7848299823129682, 0.7859650560927639, 0.7848325532615068, 0.7859624967643316, 0.7848351010484353, 0.7859599604410112, 0.7848376259853435, 0.7859574468140109, 0.7848401283782567, 0.7859549555800404, 0.78484260852776, 0.7859524864411895, 0.7848450667291187, 0.7859500391048093, 0.7848475032723947, 0.7859476132833958, 0.7848499184425616, 0.7859452086944784, 0.784852312519615, 0.7859428250605092, 0.7848546857786811, 0.7859404621087571, 0.7848570384901222, 0.7859381195712033, 0.7848593709196391, 0.78593579718444, 0.7848616833283713, 0.7859334946895716, 0.7848639759729941, 0.7859312118321189, 0.7848662491058143, 0.7859289483619247, 0.7848685029748622, 0.7859267040330633, 0.784870737823982, 0.7859244786037501, 0.7848729538929194, 0.7859222718362563, 0.7848751514174082, 0.785920083496823, 0.7848773306292526, 0.7859179133555794, 0.7848794917564101, 0.785915761186462, 0.7848816350230701, 0.7859136267671362, 0.7848837606497314, 0.7859115098789194, 0.7848858688532784, 0.7859094103067072, 0.7848879598470545, 0.7859073278388996, 0.7848900338409341, 0.78590526226733, 0.7848920910413929, 0.7859032133871967, 0.7848941316515762, 0.7859011809969941, 0.784896155871366, 0.7858991648984472, 0.7848981638974463, 0.7858971648964472, 0.7849001559233665, 0.7858951807989883, 0.784902132139604, 0.7858932124171065, 0.7849040927336248, 0.7858912595648193, 0.7849060378899425, 0.7858893220590674, 0.7849079677901762, 0.7858873997196572, 0.7849098826131078, 0.7858854923692054, 0.784911782534736, 0.785883599833084, 0.7849136677283313, 0.7858817219393671, 0.7849155383644879, 0.7858798585187792, 0.7849173946111757, 0.7858780094046436, 0.7849192366337903, 0.7858761744328333, 0.784921064595202, 0.7858743534417224, 0.7849228786558042, 0.7858725462721385, 0.7849246789735603, 0.7858707527673162, 0.784926465704049, 0.7858689727728521, 0.7849282390005097, 0.78586720613666, 0.7849299990138858, 0.7858654527089279, 0.7849317458928682, 0.785863712342076, 0.7849334797839365, 0.7858619848907146, 0.7849352008314003, 0.7858602702116039, 0.7849369091774395, 0.7858585681636147, 0.7849386049621427, 0.7858568786076892, 0.7849402883235461, 0.7858552014068032, 0.7849419593976708, 0.7858535364259296, 0.7849436183185593, 0.7858518835320016, 0.7849452652183116, 0.7858502425938773, 0.7849469002271202, 0.7858486134823051, 0.7849485234733041, 0.78584699606989, 0.7849501350833429, 0.7858453902310599, 0.7849517351819089, 0.7858437958420338, 0.7849533238919002, 0.7858422127807891, 0.7849549013344714, 0.7858406409270312, 0.7849564676290648, 0.7858390801621628, 0.7849580228934403, 0.7858375303692539, 0.7849595672437051, 0.7858359914330127, 0.7849611007943426, 0.7858344632397574, 0.7849626236582403, 0.7858329456773874, 0.7849641359467184, 0.7858314386353568, 0.7849656377695559, 0.7858299420046466, 0.7849671292350177, 0.7858284556777394, 0.7849686104498804, 0.7858269795485928, 0.7849700815194582, 0.7858255135126148, 0.7849715425476276, 0.7858240574666386, 0.7849729936368514, 0.785822611308899, 0.7849744348882035, 0.7858211749390079, 0.7849758664013917, 0.7858197482579318, 0.784977288274781, 0.7858183311679685, 0.7849787006054161, 0.7858169235727254, 0.7849801034890433, 0.7858155253770969, 0.7849814970201328, 0.7858141364872435, 0.7849828812918985, 0.7858127568105707, 0.7849842563963205, 0.7858113862557085, 0.7849856224241643, 0.7858100247324907, 0.7849869794650011, 0.7858086721519362, 0.7849883276072274, 0.7858073284262281, 0.7849896669380843, 0.7858059934686965, 0.7849909975436762, 0.7858046671937983, 0.7849923195089892, 0.7858033495170995, 0.7849936329179092, 0.7858020403552577, 0.7849949378532399, 0.7858007396260038, 0.7849962343967198, 0.7857994472481254, 0.7849975226290397, 0.7857981631414496, 0.7849988026298589, 0.7857968872268262, 0.7850000744778222, 0.7857956194261118, 0.7850013382505756, 0.7857943596621537, 0.7850025940247823, 0.7857931078587744, 0.7850038418761383, 0.7857918639407561, 0.7850050818793871, 0.7857906278338255, 0.7850063141083353, 0.7857893994646392, 0.7850075386358667, 0.7857881787607691, 0.785008755533957, 0.7857869656506885, 0.7850099648736877, 0.7857857600637576, 0.7850111667252603, 0.78578456193021, 0.7850123611580092, 0.7857833711811395, 0.7850135482404159, 0.7857821877484866, 0.7850147280401213, 0.7857810115650256, 0.7850159006239391, 0.7857798425643516, 0.785017066057868, 0.7857786806808688, 0.7850182244071044, 0.7857775258497772, 0.7850193757360547, 0.7857763780070616, 0.7850205201083466, 0.7857752370894786, 0.7850216575868411, 0.7857741030345461, 0.7850227882336445, 0.7857729757805312, 0.7850239121101192, 0.7857718552664393, 0.7850250292768949, 0.785770741432003, 0.7850261397938794, 0.7857696342176712, 0.7850272437202696, 0.7857685335645986, 0.7850283411145617, 0.7857674394146356, 0.7850294320345618, 0.7857663517103171, 0.7850305165373958, 0.7857652703948536, 0.7850315946795198, 0.7857641954121205, 0.7850326665167291, 0.7857631267066487, 0.7850337321041688, 0.7857620642236153, 0.7850347914963426, 0.7857610079088335, 0.7850358447471222, 0.7857599577087442, 0.7850368919097565, 0.7857589135704063, 0.7850379330368806, 0.7857578754414882, 0.7850389681805249, 0.7857568432702593, 0.785039997392123, 0.7857558170055805, 0.7850410207225211, 0.7857547965968966, 0.7850420382219857, 0.7857537819942277, 0.7850430499402121, 0.785752773148161, 0.7850440559263325, 0.7857517700098428, 0.7850450562289241, 0.7857507725309707, 0.7850460508960165, 0.7857497806637858, 0.7850470399750998, 0.7857487943610647, 0.785048023513132, 0.7857478135761131, 0.7850490015565463, 0.785746838262757, 0.7850499741512588, 0.7857458683753367, 0.7850509413426751, 0.7857449038686987, 0.785051903175698, 0.7857439446981893, 0.7850528596947339, 0.7857429908196477, 0.7850538109437001, 0.7857420421893986, 0.7850547569660309, 0.7857410987642464, 0.785055697804685, 0.785740160501468, 0.7850566335021515, 0.7857392273588067, 0.7850575641004564, 0.7857382992944659, 0.7850584896411689, 0.7857373762671024, 0.7850594101654075, 0.7857364582358205, 0.7850603257138462, 0.7857355451601663, 0.7850612363267205, 0.7857346370001212, 0.7850621420438334, 0.7857337337160967, 0.7850630429045607, 0.7857328352689278, 0.7850639389478575, 0.7857319416198683, 0.7850648302122631, 0.7857310527305843, 0.785065716735907, 0.7857301685631495, 0.7850665985565137, 0.7857292890800393, 0.7850674757114092, 0.7857284142441257, 0.785068348237525, 0.7857275440186721, 0.7850692161714041, 0.7857266783673279, 0.7850700795492058, 0.7857258172541238, 0.7850709384067106, 0.7857249606434666, 0.7850717927793256, 0.7857241085001345, 0.7850726427020889, 0.7857232607892717, 0.7850734882096746, 0.7857224174763845, 0.7850743293363974, 0.7857215785273359, 0.7850751661162176, 0.7857207439083416, 0.7850759985827451, 0.7857199135859647, 0.7850768267692445, 0.7857190875271122, 0.7850776507086388, 0.7857182656990296, 0.7850784704335145, 0.7857174480692973, 0.7850792859761256, 0.7857166346058261, 0.7850800973683977, 0.7857158252768529, 0.7850809046419323, 0.7857150200509367, 0.7850817078280108, 0.7857142188969545, 0.7850825069575988, 0.7857134217840973, 0.78508330206135, 0.7857126286818661, 0.7850840931696097, 0.785711839560068, 0.7850848803124191, 0.7857110543888123, 0.7850856635195189, 0.785710273138507, 0.7850864428203536, 0.7857094957798552, 0.7850872182440742, 0.7857087222838505, 0.7850879898195425, 0.7857079526217744, 0.7850887575753348, 0.7857071867651926, 0.7850895215397448, 0.7857064246859508, 0.7850902817407874, 0.785705666356172, 0.7850910382062027, 0.7857049117482531, 0.7850917909634585, 0.7857041608348608, 0.7850925400397538, 0.7857034135889291, 0.7850932854620225, 0.7857026699836557, 0.7850940272569362, 0.7857019299924985, 0.7850947654509077, 0.7857011935891733, 0.785095500070094, 0.78570046074765, 0.7850962311403993, 0.7856997314421494, 0.785096958687478, 0.7856990056471408, 0.7850976827367379, 0.7856982833373385, 0.7850984033133432, 0.7856975644876991, 0.7850991204422174, 0.7856968490734189, 0.7850998341480457, 0.78569613706993, 0.7851005444552784, 0.7856954284528989, 0.7851012513881336, 0.7856947231982226, 0.7851019549705996, 0.7856940212820265, 0.7851026552264381, 0.7856933226806614, 0.7851033521791865, 0.7856926273707009, 0.7851040458521605, 0.7856919353289389, 0.7851047362684573, 0.785691246532387, 0.7851054234509576, 0.7856905609582718, 0.7851061074223279, 0.7856898785840325, 0.7851067882050238, 0.7856891993873185, 0.7851074658212918, 0.7856885233459867, 0.7851081402931719, 0.7856878504380994, 0.7851088116425001, 0.7856871806419218, 0.7851094798909108, 0.7856865139359195, 0.7851101450598388, 0.7856858502987565, 0.7851108071705218, 0.7856851897092927, 0.785111466244003, 0.7856845321465817, 0.7851121223011324, 0.7856838775898688, 0.7851127753625701, 0.7856832260185883, 0.7851134254487877, 0.785682577412362, 0.7851140725800709, 0.7856819317509965, 0.7851147167765212, 0.7856812890144815, 0.7851153580580582, 0.7856806491829875, 0.7851159964444218, 0.7856800122368639, 0.7851166319551738, 0.7856793781566369, 0.7851172646097004, 0.7856787469230075, 0.7851178944272139, 0.7856781185168498, 0.7851185214267546, 0.7856774929192085, 0.7851191456271929, 0.7856768701112977, 0.7851197670472309, 0.7856762500744985, 0.7851203857054045, 0.7856756327903573]\n"
          ]
        }
      ],
      "source": [
        "# Escriba acá su solución\n",
        "def pi_number(k):\n",
        "  return ((1/((2*k)+1))*((-1)**k))\n",
        "\n",
        "lista_term=[]\n",
        "\n",
        "k=int(input(\"ingrese k: \"))\n",
        "pi=1\n",
        "for x in range(1,k+1):\n",
        "  pi=pi_number(x)+pi\n",
        "  x+= 1\n",
        "  lista_term.append(pi)\n",
        "if k<0:\n",
        "  print(\"el numero es negativo ERROR\")\n",
        "\n",
        "else:\n",
        "  print('La aproximación de pi con',k,' terminos es', pi)\n",
        "  y=str(input(\"si quieres ver la lista de terminos escribe 'terminos': \"))\n",
        "if y=='terminos':\n",
        "  print(lista_term)\n",
        "\n",
        "\n",
        "\n",
        "\n"
      ]
    },
    {
      "cell_type": "code",
      "execution_count": 154,
      "metadata": {
        "id": "OEACMhp6BS2k",
        "colab": {
          "base_uri": "https://localhost:8080/",
          "height": 174
        },
        "outputId": "937f100b-d624-4274-d675-3a18731cd380"
      },
      "outputs": [
        {
          "output_type": "display_data",
          "data": {
            "text/plain": [
              "<IPython.core.display.HTML object>"
            ],
            "text/html": [
              "<style>\n",
              "  table { text-align: left; border-collapse: collapse; margin: 1em; caption-side: bottom; font-family: Sans-Serif; font-size: 12px}\n",
              "  caption { text-align: left; padding: 5px }\n",
              "  th, td { border: 2px solid #BFC9CA; padding: 5px }\n",
              "  th { background-color: #BFC9CA }\n",
              "  .passed { background-color: #76D7C4 }\n",
              "  .failed { background-color: #EC7063 }\n",
              "  .skipped { background-color: #EDBB99 }\n",
              "  .score { background-color: #7DCEA0 }\n",
              "  .results .points { display: none }\n",
              "  .results .message { display: block; font-size:smaller; color:#D35400 }\n",
              "  .results .note { display: block; font-size:smaller; font-decoration:italics }\n",
              "  .results .passed::before  { content: \"Passed\" } \n",
              "  .results .skipped::before  { content: \"Skipped\" } \n",
              "  .results .failed::before  { content: \"Failed\" } \n",
              "  .grade .passed  .message:empty::before { content:\"Passed\" }\n",
              "  .grade .failed  .message:empty::before { content:\"Failed\" }\n",
              "  .grade .skipped .message:empty::before { content:\"Skipped\" }   \n",
              "</style>\n",
              "<table class='results'>\n",
              "  <th class='test'>Test</th><th class='result'>Result</th></tr>\n",
              "<tr>\n",
              "  <td class='test'>\n",
              "    Prueba para valores negativos \n",
              "    <div class='message'>Need resolve the before assignement </div>\n",
              "  </td>\n",
              "  <td class='result skipped'></td>\n",
              "</tr>\n",
              "<tr>\n",
              "  <td class='test'>\n",
              "    Prueba para valores negativos \n",
              "    <div class='message'>Need resolve the before assignement </div>\n",
              "  </td>\n",
              "  <td class='result skipped'></td>\n",
              "</tr>  <tr><th class='score'>Total Points</th><th class='score'>-1</th></tr></table>\n"
            ]
          },
          "metadata": {}
        }
      ],
      "source": [
        " %run -i {path2}/test08.py"
      ]
    },
    {
      "cell_type": "code",
      "execution_count": null,
      "metadata": {
        "id": "s0s1-S4IzaxZ"
      },
      "outputs": [],
      "source": []
    }
  ],
  "metadata": {
    "colab": {
      "provenance": []
    },
    "kernelspec": {
      "display_name": "Python 3 (ipykernel)",
      "language": "python",
      "name": "python3"
    },
    "language_info": {
      "codemirror_mode": {
        "name": "ipython",
        "version": 3
      },
      "file_extension": ".py",
      "mimetype": "text/x-python",
      "name": "python",
      "nbconvert_exporter": "python",
      "pygments_lexer": "ipython3",
      "version": "3.9.6"
    }
  },
  "nbformat": 4,
  "nbformat_minor": 0
}