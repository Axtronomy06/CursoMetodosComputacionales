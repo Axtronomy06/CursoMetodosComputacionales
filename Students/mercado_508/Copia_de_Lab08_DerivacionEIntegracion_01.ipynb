{
  "nbformat": 4,
  "nbformat_minor": 0,
  "metadata": {
    "colab": {
      "provenance": []
    },
    "kernelspec": {
      "display_name": "Python 3",
      "language": "python",
      "name": "python3"
    },
    "language_info": {
      "codemirror_mode": {
        "name": "ipython",
        "version": 3
      },
      "file_extension": ".py",
      "mimetype": "text/x-python",
      "name": "python",
      "nbconvert_exporter": "python",
      "pygments_lexer": "ipython3",
      "version": "3.7.2"
    }
  },
  "cells": [
    {
      "cell_type": "markdown",
      "source": [
        "<a href=\"https://colab.research.google.com/github/hernansalinas/autogrades/blob/main/Laboratorios_Taller/Lab08_DerivacionEIntegracion_01.ipynb\" target=\"_parent\"><img src=\"https://colab.research.google.com/assets/colab-badge.svg\" alt=\"Open In Colab\"/></a>\n"
      ],
      "metadata": {
        "id": "mfuoQaq5CYZG"
      }
    },
    {
      "cell_type": "markdown",
      "metadata": {
        "id": "8q4c8oS-hpaE"
      },
      "source": [
        "\n",
        "#1.Parte 1\n",
        "1. En un cirtcuito con un voltaje de  $\\varepsilon(t)$ y una inductancia de L, la primera ley de kirshhoff nos da la siguiente relación\n",
        "\n",
        "\n",
        "\\begin{equation}\n",
        "\\varepsilon(t) = L\\frac{\\mathrm{d}i}{\\mathrm{d}t} + Ri\n",
        "\\end{equation}\n",
        "\n",
        "donde r, es la resistencia del ciruito, i es la corriente. Suponga que medimos la corriente con varios valores de t y obtenemos:\n",
        "\n",
        "t = 1.00, 1.01, 1.02, 1.03, 1.0\n",
        "\n",
        "i = 3.10, 3.12, 3.14, 3.18, 3.24\n",
        "\n",
        "\n",
        "donde t se mide en segundos, i se de en amper, la inductancia L es una constante de 0.98 herios, la resistencia es de 0.142 ohms. Aproxime el votaje  $\\varepsilon(t)$ en los valores t=1.00, 1.01, 1.02, 1.03, 1.04 ,  para ello realice lo siguiente:\n",
        "\n",
        "\n",
        "- Construya un data frame de pandas con los valores de tiempo y corriente\n",
        "- Emplee un metodo calcular la derivada numérica.\n",
        "\n",
        "\n",
        "\n"
      ]
    },
    {
      "cell_type": "code",
      "source": [
        "import pandas as pd\n",
        "\n",
        "# Datos\n",
        "t_values = [1.00, 1.01, 1.02, 1.03, 1.04]\n",
        "i_values = [3.10, 3.12, 3.14, 3.18, 3.24]\n",
        "L = 0.98  # Inductancia en henrios\n",
        "R = 0.142  # Resistencia en ohmios\n",
        "\n",
        "# Construir un DataFrame\n",
        "df = pd.DataFrame({'Tiempo (s)': t_values, 'Corriente (A)': i_values})\n",
        "\n",
        "# Calcular la diferencia en el tiempo\n",
        "df['Delta Tiempo (s)'] = df['Tiempo (s)'].diff()\n",
        "\n",
        "# Calcular la diferencia en la corriente\n",
        "df['Delta Corriente (A)'] = df['Corriente (A)'].diff()\n",
        "\n",
        "# Calcular la derivada numérica como dI/dt\n",
        "df['dI/dt'] = df['Delta Corriente (A)'] / df['Delta Tiempo (s)']\n",
        "\n",
        "# Aproximación del voltaje epsilon(t) usando la ecuación dada\n",
        "df['Voltaje Epsilon(t)'] = L * df['dI/dt'] + R * df['Corriente (A)']\n",
        "\n",
        "# Imprimir el DataFrame\n",
        "print(df)\n"
      ],
      "metadata": {
        "colab": {
          "base_uri": "https://localhost:8080/"
        },
        "id": "xPE7FleGuLq4",
        "outputId": "4208f32f-a189-48d2-fdc6-775e6f7111eb"
      },
      "execution_count": null,
      "outputs": [
        {
          "output_type": "stream",
          "name": "stdout",
          "text": [
            "   Tiempo (s)  Corriente (A)  Delta Tiempo (s)  Delta Corriente (A)  dI/dt  \\\n",
            "0        1.00           3.10               NaN                  NaN    NaN   \n",
            "1        1.01           3.12              0.01                 0.02    2.0   \n",
            "2        1.02           3.14              0.01                 0.02    2.0   \n",
            "3        1.03           3.18              0.01                 0.04    4.0   \n",
            "4        1.04           3.24              0.01                 0.06    6.0   \n",
            "\n",
            "   Voltaje Epsilon(t)  \n",
            "0                 NaN  \n",
            "1             2.40304  \n",
            "2             2.40588  \n",
            "3             4.37156  \n",
            "4             6.34008  \n"
          ]
        }
      ]
    },
    {
      "cell_type": "markdown",
      "metadata": {
        "id": "WV6dMBzK_odZ"
      },
      "source": [
        "\n",
        "\n",
        "\n",
        "# Parte 2\n",
        "\n",
        "1. Escribir en código Markdown la expresión para calcular una integral con la regla del trapecio.\n",
        "\n",
        "2. Escribir en código Markdown la expresión para calcular una integral con la regla del simpson\n",
        "\n",
        "\n",
        "3. Escribir en código Markdown la expresión para calcular una integral con el metodo de cuadratura.\n",
        "\n",
        "4. Calcular una aproximación con el metodo 1,2,3 de las siguientes integrales\n",
        "\n",
        "<!--\n",
        " $$\n",
        " \\int_0^\\pi e^{1-\\sqrt{x}}\\, dx\n",
        " $$  -->\n",
        "\n",
        "\n",
        "- $$\n",
        " \\int_0^{\\pi/2} \\frac{1}{\\sqrt{\\tan x}}\\, dx\n",
        " $$\n",
        "\n",
        "-\n",
        "$$\n",
        " \\int_{-\\infty}^{\\infty} \\frac{1}{1+x^2} \\, dx\n",
        " $$\n",
        "\n",
        "\n",
        "-\n",
        "\n",
        "$$\n",
        " \\int_{0}^{\\pi/4} \\int_{\\sin x}^{\\cos x} (2y\\sin x +\\cos^2 x)\\, dxdy\n",
        " $$\n",
        "\n",
        "<!--\n",
        "-\n",
        "$$\n",
        " \\int_{-\\infty}^{\\infty} \\frac{1}{1+x^2} \\, dx\n",
        " $$ -->\n",
        "\n",
        "<!--\n",
        "-\n",
        "$$\n",
        " \\int_{e}^{2e} \\frac{1}{\\ln x} \\, dx\n",
        " $$ -->\n",
        "\n",
        "\n",
        "garantizando  que el error sea menor a $\\varepsilon=1E-5$.  "
      ]
    },
    {
      "cell_type": "code",
      "source": [
        "import numpy as np\n",
        "\n",
        "def integral_trapz(func, a, b, N=10):\n",
        "    h = (b - a) / N\n",
        "    x = np.linspace(a, b, N + 1)\n",
        "    y = func(x)\n",
        "    integral = (h / 2) * (y[0] + 2 * np.sum(y[1:N]) + y[N])\n",
        "    return integral\n",
        "\n",
        "# Función 1\n",
        "def funcion1(x):\n",
        "    return 1 / np.sqrt(np.tan(x))\n",
        "\n",
        "a1 = 0.1\n",
        "b1 = np.pi/2\n",
        "\n",
        "# Función 2\n",
        "def funcion2(x):\n",
        "    return 1 / (1 + x**2)\n",
        "\n",
        "a2 = -1000\n",
        "b2 = 1000\n",
        "\n",
        "\n",
        "# Utiliza el método propio para calcular las integrales\n",
        "resultado_propio1 = integral_trapz(funcion1, a1, b1, N=10)\n",
        "resultado_propio2 = integral_trapz(funcion2, a2, b2, N=10000)\n",
        "\n",
        "\n",
        "\n",
        "print(\"Resultado con el método propio (Integral 1):\", resultado_propio1)\n",
        "print(\"Resultado con el método propio (Integral 2):\", resultado_propio2)\n",
        "\n"
      ],
      "metadata": {
        "colab": {
          "base_uri": "https://localhost:8080/"
        },
        "id": "sJWjTquLxp5W",
        "outputId": "f089f361-fada-4213-8817-cefe66b26abf"
      },
      "execution_count": null,
      "outputs": [
        {
          "output_type": "stream",
          "name": "stdout",
          "text": [
            "Resultado con el método propio (Integral 1): 1.6036231126700788\n",
            "Resultado con el método propio (Integral 2): 3.139592654243268\n"
          ]
        }
      ]
    },
    {
      "cell_type": "code",
      "source": [
        "import numpy as np\n",
        "\n",
        "# Función del integrando\n",
        "def integrand(x):\n",
        "    return np.cos(x)**2 * np.sin(x) + np.cos(x)**3 - np.sin(x)**2 * np.sin(x) - np.sin(x)**3\n",
        "\n",
        "# Límites de integración\n",
        "a = 0\n",
        "b = np.pi/4\n",
        "n = 1000  # Número de subintervalos\n",
        "\n",
        "# Paso de integración\n",
        "h = (b - a) / n\n",
        "\n",
        "# Calcular la suma de los trapecios\n",
        "result = 0.5 * (integrand(a) + integrand(b))\n",
        "for i in range(1, n):\n",
        "    result += integrand(a + i * h)\n",
        "\n",
        "# Multiplicar por el ancho del subintervalo\n",
        "result *= h\n",
        "\n",
        "print(\"El resultado de la integral es:\", result)\n"
      ],
      "metadata": {
        "colab": {
          "base_uri": "https://localhost:8080/"
        },
        "id": "y4lV0XNilig7",
        "outputId": "6a3d78b9-acfe-406a-d18d-caac67141c8e"
      },
      "execution_count": null,
      "outputs": [
        {
          "output_type": "stream",
          "name": "stdout",
          "text": [
            "El resultado de la integral es: 0.6499155896231456\n"
          ]
        }
      ]
    },
    {
      "cell_type": "code",
      "source": [
        "import numpy as np\n",
        "from scipy.integrate import quad\n",
        "\n",
        "# Función que define el integrando\n",
        "def integrand(x):\n",
        "    return 1 / np.sqrt(np.tan(x))\n",
        "\n",
        "# Límites de integración\n",
        "a = 0\n",
        "b = np.pi / 2\n",
        "\n",
        "# Calcular la integral utilizando quad\n",
        "result, _ = quad(integrand, a, b)\n",
        "\n",
        "print(\"El resultado de la integral es:\", result)\n"
      ],
      "metadata": {
        "colab": {
          "base_uri": "https://localhost:8080/"
        },
        "id": "xpHCNIVFt0iq",
        "outputId": "9db8baf1-0ed7-4823-b6c8-7efa5ca72311"
      },
      "execution_count": null,
      "outputs": [
        {
          "output_type": "stream",
          "name": "stdout",
          "text": [
            "El resultado de la integral es: 2.2214414690792026\n"
          ]
        }
      ]
    },
    {
      "cell_type": "code",
      "source": [
        "import numpy as np\n",
        "from scipy.integrate import quad\n",
        "\n",
        "# Función que define el integrando\n",
        "def integrand1(x):\n",
        "    return 1 / (1 + x**2)\n",
        "\n",
        "# Límites de integración finitos\n",
        "a = -1000  # Un valor lo suficientemente pequeño\n",
        "b = 1000    # Un valor lo suficientemente grande\n",
        "\n",
        "# Calcular la integral en el rango finito\n",
        "result, _ = quad(integrand, a, b)\n",
        "\n",
        "# Duplicar el resultado para considerar desde menos infinito hasta más infinito\n",
        "result *= 2\n",
        "\n",
        "print(\"El resultado de la integral es:\", result)\n"
      ],
      "metadata": {
        "colab": {
          "base_uri": "https://localhost:8080/"
        },
        "id": "h-raEt4owRp2",
        "outputId": "a0bb7011-fb9b-40f7-b022-34783c061599"
      },
      "execution_count": null,
      "outputs": [
        {
          "output_type": "stream",
          "name": "stdout",
          "text": [
            "El resultado de la integral es: 6.279185308512918\n"
          ]
        }
      ]
    },
    {
      "cell_type": "markdown",
      "source": [
        "5. Un péndulo físico en el regimen de pequeñas oscilaciones tiene un periodo de:\n",
        "\n",
        "\\begin{equation}\n",
        "P_0=2\\pi \\sqrt{\\frac{I_0}{mgb}}\n",
        "\\end{equation}\n",
        "\n",
        "Cuando las oscilaciones no son pequenas, podemos encontrar una expresión para el periodo como sigue:\n",
        "\n",
        "\n",
        "La energia de un péndulo físico viene dada por:\n",
        "\n",
        "\\begin{equation}\n",
        "E=\\frac{I_0\\omega^2}{2}+mgb(1-\\cos \\theta)\n",
        "\\end{equation}\n",
        "\n",
        "En el punto más alejado de su posición de equilibrio, su energía es solo potencial y viene dada por:\n",
        "\n",
        "\\begin{equation}\n",
        "Ep = mgb(1-\\cos \\theta),\n",
        "\\end{equation}\n",
        "\n",
        "Igualando ambas expresiones tenemos que:\n",
        "\n",
        "\\begin{equation}\n",
        "mgb(1-\\cos \\theta)=\\frac{I_0\\omega^2}{2}+mgb(1-\\cos \\theta)\n",
        "\\end{equation}\n",
        "\n",
        "Integrando la ecuación respecto a $\\theta$ y realizando la sustitución:\n",
        "\n",
        "$\\sin \\phi = \\frac{\\sin \\frac{\\theta}{2}}{\\sin \\frac{\\theta_0}{2}}$ y  $k = \\sin \\frac{\\theta_0}{2}$, se puede encontrar  que el periodo de oscilación, viene dado en terminos de  la integral elíptica completa de primera especie:\n",
        "\n",
        "\n",
        "\\begin{equation}\n",
        "P = \\frac{2P_0}{\\pi} \\int _0^{\\pi/2} \\frac{\\mathrm{d\\phi}}{\\sqrt{1-k^2\\sin^2\\phi}}\n",
        "\\end{equation}\n",
        "\n",
        "donde,  $P_0$ es el periodo de las oscilaciones pequeñas. La anterior integral.\n",
        "\n",
        "Determinar el periodo de oscilación de un péndulo. Para ello:\n",
        "\n",
        "1. Suponga los párametros iniciales del pendulo.\n",
        "2. Realice una buena planificación del código para calcular la integral.\n",
        "3. Emplee un  método de integracion numérico que conozca.\n",
        "4. Compruebe su solucion con el valor exact de la integral mostrado en el punto 5."
      ],
      "metadata": {
        "id": "L4uyWTgJKAfN"
      }
    },
    {
      "cell_type": "code",
      "source": [
        "import scipy.integrate as sc\n",
        "import matplotlib.pyplot as plt\n",
        "m = 20 #kg\n",
        "d = 1 #m\n",
        "I=(1/3)*(d**2)*m\n",
        "theta = 30 # Grados\n",
        "g = 9.8 #m/s**2"
      ],
      "metadata": {
        "id": "icfqIQTZhEYe"
      },
      "execution_count": null,
      "outputs": []
    },
    {
      "cell_type": "code",
      "source": [
        "j=lambda x,k:1/(1-(k*np.sin(x))**2)"
      ],
      "metadata": {
        "id": "qKB2vRSGhHv1"
      },
      "execution_count": null,
      "outputs": []
    },
    {
      "cell_type": "code",
      "source": [
        "def p0(I,m,g,d):\n",
        "  return 2*np.pi*(I/(m*g*d))**(1/2)"
      ],
      "metadata": {
        "id": "XpNQceachJCQ"
      },
      "execution_count": null,
      "outputs": []
    },
    {
      "cell_type": "code",
      "source": [
        "@np.vectorize\n",
        "def pendulo(I,m,g,d,theta):\n",
        "  k=np.sin(np.deg2rad(theta/2))\n",
        "  x=np.linspace(0,np.pi/2,1000)\n",
        "  y=j(x,k)\n",
        "  integral=sc.trapezoid(y,x)\n",
        "  P=(2*p0(I,m,g,d)/np.pi)*integral\n",
        "  return P"
      ],
      "metadata": {
        "id": "dM51_HSlhIq9"
      },
      "execution_count": null,
      "outputs": []
    },
    {
      "cell_type": "code",
      "source": [
        "theta =np.linspace(0.01,90,1000)"
      ],
      "metadata": {
        "id": "9bTCa50bhRNC"
      },
      "execution_count": null,
      "outputs": []
    },
    {
      "cell_type": "code",
      "source": [
        "error=abs(pendulo(I,m,g,d,theta)-p0(I,m,g,d))/pendulo(I,m,g,d,theta)"
      ],
      "metadata": {
        "id": "A_wJ871HhSYm"
      },
      "execution_count": null,
      "outputs": []
    },
    {
      "cell_type": "code",
      "source": [
        "plt.plot(theta,pendulo(I,m,g,d,theta),color=\"black\",label=\"Periodo de un pendulo\")\n",
        "plt.axhline(y=p0(I,m,g,d),color=\"red\",label=\"P constante\")\n",
        "plt.title(\"Periodo vs angulo\")\n",
        "plt.xlabel(\"Angulo (θ)\")\n",
        "plt.ylabel(\"Periodo (s)\")\n",
        "plt.grid()\n",
        "plt.legend()"
      ],
      "metadata": {
        "colab": {
          "base_uri": "https://localhost:8080/",
          "height": 489
        },
        "id": "Sn9XHSFJhUGs",
        "outputId": "04202c58-4154-4f84-b909-7ac66cd1812c"
      },
      "execution_count": null,
      "outputs": [
        {
          "output_type": "execute_result",
          "data": {
            "text/plain": [
              "<matplotlib.legend.Legend at 0x7bde83087430>"
            ]
          },
          "metadata": {},
          "execution_count": 31
        },
        {
          "output_type": "display_data",
          "data": {
            "text/plain": [
              "<Figure size 640x480 with 1 Axes>"
            ],
            "image/png": "[encoded data removed]"
          },
          "metadata": {}
        }
      ]
    },
    {
      "cell_type": "markdown",
      "metadata": {
        "id": "6hJGsmCkF6Wv"
      },
      "source": [
        "5. (No se resulve)The next  problems are examples of how elliptic integrals enter into realistic physics problems. It is straightforward to evaluate any integral numerically using the techniques of this chapter, but it may be difficult for you to  know if the answers you obtain are correct. One way to hone your integral\u0002evaluating skills is to compare your answers from quadrature to power series\n",
        "expressions, or to a polynomial approximations of know precision. To help you in this regard, we present here a polynomial approximation for an elliptic integral (Abramowitz and Stegun, 1972):\n",
        "\n",
        "\\begin{equation}\n",
        "K(m)=\\int_{0}^{\\pi/2} \\frac{\\mathrm{d\\phi}}{\\sqrt{1-m\\sin^2\\phi}}\n",
        "\\end{equation}\n",
        "\n",
        "\\begin{equation}\n",
        "\\approx a_0+a_1m_1+a_2m_2 - [ b_0+b_1m_1+b_2m_1^2]\\ln m_1 + \\epsilon(m)\n",
        "\\end{equation}\n",
        "\n",
        "\n",
        "\n",
        "$m_1 = 1-m$,\n",
        "\n",
        "$ 0 \\le m \\le1 $\n",
        "\n",
        "$\\epsilon(m)\\leq 3\\times 10^{-5}$\n",
        "\n",
        "\n",
        "\n",
        "$a_0 = 1.3862944$\n",
        "\n",
        "$b_0 = 0.5$\n",
        "\n",
        "$a_1 = 0.1119723$\n",
        "\n",
        "$b_1 = 0.1213478$\n",
        "\n",
        "$a_2 = 0.00725296$\n",
        "\n",
        "$b_2 = 0.0288729$\n",
        "\n",
        "6. Figure 5.7 shows a current loop of radius a carrying a current I. The point P\n",
        "is a distance r from the center of the loop with spherical coordinates (r, θ, φ).\n",
        "Jackson (1988) solves for the φ component of the vector potential at point P\n",
        "in terms of elliptic integrals:\n",
        "\n",
        "\\begin{equation}\n",
        "A_{\\phi}(r, \\theta)=\\frac{\\mu_0}{4\\pi}\\frac{4Ia}{\\sqrt{a^2+r^2+2ar\\sin \\theta}}\\left(\\frac{(2-k^2)K(k)-2E(k)}{k^2} \\right)\n",
        "\\end{equation}\n",
        "\n",
        "\n",
        "where\n",
        "\n",
        "\\begin{equation}\n",
        "K(k)=\\int_{0}^{\\pi/2} \\frac{\\mathrm{d\\phi}}{\\sqrt{1-k^2\\sin^2\\phi}}\n",
        "\\end{equation}\n",
        "\n",
        "\n",
        "\\begin{equation}\n",
        "E(k)=\\int_{0}^{\\pi/2} \\mathrm{d\\phi} \\sqrt{1-k^2\\sin^2\\phi}\n",
        "\\end{equation}\n",
        "\n",
        "\n",
        "\\begin{equation}\n",
        "k^2=\\frac{4ar\\sin\\theta}{a^2+r^2+2ar\\sin\\theta}\n",
        "\\end{equation}\n",
        "\n",
        "\n",
        "\n",
        "Here K(k) is a complete elliptic integral of the first kind and E(k) is a complete\n",
        "elliptic integral of the second kind. For a = 1, I = 3, and μ0∕4π = 1, compute\n",
        "and plot\n",
        "\n",
        "a) Aφ(r = 1.1, θ) vs. θ\n",
        "\n",
        "b) Aφ(r, θ = π∕3) vs. r\n",
        "\n",
        "\n",
        "\n",
        "<!-- 7. Suppose a body of mass m is traveling vertically upward starting at the surface of the earth. If all\n",
        "resistance except gravity is neglected, the escape velocity v is given by\n",
        "\n",
        "$$\n",
        "v^2=2gR\\int_1 ^\\infty z^{-2} dz,\n",
        "$$\n",
        "\n",
        "where z=x/R, R is the earth radius and g de gravity aceleration. Approximate the scape velocity -->"
      ]
    },
    {
      "cell_type": "markdown",
      "metadata": {
        "id": "dJVCeEtpX2sJ"
      },
      "source": [
        "\n",
        "7 (No se resulve)Write a double precision program to integrate an arbitrary function numerically using the trapezoid rule, the Simpson rule, and Gaussian quadrature. For our assumed problems there is an analytics answer:\n",
        "\n",
        "\\begin{equation}\n",
        "\\frac{\\mathrm{d}N(t)}{\\mathrm{d}t}=e^{-t}\n",
        "\\end{equation}\n",
        "\n",
        "\\begin{equation}\n",
        "N(1)=\\int_0^{1}e^{-t} dt=1-e^{-1}\n",
        "\\end{equation}\n",
        "\n",
        "7.2. Compute the relative error $\\epsilon=|numerical-exact|/exact$ in each case. Present your data in the tabular form\n",
        "with space or tabas seprating the field. Try N values of 2, 10, 20 , 40 , 80, 160\n",
        "\n",
        "| N  |$\\epsilon_T$ | $\\epsilon_S$ | $\\epsilon_G$ |\n",
        "|----|---------------|--------------|--------------|\n",
        "|   2  |...|...|...|\n",
        "|   10  |...|...|...|\n",
        "\n",
        "7.3. Make a log-log plot of relative errore versus. You should observe that\n",
        "$\\epsilon\\approx CN^{\\alpha}$, $\\mathrm{log} \\epsilon =\\alpha \\mathrm{log}N + \\mathrm{constant}$. This mean that a power-law dependence appears as a straight line on a log-log plot, and that if you use $\\log_{10}$, the the ordinate on your log-log plot will be the negative of the numver of decimal places of presicion in your calculation.\n",
        "7.4. Use your plot or table to stimate the power-law dependence of the error $\\epsilon$ on the number of points N and to determine the number of decimal places of presicion in your calculation. Do this for both the trapezoid and simpsons rules and for both the algolrithmic and round-off error regimes. (Note that if may be hard to reach the round-off error regime for the trapezoid rule becasue the aproximation ) error is so large"
      ]
    },
    {
      "cell_type": "markdown",
      "metadata": {
        "id": "hly3b-GsYi-a"
      },
      "source": []
    }
  ]
}