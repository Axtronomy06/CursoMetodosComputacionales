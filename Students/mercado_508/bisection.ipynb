{
  "nbformat": 4,
  "nbformat_minor": 0,
  "metadata": {
    "colab": {
      "provenance": []
    },
    "kernelspec": {
      "name": "python3",
      "display_name": "Python 3"
    },
    "language_info": {
      "name": "python"
    }
  },
  "cells": [
    {
      "cell_type": "code",
      "execution_count": null,
      "metadata": {
        "id": "tL6jwoUnqe_q"
      },
      "outputs": [],
      "source": [
        "import numpy as np\n",
        "\n",
        "f_x = lambda x: np.cos(x)-x**3\n",
        "f_p = lambda x: -1*np.sin(x)-(3*(x**2))\n",
        "x0  = 0.5"
      ]
    },
    {
      "cell_type": "code",
      "source": [
        "import scipy.optimize as optimize\n",
        "\n",
        "def bisection(a, b, f, tolerancia):\n",
        "    if f(a) * f(b) >= 0:\n",
        "        raise ValueError(\"La función f(a) y f(b) deben tener signos opuestos en el intervalo [a, b]\")\n",
        "\n",
        "    root = None\n",
        "    while (b - a) / 2.0 > tolerancia:\n",
        "        c = (a + b) / 2.0\n",
        "        if f(c) == 0.0:\n",
        "            return c\n",
        "        elif f(a) * f(c) < 0:\n",
        "            b = c\n",
        "        else:\n",
        "            a = c\n",
        "        root = (a + b) / 2.0\n",
        "\n",
        "    return root\n",
        "\n",
        "f = lambda x: x**3 - 2*x - 5\n",
        "a = 1\n",
        "b = 3\n",
        "tolerancia = 1e-6\n",
        "\n",
        "\n",
        "resultado_bisection = bisection(a, b, f, tolerancia)\n",
        "print(\"Resultado con bisección:\", resultado_bisection)\n",
        "\n",
        "resultado_scipy = optimize.root_scalar(f, bracket=[a, b], method='bisect', rtol=tolerancia)\n",
        "print(\"Resultado con SciPy:\", resultado_scipy.root)\n"
      ],
      "metadata": {
        "colab": {
          "base_uri": "https://localhost:8080/"
        },
        "id": "rjPFxNskwIOA",
        "outputId": "2cfa3003-2acb-4c12-82cf-1254bf4bd3b1"
      },
      "execution_count": null,
      "outputs": [
        {
          "output_type": "stream",
          "name": "stdout",
          "text": [
            "Resultado con bisección: 2.0945520401000977\n",
            "Resultado con SciPy: 2.094552993774414\n"
          ]
        }
      ]
    }
  ]
}