{
  "cells": [
    {
      "cell_type": "markdown",
      "metadata": {
        "id": "kKNBYkSAIO_-"
      },
      "source": [
        "<a href=\"https://colab.research.google.com/github/hernansalinas/autogrades/blob/main/Laboratorios_Taller/Lab02_v2_python_basico02.ipynb\" target=\"_parent\"><img src=\"https://colab.research.google.com/assets/colab-badge.svg\" alt=\"Open In Colab\"/></a>\n",
        "\n",
        "\n",
        "# Laboratorio 02\n",
        "### Métodos computacionales para físicos  y astrónomos\n",
        "### Universidad de Antioquia\n",
        "### Prof: Hernan D. Salinas Jiménez\n",
        "\n"
      ]
    },
    {
      "cell_type": "code",
      "execution_count": null,
      "metadata": {
        "colab": {
          "base_uri": "https://localhost:8080/"
        },
        "id": "TFmOxrpqWCiE",
        "outputId": "09333862-67a1-4324-c974-ad92d8be77b4"
      },
      "outputs": [
        {
          "output_type": "stream",
          "name": "stdout",
          "text": [
            "Cloning into 'autogradesMetodosComputacionales'...\n",
            "remote: Enumerating objects: 613, done.\u001b[K\n",
            "remote: Counting objects: 100% (229/229), done.\u001b[K\n",
            "remote: Compressing objects: 100% (151/151), done.\u001b[K\n",
            "remote: Total 613 (delta 128), reused 137 (delta 77), pack-reused 384\u001b[K\n",
            "Receiving objects: 100% (613/613), 38.60 MiB | 27.62 MiB/s, done.\n",
            "Resolving deltas: 100% (322/322), done.\n"
          ]
        }
      ],
      "source": [
        "# Ejecutar esta celda antes de cada laboratorio\n",
        "!git clone https://github.com/hernansalinas/autogradesMetodosComputacionales.git"
      ]
    },
    {
      "cell_type": "code",
      "execution_count": null,
      "metadata": {
        "id": "5tCaVJVzIRe3"
      },
      "outputs": [],
      "source": [
        "# Ejecutar esta celda antes de cada laboratorio\n",
        "path=\"autogradesMetodosComputacionales/Laboratorios_Taller/libs\"\n",
        "pathL=\"autogradesMetodosComputacionales/Laboratorios_Taller/libs/Lab_02\"\n",
        "%run -i {path}/libUnitTest.py"
      ]
    },
    {
      "cell_type": "markdown",
      "metadata": {
        "id": "Y94jQ_tzdU6l"
      },
      "source": [
        "### Teoria de números\n",
        "\n",
        "\n",
        "Diseñar un programa en el que entrado  un numero `a`  retorne una variable booleana True or false si cumple que es:\n",
        "\n",
        "2. [Números defectivo](https://es.wikipedia.org/wiki/Número_defectivo) : la suma de los divisores propios es menor que el número.\n",
        "\n",
        "  La rutina se deberá llamar números_defectivos\n",
        "\n",
        "\n",
        "\n",
        "3. [Números abundantes](https://es.wikipedia.org/wiki/Número_abundante): la suma de los divisores es mayor que el número.\n",
        "\n",
        "  La rutina se deberá llamar números_abundantes\n",
        "\n",
        "\n",
        "\n",
        "4. [Números semiperfectos](https://es.wikipedia.org/wiki/N%C3%BAmero_semiperfecto) la suma de todos o algunos de los divisores propios es igual al número.\n",
        "\n",
        "  La rutina se debera llamar numeros_semiperfectos\n",
        "\n",
        "5. [Números perfectos](https://es.wikipedia.org/wiki/N%C3%BAmero_perfecto) la suma de todos sus divisores propios, excepto el mismo numero, es igual al número.\n",
        "\n",
        "   La rutina se deberá llamar numeros_perfectos\n",
        "\n",
        "\n",
        "6. [Números primos](https://es.wikipedia.org/wiki/N%C3%BAmero_primo) el número es divisible unicamente por sí mismo y por 1.\n",
        "   La rutina se deberá llamar numeros_primos\n",
        "\n",
        "\n",
        "Problema no obligatorio:\n",
        "\n",
        "P1. Retornar los 30 primeros números de cada clase"
      ]
    },
    {
      "cell_type": "code",
      "source": [
        "def numeros_defectivos(a):\n",
        "  contador = 0\n",
        "  for i in range(1,a):\n",
        "    if a % i ==0:\n",
        "      contador += i\n",
        "  print(contador)\n",
        "  if  contador < a:\n",
        "\n",
        "     var =True\n",
        "  else:\n",
        "    var = False\n",
        "  return(var)\n",
        "\n",
        "b = numeros_defectivos(8)\n",
        "b"
      ],
      "metadata": {
        "id": "koAKperWCQfT",
        "colab": {
          "base_uri": "https://localhost:8080/"
        },
        "outputId": "c6b1c385-89ca-4812-8507-4a2aae29cd62"
      },
      "execution_count": null,
      "outputs": [
        {
          "output_type": "stream",
          "name": "stdout",
          "text": [
            "7\n"
          ]
        },
        {
          "output_type": "execute_result",
          "data": {
            "text/plain": [
              "True"
            ]
          },
          "metadata": {},
          "execution_count": 13
        }
      ]
    },
    {
      "cell_type": "code",
      "execution_count": null,
      "metadata": {
        "colab": {
          "base_uri": "https://localhost:8080/",
          "height": 267
        },
        "id": "XSyDVlnzi9KL",
        "outputId": "c6df8674-43f3-48cb-85f2-87e1eb95803d"
      },
      "outputs": [
        {
          "output_type": "stream",
          "name": "stdout",
          "text": [
            "7\n",
            "8\n",
            "6\n"
          ]
        },
        {
          "output_type": "display_data",
          "data": {
            "text/plain": [
              "<IPython.core.display.HTML object>"
            ],
            "text/html": [
              "<style>\n",
              "  table { text-align: left; border-collapse: collapse; margin: 1em; caption-side: bottom; font-family: Sans-Serif; font-size: 12px}\n",
              "  caption { text-align: left; padding: 5px }\n",
              "  th, td { border: 2px solid #BFC9CA; padding: 5px }\n",
              "  th { background-color: #BFC9CA }\n",
              "  .passed { background-color: #76D7C4 }\n",
              "  .failed { background-color: #EC7063 }\n",
              "  .skipped { background-color: #EDBB99 }\n",
              "  .score { background-color: #7DCEA0 }\n",
              "  .results .points { display: none }\n",
              "  .results .message { display: block; font-size:smaller; color:#D35400 }\n",
              "  .results .note { display: block; font-size:smaller; font-decoration:italics }\n",
              "  .results .passed::before  { content: \"Passed\" } \n",
              "  .results .skipped::before  { content: \"Skipped\" } \n",
              "  .results .failed::before  { content: \"Failed\" } \n",
              "  .grade .passed  .message:empty::before { content:\"Passed\" }\n",
              "  .grade .failed  .message:empty::before { content:\"Failed\" }\n",
              "  .grade .skipped .message:empty::before { content:\"Skipped\" }   \n",
              "</style>\n",
              "<table class='results'>\n",
              "  <th class='test'>Test</th><th class='result'>Result</th></tr>\n",
              "<tr>\n",
              "  <td class='test'>\n",
              "    Números defectivos, la variable debe ser booleana  \n",
              "    <div class='message'>Done</div>\n",
              "  </td>\n",
              "  <td class='result passed'></td>\n",
              "</tr>\n",
              "<tr>\n",
              "  <td class='test'>\n",
              "    Comprobando si el número 49 es defectivo   \n",
              "    <div class='message'>Done</div>\n",
              "  </td>\n",
              "  <td class='result passed'></td>\n",
              "</tr>\n",
              "<tr>\n",
              "  <td class='test'>\n",
              "    Comprobando si el 6 es un número es defectivo   \n",
              "    <div class='message'>Done</div>\n",
              "  </td>\n",
              "  <td class='result passed'></td>\n",
              "</tr>  <tr><th class='score'>Total Points</th><th class='score'>3</th></tr></table>\n"
            ]
          },
          "metadata": {}
        }
      ],
      "source": [
        "%run -i {pathL}/test02.py\n"
      ]
    },
    {
      "cell_type": "code",
      "source": [
        "def numeros_abundantes(a):\n",
        "  contador = 0\n",
        "  for i in range(1,a):\n",
        "    if a % i ==0:\n",
        "      contador += i\n",
        "  print(contador)\n",
        "  if  contador > a:\n",
        "\n",
        "     var =True\n",
        "  else:\n",
        "    var = False\n",
        "  return(var)\n",
        "\n",
        "b = numeros_abundantes(8)\n",
        "b"
      ],
      "metadata": {
        "colab": {
          "base_uri": "https://localhost:8080/"
        },
        "id": "aGUwG4bgJDtK",
        "outputId": "f39c9a7e-7d9f-4619-ad9d-c0a51c194e3c"
      },
      "execution_count": null,
      "outputs": [
        {
          "output_type": "stream",
          "name": "stdout",
          "text": [
            "7\n"
          ]
        },
        {
          "output_type": "execute_result",
          "data": {
            "text/plain": [
              "False"
            ]
          },
          "metadata": {},
          "execution_count": 15
        }
      ]
    },
    {
      "cell_type": "code",
      "execution_count": null,
      "metadata": {
        "colab": {
          "base_uri": "https://localhost:8080/",
          "height": 267
        },
        "id": "DfHfIk0DkQev",
        "outputId": "1194191f-e795-4e62-fe29-ec80a0401d2d"
      },
      "outputs": [
        {
          "output_type": "stream",
          "name": "stdout",
          "text": [
            "7\n",
            "136\n",
            "0\n"
          ]
        },
        {
          "output_type": "display_data",
          "data": {
            "text/plain": [
              "<IPython.core.display.HTML object>"
            ],
            "text/html": [
              "<style>\n",
              "  table { text-align: left; border-collapse: collapse; margin: 1em; caption-side: bottom; font-family: Sans-Serif; font-size: 12px}\n",
              "  caption { text-align: left; padding: 5px }\n",
              "  th, td { border: 2px solid #BFC9CA; padding: 5px }\n",
              "  th { background-color: #BFC9CA }\n",
              "  .passed { background-color: #76D7C4 }\n",
              "  .failed { background-color: #EC7063 }\n",
              "  .skipped { background-color: #EDBB99 }\n",
              "  .score { background-color: #7DCEA0 }\n",
              "  .results .points { display: none }\n",
              "  .results .message { display: block; font-size:smaller; color:#D35400 }\n",
              "  .results .note { display: block; font-size:smaller; font-decoration:italics }\n",
              "  .results .passed::before  { content: \"Passed\" } \n",
              "  .results .skipped::before  { content: \"Skipped\" } \n",
              "  .results .failed::before  { content: \"Failed\" } \n",
              "  .grade .passed  .message:empty::before { content:\"Passed\" }\n",
              "  .grade .failed  .message:empty::before { content:\"Failed\" }\n",
              "  .grade .skipped .message:empty::before { content:\"Skipped\" }   \n",
              "</style>\n",
              "<table class='results'>\n",
              "  <th class='test'>Test</th><th class='result'>Result</th></tr>\n",
              "<tr>\n",
              "  <td class='test'>\n",
              "    Números abundantes, la variable debe ser booleana  \n",
              "    <div class='message'>Done</div>\n",
              "  </td>\n",
              "  <td class='result passed'></td>\n",
              "</tr>\n",
              "<tr>\n",
              "  <td class='test'>\n",
              "    Comprobando si el número 112 es abundantes   \n",
              "    <div class='message'>Done</div>\n",
              "  </td>\n",
              "  <td class='result passed'></td>\n",
              "</tr>\n",
              "<tr>\n",
              "  <td class='test'>\n",
              "    Comprobando si el 1 es un número  abundante   \n",
              "    <div class='message'>Done</div>\n",
              "  </td>\n",
              "  <td class='result passed'></td>\n",
              "</tr>  <tr><th class='score'>Total Points</th><th class='score'>3</th></tr></table>\n"
            ]
          },
          "metadata": {}
        }
      ],
      "source": [
        "%run -i {pathL}/test03.py"
      ]
    },
    {
      "cell_type": "code",
      "source": [
        "def es_semiperfecto(numero):\n",
        "    divisores = []\n",
        "    for i in range(1, numero):\n",
        "        if numero % i == 0:\n",
        "            divisores.append(i)\n",
        "    suma_divisores = sum(divisores)\n",
        "    for factor in range(2, numero + 1):\n",
        "        if suma_divisores == numero * factor:\n",
        "            return True\n",
        "    return False\n",
        "\n",
        "numero = int(input(\"Ingrese un número entero positivo: \"))\n",
        "if es_semiperfecto(numero):\n",
        "    print(numero, \"es semiperfecto.\")\n",
        "else:\n",
        "    print(numero, \"no es semiperfecto.\")\n"
      ],
      "metadata": {
        "colab": {
          "base_uri": "https://localhost:8080/"
        },
        "id": "w3pSsY7PVzka",
        "outputId": "4abe75e8-cb3f-45bf-bf1c-e240c4adfcc6"
      },
      "execution_count": null,
      "outputs": [
        {
          "output_type": "stream",
          "name": "stdout",
          "text": [
            "Ingrese un número entero positivo: 29\n",
            "29 no es semiperfecto.\n"
          ]
        }
      ]
    },
    {
      "cell_type": "code",
      "execution_count": null,
      "metadata": {
        "id": "MJzLOXxHqKrz",
        "colab": {
          "base_uri": "https://localhost:8080/"
        },
        "outputId": "daa75872-32d4-4b4e-d487-a924c75f7d71"
      },
      "outputs": [
        {
          "output_type": "stream",
          "name": "stdout",
          "text": [
            "La función no ha sido definda o el numero de argumento no es el adecuado\n"
          ]
        }
      ],
      "source": [
        "%run -i {pathL}/test04.py"
      ]
    },
    {
      "cell_type": "code",
      "source": [
        "num = int(input(\"n=\"))\n",
        "divisores= []\n",
        "for i in range( int(num / 2 + 1)):\n",
        "  if num % (i+1)==0:\n",
        "    divisores.append(i+1)\n",
        "n = len(divisores)\n",
        "semiperfecto = False\n",
        "i = 1\n",
        "while (not semiperfecto and i < 2**n):\n",
        "  suma = 0\n",
        "  for j in range(n):\n",
        "    if 2**j & i>0:\n",
        "      suma = suma + divisores[j]\n",
        "      semiperfecto = (suma == num)\n",
        "      i = i+1\n",
        "if semiperfecto:\n",
        "  print(\"si es\")\n",
        "else:\n",
        "  print(\"no lo es\")\n"
      ],
      "metadata": {
        "colab": {
          "base_uri": "https://localhost:8080/"
        },
        "id": "vHsC1YJ68Y99",
        "outputId": "d497e967-91bd-45fc-9e95-0b8f996cae52"
      },
      "execution_count": null,
      "outputs": [
        {
          "output_type": "stream",
          "name": "stdout",
          "text": [
            "n=20\n",
            "no lo es\n"
          ]
        }
      ]
    },
    {
      "cell_type": "code",
      "source": [
        "def numeros_perfectos(a):\n",
        "  contador = 0\n",
        "  for i in range(1,a):\n",
        "    if a % i ==0:\n",
        "      contador += i\n",
        "  print(contador)\n",
        "  if  contador == a:\n",
        "\n",
        "     var =True\n",
        "  else:\n",
        "    var = False\n",
        "  return(var)\n",
        "\n",
        "b = numeros_perfectos(28)\n",
        "b"
      ],
      "metadata": {
        "colab": {
          "base_uri": "https://localhost:8080/"
        },
        "id": "b0NgIgvvR6h0",
        "outputId": "8da39901-7530-4aae-a6d3-8fb8c0f58b7e"
      },
      "execution_count": null,
      "outputs": [
        {
          "output_type": "stream",
          "name": "stdout",
          "text": [
            "28\n"
          ]
        },
        {
          "output_type": "execute_result",
          "data": {
            "text/plain": [
              "True"
            ]
          },
          "metadata": {},
          "execution_count": 20
        }
      ]
    },
    {
      "cell_type": "code",
      "execution_count": null,
      "metadata": {
        "id": "m9bNF9I6qMnD",
        "colab": {
          "base_uri": "https://localhost:8080/",
          "height": 264
        },
        "outputId": "ad812ec5-a08a-4907-b79c-1491df86f88e"
      },
      "outputs": [
        {
          "output_type": "stream",
          "name": "stdout",
          "text": [
            "7\n",
            "496\n",
            "1\n"
          ]
        },
        {
          "output_type": "display_data",
          "data": {
            "text/plain": [
              "<IPython.core.display.HTML object>"
            ],
            "text/html": [
              "<style>\n",
              "  table { text-align: left; border-collapse: collapse; margin: 1em; caption-side: bottom; font-family: Sans-Serif; font-size: 12px}\n",
              "  caption { text-align: left; padding: 5px }\n",
              "  th, td { border: 2px solid #BFC9CA; padding: 5px }\n",
              "  th { background-color: #BFC9CA }\n",
              "  .passed { background-color: #76D7C4 }\n",
              "  .failed { background-color: #EC7063 }\n",
              "  .skipped { background-color: #EDBB99 }\n",
              "  .score { background-color: #7DCEA0 }\n",
              "  .results .points { display: none }\n",
              "  .results .message { display: block; font-size:smaller; color:#D35400 }\n",
              "  .results .note { display: block; font-size:smaller; font-decoration:italics }\n",
              "  .results .passed::before  { content: \"Passed\" } \n",
              "  .results .skipped::before  { content: \"Skipped\" } \n",
              "  .results .failed::before  { content: \"Failed\" } \n",
              "  .grade .passed  .message:empty::before { content:\"Passed\" }\n",
              "  .grade .failed  .message:empty::before { content:\"Failed\" }\n",
              "  .grade .skipped .message:empty::before { content:\"Skipped\" }   \n",
              "</style>\n",
              "<table class='results'>\n",
              "  <th class='test'>Test</th><th class='result'>Result</th></tr>\n",
              "<tr>\n",
              "  <td class='test'>\n",
              "    Números perfectos, la variable debe ser booleana  \n",
              "    <div class='message'>Done</div>\n",
              "  </td>\n",
              "  <td class='result passed'></td>\n",
              "</tr>\n",
              "<tr>\n",
              "  <td class='test'>\n",
              "    Comprobando si el número 496 es perfecto   \n",
              "    <div class='message'>Done</div>\n",
              "  </td>\n",
              "  <td class='result passed'></td>\n",
              "</tr>\n",
              "<tr>\n",
              "  <td class='test'>\n",
              "    Comprobando si el 13 es un número  perfecto   \n",
              "    <div class='message'>Done</div>\n",
              "  </td>\n",
              "  <td class='result passed'></td>\n",
              "</tr>  <tr><th class='score'>Total Points</th><th class='score'>3</th></tr></table>\n"
            ]
          },
          "metadata": {}
        }
      ],
      "source": [
        "%run -i {pathL}/test05.py"
      ]
    },
    {
      "cell_type": "code",
      "source": [
        "def numeros_primos(numero):\n",
        "    if numero <= 1:\n",
        "        return False\n",
        "    if numero <= 3:\n",
        "        return True\n",
        "    if numero % 2 == 0 or numero % 3 == 0:\n",
        "        return False\n",
        "\n",
        "    i = 5\n",
        "    while i * i <= numero:\n",
        "        if numero % i == 0 or numero % (i + 2) == 0:\n",
        "            return False\n",
        "        i += 6\n",
        "\n",
        "    return True\n",
        "b = numeros_primos(7)\n",
        "b"
      ],
      "metadata": {
        "colab": {
          "base_uri": "https://localhost:8080/"
        },
        "id": "nzXv4kqbWu4s",
        "outputId": "e8687ada-bcd0-4004-8594-5f4cea1f2a4f"
      },
      "execution_count": null,
      "outputs": [
        {
          "output_type": "execute_result",
          "data": {
            "text/plain": [
              "True"
            ]
          },
          "metadata": {},
          "execution_count": 39
        }
      ]
    },
    {
      "cell_type": "code",
      "execution_count": null,
      "metadata": {
        "id": "4uRbgtG8qN25",
        "colab": {
          "base_uri": "https://localhost:8080/",
          "height": 212
        },
        "outputId": "55b616d7-bf5e-4f2d-c951-30168aa77c84"
      },
      "outputs": [
        {
          "output_type": "display_data",
          "data": {
            "text/plain": [
              "<IPython.core.display.HTML object>"
            ],
            "text/html": [
              "<style>\n",
              "  table { text-align: left; border-collapse: collapse; margin: 1em; caption-side: bottom; font-family: Sans-Serif; font-size: 12px}\n",
              "  caption { text-align: left; padding: 5px }\n",
              "  th, td { border: 2px solid #BFC9CA; padding: 5px }\n",
              "  th { background-color: #BFC9CA }\n",
              "  .passed { background-color: #76D7C4 }\n",
              "  .failed { background-color: #EC7063 }\n",
              "  .skipped { background-color: #EDBB99 }\n",
              "  .score { background-color: #7DCEA0 }\n",
              "  .results .points { display: none }\n",
              "  .results .message { display: block; font-size:smaller; color:#D35400 }\n",
              "  .results .note { display: block; font-size:smaller; font-decoration:italics }\n",
              "  .results .passed::before  { content: \"Passed\" } \n",
              "  .results .skipped::before  { content: \"Skipped\" } \n",
              "  .results .failed::before  { content: \"Failed\" } \n",
              "  .grade .passed  .message:empty::before { content:\"Passed\" }\n",
              "  .grade .failed  .message:empty::before { content:\"Failed\" }\n",
              "  .grade .skipped .message:empty::before { content:\"Skipped\" }   \n",
              "</style>\n",
              "<table class='results'>\n",
              "  <th class='test'>Test</th><th class='result'>Result</th></tr>\n",
              "<tr>\n",
              "  <td class='test'>\n",
              "    Números primos, la variable debe ser booleana  \n",
              "    <div class='message'>Done</div>\n",
              "  </td>\n",
              "  <td class='result passed'></td>\n",
              "</tr>\n",
              "<tr>\n",
              "  <td class='test'>\n",
              "    Comprobando si el número 13 es primos   \n",
              "    <div class='message'>Done</div>\n",
              "  </td>\n",
              "  <td class='result passed'></td>\n",
              "</tr>\n",
              "<tr>\n",
              "  <td class='test'>\n",
              "    Comprobando si el 24 es un número  primos   \n",
              "    <div class='message'>Done</div>\n",
              "  </td>\n",
              "  <td class='result passed'></td>\n",
              "</tr>  <tr><th class='score'>Total Points</th><th class='score'>3</th></tr></table>\n"
            ]
          },
          "metadata": {}
        }
      ],
      "source": [
        "%run -i {pathL}/test06.py"
      ]
    },
    {
      "cell_type": "markdown",
      "metadata": {
        "id": "WXOT_ssoJh8x"
      },
      "source": [
        "\n",
        "7. Diseñar un programa en el que entrado dos números `a`  y `b` retorne una variable booleana **True** o **false**.\n",
        "\n",
        "  [Números amigos](https://es.wikipedia.org/wiki/N%C3%BAmeros_amigos) `a` y `b` tales que a es la suma de los divisores propios de `b` y viceversa.\n",
        "    La rutina se debera llamar numeros_amigos\n",
        "\n",
        "\n",
        "\n",
        "\n",
        "P2. Retornar los 10 primeros pares de numeros perfectos, semiperfectos, amigos\n",
        "\n"
      ]
    },
    {
      "cell_type": "code",
      "source": [
        "def suma_divisores_propios(numero):\n",
        "    suma = 0\n",
        "    for i in range(1, numero):\n",
        "        if numero % i == 0:\n",
        "            suma += i\n",
        "    return suma\n",
        "\n",
        "def numeros_amigos(a, b):\n",
        "    suma_a = suma_divisores_propios(a)\n",
        "    suma_b = suma_divisores_propios(b)\n",
        "    return suma_a == b and suma_b == a\n",
        "\n",
        "num1 = int(input(\"Ingresa el primer número: \"))\n",
        "num2 = int(input(\"Ingresa el segundo número: \"))\n",
        "\n",
        "son_amigos = numeros_amigos(num1, num2)\n",
        "\n",
        "if son_amigos:\n",
        "    print(f\"{num1} y {num2} son números amigos.\")\n",
        "else:\n",
        "    print(f\"{num1} y {num2} no son números amigos.\")\n"
      ],
      "metadata": {
        "colab": {
          "base_uri": "https://localhost:8080/"
        },
        "id": "c3WaqLf0baBn",
        "outputId": "b8548b7d-8d37-4970-93dc-c5b427cd1c38"
      },
      "execution_count": null,
      "outputs": [
        {
          "output_type": "stream",
          "name": "stdout",
          "text": [
            "Ingresa el primer número: 220\n",
            "Ingresa el segundo número: 284\n",
            "220 y 284 son números amigos.\n"
          ]
        }
      ]
    },
    {
      "cell_type": "code",
      "execution_count": null,
      "metadata": {
        "colab": {
          "base_uri": "https://localhost:8080/",
          "height": 212
        },
        "id": "VKsxuvsll5gm",
        "outputId": "2727c57b-d80b-4e49-cb80-b50ab0969f37"
      },
      "outputs": [
        {
          "output_type": "display_data",
          "data": {
            "text/plain": [
              "<IPython.core.display.HTML object>"
            ],
            "text/html": [
              "<style>\n",
              "  table { text-align: left; border-collapse: collapse; margin: 1em; caption-side: bottom; font-family: Sans-Serif; font-size: 12px}\n",
              "  caption { text-align: left; padding: 5px }\n",
              "  th, td { border: 2px solid #BFC9CA; padding: 5px }\n",
              "  th { background-color: #BFC9CA }\n",
              "  .passed { background-color: #76D7C4 }\n",
              "  .failed { background-color: #EC7063 }\n",
              "  .skipped { background-color: #EDBB99 }\n",
              "  .score { background-color: #7DCEA0 }\n",
              "  .results .points { display: none }\n",
              "  .results .message { display: block; font-size:smaller; color:#D35400 }\n",
              "  .results .note { display: block; font-size:smaller; font-decoration:italics }\n",
              "  .results .passed::before  { content: \"Passed\" } \n",
              "  .results .skipped::before  { content: \"Skipped\" } \n",
              "  .results .failed::before  { content: \"Failed\" } \n",
              "  .grade .passed  .message:empty::before { content:\"Passed\" }\n",
              "  .grade .failed  .message:empty::before { content:\"Failed\" }\n",
              "  .grade .skipped .message:empty::before { content:\"Skipped\" }   \n",
              "</style>\n",
              "<table class='results'>\n",
              "  <th class='test'>Test</th><th class='result'>Result</th></tr>\n",
              "<tr>\n",
              "  <td class='test'>\n",
              "    Números amigos, la variable debe ser booleana  \n",
              "    <div class='message'>Done</div>\n",
              "  </td>\n",
              "  <td class='result passed'></td>\n",
              "</tr>\n",
              "<tr>\n",
              "  <td class='test'>\n",
              "    Comprobando si los números (220, 284) son amigos   \n",
              "    <div class='message'>Done</div>\n",
              "  </td>\n",
              "  <td class='result passed'></td>\n",
              "</tr>\n",
              "<tr>\n",
              "  <td class='test'>\n",
              "    Comprobando si  (62, 50) no es un número amigo   \n",
              "    <div class='message'>Done</div>\n",
              "  </td>\n",
              "  <td class='result passed'></td>\n",
              "</tr>  <tr><th class='score'>Total Points</th><th class='score'>3</th></tr></table>\n"
            ]
          },
          "metadata": {}
        }
      ],
      "source": [
        "%run -i {pathL}/test07.py"
      ]
    },
    {
      "cell_type": "markdown",
      "metadata": {
        "id": "9VZnP6L3A-n7"
      },
      "source": [
        "8 Construir un programa en el que  entrado un arreglo de números se  ordenen de forma ascendente, Ver algoritmo\n",
        "[Quicksort](https://es.wikipedia.org/wiki/Quicksort).\n",
        "\n",
        "\n",
        "```python\n",
        "\n",
        "\n",
        "<<< v = [22, 32, 42, 12, 22, 31, 41, 11, 12, 232, 24, 12, 22]\n",
        "<<< def quicksort(v):\n",
        "\n",
        "<<<     return v\n",
        "<<< w = print(quicksort(v))\n",
        "<<< [11, 12, 12, 12, 22, 22, 22, 24, 31, 32, 41, 42, 232]\n",
        "\n",
        "```\n",
        "\n",
        "Sólo para comprobar tu código,  puedes hacer uso del comando sort de python.\n",
        "```python\n",
        "<<< b = [22, 32, 42, 12, 22, 31, 41, 11, 12, 232, 24, 12, 22]\n",
        "\n",
        "<<< print(b.sort())\n",
        "\n",
        "<<< [11, 12, 12, 12, 22, 22, 22, 24, 31, 32, 41, 42, 232]\n",
        "```"
      ]
    },
    {
      "cell_type": "code",
      "source": [
        "def quicksort(arr):\n",
        "    if len(arr) <= 1:\n",
        "        return arr\n",
        "    pivot = arr[len(arr) // 2]\n",
        "    left, middle, right = [], [], []\n",
        "\n",
        "    for x in arr:\n",
        "        if x < pivot:\n",
        "            left.append(x)\n",
        "        elif x == pivot:\n",
        "            middle.append(x)\n",
        "        else:\n",
        "            right.append(x)\n",
        "\n",
        "    return quicksort(left) + middle + quicksort(right)\n",
        "\n",
        "# Arreglo de números desordenados\n",
        "numeros = [22, 32, 42, 12, 22, 31, 41, 11, 12, 232, 24, 12, 22]\n",
        "\n",
        "# Ordenar usando Quicksort\n",
        "numeros_ordenados = quicksort(numeros)\n",
        "\n",
        "print(\"Arreglo original:\", numeros)\n",
        "print(\"Arreglo ordenado:\", numeros_ordenados)\n",
        "\n",
        "# Verificar usando el método sort de Python\n",
        "numeros.sort()\n",
        "print(\"Arreglo verificado:\", numeros)\n"
      ],
      "metadata": {
        "colab": {
          "base_uri": "https://localhost:8080/"
        },
        "id": "ekQF4laChAfs",
        "outputId": "c16ef7b3-9357-44b8-dad3-cabd47a24bb1"
      },
      "execution_count": null,
      "outputs": [
        {
          "output_type": "stream",
          "name": "stdout",
          "text": [
            "Arreglo original: [22, 32, 42, 12, 22, 31, 41, 11, 12, 232, 24, 12, 22]\n",
            "Arreglo ordenado: [11, 12, 12, 12, 22, 22, 22, 24, 31, 32, 41, 42, 232]\n",
            "Arreglo verificado: [11, 12, 12, 12, 22, 22, 22, 24, 31, 32, 41, 42, 232]\n"
          ]
        }
      ]
    }
  ],
  "metadata": {
    "colab": {
      "provenance": []
    },
    "kernelspec": {
      "display_name": "Python 3 (ipykernel)",
      "language": "python",
      "name": "python3"
    },
    "language_info": {
      "codemirror_mode": {
        "name": "ipython",
        "version": 3
      },
      "file_extension": ".py",
      "mimetype": "text/x-python",
      "name": "python",
      "nbconvert_exporter": "python",
      "pygments_lexer": "ipython3",
      "version": "3.10.9"
    }
  },
  "nbformat": 4,
  "nbformat_minor": 0
}