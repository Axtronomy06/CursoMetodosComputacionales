{
 "cells": [
  {
   "cell_type": "code",
   "execution_count": 2,
   "metadata": {
    "colab": {
     "base_uri": "https://localhost:8080/"
    },
    "id": "w9gCfhVQWRN4",
    "outputId": "8126ff27-92a9-4c28-cadd-b2e5d7daadff"
   },
   "outputs": [
    {
     "name": "stdout",
     "output_type": "stream",
     "text": [
      "Resultado con Newton-Raphson: 2.094551481698199\n",
      "Resultado con SciPy: 2.0945514815423265\n"
     ]
    }
   ],
   "source": [
    "import scipy.optimize as optimize\n",
    "\n",
    "def newton(x0, f, fp, epsilon):\n",
    "    x = x0\n",
    "    while abs(f(x)) > epsilon:\n",
    "        x = x - f(x) / fp(x)\n",
    "    return x\n",
    "\n",
    "\n",
    "f = lambda x: x**3 - 2*x - 5\n",
    "fp = lambda x: 3*x**2 - 2\n",
    "\n",
    "x0 = 2.0\n",
    "epsilon = 1e-6\n",
    "\n",
    "\n",
    "resultado_newton = newton(x0, f, fp, epsilon)\n",
    "print(\"Resultado con Newton-Raphson:\", resultado_newton)\n",
    "\n",
    "resultado_scipy = optimize.newton(f, x0, fprime=fp, tol=epsilon)\n",
    "print(\"Resultado con SciPy:\", resultado_scipy)"
   ]
  }
 ],
 "metadata": {
  "colab": {
   "provenance": []
  },
  "kernelspec": {
   "display_name": "Python 3 (ipykernel)",
   "language": "python",
   "name": "python3"
  },
  "language_info": {
   "codemirror_mode": {
    "name": "ipython",
    "version": 3
   },
   "file_extension": ".py",
   "mimetype": "text/x-python",
   "name": "python",
   "nbconvert_exporter": "python",
   "pygments_lexer": "ipython3",
   "version": "3.10.9"
  }
 },
 "nbformat": 4,
 "nbformat_minor": 1
}
