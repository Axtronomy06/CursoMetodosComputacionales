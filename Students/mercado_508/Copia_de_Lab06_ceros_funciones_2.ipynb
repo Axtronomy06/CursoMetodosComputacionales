{
  "nbformat": 4,
  "nbformat_minor": 0,
  "metadata": {
    "colab": {
      "provenance": []
    },
    "kernelspec": {
      "name": "python3",
      "display_name": "Python 3"
    },
    "language_info": {
      "name": "python"
    }
  },
  "cells": [
    {
      "cell_type": "markdown",
      "source": [
        "<a href=\"https://colab.research.google.com/github/hernansalinas/autogrades/blob/main/Laboratorios_Taller/Lab06_ceros_funciones_2.ipynb\" target=\"_parent\"><img src=\"https://colab.research.google.com/assets/colab-badge.svg\" alt=\"Open In Colab\"/></a>\n"
      ],
      "metadata": {
        "id": "MtGAQvEOje-U"
      }
    },
    {
      "cell_type": "markdown",
      "source": [
        "# Codigo Markdown:\n",
        "Los numeras a, b, c y d tiene que ver con escritura en código Markdown y comandos de latex:\n",
        "\n",
        "a. Escriba en pseudocódigo los pasos para aplicar el método de la bisección.\n",
        "\n",
        "b. Realice la deducción del metodo de Newton-Rapshon, se recomienda escribir las ecuaciones en formato latex, para ello puede emplear las siguientes expresiones:\n",
        "\n",
        "c. ¿Cuál es la diferencia del metodo de Newton-Rapson con respecto al de la secante?\n",
        "\n",
        "\n",
        "d. Escriba en pseudocódigo los pasos para aplicar el método Punto Fijo.\n",
        "\n",
        "\n",
        "\n",
        "Comentarios para escribir en latex\n",
        "\n",
        "*   Entre simbolos \\$ \\$, puedes porner expresiones  puede poner expresiones, ejemplo:  $y = a_0 x^2 + b_1$  \n",
        "\n",
        "*  Las funciones pueden ser definidas entre \\\\$,  poniendo un \\\\, antes de la funcion ejemplo: \\\\$ \\\\sinx \\\\$,   asi las funciones quedarian de esta manera :\n",
        "\n",
        "> $\\sin x$, $\\tan x$, $\\sec x$, $\\sqrt{a} $, $\\frac{a}{b}, \\frac{df}{dt}$\n",
        "\n",
        "* Puedes generar tambien escribir ecuaciones con la instrucción:\n",
        "\n",
        "  \\\\begin{equation}\n",
        "\n",
        "    \\\\sin x  \n",
        "  \n",
        "  \\\\end{equation}\n",
        "\n",
        "Ejemplo:\n",
        "\n",
        "  \\begin{equation}\n",
        "    \\frac{df}{dx} = \\sin x  \n",
        "  \\end{equation}"
      ],
      "metadata": {
        "id": "NOSrCaJMicAZ"
      }
    },
    {
      "cell_type": "markdown",
      "source": [
        "a. Pseudocódigo para aplicar el método de la bisección:\n",
        "\n",
        "```\n",
        "Función Bisección(f, a, b, tol, max_iter):\n",
        "    Si f(a) * f(b) >= 0:\n",
        "        Lanzar error (\"Los extremos del intervalo no tienen signos opuestos\")\n",
        "    \n",
        "    Para cada iteración desde 1 hasta max_iter:\n",
        "        c = (a + b) / 2\n",
        "        Si f(c) ≈ 0 o (b - a) / 2 < tol:\n",
        "            Devolver c como aproximación de la raíz\n",
        "        Si f(a) * f(c) < 0:\n",
        "            b = c\n",
        "        Sino:\n",
        "            a = c\n",
        "    \n",
        "    Lanzar error (\"El método no convergió después de max_iter iteraciones\")\n",
        "\n",
        "```"
      ],
      "metadata": {
        "id": "04fIqbW-uGS_"
      }
    },
    {
      "cell_type": "markdown",
      "source": [
        "b. Deducción del método de Newton-Raphson en formato LaTeX:\n",
        "\n",
        "La deducción del método de Newton-Raphson se basa en la aproximación de una función $f(x)$ alrededor de un punto $x_0$ mediante una expansión de la serie de Taylor de primer orden:\n",
        "\n",
        "\\begin{equation}\n",
        "f(x) \\approx f(x_0) + f'(x_0)(x - x_0)\n",
        "\\end{equation}\n",
        "\n",
        "Donde:\n",
        "\n",
        "$f(x)$ es la función que queremos encontrar su raíz.\n",
        "$f'(x_0)$ es la derivada de $f(x)$ evaluada en $x_0$.\n",
        "$x_0$ es una aproximación inicial de la raíz.\n",
        "Para encontrar la raíz, igualamos la aproximación a cero y resolvemos para $x$:\n",
        "\n",
        "\\begin{equation}\n",
        "0 = f(x_0) + f'(x_0)(x - x_0)\n",
        "\\end{equation}\n",
        "\n",
        "Despejando $x$:\n",
        "\n",
        "\\begin{equation}\n",
        "x = x_0 - \\frac{f(x_0)}{f'(x_0)}\n",
        "\\end{equation}\n",
        "\n",
        "Este es el paso iterativo del método de Newton-Raphson:\n",
        "\n",
        "\\begin{equation}\n",
        "x_{n+1} = x_n - \\frac{f(x_n)}{f'(x_n)}\n",
        "\\end{equation}\n",
        "\n",
        "c. Diferencia entre el método de Newton-Raphson y el método de la secante:\n",
        "\n",
        "La principal diferencia entre el método de Newton-Raphson y el método de la secante radica en cómo se calcula la pendiente (derivada) de la función en cada iteración:\n",
        "\n",
        "Método de Newton-Raphson: Utiliza la derivada exacta de la función $f(x)$ en cada iteración. Es más eficiente y suele converger más rápido cuando se tiene acceso a la derivada.\n",
        "\n",
        "Método de la secante: Aproxima la derivada numéricamente utilizando dos puntos cercanos. No requiere el cálculo explícito de la derivada y es útil cuando no se conoce la derivada o es costoso calcularla. Sin embargo, puede converger más lentamente que Newton-Raphson."
      ],
      "metadata": {
        "id": "HlvTnpnvumA4"
      }
    },
    {
      "cell_type": "markdown",
      "source": [
        "d. Pseudocódigo para aplicar el método del Punto Fijo:\n",
        "```\n",
        "Función PuntoFijo(g, x0, tol, max_iter):\n",
        "    Para cada iteración desde 1 hasta max_iter:\n",
        "        x1 = g(x0)  # Calcula la siguiente aproximación\n",
        "        Si |x1 - x0| < tol:\n",
        "            Devolver x1 como aproximación de la raíz\n",
        "        x0 = x1  # Actualiza la aproximación anterior\n",
        "    \n",
        "    Lanzar error (\"El método no convergió después de max_iter iteraciones\")\n",
        "\n",
        "```"
      ],
      "metadata": {
        "id": "ZiYHQBQvuv5Z"
      }
    },
    {
      "cell_type": "markdown",
      "source": [
        "# 2. Ceros de funciones\n",
        "*Encontrar* los ceros de $e^{x}-2= \\cos(e^x-2)$ por diferentes metodos, bisection, newton-rapshon, punto fijo."
      ],
      "metadata": {
        "id": "FkuqkMyBuWAl"
      }
    },
    {
      "cell_type": "code",
      "source": [
        "import numpy as np\n",
        "from scipy.optimize import bisect, newton, fsolve, fixed_point\n",
        "\n",
        "# Paso 2: Definir la función f(x)\n",
        "def f(x):\n",
        "    return np.exp(x) - 2 - np.cos(np.exp(x) - 2)\n",
        "\n",
        "# Paso 3: Utilizar el método de la bisección\n",
        "raiz_biseccion = bisect(f, -5, 5)  # Intervalo inicial (-5, 5)\n",
        "\n",
        "# Paso 4: Utilizar el método de Newton-Raphson con un límite de iteraciones más alto\n",
        "raiz_newton = newton(f, 0, maxiter=1000)  # Valor inicial: 0 y maxiter=1000\n",
        "\n",
        "# Paso 5: Utilizar el método del punto fijo\n",
        "def g(x):\n",
        "    return np.log(2 + np.cos(x))\n",
        "raiz_punto_fijo = fixed_point(g, x0=0)  # Valor inicial: 0\n",
        "\n",
        "# Paso 6: Utilizar el método fsolve\n",
        "raiz_fsolve = fsolve(f, 0)  # Valor inicial: 0\n",
        "\n",
        "# Mostrar las raíces encontradas\n",
        "print(\"Raíz encontrada por bisección:\", raiz_biseccion)\n",
        "print(\"Raíz encontrada por Newton-Raphson:\", raiz_newton)\n",
        "print(\"Raíz encontrada por el método del punto fijo:\", raiz_punto_fijo)\n",
        "print(\"Raíz encontrada por fsolve:\", raiz_fsolve)\n"
      ],
      "metadata": {
        "colab": {
          "base_uri": "https://localhost:8080/"
        },
        "id": "kra3_RZcr_jP",
        "outputId": "e3b4e3b2-0e59-49f9-9be8-12ce4b024101"
      },
      "execution_count": 15,
      "outputs": [
        {
          "output_type": "stream",
          "name": "stdout",
          "text": [
            "Raíz encontrada por bisección: 1.0076239716579494\n",
            "Raíz encontrada por Newton-Raphson: 1.0076239716581346\n",
            "Raíz encontrada por el método del punto fijo: 0.9488147555769959\n",
            "Raíz encontrada por fsolve: [1.00762397]\n"
          ]
        }
      ]
    },
    {
      "cell_type": "markdown",
      "source": [
        "# 3. Movimiento de proyectiles en presencia de viento.\n",
        "\n",
        "Supongamos que un proyectil es lanzado desde el origen con una rapidez $v=vo( \\cos \\theta , \\sin \\theta $. Supongamos además que el efecto del viento sobre el proyectil es el de una fuerza proporcional a la velocidad relativa entre el viento y el proyectil. Teniendo presente que si u es la velocidad del viento y $\\alpha$ el ángulo que hace dirección de esta velocidad con el eje x, se puede entrontrar las siguientes ecuaciones diferenciales, asociada al estado de movimiento del [proyectil](https://iopscience.iop.org/article/10.1088/0143-0807/36/2/025016/meta):\n",
        "\n",
        "\n",
        "\\begin{equation}\n",
        "m\\frac{dv_x}{dt} = -mb(v_x-u\\cos \\alpha )\n",
        "\\end{equation}\n",
        "\n",
        "\\begin{equation}\n",
        "m\\frac{dv_y}{dt} = -mg-mb(v_x-u\\sin \\alpha ),\n",
        "\\end{equation}\n",
        "\n",
        "donde b es el párametro de rozamiento. La soluciones a las ecuaciones anteriores vienen dadas por:\n",
        "\n",
        "Posición en x\n",
        "\\begin{equation}\n",
        "x=(u\\cos \\alpha) t + \\frac{1}{b} (v_0\\cos \\theta_0 -u \\cos\\alpha)(1-\\mathrm{exp}(-bt))\n",
        "\\end{equation}\n",
        "\n",
        "Posicion en y\n",
        "\\begin{equation}\n",
        "y= \\frac{1}{b}\\left(\\frac{g}{b}+v_0 \\sin \\theta_0 -u\\sin\\alpha \\right)(1-\\mathrm{exp}(-bt))-\\left( \\frac{g}{b}-u\\sin\\alpha\\right)t\n",
        "\\end{equation}\n",
        "\n",
        "Ver imagen:  http://www.sc.ehu.es/sbweb/fisica3/fluidos/viento/parabolico.html\n",
        "\n",
        "\n",
        "0. Establezca las siguientes condiciones inciales.\n",
        "\n",
        "```\n",
        "#Parametros iniciales\n",
        "\n",
        "v0 = 60 #Velocidad en m/s\n",
        "alpha = np.pi #Angulo del viento\n",
        "theta = np.deg2rad(45) #Angulo de lanzamiento\n",
        "u = v0/2             #rapidez del viento\n",
        "b = 0.05             #Parametro de friccion\n",
        "g = 9.8                #Aceleracion de la gravedad m/s2\n",
        "\n",
        "Params = (alpha, v0, b, u,g)  #Parametros en tupla.\n",
        "\n",
        "```\n",
        "\n",
        "\n",
        "\n",
        "1. Defina dos funciones, una para x y otra para y.\n",
        "\n",
        "```\n",
        "\n",
        "#Posicion en x\n",
        "def pos_x(t, theta, alpha, v0, b, u,g):\n",
        "  x = #escriba aca la expresión\n",
        "  return x\n",
        "\n",
        "#Posicion en y\n",
        "def pos_y(t, theta, alpha, v0, b, u,g):\n",
        "\n",
        "\n",
        "  y = #escriba aca la expresión\n",
        "  return y\n",
        "\n",
        "```\n",
        "\n",
        "2. Construya un diccionario con las claves \"X\", \"Y\", \"Tiempo\"\n",
        "\n",
        "3. Con el diccionario construya un data frame de pandas llamado df con los nombres de columnas \"X\", \"Y\", \"Tiempo\"  https://pandas.pydata.org/docs/reference/api/pandas.DataFrame.from_dict.html. Defina 1000 regitros para el intervalo de tiempo elegido.\n",
        "\n",
        "\n",
        "4. Realice un gráfico de x como función del tiempo, de y como función del tiempo y la trayectoria de la partícula (df[\"X\"], df[\"tiempo\"], df[\"Y\"]).\n",
        "\n",
        "\n",
        "5. Determine el alcance máximo de la partícula, para ello tome  la solucion teórica con $y=0$, solucione numéricamente la ecuación para t y remplace este valor en la ecuación para x. Resuelvalo para $\\theta=45^{o}$.  \n",
        "\n",
        "6. Construya una  grafica del alcance máximo R como función de $\\theta$, varie $\\theta$  entre 10 y 80 grados cada 5 grados.\n",
        "\n"
      ],
      "metadata": {
        "id": "PyMA_VHSvmzb"
      }
    },
    {
      "cell_type": "code",
      "source": [
        "import numpy as np\n",
        "import matplotlib.pyplot as plt\n",
        "from scipy.optimize import newton\n",
        "import pandas as pd\n",
        "\n",
        "# Constantes\n",
        "v0 = 60.0  # Velocidad en m/s (se añade el decimal para indicar que es un valor float)\n",
        "alpha = np.pi  # Ángulo del viento\n",
        "theta = np.deg2rad(45)  # Ángulo de lanzamiento\n",
        "u = 0.5 * v0  # Rapidez del viento (se corrige la fórmula)\n",
        "b = 0.05  # Parámetro de fricción\n",
        "g = 9.8  # Aceleración de la gravedad m/s^2\n",
        "\n",
        "# Función de posición en x\n",
        "def pos_x(t, theta, alpha, v0, b, u, g):\n",
        "    x = (u * np.cos(alpha) * t) + ((1 / b) * (v0 * np.cos(theta) - u * np.cos(alpha))) * (1 - np.exp(-b * t))\n",
        "    return x\n",
        "\n",
        "# Función de posición en y\n",
        "def pos_y(t, theta, alpha, v0, b, u, g):\n",
        "    y = (1 / b) * (g / b + v0 * np.sin(theta) - u * np.sin(alpha)) * (1 - np.exp(-b * t)) - ((g / b) - (u * np.sin(alpha))) * t\n",
        "    return y\n",
        "\n",
        "# Función para calcular la trayectoria\n",
        "def trayectoria(pos_y, x0, Params):\n",
        "    tv = newton(pos_y, x0, args=Params)\n",
        "    tiempo = np.linspace(0, tv, 100)\n",
        "    x = pos_x(tiempo, *Params)\n",
        "    y = pos_y(tiempo, *Params)\n",
        "    dicc = {\"x\": x, \"y\": y, \"tiempo\": tiempo}\n",
        "    df = pd.DataFrame(dicc)\n",
        "    return df\n",
        "\n",
        "Params = (theta, alpha, v0, b, u, g)\n",
        "df = trayectoria(pos_y, 12, Params)\n",
        "plt.plot(df.x, df.y)\n",
        "plt.xlabel('Posición en x (m)')\n",
        "plt.ylabel('Posición en y (m)')\n",
        "plt.title('Trayectoria de un proyectil')\n",
        "plt.grid(True)\n",
        "plt.show()\n"
      ],
      "metadata": {
        "colab": {
          "base_uri": "https://localhost:8080/",
          "height": 472
        },
        "id": "ztVzsB4-VqYm",
        "outputId": "20ca4ff4-b30d-42a3-9d8c-1fb509f45585"
      },
      "execution_count": 2,
      "outputs": [
        {
          "output_type": "display_data",
          "data": {
            "text/plain": [
              "<Figure size 640x480 with 1 Axes>"
            ],
            "image/png": "[encoded data removed]"
          },
          "metadata": {}
        }
      ]
    },
    {
      "cell_type": "code",
      "source": [
        "# Función para calcular el alcance máximo\n",
        "def alcance_maximo(theta, alpha, v0, b, u, g):\n",
        "    # Resuelve y=0 para encontrar el tiempo de vuelo total\n",
        "    tiempo_vuelo = newton(pos_y, 0, args=(theta, alpha, v0, b, u, g))\n",
        "    # Calcula el alcance máximo\n",
        "    R = pos_x(tiempo_vuelo, theta, alpha, v0, b, u, g)\n",
        "    return R\n",
        "\n",
        "theta = np.deg2rad(45)  # Ángulo de 45 grados\n",
        "R_maximo = alcance_maximo(theta, alpha, v0, b, u, g)\n",
        "print(f\"Alcance máximo para θ = 45 grados: {R_maximo} metros\")\n"
      ],
      "metadata": {
        "colab": {
          "base_uri": "https://localhost:8080/"
        },
        "id": "tqgE7dm9f_W8",
        "outputId": "7f22ec9d-1a35-4c14-c680-c3c4b80ecb18"
      },
      "execution_count": 4,
      "outputs": [
        {
          "output_type": "stream",
          "name": "stdout",
          "text": [
            "Alcance máximo para θ = 45 grados: 0.0 metros\n"
          ]
        }
      ]
    },
    {
      "cell_type": "code",
      "source": [
        "\n",
        "def equation_to_solve(t, *params):\n",
        "    alpha, v0, b, u, g, theta = params\n",
        "    return pos_y(t, theta, alpha, v0, b, u, g)\n",
        "# Calcular el tiempo en el que y llega a cero\n",
        "tiempo_cero = newton(equation_to_solve, 1.0, args=Params)\n",
        "\n",
        "# Calcular el alcance máximo usando el tiempo en el que y llega a cero\n",
        "alcance_maximo = pos_x(tiempo_cero, *Params)\n",
        "\n",
        "# Mostrar el alcance máximo\n",
        "print(f\"El alcance máximo para theta={np.rad2deg(theta)} grados es {alcance_maximo} metros.\")\n"
      ],
      "metadata": {
        "colab": {
          "base_uri": "https://localhost:8080/"
        },
        "id": "EOyAUDzxiHlj",
        "outputId": "0bbf53fe-8a55-414d-8f7f-224d6d6b9b12"
      },
      "execution_count": 13,
      "outputs": [
        {
          "output_type": "stream",
          "name": "stdout",
          "text": [
            "El alcance máximo para theta=45.0 grados es 1.2245666828537437e-16 metros.\n"
          ]
        }
      ]
    },
    {
      "cell_type": "code",
      "source": [
        "import numpy as np\n",
        "import matplotlib.pyplot as plt\n",
        "from scipy.optimize import newton\n",
        "import pandas as pd\n",
        "\n",
        "# Constantes\n",
        "v0 = 60.0  # Velocidad en m/s\n",
        "alpha = np.pi  # Ángulo del viento\n",
        "u = 0.5 * v0  # Rapidez del viento\n",
        "b = 0.05  # Parámetro de fricción\n",
        "g = 9.8  # Aceleración de la gravedad m/s^2\n",
        "\n",
        "# Lista para almacenar los alcances máximos\n",
        "alcances_maximos = []\n",
        "\n",
        "# Ángulos de 10 a 80 grados con incrementos de 5 grados\n",
        "angulos = np.deg2rad(np.arange(10, 85, 5))\n",
        "\n",
        "for theta in angulos:\n",
        "    Params = (theta, alpha, v0, b, u, g)\n",
        "\n",
        "    # Función para calcular el alcance máximo R\n",
        "    def alcance_maximo(t):\n",
        "        return pos_x(t, *Params)\n",
        "\n",
        "    # Encuentra el tiempo en el que y llega a cero\n",
        "    tiempo_cero = newton(lambda t: pos_y(t, *Params), 1.0)\n",
        "\n",
        "    # Calcula el alcance máximo usando el tiempo en el que y llega a cero\n",
        "    R = alcance_maximo(tiempo_cero)\n",
        "\n",
        "    alcances_maximos.append(R)\n",
        "\n",
        "# Gráfica del alcance máximo R como función del ángulo θ\n",
        "plt.figure(figsize=(10, 6))\n",
        "plt.plot(np.rad2deg(angulos), alcances_maximos)\n",
        "plt.xlabel('Ángulo θ (grados)')\n",
        "plt.ylabel('Alcance Máximo R (m)')\n",
        "plt.title('Alcance Máximo vs Ángulo de Lanzamiento')\n",
        "plt.grid(True)\n",
        "plt.show()\n"
      ],
      "metadata": {
        "colab": {
          "base_uri": "https://localhost:8080/",
          "height": 557
        },
        "id": "YisTM53JwAsS",
        "outputId": "97b6de2e-3adf-4790-c468-74aa2e043827"
      },
      "execution_count": 16,
      "outputs": [
        {
          "output_type": "display_data",
          "data": {
            "text/plain": [
              "<Figure size 1000x600 with 1 Axes>"
            ],
            "image/png": "[encoded data removed]"
          },
          "metadata": {}
        }
      ]
    },
    {
      "cell_type": "markdown",
      "source": [
        "# 4. Fixed point methods.\n",
        "\n",
        "When a new planet is discovered, there are different methods to estimate its physical properties. Many times is only possible to estimate either the planet mass or the planet radius and the other property has to be predicted through computer modelling.\n",
        "\n",
        "If one has the planet mass, a very rough way to estimate its radius is to assume certain composition (mean density) and a homogeneous distribution (a very bad assumption!). For example, for the planet [Gliese 832c](http://es.wikipedia.org/wiki/Gliese_832_c) with a mass $M= 5.40 M_{\\oplus}$, if we assume an earth-like composition, i.e. $\\bar \\rho_{\\oplus} = 5520\\ kg/m^3$, we obtain:\n",
        "\n",
        "$$R_{g832c} = \\left( \\frac{3 M_{g832c}}{ 4 \\pi \\bar\\rho_{\\oplus} } \\right)^{1/3} \\approx 1.75 R_{\\oplus}$$\n",
        "\n",
        "That would be the planet radius if the composition where exactly equal to earth's.\n",
        "\n",
        "A more realistic approach is assuming an internal one-layer density profile like:\n",
        "\n",
        "$$\\rho(r) = \\rho_0 \\exp\\left( -\\frac{r}{L} \\right)$$\n",
        "\n",
        "where $\\rho_0$ is the density at planet centre and $L$ is a characteristic lenght depending on the composition. From numerical models of planet interiors, the estimated parameters for a planet of are $M= 5.40 M_{\\oplus}$ are approximately $\\rho_0 = 18000\\ kg/m^3$ and $L = 6500\\ km$.\n",
        "\n",
        "Integrating over the planet volume, we obtain the total mass as\n",
        "\n",
        "$$M = 4\\pi \\int_0^R \\rho(r)r^2dr$$\n",
        "\n",
        "This is a function of the mass in terms of the planet radius.\n",
        "\n",
        "Solving the equation $M(R) = M_{g832c}$ it would be possible to find a more realistic planet radius. However when using numerical models, it is not possible to approach the solution from the left side as a negative mass makes no sense."
      ],
      "metadata": {
        "id": "aBFA4p0hjS5m"
      }
    },
    {
      "cell_type": "code",
      "source": [
        "import numpy as np\n",
        "from scipy.optimize import fsolve\n",
        "\n",
        "# Constantes\n",
        "M_g832c = 5.40  # Masa del planeta Gliese 832c en masas terrestres (M_earth)\n",
        "rho_0 = 18000  # Densidad en el centro del planeta en kg/m^3\n",
        "L = 6_500_000  # Longitud característica en metros\n",
        "\n",
        "# Función para resolver la ecuación M(R) = M_g832c\n",
        "def equation(R):\n",
        "    return 4 * np.pi * rho_0 * L**3 * (1 - (1 + R/L + (R/L)**2) * np.exp(-R/L)) - M_g832c\n",
        "\n",
        "# Encontrar la solución numérica para R con una suposición inicial más grande\n",
        "R_solution = fsolve(equation, 5_000_000)  # Comenzar con una suposición inicial de 5,000,000 metros\n",
        "\n",
        "# Convertir R_solution de metros a radios terrestres\n",
        "R_solution_earth_radii = R_solution[0] / 6_371_000  # Radio de la Tierra en metros\n",
        "\n",
        "print(f\"Radio realista de Gliese 832c: {R_solution_earth_radii:.2f} radios terrestres\")\n"
      ],
      "metadata": {
        "colab": {
          "base_uri": "https://localhost:8080/"
        },
        "id": "Zr7gVU_vkxms",
        "outputId": "056e0777-c663-4e9b-a768-2743d28b0a38"
      },
      "execution_count": 30,
      "outputs": [
        {
          "output_type": "stream",
          "name": "stdout",
          "text": [
            "Radio realista de Gliese 832c: 1.83 radios terrestres\n"
          ]
        }
      ]
    },
    {
      "cell_type": "markdown",
      "source": [
        "\n",
        "# 5. Construir un fractal empleando el metodo de Newton-Raphson,\n",
        "(Reproducir código y entender)\n",
        "\\begin{equation}\n",
        "z_{n+1} = z_n -a \\frac{f(z)}{f'(z)}\n",
        "\\end{equation}\n",
        "\n",
        "\n",
        "\n",
        "\\begin{equation}\n",
        "f'(z) = \\frac{ f(z+h)+f(z) }{h}\n",
        "\\end{equation}\n",
        "\n",
        "\n",
        "\n",
        "```\n",
        "import numpy as np\n",
        "import matplotlib.pylab as plt\n",
        "from PIL import Image\n",
        "\n",
        "Npx_X = 80 #Numero de pixeles en x\n",
        "Npx_Y = 80 #Numero de pixeles en y\n",
        "\n",
        "image = Image.new(\"RGB\", (Npx_X, Npx_Y)) #Creacion de la imagen inicial\n",
        "\n",
        "npx = np.arange(0, Npx_X)\n",
        "npy = np.arange(0, Npx_Y)\n",
        "\n",
        "xmin = -1\n",
        "xmax = 1\n",
        "ymin = -1\n",
        "ymax = 1\n",
        "#Transformación al plano complejo en un rectangulo (xmin, xmax), (ymin, ymax)\n",
        "zx = npx * (xmax - xmin) / (Npx_X - 1)   + xmin\n",
        "zy = npy * (ymax-ymin) / (Npx_Y - 1) + ymin\n",
        "\n",
        "#Definicion  la funcion y las derivada\n",
        "def f(z):\n",
        "  return z**3 - 1\n",
        "\n",
        "def fp(z):\n",
        "  return 3*z**2\n",
        "\n",
        "h = 1E-4\n",
        "def fpn(z, h):\n",
        "  return (f(z+h)-f(z))/h\n",
        "  \n",
        "\n",
        "a = 0.2\n",
        "Niteraciones = 120\n",
        "eps = 1E-8\n",
        "\n",
        "x = - 1\n",
        "for zx_ in zx:\n",
        "  x = x + 1\n",
        "  y = -1\n",
        "  for zy_ in zy:\n",
        "      y = y + 1\n",
        "      Z_0 = complex(zx_, zy_)\n",
        "    \n",
        "      for i in range(0, Niteraciones):\n",
        "        Z = Z_0 - a * f(Z_0)/fp(Z_0)\n",
        "        if( abs(Z-Z_0)<= eps):\n",
        "          break           \n",
        "        Z_0 = Z\n",
        "      #print(i)\n",
        "      #print(i)\n",
        "      r, g, b = i % 4 *64 , i % 8 *16, i% 16* 16      \n",
        "      image.putpixel((x,y), (r,g,b) )\n",
        "\n",
        "plt.imshow(image)\n",
        "#plt.xlim(400, 600)\n",
        "#plt.ylim(400, 523)\n",
        "```"
      ],
      "metadata": {
        "id": "0OiUQVFDijrm"
      }
    },
    {
      "cell_type": "code",
      "source": [
        "import numpy as np\n",
        "import matplotlib.pylab as plt\n",
        "from PIL import Image\n",
        "\n",
        "Npx_X = 80  # Numero de pixeles en x\n",
        "Npx_Y = 80  # Numero de pixeles en y\n",
        "\n",
        "image = Image.new(\"RGB\", (Npx_X, Npx_Y))  # Creacion de la imagen inicial\n",
        "\n",
        "npx = np.arange(0, Npx_X)\n",
        "npy = np.arange(0, Npx_Y)\n",
        "\n",
        "xmin = -1\n",
        "xmax = 1\n",
        "ymin = -1\n",
        "ymax = 1\n",
        "# Transformación al plano complejo en un rectangulo (xmin, xmax), (ymin, ymax)\n",
        "zx = npx * (xmax - xmin) / (Npx_X - 1) + xmin\n",
        "zy = npy * (ymax - ymin) / (Npx_Y - 1) + ymin\n",
        "\n",
        "# Definicion  la funcion y las derivada\n",
        "def f(z):\n",
        "    return z**3 - 1\n",
        "\n",
        "def fp(z):\n",
        "    return 3 * z**2\n",
        "\n",
        "h = 1E-4\n",
        "def fpn(z, h):\n",
        "    return (f(z + h) - f(z)) / h\n",
        "\n",
        "a = 0.2\n",
        "Niteraciones = 120\n",
        "eps = 1E-8\n",
        "\n",
        "x = -1\n",
        "for zx_ in zx:\n",
        "    x = x + 1\n",
        "    y = -1\n",
        "    for zy_ in zy:\n",
        "        y = y + 1\n",
        "        Z_0 = complex(zx_, zy_)\n",
        "\n",
        "        for i in range(0, Niteraciones):\n",
        "            Z = Z_0 - a * f(Z_0) / fp(Z_0)\n",
        "            if abs(Z - Z_0) <= eps:\n",
        "                break\n",
        "            Z_0 = Z\n",
        "        r, g, b = i % 4 * 64, i % 8 * 16, i % 16 * 16\n",
        "        image.putpixel((x, y), (r, g, b))\n",
        "\n",
        "plt.imshow(image)\n",
        "plt.show()\n"
      ],
      "metadata": {
        "id": "eLfPmOFtjI8E",
        "colab": {
          "base_uri": "https://localhost:8080/",
          "height": 433
        },
        "outputId": "c1842a54-8da4-4e9b-9ea9-65a56167b60c"
      },
      "execution_count": 31,
      "outputs": [
        {
          "output_type": "display_data",
          "data": {
            "text/plain": [
              "<Figure size 640x480 with 1 Axes>"
            ],
            "image/png": "[encoded data removed]"
          },
          "metadata": {}
        }
      ]
    }
  ]
}