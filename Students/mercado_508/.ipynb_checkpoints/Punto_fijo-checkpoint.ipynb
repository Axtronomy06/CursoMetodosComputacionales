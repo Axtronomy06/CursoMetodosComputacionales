{
 "cells": [
  {
   "cell_type": "code",
   "execution_count": null,
   "metadata": {
    "colab": {
     "base_uri": "https://localhost:8080/"
    },
    "id": "zqz3EFtBc94W",
    "outputId": "cfdea29f-1836-4196-ac9c-5d49c7bb6f63"
   },
   "outputs": [
    {
     "name": "stdout",
     "output_type": "stream",
     "text": [
      "Resultado encontrado: 2.000000\n"
     ]
    }
   ],
   "source": [
    "import numpy as np\n",
    "\n",
    "def punto_fijo(g, x0, tolerancia=1e-6, iteraciones_max=100):\n",
    "    i = 0  # Contador de iteraciones\n",
    "    x = x0  # Valor inicial\n",
    "\n",
    "    # Iterar hasta que se alcance la tolerancia o el número máximo de iteraciones\n",
    "    while i < iteraciones_max:\n",
    "        x_next = g(x)  # Aplicar la función g\n",
    "        tramo = abs(x_next - x)  # Calcular la distancia entre x_next y x\n",
    "\n",
    "        # Comprobar si se alcanzó la tolerancia deseada\n",
    "        if tramo < tolerancia:\n",
    "            return x_next  # Devolver el resultado si se alcanza la tolerancia\n",
    "\n",
    "        x = x_next  # Actualizar x para la siguiente iteración\n",
    "        i += 1\n",
    "\n",
    "    # Si no se alcanzó la tolerancia después de las iteraciones máximas, devolver NaN\n",
    "    return np.nan\n",
    "\n",
    "# Definir la función g(x)\n",
    "g = lambda x: (x - 1) ** 2 + 1\n",
    "\n",
    "# Valor inicial y parámetros de tolerancia e iteraciones máximas\n",
    "x0 = 2\n",
    "tolerancia = 1E-6\n",
    "iteraciones_maximas = 100\n",
    "\n",
    "# Llamar a la función punto_fijo\n",
    "resultado = punto_fijo(g, x0, tolerancia, iteraciones_maximas)\n",
    "\n",
    "# Imprimir el resultado\n",
    "if not np.isnan(resultado):\n",
    "    print(f\"Resultado encontrado: {resultado:.6f}\")\n",
    "else:\n",
    "    print(\"No se alcanzó la tolerancia después de las iteraciones máximas.\")\n"
   ]
  }
 ],
 "metadata": {
  "colab": {
   "provenance": []
  },
  "kernelspec": {
   "display_name": "Python 3 (ipykernel)",
   "language": "python",
   "name": "python3"
  },
  "language_info": {
   "codemirror_mode": {
    "name": "ipython",
    "version": 3
   },
   "file_extension": ".py",
   "mimetype": "text/x-python",
   "name": "python",
   "nbconvert_exporter": "python",
   "pygments_lexer": "ipython3",
   "version": "3.10.9"
  }
 },
 "nbformat": 4,
 "nbformat_minor": 1
}
