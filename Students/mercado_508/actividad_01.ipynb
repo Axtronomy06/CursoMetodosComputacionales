{
  "nbformat": 4,
  "nbformat_minor": 0,
  "metadata": {
    "colab": {
      "provenance": []
    },
    "kernelspec": {
      "name": "python3",
      "display_name": "Python 3"
    },
    "language_info": {
      "name": "python"
    }
  },
  "cells": [
    {
      "cell_type": "markdown",
      "source": [
        "- **Doble Funcion**"
      ],
      "metadata": {
        "id": "J46iUreeOKvc"
      }
    },
    {
      "cell_type": "code",
      "execution_count": null,
      "metadata": {
        "colab": {
          "base_uri": "https://localhost:8080/"
        },
        "id": "0phSHUmSF4Fh",
        "outputId": "43afcd60-cbd6-4331-b970-82a076cfc56e"
      },
      "outputs": [
        {
          "output_type": "stream",
          "name": "stdout",
          "text": [
            "105\n"
          ]
        }
      ],
      "source": [
        "n=int(7)\n",
        "x=n\n",
        "for i in range(1,n,2):\n",
        "  x=x*i\n",
        "print(x)\n",
        "\n"
      ]
    },
    {
      "cell_type": "code",
      "source": [
        "x=int(10)\n",
        "\n",
        "for i in range(2,x,2):\n",
        "  x=x*i\n",
        "print(x)\n"
      ],
      "metadata": {
        "colab": {
          "base_uri": "https://localhost:8080/"
        },
        "id": "iujwotWkJldP",
        "outputId": "dc9e338c-49bb-4355-e025-da2fdac5d429"
      },
      "execution_count": null,
      "outputs": [
        {
          "output_type": "stream",
          "name": "stdout",
          "text": [
            "3840\n"
          ]
        }
      ]
    },
    {
      "cell_type": "code",
      "source": [
        "def doble_factorial(a):\n",
        "  if a < 0:\n",
        "    print(\"el factorial no esta definido para los numeros negativos\")\n",
        "\n",
        "  if a % 2 ==0:\n",
        "    for i in range(2,a,2):\n",
        "      a=a*i\n",
        "    print(a)\n",
        "\n",
        "  else:\n",
        "    for i in range(1,a,2):\n",
        "      a=a*i\n",
        "    print(a)\n",
        "\n",
        "doble_factorial(10)"
      ],
      "metadata": {
        "colab": {
          "base_uri": "https://localhost:8080/"
        },
        "id": "Hp8Siz54KfmI",
        "outputId": "d6109a87-fd89-40fa-997a-a4bd7cbc7f05"
      },
      "execution_count": null,
      "outputs": [
        {
          "output_type": "stream",
          "name": "stdout",
          "text": [
            "3840\n"
          ]
        }
      ]
    },
    {
      "cell_type": "markdown",
      "source": [
        " - ***sucesion de lucas***"
      ],
      "metadata": {
        "id": "ml2Z_cJmw6gY"
      }
    },
    {
      "cell_type": "code",
      "source": [
        "a=int(2)\n",
        "\n",
        "n=1\n",
        "m=2\n",
        "\n",
        "for i in range(2,a):\n",
        "  suma=m+n\n",
        "  m=n\n",
        "  n=suma\n",
        "print(suma)\n"
      ],
      "metadata": {
        "colab": {
          "base_uri": "https://localhost:8080/"
        },
        "id": "pxBYsyPYOJcA",
        "outputId": "1b2c571b-1e15-43b7-e868-9d0009c4ec99"
      },
      "execution_count": null,
      "outputs": [
        {
          "output_type": "stream",
          "name": "stdout",
          "text": [
            "3\n"
          ]
        }
      ]
    },
    {
      "cell_type": "code",
      "source": [
        "def lucas(a):\n",
        "  if a<=0:\n",
        "    print(\"el valor debe ser positivo 0 mayor a cero\")\n",
        "\n",
        "  if a==1:\n",
        "    print(\"2\")\n",
        "\n",
        "  if a==2:\n",
        "    print(\"1\")\n",
        "\n",
        "  if a>2:\n",
        "    n=1\n",
        "    m=2\n",
        "    for i in range(2,a):\n",
        "      term=m+n\n",
        "      m=n\n",
        "      n=term\n",
        "    print(term)\n",
        "\n",
        "lucas(20)"
      ],
      "metadata": {
        "colab": {
          "base_uri": "https://localhost:8080/"
        },
        "id": "uUZaE1aYsKu0",
        "outputId": "df7a87ef-bfe3-4d0e-d9a3-47ab763eb9d8"
      },
      "execution_count": null,
      "outputs": [
        {
          "output_type": "stream",
          "name": "stdout",
          "text": [
            "9349\n"
          ]
        }
      ]
    },
    {
      "cell_type": "markdown",
      "source": [
        "fu"
      ],
      "metadata": {
        "id": "BSpVel8gxR7E"
      }
    },
    {
      "cell_type": "markdown",
      "source": [
        "- **función binomial**"
      ],
      "metadata": {
        "id": "RQL_8eDmxTim"
      }
    },
    {
      "cell_type": "code",
      "source": [
        "x=int(5)\n",
        "n=x\n",
        "for i in range(1,n):\n",
        "  x=x*(n-i)\n",
        "print(x)\n"
      ],
      "metadata": {
        "colab": {
          "base_uri": "https://localhost:8080/"
        },
        "id": "4Sl4e2dFwUU_",
        "outputId": "52c1de2a-d351-4cd0-c1de-56dffa4d11d6"
      },
      "execution_count": null,
      "outputs": [
        {
          "output_type": "stream",
          "name": "stdout",
          "text": [
            "120\n"
          ]
        }
      ]
    },
    {
      "cell_type": "code",
      "source": [
        "y=int(3)\n",
        "k=y\n",
        "for i in range(1,k):\n",
        "  y=y*(k-i)\n",
        "print(y)\n"
      ],
      "metadata": {
        "colab": {
          "base_uri": "https://localhost:8080/"
        },
        "id": "5tFZZOi30mYD",
        "outputId": "a5e68faa-7e4c-4c16-ec7b-5c5fe0913dea"
      },
      "execution_count": null,
      "outputs": [
        {
          "output_type": "stream",
          "name": "stdout",
          "text": [
            "6\n"
          ]
        }
      ]
    },
    {
      "cell_type": "code",
      "source": [
        "z=n-k\n",
        "w=z\n",
        "\n",
        "for i in range(1,z):\n",
        "  w=w*(z-i)\n",
        "print(w)"
      ],
      "metadata": {
        "colab": {
          "base_uri": "https://localhost:8080/"
        },
        "id": "eEHya3q42yCN",
        "outputId": "a1fe8caa-c88d-44cc-b3de-06ea23a9c797"
      },
      "execution_count": null,
      "outputs": [
        {
          "output_type": "stream",
          "name": "stdout",
          "text": [
            "2\n"
          ]
        }
      ]
    },
    {
      "cell_type": "code",
      "source": [
        "binomial= x/(y*(w))\n",
        "print(binomial)"
      ],
      "metadata": {
        "colab": {
          "base_uri": "https://localhost:8080/"
        },
        "id": "rq5bx-gg3Ayr",
        "outputId": "f12d6d49-490e-4a27-fc98-d02df341998e"
      },
      "execution_count": null,
      "outputs": [
        {
          "output_type": "stream",
          "name": "stdout",
          "text": [
            "10.0\n"
          ]
        }
      ]
    },
    {
      "cell_type": "code",
      "source": [
        "def binomial(x,y):\n",
        "  if x<0 and y<0:\n",
        "    print(\"los deben ser positivos\")\n",
        "\n",
        "  if x==y:\n",
        "    print(\"no esta definida\")\n",
        "\n",
        "  else:\n",
        "    n=x\n",
        "    for i in range(1,n):\n",
        "     x=x*(n-i)\n",
        "\n",
        "    k=y\n",
        "    for i in range(1,k):\n",
        "      y=y*(k-i)\n",
        "\n",
        "    z=n-k\n",
        "    w=z\n",
        "    for i in range(1,z):\n",
        "      w=w*(z-i)\n",
        "\n",
        "    bin= x/(y*(w))\n",
        "    return(bin)\n",
        "\n",
        "binomial(5,4)\n",
        "\n"
      ],
      "metadata": {
        "colab": {
          "base_uri": "https://localhost:8080/"
        },
        "id": "LTIbEFxz22VI",
        "outputId": "6b3b5b95-bcf6-4463-9ecb-63392622999c"
      },
      "execution_count": null,
      "outputs": [
        {
          "output_type": "execute_result",
          "data": {
            "text/plain": [
              "5.0"
            ]
          },
          "metadata": {},
          "execution_count": 227
        }
      ]
    }
  ]
}