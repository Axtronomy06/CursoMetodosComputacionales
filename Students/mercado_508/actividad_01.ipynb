{
 "cells": [
  {
   "cell_type": "markdown",
   "metadata": {
    "id": "J46iUreeOKvc"
   },
   "source": [
    "- **Doble Funcion**"
   ]
  },
  {
   "cell_type": "code",
   "execution_count": 1,
   "metadata": {
    "colab": {
     "base_uri": "https://localhost:8080/"
    },
    "id": "0phSHUmSF4Fh",
    "outputId": "43afcd60-cbd6-4331-b970-82a076cfc56e"
   },
   "outputs": [
    {
     "name": "stdout",
     "output_type": "stream",
     "text": [
      "105\n"
     ]
    }
   ],
   "source": [
    "n=int(7)\n",
    "x=n\n",
    "for i in range(1,n,2):\n",
    "  x=x*i\n",
    "print(x)\n",
    "\n"
   ]
  },
  {
   "cell_type": "code",
   "execution_count": 2,
   "metadata": {
    "colab": {
     "base_uri": "https://localhost:8080/"
    },
    "id": "iujwotWkJldP",
    "outputId": "dc9e338c-49bb-4355-e025-da2fdac5d429"
   },
   "outputs": [
    {
     "name": "stdout",
     "output_type": "stream",
     "text": [
      "3840\n"
     ]
    }
   ],
   "source": [
    "x=int(10)\n",
    "\n",
    "for i in range(2,x,2):\n",
    "  x=x*i\n",
    "print(x)\n"
   ]
  },
  {
   "cell_type": "code",
   "execution_count": 3,
   "metadata": {
    "colab": {
     "base_uri": "https://localhost:8080/"
    },
    "id": "Hp8Siz54KfmI",
    "outputId": "d6109a87-fd89-40fa-997a-a4bd7cbc7f05"
   },
   "outputs": [
    {
     "name": "stdout",
     "output_type": "stream",
     "text": [
      "3840\n"
     ]
    }
   ],
   "source": [
    "def doble_factorial(a):\n",
    "  if a < 0:\n",
    "    print(\"el factorial no esta definido para los numeros negativos\")\n",
    "\n",
    "  if a % 2 ==0:\n",
    "    for i in range(2,a,2):\n",
    "      a=a*i\n",
    "    print(a)\n",
    "\n",
    "  else:\n",
    "    for i in range(1,a,2):\n",
    "      a=a*i\n",
    "    print(a)\n",
    "\n",
    "doble_factorial(10)"
   ]
  },
  {
   "cell_type": "markdown",
   "metadata": {
    "id": "ml2Z_cJmw6gY"
   },
   "source": [
    " - ***sucesion de lucas***"
   ]
  },
  {
   "cell_type": "code",
   "execution_count": 4,
   "metadata": {
    "colab": {
     "base_uri": "https://localhost:8080/"
    },
    "id": "pxBYsyPYOJcA",
    "outputId": "1b2c571b-1e15-43b7-e868-9d0009c4ec99"
   },
   "outputs": [
    {
     "ename": "NameError",
     "evalue": "name 'suma' is not defined",
     "output_type": "error",
     "traceback": [
      "\u001b[0;31m---------------------------------------------------------------------------\u001b[0m",
      "\u001b[0;31mNameError\u001b[0m                                 Traceback (most recent call last)",
      "Cell \u001b[0;32mIn[4], line 10\u001b[0m\n\u001b[1;32m      8\u001b[0m   m\u001b[38;5;241m=\u001b[39mn\n\u001b[1;32m      9\u001b[0m   n\u001b[38;5;241m=\u001b[39msuma\n\u001b[0;32m---> 10\u001b[0m \u001b[38;5;28mprint\u001b[39m(\u001b[43msuma\u001b[49m)\n",
      "\u001b[0;31mNameError\u001b[0m: name 'suma' is not defined"
     ]
    }
   ],
   "source": [
    "a=int(2)\n",
    "\n",
    "n=1\n",
    "m=2\n",
    "\n",
    "for i in range(2,a):\n",
    "  suma=m+n\n",
    "  m=n\n",
    "  n=suma\n",
    "print(suma)\n"
   ]
  },
  {
   "cell_type": "code",
   "execution_count": 5,
   "metadata": {
    "colab": {
     "base_uri": "https://localhost:8080/"
    },
    "id": "uUZaE1aYsKu0",
    "outputId": "df7a87ef-bfe3-4d0e-d9a3-47ab763eb9d8"
   },
   "outputs": [
    {
     "name": "stdout",
     "output_type": "stream",
     "text": [
      "9349\n"
     ]
    }
   ],
   "source": [
    "def lucas(a):\n",
    "  if a<=0:\n",
    "    print(\"el valor debe ser positivo 0 mayor a cero\")\n",
    "\n",
    "  if a==1:\n",
    "    print(\"2\")\n",
    "\n",
    "  if a==2:\n",
    "    print(\"1\")\n",
    "\n",
    "  if a>2:\n",
    "    n=1\n",
    "    m=2\n",
    "    for i in range(2,a):\n",
    "      term=m+n\n",
    "      m=n\n",
    "      n=term\n",
    "    print(term)\n",
    "\n",
    "lucas(20)"
   ]
  },
  {
   "cell_type": "markdown",
   "metadata": {
    "id": "BSpVel8gxR7E"
   },
   "source": [
    "fu"
   ]
  },
  {
   "cell_type": "markdown",
   "metadata": {
    "id": "RQL_8eDmxTim"
   },
   "source": [
    "- **función binomial**"
   ]
  },
  {
   "cell_type": "code",
   "execution_count": null,
   "metadata": {
    "colab": {
     "base_uri": "https://localhost:8080/"
    },
    "id": "4Sl4e2dFwUU_",
    "outputId": "52c1de2a-d351-4cd0-c1de-56dffa4d11d6"
   },
   "outputs": [
    {
     "name": "stdout",
     "output_type": "stream",
     "text": [
      "120\n"
     ]
    }
   ],
   "source": [
    "x=int(5)\n",
    "n=x\n",
    "for i in range(1,n):\n",
    "  x=x*(n-i)\n",
    "print(x)\n"
   ]
  },
  {
   "cell_type": "code",
   "execution_count": null,
   "metadata": {
    "colab": {
     "base_uri": "https://localhost:8080/"
    },
    "id": "5tFZZOi30mYD",
    "outputId": "a5e68faa-7e4c-4c16-ec7b-5c5fe0913dea"
   },
   "outputs": [
    {
     "name": "stdout",
     "output_type": "stream",
     "text": [
      "6\n"
     ]
    }
   ],
   "source": [
    "y=int(3)\n",
    "k=y\n",
    "for i in range(1,k):\n",
    "  y=y*(k-i)\n",
    "print(y)\n"
   ]
  },
  {
   "cell_type": "code",
   "execution_count": null,
   "metadata": {
    "colab": {
     "base_uri": "https://localhost:8080/"
    },
    "id": "eEHya3q42yCN",
    "outputId": "a1fe8caa-c88d-44cc-b3de-06ea23a9c797"
   },
   "outputs": [
    {
     "name": "stdout",
     "output_type": "stream",
     "text": [
      "2\n"
     ]
    }
   ],
   "source": [
    "z=n-k\n",
    "w=z\n",
    "\n",
    "for i in range(1,z):\n",
    "  w=w*(z-i)\n",
    "print(w)"
   ]
  },
  {
   "cell_type": "code",
   "execution_count": null,
   "metadata": {
    "colab": {
     "base_uri": "https://localhost:8080/"
    },
    "id": "rq5bx-gg3Ayr",
    "outputId": "f12d6d49-490e-4a27-fc98-d02df341998e"
   },
   "outputs": [
    {
     "name": "stdout",
     "output_type": "stream",
     "text": [
      "10.0\n"
     ]
    }
   ],
   "source": [
    "binomial= x/(y*(w))\n",
    "print(binomial)"
   ]
  },
  {
   "cell_type": "code",
   "execution_count": null,
   "metadata": {
    "colab": {
     "base_uri": "https://localhost:8080/"
    },
    "id": "LTIbEFxz22VI",
    "outputId": "6b3b5b95-bcf6-4463-9ecb-63392622999c"
   },
   "outputs": [
    {
     "data": {
      "text/plain": [
       "5.0"
      ]
     },
     "execution_count": 227,
     "metadata": {},
     "output_type": "execute_result"
    }
   ],
   "source": [
    "def binomial(x,y):\n",
    "  if x<0 and y<0:\n",
    "    print(\"los deben ser positivos\")\n",
    "\n",
    "  if x==y:\n",
    "    print(\"no esta definida\")\n",
    "\n",
    "  else:\n",
    "    n=x\n",
    "    for i in range(1,n):\n",
    "     x=x*(n-i)\n",
    "\n",
    "    k=y\n",
    "    for i in range(1,k):\n",
    "      y=y*(k-i)\n",
    "\n",
    "    z=n-k\n",
    "    w=z\n",
    "    for i in range(1,z):\n",
    "      w=w*(z-i)\n",
    "\n",
    "    bin= x/(y*(w))\n",
    "    return(bin)\n",
    "\n",
    "binomial(5,4)\n",
    "\n"
   ]
  }
 ],
 "metadata": {
  "colab": {
   "provenance": []
  },
  "kernelspec": {
   "display_name": "Python 3 (ipykernel)",
   "language": "python",
   "name": "python3"
  },
  "language_info": {
   "codemirror_mode": {
    "name": "ipython",
    "version": 3
   },
   "file_extension": ".py",
   "mimetype": "text/x-python",
   "name": "python",
   "nbconvert_exporter": "python",
   "pygments_lexer": "ipython3",
   "version": "3.10.9"
  }
 },
 "nbformat": 4,
 "nbformat_minor": 1
}
