{
  "nbformat": 4,
  "nbformat_minor": 0,
  "metadata": {
    "colab": {
      "provenance": []
    },
    "kernelspec": {
      "name": "python3",
      "display_name": "Python 3"
    },
    "language_info": {
      "name": "python"
    }
  },
  "cells": [
    {
      "cell_type": "markdown",
      "source": [
        "#Actividad\n",
        "1.Elaborar un programa en python que permita calcular la integral de una función entre el intervalo a, b. para ello debera realizar lo siguiente:\n",
        "En un notebook de collab:\n",
        "\n",
        "*   En un notebook de collab:\n",
        "    *   Deducir la ecuación general del metodo del trapecio.\n",
        "    +  Deducir la ecuación general del metodo del trapecio.\n",
        "Construir un funcion llamada integral_trapz que reciba como argumento una función y el intervalo a,\n",
        "   *b. El numero de intervalos N será un argumento opcional, defina por defecto N=10. La función deberá retornar el valor de la integral.\n",
        "   *Comparar la solución con la libreria de scipy https://docs.scipy.org/doc//scipy- 1.4.1/reference/generated/scipy.integrate.trapz.html\n",
        "   \n",
        "\n",
        "\n",
        "\n",
        "\n",
        "\n",
        "\n",
        " # Construir un programa en python con la función anterior que realice lo siguiente:\n",
        "  * Generalice el programa para que\n",
        "  la funcion pueda ser pasada como parametro en terminal, junto con el parametro a, b. la ejecucion debera ser: python integral func a b, Ejemplo de ejcucion: python x**2+1 1 5.\n",
        "\n",
        "Para pasar los parametros consulte la libreria sys de python."
      ],
      "metadata": {
        "id": "X0twNgAIkI3g"
      }
    },
    {
      "cell_type": "code",
      "execution_count": null,
      "metadata": {
        "colab": {
          "base_uri": "https://localhost:8080/"
        },
        "id": "_Hwzj0owkFJj",
        "outputId": "23dd7075-cd6c-4ace-b61b-b942ad51fe09"
      },
      "outputs": [
        {
          "output_type": "stream",
          "name": "stdout",
          "text": [
            "Resultado con el método propio: 115.335\n",
            "Resultado con scipy.trapz: 115.335\n"
          ]
        }
      ],
      "source": [
        "import numpy as np\n",
        "from scipy.integrate import trapz\n",
        "\n",
        "def integral_trapz(func, a, b, N=10):\n",
        "    h = (b - a) / N\n",
        "    x = np.linspace(a, b, N + 1)\n",
        "    y = func(x)\n",
        "    integral = (h / 2) * (y[0] + 2 * np.sum(y[1:N]) + y[N])\n",
        "    return integral\n",
        "\n",
        "# Función de ejemplo\n",
        "def ejemplo_funcion(x):\n",
        "    return x**2+115\n",
        "\n",
        "a = 0\n",
        "b = 1\n",
        "\n",
        "# Calcula la integral usando la función integral_trapz\n",
        "resultado_propio = integral_trapz(ejemplo_funcion, a, b)\n",
        "print(\"Resultado con el método propio:\", resultado_propio)\n",
        "\n",
        "# Calcula la integral usando scipy.trapz para comparar\n",
        "x = np.linspace(a, b, 11)\n",
        "y = ejemplo_funcion(x)\n",
        "resultado_scipy = trapz(y, x)\n",
        "print(\"Resultado con scipy.trapz:\", resultado_scipy)\n"
      ]
    }
  ]
}