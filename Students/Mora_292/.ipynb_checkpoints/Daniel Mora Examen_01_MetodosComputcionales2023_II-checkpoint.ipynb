{
 "cells": [
  {
   "cell_type": "markdown",
   "metadata": {
    "id": "K6eI4VDnfipF"
   },
   "source": [
    "# Examen número 1: Métodos computacionales para físicos.\n",
    "\n",
    "**NOTA:** El examen consta de 2 partes y se califica sobre 100 puntos. No puede usar ningún material adicional al examen (libros, notas, páginas de internet, etc), ni tampoco consultar a ninguna persona durante la realizacón del mismo. Recuerde que el fraude académico está sancionado en el Reglamento Estudiantil. El examen tiene una duración de 2 horas. Debe estar claramente escrito, desarrollado y justificado. Respuesta sin sustentación pierde sus puntos.\n",
    "\n",
    "\n",
    "**Profesor:** Hernán David Salinas Jiménez.\n",
    "\n",
    "Instituto de Física\n",
    "\n",
    "Universidad de Antioquia\n"
   ]
  },
  {
   "cell_type": "markdown",
   "metadata": {
    "id": "4b4jUyZTfmHw"
   },
   "source": [
    "\n",
    "\n",
    "1. (70Pts). Un objeto que cae verticalmente en el aire sujeto a la resistencia del aire  y también a la fuerza de gravedad. Suponga que el objeto tiene una masa m y cae desde una  altura $s_0$ y que la altura del objeto después de $t$ segundos es:\n",
    "\n",
    "\\begin{equation}\n",
    "s(t)=s_0-\\frac{mg}{k} t + \\frac{m^2g}{k^2}(1-e^{-kt/m})\n",
    "\\end{equation}\n",
    "\n",
    "donde $g=9.8 \\mathrm{m/s}$, $k=0.148\\mathrm{kg\\ s\\ /m}$  es el coeficiente de resistencia con el aire. Suponga que $s_0 = 900m$ y  $m = 0.25\\mathrm{kg}$. Para la situación planteada:  \n",
    "\n",
    "\n",
    "a (10 Pts). Realizar un gráfico de $s$ como función del tiempo, para ello cree una función para  $s(t)$  llamada caida:\n",
    "\n",
    "  ```python\n",
    "  def caida():\n",
    "\n",
    "    return\n",
    "  ```\n",
    "\n",
    "\n",
    "b (30 Pts). Determine el tiempo de caida del objeto, empleando el metodo de:\n",
    "\n",
    "  - Secante\n",
    "\n",
    "  - Newton-Rapshon.\n",
    "\n",
    "  - Punto Fijo\n",
    "\n",
    "\n",
    "\n",
    "\n",
    "c (30 Pts). Determine la el tiempo de caida para 10 valores de la masa entre $0.25$Kg y $1$Kg.\n",
    "\n",
    "Ayuda: Para comprobar que el cálculo de la derivada es el adecuado, se puede ayudar de la libreria de sympy. En el siguiente ejemplo se muestra el uso de la derivada para los primeros términos del problema:\n",
    "\n",
    "```python\n",
    "import sympy as sp\n",
    "x=sp.symbols('x')\n",
    "m=sp.symbols('m')\n",
    "g=sp.symbols('g')\n",
    "k=sp.symbols('k')\n",
    "s0=sp.symbols('s0')\n",
    "t=sp.symbols('t')\n",
    "\n",
    "f = lambda t: s0-m*g*t/k\n",
    "# Primera derivada\n",
    "sp.diff(f(t), t, 1)\n",
    "\n",
    "Métodos\n",
    "\n",
    "scipy.optimize.newton\n",
    "scipy.optimize.fixed_point\n",
    "```\n",
    "\n"
   ]
  },
  {
   "cell_type": "code",
   "execution_count": 146,
   "metadata": {
    "executionInfo": {
     "elapsed": 191,
     "status": "ok",
     "timestamp": 1695128920625,
     "user": {
      "displayName": "DANIEL SANTIAGO MORA PEÑA",
      "userId": "03492989188833014732"
     },
     "user_tz": 300
    },
    "id": "ft9oIo2oYWF3"
   },
   "outputs": [],
   "source": [
    "import pandas as pd\n",
    "import matplotlib.pyplot as plt\n",
    "import numpy as np\n",
    "#import sympy as sp\n",
    "import scipy as sc"
   ]
  },
  {
   "cell_type": "code",
   "execution_count": 147,
   "metadata": {
    "executionInfo": {
     "elapsed": 2,
     "status": "ok",
     "timestamp": 1695128920895,
     "user": {
      "displayName": "DANIEL SANTIAGO MORA PEÑA",
      "userId": "03492989188833014732"
     },
     "user_tz": 300
    },
    "id": "ryoV8mr8XlaF"
   },
   "outputs": [],
   "source": [
    "# a)\n",
    "def caida(s0, m, t):\n",
    "  g = 9.8 #gravedad\n",
    "  k = 0.148  #coeficiente de resistencia del aire\n",
    "\n",
    "  S = lambda t: s0 - (m*g*t)/k + ((m**2)*g*(1- np.exp(-(k*t)/m)))/k**2\n",
    "\n",
    "  plt.plot(t, S(t))\n",
    "  plt.xlabel('Tiempo (s)')\n",
    "  plt.ylabel('Altura')\n",
    "  plt.title('Altura vs Tiempo')\n",
    "  plt.grid()\n"
   ]
  },
  {
   "cell_type": "code",
   "execution_count": 148,
   "metadata": {
    "executionInfo": {
     "elapsed": 2,
     "status": "ok",
     "timestamp": 1695128920896,
     "user": {
      "displayName": "DANIEL SANTIAGO MORA PEÑA",
      "userId": "03492989188833014732"
     },
     "user_tz": 300
    },
    "id": "OUlQ86fIYozd"
   },
   "outputs": [],
   "source": [
    "t = np.linspace(0,60,150)\n",
    "s0 = 900\n",
    "m = 0.25"
   ]
  },
  {
   "cell_type": "code",
   "execution_count": 149,
   "metadata": {
    "colab": {
     "base_uri": "https://localhost:8080/",
     "height": 472
    },
    "executionInfo": {
     "elapsed": 481,
     "status": "ok",
     "timestamp": 1695128921375,
     "user": {
      "displayName": "DANIEL SANTIAGO MORA PEÑA",
      "userId": "03492989188833014732"
     },
     "user_tz": 300
    },
    "id": "1eLOyHvqZObg",
    "outputId": "4ba138bc-f0f3-4d83-9920-2bc8d3586d79"
   },
   "outputs": [
    {
     "data": {
      "image/png": "[encoded data removed]",
      "text/plain": [
       "<Figure size 640x480 with 1 Axes>"
      ]
     },
     "metadata": {},
     "output_type": "display_data"
    }
   ],
   "source": [
    "caida(s0, m, t)"
   ]
  },
  {
   "cell_type": "code",
   "execution_count": 150,
   "metadata": {
    "executionInfo": {
     "elapsed": 12,
     "status": "ok",
     "timestamp": 1695128921376,
     "user": {
      "displayName": "DANIEL SANTIAGO MORA PEÑA",
      "userId": "03492989188833014732"
     },
     "user_tz": 300
    },
    "id": "37b606Ntalp_"
   },
   "outputs": [],
   "source": [
    "#b)\n",
    "\n",
    "#S1 = lambda t: s0 - (m*g*t)/k + ((m**2)*g*(1- sp.exp(-(k*t)/m)))/k**2\n",
    "#m=sp.symbols('m')\n",
    "#g=sp.symbols('g')\n",
    "#k=sp.symbols('k')\n",
    "#s0=sp.symbols('s0')\n",
    "#t=sp.symbols('t')\n",
    "\n",
    "\n",
    "#dS = sp.diff(S1(t), t, 1)\n",
    "#g = 9.8 #gravedad\n",
    "#k = 0.148  #coeficiente de resistencia del aire\n",
    "\n",
    "#dS"
   ]
  },
  {
   "cell_type": "code",
   "execution_count": 151,
   "metadata": {
    "executionInfo": {
     "elapsed": 11,
     "status": "ok",
     "timestamp": 1695128921376,
     "user": {
      "displayName": "DANIEL SANTIAGO MORA PEÑA",
      "userId": "03492989188833014732"
     },
     "user_tz": 300
    },
    "id": "-G_-qM_revqk"
   },
   "outputs": [],
   "source": [
    "g = 9.8 #gravedad\n",
    "k = 0.148  #coeficiente de resistencia del aire\n",
    "#Función\n",
    "S = lambda t: s0 - (m*g*t)/k + ((m**2)*g*(1- np.exp(-(k*t)/m)))/k**2\n",
    "# Derivada de mi función S\n",
    "ds = lambda t: -(g*m)/k + (g*m*np.exp(-(k*t)/m))/k"
   ]
  },
  {
   "cell_type": "code",
   "execution_count": 152,
   "metadata": {
    "colab": {
     "base_uri": "https://localhost:8080/"
    },
    "executionInfo": {
     "elapsed": 11,
     "status": "ok",
     "timestamp": 1695128921376,
     "user": {
      "displayName": "DANIEL SANTIAGO MORA PEÑA",
      "userId": "03492989188833014732"
     },
     "user_tz": 300
    },
    "id": "ou8YEQs3bIhw",
    "outputId": "edd130f4-5f1c-4500-ae95-1c6291eb4732"
   },
   "outputs": [
    {
     "data": {
      "text/plain": [
       "56.056536127964684"
      ]
     },
     "execution_count": 152,
     "metadata": {},
     "output_type": "execute_result"
    }
   ],
   "source": [
    "# Secante\n",
    "x0 = 50  #punto inicial de referencia\n",
    "sec = sc.optimize.newton(S, x0)\n",
    "sec"
   ]
  },
  {
   "cell_type": "code",
   "execution_count": 153,
   "metadata": {
    "colab": {
     "base_uri": "https://localhost:8080/"
    },
    "executionInfo": {
     "elapsed": 11,
     "status": "ok",
     "timestamp": 1695128921377,
     "user": {
      "displayName": "DANIEL SANTIAGO MORA PEÑA",
      "userId": "03492989188833014732"
     },
     "user_tz": 300
    },
    "id": "5VOkpva2bu2I",
    "outputId": "2e05e358-0613-421c-dc30-0e0e32e1f646"
   },
   "outputs": [
    {
     "data": {
      "text/plain": [
       "56.056536127964684"
      ]
     },
     "execution_count": 153,
     "metadata": {},
     "output_type": "execute_result"
    }
   ],
   "source": [
    "#Newton-Rapshon\n",
    "new_rap = sc.optimize.newton(S, x0, ds)\n",
    "new_rap"
   ]
  },
  {
   "cell_type": "code",
   "execution_count": 154,
   "metadata": {
    "colab": {
     "base_uri": "https://localhost:8080/"
    },
    "executionInfo": {
     "elapsed": 9,
     "status": "ok",
     "timestamp": 1695128921377,
     "user": {
      "displayName": "DANIEL SANTIAGO MORA PEÑA",
      "userId": "03492989188833014732"
     },
     "user_tz": 300
    },
    "id": "srew1C4zgYLw",
    "outputId": "d562dbf0-24a6-4f98-a6ed-61c1480647aa"
   },
   "outputs": [
    {
     "data": {
      "text/plain": [
       "array(52.86316917)"
      ]
     },
     "execution_count": 154,
     "metadata": {},
     "output_type": "execute_result"
    }
   ],
   "source": [
    "#punto_fijo\n",
    "S = lambda t:  s0 - (m*g*t)/k + ((m**2)*g*(1- np.exp(-(k*t)/m)))/k**2\n",
    "p_fijo = sc.optimize.fixed_point(S, x0)\n",
    "p_fijo"
   ]
  },
  {
   "cell_type": "code",
   "execution_count": 155,
   "metadata": {
    "colab": {
     "base_uri": "https://localhost:8080/"
    },
    "executionInfo": {
     "elapsed": 8,
     "status": "ok",
     "timestamp": 1695128921377,
     "user": {
      "displayName": "DANIEL SANTIAGO MORA PEÑA",
      "userId": "03492989188833014732"
     },
     "user_tz": 300
    },
    "id": "8m-DdbNxiH5m",
    "outputId": "37ea900f-b884-4261-99a8-1d86b91ce665"
   },
   "outputs": [
    {
     "name": "stdout",
     "output_type": "stream",
     "text": [
      "El tiempo para la masa 0.25 es 56.056536127964684\n",
      "El tiempo para la masa 0.33 es 43.02776244496511\n",
      "El tiempo para la masa 0.42 es 35.43571385882113\n",
      "El tiempo para la masa 0.5 es 30.56165376622249\n",
      "El tiempo para la masa 0.58 es 27.23780281893051\n",
      "El tiempo para la masa 0.67 es 24.87425281398115\n",
      "El tiempo para la masa 0.75 es 23.137303926739364\n",
      "El tiempo para la masa 0.83 es 21.824086573786005\n",
      "El tiempo para la masa 0.92 es 20.805839651633015\n",
      "El tiempo para la masa 1.0 es 19.99838180981076\n"
     ]
    }
   ],
   "source": [
    "#c)\n",
    "masa = np.linspace(0.25,1,10)\n",
    "for i in masa:\n",
    "  S = lambda t:  s0 - (i*g*t)/k + ((i**2)*g*(1- np.exp(-(k*t)/i)))/k**2\n",
    "  t = sc.optimize.newton(S, 50)\n",
    "  print(f'El tiempo para la masa {round(i,2)} es {t}')"
   ]
  },
  {
   "cell_type": "markdown",
   "metadata": {
    "id": "MNtq_fodXjUA"
   },
   "source": [
    "2.(30 Pts) Para el siguiente dataSet que contiene información del clima de un lugar determinado realizar lo siguiente:  ([Clima Data set](https://raw.githubusercontent.com/hernansalinas/autogrades/main/Evaluaciones/dataset/Temperature_Bogota_Barcelona.csv)).\n",
    "\n",
    "a. Leer el data set.\n",
    "\n",
    "b. Listar todas las columnas como una lista.\n",
    "\n",
    "c. Determinar los elemenntos únicos de la columna Wheater\n",
    "\n",
    "d. Crear un filtro para la columna  Wheater cuando toma el valor de  \"Cloudy\"\n",
    "\n",
    "e. Para el filtro anterior,  realizar un gráfico de la columna \"Temp_C\" , \"Press_kPa\" como función del tiempo.\n",
    "\n",
    "\n",
    "Ayudas.\n",
    "\n",
    "Para generar la columna del  tiempo en numeral e necesario para la graficación,  emplee la siguiente linea:\n",
    "```python\n",
    "df[\"Time\"]=pd.to_datetime (df[\"Date/Time\"], format='%m/%d/%Y %H:%M')\n",
    "```\n",
    "\n",
    "df.Time será la columna a lo largo de la cordenada independiente.\n",
    "\n",
    "\n",
    "\n",
    "Algunos comandos de pandas:\n",
    "\n",
    "\n",
    "|Comando|\tDescripción|\n",
    "|-------|------------|\n",
    "|pd.read_csv()|\tLee un archivo CSV y lo convierte en un DataFrame de Pandas\n",
    "|pd.read_excel()|\tLee un archivo de Excel y lo convierte en un DataFrame de |Pandas|\n",
    "|pd.read_json()|\tLee un archivo JSON y lo convierte en un DataFrame de Pandas|\n",
    "|df.head()|\tMuestra las primeras filas del DataFrame|\n",
    "|df.tail()|\tMuestra las últimas filas del DataFrame|\n",
    "|df.info()|\tMuestra información sobre el DataFrame|\n",
    "|df.describe()|\tMuestra estadísticas descriptivas del DataFrame|\n",
    "|df.dropna()|\tElimina filas con valores faltantes|\n",
    "|df.drop_duplicates()|\tElimina filas duplicadas|\n",
    "|df.groupby()\t|Agrupa el DataFrame por una o más columnas|\n",
    "|df.sort_values()|\tOrdena el DataFrame por una o más columnas|\n",
    "|df.to_csv()|\tGuarda el DataFrame como un archivo CSV|\n",
    "|df.loc[condicion]|\tCrea una máscara booleana para seleccionar filas que cumplan con ciertas condiciones|\n",
    "|df[df[\"columna\"]== x]|\tCrea una máscara booleana y a la aplica al dataframe en caso de el valor de la columna coincida con la variable|"
   ]
  },
  {
   "cell_type": "code",
   "execution_count": 156,
   "metadata": {
    "colab": {
     "base_uri": "https://localhost:8080/",
     "height": 423
    },
    "executionInfo": {
     "elapsed": 248,
     "status": "ok",
     "timestamp": 1695128921619,
     "user": {
      "displayName": "DANIEL SANTIAGO MORA PEÑA",
      "userId": "03492989188833014732"
     },
     "user_tz": 300
    },
    "id": "aCJ5-RV2U6BZ",
    "outputId": "e9dbf841-2e62-4649-fddf-93592159a76b"
   },
   "outputs": [
    {
     "data": {
      "text/html": [
       "\n",
       "  <div id=\"df-4faf49bb-ab7a-42db-84fa-06848c5043b9\" class=\"colab-df-container\">\n",
       "    <div>\n",
       "<style scoped>\n",
       "    .dataframe tbody tr th:only-of-type {\n",
       "        vertical-align: middle;\n",
       "    }\n",
       "\n",
       "    .dataframe tbody tr th {\n",
       "        vertical-align: top;\n",
       "    }\n",
       "\n",
       "    .dataframe thead th {\n",
       "        text-align: right;\n",
       "    }\n",
       "</style>\n",
       "<table border=\"1\" class=\"dataframe\">\n",
       "  <thead>\n",
       "    <tr style=\"text-align: right;\">\n",
       "      <th></th>\n",
       "      <th>Date/Time</th>\n",
       "      <th>Temp_C</th>\n",
       "      <th>Dew Point Temp_C</th>\n",
       "      <th>Rel Hum_%</th>\n",
       "      <th>Wind Speed_km/h</th>\n",
       "      <th>Visibility_km</th>\n",
       "      <th>Press_kPa</th>\n",
       "      <th>Weather</th>\n",
       "    </tr>\n",
       "  </thead>\n",
       "  <tbody>\n",
       "    <tr>\n",
       "      <th>0</th>\n",
       "      <td>1/1/2012 0:00</td>\n",
       "      <td>-1.8</td>\n",
       "      <td>-3.9</td>\n",
       "      <td>86</td>\n",
       "      <td>4</td>\n",
       "      <td>8.0</td>\n",
       "      <td>101.24</td>\n",
       "      <td>Fog</td>\n",
       "    </tr>\n",
       "    <tr>\n",
       "      <th>1</th>\n",
       "      <td>1/1/2012 1:00</td>\n",
       "      <td>-1.8</td>\n",
       "      <td>-3.7</td>\n",
       "      <td>87</td>\n",
       "      <td>4</td>\n",
       "      <td>8.0</td>\n",
       "      <td>101.24</td>\n",
       "      <td>Fog</td>\n",
       "    </tr>\n",
       "    <tr>\n",
       "      <th>2</th>\n",
       "      <td>1/1/2012 2:00</td>\n",
       "      <td>-1.8</td>\n",
       "      <td>-3.4</td>\n",
       "      <td>89</td>\n",
       "      <td>7</td>\n",
       "      <td>4.0</td>\n",
       "      <td>101.26</td>\n",
       "      <td>Freezing Drizzle,Fog</td>\n",
       "    </tr>\n",
       "    <tr>\n",
       "      <th>3</th>\n",
       "      <td>1/1/2012 3:00</td>\n",
       "      <td>-1.5</td>\n",
       "      <td>-3.2</td>\n",
       "      <td>88</td>\n",
       "      <td>6</td>\n",
       "      <td>4.0</td>\n",
       "      <td>101.27</td>\n",
       "      <td>Freezing Drizzle,Fog</td>\n",
       "    </tr>\n",
       "    <tr>\n",
       "      <th>4</th>\n",
       "      <td>1/1/2012 4:00</td>\n",
       "      <td>-1.5</td>\n",
       "      <td>-3.3</td>\n",
       "      <td>88</td>\n",
       "      <td>7</td>\n",
       "      <td>4.8</td>\n",
       "      <td>101.23</td>\n",
       "      <td>Fog</td>\n",
       "    </tr>\n",
       "    <tr>\n",
       "      <th>...</th>\n",
       "      <td>...</td>\n",
       "      <td>...</td>\n",
       "      <td>...</td>\n",
       "      <td>...</td>\n",
       "      <td>...</td>\n",
       "      <td>...</td>\n",
       "      <td>...</td>\n",
       "      <td>...</td>\n",
       "    </tr>\n",
       "    <tr>\n",
       "      <th>8779</th>\n",
       "      <td>12/31/2012 19:00</td>\n",
       "      <td>0.1</td>\n",
       "      <td>-2.7</td>\n",
       "      <td>81</td>\n",
       "      <td>30</td>\n",
       "      <td>9.7</td>\n",
       "      <td>100.13</td>\n",
       "      <td>Snow</td>\n",
       "    </tr>\n",
       "    <tr>\n",
       "      <th>8780</th>\n",
       "      <td>12/31/2012 20:00</td>\n",
       "      <td>0.2</td>\n",
       "      <td>-2.4</td>\n",
       "      <td>83</td>\n",
       "      <td>24</td>\n",
       "      <td>9.7</td>\n",
       "      <td>100.03</td>\n",
       "      <td>Snow</td>\n",
       "    </tr>\n",
       "    <tr>\n",
       "      <th>8781</th>\n",
       "      <td>12/31/2012 21:00</td>\n",
       "      <td>-0.5</td>\n",
       "      <td>-1.5</td>\n",
       "      <td>93</td>\n",
       "      <td>28</td>\n",
       "      <td>4.8</td>\n",
       "      <td>99.95</td>\n",
       "      <td>Snow</td>\n",
       "    </tr>\n",
       "    <tr>\n",
       "      <th>8782</th>\n",
       "      <td>12/31/2012 22:00</td>\n",
       "      <td>-0.2</td>\n",
       "      <td>-1.8</td>\n",
       "      <td>89</td>\n",
       "      <td>28</td>\n",
       "      <td>9.7</td>\n",
       "      <td>99.91</td>\n",
       "      <td>Snow</td>\n",
       "    </tr>\n",
       "    <tr>\n",
       "      <th>8783</th>\n",
       "      <td>12/31/2012 23:00</td>\n",
       "      <td>0.0</td>\n",
       "      <td>-2.1</td>\n",
       "      <td>86</td>\n",
       "      <td>30</td>\n",
       "      <td>11.3</td>\n",
       "      <td>99.89</td>\n",
       "      <td>Snow</td>\n",
       "    </tr>\n",
       "  </tbody>\n",
       "</table>\n",
       "<p>8784 rows × 8 columns</p>\n",
       "</div>\n",
       "    <div class=\"colab-df-buttons\">\n",
       "\n",
       "  <div class=\"colab-df-container\">\n",
       "    <button class=\"colab-df-convert\" onclick=\"convertToInteractive('df-4faf49bb-ab7a-42db-84fa-06848c5043b9')\"\n",
       "            title=\"Convert this dataframe to an interactive table.\"\n",
       "            style=\"display:none;\">\n",
       "\n",
       "  <svg xmlns=\"http://www.w3.org/2000/svg\" height=\"24px\" viewBox=\"0 -960 960 960\">\n",
       "    <path d=\"M120-120v-720h720v720H120Zm60-500h600v-160H180v160Zm220 220h160v-160H400v160Zm0 220h160v-160H400v160ZM180-400h160v-160H180v160Zm440 0h160v-160H620v160ZM180-180h160v-160H180v160Zm440 0h160v-160H620v160Z\"/>\n",
       "  </svg>\n",
       "    </button>\n",
       "\n",
       "  <style>\n",
       "    .colab-df-container {\n",
       "      display:flex;\n",
       "      gap: 12px;\n",
       "    }\n",
       "\n",
       "    .colab-df-convert {\n",
       "      background-color: #E8F0FE;\n",
       "      border: none;\n",
       "      border-radius: 50%;\n",
       "      cursor: pointer;\n",
       "      display: none;\n",
       "      fill: #1967D2;\n",
       "      height: 32px;\n",
       "      padding: 0 0 0 0;\n",
       "      width: 32px;\n",
       "    }\n",
       "\n",
       "    .colab-df-convert:hover {\n",
       "      background-color: #E2EBFA;\n",
       "      box-shadow: 0px 1px 2px rgba(60, 64, 67, 0.3), 0px 1px 3px 1px rgba(60, 64, 67, 0.15);\n",
       "      fill: #174EA6;\n",
       "    }\n",
       "\n",
       "    .colab-df-buttons div {\n",
       "      margin-bottom: 4px;\n",
       "    }\n",
       "\n",
       "    [theme=dark] .colab-df-convert {\n",
       "      background-color: #3B4455;\n",
       "      fill: #D2E3FC;\n",
       "    }\n",
       "\n",
       "    [theme=dark] .colab-df-convert:hover {\n",
       "      background-color: #434B5C;\n",
       "      box-shadow: 0px 1px 3px 1px rgba(0, 0, 0, 0.15);\n",
       "      filter: drop-shadow(0px 1px 2px rgba(0, 0, 0, 0.3));\n",
       "      fill: #FFFFFF;\n",
       "    }\n",
       "  </style>\n",
       "\n",
       "    <script>\n",
       "      const buttonEl =\n",
       "        document.querySelector('#df-4faf49bb-ab7a-42db-84fa-06848c5043b9 button.colab-df-convert');\n",
       "      buttonEl.style.display =\n",
       "        google.colab.kernel.accessAllowed ? 'block' : 'none';\n",
       "\n",
       "      async function convertToInteractive(key) {\n",
       "        const element = document.querySelector('#df-4faf49bb-ab7a-42db-84fa-06848c5043b9');\n",
       "        const dataTable =\n",
       "          await google.colab.kernel.invokeFunction('convertToInteractive',\n",
       "                                                    [key], {});\n",
       "        if (!dataTable) return;\n",
       "\n",
       "        const docLinkHtml = 'Like what you see? Visit the ' +\n",
       "          '<a target=\"_blank\" href=https://colab.research.google.com/notebooks/data_table.ipynb>data table notebook</a>'\n",
       "          + ' to learn more about interactive tables.';\n",
       "        element.innerHTML = '';\n",
       "        dataTable['output_type'] = 'display_data';\n",
       "        await google.colab.output.renderOutput(dataTable, element);\n",
       "        const docLink = document.createElement('div');\n",
       "        docLink.innerHTML = docLinkHtml;\n",
       "        element.appendChild(docLink);\n",
       "      }\n",
       "    </script>\n",
       "  </div>\n",
       "\n",
       "\n",
       "<div id=\"df-5cd13cb5-3b46-4d0d-8b37-63aedd79dd24\">\n",
       "  <button class=\"colab-df-quickchart\" onclick=\"quickchart('df-5cd13cb5-3b46-4d0d-8b37-63aedd79dd24')\"\n",
       "            title=\"Suggest charts.\"\n",
       "            style=\"display:none;\">\n",
       "\n",
       "<svg xmlns=\"http://www.w3.org/2000/svg\" height=\"24px\"viewBox=\"0 0 24 24\"\n",
       "     width=\"24px\">\n",
       "    <g>\n",
       "        <path d=\"M19 3H5c-1.1 0-2 .9-2 2v14c0 1.1.9 2 2 2h14c1.1 0 2-.9 2-2V5c0-1.1-.9-2-2-2zM9 17H7v-7h2v7zm4 0h-2V7h2v10zm4 0h-2v-4h2v4z\"/>\n",
       "    </g>\n",
       "</svg>\n",
       "  </button>\n",
       "\n",
       "<style>\n",
       "  .colab-df-quickchart {\n",
       "      --bg-color: #E8F0FE;\n",
       "      --fill-color: #1967D2;\n",
       "      --hover-bg-color: #E2EBFA;\n",
       "      --hover-fill-color: #174EA6;\n",
       "      --disabled-fill-color: #AAA;\n",
       "      --disabled-bg-color: #DDD;\n",
       "  }\n",
       "\n",
       "  [theme=dark] .colab-df-quickchart {\n",
       "      --bg-color: #3B4455;\n",
       "      --fill-color: #D2E3FC;\n",
       "      --hover-bg-color: #434B5C;\n",
       "      --hover-fill-color: #FFFFFF;\n",
       "      --disabled-bg-color: #3B4455;\n",
       "      --disabled-fill-color: #666;\n",
       "  }\n",
       "\n",
       "  .colab-df-quickchart {\n",
       "    background-color: var(--bg-color);\n",
       "    border: none;\n",
       "    border-radius: 50%;\n",
       "    cursor: pointer;\n",
       "    display: none;\n",
       "    fill: var(--fill-color);\n",
       "    height: 32px;\n",
       "    padding: 0;\n",
       "    width: 32px;\n",
       "  }\n",
       "\n",
       "  .colab-df-quickchart:hover {\n",
       "    background-color: var(--hover-bg-color);\n",
       "    box-shadow: 0 1px 2px rgba(60, 64, 67, 0.3), 0 1px 3px 1px rgba(60, 64, 67, 0.15);\n",
       "    fill: var(--button-hover-fill-color);\n",
       "  }\n",
       "\n",
       "  .colab-df-quickchart-complete:disabled,\n",
       "  .colab-df-quickchart-complete:disabled:hover {\n",
       "    background-color: var(--disabled-bg-color);\n",
       "    fill: var(--disabled-fill-color);\n",
       "    box-shadow: none;\n",
       "  }\n",
       "\n",
       "  .colab-df-spinner {\n",
       "    border: 2px solid var(--fill-color);\n",
       "    border-color: transparent;\n",
       "    border-bottom-color: var(--fill-color);\n",
       "    animation:\n",
       "      spin 1s steps(1) infinite;\n",
       "  }\n",
       "\n",
       "  @keyframes spin {\n",
       "    0% {\n",
       "      border-color: transparent;\n",
       "      border-bottom-color: var(--fill-color);\n",
       "      border-left-color: var(--fill-color);\n",
       "    }\n",
       "    20% {\n",
       "      border-color: transparent;\n",
       "      border-left-color: var(--fill-color);\n",
       "      border-top-color: var(--fill-color);\n",
       "    }\n",
       "    30% {\n",
       "      border-color: transparent;\n",
       "      border-left-color: var(--fill-color);\n",
       "      border-top-color: var(--fill-color);\n",
       "      border-right-color: var(--fill-color);\n",
       "    }\n",
       "    40% {\n",
       "      border-color: transparent;\n",
       "      border-right-color: var(--fill-color);\n",
       "      border-top-color: var(--fill-color);\n",
       "    }\n",
       "    60% {\n",
       "      border-color: transparent;\n",
       "      border-right-color: var(--fill-color);\n",
       "    }\n",
       "    80% {\n",
       "      border-color: transparent;\n",
       "      border-right-color: var(--fill-color);\n",
       "      border-bottom-color: var(--fill-color);\n",
       "    }\n",
       "    90% {\n",
       "      border-color: transparent;\n",
       "      border-bottom-color: var(--fill-color);\n",
       "    }\n",
       "  }\n",
       "</style>\n",
       "\n",
       "  <script>\n",
       "    async function quickchart(key) {\n",
       "      const quickchartButtonEl =\n",
       "        document.querySelector('#' + key + ' button');\n",
       "      quickchartButtonEl.disabled = true;  // To prevent multiple clicks.\n",
       "      quickchartButtonEl.classList.add('colab-df-spinner');\n",
       "      try {\n",
       "        const charts = await google.colab.kernel.invokeFunction(\n",
       "            'suggestCharts', [key], {});\n",
       "      } catch (error) {\n",
       "        console.error('Error during call to suggestCharts:', error);\n",
       "      }\n",
       "      quickchartButtonEl.classList.remove('colab-df-spinner');\n",
       "      quickchartButtonEl.classList.add('colab-df-quickchart-complete');\n",
       "    }\n",
       "    (() => {\n",
       "      let quickchartButtonEl =\n",
       "        document.querySelector('#df-5cd13cb5-3b46-4d0d-8b37-63aedd79dd24 button');\n",
       "      quickchartButtonEl.style.display =\n",
       "        google.colab.kernel.accessAllowed ? 'block' : 'none';\n",
       "    })();\n",
       "  </script>\n",
       "</div>\n",
       "    </div>\n",
       "  </div>\n"
      ],
      "text/plain": [
       "             Date/Time  Temp_C  Dew Point Temp_C  Rel Hum_%  Wind Speed_km/h  \\\n",
       "0        1/1/2012 0:00    -1.8              -3.9         86                4   \n",
       "1        1/1/2012 1:00    -1.8              -3.7         87                4   \n",
       "2        1/1/2012 2:00    -1.8              -3.4         89                7   \n",
       "3        1/1/2012 3:00    -1.5              -3.2         88                6   \n",
       "4        1/1/2012 4:00    -1.5              -3.3         88                7   \n",
       "...                ...     ...               ...        ...              ...   \n",
       "8779  12/31/2012 19:00     0.1              -2.7         81               30   \n",
       "8780  12/31/2012 20:00     0.2              -2.4         83               24   \n",
       "8781  12/31/2012 21:00    -0.5              -1.5         93               28   \n",
       "8782  12/31/2012 22:00    -0.2              -1.8         89               28   \n",
       "8783  12/31/2012 23:00     0.0              -2.1         86               30   \n",
       "\n",
       "      Visibility_km  Press_kPa               Weather  \n",
       "0               8.0     101.24                   Fog  \n",
       "1               8.0     101.24                   Fog  \n",
       "2               4.0     101.26  Freezing Drizzle,Fog  \n",
       "3               4.0     101.27  Freezing Drizzle,Fog  \n",
       "4               4.8     101.23                   Fog  \n",
       "...             ...        ...                   ...  \n",
       "8779            9.7     100.13                  Snow  \n",
       "8780            9.7     100.03                  Snow  \n",
       "8781            4.8      99.95                  Snow  \n",
       "8782            9.7      99.91                  Snow  \n",
       "8783           11.3      99.89                  Snow  \n",
       "\n",
       "[8784 rows x 8 columns]"
      ]
     },
     "execution_count": 156,
     "metadata": {},
     "output_type": "execute_result"
    }
   ],
   "source": [
    "#a)\n",
    "url = 'https://raw.githubusercontent.com/hernansalinas/autogradesMetodosComputacionales/main/Dataset/Weather%20Data.csv'\n",
    "df = pd.read_csv(url)\n",
    "df"
   ]
  },
  {
   "cell_type": "code",
   "execution_count": 166,
   "metadata": {
    "colab": {
     "base_uri": "https://localhost:8080/"
    },
    "executionInfo": {
     "elapsed": 206,
     "status": "ok",
     "timestamp": 1695129290202,
     "user": {
      "displayName": "DANIEL SANTIAGO MORA PEÑA",
      "userId": "03492989188833014732"
     },
     "user_tz": 300
    },
    "id": "stE-4yfxj206",
    "outputId": "ba4360ce-707a-466a-c141-e45fc1ed869c"
   },
   "outputs": [
    {
     "name": "stdout",
     "output_type": "stream",
     "text": [
      "0          1/1/2012 0:00\n",
      "1          1/1/2012 1:00\n",
      "2          1/1/2012 2:00\n",
      "3          1/1/2012 3:00\n",
      "4          1/1/2012 4:00\n",
      "              ...       \n",
      "8779    12/31/2012 19:00\n",
      "8780    12/31/2012 20:00\n",
      "8781    12/31/2012 21:00\n",
      "8782    12/31/2012 22:00\n",
      "8783    12/31/2012 23:00\n",
      "Name: Date/Time, Length: 8784, dtype: object\n"
     ]
    }
   ],
   "source": [
    "#b)\n",
    "df1 = df['Date/Time']\n",
    "df2 = df['Temp_C']\n",
    "df3 = df['Dew Point Temp_C']\n",
    "df4 = df['Rel Hum_%']\n",
    "df5 = df['Wind Speed_km/h']\n",
    "df6 = df['Visibility_km']\n",
    "df7 = df['Press_kPa']\n",
    "df8 = df['Weather']\n",
    "print(df1)"
   ]
  },
  {
   "cell_type": "code",
   "execution_count": 157,
   "metadata": {
    "colab": {
     "base_uri": "https://localhost:8080/"
    },
    "executionInfo": {
     "elapsed": 15,
     "status": "ok",
     "timestamp": 1695128921620,
     "user": {
      "displayName": "DANIEL SANTIAGO MORA PEÑA",
      "userId": "03492989188833014732"
     },
     "user_tz": 300
    },
    "id": "E2P13-wOVJaw",
    "outputId": "bdabff05-bad2-44e1-c91b-4845c5bb0af9"
   },
   "outputs": [
    {
     "data": {
      "text/plain": [
       "array(['Fog', 'Freezing Drizzle,Fog', 'Mostly Cloudy', 'Cloudy', 'Rain',\n",
       "       'Rain Showers', 'Mainly Clear', 'Snow Showers', 'Snow', 'Clear',\n",
       "       'Freezing Rain,Fog', 'Freezing Rain', 'Freezing Drizzle',\n",
       "       'Rain,Snow', 'Moderate Snow', 'Freezing Drizzle,Snow',\n",
       "       'Freezing Rain,Snow Grains', 'Snow,Blowing Snow', 'Freezing Fog',\n",
       "       'Haze', 'Rain,Fog', 'Drizzle,Fog', 'Drizzle',\n",
       "       'Freezing Drizzle,Haze', 'Freezing Rain,Haze', 'Snow,Haze',\n",
       "       'Snow,Fog', 'Snow,Ice Pellets', 'Rain,Haze', 'Thunderstorms,Rain',\n",
       "       'Thunderstorms,Rain Showers', 'Thunderstorms,Heavy Rain Showers',\n",
       "       'Thunderstorms,Rain Showers,Fog', 'Thunderstorms',\n",
       "       'Thunderstorms,Rain,Fog',\n",
       "       'Thunderstorms,Moderate Rain Showers,Fog', 'Rain Showers,Fog',\n",
       "       'Rain Showers,Snow Showers', 'Snow Pellets', 'Rain,Snow,Fog',\n",
       "       'Moderate Rain,Fog', 'Freezing Rain,Ice Pellets,Fog',\n",
       "       'Drizzle,Ice Pellets,Fog', 'Drizzle,Snow', 'Rain,Ice Pellets',\n",
       "       'Drizzle,Snow,Fog', 'Rain,Snow Grains', 'Rain,Snow,Ice Pellets',\n",
       "       'Snow Showers,Fog', 'Moderate Snow,Blowing Snow'], dtype=object)"
      ]
     },
     "execution_count": 157,
     "metadata": {},
     "output_type": "execute_result"
    }
   ],
   "source": [
    "# c)\n",
    "df.Weather.unique()"
   ]
  },
  {
   "cell_type": "code",
   "execution_count": 158,
   "metadata": {
    "colab": {
     "base_uri": "https://localhost:8080/",
     "height": 423
    },
    "executionInfo": {
     "elapsed": 10,
     "status": "ok",
     "timestamp": 1695128921620,
     "user": {
      "displayName": "DANIEL SANTIAGO MORA PEÑA",
      "userId": "03492989188833014732"
     },
     "user_tz": 300
    },
    "id": "4Hm1DSbhVdzr",
    "outputId": "ad8cc7b5-d0ad-4016-e723-258efba09861"
   },
   "outputs": [
    {
     "data": {
      "text/html": [
       "\n",
       "  <div id=\"df-2993f2fc-5a59-4a0d-b5ca-fe73f1e2f684\" class=\"colab-df-container\">\n",
       "    <div>\n",
       "<style scoped>\n",
       "    .dataframe tbody tr th:only-of-type {\n",
       "        vertical-align: middle;\n",
       "    }\n",
       "\n",
       "    .dataframe tbody tr th {\n",
       "        vertical-align: top;\n",
       "    }\n",
       "\n",
       "    .dataframe thead th {\n",
       "        text-align: right;\n",
       "    }\n",
       "</style>\n",
       "<table border=\"1\" class=\"dataframe\">\n",
       "  <thead>\n",
       "    <tr style=\"text-align: right;\">\n",
       "      <th></th>\n",
       "      <th>Date/Time</th>\n",
       "      <th>Temp_C</th>\n",
       "      <th>Dew Point Temp_C</th>\n",
       "      <th>Rel Hum_%</th>\n",
       "      <th>Wind Speed_km/h</th>\n",
       "      <th>Visibility_km</th>\n",
       "      <th>Press_kPa</th>\n",
       "      <th>Weather</th>\n",
       "    </tr>\n",
       "  </thead>\n",
       "  <tbody>\n",
       "    <tr>\n",
       "      <th>17</th>\n",
       "      <td>1/1/2012 17:00</td>\n",
       "      <td>3.0</td>\n",
       "      <td>0.0</td>\n",
       "      <td>81</td>\n",
       "      <td>13</td>\n",
       "      <td>16.1</td>\n",
       "      <td>99.81</td>\n",
       "      <td>Cloudy</td>\n",
       "    </tr>\n",
       "    <tr>\n",
       "      <th>20</th>\n",
       "      <td>1/1/2012 20:00</td>\n",
       "      <td>3.2</td>\n",
       "      <td>1.3</td>\n",
       "      <td>87</td>\n",
       "      <td>19</td>\n",
       "      <td>25.0</td>\n",
       "      <td>99.50</td>\n",
       "      <td>Cloudy</td>\n",
       "    </tr>\n",
       "    <tr>\n",
       "      <th>21</th>\n",
       "      <td>1/1/2012 21:00</td>\n",
       "      <td>4.0</td>\n",
       "      <td>1.7</td>\n",
       "      <td>85</td>\n",
       "      <td>20</td>\n",
       "      <td>25.0</td>\n",
       "      <td>99.39</td>\n",
       "      <td>Cloudy</td>\n",
       "    </tr>\n",
       "    <tr>\n",
       "      <th>23</th>\n",
       "      <td>1/1/2012 23:00</td>\n",
       "      <td>5.3</td>\n",
       "      <td>2.0</td>\n",
       "      <td>79</td>\n",
       "      <td>30</td>\n",
       "      <td>25.0</td>\n",
       "      <td>99.31</td>\n",
       "      <td>Cloudy</td>\n",
       "    </tr>\n",
       "    <tr>\n",
       "      <th>25</th>\n",
       "      <td>1/2/2012 1:00</td>\n",
       "      <td>4.6</td>\n",
       "      <td>0.0</td>\n",
       "      <td>72</td>\n",
       "      <td>39</td>\n",
       "      <td>25.0</td>\n",
       "      <td>99.26</td>\n",
       "      <td>Cloudy</td>\n",
       "    </tr>\n",
       "    <tr>\n",
       "      <th>...</th>\n",
       "      <td>...</td>\n",
       "      <td>...</td>\n",
       "      <td>...</td>\n",
       "      <td>...</td>\n",
       "      <td>...</td>\n",
       "      <td>...</td>\n",
       "      <td>...</td>\n",
       "      <td>...</td>\n",
       "    </tr>\n",
       "    <tr>\n",
       "      <th>8761</th>\n",
       "      <td>12/31/2012 1:00</td>\n",
       "      <td>-10.7</td>\n",
       "      <td>-14.0</td>\n",
       "      <td>77</td>\n",
       "      <td>15</td>\n",
       "      <td>25.0</td>\n",
       "      <td>101.50</td>\n",
       "      <td>Cloudy</td>\n",
       "    </tr>\n",
       "    <tr>\n",
       "      <th>8762</th>\n",
       "      <td>12/31/2012 2:00</td>\n",
       "      <td>-10.1</td>\n",
       "      <td>-13.4</td>\n",
       "      <td>77</td>\n",
       "      <td>9</td>\n",
       "      <td>25.0</td>\n",
       "      <td>101.45</td>\n",
       "      <td>Cloudy</td>\n",
       "    </tr>\n",
       "    <tr>\n",
       "      <th>8764</th>\n",
       "      <td>12/31/2012 4:00</td>\n",
       "      <td>-10.5</td>\n",
       "      <td>-12.8</td>\n",
       "      <td>83</td>\n",
       "      <td>11</td>\n",
       "      <td>25.0</td>\n",
       "      <td>101.34</td>\n",
       "      <td>Cloudy</td>\n",
       "    </tr>\n",
       "    <tr>\n",
       "      <th>8765</th>\n",
       "      <td>12/31/2012 5:00</td>\n",
       "      <td>-10.2</td>\n",
       "      <td>-12.4</td>\n",
       "      <td>84</td>\n",
       "      <td>6</td>\n",
       "      <td>25.0</td>\n",
       "      <td>101.28</td>\n",
       "      <td>Cloudy</td>\n",
       "    </tr>\n",
       "    <tr>\n",
       "      <th>8766</th>\n",
       "      <td>12/31/2012 6:00</td>\n",
       "      <td>-9.7</td>\n",
       "      <td>-11.7</td>\n",
       "      <td>85</td>\n",
       "      <td>4</td>\n",
       "      <td>25.0</td>\n",
       "      <td>101.23</td>\n",
       "      <td>Cloudy</td>\n",
       "    </tr>\n",
       "  </tbody>\n",
       "</table>\n",
       "<p>1728 rows × 8 columns</p>\n",
       "</div>\n",
       "    <div class=\"colab-df-buttons\">\n",
       "\n",
       "  <div class=\"colab-df-container\">\n",
       "    <button class=\"colab-df-convert\" onclick=\"convertToInteractive('df-2993f2fc-5a59-4a0d-b5ca-fe73f1e2f684')\"\n",
       "            title=\"Convert this dataframe to an interactive table.\"\n",
       "            style=\"display:none;\">\n",
       "\n",
       "  <svg xmlns=\"http://www.w3.org/2000/svg\" height=\"24px\" viewBox=\"0 -960 960 960\">\n",
       "    <path d=\"M120-120v-720h720v720H120Zm60-500h600v-160H180v160Zm220 220h160v-160H400v160Zm0 220h160v-160H400v160ZM180-400h160v-160H180v160Zm440 0h160v-160H620v160ZM180-180h160v-160H180v160Zm440 0h160v-160H620v160Z\"/>\n",
       "  </svg>\n",
       "    </button>\n",
       "\n",
       "  <style>\n",
       "    .colab-df-container {\n",
       "      display:flex;\n",
       "      gap: 12px;\n",
       "    }\n",
       "\n",
       "    .colab-df-convert {\n",
       "      background-color: #E8F0FE;\n",
       "      border: none;\n",
       "      border-radius: 50%;\n",
       "      cursor: pointer;\n",
       "      display: none;\n",
       "      fill: #1967D2;\n",
       "      height: 32px;\n",
       "      padding: 0 0 0 0;\n",
       "      width: 32px;\n",
       "    }\n",
       "\n",
       "    .colab-df-convert:hover {\n",
       "      background-color: #E2EBFA;\n",
       "      box-shadow: 0px 1px 2px rgba(60, 64, 67, 0.3), 0px 1px 3px 1px rgba(60, 64, 67, 0.15);\n",
       "      fill: #174EA6;\n",
       "    }\n",
       "\n",
       "    .colab-df-buttons div {\n",
       "      margin-bottom: 4px;\n",
       "    }\n",
       "\n",
       "    [theme=dark] .colab-df-convert {\n",
       "      background-color: #3B4455;\n",
       "      fill: #D2E3FC;\n",
       "    }\n",
       "\n",
       "    [theme=dark] .colab-df-convert:hover {\n",
       "      background-color: #434B5C;\n",
       "      box-shadow: 0px 1px 3px 1px rgba(0, 0, 0, 0.15);\n",
       "      filter: drop-shadow(0px 1px 2px rgba(0, 0, 0, 0.3));\n",
       "      fill: #FFFFFF;\n",
       "    }\n",
       "  </style>\n",
       "\n",
       "    <script>\n",
       "      const buttonEl =\n",
       "        document.querySelector('#df-2993f2fc-5a59-4a0d-b5ca-fe73f1e2f684 button.colab-df-convert');\n",
       "      buttonEl.style.display =\n",
       "        google.colab.kernel.accessAllowed ? 'block' : 'none';\n",
       "\n",
       "      async function convertToInteractive(key) {\n",
       "        const element = document.querySelector('#df-2993f2fc-5a59-4a0d-b5ca-fe73f1e2f684');\n",
       "        const dataTable =\n",
       "          await google.colab.kernel.invokeFunction('convertToInteractive',\n",
       "                                                    [key], {});\n",
       "        if (!dataTable) return;\n",
       "\n",
       "        const docLinkHtml = 'Like what you see? Visit the ' +\n",
       "          '<a target=\"_blank\" href=https://colab.research.google.com/notebooks/data_table.ipynb>data table notebook</a>'\n",
       "          + ' to learn more about interactive tables.';\n",
       "        element.innerHTML = '';\n",
       "        dataTable['output_type'] = 'display_data';\n",
       "        await google.colab.output.renderOutput(dataTable, element);\n",
       "        const docLink = document.createElement('div');\n",
       "        docLink.innerHTML = docLinkHtml;\n",
       "        element.appendChild(docLink);\n",
       "      }\n",
       "    </script>\n",
       "  </div>\n",
       "\n",
       "\n",
       "<div id=\"df-5ae762b4-2e11-495e-a74f-6148f26b12f5\">\n",
       "  <button class=\"colab-df-quickchart\" onclick=\"quickchart('df-5ae762b4-2e11-495e-a74f-6148f26b12f5')\"\n",
       "            title=\"Suggest charts.\"\n",
       "            style=\"display:none;\">\n",
       "\n",
       "<svg xmlns=\"http://www.w3.org/2000/svg\" height=\"24px\"viewBox=\"0 0 24 24\"\n",
       "     width=\"24px\">\n",
       "    <g>\n",
       "        <path d=\"M19 3H5c-1.1 0-2 .9-2 2v14c0 1.1.9 2 2 2h14c1.1 0 2-.9 2-2V5c0-1.1-.9-2-2-2zM9 17H7v-7h2v7zm4 0h-2V7h2v10zm4 0h-2v-4h2v4z\"/>\n",
       "    </g>\n",
       "</svg>\n",
       "  </button>\n",
       "\n",
       "<style>\n",
       "  .colab-df-quickchart {\n",
       "      --bg-color: #E8F0FE;\n",
       "      --fill-color: #1967D2;\n",
       "      --hover-bg-color: #E2EBFA;\n",
       "      --hover-fill-color: #174EA6;\n",
       "      --disabled-fill-color: #AAA;\n",
       "      --disabled-bg-color: #DDD;\n",
       "  }\n",
       "\n",
       "  [theme=dark] .colab-df-quickchart {\n",
       "      --bg-color: #3B4455;\n",
       "      --fill-color: #D2E3FC;\n",
       "      --hover-bg-color: #434B5C;\n",
       "      --hover-fill-color: #FFFFFF;\n",
       "      --disabled-bg-color: #3B4455;\n",
       "      --disabled-fill-color: #666;\n",
       "  }\n",
       "\n",
       "  .colab-df-quickchart {\n",
       "    background-color: var(--bg-color);\n",
       "    border: none;\n",
       "    border-radius: 50%;\n",
       "    cursor: pointer;\n",
       "    display: none;\n",
       "    fill: var(--fill-color);\n",
       "    height: 32px;\n",
       "    padding: 0;\n",
       "    width: 32px;\n",
       "  }\n",
       "\n",
       "  .colab-df-quickchart:hover {\n",
       "    background-color: var(--hover-bg-color);\n",
       "    box-shadow: 0 1px 2px rgba(60, 64, 67, 0.3), 0 1px 3px 1px rgba(60, 64, 67, 0.15);\n",
       "    fill: var(--button-hover-fill-color);\n",
       "  }\n",
       "\n",
       "  .colab-df-quickchart-complete:disabled,\n",
       "  .colab-df-quickchart-complete:disabled:hover {\n",
       "    background-color: var(--disabled-bg-color);\n",
       "    fill: var(--disabled-fill-color);\n",
       "    box-shadow: none;\n",
       "  }\n",
       "\n",
       "  .colab-df-spinner {\n",
       "    border: 2px solid var(--fill-color);\n",
       "    border-color: transparent;\n",
       "    border-bottom-color: var(--fill-color);\n",
       "    animation:\n",
       "      spin 1s steps(1) infinite;\n",
       "  }\n",
       "\n",
       "  @keyframes spin {\n",
       "    0% {\n",
       "      border-color: transparent;\n",
       "      border-bottom-color: var(--fill-color);\n",
       "      border-left-color: var(--fill-color);\n",
       "    }\n",
       "    20% {\n",
       "      border-color: transparent;\n",
       "      border-left-color: var(--fill-color);\n",
       "      border-top-color: var(--fill-color);\n",
       "    }\n",
       "    30% {\n",
       "      border-color: transparent;\n",
       "      border-left-color: var(--fill-color);\n",
       "      border-top-color: var(--fill-color);\n",
       "      border-right-color: var(--fill-color);\n",
       "    }\n",
       "    40% {\n",
       "      border-color: transparent;\n",
       "      border-right-color: var(--fill-color);\n",
       "      border-top-color: var(--fill-color);\n",
       "    }\n",
       "    60% {\n",
       "      border-color: transparent;\n",
       "      border-right-color: var(--fill-color);\n",
       "    }\n",
       "    80% {\n",
       "      border-color: transparent;\n",
       "      border-right-color: var(--fill-color);\n",
       "      border-bottom-color: var(--fill-color);\n",
       "    }\n",
       "    90% {\n",
       "      border-color: transparent;\n",
       "      border-bottom-color: var(--fill-color);\n",
       "    }\n",
       "  }\n",
       "</style>\n",
       "\n",
       "  <script>\n",
       "    async function quickchart(key) {\n",
       "      const quickchartButtonEl =\n",
       "        document.querySelector('#' + key + ' button');\n",
       "      quickchartButtonEl.disabled = true;  // To prevent multiple clicks.\n",
       "      quickchartButtonEl.classList.add('colab-df-spinner');\n",
       "      try {\n",
       "        const charts = await google.colab.kernel.invokeFunction(\n",
       "            'suggestCharts', [key], {});\n",
       "      } catch (error) {\n",
       "        console.error('Error during call to suggestCharts:', error);\n",
       "      }\n",
       "      quickchartButtonEl.classList.remove('colab-df-spinner');\n",
       "      quickchartButtonEl.classList.add('colab-df-quickchart-complete');\n",
       "    }\n",
       "    (() => {\n",
       "      let quickchartButtonEl =\n",
       "        document.querySelector('#df-5ae762b4-2e11-495e-a74f-6148f26b12f5 button');\n",
       "      quickchartButtonEl.style.display =\n",
       "        google.colab.kernel.accessAllowed ? 'block' : 'none';\n",
       "    })();\n",
       "  </script>\n",
       "</div>\n",
       "    </div>\n",
       "  </div>\n"
      ],
      "text/plain": [
       "            Date/Time  Temp_C  Dew Point Temp_C  Rel Hum_%  Wind Speed_km/h  \\\n",
       "17     1/1/2012 17:00     3.0               0.0         81               13   \n",
       "20     1/1/2012 20:00     3.2               1.3         87               19   \n",
       "21     1/1/2012 21:00     4.0               1.7         85               20   \n",
       "23     1/1/2012 23:00     5.3               2.0         79               30   \n",
       "25      1/2/2012 1:00     4.6               0.0         72               39   \n",
       "...               ...     ...               ...        ...              ...   \n",
       "8761  12/31/2012 1:00   -10.7             -14.0         77               15   \n",
       "8762  12/31/2012 2:00   -10.1             -13.4         77                9   \n",
       "8764  12/31/2012 4:00   -10.5             -12.8         83               11   \n",
       "8765  12/31/2012 5:00   -10.2             -12.4         84                6   \n",
       "8766  12/31/2012 6:00    -9.7             -11.7         85                4   \n",
       "\n",
       "      Visibility_km  Press_kPa Weather  \n",
       "17             16.1      99.81  Cloudy  \n",
       "20             25.0      99.50  Cloudy  \n",
       "21             25.0      99.39  Cloudy  \n",
       "23             25.0      99.31  Cloudy  \n",
       "25             25.0      99.26  Cloudy  \n",
       "...             ...        ...     ...  \n",
       "8761           25.0     101.50  Cloudy  \n",
       "8762           25.0     101.45  Cloudy  \n",
       "8764           25.0     101.34  Cloudy  \n",
       "8765           25.0     101.28  Cloudy  \n",
       "8766           25.0     101.23  Cloudy  \n",
       "\n",
       "[1728 rows x 8 columns]"
      ]
     },
     "execution_count": 158,
     "metadata": {},
     "output_type": "execute_result"
    }
   ],
   "source": [
    "#d)\n",
    "cloud = (df.Weather == 'Cloudy')\n",
    "\n",
    "dfC = df[cloud].copy()\n",
    "dfC"
   ]
  },
  {
   "cell_type": "code",
   "execution_count": 159,
   "metadata": {
    "colab": {
     "base_uri": "https://localhost:8080/",
     "height": 490
    },
    "executionInfo": {
     "elapsed": 405,
     "status": "ok",
     "timestamp": 1695128922017,
     "user": {
      "displayName": "DANIEL SANTIAGO MORA PEÑA",
      "userId": "03492989188833014732"
     },
     "user_tz": 300
    },
    "id": "P9fiIHoAV20w",
    "outputId": "6bd8ae07-2190-48b3-c69b-29bc72b0d767"
   },
   "outputs": [
    {
     "data": {
      "text/plain": [
       "Text(0.5, 1.0, 'Temp_C vs Tiempo')"
      ]
     },
     "execution_count": 159,
     "metadata": {},
     "output_type": "execute_result"
    },
    {
     "data": {
      "image/png": "[encoded data removed]",
      "text/plain": [
       "<Figure size 640x480 with 1 Axes>"
      ]
     },
     "metadata": {},
     "output_type": "display_data"
    }
   ],
   "source": [
    "#e)\n",
    "dfC[\"Time\"]=pd.to_datetime (dfC[\"Date/Time\"], format='%m/%d/%Y %H:%M')\n",
    "\n",
    "plt.plot(dfC['Time'], dfC['Temp_C'])\n",
    "plt.xlabel('Tiempo')\n",
    "plt.xlabel('Temp_C')\n",
    "plt.title('Temp_C vs Tiempo')"
   ]
  },
  {
   "cell_type": "code",
   "execution_count": 160,
   "metadata": {
    "colab": {
     "base_uri": "https://localhost:8080/",
     "height": 490
    },
    "executionInfo": {
     "elapsed": 437,
     "status": "ok",
     "timestamp": 1695128922441,
     "user": {
      "displayName": "DANIEL SANTIAGO MORA PEÑA",
      "userId": "03492989188833014732"
     },
     "user_tz": 300
    },
    "id": "xZB26GXjWDhb",
    "outputId": "c232e507-6ac1-47e1-fe31-cae24671d7fc"
   },
   "outputs": [
    {
     "data": {
      "text/plain": [
       "Text(0.5, 1.0, 'Press_kPa vs Tiempo')"
      ]
     },
     "execution_count": 160,
     "metadata": {},
     "output_type": "execute_result"
    },
    {
     "data": {
      "image/png": "[encoded data removed]",
      "text/plain": [
       "<Figure size 640x480 with 1 Axes>"
      ]
     },
     "metadata": {},
     "output_type": "display_data"
    }
   ],
   "source": [
    "\n",
    "plt.plot(dfC['Time'], dfC['Press_kPa'])\n",
    "plt.xlabel('Tiempo')\n",
    "plt.xlabel('Press_kPa')\n",
    "plt.title('Press_kPa vs Tiempo')"
   ]
  },
  {
   "cell_type": "code",
   "execution_count": 160,
   "metadata": {
    "executionInfo": {
     "elapsed": 15,
     "status": "ok",
     "timestamp": 1695128922443,
     "user": {
      "displayName": "DANIEL SANTIAGO MORA PEÑA",
      "userId": "03492989188833014732"
     },
     "user_tz": 300
    },
    "id": "QejiK2aAXR0M"
   },
   "outputs": [],
   "source": []
  }
 ],
 "metadata": {
  "colab": {
   "provenance": [
    {
     "file_id": "1rPJkwS_jgLuUNugWkMtcidikDTtG4c6B",
     "timestamp": 1695125017939
    }
   ]
  },
  "kernelspec": {
   "display_name": "Python 3 (ipykernel)",
   "language": "python",
   "name": "python3"
  },
  "language_info": {
   "codemirror_mode": {
    "name": "ipython",
    "version": 3
   },
   "file_extension": ".py",
   "mimetype": "text/x-python",
   "name": "python",
   "nbconvert_exporter": "python",
   "pygments_lexer": "ipython3",
   "version": "3.10.9"
  }
 },
 "nbformat": 4,
 "nbformat_minor": 1
}
