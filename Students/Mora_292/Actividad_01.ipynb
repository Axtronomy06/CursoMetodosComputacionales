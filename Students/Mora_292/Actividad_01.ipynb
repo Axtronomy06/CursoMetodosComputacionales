{
  "nbformat": 4,
  "nbformat_minor": 0,
  "metadata": {
    "colab": {
      "provenance": []
    },
    "kernelspec": {
      "name": "python3",
      "display_name": "Python 3"
    },
    "language_info": {
      "name": "python"
    }
  },
  "cells": [
    {
      "cell_type": "markdown",
      "source": [
        "**Actividad 01**\n",
        "\n",
        "1. Crea una función llamada doble_factorial que reciba un parámetro llamado n. La función debe devolver el doble factorial de n, que se define como el producto de todos los números naturales desde n hasta 1 que tienen el mismo paridad que n. Por ejemplo, si n es 5, la función debe devolver 15, que es el resultado de 5 x 3 x 1. Llama a la función doble_factorial con diferentes valores para el parámetro n, como 6, 7 o 8.\n",
        "\n",
        "2. Crea una función llamada lucas que reciba un parámetro llamado n. La función debe devolver el n-ésimo término de la sucesión de Lucas, que se define de forma similar a la sucesión de Fibonacci, pero con los dos primeros términos iguales a 2 y 1. Por ejemplo, si n es 3, la función debe devolver 4, que es el tercer término de la sucesión. Llama a la función lucas con diferentes valores para el parámetro n, como 9, 10 o 11.\n",
        "\n",
        "3. Crea una función llamada binomial que reciba dos parámetros llamados n y k. La función debe devolver el coeficiente binomial de n y k, que se define como el número de formas de elegir k elementos distintos de un conjunto de n elementos. Por ejemplo, si n es 5 y k es 3, la función debe devolver 10, ya que hay diez formas de elegir tres elementos distintos de un conjunto de cinco elementos. Llama a la función binomial con diferentes valores para los parámetros n y k, como 6 y 4, o 7 y 2.\n",
        "\n",
        "La entrega se realizará de dos formas:\n",
        "\n",
        "Creando un archivo de jupyter con extension actividad_01.ipynb.\n",
        "Creando un archivo llamado actividad_01.py,"
      ],
      "metadata": {
        "id": "G4PyE-4rXGNP"
      }
    },
    {
      "cell_type": "code",
      "source": [
        "def factorial(n):\n",
        "  sum = 1\n",
        "  for i in range(1,n+1):\n",
        "    sum*=i\n",
        "    print(sum)"
      ],
      "metadata": {
        "id": "VJ-L-w3IpjBM"
      },
      "execution_count": 3,
      "outputs": []
    },
    {
      "cell_type": "code",
      "source": [
        "factorial(10)"
      ],
      "metadata": {
        "colab": {
          "base_uri": "https://localhost:8080/"
        },
        "id": "vOtYT3iCp2WF",
        "outputId": "1f47dfd5-cd9e-4f14-91fa-af4ee9ebb997"
      },
      "execution_count": null,
      "outputs": [
        {
          "output_type": "stream",
          "name": "stdout",
          "text": [
            "1\n",
            "2\n",
            "6\n",
            "24\n",
            "120\n",
            "720\n",
            "5040\n",
            "40320\n",
            "362880\n",
            "3628800\n"
          ]
        }
      ]
    },
    {
      "cell_type": "code",
      "source": [
        "def doble_factorial(n):\n",
        "  if n >= 0 and n%2 == 0:\n",
        "    sum=1\n",
        "    for i in range(2,n+1,2):\n",
        "      sum*=i\n",
        "    print(f'el doble factorial del numero ingresado es: {sum}')\n",
        "  elif n >= 0:\n",
        "    sum=1\n",
        "    for i in range(1,n+1,2):\n",
        "      sum*=i\n",
        "    print(f'el doble factorial del numero ingresado es: {sum}')\n",
        "  elif n<0:\n",
        "    print('Ingrese un entero positivo')\n"
      ],
      "metadata": {
        "id": "Jx8O5iFoXG8N"
      },
      "execution_count": null,
      "outputs": []
    },
    {
      "cell_type": "code",
      "source": [
        "doble_factorial(10)"
      ],
      "metadata": {
        "colab": {
          "base_uri": "https://localhost:8080/"
        },
        "id": "FrQ8BhNqY1V2",
        "outputId": "65ec4da7-a8a7-4dba-f4d4-735dc339a3aa"
      },
      "execution_count": null,
      "outputs": [
        {
          "output_type": "stream",
          "name": "stdout",
          "text": [
            "el factorial del numero ingresado es: 3840\n"
          ]
        }
      ]
    },
    {
      "cell_type": "code",
      "source": [
        "range??"
      ],
      "metadata": {
        "id": "yNzpqie7Ymi5"
      },
      "execution_count": null,
      "outputs": []
    },
    {
      "cell_type": "code",
      "source": [
        "def fibbo(n):\n",
        "  a = 0\n",
        "  b = 1\n",
        "  for i in range(0,n+1):\n",
        "    sum = a+b\n",
        "    a = b\n",
        "    b = sum\n",
        "  print(f'El termino {n} de la sucesión de fibonacci es {sum}')"
      ],
      "metadata": {
        "id": "DNMCTUq0btQx"
      },
      "execution_count": null,
      "outputs": []
    },
    {
      "cell_type": "code",
      "source": [
        "fibbo(10)"
      ],
      "metadata": {
        "colab": {
          "base_uri": "https://localhost:8080/"
        },
        "id": "we7Ew22acile",
        "outputId": "735e2125-8337-415d-ad0d-099490f1d91e"
      },
      "execution_count": null,
      "outputs": [
        {
          "output_type": "stream",
          "name": "stdout",
          "text": [
            "El termino 1 de la sucesión de fibonacci es 2\n"
          ]
        }
      ]
    },
    {
      "cell_type": "code",
      "source": [
        "def lucas(n):\n",
        "  a = 2\n",
        "  b = 1\n",
        "  luca = [a,b]\n",
        "  for i in range(0,n-2):\n",
        "    sum = a+b\n",
        "    a = b\n",
        "    b = sum\n",
        "    luca.append(sum)\n",
        "  print(f'El termino {n} de la sucesión de luca es', luca[-1])\n",
        "  #print(luca)"
      ],
      "metadata": {
        "id": "4z073uBMYnp_"
      },
      "execution_count": null,
      "outputs": []
    },
    {
      "cell_type": "code",
      "source": [
        "lucas(10)"
      ],
      "metadata": {
        "colab": {
          "base_uri": "https://localhost:8080/"
        },
        "id": "TwD5uaBVgDWJ",
        "outputId": "4d431d2c-17fa-4628-92e6-d310fb7d336b"
      },
      "execution_count": null,
      "outputs": [
        {
          "output_type": "stream",
          "name": "stdout",
          "text": [
            "El termino 10 de la sucesión de luca es 76\n",
            "[2, 1, 3, 4, 7, 11, 18, 29, 47, 76]\n"
          ]
        }
      ]
    },
    {
      "cell_type": "code",
      "source": [
        "#función factorial para el coeficeinte binomial\n",
        "def factorialbin(n):\n",
        "  sum = 1\n",
        "  for i in range(1,n+1):\n",
        "    sum*=i\n",
        "  return sum"
      ],
      "metadata": {
        "id": "LMyJnlucjsty"
      },
      "execution_count": 6,
      "outputs": []
    },
    {
      "cell_type": "markdown",
      "source": [
        "Usando la formula: $$Coeficiente binomial = n!/k!(n-k)!$$ y con $$a = n!$$, $$b = k!$$ y $$c = (n-k)!$$ **(ver el codigo abajo)**"
      ],
      "metadata": {
        "id": "zGH6yGqzj7rl"
      }
    },
    {
      "cell_type": "code",
      "source": [
        "def binomial(n,k):\n",
        "  a = factorialbin(n)\n",
        "  b = factorialbin(k)\n",
        "  c_ = n-k\n",
        "  c = factorialbin(c_)\n",
        "  bin = a/(b*c)\n",
        "  print(f'El coeficeinte binomial para el conjunto de {n} elementos con {k} subconjuntos es: {bin}')"
      ],
      "metadata": {
        "id": "D5-nX_Yvi-16"
      },
      "execution_count": 18,
      "outputs": []
    },
    {
      "cell_type": "code",
      "source": [
        "binomial(7,2)"
      ],
      "metadata": {
        "colab": {
          "base_uri": "https://localhost:8080/"
        },
        "id": "EKrp0bBjjeSy",
        "outputId": "e842ce25-e8f9-46a6-a6cc-2d403327b39e"
      },
      "execution_count": 21,
      "outputs": [
        {
          "output_type": "stream",
          "name": "stdout",
          "text": [
            "El coeficeinte binomial para el conjunto de 7 elementos con 2 subconjuntos es: 21.0\n"
          ]
        }
      ]
    },
    {
      "cell_type": "code",
      "source": [],
      "metadata": {
        "id": "DhTMVjYojgot"
      },
      "execution_count": null,
      "outputs": []
    }
  ]
}