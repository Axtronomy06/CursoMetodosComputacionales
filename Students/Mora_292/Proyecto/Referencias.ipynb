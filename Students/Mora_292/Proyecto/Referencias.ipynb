{
 "cells": [
  {
   "cell_type": "markdown",
   "metadata": {
    "id": "U8fCoS5brwN-"
   },
   "source": [
    "\n",
    "\n",
    "*   Baden, A. R. (s. f.). The simple pendulum. University of Maryland https://www.physics.umd.edu/hep/drew/pendulum2.html\n",
    "*   González, J. (s. f.). El péndulo doble. Física con ordenador. http://www.sc.ehu.es/sbweb/fisica/oscilaciones/pendulo_doble/pendulo_doble.htm\n",
    "\n"
   ]
  }
 ],
 "metadata": {
  "colab": {
   "authorship_tag": "ABX9TyN2OmzkfMUT0TGLL2pHE5JB",
   "provenance": []
  },
  "kernelspec": {
   "display_name": "Python 3 (ipykernel)",
   "language": "python",
   "name": "python3"
  },
  "language_info": {
   "codemirror_mode": {
    "name": "ipython",
    "version": 3
   },
   "file_extension": ".py",
   "mimetype": "text/x-python",
   "name": "python",
   "nbconvert_exporter": "python",
   "pygments_lexer": "ipython3",
   "version": "3.10.9"
  }
 },
 "nbformat": 4,
 "nbformat_minor": 1
}
