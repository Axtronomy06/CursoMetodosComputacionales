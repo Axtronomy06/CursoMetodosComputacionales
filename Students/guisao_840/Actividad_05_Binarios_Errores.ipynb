{
  "cells": [
    {
      "cell_type": "markdown",
      "id": "6d26e874",
      "metadata": {
        "id": "6d26e874"
      },
      "source": [
        "<a href=\"https://colab.research.google.com/github/hernansalinas/autogrades/blob/main/Actividades_clase/Actividad_04_Binarios_Errores.ipynb\" target=\"_parent\"><img src=\"https://colab.research.google.com/assets/colab-badge.svg\" alt=\"Open In Colab\"/></a>\n",
        "\n",
        "\n",
        "\n",
        "# Actividad 4\n",
        "### Métodos computacionales para físicos  y astrónomos\n",
        "### Universidad de Antioquia\n",
        "### Prof: Hernan D. Salinas Jiménez\n"
      ]
    },
    {
      "cell_type": "code",
      "execution_count": null,
      "id": "eae80e3f",
      "metadata": {
        "id": "eae80e3f",
        "outputId": "5d328367-08fb-4d05-f1c7-12151722e339",
        "colab": {
          "base_uri": "https://localhost:8080/"
        }
      },
      "outputs": [
        {
          "output_type": "stream",
          "name": "stdout",
          "text": [
            "Cloning into 'autogrades'...\n",
            "remote: Enumerating objects: 642, done.\u001b[K\n",
            "remote: Counting objects: 100% (258/258), done.\u001b[K\n",
            "remote: Compressing objects: 100% (175/175), done.\u001b[K\n",
            "remote: Total 642 (delta 144), reused 153 (delta 82), pack-reused 384\u001b[K\n",
            "Receiving objects: 100% (642/642), 38.78 MiB | 19.85 MiB/s, done.\n",
            "Resolving deltas: 100% (338/338), done.\n"
          ]
        }
      ],
      "source": [
        "!git clone https://github.com/hernansalinas/autogrades.git\n",
        "#path=\"libs\"\n",
        "path=\"autogrades/Actividades_clase/libs\"\n",
        "%run -i {path}/libUnitTest.py"
      ]
    },
    {
      "cell_type": "markdown",
      "id": "74f1131a",
      "metadata": {
        "id": "74f1131a"
      },
      "source": [
        "### Activity 1.0:\n",
        "\n",
        "Implement a function that get the binary representation of an integer with name mybin, the algorithm should return\n",
        "a string with 8 characters, the maximun number that represent the funcition is integer of 8 bit. The name of function is\n",
        "mybin\n",
        "\n",
        "Ejexample :\n",
        "\n",
        "b=mybin(x)\n",
        "\n",
        "b='00101000'"
      ]
    },
    {
      "cell_type": "code",
      "execution_count": null,
      "id": "4c8dabcf",
      "metadata": {
        "id": "4c8dabcf"
      },
      "outputs": [],
      "source": [
        "##!/usr/bin/env python3\n",
        "def mybin(x):\n",
        "    print('__name__ = {}'.format(__name__))\n",
        "   # Write your code here and change the next line as required\n",
        "    return \"111\""
      ]
    },
    {
      "cell_type": "code",
      "source": [
        "import numpy as np"
      ],
      "metadata": {
        "id": "qheo-tzPnogC"
      },
      "id": "qheo-tzPnogC",
      "execution_count": null,
      "outputs": []
    },
    {
      "cell_type": "code",
      "source": [
        "def mybin(x):\n",
        "  bin= []\n",
        "  if x>0:\n",
        "\n",
        "    while x>0 or x>1:\n",
        "      cociente=int(x/2)\n",
        "      residuo=int(x%2)\n",
        "      x=cociente\n",
        "      bin.append(residuo)\n",
        "\n",
        "    while len(bin)<8:\n",
        "      bin.append(0)\n",
        "\n",
        "    binario= bin[::-1]\n",
        "    num_binario= ''.join(map(str,binario))\n",
        "    return num_binario\n",
        "mybin(72)"
      ],
      "metadata": {
        "colab": {
          "base_uri": "https://localhost:8080/",
          "height": 35
        },
        "id": "G-IBP3hQvUDx",
        "outputId": "751deab0-6e35-4862-eafe-9d5b981e08d8"
      },
      "id": "G-IBP3hQvUDx",
      "execution_count": null,
      "outputs": [
        {
          "output_type": "execute_result",
          "data": {
            "text/plain": [
              "'01001000'"
            ],
            "application/vnd.google.colaboratory.intrinsic+json": {
              "type": "string"
            }
          },
          "metadata": {},
          "execution_count": 4
        }
      ]
    },
    {
      "cell_type": "code",
      "execution_count": null,
      "id": "885be6fb",
      "metadata": {
        "id": "885be6fb",
        "outputId": "7fe88c0f-84e8-44bd-c097-3a557cd1c77c",
        "colab": {
          "base_uri": "https://localhost:8080/",
          "height": 215
        }
      },
      "outputs": [
        {
          "output_type": "display_data",
          "data": {
            "text/plain": [
              "<IPython.core.display.HTML object>"
            ],
            "text/html": [
              "<style>\n",
              "  table { text-align: left; border-collapse: collapse; margin: 1em; caption-side: bottom; font-family: Sans-Serif; font-size: 12px}\n",
              "  caption { text-align: left; padding: 5px }\n",
              "  th, td { border: 2px solid #BFC9CA; padding: 5px }\n",
              "  th { background-color: #BFC9CA }\n",
              "  .passed { background-color: #76D7C4 }\n",
              "  .failed { background-color: #EC7063 }\n",
              "  .skipped { background-color: #EDBB99 }\n",
              "  .score { background-color: #7DCEA0 }\n",
              "  .results .points { display: none }\n",
              "  .results .message { display: block; font-size:smaller; color:#D35400 }\n",
              "  .results .note { display: block; font-size:smaller; font-decoration:italics }\n",
              "  .results .passed::before  { content: \"Passed\" } \n",
              "  .results .skipped::before  { content: \"Skipped\" } \n",
              "  .results .failed::before  { content: \"Failed\" } \n",
              "  .grade .passed  .message:empty::before { content:\"Passed\" }\n",
              "  .grade .failed  .message:empty::before { content:\"Failed\" }\n",
              "  .grade .skipped .message:empty::before { content:\"Skipped\" }   \n",
              "</style>\n",
              "<table class='results'>\n",
              "  <th class='test'>Test</th><th class='result'>Result</th></tr>\n",
              "<tr>\n",
              "  <td class='test'>\n",
              "    La salida debe ser un string \n",
              "    <div class='message'>Done</div>\n",
              "  </td>\n",
              "  <td class='result passed'></td>\n",
              "</tr>\n",
              "<tr>\n",
              "  <td class='test'>\n",
              "    La longitud del string debe ser de 8 \n",
              "    <div class='message'>Done</div>\n",
              "  </td>\n",
              "  <td class='result passed'></td>\n",
              "</tr>\n",
              "<tr>\n",
              "  <td class='test'>\n",
              "    Para el número 77 su representacion es 01001101 \n",
              "    <div class='message'>Done</div>\n",
              "  </td>\n",
              "  <td class='result passed'></td>\n",
              "</tr>  <tr><th class='score'>Total Points</th><th class='score'>3</th></tr></table>\n"
            ]
          },
          "metadata": {}
        }
      ],
      "source": [
        "%run -i {path}/Act_02/test01.py"
      ]
    },
    {
      "cell_type": "code",
      "source": [],
      "metadata": {
        "id": "KQADBM7__UZ3"
      },
      "id": "KQADBM7__UZ3",
      "execution_count": null,
      "outputs": []
    },
    {
      "cell_type": "markdown",
      "id": "e622b7b5",
      "metadata": {
        "id": "e622b7b5"
      },
      "source": [
        "### Activity 2.0:\n",
        "\n",
        "With the binary representation please try to implement the formula to recover the number.\n",
        "\n",
        "Hint: Use as input the binary representation as a string and invert its order\n",
        "\n",
        "```\n",
        "number32(BIN):\n",
        "\n",
        "```\n",
        "\n",
        "Where BIN is a string with the binary number\n",
        "\n",
        "Example:\n",
        "\n",
        "\n",
        "Test your solution for the next number:\n",
        "\n",
        "number32(\"00111110001000000000001000010000\")"
      ]
    },
    {
      "cell_type": "code",
      "execution_count": null,
      "id": "5f3c6506",
      "metadata": {
        "id": "5f3c6506",
        "colab": {
          "base_uri": "https://localhost:8080/"
        },
        "outputId": "a58e4bc9-9583-4e3d-990d-b0e164f382a2"
      },
      "outputs": [
        {
          "output_type": "execute_result",
          "data": {
            "text/plain": [
              "0.15625786781311035"
            ]
          },
          "metadata": {},
          "execution_count": 6
        }
      ],
      "source": [
        "def number32(BIN):\n",
        "  num_invertido = np.array(list(BIN)[::-1]).astype(int) #invierte la lista de los binarios y los almacena en un array como enteros\n",
        "  sign = num_invertido[31] #nos da el signo del numero si es 1 es negativo y si es cero es positivo\n",
        "\n",
        "  decimal= 1 #parte decimal\n",
        "  for i in range(1,23):\n",
        "    decimal= decimal + (num_invertido[23-i])*2**-i\n",
        "\n",
        "  exp= 0 #parte exponencial\n",
        "  for i in range(0,8):\n",
        "    exp= exp + (num_invertido[23+i])*2**i\n",
        "\n",
        "  numero=((-1)**(sign)/2**(127-exp))*decimal\n",
        "  return numero\n",
        "\n",
        "number32(\"00111110001000000000001000010000\")\n"
      ]
    },
    {
      "cell_type": "code",
      "execution_count": null,
      "id": "155ffd7f",
      "metadata": {
        "id": "155ffd7f",
        "outputId": "8f7a6d7a-4ed7-4d89-9f76-e25730fc2eeb",
        "colab": {
          "base_uri": "https://localhost:8080/"
        }
      },
      "outputs": [
        {
          "output_type": "stream",
          "name": "stdout",
          "text": [
            "La función no ha sido definda o el numero de argumento no es el adecuado\n"
          ]
        }
      ],
      "source": [
        "%run -i {path}/Act_02/test02.py"
      ]
    },
    {
      "cell_type": "markdown",
      "id": "d11e596d",
      "metadata": {
        "id": "d11e596d"
      },
      "source": [
        "### Activity 3.0:\n",
        "1. Write a python script that calculates the double precision number represented by a 64-bits binary.\n",
        "\n",
        "the name of function should be:\n",
        "```\n",
        "number64(BIN):\n",
        "\n",
        "```\n",
        "\n",
        "2. What is the number represented by:\n",
        "\n",
        "BIN=\"0 10000000011 1011100100001111111111111111111111111111111111111111\""
      ]
    },
    {
      "cell_type": "code",
      "execution_count": null,
      "id": "b0922a1d",
      "metadata": {
        "id": "b0922a1d",
        "colab": {
          "base_uri": "https://localhost:8080/"
        },
        "outputId": "0eef0ef1-00d0-4102-e9fb-6d956a730ef5"
      },
      "outputs": [
        {
          "output_type": "execute_result",
          "data": {
            "text/plain": [
              "27.566406249999996"
            ]
          },
          "metadata": {},
          "execution_count": 8
        }
      ],
      "source": [
        "def number64(BIN):\n",
        "  numero_invertido= np.array(list(BIN)[::-1]).astype(int) #invertimos la lista\n",
        "  signo= numero_invertido[63] #signo del numero\n",
        "\n",
        "  decimal=1 #parte decimal\n",
        "  for i in range(1,53):\n",
        "    decimal= decimal + (numero_invertido[52-i])*2**-i\n",
        "\n",
        "  exp= 0 #parte exponencial\n",
        "  for i in range(0,11):\n",
        "    exp= exp + (numero_invertido[52+i])*2**i\n",
        "\n",
        "  numero=((-1)**(signo))*(decimal)*(2**(exp-1023)) #numero decimal\n",
        "  return numero\n",
        "\n",
        "number64(\"0100000000111011100100001111111111111111111111111111111111111111\")"
      ]
    },
    {
      "cell_type": "code",
      "execution_count": null,
      "id": "cd48a992",
      "metadata": {
        "scrolled": false,
        "id": "cd48a992",
        "outputId": "a8d109f5-2406-4b04-ae46-d853c93153ac",
        "colab": {
          "base_uri": "https://localhost:8080/",
          "height": 140
        }
      },
      "outputs": [
        {
          "output_type": "error",
          "ename": "SyntaxError",
          "evalue": "ignored",
          "traceback": [
            "\u001b[0;36m  File \u001b[0;32m\"/content/autogrades/Actividades_clase/libs/Act_02/test03.py\"\u001b[0;36m, line \u001b[0;32m28\u001b[0m\n\u001b[0;31m    True)\u001b[0m\n\u001b[0m        ^\u001b[0m\n\u001b[0;31mSyntaxError\u001b[0m\u001b[0;31m:\u001b[0m unmatched ')'\n"
          ]
        }
      ],
      "source": [
        "%run -i {path}/Act_02/test03.py"
      ]
    }
  ],
  "metadata": {
    "kernelspec": {
      "display_name": "Python 3 (ipykernel)",
      "language": "python",
      "name": "python3"
    },
    "language_info": {
      "codemirror_mode": {
        "name": "ipython",
        "version": 3
      },
      "file_extension": ".py",
      "mimetype": "text/x-python",
      "name": "python",
      "nbconvert_exporter": "python",
      "pygments_lexer": "ipython3",
      "version": "3.10.9"
    },
    "colab": {
      "provenance": []
    }
  },
  "nbformat": 4,
  "nbformat_minor": 5
}