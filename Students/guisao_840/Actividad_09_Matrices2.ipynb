{
  "nbformat": 4,
  "nbformat_minor": 0,
  "metadata": {
    "colab": {
      "provenance": []
    },
    "kernelspec": {
      "name": "python3",
      "display_name": "Python 3"
    },
    "language_info": {
      "name": "python"
    }
  },
  "cells": [
    {
      "cell_type": "code",
      "source": [
        "import numpy as np\n",
        "import pandas as pd\n",
        "import sympy as sp\n",
        "import matplotlib.pyplot as plt"
      ],
      "metadata": {
        "id": "LGEtqLJlw2eb"
      },
      "execution_count": null,
      "outputs": []
    },
    {
      "cell_type": "code",
      "source": [
        "#generar matrices\n",
        "x= np.array([(1,2),(2,4)])#crea matriz\n",
        "np.shape(x) #numero de filas y columnas"
      ],
      "metadata": {
        "id": "Gf8I1Fe7TuvN",
        "colab": {
          "base_uri": "https://localhost:8080/"
        },
        "outputId": "0b8d96ee-d605-4513-f22c-f82490528754"
      },
      "execution_count": null,
      "outputs": [
        {
          "output_type": "execute_result",
          "data": {
            "text/plain": [
              "(2, 2)"
            ]
          },
          "metadata": {},
          "execution_count": 5
        }
      ]
    },
    {
      "cell_type": "markdown",
      "source": [
        "# Arreglos de numpy"
      ],
      "metadata": {
        "id": "wtJNu-2mLSsV"
      }
    },
    {
      "cell_type": "code",
      "source": [
        "# Generemos una arreglos ndimensaionales, ¿como podemos acceder a los elementos?\n",
        "X = np.random.randint(0, 55, (6,6)) #randint es para numeros aleatorios\n",
        "X"
      ],
      "metadata": {
        "colab": {
          "base_uri": "https://localhost:8080/"
        },
        "id": "97ecIcqMhbru",
        "outputId": "afb79b9a-31db-47ad-e81a-0c6a6fb50d69"
      },
      "execution_count": null,
      "outputs": [
        {
          "output_type": "execute_result",
          "data": {
            "text/plain": [
              "array([[ 3,  2, 24, 25, 37, 30],\n",
              "       [30, 30, 41, 34, 33, 30],\n",
              "       [31, 11, 51,  7, 44, 27],\n",
              "       [45, 33, 47, 42, 39, 16],\n",
              "       [10, 22, 20, 48, 28,  3],\n",
              "       [12, 13, 13, 14, 41, 14]])"
            ]
          },
          "metadata": {},
          "execution_count": 58
        }
      ]
    },
    {
      "cell_type": "code",
      "source": [
        "X[0] #acceder a filas\n",
        "x[:,0] #accede a columnas"
      ],
      "metadata": {
        "colab": {
          "base_uri": "https://localhost:8080/"
        },
        "id": "UPZ4HVeSiAa_",
        "outputId": "5e1a08c7-734d-40ad-8208-eea2b923d2d8"
      },
      "execution_count": null,
      "outputs": [
        {
          "output_type": "execute_result",
          "data": {
            "text/plain": [
              "array([ 3,  2, 24, 25, 37, 30])"
            ]
          },
          "metadata": {},
          "execution_count": 59
        }
      ]
    },
    {
      "cell_type": "code",
      "source": [
        "x=np.random.randint(0,100, (6,6))\n",
        "x"
      ],
      "metadata": {
        "colab": {
          "base_uri": "https://localhost:8080/"
        },
        "id": "J-1Ei2qrUv09",
        "outputId": "430bc718-b2b7-4483-b8a0-0fd78fd829de"
      },
      "execution_count": null,
      "outputs": [
        {
          "output_type": "execute_result",
          "data": {
            "text/plain": [
              "array([[24, 86, 73, 54,  6, 10],\n",
              "       [37, 95,  3,  8, 25, 86],\n",
              "       [24, 18,  0, 81, 43,  3],\n",
              "       [90, 97, 54, 39, 90, 39],\n",
              "       [57, 17, 42, 15, 59, 79],\n",
              "       [40, 55, 25, 24, 47, 69]])"
            ]
          },
          "metadata": {},
          "execution_count": 8
        }
      ]
    },
    {
      "cell_type": "code",
      "source": [
        "x[3:6, 3:6]"
      ],
      "metadata": {
        "colab": {
          "base_uri": "https://localhost:8080/"
        },
        "id": "Vf-91BYDVN58",
        "outputId": "6590aa31-8c04-4cf5-bca5-67db97bd9bb2"
      },
      "execution_count": null,
      "outputs": [
        {
          "output_type": "execute_result",
          "data": {
            "text/plain": [
              "array([[39, 90, 39],\n",
              "       [15, 59, 79],\n",
              "       [24, 47, 69]])"
            ]
          },
          "metadata": {},
          "execution_count": 31
        }
      ]
    },
    {
      "cell_type": "code",
      "source": [
        "x[0:6:2\n",
        "  , 1:6:2]"
      ],
      "metadata": {
        "colab": {
          "base_uri": "https://localhost:8080/"
        },
        "id": "cIQ2xbTeWvLq",
        "outputId": "d88e90db-5521-4ec7-93f9-af1a748da4a8"
      },
      "execution_count": null,
      "outputs": [
        {
          "output_type": "execute_result",
          "data": {
            "text/plain": [
              "array([[86, 54, 10],\n",
              "       [18, 81,  3],\n",
              "       [17, 15, 79]])"
            ]
          },
          "metadata": {},
          "execution_count": 43
        }
      ]
    },
    {
      "cell_type": "code",
      "source": [
        "x[4:6, 0:3:2]"
      ],
      "metadata": {
        "colab": {
          "base_uri": "https://localhost:8080/"
        },
        "id": "a3Ld6HtjXD1m",
        "outputId": "17888dcc-c650-4d75-9046-764b618fa48e"
      },
      "execution_count": null,
      "outputs": [
        {
          "output_type": "execute_result",
          "data": {
            "text/plain": [
              "array([[57, 42],\n",
              "       [40, 25]])"
            ]
          },
          "metadata": {},
          "execution_count": 42
        }
      ]
    },
    {
      "cell_type": "code",
      "source": [],
      "metadata": {
        "id": "WvZmwRsMXO8O"
      },
      "execution_count": null,
      "outputs": []
    },
    {
      "cell_type": "code",
      "source": [
        "X[0][1:4] #accede a elementos de la matriz"
      ],
      "metadata": {
        "colab": {
          "base_uri": "https://localhost:8080/"
        },
        "id": "FfnQsOUDibOE",
        "outputId": "b8e65e9c-8f1f-4621-a4c9-03cd112d0201"
      },
      "execution_count": null,
      "outputs": [
        {
          "output_type": "execute_result",
          "data": {
            "text/plain": [
              "array([ 2, 24, 25])"
            ]
          },
          "metadata": {},
          "execution_count": 60
        }
      ]
    },
    {
      "cell_type": "code",
      "source": [
        "X[0, 1:4:2]"
      ],
      "metadata": {
        "colab": {
          "base_uri": "https://localhost:8080/"
        },
        "id": "vkNXHb5rizs5",
        "outputId": "4bce2cd3-2e81-4cc3-b9be-e60afc22de02"
      },
      "execution_count": null,
      "outputs": [
        {
          "output_type": "execute_result",
          "data": {
            "text/plain": [
              "array([ 2, 25])"
            ]
          },
          "metadata": {},
          "execution_count": 61
        }
      ]
    },
    {
      "cell_type": "code",
      "source": [
        "X[2::2,::2 ]"
      ],
      "metadata": {
        "colab": {
          "base_uri": "https://localhost:8080/"
        },
        "id": "KMe75hMwletS",
        "outputId": "04cb89d5-fa60-476b-ac32-75549c5902a7"
      },
      "execution_count": null,
      "outputs": [
        {
          "output_type": "execute_result",
          "data": {
            "text/plain": [
              "array([[31, 51, 44],\n",
              "       [10, 20, 28]])"
            ]
          },
          "metadata": {},
          "execution_count": 62
        }
      ]
    },
    {
      "cell_type": "code",
      "source": [
        "# Permutaciones:"
      ],
      "metadata": {
        "id": "hC_QTDyyM0T3"
      },
      "execution_count": null,
      "outputs": []
    },
    {
      "cell_type": "code",
      "source": [
        "X"
      ],
      "metadata": {
        "colab": {
          "base_uri": "https://localhost:8080/"
        },
        "id": "JYhVm8_TM2Tf",
        "outputId": "6567810f-8346-4fc2-8d2b-e28b96f0953b"
      },
      "execution_count": null,
      "outputs": [
        {
          "output_type": "execute_result",
          "data": {
            "text/plain": [
              "array([[ 3,  2, 24, 25, 37, 30],\n",
              "       [30, 30, 41, 34, 33, 30],\n",
              "       [31, 11, 51,  7, 44, 27],\n",
              "       [45, 33, 47, 42, 39, 16],\n",
              "       [10, 22, 20, 48, 28,  3],\n",
              "       [12, 13, 13, 14, 41, 14]])"
            ]
          },
          "metadata": {},
          "execution_count": 64
        }
      ]
    },
    {
      "cell_type": "code",
      "source": [
        "X[[2,1]] =X[[1,2]]"
      ],
      "metadata": {
        "id": "m-oTG0W7M4Ku"
      },
      "execution_count": null,
      "outputs": []
    },
    {
      "cell_type": "code",
      "source": [
        "X"
      ],
      "metadata": {
        "colab": {
          "base_uri": "https://localhost:8080/"
        },
        "id": "cc_qEzAeNdmX",
        "outputId": "cc85d54b-e99d-418e-bd4b-bc3c6fe2fa8f"
      },
      "execution_count": null,
      "outputs": [
        {
          "output_type": "execute_result",
          "data": {
            "text/plain": [
              "array([[ 3,  2, 24, 25, 37, 30],\n",
              "       [31, 11, 51,  7, 44, 27],\n",
              "       [30, 30, 41, 34, 33, 30],\n",
              "       [45, 33, 47, 42, 39, 16],\n",
              "       [10, 22, 20, 48, 28,  3],\n",
              "       [12, 13, 13, 14, 41, 14]])"
            ]
          },
          "metadata": {},
          "execution_count": 66
        }
      ]
    },
    {
      "cell_type": "code",
      "source": [
        "# Operaciones matriciales"
      ],
      "metadata": {
        "id": "tpPPxUiULgge"
      },
      "execution_count": null,
      "outputs": []
    },
    {
      "cell_type": "code",
      "source": [
        "X=np.array([[1,2],[3,4]])\n",
        "B=np.array([[5,2],[1,4]])\n",
        "np.linalg.inv(X)"
      ],
      "metadata": {
        "colab": {
          "base_uri": "https://localhost:8080/"
        },
        "id": "U8snX3DpLXtp",
        "outputId": "c12dd895-4bb6-4d68-f1b5-d35df9b1a741"
      },
      "execution_count": null,
      "outputs": [
        {
          "output_type": "execute_result",
          "data": {
            "text/plain": [
              "array([[-2. ,  1. ],\n",
              "       [ 1.5, -0.5]])"
            ]
          },
          "metadata": {},
          "execution_count": 45
        }
      ]
    },
    {
      "cell_type": "code",
      "source": [
        "np.linalg.det(X)"
      ],
      "metadata": {
        "colab": {
          "base_uri": "https://localhost:8080/"
        },
        "id": "XwCim3VlLfKU",
        "outputId": "8c1604b6-4e32-4817-9699-87ade07efc00"
      },
      "execution_count": null,
      "outputs": [
        {
          "output_type": "execute_result",
          "data": {
            "text/plain": [
              "-2.0000000000000004"
            ]
          },
          "metadata": {},
          "execution_count": 69
        }
      ]
    },
    {
      "cell_type": "code",
      "source": [
        "np.dot([2j, 3j], [2j, 3j])"
      ],
      "metadata": {
        "colab": {
          "base_uri": "https://localhost:8080/"
        },
        "id": "JyXfDy4TL46a",
        "outputId": "8a4849b7-e0ae-49eb-d171-12ce6f0076b4"
      },
      "execution_count": null,
      "outputs": [
        {
          "output_type": "execute_result",
          "data": {
            "text/plain": [
              "(-13+0j)"
            ]
          },
          "metadata": {},
          "execution_count": 70
        }
      ]
    },
    {
      "cell_type": "code",
      "source": [
        "X*B"
      ],
      "metadata": {
        "colab": {
          "base_uri": "https://localhost:8080/"
        },
        "id": "WPC3XJLjMTvU",
        "outputId": "c26f1f88-c0e6-4642-f689-2e924570b418"
      },
      "execution_count": null,
      "outputs": [
        {
          "output_type": "execute_result",
          "data": {
            "text/plain": [
              "array([[ 5,  4],\n",
              "       [ 3, 16]])"
            ]
          },
          "metadata": {},
          "execution_count": 71
        }
      ]
    },
    {
      "cell_type": "code",
      "source": [
        "X@B"
      ],
      "metadata": {
        "colab": {
          "base_uri": "https://localhost:8080/"
        },
        "id": "SXr0_TeBMf2m",
        "outputId": "d45745c6-29ab-4fcd-960a-7103c76ae764"
      },
      "execution_count": null,
      "outputs": [
        {
          "output_type": "execute_result",
          "data": {
            "text/plain": [
              "array([[ 7, 10],\n",
              "       [19, 22]])"
            ]
          },
          "metadata": {},
          "execution_count": 72
        }
      ]
    },
    {
      "cell_type": "code",
      "source": [
        "np.matmul(X,B)"
      ],
      "metadata": {
        "colab": {
          "base_uri": "https://localhost:8080/"
        },
        "id": "Ht4V1OxIMg40",
        "outputId": "959516fe-c3d7-4f46-e478-b5d406ecfdc6"
      },
      "execution_count": null,
      "outputs": [
        {
          "output_type": "execute_result",
          "data": {
            "text/plain": [
              "array([[ 7, 10],\n",
              "       [19, 22]])"
            ]
          },
          "metadata": {},
          "execution_count": 73
        }
      ]
    },
    {
      "cell_type": "markdown",
      "source": [
        "# Algunos ejemplo\n",
        "\n",
        "```python\n",
        "import numpy as np\n",
        "\n",
        "# Producto de matrices\n",
        "A = np.array([[1, 2], [3, 4]])\n",
        "B = np.array([[5, 6], [7, 8]])\n",
        "producto = np.dot(A, B)\n",
        "\n",
        "# Determinante de una matriz\n",
        "C = np.array([[9, 2], [3, 4]])\n",
        "determinante = np.linalg.det(C)\n",
        "\n",
        "# Inversa de una matriz\n",
        "D = np.array([[2, 5], [1, 3]])\n",
        "inversa = np.linalg.inv(D)\n",
        "\n",
        "# Autovalores y autovectores\n",
        "E = np.array([[2, 0], [0, 3]])\n",
        "autovalores, autovectores = np.linalg.eig(E)\n",
        "\n",
        "# Resolución de sistemas de ecuaciones lineales\n",
        "F = np.array([[1, 1], [1, -1]])\n",
        "b = np.array([5, 1])\n",
        "solucion = np.linalg.solve(F, b)\n",
        "\n",
        "\n",
        "# Norma de un vector o matriz\n",
        "H = np.array([1, 2, 3])\n",
        "norma = np.linalg.norm(H)\n",
        "\n",
        "# Rango de una matriz\n",
        "I = np.array([[1, 2], [2, 4]])\n",
        "rango = np.linalg.matrix_rank(I)\n",
        "\n",
        "# Potencia de una matriz\n",
        "J = np.array([[1, 2], [3, 4]])\n",
        "potencia = np.linalg.matrix_power(J, 3)\n",
        "\n",
        "# Descomposición SVD\n",
        "G = np.array([[1, 2], [3, 4]])\n",
        "U, S, V = np.linalg.svd(G)\n",
        "\n",
        "\n",
        "```\n"
      ],
      "metadata": {
        "id": "wOgkVu4yL-mp"
      }
    },
    {
      "cell_type": "markdown",
      "source": [
        "# Matrices de numpy"
      ],
      "metadata": {
        "id": "iV1bdIUxLOwM"
      }
    },
    {
      "cell_type": "code",
      "source": [
        "M = np.matrix(X)\n",
        "type(M)"
      ],
      "metadata": {
        "colab": {
          "base_uri": "https://localhost:8080/"
        },
        "id": "ZoTW7RE1mDjk",
        "outputId": "de42c878-ad87-42b1-a3f5-d1945449bfc4"
      },
      "execution_count": null,
      "outputs": [
        {
          "output_type": "execute_result",
          "data": {
            "text/plain": [
              "numpy.matrix"
            ]
          },
          "metadata": {},
          "execution_count": 46
        }
      ]
    },
    {
      "cell_type": "code",
      "source": [
        "M"
      ],
      "metadata": {
        "colab": {
          "base_uri": "https://localhost:8080/"
        },
        "id": "c6bwztJxaklY",
        "outputId": "aaece403-b0c9-4c0e-b619-caff7d1b7c40"
      },
      "execution_count": null,
      "outputs": [
        {
          "output_type": "execute_result",
          "data": {
            "text/plain": [
              "matrix([[1, 2],\n",
              "        [3, 4]])"
            ]
          },
          "metadata": {},
          "execution_count": 47
        }
      ]
    },
    {
      "cell_type": "code",
      "source": [
        "M@M #multiplicacopn"
      ],
      "metadata": {
        "colab": {
          "base_uri": "https://localhost:8080/"
        },
        "id": "smYYFQDnmSHx",
        "outputId": "13769bec-363a-48b7-82a3-bf103683b389"
      },
      "execution_count": null,
      "outputs": [
        {
          "output_type": "execute_result",
          "data": {
            "text/plain": [
              "matrix([[ 7, 10],\n",
              "        [15, 22]])"
            ]
          },
          "metadata": {},
          "execution_count": 75
        }
      ]
    },
    {
      "cell_type": "code",
      "source": [
        "M.T #traspuesta"
      ],
      "metadata": {
        "colab": {
          "base_uri": "https://localhost:8080/"
        },
        "id": "v0j1xF0Xnu3A",
        "outputId": "85564342-6758-47fd-af50-673c46f73374"
      },
      "execution_count": null,
      "outputs": [
        {
          "output_type": "execute_result",
          "data": {
            "text/plain": [
              "matrix([[1, 3],\n",
              "        [2, 4]])"
            ]
          },
          "metadata": {},
          "execution_count": 76
        }
      ]
    },
    {
      "cell_type": "code",
      "source": [
        "type(X)"
      ],
      "metadata": {
        "colab": {
          "base_uri": "https://localhost:8080/"
        },
        "id": "jsRxH4R9mJFs",
        "outputId": "27d1d956-b4c8-496b-901c-d3042981e811"
      },
      "execution_count": null,
      "outputs": [
        {
          "output_type": "execute_result",
          "data": {
            "text/plain": [
              "numpy.ndarray"
            ]
          },
          "metadata": {},
          "execution_count": 77
        }
      ]
    },
    {
      "cell_type": "code",
      "source": [
        "np.transpose(X) #transpuesta"
      ],
      "metadata": {
        "colab": {
          "base_uri": "https://localhost:8080/"
        },
        "id": "I6yi4tSzmXkx",
        "outputId": "9a305dad-b071-4fff-da5a-80ff7b9e49cc"
      },
      "execution_count": null,
      "outputs": [
        {
          "output_type": "execute_result",
          "data": {
            "text/plain": [
              "array([[1, 3],\n",
              "       [2, 4]])"
            ]
          },
          "metadata": {},
          "execution_count": 78
        }
      ]
    },
    {
      "cell_type": "code",
      "source": [
        "x = sy.symbols(\"x\")"
      ],
      "metadata": {
        "id": "XQviMu9KmhP5"
      },
      "execution_count": null,
      "outputs": []
    },
    {
      "cell_type": "code",
      "source": [
        "Y = np.array([[x**2,sy.sin(x)],[x,x]])\n",
        "q = sy.Matrix(Y)\n",
        "q"
      ],
      "metadata": {
        "colab": {
          "base_uri": "https://localhost:8080/",
          "height": 58
        },
        "id": "6NQ5_urmm8P5",
        "outputId": "04ca776a-89de-4cbb-a82a-fcc549c11266"
      },
      "execution_count": null,
      "outputs": [
        {
          "output_type": "execute_result",
          "data": {
            "text/plain": [
              "Matrix([\n",
              "[x**2, sin(x)],\n",
              "[   x,      x]])"
            ],
            "text/latex": "$\\displaystyle \\left[\\begin{matrix}x^{2} & \\sin{\\left(x \\right)}\\\\x & x\\end{matrix}\\right]$"
          },
          "metadata": {},
          "execution_count": 50
        }
      ]
    },
    {
      "cell_type": "code",
      "source": [
        "q@q"
      ],
      "metadata": {
        "colab": {
          "base_uri": "https://localhost:8080/",
          "height": 58
        },
        "id": "1H5elz7jnEKY",
        "outputId": "ad15f636-4042-4522-87bb-e094fd3146db"
      },
      "execution_count": null,
      "outputs": [
        {
          "output_type": "execute_result",
          "data": {
            "text/plain": [
              "Matrix([\n",
              "[x**4 + x*sin(x), x**2*sin(x) + x*sin(x)],\n",
              "[    x**3 + x**2,        x**2 + x*sin(x)]])"
            ],
            "text/latex": "$\\displaystyle \\left[\\begin{matrix}x^{4} + x \\sin{\\left(x \\right)} & x^{2} \\sin{\\left(x \\right)} + x \\sin{\\left(x \\right)}\\\\x^{3} + x^{2} & x^{2} + x \\sin{\\left(x \\right)}\\end{matrix}\\right]$"
          },
          "metadata": {},
          "execution_count": 39
        }
      ]
    },
    {
      "cell_type": "code",
      "source": [
        "q.inv()"
      ],
      "metadata": {
        "id": "owwyiJ0yN3oN",
        "colab": {
          "base_uri": "https://localhost:8080/",
          "height": 69
        },
        "outputId": "1b21ea2a-c5a5-4aa4-b50d-2348ee3ff130"
      },
      "execution_count": null,
      "outputs": [
        {
          "output_type": "execute_result",
          "data": {
            "text/plain": [
              "Matrix([\n",
              "[   1/(x**2 - sin(x)), -sin(x)/(x**3 - x*sin(x))],\n",
              "[-x/(x**3 - x*sin(x)),    x**2/(x**3 - x*sin(x))]])"
            ],
            "text/latex": "$\\displaystyle \\left[\\begin{matrix}\\frac{1}{x^{2} - \\sin{\\left(x \\right)}} & - \\frac{\\sin{\\left(x \\right)}}{x^{3} - x \\sin{\\left(x \\right)}}\\\\- \\frac{x}{x^{3} - x \\sin{\\left(x \\right)}} & \\frac{x^{2}}{x^{3} - x \\sin{\\left(x \\right)}}\\end{matrix}\\right]$"
          },
          "metadata": {},
          "execution_count": 53
        }
      ]
    },
    {
      "cell_type": "markdown",
      "source": [
        "# Actividad:\n",
        "\n",
        "1. Construir un programa que permita multiplicar dos matrices\n",
        "\n",
        "2. Cosntruir un programa que permita construir una regresion lineal simple empleando lo que sigue:\n",
        "\n",
        "3. Construir un programa que permita calcular una regresion bidimensional y hacer su representación .\n",
        "\n",
        "\n",
        "Operaciones matricial con regresión lineal.\n",
        "\n",
        "Cuando se desea hacer una regresion lineal multivariada, existen diferentes formas de realizar la regresión, una de ellas es encontrar el error cuadrático medio y miniminzar el conjunto de parámetros de la regresión emplando algún metodo de minimización, otra forma es encontrar la expresión analítica en forma matricial para enoncontrar el conjunto de parametros de la regresión. En este último caso, la regresion lineal viene dada por la siguiente expresion generalizada:\n",
        "\n",
        "\n",
        "- $\\Theta = (X^T X)^{-1} X^T y$\n",
        "\n",
        "donte $\\Theta$ es la matriz de parametros asociados a la regresión lineal, X la matriz de características y y los valos esperados, así, si tenemos una conjunto de datos en N dimensiones la recta, plano o hyperplano puede ser calculado como:\n",
        "\n",
        "$Y=\\Theta^T X$\n",
        "\n",
        "\n",
        "En el caso de dos dimensiones, tenemos lo siguiente, Supongamos que X, y Y presentan un comportamiento lineal, y vienen dados por:\n",
        "\n",
        "\n",
        "- Sea $\\vec{X}=x^1, x^2, x^3, x^4, ..., x^m$\n",
        "- Sea $\\vec{Y}=y^1, y^2, y^3, y^4, ..., y^m$\n",
        "\n",
        "Para determinar la ecuacion de la recta, hay que conocer los párametros $\\theta_0 $, $\\theta_1$, que cumplen que :   $y^{i} = \\theta_1 x^{i} + \\theta_0$ la anterior expresion puede ser escrita como:\n",
        "\n",
        "\\begin{equation}\n",
        "\\begin{bmatrix}\n",
        "y^{1}\\\\\n",
        "y^{2}\\\\\n",
        "\\vdots\\\\\n",
        "y^{m}\\\\\n",
        "\\end{bmatrix}=\n",
        "\\begin{bmatrix}\n",
        "\\theta_0 & \\theta_1 \\\\\n",
        "\\end{bmatrix}\n",
        "\\begin{bmatrix}\n",
        "1 & 1 & \\cdots & 1 \\\\\n",
        "x_1^{1} & x_1^{2} & \\cdots & x_1^{m} \\\\\n",
        "\\end{bmatrix}\n",
        "\\end{equation}\n",
        "\n",
        "\n",
        "Para determinar la matriz de theta entonces se puede aplicar la ecuación:\n",
        "\n",
        "- $\\Theta = (X^T X)^{-1} X^T y$\n",
        "\n",
        "donde:\n",
        "\\begin{equation}\n",
        "X=\n",
        "\\begin{bmatrix}\n",
        "1 & x_1^{1} \\\\\n",
        "1 & x_1^{2} \\\\\n",
        "\\vdots & \\vdots \\\\\n",
        "1 & x_1^{m}\n",
        "\\end{bmatrix}\n",
        "\\end{equation}\n",
        "\n",
        "y\n",
        "\n",
        "\n",
        "\\begin{equation}\n",
        "y=\n",
        "\\begin{bmatrix}\n",
        "y^1 \\\\\n",
        "y^2 \\\\\n",
        "\\vdots\\\\\n",
        "y^m\n",
        "\\end{bmatrix}\n",
        "\\end{equation}\n",
        "\n",
        "Su tarea será construir un programa que realice la regresión lineal para los siguientes puntos:\n",
        "```python\n",
        "N = 10\n",
        "x1 = np.linspace(0, 10, N)\n",
        "noise=2*np.random.random(N)-1\n",
        "y = 0.9*x1 + noise\n",
        "```\n",
        "\n",
        "\n",
        "\n",
        "Generalice para el siguiente problema bidimensional:\n",
        "\n",
        "\n",
        "```python\n",
        "N = 10\n",
        "x1 = np.linspace(-1, 1, N)\n",
        "x2 = np.linspace(-2, 2, N)\n",
        "noise1=2*np.random.random(N)-1\n",
        "noise2=2*np.random.random(N)-1\n",
        "y = 2*(x1+noise1) - 3*(x2+noise2) + 0.0 #+ 4*np.random.random(100)\n",
        "\n",
        "N = 10\n",
        "X1, X2 = np.meshgrid(x1,x2)\n",
        "Y = 2*X1 - 3*X2 + 0.0\n",
        "fig, ax = plt.subplots(subplot_kw={\"projection\": \"3d\"})\n",
        "surf = ax.plot_surface(X1, X2, Y)\n",
        "#scatter = ax.scatter(x1, x2, y,\"-\")\n",
        "```\n",
        "\n",
        "\n",
        "\n",
        "4. Construir un programa que permita realizar eliminacion de Gauss- Jordan de una matriz\n",
        "\n"
      ],
      "metadata": {
        "id": "k9jPDzNSjgnZ"
      }
    },
    {
      "cell_type": "markdown",
      "source": [
        "1. Construir un programa que permita multiplicar dos matrices\n"
      ],
      "metadata": {
        "id": "b-bd31vOX4TJ"
      }
    },
    {
      "cell_type": "code",
      "source": [
        "#1) programa que permita multiplicar dos matrices\n",
        "def mult_matrices(Matriz1,Matriz2):\n",
        "  dim1=np.shape(Matriz1)\n",
        "  dim2=np.shape(Matriz2)\n",
        "\n",
        "  Mul=np.zeros((dim1[0],dim2[1])) #dara el numero de fila de matriz q y numero de columnas de la matriz 2\n",
        "\n",
        "  if dim1[1]==dim2[0]: #se garantiza que el numero de columnas de matriz1 sea igual al numero de filas de matriz 2\n",
        "\n",
        "    for i in range(0,dim1[0]):\n",
        "      for j in range(0,dim2[1]):\n",
        "        for m in range(0,dim1[1]):\n",
        "          Mul[i][j]=Mul[i][j] + Matriz1[i][m] *Matriz2[m][j]\n",
        "    return Mul\n",
        "  else:\n",
        "    return 'las dimensiones no concuerdan'\n"
      ],
      "metadata": {
        "id": "CBGaqyGDbm9r"
      },
      "execution_count": null,
      "outputs": []
    },
    {
      "cell_type": "code",
      "source": [
        "M1=np.array([[1,1],\n",
        "             [0,1]])\n",
        "M2=np.array([[2,1],\n",
        "             [2,1]])\n",
        "mult_matrices(M1,M2)"
      ],
      "metadata": {
        "colab": {
          "base_uri": "https://localhost:8080/"
        },
        "id": "9vJh6ef8uSiy",
        "outputId": "ecf6264d-72c5-4417-dce0-0c6e6f5969a7"
      },
      "execution_count": null,
      "outputs": [
        {
          "output_type": "execute_result",
          "data": {
            "text/plain": [
              "array([[4., 2.],\n",
              "       [2., 1.]])"
            ]
          },
          "metadata": {},
          "execution_count": 7
        }
      ]
    },
    {
      "cell_type": "code",
      "source": [
        "A=np.random.randint(0,10, (3,3))\n",
        "B= np.random.randint(0,10, (3,3))\n",
        "\n",
        "def mult(A,B):\n",
        "  n,m1= np.sahpe(A)\n",
        "  m2,p= np.shape(B)\n",
        "  if(m1==m2):\n",
        "    M= np.zeros((n,p))\n",
        "print(M)\n"
      ],
      "metadata": {
        "id": "1wsENduzYFQB",
        "colab": {
          "base_uri": "https://localhost:8080/"
        },
        "outputId": "8eaf5271-13f0-4f1d-8e79-c7631d3f4bfd"
      },
      "execution_count": null,
      "outputs": [
        {
          "output_type": "stream",
          "name": "stdout",
          "text": [
            "[[0. 0. 0.]\n",
            " [0. 0. 0.]\n",
            " [0. 0. 0.]]\n"
          ]
        }
      ]
    },
    {
      "cell_type": "markdown",
      "source": [
        "2)regresion lineal"
      ],
      "metadata": {
        "id": "_tbFKU2Xw2zs"
      }
    },
    {
      "cell_type": "code",
      "source": [
        "#datos que se tienen\n",
        "N = 10\n",
        "x1 = np.linspace(0, 10, N)\n",
        "noise=2*np.random.random(N)-1\n",
        "y = 0.9*x1 + noise"
      ],
      "metadata": {
        "id": "ASp-Hvcyoxu9"
      },
      "execution_count": null,
      "outputs": []
    },
    {
      "cell_type": "code",
      "source": [
        "#se define el valor de x\n",
        "X= np.zeros((len(x1),2))\n",
        "X[:,0]=1 # la primera columna la llena de 1\n",
        "X[:,1]=x1 #la segunda columna la llena con los valores de x1\n",
        "X= np.matrix(X)\n",
        "\n",
        "sp.Matrix(X)"
      ],
      "metadata": {
        "colab": {
          "base_uri": "https://localhost:8080/",
          "height": 220
        },
        "id": "ZnMk6dxPxJLd",
        "outputId": "bf9c7d34-9dd3-4b33-a3b0-93348a676f05"
      },
      "execution_count": null,
      "outputs": [
        {
          "output_type": "execute_result",
          "data": {
            "text/plain": [
              "Matrix([\n",
              "[1.0,                0],\n",
              "[1.0, 1.11111111111111],\n",
              "[1.0, 2.22222222222222],\n",
              "[1.0, 3.33333333333333],\n",
              "[1.0, 4.44444444444444],\n",
              "[1.0, 5.55555555555556],\n",
              "[1.0, 6.66666666666667],\n",
              "[1.0, 7.77777777777778],\n",
              "[1.0, 8.88888888888889],\n",
              "[1.0,             10.0]])"
            ],
            "text/latex": "$\\displaystyle \\left[\\begin{matrix}1.0 & 0\\\\1.0 & 1.11111111111111\\\\1.0 & 2.22222222222222\\\\1.0 & 3.33333333333333\\\\1.0 & 4.44444444444444\\\\1.0 & 5.55555555555556\\\\1.0 & 6.66666666666667\\\\1.0 & 7.77777777777778\\\\1.0 & 8.88888888888889\\\\1.0 & 10.0\\end{matrix}\\right]$"
          },
          "metadata": {},
          "execution_count": 10
        }
      ]
    },
    {
      "cell_type": "code",
      "source": [
        "sp.Matrix(y) #conociendo los valores de y"
      ],
      "metadata": {
        "colab": {
          "base_uri": "https://localhost:8080/",
          "height": 220
        },
        "id": "jaBBPwjYxbCw",
        "outputId": "6c9ff0e8-12d3-420a-b14a-1d57acb77eeb"
      },
      "execution_count": null,
      "outputs": [
        {
          "output_type": "execute_result",
          "data": {
            "text/plain": [
              "Matrix([\n",
              "[-0.344455733982561],\n",
              "[ 0.450036967102389],\n",
              "[  2.05089939366269],\n",
              "[  2.42117183888198],\n",
              "[  3.11308325973567],\n",
              "[  5.93595525469045],\n",
              "[  6.84863880411396],\n",
              "[  7.48878157567962],\n",
              "[  8.93354788702061],\n",
              "[  8.00605118259082]])"
            ],
            "text/latex": "$\\displaystyle \\left[\\begin{matrix}-0.344455733982561\\\\0.450036967102389\\\\2.05089939366269\\\\2.42117183888198\\\\3.11308325973567\\\\5.93595525469045\\\\6.84863880411396\\\\7.48878157567962\\\\8.93354788702061\\\\8.00605118259082\\end{matrix}\\right]$"
          },
          "metadata": {},
          "execution_count": 11
        }
      ]
    },
    {
      "cell_type": "code",
      "source": [
        "#para conocer el valor de theta\n",
        "xt= np.transpose(X) #traspuesta de la matriz x\n",
        "xinv= np.linalg.inv(xt*X)\n",
        "s=xinv*xt\n",
        "theta= np.dot(s,y)\n",
        "sp.Matrix(theta)"
      ],
      "metadata": {
        "colab": {
          "base_uri": "https://localhost:8080/",
          "height": 38
        },
        "id": "YAMwCWl5xMy7",
        "outputId": "77879c88-3c11-47df-8f28-4a42129827ec"
      },
      "execution_count": null,
      "outputs": [
        {
          "output_type": "execute_result",
          "data": {
            "text/plain": [
              "Matrix([[-0.359642297668347, 0.970002668123582]])"
            ],
            "text/latex": "$\\displaystyle \\left[\\begin{matrix}-0.359642297668347 & 0.970002668123582\\end{matrix}\\right]$"
          },
          "metadata": {},
          "execution_count": 12
        }
      ]
    },
    {
      "cell_type": "code",
      "source": [
        "theta_t= np.transpose(theta)\n",
        "Y= X*theta_t #el orden lo tuve que cambiar para que las dimensiones concordaran\n",
        "\n",
        "sp.Matrix(Y)"
      ],
      "metadata": {
        "colab": {
          "base_uri": "https://localhost:8080/",
          "height": 220
        },
        "id": "wU2fGNb6xQx0",
        "outputId": "30b485e9-57f4-439c-c077-5d94b839716c"
      },
      "execution_count": null,
      "outputs": [
        {
          "output_type": "execute_result",
          "data": {
            "text/plain": [
              "Matrix([\n",
              "[-0.359642297668347],\n",
              "[ 0.718138444691189],\n",
              "[  1.79591918705072],\n",
              "[  2.87369992941026],\n",
              "[   3.9514806717698],\n",
              "[  5.02926141412933],\n",
              "[  6.10704215648887],\n",
              "[  7.18482289884841],\n",
              "[  8.26260364120794],\n",
              "[  9.34038438356748]])"
            ],
            "text/latex": "$\\displaystyle \\left[\\begin{matrix}-0.359642297668347\\\\0.718138444691189\\\\1.79591918705072\\\\2.87369992941026\\\\3.9514806717698\\\\5.02926141412933\\\\6.10704215648887\\\\7.18482289884841\\\\8.26260364120794\\\\9.34038438356748\\end{matrix}\\right]$"
          },
          "metadata": {},
          "execution_count": 13
        }
      ]
    },
    {
      "cell_type": "code",
      "source": [
        "#grafico de la regresion lineal\n",
        "plt.plot(x1,Y,'k',label='Regresion lineal') #recta\n",
        "plt.plot(x1,y,'.m', label='Datos', markersize=10)\n",
        "plt.xlabel('x')\n",
        "plt.ylabel('f(x)')\n",
        "plt.legend()\n",
        "plt.grid()\n",
        "plt.show()"
      ],
      "metadata": {
        "colab": {
          "base_uri": "https://localhost:8080/",
          "height": 449
        },
        "id": "IlFZUh_zxgKU",
        "outputId": "528b7caa-f1b1-4fae-88c2-51a3bcde7943"
      },
      "execution_count": null,
      "outputs": [
        {
          "output_type": "display_data",
          "data": {
            "text/plain": [
              "<Figure size 640x480 with 1 Axes>"
            ],
            "image/png": "[encoded data removed]"
          },
          "metadata": {}
        }
      ]
    },
    {
      "cell_type": "markdown",
      "source": [
        "3) regresion bidimensional"
      ],
      "metadata": {
        "id": "O622UZgtyJlB"
      }
    },
    {
      "cell_type": "code",
      "source": [
        "#generalizando\n",
        "N = 10\n",
        "x1_bidim = np.random.randint(30,size=N) #toco cambiar el linspace porque al hacer la inversa es una matriz singular\n",
        "x2_bidim = np.random.randint(30,size=N)\n",
        "noise1=2*np.random.random(N)-1\n",
        "noise2=2*np.random.random(N)-1\n",
        "y_bidim = 2*(x1_bidim+noise1) - 3*(x2_bidim+noise2) + 0.0 #+ 4*np.random.random(100)\n",
        "\n",
        "N = 10\n",
        "X1_bidim, X2_bidim = np.meshgrid(x1_bidim,x2_bidim)\n",
        "Y = 2*X1_bidim - 3*X2_bidim + 0.0\n",
        "fig, ax = plt.subplots(subplot_kw={\"projection\": \"3d\"})\n",
        "surf = ax.plot_surface(X1_bidim, X2_bidim, Y)\n",
        "# scatter = ax.scatter(x1, x2, y,\"-\")"
      ],
      "metadata": {
        "colab": {
          "base_uri": "https://localhost:8080/",
          "height": 410
        },
        "id": "HASl7-iGyJOf",
        "outputId": "bdd9611d-562c-4e0e-e80d-7fcb33b0ef48"
      },
      "execution_count": null,
      "outputs": [
        {
          "output_type": "display_data",
          "data": {
            "text/plain": [
              "<Figure size 640x480 with 1 Axes>"
            ],
            "image/png": "[encoded data removed]"
          },
          "metadata": {}
        }
      ]
    },
    {
      "cell_type": "code",
      "source": [
        "#regresion\n",
        "def regresion_bidimensional(x1_bidim,x2_bidim,y_bidim):\n",
        "  n1=len(x1_bidim)\n",
        "  n2=len(x2_bidim)\n",
        "  n3=len(y_bidim)\n",
        "\n",
        "  if n1==n2 and n2==n3:\n",
        "  #Definiendo la matrix X\n",
        "    x_bidim=np.zeros((len(x1_bidim),3))\n",
        "    x_bidim[:,0]=1\n",
        "    x_bidim[:,1]=x1_bidim\n",
        "    x_bidim[:,2]=x2_bidim\n",
        "\n",
        "    x_bidim=np.matrix(x_bidim)\n",
        "\n",
        "    xt_bidim=np.transpose(x_bidim)\n",
        "    xinv_bidim=np.linalg.inv(xt_bidim*x_bidim)\n",
        "    dot= xinv_bidim*xt_bidim\n",
        "\n",
        "    #Encontrando el valor de thetha\n",
        "    theta_bidim=np.dot(dot,y_bidim)\n",
        "\n",
        "    #Graficando el resulado\n",
        "    X1_bidim, X2_bidim = np.meshgrid(x1_bidim,x2_bidim)\n",
        "    Y = theta_bidim[0,1]*X1_bidim +theta_bidim[0,2]*X2_bidim + theta_bidim[0,0]\n",
        "    fig, ax = plt.subplots(subplot_kw={\"projection\": \"3d\"})\n",
        "    surf = ax.plot_surface(X1_bidim, X2_bidim,Y,cmap='hsv')\n",
        "    ax.scatter(x1_bidim, x2_bidim, y_bidim,color='red', label='Datos')\n",
        "    ax.set_title('Regresión 3D')\n",
        "    ax.set_xlabel('X1')\n",
        "    ax.set_ylabel('X2')\n",
        "    ax.set_zlabel('Y')\n",
        "    ax.legend()\n",
        "    return surf\n",
        "\n",
        "  else:\n",
        "    m='Las dimesiones de los vectores ingresados no son las corecctas'\n",
        "    return m\n",
        "\n",
        "\n",
        "regresion_bidimensional(x1_bidim,x2_bidim,y_bidim)"
      ],
      "metadata": {
        "colab": {
          "base_uri": "https://localhost:8080/",
          "height": 449
        },
        "id": "bEC23NITyWX-",
        "outputId": "75804295-00bc-4c8a-87da-8b8c6fac2162"
      },
      "execution_count": null,
      "outputs": [
        {
          "output_type": "execute_result",
          "data": {
            "text/plain": [
              "<mpl_toolkits.mplot3d.art3d.Poly3DCollection at 0x7c943688dff0>"
            ]
          },
          "metadata": {},
          "execution_count": 21
        },
        {
          "output_type": "display_data",
          "data": {
            "text/plain": [
              "<Figure size 640x480 with 1 Axes>"
            ],
            "image/png": "[encoded data removed]"
          },
          "metadata": {}
        }
      ]
    },
    {
      "cell_type": "markdown",
      "source": [
        "4) eliminación gauss-jordan de una matriz"
      ],
      "metadata": {
        "id": "sTPIb4iDybov"
      }
    },
    {
      "cell_type": "code",
      "source": [
        "#operaciones elementales de fila\n",
        "def mult_escalar(M, n, gamma):\n",
        "  M_scalar=M.copy() #en donde se almacenará la operación\n",
        "  M_scalar[n]= gamma*M[n]\n",
        "  return M_scalar\n",
        "\n",
        "\n",
        "def intercambio_filas(M,i,j):\n",
        "  M_intercambio=M.copy()\n",
        "  M_intercambio[i]= M[j]\n",
        "  M_intercambio[j]=M[i]\n",
        "  return M_intercambio\n",
        "\n",
        "def suma_filas(M,i,j,gamma):\n",
        "  M_suma=M.copy()\n",
        "  M_suma[i]=M[i]+mult_escalar(M,j,gamma)[j]\n",
        "\n",
        "  return M_suma\n"
      ],
      "metadata": {
        "id": "yClBBIAtyWmi"
      },
      "execution_count": 3,
      "outputs": []
    },
    {
      "cell_type": "code",
      "source": [],
      "metadata": {
        "id": "LH1_dvS88Svk"
      },
      "execution_count": null,
      "outputs": []
    }
  ]
}