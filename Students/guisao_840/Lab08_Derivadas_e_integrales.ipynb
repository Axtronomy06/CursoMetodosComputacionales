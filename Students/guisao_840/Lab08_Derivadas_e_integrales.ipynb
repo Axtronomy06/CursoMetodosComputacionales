{
  "cells": [
    {
      "cell_type": "markdown",
      "metadata": {
        "id": "NgKD67AA6nVj"
      },
      "source": [
        "<a href=\"https://colab.research.google.com/github/hernansalinas/autogrades/blob/main/Laboratorios_Taller/Lab08_Derivadas_e_integrales.ipynb\" target=\"_parent\"><img src=\"https://colab.research.google.com/assets/colab-badge.svg\" alt=\"Open In Colab\"/></a>"
      ]
    },
    {
      "cell_type": "code",
      "execution_count": 1,
      "metadata": {
        "id": "J5O5W6xbuoZS"
      },
      "outputs": [],
      "source": [
        "import numpy as np\n",
        "import matplotlib.pyplot as plt\n",
        "import pandas as pd\n",
        "import scipy as sc\n",
        "import sympy as sy\n",
        "from scipy.interpolate import lagrange\n",
        "from scipy.integrate import quad, trapz, simps"
      ]
    },
    {
      "cell_type": "markdown",
      "metadata": {
        "id": "mjVxBoseufI6"
      },
      "source": [
        "## Parte 1\n",
        "\n",
        "En un cirtcuito con un voltaje de  $\\varepsilon(t)$ y una inductancia de L, la primera ley de kirshhoff nos da la siguiente relación\n",
        "\n",
        "\\begin{equation}\n",
        "\\varepsilon(t) = L\\frac{\\mathrm{d}i}{\\mathrm{d}t} + Ri\n",
        "\\end{equation}\n",
        "\n",
        "donde $R$, es la resistencia del ciruito, $I$ es la corriente. Suponga que medimos la corriente con varios valores de $t$ y obtenemos:\n",
        "\n",
        "``t = 1.00, 1.01, 1.02, 1.03, 1.0``\n",
        "\n",
        "``i = 3.10, 3.12, 3.14, 3.18, 3.24``\n",
        "\n",
        "\n",
        "donde $t$ se mide en segundos, $I$ se da en Amperios, la inductancia $L$ es una constante de 0.98 H, la resistencia es de 0.142 $\\Omega$. Aproxime el votaje  $\\varepsilon(t)$ en los valores t=1.00, 1.01, 1.02, 1.03, 1.04 ,  para ello realice lo siguiente:\n",
        "\n",
        "\n",
        "- Construya un data frame de pandas con los valores de tiempo y corriente\n",
        "- Emplee un metodo calcular la derivada numérica."
      ]
    },
    {
      "cell_type": "code",
      "source": [
        "t = np.array([1.00, 1.01, 1.02, 1.03, 1.04])\n",
        "i = np.array([3.10, 3.12, 3.14, 3.18, 3.24])\n",
        "\n",
        "data = {'Tiempo(s)':t, 'Corriente(A)':i}\n",
        "df= pd.DataFrame(data)\n",
        "df\n"
      ],
      "metadata": {
        "id": "ThfwSBkd6vdm",
        "colab": {
          "base_uri": "https://localhost:8080/",
          "height": 206
        },
        "outputId": "03c8a3d4-3751-4854-d7c2-0a61e48ca55f"
      },
      "execution_count": null,
      "outputs": [
        {
          "output_type": "execute_result",
          "data": {
            "text/plain": [
              "   Tiempo(s)  Corriente(A)\n",
              "0       1.00          3.10\n",
              "1       1.01          3.12\n",
              "2       1.02          3.14\n",
              "3       1.03          3.18\n",
              "4       1.04          3.24"
            ],
            "text/html": [
              "\n",
              "  <div id=\"df-1132c671-5f56-4f50-8d27-f971226c5c74\" class=\"colab-df-container\">\n",
              "    <div>\n",
              "<style scoped>\n",
              "    .dataframe tbody tr th:only-of-type {\n",
              "        vertical-align: middle;\n",
              "    }\n",
              "\n",
              "    .dataframe tbody tr th {\n",
              "        vertical-align: top;\n",
              "    }\n",
              "\n",
              "    .dataframe thead th {\n",
              "        text-align: right;\n",
              "    }\n",
              "</style>\n",
              "<table border=\"1\" class=\"dataframe\">\n",
              "  <thead>\n",
              "    <tr style=\"text-align: right;\">\n",
              "      <th></th>\n",
              "      <th>Tiempo(s)</th>\n",
              "      <th>Corriente(A)</th>\n",
              "    </tr>\n",
              "  </thead>\n",
              "  <tbody>\n",
              "    <tr>\n",
              "      <th>0</th>\n",
              "      <td>1.00</td>\n",
              "      <td>3.10</td>\n",
              "    </tr>\n",
              "    <tr>\n",
              "      <th>1</th>\n",
              "      <td>1.01</td>\n",
              "      <td>3.12</td>\n",
              "    </tr>\n",
              "    <tr>\n",
              "      <th>2</th>\n",
              "      <td>1.02</td>\n",
              "      <td>3.14</td>\n",
              "    </tr>\n",
              "    <tr>\n",
              "      <th>3</th>\n",
              "      <td>1.03</td>\n",
              "      <td>3.18</td>\n",
              "    </tr>\n",
              "    <tr>\n",
              "      <th>4</th>\n",
              "      <td>1.04</td>\n",
              "      <td>3.24</td>\n",
              "    </tr>\n",
              "  </tbody>\n",
              "</table>\n",
              "</div>\n",
              "    <div class=\"colab-df-buttons\">\n",
              "\n",
              "  <div class=\"colab-df-container\">\n",
              "    <button class=\"colab-df-convert\" onclick=\"convertToInteractive('df-1132c671-5f56-4f50-8d27-f971226c5c74')\"\n",
              "            title=\"Convert this dataframe to an interactive table.\"\n",
              "            style=\"display:none;\">\n",
              "\n",
              "  <svg xmlns=\"http://www.w3.org/2000/svg\" height=\"24px\" viewBox=\"0 -960 960 960\">\n",
              "    <path d=\"M120-120v-720h720v720H120Zm60-500h600v-160H180v160Zm220 220h160v-160H400v160Zm0 220h160v-160H400v160ZM180-400h160v-160H180v160Zm440 0h160v-160H620v160ZM180-180h160v-160H180v160Zm440 0h160v-160H620v160Z\"/>\n",
              "  </svg>\n",
              "    </button>\n",
              "\n",
              "  <style>\n",
              "    .colab-df-container {\n",
              "      display:flex;\n",
              "      gap: 12px;\n",
              "    }\n",
              "\n",
              "    .colab-df-convert {\n",
              "      background-color: #E8F0FE;\n",
              "      border: none;\n",
              "      border-radius: 50%;\n",
              "      cursor: pointer;\n",
              "      display: none;\n",
              "      fill: #1967D2;\n",
              "      height: 32px;\n",
              "      padding: 0 0 0 0;\n",
              "      width: 32px;\n",
              "    }\n",
              "\n",
              "    .colab-df-convert:hover {\n",
              "      background-color: #E2EBFA;\n",
              "      box-shadow: 0px 1px 2px rgba(60, 64, 67, 0.3), 0px 1px 3px 1px rgba(60, 64, 67, 0.15);\n",
              "      fill: #174EA6;\n",
              "    }\n",
              "\n",
              "    .colab-df-buttons div {\n",
              "      margin-bottom: 4px;\n",
              "    }\n",
              "\n",
              "    [theme=dark] .colab-df-convert {\n",
              "      background-color: #3B4455;\n",
              "      fill: #D2E3FC;\n",
              "    }\n",
              "\n",
              "    [theme=dark] .colab-df-convert:hover {\n",
              "      background-color: #434B5C;\n",
              "      box-shadow: 0px 1px 3px 1px rgba(0, 0, 0, 0.15);\n",
              "      filter: drop-shadow(0px 1px 2px rgba(0, 0, 0, 0.3));\n",
              "      fill: #FFFFFF;\n",
              "    }\n",
              "  </style>\n",
              "\n",
              "    <script>\n",
              "      const buttonEl =\n",
              "        document.querySelector('#df-1132c671-5f56-4f50-8d27-f971226c5c74 button.colab-df-convert');\n",
              "      buttonEl.style.display =\n",
              "        google.colab.kernel.accessAllowed ? 'block' : 'none';\n",
              "\n",
              "      async function convertToInteractive(key) {\n",
              "        const element = document.querySelector('#df-1132c671-5f56-4f50-8d27-f971226c5c74');\n",
              "        const dataTable =\n",
              "          await google.colab.kernel.invokeFunction('convertToInteractive',\n",
              "                                                    [key], {});\n",
              "        if (!dataTable) return;\n",
              "\n",
              "        const docLinkHtml = 'Like what you see? Visit the ' +\n",
              "          '<a target=\"_blank\" href=https://colab.research.google.com/notebooks/data_table.ipynb>data table notebook</a>'\n",
              "          + ' to learn more about interactive tables.';\n",
              "        element.innerHTML = '';\n",
              "        dataTable['output_type'] = 'display_data';\n",
              "        await google.colab.output.renderOutput(dataTable, element);\n",
              "        const docLink = document.createElement('div');\n",
              "        docLink.innerHTML = docLinkHtml;\n",
              "        element.appendChild(docLink);\n",
              "      }\n",
              "    </script>\n",
              "  </div>\n",
              "\n",
              "\n",
              "<div id=\"df-8d552f87-6079-4a59-823a-02119bc8ad69\">\n",
              "  <button class=\"colab-df-quickchart\" onclick=\"quickchart('df-8d552f87-6079-4a59-823a-02119bc8ad69')\"\n",
              "            title=\"Suggest charts\"\n",
              "            style=\"display:none;\">\n",
              "\n",
              "<svg xmlns=\"http://www.w3.org/2000/svg\" height=\"24px\"viewBox=\"0 0 24 24\"\n",
              "     width=\"24px\">\n",
              "    <g>\n",
              "        <path d=\"M19 3H5c-1.1 0-2 .9-2 2v14c0 1.1.9 2 2 2h14c1.1 0 2-.9 2-2V5c0-1.1-.9-2-2-2zM9 17H7v-7h2v7zm4 0h-2V7h2v10zm4 0h-2v-4h2v4z\"/>\n",
              "    </g>\n",
              "</svg>\n",
              "  </button>\n",
              "\n",
              "<style>\n",
              "  .colab-df-quickchart {\n",
              "      --bg-color: #E8F0FE;\n",
              "      --fill-color: #1967D2;\n",
              "      --hover-bg-color: #E2EBFA;\n",
              "      --hover-fill-color: #174EA6;\n",
              "      --disabled-fill-color: #AAA;\n",
              "      --disabled-bg-color: #DDD;\n",
              "  }\n",
              "\n",
              "  [theme=dark] .colab-df-quickchart {\n",
              "      --bg-color: #3B4455;\n",
              "      --fill-color: #D2E3FC;\n",
              "      --hover-bg-color: #434B5C;\n",
              "      --hover-fill-color: #FFFFFF;\n",
              "      --disabled-bg-color: #3B4455;\n",
              "      --disabled-fill-color: #666;\n",
              "  }\n",
              "\n",
              "  .colab-df-quickchart {\n",
              "    background-color: var(--bg-color);\n",
              "    border: none;\n",
              "    border-radius: 50%;\n",
              "    cursor: pointer;\n",
              "    display: none;\n",
              "    fill: var(--fill-color);\n",
              "    height: 32px;\n",
              "    padding: 0;\n",
              "    width: 32px;\n",
              "  }\n",
              "\n",
              "  .colab-df-quickchart:hover {\n",
              "    background-color: var(--hover-bg-color);\n",
              "    box-shadow: 0 1px 2px rgba(60, 64, 67, 0.3), 0 1px 3px 1px rgba(60, 64, 67, 0.15);\n",
              "    fill: var(--button-hover-fill-color);\n",
              "  }\n",
              "\n",
              "  .colab-df-quickchart-complete:disabled,\n",
              "  .colab-df-quickchart-complete:disabled:hover {\n",
              "    background-color: var(--disabled-bg-color);\n",
              "    fill: var(--disabled-fill-color);\n",
              "    box-shadow: none;\n",
              "  }\n",
              "\n",
              "  .colab-df-spinner {\n",
              "    border: 2px solid var(--fill-color);\n",
              "    border-color: transparent;\n",
              "    border-bottom-color: var(--fill-color);\n",
              "    animation:\n",
              "      spin 1s steps(1) infinite;\n",
              "  }\n",
              "\n",
              "  @keyframes spin {\n",
              "    0% {\n",
              "      border-color: transparent;\n",
              "      border-bottom-color: var(--fill-color);\n",
              "      border-left-color: var(--fill-color);\n",
              "    }\n",
              "    20% {\n",
              "      border-color: transparent;\n",
              "      border-left-color: var(--fill-color);\n",
              "      border-top-color: var(--fill-color);\n",
              "    }\n",
              "    30% {\n",
              "      border-color: transparent;\n",
              "      border-left-color: var(--fill-color);\n",
              "      border-top-color: var(--fill-color);\n",
              "      border-right-color: var(--fill-color);\n",
              "    }\n",
              "    40% {\n",
              "      border-color: transparent;\n",
              "      border-right-color: var(--fill-color);\n",
              "      border-top-color: var(--fill-color);\n",
              "    }\n",
              "    60% {\n",
              "      border-color: transparent;\n",
              "      border-right-color: var(--fill-color);\n",
              "    }\n",
              "    80% {\n",
              "      border-color: transparent;\n",
              "      border-right-color: var(--fill-color);\n",
              "      border-bottom-color: var(--fill-color);\n",
              "    }\n",
              "    90% {\n",
              "      border-color: transparent;\n",
              "      border-bottom-color: var(--fill-color);\n",
              "    }\n",
              "  }\n",
              "</style>\n",
              "\n",
              "  <script>\n",
              "    async function quickchart(key) {\n",
              "      const quickchartButtonEl =\n",
              "        document.querySelector('#' + key + ' button');\n",
              "      quickchartButtonEl.disabled = true;  // To prevent multiple clicks.\n",
              "      quickchartButtonEl.classList.add('colab-df-spinner');\n",
              "      try {\n",
              "        const charts = await google.colab.kernel.invokeFunction(\n",
              "            'suggestCharts', [key], {});\n",
              "      } catch (error) {\n",
              "        console.error('Error during call to suggestCharts:', error);\n",
              "      }\n",
              "      quickchartButtonEl.classList.remove('colab-df-spinner');\n",
              "      quickchartButtonEl.classList.add('colab-df-quickchart-complete');\n",
              "    }\n",
              "    (() => {\n",
              "      let quickchartButtonEl =\n",
              "        document.querySelector('#df-8d552f87-6079-4a59-823a-02119bc8ad69 button');\n",
              "      quickchartButtonEl.style.display =\n",
              "        google.colab.kernel.accessAllowed ? 'block' : 'none';\n",
              "    })();\n",
              "  </script>\n",
              "</div>\n",
              "    </div>\n",
              "  </div>\n"
            ],
            "application/vnd.google.colaboratory.intrinsic+json": {
              "type": "dataframe",
              "variable_name": "df",
              "summary": "{\n  \"name\": \"df\",\n  \"rows\": 5,\n  \"fields\": [\n    {\n      \"column\": \"Tiempo(s)\",\n      \"properties\": {\n        \"dtype\": \"number\",\n        \"std\": 0.01581138830084191,\n        \"min\": 1.0,\n        \"max\": 1.04,\n        \"num_unique_values\": 5,\n        \"samples\": [\n          1.01,\n          1.04,\n          1.02\n        ],\n        \"semantic_type\": \"\",\n        \"description\": \"\"\n      }\n    },\n    {\n      \"column\": \"Corriente(A)\",\n      \"properties\": {\n        \"dtype\": \"number\",\n        \"std\": 0.055497747702046483,\n        \"min\": 3.1,\n        \"max\": 3.24,\n        \"num_unique_values\": 5,\n        \"samples\": [\n          3.12,\n          3.24,\n          3.14\n        ],\n        \"semantic_type\": \"\",\n        \"description\": \"\"\n      }\n    }\n  ]\n}"
            }
          },
          "metadata": {},
          "execution_count": 2
        }
      ]
    },
    {
      "cell_type": "code",
      "source": [
        "plt.figure()\n",
        "plt.plot(df['Tiempo(s)'], df['Corriente(A)'], '.m-', markersize=12)\n",
        "plt.title('Corriente(I) en funcion del tiempo (t)')\n",
        "plt.xlabel('t(s)', fontsize=12)\n",
        "plt.ylabel('I(A)', fontsize=12)\n",
        "plt.grid()"
      ],
      "metadata": {
        "colab": {
          "base_uri": "https://localhost:8080/",
          "height": 476
        },
        "id": "m_ZYYnFT8eAw",
        "outputId": "10937ad7-c5ba-4fe9-81ff-26dfcd082d41"
      },
      "execution_count": null,
      "outputs": [
        {
          "output_type": "display_data",
          "data": {
            "text/plain": [
              "<Figure size 640x480 with 1 Axes>"
            ],
            "image/png": "[encoded data removed]"
          },
          "metadata": {}
        }
      ]
    },
    {
      "cell_type": "markdown",
      "source": [
        "#Derivadas númericas"
      ],
      "metadata": {
        "id": "d-jpW28Hswpj"
      }
    },
    {
      "cell_type": "code",
      "source": [
        "derivada= np.gradient(i,t)\n",
        "derivada"
      ],
      "metadata": {
        "colab": {
          "base_uri": "https://localhost:8080/"
        },
        "id": "CjYI5BxE89pJ",
        "outputId": "df76c06c-33db-44ed-cc5c-1474f3ab510d"
      },
      "execution_count": null,
      "outputs": [
        {
          "output_type": "execute_result",
          "data": {
            "text/plain": [
              "array([2., 2., 3., 5., 6.])"
            ]
          },
          "metadata": {},
          "execution_count": 4
        }
      ]
    },
    {
      "cell_type": "code",
      "source": [
        "L= 0.98\n",
        "R= 0.142\n",
        "E_t= L*derivada+ R*i\n",
        "df['Fem(V)']= E_t\n",
        "df"
      ],
      "metadata": {
        "colab": {
          "base_uri": "https://localhost:8080/",
          "height": 206
        },
        "id": "a52dnmI49Fyw",
        "outputId": "2b5842ae-7353-4f58-932b-2f6c774d2dea"
      },
      "execution_count": null,
      "outputs": [
        {
          "output_type": "execute_result",
          "data": {
            "text/plain": [
              "   Tiempo(s)  Corriente(A)   Fem(V)\n",
              "0       1.00          3.10  2.40020\n",
              "1       1.01          3.12  2.40304\n",
              "2       1.02          3.14  3.38588\n",
              "3       1.03          3.18  5.35156\n",
              "4       1.04          3.24  6.34008"
            ],
            "text/html": [
              "\n",
              "  <div id=\"df-1e0ed591-339f-4a0b-af3c-9435c51e19a1\" class=\"colab-df-container\">\n",
              "    <div>\n",
              "<style scoped>\n",
              "    .dataframe tbody tr th:only-of-type {\n",
              "        vertical-align: middle;\n",
              "    }\n",
              "\n",
              "    .dataframe tbody tr th {\n",
              "        vertical-align: top;\n",
              "    }\n",
              "\n",
              "    .dataframe thead th {\n",
              "        text-align: right;\n",
              "    }\n",
              "</style>\n",
              "<table border=\"1\" class=\"dataframe\">\n",
              "  <thead>\n",
              "    <tr style=\"text-align: right;\">\n",
              "      <th></th>\n",
              "      <th>Tiempo(s)</th>\n",
              "      <th>Corriente(A)</th>\n",
              "      <th>Fem(V)</th>\n",
              "    </tr>\n",
              "  </thead>\n",
              "  <tbody>\n",
              "    <tr>\n",
              "      <th>0</th>\n",
              "      <td>1.00</td>\n",
              "      <td>3.10</td>\n",
              "      <td>2.40020</td>\n",
              "    </tr>\n",
              "    <tr>\n",
              "      <th>1</th>\n",
              "      <td>1.01</td>\n",
              "      <td>3.12</td>\n",
              "      <td>2.40304</td>\n",
              "    </tr>\n",
              "    <tr>\n",
              "      <th>2</th>\n",
              "      <td>1.02</td>\n",
              "      <td>3.14</td>\n",
              "      <td>3.38588</td>\n",
              "    </tr>\n",
              "    <tr>\n",
              "      <th>3</th>\n",
              "      <td>1.03</td>\n",
              "      <td>3.18</td>\n",
              "      <td>5.35156</td>\n",
              "    </tr>\n",
              "    <tr>\n",
              "      <th>4</th>\n",
              "      <td>1.04</td>\n",
              "      <td>3.24</td>\n",
              "      <td>6.34008</td>\n",
              "    </tr>\n",
              "  </tbody>\n",
              "</table>\n",
              "</div>\n",
              "    <div class=\"colab-df-buttons\">\n",
              "\n",
              "  <div class=\"colab-df-container\">\n",
              "    <button class=\"colab-df-convert\" onclick=\"convertToInteractive('df-1e0ed591-339f-4a0b-af3c-9435c51e19a1')\"\n",
              "            title=\"Convert this dataframe to an interactive table.\"\n",
              "            style=\"display:none;\">\n",
              "\n",
              "  <svg xmlns=\"http://www.w3.org/2000/svg\" height=\"24px\" viewBox=\"0 -960 960 960\">\n",
              "    <path d=\"M120-120v-720h720v720H120Zm60-500h600v-160H180v160Zm220 220h160v-160H400v160Zm0 220h160v-160H400v160ZM180-400h160v-160H180v160Zm440 0h160v-160H620v160ZM180-180h160v-160H180v160Zm440 0h160v-160H620v160Z\"/>\n",
              "  </svg>\n",
              "    </button>\n",
              "\n",
              "  <style>\n",
              "    .colab-df-container {\n",
              "      display:flex;\n",
              "      gap: 12px;\n",
              "    }\n",
              "\n",
              "    .colab-df-convert {\n",
              "      background-color: #E8F0FE;\n",
              "      border: none;\n",
              "      border-radius: 50%;\n",
              "      cursor: pointer;\n",
              "      display: none;\n",
              "      fill: #1967D2;\n",
              "      height: 32px;\n",
              "      padding: 0 0 0 0;\n",
              "      width: 32px;\n",
              "    }\n",
              "\n",
              "    .colab-df-convert:hover {\n",
              "      background-color: #E2EBFA;\n",
              "      box-shadow: 0px 1px 2px rgba(60, 64, 67, 0.3), 0px 1px 3px 1px rgba(60, 64, 67, 0.15);\n",
              "      fill: #174EA6;\n",
              "    }\n",
              "\n",
              "    .colab-df-buttons div {\n",
              "      margin-bottom: 4px;\n",
              "    }\n",
              "\n",
              "    [theme=dark] .colab-df-convert {\n",
              "      background-color: #3B4455;\n",
              "      fill: #D2E3FC;\n",
              "    }\n",
              "\n",
              "    [theme=dark] .colab-df-convert:hover {\n",
              "      background-color: #434B5C;\n",
              "      box-shadow: 0px 1px 3px 1px rgba(0, 0, 0, 0.15);\n",
              "      filter: drop-shadow(0px 1px 2px rgba(0, 0, 0, 0.3));\n",
              "      fill: #FFFFFF;\n",
              "    }\n",
              "  </style>\n",
              "\n",
              "    <script>\n",
              "      const buttonEl =\n",
              "        document.querySelector('#df-1e0ed591-339f-4a0b-af3c-9435c51e19a1 button.colab-df-convert');\n",
              "      buttonEl.style.display =\n",
              "        google.colab.kernel.accessAllowed ? 'block' : 'none';\n",
              "\n",
              "      async function convertToInteractive(key) {\n",
              "        const element = document.querySelector('#df-1e0ed591-339f-4a0b-af3c-9435c51e19a1');\n",
              "        const dataTable =\n",
              "          await google.colab.kernel.invokeFunction('convertToInteractive',\n",
              "                                                    [key], {});\n",
              "        if (!dataTable) return;\n",
              "\n",
              "        const docLinkHtml = 'Like what you see? Visit the ' +\n",
              "          '<a target=\"_blank\" href=https://colab.research.google.com/notebooks/data_table.ipynb>data table notebook</a>'\n",
              "          + ' to learn more about interactive tables.';\n",
              "        element.innerHTML = '';\n",
              "        dataTable['output_type'] = 'display_data';\n",
              "        await google.colab.output.renderOutput(dataTable, element);\n",
              "        const docLink = document.createElement('div');\n",
              "        docLink.innerHTML = docLinkHtml;\n",
              "        element.appendChild(docLink);\n",
              "      }\n",
              "    </script>\n",
              "  </div>\n",
              "\n",
              "\n",
              "<div id=\"df-0cc44e40-7d44-44d0-99a7-33263589969a\">\n",
              "  <button class=\"colab-df-quickchart\" onclick=\"quickchart('df-0cc44e40-7d44-44d0-99a7-33263589969a')\"\n",
              "            title=\"Suggest charts\"\n",
              "            style=\"display:none;\">\n",
              "\n",
              "<svg xmlns=\"http://www.w3.org/2000/svg\" height=\"24px\"viewBox=\"0 0 24 24\"\n",
              "     width=\"24px\">\n",
              "    <g>\n",
              "        <path d=\"M19 3H5c-1.1 0-2 .9-2 2v14c0 1.1.9 2 2 2h14c1.1 0 2-.9 2-2V5c0-1.1-.9-2-2-2zM9 17H7v-7h2v7zm4 0h-2V7h2v10zm4 0h-2v-4h2v4z\"/>\n",
              "    </g>\n",
              "</svg>\n",
              "  </button>\n",
              "\n",
              "<style>\n",
              "  .colab-df-quickchart {\n",
              "      --bg-color: #E8F0FE;\n",
              "      --fill-color: #1967D2;\n",
              "      --hover-bg-color: #E2EBFA;\n",
              "      --hover-fill-color: #174EA6;\n",
              "      --disabled-fill-color: #AAA;\n",
              "      --disabled-bg-color: #DDD;\n",
              "  }\n",
              "\n",
              "  [theme=dark] .colab-df-quickchart {\n",
              "      --bg-color: #3B4455;\n",
              "      --fill-color: #D2E3FC;\n",
              "      --hover-bg-color: #434B5C;\n",
              "      --hover-fill-color: #FFFFFF;\n",
              "      --disabled-bg-color: #3B4455;\n",
              "      --disabled-fill-color: #666;\n",
              "  }\n",
              "\n",
              "  .colab-df-quickchart {\n",
              "    background-color: var(--bg-color);\n",
              "    border: none;\n",
              "    border-radius: 50%;\n",
              "    cursor: pointer;\n",
              "    display: none;\n",
              "    fill: var(--fill-color);\n",
              "    height: 32px;\n",
              "    padding: 0;\n",
              "    width: 32px;\n",
              "  }\n",
              "\n",
              "  .colab-df-quickchart:hover {\n",
              "    background-color: var(--hover-bg-color);\n",
              "    box-shadow: 0 1px 2px rgba(60, 64, 67, 0.3), 0 1px 3px 1px rgba(60, 64, 67, 0.15);\n",
              "    fill: var(--button-hover-fill-color);\n",
              "  }\n",
              "\n",
              "  .colab-df-quickchart-complete:disabled,\n",
              "  .colab-df-quickchart-complete:disabled:hover {\n",
              "    background-color: var(--disabled-bg-color);\n",
              "    fill: var(--disabled-fill-color);\n",
              "    box-shadow: none;\n",
              "  }\n",
              "\n",
              "  .colab-df-spinner {\n",
              "    border: 2px solid var(--fill-color);\n",
              "    border-color: transparent;\n",
              "    border-bottom-color: var(--fill-color);\n",
              "    animation:\n",
              "      spin 1s steps(1) infinite;\n",
              "  }\n",
              "\n",
              "  @keyframes spin {\n",
              "    0% {\n",
              "      border-color: transparent;\n",
              "      border-bottom-color: var(--fill-color);\n",
              "      border-left-color: var(--fill-color);\n",
              "    }\n",
              "    20% {\n",
              "      border-color: transparent;\n",
              "      border-left-color: var(--fill-color);\n",
              "      border-top-color: var(--fill-color);\n",
              "    }\n",
              "    30% {\n",
              "      border-color: transparent;\n",
              "      border-left-color: var(--fill-color);\n",
              "      border-top-color: var(--fill-color);\n",
              "      border-right-color: var(--fill-color);\n",
              "    }\n",
              "    40% {\n",
              "      border-color: transparent;\n",
              "      border-right-color: var(--fill-color);\n",
              "      border-top-color: var(--fill-color);\n",
              "    }\n",
              "    60% {\n",
              "      border-color: transparent;\n",
              "      border-right-color: var(--fill-color);\n",
              "    }\n",
              "    80% {\n",
              "      border-color: transparent;\n",
              "      border-right-color: var(--fill-color);\n",
              "      border-bottom-color: var(--fill-color);\n",
              "    }\n",
              "    90% {\n",
              "      border-color: transparent;\n",
              "      border-bottom-color: var(--fill-color);\n",
              "    }\n",
              "  }\n",
              "</style>\n",
              "\n",
              "  <script>\n",
              "    async function quickchart(key) {\n",
              "      const quickchartButtonEl =\n",
              "        document.querySelector('#' + key + ' button');\n",
              "      quickchartButtonEl.disabled = true;  // To prevent multiple clicks.\n",
              "      quickchartButtonEl.classList.add('colab-df-spinner');\n",
              "      try {\n",
              "        const charts = await google.colab.kernel.invokeFunction(\n",
              "            'suggestCharts', [key], {});\n",
              "      } catch (error) {\n",
              "        console.error('Error during call to suggestCharts:', error);\n",
              "      }\n",
              "      quickchartButtonEl.classList.remove('colab-df-spinner');\n",
              "      quickchartButtonEl.classList.add('colab-df-quickchart-complete');\n",
              "    }\n",
              "    (() => {\n",
              "      let quickchartButtonEl =\n",
              "        document.querySelector('#df-0cc44e40-7d44-44d0-99a7-33263589969a button');\n",
              "      quickchartButtonEl.style.display =\n",
              "        google.colab.kernel.accessAllowed ? 'block' : 'none';\n",
              "    })();\n",
              "  </script>\n",
              "</div>\n",
              "    </div>\n",
              "  </div>\n"
            ],
            "application/vnd.google.colaboratory.intrinsic+json": {
              "type": "dataframe",
              "variable_name": "df",
              "summary": "{\n  \"name\": \"df\",\n  \"rows\": 5,\n  \"fields\": [\n    {\n      \"column\": \"Tiempo(s)\",\n      \"properties\": {\n        \"dtype\": \"number\",\n        \"std\": 0.01581138830084191,\n        \"min\": 1.0,\n        \"max\": 1.04,\n        \"num_unique_values\": 5,\n        \"samples\": [\n          1.01,\n          1.04,\n          1.02\n        ],\n        \"semantic_type\": \"\",\n        \"description\": \"\"\n      }\n    },\n    {\n      \"column\": \"Corriente(A)\",\n      \"properties\": {\n        \"dtype\": \"number\",\n        \"std\": 0.055497747702046483,\n        \"min\": 3.1,\n        \"max\": 3.24,\n        \"num_unique_values\": 5,\n        \"samples\": [\n          3.12,\n          3.24,\n          3.14\n        ],\n        \"semantic_type\": \"\",\n        \"description\": \"\"\n      }\n    },\n    {\n      \"column\": \"Fem(V)\",\n      \"properties\": {\n        \"dtype\": \"number\",\n        \"std\": 1.7879198710009347,\n        \"min\": 2.4002,\n        \"max\": 6.3400799999999995,\n        \"num_unique_values\": 5,\n        \"samples\": [\n          2.40304,\n          6.3400799999999995,\n          3.38588\n        ],\n        \"semantic_type\": \"\",\n        \"description\": \"\"\n      }\n    }\n  ]\n}"
            }
          },
          "metadata": {},
          "execution_count": 5
        }
      ]
    },
    {
      "cell_type": "code",
      "source": [
        "fig, axs= plt.subplots(1,2)\n",
        "axs[0].plot(df['Tiempo(s)'], df['Corriente(A)'], '.g-')\n",
        "axs[0].set_title('Corriente en función del tiempo')\n",
        "axs[0].grid()\n",
        "axs[1].plot(df['Tiempo(s)'], df['Fem(V)'], '.m-')\n",
        "axs[1].set_title('Voltaje en función del tiemmpo')\n",
        "axs[1].grid()"
      ],
      "metadata": {
        "colab": {
          "base_uri": "https://localhost:8080/",
          "height": 453
        },
        "id": "hQPY_txK9ClU",
        "outputId": "99b3edc5-ffaa-41fa-b680-9ab51ee5db54"
      },
      "execution_count": null,
      "outputs": [
        {
          "output_type": "display_data",
          "data": {
            "text/plain": [
              "<Figure size 640x480 with 2 Axes>"
            ],
            "image/png": "[encoded data removed]"
          },
          "metadata": {}
        }
      ]
    },
    {
      "cell_type": "code",
      "source": [
        "#polinomio de la grange\n",
        "range= np.linspace(min(t),max(t),1000)\n",
        "poli= lagrange(t,i)\n",
        "plt.plot(range, poli(range),'.m-')\n",
        "plt.title('Datos interpolados')\n",
        "plt.xlabel('Range')\n",
        "plt.ylabel('datos interpolados')\n",
        "plt.grid()"
      ],
      "metadata": {
        "colab": {
          "base_uri": "https://localhost:8080/",
          "height": 472
        },
        "id": "mX6AxBPm-YCF",
        "outputId": "ce57dc24-2d24-4a6d-f3e4-16cbbcb9dc50"
      },
      "execution_count": null,
      "outputs": [
        {
          "output_type": "display_data",
          "data": {
            "text/plain": [
              "<Figure size 640x480 with 1 Axes>"
            ],
            "image/png": "[encoded data removed]"
          },
          "metadata": {}
        }
      ]
    },
    {
      "cell_type": "code",
      "source": [
        "h= 1e-6\n",
        "derivate= (1/(2*h))*(-3*poli(range)+4*poli(range + h)-poli(range + 2*h))\n",
        "plt.plot(df['Tiempo(s)'], derivada, label='Derivada numerica')\n",
        "plt.plot(range,derivate, label= 'Derivada numerica de la interpolacion')\n",
        "plt.title('comparacion derivada numerica')\n",
        "plt.xlabel('Tiempo[s]')\n",
        "plt.ylabel('Voltaje')\n",
        "plt.legend()\n",
        "plt.grid()"
      ],
      "metadata": {
        "colab": {
          "base_uri": "https://localhost:8080/",
          "height": 472
        },
        "id": "pe6OgtqJADFg",
        "outputId": "8ff1f214-770b-4b22-b494-0937dec6ce29"
      },
      "execution_count": null,
      "outputs": [
        {
          "output_type": "display_data",
          "data": {
            "text/plain": [
              "<Figure size 640x480 with 1 Axes>"
            ],
            "image/png": "[encoded data removed]"
          },
          "metadata": {}
        }
      ]
    },
    {
      "cell_type": "markdown",
      "metadata": {
        "id": "yyh50GiIux2j"
      },
      "source": [
        "## Parte 2\n",
        "1. Escribir en código Markdown la expresión para calcular una integral con la regla del trapecio.\n",
        "\n",
        "2. Escribir en código Markdown la expresión para calcular una integral con la regla del simpson.\n",
        "\n",
        "3. Escribir en código Markdown la expresión para calcular una integral con el metodo de cuadratura.\n",
        "\n",
        "4. Calcular una aproximación con el metodo 1,2,3 de las siguientes integrales"
      ]
    },
    {
      "cell_type": "markdown",
      "metadata": {
        "id": "j3rJW3FevAeC"
      },
      "source": [
        "---\n",
        "$$\n",
        " \\int_0^{\\pi/2} \\frac{1}{\\sqrt{\\tan x}}\\mathrm{dx}\n",
        " $$\n",
        "\n",
        "----\n",
        "$$\n",
        " \\int_{1}^{\\infty} \\frac{\\cos x}{x^3}\\mathrm{dx}\n",
        " $$\n",
        "\n",
        "\n",
        "----\n",
        "\n",
        "$$\n",
        " \\int_{0}^{\\pi/4} \\int_{0}^{\\sin x} \\frac{1}{\\sqrt{1-y^2}}\\mathrm{dxdy}\n",
        " $$\n",
        "\n",
        "---\n",
        "\n",
        "Garantizando  que el error sea menor a $\\varepsilon=1\\times 10^{-5}$."
      ]
    },
    {
      "cell_type": "code",
      "source": [
        "#definiendo el error\n",
        "E= 1e-5"
      ],
      "metadata": {
        "id": "ejm7M-tVzxVU"
      },
      "execution_count": null,
      "outputs": []
    },
    {
      "cell_type": "markdown",
      "source": [
        "###**regla de trapecio**\n",
        "dada la formula: $$\\int_{a}^{b} f(x) dx = \\frac {h}{2} [f(a) +2 \\sum_{i=1}^{n-1} f(x_{i} + f(b) ] $$\n",
        "\n",
        " donde $$h=\\frac{b-a}{n}$$\n",
        "\n",
        "con error: $$E=-\\frac{(b-a)^{3}}{12n^{2}} f''(\\xi)$$\n",
        "\n",
        "donde:\n",
        "\n",
        "b= limite final\n",
        "\n",
        "a= limite inicial\n",
        "\n",
        "n = numero de intervalos\n",
        "\n",
        "\n",
        "\n",
        "\n",
        "\n"
      ],
      "metadata": {
        "id": "1niGy9pDz_a1"
      }
    },
    {
      "cell_type": "code",
      "source": [
        "f1= lambda x: 1/np.sqrt(np.tan(x))"
      ],
      "metadata": {
        "id": "p9-7lAbDz4eZ"
      },
      "execution_count": null,
      "outputs": []
    },
    {
      "cell_type": "code",
      "source": [
        "#para garantizar el error que se pide\n",
        "x=sy.Symbol('x')\n",
        "f1_=1/(sy.tan(x))**(1/2)\n",
        "d1f1=sy.diff(f1_,x)\n",
        "d2f1=sy.diff(d1f1,x)\n",
        "print(d2f1)"
      ],
      "metadata": {
        "colab": {
          "base_uri": "https://localhost:8080/"
        },
        "id": "BdbqU5uB1to3",
        "outputId": "30817691-cd1b-477c-cd19-0f1128b5db3f"
      },
      "execution_count": null,
      "outputs": [
        {
          "output_type": "stream",
          "name": "stdout",
          "text": [
            "(-1.5*tan(x)**2 - 1.5)*(-0.5*tan(x)**2 - 0.5)/tan(x)**2.5 - 0.5*(2*tan(x)**2 + 2)/tan(x)**0.5\n"
          ]
        }
      ]
    },
    {
      "cell_type": "code",
      "source": [
        "#tomando las derivadas\n",
        "d1f1= lambda x: ((-1/2)*np.tan(x)**2 - 0.5 /np.tan(x)**(3/2))\n",
        "d2f1 = lambda x: (-1.5*np.tan(x)**2 -1.5)*(-0.5*np.tan(x)**2 -0.5)/np.tan(x)**2.5 - 0.5*(2*np.tan(x)**2+2)/np.tan(x)**0.5\n",
        "d2f1_invertida= lambda x: (-1)*(-1.5*np.tan(x)**2 -1.5)*(-0.5*np.tan(x)**2 -0.5)/np.tan(x)**2.5 - 0.5*(2*np.tan(x)**2+2)/np.tan(x)**0.5  #para garantizar el valor maximo de la funcion entre [a,b]\n",
        "\n",
        "#limites\n",
        "a=0.01\n",
        "b= np.pi/2\n",
        "n=30000\n",
        "x=np.linspace(a,b,n)\n",
        "fe= d2f1_invertida(min(x)) #valor maximo la funcion derivada dos veces\n",
        "E= ((b-a)**3/(12*n**2))* fe\n",
        "print(f' el valor del error es {E}')"
      ],
      "metadata": {
        "colab": {
          "base_uri": "https://localhost:8080/"
        },
        "id": "B5OfFtDI2OqU",
        "outputId": "0de74b27-c42f-44b3-b672-84cd21125d7f"
      },
      "execution_count": null,
      "outputs": [
        {
          "output_type": "stream",
          "name": "stdout",
          "text": [
            " el valor del error es -2.641099598981565e-05\n"
          ]
        }
      ]
    },
    {
      "cell_type": "code",
      "source": [
        "#integral\n",
        "def integral_trap(f,a,b,N):\n",
        "  x=np.linspace(a,b, int(N))\n",
        "  h= (b-a)/N\n",
        "  integral= (f(x[0])+f(x[-1])+2*f(x[1:-1]).sum())*0.5*h\n",
        "  return integral\n",
        "integralf1_trap=integral_trap(f1,0.01,np.pi/2,30000)\n",
        "#redefiniendo el intervalo para la funcion en sympy\n",
        "x=np.linspace(a,b,n)\n",
        "integralf1= sc.integrate.trapezoid(f1(x),x)\n",
        "\n",
        "print(f'''el resultado de la integral con el codigo creado es {integralf1_trap} y con scipy es {integralf1}.\n",
        " entonces comparando el resultado de scipy con el del codigo creado es {integralf1_trap/integralf1}''' )"
      ],
      "metadata": {
        "colab": {
          "base_uri": "https://localhost:8080/"
        },
        "id": "BHAv0Py6-OhE",
        "outputId": "7952491a-775f-4b7e-b6ae-92a9ee16f8c7"
      },
      "execution_count": null,
      "outputs": [
        {
          "output_type": "stream",
          "name": "stdout",
          "text": [
            "el resultado de la integral con el codigo creado es 2.0213747891243945 y con scipy es 2.021442170530079.\n",
            " entonces comparando el resultado de scipy con el del codigo creado es 0.9999666666666667\n"
          ]
        }
      ]
    },
    {
      "cell_type": "markdown",
      "source": [
        "####**Regla de Simpson Compuesta**\n",
        "\n",
        "Con formula:\n",
        "$$\\int_{a}^{b} f(x) dx = \\frac {h}{3} [f(a)+2 \\sum_{j=1}^{(n/2)-1} f(x_{2j}) + 4 \\sum_{j=1}^{n/2} f(x_{2j}) + f(b)]$$\n",
        "\n",
        "Y error:$$E=-\\frac{b-a}{180} {h}^{4} {f}^{(4)}(\\xi) =-\\frac{{(b-a)}^{5}}{2880 {n}^{4}} {f}^{(4)}(\\xi)$$"
      ],
      "metadata": {
        "id": "pPZaLCPtFKeZ"
      }
    },
    {
      "cell_type": "code",
      "source": [
        "#calculando el error\n",
        "x_= sy.Symbol('x')\n",
        "f1_= 1/(sy.tan(x_))**(1/2)\n",
        "d1f1= sy.diff(f1_,x_)\n",
        "d2f1=sy.diff(d1f1,x_)\n",
        "d3f1=sy.diff(d2f1,x_)\n",
        "d4f1_=sy.diff(d3f1,x_)"
      ],
      "metadata": {
        "id": "aAXmFmTSGh2K"
      },
      "execution_count": null,
      "outputs": []
    },
    {
      "cell_type": "code",
      "source": [
        "#tomando la cuarta derivada para el error\n",
        "d4f1=sy.lambdify(x_,d4f1_, 'numpy') #llevandola a objeto de numpy\n",
        "x= np.linspace(0.01,np.pi/2,3000)\n",
        "d4f1_inversa= lambda x: (-1)*d4f1(x)\n",
        "error=d4f1_inversa(min(x))"
      ],
      "metadata": {
        "id": "J3GO2pvrGBZj"
      },
      "execution_count": null,
      "outputs": []
    },
    {
      "cell_type": "code",
      "source": [
        "a=0.01\n",
        "b=np.pi/2\n",
        "n=3000\n",
        "h=(b-a)/2*n\n",
        "E= ((b-a)**5/(2880*(n**4)))*error\n",
        "print(f'el error asociado es {E}')"
      ],
      "metadata": {
        "colab": {
          "base_uri": "https://localhost:8080/"
        },
        "id": "ZU8TcKLpIkiw",
        "outputId": "eaef9067-52f5-4414-932d-915bb4102157"
      },
      "execution_count": null,
      "outputs": [
        {
          "output_type": "stream",
          "name": "stdout",
          "text": [
            "el error asociado es -2.6056876873415987e-07\n"
          ]
        }
      ]
    },
    {
      "cell_type": "code",
      "source": [
        "def regla_simpson_compuesta(f,a,b,N):\n",
        "  x1=np.linspace(a,b,int(N))\n",
        "  h=x1[1]-x1[0]\n",
        "  integral= (h/3)*(f(a)+f(b)+2*f(x1[2:int(N-2):2]).sum() + 4*f(x1[1:int(N-1):2]).sum())\n",
        "  return integral\n",
        "\n",
        "integral_simpson= regla_simpson_compuesta(f1,0.01,np.pi/2,3000) #f1 es la funcion que se definio desde el inicio\n",
        "\n",
        "#resultado con scipy\n",
        "x=np.linspace(0.01,np.pi/2,3000)\n",
        "integralf1_simpson=sc.integrate.simpson(f1(x),x)\n",
        "\n",
        "print(f'''el resultado de la integral con el codigo creado es {integral_simpson} y el resultado con scipy es {integralf1_simpson}.\n",
        "entonces comparando el resultado de scipy con el del codigo creado es {integralf1_simpson/integral_simpson}''')"
      ],
      "metadata": {
        "colab": {
          "base_uri": "https://localhost:8080/"
        },
        "id": "C_N13NrCKVUY",
        "outputId": "fe8cd150-1f3b-4cda-920f-be29e789c7f3"
      },
      "execution_count": null,
      "outputs": [
        {
          "output_type": "stream",
          "name": "stdout",
          "text": [
            "el resultado de la integral con el codigo creado es 2.021430255620533 y el resultado con scipy es 2.021440729234451. \n",
            "entonces comparando el resultado de scipy con el del codigo creado es 1.0000051812887876\n"
          ]
        }
      ]
    },
    {
      "cell_type": "markdown",
      "source": [
        "####**Metodo de cuadratura**\n",
        "\n",
        "$$\\sum_{i=1}^{n} w_i f(x_i) $$\n",
        "\n",
        "en donde\n",
        "\n",
        "w son los pesos asociados a los puntos de integracion\n",
        "\n",
        "x son los puntos de integracion\n",
        "\n",
        "f(x) es la funicion a integrar"
      ],
      "metadata": {
        "id": "NonAmpcbH0BQ"
      }
    },
    {
      "cell_type": "code",
      "source": [
        "f1= lambda x: 1/ np.sqrt(np.tan(x))\n",
        "a1=0.01\n",
        "b1= np.pi/2\n",
        "integral1,_ = quad(f1,a1,b1)\n",
        "print(f'el resultado de la integral 1 por medio del método de cuadratura es {integral1}')"
      ],
      "metadata": {
        "id": "5jXaKslXm2Ua",
        "colab": {
          "base_uri": "https://localhost:8080/"
        },
        "outputId": "2462bd92-77de-404c-b48d-ce04ad26c1b8"
      },
      "execution_count": null,
      "outputs": [
        {
          "output_type": "stream",
          "name": "stdout",
          "text": [
            "el resultado de la integral 1 por medio del método de cuadratura es 2.021442135751406\n"
          ]
        }
      ]
    },
    {
      "cell_type": "markdown",
      "source": [
        "#### ahora se hallará el valor aproximado de las integrales 2 y 3 por medio de libreria\n"
      ],
      "metadata": {
        "id": "p-Tn_ZmNKMTd"
      }
    },
    {
      "cell_type": "code",
      "source": [
        "#segunda integral\n",
        "funcion2 = lambda  x : np.cos(x)/ (x**3)\n",
        "a2= 1\n",
        "b2= 1e6\n",
        "x= np.linspace(a2,10,1000)\n",
        "y= funcion2(x)\n",
        "trapecio2 = trapz(y,x)\n",
        "simpson2= simps(y,x)\n",
        "quad2,_= quad(funcion2, a2, np.inf, limit=500)\n",
        "print(f'el resultado de la integral por medio del trapecios es {trapecio2}')\n",
        "print(f'el resultado de la integral por medio de la regla de simpsons es {simpson2}')\n",
        "print(f'el resultado de la integral por medio de cuadratura es {quad2}')"
      ],
      "metadata": {
        "colab": {
          "base_uri": "https://localhost:8080/"
        },
        "id": "ij8spRshKWdj",
        "outputId": "7f03e5dc-2fde-4629-f681-5e9040afa433"
      },
      "execution_count": null,
      "outputs": [
        {
          "output_type": "stream",
          "name": "stdout",
          "text": [
            "el resultado de la integral por medio del trapecios es 0.01785679978713544\n",
            "el resultado de la integral por medio de la regla de simpsons es 0.017840142668783664\n",
            "el resultado de la integral por medio de cuadratura es 0.018117622548772427\n"
          ]
        }
      ]
    },
    {
      "cell_type": "code",
      "source": [
        "#tercera integral, usando el metodo de simpson\n",
        "x_= np.linspace(0, np.pi/4, 3000)\n",
        "\n",
        "f3_doble= lambda x,y : 1 / (np.sqrt(1-(y**2)))\n",
        "\n",
        "#integral doble\n",
        "integralesy= np.zeros(len(x_))\n",
        "\n",
        "for i, n in enumerate(x_):\n",
        "  y_intervalo= np.linspace(0, np.sin(n),3000) #intervalo y\n",
        "  integral = simps(f3_doble(n, y_intervalo), y_intervalo)\n",
        "  integralesy[i]=integral\n",
        "\n",
        "integral_doble= simps(integralesy,x_)\n",
        "print(f'el valor de la integral doble es {integral_doble}')"
      ],
      "metadata": {
        "colab": {
          "base_uri": "https://localhost:8080/"
        },
        "id": "gN8HyqdaFa0k",
        "outputId": "00719d85-98f1-49b1-e4db-bb63e2cb0d09"
      },
      "execution_count": 11,
      "outputs": [
        {
          "output_type": "stream",
          "name": "stdout",
          "text": [
            "el valor de la integral doble es 0.3084251375340436\n"
          ]
        }
      ]
    },
    {
      "cell_type": "markdown",
      "metadata": {
        "id": "pvB9I2lavCdW"
      },
      "source": [
        "## Parte 3\n",
        "Un péndulo físico en el regimen de pequeñas oscilaciones tiene un periodo de:\n",
        "\n",
        "\\begin{equation}\n",
        "P_0=2\\pi \\sqrt{\\frac{I_0}{mgb}}\n",
        "\\end{equation}\n",
        "\n",
        "Cuando las oscilaciones no son pequeñas, podemos encontrar una expresión para el periodo como sigue:\n",
        "\n",
        "\n",
        "La energia de un péndulo físico viene dada por:\n",
        "\n",
        "\\begin{equation}\n",
        "E=\\frac{I_0\\omega^2}{2}+mgb(1-\\cos \\theta)\n",
        "\\end{equation}\n",
        "\n",
        "En el punto más alejado de su posición de equilibrio, su energía es solo potencial y viene dada por:\n",
        "\n",
        "\\begin{equation}\n",
        "Ep = mgb(1-\\cos \\theta),\n",
        "\\end{equation}\n",
        "\n",
        "Igualando ambas expresiones tenemos que:\n",
        "\n",
        "\\begin{equation}\n",
        "mgb(1-\\cos \\theta)=\\frac{I_0\\omega^2}{2}+mgb(1-\\cos \\theta)\n",
        "\\end{equation}\n",
        "\n",
        "Integrando la ecuación respecto a $\\theta$ y realizando la sustitución:\n",
        "\n",
        "$\\sin \\phi = \\frac{\\sin \\frac{\\theta}{2}}{\\sin \\frac{\\theta_0}{2}}$ y  $k = \\sin \\frac{\\theta_0}{2}$, se puede encontrar  que el periodo de oscilación, viene dado en terminos de  la integral elíptica completa de primera especie:\n",
        "\n",
        "\n",
        "\\begin{equation}\n",
        "P = \\frac{2P_0}{\\pi} \\int _0^{\\pi/2} \\frac{\\mathrm{d\\phi}}{\\sqrt{1-k^2\\sin^2\\phi}}\n",
        "\\end{equation}\n",
        "\n",
        "donde,  $P_0$ es el periodo de las oscilaciones pequeñas.\n",
        "\n",
        "Determinar el periodo de oscilación de un péndulo. Para ello:\n",
        "\n",
        "1. Suponga los párametros iniciales del pendulo.\n",
        "2. Realice una buena planificación del código para calcular la integral.\n",
        "3. Emplee un  método de integracion numérico que conozca.\n",
        "4. Compruebe su solucion con el valor exacto de la integral mostrado en el punto"
      ]
    },
    {
      "cell_type": "code",
      "source": [
        "#datos\n",
        "b= 0.5 #longitud[m]\n",
        "g= 9.8 #gravedad [m/s^2]\n",
        "I_0= 83.33e-6 #[kg m^2] momento de inercia de una varilla\n",
        "m= 0.1 #[kg] masa\n",
        "\n",
        "P_0 =2*np.pi*np.sqrt((I_0/(m*g*b)))\n"
      ],
      "metadata": {
        "id": "9UctnsmQWBwT"
      },
      "execution_count": null,
      "outputs": []
    },
    {
      "cell_type": "code",
      "source": [
        "#valores de theta para k\n",
        "theta_0=np.linspace(np.deg2rad(0.1),np.deg2rad(45),100)\n",
        "#funcion periodo de oscilacion\n",
        "def periodo_osci(theta_0,phi):\n",
        "\n",
        "  K=np.sin(theta_0/2)\n",
        "  P_1=(2*P_0)/np.pi\n",
        "  P_2= P_1*(1/(np.sqrt(1-(K**2)*(np.sin(phi))**2)))\n",
        "  return P_2"
      ],
      "metadata": {
        "id": "A2EY98LrXM76"
      },
      "execution_count": null,
      "outputs": []
    },
    {
      "cell_type": "code",
      "source": [
        "#utilizando el metodo de trapezoide\n",
        "phi=np.linspace(0,np.pi/2,1000)\n",
        "\n",
        "integral_trap=np.zeros(len(theta_0))\n",
        "for i,n in enumerate(theta_0):\n",
        "  a=sc.integrate.trapezoid(periodo_osci(n,phi),phi)\n",
        "  integral_trap[i]=a\n",
        "\n",
        "integral_trap"
      ],
      "metadata": {
        "colab": {
          "base_uri": "https://localhost:8080/"
        },
        "id": "VcC8djoCYoBT",
        "outputId": "4b7da4a7-a9bf-4de9-bc5a-b0c99956282f"
      },
      "execution_count": null,
      "outputs": [
        {
          "output_type": "execute_result",
          "data": {
            "text/plain": [
              "array([0.08193748, 0.08193794, 0.08193905, 0.08194079, 0.08194318,\n",
              "       0.08194621, 0.08194988, 0.0819542 , 0.08195915, 0.08196475,\n",
              "       0.081971  , 0.08197788, 0.08198541, 0.08199358, 0.0820024 ,\n",
              "       0.08201186, 0.08202197, 0.08203272, 0.08204412, 0.08205616,\n",
              "       0.08206885, 0.08208219, 0.08209618, 0.08211081, 0.0821261 ,\n",
              "       0.08214203, 0.08215862, 0.08217585, 0.08219374, 0.08221228,\n",
              "       0.08223148, 0.08225133, 0.08227183, 0.08229299, 0.08231481,\n",
              "       0.08233729, 0.08236042, 0.08238422, 0.08240868, 0.0824338 ,\n",
              "       0.08245958, 0.08248603, 0.08251314, 0.08254092, 0.08256937,\n",
              "       0.08259848, 0.08262827, 0.08265873, 0.08268986, 0.08272167,\n",
              "       0.08275415, 0.08278731, 0.08282115, 0.08285567, 0.08289088,\n",
              "       0.08292676, 0.08296334, 0.08300059, 0.08303854, 0.08307718,\n",
              "       0.08311651, 0.08315653, 0.08319725, 0.08323867, 0.08328078,\n",
              "       0.0833236 , 0.08336712, 0.08341134, 0.08345628, 0.08350192,\n",
              "       0.08354827, 0.08359534, 0.08364312, 0.08369162, 0.08374084,\n",
              "       0.08379079, 0.08384145, 0.08389285, 0.08394497, 0.08399783,\n",
              "       0.08405142, 0.08410575, 0.08416081, 0.08421662, 0.08427318,\n",
              "       0.08433048, 0.08438853, 0.08444734, 0.0845069 , 0.08456721,\n",
              "       0.08462829, 0.08469014, 0.08475275, 0.08481613, 0.08488029,\n",
              "       0.08494522, 0.08501093, 0.08507743, 0.08514471, 0.08521278])"
            ]
          },
          "metadata": {},
          "execution_count": 5
        }
      ]
    },
    {
      "cell_type": "code",
      "source": [
        "#Gráfico perido de oscilación en función theta\n",
        "plt.figure()\n",
        "plt.plot(theta_0,integral_trap,'.m-')\n",
        "plt.title('Periodo de oscilación (P) en función del ángulo de partida (theta_0)', fontsize=12)\n",
        "plt.xlabel('theta_0 [rad]', fontsize=12)\n",
        "plt.ylabel('P [s]', fontsize=12)\n",
        "plt.grid()"
      ],
      "metadata": {
        "colab": {
          "base_uri": "https://localhost:8080/",
          "height": 476
        },
        "id": "PIeZXZbJaFIh",
        "outputId": "52fc90b3-9349-4f2d-8c57-30188c2f03df"
      },
      "execution_count": null,
      "outputs": [
        {
          "output_type": "display_data",
          "data": {
            "text/plain": [
              "<Figure size 640x480 with 1 Axes>"
            ],
            "image/png": "[encoded data removed]"
          },
          "metadata": {}
        }
      ]
    },
    {
      "cell_type": "code",
      "source": [
        "#utilizando metodo diferente, integrate.simpson\n",
        "phi=np.linspace(0,np.pi/2,1000)\n",
        "\n",
        "integral_simpson=np.zeros(len(theta_0))\n",
        "for i,n in enumerate(theta_0):\n",
        "  b=sc.integrate.simpson(periodo_osci(n,phi),phi)\n",
        "  integral_simpson[i]=b\n"
      ],
      "metadata": {
        "colab": {
          "base_uri": "https://localhost:8080/"
        },
        "id": "f2rQCPa3aP57",
        "outputId": "042f7b77-9e2d-4351-a5a2-42094efd8fae"
      },
      "execution_count": null,
      "outputs": [
        {
          "output_type": "execute_result",
          "data": {
            "text/plain": [
              "array([0.08193748, 0.08193794, 0.08193905, 0.08194079, 0.08194318,\n",
              "       0.08194621, 0.08194988, 0.0819542 , 0.08195915, 0.08196475,\n",
              "       0.081971  , 0.08197788, 0.08198541, 0.08199358, 0.0820024 ,\n",
              "       0.08201186, 0.08202197, 0.08203272, 0.08204412, 0.08205616,\n",
              "       0.08206885, 0.08208219, 0.08209618, 0.08211081, 0.0821261 ,\n",
              "       0.08214203, 0.08215862, 0.08217585, 0.08219374, 0.08221228,\n",
              "       0.08223148, 0.08225133, 0.08227183, 0.08229299, 0.08231481,\n",
              "       0.08233729, 0.08236042, 0.08238422, 0.08240868, 0.0824338 ,\n",
              "       0.08245958, 0.08248603, 0.08251314, 0.08254092, 0.08256937,\n",
              "       0.08259848, 0.08262827, 0.08265873, 0.08268986, 0.08272167,\n",
              "       0.08275415, 0.08278731, 0.08282115, 0.08285567, 0.08289088,\n",
              "       0.08292676, 0.08296334, 0.08300059, 0.08303854, 0.08307718,\n",
              "       0.08311651, 0.08315653, 0.08319725, 0.08323867, 0.08328078,\n",
              "       0.0833236 , 0.08336712, 0.08341134, 0.08345628, 0.08350192,\n",
              "       0.08354827, 0.08359534, 0.08364312, 0.08369162, 0.08374084,\n",
              "       0.08379079, 0.08384145, 0.08389285, 0.08394497, 0.08399783,\n",
              "       0.08405142, 0.08410575, 0.08416081, 0.08421662, 0.08427318,\n",
              "       0.08433048, 0.08438853, 0.08444734, 0.0845069 , 0.08456721,\n",
              "       0.08462829, 0.08469014, 0.08475275, 0.08481613, 0.08488029,\n",
              "       0.08494522, 0.08501093, 0.08507743, 0.08514471, 0.08521278])"
            ]
          },
          "metadata": {},
          "execution_count": 8
        }
      ]
    },
    {
      "cell_type": "code",
      "source": [
        "#Gráfico perido de oscilación en función theta\n",
        "plt.figure()\n",
        "plt.plot(theta_0,integral_simpson,'.r-')\n",
        "plt.title('Periodo de oscilación (P) en función del ángulo de partida (theta_0)', fontsize=12)\n",
        "plt.xlabel('theta_0 [rad]',fontsize=12)\n",
        "plt.ylabel('P [s]',fontsize=12)\n",
        "plt.grid()"
      ],
      "metadata": {
        "colab": {
          "base_uri": "https://localhost:8080/",
          "height": 476
        },
        "id": "ZuF3p85Fcw48",
        "outputId": "e7a40e05-a932-4311-c3ca-79be4f5133b6"
      },
      "execution_count": null,
      "outputs": [
        {
          "output_type": "display_data",
          "data": {
            "text/plain": [
              "<Figure size 640x480 with 1 Axes>"
            ],
            "image/png": "[encoded data removed]"
          },
          "metadata": {}
        }
      ]
    },
    {
      "cell_type": "markdown",
      "metadata": {
        "id": "R2jgnjm4vd95"
      },
      "source": [
        "## Parte 4\n",
        "The next  problems are examples of how elliptic integrals enter into realistic physics problems. It is straightforward to evaluate any integral numerically using the techniques of this chapter, but it may be difficult for you to  know if the answers you obtain are correct. One way to hone your integral evaluating skills is to compare your answers from quadrature to power series\n",
        "expressions, or to a polynomial approximations of know precision. To help you in this regard, we present here a polynomial approximation for an elliptic integral (Abramowitz and Stegun, 1972):\n",
        "\n",
        "\\begin{equation}\n",
        "K(m)=\\int_{0}^{\\pi/2} \\frac{\\mathrm{d\\phi}}{\\sqrt{1-m\\sin^2\\phi}}\n",
        "\\end{equation}\n",
        "\n",
        "\\begin{equation}\n",
        "\\approx a_0+a_1m_1+a_2m_2 - [ b_0+b_1m_1+b_2m_1^2]\\ln m_1 + \\epsilon(m)\n",
        "\\end{equation}\n",
        "\n",
        "\n",
        "* $m_1 = 1-m$,\n",
        "\n",
        "* $ 0 \\le m \\le1 $\n",
        "\n",
        "* $\\epsilon(m)\\leq 3\\times 10^{-5}$\n",
        "\n",
        "* $a_0 = 1.3862944$\n",
        "\n",
        "* $b_0 = 0.5$\n",
        "\n",
        "* $a_1 = 0.1119723$\n",
        "\n",
        "* $b_1 = 0.1213478$\n",
        "\n",
        "* $a_2 = 0.00725296$\n",
        "\n",
        "* $b_2 = 0.0288729$"
      ]
    },
    {
      "cell_type": "code",
      "source": [
        "a0= 1.3862944\n",
        "b0= 0.5\n",
        "a1= 0.1119723\n",
        "b1= 0.1213478\n",
        "a2= 0.00725296\n",
        "b2= 0.0288729\n",
        "\n",
        "def integral_eliptica(m):\n",
        "  m1 = 1 - m\n",
        "  epsilon = 3e-5\n",
        "  if m >=0 and m<=1:\n",
        "    return a0 + a1*m1 + a2*m1 - ( b0 + b1*m1 + b2 * (m1**2))* np.log(m1) + epsilon\n",
        "  else:\n",
        "    return ('el valor de m debe pertenecer al rango')"
      ],
      "metadata": {
        "id": "xBxTqMGkHMhx"
      },
      "execution_count": 17,
      "outputs": []
    },
    {
      "cell_type": "markdown",
      "metadata": {
        "id": "xDFUsTNRvzOV"
      },
      "source": [
        "## Parte 5 (Opcional)\n",
        "\n",
        "Figure 5.7 shows a current loop of radius a carrying a current I. The point P\n",
        "is a distance r from the center of the loop with spherical coordinates (r, θ, φ).\n",
        "Jackson (1988) solves for the φ component of the vector potential at point P\n",
        "in terms of elliptic integrals:\n",
        "\n",
        "\\begin{equation}\n",
        "A_{\\phi}(r, \\theta)=\\frac{\\mu_0}{4\\pi}\\frac{4Ia}{\\sqrt{a^2+r^2+2ar\\sin \\theta}}\\left(\\frac{(2-k^2)K(k)-2E(k)}{k^2} \\right)\n",
        "\\end{equation}\n",
        "\n",
        "\n",
        "where\n",
        "\n",
        "\\begin{equation}\n",
        "K(k)=\\int_{0}^{\\pi/2} \\frac{\\mathrm{d\\phi}}{\\sqrt{1-k^2\\sin^2\\phi}}\n",
        "\\end{equation}\n",
        "\n",
        "\n",
        "\\begin{equation}\n",
        "E(k)=\\int_{0}^{\\pi/2} \\mathrm{d\\phi} \\sqrt{1-k^2\\sin^2\\phi}\n",
        "\\end{equation}\n",
        "\n",
        "\n",
        "\\begin{equation}\n",
        "k^2=\\frac{4ar\\sin\\theta}{a^2+r^2+2ar\\sin\\theta}\n",
        "\\end{equation}\n",
        "\n",
        "\n",
        "\n",
        "Here K(k) is a complete elliptic integral of the first kind and E(k) is a complete\n",
        "elliptic integral of the second kind. For a = 1, I = 3, and μ0∕4π = 1, compute\n",
        "and plot\n",
        "\n",
        "a) Aφ(r = 1.1, θ) vs. θ\n",
        "\n",
        "b) Aφ(r, θ = π∕3) vs. r\n"
      ]
    }
  ],
  "metadata": {
    "colab": {
      "provenance": []
    },
    "kernelspec": {
      "display_name": "Python 3 (ipykernel)",
      "language": "python",
      "name": "python3"
    },
    "language_info": {
      "codemirror_mode": {
        "name": "ipython",
        "version": 3
      },
      "file_extension": ".py",
      "mimetype": "text/x-python",
      "name": "python",
      "nbconvert_exporter": "python",
      "pygments_lexer": "ipython3",
      "version": "3.10.9"
    }
  },
  "nbformat": 4,
  "nbformat_minor": 0
}