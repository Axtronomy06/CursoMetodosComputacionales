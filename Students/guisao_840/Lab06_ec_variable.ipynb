{
  "cells": [
    {
      "cell_type": "markdown",
      "id": "39502ab7",
      "metadata": {
        "id": "39502ab7"
      },
      "source": [
        "<a href=\"https://colab.research.google.com/github/hernansalinas/autogrades/blob/main/Laboratorios_Taller/Lab06_ec_variable.ipynb\" target=\"_parent\"><img src=\"https://colab.research.google.com/assets/colab-badge.svg\" alt=\"Open In Colab\"/></a>"
      ]
    },
    {
      "cell_type": "markdown",
      "id": "7efe0541",
      "metadata": {
        "id": "7efe0541"
      },
      "source": [
        "## Ecuaciones de una variable:\n",
        "\n",
        "Para los siguiente problemas:\n",
        "\n",
        "\n",
        "1.0 ¿Para que ángulo el area del segmento circular es igual a un cuarto del area de la circunferencia?\n",
        "\n",
        "- Muestre que la expresión que permite resolver el problema:\n",
        "\n",
        "\n",
        "\\begin{equation}\n",
        "\\theta - \\sin \\theta = \\frac{\\pi}{2}\n",
        "\\end{equation}\n",
        "\n",
        "\n",
        "- ¿Construya una grafica para theta?,  Alrededor de que punto esta solución.(Para este punto se recomienda emplear un data frame de pandas )\n",
        "\n",
        "- Emplee el metodo de biseccion, punto fijo,  newton y secante  para comprobar la solución intuida del apartado anterior.\n",
        "\n",
        "\n",
        "2.0 An object falling vertically through the air is subjected to viscous resistance as well as to the force\n",
        "of gravity. Assume that an object with mass m is dropped from a height s0 and that the height of the\n",
        "object after t seconds is\n",
        "\n",
        "\\begin{equation}\n",
        "s(t)=s_0 - \\frac{mg}{k}t+\\frac{m^2g}{k}t(1-e^{-kt/m})\n",
        "\\end{equation}\n",
        "\n",
        "where $g = 32.17 ft/s2$ and $k$ represents the coefficient of air resistance in $lbs/ft$. Suppose $s0 = 300 ft$,\n",
        "$m = 0.25$ lb, and $k = 0.1$ lbs/ft. Find, to within $0.01$ s, the time it takes this quarter-pounder to hit the\n",
        "ground\n",
        "\n",
        "- Emplee el metodo de biseccion, punto fijo,  newton y secante  para comprobrar la solución.\n",
        "\n",
        "\n",
        "\n",
        "3.0 En la teoria de campo medio, La magnetización como función de la temperatura de un material magnético  puede ser calculada como:\n",
        "\n",
        "\\begin{equation}\n",
        "m(T) = \\tanh\\left( \\frac{m(T)}{T} \\right)\n",
        "\\end{equation}\n",
        "\n",
        "donde m y T son la magnetizacion y temperatura reducida respectivamente\n",
        "\n",
        "Para T = 0.5, determine:\n",
        "\n",
        "a. La magnetización reducida empleando el metodo de la secante(Muestre su resultado con 4 cifras)\n",
        "\n",
        "b. Valide su respuestado con el metodo de punto fijo.\n",
        "(Muestre su resultado con 4 cifras)\n",
        "\n",
        "d. Defina T = np.linspace(0.1,0.99,100), y emple el metodo de la secante para construir un gráfico de magnetización reducida como función de la temperatura para los  100 valores  de T.\n",
        "\n",
        "\n",
        "\n",
        "5. Construir un fractal empleando el metodo de Newton-Raphson,\n",
        "(Reproducir código y entender)\n",
        "\\begin{equation}\n",
        "z_{n+1} = z_n -a \\frac{f(z)}{f'(z)}\n",
        "\\end{equation}\n",
        "\n",
        "\n",
        "\n",
        "\\begin{equation}\n",
        "f'(z) = \\frac{ f(z+h)+f(z) }{h}\n",
        "\\end{equation}\n",
        "\n",
        "\n",
        "Replicar el codigo y entender.\n",
        "\n",
        "\n",
        "```\n",
        "\n",
        "import numpy as np\n",
        "import matplotlib.pylab as plt\n",
        "from PIL import Image\n",
        "\n",
        "Npx_X = 80 #Numero de pixeles en x\n",
        "Npx_Y = 80 #Numero de pixeles en y\n",
        "\n",
        "image = Image.new(\"RGB\", (Npx_X, Npx_Y)) #Creacion de la imagen inicial\n",
        "\n",
        "npx = np.arange(0, Npx_X)\n",
        "npy = np.arange(0, Npx_Y)\n",
        "\n",
        "xmin = -1\n",
        "xmax = 1\n",
        "ymin = -1\n",
        "ymax = 1\n",
        "#Transformación al plano complejo en un rectangulo (xmin, xmax), (ymin, ymax)\n",
        "zx = npx * (xmax - xmin) / (Npx_X - 1)   + xmin\n",
        "zy = npy * (ymax-ymin) / (Npx_Y - 1) + ymin\n",
        "\n",
        "#Definicion  la funcion y las derivada\n",
        "def f(z):\n",
        "  return z**3 - 1\n",
        "\n",
        "def fp(z):\n",
        "  return 3*z**2\n",
        "\n",
        "h = 1E-4\n",
        "def fpn(z, h):\n",
        "  return (f(z+h)-f(z))/h\n",
        "  \n",
        "\n",
        "a = 0.2\n",
        "Niteraciones = 120\n",
        "eps = 1E-8\n",
        "\n",
        "x = - 1\n",
        "for zx_ in zx:\n",
        "  x = x + 1\n",
        "  y = -1\n",
        "  for zy_ in zy:\n",
        "      y = y + 1\n",
        "      Z_0 = complex(zx_, zy_)\n",
        "    \n",
        "      for i in range(0, Niteraciones):\n",
        "        Z = Z_0 - a * f(Z_0)/fp(Z_0)\n",
        "\n",
        "        if( abs(Z-Z_0)<= eps):\n",
        "          break\n",
        "          \n",
        "        Z_0 = Z\n",
        "      #print(i)\n",
        "      #print(i)\n",
        "      r, g, b = i % 4 *64 , i % 8 *16, i% 16* 16\n",
        "      \n",
        "      image.putpixel((x,y), (r,g,b) )\n",
        "\n",
        "\n",
        "plt.imshow(image)\n",
        "#plt.xlim(400, 600)\n",
        "#plt.ylim(400, 523)\n",
        "```\n"
      ]
    },
    {
      "cell_type": "code",
      "source": [
        "import matplotlib.pyplot as plt\n",
        "import numpy as np\n",
        "import pandas as pd\n",
        "from scipy import optimize"
      ],
      "metadata": {
        "id": "DVSaPJnmjVQU"
      },
      "id": "DVSaPJnmjVQU",
      "execution_count": 2,
      "outputs": []
    },
    {
      "cell_type": "code",
      "source": [
        "theta = lambda x: x - np.sin(x) - np.pi/2"
      ],
      "metadata": {
        "id": "JTc7X_kdjhLW"
      },
      "id": "JTc7X_kdjhLW",
      "execution_count": null,
      "outputs": []
    },
    {
      "cell_type": "code",
      "source": [
        "x= np.arange(0,2*np.pi, 0.01)\n",
        "y = theta(x)"
      ],
      "metadata": {
        "id": "DvozwC_Mj8Wj"
      },
      "id": "DvozwC_Mj8Wj",
      "execution_count": null,
      "outputs": []
    },
    {
      "cell_type": "code",
      "source": [
        "d = {'Theta': x, 'Funcion': y}\n",
        "df = pd.DataFrame(d)"
      ],
      "metadata": {
        "id": "6koB1XO5kae8"
      },
      "id": "6koB1XO5kae8",
      "execution_count": null,
      "outputs": []
    },
    {
      "cell_type": "code",
      "source": [
        "df.plot.line(x= 'Theta', y= 'Funcion')\n",
        "plt.grid()\n",
        "plt.show()"
      ],
      "metadata": {
        "colab": {
          "base_uri": "https://localhost:8080/",
          "height": 453
        },
        "id": "fALGxza7klIs",
        "outputId": "a0f5ffce-0013-4b36-8bf3-718d1919d21b"
      },
      "id": "fALGxza7klIs",
      "execution_count": null,
      "outputs": [
        {
          "output_type": "display_data",
          "data": {
            "text/plain": [
              "<Figure size 640x480 with 1 Axes>"
            ],
            "image/png": "[encoded data removed]"
          },
          "metadata": {}
        }
      ]
    },
    {
      "cell_type": "code",
      "source": [
        "df_filtro = df[df.Funcion.between(-0.1,0.1)] #creando nuevo dataframe en base a la columna funcion\n",
        "df_filtro.plot.line( x= 'Theta', y= 'Funcion')\n",
        "#df_filtro"
      ],
      "metadata": {
        "colab": {
          "base_uri": "https://localhost:8080/",
          "height": 466
        },
        "id": "B7VrQwbBlQUu",
        "outputId": "421e5b17-f8b6-4659-9816-334656dcedba"
      },
      "id": "B7VrQwbBlQUu",
      "execution_count": null,
      "outputs": [
        {
          "output_type": "execute_result",
          "data": {
            "text/plain": [
              "<Axes: xlabel='Theta'>"
            ]
          },
          "metadata": {},
          "execution_count": 6
        },
        {
          "output_type": "display_data",
          "data": {
            "text/plain": [
              "<Figure size 640x480 with 1 Axes>"
            ],
            "image/png": "[encoded data removed]"
          },
          "metadata": {}
        }
      ]
    },
    {
      "cell_type": "code",
      "source": [],
      "metadata": {
        "id": "ypTu6-wQn2_j"
      },
      "id": "ypTu6-wQn2_j",
      "execution_count": null,
      "outputs": []
    },
    {
      "cell_type": "code",
      "source": [
        "#metodo de biseccion\n",
        "optimize.bisect?"
      ],
      "metadata": {
        "id": "xxv3ColamueG"
      },
      "id": "xxv3ColamueG",
      "execution_count": null,
      "outputs": []
    },
    {
      "cell_type": "code",
      "source": [
        "raiz= optimize.bisect(theta, 2.30,2.31)\n",
        "print('la raiz usando el metod de la biseccion sera', raiz)"
      ],
      "metadata": {
        "colab": {
          "base_uri": "https://localhost:8080/"
        },
        "id": "Wjll8D6BnFVF",
        "outputId": "c6cbde01-338e-40b4-e2d8-fd352d6c1550"
      },
      "id": "Wjll8D6BnFVF",
      "execution_count": null,
      "outputs": [
        {
          "output_type": "stream",
          "name": "stdout",
          "text": [
            "la raiz usando el metod de la biseccion sera 2.3098814600089104\n"
          ]
        }
      ]
    },
    {
      "cell_type": "code",
      "source": [
        "#metodo de newton rhapson, debemos emplear la primera derivada\n",
        "dtheta = lambda x: 1 - np.cos(x)"
      ],
      "metadata": {
        "id": "Zast_XEKnjUC"
      },
      "id": "Zast_XEKnjUC",
      "execution_count": null,
      "outputs": []
    },
    {
      "cell_type": "code",
      "source": [
        "raiz_newton = optimize.newton(theta, 2.30, dtheta)\n",
        "print('la raiz empleando el metodo de newton rhapson sera: ', raiz_newton)"
      ],
      "metadata": {
        "colab": {
          "base_uri": "https://localhost:8080/"
        },
        "id": "NZH-H-VHoJIk",
        "outputId": "0f2260de-ea93-43c7-817d-aada3fdd6295"
      },
      "id": "NZH-H-VHoJIk",
      "execution_count": null,
      "outputs": [
        {
          "output_type": "stream",
          "name": "stdout",
          "text": [
            "la raiz empleando el metodo de newton rhapson sera:  2.309881460010057\n"
          ]
        }
      ]
    },
    {
      "cell_type": "code",
      "source": [
        "# metodo de punto fijo\n",
        "optimize.fixed_point?"
      ],
      "metadata": {
        "id": "DZEnMgneo5W_"
      },
      "id": "DZEnMgneo5W_",
      "execution_count": null,
      "outputs": []
    },
    {
      "cell_type": "code",
      "source": [
        "fixed_theta= lambda x: x- theta(x)"
      ],
      "metadata": {
        "id": "uuADzvAOpfkS"
      },
      "id": "uuADzvAOpfkS",
      "execution_count": null,
      "outputs": []
    },
    {
      "cell_type": "code",
      "source": [
        "raiz_fijo= optimize.fixed_point(fixed_theta, 2.30)\n",
        "print('la raiz por el metodo de punto fijo será', raiz_fijo)"
      ],
      "metadata": {
        "colab": {
          "base_uri": "https://localhost:8080/"
        },
        "id": "3ZU7iqMOpsvo",
        "outputId": "fc2afec7-a64c-42b3-a347-0deef54f3378"
      },
      "id": "3ZU7iqMOpsvo",
      "execution_count": null,
      "outputs": [
        {
          "output_type": "stream",
          "name": "stdout",
          "text": [
            "la raiz por el metodo de punto fijo será 2.3098814600100575\n"
          ]
        }
      ]
    },
    {
      "cell_type": "code",
      "source": [
        "#metodo de secante\n",
        "raiz_secante = optimize.newton(theta, 2.30)\n",
        "print('la raiz empleando el metodo de newton rhapson sera: ', raiz_secante)"
      ],
      "metadata": {
        "colab": {
          "base_uri": "https://localhost:8080/"
        },
        "id": "EoNhbuS2p7c7",
        "outputId": "c3b40677-0559-4b12-fd9b-3caa8a8f6613"
      },
      "id": "EoNhbuS2p7c7",
      "execution_count": null,
      "outputs": [
        {
          "output_type": "stream",
          "name": "stdout",
          "text": [
            "la raiz empleando el metodo de newton rhapson sera:  2.3098814600100575\n"
          ]
        }
      ]
    },
    {
      "cell_type": "markdown",
      "source": [
        "2.0 An object falling vertically through the air is subjected to viscous resistance as well as to the force\n",
        "of gravity. Assume that an object with mass m is dropped from a height s0 and that the height of the\n",
        "object after t seconds is\n",
        "\n",
        "\\begin{equation}\n",
        "s(t)=s_0 - \\frac{mg}{k}t+\\frac{m^2g}{k}t(1-e^{-kt/m})\n",
        "\\end{equation}\n",
        "\n",
        "where $g = 32.17 ft/s2$ and $k$ represents the coefficient of air resistance in $lbs/ft$. Suppose $s0 = 300 ft$,\n",
        "$m = 0.25$ lb, and $k = 0.1$ lbs/ft. Find, to within $0.01$ s, the time it takes this quarter-pounder to hit the\n",
        "ground\n",
        "\n",
        "- Emplee el metodo de biseccion, punto fijo,  newton y secante  para comprobrar la solución."
      ],
      "metadata": {
        "id": "ErWvAHVqtOU2"
      },
      "id": "ErWvAHVqtOU2"
    },
    {
      "cell_type": "code",
      "source": [
        "m= 0.25\n",
        "s0= 300\n",
        "k= 0.1\n",
        "g= 32.17\n",
        "\n",
        "s= lambda t: s0 - (m*g/k)*t + ((m**2)*g/k)*t*(1-np.exp(-k*t/m))"
      ],
      "metadata": {
        "id": "f6fczEKk1JUd"
      },
      "id": "f6fczEKk1JUd",
      "execution_count": null,
      "outputs": []
    },
    {
      "cell_type": "code",
      "source": [
        "#s = lambda x: 300 - ((0.25*32.17)/0.1)*x + ((((0.25)**2)*(32.17))/0.1)*x*(1-np.exp((-1*(0.1*x))/0.25))\n",
        "x= np.arange(-10,10,0.01)\n",
        "y= s(x)"
      ],
      "metadata": {
        "id": "pjqszvG7sihZ"
      },
      "id": "pjqszvG7sihZ",
      "execution_count": null,
      "outputs": []
    },
    {
      "cell_type": "code",
      "source": [
        "d = {'x': x, 'Funcion': y}\n",
        "df1 = pd.DataFrame(d)"
      ],
      "metadata": {
        "id": "MYX_miFFuJJM"
      },
      "id": "MYX_miFFuJJM",
      "execution_count": null,
      "outputs": []
    },
    {
      "cell_type": "code",
      "source": [
        "df1.plot.line(x= 'x', y= 'Funcion')\n",
        "plt.grid()\n",
        "plt.show()"
      ],
      "metadata": {
        "colab": {
          "base_uri": "https://localhost:8080/",
          "height": 449
        },
        "id": "2_OBaa9BuRiH",
        "outputId": "380e4e7d-8b62-4a1c-8a1d-0fa17f40e4a7"
      },
      "id": "2_OBaa9BuRiH",
      "execution_count": null,
      "outputs": [
        {
          "output_type": "display_data",
          "data": {
            "text/plain": [
              "<Figure size 640x480 with 1 Axes>"
            ],
            "image/png": "[encoded data removed]"
          },
          "metadata": {}
        }
      ]
    },
    {
      "cell_type": "code",
      "source": [
        "#metodo de la biseccion\n",
        "raiz= optimize.bisect(s, 2.5, 10)\n",
        "print('la raiz por el metodo de la biseccion es ', raiz)"
      ],
      "metadata": {
        "colab": {
          "base_uri": "https://localhost:8080/"
        },
        "id": "oK4mlqrYzWOc",
        "outputId": "f8916ef0-2358-42e4-9059-72d80b5f6d9f"
      },
      "id": "oK4mlqrYzWOc",
      "execution_count": null,
      "outputs": [
        {
          "output_type": "stream",
          "name": "stdout",
          "text": [
            "la raiz por el metodo de la biseccion es  4.736139137605164\n"
          ]
        }
      ]
    },
    {
      "cell_type": "code",
      "source": [
        "#metodo punto fijo\n",
        "fixed_s = lambda t: t - s(t)\n",
        "raiz_fijos= optimize.fixed_point(fixed_s, 400)\n",
        "print('la raiz por el metodo de punto fijo será', raiz_fijos)"
      ],
      "metadata": {
        "colab": {
          "base_uri": "https://localhost:8080/"
        },
        "id": "1ZKyfBWpuz9D",
        "outputId": "678e1bac-a2a7-4899-b030-6d787d470471"
      },
      "id": "1ZKyfBWpuz9D",
      "execution_count": null,
      "outputs": [
        {
          "output_type": "stream",
          "name": "stdout",
          "text": [
            "la raiz por el metodo de punto fijo será 4.73613913760349\n"
          ]
        }
      ]
    },
    {
      "cell_type": "code",
      "source": [
        "#metodo de newton rhapson\n",
        "s= lambda t: s0 - (m*g/k)*t + ((m**2)*g/k)*t*(1-np.exp(-k*t/m))\n",
        "\n",
        "ds = lambda t: -m*g/k + ((m**2)*g/k)*(1-np.exp(-k*t/m)) + ((m**2)*g/k)*t*((np.exp(-k*t/m))*k/m)\n",
        "\n",
        "raiz_newton= optimize.newton(s,4.7,ds)\n",
        "print('la raiz por el metodo de newton rhapson es ', raiz_newton)"
      ],
      "metadata": {
        "colab": {
          "base_uri": "https://localhost:8080/"
        },
        "id": "rcGvmc19M8DP",
        "outputId": "05b0002c-eb0a-45d6-ba5b-10336e9d4cf0"
      },
      "id": "rcGvmc19M8DP",
      "execution_count": null,
      "outputs": [
        {
          "output_type": "stream",
          "name": "stdout",
          "text": [
            "la raiz por el metodo de newton rhapson es  4.73613913760349\n"
          ]
        }
      ]
    },
    {
      "cell_type": "code",
      "source": [
        "#metodo de secante\n",
        "raiz_secante= optimize.newton(s,4.7)\n",
        "print('la raiz por el metodo de secante es ', raiz_newton)"
      ],
      "metadata": {
        "colab": {
          "base_uri": "https://localhost:8080/"
        },
        "id": "T2GZgBxfQu1V",
        "outputId": "f15af83b-4ee2-4476-a890-0cd0bd8be818"
      },
      "id": "T2GZgBxfQu1V",
      "execution_count": null,
      "outputs": [
        {
          "output_type": "stream",
          "name": "stdout",
          "text": [
            "la raiz por el metodo de secante es  4.73613913760349\n"
          ]
        }
      ]
    },
    {
      "cell_type": "markdown",
      "source": [
        "3.0 En la teoria de campo medio, La magnetización como función de la temperatura de un material magnético  puede ser calculada como:\n",
        "\n",
        "\\begin{equation}\n",
        "m(T) = \\tanh\\left( \\frac{m(T)}{T} \\right)\n",
        "\\end{equation}\n",
        "\n",
        "donde m y T son la magnetizacion y temperatura reducida respectivamente\n",
        "\n",
        "Para T = 0.5, determine:\n",
        "\n",
        "a. La magnetización reducida empleando el metodo de la secante(Muestre su resultado con 4 cifras)\n",
        "\n",
        "b. Valide su respuestado con el metodo de punto fijo.\n",
        "(Muestre su resultado con 4 cifras)\n",
        "\n",
        "d. Defina T = np.linspace(0.1,0.99,100), y emple el metodo de la secante para construir un gráfico de magnetización reducida como función de la temperatura para los  100 valores  de T."
      ],
      "metadata": {
        "id": "DfIOJOxBWCPi"
      },
      "id": "DfIOJOxBWCPi"
    },
    {
      "cell_type": "code",
      "source": [
        "#punto a) renombrando la m(t)=y\n",
        "t=0.5 #parametro dado\n",
        "magnetizado=  lambda y: np.tanh(y/t) - y\n",
        "\n",
        "raiz_magne= optimize.newton(magnetizado,1)\n",
        "print(f'la magnetizacion reducida será {raiz_magne: .4f}')\n"
      ],
      "metadata": {
        "id": "Fq18LQvxWU8p",
        "colab": {
          "base_uri": "https://localhost:8080/"
        },
        "outputId": "0b01424f-4289-41d4-98bf-c0c0efec880b"
      },
      "id": "Fq18LQvxWU8p",
      "execution_count": 16,
      "outputs": [
        {
          "output_type": "stream",
          "name": "stdout",
          "text": [
            "la magnetizacion reducida será  0.9575\n"
          ]
        }
      ]
    },
    {
      "cell_type": "code",
      "source": [
        "#punto b) metodo punto fijo\n",
        "fixed_magnetizado = lambda x: x - magnetizado(x)\n",
        "raiz_magneti= optimize.fixed_point(fixed_magnetizado,1)\n",
        "print(f'la magnetizacion reducida es {raiz_magneti: .4f}')"
      ],
      "metadata": {
        "colab": {
          "base_uri": "https://localhost:8080/"
        },
        "id": "DrpmNFDGO9hu",
        "outputId": "6dd0f2d7-85aa-4c88-b0c9-d503636d7369"
      },
      "id": "DrpmNFDGO9hu",
      "execution_count": 49,
      "outputs": [
        {
          "output_type": "stream",
          "name": "stdout",
          "text": [
            "la magnetizacion reducida es  0.9575\n"
          ]
        }
      ]
    },
    {
      "cell_type": "code",
      "source": [
        "#punto d)\n",
        "T= np.linspace(0.1,0.99,100)\n",
        "def magne(Y,T):\n",
        "  return np.tanh(Y/T)-Y\n",
        "\n",
        "zeros=[]\n",
        "\n",
        "for i in T:\n",
        "  roots= optimize.newton(magne,10, args=(i,))\n",
        "  zeros.append(roots) #guarda las magnetizaciones reducidas\n",
        "zeros\n",
        "plt.plot(T,zeros, '.m', label='$m(T)$')\n",
        "plt.title('Magnetizacion reducida a diferentes temperaturas')\n",
        "plt.xlabel('Diferentes valores de temperaturas $0.1< T< 0.99$')\n",
        "plt.ylabel('Magnetizacion Reducida de cada valor de temperatura')\n",
        "plt.legend()\n",
        "plt.grid()\n",
        "plt.show()\n"
      ],
      "metadata": {
        "colab": {
          "base_uri": "https://localhost:8080/",
          "height": 476
        },
        "id": "emFGN9d0Pbkj",
        "outputId": "da9e16e3-296c-41be-f97a-12047a00ce9d"
      },
      "id": "emFGN9d0Pbkj",
      "execution_count": 67,
      "outputs": [
        {
          "output_type": "display_data",
          "data": {
            "text/plain": [
              "<Figure size 640x480 with 1 Axes>"
            ],
            "image/png": "[encoded data removed]"
          },
          "metadata": {}
        }
      ]
    },
    {
      "cell_type": "markdown",
      "source": [
        "Punto 5\n"
      ],
      "metadata": {
        "id": "K60fovDXCePu"
      },
      "id": "K60fovDXCePu"
    },
    {
      "cell_type": "code",
      "source": [
        "\n",
        "import numpy as np\n",
        "import matplotlib.pylab as plt\n",
        "from PIL import Image\n",
        "\n",
        "Npx_X = 80 #Numero de pixeles en x\n",
        "Npx_Y = 80 #Numero de pixeles en y\n",
        "\n",
        "image = Image.new(\"RGB\", (Npx_X, Npx_Y)) #Creacion de la imagen inicial\n",
        "\n",
        "npx = np.arange(0, Npx_X)\n",
        "npy = np.arange(0, Npx_Y)\n",
        "\n",
        "xmin = -1\n",
        "xmax = 1\n",
        "ymin = -1\n",
        "ymax = 1\n",
        "# Transformación al plano complejo en un rectangulo (xmin, xmax), (ymin, ymax)\n",
        "zx = npx * (xmax - xmin) / (Npx_X - 1)   + xmin #crea array desde -1 a 1\n",
        "zy = npy * (ymax-ymin) / (Npx_Y - 1) + ymin #crea array desde -1 a 1\n",
        "\n",
        "# Definicion  la funcion y las derivada\n",
        "def f(z):\n",
        "  return z**3 - 1 #funcion\n",
        "\n",
        "def fp(z):\n",
        "  return 3*z**2 #derivada\n",
        "\n",
        "h = 1E-4 #epsilon\n",
        "def fpn(z, h): #definicion de la derivada\n",
        "  return (f(z+h)-f(z))/h\n",
        "\n",
        "\n",
        "a = 0.2\n",
        "Niteraciones = 120\n",
        "eps = 1E-8\n",
        "\n",
        "x = - 1\n",
        "for zx_ in zx:\n",
        "  x = x + 1\n",
        "  y = -1\n",
        "  for zy_ in zy:\n",
        "      y = y + 1\n",
        "      Z_0 = complex(zx_, zy_) #recorre las listas para llevar a complejos, en donde zx_ es la parte real y zy_ es la parte imaginaria\n",
        "\n",
        "      for i in range(0, Niteraciones):\n",
        "        Z = Z_0 - a * f(Z_0)/fp(Z_0)\n",
        "\n",
        "        if( abs(Z-Z_0)<= eps): #aqui se esta empleando newton\n",
        "          break\n",
        "\n",
        "        Z_0 = Z\n",
        "      #print(i)\n",
        "      #print(i)\n",
        "      r, g, b = i % 4 *64 , i % 8 *16, i% 16* 16\n",
        "\n",
        "      image.putpixel((x,y), (r,g,b) ) #grafica los x,y en los que se iteran y r,g,b son la escala de colores\n",
        "\n",
        "\n",
        "plt.imshow(image)\n",
        "# plt.xlim(400, 600)\n",
        "# plt.ylim(400, 523)"
      ],
      "metadata": {
        "id": "-bPrE-wDCjtQ",
        "colab": {
          "base_uri": "https://localhost:8080/",
          "height": 450
        },
        "outputId": "f09dc5d7-398a-48f2-f889-286f6bf45e48"
      },
      "id": "-bPrE-wDCjtQ",
      "execution_count": null,
      "outputs": [
        {
          "output_type": "execute_result",
          "data": {
            "text/plain": [
              "<matplotlib.image.AxesImage at 0x7fe0bac2bca0>"
            ]
          },
          "metadata": {},
          "execution_count": 1
        },
        {
          "output_type": "display_data",
          "data": {
            "text/plain": [
              "<Figure size 640x480 with 1 Axes>"
            ],
            "image/png": "[encoded data removed]"
          },
          "metadata": {}
        }
      ]
    }
  ],
  "metadata": {
    "kernelspec": {
      "display_name": "Python 3 (ipykernel)",
      "language": "python",
      "name": "python3"
    },
    "language_info": {
      "codemirror_mode": {
        "name": "ipython",
        "version": 3
      },
      "file_extension": ".py",
      "mimetype": "text/x-python",
      "name": "python",
      "nbconvert_exporter": "python",
      "pygments_lexer": "ipython3",
      "version": "3.10.9"
    },
    "colab": {
      "provenance": []
    }
  },
  "nbformat": 4,
  "nbformat_minor": 5
}