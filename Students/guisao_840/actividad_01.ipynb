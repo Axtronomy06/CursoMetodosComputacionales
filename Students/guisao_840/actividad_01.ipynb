{
  "nbformat": 4,
  "nbformat_minor": 0,
  "metadata": {
    "colab": {
      "provenance": []
    },
    "kernelspec": {
      "name": "python3",
      "display_name": "Python 3"
    },
    "language_info": {
      "name": "python"
    }
  },
  "cells": [
    {
      "cell_type": "code",
      "execution_count": null,
      "metadata": {
        "colab": {
          "base_uri": "https://localhost:8080/"
        },
        "id": "_tlgvR06v6yy",
        "outputId": "545ace5d-91c0-4c3f-d8e6-4516b0b92ae4"
      },
      "outputs": [
        {
          "output_type": "execute_result",
          "data": {
            "text/plain": [
              "3.0"
            ]
          },
          "metadata": {},
          "execution_count": 111
        }
      ],
      "source": [
        "#Dados dos numeros, se da le cociente y el residuo\n",
        "def div(a,b):\n",
        "  c=a/b\n",
        "  d=a%b\n",
        "  return(c)\n",
        "  return(d)\n",
        "div(6,2)"
      ]
    },
    {
      "cell_type": "code",
      "source": [
        "#Doble Factorial\n",
        "def doble_factorial(n):\n",
        "  if n%2==0:\n",
        "    for i in range(2,n,2): #doble factorial cuando el numero es par\n",
        "      n=n*i\n",
        "    return(n)\n",
        "  if n<1:  #el numero debe ser positivo\n",
        "    return('el numero no puede ser negativo')\n",
        "\n",
        "  if n>1:\n",
        "    for i in range(1,n,2): #doble factorial cuando el numero es impar\n",
        "       n=n*i\n",
        "    return(n)\n",
        "\n",
        "\n",
        "doble_factorial(10)"
      ],
      "metadata": {
        "colab": {
          "base_uri": "https://localhost:8080/"
        },
        "id": "SooMZVCyxDkT",
        "outputId": "45b7c13d-0373-4fb4-f685-10d0ecfb928f"
      },
      "execution_count": null,
      "outputs": [
        {
          "output_type": "execute_result",
          "data": {
            "text/plain": [
              "3840"
            ]
          },
          "metadata": {},
          "execution_count": 110
        }
      ]
    },
    {
      "cell_type": "code",
      "source": [
        "#Sucesion de Lucas\n",
        "def lucas(n):\n",
        "  l1=2 #primer termino de la sucesion\n",
        "  l2=1 #segundo termino del a sucesion\n",
        "  for i in range(0,n-1):\n",
        "    sum=l1+l2\n",
        "    l1=l2\n",
        "    l2=sum\n",
        "  return(sum)\n",
        "\n",
        "lucas(5)"
      ],
      "metadata": {
        "colab": {
          "base_uri": "https://localhost:8080/"
        },
        "id": "FU_RS8ZGDnQ6",
        "outputId": "abc59559-b49b-424e-c9fd-cbea67d1f2ed"
      },
      "execution_count": 35,
      "outputs": [
        {
          "output_type": "execute_result",
          "data": {
            "text/plain": [
              "11"
            ]
          },
          "metadata": {},
          "execution_count": 35
        }
      ]
    },
    {
      "cell_type": "code",
      "source": [
        "#funcion binomial\n",
        "#!/usr/bin/python\n",
        "def factorial(n):\n",
        "  if n>0:\n",
        "    for i in range(1,n):\n",
        "      n=n*i\n",
        "    return(n)\n",
        "\n",
        "def binomial(n,k):\n",
        "  rest=n-k\n",
        "  bn= (factorial(n))/((factorial(k))*(factorial(rest)))\n",
        "  return bn\n",
        "\n",
        "binomial(7,2)\n"
      ],
      "metadata": {
        "id": "Am8Fm6qWE2os",
        "colab": {
          "base_uri": "https://localhost:8080/"
        },
        "outputId": "d6ee9129-d014-47e9-a5db-5f68c4c0ee79"
      },
      "execution_count": 47,
      "outputs": [
        {
          "output_type": "execute_result",
          "data": {
            "text/plain": [
              "21.0"
            ]
          },
          "metadata": {},
          "execution_count": 47
        }
      ]
    }
  ]
}