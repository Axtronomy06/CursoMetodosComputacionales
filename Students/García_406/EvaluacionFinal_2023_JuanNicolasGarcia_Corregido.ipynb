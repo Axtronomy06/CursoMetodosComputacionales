{
  "cells": [
    {
      "cell_type": "markdown",
      "metadata": {
        "id": "V1oeGjHYEm2K"
      },
      "source": [
        "<a href=\"https://colab.research.google.com/github/hernansalinas/autogrades/blob/main/Evaluaciones/EvaluacionFinal_2023_I.ipynb\" target=\"_parent\"><img src=\"https://colab.research.google.com/assets/colab-badge.svg\" alt=\"Open In Colab\"/></a>"
      ]
    },
    {
      "cell_type": "markdown",
      "metadata": {
        "id": "ZJKDD4sdpzP7"
      },
      "source": [
        "Examen Final:\n",
        "\n",
        "Métodos Computacionales para físicos\n",
        "\n",
        "\n",
        "\n",
        "Nota: La entrega del examen es a través del github en la página del curso, en el directorio asociado a cada uno.\n",
        "\n",
        "\n",
        "\n",
        "\n",
        "Las aletas son sólidos que transfieren calor por conducción a lo largo de su geometría y por convección a través de su entorno. La ecuación diferencial que describe la temperatura como función de  la longitud de una  aleta viene dada por :\n",
        "\n",
        "\n",
        "\\begin{equation}\n",
        "\\frac{d^2(T-T_{\\infty})}{dx^2} - \\left( \\frac{hp}{kAc} \\right ) ^2 (T-T_{\\infty})=0\n",
        "\\end{equation}\n",
        "\n",
        "donde Ac es el  área de la sección transversal Ac, p es perímetro,\n",
        "k es el coficiente de conducción que depende de cada material y h el coficiente de convección. La temperatura  $T_{\\infty}$ es la temperatura ambiente.\n",
        "\n",
        "\n",
        "![aleta](https://github.com/hernansalinas/autogradesMetodosComputacionales/blob/main/Evaluaciones/img/aleta.png?raw=true)\n",
        "\n",
        "\n",
        "\n",
        "En general, el área de la sección transversal A y el perímetro p de una aleta\n",
        "varían con x, lo cual hace que esta ecuación diferencial sea difícil de resolver. En el caso especial de una sección transversal constante y conductividad térmica constante, la ecuación diferencial se reduce a\n",
        "\n",
        "\\begin{equation}\n",
        "\\frac{d^2 \\theta}{dx^2} - a ^2 \\theta=0\n",
        "\\end{equation}\n",
        "\n",
        "\n",
        "donde  $\\theta=T-T_{\\infty}$ y $a=\\frac{hp}{kAc}$\n",
        "\n",
        "\n",
        "Para una aleta suficientemente larga de sección transversal uniforme (Ac =\n",
        "constante), la temperatura en la base de la aleta viene dada por:\n",
        "\n",
        "\n",
        "\\begin{equation}\n",
        "\\theta(0)=\\theta_b=T_b-T_{\\infty}\n",
        "\\end{equation}\n",
        "\n",
        "\n",
        " y en la punta de la aleta, tenderá a la del medio, por consiguiente $\\theta$ tenderá a cero.\n",
        "\n",
        "\\begin{equation}\n",
        "\\theta(L)=T(L)-T_{\\infty}=0\n",
        "\\end{equation}\n",
        "\n",
        "La solucion  exacta viene dada por :\n",
        "\n",
        "\\begin{equation}\n",
        "T(x)=T_{\\infty}+(T_b-T_{\\infty})e^{-x\\sqrt{hp/kAc}}\n",
        "\\end{equation}\n",
        "\n",
        "\n",
        "\n",
        "Considerando  una aleta rectangular muy larga, fijada a una\n",
        "superficie plana de tal forma que la temperatura en el extremo\n",
        "de la aleta es prácticamente la del aire circundante, es decir,\n",
        "$T_{\\infty}=300K$. Asuma que el ancho es de 5.0 cm, el espesor de 1 mm, es decir, su area $A=5\\times 10^{-5}m^2$ y su perimetro de $p=0.102m$. La  conductividad térmica es $k=200 W/m K$, la temperatura en la base de $T_b=313K$ y el coeficiente de transferencia de calor es de $h=20 W/m^2K$. Calcule:\n",
        "\n",
        "\n",
        "\n",
        "1 (30%) La solución numérica de la ecuación diferencial.\n",
        "\n",
        "2 (20%) Construya un gráfico de  la temperatura de la aleta como función de la longitud de la aleta\n",
        "\n",
        "3 (25%) Compare la solución numérica con la analítica\n",
        "\n",
        "4 (25%) Empleando el método de newton detetermine el punto de la aleta para la cual la temperatura es de 305K\n",
        "\n",
        "\n",
        "\n",
        "\n",
        "\n",
        "Referencias: Ejercicio e imagenes tomado y adaptado de:\n",
        "\n",
        "Cengel, Y. A. (2016). “Transferencia de calor y masa” McGRAW-HILL/INTERAMERICANA EDITORES, S.A. DE C.V. 3ra. Edición\n",
        "\n"
      ]
    },
    {
      "cell_type": "markdown",
      "source": [
        "##1)"
      ],
      "metadata": {
        "id": "1WEpfjqPbJEG"
      }
    },
    {
      "cell_type": "code",
      "execution_count": 237,
      "metadata": {
        "id": "AkOvTEXo1X8i"
      },
      "outputs": [],
      "source": [
        "import numpy as np\n",
        "from scipy.integrate import odeint\n",
        "import matplotlib.pyplot as plt\n",
        "import scipy as sc"
      ]
    },
    {
      "cell_type": "code",
      "source": [
        "Tinf=300 #K\n",
        "A = 5*1E-5 #m**2\n",
        "p = 0.102 #m\n",
        "k = 200 #W/(m*k)\n",
        "Tb = 313 #K\n",
        "h = 20 #(W/(m**2)*(k))"
      ],
      "metadata": {
        "id": "5Xgjv0SyFcZL"
      },
      "execution_count": 235,
      "outputs": []
    },
    {
      "cell_type": "code",
      "source": [
        "a=(h*p)/(k*A)\n",
        "y=[13,-13*(a**(1/2))]"
      ],
      "metadata": {
        "id": "fdalz7rkTVcK"
      },
      "execution_count": 234,
      "outputs": []
    },
    {
      "cell_type": "code",
      "source": [
        "def temp(y, t,a):\n",
        "    theta, omega = y\n",
        "    dydt = [omega,a**2*theta]\n",
        "    return dydt"
      ],
      "metadata": {
        "id": "K30FxHSfSQgY"
      },
      "execution_count": 238,
      "outputs": []
    },
    {
      "cell_type": "code",
      "source": [
        "x=np.linspace(0,0.5,1000)"
      ],
      "metadata": {
        "id": "6r2KTn12HIOP"
      },
      "execution_count": 227,
      "outputs": []
    },
    {
      "cell_type": "code",
      "source": [
        "sol = odeint(temp, y, x, args=(a,))"
      ],
      "metadata": {
        "id": "qHYoW4reTy2T"
      },
      "execution_count": 228,
      "outputs": []
    },
    {
      "cell_type": "markdown",
      "source": [
        "##2)"
      ],
      "metadata": {
        "id": "gmhymmbBXvr9"
      }
    },
    {
      "cell_type": "code",
      "source": [
        "@np.vectorize\n",
        "def Temperatura(x):\n",
        "  a=-x*((h*p)/(k*A))**(1/2)\n",
        "  b=Tb-Tinf\n",
        "  return Tinf+b*np.exp(a)"
      ],
      "metadata": {
        "id": "TSQv36ZAFRT8"
      },
      "execution_count": 229,
      "outputs": []
    },
    {
      "cell_type": "code",
      "source": [
        "plt.plot(x,Temperatura(x),color=\"red\")\n",
        "plt.title(\"Temperatura (Analitica)\")\n",
        "plt.grid()"
      ],
      "metadata": {
        "id": "akMKYIwaHGo5"
      },
      "execution_count": null,
      "outputs": []
    },
    {
      "cell_type": "markdown",
      "source": [
        "##3)"
      ],
      "metadata": {
        "id": "wavhlHSObVce"
      }
    },
    {
      "cell_type": "code",
      "source": [
        "plt.plot(x,sol[::,0],color=\"green\",label=\"solución númerica\")\n",
        "plt.plot(x,Temperatura(x),color=\"red\",label=\"solución analitica\")\n",
        "plt.title(\"Comparacion\")\n",
        "plt.grid()\n",
        "plt.legend()"
      ],
      "metadata": {
        "colab": {
          "base_uri": "https://localhost:8080/",
          "height": 469
        },
        "id": "trbrPiqrbdCs",
        "outputId": "5bc8a8ca-e9fe-42c5-c0b9-b57d425916af"
      },
      "execution_count": 232,
      "outputs": [
        {
          "output_type": "execute_result",
          "data": {
            "text/plain": [
              "<matplotlib.legend.Legend at 0x78431f29ffa0>"
            ]
          },
          "metadata": {},
          "execution_count": 232
        },
        {
          "output_type": "display_data",
          "data": {
            "text/plain": [
              "<Figure size 640x480 with 1 Axes>"
            ],
            "image/png": "[encoded data removed]"
          },
          "metadata": {}
        }
      ]
    },
    {
      "cell_type": "markdown",
      "source": [
        "##4)"
      ],
      "metadata": {
        "id": "951vk1Q_YFQg"
      }
    },
    {
      "cell_type": "code",
      "source": [
        "def ceros(x):\n",
        "  return Temperatura(x)-305"
      ],
      "metadata": {
        "id": "udwkgOVtIOBH"
      },
      "execution_count": null,
      "outputs": []
    },
    {
      "cell_type": "code",
      "source": [
        "cero=sc.optimize.newton(ceros,0)"
      ],
      "metadata": {
        "id": "xuU-Mn3SYVSS"
      },
      "execution_count": null,
      "outputs": []
    },
    {
      "cell_type": "code",
      "source": [
        "cero #en este punto la temperatura es igual a 305"
      ],
      "metadata": {
        "colab": {
          "base_uri": "https://localhost:8080/"
        },
        "id": "2_XDpHq3Y4j8",
        "outputId": "234f8816-bd0b-4c00-fc8e-1ac81a160cdb"
      },
      "execution_count": null,
      "outputs": [
        {
          "output_type": "execute_result",
          "data": {
            "text/plain": [
              "0.0668991823266331"
            ]
          },
          "metadata": {},
          "execution_count": 184
        }
      ]
    },
    {
      "cell_type": "code",
      "source": [
        "plt.plot(x,ceros(x))\n",
        "plt.title(\"Funcion ceros\")\n",
        "plt.axhline(y=0,color=\"black\")\n",
        "plt.axvline(x=cero,color=\"red\")\n",
        "plt.grid()"
      ],
      "metadata": {
        "colab": {
          "base_uri": "https://localhost:8080/",
          "height": 452
        },
        "id": "TnoDFZj3ZJD3",
        "outputId": "92151876-8880-499d-c4ef-7b8b9386664b"
      },
      "execution_count": null,
      "outputs": [
        {
          "output_type": "display_data",
          "data": {
            "text/plain": [
              "<Figure size 640x480 with 1 Axes>"
            ],
            "image/png": "[encoded data removed]"
          },
          "metadata": {}
        }
      ]
    }
  ],
  "metadata": {
    "colab": {
      "provenance": []
    },
    "kernelspec": {
      "display_name": "Python 3 (ipykernel)",
      "language": "python",
      "name": "python3"
    },
    "language_info": {
      "codemirror_mode": {
        "name": "ipython",
        "version": 3
      },
      "file_extension": ".py",
      "mimetype": "text/x-python",
      "name": "python",
      "nbconvert_exporter": "python",
      "pygments_lexer": "ipython3",
      "version": "3.10.9"
    }
  },
  "nbformat": 4,
  "nbformat_minor": 0
}