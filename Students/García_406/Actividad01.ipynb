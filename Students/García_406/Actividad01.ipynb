{
  "nbformat": 4,
  "nbformat_minor": 0,
  "metadata": {
    "colab": {
      "provenance": []
    },
    "kernelspec": {
      "name": "python3",
      "display_name": "Python 3"
    },
    "language_info": {
      "name": "python"
    }
  },
  "cells": [
    {
      "cell_type": "markdown",
      "source": [
        "Factorial(Función)"
      ],
      "metadata": {
        "id": "p7-QRL14obrR"
      }
    },
    {
      "cell_type": "code",
      "source": [
        "def Factorial(n):\n",
        "  var1=n\n",
        "  if n==0:\n",
        "    return 1\n",
        "  elif n>0:\n",
        "    for i in range (n-1):\n",
        "      var2=n\n",
        "      n=var2*(var1-(i+1))\n",
        "  return n\n",
        "var3=int(input())\n",
        "x=Factorial(var3)\n",
        "print(x)"
      ],
      "metadata": {
        "colab": {
          "base_uri": "https://localhost:8080/"
        },
        "id": "_1SIUbV_nLQz",
        "outputId": "c0ad8390-a538-405b-e0f9-490fd8de2e39"
      },
      "execution_count": 2,
      "outputs": [
        {
          "output_type": "stream",
          "name": "stdout",
          "text": [
            "1\n",
            "1\n"
          ]
        }
      ]
    },
    {
      "cell_type": "markdown",
      "source": [
        "Doble factorial función"
      ],
      "metadata": {
        "id": "3ISedmkMoimB"
      }
    },
    {
      "cell_type": "code",
      "source": [
        "def doble_factorial(x):\n",
        "  var1=x\n",
        "  i=0\n",
        "  if x%2==0:\n",
        "    while (i+2)!=var1:\n",
        "      var2=x\n",
        "      x=var2*(var1-(i+2))\n",
        "      i=i+2\n",
        "    return x\n",
        "  else:\n",
        "    while (var1-(i+2))!=1:\n",
        "      var2=x\n",
        "      x=var2*(var1-(i+2))\n",
        "      i=i+2\n",
        "    return x\n",
        "y=doble_factorial(7)\n",
        "print(y)"
      ],
      "metadata": {
        "colab": {
          "base_uri": "https://localhost:8080/"
        },
        "id": "rNohv_kvohHQ",
        "outputId": "e88e3dfe-a9b9-42b9-d0c3-41d34f33faab"
      },
      "execution_count": null,
      "outputs": [
        {
          "output_type": "stream",
          "name": "stdout",
          "text": [
            "35\n",
            "105\n",
            "105\n"
          ]
        }
      ]
    },
    {
      "cell_type": "markdown",
      "source": [
        "Sucesión de Lucas(función)"
      ],
      "metadata": {
        "id": "Q_cH6KyNtLbN"
      }
    },
    {
      "cell_type": "code",
      "source": [
        "def lucas(x):\n",
        "  if x==1:\n",
        "    return 2\n",
        "  elif x==2:\n",
        "    var4=2\n",
        "    var5=1\n",
        "    print(var4)\n",
        "    print(var5)\n",
        "  elif x>2:\n",
        "    var4=2\n",
        "    var5=1\n",
        "    print(var4)\n",
        "    print(var5)\n",
        "    var1=2\n",
        "    var2=1\n",
        "    i=3\n",
        "    while i<=x:\n",
        "      var3=var1+var2\n",
        "      var1=var2\n",
        "      var2=var3\n",
        "      i+=1\n",
        "      print(var3)\n",
        "    return True\n",
        "y=lucas(int(input()))\n",
        "\n"
      ],
      "metadata": {
        "colab": {
          "base_uri": "https://localhost:8080/"
        },
        "id": "1xScBK_ctPVg",
        "outputId": "9a2e6786-5f38-4682-a816-bdde8835e985"
      },
      "execution_count": null,
      "outputs": [
        {
          "output_type": "stream",
          "name": "stdout",
          "text": [
            "5\n",
            "2\n",
            "1\n",
            "3\n",
            "4\n",
            "7\n"
          ]
        }
      ]
    },
    {
      "cell_type": "markdown",
      "source": [
        "Binomial"
      ],
      "metadata": {
        "id": "m5108U_pwzRe"
      }
    },
    {
      "cell_type": "code",
      "source": [
        "def binomial(n,k):\n",
        "  if n<=k or n<0 or k<0:\n",
        "    return False\n",
        "  else:\n",
        "    binom=(Factorial(n))/(Factorial(k)*Factorial(n-k))\n",
        "    return binom\n",
        "x=binomial(5,3)\n",
        "y=binomial(6,4)\n",
        "z=binomial(7,2)\n",
        "print(x,\" \",y,\" \",z)\n"
      ],
      "metadata": {
        "id": "812ZRnszw29E",
        "colab": {
          "base_uri": "https://localhost:8080/"
        },
        "outputId": "d58422a6-386b-45a4-f5c9-614755285c0b"
      },
      "execution_count": 5,
      "outputs": [
        {
          "output_type": "stream",
          "name": "stdout",
          "text": [
            "10.0   15.0   21.0\n"
          ]
        }
      ]
    }
  ]
}