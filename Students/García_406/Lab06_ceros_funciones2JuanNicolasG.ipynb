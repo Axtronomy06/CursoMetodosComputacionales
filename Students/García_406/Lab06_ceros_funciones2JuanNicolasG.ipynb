{
  "nbformat": 4,
  "nbformat_minor": 0,
  "metadata": {
    "colab": {
      "provenance": []
    },
    "kernelspec": {
      "name": "python3",
      "display_name": "Python 3"
    },
    "language_info": {
      "name": "python"
    }
  },
  "cells": [
    {
      "cell_type": "code",
      "source": [
        "import numpy as np"
      ],
      "metadata": {
        "id": "3dKEgCi6HI20"
      },
      "execution_count": 4,
      "outputs": []
    },
    {
      "cell_type": "code",
      "source": [
        "def f(x):\n",
        "    return np.exp(x) - 2 - np.cos(np.exp(x) - 2)"
      ],
      "metadata": {
        "id": "wf8mv-t3HVmE"
      },
      "execution_count": 5,
      "outputs": []
    },
    {
      "cell_type": "markdown",
      "source": [
        "###1) Codigo markdown"
      ],
      "metadata": {
        "id": "Mlyt-7hAFPCi"
      }
    },
    {
      "cell_type": "markdown",
      "source": [
        "Por supuesto, aquí tienes las respuestas en formato de cuadros de código Python:\n",
        "\n",
        "**a. Pseudocódigo para el método de la bisección:**\n",
        "\n",
        "```python\n",
        "def bisection_method(f, a, b, epsilon):\n",
        "    step = 1\n",
        "    \n",
        "    while (b - a) / 2 > epsilon:\n",
        "        c = (a + b) / 2\n",
        "        if abs(f(c)) < epsilon:\n",
        "            return c  # Aproximación de la raíz\n",
        "        if f(a) * f(c) < 0:\n",
        "            b = c\n",
        "        else:\n",
        "            a = c\n",
        "        step += 1\n",
        "    \n",
        "    return c  # Aproximación de la raíz\n",
        "```\n",
        "\n",
        "**b. Deducción del método de Newton-Raphson en formato LaTeX:**\n",
        "\n",
        "El método de Newton-Raphson se basa en la siguiente fórmula de iteración:\n",
        "\n",
        "```latex\n",
        "\\[\n",
        "x_{n+1} = x_n - \\frac{f(x_n)}{f'(x_n)}\n",
        "\\]\n",
        "```\n",
        "\n",
        "donde \\(x_n\\) es una estimación inicial de la raíz de la función \\(f(x)\\), \\(f(x_n)\\) es el valor de la función en \\(x_n\\), y \\(f'(x_n)\\) es la derivada de \\(f(x)\\) en \\(x_n\\).\n",
        "\n",
        "**c. Diferencia entre el método de Newton-Raphson y el método de la secante:**\n",
        "\n",
        "La principal diferencia entre el método de Newton-Raphson y el método de la secante radica en cómo se calcula la siguiente aproximación de la raíz. El método de Newton-Raphson utiliza la derivada de la función, mientras que el método de la secante utiliza una aproximación de la derivada mediante una secante entre dos puntos cercanos.\n",
        "\n",
        "**d. Pseudocódigo para el método Punto Fijo:**\n",
        "\n",
        "```python\n",
        "def fixed_point_iteration(g, x0, epsilon, max_iter):\n",
        "    x = x0\n",
        "    step = 1\n",
        "    \n",
        "    while step <= max_iter:\n",
        "        x_next = g(x)\n",
        "        if abs(x_next - x) < epsilon:\n",
        "            return x_next  # Aproximación de un punto fijo\n",
        "        x = x_next\n",
        "        step += 1\n",
        "    \n",
        "    return \"No se alcanzó la convergencia en max_iter iteraciones\"\n",
        "```\n",
        "\n",
        "Espero que estos códigos te sean útiles. Si tienes alguna pregunta adicional o necesitas más detalles, no dudes en preguntar."
      ],
      "metadata": {
        "id": "5QT3JEGbE7FK"
      }
    },
    {
      "cell_type": "markdown",
      "source": [
        "##2) Ceros de funciones\n",
        "###a) Bisección"
      ],
      "metadata": {
        "id": "DfwZKlxdFtJI"
      }
    },
    {
      "cell_type": "code",
      "source": [
        "def bisec(f, a, b, epsilon):\n",
        "    while (b - a) / 2 > epsilon:\n",
        "        c = (a + b) / 2\n",
        "        if f(c) == 0:\n",
        "            return c\n",
        "        elif f(a) * f(c) < 0:\n",
        "            b = c\n",
        "        else:\n",
        "            a = c\n",
        "    return (a + b) / 2\n",
        "\n",
        "a = 0\n",
        "b = 2\n",
        "epsilon = 1e-6\n",
        "resultado = bisec(f, a, b, epsilon)\n",
        "print(f\"Raíz encontrada por bisección: {resultado}\")"
      ],
      "metadata": {
        "colab": {
          "base_uri": "https://localhost:8080/"
        },
        "id": "zdXr6F-VF12U",
        "outputId": "b300ce5a-cc89-4d41-af03-6f84d9b24b48"
      },
      "execution_count": 6,
      "outputs": [
        {
          "output_type": "stream",
          "name": "stdout",
          "text": [
            "Raíz encontrada por bisección: 1.007624626159668\n"
          ]
        }
      ]
    },
    {
      "cell_type": "markdown",
      "source": [
        "###b)Método de Newton-Raphson"
      ],
      "metadata": {
        "id": "ATHbSzIYGN3u"
      }
    },
    {
      "cell_type": "code",
      "source": [
        "from scipy.optimize import newton\n",
        "\n",
        "x0 = 1  # Estimación inicial\n",
        "epsilon = 1e-6\n",
        "\n",
        "result_newton_raphson = newton(f, x0, tol=epsilon)\n",
        "print(f\"Raíz encontrada por Newton-Raphson: {result_newton_raphson}\")\n"
      ],
      "metadata": {
        "colab": {
          "base_uri": "https://localhost:8080/"
        },
        "id": "XLtHgTpVHF45",
        "outputId": "6485a297-5658-4759-df2a-fb88a37c1dc3"
      },
      "execution_count": 7,
      "outputs": [
        {
          "output_type": "stream",
          "name": "stdout",
          "text": [
            "Raíz encontrada por Newton-Raphson: 1.0076239716205528\n"
          ]
        }
      ]
    },
    {
      "cell_type": "markdown",
      "source": [
        "###c) Metodo punto fijo"
      ],
      "metadata": {
        "id": "6rvV-Ol2Hd97"
      }
    },
    {
      "cell_type": "code",
      "source": [
        "def g(x):\n",
        "    return np.log(2 + np.cos(x))\n",
        "\n",
        "x0 = 1  # Estimación inicial\n",
        "epsilon = 1e-6\n",
        "max_iter = 100\n",
        "\n",
        "def fixed_point_iteration(g, x0, epsilon, max_iter):\n",
        "    x = x0\n",
        "    for i in range(max_iter):\n",
        "        x = g(x)\n",
        "        if np.abs(x - g(x)) < epsilon:\n",
        "            return x\n",
        "    return None\n",
        "\n",
        "result_fixed_point = fixed_point_iteration(g, x0, epsilon, max_iter)\n",
        "print(f\"Raíz encontrada por método de punto fijo: {result_fixed_point}\")\n"
      ],
      "metadata": {
        "colab": {
          "base_uri": "https://localhost:8080/"
        },
        "id": "W3r1AVZmHhaK",
        "outputId": "32648dc4-9fbc-40f7-8de5-5b24573d3870"
      },
      "execution_count": 8,
      "outputs": [
        {
          "output_type": "stream",
          "name": "stdout",
          "text": [
            "Raíz encontrada por método de punto fijo: 0.9488152526049651\n"
          ]
        }
      ]
    },
    {
      "cell_type": "markdown",
      "source": [
        "##3) Moviemiento de proyectiles en presencia del viento\n",
        "###a) Definir funciones para x y y"
      ],
      "metadata": {
        "id": "fBu3INjJIpJp"
      }
    },
    {
      "cell_type": "code",
      "source": [
        "# Función para calcular la posición en x\n",
        "def pos_x(t, theta, alpha, v0, b, u, g):\n",
        "    x = (u * np.cos(alpha) * t +\n",
        "         (1 / b) * (v0 * np.cos(theta) - u * np.cos(alpha)) * (1 - np.exp(-b * t)))\n",
        "    return x\n",
        "\n",
        "# Función para calcular la posición en y\n",
        "def pos_y(t, theta, alpha, v0, b, u, g):\n",
        "    y = (1 / b) * ((g / b) + v0 * np.sin(theta) - u * np.sin(alpha)) * (1 - np.exp(-b * t)) - ((g / b) - u * np.sin(alpha)) * t\n",
        "    return y\n"
      ],
      "metadata": {
        "id": "FIOdukTXI7F9"
      },
      "execution_count": 9,
      "outputs": []
    },
    {
      "cell_type": "markdown",
      "source": [
        "###b) Construir un DataFrame de pandas con los nombres de columnas \"X\", \"Y\", \"Tiempo\""
      ],
      "metadata": {
        "id": "InQLYrTAI-e_"
      }
    },
    {
      "cell_type": "code",
      "source": [
        "import pandas as pd\n",
        "data = {\n",
        "    \"Tiempo\": [],\n",
        "    \"X\": [],\n",
        "    \"Y\": []\n",
        "}\n",
        "\n",
        "df = pd.DataFrame(data)"
      ],
      "metadata": {
        "id": "4M3v0PlMJLx1"
      },
      "execution_count": 10,
      "outputs": []
    },
    {
      "cell_type": "markdown",
      "source": [
        "###c)  Realizar un gráfico de x como función del tiempo, y como función del tiempo y la trayectoria de la partícula"
      ],
      "metadata": {
        "id": "m5cJ6z0IJTR8"
      }
    },
    {
      "cell_type": "code",
      "source": [
        "import matplotlib.pyplot as plt\n",
        "\n",
        "plt.figure(figsize=(10, 6))\n",
        "\n",
        "# Rellenar el DataFrame con datos de posición y tiempo\n",
        "for t in np.linspace(0, 10, 1000):\n",
        "    x_val = pos_x(t, np.deg2rad(45), np.pi, 60, 0.05, 30, 9.8)\n",
        "    y_val = pos_y(t, np.deg2rad(45), np.pi, 60, 0.05, 30, 9.8)\n",
        "    df = df.append({\"Tiempo\": t, \"X\": x_val, \"Y\": y_val}, ignore_index=True)"
      ],
      "metadata": {
        "id": "vGUTSVFTJZCW"
      },
      "execution_count": null,
      "outputs": []
    },
    {
      "cell_type": "code",
      "source": [
        "# Graficar x como función del tiempo\n",
        "plt.subplot(2, 1, 1)\n",
        "plt.plot(df[\"Tiempo\"], df[\"X\"])\n",
        "plt.xlabel(\"Tiempo (s)\")\n",
        "plt.ylabel(\"Posición en X\")"
      ],
      "metadata": {
        "colab": {
          "base_uri": "https://localhost:8080/",
          "height": 265
        },
        "id": "I7nkhHyNJduu",
        "outputId": "b6a8b48a-94e0-423d-8296-e1716a95f75e"
      },
      "execution_count": 12,
      "outputs": [
        {
          "output_type": "execute_result",
          "data": {
            "text/plain": [
              "Text(0, 0.5, 'Posición en X')"
            ]
          },
          "metadata": {},
          "execution_count": 12
        },
        {
          "output_type": "display_data",
          "data": {
            "text/plain": [
              "<Figure size 640x480 with 1 Axes>"
            ],
            "image/png": "[encoded data removed]"
          },
          "metadata": {}
        }
      ]
    },
    {
      "cell_type": "code",
      "source": [
        "# Graficar y como función del tiempo\n",
        "plt.subplot(2, 1, 2)\n",
        "plt.plot(df[\"Tiempo\"], df[\"Y\"])\n",
        "plt.xlabel(\"Tiempo (s)\")\n",
        "plt.ylabel(\"Posición en Y\")\n",
        "\n",
        "plt.tight_layout()\n",
        "plt.show()"
      ],
      "metadata": {
        "colab": {
          "base_uri": "https://localhost:8080/",
          "height": 276
        },
        "id": "v1oDFzyBJjQ9",
        "outputId": "07273ebf-157c-48aa-92df-70fc80f46e44"
      },
      "execution_count": 13,
      "outputs": [
        {
          "output_type": "display_data",
          "data": {
            "text/plain": [
              "<Figure size 640x480 with 1 Axes>"
            ],
            "image/png": "[encoded data removed]"
          },
          "metadata": {}
        }
      ]
    },
    {
      "cell_type": "markdown",
      "source": [
        "###d) Determinar el alcance máximo de la partícula para θ = 45°:"
      ],
      "metadata": {
        "id": "hLHoGbUvJne9"
      }
    },
    {
      "cell_type": "code",
      "source": [
        "from scipy.optimize import root_scalar\n",
        "\n",
        "# Definir una función para encontrar el alcance máximo\n",
        "def find_max_range(theta_deg):\n",
        "    theta_rad = np.deg2rad(theta_deg)\n",
        "    equation = lambda t: pos_y(t, theta_rad, np.pi, 60, 0.05, 30, 9.8)\n",
        "    root = root_scalar(equation, bracket=[0, 10])\n",
        "    return pos_x(root.root, theta_rad, np.pi, 60, 0.05, 30, 9.8)\n",
        "\n",
        "max_range = find_max_range(45)\n",
        "print(f\"Alcance máximo para θ = 45°: {max_range:.2f} metros\")"
      ],
      "metadata": {
        "colab": {
          "base_uri": "https://localhost:8080/"
        },
        "id": "d1t-N-EzJxjd",
        "outputId": "0e5d085b-baca-44ba-8ff6-2ba204663b75"
      },
      "execution_count": 14,
      "outputs": [
        {
          "output_type": "stream",
          "name": "stdout",
          "text": [
            "Alcance máximo para θ = 45°: 0.00 metros\n"
          ]
        }
      ]
    },
    {
      "cell_type": "markdown",
      "source": [
        "###e) Graficar el alcance máximo R como función de θ:"
      ],
      "metadata": {
        "id": "IQ5pWm8WJ7DX"
      }
    },
    {
      "cell_type": "code",
      "source": [
        "theta_values = np.arange(10, 81, 5)\n",
        "range_values = [find_max_range(theta) for theta in theta_values]\n",
        "\n",
        "plt.figure(figsize=(8, 6))\n",
        "plt.plot(theta_values, range_values, marker='o', linestyle='-')\n",
        "plt.xlabel(\"Ángulo θ (grados)\")\n",
        "plt.ylabel(\"Alcance máximo R (metros)\")\n",
        "plt.title(\"Alcance máximo en función de θ\")\n",
        "plt.grid(True)\n",
        "plt.show()"
      ],
      "metadata": {
        "id": "TRsUuoq4J-ds"
      },
      "execution_count": null,
      "outputs": []
    },
    {
      "cell_type": "markdown",
      "source": [
        "###5) Construir un fractal utilizando el metodo de newton rhapson"
      ],
      "metadata": {
        "id": "Z4kp5dBpKifj"
      }
    },
    {
      "cell_type": "code",
      "source": [
        "import numpy as np\n",
        "import matplotlib.pylab as plt\n",
        "from PIL import Image\n",
        "\n",
        "Npx_X = 80 #Numero de pixeles en x\n",
        "Npx_Y = 80 #Numero de pixeles en y\n",
        "\n",
        "image = Image.new(\"RGB\", (Npx_X, Npx_Y)) #Creacion de la imagen inicial\n",
        "\n",
        "npx = np.arange(0, Npx_X)\n",
        "npy = np.arange(0, Npx_Y)\n",
        "\n",
        "xmin = -1\n",
        "xmax = 1\n",
        "ymin = -1\n",
        "ymax = 1\n",
        "# Transformación al plano complejo en un rectangulo (xmin, xmax), (ymin, ymax)\n",
        "zx = npx * (xmax - xmin) / (Npx_X - 1)   + xmin\n",
        "zy = npy * (ymax-ymin) / (Npx_Y - 1) + ymin\n",
        "\n",
        "# Definicion  la funcion y las derivada\n",
        "def f(z):\n",
        "  return z**3 - 1\n",
        "\n",
        "def fp(z):\n",
        "  return 3*z**2\n",
        "\n",
        "h = 1E-4\n",
        "def fpn(z, h):\n",
        "  return (f(z+h)-f(z))/h\n",
        "\n",
        "\n",
        "a = 0.2\n",
        "Niteraciones = 120\n",
        "eps = 1E-8\n",
        "\n",
        "x = - 1\n",
        "for zx_ in zx:\n",
        "  x = x + 1\n",
        "  y = -1\n",
        "  for zy_ in zy:\n",
        "      y = y + 1\n",
        "      Z_0 = complex(zx_, zy_)\n",
        "\n",
        "      for i in range(0, Niteraciones):\n",
        "        Z = Z_0 - a * f(Z_0)/fp(Z_0)\n",
        "        if( abs(Z-Z_0)<= eps):\n",
        "          break\n",
        "        Z_0 = Z\n",
        "      #print(i)\n",
        "      #print(i)\n",
        "      r, g, b = i % 4 *64 , i % 8 *16, i% 16* 16\n",
        "      image.putpixel((x,y), (r,g,b) )\n",
        "\n",
        "plt.imshow(image)\n",
        "# plt.xlim(400, 600)\n",
        "# plt.ylim(400, 523)"
      ],
      "metadata": {
        "colab": {
          "base_uri": "https://localhost:8080/",
          "height": 450
        },
        "id": "VgpMH3teKo1Q",
        "outputId": "7f526f33-7e6d-4e3b-ab37-46f0fc737215"
      },
      "execution_count": 16,
      "outputs": [
        {
          "output_type": "execute_result",
          "data": {
            "text/plain": [
              "<matplotlib.image.AxesImage at 0x7be77562c9a0>"
            ]
          },
          "metadata": {},
          "execution_count": 16
        },
        {
          "output_type": "display_data",
          "data": {
            "text/plain": [
              "<Figure size 640x480 with 1 Axes>"
            ],
            "image/png": "[encoded data removed]"
          },
          "metadata": {}
        }
      ]
    }
  ]
}