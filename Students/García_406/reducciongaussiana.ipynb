{
  "nbformat": 4,
  "nbformat_minor": 0,
  "metadata": {
    "colab": {
      "provenance": []
    },
    "kernelspec": {
      "name": "python3",
      "display_name": "Python 3"
    },
    "language_info": {
      "name": "python"
    }
  },
  "cells": [
    {
      "cell_type": "code",
      "execution_count": null,
      "metadata": {
        "id": "XjnennD5l7wm"
      },
      "outputs": [],
      "source": [
        "import numpy as np\n",
        "import sympy"
      ]
    },
    {
      "cell_type": "code",
      "source": [
        "A=np.random.randint(0,10,(3,4))"
      ],
      "metadata": {
        "id": "tj7X1w3OncXK"
      },
      "execution_count": null,
      "outputs": []
    },
    {
      "cell_type": "code",
      "source": [
        "A=A.astype(float)"
      ],
      "metadata": {
        "id": "ELWs2GqWwtEg"
      },
      "execution_count": null,
      "outputs": []
    },
    {
      "cell_type": "code",
      "source": [
        "A=np.matrix(A)"
      ],
      "metadata": {
        "id": "rK_bgQOMnr_a"
      },
      "execution_count": null,
      "outputs": []
    },
    {
      "cell_type": "code",
      "source": [
        "A"
      ],
      "metadata": {
        "colab": {
          "base_uri": "https://localhost:8080/"
        },
        "id": "Fa6mQRyLoFgh",
        "outputId": "38b0aad9-1c5a-436f-cdfa-400194d05812"
      },
      "execution_count": null,
      "outputs": [
        {
          "output_type": "execute_result",
          "data": {
            "text/plain": [
              "matrix([[0., 0., 7., 5.],\n",
              "        [5., 3., 2., 6.],\n",
              "        [0., 3., 1., 3.]])"
            ]
          },
          "metadata": {},
          "execution_count": 186
        }
      ]
    },
    {
      "cell_type": "code",
      "source": [
        "B=A.copy()"
      ],
      "metadata": {
        "id": "xYiFYlE6tL8L"
      },
      "execution_count": null,
      "outputs": []
    },
    {
      "cell_type": "code",
      "source": [
        "def multiplicacion(A,F1,alpha):\n",
        "  B=A.copy()\n",
        "  x=alpha*A[F1,0:np.shape(A)[1]]\n",
        "  B[F1,0:4]=x\n",
        "  return B"
      ],
      "metadata": {
        "id": "J_4wG_8pmOOE"
      },
      "execution_count": null,
      "outputs": []
    },
    {
      "cell_type": "code",
      "source": [
        "multiplicacion(B,0,9)"
      ],
      "metadata": {
        "colab": {
          "base_uri": "https://localhost:8080/"
        },
        "id": "OKsEXi_Svz8F",
        "outputId": "4787d50f-cee6-4130-a671-ffe071174d41"
      },
      "execution_count": null,
      "outputs": [
        {
          "output_type": "execute_result",
          "data": {
            "text/plain": [
              "matrix([[ 0.,  0., 63., 45.],\n",
              "        [ 5.,  3.,  2.,  6.],\n",
              "        [ 0.,  3.,  1.,  3.]])"
            ]
          },
          "metadata": {},
          "execution_count": 189
        }
      ]
    },
    {
      "cell_type": "code",
      "source": [
        "def intercambio(A,F1,F2):\n",
        "  Z=A.copy()\n",
        "  Z[F1]=A[F2]\n",
        "  Z[F2]=A[F1]\n",
        "  return Z"
      ],
      "metadata": {
        "id": "w2cVK8comVVe"
      },
      "execution_count": null,
      "outputs": []
    },
    {
      "cell_type": "code",
      "source": [
        "intercambio(A,0,1)"
      ],
      "metadata": {
        "id": "C5oz-E57uTR_",
        "colab": {
          "base_uri": "https://localhost:8080/"
        },
        "outputId": "6ed1ec4c-8410-461b-cbb6-ed0ac4a6e8ed"
      },
      "execution_count": null,
      "outputs": [
        {
          "output_type": "execute_result",
          "data": {
            "text/plain": [
              "matrix([[5., 3., 2., 6.],\n",
              "        [0., 0., 7., 5.],\n",
              "        [0., 3., 1., 3.]])"
            ]
          },
          "metadata": {},
          "execution_count": 191
        }
      ]
    },
    {
      "cell_type": "code",
      "source": [
        "def sumamult(A,F1,F2,F3,theta):\n",
        "  C=A.copy()\n",
        "  x=theta*C[F1,0:np.shape(A)[1]]\n",
        "  y=C[F2,0:np.shape(A)[1]]\n",
        "  C[F3,0:np.shape(A)[1]]=x+y\n",
        "  return C"
      ],
      "metadata": {
        "id": "PSF1oeiGmYmC"
      },
      "execution_count": null,
      "outputs": []
    },
    {
      "cell_type": "code",
      "source": [
        "A"
      ],
      "metadata": {
        "colab": {
          "base_uri": "https://localhost:8080/"
        },
        "id": "ZIQmDvEA6UkW",
        "outputId": "71ada7b2-d79c-4a3e-8a5c-4ca8287e124b"
      },
      "execution_count": null,
      "outputs": [
        {
          "output_type": "execute_result",
          "data": {
            "text/plain": [
              "matrix([[0., 0., 7., 5.],\n",
              "        [5., 3., 2., 6.],\n",
              "        [0., 3., 1., 3.]])"
            ]
          },
          "metadata": {},
          "execution_count": 193
        }
      ]
    },
    {
      "cell_type": "code",
      "source": [
        "A"
      ],
      "metadata": {
        "id": "aDyhg1lAxO2i",
        "colab": {
          "base_uri": "https://localhost:8080/"
        },
        "outputId": "2dd2ec8e-9626-4138-d12c-41b7f68553d1"
      },
      "execution_count": null,
      "outputs": [
        {
          "output_type": "execute_result",
          "data": {
            "text/plain": [
              "matrix([[0., 0., 7., 5.],\n",
              "        [5., 3., 2., 6.],\n",
              "        [0., 3., 1., 3.]])"
            ]
          },
          "metadata": {},
          "execution_count": 194
        }
      ]
    },
    {
      "cell_type": "code",
      "source": [
        "def reduccion(A):\n",
        "  C=A.copy()\n",
        "  for i in range(0,np.shape(A)[0]):\n",
        "    if A[i,0]!=0:\n",
        "      C=intercambio(C,0,i)\n",
        "      break\n",
        "  B=C.copy()\n",
        "  for i in range(0,np.shape(A)[0]):\n",
        "    if B[i,i]!=0:\n",
        "      for j in range(0,np.shape(A)[0]):\n",
        "        if i==j:\n",
        "          x=0\n",
        "        else:\n",
        "          B=sumamult(B,i,j,j,-B[j,i]/B[i,i])\n",
        "  for i in range(0,np.shape(A)[0]):\n",
        "    B=multiplicacion(B,i,1/B[i,i])\n",
        "  return B"
      ],
      "metadata": {
        "id": "L5MhoRz00_EJ"
      },
      "execution_count": null,
      "outputs": []
    },
    {
      "cell_type": "code",
      "source": [
        "A"
      ],
      "metadata": {
        "colab": {
          "base_uri": "https://localhost:8080/"
        },
        "id": "sTpz-s1dnN-e",
        "outputId": "c5181a01-5c01-4595-c5ee-26d2dfc79f17"
      },
      "execution_count": null,
      "outputs": [
        {
          "output_type": "execute_result",
          "data": {
            "text/plain": [
              "matrix([[0., 0., 7., 5.],\n",
              "        [5., 3., 2., 6.],\n",
              "        [0., 3., 1., 3.]])"
            ]
          },
          "metadata": {},
          "execution_count": 196
        }
      ]
    },
    {
      "cell_type": "code",
      "source": [
        "reduccion(B)"
      ],
      "metadata": {
        "colab": {
          "base_uri": "https://localhost:8080/"
        },
        "id": "Whjn2trG2Srh",
        "outputId": "5615c4fd-c24f-486d-9a8a-4ef815e274d8"
      },
      "execution_count": null,
      "outputs": [
        {
          "output_type": "execute_result",
          "data": {
            "text/plain": [
              "matrix([[ 1.        , -0.6       ,  0.        ,  0.        ],\n",
              "        [-0.        ,  1.        , -0.        ,  0.76190476],\n",
              "        [ 0.        ,  3.        ,  1.        ,  3.        ]])"
            ]
          },
          "metadata": {},
          "execution_count": 197
        }
      ]
    }
  ]
}