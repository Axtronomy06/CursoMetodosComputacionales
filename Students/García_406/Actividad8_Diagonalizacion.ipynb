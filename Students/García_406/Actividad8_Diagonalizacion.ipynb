{
  "nbformat": 4,
  "nbformat_minor": 0,
  "metadata": {
    "colab": {
      "provenance": []
    },
    "kernelspec": {
      "name": "python3",
      "display_name": "Python 3"
    },
    "language_info": {
      "name": "python"
    }
  },
  "cells": [
    {
      "cell_type": "code",
      "execution_count": null,
      "metadata": {
        "id": "hZ0VPeMrsF9G"
      },
      "outputs": [],
      "source": [
        "import numpy as np"
      ]
    },
    {
      "cell_type": "code",
      "source": [
        "import scipy as sc"
      ],
      "metadata": {
        "id": "O1ZvHG1j8eJ-"
      },
      "execution_count": null,
      "outputs": []
    },
    {
      "cell_type": "markdown",
      "source": [
        "##1)"
      ],
      "metadata": {
        "id": "Hnw3Z6xT3Qv1"
      }
    },
    {
      "cell_type": "markdown",
      "source": [
        "1)"
      ],
      "metadata": {
        "id": "QSsRe9k_xkPM"
      }
    },
    {
      "cell_type": "code",
      "source": [
        "A=np.matrix([[1,-1,4],\n",
        "             [3,2,-1],\n",
        "             [2,1,-1]])"
      ],
      "metadata": {
        "id": "mMmEB2cGshS4"
      },
      "execution_count": null,
      "outputs": []
    },
    {
      "cell_type": "code",
      "source": [
        "Apolinom=np.poly(A)"
      ],
      "metadata": {
        "id": "241gt2Hksz4I"
      },
      "execution_count": null,
      "outputs": []
    },
    {
      "cell_type": "code",
      "source": [
        "Apolinom"
      ],
      "metadata": {
        "colab": {
          "base_uri": "https://localhost:8080/"
        },
        "id": "KQ7JaiPqtOVv",
        "outputId": "ecde04c0-4915-4fc3-8d84-934f38644aa1"
      },
      "execution_count": null,
      "outputs": [
        {
          "output_type": "execute_result",
          "data": {
            "text/plain": [
              "array([ 1., -2., -5.,  6.])"
            ]
          },
          "metadata": {},
          "execution_count": 48
        }
      ]
    },
    {
      "cell_type": "code",
      "source": [
        "Avalores=np.linalg.eig(A)[0]"
      ],
      "metadata": {
        "id": "jkYjnETwtQJD"
      },
      "execution_count": null,
      "outputs": []
    },
    {
      "cell_type": "code",
      "source": [
        "AP=np.linalg.eig(A)[1]"
      ],
      "metadata": {
        "id": "c7IKJqs7taX_"
      },
      "execution_count": null,
      "outputs": []
    },
    {
      "cell_type": "code",
      "source": [
        "Avalores"
      ],
      "metadata": {
        "colab": {
          "base_uri": "https://localhost:8080/"
        },
        "id": "ylfclQFxtoKz",
        "outputId": "d3cba3cb-cb7b-4264-d8d6-3045fb33530c"
      },
      "execution_count": null,
      "outputs": [
        {
          "output_type": "execute_result",
          "data": {
            "text/plain": [
              "array([ 3., -2.,  1.])"
            ]
          },
          "metadata": {},
          "execution_count": 51
        }
      ]
    },
    {
      "cell_type": "code",
      "source": [
        "AP"
      ],
      "metadata": {
        "colab": {
          "base_uri": "https://localhost:8080/"
        },
        "id": "6fw67zWFtt0t",
        "outputId": "f2160ed7-12a7-421c-a059-2e3ec1fd34ca"
      },
      "execution_count": null,
      "outputs": [
        {
          "output_type": "execute_result",
          "data": {
            "text/plain": [
              "matrix([[ 0.40824829,  0.57735027,  0.23570226],\n",
              "        [ 0.81649658, -0.57735027, -0.94280904],\n",
              "        [ 0.40824829, -0.57735027, -0.23570226]])"
            ]
          },
          "metadata": {},
          "execution_count": 52
        }
      ]
    },
    {
      "cell_type": "code",
      "source": [
        "np.linalg.inv(AP)"
      ],
      "metadata": {
        "colab": {
          "base_uri": "https://localhost:8080/"
        },
        "id": "WXqvIDTItwIy",
        "outputId": "1585afcb-445d-4c30-cb23-1ed1914852da"
      },
      "execution_count": null,
      "outputs": [
        {
          "output_type": "execute_result",
          "data": {
            "text/plain": [
              "matrix([[ 1.22474487e+00, -1.08779196e-15,  1.22474487e+00],\n",
              "        [ 5.77350269e-01,  5.77350269e-01, -1.73205081e+00],\n",
              "        [ 7.07106781e-01, -1.41421356e+00,  2.12132034e+00]])"
            ]
          },
          "metadata": {},
          "execution_count": 53
        }
      ]
    },
    {
      "cell_type": "code",
      "source": [
        "D=np.linalg.inv(AP)*A*AP"
      ],
      "metadata": {
        "id": "H8np3tePul0j"
      },
      "execution_count": null,
      "outputs": []
    },
    {
      "cell_type": "code",
      "source": [
        "def cerosmatriz(A):\n",
        "  for i in range(np.shape(A)[0]):\n",
        "    for j in range(np.shape(A)[1]):\n",
        "      if abs(A[i,j])<1E-7:\n",
        "        A[i,j]=0\n",
        "  return A"
      ],
      "metadata": {
        "id": "2G8IlKPSuqwU"
      },
      "execution_count": null,
      "outputs": []
    },
    {
      "cell_type": "code",
      "source": [
        "cerosmatriz(D)"
      ],
      "metadata": {
        "colab": {
          "base_uri": "https://localhost:8080/"
        },
        "id": "v9fEOX35wisw",
        "outputId": "56aba9fb-13cb-421f-c402-d1ac3c4f886d"
      },
      "execution_count": null,
      "outputs": [
        {
          "output_type": "execute_result",
          "data": {
            "text/plain": [
              "matrix([[ 3.,  0.,  0.],\n",
              "        [ 0., -2.,  0.],\n",
              "        [ 0.,  0.,  1.]])"
            ]
          },
          "metadata": {},
          "execution_count": 56
        }
      ]
    },
    {
      "cell_type": "markdown",
      "source": [
        "2)"
      ],
      "metadata": {
        "id": "XTZ455Tpxl82"
      }
    },
    {
      "cell_type": "code",
      "source": [
        "B=np.matrix([[3,-5],\n",
        "             [1,-1]])"
      ],
      "metadata": {
        "id": "yVmpl7gJxm22"
      },
      "execution_count": null,
      "outputs": []
    },
    {
      "cell_type": "code",
      "source": [
        "Bpolinom=np.poly(B)"
      ],
      "metadata": {
        "id": "rytug6vTx7ef"
      },
      "execution_count": null,
      "outputs": []
    },
    {
      "cell_type": "code",
      "source": [
        "Bpolinom"
      ],
      "metadata": {
        "colab": {
          "base_uri": "https://localhost:8080/"
        },
        "id": "G4lViORpyByV",
        "outputId": "659c1ca9-408c-4cd7-d33c-94e8183a7abd"
      },
      "execution_count": null,
      "outputs": [
        {
          "output_type": "execute_result",
          "data": {
            "text/plain": [
              "array([ 1., -2.,  2.])"
            ]
          },
          "metadata": {},
          "execution_count": 59
        }
      ]
    },
    {
      "cell_type": "code",
      "source": [
        "Bvalores=np.linalg.eig(B)[0]"
      ],
      "metadata": {
        "id": "rVKSlyeRyYsI"
      },
      "execution_count": null,
      "outputs": []
    },
    {
      "cell_type": "code",
      "source": [
        "Bvalores"
      ],
      "metadata": {
        "colab": {
          "base_uri": "https://localhost:8080/"
        },
        "id": "MjdJJRJAyhI8",
        "outputId": "2f0916b7-2d9d-4dd3-eb7d-2dd58f07535a"
      },
      "execution_count": null,
      "outputs": [
        {
          "output_type": "execute_result",
          "data": {
            "text/plain": [
              "array([1.+1.j, 1.-1.j])"
            ]
          },
          "metadata": {},
          "execution_count": 61
        }
      ]
    },
    {
      "cell_type": "code",
      "source": [
        "BP=np.linalg.eig(B)[1]"
      ],
      "metadata": {
        "id": "W0O1JTQZyii1"
      },
      "execution_count": null,
      "outputs": []
    },
    {
      "cell_type": "code",
      "source": [
        "D=np.linalg.inv(BP)*B*BP"
      ],
      "metadata": {
        "id": "MsJG_FOqywpF"
      },
      "execution_count": null,
      "outputs": []
    },
    {
      "cell_type": "code",
      "source": [
        "cerosmatriz(D)"
      ],
      "metadata": {
        "colab": {
          "base_uri": "https://localhost:8080/"
        },
        "id": "87bEH5RUyx4_",
        "outputId": "c5541acf-bc30-4189-e428-20b1bea3a881"
      },
      "execution_count": null,
      "outputs": [
        {
          "output_type": "execute_result",
          "data": {
            "text/plain": [
              "matrix([[1.+1.j, 0.+0.j],\n",
              "        [0.+0.j, 1.-1.j]])"
            ]
          },
          "metadata": {},
          "execution_count": 64
        }
      ]
    }
  ]
}