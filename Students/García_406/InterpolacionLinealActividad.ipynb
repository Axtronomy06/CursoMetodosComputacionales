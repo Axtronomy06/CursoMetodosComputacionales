{
  "nbformat": 4,
  "nbformat_minor": 0,
  "metadata": {
    "colab": {
      "provenance": []
    },
    "kernelspec": {
      "name": "python3",
      "display_name": "Python 3"
    },
    "language_info": {
      "name": "python"
    }
  },
  "cells": [
    {
      "cell_type": "markdown",
      "source": [
        "##1) Interpolacion lineal\n",
        "###a) Ecuación general de la recurrencia"
      ],
      "metadata": {
        "id": "h4ec9XCSA5vo"
      }
    },
    {
      "cell_type": "code",
      "execution_count": 1,
      "metadata": {
        "id": "ZQH4bTlWAtPH"
      },
      "outputs": [],
      "source": [
        "def interpolacionlineal(x1, y1, x2, y2, x):\n",
        "    return y1 + (x - x1) * (y2 - y1) / (x2 - x1)"
      ]
    },
    {
      "cell_type": "markdown",
      "source": [
        "###b) Aplicación para dos puntos (2, 4) y (5, 1)"
      ],
      "metadata": {
        "id": "A5xyy9MoBUxC"
      }
    },
    {
      "cell_type": "code",
      "source": [
        "x1, y1 = 2, 4\n",
        "x2, y2 = 5, 1\n",
        "x = 3  # Valor de x para la interpolación\n",
        "result = interpolacionlineal(x1, y1, x2, y2, x)\n",
        "print(f\"Interpolación lineal en x = {x}: y = {result}\")"
      ],
      "metadata": {
        "colab": {
          "base_uri": "https://localhost:8080/"
        },
        "id": "RqQgckHCBm58",
        "outputId": "66b93da5-57bb-4eab-80a2-949b9c45e5c6"
      },
      "execution_count": 2,
      "outputs": [
        {
          "output_type": "stream",
          "name": "stdout",
          "text": [
            "Interpolación lineal en x = 3: y = 3.0\n"
          ]
        }
      ]
    },
    {
      "cell_type": "markdown",
      "source": [
        "### c)  Generalización para N puntos"
      ],
      "metadata": {
        "id": "jDJoIycSBtbM"
      }
    },
    {
      "cell_type": "code",
      "source": [
        "def interpolacionlineln(N, x):\n",
        "    for i in range(len(N) - 1):\n",
        "        x1, y1 = N[i]\n",
        "        x2, y2 = N[i + 1]\n",
        "        if x1 <= x <= x2:\n",
        "            return interpolacionlineal(x1, y1, x2, y2, x)\n",
        "\n",
        "# Ejemplo de uso con una lista de puntos [(x1, y1), (x2, y2), ..., (xN, yN)]\n",
        "N = [(2, 4), (5, 1), (7, 3), (8, 2)]\n",
        "x = 6  # Valor de x para la interpolación\n",
        "result = interpolacionlineln(N, x)\n",
        "print(f\"Interpolación lineal en x = {x}: y = {result}\")"
      ],
      "metadata": {
        "colab": {
          "base_uri": "https://localhost:8080/"
        },
        "id": "ACJA31MvB4AZ",
        "outputId": "5eebe959-ccc7-4d55-c553-d17f292c871c"
      },
      "execution_count": 3,
      "outputs": [
        {
          "output_type": "stream",
          "name": "stdout",
          "text": [
            "Interpolación lineal en x = 6: y = 2.0\n"
          ]
        }
      ]
    },
    {
      "cell_type": "markdown",
      "source": [
        "###2) Interpolación en codigo markdown\n",
        "\n",
        "Para encontrar la interpolación lineal que pasa por los puntos (2, 4) y (5, 1), podemos usar la fórmula de interpolación lineal:\n",
        "\n",
        "\\[\n",
        "y = 4 + \\frac {(x - 2) \\cdot (1 - 4)}{(5 - 2)}\n",
        "\\]\n",
        "\n",
        "Donde (x, y) es el punto interpolado y x es el valor en el que deseamos realizar la interpolación.\n"
      ],
      "metadata": {
        "id": "pVXCOjr_CR7y"
      }
    },
    {
      "cell_type": "markdown",
      "source": [
        "###3) Interpolación de Lagrange"
      ],
      "metadata": {
        "id": "tQdLm_ryDBIP"
      }
    },
    {
      "cell_type": "code",
      "source": [
        "import sympy as sp\n",
        "\n",
        "def interpolacionlagrange(P, x):\n",
        "    n = len(P)\n",
        "    result = 0\n",
        "    for i in range(n):\n",
        "        term = P[i][1]\n",
        "        for j in range(n):\n",
        "            if i != j:\n",
        "                term *= (x - P[j][0]) / (P[i][0] - P[j][0])\n",
        "        result += term\n",
        "    return result\n",
        "\n",
        "# Ejemplo de uso con una lista de puntos [(x1, y1), (x2, y2), ..., (xN, yN)]\n",
        "P = [(2, 4), (5, 1), (7, 3), (8, 2)]\n",
        "x = sp.symbols('x')\n",
        "polynomial = interpolacionlagrange(P, x)\n",
        "print(f\"Polinomio de interpolación de Lagrange: {polynomial}\")\n"
      ],
      "metadata": {
        "colab": {
          "base_uri": "https://localhost:8080/"
        },
        "id": "omhbmc5gDH_G",
        "outputId": "88d109f2-a173-4e52-d82e-8e29ff9e8698"
      },
      "execution_count": 4,
      "outputs": [
        {
          "output_type": "stream",
          "name": "stdout",
          "text": [
            "Polinomio de interpolación de Lagrange: (4/3 - x/6)*(7/5 - x/5)*(20/3 - 4*x/3) + (8/3 - x/3)*(7/2 - x/2)*(x/3 - 2/3) + (8 - x)*(x/2 - 5/2)*(3*x/5 - 6/5) + (x/3 - 5/3)*(x/3 - 2/3)*(x - 7)\n"
          ]
        }
      ]
    }
  ]
}