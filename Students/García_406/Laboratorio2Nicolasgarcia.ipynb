{
  "cells": [
    {
      "cell_type": "markdown",
      "metadata": {
        "id": "kKNBYkSAIO_-"
      },
      "source": [
        "<a href=\"https://colab.research.google.com/github/hernansalinas/autogrades/blob/main/Laboratorios_Taller/Lab02_v2_python_basico02.ipynb\" target=\"_parent\"><img src=\"https://colab.research.google.com/assets/colab-badge.svg\" alt=\"Open In Colab\"/></a>\n",
        "\n",
        "\n",
        "# Laboratorio 02\n",
        "### Métodos computacionales para físicos  y astrónomos\n",
        "### Universidad de Antioquia\n",
        "### Prof: Hernan D. Salinas Jiménez\n",
        "\n"
      ]
    },
    {
      "cell_type": "code",
      "execution_count": 1,
      "metadata": {
        "colab": {
          "base_uri": "https://localhost:8080/"
        },
        "id": "TFmOxrpqWCiE",
        "outputId": "b36c4c2d-3057-4f2a-9540-fc48776ae724"
      },
      "outputs": [
        {
          "output_type": "stream",
          "name": "stdout",
          "text": [
            "Cloning into 'autogradesMetodosComputacionales'...\n",
            "remote: Enumerating objects: 596, done.\u001b[K\n",
            "remote: Counting objects: 100% (212/212), done.\u001b[K\n",
            "remote: Compressing objects: 100% (138/138), done.\u001b[K\n",
            "remote: Total 596 (delta 118), reused 128 (delta 73), pack-reused 384\u001b[K\n",
            "Receiving objects: 100% (596/596), 38.60 MiB | 21.31 MiB/s, done.\n",
            "Resolving deltas: 100% (312/312), done.\n"
          ]
        }
      ],
      "source": [
        "# Ejecutar esta celda antes de cada laboratorio\n",
        "!git clone https://github.com/hernansalinas/autogradesMetodosComputacionales.git"
      ]
    },
    {
      "cell_type": "code",
      "execution_count": 2,
      "metadata": {
        "id": "5tCaVJVzIRe3"
      },
      "outputs": [],
      "source": [
        "# Ejecutar esta celda antes de cada laboratorio\n",
        "path=\"autogradesMetodosComputacionales/Laboratorios_Taller/libs\"\n",
        "pathL=\"autogradesMetodosComputacionales/Laboratorios_Taller/libs/Lab_02\"\n",
        "%run -i {path}/libUnitTest.py"
      ]
    },
    {
      "cell_type": "markdown",
      "metadata": {
        "id": "Y94jQ_tzdU6l"
      },
      "source": [
        "### Teoria de números\n",
        "\n",
        "\n",
        "Diseñar un programa en el que entrado  un numero `a`  retorne una variable booleana True or false si cumple que es:\n",
        "\n",
        "2. [Números defectivo](https://es.wikipedia.org/wiki/Número_defectivo) : la suma de los divisores propios es menor que el número.\n",
        "\n",
        "  La rutina se deberá llamar números_defectivos\n",
        "\n",
        "\n",
        "\n",
        "3. [Números abundantes](https://es.wikipedia.org/wiki/Número_abundante): la suma de los divisores es mayor que el número.\n",
        "\n",
        "  La rutina se deberá llamar números_abundantes\n",
        "\n",
        "\n",
        "\n",
        "4. [Números semiperfectos](https://es.wikipedia.org/wiki/N%C3%BAmero_semiperfecto) la suma de todos o algunos de los divisores propios es igual al número.\n",
        "\n",
        "  La rutina se debera llamar numeros_semiperfectos\n",
        "\n",
        "5. [Números perfectos](https://es.wikipedia.org/wiki/N%C3%BAmero_perfecto) la suma de todos sus divisores propios, excepto el mismo numero, es igual al número.\n",
        "\n",
        "   La rutina se deberá llamar numeros_perfectos\n",
        "\n",
        "\n",
        "6. [Números primos](https://es.wikipedia.org/wiki/N%C3%BAmero_primo) el número es divisible unicamente por sí mismo y por 1.\n",
        "   La rutina se deberá llamar numeros_primos\n",
        "\n",
        "\n",
        "Problema no obligatorio:\n",
        "\n",
        "P1. Retornar los 30 primeros números de cada clase"
      ]
    },
    {
      "cell_type": "markdown",
      "source": [
        "# 2) Números Defectivos"
      ],
      "metadata": {
        "id": "8feWoPDSAell"
      }
    },
    {
      "cell_type": "code",
      "source": [
        "def numeros_defectivos(a):\n",
        "  x=0\n",
        "  if a>0:\n",
        "    for i in range(1,a-1):\n",
        "      if a%i==0:\n",
        "        x=x+i\n",
        "    if x<a:\n",
        "      return True\n",
        "    else:\n",
        "      return False\n",
        "  else:\n",
        "    return False"
      ],
      "metadata": {
        "id": "uQbn3eAn9BWz"
      },
      "execution_count": null,
      "outputs": []
    },
    {
      "cell_type": "code",
      "execution_count": null,
      "metadata": {
        "colab": {
          "base_uri": "https://localhost:8080/",
          "height": 215
        },
        "id": "XSyDVlnzi9KL",
        "outputId": "e1a2ae48-e0af-40e3-c073-4b269849923b"
      },
      "outputs": [
        {
          "output_type": "display_data",
          "data": {
            "text/plain": [
              "<IPython.core.display.HTML object>"
            ],
            "text/html": [
              "<style>\n",
              "  table { text-align: left; border-collapse: collapse; margin: 1em; caption-side: bottom; font-family: Sans-Serif; font-size: 12px}\n",
              "  caption { text-align: left; padding: 5px }\n",
              "  th, td { border: 2px solid #BFC9CA; padding: 5px }\n",
              "  th { background-color: #BFC9CA }\n",
              "  .passed { background-color: #76D7C4 }\n",
              "  .failed { background-color: #EC7063 }\n",
              "  .skipped { background-color: #EDBB99 }\n",
              "  .score { background-color: #7DCEA0 }\n",
              "  .results .points { display: none }\n",
              "  .results .message { display: block; font-size:smaller; color:#D35400 }\n",
              "  .results .note { display: block; font-size:smaller; font-decoration:italics }\n",
              "  .results .passed::before  { content: \"Passed\" } \n",
              "  .results .skipped::before  { content: \"Skipped\" } \n",
              "  .results .failed::before  { content: \"Failed\" } \n",
              "  .grade .passed  .message:empty::before { content:\"Passed\" }\n",
              "  .grade .failed  .message:empty::before { content:\"Failed\" }\n",
              "  .grade .skipped .message:empty::before { content:\"Skipped\" }   \n",
              "</style>\n",
              "<table class='results'>\n",
              "  <th class='test'>Test</th><th class='result'>Result</th></tr>\n",
              "<tr>\n",
              "  <td class='test'>\n",
              "    Números defectivos, la variable debe ser booleana  \n",
              "    <div class='message'>Done</div>\n",
              "  </td>\n",
              "  <td class='result passed'></td>\n",
              "</tr>\n",
              "<tr>\n",
              "  <td class='test'>\n",
              "    Comprobando si el número 50 es defectivo   \n",
              "    <div class='message'>Done</div>\n",
              "  </td>\n",
              "  <td class='result passed'></td>\n",
              "</tr>\n",
              "<tr>\n",
              "  <td class='test'>\n",
              "    Comprobando si el 6 es un número es defectivo   \n",
              "    <div class='message'>Done</div>\n",
              "  </td>\n",
              "  <td class='result passed'></td>\n",
              "</tr>  <tr><th class='score'>Total Points</th><th class='score'>3</th></tr></table>\n"
            ]
          },
          "metadata": {}
        }
      ],
      "source": [
        "%run -i {pathL}/test02.py"
      ]
    },
    {
      "cell_type": "markdown",
      "source": [
        "# 2) Números abundantes"
      ],
      "metadata": {
        "id": "aX4HZUhhAn4N"
      }
    },
    {
      "cell_type": "code",
      "source": [
        "def numeros_abundantes(a):\n",
        "  y=0\n",
        "  if a>0:\n",
        "    for i in range(1,a-1):\n",
        "      if a%i==0:\n",
        "        y=y+i\n",
        "    if y>a:\n",
        "      return True\n",
        "    else:\n",
        "      return False\n",
        "  else:\n",
        "    return False"
      ],
      "metadata": {
        "id": "YexZEwkk-7XQ"
      },
      "execution_count": null,
      "outputs": []
    },
    {
      "cell_type": "code",
      "execution_count": null,
      "metadata": {
        "colab": {
          "base_uri": "https://localhost:8080/",
          "height": 215
        },
        "id": "DfHfIk0DkQev",
        "outputId": "174c3c3c-5343-419f-db7c-1e7c87927a09"
      },
      "outputs": [
        {
          "output_type": "display_data",
          "data": {
            "text/plain": [
              "<IPython.core.display.HTML object>"
            ],
            "text/html": [
              "<style>\n",
              "  table { text-align: left; border-collapse: collapse; margin: 1em; caption-side: bottom; font-family: Sans-Serif; font-size: 12px}\n",
              "  caption { text-align: left; padding: 5px }\n",
              "  th, td { border: 2px solid #BFC9CA; padding: 5px }\n",
              "  th { background-color: #BFC9CA }\n",
              "  .passed { background-color: #76D7C4 }\n",
              "  .failed { background-color: #EC7063 }\n",
              "  .skipped { background-color: #EDBB99 }\n",
              "  .score { background-color: #7DCEA0 }\n",
              "  .results .points { display: none }\n",
              "  .results .message { display: block; font-size:smaller; color:#D35400 }\n",
              "  .results .note { display: block; font-size:smaller; font-decoration:italics }\n",
              "  .results .passed::before  { content: \"Passed\" } \n",
              "  .results .skipped::before  { content: \"Skipped\" } \n",
              "  .results .failed::before  { content: \"Failed\" } \n",
              "  .grade .passed  .message:empty::before { content:\"Passed\" }\n",
              "  .grade .failed  .message:empty::before { content:\"Failed\" }\n",
              "  .grade .skipped .message:empty::before { content:\"Skipped\" }   \n",
              "</style>\n",
              "<table class='results'>\n",
              "  <th class='test'>Test</th><th class='result'>Result</th></tr>\n",
              "<tr>\n",
              "  <td class='test'>\n",
              "    Números abundantes, la variable debe ser booleana  \n",
              "    <div class='message'>Done</div>\n",
              "  </td>\n",
              "  <td class='result passed'></td>\n",
              "</tr>\n",
              "<tr>\n",
              "  <td class='test'>\n",
              "    Comprobando si el número 56 es abundantes   \n",
              "    <div class='message'>Done</div>\n",
              "  </td>\n",
              "  <td class='result passed'></td>\n",
              "</tr>\n",
              "<tr>\n",
              "  <td class='test'>\n",
              "    Comprobando si el 13 es un número  abundante   \n",
              "    <div class='message'>Done</div>\n",
              "  </td>\n",
              "  <td class='result passed'></td>\n",
              "</tr>  <tr><th class='score'>Total Points</th><th class='score'>3</th></tr></table>\n"
            ]
          },
          "metadata": {}
        }
      ],
      "source": [
        "%run -i {pathL}/test03.py"
      ]
    },
    {
      "cell_type": "markdown",
      "source": [
        "# 3) Números Semiperfectos"
      ],
      "metadata": {
        "id": "yjU01tvQDTIp"
      }
    },
    {
      "cell_type": "code",
      "source": [
        "def powerset(s):\n",
        "    lista1=[]\n",
        "    x = len(s)\n",
        "    for i in range(1,1 << x):\n",
        "      a=([s[j] for j in range(x) if (i & (1 << j))])\n",
        "      lista1.append(a)\n",
        "    return lista1\n",
        "b=[1,2]\n",
        "powerset(b)"
      ],
      "metadata": {
        "id": "ZxLjhJmED-eY",
        "colab": {
          "base_uri": "https://localhost:8080/"
        },
        "outputId": "438305bf-2a42-4637-c0dc-4b990f9e3910"
      },
      "execution_count": null,
      "outputs": [
        {
          "output_type": "execute_result",
          "data": {
            "text/plain": [
              "[[1], [2], [1, 2]]"
            ]
          },
          "metadata": {},
          "execution_count": 16
        }
      ]
    },
    {
      "cell_type": "code",
      "source": [
        "def numeros_semiperfectos(a):\n",
        "  lista2=[]\n",
        "  for i in range(1,a):\n",
        "    if a%i==0:\n",
        "      lista2.append(i)\n",
        "  lista3=powerset(lista2)\n",
        "  for i in range(len(lista3)):\n",
        "    sum1=sum(lista3[i])\n",
        "    if sum1==a:\n",
        "      value=True\n",
        "      break\n",
        "    else:\n",
        "      value=False\n",
        "  return value\n",
        "numeros_semiperfectos(11)"
      ],
      "metadata": {
        "colab": {
          "base_uri": "https://localhost:8080/"
        },
        "id": "4VfsCJ15gHGg",
        "outputId": "4d0fcb2a-b6b8-48c4-bf35-0a82b60f2a9d"
      },
      "execution_count": null,
      "outputs": [
        {
          "output_type": "execute_result",
          "data": {
            "text/plain": [
              "False"
            ]
          },
          "metadata": {},
          "execution_count": 22
        }
      ]
    },
    {
      "cell_type": "code",
      "execution_count": null,
      "metadata": {
        "id": "MJzLOXxHqKrz",
        "colab": {
          "base_uri": "https://localhost:8080/",
          "height": 215
        },
        "outputId": "bd302b41-8f10-4839-b864-ac294f417643"
      },
      "outputs": [
        {
          "output_type": "display_data",
          "data": {
            "text/plain": [
              "<IPython.core.display.HTML object>"
            ],
            "text/html": [
              "<style>\n",
              "  table { text-align: left; border-collapse: collapse; margin: 1em; caption-side: bottom; font-family: Sans-Serif; font-size: 12px}\n",
              "  caption { text-align: left; padding: 5px }\n",
              "  th, td { border: 2px solid #BFC9CA; padding: 5px }\n",
              "  th { background-color: #BFC9CA }\n",
              "  .passed { background-color: #76D7C4 }\n",
              "  .failed { background-color: #EC7063 }\n",
              "  .skipped { background-color: #EDBB99 }\n",
              "  .score { background-color: #7DCEA0 }\n",
              "  .results .points { display: none }\n",
              "  .results .message { display: block; font-size:smaller; color:#D35400 }\n",
              "  .results .note { display: block; font-size:smaller; font-decoration:italics }\n",
              "  .results .passed::before  { content: \"Passed\" } \n",
              "  .results .skipped::before  { content: \"Skipped\" } \n",
              "  .results .failed::before  { content: \"Failed\" } \n",
              "  .grade .passed  .message:empty::before { content:\"Passed\" }\n",
              "  .grade .failed  .message:empty::before { content:\"Failed\" }\n",
              "  .grade .skipped .message:empty::before { content:\"Skipped\" }   \n",
              "</style>\n",
              "<table class='results'>\n",
              "  <th class='test'>Test</th><th class='result'>Result</th></tr>\n",
              "<tr>\n",
              "  <td class='test'>\n",
              "    Números semiperfectos, la variable debe ser booleana  \n",
              "    <div class='message'>Done</div>\n",
              "  </td>\n",
              "  <td class='result passed'></td>\n",
              "</tr>\n",
              "<tr>\n",
              "  <td class='test'>\n",
              "    Comprobando si el número 42 es semiperfectos   \n",
              "    <div class='message'>Done</div>\n",
              "  </td>\n",
              "  <td class='result passed'></td>\n",
              "</tr>\n",
              "<tr>\n",
              "  <td class='test'>\n",
              "    Comprobando si el 7 es un número  semiperfectos   \n",
              "    <div class='message'>Done</div>\n",
              "  </td>\n",
              "  <td class='result passed'></td>\n",
              "</tr>  <tr><th class='score'>Total Points</th><th class='score'>3</th></tr></table>\n"
            ]
          },
          "metadata": {}
        }
      ],
      "source": [
        "%run -i {pathL}/test04.py"
      ]
    },
    {
      "cell_type": "markdown",
      "source": [
        "# 5) Números perfectos"
      ],
      "metadata": {
        "id": "tkI_RhyJLTwC"
      }
    },
    {
      "cell_type": "code",
      "source": [
        "def numeros_perfectos(a):\n",
        "  z=0\n",
        "  for i in range(1,a-1):\n",
        "    if a%i==0:\n",
        "      z=z+i\n",
        "  if z==a:\n",
        "    return True\n",
        "  else:\n",
        "    return False"
      ],
      "metadata": {
        "id": "AXIVLxG7LXKp"
      },
      "execution_count": null,
      "outputs": []
    },
    {
      "cell_type": "code",
      "execution_count": null,
      "metadata": {
        "id": "m9bNF9I6qMnD",
        "colab": {
          "base_uri": "https://localhost:8080/",
          "height": 215
        },
        "outputId": "8cfd2a7d-dc4f-4337-da73-f80febef4b6f"
      },
      "outputs": [
        {
          "output_type": "display_data",
          "data": {
            "text/plain": [
              "<IPython.core.display.HTML object>"
            ],
            "text/html": [
              "<style>\n",
              "  table { text-align: left; border-collapse: collapse; margin: 1em; caption-side: bottom; font-family: Sans-Serif; font-size: 12px}\n",
              "  caption { text-align: left; padding: 5px }\n",
              "  th, td { border: 2px solid #BFC9CA; padding: 5px }\n",
              "  th { background-color: #BFC9CA }\n",
              "  .passed { background-color: #76D7C4 }\n",
              "  .failed { background-color: #EC7063 }\n",
              "  .skipped { background-color: #EDBB99 }\n",
              "  .score { background-color: #7DCEA0 }\n",
              "  .results .points { display: none }\n",
              "  .results .message { display: block; font-size:smaller; color:#D35400 }\n",
              "  .results .note { display: block; font-size:smaller; font-decoration:italics }\n",
              "  .results .passed::before  { content: \"Passed\" } \n",
              "  .results .skipped::before  { content: \"Skipped\" } \n",
              "  .results .failed::before  { content: \"Failed\" } \n",
              "  .grade .passed  .message:empty::before { content:\"Passed\" }\n",
              "  .grade .failed  .message:empty::before { content:\"Failed\" }\n",
              "  .grade .skipped .message:empty::before { content:\"Skipped\" }   \n",
              "</style>\n",
              "<table class='results'>\n",
              "  <th class='test'>Test</th><th class='result'>Result</th></tr>\n",
              "<tr>\n",
              "  <td class='test'>\n",
              "    Números perfectos, la variable debe ser booleana  \n",
              "    <div class='message'>Done</div>\n",
              "  </td>\n",
              "  <td class='result passed'></td>\n",
              "</tr>\n",
              "<tr>\n",
              "  <td class='test'>\n",
              "    Comprobando si el número 496 es perfecto   \n",
              "    <div class='message'>Done</div>\n",
              "  </td>\n",
              "  <td class='result passed'></td>\n",
              "</tr>\n",
              "<tr>\n",
              "  <td class='test'>\n",
              "    Comprobando si el 9 es un número  perfecto   \n",
              "    <div class='message'>Done</div>\n",
              "  </td>\n",
              "  <td class='result passed'></td>\n",
              "</tr>  <tr><th class='score'>Total Points</th><th class='score'>3</th></tr></table>\n"
            ]
          },
          "metadata": {}
        }
      ],
      "source": [
        "%run -i {pathL}/test05.py"
      ]
    },
    {
      "cell_type": "markdown",
      "source": [
        "# 6) Numeros primos\n"
      ],
      "metadata": {
        "id": "P_Ln24jurGV-"
      }
    },
    {
      "cell_type": "code",
      "source": [
        "def numeros_primos(a):\n",
        "  sum=0\n",
        "  for i in range(1,a+1):\n",
        "    if a%i==0:\n",
        "      sum=sum+i\n",
        "  if sum!=(a+1):\n",
        "    return False\n",
        "  else:\n",
        "    return True"
      ],
      "metadata": {
        "id": "tj-2tt78rqP8"
      },
      "execution_count": null,
      "outputs": []
    },
    {
      "cell_type": "code",
      "execution_count": null,
      "metadata": {
        "id": "4uRbgtG8qN25",
        "colab": {
          "base_uri": "https://localhost:8080/",
          "height": 215
        },
        "outputId": "639cdb54-cd13-4fe7-8d4c-4aece1e9ee9e"
      },
      "outputs": [
        {
          "output_type": "display_data",
          "data": {
            "text/plain": [
              "<IPython.core.display.HTML object>"
            ],
            "text/html": [
              "<style>\n",
              "  table { text-align: left; border-collapse: collapse; margin: 1em; caption-side: bottom; font-family: Sans-Serif; font-size: 12px}\n",
              "  caption { text-align: left; padding: 5px }\n",
              "  th, td { border: 2px solid #BFC9CA; padding: 5px }\n",
              "  th { background-color: #BFC9CA }\n",
              "  .passed { background-color: #76D7C4 }\n",
              "  .failed { background-color: #EC7063 }\n",
              "  .skipped { background-color: #EDBB99 }\n",
              "  .score { background-color: #7DCEA0 }\n",
              "  .results .points { display: none }\n",
              "  .results .message { display: block; font-size:smaller; color:#D35400 }\n",
              "  .results .note { display: block; font-size:smaller; font-decoration:italics }\n",
              "  .results .passed::before  { content: \"Passed\" } \n",
              "  .results .skipped::before  { content: \"Skipped\" } \n",
              "  .results .failed::before  { content: \"Failed\" } \n",
              "  .grade .passed  .message:empty::before { content:\"Passed\" }\n",
              "  .grade .failed  .message:empty::before { content:\"Failed\" }\n",
              "  .grade .skipped .message:empty::before { content:\"Skipped\" }   \n",
              "</style>\n",
              "<table class='results'>\n",
              "  <th class='test'>Test</th><th class='result'>Result</th></tr>\n",
              "<tr>\n",
              "  <td class='test'>\n",
              "    Números primos, la variable debe ser booleana  \n",
              "    <div class='message'>Done</div>\n",
              "  </td>\n",
              "  <td class='result passed'></td>\n",
              "</tr>\n",
              "<tr>\n",
              "  <td class='test'>\n",
              "    Comprobando si el número 59 es primos   \n",
              "    <div class='message'>Done</div>\n",
              "  </td>\n",
              "  <td class='result passed'></td>\n",
              "</tr>\n",
              "<tr>\n",
              "  <td class='test'>\n",
              "    Comprobando si el 50 es un número  primos   \n",
              "    <div class='message'>Done</div>\n",
              "  </td>\n",
              "  <td class='result passed'></td>\n",
              "</tr>  <tr><th class='score'>Total Points</th><th class='score'>3</th></tr></table>\n"
            ]
          },
          "metadata": {}
        }
      ],
      "source": [
        "%run -i {pathL}/test06.py"
      ]
    },
    {
      "cell_type": "markdown",
      "metadata": {
        "id": "WXOT_ssoJh8x"
      },
      "source": [
        "\n",
        "7. Diseñar un programa en el que entrado dos números `a`  y `b` retorne una variable booleana **True** o **false**.\n",
        "\n",
        "  [Números amigos](https://es.wikipedia.org/wiki/N%C3%BAmeros_amigos) `a` y `b` tales que a es la suma de los divisores propios de `b` y viceversa.\n",
        "    La rutina se debera llamar numeros_amigos\n",
        "\n",
        "\n",
        "\n",
        "\n",
        "P2. Retornar los 10 primeros pares de numeros perfectos, semiperfectos, amigos\n",
        "\n"
      ]
    },
    {
      "cell_type": "markdown",
      "source": [
        "# 7) Números amigos"
      ],
      "metadata": {
        "id": "spv7mC76iTdC"
      }
    },
    {
      "cell_type": "code",
      "source": [
        "def numeros_amigos(a,b):\n",
        "  sum=0\n",
        "  sum1=0\n",
        "  for i in range(1,a-1):\n",
        "    if a%i==0:\n",
        "      sum=sum+i\n",
        "  for j in range(1,b-1):\n",
        "    if b%j==0:\n",
        "      sum1=sum1+j\n",
        "  if sum==b and sum1==a:\n",
        "    return True\n",
        "  else:\n",
        "    return False"
      ],
      "metadata": {
        "id": "Ry0cehmymy5C"
      },
      "execution_count": null,
      "outputs": []
    },
    {
      "cell_type": "code",
      "execution_count": null,
      "metadata": {
        "colab": {
          "base_uri": "https://localhost:8080/",
          "height": 215
        },
        "id": "VKsxuvsll5gm",
        "outputId": "07bcff0c-bb5e-474d-e2bc-78deea836b4c"
      },
      "outputs": [
        {
          "output_type": "display_data",
          "data": {
            "text/plain": [
              "<IPython.core.display.HTML object>"
            ],
            "text/html": [
              "<style>\n",
              "  table { text-align: left; border-collapse: collapse; margin: 1em; caption-side: bottom; font-family: Sans-Serif; font-size: 12px}\n",
              "  caption { text-align: left; padding: 5px }\n",
              "  th, td { border: 2px solid #BFC9CA; padding: 5px }\n",
              "  th { background-color: #BFC9CA }\n",
              "  .passed { background-color: #76D7C4 }\n",
              "  .failed { background-color: #EC7063 }\n",
              "  .skipped { background-color: #EDBB99 }\n",
              "  .score { background-color: #7DCEA0 }\n",
              "  .results .points { display: none }\n",
              "  .results .message { display: block; font-size:smaller; color:#D35400 }\n",
              "  .results .note { display: block; font-size:smaller; font-decoration:italics }\n",
              "  .results .passed::before  { content: \"Passed\" } \n",
              "  .results .skipped::before  { content: \"Skipped\" } \n",
              "  .results .failed::before  { content: \"Failed\" } \n",
              "  .grade .passed  .message:empty::before { content:\"Passed\" }\n",
              "  .grade .failed  .message:empty::before { content:\"Failed\" }\n",
              "  .grade .skipped .message:empty::before { content:\"Skipped\" }   \n",
              "</style>\n",
              "<table class='results'>\n",
              "  <th class='test'>Test</th><th class='result'>Result</th></tr>\n",
              "<tr>\n",
              "  <td class='test'>\n",
              "    Números amigos, la variable debe ser booleana  \n",
              "    <div class='message'>Done</div>\n",
              "  </td>\n",
              "  <td class='result passed'></td>\n",
              "</tr>\n",
              "<tr>\n",
              "  <td class='test'>\n",
              "    Comprobando si los números (63020, 76084) son amigos   \n",
              "    <div class='message'>Done</div>\n",
              "  </td>\n",
              "  <td class='result passed'></td>\n",
              "</tr>\n",
              "<tr>\n",
              "  <td class='test'>\n",
              "    Comprobando si  (520, 564) no es un número amigo   \n",
              "    <div class='message'>Done</div>\n",
              "  </td>\n",
              "  <td class='result passed'></td>\n",
              "</tr>  <tr><th class='score'>Total Points</th><th class='score'>3</th></tr></table>\n"
            ]
          },
          "metadata": {}
        }
      ],
      "source": [
        "%run -i {pathL}/test07.py"
      ]
    },
    {
      "cell_type": "markdown",
      "metadata": {
        "id": "l_rEy6PP8QEQ"
      },
      "source": [
        "8 Construir un programa en el que  entrado un arreglo de números se  ordenen de forma ascendente, Ver algoritmo\n",
        "[Quicksort](https://es.wikipedia.org/wiki/Quicksort).\n",
        "\n",
        "\n",
        "```python\n",
        "\n",
        "\n",
        "<<< v = [22, 32, 42, 12, 22, 31, 41, 11, 12, 232, 24, 12, 22]\n",
        "<<< def quicksort(v):\n",
        "\n",
        "<<<     return v\n",
        "<<< w = print(quicksort(v))\n",
        "<<< [11, 12, 12, 12, 22, 22, 22, 24, 31, 32, 41, 42, 232]\n",
        "\n",
        "```\n",
        "\n",
        "Sólo para comprobar tu código,  puedes hacer uso del comando sort de python.\n",
        "```python\n",
        "<<< b = [22, 32, 42, 12, 22, 31, 41, 11, 12, 232, 24, 12, 22]\n",
        "\n",
        "<<< print(b.sort())\n",
        "\n",
        "<<< [11, 12, 12, 12, 22, 22, 22, 24, 31, 32, 41, 42, 232]\n",
        "```"
      ]
    },
    {
      "cell_type": "markdown",
      "source": [
        "## 8) Organizar una lista"
      ],
      "metadata": {
        "id": "iHrJEBn8h1gc"
      }
    },
    {
      "cell_type": "code",
      "execution_count": null,
      "metadata": {
        "id": "7-F3L0jO8QER",
        "colab": {
          "base_uri": "https://localhost:8080/"
        },
        "outputId": "1d7102fc-de54-43d3-b011-e655edb6ea5c"
      },
      "outputs": [
        {
          "output_type": "stream",
          "name": "stdout",
          "text": [
            "[11, 12, 12, 12, 22, 22, 22, 24, 31, 32, 41, 42, 232]\n"
          ]
        }
      ],
      "source": [
        "def listaord(lista1):\n",
        "  lista2=[]\n",
        "  for i in range(len(lista1)):\n",
        "    lista2.append(lista1[i])\n",
        "    j=i\n",
        "    while j!=0:\n",
        "      if lista2[j-1]>=lista2[j]:\n",
        "        x=lista2[j]\n",
        "        lista2.pop(j)\n",
        "        lista2.insert(j-1,x)\n",
        "      j=j-1\n",
        "  return lista2\n",
        "b = [22, 32, 42, 12, 22, 31, 41, 11, 12, 232, 24, 12, 22]\n",
        "y=listaord(b)\n",
        "print(y)"
      ]
    }
  ],
  "metadata": {
    "colab": {
      "provenance": []
    },
    "kernelspec": {
      "display_name": "Python 3 (ipykernel)",
      "language": "python",
      "name": "python3"
    },
    "language_info": {
      "codemirror_mode": {
        "name": "ipython",
        "version": 3
      },
      "file_extension": ".py",
      "mimetype": "text/x-python",
      "name": "python",
      "nbconvert_exporter": "python",
      "pygments_lexer": "ipython3",
      "version": "3.10.9"
    }
  },
  "nbformat": 4,
  "nbformat_minor": 0
}