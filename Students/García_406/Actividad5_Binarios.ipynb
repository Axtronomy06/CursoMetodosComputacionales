{
  "cells": [
    {
      "cell_type": "markdown",
      "id": "6d26e874",
      "metadata": {
        "id": "6d26e874"
      },
      "source": [
        "<a href=\"https://colab.research.google.com/github/hernansalinas/autogrades/blob/main/Actividades_clase/Actividad_04_Binarios_Errores.ipynb\" target=\"_parent\"><img src=\"https://colab.research.google.com/assets/colab-badge.svg\" alt=\"Open In Colab\"/></a>\n",
        "\n",
        "\n",
        "\n",
        "# Actividad 4\n",
        "### Métodos computacionales para físicos  y astrónomos\n",
        "### Universidad de Antioquia\n",
        "### Prof: Hernan D. Salinas Jiménez\n"
      ]
    },
    {
      "cell_type": "code",
      "execution_count": 2,
      "id": "eae80e3f",
      "metadata": {
        "id": "eae80e3f",
        "outputId": "70417057-7e39-472a-8282-89f077e29091",
        "colab": {
          "base_uri": "https://localhost:8080/"
        }
      },
      "outputs": [
        {
          "output_type": "stream",
          "name": "stdout",
          "text": [
            "Cloning into 'autogrades'...\n",
            "remote: Enumerating objects: 637, done.\u001b[K\n",
            "remote: Counting objects: 100% (253/253), done.\u001b[K\n",
            "remote: Compressing objects: 100% (170/170), done.\u001b[K\n",
            "remote: Total 637 (delta 141), reused 151 (delta 82), pack-reused 384\u001b[K\n",
            "Receiving objects: 100% (637/637), 38.78 MiB | 39.51 MiB/s, done.\n",
            "Resolving deltas: 100% (335/335), done.\n"
          ]
        }
      ],
      "source": [
        "!git clone https://github.com/hernansalinas/autogrades.git\n",
        "#path=\"libs\"\n",
        "path=\"autogrades/Actividades_clase/libs\"\n",
        "%run -i {path}/libUnitTest.py"
      ]
    },
    {
      "cell_type": "markdown",
      "id": "74f1131a",
      "metadata": {
        "id": "74f1131a"
      },
      "source": [
        "### Activity 1.0:\n",
        "\n",
        "Implement a function that get the binary representation of an integer with name mybin, the algorithm should return\n",
        "a string with 8 characters, the maximun number that represent the funcition is integer of 8 bit. The name of function is\n",
        "mybin\n",
        "\n",
        "Ejexample :\n",
        "\n",
        "b=mybin(x)\n",
        "\n",
        "b='00101000'"
      ]
    },
    {
      "cell_type": "code",
      "execution_count": 3,
      "id": "4c8dabcf",
      "metadata": {
        "id": "4c8dabcf",
        "outputId": "80812972-f3c1-4e0f-cf88-3feecc678a8d",
        "colab": {
          "base_uri": "https://localhost:8080/"
        }
      },
      "outputs": [
        {
          "output_type": "stream",
          "name": "stdout",
          "text": [
            "11001000\n"
          ]
        }
      ],
      "source": [
        "##!/usr/bin/env python3\n",
        "#print('__name__ = {}'.format(__name__))\n",
        "  # Write your code here and change the next line as required\n",
        "def mybin(x):\n",
        "  bin=\"\"\n",
        "  while x>=1:\n",
        "    bin=str(x%2)+bin\n",
        "    x=x//2\n",
        "  if len(bin)<8:\n",
        "    for i in range(0,8-len(bin)):\n",
        "      bin=\"0\"+bin\n",
        "  return(bin)\n",
        "print(mybin(200))"
      ]
    },
    {
      "cell_type": "code",
      "execution_count": 4,
      "id": "885be6fb",
      "metadata": {
        "id": "885be6fb",
        "outputId": "880815d1-2112-49de-8113-59a9f1bbfca1",
        "colab": {
          "base_uri": "https://localhost:8080/"
        }
      },
      "outputs": [
        {
          "output_type": "stream",
          "name": "stdout",
          "text": [
            "La función no ha sido definda o el numero de argumento no es el adecuado\n"
          ]
        }
      ],
      "source": [
        "%run -i {path}/Act_02/test01.py"
      ]
    },
    {
      "cell_type": "markdown",
      "id": "e622b7b5",
      "metadata": {
        "id": "e622b7b5"
      },
      "source": [
        "### Activity 2.0:\n",
        "\n",
        "With the binary representation please try to implement the formula to recover the number.\n",
        "\n",
        "Hint: Use as input the binary representation as a string and invert its order\n",
        "\n",
        "```\n",
        "number32(BIN):\n",
        "\n",
        "```\n",
        "\n",
        "Where BIN is a string with the binary number\n",
        "\n",
        "Example:\n",
        "\n",
        "\n",
        "Test your solution for the next number:\n",
        "\n",
        "number32(\"00111110001000000000001000010000\")"
      ]
    },
    {
      "cell_type": "code",
      "execution_count": 5,
      "id": "5f3c6506",
      "metadata": {
        "id": "5f3c6506",
        "outputId": "ec33ddd2-02fd-4c71-9781-82d3f7c6e75b",
        "colab": {
          "base_uri": "https://localhost:8080/"
        }
      },
      "outputs": [
        {
          "output_type": "stream",
          "name": "stdout",
          "text": [
            "0.15625786781311035\n"
          ]
        }
      ],
      "source": [
        "bin=\"00111110001000000000001000010000\"\n",
        "def number32(BIN):\n",
        "  BIN=BIN[::-1]\n",
        "  s=int(BIN[31])\n",
        "  d=1\n",
        "  e=0\n",
        "  for i in range(1,24):\n",
        "        d = d + int(BIN[23-i])*2**-i\n",
        "  for i in range(0,8):\n",
        "        e = e + int(BIN[23+i])*2**i\n",
        "  binario=((-1)**int(s)/2**(127-e ))*d\n",
        "  return binario\n",
        "print(number32(bin))"
      ]
    },
    {
      "cell_type": "code",
      "execution_count": null,
      "id": "155ffd7f",
      "metadata": {
        "id": "155ffd7f",
        "outputId": "6243be03-a9c4-42fe-a1b7-3831323d9c83",
        "colab": {
          "base_uri": "https://localhost:8080/"
        }
      },
      "outputs": [
        {
          "output_type": "stream",
          "name": "stdout",
          "text": [
            "La función no ha sido definda o el numero de argumento no es el adecuado\n"
          ]
        }
      ],
      "source": [
        "%run -i {path}/Act_02/test02.py"
      ]
    },
    {
      "cell_type": "markdown",
      "id": "d11e596d",
      "metadata": {
        "id": "d11e596d"
      },
      "source": [
        "### Activity 3.0:\n",
        "1. Write a python script that calculates the double precision number represented by a 64-bits binary.\n",
        "\n",
        "the name of function should be:\n",
        "```\n",
        "number64(BIN):\n",
        "\n",
        "```\n",
        "\n",
        "2. What is the number represented by:\n",
        "\n",
        "BIN=\"0 10000000011 1011100100001111111111111111111111111111111111111111\""
      ]
    },
    {
      "cell_type": "code",
      "execution_count": 6,
      "id": "b0922a1d",
      "metadata": {
        "id": "b0922a1d",
        "colab": {
          "base_uri": "https://localhost:8080/"
        },
        "outputId": "cf5baf55-db0f-47a4-d5bd-c3a58a043f02"
      },
      "outputs": [
        {
          "output_type": "stream",
          "name": "stdout",
          "text": [
            "1.5334322479966131e-307\n"
          ]
        }
      ],
      "source": [
        "bin= \"0100000000111011100100001111111111111111111111111111111111111111\"\n",
        "def number64(BIN):\n",
        "  BIN=BIN[::-1]\n",
        "  s=int(BIN[63])\n",
        "  d=1\n",
        "  e=0\n",
        "  for i in range(1,53):\n",
        "        d = d + int(BIN[52-i])*2**-i\n",
        "  for i in range(0,8):\n",
        "        e = e + int(BIN[52+i])*2**i\n",
        "  binario=((-1)**s)*d*(2**(e-1023))\n",
        "  return binario\n",
        "print(number64(bin))"
      ]
    },
    {
      "cell_type": "code",
      "execution_count": null,
      "id": "cd48a992",
      "metadata": {
        "scrolled": false,
        "id": "cd48a992"
      },
      "outputs": [],
      "source": [
        "%run -i {path}/Act_02/test03.py"
      ]
    }
  ],
  "metadata": {
    "kernelspec": {
      "display_name": "Python 3 (ipykernel)",
      "language": "python",
      "name": "python3"
    },
    "language_info": {
      "codemirror_mode": {
        "name": "ipython",
        "version": 3
      },
      "file_extension": ".py",
      "mimetype": "text/x-python",
      "name": "python",
      "nbconvert_exporter": "python",
      "pygments_lexer": "ipython3",
      "version": "3.10.9"
    },
    "colab": {
      "provenance": [],
      "toc_visible": true
    }
  },
  "nbformat": 4,
  "nbformat_minor": 5
}