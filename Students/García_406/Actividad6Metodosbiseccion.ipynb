{
  "nbformat": 4,
  "nbformat_minor": 0,
  "metadata": {
    "colab": {
      "provenance": []
    },
    "kernelspec": {
      "name": "python3",
      "display_name": "Python 3"
    },
    "language_info": {
      "name": "python"
    }
  },
  "cells": [
    {
      "cell_type": "markdown",
      "source": [
        "##Metodo de la bisección\n"
      ],
      "metadata": {
        "id": "-v3m1wGX2DOc"
      }
    },
    {
      "cell_type": "code",
      "execution_count": 4,
      "metadata": {
        "id": "Hug9_p7MSAvl"
      },
      "outputs": [],
      "source": [
        "import math as mt\n",
        "import numpy as np\n",
        "import matplotlib.pyplot as plt"
      ]
    },
    {
      "cell_type": "code",
      "source": [
        "f=lambda x:x*np.exp(x)-1"
      ],
      "metadata": {
        "id": "B7MMRdv5SLyh"
      },
      "execution_count": 2,
      "outputs": []
    },
    {
      "cell_type": "code",
      "source": [
        "def raiz(f,a,b,epsilon):\n",
        "  c=(b+a)/2\n",
        "  while abs(f(c))>epsilon:\n",
        "    if f(a)*f(b)<0:\n",
        "      c=(b+a)/2\n",
        "      f_c=f(c)\n",
        "      if f_c<0:\n",
        "        a=c\n",
        "      else:\n",
        "        b=c\n",
        "  return c\n",
        "cero=raiz(f,-1,1,1E-7)\n",
        "cero"
      ],
      "metadata": {
        "id": "VvVNE2P3Wyqr",
        "colab": {
          "base_uri": "https://localhost:8080/"
        },
        "outputId": "b6d89782-fc24-4f46-9b5e-5e8a0d2c186a"
      },
      "execution_count": 6,
      "outputs": [
        {
          "output_type": "execute_result",
          "data": {
            "text/plain": [
              "0.5671433210372925"
            ]
          },
          "metadata": {},
          "execution_count": 6
        }
      ]
    },
    {
      "cell_type": "code",
      "source": [
        "from scipy import optimize\n",
        "root = optimize.bisect(f, -1, 1)\n",
        "root"
      ],
      "metadata": {
        "colab": {
          "base_uri": "https://localhost:8080/"
        },
        "id": "z4hCxpHSaSRD",
        "outputId": "2796df9a-0902-45c7-cbd4-b8a1f54865af"
      },
      "execution_count": 7,
      "outputs": [
        {
          "output_type": "execute_result",
          "data": {
            "text/plain": [
              "0.5671432904109679"
            ]
          },
          "metadata": {},
          "execution_count": 7
        }
      ]
    },
    {
      "cell_type": "code",
      "source": [
        "x=np.linspace(0,1,100)\n",
        "plt.plot(x,f(x))\n",
        "plt.plot(cero,f(cero),\"r.\")\n",
        "plt.grid()"
      ],
      "metadata": {
        "colab": {
          "base_uri": "https://localhost:8080/",
          "height": 430
        },
        "id": "E7ndoWawZtD1",
        "outputId": "ce66af24-92e0-44b6-d78e-96500c0fa345"
      },
      "execution_count": 8,
      "outputs": [
        {
          "output_type": "display_data",
          "data": {
            "text/plain": [
              "<Figure size 640x480 with 1 Axes>"
            ],
            "image/png": "[encoded data removed]"
          },
          "metadata": {}
        }
      ]
    }
  ]
}