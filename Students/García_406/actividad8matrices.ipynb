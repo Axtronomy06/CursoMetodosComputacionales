{
  "nbformat": 4,
  "nbformat_minor": 0,
  "metadata": {
    "colab": {
      "provenance": []
    },
    "kernelspec": {
      "name": "python3",
      "display_name": "Python 3"
    },
    "language_info": {
      "name": "python"
    }
  },
  "cells": [
    {
      "cell_type": "code",
      "execution_count": null,
      "metadata": {
        "id": "e02XoCEP3LLI"
      },
      "outputs": [],
      "source": [
        "import numpy as np\n",
        "import matplotlib.pylab as plt"
      ]
    },
    {
      "cell_type": "markdown",
      "source": [
        "##Actividad 8"
      ],
      "metadata": {
        "id": "M5GgGJk_BK9V"
      }
    },
    {
      "cell_type": "markdown",
      "source": [
        "Pruebas"
      ],
      "metadata": {
        "id": "xaKJZefFBQJe"
      }
    },
    {
      "cell_type": "code",
      "source": [
        "x=np.random.randint(0,255,(8,8))\n",
        "y=x[2:7,2:7]\n"
      ],
      "metadata": {
        "id": "ualuoUuT3p49"
      },
      "execution_count": null,
      "outputs": []
    },
    {
      "cell_type": "code",
      "source": [
        "x"
      ],
      "metadata": {
        "id": "FzeSVLaBnK0S",
        "outputId": "a800447e-91b0-4ecc-ff64-47ee51ea050a",
        "colab": {
          "base_uri": "https://localhost:8080/"
        }
      },
      "execution_count": null,
      "outputs": [
        {
          "output_type": "execute_result",
          "data": {
            "text/plain": [
              "array([[ 79, 234, 171, 103, 175, 128,  93,  36],\n",
              "       [ 89, 228,  10, 189, 115,  25, 128, 151],\n",
              "       [ 76,  34, 191, 140, 205,  88,  81,  27],\n",
              "       [159,  17, 224,  32,  59, 251, 225, 253],\n",
              "       [189,  42,  49,  53, 148,  56,  93, 152],\n",
              "       [ 95, 210, 186, 171, 209, 136,   9,  51],\n",
              "       [111, 194,  39,  69,  66,  10, 230,  19],\n",
              "       [171,  90, 178, 105,  36,   6, 179,  35]])"
            ]
          },
          "metadata": {},
          "execution_count": 7
        }
      ]
    },
    {
      "cell_type": "code",
      "source": [
        "y"
      ],
      "metadata": {
        "colab": {
          "base_uri": "https://localhost:8080/"
        },
        "id": "XVTFKuWw4SLs",
        "outputId": "0f1686d8-d1d3-4719-8a04-cbd2bcc02f94"
      },
      "execution_count": null,
      "outputs": [
        {
          "output_type": "execute_result",
          "data": {
            "text/plain": [
              "array([[191, 140, 205,  88,  81],\n",
              "       [224,  32,  59, 251, 225],\n",
              "       [ 49,  53, 148,  56,  93],\n",
              "       [186, 171, 209, 136,   9],\n",
              "       [ 39,  69,  66,  10, 230]])"
            ]
          },
          "metadata": {},
          "execution_count": 8
        }
      ]
    },
    {
      "cell_type": "code",
      "source": [
        "z=y[0:4:2,0:4:2]"
      ],
      "metadata": {
        "id": "wg7YgSeh4oCt"
      },
      "execution_count": null,
      "outputs": []
    },
    {
      "cell_type": "code",
      "source": [
        "z"
      ],
      "metadata": {
        "colab": {
          "base_uri": "https://localhost:8080/"
        },
        "id": "Bxi0wTsr5LYN",
        "outputId": "a124b2de-c1df-4f6e-d26e-309b6e9bc09c"
      },
      "execution_count": null,
      "outputs": [
        {
          "output_type": "execute_result",
          "data": {
            "text/plain": [
              "array([[191, 205],\n",
              "       [ 49, 148]])"
            ]
          },
          "metadata": {},
          "execution_count": 10
        }
      ]
    },
    {
      "cell_type": "code",
      "source": [
        "x=np.array(([1,2,3,4],[2,3,4,5],[3,4,5,6],[4,5,6,7]))"
      ],
      "metadata": {
        "id": "TKSExdF03Tl7"
      },
      "execution_count": 34,
      "outputs": []
    },
    {
      "cell_type": "code",
      "source": [
        "dim=np.shape(x)"
      ],
      "metadata": {
        "id": "5Yvxovlm3f_O"
      },
      "execution_count": null,
      "outputs": []
    },
    {
      "cell_type": "code",
      "source": [
        "dim[1]"
      ],
      "metadata": {
        "colab": {
          "base_uri": "https://localhost:8080/"
        },
        "id": "6H0-UgUk5MtX",
        "outputId": "c2327a3c-b5aa-4619-8e47-591949c08b10"
      },
      "execution_count": null,
      "outputs": [
        {
          "output_type": "execute_result",
          "data": {
            "text/plain": [
              "4"
            ]
          },
          "metadata": {},
          "execution_count": 13
        }
      ]
    },
    {
      "cell_type": "code",
      "source": [
        "N=3*x"
      ],
      "metadata": {
        "id": "jyfmVsBb4hB5"
      },
      "execution_count": null,
      "outputs": []
    },
    {
      "cell_type": "code",
      "source": [
        "c=x-N"
      ],
      "metadata": {
        "id": "GJyBwRks4kNB"
      },
      "execution_count": null,
      "outputs": []
    },
    {
      "cell_type": "code",
      "source": [
        "np.transpose(x)"
      ],
      "metadata": {
        "colab": {
          "base_uri": "https://localhost:8080/"
        },
        "id": "ffvqGi4O42rn",
        "outputId": "80dc89cb-4329-48e9-e846-8eeacfc21279"
      },
      "execution_count": 30,
      "outputs": [
        {
          "output_type": "execute_result",
          "data": {
            "text/plain": [
              "array([[1, 2, 3, 4],\n",
              "       [2, 3, 4, 5],\n",
              "       [3, 4, 5, 2],\n",
              "       [4, 5, 6, 7]])"
            ]
          },
          "metadata": {},
          "execution_count": 30
        }
      ]
    },
    {
      "cell_type": "markdown",
      "source": [
        "###1) Diseñar un programa que permita sumar dos matrices"
      ],
      "metadata": {
        "id": "FBB7BSV9BSWl"
      }
    },
    {
      "cell_type": "code",
      "source": [
        "def sumasmatrices(A,B):\n",
        "  if np.shape(A)==np.shape(B):\n",
        "    C=np.zeros(np.shape(A))\n",
        "    for i in range(0,np.shape(A)[0]):\n",
        "      for j in range(0,np.shape(A)[1]):\n",
        "        C[i][j]=A[i,j]+B[i,j]\n",
        "    return C\n",
        "  else:\n",
        "    X=\"No es posible\"\n",
        "    return X\n",
        "sumasmatrices(x,x)"
      ],
      "metadata": {
        "colab": {
          "base_uri": "https://localhost:8080/"
        },
        "id": "705PpRf9CAB5",
        "outputId": "a6ca18eb-52ed-4faf-b374-2626390b42ec"
      },
      "execution_count": null,
      "outputs": [
        {
          "output_type": "execute_result",
          "data": {
            "text/plain": [
              "array([[ 2.,  4.,  6.,  8.],\n",
              "       [ 4.,  6.,  8., 10.],\n",
              "       [ 6.,  8., 10., 12.],\n",
              "       [ 8., 10., 12., 14.]])"
            ]
          },
          "metadata": {},
          "execution_count": 25
        }
      ]
    },
    {
      "cell_type": "markdown",
      "source": [
        "###2) Diseñar un programa que permita multiplicar dos matrices"
      ],
      "metadata": {
        "id": "65VNrJF8Be4M"
      }
    },
    {
      "cell_type": "code",
      "source": [
        "def multmatriz(A,B):\n",
        "  dim1=np.shape(A)\n",
        "  dim2=np.shape(B)\n",
        "  if dim1[1]!=dim2[0]:\n",
        "    return \"No es posible\"\n",
        "  else:\n",
        "    C=np.zeros((dim1[0],dim2[1]))\n",
        "    i=0\n",
        "    for i in range(0,dim1[0]):\n",
        "      for j in range(0,dim2[1]):\n",
        "        for h in range(dim1[1]):\n",
        "          C[i][j]=C[i][j]+(A[i][h]*B[h][j])\n",
        "    return C\n",
        "multmatriz(x,x)"
      ],
      "metadata": {
        "colab": {
          "base_uri": "https://localhost:8080/"
        },
        "id": "VH-eP-I05EXn",
        "outputId": "b66ca5af-fae1-4de8-f418-98de5bba46ff"
      },
      "execution_count": null,
      "outputs": [
        {
          "output_type": "execute_result",
          "data": {
            "text/plain": [
              "array([[ 30.,  40.,  50.,  60.],\n",
              "       [ 40.,  54.,  68.,  82.],\n",
              "       [ 50.,  68.,  86., 104.],\n",
              "       [ 60.,  82., 104., 126.]])"
            ]
          },
          "metadata": {},
          "execution_count": 18
        }
      ]
    },
    {
      "cell_type": "markdown",
      "source": [
        "###3) Determinar la traspuesta de una matriz"
      ],
      "metadata": {
        "id": "nUKeiRGvBnCK"
      }
    },
    {
      "cell_type": "code",
      "source": [
        "def traspuesta(A):\n",
        "  C=np.zeros((np.shape(A)[1],np.shape(A)[0]))\n",
        "  for i in range(0,np.shape(A)[1]):\n",
        "    for j in range(0,np.shape(A)[0]):\n",
        "      C[i,j]=A[j,i]\n",
        "  return C\n",
        "traspuesta(x)"
      ],
      "metadata": {
        "id": "Hu_-y8EEB5oq",
        "colab": {
          "base_uri": "https://localhost:8080/"
        },
        "outputId": "45937a5c-e3c8-4336-eeb2-1774288eb864"
      },
      "execution_count": 35,
      "outputs": [
        {
          "output_type": "execute_result",
          "data": {
            "text/plain": [
              "array([[1., 2., 3., 4.],\n",
              "       [2., 3., 4., 5.],\n",
              "       [3., 4., 5., 6.],\n",
              "       [4., 5., 6., 7.]])"
            ]
          },
          "metadata": {},
          "execution_count": 35
        }
      ]
    },
    {
      "cell_type": "markdown",
      "source": [
        "###4) Construir un programa que permita realizar la rotaciòn de un vector un àngulo theta, mostrar la representaciòn vectorial en el plan indicado la rotaciòn a realizar"
      ],
      "metadata": {
        "id": "hm2I9IAlBmE7"
      }
    },
    {
      "cell_type": "code",
      "source": [
        "a=np.array(([1,2],[2,1]))\n",
        "b=np.array(([1,3],[3,1]))\n",
        "c1=multmatriz(a,b)\n",
        "c2=multmatriz(b,a)\n"
      ],
      "metadata": {
        "id": "_ggPUQhsCf88"
      },
      "execution_count": null,
      "outputs": []
    },
    {
      "cell_type": "code",
      "source": [
        "c1"
      ],
      "metadata": {
        "colab": {
          "base_uri": "https://localhost:8080/"
        },
        "id": "AC5l7-5dFAtn",
        "outputId": "50dbf50e-3410-435a-be1b-0e7c5cc0a331"
      },
      "execution_count": null,
      "outputs": [
        {
          "output_type": "execute_result",
          "data": {
            "text/plain": [
              "array([[7., 5.],\n",
              "       [5., 7.]])"
            ]
          },
          "metadata": {},
          "execution_count": 20
        }
      ]
    },
    {
      "cell_type": "code",
      "source": [
        "c2"
      ],
      "metadata": {
        "colab": {
          "base_uri": "https://localhost:8080/"
        },
        "id": "u3xoO1IlFB_V",
        "outputId": "e66911f2-1952-4209-ed93-479c1e0d26fb"
      },
      "execution_count": null,
      "outputs": [
        {
          "output_type": "execute_result",
          "data": {
            "text/plain": [
              "array([[7., 5.],\n",
              "       [5., 7.]])"
            ]
          },
          "metadata": {},
          "execution_count": 21
        }
      ]
    },
    {
      "cell_type": "code",
      "source": [
        "def rotacion(v,theta):\n",
        "  theta=np.deg2rad(theta)\n",
        "  R=np.matrix(([np.cos(theta),-np.sin(theta)],[np.sin(theta),np.cos(theta)]))\n",
        "  u=v*R\n",
        "  return u"
      ],
      "metadata": {
        "id": "fJIzNehvGTmT"
      },
      "execution_count": null,
      "outputs": []
    },
    {
      "cell_type": "code",
      "source": [
        "v=np.matrix(([1,2]))\n",
        "print(rotacion(v,30))"
      ],
      "metadata": {
        "id": "Vv3hsnoCHMvS",
        "colab": {
          "base_uri": "https://localhost:8080/"
        },
        "outputId": "5e22f5c3-a7ef-4d8c-f9b6-7ee85aaea491"
      },
      "execution_count": null,
      "outputs": [
        {
          "output_type": "stream",
          "name": "stdout",
          "text": [
            "[[1.8660254  1.23205081]]\n"
          ]
        }
      ]
    },
    {
      "cell_type": "code",
      "source": [
        "plt.quiver(0,0,v[0,0],v[0,1],scale=15,color=\"red\")\n",
        "plt.quiver(0,0,rotacion(v,30)[0,0],rotacion(v,30)[0,1],scale=15,color=\"green\")\n",
        "plt.grid()"
      ],
      "metadata": {
        "colab": {
          "base_uri": "https://localhost:8080/",
          "height": 430
        },
        "id": "JLvE9j8_JP9P",
        "outputId": "000c27cb-66f4-4ac2-efed-ea48cd7e41d0"
      },
      "execution_count": null,
      "outputs": [
        {
          "output_type": "display_data",
          "data": {
            "text/plain": [
              "<Figure size 640x480 with 1 Axes>"
            ],
            "image/png": "[encoded data removed]"
          },
          "metadata": {}
        }
      ]
    }
  ]
}