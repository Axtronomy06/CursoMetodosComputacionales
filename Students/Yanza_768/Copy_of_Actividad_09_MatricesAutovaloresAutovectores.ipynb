{
  "cells": [
    {
      "cell_type": "markdown",
      "metadata": {
        "id": "PNwgI_VoEu_J"
      },
      "source": [
        "<a href=\"https://colab.research.google.com/github/hernansalinas/autogrades/blob/main/Actividades_clase/Actividad_09_MatricesAutovaloresAutovectores.ipynb\" target=\"_parent\"><img src=\"https://colab.research.google.com/assets/colab-badge.svg\" alt=\"Open In Colab\"/></a>"
      ]
    },
    {
      "cell_type": "code",
      "execution_count": 24,
      "metadata": {
        "id": "iJsmScMdtgYe"
      },
      "outputs": [],
      "source": [
        "import numpy as np\n",
        "import torch as pt\n",
        "import sympy as sp\n",
        "import matplotlib.pyplot as plt\n"
      ]
    },
    {
      "cell_type": "markdown",
      "metadata": {
        "id": "F2BmxAU22k-G"
      },
      "source": [
        "# Autovalores, autovectores, diagonalización\n",
        "\n",
        "Una matriz es diagonalizable cuando es semejante a una matriz diagonal. Esto significa que mediante un cambio de base, podemos reducir la matriz original a una forma diagonal. Para que una matriz sea diagonalizable, debe cumplir las siguientes condiciones:\n",
        "\n",
        "**Autovectores linealmente independientes**: Una matriz $(A \\in \\mathbb{R}^{n \\times n})$ es diagonalizable si y solo si tiene (n) autovectores linealmente independientes. Esto significa que los autovectores asociados a los autovalores deben ser linealmente independientes.\n",
        "\n",
        "**Semejanza**: Existe una matriz invertible (P) tal que ($P^{-1}AP = D$), donde (D) es una matriz diagonal formada por los autovalores de (A).\n",
        "\n",
        "La diagonalización es un proceso que transforma una matriz cuadrada ( A ) en una matriz diagonal ( D ) mediante una matriz invertible ( P ), tal que:\n",
        "\n",
        "$P^{-1}AP = D$\n",
        "\n",
        "La matriz diagonal ( D ) contiene los autovalores de ( A ) en la diagonal principal, y las columnas de ( P ) son los autovectores correspondientes a esos autovalores."
      ]
    },
    {
      "cell_type": "markdown",
      "metadata": {
        "id": "ZEt4N4lT2taJ"
      },
      "source": [
        "## Numpy"
      ]
    },
    {
      "cell_type": "code",
      "execution_count": 25,
      "metadata": {
        "colab": {
          "base_uri": "https://localhost:8080/"
        },
        "id": "hcGonjho2Xi0",
        "outputId": "393a6be8-f242-4439-8a7c-ae283636a954"
      },
      "outputs": [
        {
          "output_type": "stream",
          "name": "stdout",
          "text": [
            "Autovalores: [6.164248 1.608618 3.227134]\n",
            "Autovectores:\n",
            " [[-0.661115  0.561818 -0.497279]\n",
            " [-0.715409 -0.671761  0.192165]\n",
            " [-0.226091  0.482801  0.846041]]\n"
          ]
        }
      ],
      "source": [
        "# Definir una matriz 3x3\n",
        "A = np.array([[4, 2, 0],\n",
        "              [2, 4, 1],\n",
        "              [0, 1, 3]])\n",
        "\n",
        "# Calcular autovalores y autovectores\n",
        "autovalores, autovectores = np.linalg.eig(A)\n",
        "U = autovectores.copy()\n",
        "print(\"Autovalores:\", autovalores)\n",
        "print(\"Autovectores:\\n\", autovectores)\n"
      ]
    },
    {
      "cell_type": "markdown",
      "metadata": {
        "id": "ioIEzfR52jVo"
      },
      "source": [
        "### Matriz Diagonal"
      ]
    },
    {
      "cell_type": "code",
      "execution_count": 26,
      "metadata": {
        "colab": {
          "base_uri": "https://localhost:8080/"
        },
        "id": "qDM4idFV3R-e",
        "outputId": "5a8a3b42-0fc4-4f93-94c2-257e5e4c2d9c"
      },
      "outputs": [
        {
          "output_type": "execute_result",
          "data": {
            "text/plain": [
              "array([[ 6.164248,  0.      , -0.      ],\n",
              "       [-0.      ,  1.608618, -0.      ],\n",
              "       [ 0.      , -0.      ,  3.227134]])"
            ]
          },
          "metadata": {},
          "execution_count": 26
        }
      ],
      "source": [
        "D = np.linalg.inv(U)@A@U\n",
        "np.set_printoptions(suppress=True, precision=6)\n",
        "D"
      ]
    },
    {
      "cell_type": "markdown",
      "metadata": {
        "id": "N-oGaJUS4p10"
      },
      "source": [
        "## Actividad:\n",
        "\n",
        "Construir un programa que permita elevar una matriz a una potencia.\n",
        "\n",
        "\n",
        "La exponencial de una matriz ( $e^A$) se define como la serie de Taylor de la función exponencial evaluada en la matriz ( A ):\n",
        "\n",
        "\n",
        "\\begin{equation}\n",
        "e^A = I + A + \\frac{1}{2!}A^2 + \\frac{1}{3!}A^3 + \\cdots = \\sum_{n=0}^{\\infty} \\frac{1}{n!}A^n\n",
        "\\end{equation}\n",
        "\n",
        "\n",
        "Donde ( $e^D$ ) es simplemente la matriz exponencial de la matriz diagonal ( D ), que es fácil de calcular porque solo implica elevar los autovalores de (A) a la potencia de (e):\n",
        "\n",
        "\n",
        "\n",
        "\\begin{equation}\n",
        "e^A = Pe^DP^{-1}\n",
        "\\end{equation}\n",
        "\n",
        "\n",
        "Exponencial de una matriz diagonal\n",
        "\n",
        "\\begin{equation}\n",
        "e^D = \\begin{bmatrix}\n",
        "e^{\\lambda_1} & 0 & \\cdots & 0 \\\\\n",
        "0 & e^{\\lambda_2} & \\cdots & 0 \\\\\n",
        "\\vdots & \\vdots & \\ddots & \\vdots \\\\\n",
        "0 & 0 & \\cdots & e^{\\lambda_n}\n",
        "\\end{bmatrix}\n",
        "\\end{equation}\n",
        "\n",
        "\n"
      ]
    },
    {
      "cell_type": "markdown",
      "source": [
        "Construir un programa que permita elevar una matriz a una potencia."
      ],
      "metadata": {
        "id": "FGIpG3LCFCTm"
      }
    },
    {
      "cell_type": "markdown",
      "source": [
        "Solucion"
      ],
      "metadata": {
        "id": "p-3mFSGQIIaq"
      }
    },
    {
      "cell_type": "code",
      "source": [
        "def potencia(M,n):\n",
        "\n",
        "  \"\"\"  Este programa recibe una matriz M y su exponente entero n\"\"\"\n",
        "  if type(n) == int and n>0:\n",
        "    if M.shape[1] == M.shape[0]:\n",
        "      autovalores, autovectores = np.linalg.eig(M)\n",
        "\n",
        "      autovalores_n = autovalores**n\n",
        "\n",
        "      identidad = np.identity(M.shape[1])\n",
        "\n",
        "      D_n = identidad * (autovalores**n)\n",
        "\n",
        "      U = autovectores.copy()\n",
        "\n",
        "      U_inversa = np.linalg.inv(U)\n",
        "\n",
        "      A_elevado_n = U @ D_n @ U_inversa\n",
        "      return  A_elevado_n\n",
        "    else:\n",
        "       return \"No es una matriz cuadrada, no se puede obtener una potencia\"\n",
        "  else:\n",
        "    return \"El exponente debe ser un numero natural\""
      ],
      "metadata": {
        "id": "i7YU3Ta_G7IK"
      },
      "execution_count": 27,
      "outputs": []
    },
    {
      "cell_type": "code",
      "source": [
        "\"\"\" se hace una prueba\"\"\"\n",
        "A = np.array([[1,0,1],\n",
        "              [0,1,0],\n",
        "              [1,0,1]])\n",
        "\n",
        "\"\"\" se pone el nombre de la matriz y el exponente en el argumento\"\"\"\n",
        "potencia = potencia(A,2)\n",
        "potencia"
      ],
      "metadata": {
        "colab": {
          "base_uri": "https://localhost:8080/"
        },
        "id": "52xGlqQAGO3q",
        "outputId": "8fd7477b-c5ed-4882-dd92-b5a8e712101d"
      },
      "execution_count": 28,
      "outputs": [
        {
          "output_type": "execute_result",
          "data": {
            "text/plain": [
              "array([[2., 0., 2.],\n",
              "       [0., 1., 0.],\n",
              "       [2., 0., 2.]])"
            ]
          },
          "metadata": {},
          "execution_count": 28
        }
      ]
    },
    {
      "cell_type": "markdown",
      "metadata": {
        "id": "JmmxMqieABY-"
      },
      "source": [
        "# Autovalores y autovectores complejos"
      ]
    },
    {
      "cell_type": "code",
      "execution_count": 29,
      "metadata": {
        "colab": {
          "base_uri": "https://localhost:8080/"
        },
        "id": "3-NKfajD9kwp",
        "outputId": "575d66ed-5b9d-4ee7-e474-c765000042c4"
      },
      "outputs": [
        {
          "output_type": "stream",
          "name": "stdout",
          "text": [
            "Autovalores: [0.707107+0.707107j 0.707107-0.707107j]\n",
            "Autovectores:\n",
            " [[0.707107+0.j       0.707107-0.j      ]\n",
            " [0.      +0.707107j 0.      -0.707107j]]\n"
          ]
        },
        {
          "output_type": "execute_result",
          "data": {
            "text/plain": [
              "array([[0.707107+0.707107j, 0.      +0.j      ],\n",
              "       [0.      +0.j      , 0.707107-0.707107j]])"
            ]
          },
          "metadata": {},
          "execution_count": 29
        }
      ],
      "source": [
        "theta=-np.pi/4\n",
        "A = np.array([[np.cos(theta),-np.sin(theta)],[np.sin(theta), np.cos(theta)]])\n",
        "\n",
        "# Calcular autovalores y autovectores\n",
        "autovalores, autovectores = np.linalg.eig(A)\n",
        "U = autovectores.copy()\n",
        "print(\"Autovalores:\", autovalores)\n",
        "print(\"Autovectores:\\n\", autovectores)\n",
        "\n",
        "D = np.linalg.inv(U)@A@U\n",
        "np.set_printoptions(suppress=True, precision=6)\n",
        "D"
      ]
    },
    {
      "cell_type": "markdown",
      "metadata": {
        "id": "-Yb3ZargEvAW"
      },
      "source": [
        "Actividad 2.\n",
        "\n",
        "Considere la ecuación cuadrática $x^2-4xy+3y^2=6$, esta ecuación cuadrática se corresponde a una hiperbola, la cual puede ser escrita en forma matricial como sigue:\n",
        "\n",
        "$A\\vec{v} \\cdot \\vec{v}=6$, donde $\\vec{v}=(x, y)$ y A es una matrix simetrica,\n",
        "\n",
        "\n",
        "\n",
        "\n",
        "j\n",
        "\n",
        "\\begin{equation}\n",
        "A=\\begin{bmatrix}\n",
        "1 & -2 \\\\\n",
        "-2 & 3 \\\\\n",
        "\\end{bmatrix}\n",
        "\\end{equation}\n",
        "\n",
        "1. Realice un grafico que represente la hyperbola\n",
        "\n",
        "\n",
        "\n",
        "\n",
        "\n",
        "\n",
        "\n",
        "- Diagonalice A, para ello construya la matrix Q de autovectores ortoganales\n",
        "tal que $D=Q^{T}AQ$, en este caso se dice que A es diagonalizable ortogonalmente, donde $A=QDQ^T$.\n",
        "\n",
        "- Aplique el resultado de la siguiente demostración para encontrar una nueva hyperbola en una  nueva base\n",
        "\n",
        "\\begin{equation}\n",
        "QDQ^T \\vec{v} \\cdot \\vec{v} = d\n",
        "\\end{equation}\n",
        "\n",
        "\n",
        "\\begin{equation}\n",
        "Q(DQ^T\\vec{v}) \\cdot \\vec{v} = (DQ^T\\vec{v}) \\cdot (Q^T\\vec{v})=d\n",
        "\\end{equation}\n",
        "\n",
        "\n",
        "\\begin{equation}\n",
        "(DQ^T\\vec{v}) \\cdot (Q^T\\vec{v})=d\n",
        "\\end{equation}\n",
        "\n",
        "\n",
        "Sea $u=Q^T\\vec{v}$\n",
        "\n",
        "Luego :\n",
        "\n",
        "\n",
        "\\begin{equation}\n",
        "(D\\vec{u}) \\cdot \\vec{u}=d\n",
        "\\end{equation}\n",
        "\n",
        "donde $\\vec{u}=(x', y')$, tal que $D\\vec{u} \\cdot \\vec{u}=d$ es una nueva hyperbola\n",
        "\n",
        "\n",
        "\n",
        "\n",
        "\n",
        "\n",
        "\n"
      ]
    },
    {
      "cell_type": "markdown",
      "source": [
        "Realice un grafico que represente la hyperbola. Diagonalice A, para ello construya la matrix Q de autovectores ortoganales tal que D=QTAQ, en este caso se dice que A es diagonalizable ortogonalmente, donde  A=QDQT"
      ],
      "metadata": {
        "id": "czPF0nw1j3ou"
      }
    },
    {
      "cell_type": "markdown",
      "source": [
        "SOLUCION"
      ],
      "metadata": {
        "id": "55i6xJ4ujDGX"
      }
    },
    {
      "cell_type": "markdown",
      "source": [
        "Realice un grafico que represente la hyperbola"
      ],
      "metadata": {
        "id": "qRCZM3XHtRwf"
      }
    },
    {
      "cell_type": "code",
      "source": [
        "\"\"\" se aplica formula cuadratica en la expresion 3y2- 4xy + x2-6 =0 para hallar los valores de y llamados y1 y y2 \"\"\"\n",
        "\n",
        "y1 = lambda x: (2/3)*x + np.sqrt(((x**2)/9)+2)\n",
        "y2 = lambda x:  (2/3)*x - np.sqrt(((x**2)/9)+2)\n",
        "\n",
        "\n",
        "x1 = np.linspace(-4,4,100)\n",
        "\n",
        "plt.plot(x1,y1(x1))\n",
        "plt.plot(x1,y2(x1))\n",
        "plt.grid()"
      ],
      "metadata": {
        "colab": {
          "base_uri": "https://localhost:8080/",
          "height": 430
        },
        "id": "eSMbzggJ8iaT",
        "outputId": "7b5ea44f-b7b6-472d-b3cd-b6ba35601cb7"
      },
      "execution_count": 30,
      "outputs": [
        {
          "output_type": "display_data",
          "data": {
            "text/plain": [
              "<Figure size 640x480 with 1 Axes>"
            ],
            "image/png": "[encoded data removed]"
          },
          "metadata": {}
        }
      ]
    },
    {
      "cell_type": "markdown",
      "source": [
        "Diagonalice A, para ello construya la matrix Q de autovectores ortoganales tal que D=QTAQ, en este caso se dice que A es diagonalizable ortogonalmente, donde  A=QDQT"
      ],
      "metadata": {
        "id": "KbcHQ_dey1aF"
      }
    },
    {
      "cell_type": "code",
      "source": [
        "A= np.array([[1.,-2],\n",
        "              [-2,3]])\n",
        "\n",
        "\n",
        "def diagonalizacion(M):\n",
        "  autovaloresA, autovectoresA = np.linalg.eigh(M)\n",
        "  if np.dot(autovectoresA[:,0], autovectoresA[:,1])==0:\n",
        "    Q = autovectoresA.copy()\n",
        "    D = Q.T @ A @ Q\n",
        "    return D,Q\n",
        "  else:\n",
        "    print(\"Los vectores no son ortogonales\")\n",
        "\n",
        "\n",
        "D,Q = diagonalizacion(A)\n",
        "D\n"
      ],
      "metadata": {
        "colab": {
          "base_uri": "https://localhost:8080/"
        },
        "id": "JQ9Caijg2ZuL",
        "outputId": "67ffc9c2-63ad-40cb-8dfd-9367ae082ab9"
      },
      "execution_count": 31,
      "outputs": [
        {
          "output_type": "execute_result",
          "data": {
            "text/plain": [
              "array([[-0.236068,  0.      ],\n",
              "       [ 0.      ,  4.236068]])"
            ]
          },
          "metadata": {},
          "execution_count": 31
        }
      ]
    },
    {
      "cell_type": "markdown",
      "source": [
        "Aplique el resultado de la siguiente demostración para encontrar una nueva hyperbola en una nueva base"
      ],
      "metadata": {
        "id": "i-bNwlcaZNxj"
      }
    },
    {
      "cell_type": "code",
      "source": [
        "\"\"\" u = Q.T * v\"\"\"\n",
        "\n",
        "x = sp.symbols(\"x\")\n",
        "\n",
        "y = sp.symbols(\"y\")\n",
        "\n",
        "v = (x,y)\n",
        "u = Q.T @ v\n",
        "\n",
        "D = sp.Matrix(D)\n",
        "\n",
        "nueva_hiperbola = np.dot(D @ u,u) -6\n",
        "\n",
        "nueva_hiperbola\n",
        "\n"
      ],
      "metadata": {
        "colab": {
          "base_uri": "https://localhost:8080/",
          "height": 60
        },
        "id": "HZb3O72SahuH",
        "outputId": "3eaa8e79-1707-485d-822c-cc476731ea2c"
      },
      "execution_count": 32,
      "outputs": [
        {
          "output_type": "execute_result",
          "data": {
            "text/plain": [
              "(-2.22703272882321*x + 3.60341464929439*y)*(-0.525731112119133*x + 0.85065080835204*y) + (-0.85065080835204*x - 0.525731112119133*y)*(0.200811415886227*x + 0.124108280346679*y) - 6"
            ],
            "text/latex": "$\\displaystyle \\left(- 2.22703272882321 x + 3.60341464929439 y\\right) \\left(- 0.525731112119133 x + 0.85065080835204 y\\right) + \\left(- 0.85065080835204 x - 0.525731112119133 y\\right) \\left(0.200811415886227 x + 0.124108280346679 y\\right) - 6$"
          },
          "metadata": {},
          "execution_count": 32
        }
      ]
    },
    {
      "cell_type": "code",
      "source": [
        "f = sp.lambdify((x,y),nueva_hiperbola)\n"
      ],
      "metadata": {
        "id": "lWakmkaNdK3C"
      },
      "execution_count": 33,
      "outputs": []
    },
    {
      "cell_type": "code",
      "source": [
        "# Rango de valores para x e y\n",
        "x = np.linspace(-10, 10, 100)\n",
        "y = np.linspace(-10, 10, 100)\n",
        "\n",
        "# Crear una malla de puntos (x, y)\n",
        "X, Y = np.meshgrid(x, y)\n",
        "\n",
        "Z = f(X,Y)"
      ],
      "metadata": {
        "id": "baqQIA73gDZu"
      },
      "execution_count": 34,
      "outputs": []
    },
    {
      "cell_type": "code",
      "source": [
        "# Graficar la nueva hiperbola\n",
        "plt.contour(X, Y, Z, [0], colors='red')\n",
        "plt.grid()"
      ],
      "metadata": {
        "colab": {
          "base_uri": "https://localhost:8080/",
          "height": 435
        },
        "id": "aiD9SRZghVe3",
        "outputId": "6288597a-875f-4383-e782-b337747d39ff"
      },
      "execution_count": 35,
      "outputs": [
        {
          "output_type": "display_data",
          "data": {
            "text/plain": [
              "<Figure size 640x480 with 1 Axes>"
            ],
            "image/png": "[encoded data removed]"
          },
          "metadata": {}
        }
      ]
    },
    {
      "cell_type": "markdown",
      "metadata": {
        "id": "bVBR8mx02xzR"
      },
      "source": [
        "### Sympy"
      ]
    },
    {
      "cell_type": "code",
      "execution_count": 36,
      "metadata": {
        "colab": {
          "base_uri": "https://localhost:8080/"
        },
        "id": "5ZtjshtC2iBC",
        "outputId": "dfe8e249-ce15-4b81-d2ef-30f22ed5c5f9"
      },
      "outputs": [
        {
          "output_type": "stream",
          "name": "stdout",
          "text": [
            "Autovalores simplificados: {11/3 + 16*2**(1/3)/(3*(61 + 3*sqrt(1407)*I)**(1/3)) + 2**(2/3)*(61 + 3*sqrt(1407)*I)**(1/3)/6: 1, (-128*2**(1/3) + (1 - sqrt(3)*I)*(44 + 2**(2/3)*(-1 + sqrt(3)*I)*(61 + 3*sqrt(1407)*I)**(1/3))*(61 + 3*sqrt(1407)*I)**(1/3))/(12*(1 - sqrt(3)*I)*(61 + 3*sqrt(1407)*I)**(1/3)): 1, (-128*2**(1/3) + (1 + sqrt(3)*I)*(44 - 2**(2/3)*(1 + sqrt(3)*I)*(61 + 3*sqrt(1407)*I)**(1/3))*(61 + 3*sqrt(1407)*I)**(1/3))/(12*(1 + sqrt(3)*I)*(61 + 3*sqrt(1407)*I)**(1/3)): 1}\n",
            "Autovectores simplificados:\n",
            " [((-128*2**(1/3) + (1 + sqrt(3)*I)*(44 - 2**(2/3)*(1 + sqrt(3)*I)*(61 + 3*sqrt(1407)*I)**(1/3))*(61 + 3*sqrt(1407)*I)**(1/3))/(12*(1 + sqrt(3)*I)*(61 + 3*sqrt(1407)*I)**(1/3)), 1, [Matrix([\n",
            "[(12*(-176 + 7*2**(2/3)*(1 + sqrt(3)*I)*(61 + 3*sqrt(1407)*I)**(1/3))*(1 + sqrt(3)*I)**2*(61 + 3*sqrt(1407)*I) + (61 + 3*sqrt(1407)*I)**(1/3)*(128*2**(1/3) + (-44 + 2**(2/3)*(1 + sqrt(3)*I)*(61 + 3*sqrt(1407)*I)**(1/3))*(1 + sqrt(3)*I)*(61 + 3*sqrt(1407)*I)**(1/3))**2 + 10752*2**(1/3)*(1 + sqrt(3)*I)*(61 + 3*sqrt(1407)*I)**(2/3))/(288*(1 + sqrt(3)*I)**2*(61 + 3*sqrt(1407)*I))],\n",
            "[                                                                                                                                                                                                             (-128*2**(1/3) + (1 + sqrt(3)*I)*(8 - 2**(2/3)*(1 + sqrt(3)*I)*(61 + 3*sqrt(1407)*I)**(1/3))*(61 + 3*sqrt(1407)*I)**(1/3))/(12*(1 + sqrt(3)*I)*(61 + 3*sqrt(1407)*I)**(1/3))],\n",
            "[                                                                                                                                                                                                                                                                                                                                                                                        1]])]), ((-128*2**(1/3) + (1 - sqrt(3)*I)*(44 + 2**(2/3)*(-1 + sqrt(3)*I)*(61 + 3*sqrt(1407)*I)**(1/3))*(61 + 3*sqrt(1407)*I)**(1/3))/(12*(1 - sqrt(3)*I)*(61 + 3*sqrt(1407)*I)**(1/3)), 1, [Matrix([\n",
            "[(10752*2**(1/3)*(1 - sqrt(3)*I)*(61 + 3*sqrt(1407)*I)**(2/3) + (61 + 3*sqrt(1407)*I)**(1/3)*(128*2**(1/3) + (-44 + 2**(2/3)*(1 - sqrt(3)*I)*(61 + 3*sqrt(1407)*I)**(1/3))*(1 - sqrt(3)*I)*(61 + 3*sqrt(1407)*I)**(1/3))**2 + 12*(-176 + 7*2**(2/3)*(1 - sqrt(3)*I)*(61 + 3*sqrt(1407)*I)**(1/3))*(1 - sqrt(3)*I)**2*(61 + 3*sqrt(1407)*I))/(288*(1 - sqrt(3)*I)**2*(61 + 3*sqrt(1407)*I))],\n",
            "[                                                                                                                                                                                                            (-128*2**(1/3) + (1 - sqrt(3)*I)*(8 + 2**(2/3)*(-1 + sqrt(3)*I)*(61 + 3*sqrt(1407)*I)**(1/3))*(61 + 3*sqrt(1407)*I)**(1/3))/(12*(1 - sqrt(3)*I)*(61 + 3*sqrt(1407)*I)**(1/3))],\n",
            "[                                                                                                                                                                                                                                                                                                                                                                                        1]])]), (11/3 + 16*2**(1/3)/(3*(61 + 3*sqrt(1407)*I)**(1/3)) + 2**(2/3)*(61 + 3*sqrt(1407)*I)**(1/3)/6, 1, [Matrix([\n",
            "[(42*sqrt(1407) - 191*2**(2/3)*I*(61 + 3*sqrt(1407)*I)**(1/3) - 854*I - 31*2**(1/3)*I*(61 + 3*sqrt(1407)*I)**(2/3) + sqrt(1407)*2**(2/3)*(61 + 3*sqrt(1407)*I)**(1/3) + sqrt(1407)*2**(1/3)*(61 + 3*sqrt(1407)*I)**(2/3))/(12*(3*sqrt(1407) - 61*I))],\n",
            "[                                                                                                                                                       2/3 + 16*2**(1/3)/(3*(61 + 3*sqrt(1407)*I)**(1/3)) + 2**(2/3)*(61 + 3*sqrt(1407)*I)**(1/3)/6],\n",
            "[                                                                                                                                                                                                                                                  1]])])]\n"
          ]
        }
      ],
      "source": [
        "from sympy import Matrix, simplify\n",
        "\n",
        "# Definir una matriz 3x3\n",
        "A = Matrix([[4, 2, 0],\n",
        "            [2, 4, 1],\n",
        "            [0, 1, 3]])\n",
        "\n",
        "# Calcular autovalores y autovectores\n",
        "autovalores = A.eigenvals()\n",
        "autovectores = A.eigenvects()\n",
        "\n",
        "# Simplificar autovalores y autovectores\n",
        "autovalores_simplificados = {simplify(l): m for l, m in autovalores.items()}\n",
        "autovectores_simplificados = [(simplify(l), m, [simplify(v) for v in vs]) for l, m, vs in autovectores]\n",
        "\n",
        "print(\"Autovalores simplificados:\", autovalores_simplificados)\n",
        "print(\"Autovectores simplificados:\\n\", autovectores_simplificados)\n"
      ]
    },
    {
      "cell_type": "code",
      "execution_count": 37,
      "metadata": {
        "colab": {
          "base_uri": "https://localhost:8080/"
        },
        "id": "zGEs4pr2A5JR",
        "outputId": "f5ae8ce9-50dc-41a8-e857-78b9464d41b9"
      },
      "outputs": [
        {
          "output_type": "execute_result",
          "data": {
            "text/plain": [
              "{11/3 + 16*2**(1/3)/(3*(61 + 3*sqrt(1407)*I)**(1/3)) + 2**(2/3)*(61 + 3*sqrt(1407)*I)**(1/3)/6: 1,\n",
              " (-128*2**(1/3) + (1 - sqrt(3)*I)*(44 + 2**(2/3)*(-1 + sqrt(3)*I)*(61 + 3*sqrt(1407)*I)**(1/3))*(61 + 3*sqrt(1407)*I)**(1/3))/(12*(1 - sqrt(3)*I)*(61 + 3*sqrt(1407)*I)**(1/3)): 1,\n",
              " (-128*2**(1/3) + (1 + sqrt(3)*I)*(44 - 2**(2/3)*(1 + sqrt(3)*I)*(61 + 3*sqrt(1407)*I)**(1/3))*(61 + 3*sqrt(1407)*I)**(1/3))/(12*(1 + sqrt(3)*I)*(61 + 3*sqrt(1407)*I)**(1/3)): 1}"
            ]
          },
          "metadata": {},
          "execution_count": 37
        }
      ],
      "source": [
        "autovalores_simplificados"
      ]
    },
    {
      "cell_type": "markdown",
      "metadata": {
        "id": "kZWZu8BRwG2h"
      },
      "source": [
        "# Pytorch\n",
        "\n",
        "Definción de una matrix de tres formas:\n",
        "Hasta ahora sabemos definir matrices como objetos de numpy y objetos de sympy, en la actualidad, el rápido crecimiento de las unidades de procesamiento gráfico GPU,  permite definir otro tipo de objetos que pueden acelerar el computo computacional.\n",
        "\n",
        "\n",
        "- Como objeto de numpy\n",
        "- Como objeto de sympy\n",
        "- Como objeto de pytorch\n",
        "\n",
        "\n",
        "La velocidad de ejecución entre PyTorch y Numpy puede variar dependiendo del tamaño de los datos y si se está utilizando o no la aceleración por GPU. Para operaciones con matrices pequeñas y cálculos que no requieren de la paralelización de una GPU, Numpy puede ser más rápido porque opera directamente en la CPU y la memoria principal. Sin embargo, para matrices grandes y operaciones que pueden ser paralelizadas, PyTorch con soporte de GPU puede ser significativamente más rápido.\n",
        "\n",
        "Comparativa de comandos de ejecución entre pytorch, numpy  y sympy\n",
        "\n",
        "\n",
        "| Operación | PyTorch | Numpy | SymPy |\n",
        "|-----------|---------|-------|-------|\n",
        "| Creación de una matriz | `torch.tensor([[1, 2], [3, 4]])` | `np.array([[1, 2], [3, 4]])` | `Matrix([[1, 2], [3, 4]])` |\n",
        "| Transposición de una matriz | `torch.transpose(A, 0, 1)` | `A.T` o `np.transpose(A)` | `A.T` |\n",
        "| Multiplicación de matrices | `torch.matmul(A, B)` | `np.dot(A, B)` o `A @ B` | `A * B` |\n",
        "| Inversa de una matriz | `torch.inverse(A)` | `np.linalg.inv(A)` | `A**-1` |\n",
        "| Determinante de una matriz | `torch.det(A)` | `np.linalg.det(A)` | `A.det()` |\n",
        "| Autovalores y autovectores | `torch.eig(A, eigenvectors=True)` | `np.linalg.eig(A)` | `A.eigenvals()`, `A.eigenvects()` |\n",
        "\n"
      ]
    },
    {
      "cell_type": "markdown",
      "metadata": {
        "id": "0IZOos3VztQS"
      },
      "source": [
        "Ejemplo básico del comparativo de un problema de algebra lineal, rotación de un vector:"
      ]
    },
    {
      "cell_type": "code",
      "execution_count": 38,
      "metadata": {
        "id": "Ve2Qic9ttIkE"
      },
      "outputs": [],
      "source": [
        "\n",
        "def matrixA(theta, tipo=\"numpy\"):\n",
        "  if(tipo==\"np\"):\n",
        "    return np.array([[np.cos(theta),-np.sin(theta)],[np.sin(theta), np.cos(theta)]])\n",
        "  elif(tipo==\"sp\"):\n",
        "    return np.array([[sp.cos(theta),-sp.sin(theta)],[sp.sin(theta), sp.cos(theta)]])\n",
        "\n",
        "  elif(tipo==\"pt\"):\n",
        "    return pt.tensor([[np.cos(theta),-np.sin(theta)],[np.sin(theta), np.cos(theta)]])\n",
        "\n",
        "  else:\n",
        "\n",
        "    print(\"Define el tipo de variable que desea\")\n"
      ]
    },
    {
      "cell_type": "code",
      "execution_count": 39,
      "metadata": {
        "colab": {
          "base_uri": "https://localhost:8080/",
          "height": 58
        },
        "id": "6pvCFzl7uDm3",
        "outputId": "ef48b4fe-bf56-44dd-fd8c-0460cb6dcda2"
      },
      "outputs": [
        {
          "output_type": "execute_result",
          "data": {
            "text/plain": [
              "Matrix([\n",
              "[0.707106781186548, -0.707106781186547],\n",
              "[0.707106781186547,  0.707106781186548]])"
            ],
            "text/latex": "$\\displaystyle \\left[\\begin{matrix}0.707106781186548 & -0.707106781186547\\\\0.707106781186547 & 0.707106781186548\\end{matrix}\\right]$"
          },
          "metadata": {},
          "execution_count": 39
        }
      ],
      "source": [
        "x = sp.Symbol(\"x\")\n",
        "M = sp.Matrix(matrixA(np.pi/4, tipo=\"sp\"))\n",
        "M"
      ]
    },
    {
      "cell_type": "code",
      "execution_count": 40,
      "metadata": {
        "colab": {
          "base_uri": "https://localhost:8080/"
        },
        "id": "brk8Daew2EmP",
        "outputId": "edc9d74a-d727-46cc-9ca0-a5f1ff9c7492"
      },
      "outputs": [
        {
          "output_type": "execute_result",
          "data": {
            "text/plain": [
              "array([[ 0.707107, -0.707107],\n",
              "       [ 0.707107,  0.707107]])"
            ]
          },
          "metadata": {},
          "execution_count": 40
        }
      ],
      "source": [
        "x=np.pi/4\n",
        "M = matrixA(x, tipo=\"np\")\n",
        "M"
      ]
    },
    {
      "cell_type": "code",
      "execution_count": 41,
      "metadata": {
        "colab": {
          "base_uri": "https://localhost:8080/"
        },
        "id": "Z-6fzFXrvbgL",
        "outputId": "01b31f68-f20d-4462-a988-899a160497d3"
      },
      "outputs": [
        {
          "output_type": "execute_result",
          "data": {
            "text/plain": [
              "array([[ 0.707107, -0.707107],\n",
              "       [ 0.707107,  0.707107]])"
            ]
          },
          "metadata": {},
          "execution_count": 41
        }
      ],
      "source": [
        "matrixA(x, tipo=\"pt\")\n",
        "M"
      ]
    },
    {
      "cell_type": "markdown",
      "metadata": {
        "id": "b-IQVSe3CAp6"
      },
      "source": [
        "Actividad: Resolver el problema de la potencia de una matriz empleando pytorch, construir."
      ]
    },
    {
      "cell_type": "markdown",
      "source": [
        "SOLUCION"
      ],
      "metadata": {
        "id": "OLi_KZDPtFHe"
      }
    },
    {
      "cell_type": "code",
      "execution_count": 42,
      "metadata": {
        "id": "jiAATXj8CFsk"
      },
      "outputs": [],
      "source": [
        "def potencia_py(M,n):\n",
        "\n",
        "  if type(n) == int and n>0:\n",
        "    if M.shape[1] == M.shape[0]:\n",
        "      M = M.to(dtype=pt.float)\n",
        "\n",
        "      autovalores_M, autovectores_M = pt.linalg.eig(M)\n",
        "\n",
        "      autovalores_n = autovalores_M**n\n",
        "\n",
        "      identidad = pt.eye(M.shape[1], dtype=pt.int)\n",
        "\n",
        "      D_n = pt.mul(identidad, autovalores_n)\n",
        "      U = autovectores_M\n",
        "\n",
        "      U_inversa = pt.inverse(U)\n",
        "\n",
        "      A_elevado_n = pt.matmul(pt.matmul(U,D_n),U_inversa)\n",
        "\n",
        "\n",
        "\n",
        "      return A_elevado_n\n",
        "    else:\n",
        "       return \"No es una matriz cuadrada, no se puede obtener una potencia\"\n",
        "  else:\n",
        "    return \"El exponente debe ser un numero natural\"\n",
        "\n",
        "\n"
      ]
    },
    {
      "cell_type": "code",
      "source": [
        "\"\"\" Un ejemplo\"\"\"\n",
        "A = pt.tensor([[4., 2, 0],\n",
        "            [2, 4, 1],\n",
        "            [0, 1, 3]])\n",
        "\n"
      ],
      "metadata": {
        "id": "IeW7ZpMDuUKb"
      },
      "execution_count": 43,
      "outputs": []
    },
    {
      "cell_type": "code",
      "source": [
        "pot = np.matrix(potencia_py(A,3)).round()\n",
        "pot"
      ],
      "metadata": {
        "colab": {
          "base_uri": "https://localhost:8080/"
        },
        "id": "E3KHnHZvu5Nd",
        "outputId": "c8eaf6d8-f0ba-4218-aab0-4109a6289636"
      },
      "execution_count": 44,
      "outputs": [
        {
          "output_type": "execute_result",
          "data": {
            "text/plain": [
              "matrix([[112.+0.j, 106.+0.j,  22.+0.j],\n",
              "        [106.+0.j, 123.+0.j,  42.+0.j],\n",
              "        [ 22.+0.j,  42.+0.j,  37.+0.j]], dtype=complex64)"
            ]
          },
          "metadata": {},
          "execution_count": 44
        }
      ]
    },
    {
      "cell_type": "code",
      "source": [],
      "metadata": {
        "id": "WVh7EQkv7eOG"
      },
      "execution_count": 44,
      "outputs": []
    }
  ],
  "metadata": {
    "colab": {
      "provenance": []
    },
    "kernelspec": {
      "display_name": "Python 3",
      "name": "python3"
    },
    "language_info": {
      "name": "python",
      "version": "3.9.18"
    }
  },
  "nbformat": 4,
  "nbformat_minor": 0
}