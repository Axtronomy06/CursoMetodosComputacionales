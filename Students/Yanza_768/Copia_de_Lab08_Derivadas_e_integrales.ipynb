{
  "cells": [
    {
      "cell_type": "markdown",
      "metadata": {
        "id": "xTjqjBeTws8E"
      },
      "source": [
        "<a href=\"https://colab.research.google.com/github/hernansalinas/autogrades/blob/main/Laboratorios_Taller/Lab08_Derivadas_e_integrales.ipynb\" target=\"_parent\"><img src=\"https://colab.research.google.com/assets/colab-badge.svg\" alt=\"Open In Colab\"/></a>"
      ]
    },
    {
      "cell_type": "code",
      "execution_count": 1,
      "metadata": {
        "id": "J5O5W6xbuoZS"
      },
      "outputs": [],
      "source": [
        "import numpy as np\n",
        "import matplotlib.pyplot as plt\n",
        "import pandas as pd\n",
        "import scipy as sc\n",
        "import sympy as sp\n",
        "from scipy.interpolate import lagrange\n",
        "from scipy import integrate\n",
        "import math\n",
        "\n"
      ]
    },
    {
      "cell_type": "markdown",
      "metadata": {
        "id": "mjVxBoseufI6"
      },
      "source": [
        "#Parte 1\n",
        "\n",
        "En un cirtcuito con un voltaje de  $\\varepsilon(t)$ y una inductancia de L, la primera ley de kirshhoff nos da la siguiente relación\n",
        "\n",
        "\\begin{equation}\n",
        "\\varepsilon(t) = L\\frac{\\mathrm{d}i}{\\mathrm{d}t} + Ri\n",
        "\\end{equation}\n",
        "\n",
        "donde $R$, es la resistencia del ciruito, $I$ es la corriente. Suponga que medimos la corriente con varios valores de $t$ y obtenemos:\n",
        "\n",
        "``t = 1.00, 1.01, 1.02, 1.03, 1.04``\n",
        "\n",
        "``i = 3.10, 3.12, 3.14, 3.18, 3.24``\n",
        "\n",
        "\n",
        "donde $t$ se mide en segundos, $I$ se da en Amperios, la inductancia $L$ es una constante de 0.98 H, la resistencia es de 0.142 $\\Omega$. Aproxime el votaje  $\\varepsilon(t)$ en los valores t=1.00, 1.01, 1.02, 1.03, 1.04 ,  para ello realice lo siguiente:\n",
        "\n",
        "\n",
        "- Construya un data frame de pandas con los valores de tiempo y corriente\n",
        "- Emplee un metodo calcular la derivada numérica."
      ]
    },
    {
      "cell_type": "code",
      "source": [
        "t = np.array([1.00, 1.01, 1.02, 1.03, 1.04])\n",
        "\n",
        "i = np.array([3.10, 3.12, 3.14, 3.18, 3.24])"
      ],
      "metadata": {
        "id": "8h5JSf9IxQvf"
      },
      "execution_count": 2,
      "outputs": []
    },
    {
      "cell_type": "code",
      "source": [
        "df = pd.DataFrame()\n",
        "df[\"Tiempo(s)\"] = t\n",
        "df[\"Corriente (A)\"] = i\n",
        "df"
      ],
      "metadata": {
        "colab": {
          "base_uri": "https://localhost:8080/",
          "height": 206
        },
        "id": "iAeOk0hwxwm-",
        "outputId": "28b50473-c395-470d-994b-0de76eac1278"
      },
      "execution_count": 3,
      "outputs": [
        {
          "output_type": "execute_result",
          "data": {
            "text/plain": [
              "   Tiempo(s)  Corriente (A)\n",
              "0       1.00           3.10\n",
              "1       1.01           3.12\n",
              "2       1.02           3.14\n",
              "3       1.03           3.18\n",
              "4       1.04           3.24"
            ],
            "text/html": [
              "\n",
              "  <div id=\"df-b8a83408-7c7a-45a2-b356-42b3315519a9\" class=\"colab-df-container\">\n",
              "    <div>\n",
              "<style scoped>\n",
              "    .dataframe tbody tr th:only-of-type {\n",
              "        vertical-align: middle;\n",
              "    }\n",
              "\n",
              "    .dataframe tbody tr th {\n",
              "        vertical-align: top;\n",
              "    }\n",
              "\n",
              "    .dataframe thead th {\n",
              "        text-align: right;\n",
              "    }\n",
              "</style>\n",
              "<table border=\"1\" class=\"dataframe\">\n",
              "  <thead>\n",
              "    <tr style=\"text-align: right;\">\n",
              "      <th></th>\n",
              "      <th>Tiempo(s)</th>\n",
              "      <th>Corriente (A)</th>\n",
              "    </tr>\n",
              "  </thead>\n",
              "  <tbody>\n",
              "    <tr>\n",
              "      <th>0</th>\n",
              "      <td>1.00</td>\n",
              "      <td>3.10</td>\n",
              "    </tr>\n",
              "    <tr>\n",
              "      <th>1</th>\n",
              "      <td>1.01</td>\n",
              "      <td>3.12</td>\n",
              "    </tr>\n",
              "    <tr>\n",
              "      <th>2</th>\n",
              "      <td>1.02</td>\n",
              "      <td>3.14</td>\n",
              "    </tr>\n",
              "    <tr>\n",
              "      <th>3</th>\n",
              "      <td>1.03</td>\n",
              "      <td>3.18</td>\n",
              "    </tr>\n",
              "    <tr>\n",
              "      <th>4</th>\n",
              "      <td>1.04</td>\n",
              "      <td>3.24</td>\n",
              "    </tr>\n",
              "  </tbody>\n",
              "</table>\n",
              "</div>\n",
              "    <div class=\"colab-df-buttons\">\n",
              "\n",
              "  <div class=\"colab-df-container\">\n",
              "    <button class=\"colab-df-convert\" onclick=\"convertToInteractive('df-b8a83408-7c7a-45a2-b356-42b3315519a9')\"\n",
              "            title=\"Convert this dataframe to an interactive table.\"\n",
              "            style=\"display:none;\">\n",
              "\n",
              "  <svg xmlns=\"http://www.w3.org/2000/svg\" height=\"24px\" viewBox=\"0 -960 960 960\">\n",
              "    <path d=\"M120-120v-720h720v720H120Zm60-500h600v-160H180v160Zm220 220h160v-160H400v160Zm0 220h160v-160H400v160ZM180-400h160v-160H180v160Zm440 0h160v-160H620v160ZM180-180h160v-160H180v160Zm440 0h160v-160H620v160Z\"/>\n",
              "  </svg>\n",
              "    </button>\n",
              "\n",
              "  <style>\n",
              "    .colab-df-container {\n",
              "      display:flex;\n",
              "      gap: 12px;\n",
              "    }\n",
              "\n",
              "    .colab-df-convert {\n",
              "      background-color: #E8F0FE;\n",
              "      border: none;\n",
              "      border-radius: 50%;\n",
              "      cursor: pointer;\n",
              "      display: none;\n",
              "      fill: #1967D2;\n",
              "      height: 32px;\n",
              "      padding: 0 0 0 0;\n",
              "      width: 32px;\n",
              "    }\n",
              "\n",
              "    .colab-df-convert:hover {\n",
              "      background-color: #E2EBFA;\n",
              "      box-shadow: 0px 1px 2px rgba(60, 64, 67, 0.3), 0px 1px 3px 1px rgba(60, 64, 67, 0.15);\n",
              "      fill: #174EA6;\n",
              "    }\n",
              "\n",
              "    .colab-df-buttons div {\n",
              "      margin-bottom: 4px;\n",
              "    }\n",
              "\n",
              "    [theme=dark] .colab-df-convert {\n",
              "      background-color: #3B4455;\n",
              "      fill: #D2E3FC;\n",
              "    }\n",
              "\n",
              "    [theme=dark] .colab-df-convert:hover {\n",
              "      background-color: #434B5C;\n",
              "      box-shadow: 0px 1px 3px 1px rgba(0, 0, 0, 0.15);\n",
              "      filter: drop-shadow(0px 1px 2px rgba(0, 0, 0, 0.3));\n",
              "      fill: #FFFFFF;\n",
              "    }\n",
              "  </style>\n",
              "\n",
              "    <script>\n",
              "      const buttonEl =\n",
              "        document.querySelector('#df-b8a83408-7c7a-45a2-b356-42b3315519a9 button.colab-df-convert');\n",
              "      buttonEl.style.display =\n",
              "        google.colab.kernel.accessAllowed ? 'block' : 'none';\n",
              "\n",
              "      async function convertToInteractive(key) {\n",
              "        const element = document.querySelector('#df-b8a83408-7c7a-45a2-b356-42b3315519a9');\n",
              "        const dataTable =\n",
              "          await google.colab.kernel.invokeFunction('convertToInteractive',\n",
              "                                                    [key], {});\n",
              "        if (!dataTable) return;\n",
              "\n",
              "        const docLinkHtml = 'Like what you see? Visit the ' +\n",
              "          '<a target=\"_blank\" href=https://colab.research.google.com/notebooks/data_table.ipynb>data table notebook</a>'\n",
              "          + ' to learn more about interactive tables.';\n",
              "        element.innerHTML = '';\n",
              "        dataTable['output_type'] = 'display_data';\n",
              "        await google.colab.output.renderOutput(dataTable, element);\n",
              "        const docLink = document.createElement('div');\n",
              "        docLink.innerHTML = docLinkHtml;\n",
              "        element.appendChild(docLink);\n",
              "      }\n",
              "    </script>\n",
              "  </div>\n",
              "\n",
              "\n",
              "<div id=\"df-77262746-c8f6-471e-8317-a5e3c56b129b\">\n",
              "  <button class=\"colab-df-quickchart\" onclick=\"quickchart('df-77262746-c8f6-471e-8317-a5e3c56b129b')\"\n",
              "            title=\"Suggest charts\"\n",
              "            style=\"display:none;\">\n",
              "\n",
              "<svg xmlns=\"http://www.w3.org/2000/svg\" height=\"24px\"viewBox=\"0 0 24 24\"\n",
              "     width=\"24px\">\n",
              "    <g>\n",
              "        <path d=\"M19 3H5c-1.1 0-2 .9-2 2v14c0 1.1.9 2 2 2h14c1.1 0 2-.9 2-2V5c0-1.1-.9-2-2-2zM9 17H7v-7h2v7zm4 0h-2V7h2v10zm4 0h-2v-4h2v4z\"/>\n",
              "    </g>\n",
              "</svg>\n",
              "  </button>\n",
              "\n",
              "<style>\n",
              "  .colab-df-quickchart {\n",
              "      --bg-color: #E8F0FE;\n",
              "      --fill-color: #1967D2;\n",
              "      --hover-bg-color: #E2EBFA;\n",
              "      --hover-fill-color: #174EA6;\n",
              "      --disabled-fill-color: #AAA;\n",
              "      --disabled-bg-color: #DDD;\n",
              "  }\n",
              "\n",
              "  [theme=dark] .colab-df-quickchart {\n",
              "      --bg-color: #3B4455;\n",
              "      --fill-color: #D2E3FC;\n",
              "      --hover-bg-color: #434B5C;\n",
              "      --hover-fill-color: #FFFFFF;\n",
              "      --disabled-bg-color: #3B4455;\n",
              "      --disabled-fill-color: #666;\n",
              "  }\n",
              "\n",
              "  .colab-df-quickchart {\n",
              "    background-color: var(--bg-color);\n",
              "    border: none;\n",
              "    border-radius: 50%;\n",
              "    cursor: pointer;\n",
              "    display: none;\n",
              "    fill: var(--fill-color);\n",
              "    height: 32px;\n",
              "    padding: 0;\n",
              "    width: 32px;\n",
              "  }\n",
              "\n",
              "  .colab-df-quickchart:hover {\n",
              "    background-color: var(--hover-bg-color);\n",
              "    box-shadow: 0 1px 2px rgba(60, 64, 67, 0.3), 0 1px 3px 1px rgba(60, 64, 67, 0.15);\n",
              "    fill: var(--button-hover-fill-color);\n",
              "  }\n",
              "\n",
              "  .colab-df-quickchart-complete:disabled,\n",
              "  .colab-df-quickchart-complete:disabled:hover {\n",
              "    background-color: var(--disabled-bg-color);\n",
              "    fill: var(--disabled-fill-color);\n",
              "    box-shadow: none;\n",
              "  }\n",
              "\n",
              "  .colab-df-spinner {\n",
              "    border: 2px solid var(--fill-color);\n",
              "    border-color: transparent;\n",
              "    border-bottom-color: var(--fill-color);\n",
              "    animation:\n",
              "      spin 1s steps(1) infinite;\n",
              "  }\n",
              "\n",
              "  @keyframes spin {\n",
              "    0% {\n",
              "      border-color: transparent;\n",
              "      border-bottom-color: var(--fill-color);\n",
              "      border-left-color: var(--fill-color);\n",
              "    }\n",
              "    20% {\n",
              "      border-color: transparent;\n",
              "      border-left-color: var(--fill-color);\n",
              "      border-top-color: var(--fill-color);\n",
              "    }\n",
              "    30% {\n",
              "      border-color: transparent;\n",
              "      border-left-color: var(--fill-color);\n",
              "      border-top-color: var(--fill-color);\n",
              "      border-right-color: var(--fill-color);\n",
              "    }\n",
              "    40% {\n",
              "      border-color: transparent;\n",
              "      border-right-color: var(--fill-color);\n",
              "      border-top-color: var(--fill-color);\n",
              "    }\n",
              "    60% {\n",
              "      border-color: transparent;\n",
              "      border-right-color: var(--fill-color);\n",
              "    }\n",
              "    80% {\n",
              "      border-color: transparent;\n",
              "      border-right-color: var(--fill-color);\n",
              "      border-bottom-color: var(--fill-color);\n",
              "    }\n",
              "    90% {\n",
              "      border-color: transparent;\n",
              "      border-bottom-color: var(--fill-color);\n",
              "    }\n",
              "  }\n",
              "</style>\n",
              "\n",
              "  <script>\n",
              "    async function quickchart(key) {\n",
              "      const quickchartButtonEl =\n",
              "        document.querySelector('#' + key + ' button');\n",
              "      quickchartButtonEl.disabled = true;  // To prevent multiple clicks.\n",
              "      quickchartButtonEl.classList.add('colab-df-spinner');\n",
              "      try {\n",
              "        const charts = await google.colab.kernel.invokeFunction(\n",
              "            'suggestCharts', [key], {});\n",
              "      } catch (error) {\n",
              "        console.error('Error during call to suggestCharts:', error);\n",
              "      }\n",
              "      quickchartButtonEl.classList.remove('colab-df-spinner');\n",
              "      quickchartButtonEl.classList.add('colab-df-quickchart-complete');\n",
              "    }\n",
              "    (() => {\n",
              "      let quickchartButtonEl =\n",
              "        document.querySelector('#df-77262746-c8f6-471e-8317-a5e3c56b129b button');\n",
              "      quickchartButtonEl.style.display =\n",
              "        google.colab.kernel.accessAllowed ? 'block' : 'none';\n",
              "    })();\n",
              "  </script>\n",
              "</div>\n",
              "    </div>\n",
              "  </div>\n"
            ],
            "application/vnd.google.colaboratory.intrinsic+json": {
              "type": "dataframe",
              "variable_name": "df",
              "summary": "{\n  \"name\": \"df\",\n  \"rows\": 5,\n  \"fields\": [\n    {\n      \"column\": \"Tiempo(s)\",\n      \"properties\": {\n        \"dtype\": \"number\",\n        \"std\": 0.01581138830084191,\n        \"min\": 1.0,\n        \"max\": 1.04,\n        \"num_unique_values\": 5,\n        \"samples\": [\n          1.01,\n          1.04,\n          1.02\n        ],\n        \"semantic_type\": \"\",\n        \"description\": \"\"\n      }\n    },\n    {\n      \"column\": \"Corriente (A)\",\n      \"properties\": {\n        \"dtype\": \"number\",\n        \"std\": 0.055497747702046483,\n        \"min\": 3.1,\n        \"max\": 3.24,\n        \"num_unique_values\": 5,\n        \"samples\": [\n          3.12,\n          3.24,\n          3.14\n        ],\n        \"semantic_type\": \"\",\n        \"description\": \"\"\n      }\n    }\n  ]\n}"
            }
          },
          "metadata": {},
          "execution_count": 3
        }
      ]
    },
    {
      "cell_type": "code",
      "source": [
        "plt.plot(df[\"Tiempo(s)\"],df[\"Corriente (A)\"], \"ro-\" )\n",
        "plt.xlabel(\"Tiempo(s)\")\n",
        "plt.ylabel(\"Corriente (A)\")\n",
        "plt.title(\"Corriente vs Tiempo\")\n",
        "plt.grid()"
      ],
      "metadata": {
        "colab": {
          "base_uri": "https://localhost:8080/",
          "height": 472
        },
        "id": "l2Tt-MJsyIl1",
        "outputId": "dfb1aa6e-8a09-48bc-f238-7d3bf7cfcc06"
      },
      "execution_count": 4,
      "outputs": [
        {
          "output_type": "display_data",
          "data": {
            "text/plain": [
              "<Figure size 640x480 with 1 Axes>"
            ],
            "image/png": "[encoded data removed]"
          },
          "metadata": {}
        }
      ]
    },
    {
      "cell_type": "code",
      "source": [
        "derivada = np.gradient(i,t) #\n",
        "\n",
        "# di = np.diff(i) diferencia de valores de i\n",
        "# dt = np.diff(t)\n",
        "# d=di/dt"
      ],
      "metadata": {
        "id": "yNkQbKoFyopN"
      },
      "execution_count": 5,
      "outputs": []
    },
    {
      "cell_type": "code",
      "source": [
        "L = 0.98\n",
        "\n",
        "R = 0.142\n",
        "\n",
        "E_t = L * derivada + R*i\n",
        "\n",
        "df[\"fem(v)\"] = E_t\n",
        "\n",
        "df"
      ],
      "metadata": {
        "colab": {
          "base_uri": "https://localhost:8080/",
          "height": 206
        },
        "id": "MloplqGUzxKR",
        "outputId": "0d348ea8-8eff-4590-e139-766605319182"
      },
      "execution_count": 6,
      "outputs": [
        {
          "output_type": "execute_result",
          "data": {
            "text/plain": [
              "   Tiempo(s)  Corriente (A)   fem(v)\n",
              "0       1.00           3.10  2.40020\n",
              "1       1.01           3.12  2.40304\n",
              "2       1.02           3.14  3.38588\n",
              "3       1.03           3.18  5.35156\n",
              "4       1.04           3.24  6.34008"
            ],
            "text/html": [
              "\n",
              "  <div id=\"df-3f922601-5960-4f7f-97a6-cf0bc871a199\" class=\"colab-df-container\">\n",
              "    <div>\n",
              "<style scoped>\n",
              "    .dataframe tbody tr th:only-of-type {\n",
              "        vertical-align: middle;\n",
              "    }\n",
              "\n",
              "    .dataframe tbody tr th {\n",
              "        vertical-align: top;\n",
              "    }\n",
              "\n",
              "    .dataframe thead th {\n",
              "        text-align: right;\n",
              "    }\n",
              "</style>\n",
              "<table border=\"1\" class=\"dataframe\">\n",
              "  <thead>\n",
              "    <tr style=\"text-align: right;\">\n",
              "      <th></th>\n",
              "      <th>Tiempo(s)</th>\n",
              "      <th>Corriente (A)</th>\n",
              "      <th>fem(v)</th>\n",
              "    </tr>\n",
              "  </thead>\n",
              "  <tbody>\n",
              "    <tr>\n",
              "      <th>0</th>\n",
              "      <td>1.00</td>\n",
              "      <td>3.10</td>\n",
              "      <td>2.40020</td>\n",
              "    </tr>\n",
              "    <tr>\n",
              "      <th>1</th>\n",
              "      <td>1.01</td>\n",
              "      <td>3.12</td>\n",
              "      <td>2.40304</td>\n",
              "    </tr>\n",
              "    <tr>\n",
              "      <th>2</th>\n",
              "      <td>1.02</td>\n",
              "      <td>3.14</td>\n",
              "      <td>3.38588</td>\n",
              "    </tr>\n",
              "    <tr>\n",
              "      <th>3</th>\n",
              "      <td>1.03</td>\n",
              "      <td>3.18</td>\n",
              "      <td>5.35156</td>\n",
              "    </tr>\n",
              "    <tr>\n",
              "      <th>4</th>\n",
              "      <td>1.04</td>\n",
              "      <td>3.24</td>\n",
              "      <td>6.34008</td>\n",
              "    </tr>\n",
              "  </tbody>\n",
              "</table>\n",
              "</div>\n",
              "    <div class=\"colab-df-buttons\">\n",
              "\n",
              "  <div class=\"colab-df-container\">\n",
              "    <button class=\"colab-df-convert\" onclick=\"convertToInteractive('df-3f922601-5960-4f7f-97a6-cf0bc871a199')\"\n",
              "            title=\"Convert this dataframe to an interactive table.\"\n",
              "            style=\"display:none;\">\n",
              "\n",
              "  <svg xmlns=\"http://www.w3.org/2000/svg\" height=\"24px\" viewBox=\"0 -960 960 960\">\n",
              "    <path d=\"M120-120v-720h720v720H120Zm60-500h600v-160H180v160Zm220 220h160v-160H400v160Zm0 220h160v-160H400v160ZM180-400h160v-160H180v160Zm440 0h160v-160H620v160ZM180-180h160v-160H180v160Zm440 0h160v-160H620v160Z\"/>\n",
              "  </svg>\n",
              "    </button>\n",
              "\n",
              "  <style>\n",
              "    .colab-df-container {\n",
              "      display:flex;\n",
              "      gap: 12px;\n",
              "    }\n",
              "\n",
              "    .colab-df-convert {\n",
              "      background-color: #E8F0FE;\n",
              "      border: none;\n",
              "      border-radius: 50%;\n",
              "      cursor: pointer;\n",
              "      display: none;\n",
              "      fill: #1967D2;\n",
              "      height: 32px;\n",
              "      padding: 0 0 0 0;\n",
              "      width: 32px;\n",
              "    }\n",
              "\n",
              "    .colab-df-convert:hover {\n",
              "      background-color: #E2EBFA;\n",
              "      box-shadow: 0px 1px 2px rgba(60, 64, 67, 0.3), 0px 1px 3px 1px rgba(60, 64, 67, 0.15);\n",
              "      fill: #174EA6;\n",
              "    }\n",
              "\n",
              "    .colab-df-buttons div {\n",
              "      margin-bottom: 4px;\n",
              "    }\n",
              "\n",
              "    [theme=dark] .colab-df-convert {\n",
              "      background-color: #3B4455;\n",
              "      fill: #D2E3FC;\n",
              "    }\n",
              "\n",
              "    [theme=dark] .colab-df-convert:hover {\n",
              "      background-color: #434B5C;\n",
              "      box-shadow: 0px 1px 3px 1px rgba(0, 0, 0, 0.15);\n",
              "      filter: drop-shadow(0px 1px 2px rgba(0, 0, 0, 0.3));\n",
              "      fill: #FFFFFF;\n",
              "    }\n",
              "  </style>\n",
              "\n",
              "    <script>\n",
              "      const buttonEl =\n",
              "        document.querySelector('#df-3f922601-5960-4f7f-97a6-cf0bc871a199 button.colab-df-convert');\n",
              "      buttonEl.style.display =\n",
              "        google.colab.kernel.accessAllowed ? 'block' : 'none';\n",
              "\n",
              "      async function convertToInteractive(key) {\n",
              "        const element = document.querySelector('#df-3f922601-5960-4f7f-97a6-cf0bc871a199');\n",
              "        const dataTable =\n",
              "          await google.colab.kernel.invokeFunction('convertToInteractive',\n",
              "                                                    [key], {});\n",
              "        if (!dataTable) return;\n",
              "\n",
              "        const docLinkHtml = 'Like what you see? Visit the ' +\n",
              "          '<a target=\"_blank\" href=https://colab.research.google.com/notebooks/data_table.ipynb>data table notebook</a>'\n",
              "          + ' to learn more about interactive tables.';\n",
              "        element.innerHTML = '';\n",
              "        dataTable['output_type'] = 'display_data';\n",
              "        await google.colab.output.renderOutput(dataTable, element);\n",
              "        const docLink = document.createElement('div');\n",
              "        docLink.innerHTML = docLinkHtml;\n",
              "        element.appendChild(docLink);\n",
              "      }\n",
              "    </script>\n",
              "  </div>\n",
              "\n",
              "\n",
              "<div id=\"df-674b67e2-5609-44ec-979c-8bfad3f7ab0f\">\n",
              "  <button class=\"colab-df-quickchart\" onclick=\"quickchart('df-674b67e2-5609-44ec-979c-8bfad3f7ab0f')\"\n",
              "            title=\"Suggest charts\"\n",
              "            style=\"display:none;\">\n",
              "\n",
              "<svg xmlns=\"http://www.w3.org/2000/svg\" height=\"24px\"viewBox=\"0 0 24 24\"\n",
              "     width=\"24px\">\n",
              "    <g>\n",
              "        <path d=\"M19 3H5c-1.1 0-2 .9-2 2v14c0 1.1.9 2 2 2h14c1.1 0 2-.9 2-2V5c0-1.1-.9-2-2-2zM9 17H7v-7h2v7zm4 0h-2V7h2v10zm4 0h-2v-4h2v4z\"/>\n",
              "    </g>\n",
              "</svg>\n",
              "  </button>\n",
              "\n",
              "<style>\n",
              "  .colab-df-quickchart {\n",
              "      --bg-color: #E8F0FE;\n",
              "      --fill-color: #1967D2;\n",
              "      --hover-bg-color: #E2EBFA;\n",
              "      --hover-fill-color: #174EA6;\n",
              "      --disabled-fill-color: #AAA;\n",
              "      --disabled-bg-color: #DDD;\n",
              "  }\n",
              "\n",
              "  [theme=dark] .colab-df-quickchart {\n",
              "      --bg-color: #3B4455;\n",
              "      --fill-color: #D2E3FC;\n",
              "      --hover-bg-color: #434B5C;\n",
              "      --hover-fill-color: #FFFFFF;\n",
              "      --disabled-bg-color: #3B4455;\n",
              "      --disabled-fill-color: #666;\n",
              "  }\n",
              "\n",
              "  .colab-df-quickchart {\n",
              "    background-color: var(--bg-color);\n",
              "    border: none;\n",
              "    border-radius: 50%;\n",
              "    cursor: pointer;\n",
              "    display: none;\n",
              "    fill: var(--fill-color);\n",
              "    height: 32px;\n",
              "    padding: 0;\n",
              "    width: 32px;\n",
              "  }\n",
              "\n",
              "  .colab-df-quickchart:hover {\n",
              "    background-color: var(--hover-bg-color);\n",
              "    box-shadow: 0 1px 2px rgba(60, 64, 67, 0.3), 0 1px 3px 1px rgba(60, 64, 67, 0.15);\n",
              "    fill: var(--button-hover-fill-color);\n",
              "  }\n",
              "\n",
              "  .colab-df-quickchart-complete:disabled,\n",
              "  .colab-df-quickchart-complete:disabled:hover {\n",
              "    background-color: var(--disabled-bg-color);\n",
              "    fill: var(--disabled-fill-color);\n",
              "    box-shadow: none;\n",
              "  }\n",
              "\n",
              "  .colab-df-spinner {\n",
              "    border: 2px solid var(--fill-color);\n",
              "    border-color: transparent;\n",
              "    border-bottom-color: var(--fill-color);\n",
              "    animation:\n",
              "      spin 1s steps(1) infinite;\n",
              "  }\n",
              "\n",
              "  @keyframes spin {\n",
              "    0% {\n",
              "      border-color: transparent;\n",
              "      border-bottom-color: var(--fill-color);\n",
              "      border-left-color: var(--fill-color);\n",
              "    }\n",
              "    20% {\n",
              "      border-color: transparent;\n",
              "      border-left-color: var(--fill-color);\n",
              "      border-top-color: var(--fill-color);\n",
              "    }\n",
              "    30% {\n",
              "      border-color: transparent;\n",
              "      border-left-color: var(--fill-color);\n",
              "      border-top-color: var(--fill-color);\n",
              "      border-right-color: var(--fill-color);\n",
              "    }\n",
              "    40% {\n",
              "      border-color: transparent;\n",
              "      border-right-color: var(--fill-color);\n",
              "      border-top-color: var(--fill-color);\n",
              "    }\n",
              "    60% {\n",
              "      border-color: transparent;\n",
              "      border-right-color: var(--fill-color);\n",
              "    }\n",
              "    80% {\n",
              "      border-color: transparent;\n",
              "      border-right-color: var(--fill-color);\n",
              "      border-bottom-color: var(--fill-color);\n",
              "    }\n",
              "    90% {\n",
              "      border-color: transparent;\n",
              "      border-bottom-color: var(--fill-color);\n",
              "    }\n",
              "  }\n",
              "</style>\n",
              "\n",
              "  <script>\n",
              "    async function quickchart(key) {\n",
              "      const quickchartButtonEl =\n",
              "        document.querySelector('#' + key + ' button');\n",
              "      quickchartButtonEl.disabled = true;  // To prevent multiple clicks.\n",
              "      quickchartButtonEl.classList.add('colab-df-spinner');\n",
              "      try {\n",
              "        const charts = await google.colab.kernel.invokeFunction(\n",
              "            'suggestCharts', [key], {});\n",
              "      } catch (error) {\n",
              "        console.error('Error during call to suggestCharts:', error);\n",
              "      }\n",
              "      quickchartButtonEl.classList.remove('colab-df-spinner');\n",
              "      quickchartButtonEl.classList.add('colab-df-quickchart-complete');\n",
              "    }\n",
              "    (() => {\n",
              "      let quickchartButtonEl =\n",
              "        document.querySelector('#df-674b67e2-5609-44ec-979c-8bfad3f7ab0f button');\n",
              "      quickchartButtonEl.style.display =\n",
              "        google.colab.kernel.accessAllowed ? 'block' : 'none';\n",
              "    })();\n",
              "  </script>\n",
              "</div>\n",
              "    </div>\n",
              "  </div>\n"
            ],
            "application/vnd.google.colaboratory.intrinsic+json": {
              "type": "dataframe",
              "variable_name": "df",
              "summary": "{\n  \"name\": \"df\",\n  \"rows\": 5,\n  \"fields\": [\n    {\n      \"column\": \"Tiempo(s)\",\n      \"properties\": {\n        \"dtype\": \"number\",\n        \"std\": 0.01581138830084191,\n        \"min\": 1.0,\n        \"max\": 1.04,\n        \"num_unique_values\": 5,\n        \"samples\": [\n          1.01,\n          1.04,\n          1.02\n        ],\n        \"semantic_type\": \"\",\n        \"description\": \"\"\n      }\n    },\n    {\n      \"column\": \"Corriente (A)\",\n      \"properties\": {\n        \"dtype\": \"number\",\n        \"std\": 0.055497747702046483,\n        \"min\": 3.1,\n        \"max\": 3.24,\n        \"num_unique_values\": 5,\n        \"samples\": [\n          3.12,\n          3.24,\n          3.14\n        ],\n        \"semantic_type\": \"\",\n        \"description\": \"\"\n      }\n    },\n    {\n      \"column\": \"fem(v)\",\n      \"properties\": {\n        \"dtype\": \"number\",\n        \"std\": 1.7879198710009347,\n        \"min\": 2.4002,\n        \"max\": 6.3400799999999995,\n        \"num_unique_values\": 5,\n        \"samples\": [\n          2.40304,\n          6.3400799999999995,\n          3.38588\n        ],\n        \"semantic_type\": \"\",\n        \"description\": \"\"\n      }\n    }\n  ]\n}"
            }
          },
          "metadata": {},
          "execution_count": 6
        }
      ]
    },
    {
      "cell_type": "code",
      "source": [
        "plt.plot(df[\"Tiempo(s)\"],df[\"Corriente (A)\"],\"ro-\")\n",
        "plt.grid()\n",
        "plt.title(\"I vs T\")"
      ],
      "metadata": {
        "colab": {
          "base_uri": "https://localhost:8080/",
          "height": 469
        },
        "id": "kcmxcyYB0Fta",
        "outputId": "b2437b0a-de83-4cb4-d0be-f6b4dffb3b3e"
      },
      "execution_count": 7,
      "outputs": [
        {
          "output_type": "execute_result",
          "data": {
            "text/plain": [
              "Text(0.5, 1.0, 'I vs T')"
            ]
          },
          "metadata": {},
          "execution_count": 7
        },
        {
          "output_type": "display_data",
          "data": {
            "text/plain": [
              "<Figure size 640x480 with 1 Axes>"
            ],
            "image/png": "[encoded data removed]"
          },
          "metadata": {}
        }
      ]
    },
    {
      "cell_type": "code",
      "source": [
        "# se determina el polinomio de lagrange de la corriente I\n",
        "pol= lagrange(t,df[\"Corriente (A)\"])\n",
        "\n",
        "h = 1e-6\n",
        "x=np.linspace(1,1.04,100)\n",
        "\n",
        "# el metodo para derivar, los que nos piden\n",
        "\n",
        "def derivada_I(pol,x,h):\n",
        "  f_prima = (1 / (2*h)) * ((-3)* pol(x) + 4*pol(x+h)- pol(x + 2*h))\n",
        "  return f_prima"
      ],
      "metadata": {
        "id": "GAJpxiIk2iWX"
      },
      "execution_count": 8,
      "outputs": []
    },
    {
      "cell_type": "code",
      "source": [
        "f=derivada_I(pol,x,h)\n",
        "plt.plot(df[\"Tiempo(s)\"],derivada, label=\"Por metodo gradient\")\n",
        "plt.xlabel(\"Tiempo (s)\")\n",
        "plt.ylabel(\"Derivada numerica(Fem V)\")\n",
        "plt.title(\"Derivada numerica(Fem V) vs tiempo\")\n",
        "plt.plot(x,f, label=\"Por metodo numerico\")\n",
        "plt.legend(loc=\"best\")\n",
        "plt.grid()\n"
      ],
      "metadata": {
        "colab": {
          "base_uri": "https://localhost:8080/",
          "height": 472
        },
        "id": "zgz98ucg3t_2",
        "outputId": "2fd50755-19b4-4db6-d9e6-f85283217434"
      },
      "execution_count": 9,
      "outputs": [
        {
          "output_type": "display_data",
          "data": {
            "text/plain": [
              "<Figure size 640x480 with 1 Axes>"
            ],
            "image/png": "[encoded data removed]"
          },
          "metadata": {}
        }
      ]
    },
    {
      "cell_type": "markdown",
      "metadata": {
        "id": "yyh50GiIux2j"
      },
      "source": [
        "##**Parte 2**\n",
        "\n",
        "1. Escribir en código Markdown la expresión para calcular una integral con la regla del trapecio.\n",
        "\n",
        "2. Escribir en código Markdown la expresión para calcular una integral con la regla del simpson.\n",
        "\n",
        "3. Escribir en código Markdown la expresión para calcular una integral con el metodo de cuadratura.\n",
        "\n",
        "4. Calcular una aproximación con el metodo 1,2,3 de las siguientes integrales"
      ]
    },
    {
      "cell_type": "markdown",
      "metadata": {
        "id": "j3rJW3FevAeC"
      },
      "source": [
        "---\n",
        "a)\n",
        "$$\n",
        " \\int_0^{\\pi/2} \\frac{1}{\\sqrt{\\tan x}}\\mathrm{dx}\n",
        " $$\n",
        "\n",
        "----\n",
        "b)\n",
        "$$\n",
        " \\int_{1}^{\\infty} \\frac{\\cos x}{x^3}\\mathrm{dx}\n",
        " $$\n",
        "\n",
        "\n",
        "----\n",
        "c)\n",
        "$$\n",
        " \\int_{0}^{\\pi/4} \\int_{0}^{\\sin x} \\frac{1}{\\sqrt{1-y^2}}\\mathrm{dxdy}\n",
        " $$\n",
        "\n",
        "---\n",
        "\n",
        "Garantizando  que el error sea menor a $\\varepsilon=1\\times 10^{-5}$."
      ]
    },
    {
      "cell_type": "markdown",
      "source": [
        "**SOLUCION**"
      ],
      "metadata": {
        "id": "UOIqW1H472E_"
      }
    },
    {
      "cell_type": "markdown",
      "source": [
        "1)Escribir en código Markdown la expresión para calcular una integral con la regla del trapecio"
      ],
      "metadata": {
        "id": "zOnitt1Q7vRU"
      }
    },
    {
      "cell_type": "markdown",
      "source": [
        "---\n",
        "$$\n",
        "\\int_a^{b}f(x)\\mathrm{dx} ≈ (b-a)× \\frac{f(b)+f(a)}{2}\n",
        " $$\n",
        "\n",
        "----"
      ],
      "metadata": {
        "id": "tCzlQc9p5Tkx"
      }
    },
    {
      "cell_type": "markdown",
      "source": [
        "El error es: $E=\\frac{-1}{12}f^{(2)}(ξ)×(b-a)^3$"
      ],
      "metadata": {
        "id": "-EIgDIVYQHxm"
      }
    },
    {
      "cell_type": "markdown",
      "source": [
        "2)Escribir en código Markdown la expresión para calcular una integral con la regla del simpson 1/3 compuesta"
      ],
      "metadata": {
        "id": "yKlPJX9P88k2"
      }
    },
    {
      "cell_type": "markdown",
      "source": [
        "---\n",
        "$$\n",
        "\\int_a^{b}f(x)\\mathrm{dx} ≈ \\frac{b-a}{3n} \\times (f(a) + 2\\sum_{i=1}^{\\frac{n}{2}-1}f(x_ipares) + 4\\sum_{i=1}^{\\frac{n}{2}}f(x_iimpares)  + f(b))\n",
        "$$\n",
        "\n",
        "----\n",
        "\n",
        "\n",
        "----"
      ],
      "metadata": {
        "id": "wgUkAg8T9FfQ"
      }
    },
    {
      "cell_type": "markdown",
      "source": [
        "3) Escribir en código Markdown la expresión para calcular una integral con el metodo de cuadratura."
      ],
      "metadata": {
        "id": "u7ARRe2MNmEl"
      }
    },
    {
      "cell_type": "markdown",
      "source": [
        "---\n",
        "Se utilizan los polinomios de Legendre obtenidos con la formula de Rodrigues que se expone a continuación:\n",
        "$$\n",
        "P_n(x) = \\frac{1}{2^n\\times n!} × \\frac{d^n}{dx^n}[(x^2-1)^n]\n",
        "$$\n",
        "\n",
        "Con el polinomio de Legendre se obtienen sus raices xi  y a partir de su derivada una expresión llamada Gauss-Legendre para obtener los pesos wi:\n",
        "$$\n",
        "w_i = \\frac{2}{(1-x_i^2)(P'(x_i))^2}\n",
        "$$\n",
        "\n",
        "\n",
        "Asimismo, con los valores de  xi se puede obtener yi a través de la siguiente parametrizacion_\n",
        "$$\n",
        "y_i = \\frac{b-a}{2}x_i + \\frac{b+a}{2}\n",
        "$$\n",
        "\n",
        "Finalmente con wi y yi se puede determinar la integral numerica con la siguiente expresión\n",
        "\n",
        "$$\n",
        "\\int_a^{b}f(x)\\mathrm{dx} ≈\\frac{b-a}{2}×\\sum_{i=1}^{n}w_{i}f(y_i)\n",
        "$$\n",
        "\n",
        "----"
      ],
      "metadata": {
        "id": "81EVbCJQd2Uu"
      }
    },
    {
      "cell_type": "markdown",
      "source": [
        "4)Calcular una aproximación con el metodo 1,2,3 de las siguientes integrales"
      ],
      "metadata": {
        "id": "_zZodNebmLGU"
      }
    },
    {
      "cell_type": "markdown",
      "source": [
        "Metodo del trapecio para la integral: $$\n",
        " \\int_0^{\\pi/2} \\frac{1}{\\sqrt{\\tan x}}\\mathrm{dx}\n",
        " $$\n"
      ],
      "metadata": {
        "id": "6gvRfFCsmUbF"
      }
    },
    {
      "cell_type": "code",
      "source": [
        "fun = lambda x : 1 / ((np.tan(x))**0.5)\n",
        "a = 1e-9\n",
        "\n",
        "b = np.pi/2\n",
        "\n",
        "n = 1000000\n",
        "\n",
        "\n",
        "x_ = np.linspace(a,b,n)\n",
        "\n",
        "def integral_trapa(f,a,b,n,x):\n",
        "  suma = 0\n",
        "  for i in range(1,n,1):\n",
        "    suma = suma + f(x_[i])\n",
        "\n",
        "  inte = ((b-a)/(2*n))* (f(a) + f(b) + 2*suma)\n",
        "  return inte"
      ],
      "metadata": {
        "id": "a5LODNGD_DQP"
      },
      "execution_count": 10,
      "outputs": []
    },
    {
      "cell_type": "code",
      "source": [
        "i= integral_trapa(fun,a,b,n,x_)\n",
        "\n",
        "# se usa el metodo predeterminado por python\n",
        "it= integrate.trapezoid(fun(x_),x_)\n",
        "error = abs(i-it)\n",
        "print(\"El valor de la integral por metodo de trapecio que yo hice es \", round(i,8))\n",
        "print(\"El valor de la integral por metodo de trapecio por integrate.trapezoid es \", round(it,8))\n",
        "print(\"El error  es \", error,\"mucho menor que epsilon=1E-5\")"
      ],
      "metadata": {
        "colab": {
          "base_uri": "https://localhost:8080/"
        },
        "id": "-HscnEyUCIsE",
        "outputId": "b8b0fcaf-dc37-4118-9484-17264f378037"
      },
      "execution_count": 11,
      "outputs": [
        {
          "output_type": "stream",
          "name": "stdout",
          "text": [
            "El valor de la integral por metodo de trapecio que yo hice es  2.24444439\n",
            "El valor de la integral por metodo de trapecio por integrate.trapezoid es  2.24444664\n",
            "El error  es  2.2444466614146563e-06 mucho menor que epsilon=1E-5\n"
          ]
        }
      ]
    },
    {
      "cell_type": "markdown",
      "source": [
        "Metodo de la regla de Simpson para la integral:\n",
        "$$\n",
        " \\int_0^{\\pi/2} \\frac{1}{\\sqrt{\\tan x}}\\mathrm{dx}\n",
        " $$\n"
      ],
      "metadata": {
        "id": "2-mvHvhO3M49"
      }
    },
    {
      "cell_type": "code",
      "source": [
        "def integral_simpson(fun,a,b,n):\n",
        "  h=(b-a)/n\n",
        "  xs = np.arange(a,b,h)\n",
        "  xs_pares = xs[2: :2]\n",
        "  xs_impares =xs[1 : :2]\n",
        "  i = (h/3) * (fun(a) + 2*np.sum(fun(xs_pares)) + 4*np.sum(fun(xs_impares)) + fun(b))\n",
        "  return i\n"
      ],
      "metadata": {
        "id": "QRSO-AHCde5A"
      },
      "execution_count": 12,
      "outputs": []
    },
    {
      "cell_type": "code",
      "source": [
        "intsimp =integral_simpson(fun,a,b,1000000)"
      ],
      "metadata": {
        "id": "DeHBqaNYd37n"
      },
      "execution_count": 13,
      "outputs": []
    },
    {
      "cell_type": "code",
      "source": [
        "# se usa el metodo predeterminado por python\n",
        "iss= integrate.simpson(fun(x_),x_)\n",
        "errors = abs(intsimp -iss)\n",
        "print(\"El valor de la integral por metodo de simpson que yo hice es \", round(intsimp,14))\n",
        "print(\"El valor de la integral por metodo integrate.simpson  es \", round(iss,14))\n",
        "print(\"El error es \", errors,\"mucho menor que epsilon=1E-5\")"
      ],
      "metadata": {
        "colab": {
          "base_uri": "https://localhost:8080/"
        },
        "id": "5bOfxSwQXYdu",
        "outputId": "9ca6eda6-bcf0-46b7-a5c8-200e542daf79"
      },
      "execution_count": 14,
      "outputs": [
        {
          "output_type": "stream",
          "name": "stdout",
          "text": [
            "El valor de la integral por metodo de simpson que yo hice es  2.23642039878171\n",
            "El valor de la integral por metodo integrate.simpson  es  2.2364204144765\n",
            "El error es  1.5694791244413864e-08 mucho menor que epsilon=1E-5\n"
          ]
        }
      ]
    },
    {
      "cell_type": "markdown",
      "source": [
        "Metodo de la cuadratura para la integral:\n",
        "$$\n",
        " \\int_0^{\\pi/2} \\frac{1}{\\sqrt{\\tan x}}\\mathrm{dx}\n",
        " $$\n",
        "\n",
        "\n",
        "\n"
      ],
      "metadata": {
        "id": "iFaHeo1Ee7Wl"
      }
    },
    {
      "cell_type": "code",
      "source": [
        "# polinomio de legendre y sus raices\n",
        "# El codigo puede demorar un poco en cargar\n",
        "\n",
        "def pol_legendre(n):\n",
        "  x = sp.symbols(\"x\")\n",
        "  multi = 1 / ((2**n)*sp.factorial(n))\n",
        "  f = (x**2-1)**n\n",
        "  derivada_expr = sp.diff(f, 'x',n)\n",
        "  pol = multi* derivada_expr\n",
        "  return pol\n",
        "\n",
        "# polinomio grado n\n",
        "pol=pol_legendre(50)\n",
        "\n",
        "\n",
        "print(f\"El polinomio de legendre es \",pol)\n",
        "raices = sp.solve(pol, sp.symbols(\"x\"))\n",
        "raices= np.array([float(raiz) for raiz in raices])\n",
        "#print(\"Sus raices son \", raices)"
      ],
      "metadata": {
        "colab": {
          "base_uri": "https://localhost:8080/"
        },
        "id": "aFDNkDf6J9Og",
        "outputId": "c7cc9793-468e-488f-89c5-327d3c4bb31f"
      },
      "execution_count": 15,
      "outputs": [
        {
          "output_type": "stream",
          "name": "stdout",
          "text": [
            "El polinomio de legendre es  (140737488355328*x**50 + 86201711617638400*x**48*(x**2 - 1) + 12154441338087014400*x**46*(x**2 - 1)**2 + 698880376940003328000*x**44*(x**2 - 1)**3 + 20660651143288848384000*x**42*(x**2 - 1)**4 + 355776412687433969172480*x**40*(x**2 - 1)**5 + 3854244470780534666035200*x**38*(x**2 - 1)**6 + 27648304724068529287987200*x**36*(x**2 - 1)**7 + 136081499813774792589312000*x**34*(x**2 - 1)**8 + 471245193799553448411136000*x**32*(x**2 - 1)**9 + 1168688080622892552059617280*x**30*(x**2 - 1)**10 + 2100740971367596116305510400*x**28*(x**2 - 1)**11 + 2757222524919969902650982400*x**26*(x**2 - 1)**12 + 2651175504730740291010560000*x**24*(x**2 - 1)**13 + 1866643977820623266119680000*x**22*(x**2 - 1)**14 + 958210575281253276608102400*x**20*(x**2 - 1)**15 + 355585955670777583116288000*x**18*(x**2 - 1)**16 + 94125694148147007295488000*x**16*(x**2 - 1)**17 + 17430684101508705054720000*x**14*(x**2 - 1)**18 + 2196942178999019612160000*x**12*(x**2 - 1)**19 + 181247729767419118003200*x**10*(x**2 - 1)**20 + 9247333151398934592000*x**8*(x**2 - 1)**21 + 267484843222283232000*x**6*(x**2 - 1)**22 + 3792318193132560000*x**4*(x**2 - 1)**23 + 19751657255898750*x**2*(x**2 - 1)**24 + 15801325804719*(x**2 - 1)**25)/140737488355328\n"
          ]
        }
      ]
    },
    {
      "cell_type": "code",
      "source": [
        "derivada_pol = sp.diff(pol,'x')\n",
        "#print(\"La derivada del polinoio de Legendre es\", derivada_pol)"
      ],
      "metadata": {
        "id": "fRwb1bQJeVUA"
      },
      "execution_count": 16,
      "outputs": []
    },
    {
      "cell_type": "code",
      "source": [
        "# convierto la derivada a numpy\n",
        "x = sp.symbols(\"x\")\n",
        "d2= sp.lambdify(x,derivada_pol, 'numpy')\n",
        "\n",
        "# aplica la formula de Gauss-Legendre para optener los pesos\n",
        "w=np.zeros_like(raices)\n",
        "def pesos(raices,derivada):\n",
        "  for i in range(len(w)):\n",
        "    w[i] = 2/ ((d2(raices[i]))**2 * (1-(raices[i])**2))\n",
        "  return w\n",
        "\n",
        "w = pesos(raices,derivada)\n",
        "#print(\"Los pesos son \", w)\n"
      ],
      "metadata": {
        "id": "Xwm26jvS2TZj"
      },
      "execution_count": 17,
      "outputs": []
    },
    {
      "cell_type": "code",
      "source": [
        "# se obtienen los yi\n",
        "b=np.pi/2\n",
        "a =0\n",
        "ys = ((b-a)/2)*raices + ((b+a)/2)"
      ],
      "metadata": {
        "id": "RExe-a5dOhQ0"
      },
      "execution_count": 18,
      "outputs": []
    },
    {
      "cell_type": "code",
      "source": [
        "# aplico la sumatoria para hallarla integral\n",
        "fs = np.array([fun(ys[i]) for i in range(len(raices))])\n",
        "integral_cuad= (np.sum(fs*w))*(b-a)/2\n",
        "\n",
        "\n",
        "print(\"El valor de la integral por el metodo de cuadratura yo hice es \", integral_cuad)\n",
        "print(\"El valor de la integral por metodo de cuadratura establecido en python es \",integrate.quad(fun,0,np.pi/2)[0])\n",
        "print(\"La diferencia entre los dos es \", abs(integral_cuad -integrate.quad(fun,0,np.pi/2)[0]))\n",
        "print(\"Si se requiere mayor exactitud se debe aumentar el n del polinomio de legendre pero demora en cargar\")"
      ],
      "metadata": {
        "colab": {
          "base_uri": "https://localhost:8080/"
        },
        "id": "Wp97gRqb8QyN",
        "outputId": "6dc8e296-9554-4ddd-e169-dbff7ea54221"
      },
      "execution_count": 19,
      "outputs": [
        {
          "output_type": "stream",
          "name": "stdout",
          "text": [
            "El valor de la integral por el metodo de cuadratura yo hice es  2.199834019179996\n",
            "El valor de la integral por metodo de cuadratura establecido en python es  2.2214414690792026\n",
            "La diferencia entre los dos es  0.02160744989920671\n",
            "Si se requiere mayor exactitud se debe aumentar el n del polinomio de legendre pero demora en cargar\n"
          ]
        }
      ]
    },
    {
      "cell_type": "markdown",
      "source": [
        "Integral de\n",
        "$$\n",
        " \\int_{1}^{\\infty} \\frac{\\cos x}{x^3}\\mathrm{dx}\n",
        " $$\n",
        " por metodo del trapecio\n"
      ],
      "metadata": {
        "id": "m7H-zdZRe4P-"
      }
    },
    {
      "cell_type": "code",
      "source": [
        "fun2 = lambda x : (np.cos(x)) / (x**3)\n",
        "a = 1\n",
        "\n",
        "b = 1e2\n",
        "\n",
        "n = 100000\n",
        "\n",
        "\n",
        "x_ = np.linspace(a,b,n)\n"
      ],
      "metadata": {
        "id": "zmn0I7BjZT8e"
      },
      "execution_count": 20,
      "outputs": []
    },
    {
      "cell_type": "code",
      "source": [
        "from scipy import integrate\n",
        "i= integral_trapa(fun2,a,b,n,x_)\n",
        "\n",
        "# se usa el metodo predeterminado por python\n",
        "it= integrate.trapezoid(fun2(x_),x_)\n",
        "error = abs(i-it)\n",
        "print(\"El valor de la integral por metodo de trapecio es \", round(i,14))\n",
        "print(\"El valor de la integral usando integrate.trapezoid  es \", round(it,14))\n",
        "print(\"Ls diferencia entre los valores, osea el error  es \", error,\", mucho menor que epsilon=1E-5\")"
      ],
      "metadata": {
        "colab": {
          "base_uri": "https://localhost:8080/"
        },
        "id": "jd4frUcyeZN2",
        "outputId": "c21191d8-5d51-432a-c41b-600cc4218616"
      },
      "execution_count": 21,
      "outputs": [
        {
          "output_type": "stream",
          "name": "stdout",
          "text": [
            "El valor de la integral por metodo de trapecio es  0.01811711120223\n",
            "El valor de la integral usando integrate.trapezoid  es  0.01811729152145\n",
            "Ls diferencia entre los valores, osea el error  es  1.8031921960107167e-07 , mucho menor que epsilon=1E-5\n"
          ]
        }
      ]
    },
    {
      "cell_type": "code",
      "source": [
        "from sympy import pi, oo, tan, symbols, integrate"
      ],
      "metadata": {
        "id": "egx87vK6LBxe"
      },
      "execution_count": 22,
      "outputs": []
    },
    {
      "cell_type": "code",
      "source": [
        "# comparacion con el valor obtenido con symbol\n",
        "x2 = sp.symbols(\"x2\")\n",
        "f2 = sp.cos(x2) / (x2**3)\n",
        "I = integrate(f2,(x2,1,oo)).evalf()\n",
        "print(\"La integral obtenida  con symbol  es \", I)\n",
        "print(\"La diferencia del valor obtenido con la  funcion que yo hice, con respecto a la integral calculada con symbol es \", abs(i-I))"
      ],
      "metadata": {
        "colab": {
          "base_uri": "https://localhost:8080/"
        },
        "id": "cKUKszzD1cUe",
        "outputId": "8f7e288c-7f7b-4cc8-af22-d462809a0dac"
      },
      "execution_count": 23,
      "outputs": [
        {
          "output_type": "stream",
          "name": "stdout",
          "text": [
            "La integral obtenida  con symbol  es  0.0181176219806057\n",
            "La diferencia del valor obtenido con la  funcion que yo hice, con respecto a la integral calculada con symbol es  5.10778376816567e-7\n"
          ]
        }
      ]
    },
    {
      "cell_type": "markdown",
      "source": [
        "Integral de\n",
        "$$\n",
        " \\int_{1}^{\\infty} \\frac{\\cos x}{x^3}\\mathrm{dx}\n",
        " $$\n",
        " por metodo simpson"
      ],
      "metadata": {
        "id": "rAwrmzFbgFEp"
      }
    },
    {
      "cell_type": "code",
      "source": [
        "from scipy import integrate\n",
        "is2 = integral_simpson(fun2,a,b,n)\n",
        "iss2 = integrate.simpson(fun2(x_),x_)\n",
        "print(\"El valor de la integral por metodo de simpson que hice es \", round(is2,14))\n",
        "print(\"El valor de la integral usando integrate.simpson  es \", round(iss2,14))\n",
        "print(\"Ls diferencia entre los valores, osea el error  es \", error,\", mucho menor que epsilon=1E-5\")"
      ],
      "metadata": {
        "colab": {
          "base_uri": "https://localhost:8080/"
        },
        "id": "s5LkGjN4gN0W",
        "outputId": "ac5770bd-843a-483f-efc8-47117f8e02da"
      },
      "execution_count": 24,
      "outputs": [
        {
          "output_type": "stream",
          "name": "stdout",
          "text": [
            "El valor de la integral por metodo de simpson que hice es  0.01811709040305\n",
            "El valor de la integral usando integrate.simpson  es  0.01811709040305\n",
            "Ls diferencia entre los valores, osea el error  es  1.8031921960107167e-07 , mucho menor que epsilon=1E-5\n"
          ]
        }
      ]
    },
    {
      "cell_type": "markdown",
      "source": [
        "Integral de\n",
        "$$\n",
        " \\int_{1}^{\\infty} \\frac{\\cos x}{x^3}\\mathrm{dx}\n",
        " $$\n",
        " por metodo de la cuadratura"
      ],
      "metadata": {
        "id": "qgVlbpBWk3XF"
      }
    },
    {
      "cell_type": "code",
      "source": [
        "iq = integrate.quad(fun2,1,100)[0]\n",
        "print(\"El valor de la integral por metodo de cuadratura integrate.quad es \", iq)\n",
        "print(\"El valor de la integral con symbol es \", I)\n",
        "print(\" El error es \",abs(iq-I), \"mucho menor que 1e-5\")"
      ],
      "metadata": {
        "colab": {
          "base_uri": "https://localhost:8080/"
        },
        "id": "mJV-w0Usk6YR",
        "outputId": "5ab7c8d6-257a-4ff5-f7be-40a7f0ebb9b1"
      },
      "execution_count": 25,
      "outputs": [
        {
          "output_type": "stream",
          "name": "stdout",
          "text": [
            "El valor de la integral por metodo de cuadratura integrate.quad es  0.01811709040274776\n",
            "El valor de la integral con symbol es  0.0181176219806057\n",
            " El error es  5.31577857912358e-7 mucho menor que 1e-5\n"
          ]
        }
      ]
    },
    {
      "cell_type": "markdown",
      "source": [
        "La integral de\n",
        "$$\n",
        " \\int_{0}^{\\pi/4} \\int_{0}^{\\sin x} \\frac{1}{\\sqrt{1-y^2}}\\mathrm{dydx}\n",
        " $$"
      ],
      "metadata": {
        "id": "QN_Qk8fb4BS8"
      }
    },
    {
      "cell_type": "code",
      "source": [
        "from sympy import pi, oo, tan, symbols, integrate\n",
        "y = symbols(\"y\")\n",
        "\n",
        "f3 = 1 / sp.sqrt(1-(y**2))\n",
        "I = integrate(f3, (y,0,sp.sin(x))).evalf()  #se evalua primero la parte de dy, porque simbolicamente el resultado esuna función que dependerá de x\n",
        "II = integrate(I,(x,0, pi/4)).evalf()  #se evalua la función resultante de la integración anterioir en los limites de la variable x\n",
        "print(\"El valor de la integral doble es\", II)"
      ],
      "metadata": {
        "colab": {
          "base_uri": "https://localhost:8080/"
        },
        "id": "a087iz5F4AyB",
        "outputId": "13f6d2e2-ccae-45bb-cc1b-500e880f2b9f"
      },
      "execution_count": 26,
      "outputs": [
        {
          "output_type": "stream",
          "name": "stdout",
          "text": [
            "El valor de la integral doble es 0.308425137534042\n"
          ]
        }
      ]
    },
    {
      "cell_type": "markdown",
      "metadata": {
        "id": "pvB9I2lavCdW"
      },
      "source": [
        "## Parte 3\n",
        "\n",
        "Un péndulo físico en el regimen de pequeñas oscilaciones tiene un periodo de:\n",
        "\n",
        "\\begin{equation}\n",
        "P_0=2\\pi \\sqrt{\\frac{I_0}{mgb}}\n",
        "\\end{equation}\n",
        "\n",
        "Cuando las oscilaciones no son pequeñas, podemos encontrar una expresión para el periodo como sigue:\n",
        "\n",
        "\n",
        "La energia de un péndulo físico viene dada por:\n",
        "\n",
        "\\begin{equation}\n",
        "E=\\frac{I_0\\omega^2}{2}+mgb(1-\\cos \\theta)\n",
        "\\end{equation}\n",
        "\n",
        "En el punto más alejado de su posición de equilibrio, su energía es solo potencial y viene dada por:\n",
        "\n",
        "\\begin{equation}\n",
        "Ep = mgb(1-\\cos \\theta),\n",
        "\\end{equation}\n",
        "\n",
        "Igualando ambas expresiones tenemos que:\n",
        "\n",
        "\\begin{equation}\n",
        "mgb(1-\\cos \\theta)=\\frac{I_0\\omega^2}{2}+mgb(1-\\cos \\theta)\n",
        "\\end{equation}\n",
        "\n",
        "Integrando la ecuación respecto a $\\theta$ y realizando la sustitución:\n",
        "\n",
        "$\\sin \\phi = \\frac{\\sin \\frac{\\theta}{2}}{\\sin \\frac{\\theta_0}{2}}$ y  $k = \\sin \\frac{\\theta_0}{2}$, se puede encontrar  que el periodo de oscilación, viene dado en terminos de  la integral elíptica completa de primera especie:\n",
        "\n",
        "\n",
        "\\begin{equation}\n",
        "P = \\frac{2P_0}{\\pi} \\int _0^{\\pi/2} \\frac{\\mathrm{d\\phi}}{\\sqrt{1-k^2\\sin^2\\phi}}\n",
        "\\end{equation}\n",
        "\n",
        "donde,  $P_0$ es el periodo de las oscilaciones pequeñas.\n",
        "\n",
        "Determinar el periodo de oscilación de un péndulo. Para ello:\n",
        "\n",
        "1. Suponga los párametros iniciales del pendulo.\n",
        "2. Realice una buena planificación del código para calcular la integral.\n",
        "3. Emplee un  método de integracion numérico que conozca.\n",
        "4. Compruebe su solucion con el valor exacto de la integral mostrado en el punto"
      ]
    },
    {
      "cell_type": "markdown",
      "source": [
        "Suponga los párametros iniciales del pendulo."
      ],
      "metadata": {
        "id": "ItrBQK0FzVUp"
      }
    },
    {
      "cell_type": "code",
      "source": [
        "\"\"\"Parametros iniciales\"\"\"\n",
        "#Momento de inercia con unidades de kg*m**2\n",
        "I0 = 0.5\n",
        "\n",
        "m = 1\n",
        "g = 9.8\n",
        "\n",
        "# b es la distancia del eje de rortación hasta el centro de gravedad  en metros\n",
        "b=1\n",
        "\n",
        "# theta_0  es el angulo inicial de donde comienza el movimeinto en radianes\n",
        "theta_0 = np.pi/6"
      ],
      "metadata": {
        "id": "0RR5RC4gvxoL"
      },
      "execution_count": 27,
      "outputs": []
    },
    {
      "cell_type": "code",
      "source": [
        "#calculo de P0 y valor de k\n",
        "P0 = 2 *np.pi * ((I0/(m*g*b))**0.5)\n",
        "k = np.sin((theta_0)/2)"
      ],
      "metadata": {
        "id": "RkZkjsIczkt1"
      },
      "execution_count": 28,
      "outputs": []
    },
    {
      "cell_type": "code",
      "source": [
        "from scipy import integrate"
      ],
      "metadata": {
        "id": "u3NcNDMCMcQC"
      },
      "execution_count": 29,
      "outputs": []
    },
    {
      "cell_type": "code",
      "source": [
        "# se determina P, primero se halla la integral:\n",
        "\"\"\" primero defino la funcion\"\"\"\n",
        "f = lambda theta: 1 / (1- (k**2) * ((np.sin(theta))**2))\n",
        "\n",
        "\"\"\" luego su dominio entre 0 y pi/2\"\"\"\n",
        "theta = np.linspace(1e-6,np.pi/2,100)\n",
        "\n",
        "\"\"\" integral por la funcion que defini como integral_trapa\"\"\"\n",
        "integral_metodo =integrate.trapezoid(f(theta),theta)\n",
        "periodo_metodo = integral_metodo * (2 * P0 / np.pi)\n",
        "print(\"El periodo es \", periodo_metodo,\"segundos\")\n"
      ],
      "metadata": {
        "colab": {
          "base_uri": "https://localhost:8080/"
        },
        "id": "BGeUQg6w0p7f",
        "outputId": "c75a28ef-2841-42f4-debd-94435b8e7536"
      },
      "execution_count": 30,
      "outputs": [
        {
          "output_type": "stream",
          "name": "stdout",
          "text": [
            "El periodo es  1.46929089559816 segundos\n"
          ]
        }
      ]
    },
    {
      "cell_type": "markdown",
      "metadata": {
        "id": "R2jgnjm4vd95"
      },
      "source": [
        "## Parte 4\n",
        "\n",
        "The next  problems are examples of how elliptic integrals enter into realistic physics problems. It is straightforward to evaluate any integral numerically using the techniques of this chapter, but it may be difficult for you to  know if the answers you obtain are correct. One way to hone your integral evaluating skills is to compare your answers from quadrature to power series\n",
        "expressions, or to a polynomial approximations of know precision. To help you in this regard, we present here a polynomial approximation for an elliptic integral (Abramowitz and Stegun, 1972):\n",
        "\n",
        "\\begin{equation}\n",
        "K(m)=\\int_{0}^{\\pi/2} \\frac{\\mathrm{d\\phi}}{\\sqrt{1-m\\sin^2\\phi}}\n",
        "\\end{equation}\n",
        "\n",
        "\\begin{equation}\n",
        "\\approx a_0+a_1m_1+a_2(m_1^2) +[ b_0+b_1m_1+b_2m_1^2]\\ln(\\frac{1}{m_1}) + \\epsilon(m)\n",
        "\\end{equation}\n",
        "\n",
        "\n",
        "* $m_1 = 1-m$,\n",
        "\n",
        "* $ 0 \\le m \\le1 $\n",
        "\n",
        "* $\\epsilon(m)\\leq 3\\times 10^{-5}$\n",
        "\n",
        "* $a_0 = 1.3862944$\n",
        "\n",
        "* $b_0 = 0.5$\n",
        "\n",
        "* $a_1 = 0.1119723$\n",
        "\n",
        "* $b_1 = 0.1213478$\n",
        "\n",
        "* $a_2 = 0.00725296$\n",
        "\n",
        "* $b_2 = 0.0288729$"
      ]
    },
    {
      "cell_type": "code",
      "source": [
        "m1 = 1-(k**2)\n",
        "a0 = 1.3862944\n",
        "b0 = 0.5\n",
        "a1 = 0.1119723\n",
        "b1 = 0.1213478\n",
        "a2 = 0.00725296\n",
        "b2 = 0.0288729\n",
        "e = 3e-5\n",
        "\n",
        "Km = a0 + a1*m1 + (a2*((m1)**2)) + (b0 + b1*m1 + (b2*(m1**2)))*np.log(1/m1) + e\n",
        " # se multiplica por 2P0/pi\n",
        "\n",
        "P = (2 * P0 / np.pi) * Km\n",
        "# se compara con el valor obtenido en el anterior resultado:\n",
        "print(\"El periodo obtenido con ese polinomio es \",round(P,3), \"segundos\")\n",
        "diferencia = abs(periodo_metodo - P)\n",
        "print(\"La diferencia entre los periodos obtenidos con el polinomio y con el metodo del trapecio es  \", round(diferencia,3),\"segundos\")\n"
      ],
      "metadata": {
        "colab": {
          "base_uri": "https://localhost:8080/"
        },
        "id": "YZ_sNKCZoM5d",
        "outputId": "6af8682f-adaf-4545-b8d2-00e29eee799a"
      },
      "execution_count": 31,
      "outputs": [
        {
          "output_type": "stream",
          "name": "stdout",
          "text": [
            "El periodo obtenido con ese polinomio es  1.393 segundos\n",
            "La diferencia entre los periodos obtenidos con el polinomio y con el metodo del trapecio es   0.077 segundos\n"
          ]
        }
      ]
    },
    {
      "cell_type": "markdown",
      "source": [
        "## Parte 5 (Opcional)\n",
        "\n",
        "Figure 5.7 shows a current loop of radius a carrying a current I. The point P\n",
        "is a distance r from the center of the loop with spherical coordinates (r, θ, φ).\n",
        "Jackson (1988) solves for the φ component of the vector potential at point P\n",
        "in terms of elliptic integrals:\n",
        "\n",
        "\\begin{equation}\n",
        "A_{\\phi}(r, \\theta)=\\frac{\\mu_0}{4\\pi}\\frac{4Ia}{\\sqrt{a^2+r^2+2ar\\sin \\theta}}\\left(\\frac{(2-k^2)K(k)-2E(k)}{k^2} \\right)\n",
        "\\end{equation}\n",
        "\n",
        "\n",
        "where\n",
        "\n",
        "\\begin{equation}\n",
        "K(k)=\\int_{0}^{\\pi/2} \\frac{\\mathrm{d\\phi}}{\\sqrt{1-k^2\\sin^2\\phi}}\n",
        "\\end{equation}\n",
        "\n",
        "\n",
        "\\begin{equation}\n",
        "E(k)=\\int_{0}^{\\pi/2} \\mathrm{d\\phi} \\sqrt{1-k^2\\sin^2\\phi}\n",
        "\\end{equation}\n",
        "\n",
        "\n",
        "\\begin{equation}\n",
        "k^2=\\frac{4ar\\sin\\theta}{a^2+r^2+2ar\\sin\\theta}\n",
        "\\end{equation}\n",
        "\n",
        "\n",
        "\n",
        "Here K(k) is a complete elliptic integral of the first kind and E(k) is a complete\n",
        "elliptic integral of the second kind. For a = 1, I = 3, and μ0∕4π = 1, compute\n",
        "and plot\n",
        "\n",
        "a) Aφ(r = 1.1, θ) vs. θ\n",
        "\n",
        "b) Aφ(r, θ = π∕3) vs. r"
      ],
      "metadata": {
        "id": "EN_4c-VVQgg9"
      }
    }
  ],
  "metadata": {
    "colab": {
      "provenance": []
    },
    "kernelspec": {
      "display_name": "Python 3 (ipykernel)",
      "language": "python",
      "name": "python3"
    },
    "language_info": {
      "codemirror_mode": {
        "name": "ipython",
        "version": 3
      },
      "file_extension": ".py",
      "mimetype": "text/x-python",
      "name": "python",
      "nbconvert_exporter": "python",
      "pygments_lexer": "ipython3",
      "version": "3.10.9"
    }
  },
  "nbformat": 4,
  "nbformat_minor": 0
}