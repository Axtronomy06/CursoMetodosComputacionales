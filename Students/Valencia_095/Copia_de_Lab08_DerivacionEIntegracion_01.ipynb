{
  "nbformat": 4,
  "nbformat_minor": 0,
  "metadata": {
    "colab": {
      "provenance": []
    },
    "kernelspec": {
      "display_name": "Python 3",
      "language": "python",
      "name": "python3"
    },
    "language_info": {
      "codemirror_mode": {
        "name": "ipython",
        "version": 3
      },
      "file_extension": ".py",
      "mimetype": "text/x-python",
      "name": "python",
      "nbconvert_exporter": "python",
      "pygments_lexer": "ipython3",
      "version": "3.7.2"
    }
  },
  "cells": [
    {
      "cell_type": "markdown",
      "source": [
        "<a href=\"https://colab.research.google.com/github/hernansalinas/autogrades/blob/main/Laboratorios_Taller/Lab08_DerivacionEIntegracion_01.ipynb\" target=\"_parent\"><img src=\"https://colab.research.google.com/assets/colab-badge.svg\" alt=\"Open In Colab\"/></a>\n"
      ],
      "metadata": {
        "id": "mfuoQaq5CYZG"
      }
    },
    {
      "cell_type": "markdown",
      "metadata": {
        "id": "8q4c8oS-hpaE"
      },
      "source": [
        "\n",
        "#1.Parte 1\n",
        "1. En un cirtcuito con un voltaje de  $\\varepsilon(t)$ y una inductancia de L, la primera ley de kirshhoff nos da la siguiente relación\n",
        "\n",
        "\n",
        "\\begin{equation}\n",
        "\\varepsilon(t) = L\\frac{\\mathrm{d}i}{\\mathrm{d}t} + Ri\n",
        "\\end{equation}\n",
        "\n",
        "donde r, es la resistencia del ciruito, i es la corriente. Suponga que medimos la corriente con varios valores de t y obtenemos:\n",
        "\n",
        "t = 1.00, 1.01, 1.02, 1.03, 1.0\n",
        "\n",
        "i = 3.10, 3.12, 3.14, 3.18, 3.24\n",
        "\n",
        "\n",
        "donde t se mide en segundos, i se de en amper, la inductancia L es una constante de 0.98 herios, la resistencia es de 0.142 ohms. Aproxime el votaje  $\\varepsilon(t)$ en los valores t=1.00, 1.01, 1.02, 1.03, 1.04 ,  para ello realice lo siguiente:\n",
        "\n",
        "\n",
        "- Construya un data frame de pandas con los valores de tiempo y corriente\n",
        "- Emplee un metodo calcular la derivada numérica.\n",
        "\n",
        "\n",
        "\n"
      ]
    },
    {
      "cell_type": "code",
      "source": [
        "import numpy as np\n",
        "import pandas as pd\n",
        "import sympy as sp\n",
        "import matplotlib.pylab as plt\n",
        "import scipy as sc"
      ],
      "metadata": {
        "id": "rVRNAjsRKSe8"
      },
      "execution_count": null,
      "outputs": []
    },
    {
      "cell_type": "code",
      "source": [
        "#Lista de valores de tiempo y corriente\n",
        "t=np.array([1.00,1.01,1.02,1.03,1.04])\n",
        "i=np.array([3.10,3.12,3.14,3.18,3.24])"
      ],
      "metadata": {
        "id": "FQsCdEt6KTQu"
      },
      "execution_count": null,
      "outputs": []
    },
    {
      "cell_type": "markdown",
      "source": [
        "Construya Data Frame de pandas con los valores de tiempo de corriente"
      ],
      "metadata": {
        "id": "RFj72Xb_KY--"
      }
    },
    {
      "cell_type": "code",
      "source": [
        "#Creación de un diccionario\n",
        "dicc={\"t\":t,\"i\":i}"
      ],
      "metadata": {
        "id": "BvQmpDOzKVoi"
      },
      "execution_count": null,
      "outputs": []
    },
    {
      "cell_type": "code",
      "source": [
        "df=pd.DataFrame(dicc)\n",
        "df"
      ],
      "metadata": {
        "colab": {
          "base_uri": "https://localhost:8080/",
          "height": 206
        },
        "id": "2q7J6pwNKdAF",
        "outputId": "67476938-f79f-4ec5-961a-e843d55a56d6"
      },
      "execution_count": null,
      "outputs": [
        {
          "output_type": "execute_result",
          "data": {
            "text/plain": [
              "      t     i\n",
              "0  1.00  3.10\n",
              "1  1.01  3.12\n",
              "2  1.02  3.14\n",
              "3  1.03  3.18\n",
              "4  1.04  3.24"
            ],
            "text/html": [
              "\n",
              "  <div id=\"df-8dfbd7b9-1a48-4910-8831-b3cf41477e2c\" class=\"colab-df-container\">\n",
              "    <div>\n",
              "<style scoped>\n",
              "    .dataframe tbody tr th:only-of-type {\n",
              "        vertical-align: middle;\n",
              "    }\n",
              "\n",
              "    .dataframe tbody tr th {\n",
              "        vertical-align: top;\n",
              "    }\n",
              "\n",
              "    .dataframe thead th {\n",
              "        text-align: right;\n",
              "    }\n",
              "</style>\n",
              "<table border=\"1\" class=\"dataframe\">\n",
              "  <thead>\n",
              "    <tr style=\"text-align: right;\">\n",
              "      <th></th>\n",
              "      <th>t</th>\n",
              "      <th>i</th>\n",
              "    </tr>\n",
              "  </thead>\n",
              "  <tbody>\n",
              "    <tr>\n",
              "      <th>0</th>\n",
              "      <td>1.00</td>\n",
              "      <td>3.10</td>\n",
              "    </tr>\n",
              "    <tr>\n",
              "      <th>1</th>\n",
              "      <td>1.01</td>\n",
              "      <td>3.12</td>\n",
              "    </tr>\n",
              "    <tr>\n",
              "      <th>2</th>\n",
              "      <td>1.02</td>\n",
              "      <td>3.14</td>\n",
              "    </tr>\n",
              "    <tr>\n",
              "      <th>3</th>\n",
              "      <td>1.03</td>\n",
              "      <td>3.18</td>\n",
              "    </tr>\n",
              "    <tr>\n",
              "      <th>4</th>\n",
              "      <td>1.04</td>\n",
              "      <td>3.24</td>\n",
              "    </tr>\n",
              "  </tbody>\n",
              "</table>\n",
              "</div>\n",
              "    <div class=\"colab-df-buttons\">\n",
              "\n",
              "  <div class=\"colab-df-container\">\n",
              "    <button class=\"colab-df-convert\" onclick=\"convertToInteractive('df-8dfbd7b9-1a48-4910-8831-b3cf41477e2c')\"\n",
              "            title=\"Convert this dataframe to an interactive table.\"\n",
              "            style=\"display:none;\">\n",
              "\n",
              "  <svg xmlns=\"http://www.w3.org/2000/svg\" height=\"24px\" viewBox=\"0 -960 960 960\">\n",
              "    <path d=\"M120-120v-720h720v720H120Zm60-500h600v-160H180v160Zm220 220h160v-160H400v160Zm0 220h160v-160H400v160ZM180-400h160v-160H180v160Zm440 0h160v-160H620v160ZM180-180h160v-160H180v160Zm440 0h160v-160H620v160Z\"/>\n",
              "  </svg>\n",
              "    </button>\n",
              "\n",
              "  <style>\n",
              "    .colab-df-container {\n",
              "      display:flex;\n",
              "      gap: 12px;\n",
              "    }\n",
              "\n",
              "    .colab-df-convert {\n",
              "      background-color: #E8F0FE;\n",
              "      border: none;\n",
              "      border-radius: 50%;\n",
              "      cursor: pointer;\n",
              "      display: none;\n",
              "      fill: #1967D2;\n",
              "      height: 32px;\n",
              "      padding: 0 0 0 0;\n",
              "      width: 32px;\n",
              "    }\n",
              "\n",
              "    .colab-df-convert:hover {\n",
              "      background-color: #E2EBFA;\n",
              "      box-shadow: 0px 1px 2px rgba(60, 64, 67, 0.3), 0px 1px 3px 1px rgba(60, 64, 67, 0.15);\n",
              "      fill: #174EA6;\n",
              "    }\n",
              "\n",
              "    .colab-df-buttons div {\n",
              "      margin-bottom: 4px;\n",
              "    }\n",
              "\n",
              "    [theme=dark] .colab-df-convert {\n",
              "      background-color: #3B4455;\n",
              "      fill: #D2E3FC;\n",
              "    }\n",
              "\n",
              "    [theme=dark] .colab-df-convert:hover {\n",
              "      background-color: #434B5C;\n",
              "      box-shadow: 0px 1px 3px 1px rgba(0, 0, 0, 0.15);\n",
              "      filter: drop-shadow(0px 1px 2px rgba(0, 0, 0, 0.3));\n",
              "      fill: #FFFFFF;\n",
              "    }\n",
              "  </style>\n",
              "\n",
              "    <script>\n",
              "      const buttonEl =\n",
              "        document.querySelector('#df-8dfbd7b9-1a48-4910-8831-b3cf41477e2c button.colab-df-convert');\n",
              "      buttonEl.style.display =\n",
              "        google.colab.kernel.accessAllowed ? 'block' : 'none';\n",
              "\n",
              "      async function convertToInteractive(key) {\n",
              "        const element = document.querySelector('#df-8dfbd7b9-1a48-4910-8831-b3cf41477e2c');\n",
              "        const dataTable =\n",
              "          await google.colab.kernel.invokeFunction('convertToInteractive',\n",
              "                                                    [key], {});\n",
              "        if (!dataTable) return;\n",
              "\n",
              "        const docLinkHtml = 'Like what you see? Visit the ' +\n",
              "          '<a target=\"_blank\" href=https://colab.research.google.com/notebooks/data_table.ipynb>data table notebook</a>'\n",
              "          + ' to learn more about interactive tables.';\n",
              "        element.innerHTML = '';\n",
              "        dataTable['output_type'] = 'display_data';\n",
              "        await google.colab.output.renderOutput(dataTable, element);\n",
              "        const docLink = document.createElement('div');\n",
              "        docLink.innerHTML = docLinkHtml;\n",
              "        element.appendChild(docLink);\n",
              "      }\n",
              "    </script>\n",
              "  </div>\n",
              "\n",
              "\n",
              "<div id=\"df-d2bf4fe8-5750-4d19-ba79-66e1d6325fda\">\n",
              "  <button class=\"colab-df-quickchart\" onclick=\"quickchart('df-d2bf4fe8-5750-4d19-ba79-66e1d6325fda')\"\n",
              "            title=\"Suggest charts.\"\n",
              "            style=\"display:none;\">\n",
              "\n",
              "<svg xmlns=\"http://www.w3.org/2000/svg\" height=\"24px\"viewBox=\"0 0 24 24\"\n",
              "     width=\"24px\">\n",
              "    <g>\n",
              "        <path d=\"M19 3H5c-1.1 0-2 .9-2 2v14c0 1.1.9 2 2 2h14c1.1 0 2-.9 2-2V5c0-1.1-.9-2-2-2zM9 17H7v-7h2v7zm4 0h-2V7h2v10zm4 0h-2v-4h2v4z\"/>\n",
              "    </g>\n",
              "</svg>\n",
              "  </button>\n",
              "\n",
              "<style>\n",
              "  .colab-df-quickchart {\n",
              "      --bg-color: #E8F0FE;\n",
              "      --fill-color: #1967D2;\n",
              "      --hover-bg-color: #E2EBFA;\n",
              "      --hover-fill-color: #174EA6;\n",
              "      --disabled-fill-color: #AAA;\n",
              "      --disabled-bg-color: #DDD;\n",
              "  }\n",
              "\n",
              "  [theme=dark] .colab-df-quickchart {\n",
              "      --bg-color: #3B4455;\n",
              "      --fill-color: #D2E3FC;\n",
              "      --hover-bg-color: #434B5C;\n",
              "      --hover-fill-color: #FFFFFF;\n",
              "      --disabled-bg-color: #3B4455;\n",
              "      --disabled-fill-color: #666;\n",
              "  }\n",
              "\n",
              "  .colab-df-quickchart {\n",
              "    background-color: var(--bg-color);\n",
              "    border: none;\n",
              "    border-radius: 50%;\n",
              "    cursor: pointer;\n",
              "    display: none;\n",
              "    fill: var(--fill-color);\n",
              "    height: 32px;\n",
              "    padding: 0;\n",
              "    width: 32px;\n",
              "  }\n",
              "\n",
              "  .colab-df-quickchart:hover {\n",
              "    background-color: var(--hover-bg-color);\n",
              "    box-shadow: 0 1px 2px rgba(60, 64, 67, 0.3), 0 1px 3px 1px rgba(60, 64, 67, 0.15);\n",
              "    fill: var(--button-hover-fill-color);\n",
              "  }\n",
              "\n",
              "  .colab-df-quickchart-complete:disabled,\n",
              "  .colab-df-quickchart-complete:disabled:hover {\n",
              "    background-color: var(--disabled-bg-color);\n",
              "    fill: var(--disabled-fill-color);\n",
              "    box-shadow: none;\n",
              "  }\n",
              "\n",
              "  .colab-df-spinner {\n",
              "    border: 2px solid var(--fill-color);\n",
              "    border-color: transparent;\n",
              "    border-bottom-color: var(--fill-color);\n",
              "    animation:\n",
              "      spin 1s steps(1) infinite;\n",
              "  }\n",
              "\n",
              "  @keyframes spin {\n",
              "    0% {\n",
              "      border-color: transparent;\n",
              "      border-bottom-color: var(--fill-color);\n",
              "      border-left-color: var(--fill-color);\n",
              "    }\n",
              "    20% {\n",
              "      border-color: transparent;\n",
              "      border-left-color: var(--fill-color);\n",
              "      border-top-color: var(--fill-color);\n",
              "    }\n",
              "    30% {\n",
              "      border-color: transparent;\n",
              "      border-left-color: var(--fill-color);\n",
              "      border-top-color: var(--fill-color);\n",
              "      border-right-color: var(--fill-color);\n",
              "    }\n",
              "    40% {\n",
              "      border-color: transparent;\n",
              "      border-right-color: var(--fill-color);\n",
              "      border-top-color: var(--fill-color);\n",
              "    }\n",
              "    60% {\n",
              "      border-color: transparent;\n",
              "      border-right-color: var(--fill-color);\n",
              "    }\n",
              "    80% {\n",
              "      border-color: transparent;\n",
              "      border-right-color: var(--fill-color);\n",
              "      border-bottom-color: var(--fill-color);\n",
              "    }\n",
              "    90% {\n",
              "      border-color: transparent;\n",
              "      border-bottom-color: var(--fill-color);\n",
              "    }\n",
              "  }\n",
              "</style>\n",
              "\n",
              "  <script>\n",
              "    async function quickchart(key) {\n",
              "      const quickchartButtonEl =\n",
              "        document.querySelector('#' + key + ' button');\n",
              "      quickchartButtonEl.disabled = true;  // To prevent multiple clicks.\n",
              "      quickchartButtonEl.classList.add('colab-df-spinner');\n",
              "      try {\n",
              "        const charts = await google.colab.kernel.invokeFunction(\n",
              "            'suggestCharts', [key], {});\n",
              "      } catch (error) {\n",
              "        console.error('Error during call to suggestCharts:', error);\n",
              "      }\n",
              "      quickchartButtonEl.classList.remove('colab-df-spinner');\n",
              "      quickchartButtonEl.classList.add('colab-df-quickchart-complete');\n",
              "    }\n",
              "    (() => {\n",
              "      let quickchartButtonEl =\n",
              "        document.querySelector('#df-d2bf4fe8-5750-4d19-ba79-66e1d6325fda button');\n",
              "      quickchartButtonEl.style.display =\n",
              "        google.colab.kernel.accessAllowed ? 'block' : 'none';\n",
              "    })();\n",
              "  </script>\n",
              "</div>\n",
              "    </div>\n",
              "  </div>\n"
            ]
          },
          "metadata": {},
          "execution_count": 4
        }
      ]
    },
    {
      "cell_type": "markdown",
      "source": [
        "Emplee un método calcular la derivada numérica"
      ],
      "metadata": {
        "id": "-uQEoU0ZKheU"
      }
    },
    {
      "cell_type": "code",
      "source": [
        "#Derivada de tiempo\n",
        "np.diff(t)"
      ],
      "metadata": {
        "colab": {
          "base_uri": "https://localhost:8080/"
        },
        "id": "BwM8KNY6KfQ7",
        "outputId": "41d344d5-161b-4076-ef87-06fe2e086f20"
      },
      "execution_count": null,
      "outputs": [
        {
          "output_type": "execute_result",
          "data": {
            "text/plain": [
              "array([0.01, 0.01, 0.01, 0.01])"
            ]
          },
          "metadata": {},
          "execution_count": 5
        }
      ]
    },
    {
      "cell_type": "code",
      "source": [
        "#Derivada de la corriente\n",
        "np.diff(i)"
      ],
      "metadata": {
        "colab": {
          "base_uri": "https://localhost:8080/"
        },
        "id": "FJsmsp5lKkHF",
        "outputId": "f509648f-487c-4c24-d137-44c6c009b133"
      },
      "execution_count": null,
      "outputs": [
        {
          "output_type": "execute_result",
          "data": {
            "text/plain": [
              "array([0.02, 0.02, 0.04, 0.06])"
            ]
          },
          "metadata": {},
          "execution_count": 6
        }
      ]
    },
    {
      "cell_type": "code",
      "source": [
        "#Calculo de la derivada\n",
        "dev=np.diff(i)/np.diff(t)\n",
        "dev"
      ],
      "metadata": {
        "colab": {
          "base_uri": "https://localhost:8080/"
        },
        "id": "FUTejhUDKlx1",
        "outputId": "9e2d7585-2b41-4a20-e3e5-0f6279bbbb10"
      },
      "execution_count": null,
      "outputs": [
        {
          "output_type": "execute_result",
          "data": {
            "text/plain": [
              "array([2., 2., 4., 6.])"
            ]
          },
          "metadata": {},
          "execution_count": 7
        }
      ]
    },
    {
      "cell_type": "code",
      "source": [
        "#Proceso de eliminar un punto\n",
        "t_=np.delete(t,4)\n",
        "t_"
      ],
      "metadata": {
        "colab": {
          "base_uri": "https://localhost:8080/"
        },
        "id": "c54Abx1ZKoBl",
        "outputId": "5779ca57-4dca-41e0-b99a-12fcf204fde7"
      },
      "execution_count": null,
      "outputs": [
        {
          "output_type": "execute_result",
          "data": {
            "text/plain": [
              "array([1.  , 1.01, 1.02, 1.03])"
            ]
          },
          "metadata": {},
          "execution_count": 8
        }
      ]
    },
    {
      "cell_type": "code",
      "source": [
        "i_=np.delete(i,4)"
      ],
      "metadata": {
        "id": "qyhUrFSgKraG"
      },
      "execution_count": null,
      "outputs": []
    },
    {
      "cell_type": "code",
      "source": [
        "#Gráfica\n",
        "plt.figure(figsize=(10,6))\n",
        "plt.plot(t_, i_ , \".-r\", label=\"función\")\n",
        "plt.plot(t_,dev,\".b\", label=\"Derivada\")\n",
        "plt.xlabel(\"t $[s]$\")\n",
        "plt.ylabel(\"i $[A]$\")\n",
        "plt.legend()\n",
        "plt.title(\"Aproximación del voltaje en los valores de t vs i\")\n",
        "plt.grid(True)\n",
        "plt.show()"
      ],
      "metadata": {
        "colab": {
          "base_uri": "https://localhost:8080/",
          "height": 567
        },
        "id": "WspYENKrKtxc",
        "outputId": "d2b9ee01-ee71-4663-d5e8-83c851a42e53"
      },
      "execution_count": null,
      "outputs": [
        {
          "output_type": "display_data",
          "data": {
            "text/plain": [
              "<Figure size 1000x600 with 1 Axes>"
            ],
            "image/png": "[encoded data removed]"
          },
          "metadata": {}
        }
      ]
    },
    {
      "cell_type": "code",
      "source": [
        "#Método 2 trabajo con promedios\n",
        "corriente_promedio=(i[0:4]+i[1:])/2\n",
        "tiempo_promedio=(t[0:4]+t[1:])/2\n",
        "print(corriente_promedio)\n",
        "print(tiempo_promedio)"
      ],
      "metadata": {
        "colab": {
          "base_uri": "https://localhost:8080/"
        },
        "id": "Zxr5A6JJKuwU",
        "outputId": "937a9826-571c-42f8-c555-621a3bd2e58c"
      },
      "execution_count": null,
      "outputs": [
        {
          "output_type": "stream",
          "name": "stdout",
          "text": [
            "[3.11 3.13 3.16 3.21]\n",
            "[1.005 1.015 1.025 1.035]\n"
          ]
        }
      ]
    },
    {
      "cell_type": "code",
      "source": [
        "plt.figure(figsize=(10,6))\n",
        "plt.plot(tiempo_promedio, corriente_promedio , \".-r\", label=\"función\")\n",
        "plt.plot(tiempo_promedio,dev,\".b\", label=\"Derivada\")\n",
        "plt.xlabel(\"t $[s]$\")\n",
        "plt.ylabel(\"i $[A]$\")\n",
        "plt.legend()\n",
        "plt.title(\"Aproximación del voltaje en los valores de t vs i\")\n",
        "plt.grid(True)\n",
        "plt.show()"
      ],
      "metadata": {
        "colab": {
          "base_uri": "https://localhost:8080/",
          "height": 567
        },
        "id": "mSJpFoBeKypZ",
        "outputId": "c5a04218-a4a3-4918-ac02-22cad76837bb"
      },
      "execution_count": null,
      "outputs": [
        {
          "output_type": "display_data",
          "data": {
            "text/plain": [
              "<Figure size 1000x600 with 1 Axes>"
            ],
            "image/png": "[encoded data removed]"
          },
          "metadata": {}
        }
      ]
    },
    {
      "cell_type": "code",
      "source": [
        "#Tabla de datos obtenidos\n",
        "R=0.142\n",
        "L=0.98\n",
        "fem=L*dev+R*corriente_promedio"
      ],
      "metadata": {
        "id": "S022QESLK1Jb"
      },
      "execution_count": null,
      "outputs": []
    },
    {
      "cell_type": "code",
      "source": [
        "dicc_datos={\"Tiempo(s)\":tiempo_promedio,\"corriente(A)\":corriente_promedio,\"derivada numérica\":dev,\"FEM(v)\":fem}\n",
        "df2=pd.DataFrame(dicc_datos)\n",
        "df2"
      ],
      "metadata": {
        "colab": {
          "base_uri": "https://localhost:8080/",
          "height": 174
        },
        "id": "xp3ia_S9K11N",
        "outputId": "a202341e-ba56-4e32-d647-dc9a3ea34071"
      },
      "execution_count": null,
      "outputs": [
        {
          "output_type": "execute_result",
          "data": {
            "text/plain": [
              "   Tiempo(s)  corriente(A)  derivada numérica   FEM(v)\n",
              "0      1.005          3.11                2.0  2.40162\n",
              "1      1.015          3.13                2.0  2.40446\n",
              "2      1.025          3.16                4.0  4.36872\n",
              "3      1.035          3.21                6.0  6.33582"
            ],
            "text/html": [
              "\n",
              "  <div id=\"df-40ad31d7-02ea-4586-bc06-85e3e024401e\" class=\"colab-df-container\">\n",
              "    <div>\n",
              "<style scoped>\n",
              "    .dataframe tbody tr th:only-of-type {\n",
              "        vertical-align: middle;\n",
              "    }\n",
              "\n",
              "    .dataframe tbody tr th {\n",
              "        vertical-align: top;\n",
              "    }\n",
              "\n",
              "    .dataframe thead th {\n",
              "        text-align: right;\n",
              "    }\n",
              "</style>\n",
              "<table border=\"1\" class=\"dataframe\">\n",
              "  <thead>\n",
              "    <tr style=\"text-align: right;\">\n",
              "      <th></th>\n",
              "      <th>Tiempo(s)</th>\n",
              "      <th>corriente(A)</th>\n",
              "      <th>derivada numérica</th>\n",
              "      <th>FEM(v)</th>\n",
              "    </tr>\n",
              "  </thead>\n",
              "  <tbody>\n",
              "    <tr>\n",
              "      <th>0</th>\n",
              "      <td>1.005</td>\n",
              "      <td>3.11</td>\n",
              "      <td>2.0</td>\n",
              "      <td>2.40162</td>\n",
              "    </tr>\n",
              "    <tr>\n",
              "      <th>1</th>\n",
              "      <td>1.015</td>\n",
              "      <td>3.13</td>\n",
              "      <td>2.0</td>\n",
              "      <td>2.40446</td>\n",
              "    </tr>\n",
              "    <tr>\n",
              "      <th>2</th>\n",
              "      <td>1.025</td>\n",
              "      <td>3.16</td>\n",
              "      <td>4.0</td>\n",
              "      <td>4.36872</td>\n",
              "    </tr>\n",
              "    <tr>\n",
              "      <th>3</th>\n",
              "      <td>1.035</td>\n",
              "      <td>3.21</td>\n",
              "      <td>6.0</td>\n",
              "      <td>6.33582</td>\n",
              "    </tr>\n",
              "  </tbody>\n",
              "</table>\n",
              "</div>\n",
              "    <div class=\"colab-df-buttons\">\n",
              "\n",
              "  <div class=\"colab-df-container\">\n",
              "    <button class=\"colab-df-convert\" onclick=\"convertToInteractive('df-40ad31d7-02ea-4586-bc06-85e3e024401e')\"\n",
              "            title=\"Convert this dataframe to an interactive table.\"\n",
              "            style=\"display:none;\">\n",
              "\n",
              "  <svg xmlns=\"http://www.w3.org/2000/svg\" height=\"24px\" viewBox=\"0 -960 960 960\">\n",
              "    <path d=\"M120-120v-720h720v720H120Zm60-500h600v-160H180v160Zm220 220h160v-160H400v160Zm0 220h160v-160H400v160ZM180-400h160v-160H180v160Zm440 0h160v-160H620v160ZM180-180h160v-160H180v160Zm440 0h160v-160H620v160Z\"/>\n",
              "  </svg>\n",
              "    </button>\n",
              "\n",
              "  <style>\n",
              "    .colab-df-container {\n",
              "      display:flex;\n",
              "      gap: 12px;\n",
              "    }\n",
              "\n",
              "    .colab-df-convert {\n",
              "      background-color: #E8F0FE;\n",
              "      border: none;\n",
              "      border-radius: 50%;\n",
              "      cursor: pointer;\n",
              "      display: none;\n",
              "      fill: #1967D2;\n",
              "      height: 32px;\n",
              "      padding: 0 0 0 0;\n",
              "      width: 32px;\n",
              "    }\n",
              "\n",
              "    .colab-df-convert:hover {\n",
              "      background-color: #E2EBFA;\n",
              "      box-shadow: 0px 1px 2px rgba(60, 64, 67, 0.3), 0px 1px 3px 1px rgba(60, 64, 67, 0.15);\n",
              "      fill: #174EA6;\n",
              "    }\n",
              "\n",
              "    .colab-df-buttons div {\n",
              "      margin-bottom: 4px;\n",
              "    }\n",
              "\n",
              "    [theme=dark] .colab-df-convert {\n",
              "      background-color: #3B4455;\n",
              "      fill: #D2E3FC;\n",
              "    }\n",
              "\n",
              "    [theme=dark] .colab-df-convert:hover {\n",
              "      background-color: #434B5C;\n",
              "      box-shadow: 0px 1px 3px 1px rgba(0, 0, 0, 0.15);\n",
              "      filter: drop-shadow(0px 1px 2px rgba(0, 0, 0, 0.3));\n",
              "      fill: #FFFFFF;\n",
              "    }\n",
              "  </style>\n",
              "\n",
              "    <script>\n",
              "      const buttonEl =\n",
              "        document.querySelector('#df-40ad31d7-02ea-4586-bc06-85e3e024401e button.colab-df-convert');\n",
              "      buttonEl.style.display =\n",
              "        google.colab.kernel.accessAllowed ? 'block' : 'none';\n",
              "\n",
              "      async function convertToInteractive(key) {\n",
              "        const element = document.querySelector('#df-40ad31d7-02ea-4586-bc06-85e3e024401e');\n",
              "        const dataTable =\n",
              "          await google.colab.kernel.invokeFunction('convertToInteractive',\n",
              "                                                    [key], {});\n",
              "        if (!dataTable) return;\n",
              "\n",
              "        const docLinkHtml = 'Like what you see? Visit the ' +\n",
              "          '<a target=\"_blank\" href=https://colab.research.google.com/notebooks/data_table.ipynb>data table notebook</a>'\n",
              "          + ' to learn more about interactive tables.';\n",
              "        element.innerHTML = '';\n",
              "        dataTable['output_type'] = 'display_data';\n",
              "        await google.colab.output.renderOutput(dataTable, element);\n",
              "        const docLink = document.createElement('div');\n",
              "        docLink.innerHTML = docLinkHtml;\n",
              "        element.appendChild(docLink);\n",
              "      }\n",
              "    </script>\n",
              "  </div>\n",
              "\n",
              "\n",
              "<div id=\"df-1ae2af88-7abb-4acc-8c23-1dc06854788b\">\n",
              "  <button class=\"colab-df-quickchart\" onclick=\"quickchart('df-1ae2af88-7abb-4acc-8c23-1dc06854788b')\"\n",
              "            title=\"Suggest charts.\"\n",
              "            style=\"display:none;\">\n",
              "\n",
              "<svg xmlns=\"http://www.w3.org/2000/svg\" height=\"24px\"viewBox=\"0 0 24 24\"\n",
              "     width=\"24px\">\n",
              "    <g>\n",
              "        <path d=\"M19 3H5c-1.1 0-2 .9-2 2v14c0 1.1.9 2 2 2h14c1.1 0 2-.9 2-2V5c0-1.1-.9-2-2-2zM9 17H7v-7h2v7zm4 0h-2V7h2v10zm4 0h-2v-4h2v4z\"/>\n",
              "    </g>\n",
              "</svg>\n",
              "  </button>\n",
              "\n",
              "<style>\n",
              "  .colab-df-quickchart {\n",
              "      --bg-color: #E8F0FE;\n",
              "      --fill-color: #1967D2;\n",
              "      --hover-bg-color: #E2EBFA;\n",
              "      --hover-fill-color: #174EA6;\n",
              "      --disabled-fill-color: #AAA;\n",
              "      --disabled-bg-color: #DDD;\n",
              "  }\n",
              "\n",
              "  [theme=dark] .colab-df-quickchart {\n",
              "      --bg-color: #3B4455;\n",
              "      --fill-color: #D2E3FC;\n",
              "      --hover-bg-color: #434B5C;\n",
              "      --hover-fill-color: #FFFFFF;\n",
              "      --disabled-bg-color: #3B4455;\n",
              "      --disabled-fill-color: #666;\n",
              "  }\n",
              "\n",
              "  .colab-df-quickchart {\n",
              "    background-color: var(--bg-color);\n",
              "    border: none;\n",
              "    border-radius: 50%;\n",
              "    cursor: pointer;\n",
              "    display: none;\n",
              "    fill: var(--fill-color);\n",
              "    height: 32px;\n",
              "    padding: 0;\n",
              "    width: 32px;\n",
              "  }\n",
              "\n",
              "  .colab-df-quickchart:hover {\n",
              "    background-color: var(--hover-bg-color);\n",
              "    box-shadow: 0 1px 2px rgba(60, 64, 67, 0.3), 0 1px 3px 1px rgba(60, 64, 67, 0.15);\n",
              "    fill: var(--button-hover-fill-color);\n",
              "  }\n",
              "\n",
              "  .colab-df-quickchart-complete:disabled,\n",
              "  .colab-df-quickchart-complete:disabled:hover {\n",
              "    background-color: var(--disabled-bg-color);\n",
              "    fill: var(--disabled-fill-color);\n",
              "    box-shadow: none;\n",
              "  }\n",
              "\n",
              "  .colab-df-spinner {\n",
              "    border: 2px solid var(--fill-color);\n",
              "    border-color: transparent;\n",
              "    border-bottom-color: var(--fill-color);\n",
              "    animation:\n",
              "      spin 1s steps(1) infinite;\n",
              "  }\n",
              "\n",
              "  @keyframes spin {\n",
              "    0% {\n",
              "      border-color: transparent;\n",
              "      border-bottom-color: var(--fill-color);\n",
              "      border-left-color: var(--fill-color);\n",
              "    }\n",
              "    20% {\n",
              "      border-color: transparent;\n",
              "      border-left-color: var(--fill-color);\n",
              "      border-top-color: var(--fill-color);\n",
              "    }\n",
              "    30% {\n",
              "      border-color: transparent;\n",
              "      border-left-color: var(--fill-color);\n",
              "      border-top-color: var(--fill-color);\n",
              "      border-right-color: var(--fill-color);\n",
              "    }\n",
              "    40% {\n",
              "      border-color: transparent;\n",
              "      border-right-color: var(--fill-color);\n",
              "      border-top-color: var(--fill-color);\n",
              "    }\n",
              "    60% {\n",
              "      border-color: transparent;\n",
              "      border-right-color: var(--fill-color);\n",
              "    }\n",
              "    80% {\n",
              "      border-color: transparent;\n",
              "      border-right-color: var(--fill-color);\n",
              "      border-bottom-color: var(--fill-color);\n",
              "    }\n",
              "    90% {\n",
              "      border-color: transparent;\n",
              "      border-bottom-color: var(--fill-color);\n",
              "    }\n",
              "  }\n",
              "</style>\n",
              "\n",
              "  <script>\n",
              "    async function quickchart(key) {\n",
              "      const quickchartButtonEl =\n",
              "        document.querySelector('#' + key + ' button');\n",
              "      quickchartButtonEl.disabled = true;  // To prevent multiple clicks.\n",
              "      quickchartButtonEl.classList.add('colab-df-spinner');\n",
              "      try {\n",
              "        const charts = await google.colab.kernel.invokeFunction(\n",
              "            'suggestCharts', [key], {});\n",
              "      } catch (error) {\n",
              "        console.error('Error during call to suggestCharts:', error);\n",
              "      }\n",
              "      quickchartButtonEl.classList.remove('colab-df-spinner');\n",
              "      quickchartButtonEl.classList.add('colab-df-quickchart-complete');\n",
              "    }\n",
              "    (() => {\n",
              "      let quickchartButtonEl =\n",
              "        document.querySelector('#df-1ae2af88-7abb-4acc-8c23-1dc06854788b button');\n",
              "      quickchartButtonEl.style.display =\n",
              "        google.colab.kernel.accessAllowed ? 'block' : 'none';\n",
              "    })();\n",
              "  </script>\n",
              "</div>\n",
              "    </div>\n",
              "  </div>\n"
            ]
          },
          "metadata": {},
          "execution_count": 14
        }
      ]
    },
    {
      "cell_type": "code",
      "source": [
        "plt.figure(figsize=(3,3))\n",
        "plt.plot(df2[\"Tiempo(s)\"],df2[\"FEM(v)\"],\"-o\")\n",
        "plt.xlabel(\"tiempo [s]\")\n",
        "plt.ylabel(\"FEM [V]\")\n",
        "plt.grid()\n",
        "plt.show()"
      ],
      "metadata": {
        "colab": {
          "base_uri": "https://localhost:8080/",
          "height": 311
        },
        "id": "E_AiRrq5K7Ti",
        "outputId": "7a445a05-be8c-4810-ff29-d635173cf749"
      },
      "execution_count": null,
      "outputs": [
        {
          "output_type": "display_data",
          "data": {
            "text/plain": [
              "<Figure size 300x300 with 1 Axes>"
            ],
            "image/png": "[encoded data removed]"
          },
          "metadata": {}
        }
      ]
    },
    {
      "cell_type": "code",
      "source": [
        "#Interpolación método CubicSpline\n",
        "ics=sc.interpolate.CubicSpline(t,i)\n",
        "\n",
        "#Derivada de interpolación\n",
        "derivada_inter=sc.misc.derivative(ics,t)\n",
        "\n",
        "#FEM\n",
        "FEM_inter=L*derivada_inter+R*i\n",
        "\n",
        "#Data Frame con los cambios de información de acuerdo a la interpolación\n",
        "dicc_datos2={\"Tiempo(s)\":t,\"corriente(A)\":i,\"derivada numérica\":derivada_inter,\"FEM(v)\":FEM_inter}\n",
        "df3=pd.DataFrame(dicc_datos2)\n",
        "df3"
      ],
      "metadata": {
        "colab": {
          "base_uri": "https://localhost:8080/",
          "height": 262
        },
        "id": "StGHa0iheOC9",
        "outputId": "db3a4888-44bf-41b9-aee3-682a9583d917"
      },
      "execution_count": null,
      "outputs": [
        {
          "output_type": "stream",
          "name": "stderr",
          "text": [
            "<ipython-input-16-9cb5d0b86054>:5: DeprecationWarning: scipy.misc.derivative is deprecated in SciPy v1.10.0; and will be completely removed in SciPy v1.12.0. You may consider using findiff: https://github.com/maroba/findiff or numdifftools: https://github.com/pbrod/numdifftools\n",
            "  derivada_inter=sc.misc.derivative(ics,t)\n"
          ]
        },
        {
          "output_type": "execute_result",
          "data": {
            "text/plain": [
              "   Tiempo(s)  corriente(A)  derivada numérica      FEM(v)\n",
              "0       1.00          3.10          1816.5200  1780.62980\n",
              "1       1.01          3.12          1742.5025  1708.09549\n",
              "2       1.02          3.14          1669.5000  1636.55588\n",
              "3       1.03          3.18          1597.4975  1565.99911\n",
              "4       1.04          3.24          1526.4800  1496.41048"
            ],
            "text/html": [
              "\n",
              "  <div id=\"df-4210a0c0-d583-4e75-b10f-e3cae33acb4e\" class=\"colab-df-container\">\n",
              "    <div>\n",
              "<style scoped>\n",
              "    .dataframe tbody tr th:only-of-type {\n",
              "        vertical-align: middle;\n",
              "    }\n",
              "\n",
              "    .dataframe tbody tr th {\n",
              "        vertical-align: top;\n",
              "    }\n",
              "\n",
              "    .dataframe thead th {\n",
              "        text-align: right;\n",
              "    }\n",
              "</style>\n",
              "<table border=\"1\" class=\"dataframe\">\n",
              "  <thead>\n",
              "    <tr style=\"text-align: right;\">\n",
              "      <th></th>\n",
              "      <th>Tiempo(s)</th>\n",
              "      <th>corriente(A)</th>\n",
              "      <th>derivada numérica</th>\n",
              "      <th>FEM(v)</th>\n",
              "    </tr>\n",
              "  </thead>\n",
              "  <tbody>\n",
              "    <tr>\n",
              "      <th>0</th>\n",
              "      <td>1.00</td>\n",
              "      <td>3.10</td>\n",
              "      <td>1816.5200</td>\n",
              "      <td>1780.62980</td>\n",
              "    </tr>\n",
              "    <tr>\n",
              "      <th>1</th>\n",
              "      <td>1.01</td>\n",
              "      <td>3.12</td>\n",
              "      <td>1742.5025</td>\n",
              "      <td>1708.09549</td>\n",
              "    </tr>\n",
              "    <tr>\n",
              "      <th>2</th>\n",
              "      <td>1.02</td>\n",
              "      <td>3.14</td>\n",
              "      <td>1669.5000</td>\n",
              "      <td>1636.55588</td>\n",
              "    </tr>\n",
              "    <tr>\n",
              "      <th>3</th>\n",
              "      <td>1.03</td>\n",
              "      <td>3.18</td>\n",
              "      <td>1597.4975</td>\n",
              "      <td>1565.99911</td>\n",
              "    </tr>\n",
              "    <tr>\n",
              "      <th>4</th>\n",
              "      <td>1.04</td>\n",
              "      <td>3.24</td>\n",
              "      <td>1526.4800</td>\n",
              "      <td>1496.41048</td>\n",
              "    </tr>\n",
              "  </tbody>\n",
              "</table>\n",
              "</div>\n",
              "    <div class=\"colab-df-buttons\">\n",
              "\n",
              "  <div class=\"colab-df-container\">\n",
              "    <button class=\"colab-df-convert\" onclick=\"convertToInteractive('df-4210a0c0-d583-4e75-b10f-e3cae33acb4e')\"\n",
              "            title=\"Convert this dataframe to an interactive table.\"\n",
              "            style=\"display:none;\">\n",
              "\n",
              "  <svg xmlns=\"http://www.w3.org/2000/svg\" height=\"24px\" viewBox=\"0 -960 960 960\">\n",
              "    <path d=\"M120-120v-720h720v720H120Zm60-500h600v-160H180v160Zm220 220h160v-160H400v160Zm0 220h160v-160H400v160ZM180-400h160v-160H180v160Zm440 0h160v-160H620v160ZM180-180h160v-160H180v160Zm440 0h160v-160H620v160Z\"/>\n",
              "  </svg>\n",
              "    </button>\n",
              "\n",
              "  <style>\n",
              "    .colab-df-container {\n",
              "      display:flex;\n",
              "      gap: 12px;\n",
              "    }\n",
              "\n",
              "    .colab-df-convert {\n",
              "      background-color: #E8F0FE;\n",
              "      border: none;\n",
              "      border-radius: 50%;\n",
              "      cursor: pointer;\n",
              "      display: none;\n",
              "      fill: #1967D2;\n",
              "      height: 32px;\n",
              "      padding: 0 0 0 0;\n",
              "      width: 32px;\n",
              "    }\n",
              "\n",
              "    .colab-df-convert:hover {\n",
              "      background-color: #E2EBFA;\n",
              "      box-shadow: 0px 1px 2px rgba(60, 64, 67, 0.3), 0px 1px 3px 1px rgba(60, 64, 67, 0.15);\n",
              "      fill: #174EA6;\n",
              "    }\n",
              "\n",
              "    .colab-df-buttons div {\n",
              "      margin-bottom: 4px;\n",
              "    }\n",
              "\n",
              "    [theme=dark] .colab-df-convert {\n",
              "      background-color: #3B4455;\n",
              "      fill: #D2E3FC;\n",
              "    }\n",
              "\n",
              "    [theme=dark] .colab-df-convert:hover {\n",
              "      background-color: #434B5C;\n",
              "      box-shadow: 0px 1px 3px 1px rgba(0, 0, 0, 0.15);\n",
              "      filter: drop-shadow(0px 1px 2px rgba(0, 0, 0, 0.3));\n",
              "      fill: #FFFFFF;\n",
              "    }\n",
              "  </style>\n",
              "\n",
              "    <script>\n",
              "      const buttonEl =\n",
              "        document.querySelector('#df-4210a0c0-d583-4e75-b10f-e3cae33acb4e button.colab-df-convert');\n",
              "      buttonEl.style.display =\n",
              "        google.colab.kernel.accessAllowed ? 'block' : 'none';\n",
              "\n",
              "      async function convertToInteractive(key) {\n",
              "        const element = document.querySelector('#df-4210a0c0-d583-4e75-b10f-e3cae33acb4e');\n",
              "        const dataTable =\n",
              "          await google.colab.kernel.invokeFunction('convertToInteractive',\n",
              "                                                    [key], {});\n",
              "        if (!dataTable) return;\n",
              "\n",
              "        const docLinkHtml = 'Like what you see? Visit the ' +\n",
              "          '<a target=\"_blank\" href=https://colab.research.google.com/notebooks/data_table.ipynb>data table notebook</a>'\n",
              "          + ' to learn more about interactive tables.';\n",
              "        element.innerHTML = '';\n",
              "        dataTable['output_type'] = 'display_data';\n",
              "        await google.colab.output.renderOutput(dataTable, element);\n",
              "        const docLink = document.createElement('div');\n",
              "        docLink.innerHTML = docLinkHtml;\n",
              "        element.appendChild(docLink);\n",
              "      }\n",
              "    </script>\n",
              "  </div>\n",
              "\n",
              "\n",
              "<div id=\"df-c32f97f5-34ad-4b6d-8313-3758c799a6bd\">\n",
              "  <button class=\"colab-df-quickchart\" onclick=\"quickchart('df-c32f97f5-34ad-4b6d-8313-3758c799a6bd')\"\n",
              "            title=\"Suggest charts.\"\n",
              "            style=\"display:none;\">\n",
              "\n",
              "<svg xmlns=\"http://www.w3.org/2000/svg\" height=\"24px\"viewBox=\"0 0 24 24\"\n",
              "     width=\"24px\">\n",
              "    <g>\n",
              "        <path d=\"M19 3H5c-1.1 0-2 .9-2 2v14c0 1.1.9 2 2 2h14c1.1 0 2-.9 2-2V5c0-1.1-.9-2-2-2zM9 17H7v-7h2v7zm4 0h-2V7h2v10zm4 0h-2v-4h2v4z\"/>\n",
              "    </g>\n",
              "</svg>\n",
              "  </button>\n",
              "\n",
              "<style>\n",
              "  .colab-df-quickchart {\n",
              "      --bg-color: #E8F0FE;\n",
              "      --fill-color: #1967D2;\n",
              "      --hover-bg-color: #E2EBFA;\n",
              "      --hover-fill-color: #174EA6;\n",
              "      --disabled-fill-color: #AAA;\n",
              "      --disabled-bg-color: #DDD;\n",
              "  }\n",
              "\n",
              "  [theme=dark] .colab-df-quickchart {\n",
              "      --bg-color: #3B4455;\n",
              "      --fill-color: #D2E3FC;\n",
              "      --hover-bg-color: #434B5C;\n",
              "      --hover-fill-color: #FFFFFF;\n",
              "      --disabled-bg-color: #3B4455;\n",
              "      --disabled-fill-color: #666;\n",
              "  }\n",
              "\n",
              "  .colab-df-quickchart {\n",
              "    background-color: var(--bg-color);\n",
              "    border: none;\n",
              "    border-radius: 50%;\n",
              "    cursor: pointer;\n",
              "    display: none;\n",
              "    fill: var(--fill-color);\n",
              "    height: 32px;\n",
              "    padding: 0;\n",
              "    width: 32px;\n",
              "  }\n",
              "\n",
              "  .colab-df-quickchart:hover {\n",
              "    background-color: var(--hover-bg-color);\n",
              "    box-shadow: 0 1px 2px rgba(60, 64, 67, 0.3), 0 1px 3px 1px rgba(60, 64, 67, 0.15);\n",
              "    fill: var(--button-hover-fill-color);\n",
              "  }\n",
              "\n",
              "  .colab-df-quickchart-complete:disabled,\n",
              "  .colab-df-quickchart-complete:disabled:hover {\n",
              "    background-color: var(--disabled-bg-color);\n",
              "    fill: var(--disabled-fill-color);\n",
              "    box-shadow: none;\n",
              "  }\n",
              "\n",
              "  .colab-df-spinner {\n",
              "    border: 2px solid var(--fill-color);\n",
              "    border-color: transparent;\n",
              "    border-bottom-color: var(--fill-color);\n",
              "    animation:\n",
              "      spin 1s steps(1) infinite;\n",
              "  }\n",
              "\n",
              "  @keyframes spin {\n",
              "    0% {\n",
              "      border-color: transparent;\n",
              "      border-bottom-color: var(--fill-color);\n",
              "      border-left-color: var(--fill-color);\n",
              "    }\n",
              "    20% {\n",
              "      border-color: transparent;\n",
              "      border-left-color: var(--fill-color);\n",
              "      border-top-color: var(--fill-color);\n",
              "    }\n",
              "    30% {\n",
              "      border-color: transparent;\n",
              "      border-left-color: var(--fill-color);\n",
              "      border-top-color: var(--fill-color);\n",
              "      border-right-color: var(--fill-color);\n",
              "    }\n",
              "    40% {\n",
              "      border-color: transparent;\n",
              "      border-right-color: var(--fill-color);\n",
              "      border-top-color: var(--fill-color);\n",
              "    }\n",
              "    60% {\n",
              "      border-color: transparent;\n",
              "      border-right-color: var(--fill-color);\n",
              "    }\n",
              "    80% {\n",
              "      border-color: transparent;\n",
              "      border-right-color: var(--fill-color);\n",
              "      border-bottom-color: var(--fill-color);\n",
              "    }\n",
              "    90% {\n",
              "      border-color: transparent;\n",
              "      border-bottom-color: var(--fill-color);\n",
              "    }\n",
              "  }\n",
              "</style>\n",
              "\n",
              "  <script>\n",
              "    async function quickchart(key) {\n",
              "      const quickchartButtonEl =\n",
              "        document.querySelector('#' + key + ' button');\n",
              "      quickchartButtonEl.disabled = true;  // To prevent multiple clicks.\n",
              "      quickchartButtonEl.classList.add('colab-df-spinner');\n",
              "      try {\n",
              "        const charts = await google.colab.kernel.invokeFunction(\n",
              "            'suggestCharts', [key], {});\n",
              "      } catch (error) {\n",
              "        console.error('Error during call to suggestCharts:', error);\n",
              "      }\n",
              "      quickchartButtonEl.classList.remove('colab-df-spinner');\n",
              "      quickchartButtonEl.classList.add('colab-df-quickchart-complete');\n",
              "    }\n",
              "    (() => {\n",
              "      let quickchartButtonEl =\n",
              "        document.querySelector('#df-c32f97f5-34ad-4b6d-8313-3758c799a6bd button');\n",
              "      quickchartButtonEl.style.display =\n",
              "        google.colab.kernel.accessAllowed ? 'block' : 'none';\n",
              "    })();\n",
              "  </script>\n",
              "</div>\n",
              "    </div>\n",
              "  </div>\n"
            ]
          },
          "metadata": {},
          "execution_count": 16
        }
      ]
    },
    {
      "cell_type": "markdown",
      "metadata": {
        "id": "WV6dMBzK_odZ"
      },
      "source": [
        "\n",
        "\n",
        "\n",
        "# Parte 2\n",
        "\n",
        "1. Escribir en código Markdown la expresión para calcular una integral con la regla del trapecio.\n",
        "\n",
        "2. Escribir en código Markdown la expresión para calcular una integral con la regla del simpson\n",
        "\n",
        "\n",
        "3. Escribir en código Markdown la expresión para calcular una integral con el metodo de cuadratura.\n",
        "\n",
        "4. Calcular una aproximación con el metodo 1,2,3 de las siguientes integrales\n",
        "\n",
        "<!--\n",
        " $$\n",
        " \\int_0^\\pi e^{1-\\sqrt{x}}\\, dx\n",
        " $$  -->\n",
        "\n",
        "\n",
        "- $$\n",
        " \\int_0^{\\pi/2} \\frac{1}{\\sqrt{\\tan x}}\\, dx\n",
        " $$\n",
        "\n",
        "-\n",
        "$$\n",
        " \\int_{-\\infty}^{\\infty} \\frac{1}{1+x^2} \\, dx\n",
        " $$\n",
        "\n",
        "\n",
        "-\n",
        "\n",
        "$$\n",
        " \\int_{0}^{\\pi/4} \\int_{\\sin x}^{\\cos x} (2y\\sin x +\\cos^2 x)\\, dxdy\n",
        " $$\n",
        "\n",
        "<!--\n",
        "-\n",
        "$$\n",
        " \\int_{-\\infty}^{\\infty} \\frac{1}{1+x^2} \\, dx\n",
        " $$ -->\n",
        "\n",
        "<!--\n",
        "-\n",
        "$$\n",
        " \\int_{e}^{2e} \\frac{1}{\\ln x} \\, dx\n",
        " $$ -->\n",
        "\n",
        "\n",
        "garantizando  que el error sea menor a $\\varepsilon=1E-5$.  "
      ]
    },
    {
      "cell_type": "markdown",
      "source": [
        "**Escribir en código Markdown la expresión para calcular una integral con la regla del trapecio**\n",
        "\n",
        "1. **Definición de la función**: comienza por definir la función que deseas integrar\n",
        "2. **Elije el intervalo de integración**:Determina el intervalo que deseas calcular la integral, especificando los valores de \\(a\\) y \\(b\\).\n",
        "3. **Divide el intervalo en \\(n\\) subintervalos**:Decide cuantos trapecios utilizaras para aproximar la integral y divide el intervalo en \\(n\\) subintervalos de igual ancho.\n",
        "4. **Calcula la aproximación de la integral**:Utiliza la regla del trapecio para calcular la aproximación de la integral. En cada subintervalo, calcula el área del trapecio y suma todas las áreas guiese de la siguiente fórmula:\n",
        "$$\n",
        "\\int_{a}^{b} f(x)\\, dx=\\frac{h}{2} \\left(f(a)+f(b)+2 \\sum_{i=1}^{n-1} f(x_i) \\right)\n",
        "$$\n",
        "\n",
        "5. Crea una función que retorne la integral e imprimala"
      ],
      "metadata": {
        "id": "T6vZ_8nFbeAq"
      }
    },
    {
      "cell_type": "code",
      "source": [
        "#Datos iniciales\n",
        "a1=0.1\n",
        "b1=np.pi/2\n",
        "N1=5\n",
        "x=np.linspace(a1,b1,N1)\n",
        "H=x[1]-x[2]\n",
        "f1=lambda x: 1/(np.sqrt(np.tan(x)))"
      ],
      "metadata": {
        "id": "o8hwJ-x5ibZf"
      },
      "execution_count": null,
      "outputs": []
    },
    {
      "cell_type": "code",
      "source": [
        "#Gráfico\n",
        "plt.figure()\n",
        "plt.plot(x,f1(x),\"ro-\")\n",
        "plt.show()"
      ],
      "metadata": {
        "colab": {
          "base_uri": "https://localhost:8080/",
          "height": 430
        },
        "id": "XJmVJ4GAi8o9",
        "outputId": "7bf91e57-05d1-4cde-cea1-453cacf48210"
      },
      "execution_count": null,
      "outputs": [
        {
          "output_type": "display_data",
          "data": {
            "text/plain": [
              "<Figure size 640x480 with 1 Axes>"
            ],
            "image/png": "[encoded data removed]"
          },
          "metadata": {}
        }
      ]
    },
    {
      "cell_type": "code",
      "source": [
        "#Cálculo de la integral\n",
        "def integral_trapz(f1,a1,b1,N1):\n",
        "    x=np.linspace(a1,b1,int(N1))\n",
        "    h=(b1-a1)/N1\n",
        "    A=(f1(x[0])+f1(x[-1])+ 2*f1(x[1:-1]).sum())*h*0.5\n",
        "    return A"
      ],
      "metadata": {
        "id": "6vplAmLVjG-n"
      },
      "execution_count": null,
      "outputs": []
    },
    {
      "cell_type": "code",
      "source": [
        "#Area en terminos de la integral\n",
        "A= integral_trapz(f1,0.1,1,N1=10)\n",
        "print(A)"
      ],
      "metadata": {
        "colab": {
          "base_uri": "https://localhost:8080/"
        },
        "id": "IucHmL-7jM-C",
        "outputId": "e572a422-f404-4a87-bb48-89dc8a509737"
      },
      "execution_count": null,
      "outputs": [
        {
          "output_type": "stream",
          "name": "stdout",
          "text": [
            "1.1757613767224433\n"
          ]
        }
      ]
    },
    {
      "cell_type": "code",
      "source": [
        "N=np.linspace(100,1000,10)\n",
        "areas=np.zeros(len(N))\n",
        "for i ,n_ in enumerate(N):\n",
        "    areas[i]=integral_trapz(f1,0.1,1,n_)"
      ],
      "metadata": {
        "id": "y_rEfgLTjNif"
      },
      "execution_count": null,
      "outputs": []
    },
    {
      "cell_type": "code",
      "source": [
        "plt.figure()\n",
        "plt.plot(N,areas,\".-\",c=\"gold\")\n",
        "plt.xlabel(\"N\")\n",
        "plt.ylabel(\"Área\")\n",
        "plt.grid(True)\n",
        "plt.show()"
      ],
      "metadata": {
        "colab": {
          "base_uri": "https://localhost:8080/",
          "height": 449
        },
        "id": "OQuQO427jSey",
        "outputId": "b67de1ff-8b92-46b9-f102-8ff41e219b54"
      },
      "execution_count": null,
      "outputs": [
        {
          "output_type": "display_data",
          "data": {
            "text/plain": [
              "<Figure size 640x480 with 1 Axes>"
            ],
            "image/png": "[encoded data removed]"
          },
          "metadata": {}
        }
      ]
    },
    {
      "cell_type": "code",
      "source": [
        "#Comparación de los métodos\n",
        "integralf1=integral_trapz(f1,a1,b1,1000)\n",
        "print(f\"Por medio de la deducción obtenemos que el cálculo de integral mediante trapecios es:{integralf1}\")\n",
        "\n",
        "xn_=np.linspace(a1,b1,1000)\n",
        "intregral_met_trapz=sc.integrate.trapezoid(f1(xn_),xn_)\n",
        "print(f\"usando la librería trapezoid obtenemos que la integración es: {intregral_met_trapz}\")"
      ],
      "metadata": {
        "colab": {
          "base_uri": "https://localhost:8080/"
        },
        "id": "X7Dm3qf5kYuS",
        "outputId": "4d567f0f-35b1-4ced-c9b6-687fda87d098"
      },
      "execution_count": null,
      "outputs": [
        {
          "output_type": "stream",
          "name": "stdout",
          "text": [
            "Por medio de la deducción obtenemos que el cálculo de integral mediante trapecios es:1.587598870026858\n",
            "usando la librería trapezoid obtenemos que la integración es: 1.5891880580849427\n"
          ]
        }
      ]
    },
    {
      "cell_type": "markdown",
      "source": [
        "**Escribir en código Markdown la expresión para calcular una integral con la regla del simpson**\n",
        "\n",
        "1. **Define la función:** Define la función que quieres integrar\n",
        "    \n",
        "$$ \\int_{-∞}^{∞} \\frac{1}{1+x^2} dx $$\n",
        "\n",
        "2. **Redefine los limites de integración:** Utilice el método de sustitución para cambiar los límites de integración de la función\n",
        "\n",
        "$$\\int_{-∞}^{∞} \\frac{1}{1+x^2} dx = \\int_{- π/2}^{π/2} \\frac{1}{1+(tan(\\theta))^2}* (sec(\\theta))^2 d\\theta = \\int_{- π/2}^{π/2} \\frac{1}{1+(tan(\\theta))^2}* \\frac{1}{(cos(\\theta))^2} d\\theta $$\n",
        "\n",
        "\n",
        "3. **Define la función:** En este caso se define como \"regla_simp_comp\" que calculará la integral utilizando la regla de Simpson compuesta\n",
        "\n",
        "    Haga uso de la siguiente la formula:\n",
        "\n",
        "$$\\int_{a}^{b} f(x)\\, dx = \\frac{h}{3}[f(a)+2 ∑_{j=1}^{n/2-1} f(x_{2j})+4 \\sum_{j=1}^{n/2} f(x_{2j})+f(b)]$$\n",
        "\n",
        "\n",
        "4. **Llama a la función:** Llame a la función con los parametros necesarios y almacena el resultado en una variable\n",
        "5. **Resultado:** Muestra el resultado de la integral en consola  "
      ],
      "metadata": {
        "id": "6YP9ZLoubiNT"
      }
    },
    {
      "cell_type": "code",
      "source": [
        "f2= lambda x:1/(1+x**2)\n",
        "\n",
        "#Haga una sustitución para poder cambiar los limites de integración\n",
        "def f_sustituida(theta):\n",
        "    f_u=1/(1+np.tan(theta)**2)*(1/(np.cos(theta)**2))\n",
        "    return f_u\n",
        "\n",
        "#Defina los límites de integración en la variable u\n",
        "a=-np.pi/2\n",
        "b=np.pi/2\n",
        "N=10000"
      ],
      "metadata": {
        "id": "rTzpAelTyAEL"
      },
      "execution_count": null,
      "outputs": []
    },
    {
      "cell_type": "code",
      "source": [
        "def regla_simp_comp(f_sustituida,a,b,N):\n",
        "    xn3=np.linspace(a,b,int(N))\n",
        "    h=xn3[1]-xn3[0]\n",
        "    x2j_par=xn3[2:N-2:2]\n",
        "    x2j_1_impar=xn3[1:N-1:2]\n",
        "    I=(h/3)*(f_sustituida(a)+2*f_sustituida(x2j_par).sum()+4*f_sustituida(x2j_1_impar).sum()+f_sustituida(b))\n",
        "    return I\n",
        "\n",
        "integral_simp_comp=regla_simp_comp(f_sustituida,a,b,N)\n",
        "integral_simp_comp"
      ],
      "metadata": {
        "colab": {
          "base_uri": "https://localhost:8080/"
        },
        "id": "jf1a6UY_JW0b",
        "outputId": "08570ca1-6fed-4d19-9ae3-e7796741a377"
      },
      "execution_count": null,
      "outputs": [
        {
          "output_type": "execute_result",
          "data": {
            "text/plain": [
              "3.1412784629062114"
            ]
          },
          "metadata": {},
          "execution_count": 17
        }
      ]
    },
    {
      "cell_type": "markdown",
      "source": [
        "**Escribir en código Markdown la expresión para calcular una integral con el Método de cuadratura**\n",
        "\n",
        "1. **Define los parámetros iniciales y los limites de integración**\n",
        "\n",
        "•Define los límites de integración respecto a x y y.\n",
        "\n",
        "•Define una función a integrar en función de x y y.\n",
        "\n",
        "\n",
        "2. **Definir una función para calcular la integral**\n",
        "\n",
        "•Define una función llamada 'integral_1' que tomará la función a integrar, los valores de y y los limites de integración con respecto a x.\n",
        "\n",
        "•Utiliza un bucle for para clacular la integral para calcular la integrak para cada valor de x y guardalos en un arreglo I.\n",
        "\n",
        "3. **Calcular las integrales y Almacenar los resultados:** Usa la función integral_1 para calcular las integrales en función de x y guardarlas en un arreglo I\n",
        "\n",
        "4. **Calcular la integral:** Usa \"sc.integrate.simpson\" para calcular a integral definifa de los resultados obtenidos en el paso anterior en función de x\n",
        "\n",
        "5. **Resultado:** Muestra el valor de la integral definida"
      ],
      "metadata": {
        "id": "48eNdfeGbqNz"
      }
    },
    {
      "cell_type": "code",
      "source": [
        "#Parámetros iniciales\n",
        "#Limites de integración respecto a\n",
        "a_x=0\n",
        "b_x=np.pi/4\n",
        "x=np.linspace(a_x,b_x,100)\n",
        "\n",
        "#Limites de integración con respecto a\n",
        "a_y=np.sin(x)\n",
        "b_y=np.cos(x)\n",
        "y=np.linspace(a_y,b_y,100)\n",
        "\n",
        "#Función a integrar\n",
        "f3=lambda x,y: 2*y*np.sin(x)+np.cos(x)**2"
      ],
      "metadata": {
        "id": "nXebC3vKuGcD"
      },
      "execution_count": null,
      "outputs": []
    },
    {
      "cell_type": "code",
      "source": [
        "x_=np.zeros(len(x))\n",
        "def integral_1(f3,x,a_x,b_x):\n",
        "    for i in range(len(x)):\n",
        "        intervalo1=np.linspace(np.sin(x),np.cos(x),100)\n",
        "        I=sc.integrate.simpson(f3(intervalo1),intervalo1)\n",
        "        I[i]=x_\n",
        "    return I"
      ],
      "metadata": {
        "id": "PYKPYeFDvMSN"
      },
      "execution_count": null,
      "outputs": []
    },
    {
      "cell_type": "code",
      "source": [
        "I=np.zeros(len(x))\n",
        "for i in range(len(x)):\n",
        "    intervalo1=np.linspace(np.sin(x[i]),np.cos(x[i]),100)\n",
        "    a=sc.integrate.simpson(f3(x[i],intervalo1),intervalo1)\n",
        "    I[i]=a\n",
        "\n",
        "I"
      ],
      "metadata": {
        "colab": {
          "base_uri": "https://localhost:8080/"
        },
        "id": "ttBNZet03z_D",
        "outputId": "4126f088-c1a8-467d-8012-0fe8ed2d6a88"
      },
      "execution_count": null,
      "outputs": [
        {
          "output_type": "execute_result",
          "data": {
            "text/plain": [
              "array([1.00000000e+00, 9.99905098e-01, 9.99618437e-01, 9.99137147e-01,\n",
              "       9.98458448e-01, 9.97579646e-01, 9.96498138e-01, 9.95211412e-01,\n",
              "       9.93717053e-01, 9.92012737e-01, 9.90096240e-01, 9.87965434e-01,\n",
              "       9.85618292e-01, 9.83052887e-01, 9.80267394e-01, 9.77260093e-01,\n",
              "       9.74029367e-01, 9.70573705e-01, 9.66891705e-01, 9.62982069e-01,\n",
              "       9.58843612e-01, 9.54475255e-01, 9.49876032e-01, 9.45045088e-01,\n",
              "       9.39981677e-01, 9.34685170e-01, 9.29155049e-01, 9.23390909e-01,\n",
              "       9.17392461e-01, 9.11159529e-01, 9.04692052e-01, 8.97990085e-01,\n",
              "       8.91053798e-01, 8.83883476e-01, 8.76479521e-01, 8.68842448e-01,\n",
              "       8.60972890e-01, 8.52871593e-01, 8.44539420e-01, 8.35977348e-01,\n",
              "       8.27186469e-01, 8.18167990e-01, 8.08923229e-01, 7.99453620e-01,\n",
              "       7.89760709e-01, 7.79846153e-01, 7.69711722e-01, 7.59359294e-01,\n",
              "       7.48790860e-01, 7.38008518e-01, 7.27014473e-01, 7.15811040e-01,\n",
              "       7.04400637e-01, 6.92785788e-01, 6.80969119e-01, 6.68953362e-01,\n",
              "       6.56741346e-01, 6.44336001e-01, 6.31740357e-01, 6.18957538e-01,\n",
              "       6.05990765e-01, 5.92843353e-01, 5.79518708e-01, 5.66020327e-01,\n",
              "       5.52351794e-01, 5.38516784e-01, 5.24519053e-01, 5.10362442e-01,\n",
              "       4.96050872e-01, 4.81588346e-01, 4.66978942e-01, 4.52226813e-01,\n",
              "       4.37336187e-01, 4.22311363e-01, 4.07156706e-01, 3.91876651e-01,\n",
              "       3.76475696e-01, 3.60958401e-01, 3.45329386e-01, 3.29593328e-01,\n",
              "       3.13754960e-01, 2.97819067e-01, 2.81790484e-01, 2.65674095e-01,\n",
              "       2.49474827e-01, 2.33197652e-01, 2.16847580e-01, 2.00429660e-01,\n",
              "       1.83948976e-01, 1.67410644e-01, 1.50819809e-01, 1.34181645e-01,\n",
              "       1.17501347e-01, 1.00784137e-01, 8.40352500e-02, 6.72599418e-02,\n",
              "       5.04634801e-02, 3.36511436e-02, 1.68282194e-02, 1.11022302e-16])"
            ]
          },
          "metadata": {},
          "execution_count": 31
        }
      ]
    },
    {
      "cell_type": "code",
      "source": [
        "sc.integrate.simpson(I,x)"
      ],
      "metadata": {
        "colab": {
          "base_uri": "https://localhost:8080/"
        },
        "id": "N8s224kr3z05",
        "outputId": "35617192-20cb-475e-aa2d-f121eb9c06ef"
      },
      "execution_count": null,
      "outputs": [
        {
          "output_type": "execute_result",
          "data": {
            "text/plain": [
              "0.5118446374265215"
            ]
          },
          "metadata": {},
          "execution_count": 32
        }
      ]
    },
    {
      "cell_type": "markdown",
      "source": [
        "Otra forma de verlo"
      ],
      "metadata": {
        "id": "0AwNrubK5uNE"
      }
    },
    {
      "cell_type": "code",
      "source": [
        "F=lambda x,y: 2*y*np.sin(x)+np.cos(x)**2\n",
        "for i, x_ in  enumerate(x):\n",
        "    y=np.linspace(np.cos(x_),np.sin(x_))\n",
        "    I=np.linspace(np.cos(x_),np.sin(x_))\n",
        "    I[i]=sc.integrate.simpson(F(x,y),y)\n"
      ],
      "metadata": {
        "id": "0AKe10ye1N-Y"
      },
      "execution_count": null,
      "outputs": []
    },
    {
      "cell_type": "code",
      "source": [
        "sc.integrate.simpson(I,x)"
      ],
      "metadata": {
        "colab": {
          "base_uri": "https://localhost:8080/"
        },
        "id": "fwLEO7RB2Nrt",
        "outputId": "d6644a1d-d7f0-4ad5-f059-12b322511a46"
      },
      "execution_count": null,
      "outputs": [
        {
          "output_type": "execute_result",
          "data": {
            "text/plain": [
              "0.5506379151671615"
            ]
          },
          "metadata": {},
          "execution_count": 35
        }
      ]
    },
    {
      "cell_type": "markdown",
      "source": [
        "5. Un péndulo físico en el regimen de pequeñas oscilaciones tiene un periodo de:\n",
        "\n",
        "\\begin{equation}\n",
        "P_0=2\\pi \\sqrt{\\frac{I_0}{mgb}}\n",
        "\\end{equation}\n",
        "\n",
        "Cuando las oscilaciones no son pequenas, podemos encontrar una expresión para el periodo como sigue:\n",
        "\n",
        "\n",
        "La energia de un péndulo físico viene dada por:\n",
        "\n",
        "\\begin{equation}\n",
        "E=\\frac{I_0\\omega^2}{2}+mgb(1-\\cos \\theta)\n",
        "\\end{equation}\n",
        "\n",
        "En el punto más alejado de su posición de equilibrio, su energía es solo potencial y viene dada por:\n",
        "\n",
        "\\begin{equation}\n",
        "Ep = mgb(1-\\cos \\theta),\n",
        "\\end{equation}\n",
        "\n",
        "Igualando ambas expresiones tenemos que:\n",
        "\n",
        "\\begin{equation}\n",
        "mgb(1-\\cos \\theta)=\\frac{I_0\\omega^2}{2}+mgb(1-\\cos \\theta)\n",
        "\\end{equation}\n",
        "\n",
        "Integrando la ecuación respecto a $\\theta$ y realizando la sustitución:\n",
        "\n",
        "$\\sin \\phi = \\frac{\\sin \\frac{\\theta}{2}}{\\sin \\frac{\\theta_0}{2}}$ y  $k = \\sin \\frac{\\theta_0}{2}$, se puede encontrar  que el periodo de oscilación, viene dado en terminos de  la integral elíptica completa de primera especie:\n",
        "\n",
        "\n",
        "\\begin{equation}\n",
        "P = \\frac{2P_0}{\\pi} \\int _0^{\\pi/2} \\frac{\\mathrm{d\\phi}}{\\sqrt{1-k^2\\sin^2\\phi}}\n",
        "\\end{equation}\n",
        "\n",
        "donde,  $P_0$ es el periodo de las oscilaciones pequeñas. La anterior integral.\n",
        "\n",
        "Determinar el periodo de oscilación de un péndulo. Para ello:\n",
        "\n",
        "1. Suponga los párametros iniciales del pendulo.\n",
        "2. Realice una buena planificación del código para calcular la integral.\n",
        "3. Emplee un  método de integracion numérico que conozca.\n",
        "4. Compruebe su solucion con el valor exact de la integral mostrado en el punto 5."
      ],
      "metadata": {
        "id": "L4uyWTgJKAfN"
      }
    },
    {
      "cell_type": "code",
      "source": [
        "import scipy as sc\n",
        "import numpy as np\n",
        "import matplotlib.pylab as plt"
      ],
      "metadata": {
        "id": "T3alKJ41dmeu"
      },
      "execution_count": null,
      "outputs": []
    },
    {
      "cell_type": "code",
      "source": [
        "#Datos iniciales\n",
        "b=0.5        #m      Longitud\n",
        "g=9.8        #m/s^2  gravedad\n",
        "m=0.1        #kg     masa\n",
        "I_0=83.33E-6 #Kg/m^2 momento de inercia\n"
      ],
      "metadata": {
        "id": "mtMEHIvxe0zJ"
      },
      "execution_count": null,
      "outputs": []
    },
    {
      "cell_type": "code",
      "source": [
        "#calculo del periodo\n",
        "p0=2*np.pi*np.sqrt(I_0/(m*g*b))\n",
        "p0"
      ],
      "metadata": {
        "colab": {
          "base_uri": "https://localhost:8080/"
        },
        "id": "0HYM6Sf1hPSN",
        "outputId": "bf299315-6bd2-44cd-d0f9-701aa3e7fcd3"
      },
      "execution_count": null,
      "outputs": [
        {
          "output_type": "execute_result",
          "data": {
            "text/plain": [
              "0.08193746419505879"
            ]
          },
          "metadata": {},
          "execution_count": 74
        }
      ]
    },
    {
      "cell_type": "code",
      "source": [
        "#Valores de theta y phi\n",
        "theta0=np.linspace(np.deg2rad(0.1),np.deg2rad(45), 10)\n",
        "phi=np.linspace(0,np.pi/2,1000)"
      ],
      "metadata": {
        "id": "62kfNa1iiabU"
      },
      "execution_count": null,
      "outputs": []
    },
    {
      "cell_type": "code",
      "source": [
        "def integral_eliptica(theta0,phi):\n",
        "    k= np.sin(theta0/2)\n",
        "    s=(2*p0)/np.pi\n",
        "    funcion_p=s*(1/(np.sqrt(1-(k)**2*(np.sin(phi)**2))))\n",
        "    return funcion_p\n",
        "\n",
        "#Intervalo de phi\n",
        "phi=np.linspace(0,np.pi/2,1000)\n",
        "\n",
        "#Definición del ciclo\n",
        "integral=np.zeros(len(theta0))\n",
        "for i,n_ in enumerate(theta0):\n",
        "    x=sc.integrate.trapezoid(integral_eliptica(n_,phi),phi)\n",
        "    integral[i]=x\n",
        "\n",
        "integral\n"
      ],
      "metadata": {
        "colab": {
          "base_uri": "https://localhost:8080/"
        },
        "id": "-Bwh7RB3jAdj",
        "outputId": "62704fa4-56f9-4d28-93c6-018d76d0f7eb"
      },
      "execution_count": null,
      "outputs": [
        {
          "output_type": "execute_result",
          "data": {
            "text/plain": [
              "array([0.08193748, 0.08197788, 0.08209618, 0.08229299, 0.08256937,\n",
              "       0.08292676, 0.08336712, 0.08389285, 0.0845069 , 0.08521278])"
            ]
          },
          "metadata": {},
          "execution_count": 79
        }
      ]
    },
    {
      "cell_type": "code",
      "source": [
        "#Gráfico\n",
        "plt.figure(figsize=(8,6))\n",
        "plt.plot(theta0,integral,\".-r\")\n",
        "plt.xlabel(\"$ θ_0$\", fontsize=14)\n",
        "plt.ylabel(\"$p$\", fontsize=14)\n",
        "plt.title(\"Gráfico $p$ vs  $θ_0$\", fontsize=16)\n",
        "plt.grid()\n",
        "plt.show()"
      ],
      "metadata": {
        "colab": {
          "base_uri": "https://localhost:8080/",
          "height": 578
        },
        "id": "Ww7DYTddtNH-",
        "outputId": "2de073a0-25dd-41be-a171-9027cde92193"
      },
      "execution_count": null,
      "outputs": [
        {
          "output_type": "display_data",
          "data": {
            "text/plain": [
              "<Figure size 800x600 with 1 Axes>"
            ],
            "image/png": "[encoded data removed]"
          },
          "metadata": {}
        }
      ]
    },
    {
      "cell_type": "code",
      "source": [
        "#Método integrate.quad\n",
        "integral_quad=np.zeros(len(theta0))\n",
        "error=np.zeros(len(theta0))\n",
        "\n",
        "for i, n_ in enumerate(theta0):\n",
        "    v=sc.integrate.quad(integral_eliptica,0,np.pi/2,args=(n_,))\n",
        "    integral_quad[i]=v[0]\n",
        "    error[i]=v[1]\n",
        "\n",
        "print(integral_quad)\n",
        "print(error)"
      ],
      "metadata": {
        "id": "4nA3wbEzuhKu",
        "colab": {
          "base_uri": "https://localhost:8080/"
        },
        "outputId": "3670ba63-c32a-4209-f74a-87c63ed50761"
      },
      "execution_count": null,
      "outputs": [
        {
          "output_type": "stream",
          "name": "stdout",
          "text": [
            "[0.08193749 0.08199614 0.08216703 0.08244855 0.08283784 0.08333056\n",
            " 0.08392056 0.08459941 0.08535585 0.08617516]\n",
            "[9.09688845e-16 9.10340001e-16 9.12237330e-16 9.15362803e-16\n",
            " 9.19684732e-16 9.25155042e-16 9.31705395e-16 9.39242158e-16\n",
            " 9.47640286e-16 9.56736436e-16]\n"
          ]
        }
      ]
    },
    {
      "cell_type": "code",
      "source": [
        "#Gráfico\n",
        "plt.figure(figsize=(8,6))\n",
        "plt.plot(theta0,integral_quad,\".-r\")\n",
        "plt.xlabel(\"$ θ_0$\", fontsize=14)\n",
        "plt.ylabel(\"$p$\", fontsize=14)\n",
        "plt.title(\"Gráfico $p$ en función del angulo de partida $θ_0$\", fontsize=16)\n",
        "plt.grid()\n",
        "plt.show()"
      ],
      "metadata": {
        "colab": {
          "base_uri": "https://localhost:8080/",
          "height": 578
        },
        "id": "6BxPoT_rurAd",
        "outputId": "17de022f-dd13-4856-acb5-3475d103d7f4"
      },
      "execution_count": null,
      "outputs": [
        {
          "output_type": "display_data",
          "data": {
            "text/plain": [
              "<Figure size 800x600 with 1 Axes>"
            ],
            "image/png": "[encoded data removed]"
          },
          "metadata": {}
        }
      ]
    }
  ]
}