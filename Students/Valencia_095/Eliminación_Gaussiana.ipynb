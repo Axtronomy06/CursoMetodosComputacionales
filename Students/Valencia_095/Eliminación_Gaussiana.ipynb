{
  "nbformat": 4,
  "nbformat_minor": 0,
  "metadata": {
    "colab": {
      "provenance": []
    },
    "kernelspec": {
      "name": "python3",
      "display_name": "Python 3"
    },
    "language_info": {
      "name": "python"
    }
  },
  "cells": [
    {
      "cell_type": "code",
      "source": [
        "#Librerías\n",
        "import numpy as np\n",
        "import scipy as sp\n",
        "import sympy as sy\n",
        "import copy"
      ],
      "metadata": {
        "id": "Yg-XUxMxrcOi"
      },
      "execution_count": null,
      "outputs": []
    },
    {
      "cell_type": "markdown",
      "source": [
        "# Caso particular paso a paso"
      ],
      "metadata": {
        "id": "p-Lqh7Li6mfZ"
      }
    },
    {
      "cell_type": "code",
      "source": [
        "A=np.array([[2,1,-1,5],[4,1,1,1],[6,2,1,4]])\n",
        "b=np.matrix(A)"
      ],
      "metadata": {
        "id": "PtK3v09Zr5Fx"
      },
      "execution_count": null,
      "outputs": []
    },
    {
      "cell_type": "code",
      "execution_count": null,
      "metadata": {
        "id": "ovJtUrhrqYz8",
        "colab": {
          "base_uri": "https://localhost:8080/",
          "height": 78
        },
        "outputId": "ec7a0832-fc75-4981-c9ae-c79e7bc785cb"
      },
      "outputs": [
        {
          "output_type": "execute_result",
          "data": {
            "text/plain": [
              "Matrix([\n",
              "[2, 1, -1, 5],\n",
              "[4, 1,  1, 1],\n",
              "[6, 2,  1, 4]])"
            ],
            "text/latex": "$\\displaystyle \\left[\\begin{matrix}2 & 1 & -1 & 5\\\\4 & 1 & 1 & 1\\\\6 & 2 & 1 & 4\\end{matrix}\\right]$"
          },
          "metadata": {},
          "execution_count": 3
        }
      ],
      "source": [
        "sy.Matrix(b)"
      ]
    },
    {
      "cell_type": "code",
      "source": [
        "#Primera fila\n",
        "b[0]"
      ],
      "metadata": {
        "colab": {
          "base_uri": "https://localhost:8080/"
        },
        "id": "OYa05sxty72I",
        "outputId": "1dbce12f-dcb1-4399-e3d1-4d1bda9a1afa"
      },
      "execution_count": null,
      "outputs": [
        {
          "output_type": "execute_result",
          "data": {
            "text/plain": [
              "matrix([[ 2,  1, -1,  5]])"
            ]
          },
          "metadata": {},
          "execution_count": 4
        }
      ]
    },
    {
      "cell_type": "code",
      "source": [
        "#Operación por escalar de la primera fila\n",
        "2*b[0]"
      ],
      "metadata": {
        "colab": {
          "base_uri": "https://localhost:8080/"
        },
        "id": "wa525oBgrXB_",
        "outputId": "bf2ad04e-c750-4438-c60a-b6cc55809412"
      },
      "execution_count": null,
      "outputs": [
        {
          "output_type": "execute_result",
          "data": {
            "text/plain": [
              "matrix([[ 4,  2, -2, 10]])"
            ]
          },
          "metadata": {},
          "execution_count": 5
        }
      ]
    },
    {
      "cell_type": "code",
      "source": [
        "#Almacena el resultado de suma\n",
        "b_copia=b.copy()"
      ],
      "metadata": {
        "id": "07OnkAA301Uo"
      },
      "execution_count": null,
      "outputs": []
    },
    {
      "cell_type": "code",
      "source": [
        "newR1=-2*b[0]+b[1]\n",
        "b_copia[1]=newR1\n",
        "b_copia"
      ],
      "metadata": {
        "colab": {
          "base_uri": "https://localhost:8080/"
        },
        "id": "x-mlQypezjTm",
        "outputId": "c422527b-2a83-42d4-c76f-51304ea7fcc2"
      },
      "execution_count": null,
      "outputs": [
        {
          "output_type": "execute_result",
          "data": {
            "text/plain": [
              "matrix([[ 2,  1, -1,  5],\n",
              "        [ 0, -1,  3, -9],\n",
              "        [ 6,  2,  1,  4]])"
            ]
          },
          "metadata": {},
          "execution_count": 7
        }
      ]
    },
    {
      "cell_type": "code",
      "source": [
        "newR2=-3*b[0]+b[2]\n",
        "b_copia[2]=newR2\n",
        "b_copia"
      ],
      "metadata": {
        "colab": {
          "base_uri": "https://localhost:8080/"
        },
        "id": "zOPpIawc0dOk",
        "outputId": "ba7fa18b-1dfb-49b5-d123-0e075307e723"
      },
      "execution_count": null,
      "outputs": [
        {
          "output_type": "execute_result",
          "data": {
            "text/plain": [
              "matrix([[  2,   1,  -1,   5],\n",
              "        [  0,  -1,   3,  -9],\n",
              "        [  0,  -1,   4, -11]])"
            ]
          },
          "metadata": {},
          "execution_count": 8
        }
      ]
    },
    {
      "cell_type": "code",
      "source": [
        "copia2 = b_copia.copy()"
      ],
      "metadata": {
        "id": "uIhYaEfl3-iP"
      },
      "execution_count": null,
      "outputs": []
    },
    {
      "cell_type": "code",
      "source": [
        "copia2"
      ],
      "metadata": {
        "colab": {
          "base_uri": "https://localhost:8080/"
        },
        "id": "Si-hXXRrFA6L",
        "outputId": "cea3332f-45b0-4101-eb2e-b6185fe8f071"
      },
      "execution_count": null,
      "outputs": [
        {
          "output_type": "execute_result",
          "data": {
            "text/plain": [
              "matrix([[  2,   1,  -1,   5],\n",
              "        [  0,  -1,   3,  -9],\n",
              "        [  0,  -1,   4, -11]])"
            ]
          },
          "metadata": {},
          "execution_count": 10
        }
      ]
    },
    {
      "cell_type": "code",
      "source": [
        "#Matriz triangular superior\n",
        "r2new=-1*copia2[1]+copia2[2]\n",
        "copia2[2]=r2new\n",
        "copia2"
      ],
      "metadata": {
        "colab": {
          "base_uri": "https://localhost:8080/"
        },
        "id": "uxKv72iG10Cz",
        "outputId": "ba24eaf0-0097-4710-d43c-9e31928cfd80"
      },
      "execution_count": null,
      "outputs": [
        {
          "output_type": "execute_result",
          "data": {
            "text/plain": [
              "matrix([[ 2,  1, -1,  5],\n",
              "        [ 0, -1,  3, -9],\n",
              "        [ 0,  0,  1, -2]])"
            ]
          },
          "metadata": {},
          "execution_count": 11
        }
      ]
    },
    {
      "cell_type": "markdown",
      "source": [
        "Definiendo las funciones"
      ],
      "metadata": {
        "id": "YFpfj00z8EKw"
      }
    },
    {
      "cell_type": "code",
      "source": [
        "A=np.array([[2,1,-1,5],[4,1,1,1],[6,2,1,4]])\n",
        "b=np.matrix(A)"
      ],
      "metadata": {
        "id": "tZvrxZY5JwRp"
      },
      "execution_count": null,
      "outputs": []
    },
    {
      "cell_type": "code",
      "source": [
        "def mult_escalar(b,indice,alpha):\n",
        "    b_escalar=b.copy()\n",
        "    b_escalar[indice]=alpha*b[indice]\n",
        "    return b_escalar"
      ],
      "metadata": {
        "id": "Q2djxDC08Uxu"
      },
      "execution_count": null,
      "outputs": []
    },
    {
      "cell_type": "code",
      "source": [
        "def inter_filas(b,fila1,fila2):\n",
        "    fila_temp=b.copy()\n",
        "    fila_temp[fila1]=b[fila2]\n",
        "    fila_temp[fila2]=b[fila1]\n",
        "    return fila_temp"
      ],
      "metadata": {
        "id": "zDO5fHb98DtL"
      },
      "execution_count": null,
      "outputs": []
    },
    {
      "cell_type": "code",
      "source": [
        "def sum_filas(b,fila1,fila2,alpha):\n",
        "    suma_f=b.copy()\n",
        "    suma_f[fila1]=b[fila1]+alpha*b[fila2]\n",
        "    return suma_f"
      ],
      "metadata": {
        "id": "trQpOlAJ6Aem"
      },
      "execution_count": null,
      "outputs": []
    },
    {
      "cell_type": "code",
      "source": [
        "#Ensayo\n",
        "#Iniciemos con la suma de filas\n",
        "boe1=sum_filas(b,1,0,-2)\n",
        "boe2=sum_filas(boe1,2,0,-3)\n",
        "boe3=sum_filas(boe2,2,1,-1)\n",
        "#Multiplicación por escalar\n",
        "mf=mult_escalar(boe3,1,-1)\n",
        "sy.Matrix(mf)\n",
        "#print(mf)"
      ],
      "metadata": {
        "colab": {
          "base_uri": "https://localhost:8080/",
          "height": 78
        },
        "id": "2WOzIFYh3F5n",
        "outputId": "99fef2bc-83b1-4ed5-fccc-498b0f36c307"
      },
      "execution_count": null,
      "outputs": [
        {
          "output_type": "execute_result",
          "data": {
            "text/plain": [
              "Matrix([\n",
              "[2, 1, -1,  5],\n",
              "[0, 1, -3,  9],\n",
              "[0, 0,  1, -2]])"
            ],
            "text/latex": "$\\displaystyle \\left[\\begin{matrix}2 & 1 & -1 & 5\\\\0 & 1 & -3 & 9\\\\0 & 0 & 1 & -2\\end{matrix}\\right]$"
          },
          "metadata": {},
          "execution_count": 16
        }
      ]
    },
    {
      "cell_type": "markdown",
      "source": [
        "Generalización del código"
      ],
      "metadata": {
        "id": "suitNGf_GpWj"
      }
    },
    {
      "cell_type": "code",
      "source": [
        "def mult_escalar(b2,indice,alpha):\n",
        "        b_escalar=b2.copy()\n",
        "        b_escalar[indice]=alpha*b2[indice]\n",
        "        return b_escalar\n",
        "\n",
        "def inter_filas(b2,fila1,fila2):\n",
        "    fila_temp=b2.copy()\n",
        "    fila_temp[fila1]=b2[fila2]\n",
        "    fila_temp[fila2]=b2[fila1]\n",
        "    return fila_temp\n",
        "\n",
        "def sum_filas(b2,fila1,fila2,alpha):\n",
        "    suma_f=b2.copy()\n",
        "    suma_f[fila1]=b2[fila1]+alpha*b2[fila2]\n",
        "    return suma_f"
      ],
      "metadata": {
        "id": "OtTE2_isQLqQ"
      },
      "execution_count": null,
      "outputs": []
    },
    {
      "cell_type": "markdown",
      "source": [
        "Nota:  b2_reducida1=np.copy(b2).astype('float64') el .astype(\"float\") fue una linea sugerida por chat gpt y fue de la única forma que me funcionó el código, vale la aclaración porque sola no hubiera llegado a esa conclusión para que el código cumpliera la función"
      ],
      "metadata": {
        "id": "ys4TAc_ob7hf"
      }
    },
    {
      "cell_type": "code",
      "source": [
        "def reduccion(b2):\n",
        "    triangular_inf=0\n",
        "    triangular_sup=0\n",
        "\n",
        "    for i in range(len(b2)):\n",
        "        for j in range(i+1,len(b2[i])):\n",
        "            if b2[i][j]!=0:\n",
        "                triangular_sup=1\n",
        "                break\n",
        "\n",
        "    for i in range(len(b2)):\n",
        "        for j in range(0,i):\n",
        "            if b2[i][j]!=0:\n",
        "                triangular_inf=2\n",
        "                break\n",
        "\n",
        "    if triangular_sup==1:\n",
        "        f1,c1=b2.shape\n",
        "        b2_reducida1=np.copy(b2).astype('float64')\n",
        "        for i in range(f1):\n",
        "            for j in range(i+1,f1):\n",
        "                factor=b2_reducida1[j,i]/b2_reducida1[i,i]\n",
        "                b2_reducida1[j,i:] -=factor*b2_reducida1[i,i:]\n",
        "            b2_reducida1[i,:]/=b2_reducida1[i,i]\n",
        "        return \"La matriz es triangular superior\",b2_reducida1\n",
        "\n",
        "    elif triangular_inf==2:\n",
        "        f2,c2=b2.shape\n",
        "        b2_reducida2=np.copy(b2).astype('float64')\n",
        "        for i in range(f2-1,0,-1):\n",
        "            for j in range(i):\n",
        "                factor=b2_reducida1[j,i]/b2_reducida1[i,i]\n",
        "                b2_reducida1[j,i:] -=factor*b2_reducida1[i,i:]\n",
        "            b2_reducida2[i,:]/=b2_reducida2[i,i]\n",
        "        return \"La matriz es triangular inferior\",b2_reducida2\n",
        "\n",
        "    else:\n",
        "        return \"La matriz no es ni triangular superior ni triangular inferior\""
      ],
      "metadata": {
        "id": "bK2Gu3R-dlkY"
      },
      "execution_count": null,
      "outputs": []
    },
    {
      "cell_type": "code",
      "source": [
        "b2=np.array([[2,1,-1,5],[4,1,1,1],[6,2,1,4]])\n",
        "matriz=reduccion(b2)\n",
        "matriz"
      ],
      "metadata": {
        "colab": {
          "base_uri": "https://localhost:8080/"
        },
        "id": "e1nPgA-Neb18",
        "outputId": "468c50a7-16a0-4fb1-eec0-96d5ee7c7686"
      },
      "execution_count": null,
      "outputs": [
        {
          "output_type": "execute_result",
          "data": {
            "text/plain": [
              "('La matriz es triangular superior',\n",
              " array([[ 1. ,  0.5, -0.5,  2.5],\n",
              "        [-0. ,  1. , -3. ,  9. ],\n",
              "        [ 0. ,  0. ,  1. , -2. ]]))"
            ]
          },
          "metadata": {},
          "execution_count": 19
        }
      ]
    },
    {
      "cell_type": "code",
      "source": [
        "#Otra matriz\n",
        "b3=np.array([[1,-1,1,2],[1,1,1,4],[2,2,-1,-4]])\n",
        "matriz=reduccion(b3)\n",
        "matriz"
      ],
      "metadata": {
        "id": "GpTri_5SdJGc",
        "colab": {
          "base_uri": "https://localhost:8080/"
        },
        "outputId": "6b65e705-4e8e-41a7-db75-49c01386b678"
      },
      "execution_count": null,
      "outputs": [
        {
          "output_type": "execute_result",
          "data": {
            "text/plain": [
              "('La matriz es triangular superior',\n",
              " array([[ 1., -1.,  1.,  2.],\n",
              "        [ 0.,  1.,  0.,  1.],\n",
              "        [-0., -0.,  1.,  4.]]))"
            ]
          },
          "metadata": {},
          "execution_count": 20
        }
      ]
    },
    {
      "cell_type": "code",
      "source": [
        "b4=np.array([[1,-1,1,2],[1,1,1,4],[2,2,-1,-4]])\n",
        "matriz=reduccion(b4)\n",
        "matriz"
      ],
      "metadata": {
        "colab": {
          "base_uri": "https://localhost:8080/"
        },
        "id": "eHfleebnTQ5Q",
        "outputId": "54416ef1-6fcc-475a-8d97-ae54954e8d71"
      },
      "execution_count": null,
      "outputs": [
        {
          "output_type": "execute_result",
          "data": {
            "text/plain": [
              "('La matriz es triangular superior',\n",
              " array([[ 1., -1.,  1.,  2.],\n",
              "        [ 0.,  1.,  0.,  1.],\n",
              "        [-0., -0.,  1.,  4.]]))"
            ]
          },
          "metadata": {},
          "execution_count": 21
        }
      ]
    },
    {
      "cell_type": "code",
      "source": [],
      "metadata": {
        "id": "ME8K0UBfc3TP"
      },
      "execution_count": null,
      "outputs": []
    }
  ]
}