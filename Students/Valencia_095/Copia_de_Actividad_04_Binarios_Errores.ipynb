{
  "cells": [
    {
      "cell_type": "markdown",
      "id": "6d26e874",
      "metadata": {
        "id": "6d26e874"
      },
      "source": [
        "<a href=\"https://colab.research.google.com/github/hernansalinas/autogrades/blob/main/Actividades_clase/Actividad_04_Binarios_Errores.ipynb\" target=\"_parent\"><img src=\"https://colab.research.google.com/assets/colab-badge.svg\" alt=\"Open In Colab\"/></a>\n",
        "\n",
        "\n",
        "\n",
        "# Actividad 4\n",
        "### Métodos computacionales para físicos  y astrónomos\n",
        "### Universidad de Antioquia\n",
        "### Prof: Hernan D. Salinas Jiménez\n"
      ]
    },
    {
      "cell_type": "code",
      "execution_count": null,
      "id": "eae80e3f",
      "metadata": {
        "id": "eae80e3f",
        "outputId": "c7c59b0c-f446-4aeb-c8cf-8fae1331a663",
        "colab": {
          "base_uri": "https://localhost:8080/"
        }
      },
      "outputs": [
        {
          "output_type": "stream",
          "name": "stdout",
          "text": [
            "fatal: destination path 'autogrades' already exists and is not an empty directory.\n"
          ]
        }
      ],
      "source": [
        "!git clone https://github.com/hernansalinas/autogrades.git\n",
        "#path=\"libs\"\n",
        "path=\"autogrades/Actividades_clase/libs\"\n",
        "%run -i {path}/libUnitTest.py"
      ]
    },
    {
      "cell_type": "markdown",
      "id": "74f1131a",
      "metadata": {
        "id": "74f1131a"
      },
      "source": [
        "### Activity 1.0:\n",
        "\n",
        "Implement a function that get the binary representation of an integer with name mybin, the algorithm should return\n",
        "a string with 8 characters, the maximun number that represent the funcition is integer of 8 bit. The name of function is\n",
        "mybin\n",
        "\n",
        "Ejexample :\n",
        "\n",
        "b=mybin(x)\n",
        "\n",
        "b='00101000'"
      ]
    },
    {
      "cell_type": "code",
      "execution_count": null,
      "id": "4c8dabcf",
      "metadata": {
        "id": "4c8dabcf"
      },
      "outputs": [],
      "source": [
        "##!/usr/bin/env python3\n",
        "def mybin(x):\n",
        "    print('__name__ = {}'.format(__name__))\n",
        "   # Write your code here and change the next line as required"
      ]
    },
    {
      "cell_type": "code",
      "source": [
        "#Observación de la recurrencia\n",
        "x=40\n",
        "cociente=int(x/2)\n",
        "residuo=x%2\n",
        "print(cociente, residuo)"
      ],
      "metadata": {
        "colab": {
          "base_uri": "https://localhost:8080/"
        },
        "id": "C39dYK4q1-40",
        "outputId": "b09f083d-bee9-4346-eb65-6ea68e265669"
      },
      "id": "C39dYK4q1-40",
      "execution_count": null,
      "outputs": [
        {
          "output_type": "stream",
          "name": "stdout",
          "text": [
            "20 0\n"
          ]
        }
      ]
    },
    {
      "cell_type": "code",
      "source": [
        "x=cociente\n",
        "cociente=int(x/2)\n",
        "residuo=x%2\n",
        "print(cociente, residuo)"
      ],
      "metadata": {
        "colab": {
          "base_uri": "https://localhost:8080/"
        },
        "id": "UahW7CTt2M-c",
        "outputId": "28d3cccc-16b6-458e-d17c-fa14f1e04120"
      },
      "id": "UahW7CTt2M-c",
      "execution_count": null,
      "outputs": [
        {
          "output_type": "stream",
          "name": "stdout",
          "text": [
            "10 0\n"
          ]
        }
      ]
    },
    {
      "cell_type": "code",
      "source": [
        "\n",
        "#print('__name__ = {}'.format(__name__))\n",
        "# Write your code here and change the next line as required\n",
        "\n",
        "#CUERPO DE CODIGO\n",
        "x= 40\n",
        "bin=\"\"\n",
        "while x>1:\n",
        "    cociente=int(x/2)\n",
        "    residuo=x%2\n",
        "    x=cociente\n",
        "    bin=bin+str(residuo)\n",
        "    if x<2:\n",
        "        bin=bin+str(cociente)\n",
        "    print(cociente, residuo)"
      ],
      "metadata": {
        "colab": {
          "base_uri": "https://localhost:8080/"
        },
        "id": "BQKd3mGiz1Q3",
        "outputId": "bc0884df-2665-46e5-df72-a3df516de3a1"
      },
      "id": "BQKd3mGiz1Q3",
      "execution_count": null,
      "outputs": [
        {
          "output_type": "stream",
          "name": "stdout",
          "text": [
            "20 0\n",
            "10 0\n",
            "5 0\n",
            "2 1\n",
            "1 0\n"
          ]
        }
      ]
    },
    {
      "cell_type": "code",
      "source": [
        "bin"
      ],
      "metadata": {
        "colab": {
          "base_uri": "https://localhost:8080/",
          "height": 36
        },
        "id": "64x57Kvp4Ekr",
        "outputId": "a28a8c5c-bd3b-449d-8494-c5139f639f3b"
      },
      "id": "64x57Kvp4Ekr",
      "execution_count": null,
      "outputs": [
        {
          "output_type": "execute_result",
          "data": {
            "text/plain": [
              "'000101'"
            ],
            "application/vnd.google.colaboratory.intrinsic+json": {
              "type": "string"
            }
          },
          "metadata": {},
          "execution_count": 6
        }
      ]
    },
    {
      "cell_type": "code",
      "source": [
        "bin[::-1] #Para que nos de el orden de el último al primero"
      ],
      "metadata": {
        "id": "n0ppn_455CaY",
        "outputId": "fbed12da-714d-4528-894a-4bd55af2c686",
        "colab": {
          "base_uri": "https://localhost:8080/",
          "height": 36
        }
      },
      "id": "n0ppn_455CaY",
      "execution_count": null,
      "outputs": [
        {
          "output_type": "execute_result",
          "data": {
            "text/plain": [
              "'101000'"
            ],
            "application/vnd.google.colaboratory.intrinsic+json": {
              "type": "string"
            }
          },
          "metadata": {},
          "execution_count": 7
        }
      ]
    },
    {
      "cell_type": "code",
      "source": [
        "bin[::-1].rjust(8,\"0\") #representación de 8 bits"
      ],
      "metadata": {
        "colab": {
          "base_uri": "https://localhost:8080/",
          "height": 36
        },
        "id": "GUU8muLg45-f",
        "outputId": "87a05b80-fd26-44da-a9a0-5513ddc7906c"
      },
      "id": "GUU8muLg45-f",
      "execution_count": null,
      "outputs": [
        {
          "output_type": "execute_result",
          "data": {
            "text/plain": [
              "'00101000'"
            ],
            "application/vnd.google.colaboratory.intrinsic+json": {
              "type": "string"
            }
          },
          "metadata": {},
          "execution_count": 8
        }
      ]
    },
    {
      "cell_type": "code",
      "source": [
        "#generalización del código\n",
        "def mybin(x):\n",
        "    bin=\"\"\n",
        "    while x>1:\n",
        "        cociente=int(x/2)\n",
        "        residuo=x%2\n",
        "        x=cociente\n",
        "        bin=bin+str(residuo)\n",
        "        if x<2:\n",
        "            bin=bin+str(cociente)\n",
        "        print(cociente, residuo)\n",
        "    return bin[::-1].rjust(8,\"0\")\n",
        "mybin(40)"
      ],
      "metadata": {
        "colab": {
          "base_uri": "https://localhost:8080/",
          "height": 123
        },
        "id": "AHPsgYaiQCac",
        "outputId": "57d2647d-a6a0-4b4d-d396-7353b7a334f1"
      },
      "id": "AHPsgYaiQCac",
      "execution_count": null,
      "outputs": [
        {
          "output_type": "stream",
          "name": "stdout",
          "text": [
            "20 0\n",
            "10 0\n",
            "5 0\n",
            "2 1\n",
            "1 0\n"
          ]
        },
        {
          "output_type": "execute_result",
          "data": {
            "text/plain": [
              "'00101000'"
            ],
            "application/vnd.google.colaboratory.intrinsic+json": {
              "type": "string"
            }
          },
          "metadata": {},
          "execution_count": 22
        }
      ]
    },
    {
      "cell_type": "code",
      "execution_count": null,
      "id": "885be6fb",
      "metadata": {
        "id": "885be6fb",
        "outputId": "700d2d76-1c7b-44d9-99e3-031985aa98ed",
        "colab": {
          "base_uri": "https://localhost:8080/"
        }
      },
      "outputs": [
        {
          "output_type": "stream",
          "name": "stdout",
          "text": [
            "100 0\n",
            "50 0\n",
            "25 0\n",
            "12 1\n",
            "6 0\n",
            "3 0\n",
            "1 1\n",
            "100 0\n",
            "50 0\n",
            "25 0\n",
            "12 1\n",
            "6 0\n",
            "3 0\n",
            "1 1\n",
            "La función no ha sido definda o el numero de argumento no es el adecuado\n"
          ]
        }
      ],
      "source": [
        "%run -i {path}/Act_02/test01.py"
      ]
    },
    {
      "cell_type": "markdown",
      "id": "e622b7b5",
      "metadata": {
        "id": "e622b7b5"
      },
      "source": [
        "### Activity 2.0:\n",
        "\n",
        "With the binary representation please try to implement the formula to recover the number.\n",
        "\n",
        "Hint: Use as input the binary representation as a string and invert its order\n",
        "\n",
        "```\n",
        "number32(BIN):\n",
        "\n",
        "```\n",
        "\n",
        "Where BIN is a string with the binary number\n",
        "\n",
        "Example:\n",
        "\n",
        "\n",
        "Test your solution for the next number:\n",
        "\n",
        "number32(\"00111110001000000000001000010000\")"
      ]
    },
    {
      "cell_type": "code",
      "source": [
        "def number32(BIN):\n",
        "    BIN=BIN[::-1]\n",
        "    s=int(BIN[31])\n",
        "    decimal=1\n",
        "    for i in range(len(BIN[0:23])):\n",
        "        decimal+= int(BIN[23-i])*2**(-i)\n",
        "\n",
        "    e=0\n",
        "    for i in range(len(BIN[23:30])):\n",
        "        e+=int(BIN[23+i])*2**i\n",
        "\n",
        "\n",
        "    numero_decimal=((-1)**s/2**(127-e))*decimal\n",
        "    return numero_decimal\n",
        "number32(\"00111110001000000000001000010000\")"
      ],
      "metadata": {
        "colab": {
          "base_uri": "https://localhost:8080/"
        },
        "id": "S5Dntz2flZSo",
        "outputId": "e0cdc61a-24e0-47dc-8d13-9225507ea273"
      },
      "id": "S5Dntz2flZSo",
      "execution_count": null,
      "outputs": [
        {
          "output_type": "execute_result",
          "data": {
            "text/plain": [
              "0.15625786781311035"
            ]
          },
          "metadata": {},
          "execution_count": 45
        }
      ]
    },
    {
      "cell_type": "code",
      "execution_count": null,
      "id": "155ffd7f",
      "metadata": {
        "id": "155ffd7f",
        "outputId": "8c6715b9-8d36-4ab4-bd7c-febd36d260bd",
        "colab": {
          "base_uri": "https://localhost:8080/"
        }
      },
      "outputs": [
        {
          "output_type": "stream",
          "name": "stdout",
          "text": [
            "La función no ha sido definda o el numero de argumento no es el adecuado\n"
          ]
        }
      ],
      "source": [
        "%run -i {path}/Act_02/test02.py"
      ]
    },
    {
      "cell_type": "markdown",
      "id": "d11e596d",
      "metadata": {
        "id": "d11e596d"
      },
      "source": [
        "### Activity 3.0:\n",
        "1. Write a python script that calculates the double precision number represented by a 64-bits binary.\n",
        "\n",
        "the name of function should be:\n",
        "```\n",
        "number64(BIN):\n",
        "\n",
        "```\n",
        "\n",
        "2. What is the number represented by:\n",
        "\n",
        "BIN=\"0 10000000011 1011100100001111111111111111111111111111111111111111\""
      ]
    },
    {
      "cell_type": "code",
      "execution_count": null,
      "id": "b0922a1d",
      "metadata": {
        "id": "b0922a1d",
        "colab": {
          "base_uri": "https://localhost:8080/"
        },
        "outputId": "f5caff46-f504-4221-8431-c495fc9a28a9"
      },
      "outputs": [
        {
          "output_type": "execute_result",
          "data": {
            "text/plain": [
              "21.783203124999996"
            ]
          },
          "metadata": {},
          "execution_count": 53
        }
      ],
      "source": [
        "def number64(BIN):\n",
        "    BIN=BIN[::-1]\n",
        "    s=int(BIN[63])\n",
        "    decimal=1\n",
        "    for i in range(1,len(BIN[0:52])):\n",
        "        decimal+= int(BIN[52-i])*2**(-i-1)\n",
        "\n",
        "    e=0\n",
        "    for i in range(0,len(BIN[52:62])+1):\n",
        "        e+=int(BIN[52+i])*2**i\n",
        "\n",
        "\n",
        "    numero_decimal=(((-1)**s)*(decimal)*(2**(e-1023)))\n",
        "    return numero_decimal\n",
        "number64(\"0100000000111011100100001111111111111111111111111111111111111111\")\n"
      ]
    },
    {
      "cell_type": "code",
      "execution_count": null,
      "id": "cd48a992",
      "metadata": {
        "scrolled": false,
        "id": "cd48a992",
        "outputId": "3045b36b-da23-4233-a8a8-f0caa7f3c025",
        "colab": {
          "base_uri": "https://localhost:8080/",
          "height": 141
        }
      },
      "outputs": [
        {
          "output_type": "error",
          "ename": "SyntaxError",
          "evalue": "ignored",
          "traceback": [
            "\u001b[0;36m  File \u001b[0;32m\"/content/autogrades/Actividades_clase/libs/Act_02/test03.py\"\u001b[0;36m, line \u001b[0;32m28\u001b[0m\n\u001b[0;31m    True)\u001b[0m\n\u001b[0m        ^\u001b[0m\n\u001b[0;31mSyntaxError\u001b[0m\u001b[0;31m:\u001b[0m unmatched ')'\n"
          ]
        }
      ],
      "source": [
        "%run -i {path}/Act_02/test03.py"
      ]
    }
  ],
  "metadata": {
    "kernelspec": {
      "display_name": "Python 3 (ipykernel)",
      "language": "python",
      "name": "python3"
    },
    "language_info": {
      "codemirror_mode": {
        "name": "ipython",
        "version": 3
      },
      "file_extension": ".py",
      "mimetype": "text/x-python",
      "name": "python",
      "nbconvert_exporter": "python",
      "pygments_lexer": "ipython3",
      "version": "3.10.9"
    },
    "colab": {
      "provenance": []
    }
  },
  "nbformat": 4,
  "nbformat_minor": 5
}