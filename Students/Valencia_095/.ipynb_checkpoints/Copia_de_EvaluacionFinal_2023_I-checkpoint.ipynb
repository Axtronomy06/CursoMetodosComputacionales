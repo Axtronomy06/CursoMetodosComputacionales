{
 "cells": [
  {
   "cell_type": "markdown",
   "metadata": {
    "id": "DAcqXSWlI0wx"
   },
   "source": [
    "<a href=\"https://colab.research.google.com/github/hernansalinas/autogrades/blob/main/Evaluaciones/EvaluacionFinal_2023_I.ipynb\" target=\"_parent\"><img src=\"https://colab.research.google.com/assets/colab-badge.svg\" alt=\"Open In Colab\"/></a>"
   ]
  },
  {
   "cell_type": "markdown",
   "metadata": {
    "id": "ZJKDD4sdpzP7"
   },
   "source": [
    "Examen Final:\n",
    "\n",
    "Métodos Computacionales para físicos\n",
    "\n",
    "\n",
    "\n",
    "Nota: La entrega del examen es a través del github en la página del curso, en el directorio asociado a cada uno.\n",
    "\n",
    "\n",
    "\n",
    "\n",
    "Las aletas son sólidos que transfieren calor por conducción a lo largo de su geometría y por convección a través de su entorno. La ecuación diferencial que describe la temperatura como función de  la longitud de una  aleta viene dada por :\n",
    "\n",
    "\n",
    "\\begin{equation}\n",
    "\\frac{d^2(T-T_{\\infty})}{dx^2} - \\left( \\frac{hp}{kAc} \\right ) ^2 (T-T_{\\infty})=0\n",
    "\\end{equation}\n",
    "\n",
    "donde Ac es el  área de la sección transversal Ac, p es perímetro,\n",
    "k es el coficiente de conducción que depende de cada material y h el coficiente de convección. La temperatura  $T_{\\infty}$ es la temperatura ambiente.\n",
    "\n",
    "\n",
    "![aleta](https://github.com/hernansalinas/autogradesMetodosComputacionales/blob/main/Evaluaciones/img/aleta.png?raw=true)\n",
    "\n",
    "\n",
    "\n",
    "En general, el área de la sección transversal A y el perímetro p de una aleta\n",
    "varían con x, lo cual hace que esta ecuación diferencial sea difícil de resolver. En el caso especial de una sección transversal constante y conductividad térmica constante, la ecuación diferencial se reduce a\n",
    "\n",
    "\\begin{equation}\n",
    "\\frac{d^2 \\theta}{dx^2} - a ^2 \\theta=0\n",
    "\\end{equation}\n",
    "\n",
    "\n",
    "donde  $\\theta=T-T_{\\infty}$ y $a=\\frac{hp}{kAc}$\n",
    "\n",
    "\n",
    "Para una aleta suficientemente larga de sección transversal uniforme (Ac =\n",
    "constante), la temperatura en la base de la aleta viene dada por:\n",
    "\n",
    "\n",
    "\\begin{equation}\n",
    "\\theta(0)=\\theta_b=T_b-T_{\\infty}\n",
    "\\end{equation}\n",
    "\n",
    "\n",
    " y en la punta de la aleta, tenderá a la del medio, por consiguiente $\\theta$ tenderá a cero.\n",
    "\n",
    "\\begin{equation}\n",
    "\\theta(L)=T(L)-T_{\\infty}=0\n",
    "\\end{equation}\n",
    "\n",
    "La solucion  exacta viene dada por :\n",
    "\n",
    "\\begin{equation}\n",
    "T(x)=T_{\\infty}+(T_b-T_{\\infty})e^{-x\\sqrt{hp/kAc}}\n",
    "\\end{equation}\n",
    "\n",
    "\n",
    "\n",
    "Considerando  una aleta rectangular muy larga, fijada a una\n",
    "superficie plana de tal forma que la temperatura en el extremo\n",
    "de la aleta es prácticamente la del aire circundante, es decir,\n",
    "$T_{\\infty}=300K$. Asuma que el ancho es de 5.0 cm, el espesor de 1 mm, es decir, su area $A=5\\times 10^{-5}m^2$ y su perimetro de $p=0.102m$. La  conductividad térmica es $k=200 W/m K$, la temperatura en la base de $T_b=313K$ y el coeficiente de transferencia de calor es de $h=20 W/m^2K$. Calcule:\n",
    "\n",
    "\n",
    "\n",
    "1 (30%) La solución numérica de la ecuación diferencial.\n",
    "\n",
    "2 (20%) Construya un gráfico de  la temperatura de la aleta como función de la longitud de la aleta\n",
    "\n",
    "3 (25%) Compare la solución numérica con la analítica\n",
    "\n",
    "4 (25%) Empleando el método de newton detetermine el punto de la aleta para la cual la temperatura es de 305K\n",
    "\n",
    "\n",
    "\n",
    "\n",
    "\n",
    "Referencias: Ejercicio e imagenes tomado y adaptado de:\n",
    "\n",
    "Cengel, Y. A. (2016). “Transferencia de calor y masa” McGRAW-HILL/INTERAMERICANA EDITORES, S.A. DE C.V. 3ra. Edición\n",
    "\n"
   ]
  },
  {
   "cell_type": "code",
   "execution_count": 1,
   "metadata": {
    "id": "rxRsd3urKPv5"
   },
   "outputs": [],
   "source": [
    "import numpy as np\n",
    "import matplotlib.pylab as plt\n",
    "from scipy.integrate import odeint\n",
    "import sympy as sy\n",
    "import scipy as sc"
   ]
  },
  {
   "cell_type": "code",
   "execution_count": 2,
   "metadata": {
    "id": "AkOvTEXo1X8i"
   },
   "outputs": [],
   "source": [
    "#condiciones iniciales\n",
    "Tinf=300    #K\n",
    "ancho=0.5   #cm\n",
    "espesor=0.001 #m\n",
    "A=5E-5      #m^2\n",
    "p=0.102     #m\n",
    "Tb=313      #k\n",
    "h=20        #W/mK\n",
    "k=1         #cte\n",
    "Ac=1        #cte"
   ]
  },
  {
   "cell_type": "code",
   "execution_count": 3,
   "metadata": {
    "id": "m0QJaoQSKek9"
   },
   "outputs": [],
   "source": [
    "#Parámetros\n",
    "theta0=Tb-Tinf\n",
    "a=(h*p)/k*Ac\n",
    "x=np.linspace(0,10,1000)"
   ]
  },
  {
   "cell_type": "markdown",
   "metadata": {
    "id": "FkZrhkfmauHu"
   },
   "source": [
    "Numérica"
   ]
  },
  {
   "cell_type": "code",
   "execution_count": 4,
   "metadata": {
    "id": "pMFrQtTpKJqp"
   },
   "outputs": [
    {
     "ename": "SyntaxError",
     "evalue": "invalid syntax (3248489669.py, line 1)",
     "output_type": "error",
     "traceback": [
      "\u001b[0;36m  Cell \u001b[0;32mIn[4], line 1\u001b[0;36m\u001b[0m\n\u001b[0;31m    def aleta(,x):\u001b[0m\n\u001b[0m              ^\u001b[0m\n\u001b[0;31mSyntaxError\u001b[0m\u001b[0;31m:\u001b[0m invalid syntax\n"
     ]
    }
   ],
   "source": [
    "def aleta(,x):\n",
    "    dthetadx=\n",
    "\n",
    "    return np.array([dthetadx,])\n"
   ]
  },
  {
   "cell_type": "code",
   "execution_count": 5,
   "metadata": {
    "id": "jdEu2xomQkmb"
   },
   "outputs": [
    {
     "ename": "NameError",
     "evalue": "name 'aleta' is not defined",
     "output_type": "error",
     "traceback": [
      "\u001b[0;31m---------------------------------------------------------------------------\u001b[0m",
      "\u001b[0;31mNameError\u001b[0m                                 Traceback (most recent call last)",
      "Cell \u001b[0;32mIn[5], line 1\u001b[0m\n\u001b[0;32m----> 1\u001b[0m solucion_edo\u001b[38;5;241m=\u001b[39modeint(\u001b[43maleta\u001b[49m,x)\n\u001b[1;32m      2\u001b[0m solucion_edo\n",
      "\u001b[0;31mNameError\u001b[0m: name 'aleta' is not defined"
     ]
    }
   ],
   "source": [
    "solucion_edo=odeint(aleta,x)\n",
    "solucion_edo"
   ]
  },
  {
   "cell_type": "code",
   "execution_count": 6,
   "metadata": {
    "id": "2TGbQNpfa1S_"
   },
   "outputs": [
    {
     "data": {
      "image/png": "[encoded data removed]",
      "text/plain": [
       "<Figure size 600x800 with 1 Axes>"
      ]
     },
     "metadata": {},
     "output_type": "display_data"
    }
   ],
   "source": [
    "#Grafico\n",
    "plt.figure(figsize=(6,8))\n",
    "plt.plot()\n",
    "plt.xlabel(\"L\")\n",
    "plt.ylabel(\"T\")\n",
    "plt.title(\"T en función de L\")\n",
    "plt.grid()\n",
    "plt.show()"
   ]
  },
  {
   "cell_type": "markdown",
   "metadata": {
    "id": "_ReQ8ibzaqEo"
   },
   "source": [
    "Simbólica"
   ]
  },
  {
   "cell_type": "code",
   "execution_count": 7,
   "metadata": {
    "id": "ghhFGup-ZMXX"
   },
   "outputs": [
    {
     "ename": "NameError",
     "evalue": "name 'aleta' is not defined",
     "output_type": "error",
     "traceback": [
      "\u001b[0;31m---------------------------------------------------------------------------\u001b[0m",
      "\u001b[0;31mNameError\u001b[0m                                 Traceback (most recent call last)",
      "Cell \u001b[0;32mIn[7], line 5\u001b[0m\n\u001b[1;32m      1\u001b[0m x\u001b[38;5;241m=\u001b[39msy\u001b[38;5;241m.\u001b[39mSymbol(\u001b[38;5;124m\"\u001b[39m\u001b[38;5;124mx\u001b[39m\u001b[38;5;124m\"\u001b[39m)\n\u001b[1;32m      2\u001b[0m theta\u001b[38;5;241m=\u001b[39msy\u001b[38;5;241m.\u001b[39mSymbol(\u001b[38;5;124m\"\u001b[39m\u001b[38;5;124mtheta\u001b[39m\u001b[38;5;124m\"\u001b[39m)\n\u001b[0;32m----> 5\u001b[0m sy\u001b[38;5;241m.\u001b[39mdsolve(\u001b[43maleta\u001b[49m)\n",
      "\u001b[0;31mNameError\u001b[0m: name 'aleta' is not defined"
     ]
    }
   ],
   "source": [
    "x=sy.Symbol(\"x\")\n",
    "theta=sy.Symbol(\"theta\")\n",
    "\n",
    "\n",
    "sy.dsolve(aleta)"
   ]
  },
  {
   "cell_type": "code",
   "execution_count": 8,
   "metadata": {
    "id": "qiwhzymDbN9U"
   },
   "outputs": [
    {
     "ename": "NameError",
     "evalue": "name 'aleta' is not defined",
     "output_type": "error",
     "traceback": [
      "\u001b[0;31m---------------------------------------------------------------------------\u001b[0m",
      "\u001b[0;31mNameError\u001b[0m                                 Traceback (most recent call last)",
      "Cell \u001b[0;32mIn[8], line 1\u001b[0m\n\u001b[0;32m----> 1\u001b[0m metodo_newton\u001b[38;5;241m=\u001b[39msc\u001b[38;5;241m.\u001b[39moptimize\u001b[38;5;241m.\u001b[39mnewton(\u001b[43maleta\u001b[49m,tol\u001b[38;5;241m=\u001b[39m\u001b[38;5;241m0.001\u001b[39m)\n\u001b[1;32m      2\u001b[0m metodo_newton\n",
      "\u001b[0;31mNameError\u001b[0m: name 'aleta' is not defined"
     ]
    }
   ],
   "source": [
    "metodo_newton=sc.optimize.newton(aleta,tol=0.001)\n",
    "metodo_newton"
   ]
  },
  {
   "cell_type": "code",
   "execution_count": null,
   "metadata": {},
   "outputs": [],
   "source": []
  }
 ],
 "metadata": {
  "colab": {
   "provenance": []
  },
  "kernelspec": {
   "display_name": "Python 3 (ipykernel)",
   "language": "python",
   "name": "python3"
  },
  "language_info": {
   "codemirror_mode": {
    "name": "ipython",
    "version": 3
   },
   "file_extension": ".py",
   "mimetype": "text/x-python",
   "name": "python",
   "nbconvert_exporter": "python",
   "pygments_lexer": "ipython3",
   "version": "3.10.9"
  }
 },
 "nbformat": 4,
 "nbformat_minor": 1
}
