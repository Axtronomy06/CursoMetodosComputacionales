{
 "cells": [
  {
   "cell_type": "markdown",
   "metadata": {
    "id": "s5wY_o_xZssF"
   },
   "source": [
    "## **TALLER**"
   ]
  },
  {
   "cell_type": "markdown",
   "metadata": {
    "id": "bKhXJpxPZpnh"
   },
   "source": [
    "## **1.** Crea una función llamada doble_factorial que reciba un parámetro llamado n. La función debe devolver el doble factorial de n, que se define como el producto de todos los números naturales desde n hasta 1 que tienen el mismo paridad que n. Por ejemplo, si n es 5, la función debe devolver 15, que es el resultado de 5 x 3 x 1. Llama a la función doble_factorial con diferentes valores para el parámetro n, como 6, 7 o 8.\n",
    "\n",
    "\n"
   ]
  },
  {
   "cell_type": "code",
   "execution_count": 1,
   "metadata": {
    "colab": {
     "base_uri": "https://localhost:8080/"
    },
    "id": "is6EHyfZ6F_w",
    "outputId": "78b4f685-9f9d-437e-f324-1212f07cb569"
   },
   "outputs": [
    {
     "name": "stdout",
     "output_type": "stream",
     "text": [
      "El doble factorial del numero es: 48\n",
      "El doble factorial del numero es: 105\n",
      "El doble factorial del numero es: 384\n"
     ]
    }
   ],
   "source": [
    "def doble_factorial(n):\n",
    "    isinstance(n,int)\n",
    "    if n<0:\n",
    "        print(\"El numero no pertenece al conjunto de los naturales, por favor ingrese un numero natural\")\n",
    "        return False\n",
    "    elif n==0 or n==1:\n",
    "        return 1\n",
    "\n",
    "    num_doble_factorial=1\n",
    "    while n>1:\n",
    "        num_doble_factorial=num_doble_factorial*n\n",
    "        n -=2\n",
    "\n",
    "    return num_doble_factorial\n",
    "\n",
    "num_do_factorial= doble_factorial(6)\n",
    "print(\"El doble factorial del numero es:\",num_do_factorial)\n",
    "\n",
    "num_do_factorial= doble_factorial(7)\n",
    "print(\"El doble factorial del numero es:\",num_do_factorial)\n",
    "\n",
    "num_do_factorial= doble_factorial(8)\n",
    "print(\"El doble factorial del numero es:\",num_do_factorial)\n"
   ]
  },
  {
   "cell_type": "markdown",
   "metadata": {
    "id": "q8uLYvScZyAq"
   },
   "source": [
    "## **2.**Crea una función llamada lucas que reciba un parámetro llamado n. La función debe devolver el n-ésimo término de la sucesión de Lucas, que se define de forma similar a la sucesión de Fibonacci, pero con los dos primeros términos iguales a 2 y 1. Por ejemplo, si n es 3, la función debe devolver 4, que es el tercer término de la sucesión. Llama a la función lucas con diferentes valores para el parámetro n, como 9, 10 o 11."
   ]
  },
  {
   "cell_type": "code",
   "execution_count": 2,
   "metadata": {
    "colab": {
     "base_uri": "https://localhost:8080/"
    },
    "id": "-6gQEUgIYK9d",
    "outputId": "8d8b07ab-8c02-4896-99a7-487cd4ddc608"
   },
   "outputs": [
    {
     "name": "stdout",
     "output_type": "stream",
     "text": [
      "El enésimo termino de lucas es:76\n",
      "El enésimo termino de lucas es:123\n",
      "El enésimo termino de lucas es:199\n"
     ]
    }
   ],
   "source": [
    "def lucas(n):\n",
    "    n_1=2\n",
    "    n_2=1\n",
    "    for n in range(1,n,1):\n",
    "        n_esimo= n_1+n_2\n",
    "        n_1=n_2\n",
    "        n_2=n_esimo\n",
    "    return n_esimo\n",
    "\n",
    "print(f\"El enésimo termino de lucas es:{lucas(9)}\")\n",
    "print(f\"El enésimo termino de lucas es:{lucas(10)}\")\n",
    "print(f\"El enésimo termino de lucas es:{lucas(11)}\")"
   ]
  },
  {
   "cell_type": "markdown",
   "metadata": {
    "id": "YcwLBREhdQjv"
   },
   "source": [
    "## **3.** Crea una función llamada binomial que reciba dos parámetros llamados n y k. La función debe devolver el coeficiente binomial de n y k, que se define como el número de formas de elegir k elementos distintos de un conjunto de n elementos. Por ejemplo, si n es 5 y k es 3, la función debe devolver 10, ya que hay diez formas de elegir tres elementos distintos de un conjunto de cinco elementos. Llama a la función binomial con diferentes valores para los parámetros n y k, como 6 y 4, o 7 y 2."
   ]
  },
  {
   "cell_type": "code",
   "execution_count": 3,
   "metadata": {
    "colab": {
     "base_uri": "https://localhost:8080/"
    },
    "id": "k78dewiywB4W",
    "outputId": "c913784e-e89a-40e4-c37a-283adf795bcb"
   },
   "outputs": [
    {
     "name": "stdout",
     "output_type": "stream",
     "text": [
      "El coeficiente binomial es:15\n",
      "El coeficiente binomial es:21\n",
      "El coeficiente binomial es:10\n"
     ]
    }
   ],
   "source": [
    "def factorial_n(n):\n",
    "    if n==0 or n==1:\n",
    "        return 1\n",
    "    else:\n",
    "        n_factorial=1\n",
    "    while n>1:\n",
    "        n_factorial*=n\n",
    "        n -= 1\n",
    "    return n_factorial\n",
    "\n",
    "def factorial_k(k):\n",
    "    if k==0 or k==1:\n",
    "        return 1\n",
    "    else:\n",
    "        k_factorial=1\n",
    "    while k>1:\n",
    "            k_factorial*=k\n",
    "            k-=1\n",
    "    return k_factorial\n",
    "\n",
    "    r=n-k\n",
    "def factorial_resta(r):\n",
    "    if r==0 or r==1:\n",
    "        return 1\n",
    "    else:\n",
    "        r_factorial=1\n",
    "    while r>1:\n",
    "        r_factorial*=r\n",
    "        r -= 1\n",
    "    return r_factorial\n",
    "\n",
    "def binomial(n,k):\n",
    "    if n<0 or k<0:\n",
    "        print(\"El numero no pertenece al conjunto de los naturales, por favor ingrese un numero natural\")\n",
    "        return False\n",
    "    elif n==0 or n==1 or k==0 or k==1:\n",
    "        return 1\n",
    "    else:\n",
    "        num_n_factorial=factorial_n(n)\n",
    "        num_k_factorial=factorial_k(k)\n",
    "        num_r_factorial=factorial_resta(n-k)\n",
    "        formula=int(num_n_factorial/(num_k_factorial*num_r_factorial))\n",
    "        return formula\n",
    "\n",
    "print(f\"El coeficiente binomial es:{binomial(6,4)}\")\n",
    "print(f\"El coeficiente binomial es:{binomial(7,2)}\")\n",
    "print(f\"El coeficiente binomial es:{binomial(5,3)}\")\n"
   ]
  },
  {
   "cell_type": "code",
   "execution_count": null,
   "metadata": {},
   "outputs": [],
   "source": []
  },
  {
   "cell_type": "code",
   "execution_count": null,
   "metadata": {},
   "outputs": [],
   "source": []
  }
 ],
 "metadata": {
  "colab": {
   "provenance": []
  },
  "kernelspec": {
   "display_name": "Python 3 (ipykernel)",
   "language": "python",
   "name": "python3"
  },
  "language_info": {
   "codemirror_mode": {
    "name": "ipython",
    "version": 3
   },
   "file_extension": ".py",
   "mimetype": "text/x-python",
   "name": "python",
   "nbconvert_exporter": "python",
   "pygments_lexer": "ipython3",
   "version": "3.10.9"
  }
 },
 "nbformat": 4,
 "nbformat_minor": 1
}
