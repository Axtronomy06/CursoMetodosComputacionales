{
 "cells": [
  {
   "cell_type": "code",
   "execution_count": null,
   "metadata": {
    "id": "A0zwfVQfxFye"
   },
   "outputs": [],
   "source": [
    "import numpy as np\n",
    "import scipy as sc\n",
    "import matplotlib.pylab as plt\n",
    "from scipy import optimize"
   ]
  },
  {
   "cell_type": "code",
   "execution_count": null,
   "metadata": {
    "colab": {
     "base_uri": "https://localhost:8080/",
     "height": 430
    },
    "id": "CjLmFt_dz681",
    "outputId": "9130ac0e-577d-4b10-fb9a-6e79efd04dee"
   },
   "outputs": [
    {
     "data": {
      "image/png": "[encoded data removed]",
      "text/plain": [
       "<Figure size 640x480 with 1 Axes>"
      ]
     },
     "metadata": {},
     "output_type": "display_data"
    }
   ],
   "source": [
    "x=np.linspace(0,10,100)\n",
    "f=lambda x:(x**2-1)-10\n",
    "f_prima=lambda x:2*(x-1)\n",
    "plt.plot(x,f(x), label=\"f(x)\")\n",
    "plt.plot(x,f_prima(x), label=\"f'(x)\")\n",
    "plt.legend()\n",
    "plt.grid()"
   ]
  },
  {
   "cell_type": "code",
   "execution_count": null,
   "metadata": {
    "colab": {
     "base_uri": "https://localhost:8080/"
    },
    "id": "uT3l1z0CnG6t",
    "outputId": "5d7589e5-197a-4a75-d2d8-37a529c52467"
   },
   "outputs": [
    {
     "name": "stdout",
     "output_type": "stream",
     "text": [
      "(3.2360679850099823, 4)\n"
     ]
    }
   ],
   "source": [
    "#Parámetros iniciales\n",
    "x0=5\n",
    "f=lambda x:(x-1)**2-5\n",
    "f_prima=lambda x:2*(x-1)\n",
    "epsilon=1E-5\n",
    "Nmax=100\n",
    "iter=0\n",
    "\n",
    "while abs(f(x0))>=epsilon and iter<=Nmax:\n",
    "    x1 = x0-f(x0)/f_prima(x0)\n",
    "    x0=x1\n",
    "    iter+=1\n",
    "resultado=(x0,iter)\n",
    "print(resultado)\n"
   ]
  },
  {
   "cell_type": "code",
   "execution_count": null,
   "metadata": {
    "id": "GOW36t-kvcpE"
   },
   "outputs": [],
   "source": [
    "#Función del método de Newton\n",
    "#Datos iniciales\n",
    "f=lambda x:(x-1)**2-5\n",
    "f_prima=lambda x:2*(x-1)\n",
    "\n",
    "def newton_raphson(f,f_prima,x0,epsilon=1E-6,Nmax=1000):\n",
    "    iter=0\n",
    "    while abs(f(x0))>=epsilon and iter<=Nmax:\n",
    "        x1=x0-f(x0)/f_prima(x0)\n",
    "        x0=x1\n",
    "        iter+=1\n",
    "    return x0,iter"
   ]
  },
  {
   "cell_type": "code",
   "execution_count": null,
   "metadata": {
    "colab": {
     "base_uri": "https://localhost:8080/"
    },
    "id": "pJTVJZJ4zbiL",
    "outputId": "e99291eb-ec08-4879-bdc1-4c4fe8df73a0"
   },
   "outputs": [
    {
     "name": "stdout",
     "output_type": "stream",
     "text": [
      "(3.358660194408003e-08, 4, 3.2360679850099823)\n"
     ]
    }
   ],
   "source": [
    "x0, _= newton_raphson(f,f_prima,5)\n",
    "resultado=(f(x0), _ , x0)\n",
    "print(resultado)"
   ]
  },
  {
   "cell_type": "code",
   "execution_count": null,
   "metadata": {
    "id": "aljrshK71ehX"
   },
   "outputs": [],
   "source": [
    "#Valor a\n",
    "a=2\n",
    "\n",
    "def f(x,a):\n",
    "    g=a*(x-1)**2-5\n",
    "    return g\n",
    "\n",
    "def fp(x,a):\n",
    "    g=2*a(x-1)\n",
    "    return g\n",
    "\n"
   ]
  },
  {
   "cell_type": "code",
   "execution_count": null,
   "metadata": {
    "colab": {
     "base_uri": "https://localhost:8080/"
    },
    "id": "GVIEBt7E1wGT",
    "outputId": "92c92634-e919-4304-8e8e-7f84b21066bf"
   },
   "outputs": [
    {
     "name": "stdout",
     "output_type": "stream",
     "text": [
      "valor de x0_ 2.58113883008411\n",
      "f(x0_,a) -5.03597163969971e-13\n"
     ]
    }
   ],
   "source": [
    "x0_ = optimize.newton(f,2,args=(a,)) #libreria\n",
    "print(\"valor de x0_\",x0_)\n",
    "print(\"f(x0_,a)\",f(x0_, a))"
   ]
  }
 ],
 "metadata": {
  "colab": {
   "provenance": []
  },
  "kernelspec": {
   "display_name": "Python 3 (ipykernel)",
   "language": "python",
   "name": "python3"
  },
  "language_info": {
   "codemirror_mode": {
    "name": "ipython",
    "version": 3
   },
   "file_extension": ".py",
   "mimetype": "text/x-python",
   "name": "python",
   "nbconvert_exporter": "python",
   "pygments_lexer": "ipython3",
   "version": "3.10.9"
  }
 },
 "nbformat": 4,
 "nbformat_minor": 1
}
