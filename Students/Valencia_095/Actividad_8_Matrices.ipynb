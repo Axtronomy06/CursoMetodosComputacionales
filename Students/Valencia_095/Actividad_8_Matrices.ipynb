{
  "nbformat": 4,
  "nbformat_minor": 0,
  "metadata": {
    "colab": {
      "provenance": []
    },
    "kernelspec": {
      "name": "python3",
      "display_name": "Python 3"
    },
    "language_info": {
      "name": "python"
    }
  },
  "cells": [
    {
      "cell_type": "markdown",
      "source": [
        "## **Actividad Matrices**\n",
        "\n",
        "Para los siguientes enunciados trabajar con matrices simbolicas y objetos de numpy.\n",
        "\n",
        "1. Diseñar un programa que permita sumar dos matrices.\n",
        "\n",
        "2. Diseñar un programa que permita multiplicar dos matrices.\n",
        "\n",
        "3. Determinar la transpuesta de una matrix\n",
        "\n",
        "4. La matriz de rotación en 2D. Es una matriz que se usa para rotar puntos en el plano xy en sentido antihorario alrededor del origen. La matriz tiene la siguiente forma:\n",
        "\n",
        "\\begin{equation}\n",
        "R(\\theta)=\n",
        "\\begin{bmatrix}\n",
        "cos(\\theta) & -sin(\\theta) \\\\\n",
        "sin(\\theta) & cos(\\theta) \\\\\n",
        "\\end{bmatrix}\n",
        "\\end{equation}\n",
        "\n",
        "Construir un programa en python que permita realizar la rotación de un vector un ángulo theta, Mostrar la representación vectorial en el plano indicando la rotacion a realizar.\n",
        "\n",
        "Pruebe su solución para el vector $\\vec{v}=(1,1)$\n",
        " rotado 20 grados en sentido antihorario. Muestre el vector antes de la rotación y después de la rotación"
      ],
      "metadata": {
        "id": "Yt5uzXJizwyA"
      }
    },
    {
      "cell_type": "code",
      "source": [
        "#Librerías\n",
        "import numpy as np\n",
        "import matplotlib.pylab as plt"
      ],
      "metadata": {
        "id": "DEQdn87z3ZwL"
      },
      "execution_count": null,
      "outputs": []
    },
    {
      "cell_type": "markdown",
      "source": [
        "## Suma de dos matrices"
      ],
      "metadata": {
        "id": "EHUdohnW3H4U"
      }
    },
    {
      "cell_type": "code",
      "execution_count": null,
      "metadata": {
        "id": "w3by6JnmznNO"
      },
      "outputs": [],
      "source": [
        "def suma_mtz(A,B):\n",
        "    if len(A) != len(B) or len(A[0]) != len(B[0]):\n",
        "        print(\"no es posible sumar las matrices pues son de dimensiones diferentes\")\n",
        "        return None\n",
        "\n",
        "    suma=np.zeros((len(A),len(A[0])))\n",
        "\n",
        "    for i in range(len(A)):\n",
        "        for j in range(len(A[0])):\n",
        "            suma[i][j]=A[i][j]+B[i][j]\n",
        "\n",
        "    return suma"
      ]
    },
    {
      "cell_type": "markdown",
      "source": [
        "Ejemplo particular para verificar el código"
      ],
      "metadata": {
        "id": "A0tfSODn1qHv"
      }
    },
    {
      "cell_type": "code",
      "source": [
        "A1=np.array([[1,2],[4,5]])\n",
        "B1=np.array([[2,4],[3,6]])\n",
        "suma_AB= suma_mtz(A1,B1)\n",
        "suma_AB"
      ],
      "metadata": {
        "colab": {
          "base_uri": "https://localhost:8080/"
        },
        "id": "OKyzl2Z31mgi",
        "outputId": "b7fae841-354b-458f-b38d-cca148c8baec"
      },
      "execution_count": null,
      "outputs": [
        {
          "output_type": "execute_result",
          "data": {
            "text/plain": [
              "array([[ 3.,  6.],\n",
              "       [ 7., 11.]])"
            ]
          },
          "metadata": {},
          "execution_count": 19
        }
      ]
    },
    {
      "cell_type": "code",
      "source": [
        "#Usando la librería\n",
        "suma_ABl=np.add(A1,B1)\n",
        "suma_ABl"
      ],
      "metadata": {
        "colab": {
          "base_uri": "https://localhost:8080/"
        },
        "id": "LdURUhFMe6-I",
        "outputId": "0c2ec2ae-b27d-410b-a94f-7407d3283b59"
      },
      "execution_count": null,
      "outputs": [
        {
          "output_type": "execute_result",
          "data": {
            "text/plain": [
              "array([[ 3,  6],\n",
              "       [ 7, 11]])"
            ]
          },
          "metadata": {},
          "execution_count": 21
        }
      ]
    },
    {
      "cell_type": "markdown",
      "source": [
        "## Multiplicación de dos Matrices"
      ],
      "metadata": {
        "id": "ZZUD3-kj3OHZ"
      }
    },
    {
      "cell_type": "code",
      "source": [
        "def multiplicacion_mtrz(A,B):\n",
        "    dimA=np.shape(A)\n",
        "    dimB=np.shape(B)\n",
        "\n",
        "    if dimA[1]==dimB[0]:\n",
        "        r=np.zeros((dimA[0],dimB[1]))\n",
        "\n",
        "        for i in range(dimA[0]):\n",
        "            for j in range(dimB[1]):\n",
        "                for k in range(dimA[1]):\n",
        "                    r[i][j]+= A[i][k]*B[k][j]\n",
        "        return r\n",
        "    else:\n",
        "        print(\"No se pueden multiplicar las matrices debido a que sus dimensiones son incompatibles\")"
      ],
      "metadata": {
        "id": "z4U3ORaS20Qv"
      },
      "execution_count": null,
      "outputs": []
    },
    {
      "cell_type": "markdown",
      "source": [
        "Ejemplo particular para verificar el código"
      ],
      "metadata": {
        "id": "c2UHHfxC5Mi8"
      }
    },
    {
      "cell_type": "code",
      "source": [
        "A=np.array([[1,4],[2,5],[3,6]])\n",
        "B=np.array([[5,4,3],[2,1,0]])\n",
        "Mult_A_B=multiplicacion_mtrz(A,B)\n",
        "Mult_A_B"
      ],
      "metadata": {
        "colab": {
          "base_uri": "https://localhost:8080/"
        },
        "id": "TvIApXt35MMj",
        "outputId": "729cd121-5fcf-4474-9c4e-5e08c230007e"
      },
      "execution_count": null,
      "outputs": [
        {
          "output_type": "execute_result",
          "data": {
            "text/plain": [
              "array([[13.,  8.,  3.],\n",
              "       [20., 13.,  6.],\n",
              "       [27., 18.,  9.]])"
            ]
          },
          "metadata": {},
          "execution_count": 16
        }
      ]
    },
    {
      "cell_type": "code",
      "source": [
        "# Usando la Librería\n",
        "mult_A_B_L=np.dot(A,B)\n",
        "mult_A_B_L"
      ],
      "metadata": {
        "colab": {
          "base_uri": "https://localhost:8080/"
        },
        "id": "pn0QiT4qdmB4",
        "outputId": "b84c2aad-05b1-48c6-c00f-a7a250efcf0c"
      },
      "execution_count": null,
      "outputs": [
        {
          "output_type": "execute_result",
          "data": {
            "text/plain": [
              "matrix([[13,  8,  3],\n",
              "        [20, 13,  6],\n",
              "        [27, 18,  9]])"
            ]
          },
          "metadata": {},
          "execution_count": 13
        }
      ]
    },
    {
      "cell_type": "markdown",
      "source": [
        "## Transpuesta de una matriz"
      ],
      "metadata": {
        "id": "Uzw-UhlC6AqC"
      }
    },
    {
      "cell_type": "code",
      "source": [
        "M=np.matrix([[1,2],[3,4]])"
      ],
      "metadata": {
        "id": "GHEUC0pk6lZU"
      },
      "execution_count": null,
      "outputs": []
    },
    {
      "cell_type": "code",
      "source": [
        "M_trans=np.transpose(M)\n",
        "M_trans"
      ],
      "metadata": {
        "colab": {
          "base_uri": "https://localhost:8080/"
        },
        "id": "3AL6khMi6D4L",
        "outputId": "1e622c5c-bdd0-438a-b31f-909c3467e315"
      },
      "execution_count": null,
      "outputs": [
        {
          "output_type": "execute_result",
          "data": {
            "text/plain": [
              "matrix([[1, 3],\n",
              "        [2, 4]])"
            ]
          },
          "metadata": {},
          "execution_count": 23
        }
      ]
    },
    {
      "cell_type": "markdown",
      "source": [
        "## Rotación de un vector un ángulo theta"
      ],
      "metadata": {
        "id": "HZySfV2M8i7r"
      }
    },
    {
      "cell_type": "code",
      "source": [
        "#Parámetros iniciales\n",
        "v=np.array([1,1])\n",
        "theta=20"
      ],
      "metadata": {
        "id": "DxNsUp-D89RE"
      },
      "execution_count": null,
      "outputs": []
    },
    {
      "cell_type": "code",
      "source": [
        "def rotacion_anti(v,theta):\n",
        "    ang=np.deg2rad(theta)\n",
        "    Rot=np.array([[np.cos(ang),np.sin(ang)],[-np.sin(ang),np.cos(ang)]])\n",
        "    vector_rotado=np.dot(v,Rot)\n",
        "    return vector_rotado\n"
      ],
      "metadata": {
        "id": "70sVl9yd9HRR"
      },
      "execution_count": null,
      "outputs": []
    },
    {
      "cell_type": "code",
      "source": [
        "#Realiza la rotación\n",
        "v_rotado= rotacion_anti(v,theta)\n",
        "v_rotado"
      ],
      "metadata": {
        "colab": {
          "base_uri": "https://localhost:8080/"
        },
        "id": "2adYvVKP9O5T",
        "outputId": "8e571aaf-d82f-463c-f31d-9dfcc17b310e"
      },
      "execution_count": null,
      "outputs": [
        {
          "output_type": "execute_result",
          "data": {
            "text/plain": [
              "array([0.59767248, 1.28171276])"
            ]
          },
          "metadata": {},
          "execution_count": 26
        }
      ]
    },
    {
      "cell_type": "code",
      "source": [
        "#Gráfico\n",
        "plt.figure(figsize=(8,6))\n",
        "plt.quiver(0,0,v[0],v[1], color=\"blue\", label=\"Vector original\")\n",
        "plt.quiver(0,0,v_rotado[0],v_rotado[1], color=\"red\", label=\"Vector rotado\")\n",
        "plt.xlabel(\"x\")\n",
        "plt.ylabel(\"y\")\n",
        "plt.legend()\n",
        "plt.grid()\n",
        "plt.show()"
      ],
      "metadata": {
        "colab": {
          "base_uri": "https://localhost:8080/",
          "height": 542
        },
        "id": "C6SpdWM--Cap",
        "outputId": "6f125361-35ca-40a0-a7df-9f60c262da33"
      },
      "execution_count": null,
      "outputs": [
        {
          "output_type": "display_data",
          "data": {
            "text/plain": [
              "<Figure size 800x600 with 1 Axes>"
            ],
            "image/png": "[encoded data removed]"
          },
          "metadata": {}
        }
      ]
    }
  ]
}