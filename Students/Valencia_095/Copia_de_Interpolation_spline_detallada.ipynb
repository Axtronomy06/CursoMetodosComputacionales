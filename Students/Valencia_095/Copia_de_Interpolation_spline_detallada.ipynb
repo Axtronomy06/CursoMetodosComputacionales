{
  "nbformat": 4,
  "nbformat_minor": 0,
  "metadata": {
    "kernelspec": {
      "display_name": "Python 3",
      "language": "python",
      "name": "python3"
    },
    "language_info": {
      "codemirror_mode": {
        "name": "ipython",
        "version": 3
      },
      "file_extension": ".py",
      "mimetype": "text/x-python",
      "name": "python",
      "nbconvert_exporter": "python",
      "pygments_lexer": "ipython3",
      "version": "3.7.2"
    },
    "colab": {
      "provenance": []
    }
  },
  "cells": [
    {
      "cell_type": "markdown",
      "metadata": {
        "id": "LAi7gwybR1zQ"
      },
      "source": [
        "# Spline interpolacion\n",
        "  "
      ]
    },
    {
      "cell_type": "code",
      "metadata": {
        "id": "KCviXwLQR1zV"
      },
      "source": [
        "import numpy as np\n",
        "import matplotlib.pylab as plt\n",
        "from numpy.linalg import solve\n",
        "import sympy as sp\n",
        "%matplotlib inline\n",
        "#REF: Adaptado de  https://github.com/rrgalvan"
      ],
      "execution_count": null,
      "outputs": []
    },
    {
      "cell_type": "markdown",
      "metadata": {
        "id": "rfMQrtUZR1zf"
      },
      "source": [
        "Calcular el spline cúbico que interpola los puntos $(-1,5)$, $(0,3)$, $(1,3)$."
      ]
    },
    {
      "cell_type": "code",
      "metadata": {
        "id": "dWntiVEoR1zh"
      },
      "source": [
        "x0, x1, x2 = -1, 0, 1\n",
        "_x = np.array([x0, x1, x2])\n",
        "y0, y1, y2 =  5, 3, 3\n",
        "_y = np.array([y0, y1, y2])"
      ],
      "execution_count": null,
      "outputs": []
    },
    {
      "cell_type": "markdown",
      "metadata": {
        "id": "l-GSuaVdR1zo"
      },
      "source": [
        "Para calcular los splines cúbicos debemos resolver el sistema de ecuaciones que define los coeficientes de los polinomios cúbicos en los subintervalos $[-1,0]$ y $[0,1]$. Empleando las condiciones del metodo de spline, y defiendo los polinomios para garantizar la continuidad en cada unos de los puntos, tenemos que:\n",
        "\n",
        "Sean:\n",
        "  * $s_0(x) = a_0 + b_0 (x-x_0) + c_0 (x-x_0)^2 + d_0 (x-x_0)^3$,\n",
        "  * $s_1(x) = a_1 + b_1 (x-x_1) + c_1 (x-x_1)^2 + d_1 (x-x_1)^3$,\n",
        "\n",
        "es decir:\n",
        "  * $s_0(x) = a_0 + b_0 (x+1) + c_0 (x+1)^2 + d_0 (x+1)^3$,\n",
        "  * $s_1(x) = a_1 + b_1 x + c_1 x^2 + d_1 x^3$.\n",
        "\n",
        "Entonces\n",
        "  * $s_0'(x) =  b_0 + 2 c_0 (x+1) + 3 d_0 (x+1)^2$,\n",
        "  * $s_0''(x) = 2 c_0 + 6 d_0 (x+1)$,\n",
        "  * $s_1'(x) =  b_1 + 2 c_1 x + 3 d_1 x^2$,\n",
        "  * $s_1''(x) = 2 c_1 + 6 d_1 x$.\n",
        "\n",
        "Tenemos 8 incógnitas, $a_i$, $b_i$, $c_i$, $d_i$ con $i=0,1$. Las ecuaciones son:\n",
        "\n",
        "  * Interpolación (y continuidad en 0):\n",
        "\n",
        "    * $s_0(-1) = 5$, es decir, $a_0=5$.\n",
        "    * $s_0(0)  = 3$, es decir, $a_0+b_0+c_0+d_0=3$.\n",
        "    * $s_1(0) = 3$, es decir, $a_1=3$.\n",
        "    * $s_1(1)  = 3$, es decir, $a_1+b_1+c_1+d_1=3$.\n",
        "    \n",
        "  * Derivabilidad:\n",
        "\n",
        "    * $s_0'(0) = s_1'(-1)$, es decir, $b_0+2c_0+3d_0 = b_1$.\n",
        "    * $s_0''(0) = s_1''(-1)$, es decir, $2c_0+6d_0 = 2c_1$.\n",
        "\n",
        "  * Condiciones naturales en los extremos, $-1$ y $1$:\n",
        "\n",
        "    * $s_0''(-1) = 0$, es decir, $2c_0=0$.\n",
        "    * $s_1''(1) = 0$, o sea $2c_1+6d_1=0$.\n",
        "\n",
        "\n",
        "De estas ecuaciones tenemos directamente $a_0$, $a_1$, y $c_1$. Le damos valores a las variables en python:"
      ]
    },
    {
      "cell_type": "code",
      "metadata": {
        "id": "5sxEuNwNR1zp"
      },
      "source": [
        "a0 = 5\n",
        "a1 = 3\n",
        "c0 = 0"
      ],
      "execution_count": null,
      "outputs": []
    },
    {
      "cell_type": "markdown",
      "metadata": {
        "id": "eZScj4sDR1zu"
      },
      "source": [
        "Así, podemos eliminar la primera, tercera y séptima ecuación, llegando a un sistema de cinco ecuaciones con cinco incógnitas ($b_0$, $d_0$, $b_1$, $c_1$, $d_1$):\n",
        "\n",
        " * $b_0+d_0=3-a_0-c_0=-2$,\n",
        " * $b_1+c_1+d_1=3-a_1=0$,\n",
        " * $b_0+3d_0 - b_1 = -2c_0 = 0$,\n",
        " * $6d_0 - 2c_1 = -2c_0=0$\n",
        " * $2c_1+6d_1=0$\n",
        "\n",
        "\n",
        "La matriz y el segundo miembro asociados son:"
      ]
    },
    {
      "cell_type": "code",
      "metadata": {
        "id": "psxIbmXlR1zw"
      },
      "source": [
        "A = np.array([\n",
        "\t[ 1, 1,   0,  0, 0],\n",
        "\t[ 0, 0,   1,  1, 1],\n",
        "\t[ 1, 3,  -1,  0, 0],\n",
        "\t[ 0, 6,   0, -2, 0],\n",
        "\t[ 0, 0,   0,  2, 6]])\n",
        "b = np.array([-2, 0, 0, 0, 0])"
      ],
      "execution_count": null,
      "outputs": []
    },
    {
      "cell_type": "code",
      "metadata": {
        "id": "WwMP5DSdVCuD",
        "outputId": "fa2f3ffd-8e61-4220-fa80-d824064506be",
        "colab": {
          "base_uri": "https://localhost:8080/"
        }
      },
      "source": [
        "sol = solve(A,b)\n",
        "print(sol)"
      ],
      "execution_count": null,
      "outputs": [
        {
          "output_type": "stream",
          "name": "stdout",
          "text": [
            "[-2.5  0.5 -1.   1.5 -0.5]\n"
          ]
        }
      ]
    },
    {
      "cell_type": "markdown",
      "metadata": {
        "id": "1bjXd0wHR1z1"
      },
      "source": [
        "Ahora podemos resolver este sistema usando la función `solve()` (incluida en el modulo \"linalg\" del paquete *numpy*):"
      ]
    },
    {
      "cell_type": "code",
      "metadata": {
        "id": "NWQhfHd_R1z3",
        "outputId": "c6b11e68-89c4-4465-e049-6212643f5a8e",
        "colab": {
          "base_uri": "https://localhost:8080/"
        }
      },
      "source": [
        "sol = solve(A,b)\n",
        "\n",
        "# Definimos la solución como variables b0, d0, b1, c1 y d1\n",
        "b0, d0, b1, c1, d1 = sol\n",
        "\n",
        "# Y mostramos los resultados\n",
        "print (\"a0, b0, c0, d0 = %f, %f, %f, %f\" % (a0, b0, c0, d0))\n",
        "print (\"a1, b1, c1, d1 = %f, %f, %f, %f\" % (a1, b1, c1, d1))"
      ],
      "execution_count": null,
      "outputs": [
        {
          "output_type": "stream",
          "name": "stdout",
          "text": [
            "a0, b0, c0, d0 = 5.000000, -2.500000, 0.000000, 0.500000\n",
            "a1, b1, c1, d1 = 3.000000, -1.000000, 1.500000, -0.500000\n"
          ]
        }
      ]
    },
    {
      "cell_type": "markdown",
      "metadata": {
        "id": "SP51eFLgR1z_"
      },
      "source": [
        "Para dibujar la gráfica, lo más fácil es definir los polinomios $s_0$ y $s_1$ y representarlos gráficamente."
      ]
    },
    {
      "cell_type": "code",
      "metadata": {
        "id": "iZCSh6rkR10A",
        "outputId": "faa74a9e-9e7b-4202-e670-3eb064d800ee",
        "colab": {
          "base_uri": "https://localhost:8080/",
          "height": 724
        }
      },
      "source": [
        "def s0(x):\n",
        "    return a0 + b0*(x+1) + c0*(x+1)**2 + d0*(x+1)**3\n",
        "def s1(x):\n",
        "    return a1 + b1*x + c1*x**2 + d1*x**3\n",
        "\n",
        "xx0 = np.linspace(-1,0)\n",
        "xx1 = np.linspace(0,1)\n",
        "\n",
        "plt.figure(figsize=(10, 8))\n",
        "plt.plot(xx0, s0(xx0), lw=3, label = \"S0\")\n",
        "plt.plot(xx1, s1(xx1), lw=3, label = \"S1\")\n",
        "plt.plot(_x, _y, 'o')\n",
        "plt.axvline(color = \"k\", ls=\"-.\")\n",
        "plt.ylabel(\"f(x)\", fontsize=20)\n",
        "plt.xlabel(\"x\", fontsize=20)\n",
        "plt.xticks(fontsize=20)\n",
        "plt.yticks(fontsize=20)\n",
        "plt.legend(loc = \"upper right\", fontsize= 20)\n",
        "plt.grid()\n",
        "plt.show()"
      ],
      "execution_count": null,
      "outputs": [
        {
          "output_type": "display_data",
          "data": {
            "text/plain": [
              "<Figure size 1000x800 with 1 Axes>"
            ],
            "image/png": "[encoded data removed]"
          },
          "metadata": {}
        }
      ]
    },
    {
      "cell_type": "markdown",
      "source": [
        "Código: agregando un nuevo punto"
      ],
      "metadata": {
        "id": "FS7F9Wl20TtL"
      }
    },
    {
      "cell_type": "markdown",
      "source": [
        "$(-1,5)$, $(0,3)$, $(1,3)$,$(2,7)$"
      ],
      "metadata": {
        "id": "iRlgIdo10ytO"
      }
    },
    {
      "cell_type": "code",
      "source": [
        "x0, x1, x2, x3= -1, 0, 1, 2\n",
        "_x = np.array([x0, x1, x2, x3])\n",
        "y0, y1, y2, y3 =  5, 3, 3, 7\n",
        "_y = np.array([y0, y1, y2, y3])"
      ],
      "metadata": {
        "id": "V5XbGuXU0yC1"
      },
      "execution_count": null,
      "outputs": []
    },
    {
      "cell_type": "markdown",
      "source": [
        "Sean:\n",
        "  * $s_0(x) = a_0 + b_0 (x-x_0) + c_0 (x-x_0)^2 + d_0 (x-x_0)^3$,\n",
        "  * $s_1(x) = a_1 + b_1 (x-x_1) + c_1 (x-x_1)^2 + d_1 (x-x_1)^3$,\n",
        "  * $s_2(x) = a_2 + b_2 (x-x_2) + c_2 (x-x_2)^2 + d_1 (x-x_2)^3$,\n",
        "\n",
        "  es decir:\n",
        "  * $s_0(x) = a_0 + b_0 (x+1) + c_0 (x+1)^2 + d_0 (x+1)^3$,\n",
        "  * $s_1(x) = a_1 + b_1 x + c_1 x^2 + d_1 x^3 $.\n",
        "  * $s_2(x) = a_2 + b_2 (x-1) + c_2 (x-1)^2 + d_2 (x-1)^3$."
      ],
      "metadata": {
        "id": "y25O0eka2HBw"
      }
    },
    {
      "cell_type": "code",
      "source": [
        "#constantes\n",
        "x=sp.Symbol(\"x\")\n",
        "a_0=sp.Symbol(\"a_0\")\n",
        "b_0=sp.Symbol(\"b_0\")\n",
        "c_0=sp.Symbol(\"c_0\")\n",
        "d_0=sp.Symbol(\"d_0\")\n",
        "x"
      ],
      "metadata": {
        "colab": {
          "base_uri": "https://localhost:8080/",
          "height": 39
        },
        "id": "tVCww6RH-mUf",
        "outputId": "dab8d817-874d-46bd-f4b9-315fc59f1faf"
      },
      "execution_count": null,
      "outputs": [
        {
          "output_type": "execute_result",
          "data": {
            "text/plain": [
              "x"
            ],
            "text/latex": "$\\displaystyle x$"
          },
          "metadata": {},
          "execution_count": 9
        }
      ]
    },
    {
      "cell_type": "code",
      "source": [
        "#Primera derivada de s0(x)\n",
        "s0= lambda x_: a_0 + b_0 * (x_+1) + c_0 * (x_+1)**2 + d_0 *(x_+1)**3\n",
        "sp.diff(s0(x),x)"
      ],
      "metadata": {
        "colab": {
          "base_uri": "https://localhost:8080/",
          "height": 40
        },
        "id": "QaxGSp6x0THz",
        "outputId": "cfca812e-e315-49b9-d2a1-0b8478bf4c62"
      },
      "execution_count": null,
      "outputs": [
        {
          "output_type": "execute_result",
          "data": {
            "text/plain": [
              "b_0 + c_0*(2*x + 2) + 3*d_0*(x + 1)**2"
            ],
            "text/latex": "$\\displaystyle b_{0} + c_{0} \\cdot \\left(2 x + 2\\right) + 3 d_{0} \\left(x + 1\\right)^{2}$"
          },
          "metadata": {},
          "execution_count": 10
        }
      ]
    },
    {
      "cell_type": "code",
      "source": [
        "#segunda derivada de s0(x)\n",
        "s02= lambda x_: b_0 + c_0*(2*x_+2) + 3*d_0*(x_+1)**2\n",
        "sp.diff(s02(x),x)"
      ],
      "metadata": {
        "colab": {
          "base_uri": "https://localhost:8080/",
          "height": 39
        },
        "id": "gCPo6jRrpi6v",
        "outputId": "461ec0aa-f1cd-462f-e66c-f9a4bd919641"
      },
      "execution_count": null,
      "outputs": [
        {
          "output_type": "execute_result",
          "data": {
            "text/plain": [
              "2*c_0 + 3*d_0*(2*x + 2)"
            ],
            "text/latex": "$\\displaystyle 2 c_{0} + 3 d_{0} \\cdot \\left(2 x + 2\\right)$"
          },
          "metadata": {},
          "execution_count": 11
        }
      ]
    },
    {
      "cell_type": "code",
      "source": [
        "#constantes\n",
        "x=sp.Symbol(\"x\")\n",
        "a_1=sp.Symbol(\"a_1\")\n",
        "b_1=sp.Symbol(\"b_1\")\n",
        "c_1=sp.Symbol(\"c_1\")\n",
        "d_1=sp.Symbol(\"d_1\")"
      ],
      "metadata": {
        "id": "OHPFXnkcq4Xv"
      },
      "execution_count": null,
      "outputs": []
    },
    {
      "cell_type": "code",
      "source": [
        "#primera derivada de s1(x)\n",
        "s1= lambda x_: a_1 + b_1*x_ + c_1 * x_**2 + d_1 * x_**3\n",
        "sp.diff(s1(x),x)"
      ],
      "metadata": {
        "colab": {
          "base_uri": "https://localhost:8080/",
          "height": 39
        },
        "id": "Awkh7ngNnbvi",
        "outputId": "6d02db9c-ab3f-45c5-8244-6a00c1df5507"
      },
      "execution_count": null,
      "outputs": [
        {
          "output_type": "execute_result",
          "data": {
            "text/plain": [
              "b_1 + 2*c_1*x + 3*d_1*x**2"
            ],
            "text/latex": "$\\displaystyle b_{1} + 2 c_{1} x + 3 d_{1} x^{2}$"
          },
          "metadata": {},
          "execution_count": 13
        }
      ]
    },
    {
      "cell_type": "code",
      "source": [
        "#segunda derivada s1(x)\n",
        "s12= lambda x_: b_1 + 2*c_1*x + 3*d_1*x**2\n",
        "sp.diff(s12(x),x)"
      ],
      "metadata": {
        "colab": {
          "base_uri": "https://localhost:8080/",
          "height": 39
        },
        "id": "Gs6_g3LRqBi-",
        "outputId": "46c06079-6b85-4133-9303-b28ec4921f19"
      },
      "execution_count": null,
      "outputs": [
        {
          "output_type": "execute_result",
          "data": {
            "text/plain": [
              "2*c_1 + 6*d_1*x"
            ],
            "text/latex": "$\\displaystyle 2 c_{1} + 6 d_{1} x$"
          },
          "metadata": {},
          "execution_count": 14
        }
      ]
    },
    {
      "cell_type": "code",
      "source": [
        "#constantes\n",
        "x=sp.Symbol(\"x\")\n",
        "a_2=sp.Symbol(\"a_2\")\n",
        "b_2=sp.Symbol(\"b_2\")\n",
        "c_2=sp.Symbol(\"c_2\")\n",
        "d_2=sp.Symbol(\"d_2\")"
      ],
      "metadata": {
        "id": "X3yVb8FGr5sx"
      },
      "execution_count": null,
      "outputs": []
    },
    {
      "cell_type": "code",
      "source": [
        "#primera derivada s2(x)\n",
        "s2= lambda x_:a_2 + b_2 * (x-1) + c_2 * (x-1)**2 + d_2 * (x-1)**3\n",
        "sp.diff(s2(x),x)"
      ],
      "metadata": {
        "colab": {
          "base_uri": "https://localhost:8080/",
          "height": 40
        },
        "id": "i4J-kVC2qsn5",
        "outputId": "684152c8-84f6-4c31-defb-1ee83766bdf0"
      },
      "execution_count": null,
      "outputs": [
        {
          "output_type": "execute_result",
          "data": {
            "text/plain": [
              "b_2 + c_2*(2*x - 2) + 3*d_2*(x - 1)**2"
            ],
            "text/latex": "$\\displaystyle b_{2} + c_{2} \\cdot \\left(2 x - 2\\right) + 3 d_{2} \\left(x - 1\\right)^{2}$"
          },
          "metadata": {},
          "execution_count": 16
        }
      ]
    },
    {
      "cell_type": "code",
      "source": [
        "#segunda derivada s2(x)\n",
        "s22= lambda x_:b_2 + c_2*(2*x-2) + 3*d_2*(x-1)**2\n",
        "sp.diff(s22(x),x)"
      ],
      "metadata": {
        "colab": {
          "base_uri": "https://localhost:8080/",
          "height": 39
        },
        "id": "GoZ3SpzyqvnN",
        "outputId": "e4c6e8eb-ea34-4e3d-abcf-aeee9d339830"
      },
      "execution_count": null,
      "outputs": [
        {
          "output_type": "execute_result",
          "data": {
            "text/plain": [
              "2*c_2 + 3*d_2*(2*x - 2)"
            ],
            "text/latex": "$\\displaystyle 2 c_{2} + 3 d_{2} \\cdot \\left(2 x - 2\\right)$"
          },
          "metadata": {},
          "execution_count": 17
        }
      ]
    },
    {
      "cell_type": "markdown",
      "source": [
        "De acuerdo a lo anterior tenemos que:\n",
        "\n",
        "$s_0'= b_0 + c_0(2x + 2) + 3d_0(x + 1)^2$\n",
        "\n",
        "$s_0''= 2c_0 + 3d_0(2x + 2)$\n",
        "\n",
        "$s_1'=b_1 + 2c_1x + 3d_1x^2$\n",
        "\n",
        "$s_1''=2c_1 + 6d_1x$\n",
        "\n",
        "$s_2'=b_2 + c_2(2x - 2) + 3d_2(x - 1)^2$\n",
        "\n",
        "$s_2''=2c_2 + 3d_2(2x - 2)$"
      ],
      "metadata": {
        "id": "fcam1l6Ns35p"
      }
    },
    {
      "cell_type": "markdown",
      "source": [
        "Expresando las ecuaciones"
      ],
      "metadata": {
        "id": "fmBKVT6kKnBL"
      }
    },
    {
      "cell_type": "code",
      "source": [
        "s0= lambda x_: a_0 + b_0 * (x_+1) + c_0 * (x_+1)**2 + d_0 *(x_+1)**3\n",
        "print(s0(-1),\"=\",y0)\n",
        "\n",
        "s0= lambda x_: a_0 + b_0 * (x_+1) + c_0 * (x_+1)**2 + d_0 *(x_+1)**3\n",
        "print(s0(0),\"=\",y1)\n",
        "\n",
        "s1= lambda x_: a_1 + b_1*x_ + c_1 * x_**2 + d_1 * x_**3\n",
        "print(s1(0),\"=\",y1)\n",
        "\n",
        "s1= lambda x_: a_1 + b_1*x_ + c_1 * x_**2 + d_1 * x_**3\n",
        "print(s1(1),\"=\",y2)\n",
        "\n",
        "s2= lambda x_:a_2 + b_2 * (x_-1) + c_2 * (x_-1)**2 + d_2 * (x_-1)**3\n",
        "print(s2(1),\"=\",y2)\n",
        "\n",
        "s2= lambda x_:a_2 + b_2 * (x_-1) + c_2 * (x_-1)**2 + d_2 * (x_-1)**3\n",
        "print(s2(2),\"=\",y3)"
      ],
      "metadata": {
        "colab": {
          "base_uri": "https://localhost:8080/"
        },
        "id": "rihTHMWRCNNk",
        "outputId": "f1b1e009-e0c8-4efc-d66f-099bb7e13424"
      },
      "execution_count": null,
      "outputs": [
        {
          "output_type": "stream",
          "name": "stdout",
          "text": [
            "a_0 = 5\n",
            "a_0 + b_0 + c_0 + d_0 = 3\n",
            "a_1 = 3\n",
            "a_1 + b_1 + c_1 + d_1 = 3\n",
            "a_2 = 3\n",
            "a_2 + b_2 + c_2 + d_2 = 7\n"
          ]
        }
      ]
    },
    {
      "cell_type": "code",
      "source": [
        "#Derivabilidad\n",
        "s_0_1dev= lambda x_: b_0 + c_0*(2*x_ + 2) + 3*d_0*(x_ + 1)**2\n",
        "s_1_1dev= lambda x_: b_1 + 2*c_1*x_ + 3*d_1*x_**2\n",
        "s_2_1dev= lambda x_: b_2 + c_2*(2*x_ - 2) + 3*d_2*(x_ - 1)**2\n",
        "\n",
        "s_0_2dev= lambda x_:2*c_0 + 3*d_0*(2*x_ + 2)\n",
        "s_1_2dev= lambda x_:2*c_1 + 6*d_1*x_\n",
        "s_2_2dev= lambda x_:2*c_2 + 3*d_2*(2*x_ - 2)\n",
        "\n",
        "print(s_0_1dev(0),\"=\",s_1_1dev(0))\n",
        "print(s_1_1dev(1),\"=\",s_2_1dev(1))\n",
        "print(s_0_2dev(0),\"=\",s_1_2dev(0))\n",
        "print(s_1_2dev(1),\"=\",s_2_2dev(1))"
      ],
      "metadata": {
        "colab": {
          "base_uri": "https://localhost:8080/"
        },
        "id": "dvtAKy_S2UCA",
        "outputId": "eceaa1d3-e12c-4d5c-84ae-2e33fe2a6b5c"
      },
      "execution_count": null,
      "outputs": [
        {
          "output_type": "stream",
          "name": "stdout",
          "text": [
            "b_0 + 2*c_0 + 3*d_0 = b_1\n",
            "b_1 + 2*c_1 + 3*d_1 = b_2\n",
            "2*c_0 + 6*d_0 = 2*c_1\n",
            "2*c_1 + 6*d_1 = 2*c_2\n"
          ]
        }
      ]
    },
    {
      "cell_type": "code",
      "source": [
        "#Evaluar las segundas derivadas en los extremos\n",
        "s_0_2dev= lambda x_:2*c_0 + 3*d_0*(2*x_ + 2)\n",
        "print(s_0_2dev(-1),\"=\",0)\n",
        "s_2_2dev= lambda x_: 2*c_2 + 3*d_2*(2*x_ - 2)\n",
        "print(s_2_2dev(2),\"=\",0)"
      ],
      "metadata": {
        "colab": {
          "base_uri": "https://localhost:8080/"
        },
        "id": "VMOeGXON3Jme",
        "outputId": "9bf8f2e5-5206-495c-9543-a5526d0d169e"
      },
      "execution_count": null,
      "outputs": [
        {
          "output_type": "stream",
          "name": "stdout",
          "text": [
            "2*c_0 = 0\n",
            "2*c_2 + 6*d_2 = 0\n"
          ]
        }
      ]
    },
    {
      "cell_type": "markdown",
      "source": [
        "Por lo tanto tenemos que:\n",
        "\n",
        "$s_0(-1) = 5$, es decir, $a_0=5$.\n",
        "\n",
        "$s_0(0)  = 3$, es decir, $a_0+b_0+c_0+d_0=3$.\n",
        "\n",
        "$s_1(0) = 3$, es decir, $a_1=3$.\n",
        "\n",
        "$s_1(1)  = 3$, es decir, $a_1+b_1+c_1+d_1=3$.\n",
        "\n",
        "$s_2(1) = 3$, es decir, $a_2=3$.\n",
        "\n",
        "$s_2(2)  = 3$, es decir, $a_2+b_2+c_2+d_2=7$.\n",
        "\n",
        "\n",
        "Derivabilidad\n",
        "\n",
        "$s_0'(0)=s_1'(0)$ es decir $b_0+2c_0+3d_0=b_1$\n",
        "\n",
        "$s_1'(1)=s_2'(1)$ es decir $b_1+2c_1+3d_1=b_2$\n",
        "\n",
        "$s_0''(0)=s_1''$ es decir $2c_0+6d_0=2c_1$\n",
        "\n",
        "$s_1''(1)=s_2''(1)$ es decir $2c_1+6d_1=2c_2$\n",
        "\n",
        "Condiciones naturales de los extremos:\n",
        "\n",
        "$s_0''(-1) = 0$ es decir $2c_0 = 0$\n",
        "\n",
        "$s_2''(2) = 0$ es decir $2c_2+6d_2 = 0$\n",
        "\n",
        "De estas ecuaciones tenemos directamente $a_0$, $a_1$, $a_2$ y $c_0$. Le damos valores a las variables en python:"
      ],
      "metadata": {
        "id": "7nNXVOl13aYW"
      }
    },
    {
      "cell_type": "code",
      "source": [
        "a0 = 5\n",
        "a1 = 3\n",
        "a2 = 3\n",
        "c0 = 0"
      ],
      "metadata": {
        "id": "A3Cis2Tm6_-e"
      },
      "execution_count": null,
      "outputs": []
    },
    {
      "cell_type": "markdown",
      "source": [
        "Tenemos las siguientes ecuaciones con las siguientes incognitas:\n",
        "\n",
        "$b_0+d_0 = -2$\n",
        "\n",
        "$b_1+c_1+d_1 = 0$\n",
        "\n",
        "$b_2+c_2+d_2 = 4$\n",
        "\n",
        "$b_0+3d_0-b_1=0$\n",
        "\n",
        "$b_1+2c_1+3d_1-b_2=0$\n",
        "\n",
        "$6d_0-2c_1 = 0$\n",
        "\n",
        "$2c_1+6d_1-2c_2=0$\n",
        "\n",
        "$2c_2+6d_2 = 0$\n",
        "\n",
        "La matriz y el segundo miembro asociados son:"
      ],
      "metadata": {
        "id": "3N9guI85_kCr"
      }
    },
    {
      "cell_type": "code",
      "source": [
        "A = np.array([\n",
        "\t[ 1, 1,   0,  0, 0,  0, 0, 0],\n",
        "\t[ 0, 0,   1,  1, 1,  0, 0, 0],\n",
        "    [ 0, 0,   0,  0, 0,  1, 1, 1],\n",
        "\t[ 1, 3,  -1,  0, 0,  0, 0, 0],\n",
        "\t[ 0, 0,   1,  2, 3, -1, 0, 0],\n",
        "\t[ 0, 6,   0, -2, 0,  0, 0, 0],\n",
        "    [ 0, 0,   0,  2, 6,  0,-2, 0],\n",
        "    [ 0, 0,   0,  0, 0,  0, 2, 6]])\n",
        "b = np.array([-2, 0, 4, 0, 0, 0, 0, 0])"
      ],
      "metadata": {
        "id": "kbT9bsDSBVUh"
      },
      "execution_count": null,
      "outputs": []
    },
    {
      "cell_type": "code",
      "source": [
        "sol = solve(A,b)\n",
        "print(sol)"
      ],
      "metadata": {
        "colab": {
          "base_uri": "https://localhost:8080/"
        },
        "id": "qV-TzNaDPdR7",
        "outputId": "00f83aff-060e-4246-b613-97968d8af69d"
      },
      "execution_count": null,
      "outputs": [
        {
          "output_type": "stream",
          "name": "stdout",
          "text": [
            "[-2.26666667  0.26666667 -1.46666667  0.8         0.66666667  2.13333333\n",
            "  2.8        -0.93333333]\n"
          ]
        }
      ]
    },
    {
      "cell_type": "code",
      "source": [
        "sol = solve(A,b)\n",
        "\n",
        "# Definimos la solución como variables b0, d0, b1, c1 y d1\n",
        "b0, d0, b1, c1, d1, b2, c2, d2 = sol\n",
        "\n",
        "# Y mostramos los resultados\n",
        "print (\"a0, b0, c0, d0 = %f, %f, %f, %f\" % (a0, b0, c0, d0))\n",
        "print (\"a1, b1, c1, d1 = %f, %f, %f, %f\" % (a1, b1, c1, d1))\n",
        "print (\"a2, b2, c2, d2 = %f, %f, %f, %f\" % (a2, b2, c2, d2))"
      ],
      "metadata": {
        "colab": {
          "base_uri": "https://localhost:8080/"
        },
        "id": "rNhRAQN_Prz1",
        "outputId": "ac5f5d25-4bf3-48df-b21c-4ca2383d819f"
      },
      "execution_count": null,
      "outputs": [
        {
          "output_type": "stream",
          "name": "stdout",
          "text": [
            "a0, b0, c0, d0 = 5.000000, -2.266667, 0.000000, 0.266667\n",
            "a1, b1, c1, d1 = 3.000000, -1.466667, 0.800000, 0.666667\n",
            "a2, b2, c2, d2 = 3.000000, 2.133333, 2.800000, -0.933333\n"
          ]
        }
      ]
    },
    {
      "cell_type": "markdown",
      "source": [
        "Para dibujar la gráfica, lo más fácil es definir los polinomios $s_0$ y $s_1$ y representarlos gráficamente."
      ],
      "metadata": {
        "id": "wcR0Y05tQWcx"
      }
    },
    {
      "cell_type": "code",
      "source": [
        "def s_0(x):\n",
        "    return a0 + b0*(x+1) + c0*(x+1)**2 + d0*(x+1)**3\n",
        "def s_1(x):\n",
        "    return a1 + b1*x + c1*x**2 + d1*x**3\n",
        "def s_2(x):\n",
        "    return a2 + b2*(x-1) + c2*(x-1)**2 + d2*(x-1)**3"
      ],
      "metadata": {
        "id": "u67Luf_gPT0c"
      },
      "execution_count": null,
      "outputs": []
    },
    {
      "cell_type": "code",
      "source": [
        "#Gráfico\n",
        "xx0 = np.linspace(-1,0)\n",
        "xx1 = np.linspace(0,1)\n",
        "xx2 = np.linspace(1,2)\n",
        "\n",
        "plt.figure(figsize=(10, 8))\n",
        "plt.plot(xx0, s_0(xx0),\"aqua\", lw=3, label = \"$S_0$\")\n",
        "plt.plot(xx1, s_1(xx1), \"c\", lw=3, label = \"$S_1$\")\n",
        "plt.plot(xx2, s_2(xx2),\"b\", lw=3, label = \"$S_2$\")\n",
        "plt.plot(_x, _y, 'o')\n",
        "plt.title(\"Interpolación metodo spline adicionando un punto\", fontsize=20)\n",
        "plt.ylabel(\"f(x)\", fontsize=20)\n",
        "plt.xlabel(\"x\", fontsize=20)\n",
        "plt.xticks(fontsize=20)\n",
        "plt.yticks(fontsize=20)\n",
        "plt.legend(loc = \"lower right\", fontsize= 20)\n",
        "plt.grid()\n",
        "plt.show()"
      ],
      "metadata": {
        "colab": {
          "base_uri": "https://localhost:8080/",
          "height": 756
        },
        "id": "8Spt6RJZPygv",
        "outputId": "aa5ba668-bb99-4f3d-cc7f-fe98473cc742"
      },
      "execution_count": null,
      "outputs": [
        {
          "output_type": "display_data",
          "data": {
            "text/plain": [
              "<Figure size 1000x800 with 1 Axes>"
            ],
            "image/png": "[encoded data removed]"
          },
          "metadata": {}
        }
      ]
    }
  ]
}