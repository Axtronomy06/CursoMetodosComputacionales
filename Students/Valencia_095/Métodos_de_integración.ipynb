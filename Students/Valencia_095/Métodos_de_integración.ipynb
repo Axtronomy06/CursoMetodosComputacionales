{
  "nbformat": 4,
  "nbformat_minor": 0,
  "metadata": {
    "colab": {
      "provenance": []
    },
    "kernelspec": {
      "name": "python3",
      "display_name": "Python 3"
    },
    "language_info": {
      "name": "python"
    }
  },
  "cells": [
    {
      "cell_type": "code",
      "source": [
        "import numpy as np\n",
        "import scipy as sc\n",
        "import sympy as sp\n",
        "import matplotlib.pylab as plt"
      ],
      "metadata": {
        "id": "Q3MH-yFO7Vqi"
      },
      "execution_count": 1,
      "outputs": []
    },
    {
      "cell_type": "markdown",
      "source": [
        "## **Regla del trapecio**"
      ],
      "metadata": {
        "id": "CKrhT13f9N9M"
      }
    },
    {
      "cell_type": "markdown",
      "source": [
        "Use la siguiente fórmula:\n",
        "\n",
        "$\\int_{a}^{b} f(x)\\, dx = \\frac{b-a}{2}(f(a)+f(b))- \\frac{(b-a)^3}{12} f(\\epsilon)$"
      ],
      "metadata": {
        "id": "Jfz_8HXgYovS"
      }
    },
    {
      "cell_type": "code",
      "execution_count": 2,
      "metadata": {
        "id": "iMwzv1vj1TyC",
        "colab": {
          "base_uri": "https://localhost:8080/"
        },
        "outputId": "e44a27e9-7c91-426d-fd6c-5be848570597"
      },
      "outputs": [
        {
          "output_type": "stream",
          "name": "stdout",
          "text": [
            "5.0\n",
            "7.0\n"
          ]
        },
        {
          "output_type": "execute_result",
          "data": {
            "text/plain": [
              "12.0"
            ]
          },
          "metadata": {},
          "execution_count": 2
        }
      ],
      "source": [
        "#Analizando la recurrencia solo para dos puntos\n",
        "x_=np.array([2,3,5])\n",
        "y_=np.array([4,6,1])\n",
        "\n",
        "n_trapecios_1= (x_[1]-x_[0])/2 * (y_[1]+y_[0])\n",
        "print(n_trapecios_1)\n",
        "n_trapecios_2= (x_[2]-x_[1])/2 * (y_[2]+y_[1])\n",
        "print(n_trapecios_2)\n",
        "n_trapecios= n_trapecios_1 + n_trapecios_2\n",
        "n_trapecios"
      ]
    },
    {
      "cell_type": "code",
      "source": [
        "#Creación de un ciclo con intento para tres puntos\n",
        "x=np.array([2,3,5,4])\n",
        "y=np.array([4,6,1,2])\n",
        "n_trapecios=0\n",
        "for i in range(0,len(x)-1):\n",
        "    n_trapecios_1= (((x[i+1]-x[i])/2)*(y[i+1]+y[i]))\n",
        "    n_trapecios+=n_trapecios_1\n",
        "    print(n_trapecios)"
      ],
      "metadata": {
        "colab": {
          "base_uri": "https://localhost:8080/"
        },
        "id": "6uW3Mg0r7lW0",
        "outputId": "2816398e-1a71-4008-e17e-c40e92a1a498"
      },
      "execution_count": 3,
      "outputs": [
        {
          "output_type": "stream",
          "name": "stdout",
          "text": [
            "5.0\n",
            "12.0\n",
            "10.5\n"
          ]
        }
      ]
    },
    {
      "cell_type": "markdown",
      "source": [
        "Generalización del código"
      ],
      "metadata": {
        "id": "SGlx7_6yIDyY"
      }
    },
    {
      "cell_type": "code",
      "source": [
        "#Datos iniciales\n",
        "a=1\n",
        "b=2\n",
        "N=5\n",
        "x=np.linspace(a,b,N)\n",
        "H=x[1]-x[2]\n",
        "f=lambda x: x**2"
      ],
      "metadata": {
        "id": "dCWOprFDIIQf"
      },
      "execution_count": 4,
      "outputs": []
    },
    {
      "cell_type": "code",
      "source": [
        "#Gráfico\n",
        "plt.figure()\n",
        "plt.plot(x,f(x),\"bo-\")\n",
        "plt.show()"
      ],
      "metadata": {
        "colab": {
          "base_uri": "https://localhost:8080/",
          "height": 430
        },
        "id": "b4NlyhmuIY1M",
        "outputId": "6446415c-024f-42ec-f1b7-d22b6ee8b5dc"
      },
      "execution_count": 5,
      "outputs": [
        {
          "output_type": "display_data",
          "data": {
            "text/plain": [
              "<Figure size 640x480 with 1 Axes>"
            ],
            "image/png": "[encoded data removed]"
          },
          "metadata": {}
        }
      ]
    },
    {
      "cell_type": "code",
      "source": [
        "#Cálculo de la integral\n",
        "def integral_trapz(f,a,b,N):\n",
        "    x=np.linspace(a,b,int(N))\n",
        "    h=(b-a)/N\n",
        "    A=(f(x[0])+f(x[-1])+ 2*f(x[1:-1]).sum())*h*0.5\n",
        "    return A"
      ],
      "metadata": {
        "id": "a2IVq1p9Ildr"
      },
      "execution_count": 6,
      "outputs": []
    },
    {
      "cell_type": "code",
      "source": [
        "#Area en terminos de la integral\n",
        "A= integral_trapz(f,0,1,N=10)\n",
        "print(A)"
      ],
      "metadata": {
        "colab": {
          "base_uri": "https://localhost:8080/"
        },
        "id": "uk0RLH4jIuOz",
        "outputId": "bc8bf262-b1b5-4731-f860-603d9462d104"
      },
      "execution_count": 7,
      "outputs": [
        {
          "output_type": "stream",
          "name": "stdout",
          "text": [
            "0.3018518518518518\n"
          ]
        }
      ]
    },
    {
      "cell_type": "code",
      "source": [
        "N=np.linspace(100,1000,10)\n",
        "areas=np.zeros(len(N))\n",
        "for i ,n_ in enumerate(N):\n",
        "    areas[i]=integral_trapz(f,0,1,n_)"
      ],
      "metadata": {
        "id": "QLKlXVIDIyV_"
      },
      "execution_count": 8,
      "outputs": []
    },
    {
      "cell_type": "code",
      "source": [
        "plt.figure()\n",
        "plt.plot(N,areas,\".-\",c=\"gold\")\n",
        "plt.xlabel(\"N\")\n",
        "plt.ylabel(\"Área\")\n",
        "plt.grid(True)\n",
        "plt.show()"
      ],
      "metadata": {
        "colab": {
          "base_uri": "https://localhost:8080/",
          "height": 449
        },
        "id": "0RWRsr26JAGB",
        "outputId": "40bff6e9-0c48-473c-c4e7-85518e5acaf4"
      },
      "execution_count": 9,
      "outputs": [
        {
          "output_type": "display_data",
          "data": {
            "text/plain": [
              "<Figure size 640x480 with 1 Axes>"
            ],
            "image/png": "[encoded data removed]"
          },
          "metadata": {}
        }
      ]
    },
    {
      "cell_type": "markdown",
      "source": [
        "Comparación"
      ],
      "metadata": {
        "id": "wjA_SkNAJTBt"
      }
    },
    {
      "cell_type": "code",
      "source": [
        "#Comparación de los métodos\n",
        "integralf=integral_trapz(f,a,b,1000)\n",
        "print(f\"Por medio de la deducción obtenemos que el cálculo de integral mediante trapecios es:{integralf}\")\n",
        "\n",
        "xn_=np.linspace(a,b,1000)\n",
        "intregral_met_trapz=sc.integrate.trapezoid(f(xn_),xn_)\n",
        "print(f\"usando la librería trapezoid obtenemos que la integración es: {intregral_met_trapz}\")"
      ],
      "metadata": {
        "id": "n2PxkmakK32A",
        "colab": {
          "base_uri": "https://localhost:8080/"
        },
        "outputId": "dc55548c-e903-4af9-8c94-6673702a10e4"
      },
      "execution_count": 10,
      "outputs": [
        {
          "output_type": "stream",
          "name": "stdout",
          "text": [
            "Por medio de la deducción obtenemos que el cálculo de integral mediante trapecios es:2.3310001668335\n",
            "usando la librería trapezoid obtenemos que la integración es: 2.333333500333834\n"
          ]
        }
      ]
    },
    {
      "cell_type": "code",
      "source": [
        "plt.figure()\n",
        "plt.plot(N,areas,\"gold\")\n",
        "plt.xlabel(\"N\")\n",
        "plt.ylabel(\"Área\")\n",
        "plt.grid(True)\n",
        "plt.show()"
      ],
      "metadata": {
        "id": "hggsJa6KJSSH",
        "colab": {
          "base_uri": "https://localhost:8080/",
          "height": 449
        },
        "outputId": "e4321d93-8d03-4d78-f971-ba7eefa8dec7"
      },
      "execution_count": 11,
      "outputs": [
        {
          "output_type": "display_data",
          "data": {
            "text/plain": [
              "<Figure size 640x480 with 1 Axes>"
            ],
            "image/png": "[encoded data removed]"
          },
          "metadata": {}
        }
      ]
    },
    {
      "cell_type": "markdown",
      "source": [
        "## **Regla del Trapecio Compuesta**"
      ],
      "metadata": {
        "id": "v0pSq4429Yxf"
      }
    },
    {
      "cell_type": "markdown",
      "source": [
        "Use la siguiente formula\n",
        "\n",
        "$E=-\\frac{(b-a)^3}{12n^2} f''(\\epsilon)$"
      ],
      "metadata": {
        "id": "aFwvczk2BWs2"
      }
    },
    {
      "cell_type": "code",
      "source": [
        "x=sp.Symbol(\"x\")\n",
        "f=(((x-1)**2)*(sp.sin(x)))/3 + 1"
      ],
      "metadata": {
        "id": "oWNEyjn79VrN"
      },
      "execution_count": 12,
      "outputs": []
    },
    {
      "cell_type": "code",
      "source": [
        "dev_1=sp.diff(f,x)\n",
        "dev_1"
      ],
      "metadata": {
        "colab": {
          "base_uri": "https://localhost:8080/",
          "height": 56
        },
        "id": "bm6Lz8Oq9lMA",
        "outputId": "faeb3a88-fdf3-44b5-e751-fb33bbc9bad7"
      },
      "execution_count": 13,
      "outputs": [
        {
          "output_type": "execute_result",
          "data": {
            "text/plain": [
              "(x - 1)**2*cos(x)/3 + (2*x - 2)*sin(x)/3"
            ],
            "text/latex": "$\\displaystyle \\frac{\\left(x - 1\\right)^{2} \\cos{\\left(x \\right)}}{3} + \\frac{\\left(2 x - 2\\right) \\sin{\\left(x \\right)}}{3}$"
          },
          "metadata": {},
          "execution_count": 13
        }
      ]
    },
    {
      "cell_type": "code",
      "source": [
        "dev_2=sp.diff(dev_1,x)\n",
        "dev_2"
      ],
      "metadata": {
        "colab": {
          "base_uri": "https://localhost:8080/",
          "height": 56
        },
        "id": "njQBs-tU9mCx",
        "outputId": "080ed2a4-ae5f-4120-dc25-30b366e381ba"
      },
      "execution_count": 14,
      "outputs": [
        {
          "output_type": "execute_result",
          "data": {
            "text/plain": [
              "-(x - 1)**2*sin(x)/3 + 2*(2*x - 2)*cos(x)/3 + 2*sin(x)/3"
            ],
            "text/latex": "$\\displaystyle - \\frac{\\left(x - 1\\right)^{2} \\sin{\\left(x \\right)}}{3} + \\frac{2 \\cdot \\left(2 x - 2\\right) \\cos{\\left(x \\right)}}{3} + \\frac{2 \\sin{\\left(x \\right)}}{3}$"
          },
          "metadata": {},
          "execution_count": 14
        }
      ]
    },
    {
      "cell_type": "code",
      "source": [
        "#Función y derivadas\n",
        "f_=lambda x_:(((x_-1)**2)*(sp.sin(x_)))/3 + 1\n",
        "fp1=lambda x_:((x_ - 1)**2*sp.cos(x_))/3 + ((2*x_ - 2)*sp.sin(x_))/3\n",
        "fp2=lambda x_:(-(x_ - 1)**2*sp.sin(x_))/3 + (2*(2*x_ - 2)*sp.cos(x_))/3 + (2*sp.sin(x_))/3\n",
        "\n",
        "#Nociones preliminares\n",
        "b=2\n",
        "a=0\n",
        "\n",
        "#Error\n",
        "Err=1E-3"
      ],
      "metadata": {
        "id": "r8E7C4M89qvf"
      },
      "execution_count": 15,
      "outputs": []
    },
    {
      "cell_type": "code",
      "source": [
        "q=sp.lambdify(x,f_(x))\n",
        "r=sp.lambdify(x,fp1(x))\n",
        "s=sp.lambdify(x,fp2(x))"
      ],
      "metadata": {
        "id": "PGOtLqU19tD8"
      },
      "execution_count": 16,
      "outputs": []
    },
    {
      "cell_type": "code",
      "source": [
        "fp2_invertida= lambda x_:(-1)*s(x_)\n",
        "max=sc.optimize.fmin_powell(fp2_invertida,0.01)"
      ],
      "metadata": {
        "colab": {
          "base_uri": "https://localhost:8080/"
        },
        "id": "GssITkA8Xs0b",
        "outputId": "c56d5bbe-8bc8-4982-e34a-db69a4fb7729"
      },
      "execution_count": 17,
      "outputs": [
        {
          "output_type": "stream",
          "name": "stdout",
          "text": [
            "Optimization terminated successfully.\n",
            "         Current function value: -0.720789\n",
            "         Iterations: 2\n",
            "         Function evaluations: 19\n"
          ]
        }
      ]
    },
    {
      "cell_type": "code",
      "source": [
        "x_=np.linspace(0, 2, 1000)\n",
        "plt.plot(x_,fp2_invertida(x_))\n",
        "plt.plot(x_,s(x_))"
      ],
      "metadata": {
        "colab": {
          "base_uri": "https://localhost:8080/",
          "height": 448
        },
        "id": "SLYsy9Rlwqtp",
        "outputId": "5a0045f8-6003-411d-e972-ea68f9a80029"
      },
      "execution_count": 18,
      "outputs": [
        {
          "output_type": "execute_result",
          "data": {
            "text/plain": [
              "[<matplotlib.lines.Line2D at 0x797f63fce530>]"
            ]
          },
          "metadata": {},
          "execution_count": 18
        },
        {
          "output_type": "display_data",
          "data": {
            "text/plain": [
              "<Figure size 640x480 with 1 Axes>"
            ],
            "image/png": "[encoded data removed]"
          },
          "metadata": {}
        }
      ]
    },
    {
      "cell_type": "code",
      "source": [
        "max"
      ],
      "metadata": {
        "colab": {
          "base_uri": "https://localhost:8080/"
        },
        "id": "awDmzH3xwnyI",
        "outputId": "57a7e01f-ffec-4050-a9ed-fe27d0d613d1"
      },
      "execution_count": 19,
      "outputs": [
        {
          "output_type": "execute_result",
          "data": {
            "text/plain": [
              "array([1.2873146])"
            ]
          },
          "metadata": {},
          "execution_count": 19
        }
      ]
    },
    {
      "cell_type": "code",
      "source": [
        "x1=np.linspace(a,b,100)\n",
        "plt.figure(figsize=(8,6))\n",
        "plt.plot(x1,q(x1),\".r-\", label=\"f\")\n",
        "plt.plot(x1,r(x1),\".-b\", label=\"f'\")\n",
        "plt.plot(x1,s(x1),\".-g\", label=\"f ''\")\n",
        "plt.plot(x1,fp2_invertida(x1),\".-y\", label=\"$f''^{(-1)}$\")\n",
        "plt.xlabel(\"x\")\n",
        "plt.ylabel(\"f(x)\")\n",
        "plt.title(\"Gráfica con su primera y segunda derivada\")\n",
        "plt.legend()\n",
        "plt.grid(True)\n",
        "plt.show()"
      ],
      "metadata": {
        "colab": {
          "base_uri": "https://localhost:8080/",
          "height": 565
        },
        "id": "1UutelTJ9u-8",
        "outputId": "e8a09945-ac1f-46a8-eb18-91c9189aa020"
      },
      "execution_count": 20,
      "outputs": [
        {
          "output_type": "display_data",
          "data": {
            "text/plain": [
              "<Figure size 800x600 with 1 Axes>"
            ],
            "image/png": "[encoded data removed]"
          },
          "metadata": {}
        }
      ]
    },
    {
      "cell_type": "code",
      "source": [
        "n=np.sqrt(((b-a)**3)/(12*Err)*max)\n",
        "n"
      ],
      "metadata": {
        "colab": {
          "base_uri": "https://localhost:8080/"
        },
        "id": "1IU81YXj90RJ",
        "outputId": "e05ed735-316f-4382-bfc2-1a8c40bcf6a1"
      },
      "execution_count": 21,
      "outputs": [
        {
          "output_type": "execute_result",
          "data": {
            "text/plain": [
              "array([29.2952169])"
            ]
          },
          "metadata": {},
          "execution_count": 21
        }
      ]
    },
    {
      "cell_type": "code",
      "source": [
        "#Calculando la integral teniendo en cuenta que el error es de 1E-3\n",
        "integral_f_=integral_trapz(q,a,b,n[0])\n",
        "integral_f_"
      ],
      "metadata": {
        "colab": {
          "base_uri": "https://localhost:8080/"
        },
        "id": "aq9IH7sb92nZ",
        "outputId": "c2fdbaaf-8a01-46f1-ad5d-56cc57bd138d"
      },
      "execution_count": 22,
      "outputs": [
        {
          "output_type": "execute_result",
          "data": {
            "text/plain": [
              "2.039847765581371"
            ]
          },
          "metadata": {},
          "execution_count": 22
        }
      ]
    },
    {
      "cell_type": "code",
      "source": [
        "#Uso de scipy\n",
        "x_=np.linspace(a,b,int(n[0]))\n",
        "integral_f_trapz=sc.integrate.trapezoid(q(x_),x_)\n",
        "integral_f_trapz"
      ],
      "metadata": {
        "colab": {
          "base_uri": "https://localhost:8080/"
        },
        "id": "8Os6IIDVJfQf",
        "outputId": "3a7aa75a-92c4-4184-c695-553d422f078d"
      },
      "execution_count": 23,
      "outputs": [
        {
          "output_type": "execute_result",
          "data": {
            "text/plain": [
              "2.13420652645248"
            ]
          },
          "metadata": {},
          "execution_count": 23
        }
      ]
    },
    {
      "cell_type": "markdown",
      "source": [
        "## **Método de Simpson**"
      ],
      "metadata": {
        "id": "Hm_wTsTK-q1a"
      }
    },
    {
      "cell_type": "markdown",
      "source": [
        "Se usa la siguiente la formula:\n",
        "\n",
        "$\\int_{a}^{b} f(x)\\, dx ≈ \\frac{b-a}{6}[f(a)+4f(\\frac{a+b}{2})+f(b)]$"
      ],
      "metadata": {
        "id": "SsSRsg9AUAbR"
      }
    },
    {
      "cell_type": "code",
      "source": [
        "f3= lambda x:x**3+1\n",
        "a3=1\n",
        "b3=3"
      ],
      "metadata": {
        "id": "etWwgYHZ-w4E"
      },
      "execution_count": 24,
      "outputs": []
    },
    {
      "cell_type": "code",
      "source": [
        "def regla_simp(f3,a3,b3):\n",
        "    r=((b3-a3)/6)*(f3(a3)+4*f3((a3+b3)/2)+f3(b3))\n",
        "    return r\n",
        "\n",
        "integral=regla_simp(f3,a3,b3)\n",
        "integral"
      ],
      "metadata": {
        "colab": {
          "base_uri": "https://localhost:8080/"
        },
        "id": "-IVkofem-7N9",
        "outputId": "605fc4be-22ab-4ca2-8b1a-9f2e9d3478de"
      },
      "execution_count": 25,
      "outputs": [
        {
          "output_type": "execute_result",
          "data": {
            "text/plain": [
              "22.0"
            ]
          },
          "metadata": {},
          "execution_count": 25
        }
      ]
    },
    {
      "cell_type": "markdown",
      "source": [
        "## **Regla de Simpson Compuesta**"
      ],
      "metadata": {
        "id": "5yP8JF1n-_5Z"
      }
    },
    {
      "cell_type": "markdown",
      "source": [
        "Uso de la formula\n",
        "\n",
        "$\\int_{a}^{b} f(x)\\, dx = \\frac{h}{3}[f(a)+2 ∑_{j=1}^{(n/2)-1} f(x_{2j})+4 \\sum_{j=1}^{n/2} f(x_{2j})+f(b)]$"
      ],
      "metadata": {
        "id": "PdEwSb30U0BB"
      }
    },
    {
      "cell_type": "code",
      "source": [
        "n=11\n",
        "xn=np.linspace(0,1,int(n))\n",
        "a=xn[0]\n",
        "b=xn[-1]\n",
        "h=xn[1]-xn[0]"
      ],
      "metadata": {
        "id": "O8xKQd41-9OQ"
      },
      "execution_count": 26,
      "outputs": []
    },
    {
      "cell_type": "code",
      "source": [
        "xn"
      ],
      "metadata": {
        "colab": {
          "base_uri": "https://localhost:8080/"
        },
        "id": "kD97ZHZK_IQP",
        "outputId": "32f45c7c-fac6-4d17-a827-7a1a9598ce33"
      },
      "execution_count": 27,
      "outputs": [
        {
          "output_type": "execute_result",
          "data": {
            "text/plain": [
              "array([0. , 0.1, 0.2, 0.3, 0.4, 0.5, 0.6, 0.7, 0.8, 0.9, 1. ])"
            ]
          },
          "metadata": {},
          "execution_count": 27
        }
      ]
    },
    {
      "cell_type": "code",
      "source": [
        "#Pares\n",
        "xn[2:n-2:2]"
      ],
      "metadata": {
        "colab": {
          "base_uri": "https://localhost:8080/"
        },
        "id": "F-BBex2v_KL-",
        "outputId": "50308db7-2378-4c88-9352-f2f8995a0e9e"
      },
      "execution_count": 28,
      "outputs": [
        {
          "output_type": "execute_result",
          "data": {
            "text/plain": [
              "array([0.2, 0.4, 0.6, 0.8])"
            ]
          },
          "metadata": {},
          "execution_count": 28
        }
      ]
    },
    {
      "cell_type": "code",
      "source": [
        "#Impares\n",
        "xn[1:n-1:2]"
      ],
      "metadata": {
        "colab": {
          "base_uri": "https://localhost:8080/"
        },
        "id": "JaMsN-fr_MH2",
        "outputId": "74b330c3-005a-4809-fc3f-42dd44345fa8"
      },
      "execution_count": 29,
      "outputs": [
        {
          "output_type": "execute_result",
          "data": {
            "text/plain": [
              "array([0.1, 0.3, 0.5, 0.7, 0.9])"
            ]
          },
          "metadata": {},
          "execution_count": 29
        }
      ]
    },
    {
      "cell_type": "code",
      "source": [
        "sum_pares=f3(xn[2:int(n-2):2]).sum()\n",
        "sum_pares"
      ],
      "metadata": {
        "colab": {
          "base_uri": "https://localhost:8080/"
        },
        "id": "OeU4mpfs_OFM",
        "outputId": "a9108e9d-6fb5-4331-da5b-d2e38aa2627b"
      },
      "execution_count": 30,
      "outputs": [
        {
          "output_type": "execute_result",
          "data": {
            "text/plain": [
              "4.800000000000001"
            ]
          },
          "metadata": {},
          "execution_count": 30
        }
      ]
    },
    {
      "cell_type": "code",
      "source": [
        "sum_impares=f3(xn[1:int(n-1):2]).sum()\n",
        "sum_impares"
      ],
      "metadata": {
        "colab": {
          "base_uri": "https://localhost:8080/"
        },
        "id": "qoOq_Fyd_bET",
        "outputId": "4d87882c-9492-453c-d50c-de8f064c11c9"
      },
      "execution_count": 31,
      "outputs": [
        {
          "output_type": "execute_result",
          "data": {
            "text/plain": [
              "6.225"
            ]
          },
          "metadata": {},
          "execution_count": 31
        }
      ]
    },
    {
      "cell_type": "code",
      "source": [
        "h"
      ],
      "metadata": {
        "colab": {
          "base_uri": "https://localhost:8080/"
        },
        "id": "D2ANKBYZydwV",
        "outputId": "05e64b5f-8c30-4159-975c-09ccba6f3704"
      },
      "execution_count": 32,
      "outputs": [
        {
          "output_type": "execute_result",
          "data": {
            "text/plain": [
              "0.1"
            ]
          },
          "metadata": {},
          "execution_count": 32
        }
      ]
    },
    {
      "cell_type": "code",
      "source": [
        "integral_comp=(h/3)*(f3(a)+2*sum_pares+4*sum_impares+f3(b))\n",
        "integral_comp"
      ],
      "metadata": {
        "colab": {
          "base_uri": "https://localhost:8080/"
        },
        "id": "dVjNMI81_dav",
        "outputId": "4f564371-dd2f-4a99-906e-2397c112af4d"
      },
      "execution_count": 33,
      "outputs": [
        {
          "output_type": "execute_result",
          "data": {
            "text/plain": [
              "1.25"
            ]
          },
          "metadata": {},
          "execution_count": 33
        }
      ]
    },
    {
      "cell_type": "markdown",
      "source": [
        "Generalización"
      ],
      "metadata": {
        "id": "hzoSsJpL_pvI"
      }
    },
    {
      "cell_type": "code",
      "source": [
        "N=11\n",
        "x=np.linspace(0,1,N)\n",
        "h=x[1]-x[0]"
      ],
      "metadata": {
        "id": "ktln7isF_g7S"
      },
      "execution_count": 34,
      "outputs": []
    },
    {
      "cell_type": "code",
      "source": [
        "f2=lambda x: x**3+1\n",
        "a=x[0]\n",
        "b=x[-1]\n",
        "x2j=x[2:N-2:2]\n",
        "x2j_1=x[1:N-1:2]\n",
        "\n",
        "I=(h/3)*(f2(a)+2*f2(x2j).sum()+4*f2(x2j_1).sum()+f2(b))\n",
        "I"
      ],
      "metadata": {
        "colab": {
          "base_uri": "https://localhost:8080/"
        },
        "id": "LocKC03i_jai",
        "outputId": "c16d227d-2381-44c7-c939-17f88310e42b"
      },
      "execution_count": 35,
      "outputs": [
        {
          "output_type": "execute_result",
          "data": {
            "text/plain": [
              "1.25"
            ]
          },
          "metadata": {},
          "execution_count": 35
        }
      ]
    },
    {
      "cell_type": "markdown",
      "source": [
        "Definiendo una función"
      ],
      "metadata": {
        "id": "HTON6Ewf_sq4"
      }
    },
    {
      "cell_type": "code",
      "source": [
        "def regla_simp_comp(f2,a,b,N):\n",
        "    xn3=np.linspace(a,b,int(N))\n",
        "    h=xn3[1]-xn3[0]\n",
        "    x2j_par=xn3[2:N-2:2]\n",
        "    x2j_1_impar=xn3[1:N-1:2]\n",
        "    I=(h/3)*(f2(a)+2*f2(x2j).sum()+4*f2(x2j_1).sum()+f2(b))\n",
        "    return I\n",
        "\n",
        "integral_simp_comp=regla_simp_comp(f2,a,b,N)\n",
        "integral_simp_comp"
      ],
      "metadata": {
        "colab": {
          "base_uri": "https://localhost:8080/"
        },
        "id": "0yzScodq_sPa",
        "outputId": "ab0850e8-62a1-4a87-88a4-b9992a95eb6c"
      },
      "execution_count": 36,
      "outputs": [
        {
          "output_type": "execute_result",
          "data": {
            "text/plain": [
              "1.25"
            ]
          },
          "metadata": {},
          "execution_count": 36
        }
      ]
    },
    {
      "cell_type": "code",
      "source": [
        "#Comparación\n",
        "\n",
        "#Librería\n",
        "xn4=np.linspace(1,3,1000)\n",
        "integral_sc_integ_simpson=sc.integrate.simpson(f2(xn4),xn4)\n",
        "integral_sc_integ_simpson\n",
        "\n",
        "print(f\"comparación del metodo simpson vectorizado respecto a la librería: {integral/integral_sc_integ_simpson}\")\n",
        "print(f\"comparación del metodo simpson compuesto respecto a la librería:{integral_simp_comp/integral_sc_integ_simpson}\")"
      ],
      "metadata": {
        "colab": {
          "base_uri": "https://localhost:8080/"
        },
        "id": "VFOcqy32Z3hJ",
        "outputId": "4e36fb13-e235-4f8a-b45d-a885be7d13d9"
      },
      "execution_count": 37,
      "outputs": [
        {
          "output_type": "stream",
          "name": "stdout",
          "text": [
            "comparación del metodo simpson vectorizado respecto a la librería: 0.9999999999998175\n",
            "comparación del metodo simpson compuesto respecto a la librería:0.05681818181817145\n"
          ]
        }
      ]
    }
  ]
}