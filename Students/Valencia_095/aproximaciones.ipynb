{
  "nbformat": 4,
  "nbformat_minor": 0,
  "metadata": {
    "colab": {
      "provenance": []
    },
    "kernelspec": {
      "name": "python3",
      "display_name": "Python 3"
    },
    "language_info": {
      "name": "python"
    }
  },
  "cells": [
    {
      "cell_type": "code",
      "source": [
        "import matplotlib.pylab as plt\n",
        "import numpy as np\n",
        "from scipy import optimize"
      ],
      "metadata": {
        "id": "LvhTdQ_vWx8w"
      },
      "execution_count": null,
      "outputs": []
    },
    {
      "cell_type": "code",
      "execution_count": null,
      "metadata": {
        "id": "do5CPF7IWpu9"
      },
      "outputs": [],
      "source": [
        "f=lambda x:x*np.exp(x)-1\n",
        "x=np.linspace(0,1,100)"
      ]
    },
    {
      "cell_type": "code",
      "source": [
        "plt.figure()\n",
        "plt.plot(x, f(x))\n",
        "plt.xlabel(\"x\",fontsize=15)\n",
        "plt.ylabel(\"f(x)\",fontsize=15)\n",
        "plt.grid()"
      ],
      "metadata": {
        "colab": {
          "base_uri": "https://localhost:8080/",
          "height": 455
        },
        "id": "BJ56CBziXpLR",
        "outputId": "2184dc30-1cd3-4fe6-83f9-3fff2ef3a691"
      },
      "execution_count": null,
      "outputs": [
        {
          "output_type": "display_data",
          "data": {
            "text/plain": [
              "<Figure size 640x480 with 1 Axes>"
            ],
            "image/png": "[encoded data removed]"
          },
          "metadata": {}
        }
      ]
    },
    {
      "cell_type": "code",
      "source": [
        "x=np.arange(0.5,0.6,0.01)\n",
        "f(x)"
      ],
      "metadata": {
        "colab": {
          "base_uri": "https://localhost:8080/"
        },
        "id": "WOkzpw-VYcPP",
        "outputId": "261066ea-e54c-47e8-c3ea-4a38c021642f"
      },
      "execution_count": null,
      "outputs": [
        {
          "output_type": "execute_result",
          "data": {
            "text/plain": [
              "array([-0.17563936, -0.15070149, -0.12534562, -0.09956588, -0.07335629,\n",
              "       -0.04671084, -0.0196234 ,  0.00791222,  0.03590229,  0.06435317])"
            ]
          },
          "metadata": {},
          "execution_count": 4
        }
      ]
    },
    {
      "cell_type": "markdown",
      "source": [
        "# Bisección"
      ],
      "metadata": {
        "id": "DtdMl41xfVpz"
      }
    },
    {
      "cell_type": "code",
      "source": [
        "#parámetros iniciales\n",
        "a=0.5\n",
        "b=0.8\n",
        "\n",
        "if (f(a)*f(b)<0):\n",
        "    c=(a+b)*0.5\n",
        "    print(a,b,c)\n",
        "    if (f(c)<0):\n",
        "        b=c\n",
        "        print(a,b,c)\n",
        "    else:\n",
        "        a=c\n",
        "    print(a,b,c)"
      ],
      "metadata": {
        "colab": {
          "base_uri": "https://localhost:8080/"
        },
        "id": "gvPIYFALeJ7t",
        "outputId": "0ebde734-54db-4dbd-f099-46f18a1fac8e"
      },
      "execution_count": null,
      "outputs": [
        {
          "output_type": "stream",
          "name": "stdout",
          "text": [
            "0.5 0.8 0.65\n",
            "0.65 0.8 0.65\n"
          ]
        }
      ]
    },
    {
      "cell_type": "code",
      "source": [
        "epsilon=1E-3\n",
        "abs(f(c)-0)<epsilon"
      ],
      "metadata": {
        "colab": {
          "base_uri": "https://localhost:8080/"
        },
        "id": "PjrLqVV4gS50",
        "outputId": "1891f531-486d-41d4-c0b1-d4970b59b6fd"
      },
      "execution_count": null,
      "outputs": [
        {
          "output_type": "execute_result",
          "data": {
            "text/plain": [
              "False"
            ]
          },
          "metadata": {},
          "execution_count": 7
        }
      ]
    },
    {
      "cell_type": "code",
      "source": [
        "a=0.5\n",
        "b=0.8\n",
        "epsilon=1E-3\n",
        "while (abs(f(c)>=epsilon) & (f(a)*f(b)<0)):\n",
        "    c=(a+b)*0.5\n",
        "    if f(c)>0:\n",
        "        b=c\n",
        "    else:\n",
        "        a=c\n",
        "print(f(a))\n",
        "print(f(b))\n",
        "print(f(a)*f(b))\n"
      ],
      "metadata": {
        "colab": {
          "base_uri": "https://localhost:8080/"
        },
        "id": "FycKrzXAgplh",
        "outputId": "cb5afa13-29bd-4108-d966-7ab9559d9ce5"
      },
      "execution_count": null,
      "outputs": [
        {
          "output_type": "stream",
          "name": "stdout",
          "text": [
            "-0.1756393646499359\n",
            "0.7804327427939743\n",
            "-0.1370747110963405\n"
          ]
        }
      ]
    },
    {
      "cell_type": "code",
      "source": [
        "print(c,f(c))"
      ],
      "metadata": {
        "colab": {
          "base_uri": "https://localhost:8080/"
        },
        "id": "iK5Xt_GZh_uO",
        "outputId": "007c3903-687e-4c14-f66a-aa3b1040ea47"
      },
      "execution_count": null,
      "outputs": [
        {
          "output_type": "stream",
          "name": "stdout",
          "text": [
            "0.5375 -0.07994931584188547\n"
          ]
        }
      ]
    },
    {
      "cell_type": "markdown",
      "source": [
        "Otra forma de verlo"
      ],
      "metadata": {
        "id": "gyPVkjlHl2x4"
      }
    },
    {
      "cell_type": "code",
      "source": [
        "a = 0.5\n",
        "b = 0.8\n",
        "c=a\n",
        "epsilon=1E-5\n",
        "iter=0\n",
        "NmaxIter = 1000\n",
        "while( (abs(f(c))>=epsilon) & (f(a)*f(b)<0) & (iter<NmaxIter)):\n",
        "  c=(a+b)*0.5\n",
        "  #print(\"hola\")\n",
        "  if(f(c)>0):\n",
        "    b=c\n",
        "  else:\n",
        "    a=c\n",
        "  iter=iter+1\n",
        "  if(iter==NmaxIter):\n",
        "    print(f\"No se alcanza la presicion deseada, numero maximo de iteraciones superado Nmax=\")\n",
        "\n",
        "print(f(a))\n",
        "print(f(b))\n",
        "print(f(a)*f(b))\n"
      ],
      "metadata": {
        "colab": {
          "base_uri": "https://localhost:8080/"
        },
        "id": "kzkGxESiiKf3",
        "outputId": "a1fd56b1-2f1d-4949-80a8-ebc0d98630ed"
      },
      "execution_count": null,
      "outputs": [
        {
          "output_type": "stream",
          "name": "stdout",
          "text": [
            "-4.6492147553478524e-05\n",
            "4.103337959415754e-06\n",
            "-1.907729938709467e-10\n"
          ]
        }
      ]
    },
    {
      "cell_type": "code",
      "source": [
        "print(c,f(c))"
      ],
      "metadata": {
        "colab": {
          "base_uri": "https://localhost:8080/"
        },
        "id": "yQzUBBF2jjPH",
        "outputId": "f0057816-f093-49ff-ab90-fb1313a378a7"
      },
      "execution_count": null,
      "outputs": [
        {
          "output_type": "stream",
          "name": "stdout",
          "text": [
            "0.5375 -0.07994931584188547\n"
          ]
        }
      ]
    },
    {
      "cell_type": "markdown",
      "source": [
        "Convertir el código en una función"
      ],
      "metadata": {
        "id": "1DmstUDNlTjw"
      }
    },
    {
      "cell_type": "code",
      "source": [
        "#parámetros iniciales\n",
        "f=lambda x:x*np.exp(x)-1\n",
        "a=0.5\n",
        "b=0.8\n",
        "def bisection(f,a,b,epsilon=1E-5,NmaxIter=1000):\n",
        "    c=a\n",
        "    iter=0\n",
        "    while(abs(f(c))>=epsilon) and (f(a)*f(b)<0) and (iter<NmaxIter):\n",
        "        c=(a+b)*0.5\n",
        "\n",
        "        if(f(c)>0):\n",
        "            b=c\n",
        "        else:\n",
        "            a=c\n",
        "        iter=iter+1\n",
        "        if(iter==NmaxIter):\n",
        "            print(f\"No se alcanza la presicion deseada, numero maximo de iteraciones superado Nmax=\")\n",
        "    return a,b,f(a)*f(b)"
      ],
      "metadata": {
        "id": "0QNJSzIfo9Fu"
      },
      "execution_count": null,
      "outputs": []
    },
    {
      "cell_type": "code",
      "source": [
        "resultado_a,resultado_b,producto=bisection(f,a,b,epsilon=1E-5,NmaxIter=1000)\n",
        "print(\"intervalo [a,b] encontrado:\",resultado_a,resultado_b)\n",
        "print(\"producto de f(a) y f(b):\",producto)"
      ],
      "metadata": {
        "colab": {
          "base_uri": "https://localhost:8080/"
        },
        "id": "hEdyAFr4qXPl",
        "outputId": "da6bc727-2d87-4ab2-e07c-a3e348ec1897"
      },
      "execution_count": null,
      "outputs": [
        {
          "output_type": "stream",
          "name": "stdout",
          "text": [
            "intervalo [a,b] encontrado: 0.5671264648437498 0.5671447753906249\n",
            "producto de f(a) y f(b): -1.907729938709467e-10\n"
          ]
        }
      ]
    },
    {
      "cell_type": "code",
      "source": [
        "optimize.bisect?"
      ],
      "metadata": {
        "id": "vSuyk6numA-y"
      },
      "execution_count": null,
      "outputs": []
    },
    {
      "cell_type": "code",
      "source": [
        "root=optimize.bisect(f,a,b)\n",
        "root"
      ],
      "metadata": {
        "colab": {
          "base_uri": "https://localhost:8080/"
        },
        "id": "vw1CjAlmmMPU",
        "outputId": "8d9653f5-e01c-47e8-93d5-1db0bd87d8f1"
      },
      "execution_count": null,
      "outputs": [
        {
          "output_type": "execute_result",
          "data": {
            "text/plain": [
              "0.5671432904109679"
            ]
          },
          "metadata": {},
          "execution_count": 23
        }
      ]
    },
    {
      "cell_type": "code",
      "source": [
        "def f(x):\n",
        "    return x * np.exp(x) - 1\n",
        "\n",
        "a=1.0\n",
        "b=-3.0\n",
        "root=optimize.bisect(f,a,b)\n",
        "print(\"root:\",root)"
      ],
      "metadata": {
        "id": "8ucmy0M3lTD1",
        "colab": {
          "base_uri": "https://localhost:8080/"
        },
        "outputId": "a9f6f9a9-79d3-410c-bf32-314d00a6482c"
      },
      "execution_count": null,
      "outputs": [
        {
          "output_type": "stream",
          "name": "stdout",
          "text": [
            "root: 0.5671432904109679\n"
          ]
        }
      ]
    }
  ]
}