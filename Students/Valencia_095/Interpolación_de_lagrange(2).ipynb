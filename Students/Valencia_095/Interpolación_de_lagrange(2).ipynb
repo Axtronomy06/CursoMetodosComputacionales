{
  "nbformat": 4,
  "nbformat_minor": 0,
  "metadata": {
    "colab": {
      "provenance": []
    },
    "kernelspec": {
      "name": "python3",
      "display_name": "Python 3"
    },
    "language_info": {
      "name": "python"
    }
  },
  "cells": [
    {
      "cell_type": "code",
      "execution_count": null,
      "metadata": {
        "id": "-q9S8jxVf_6f"
      },
      "outputs": [],
      "source": [
        "import sympy as sy\n",
        "import numpy as np\n",
        "import matplotlib.pylab as plt"
      ]
    },
    {
      "cell_type": "markdown",
      "source": [
        "Código markdown\n",
        "\n",
        "supongamos que tenemos los siguientes valores de x e y\n",
        "\n",
        "- Lista de valores de x: x=[2,5,6]\n",
        "- Lista de valores de y: y=[4,1,1]\n",
        "\n",
        "A continuación, realizaremos la interpolación de lagrange paso a paso:\n",
        "\n",
        "1. Inicialización de polinomios y variables\n",
        "\n",
        "- Definir tres polinomios de la Lagrange: $L0=L1=L2=1$\n",
        "- Inicializar j=1\n",
        "\n",
        "2. Cálculo de los polinomios de Lagrange:\n",
        "    a. Para cada i desde 1 hasta 3, hacer lo siguiente:\n",
        "    - Si i es diferente de j, calcular $L_0$ de la siguiente manera\n",
        "\n",
        "    $L_0=L_0*(x-x[i]/(x[j]-x[i])$\n",
        "\n",
        "- Establecer j=2\n",
        "\n",
        "    b. Para cada i desde 1 hasta 3, hacer lo siguiente:\n",
        "    - Si i es diferente de j, calcular $L_1$ de la siguiente manera:\n",
        "\n",
        "    $L_1=L_1*(x-x[i]/(x[j]-x[i])$\n",
        "\n",
        "- Establecer j=3\n",
        "\n",
        "    c. Para cada i desde 1 hasta 3, hacer lo siguiente:\n",
        "    - Si i es diferente de j, calcular $L_2$ de la siguiente manera:\n",
        "\n",
        "    $L_2=L_2*(x-x[i]/(x[j]-x[i])$\n",
        "\n",
        "3. Cálculo del polinomio de interpolación:\n",
        "    - Calcular el polinomio $p(x)$ utilizando los polinomios de Lagrange y los valores de $y$ de la siguiente manera:\n",
        "\n",
        "    $p(x)=y[0]*L_0+y[1]*L_1+y[2]*L_2$\n",
        "\n",
        "4. Mostrar el resultado\n",
        "    - Muestra el polinomio $p(x)$. En este caso,$p(x)$ será la expresión final que representa el polinomio de la interpolación de Lagrange"
      ],
      "metadata": {
        "id": "5_a2ljJ8J3uX"
      }
    },
    {
      "cell_type": "code",
      "source": [
        "#Defina las coordenadas\n",
        "puntos=[[2,4],[5,1],[6,1]]"
      ],
      "metadata": {
        "id": "ej2MmRUYu-Yu"
      },
      "execution_count": null,
      "outputs": []
    },
    {
      "cell_type": "code",
      "source": [
        "#Tomar a x como simbolo para poder operar\n",
        "x=sy.Symbol(\"x\")\n",
        "\n",
        "#Vectores\n",
        "x_=np.array([2,5,6])\n",
        "y_=np.array([4,1,1])\n",
        "#indice superior\n",
        "n=len(x_)\n",
        "\n",
        "#Valor inicial\n",
        "L0=1\n",
        "L0= (x - x_[1] / x_[0] - x_[1])\n",
        "L0=L0*(x - x_[1]) / (x_[0] - x_[1])\n",
        "\n",
        "#indice fijo\n",
        "j=0"
      ],
      "metadata": {
        "id": "ninvLrZz-J49"
      },
      "execution_count": null,
      "outputs": []
    },
    {
      "cell_type": "code",
      "source": [
        "#productoria\n",
        "for i in range(0,n):\n",
        "    if i != j:\n",
        "        L0*= (x - x_[i]) / (x_[j] - x_[i])"
      ],
      "metadata": {
        "id": "tU8Jw4BYwNrv"
      },
      "execution_count": null,
      "outputs": []
    },
    {
      "cell_type": "code",
      "source": [
        "#Función definida para la productoria\n",
        "def lagrange(j,x_):\n",
        "    L0=1\n",
        "    n=len(x_)\n",
        "    for i in range(0,n):\n",
        "        if i != j:\n",
        "            L0*=((x - x_[i]) / (x_[j] - x_[i]))\n",
        "    return L0\n",
        "lagrange(0,x_)"
      ],
      "metadata": {
        "id": "8Wf1I_9vw5c7",
        "colab": {
          "base_uri": "https://localhost:8080/",
          "height": 58
        },
        "outputId": "cc7ba723-972c-4357-9f15-438aea0e93bc"
      },
      "execution_count": null,
      "outputs": [
        {
          "output_type": "execute_result",
          "data": {
            "text/plain": [
              "(3/2 - x/4)*(5/3 - x/3)"
            ],
            "text/latex": "$\\displaystyle \\left(\\frac{3}{2} - \\frac{x}{4}\\right) \\left(\\frac{5}{3} - \\frac{x}{3}\\right)$"
          },
          "metadata": {},
          "execution_count": 43
        }
      ]
    },
    {
      "cell_type": "code",
      "source": [
        "n=len(x_)\n",
        "lagrange(0,x_)"
      ],
      "metadata": {
        "colab": {
          "base_uri": "https://localhost:8080/",
          "height": 58
        },
        "id": "0la67Z-vxFSt",
        "outputId": "056c5652-398b-4388-a110-ab6a634e5314"
      },
      "execution_count": null,
      "outputs": [
        {
          "output_type": "execute_result",
          "data": {
            "text/plain": [
              "(3/2 - x/4)*(5/3 - x/3)"
            ],
            "text/latex": "$\\displaystyle \\left(\\frac{3}{2} - \\frac{x}{4}\\right) \\left(\\frac{5}{3} - \\frac{x}{3}\\right)$"
          },
          "metadata": {},
          "execution_count": 44
        }
      ]
    },
    {
      "cell_type": "code",
      "source": [
        "n=len(x_)\n",
        "lagrange(1,x_)"
      ],
      "metadata": {
        "colab": {
          "base_uri": "https://localhost:8080/",
          "height": 58
        },
        "id": "s92OkRtwxKhW",
        "outputId": "31beb925-a1e7-4b7c-ffad-97d57d8717c1"
      },
      "execution_count": null,
      "outputs": [
        {
          "output_type": "execute_result",
          "data": {
            "text/plain": [
              "(6 - x)*(x/3 - 2/3)"
            ],
            "text/latex": "$\\displaystyle \\left(6 - x\\right) \\left(\\frac{x}{3} - \\frac{2}{3}\\right)$"
          },
          "metadata": {},
          "execution_count": 45
        }
      ]
    },
    {
      "cell_type": "code",
      "source": [
        "n=len(x_)\n",
        "lagrange(2,x_)"
      ],
      "metadata": {
        "colab": {
          "base_uri": "https://localhost:8080/",
          "height": 58
        },
        "id": "YQ2_C-m_xMZA",
        "outputId": "305ab396-81ed-4720-9bcf-0e8508b058b5"
      },
      "execution_count": null,
      "outputs": [
        {
          "output_type": "execute_result",
          "data": {
            "text/plain": [
              "(x/4 - 1/2)*(x - 5)"
            ],
            "text/latex": "$\\displaystyle \\left(\\frac{x}{4} - \\frac{1}{2}\\right) \\left(x - 5\\right)$"
          },
          "metadata": {},
          "execution_count": 46
        }
      ]
    },
    {
      "cell_type": "code",
      "source": [
        "fxn=sy.lambdify(x,L0,\"numpy\")\n",
        "fxn(x)"
      ],
      "metadata": {
        "id": "NiwBcQInxR4O",
        "colab": {
          "base_uri": "https://localhost:8080/",
          "height": 39
        },
        "outputId": "9bea13a5-e268-4491-e9f2-cdf1a232860d"
      },
      "execution_count": null,
      "outputs": [
        {
          "output_type": "execute_result",
          "data": {
            "text/plain": [
              "(1.66666666666667 - 0.333333333333333*x)*(0.0833333333333333*x - 0.5)*(x - 7.5)*(x - 5)"
            ],
            "text/latex": "$\\displaystyle \\left(1.66666666666667 - 0.333333333333333 x\\right) \\left(0.0833333333333333 x - 0.5\\right) \\left(x - 7.5\\right) \\left(x - 5\\right)$"
          },
          "metadata": {},
          "execution_count": 47
        }
      ]
    },
    {
      "cell_type": "code",
      "source": [
        "def lagrange(j,n,x_):\n",
        "    L0=1\n",
        "    n=len(x_)\n",
        "    for i in range(0,n):\n",
        "        if (i != j):\n",
        "            L0*= (x - x_[i]) / (x_[j] - x_[i])\n",
        "    return L0\n",
        "\n",
        "def P(x,x_,y_):\n",
        "    poly=0\n",
        "    for i in range(0,len(y_)):\n",
        "        poly += y_[i]*lagrange(i,n,x_)\n",
        "    return poly"
      ],
      "metadata": {
        "id": "5EJTKclWyqMd"
      },
      "execution_count": null,
      "outputs": []
    },
    {
      "cell_type": "code",
      "source": [
        "x_=np.array([2,5,6])\n",
        "y_=np.array([4,1,2])\n",
        "sy.simplify(P(x,x_, y_))"
      ],
      "metadata": {
        "colab": {
          "base_uri": "https://localhost:8080/",
          "height": 54
        },
        "id": "7y5oNfnCzJJh",
        "outputId": "056aac0d-dd03-47b1-b368-fc81073681b8"
      },
      "execution_count": null,
      "outputs": [
        {
          "output_type": "execute_result",
          "data": {
            "text/plain": [
              "x**2/2 - 9*x/2 + 11"
            ],
            "text/latex": "$\\displaystyle \\frac{x^{2}}{2} - \\frac{9 x}{2} + 11$"
          },
          "metadata": {},
          "execution_count": 50
        }
      ]
    },
    {
      "cell_type": "code",
      "source": [
        "#Gráfico del resultado\n",
        "poly=lambda x:((x**2)/2)-((9*x)/2)+11\n",
        "intervalo_x_=np.linspace(0,10,1000)\n",
        "plt.figure(figsize=(10,6))\n",
        "plt.plot(x_,y_,\".r\")\n",
        "plt.plot(intervalo_x_,poly(intervalo_x_))\n",
        "plt.title(\"Interpolación de lagrange\")\n",
        "plt.grid(True)\n",
        "plt.show()"
      ],
      "metadata": {
        "colab": {
          "base_uri": "https://localhost:8080/",
          "height": 545
        },
        "id": "iTAnyqxyIFLh",
        "outputId": "26917032-4afd-4c0a-a155-3ac1b2e99d90"
      },
      "execution_count": null,
      "outputs": [
        {
          "output_type": "display_data",
          "data": {
            "text/plain": [
              "<Figure size 1000x600 with 1 Axes>"
            ],
            "image/png": "[encoded data removed]"
          },
          "metadata": {}
        }
      ]
    }
  ]
}