{
  "nbformat": 4,
  "nbformat_minor": 0,
  "metadata": {
    "colab": {
      "provenance": []
    },
    "kernelspec": {
      "name": "python3",
      "display_name": "Python 3"
    },
    "language_info": {
      "name": "python"
    }
  },
  "cells": [
    {
      "cell_type": "markdown",
      "source": [
        "Calcular el polinomio caracteristico, los autovalores y autvectores propios de la siguiente matrices, comprobar con la solucion analitica:\n",
        "\n",
        "a)\n",
        "\n",
        "\\begin{equation}\n",
        "\\begin{bmatrix}\n",
        "1 & -1 & 4\\\\\n",
        "3 & 2 & -1\\\\\n",
        "2 & 1 & -1\n",
        "\\end{bmatrix}\n",
        "\\end{equation}\n",
        "\n",
        "b)\n",
        "\n",
        "\\begin{bmatrix}\n",
        "3 & -5 \\\\\n",
        "1 & -1\n",
        "\\end{bmatrix}"
      ],
      "metadata": {
        "id": "oJc6eAYXwaP5"
      }
    },
    {
      "cell_type": "code",
      "source": [
        "#Librería\n",
        "import numpy as np\n",
        "import sympy as sy\n",
        "import matplotlib.pylab as plt"
      ],
      "metadata": {
        "id": "kuZ80iHmxjvf"
      },
      "execution_count": 46,
      "outputs": []
    },
    {
      "cell_type": "code",
      "source": [
        "#Calculo de determinantes\n",
        "def det2x2(B1):\n",
        "    fil,col=np.shape(B1)\n",
        "    if fil==2 and col==2:\n",
        "        a=B1[0, 0]\n",
        "        b=B1[0, 1]\n",
        "        c=B1[1, 0]\n",
        "        d=B1[1, 1]\n",
        "        determinante=(a*d)-(b*c)\n",
        "        return determinante\n",
        "    else:\n",
        "        print(\"La matriz no es 2x2\")\n",
        "\n",
        "def det3x3(B1):\n",
        "    fil,col=np.shape(B1)\n",
        "    if fil==3 and col==3 :\n",
        "        a=B1[0, 0]\n",
        "        b=B1[0, 1]\n",
        "        c=B1[0, 2]\n",
        "        d=B1[1, 0]\n",
        "        e=B1[1, 1]\n",
        "        f=B1[1, 2]\n",
        "        g=B1[2, 0]\n",
        "        h=B1[2, 1]\n",
        "        i=B1[2, 2]\n",
        "        determinante=a*(e*i-f*h)-b*(d*i-f*g)+c*(d*h-e*g)\n",
        "        return determinante\n",
        "    else:\n",
        "        print(\"la matriz no es 3x3\")\n"
      ],
      "metadata": {
        "id": "znOEGIjQBTqs"
      },
      "execution_count": 47,
      "outputs": []
    },
    {
      "cell_type": "code",
      "source": [
        "#Halle el polinomio característico de las matrices dependiendo de su dimensión\n",
        "def polinomio_carac(B1):\n",
        "    dim=sy.shape(B1)\n",
        "    lamb=sy.Symbol(\"\\lambda\")\n",
        "\n",
        "    if dim==(2,2):\n",
        "        I=sy.eye(2)\n",
        "        B_p= (B1-lamb*I)\n",
        "        pol_carac=sy.poly(det2x2(B_p))\n",
        "        return pol_carac\n",
        "\n",
        "\n",
        "    if dim==(3,3):\n",
        "        I=sy.eye(3)\n",
        "        B_p= (B1-lamb*I)\n",
        "        pol_carac=sy.poly(det3x3(B_p))\n",
        "        return pol_carac\n"
      ],
      "metadata": {
        "id": "Fs_qf-1R_12x"
      },
      "execution_count": 48,
      "outputs": []
    },
    {
      "cell_type": "code",
      "source": [
        "#Valores propios son los que se derivan del polinomio característico\n",
        "def valores_propios(B1):\n",
        "    lamb=sy.Symbol(\"\\lambda\")\n",
        "    v_sol= sy.solve(polinomio_carac(B1),lamb)\n",
        "    return sy.Matrix(v_sol)"
      ],
      "metadata": {
        "id": "wZitPgAjEkqI"
      },
      "execution_count": 49,
      "outputs": []
    },
    {
      "cell_type": "code",
      "source": [
        "#Operaciones elementales y reducción de matriz\n",
        "def reduccion(b2):\n",
        "    f,c=b2.shape\n",
        "    b2_reducida=np.copy(b2).astype(\"float64\")\n",
        "\n",
        "    for i in range(f):\n",
        "        if b2_reducida[i,i]==0:\n",
        "            for k in range(i+1,f):\n",
        "                if b2_reducida[k,i]!=0:\n",
        "                    b2_reducida[[i,k],:]=b2_reducida[[k,i],:]\n",
        "                    break\n",
        "            else:\n",
        "                for j in range(i+1,f):\n",
        "                    if b2_reducida[j,i]!=0:\n",
        "                        factor=b2_reducida[j,i]/b2_reducida[i,i]\n",
        "                        b2_reducida[j,i:]-=factor*b2_reducida[i,i:]\n",
        "    return sy.Matrix(b2_reducida)"
      ],
      "metadata": {
        "id": "KwvOW3stEIGD"
      },
      "execution_count": 50,
      "outputs": []
    },
    {
      "cell_type": "code",
      "source": [
        "#Calculo de vectores propios\n",
        "def vectores_propios(B_1):\n",
        "    x=sy.Symbol(\"x\")\n",
        "    y=sy.Symbol(\"y\")\n",
        "    z=sy.Symbol(\"z\")\n",
        "    dim=sy.shape(B_1)\n",
        "    M=sy.Matrix()\n",
        "    vp=valores_propios(B_1)\n",
        "\n",
        "    if dim==(2,2):\n",
        "        for i in range(0,len(vp)):\n",
        "            Mredv_p=B_1-vp[i]*sy.eye(2)\n",
        "            componente_vector_propio=-1*Mredv_p[0,0]/Mredv_p[0,1]\n",
        "            vector_propio_componentes=sy.Matrix([1,componente_vector_propio])\n",
        "            M=M.row_join(vector_propio_componentes)\n",
        "        return M\n",
        "\n",
        "    elif dim==(3,3):\n",
        "        for i in range(0,len(vp)):\n",
        "            Mr=B_1-vp[i]*sy.eye(3)\n",
        "            Ms=reduccion(Mr)\n",
        "            sis_ampliado=sy.Matrix([[Ms[0,1],Ms[0,2]],\n",
        "                                    [Ms[1,1],Ms[1,2]]])\n",
        "            b=sy.Matrix([-x*Ms[0,0],-x*Ms[1,0]])\n",
        "            sv=sy.Matrix([y,z])\n",
        "            solucion_sis=sy.solve(sis_ampliado*sv-b,[y,z])\n",
        "            vector_propio=sy.Matrix([1,solucion_sis[y]/x,solucion_sis[z]/x])\n",
        "            M=M.row_join(vector_propio)\n",
        "        return M"
      ],
      "metadata": {
        "id": "vXdp8M6UMyfL"
      },
      "execution_count": 51,
      "outputs": []
    },
    {
      "cell_type": "markdown",
      "source": [
        "# Realizando comparación con la librería de numpy"
      ],
      "metadata": {
        "id": "Kjp967PAXlKn"
      }
    },
    {
      "cell_type": "code",
      "source": [
        "#Matriz3x3\n",
        "A=np.matrix([[1,-1,4],\n",
        "             [3,2,-1],\n",
        "             [2,1,-1]])\n",
        "A_s=sy.Matrix(A)\n",
        "\n",
        "#Matriz2x2\n",
        "B=np.matrix([[3,-5],\n",
        "             [1,-1]])\n",
        "B_s=sy.Matrix(B)"
      ],
      "metadata": {
        "id": "I65WNUqfXkij"
      },
      "execution_count": 52,
      "outputs": []
    },
    {
      "cell_type": "markdown",
      "source": [
        "# Polinomio Característico"
      ],
      "metadata": {
        "id": "LQlrcwl5bXAf"
      }
    },
    {
      "cell_type": "code",
      "source": [
        "#Matriz2x2\n",
        "polinomio2x2=polinomio_carac(B_s)\n",
        "print(f\"Polinomio característico a través del código elaborado:{polinomio2x2}\")"
      ],
      "metadata": {
        "id": "inw47QOObWT3",
        "colab": {
          "base_uri": "https://localhost:8080/"
        },
        "outputId": "b6c7b474-5725-4910-b979-2b77de17c4a8"
      },
      "execution_count": 53,
      "outputs": [
        {
          "output_type": "stream",
          "name": "stdout",
          "text": [
            "Polinomio característico a través del código elaborado:Poly(\\lambda**2 - 2*\\lambda + 2, \\lambda, domain='ZZ')\n"
          ]
        }
      ]
    },
    {
      "cell_type": "code",
      "source": [
        "polinomionp2=np.poly(B)\n",
        "print(f\"Polinomio característico(numpy):{polinomionp2}\")"
      ],
      "metadata": {
        "id": "lbIpV_F2e7ip",
        "colab": {
          "base_uri": "https://localhost:8080/"
        },
        "outputId": "932db077-4419-4fea-e093-ee651baaf701"
      },
      "execution_count": 54,
      "outputs": [
        {
          "output_type": "stream",
          "name": "stdout",
          "text": [
            "Polinomio característico(numpy):[ 1. -2.  2.]\n"
          ]
        }
      ]
    },
    {
      "cell_type": "code",
      "source": [
        "#matriz3x3\n",
        "polinomio3x3=polinomio_carac(A_s)\n",
        "print(f\"Polinomio característico a través del código elaborado:{polinomio3x3}\")"
      ],
      "metadata": {
        "id": "CBxeS7tkb8N4",
        "colab": {
          "base_uri": "https://localhost:8080/"
        },
        "outputId": "c3dd6a0a-c507-45d3-ac8c-9546efd51291"
      },
      "execution_count": 55,
      "outputs": [
        {
          "output_type": "stream",
          "name": "stdout",
          "text": [
            "Polinomio característico a través del código elaborado:Poly(-\\lambda**3 + 2*\\lambda**2 + 5*\\lambda - 6, \\lambda, domain='ZZ')\n"
          ]
        }
      ]
    },
    {
      "cell_type": "code",
      "source": [
        "polinomionp3=np.poly(A)\n",
        "print(f\"Polinomio característico(numpy):{polinomionp3}\")"
      ],
      "metadata": {
        "id": "N6I8G3x-e8Xx",
        "colab": {
          "base_uri": "https://localhost:8080/"
        },
        "outputId": "4789b474-f3d3-4221-926d-1de5d18ed3a0"
      },
      "execution_count": 56,
      "outputs": [
        {
          "output_type": "stream",
          "name": "stdout",
          "text": [
            "Polinomio característico(numpy):[ 1. -2. -5.  6.]\n"
          ]
        }
      ]
    },
    {
      "cell_type": "markdown",
      "source": [
        "# Valores propios"
      ],
      "metadata": {
        "id": "FSRsFmT7bc5u"
      }
    },
    {
      "cell_type": "code",
      "source": [
        "#Matriz2x2\n",
        "valor_propio=valores_propios(B_s)\n",
        "print(f\"valores propios (numpy):{valor_propio}\")"
      ],
      "metadata": {
        "id": "3Rb0QVK3bb-e",
        "colab": {
          "base_uri": "https://localhost:8080/"
        },
        "outputId": "33e31a28-f6e5-450f-d33a-74e76dd36eee"
      },
      "execution_count": 57,
      "outputs": [
        {
          "output_type": "stream",
          "name": "stdout",
          "text": [
            "valores propios (numpy):Matrix([[1 - I], [1 + I]])\n"
          ]
        }
      ]
    },
    {
      "cell_type": "code",
      "source": [
        "valores,vectores=np.linalg.eig(B)\n",
        "print(f\"valores propios (numpy):{valores}\")"
      ],
      "metadata": {
        "id": "FVvdUW0OeZRj",
        "colab": {
          "base_uri": "https://localhost:8080/"
        },
        "outputId": "d66ed7de-380f-4f9a-cf28-41ea931d8c42"
      },
      "execution_count": 58,
      "outputs": [
        {
          "output_type": "stream",
          "name": "stdout",
          "text": [
            "valores propios (numpy):[1.+1.j 1.-1.j]\n"
          ]
        }
      ]
    },
    {
      "cell_type": "code",
      "source": [
        "#matriz3x3\n",
        "valor_propio3=valores_propios(A_s)\n",
        "print(f\"valores propios (numpy):{valor_propio3}\")"
      ],
      "metadata": {
        "id": "AmhWjWKXcJr6",
        "colab": {
          "base_uri": "https://localhost:8080/"
        },
        "outputId": "61f28345-332d-4bd1-b00f-007386f21cfc"
      },
      "execution_count": 59,
      "outputs": [
        {
          "output_type": "stream",
          "name": "stdout",
          "text": [
            "valores propios (numpy):Matrix([[-2], [1], [3]])\n"
          ]
        }
      ]
    },
    {
      "cell_type": "code",
      "source": [
        "valores,vectores=np.linalg.eig(A)\n",
        "print(f\"Valores propios(numpy):{valores}\")"
      ],
      "metadata": {
        "id": "6XSDobrpeZwF",
        "colab": {
          "base_uri": "https://localhost:8080/"
        },
        "outputId": "4a1ae233-8eaa-4dc9-cc17-b9c1c4dd9ce7"
      },
      "execution_count": 60,
      "outputs": [
        {
          "output_type": "stream",
          "name": "stdout",
          "text": [
            "Valores propios(numpy):[ 3. -2.  1.]\n"
          ]
        }
      ]
    },
    {
      "cell_type": "markdown",
      "source": [
        "# Vectores propios"
      ],
      "metadata": {
        "id": "ZjSxsbD9bhDy"
      }
    },
    {
      "cell_type": "code",
      "source": [
        "#Matriz2x2\n",
        "vector_propio=vectores_propios(B_s)\n",
        "print(f\"Vectores propios a través del código creado:{vector_propio}\")\n",
        "\n",
        "valores,vectores=np.linalg.eig(B)\n",
        "print(f\"Vectores propios(numpy):{vectores}\")"
      ],
      "metadata": {
        "id": "xY-GWd2kbgUD",
        "colab": {
          "base_uri": "https://localhost:8080/"
        },
        "outputId": "0d51c527-4a17-4e5d-9c38-61a4f1102790"
      },
      "execution_count": 61,
      "outputs": [
        {
          "output_type": "stream",
          "name": "stdout",
          "text": [
            "Vectores propios a través del código creado:Matrix([[1, 1], [2/5 + I/5, 2/5 - I/5]])\n",
            "Vectores propios(numpy):[[0.91287093+0.j         0.91287093-0.j        ]\n",
            " [0.36514837-0.18257419j 0.36514837+0.18257419j]]\n"
          ]
        }
      ]
    },
    {
      "cell_type": "code",
      "source": [
        "#matriz3x3\n",
        "vector_propio=vectores_propios(A_s)\n",
        "print(f\"Vectores propios a través del código creado:{vector_propio}\")"
      ],
      "metadata": {
        "id": "jF5TgYO6cMBw",
        "colab": {
          "base_uri": "https://localhost:8080/"
        },
        "outputId": "75494336-68a0-4564-b4ba-9b12e448f573"
      },
      "execution_count": 62,
      "outputs": [
        {
          "output_type": "stream",
          "name": "stdout",
          "text": [
            "Vectores propios a través del código creado:Matrix([[1, 1, 1], [-1, -4.00000000000000, 2.00000000000000], [-1, -1, 1]])\n"
          ]
        }
      ]
    },
    {
      "cell_type": "code",
      "source": [
        "valores,vectores=np.linalg.eig(A)\n",
        "print(f\"Vectores propios(numpy):{vectores}\")"
      ],
      "metadata": {
        "id": "yInmAktAe47n",
        "colab": {
          "base_uri": "https://localhost:8080/"
        },
        "outputId": "76e2bd54-646a-4f21-ba07-bc2ff52cbbf5"
      },
      "execution_count": 63,
      "outputs": [
        {
          "output_type": "stream",
          "name": "stdout",
          "text": [
            "Vectores propios(numpy):[[ 0.40824829  0.57735027  0.23570226]\n",
            " [ 0.81649658 -0.57735027 -0.94280904]\n",
            " [ 0.40824829 -0.57735027 -0.23570226]]\n"
          ]
        }
      ]
    },
    {
      "cell_type": "markdown",
      "source": [
        "# **Actividad 2**\n",
        "\n",
        "Considere la ecuación cuadrática $x^2-4xy+3y^2=6$, esta ecuación cuadrática se corresponde a una hiperbola, la cual puede ser escrita en forma matricial como sigue:\n",
        "$A\\vec{v}\\cdot \\vec{v}=6$, donde $\\vec{v}=(x, y)$ y A es una matrix simetrica.\n",
        "\n",
        "\\begin{equation}\n",
        "A=\\begin{bmatrix}\n",
        "1 & -2 \\\\\n",
        "-2 & 3 \\\\\n",
        "\\end{bmatrix}\n",
        "\\end{equation}\n",
        "  \n",
        "1. Realice un grafico que represente la hyperbola.\n",
        "\n",
        "- Diagonalice A, para ello construya la matrix Q de autovectores ortoganale, tal que $D=Q^{T}AQ$, en este caso se dice que A es diagonalizable ortogonalmente, donde $A=QDQ^T$.\n",
        "- Aplique el resultado de la siguiente demostración para encontrar una nueva hyperbola en una  nueva base.\n",
        "\\begin{equation}\n",
        "QDQ^T \\vec{v} \\cdot \\vec{v} = d\n",
        "\\end{equation}\n",
        "\n",
        "\\begin{equation}\n",
        "Q(DQ^T\\vec{v}) \\cdot \\vec{v} = (DQ^T\\vec{v}) \\cdot (Q^T\\vec{v})=d\n",
        "\\end{equation}\n",
        "\n",
        "\\begin{equation}\n",
        "(DQ^T\\vec{v}) \\cdot (Q^T\\vec{v})=d\n",
        "\\end{equation}\n",
        "\n",
        "Sea $u=Q^T\\vec{v}$\n",
        "\n",
        "Luego :\n",
        "\\begin{equation}\n",
        "(D\\vec{u}) \\cdot \\vec{u}=d\n",
        "\\end{equation}\n",
        "\n",
        "donde $\\vec{u}=(x', y')$, tal que $D\\vec{u} \\cdot \\vec{u}=d$ es una nueva hyperbola"
      ],
      "metadata": {
        "id": "rMBJpHkwFp9P"
      }
    },
    {
      "cell_type": "code",
      "source": [
        "A2=np.matrix([[1,-2],\n",
        "             [-2,3]])"
      ],
      "metadata": {
        "id": "RsNM7yvQFprN"
      },
      "execution_count": 64,
      "outputs": []
    },
    {
      "cell_type": "code",
      "source": [
        "#Autovalores y autovectores de A\n",
        "valores,vectores=np.linalg.eig(A2)"
      ],
      "metadata": {
        "id": "JuYfH74najPf"
      },
      "execution_count": 65,
      "outputs": []
    },
    {
      "cell_type": "code",
      "source": [
        "print(f\"los valores propios de A2 son:{valores}\")"
      ],
      "metadata": {
        "id": "UVkaugv0avG7",
        "colab": {
          "base_uri": "https://localhost:8080/"
        },
        "outputId": "c33c2126-a8df-4b88-a043-53eae94bc75c"
      },
      "execution_count": 66,
      "outputs": [
        {
          "output_type": "stream",
          "name": "stdout",
          "text": [
            "los valores propios de A2 son:[-0.23606798  4.23606798]\n"
          ]
        }
      ]
    },
    {
      "cell_type": "code",
      "source": [
        "print(f\"los vectores propios de A2 son:{vectores}\")"
      ],
      "metadata": {
        "id": "8_hly7J6a1rw",
        "colab": {
          "base_uri": "https://localhost:8080/"
        },
        "outputId": "797127e6-fa58-4ae3-8897-8ed2cfb73951"
      },
      "execution_count": 67,
      "outputs": [
        {
          "output_type": "stream",
          "name": "stdout",
          "text": [
            "los vectores propios de A2 son:[[-0.85065081  0.52573111]\n",
            " [-0.52573111 -0.85065081]]\n"
          ]
        }
      ]
    },
    {
      "cell_type": "code",
      "source": [
        "#Diagonal de la matriz A2\n",
        "Matriz_Diagonal=np.matrix([[valores[0],0],\n",
        "                           [0,valores[1]]])"
      ],
      "metadata": {
        "id": "tbpRN3mNa_Sy"
      },
      "execution_count": 68,
      "outputs": []
    },
    {
      "cell_type": "code",
      "source": [
        "#Matriz ortogonal\n",
        "Matrizv=vectores\n",
        "Matriz_ortogonal=np.transpose(Matrizv)"
      ],
      "metadata": {
        "id": "aW-zxjxJcXLC"
      },
      "execution_count": 69,
      "outputs": []
    },
    {
      "cell_type": "code",
      "source": [
        "#Matriz de Rotación\n",
        "def matriz_de_rotacion(M):\n",
        "    #Garantizar que es cuadrada\n",
        "    if not M.shape[0]==M.shape[1]:\n",
        "        return False\n",
        "\n",
        "    #Verificar determinante\n",
        "    det=np.linalg.det(M)\n",
        "    print(det)\n",
        "    if not np.isclose(det,1.0):\n",
        "        return False\n",
        "    return True\n",
        "\n",
        "matriz_de_rotacion(Matriz_ortogonal)"
      ],
      "metadata": {
        "id": "ltcSEG6MdJPj",
        "colab": {
          "base_uri": "https://localhost:8080/"
        },
        "outputId": "cacef246-be61-4838-9a81-a3f626857018"
      },
      "execution_count": 70,
      "outputs": [
        {
          "output_type": "stream",
          "name": "stdout",
          "text": [
            "0.9999999999999998\n"
          ]
        },
        {
          "output_type": "execute_result",
          "data": {
            "text/plain": [
              "True"
            ]
          },
          "metadata": {},
          "execution_count": 70
        }
      ]
    },
    {
      "cell_type": "code",
      "source": [
        "def grafico(x):\n",
        "    funcion=np.sqrt((6-valores[0]*(x**2))/valores[1])\n",
        "    return funcion\n",
        "\n",
        "intervalo_x=np.linspace(-6,6,100)\n",
        "\n",
        "y_positiva=grafico(intervalo_x)\n",
        "y_negativa=(-1)*grafico(intervalo_x)\n",
        "\n",
        "plt.figure(figsize=(10,6))\n",
        "plt.plot(intervalo_x,y_positiva,\"r\")\n",
        "plt.plot(intervalo_x,y_negativa,\"r\")\n",
        "plt.xlabel(\"x\")\n",
        "plt.ylabel(\"y\")\n",
        "plt.title(\"Gráfica de ecuación cuadratica que corresponde a una hiperbola\")\n",
        "plt.grid(True)\n",
        "plt.show()"
      ],
      "metadata": {
        "id": "09Q5YAHljds5",
        "colab": {
          "base_uri": "https://localhost:8080/",
          "height": 565
        },
        "outputId": "617f9124-716a-4915-ea06-0e959e960cad"
      },
      "execution_count": 71,
      "outputs": [
        {
          "output_type": "display_data",
          "data": {
            "text/plain": [
              "<Figure size 1000x600 with 1 Axes>"
            ],
            "image/png": "[encoded data removed]"
          },
          "metadata": {}
        }
      ]
    },
    {
      "cell_type": "code",
      "source": [
        "A2=np.array([[1,-2],\n",
        "             [-2,3]])\n",
        "valores,vectores=np.linalg.eig(A2)"
      ],
      "metadata": {
        "id": "RHNK-yjRtx8f"
      },
      "execution_count": 72,
      "outputs": []
    },
    {
      "cell_type": "code",
      "source": [
        "#Verificar que es diagonalizable ortogonalemente\n",
        "if not np.allclose(vectores@vectores.T,np.eye(len(A2))):\n",
        "    print(\"La matriz no es diagonalizable ortogonalmente\")\n",
        "    exit()\n",
        "\n",
        "#Matriz de Q de autovectores ortogonales\n",
        "Q=vectores\n",
        "D=np.diag(valores)\n",
        "\n",
        "#Verificar que A=QDQ.T\n",
        "if not np.allclose(A2,Q @ D @ Q.T):\n",
        "    print(\"Error en la diagonalización ortogonal\")\n",
        "    exit()"
      ],
      "metadata": {
        "id": "SaaR-jpN4MnE"
      },
      "execution_count": 73,
      "outputs": []
    },
    {
      "cell_type": "code",
      "source": [
        "\n",
        "#Generar puntos en la nueva base\n",
        "x_=np.linspace(-10,10,400)\n",
        "y_=np.linspace(-10,10,400)\n",
        "x2,y2=np.meshgrid(x_,y_)\n",
        "v=np.vstack((x2.ravel(),y2.ravel())) #https://notebook.community/relopezbriega/mi-python-blog/content/notebooks/pyOptimization, https://numpy.org/doc/stable/reference/generated/numpy.vstack.html\n",
        "\n",
        "#Aplicar la transformación a la nueva base\n",
        "u=Q.T @ v\n",
        "\n",
        "#Calcular la nueva hiperbola en la nueva base\n",
        "d=1\n",
        "hiperbola = (u[0]**2 / d**2) - (u[1]**2 / d**2)"
      ],
      "metadata": {
        "id": "7ooWyzGjt9om"
      },
      "execution_count": 74,
      "outputs": []
    },
    {
      "cell_type": "code",
      "source": [
        "plt.contour(x2,y2,hiperbola.reshape(x2.shape),levels=[1],colors=\"blue\") # hiperbola.reshape(x.shape) sugerido por chat gpt, porque sin eso no tiene la disposicion espacial que los puntos en la malla bidimensional\n",
        "plt.xlabel(\"x\")\n",
        "plt.ylabel(\"y\")\n",
        "plt.title(\"Nueva Hiperbola en la Nueva Base\")\n",
        "plt.show()"
      ],
      "metadata": {
        "colab": {
          "base_uri": "https://localhost:8080/",
          "height": 472
        },
        "id": "M-rhV0u0mrIp",
        "outputId": "adf08187-21ed-4eaa-9530-9f303deb80f5"
      },
      "execution_count": 75,
      "outputs": [
        {
          "output_type": "display_data",
          "data": {
            "text/plain": [
              "<Figure size 640x480 with 1 Axes>"
            ],
            "image/png": "[encoded data removed]"
          },
          "metadata": {}
        }
      ]
    }
  ]
}