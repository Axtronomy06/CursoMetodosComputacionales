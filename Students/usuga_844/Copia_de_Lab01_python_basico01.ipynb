{
 "cells": [
  {
   "cell_type": "markdown",
   "metadata": {
    "id": "GUTNoRgHTjfg"
   },
   "source": [
    "<a href=\"https://colab.research.google.com/github/hernansalinas/autogradesMetodosComputacionales/blob/main/Laboratorios_Taller/Lab01_python_basico01.ipynb\" target=\"_parent\"><img src=\"https://colab.research.google.com/assets/colab-badge.svg\" alt=\"Open In Colab\"/></a>\n",
    "\n",
    "\n",
    "\n",
    "\n",
    "# Laboratorio 01\n",
    "### Métodos computacionales para físicos  y astrónomos\n",
    "### Universidad de Antioquia\n",
    "### Prof: Hernan D. Salinas Jiménez\n"
   ]
  },
  {
   "cell_type": "code",
   "execution_count": 2,
   "metadata": {
    "colab": {
     "base_uri": "https://localhost:8080/"
    },
    "id": "NmGdQYCBL7cs",
    "outputId": "6688fbed-1667-4486-8af7-c90d94ae1c36"
   },
   "outputs": [
    {
     "name": "stdout",
     "output_type": "stream",
     "text": [
      "fatal: destination path 'autogradesMetodosComputacionales' already exists and is not an empty directory.\n"
     ]
    }
   ],
   "source": [
    "# Ejecutar esta celda antes de cada laboratorio\n",
    "!git clone https://github.com/hernansalinas/autogradesMetodosComputacionales.git\n",
    "%run -i autogradesMetodosComputacionales/example/libs/libUnitTest.py"
   ]
  },
  {
   "cell_type": "markdown",
   "metadata": {
    "id": "OkdTI9KQ8MLN"
   },
   "source": [
    "# Operaciones básicas en python.\n",
    "\n",
    "\n",
    "### Definicion de variables\n",
    "1. Definir una variable x tipo entero.\n",
    "2. Definir una variable y tipo float\n",
    "3. Definir una variable z tipo string."
   ]
  },
  {
   "cell_type": "code",
   "execution_count": 3,
   "metadata": {
    "id": "_3Jeg5_JSEaq"
   },
   "outputs": [],
   "source": [
    "x= 10\n",
    "y= 10.5\n",
    "z = \"chao mundo\""
   ]
  },
  {
   "cell_type": "code",
   "execution_count": 4,
   "metadata": {
    "colab": {
     "base_uri": "https://localhost:8080/",
     "height": 215
    },
    "id": "aod54z2z-ZeY",
    "outputId": "222d1254-7164-4534-8821-9d9d7bd745cb"
   },
   "outputs": [
    {
     "data": {
      "text/html": [
       "<style>\n",
       "  table { text-align: left; border-collapse: collapse; margin: 1em; caption-side: bottom; font-family: Sans-Serif; font-size: 12px}\n",
       "  caption { text-align: left; padding: 5px }\n",
       "  th, td { border: 2px solid #BFC9CA; padding: 5px }\n",
       "  th { background-color: #BFC9CA }\n",
       "  .passed { background-color: #76D7C4 }\n",
       "  .failed { background-color: #EC7063 }\n",
       "  .skipped { background-color: #EDBB99 }\n",
       "  .score { background-color: #7DCEA0 }\n",
       "  .results .points { display: none }\n",
       "  .results .message { display: block; font-size:smaller; color:#D35400 }\n",
       "  .results .note { display: block; font-size:smaller; font-decoration:italics }\n",
       "  .results .passed::before  { content: \"Passed\" } \n",
       "  .results .skipped::before  { content: \"Skipped\" } \n",
       "  .results .failed::before  { content: \"Failed\" } \n",
       "  .grade .passed  .message:empty::before { content:\"Passed\" }\n",
       "  .grade .failed  .message:empty::before { content:\"Failed\" }\n",
       "  .grade .skipped .message:empty::before { content:\"Skipped\" }   \n",
       "</style>\n",
       "<table class='results'>\n",
       "  <th class='test'>Test</th><th class='result'>Result</th></tr>\n",
       "<tr>\n",
       "  <td class='test'>\n",
       "    Definir x como un numero entero\n",
       "    <div class='message'>Done</div>\n",
       "  </td>\n",
       "  <td class='result passed'></td>\n",
       "</tr>\n",
       "<tr>\n",
       "  <td class='test'>\n",
       "    Defiir y como una variable tipo float\n",
       "    <div class='message'>Done</div>\n",
       "  </td>\n",
       "  <td class='result passed'></td>\n",
       "</tr>\n",
       "<tr>\n",
       "  <td class='test'>\n",
       "    Definir z como un string\n",
       "    <div class='message'>Done</div>\n",
       "  </td>\n",
       "  <td class='result passed'></td>\n",
       "</tr>  <tr><th class='score'>Total Points</th><th class='score'>3</th></tr></table>\n"
      ],
      "text/plain": [
       "<IPython.core.display.HTML object>"
      ]
     },
     "metadata": {},
     "output_type": "display_data"
    }
   ],
   "source": [
    "# Ejecute la presente celda para probar su solucion\n",
    "%run -i autogradesMetodosComputacionales/example/libs/Lab_autotesting01/test01.py"
   ]
  },
  {
   "cell_type": "markdown",
   "metadata": {
    "id": "9JTEaQro_I8E"
   },
   "source": [
    "\n",
    "\n",
    "###  Creación de Funciones\n",
    "4. Crear una función con el nombre mul_lambda, lambda que multiple dos enteros, el resultado deberá ser un número entero.  \n",
    "\n",
    "Ejemplo de ejecución:\n",
    "\n",
    "```python\n",
    "mul_lambda(a,b)\n",
    "donde a, y b son numeros enteros\n",
    "```\n",
    "\n",
    "\n",
    "5. Crear una función explicita con el nombre de suma_int, que realice la suma de dos números enteros\n",
    "\n",
    "Ejemplo de ejecución:\n",
    "\n",
    "```python\n",
    "sum_int(a,b)\n",
    "donde a, y b son numeros enteros\n",
    "```\n",
    "\n"
   ]
  },
  {
   "cell_type": "code",
   "execution_count": 5,
   "metadata": {
    "colab": {
     "base_uri": "https://localhost:8080/"
    },
    "id": "wAqkdVUWSkp0",
    "outputId": "960db183-1fbc-4ed0-8977-3ec8bbe90790"
   },
   "outputs": [
    {
     "name": "stdout",
     "output_type": "stream",
     "text": [
      "77\n",
      "10\n"
     ]
    }
   ],
   "source": [
    "def mul_lambda(a,b):\n",
    " c=a*b\n",
    " return c\n",
    "c =mul_lambda(7,11)\n",
    "print(c)\n",
    "\n",
    "def sum_int(a,b):\n",
    "  d= a+b\n",
    "  return d\n",
    "d = sum_int(7,3)\n",
    "print(d)"
   ]
  },
  {
   "cell_type": "code",
   "execution_count": 6,
   "metadata": {
    "colab": {
     "base_uri": "https://localhost:8080/",
     "height": 175
    },
    "id": "lSsnEjAx_Gay",
    "outputId": "92b27114-e4ce-4406-b43c-48ba8b323222"
   },
   "outputs": [
    {
     "data": {
      "text/html": [
       "<style>\n",
       "  table { text-align: left; border-collapse: collapse; margin: 1em; caption-side: bottom; font-family: Sans-Serif; font-size: 12px}\n",
       "  caption { text-align: left; padding: 5px }\n",
       "  th, td { border: 2px solid #BFC9CA; padding: 5px }\n",
       "  th { background-color: #BFC9CA }\n",
       "  .passed { background-color: #76D7C4 }\n",
       "  .failed { background-color: #EC7063 }\n",
       "  .skipped { background-color: #EDBB99 }\n",
       "  .score { background-color: #7DCEA0 }\n",
       "  .results .points { display: none }\n",
       "  .results .message { display: block; font-size:smaller; color:#D35400 }\n",
       "  .results .note { display: block; font-size:smaller; font-decoration:italics }\n",
       "  .results .passed::before  { content: \"Passed\" } \n",
       "  .results .skipped::before  { content: \"Skipped\" } \n",
       "  .results .failed::before  { content: \"Failed\" } \n",
       "  .grade .passed  .message:empty::before { content:\"Passed\" }\n",
       "  .grade .failed  .message:empty::before { content:\"Failed\" }\n",
       "  .grade .skipped .message:empty::before { content:\"Skipped\" }   \n",
       "</style>\n",
       "<table class='results'>\n",
       "  <th class='test'>Test</th><th class='result'>Result</th></tr>\n",
       "<tr>\n",
       "  <td class='test'>\n",
       "    Crear una funcion que multiplique dos números\n",
       "    <div class='message'>Done</div>\n",
       "  </td>\n",
       "  <td class='result passed'></td>\n",
       "</tr>\n",
       "<tr>\n",
       "  <td class='test'>\n",
       "    Crear una funcion que sume dos números\n",
       "    <div class='message'>Done</div>\n",
       "  </td>\n",
       "  <td class='result passed'></td>\n",
       "</tr>  <tr><th class='score'>Total Points</th><th class='score'>2</th></tr></table>\n"
      ],
      "text/plain": [
       "<IPython.core.display.HTML object>"
      ]
     },
     "metadata": {},
     "output_type": "display_data"
    }
   ],
   "source": [
    "%run -i autogradesMetodosComputacionales/example/libs/Lab_autotesting01/test02.py"
   ]
  },
  {
   "cell_type": "markdown",
   "metadata": {
    "id": "uu42QkJsCQMb"
   },
   "source": [
    "\n",
    "###  Números complejos\n",
    "\n",
    "6. Defina un número complejo w.\n",
    "7. Retorne la parte imaginaria de w, almacenela en una variable w_img\n",
    "8. Retorne la parte real de w, almacenela en una variable w_real.\n",
    "9. Retorne el complejo conjugado de w, almacenla en una varible w_con.\n"
   ]
  },
  {
   "cell_type": "code",
   "execution_count": 7,
   "metadata": {
    "id": "bn7kudF3U_jg"
   },
   "outputs": [],
   "source": [
    "w=2+3j\n",
    "w_img = 3.0\n",
    "w_real= 2\n",
    "w_con = 2-3j"
   ]
  },
  {
   "cell_type": "code",
   "execution_count": 8,
   "metadata": {
    "colab": {
     "base_uri": "https://localhost:8080/",
     "height": 254
    },
    "id": "jx3J6yE1Kwki",
    "outputId": "633a1169-e551-455c-dee0-5853ed4b4c5b"
   },
   "outputs": [
    {
     "data": {
      "text/html": [
       "<style>\n",
       "  table { text-align: left; border-collapse: collapse; margin: 1em; caption-side: bottom; font-family: Sans-Serif; font-size: 12px}\n",
       "  caption { text-align: left; padding: 5px }\n",
       "  th, td { border: 2px solid #BFC9CA; padding: 5px }\n",
       "  th { background-color: #BFC9CA }\n",
       "  .passed { background-color: #76D7C4 }\n",
       "  .failed { background-color: #EC7063 }\n",
       "  .skipped { background-color: #EDBB99 }\n",
       "  .score { background-color: #7DCEA0 }\n",
       "  .results .points { display: none }\n",
       "  .results .message { display: block; font-size:smaller; color:#D35400 }\n",
       "  .results .note { display: block; font-size:smaller; font-decoration:italics }\n",
       "  .results .passed::before  { content: \"Passed\" } \n",
       "  .results .skipped::before  { content: \"Skipped\" } \n",
       "  .results .failed::before  { content: \"Failed\" } \n",
       "  .grade .passed  .message:empty::before { content:\"Passed\" }\n",
       "  .grade .failed  .message:empty::before { content:\"Failed\" }\n",
       "  .grade .skipped .message:empty::before { content:\"Skipped\" }   \n",
       "</style>\n",
       "<table class='results'>\n",
       "  <th class='test'>Test</th><th class='result'>Result</th></tr>\n",
       "<tr>\n",
       "  <td class='test'>\n",
       "    Definir w como un número complejo\n",
       "    <div class='message'>Done</div>\n",
       "  </td>\n",
       "  <td class='result passed'></td>\n",
       "</tr>\n",
       "<tr>\n",
       "  <td class='test'>\n",
       "    Determinar la parte real de w\n",
       "    <div class='message'>Done</div>\n",
       "  </td>\n",
       "  <td class='result passed'></td>\n",
       "</tr>\n",
       "<tr>\n",
       "  <td class='test'>\n",
       "    Determinar la parte imaginaria  de w\n",
       "    <div class='message'>Done</div>\n",
       "  </td>\n",
       "  <td class='result passed'></td>\n",
       "</tr>\n",
       "<tr>\n",
       "  <td class='test'>\n",
       "    Determinar el conjugado de w\n",
       "    <div class='message'>Done</div>\n",
       "  </td>\n",
       "  <td class='result passed'></td>\n",
       "</tr>  <tr><th class='score'>Total Points</th><th class='score'>4</th></tr></table>\n"
      ],
      "text/plain": [
       "<IPython.core.display.HTML object>"
      ]
     },
     "metadata": {},
     "output_type": "display_data"
    }
   ],
   "source": [
    "\n",
    "%run -i autogradesMetodosComputacionales/example/libs/Lab_autotesting01/test03.py"
   ]
  },
  {
   "cell_type": "markdown",
   "metadata": {
    "id": "P-2vd2FFV-R-"
   },
   "source": [
    "###  Listas\n",
    "\n",
    "10.0  Construir una lista L con las variables usadas hasta acá y los resultados de las funciones.\n",
    "\n",
    "L=[x,y,z,mul_lambda, mul_int,w, w_img, w_real, w_con ]\n",
    "\n",
    "11.0 Invierta la lista y almacene en una variable L_reverse\n",
    "\n",
    "12.0 Almacene los elementos impares de la lista, L_imp\n",
    "\n",
    "13.0 Almacene los elementos pares de la lista, L_par\n",
    "\n",
    "14.0 Modifique el elemento 5 de la lista L con la palabra \"hello world\"\n"
   ]
  },
  {
   "cell_type": "code",
   "execution_count": 9,
   "metadata": {
    "colab": {
     "base_uri": "https://localhost:8080/"
    },
    "id": "MgAxwjZEWH9k",
    "outputId": "d0185f53-2bfa-4d0e-89d8-52f638f61c0c"
   },
   "outputs": [
    {
     "name": "stdout",
     "output_type": "stream",
     "text": [
      "[10.5, <function <lambda> at 0x7f83b70f5ea0>, (2+3j), 2.0]\n",
      "[10, 'chao mundo', <function <lambda> at 0x7f83b70f5e10>, 3.0, (2-3j)]\n",
      "[10, 10.5, 'chao mundo', <function <lambda> at 0x7f83b70f5ea0>, <function <lambda> at 0x7f83b70f5e10>, 'hello_world', 3.0, 2.0, (2-3j)]\n"
     ]
    }
   ],
   "source": [
    "w=2+3.j\n",
    "x=int(10)\n",
    "y=float(10.5)\n",
    "z=\"chao mundo\"\n",
    "\n",
    "mul_lambda=lambda x:2\n",
    "mul_int=lambda x:2\n",
    "\n",
    "w_img=w.imag\n",
    "w_real=w.real\n",
    "w_con=w.conjugate()\n",
    "\n",
    "L=[x,y,z,mul_lambda,mul_int, w, w_img,w_real,w_con]\n",
    "\n",
    "L_reverse= L[::-1]\n",
    "L_imp=L[1::2]\n",
    "L_par=L[0::2]\n",
    "L_new=L\n",
    "L_new[5]=\"hello_world\"\n",
    "print(L_imp)\n",
    "print(L_par)\n",
    "print(L)"
   ]
  },
  {
   "cell_type": "code",
   "execution_count": 10,
   "metadata": {
    "colab": {
     "base_uri": "https://localhost:8080/",
     "height": 708
    },
    "id": "rUAEpJDDdM2q",
    "outputId": "c0ca89b6-991d-40d5-86ad-0483e98c9c61"
   },
   "outputs": [
    {
     "data": {
      "text/html": [
       "<style>\n",
       "  table { text-align: left; border-collapse: collapse; margin: 1em; caption-side: bottom; font-family: Sans-Serif; font-size: 12px}\n",
       "  caption { text-align: left; padding: 5px }\n",
       "  th, td { border: 2px solid #BFC9CA; padding: 5px }\n",
       "  th { background-color: #BFC9CA }\n",
       "  .passed { background-color: #76D7C4 }\n",
       "  .failed { background-color: #EC7063 }\n",
       "  .skipped { background-color: #EDBB99 }\n",
       "  .score { background-color: #7DCEA0 }\n",
       "  .results .points { display: none }\n",
       "  .results .message { display: block; font-size:smaller; color:#D35400 }\n",
       "  .results .note { display: block; font-size:smaller; font-decoration:italics }\n",
       "  .results .passed::before  { content: \"Passed\" } \n",
       "  .results .skipped::before  { content: \"Skipped\" } \n",
       "  .results .failed::before  { content: \"Failed\" } \n",
       "  .grade .passed  .message:empty::before { content:\"Passed\" }\n",
       "  .grade .failed  .message:empty::before { content:\"Failed\" }\n",
       "  .grade .skipped .message:empty::before { content:\"Skipped\" }   \n",
       "</style>\n",
       "<table class='results'>\n",
       "  <th class='test'>Test</th><th class='result'>Result</th></tr>\n",
       "<tr>\n",
       "  <td class='test'>\n",
       "    Definir x como un numero entero\n",
       "    <div class='message'>Done</div>\n",
       "  </td>\n",
       "  <td class='result passed'></td>\n",
       "</tr>\n",
       "<tr>\n",
       "  <td class='test'>\n",
       "    Defiir y como una variable tipo float\n",
       "    <div class='message'>Done</div>\n",
       "  </td>\n",
       "  <td class='result passed'></td>\n",
       "</tr>\n",
       "<tr>\n",
       "  <td class='test'>\n",
       "    Definir z como un string\n",
       "    <div class='message'>Done</div>\n",
       "  </td>\n",
       "  <td class='result passed'></td>\n",
       "</tr>\n",
       "<tr>\n",
       "  <td class='test'>\n",
       "    Definir mul_lambda como una funcion\n",
       "    <div class='message'>Done</div>\n",
       "  </td>\n",
       "  <td class='result passed'></td>\n",
       "</tr>\n",
       "<tr>\n",
       "  <td class='test'>\n",
       "    Definir mul_int como una funcion\n",
       "    <div class='message'>Done</div>\n",
       "  </td>\n",
       "  <td class='result passed'></td>\n",
       "</tr>\n",
       "<tr>\n",
       "  <td class='test'>\n",
       "    Definir w como un número complejo\n",
       "    <div class='message'>Done</div>\n",
       "  </td>\n",
       "  <td class='result passed'></td>\n",
       "</tr>\n",
       "<tr>\n",
       "  <td class='test'>\n",
       "    Determinar la parte imaginiaria de w\n",
       "    <div class='message'>Done</div>\n",
       "  </td>\n",
       "  <td class='result passed'></td>\n",
       "</tr>\n",
       "<tr>\n",
       "  <td class='test'>\n",
       "    Determinar la parte real de w\n",
       "    <div class='message'>Done</div>\n",
       "  </td>\n",
       "  <td class='result passed'></td>\n",
       "</tr>\n",
       "<tr>\n",
       "  <td class='test'>\n",
       "    Calcular el complejo conjugado de w\n",
       "    <div class='message'>Done</div>\n",
       "  </td>\n",
       "  <td class='result passed'></td>\n",
       "</tr>\n",
       "<tr>\n",
       "  <td class='test'>\n",
       "    Definir una lista L\n",
       "    <div class='message'>Done</div>\n",
       "  </td>\n",
       "  <td class='result passed'></td>\n",
       "</tr>\n",
       "<tr>\n",
       "  <td class='test'>\n",
       "    La longitud de lista debe ser 9 \n",
       "    <div class='message'>Done</div>\n",
       "  </td>\n",
       "  <td class='result passed'></td>\n",
       "</tr>\n",
       "<tr>\n",
       "  <td class='test'>\n",
       "    Invierta la lista L\n",
       "    <div class='message'>Error: Lists differ: [(2-3j), 2.0, 3.0, &#x27;hello_world&#x27;, &lt;function &lt;lambda&gt; at 0x7f[70 chars], 10] != [(2-3j), 2.0, 3.0, (2+3j), &lt;function &lt;lambda&gt; at 0x7f83b70f5[63 chars], 10]\n",
       "\n",
       "First differing element 3:\n",
       "&#x27;hello_world&#x27;\n",
       "(2+3j)\n",
       "\n",
       "  [(2-3j),\n",
       "   2.0,\n",
       "   3.0,\n",
       "-  &#x27;hello_world&#x27;,\n",
       "+  (2+3j),\n",
       "   &lt;function &lt;lambda&gt; at 0x7f83b70f5e10&gt;,\n",
       "   &lt;function &lt;lambda&gt; at 0x7f83b70f5ea0&gt;,\n",
       "   &#x27;chao mundo&#x27;,\n",
       "   10.5,\n",
       "   10] : #-The expect value is [(2-3j), 2.0, 3.0, &#x27;hello_world&#x27;, &lt;function &lt;lambda&gt; at 0x7f83b70f5e10&gt;, &lt;function &lt;lambda&gt; at 0x7f83b70f5ea0&gt;, &#x27;chao mundo&#x27;, 10.5, 10] and the functions test is [(2-3j), 2.0, 3.0, (2+3j), &lt;function &lt;lambda&gt; at 0x7f83b70f5e10&gt;, &lt;function &lt;lambda&gt; at 0x7f83b70f5ea0&gt;, &#x27;chao mundo&#x27;, 10.5, 10]\n",
       "</div>\n",
       "  </td>\n",
       "  <td class='result failed'></td>\n",
       "</tr>\n",
       "<tr>\n",
       "  <td class='test'>\n",
       "    Determine los valores impares de la lista\n",
       "    <div class='message'>Error: Lists differ: [10.5, &lt;function &lt;lambda&gt; at 0x7f83b70f5ea0&gt;, &#x27;hello_world&#x27;, 2.0] != [10.5, &lt;function &lt;lambda&gt; at 0x7f83b70f5ea0&gt;, (2+3j), 2.0]\n",
       "\n",
       "First differing element 2:\n",
       "&#x27;hello_world&#x27;\n",
       "(2+3j)\n",
       "\n",
       "- [10.5, &lt;function &lt;lambda&gt; at 0x7f83b70f5ea0&gt;, &#x27;hello_world&#x27;, 2.0]\n",
       "?                                               ^^^^^^^^^^^^^\n",
       "\n",
       "+ [10.5, &lt;function &lt;lambda&gt; at 0x7f83b70f5ea0&gt;, (2+3j), 2.0]\n",
       "?                                               ^^^^^^\n",
       " : #-The expect value is [10.5, &lt;function &lt;lambda&gt; at 0x7f83b70f5ea0&gt;, &#x27;hello_world&#x27;, 2.0] and the functions test is [10.5, &lt;function &lt;lambda&gt; at 0x7f83b70f5ea0&gt;, (2+3j), 2.0]\n",
       "</div>\n",
       "  </td>\n",
       "  <td class='result failed'></td>\n",
       "</tr>\n",
       "<tr>\n",
       "  <td class='test'>\n",
       "    Determinar los valores pares de la lista\n",
       "    <div class='message'>Done</div>\n",
       "  </td>\n",
       "  <td class='result passed'></td>\n",
       "</tr>  <tr><th class='score'>Total Points</th><th class='score'>11</th></tr></table>\n"
      ],
      "text/plain": [
       "<IPython.core.display.HTML object>"
      ]
     },
     "metadata": {},
     "output_type": "display_data"
    }
   ],
   "source": [
    "%run -i autogradesMetodosComputacionales/example/libs/Lab_autotesting01/test04.py"
   ]
  },
  {
   "cell_type": "markdown",
   "metadata": {
    "id": "9vVIrQeytD30"
   },
   "source": [
    "###  Tuplas\n",
    "\n",
    "15.0 Definir una tupla con 5 elementos almacenda en la variable Tup, los primeros 3 tipo string y los ultimos dos, tipo float."
   ]
  },
  {
   "cell_type": "code",
   "execution_count": 11,
   "metadata": {
    "colab": {
     "base_uri": "https://localhost:8080/"
    },
    "id": "Ic8uQT0UoTJ0",
    "outputId": "f5bdd630-e4a6-4a5a-d146-def48e9b68e4"
   },
   "outputs": [
    {
     "name": "stdout",
     "output_type": "stream",
     "text": [
      "juan\n"
     ]
    }
   ],
   "source": [
    "Tup= ('ana', 'pablo', 'juan', 1.23, 4.32)\n",
    "tercer_elemento= Tup[2]\n",
    "print(tercer_elemento)"
   ]
  },
  {
   "cell_type": "code",
   "execution_count": 12,
   "metadata": {
    "colab": {
     "base_uri": "https://localhost:8080/",
     "height": 254
    },
    "id": "UswyGx3xuou2",
    "outputId": "322ee6b9-062f-4a59-8436-d0f9a37378cd"
   },
   "outputs": [
    {
     "data": {
      "text/html": [
       "<style>\n",
       "  table { text-align: left; border-collapse: collapse; margin: 1em; caption-side: bottom; font-family: Sans-Serif; font-size: 12px}\n",
       "  caption { text-align: left; padding: 5px }\n",
       "  th, td { border: 2px solid #BFC9CA; padding: 5px }\n",
       "  th { background-color: #BFC9CA }\n",
       "  .passed { background-color: #76D7C4 }\n",
       "  .failed { background-color: #EC7063 }\n",
       "  .skipped { background-color: #EDBB99 }\n",
       "  .score { background-color: #7DCEA0 }\n",
       "  .results .points { display: none }\n",
       "  .results .message { display: block; font-size:smaller; color:#D35400 }\n",
       "  .results .note { display: block; font-size:smaller; font-decoration:italics }\n",
       "  .results .passed::before  { content: \"Passed\" } \n",
       "  .results .skipped::before  { content: \"Skipped\" } \n",
       "  .results .failed::before  { content: \"Failed\" } \n",
       "  .grade .passed  .message:empty::before { content:\"Passed\" }\n",
       "  .grade .failed  .message:empty::before { content:\"Failed\" }\n",
       "  .grade .skipped .message:empty::before { content:\"Skipped\" }   \n",
       "</style>\n",
       "<table class='results'>\n",
       "  <th class='test'>Test</th><th class='result'>Result</th></tr>\n",
       "<tr>\n",
       "  <td class='test'>\n",
       "    Definir una tupla\n",
       "    <div class='message'>Done</div>\n",
       "  </td>\n",
       "  <td class='result passed'></td>\n",
       "</tr>\n",
       "<tr>\n",
       "  <td class='test'>\n",
       "    La longitud de la tupla debe ser 5 \n",
       "    <div class='message'>Done</div>\n",
       "  </td>\n",
       "  <td class='result passed'></td>\n",
       "</tr>\n",
       "<tr>\n",
       "  <td class='test'>\n",
       "    Los tres primeros elementos deben string \n",
       "    <div class='message'>Done</div>\n",
       "  </td>\n",
       "  <td class='result passed'></td>\n",
       "</tr>\n",
       "<tr>\n",
       "  <td class='test'>\n",
       "    Los dos ultimos elementos deben ser float \n",
       "    <div class='message'>Done</div>\n",
       "  </td>\n",
       "  <td class='result passed'></td>\n",
       "</tr>  <tr><th class='score'>Total Points</th><th class='score'>4</th></tr></table>\n"
      ],
      "text/plain": [
       "<IPython.core.display.HTML object>"
      ]
     },
     "metadata": {},
     "output_type": "display_data"
    }
   ],
   "source": [
    "\n",
    " %run -i autogradesMetodosComputacionales/example/libs/Lab_autotesting01/test05.py"
   ]
  },
  {
   "cell_type": "markdown",
   "metadata": {
    "id": "E1VlbpbEysKy"
   },
   "source": [
    "###  Set\n",
    "16.0 Defina una variable tipo set llamada  D con los primeros 10 numeros de Bernulli, consultalos en la red. Notese que pasa en este variables cuando alguno de los elementos se repite\n",
    "\n",
    "17.0 Defina una variable tipo set llamada E con los números naturales del 1 al 20.\n",
    "\n",
    "18.0 Calcule la unión  y almacenela en una variable U.\n",
    "\n",
    "19.0 Calcule la intersección y almacenela en una variable I\n"
   ]
  },
  {
   "cell_type": "code",
   "execution_count": 15,
   "metadata": {
    "colab": {
     "base_uri": "https://localhost:8080/"
    },
    "id": "f7OpQU7ZrT_N",
    "outputId": "59ee2d9c-37ab-4b3f-a323-983ac0e993be"
   },
   "outputs": [
    {
     "name": "stdout",
     "output_type": "stream",
     "text": [
      "{1, 2, 3, 4, 5, 6, 7, 8, 9, 10, 11, 12, 13, 14, 15, 16, 17, 18, 19, 20}\n",
      "Unión de D y E: {-0.5, 1, 0.16666666666666666, 0, 0.023809523809523808, 2, 3, 4, 5, 6, 7, 8, 9, 10, 11, 12, 13, 14, 15, 16, 17, 18, 19, 20, 0.07575757575757576, -0.03333333333333333}\n",
      "Intersección de D y E: {1}\n"
     ]
    }
   ],
   "source": [
    "\n",
    "D = {1,-1/2,1/6,0,-1/30,0,1/42,0,-1/30,0,5/66}\n",
    "\n",
    "E = set(range(1, 21))\n",
    "# Calcular la unión y almacenarla en una variable U\n",
    "print(E)\n",
    "U = D.union(E)\n",
    "\n",
    "# Imprimir el conjunto U (unión)\n",
    "print(\"Unión de D y E:\", U)\n",
    "\n",
    "# Calcular la intersección y almacenarla en una variable I\n",
    "\n",
    "I = D.intersection(E)\n",
    "\n",
    "# Imprimir el conjunto I (intersección)\n",
    "print(\"Intersección de D y E:\", I)\n",
    "\n",
    "\n",
    "\n",
    "\n"
   ]
  },
  {
   "cell_type": "code",
   "execution_count": 16,
   "metadata": {
    "colab": {
     "base_uri": "https://localhost:8080/",
     "height": 450
    },
    "id": "YJiDfeEr2cSc",
    "outputId": "13269d5e-f286-4b1f-e49d-4dd71ee3119d"
   },
   "outputs": [
    {
     "data": {
      "text/html": [
       "<style>\n",
       "  table { text-align: left; border-collapse: collapse; margin: 1em; caption-side: bottom; font-family: Sans-Serif; font-size: 12px}\n",
       "  caption { text-align: left; padding: 5px }\n",
       "  th, td { border: 2px solid #BFC9CA; padding: 5px }\n",
       "  th { background-color: #BFC9CA }\n",
       "  .passed { background-color: #76D7C4 }\n",
       "  .failed { background-color: #EC7063 }\n",
       "  .skipped { background-color: #EDBB99 }\n",
       "  .score { background-color: #7DCEA0 }\n",
       "  .results .points { display: none }\n",
       "  .results .message { display: block; font-size:smaller; color:#D35400 }\n",
       "  .results .note { display: block; font-size:smaller; font-decoration:italics }\n",
       "  .results .passed::before  { content: \"Passed\" } \n",
       "  .results .skipped::before  { content: \"Skipped\" } \n",
       "  .results .failed::before  { content: \"Failed\" } \n",
       "  .grade .passed  .message:empty::before { content:\"Passed\" }\n",
       "  .grade .failed  .message:empty::before { content:\"Failed\" }\n",
       "  .grade .skipped .message:empty::before { content:\"Skipped\" }   \n",
       "</style>\n",
       "<table class='results'>\n",
       "  <th class='test'>Test</th><th class='result'>Result</th></tr>\n",
       "<tr>\n",
       "  <td class='test'>\n",
       "    Definir una variable D tipo set\n",
       "    <div class='message'>Done</div>\n",
       "  </td>\n",
       "  <td class='result passed'></td>\n",
       "</tr>\n",
       "<tr>\n",
       "  <td class='test'>\n",
       "    Definir una variable E tipo set\n",
       "    <div class='message'>Done</div>\n",
       "  </td>\n",
       "  <td class='result passed'></td>\n",
       "</tr>\n",
       "<tr>\n",
       "  <td class='test'>\n",
       "    Definir una variable U tipo set\n",
       "    <div class='message'>Done</div>\n",
       "  </td>\n",
       "  <td class='result passed'></td>\n",
       "</tr>\n",
       "<tr>\n",
       "  <td class='test'>\n",
       "    Definir una variable I tipo set\n",
       "    <div class='message'>Done</div>\n",
       "  </td>\n",
       "  <td class='result passed'></td>\n",
       "</tr>\n",
       "<tr>\n",
       "  <td class='test'>\n",
       "    La longitud del set debe ser 7, notese que set no cuenta elementos repetidos \n",
       "    <div class='message'>Done</div>\n",
       "  </td>\n",
       "  <td class='result passed'></td>\n",
       "</tr>\n",
       "<tr>\n",
       "  <td class='test'>\n",
       "    10 primeros números de Bernulli\n",
       "    <div class='message'>Done</div>\n",
       "  </td>\n",
       "  <td class='result passed'></td>\n",
       "</tr>\n",
       "<tr>\n",
       "  <td class='test'>\n",
       "    20 primeros numeros naturales \n",
       "    <div class='message'>Done</div>\n",
       "  </td>\n",
       "  <td class='result passed'></td>\n",
       "</tr>\n",
       "<tr>\n",
       "  <td class='test'>\n",
       "    union \n",
       "    <div class='message'>Done</div>\n",
       "  </td>\n",
       "  <td class='result passed'></td>\n",
       "</tr>\n",
       "<tr>\n",
       "  <td class='test'>\n",
       "    Calcule la interseccion \n",
       "    <div class='message'>Done</div>\n",
       "  </td>\n",
       "  <td class='result passed'></td>\n",
       "</tr>  <tr><th class='score'>Total Points</th><th class='score'>9</th></tr></table>\n"
      ],
      "text/plain": [
       "<IPython.core.display.HTML object>"
      ]
     },
     "metadata": {},
     "output_type": "display_data"
    }
   ],
   "source": [
    " %run -i autogradesMetodosComputacionales/example/libs/Lab_autotesting01/test06.py"
   ]
  },
  {
   "cell_type": "markdown",
   "metadata": {
    "id": "HWfazmVWTq1T"
   },
   "source": [
    "\n",
    "\n",
    "\n",
    "\n",
    "\n",
    "\n",
    "\n",
    "\n",
    "\n",
    "\n",
    "\n",
    "\n",
    "\n",
    "\n",
    "###  Diccionarios\n",
    "20.0 Construi un diccionario con 5 elementos cuya clave es el nombre del autor y valor el nombre del libro. Almacenarlo en una variable dicc.\n",
    "\n",
    "\n",
    "\n"
   ]
  },
  {
   "cell_type": "code",
   "execution_count": null,
   "metadata": {
    "colab": {
     "base_uri": "https://localhost:8080/"
    },
    "id": "uaYEYQPoxrJl",
    "outputId": "6d4da903-f0f8-4fc8-c423-61e7f8367023"
   },
   "outputs": [
    {
     "name": "stdout",
     "output_type": "stream",
     "text": [
      "Diccionario:\n",
      "{'Autor1': 'Libro1', 'Autor2': 'Libro2', 'Autor3': 'Libro3', 'Autor4': 'Libro4', 'Autor5': 'Libro5'}\n"
     ]
    }
   ],
   "source": [
    "dicc = {\n",
    "    'Autor1': 'Libro1',\n",
    "    'Autor2': 'Libro2',\n",
    "    'Autor3': 'Libro3',\n",
    "    'Autor4': 'Libro4',\n",
    "    'Autor5': 'Libro5'\n",
    "}\n",
    "\n",
    "# Imprimir el diccionario\n",
    "print(\"Diccionario:\")\n",
    "print(dicc)\n",
    "\n",
    "\n",
    "\n",
    "\n",
    "\n",
    "\n"
   ]
  },
  {
   "cell_type": "code",
   "execution_count": null,
   "metadata": {
    "colab": {
     "base_uri": "https://localhost:8080/",
     "height": 175
    },
    "id": "yfHkEyXV6DjL",
    "outputId": "1d9732c1-9c37-4455-91ff-49a105749659"
   },
   "outputs": [
    {
     "data": {
      "text/html": [
       "<style>\n",
       "  table { text-align: left; border-collapse: collapse; margin: 1em; caption-side: bottom; font-family: Sans-Serif; font-size: 12px}\n",
       "  caption { text-align: left; padding: 5px }\n",
       "  th, td { border: 2px solid #BFC9CA; padding: 5px }\n",
       "  th { background-color: #BFC9CA }\n",
       "  .passed { background-color: #76D7C4 }\n",
       "  .failed { background-color: #EC7063 }\n",
       "  .skipped { background-color: #EDBB99 }\n",
       "  .score { background-color: #7DCEA0 }\n",
       "  .results .points { display: none }\n",
       "  .results .message { display: block; font-size:smaller; color:#D35400 }\n",
       "  .results .note { display: block; font-size:smaller; font-decoration:italics }\n",
       "  .results .passed::before  { content: \"Passed\" } \n",
       "  .results .skipped::before  { content: \"Skipped\" } \n",
       "  .results .failed::before  { content: \"Failed\" } \n",
       "  .grade .passed  .message:empty::before { content:\"Passed\" }\n",
       "  .grade .failed  .message:empty::before { content:\"Failed\" }\n",
       "  .grade .skipped .message:empty::before { content:\"Skipped\" }   \n",
       "</style>\n",
       "<table class='results'>\n",
       "  <th class='test'>Test</th><th class='result'>Result</th></tr>\n",
       "<tr>\n",
       "  <td class='test'>\n",
       "    Definir una variable dicc tipo diccionario\n",
       "    <div class='message'>Done</div>\n",
       "  </td>\n",
       "  <td class='result passed'></td>\n",
       "</tr>\n",
       "<tr>\n",
       "  <td class='test'>\n",
       "    la longitud del diccionario debe ser 5 \n",
       "    <div class='message'>Done</div>\n",
       "  </td>\n",
       "  <td class='result passed'></td>\n",
       "</tr>  <tr><th class='score'>Total Points</th><th class='score'>2</th></tr></table>\n"
      ],
      "text/plain": [
       "<IPython.core.display.HTML object>"
      ]
     },
     "metadata": {},
     "output_type": "display_data"
    }
   ],
   "source": [
    " %run -i autogradesMetodosComputacionales/example/libs/Lab_autotesting01/test07.py"
   ]
  },
  {
   "cell_type": "markdown",
   "metadata": {
    "id": "7g0xWN387wOo"
   },
   "source": [
    "\n",
    "####  Ciclos y condicionales\n",
    "\n",
    "21.0  Cálculo de $\\pi$. Empleando la siguiente seria :\n",
    "\n",
    "\\begin{equation}\n",
    "\\frac{\\pi}{4} = 1 -\\frac{1}{3}+-\\frac{1}{5}-\\frac{1}{7}+\\frac{1}{9}-...\n",
    "\\end{equation}\n",
    "\n",
    "Construya una función llamada pi_number en el que entrado el valor de k,(número de términos de la serie ) calcule el valor de pi. Si k es negativo deberá retornar un error como una variable tipo string.\n",
    "\n",
    "Ejemplo de ecución:\n",
    "```python\n",
    "pi_number(10)\n",
    "```"
   ]
  },
  {
   "cell_type": "code",
   "execution_count": 15,
   "metadata": {
    "colab": {
     "base_uri": "https://localhost:8080/"
    },
    "id": "1-5vVg-DCEYs",
    "outputId": "3b664292-8e9b-4299-f25c-dedb1d6d0d20"
   },
   "outputs": [
    {
     "name": "stdout",
     "output_type": "stream",
     "text": [
      "Ingrese el valor del numero k: 6\n",
      "Estimación de π con 6 términos: 2.9760461760461765\n"
     ]
    }
   ],
   "source": [
    "def pi_number(k):\n",
    "    if k < 0:\n",
    "        return \"Error: El número de términos debe ser positivo.\"\n",
    "\n",
    "    pi_estimado = 0\n",
    "    n = 1\n",
    "\n",
    "    for i in range(1, k * 2 + 1, 2):\n",
    "        pi_estimado += n * 1/i\n",
    "        n *= -1\n",
    "        pi = 4 * pi_estimado\n",
    "    print(f\"Estimación de π con {k} términos: {pi}\")\n",
    "    return pi\n",
    "\n",
    "# Ejemplos de uso\n",
    "k = int(input(\"Ingrese el valor del numero k: \"))\n",
    "pi = pi_number(k)"
   ]
  },
  {
   "cell_type": "code",
   "execution_count": 16,
   "metadata": {
    "colab": {
     "base_uri": "https://localhost:8080/",
     "height": 175
    },
    "id": "OEACMhp6BS2k",
    "outputId": "2b138554-f600-4010-d8e1-84b796783b45"
   },
   "outputs": [
    {
     "data": {
      "text/html": [
       "<style>\n",
       "  table { text-align: left; border-collapse: collapse; margin: 1em; caption-side: bottom; font-family: Sans-Serif; font-size: 12px}\n",
       "  caption { text-align: left; padding: 5px }\n",
       "  th, td { border: 2px solid #BFC9CA; padding: 5px }\n",
       "  th { background-color: #BFC9CA }\n",
       "  .passed { background-color: #76D7C4 }\n",
       "  .failed { background-color: #EC7063 }\n",
       "  .skipped { background-color: #EDBB99 }\n",
       "  .score { background-color: #7DCEA0 }\n",
       "  .results .points { display: none }\n",
       "  .results .message { display: block; font-size:smaller; color:#D35400 }\n",
       "  .results .note { display: block; font-size:smaller; font-decoration:italics }\n",
       "  .results .passed::before  { content: \"Passed\" } \n",
       "  .results .skipped::before  { content: \"Skipped\" } \n",
       "  .results .failed::before  { content: \"Failed\" } \n",
       "  .grade .passed  .message:empty::before { content:\"Passed\" }\n",
       "  .grade .failed  .message:empty::before { content:\"Failed\" }\n",
       "  .grade .skipped .message:empty::before { content:\"Skipped\" }   \n",
       "</style>\n",
       "<table class='results'>\n",
       "  <th class='test'>Test</th><th class='result'>Result</th></tr>\n",
       "<tr>\n",
       "  <td class='test'>\n",
       "    Crear una funcion que calcule el numero pi\n",
       "    <div class='message'>Done</div>\n",
       "  </td>\n",
       "  <td class='result passed'></td>\n",
       "</tr>\n",
       "<tr>\n",
       "  <td class='test'>\n",
       "    Prueba para valores negativos \n",
       "    <div class='message'>Done</div>\n",
       "  </td>\n",
       "  <td class='result passed'></td>\n",
       "</tr>  <tr><th class='score'>Total Points</th><th class='score'>2</th></tr></table>\n"
      ],
      "text/plain": [
       "<IPython.core.display.HTML object>"
      ]
     },
     "metadata": {},
     "output_type": "display_data"
    }
   ],
   "source": [
    " %run -i autogradesMetodosComputacionales/example/libs/Lab_autotesting01/test08.py"
   ]
  },
  {
   "cell_type": "code",
   "execution_count": null,
   "metadata": {
    "id": "d9jPmhkW_Rhf"
   },
   "outputs": [],
   "source": []
  }
 ],
 "metadata": {
  "colab": {
   "provenance": []
  },
  "kernelspec": {
   "display_name": "Python 3 (ipykernel)",
   "language": "python",
   "name": "python3"
  },
  "language_info": {
   "codemirror_mode": {
    "name": "ipython",
    "version": 3
   },
   "file_extension": ".py",
   "mimetype": "text/x-python",
   "name": "python",
   "nbconvert_exporter": "python",
   "pygments_lexer": "ipython3",
   "version": "3.10.9"
  }
 },
 "nbformat": 4,
 "nbformat_minor": 1
}
