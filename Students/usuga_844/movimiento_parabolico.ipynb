{
  "nbformat": 4,
  "nbformat_minor": 0,
  "metadata": {
    "colab": {
      "provenance": []
    },
    "kernelspec": {
      "name": "python3",
      "display_name": "Python 3"
    },
    "language_info": {
      "name": "python"
    }
  },
  "cells": [
    {
      "cell_type": "markdown",
      "source": [
        "# Movimiento Parabolicoecuaciones para el movimiento parabolico de una particula:* *Movimiento en el eje X*\\begin{equation}x = x_0*v_0*cos( θ )*t\\end{equation}* *Movimiento en el eje Y*\\begin{equation}y = y_0*v_0*sin( θ )*t + \\frac{1}{2} * g*t^2\\end{equation}* *Tiempo de vuelo*\\begin{equation}Tv =  \\frac{2 v_o sin(θ)}{g}\\end{equation}"
      ],
      "metadata": {
        "id": "l8bAN_pDkBDj"
      }
    },
    {
      "cell_type": "code",
      "source": [
        "import numpy as np\n",
        "import matplotlib.pylab as plt"
      ],
      "metadata": {
        "id": "1HmFhY7AjzS9"
      },
      "execution_count": 1,
      "outputs": []
    },
    {
      "cell_type": "code",
      "source": [
        "#lectura de condiciones iniciales\n",
        "import json"
      ],
      "metadata": {
        "id": "8ALMCXK5l5XC"
      },
      "execution_count": 2,
      "outputs": []
    },
    {
      "cell_type": "code",
      "source": [
        "def read_file(namefile):\n",
        "\n",
        "\n",
        "  # usar with open para abrir elarchivo en modo escritura\n",
        "  with open(namefile, \"r\") as archivo:\n",
        "  # guardar el diccionario en el archivo cono json\n",
        "    d= json.load(archivo)\n",
        "    return d\n",
        "\n",
        "# Ec de movimiento\n",
        "global g\n",
        "g = 9.8\n",
        "#posicion en x\n",
        "def posx(t,  xo, vo, theta):\n",
        "  return xo+(vo*np.cos(theta))*t\n",
        "#posicion en y\n",
        "def posy(t,  vo, theta):\n",
        "  return (vo*np.sin(theta))*t-0.5*g*t**2\n",
        "#tiemnpo de vuelo\n",
        "\n",
        "def tv(vo, theta):\n",
        "  tvuelo = 2*vo*np.sin(theta)/g\n",
        "  return tvuelo\n"
      ],
      "metadata": {
        "id": "bcgotzoRi0rs"
      },
      "execution_count": 3,
      "outputs": []
    },
    {
      "cell_type": "code",
      "source": [
        "d= read_file(\"condiciones_iniciales.json\")\n",
        "v0=d[\"velocidad\"]\n",
        "theta=d[\"angulo\"]\n",
        "print(d)\n",
        "\n",
        "theta = np.deg2rad(theta)\n",
        "tvuelo = tv(v0, theta)\n",
        "\n",
        "t=np.linspace(0, tvuelo, 100)\n",
        "x = posx(t, 0, v0, theta)\n",
        "y = posy(t,  v0, theta)"
      ],
      "metadata": {
        "colab": {
          "base_uri": "https://localhost:8080/",
          "height": 366
        },
        "id": "2RcH1gPKmeyz",
        "outputId": "3b0e4eb9-ca4c-46b8-d8d0-f6041da52f39"
      },
      "execution_count": 4,
      "outputs": [
        {
          "output_type": "error",
          "ename": "FileNotFoundError",
          "evalue": "ignored",
          "traceback": [
            "\u001b[0;31m---------------------------------------------------------------------------\u001b[0m",
            "\u001b[0;31mFileNotFoundError\u001b[0m                         Traceback (most recent call last)",
            "\u001b[0;32m<ipython-input-4-e04c7f9fb161>\u001b[0m in \u001b[0;36m<cell line: 1>\u001b[0;34m()\u001b[0m\n\u001b[0;32m----> 1\u001b[0;31m \u001b[0md\u001b[0m\u001b[0;34m=\u001b[0m \u001b[0mread_file\u001b[0m\u001b[0;34m(\u001b[0m\u001b[0;34m\"condiciones_iniciales.json\"\u001b[0m\u001b[0;34m)\u001b[0m\u001b[0;34m\u001b[0m\u001b[0;34m\u001b[0m\u001b[0m\n\u001b[0m\u001b[1;32m      2\u001b[0m \u001b[0mv0\u001b[0m\u001b[0;34m=\u001b[0m\u001b[0md\u001b[0m\u001b[0;34m[\u001b[0m\u001b[0;34m\"velocidad\"\u001b[0m\u001b[0;34m]\u001b[0m\u001b[0;34m\u001b[0m\u001b[0;34m\u001b[0m\u001b[0m\n\u001b[1;32m      3\u001b[0m \u001b[0mtheta\u001b[0m\u001b[0;34m=\u001b[0m\u001b[0md\u001b[0m\u001b[0;34m[\u001b[0m\u001b[0;34m\"angulo\"\u001b[0m\u001b[0;34m]\u001b[0m\u001b[0;34m\u001b[0m\u001b[0;34m\u001b[0m\u001b[0m\n\u001b[1;32m      4\u001b[0m \u001b[0mprint\u001b[0m\u001b[0;34m(\u001b[0m\u001b[0md\u001b[0m\u001b[0;34m)\u001b[0m\u001b[0;34m\u001b[0m\u001b[0;34m\u001b[0m\u001b[0m\n\u001b[1;32m      5\u001b[0m \u001b[0;34m\u001b[0m\u001b[0m\n",
            "\u001b[0;32m<ipython-input-3-7db53190064c>\u001b[0m in \u001b[0;36mread_file\u001b[0;34m(namefile)\u001b[0m\n\u001b[1;32m      3\u001b[0m \u001b[0;34m\u001b[0m\u001b[0m\n\u001b[1;32m      4\u001b[0m   \u001b[0;31m# usar with open para abrir elarchivo en modo escritura\u001b[0m\u001b[0;34m\u001b[0m\u001b[0;34m\u001b[0m\u001b[0m\n\u001b[0;32m----> 5\u001b[0;31m   \u001b[0;32mwith\u001b[0m \u001b[0mopen\u001b[0m\u001b[0;34m(\u001b[0m\u001b[0mnamefile\u001b[0m\u001b[0;34m,\u001b[0m \u001b[0;34m\"r\"\u001b[0m\u001b[0;34m)\u001b[0m \u001b[0;32mas\u001b[0m \u001b[0marchivo\u001b[0m\u001b[0;34m:\u001b[0m\u001b[0;34m\u001b[0m\u001b[0;34m\u001b[0m\u001b[0m\n\u001b[0m\u001b[1;32m      6\u001b[0m   \u001b[0;31m# guardar el diccionario en el archivo cono json\u001b[0m\u001b[0;34m\u001b[0m\u001b[0;34m\u001b[0m\u001b[0m\n\u001b[1;32m      7\u001b[0m     \u001b[0md\u001b[0m\u001b[0;34m=\u001b[0m \u001b[0mjson\u001b[0m\u001b[0;34m.\u001b[0m\u001b[0mload\u001b[0m\u001b[0;34m(\u001b[0m\u001b[0marchivo\u001b[0m\u001b[0;34m)\u001b[0m\u001b[0;34m\u001b[0m\u001b[0;34m\u001b[0m\u001b[0m\n",
            "\u001b[0;31mFileNotFoundError\u001b[0m: [Errno 2] No such file or directory: 'condiciones_iniciales.json'"
          ]
        }
      ]
    },
    {
      "cell_type": "code",
      "source": [
        "fig, ax  = plt.subplots()\n",
        "ax.plot(x, y)\n",
        "ax.set_xlabel(\"x\")\n",
        "ax.set_ylabel(\"y\")\n",
        "plt.show()"
      ],
      "metadata": {
        "id": "joYjG2mDoZIY"
      },
      "execution_count": null,
      "outputs": []
    },
    {
      "cell_type": "code",
      "source": [],
      "metadata": {
        "id": "1tZs473wwfZz"
      },
      "execution_count": null,
      "outputs": []
    }
  ]
}