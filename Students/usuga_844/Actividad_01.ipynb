{
 "cells": [
  {
   "cell_type": "code",
   "execution_count": 1,
   "id": "8f9c27c0",
   "metadata": {},
   "outputs": [
    {
     "name": "stdout",
     "output_type": "stream",
     "text": [
      "ingrese un numero entero al cual se desea calcular elfactorial 2\n",
      "el factorial de 2 es 2 \n"
     ]
    }
   ],
   "source": [
    "#como calcular elfactorial de un numero\n",
    "def fac(n):\n",
    "    if not isinstance(n, int) or n < 0:\n",
    "        raise ValueError (\"el numero debe ser un entero positivo\")\n",
    "    if n==0:\n",
    "     return 1\n",
    "    else: \n",
    "     return n* fac(n-1)\n",
    "while True:\n",
    " try:\n",
    "    nu = int(input (\"ingrese un numero entero al cual se desea calcular elfactorial \"))\n",
    "\n",
    "    resultado= fac(nu)\n",
    "    print(f\"el factorial de {nu} es {resultado} \")\n",
    "    break\n",
    " except ValueError as e:\n",
    "    print(f\"Error: {e}\")\n",
    "\n"
   ]
  },
  {
   "cell_type": "code",
   "execution_count": null,
   "id": "1cf351c6",
   "metadata": {},
   "outputs": [],
   "source": [
    "# calculo deldoble factorial \n",
    "def doble_fac(n):\n",
    "    if n<0:\n",
    "        raise ValueError(\"el numero debe ser no negativo\")\n",
    "    if n== 0 or n == 1:\n",
    "        return 1\n",
    "    return n* doble_fac(n-2)\n",
    "while True:\n",
    " try: \n",
    "    num = int(input(\"ingrese un numero no negativo:\"))\n",
    "    resul = doble_fac(num)\n",
    "    print(f\"el doble factorial de {num} es {resul}\")\n",
    "    break\n",
    " except ValueError as e:\n",
    "    print(f\"Error:{e}\")"
   ]
  },
  {
   "cell_type": "code",
   "execution_count": 5,
   "id": "622233e7",
   "metadata": {},
   "outputs": [
    {
     "name": "stdout",
     "output_type": "stream",
     "text": [
      "ingrese la cantidad de valores de n que desea calcular: 1\n",
      "ingrese el valor de n para el termino {i+1}:4\n",
      "el termino 4-esimo de la sucesion de lucas es: 7\n"
     ]
    }
   ],
   "source": [
    "# funcion lucas\n",
    "def lucas(n):\n",
    "    if n==0:\n",
    "        return 2\n",
    "    elif n == 1:\n",
    "        return 1\n",
    "    else: \n",
    "        return lucas(n-1) + lucas(n-2)\n",
    "# calcular y mostrar los terminos de la sucesion de lucas para diferentesvalores\n",
    "while True:\n",
    " try:\n",
    "    valores_n=[]\n",
    "    num_valores = int(input(\"ingrese la cantidad de valores de n que desea calcular: \"))\n",
    "    \n",
    "    for i in range (num_valores):\n",
    "        n = int(input(\"ingrese el valor de n para el termino {i+1}:\"))\n",
    "        valores_n.append(n)\n",
    "\n",
    "    for n in valores_n:\n",
    "        resul= lucas(n)\n",
    "        print(f\"el termino {n}-esimo de la sucesion de lucas es: {resul}\")\n",
    "    break\n",
    " except ValueError:\n",
    "    print (\"Error: ingrese valores numericos validos\")\n",
    "    "
   ]
  },
  {
   "cell_type": "code",
   "execution_count": 6,
   "id": "2bc2ab96",
   "metadata": {},
   "outputs": [
    {
     "name": "stdout",
     "output_type": "stream",
     "text": [
      "ingrese la cantidad de valores para calcular el coeficiente binomial: 2\n",
      "ingrese elvalor de n para el calculo 1: 8\n",
      "ingrese elvalor de k para el calculo 1: 6\n",
      "ingrese elvalor de n para el calculo 2: 7\n",
      "ingrese elvalor de k para el calculo 2: 4\n",
      "el coeficiente binomial de (8, 6) es: 112\n",
      "el coeficiente binomial de (7, 4) es: 1260\n"
     ]
    }
   ],
   "source": [
    "#funcio binomial \n",
    "\n",
    "# primerose define elfactorial\n",
    "def factorial(n):\n",
    "    if n==0:\n",
    "        return 1\n",
    "    else: \n",
    "        return n*factorial(n-1)\n",
    "# definimos la funcion binomial\n",
    "\n",
    "def binomial(n,k):\n",
    "    if n < k:\n",
    "        return 0\n",
    "    else:\n",
    "        return factorial(n) // factorial(k)* factorial(n-k)\n",
    "    \n",
    "try:\n",
    "    valores = []\n",
    "    num_valores= int(input(\"ingrese la cantidad de valores para calcular el coeficiente binomial: \"))\n",
    "    \n",
    "    for i in range(num_valores):\n",
    "        n= int(input(f\"ingrese elvalor de n para el calculo {i+1}: \"))\n",
    "        k=int(input(f\"ingrese elvalor de k para el calculo {i+1}: \"))\n",
    "        valores.append((n,k))\n",
    "        \n",
    "    for n, k in valores:\n",
    "        coeficiente= binomial(n,k)\n",
    "        print (f\"el coeficiente binomial de ({n}, {k}) es: {coeficiente}\")\n",
    "except ValueError:\n",
    "    print (\"Error: ingrese valores numericos validos\")\n",
    "    \n"
   ]
  },
  {
   "cell_type": "code",
   "execution_count": null,
   "id": "a66761d8",
   "metadata": {},
   "outputs": [],
   "source": []
  }
 ],
 "metadata": {
  "kernelspec": {
   "display_name": "Python 3 (ipykernel)",
   "language": "python",
   "name": "python3"
  },
  "language_info": {
   "codemirror_mode": {
    "name": "ipython",
    "version": 3
   },
   "file_extension": ".py",
   "mimetype": "text/x-python",
   "name": "python",
   "nbconvert_exporter": "python",
   "pygments_lexer": "ipython3",
   "version": "3.9.12"
  }
 },
 "nbformat": 4,
 "nbformat_minor": 5
}
