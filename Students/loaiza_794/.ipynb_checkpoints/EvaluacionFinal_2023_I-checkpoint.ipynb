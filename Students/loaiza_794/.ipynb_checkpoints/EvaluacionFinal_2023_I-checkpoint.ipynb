{
 "cells": [
  {
   "cell_type": "markdown",
   "metadata": {
    "id": "XnT5YO16J9tA"
   },
   "source": [
    "<a href=\"https://colab.research.google.com/github/hernansalinas/autogrades/blob/main/Evaluaciones/EvaluacionFinal_2023_I.ipynb\" target=\"_parent\"><img src=\"https://colab.research.google.com/assets/colab-badge.svg\" alt=\"Open In Colab\"/></a>"
   ]
  },
  {
   "cell_type": "markdown",
   "metadata": {
    "id": "ZJKDD4sdpzP7"
   },
   "source": [
    "Examen Final:\n",
    "\n",
    "Métodos Computacionales para físicos\n",
    "\n",
    "\n",
    "\n",
    "Nota: La entrega del examen es a través del github en la página del curso, en el directorio asociado a cada uno.\n",
    "\n",
    "\n",
    "\n",
    "\n",
    "Las aletas son sólidos que transfieren calor por conducción a lo largo de su geometría y por convección a través de su entorno. La ecuación diferencial que describe la temperatura como función de  la longitud de una  aleta viene dada por :\n",
    "\n",
    "\n",
    "\\begin{equation}\n",
    "\\frac{d^2(T-T_{\\infty})}{dx^2} - \\left( \\frac{hp}{kAc} \\right ) ^2 (T-T_{\\infty})=0\n",
    "\\end{equation}\n",
    "\n",
    "donde Ac es el  área de la sección transversal Ac, p es perímetro,\n",
    "k es el coficiente de conducción que depende de cada material y h el coficiente de convección. La temperatura  $T_{\\infty}$ es la temperatura ambiente.\n",
    "\n",
    "\n",
    "![aleta](https://github.com/hernansalinas/autogradesMetodosComputacionales/blob/main/Evaluaciones/img/aleta.png?raw=true)\n",
    "\n",
    "\n",
    "\n",
    "En general, el área de la sección transversal A y el perímetro p de una aleta\n",
    "varían con x, lo cual hace que esta ecuación diferencial sea difícil de resolver. En el caso especial de una sección transversal constante y conductividad térmica constante, la ecuación diferencial se reduce a\n",
    "\n",
    "\\begin{equation}\n",
    "\\frac{d^2 \\theta}{dx^2} - a ^2 \\theta=0\n",
    "\\end{equation}\n",
    "\n",
    "\n",
    "donde  $\\theta=T-T_{\\infty}$ y $a=\\frac{hp}{kAc}$\n",
    "\n",
    "\n",
    "Para una aleta suficientemente larga de sección transversal uniforme (Ac =\n",
    "constante), la temperatura en la base de la aleta viene dada por:\n",
    "\n",
    "\n",
    "\\begin{equation}\n",
    "\\theta(0)=\\theta_b=T_b-T_{\\infty}\n",
    "\\end{equation}\n",
    "\n",
    "\n",
    " y en la punta de la aleta, tenderá a la del medio, por consiguiente $\\theta$ tenderá a cero.\n",
    "\n",
    "\\begin{equation}\n",
    "\\theta(L)=T(L)-T_{\\infty}=0\n",
    "\\end{equation}\n",
    "\n",
    "La solucion  exacta viene dada por :\n",
    "\n",
    "\\begin{equation}\n",
    "T(x)=T_{\\infty}+(T_b-T_{\\infty})e^{-x\\sqrt{hp/kAc}}\n",
    "\\end{equation}\n",
    "\n",
    "\n",
    "\n",
    "Considerando  una aleta rectangular muy larga, fijada a una\n",
    "superficie plana de tal forma que la temperatura en el extremo\n",
    "de la aleta es prácticamente la del aire circundante, es decir,\n",
    "$T_{\\infty}=300K$. Asuma que el ancho es de 5.0 cm, el espesor de 1 mm, es decir, su area $A=5\\times 10^{-5}m^2$ y su perimetro de $p=0.102m$. La  conductividad térmica es $k=200 W/m K$, la temperatura en la base de $T_b=313K$ y el coeficiente de transferencia de calor es de $h=20 W/m^2K$. Calcule:\n",
    "\n",
    "\n",
    "\n",
    "1 (30%) La solución numérica de la ecuación diferencial.\n",
    "\n",
    "2 (20%) Construya un gráfico de  la temperatura de la aleta como función de la longitud de la aleta\n",
    "\n",
    "3 (25%) Compare la solución numérica con la analítica\n",
    "\n",
    "4 (25%) Empleando el método de newton detetermine el punto de la aleta para la cual la temperatura es de 305K\n",
    "\n",
    "\n",
    "\n",
    "\n",
    "\n",
    "Referencias: Ejercicio e imagenes tomado y adaptado de:\n",
    "\n",
    "Cengel, Y. A. (2016). “Transferencia de calor y masa” McGRAW-HILL/INTERAMERICANA EDITORES, S.A. DE C.V. 3ra. Edición\n",
    "\n"
   ]
  },
  {
   "cell_type": "code",
   "execution_count": 109,
   "metadata": {
    "id": "AkOvTEXo1X8i"
   },
   "outputs": [],
   "source": [
    "import scipy as sp\n",
    "import numpy as np\n",
    "import matplotlib.pyplot as plt\n",
    "from scipy.integrate import odeint"
   ]
  },
  {
   "cell_type": "code",
   "execution_count": 110,
   "metadata": {
    "id": "mJ0D9cuuNII-"
   },
   "outputs": [],
   "source": [
    "# Funcion a la solucion analitica\n",
    "def sol_exacta(Tb,Tinf,Ac,k ,h,x,p):\n",
    "\n",
    "   T = Tinf + (Tb-Tinf)*np.exp(-x*np.sqrt((h*p)/(k*Ac)))\n",
    "\n",
    "   return T\n",
    "\n",
    "#solución numérica de la ecuación diferencial.\n",
    "def fun(theta, x):\n",
    "    a = h * p / (k * Ac)\n",
    "    d = theta[1]\n",
    "    d2= a**2 * theta[0]\n",
    "    return [d, d2]"
   ]
  },
  {
   "cell_type": "code",
   "execution_count": 111,
   "metadata": {
    "id": "zRM_N29ncIlC"
   },
   "outputs": [],
   "source": [
    "\n",
    "Tb = 313 # Temperatura en la base en Kelvin\n",
    "Tinf = 300 # Temperatura ambiente en Kelvin\n",
    "Ac = 5e-5  # Área de la sección transversal en m^2\n",
    "k = 200 # Conductividad térmica en W/(m*K)\n",
    "h = 20 # Coeficiente de transferencia de calor en W/(m^2*K)\n",
    "p = 0.102 # Perímetro en m\n",
    "a = h * p / (k * Ac)\n",
    "\n",
    "x = np.linspace(0,1,100)\n",
    "T = sol_exacta(Tb,Tinf,Ac,k ,h,x,p)"
   ]
  },
  {
   "cell_type": "code",
   "execution_count": 112,
   "metadata": {
    "id": "uoShVhiGcNUo"
   },
   "outputs": [],
   "source": [
    "# Condiciones iniciales\n",
    "θ = Tb - Tinf\n",
    "dθ_dx = 0\n",
    "condiciones_iniciales = [θ, dθ_dx]\n",
    "\n",
    "# Longitud de la aleta\n",
    "L = 1\n",
    "\n",
    "# Puntos x donde se evaluará la solución\n",
    "x = np.linspace(0, L, 100)\n"
   ]
  },
  {
   "cell_type": "code",
   "execution_count": 113,
   "metadata": {
    "id": "hPJqASBgcUbA"
   },
   "outputs": [],
   "source": [
    "# Resolviendo la ecuación diferencial\n",
    "sol = odeint(fun, condiciones_iniciales, x)\n"
   ]
  },
  {
   "cell_type": "code",
   "execution_count": 114,
   "metadata": {
    "id": "nFTucfaOcWNo"
   },
   "outputs": [],
   "source": [
    "theta_n = sol[:, 0]\n"
   ]
  },
  {
   "cell_type": "code",
   "execution_count": 115,
   "metadata": {
    "colab": {
     "base_uri": "https://localhost:8080/"
    },
    "id": "MQLYc05_cYDB",
    "outputId": "83a33a8c-1d6a-40f2-f916-66cfaf3b5757"
   },
   "outputs": [
    {
     "data": {
      "text/plain": [
       "array([3.13000000e+02, 3.51857672e+02, 7.00725867e+02, 3.44517473e+03,\n",
       "       2.49918034e+04, 1.94148586e+05, 1.52215227e+06, 1.19479462e+07,\n",
       "       9.37980045e+07, 7.36380441e+08, 5.78111951e+09, 4.53859871e+10,\n",
       "       3.56312977e+11, 2.79731579e+12, 2.19609617e+13, 1.72409508e+14,\n",
       "       1.35353992e+15, 1.06262719e+16, 8.34239566e+16, 6.54938681e+17,\n",
       "       5.14174457e+18, 4.03664312e+19, 3.16905818e+20, 2.48794096e+21,\n",
       "       1.95321445e+22, 1.53341527e+23, 1.20384242e+24, 9.45103779e+24,\n",
       "       7.41975145e+25, 5.82504406e+26, 4.57308287e+27, 3.59020237e+28,\n",
       "       2.81856975e+29, 2.21278207e+30, 1.73719472e+31, 1.36382409e+32,\n",
       "       1.07070102e+33, 8.40578105e+33, 6.59914895e+34, 5.18081146e+35,\n",
       "       4.06731347e+36, 3.19313664e+37, 2.50684429e+38, 1.96805494e+39,\n",
       "       1.54506614e+40, 1.21298919e+41, 9.52284662e+41, 7.47612660e+42,\n",
       "       5.86930265e+43, 4.60782908e+44, 3.61748067e+45, 2.83998520e+46,\n",
       "       2.22959475e+47, 1.75039390e+48, 1.37418641e+49, 1.07883619e+50,\n",
       "       8.46964803e+50, 6.64928917e+51, 5.22017518e+52, 4.09821685e+53,\n",
       "       3.21739804e+54, 2.52589126e+55, 1.98300819e+56, 1.55680553e+57,\n",
       "       1.22220547e+58, 9.59520105e+58, 7.53293008e+59, 5.91389751e+60,\n",
       "       4.64283929e+61, 3.64496623e+62, 2.86156336e+63, 2.24653518e+64,\n",
       "       1.76369336e+65, 1.38462745e+66, 1.08703317e+67, 8.53400027e+67,\n",
       "       6.69981036e+68, 5.25983799e+69, 4.12935504e+70, 3.24184377e+71,\n",
       "       2.54508294e+72, 1.99807505e+73, 1.56863411e+74, 1.23149176e+75,\n",
       "       9.66810523e+75, 7.59016516e+76, 5.95883121e+77, 4.67811551e+78,\n",
       "       3.67266062e+79, 2.88330547e+80, 2.26360431e+81, 1.77709388e+82,\n",
       "       1.39514783e+83, 1.09529243e+84, 8.59884147e+84, 6.75071541e+85,\n",
       "       5.29980215e+86, 4.16072981e+87, 3.26647525e+88, 2.56442044e+89])"
      ]
     },
     "execution_count": 115,
     "metadata": {},
     "output_type": "execute_result"
    }
   ],
   "source": [
    "# Temperatura T\n",
    "T_n = (Tinf + theta_n) #.astype(int)\n",
    "T_n"
   ]
  },
  {
   "cell_type": "code",
   "execution_count": 116,
   "metadata": {
    "colab": {
     "base_uri": "https://localhost:8080/",
     "height": 491
    },
    "id": "-e7K8TTKcd8-",
    "outputId": "f86b67ca-f545-4667-81af-2b1b7d44e688"
   },
   "outputs": [
    {
     "data": {
      "image/png": "[encoded data removed]",
      "text/plain": [
       "<Figure size 1000x500 with 2 Axes>"
      ]
     },
     "metadata": {},
     "output_type": "display_data"
    }
   ],
   "source": [
    "plt.figure(figsize=(10, 5))\n",
    "\n",
    "\n",
    "plt.subplot(1, 2, 1)\n",
    "plt.plot(x, theta_n, label='Temperatura de la aleta')\n",
    "plt.xlabel('Longitud de la aleta (m)')\n",
    "plt.ylabel('Temperatura (K)')\n",
    "plt.title('Temperatura de la aleta (sol. Numerica )')\n",
    "plt.legend()\n",
    "plt.grid()\n",
    "\n",
    "plt.subplot(1, 2, 2)\n",
    "plt.plot(x, T, label='Temperatura de la aleta')\n",
    "plt.xlabel('Longitud de la aleta (m)')\n",
    "plt.ylabel('Temperatura (K)')\n",
    "plt.title('Temperatura de la aleta (sol. analitica)')\n",
    "plt.legend()\n",
    "plt.grid()\n",
    "\n",
    "\n",
    "plt.tight_layout()\n",
    "plt.show()"
   ]
  }
 ],
 "metadata": {
  "colab": {
   "provenance": []
  },
  "kernelspec": {
   "display_name": "Python 3 (ipykernel)",
   "language": "python",
   "name": "python3"
  },
  "language_info": {
   "codemirror_mode": {
    "name": "ipython",
    "version": 3
   },
   "file_extension": ".py",
   "mimetype": "text/x-python",
   "name": "python",
   "nbconvert_exporter": "python",
   "pygments_lexer": "ipython3",
   "version": "3.10.9"
  }
 },
 "nbformat": 4,
 "nbformat_minor": 1
}
