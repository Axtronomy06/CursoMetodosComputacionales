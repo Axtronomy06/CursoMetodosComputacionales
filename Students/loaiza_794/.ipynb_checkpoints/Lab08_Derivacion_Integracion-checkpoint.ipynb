{
 "cells": [
  {
   "cell_type": "markdown",
   "metadata": {
    "id": "9bUzH5kLyJ5n"
   },
   "source": [
    "#1.Parte 1\n",
    "1. En un cirtcuito con un voltaje de  $\\varepsilon(t)$ y una inductancia de L, la primera ley de kirshhoff nos da la siguiente relación\n",
    "\n",
    "\n",
    "\\begin{equation}\n",
    "\\varepsilon(t) = L\\frac{\\mathrm{d}i}{\\mathrm{d}t} + Ri\n",
    "\\end{equation}\n",
    "\n",
    "donde r, es la resistencia del ciruito, i es la corriente. Suponga que medimos la corriente con varios valores de t y obtenemos:\n",
    "\n",
    "t = 1.00, 1.01, 1.02, 1.03, 1.0\n",
    "\n",
    "i = 3.10, 3.12, 3.14, 3.18, 3.24\n",
    "\n",
    "\n",
    "donde t se mide en segundos, i se de en amper, la inductancia L es una constante de 0.98 herios, la resistencia es de 0.142 ohms. Aproxime el votaje  $\\varepsilon(t)$ en los valores t=1.00, 1.01, 1.02, 1.03, 1.04 ,  para ello realice lo siguiente:\n",
    "\n",
    "\n",
    "- Construya un data frame de pandas con los valores de tiempo y corriente\n",
    "- Emplee un metodo calcular la derivada numérica."
   ]
  },
  {
   "cell_type": "code",
   "execution_count": 1,
   "metadata": {
    "executionInfo": {
     "elapsed": 1188,
     "status": "ok",
     "timestamp": 1700251269584,
     "user": {
      "displayName": "NICOLAS FELIPE LOAIZA CEBALLOS",
      "userId": "04278253511876672048"
     },
     "user_tz": 300
    },
    "id": "g_ddLhO9ay5C"
   },
   "outputs": [],
   "source": [
    "import numpy as np\n",
    "import scipy as sc\n",
    "import sympy as sp\n",
    "import matplotlib.pyplot as plt\n",
    "import pandas as pd\n",
    "from IPython.display import HTML, display_html, display\n",
    "\n",
    "from scipy import integrate"
   ]
  },
  {
   "cell_type": "code",
   "execution_count": 2,
   "metadata": {
    "colab": {
     "base_uri": "https://localhost:8080/",
     "height": 206
    },
    "executionInfo": {
     "elapsed": 34,
     "status": "ok",
     "timestamp": 1700251269585,
     "user": {
      "displayName": "NICOLAS FELIPE LOAIZA CEBALLOS",
      "userId": "04278253511876672048"
     },
     "user_tz": 300
    },
    "id": "IEPC-Eomc8BC",
    "outputId": "472629c4-fe22-4997-a7fe-4613066929b5"
   },
   "outputs": [
    {
     "data": {
      "text/html": [
       "\n",
       "  <div id=\"df-36c28df4-0371-42e4-8d53-4a62b39737a5\" class=\"colab-df-container\">\n",
       "    <div>\n",
       "<style scoped>\n",
       "    .dataframe tbody tr th:only-of-type {\n",
       "        vertical-align: middle;\n",
       "    }\n",
       "\n",
       "    .dataframe tbody tr th {\n",
       "        vertical-align: top;\n",
       "    }\n",
       "\n",
       "    .dataframe thead th {\n",
       "        text-align: right;\n",
       "    }\n",
       "</style>\n",
       "<table border=\"1\" class=\"dataframe\">\n",
       "  <thead>\n",
       "    <tr style=\"text-align: right;\">\n",
       "      <th></th>\n",
       "      <th>Tiempo</th>\n",
       "      <th>Corriente</th>\n",
       "    </tr>\n",
       "  </thead>\n",
       "  <tbody>\n",
       "    <tr>\n",
       "      <th>0</th>\n",
       "      <td>1.00</td>\n",
       "      <td>3.10</td>\n",
       "    </tr>\n",
       "    <tr>\n",
       "      <th>1</th>\n",
       "      <td>1.01</td>\n",
       "      <td>3.12</td>\n",
       "    </tr>\n",
       "    <tr>\n",
       "      <th>2</th>\n",
       "      <td>1.02</td>\n",
       "      <td>3.14</td>\n",
       "    </tr>\n",
       "    <tr>\n",
       "      <th>3</th>\n",
       "      <td>1.03</td>\n",
       "      <td>3.18</td>\n",
       "    </tr>\n",
       "    <tr>\n",
       "      <th>4</th>\n",
       "      <td>1.04</td>\n",
       "      <td>3.24</td>\n",
       "    </tr>\n",
       "  </tbody>\n",
       "</table>\n",
       "</div>\n",
       "    <div class=\"colab-df-buttons\">\n",
       "\n",
       "  <div class=\"colab-df-container\">\n",
       "    <button class=\"colab-df-convert\" onclick=\"convertToInteractive('df-36c28df4-0371-42e4-8d53-4a62b39737a5')\"\n",
       "            title=\"Convert this dataframe to an interactive table.\"\n",
       "            style=\"display:none;\">\n",
       "\n",
       "  <svg xmlns=\"http://www.w3.org/2000/svg\" height=\"24px\" viewBox=\"0 -960 960 960\">\n",
       "    <path d=\"M120-120v-720h720v720H120Zm60-500h600v-160H180v160Zm220 220h160v-160H400v160Zm0 220h160v-160H400v160ZM180-400h160v-160H180v160Zm440 0h160v-160H620v160ZM180-180h160v-160H180v160Zm440 0h160v-160H620v160Z\"/>\n",
       "  </svg>\n",
       "    </button>\n",
       "\n",
       "  <style>\n",
       "    .colab-df-container {\n",
       "      display:flex;\n",
       "      gap: 12px;\n",
       "    }\n",
       "\n",
       "    .colab-df-convert {\n",
       "      background-color: #E8F0FE;\n",
       "      border: none;\n",
       "      border-radius: 50%;\n",
       "      cursor: pointer;\n",
       "      display: none;\n",
       "      fill: #1967D2;\n",
       "      height: 32px;\n",
       "      padding: 0 0 0 0;\n",
       "      width: 32px;\n",
       "    }\n",
       "\n",
       "    .colab-df-convert:hover {\n",
       "      background-color: #E2EBFA;\n",
       "      box-shadow: 0px 1px 2px rgba(60, 64, 67, 0.3), 0px 1px 3px 1px rgba(60, 64, 67, 0.15);\n",
       "      fill: #174EA6;\n",
       "    }\n",
       "\n",
       "    .colab-df-buttons div {\n",
       "      margin-bottom: 4px;\n",
       "    }\n",
       "\n",
       "    [theme=dark] .colab-df-convert {\n",
       "      background-color: #3B4455;\n",
       "      fill: #D2E3FC;\n",
       "    }\n",
       "\n",
       "    [theme=dark] .colab-df-convert:hover {\n",
       "      background-color: #434B5C;\n",
       "      box-shadow: 0px 1px 3px 1px rgba(0, 0, 0, 0.15);\n",
       "      filter: drop-shadow(0px 1px 2px rgba(0, 0, 0, 0.3));\n",
       "      fill: #FFFFFF;\n",
       "    }\n",
       "  </style>\n",
       "\n",
       "    <script>\n",
       "      const buttonEl =\n",
       "        document.querySelector('#df-36c28df4-0371-42e4-8d53-4a62b39737a5 button.colab-df-convert');\n",
       "      buttonEl.style.display =\n",
       "        google.colab.kernel.accessAllowed ? 'block' : 'none';\n",
       "\n",
       "      async function convertToInteractive(key) {\n",
       "        const element = document.querySelector('#df-36c28df4-0371-42e4-8d53-4a62b39737a5');\n",
       "        const dataTable =\n",
       "          await google.colab.kernel.invokeFunction('convertToInteractive',\n",
       "                                                    [key], {});\n",
       "        if (!dataTable) return;\n",
       "\n",
       "        const docLinkHtml = 'Like what you see? Visit the ' +\n",
       "          '<a target=\"_blank\" href=https://colab.research.google.com/notebooks/data_table.ipynb>data table notebook</a>'\n",
       "          + ' to learn more about interactive tables.';\n",
       "        element.innerHTML = '';\n",
       "        dataTable['output_type'] = 'display_data';\n",
       "        await google.colab.output.renderOutput(dataTable, element);\n",
       "        const docLink = document.createElement('div');\n",
       "        docLink.innerHTML = docLinkHtml;\n",
       "        element.appendChild(docLink);\n",
       "      }\n",
       "    </script>\n",
       "  </div>\n",
       "\n",
       "\n",
       "<div id=\"df-fd4fc81e-d058-4728-8e2b-2df0f69e739f\">\n",
       "  <button class=\"colab-df-quickchart\" onclick=\"quickchart('df-fd4fc81e-d058-4728-8e2b-2df0f69e739f')\"\n",
       "            title=\"Suggest charts\"\n",
       "            style=\"display:none;\">\n",
       "\n",
       "<svg xmlns=\"http://www.w3.org/2000/svg\" height=\"24px\"viewBox=\"0 0 24 24\"\n",
       "     width=\"24px\">\n",
       "    <g>\n",
       "        <path d=\"M19 3H5c-1.1 0-2 .9-2 2v14c0 1.1.9 2 2 2h14c1.1 0 2-.9 2-2V5c0-1.1-.9-2-2-2zM9 17H7v-7h2v7zm4 0h-2V7h2v10zm4 0h-2v-4h2v4z\"/>\n",
       "    </g>\n",
       "</svg>\n",
       "  </button>\n",
       "\n",
       "<style>\n",
       "  .colab-df-quickchart {\n",
       "      --bg-color: #E8F0FE;\n",
       "      --fill-color: #1967D2;\n",
       "      --hover-bg-color: #E2EBFA;\n",
       "      --hover-fill-color: #174EA6;\n",
       "      --disabled-fill-color: #AAA;\n",
       "      --disabled-bg-color: #DDD;\n",
       "  }\n",
       "\n",
       "  [theme=dark] .colab-df-quickchart {\n",
       "      --bg-color: #3B4455;\n",
       "      --fill-color: #D2E3FC;\n",
       "      --hover-bg-color: #434B5C;\n",
       "      --hover-fill-color: #FFFFFF;\n",
       "      --disabled-bg-color: #3B4455;\n",
       "      --disabled-fill-color: #666;\n",
       "  }\n",
       "\n",
       "  .colab-df-quickchart {\n",
       "    background-color: var(--bg-color);\n",
       "    border: none;\n",
       "    border-radius: 50%;\n",
       "    cursor: pointer;\n",
       "    display: none;\n",
       "    fill: var(--fill-color);\n",
       "    height: 32px;\n",
       "    padding: 0;\n",
       "    width: 32px;\n",
       "  }\n",
       "\n",
       "  .colab-df-quickchart:hover {\n",
       "    background-color: var(--hover-bg-color);\n",
       "    box-shadow: 0 1px 2px rgba(60, 64, 67, 0.3), 0 1px 3px 1px rgba(60, 64, 67, 0.15);\n",
       "    fill: var(--button-hover-fill-color);\n",
       "  }\n",
       "\n",
       "  .colab-df-quickchart-complete:disabled,\n",
       "  .colab-df-quickchart-complete:disabled:hover {\n",
       "    background-color: var(--disabled-bg-color);\n",
       "    fill: var(--disabled-fill-color);\n",
       "    box-shadow: none;\n",
       "  }\n",
       "\n",
       "  .colab-df-spinner {\n",
       "    border: 2px solid var(--fill-color);\n",
       "    border-color: transparent;\n",
       "    border-bottom-color: var(--fill-color);\n",
       "    animation:\n",
       "      spin 1s steps(1) infinite;\n",
       "  }\n",
       "\n",
       "  @keyframes spin {\n",
       "    0% {\n",
       "      border-color: transparent;\n",
       "      border-bottom-color: var(--fill-color);\n",
       "      border-left-color: var(--fill-color);\n",
       "    }\n",
       "    20% {\n",
       "      border-color: transparent;\n",
       "      border-left-color: var(--fill-color);\n",
       "      border-top-color: var(--fill-color);\n",
       "    }\n",
       "    30% {\n",
       "      border-color: transparent;\n",
       "      border-left-color: var(--fill-color);\n",
       "      border-top-color: var(--fill-color);\n",
       "      border-right-color: var(--fill-color);\n",
       "    }\n",
       "    40% {\n",
       "      border-color: transparent;\n",
       "      border-right-color: var(--fill-color);\n",
       "      border-top-color: var(--fill-color);\n",
       "    }\n",
       "    60% {\n",
       "      border-color: transparent;\n",
       "      border-right-color: var(--fill-color);\n",
       "    }\n",
       "    80% {\n",
       "      border-color: transparent;\n",
       "      border-right-color: var(--fill-color);\n",
       "      border-bottom-color: var(--fill-color);\n",
       "    }\n",
       "    90% {\n",
       "      border-color: transparent;\n",
       "      border-bottom-color: var(--fill-color);\n",
       "    }\n",
       "  }\n",
       "</style>\n",
       "\n",
       "  <script>\n",
       "    async function quickchart(key) {\n",
       "      const quickchartButtonEl =\n",
       "        document.querySelector('#' + key + ' button');\n",
       "      quickchartButtonEl.disabled = true;  // To prevent multiple clicks.\n",
       "      quickchartButtonEl.classList.add('colab-df-spinner');\n",
       "      try {\n",
       "        const charts = await google.colab.kernel.invokeFunction(\n",
       "            'suggestCharts', [key], {});\n",
       "      } catch (error) {\n",
       "        console.error('Error during call to suggestCharts:', error);\n",
       "      }\n",
       "      quickchartButtonEl.classList.remove('colab-df-spinner');\n",
       "      quickchartButtonEl.classList.add('colab-df-quickchart-complete');\n",
       "    }\n",
       "    (() => {\n",
       "      let quickchartButtonEl =\n",
       "        document.querySelector('#df-fd4fc81e-d058-4728-8e2b-2df0f69e739f button');\n",
       "      quickchartButtonEl.style.display =\n",
       "        google.colab.kernel.accessAllowed ? 'block' : 'none';\n",
       "    })();\n",
       "  </script>\n",
       "</div>\n",
       "    </div>\n",
       "  </div>\n"
      ],
      "text/plain": [
       "   Tiempo  Corriente\n",
       "0    1.00       3.10\n",
       "1    1.01       3.12\n",
       "2    1.02       3.14\n",
       "3    1.03       3.18\n",
       "4    1.04       3.24"
      ]
     },
     "execution_count": 2,
     "metadata": {},
     "output_type": "execute_result"
    }
   ],
   "source": [
    "\n",
    "t = np.array([1.00, 1.01, 1.02, 1.03, 1.04])\n",
    "i = np.array([3.10, 3.12, 3.14, 3.18, 3.24])\n",
    "\n",
    "data = {'Tiempo': t, 'Corriente': i}\n",
    "df = pd.DataFrame(data)\n",
    "\n",
    "df"
   ]
  },
  {
   "cell_type": "code",
   "execution_count": 3,
   "metadata": {
    "colab": {
     "base_uri": "https://localhost:8080/"
    },
    "executionInfo": {
     "elapsed": 32,
     "status": "ok",
     "timestamp": 1700251269585,
     "user": {
      "displayName": "NICOLAS FELIPE LOAIZA CEBALLOS",
      "userId": "04278253511876672048"
     },
     "user_tz": 300
    },
    "id": "35Zq7ItqcJ0N",
    "outputId": "d1794fd3-749d-4ea5-bdca-e689388c5247"
   },
   "outputs": [
    {
     "data": {
      "text/plain": [
       "array([2., 2., 4., 6.])"
      ]
     },
     "execution_count": 3,
     "metadata": {},
     "output_type": "execute_result"
    }
   ],
   "source": [
    "# Caluculo de la derivada numerica\n",
    "\n",
    "der = (np.diff(i))/(np.diff(t))\n",
    "der"
   ]
  },
  {
   "cell_type": "code",
   "execution_count": 4,
   "metadata": {
    "colab": {
     "base_uri": "https://localhost:8080/"
    },
    "executionInfo": {
     "elapsed": 30,
     "status": "ok",
     "timestamp": 1700251269586,
     "user": {
      "displayName": "NICOLAS FELIPE LOAIZA CEBALLOS",
      "userId": "04278253511876672048"
     },
     "user_tz": 300
    },
    "id": "_Ef2S9uhg-UN",
    "outputId": "a73d9654-e45e-4eae-a9ff-464102875e1a"
   },
   "outputs": [
    {
     "data": {
      "text/plain": [
       "array([2.40162, 2.40446, 4.36872, 6.33582])"
      ]
     },
     "execution_count": 4,
     "metadata": {},
     "output_type": "execute_result"
    }
   ],
   "source": [
    "# Calculo de los promedios\n",
    "x = i[0:4]\n",
    "y =  i[1:]\n",
    "\n",
    "x_ = t[0:4]\n",
    "y_ =  t[1:]\n",
    "\n",
    "promi = (x+y)/2\n",
    "promt = (x_+y_)/2\n",
    "\n",
    "#Calculo de la FEM\n",
    "l = 0.98\n",
    "r = 0.142\n",
    "fem = l*der + r*promi\n",
    "fem"
   ]
  },
  {
   "cell_type": "code",
   "execution_count": 5,
   "metadata": {
    "colab": {
     "base_uri": "https://localhost:8080/",
     "height": 232
    },
    "executionInfo": {
     "elapsed": 29,
     "status": "ok",
     "timestamp": 1700251269586,
     "user": {
      "displayName": "NICOLAS FELIPE LOAIZA CEBALLOS",
      "userId": "04278253511876672048"
     },
     "user_tz": 300
    },
    "id": "QtRx8pCRiRRy",
    "outputId": "db480d0a-94ea-45ad-b9a2-621f67e87d99"
   },
   "outputs": [
    {
     "data": {
      "text/html": [
       "<h1>Resultados</h1>"
      ],
      "text/plain": [
       "<IPython.core.display.HTML object>"
      ]
     },
     "metadata": {},
     "output_type": "display_data"
    },
    {
     "data": {
      "text/html": [
       "\n",
       "  <div id=\"df-cf0c4eea-193e-4d85-80be-1c9af667e777\" class=\"colab-df-container\">\n",
       "    <div>\n",
       "<style scoped>\n",
       "    .dataframe tbody tr th:only-of-type {\n",
       "        vertical-align: middle;\n",
       "    }\n",
       "\n",
       "    .dataframe tbody tr th {\n",
       "        vertical-align: top;\n",
       "    }\n",
       "\n",
       "    .dataframe thead th {\n",
       "        text-align: right;\n",
       "    }\n",
       "</style>\n",
       "<table border=\"1\" class=\"dataframe\">\n",
       "  <thead>\n",
       "    <tr style=\"text-align: right;\">\n",
       "      <th></th>\n",
       "      <th>PromedioTiempo</th>\n",
       "      <th>PromedioCorriente</th>\n",
       "      <th>Derivadas</th>\n",
       "      <th>FEM</th>\n",
       "    </tr>\n",
       "  </thead>\n",
       "  <tbody>\n",
       "    <tr>\n",
       "      <th>0</th>\n",
       "      <td>1.005</td>\n",
       "      <td>3.11</td>\n",
       "      <td>2.0</td>\n",
       "      <td>2.40162</td>\n",
       "    </tr>\n",
       "    <tr>\n",
       "      <th>1</th>\n",
       "      <td>1.015</td>\n",
       "      <td>3.13</td>\n",
       "      <td>2.0</td>\n",
       "      <td>2.40446</td>\n",
       "    </tr>\n",
       "    <tr>\n",
       "      <th>2</th>\n",
       "      <td>1.025</td>\n",
       "      <td>3.16</td>\n",
       "      <td>4.0</td>\n",
       "      <td>4.36872</td>\n",
       "    </tr>\n",
       "    <tr>\n",
       "      <th>3</th>\n",
       "      <td>1.035</td>\n",
       "      <td>3.21</td>\n",
       "      <td>6.0</td>\n",
       "      <td>6.33582</td>\n",
       "    </tr>\n",
       "  </tbody>\n",
       "</table>\n",
       "</div>\n",
       "    <div class=\"colab-df-buttons\">\n",
       "\n",
       "  <div class=\"colab-df-container\">\n",
       "    <button class=\"colab-df-convert\" onclick=\"convertToInteractive('df-cf0c4eea-193e-4d85-80be-1c9af667e777')\"\n",
       "            title=\"Convert this dataframe to an interactive table.\"\n",
       "            style=\"display:none;\">\n",
       "\n",
       "  <svg xmlns=\"http://www.w3.org/2000/svg\" height=\"24px\" viewBox=\"0 -960 960 960\">\n",
       "    <path d=\"M120-120v-720h720v720H120Zm60-500h600v-160H180v160Zm220 220h160v-160H400v160Zm0 220h160v-160H400v160ZM180-400h160v-160H180v160Zm440 0h160v-160H620v160ZM180-180h160v-160H180v160Zm440 0h160v-160H620v160Z\"/>\n",
       "  </svg>\n",
       "    </button>\n",
       "\n",
       "  <style>\n",
       "    .colab-df-container {\n",
       "      display:flex;\n",
       "      gap: 12px;\n",
       "    }\n",
       "\n",
       "    .colab-df-convert {\n",
       "      background-color: #E8F0FE;\n",
       "      border: none;\n",
       "      border-radius: 50%;\n",
       "      cursor: pointer;\n",
       "      display: none;\n",
       "      fill: #1967D2;\n",
       "      height: 32px;\n",
       "      padding: 0 0 0 0;\n",
       "      width: 32px;\n",
       "    }\n",
       "\n",
       "    .colab-df-convert:hover {\n",
       "      background-color: #E2EBFA;\n",
       "      box-shadow: 0px 1px 2px rgba(60, 64, 67, 0.3), 0px 1px 3px 1px rgba(60, 64, 67, 0.15);\n",
       "      fill: #174EA6;\n",
       "    }\n",
       "\n",
       "    .colab-df-buttons div {\n",
       "      margin-bottom: 4px;\n",
       "    }\n",
       "\n",
       "    [theme=dark] .colab-df-convert {\n",
       "      background-color: #3B4455;\n",
       "      fill: #D2E3FC;\n",
       "    }\n",
       "\n",
       "    [theme=dark] .colab-df-convert:hover {\n",
       "      background-color: #434B5C;\n",
       "      box-shadow: 0px 1px 3px 1px rgba(0, 0, 0, 0.15);\n",
       "      filter: drop-shadow(0px 1px 2px rgba(0, 0, 0, 0.3));\n",
       "      fill: #FFFFFF;\n",
       "    }\n",
       "  </style>\n",
       "\n",
       "    <script>\n",
       "      const buttonEl =\n",
       "        document.querySelector('#df-cf0c4eea-193e-4d85-80be-1c9af667e777 button.colab-df-convert');\n",
       "      buttonEl.style.display =\n",
       "        google.colab.kernel.accessAllowed ? 'block' : 'none';\n",
       "\n",
       "      async function convertToInteractive(key) {\n",
       "        const element = document.querySelector('#df-cf0c4eea-193e-4d85-80be-1c9af667e777');\n",
       "        const dataTable =\n",
       "          await google.colab.kernel.invokeFunction('convertToInteractive',\n",
       "                                                    [key], {});\n",
       "        if (!dataTable) return;\n",
       "\n",
       "        const docLinkHtml = 'Like what you see? Visit the ' +\n",
       "          '<a target=\"_blank\" href=https://colab.research.google.com/notebooks/data_table.ipynb>data table notebook</a>'\n",
       "          + ' to learn more about interactive tables.';\n",
       "        element.innerHTML = '';\n",
       "        dataTable['output_type'] = 'display_data';\n",
       "        await google.colab.output.renderOutput(dataTable, element);\n",
       "        const docLink = document.createElement('div');\n",
       "        docLink.innerHTML = docLinkHtml;\n",
       "        element.appendChild(docLink);\n",
       "      }\n",
       "    </script>\n",
       "  </div>\n",
       "\n",
       "\n",
       "<div id=\"df-0a4307a4-59a5-48b5-a1e5-476c637295ae\">\n",
       "  <button class=\"colab-df-quickchart\" onclick=\"quickchart('df-0a4307a4-59a5-48b5-a1e5-476c637295ae')\"\n",
       "            title=\"Suggest charts\"\n",
       "            style=\"display:none;\">\n",
       "\n",
       "<svg xmlns=\"http://www.w3.org/2000/svg\" height=\"24px\"viewBox=\"0 0 24 24\"\n",
       "     width=\"24px\">\n",
       "    <g>\n",
       "        <path d=\"M19 3H5c-1.1 0-2 .9-2 2v14c0 1.1.9 2 2 2h14c1.1 0 2-.9 2-2V5c0-1.1-.9-2-2-2zM9 17H7v-7h2v7zm4 0h-2V7h2v10zm4 0h-2v-4h2v4z\"/>\n",
       "    </g>\n",
       "</svg>\n",
       "  </button>\n",
       "\n",
       "<style>\n",
       "  .colab-df-quickchart {\n",
       "      --bg-color: #E8F0FE;\n",
       "      --fill-color: #1967D2;\n",
       "      --hover-bg-color: #E2EBFA;\n",
       "      --hover-fill-color: #174EA6;\n",
       "      --disabled-fill-color: #AAA;\n",
       "      --disabled-bg-color: #DDD;\n",
       "  }\n",
       "\n",
       "  [theme=dark] .colab-df-quickchart {\n",
       "      --bg-color: #3B4455;\n",
       "      --fill-color: #D2E3FC;\n",
       "      --hover-bg-color: #434B5C;\n",
       "      --hover-fill-color: #FFFFFF;\n",
       "      --disabled-bg-color: #3B4455;\n",
       "      --disabled-fill-color: #666;\n",
       "  }\n",
       "\n",
       "  .colab-df-quickchart {\n",
       "    background-color: var(--bg-color);\n",
       "    border: none;\n",
       "    border-radius: 50%;\n",
       "    cursor: pointer;\n",
       "    display: none;\n",
       "    fill: var(--fill-color);\n",
       "    height: 32px;\n",
       "    padding: 0;\n",
       "    width: 32px;\n",
       "  }\n",
       "\n",
       "  .colab-df-quickchart:hover {\n",
       "    background-color: var(--hover-bg-color);\n",
       "    box-shadow: 0 1px 2px rgba(60, 64, 67, 0.3), 0 1px 3px 1px rgba(60, 64, 67, 0.15);\n",
       "    fill: var(--button-hover-fill-color);\n",
       "  }\n",
       "\n",
       "  .colab-df-quickchart-complete:disabled,\n",
       "  .colab-df-quickchart-complete:disabled:hover {\n",
       "    background-color: var(--disabled-bg-color);\n",
       "    fill: var(--disabled-fill-color);\n",
       "    box-shadow: none;\n",
       "  }\n",
       "\n",
       "  .colab-df-spinner {\n",
       "    border: 2px solid var(--fill-color);\n",
       "    border-color: transparent;\n",
       "    border-bottom-color: var(--fill-color);\n",
       "    animation:\n",
       "      spin 1s steps(1) infinite;\n",
       "  }\n",
       "\n",
       "  @keyframes spin {\n",
       "    0% {\n",
       "      border-color: transparent;\n",
       "      border-bottom-color: var(--fill-color);\n",
       "      border-left-color: var(--fill-color);\n",
       "    }\n",
       "    20% {\n",
       "      border-color: transparent;\n",
       "      border-left-color: var(--fill-color);\n",
       "      border-top-color: var(--fill-color);\n",
       "    }\n",
       "    30% {\n",
       "      border-color: transparent;\n",
       "      border-left-color: var(--fill-color);\n",
       "      border-top-color: var(--fill-color);\n",
       "      border-right-color: var(--fill-color);\n",
       "    }\n",
       "    40% {\n",
       "      border-color: transparent;\n",
       "      border-right-color: var(--fill-color);\n",
       "      border-top-color: var(--fill-color);\n",
       "    }\n",
       "    60% {\n",
       "      border-color: transparent;\n",
       "      border-right-color: var(--fill-color);\n",
       "    }\n",
       "    80% {\n",
       "      border-color: transparent;\n",
       "      border-right-color: var(--fill-color);\n",
       "      border-bottom-color: var(--fill-color);\n",
       "    }\n",
       "    90% {\n",
       "      border-color: transparent;\n",
       "      border-bottom-color: var(--fill-color);\n",
       "    }\n",
       "  }\n",
       "</style>\n",
       "\n",
       "  <script>\n",
       "    async function quickchart(key) {\n",
       "      const quickchartButtonEl =\n",
       "        document.querySelector('#' + key + ' button');\n",
       "      quickchartButtonEl.disabled = true;  // To prevent multiple clicks.\n",
       "      quickchartButtonEl.classList.add('colab-df-spinner');\n",
       "      try {\n",
       "        const charts = await google.colab.kernel.invokeFunction(\n",
       "            'suggestCharts', [key], {});\n",
       "      } catch (error) {\n",
       "        console.error('Error during call to suggestCharts:', error);\n",
       "      }\n",
       "      quickchartButtonEl.classList.remove('colab-df-spinner');\n",
       "      quickchartButtonEl.classList.add('colab-df-quickchart-complete');\n",
       "    }\n",
       "    (() => {\n",
       "      let quickchartButtonEl =\n",
       "        document.querySelector('#df-0a4307a4-59a5-48b5-a1e5-476c637295ae button');\n",
       "      quickchartButtonEl.style.display =\n",
       "        google.colab.kernel.accessAllowed ? 'block' : 'none';\n",
       "    })();\n",
       "  </script>\n",
       "</div>\n",
       "    </div>\n",
       "  </div>\n"
      ]
     },
     "metadata": {},
     "output_type": "display_data"
    }
   ],
   "source": [
    "#Data Frame de los resultados\n",
    "\n",
    "resultados = {'PromedioTiempo': promt, 'PromedioCorriente': promi,'Derivadas':der,'FEM':fem}\n",
    "df1 = pd.DataFrame(resultados)\n",
    "\n",
    "df1\n",
    "\n",
    "display(HTML('<h1>Resultados</h1>'))\n",
    "display_html(df1)"
   ]
  },
  {
   "cell_type": "code",
   "execution_count": 6,
   "metadata": {
    "colab": {
     "base_uri": "https://localhost:8080/",
     "height": 256
    },
    "executionInfo": {
     "elapsed": 1049,
     "status": "ok",
     "timestamp": 1700251270610,
     "user": {
      "displayName": "NICOLAS FELIPE LOAIZA CEBALLOS",
      "userId": "04278253511876672048"
     },
     "user_tz": 300
    },
    "id": "VbC4FOlonBH-",
    "outputId": "e0af367f-c9ae-4926-95d9-1b40b54adce5"
   },
   "outputs": [
    {
     "data": {
      "image/png": "[encoded data removed]",
      "text/plain": [
       "<Figure size 1500x500 with 3 Axes>"
      ]
     },
     "metadata": {},
     "output_type": "display_data"
    }
   ],
   "source": [
    "fig, axs = plt.subplots(1, 3, figsize=(15, 5))\n",
    "\n",
    "\n",
    "axs[0].plot(df1.PromedioTiempo, df1.FEM, color=\"red\")\n",
    "axs[0].set_title('PromedioTiempo vs. FEM')\n",
    "axs[0].set_xlabel('Tiempo')\n",
    "axs[0].set_ylabel('Fuerza Electromagnetica')\n",
    "\n",
    "\n",
    "axs[1].plot(df1.PromedioCorriente, df1.FEM,color=\"green\")\n",
    "axs[1].set_title('PromedioCorriente vs. FEM')\n",
    "axs[1].set_xlabel('Corriente')\n",
    "axs[1].set_ylabel('Fuerza Electromagnetica')\n",
    "\n",
    "\n",
    "axs[2].plot(df1.PromedioTiempo, df1.PromedioCorriente, color= \"darkorchid\")\n",
    "axs[2].set_title('PromedioTiempo vs. PromedioCorriente')\n",
    "axs[2].set_xlabel('Tiempo')\n",
    "axs[2].set_ylabel('Corriente')\n",
    "\n",
    "\n",
    "\n",
    "# Mostrar la figura\n",
    "plt.show()"
   ]
  },
  {
   "cell_type": "markdown",
   "metadata": {
    "id": "O6bpYCBCpy5j"
   },
   "source": [
    "# Parte 2\n",
    "\n",
    "1. Escribir en código Markdown la expresión para calcular una integral con la regla del trapecio.\n",
    "\n",
    "2. Escribir en código Markdown la expresión para calcular una integral con la regla del simpson\n",
    "\n",
    "\n",
    "3. Escribir en código Markdown la expresión para calcular una integral con el metodo de cuadratura.\n",
    "\n",
    "4. Calcular una aproximación con el metodo 1,2,3 de las siguientes integrales\n",
    "\n",
    "<!--\n",
    " $$\n",
    " \\int_0^\\pi e^{1-\\sqrt{x}}\\, dx\n",
    " $$  -->\n",
    "\n",
    "\n",
    "- $$\n",
    " \\int_0^{\\pi/2} \\frac{1}{\\sqrt{\\tan x}}\\, dx\n",
    " $$\n",
    "\n",
    "-\n",
    "$$\n",
    " \\int_{-\\infty}^{\\infty} \\frac{1}{1+x^2} \\, dx\n",
    " $$\n",
    "\n",
    "\n",
    "-\n",
    "\n",
    "$$\n",
    " \\int_{0}^{\\pi/4} \\int_{\\sin x}^{\\cos x} (2y\\sin x +\\cos^2 x)\\, dxdy\n",
    " $$\n",
    "\n",
    "<!--\n",
    "-\n",
    "$$\n",
    " \\int_{-\\infty}^{\\infty} \\frac{1}{1+x^2} \\, dx\n",
    " $$ -->\n",
    "\n",
    "<!--\n",
    "-\n",
    "$$\n",
    " \\int_{e}^{2e} \\frac{1}{\\ln x} \\, dx\n",
    " $$ -->\n",
    "\n",
    "\n",
    "garantizando  que el error sea menor a $\\varepsilon=1E-5$."
   ]
  },
  {
   "cell_type": "markdown",
   "metadata": {
    "id": "_5nBucg40N3V"
   },
   "source": [
    "# **Metodo del Trapecio**\n",
    "\n",
    "\\begin{equation}\n",
    "\\int_{a}^{b} f(x) dx \\approx \\frac{h}{2} \\left[ f(a) + 2\\sum_{i=1}^{n-1} f(a + ih) + f(b) \\right]\n",
    "\\end{equation}\n",
    "\n",
    "Donde:\n",
    "- $a$ y $b$ son los límites del intervalo de integración.\n",
    "- $n$ es el número de subintervalos.\n",
    "- $h$ es la longitud de cada subintervalo, calculada como $h = \\frac{b - a}{n}$.\n",
    "- $f(x)$ es la función que se está integrando."
   ]
  },
  {
   "cell_type": "markdown",
   "metadata": {
    "id": "yNsv_IWI1paL"
   },
   "source": [
    "# **Metodo de Simpson**\n",
    "\n",
    "\\begin{equation}\n",
    "\\int_{a}^{b} f(x) dx = \\frac{h}{3} [f(a)+2\\sum_{j = 1}^{\\frac{n}{2} - 1} f(x_{2j}) + 4 \\sum_{j = 1}^{\\frac{n}{2}} f(x_{2j - 1} ) +f(b)] -  \\frac{b-a}{180} h^4\\left(f^{(4)}(\\mu )\\right)                                                                                                     \n",
    "\\end{equation}\n",
    "\n",
    "Donde:\n",
    "- \\(a\\) y \\(b\\) son los límites del intervalo de integración.\n",
    "- \\(n\\) es el número de subintervalos.\n",
    "- \\(h\\) es la longitud de cada subintervalo, calculada como $h = \\frac{b - a}{n}$.\n",
    "- \\(f(x)\\) es la función que se está integrando."
   ]
  },
  {
   "cell_type": "markdown",
   "metadata": {
    "id": "fq8kAbSJ2Pw1"
   },
   "source": [
    "# **Metodo de Cuadratura**\n",
    "\\begin{equation}\n",
    "\\int_{a}^{b} f(x) dx \\approx \\sum_{i=1}^{n} w_i \\cdot f(x_i)\n",
    "\\end{equation}\n",
    "\n",
    "Donde:\n",
    "- $a$ y $b$ son los límites del intervalo de integración.\n",
    "- $n$ es el número de nodos.\n",
    "- $w_i$ son los pesos asociados a cada nodo $x_i$.\n",
    "- $x_i$ son los nodos de integración."
   ]
  },
  {
   "cell_type": "code",
   "execution_count": 7,
   "metadata": {
    "executionInfo": {
     "elapsed": 22,
     "status": "ok",
     "timestamp": 1700251270611,
     "user": {
      "displayName": "NICOLAS FELIPE LOAIZA CEBALLOS",
      "userId": "04278253511876672048"
     },
     "user_tz": 300
    },
    "id": "5dei7J0b3PGj"
   },
   "outputs": [],
   "source": [
    "# Funcion regla del trapecio\n",
    "def integral_trapz(f,a,b,N):\n",
    "  x = np.linspace(a,b,int(N))\n",
    "  h = x[1]-x[0]\n",
    "\n",
    "  t1 =f(x[1:-1:1]).sum()\n",
    "\n",
    "  A = (f(a) + f(b) + 2*t1)*(h/2)\n",
    "  return A"
   ]
  },
  {
   "cell_type": "code",
   "execution_count": 8,
   "metadata": {
    "executionInfo": {
     "elapsed": 22,
     "status": "ok",
     "timestamp": 1700251270611,
     "user": {
      "displayName": "NICOLAS FELIPE LOAIZA CEBALLOS",
      "userId": "04278253511876672048"
     },
     "user_tz": 300
    },
    "id": "GcR9Dw8t4vWz"
   },
   "outputs": [],
   "source": [
    "# Funcion para la regla de Simpson\n",
    "def simp(f,a,b,n):\n",
    "\n",
    "  x = np.linspace(a,b,n)\n",
    "  h = x[1]-x[0]\n",
    "\n",
    "  par = f(x[2:n-2:2]).sum()\n",
    "  inp = f(x[1:n-1:2]).sum()\n",
    "\n",
    "  integral = (h/3) * (f(a) + 2*par + 4*inp + f(b))\n",
    "\n",
    "  return integral"
   ]
  },
  {
   "cell_type": "code",
   "execution_count": 9,
   "metadata": {
    "executionInfo": {
     "elapsed": 22,
     "status": "ok",
     "timestamp": 1700251270611,
     "user": {
      "displayName": "NICOLAS FELIPE LOAIZA CEBALLOS",
      "userId": "04278253511876672048"
     },
     "user_tz": 300
    },
    "id": "RXyvQ9xVp8Ph"
   },
   "outputs": [],
   "source": [
    "def cuadratura(f, a, b, n):\n",
    "    h = (b - a) / n\n",
    "    integral = 0.0\n",
    "    for i in range(n):\n",
    "        xi = a + (i + 0.5) * h\n",
    "        integral += f(xi)\n",
    "    integral *= h\n",
    "    return integral"
   ]
  },
  {
   "cell_type": "markdown",
   "metadata": {
    "id": "gLkkCzAC43li"
   },
   "source": [
    " $$\n",
    " \\int_0^{\\pi/2} \\frac{1}{\\sqrt{\\tan x}}\\, dx\n",
    " $$"
   ]
  },
  {
   "cell_type": "code",
   "execution_count": 10,
   "metadata": {
    "colab": {
     "base_uri": "https://localhost:8080/"
    },
    "executionInfo": {
     "elapsed": 22,
     "status": "ok",
     "timestamp": 1700251270611,
     "user": {
      "displayName": "NICOLAS FELIPE LOAIZA CEBALLOS",
      "userId": "04278253511876672048"
     },
     "user_tz": 300
    },
    "id": "PukbUqh14BdL",
    "outputId": "87dae7ac-6591-4667-9bc7-e2a189d4a138"
   },
   "outputs": [
    {
     "data": {
      "text/plain": [
       "2.0303866379057762"
      ]
     },
     "execution_count": 10,
     "metadata": {},
     "output_type": "execute_result"
    }
   ],
   "source": [
    "# metodo del trapacio\n",
    "f = lambda x : 1 / np.sqrt(np.tan(x))\n",
    "\n",
    "A = integral_trapz(f,0.01,np.pi/2,100)\n",
    "A"
   ]
  },
  {
   "cell_type": "code",
   "execution_count": 11,
   "metadata": {
    "colab": {
     "base_uri": "https://localhost:8080/"
    },
    "executionInfo": {
     "elapsed": 20,
     "status": "ok",
     "timestamp": 1700251270611,
     "user": {
      "displayName": "NICOLAS FELIPE LOAIZA CEBALLOS",
      "userId": "04278253511876672048"
     },
     "user_tz": 300
    },
    "id": "YW4FcHfO4iGw",
    "outputId": "9421d0f8-93d6-48c6-bf6f-de6ad674a9b9"
   },
   "outputs": [
    {
     "data": {
      "text/plain": [
       "2.0303866379057762"
      ]
     },
     "execution_count": 11,
     "metadata": {},
     "output_type": "execute_result"
    }
   ],
   "source": [
    "# comprobacion con el metodo np.trapz\n",
    "a = 0.01\n",
    "b = np.pi/2\n",
    "f = lambda x : 1 / np.sqrt(np.tan(x))\n",
    "\n",
    "\n",
    "x_ = np.linspace(a,b,100)\n",
    "\n",
    "integral = np.trapz(f(x_),x_,100)\n",
    "integral"
   ]
  },
  {
   "cell_type": "code",
   "execution_count": 12,
   "metadata": {
    "colab": {
     "base_uri": "https://localhost:8080/"
    },
    "executionInfo": {
     "elapsed": 18,
     "status": "ok",
     "timestamp": 1700251270611,
     "user": {
      "displayName": "NICOLAS FELIPE LOAIZA CEBALLOS",
      "userId": "04278253511876672048"
     },
     "user_tz": 300
    },
    "id": "auUOoN7t8wag",
    "outputId": "865762b1-9330-469a-8b33-82ffdae96433"
   },
   "outputs": [
    {
     "data": {
      "text/plain": [
       "2.0229844443923803"
      ]
     },
     "execution_count": 12,
     "metadata": {},
     "output_type": "execute_result"
    }
   ],
   "source": [
    "# Metodo de simpson\n",
    "integral = simp(f,0.01,np.pi/2,101)\n",
    "integral"
   ]
  },
  {
   "cell_type": "code",
   "execution_count": 13,
   "metadata": {
    "colab": {
     "base_uri": "https://localhost:8080/"
    },
    "executionInfo": {
     "elapsed": 18,
     "status": "ok",
     "timestamp": 1700251270612,
     "user": {
      "displayName": "NICOLAS FELIPE LOAIZA CEBALLOS",
      "userId": "04278253511876672048"
     },
     "user_tz": 300
    },
    "id": "oCFG9yxp9NEw",
    "outputId": "9df2b46e-4fea-49de-f997-5443847de9e5"
   },
   "outputs": [
    {
     "data": {
      "text/plain": [
       "2.02298444439238"
      ]
     },
     "execution_count": 13,
     "metadata": {},
     "output_type": "execute_result"
    }
   ],
   "source": [
    "# comparacion con la libreria de Simpson en scipy\n",
    "\n",
    "x = np.linspace(0.01,np.pi/2,101)\n",
    "sc.integrate.simpson(f(x),x,101)"
   ]
  },
  {
   "cell_type": "code",
   "execution_count": 14,
   "metadata": {
    "colab": {
     "base_uri": "https://localhost:8080/"
    },
    "executionInfo": {
     "elapsed": 15,
     "status": "ok",
     "timestamp": 1700251270612,
     "user": {
      "displayName": "NICOLAS FELIPE LOAIZA CEBALLOS",
      "userId": "04278253511876672048"
     },
     "user_tz": 300
    },
    "id": "_AQsRtvECZxZ",
    "outputId": "62026d66-ebe4-4d03-d5c1-226b2c8b83a6"
   },
   "outputs": [
    {
     "data": {
      "text/plain": [
       "2.0172902195422555"
      ]
     },
     "execution_count": 14,
     "metadata": {},
     "output_type": "execute_result"
    }
   ],
   "source": [
    "# metodo de cuadratura\n",
    "f = lambda x : 1 / np.sqrt(np.tan(x))\n",
    "\n",
    "A = cuadratura(f,0.01,np.pi/2,100)\n",
    "A"
   ]
  },
  {
   "cell_type": "code",
   "execution_count": 15,
   "metadata": {
    "colab": {
     "base_uri": "https://localhost:8080/"
    },
    "executionInfo": {
     "elapsed": 14,
     "status": "ok",
     "timestamp": 1700251270612,
     "user": {
      "displayName": "NICOLAS FELIPE LOAIZA CEBALLOS",
      "userId": "04278253511876672048"
     },
     "user_tz": 300
    },
    "id": "hMOZES19DvJH",
    "outputId": "67ee4984-7742-4ef3-d403-146479380d7b"
   },
   "outputs": [
    {
     "data": {
      "text/plain": [
       "(2.021442135751406, 2.7087119214286304e-09)"
      ]
     },
     "execution_count": 15,
     "metadata": {},
     "output_type": "execute_result"
    }
   ],
   "source": [
    "# comprobacion con el metodo integrate.quad\n",
    "a = 0.01\n",
    "b = np.pi/2\n",
    "f = lambda x : 1 / np.sqrt(np.tan(x))\n",
    "\n",
    "\n",
    "x_ = np.linspace(a,b,100)\n",
    "\n",
    "integral = integrate.quad(f,a,b)\n",
    "integral"
   ]
  },
  {
   "cell_type": "markdown",
   "metadata": {
    "id": "dFWJoipwBq3b"
   },
   "source": [
    "$$\n",
    " \\int_{-\\infty}^{\\infty} \\frac{1}{1+x^2} \\, dx\n",
    " $$\n",
    "\n",
    "\n",
    "es la integral de una función racional. Esta integral se puede calcular utilizando un enfoque de simetría y técnicas de cálculo integral. La función f(x) = $\\frac{1}{1+x^2}$ tiene simetría par, lo que significa que $f(-x) = f(x)$.\n",
    "\n",
    "Una forma común de abordar esta integral es utilizando una técnica de valor principal, que se refiere a calcular la integral de menos infinito a más infinito y luego dividirla en dos partes:\n",
    "\n",
    "\\begin{equation}\n",
    "\\int_{-\\infty}^{\\infty} \\frac{1}{1+x^2} \\, dx = \\lim_{A\\to\\infty} \\int_{-A}^{A} \\frac{1}{1+x^2} \\, dx\n",
    "\\end{equation}\n",
    "\n",
    "Luego, puedes usar la simetría de la función para simplificar:\n",
    "\n",
    "\\begin{equation}\n",
    "\\int_{-A}^{A} \\frac{1}{1+x^2} \\, dx = 2\\int_{0}^{A} \\frac{1}{1+x^2} \\, dx\n",
    "\\end{equation}\n",
    "\n",
    "donde **A** es un numero muy grande\n",
    "\n"
   ]
  },
  {
   "cell_type": "code",
   "execution_count": 16,
   "metadata": {
    "colab": {
     "base_uri": "https://localhost:8080/"
    },
    "executionInfo": {
     "elapsed": 13,
     "status": "ok",
     "timestamp": 1700251270612,
     "user": {
      "displayName": "NICOLAS FELIPE LOAIZA CEBALLOS",
      "userId": "04278253511876672048"
     },
     "user_tz": 300
    },
    "id": "OfrQLN0BBp8N",
    "outputId": "aa2a7b82-b4a8-4dcb-c54f-83a9ae70271c"
   },
   "outputs": [
    {
     "name": "stdout",
     "output_type": "stream",
     "text": [
      "3.141572653589797\n"
     ]
    }
   ],
   "source": [
    "# Metodo del Trapecio\n",
    "f= lambda x: 1 / (1 + x**2)\n",
    "\n",
    "# El N debe ser un numero grande numero de elementos de X que se vana  a formar en el linspace\n",
    "#                       fincion , a ,  b ,   N\n",
    "resultado = 2*integral_trapz(f, 0, 100000, 1000000)\n",
    "print(resultado)"
   ]
  },
  {
   "cell_type": "code",
   "execution_count": 17,
   "metadata": {
    "colab": {
     "base_uri": "https://localhost:8080/"
    },
    "executionInfo": {
     "elapsed": 11,
     "status": "ok",
     "timestamp": 1700251270612,
     "user": {
      "displayName": "NICOLAS FELIPE LOAIZA CEBALLOS",
      "userId": "04278253511876672048"
     },
     "user_tz": 300
    },
    "id": "K3I3sVYIxZNG",
    "outputId": "97c4cf01-06c8-4a96-dec2-b6850bdbdff8"
   },
   "outputs": [
    {
     "data": {
      "text/plain": [
       "3.1413926535904566"
      ]
     },
     "execution_count": 17,
     "metadata": {},
     "output_type": "execute_result"
    }
   ],
   "source": [
    "# comparacion del valos por medio de la libreria\n",
    "# comprobacion con el metodo np.trapz\n",
    "a = 0\n",
    "b = 10000\n",
    "f = lambda x : 1 / (1 + x**2)\n",
    "\n",
    "#integral_trapz(f,0,2,75)\n",
    "x_ = np.linspace(a,b,100000)\n",
    "\n",
    "integral = 2*np.trapz(f(x_),x_,100)\n",
    "integral"
   ]
  },
  {
   "cell_type": "code",
   "execution_count": 18,
   "metadata": {
    "colab": {
     "base_uri": "https://localhost:8080/"
    },
    "executionInfo": {
     "elapsed": 352,
     "status": "ok",
     "timestamp": 1700251270954,
     "user": {
      "displayName": "NICOLAS FELIPE LOAIZA CEBALLOS",
      "userId": "04278253511876672048"
     },
     "user_tz": 300
    },
    "id": "yXBrV8_EyPQN",
    "outputId": "f721db9d-a948-4dac-a769-f6739dbb0ce8"
   },
   "outputs": [
    {
     "data": {
      "text/plain": [
       "3.1415726535897956"
      ]
     },
     "execution_count": 18,
     "metadata": {},
     "output_type": "execute_result"
    }
   ],
   "source": [
    "# Metodo de simpson\n",
    "integral = 2*simp(f,0,100000,10000001)\n",
    "integral"
   ]
  },
  {
   "cell_type": "code",
   "execution_count": 19,
   "metadata": {
    "colab": {
     "base_uri": "https://localhost:8080/"
    },
    "executionInfo": {
     "elapsed": 4,
     "status": "ok",
     "timestamp": 1700251270955,
     "user": {
      "displayName": "NICOLAS FELIPE LOAIZA CEBALLOS",
      "userId": "04278253511876672048"
     },
     "user_tz": 300
    },
    "id": "_aLSQIv3ywCQ",
    "outputId": "e8c6fe35-0981-4853-bfad-ab7dec8ae6ee"
   },
   "outputs": [
    {
     "data": {
      "text/plain": [
       "3.141572653589793"
      ]
     },
     "execution_count": 19,
     "metadata": {},
     "output_type": "execute_result"
    }
   ],
   "source": [
    "# comparacion con la libreria de Simpson en scipy\n",
    "\n",
    "x = np.linspace(0,100000,10000001)\n",
    "A = 2*sc.integrate.simpson(f(x),x,10000001)\n",
    "A"
   ]
  },
  {
   "cell_type": "code",
   "execution_count": 20,
   "metadata": {
    "colab": {
     "base_uri": "https://localhost:8080/"
    },
    "executionInfo": {
     "elapsed": 613,
     "status": "ok",
     "timestamp": 1700251271565,
     "user": {
      "displayName": "NICOLAS FELIPE LOAIZA CEBALLOS",
      "userId": "04278253511876672048"
     },
     "user_tz": 300
    },
    "id": "Ffzk7ZR_G_Cm",
    "outputId": "81ea431d-bfd3-4629-cd6e-6a7eb9916710"
   },
   "outputs": [
    {
     "name": "stdout",
     "output_type": "stream",
     "text": [
      "3.141572653589997\n"
     ]
    }
   ],
   "source": [
    "# metodode cuadratura\n",
    "f= lambda x: 1 / (1 + x**2)\n",
    "\n",
    "# El N debe ser un numero grande numero de elementos de X que se vana  a formar en el linspace\n",
    "#                       fincion , a ,  b ,   N\n",
    "resultado = 2*cuadratura(f, 0, 100000, 1000000)\n",
    "print(resultado)"
   ]
  },
  {
   "cell_type": "code",
   "execution_count": 21,
   "metadata": {
    "colab": {
     "base_uri": "https://localhost:8080/"
    },
    "executionInfo": {
     "elapsed": 18,
     "status": "ok",
     "timestamp": 1700251271566,
     "user": {
      "displayName": "NICOLAS FELIPE LOAIZA CEBALLOS",
      "userId": "04278253511876672048"
     },
     "user_tz": 300
    },
    "id": "XnZs3OUhHFe5",
    "outputId": "6946c089-e137-477e-eda2-c7cd7e1dd5d1"
   },
   "outputs": [
    {
     "data": {
      "text/plain": [
       "3.1415726535898214"
      ]
     },
     "execution_count": 21,
     "metadata": {},
     "output_type": "execute_result"
    }
   ],
   "source": [
    "# Comparación con el metodo integrate.quad\n",
    "a = 0\n",
    "b = 100000\n",
    "integral = integrate.quad(f,a,b)\n",
    "I = integral[0]*2\n",
    "I"
   ]
  },
  {
   "cell_type": "markdown",
   "metadata": {
    "id": "OT4MWyKR1DEG"
   },
   "source": [
    "$$\n",
    " \\int_{0}^{\\pi/4} \\int_{\\sin x}^{\\cos x} (2y\\sin x +\\cos^2 x)\\, dxdy\n",
    " $$\n",
    "\n"
   ]
  },
  {
   "cell_type": "code",
   "execution_count": 22,
   "metadata": {
    "colab": {
     "base_uri": "https://localhost:8080/"
    },
    "executionInfo": {
     "elapsed": 16,
     "status": "ok",
     "timestamp": 1700251271567,
     "user": {
      "displayName": "NICOLAS FELIPE LOAIZA CEBALLOS",
      "userId": "04278253511876672048"
     },
     "user_tz": 300
    },
    "id": "4PB6NWZ41E7N",
    "outputId": "e40b1742-5943-48b3-d58b-b8f67b9dbdb2"
   },
   "outputs": [
    {
     "name": "stdout",
     "output_type": "stream",
     "text": [
      "0.511833509339219\n"
     ]
    }
   ],
   "source": [
    "# Función para calcular la integral doble por l metodo del trapecio\n",
    "def double_integral(F, a, b, N):\n",
    "    x = np.linspace(a, b, N)\n",
    "    I = np.zeros(len(x))\n",
    "    for i, x_ in enumerate(x):\n",
    "        y = np.linspace(np.sin(x_), np.cos(x_), N)\n",
    "        F_xy = lambda y: F(x_, y)\n",
    "        I[i] = integral_trapz(F_xy, np.sin(x_), np.cos(x_), N)\n",
    "    I_interp = lambda x: np.interp(x, np.linspace(a, b, N), I)\n",
    "    return integral_trapz(I_interp, a, b, N)\n",
    "\n",
    "\n",
    "F = lambda x,y : 2*y*np.sin(x) + (np.cos(x))**2\n",
    "\n",
    "\n",
    "a = 0\n",
    "b = np.pi/4\n",
    "\n",
    "result = double_integral(F, a, b, 100)\n",
    "print(result)\n"
   ]
  },
  {
   "cell_type": "code",
   "execution_count": 23,
   "metadata": {
    "colab": {
     "base_uri": "https://localhost:8080/"
    },
    "executionInfo": {
     "elapsed": 14,
     "status": "ok",
     "timestamp": 1700251271567,
     "user": {
      "displayName": "NICOLAS FELIPE LOAIZA CEBALLOS",
      "userId": "04278253511876672048"
     },
     "user_tz": 300
    },
    "id": "lNck6_cQEFxq",
    "outputId": "d8fa9c7a-db43-41df-a27d-8b1cbed04a21"
   },
   "outputs": [
    {
     "name": "stdout",
     "output_type": "stream",
     "text": [
      "0.5118335093392186\n"
     ]
    }
   ],
   "source": [
    "# Comparacion con la libreria Integrate.Trapzoid\n",
    "F = lambda x,y : 2*y*np.sin(x) + (np.cos(x))**2\n",
    "a = 0\n",
    "b = np.pi/4\n",
    "N = 100\n",
    "\n",
    "I = np.zeros(N)\n",
    "x = np.linspace(a, b, N)\n",
    "\n",
    "\n",
    "for i, x_ in enumerate(x):\n",
    "    y = np.linspace(np.sin(x_), np.cos(x_), N)\n",
    "    F_xy = F(x_, y)\n",
    "    I[i] = integrate.trapz(F_xy, y)\n",
    "\n",
    "\n",
    "result = integrate.trapz(I, x)\n",
    "\n",
    "print(result)"
   ]
  },
  {
   "cell_type": "code",
   "execution_count": 24,
   "metadata": {
    "colab": {
     "base_uri": "https://localhost:8080/"
    },
    "executionInfo": {
     "elapsed": 13,
     "status": "ok",
     "timestamp": 1700251271567,
     "user": {
      "displayName": "NICOLAS FELIPE LOAIZA CEBALLOS",
      "userId": "04278253511876672048"
     },
     "user_tz": 300
    },
    "id": "3A6iQ1DyHBlC",
    "outputId": "b214cf0a-e928-4347-8874-e57d05703579"
   },
   "outputs": [
    {
     "name": "stdout",
     "output_type": "stream",
     "text": [
      "0.5118446356619841\n"
     ]
    }
   ],
   "source": [
    "# Función para calcular la integral doble por l metodo del Simpson\n",
    "def double_integral(F, a, b, N):\n",
    "    x = np.linspace(a, b, N)\n",
    "    I = np.zeros(len(x))\n",
    "    for i, x_ in enumerate(x):\n",
    "        y = np.linspace(np.sin(x_), np.cos(x_), N)\n",
    "        F_xy = lambda y: F(x_, y)\n",
    "        I[i] = simp(F_xy, np.sin(x_), np.cos(x_), N)\n",
    "    I_interp = lambda x: np.interp(x, np.linspace(a, b, N), I)\n",
    "    return simp(I_interp, a, b, N)\n",
    "\n",
    "\n",
    "F = lambda x,y : 2*y*np.sin(x) + (np.cos(x))**2\n",
    "\n",
    "\n",
    "a = 0\n",
    "b = np.pi/4\n",
    "\n",
    "result = double_integral(F, a, b, 101)\n",
    "print(result)"
   ]
  },
  {
   "cell_type": "code",
   "execution_count": 25,
   "metadata": {
    "colab": {
     "base_uri": "https://localhost:8080/"
    },
    "executionInfo": {
     "elapsed": 11,
     "status": "ok",
     "timestamp": 1700251271567,
     "user": {
      "displayName": "NICOLAS FELIPE LOAIZA CEBALLOS",
      "userId": "04278253511876672048"
     },
     "user_tz": 300
    },
    "id": "G8LvaMeGHTez",
    "outputId": "7c0d7ac6-b372-4092-fa5e-28f09514e698"
   },
   "outputs": [
    {
     "name": "stdout",
     "output_type": "stream",
     "text": [
      "0.5118446374265215\n"
     ]
    }
   ],
   "source": [
    "# Comparacion con la libreria Integrate.simpson\n",
    "F = lambda x,y : 2*y*np.sin(x) + (np.cos(x))**2\n",
    "a = 0\n",
    "b = np.pi/4\n",
    "N = 100\n",
    "\n",
    "I = np.zeros(N)\n",
    "x = np.linspace(a, b, N)\n",
    "\n",
    "\n",
    "for i, x_ in enumerate(x):\n",
    "    y = np.linspace(np.sin(x_), np.cos(x_), N)\n",
    "    F_xy = F(x_, y)\n",
    "    I[i] = integrate.simpson(F_xy, y)\n",
    "\n",
    "\n",
    "result = integrate.simpson(I, x)\n",
    "\n",
    "print(result)"
   ]
  },
  {
   "cell_type": "code",
   "execution_count": 26,
   "metadata": {
    "colab": {
     "base_uri": "https://localhost:8080/"
    },
    "executionInfo": {
     "elapsed": 10,
     "status": "ok",
     "timestamp": 1700251271567,
     "user": {
      "displayName": "NICOLAS FELIPE LOAIZA CEBALLOS",
      "userId": "04278253511876672048"
     },
     "user_tz": 300
    },
    "id": "JXwt-d5pLNEU",
    "outputId": "16d029f7-63c6-4035-e696-5cfe02446c54"
   },
   "outputs": [
    {
     "name": "stdout",
     "output_type": "stream",
     "text": [
      "0.5118398573066196\n"
     ]
    }
   ],
   "source": [
    "# Funcion de Cuadratura\n",
    "def double_integral(F, a, b, N):\n",
    "    x = np.linspace(a, b, N)\n",
    "    I = np.zeros(len(x))\n",
    "    for i, x_ in enumerate(x):\n",
    "        y = np.linspace(np.sin(x_), np.cos(x_), N)\n",
    "        F_xy = lambda y: F(x_, y)\n",
    "        I[i] = cuadratura(F_xy, np.sin(x_), np.cos(x_), N)\n",
    "    I_interp = lambda x: np.interp(x, np.linspace(a, b, N), I)\n",
    "    return cuadratura(I_interp, a, b, N)\n",
    "\n",
    "\n",
    "F = lambda x,y : 2*y*np.sin(x) + (np.cos(x))**2\n",
    "\n",
    "\n",
    "a = 0\n",
    "b = np.pi/4\n",
    "\n",
    "resultado = double_integral(F, a, b, 100)\n",
    "print(resultado)"
   ]
  },
  {
   "cell_type": "code",
   "execution_count": 27,
   "metadata": {
    "colab": {
     "base_uri": "https://localhost:8080/"
    },
    "executionInfo": {
     "elapsed": 8,
     "status": "ok",
     "timestamp": 1700251271567,
     "user": {
      "displayName": "NICOLAS FELIPE LOAIZA CEBALLOS",
      "userId": "04278253511876672048"
     },
     "user_tz": 300
    },
    "id": "BktXyxpWNLn9",
    "outputId": "44950737-6b3d-4ce2-d578-9d529188862f"
   },
   "outputs": [
    {
     "name": "stdout",
     "output_type": "stream",
     "text": [
      "(0.5118446353109126, 5.682616991530416e-15)\n"
     ]
    }
   ],
   "source": [
    "# comparacion con la libreria de integrate.quad\n",
    "F = lambda x, y: 2 * y * np.sin(x) + (np.cos(x))**2\n",
    "a = 0\n",
    "b = np.pi/4\n",
    "N = 100\n",
    "\n",
    "def integral_y(x):\n",
    "    return integrate.quad(lambda y: F(x, y), np.sin(x), np.cos(x))[0]\n",
    "\n",
    "resultado = integrate.quad(integral_y, a, b)\n",
    "\n",
    "print(resultado)\n"
   ]
  },
  {
   "cell_type": "markdown",
   "metadata": {
    "id": "jaoqPova-LQt"
   },
   "source": [
    "| Integral                                              | Método Trapecio          | Método Simpson           | Método Cuadratura        |\n",
    "| ---------------------------------------------------- | ------------------------- | ------------------------- | ------------------------- |\n",
    "| $$ \\int_0^{\\pi/2} \\frac{1}{\\sqrt{\\tan x}}\\, dx $$    | Función =2.0303866379057762    | Función = 2.0229844443923803      | Funcion = 2.0172902195422555  |\n",
    "|                                                      | Librería =2.0303866379057762  | Librería = 2.02298444439238     | Libreria = 2.021445057723028   |\n",
    "| $$ \\int_{-\\infty}^{\\infty} \\frac{1}{1+x^2} \\, dx $$   | Funcion = 3.141572653589797    | Funcion = 3.1415726535897956    | Funcion = 3.141572653589997  |\n",
    "|                                                      | Libreria = 3.141572653589797   | Libreria = 3.1413926535904566     | Libreria =  3.1415726535898214|\n",
    "| $$ \\int_{0}^{\\pi/4} \\int_{\\sin x}^{\\cos x} (2y\\sin x +\\cos^2 x)\\, dxdy $$ | Funcion = 0.511833509339219    | Funcion = 0.5118446356619841     | Funcion = 0.5118398573066196   |\n",
    "|                                                      | Libreria =0.5118335093392186   | Libreria = 0.5118446374265215      | Libreria = 0.5118446353109126  |\n",
    "\n",
    "\n",
    "\n"
   ]
  }
 ],
 "metadata": {
  "colab": {
   "authorship_tag": "ABX9TyNSIWjp86nK977+caU601h4",
   "provenance": []
  },
  "kernelspec": {
   "display_name": "Python 3 (ipykernel)",
   "language": "python",
   "name": "python3"
  },
  "language_info": {
   "codemirror_mode": {
    "name": "ipython",
    "version": 3
   },
   "file_extension": ".py",
   "mimetype": "text/x-python",
   "name": "python",
   "nbconvert_exporter": "python",
   "pygments_lexer": "ipython3",
   "version": "3.10.9"
  }
 },
 "nbformat": 4,
 "nbformat_minor": 1
}
