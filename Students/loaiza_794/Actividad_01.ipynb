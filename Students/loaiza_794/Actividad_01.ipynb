{
 "cells": [
  {
   "cell_type": "code",
   "execution_count": 1,
   "metadata": {
    "id": "0kGReQTvXDFf"
   },
   "outputs": [
    {
     "name": "stdout",
     "output_type": "stream",
     "text": [
      "la palabra ana es un palindromo\n"
     ]
    }
   ],
   "source": [
    "# Trabajo en clase de saber si la palabra es un palindromo o no\n",
    "def pali(a):\n",
    "\n",
    "    A = a[::-1]\n",
    "\n",
    "    if a == A:\n",
    "        print(f\"la palabra {a} es un palindromo\")\n",
    "    else:\n",
    "        print(f\"la palabra {a} no es un palindromo\")\n",
    "    return None\n",
    "\n",
    "\n",
    "a = input(\"ingrese la(s) palabra(s) que tiene en mente:  \")\n",
    "pali(a)"
   ]
  },
  {
   "cell_type": "code",
   "execution_count": 2,
   "metadata": {
    "colab": {
     "base_uri": "https://localhost:8080/"
    },
    "id": "MhOsRNtxU9hV",
    "outputId": "927f1248-daac-47d9-b55e-ad816427d3c9"
   },
   "outputs": [
    {
     "name": "stdout",
     "output_type": "stream",
     "text": [
      "el factorial de 6 es 720\n"
     ]
    }
   ],
   "source": [
    "# Factorial\n",
    "def factorial(n):\n",
    "    x = 1\n",
    "    k = 1\n",
    "    if n < 0 :\n",
    "        print(\"es un numero negativo, no se le puede calcular el factorial\")\n",
    "    elif n == 0  or n ==1:\n",
    "        resultado = 1\n",
    "        return resultado\n",
    "    elif n>1:\n",
    "        for i in range(1,n+1):\n",
    "            x= i*x\n",
    "        print(f\"el factorial de {n} es {x}\")\n",
    "\n",
    "        return  x\n",
    "\n",
    "n = int(input(\"ingrese el numero que desea conocer el factorial: \"))\n",
    "R = factorial(n)"
   ]
  },
  {
   "cell_type": "code",
   "execution_count": 3,
   "metadata": {
    "colab": {
     "base_uri": "https://localhost:8080/"
    },
    "id": "UAHZB0_QVC7o",
    "outputId": "503fba3a-9cd7-432b-db56-13ed82a1c56f"
   },
   "outputs": [
    {
     "name": "stdout",
     "output_type": "stream",
     "text": [
      "el Doble factorial de 5 es 15\n"
     ]
    }
   ],
   "source": [
    "#Doble Factorial\n",
    "\n",
    "def Doble_Factorial(n):\n",
    "\n",
    "    k = 1\n",
    "    if n < 0 :\n",
    "        print(\"es un numero negativo, no se le puede calcular el factorial\")\n",
    "    elif n == 0  or n ==1:\n",
    "        resultado = 1\n",
    "        return resultado\n",
    "    elif n>1:\n",
    "\n",
    "        if n%2 == 0 :\n",
    "            for j in range(2,n+1,2):\n",
    "                k = j*k\n",
    "        elif n%2 != 0:\n",
    "            for j in range(1,n+1,2):\n",
    "                k = j*k\n",
    "        print(f\"el Doble factorial de {n} es {k}\")\n",
    "\n",
    "        return k\n",
    "n = int(input(\"ingrese el numero que desea conocer el Doble Factorial: \"))\n",
    "R = Doble_Factorial(n)"
   ]
  },
  {
   "cell_type": "code",
   "execution_count": 4,
   "metadata": {
    "colab": {
     "base_uri": "https://localhost:8080/"
    },
    "id": "Lm-dU-sdVK7i",
    "outputId": "58c10814-0802-491a-9fd6-4d0a43852449"
   },
   "outputs": [
    {
     "name": "stdout",
     "output_type": "stream",
     "text": [
      "El n-ésimo término de la sucesión de Lucas es: 4\n"
     ]
    }
   ],
   "source": [
    "# Serie de Lucas\n",
    "def lucas(n):\n",
    "    if n<0:\n",
    "        print(\"los numeros deben ser positivos\")\n",
    "    elif n == 0:\n",
    "        return 2\n",
    "    elif n == 1:\n",
    "        return 1\n",
    "    else:\n",
    "        a, b = 2, 1\n",
    "        for _ in range(2, n + 1):\n",
    "            a, b = b, a + b\n",
    "        print(f\"El n-ésimo término de la sucesión de Lucas es: {b}\")\n",
    "\n",
    "        return b\n",
    "\n",
    "\n",
    "n = int(input(\"Ingrese un número n: \"))\n",
    "resultado = lucas(n)\n"
   ]
  },
  {
   "cell_type": "code",
   "execution_count": 3,
   "metadata": {
    "colab": {
     "base_uri": "https://localhost:8080/"
    },
    "id": "_TV2uFV_VNP_",
    "outputId": "8c799955-ebda-486f-b4cc-7d193b2514bc"
   },
   "outputs": [
    {
     "name": "stdout",
     "output_type": "stream",
     "text": [
      "el factorial de 5 es 120\n",
      "el factorial de 3 es 6\n",
      "el factorial de 2 es 2\n",
      "El coeficiente Binomial de los numero (5, 3) es 10.0\n"
     ]
    }
   ],
   "source": [
    "#Coeficiente Binomial\n",
    "def binomial(n,k):\n",
    "    N = factorial(n)\n",
    "    K = factorial(k)\n",
    "    M = factorial(n-k)\n",
    "\n",
    "    #Formula que calcula el coeficiente binomial de los numeros ingresados\n",
    "    #Donde N y K son los factoriales de los respectivos numeros ingresados y M es el factorial de la resta de estos\n",
    "\n",
    "    B = N/(K*M)\n",
    "    print(f\"El coeficiente Binomial de los numero {n,k} es {B}\")\n",
    "    return B\n",
    "\n",
    "n = int(input(\"Ingrese un numero n:  \"))\n",
    "k = int(input(\"ingrese un numero menor que n:  \"))\n",
    "\n",
    "B = binomial(n,k)\n"
   ]
  }
 ],
 "metadata": {
  "colab": {
   "provenance": []
  },
  "kernelspec": {
   "display_name": "Python 3 (ipykernel)",
   "language": "python",
   "name": "python3"
  },
  "language_info": {
   "codemirror_mode": {
    "name": "ipython",
    "version": 3
   },
   "file_extension": ".py",
   "mimetype": "text/x-python",
   "name": "python",
   "nbconvert_exporter": "python",
   "pygments_lexer": "ipython3",
   "version": "3.9.12"
  }
 },
 "nbformat": 4,
 "nbformat_minor": 1
}
