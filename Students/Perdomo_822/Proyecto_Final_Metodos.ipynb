{
 "cells": [
  {
   "cell_type": "markdown",
   "metadata": {
    "id": "tAOW2sHSYVpw"
   },
   "source": [
    "\n",
    "<div align=\"center\">\n",
    "\n",
    "<h1> <b> ANIMACIÓN DE UN PÉNDULO DOBLE </b> </h1>\n",
    "\n",
    "</div>\n",
    "\n",
    "<!-- <br> le permite hacer espacios -->\n",
    "<br>\n",
    "\n",
    "<hr size=10 noshade color=\"green\">\n",
    "<p>\n",
    "<p><img alt=\"UdeA logo\" height=\"180px\" src=\"https://upload.wikimedia.org/wikipedia/commons/archive/f/fb/20161010213812%21Escudo-UdeA.svg\" align=\"left\" hspace=\"100px\" vspace=\"4px\"></p>\n",
    "\n",
    "<div align=\"right\">       \n",
    "\n",
    "<h3><i> <b>Vergara Cristian Camilo <br>\n",
    "Perdomo Molano Lucas</b> <br>  \n",
    "Universidad de Antioquia <br>\n",
    "Instituto de Física  <br>\n",
    "Cristian.vergara1@udea.edu.co <br>\n",
    "Lucas.perdomo@udea.edu.co\n",
    "</i></h3>\n",
    "</div>\n",
    "\n",
    "\n",
    "---\n"
   ]
  },
  {
   "cell_type": "markdown",
   "metadata": {
    "id": "NfaSBfwXYOC8"
   },
   "source": [
    "# PLANTEAMIENTO DEL PROBLEMA\n",
    "\n",
    "Tenemos una esfera de masa $m_1$ atada a un soporte por medio de una cuerda del longitud $L_1$, de cual se desprende una cuerda de longitud $L_2$ atada a una masa esférica $m_2$ formando un pendulo doble que permite la interacción con la tierra. Aclarando que los hilos de son de forma inextensibles y que su masa es despreciable a comparación de las masas de las esferas; Se tiene que en un tiempo $t$ determinado, los hilos forman angulos $\\theta_1$ y $θ_2$ con la vertical como se ilustra en la siguiente figura:\n",
    "\n",
    "<br>\n",
    "\n",
    "<center>\n",
    "<figure>\n",
    "  <img src=\"https://upload.wikimedia.org/wikipedia/commons/thumb/7/78/Double-Pendulum.svg/300px-Double-Pendulum.svg.png\">\n",
    "\n",
    "  <figcaption>Figura 1.1: Esquema del sistema físico. </figcaption>\n",
    "</figure>\n",
    "</center>\n",
    "<br>\n",
    "\n",
    "Ya que este sistema de pendulo doble posee dos grados de libertad y exhibe un comportamiento dinámico muy variado, vamos a tener que este movimiento estará regido por dos ecuaciones diferenciales ordinarias acopladas. Queremos desrrollar por medio de los métodos vistos en clase un GIF que nos muestre el comportamiento de este sistema físico.  El problema será desarrollado y resuelto usando un notebook en Colab Google y será codificado en Python 3.10 junto con sus distintos módulos.\n"
   ]
  },
  {
   "cell_type": "markdown",
   "metadata": {
    "id": "75WrfM08e_1O"
   },
   "source": [
    "# JUSTIFICACIÓN DEL PROBLEMA\n",
    "\n",
    "\n",
    "El problema que denotamos, tiene ciertos planteamientos fisicos y mecánicos como la conservación de energía, trabajo y la dinámica caótica y compleja que pueden tener cuerpos con cierto grado de libertad.\n",
    "\n",
    "Estos temas, tienen sus definiciones en clases de física para jóvenes universitarios que ya tienen fundamentos en movimiento armonico, ecuaciones diferenciales y métodos numéricos para resolver ecuqaaciones diferenciales con cierta complejidad analítica.\n",
    "\n",
    "Estos serán temas aplicables al común de la carrera que llevamos en curso; y nos ayudarán a comprender la física detrás de los sistemas dinámicos; mejorando las habilidades para la interpretación y aplicación de los conocimientos teóricos que ya se han desarrollado a lo largo del paso por la academia.\n",
    "\n",
    "De otra parte, el poder desarrollar estos problemas por medio de un algoritmo de python nos ayudará a mejorar nuestras habilidades de programación, aplicables a modelos físicos complejos de analizar sin ayuda de la computación y el software científico."
   ]
  },
  {
   "cell_type": "markdown",
   "metadata": {
    "id": "6IaL7VA3devg"
   },
   "source": [
    "# OBJETIVO\n",
    "\n",
    "Crear un documento en el cual se desarrolle una solución física para el problema planteado en la sección anterior, tal que por medio de un sistema de ecuaciones modelemos el comportamiento dinámico de un pendulo doble.  Usando estas ecuaciones, se creará un código en Python 3.10 que permita relizar los cálculos numéricos de integración y la graficación del movimiento.\n",
    "\n",
    "Se tiene también de forma específica:\n",
    "\n",
    "* Aplicar los conceptos de integración, derivación y resolución de ecuaciones y problemas físicos a partir de métodos numéricos.\n",
    "\n",
    "* Aprender y aplicar métodos de Lagrange para resolver sistemas de forma numérica.\n",
    "\n",
    "* Imprimir un formato tipo .GIF de la dinámica del pendulo doble, de acuerdo a unas condiciones iniciales dadas.\n",
    "\n",
    "* Repasar y desarrollar nuevos conocimientos en torno a la programación con un lenguaje Python 3.10.\n"
   ]
  },
  {
   "cell_type": "markdown",
   "metadata": {
    "id": "PhhDrbp4-mOZ"
   },
   "source": [
    "# MARCO TEÓRICO\n",
    "\n",
    "##### *EL PÉNDULO DOBLE*\n",
    "\n",
    "En general, un pendulo doble es un sistema compuesto por dos pendulos simples, con el segundo colgando de la masa pendular del superior $i.e.$ del primer pendulo. Debido a que nuestro objetivo es imprimir un GIF con el movimiento del péndulo, solamente nos interesaremos en la cinemática del problema.  \n",
    "\n",
    "De esta forma, este marcó teórico sólo se interesará por encontrar las expresiones de la posición, la velocidad y la aceleración en términos de variables dadas, como lo fueron sus ángulos iniciales, tiempo inicial, masa y longitudes.\n",
    "\n",
    "Por lo tanto, para solucionar lo planteado, nos ayudaremos de las coordenadas cartesianas dónde tenemos:\n",
    "\n",
    "* $x$  ,  $y$ := poscisión horizontal y vertical del péndulo.\n",
    "\n",
    "* $θ$  := ángulo respecto a la vertical.\n",
    "\n",
    "* $l$ := longitud del hilo.\n",
    "\n",
    "Ademas de esto vamos a asociar el subíndice 1 al pendulo superior y 2 para el pendulo inferior. Se pondrá el centro del origen de coordenadas en el punto pivote del péndulo superior y el sentido de las ordenadas crecientes se toma hacia arriba.\n",
    "\n",
    "Con todas estas consideraciones, se toma tambien que por medio de geometría podemos relacionar las coordenadas $x$ y $y$ en termino de los ángulos de la siguiente forma:\n",
    "\n",
    "$x_1$ = $l_1$  $sen$ $\\theta_1$ <br> $y_1$ = $-l_1$ $cos$ $\\theta_1$\n",
    "<br>\n",
    "<br>\n",
    "$x_2$ = $x_1$ +$l_2$ $sen$ $\\theta_2$ <br> $y_2$ = $y_1$ $-$ $l_2$ $cos$ $\\theta_2$\n",
    "<br>\n",
    "<br>\n",
    "De esta forma, podemos derivar cada una de las posiciones respecto al tiempo para encontrar ecuaciones que nos ayuden a describir la velocidad; así se tiene:\n",
    "\n",
    "\\begin{equation}\n",
    "  \\dot{x_1}  = \\dot {\\theta_1} l_1 \\cos \\theta _1\n",
    "\\end{equation}\n",
    "\n",
    "\\begin{equation}\n",
    "  \\dot{y_1}  = \\dot {\\theta_1} l_1 \\sin \\theta _1\n",
    "\\end{equation}\n",
    "\n",
    "\\begin{equation}\n",
    "  \\dot{x_2}  = \\dot {x_1} +\\dot {\\theta_2} l_2 \\cos \\theta _2\n",
    "\\end{equation}\n",
    "\n",
    "\\begin{equation}\n",
    "  \\dot{y_2}  = \\dot {y_1} +\\dot {\\theta_2} l_2 \\sin \\theta _2\n",
    "\\end{equation}\n",
    "\n",
    "Derivando por segunda vez, tenemos:\n",
    "\n",
    "\\begin{equation}\n",
    "  \\ddot{x_1}  =-  \\dot {\\theta_1}^2  l_1 \\sin \\theta _1 + \\ddot{\\theta_1} l1 \\cos\\theta_1\n",
    "\\end{equation}\n",
    "\n",
    "\\begin{equation}\n",
    "  \\ddot{y_1}  = \\dot {\\theta_1}^2  l_1 \\cos \\theta _1 + \\ddot{\\theta_1} l1 \\sin\\theta_1\n",
    "\\end{equation}\n",
    "\n",
    "\\begin{equation}\n",
    "  \\ddot{x_2}  = \\ddot {x_1} -\\dot {\\theta_2}^2 l_2 \\sin \\theta _2 + \\ddot{\\theta_2} l2 \\cos\\theta_2\n",
    "\\end{equation}\n",
    "\n",
    "\\begin{equation}\n",
    "  \\ddot{y_2}  = \\ddot {y_1} +\\dot {\\theta_2}^2 l_2 \\cos \\theta _2 + \\ddot{\\theta_2} l2 \\sin\\theta_2\n",
    "\\end{equation}\n",
    "\n",
    "Además haciendo uso de las leyes de Newton, podemos utilizar las siguientes ecuaciones:\n",
    "\n",
    "Dónde en la masa $m_1$ actúan las siguientes fuerzas:\n",
    "\\begin{equation}\n",
    "  m_1\\ddot{x_1}  = -T_1 \\sin \\theta _1 + T_2  \\sin\\theta_2\n",
    "\\end{equation}\n",
    "\n",
    "\\begin{equation}\n",
    "  m_1\\ddot{y_1}  = T_1 \\cos\\theta_1  -T_2 \\cos \\theta _2 -  m_{1} g\n",
    "\\end{equation}\n",
    "\n",
    "y en la masa $m_2$ actuan las siguientes fuerzas:\n",
    "\\begin{equation}\n",
    "  m_2\\ddot{x_2}  = -T_2 \\sin \\theta _2\n",
    "\\end{equation}\n",
    "\\begin{equation}\n",
    "  m_2\\ddot{y_2}  = T_2 \\cos \\theta _2 -  m_{1} g\n",
    "\\end{equation}\n",
    "\n",
    "Donde:\n",
    "\n",
    "* $T$ es la Tensión en el hilo.\n",
    "* $g$ es la aceleración gravitatoria.\n",
    "\n",
    "\n",
    "Con estás ecuaciones Newtoneanas es muy dificil despejar y resolver las ecuaciones de movimiento. Debido a esto, se plantea la solución del problema a travez de Lagrange.\n",
    "\n"
   ]
  },
  {
   "cell_type": "markdown",
   "metadata": {
    "id": "q1uU7ov_gt89"
   },
   "source": [
    "Para poder utilizar el método de lagrange, tenemos que acudir al concepto de Energía del sistema; en este caso vamos a tener energía potencial debido a la gravedad y energía cinética gracias al movimiento de las masas.\n",
    "\n",
    "Así, resolviendo por medio de Lagrange vamos a tener las siguiexntes ecuaciones:\n",
    "\n",
    "### Energía Potencial:\n",
    "Situando el nivel cero de energía potencial en el punto de suspensión del primer péndulo y se obtiene:\n",
    "\n",
    "\\begin{equation}\n",
    "V =-m_1 g l_1 \\cos θ_1 - m_2 g (l_1 \\cos θ_1 + l_2 \\cos θ2)\n",
    "\\end{equation}\n",
    "\\begin{equation}\n",
    "V = -(m_1+m_2)g l_1 \\cos θ_1 - m_2 g l_2 \\cos θ_2\n",
    "\\end{equation}\n",
    "\n",
    "### Energía Cinética:\n",
    "De las ecuaciones que encontramos derivando la posición y simplificando tenemos que la energía cinética es:\n",
    "\\begin{equation}\n",
    "T = \\frac{1}{2} m_1(\\dot{x_1}^2 + \\dot{y_1}^2) + \\frac{1}{2} m_2(\\dot{x_2}^2 + \\dot{y_2}^2)  \n",
    "\\end{equation}\n",
    "\n"
   ]
  },
  {
   "cell_type": "markdown",
   "metadata": {
    "id": "7gJcz5tAm48G"
   },
   "source": [
    "### Lagrange:\n",
    "Dadas las ecuaciones anteriores, tendremos que el movimiento sera por el **Lagragiano**:\n",
    "\n",
    "\\begin{equation}\n",
    "𝓛 = T - V = \\frac{1}{2} m_1(\\dot{x_1}^2 + \\dot{y_1}^2) + \\frac{1}{2} m_2(\\dot{x_2}^2 + \\dot{y_2}^2) -(m_1+m_2)g l_1 \\cos θ_1 - m_2 g l_2 \\cos θ_2\n",
    "\\end{equation}\n",
    "\n",
    "\n",
    "Y en este caso particular de un péndulo doble, utilizando las ecuaciones de lagrange se obtiene:\n",
    "\n",
    "$$\\frac{\\partial L}{\\partial \\theta_1} - \\frac{d}{dt}(\\frac{\\partial L}{\\partial \\dot{\\theta_1}}) = 0$$\n",
    "<br>\n",
    "$$\\frac{\\partial L}{\\partial \\theta_2} - \\frac{d}{dt}(\\frac{\\partial L}{\\partial \\dot{\\theta_2}}) = 0$$\n",
    "\n",
    "Las cuales se solucionaran por medio de los métodos numéricoa vistos en clase, en el desarrollo de este proyecto."
   ]
  },
  {
   "cell_type": "markdown",
   "metadata": {
    "id": "_Qcoevdu3shs"
   },
   "source": [
    "Las soluciones a este sistema tiene que dar por definición las siguientes ecuaciones diferenciales:\n",
    "\n",
    "![image.png](data:image/png;base64,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)\n",
    "\n",
    "Source: http://www.sc.ehu.es/sbweb/fisica3/oscilaciones/pendulo_doble/pendulo_doble.html"
   ]
  },
  {
   "cell_type": "markdown",
   "metadata": {
    "id": "AJd2HQC5U32U"
   },
   "source": [
    "# METODOLOGÍA Y DESARROLLO\n",
    "\n",
    "Partiendo de las definiciones físicas de la cinemática planteadas en el marco teórico, obtendremos un modelo cuyos parámetros de entrada sean la masa  $m_1$ , $m_2$, las velocidades inicales $v_1$, $v_2$,  los ángulos iniciales $\\theta_1$, $\\theta_2$,  las constantes  $l_1$,$l_2$  del hilo de los péndulos y la contante gravitacionel $g$. Además, teniendo en cuenta el concepto de energía en el sistema, llevaremos acabo el proceso de determinar la energía potencial, la energía cinética, la ecuación de **Lagrange** que determinan el movimiento; aplicando las formulas definidas en el marco teórico, despejando variables en función de las incognitas a encontrar. desarrollando así el ejercicio propuestos en un principio.\n",
    "\n",
    "\n"
   ]
  },
  {
   "cell_type": "markdown",
   "metadata": {
    "id": "w8ANjnpTVDTm"
   },
   "source": [
    "## Análisis problema\n",
    "\n",
    "Si partimos a reslover los planteamientos propuestos, nos encontramos de frente a un algoritmo mental que nos ayuda a indicar paso a paso lo que debemos de hacer; este razonamiento analítico npos ayuda a postular las siguientes ideas princiales:\n",
    "\n",
    "* Debemos segun el marco teórico, definir todos los parámetros iniciales del pendulo doble.\n",
    "\n",
    "* Por medio de la librería **sympy** definir las variables angulares y sus derivadas.\n",
    "\n",
    "* Utilizar las ecuaciones del marco teórico para poner las variables $x$ y $y$ de las posiciones en función de las variables angulares y la longitod de los hilos.\n",
    "\n",
    "* Definir de manera simbólica la energía potencial y la energía cinética para hallar el lagragiano, despejar y resolver las ecuaciones de lagrange de forma simbólica para hallar las ecuaciones del movimiento.\n",
    "\n",
    "* Utilizar los conceptos vistos en clase, para redefinir las ecuaciones diferenciales de movimiento y poder solucionarlas simbólica.\n",
    "\n",
    "* Convertir las soluciones simbólicas a funciones numéricas por medio de la librería **Numpy**, vista en el aula de clase.\n",
    "\n",
    "* Definir parámetros para la solución numérica.\n",
    "\n",
    "* Solucionar las funciónes numéricas por medio del metodo de integración **Odeint**, y almacenar todos los puntos solución para gráficos y GIF.\n",
    "\n",
    "* Calculamos las posiciones $x$ y $y$, gráficamos y exportamos el archivo .GIF al almacenamiento de python.\n",
    "\n",
    "\n",
    "\n"
   ]
  },
  {
   "cell_type": "markdown",
   "metadata": {
    "id": "bkv1J1SDoFC0"
   },
   "source": [
    "\n",
    "\n",
    "## Restricciones de la solución\n",
    "\n",
    "Podemos mirar que las variables, $m_1,m_2, v_1, v_2, l_1,l_2, \\theta_1,\\theta_2.$ iniciaales son valores de entrada en el sistema,  si las analizams podemos decir que:\n",
    "\n",
    "* Todas las entradas deben ser valores positivos.\n",
    "* La masa y las constantes de longitud de hilos no pueden ser 0.\n",
    "* Las variables, pueden ser de tipo flotante.\n",
    "* El ángulo $\\theta_1$ y $\\theta_2$ se ingresan en radianes.\n",
    "* Las velocidades deben ser introducidas en metros/segundo $(m/s)$.\n",
    "* Las masa serán tomadas en Kilogramos.\n",
    "* Todas las magnitudes serna dadas en el Sistema Internacional S.I.\n",
    "* La gravedad siempre será evaluada en su valor escalar (es decir, positivo) y será determinada por 9.8 m/s^2.\n",
    "* Se estimara como valores iniciales que la masa y la longitud del pendulo superior i.e.   $l_1, m1$ serán el doble del pendulo inferior, i.e <br>$m_2, l_2$.\n",
    "\n",
    "Podemos ahora, definir las variables de salida, $ x_1, x_2, y_1, y_2$, como vlores positivos flotantes dentro de un array. Tal que se puedan utilizar estos valores para las gráficas y la ubicación exacta en la animación GIF."
   ]
  },
  {
   "cell_type": "markdown",
   "metadata": {
    "id": "U2m2J2JS259y"
   },
   "source": [
    "# CÓDIGOS DE SOLUCIÓN"
   ]
  },
  {
   "cell_type": "code",
   "execution_count": 3,
   "metadata": {
    "colab": {
     "base_uri": "https://localhost:8080/"
    },
    "id": "inu80yYptAVs",
    "outputId": "8137bd1b-7344-4366-c538-9bbf8477908a"
   },
   "outputs": [
    {
     "name": "stdout",
     "output_type": "stream",
     "text": [
      "Requirement already satisfied: Pillow in /Users/neuman/anaconda3/lib/python3.10/site-packages (9.4.0)\r\n"
     ]
    }
   ],
   "source": [
    "#Importamos las librerías necesarias para la solución del problema\n",
    "import numpy as np\n",
    "import sympy as smp\n",
    "from scipy.integrate import odeint\n",
    "import matplotlib.pyplot as plt\n",
    "from matplotlib import animation\n",
    "from mpl_toolkits.mplot3d import Axes3D\n",
    "from matplotlib.animation import PillowWriter\n",
    "from PIL import Image\n",
    "from IPython.display import display\n",
    "\n",
    "#Instalamos la librería Pillow para poder importar y analizar imagen de problema:\n",
    "!pip install Pillow"
   ]
  },
  {
   "cell_type": "code",
   "execution_count": 4,
   "metadata": {
    "colab": {
     "base_uri": "https://localhost:8080/",
     "height": 423
    },
    "id": "s9UY_IPuD-AC",
    "outputId": "38eb2350-9601-4ebd-b3d6-1b3909529f22"
   },
   "outputs": [
    {
     "ename": "FileNotFoundError",
     "evalue": "[Errno 2] No such file or directory: '/content/doub_pen.png'",
     "output_type": "error",
     "traceback": [
      "\u001b[0;31m---------------------------------------------------------------------------\u001b[0m",
      "\u001b[0;31mFileNotFoundError\u001b[0m                         Traceback (most recent call last)",
      "Cell \u001b[0;32mIn[4], line 3\u001b[0m\n\u001b[1;32m      1\u001b[0m \u001b[38;5;66;03m# Cargar la imagen\u001b[39;00m\n\u001b[1;32m      2\u001b[0m image_path \u001b[38;5;241m=\u001b[39m \u001b[38;5;124m\"\u001b[39m\u001b[38;5;124m/content/doub_pen.png\u001b[39m\u001b[38;5;124m\"\u001b[39m\n\u001b[0;32m----> 3\u001b[0m original_image \u001b[38;5;241m=\u001b[39m \u001b[43mImage\u001b[49m\u001b[38;5;241;43m.\u001b[39;49m\u001b[43mopen\u001b[49m\u001b[43m(\u001b[49m\u001b[43mimage_path\u001b[49m\u001b[43m)\u001b[49m\n\u001b[1;32m      5\u001b[0m \u001b[38;5;66;03m# Redimensionar la imagen\u001b[39;00m\n\u001b[1;32m      6\u001b[0m width, height \u001b[38;5;241m=\u001b[39m original_image\u001b[38;5;241m.\u001b[39msize\n",
      "File \u001b[0;32m~/anaconda3/lib/python3.10/site-packages/PIL/Image.py:3227\u001b[0m, in \u001b[0;36mopen\u001b[0;34m(fp, mode, formats)\u001b[0m\n\u001b[1;32m   3224\u001b[0m     filename \u001b[38;5;241m=\u001b[39m fp\n\u001b[1;32m   3226\u001b[0m \u001b[38;5;28;01mif\u001b[39;00m filename:\n\u001b[0;32m-> 3227\u001b[0m     fp \u001b[38;5;241m=\u001b[39m \u001b[43mbuiltins\u001b[49m\u001b[38;5;241;43m.\u001b[39;49m\u001b[43mopen\u001b[49m\u001b[43m(\u001b[49m\u001b[43mfilename\u001b[49m\u001b[43m,\u001b[49m\u001b[43m \u001b[49m\u001b[38;5;124;43m\"\u001b[39;49m\u001b[38;5;124;43mrb\u001b[39;49m\u001b[38;5;124;43m\"\u001b[39;49m\u001b[43m)\u001b[49m\n\u001b[1;32m   3228\u001b[0m     exclusive_fp \u001b[38;5;241m=\u001b[39m \u001b[38;5;28;01mTrue\u001b[39;00m\n\u001b[1;32m   3230\u001b[0m \u001b[38;5;28;01mtry\u001b[39;00m:\n",
      "\u001b[0;31mFileNotFoundError\u001b[0m: [Errno 2] No such file or directory: '/content/doub_pen.png'"
     ]
    }
   ],
   "source": [
    "\n",
    "# Cargar la imagen\n",
    "image_path = \"/content/doub_pen.png\"\n",
    "original_image = Image.open(image_path)\n",
    "\n",
    "# Redimensionar la imagen\n",
    "width, height = original_image.size\n",
    "new_width = 300  # Ancho deseado\n",
    "new_height = int((new_width / width) * height)\n",
    "resized_image = original_image.resize((new_width, new_height))\n",
    "\n",
    "# Mostrar la imagen redimensionada\n",
    "display(resized_image)"
   ]
  },
  {
   "cell_type": "markdown",
   "metadata": {
    "id": "6SK4htoY8cjl"
   },
   "source": [
    "**Sección 1**: Definición de Símbolos Simbólicos para las Variables del Sistema\n",
    "\n"
   ]
  },
  {
   "cell_type": "code",
   "execution_count": 5,
   "metadata": {
    "id": "yJyxoOvp8iYc"
   },
   "outputs": [],
   "source": [
    "# En esta sección, se definen símbolos simbólicos para representar las variables del sistema.\n",
    "# Esto incluye el tiempo (t), la aceleración debida a la gravedad (g), las masas de las partículas (m1, m2),\n",
    "# y las longitudes de los brazos (L1, L2).\n",
    "t, g = smp.symbols('t g')\n",
    "m1, m2 = smp.symbols('m1 m2')\n",
    "L1, L2 = smp.symbols('L1, L2')"
   ]
  },
  {
   "cell_type": "markdown",
   "metadata": {
    "id": "wJ4Ca5U58lCP"
   },
   "source": [
    "**Sección 2**: Definición de Variables Angulares y sus Derivadas\n",
    "\n"
   ]
  },
  {
   "cell_type": "code",
   "execution_count": 6,
   "metadata": {
    "id": "VfbwOF218oHX"
   },
   "outputs": [],
   "source": [
    "# Aquí, se introducen variables angulares y sus derivadas en función del tiempo.\n",
    "# the1 y the2 representan las posiciones angulares de las partículas, mientras que the1_d y the2_d\n",
    "# son sus respectivas derivadas con respecto al tiempo.\n",
    "the1, the2 = smp.symbols(r'\\theta_1, \\theta_2', cls=smp.Function)\n",
    "the1, the2 = the1(t), the2(t)\n",
    "the1_d, the2_d = smp.diff(the1, t), smp.diff(the2, t)\n",
    "the1_dd, the2_dd = smp.diff(the1_d, t), smp.diff(the2_d, t)"
   ]
  },
  {
   "cell_type": "markdown",
   "metadata": {
    "id": "GSyAfRYH8wRz"
   },
   "source": [
    "**Sección 3**: Posiciones de las Partículas en Términos de Variables Angulares\n",
    "\n"
   ]
  },
  {
   "cell_type": "code",
   "execution_count": 7,
   "metadata": {
    "id": "DNM8etHh81Q4"
   },
   "outputs": [],
   "source": [
    "# Aquí se describen las posiciones (x, y) de las partículas en función de las variables angulares.\n",
    "# Esto se hace para representar la geometría del sistema de péndulos dobles.\n",
    "x1 = L1 * smp.sin(the1)\n",
    "y1 = -L1 * smp.cos(the1)\n",
    "x2 = L1 * smp.sin(the1) + L2 * smp.sin(the2)\n",
    "y2 = -L1 * smp.cos(the1) - L2 * smp.cos(the2)"
   ]
  },
  {
   "cell_type": "markdown",
   "metadata": {
    "id": "bkVZZwno84Xk"
   },
   "source": [
    "**Sección 4**: Energía Cinética, Potencial, y Lagrangiana del Sistema"
   ]
  },
  {
   "cell_type": "code",
   "execution_count": 8,
   "metadata": {
    "id": "PHmdZpQ-83pR"
   },
   "outputs": [],
   "source": [
    "# Aquí se definen las funciones para la energía cinética (T), la energía potencial (V), y la Lagrangiana (L) del sistema.\n",
    "# Estas funciones son cruciales para la derivación de las ecuaciones de movimiento.\n",
    "T1 = 1/2 * m1 * (smp.diff(x1, t)**2 + smp.diff(y1, t)**2)\n",
    "T2 = 1/2 * m2 * (smp.diff(x2, t)**2 + smp.diff(y2, t)**2)\n",
    "T, V = T1 + T2, m1 * g * y1 + m2 * g * y2\n",
    "L = T - V"
   ]
  },
  {
   "cell_type": "markdown",
   "metadata": {
    "id": "J9wdxjVz8_zB"
   },
   "source": [
    "**Sección 5**: Ecuaciones de Euler-Lagrange\n",
    "\n"
   ]
  },
  {
   "cell_type": "markdown",
   "metadata": {
    "id": "MA2Y7yAbBZpk"
   },
   "source": [
    "$$\\frac{\\partial L}{\\partial \\theta_1} - \\frac{d}{dt}\\frac{\\partial L}{\\partial \\dot{\\theta_1}} = 0$$\n",
    "$$\\frac{\\partial L}{\\partial \\theta_2} - \\frac{d}{dt}\\frac{\\partial L}{\\partial \\dot{\\theta_2}} = 0$$"
   ]
  },
  {
   "cell_type": "code",
   "execution_count": 9,
   "metadata": {
    "id": "J6UJ1dhM9DFc"
   },
   "outputs": [],
   "source": [
    "# En esta sección, se derivan las ecuaciones de Euler-Lagrange a partir de la Lagrangiana.\n",
    "# Estas ecuaciones son fundamentales para describir la dinámica del sistema de péndulos dobles.\n",
    "LE1 = smp.diff(L, the1) - smp.diff(smp.diff(L, the1_d), t).simplify()\n",
    "LE2 = smp.diff(L, the2) - smp.diff(smp.diff(L, the2_d), t).simplify()"
   ]
  },
  {
   "cell_type": "markdown",
   "metadata": {
    "id": "d2hbgcdm9GKz"
   },
   "source": [
    "**Sección 6**: Resolución Simbólica de las Ecuaciones de Movimiento\n",
    "\n"
   ]
  },
  {
   "cell_type": "code",
   "execution_count": 10,
   "metadata": {
    "id": "vhmlm_xI9I-t"
   },
   "outputs": [],
   "source": [
    "# Aquí se resuelven simbólicamente las ecuaciones de Euler-Lagrange para obtener las aceleraciones angulares.\n",
    "# Estas soluciones se utilizan más adelante en el código.\n",
    "sols = smp.solve([LE1, LE2], (the1_dd, the2_dd), simplify=False, rational=False)"
   ]
  },
  {
   "cell_type": "markdown",
   "metadata": {
    "id": "IT047inoBwR0"
   },
   "source": [
    "Ahora tenemos:\n",
    "\n",
    "* $\\frac{d^2 \\theta_1}{dt^2} = ...$\n",
    "* $\\frac{d^2 \\theta_2}{dt^2} = ...$\n",
    "\n",
    "Estas son dos ecuaciones diferenciales ordinarias (ODEs) de segundo orden. En Python, solo podemos resolver sistemas de ODEs de primer orden. Cualquier sistema de ODEs de segundo orden se puede convertir de la siguiente manera:\n",
    "\n",
    "1. Se define $z_1 = d\\theta_1/dt$ y $z_2=d\\theta_2/dt$\n",
    "2. Luego, $dz_1/dt = d^2\\theta_1/dt^2$ y $dz_2/dt = d^2\\theta_2/dt^2$\n",
    "\n",
    "\n",
    "Ahora obtenemos un sistema de 4 ODEs de primer orden (en lugar de 2 de segundo orden)\n",
    "\n",
    "* $d z_1/dt = ...$\n",
    "* $d\\theta_1/dt = z_1$\n",
    "* $d z_2/dt = ...$\n",
    "* $d\\theta_2/dt = z_1$\n",
    "\n",
    "\n",
    "Necesitamos convertir las expresiones simbólicas anteriores a funciones numéricas para poder usarlas en un solucionador numérico de Python. Para esto, utilizamos smp.lambdify."
   ]
  },
  {
   "cell_type": "markdown",
   "metadata": {
    "id": "p4GMw4Y49SRD"
   },
   "source": [
    "**Sección 7**: Conversión de Soluciones en Funciones Numéricas\n",
    "\n"
   ]
  },
  {
   "cell_type": "code",
   "execution_count": 11,
   "metadata": {
    "id": "ggRNtIFS9Nk0"
   },
   "outputs": [],
   "source": [
    "# En esta parte, las soluciones simbólicas se convierten en funciones numéricas.\n",
    "# Estas funciones se utilizan posteriormente en la simulación numérica.\n",
    "dz1dt_f = smp.lambdify((t, g, m1, m2, L1, L2, the1, the2, the1_d, the2_d), sols[the1_dd])\n",
    "dz2dt_f = smp.lambdify((t, g, m1, m2, L1, L2, the1, the2, the1_d, the2_d), sols[the2_dd])\n",
    "dthe1dt_f, dthe2dt_f = smp.lambdify(the1_d, the1_d), smp.lambdify(the2_d, the2_d)"
   ]
  },
  {
   "cell_type": "markdown",
   "metadata": {
    "id": "biyBs00fC_F8"
   },
   "source": [
    "Ahora define $\\vec{S} = (\\theta_1, z_1, \\theta_2, z_2)$. SI vamos a utilizar un solucionador de EDO en Python, necesitamos escribir una función que tome $\\vec{S}$ y $t$ y devuelva $d\\vec{S}/dt$. En otras palabras, necesitamos definir $d\\vec{S}/dt (\\vec{S}, t)$.\n",
    "\n",
    "* Nuestro sistema de EDOs puede ser completamente especificado utilizando $d\\vec{S}/dt$ y depende únicamente de $\\vec{S}$ y $t$."
   ]
  },
  {
   "cell_type": "markdown",
   "metadata": {
    "id": "ti4O92ct9WNo"
   },
   "source": [
    "**Sección 8**: Definición de Ecuaciones Diferenciales para Simulación Numérica"
   ]
  },
  {
   "cell_type": "code",
   "execution_count": 12,
   "metadata": {
    "id": "Cozd4OKW9bsI"
   },
   "outputs": [],
   "source": [
    "# En esta sección, se definen las ecuaciones diferenciales necesarias para resolver numéricamente el sistema.\n",
    "# Estas ecuaciones describen la evolución temporal del sistema de péndulos dobles.\n",
    "def dSdt(S, t, g, m1, m2, L1, L2):\n",
    "    the1, z1, the2, z2 = S\n",
    "    return [\n",
    "        dthe1dt_f(z1),\n",
    "        dz1dt_f(t, g, m1, m2, L1, L2, the1, the2, z1, z2),\n",
    "        dthe2dt_f(z2),\n",
    "        dz2dt_f(t, g, m1, m2, L1, L2, the1, the2, z1, z2),\n",
    "    ]"
   ]
  },
  {
   "cell_type": "markdown",
   "metadata": {
    "id": "-wRbywZ39ek-"
   },
   "source": [
    "**Sección 9**: Parámetros para la Simulación Numérica"
   ]
  },
  {
   "cell_type": "code",
   "execution_count": 13,
   "metadata": {
    "id": "8oIKwXQQ9jSt"
   },
   "outputs": [],
   "source": [
    "# En esta sección, se establecen los parámetros numéricos para la simulación.\n",
    "# Esto incluye valores específicos para la gravedad y las masas y longitudes de los péndulos.\n",
    "t_values = np.linspace(0, 40, 1001)\n",
    "g_value, m1_value, m2_value, L1_value, L2_value = 9.81, 2, 1, 2, 1"
   ]
  },
  {
   "cell_type": "code",
   "execution_count": 14,
   "metadata": {
    "colab": {
     "base_uri": "https://localhost:8080/"
    },
    "id": "8M0jvIrhEvTg",
    "outputId": "b00314db-ce62-45cf-fc27-89c2b74f2904"
   },
   "outputs": [
    {
     "data": {
      "text/plain": [
       "25"
      ]
     },
     "execution_count": 14,
     "metadata": {},
     "output_type": "execute_result"
    }
   ],
   "source": [
    "#Determinaremos el numero de valores que hay entre 0 y 1 para saber\n",
    "#cuantos fps se deben definir para que la animación .Gif\n",
    "#se genere de una forma 1 a 1 y sea fiel la animación.\n",
    "len(t_values[t_values<1])"
   ]
  },
  {
   "cell_type": "markdown",
   "metadata": {
    "id": "Z4YrwToy9nQw"
   },
   "source": [
    "**Sección 10**: Resolución Numérica de las Ecuaciones Diferenciales y Extracción de Soluciones\n",
    "\n",
    "Con las siguientes condiciones ideales:\n",
    "\n",
    "$\\theta_1 = 1$ rad<br>\n",
    "$\\theta_2 = -1$ rad<br>\n",
    "$v_1 = -3$<br>\n",
    "$v_2 = 5$"
   ]
  },
  {
   "cell_type": "code",
   "execution_count": 15,
   "metadata": {
    "id": "6Yfn3n0V9vC7"
   },
   "outputs": [],
   "source": [
    "# En esta sección, se resuelven numéricamente las ecuaciones diferenciales utilizando el método de odeint.\n",
    "# Se especifican condiciones iniciales y se obtiene una solución para las variables angulares en función del tiempo.\n",
    "initial_conditions = [1, -3, -1, 5] #S (posicion,vel, pos, vel)\n",
    "solution = odeint(dSdt, y0=initial_conditions, t=t_values, args=(g_value, m1_value, m2_value, L1_value, L2_value))"
   ]
  },
  {
   "cell_type": "markdown",
   "metadata": {
    "id": "Amxqahop9xPN"
   },
   "source": [
    "##Resultados\n",
    "**Sección 11**: Cálculo de Posiciones y Visualización Animada del Sistema"
   ]
  },
  {
   "cell_type": "code",
   "execution_count": 16,
   "metadata": {
    "colab": {
     "base_uri": "https://localhost:8080/",
     "height": 1000
    },
    "id": "MG7LI0_L-G4L",
    "outputId": "f08fd1b9-f9da-4f61-f299-64766d0412c3"
   },
   "outputs": [
    {
     "data": {
      "image/png": "[encoded data removed]",
      "text/plain": [
       "<Figure size 640x480 with 1 Axes>"
      ]
     },
     "metadata": {},
     "output_type": "display_data"
    },
    {
     "data": {
      "image/png": "[encoded data removed]",
      "text/plain": [
       "<Figure size 800x800 with 1 Axes>"
      ]
     },
     "metadata": {},
     "output_type": "display_data"
    }
   ],
   "source": [
    "# En esta parte, se calculan las posiciones x, y de las partículas utilizando las soluciones numéricas.\n",
    "# Luego, se crea una visualización animada del sistema de péndulos dobles utilizando matplotlib y animation.\n",
    "theta1_values, theta2_values = solution.T[0], solution.T[2]\n",
    "x1_values = L1_value * np.sin(theta1_values)\n",
    "y1_values = -L1_value * np.cos(theta1_values)\n",
    "x2_values = L1_value * np.sin(theta1_values) + L2_value * np.sin(theta2_values)\n",
    "y2_values = -L1_value * np.cos(theta1_values) - L2_value * np.cos(theta2_values)\n",
    "\n",
    "plt.title(\"Grafica t vs θ en un Péndulo Doble\")\n",
    "plt.plot(t_values, theta2_values, label=\"Posición $θ_2$\")\n",
    "plt.plot(t_values, theta1_values, label=\"Posición $θ_1$\")\n",
    "plt.xlabel('$t$')\n",
    "plt.ylabel('$\\\\theta$')\n",
    "plt.legend()\n",
    "plt.grid()\n",
    "fig, ax = plt.subplots(1, 1, figsize=(8, 8))\n",
    "ax.set_facecolor('k')\n",
    "ax.get_xaxis().set_ticks([])\n",
    "ax.get_yaxis().set_ticks([])\n",
    "ln1, = plt.plot([], [], 'ro--', lw=3, markersize=8)\n",
    "ax.set_ylim(-4,4)\n",
    "ax.set_xlim(-4,4)\n",
    "\n",
    "def animate(i):\n",
    "    ln1.set_data([0, x1_values[i], x2_values[i]], [0, y1_values[i], y2_values[i]])\n",
    "\n",
    "ani = animation.FuncAnimation(fig, animate, frames=len(t_values), interval=50)\n",
    "ani.save('pendulum_animation.gif', writer='pillow', fps=25)\n",
    "\n",
    "plt.show()"
   ]
  },
  {
   "cell_type": "markdown",
   "metadata": {
    "id": "nwtbjs29AGZP"
   },
   "source": [
    "# CONCLUSIONES:\n",
    "\n",
    "* Hay ciertos sistemás cinemáticos que son más sencillos de resolver a travez de los métodos de Lagrange.\n",
    "\n",
    "*  La caracterización para el sistema del péndulo doble desde el análisis de la formulación Lagragianaa, exige una asignación de coordenadas propias de la geometría del sistema, permitiendo que el concepto de movimiento independiente, vinculado a la idea de\n",
    "grado de libertad, deje asociar fácilmente y de manera intuitiva coordenadas y magnitudes tales como; configuración y movimiento acomodándose a la configuración curva en el caso del péndulo doble.\n",
    "\n",
    "* Se puede notar como la gráfica $t$ vs $\\theta$ nos proporciona como información, como el pendulo superior al tener mayor masa, tiene mayor momentum y de esta manera es dificil que el pendulo inferior altere en exceso el movimiento del superior. En la gráfica notamos como el pendilo superior i.e $m_1$ tiene un movimiento oscilatorio y periódico casi perfecto, lo cual es natural en un péndulo simple.\n",
    "\n",
    "* Se noto cómo los métodos computacionales y numéricos simplifican cálculos y hace más facil y desarrollable el modelamiento de fenómenos físicos.\n",
    "\n",
    "*  Notamos como la energía potencial esta descrita a partir de las fuerzas que realizan trabajo sobre el sistema y las variaciones de las posiciones de las masas. Para el sistema del péndulo doble en particular está definida por tres términos, en los cuales uno de esos términos da cuenta del acople de las masas, ya que muestra que el trabajo realizado por la masa $m_2$ dependerá de la variación del ángulo $𝜃_1$ de la masa $m_1$, y los otros dos términos son los trabajos de cada una de las masas variando con sus respectivas coordenadas generalizadas.\n",
    "\n",
    "*  La función Lagragiana posibilita la regulación de los cambios de configuración con los cambios en el movimiento, a partir de las ecuaciones diferenciales acopladas de Lagrange, ya que al contener toda la información de la evolución del sistema, permiten interactuar con la dinámica del sistema o con la evolución del sistema del péndulo doble plano, prediciendo el comportamiento a futuro de las masas.\n",
    "\n",
    "*  La geometrización de las ecuaciones de Lagrange muestra que en algunas condiciones el sistema acoplado del péndulo doble plano, puede presentar comportamientos semejantes al del péndulo simple.\n",
    "\n",
    "\n",
    "\n"
   ]
  },
  {
   "cell_type": "markdown",
   "metadata": {
    "id": "ZD6T_Gho4Xxt"
   },
   "source": [
    "#Bibliografía y referencias:\n",
    "\n",
    "(1) Multiplicadores de Lagrange - Wikipedia, la enciclopedia libre. https://es.wikipedia.org/wiki/Multiplicadores_de_Lagrange.<br>\n",
    "(2) Método de Lagrange - EcuRed. https://www.ecured.cu/M%C3%A9todo_de_Lagrange.<br>\n",
    "(3) Lagrange multiplier - Wikipedia. https://en.wikipedia.org/wiki/Lagrange_multiplier.<br>\n",
    "(4) Lagrangiano - Wikipedia, la enciclopedia libre. https://es.wikipedia.org/wiki/Lagrangiano.<br>\n",
    "(5) Lagrangian - Wikipedia. https://en.wikipedia.org/wiki/Lagrangian.<br>\n",
    "(6) Lagrangian mechanics - Wikipedia. https://en.wikipedia.org/wiki/Lagrangian_mechanics.<br>\n",
    "(7) Mecánica lagrangiana - Wikipedia, la enciclopedia libre. https://es.wikipedia.org/wiki/Mec%C3%A1nica_lagrangiana. <br>\n",
    "(8) Péndulo doble - Wikipedia, la enciclopedia libre. https://es.wikipedia.org/wiki/P%C3%A9ndulo_doble.<br>\n",
    "(9) Péndulo doble - Wikiwand. https://www.wikiwand.com/es/P%C3%A9ndulo_doble.<br>\n",
    "(10) Double Pendulum - myPhysicsLab. https://www.myphysicslab.com/pendulum/double-pendulum-en.html. <br>\n",
    "(11) El péndulo doble - Gipuzkoako Campusa. http://www.sc.ehu.es/sbweb/fisica3/oscilaciones/pendulo_doble/pendulo_doble.html.<br>\n",
    "(12) Hacar, A. (2009). Mecánica Lagrangeana. San francisco, Califonia: Alqua.<br>\n",
    "(13) Guzmán. J.(2016). ANÁLISIS DE UN SISTEMA DINÁMICO A PARTIR DE LA FORMULACIÓN HAMILTONIANA DE LA MECÁNICA. ESTUDIO DE CASO: EL PÉNDULO\n",
    "DOBLE PLANO VERTICAL. [Tesis de grado, Universidad Pedagógica Nacional]. Repository Pedagogica. http://repository.pedagogica.edu.co/bitstream/handle/20.500.12209/2043/TE-19404.pdf?sequence=1\n"
   ]
  },
  {
   "cell_type": "code",
   "execution_count": null,
   "metadata": {
    "id": "AY9l-G51Aio7"
   },
   "outputs": [],
   "source": []
  }
 ],
 "metadata": {
  "colab": {
   "provenance": []
  },
  "kernelspec": {
   "display_name": "Python 3 (ipykernel)",
   "language": "python",
   "name": "python3"
  },
  "language_info": {
   "codemirror_mode": {
    "name": "ipython",
    "version": 3
   },
   "file_extension": ".py",
   "mimetype": "text/x-python",
   "name": "python",
   "nbconvert_exporter": "python",
   "pygments_lexer": "ipython3",
   "version": "3.10.9"
  }
 },
 "nbformat": 4,
 "nbformat_minor": 1
}
