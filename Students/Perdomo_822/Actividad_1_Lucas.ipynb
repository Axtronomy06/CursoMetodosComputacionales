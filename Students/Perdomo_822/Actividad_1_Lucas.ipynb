{
  "nbformat": 4,
  "nbformat_minor": 0,
  "metadata": {
    "colab": {
      "provenance": []
    },
    "kernelspec": {
      "name": "python3",
      "display_name": "Python 3"
    },
    "language_info": {
      "name": "python"
    }
  },
  "cells": [
    {
      "cell_type": "code",
      "execution_count": null,
      "metadata": {
        "colab": {
          "base_uri": "https://localhost:8080/"
        },
        "id": "qzaYuHEUlfuO",
        "outputId": "2c12642a-9402-4da3-da52-d3911d80bfbf"
      },
      "outputs": [
        {
          "output_type": "stream",
          "name": "stdout",
          "text": [
            "Ingrese un número:3\n",
            "El doble factorial es: 3\n"
          ]
        }
      ],
      "source": [
        "## 1. Función doble factorial:\n",
        "\n",
        "n= int(input(\"Ingrese un número:\"))\n",
        "\n",
        "def doble_factorial(n):\n",
        "  f=1\n",
        "  if n%2 == 0:\n",
        "    a=0\n",
        "  else:\n",
        "      a=1\n",
        "  for i in range(a,n+1,2):\n",
        "    if i!= 0:\n",
        "      f *=i\n",
        "\n",
        "  return f\n",
        "\n",
        "print(\"El doble factorial es:\", doble_factorial(n))\n",
        "\n",
        "\n"
      ]
    },
    {
      "cell_type": "code",
      "source": [
        "## 2. Función YO:\n",
        "\n",
        "def lucas(n):\n",
        "  ini=[2,1]\n",
        "  for i in range(n):\n",
        "    ini.append(ini[i+1] + ini[i])\n",
        "  return ini[n]\n",
        "print(lucas(8))"
      ],
      "metadata": {
        "colab": {
          "base_uri": "https://localhost:8080/"
        },
        "id": "mAJiizEpr84U",
        "outputId": "0b943b84-08aa-4227-8f09-339e5588f7ee"
      },
      "execution_count": null,
      "outputs": [
        {
          "output_type": "stream",
          "name": "stdout",
          "text": [
            "47\n"
          ]
        }
      ]
    },
    {
      "cell_type": "code",
      "source": [
        "## 3.\n",
        "\n",
        "import math\n",
        "\n",
        "n= int(input(\"ingrese el numero n: \"))\n",
        "k= int(input(\"ingrese el numero k: \"))\n",
        "\n",
        "print(\"Hay\", math.comb(n,k), \"combinaciones posibles\" )"
      ],
      "metadata": {
        "id": "sLhIhb2evVaE",
        "colab": {
          "base_uri": "https://localhost:8080/"
        },
        "outputId": "5bae2c74-ad43-4b5d-a273-91bd2e007d30"
      },
      "execution_count": 7,
      "outputs": [
        {
          "output_type": "stream",
          "name": "stdout",
          "text": [
            "ingrese el numero n: 5\n",
            "ingrese el numero k: 3\n",
            "Hay 10 combinaciones posibles\n"
          ]
        }
      ]
    }
  ]
}