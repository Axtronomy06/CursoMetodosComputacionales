{
  "nbformat": 4,
  "nbformat_minor": 0,
  "metadata": {
    "colab": {
      "provenance": []
    },
    "kernelspec": {
      "name": "python3",
      "display_name": "Python 3"
    },
    "language_info": {
      "name": "python"
    }
  },
  "cells": [
    {
      "cell_type": "code",
      "source": [
        "import numpy as np\n",
        "import scipy as sc\n",
        "import sympy as sp\n",
        "from sympy.solvers import solve\n",
        "import matplotlib.pyplot as plt"
      ],
      "metadata": {
        "id": "OEyWBFzsl-9B"
      },
      "execution_count": 92,
      "outputs": []
    },
    {
      "cell_type": "code",
      "execution_count": 61,
      "metadata": {
        "colab": {
          "base_uri": "https://localhost:8080/"
        },
        "id": "Dw_g7cFplqNV",
        "outputId": "6435493c-6795-4863-d9f2-322520c18c73"
      },
      "outputs": [
        {
          "output_type": "execute_result",
          "data": {
            "text/plain": [
              "array([[ 1, -1,  4],\n",
              "       [ 3,  2, -1],\n",
              "       [ 2,  1, -1]])"
            ]
          },
          "metadata": {},
          "execution_count": 61
        }
      ],
      "source": [
        "M = np.array([[1, -1, 4],\n",
        "               [3, 2, -1],\n",
        "               [2, 1, -1]])\n",
        "M"
      ]
    },
    {
      "cell_type": "code",
      "source": [
        "#Definimos x simbólica para hallas eigenvalores de la Matrix M.\n",
        "x = sp.symbols(\"x\")\n",
        "\n",
        "#Se define la matrix identidad por x para eigenvaores\n",
        "N = np.array([[x,0,0], [0,x,0], [0,0,x]])\n",
        "#Se halla la resta entre la mmatrix y la identidad por x y se imprime matrix resultante\n",
        "A= M-N\n",
        "A\n"
      ],
      "metadata": {
        "colab": {
          "base_uri": "https://localhost:8080/"
        },
        "id": "8fTDThVYtWuu",
        "outputId": "a7311466-8ee0-47d8-93b1-629cb962b177"
      },
      "execution_count": 62,
      "outputs": [
        {
          "output_type": "execute_result",
          "data": {
            "text/plain": [
              "array([[1 - x, -1, 4],\n",
              "       [3, 2 - x, -1],\n",
              "       [2, 1, -x - 1]], dtype=object)"
            ]
          },
          "metadata": {},
          "execution_count": 62
        }
      ]
    },
    {
      "cell_type": "code",
      "source": [
        "#Calculando determinantes de una matriz cuadrada:\n",
        "def detc(N):\n",
        "  a = N[0,0] * N[1,1]\n",
        "  b = N[1,0] * N[0,1]\n",
        "  return a-b\n",
        "\n",
        "#Se halla el determinante de la matix resultante, apoyandonos en la función para determinantes de 2x2.\n",
        "P = - (A[0,0]*detc(A[1:3:1, 1:3:1]) - A[0,1]*detc(A[1:3:1, 0:3:2]) + A[0,2] * detc(A[1:3:1, 0:2:1]))\n",
        "P"
      ],
      "metadata": {
        "colab": {
          "base_uri": "https://localhost:8080/",
          "height": 38
        },
        "id": "2x4IB8OCvJbr",
        "outputId": "5aafae8c-e8ef-475b-c4c2-5a75e93639e2"
      },
      "execution_count": 63,
      "outputs": [
        {
          "output_type": "execute_result",
          "data": {
            "text/plain": [
              "-5*x - (1 - x)*((2 - x)*(-x - 1) + 1) + 5"
            ],
            "text/latex": "$\\displaystyle - 5 x - \\left(1 - x\\right) \\left(\\left(2 - x\\right) \\left(- x - 1\\right) + 1\\right) + 5$"
          },
          "metadata": {},
          "execution_count": 63
        }
      ]
    },
    {
      "cell_type": "code",
      "source": [
        "P = sp.simplify(P)\n",
        "print(\"El poilinomio carácterístico hallado es: \", P)\n",
        "print(\"El polinomio característico que nos arroja numpy es: \", np.poly(M))"
      ],
      "metadata": {
        "id": "pfzickFMwFi6",
        "colab": {
          "base_uri": "https://localhost:8080/"
        },
        "outputId": "a189c115-4d87-491e-bd77-9ebd6031db84"
      },
      "execution_count": 64,
      "outputs": [
        {
          "output_type": "stream",
          "name": "stdout",
          "text": [
            "El poilinomio carácterístico hallado es:  x**3 - 2*x**2 - 5*x + 6\n",
            "El polinomio característico que nos arroja numpy es:  [ 1. -2. -5.  6.]\n"
          ]
        }
      ]
    },
    {
      "cell_type": "code",
      "source": [
        "autovals = solve(P,x)\n",
        "print('Los autovalores hallados manualmente son: ' , autovals)\n",
        "print('Lo sautovalores que nos da la libreria de numpy son: ', np.linalg.eig(M)[0] )"
      ],
      "metadata": {
        "colab": {
          "base_uri": "https://localhost:8080/"
        },
        "id": "McxOlSB_7Psj",
        "outputId": "cf160df2-305e-4670-8b0d-5163b10d59f5"
      },
      "execution_count": 65,
      "outputs": [
        {
          "output_type": "stream",
          "name": "stdout",
          "text": [
            "Los autovalores hallados manualmente son:  [-2, 1, 3]\n",
            "Lo sautovalores que nos da la libreria de numpy son:  [ 3. -2.  1.]\n"
          ]
        }
      ]
    },
    {
      "cell_type": "code",
      "source": [
        "# Encontramos los autovectores para la matriz P:\n",
        "N= np.zeros((len(M), len(M), len(M)))\n",
        "B = np.zeros((len(M),len(M),len(M)))\n",
        "for i in range(len(autovals)):\n",
        "  A_n = lambda x: ([[x,0,0], [0,x,0], [0,0,x]])\n",
        "  N[i] = (np.array(A_n(autovals[i])))\n",
        "  B[i] = M - N[i]\n",
        "\n",
        "# Hallamos la matriz de autovectores P:\n",
        "P= np.zeros((len(M),len(M)))\n",
        "for i in range(len(M)):\n",
        "  L = sp.Matrix(B[i])\n",
        "  x = L.nullspace()\n",
        "  x= np.ravel(x)\n",
        "  P[:,i] = x\n",
        "\n"
      ],
      "metadata": {
        "id": "MNveE4r0BVyF"
      },
      "execution_count": 66,
      "outputs": []
    },
    {
      "cell_type": "code",
      "source": [
        "#Hallamos la inversa de P:\n",
        "P_inv = np.linalg.inv(P)\n",
        "#Convertimos todo a matrices de sympy para mejorar cálculos:\n",
        "p_inv = sp.Matrix(P_inv)\n",
        "M =  sp.Matrix(M)\n",
        "P = sp.Matrix(P)\n",
        "#Hallamos y retornamos la matriz diagonal:\n",
        "D = P_inv*M*P\n",
        "D"
      ],
      "metadata": {
        "colab": {
          "base_uri": "https://localhost:8080/",
          "height": 78
        },
        "id": "wNJv5dycwAH4",
        "outputId": "947bb765-191c-4073-bd7a-ae4df1307e3d"
      },
      "execution_count": 67,
      "outputs": [
        {
          "output_type": "execute_result",
          "data": {
            "text/plain": [
              "Matrix([\n",
              "[                 -2.0, 4.44089209850063e-16,                     0],\n",
              "[-1.11022302462516e-16,                  1.0, -1.11022302462516e-16],\n",
              "[                    0,                    0,                   3.0]])"
            ],
            "text/latex": "$\\displaystyle \\left[\\begin{matrix}-2.0 & 4.44089209850063 \\cdot 10^{-16} & 0\\\\-1.11022302462516 \\cdot 10^{-16} & 1.0 & -1.11022302462516 \\cdot 10^{-16}\\\\0 & 0 & 3.0\\end{matrix}\\right]$"
          },
          "metadata": {},
          "execution_count": 67
        }
      ]
    },
    {
      "cell_type": "markdown",
      "source": [
        "# Actividad 2"
      ],
      "metadata": {
        "id": "0VwZZvwZbr3x"
      }
    },
    {
      "cell_type": "code",
      "source": [
        "A = np.matrix([[1, -2],\n",
        "               [-2, 3]])\n",
        "A"
      ],
      "metadata": {
        "colab": {
          "base_uri": "https://localhost:8080/"
        },
        "id": "1BoMBwlqnb8D",
        "outputId": "975603fb-83f1-4e8f-ddcc-11202394cc7d"
      },
      "execution_count": 68,
      "outputs": [
        {
          "output_type": "execute_result",
          "data": {
            "text/plain": [
              "matrix([[ 1, -2],\n",
              "        [-2,  3]])"
            ]
          },
          "metadata": {},
          "execution_count": 68
        }
      ]
    },
    {
      "cell_type": "code",
      "source": [
        "#Ecuación de la Hipérbola y grafica de la hipérbola:\n",
        "# Definir los valores de x y y\n",
        "x = np.linspace(-10, 10, 1000)\n",
        "y = np.linspace(-10, 10, 1000)\n",
        "\n",
        "# Crear una cuadrícula de coordenadas\n",
        "X, Y = np.meshgrid(x, y)\n",
        "\n",
        "# Definir la ecuación de la parábola\n",
        "F = X**2 - 4*X*Y + 3*Y**2 - 6\n",
        "\n",
        "# Graficar la parábola por medio de curva de nivel counter.\n",
        "plt.contour(X, Y, F, levels=[0])\n",
        "\n",
        "# Agregar etiquetas y título\n",
        "plt.xlabel('x')\n",
        "plt.ylabel('y')\n",
        "plt.title('Hipérbola')\n",
        "plt.show()\n",
        "\n",
        "\n",
        ""
      ],
      "metadata": {
        "colab": {
          "base_uri": "https://localhost:8080/",
          "height": 472
        },
        "id": "8jT5LwUQaBwJ",
        "outputId": "b72d79c8-a62e-43e2-ac09-fba6a455af11"
      },
      "execution_count": 50,
      "outputs": [
        {
          "output_type": "display_data",
          "data": {
            "text/plain": [
              "<Figure size 640x480 with 1 Axes>"
            ],
            "image/png": "[encoded data removed]"
          },
          "metadata": {}
        }
      ]
    },
    {
      "cell_type": "code",
      "source": [
        "#Diagonalización de A:\n",
        "A = np.matrix([[1, -2],\n",
        "               [-2, 3]])\n",
        "A"
      ],
      "metadata": {
        "colab": {
          "base_uri": "https://localhost:8080/"
        },
        "id": "SqY46hGZgzNd",
        "outputId": "8974a063-1c6d-49c9-c4c9-8a9fcf42e1b7"
      },
      "execution_count": 51,
      "outputs": [
        {
          "output_type": "execute_result",
          "data": {
            "text/plain": [
              "matrix([[ 1, -2],\n",
              "        [-2,  3]])"
            ]
          },
          "metadata": {},
          "execution_count": 51
        }
      ]
    },
    {
      "cell_type": "code",
      "source": [
        "#Encontramos la matriz Q de auto vectores:\n",
        "Q = np.linalg.eig(A)[1]\n",
        "print(\"La matriz de eigenvectores Q es: \")\n",
        "print(Q)\n",
        "\n",
        "#Encontramos la mattriz inversa de Q:\n",
        "Q_inv = np.linalg.inv(Q)\n",
        "print(\"La matriz inversa de Q es: \")\n",
        "print(Q_inv)\n"
      ],
      "metadata": {
        "colab": {
          "base_uri": "https://localhost:8080/"
        },
        "id": "sk6TTo2HiGsJ",
        "outputId": "bf686a52-1727-48d5-85c2-52fbf7b2d45d"
      },
      "execution_count": 52,
      "outputs": [
        {
          "output_type": "stream",
          "name": "stdout",
          "text": [
            "La matriz de eigenvectores Q es: \n",
            "[[-0.85065081  0.52573111]\n",
            " [-0.52573111 -0.85065081]]\n",
            "La matriz inversa de Q es: \n",
            "[[-0.85065081 -0.52573111]\n",
            " [ 0.52573111 -0.85065081]]\n"
          ]
        }
      ]
    },
    {
      "cell_type": "code",
      "source": [
        "#Hallamos la matriz diagonal D:\n",
        "D = Q_inv*A*Q\n",
        "D.round(4)\n"
      ],
      "metadata": {
        "colab": {
          "base_uri": "https://localhost:8080/"
        },
        "id": "C1rKyiy5ikPz",
        "outputId": "995ad0a0-5fab-4984-b698-e9dd9321e7c6"
      },
      "execution_count": 53,
      "outputs": [
        {
          "output_type": "execute_result",
          "data": {
            "text/plain": [
              "array([[-0.2361, -0.    ],\n",
              "       [-0.    ,  4.2361]])"
            ]
          },
          "metadata": {},
          "execution_count": 53
        }
      ]
    },
    {
      "cell_type": "code",
      "source": [],
      "metadata": {
        "id": "jKEhtoGZpah8"
      },
      "execution_count": 70,
      "outputs": []
    }
  ]
}