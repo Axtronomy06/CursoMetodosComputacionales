{
  "cells": [
    {
      "cell_type": "markdown",
      "metadata": {
        "id": "kKNBYkSAIO_-"
      },
      "source": [
        "<a href=\"https://colab.research.google.com/github/hernansalinas/autogrades/blob/main/Laboratorios_Taller/Lab02_v2_python_basico02.ipynb\" target=\"_parent\"><img src=\"https://colab.research.google.com/assets/colab-badge.svg\" alt=\"Open In Colab\"/></a>\n",
        "\n",
        "\n",
        "# Laboratorio 02\n",
        "### Métodos computacionales para físicos  y astrónomos\n",
        "### Universidad de Antioquia\n",
        "### Prof: Hernan D. Salinas Jiménez\n",
        "\n"
      ]
    },
    {
      "cell_type": "code",
      "execution_count": null,
      "metadata": {
        "colab": {
          "base_uri": "https://localhost:8080/"
        },
        "id": "TFmOxrpqWCiE",
        "outputId": "f9879aa3-9d6b-4f77-f0a0-9c13e8e80b2a"
      },
      "outputs": [
        {
          "output_type": "stream",
          "name": "stdout",
          "text": [
            "Cloning into 'autogradesMetodosComputacionales'...\n",
            "remote: Enumerating objects: 600, done.\u001b[K\n",
            "remote: Counting objects: 100% (216/216), done.\u001b[K\n",
            "remote: Compressing objects: 100% (142/142), done.\u001b[K\n",
            "remote: Total 600 (delta 120), reused 128 (delta 73), pack-reused 384\u001b[K\n",
            "Receiving objects: 100% (600/600), 38.60 MiB | 28.87 MiB/s, done.\n",
            "Resolving deltas: 100% (314/314), done.\n"
          ]
        }
      ],
      "source": [
        "# Ejecutar esta celda antes de cada laboratorio\n",
        "!git clone https://github.com/hernansalinas/autogradesMetodosComputacionales.git"
      ]
    },
    {
      "cell_type": "code",
      "execution_count": null,
      "metadata": {
        "id": "5tCaVJVzIRe3"
      },
      "outputs": [],
      "source": [
        "# Ejecutar esta celda antes de cada laboratorio\n",
        "path=\"autogradesMetodosComputacionales/Laboratorios_Taller/libs\"\n",
        "pathL=\"autogradesMetodosComputacionales/Laboratorios_Taller/libs/Lab_02\"\n",
        "%run -i {path}/libUnitTest.py"
      ]
    },
    {
      "cell_type": "markdown",
      "metadata": {
        "id": "Y94jQ_tzdU6l"
      },
      "source": [
        "### Teoria de números\n",
        "\n",
        "\n",
        "Diseñar un programa en el que entrado  un numero `a`  retorne una variable booleana True or false si cumple que es:\n",
        "\n",
        "2. [Números defectivo](https://es.wikipedia.org/wiki/Número_defectivo) : la suma de los divisores propios es menor que el número.\n",
        "\n",
        "  La rutina se deberá llamar números_defectivos\n",
        "\n",
        "\n",
        "\n",
        "3. [Números abundantes](https://es.wikipedia.org/wiki/Número_abundante): la suma de los divisores es mayor que el número.\n",
        "\n",
        "  La rutina se deberá llamar números_abundantes\n",
        "\n",
        "\n",
        "\n",
        "4. [Números semiperfectos](https://es.wikipedia.org/wiki/N%C3%BAmero_semiperfecto) la suma de todos o algunos de los divisores propios es igual al número.\n",
        "\n",
        "  La rutina se debera llamar numeros_semiperfectos\n",
        "\n",
        "5. [Números perfectos](https://es.wikipedia.org/wiki/N%C3%BAmero_perfecto) la suma de todos sus divisores propios, excepto el mismo numero, es igual al número.\n",
        "\n",
        "   La rutina se deberá llamar numeros_perfectos\n",
        "\n",
        "\n",
        "6. [Números primos](https://es.wikipedia.org/wiki/N%C3%BAmero_primo) el número es divisible unicamente por sí mismo y por 1.\n",
        "   La rutina se deberá llamar numeros_primos\n",
        "\n",
        "\n",
        "Problema no obligatorio:\n",
        "\n",
        "P1. Retornar los 30 primeros números de cada clase"
      ]
    },
    {
      "cell_type": "code",
      "source": [
        "#2 Numeros defectivos:\n",
        "# El pensado es hacer un ciclo dónde se divida el numero a entre todos los numeros menores a \"a\", determinando que el modulo sea 0 para que sea divisible.\n",
        "\n",
        "def numeros_defectivos(a):\n",
        "\n",
        "  list = []\n",
        "  s=0\n",
        "\n",
        "  for i in range(2,a):\n",
        "    if a%i == 0:\n",
        "\n",
        "      list.append(i)\n",
        "    for j in list:\n",
        "      s += j\n",
        "\n",
        "  if s < a:\n",
        "    return True\n",
        "\n",
        "  else:\n",
        "    return False\n",
        "\n",
        "\n",
        "num= int(input(\"Ingrese el Num: \"))\n",
        "\n",
        "print(numeros_defectivos(num))\n"
      ],
      "metadata": {
        "id": "wpma8yPxCUBF",
        "outputId": "941d7a87-7467-4101-a2d5-8b91ce0e9670",
        "colab": {
          "base_uri": "https://localhost:8080/"
        }
      },
      "execution_count": null,
      "outputs": [
        {
          "output_type": "stream",
          "name": "stdout",
          "text": [
            "Ingrese el Num: 6\n",
            "False\n"
          ]
        }
      ]
    },
    {
      "cell_type": "code",
      "source": [
        "#3. Números Abundantes:\n",
        "\n",
        "def numeros_abundantes(a):\n",
        "\n",
        "  list = []\n",
        "  s=0\n",
        "\n",
        "  for i in range(2,a):\n",
        "    if a%i == 0:\n",
        "\n",
        "      list.append(i)\n",
        "\n",
        "  for j in list:\n",
        "      s += j\n",
        "\n",
        "  if s > a:\n",
        "    return True\n",
        "\n",
        "  else:\n",
        "    return False\n",
        "\n",
        "num= int(input(\"Ingrese el Num: \"))\n",
        "\n",
        "print(numeros_abundantes(num))"
      ],
      "metadata": {
        "id": "ZxFya5bBLThO",
        "outputId": "d2ca1982-c9ac-4357-ea94-e36931a6d58c",
        "colab": {
          "base_uri": "https://localhost:8080/"
        }
      },
      "execution_count": null,
      "outputs": [
        {
          "output_type": "stream",
          "name": "stdout",
          "text": [
            "Ingrese el Num: 5\n",
            "False\n"
          ]
        }
      ]
    },
    {
      "cell_type": "code",
      "source": [
        "# 4. Numeros semiperfectos:\n",
        "\n",
        "import itertools            #Se importa libreria para hacer combinaciones posibles en uniterable\n",
        "\n",
        "#Se crea función para calcular divisares de un número.\n",
        "def calcular_divisores(numero):\n",
        "    divisores = []\n",
        "    for i in range(1, numero):\n",
        "        if numero % i == 0:\n",
        "            divisores.append(i)\n",
        "    return divisores\n",
        "\n",
        "#Se verifica si el número es imperfecto por medio de la función verificar_semiperfecto:\n",
        "def verificar_semiperfecto(numero):\n",
        "    divisores = calcular_divisores(numero)\n",
        "    for i in range(1, len(divisores) + 1):\n",
        "        for j in itertools.combinations(divisores, i):\n",
        "            if sum(j) == numero:\n",
        "                return True\n",
        "    return False\n",
        "\n",
        "#se pide el numero y se retorna el valor de verdad.\n",
        "numero = int(input(\"Ingrese un número: \"))\n",
        "if verificar_semiperfecto(numero):\n",
        "    print(\"El número es semiperfecto\")\n",
        "else:\n",
        "    print(\"El número no es semiperfecto\")\n",
        "\n"
      ],
      "metadata": {
        "id": "o7qyJ8UXMUi8",
        "colab": {
          "base_uri": "https://localhost:8080/"
        },
        "outputId": "36134d4f-9f4c-4e21-97c7-9b091340e4ed"
      },
      "execution_count": null,
      "outputs": [
        {
          "output_type": "stream",
          "name": "stdout",
          "text": [
            "Ingrese un número: 18\n",
            "El número es semiperfecto\n"
          ]
        }
      ]
    },
    {
      "cell_type": "code",
      "source": [
        "# 5. Numeros Perfectos:\n",
        "\n",
        "def numeros_perfectos(a):\n",
        "\n",
        "  list = []\n",
        "  s=0\n",
        "\n",
        "  for i in range(1,a):\n",
        "    if a%i == 0:\n",
        "\n",
        "      list.append(i)\n",
        "\n",
        "  for j in list:\n",
        "      s += j\n",
        "\n",
        "  if s == a:\n",
        "    return True\n",
        "\n",
        "  else:\n",
        "    return False\n",
        "\n",
        "\n",
        "num= int(input(\"Ingrese el Num: \"))\n",
        "\n",
        "print(numeros_perfectos(num))"
      ],
      "metadata": {
        "id": "MD0arLz4NaN4",
        "outputId": "3543a896-2f00-4483-9336-bc504966d4d2",
        "colab": {
          "base_uri": "https://localhost:8080/"
        }
      },
      "execution_count": null,
      "outputs": [
        {
          "output_type": "stream",
          "name": "stdout",
          "text": [
            "Ingrese el Num: 28\n",
            "True\n"
          ]
        }
      ]
    },
    {
      "cell_type": "code",
      "source": [
        "# Numeros primos.\n",
        "\n",
        "\n",
        "def numeros_primosos(a):\n",
        "\n",
        "  s=0\n",
        "\n",
        "  for i in range(2,a):\n",
        "    if a%i == 0:\n",
        "      s += 1\n",
        "\n",
        "  if  s == 0:\n",
        "    return True\n",
        "\n",
        "  else:\n",
        "    return False\n",
        "\n",
        "\n",
        "num= int(input(\"Ingrese el Num: \"))\n",
        "\n",
        "print(numeros_primos(num))"
      ],
      "metadata": {
        "id": "HPEvb4mJPl2B",
        "outputId": "1c6227b7-4a2c-4f11-f69b-72eb4a861575",
        "colab": {
          "base_uri": "https://localhost:8080/"
        }
      },
      "execution_count": null,
      "outputs": [
        {
          "output_type": "stream",
          "name": "stdout",
          "text": [
            "Ingrese el Num: 11\n",
            "True\n"
          ]
        }
      ]
    },
    {
      "cell_type": "code",
      "execution_count": null,
      "metadata": {
        "colab": {
          "base_uri": "https://localhost:8080/",
          "height": 215
        },
        "id": "XSyDVlnzi9KL",
        "outputId": "9d2357ff-4975-43e5-9bd6-fb2e3a2aa6d7"
      },
      "outputs": [
        {
          "output_type": "display_data",
          "data": {
            "text/plain": [
              "<IPython.core.display.HTML object>"
            ],
            "text/html": [
              "<style>\n",
              "  table { text-align: left; border-collapse: collapse; margin: 1em; caption-side: bottom; font-family: Sans-Serif; font-size: 12px}\n",
              "  caption { text-align: left; padding: 5px }\n",
              "  th, td { border: 2px solid #BFC9CA; padding: 5px }\n",
              "  th { background-color: #BFC9CA }\n",
              "  .passed { background-color: #76D7C4 }\n",
              "  .failed { background-color: #EC7063 }\n",
              "  .skipped { background-color: #EDBB99 }\n",
              "  .score { background-color: #7DCEA0 }\n",
              "  .results .points { display: none }\n",
              "  .results .message { display: block; font-size:smaller; color:#D35400 }\n",
              "  .results .note { display: block; font-size:smaller; font-decoration:italics }\n",
              "  .results .passed::before  { content: \"Passed\" } \n",
              "  .results .skipped::before  { content: \"Skipped\" } \n",
              "  .results .failed::before  { content: \"Failed\" } \n",
              "  .grade .passed  .message:empty::before { content:\"Passed\" }\n",
              "  .grade .failed  .message:empty::before { content:\"Failed\" }\n",
              "  .grade .skipped .message:empty::before { content:\"Skipped\" }   \n",
              "</style>\n",
              "<table class='results'>\n",
              "  <th class='test'>Test</th><th class='result'>Result</th></tr>\n",
              "<tr>\n",
              "  <td class='test'>\n",
              "    Números defectivos, la variable debe ser booleana  \n",
              "    <div class='message'>Done</div>\n",
              "  </td>\n",
              "  <td class='result passed'></td>\n",
              "</tr>\n",
              "<tr>\n",
              "  <td class='test'>\n",
              "    Comprobando si el número 5 es defectivo   \n",
              "    <div class='message'>Done</div>\n",
              "  </td>\n",
              "  <td class='result passed'></td>\n",
              "</tr>\n",
              "<tr>\n",
              "  <td class='test'>\n",
              "    Comprobando si el 6 es un número es defectivo   \n",
              "    <div class='message'>Done</div>\n",
              "  </td>\n",
              "  <td class='result passed'></td>\n",
              "</tr>  <tr><th class='score'>Total Points</th><th class='score'>3</th></tr></table>\n"
            ]
          },
          "metadata": {}
        }
      ],
      "source": [
        "%run -i {pathL}/test02.py"
      ]
    },
    {
      "cell_type": "code",
      "execution_count": null,
      "metadata": {
        "colab": {
          "base_uri": "https://localhost:8080/"
        },
        "id": "DfHfIk0DkQev",
        "outputId": "dc3284aa-297b-4e1c-9e13-c886591f5dbc"
      },
      "outputs": [
        {
          "output_type": "stream",
          "name": "stdout",
          "text": [
            "La función no ha sido definda o el numero de argumento no es el adecuado\n"
          ]
        }
      ],
      "source": [
        "%run -i {pathL}/test03.py"
      ]
    },
    {
      "cell_type": "code",
      "execution_count": null,
      "metadata": {
        "id": "MJzLOXxHqKrz",
        "outputId": "eacad09d-fb52-4db3-ad6a-68efc0e9eae3",
        "colab": {
          "base_uri": "https://localhost:8080/"
        }
      },
      "outputs": [
        {
          "output_type": "stream",
          "name": "stdout",
          "text": [
            "La función no ha sido definda o el numero de argumento no es el adecuado\n"
          ]
        }
      ],
      "source": [
        "%run -i {pathL}/test04.py"
      ]
    },
    {
      "cell_type": "code",
      "execution_count": null,
      "metadata": {
        "id": "m9bNF9I6qMnD",
        "outputId": "b64c8bae-2527-48ac-97f5-336686bc3323",
        "colab": {
          "base_uri": "https://localhost:8080/"
        }
      },
      "outputs": [
        {
          "output_type": "stream",
          "name": "stdout",
          "text": [
            "La función no ha sido definda o el numero de argumento no es el adecuado\n"
          ]
        }
      ],
      "source": [
        "%run -i {pathL}/test05.py"
      ]
    },
    {
      "cell_type": "code",
      "execution_count": null,
      "metadata": {
        "id": "4uRbgtG8qN25"
      },
      "outputs": [],
      "source": [
        "%run -i {pathL}/test06.py"
      ]
    },
    {
      "cell_type": "markdown",
      "metadata": {
        "id": "WXOT_ssoJh8x"
      },
      "source": [
        "\n",
        "7. Diseñar un programa en el que entrado dos números `a`  y `b` retorne una variable booleana **True** o **false**.\n",
        "\n",
        "  [Números amigos](https://es.wikipedia.org/wiki/N%C3%BAmeros_amigos) `a` y `b` tales que a es la suma de los divisores propios de `b` y viceversa.\n",
        "    La rutina se debera llamar numeros_amigos\n",
        "\n",
        "\n",
        "\n",
        "\n",
        "P2. Retornar los 10 primeros pares de numeros perfectos, semiperfectos, amigos\n",
        "\n"
      ]
    },
    {
      "cell_type": "code",
      "source": [
        "#Para calcular los números amigos, primero crearemos una función que nos retorne los divisores primos de cada npumero.\n",
        "\n",
        "def calcular_divisores(num):\n",
        "    divisores = []\n",
        "    for i in range(1, num):\n",
        "        if num % i == 0:\n",
        "            divisores.append(i)\n",
        "    return divisores\n",
        "\n",
        "#Verificamos si los números son amigos:\n",
        "def numeros_amigos(a,b):\n",
        "  divi1 = calcular_divisores(a)\n",
        "  divi2 = calcular_divisores(b)\n",
        "\n",
        "  if sum(divi1) == b and sum(divi2)== a:\n",
        "    return True\n",
        "  else:\n",
        "    False\n",
        "\n",
        "#se piden los numeros y se retorna el valor de verdad.\n",
        "n1 = int(input(\"Ingrese el 1er número: \"))\n",
        "n2 = int(input(\"Ingrese el 2do número: \"))\n",
        "if numeros_amigos(n1,n2):\n",
        "    print(\"Los números son amigos\")\n",
        "else:\n",
        "    print(\"Los números no son amigos\")\n",
        "\n",
        "\n",
        "\n",
        "\n"
      ],
      "metadata": {
        "id": "GNaOZIhcgf1O",
        "colab": {
          "base_uri": "https://localhost:8080/"
        },
        "outputId": "90b634b7-1744-4201-f31f-cc1ac99ed57d"
      },
      "execution_count": null,
      "outputs": [
        {
          "output_type": "stream",
          "name": "stdout",
          "text": [
            "Ingrese el 1er número: 620\n",
            "Ingrese el 2do número: 292\n",
            "Los números no son amigos\n"
          ]
        }
      ]
    },
    {
      "cell_type": "code",
      "execution_count": null,
      "metadata": {
        "colab": {
          "base_uri": "https://localhost:8080/",
          "height": 215
        },
        "id": "VKsxuvsll5gm",
        "outputId": "2956446f-196b-49ec-b50c-28700c32b6ce"
      },
      "outputs": [
        {
          "output_type": "display_data",
          "data": {
            "text/plain": [
              "<IPython.core.display.HTML object>"
            ],
            "text/html": [
              "<style>\n",
              "  table { text-align: left; border-collapse: collapse; margin: 1em; caption-side: bottom; font-family: Sans-Serif; font-size: 12px}\n",
              "  caption { text-align: left; padding: 5px }\n",
              "  th, td { border: 2px solid #BFC9CA; padding: 5px }\n",
              "  th { background-color: #BFC9CA }\n",
              "  .passed { background-color: #76D7C4 }\n",
              "  .failed { background-color: #EC7063 }\n",
              "  .skipped { background-color: #EDBB99 }\n",
              "  .score { background-color: #7DCEA0 }\n",
              "  .results .points { display: none }\n",
              "  .results .message { display: block; font-size:smaller; color:#D35400 }\n",
              "  .results .note { display: block; font-size:smaller; font-decoration:italics }\n",
              "  .results .passed::before  { content: \"Passed\" } \n",
              "  .results .skipped::before  { content: \"Skipped\" } \n",
              "  .results .failed::before  { content: \"Failed\" } \n",
              "  .grade .passed  .message:empty::before { content:\"Passed\" }\n",
              "  .grade .failed  .message:empty::before { content:\"Failed\" }\n",
              "  .grade .skipped .message:empty::before { content:\"Skipped\" }   \n",
              "</style>\n",
              "<table class='results'>\n",
              "  <th class='test'>Test</th><th class='result'>Result</th></tr>\n",
              "<tr>\n",
              "  <td class='test'>\n",
              "    Números amigos, la variable debe ser booleana  \n",
              "    <div class='message'>Done</div>\n",
              "  </td>\n",
              "  <td class='result passed'></td>\n",
              "</tr>\n",
              "<tr>\n",
              "  <td class='test'>\n",
              "    Comprobando si los números (1184, 1210) son amigos   \n",
              "    <div class='message'>Done</div>\n",
              "  </td>\n",
              "  <td class='result passed'></td>\n",
              "</tr>\n",
              "<tr>\n",
              "  <td class='test'>\n",
              "    Comprobando si  (620, 292) no es un número amigo   \n",
              "    <div class='message'>Error: False != None : #-The expect value is False and the functions test is None\n",
              "</div>\n",
              "  </td>\n",
              "  <td class='result failed'></td>\n",
              "</tr>  <tr><th class='score'>Total Points</th><th class='score'>2</th></tr></table>\n"
            ]
          },
          "metadata": {}
        }
      ],
      "source": [
        "%run -i {pathL}/test07.py"
      ]
    },
    {
      "cell_type": "markdown",
      "metadata": {
        "id": "VKXdheSdAuS_"
      },
      "source": [
        "8 Construir un programa en el que  entrado un arreglo de números se  ordenen de forma ascendente, Ver algoritmo\n",
        "[Quicksort](https://es.wikipedia.org/wiki/Quicksort).\n",
        "\n",
        "\n",
        "```python\n",
        "\n",
        "\n",
        "<<< v = [22, 32, 42, 12, 22, 31, 41, 11, 12, 232, 24, 12, 22]\n",
        "<<< def quicksort(v):\n",
        "\n",
        "<<<     return v\n",
        "<<< w = print(quicksort(v))\n",
        "<<< [11, 12, 12, 12, 22, 22, 22, 24, 31, 32, 41, 42, 232]\n",
        "\n",
        "```\n",
        "\n",
        "Sólo para comprobar tu código,  puedes hacer uso del comando sort de python.\n",
        "```python\n",
        "<<< b = [22, 32, 42, 12, 22, 31, 41, 11, 12, 232, 24, 12, 22]\n",
        "\n",
        "<<< print(b.sort())\n",
        "\n",
        "<<< [11, 12, 12, 12, 22, 22, 22, 24, 31, 32, 41, 42, 232]\n",
        "```"
      ]
    },
    {
      "cell_type": "code",
      "source": [
        "v = [22, 32, 42, 12, 26, 31, 41, 11, 12, 232, 24, 12, 28]\n",
        "# Función para particionar el arreglo según el pivote\n",
        "def particion(arreglo, bajo, alto):\n",
        "    # Elegir el último elemento como pivote\n",
        "    pivote = arreglo[alto]\n",
        "    # Índice del menor elemento\n",
        "    i = bajo - 1\n",
        "    # Recorrer los elementos desde bajo hasta alto - 1\n",
        "    for j in range(bajo, alto):\n",
        "        # Si el elemento actual es menor o igual que el pivote\n",
        "        if arreglo[j] <= pivote:\n",
        "            # Incrementar el índice del menor elemento\n",
        "            i += 1\n",
        "            # Intercambiar los elementos en los índices i y j\n",
        "            arreglo[i], arreglo[j] = arreglo[j], arreglo[i]\n",
        "    # Intercambiar el pivote con el elemento en i + 1\n",
        "    arreglo[i + 1], arreglo[alto] = arreglo[alto], arreglo[i + 1]\n",
        "    # Devolver el índice del pivote\n",
        "    return i + 1\n",
        "\n",
        "# Función para ordenar el arreglo usando quicksort\n",
        "def quicksort(arreglo, bajo, alto):\n",
        "    # Si hay al menos dos elementos en el arreglo\n",
        "    if bajo < alto:\n",
        "        # Obtener el índice del pivote\n",
        "        p = particion(arreglo, bajo, alto)\n",
        "        # Ordenar recursivamente las subpartes izquierda y derecha\n",
        "        quicksort(arreglo, bajo, p - 1)\n",
        "        quicksort(arreglo, p + 1, alto)\n",
        "\n"
      ],
      "metadata": {
        "id": "TzdjoyQOoG_u"
      },
      "execution_count": 1,
      "outputs": []
    },
    {
      "cell_type": "code",
      "source": [
        "v = [22, 32, 42, 12, 26, 31, 41, 11, 12, 232, 24, 12, 28]\n",
        "\n",
        "n = len(v)\n",
        "print(\"Arreglo original:\", v)\n",
        "quicksort(v, 0, n - 1)\n",
        "print(\"Arreglo ordenado:\", v)\n"
      ],
      "metadata": {
        "colab": {
          "base_uri": "https://localhost:8080/"
        },
        "id": "RxUchKZrB9FM",
        "outputId": "3595c751-a1d4-4aba-f809-20dba73d8bca"
      },
      "execution_count": 2,
      "outputs": [
        {
          "output_type": "stream",
          "name": "stdout",
          "text": [
            "Arreglo original: [22, 32, 42, 12, 26, 31, 41, 11, 12, 232, 24, 12, 28]\n",
            "Arreglo ordenado: [11, 12, 12, 12, 22, 24, 26, 28, 31, 32, 41, 42, 232]\n"
          ]
        }
      ]
    }
  ],
  "metadata": {
    "colab": {
      "provenance": []
    },
    "kernelspec": {
      "display_name": "Python 3 (ipykernel)",
      "language": "python",
      "name": "python3"
    },
    "language_info": {
      "codemirror_mode": {
        "name": "ipython",
        "version": 3
      },
      "file_extension": ".py",
      "mimetype": "text/x-python",
      "name": "python",
      "nbconvert_exporter": "python",
      "pygments_lexer": "ipython3",
      "version": "3.10.9"
    }
  },
  "nbformat": 4,
  "nbformat_minor": 0
}