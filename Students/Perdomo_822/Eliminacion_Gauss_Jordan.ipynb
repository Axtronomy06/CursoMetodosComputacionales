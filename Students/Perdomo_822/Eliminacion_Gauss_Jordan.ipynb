{
  "nbformat": 4,
  "nbformat_minor": 0,
  "metadata": {
    "colab": {
      "provenance": []
    },
    "kernelspec": {
      "name": "python3",
      "display_name": "Python 3"
    },
    "language_info": {
      "name": "python"
    }
  },
  "cells": [
    {
      "cell_type": "code",
      "execution_count": 1,
      "metadata": {
        "id": "OQptrvglh0O6"
      },
      "outputs": [],
      "source": [
        "import numpy as np"
      ]
    },
    {
      "cell_type": "code",
      "source": [
        "#Matriz aleatoria M:\n",
        "M=np.matrix([[2,1,-1,5],[4,1,1,1],[6,2,1,4]])\n",
        "type(M)\n",
        "M"
      ],
      "metadata": {
        "colab": {
          "base_uri": "https://localhost:8080/"
        },
        "id": "qPOCz9KiiOFU",
        "outputId": "0ec9281c-7414-493a-ebc4-3f1b192a408c"
      },
      "execution_count": 2,
      "outputs": [
        {
          "output_type": "execute_result",
          "data": {
            "text/plain": [
              "matrix([[ 2,  1, -1,  5],\n",
              "        [ 4,  1,  1,  1],\n",
              "        [ 6,  2,  1,  4]])"
            ]
          },
          "metadata": {},
          "execution_count": 2
        }
      ]
    },
    {
      "cell_type": "code",
      "source": [
        "#defino operaciones elementales de Matrices:\n",
        "\n",
        "# Intercambio en la matriz M, la fila n, por la fila m:\n",
        "def Intercam(M ,n, m):\n",
        "  if  m and n < (np.shape(M)[0]):\n",
        "    B = M.copy()\n",
        "    B[n] = M[m]\n",
        "    B[m] = M[n]\n",
        "    return B\n",
        "  else:\n",
        "    print(\"defnir bien indice de filas\")\n",
        "\n",
        "# Multiplico en la matriz M, la fila i por el numero flotante n:\n",
        "def Mulescal(M,i,n):\n",
        "  M = M.astype(float)\n",
        "  B = M.copy()\n",
        "  B[i] = M[i]* n\n",
        "  return B\n",
        "\n",
        "#Sumo dos filas de la matriz M en este caso, i, j y la suma la mando a una fila k:\n",
        "def Sumfil(M,i,j,k):\n",
        "  B = M.copy()\n",
        "  B[k] = M[i] + M[j]\n",
        "  return B\n"
      ],
      "metadata": {
        "id": "6uU-gnEZh24j"
      },
      "execution_count": 3,
      "outputs": []
    },
    {
      "cell_type": "code",
      "source": [
        "#Por medio de  las funciones definidas, reduzco la matriz a su forma Gauss Jordan:\n",
        "a,b = np.shape(M)\n",
        "\n",
        "if M[0,0] != 0 and M[0,0] != 1:\n",
        "  a1=M[0,0]\n",
        "  B = Mulescal(M,0,1/a1)\n",
        "\n",
        "  C = B.copy\n",
        "  b= B[1,0]\n",
        "\n",
        "  C = Mulescal(B,0,-b)\n",
        "\n",
        "  B[1] = Sumfil(C, 0, 1,1)[1]\n",
        "\n",
        "  C = B.copy\n",
        "  a3 = B[2,0]\n",
        "\n",
        "  C = Mulescal(B,2,-(1/a3))\n",
        "  B[2] = Sumfil(C,0,2,2)[2]\n",
        "\n",
        "  C = B.copy\n",
        "  a = B[2,1]\n",
        "  C = Mulescal(B,1,a)\n",
        "  B[2] = Sumfil(C,1,2,2)[2]\n",
        "\n",
        "  C = B.copy\n",
        "  a = B[2,2]\n",
        "  C = Mulescal(B,2,(1/a))\n",
        "  B[2] = C[2]\n",
        "\n",
        "  #Determinando si hay numero negativos en los pivotes:\n",
        "  for i in range(len(B)):\n",
        "    if B[i,i] == -1:\n",
        "      C = B.copy()\n",
        "      a = B[i,i]\n",
        "      C = Mulescal(B,i,(a))\n",
        "      B[i] = C[i]\n",
        "\n",
        "  print(B)\n",
        "\n"
      ],
      "metadata": {
        "colab": {
          "base_uri": "https://localhost:8080/"
        },
        "id": "PP1TpZsT0Y3q",
        "outputId": "bd4b46dd-46c5-467d-e5fa-d422ccc4f563"
      },
      "execution_count": 4,
      "outputs": [
        {
          "output_type": "stream",
          "name": "stdout",
          "text": [
            "[[ 1.   0.5 -0.5  2.5]\n",
            " [ 0.   1.  -3.   9. ]\n",
            " [ 0.   0.   1.  -2. ]]\n"
          ]
        }
      ]
    },
    {
      "cell_type": "code",
      "source": [
        "#Para método Gauss-Jordan, primero defino una función que nos de ceros debajo de los pivotes principales;\n",
        "#La cual será utilizada luego de obtener 1 en la diagonal con el ciclo realizado:\n",
        "\n",
        "def ceros(B,j,col):\n",
        "  a,b = np.shape(B)\n",
        "  for i in range(j,a):\n",
        "    if B[i,col] != 0:\n",
        "      A = B.copy()\n",
        "      escl2 = -(A[i,col])\n",
        "      C = Mulescal(A,col, escl2)\n",
        "      A[i] = Sumfil(C,col,i,i)[i]\n",
        "      B=A\n",
        "  return(B)\n",
        "\n",
        "#definimos la función gaussj, la cual se utiliza para reducir la matriz:\n",
        "def gaussj(M):\n",
        "  a,b = np.shape(M)\n",
        "\n",
        "  #ciclo para tener unos en la diagonal para reeducir:\n",
        "  for i in range(a):\n",
        "    if M[i,i] != 0 and M[i,i] != 1:  #Determina si la diagonal es diferente de 0 y 1.\n",
        "      M = M.astype(float)\n",
        "      B = M.copy()\n",
        "      escl = M[i,i]\n",
        "      C = Mulescal(B,i,(1/escl))   #Utilizamos la función Multiplicar por escalar.\n",
        "      B[i]  = C[i]                 #Reemplazamos las filas de las matrices.\n",
        "      A = ceros(B,i+1,i)\n",
        "\n",
        "      M = A                        #reemplaza el valor de la matriz\n",
        "\n",
        "\n",
        "  return(ceros(A,i,i-1))           #Debido a la falta de un ciclo, retornamos la última matriz diagonal, encontrando ceros.\n",
        "\n"
      ],
      "metadata": {
        "id": "HVpR8lfeUWR-"
      },
      "execution_count": 5,
      "outputs": []
    },
    {
      "cell_type": "code",
      "source": [
        "#Probando la función:\n",
        "print('Función inicial: ')\n",
        "print(M)\n",
        "print('')\n",
        "print('Con la función creada tenemos: ')\n",
        "print(gaussj(M))"
      ],
      "metadata": {
        "colab": {
          "base_uri": "https://localhost:8080/"
        },
        "id": "-73_kg3S6Lyg",
        "outputId": "d086d4ee-6126-4587-f812-68dd00aa5e83"
      },
      "execution_count": 8,
      "outputs": [
        {
          "output_type": "stream",
          "name": "stdout",
          "text": [
            "Función inicial: \n",
            "[[ 2  1 -1  5]\n",
            " [ 4  1  1  1]\n",
            " [ 6  2  1  4]]\n",
            "\n",
            "Con la función creada tenemos: \n",
            "[[ 1.   0.5 -0.5  2.5]\n",
            " [ 0.   1.  -3.   9. ]\n",
            " [ 0.   0.   1.  -2. ]]\n"
          ]
        }
      ]
    },
    {
      "cell_type": "code",
      "source": [
        "#Probando con una aleatoria:\n",
        "N = np.random.randint(0,20,(7,8))\n",
        "print('La matriz aleatoria es: ')\n",
        "print(N)\n",
        "print('')\n",
        "print('Utilizando gaussj tenemos: ')\n",
        "print(gaussj(N))"
      ],
      "metadata": {
        "colab": {
          "base_uri": "https://localhost:8080/"
        },
        "id": "zlVacc5G6x2y",
        "outputId": "8b9e830b-0fcb-44a8-e91e-93ef2c22d8e8"
      },
      "execution_count": 9,
      "outputs": [
        {
          "output_type": "stream",
          "name": "stdout",
          "text": [
            "La matriz aleatoria es: \n",
            "[[ 4  3 14  9  1 10  3  2]\n",
            " [15 16  2  9 16  5 10  5]\n",
            " [ 2  2  3 13 11 15  7 16]\n",
            " [19 19  1 14 11 14  1 16]\n",
            " [ 4 13 10  6  6  8 10  0]\n",
            " [18 11  3 17  5 18 13 12]\n",
            " [ 7  5  0  3  6 19 17  9]]\n",
            "\n",
            "Utilizando gaussj tenemos: \n",
            "[[ 1.00000000e+00  7.50000000e-01  3.50000000e+00  2.25000000e+00\n",
            "   2.50000000e-01  2.50000000e+00  7.50000000e-01  5.00000000e-01]\n",
            " [ 0.00000000e+00  1.00000000e+00 -1.06315789e+01 -5.21052632e+00\n",
            "   2.57894737e+00 -6.84210526e+00 -2.63157895e-01 -5.26315789e-01]\n",
            " [ 0.00000000e+00  0.00000000e+00  1.00000000e+00  8.44000000e+00\n",
            "   7.00000000e+00  1.02000000e+01  4.28000000e+00  1.16000000e+01]\n",
            " [ 0.00000000e+00  0.00000000e+00 -1.44890444e-17  1.00000000e+00\n",
            "   8.07504078e-01  1.23980424e+00  4.25774878e-01  1.49265905e+00]\n",
            " [-0.00000000e+00 -0.00000000e+00 -3.03819946e-17 -0.00000000e+00\n",
            "   1.00000000e+00 -4.10230049e-01  1.02742160e+00 -4.04369854e-01]\n",
            " [-0.00000000e+00 -0.00000000e+00  1.56581275e-14 -0.00000000e+00\n",
            "  -0.00000000e+00  1.00000000e+00 -1.22094893e+02  5.50719497e+01]\n",
            " [ 0.00000000e+00  0.00000000e+00 -1.27349300e-16  0.00000000e+00\n",
            "   0.00000000e+00  0.00000000e+00  1.00000000e+00 -4.44829015e-01]]\n"
          ]
        }
      ]
    },
    {
      "cell_type": "code",
      "source": [],
      "metadata": {
        "id": "Avzkz9Ij7NqB"
      },
      "execution_count": 7,
      "outputs": []
    }
  ]
}
