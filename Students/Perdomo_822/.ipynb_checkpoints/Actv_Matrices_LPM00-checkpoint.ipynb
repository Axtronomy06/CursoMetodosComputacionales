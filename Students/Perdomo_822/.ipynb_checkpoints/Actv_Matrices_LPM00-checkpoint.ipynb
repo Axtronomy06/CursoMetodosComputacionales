{
 "cells": [
  {
   "cell_type": "code",
   "execution_count": 3,
   "metadata": {
    "id": "P8q_H7kdFXd6"
   },
   "outputs": [],
   "source": [
    "#Librerías:\n",
    "import numpy as np\n",
    "import scipy as cs\n",
    "import sympy as sp\n",
    "import matplotlib.pyplot as plt"
   ]
  },
  {
   "cell_type": "code",
   "execution_count": 64,
   "metadata": {
    "colab": {
     "base_uri": "https://localhost:8080/"
    },
    "id": "Ll1KVSXWGDhs",
    "outputId": "f6322b58-341e-4cce-e26a-f3e36b8c8f96"
   },
   "outputs": [
    {
     "data": {
      "text/plain": [
       "array([[5, 9, 5, 7],\n",
       "       [8, 4, 8, 0],\n",
       "       [7, 5, 5, 3],\n",
       "       [5, 7, 5, 0]])"
      ]
     },
     "execution_count": 64,
     "metadata": {},
     "output_type": "execute_result"
    }
   ],
   "source": [
    "# Matriz Aleatoria:\n",
    "m = np.random.randint(0,10,(4,4))\n",
    "m"
   ]
  },
  {
   "cell_type": "code",
   "execution_count": 65,
   "metadata": {
    "colab": {
     "base_uri": "https://localhost:8080/"
    },
    "id": "E9dZvQHeG7Jp",
    "outputId": "b945ccf3-294b-474b-cddf-c454ddd3f064"
   },
   "outputs": [
    {
     "name": "stdout",
     "output_type": "stream",
     "text": [
      "La matriz aleatoria A es: \n",
      "[[4 3]\n",
      " [5 1]]\n",
      "La matriz aleatoria B es: \n",
      "[[2 2]\n",
      " [6 9]]\n",
      "La suma de las matrices es: \n",
      "[[ 6.  5.]\n",
      " [11. 10.]]\n"
     ]
    }
   ],
   "source": [
    "# 1. Diseñar programa que sume matrices:\n",
    "\n",
    "def sum(m,n):\n",
    "  if np.shape(m) == np.shape(n):\n",
    "    c = np.zeros(np.shape(n))\n",
    "    for i in range(np.shape(m)[0]):\n",
    "      for j in range(np.shape(m)[1]):\n",
    "        c[i,j] = m[i,j] + n[i,j]\n",
    "\n",
    "  return c\n",
    "A = np.random.randint(0,10,(2,2))\n",
    "B =np.random.randint(0,10,(2,2))\n",
    "\n",
    "print('La matriz aleatoria A es: ')\n",
    "print(A)\n",
    "print('La matriz aleatoria B es: ')\n",
    "print(B)\n",
    "print('La suma de las matrices es: ')\n",
    "print(sum(A,B))"
   ]
  },
  {
   "cell_type": "code",
   "execution_count": 66,
   "metadata": {
    "id": "pM_n9CAJPe0Q"
   },
   "outputs": [],
   "source": [
    "# 2. Función para multiplicar Matrices:\n",
    "\n",
    "def mulmat(m,n):\n",
    "  mm,mn = np.shape(m)\n",
    "  nm,nn = np.shape(n)\n",
    "\n",
    "  p = np.zeros((mm, nn))\n",
    "\n",
    "  for i in range(np.shape(m)[0]):\n",
    "    for j in range(np.shape(n)[1]):\n",
    "      c_ij = 0\n",
    "      for k in range(np.shape(m)[1]):\n",
    "        aik = m[i,k]\n",
    "        bkj = n[k,j]\n",
    "\n",
    "        c_ij += aik * bkj\n",
    "\n",
    "        p[i][j] = c_ij\n",
    "\n",
    "  return p\n",
    "\n",
    "A = np.random.randint(0,10,(3,2))\n",
    "B =np.random.randint(0,10,(2,3))"
   ]
  },
  {
   "cell_type": "code",
   "execution_count": 67,
   "metadata": {
    "colab": {
     "base_uri": "https://localhost:8080/"
    },
    "id": "12fjcvZ9QC7U",
    "outputId": "801117cb-0581-40e8-f74b-ba2ac0b3f2b5"
   },
   "outputs": [
    {
     "name": "stdout",
     "output_type": "stream",
     "text": [
      "Resultado por mi función: \n",
      "[[57.  9. 18.]\n",
      " [39.  6. 12.]\n",
      " [33.  6. 12.]]\n",
      "Resultado por librería de Numpy: \n",
      "[[57  9 18]\n",
      " [39  6 12]\n",
      " [33  6 12]]\n",
      "True\n"
     ]
    }
   ],
   "source": [
    "# Probando la función multiplicación:\n",
    "print(\"Resultado por mi función: \")\n",
    "print(mulmat(A,B))\n",
    "print(\"Resultado por librería de Numpy: \")\n",
    "print(np.matmul(A,B))\n",
    "\n",
    "# Mi función creada da el mismo resultado que la función por librería numpy:\n",
    "print(np.shape(mulmat(A,B))==np.shape(np.matmul(A,B)))"
   ]
  },
  {
   "cell_type": "code",
   "execution_count": 155,
   "metadata": {
    "id": "owkUZbLWQghk"
   },
   "outputs": [],
   "source": [
    "#3. Determinar la transpuesta de la matriz:\n",
    "\n",
    "def transpuesta(a):\n",
    "  m,n = np.shape(a)\n",
    "  b = np.zeros((n,m))\n",
    "  for i in range(m):\n",
    "    b[:,i] = f[i]\n",
    "  return(b)\n",
    "\n"
   ]
  },
  {
   "cell_type": "code",
   "execution_count": 165,
   "metadata": {
    "colab": {
     "base_uri": "https://localhost:8080/"
    },
    "id": "4_gur3tI1Cip",
    "outputId": "f12a66d9-135a-4557-c988-a2a82c920a53"
   },
   "outputs": [
    {
     "name": "stdout",
     "output_type": "stream",
     "text": [
      "[[20 25 28]\n",
      " [17  7 20]\n",
      " [ 2 18 26]\n",
      " [16  1 26]\n",
      " [13 13 22]\n",
      " [22 29 24]\n",
      " [ 6 27  1]]\n",
      "\n",
      "[[20. 17.  2. 16. 13. 22.  6.]\n",
      " [25.  7. 18.  1. 13. 29. 27.]\n",
      " [28. 20. 26. 26. 22. 24.  1.]]\n",
      "\n",
      "Comparando con librería nos da un valor de: \n",
      "[[ True  True  True  True  True  True  True]\n",
      " [ True  True  True  True  True  True  True]\n",
      " [ True  True  True  True  True  True  True]]\n"
     ]
    }
   ],
   "source": [
    "f = np.random.randint(0,30,(7,3))\n",
    "print(f)\n",
    "print('')\n",
    "print(transpuesta(f))\n",
    "print('')\n",
    "print('Comparando con librería nos da un valor de: ')\n",
    "print(np.transpose(f)== transpuesta(f))"
   ]
  },
  {
   "cell_type": "markdown",
   "metadata": {
    "id": "fIhco0nSBey8"
   },
   "source": [
    "#Problema de rotación(Actividad):"
   ]
  },
  {
   "cell_type": "code",
   "execution_count": 166,
   "metadata": {
    "id": "Yb2LAq8a_KiR"
   },
   "outputs": [],
   "source": [
    "#Vector dado:\n",
    "V = np.array([1, 2])"
   ]
  },
  {
   "cell_type": "code",
   "execution_count": 167,
   "metadata": {
    "id": "9nafHTmYD91J"
   },
   "outputs": [],
   "source": [
    "#Definimos la función de rotación dada:\n",
    "def rotar(V, angulo):\n",
    "  angul = np.deg2rad(angulo) #Convertimos ángulo de grados a radianes\n",
    "\n",
    "# Encontramos la matriz de rotación:\n",
    "  R= np.array([[np.cos(angul), -np.sin(angul)], [ np.sin(angul), np.cos(angul)]])\n",
    "\n",
    "# Hallamos el vector rotado, multiplicando la matriz de rotación con le vector dado\n",
    "  U = np.matmul(R,V)\n",
    "\n",
    "  return U"
   ]
  },
  {
   "cell_type": "code",
   "execution_count": 172,
   "metadata": {
    "colab": {
     "base_uri": "https://localhost:8080/",
     "height": 453
    },
    "id": "0KcpGs7yD_XF",
    "outputId": "889565f8-d06b-4ed4-d974-9c15c16ddece"
   },
   "outputs": [
    {
     "data": {
      "image/png": "[encoded data removed]",
      "text/plain": [
       "<Figure size 640x480 with 1 Axes>"
      ]
     },
     "metadata": {},
     "output_type": "display_data"
    }
   ],
   "source": [
    "#Probamos la función y gráficamos:\n",
    "R =rotar(V,90)\n",
    "\n",
    "#Graficamos por medio de plt.quiver para mostrar de forma vectorial:\n",
    "plt.quiver(0, 0, V[0], V[1], angles ='xy',scale_units='xy', scale=1, color='r') #Grafica vector original.\n",
    "plt.quiver(0, 0, R[0], R[1], angles ='xy',scale_units='xy', scale=1, color='b') #Pinta el vector rotado.\n",
    "plt.text( V[0], V[1], 'V')\n",
    "plt.text( R[0], R[1], 'R')\n",
    "plt.title('Rotación gráfica del verctor V')\n",
    "plt.xlim(-(V[0] + 4), V[0] +4)\n",
    "plt.ylim(-(V[0] + 4), V[0] +4)\n",
    "plt.grid()\n"
   ]
  },
  {
   "cell_type": "code",
   "execution_count": null,
   "metadata": {
    "id": "aNyd3ndGE2XX"
   },
   "outputs": [],
   "source": []
  }
 ],
 "metadata": {
  "colab": {
   "provenance": []
  },
  "kernelspec": {
   "display_name": "Python 3 (ipykernel)",
   "language": "python",
   "name": "python3"
  },
  "language_info": {
   "codemirror_mode": {
    "name": "ipython",
    "version": 3
   },
   "file_extension": ".py",
   "mimetype": "text/x-python",
   "name": "python",
   "nbconvert_exporter": "python",
   "pygments_lexer": "ipython3",
   "version": "3.10.9"
  }
 },
 "nbformat": 4,
 "nbformat_minor": 1
}
