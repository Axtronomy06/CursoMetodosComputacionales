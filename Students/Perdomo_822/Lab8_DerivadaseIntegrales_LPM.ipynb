{
 "cells": [
  {
   "cell_type": "markdown",
   "metadata": {
    "id": "zGbXJd2vKuT1"
   },
   "source": [
    "Importación de librerias necesarias para desarrollar el laboratorio:\n"
   ]
  },
  {
   "cell_type": "code",
   "execution_count": 1,
   "metadata": {
    "id": "4lmDdudAQqCY"
   },
   "outputs": [],
   "source": [
    "import numpy as np\n",
    "import pandas as pd\n",
    "import sympy as sp\n",
    "from scipy.interpolate import CubicSpline\n",
    "import matplotlib.pyplot as plt\n",
    "from scipy.integrate import trapezoid\n",
    "from scipy.integrate import simpson\n",
    "from scipy.integrate import quad"
   ]
  },
  {
   "cell_type": "markdown",
   "metadata": {
    "id": "hREO-Q4pK66m"
   },
   "source": [
    "#Primera Parte:\n",
    "\n",
    "Circuito con Voltaje $𝝴(t)$ y una inductancia L, aplicando leyes de Kirchhoff resolvemos el sistema dado:\n"
   ]
  },
  {
   "cell_type": "code",
   "execution_count": 2,
   "metadata": {
    "colab": {
     "base_uri": "https://localhost:8080/",
     "height": 206
    },
    "id": "FYqjMTYLQz3z",
    "outputId": "e1fe92a8-b74a-4a1f-c8f3-8bde7fdf763f"
   },
   "outputs": [
    {
     "data": {
      "text/html": [
       "\n",
       "  <div id=\"df-6774a126-942d-47c4-b8d9-c6a5d9c8908d\" class=\"colab-df-container\">\n",
       "    <div>\n",
       "<style scoped>\n",
       "    .dataframe tbody tr th:only-of-type {\n",
       "        vertical-align: middle;\n",
       "    }\n",
       "\n",
       "    .dataframe tbody tr th {\n",
       "        vertical-align: top;\n",
       "    }\n",
       "\n",
       "    .dataframe thead th {\n",
       "        text-align: right;\n",
       "    }\n",
       "</style>\n",
       "<table border=\"1\" class=\"dataframe\">\n",
       "  <thead>\n",
       "    <tr style=\"text-align: right;\">\n",
       "      <th></th>\n",
       "      <th>T</th>\n",
       "      <th>Corriente</th>\n",
       "    </tr>\n",
       "  </thead>\n",
       "  <tbody>\n",
       "    <tr>\n",
       "      <th>0</th>\n",
       "      <td>1.00</td>\n",
       "      <td>3.10</td>\n",
       "    </tr>\n",
       "    <tr>\n",
       "      <th>1</th>\n",
       "      <td>1.01</td>\n",
       "      <td>3.12</td>\n",
       "    </tr>\n",
       "    <tr>\n",
       "      <th>2</th>\n",
       "      <td>1.02</td>\n",
       "      <td>3.14</td>\n",
       "    </tr>\n",
       "    <tr>\n",
       "      <th>3</th>\n",
       "      <td>1.03</td>\n",
       "      <td>3.18</td>\n",
       "    </tr>\n",
       "    <tr>\n",
       "      <th>4</th>\n",
       "      <td>1.04</td>\n",
       "      <td>3.24</td>\n",
       "    </tr>\n",
       "  </tbody>\n",
       "</table>\n",
       "</div>\n",
       "    <div class=\"colab-df-buttons\">\n",
       "\n",
       "  <div class=\"colab-df-container\">\n",
       "    <button class=\"colab-df-convert\" onclick=\"convertToInteractive('df-6774a126-942d-47c4-b8d9-c6a5d9c8908d')\"\n",
       "            title=\"Convert this dataframe to an interactive table.\"\n",
       "            style=\"display:none;\">\n",
       "\n",
       "  <svg xmlns=\"http://www.w3.org/2000/svg\" height=\"24px\" viewBox=\"0 -960 960 960\">\n",
       "    <path d=\"M120-120v-720h720v720H120Zm60-500h600v-160H180v160Zm220 220h160v-160H400v160Zm0 220h160v-160H400v160ZM180-400h160v-160H180v160Zm440 0h160v-160H620v160ZM180-180h160v-160H180v160Zm440 0h160v-160H620v160Z\"/>\n",
       "  </svg>\n",
       "    </button>\n",
       "\n",
       "  <style>\n",
       "    .colab-df-container {\n",
       "      display:flex;\n",
       "      gap: 12px;\n",
       "    }\n",
       "\n",
       "    .colab-df-convert {\n",
       "      background-color: #E8F0FE;\n",
       "      border: none;\n",
       "      border-radius: 50%;\n",
       "      cursor: pointer;\n",
       "      display: none;\n",
       "      fill: #1967D2;\n",
       "      height: 32px;\n",
       "      padding: 0 0 0 0;\n",
       "      width: 32px;\n",
       "    }\n",
       "\n",
       "    .colab-df-convert:hover {\n",
       "      background-color: #E2EBFA;\n",
       "      box-shadow: 0px 1px 2px rgba(60, 64, 67, 0.3), 0px 1px 3px 1px rgba(60, 64, 67, 0.15);\n",
       "      fill: #174EA6;\n",
       "    }\n",
       "\n",
       "    .colab-df-buttons div {\n",
       "      margin-bottom: 4px;\n",
       "    }\n",
       "\n",
       "    [theme=dark] .colab-df-convert {\n",
       "      background-color: #3B4455;\n",
       "      fill: #D2E3FC;\n",
       "    }\n",
       "\n",
       "    [theme=dark] .colab-df-convert:hover {\n",
       "      background-color: #434B5C;\n",
       "      box-shadow: 0px 1px 3px 1px rgba(0, 0, 0, 0.15);\n",
       "      filter: drop-shadow(0px 1px 2px rgba(0, 0, 0, 0.3));\n",
       "      fill: #FFFFFF;\n",
       "    }\n",
       "  </style>\n",
       "\n",
       "    <script>\n",
       "      const buttonEl =\n",
       "        document.querySelector('#df-6774a126-942d-47c4-b8d9-c6a5d9c8908d button.colab-df-convert');\n",
       "      buttonEl.style.display =\n",
       "        google.colab.kernel.accessAllowed ? 'block' : 'none';\n",
       "\n",
       "      async function convertToInteractive(key) {\n",
       "        const element = document.querySelector('#df-6774a126-942d-47c4-b8d9-c6a5d9c8908d');\n",
       "        const dataTable =\n",
       "          await google.colab.kernel.invokeFunction('convertToInteractive',\n",
       "                                                    [key], {});\n",
       "        if (!dataTable) return;\n",
       "\n",
       "        const docLinkHtml = 'Like what you see? Visit the ' +\n",
       "          '<a target=\"_blank\" href=https://colab.research.google.com/notebooks/data_table.ipynb>data table notebook</a>'\n",
       "          + ' to learn more about interactive tables.';\n",
       "        element.innerHTML = '';\n",
       "        dataTable['output_type'] = 'display_data';\n",
       "        await google.colab.output.renderOutput(dataTable, element);\n",
       "        const docLink = document.createElement('div');\n",
       "        docLink.innerHTML = docLinkHtml;\n",
       "        element.appendChild(docLink);\n",
       "      }\n",
       "    </script>\n",
       "  </div>\n",
       "\n",
       "\n",
       "<div id=\"df-51db43f4-31c3-4375-bc1e-ace1e0fd7bab\">\n",
       "  <button class=\"colab-df-quickchart\" onclick=\"quickchart('df-51db43f4-31c3-4375-bc1e-ace1e0fd7bab')\"\n",
       "            title=\"Suggest charts.\"\n",
       "            style=\"display:none;\">\n",
       "\n",
       "<svg xmlns=\"http://www.w3.org/2000/svg\" height=\"24px\"viewBox=\"0 0 24 24\"\n",
       "     width=\"24px\">\n",
       "    <g>\n",
       "        <path d=\"M19 3H5c-1.1 0-2 .9-2 2v14c0 1.1.9 2 2 2h14c1.1 0 2-.9 2-2V5c0-1.1-.9-2-2-2zM9 17H7v-7h2v7zm4 0h-2V7h2v10zm4 0h-2v-4h2v4z\"/>\n",
       "    </g>\n",
       "</svg>\n",
       "  </button>\n",
       "\n",
       "<style>\n",
       "  .colab-df-quickchart {\n",
       "      --bg-color: #E8F0FE;\n",
       "      --fill-color: #1967D2;\n",
       "      --hover-bg-color: #E2EBFA;\n",
       "      --hover-fill-color: #174EA6;\n",
       "      --disabled-fill-color: #AAA;\n",
       "      --disabled-bg-color: #DDD;\n",
       "  }\n",
       "\n",
       "  [theme=dark] .colab-df-quickchart {\n",
       "      --bg-color: #3B4455;\n",
       "      --fill-color: #D2E3FC;\n",
       "      --hover-bg-color: #434B5C;\n",
       "      --hover-fill-color: #FFFFFF;\n",
       "      --disabled-bg-color: #3B4455;\n",
       "      --disabled-fill-color: #666;\n",
       "  }\n",
       "\n",
       "  .colab-df-quickchart {\n",
       "    background-color: var(--bg-color);\n",
       "    border: none;\n",
       "    border-radius: 50%;\n",
       "    cursor: pointer;\n",
       "    display: none;\n",
       "    fill: var(--fill-color);\n",
       "    height: 32px;\n",
       "    padding: 0;\n",
       "    width: 32px;\n",
       "  }\n",
       "\n",
       "  .colab-df-quickchart:hover {\n",
       "    background-color: var(--hover-bg-color);\n",
       "    box-shadow: 0 1px 2px rgba(60, 64, 67, 0.3), 0 1px 3px 1px rgba(60, 64, 67, 0.15);\n",
       "    fill: var(--button-hover-fill-color);\n",
       "  }\n",
       "\n",
       "  .colab-df-quickchart-complete:disabled,\n",
       "  .colab-df-quickchart-complete:disabled:hover {\n",
       "    background-color: var(--disabled-bg-color);\n",
       "    fill: var(--disabled-fill-color);\n",
       "    box-shadow: none;\n",
       "  }\n",
       "\n",
       "  .colab-df-spinner {\n",
       "    border: 2px solid var(--fill-color);\n",
       "    border-color: transparent;\n",
       "    border-bottom-color: var(--fill-color);\n",
       "    animation:\n",
       "      spin 1s steps(1) infinite;\n",
       "  }\n",
       "\n",
       "  @keyframes spin {\n",
       "    0% {\n",
       "      border-color: transparent;\n",
       "      border-bottom-color: var(--fill-color);\n",
       "      border-left-color: var(--fill-color);\n",
       "    }\n",
       "    20% {\n",
       "      border-color: transparent;\n",
       "      border-left-color: var(--fill-color);\n",
       "      border-top-color: var(--fill-color);\n",
       "    }\n",
       "    30% {\n",
       "      border-color: transparent;\n",
       "      border-left-color: var(--fill-color);\n",
       "      border-top-color: var(--fill-color);\n",
       "      border-right-color: var(--fill-color);\n",
       "    }\n",
       "    40% {\n",
       "      border-color: transparent;\n",
       "      border-right-color: var(--fill-color);\n",
       "      border-top-color: var(--fill-color);\n",
       "    }\n",
       "    60% {\n",
       "      border-color: transparent;\n",
       "      border-right-color: var(--fill-color);\n",
       "    }\n",
       "    80% {\n",
       "      border-color: transparent;\n",
       "      border-right-color: var(--fill-color);\n",
       "      border-bottom-color: var(--fill-color);\n",
       "    }\n",
       "    90% {\n",
       "      border-color: transparent;\n",
       "      border-bottom-color: var(--fill-color);\n",
       "    }\n",
       "  }\n",
       "</style>\n",
       "\n",
       "  <script>\n",
       "    async function quickchart(key) {\n",
       "      const quickchartButtonEl =\n",
       "        document.querySelector('#' + key + ' button');\n",
       "      quickchartButtonEl.disabled = true;  // To prevent multiple clicks.\n",
       "      quickchartButtonEl.classList.add('colab-df-spinner');\n",
       "      try {\n",
       "        const charts = await google.colab.kernel.invokeFunction(\n",
       "            'suggestCharts', [key], {});\n",
       "      } catch (error) {\n",
       "        console.error('Error during call to suggestCharts:', error);\n",
       "      }\n",
       "      quickchartButtonEl.classList.remove('colab-df-spinner');\n",
       "      quickchartButtonEl.classList.add('colab-df-quickchart-complete');\n",
       "    }\n",
       "    (() => {\n",
       "      let quickchartButtonEl =\n",
       "        document.querySelector('#df-51db43f4-31c3-4375-bc1e-ace1e0fd7bab button');\n",
       "      quickchartButtonEl.style.display =\n",
       "        google.colab.kernel.accessAllowed ? 'block' : 'none';\n",
       "    })();\n",
       "  </script>\n",
       "</div>\n",
       "    </div>\n",
       "  </div>\n"
      ],
      "text/plain": [
       "      T  Corriente\n",
       "0  1.00       3.10\n",
       "1  1.01       3.12\n",
       "2  1.02       3.14\n",
       "3  1.03       3.18\n",
       "4  1.04       3.24"
      ]
     },
     "execution_count": 2,
     "metadata": {},
     "output_type": "execute_result"
    }
   ],
   "source": [
    "t=np.array([1, 1.01, 1.02, 1.03, 1.04])\n",
    "i=np.array([3.1, 3.12, 3.14, 3.18, 3.24])\n",
    "\n",
    "dicc =  {\"T\":t, \"Corriente\":i}\n",
    "\n",
    "df = pd.DataFrame(dicc)\n",
    "df"
   ]
  },
  {
   "cell_type": "code",
   "execution_count": 3,
   "metadata": {
    "colab": {
     "base_uri": "https://localhost:8080/",
     "height": 174
    },
    "id": "jm3o2t36RXua",
    "outputId": "9f596f11-0e8d-41ab-d63f-611e855d18ce"
   },
   "outputs": [
    {
     "data": {
      "text/html": [
       "\n",
       "  <div id=\"df-6da458bf-e914-4bf8-9be4-a1fe40b9309c\" class=\"colab-df-container\">\n",
       "    <div>\n",
       "<style scoped>\n",
       "    .dataframe tbody tr th:only-of-type {\n",
       "        vertical-align: middle;\n",
       "    }\n",
       "\n",
       "    .dataframe tbody tr th {\n",
       "        vertical-align: top;\n",
       "    }\n",
       "\n",
       "    .dataframe thead th {\n",
       "        text-align: right;\n",
       "    }\n",
       "</style>\n",
       "<table border=\"1\" class=\"dataframe\">\n",
       "  <thead>\n",
       "    <tr style=\"text-align: right;\">\n",
       "      <th></th>\n",
       "      <th>T Promedio</th>\n",
       "      <th>I promedio</th>\n",
       "      <th>Derivada Nume</th>\n",
       "      <th>Voltaje</th>\n",
       "    </tr>\n",
       "  </thead>\n",
       "  <tbody>\n",
       "    <tr>\n",
       "      <th>0</th>\n",
       "      <td>1.005</td>\n",
       "      <td>3.11</td>\n",
       "      <td>2.0</td>\n",
       "      <td>2.40162</td>\n",
       "    </tr>\n",
       "    <tr>\n",
       "      <th>1</th>\n",
       "      <td>1.015</td>\n",
       "      <td>3.13</td>\n",
       "      <td>2.0</td>\n",
       "      <td>2.40446</td>\n",
       "    </tr>\n",
       "    <tr>\n",
       "      <th>2</th>\n",
       "      <td>1.025</td>\n",
       "      <td>3.16</td>\n",
       "      <td>4.0</td>\n",
       "      <td>4.36872</td>\n",
       "    </tr>\n",
       "    <tr>\n",
       "      <th>3</th>\n",
       "      <td>1.035</td>\n",
       "      <td>3.21</td>\n",
       "      <td>6.0</td>\n",
       "      <td>6.33582</td>\n",
       "    </tr>\n",
       "  </tbody>\n",
       "</table>\n",
       "</div>\n",
       "    <div class=\"colab-df-buttons\">\n",
       "\n",
       "  <div class=\"colab-df-container\">\n",
       "    <button class=\"colab-df-convert\" onclick=\"convertToInteractive('df-6da458bf-e914-4bf8-9be4-a1fe40b9309c')\"\n",
       "            title=\"Convert this dataframe to an interactive table.\"\n",
       "            style=\"display:none;\">\n",
       "\n",
       "  <svg xmlns=\"http://www.w3.org/2000/svg\" height=\"24px\" viewBox=\"0 -960 960 960\">\n",
       "    <path d=\"M120-120v-720h720v720H120Zm60-500h600v-160H180v160Zm220 220h160v-160H400v160Zm0 220h160v-160H400v160ZM180-400h160v-160H180v160Zm440 0h160v-160H620v160ZM180-180h160v-160H180v160Zm440 0h160v-160H620v160Z\"/>\n",
       "  </svg>\n",
       "    </button>\n",
       "\n",
       "  <style>\n",
       "    .colab-df-container {\n",
       "      display:flex;\n",
       "      gap: 12px;\n",
       "    }\n",
       "\n",
       "    .colab-df-convert {\n",
       "      background-color: #E8F0FE;\n",
       "      border: none;\n",
       "      border-radius: 50%;\n",
       "      cursor: pointer;\n",
       "      display: none;\n",
       "      fill: #1967D2;\n",
       "      height: 32px;\n",
       "      padding: 0 0 0 0;\n",
       "      width: 32px;\n",
       "    }\n",
       "\n",
       "    .colab-df-convert:hover {\n",
       "      background-color: #E2EBFA;\n",
       "      box-shadow: 0px 1px 2px rgba(60, 64, 67, 0.3), 0px 1px 3px 1px rgba(60, 64, 67, 0.15);\n",
       "      fill: #174EA6;\n",
       "    }\n",
       "\n",
       "    .colab-df-buttons div {\n",
       "      margin-bottom: 4px;\n",
       "    }\n",
       "\n",
       "    [theme=dark] .colab-df-convert {\n",
       "      background-color: #3B4455;\n",
       "      fill: #D2E3FC;\n",
       "    }\n",
       "\n",
       "    [theme=dark] .colab-df-convert:hover {\n",
       "      background-color: #434B5C;\n",
       "      box-shadow: 0px 1px 3px 1px rgba(0, 0, 0, 0.15);\n",
       "      filter: drop-shadow(0px 1px 2px rgba(0, 0, 0, 0.3));\n",
       "      fill: #FFFFFF;\n",
       "    }\n",
       "  </style>\n",
       "\n",
       "    <script>\n",
       "      const buttonEl =\n",
       "        document.querySelector('#df-6da458bf-e914-4bf8-9be4-a1fe40b9309c button.colab-df-convert');\n",
       "      buttonEl.style.display =\n",
       "        google.colab.kernel.accessAllowed ? 'block' : 'none';\n",
       "\n",
       "      async function convertToInteractive(key) {\n",
       "        const element = document.querySelector('#df-6da458bf-e914-4bf8-9be4-a1fe40b9309c');\n",
       "        const dataTable =\n",
       "          await google.colab.kernel.invokeFunction('convertToInteractive',\n",
       "                                                    [key], {});\n",
       "        if (!dataTable) return;\n",
       "\n",
       "        const docLinkHtml = 'Like what you see? Visit the ' +\n",
       "          '<a target=\"_blank\" href=https://colab.research.google.com/notebooks/data_table.ipynb>data table notebook</a>'\n",
       "          + ' to learn more about interactive tables.';\n",
       "        element.innerHTML = '';\n",
       "        dataTable['output_type'] = 'display_data';\n",
       "        await google.colab.output.renderOutput(dataTable, element);\n",
       "        const docLink = document.createElement('div');\n",
       "        docLink.innerHTML = docLinkHtml;\n",
       "        element.appendChild(docLink);\n",
       "      }\n",
       "    </script>\n",
       "  </div>\n",
       "\n",
       "\n",
       "<div id=\"df-855c26ac-d35c-4d8d-99b4-2475c62ae635\">\n",
       "  <button class=\"colab-df-quickchart\" onclick=\"quickchart('df-855c26ac-d35c-4d8d-99b4-2475c62ae635')\"\n",
       "            title=\"Suggest charts.\"\n",
       "            style=\"display:none;\">\n",
       "\n",
       "<svg xmlns=\"http://www.w3.org/2000/svg\" height=\"24px\"viewBox=\"0 0 24 24\"\n",
       "     width=\"24px\">\n",
       "    <g>\n",
       "        <path d=\"M19 3H5c-1.1 0-2 .9-2 2v14c0 1.1.9 2 2 2h14c1.1 0 2-.9 2-2V5c0-1.1-.9-2-2-2zM9 17H7v-7h2v7zm4 0h-2V7h2v10zm4 0h-2v-4h2v4z\"/>\n",
       "    </g>\n",
       "</svg>\n",
       "  </button>\n",
       "\n",
       "<style>\n",
       "  .colab-df-quickchart {\n",
       "      --bg-color: #E8F0FE;\n",
       "      --fill-color: #1967D2;\n",
       "      --hover-bg-color: #E2EBFA;\n",
       "      --hover-fill-color: #174EA6;\n",
       "      --disabled-fill-color: #AAA;\n",
       "      --disabled-bg-color: #DDD;\n",
       "  }\n",
       "\n",
       "  [theme=dark] .colab-df-quickchart {\n",
       "      --bg-color: #3B4455;\n",
       "      --fill-color: #D2E3FC;\n",
       "      --hover-bg-color: #434B5C;\n",
       "      --hover-fill-color: #FFFFFF;\n",
       "      --disabled-bg-color: #3B4455;\n",
       "      --disabled-fill-color: #666;\n",
       "  }\n",
       "\n",
       "  .colab-df-quickchart {\n",
       "    background-color: var(--bg-color);\n",
       "    border: none;\n",
       "    border-radius: 50%;\n",
       "    cursor: pointer;\n",
       "    display: none;\n",
       "    fill: var(--fill-color);\n",
       "    height: 32px;\n",
       "    padding: 0;\n",
       "    width: 32px;\n",
       "  }\n",
       "\n",
       "  .colab-df-quickchart:hover {\n",
       "    background-color: var(--hover-bg-color);\n",
       "    box-shadow: 0 1px 2px rgba(60, 64, 67, 0.3), 0 1px 3px 1px rgba(60, 64, 67, 0.15);\n",
       "    fill: var(--button-hover-fill-color);\n",
       "  }\n",
       "\n",
       "  .colab-df-quickchart-complete:disabled,\n",
       "  .colab-df-quickchart-complete:disabled:hover {\n",
       "    background-color: var(--disabled-bg-color);\n",
       "    fill: var(--disabled-fill-color);\n",
       "    box-shadow: none;\n",
       "  }\n",
       "\n",
       "  .colab-df-spinner {\n",
       "    border: 2px solid var(--fill-color);\n",
       "    border-color: transparent;\n",
       "    border-bottom-color: var(--fill-color);\n",
       "    animation:\n",
       "      spin 1s steps(1) infinite;\n",
       "  }\n",
       "\n",
       "  @keyframes spin {\n",
       "    0% {\n",
       "      border-color: transparent;\n",
       "      border-bottom-color: var(--fill-color);\n",
       "      border-left-color: var(--fill-color);\n",
       "    }\n",
       "    20% {\n",
       "      border-color: transparent;\n",
       "      border-left-color: var(--fill-color);\n",
       "      border-top-color: var(--fill-color);\n",
       "    }\n",
       "    30% {\n",
       "      border-color: transparent;\n",
       "      border-left-color: var(--fill-color);\n",
       "      border-top-color: var(--fill-color);\n",
       "      border-right-color: var(--fill-color);\n",
       "    }\n",
       "    40% {\n",
       "      border-color: transparent;\n",
       "      border-right-color: var(--fill-color);\n",
       "      border-top-color: var(--fill-color);\n",
       "    }\n",
       "    60% {\n",
       "      border-color: transparent;\n",
       "      border-right-color: var(--fill-color);\n",
       "    }\n",
       "    80% {\n",
       "      border-color: transparent;\n",
       "      border-right-color: var(--fill-color);\n",
       "      border-bottom-color: var(--fill-color);\n",
       "    }\n",
       "    90% {\n",
       "      border-color: transparent;\n",
       "      border-bottom-color: var(--fill-color);\n",
       "    }\n",
       "  }\n",
       "</style>\n",
       "\n",
       "  <script>\n",
       "    async function quickchart(key) {\n",
       "      const quickchartButtonEl =\n",
       "        document.querySelector('#' + key + ' button');\n",
       "      quickchartButtonEl.disabled = true;  // To prevent multiple clicks.\n",
       "      quickchartButtonEl.classList.add('colab-df-spinner');\n",
       "      try {\n",
       "        const charts = await google.colab.kernel.invokeFunction(\n",
       "            'suggestCharts', [key], {});\n",
       "      } catch (error) {\n",
       "        console.error('Error during call to suggestCharts:', error);\n",
       "      }\n",
       "      quickchartButtonEl.classList.remove('colab-df-spinner');\n",
       "      quickchartButtonEl.classList.add('colab-df-quickchart-complete');\n",
       "    }\n",
       "    (() => {\n",
       "      let quickchartButtonEl =\n",
       "        document.querySelector('#df-855c26ac-d35c-4d8d-99b4-2475c62ae635 button');\n",
       "      quickchartButtonEl.style.display =\n",
       "        google.colab.kernel.accessAllowed ? 'block' : 'none';\n",
       "    })();\n",
       "  </script>\n",
       "</div>\n",
       "    </div>\n",
       "  </div>\n"
      ],
      "text/plain": [
       "   T Promedio  I promedio  Derivada Nume  Voltaje\n",
       "0       1.005        3.11            2.0  2.40162\n",
       "1       1.015        3.13            2.0  2.40446\n",
       "2       1.025        3.16            4.0  4.36872\n",
       "3       1.035        3.21            6.0  6.33582"
      ]
     },
     "execution_count": 3,
     "metadata": {},
     "output_type": "execute_result"
    }
   ],
   "source": [
    "#Derivada numèrica de datos a través de np.\n",
    "derivada = np.diff(i)/np.diff(t)\n",
    "\n",
    "# Definición de una función para calcular el promedio\n",
    "def promedio(array):\n",
    "    return (array[0:len(array) - 1] + array[1:len(array)]) / 2\n",
    "\n",
    "\n",
    "#Promedio de la corriente para la resistencia:\n",
    "i_prom = promedio(i)\n",
    "t_prom = promedio(t)\n",
    "\n",
    "#Valor de inductancia:\n",
    "L = 0.98\n",
    "R = 0.142\n",
    "\n",
    "#Calculo de Fem:\n",
    "fem = L*derivada + R * i_prom\n",
    "\n",
    "#Creación del data frame en pandas de los nuevos vlores:\n",
    "dicc2= {\"T Promedio\": t_prom, \"I promedio\": i_prom, \"Derivada Nume\":derivada, \"Voltaje\":fem }\n",
    "df1=pd.DataFrame(dicc2)\n",
    "\n",
    "#Impresion del Data frame:\n",
    "df1"
   ]
  },
  {
   "cell_type": "code",
   "execution_count": 4,
   "metadata": {
    "colab": {
     "base_uri": "https://localhost:8080/",
     "height": 492
    },
    "id": "AwcbxEkaXYop",
    "outputId": "e27a9102-36b3-4d84-8197-cbf29a715646"
   },
   "outputs": [
    {
     "data": {
      "text/plain": [
       "<matplotlib.legend.Legend at 0x7ad894961c60>"
      ]
     },
     "execution_count": 4,
     "metadata": {},
     "output_type": "execute_result"
    },
    {
     "data": {
      "image/png": "[encoded data removed]",
      "text/plain": [
       "<Figure size 640x480 with 1 Axes>"
      ]
     },
     "metadata": {},
     "output_type": "display_data"
    }
   ],
   "source": [
    "#Interpolación de valores de Fem por medio de CubicSpline:\n",
    "t1 = np.linspace(t_prom[0], t_prom[-1], 1000)\n",
    "\n",
    "cs = CubicSpline(t_prom, fem)\n",
    "\n",
    "fem_vals = cs(t1)\n",
    "\n",
    "plt.plot(t1, fem_vals, label='$\\epsilon$')\n",
    "plt.plot(t_prom, fem, \"r.\", label= \"Promedios\")\n",
    "plt.xlabel('t')\n",
    "plt.ylabel('$\\epsilon$')\n",
    "plt.title('Función $\\epsilon$  Interpolada' )\n",
    "plt.grid(True)\n",
    "plt.legend()"
   ]
  },
  {
   "cell_type": "code",
   "execution_count": 5,
   "metadata": {
    "colab": {
     "base_uri": "https://localhost:8080/",
     "height": 472
    },
    "id": "XrxAK18wgze3",
    "outputId": "fb3429a1-73e1-483b-b39c-afa6c71d9b81"
   },
   "outputs": [
    {
     "data": {
      "image/png": "[encoded data removed]",
      "text/plain": [
       "<Figure size 640x480 with 1 Axes>"
      ]
     },
     "metadata": {},
     "output_type": "display_data"
    }
   ],
   "source": [
    "# Interpolamos los valores de la corriente con el tiempo:\n",
    "t_valss = np.linspace(t[0], t[-1], 1000)\n",
    "\n",
    "# Creación de una función de interpolación cúbica (CubicSpline) para i en función de t\n",
    "css = CubicSpline(t, i)\n",
    "\n",
    "# Cálculo de los valores interpolados de i en t_valss\n",
    "i_vals = css(t_valss)\n",
    "\n",
    "# Creación de un gráfico que muestra i en función del tiempo\n",
    "plt.plot(t_valss, i_vals, label='i(t)')  # Línea de la función interpolada\n",
    "plt.plot(t, i, \".\", label=\"puntos\")    # Puntos de datos originales\n",
    "plt.xlabel('t')\n",
    "plt.ylabel('I')\n",
    "plt.title('I de forma interpolada en función de t ')\n",
    "plt.grid(True)\n",
    "plt.legend()\n",
    "plt.show()"
   ]
  },
  {
   "cell_type": "code",
   "execution_count": 6,
   "metadata": {
    "colab": {
     "base_uri": "https://localhost:8080/",
     "height": 472
    },
    "id": "dOH_bYNahkjq",
    "outputId": "0ab51295-7c6f-41bb-e37c-9720f5d8d2b4"
   },
   "outputs": [
    {
     "data": {
      "image/png": "[encoded data removed]",
      "text/plain": [
       "<Figure size 640x480 with 1 Axes>"
      ]
     },
     "metadata": {},
     "output_type": "display_data"
    }
   ],
   "source": [
    "# Cálculo de la derivada de i_vals con respecto a t_valss usando np.diff\n",
    "didt_f = np.diff(i_vals) / np.diff(t_valss)\n",
    "\n",
    "# Cálculo de los promedios de i_vals y t_valss\n",
    "i_vals_p = promedio(i_vals)\n",
    "t_valss_p = promedio(t_valss)\n",
    "\n",
    "# Cálculo de la variable ε (ε_f) usando la fórmula dada\n",
    "ε_f = L * didt_f + R * i_vals_p\n",
    "\n",
    "# Creación de un gráfico que muestra ε en función del tiempo\n",
    "plt.plot(t_valss_p, ε_f, label='ε(t)')  # Línea de la función calculada\n",
    "plt.plot(t1, fem_vals, label='ε_p(t)')  # Línea de la función interpolada ε_p\n",
    "plt.plot(t_prom, fem, \"r.\", label= \"Punts. Promedios\")\n",
    "plt.title(\"Cálculo de la variable ε con Formula e Interpolación\")\n",
    "plt.xlabel('t')\n",
    "plt.ylabel('$\\epsilon$')\n",
    "plt.grid(True)\n",
    "plt.legend()\n",
    "plt.show()"
   ]
  },
  {
   "cell_type": "markdown",
   "metadata": {
    "id": "4IH5X3vpMb_m"
   },
   "source": [
    "#Parte Dos:\n",
    "###Metodo del trapecio:\n",
    "\n",
    "La regla del trapecio es un método de integración numérica que se utiliza para aproximar el valor de una integral definida. Este método se basa en la aproximación del área bajo la curva de una función mediante trapecios. La idea es dividir el área bajo la curva en varios trapecios y sumar las áreas de los trapecios para obtener una aproximación del área total.\n",
    "\n",
    "La fórmula para calcular la aproximación de la integral mediante la regla del trapecio es:\n",
    "\n",
    "$$\\int_{a}^{b}f(x)dx \\approx \\frac{b-a}{2n}\\left[f(a)+2f(a+\\frac{b-a}{n})+2f(a+2\\frac{b-a}{n})+...+2f(b-\\frac{b-a}{n})+f(b)\\right]$$\n",
    "\n",
    "donde $n$ es el número de trapecios utilizados para aproximar el área bajo la curva.\n",
    "\n",
    "\n",
    "Expresion en Markdown para calcular integral con la regla del trepecio:\n",
    "\n",
    "\n",
    "\n",
    "```\n",
    "#Método del trapecio:\n",
    "\n",
    "#Defino para calcular la Inytegral por método de trapecios de la figura.\n",
    "#Donde se recibe: la función X, los limites de la integral y el número de iteraciones.\n",
    "def intetrap(f, a, b, N):\n",
    "\n",
    "  x= np.linspace(a,b, int(N))\n",
    "\n",
    "  dx = (b-a)/N  #Distancia de cada trapecio o desplazamiento; en este caso constante de x\n",
    "\n",
    "  A= ((f(x[0]) + f(x[-1])) + 2*f(x[1:-1]).sum()) * dx * 0.5 #Área de Trapecio.\n",
    "\n",
    "  return A\n",
    "\n",
    "\n",
    "#Defino f, para aplicar método de integral.\n",
    "f =lambda x: x**2\n",
    "\n",
    "#Aplico los parámetros a la función intetrap que calcula la integral por trapecios.\n",
    "A=intetrap(f, 0, 4, 10000)\n",
    "A\n",
    "\n",
    "\n",
    "#Calculamos las aproximaciones numéricas de la integral respecto a las iteraciones N.\n",
    "\n",
    "# Crear un arreglo de 10 números espaciados uniformemente entre 100 y 10000\n",
    "N= np.linspace(100,10000,10)\n",
    "\n",
    "# Crear un arreglo de ceros con la misma longitud que N\n",
    "areas = np.zeros(len(N))\n",
    "\n",
    "# Iterar sobre los elementos de N y calcular la integral para cada uno\n",
    "for i, n_ in enumerate(N):\n",
    "  areas[i] = intetrap(f, 0, 4, n_)\n",
    "\n",
    "#Gráfica de resultados:\n",
    "plt.plot(N,areas)\n",
    "plt.xlabel(\"N\")\n",
    "plt.ylabel(\"Area\")\n",
    "plt.grid()\n",
    "plt.show()\n",
    "\n",
    "\n",
    "```\n",
    "\n",
    "\n"
   ]
  },
  {
   "cell_type": "markdown",
   "metadata": {
    "id": "jyhDdjPysPlo"
   },
   "source": [
    "### Método Simpson:\n",
    "\n",
    "La regla de Simpson es un método de integración numérica que se utiliza para aproximar el valor de una integral definida. Este método se basa en la aproximación del área bajo la curva de una función mediante parábolas. La idea es dividir el área bajo la curva en varios subintervalos y aproximar\n",
    "cada subintervalo por una parábola.\n",
    "\n",
    "La fórmula para calcular la aproximación de la integral mediante la regla de Simpson es:\n",
    "\n",
    "$$\\int_{a}^{b}f(x)dx \\approx \\frac{b-a}{6n}\\left[f(a)+4f(a+\\frac{b-a}{2n})+2f(a+\\frac{b-a}{n})+4f(a+3\\frac{b-a}{2n})+...+4f(b-\\frac{b-a}{2n})+f(b)\\right]$$\n",
    "\n",
    "donde $n$ es el número de subintervalos utilizados para aproximar el área bajo la curva.\n",
    "\n",
    "\n",
    "La expresiónn en Markdown para calcular una integral por el método de Simpson es:\n",
    "\n",
    "```\n",
    "#Método de Simpson:\n",
    "\n",
    "#Defino la funciòn Simpson:\n",
    "\n",
    "def simpsons(f,a,b):\n",
    "\n",
    "  A = ((b - a)/6) * (f(a) + 4*f((a+b)/2) + f(b))\n",
    "\n",
    "  return A\n",
    "\n",
    "\n",
    "#Defino funcione y lìmite:\n",
    "\n",
    "f = lambda x: (x**2) - 1\n",
    "a = 0\n",
    "b = 4\n",
    "\n",
    "print(\"La integral es: \", simpsons(f,a,b))\n",
    "\n",
    "```\n",
    "\n"
   ]
  },
  {
   "cell_type": "markdown",
   "metadata": {
    "id": "sUHnwX1AF1RE"
   },
   "source": [
    "### Método de Cuadratura\n",
    "\n",
    "La cuadratura de Gauss es un método de integración numérica que se utiliza para aproximar el valor de una integral definida. Este método se basa en la aproximación del área bajo la curva de una función mediante polinomios. La idea es dividir el área bajo la curva en varios subintervalos y aproximar cada subintervalo por un polinomio. La fórmula para calcular la aproximación de la integral mediante la cuadratura de Gauss es:\n",
    "\n",
    "$$\\int_{a}^{b}f(x)dx \\approx \\sum_{i=1}^{n}w_if(z_i)$$\n",
    "\n",
    "donde $n$ es el número de puntos utilizados para aproximar el área bajo la curva, $w_i$ son los pesos asociados a cada punto y $z_i$ son los puntos de evaluación.\n",
    "\n",
    "La cuadratura de Gauss es un método muy preciso y eficiente para aproximar el valor de una integral definida. Existen varias variantes del método, como la cuadratura de Gauss-Legendre, la cuadratura de Gauss-Hermite y la cuadratura de Gauss-Laguerre, entre otras.\n",
    "\n",
    "La fórmula para calcular los pesos y los puntos de evaluación depende del tipo de cuadratura que se esté utilizando. En el caso de la cuadratura de Gauss-Legendre, los pesos y los puntos de evaluación se calculan utilizando los polinomios ortogonales de Legendre. La fórmula para calcular los pesos y los puntos de evaluación es:\n",
    "\n",
    "$$w_i = \\frac{2}{(1-z_i^2)[P_n'(z_i)]^2}$$\n",
    "\n",
    "donde $P_n(x)$ es el polinomio ortogonal de Legendre de grado $n$ y $z_i$ son las raíces del polinomio $P_{n+1}(x)$.\n",
    "\n",
    "La expresión para calcular una integral por método de cuadratura de Gauss es:\n",
    "\n",
    "```\n",
    "def Cuadratura_G(f, a, b, n):\n",
    "    # Calculate los pesos y nodos for la cuadratura:\n",
    "    x, w = np.polynomial.legendre.leggauss(n)\n",
    "\n",
    "    # Mapea  los pesos y nodos en los intervalos [a, b]:\n",
    "    x_mapped = 0.5 * (b - a) * x + 0.5 * (b + a)\n",
    "    w_mapped = 0.5 * (b - a) * w\n",
    "\n",
    "    # Evalua la función en los nodos y suma the resultados:\n",
    "    return np.sum(w_mapped * f(x_mapped))\n",
    "\n",
    "# Ejemplo:\n",
    "f = lambda x: np.sin(x)\n",
    "a = 0\n",
    "b = np.pi / 2\n",
    "n = 10\n",
    "\n",
    "approximation = Cuadratura_G(f, a, b, n)\n",
    "print(f\"The approximation of the integral of sin(x) from {a} to {b} is {approximation}\")\n",
    "```\n"
   ]
  },
  {
   "cell_type": "code",
   "execution_count": 7,
   "metadata": {
    "colab": {
     "base_uri": "https://localhost:8080/",
     "height": 82
    },
    "id": "M9ZsDRYEemml",
    "outputId": "cf992f7a-9361-4c5d-d4c7-54f6bc89902f"
   },
   "outputs": [
    {
     "data": {
      "text/latex": [
       "$\\displaystyle \\int\\limits_{e}^{- e + \\frac{\\pi}{2}} \\frac{1}{\\sqrt{\\tan{\\left(x \\right)}}}\\, dx$"
      ],
      "text/plain": [
       "Integral(1/sqrt(tan(x)), (x, e, -e + pi/2))"
      ]
     },
     "execution_count": 7,
     "metadata": {},
     "output_type": "execute_result"
    }
   ],
   "source": [
    "#Calculo de la primera Integral:\n",
    "\n",
    "x = sp.symbols(\"x\")\n",
    "e = sp.symbols(\"e\")\n",
    "\n",
    "f = 1/sp.sqrt(sp.tan (x))\n",
    "\n",
    "a= e\n",
    "b = (sp.pi/2) - e\n",
    "\n",
    "integral = sp.integrate(f, (x,a,b))\n",
    "integral"
   ]
  },
  {
   "cell_type": "code",
   "execution_count": 8,
   "metadata": {
    "colab": {
     "base_uri": "https://localhost:8080/",
     "height": 509
    },
    "id": "CVXl83J_XbLI",
    "outputId": "e8598a35-e468-48b1-f5fc-ba0c2545e877"
   },
   "outputs": [
    {
     "name": "stderr",
     "output_type": "stream",
     "text": [
      "<ipython-input-8-d97ba4b27b2b>:4: RuntimeWarning: divide by zero encountered in divide\n",
      "  f = lambda x: 1/(np.tan(x))\n"
     ]
    },
    {
     "data": {
      "image/png": "[encoded data removed]",
      "text/plain": [
       "<Figure size 640x480 with 1 Axes>"
      ]
     },
     "metadata": {},
     "output_type": "display_data"
    }
   ],
   "source": [
    "#Grafico la función para analizarlos por medio de trapecios:\n",
    "\n",
    "#Defino la función como objeto numpy:\n",
    "f = lambda x: 1/(np.tan(x))\n",
    "\n",
    "# Definición de intervalo  X a gráficar:\n",
    "x = np.linspace(0,np.pi/2,100)\n",
    "#Gráfica:\n",
    "plt.plot(x,f(x))\n",
    "plt.title('Grafico de $f(x)$')\n",
    "plt.xlabel('X')\n",
    "plt.ylabel('f(x)')\n",
    "plt.grid()\n",
    "plt.show()"
   ]
  },
  {
   "cell_type": "markdown",
   "metadata": {
    "id": "cjz91okaDiIn"
   },
   "source": [
    "Notamos como la gráfica encuentra una división por cero, cuando $x=0$ , además notamos cómo no está definida para cuando $x= π/2 $.\n",
    "\n",
    "Por esta razón, tomamos un valor de epsilopn, el cuál nos quedaría:"
   ]
  },
  {
   "cell_type": "code",
   "execution_count": 9,
   "metadata": {
    "colab": {
     "base_uri": "https://localhost:8080/",
     "height": 475
    },
    "id": "YHdzCZ7dX4bU",
    "outputId": "f3c99226-6b99-481b-8996-7f656188067d"
   },
   "outputs": [
    {
     "data": {
      "image/png": "[encoded data removed]",
      "text/plain": [
       "<Figure size 640x480 with 1 Axes>"
      ]
     },
     "metadata": {},
     "output_type": "display_data"
    }
   ],
   "source": [
    "#Definimos el valor de epsilon:\n",
    "e = 10e-4\n",
    "\n",
    "a = e\n",
    "b = (np.pi/2) - e\n",
    "\n",
    "# Redefinimos el intervalo de X:\n",
    "x_e = np.linspace(a,b,100)\n",
    "\n",
    "#Gráficos:\n",
    "plt.plot(x_e, f(x_e))\n",
    "plt.title('Grafico de $f(x)$ con límite e')\n",
    "plt.xlabel('X_e')\n",
    "plt.ylim(-0.5,12)\n",
    "plt.ylabel('f(x_e)')\n",
    "plt.grid()\n",
    "plt.show()"
   ]
  },
  {
   "cell_type": "code",
   "execution_count": 10,
   "metadata": {
    "id": "QtmPv0voFy0E"
   },
   "outputs": [],
   "source": [
    "# Solución de integral por medio de trapecio:\n",
    "# Defino para calcular la Integral por método de trapecios de la figura.\n",
    "# Donde se recibe: la función X, los limites de la integral y el número de iteraciones.\n",
    "def intetrap(f, a, b, N):\n",
    "  x= np.linspace(a,b, int(N))\n",
    "  dx = (b-a)/N  #Distancia de cada trapecio o desplazamiento; en este caso constante de x\n",
    "  A= ((f(x[0]) + f(x[-1])) + 2*f(x[1:-1]).sum()) * dx * 0.5 #Área de Trapecio.\n",
    "  return A\n",
    "T = intetrap(f,a,b,10000000)\n",
    "\n",
    "#Solución de integral por método Simpson:\n",
    "#Defino la funciòn Simpson Compuesta:\n",
    "def simpcom(f,a,b,n):\n",
    "  h = (b-a)/n\n",
    "  x = np.linspace(a,b,n)\n",
    "  s_1 = 0\n",
    "  s_2 = 0\n",
    "  for j in range(0, int((n/2))):\n",
    "    s_1 += f(x[2*j])\n",
    "    s_2 += f(x[(2*j) - 1])\n",
    "  s_2 += f(x[n-1])\n",
    "  A= (h/3)*(f(a) + (2 * s_1) + (4 * s_2) + f(b))\n",
    "  return A\n",
    "S = simpcom(f,a,b,10000000)\n",
    "\n",
    "#Solución de integtral por Cuadratura de Gauss:\n",
    "def Cuadratura_G(f, a, b, n):\n",
    "  # Calculate los pesos y nodos for la cuadratura:\n",
    "  x, w = np.polynomial.legendre.leggauss(n)\n",
    "\n",
    "  # Mapea  los pesos y nodos en los intervalos [a, b]:\n",
    "  x_mapped = 0.5 * (b - a) * x + 0.5 * (b + a)\n",
    "  w_mapped = 0.5 * (b - a) * w\n",
    "  # Evalua la función en los nodos y suma the resultados:\n",
    "  return np.sum(w_mapped * f(x_mapped))\n",
    "C = Cuadratura_G(f,a,b,1000)\n"
   ]
  },
  {
   "cell_type": "code",
   "execution_count": 11,
   "metadata": {
    "colab": {
     "base_uri": "https://localhost:8080/"
    },
    "id": "770uB7KsKn6i",
    "outputId": "386bedf6-8453-4852-cd1d-3a99ab02eb05"
   },
   "outputs": [
    {
     "name": "stdout",
     "output_type": "stream",
     "text": [
      "METODO TRAPECIO:\n",
      "La integral por medio de nuestro programa da: 6.907754256924166\n",
      "La integral por medio de la librería scipy da: 12.545952100268225\n",
      "\n",
      "METODO SIMPSON COMPUESTO:\n",
      "La integral por medio de nuestro programa da: 6.907858841625682\n",
      "La integral por medio de la librería scipy da: 10.119765304477156\n",
      "\n",
      "METODO CUADRATURA DE GAUSS:\n",
      "La integral por medio de nuestro programa da: 6.90775494558086\n",
      "La integral por medio de la librería scipy da: 6.907754945648726\n"
     ]
    }
   ],
   "source": [
    "# Imprimimos resultado:\n",
    "print('METODO TRAPECIO:')\n",
    "print('La integral por medio de nuestro programa da:',T)\n",
    "print('La integral por medio de la librería scipy da:', trapezoid(f(x_e),x_e))\n",
    "print()\n",
    "print('METODO SIMPSON COMPUESTO:')\n",
    "print('La integral por medio de nuestro programa da:',S)\n",
    "print('La integral por medio de la librería scipy da:', simpson(f(x_e),x_e))\n",
    "print()\n",
    "print('METODO CUADRATURA DE GAUSS:')\n",
    "print('La integral por medio de nuestro programa da:',C)\n",
    "print('La integral por medio de la librería scipy da:', quad(f,a,b,)[0])"
   ]
  },
  {
   "cell_type": "markdown",
   "metadata": {
    "id": "BF7LIMAHNLxx"
   },
   "source": [
    "Calculo de la integral:\n",
    "\n",
    "$$\n",
    " \\int_{-\\infty}^{\\infty} \\frac{1}{1+x^2} \\, dx\n",
    " $$"
   ]
  },
  {
   "cell_type": "code",
   "execution_count": 12,
   "metadata": {
    "colab": {
     "base_uri": "https://localhost:8080/",
     "height": 39
    },
    "id": "FuT7PrNAH4jh",
    "outputId": "7bc2456a-72cf-474a-ea1d-42461f5cf4ee"
   },
   "outputs": [
    {
     "data": {
      "text/latex": [
       "$\\displaystyle \\pi$"
      ],
      "text/plain": [
       "pi"
      ]
     },
     "execution_count": 12,
     "metadata": {},
     "output_type": "execute_result"
    }
   ],
   "source": [
    "#Calculo de la primera Integral:\n",
    "#Definición de x simbólica:\n",
    "x = sp.symbols(\"x\")\n",
    "\n",
    "#Definición de función:\n",
    "f = 1/(1 + (x)**2)\n",
    "\n",
    "#Defino límites:\n",
    "a= - sp.oo\n",
    "b = sp.oo\n",
    "\n",
    "#Realizo la integral por Sympy:\n",
    "integral = sp.integrate(f, (x,a,b))\n",
    "integral"
   ]
  },
  {
   "cell_type": "code",
   "execution_count": 13,
   "metadata": {
    "colab": {
     "base_uri": "https://localhost:8080/",
     "height": 474
    },
    "id": "mF2Cr_o9IlJz",
    "outputId": "371439d7-f796-4a9f-a0d1-56f20632ea1b"
   },
   "outputs": [
    {
     "data": {
      "image/png": "[encoded data removed]",
      "text/plain": [
       "<Figure size 640x480 with 1 Axes>"
      ]
     },
     "metadata": {},
     "output_type": "display_data"
    }
   ],
   "source": [
    "# Grafica de la función para analizar por trapecios:\n",
    "#Defino la función como objeto numpy:\n",
    "f = lambda x: 1/(1 + (x**2))\n",
    "\n",
    "# Definición de intervalo  X a gráficar:\n",
    "x = np.linspace(-50,50,10000)\n",
    "#Gráfica:\n",
    "plt.plot(x,f(x))\n",
    "plt.title('Grafico de $f(x)$')\n",
    "plt.xlabel('X')\n",
    "plt.ylabel('f(x)')\n",
    "plt.grid()\n",
    "plt.show()"
   ]
  },
  {
   "cell_type": "markdown",
   "metadata": {
    "id": "zw2p66VuNIOn"
   },
   "source": [
    "Debido a la símetría de la función respecto al eje y, podemos reescribir la integral de la siguente manera:\n",
    "\n",
    "$$\n",
    " \\int_{0}^{\\infty} \\frac{2}{1+x^2} \\, dx\n",
    " $$\n",
    "\n",
    "La cual por medipo de la librería Sympy nos debe dar el mismo valor que la anterior:\n"
   ]
  },
  {
   "cell_type": "code",
   "execution_count": 14,
   "metadata": {
    "colab": {
     "base_uri": "https://localhost:8080/",
     "height": 91
    },
    "id": "z9qTUs40MJTc",
    "outputId": "23bbe2e2-db70-43e6-f5eb-e1ece5a43a29"
   },
   "outputs": [
    {
     "name": "stdout",
     "output_type": "stream",
     "text": [
      "Integral inicial == integral reescrita:\n",
      "True\n",
      "valor:\n"
     ]
    },
    {
     "data": {
      "text/latex": [
       "$\\displaystyle \\pi$"
      ],
      "text/plain": [
       "pi"
      ]
     },
     "execution_count": 14,
     "metadata": {},
     "output_type": "execute_result"
    }
   ],
   "source": [
    "#Definición de xg simbólica:\n",
    "xg = sp.symbols(\"xg\")\n",
    "\n",
    "#definición de función:\n",
    "g = 2/(1 + (xg)**2)\n",
    "\n",
    "#Defino límites:\n",
    "ga= 0\n",
    "gb = sp.oo\n",
    "\n",
    "#Realizo la integral por Sympy:\n",
    "integralg = sp.integrate(g, (xg,ga,gb))\n",
    "\n",
    "print('Integral inicial == integral reescrita:')\n",
    "print(integral == integralg)\n",
    "print('valor:')\n",
    "integralg"
   ]
  },
  {
   "cell_type": "markdown",
   "metadata": {
    "id": "R20_rmC7PUhT"
   },
   "source": [
    "Por tanto, graficamos la función reescrita y ademas agregamos un ɛ -> ∞ tal que podamos remmplazar en el límite superior, y podamos calcular la integral numéricamente  por el método del Trapecio, Simpson y Cuadratura:   "
   ]
  },
  {
   "cell_type": "code",
   "execution_count": 15,
   "metadata": {
    "colab": {
     "base_uri": "https://localhost:8080/",
     "height": 472
    },
    "id": "9AIXhXZfOOkC",
    "outputId": "2348b11d-8e9e-4213-8013-cd6320e19dd1"
   },
   "outputs": [
    {
     "data": {
      "image/png": "[encoded data removed]",
      "text/plain": [
       "<Figure size 640x480 with 1 Axes>"
      ]
     },
     "metadata": {},
     "output_type": "display_data"
    }
   ],
   "source": [
    "#Definimos el epsilon:\n",
    "a = 0\n",
    "eps = 10e4\n",
    "#definiendo función:\n",
    "g = lambda x: 2/(1 + (x**2))\n",
    "#Definimos intervalo en X:\n",
    "x = np.linspace(a,eps,1000000)\n",
    "#Grafica:\n",
    "plt.plot(x, g(x))\n",
    "plt.title(\"Gráfica de integral reescrita con epsilon\")\n",
    "plt.xlabel('X')\n",
    "plt.ylabel('g(x)')\n",
    "plt.xlim(-0.5,70)\n",
    "plt.grid()"
   ]
  },
  {
   "cell_type": "code",
   "execution_count": 16,
   "metadata": {
    "id": "j4B3PY2ES2Hg"
   },
   "outputs": [],
   "source": [
    "# Solución de integral por medio de trapecio:\n",
    "Tg = intetrap(g,a,eps,10000000)\n",
    "\n",
    "#Solución de integral por método Simpson Compuesto:\n",
    "Sg = simpcom(g,a,eps,10000000)\n",
    "\n",
    "#Solución de integtral por Cuadratura de Gauss:\n",
    "Cg = Cuadratura_G(g,a,eps,1000)\n"
   ]
  },
  {
   "cell_type": "code",
   "execution_count": 17,
   "metadata": {
    "colab": {
     "base_uri": "https://localhost:8080/"
    },
    "id": "zAnzHTTfTgXc",
    "outputId": "80473c04-89be-485a-80a0-631859de19ef"
   },
   "outputs": [
    {
     "name": "stdout",
     "output_type": "stream",
     "text": [
      "METODO TRAPECIO:\n",
      "La integral por medio de nuestro programa da: 3.141572339432526\n",
      "La integral por medio de la librería scipy da: 3.1415726535897948\n",
      "\n",
      "METODO SIMPSON COMPUESTO:\n",
      "La integral por medio de nuestro programa da: 3.154905672770634\n",
      "La integral por medio de la librería scipy da: 3.1415726535897464\n",
      "\n",
      "METODO CUADRATURA DE GAUSS:\n",
      "La integral por medio de nuestro programa da: 3.1408052091002645\n",
      "La integral por medio de la librería scipy da: 3.1415726535898214\n"
     ]
    }
   ],
   "source": [
    "# Imprimimos resultado:\n",
    "print('METODO TRAPECIO:')\n",
    "print('La integral por medio de nuestro programa da:',Tg)\n",
    "print('La integral por medio de la librería scipy da:', trapezoid(g(x),x))\n",
    "print()\n",
    "print('METODO SIMPSON COMPUESTO:')\n",
    "print('La integral por medio de nuestro programa da:',Sg)\n",
    "print('La integral por medio de la librería scipy da:', simpson(g(x),x))\n",
    "print()\n",
    "print('METODO CUADRATURA DE GAUSS:')\n",
    "print('La integral por medio de nuestro programa da:',Cg)\n",
    "print('La integral por medio de la librería scipy da:', quad(g,0,eps)[0])"
   ]
  },
  {
   "cell_type": "markdown",
   "metadata": {
    "id": "QwaEBy2GU7b5"
   },
   "source": [
    "Calculo de la integral:\n",
    "\n",
    "$$\n",
    " \\int_{0}^{\\pi/4} \\int_{\\sin x}^{\\cos x} (2y\\sin x +\\cos^2 x)\\, dxdy\n",
    " $$"
   ]
  },
  {
   "cell_type": "code",
   "execution_count": 18,
   "metadata": {
    "colab": {
     "base_uri": "https://localhost:8080/"
    },
    "id": "6P9grH3bUCe_",
    "outputId": "b8efd567-fb4c-4645-c04c-aec133b8159e"
   },
   "outputs": [
    {
     "name": "stdout",
     "output_type": "stream",
     "text": [
      "EL resultado de la integral doble es:  0.5118445260477336\n"
     ]
    }
   ],
   "source": [
    "#Lites de Y:\n",
    "l1 = lambda x: np.sin(x)\n",
    "l2 = lambda x: np.cos(x)\n",
    "\n",
    "#lìmites de x:\n",
    "a = 0\n",
    "b = (np.pi/4)\n",
    "\n",
    "#definimos x equidistantes en el intervalo de limites en X:\n",
    "x = np.linspace(a,b,1000)\n",
    "\n",
    "#Integrando la funciòn con respecto a Y y almacenamos el resultado en la variable I[j]:\n",
    "j = 0\n",
    "I = np.zeros(len(x))\n",
    "for i in x:\n",
    "  f_i = lambda y: ((2*y*np.sin(i)) + (np.cos(i))**2)\n",
    "  I[j] = quad(f_i, l1(i),l2(i))[0]\n",
    "  j += 1\n",
    "\n",
    "#Se calcula la aproximación de la integral I en el intervalo X.\n",
    "integral = trapezoid(I,x)\n",
    "print('EL resultado de la integral doble es: ',integral)\n"
   ]
  },
  {
   "cell_type": "markdown",
   "metadata": {
    "id": "ceM09O4Ha4Jd"
   },
   "source": [
    "### 5. Pendulo Físico:\n",
    "\n",
    "\n",
    "\\begin{equation}\n",
    "P = \\frac{2P_0}{\\pi} \\int _0^{\\pi/2} \\frac{\\mathrm{d\\phi}}{\\sqrt{1-k^2\\sin^2\\phi}}\n",
    "\\end{equation}"
   ]
  },
  {
   "cell_type": "code",
   "execution_count": 19,
   "metadata": {
    "colab": {
     "base_uri": "https://localhost:8080/"
    },
    "id": "wofdsxPNUq01",
    "outputId": "4ef9a6ca-9256-4290-9542-77c404c1520f"
   },
   "outputs": [
    {
     "name": "stdout",
     "output_type": "stream",
     "text": [
      "El periodo inicial del pendulo es:  1.0436600087397971\n"
     ]
    }
   ],
   "source": [
    "#Parámetros Iniciales:\n",
    "\n",
    "thetai = np.deg2rad(45) #Ángulo inicial\n",
    "g = 9.8                 #Gravedad\n",
    "b = 0.25                #Longitud de hilo(m)\n",
    "d = 1                   #Parametro geométrico del sistema\n",
    "m = 1                   #Masa del péndulo\n",
    "I0 = b**2*m*d\n",
    "\n",
    "#Hallamos Periodo:\n",
    "\n",
    "T = 2*np.pi*(np.sqrt(b*d/g))\n",
    "\n",
    "#Se halla valor de K pararesolver integral:\n",
    "\n",
    "K = np.sin(thetai/2)\n",
    "\n",
    "#Definimos lìmites de la integral:\n",
    "\n",
    "a = 0\n",
    "b= np.pi/2\n",
    "\n",
    "#Definimos phi como array:\n",
    "\n",
    "phi = np.linspace(a,b,1000)\n",
    "\n",
    "#Definimos la función numérica:\n",
    "\n",
    "p_num = 2*T/(np.pi *np.sqrt(1- (K**2 * np.sin(phi)**2) ))\n",
    "\n",
    "P = trapezoid(p_num,phi)\n",
    "\n",
    "print(\"El periodo inicial del pendulo es: \",P)\n"
   ]
  },
  {
   "cell_type": "code",
   "execution_count": 20,
   "metadata": {
    "colab": {
     "base_uri": "https://localhost:8080/",
     "height": 473
    },
    "id": "HZf11OHUVOAJ",
    "outputId": "55f9543f-4c80-4188-fa03-ed78a538ebf1"
   },
   "outputs": [
    {
     "data": {
      "image/png": "[encoded data removed]",
      "text/plain": [
       "<Figure size 640x480 with 1 Axes>"
      ]
     },
     "metadata": {},
     "output_type": "display_data"
    }
   ],
   "source": [
    "#Realizamos una función para determinar el periodo como función númerica de un péndulo:\n",
    "\n",
    "def periodo(b,d, thetai):\n",
    "  thetai = np.deg2rad(thetai) #Ángulo inicial\n",
    "  g = 9.8                 #Gravedad\n",
    "  b = b                #Longitud de hilo(m)\n",
    "  d = d                   #Parametro geométrico del sistema\n",
    "  m = 1                   #Masa del péndulo\n",
    "  I0 = b**2*m*d\n",
    "\n",
    "  T = 2*np.pi*(np.sqrt(b*d/g))\n",
    "  K = np.sin(thetai/2)\n",
    "  #Definimos lìmites de la integral:\n",
    "\n",
    "  a = 0\n",
    "  b= np.pi/2\n",
    "\n",
    "  #Definimos phi como array:\n",
    "\n",
    "  phi = np.linspace(a,b,1000)\n",
    "\n",
    "  #Definimos la función numérica:\n",
    "\n",
    "  p_num = 2*T/(np.pi *np.sqrt(1- (K**2 * np.sin(phi)**2) ))\n",
    "\n",
    "  return p_num\n",
    "\n",
    "\n",
    "#Utilizamos la función:\n",
    "b = 0.25                #Longitud de hilo(m)\n",
    "d = 1                   #Parametro geométrico del sistema\n",
    "thetai = np.arange(0, 90, 1)\n",
    "p_vals = np.zeros(len(thetai))\n",
    "j=0\n",
    "\n",
    "# Secrea un ciclo para graficar P en funciòn del aǹgulo:\n",
    "for i in thetai:\n",
    "  p_vals[j] = trapezoid(periodo(b,d,thetai[i]), phi)\n",
    "  j += 1\n",
    "\n",
    "\n",
    "plt.plot(thetai, p_vals, label=\"P(s)\")\n",
    "plt.title(\"Periodo vs ángulo en un Pendulo Simple\")\n",
    "plt.xlabel(\"ángulo(°)\")\n",
    "plt.ylabel(\"Periodo (S)\")\n",
    "plt.grid()\n",
    "plt.show()\n"
   ]
  },
  {
   "cell_type": "markdown",
   "metadata": {
    "id": "d-JROXM05O9O"
   },
   "source": [
    "### 6. Loop con Coordenadas Esféricas\n",
    "\n",
    "\\begin{equation}\n",
    "A_{\\phi}(r, \\theta)=\\frac{\\mu_0}{4\\pi}\\frac{4Ia}{\\sqrt{a^2+r^2+2ar\\sin \\theta}}\\left(\\frac{(2-k^2)K(k)-2E(k)}{k^2} \\right)\n",
    "\\end{equation}\n",
    "\n",
    "\n",
    "where\n",
    "\n",
    "\\begin{equation}\n",
    "K(k)=\\int_{0}^{\\pi/2} \\frac{\\mathrm{d\\phi}}{\\sqrt{1-k^2\\sin^2\\phi}}\n",
    "\\end{equation}\n",
    "\n",
    "\n",
    "\\begin{equation}\n",
    "E(k)=\\int_{0}^{\\pi/2} \\mathrm{d\\phi} \\sqrt{1-k^2\\sin^2\\phi}\n",
    "\\end{equation}\n",
    "\n",
    "\n",
    "\\begin{equation}\n",
    "k^2=\\frac{4ar\\sin\\theta}{a^2+r^2+2ar\\sin\\theta}\n",
    "\\end{equation}\n",
    "\n"
   ]
  },
  {
   "cell_type": "markdown",
   "metadata": {
    "id": "o9_sORBSL3il"
   },
   "source": [
    "##### Para A). $A_𝞍(r=1.1 , θ) vs. θ $"
   ]
  },
  {
   "cell_type": "code",
   "execution_count": 29,
   "metadata": {
    "colab": {
     "base_uri": "https://localhost:8080/"
    },
    "id": "lDE5CrWxAunq",
    "outputId": "5f4d09ac-569d-4559-9d47-d601e995786c"
   },
   "outputs": [
    {
     "data": {
      "text/plain": [
       "3.0225471320345263"
      ]
     },
     "execution_count": 29,
     "metadata": {},
     "output_type": "execute_result"
    }
   ],
   "source": [
    "#Definimos la función que vamos a graficar:\n",
    "def A(r,thetai):\n",
    "  a = 1\n",
    "  I = 3\n",
    "  c = 1   #c= u_0/4*pi\n",
    "  #Definimos función K:\n",
    "  theta = np.deg2rad(thetai) #Pasamos los angulos a readianes:\n",
    "  k = np.sqrt((4*a*r*np.sin(theta))/(a**2 + r**2 + (2*a*r*np.sin(theta))))\n",
    "  # Límites de integrales:\n",
    "  inf = 0\n",
    "  sup = np.pi/2\n",
    "  #Se define phi como array:\n",
    "  phi = np.linspace(inf, sup, 1000)\n",
    "  #Se define las funciones numéricas a integrar:\n",
    "  E_num = np.sqrt(1 -(k**2 * np.sin(phi)**2))\n",
    "  K_num = 1/(np.sqrt(1 -(k**2 * np.sin(phi)**2)))\n",
    "  #realiza las integrales de las funciones numericas definidas\n",
    "  Ek = trapezoid(E_num, phi)\n",
    "  Kk = trapezoid(K_num, phi)\n",
    "  #calculo de A\n",
    "  B = (((2 - k**2)*Kk) - 2*Ek)/k**2\n",
    "  A = (c*4*I*a/np.sqrt(a**2 + r**2 +(2*a*r*np.sin(theta))))*B\n",
    "\n",
    "  return A\n",
    "\n",
    "#Probamos la función para un r y un thta fijo:\n",
    "r = 1.1\n",
    "thetai = 45\n",
    "A(r,thetai)"
   ]
  },
  {
   "cell_type": "code",
   "execution_count": 31,
   "metadata": {
    "colab": {
     "base_uri": "https://localhost:8080/",
     "height": 509
    },
    "id": "gC8oBHMhI-Op",
    "outputId": "73564276-e889-4dd9-9dfa-6b7dea6460d2"
   },
   "outputs": [
    {
     "name": "stderr",
     "output_type": "stream",
     "text": [
      "<ipython-input-29-d215959d6cf5>:29: RuntimeWarning: invalid value encountered in double_scalars\n",
      "  B = (((2 - k**2)*Kk) - 2*Ek)/k**2\n"
     ]
    },
    {
     "data": {
      "image/png": "[encoded data removed]",
      "text/plain": [
       "<Figure size 640x480 with 1 Axes>"
      ]
     },
     "metadata": {},
     "output_type": "display_data"
    }
   ],
   "source": [
    "# Evaluamos la función en un theta variable y graficamos:\n",
    "r = 1.1\n",
    "theta = np.arange(0,90,1)\n",
    "\n",
    "Vals_A = np.zeros(len(theta))\n",
    "j = 0\n",
    "#Ciclo para graficas:\n",
    "for i in theta:\n",
    "  Vals_A[j] = A(r,theta[i])\n",
    "  j += 1\n",
    "\n",
    "plt.plot(theta, Vals_A)\n",
    "plt.title('A vs Ángulo')\n",
    "plt.xlabel('Angulo (°)')\n",
    "plt.ylabel('A(theta)')\n",
    "plt.grid()\n",
    "plt.show()\n"
   ]
  },
  {
   "cell_type": "markdown",
   "metadata": {
    "id": "aPesjjrO7Ot8"
   },
   "source": [
    "##### Para A). $A_𝞍(r, θ = π/3) vs. r $"
   ]
  },
  {
   "cell_type": "code",
   "execution_count": 38,
   "metadata": {
    "colab": {
     "base_uri": "https://localhost:8080/",
     "height": 507
    },
    "id": "brlmjhrkKpIG",
    "outputId": "b5ff83a8-0a5e-4ed0-c9c4-ecb5f418f427"
   },
   "outputs": [
    {
     "name": "stderr",
     "output_type": "stream",
     "text": [
      "<ipython-input-29-d215959d6cf5>:29: RuntimeWarning: invalid value encountered in double_scalars\n",
      "  B = (((2 - k**2)*Kk) - 2*Ek)/k**2\n"
     ]
    },
    {
     "data": {
      "image/png": "[encoded data removed]",
      "text/plain": [
       "<Figure size 640x480 with 1 Axes>"
      ]
     },
     "metadata": {},
     "output_type": "display_data"
    }
   ],
   "source": [
    "# Evaluamos la función en un r variable y graficamos:\n",
    "r = np.linspace(0,10,1000)\n",
    "theta = np.rad2deg(np.pi/3)\n",
    "\n",
    "Vals_A = np.zeros(len(r))\n",
    "j = 0\n",
    "\n",
    "#Ciclo para graficas:\n",
    "for i in range(len(r)):\n",
    "  Vals_A[j] = A(r[i],theta)\n",
    "  j += 1\n",
    "\n",
    "plt.plot(r, Vals_A)\n",
    "plt.title('A vs r')\n",
    "plt.xlabel('r')\n",
    "plt.ylabel('A(r)')\n",
    "plt.grid()\n",
    "plt.show()"
   ]
  },
  {
   "cell_type": "code",
   "execution_count": null,
   "metadata": {
    "id": "Fe6Q0gcoNGzF"
   },
   "outputs": [],
   "source": []
  }
 ],
 "metadata": {
  "colab": {
   "provenance": []
  },
  "kernelspec": {
   "display_name": "Python 3 (ipykernel)",
   "language": "python",
   "name": "python3"
  },
  "language_info": {
   "codemirror_mode": {
    "name": "ipython",
    "version": 3
   },
   "file_extension": ".py",
   "mimetype": "text/x-python",
   "name": "python",
   "nbconvert_exporter": "python",
   "pygments_lexer": "ipython3",
   "version": "3.10.9"
  }
 },
 "nbformat": 4,
 "nbformat_minor": 1
}
