{
  "cells": [
    {
      "cell_type": "markdown",
      "metadata": {
        "id": "Nu_t3yK6MA2L"
      },
      "source": [
        "<a href=\"https://colab.research.google.com/github/hernansalinas/autogrades/blob/main/Actividades_clase/Actividad_07_Interpolation_spline_detallada.pynb\" target=\"_parent\"><img src=\"https://colab.research.google.com/assets/colab-badge.svg\" alt=\"Open In Colab\"/></a>\n"
      ]
    },
    {
      "cell_type": "markdown",
      "metadata": {
        "id": "mSsxQQu8MA2O"
      },
      "source": [
        "Actividad :\n",
        "\n",
        "Entender el siguiente código para realizar la interpolación de splinbe de forma detallada. Agregar un punto adicional y realizar un proceso analogo al detallado a continuación."
      ]
    },
    {
      "cell_type": "markdown",
      "metadata": {
        "id": "LAi7gwybR1zQ"
      },
      "source": [
        "# Spline interpolacion\n",
        "  "
      ]
    },
    {
      "cell_type": "code",
      "execution_count": 1,
      "metadata": {
        "id": "KCviXwLQR1zV"
      },
      "outputs": [],
      "source": [
        "import numpy as np\n",
        "import matplotlib.pylab as plt\n",
        "from numpy.linalg import solve\n",
        "%matplotlib inline\n",
        "#REF: Adaptado de  https://github.com/rrgalvan"
      ]
    },
    {
      "cell_type": "markdown",
      "metadata": {
        "id": "rfMQrtUZR1zf"
      },
      "source": [
        "Calcular el spline cúbico que interpola los puntos $(-1,5)$, $(0,3)$, $(1,3)$."
      ]
    },
    {
      "cell_type": "code",
      "execution_count": 2,
      "metadata": {
        "id": "dWntiVEoR1zh"
      },
      "outputs": [],
      "source": [
        "x0, x1, x2 = -1, 0, 1\n",
        "_x = np.array([x0, x1, x2])\n",
        "y0, y1, y2 =  5, 3, 3\n",
        "_y = np.array([y0, y1, y2])"
      ]
    },
    {
      "cell_type": "markdown",
      "metadata": {
        "id": "l-GSuaVdR1zo"
      },
      "source": [
        "Para calcular los splines cúbicos debemos resolver el sistema de ecuaciones que define los coeficientes de los polinomios cúbicos en los subintervalos $[-1,0]$ y $[0,1]$. Empleando las condiciones del metodo de spline, y defiendo los polinomios para garantizar la continuidad en cada unos de los puntos, tenemos que:\n",
        "\n",
        "Sean:\n",
        "  * $s_0(x) = a_0 + b_0 (x-x_0) + c_0 (x-x_0)^2 + d_0 (x-x_0)^3$,\n",
        "  * $s_1(x) = a_1 + b_1 (x-x_1) + c_1 (x-x_1)^2 + d_1 (x-x_1)^3$,\n",
        "\n",
        "es decir:\n",
        "  * $s_0(x) = a_0 + b_0 (x+1) + c_0 (x+1)^2 + d_0 (x+1)^3$,\n",
        "  * $s_1(x) = a_1 + b_1 x + c_1 x^2 + d_1 x^3$.\n",
        "\n",
        "Entonces\n",
        "  * $s_0'(x) =  b_0 + 2 c_0 (x+1) + 3 d_0 (x+1)^2$,\n",
        "  * $s_0''(x) = 2 c_0 + 6 d_0 (x+1)$,\n",
        "  * $s_1'(x) =  b_1 + 2 c_1 x + 3 d_1 x^2$,\n",
        "  * $s_1''(x) = 2 c_1 + 6 d_1 x$.\n",
        "\n",
        "Tenemos 8 incógnitas, $a_i$, $b_i$, $c_i$, $d_i$ con $i=0,1$. Las ecuaciones son:\n",
        "\n",
        "  * Interpolación (y continuidad en 0):\n",
        "\n",
        "    * $s_0(-1) = 5$, es decir, $a_0=5$.\n",
        "    * $s_0(0)  = 3$, es decir, $a_0+b_0+c_0+d_0=3$.\n",
        "    * $s_1(0) = 3$, es decir, $a_1=3$.\n",
        "    * $s_1(1)  = 3$, es decir, $a_1+b_1+c_1+d_1=3$.\n",
        "    \n",
        "  * Derivabilidad:\n",
        "\n",
        "    * $s_0'(0) = s_1'(0)$, es decir, $b_0+2c_0+3d_0 = b_1$.\n",
        "    * $s_0''(0) = s_1''(0)$, es decir, $2c_0+6d_0 = 2c_1$.\n",
        "\n",
        "  * Condiciones naturales en los extremos, $-1$ y $1$:\n",
        "\n",
        "    * $s_0''(-1) = 0$, es decir, $2c_0=0$.\n",
        "    * $s_1''(1) = 0$, o sea $2c_1+6d_1=0$.\n",
        "\n",
        "\n",
        "De estas ecuaciones tenemos directamente $a_0$, $a_1$, y $c_1$. Le damos valores a las variables en python:"
      ]
    },
    {
      "cell_type": "code",
      "execution_count": 3,
      "metadata": {
        "id": "5sxEuNwNR1zp"
      },
      "outputs": [],
      "source": [
        "a0 = 5\n",
        "a1 = 3\n",
        "c0 = 0"
      ]
    },
    {
      "cell_type": "markdown",
      "metadata": {
        "id": "eZScj4sDR1zu"
      },
      "source": [
        "Así, podemos eliminar la primera, tercera y séptima ecuación, llegando a un sistema de cinco ecuaciones con cinco incógnitas ($b_0$, $d_0$, $b_1$, $c_1$, $d_1$):\n",
        "\n",
        " * $b_0+d_0=3-a_0-c_0=-2$,\n",
        " * $b_1+c_1+d_1=3-a_1=0$,\n",
        " * $b_0+3d_0 - b_1 = -2c_0 = 0$,\n",
        " * $6d_0 - 2c_1 = -2c_0=0$\n",
        " * $2c_1+6d_1=0$\n",
        "\n",
        "\n",
        "La matriz y el segundo miembro asociados son:"
      ]
    },
    {
      "cell_type": "code",
      "execution_count": 4,
      "metadata": {
        "id": "psxIbmXlR1zw"
      },
      "outputs": [],
      "source": [
        "A = np.array([\n",
        "\t[ 1, 1,   0,  0, 0],\n",
        "\t[ 0, 0,   1,  1, 1],\n",
        "\t[ 1, 3,  -1,  0, 0],\n",
        "\t[ 0, 6,   0, -2, 0],\n",
        "\t[ 0, 0,   0,  2, 6]])\n",
        "b = np.array([-2, 0, 0, 0, 0])"
      ]
    },
    {
      "cell_type": "code",
      "execution_count": 5,
      "metadata": {
        "colab": {
          "base_uri": "https://localhost:8080/"
        },
        "id": "WwMP5DSdVCuD",
        "outputId": "3524e863-afb8-4c52-b779-a897dd591f5c"
      },
      "outputs": [
        {
          "output_type": "stream",
          "name": "stdout",
          "text": [
            "[-2.5  0.5 -1.   1.5 -0.5]\n"
          ]
        }
      ],
      "source": [
        "sol = solve(A,b)\n",
        "print(sol)"
      ]
    },
    {
      "cell_type": "markdown",
      "metadata": {
        "id": "1bjXd0wHR1z1"
      },
      "source": [
        "Ahora podemos resolver este sistema usando la función `solve()` (incluida en el modulo \"linalg\" del paquete *numpy*):"
      ]
    },
    {
      "cell_type": "code",
      "execution_count": 6,
      "metadata": {
        "colab": {
          "base_uri": "https://localhost:8080/"
        },
        "id": "NWQhfHd_R1z3",
        "outputId": "ae15b80f-3821-4c6b-ae62-425e836dbe2a"
      },
      "outputs": [
        {
          "output_type": "stream",
          "name": "stdout",
          "text": [
            "a0, b0, c0, d0 = 5.000000, -2.500000, 0.000000, 0.500000\n",
            "a1, b1, c1, d1 = 3.000000, -1.000000, 1.500000, -0.500000\n"
          ]
        }
      ],
      "source": [
        "sol = solve(A,b)\n",
        "\n",
        "# Definimos la solución como variables b0, d0, b1, c1 y d1\n",
        "b0, d0, b1, c1, d1 = sol\n",
        "\n",
        "# Y mostramos los resultados\n",
        "print (\"a0, b0, c0, d0 = %f, %f, %f, %f\" % (a0, b0, c0, d0))\n",
        "print (\"a1, b1, c1, d1 = %f, %f, %f, %f\" % (a1, b1, c1, d1))"
      ]
    },
    {
      "cell_type": "markdown",
      "metadata": {
        "id": "SP51eFLgR1z_"
      },
      "source": [
        "Para dibujar la gráfica, lo más fácil es definir los polinomios $s_0$ y $s_1$ y representarlos gráficamente."
      ]
    },
    {
      "cell_type": "code",
      "execution_count": 7,
      "metadata": {
        "colab": {
          "base_uri": "https://localhost:8080/",
          "height": 465
        },
        "id": "iZCSh6rkR10A",
        "outputId": "9e8032eb-d5a5-4fa1-d0a2-ae7a6085b6e2"
      },
      "outputs": [
        {
          "output_type": "display_data",
          "data": {
            "text/plain": [
              "<Figure size 700x500 with 1 Axes>"
            ],
            "image/png": "[encoded data removed]"
          },
          "metadata": {}
        }
      ],
      "source": [
        "def s0(x):\n",
        "    return a0 + b0*(x+1) + c0*(x+1)**2 + d0*(x+1)**3\n",
        "def s1(x):\n",
        "    return a1 + b1*x + c1*x**2 + d1*x**3\n",
        "\n",
        "xx0 = np.linspace(-1,0)\n",
        "xx1 = np.linspace(0,1)\n",
        "\n",
        "plt.figure(figsize=(7,5))\n",
        "plt.plot(xx0, s0(xx0), lw=3, label = \"S0\")\n",
        "plt.plot(xx1, s1(xx1), lw=3, label = \"S1\")\n",
        "plt.plot(_x, _y, 'o')\n",
        "plt.axvline(color = \"k\", ls=\"-.\")\n",
        "plt.ylabel(\"f(x)\", fontsize=10)\n",
        "plt.xlabel(\"x\", fontsize=10)\n",
        "plt.xticks(fontsize=10)\n",
        "plt.yticks(fontsize=10)\n",
        "plt.legend(loc = \"upper right\", fontsize= 10)\n",
        "plt.grid()\n",
        "plt.show()"
      ]
    },
    {
      "cell_type": "markdown",
      "source": [
        "Calcular el spline cúbico que interpola los puntos  $(0,3)$, $(1,3)$, $(2,4)$.\n"
      ],
      "metadata": {
        "id": "Ciz6AAvaxHKL"
      }
    },
    {
      "cell_type": "markdown",
      "source": [],
      "metadata": {
        "id": "QF_Rr3-YyRgw"
      }
    },
    {
      "cell_type": "markdown",
      "source": [
        "Para calcular los splines cúbicos debemos resolver el sistema de ecuaciones que define los coeficientes de los polinomios cúbicos en los subintervalos $[0,1]$ y $[1,2]$. Empleando las condiciones del metodo de spline, y defiendo los polinomios para garantizar la continuidad en cada unos de los puntos, tenemos que:"
      ],
      "metadata": {
        "id": "51MazVobxra2"
      }
    },
    {
      "cell_type": "markdown",
      "source": [
        "  * $s_0(x) = a_0 + b_0 x + c_0 x^2 + d_0 x^3$,\n",
        "  * $s_1(x) = a_1 + b_1 (x-1) + c_1 (x-1)^2 + d_1 (x-1)^3$."
      ],
      "metadata": {
        "id": "pBM6zhFLx4ih"
      }
    },
    {
      "cell_type": "markdown",
      "source": [
        "Entonces\n",
        "  * $s_0'(x) =  b_0 + 2 c_0 x + 3 d_0 x^2$,\n",
        "  * $s_0''(x) = 2 c_0 + 6 d_0 x$,\n",
        "  * $s_1'(x) =  b_1 + 2 c_1 (x-1) + 3 d_1 (x-1)^2$,\n",
        "  * $s_1''(x) = 2 c_1 + 6 d_1 (x-1)$.\n",
        "\n",
        "Tenemos 8 incógnitas, $a_i$, $b_i$, $c_i$, $d_i$ con $i=0,1$. Las ecuaciones son:\n",
        "\n",
        "  * Interpolación (y continuidad en 1):\n",
        "\n",
        "    * $s_0(0) = 3$, es decir, $a_0=3$.\n",
        "    * $s_0(1)  = 3$, es decir, $a_0+b_0+c_0+d_0=3$.\n",
        "    * $s_1(1) = 3$, es decir, $a_1=3$.\n",
        "    * $s_1(2)  = 4$, es decir, $a_1+b_1+c_1+d_1=4$.\n",
        "    \n",
        "  * Derivabilidad:\n",
        "\n",
        "    * $s_0'(1) = s_1'(1)$, es decir, $b_0+2c_0+3d_0 = b_1$.\n",
        "    * $s_0''(1) = s_1''(1)$, es decir, $2c_0+6d_0 = 2c_1$.\n",
        "\n",
        "  * Condiciones naturales en los extremos, $0$ y $2$:\n",
        "\n",
        "    * $s_0''(0) = 0$, es decir, $2c_0=0$.\n",
        "    * $s_1''(2) = 0$, o sea $2c_1+6d_1=0$.\n",
        "\n",
        "\n",
        "De estas ecuaciones tenemos directamente $a_0$, $a_1$, y $c_0$. Le damos valores a las variables en python:\n",
        "\n"
      ],
      "metadata": {
        "id": "ms0xAEyQyU9R"
      }
    },
    {
      "cell_type": "code",
      "source": [
        "x1, x2, x3 = 0, 1, 2\n",
        "_x1 = np.array([x1, x2, x3])\n",
        "y1, y2, y3 = 3, 3, 4\n",
        "_y1 = np.array([y1, y2, y3])\n",
        "a0=3\n",
        "a1=3\n",
        "c0=0"
      ],
      "metadata": {
        "id": "fy1QWZNfe6IR"
      },
      "execution_count": 8,
      "outputs": []
    },
    {
      "cell_type": "code",
      "source": [
        "A = np.array([\n",
        "\t[ 1, 1,   0,  0, 0],\n",
        "\t[ 0, 0,   1,  1, 1],\n",
        "\t[ 1, 3,  -1,  0, 0],\n",
        "\t[ 0, 6,   0, -2, 0],\n",
        "\t[ 0, 0,   0,  2, 6]])\n",
        "b = np.array([0, 1, 0, 0, 0])"
      ],
      "metadata": {
        "id": "xoIJbyQtl7Z5"
      },
      "execution_count": 9,
      "outputs": []
    },
    {
      "cell_type": "code",
      "source": [
        "sol = solve(A,b)\n",
        "print(sol)"
      ],
      "metadata": {
        "colab": {
          "base_uri": "https://localhost:8080/"
        },
        "id": "B5oXhpn_m059",
        "outputId": "a2bc6202-0d91-4715-930c-aa423efac30f"
      },
      "execution_count": 10,
      "outputs": [
        {
          "output_type": "stream",
          "name": "stdout",
          "text": [
            "[-0.25  0.25  0.5   0.75 -0.25]\n"
          ]
        }
      ]
    },
    {
      "cell_type": "code",
      "source": [
        "# Definimos la solución como variables b0, d0, b1, c1 y d1\n",
        "b0, d0, b1, c1, d1 = sol\n",
        "\n",
        "# Y mostramos los resultados\n",
        "print (\"a0, b0, c0, d0 = %f, %f, %f, %f\" % (a0, b0, c0, d0))\n",
        "print (\"a1, b1, c1, d1 = %f, %f, %f, %f\" % (a1, b1, c1, d1))"
      ],
      "metadata": {
        "colab": {
          "base_uri": "https://localhost:8080/"
        },
        "id": "Vh4DUZxzm3-r",
        "outputId": "d69e0940-0e8a-4a65-9388-4e0e226eee02"
      },
      "execution_count": 11,
      "outputs": [
        {
          "output_type": "stream",
          "name": "stdout",
          "text": [
            "a0, b0, c0, d0 = 3.000000, -0.250000, 0.000000, 0.250000\n",
            "a1, b1, c1, d1 = 3.000000, 0.500000, 0.750000, -0.250000\n"
          ]
        }
      ]
    },
    {
      "cell_type": "code",
      "source": [
        "def s0(x):\n",
        "    return a0 + b0*x + c0*x**2 + d0*x**3\n",
        "def s1(x):\n",
        "    return a1 + b1*(x-1) + c1*(x-1)**2 + d1*(x-1)**3\n",
        "\n",
        "xx0 = np.linspace(0,1)\n",
        "xx1 = np.linspace(1,2)\n",
        "\n",
        "plt.figure(figsize=(7, 5))\n",
        "\n",
        "plt.plot(xx0, s0(xx0), lw=3, label = \"S0\")\n",
        "plt.plot(xx1, s1(xx1), lw=3, label = \"S1\")\n",
        "plt.plot(_x1, _y1, 'o')\n",
        "plt.axvline(color = \"k\", ls=\"-.\")\n",
        "plt.ylabel(\"f(x)\", fontsize=10)\n",
        "plt.xlabel(\"x\", fontsize=10)\n",
        "plt.xticks(fontsize=10)\n",
        "plt.yticks(fontsize=10)\n",
        "plt.legend(loc = \"upper right\", fontsize= 10)\n",
        "plt.grid()\n",
        "plt.show()"
      ],
      "metadata": {
        "id": "HGOVKzeQnBsj",
        "colab": {
          "base_uri": "https://localhost:8080/",
          "height": 465
        },
        "outputId": "5212d873-ebda-4691-9956-1ed3fd113d82"
      },
      "execution_count": 12,
      "outputs": [
        {
          "output_type": "display_data",
          "data": {
            "text/plain": [
              "<Figure size 700x500 with 1 Axes>"
            ],
            "image/png": "[encoded data removed]"
          },
          "metadata": {}
        }
      ]
    },
    {
      "cell_type": "code",
      "source": [
        "x0, x1, x2, x3 = -1, 0, 1, 2\n",
        "_x2 = np.array([x0, x1, x2, x3])\n",
        "y0, y1, y2, y3 =  5, 3, 3, 4\n",
        "_y2 = np.array([y0, y1, y2, y3])"
      ],
      "metadata": {
        "id": "or5FP1Aq9YOm"
      },
      "execution_count": 13,
      "outputs": []
    },
    {
      "cell_type": "code",
      "source": [
        "\n",
        "a0, b0, c0, d0 = 5.000000, -2.500000, 0.000000, 0.500000\n",
        "a1, b1, c1, d1 = 3.000000, -0.250000, 0.000000, 0.250000\n",
        "a2, b2, c2, d2 = 3.000000, 0.500000, 0.750000, -0.250000\n",
        "\n",
        "def s0(x):\n",
        "    return a0 + b0*(x+1) + c0*(x+1)**2 + d0*(x+1)**3\n",
        "def s1(x):\n",
        "    return a1 + b1*x + c1*x**2 + d1*x**3\n",
        "def s2(x):\n",
        "    return a2 + b2*(x-1) + c2*(x-1)**2 + d2*(x-1)**3\n",
        "\n",
        "xx0 = np.linspace(-1,0)\n",
        "xx1 = np.linspace(0,1)\n",
        "xx2 = np.linspace(1,2)\n",
        "\n",
        "plt.figure(figsize=(7, 5))\n",
        "\n",
        "plt.plot(xx0, s0(xx0), lw=3, label = \"S0\")\n",
        "plt.plot(xx1, s1(xx1), lw=3, label = \"S1\")\n",
        "plt.plot(xx2, s2(xx2), lw=3, label = \"S2\")\n",
        "plt.plot(_x2, _y2, 'mo')\n",
        "plt.axvline(color = \"k\", ls=\"-.\")\n",
        "plt.ylabel(\"f(x)\", fontsize=10)\n",
        "plt.xlabel(\"x\", fontsize=10)\n",
        "plt.xticks(fontsize=10)\n",
        "plt.yticks(fontsize=10)\n",
        "plt.legend(loc = \"upper right\", fontsize= 10)\n",
        "plt.grid()\n",
        "plt.show()\n"
      ],
      "metadata": {
        "colab": {
          "base_uri": "https://localhost:8080/",
          "height": 465
        },
        "id": "QK2xMV_S2dmv",
        "outputId": "3c0a3d02-bbde-4751-d607-bcfc51cf5b9e"
      },
      "execution_count": 14,
      "outputs": [
        {
          "output_type": "display_data",
          "data": {
            "text/plain": [
              "<Figure size 700x500 with 1 Axes>"
            ],
            "image/png": "[encoded data removed]"
          },
          "metadata": {}
        }
      ]
    }
  ],
  "metadata": {
    "colab": {
      "provenance": []
    },
    "kernelspec": {
      "display_name": "Python 3 (ipykernel)",
      "language": "python",
      "name": "python3"
    },
    "language_info": {
      "codemirror_mode": {
        "name": "ipython",
        "version": 3
      },
      "file_extension": ".py",
      "mimetype": "text/x-python",
      "name": "python",
      "nbconvert_exporter": "python",
      "pygments_lexer": "ipython3",
      "version": "3.10.9"
    }
  },
  "nbformat": 4,
  "nbformat_minor": 0
}