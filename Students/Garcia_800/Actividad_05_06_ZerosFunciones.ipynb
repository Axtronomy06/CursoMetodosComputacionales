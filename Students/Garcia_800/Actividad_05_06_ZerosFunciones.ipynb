{
  "cells": [
    {
      "cell_type": "markdown",
      "id": "3a6dc6a1",
      "metadata": {
        "id": "3a6dc6a1"
      },
      "source": [
        "<a href=\"https://colab.research.google.com/github/hernansalinas/autogrades/blob/main/Actividades_clase/Actividad_05_06_ZerosFunciones.ipynb\" target=\"_parent\"><img src=\"https://colab.research.google.com/assets/colab-badge.svg\" alt=\"Open In Colab\"/></a>\n",
        "\n",
        "\n",
        "\n",
        "# Actividad 5\n",
        "### Métodos computacionales para físicos  y astrónomos\n",
        "### Universidad de Antioquia\n",
        "### Prof: Hernan D. Salinas Jiménez\n",
        "Ref: https://github.com/restrepo/ComputationalMethods"
      ]
    },
    {
      "cell_type": "markdown",
      "id": "8e59c672",
      "metadata": {
        "id": "8e59c672"
      },
      "source": [
        "1. Implementar el metodo de la bisección para determinar las raices de una función.\n",
        "2. Implementar el metodo de la newton para determinar las raices de una función.\n",
        "\n",
        "Prueba tu resultado para:\n"
      ]
    },
    {
      "cell_type": "markdown",
      "id": "ee7acda4",
      "metadata": {
        "id": "ee7acda4"
      },
      "source": [
        "  \n",
        " 2. $a e^{x}-2= b\\cos(e^x-2)$\n",
        "\n",
        "> Add blockquote\n",
        "\n"
      ]
    },
    {
      "cell_type": "code",
      "execution_count": 17,
      "id": "d0073dbf",
      "metadata": {
        "id": "d0073dbf"
      },
      "outputs": [],
      "source": [
        "import matplotlib.pyplot as plt\n",
        "import numpy as np\n",
        "import pandas as pd\n",
        "from scipy import optimize\n",
        "\n"
      ]
    },
    {
      "cell_type": "code",
      "source": [
        "f=lambda a, b, x: a*np.exp(x)-2-b*np.cos(np.exp(x)-2)\n",
        "x=np.linspace(-5,2,100)\n",
        "a=1\n",
        "b=2\n",
        "y=f(a,b,x)\n"
      ],
      "metadata": {
        "id": "Vr8wRt0waAPK"
      },
      "id": "Vr8wRt0waAPK",
      "execution_count": 18,
      "outputs": []
    },
    {
      "cell_type": "code",
      "source": [
        "d={'x': x, 'f':y}#serie\n",
        "df=pd.DataFrame(d)#Dataframe\n",
        "df.plot.line(x='x',y='f')\n",
        "plt.grid()\n",
        "plt.show()"
      ],
      "metadata": {
        "colab": {
          "base_uri": "https://localhost:8080/",
          "height": 449
        },
        "id": "NC5AuPLGdnN0",
        "outputId": "0f58bb99-aa50-4427-a631-292858e3dbe3"
      },
      "id": "NC5AuPLGdnN0",
      "execution_count": 19,
      "outputs": [
        {
          "output_type": "display_data",
          "data": {
            "text/plain": [
              "<Figure size 640x480 with 1 Axes>"
            ],
            "image/png": "[encoded data removed]"
          },
          "metadata": {}
        }
      ]
    },
    {
      "cell_type": "code",
      "source": [
        "#Biseccion\n",
        "# para el metodo de biseccion se\n",
        "f=lambda a, b, x: a*np.exp(x)-2-b*np.cos(np.exp(x)-2)\n",
        "x=np.linspace(-5,2,100)\n",
        "a=1\n",
        "b=2\n",
        "#con la grafica se puede ver donde puede estar el 0 y determinamos xa,xb\n",
        "xa=-1\n",
        "xb=2\n",
        "Nmax=100\n",
        "epsilon=1e-5\n",
        "def bisection(f,xa,xb,epsilon, Nmax):\n",
        "  n=0\n",
        "  while (f(a,b,xa)*f(a,b,xb)<0 | n<Nmax): # primera condicion\n",
        "    n=n+1\n",
        "    xc = (xa+xb)*0.5 #calculo del punto medio\n",
        "    if (f(a,b,xc)<0):\n",
        "      xa = xc\n",
        "    elif(f(a,b,xc) >0): #si no es el punto donde se hace cero xb=xc y vuelve a calcular el punto medio hasta encontrar la raiz\n",
        "      xb = xc\n",
        "    elif( abs(f(a,b,xc))<epsilon ):\n",
        "      break\n",
        "    else :  # f(xc=0)\n",
        "      print(\"Error\")\n",
        "  return xc\n",
        "bisection(f, xa, xb, epsilon, Nmax)"
      ],
      "metadata": {
        "id": "fFRhI6J-uH5F",
        "colab": {
          "base_uri": "https://localhost:8080/"
        },
        "outputId": "7ef61831-b201-4dcd-f9d1-bd6c2d35ad6c"
      },
      "id": "fFRhI6J-uH5F",
      "execution_count": 20,
      "outputs": [
        {
          "output_type": "execute_result",
          "data": {
            "text/plain": [
              "1.1085185688224324"
            ]
          },
          "metadata": {},
          "execution_count": 20
        }
      ]
    },
    {
      "cell_type": "code",
      "source": [
        "f=lambda x: 1*np.exp(x)-2-2*np.cos(np.exp(x)-2)\n",
        "raiz= optimize.bisect(f, -1, 2)\n",
        "print('La raiz usando el metodo de biseccion sera:',raiz)"
      ],
      "metadata": {
        "colab": {
          "base_uri": "https://localhost:8080/"
        },
        "id": "5K3UTtYU5HrX",
        "outputId": "df929109-2b52-44a6-8583-872ae82b9429"
      },
      "id": "5K3UTtYU5HrX",
      "execution_count": 21,
      "outputs": [
        {
          "output_type": "stream",
          "name": "stdout",
          "text": [
            "La raiz usando el metodo de biseccion sera: 1.1085185688211823\n"
          ]
        }
      ]
    },
    {
      "cell_type": "markdown",
      "source": [
        "2. Implementar el metodo de la newton para determinar las raices de una función.\n",
        "### Newton-Rapshon\n",
        "\\begin{equation}\n",
        "x_{n+1}=x_n - \\frac{f(x)}{f'(x)}\n",
        "\\end{equation}"
      ],
      "metadata": {
        "id": "_gCiQql189og"
      },
      "id": "_gCiQql189og"
    },
    {
      "cell_type": "markdown",
      "source": [
        "$f(x)=a e^{x}-2-b\\cos(e^x-2)$\n",
        "\n",
        "$f'(x)=a e^{x}+b\\sin(e^x-2)e^{x}$"
      ],
      "metadata": {
        "id": "LX9M7_SKqmvu"
      },
      "id": "LX9M7_SKqmvu"
    },
    {
      "cell_type": "code",
      "source": [
        "f=lambda x: 1*np.exp(x)-2-2*np.cos(np.exp(x)-2)\n",
        "df=lambda x: 1*np.exp(x)+2*np.sin(np.exp(x)-2)*np.exp(x)"
      ],
      "metadata": {
        "id": "_aSH0ad0u32c"
      },
      "id": "_aSH0ad0u32c",
      "execution_count": 22,
      "outputs": []
    },
    {
      "cell_type": "code",
      "source": [
        "raiz_newton = optimize.newton(f,1,df)\n",
        "print('La raiz usando el metodo de Newton-Rhapson sera:', raiz_newton)"
      ],
      "metadata": {
        "colab": {
          "base_uri": "https://localhost:8080/"
        },
        "id": "DSmo1ZICAmKJ",
        "outputId": "8578efb3-9b48-409a-af26-d99322d73871"
      },
      "id": "DSmo1ZICAmKJ",
      "execution_count": 23,
      "outputs": [
        {
          "output_type": "stream",
          "name": "stdout",
          "text": [
            "La raiz usando el metodo de Newton-Rhapson sera: 1.1085185688224326\n"
          ]
        }
      ]
    },
    {
      "cell_type": "code",
      "source": [
        "def newton_rapshon(f, df,x0 , epsilon, Nmax):\n",
        "  n=0\n",
        "  while((abs(f(x0))>=epsilon) and (n<=Nmax)):\n",
        "    x1 =x0-f(x0)/df(x0)\n",
        "    x0=x1\n",
        "    n=n+1\n",
        "  return x0"
      ],
      "metadata": {
        "id": "Ni9ww6CgA87-"
      },
      "id": "Ni9ww6CgA87-",
      "execution_count": 24,
      "outputs": []
    },
    {
      "cell_type": "code",
      "source": [
        "x0 = newton_rapshon(f,df, 1, 1E-5, 100)\n",
        "x0"
      ],
      "metadata": {
        "colab": {
          "base_uri": "https://localhost:8080/"
        },
        "id": "oO7An4i9raff",
        "outputId": "727a2b30-4e14-485c-b6a3-a33b2f2c4c18"
      },
      "id": "oO7An4i9raff",
      "execution_count": 25,
      "outputs": [
        {
          "output_type": "execute_result",
          "data": {
            "text/plain": [
              "1.1085186547459516"
            ]
          },
          "metadata": {},
          "execution_count": 25
        }
      ]
    }
  ],
  "metadata": {
    "kernelspec": {
      "display_name": "Python 3 (ipykernel)",
      "language": "python",
      "name": "python3"
    },
    "language_info": {
      "codemirror_mode": {
        "name": "ipython",
        "version": 3
      },
      "file_extension": ".py",
      "mimetype": "text/x-python",
      "name": "python",
      "nbconvert_exporter": "python",
      "pygments_lexer": "ipython3",
      "version": "3.10.9"
    },
    "colab": {
      "provenance": []
    }
  },
  "nbformat": 4,
  "nbformat_minor": 5
}