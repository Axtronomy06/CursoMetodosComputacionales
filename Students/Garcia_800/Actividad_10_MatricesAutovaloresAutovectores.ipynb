{
  "nbformat": 4,
  "nbformat_minor": 0,
  "metadata": {
    "colab": {
      "provenance": []
    },
    "kernelspec": {
      "name": "python3",
      "display_name": "Python 3"
    },
    "language_info": {
      "name": "python"
    }
  },
  "cells": [
    {
      "cell_type": "code",
      "source": [
        "import numpy as np\n",
        "import torch as pt\n",
        "import sympy as sp\n",
        "import matplotlib.pyplot as plt"
      ],
      "metadata": {
        "id": "iJsmScMdtgYe"
      },
      "execution_count": 106,
      "outputs": []
    },
    {
      "cell_type": "markdown",
      "source": [
        "# Autovalores, autovectores, diagonalización\n",
        "\n",
        "Una matriz es diagonalizable cuando es semejante a una matriz diagonal. Esto significa que mediante un cambio de base, podemos reducir la matriz original a una forma diagonal. Para que una matriz sea diagonalizable, debe cumplir las siguientes condiciones:\n",
        "\n",
        "**Autovectores linealmente independientes**: Una matriz $(A \\in \\mathbb{R}^{n \\times n})$ es diagonalizable si y solo si tiene (n) autovectores linealmente independientes. Esto significa que los autovectores asociados a los autovalores deben ser linealmente independientes.\n",
        "\n",
        "**Semejanza**: Existe una matriz invertible (P) tal que ($P^{-1}AP = D$), donde (D) es una matriz diagonal formada por los autovalores de (A).\n",
        "\n",
        "La diagonalización es un proceso que transforma una matriz cuadrada ( A ) en una matriz diagonal ( D ) mediante una matriz invertible ( P ), tal que:\n",
        "\n",
        "$P^{-1}AP = D$\n",
        "\n",
        "La matriz diagonal ( D ) contiene los autovalores de ( A ) en la diagonal principal, y las columnas de ( P ) son los autovectores correspondientes a esos autovalores."
      ],
      "metadata": {
        "id": "F2BmxAU22k-G"
      }
    },
    {
      "cell_type": "markdown",
      "source": [
        "## Numpy"
      ],
      "metadata": {
        "id": "ZEt4N4lT2taJ"
      }
    },
    {
      "cell_type": "code",
      "source": [
        "# Definir una matriz 3x3\n",
        "A = np.array([[4, 2, 0],\n",
        "              [2, 4, 1],\n",
        "              [0, 1, 3]])\n",
        "\n",
        "# Calcular autovalores y autovectores\n",
        "autovalores, autovectores = np.linalg.eig(A)\n",
        "U = autovectores.copy()\n",
        "print(\"Autovalores:\", autovalores)\n",
        "print(\"Autovectores:\\n\", autovectores)\n"
      ],
      "metadata": {
        "colab": {
          "base_uri": "https://localhost:8080/"
        },
        "id": "hcGonjho2Xi0",
        "outputId": "89b97894-f685-43b2-a10d-7cda0e464e4f"
      },
      "execution_count": 107,
      "outputs": [
        {
          "output_type": "stream",
          "name": "stdout",
          "text": [
            "Autovalores: [6.164248 1.608618 3.227134]\n",
            "Autovectores:\n",
            " [[-0.661115  0.561818 -0.497279]\n",
            " [-0.715409 -0.671761  0.192165]\n",
            " [-0.226091  0.482801  0.846041]]\n"
          ]
        }
      ]
    },
    {
      "cell_type": "code",
      "source": [
        "from sympy import roots # raices del polinomio caracteristico\n",
        "from sympy.abc import x\n",
        "roots(-x**3+11*x**2-35*x+32)"
      ],
      "metadata": {
        "colab": {
          "base_uri": "https://localhost:8080/"
        },
        "id": "T4-edOjKPnP7",
        "outputId": "493977be-7d43-4640-b9e8-6b454665d65a"
      },
      "execution_count": 108,
      "outputs": [
        {
          "output_type": "execute_result",
          "data": {
            "text/plain": [
              "{11/3 + 16/(9*(61/54 + sqrt(1407)*I/18)**(1/3)) + (61/54 + sqrt(1407)*I/18)**(1/3): 1,\n",
              " 11/3 + 16/(9*(-1/2 + sqrt(3)*I/2)*(61/54 + sqrt(1407)*I/18)**(1/3)) + (-1/2 + sqrt(3)*I/2)*(61/54 + sqrt(1407)*I/18)**(1/3): 1,\n",
              " 11/3 + (-1/2 - sqrt(3)*I/2)*(61/54 + sqrt(1407)*I/18)**(1/3) + 16/(9*(-1/2 - sqrt(3)*I/2)*(61/54 + sqrt(1407)*I/18)**(1/3)): 1}"
            ]
          },
          "metadata": {},
          "execution_count": 108
        }
      ]
    },
    {
      "cell_type": "code",
      "source": [
        "from sympy import symbols, solve\n",
        "x = symbols('x')\n",
        "polinomio_c = -x**3 + 11*x**2 - 35*x +32\n",
        "# Encuentra las raíces de la expresión\n",
        "raices = solve(polinomio_c, x)\n",
        "print(raices)"
      ],
      "metadata": {
        "id": "dWQF2u75RC7K",
        "colab": {
          "base_uri": "https://localhost:8080/"
        },
        "outputId": "8f510bfb-6792-48d2-af86-52784a59a500"
      },
      "execution_count": 109,
      "outputs": [
        {
          "output_type": "stream",
          "name": "stdout",
          "text": [
            "[11/3 + (-1/2 - sqrt(3)*I/2)*(61/54 + sqrt(1407)*I/18)**(1/3) + 16/(9*(-1/2 - sqrt(3)*I/2)*(61/54 + sqrt(1407)*I/18)**(1/3)), 11/3 + 16/(9*(-1/2 + sqrt(3)*I/2)*(61/54 + sqrt(1407)*I/18)**(1/3)) + (-1/2 + sqrt(3)*I/2)*(61/54 + sqrt(1407)*I/18)**(1/3), 11/3 + 16/(9*(61/54 + sqrt(1407)*I/18)**(1/3)) + (61/54 + sqrt(1407)*I/18)**(1/3)]\n"
          ]
        }
      ]
    },
    {
      "cell_type": "markdown",
      "source": [
        "### Matriz Diagonal"
      ],
      "metadata": {
        "id": "ioIEzfR52jVo"
      }
    },
    {
      "cell_type": "code",
      "source": [
        "D = np.linalg.inv(U)@A@U # autovectores\n",
        "np.set_printoptions(suppress=True, precision=6)\n",
        "D #autovalores en la diagonal"
      ],
      "metadata": {
        "colab": {
          "base_uri": "https://localhost:8080/"
        },
        "id": "qDM4idFV3R-e",
        "outputId": "17f3c438-864f-40a7-e15e-d44affb6fa93"
      },
      "execution_count": 110,
      "outputs": [
        {
          "output_type": "execute_result",
          "data": {
            "text/plain": [
              "array([[ 6.164248,  0.      , -0.      ],\n",
              "       [-0.      ,  1.608618, -0.      ],\n",
              "       [ 0.      , -0.      ,  3.227134]])"
            ]
          },
          "metadata": {},
          "execution_count": 110
        }
      ]
    },
    {
      "cell_type": "code",
      "source": [
        "np.set_printoptions(suppress=True, precision=6)\n"
      ],
      "metadata": {
        "id": "rU-w2AWm3r_H"
      },
      "execution_count": 111,
      "outputs": []
    },
    {
      "cell_type": "code",
      "source": [
        "D = np.linalg.inv(U)@A@U\n",
        "D"
      ],
      "metadata": {
        "colab": {
          "base_uri": "https://localhost:8080/"
        },
        "id": "U4gpE7Ub-AtQ",
        "outputId": "d360bda8-a34e-4024-8e75-0d780bb3f0fa"
      },
      "execution_count": 112,
      "outputs": [
        {
          "output_type": "execute_result",
          "data": {
            "text/plain": [
              "array([[ 6.164248,  0.      , -0.      ],\n",
              "       [-0.      ,  1.608618, -0.      ],\n",
              "       [ 0.      , -0.      ,  3.227134]])"
            ]
          },
          "metadata": {},
          "execution_count": 112
        }
      ]
    },
    {
      "cell_type": "code",
      "source": [
        "D=U.T@A@U\n",
        "D"
      ],
      "metadata": {
        "colab": {
          "base_uri": "https://localhost:8080/"
        },
        "id": "lAeUR9_DQStw",
        "outputId": "10f44beb-6607-4feb-f395-86f5e354c2df"
      },
      "execution_count": 113,
      "outputs": [
        {
          "output_type": "execute_result",
          "data": {
            "text/plain": [
              "array([[ 6.164248,  0.      , -0.      ],\n",
              "       [ 0.      ,  1.608618,  0.      ],\n",
              "       [-0.      ,  0.      ,  3.227134]])"
            ]
          },
          "metadata": {},
          "execution_count": 113
        }
      ]
    },
    {
      "cell_type": "code",
      "source": [
        "np.exp(D)"
      ],
      "metadata": {
        "colab": {
          "base_uri": "https://localhost:8080/"
        },
        "id": "dW46iuFYCgFw",
        "outputId": "4f575750-f5f0-4b77-8c5f-a665de9bf36f"
      },
      "execution_count": 114,
      "outputs": [
        {
          "output_type": "execute_result",
          "data": {
            "text/plain": [
              "array([[475.443446,   1.      ,   1.      ],\n",
              "       [  1.      ,   4.9959  ,   1.      ],\n",
              "       [  1.      ,   1.      ,  25.20732 ]])"
            ]
          },
          "metadata": {},
          "execution_count": 114
        }
      ]
    },
    {
      "cell_type": "markdown",
      "source": [
        "## Actividad:\n",
        "\n",
        "Construir un programa que permita elevar una matriz a una potencia.\n",
        "\n",
        "\n",
        "La exponencial de una matriz ( $e^A$) se define como la serie de Taylor de la función exponencial evaluada en la matriz ( A ):\n",
        "\n",
        "\n",
        "\\begin{equation}\n",
        "e^A = I + A + \\frac{1}{2!}A^2 + \\frac{1}{3!}A^3 + \\cdots = \\sum_{n=0}^{\\infty} \\frac{1}{n!}A^n\n",
        "\\end{equation}\n",
        "\n",
        "\n",
        "Donde ( $e^D$ ) es simplemente la matriz exponencial de la matriz diagonal ( D ), que es fácil de calcular porque solo implica elevar los autovalores de (A) a la potencia de (e):\n",
        "\n",
        "\n",
        "\n",
        "\\begin{equation}\n",
        "e^A = Pe^DP^{-1}\n",
        "\\end{equation}\n",
        "\n",
        "\n",
        "Exponencial de una matriz diagonal\n",
        "\n",
        "\\begin{equation}\n",
        "e^D = \\begin{bmatrix}\n",
        "e^{\\lambda_1} & 0 & \\cdots & 0 \\\\\n",
        "0 & e^{\\lambda_2} & \\cdots & 0 \\\\\n",
        "\\vdots & \\vdots & \\ddots & \\vdots \\\\\n",
        "0 & 0 & \\cdots & e^{\\lambda_n}\n",
        "\\end{bmatrix}\n",
        "\\end{equation}\n",
        "\n",
        "\n"
      ],
      "metadata": {
        "id": "N-oGaJUS4p10"
      }
    },
    {
      "cell_type": "code",
      "source": [
        "A=np.array([[4, 2, 0],\n",
        "              [2, 4, 1],\n",
        "              [0, 1, 3]])\n",
        "def e_A(A):\n",
        "  autovalores, autovectores = np.linalg.eig(A)\n",
        "  P = autovectores.copy()\n",
        "  P_I= np.linalg.inv(P)\n",
        "  D = P_I@A@P\n",
        "  eD=np.exp(D)\n",
        "  eA=P@eD@P_I\n",
        "  return eA"
      ],
      "metadata": {
        "id": "OSk3EtwTvTIV"
      },
      "execution_count": 115,
      "outputs": []
    },
    {
      "cell_type": "code",
      "source": [
        "e_A(A)"
      ],
      "metadata": {
        "colab": {
          "base_uri": "https://localhost:8080/"
        },
        "id": "u2vDFQkRDRkE",
        "outputId": "e4e8d5fd-efa2-4255-d197-0ff277903a93"
      },
      "execution_count": 116,
      "outputs": [
        {
          "output_type": "execute_result",
          "data": {
            "text/plain": [
              "array([[214.969886, 221.287912,  61.157686],\n",
              "       [221.287912, 246.9498  ,  78.061926],\n",
              "       [ 61.157686,  78.061926,  43.726981]])"
            ]
          },
          "metadata": {},
          "execution_count": 116
        }
      ]
    },
    {
      "cell_type": "markdown",
      "source": [
        "# Autovalores y autovectores complejos"
      ],
      "metadata": {
        "id": "JmmxMqieABY-"
      }
    },
    {
      "cell_type": "code",
      "source": [
        "theta=-np.pi/4\n",
        "A = np.array([[np.cos(theta),-np.sin(theta)],[np.sin(theta), np.cos(theta)]])\n",
        "\n",
        "# Calcular autovalores y autovectores\n",
        "autovalores, autovectores = np.linalg.eig(A)\n",
        "U = autovectores.copy()\n",
        "print(\"Autovalores:\", autovalores)\n",
        "print(\"Autovectores:\\n\", autovectores)\n",
        "\n",
        "D = np.linalg.inv(U)@A@U\n",
        "np.set_printoptions(suppress=True, precision=6)\n",
        "D"
      ],
      "metadata": {
        "colab": {
          "base_uri": "https://localhost:8080/"
        },
        "id": "3-NKfajD9kwp",
        "outputId": "96c184fb-09a9-4371-a5e2-7caffac9317d"
      },
      "execution_count": 117,
      "outputs": [
        {
          "output_type": "stream",
          "name": "stdout",
          "text": [
            "Autovalores: [0.707107+0.707107j 0.707107-0.707107j]\n",
            "Autovectores:\n",
            " [[0.707107+0.j       0.707107-0.j      ]\n",
            " [0.      +0.707107j 0.      -0.707107j]]\n"
          ]
        },
        {
          "output_type": "execute_result",
          "data": {
            "text/plain": [
              "array([[0.707107+0.707107j, 0.      +0.j      ],\n",
              "       [0.      +0.j      , 0.707107-0.707107j]])"
            ]
          },
          "metadata": {},
          "execution_count": 117
        }
      ]
    },
    {
      "cell_type": "code",
      "source": [
        "np.exp(D)"
      ],
      "metadata": {
        "colab": {
          "base_uri": "https://localhost:8080/"
        },
        "id": "pUIRWAJv9oVb",
        "outputId": "bf30dc80-e0f9-4a91-849c-00a6562c7376"
      },
      "execution_count": 118,
      "outputs": [
        {
          "output_type": "execute_result",
          "data": {
            "text/plain": [
              "array([[1.541863+1.317538j, 1.      +0.j      ],\n",
              "       [1.      +0.j      , 1.541863-1.317538j]])"
            ]
          },
          "metadata": {},
          "execution_count": 118
        }
      ]
    },
    {
      "cell_type": "markdown",
      "source": [
        "Actividad 2.\n",
        "\n",
        "Considere la ecuación cuadrática $x^2-4xy+3y^2=6$, esta ecuación cuadrática se corresponde a una hiperbola, la cual puede ser escrita en forma matricial como sigue:\n",
        "\n",
        "$A\\vec{v} \\cdot \\vec{v}=6$, donde $\\vec{v}=(x, y)$ y A es una matrix simetrica,\n",
        "\n",
        "\\begin{equation}\n",
        "A=\\begin{bmatrix}\n",
        "1 & -2 \\\\\n",
        "-2 & 3 \\\\\n",
        "\\end{bmatrix}\n",
        "\\end{equation}\n",
        "\n",
        "1. Realice un grafico que represente la hyperbola\n",
        "\n",
        "\n",
        "\n",
        "\n",
        "\n",
        "\n",
        "\n",
        "- Diagonalice A, para ello construya la matrix Q de autovectores ortoganales\n",
        "tal que $D=Q^{T}AQ$, en este caso se dice que A es diagonalizable ortogonalmente, donde $A=QDQ^T$.\n",
        "\n",
        "- Aplique el resultado de la siguiente demostración para encontrar una nueva hyperbola en una  nueva base\n",
        "\n",
        "\\begin{equation}\n",
        "QDQ^T \\vec{v} \\cdot \\vec{v} = d\n",
        "\\end{equation}\n",
        "\n",
        "\n",
        "\\begin{equation}\n",
        "Q(DQ^T\\vec{v}) \\cdot \\vec{v} = (DQ^T\\vec{v}) \\cdot (Q^T\\vec{v})=d\n",
        "\\end{equation}\n",
        "\n",
        "\n",
        "\\begin{equation}\n",
        "(DQ^T\\vec{v}) \\cdot (Q^T\\vec{v})=d\n",
        "\\end{equation}\n",
        "\n",
        "\n",
        "Sea $u=Q^T\\vec{v}$\n",
        "\n",
        "Luego :\n",
        "\n",
        "\n",
        "\\begin{equation}\n",
        "(D\\vec{u}) \\cdot \\vec{u}=d\n",
        "\\end{equation}\n",
        "\n",
        "donde $\\vec{u}=(x', y')$, tal que $D\\vec{u} \\cdot \\vec{u}=d$ es una nueva hyperbola"
      ],
      "metadata": {
        "id": "EqyjrUNnGxAM"
      }
    },
    {
      "cell_type": "code",
      "source": [
        "#Soluciones\n",
        "H1= lambda x:(1/3)*(2*x-np.sqrt(x**2+18))\n",
        "H2= lambda x:(1/3)*(np.sqrt(x**2 +18)+2*x)\n",
        "x=np.linspace(-6, 6, 100)"
      ],
      "metadata": {
        "id": "F_z0L2iQGy_O"
      },
      "execution_count": 119,
      "outputs": []
    },
    {
      "cell_type": "code",
      "source": [
        "plt.plot(x,H1(x))\n",
        "plt.plot(x,H2(x))\n",
        "plt.grid(True)"
      ],
      "metadata": {
        "colab": {
          "base_uri": "https://localhost:8080/",
          "height": 430
        },
        "id": "KT-hVMa6vN2H",
        "outputId": "ef596b0a-1a05-4e48-f082-fbe27c778869"
      },
      "execution_count": 120,
      "outputs": [
        {
          "output_type": "display_data",
          "data": {
            "text/plain": [
              "<Figure size 640x480 with 1 Axes>"
            ],
            "image/png": "[encoded data removed]"
          },
          "metadata": {}
        }
      ]
    },
    {
      "cell_type": "code",
      "source": [
        "A =np.array([[1, -2],\n",
        "              [-2, 3]])\n",
        "autovalores, autovectores = np.linalg.eig(A)\n",
        "Q = autovectores.copy()\n",
        "D = np.linalg.inv(Q)@A@Q\n",
        "np.set_printoptions(suppress=True, precision=6)\n",
        "D, Q, Q.T@D@Q"
      ],
      "metadata": {
        "colab": {
          "base_uri": "https://localhost:8080/"
        },
        "id": "aVnn-x3Uv295",
        "outputId": "fdb9b1e8-f86d-46b0-f3d7-6ba5f888da24"
      },
      "execution_count": 121,
      "outputs": [
        {
          "output_type": "execute_result",
          "data": {
            "text/plain": [
              "(array([[-0.236068, -0.      ],\n",
              "        [-0.      ,  4.236068]]),\n",
              " array([[-0.850651,  0.525731],\n",
              "        [-0.525731, -0.850651]]),\n",
              " array([[1., 2.],\n",
              "        [2., 3.]]))"
            ]
          },
          "metadata": {},
          "execution_count": 121
        }
      ]
    },
    {
      "cell_type": "code",
      "source": [
        "A=Q@D@Q.T\n",
        "A"
      ],
      "metadata": {
        "colab": {
          "base_uri": "https://localhost:8080/"
        },
        "id": "ncCMvj5UyF1_",
        "outputId": "69075e35-ae09-48a1-8ba9-ab85bf884d7a"
      },
      "execution_count": 122,
      "outputs": [
        {
          "output_type": "execute_result",
          "data": {
            "text/plain": [
              "array([[ 1., -2.],\n",
              "       [-2.,  3.]])"
            ]
          },
          "metadata": {},
          "execution_count": 122
        }
      ]
    },
    {
      "cell_type": "code",
      "source": [
        "import sympy as sp"
      ],
      "metadata": {
        "id": "E1__Cz_dVMax"
      },
      "execution_count": 123,
      "outputs": []
    },
    {
      "cell_type": "code",
      "source": [
        "A_, Q_, D_ = sp.Matrix(A), sp.Matrix(Q), sp.Matrix(D)\n",
        "x,y = sp.Symbol(\"x\"), sp.Symbol(\"y\")\n",
        "v = sp.Matrix([x,y])\n",
        "u = Q_.T@v\n",
        "d = u.T@(D_@u)\n",
        "d[0,0]\n"
      ],
      "metadata": {
        "colab": {
          "base_uri": "https://localhost:8080/",
          "height": 60
        },
        "id": "cKBYmI-AWVTy",
        "outputId": "46b6bad0-ad78-469e-f99e-0e03b88319a8"
      },
      "execution_count": 124,
      "outputs": [
        {
          "output_type": "execute_result",
          "data": {
            "text/plain": [
              "(-0.85065080835204*x - 0.525731112119133*y)*(0.200811415886227*x + 0.124108280346679*y) + (0.525731112119133*x - 0.85065080835204*y)*(2.22703272882321*x - 3.60341464929439*y)"
            ],
            "text/latex": "$\\displaystyle \\left(- 0.85065080835204 x - 0.525731112119133 y\\right) \\left(0.200811415886227 x + 0.124108280346679 y\\right) + \\left(0.525731112119133 x - 0.85065080835204 y\\right) \\left(2.22703272882321 x - 3.60341464929439 y\\right)$"
          },
          "metadata": {},
          "execution_count": 124
        }
      ]
    },
    {
      "cell_type": "code",
      "source": [
        "sp.solve(d[0,0],y)"
      ],
      "metadata": {
        "colab": {
          "base_uri": "https://localhost:8080/"
        },
        "id": "4Y0todNgZDd0",
        "outputId": "d2812308-164c-4f30-ebb1-af97fbc304b3"
      },
      "execution_count": 125,
      "outputs": [
        {
          "output_type": "execute_result",
          "data": {
            "text/plain": [
              "[0.333333333333333*x, 0.999999999999998*x]"
            ]
          },
          "metadata": {},
          "execution_count": 125
        }
      ]
    },
    {
      "cell_type": "markdown",
      "source": [
        "### Sympy"
      ],
      "metadata": {
        "id": "bVBR8mx02xzR"
      }
    },
    {
      "cell_type": "code",
      "source": [
        "from sympy import Matrix, simplify\n",
        "\n",
        "# Definir una matriz 3x3\n",
        "A = Matrix([[4, 2, 0],\n",
        "            [2, 4, 1],\n",
        "            [0, 1, 3]])\n",
        "\n",
        "# Calcular autovalores y autovectores\n",
        "autovalores = A.eigenvals()\n",
        "autovectores = A.eigenvects()\n",
        "\n",
        "# Simplificar autovalores y autovectores\n",
        "autovalores_simplificados = {simplify(l): m for l, m in autovalores.items()}\n",
        "autovectores_simplificados = [(simplify(l), m, [simplify(v) for v in vs]) for l, m, vs in autovectores]\n",
        "\n",
        "print(\"Autovalores simplificados:\", autovalores_simplificados)\n",
        "print(\"Autovectores simplificados:\\n\", autovectores_simplificados)\n"
      ],
      "metadata": {
        "id": "5ZtjshtC2iBC",
        "colab": {
          "base_uri": "https://localhost:8080/"
        },
        "outputId": "e8368a0a-6a4e-440c-f012-3e1b1c122113"
      },
      "execution_count": 126,
      "outputs": [
        {
          "output_type": "stream",
          "name": "stdout",
          "text": [
            "Autovalores simplificados: {11/3 + 16*2**(1/3)/(3*(61 + 3*sqrt(1407)*I)**(1/3)) + 2**(2/3)*(61 + 3*sqrt(1407)*I)**(1/3)/6: 1, (-128*2**(1/3) + (1 - sqrt(3)*I)*(44 + 2**(2/3)*(-1 + sqrt(3)*I)*(61 + 3*sqrt(1407)*I)**(1/3))*(61 + 3*sqrt(1407)*I)**(1/3))/(12*(1 - sqrt(3)*I)*(61 + 3*sqrt(1407)*I)**(1/3)): 1, (-128*2**(1/3) + (1 + sqrt(3)*I)*(44 - 2**(2/3)*(1 + sqrt(3)*I)*(61 + 3*sqrt(1407)*I)**(1/3))*(61 + 3*sqrt(1407)*I)**(1/3))/(12*(1 + sqrt(3)*I)*(61 + 3*sqrt(1407)*I)**(1/3)): 1}\n",
            "Autovectores simplificados:\n",
            " [((-128*2**(1/3) + (1 + sqrt(3)*I)*(44 - 2**(2/3)*(1 + sqrt(3)*I)*(61 + 3*sqrt(1407)*I)**(1/3))*(61 + 3*sqrt(1407)*I)**(1/3))/(12*(1 + sqrt(3)*I)*(61 + 3*sqrt(1407)*I)**(1/3)), 1, [Matrix([\n",
            "[(12*(-176 + 7*2**(2/3)*(1 + sqrt(3)*I)*(61 + 3*sqrt(1407)*I)**(1/3))*(1 + sqrt(3)*I)**2*(61 + 3*sqrt(1407)*I) + (61 + 3*sqrt(1407)*I)**(1/3)*(128*2**(1/3) + (-44 + 2**(2/3)*(1 + sqrt(3)*I)*(61 + 3*sqrt(1407)*I)**(1/3))*(1 + sqrt(3)*I)*(61 + 3*sqrt(1407)*I)**(1/3))**2 + 10752*2**(1/3)*(1 + sqrt(3)*I)*(61 + 3*sqrt(1407)*I)**(2/3))/(288*(1 + sqrt(3)*I)**2*(61 + 3*sqrt(1407)*I))],\n",
            "[                                                                                                                                                                                                             (-128*2**(1/3) + (1 + sqrt(3)*I)*(8 - 2**(2/3)*(1 + sqrt(3)*I)*(61 + 3*sqrt(1407)*I)**(1/3))*(61 + 3*sqrt(1407)*I)**(1/3))/(12*(1 + sqrt(3)*I)*(61 + 3*sqrt(1407)*I)**(1/3))],\n",
            "[                                                                                                                                                                                                                                                                                                                                                                                        1]])]), ((-128*2**(1/3) + (1 - sqrt(3)*I)*(44 + 2**(2/3)*(-1 + sqrt(3)*I)*(61 + 3*sqrt(1407)*I)**(1/3))*(61 + 3*sqrt(1407)*I)**(1/3))/(12*(1 - sqrt(3)*I)*(61 + 3*sqrt(1407)*I)**(1/3)), 1, [Matrix([\n",
            "[(10752*2**(1/3)*(1 - sqrt(3)*I)*(61 + 3*sqrt(1407)*I)**(2/3) + (61 + 3*sqrt(1407)*I)**(1/3)*(128*2**(1/3) + (-44 + 2**(2/3)*(1 - sqrt(3)*I)*(61 + 3*sqrt(1407)*I)**(1/3))*(1 - sqrt(3)*I)*(61 + 3*sqrt(1407)*I)**(1/3))**2 + 12*(-176 + 7*2**(2/3)*(1 - sqrt(3)*I)*(61 + 3*sqrt(1407)*I)**(1/3))*(1 - sqrt(3)*I)**2*(61 + 3*sqrt(1407)*I))/(288*(1 - sqrt(3)*I)**2*(61 + 3*sqrt(1407)*I))],\n",
            "[                                                                                                                                                                                                            (-128*2**(1/3) + (1 - sqrt(3)*I)*(8 + 2**(2/3)*(-1 + sqrt(3)*I)*(61 + 3*sqrt(1407)*I)**(1/3))*(61 + 3*sqrt(1407)*I)**(1/3))/(12*(1 - sqrt(3)*I)*(61 + 3*sqrt(1407)*I)**(1/3))],\n",
            "[                                                                                                                                                                                                                                                                                                                                                                                        1]])]), (11/3 + 16*2**(1/3)/(3*(61 + 3*sqrt(1407)*I)**(1/3)) + 2**(2/3)*(61 + 3*sqrt(1407)*I)**(1/3)/6, 1, [Matrix([\n",
            "[(42*sqrt(1407) - 191*2**(2/3)*I*(61 + 3*sqrt(1407)*I)**(1/3) - 854*I - 31*2**(1/3)*I*(61 + 3*sqrt(1407)*I)**(2/3) + sqrt(1407)*2**(2/3)*(61 + 3*sqrt(1407)*I)**(1/3) + sqrt(1407)*2**(1/3)*(61 + 3*sqrt(1407)*I)**(2/3))/(12*(3*sqrt(1407) - 61*I))],\n",
            "[                                                                                                                                                       2/3 + 16*2**(1/3)/(3*(61 + 3*sqrt(1407)*I)**(1/3)) + 2**(2/3)*(61 + 3*sqrt(1407)*I)**(1/3)/6],\n",
            "[                                                                                                                                                                                                                                                  1]])])]\n"
          ]
        }
      ]
    },
    {
      "cell_type": "code",
      "source": [
        "autovalores_simplificados"
      ],
      "metadata": {
        "id": "zGEs4pr2A5JR",
        "colab": {
          "base_uri": "https://localhost:8080/"
        },
        "outputId": "e3c180d4-c9f6-4fdb-8e7d-da23f6b72eb9"
      },
      "execution_count": 127,
      "outputs": [
        {
          "output_type": "execute_result",
          "data": {
            "text/plain": [
              "{11/3 + 16*2**(1/3)/(3*(61 + 3*sqrt(1407)*I)**(1/3)) + 2**(2/3)*(61 + 3*sqrt(1407)*I)**(1/3)/6: 1,\n",
              " (-128*2**(1/3) + (1 - sqrt(3)*I)*(44 + 2**(2/3)*(-1 + sqrt(3)*I)*(61 + 3*sqrt(1407)*I)**(1/3))*(61 + 3*sqrt(1407)*I)**(1/3))/(12*(1 - sqrt(3)*I)*(61 + 3*sqrt(1407)*I)**(1/3)): 1,\n",
              " (-128*2**(1/3) + (1 + sqrt(3)*I)*(44 - 2**(2/3)*(1 + sqrt(3)*I)*(61 + 3*sqrt(1407)*I)**(1/3))*(61 + 3*sqrt(1407)*I)**(1/3))/(12*(1 + sqrt(3)*I)*(61 + 3*sqrt(1407)*I)**(1/3)): 1}"
            ]
          },
          "metadata": {},
          "execution_count": 127
        }
      ]
    },
    {
      "cell_type": "markdown",
      "source": [
        "# Pytorch\n",
        "\n",
        "Definción de una matrix de tres formas:\n",
        "Hasta ahora sabemos definir matrices como objetos de numpy y objetos de sympy, en la actualidad, el rápido crecimiento de las unidades de procesamiento gráfico GPU,  permite definir otro tipo de objetos que pueden acelerar el computo computacional.\n",
        "\n",
        "\n",
        "- Como objeto de numpy\n",
        "- Como objeto de sympy\n",
        "- Como objeto de pytorch\n",
        "\n",
        "\n",
        "La velocidad de ejecución entre PyTorch y Numpy puede variar dependiendo del tamaño de los datos y si se está utilizando o no la aceleración por GPU. Para operaciones con matrices pequeñas y cálculos que no requieren de la paralelización de una GPU, Numpy puede ser más rápido porque opera directamente en la CPU y la memoria principal. Sin embargo, para matrices grandes y operaciones que pueden ser paralelizadas, PyTorch con soporte de GPU puede ser significativamente más rápido.\n",
        "\n",
        "Comparativa de comandos de ejecución entre pytorch, numpy  y sympy\n",
        "\n",
        "\n",
        "| Operación | PyTorch | Numpy | SymPy |\n",
        "|-----------|---------|-------|-------|\n",
        "| Creación de una matriz | `torch.tensor([[1, 2], [3, 4]])` | `np.array([[1, 2], [3, 4]])` | `Matrix([[1, 2], [3, 4]])` |\n",
        "| Transposición de una matriz | `torch.transpose(A, 0, 1)` | `A.T` o `np.transpose(A)` | `A.T` |\n",
        "| Multiplicación de matrices | `torch.matmul(A, B)` | `np.dot(A, B)` o `A @ B` | `A * B` |\n",
        "| Inversa de una matriz | `torch.inverse(A)` | `np.linalg.inv(A)` | `A**-1` |\n",
        "| Determinante de una matriz | `torch.det(A)` | `np.linalg.det(A)` | `A.det()` |\n",
        "| Autovalores y autovectores | `torch.eig(A, eigenvectors=True)` | `np.linalg.eig(A)` | `A.eigenvals()`, `A.eigenvects()` |\n",
        "\n"
      ],
      "metadata": {
        "id": "kZWZu8BRwG2h"
      }
    },
    {
      "cell_type": "markdown",
      "source": [
        "Ejemplo básico del comparativo de un problema de algebra lineal, rotación de un vector:"
      ],
      "metadata": {
        "id": "0IZOos3VztQS"
      }
    },
    {
      "cell_type": "code",
      "execution_count": 128,
      "metadata": {
        "id": "Ve2Qic9ttIkE"
      },
      "outputs": [],
      "source": [
        "\n",
        "def matrixA(theta, tipo=\"numpy\"):\n",
        "  if(tipo==\"np\"):\n",
        "    return np.array([[np.cos(theta),-np.sin(theta)],[np.sin(theta), np.cos(theta)]])\n",
        "  elif(tipo==\"sp\"):\n",
        "    return np.array([[sp.cos(theta),-sp.sin(theta)],[sp.sin(theta), sp.cos(theta)]])\n",
        "\n",
        "  elif(tipo==\"pt\"):\n",
        "    return pt.tensor([[np.cos(theta),-np.sin(theta)],[np.sin(theta), np.cos(theta)]])\n",
        "\n",
        "  else:\n",
        "\n",
        "    print(\"Define el tipo de variable que desea\")\n"
      ]
    },
    {
      "cell_type": "code",
      "source": [
        "x = sp.Symbol(\"x\")\n",
        "M = sp.Matrix(matrixA(np.pi/4, tipo=\"sp\"))\n",
        "M"
      ],
      "metadata": {
        "id": "6pvCFzl7uDm3",
        "colab": {
          "base_uri": "https://localhost:8080/",
          "height": 58
        },
        "outputId": "1f4082b4-d11b-4286-8984-b889c542fe3b"
      },
      "execution_count": 129,
      "outputs": [
        {
          "output_type": "execute_result",
          "data": {
            "text/plain": [
              "Matrix([\n",
              "[0.707106781186548, -0.707106781186547],\n",
              "[0.707106781186547,  0.707106781186548]])"
            ],
            "text/latex": "$\\displaystyle \\left[\\begin{matrix}0.707106781186548 & -0.707106781186547\\\\0.707106781186547 & 0.707106781186548\\end{matrix}\\right]$"
          },
          "metadata": {},
          "execution_count": 129
        }
      ]
    },
    {
      "cell_type": "code",
      "source": [
        "x=np.pi/4\n",
        "M = matrixA(x, tipo=\"np\")\n",
        "M"
      ],
      "metadata": {
        "id": "brk8Daew2EmP",
        "colab": {
          "base_uri": "https://localhost:8080/"
        },
        "outputId": "66e069b0-74ea-4277-a7a5-78564e662577"
      },
      "execution_count": 130,
      "outputs": [
        {
          "output_type": "execute_result",
          "data": {
            "text/plain": [
              "array([[ 0.707107, -0.707107],\n",
              "       [ 0.707107,  0.707107]])"
            ]
          },
          "metadata": {},
          "execution_count": 130
        }
      ]
    },
    {
      "cell_type": "code",
      "source": [
        "matrixA(x, tipo=\"pt\")\n",
        "M"
      ],
      "metadata": {
        "id": "Z-6fzFXrvbgL",
        "colab": {
          "base_uri": "https://localhost:8080/"
        },
        "outputId": "c025ef25-c33a-4b88-901d-3b9a1530189a"
      },
      "execution_count": 131,
      "outputs": [
        {
          "output_type": "execute_result",
          "data": {
            "text/plain": [
              "array([[ 0.707107, -0.707107],\n",
              "       [ 0.707107,  0.707107]])"
            ]
          },
          "metadata": {},
          "execution_count": 131
        }
      ]
    },
    {
      "cell_type": "markdown",
      "source": [
        "Actividad: Resolver el problema de la potencia de una matriz empleando pytorch, construir."
      ],
      "metadata": {
        "id": "b-IQVSe3CAp6"
      }
    },
    {
      "cell_type": "code",
      "source": [
        "#Primero con numpy\n",
        "A =np.array([[1, -2],\n",
        "              [-2, 3]])"
      ],
      "metadata": {
        "id": "6eZoDBLkCRIV"
      },
      "execution_count": 132,
      "outputs": []
    },
    {
      "cell_type": "code",
      "source": [
        "def producto_matrices(A,B):\n",
        "  dim1=np.shape(A)\n",
        "  dim2=np.shape(B)\n",
        "  producto=np.zeros((dim1[0], dim2[1]))\n",
        "\n",
        "  if dim1[1]==dim2[0]:\n",
        "   for i in range(0,dim1[0]):\n",
        "    for j in range(0, dim2[1]):\n",
        "      producto[i,j]=np.sum(A[i]*B[:,j])\n",
        "   return producto\n",
        "\n",
        "  else:\n",
        "    return print('El producto de matrices no se puede relizar por sus dimensiones')\n"
      ],
      "metadata": {
        "id": "OOeZ_y4u2V-T"
      },
      "execution_count": 133,
      "outputs": []
    },
    {
      "cell_type": "code",
      "source": [
        "def potencia_matriz(A, n):\n",
        "    if n == 0:\n",
        "        return np.eye(len(A))\n",
        "    elif n < 0:\n",
        "        return np.linalg.inv(potencia_matriz(A, -n))\n",
        "    else:\n",
        "        B = A.copy()\n",
        "        for _ in range(1, n):\n",
        "            resultado = producto_matrices(B, A)\n",
        "            B=resultado\n",
        "        return B"
      ],
      "metadata": {
        "id": "qZgVHpQzynUz"
      },
      "execution_count": 134,
      "outputs": []
    },
    {
      "cell_type": "code",
      "source": [
        "potencia_matriz(A, 3)"
      ],
      "metadata": {
        "colab": {
          "base_uri": "https://localhost:8080/"
        },
        "id": "-kCWdzuKzQ_U",
        "outputId": "94088a53-0766-4d16-a46d-b477c5a2a3d0"
      },
      "execution_count": 135,
      "outputs": [
        {
          "output_type": "execute_result",
          "data": {
            "text/plain": [
              "array([[ 21., -34.],\n",
              "       [-34.,  55.]])"
            ]
          },
          "metadata": {},
          "execution_count": 135
        }
      ]
    },
    {
      "cell_type": "code",
      "source": [
        "def matriz_potencia(matriz, n):\n",
        "    return np.linalg.matrix_power(matriz, n)\n",
        "\n",
        "matriz_potencia(A, 3)\n",
        "\n"
      ],
      "metadata": {
        "colab": {
          "base_uri": "https://localhost:8080/"
        },
        "id": "ByzeOUHG2czg",
        "outputId": "b8bd7579-87ac-42e9-90cb-754ce7a5f5f5"
      },
      "execution_count": 136,
      "outputs": [
        {
          "output_type": "execute_result",
          "data": {
            "text/plain": [
              "array([[ 21, -34],\n",
              "       [-34,  55]])"
            ]
          },
          "metadata": {},
          "execution_count": 136
        }
      ]
    },
    {
      "cell_type": "code",
      "source": [
        "#Codigo con pytorch\n",
        "import torch as pt\n",
        "A=pt.tensor([[1, -2],[-2, 3]])\n",
        "\n",
        "def producto_matrices(A, B):\n",
        "    dim1 = A.shape\n",
        "    dim2 = B.shape\n",
        "    producto = pt.zeros((dim1[0], dim2[1]))\n",
        "\n",
        "    if dim1[1] == dim2[0]:\n",
        "        for i in range(0, dim1[0]):\n",
        "            for j in range(0, dim2[1]):\n",
        "                producto[i, j] = pt.sum(A[i] * B[:, j])\n",
        "        return producto\n",
        "    else:\n",
        "        return print('El producto de matrices no se puede realizar por sus dimensiones')\n",
        "\n",
        "def potencia_matriz(A, n):\n",
        "    if n == 0:\n",
        "        return pt.eye(len(A))\n",
        "    elif n < 0:\n",
        "        return pt.inverse(potencia_matriz(A, -n))\n",
        "    else:\n",
        "        B = A.clone()\n",
        "        for _ in range(1, n):\n",
        "            resultado = producto_matrices(B, A)\n",
        "            B = resultado\n",
        "        return B\n",
        "\n",
        "potencia_matriz(A, 3)\n",
        "\n"
      ],
      "metadata": {
        "colab": {
          "base_uri": "https://localhost:8080/"
        },
        "id": "8aeir_qRyv3M",
        "outputId": "8740ee8c-318f-4786-bbaa-1985de2a47bf"
      },
      "execution_count": 137,
      "outputs": [
        {
          "output_type": "execute_result",
          "data": {
            "text/plain": [
              "tensor([[ 21., -34.],\n",
              "        [-34.,  55.]])"
            ]
          },
          "metadata": {},
          "execution_count": 137
        }
      ]
    }
  ]
}