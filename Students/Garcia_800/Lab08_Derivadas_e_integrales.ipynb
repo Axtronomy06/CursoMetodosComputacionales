{
  "cells": [
    {
      "cell_type": "markdown",
      "metadata": {
        "id": "__0sGkUdyMlI"
      },
      "source": [
        "<a href=\"https://colab.research.google.com/github/hernansalinas/autogrades/blob/main/Laboratorios_Taller/Lab08_Derivadas_e_integrales.ipynb\" target=\"_parent\"><img src=\"https://colab.research.google.com/assets/colab-badge.svg\" alt=\"Open In Colab\"/></a>"
      ]
    },
    {
      "cell_type": "code",
      "execution_count": 50,
      "metadata": {
        "id": "J5O5W6xbuoZS"
      },
      "outputs": [],
      "source": [
        "import numpy as np\n",
        "import matplotlib.pyplot as plt\n",
        "import pandas as pd\n",
        "import scipy as sc\n",
        "import sympy as sy"
      ]
    },
    {
      "cell_type": "markdown",
      "metadata": {
        "id": "mjVxBoseufI6"
      },
      "source": [
        "## Parte 1\n",
        "\n",
        "En un cirtcuito con un voltaje de  $\\varepsilon(t)$ y una inductancia de L, la primera ley de kirshhoff nos da la siguiente relación\n",
        "\n",
        "\\begin{equation}\n",
        "\\varepsilon(t) = L\\frac{\\mathrm{d}i}{\\mathrm{d}t} + Ri\n",
        "\\end{equation}\n",
        "\n",
        "donde $R$, es la resistencia del ciruito, $I$ es la corriente. Suponga que medimos la corriente con varios valores de $t$ y obtenemos:\n",
        "\n",
        "``t = 1.00, 1.01, 1.02, 1.03, 1.0``\n",
        "\n",
        "``i = 3.10, 3.12, 3.14, 3.18, 3.24``\n",
        "\n",
        "\n",
        "donde $t$ se mide en segundos, $I$ se da en Amperios, la inductancia $L$ es una constante de 0.98 H, la resistencia es de 0.142 $\\Omega$. Aproxime el votaje  $\\varepsilon(t)$ en los valores t=1.00, 1.01, 1.02, 1.03, 1.04 ,  para ello realice lo siguiente:\n",
        "\n",
        "\n",
        "- Construya un data frame de pandas con los valores de tiempo y corriente\n",
        "- Emplee un metodo calcular la derivada numérica."
      ]
    },
    {
      "cell_type": "code",
      "source": [
        "t=np.array([1.00, 1.01, 1.02, 1.03, 1.04])\n",
        "i=np.array([3.10, 3.12, 3.14, 3.18, 3.24])"
      ],
      "metadata": {
        "id": "t3BEjErUyaVh"
      },
      "execution_count": 51,
      "outputs": []
    },
    {
      "cell_type": "code",
      "source": [
        "data={'Tiempo(s)':t, 'Corriente(A)':i}\n",
        "df=pd.DataFrame(data)\n",
        "df"
      ],
      "metadata": {
        "colab": {
          "base_uri": "https://localhost:8080/",
          "height": 206
        },
        "id": "seWVXcMcyTgE",
        "outputId": "ddd3c795-3bcc-46d5-f089-6939e289758a"
      },
      "execution_count": 52,
      "outputs": [
        {
          "output_type": "execute_result",
          "data": {
            "text/plain": [
              "   Tiempo(s)  Corriente(A)\n",
              "0       1.00          3.10\n",
              "1       1.01          3.12\n",
              "2       1.02          3.14\n",
              "3       1.03          3.18\n",
              "4       1.04          3.24"
            ],
            "text/html": [
              "\n",
              "  <div id=\"df-6d4c1740-cd8f-4df7-93ad-5d8471544c4f\" class=\"colab-df-container\">\n",
              "    <div>\n",
              "<style scoped>\n",
              "    .dataframe tbody tr th:only-of-type {\n",
              "        vertical-align: middle;\n",
              "    }\n",
              "\n",
              "    .dataframe tbody tr th {\n",
              "        vertical-align: top;\n",
              "    }\n",
              "\n",
              "    .dataframe thead th {\n",
              "        text-align: right;\n",
              "    }\n",
              "</style>\n",
              "<table border=\"1\" class=\"dataframe\">\n",
              "  <thead>\n",
              "    <tr style=\"text-align: right;\">\n",
              "      <th></th>\n",
              "      <th>Tiempo(s)</th>\n",
              "      <th>Corriente(A)</th>\n",
              "    </tr>\n",
              "  </thead>\n",
              "  <tbody>\n",
              "    <tr>\n",
              "      <th>0</th>\n",
              "      <td>1.00</td>\n",
              "      <td>3.10</td>\n",
              "    </tr>\n",
              "    <tr>\n",
              "      <th>1</th>\n",
              "      <td>1.01</td>\n",
              "      <td>3.12</td>\n",
              "    </tr>\n",
              "    <tr>\n",
              "      <th>2</th>\n",
              "      <td>1.02</td>\n",
              "      <td>3.14</td>\n",
              "    </tr>\n",
              "    <tr>\n",
              "      <th>3</th>\n",
              "      <td>1.03</td>\n",
              "      <td>3.18</td>\n",
              "    </tr>\n",
              "    <tr>\n",
              "      <th>4</th>\n",
              "      <td>1.04</td>\n",
              "      <td>3.24</td>\n",
              "    </tr>\n",
              "  </tbody>\n",
              "</table>\n",
              "</div>\n",
              "    <div class=\"colab-df-buttons\">\n",
              "\n",
              "  <div class=\"colab-df-container\">\n",
              "    <button class=\"colab-df-convert\" onclick=\"convertToInteractive('df-6d4c1740-cd8f-4df7-93ad-5d8471544c4f')\"\n",
              "            title=\"Convert this dataframe to an interactive table.\"\n",
              "            style=\"display:none;\">\n",
              "\n",
              "  <svg xmlns=\"http://www.w3.org/2000/svg\" height=\"24px\" viewBox=\"0 -960 960 960\">\n",
              "    <path d=\"M120-120v-720h720v720H120Zm60-500h600v-160H180v160Zm220 220h160v-160H400v160Zm0 220h160v-160H400v160ZM180-400h160v-160H180v160Zm440 0h160v-160H620v160ZM180-180h160v-160H180v160Zm440 0h160v-160H620v160Z\"/>\n",
              "  </svg>\n",
              "    </button>\n",
              "\n",
              "  <style>\n",
              "    .colab-df-container {\n",
              "      display:flex;\n",
              "      gap: 12px;\n",
              "    }\n",
              "\n",
              "    .colab-df-convert {\n",
              "      background-color: #E8F0FE;\n",
              "      border: none;\n",
              "      border-radius: 50%;\n",
              "      cursor: pointer;\n",
              "      display: none;\n",
              "      fill: #1967D2;\n",
              "      height: 32px;\n",
              "      padding: 0 0 0 0;\n",
              "      width: 32px;\n",
              "    }\n",
              "\n",
              "    .colab-df-convert:hover {\n",
              "      background-color: #E2EBFA;\n",
              "      box-shadow: 0px 1px 2px rgba(60, 64, 67, 0.3), 0px 1px 3px 1px rgba(60, 64, 67, 0.15);\n",
              "      fill: #174EA6;\n",
              "    }\n",
              "\n",
              "    .colab-df-buttons div {\n",
              "      margin-bottom: 4px;\n",
              "    }\n",
              "\n",
              "    [theme=dark] .colab-df-convert {\n",
              "      background-color: #3B4455;\n",
              "      fill: #D2E3FC;\n",
              "    }\n",
              "\n",
              "    [theme=dark] .colab-df-convert:hover {\n",
              "      background-color: #434B5C;\n",
              "      box-shadow: 0px 1px 3px 1px rgba(0, 0, 0, 0.15);\n",
              "      filter: drop-shadow(0px 1px 2px rgba(0, 0, 0, 0.3));\n",
              "      fill: #FFFFFF;\n",
              "    }\n",
              "  </style>\n",
              "\n",
              "    <script>\n",
              "      const buttonEl =\n",
              "        document.querySelector('#df-6d4c1740-cd8f-4df7-93ad-5d8471544c4f button.colab-df-convert');\n",
              "      buttonEl.style.display =\n",
              "        google.colab.kernel.accessAllowed ? 'block' : 'none';\n",
              "\n",
              "      async function convertToInteractive(key) {\n",
              "        const element = document.querySelector('#df-6d4c1740-cd8f-4df7-93ad-5d8471544c4f');\n",
              "        const dataTable =\n",
              "          await google.colab.kernel.invokeFunction('convertToInteractive',\n",
              "                                                    [key], {});\n",
              "        if (!dataTable) return;\n",
              "\n",
              "        const docLinkHtml = 'Like what you see? Visit the ' +\n",
              "          '<a target=\"_blank\" href=https://colab.research.google.com/notebooks/data_table.ipynb>data table notebook</a>'\n",
              "          + ' to learn more about interactive tables.';\n",
              "        element.innerHTML = '';\n",
              "        dataTable['output_type'] = 'display_data';\n",
              "        await google.colab.output.renderOutput(dataTable, element);\n",
              "        const docLink = document.createElement('div');\n",
              "        docLink.innerHTML = docLinkHtml;\n",
              "        element.appendChild(docLink);\n",
              "      }\n",
              "    </script>\n",
              "  </div>\n",
              "\n",
              "\n",
              "<div id=\"df-877ee9cd-844f-4522-a1d2-844b7dcccdea\">\n",
              "  <button class=\"colab-df-quickchart\" onclick=\"quickchart('df-877ee9cd-844f-4522-a1d2-844b7dcccdea')\"\n",
              "            title=\"Suggest charts\"\n",
              "            style=\"display:none;\">\n",
              "\n",
              "<svg xmlns=\"http://www.w3.org/2000/svg\" height=\"24px\"viewBox=\"0 0 24 24\"\n",
              "     width=\"24px\">\n",
              "    <g>\n",
              "        <path d=\"M19 3H5c-1.1 0-2 .9-2 2v14c0 1.1.9 2 2 2h14c1.1 0 2-.9 2-2V5c0-1.1-.9-2-2-2zM9 17H7v-7h2v7zm4 0h-2V7h2v10zm4 0h-2v-4h2v4z\"/>\n",
              "    </g>\n",
              "</svg>\n",
              "  </button>\n",
              "\n",
              "<style>\n",
              "  .colab-df-quickchart {\n",
              "      --bg-color: #E8F0FE;\n",
              "      --fill-color: #1967D2;\n",
              "      --hover-bg-color: #E2EBFA;\n",
              "      --hover-fill-color: #174EA6;\n",
              "      --disabled-fill-color: #AAA;\n",
              "      --disabled-bg-color: #DDD;\n",
              "  }\n",
              "\n",
              "  [theme=dark] .colab-df-quickchart {\n",
              "      --bg-color: #3B4455;\n",
              "      --fill-color: #D2E3FC;\n",
              "      --hover-bg-color: #434B5C;\n",
              "      --hover-fill-color: #FFFFFF;\n",
              "      --disabled-bg-color: #3B4455;\n",
              "      --disabled-fill-color: #666;\n",
              "  }\n",
              "\n",
              "  .colab-df-quickchart {\n",
              "    background-color: var(--bg-color);\n",
              "    border: none;\n",
              "    border-radius: 50%;\n",
              "    cursor: pointer;\n",
              "    display: none;\n",
              "    fill: var(--fill-color);\n",
              "    height: 32px;\n",
              "    padding: 0;\n",
              "    width: 32px;\n",
              "  }\n",
              "\n",
              "  .colab-df-quickchart:hover {\n",
              "    background-color: var(--hover-bg-color);\n",
              "    box-shadow: 0 1px 2px rgba(60, 64, 67, 0.3), 0 1px 3px 1px rgba(60, 64, 67, 0.15);\n",
              "    fill: var(--button-hover-fill-color);\n",
              "  }\n",
              "\n",
              "  .colab-df-quickchart-complete:disabled,\n",
              "  .colab-df-quickchart-complete:disabled:hover {\n",
              "    background-color: var(--disabled-bg-color);\n",
              "    fill: var(--disabled-fill-color);\n",
              "    box-shadow: none;\n",
              "  }\n",
              "\n",
              "  .colab-df-spinner {\n",
              "    border: 2px solid var(--fill-color);\n",
              "    border-color: transparent;\n",
              "    border-bottom-color: var(--fill-color);\n",
              "    animation:\n",
              "      spin 1s steps(1) infinite;\n",
              "  }\n",
              "\n",
              "  @keyframes spin {\n",
              "    0% {\n",
              "      border-color: transparent;\n",
              "      border-bottom-color: var(--fill-color);\n",
              "      border-left-color: var(--fill-color);\n",
              "    }\n",
              "    20% {\n",
              "      border-color: transparent;\n",
              "      border-left-color: var(--fill-color);\n",
              "      border-top-color: var(--fill-color);\n",
              "    }\n",
              "    30% {\n",
              "      border-color: transparent;\n",
              "      border-left-color: var(--fill-color);\n",
              "      border-top-color: var(--fill-color);\n",
              "      border-right-color: var(--fill-color);\n",
              "    }\n",
              "    40% {\n",
              "      border-color: transparent;\n",
              "      border-right-color: var(--fill-color);\n",
              "      border-top-color: var(--fill-color);\n",
              "    }\n",
              "    60% {\n",
              "      border-color: transparent;\n",
              "      border-right-color: var(--fill-color);\n",
              "    }\n",
              "    80% {\n",
              "      border-color: transparent;\n",
              "      border-right-color: var(--fill-color);\n",
              "      border-bottom-color: var(--fill-color);\n",
              "    }\n",
              "    90% {\n",
              "      border-color: transparent;\n",
              "      border-bottom-color: var(--fill-color);\n",
              "    }\n",
              "  }\n",
              "</style>\n",
              "\n",
              "  <script>\n",
              "    async function quickchart(key) {\n",
              "      const quickchartButtonEl =\n",
              "        document.querySelector('#' + key + ' button');\n",
              "      quickchartButtonEl.disabled = true;  // To prevent multiple clicks.\n",
              "      quickchartButtonEl.classList.add('colab-df-spinner');\n",
              "      try {\n",
              "        const charts = await google.colab.kernel.invokeFunction(\n",
              "            'suggestCharts', [key], {});\n",
              "      } catch (error) {\n",
              "        console.error('Error during call to suggestCharts:', error);\n",
              "      }\n",
              "      quickchartButtonEl.classList.remove('colab-df-spinner');\n",
              "      quickchartButtonEl.classList.add('colab-df-quickchart-complete');\n",
              "    }\n",
              "    (() => {\n",
              "      let quickchartButtonEl =\n",
              "        document.querySelector('#df-877ee9cd-844f-4522-a1d2-844b7dcccdea button');\n",
              "      quickchartButtonEl.style.display =\n",
              "        google.colab.kernel.accessAllowed ? 'block' : 'none';\n",
              "    })();\n",
              "  </script>\n",
              "</div>\n",
              "    </div>\n",
              "  </div>\n"
            ],
            "application/vnd.google.colaboratory.intrinsic+json": {
              "type": "dataframe",
              "variable_name": "df",
              "summary": "{\n  \"name\": \"df\",\n  \"rows\": 5,\n  \"fields\": [\n    {\n      \"column\": \"Tiempo(s)\",\n      \"properties\": {\n        \"dtype\": \"number\",\n        \"std\": 0.01581138830084191,\n        \"min\": 1.0,\n        \"max\": 1.04,\n        \"num_unique_values\": 5,\n        \"samples\": [\n          1.01,\n          1.04,\n          1.02\n        ],\n        \"semantic_type\": \"\",\n        \"description\": \"\"\n      }\n    },\n    {\n      \"column\": \"Corriente(A)\",\n      \"properties\": {\n        \"dtype\": \"number\",\n        \"std\": 0.055497747702046483,\n        \"min\": 3.1,\n        \"max\": 3.24,\n        \"num_unique_values\": 5,\n        \"samples\": [\n          3.12,\n          3.24,\n          3.14\n        ],\n        \"semantic_type\": \"\",\n        \"description\": \"\"\n      }\n    }\n  ]\n}"
            }
          },
          "metadata": {},
          "execution_count": 52
        }
      ]
    },
    {
      "cell_type": "code",
      "source": [
        "plt.plot(df['Tiempo(s)'], df['Corriente(A)'])\n",
        "plt.grid()"
      ],
      "metadata": {
        "colab": {
          "base_uri": "https://localhost:8080/",
          "height": 430
        },
        "id": "Ss0uZY_PybTf",
        "outputId": "3502aa18-ff3c-4da6-d6de-5b020eb0e110"
      },
      "execution_count": 53,
      "outputs": [
        {
          "output_type": "display_data",
          "data": {
            "text/plain": [
              "<Figure size 640x480 with 1 Axes>"
            ],
            "image/png": "[encoded data removed]"
          },
          "metadata": {}
        }
      ]
    },
    {
      "cell_type": "code",
      "source": [
        "derivada =np.gradient(i,t)\n",
        "derivada"
      ],
      "metadata": {
        "colab": {
          "base_uri": "https://localhost:8080/"
        },
        "id": "XR00R-yFzHV4",
        "outputId": "a66cc139-3eba-4c5d-e1b9-84d0e3ca6518"
      },
      "execution_count": 54,
      "outputs": [
        {
          "output_type": "execute_result",
          "data": {
            "text/plain": [
              "array([2., 2., 3., 5., 6.])"
            ]
          },
          "metadata": {},
          "execution_count": 54
        }
      ]
    },
    {
      "cell_type": "code",
      "source": [
        "di=np.diff(i)\n",
        "dt=np.diff(t)\n",
        "d=di/dt\n",
        "d"
      ],
      "metadata": {
        "colab": {
          "base_uri": "https://localhost:8080/"
        },
        "id": "0JwPbykszQt3",
        "outputId": "629ae24b-ecff-40aa-e719-10b55a753462"
      },
      "execution_count": 55,
      "outputs": [
        {
          "output_type": "execute_result",
          "data": {
            "text/plain": [
              "array([2., 2., 4., 6.])"
            ]
          },
          "metadata": {},
          "execution_count": 55
        }
      ]
    },
    {
      "cell_type": "code",
      "source": [
        "L=0.98\n",
        "R=0.142\n",
        "E_t= L*derivada+ R*i\n",
        "df['fem(V)']=E_t"
      ],
      "metadata": {
        "id": "9ThosUO40DBj"
      },
      "execution_count": 56,
      "outputs": []
    },
    {
      "cell_type": "code",
      "source": [
        "df"
      ],
      "metadata": {
        "colab": {
          "base_uri": "https://localhost:8080/",
          "height": 206
        },
        "id": "ZYZ8efzH3PWC",
        "outputId": "00ecf833-8a28-4743-9e32-0d5564e86b78"
      },
      "execution_count": 57,
      "outputs": [
        {
          "output_type": "execute_result",
          "data": {
            "text/plain": [
              "   Tiempo(s)  Corriente(A)   fem(V)\n",
              "0       1.00          3.10  2.40020\n",
              "1       1.01          3.12  2.40304\n",
              "2       1.02          3.14  3.38588\n",
              "3       1.03          3.18  5.35156\n",
              "4       1.04          3.24  6.34008"
            ],
            "text/html": [
              "\n",
              "  <div id=\"df-f9548623-2836-446b-aab3-8a7449290fa6\" class=\"colab-df-container\">\n",
              "    <div>\n",
              "<style scoped>\n",
              "    .dataframe tbody tr th:only-of-type {\n",
              "        vertical-align: middle;\n",
              "    }\n",
              "\n",
              "    .dataframe tbody tr th {\n",
              "        vertical-align: top;\n",
              "    }\n",
              "\n",
              "    .dataframe thead th {\n",
              "        text-align: right;\n",
              "    }\n",
              "</style>\n",
              "<table border=\"1\" class=\"dataframe\">\n",
              "  <thead>\n",
              "    <tr style=\"text-align: right;\">\n",
              "      <th></th>\n",
              "      <th>Tiempo(s)</th>\n",
              "      <th>Corriente(A)</th>\n",
              "      <th>fem(V)</th>\n",
              "    </tr>\n",
              "  </thead>\n",
              "  <tbody>\n",
              "    <tr>\n",
              "      <th>0</th>\n",
              "      <td>1.00</td>\n",
              "      <td>3.10</td>\n",
              "      <td>2.40020</td>\n",
              "    </tr>\n",
              "    <tr>\n",
              "      <th>1</th>\n",
              "      <td>1.01</td>\n",
              "      <td>3.12</td>\n",
              "      <td>2.40304</td>\n",
              "    </tr>\n",
              "    <tr>\n",
              "      <th>2</th>\n",
              "      <td>1.02</td>\n",
              "      <td>3.14</td>\n",
              "      <td>3.38588</td>\n",
              "    </tr>\n",
              "    <tr>\n",
              "      <th>3</th>\n",
              "      <td>1.03</td>\n",
              "      <td>3.18</td>\n",
              "      <td>5.35156</td>\n",
              "    </tr>\n",
              "    <tr>\n",
              "      <th>4</th>\n",
              "      <td>1.04</td>\n",
              "      <td>3.24</td>\n",
              "      <td>6.34008</td>\n",
              "    </tr>\n",
              "  </tbody>\n",
              "</table>\n",
              "</div>\n",
              "    <div class=\"colab-df-buttons\">\n",
              "\n",
              "  <div class=\"colab-df-container\">\n",
              "    <button class=\"colab-df-convert\" onclick=\"convertToInteractive('df-f9548623-2836-446b-aab3-8a7449290fa6')\"\n",
              "            title=\"Convert this dataframe to an interactive table.\"\n",
              "            style=\"display:none;\">\n",
              "\n",
              "  <svg xmlns=\"http://www.w3.org/2000/svg\" height=\"24px\" viewBox=\"0 -960 960 960\">\n",
              "    <path d=\"M120-120v-720h720v720H120Zm60-500h600v-160H180v160Zm220 220h160v-160H400v160Zm0 220h160v-160H400v160ZM180-400h160v-160H180v160Zm440 0h160v-160H620v160ZM180-180h160v-160H180v160Zm440 0h160v-160H620v160Z\"/>\n",
              "  </svg>\n",
              "    </button>\n",
              "\n",
              "  <style>\n",
              "    .colab-df-container {\n",
              "      display:flex;\n",
              "      gap: 12px;\n",
              "    }\n",
              "\n",
              "    .colab-df-convert {\n",
              "      background-color: #E8F0FE;\n",
              "      border: none;\n",
              "      border-radius: 50%;\n",
              "      cursor: pointer;\n",
              "      display: none;\n",
              "      fill: #1967D2;\n",
              "      height: 32px;\n",
              "      padding: 0 0 0 0;\n",
              "      width: 32px;\n",
              "    }\n",
              "\n",
              "    .colab-df-convert:hover {\n",
              "      background-color: #E2EBFA;\n",
              "      box-shadow: 0px 1px 2px rgba(60, 64, 67, 0.3), 0px 1px 3px 1px rgba(60, 64, 67, 0.15);\n",
              "      fill: #174EA6;\n",
              "    }\n",
              "\n",
              "    .colab-df-buttons div {\n",
              "      margin-bottom: 4px;\n",
              "    }\n",
              "\n",
              "    [theme=dark] .colab-df-convert {\n",
              "      background-color: #3B4455;\n",
              "      fill: #D2E3FC;\n",
              "    }\n",
              "\n",
              "    [theme=dark] .colab-df-convert:hover {\n",
              "      background-color: #434B5C;\n",
              "      box-shadow: 0px 1px 3px 1px rgba(0, 0, 0, 0.15);\n",
              "      filter: drop-shadow(0px 1px 2px rgba(0, 0, 0, 0.3));\n",
              "      fill: #FFFFFF;\n",
              "    }\n",
              "  </style>\n",
              "\n",
              "    <script>\n",
              "      const buttonEl =\n",
              "        document.querySelector('#df-f9548623-2836-446b-aab3-8a7449290fa6 button.colab-df-convert');\n",
              "      buttonEl.style.display =\n",
              "        google.colab.kernel.accessAllowed ? 'block' : 'none';\n",
              "\n",
              "      async function convertToInteractive(key) {\n",
              "        const element = document.querySelector('#df-f9548623-2836-446b-aab3-8a7449290fa6');\n",
              "        const dataTable =\n",
              "          await google.colab.kernel.invokeFunction('convertToInteractive',\n",
              "                                                    [key], {});\n",
              "        if (!dataTable) return;\n",
              "\n",
              "        const docLinkHtml = 'Like what you see? Visit the ' +\n",
              "          '<a target=\"_blank\" href=https://colab.research.google.com/notebooks/data_table.ipynb>data table notebook</a>'\n",
              "          + ' to learn more about interactive tables.';\n",
              "        element.innerHTML = '';\n",
              "        dataTable['output_type'] = 'display_data';\n",
              "        await google.colab.output.renderOutput(dataTable, element);\n",
              "        const docLink = document.createElement('div');\n",
              "        docLink.innerHTML = docLinkHtml;\n",
              "        element.appendChild(docLink);\n",
              "      }\n",
              "    </script>\n",
              "  </div>\n",
              "\n",
              "\n",
              "<div id=\"df-b568114c-37f5-495c-828b-cc782543115b\">\n",
              "  <button class=\"colab-df-quickchart\" onclick=\"quickchart('df-b568114c-37f5-495c-828b-cc782543115b')\"\n",
              "            title=\"Suggest charts\"\n",
              "            style=\"display:none;\">\n",
              "\n",
              "<svg xmlns=\"http://www.w3.org/2000/svg\" height=\"24px\"viewBox=\"0 0 24 24\"\n",
              "     width=\"24px\">\n",
              "    <g>\n",
              "        <path d=\"M19 3H5c-1.1 0-2 .9-2 2v14c0 1.1.9 2 2 2h14c1.1 0 2-.9 2-2V5c0-1.1-.9-2-2-2zM9 17H7v-7h2v7zm4 0h-2V7h2v10zm4 0h-2v-4h2v4z\"/>\n",
              "    </g>\n",
              "</svg>\n",
              "  </button>\n",
              "\n",
              "<style>\n",
              "  .colab-df-quickchart {\n",
              "      --bg-color: #E8F0FE;\n",
              "      --fill-color: #1967D2;\n",
              "      --hover-bg-color: #E2EBFA;\n",
              "      --hover-fill-color: #174EA6;\n",
              "      --disabled-fill-color: #AAA;\n",
              "      --disabled-bg-color: #DDD;\n",
              "  }\n",
              "\n",
              "  [theme=dark] .colab-df-quickchart {\n",
              "      --bg-color: #3B4455;\n",
              "      --fill-color: #D2E3FC;\n",
              "      --hover-bg-color: #434B5C;\n",
              "      --hover-fill-color: #FFFFFF;\n",
              "      --disabled-bg-color: #3B4455;\n",
              "      --disabled-fill-color: #666;\n",
              "  }\n",
              "\n",
              "  .colab-df-quickchart {\n",
              "    background-color: var(--bg-color);\n",
              "    border: none;\n",
              "    border-radius: 50%;\n",
              "    cursor: pointer;\n",
              "    display: none;\n",
              "    fill: var(--fill-color);\n",
              "    height: 32px;\n",
              "    padding: 0;\n",
              "    width: 32px;\n",
              "  }\n",
              "\n",
              "  .colab-df-quickchart:hover {\n",
              "    background-color: var(--hover-bg-color);\n",
              "    box-shadow: 0 1px 2px rgba(60, 64, 67, 0.3), 0 1px 3px 1px rgba(60, 64, 67, 0.15);\n",
              "    fill: var(--button-hover-fill-color);\n",
              "  }\n",
              "\n",
              "  .colab-df-quickchart-complete:disabled,\n",
              "  .colab-df-quickchart-complete:disabled:hover {\n",
              "    background-color: var(--disabled-bg-color);\n",
              "    fill: var(--disabled-fill-color);\n",
              "    box-shadow: none;\n",
              "  }\n",
              "\n",
              "  .colab-df-spinner {\n",
              "    border: 2px solid var(--fill-color);\n",
              "    border-color: transparent;\n",
              "    border-bottom-color: var(--fill-color);\n",
              "    animation:\n",
              "      spin 1s steps(1) infinite;\n",
              "  }\n",
              "\n",
              "  @keyframes spin {\n",
              "    0% {\n",
              "      border-color: transparent;\n",
              "      border-bottom-color: var(--fill-color);\n",
              "      border-left-color: var(--fill-color);\n",
              "    }\n",
              "    20% {\n",
              "      border-color: transparent;\n",
              "      border-left-color: var(--fill-color);\n",
              "      border-top-color: var(--fill-color);\n",
              "    }\n",
              "    30% {\n",
              "      border-color: transparent;\n",
              "      border-left-color: var(--fill-color);\n",
              "      border-top-color: var(--fill-color);\n",
              "      border-right-color: var(--fill-color);\n",
              "    }\n",
              "    40% {\n",
              "      border-color: transparent;\n",
              "      border-right-color: var(--fill-color);\n",
              "      border-top-color: var(--fill-color);\n",
              "    }\n",
              "    60% {\n",
              "      border-color: transparent;\n",
              "      border-right-color: var(--fill-color);\n",
              "    }\n",
              "    80% {\n",
              "      border-color: transparent;\n",
              "      border-right-color: var(--fill-color);\n",
              "      border-bottom-color: var(--fill-color);\n",
              "    }\n",
              "    90% {\n",
              "      border-color: transparent;\n",
              "      border-bottom-color: var(--fill-color);\n",
              "    }\n",
              "  }\n",
              "</style>\n",
              "\n",
              "  <script>\n",
              "    async function quickchart(key) {\n",
              "      const quickchartButtonEl =\n",
              "        document.querySelector('#' + key + ' button');\n",
              "      quickchartButtonEl.disabled = true;  // To prevent multiple clicks.\n",
              "      quickchartButtonEl.classList.add('colab-df-spinner');\n",
              "      try {\n",
              "        const charts = await google.colab.kernel.invokeFunction(\n",
              "            'suggestCharts', [key], {});\n",
              "      } catch (error) {\n",
              "        console.error('Error during call to suggestCharts:', error);\n",
              "      }\n",
              "      quickchartButtonEl.classList.remove('colab-df-spinner');\n",
              "      quickchartButtonEl.classList.add('colab-df-quickchart-complete');\n",
              "    }\n",
              "    (() => {\n",
              "      let quickchartButtonEl =\n",
              "        document.querySelector('#df-b568114c-37f5-495c-828b-cc782543115b button');\n",
              "      quickchartButtonEl.style.display =\n",
              "        google.colab.kernel.accessAllowed ? 'block' : 'none';\n",
              "    })();\n",
              "  </script>\n",
              "</div>\n",
              "    </div>\n",
              "  </div>\n"
            ],
            "application/vnd.google.colaboratory.intrinsic+json": {
              "type": "dataframe",
              "variable_name": "df",
              "summary": "{\n  \"name\": \"df\",\n  \"rows\": 5,\n  \"fields\": [\n    {\n      \"column\": \"Tiempo(s)\",\n      \"properties\": {\n        \"dtype\": \"number\",\n        \"std\": 0.01581138830084191,\n        \"min\": 1.0,\n        \"max\": 1.04,\n        \"num_unique_values\": 5,\n        \"samples\": [\n          1.01,\n          1.04,\n          1.02\n        ],\n        \"semantic_type\": \"\",\n        \"description\": \"\"\n      }\n    },\n    {\n      \"column\": \"Corriente(A)\",\n      \"properties\": {\n        \"dtype\": \"number\",\n        \"std\": 0.055497747702046483,\n        \"min\": 3.1,\n        \"max\": 3.24,\n        \"num_unique_values\": 5,\n        \"samples\": [\n          3.12,\n          3.24,\n          3.14\n        ],\n        \"semantic_type\": \"\",\n        \"description\": \"\"\n      }\n    },\n    {\n      \"column\": \"fem(V)\",\n      \"properties\": {\n        \"dtype\": \"number\",\n        \"std\": 1.7879198710009347,\n        \"min\": 2.4002,\n        \"max\": 6.3400799999999995,\n        \"num_unique_values\": 5,\n        \"samples\": [\n          2.40304,\n          6.3400799999999995,\n          3.38588\n        ],\n        \"semantic_type\": \"\",\n        \"description\": \"\"\n      }\n    }\n  ]\n}"
            }
          },
          "metadata": {},
          "execution_count": 57
        }
      ]
    },
    {
      "cell_type": "code",
      "source": [
        "fig, axs = plt.subplots(1,2)\n",
        "axs[0].plot(df['Tiempo(s)'], df['Corriente(A)'], 'ro-')\n",
        "axs[1].plot(df['Tiempo(s)'], df['fem(V)'], 'bo-')\n",
        "plt.grid"
      ],
      "metadata": {
        "colab": {
          "base_uri": "https://localhost:8080/",
          "height": 601
        },
        "id": "8POyJ_Sq0RxE",
        "outputId": "b74f9ecd-6d28-4d74-86b9-c5eff5af7768"
      },
      "execution_count": 58,
      "outputs": [
        {
          "output_type": "execute_result",
          "data": {
            "text/plain": [
              "<function matplotlib.pyplot.grid(visible=None, which='major', axis='both', **kwargs)>"
            ],
            "text/html": [
              "<div style=\"max-width:800px; border: 1px solid var(--colab-border-color);\"><style>\n",
              "      pre.function-repr-contents {\n",
              "        overflow-x: auto;\n",
              "        padding: 8px 12px;\n",
              "        max-height: 500px;\n",
              "      }\n",
              "\n",
              "      pre.function-repr-contents.function-repr-contents-collapsed {\n",
              "        cursor: pointer;\n",
              "        max-height: 100px;\n",
              "      }\n",
              "    </style>\n",
              "    <pre style=\"white-space: initial; background:\n",
              "         var(--colab-secondary-surface-color); padding: 8px 12px;\n",
              "         border-bottom: 1px solid var(--colab-border-color);\"><b>matplotlib.pyplot.grid</b><br/>def grid(visible=None, which=&#x27;major&#x27;, axis=&#x27;both&#x27;, **kwargs)</pre><pre class=\"function-repr-contents function-repr-contents-collapsed\" style=\"\"><a class=\"filepath\" style=\"display:none\" href=\"#\">/usr/local/lib/python3.10/dist-packages/matplotlib/pyplot.py</a>Configure the grid lines.\n",
              "\n",
              "Parameters\n",
              "----------\n",
              "visible : bool or None, optional\n",
              "    Whether to show the grid lines.  If any *kwargs* are supplied, it\n",
              "    is assumed you want the grid on and *visible* will be set to True.\n",
              "\n",
              "    If *visible* is *None* and there are no *kwargs*, this toggles the\n",
              "    visibility of the lines.\n",
              "\n",
              "which : {&#x27;major&#x27;, &#x27;minor&#x27;, &#x27;both&#x27;}, optional\n",
              "    The grid lines to apply the changes on.\n",
              "\n",
              "axis : {&#x27;both&#x27;, &#x27;x&#x27;, &#x27;y&#x27;}, optional\n",
              "    The axis to apply the changes on.\n",
              "\n",
              "**kwargs : `.Line2D` properties\n",
              "    Define the line properties of the grid, e.g.::\n",
              "\n",
              "        grid(color=&#x27;r&#x27;, linestyle=&#x27;-&#x27;, linewidth=2)\n",
              "\n",
              "    Valid keyword arguments are:\n",
              "\n",
              "    Properties:\n",
              "    agg_filter: a filter function, which takes a (m, n, 3) float array and a dpi value, and returns a (m, n, 3) array and two offsets from the bottom left corner of the image\n",
              "    alpha: scalar or None\n",
              "    animated: bool\n",
              "    antialiased or aa: bool\n",
              "    clip_box: `.Bbox`\n",
              "    clip_on: bool\n",
              "    clip_path: Patch or (Path, Transform) or None\n",
              "    color or c: color\n",
              "    dash_capstyle: `.CapStyle` or {&#x27;butt&#x27;, &#x27;projecting&#x27;, &#x27;round&#x27;}\n",
              "    dash_joinstyle: `.JoinStyle` or {&#x27;miter&#x27;, &#x27;round&#x27;, &#x27;bevel&#x27;}\n",
              "    dashes: sequence of floats (on/off ink in points) or (None, None)\n",
              "    data: (2, N) array or two 1D arrays\n",
              "    drawstyle or ds: {&#x27;default&#x27;, &#x27;steps&#x27;, &#x27;steps-pre&#x27;, &#x27;steps-mid&#x27;, &#x27;steps-post&#x27;}, default: &#x27;default&#x27;\n",
              "    figure: `.Figure`\n",
              "    fillstyle: {&#x27;full&#x27;, &#x27;left&#x27;, &#x27;right&#x27;, &#x27;bottom&#x27;, &#x27;top&#x27;, &#x27;none&#x27;}\n",
              "    gapcolor: color or None\n",
              "    gid: str\n",
              "    in_layout: bool\n",
              "    label: object\n",
              "    linestyle or ls: {&#x27;-&#x27;, &#x27;--&#x27;, &#x27;-.&#x27;, &#x27;:&#x27;, &#x27;&#x27;, (offset, on-off-seq), ...}\n",
              "    linewidth or lw: float\n",
              "    marker: marker style string, `~.path.Path` or `~.markers.MarkerStyle`\n",
              "    markeredgecolor or mec: color\n",
              "    markeredgewidth or mew: float\n",
              "    markerfacecolor or mfc: color\n",
              "    markerfacecoloralt or mfcalt: color\n",
              "    markersize or ms: float\n",
              "    markevery: None or int or (int, int) or slice or list[int] or float or (float, float) or list[bool]\n",
              "    mouseover: bool\n",
              "    path_effects: `.AbstractPathEffect`\n",
              "    picker: float or callable[[Artist, Event], tuple[bool, dict]]\n",
              "    pickradius: unknown\n",
              "    rasterized: bool\n",
              "    sketch_params: (scale: float, length: float, randomness: float)\n",
              "    snap: bool or None\n",
              "    solid_capstyle: `.CapStyle` or {&#x27;butt&#x27;, &#x27;projecting&#x27;, &#x27;round&#x27;}\n",
              "    solid_joinstyle: `.JoinStyle` or {&#x27;miter&#x27;, &#x27;round&#x27;, &#x27;bevel&#x27;}\n",
              "    transform: unknown\n",
              "    url: str\n",
              "    visible: bool\n",
              "    xdata: 1D array\n",
              "    ydata: 1D array\n",
              "    zorder: float\n",
              "\n",
              "Notes\n",
              "-----\n",
              "The axis is drawn as a unit, so the effective zorder for drawing the\n",
              "grid is determined by the zorder of each axis, not by the zorder of the\n",
              "`.Line2D` objects comprising the grid.  Therefore, to set grid zorder,\n",
              "use `.set_axisbelow` or, for more control, call the\n",
              "`~.Artist.set_zorder` method of each axis.</pre>\n",
              "      <script>\n",
              "      if (google.colab.kernel.accessAllowed && google.colab.files && google.colab.files.view) {\n",
              "        for (const element of document.querySelectorAll('.filepath')) {\n",
              "          element.style.display = 'block'\n",
              "          element.onclick = (event) => {\n",
              "            event.preventDefault();\n",
              "            event.stopPropagation();\n",
              "            google.colab.files.view(element.textContent, 2614);\n",
              "          };\n",
              "        }\n",
              "      }\n",
              "      for (const element of document.querySelectorAll('.function-repr-contents')) {\n",
              "        element.onclick = (event) => {\n",
              "          event.preventDefault();\n",
              "          event.stopPropagation();\n",
              "          element.classList.toggle('function-repr-contents-collapsed');\n",
              "        };\n",
              "      }\n",
              "      </script>\n",
              "      </div>"
            ]
          },
          "metadata": {},
          "execution_count": 58
        },
        {
          "output_type": "display_data",
          "data": {
            "text/plain": [
              "<Figure size 640x480 with 2 Axes>"
            ],
            "image/png": "[encoded data removed]"
          },
          "metadata": {}
        }
      ]
    },
    {
      "cell_type": "markdown",
      "source": [
        "Polinomio dre lagrange"
      ],
      "metadata": {
        "id": "ceQhabU17DEj"
      }
    },
    {
      "cell_type": "code",
      "source": [
        "from scipy.interpolate import lagrange\n",
        "from scipy.interpolate import CubicSpline\n",
        "Pl= lagrange(t,i)\n",
        "x1=np.linspace(min(t), max(t),1000)\n",
        "plt.plot(x1, Pl(x1))\n",
        "plt.plot(t,i,\"m.\")\n"
      ],
      "metadata": {
        "colab": {
          "base_uri": "https://localhost:8080/",
          "height": 448
        },
        "id": "-HMzojJH6_Rj",
        "outputId": "cbca2d6a-49c3-49ad-eb1c-c0f34acb5448"
      },
      "execution_count": 59,
      "outputs": [
        {
          "output_type": "execute_result",
          "data": {
            "text/plain": [
              "[<matplotlib.lines.Line2D at 0x7a9c089d34f0>]"
            ]
          },
          "metadata": {},
          "execution_count": 59
        },
        {
          "output_type": "display_data",
          "data": {
            "text/plain": [
              "<Figure size 640x480 with 1 Axes>"
            ],
            "image/png": "[encoded data removed]"
          },
          "metadata": {}
        }
      ]
    },
    {
      "cell_type": "code",
      "source": [
        "def Dif_(f, x,h):\n",
        "  derivada = (-3*f(x)+4*f(x-h))/(2*h)"
      ],
      "metadata": {
        "id": "f6VIWOIo1DKg"
      },
      "execution_count": 60,
      "outputs": []
    },
    {
      "cell_type": "markdown",
      "metadata": {
        "id": "yyh50GiIux2j"
      },
      "source": [
        "## Parte 2\n",
        "1. Escribir en código Markdown la expresión para calcular una integral con la regla del trapecio.\n",
        "\n",
        "2. Escribir en código Markdown la expresión para calcular una integral con la regla del simpson.\n",
        "\n",
        "3. Escribir en código Markdown la expresión para calcular una integral con el metodo de cuadratura.\n",
        "\n",
        "4. Calcular una aproximación con el metodo 1,2,3 de las siguientes integrales"
      ]
    },
    {
      "cell_type": "markdown",
      "source": [
        "\n",
        "\n",
        "*   ### Regla del Trapecio\n",
        "\n",
        " Se basa en aproximar el área bajo una curva por la suma de áreas de trapecios.\n",
        "\n",
        "#### Fórmula\n",
        "\n",
        "La fórmula general para la regla del trapecio es:\n",
        "$$\n",
        "P(x)=f(a)L_0(x) + f(b)L_1(x)\n",
        "$$\n",
        "donde\n",
        "$$\n",
        "L_0(x)=\\frac{x-b}{a-b}\n",
        "$$\n",
        "y\n",
        "$$\n",
        "L_1(x)=\\frac{x-a}{b-a}\n",
        "$$\n",
        "$$\n",
        "\\int_a^b P(x) \\, dx = \\int_a^b [f(a)L_0(x)+f(b)L_1(x)]dx\n",
        "$$\n",
        "Aplicando linealidad  de la  integral y propiedades de los polinomios de base, se obtiene:\n",
        "$$\n",
        "\\int_a^b P(x) \\, dx = f(a)\\int_a^b L_0(x)\\,dx+f(b)\\int_a^b L_1(x)\\,dx\n",
        "$$\n",
        "Simplificando se llega a :\n",
        "$$\n",
        "\\int_a^b P(x) \\,dx= \\frac{b-a}{2}[f(a)+f(b)]-\\frac{(b-a)^3}{12}f''()\n",
        "$$\n",
        "\n",
        "*   ### Metodo de Simpson\n",
        "$$\n",
        "\\int_{a}^{b} f(x) \\, dx \\approx \\frac{h}{3} \\left[ f(a) + 4f(x_1) + 2f(x_2) + 4f(x_3) + \\ldots + 2f(x_{n-2})+ 4f(x_{n-1}) + f(b) \\right]\n",
        "$$\n",
        "\n",
        "\\\n",
        "\n",
        "donde $h=\\frac{b-a}{n}$es el ancho de  cada subintervalo y $x_i=a+ih$ son los puntos donde se evalua la funcion.\n",
        "\n",
        "\\\n",
        "\n",
        "El error esta dado por:\n",
        "$$\n",
        "E=-\\frac{{(b - a)^5}}{{180 n^4}} \\cdot f^{(4)}(\\xi)\n",
        "$$\n",
        "\n",
        " \\\n",
        "\n",
        "*   ### Metodo de cuadratura\n",
        "\n",
        "$$\n",
        "\\int_{a}^{b} f(x) \\, dx \\approx \\frac{h}{2} \\left[ f(a) + 2f(x_1) + 2f(x_2) + \\ldots + 2f(x_{n-1}) + f(b) \\right]\n",
        "$$"
      ],
      "metadata": {
        "id": "lRun0QxZAgYu"
      }
    },
    {
      "cell_type": "markdown",
      "metadata": {
        "id": "j3rJW3FevAeC"
      },
      "source": [
        "---\n",
        "$$\n",
        " \\int_0^{\\pi/2} \\frac{1}{\\sqrt{\\tan x}}\\mathrm{dx}\n",
        " $$\n",
        "\n",
        "----\n",
        "$$\n",
        " \\int_{1}^{\\infty} \\frac{\\cos x}{x^3}\\mathrm{dx}\n",
        " $$\n",
        "\n",
        "\n",
        "----\n",
        "\n",
        "$$\n",
        " \\int_{0}^{\\pi/4} \\int_{0}^{\\sin x} \\frac{1}{\\sqrt{1-y^2}}\\mathrm{dydx}\n",
        " $$\n",
        "\n",
        "---\n",
        "\n",
        "Garantizando  que el error sea menor a $\\varepsilon=1\\times 10^{-5}$."
      ]
    },
    {
      "cell_type": "markdown",
      "source": [
        "$$\n",
        " \\int_0^{\\pi/2} \\frac{1}{\\sqrt{\\tan x}}\\mathrm{dx}\n",
        " $$"
      ],
      "metadata": {
        "id": "z_vAB5NHVRa6"
      }
    },
    {
      "cell_type": "code",
      "source": [
        "import numpy as np\n",
        "from scipy.integrate import quad, trapezoid, simpson, dblquad"
      ],
      "metadata": {
        "id": "8o_qO-14mxtW"
      },
      "execution_count": 61,
      "outputs": []
    },
    {
      "cell_type": "code",
      "source": [
        "f=lambda x: 1/np.sqrt(np.tan(x))\n",
        "g=lambda x: np.cos(x) / x**3\n",
        "h=lambda y:1/np.sqrt(1-y**2)"
      ],
      "metadata": {
        "id": "kzChjB_7_5D6"
      },
      "execution_count": 62,
      "outputs": []
    },
    {
      "cell_type": "code",
      "source": [
        "f=lambda x: 1/np.sqrt(np.tan(x))\n",
        "#Regla del trapecio\n",
        "x=np.linspace(0, np.pi/2, 1000)\n",
        "y=1/np.sqrt(np.tan(x))\n",
        "rt=trapezoid(y, x)\n",
        "print('Resultado con la regla del trapecio:',rt)\n",
        "#Método de Simpson\n",
        "y=f(x)\n",
        "rs=simpson(y,x)\n",
        "print('Resultado con la regla de Simpson',rs)\n",
        "#Método de Cuadratura\n",
        "rc, error_f= quad(f, 0, np.pi/2)\n",
        "print('Resultado con el método de Cuadratura',rc)"
      ],
      "metadata": {
        "id": "G3D82jKMLVy5",
        "colab": {
          "base_uri": "https://localhost:8080/"
        },
        "outputId": "1c3ab2ec-238c-4e80-864c-6a6e97a5542a"
      },
      "execution_count": 63,
      "outputs": [
        {
          "output_type": "stream",
          "name": "stdout",
          "text": [
            "Resultado con la regla del trapecio: inf\n",
            "Resultado con la regla de Simpson inf\n",
            "Resultado con el método de Cuadratura 2.2214414690792026\n"
          ]
        },
        {
          "output_type": "stream",
          "name": "stderr",
          "text": [
            "<ipython-input-63-f3b4da47cfa1>:4: RuntimeWarning: divide by zero encountered in divide\n",
            "  y=1/np.sqrt(np.tan(x))\n",
            "<ipython-input-63-f3b4da47cfa1>:1: RuntimeWarning: divide by zero encountered in divide\n",
            "  f=lambda x: 1/np.sqrt(np.tan(x))\n"
          ]
        }
      ]
    },
    {
      "cell_type": "code",
      "source": [
        "from sympy import pi,oo,tan,symbols,integrate\n",
        "import sympy as sp\n",
        "x=symbols('x')\n",
        "f=1/(sp.sqrt(sp.tan(x)))\n",
        "I = integrate(f,(x,0,pi/2)).evalf()\n",
        "I"
      ],
      "metadata": {
        "colab": {
          "base_uri": "https://localhost:8080/",
          "height": 37
        },
        "id": "SihpdftcxuiB",
        "outputId": "2e1d8169-3c90-4384-91cb-984dc6d811ee"
      },
      "execution_count": 64,
      "outputs": [
        {
          "output_type": "execute_result",
          "data": {
            "text/plain": [
              "2.22144146907918"
            ],
            "text/latex": "$\\displaystyle 2.22144146907918$"
          },
          "metadata": {},
          "execution_count": 64
        }
      ]
    },
    {
      "cell_type": "markdown",
      "source": [
        "$$\n",
        " \\int_{1}^{\\infty} \\frac{\\cos x}{x^3}\\mathrm{dx}\n",
        " $$"
      ],
      "metadata": {
        "id": "f5dt5uGbVWhe"
      }
    },
    {
      "cell_type": "code",
      "source": [
        "g=lambda x: np.cos(x) / x**3\n",
        "#Regla del trapecio\n",
        "xg=np.linspace(1, 10, 1000)\n",
        "tg=trapezoid(g(xg), xg)\n",
        "print('Resultado con la regla del trapecio:',tg)\n",
        "\n",
        "#Método de Simpson\n",
        "xg=np.linspace(1, 100, 1000)\n",
        "g=lambda x: np.cos(x) / x**3\n",
        "g1=g(xg)\n",
        "sg=simpson(g1,xg)\n",
        "print('Resultado con la regla de Simpson',sg)\n",
        "\n",
        "#Método de Cuadratura\n",
        "g=lambda x: np.cos(x) / x**3\n",
        "cg, error_g= quad(g, 1, np.inf)\n",
        "print('Resultado con el método de Cuadratura',cg)\n",
        "\n"
      ],
      "metadata": {
        "colab": {
          "base_uri": "https://localhost:8080/"
        },
        "id": "yuFoYPxHu4F5",
        "outputId": "52dbb111-509b-4023-b563-f02618dc10c0"
      },
      "execution_count": 65,
      "outputs": [
        {
          "output_type": "stream",
          "name": "stdout",
          "text": [
            "Resultado con la regla del trapecio: 0.01785679978713544\n",
            "Resultado con la regla de Simpson 0.018146198374136516\n",
            "Resultado con el método de Cuadratura 0.01811792007976691\n"
          ]
        },
        {
          "output_type": "stream",
          "name": "stderr",
          "text": [
            "<ipython-input-65-f76dee1189da>:16: IntegrationWarning: The maximum number of subdivisions (50) has been achieved.\n",
            "  If increasing the limit yields no improvement it is advised to analyze \n",
            "  the integrand in order to determine the difficulties.  If the position of a \n",
            "  local difficulty can be determined (singularity, discontinuity) one will \n",
            "  probably gain from splitting up the interval and calling the integrator \n",
            "  on the subranges.  Perhaps a special-purpose integrator should be used.\n",
            "  cg, error_g= quad(g, 1, np.inf)\n"
          ]
        }
      ]
    },
    {
      "cell_type": "code",
      "source": [
        "from sympy import pi,oo,cos,symbols,integrate,sin\n",
        "import sympy as sp\n",
        "x=symbols('x')\n",
        "g= sp.cos(x) / x**3\n",
        "Ig = integrate(g,(x,1,oo)).evalf()\n",
        "Ig\n"
      ],
      "metadata": {
        "colab": {
          "base_uri": "https://localhost:8080/",
          "height": 37
        },
        "id": "ETwjhXaU78Qd",
        "outputId": "f9a4790c-a29e-4d3b-ea00-09c4f4f6c67f"
      },
      "execution_count": 66,
      "outputs": [
        {
          "output_type": "execute_result",
          "data": {
            "text/plain": [
              "0.0181176219806057"
            ],
            "text/latex": "$\\displaystyle 0.0181176219806057$"
          },
          "metadata": {},
          "execution_count": 66
        }
      ]
    },
    {
      "cell_type": "markdown",
      "source": [
        "\n",
        "$$\n",
        " \\int_{0}^{\\pi/4} \\int_{0}^{\\sin x} \\frac{1}{\\sqrt{1-y^2}}\\mathrm{dydx}\n",
        " $$"
      ],
      "metadata": {
        "id": "AvEiABb7VgfL"
      }
    },
    {
      "cell_type": "code",
      "source": [
        "#Método de Cuadratura\n",
        "from scipy.integrate import dblquad\n",
        "h=lambda y, x: 1/np.sqrt(1-y**2)\n",
        "Ih, error=dblquad(h, 0, np.pi/4,0,np.sin)\n",
        "Ih"
      ],
      "metadata": {
        "colab": {
          "base_uri": "https://localhost:8080/"
        },
        "id": "oYNLrCjENjCU",
        "outputId": "4fd36aa8-986c-4b90-bea4-8058ea59dcc3"
      },
      "execution_count": 67,
      "outputs": [
        {
          "output_type": "execute_result",
          "data": {
            "text/plain": [
              "0.30842513753404244"
            ]
          },
          "metadata": {},
          "execution_count": 67
        }
      ]
    },
    {
      "cell_type": "code",
      "source": [
        "from sympy import pi,oo,cos,symbols,integrate,sin\n",
        "x, y = sp.symbols('x y')\n",
        "h = 1 / sp.sqrt(1 - y**2)\n",
        "x_i=0\n",
        "x_s=sp.pi/4\n",
        "y_i=0\n",
        "y_s=sp.sin(x)\n",
        "Iyh=sp.integrate(sp.integrate(h,(y,y_i,y_s)), (x, x_i, x_s))\n",
        "Iyh"
      ],
      "metadata": {
        "colab": {
          "base_uri": "https://localhost:8080/",
          "height": 83
        },
        "id": "YId2xVIcGRyg",
        "outputId": "fcf27fff-7e2d-41a3-b9a9-b282a487f27a"
      },
      "execution_count": 68,
      "outputs": [
        {
          "output_type": "execute_result",
          "data": {
            "text/plain": [
              "Integral(asin(sin(x)), (x, 0, pi/4))"
            ],
            "text/latex": "$\\displaystyle \\int\\limits_{0}^{\\frac{\\pi}{4}} \\operatorname{asin}{\\left(\\sin{\\left(x \\right)} \\right)}\\, dx$"
          },
          "metadata": {},
          "execution_count": 68
        }
      ]
    },
    {
      "cell_type": "code",
      "source": [
        "k=lambda x:  np.arcsin(np.sin(x))\n",
        "#Regla del trapecio\n",
        "xk=np.linspace(0, np.pi/4, 1000)\n",
        "tk=trapezoid(k(xk), xk)\n",
        "print('Resultado con la regla del trapecio:',tk)\n",
        "\n",
        "#Método de Simpson\n",
        "k=lambda x:  np.arcsin(np.sin(x))\n",
        "k1=k(xk)\n",
        "sk=simpson(k1,xk)\n",
        "print('Resultado con la regla de Simpson',sk)\n",
        "\n",
        "#Método de Cuadratura\n",
        "k=lambda x:  np.arcsin(np.sin(x))\n",
        "ck, error_k= quad(k, 0, np.pi/4)\n",
        "print('Resultado con el método de Cuadratura',ck)"
      ],
      "metadata": {
        "colab": {
          "base_uri": "https://localhost:8080/"
        },
        "id": "rizGLAU2Nah5",
        "outputId": "1195d2ac-5162-4850-b7df-1bb6f0b69e46"
      },
      "execution_count": 69,
      "outputs": [
        {
          "output_type": "stream",
          "name": "stdout",
          "text": [
            "Resultado con la regla del trapecio: 0.30842513753404244\n",
            "Resultado con la regla de Simpson 0.3084251375340424\n",
            "Resultado con el método de Cuadratura 0.30842513753404244\n"
          ]
        }
      ]
    },
    {
      "cell_type": "markdown",
      "metadata": {
        "id": "pvB9I2lavCdW"
      },
      "source": [
        "## Parte 3\n",
        "Un péndulo físico en el regimen de pequeñas oscilaciones tiene un periodo de:\n",
        "\n",
        "\\begin{equation}\n",
        "P_0=2\\pi \\sqrt{\\frac{I_0}{mgb}}\n",
        "\\end{equation}\n",
        "\n",
        "Cuando las oscilaciones no son pequeñas, podemos encontrar una expresión para el periodo como sigue:\n",
        "\n",
        "\n",
        "La energia de un péndulo físico viene dada por:\n",
        "\n",
        "\\begin{equation}\n",
        "E=\\frac{I_0\\omega^2}{2}+mgb(1-\\cos \\theta)\n",
        "\\end{equation}\n",
        "\n",
        "En el punto más alejado de su posición de equilibrio, su energía es solo potencial y viene dada por:\n",
        "\n",
        "\\begin{equation}\n",
        "Ep = mgb(1-\\cos \\theta),\n",
        "\\end{equation}\n",
        "\n",
        "Igualando ambas expresiones tenemos que:\n",
        "\n",
        "\\begin{equation}\n",
        "mgb(1-\\cos \\theta)=\\frac{I_0\\omega^2}{2}+mgb(1-\\cos \\theta)\n",
        "\\end{equation}\n",
        "\n",
        "Integrando la ecuación respecto a $\\theta$ y realizando la sustitución:\n",
        "\n",
        "$\\sin \\phi = \\frac{\\sin \\frac{\\theta}{2}}{\\sin \\frac{\\theta_0}{2}}$ y  $k = \\sin \\frac{\\theta_0}{2}$, se puede encontrar  que el periodo de oscilación, viene dado en terminos de  la integral elíptica completa de primera especie:\n",
        "\n",
        "\n",
        "\\begin{equation}\n",
        "P = \\frac{2P_0}{\\pi} \\int _0^{\\pi/2} \\frac{\\mathrm{d\\phi}}{\\sqrt{1-k^2\\sin^2\\phi}}\n",
        "\\end{equation}\n",
        "\n",
        "donde,  $P_0$ es el periodo de las oscilaciones pequeñas.\n",
        "\n",
        "Determinar el periodo de oscilación de un péndulo. Para ello:\n",
        "\n",
        "1. Suponga los párametros iniciales del pendulo.\n",
        "2. Realice una buena planificación del código para calcular la integral.\n",
        "3. Emplee un  método de integracion numérico que conozca.\n",
        "4. Compruebe su solucion con el valor exacto de la integral mostrado en el punto"
      ]
    },
    {
      "cell_type": "markdown",
      "source": [
        "\\begin{equation}\n",
        "P_0=2\\pi \\sqrt{\\frac{I_0}{mgb}}\n",
        "\\end{equation}"
      ],
      "metadata": {
        "id": "0VStLCX2w37f"
      }
    },
    {
      "cell_type": "code",
      "source": [
        "# parametros iniciales\n",
        "g=9.8 #gravedad(m/s**2)\n",
        "m=0.5 #masa (kg)\n",
        "b= 0.8 #distancia desde el punto de suspensión al centro de masa del péndulo(m)\n",
        "Io=0.32 #Momento de inercia(Kg*m**2)\n",
        "theta_o=np.radians(25)#angulo en radianes\n",
        "Po=2*np.pi*np.sqrt(Io/(m*g*b)) #Periodo de oscilación para pequeñas oscilaciones\n",
        "k = np.sin(theta_o/ 2)"
      ],
      "metadata": {
        "id": "UNIu2W6ei8Le"
      },
      "execution_count": 70,
      "outputs": []
    },
    {
      "cell_type": "markdown",
      "source": [
        "\\begin{equation}\n",
        "P = \\frac{2P_0}{\\pi} \\int _0^{\\pi/2} \\frac{\\mathrm{d\\phi}}{\\sqrt{1-k^2\\sin^2\\phi}}\n",
        "\\end{equation}"
      ],
      "metadata": {
        "id": "X2jaWVASKCKm"
      }
    },
    {
      "cell_type": "code",
      "source": [
        "p=lambda phi: 1/np.sqrt(1-(k**2)*np.sin(phi)**2)\n",
        "Ip, error_p= quad(p, 0, np.pi/2)\n",
        "print('Resultado con el método de Cuadratura',Ip)"
      ],
      "metadata": {
        "id": "eF_yLvNdAn14",
        "colab": {
          "base_uri": "https://localhost:8080/"
        },
        "outputId": "5f5dfcea-0402-4274-c406-2f9e250ed129"
      },
      "execution_count": 71,
      "outputs": [
        {
          "output_type": "stream",
          "name": "stdout",
          "text": [
            "Resultado con el método de Cuadratura 1.5896938710233715\n"
          ]
        }
      ]
    },
    {
      "cell_type": "code",
      "source": [
        "P=(2*Po / np.pi) * Ip\n",
        "print(f'Periodo de oscilación para pequeñas oscilaciones: {Po} s')\n",
        "print(f'Periodo de oscilación para oscilaciones grandes: {P} s')"
      ],
      "metadata": {
        "colab": {
          "base_uri": "https://localhost:8080/"
        },
        "id": "_A_r5bwRUAdC",
        "outputId": "e853469e-d77b-48d0-a7c8-8516356584e6"
      },
      "execution_count": 72,
      "outputs": [
        {
          "output_type": "stream",
          "name": "stdout",
          "text": [
            "Periodo de oscilación para pequeñas oscilaciones: 1.7951958020513104 s\n",
            "Periodo de oscilación para oscilaciones grandes: 1.8167929954552815 s\n"
          ]
        }
      ]
    },
    {
      "cell_type": "code",
      "source": [
        "import sympy as sp\n",
        "from sympy import pi,sin,symbols,integrate\n",
        "theta_o = np.radians(25)\n",
        "k = np.sin(theta_o / 2)\n",
        "phi=symbols('phi')\n",
        "p=1/sp.sqrt(1-(k**2)*sp.sin(phi)**2)\n",
        "I = integrate(p,(phi,0,pi/2)).evalf()\n",
        "print(f'Integral con sympy: {I} s')"
      ],
      "metadata": {
        "colab": {
          "base_uri": "https://localhost:8080/"
        },
        "id": "kNtMQToMXHFG",
        "outputId": "58a7c038-a710-4afb-eb5c-91140590bdc2"
      },
      "execution_count": 73,
      "outputs": [
        {
          "output_type": "stream",
          "name": "stdout",
          "text": [
            "Integral con sympy: 1.58969387102337 s\n"
          ]
        }
      ]
    },
    {
      "cell_type": "markdown",
      "source": [
        "#### scipy.special.ellipk\n",
        "#####Complete elliptic integral of the first kind.This function is defined as:\n",
        "\\begin{equation}\n",
        "K(m) =  \\int _0^{\\pi/2} \\frac{\\mathrm{d\\phi}}{\\sqrt{1-m\\sin^2(\\phi})}\n",
        "\\end{equation}\n",
        "\n",
        "> https://docs.scipy.org/doc/scipy/reference/generated/scipy.special.ellipk.html\n",
        "\n"
      ],
      "metadata": {
        "id": "Fh_M4I4LkA_2"
      }
    },
    {
      "cell_type": "code",
      "source": [
        "import scipy.special as sp\n",
        "theta_o = np.radians(25)\n",
        "k = np.sin(theta_o / 2)\n",
        "\n",
        "Ie = sp.ellipk(k**2)\n",
        "Pe=(2*Po / np.pi) * Ie\n",
        "print(f'Integral elíptica completa de primera especie: {Ie} s')\n",
        "print(f'Periodo de oscilación para oscilaciones grandes: {Pe} s')"
      ],
      "metadata": {
        "colab": {
          "base_uri": "https://localhost:8080/"
        },
        "id": "uwT33P7HfXeI",
        "outputId": "788e16aa-4783-49dd-ae92-1b66a4a7a996"
      },
      "execution_count": 74,
      "outputs": [
        {
          "output_type": "stream",
          "name": "stdout",
          "text": [
            "Integral elíptica completa de primera especie: 1.5896938710233712 s\n",
            "Periodo de oscilación para oscilaciones grandes: 1.8167929954552813 s\n"
          ]
        }
      ]
    },
    {
      "cell_type": "markdown",
      "metadata": {
        "id": "R2jgnjm4vd95"
      },
      "source": [
        "## Parte 4\n",
        "The next  problems are examples of how elliptic integrals enter into realistic physics problems. It is straightforward to evaluate any integral numerically using the techniques of this chapter, but it may be difficult for you to  know if the answers you obtain are correct. One way to hone your integral evaluating skills is to compare your answers from quadrature to power series\n",
        "expressions, or to a polynomial approximations of know precision. To help you in this regard, we present here a polynomial approximation for an elliptic integral (Abramowitz and Stegun, 1972):\n",
        "\n",
        "\\begin{equation}\n",
        "K(m)=\\int_{0}^{\\pi/2} \\frac{\\mathrm{d\\phi}}{\\sqrt{1-m\\sin^2\\phi}}\n",
        "\\end{equation}\n",
        "\n",
        "\\begin{equation}\n",
        "\\approx a_0+a_1m_1+a_2m_2 - [ b_0+b_1m_1+b_2m_1^2]\\ln m_1 + \\epsilon(m)\n",
        "\\end{equation}\n",
        "\n",
        "\n",
        "* $m_1 = 1-m$,\n",
        "\n",
        "* $ 0 \\le m \\le1 $\n",
        "\n",
        "* $\\epsilon(m)\\leq 3\\times 10^{-5}$\n",
        "\n",
        "* $a_0 = 1.3862944$\n",
        "\n",
        "* $b_0 = 0.5$\n",
        "\n",
        "* $a_1 = 0.1119723$\n",
        "\n",
        "* $b_1 = 0.1213478$\n",
        "\n",
        "* $a_2 = 0.00725296$\n",
        "\n",
        "* $b_2 = 0.0288729$"
      ]
    },
    {
      "cell_type": "code",
      "source": [
        "a0 = 1.3862944\n",
        "b0 = 0.5\n",
        "a1 = 0.1119723\n",
        "b1 = 0.1213478\n",
        "a2 = 0.00725296\n",
        "b2 = 0.0288729\n",
        "e = 3E-5\n",
        "\n",
        "def aproximacion(m):\n",
        "    if 0 <= m <= 1:\n",
        "        m1 = 1 - m\n",
        "        aprox =(a0 + a1 * m1 + a2 * m1**2)-(b0 + b1 * m1 + b2 * m1**2) * np.log(m1) + e\n",
        "        return aprox\n",
        "    else:\n",
        "        return \"El valor de m debe estar en el rango [0, 1]\"\n",
        "\n",
        "\n",
        "m=k**2\n",
        "R=aproximacion(m)\n",
        "R"
      ],
      "metadata": {
        "colab": {
          "base_uri": "https://localhost:8080/"
        },
        "id": "mQnNqzZyKGZK",
        "outputId": "409f0be9-a58a-4a81-8ee4-df74db24b62e"
      },
      "execution_count": 75,
      "outputs": [
        {
          "output_type": "execute_result",
          "data": {
            "text/plain": [
              "1.530437947023948"
            ]
          },
          "metadata": {},
          "execution_count": 75
        }
      ]
    },
    {
      "cell_type": "markdown",
      "metadata": {
        "id": "xDFUsTNRvzOV"
      },
      "source": [
        "## Parte 5 (Opcional)\n",
        "\n",
        "Figure 5.7 shows a current loop of radius a carrying a current I. The point P\n",
        "is a distance r from the center of the loop with spherical coordinates (r, θ, φ).\n",
        "Jackson (1988) solves for the φ component of the vector potential at point P\n",
        "in terms of elliptic integrals:\n",
        "\n",
        "\\begin{equation}\n",
        "A_{\\phi}(r, \\theta)=\\frac{\\mu_0}{4\\pi}\\frac{4Ia}{\\sqrt{a^2+r^2+2ar\\sin \\theta}}\\left(\\frac{(2-k^2)K(k)-2E(k)}{k^2} \\right)\n",
        "\\end{equation}\n",
        "\n",
        "\n",
        "where\n",
        "\n",
        "\\begin{equation}\n",
        "K(k)=\\int_{0}^{\\pi/2} \\frac{\\mathrm{d\\phi}}{\\sqrt{1-k^2\\sin^2\\phi}}\n",
        "\\end{equation}\n",
        "\n",
        "\n",
        "\\begin{equation}\n",
        "E(k)=\\int_{0}^{\\pi/2} \\mathrm{d\\phi} \\sqrt{1-k^2\\sin^2\\phi}\n",
        "\\end{equation}\n",
        "\n",
        "\n",
        "\\begin{equation}\n",
        "k^2=\\frac{4ar\\sin\\theta}{a^2+r^2+2ar\\sin\\theta}\n",
        "\\end{equation}\n",
        "\n",
        "\n",
        "\n",
        "Here K(k) is a complete elliptic integral of the first kind and E(k) is a complete\n",
        "elliptic integral of the second kind. For a = 1, I = 3, and μ0∕4π = 1, compute\n",
        "and plot\n",
        "\n",
        "a) Aφ(r = 1.1, θ) vs. θ\n",
        "\n",
        "b) Aφ(r, θ = π∕3) vs. r\n"
      ]
    },
    {
      "cell_type": "code",
      "source": [
        "import numpy as np\n",
        "from scipy.integrate import quad\n",
        "import matplotlib.pylab as plt\n",
        "\n",
        "f = lambda phi, k : 1/np.sqrt(1-k**2*(np.sin(phi))**2 )\n",
        "g = lambda phi, k : np.sqrt(1-k**2*(np.sin(phi))**2 )\n",
        "\n",
        "def KK(k,f):\n",
        "  I = quad(f, 0, np.pi/2, args=(k, ))[0]\n",
        "  return I\n",
        "\n",
        "def EE(k,g):\n",
        "  I = quad(g, 0, np.pi/2, args=(k, ))[0]\n",
        "  return I\n",
        "\n",
        "def k_cuadrado(r,theta,a ):\n",
        "  n = 4*a*r*np.sin(theta)\n",
        "  d = a**2+r**2+2*a*r*np.sin(theta)\n",
        "  return n/d\n",
        "\n",
        "def Apotencial(r, theta, a, I):\n",
        "  n = 4*I*a\n",
        "  d = np.sqrt(a**2+r**2+2*a*r*np.sin(theta))\n",
        "  PT = n/d\n",
        "  k_2 = k_cuadrado(r,theta,a )\n",
        "  k = np.sqrt(k_2)\n",
        "  ST = (((2-k_2)* KK(k,f)) - 2*EE(k,g))/k_2\n",
        "\n",
        "  A = PT*ST\n",
        "  return   A"
      ],
      "metadata": {
        "id": "UNmccgiRN__U"
      },
      "execution_count": 76,
      "outputs": []
    },
    {
      "cell_type": "code",
      "source": [
        "a=1\n",
        "I=3\n",
        "r=np.linspace(0.1, 5.0)\n",
        "A = np.zeros(len(r))\n",
        "for i, r_  in enumerate(r):\n",
        "  A[i] = Apotencial(r_, np.pi/4, a, I)\n",
        "\n",
        "plt.plot(r,A)\n",
        "plt.xlabel(\"r\")\n",
        "plt.grid()\n",
        "plt.ylabel(\"A(r, θ)\")"
      ],
      "metadata": {
        "colab": {
          "base_uri": "https://localhost:8080/",
          "height": 469
        },
        "id": "YbAVJC9uOCmf",
        "outputId": "8b9bc0ba-df63-4752-c279-b5bd38bf0cb6"
      },
      "execution_count": 77,
      "outputs": [
        {
          "output_type": "execute_result",
          "data": {
            "text/plain": [
              "Text(0, 0.5, 'A(r, θ)')"
            ]
          },
          "metadata": {},
          "execution_count": 77
        },
        {
          "output_type": "display_data",
          "data": {
            "text/plain": [
              "<Figure size 640x480 with 1 Axes>"
            ],
            "image/png": "[encoded data removed]"
          },
          "metadata": {}
        }
      ]
    }
  ],
  "metadata": {
    "colab": {
      "provenance": []
    },
    "kernelspec": {
      "display_name": "Python 3 (ipykernel)",
      "language": "python",
      "name": "python3"
    },
    "language_info": {
      "codemirror_mode": {
        "name": "ipython",
        "version": 3
      },
      "file_extension": ".py",
      "mimetype": "text/x-python",
      "name": "python",
      "nbconvert_exporter": "python",
      "pygments_lexer": "ipython3",
      "version": "3.10.9"
    }
  },
  "nbformat": 4,
  "nbformat_minor": 0
}