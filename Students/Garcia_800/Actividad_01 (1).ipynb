{
  "nbformat": 4,
  "nbformat_minor": 0,
  "metadata": {
    "colab": {
      "provenance": []
    },
    "kernelspec": {
      "name": "python3",
      "display_name": "Python 3"
    },
    "language_info": {
      "name": "python"
    }
  },
  "cells": [
    {
      "cell_type": "code",
      "execution_count": 17,
      "metadata": {
        "id": "lgVQQXtzuD5o",
        "colab": {
          "base_uri": "https://localhost:8080/"
        },
        "outputId": "95c4c40e-6ae1-4418-99b8-84244405bc9b"
      },
      "outputs": [
        {
          "output_type": "stream",
          "name": "stdout",
          "text": [
            "Writing Actividad_01_enteros.py\n"
          ]
        }
      ],
      "source": [
        "%%writefile Actividad_01_enteros.py\n",
        "#!/usr/bin/python\n",
        "def co_re(a,b):\n",
        "    if a > 0 and b>0:\n",
        "        print(a/b)\n",
        "        print(a%b)\n",
        "co_re(10, 5)\n"
      ]
    },
    {
      "cell_type": "code",
      "source": [
        "%%writefile Actividad_01_doblefactorial.py\n",
        "#!/usr/bin/python\n",
        "def doble_factorial(n):\n",
        "    s=n\n",
        "    while(n>2):\n",
        "        n=n-2\n",
        "        s=s*n\n",
        "    return(s)\n",
        "result=doble_factorial(9)\n",
        "print(f\"el doble factorial de {n} es {result}\")"
      ],
      "metadata": {
        "colab": {
          "base_uri": "https://localhost:8080/"
        },
        "id": "dnZOX8IImOjt",
        "outputId": "ec8fbe76-8ef1-41e3-ba4b-76c5ecb8bfe0"
      },
      "execution_count": 18,
      "outputs": [
        {
          "output_type": "stream",
          "name": "stdout",
          "text": [
            "Writing Actividad_01_doblefactorial.py\n"
          ]
        }
      ]
    },
    {
      "cell_type": "code",
      "source": [
        "%%writefile Actividad_01_lucas.py\n",
        "#!/usr/bin/python\n",
        "def sucesion_lucas(n):\n",
        "    if n == 0:\n",
        "        return 2\n",
        "    if n == 1:\n",
        "        return 1\n",
        "    else:\n",
        "      return sucesion_lucas(n-1) + sucesion_lucas(n-2)\n",
        "\n",
        "for i in range(5):\n",
        "    print(sucesion_lucas(i))\n"
      ],
      "metadata": {
        "colab": {
          "base_uri": "https://localhost:8080/"
        },
        "id": "CgqWZFZUg8pO",
        "outputId": "dd5b7e7a-81eb-4214-97f7-fec7ca27c770"
      },
      "execution_count": 19,
      "outputs": [
        {
          "output_type": "stream",
          "name": "stdout",
          "text": [
            "Writing Actividad_01_lucas.py\n"
          ]
        }
      ]
    },
    {
      "cell_type": "code",
      "source": [
        "%%writefile Actividad_01_binomial.py\n",
        "#!/usr/bin/python\n",
        "from itertools import combinations\n",
        "def binomial(n,k):\n",
        "    L=[]\n",
        "    for i in range(0,n):\n",
        "        L.append(i)\n",
        "    combinaciones=list(combinations(L,k))\n",
        "    return len(combinaciones)\n",
        "\n",
        "binomial(6,4)"
      ],
      "metadata": {
        "colab": {
          "base_uri": "https://localhost:8080/"
        },
        "id": "S3FSg-fAprVs",
        "outputId": "afe08f3c-8c1b-4913-8377-a4181b89d421"
      },
      "execution_count": 20,
      "outputs": [
        {
          "output_type": "stream",
          "name": "stdout",
          "text": [
            "Writing Actividad_01_binomial.py\n"
          ]
        }
      ]
    }
  ]
}