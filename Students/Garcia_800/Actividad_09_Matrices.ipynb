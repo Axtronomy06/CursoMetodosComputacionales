{
  "cells": [
    {
      "cell_type": "markdown",
      "metadata": {
        "id": "Ovt0sW4-BcBm"
      },
      "source": [
        "<a href=\"https://colab.research.google.com/github/hernansalinas/autogrades/blob/main/Actividades_clase/Actividad_09_Matrices2.ipynb\" target=\"_parent\"><img src=\"https://colab.research.google.com/assets/colab-badge.svg\" alt=\"Open In Colab\"/></a>"
      ]
    },
    {
      "cell_type": "code",
      "execution_count": 114,
      "metadata": {
        "id": "LGEtqLJlw2eb"
      },
      "outputs": [],
      "source": [
        "import numpy as np\n",
        "import pandas as pd\n",
        "import sympy as sy\n",
        "import scipy as sp\n",
        "import matplotlib.pyplot as plt"
      ]
    },
    {
      "cell_type": "markdown",
      "metadata": {
        "id": "wtJNu-2mLSsV"
      },
      "source": [
        "# Arreglos de numpy"
      ]
    },
    {
      "cell_type": "code",
      "execution_count": 115,
      "metadata": {
        "colab": {
          "base_uri": "https://localhost:8080/"
        },
        "id": "97ecIcqMhbru",
        "outputId": "cc7f58d2-897d-4dbc-a94c-b31ee00acd91"
      },
      "outputs": [
        {
          "output_type": "execute_result",
          "data": {
            "text/plain": [
              "array([[ 4, 19,  3, 50, 47, 53],\n",
              "       [37, 51, 34, 22, 19, 22],\n",
              "       [ 0, 18, 16, 50, 14, 17],\n",
              "       [41, 45, 21, 11, 34, 46],\n",
              "       [ 2,  7, 39, 11, 53, 36],\n",
              "       [10, 40,  4, 21,  0, 41]])"
            ]
          },
          "metadata": {},
          "execution_count": 115
        }
      ],
      "source": [
        "# Generemos una arreglos ndimensaionales, ¿como podemos acceder a los elementos?\n",
        "X = np.random.randint(0, 55, (6,6))\n",
        "X"
      ]
    },
    {
      "cell_type": "code",
      "execution_count": 116,
      "metadata": {
        "colab": {
          "base_uri": "https://localhost:8080/"
        },
        "id": "UPZ4HVeSiAa_",
        "outputId": "afeb3cf9-b45c-428c-ad01-9612fbfa9845"
      },
      "outputs": [
        {
          "output_type": "execute_result",
          "data": {
            "text/plain": [
              "array([ 4, 19,  3, 50, 47, 53])"
            ]
          },
          "metadata": {},
          "execution_count": 116
        }
      ],
      "source": [
        "X[0]"
      ]
    },
    {
      "cell_type": "code",
      "execution_count": 117,
      "metadata": {
        "colab": {
          "base_uri": "https://localhost:8080/"
        },
        "id": "FfnQsOUDibOE",
        "outputId": "23dcf0d2-1070-4cf8-b834-1a17d3ef9e3c"
      },
      "outputs": [
        {
          "output_type": "execute_result",
          "data": {
            "text/plain": [
              "array([19,  3, 50])"
            ]
          },
          "metadata": {},
          "execution_count": 117
        }
      ],
      "source": [
        "X[0][1:4]"
      ]
    },
    {
      "cell_type": "code",
      "execution_count": 118,
      "metadata": {
        "colab": {
          "base_uri": "https://localhost:8080/"
        },
        "id": "vkNXHb5rizs5",
        "outputId": "156d757c-4375-4520-f54c-4f9c4a6b1527"
      },
      "outputs": [
        {
          "output_type": "execute_result",
          "data": {
            "text/plain": [
              "array([19, 50])"
            ]
          },
          "metadata": {},
          "execution_count": 118
        }
      ],
      "source": [
        "X[0, 1:4:2]"
      ]
    },
    {
      "cell_type": "code",
      "execution_count": 119,
      "metadata": {
        "colab": {
          "base_uri": "https://localhost:8080/"
        },
        "id": "KMe75hMwletS",
        "outputId": "2e15ba9a-9155-4ab2-ef1b-eb3a2b841ff5"
      },
      "outputs": [
        {
          "output_type": "execute_result",
          "data": {
            "text/plain": [
              "array([[ 0, 16, 14],\n",
              "       [ 2, 39, 53]])"
            ]
          },
          "metadata": {},
          "execution_count": 119
        }
      ],
      "source": [
        "X[2::2,::2 ]"
      ]
    },
    {
      "cell_type": "code",
      "execution_count": 120,
      "metadata": {
        "id": "hC_QTDyyM0T3"
      },
      "outputs": [],
      "source": [
        "# Permutaciones:"
      ]
    },
    {
      "cell_type": "code",
      "execution_count": 121,
      "metadata": {
        "colab": {
          "base_uri": "https://localhost:8080/"
        },
        "id": "JYhVm8_TM2Tf",
        "outputId": "25204377-7dd3-45bb-8010-7af05e44a804"
      },
      "outputs": [
        {
          "output_type": "execute_result",
          "data": {
            "text/plain": [
              "array([[ 4, 19,  3, 50, 47, 53],\n",
              "       [37, 51, 34, 22, 19, 22],\n",
              "       [ 0, 18, 16, 50, 14, 17],\n",
              "       [41, 45, 21, 11, 34, 46],\n",
              "       [ 2,  7, 39, 11, 53, 36],\n",
              "       [10, 40,  4, 21,  0, 41]])"
            ]
          },
          "metadata": {},
          "execution_count": 121
        }
      ],
      "source": [
        "X"
      ]
    },
    {
      "cell_type": "code",
      "execution_count": 122,
      "metadata": {
        "id": "m-oTG0W7M4Ku"
      },
      "outputs": [],
      "source": [
        "X[[2,1]] =X[[1,2]]"
      ]
    },
    {
      "cell_type": "code",
      "execution_count": 123,
      "metadata": {
        "colab": {
          "base_uri": "https://localhost:8080/"
        },
        "id": "cc_qEzAeNdmX",
        "outputId": "42f5cb46-e4d2-4682-f431-68e714a29e8c"
      },
      "outputs": [
        {
          "output_type": "execute_result",
          "data": {
            "text/plain": [
              "array([[ 4, 19,  3, 50, 47, 53],\n",
              "       [ 0, 18, 16, 50, 14, 17],\n",
              "       [37, 51, 34, 22, 19, 22],\n",
              "       [41, 45, 21, 11, 34, 46],\n",
              "       [ 2,  7, 39, 11, 53, 36],\n",
              "       [10, 40,  4, 21,  0, 41]])"
            ]
          },
          "metadata": {},
          "execution_count": 123
        }
      ],
      "source": [
        "X"
      ]
    },
    {
      "cell_type": "code",
      "execution_count": 124,
      "metadata": {
        "id": "tpPPxUiULgge"
      },
      "outputs": [],
      "source": [
        "# Operaciones matriciales"
      ]
    },
    {
      "cell_type": "code",
      "execution_count": 125,
      "metadata": {
        "colab": {
          "base_uri": "https://localhost:8080/"
        },
        "id": "U8snX3DpLXtp",
        "outputId": "67f31a75-58df-44d7-a873-29f5cd992780"
      },
      "outputs": [
        {
          "output_type": "execute_result",
          "data": {
            "text/plain": [
              "array([[-2. ,  1. ],\n",
              "       [ 1.5, -0.5]])"
            ]
          },
          "metadata": {},
          "execution_count": 125
        }
      ],
      "source": [
        "X=np.array([[1,2],[3,4]])\n",
        "B=np.array([[5,2],[1,4]])\n",
        "np.linalg.inv(X)"
      ]
    },
    {
      "cell_type": "code",
      "execution_count": 126,
      "metadata": {
        "colab": {
          "base_uri": "https://localhost:8080/"
        },
        "id": "XwCim3VlLfKU",
        "outputId": "3092d4e6-9659-424e-820d-6e908bec83c6"
      },
      "outputs": [
        {
          "output_type": "execute_result",
          "data": {
            "text/plain": [
              "-2.0000000000000004"
            ]
          },
          "metadata": {},
          "execution_count": 126
        }
      ],
      "source": [
        "np.linalg.det(X)"
      ]
    },
    {
      "cell_type": "code",
      "execution_count": 127,
      "metadata": {
        "colab": {
          "base_uri": "https://localhost:8080/"
        },
        "id": "JyXfDy4TL46a",
        "outputId": "4bf76265-651c-4d7c-bbc7-cb4bb572faff"
      },
      "outputs": [
        {
          "output_type": "execute_result",
          "data": {
            "text/plain": [
              "(-13+0j)"
            ]
          },
          "metadata": {},
          "execution_count": 127
        }
      ],
      "source": [
        "np.dot([2j, 3j], [2j, 3j])"
      ]
    },
    {
      "cell_type": "code",
      "execution_count": 128,
      "metadata": {
        "colab": {
          "base_uri": "https://localhost:8080/"
        },
        "id": "WPC3XJLjMTvU",
        "outputId": "d21bf7ad-51bb-4143-fd1c-b1a1889a89e3"
      },
      "outputs": [
        {
          "output_type": "execute_result",
          "data": {
            "text/plain": [
              "array([[ 5,  4],\n",
              "       [ 3, 16]])"
            ]
          },
          "metadata": {},
          "execution_count": 128
        }
      ],
      "source": [
        "X*B #multipllicacion componente a componente"
      ]
    },
    {
      "cell_type": "code",
      "execution_count": 129,
      "metadata": {
        "colab": {
          "base_uri": "https://localhost:8080/"
        },
        "id": "SXr0_TeBMf2m",
        "outputId": "fe93b73a-a041-4bbe-9b94-3b43c64b7e94"
      },
      "outputs": [
        {
          "output_type": "execute_result",
          "data": {
            "text/plain": [
              "array([[ 7, 10],\n",
              "       [19, 22]])"
            ]
          },
          "metadata": {},
          "execution_count": 129
        }
      ],
      "source": [
        "X@B #multiplicacion de matrices"
      ]
    },
    {
      "cell_type": "code",
      "execution_count": 130,
      "metadata": {
        "id": "Ht4V1OxIMg40"
      },
      "outputs": [],
      "source": [
        "#np.matmul(  M[[i,j]] =X[[j,i]]X,B)"
      ]
    },
    {
      "cell_type": "markdown",
      "metadata": {
        "id": "wOgkVu4yL-mp"
      },
      "source": [
        "# Algunos ejemplo\n",
        "\n",
        "```python\n",
        "import numpy as np\n",
        "\n",
        "# Producto de matrices\n",
        "A = np.array([[1, 2], [3, 4]])\n",
        "B = np.array([[5, 6], [7, 8]])\n",
        "producto = np.dot(A, B)\n",
        "\n",
        "# Determinante de una matriz\n",
        "C = np.array([[9, 2], [3, 4]])\n",
        "determinante = np.linalg.det(C)\n",
        "\n",
        "# Inversa de una matriz\n",
        "D = np.array([[2, 5], [1, 3]])\n",
        "inversa = np.linalg.inv(D)\n",
        "\n",
        "# Autovalores y autovectores\n",
        "E = np.array([[2, 0], [0, 3]])\n",
        "autovalores, autovectores = np.linalg.eig(E)\n",
        "\n",
        "# Resolución de sistemas de ecuaciones lineales\n",
        "F = np.array([[1, 1], [1, -1]])\n",
        "b = np.array([5, 1])\n",
        "solucion = np.linalg.solve(F, b)\n",
        "\n",
        "\n",
        "# Norma de un vector o matriz\n",
        "H = np.array([1, 2, 3])\n",
        "norma = np.linalg.norm(H)\n",
        "\n",
        "# Rango de una matriz\n",
        "I = np.array([[1, 2], [2, 4]])\n",
        "rango = np.linalg.matrix_rank(I)\n",
        "\n",
        "# Potencia de una matriz\n",
        "J = np.array([[1, 2], [3, 4]])\n",
        "potencia = np.linalg.matrix_power(J, 3)\n",
        "\n",
        "# Descomposición SVD\n",
        "G = np.array([[1, 2], [3, 4]])\n",
        "U, S, V = np.linalg.svd(G)\n",
        "\n",
        "\n",
        "```\n"
      ]
    },
    {
      "cell_type": "markdown",
      "metadata": {
        "id": "iV1bdIUxLOwM"
      },
      "source": [
        "# Matrices de numpy"
      ]
    },
    {
      "cell_type": "code",
      "execution_count": 131,
      "metadata": {
        "colab": {
          "base_uri": "https://localhost:8080/"
        },
        "id": "ZoTW7RE1mDjk",
        "outputId": "13becc59-d6b9-4278-e291-6ef0b811a4e0"
      },
      "outputs": [
        {
          "output_type": "execute_result",
          "data": {
            "text/plain": [
              "numpy.matrix"
            ]
          },
          "metadata": {},
          "execution_count": 131
        }
      ],
      "source": [
        "M = np.matrix(X)\n",
        "type(M)"
      ]
    },
    {
      "cell_type": "code",
      "source": [
        "M"
      ],
      "metadata": {
        "colab": {
          "base_uri": "https://localhost:8080/"
        },
        "id": "luKK1lKn1bEJ",
        "outputId": "233effd1-de9a-4fd9-8d32-6e6d191e8e08"
      },
      "execution_count": 132,
      "outputs": [
        {
          "output_type": "execute_result",
          "data": {
            "text/plain": [
              "matrix([[1, 2],\n",
              "        [3, 4]])"
            ]
          },
          "metadata": {},
          "execution_count": 132
        }
      ]
    },
    {
      "cell_type": "code",
      "execution_count": 133,
      "metadata": {
        "colab": {
          "base_uri": "https://localhost:8080/"
        },
        "id": "smYYFQDnmSHx",
        "outputId": "f105fc37-df6d-4fb8-90b9-8c6e9de5811a"
      },
      "outputs": [
        {
          "output_type": "execute_result",
          "data": {
            "text/plain": [
              "matrix([[ 7, 10],\n",
              "        [15, 22]])"
            ]
          },
          "metadata": {},
          "execution_count": 133
        }
      ],
      "source": [
        "M@M"
      ]
    },
    {
      "cell_type": "code",
      "execution_count": 134,
      "metadata": {
        "colab": {
          "base_uri": "https://localhost:8080/"
        },
        "id": "v0j1xF0Xnu3A",
        "outputId": "4f86d2de-dd9e-4903-9924-1eca3408228c"
      },
      "outputs": [
        {
          "output_type": "execute_result",
          "data": {
            "text/plain": [
              "matrix([[1, 3],\n",
              "        [2, 4]])"
            ]
          },
          "metadata": {},
          "execution_count": 134
        }
      ],
      "source": [
        "M.T"
      ]
    },
    {
      "cell_type": "code",
      "execution_count": 135,
      "metadata": {
        "colab": {
          "base_uri": "https://localhost:8080/"
        },
        "id": "jsRxH4R9mJFs",
        "outputId": "603340e8-2341-4394-bc5b-8456e69e937e"
      },
      "outputs": [
        {
          "output_type": "execute_result",
          "data": {
            "text/plain": [
              "numpy.ndarray"
            ]
          },
          "metadata": {},
          "execution_count": 135
        }
      ],
      "source": [
        "type(X)"
      ]
    },
    {
      "cell_type": "code",
      "execution_count": 136,
      "metadata": {
        "colab": {
          "base_uri": "https://localhost:8080/"
        },
        "id": "I6yi4tSzmXkx",
        "outputId": "d111422f-7695-45ea-f9a2-c754f0c79ed2"
      },
      "outputs": [
        {
          "output_type": "execute_result",
          "data": {
            "text/plain": [
              "array([[1, 3],\n",
              "       [2, 4]])"
            ]
          },
          "metadata": {},
          "execution_count": 136
        }
      ],
      "source": [
        "np.transpose(X)"
      ]
    },
    {
      "cell_type": "code",
      "execution_count": 137,
      "metadata": {
        "id": "XQviMu9KmhP5"
      },
      "outputs": [],
      "source": [
        "x = sy.symbols(\"x\")"
      ]
    },
    {
      "cell_type": "code",
      "execution_count": 138,
      "metadata": {
        "colab": {
          "base_uri": "https://localhost:8080/",
          "height": 58
        },
        "id": "6NQ5_urmm8P5",
        "outputId": "76626fd5-e81d-423f-f813-a3f570df48d7"
      },
      "outputs": [
        {
          "output_type": "execute_result",
          "data": {
            "text/plain": [
              "Matrix([\n",
              "[x**2, sin(x)],\n",
              "[   x,      x]])"
            ],
            "text/latex": "$\\displaystyle \\left[\\begin{matrix}x^{2} & \\sin{\\left(x \\right)}\\\\x & x\\end{matrix}\\right]$"
          },
          "metadata": {},
          "execution_count": 138
        }
      ],
      "source": [
        "Y = np.array([[x**2,sy.sin(x)],[x,x]])\n",
        "q = sy.Matrix(Y)\n",
        "q"
      ]
    },
    {
      "cell_type": "code",
      "execution_count": 139,
      "metadata": {
        "colab": {
          "base_uri": "https://localhost:8080/",
          "height": 58
        },
        "id": "1H5elz7jnEKY",
        "outputId": "15e0c49d-44a5-4560-cad7-2215e3d1dcc5"
      },
      "outputs": [
        {
          "output_type": "execute_result",
          "data": {
            "text/plain": [
              "Matrix([\n",
              "[x**4 + x*sin(x), x**2*sin(x) + x*sin(x)],\n",
              "[    x**3 + x**2,        x**2 + x*sin(x)]])"
            ],
            "text/latex": "$\\displaystyle \\left[\\begin{matrix}x^{4} + x \\sin{\\left(x \\right)} & x^{2} \\sin{\\left(x \\right)} + x \\sin{\\left(x \\right)}\\\\x^{3} + x^{2} & x^{2} + x \\sin{\\left(x \\right)}\\end{matrix}\\right]$"
          },
          "metadata": {},
          "execution_count": 139
        }
      ],
      "source": [
        "q@q"
      ]
    },
    {
      "cell_type": "code",
      "execution_count": 140,
      "metadata": {
        "id": "owwyiJ0yN3oN",
        "colab": {
          "base_uri": "https://localhost:8080/",
          "height": 69
        },
        "outputId": "e7296289-23bc-495f-9131-da9944783bcf"
      },
      "outputs": [
        {
          "output_type": "execute_result",
          "data": {
            "text/plain": [
              "Matrix([\n",
              "[   1/(x**2 - sin(x)), -sin(x)/(x**3 - x*sin(x))],\n",
              "[-x/(x**3 - x*sin(x)),    x**2/(x**3 - x*sin(x))]])"
            ],
            "text/latex": "$\\displaystyle \\left[\\begin{matrix}\\frac{1}{x^{2} - \\sin{\\left(x \\right)}} & - \\frac{\\sin{\\left(x \\right)}}{x^{3} - x \\sin{\\left(x \\right)}}\\\\- \\frac{x}{x^{3} - x \\sin{\\left(x \\right)}} & \\frac{x^{2}}{x^{3} - x \\sin{\\left(x \\right)}}\\end{matrix}\\right]$"
          },
          "metadata": {},
          "execution_count": 140
        }
      ],
      "source": [
        "q.inv()"
      ]
    },
    {
      "cell_type": "markdown",
      "metadata": {
        "id": "k9jPDzNSjgnZ"
      },
      "source": [
        "# Actividad:\n",
        "\n",
        "1. Construir un programa que permita multiplicar dos matrices\n",
        "\n",
        "2. Cosntruir un programa que permita construir una regresion lineal simple empleando lo que sigue:\n",
        "\n",
        "3. Construir un programa que permita calcular una regresion bidimensional y hacer su representación .\n",
        "\n",
        "4. Construir un programa que permita realizar eliminacion de Gauss- Jordan de una matriz.\n",
        "\n",
        "Operaciones matricial con regresión lineal.\n",
        "\n",
        "Cuando se desea hacer una regresion lineal multivariada, existen diferentes formas de realizar la regresión, una de ellas es encontrar el error cuadrático medio y miniminzar el conjunto de parámetros de la regresión emplando algún metodo de minimización, otra forma es encontrar la expresión analítica en forma matricial para enoncontrar el conjunto de parametros de la regresión. En este último caso, la regresion lineal viene dada por la siguiente expresion generalizada:\n",
        "\n",
        "\n",
        "- $\\Theta = (X^T X)^{-1} X^T y$\n",
        "\n",
        "donte $\\Theta$ es la matriz de parametros asociados a la regresión lineal, X la matriz de características y y los valos esperados, así, si tenemos una conjunto de datos en N dimensiones la recta, plano o hyperplano puede ser calculado como:\n",
        "\n",
        "$Y=\\Theta^T X$\n",
        "\n",
        "\n",
        "En el caso de dos dimensiones, tenemos lo siguiente, Supongamos que X, y Y presentan un comportamiento lineal, y vienen dados por:\n",
        "\n",
        "\n",
        "- Sea $\\vec{X}=x^1, x^2, x^3, x^4, ..., x^m$\n",
        "- Sea $\\vec{Y}=y^1, y^2, y^3, y^4, ..., y^m$\n",
        "\n",
        "Para determinar la ecuacion de la recta, hay que conocer los párametros $\\theta_0 $, $\\theta_1$, que cumplen que :   $y^{i} = \\theta_1 x^{i} + \\theta_0$ la anterior expresion puede ser escrita como:\n",
        "\n",
        "\\begin{equation}\n",
        "\\begin{bmatrix}\n",
        "y^{1}\\\\\n",
        "y^{2}\\\\\n",
        "\\vdots\\\\\n",
        "y^{m}\\\\\n",
        "\\end{bmatrix}=\n",
        "\\begin{bmatrix}\n",
        "\\theta_0 & \\theta_1 \\\\\n",
        "\\end{bmatrix}\n",
        "\\begin{bmatrix}\n",
        "1 & 1 & \\cdots & 1 \\\\\n",
        "x_1^{1} & x_1^{2} & \\cdots & x_1^{m} \\\\\n",
        "\\end{bmatrix}\n",
        "\\end{equation}\n",
        "\n",
        "\n",
        "Para determinar la matriz de theta entonces se puede aplicar la ecuación:\n",
        "\n",
        "- $\\Theta = (X^T X)^{-1} X^T y$\n",
        "\n",
        "donde:\n",
        "\\begin{equation}\n",
        "X=\n",
        "\\begin{bmatrix}\n",
        "1 & x_1^{1} \\\\\n",
        "1 & x_1^{2} \\\\\n",
        "\\vdots & \\vdots \\\\\n",
        "1 & x_1^{m}\n",
        "\\end{bmatrix}\n",
        "\\end{equation}\n",
        "\n",
        "y\n",
        "\n",
        "\n",
        "\\begin{equation}\n",
        "y=\n",
        "\\begin{bmatrix}\n",
        "y^1 \\\\\n",
        "y^2 \\\\\n",
        "\\vdots\\\\\n",
        "y^m\n",
        "\\end{bmatrix}\n",
        "\\end{equation}\n",
        "\n",
        "Su tarea será construir un programa que realice la regresión lineal para los siguientes puntos:\n",
        "```python\n",
        "N = 10\n",
        "x1 = np.linspace(0, 10, N)\n",
        "noise=2*np.random.random(N)-1\n",
        "y = 0.9*x1 + noise\n",
        "```\n",
        "\n",
        "\n",
        "\n",
        "Generalice para el siguiente problema bidimensional:\n",
        "\n",
        "\n",
        "```python\n",
        "N = 10\n",
        "x1 = np.linspace(-1, 1, N)\n",
        "x2 = np.linspace(-2, 2, N)\n",
        "noise1=2*np.random.random(N)-1\n",
        "noise2=2*np.random.random(N)-1\n",
        "y = 2*(x1+noise1) - 3*(x2+noise2) + 0.0 #+ 4*np.random.random(100)\n",
        "\n",
        "N = 10\n",
        "X1, X2 = np.meshgrid(x1,x2)\n",
        "Y = 2*X1 - 3*X2 + 0.0\n",
        "fig, ax = plt.subplots(subplot_kw={\"projection\": \"3d\"})\n",
        "surf = ax.plot_surface(X1, X2, Y)\n",
        "#scatter = ax.scatter(x1, x2, y,\"-\")\n",
        "```\n",
        "\n",
        "\n",
        "\n"
      ]
    },
    {
      "cell_type": "markdown",
      "source": [
        "# Solución"
      ],
      "metadata": {
        "id": "_UPQCBz3ob8L"
      }
    },
    {
      "cell_type": "markdown",
      "source": [
        "1. Construir un programa que permita multiplicar dos matrices"
      ],
      "metadata": {
        "id": "o4t3VKIf2QKf"
      }
    },
    {
      "cell_type": "code",
      "source": [
        "A = np.random.randint(1,10,(3,4))\n",
        "B = np.random.randint(1,10,(4,3))\n",
        "A,B"
      ],
      "metadata": {
        "colab": {
          "base_uri": "https://localhost:8080/"
        },
        "id": "XfE3fN7EGQNt",
        "outputId": "90af6e62-1793-4f9d-e18c-20748ea65e57"
      },
      "execution_count": 141,
      "outputs": [
        {
          "output_type": "execute_result",
          "data": {
            "text/plain": [
              "(array([[3, 4, 1, 7],\n",
              "        [6, 2, 1, 2],\n",
              "        [2, 4, 9, 5]]),\n",
              " array([[2, 3, 9],\n",
              "        [4, 6, 4],\n",
              "        [3, 5, 8],\n",
              "        [2, 6, 4]]))"
            ]
          },
          "metadata": {},
          "execution_count": 141
        }
      ]
    },
    {
      "cell_type": "code",
      "source": [
        "def producto_matrices(A,B):\n",
        "  dim1=np.shape(A)\n",
        "  dim2=np.shape(B)\n",
        "  producto=np.zeros((dim1[0], dim2[1]))\n",
        "\n",
        "  if dim1[1]==dim2[0]:\n",
        "   for i in range(0,dim1[0]):\n",
        "    for j in range(0, dim2[1]):\n",
        "      producto[i,j]=np.sum(A[i]*B[:,j])\n",
        "   return producto\n",
        "\n",
        "  else:\n",
        "    return print('El producto de matrices no se puede relizar por sus dimensiones')"
      ],
      "metadata": {
        "id": "3vCNV2TU2XsB"
      },
      "execution_count": 142,
      "outputs": []
    },
    {
      "cell_type": "code",
      "source": [
        "producto_matrices(A,B)"
      ],
      "metadata": {
        "colab": {
          "base_uri": "https://localhost:8080/"
        },
        "id": "jqAakWD_NT8D",
        "outputId": "004ce01f-2bea-491d-dbb0-2c5a9fbfb1ce"
      },
      "execution_count": 143,
      "outputs": [
        {
          "output_type": "execute_result",
          "data": {
            "text/plain": [
              "array([[ 39.,  80.,  79.],\n",
              "       [ 27.,  47.,  78.],\n",
              "       [ 57., 105., 126.]])"
            ]
          },
          "metadata": {},
          "execution_count": 143
        }
      ]
    },
    {
      "cell_type": "code",
      "source": [
        "A@B #Verificacion"
      ],
      "metadata": {
        "colab": {
          "base_uri": "https://localhost:8080/"
        },
        "id": "uIGt2XQZOmbE",
        "outputId": "014ddb8f-e24c-4b1f-b420-d20eb38cbe80"
      },
      "execution_count": 144,
      "outputs": [
        {
          "output_type": "execute_result",
          "data": {
            "text/plain": [
              "array([[ 39,  80,  79],\n",
              "       [ 27,  47,  78],\n",
              "       [ 57, 105, 126]])"
            ]
          },
          "metadata": {},
          "execution_count": 144
        }
      ]
    },
    {
      "cell_type": "markdown",
      "source": [
        "2. Cosntruir un programa que permita construir una regresion lineal simple empleando lo que sigue:"
      ],
      "metadata": {
        "id": "9voJCjqSO2Js"
      }
    },
    {
      "cell_type": "code",
      "source": [
        "N = 10\n",
        "x1 = np.linspace(0, 10, N)\n",
        "noise=2*np.random.random(N)-1\n",
        "y = 0.9*x1 + noise"
      ],
      "metadata": {
        "id": "nO7vCipwO0ga"
      },
      "execution_count": 145,
      "outputs": []
    },
    {
      "cell_type": "code",
      "source": [
        "X=np.zeros((N,2))\n",
        "X[:,0]=1\n",
        "X[:,1]=x1\n",
        "X=np.matrix(X)\n",
        "sy.Matrix(X)"
      ],
      "metadata": {
        "colab": {
          "base_uri": "https://localhost:8080/",
          "height": 220
        },
        "id": "YX1CSKwiU-sn",
        "outputId": "ef54bbdf-a40e-45fe-c18b-ccb105c32076"
      },
      "execution_count": 146,
      "outputs": [
        {
          "output_type": "execute_result",
          "data": {
            "text/plain": [
              "Matrix([\n",
              "[1.0,                0],\n",
              "[1.0, 1.11111111111111],\n",
              "[1.0, 2.22222222222222],\n",
              "[1.0, 3.33333333333333],\n",
              "[1.0, 4.44444444444444],\n",
              "[1.0, 5.55555555555556],\n",
              "[1.0, 6.66666666666667],\n",
              "[1.0, 7.77777777777778],\n",
              "[1.0, 8.88888888888889],\n",
              "[1.0,             10.0]])"
            ],
            "text/latex": "$\\displaystyle \\left[\\begin{matrix}1.0 & 0\\\\1.0 & 1.11111111111111\\\\1.0 & 2.22222222222222\\\\1.0 & 3.33333333333333\\\\1.0 & 4.44444444444444\\\\1.0 & 5.55555555555556\\\\1.0 & 6.66666666666667\\\\1.0 & 7.77777777777778\\\\1.0 & 8.88888888888889\\\\1.0 & 10.0\\end{matrix}\\right]$"
          },
          "metadata": {},
          "execution_count": 146
        }
      ]
    },
    {
      "cell_type": "code",
      "source": [
        "sy.Matrix(y)"
      ],
      "metadata": {
        "colab": {
          "base_uri": "https://localhost:8080/",
          "height": 220
        },
        "id": "Oc9ZF9jFT3pV",
        "outputId": "5ffea969-20e6-4daf-d4b8-696ea2eebba7"
      },
      "execution_count": 147,
      "outputs": [
        {
          "output_type": "execute_result",
          "data": {
            "text/plain": [
              "Matrix([\n",
              "[0.990006128053476],\n",
              "[ 1.06107264337342],\n",
              "[ 2.87440829103911],\n",
              "[ 3.50043114907927],\n",
              "[ 3.70360283888508],\n",
              "[ 5.43680364527349],\n",
              "[ 5.11541666847519],\n",
              "[ 6.15444745478857],\n",
              "[ 7.52128708069706],\n",
              "[ 8.79659432870204]])"
            ],
            "text/latex": "$\\displaystyle \\left[\\begin{matrix}0.990006128053476\\\\1.06107264337342\\\\2.87440829103911\\\\3.50043114907927\\\\3.70360283888508\\\\5.43680364527349\\\\5.11541666847519\\\\6.15444745478857\\\\7.52128708069706\\\\8.79659432870204\\end{matrix}\\right]$"
          },
          "metadata": {},
          "execution_count": 147
        }
      ]
    },
    {
      "cell_type": "markdown",
      "source": [
        "$\\Theta = (X^T X)^{-1} X^T y$\n",
        "\n",
        "\n",
        "$Y=\\Theta X^T $"
      ],
      "metadata": {
        "id": "1JOLYJVVZfas"
      }
    },
    {
      "cell_type": "code",
      "source": [
        "T=(X.T @ X)\n",
        "TI=np.linalg.inv(T)\n",
        "theta=TI @ X.T @ y\n",
        "Y= theta @ X.T"
      ],
      "metadata": {
        "id": "JlAFPMr6pKsj"
      },
      "execution_count": 148,
      "outputs": []
    },
    {
      "cell_type": "code",
      "source": [
        "plt.scatter(x1,y,label='Datos')\n",
        "plt.plot(x1,Y.T, 'm', label='Regresión lineal')\n",
        "plt.xlabel('x')\n",
        "plt.ylabel('y')\n",
        "plt.grid()\n",
        "plt.legend()"
      ],
      "metadata": {
        "colab": {
          "base_uri": "https://localhost:8080/",
          "height": 467
        },
        "id": "zAOxsyBMrhBd",
        "outputId": "ce1d54f7-a6c5-4125-ff5f-62f300d14d56"
      },
      "execution_count": 149,
      "outputs": [
        {
          "output_type": "execute_result",
          "data": {
            "text/plain": [
              "<matplotlib.legend.Legend at 0x7ee36da61a50>"
            ]
          },
          "metadata": {},
          "execution_count": 149
        },
        {
          "output_type": "display_data",
          "data": {
            "text/plain": [
              "<Figure size 640x480 with 1 Axes>"
            ],
            "image/png": "[encoded data removed]"
          },
          "metadata": {}
        }
      ]
    },
    {
      "cell_type": "markdown",
      "source": [
        "3. Construir un programa que permita calcular una regresion bidimensional y hacer su representación .\n"
      ],
      "metadata": {
        "id": "lbUr_OGmTI7F"
      }
    },
    {
      "cell_type": "code",
      "source": [
        "N = 20\n",
        "x1 = np.linspace(-1, 1, N)\n",
        "x2 = np.linspace(-2, 2, N)\n",
        "noise1=2*np.random.random(N)-1\n",
        "noise2=2*np.random.random(N)-1\n",
        "y = 2*(x1+noise1) - 3*(x2+noise2) + 0.0 #+ 4*np.random.random(100)\n",
        "\n",
        "X1, X2 = np.meshgrid(x1,x2)\n",
        "Y = 2*X1 - 3*X2 + 0.0\n",
        "\n",
        "fig, ax = plt.subplots(subplot_kw={\"projection\": \"3d\"})\n",
        "surf = ax.plot_surface(X1,X2,Y)\n",
        "scatter = ax.scatter(x1, x2, y,\"-\")"
      ],
      "metadata": {
        "colab": {
          "base_uri": "https://localhost:8080/",
          "height": 415
        },
        "id": "mvRmO0yrtc_M",
        "outputId": "7fa33732-a23b-458d-fc69-2d99e5c9e577"
      },
      "execution_count": 150,
      "outputs": [
        {
          "output_type": "display_data",
          "data": {
            "text/plain": [
              "<Figure size 640x480 with 1 Axes>"
            ],
            "image/png": "[encoded data removed]"
          },
          "metadata": {}
        }
      ]
    },
    {
      "cell_type": "code",
      "source": [
        "XB=np.zeros((len(x1),3))\n",
        "XB[:,0]=1\n",
        "XB[:,1]=x1\n",
        "XB[:,2]=x2\n",
        "XB=np.matrix(XB)\n",
        "sy.Matrix(XB)"
      ],
      "metadata": {
        "colab": {
          "base_uri": "https://localhost:8080/",
          "height": 424
        },
        "id": "H4uhkjG4upjM",
        "outputId": "05a869f7-683c-4385-fda8-482566e9abe6"
      },
      "execution_count": 151,
      "outputs": [
        {
          "output_type": "execute_result",
          "data": {
            "text/plain": [
              "Matrix([\n",
              "[1.0,                -1.0,               -2.0],\n",
              "[1.0,  -0.894736842105263,  -1.78947368421053],\n",
              "[1.0,  -0.789473684210526,  -1.57894736842105],\n",
              "[1.0,  -0.684210526315789,  -1.36842105263158],\n",
              "[1.0,  -0.578947368421053,  -1.15789473684211],\n",
              "[1.0,  -0.473684210526316, -0.947368421052632],\n",
              "[1.0,  -0.368421052631579, -0.736842105263158],\n",
              "[1.0,  -0.263157894736842, -0.526315789473684],\n",
              "[1.0,  -0.157894736842105, -0.315789473684211],\n",
              "[1.0, -0.0526315789473685, -0.105263157894737],\n",
              "[1.0,  0.0526315789473684,  0.105263157894737],\n",
              "[1.0,   0.157894736842105,  0.315789473684211],\n",
              "[1.0,   0.263157894736842,  0.526315789473684],\n",
              "[1.0,   0.368421052631579,  0.736842105263158],\n",
              "[1.0,   0.473684210526316,  0.947368421052631],\n",
              "[1.0,   0.578947368421053,   1.15789473684211],\n",
              "[1.0,   0.684210526315789,   1.36842105263158],\n",
              "[1.0,   0.789473684210526,   1.57894736842105],\n",
              "[1.0,   0.894736842105263,   1.78947368421053],\n",
              "[1.0,                 1.0,                2.0]])"
            ],
            "text/latex": "$\\displaystyle \\left[\\begin{matrix}1.0 & -1.0 & -2.0\\\\1.0 & -0.894736842105263 & -1.78947368421053\\\\1.0 & -0.789473684210526 & -1.57894736842105\\\\1.0 & -0.684210526315789 & -1.36842105263158\\\\1.0 & -0.578947368421053 & -1.15789473684211\\\\1.0 & -0.473684210526316 & -0.947368421052632\\\\1.0 & -0.368421052631579 & -0.736842105263158\\\\1.0 & -0.263157894736842 & -0.526315789473684\\\\1.0 & -0.157894736842105 & -0.315789473684211\\\\1.0 & -0.0526315789473685 & -0.105263157894737\\\\1.0 & 0.0526315789473684 & 0.105263157894737\\\\1.0 & 0.157894736842105 & 0.315789473684211\\\\1.0 & 0.263157894736842 & 0.526315789473684\\\\1.0 & 0.368421052631579 & 0.736842105263158\\\\1.0 & 0.473684210526316 & 0.947368421052631\\\\1.0 & 0.578947368421053 & 1.15789473684211\\\\1.0 & 0.684210526315789 & 1.36842105263158\\\\1.0 & 0.789473684210526 & 1.57894736842105\\\\1.0 & 0.894736842105263 & 1.78947368421053\\\\1.0 & 1.0 & 2.0\\end{matrix}\\right]$"
          },
          "metadata": {},
          "execution_count": 151
        }
      ]
    },
    {
      "cell_type": "code",
      "source": [
        "thetaB = (np.linalg.inv(XB.T @ XB)) @ XB.T @ y\n",
        "YB = thetaB @ XB.T"
      ],
      "metadata": {
        "id": "XwhP7sdW0bdj"
      },
      "execution_count": 152,
      "outputs": []
    },
    {
      "cell_type": "code",
      "source": [
        "fig, ax = plt.subplots(subplot_kw={\"projection\": \"3d\"})\n",
        "surf = ax.plot_surface(X1,X2,YB, color='cyan', alpha=0.7, label='Superficie de regresion lineal' )\n",
        "scatter = ax.scatter(x1, x2, y,color='red')"
      ],
      "metadata": {
        "colab": {
          "base_uri": "https://localhost:8080/",
          "height": 415
        },
        "id": "1QrU_UlM0657",
        "outputId": "6531574f-a693-4d37-cb51-3a3bf49da634"
      },
      "execution_count": 153,
      "outputs": [
        {
          "output_type": "display_data",
          "data": {
            "text/plain": [
              "<Figure size 640x480 with 1 Axes>"
            ],
            "image/png": "[encoded data removed]"
          },
          "metadata": {}
        }
      ]
    },
    {
      "cell_type": "markdown",
      "source": [
        "4. Construir un programa que permita realizar eliminacion de Gauss- Jordan de una matriz."
      ],
      "metadata": {
        "id": "PhfVYJ2DvfjT"
      }
    },
    {
      "cell_type": "code",
      "source": [
        "#Operaciones basicas\n",
        "def intercambio(i, j, M):\n",
        "    B = M.copy()\n",
        "    B[[j, i]] = B[[i, j]]\n",
        "    return B\n",
        "\n",
        "def mul_lambda(i, λ, M):\n",
        "    B = M.copy()\n",
        "    B[i] = λ * B[i]\n",
        "    return B\n",
        "\n",
        "def mul_fila_fila(i, j, λ, M):\n",
        "    B = M.copy()\n",
        "    B[j] = B[i] * λ - B[j]\n",
        "    return B\n",
        "\n",
        "def gauss_jordan(M):\n",
        "    C=M.copy()\n",
        "    filas, columnas=np.shape(C)\n",
        "    #Unos en la diagonal\n",
        "    for i in range(filas):\n",
        "      if C[i, i] != 1:\n",
        "        C=mul_lambda(i, 1 / C[i,i],C)\n",
        "\n",
        "      #Ceros en las columnas, menos en la diagonal\n",
        "      for j in range(filas):\n",
        "        if i!=j:\n",
        "          C = mul_fila_fila(i, j, C[j, i], C)\n",
        "    return C"
      ],
      "metadata": {
        "id": "Bc0n372M7JXv"
      },
      "execution_count": 154,
      "outputs": []
    },
    {
      "cell_type": "code",
      "source": [
        "M=np.random.randint(1,10,(3,3))\n",
        "M"
      ],
      "metadata": {
        "colab": {
          "base_uri": "https://localhost:8080/"
        },
        "id": "N2bEapm12LEM",
        "outputId": "dabfda6f-a809-47a3-b965-cd0e61c5539e"
      },
      "execution_count": 155,
      "outputs": [
        {
          "output_type": "execute_result",
          "data": {
            "text/plain": [
              "array([[5, 9, 4],\n",
              "       [5, 7, 5],\n",
              "       [9, 5, 8]])"
            ]
          },
          "metadata": {},
          "execution_count": 155
        }
      ]
    },
    {
      "cell_type": "code",
      "source": [
        "gauss_jordan(M)"
      ],
      "metadata": {
        "colab": {
          "base_uri": "https://localhost:8080/"
        },
        "id": "GlskNWar3T1S",
        "outputId": "82d8ca6f-34a7-4232-df15-1c58d02a8ea5"
      },
      "execution_count": 156,
      "outputs": [
        {
          "output_type": "execute_result",
          "data": {
            "text/plain": [
              "array([[ 1,  0,  0],\n",
              "       [ 0, -1,  0],\n",
              "       [ 0,  0,  1]])"
            ]
          },
          "metadata": {},
          "execution_count": 156
        }
      ]
    },
    {
      "cell_type": "code",
      "source": [
        "B=np.random.randint(1,20,(4,5))\n",
        "B"
      ],
      "metadata": {
        "colab": {
          "base_uri": "https://localhost:8080/"
        },
        "id": "8OQxaIkk8VFN",
        "outputId": "34ad057f-f46a-4f3b-f84c-b46175ee438f"
      },
      "execution_count": 157,
      "outputs": [
        {
          "output_type": "execute_result",
          "data": {
            "text/plain": [
              "array([[12,  5,  7,  8,  2],\n",
              "       [ 1,  9,  6,  7, 15],\n",
              "       [10,  1, 11,  7, 14],\n",
              "       [14, 13, 14,  3, 10]])"
            ]
          },
          "metadata": {},
          "execution_count": 157
        }
      ]
    },
    {
      "cell_type": "code",
      "source": [
        "gauss_jordan(B)"
      ],
      "metadata": {
        "colab": {
          "base_uri": "https://localhost:8080/"
        },
        "id": "-En6nMsf-888",
        "outputId": "7ecad889-5110-4f78-d486-bc413632b1f5"
      },
      "execution_count": 158,
      "outputs": [
        {
          "output_type": "execute_result",
          "data": {
            "text/plain": [
              "array([[-1,  0,  0,  0,  0],\n",
              "       [ 0,  1,  0,  0,  1],\n",
              "       [ 0,  0, -1,  0, -1],\n",
              "       [ 0,  0,  0,  1, -5]])"
            ]
          },
          "metadata": {},
          "execution_count": 158
        }
      ]
    }
  ],
  "metadata": {
    "colab": {
      "provenance": []
    },
    "kernelspec": {
      "display_name": "Python 3",
      "name": "python3"
    },
    "language_info": {
      "name": "python"
    }
  },
  "nbformat": 4,
  "nbformat_minor": 0
}