{
  "nbformat": 4,
  "nbformat_minor": 0,
  "metadata": {
    "colab": {
      "provenance": []
    },
    "kernelspec": {
      "name": "python3",
      "display_name": "Python 3"
    },
    "language_info": {
      "name": "python"
    }
  },
  "cells": [
    {
      "cell_type": "code",
      "source": [
        "import numpy as np\n",
        "import torch as pt\n",
        "import sympy as sp"
      ],
      "metadata": {
        "id": "iJsmScMdtgYe"
      },
      "execution_count": 1,
      "outputs": []
    },
    {
      "cell_type": "markdown",
      "source": [
        "# Autovalores, autovectores, diagonalización\n",
        "\n",
        "Una matriz es diagonalizable cuando es semejante a una matriz diagonal. Esto significa que mediante un cambio de base, podemos reducir la matriz original a una forma diagonal. Para que una matriz sea diagonalizable, debe cumplir las siguientes condiciones:\n",
        "\n",
        "**Autovectores linealmente independientes**: Una matriz $(A \\in \\mathbb{R}^{n \\times n})$ es diagonalizable si y solo si tiene (n) autovectores linealmente independientes. Esto significa que los autovectores asociados a los autovalores deben ser linealmente independientes.\n",
        "\n",
        "**Semejanza**: Existe una matriz invertible (P) tal que ($P^{-1}AP = D$), donde (D) es una matriz diagonal formada por los autovalores de (A).\n",
        "\n",
        "La diagonalización es un proceso que transforma una matriz cuadrada ( A ) en una matriz diagonal ( D ) mediante una matriz invertible ( P ), tal que:\n",
        "\n",
        "$P^{-1}AP = D$\n",
        "\n",
        "La matriz diagonal ( D ) contiene los autovalores de ( A ) en la diagonal principal, y las columnas de ( P ) son los autovectores correspondientes a esos autovalores."
      ],
      "metadata": {
        "id": "F2BmxAU22k-G"
      }
    },
    {
      "cell_type": "markdown",
      "source": [
        "## Actividad:\n",
        "\n",
        "Construir un programa que permita elevar una matriz a una potencia.\n",
        "\n",
        "\n",
        "La exponencial de una matriz ( $e^A$) se define como la serie de Taylor de la función exponencial evaluada en la matriz ( A ):\n",
        "\n",
        "\n",
        "\\begin{equation}\n",
        "e^A = I + A + \\frac{1}{2!}A^2 + \\frac{1}{3!}A^3 + \\cdots = \\sum_{n=0}^{\\infty} \\frac{1}{n!}A^n\n",
        "\\end{equation}\n",
        "\n",
        "\n",
        "Donde ( $e^D$ ) es simplemente la matriz exponencial de la matriz diagonal ( D ), que es fácil de calcular porque solo implica elevar los autovalores de (A) a la potencia de (e):\n",
        "\n",
        "\n",
        "\n",
        "\\begin{equation}\n",
        "e^A = Pe^DP^{-1}\n",
        "\\end{equation}\n",
        "\n",
        "\n",
        "Exponencial de una matriz diagonal\n",
        "\n",
        "\\begin{equation}\n",
        "e^D = \\begin{bmatrix}\n",
        "e^{\\lambda_1} & 0 & \\cdots & 0 \\\\\n",
        "0 & e^{\\lambda_2} & \\cdots & 0 \\\\\n",
        "\\vdots & \\vdots & \\ddots & \\vdots \\\\\n",
        "0 & 0 & \\cdots & e^{\\lambda_n}\n",
        "\\end{bmatrix}\n",
        "\\end{equation}\n",
        "\n",
        "\n"
      ],
      "metadata": {
        "id": "N-oGaJUS4p10"
      }
    },
    {
      "cell_type": "code",
      "source": [
        "from enum import auto\n",
        "def power_of_matrix_diagonalization(A, n):\n",
        "    # Diagonalizar la matriz\n",
        "    autovalores, autovectores = np.linalg.eig(A)\n",
        "    D = np.diag(autovalores)\n",
        "    P = autovectores\n",
        "\n",
        "    # Elevar la matriz diagonal a la potencia n\n",
        "    D_n = np.diag(np.power(autovalores, n))\n",
        "\n",
        "    # Obtener la matriz resultante en la base original\n",
        "    result = np.dot(np.dot(P, D_n), np.linalg.inv(P))\n",
        "\n",
        "    return result\n",
        "\n",
        "# Ejemplo de uso\n",
        "A = np.array([[1, 2], [3, 4]])  # Matriz de ejemplo\n",
        "n = 3  # Potencia a la que queremos elevar la matriz\n",
        "\n",
        "result = power_of_matrix_diagonalization(A, n)\n",
        "print(\"Matriz A elevada a la potencia\", n, \"es:\")\n",
        "print(result)\n"
      ],
      "metadata": {
        "colab": {
          "base_uri": "https://localhost:8080/"
        },
        "id": "8GAkG-Ou3GhX",
        "outputId": "3872888f-c521-4be5-c487-15442d548cb7"
      },
      "execution_count": 2,
      "outputs": [
        {
          "output_type": "stream",
          "name": "stdout",
          "text": [
            "Matriz A elevada a la potencia 3 es:\n",
            "[[ 37.  54.]\n",
            " [ 81. 118.]]\n"
          ]
        }
      ]
    },
    {
      "cell_type": "code",
      "source": [
        "def exp_of_matrix_diagonalization(A):\n",
        "    # Diagonalizar la matriz\n",
        "    autovalores, autovectores = np.linalg.eig(A)\n",
        "    D = np.diag(np.exp(autovalores))\n",
        "    P = autovectores\n",
        "\n",
        "    # Obtener la matriz resultante en la base original\n",
        "    result = np.dot(np.dot(P, D), np.linalg.inv(P))\n",
        "\n",
        "    return result\n",
        "\n",
        "# Ejemplo de uso\n",
        "A = np.array([[1, 2], [3, 4]])  # Matriz de ejemplo\n",
        "\n",
        "result = exp_of_matrix_diagonalization(A)\n",
        "print(\"e^A es:\")\n",
        "print(result)\n"
      ],
      "metadata": {
        "colab": {
          "base_uri": "https://localhost:8080/"
        },
        "id": "YoF5CUpv35Cp",
        "outputId": "55a44072-aeb8-45ab-c2d6-268100131550"
      },
      "execution_count": 3,
      "outputs": [
        {
          "output_type": "stream",
          "name": "stdout",
          "text": [
            "e^A es:\n",
            "[[ 51.9689562   74.73656457]\n",
            " [112.10484685 164.07380305]]\n"
          ]
        }
      ]
    },
    {
      "cell_type": "markdown",
      "source": [
        "# Pytorch\n",
        "\n",
        "Definción de una matrix de tres formas:\n",
        "Hasta ahora sabemos definir matrices como objetos de numpy y objetos de sympy, en la actualidad, el rápido crecimiento de las unidades de procesamiento gráfico GPU,  permite definir otro tipo de objetos que pueden acelerar el computo computacional.\n",
        "\n",
        "\n",
        "- Como objeto de numpy\n",
        "- Como objeto de sympy\n",
        "- Como objeto de pytorch\n",
        "\n",
        "\n",
        "La velocidad de ejecución entre PyTorch y Numpy puede variar dependiendo del tamaño de los datos y si se está utilizando o no la aceleración por GPU. Para operaciones con matrices pequeñas y cálculos que no requieren de la paralelización de una GPU, Numpy puede ser más rápido porque opera directamente en la CPU y la memoria principal. Sin embargo, para matrices grandes y operaciones que pueden ser paralelizadas, PyTorch con soporte de GPU puede ser significativamente más rápido.\n",
        "\n",
        "Comparativa de comandos de ejecución entre pytorch, numpy  y sympy\n",
        "\n",
        "\n",
        "| Operación | PyTorch | Numpy | SymPy |\n",
        "|-----------|---------|-------|-------|\n",
        "| Creación de una matriz | `torch.tensor([[1, 2], [3, 4]])` | `np.array([[1, 2], [3, 4]])` | `Matrix([[1, 2], [3, 4]])` |\n",
        "| Transposición de una matriz | `torch.transpose(A, 0, 1)` | `A.T` o `np.transpose(A)` | `A.T` |\n",
        "| Multiplicación de matrices | `torch.matmul(A, B)` | `np.dot(A, B)` o `A @ B` | `A * B` |\n",
        "| Inversa de una matriz | `torch.inverse(A)` | `np.linalg.inv(A)` | `A**-1` |\n",
        "| Determinante de una matriz | `torch.det(A)` | `np.linalg.det(A)` | `A.det()` |\n",
        "| Autovalores y autovectores | `torch.eig(A, eigenvectors=True)` | `np.linalg.eig(A)` | `A.eigenvals()`, `A.eigenvects()` |\n",
        "\n"
      ],
      "metadata": {
        "id": "kZWZu8BRwG2h"
      }
    },
    {
      "cell_type": "markdown",
      "source": [
        "Ejemplo básico del comparativo de un problema de algebra lineal, rotación de un vector:"
      ],
      "metadata": {
        "id": "0IZOos3VztQS"
      }
    },
    {
      "cell_type": "code",
      "execution_count": 4,
      "metadata": {
        "id": "Ve2Qic9ttIkE"
      },
      "outputs": [],
      "source": [
        "\n",
        "def matrixA(theta, tipo=\"numpy\"):\n",
        "  if(tipo==\"np\"):\n",
        "    return np.array([[np.cos(theta),-np.sin(theta)],[np.sin(theta), np.cos(theta)]])\n",
        "  elif(tipo==\"sp\"):\n",
        "    return np.array([[sp.cos(theta),-sp.sin(theta)],[sp.sin(theta), sp.cos(theta)]])\n",
        "\n",
        "  elif(tipo==\"pt\"):\n",
        "    return pt.tensor([[np.cos(theta),-np.sin(theta)],[np.sin(theta), np.cos(theta)]])\n",
        "\n",
        "  else:\n",
        "\n",
        "    print(\"Define el tipo de variable que desea\")\n"
      ]
    },
    {
      "cell_type": "code",
      "source": [
        "x = sp.Symbol(\"x\")\n",
        "M = sp.Matrix(matrixA(np.pi/4, tipo=\"sp\"))\n",
        "M"
      ],
      "metadata": {
        "colab": {
          "base_uri": "https://localhost:8080/",
          "height": 58
        },
        "id": "6pvCFzl7uDm3",
        "outputId": "dd8a9d17-8511-4ec7-d45f-92bcbe3f8765"
      },
      "execution_count": 5,
      "outputs": [
        {
          "output_type": "execute_result",
          "data": {
            "text/plain": [
              "Matrix([\n",
              "[0.707106781186548, -0.707106781186547],\n",
              "[0.707106781186547,  0.707106781186548]])"
            ],
            "text/latex": "$\\displaystyle \\left[\\begin{matrix}0.707106781186548 & -0.707106781186547\\\\0.707106781186547 & 0.707106781186548\\end{matrix}\\right]$"
          },
          "metadata": {},
          "execution_count": 5
        }
      ]
    },
    {
      "cell_type": "code",
      "source": [
        "x=np.pi/4\n",
        "M = matrixA(x, tipo=\"np\")\n",
        "M"
      ],
      "metadata": {
        "colab": {
          "base_uri": "https://localhost:8080/"
        },
        "id": "brk8Daew2EmP",
        "outputId": "2a0608d6-cdb6-4aef-93ad-ec7cb2d6adda"
      },
      "execution_count": 6,
      "outputs": [
        {
          "output_type": "execute_result",
          "data": {
            "text/plain": [
              "array([[ 0.70710678, -0.70710678],\n",
              "       [ 0.70710678,  0.70710678]])"
            ]
          },
          "metadata": {},
          "execution_count": 6
        }
      ]
    },
    {
      "cell_type": "code",
      "source": [
        "matrixA(x, tipo=\"pt\")\n",
        "M"
      ],
      "metadata": {
        "colab": {
          "base_uri": "https://localhost:8080/"
        },
        "id": "Z-6fzFXrvbgL",
        "outputId": "ba802ed4-f400-422f-ecec-a944c165cb85"
      },
      "execution_count": 7,
      "outputs": [
        {
          "output_type": "execute_result",
          "data": {
            "text/plain": [
              "array([[ 0.70710678, -0.70710678],\n",
              "       [ 0.70710678,  0.70710678]])"
            ]
          },
          "metadata": {},
          "execution_count": 7
        }
      ]
    },
    {
      "cell_type": "markdown",
      "source": [
        "Actividad: Resolver el problema de la potencia de una matriz empleando pytorch, construir."
      ],
      "metadata": {
        "id": "b-IQVSe3CAp6"
      }
    },
    {
      "cell_type": "code",
      "source": [
        "import torch\n",
        "\n",
        "def power_of_matrix_pytorch(A, n):\n",
        "    A_tensor = torch.tensor(A, dtype=torch.float32)\n",
        "    result = torch.eye(A.shape[0])  # Matriz identidad del mismo tamaño que A\n",
        "\n",
        "    for _ in range(n):\n",
        "        result = torch.matmul(result, A_tensor)  # Multiplicar la matriz resultado por A\n",
        "\n",
        "    return result.numpy()\n",
        "\n",
        "# Ejemplo de uso\n",
        "A = torch.tensor([[1, 2], [3, 4]])  # Matriz de ejemplo\n",
        "n = 3  # Potencia a la que queremos elevar la matriz\n",
        "\n",
        "result = power_of_matrix_pytorch(A, n)\n",
        "print(\"Matriz A elevada a la potencia\", n, \"es:\")\n",
        "print(result)\n"
      ],
      "metadata": {
        "id": "jiAATXj8CFsk",
        "colab": {
          "base_uri": "https://localhost:8080/"
        },
        "outputId": "5670231e-f46c-482b-dcaf-0be40bb990a4"
      },
      "execution_count": 8,
      "outputs": [
        {
          "output_type": "stream",
          "name": "stdout",
          "text": [
            "Matriz A elevada a la potencia 3 es:\n",
            "[[ 37.  54.]\n",
            " [ 81. 118.]]\n"
          ]
        },
        {
          "output_type": "stream",
          "name": "stderr",
          "text": [
            "<ipython-input-8-e4f452d13fee>:4: UserWarning: To copy construct from a tensor, it is recommended to use sourceTensor.clone().detach() or sourceTensor.clone().detach().requires_grad_(True), rather than torch.tensor(sourceTensor).\n",
            "  A_tensor = torch.tensor(A, dtype=torch.float32)\n"
          ]
        }
      ]
    }
  ]
}