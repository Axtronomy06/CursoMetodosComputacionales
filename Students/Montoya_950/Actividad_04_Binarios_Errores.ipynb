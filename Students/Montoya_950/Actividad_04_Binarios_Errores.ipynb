{
  "cells": [
    {
      "cell_type": "markdown",
      "id": "6d26e874",
      "metadata": {
        "id": "6d26e874"
      },
      "source": [
        "<a href=\"https://colab.research.google.com/github/hernansalinas/autogrades/blob/main/Actividades_clase/Actividad_04_Binarios_Errores.ipynb\" target=\"_parent\"><img src=\"https://colab.research.google.com/assets/colab-badge.svg\" alt=\"Open In Colab\"/></a>\n",
        "\n",
        "\n",
        "\n",
        "# Actividad 4\n",
        "### Métodos computacionales para físicos  y astrónomos\n",
        "### Universidad de Antioquia\n",
        "### Prof: Hernan D. Salinas Jiménez\n"
      ]
    },
    {
      "cell_type": "code",
      "execution_count": 6,
      "id": "eae80e3f",
      "metadata": {
        "id": "eae80e3f",
        "outputId": "b9170981-f597-4e2c-de85-9ad13f19d723",
        "colab": {
          "base_uri": "https://localhost:8080/"
        }
      },
      "outputs": [
        {
          "output_type": "stream",
          "name": "stdout",
          "text": [
            "fatal: destination path 'autogrades' already exists and is not an empty directory.\n"
          ]
        }
      ],
      "source": [
        "!git clone https://github.com/hernansalinas/autogrades.git\n",
        "#path=\"libs\"\n",
        "path=\"autogrades/Actividades_clase/libs\"\n",
        "%run -i {path}/libUnitTest.py"
      ]
    },
    {
      "cell_type": "markdown",
      "id": "74f1131a",
      "metadata": {
        "id": "74f1131a"
      },
      "source": [
        "### Activity 1.0:\n",
        "\n",
        "Implement a function that get the binary representation of an integer with name mybin, the algorithm should return\n",
        "a string with 8 characters, the maximun number that represent the funcition is integer of 8 bit. The name of function is\n",
        "mybin\n",
        "\n",
        "Ejexample :\n",
        "\n",
        "b=mybin(x)\n",
        "\n",
        "b='00101000'"
      ]
    },
    {
      "cell_type": "code",
      "source": [
        "def mybin(x):\n",
        "  l = []\n",
        "  c = x//2\n",
        "  r = x%2\n",
        "  while c>1:\n",
        "    c = x//2\n",
        "    r = x%2\n",
        "    x=c\n",
        "    l.append(r)\n",
        "  l.append(1)\n",
        "  m = l[::-1]\n",
        "  b=\"\"\n",
        "  for a in m:\n",
        "    b=b+str(a)\n",
        "    b\n",
        "  return b\n",
        "mybin(10.1)"
      ],
      "metadata": {
        "id": "M3NU70Jtt5Lc",
        "colab": {
          "base_uri": "https://localhost:8080/",
          "height": 35
        },
        "outputId": "333f777b-2d47-48a2-bbc3-98a4defc6851"
      },
      "id": "M3NU70Jtt5Lc",
      "execution_count": 7,
      "outputs": [
        {
          "output_type": "execute_result",
          "data": {
            "text/plain": [
              "'10.01.00.09999999999999964'"
            ],
            "application/vnd.google.colaboratory.intrinsic+json": {
              "type": "string"
            }
          },
          "metadata": {},
          "execution_count": 7
        }
      ]
    },
    {
      "cell_type": "code",
      "execution_count": 8,
      "id": "885be6fb",
      "metadata": {
        "id": "885be6fb",
        "outputId": "772be1cb-e6d8-45f5-9d13-2ba66f2edd07",
        "colab": {
          "base_uri": "https://localhost:8080/",
          "height": 215
        }
      },
      "outputs": [
        {
          "output_type": "display_data",
          "data": {
            "text/plain": [
              "<IPython.core.display.HTML object>"
            ],
            "text/html": [
              "<style>\n",
              "  table { text-align: left; border-collapse: collapse; margin: 1em; caption-side: bottom; font-family: Sans-Serif; font-size: 12px}\n",
              "  caption { text-align: left; padding: 5px }\n",
              "  th, td { border: 2px solid #BFC9CA; padding: 5px }\n",
              "  th { background-color: #BFC9CA }\n",
              "  .passed { background-color: #76D7C4 }\n",
              "  .failed { background-color: #EC7063 }\n",
              "  .skipped { background-color: #EDBB99 }\n",
              "  .score { background-color: #7DCEA0 }\n",
              "  .results .points { display: none }\n",
              "  .results .message { display: block; font-size:smaller; color:#D35400 }\n",
              "  .results .note { display: block; font-size:smaller; font-decoration:italics }\n",
              "  .results .passed::before  { content: \"Passed\" } \n",
              "  .results .skipped::before  { content: \"Skipped\" } \n",
              "  .results .failed::before  { content: \"Failed\" } \n",
              "  .grade .passed  .message:empty::before { content:\"Passed\" }\n",
              "  .grade .failed  .message:empty::before { content:\"Failed\" }\n",
              "  .grade .skipped .message:empty::before { content:\"Skipped\" }   \n",
              "</style>\n",
              "<table class='results'>\n",
              "  <th class='test'>Test</th><th class='result'>Result</th></tr>\n",
              "<tr>\n",
              "  <td class='test'>\n",
              "    La salida debe ser un string \n",
              "    <div class='message'>Done</div>\n",
              "  </td>\n",
              "  <td class='result passed'></td>\n",
              "</tr>\n",
              "<tr>\n",
              "  <td class='test'>\n",
              "    La longitud del string debe ser de 8 \n",
              "    <div class='message'>Done</div>\n",
              "  </td>\n",
              "  <td class='result passed'></td>\n",
              "</tr>\n",
              "<tr>\n",
              "  <td class='test'>\n",
              "    Para el número 175 su representacion es 10101111 \n",
              "    <div class='message'>Done</div>\n",
              "  </td>\n",
              "  <td class='result passed'></td>\n",
              "</tr>  <tr><th class='score'>Total Points</th><th class='score'>3</th></tr></table>\n"
            ]
          },
          "metadata": {}
        }
      ],
      "source": [
        "%run -i {path}/Act_02/test01.py"
      ]
    },
    {
      "cell_type": "markdown",
      "id": "e622b7b5",
      "metadata": {
        "id": "e622b7b5"
      },
      "source": [
        "### Activity 2.0:\n",
        "\n",
        "With the binary representation please try to implement the formula to recover the number.\n",
        "\n",
        "Hint: Use as input the binary representation as a string and invert its order\n",
        "\n",
        "```\n",
        "number32(BIN):\n",
        "\n",
        "```\n",
        "\n",
        "Where BIN is a string with the binary number\n",
        "\n",
        "Example:\n",
        "\n",
        "\n",
        "Test your solution for the next number:\n",
        "\n",
        "number32(\"00111110001000000000001000010000\")"
      ]
    },
    {
      "cell_type": "code",
      "source": [
        "def e(exponente1):\n",
        "  s=0\n",
        "  for i in range(0,8):\n",
        "    a = (int(exponente1[i])*(2**i))\n",
        "    s = s + a\n",
        "  e = s\n",
        "  return e"
      ],
      "metadata": {
        "id": "nCqpozPz8xVf"
      },
      "id": "nCqpozPz8xVf",
      "execution_count": 9,
      "outputs": []
    },
    {
      "cell_type": "code",
      "execution_count": 48,
      "id": "5f3c6506",
      "metadata": {
        "id": "5f3c6506",
        "colab": {
          "base_uri": "https://localhost:8080/"
        },
        "outputId": "53e2439a-5b0a-4c69-86a9-1559978d61cc"
      },
      "outputs": [
        {
          "output_type": "execute_result",
          "data": {
            "text/plain": [
              "0.15625"
            ]
          },
          "metadata": {},
          "execution_count": 48
        }
      ],
      "source": [
        "def number32(BIN):\n",
        "  if len(BIN)!=32:\n",
        "    return \"Error: el numero debe ser de 32 bits\"\n",
        "  b1 = BIN\n",
        "  b = b1[::-1]\n",
        "  signo = b[31]\n",
        "  exponente1 = b[23:31]\n",
        "  exponente = exponente1[::-1]\n",
        "  fraccion = b[0:23]\n",
        "  s = int(signo)\n",
        "  m = ((-1)**s)/2**(127-e(exponente1))\n",
        "  n=0\n",
        "  for i in range(0,22):\n",
        "    n1 = int(b[i])/2**(23-i)\n",
        "    n = n + n1\n",
        "  o = 1 + n\n",
        "  r = m*o\n",
        "  return r\n",
        "number32(\"00111110001000000000000000000000\")"
      ]
    },
    {
      "cell_type": "code",
      "execution_count": 11,
      "id": "155ffd7f",
      "metadata": {
        "id": "155ffd7f",
        "outputId": "06ecce06-8a2e-4a49-bbdb-c204c9534bfd",
        "colab": {
          "base_uri": "https://localhost:8080/"
        }
      },
      "outputs": [
        {
          "output_type": "stream",
          "name": "stdout",
          "text": [
            "La función no ha sido definda o el numero de argumento no es el adecuado\n"
          ]
        }
      ],
      "source": [
        "%run -i {path}/Act_02/test02.py"
      ]
    },
    {
      "cell_type": "markdown",
      "id": "d11e596d",
      "metadata": {
        "id": "d11e596d"
      },
      "source": [
        "### Activity 3.0:\n",
        "1. Write a python script that calculates the double precision number represented by a 64-bits binary.\n",
        "\n",
        "the name of function should be:\n",
        "```\n",
        "number64(BIN):\n",
        "\n",
        "```\n",
        "\n",
        "2. What is the number represented by:\n",
        "\n",
        "BIN=\"0 10000000011 1011100100001111111111111111111111111111111111111111\""
      ]
    },
    {
      "cell_type": "code",
      "source": [
        "def e1(exponente1):\n",
        "  s = 0\n",
        "  for i in range(0,11):\n",
        "    a = (int(exponente1[i])*(2**i))\n",
        "    s = s + a\n",
        "  e1 = s\n",
        "  return e1"
      ],
      "metadata": {
        "id": "qMIMX8pmDQqi"
      },
      "id": "qMIMX8pmDQqi",
      "execution_count": 12,
      "outputs": []
    },
    {
      "cell_type": "code",
      "execution_count": 49,
      "id": "b0922a1d",
      "metadata": {
        "id": "b0922a1d",
        "colab": {
          "base_uri": "https://localhost:8080/"
        },
        "outputId": "40a72547-d0d2-4c79-8c8b-8b84ae4a9830"
      },
      "outputs": [
        {
          "output_type": "execute_result",
          "data": {
            "text/plain": [
              "27.566406249999993"
            ]
          },
          "metadata": {},
          "execution_count": 49
        }
      ],
      "source": [
        "def number64(BIN):\n",
        "  if len(BIN)!=64:\n",
        "    return \"Error: el numero debe ser de 64 bits\"\n",
        "  b1 = BIN\n",
        "  b = b1[::-1]\n",
        "  signo = b[63]\n",
        "  exponente1 = b[52:63]\n",
        "  exponente = exponente1[::-1]\n",
        "  fraccion = b[0:52]\n",
        "  s = int(signo)\n",
        "  m = 2**(e1(exponente1)-1023)\n",
        "  n = 0\n",
        "  for i in range(1,52):\n",
        "    a = int(b[52-i])*2**(-i)\n",
        "    n = n + a\n",
        "  o = 1 + n\n",
        "  r = ((-1)**s)*o*m\n",
        "  return r\n",
        "number64(\"0100000000111011100100001111111111111111111111111111111111111111\")"
      ]
    },
    {
      "cell_type": "code",
      "execution_count": 15,
      "id": "cd48a992",
      "metadata": {
        "scrolled": false,
        "id": "cd48a992"
      },
      "outputs": [],
      "source": [
        "# %run -i {path}/Act_02/test03.py"
      ]
    }
  ],
  "metadata": {
    "kernelspec": {
      "display_name": "Python 3 (ipykernel)",
      "language": "python",
      "name": "python3"
    },
    "language_info": {
      "codemirror_mode": {
        "name": "ipython",
        "version": 3
      },
      "file_extension": ".py",
      "mimetype": "text/x-python",
      "name": "python",
      "nbconvert_exporter": "python",
      "pygments_lexer": "ipython3",
      "version": "3.10.9"
    },
    "colab": {
      "provenance": []
    }
  },
  "nbformat": 4,
  "nbformat_minor": 5
}