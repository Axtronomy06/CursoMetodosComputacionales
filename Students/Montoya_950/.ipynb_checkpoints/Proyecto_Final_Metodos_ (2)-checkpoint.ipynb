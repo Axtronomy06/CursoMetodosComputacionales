{
 "cells": [
  {
   "cell_type": "markdown",
   "metadata": {
    "id": "Q9qBOrvUdlwo"
   },
   "source": [
    "<p><img alt=\"Colaboratory logo\" height=\"240px\" src=\"https://upload.wikimedia.\n",
    "org/wikipedia/commons/archive/f/fb/20161010213812%21Escudo-UdeA.svg\" align=\"left\" hspace=\"12px\" vspace=\"0px\"></p>\n",
    "\n",
    "#**Dibujo de figuras en curvas cerradas con series de Fourier**\n",
    "___________________________________________________________________\n",
    "*Nombre: Santiago Montoya, Vanessa Garcia.*\n",
    "\n",
    "*Métodos computacionales 2024-1*\n",
    "\n",
    "*Instituto de Física.*\n",
    "\n",
    "*Facultad de Ciencias Exactas y Naturales.*"
   ]
  },
  {
   "cell_type": "markdown",
   "metadata": {
    "id": "dtnrC6fXd2vs"
   },
   "source": [
    "Una figura en una curva cerrada puede considerarse como una función periódica, lo que nos permite emplear la transformada discreta de Fourier para hallar el sistema de epiciclos. Estos epiciclos no son más que círculos concatenados que crean una órbita, la cual en este caso corresponde a nuestra figura. Esto se representa como una suma de números complejos en términos de fases y amplitudes."
   ]
  },
  {
   "cell_type": "markdown",
   "metadata": {
    "id": "uMNrB_ubJFjj"
   },
   "source": [
    "\\begin{equation}\n",
    "R_1\\sin(\\omega_1x)+R_1\\sin(\\omega_1x)+...+R_1\\sin(\\omega_1x)\n",
    "\\end{equation}"
   ]
  },
  {
   "cell_type": "code",
   "execution_count": null,
   "metadata": {
    "id": "FBZPlAebd3Pk"
   },
   "outputs": [],
   "source": [
    "#Librerias\n",
    "import numpy as np\n",
    "import matplotlib.pyplot as plt\n",
    "from matplotlib.patches import Circle\n",
    "from matplotlib.animation import FuncAnimation\n",
    "from IPython.display import HTML"
   ]
  },
  {
   "cell_type": "markdown",
   "metadata": {
    "id": "2DZin1op2pBV"
   },
   "source": [
    "\\begin{equation}\n",
    "X_n = \\frac{1}{N} \\sum_{k=0}^{N-1} x_k e^{i k \\frac{2\\pi}{N} n} = \\frac{1}{N} \\sum_{k=0}^{N-1} x_k \\left[ \\cos\\left(k \\frac{2\\pi}{N} n\\right) + i \\sin\\left(k \\frac{2\\pi}{N} n\\right) \\right]\n",
    "\\end{equation}\n",
    "\n",
    "\n"
   ]
  },
  {
   "cell_type": "markdown",
   "metadata": {
    "id": "fowfCfn64IRK"
   },
   "source": [
    "\\begin{equation}\n",
    "x = \\frac{1}{N} \\sum_{k=0}^{N-1} x_k \\left[ \\cos\\left(k \\frac{2\\pi}{N} n\\right) +i  \\sin\\left(k \\frac{2\\pi}{N} n\\right) \\right]\n",
    "\\end{equation}\n",
    "\\begin{equation}\n",
    "y = \\frac{1}{N} \\sum_{k=0}^{N-1} y_k \\left[ \\cos\\left(k \\frac{2\\pi}{N} n\\right) - i \\sin\\left(k \\frac{2\\pi}{N} n\\right) \\right]\n",
    "\\end{equation}"
   ]
  },
  {
   "cell_type": "code",
   "execution_count": null,
   "metadata": {
    "id": "AZiyHFhLYQPy"
   },
   "outputs": [],
   "source": [
    "def transformada_discreta(x, y):\n",
    "    N = len(x)\n",
    "    X = np.zeros(N)\n",
    "    Y = np.zeros(N)\n",
    "    j = (N - 1) // 2  # Usar división entera\n",
    "\n",
    "    for k in range(-j, j + 1):\n",
    "        sum_x = 0\n",
    "        sum_y = 0\n",
    "        for n in range(N):\n",
    "            arg = (2 * np.pi / N) * k * n\n",
    "            sum_x += x[n] * np.cos(arg) + y[n] * np.sin(arg)\n",
    "            sum_y += y[n] * np.cos(arg) - x[n] * np.sin(arg)\n",
    "        X[k + j] = sum_x / N\n",
    "        Y[k + j] = sum_y / N\n",
    "\n",
    "    return X, Y"
   ]
  },
  {
   "cell_type": "markdown",
   "metadata": {
    "id": "Q0IcMmHYMkMr"
   },
   "source": [
    "###Ahora calculamos la longitud, la fase (ángulo) y la frecuencia:"
   ]
  },
  {
   "cell_type": "code",
   "execution_count": null,
   "metadata": {
    "id": "xfELC4-HwVFY"
   },
   "outputs": [],
   "source": [
    "def calcular_mod_pha_freq(X, Y):\n",
    "    N = len(X)\n",
    "    mod = np.sqrt(X**2 + Y**2)\n",
    "    pha = np.arctan2(Y, X)\n",
    "    freq = np.arange(-(N-1)//2, (N-1)//2 + 1)\n",
    "    return mod, pha, freq"
   ]
  },
  {
   "cell_type": "markdown",
   "metadata": {
    "id": "68xgoCLFbDrb"
   },
   "source": [
    "### Con las coordenadas en el plano de los complejos, la longitud(módulo), la fase (ángulo) y la frecuencia, ya podemos empezar a crear el sistema de epiciclos.\n",
    "\\begin{align*}\n",
    "z_{\\text{real}}(t) &= \\sum_{j=0}^{m-1} \\text{Mod}_j \\cdot \\cos\\left(\\text{Pha}_j + 2\\pi \\cdot \\text{Freq}_j \\cdot t\\right) \\\\\n",
    "z_{\\text{imag}}(t) &= \\sum_{j=0}^{m-1} \\text{Mod}_j \\cdot \\sin\\left(\\text{Pha}_j + 2\\pi \\cdot \\text{Freq}_j \\cdot t\\right) \\\\\n",
    "\\mathbf{z}(t) &= \\left( z_{\\text{real}}(t), z_{\\text{imag}}(t) \\right)\n",
    "\\end{align*}\n"
   ]
  },
  {
   "cell_type": "code",
   "execution_count": null,
   "metadata": {
    "id": "u7nQ4w9WbC4h"
   },
   "outputs": [],
   "source": [
    "def calcular_epiciclos(Mod, Pha, Freq, t0, m):\n",
    "    puntos = []\n",
    "    for t in t0:\n",
    "        z_real = 0\n",
    "        z_imag = 0\n",
    "        for j in range(m):\n",
    "            z_real += Mod[j] * np.cos(Pha[j] + 2 * np.pi * Freq[j] * t)\n",
    "            z_imag += Mod[j] * np.sin(Pha[j] + 2 * np.pi * Freq[j] * t)\n",
    "        puntos.append((z_real, z_imag))\n",
    "    return np.array(puntos)\n"
   ]
  },
  {
   "cell_type": "markdown",
   "metadata": {
    "id": "3NB60ps4fSUH"
   },
   "source": [
    "Cuadrado"
   ]
  },
  {
   "cell_type": "code",
   "execution_count": null,
   "metadata": {
    "id": "96s2eEdojgRW"
   },
   "outputs": [],
   "source": [
    "L_1= np.array([(2, 2), (2, 1), (2, -3/5), (2, -2), (1/2, -2), (-1, -2), (-2, -2), (-2, -1/2), (-2, 1), (-2, 2), (-1, 2), (1/2, 2), (3/2, 2)])\n",
    "plt.figure(figsize=(3, 3))\n",
    "plt.scatter(L_1[:, 0], L_1[:, 1], color='red')\n",
    "plt.grid(True)\n",
    "plt.show()"
   ]
  },
  {
   "cell_type": "code",
   "execution_count": null,
   "metadata": {
    "id": "nMykec8pnV5O"
   },
   "outputs": [],
   "source": [
    "\n",
    "x = L_1[:, 0]\n",
    "y = L_1[:, 1]\n",
    "N = len(x)\n",
    "t0 = np.arange(0, 2*np.pi, 0.0099)  # Tiempo\n",
    "m = N\n",
    "X, Y = transformada_discreta(x, y)\n",
    "Mod, Pha, Freq = calcular_mod_pha_freq(X, Y)\n",
    "\n",
    "# Crear la figura y el eje\n",
    "fig, ax = plt.subplots(figsize=(12, 6))\n",
    "\n",
    "ax.set_aspect('equal')\n",
    "ax.set_xlim(min(x) - 1, max(x) + 1)\n",
    "ax.set_ylim(min(y) - 1, max(y) + 1)\n",
    "plt.title('Sistema de Epiciclos Animado con Estela')\n",
    "plt.xlabel('Re(z)')\n",
    "plt.ylabel('Im(z)')\n",
    "plt.grid(True)\n",
    "\n",
    "line, = ax.plot([], [], 'r-', lw=2)\n",
    "point, = ax.plot([], [], 'bo')\n",
    "trail, = ax.plot([], [], 'b-', lw=1)  # Línea de la estela\n",
    "circles = [Circle((0, 0), 0, color='gray', fill=False, linestyle='--') for _ in range(m)]\n",
    "for circle in circles:\n",
    "    ax.add_patch(circle)\n",
    "\n",
    "trail_x, trail_y = [], []\n",
    "\n",
    "# Función de inicialización\n",
    "def init():\n",
    "    line.set_data([], [])\n",
    "    point.set_data([], [])\n",
    "    trail.set_data([], [])\n",
    "    for circle in circles:\n",
    "        circle.set_center((0, 0))\n",
    "        circle.set_radius(0)\n",
    "    return line, point, trail, *circles\n",
    "\n",
    "# Función de actualización de la animación\n",
    "def update(frame):\n",
    "    L_2 = calcular_epiciclos(Mod, Pha, Freq, [t0[frame]], m)\n",
    "    line.set_data(L_2[:, 0], L_2[:, 1])\n",
    "    point.set_data(L_2[-1, 0], L_2[-1, 1])\n",
    "\n",
    "\n",
    "    trail_x.append(L_2[-1, 0])\n",
    "    trail_y.append(L_2[-1, 1])\n",
    "    trail.set_data(trail_x, trail_y)\n",
    "\n",
    "    z_real = 0\n",
    "    z_imag = 0\n",
    "    for j in range(m):\n",
    "        z_real += Mod[j] * np.cos(Pha[j] + 2 * np.pi * Freq[j] * t0[frame])\n",
    "        z_imag += Mod[j] * np.sin(Pha[j] + 2 * np.pi * Freq[j] * t0[frame])\n",
    "        circles[j].set_center((z_real, z_imag))\n",
    "        circles[j].set_radius(Mod[j])\n",
    "\n",
    "    return line, point, trail, *circles\n",
    "\n",
    "\n",
    "ani = FuncAnimation(fig, update, frames=len(t0), init_func=init, blit=True, interval=20)\n",
    "\n",
    "# Mostrar la animación\n",
    "HTML(ani.to_jshtml())\n",
    "\n"
   ]
  },
  {
   "cell_type": "markdown",
   "metadata": {
    "id": "FYEWhItwjeMe"
   },
   "source": [
    "Corazón"
   ]
  },
  {
   "cell_type": "code",
   "execution_count": null,
   "metadata": {
    "id": "5oO6bccEl4RB"
   },
   "outputs": [],
   "source": [
    "n_puntos=49\n",
    "t=np.linspace( 0, 2*np.pi, n_puntos)\n",
    "x=16*np.sin(t)**3\n",
    "y=13*np.cos(t)-5*np.cos(2*t)-2*np.cos(3*t)-np.cos(4*t)\n",
    "L_1=np.array(list(zip(x,y)))\n",
    "plt.scatter(x,y, color='red')\n",
    "plt.grid(True)\n",
    "plt.show()"
   ]
  },
  {
   "cell_type": "code",
   "execution_count": null,
   "metadata": {
    "id": "EwiM5WHFqGOV"
   },
   "outputs": [],
   "source": [
    "n_puntos=49\n",
    "t=np.linspace( 0, 2*np.pi, n_puntos)\n",
    "x=16*np.sin(t)**3\n",
    "y=13*np.cos(t)-5*np.cos(2*t)-2*np.cos(3*t)-np.cos(4*t)\n",
    "N = len(x)\n",
    "t0 = np.arange(0, 2*np.pi, 0.0099)  # Tiempo\n",
    "m = N\n",
    "X, Y = transformada_discreta(x, y)\n",
    "Mod, Pha, Freq = calcular_mod_pha_freq(X, Y)\n",
    "\n",
    "\n",
    "fig, ax = plt.subplots(figsize=(12, 6))\n",
    "\n",
    "ax.set_aspect('equal')\n",
    "ax.set_xlim(min(x) - 1, max(x) + 1)\n",
    "ax.set_ylim(min(y) - 1, max(y) + 1)\n",
    "plt.title('Sistema de Epiciclos Animado con Estela')\n",
    "plt.xlabel('Re(z)')\n",
    "plt.ylabel('Im(z)')\n",
    "plt.grid(True)\n",
    "\n",
    "line, = ax.plot([], [], 'r-', lw=2)\n",
    "point, = ax.plot([], [], 'bo')\n",
    "trail, = ax.plot([], [], 'b-', lw=1)  # Línea de la estela\n",
    "circles = [Circle((0, 0), 0, color='gray', fill=False, linestyle='--') for _ in range(m)]\n",
    "for circle in circles:\n",
    "    ax.add_patch(circle)\n",
    "\n",
    "\n",
    "trail_x, trail_y = [], []\n",
    "\n",
    "# Función de inicialización\n",
    "def init():\n",
    "    line.set_data([], [])\n",
    "    point.set_data([], [])\n",
    "    trail.set_data([], [])\n",
    "    for circle in circles:\n",
    "        circle.set_center((0, 0))\n",
    "        circle.set_radius(0)\n",
    "    return line, point, trail, *circles\n",
    "\n",
    "# Función de actualización de la animación\n",
    "def update(frame):\n",
    "    L_2 = calcular_epiciclos(Mod, Pha, Freq, [t0[frame]], m)\n",
    "\n",
    "    line.set_data(L_2[:, 0], L_2[:, 1])\n",
    "    point.set_data(L_2[-1, 0], L_2[-1, 1])\n",
    "\n",
    "\n",
    "    trail_x.append(L_2[-1, 0])\n",
    "    trail_y.append(L_2[-1, 1])\n",
    "    trail.set_data(trail_x, trail_y)\n",
    "\n",
    "\n",
    "    z_real = 0\n",
    "    z_imag = 0\n",
    "    for j in range(m):\n",
    "        z_real += Mod[j] * np.cos(Pha[j] + 2 * np.pi * Freq[j] * t0[frame])\n",
    "        z_imag += Mod[j] * np.sin(Pha[j] + 2 * np.pi * Freq[j] * t0[frame])\n",
    "        circles[j].set_center((z_real, z_imag))\n",
    "        circles[j].set_radius(Mod[j])\n",
    "\n",
    "    return line, point, trail, *circles\n",
    "\n",
    "\n",
    "ani = FuncAnimation(fig, update, frames=len(t0), init_func=init, blit=True, interval=20)\n",
    "HTML(ani.to_jshtml())"
   ]
  },
  {
   "cell_type": "markdown",
   "metadata": {
    "id": "vWAANWHfsizB"
   },
   "source": [
    "## Bibliografía\n",
    "\n",
    "\n",
    "*   Ponce, C. (2020, May 29). La órbita de Homero Simpson: Una divertida aplicación de la Transformada Discreta de Fourier. Blogspot.com; Blogger. https://bestiariotopologico.blogspot.com/2020/05/la-orbita-de-homero-simpson-una.html\n",
    "*   Hsu, H. P. (2009). Análisis de Fourier. McGraw-Hill.\n",
    "*   DynamicMath.xyz. (n.d.). Fourier epicycles. DynamicMath.xyz de https://www.dynamicmath.xyz/fourier-epicycles/\n"
   ]
  }
 ],
 "metadata": {
  "colab": {
   "provenance": []
  },
  "kernelspec": {
   "display_name": "Python 3 (ipykernel)",
   "language": "python",
   "name": "python3"
  },
  "language_info": {
   "codemirror_mode": {
    "name": "ipython",
    "version": 3
   },
   "file_extension": ".py",
   "mimetype": "text/x-python",
   "name": "python",
   "nbconvert_exporter": "python",
   "pygments_lexer": "ipython3",
   "version": "3.10.9"
  }
 },
 "nbformat": 4,
 "nbformat_minor": 1
}
