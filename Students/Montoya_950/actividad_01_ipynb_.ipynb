{
  "nbformat": 4,
  "nbformat_minor": 0,
  "metadata": {
    "colab": {
      "provenance": []
    },
    "kernelspec": {
      "name": "python3",
      "display_name": "Python 3"
    },
    "language_info": {
      "name": "python"
    }
  },
  "cells": [
    {
      "cell_type": "markdown",
      "source": [
        "Escribir un programa que pida al usuario dos números enteros , y muestre por pantalla el cociente y el residuo entre y .\n"
      ],
      "metadata": {
        "id": "zASTbozp8Cxa"
      }
    },
    {
      "cell_type": "code",
      "source": [
        "\"\"\"\n",
        "Este programa realiza el cálculo de la división y el cociente de dos números ingresados por el usuario\n",
        "Input: a, b float\n",
        "output: Mensaje con el cociente y el residuo\n",
        "\"\"\"\n",
        "print(\"-----------------------------------------------------------------------\")\n",
        "print(\"Este programa cálcula el cociente y el residuo dados dos numeros a y b\")\n",
        "print(\"-----------------------------------------------------------------------\")\n",
        "\n",
        "a = eval(input(\"Ingrese el número a: \"))\n",
        "b = eval(input(\"Ingrese el número b: \"))\n",
        "\n",
        "x = a/b\n",
        "y = a%b\n",
        "\n",
        "print(f\"La divisón entre {a} y {b} es: {x}\")\n",
        "print(f\"El residuo entre {a} y {b} es: {y}\")\n"
      ],
      "metadata": {
        "colab": {
          "base_uri": "https://localhost:8080/"
        },
        "id": "7BSOMKPn8FAk",
        "outputId": "529c2a8c-cb3d-41b6-b000-b5247fa24f16"
      },
      "execution_count": 17,
      "outputs": [
        {
          "output_type": "stream",
          "name": "stdout",
          "text": [
            "-----------------------------------------------------------------------\n",
            "Este programa cálcula el cociente y el residuo dados dos numeros a y b\n",
            "-----------------------------------------------------------------------\n",
            "Ingrese el número a: 3\n",
            "Ingrese el número b: 5\n",
            "La divisón entre 3 y 5 es: 0.6\n",
            "El residuo entre 3 y 5 es: 3\n"
          ]
        }
      ]
    },
    {
      "cell_type": "markdown",
      "source": [
        "Crea una función llamada doble_factorial que reciba un parámetro llamado n. La función debe devolver el doble factorial de n, que se define como el producto de todos los números naturales desde n hasta 1 que tienen el mismo paridad que n. Por ejemplo, si n es 5, la función debe devolver 15, que es el resultado de 5 x 3 x 1. Llama a la función doble_factorial con diferentes valores para el parámetro n, como 6, 7 o 8."
      ],
      "metadata": {
        "id": "fy6jTX0b8Kcb"
      }
    },
    {
      "cell_type": "code",
      "source": [
        "\"\"\"\n",
        "Este programa realiza el doble factorial de un numero ingresado por el usuario\n",
        "Input: n - int\n",
        "output: Mensaje con el doble factorial de n\n",
        "\"\"\"\n",
        "print(\"-----------------------------------------------------------------------\")\n",
        "print(\"Este programa cálcula el doble factorial de un numero n\")\n",
        "print(\"-----------------------------------------------------------------------\")\n",
        "def doble_factorial(n):\n",
        "    s = n\n",
        "    while(n>2):\n",
        "        n=n-2\n",
        "        s=s*n\n",
        "    return s\n",
        "n = int(input(\"Ingrese un numero n: \"))\n",
        "result = doble_factorial(n)\n",
        "print(f\"El doble factorial de {n} es: {result}\")"
      ],
      "metadata": {
        "colab": {
          "base_uri": "https://localhost:8080/"
        },
        "id": "ufKoOzt48T1r",
        "outputId": "c79c7054-2c6b-4f61-dcb1-f0e85a6564dc"
      },
      "execution_count": 18,
      "outputs": [
        {
          "output_type": "stream",
          "name": "stdout",
          "text": [
            "-----------------------------------------------------------------------\n",
            "Este programa cálcula el doble factorial de un numero n\n",
            "-----------------------------------------------------------------------\n",
            "Ingrese un numero n: 3\n",
            "El doble factorial de 3 es: 3\n"
          ]
        }
      ]
    },
    {
      "cell_type": "markdown",
      "source": [
        "Crea una función llamada lucas que reciba un parámetro llamado n. La función debe devolver el n-ésimo término de la sucesión de Lucas, que se define de forma similar a la sucesión de Fibonacci, pero con los dos primeros términos iguales a 2 y 1. Por ejemplo, si n es 3, la función debe devolver 4, que es el tercer término de la sucesión. Llama a la función lucas con diferentes valores para el parámetro n, como 9, 10 o 11."
      ],
      "metadata": {
        "id": "In3OwgY38a5a"
      }
    },
    {
      "cell_type": "code",
      "source": [
        "def sucesion_lucas(n):\n",
        "    if n==0:\n",
        "        return 2\n",
        "    elif(n==1):\n",
        "        return 1\n",
        "    elif(n>=2):\n",
        "        s_0 = 2\n",
        "        s_1 = 1\n",
        "        s_2 = 3\n",
        "        for i in range(2,n+1):\n",
        "            s_2= s_0+s_1\n",
        "            s_0=s_1\n",
        "            s_1=s_2\n",
        "        return s_2\n",
        "print(sucesion_lucas(10))\n",
        "n = int(input(\"Ingrese un numero n: \"))\n",
        "result = sucesion_lucas(n)\n",
        "print(f\"El termino {n} de la sucesión de Lucas empezando desde el 0 es: {result}\")"
      ],
      "metadata": {
        "colab": {
          "base_uri": "https://localhost:8080/"
        },
        "id": "1HgYkWso8dzs",
        "outputId": "24f6ec63-3322-49b1-d54e-fe01dd232436"
      },
      "execution_count": 22,
      "outputs": [
        {
          "output_type": "stream",
          "name": "stdout",
          "text": [
            "123\n",
            "Ingrese un numero n: 0\n",
            "El termino 0 de la sucesión de Lucas empezando desde el 0 es: 2\n"
          ]
        }
      ]
    },
    {
      "cell_type": "markdown",
      "source": [
        "Crea una función llamada binomial que reciba dos parámetros llamados n y k. La función debe devolver el coeficiente binomial de n y k, que se define como el número de formas de elegir k elementos distintos de un conjunto de n elementos. Por ejemplo, si n es 5 y k es 3, la función debe devolver 10, ya que hay diez formas de elegir tres elementos distintos de un conjunto de cinco elementos. Llama a la función binomial con diferentes valores para los parámetros n y k, como 6 y 4, o 7 y 2.\n"
      ],
      "metadata": {
        "id": "vkMq_vVkqqb5"
      }
    },
    {
      "cell_type": "code",
      "source": [
        "\"\"\"\n",
        "Este programa realiza el coeficiente binomial entre n y k\n",
        "Input: n, k int\n",
        "output: Mensaje con el coeficiente binomial\n",
        "\"\"\"\n",
        "print(\"-----------------------------------------------------------------------\")\n",
        "print(\"Este programa cálcula el coeficiente binomial\")\n",
        "print(\"-----------------------------------------------------------------------\")\n",
        "\n",
        "from itertools import combinations\n",
        "n = eval(input(\"Ingrese el numero de elementos que tiene el conjunto, n: \"))\n",
        "k = eval(input(\"Ingrese en numero de formas de elegir elementos distintos del conjunto, k: \"))\n",
        "def binomial(n,k):\n",
        "  if n<0 or k<0:\n",
        "    return print(\"Error: n y k deben ser positivos\")\n",
        "  elif type(n)==float or type(k)==float:\n",
        "    return print(\"Error: n y k no pueden ser flotantes\")\n",
        "  elif k>n:\n",
        "    return print(\"Error: k no puede ser mayor que n\")\n",
        "  else:\n",
        "    lista = []\n",
        "    for i in range(0,n):\n",
        "      lista.append(i)\n",
        "      comb = list(combinations(lista,k))\n",
        "      return len(comb)\n",
        "print(f\"El coeficiente binomial de {n} y {k} es {binomial(n,k)}\")"
      ],
      "metadata": {
        "id": "FHCX2ZKUqseO",
        "colab": {
          "base_uri": "https://localhost:8080/"
        },
        "outputId": "9b0e5d3c-cf2c-4802-9157-c33729d97f53"
      },
      "execution_count": 16,
      "outputs": [
        {
          "output_type": "stream",
          "name": "stdout",
          "text": [
            "-----------------------------------------------------------------------\n",
            "Este programa cálcula el coeficiente binomial\n",
            "-----------------------------------------------------------------------\n",
            "Ingrese el numero de elementos que tiene el conjunto, n: 2\n",
            "Ingrese en numero de formas de elegir elementos distintos del conjunto, k: 3\n",
            "Error: k no puede ser mayor que n\n",
            "El coeficiente binomial de 2 y 3 es None\n"
          ]
        }
      ]
    }
  ]
}