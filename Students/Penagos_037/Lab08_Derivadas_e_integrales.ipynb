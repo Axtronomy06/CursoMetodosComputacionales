{
  "cells": [
    {
      "cell_type": "markdown",
      "metadata": {
        "id": "V45FVknom2xE"
      },
      "source": [
        "<a href=\"https://colab.research.google.com/github/hernansalinas/autogrades/blob/main/Laboratorios_Taller/Lab08_Derivadas_e_integrales.ipynb\" target=\"_parent\"><img src=\"https://colab.research.google.com/assets/colab-badge.svg\" alt=\"Open In Colab\"/></a>"
      ]
    },
    {
      "cell_type": "code",
      "execution_count": 5,
      "metadata": {
        "id": "J5O5W6xbuoZS"
      },
      "outputs": [],
      "source": [
        "import numpy as np\n",
        "import matplotlib.pyplot as plt\n",
        "import pandas as pd\n",
        "import scipy as sc\n",
        "import sympy as sy"
      ]
    },
    {
      "cell_type": "markdown",
      "metadata": {
        "id": "mjVxBoseufI6"
      },
      "source": [
        "## Parte 1\n",
        "\n",
        "En un cirtcuito con un voltaje de  $\\varepsilon(t)$ y una inductancia de L, la primera ley de kirshhoff nos da la siguiente relación\n",
        "\n",
        "\\begin{equation}\n",
        "\\varepsilon(t) = L\\frac{\\mathrm{d}i}{\\mathrm{d}t} + Ri\n",
        "\\end{equation}\n",
        "\n",
        "donde $R$, es la resistencia del ciruito, $I$ es la corriente. Suponga que medimos la corriente con varios valores de $t$ y obtenemos:\n",
        "\n",
        "``t = 1.00, 1.01, 1.02, 1.03, 1.04``\n",
        "\n",
        "``i = 3.10, 3.12, 3.14, 3.18, 3.24``\n",
        "\n",
        "\n",
        "donde $t$ se mide en segundos, $I$ se da en Amperios, la inductancia $L$ es una constante de 0.98 H, la resistencia es de 0.142 $\\Omega$. Aproxime el votaje  $\\varepsilon(t)$ en los valores t=1.00, 1.01, 1.02, 1.03, 1.04 ,  para ello realice lo siguiente:\n",
        "\n",
        "\n",
        "- Construya un data frame de pandas con los valores de tiempo y corriente\n",
        "- Emplee un metodo calcular la derivada numérica."
      ]
    },
    {
      "cell_type": "code",
      "execution_count": 2,
      "metadata": {
        "colab": {
          "base_uri": "https://localhost:8080/",
          "height": 206
        },
        "id": "YTKsFH5E10yu",
        "outputId": "0062c753-2fbe-462e-9579-c51893fcc3d5"
      },
      "outputs": [
        {
          "data": {
            "text/html": [
              "<div>\n",
              "<style scoped>\n",
              "    .dataframe tbody tr th:only-of-type {\n",
              "        vertical-align: middle;\n",
              "    }\n",
              "\n",
              "    .dataframe tbody tr th {\n",
              "        vertical-align: top;\n",
              "    }\n",
              "\n",
              "    .dataframe thead th {\n",
              "        text-align: right;\n",
              "    }\n",
              "</style>\n",
              "<table border=\"1\" class=\"dataframe\">\n",
              "  <thead>\n",
              "    <tr style=\"text-align: right;\">\n",
              "      <th></th>\n",
              "      <th>t</th>\n",
              "      <th>i</th>\n",
              "      <th>di</th>\n",
              "      <th>voltaje</th>\n",
              "    </tr>\n",
              "  </thead>\n",
              "  <tbody>\n",
              "    <tr>\n",
              "      <th>0</th>\n",
              "      <td>1.00</td>\n",
              "      <td>3.10</td>\n",
              "      <td>2.0</td>\n",
              "      <td>2.40020</td>\n",
              "    </tr>\n",
              "    <tr>\n",
              "      <th>1</th>\n",
              "      <td>1.01</td>\n",
              "      <td>3.12</td>\n",
              "      <td>2.0</td>\n",
              "      <td>2.40304</td>\n",
              "    </tr>\n",
              "    <tr>\n",
              "      <th>2</th>\n",
              "      <td>1.02</td>\n",
              "      <td>3.14</td>\n",
              "      <td>3.0</td>\n",
              "      <td>3.38588</td>\n",
              "    </tr>\n",
              "    <tr>\n",
              "      <th>3</th>\n",
              "      <td>1.03</td>\n",
              "      <td>3.18</td>\n",
              "      <td>5.0</td>\n",
              "      <td>5.35156</td>\n",
              "    </tr>\n",
              "    <tr>\n",
              "      <th>4</th>\n",
              "      <td>1.04</td>\n",
              "      <td>3.24</td>\n",
              "      <td>6.0</td>\n",
              "      <td>6.34008</td>\n",
              "    </tr>\n",
              "  </tbody>\n",
              "</table>\n",
              "</div>"
            ],
            "text/plain": [
              "      t     i   di  voltaje\n",
              "0  1.00  3.10  2.0  2.40020\n",
              "1  1.01  3.12  2.0  2.40304\n",
              "2  1.02  3.14  3.0  3.38588\n",
              "3  1.03  3.18  5.0  5.35156\n",
              "4  1.04  3.24  6.0  6.34008"
            ]
          },
          "execution_count": 2,
          "metadata": {},
          "output_type": "execute_result"
        }
      ],
      "source": [
        "data={\"t\":[1.00, 1.01, 1.02, 1.03, 1.04], \"i\": [3.1, 3.12, 3.14, 3.18, 3.24]}\n",
        "\n",
        "df=pd.DataFrame(data=data)\n",
        "L=0.98\n",
        "R=0.142\n",
        "\n",
        "df[\"di\"]=(df.i.shift(-1)-df.i.shift(1))/0.02\n",
        "df.di[0]=(df.i[1]-df.i[0])/0.01\n",
        "df.di[4]=(df.i[4]-df.i[3])/0.01\n",
        "df[\"voltaje\"]=L*df.di+R*df.i\n",
        "df"
      ]
    },
    {
      "cell_type": "markdown",
      "metadata": {
        "id": "yyh50GiIux2j"
      },
      "source": [
        "## Parte 2\n",
        "1. Escribir en código Markdown la expresión para calcular una integral con la regla del trapecio.\n",
        "\n",
        "2. Escribir en código Markdown la expresión para calcular una integral con la regla del simpson.\n",
        "\n",
        "3. Escribir en código Markdown la expresión para calcular una integral con el metodo de cuadratura.\n",
        "\n",
        "4. Calcular una aproximación con el metodo 1,2,3 de las siguientes integrales"
      ]
    },
    {
      "cell_type": "markdown",
      "metadata": {
        "id": "WyWDIA_G10yw"
      },
      "source": [
        "### Punto 1\n",
        "La regla del trapecio está dada por:\n",
        "$$\\int_a^b f(x)dx\\approx(b-a)(\\frac{f(a)+f(b)}2)$$\n",
        "### Punto 2\n",
        "La regla de simpson está dada por:\n",
        "$$\\int_a^bf(x)dx\\approx\\frac{b-a}6(f(b)+4f(\\frac{b+a}2)+f(a))$$\n",
        "### Punto 3\n",
        "Si uno tiene un conjunto de nodos $x_0,x_1,...,x_n$ en el intervalo $[a, b]$ entonces\n",
        "$$\\int_a^bf(x)dx\\approx\\sum_{i=0}^nf(x_i)A_i$$\n",
        "Con $A_i=\\int_a^bl_i(x)dx$. Donde $l_i$ son los polinomios de interpolación de lagrange de los puntos $\\{(x_i,f(x_i))\\}_{i=0}^n$"
      ]
    },
    {
      "cell_type": "code",
      "execution_count": 4,
      "metadata": {},
      "outputs": [],
      "source": [
        "# Programas aproximación de la integral\n",
        "\n",
        "def Trapecio(X, Y):\n",
        "    s=0\n",
        "    for i in range(len(X)-1):\n",
        "        s+=(X[i+1]-X[i])*(Y[i+1]+Y[i])/2\n",
        "    return s\n",
        "\n",
        "def Simpson(X, Y):\n",
        "    if not(len(X)%2==1):\n",
        "        return \"Error, número de puntos par\"\n",
        "    s=0\n",
        "    for i in range(int((len(X)-1)/2)):\n",
        "        s+=((X[2*i+2]-X[2*i])/6)*(Y[2*i+2]+4*Y[2*i+1]+Y[2*i])\n",
        "    return s\n",
        "\n",
        "def Quadratura(X, Y):\n",
        "    B=np.array([(1/(i+1))*(X[-1]**(i+1)-X[0]**(i+1)) for i in range(len(X))])\n",
        "    print(\"B defined\")\n",
        "    A=np.array([[np.float128(y)**j for y in X] for j in range(len(X))])\n",
        "    print(A)\n",
        "    A=A.astype(np.float64)\n",
        "    B=B.astype(np.float64)\n",
        "    A=np.linalg.solve(A, B) #Obteniendo los A_i por el método de coeficientes indeterminados\n",
        "    s=0\n",
        "    for i in range(len(A)):\n",
        "        s+=Y[i]*A[i]\n",
        "    return(s)\n",
        "\n"
      ]
    },
    {
      "cell_type": "markdown",
      "metadata": {
        "id": "j3rJW3FevAeC"
      },
      "source": [
        "---\n",
        "$$\n",
        " \\int_0^{\\pi/2} \\frac{1}{\\sqrt{\\tan x}}\\mathrm{dx}\n",
        " $$\n",
        "\n",
        "----\n",
        "$$\n",
        " \\int_{1}^{\\infty} \\frac{\\cos x}{x^3}\\mathrm{dx}\n",
        " $$\n",
        "\n",
        "\n",
        "----\n",
        "\n",
        "$$\n",
        " \\int_{0}^{\\pi/4} \\int_{0}^{\\sin x} \\frac{1}{\\sqrt{1-y^2}}\\mathrm{dxdy}\n",
        " $$\n",
        "\n",
        "---\n",
        "\n",
        "Garantizando  que el error sea menor a $\\varepsilon=1\\times 10^{-5}$."
      ]
    },
    {
      "cell_type": "code",
      "execution_count": 6,
      "metadata": {
        "colab": {
          "base_uri": "https://localhost:8080/"
        },
        "id": "iY3uqzlJ10yx",
        "outputId": "d1ab2d77-2681-4989-f02b-afae8448fe6a"
      },
      "outputs": [
        {
          "name": "stdout",
          "output_type": "stream",
          "text": [
            "Aproximando f1 con el método del trapecio: 2.2194424955777956\n",
            "Aproximando f1 con el método de simpson: 2.219441475146155\n",
            "Aproximando f2 con el método del trapecio: 0.018117827593677888\n",
            "Aproximando f2 con el método de simpson: 0.01811762280610441\n",
            "Aproximando f3 con el método del trapecio: 1.2180430207702744\n",
            "Aproximando f3 con el método de simpson: 1.2180430206337935\n"
          ]
        }
      ],
      "source": [
        "from scipy.integrate import trapezoid, simps, quad\n",
        "from sympy import integrate\n",
        "\n",
        "x=sy.Symbol(\"x\")\n",
        "y=sy.Symbol(\"y\")\n",
        "sf1=1/sy.sqrt(sy.tan(x))\n",
        "sf2=sy.cos(x)/x**3\n",
        "sf3=1/sy.sqrt(1-x**2)\n",
        "sf4 = sy.integrate(sf3, (x, 0, sy.cos(y)))\n",
        "\n",
        "sI1=integrate(sf1, (x, 0, sy.pi/2))\n",
        "\n",
        "f1=sy.lambdify(x, sf1)\n",
        "f2=sy.lambdify(x, sf2)\n",
        "f3= sy.lambdify(x, sf3)\n",
        "\n",
        "def f4(y):\n",
        "    T=np.linspace(0, np.sin(y), 10001)\n",
        "    return Simpson(T, f3(T))\n",
        "\n",
        "\n",
        "X1=np.linspace(1e-6, np.pi/2, 10000001)\n",
        "print(f\"Aproximando f1 con el método del trapecio: {Trapecio(X1, f1(X1))}\")\n",
        "print(f\"Aproximando f1 con el método de simpson: {Simpson(X1, f1(X1))}\")\n",
        "\n",
        "X2=np.linspace(1, 1000, 1000001)\n",
        "print(f\"Aproximando f2 con el método del trapecio: {Trapecio(X2, f2(X2))}\")\n",
        "print(f\"Aproximando f2 con el método de simpson: {Simpson(X2, f2(X2))}\")\n",
        "\n",
        "X3=np.linspace(0, np.pi/2-1e-2, 10001)\n",
        "print(f\"Aproximando f3 con el método del trapecio: {Trapecio(X3, f4(X3))}\")\n",
        "print(f\"Aproximando f3 con el método de simpson: {Simpson(X3, f4(X3))}\")\n"
      ]
    },
    {
      "cell_type": "markdown",
      "metadata": {
        "id": "pvB9I2lavCdW"
      },
      "source": [
        "## Parte 3\n",
        "Un péndulo físico en el regimen de pequeñas oscilaciones tiene un periodo de:\n",
        "\n",
        "\\begin{equation}\n",
        "P_0=2\\pi \\sqrt{\\frac{I_0}{mgb}}\n",
        "\\end{equation}\n",
        "\n",
        "Cuando las oscilaciones no son pequeñas, podemos encontrar una expresión para el periodo como sigue:\n",
        "\n",
        "\n",
        "La energia de un péndulo físico viene dada por:\n",
        "\n",
        "\\begin{equation}\n",
        "E=\\frac{I_0\\omega^2}{2}+mgb(1-\\cos \\theta)\n",
        "\\end{equation}\n",
        "\n",
        "En el punto más alejado de su posición de equilibrio, su energía es solo potencial y viene dada por:\n",
        "\n",
        "\\begin{equation}\n",
        "Ep = mgb(1-\\cos \\theta),\n",
        "\\end{equation}\n",
        "\n",
        "Igualando ambas expresiones tenemos que:\n",
        "\n",
        "\\begin{equation}\n",
        "mgb(1-\\cos \\theta)=\\frac{I_0\\omega^2}{2}+mgb(1-\\cos \\theta)\n",
        "\\end{equation}\n",
        "\n",
        "Integrando la ecuación respecto a $\\theta$ y realizando la sustitución:\n",
        "\n",
        "$\\sin \\phi = \\frac{\\sin \\frac{\\theta}{2}}{\\sin \\frac{\\theta_0}{2}}$ y  $k = \\sin \\frac{\\theta_0}{2}$, se puede encontrar  que el periodo de oscilación, viene dado en terminos de  la integral elíptica completa de primera especie:\n",
        "\n",
        "\n",
        "\\begin{equation}\n",
        "P = \\frac{2P_0}{\\pi} \\int _0^{\\pi/2} \\frac{\\mathrm{d\\phi}}{\\sqrt{1-k^2\\sin^2\\phi}}\n",
        "\\end{equation}\n",
        "\n",
        "donde,  $P_0$ es el periodo de las oscilaciones pequeñas.\n",
        "\n",
        "Determinar el periodo de oscilación de un péndulo. Para ello:\n",
        "\n",
        "1. Suponga los párametros iniciales del pendulo.\n",
        "2. Realice una buena planificación del código para calcular la integral.\n",
        "3. Emplee un  método de integracion numérico que conozca.\n",
        "4. Compruebe su solucion con el valor exacto de la integral mostrado en el punto"
      ]
    },
    {
      "cell_type": "code",
      "execution_count": 73,
      "metadata": {},
      "outputs": [
        {
          "name": "stdout",
          "output_type": "stream",
          "text": [
            "Valor exacto de la integral: 2.36904972217534\n",
            "Approximación numérica: 2.3677719689388645\n"
          ]
        }
      ],
      "source": [
        "# Definiendo constantes\n",
        "g=9.8\n",
        "L=1\n",
        "k=np.sin(np.pi/4)\n",
        "P0=2*np.pi*np.sqrt(L/g)\n",
        "o=sy.Symbol(\"0\")\n",
        "\n",
        "Ps=2*P0/np.pi*1/(sy.sqrt(1-k**2*sy.sin(o)**2))\n",
        "Pn=sy.lambdify(o, Ps)\n",
        "print(f\"Valor exacto de la integral: {sy.integrate(Ps, (o, 0, sy.pi/2))}\")\n",
        "T=np.linspace(1e-3, np.pi/2, 1001)\n",
        "print(f\"Approximación numérica: {Simpson(T, Pn(T))}\")\n"
      ]
    },
    {
      "cell_type": "markdown",
      "metadata": {
        "id": "R2jgnjm4vd95"
      },
      "source": [
        "## Parte 4\n",
        "The next  problems are examples of how elliptic integrals enter into realistic physics problems. It is straightforward to evaluate any integral numerically using the techniques of this chapter, but it may be difficult for you to  know if the answers you obtain are correct. One way to hone your integral evaluating skills is to compare your answers from quadrature to power series\n",
        "expressions, or to a polynomial approximations of know precision. To help you in this regard, we present here a polynomial approximation for an elliptic integral (Abramowitz and Stegun, 1972):\n",
        "\n",
        "\\begin{equation}\n",
        "K(m)=\\int_{0}^{\\pi/2} \\frac{\\mathrm{d\\phi}}{\\sqrt{1-m\\sin^2\\phi}}\n",
        "\\end{equation}\n",
        "\n",
        "\\begin{equation}\n",
        "\\approx a_0+a_1m_1+a_2m_2 - [ b_0+b_1m_1+b_2m_1^2]\\ln m_1 + \\epsilon(m)\n",
        "\\end{equation}\n",
        "\n",
        "\n",
        "* $m_1 = 1-m$,\n",
        "\n",
        "* $ 0 \\le m \\le1 $\n",
        "\n",
        "* $\\epsilon(m)\\leq 3\\times 10^{-5}$\n",
        "\n",
        "* $a_0 = 1.3862944$\n",
        "\n",
        "* $b_0 = 0.5$\n",
        "\n",
        "* $a_1 = 0.1119723$\n",
        "\n",
        "* $b_1 = 0.1213478$\n",
        "\n",
        "* $a_2 = 0.00725296$\n",
        "\n",
        "* $b_2 = 0.0288729$"
      ]
    },
    {
      "cell_type": "code",
      "execution_count": 78,
      "metadata": {},
      "outputs": [
        {
          "data": {
            "text/plain": [
              "1.839539855305946"
            ]
          },
          "execution_count": 78,
          "metadata": {},
          "output_type": "execute_result"
        }
      ],
      "source": [
        "m=1/2\n",
        "m1=1-m\n",
        "a0=1.3862944\n",
        "a1=0.1119723\n",
        "a2=0.00725296\n",
        "b0=0.5\n",
        "b1=0.1213478\n",
        "b2=0.0288729\n",
        "\n",
        "a0+a1*m1+a2*m1-(b0+b1*m1+b2*m1**2)*np.log(m1)"
      ]
    },
    {
      "cell_type": "markdown",
      "metadata": {
        "id": "xDFUsTNRvzOV"
      },
      "source": [
        "## Parte 5 (Opcional)\n",
        "\n",
        "Figure 5.7 shows a current loop of radius a carrying a current I. The point P\n",
        "is a distance r from the center of the loop with spherical coordinates (r, θ, φ).\n",
        "Jackson (1988) solves for the φ component of the vector potential at point P\n",
        "in terms of elliptic integrals:\n",
        "\n",
        "\\begin{equation}\n",
        "A_{\\phi}(r, \\theta)=\\frac{\\mu_0}{4\\pi}\\frac{4Ia}{\\sqrt{a^2+r^2+2ar\\sin \\theta}}\\left(\\frac{(2-k^2)K(k)-2E(k)}{k^2} \\right)\n",
        "\\end{equation}\n",
        "\n",
        "\n",
        "where\n",
        "\n",
        "\\begin{equation}\n",
        "K(k)=\\int_{0}^{\\pi/2} \\frac{\\mathrm{d\\phi}}{\\sqrt{1-k^2\\sin^2\\phi}}\n",
        "\\end{equation}\n",
        "\n",
        "\n",
        "\\begin{equation}\n",
        "E(k)=\\int_{0}^{\\pi/2} \\mathrm{d\\phi} \\sqrt{1-k^2\\sin^2\\phi}\n",
        "\\end{equation}\n",
        "\n",
        "\n",
        "\\begin{equation}\n",
        "k^2=\\frac{4ar\\sin\\theta}{a^2+r^2+2ar\\sin\\theta}\n",
        "\\end{equation}\n",
        "\n",
        "\n",
        "\n",
        "Here K(k) is a complete elliptic integral of the first kind and E(k) is a complete\n",
        "elliptic integral of the second kind. For a = 1, I = 3, and μ0∕4π = 1, compute\n",
        "and plot\n",
        "\n",
        "a) Aφ(r = 1.1, θ) vs. θ\n",
        "\n",
        "b) Aφ(r, θ = π∕3) vs. r\n"
      ]
    },
    {
      "cell_type": "code",
      "execution_count": null,
      "metadata": {
        "id": "Ny-ACuTtur-3"
      },
      "outputs": [],
      "source": []
    }
  ],
  "metadata": {
    "colab": {
      "provenance": []
    },
    "kernelspec": {
      "display_name": "coffea-env",
      "language": "python",
      "name": "coffea-env"
    },
    "language_info": {
      "codemirror_mode": {
        "name": "ipython",
        "version": 3
      },
      "file_extension": ".py",
      "mimetype": "text/x-python",
      "name": "python",
      "nbconvert_exporter": "python",
      "pygments_lexer": "ipython3",
      "version": "3.8.18"
    }
  },
  "nbformat": 4,
  "nbformat_minor": 0
}
