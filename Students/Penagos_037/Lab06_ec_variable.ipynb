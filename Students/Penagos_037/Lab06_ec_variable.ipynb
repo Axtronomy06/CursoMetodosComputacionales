{
  "cells": [
    {
      "cell_type": "markdown",
      "id": "39502ab7",
      "metadata": {
        "id": "39502ab7"
      },
      "source": [
        "<a href=\"https://colab.research.google.com/github/hernansalinas/autogrades/blob/main/Laboratorios_Taller/Lab06_ec_variable.ipynb\" target=\"_parent\"><img src=\"https://colab.research.google.com/assets/colab-badge.svg\" alt=\"Open In Colab\"/></a>"
      ]
    },
    {
      "cell_type": "markdown",
      "id": "7efe0541",
      "metadata": {
        "id": "7efe0541"
      },
      "source": [
        "## Ecuaciones de una variable:\n",
        "\n",
        "Para los siguiente problemas:\n",
        "\n",
        "\n",
        "1.0 ¿Para que ángulo el area del segmento circular es igual a un cuarto del area de la circunferencia?\n",
        "\n",
        "- Muestre que la expresión que permite resolver el problema:\n",
        "\n",
        "\n",
        "\\begin{equation}\n",
        "\\theta - \\sin \\theta = \\frac{\\pi}{2}\n",
        "\\end{equation}\n",
        "\n",
        "\n",
        "- ¿Construya una grafica para theta?,  Alrededor de que punto esta solución.(Para este punto se recomienda emplear un data frame de pandas )\n",
        "\n",
        "- Emplee el metodo de biseccion, punto fijo,  newton y secante  para comprobar la solución intuida del apartado anterior.\n",
        "\n",
        "\n",
        "2.0 An object falling vertically through the air is subjected to viscous resistance as well as to the force\n",
        "of gravity. Assume that an object with mass m is dropped from a height s0 and that the height of the\n",
        "object after t seconds is\n",
        "\n",
        "\\begin{equation}\n",
        "s(t)=s_0 - \\frac{mg}{k}t+\\frac{m^2g}{k}t(1-e^{-kt/m})\n",
        "\\end{equation}\n",
        "\n",
        "where $g = 32.17 ft/s2$ and $k$ represents the coefficient of air resistance in $lbs/ft$. Suppose $s0 = 300 ft$,\n",
        "$m = 0.25$ lb, and $k = 0.1$ lbs/ft. Find, to within $0.01$ s, the time it takes this quarter-pounder to hit the\n",
        "ground\n",
        "\n",
        "- Emplee el metodo de biseccion, punto fijo,  newton y secante  para comprobrar la solución.\n",
        "\n",
        "\n",
        "\n",
        "3.0 En la teoria de campo medio, La magnetización como función de la temperatura de un material magnético  puede ser calculada como:\n",
        "\n",
        "\\begin{equation}\n",
        "m(T) = \\tanh\\left( \\frac{m(T)}{T} \\right)\n",
        "\\end{equation}\n",
        "\n",
        "donde m y T son la magnetizacion y temperatura reducida respectivamente\n",
        "\n",
        "Para T = 0.5, determine:\n",
        "\n",
        "a. La magnetización reducida empleando el metodo de la secante(Muestre su resultado con 4 cifras)\n",
        "\n",
        "b. Valide su respuestado con el metodo de punto fijo.\n",
        "(Muestre su resultado con 4 cifras)\n",
        "\n",
        "d. Defina T = np.linspace(0.1,0.99,100), y emple el metodo de la secante para construir un gráfico de magnetización reducida como función de la temperatura para los  100 valores  de T.\n",
        "\n",
        "\n",
        "\n",
        "5. Construir un fractal empleando el metodo de Newton-Raphson,\n",
        "(Reproducir código y entender)\n",
        "\\begin{equation}\n",
        "z_{n+1} = z_n -a \\frac{f(z)}{f'(z)}\n",
        "\\end{equation}\n",
        "\n",
        "\n",
        "\n",
        "\\begin{equation}\n",
        "f'(z) = \\frac{ f(z+h)+f(z) }{h}\n",
        "\\end{equation}\n",
        "\n",
        "\n",
        "Replicar el codigo y entender.\n",
        "\n",
        "\n",
        "```\n",
        "\n",
        "import numpy as np\n",
        "import matplotlib.pylab as plt\n",
        "from PIL import Image\n",
        "\n",
        "Npx_X = 80 #Numero de pixeles en x\n",
        "Npx_Y = 80 #Numero de pixeles en y\n",
        "\n",
        "image = Image.new(\"RGB\", (Npx_X, Npx_Y)) #Creacion de la imagen inicial\n",
        "\n",
        "npx = np.arange(0, Npx_X)\n",
        "npy = np.arange(0, Npx_Y)\n",
        "\n",
        "xmin = -1\n",
        "xmax = 1\n",
        "ymin = -1\n",
        "ymax = 1\n",
        "#Transformación al plano complejo en un rectangulo (xmin, xmax), (ymin, ymax)\n",
        "zx = npx * (xmax - xmin) / (Npx_X - 1)   + xmin\n",
        "zy = npy * (ymax-ymin) / (Npx_Y - 1) + ymin\n",
        "\n",
        "#Definicion  la funcion y las derivada\n",
        "def f(z):\n",
        "  return z**3 - 1\n",
        "\n",
        "def fp(z):\n",
        "  return 3*z**2\n",
        "\n",
        "h = 1E-4\n",
        "def fpn(z, h):\n",
        "  return (f(z+h)-f(z))/h\n",
        "  \n",
        "\n",
        "a = 0.2\n",
        "Niteraciones = 120\n",
        "eps = 1E-8\n",
        "\n",
        "x = - 1\n",
        "for zx_ in zx:\n",
        "  x = x + 1\n",
        "  y = -1\n",
        "  for zy_ in zy:\n",
        "      y = y + 1\n",
        "      Z_0 = complex(zx_, zy_)\n",
        "    \n",
        "      for i in range(0, Niteraciones):\n",
        "        Z = Z_0 - a * f(Z_0)/fp(Z_0)\n",
        "\n",
        "        if( abs(Z-Z_0)<= eps):\n",
        "          break\n",
        "          \n",
        "        Z_0 = Z\n",
        "      #print(i)\n",
        "      #print(i)\n",
        "      r, g, b = i % 4 *64 , i % 8 *16, i% 16* 16\n",
        "      \n",
        "      image.putpixel((x,y), (r,g,b) )\n",
        "\n",
        "\n",
        "plt.imshow(image)\n",
        "#plt.xlim(400, 600)\n",
        "#plt.ylim(400, 523)\n",
        "```\n"
      ]
    },
    {
      "cell_type": "code",
      "execution_count": 2,
      "id": "91fde8fe",
      "metadata": {},
      "outputs": [
        {
          "data": {
            "text/plain": [
              "[<matplotlib.lines.Line2D at 0x71feb6541390>]"
            ]
          },
          "execution_count": 2,
          "metadata": {},
          "output_type": "execute_result"
        },
        {
          "data": {
            "image/png": "[encoded data removed]",
            "text/plain": [
              "<Figure size 640x480 with 1 Axes>"
            ]
          },
          "metadata": {},
          "output_type": "display_data"
        }
      ],
      "source": [
        "#Punto 1\n",
        "import numpy as np\n",
        "import matplotlib.pyplot as plt\n",
        "f=lambda x: x-np.sin(x)-np.pi/2\n",
        "x=np.linspace(0, 3, 1000)\n",
        "plt.plot(x, f(x))\n",
        "plt.plot(x, [0]*len(x))\n",
        "# Podemos ver en la gráfica que el cero está alrededor de 2.3"
      ]
    },
    {
      "cell_type": "code",
      "execution_count": 3,
      "id": "a940575d",
      "metadata": {},
      "outputs": [
        {
          "name": "stdout",
          "output_type": "stream",
          "text": [
            "Los resultados son:\n",
            "\n",
            "    Bisección: 2.309881460010729\n",
            "\n",
            "    Punto fijo: 2.3098814600100575\n",
            "\n",
            "    Newton: 2.309881460010057\n",
            "\n",
            "    Secante: 2.3098814600100575\n"
          ]
        }
      ],
      "source": [
        "# Utilizando el método de Newton\n",
        "from scipy import optimize\n",
        "B=optimize.bisect(f, 0, 4)\n",
        "F=optimize.fixed_point(lambda x: np.sin(x)+np.pi/2, 2)\n",
        "N=optimize.newton(f, 0)\n",
        "S=optimize.root_scalar(f, method=\"secant\", x0=1)\n",
        "print(f\"\"\"Los resultados son:\\n\n",
        "    Bisección: {B}\\n\n",
        "    Punto fijo: {F}\\n\n",
        "    Newton: {N}\\n\n",
        "    Secante: {S.root}\"\"\")\n"
      ]
    },
    {
      "cell_type": "code",
      "execution_count": 4,
      "id": "6bd475c9",
      "metadata": {},
      "outputs": [
        {
          "name": "stdout",
          "output_type": "stream",
          "text": [
            "Los resultados son:\n",
            "\n",
            "    Bisección: 4.736139137605278\n",
            "\n",
            "    Punto fijo: 4.73613913760349\n",
            "\n",
            "    Newton: 4.73613913760349\n",
            "\n",
            "    Secante: 4.73613913760349\n"
          ]
        }
      ],
      "source": [
        "# Punto 2\n",
        "\n",
        "m=0.25\n",
        "l=300\n",
        "\n",
        "h=lambda t: l-(32.17*m/0.1)*t+(m**2*32.17/0.1)*t*(1-np.e**(-0.1*t/m))\n",
        "\n",
        "# Podemos ver que el momento en el que el objeto da contra el suelo es aproximadamente 4.73\n",
        "B=optimize.bisect(h, 3, 5)\n",
        "F=optimize.fixed_point(lambda t: t-h(t), 4.5)\n",
        "N=optimize.newton(h, 4.5)\n",
        "S=optimize.root_scalar(h, method=\"secant\", x0=4)\n",
        "print(f\"\"\"Los resultados son:\\n\n",
        "    Bisección: {B}\\n\n",
        "    Punto fijo: {F}\\n\n",
        "    Newton: {N}\\n\n",
        "    Secante: {S.root}\"\"\")\n",
        "\n",
        "\n"
      ]
    },
    {
      "cell_type": "code",
      "execution_count": 13,
      "id": "843ac8b3",
      "metadata": {},
      "outputs": [
        {
          "name": "stdout",
          "output_type": "stream",
          "text": [
            "0.9575040240772689 0.9575040240772689\n"
          ]
        },
        {
          "data": {
            "image/png": "[encoded data removed]",
            "text/plain": [
              "<Figure size 640x480 with 1 Axes>"
            ]
          },
          "metadata": {},
          "output_type": "display_data"
        }
      ],
      "source": [
        "#Punto 3\n",
        "g=lambda x: x-np.tanh(x/0.5)\n",
        "\n",
        "S=optimize.root_scalar(g, method=\"secant\", x0=4)\n",
        "F=optimize.fixed_point(lambda x: np.tanh(x/0.5), 1)\n",
        "\n",
        "T = np.linspace(0.1,0.99,100)\n",
        "\n",
        "def m(T):\n",
        "    return optimize.root_scalar(lambda x: x-np.tanh(x/T), method=\"secant\", x0=1).root\n",
        "\n",
        "Y=[m(i) for i in T]\n",
        "plt.plot(T, Y)\n",
        "print(S.root,F)\n",
        "\n"
      ]
    },
    {
      "cell_type": "code",
      "execution_count": 17,
      "id": "79e5fb44",
      "metadata": {},
      "outputs": [
        {
          "data": {
            "text/plain": [
              "<matplotlib.image.AxesImage at 0x71fe9eb0ee60>"
            ]
          },
          "execution_count": 17,
          "metadata": {},
          "output_type": "execute_result"
        },
        {
          "data": {
            "image/png": "[encoded data removed]",
            "text/plain": [
              "<Figure size 640x480 with 1 Axes>"
            ]
          },
          "metadata": {},
          "output_type": "display_data"
        }
      ],
      "source": [
        "\n",
        "import numpy as np\n",
        "import matplotlib.pylab as plt\n",
        "from PIL import Image\n",
        "\n",
        "Npx_X = 80 #Numero de pixeles en x\n",
        "Npx_Y = 80 #Numero de pixeles en y\n",
        "\n",
        "image = Image.new(\"RGB\", (Npx_X, Npx_Y)) #Creacion de la imagen inicial\n",
        "\n",
        "npx = np.arange(0, Npx_X)\n",
        "npy = np.arange(0, Npx_Y)\n",
        "\n",
        "xmin = -1\n",
        "xmax = 1\n",
        "ymin = -1\n",
        "ymax = 1\n",
        "# Transformación al plano complejo en un rectangulo (xmin, xmax), (ymin, ymax)\n",
        "zx = npx * (xmax - xmin) / (Npx_X - 1)   + xmin\n",
        "zy = npy * (ymax-ymin) / (Npx_Y - 1) + ymin\n",
        "\n",
        "# Definicion  la funcion y las derivada \n",
        "def f(z): \n",
        "  return z**3 - 1\n",
        "\n",
        "def fp(z): \n",
        "  return 3*z**2\n",
        "\n",
        "h = 1E-4\n",
        "def fpn(z, h): \n",
        "  return (f(z+h)-f(z))/h\n",
        "\n",
        "\n",
        "a = 0.2\n",
        "Niteraciones = 120\n",
        "eps = 1E-8\n",
        "\n",
        "x = - 1\n",
        "for zx_ in zx:\n",
        "  x = x + 1 \n",
        "  y = -1\n",
        "  for zy_ in zy: \n",
        "      y = y + 1\n",
        "      Z_0 = complex(zx_, zy_)\n",
        "\n",
        "      for i in range(0, Niteraciones): \n",
        "        Z = Z_0 - a * f(Z_0)/fp(Z_0)\n",
        "\n",
        "        if(abs(Z-Z_0)<= eps):\n",
        "          break \n",
        "\n",
        "        Z_0 = Z\n",
        "      #print(i)\n",
        "      #print(i)\n",
        "      r, g, b = i % 4 *64 , i % 8 *16, i% 16* 16\n",
        "\n",
        "      image.putpixel((x,y), (r,g,b) )\n",
        "\n",
        "\n",
        "plt.imshow(image)\n",
        "# plt.xlim(400, 600)\n",
        "# plt.ylim(400, 523)"
      ]
    }
  ],
  "metadata": {
    "colab": {
      "provenance": []
    },
    "kernelspec": {
      "display_name": "Python 3 (ipykernel)",
      "language": "python",
      "name": "python3"
    },
    "language_info": {
      "codemirror_mode": {
        "name": "ipython",
        "version": 3
      },
      "file_extension": ".py",
      "mimetype": "text/x-python",
      "name": "python",
      "nbconvert_exporter": "python",
      "pygments_lexer": "ipython3",
      "version": "3.10.12"
    }
  },
  "nbformat": 4,
  "nbformat_minor": 5
}
