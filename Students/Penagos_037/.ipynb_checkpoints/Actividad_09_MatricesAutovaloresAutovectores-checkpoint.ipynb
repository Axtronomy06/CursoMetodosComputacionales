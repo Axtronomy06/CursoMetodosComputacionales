{
 "cells": [
  {
   "cell_type": "markdown",
   "metadata": {
    "id": "LoSz011pateK"
   },
   "source": [
    "<a href=\"https://colab.research.google.com/github/hernansalinas/autogrades/blob/main/Actividades_clase/Actividad_09_MatricesAutovaloresAutovectores.ipynb\" target=\"_parent\"><img src=\"https://colab.research.google.com/assets/colab-badge.svg\" alt=\"Open In Colab\"/></a>"
   ]
  },
  {
   "cell_type": "code",
   "execution_count": 2,
   "metadata": {
    "id": "iJsmScMdtgYe",
    "metadata": {},
    "outputId": "9b3e16ff-f101-4118-9887-14eec3974d39"
   },
   "outputs": [],
   "source": [
    "import numpy as np\n",
    "import torch as pt\n",
    "import sympy as sp"
   ]
  },
  {
   "cell_type": "markdown",
   "metadata": {
    "id": "F2BmxAU22k-G"
   },
   "source": [
    "# Autovalores, autovectores, diagonalización\n",
    "\n",
    "Una matriz es diagonalizable cuando es semejante a una matriz diagonal. Esto significa que mediante un cambio de base, podemos reducir la matriz original a una forma diagonal. Para que una matriz sea diagonalizable, debe cumplir las siguientes condiciones:\n",
    "\n",
    "**Autovectores linealmente independientes**: Una matriz $(A \\in \\mathbb{R}^{n \\times n})$ es diagonalizable si y solo si tiene (n) autovectores linealmente independientes. Esto significa que los autovectores asociados a los autovalores deben ser linealmente independientes.\n",
    "\n",
    "**Semejanza**: Existe una matriz invertible (P) tal que ($P^{-1}AP = D$), donde (D) es una matriz diagonal formada por los autovalores de (A).\n",
    "\n",
    "La diagonalización es un proceso que transforma una matriz cuadrada ( A ) en una matriz diagonal ( D ) mediante una matriz invertible ( P ), tal que:\n",
    "\n",
    "$P^{-1}AP = D$\n",
    "\n",
    "La matriz diagonal ( D ) contiene los autovalores de ( A ) en la diagonal principal, y las columnas de ( P ) son los autovectores correspondientes a esos autovalores."
   ]
  },
  {
   "cell_type": "markdown",
   "metadata": {
    "id": "ZEt4N4lT2taJ"
   },
   "source": [
    "## Numpy"
   ]
  },
  {
   "cell_type": "code",
   "execution_count": null,
   "metadata": {
    "colab": {
     "base_uri": "https://localhost:8080/"
    },
    "id": "hcGonjho2Xi0",
    "outputId": "bbca9fe8-1eee-4a45-c274-440e81295c88"
   },
   "outputs": [
    {
     "name": "stdout",
     "output_type": "stream",
     "text": [
      "Autovalores: [6.16424794 1.60861762 3.22713444]\n",
      "Autovectores:\n",
      " [[-0.6611152   0.56181831 -0.49727948]\n",
      " [-0.7154086  -0.6717612   0.19216509]\n",
      " [-0.2260912   0.48280128  0.84604119]]\n"
     ]
    }
   ],
   "source": [
    "# Definir una matriz 3x3\n",
    "A = np.array([[4, 2, 0],\n",
    "              [2, 4, 1],\n",
    "              [0, 1, 3]])\n",
    "\n",
    "# Calcular autovalores y autovectores\n",
    "autovalores, autovectores = np.linalg.eig(A)\n",
    "U = autovectores.copy()\n",
    "print(\"Autovalores:\", autovalores)\n",
    "print(\"Autovectores:\\n\", autovectores)"
   ]
  },
  {
   "cell_type": "markdown",
   "metadata": {
    "id": "ioIEzfR52jVo"
   },
   "source": [
    "### Matriz Diagonal"
   ]
  },
  {
   "cell_type": "code",
   "execution_count": null,
   "metadata": {
    "colab": {
     "base_uri": "https://localhost:8080/"
    },
    "id": "qDM4idFV3R-e",
    "outputId": "4b4e032d-ab5a-413d-92c7-73215351dbf4"
   },
   "outputs": [
    {
     "data": {
      "text/plain": [
       "array([[ 6.164248,  0.      , -0.      ],\n",
       "       [-0.      ,  1.608618, -0.      ],\n",
       "       [ 0.      , -0.      ,  3.227134]])"
      ]
     },
     "execution_count": 4,
     "metadata": {},
     "output_type": "execute_result"
    }
   ],
   "source": [
    "D = np.linalg.inv(U)@A@U\n",
    "np.set_printoptions(suppress=True, precision=6)\n",
    "D"
   ]
  },
  {
   "cell_type": "code",
   "execution_count": null,
   "metadata": {
    "id": "rU-w2AWm3r_H"
   },
   "outputs": [],
   "source": [
    "np.set_printoptions(suppress=True, precision=6)\n"
   ]
  },
  {
   "cell_type": "markdown",
   "metadata": {
    "id": "N-oGaJUS4p10"
   },
   "source": [
    "## Actividad:\n",
    "\n",
    "Construir un programa que permita elevar una matriz a una potencia.\n",
    "\n",
    "\n",
    "La exponencial de una matriz ( $e^A$) se define como la serie de Taylor de la función exponencial evaluada en la matriz ( A ):\n",
    "\n",
    "\n",
    "\\begin{equation}\n",
    "e^A = I + A + \\frac{1}{2!}A^2 + \\frac{1}{3!}A^3 + \\cdots = \\sum_{n=0}^{\\infty} \\frac{1}{n!}A^n\n",
    "\\end{equation}\n",
    "\n",
    "\n",
    "Donde ( $e^D$ ) es simplemente la matriz exponencial de la matriz diagonal ( D ), que es fácil de calcular porque solo implica elevar los autovalores de (A) a la potencia de (e):\n",
    "\n",
    "\n",
    "\n",
    "\\begin{equation}\n",
    "e^A = Pe^DP^{-1}\n",
    "\\end{equation}\n",
    "\n",
    "\n",
    "Exponencial de una matriz diagonal\n",
    "\n",
    "\\begin{equation}\n",
    "e^D = \\begin{bmatrix}\n",
    "e^{\\lambda_1} & 0 & \\cdots & 0 \\\\\n",
    "0 & e^{\\lambda_2} & \\cdots & 0 \\\\\n",
    "\\vdots & \\vdots & \\ddots & \\vdots \\\\\n",
    "0 & 0 & \\cdots & e^{\\lambda_n}\n",
    "\\end{bmatrix}\n",
    "\\end{equation}\n",
    "\n",
    "\n"
   ]
  },
  {
   "cell_type": "code",
   "execution_count": 3,
   "metadata": {
    "metadata": {}
   },
   "outputs": [
    {
     "name": "stderr",
     "output_type": "stream",
     "text": [
      "/tmp/ipykernel_159563/824872274.py:31: DeprecationWarning: `np.math` is a deprecated alias for the standard library `math` module (Deprecated Numpy 1.25). Replace usages of `np.math` with `math`\n",
      "  Approx=(1/np.math.factorial(i))*Potenciacion(M, i)+Approx\n"
     ]
    },
    {
     "name": "stdout",
     "output_type": "stream",
     "text": [
      "Solución exacta:\n",
      "[[215.61398246 220.57500041  61.81556181]\n",
      " [220.57500041 246.52176337  79.3797193 ]\n",
      " [ 61.81556181  79.3797193   43.51092045]]\n",
      "Solución approximada:\n",
      "[[215.61398246 220.57500041  61.81556181]\n",
      " [220.57500041 246.52176337  79.3797193 ]\n",
      " [ 61.81556181  79.3797193   43.51092045]]\n"
     ]
    }
   ],
   "source": [
    "import numpy as np\n",
    "\n",
    "def Potenciacion(M, n): #Eleva la matriz M a la potencia n\n",
    "    R=np.identity(len(M))\n",
    "    R=np.matrix(R)\n",
    "    for i in range(n):\n",
    "        R=np.dot(R, M)\n",
    "    return R\n",
    "\n",
    "M=np.matrix([[4., 2, 0],\n",
    "              [2, 4, 1],\n",
    "              [0, 1, 3]])\n",
    "\n",
    "a_val, a_vec=np.linalg.eig(M)\n",
    "P=a_vec\n",
    "Sol=[]\n",
    "for i in range(len(M)):\n",
    "    a=[]\n",
    "    for j in range(len(M)):\n",
    "        if i==j:\n",
    "            a.append(np.exp(a_val[i]))\n",
    "        else:\n",
    "            a.append(0)\n",
    "    Sol.append(a)\n",
    "Sol=P@np.matrix(Sol)@np.linalg.inv(P)\n",
    "\n",
    "\n",
    "\n",
    "Approx=np.zeros((3, 3))\n",
    "for i in range(1000):\n",
    "    Approx=(1/np.math.factorial(i))*Potenciacion(M, i)+Approx\n",
    "\n",
    "print(\"Solución exacta:\\n\" + str(Sol))\n",
    "print(\"Solución approximada:\\n\" + str(Approx))\n"
   ]
  },
  {
   "cell_type": "markdown",
   "metadata": {
    "id": "JmmxMqieABY-"
   },
   "source": [
    "# Autovalores y autovectores complejos"
   ]
  },
  {
   "cell_type": "code",
   "execution_count": null,
   "metadata": {
    "colab": {
     "base_uri": "https://localhost:8080/"
    },
    "id": "3-NKfajD9kwp",
    "outputId": "7492a5ce-af44-4154-fa6f-8de033f85a4d"
   },
   "outputs": [
    {
     "name": "stdout",
     "output_type": "stream",
     "text": [
      "Autovalores: [0.707107+0.707107j 0.707107-0.707107j]\n",
      "Autovectores:\n",
      " [[0.707107+0.j       0.707107-0.j      ]\n",
      " [0.      +0.707107j 0.      -0.707107j]]\n"
     ]
    },
    {
     "data": {
      "text/plain": [
       "array([[0.707107+0.707107j, 0.      +0.j      ],\n",
       "       [0.      +0.j      , 0.707107-0.707107j]])"
      ]
     },
     "execution_count": 31,
     "metadata": {},
     "output_type": "execute_result"
    }
   ],
   "source": [
    "theta=-np.pi/4\n",
    "A = np.array([[np.cos(theta),-np.sin(theta)],[np.sin(theta), np.cos(theta)]])\n",
    "\n",
    "# Calcular autovalores y autovectores\n",
    "autovalores, autovectores = np.linalg.eig(A)\n",
    "U = autovectores.copy()\n",
    "print(\"Autovalores:\", autovalores)\n",
    "print(\"Autovectores:\\n\", autovectores)\n",
    "\n",
    "D = np.linalg.inv(U)@A@U\n",
    "np.set_printoptions(suppress=True, precision=6)\n",
    "D"
   ]
  },
  {
   "cell_type": "code",
   "execution_count": null,
   "metadata": {
    "colab": {
     "base_uri": "https://localhost:8080/"
    },
    "id": "pUIRWAJv9oVb",
    "outputId": "e5830539-4def-4bf5-dd82-3ae8ff4ea038"
   },
   "outputs": [
    {
     "data": {
      "text/plain": [
       "array([[1.068139+1.25593j, 1.      +0.j     ],\n",
       "       [1.      +0.j     , 1.068139-1.25593j]])"
      ]
     },
     "execution_count": 22,
     "metadata": {},
     "output_type": "execute_result"
    }
   ],
   "source": [
    "np.exp(D)"
   ]
  },
  {
   "cell_type": "markdown",
   "metadata": {
    "id": "lZpYfkqSateV"
   },
   "source": [
    "Actividad 2.\n",
    "\n",
    "Considere la ecuación cuadrática $x^2-4xy+3y^2=6$, esta ecuación cuadrática se corresponde a una hiperbola, la cual puede ser escrita en forma matricial como sigue:\n",
    "\n",
    "$A\\vec{v} \\cdot \\vec{v}=6$, donde $\\vec{v}=(x, y)$ y A es una matrix simetrica,\n",
    "\n",
    "\\begin{equation}\n",
    "A=\\begin{bmatrix}\n",
    "1 & -2 \\\\\n",
    "-2 & 3 \\\\\n",
    "\\end{bmatrix}\n",
    "\\end{equation}\n",
    "\n",
    "1. Realice un grafico que represente la hyperbola\n",
    "\n",
    "\n",
    "\n",
    "\n",
    "\n",
    "\n",
    "\n",
    "- Diagonalice A, para ello construya la matrix Q de autovectores ortoganales\n",
    "tal que $D=Q^{T}AQ$, en este caso se dice que A es diagonalizable ortogonalmente, donde $A=QDQ^T$.\n",
    "\n",
    "- Aplique el resultado de la siguiente demostración para encontrar una nueva hyperbola en una  nueva base\n",
    "\n",
    "\\begin{equation}\n",
    "QDQ^T \\vec{v} \\cdot \\vec{v} = d\n",
    "\\end{equation}\n",
    "\n",
    "\n",
    "\\begin{equation}\n",
    "Q(DQ^T\\vec{v}) \\cdot \\vec{v} = (DQ^T\\vec{v}) \\cdot (Q^T\\vec{v})=d\n",
    "\\end{equation}\n",
    "\n",
    "\n",
    "\\begin{equation}\n",
    "(DQ^T\\vec{v}) \\cdot (Q^T\\vec{v})=d\n",
    "\\end{equation}\n",
    "\n",
    "\n",
    "Sea $u=Q^T\\vec{v}$\n",
    "\n",
    "Luego :\n",
    "\n",
    "\n",
    "\\begin{equation}\n",
    "(D\\vec{u}) \\cdot \\vec{u}=d\n",
    "\\end{equation}\n",
    "\n",
    "donde $\\vec{u}=(x', y')$, tal que $D\\vec{u} \\cdot \\vec{u}=d$ es una nueva hyperbola\n",
    "\n",
    "\n",
    "\n",
    "\n",
    "\n",
    "\n",
    "\n"
   ]
  },
  {
   "cell_type": "code",
   "execution_count": 10,
   "metadata": {
    "metadata": {}
   },
   "outputs": [
    {
     "data": {
      "text/plain": [
       "[<matplotlib.lines.Line2D at 0x7ea2979bfd00>]"
      ]
     },
     "execution_count": 10,
     "metadata": {},
     "output_type": "execute_result"
    },
    {
     "data": {
      "image/png": "[encoded data removed]",
      "text/plain": [
       "<Figure size 640x480 with 1 Axes>"
      ]
     },
     "metadata": {},
     "output_type": "display_data"
    }
   ],
   "source": [
    "import matplotlib.pyplot as plt\n",
    "import numpy as np\n",
    "import sympy as sy\n",
    "x=sy.Symbol(\"x\")\n",
    "y=sy.Symbol(\"y\")\n",
    "\n",
    "\n",
    "A=np.matrix([[1, -2],\n",
    "             [-2, 3]])\n",
    "a_val, a_vec = np.linalg.eig(A)\n",
    "\n",
    "X=np.linspace(-6, 6, 1000)\n",
    "Y11=1/3*(np.sqrt(X**2+18)+2*X)\n",
    "Y12=1/3*(-np.sqrt(X**2+18)+2*X)\n",
    "plt.plot(X, Y11)\n",
    "plt.plot(X, Y12)"
   ]
  },
  {
   "cell_type": "code",
   "execution_count": 17,
   "metadata": {
    "metadata": {}
   },
   "outputs": [
    {
     "data": {
      "text/plain": [
       "[<matplotlib.lines.Line2D at 0x7ea29753f790>]"
      ]
     },
     "execution_count": 17,
     "metadata": {},
     "output_type": "execute_result"
    },
    {
     "data": {
      "image/png": "[encoded data removed]",
      "text/plain": [
       "<Figure size 640x480 with 1 Axes>"
      ]
     },
     "metadata": {},
     "output_type": "display_data"
    }
   ],
   "source": [
    "Q=np.matrix(a_vec)\n",
    "D=Q.transpose()@A@Q\n",
    "Y21=0.48*np.sqrt(0.23*X**2+6)\n",
    "Y22=-0.48*np.sqrt(0.23*X**2+6)\n",
    "\n",
    "plt.plot(X, Y21)\n",
    "plt.plot(X, Y22)\n"
   ]
  },
  {
   "cell_type": "markdown",
   "metadata": {
    "id": "bVBR8mx02xzR"
   },
   "source": [
    "### Sympy"
   ]
  },
  {
   "cell_type": "code",
   "execution_count": 58,
   "metadata": {
    "colab": {
     "base_uri": "https://localhost:8080/"
    },
    "id": "5ZtjshtC2iBC",
    "outputId": "b2eddb03-7ef4-4d6a-db38-bcf1e857b08d"
   },
   "outputs": [
    {
     "name": "stdout",
     "output_type": "stream",
     "text": [
      "Autovalores simplificados: {11/3 + 16*2**(1/3)/(3*(61 + 3*sqrt(1407)*I)**(1/3)) + 2**(2/3)*(61 + 3*sqrt(1407)*I)**(1/3)/6: 1, (-128*2**(1/3) + (1 - sqrt(3)*I)*(44 + 2**(2/3)*(-1 + sqrt(3)*I)*(61 + 3*sqrt(1407)*I)**(1/3))*(61 + 3*sqrt(1407)*I)**(1/3))/(12*(1 - sqrt(3)*I)*(61 + 3*sqrt(1407)*I)**(1/3)): 1, (-128*2**(1/3) + (1 + sqrt(3)*I)*(44 - 2**(2/3)*(1 + sqrt(3)*I)*(61 + 3*sqrt(1407)*I)**(1/3))*(61 + 3*sqrt(1407)*I)**(1/3))/(12*(1 + sqrt(3)*I)*(61 + 3*sqrt(1407)*I)**(1/3)): 1}\n",
      "Autovectores simplificados:\n",
      " [((-128*2**(1/3) + (1 + sqrt(3)*I)*(44 - 2**(2/3)*(1 + sqrt(3)*I)*(61 + 3*sqrt(1407)*I)**(1/3))*(61 + 3*sqrt(1407)*I)**(1/3))/(12*(1 + sqrt(3)*I)*(61 + 3*sqrt(1407)*I)**(1/3)), 1, [Matrix([\n",
      "[(12*(-176 + 7*2**(2/3)*(1 + sqrt(3)*I)*(61 + 3*sqrt(1407)*I)**(1/3))*(1 + sqrt(3)*I)**2*(61 + 3*sqrt(1407)*I) + (61 + 3*sqrt(1407)*I)**(1/3)*(128*2**(1/3) + (-44 + 2**(2/3)*(1 + sqrt(3)*I)*(61 + 3*sqrt(1407)*I)**(1/3))*(1 + sqrt(3)*I)*(61 + 3*sqrt(1407)*I)**(1/3))**2 + 10752*2**(1/3)*(1 + sqrt(3)*I)*(61 + 3*sqrt(1407)*I)**(2/3))/(288*(1 + sqrt(3)*I)**2*(61 + 3*sqrt(1407)*I))],\n",
      "[                                                                                                                                                                                                             (-128*2**(1/3) + (1 + sqrt(3)*I)*(8 - 2**(2/3)*(1 + sqrt(3)*I)*(61 + 3*sqrt(1407)*I)**(1/3))*(61 + 3*sqrt(1407)*I)**(1/3))/(12*(1 + sqrt(3)*I)*(61 + 3*sqrt(1407)*I)**(1/3))],\n",
      "[                                                                                                                                                                                                                                                                                                                                                                                        1]])]), ((-128*2**(1/3) + (1 - sqrt(3)*I)*(44 + 2**(2/3)*(-1 + sqrt(3)*I)*(61 + 3*sqrt(1407)*I)**(1/3))*(61 + 3*sqrt(1407)*I)**(1/3))/(12*(1 - sqrt(3)*I)*(61 + 3*sqrt(1407)*I)**(1/3)), 1, [Matrix([\n",
      "[(10752*2**(1/3)*(1 - sqrt(3)*I)*(61 + 3*sqrt(1407)*I)**(2/3) + (61 + 3*sqrt(1407)*I)**(1/3)*(128*2**(1/3) + (-44 + 2**(2/3)*(1 - sqrt(3)*I)*(61 + 3*sqrt(1407)*I)**(1/3))*(1 - sqrt(3)*I)*(61 + 3*sqrt(1407)*I)**(1/3))**2 + 12*(-176 + 7*2**(2/3)*(1 - sqrt(3)*I)*(61 + 3*sqrt(1407)*I)**(1/3))*(1 - sqrt(3)*I)**2*(61 + 3*sqrt(1407)*I))/(288*(1 - sqrt(3)*I)**2*(61 + 3*sqrt(1407)*I))],\n",
      "[                                                                                                                                                                                                            (-128*2**(1/3) + (1 - sqrt(3)*I)*(8 + 2**(2/3)*(-1 + sqrt(3)*I)*(61 + 3*sqrt(1407)*I)**(1/3))*(61 + 3*sqrt(1407)*I)**(1/3))/(12*(1 - sqrt(3)*I)*(61 + 3*sqrt(1407)*I)**(1/3))],\n",
      "[                                                                                                                                                                                                                                                                                                                                                                                        1]])]), (11/3 + 16*2**(1/3)/(3*(61 + 3*sqrt(1407)*I)**(1/3)) + 2**(2/3)*(61 + 3*sqrt(1407)*I)**(1/3)/6, 1, [Matrix([\n",
      "[(42*sqrt(1407) - 191*2**(2/3)*I*(61 + 3*sqrt(1407)*I)**(1/3) - 854*I - 31*2**(1/3)*I*(61 + 3*sqrt(1407)*I)**(2/3) + sqrt(1407)*2**(2/3)*(61 + 3*sqrt(1407)*I)**(1/3) + sqrt(1407)*2**(1/3)*(61 + 3*sqrt(1407)*I)**(2/3))/(12*(3*sqrt(1407) - 61*I))],\n",
      "[                                                                                                                                                       2/3 + 16*2**(1/3)/(3*(61 + 3*sqrt(1407)*I)**(1/3)) + 2**(2/3)*(61 + 3*sqrt(1407)*I)**(1/3)/6],\n",
      "[                                                                                                                                                                                                                                                  1]])])]\n"
     ]
    }
   ],
   "source": [
    "from sympy import Matrix, simplify\n",
    "\n",
    "# Definir una matriz 3x3\n",
    "A = Matrix([[4, 2, 0],\n",
    "            [2, 4, 1],\n",
    "            [0, 1, 3]])\n",
    "\n",
    "# Calcular autovalores y autovectores\n",
    "autovalores = A.eigenvals()\n",
    "autovectores = A.eigenvects()\n",
    "\n",
    "# Simplificar autovalores y autovectores\n",
    "autovalores_simplificados = {simplify(l): m for l, m in autovalores.items()}\n",
    "autovectores_simplificados = [(simplify(l), m, [simplify(v) for v in vs]) for l, m, vs in autovectores]\n",
    "\n",
    "print(\"Autovalores simplificados:\", autovalores_simplificados)\n",
    "print(\"Autovectores simplificados:\\n\", autovectores_simplificados)\n"
   ]
  },
  {
   "cell_type": "code",
   "execution_count": null,
   "metadata": {
    "colab": {
     "base_uri": "https://localhost:8080/"
    },
    "id": "zGEs4pr2A5JR",
    "outputId": "47bf8fcb-8ad8-4b82-88c1-20ef9be35158"
   },
   "outputs": [
    {
     "data": {
      "text/plain": [
       "dict_keys([11/3 + 16*2**(1/3)/(3*(61 + 3*sqrt(1407)*I)**(1/3)) + 2**(2/3)*(61 + 3*sqrt(1407)*I)**(1/3)/6, (-128*2**(1/3) + (1 - sqrt(3)*I)*(44 + 2**(2/3)*(-1 + sqrt(3)*I)*(61 + 3*sqrt(1407)*I)**(1/3))*(61 + 3*sqrt(1407)*I)**(1/3))/(12*(1 - sqrt(3)*I)*(61 + 3*sqrt(1407)*I)**(1/3)), (-128*2**(1/3) + (1 + sqrt(3)*I)*(44 - 2**(2/3)*(1 + sqrt(3)*I)*(61 + 3*sqrt(1407)*I)**(1/3))*(61 + 3*sqrt(1407)*I)**(1/3))/(12*(1 + sqrt(3)*I)*(61 + 3*sqrt(1407)*I)**(1/3))])"
      ]
     },
     "execution_count": 30,
     "metadata": {},
     "output_type": "execute_result"
    }
   ],
   "source": [
    "autovalores_simplificados"
   ]
  },
  {
   "cell_type": "markdown",
   "metadata": {
    "id": "kZWZu8BRwG2h"
   },
   "source": [
    "# Pytorch\n",
    "\n",
    "Definción de una matrix de tres formas:\n",
    "Hasta ahora sabemos definir matrices como objetos de numpy y objetos de sympy, en la actualidad, el rápido crecimiento de las unidades de procesamiento gráfico GPU,  permite definir otro tipo de objetos que pueden acelerar el computo computacional.\n",
    "\n",
    "\n",
    "- Como objeto de numpy\n",
    "- Como objeto de sympy\n",
    "- Como objeto de pytorch\n",
    "\n",
    "\n",
    "La velocidad de ejecución entre PyTorch y Numpy puede variar dependiendo del tamaño de los datos y si se está utilizando o no la aceleración por GPU. Para operaciones con matrices pequeñas y cálculos que no requieren de la paralelización de una GPU, Numpy puede ser más rápido porque opera directamente en la CPU y la memoria principal. Sin embargo, para matrices grandes y operaciones que pueden ser paralelizadas, PyTorch con soporte de GPU puede ser significativamente más rápido.\n",
    "\n",
    "Comparativa de comandos de ejecución entre pytorch, numpy  y sympy\n",
    "\n",
    "\n",
    "| Operación | PyTorch | Numpy | SymPy |\n",
    "|-----------|---------|-------|-------|\n",
    "| Creación de una matriz | `torch.tensor([[1, 2], [3, 4]])` | `np.array([[1, 2], [3, 4]])` | `Matrix([[1, 2], [3, 4]])` |\n",
    "| Transposición de una matriz | `torch.transpose(A, 0, 1)` | `A.T` o `np.transpose(A)` | `A.T` |\n",
    "| Multiplicación de matrices | `torch.matmul(A, B)` | `np.dot(A, B)` o `A @ B` | `A * B` |\n",
    "| Inversa de una matriz | `torch.inverse(A)` | `np.linalg.inv(A)` | `A**-1` |\n",
    "| Determinante de una matriz | `torch.det(A)` | `np.linalg.det(A)` | `A.det()` |\n",
    "| Autovalores y autovectores | `torch.eig(A, eigenvectors=True)` | `np.linalg.eig(A)` | `A.eigenvals()`, `A.eigenvects()` |\n",
    "\n"
   ]
  },
  {
   "cell_type": "markdown",
   "metadata": {
    "id": "0IZOos3VztQS"
   },
   "source": [
    "Ejemplo básico del comparativo de un problema de algebra lineal, rotación de un vector:"
   ]
  },
  {
   "cell_type": "code",
   "execution_count": null,
   "metadata": {
    "id": "Ve2Qic9ttIkE"
   },
   "outputs": [],
   "source": [
    "\n",
    "def matrixA(theta, tipo=\"numpy\"):\n",
    "  if(tipo==\"np\"):\n",
    "    return np.array([[np.cos(theta),-np.sin(theta)],[np.sin(theta), np.cos(theta)]])\n",
    "  elif(tipo==\"sp\"):\n",
    "    return np.array([[sp.cos(theta),-sp.sin(theta)],[sp.sin(theta), sp.cos(theta)]])\n",
    "  elif(tipo==\"pt\"):\n",
    "    return pt.tensor([[np.cos(theta),-np.sin(theta)],[np.sin(theta), np.cos(theta)]])\n",
    "  else:\n",
    "    print(\"Define el tipo de variable que desea\")\n"
   ]
  },
  {
   "cell_type": "code",
   "execution_count": null,
   "metadata": {
    "colab": {
     "base_uri": "https://localhost:8080/",
     "height": 80
    },
    "id": "6pvCFzl7uDm3",
    "outputId": "cc6ee326-1d22-4ed8-a5f2-8e6da420e62e"
   },
   "outputs": [
    {
     "data": {
      "text/latex": [
       "$\\displaystyle \\left[\\begin{matrix}0.707106781186548 & -0.707106781186547\\\\0.707106781186547 & 0.707106781186548\\end{matrix}\\right]$"
      ],
      "text/plain": [
       "Matrix([\n",
       "[0.707106781186548, -0.707106781186547],\n",
       "[0.707106781186547,  0.707106781186548]])"
      ]
     },
     "execution_count": 16,
     "metadata": {},
     "output_type": "execute_result"
    }
   ],
   "source": [
    "x = sp.Symbol(\"x\")\n",
    "M = sp.Matrix(matrixA(np.pi/4, tipo=\"sp\"))\n",
    "M"
   ]
  },
  {
   "cell_type": "code",
   "execution_count": null,
   "metadata": {
    "colab": {
     "base_uri": "https://localhost:8080/"
    },
    "id": "brk8Daew2EmP",
    "outputId": "892116c1-d682-46af-a833-cdc197bf8b9a"
   },
   "outputs": [
    {
     "data": {
      "text/plain": [
       "array([[ 0.70710678, -0.70710678],\n",
       "       [ 0.70710678,  0.70710678]])"
      ]
     },
     "execution_count": 14,
     "metadata": {},
     "output_type": "execute_result"
    }
   ],
   "source": [
    "x=np.pi/4\n",
    "M = matrixA(x, tipo=\"np\")\n",
    "M"
   ]
  },
  {
   "cell_type": "code",
   "execution_count": null,
   "metadata": {
    "colab": {
     "base_uri": "https://localhost:8080/"
    },
    "id": "Z-6fzFXrvbgL",
    "outputId": "edfe7842-690e-48c4-bfca-5057aad32c83"
   },
   "outputs": [
    {
     "data": {
      "text/plain": [
       "array([[ 0.70710678, -0.70710678],\n",
       "       [ 0.70710678,  0.70710678]])"
      ]
     },
     "execution_count": 15,
     "metadata": {},
     "output_type": "execute_result"
    }
   ],
   "source": [
    "matrixA(x, tipo=\"pt\")\n",
    "M"
   ]
  },
  {
   "cell_type": "markdown",
   "metadata": {
    "id": "b-IQVSe3CAp6"
   },
   "source": [
    "Actividad: Resolver el problema de la potencia de una matriz empleando pytorch, construir."
   ]
  },
  {
   "cell_type": "code",
   "execution_count": 31,
   "metadata": {
    "id": "jiAATXj8CFsk",
    "metadata": {}
   },
   "outputs": [
    {
     "name": "stdout",
     "output_type": "stream",
     "text": [
      "Solución exacta:\n",
      "tensor([[215.6134+0.j, 220.5745+0.j,  61.8154+0.j],\n",
      "        [220.5744+0.j, 246.5212+0.j,  79.3796+0.j],\n",
      "        [ 61.8154+0.j,  79.3796+0.j,  43.5109+0.j]])\n",
      "Solución approximada:\n",
      "tensor([[215.6140, 220.5750,  61.8156],\n",
      "        [220.5750, 246.5218,  79.3797],\n",
      "        [ 61.8156,  79.3797,  43.5109]])\n"
     ]
    },
    {
     "name": "stderr",
     "output_type": "stream",
     "text": [
      "/tmp/ipykernel_159563/2956091231.py:32: DeprecationWarning: `np.math` is a deprecated alias for the standard library `math` module (Deprecated Numpy 1.25). Replace usages of `np.math` with `math`\n",
      "  Approx=(1/np.math.factorial(i))*Potenciacion(M, i)+Approx\n"
     ]
    }
   ],
   "source": [
    "import torch as pt\n",
    "\n",
    "def Potenciacion(M, n): #Eleva la matriz M a la potencia n\n",
    "    R=pt.tensor([[float(i==j) for j in range(len(M))] for i in range(len(M))])\n",
    "    \n",
    "    for i in range(n):\n",
    "        R=pt.matmul(R, M)\n",
    "    return R\n",
    "\n",
    "M=pt.tensor([[4., 2, 0],\n",
    "              [2, 4, 1],\n",
    "              [0, 1, 3]])\n",
    "\n",
    "a_val, a_vec= pt.linalg.eig(M)\n",
    "P=a_vec\n",
    "\n",
    "Sol=[]\n",
    "for i in range(len(M)):\n",
    "    a=[]\n",
    "    for j in range(len(M)):\n",
    "        if i==j:\n",
    "            a.append(np.exp(a_val[i]))\n",
    "        else:\n",
    "            a.append(0)\n",
    "    Sol.append(a)\n",
    "Sol=P@pt.tensor(Sol)@pt.inverse(P)\n",
    "\n",
    "\n",
    "\n",
    "Approx=pt.zeros(3, 3)\n",
    "for i in range(50):\n",
    "    Approx=(1/np.math.factorial(i))*Potenciacion(M, i)+Approx\n",
    "\n",
    "print(\"Solución exacta:\\n\" + str(Sol))\n",
    "print(\"Solución approximada:\\n\" + str(Approx))\n"
   ]
  }
 ],
 "metadata": {
  "colab": {
   "provenance": []
  },
  "kernelspec": {
   "display_name": "Python 3 (ipykernel)",
   "language": "python",
   "name": "python3"
  },
  "language_info": {
   "codemirror_mode": {
    "name": "ipython",
    "version": 3
   },
   "file_extension": ".py",
   "mimetype": "text/x-python",
   "name": "python",
   "nbconvert_exporter": "python",
   "pygments_lexer": "ipython3",
   "version": "3.10.9"
  }
 },
 "nbformat": 4,
 "nbformat_minor": 1
}
