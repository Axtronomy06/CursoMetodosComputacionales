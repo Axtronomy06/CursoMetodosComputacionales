{
  "cells": [
    {
      "cell_type": "markdown",
      "id": "6d26e874",
      "metadata": {
        "id": "6d26e874"
      },
      "source": [
        "<a href=\"https://colab.research.google.com/github/hernansalinas/autogrades/blob/main/Actividades_clase/Actividad_04_Binarios_Errores.ipynb\" target=\"_parent\"><img src=\"https://colab.research.google.com/assets/colab-badge.svg\" alt=\"Open In Colab\"/></a>\n",
        "\n",
        "\n",
        "\n",
        "# Actividad 4\n",
        "### Métodos computacionales para físicos  y astrónomos\n",
        "### Universidad de Antioquia\n",
        "### Prof: Hernan D. Salinas Jiménez\n"
      ]
    },
    {
      "cell_type": "code",
      "execution_count": 4,
      "id": "eae80e3f",
      "metadata": {
        "colab": {
          "base_uri": "https://localhost:8080/"
        },
        "id": "eae80e3f",
        "outputId": "69b85a39-33c2-41e5-ee83-49db1d1f5008"
      },
      "outputs": [
        {
          "output_type": "stream",
          "name": "stdout",
          "text": [
            "Cloning into 'autogrades'...\n",
            "remote: Enumerating objects: 1053, done.\u001b[K\n",
            "remote: Counting objects: 100% (115/115), done.\u001b[K\n",
            "remote: Compressing objects: 100% (91/91), done.\u001b[K\n",
            "remote: Total 1053 (delta 63), reused 71 (delta 23), pack-reused 938\u001b[K\n",
            "Receiving objects: 100% (1053/1053), 39.23 MiB | 23.63 MiB/s, done.\n",
            "Resolving deltas: 100% (638/638), done.\n"
          ]
        }
      ],
      "source": [
        "!git clone https://github.com/hernansalinas/autogrades.git\n",
        "#path=\"libs\"\n",
        "path=\"autogrades/Actividades_clase/libs\"\n",
        "%run -i {path}/libUnitTest.py"
      ]
    },
    {
      "cell_type": "markdown",
      "id": "74f1131a",
      "metadata": {
        "id": "74f1131a"
      },
      "source": [
        "### Activity 1.0:\n",
        "\n",
        "Implement a function that get the binary representation of an integer with name mybin, the algorithm should return\n",
        "a string with 8 characters, the maximun number that represent the funcition is integer of 8 bit. The name of function is\n",
        "mybin\n",
        "\n",
        "Ejexample :\n",
        "\n",
        "b=mybin(x)\n",
        "\n",
        "b='00101000'"
      ]
    },
    {
      "cell_type": "code",
      "execution_count": 12,
      "id": "4c8dabcf",
      "metadata": {
        "id": "4c8dabcf"
      },
      "outputs": [],
      "source": [
        "##!/usr/bin/env python3\n",
        "from math import floor\n",
        "def mybin(x):\n",
        "    print('__name__ = {}'.format(__name__))\n",
        "    # Write your code here and change the next line as required\n",
        "    r=\"\"\n",
        "    for i in range(8):\n",
        "        r=str(x%2)+r\n",
        "        x=floor(x/2)\n",
        "    return(r)"
      ]
    },
    {
      "cell_type": "code",
      "execution_count": 13,
      "id": "885be6fb",
      "metadata": {
        "colab": {
          "base_uri": "https://localhost:8080/",
          "height": 267
        },
        "id": "885be6fb",
        "outputId": "a7452202-601b-4885-f98c-6d0a489d953c"
      },
      "outputs": [
        {
          "output_type": "stream",
          "name": "stdout",
          "text": [
            "__name__ = __main__\n",
            "__name__ = __main__\n",
            "__name__ = __main__\n"
          ]
        },
        {
          "output_type": "display_data",
          "data": {
            "text/plain": [
              "<IPython.core.display.HTML object>"
            ],
            "text/html": [
              "<style>\n",
              "  table { text-align: left; border-collapse: collapse; margin: 1em; caption-side: bottom; font-family: Sans-Serif; font-size: 12px}\n",
              "  caption { text-align: left; padding: 5px }\n",
              "  th, td { border: 2px solid #BFC9CA; padding: 5px }\n",
              "  th { background-color: #BFC9CA }\n",
              "  .passed { background-color: #76D7C4 }\n",
              "  .failed { background-color: #EC7063 }\n",
              "  .skipped { background-color: #EDBB99 }\n",
              "  .score { background-color: #7DCEA0 }\n",
              "  .results .points { display: none }\n",
              "  .results .message { display: block; font-size:smaller; color:#D35400 }\n",
              "  .results .note { display: block; font-size:smaller; font-decoration:italics }\n",
              "  .results .passed::before  { content: \"Passed\" } \n",
              "  .results .skipped::before  { content: \"Skipped\" } \n",
              "  .results .failed::before  { content: \"Failed\" } \n",
              "  .grade .passed  .message:empty::before { content:\"Passed\" }\n",
              "  .grade .failed  .message:empty::before { content:\"Failed\" }\n",
              "  .grade .skipped .message:empty::before { content:\"Skipped\" }   \n",
              "</style>\n",
              "<table class='results'>\n",
              "  <th class='test'>Test</th><th class='result'>Result</th></tr>\n",
              "<tr>\n",
              "  <td class='test'>\n",
              "    La salida debe ser un string \n",
              "    <div class='message'>Done</div>\n",
              "  </td>\n",
              "  <td class='result passed'></td>\n",
              "</tr>\n",
              "<tr>\n",
              "  <td class='test'>\n",
              "    La longitud del string debe ser de 8 \n",
              "    <div class='message'>Done</div>\n",
              "  </td>\n",
              "  <td class='result passed'></td>\n",
              "</tr>\n",
              "<tr>\n",
              "  <td class='test'>\n",
              "    Para el número 92 su representacion es 01011100 \n",
              "    <div class='message'>Done</div>\n",
              "  </td>\n",
              "  <td class='result passed'></td>\n",
              "</tr>  <tr><th class='score'>Total Points</th><th class='score'>3</th></tr></table>\n"
            ]
          },
          "metadata": {}
        }
      ],
      "source": [
        "%run -i {path}/Act_02/test01.py"
      ]
    },
    {
      "cell_type": "markdown",
      "id": "e622b7b5",
      "metadata": {
        "id": "e622b7b5"
      },
      "source": [
        "### Activity 2.0:\n",
        "\n",
        "With the binary representation please try to implement the formula to recover the number.\n",
        "\n",
        "Hint: Use as input the binary representation as a string and invert its order\n",
        "\n",
        "```\n",
        "number32(BIN):\n",
        "\n",
        "```\n",
        "\n",
        "Where BIN is a string with the binary number\n",
        "\n",
        "Example:\n",
        "\n",
        "\n",
        "Test your solution for the next number:\n",
        "\n",
        "number32(\"00111110001000000000001000010000\")"
      ]
    },
    {
      "cell_type": "code",
      "execution_count": 29,
      "id": "5f3c6506",
      "metadata": {
        "colab": {
          "base_uri": "https://localhost:8080/"
        },
        "id": "5f3c6506",
        "outputId": "8e377696-ee84-426e-dc63-5da2fcf5931c"
      },
      "outputs": [
        {
          "output_type": "execute_result",
          "data": {
            "text/plain": [
              "0.15625786781311035"
            ]
          },
          "metadata": {},
          "execution_count": 29
        }
      ],
      "source": [
        "def number32(BIN):\n",
        "    S=BIN\n",
        "    s=(-1)**int(S[0])\n",
        "    e=0\n",
        "    for i in range(1, 9):\n",
        "        e+=int(S[9-i])*2**(i-1)\n",
        "    e-=127\n",
        "    m=1\n",
        "    for i in range(9, len(S)):\n",
        "        m+=int(S[i])*(1/(2**(i-8)))\n",
        "    return s*m*2**e\n",
        "number32(\"00111110001000000000001000010000\")"
      ]
    },
    {
      "cell_type": "code",
      "execution_count": 27,
      "id": "155ffd7f",
      "metadata": {
        "colab": {
          "base_uri": "https://localhost:8080/"
        },
        "id": "155ffd7f",
        "outputId": "6c8b86bf-546f-43e3-953e-0bd7d46f0d38"
      },
      "outputs": [
        {
          "output_type": "stream",
          "name": "stdout",
          "text": [
            "La función no ha sido definda o el numero de argumento no es el adecuado\n"
          ]
        }
      ],
      "source": [
        "%run -i {path}/Act_02/test02.py"
      ]
    },
    {
      "cell_type": "markdown",
      "id": "d11e596d",
      "metadata": {
        "id": "d11e596d"
      },
      "source": [
        "### Activity 3.0:\n",
        "1. Write a python script that calculates the double precision number represented by a 64-bits binary.\n",
        "\n",
        "the name of function should be:\n",
        "```\n",
        "number64(BIN):\n",
        "\n",
        "```\n",
        "\n",
        "2. What is the number represented by:\n",
        "\n",
        "BIN=\"0 10000000011 1011100100001111111111111111111111111111111111111111\""
      ]
    },
    {
      "cell_type": "code",
      "execution_count": 39,
      "id": "b0922a1d",
      "metadata": {
        "colab": {
          "base_uri": "https://localhost:8080/"
        },
        "id": "b0922a1d",
        "outputId": "3901c872-9c29-4b44-a37c-243b46e610ba"
      },
      "outputs": [
        {
          "output_type": "execute_result",
          "data": {
            "text/plain": [
              "27.566406249999996"
            ]
          },
          "metadata": {},
          "execution_count": 39
        }
      ],
      "source": [
        "def number64(BIN):\n",
        "    S=BIN\n",
        "    s=(-1)**int(S[0])\n",
        "    e=0\n",
        "    for i in range(1, 12):\n",
        "        e+=int(S[12-i])*2**(i-1)\n",
        "    e-=1023\n",
        "    m=1\n",
        "    for i in range(12, len(S)):\n",
        "        m+=int(S[i])*(1/(2**(i-11)))\n",
        "    return s*m*2**e\n",
        "\n",
        "number64(\"0100000000111011100100001111111111111111111111111111111111111111\")"
      ]
    },
    {
      "cell_type": "code",
      "execution_count": 36,
      "id": "cd48a992",
      "metadata": {
        "scrolled": false,
        "colab": {
          "base_uri": "https://localhost:8080/",
          "height": 106
        },
        "id": "cd48a992",
        "outputId": "84971f22-d096-4981-8260-e1f0c3110b16"
      },
      "outputs": [
        {
          "output_type": "error",
          "ename": "SyntaxError",
          "evalue": "unmatched ')' (test03.py, line 28)",
          "traceback": [
            "\u001b[0;36m  File \u001b[0;32m\"/content/autogrades/Actividades_clase/libs/Act_02/test03.py\"\u001b[0;36m, line \u001b[0;32m28\u001b[0m\n\u001b[0;31m    True)\u001b[0m\n\u001b[0m        ^\u001b[0m\n\u001b[0;31mSyntaxError\u001b[0m\u001b[0;31m:\u001b[0m unmatched ')'\n"
          ]
        }
      ],
      "source": [
        "%run -i {path}/Act_02/test03.py"
      ]
    }
  ],
  "metadata": {
    "kernelspec": {
      "display_name": "Python 3 (ipykernel)",
      "language": "python",
      "name": "python3"
    },
    "language_info": {
      "codemirror_mode": {
        "name": "ipython",
        "version": 3
      },
      "file_extension": ".py",
      "mimetype": "text/x-python",
      "name": "python",
      "nbconvert_exporter": "python",
      "pygments_lexer": "ipython3",
      "version": "3.10.9"
    },
    "colab": {
      "provenance": []
    }
  },
  "nbformat": 4,
  "nbformat_minor": 5
}