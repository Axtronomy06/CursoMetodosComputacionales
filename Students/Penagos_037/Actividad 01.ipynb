{
 "cells": [
  {
   "cell_type": "code",
   "execution_count": 21,
   "id": "7f4115eb",
   "metadata": {},
   "outputs": [
    {
     "name": "stdout",
     "output_type": "stream",
     "text": [
      "Por favor, ingrese el número a\n",
      "5\n",
      "Por favor, ingrese el número b\n",
      "3\n",
      "El cociente es 1.6666666666666667\n",
      "El módulo es 2.0\n"
     ]
    }
   ],
   "source": [
    "# Ejercicio 1\n",
    "a=float(input(\"Por favor, ingrese el número a\\n\"))\n",
    "b=float(input(\"Por favor, ingrese el número b\\n\"))\n",
    "\n",
    "print(f\"El cociente es {a/b}\")\n",
    "print(f\"El módulo es {a%b}\")\n"
   ]
  },
  {
   "cell_type": "code",
   "execution_count": 12,
   "id": "e3e6b432",
   "metadata": {},
   "outputs": [
    {
     "name": "stdout",
     "output_type": "stream",
     "text": [
      "15\n",
      "48\n",
      "105\n",
      "384\n"
     ]
    }
   ],
   "source": [
    "# Ejercicio 2\n",
    "def doble_factorial(n):\n",
    "    r=1\n",
    "    for i in range(1,n+1):\n",
    "        if i%2==n%2:\n",
    "            r*=i\n",
    "    return r\n",
    "\n",
    "print(doble_factorial(5))\n",
    "print(doble_factorial(6))\n",
    "print(doble_factorial(7))\n",
    "print(doble_factorial(8))"
   ]
  },
  {
   "cell_type": "code",
   "execution_count": 19,
   "id": "762ee2e0",
   "metadata": {},
   "outputs": [
    {
     "name": "stdout",
     "output_type": "stream",
     "text": [
      "[2, 1, 3]\n",
      "[2, 1, 3, 4, 7, 11, 18, 29, 47]\n",
      "[2, 1, 3, 4, 7, 11, 18, 29, 47, 76]\n",
      "[2, 1, 3, 4, 7, 11, 18, 29, 47, 76, 123]\n"
     ]
    }
   ],
   "source": [
    "# Ejercicio 3\n",
    "def lucas(n):\n",
    "    l=[2,1]\n",
    "    while True:\n",
    "        if len(l)>=n:\n",
    "            break\n",
    "        l.append(l[-1]+l[-2])\n",
    "    return l[:n]\n",
    "\n",
    "print(lucas(3))\n",
    "print(lucas(9))\n",
    "print(lucas(10))\n",
    "print(lucas(11))"
   ]
  },
  {
   "cell_type": "code",
   "execution_count": 20,
   "id": "13d14d4b",
   "metadata": {},
   "outputs": [
    {
     "name": "stdout",
     "output_type": "stream",
     "text": [
      "10.0\n"
     ]
    }
   ],
   "source": [
    "# Ejercicio 4\n",
    "def factorial(n):\n",
    "    r=1\n",
    "    for i in range(1,n+1):\n",
    "        r*=i\n",
    "    return r\n",
    "\n",
    "def coef_binomial(n,k):\n",
    "    return factorial(n)/(factorial(k)*factorial(n-k))\n",
    "\n",
    "print(coef_binomial(5,3))"
   ]
  }
 ],
 "metadata": {
  "kernelspec": {
   "display_name": "Python 3 (ipykernel)",
   "language": "python",
   "name": "python3"
  },
  "language_info": {
   "codemirror_mode": {
    "name": "ipython",
    "version": 3
   },
   "file_extension": ".py",
   "mimetype": "text/x-python",
   "name": "python",
   "nbconvert_exporter": "python",
   "pygments_lexer": "ipython3",
   "version": "3.9.12"
  }
 },
 "nbformat": 4,
 "nbformat_minor": 5
}
