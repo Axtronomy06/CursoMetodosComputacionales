{
 "cells": [
  {
   "cell_type": "code",
   "execution_count": 93,
   "metadata": {
    "executionInfo": {
     "elapsed": 257,
     "status": "ok",
     "timestamp": 1694092576515,
     "user": {
      "displayName": "SAMUEL RAMIREZ GARCIA",
      "userId": "08006893937995727423"
     },
     "user_tz": 300
    },
    "id": "6E4MXS89jVGs"
   },
   "outputs": [],
   "source": [
    "from scipy import optimize\n",
    "\n",
    "epsi=1E-6\n",
    "Mnite=10\n",
    "ite=0\n",
    "x0=7\n",
    "\n",
    "def f(x0):\n",
    "#f = lambda x0: (x0**2)-11\n",
    "  g=(x0**2)-11\n",
    "  return g\n",
    "\n",
    "def fp(x0):\n",
    "#fp = lambda x0: 2*x0\n",
    "  gp=2*x0\n",
    "  return gp\n",
    "\n",
    "def newton(x0, f, fp, epsi,Mnite,ite):\n",
    "  type(f)\n",
    "  while ((abs(f(x0))>=epsi) and ite<=Mnite):\n",
    "    x1=x0-(f(x0)/fp(x0))\n",
    "    x0=x1\n",
    "    ite=ite+1\n",
    "\n",
    "  return x1"
   ]
  },
  {
   "cell_type": "code",
   "execution_count": 94,
   "metadata": {
    "colab": {
     "base_uri": "https://localhost:8080/"
    },
    "executionInfo": {
     "elapsed": 7,
     "status": "ok",
     "timestamp": 1694092576730,
     "user": {
      "displayName": "SAMUEL RAMIREZ GARCIA",
      "userId": "08006893937995727423"
     },
     "user_tz": 300
    },
    "id": "w5Mr4BjZluBQ",
    "outputId": "c73dfaf7-5209-441b-eac3-d858bfa865ec"
   },
   "outputs": [
    {
     "data": {
      "text/plain": [
       "3.3166247903554322"
      ]
     },
     "execution_count": 94,
     "metadata": {},
     "output_type": "execute_result"
    }
   ],
   "source": [
    "newton(x0,f,fp,epsi,Mnite,ite)"
   ]
  },
  {
   "cell_type": "code",
   "execution_count": 95,
   "metadata": {
    "colab": {
     "base_uri": "https://localhost:8080/"
    },
    "executionInfo": {
     "elapsed": 6,
     "status": "ok",
     "timestamp": 1694092576731,
     "user": {
      "displayName": "SAMUEL RAMIREZ GARCIA",
      "userId": "08006893937995727423"
     },
     "user_tz": 300
    },
    "id": "cHEm-J2jvk2R",
    "outputId": "648ab486-1a2f-4699-c8aa-ab23aaad1dc8"
   },
   "outputs": [
    {
     "data": {
      "text/plain": [
       "3.3166247903554"
      ]
     },
     "execution_count": 95,
     "metadata": {},
     "output_type": "execute_result"
    }
   ],
   "source": [
    "x0_=optimize.newton(f,7,fp)\n",
    "x0_"
   ]
  }
 ],
 "metadata": {
  "colab": {
   "authorship_tag": "ABX9TyOrXNMbDzXFNjscJmC6m0DP",
   "provenance": []
  },
  "kernelspec": {
   "display_name": "Python 3 (ipykernel)",
   "language": "python",
   "name": "python3"
  },
  "language_info": {
   "codemirror_mode": {
    "name": "ipython",
    "version": 3
   },
   "file_extension": ".py",
   "mimetype": "text/x-python",
   "name": "python",
   "nbconvert_exporter": "python",
   "pygments_lexer": "ipython3",
   "version": "3.10.9"
  }
 },
 "nbformat": 4,
 "nbformat_minor": 1
}
