{
 "cells": [
  {
   "cell_type": "code",
   "execution_count": null,
   "metadata": {
    "id": "1kr5JGG5fxnx"
   },
   "outputs": [],
   "source": [
    "import numpy as np\n",
    "import matplotlib.pyplot as plt\n",
    "from scipy import linalg\n",
    "from numpy.lib.function_base import append"
   ]
  },
  {
   "cell_type": "code",
   "execution_count": null,
   "metadata": {
    "id": "lHO2C0u3gaM8"
   },
   "outputs": [],
   "source": [
    "A=np.matrix([[ 1,  2, -3,  4,  5],\n",
    "             [-2, -5,  8, -8, -9],\n",
    "             [ 1,  2, -2,  7,  9],\n",
    "             [ 1,  1,  0,  6, 12],\n",
    "             [ 2,  4, -6,  8, 11]])\n",
    "\n",
    "B=np.matrix([[47,49,-19,257,487],\n",
    "             [10,-9,63,137,236],\n",
    "             [79,142,-184,372,536],\n",
    "             [59,70,-40,332,588]])\n",
    "\n",
    "AI=(np.linalg.inv(A))"
   ]
  },
  {
   "cell_type": "code",
   "execution_count": null,
   "metadata": {
    "colab": {
     "base_uri": "https://localhost:8080/"
    },
    "id": "SuQM24-ZpqwD",
    "outputId": "000ce1d5-9912-4f4f-ca44-08cfeb941dc9"
   },
   "outputs": [
    {
     "data": {
      "text/plain": [
       "array([[ 1.,  0.,  0.,  0.,  0.],\n",
       "       [ 0.,  1.,  0.,  0.,  0.],\n",
       "       [-0.,  0.,  1., -0.,  0.],\n",
       "       [-0.,  0., -0.,  1.,  0.],\n",
       "       [-0.,  0.,  0.,  0.,  1.]])"
      ]
     },
     "execution_count": 6,
     "metadata": {},
     "output_type": "execute_result"
    }
   ],
   "source": [
    "P=A*AI\n",
    "P.round(1)"
   ]
  },
  {
   "cell_type": "code",
   "execution_count": null,
   "metadata": {
    "id": "Yo3QZ-VyhP0X"
   },
   "outputs": [],
   "source": [
    "C=B*AI\n",
    "Men=C%27\n",
    "Men=Men.round(1)"
   ]
  },
  {
   "cell_type": "code",
   "execution_count": null,
   "metadata": {
    "colab": {
     "base_uri": "https://localhost:8080/"
    },
    "id": "UR1ZsHumyoWa",
    "outputId": "abad5ef2-6b36-4612-8cbc-844ef84ea0da"
   },
   "outputs": [
    {
     "name": "stdout",
     "output_type": "stream",
     "text": [
      "ARE YOU HAVING FUN  \n"
     ]
    }
   ],
   "source": [
    "Letras=\"ABCDEFGHIJKLMNOPQRSTUVWXYZ \"\n",
    "\n",
    "l=len(Letras)\n",
    "\n",
    "Mensaje=\"\"\n",
    "\n",
    "m,n=np.shape(Men)\n",
    "for i in range(0,np.shape(Men)[0]):\n",
    "  for p in range(0,np.shape(Men)[1]):\n",
    "    for g in range(0,len(Letras)+1):\n",
    "\n",
    "      if Men[i][p]==g:\n",
    "        Mensaje=Mensaje+Letras[g-1]\n",
    "print(Mensaje)"
   ]
  },
  {
   "cell_type": "code",
   "execution_count": null,
   "metadata": {
    "id": "nRSd46qToCqx"
   },
   "outputs": [],
   "source": [
    "N = 10\n",
    "theta=0\n",
    "x1 = np.linspace(0, 10, N)\n",
    "\n",
    "noise=2*np.random.random(N)-1\n",
    "\n",
    "y = 0.9*x1 + noise\n",
    "\n",
    "X=np.matrix([[1,0],\n",
    "             [1,1],\n",
    "             [1,2],\n",
    "             [1,3],\n",
    "             [1,4],\n",
    "             [1,5],\n",
    "             [1,6],\n",
    "             [1,7],\n",
    "             [1,8],\n",
    "             [1,10],])\n",
    "\n",
    "Y=np.transpose(np.matrix(([y])))\n",
    "\n",
    "tX=np.transpose(X)\n",
    "\n",
    "theta=linalg.inv(tX*X)*tX*Y"
   ]
  },
  {
   "cell_type": "code",
   "execution_count": null,
   "metadata": {
    "id": "bReG9v5kwWBb"
   },
   "outputs": [],
   "source": [
    "uno=np.ones(len(x1))\n",
    "\n",
    "X_=(([uno],[x1]))\n",
    "X=np.transpose(X_)\n",
    "\n",
    "Y_=np.matrix(([y]))\n",
    "Y=np.transpose(Y_)\n",
    "\n",
    "def regre(X,Y):\n",
    "  theta=linalg.inv(tX*X)*tX*Y\n",
    "  print(\"La matriz Theta vale:\",theta)"
   ]
  },
  {
   "cell_type": "code",
   "execution_count": null,
   "metadata": {
    "colab": {
     "base_uri": "https://localhost:8080/"
    },
    "id": "n24lTfGK6Bdz",
    "outputId": "62fc76c0-2ae3-4203-c439-66a86e4dd23c"
   },
   "outputs": [
    {
     "name": "stdout",
     "output_type": "stream",
     "text": [
      "La matriz Theta vale: [[0.44373284]\n",
      " [0.81540483]]\n"
     ]
    }
   ],
   "source": [
    "regre(X,Y)"
   ]
  }
 ],
 "metadata": {
  "colab": {
   "provenance": []
  },
  "kernelspec": {
   "display_name": "Python 3 (ipykernel)",
   "language": "python",
   "name": "python3"
  },
  "language_info": {
   "codemirror_mode": {
    "name": "ipython",
    "version": 3
   },
   "file_extension": ".py",
   "mimetype": "text/x-python",
   "name": "python",
   "nbconvert_exporter": "python",
   "pygments_lexer": "ipython3",
   "version": "3.10.9"
  }
 },
 "nbformat": 4,
 "nbformat_minor": 1
}
