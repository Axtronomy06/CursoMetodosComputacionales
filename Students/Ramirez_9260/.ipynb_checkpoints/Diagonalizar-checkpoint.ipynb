{
 "cells": [
  {
   "cell_type": "code",
   "execution_count": null,
   "metadata": {
    "id": "Z_qMcAPsvQoG"
   },
   "outputs": [],
   "source": [
    "import numpy as np\n",
    "import scipy as scp\n",
    "import sympy as sp\n",
    "import matplotlib.pyplot as plt\n",
    "from scipy import linalg"
   ]
  },
  {
   "cell_type": "code",
   "execution_count": null,
   "metadata": {
    "id": "FU03h_iLvVoI"
   },
   "outputs": [],
   "source": [
    "A=np.matrix(([1,-2],\n",
    "             [-2,3],))"
   ]
  },
  {
   "cell_type": "code",
   "execution_count": null,
   "metadata": {
    "id": "jWsHEV9Svm0o"
   },
   "outputs": [],
   "source": [
    "Ap=np.poly(A)          #Polinomio caracteristico\n",
    "\n",
    "Pa,Pe=np.linalg.eig(A) #Autovalores y autovectores\n",
    "\n",
    "Pei=linalg.inv(Pe).round(1)"
   ]
  },
  {
   "cell_type": "code",
   "execution_count": null,
   "metadata": {
    "colab": {
     "base_uri": "https://localhost:8080/"
    },
    "id": "DktKk6tH05hi",
    "outputId": "84826037-1c9b-45a8-ed03-92bf398b91fd"
   },
   "outputs": [
    {
     "data": {
      "text/plain": [
       "array([[-0.2, -0.2],\n",
       "       [-0. ,  4.4]])"
      ]
     },
     "execution_count": 111,
     "metadata": {},
     "output_type": "execute_result"
    }
   ],
   "source": [
    "(Pei*A*Pe).round(1)"
   ]
  },
  {
   "cell_type": "code",
   "execution_count": null,
   "metadata": {
    "id": "1pgfQZjm8tZW"
   },
   "outputs": [],
   "source": [
    "λu,λd=Pa\n"
   ]
  }
 ],
 "metadata": {
  "colab": {
   "provenance": []
  },
  "kernelspec": {
   "display_name": "Python 3 (ipykernel)",
   "language": "python",
   "name": "python3"
  },
  "language_info": {
   "codemirror_mode": {
    "name": "ipython",
    "version": 3
   },
   "file_extension": ".py",
   "mimetype": "text/x-python",
   "name": "python",
   "nbconvert_exporter": "python",
   "pygments_lexer": "ipython3",
   "version": "3.10.9"
  }
 },
 "nbformat": 4,
 "nbformat_minor": 1
}
