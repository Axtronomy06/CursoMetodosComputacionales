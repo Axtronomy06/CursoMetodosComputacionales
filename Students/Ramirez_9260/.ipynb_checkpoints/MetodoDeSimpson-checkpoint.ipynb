{
 "cells": [
  {
   "cell_type": "code",
   "execution_count": null,
   "metadata": {
    "id": "uLCrzizW4bzN"
   },
   "outputs": [],
   "source": [
    "import scipy\n",
    "import sympy as sp\n",
    "import numpy as np\n",
    "import matplotlib.pyplot as plt\n",
    "\n",
    "a=0\n",
    "b=1\n",
    "N=10000000\n",
    "x=np.linspace(a,b,N)\n",
    "h=x[1]-x[0]\n",
    "xp=x[2:N-2:2]\n",
    "xi=x[1:N-1:2]"
   ]
  },
  {
   "cell_type": "code",
   "execution_count": null,
   "metadata": {
    "id": "Z1iGGMAU4pKh"
   },
   "outputs": [],
   "source": [
    "def fun(x):\n",
    "  return x**2"
   ]
  },
  {
   "cell_type": "code",
   "execution_count": null,
   "metadata": {
    "id": "2QTQZOviDHna"
   },
   "outputs": [],
   "source": [
    "sump=fun(xp).sum()\n",
    "sumi=fun(xi).sum()"
   ]
  },
  {
   "cell_type": "code",
   "execution_count": null,
   "metadata": {
    "id": "KtVwxHm58Z15"
   },
   "outputs": [],
   "source": [
    "def simpcom(x):\n",
    "  return (h/3)*(fun(a)+2*(sump)+4*(sumi)+fun(b))"
   ]
  },
  {
   "cell_type": "code",
   "execution_count": null,
   "metadata": {
    "colab": {
     "base_uri": "https://localhost:8080/"
    },
    "id": "uWw5FToD5ZgR",
    "outputId": "341493e7-b470-4a9a-ce01-15caa88e372e"
   },
   "outputs": [
    {
     "data": {
      "text/plain": [
       "0.3333332333333398"
      ]
     },
     "execution_count": 13,
     "metadata": {},
     "output_type": "execute_result"
    }
   ],
   "source": [
    "simpcom(x)"
   ]
  },
  {
   "cell_type": "code",
   "execution_count": null,
   "metadata": {
    "colab": {
     "base_uri": "https://localhost:8080/"
    },
    "id": "UQ0RQRobLKxK",
    "outputId": "3da129fa-8e7b-46c2-e655-bfa25fd929fa"
   },
   "outputs": [
    {
     "data": {
      "text/plain": [
       "0.3333333333333336"
      ]
     },
     "execution_count": 14,
     "metadata": {},
     "output_type": "execute_result"
    }
   ],
   "source": [
    "scipy.integrate.simps(fun(x),x)"
   ]
  },
  {
   "cell_type": "code",
   "execution_count": null,
   "metadata": {
    "colab": {
     "base_uri": "https://localhost:8080/"
    },
    "id": "y2kvzIzxKs_b",
    "outputId": "bba9c17b-17bd-41aa-aedd-087d5fa5f99c"
   },
   "outputs": [
    {
     "data": {
      "text/plain": [
       "0.33333333333333337"
      ]
     },
     "execution_count": 15,
     "metadata": {},
     "output_type": "execute_result"
    }
   ],
   "source": [
    "inteq, einte=scipy.integrate.quad(fun,a,b)\n",
    "inteq"
   ]
  }
 ],
 "metadata": {
  "colab": {
   "provenance": []
  },
  "kernelspec": {
   "display_name": "Python 3 (ipykernel)",
   "language": "python",
   "name": "python3"
  },
  "language_info": {
   "codemirror_mode": {
    "name": "ipython",
    "version": 3
   },
   "file_extension": ".py",
   "mimetype": "text/x-python",
   "name": "python",
   "nbconvert_exporter": "python",
   "pygments_lexer": "ipython3",
   "version": "3.10.9"
  }
 },
 "nbformat": 4,
 "nbformat_minor": 1
}
