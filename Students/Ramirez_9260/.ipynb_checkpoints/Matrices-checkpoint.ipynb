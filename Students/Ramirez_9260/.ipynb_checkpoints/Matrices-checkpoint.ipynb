{
 "cells": [
  {
   "cell_type": "code",
   "execution_count": null,
   "metadata": {
    "id": "uMQYnwTq6iCn"
   },
   "outputs": [],
   "source": [
    "import numpy as np\n",
    "import matplotlib.pyplot as plt\n",
    "\n",
    "from scipy import linalg\n"
   ]
  },
  {
   "cell_type": "code",
   "execution_count": null,
   "metadata": {
    "id": "0GKuvyv76zCU"
   },
   "outputs": [],
   "source": [
    "the=np.deg2rad(90)\n",
    "\n",
    "R=np.matrix([[np.sin(the),-np.sin(the)],\n",
    "              [np.sin(the),np.cos(the)]])\n",
    "\n",
    "V=np.matrix([1,1])"
   ]
  },
  {
   "cell_type": "code",
   "execution_count": null,
   "metadata": {
    "id": "CTpJsiKWL8cE"
   },
   "outputs": [],
   "source": [
    "def rota(V,R):\n",
    "  return V*R"
   ]
  },
  {
   "cell_type": "code",
   "execution_count": null,
   "metadata": {
    "id": "6BPUCYzyMDAt"
   },
   "outputs": [],
   "source": [
    "a=rota(V,R)[0,0]\n",
    "b=rota(V,R)[0,1]"
   ]
  },
  {
   "cell_type": "code",
   "execution_count": null,
   "metadata": {
    "id": "AIDFclTJM1_O"
   },
   "outputs": [],
   "source": [
    "Vax_=np.linspace(0,1,100)\n",
    "Vay_=np.linspace(0,1,100)\n",
    "Vdx_=np.linspace(0,a,100)\n",
    "Vdy_=np.linspace(0,b,100)"
   ]
  },
  {
   "cell_type": "code",
   "execution_count": null,
   "metadata": {
    "colab": {
     "base_uri": "https://localhost:8080/",
     "height": 448
    },
    "id": "6gNIH3AuNaMF",
    "outputId": "9176fad5-1e96-48d3-fb05-482bbb1672bf"
   },
   "outputs": [
    {
     "data": {
      "text/plain": [
       "<matplotlib.quiver.Quiver at 0x795af478fe50>"
      ]
     },
     "execution_count": 245,
     "metadata": {},
     "output_type": "execute_result"
    },
    {
     "data": {
      "image/png": "[encoded data removed]",
      "text/plain": [
       "<Figure size 640x480 with 1 Axes>"
      ]
     },
     "metadata": {},
     "output_type": "display_data"
    }
   ],
   "source": [
    "plt.quiver(0,0,V[0,0],V[0,1],scale=10,color=\"r\")\n",
    "plt.quiver(0,0,a,b,scale=10,color=\"b\")"
   ]
  }
 ],
 "metadata": {
  "colab": {
   "provenance": []
  },
  "kernelspec": {
   "display_name": "Python 3 (ipykernel)",
   "language": "python",
   "name": "python3"
  },
  "language_info": {
   "codemirror_mode": {
    "name": "ipython",
    "version": 3
   },
   "file_extension": ".py",
   "mimetype": "text/x-python",
   "name": "python",
   "nbconvert_exporter": "python",
   "pygments_lexer": "ipython3",
   "version": "3.10.9"
  }
 },
 "nbformat": 4,
 "nbformat_minor": 1
}
