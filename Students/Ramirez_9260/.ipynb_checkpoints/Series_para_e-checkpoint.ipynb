{
 "cells": [
  {
   "cell_type": "markdown",
   "metadata": {
    "id": "w35CQ0txW7I7"
   },
   "source": [
    "\n",
    "\n"
   ]
  },
  {
   "cell_type": "markdown",
   "metadata": {
    "id": "2ZZIx3oobL5t"
   },
   "source": [
    "\\begin{equation}\n",
    "e^{-x}=\\sum_{n=0}^{N}  (-1)^n \\frac{x^{n}}{n!}\n",
    "\\end{equation}\n"
   ]
  },
  {
   "cell_type": "code",
   "execution_count": 1,
   "metadata": {
    "executionInfo": {
     "elapsed": 409,
     "status": "ok",
     "timestamp": 1693916256531,
     "user": {
      "displayName": "SAMUEL RAMIREZ GARCIA",
      "userId": "08006893937995727423"
     },
     "user_tz": 300
    },
    "id": "TfPl8Z_hIOOi"
   },
   "outputs": [],
   "source": [
    "import numpy as np\n",
    "import math as mt\n",
    "#from math import e\n",
    "\n",
    "#e = e\n",
    "def serie(x,n):\n",
    "  et=0\n",
    "  for i in range(n):\n",
    "\n",
    "    xn=((-1)**i)*(x**i)/mt.factorial(i)\n",
    "    et=xn+et\n",
    "  return et"
   ]
  },
  {
   "cell_type": "code",
   "execution_count": 2,
   "metadata": {
    "colab": {
     "base_uri": "https://localhost:8080/"
    },
    "executionInfo": {
     "elapsed": 19,
     "status": "ok",
     "timestamp": 1693916257028,
     "user": {
      "displayName": "SAMUEL RAMIREZ GARCIA",
      "userId": "08006893937995727423"
     },
     "user_tz": 300
    },
    "id": "MnHU7-tKSFFR",
    "outputId": "4fd5282b-3b74-444c-ddbe-0750d0fd1c25"
   },
   "outputs": [
    {
     "data": {
      "text/plain": [
       "0.9048374180359596"
      ]
     },
     "execution_count": 2,
     "metadata": {},
     "output_type": "execute_result"
    }
   ],
   "source": [
    "serie(0.1,100)"
   ]
  },
  {
   "cell_type": "code",
   "execution_count": 3,
   "metadata": {
    "colab": {
     "base_uri": "https://localhost:8080/"
    },
    "executionInfo": {
     "elapsed": 14,
     "status": "ok",
     "timestamp": 1693916257028,
     "user": {
      "displayName": "SAMUEL RAMIREZ GARCIA",
      "userId": "08006893937995727423"
     },
     "user_tz": 300
    },
    "id": "OEfolmV5SZHi",
    "outputId": "2e1ec471-86cf-4df7-a584-73f25959388f"
   },
   "outputs": [
    {
     "data": {
      "text/plain": [
       "1.1102230246251565e-16"
      ]
     },
     "execution_count": 3,
     "metadata": {},
     "output_type": "execute_result"
    }
   ],
   "source": [
    "-np.exp(-0.1)+serie(0.1,100)"
   ]
  },
  {
   "cell_type": "markdown",
   "metadata": {
    "id": "NTsP-_Eia60F"
   },
   "source": [
    "\\begin{equation}\n",
    "\\mathrm{S}_N^{(1)} = \\sum_{n = 1}^{2N} (-1)^n \\frac{n}{n+1}\n",
    "\\end{equation}\n"
   ]
  },
  {
   "cell_type": "code",
   "execution_count": 19,
   "metadata": {
    "executionInfo": {
     "elapsed": 460,
     "status": "ok",
     "timestamp": 1693917353665,
     "user": {
      "displayName": "SAMUEL RAMIREZ GARCIA",
      "userId": "08006893937995727423"
     },
     "user_tz": 300
    },
    "id": "rNrRg8n5WzEF"
   },
   "outputs": [],
   "source": [
    "def s1(n):\n",
    "  s1t=0\n",
    "  for i in range(1,2*n):\n",
    "    sn1=((-1)**i)*(i/(i+1))\n",
    "    s1t=sn1+s1t\n",
    "  return s1t"
   ]
  },
  {
   "cell_type": "code",
   "execution_count": 20,
   "metadata": {
    "colab": {
     "base_uri": "https://localhost:8080/"
    },
    "executionInfo": {
     "elapsed": 717,
     "status": "ok",
     "timestamp": 1693917356037,
     "user": {
      "displayName": "SAMUEL RAMIREZ GARCIA",
      "userId": "08006893937995727423"
     },
     "user_tz": 300
    },
    "id": "nWWgjaYyXe2a",
    "outputId": "e211b74c-3cb5-4f74-a056-d73bc36e51cc"
   },
   "outputs": [
    {
     "data": {
      "text/plain": [
       "-0.6345238095238096"
      ]
     },
     "execution_count": 20,
     "metadata": {},
     "output_type": "execute_result"
    }
   ],
   "source": [
    "s1(4)"
   ]
  },
  {
   "cell_type": "markdown",
   "metadata": {
    "id": "RR8TObucbE4c"
   },
   "source": [
    "\n",
    "\\begin{equation}\n",
    "\\mathrm{S}_N^{(2)} = -\\sum_{n = 1}^{N}\\frac{2n-1}{2n} + \\sum_{n=1}^{N} \\frac{2n}{2n+1}\n",
    "\\end{equation}"
   ]
  },
  {
   "cell_type": "code",
   "execution_count": 6,
   "metadata": {
    "executionInfo": {
     "elapsed": 13,
     "status": "ok",
     "timestamp": 1693916257031,
     "user": {
      "displayName": "SAMUEL RAMIREZ GARCIA",
      "userId": "08006893937995727423"
     },
     "user_tz": 300
    },
    "id": "b3BL0CeEXxTi"
   },
   "outputs": [],
   "source": [
    "def s2(n):\n",
    "  s2tp=0\n",
    "  s2ti=0\n",
    "  for i in range(1 ,n):\n",
    "    sn2p=((2*i)-1)/(2*i)\n",
    "    s2tp=sn2p+s2tp\n",
    "  print(-s2tp)\n",
    "  for i in range(1,n):\n",
    "    sn2i=(2*i)/((2*i)+1)\n",
    "    s2ti=sn2i+s2ti\n",
    "  print(s2ti)\n",
    "  return -s2tp+s2ti"
   ]
  },
  {
   "cell_type": "code",
   "execution_count": 7,
   "metadata": {
    "colab": {
     "base_uri": "https://localhost:8080/"
    },
    "executionInfo": {
     "elapsed": 12,
     "status": "ok",
     "timestamp": 1693916257031,
     "user": {
      "displayName": "SAMUEL RAMIREZ GARCIA",
      "userId": "08006893937995727423"
     },
     "user_tz": 300
    },
    "id": "O7D9U_XQYZK6",
    "outputId": "739482a5-5ebc-4dd6-befb-8d64933da592"
   },
   "outputs": [
    {
     "name": "stdout",
     "output_type": "stream",
     "text": [
      "-2.0833333333333335\n",
      "2.323809523809524\n"
     ]
    },
    {
     "data": {
      "text/plain": [
       "0.2404761904761905"
      ]
     },
     "execution_count": 7,
     "metadata": {},
     "output_type": "execute_result"
    }
   ],
   "source": [
    "s2(4)"
   ]
  },
  {
   "cell_type": "markdown",
   "metadata": {
    "id": "a2vv2_SIbAGm"
   },
   "source": [
    "\\begin{equation}\n",
    "\\mathrm{S}_N^{(3)} = \\sum_{n = 1}^{N}\\frac{1}{2n(2n+1)}\n",
    "\\end{equation}"
   ]
  },
  {
   "cell_type": "code",
   "execution_count": 8,
   "metadata": {
    "executionInfo": {
     "elapsed": 11,
     "status": "ok",
     "timestamp": 1693916257032,
     "user": {
      "displayName": "SAMUEL RAMIREZ GARCIA",
      "userId": "08006893937995727423"
     },
     "user_tz": 300
    },
    "id": "vlaOAdVOY67T"
   },
   "outputs": [],
   "source": [
    "def s3(n):\n",
    "  s3t=0\n",
    "  for i in range(1,n):\n",
    "    sn3=(1/(2*i*((2*i)+1)))\n",
    "    s3t=sn3+s3t\n",
    "  return s3t"
   ]
  },
  {
   "cell_type": "code",
   "execution_count": 9,
   "metadata": {
    "colab": {
     "base_uri": "https://localhost:8080/"
    },
    "executionInfo": {
     "elapsed": 10,
     "status": "ok",
     "timestamp": 1693916257032,
     "user": {
      "displayName": "SAMUEL RAMIREZ GARCIA",
      "userId": "08006893937995727423"
     },
     "user_tz": 300
    },
    "id": "_KIgXpKfZYNn",
    "outputId": "4acadddb-29e8-4d5a-94bf-9f3c0c6074db"
   },
   "outputs": [
    {
     "data": {
      "text/plain": [
       "0.24047619047619048"
      ]
     },
     "execution_count": 9,
     "metadata": {},
     "output_type": "execute_result"
    }
   ],
   "source": [
    "s3(4)"
   ]
  }
 ],
 "metadata": {
  "colab": {
   "authorship_tag": "ABX9TyOIHE3RtD3GF1aA7xoOaTUb",
   "provenance": []
  },
  "kernelspec": {
   "display_name": "Python 3 (ipykernel)",
   "language": "python",
   "name": "python3"
  },
  "language_info": {
   "codemirror_mode": {
    "name": "ipython",
    "version": 3
   },
   "file_extension": ".py",
   "mimetype": "text/x-python",
   "name": "python",
   "nbconvert_exporter": "python",
   "pygments_lexer": "ipython3",
   "version": "3.10.9"
  }
 },
 "nbformat": 4,
 "nbformat_minor": 1
}
