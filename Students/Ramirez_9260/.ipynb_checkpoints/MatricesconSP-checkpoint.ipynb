{
 "cells": [
  {
   "cell_type": "code",
   "execution_count": null,
   "metadata": {
    "id": "7v5sj92QST5F"
   },
   "outputs": [],
   "source": [
    "import numpy as np\n",
    "import sympy as sp\n",
    "import scipy as scp"
   ]
  },
  {
   "cell_type": "code",
   "execution_count": null,
   "metadata": {
    "id": "NOQBvfmfSfuw"
   },
   "outputs": [],
   "source": [
    "Bz=sp.symbols(\"Bz\")\n",
    "Bx=sp.symbols(\"Bx\")\n",
    "By=sp.symbols(\"By\")"
   ]
  },
  {
   "cell_type": "code",
   "execution_count": null,
   "metadata": {
    "id": "zB3T2AbhX6mA"
   },
   "outputs": [],
   "source": []
  },
  {
   "cell_type": "code",
   "execution_count": null,
   "metadata": {
    "colab": {
     "base_uri": "https://localhost:8080/",
     "height": 58
    },
    "id": "znQiZR8ET9RB",
    "outputId": "7074e58c-28b3-48ad-8c1a-a1ed8fa91df0"
   },
   "outputs": [
    {
     "data": {
      "text/latex": [
       "$\\displaystyle \\left[\\begin{matrix}Bz & Bx - 1.0 i Bz\\\\Bx + 1.0 i Bz & - Bz\\end{matrix}\\right]$"
      ],
      "text/plain": [
       "Matrix([\n",
       "[           Bz, Bx - 1.0*I*Bz],\n",
       "[Bx + 1.0*I*Bz,           -Bz]])"
      ]
     },
     "execution_count": 10,
     "metadata": {},
     "output_type": "execute_result"
    }
   ],
   "source": [
    "H = sp.Matrix([[Bz,Bx-1j*Bz],[Bx+1j*Bz,-Bz]])\n",
    "H"
   ]
  }
 ],
 "metadata": {
  "colab": {
   "provenance": []
  },
  "kernelspec": {
   "display_name": "Python 3 (ipykernel)",
   "language": "python",
   "name": "python3"
  },
  "language_info": {
   "codemirror_mode": {
    "name": "ipython",
    "version": 3
   },
   "file_extension": ".py",
   "mimetype": "text/x-python",
   "name": "python",
   "nbconvert_exporter": "python",
   "pygments_lexer": "ipython3",
   "version": "3.10.9"
  }
 },
 "nbformat": 4,
 "nbformat_minor": 1
}
