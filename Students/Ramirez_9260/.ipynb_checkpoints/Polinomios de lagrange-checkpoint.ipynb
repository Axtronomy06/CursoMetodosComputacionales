{
 "cells": [
  {
   "cell_type": "code",
   "execution_count": 112,
   "metadata": {
    "executionInfo": {
     "elapsed": 161,
     "status": "ok",
     "timestamp": 1695736336971,
     "user": {
      "displayName": "SAMUEL RAMIREZ GARCIA",
      "userId": "08006893937995727423"
     },
     "user_tz": 300
    },
    "id": "_S666qKhbPvW"
   },
   "outputs": [],
   "source": [
    "import numpy as np\n",
    "import sympy as sp\n",
    "\n",
    "xp = np.array([2,5,6])\n",
    "f = np.array([4,1,2 ])\n",
    "fx=sp.Symbol(\"fx\")\n",
    "x = sp.Symbol(\"x\")\n",
    "j=0\n",
    "xj=4\n",
    "\n",
    "def productoria(xp):\n",
    "  Lin=1\n",
    "  for i in range(len(xp)):\n",
    "    Li=(x-xp[i])/(xj-xp[i])\n",
    "    Lin=Li*Lin\n",
    "  return(Lin)\n",
    "\n"
   ]
  },
  {
   "cell_type": "code",
   "execution_count": 113,
   "metadata": {
    "colab": {
     "base_uri": "https://localhost:8080/",
     "height": 48
    },
    "executionInfo": {
     "elapsed": 14,
     "status": "ok",
     "timestamp": 1695736337380,
     "user": {
      "displayName": "SAMUEL RAMIREZ GARCIA",
      "userId": "08006893937995727423"
     },
     "user_tz": 300
    },
    "id": "UmnhvzoelRQX",
    "outputId": "9e6fade4-c22c-4f86-f2ca-f8e90ae40de0"
   },
   "outputs": [
    {
     "data": {
      "text/latex": [
       "$\\displaystyle \\left(3 - \\frac{x}{2}\\right) \\left(5 - x\\right) \\left(\\frac{x}{2} - 1\\right)$"
      ],
      "text/plain": [
       "(3 - x/2)*(5 - x)*(x/2 - 1)"
      ]
     },
     "execution_count": 113,
     "metadata": {},
     "output_type": "execute_result"
    }
   ],
   "source": [
    "productoria(xp)"
   ]
  },
  {
   "cell_type": "code",
   "execution_count": 116,
   "metadata": {
    "executionInfo": {
     "elapsed": 162,
     "status": "ok",
     "timestamp": 1695736356101,
     "user": {
      "displayName": "SAMUEL RAMIREZ GARCIA",
      "userId": "08006893937995727423"
     },
     "user_tz": 300
    },
    "id": "OwCQzpcxnTis"
   },
   "outputs": [],
   "source": [
    "x = sp.Symbol(\"x\")\n",
    "def Polino(xp,f):\n",
    "  Pi=0\n",
    "  for i in range(len(xp)):\n",
    "    print(i)\n",
    "    Pi+=f[i]*productoria(xp)\n",
    "    return(Pi)"
   ]
  },
  {
   "cell_type": "code",
   "execution_count": 117,
   "metadata": {
    "colab": {
     "base_uri": "https://localhost:8080/",
     "height": 65
    },
    "executionInfo": {
     "elapsed": 7,
     "status": "ok",
     "timestamp": 1695736357087,
     "user": {
      "displayName": "SAMUEL RAMIREZ GARCIA",
      "userId": "08006893937995727423"
     },
     "user_tz": 300
    },
    "id": "aMhLHBcGn157",
    "outputId": "4584e45b-f2ff-45a8-d599-c0b932e5b9d1"
   },
   "outputs": [
    {
     "name": "stdout",
     "output_type": "stream",
     "text": [
      "0\n"
     ]
    },
    {
     "data": {
      "text/latex": [
       "$\\displaystyle 4 \\cdot \\left(3 - \\frac{x}{2}\\right) \\left(5 - x\\right) \\left(\\frac{x}{2} - 1\\right)$"
      ],
      "text/plain": [
       "4*(3 - x/2)*(5 - x)*(x/2 - 1)"
      ]
     },
     "execution_count": 117,
     "metadata": {},
     "output_type": "execute_result"
    }
   ],
   "source": [
    "Polino(xp,f)"
   ]
  }
 ],
 "metadata": {
  "colab": {
   "authorship_tag": "ABX9TyOOxfBlqSEe5gMrnVf4vciV",
   "provenance": []
  },
  "kernelspec": {
   "display_name": "Python 3 (ipykernel)",
   "language": "python",
   "name": "python3"
  },
  "language_info": {
   "codemirror_mode": {
    "name": "ipython",
    "version": 3
   },
   "file_extension": ".py",
   "mimetype": "text/x-python",
   "name": "python",
   "nbconvert_exporter": "python",
   "pygments_lexer": "ipython3",
   "version": "3.10.9"
  }
 },
 "nbformat": 4,
 "nbformat_minor": 1
}
