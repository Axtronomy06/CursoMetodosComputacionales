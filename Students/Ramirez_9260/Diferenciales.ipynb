{
  "nbformat": 4,
  "nbformat_minor": 0,
  "metadata": {
    "colab": {
      "provenance": []
    },
    "kernelspec": {
      "name": "python3",
      "display_name": "Python 3"
    },
    "language_info": {
      "name": "python"
    }
  },
  "cells": [
    {
      "cell_type": "code",
      "execution_count": null,
      "metadata": {
        "id": "93MEhpSfDumH"
      },
      "outputs": [],
      "source": [
        "import numpy as np\n",
        "import scipy as sp\n",
        "\n",
        "N0=100\n",
        "λ=0.1\n",
        "dt=0.1\n",
        "a=0\n",
        "b=100\n",
        "N=0\n",
        "t=0"
      ]
    },
    {
      "cell_type": "code",
      "source": [
        "for i in range(a,b):\n",
        "  if t<b:\n",
        "    t=+dt\n",
        "    N0=N0-λ*dt*N0\n",
        "print(N0)"
      ],
      "metadata": {
        "colab": {
          "base_uri": "https://localhost:8080/"
        },
        "id": "1PpRLtpBJ0Va",
        "outputId": "0165f24e-3d40-4840-ab4d-8fae555f5935"
      },
      "execution_count": null,
      "outputs": [
        {
          "output_type": "stream",
          "name": "stdout",
          "text": [
            "36.60323412732297\n"
          ]
        }
      ]
    }
  ]
}