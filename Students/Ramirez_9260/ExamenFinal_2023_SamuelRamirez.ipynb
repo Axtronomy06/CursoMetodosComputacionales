{
 "cells": [
  {
   "cell_type": "code",
   "execution_count": 278,
   "metadata": {
    "id": "_5V7nghyJEfB"
   },
   "outputs": [],
   "source": [
    "from sympy import *\n",
    "import sympy as sp\n",
    "import numpy as np\n",
    "import matplotlib.pyplot as plt\n",
    "import scipy as scp\n",
    "\n",
    "tf = 300 #Grados en kelvin\n",
    "tb=313\n",
    "p = 0.102 #perimetro en metros\n",
    "k = 200\n",
    "h = 20\n",
    "ac=5E-5\n",
    "a=(h*p)/(k*ac)\n",
    "l=np.linspace(0,1,100)\n",
    "theta=tb-tf"
   ]
  },
  {
   "cell_type": "code",
   "execution_count": 279,
   "metadata": {
    "id": "1it3GFaIJ9Pu"
   },
   "outputs": [],
   "source": [
    "def templ(tf,tb,l,a):\n",
    "  return tf+(tb-tf)*np.exp(-l*np.sqrt(a))\n",
    "t=templ(tf,tb,l,a)"
   ]
  },
  {
   "cell_type": "markdown",
   "metadata": {
    "id": "2b5lsF2ofdzL"
   },
   "source": [
    "#PUNTO 1"
   ]
  },
  {
   "cell_type": "markdown",
   "metadata": {
    "id": "6VzrZv3YZ7c0"
   },
   "source": [
    "\\begin{equation}\n",
    "\\left( \\frac{hp}{kAc} \\right ) ^2 (T-T_{\\infty})=\\frac{d^2(T-T_{\\infty})}{dx^2}\n",
    "\\end{equation}"
   ]
  },
  {
   "cell_type": "code",
   "execution_count": 280,
   "metadata": {
    "colab": {
     "base_uri": "https://localhost:8080/"
    },
    "id": "r9BpAq8ZZpRZ",
    "outputId": "e070b79d-2d0b-4ca8-e034-ce97730da40e"
   },
   "outputs": [
    {
     "data": {
      "text/plain": [
       "541008.0"
      ]
     },
     "execution_count": 280,
     "metadata": {},
     "output_type": "execute_result"
    }
   ],
   "source": [
    "a**2*theta"
   ]
  },
  {
   "cell_type": "markdown",
   "metadata": {
    "id": "X3U9Is-sZNfB"
   },
   "source": [
    "#PUNTO 2\n"
   ]
  },
  {
   "cell_type": "code",
   "execution_count": 299,
   "metadata": {
    "colab": {
     "base_uri": "https://localhost:8080/",
     "height": 447
    },
    "id": "TSUXmnNrMsYF",
    "outputId": "6f80e1a8-666b-4140-a663-192e5d19d88b"
   },
   "outputs": [
    {
     "data": {
      "text/plain": [
       "[<matplotlib.lines.Line2D at 0x7bb67287c5b0>]"
      ]
     },
     "execution_count": 299,
     "metadata": {},
     "output_type": "execute_result"
    },
    {
     "data": {
      "image/png": "[encoded data removed]",
      "text/plain": [
       "<Figure size 640x480 with 1 Axes>"
      ]
     },
     "metadata": {},
     "output_type": "display_data"
    }
   ],
   "source": [
    "plt.figure()\n",
    "plt.grid()\n",
    "plt.plot(l,t)\n",
    "plt.plot_date(0.06,templ(tf,tb,0.06,a)) #Punto donde se hace 305"
   ]
  },
  {
   "cell_type": "markdown",
   "metadata": {
    "id": "ZPXY3IvLfta1"
   },
   "source": [
    "Como se esperaria la temperatura de la aleta decrece con respecto a la distancia que esta de la base."
   ]
  },
  {
   "cell_type": "markdown",
   "metadata": {
    "id": "CJuDX0UOacm5"
   },
   "source": [
    "#PUNTO 3"
   ]
  },
  {
   "cell_type": "code",
   "execution_count": 282,
   "metadata": {
    "id": "Ywkt0kGNO8lx"
   },
   "outputs": [],
   "source": [
    "θ = sp.Function(\"θ\")\n",
    "A = sp.symbols(\"A\")\n",
    "x = sp.symbols(\"x\")\n",
    "Eq=sp.Eq((sp.diff(θ(x),x,2))-A**2*θ(x),0)"
   ]
  },
  {
   "cell_type": "code",
   "execution_count": 283,
   "metadata": {
    "colab": {
     "base_uri": "https://localhost:8080/",
     "height": 56
    },
    "id": "FsYpciEjcGja",
    "outputId": "4c7faa68-7ade-4c42-8c7f-3acf382eb944"
   },
   "outputs": [
    {
     "data": {
      "text/latex": [
       "$\\displaystyle θ{\\left(x \\right)} = \\frac{313 e^{200 A} e^{- A x}}{e^{200 A} - 1} - \\frac{313 e^{A x}}{e^{200 A} - 1}$"
      ],
      "text/plain": [
       "Eq(θ(x), 313*exp(200*A)*exp(-A*x)/(exp(200*A) - 1) - 313*exp(A*x)/(exp(200*A) - 1))"
      ]
     },
     "execution_count": 283,
     "metadata": {},
     "output_type": "execute_result"
    }
   ],
   "source": [
    "sp.dsolve(Eq , ics={θ(0):313,θ(100):0})"
   ]
  },
  {
   "cell_type": "markdown",
   "metadata": {
    "id": "ENOw9Aloespw"
   },
   "source": [
    "Siendo $θ(0)$ la temperatura en la base de la aleta y $θ(100)$ la temperatura en la punta de la aleta."
   ]
  },
  {
   "cell_type": "code",
   "execution_count": 284,
   "metadata": {
    "colab": {
     "base_uri": "https://localhost:8080/",
     "height": 38
    },
    "id": "_TxuyhgggA38",
    "outputId": "4365024e-d83c-4f80-d6f2-4d623ad4c6b9"
   },
   "outputs": [
    {
     "data": {
      "text/latex": [
       "$\\displaystyle θ{\\left(x \\right)} = C_{1} e^{- A x} + C_{2} e^{A x}$"
      ],
      "text/plain": [
       "Eq(θ(x), C1*exp(-A*x) + C2*exp(A*x))"
      ]
     },
     "execution_count": 284,
     "metadata": {},
     "output_type": "execute_result"
    }
   ],
   "source": [
    "sp.dsolve(Eq)"
   ]
  },
  {
   "cell_type": "markdown",
   "metadata": {
    "id": "56VgM-ClhMi_"
   },
   "source": [
    "Asi se ve sin nuestros parametros iniciales"
   ]
  },
  {
   "cell_type": "markdown",
   "metadata": {
    "id": "TD3rma8FZSSK"
   },
   "source": [
    "##PUNTO 4\n"
   ]
  },
  {
   "cell_type": "code",
   "execution_count": 307,
   "metadata": {
    "colab": {
     "base_uri": "https://localhost:8080/",
     "height": 314
    },
    "id": "nwEcKwm5YIGL",
    "outputId": "f492bd7c-2f23-4336-e1e5-4f3c01539206"
   },
   "outputs": [
    {
     "ename": "TypeError",
     "evalue": "ignored",
     "output_type": "error",
     "traceback": [
      "\u001b[0;31m---------------------------------------------------------------------------\u001b[0m",
      "\u001b[0;31mTypeError\u001b[0m                                 Traceback (most recent call last)",
      "\u001b[0;32m<ipython-input-307-7bd637d24ec7>\u001b[0m in \u001b[0;36m<cell line: 1>\u001b[0;34m()\u001b[0m\n\u001b[0;32m----> 1\u001b[0;31m \u001b[0mscp\u001b[0m\u001b[0;34m.\u001b[0m\u001b[0moptimize\u001b[0m\u001b[0;34m.\u001b[0m\u001b[0mnewton\u001b[0m\u001b[0;34m(\u001b[0m\u001b[0mtempl\u001b[0m\u001b[0;34m(\u001b[0m\u001b[0mtf\u001b[0m\u001b[0;34m,\u001b[0m\u001b[0mtb\u001b[0m\u001b[0;34m,\u001b[0m\u001b[0ml\u001b[0m\u001b[0;34m,\u001b[0m\u001b[0ma\u001b[0m\u001b[0;34m)\u001b[0m\u001b[0;34m-\u001b[0m\u001b[0;36m305\u001b[0m\u001b[0;34m,\u001b[0m\u001b[0;36m0\u001b[0m\u001b[0;34m)\u001b[0m\u001b[0;34m\u001b[0m\u001b[0;34m\u001b[0m\u001b[0m\n\u001b[0m",
      "\u001b[0;32m/usr/local/lib/python3.10/dist-packages/scipy/optimize/_zeros_py.py\u001b[0m in \u001b[0;36mnewton\u001b[0;34m(func, x0, fprime, args, tol, maxiter, fprime2, x1, rtol, full_output, disp)\u001b[0m\n\u001b[1;32m    347\u001b[0m             \u001b[0mp1\u001b[0m \u001b[0;34m=\u001b[0m \u001b[0mx0\u001b[0m \u001b[0;34m*\u001b[0m \u001b[0;34m(\u001b[0m\u001b[0;36m1\u001b[0m \u001b[0;34m+\u001b[0m \u001b[0meps\u001b[0m\u001b[0;34m)\u001b[0m\u001b[0;34m\u001b[0m\u001b[0;34m\u001b[0m\u001b[0m\n\u001b[1;32m    348\u001b[0m             \u001b[0mp1\u001b[0m \u001b[0;34m+=\u001b[0m \u001b[0;34m(\u001b[0m\u001b[0meps\u001b[0m \u001b[0;32mif\u001b[0m \u001b[0mp1\u001b[0m \u001b[0;34m>=\u001b[0m \u001b[0;36m0\u001b[0m \u001b[0;32melse\u001b[0m \u001b[0;34m-\u001b[0m\u001b[0meps\u001b[0m\u001b[0;34m)\u001b[0m\u001b[0;34m\u001b[0m\u001b[0;34m\u001b[0m\u001b[0m\n\u001b[0;32m--> 349\u001b[0;31m         \u001b[0mq0\u001b[0m \u001b[0;34m=\u001b[0m \u001b[0mfunc\u001b[0m\u001b[0;34m(\u001b[0m\u001b[0mp0\u001b[0m\u001b[0;34m,\u001b[0m \u001b[0;34m*\u001b[0m\u001b[0margs\u001b[0m\u001b[0;34m)\u001b[0m\u001b[0;34m\u001b[0m\u001b[0;34m\u001b[0m\u001b[0m\n\u001b[0m\u001b[1;32m    350\u001b[0m         \u001b[0mfuncalls\u001b[0m \u001b[0;34m+=\u001b[0m \u001b[0;36m1\u001b[0m\u001b[0;34m\u001b[0m\u001b[0;34m\u001b[0m\u001b[0m\n\u001b[1;32m    351\u001b[0m         \u001b[0mq1\u001b[0m \u001b[0;34m=\u001b[0m \u001b[0mfunc\u001b[0m\u001b[0;34m(\u001b[0m\u001b[0mp1\u001b[0m\u001b[0;34m,\u001b[0m \u001b[0;34m*\u001b[0m\u001b[0margs\u001b[0m\u001b[0;34m)\u001b[0m\u001b[0;34m\u001b[0m\u001b[0;34m\u001b[0m\u001b[0m\n",
      "\u001b[0;31mTypeError\u001b[0m: 'numpy.ndarray' object is not callable"
     ]
    }
   ],
   "source": [
    "scp.optimize.newton(templ(tf,tb,l,a)-305,0)"
   ]
  }
 ],
 "metadata": {
  "colab": {
   "provenance": []
  },
  "kernelspec": {
   "display_name": "Python 3 (ipykernel)",
   "language": "python",
   "name": "python3"
  },
  "language_info": {
   "codemirror_mode": {
    "name": "ipython",
    "version": 3
   },
   "file_extension": ".py",
   "mimetype": "text/x-python",
   "name": "python",
   "nbconvert_exporter": "python",
   "pygments_lexer": "ipython3",
   "version": "3.10.9"
  }
 },
 "nbformat": 4,
 "nbformat_minor": 1
}
