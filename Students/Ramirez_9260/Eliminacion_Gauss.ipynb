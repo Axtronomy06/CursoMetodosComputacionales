{
  "nbformat": 4,
  "nbformat_minor": 0,
  "metadata": {
    "colab": {
      "provenance": []
    },
    "kernelspec": {
      "name": "python3",
      "display_name": "Python 3"
    },
    "language_info": {
      "name": "python"
    }
  },
  "cells": [
    {
      "cell_type": "code",
      "execution_count": null,
      "metadata": {
        "id": "SXqKlLMmpsm6"
      },
      "outputs": [],
      "source": [
        "import numpy as np\n",
        "import matplotlib.pyplot as plt\n",
        "from scipy import linalg"
      ]
    },
    {
      "cell_type": "code",
      "source": [
        "A=np.matrix([[2, 1, 1, 5],\n",
        "             [4, 1, 1, 1],\n",
        "             [6, 2, 1, 4],])\n",
        "\n",
        "def mult(A, i,j, lamb):\n",
        "  B = A.copy()\n",
        "  B[i] = A[i]+lamb*B[j]\n",
        "  return B\n",
        "np.shape(A)"
      ],
      "metadata": {
        "colab": {
          "base_uri": "https://localhost:8080/"
        },
        "id": "mNyJUYxbzUet",
        "outputId": "d6aacfcd-311d-4fcd-db99-59b2ec0211e6"
      },
      "execution_count": null,
      "outputs": [
        {
          "output_type": "execute_result",
          "data": {
            "text/plain": [
              "(3, 4)"
            ]
          },
          "metadata": {},
          "execution_count": 30
        }
      ]
    },
    {
      "cell_type": "code",
      "source": [
        "A=np.matrix([[2, 1, 1, 5],\n",
        "             [4, 1, 1, 1],\n",
        "             [6, 2, 1, 4]])\n",
        "\n",
        "for i in range(0,np.shape(A)[1]-1):\n",
        "  for p in range(0,np.shape(A)[0]-1):\n",
        "    if i==0:\n",
        "\n",
        "      if A[p+1,i]==0:\n",
        "\n",
        "        A[p+1]=A[p+1]\n",
        "\n",
        "      else:\n",
        "\n",
        "        n=A[p+1,i]/A[0,i]\n",
        "        A[p+1]=A[p+1]-n*A[i]\n",
        "\n",
        "    if i==1:\n",
        "\n",
        "      if A[p+1,i]==0:\n",
        "\n",
        "        A[p+1]=A[p+1]\n",
        "\n",
        "      else:\n",
        "\n",
        "        n=A[p+1,i]/A[p,i]\n",
        "        A[2]=A[2]-n*A[i]\n",
        "\n",
        "print(A)"
      ],
      "metadata": {
        "id": "UPXV1_Oe1LpM",
        "colab": {
          "base_uri": "https://localhost:8080/"
        },
        "outputId": "db6a4bc4-e638-4824-a983-1cbb7d2d6bf2"
      },
      "execution_count": null,
      "outputs": [
        {
          "output_type": "stream",
          "name": "stdout",
          "text": [
            "[[ 2  1  1  5]\n",
            " [ 0 -1 -1 -9]\n",
            " [ 0  0 -1 -2]]\n"
          ]
        }
      ]
    },
    {
      "cell_type": "code",
      "source": [
        "Y=A[1]-A[2]\n",
        "Z=A[2]\n",
        "X=A[0]+Y+Z\n",
        "X,Y,Z"
      ],
      "metadata": {
        "id": "_e7phhAjAZ7k",
        "colab": {
          "base_uri": "https://localhost:8080/"
        },
        "outputId": "622115f2-4503-4969-d519-d488df300cd9"
      },
      "execution_count": null,
      "outputs": [
        {
          "output_type": "execute_result",
          "data": {
            "text/plain": [
              "(matrix([[ 2,  0,  0, -4]]),\n",
              " matrix([[ 0, -1,  0, -7]]),\n",
              " matrix([[ 0,  0, -1, -2]]))"
            ]
          },
          "metadata": {},
          "execution_count": 34
        }
      ]
    },
    {
      "cell_type": "code",
      "source": [
        "A=np.matrix([[2, 1, 1, 5],\n",
        "             [4, 1, 1, 1],\n",
        "             [6, 2, 1, 4]])\n",
        "\n",
        "for i in range(0,np.shape(A)[1]-1):\n",
        "  for p in range(0,np.shape(A)[0]-1):\n",
        "    n=A[p+1,i]/A[p,p]\n",
        "    if A[p+1,i]==0:\n",
        "      A[p+1]=A[p+1]\n",
        "    else:\n",
        "      print(n)\n",
        "      A[p+1]=A[p+1]-n*A[p]\n",
        "\n",
        "#print(A)"
      ],
      "metadata": {
        "colab": {
          "base_uri": "https://localhost:8080/"
        },
        "id": "dxULueqwBkjS",
        "outputId": "0583e6d8-7408-4f57-e791-5a5e2b600a4c"
      },
      "execution_count": null,
      "outputs": [
        {
          "output_type": "stream",
          "name": "stdout",
          "text": [
            "2.0\n",
            "-6.0\n",
            "-0.5\n",
            "-inf\n",
            "-inf\n"
          ]
        },
        {
          "output_type": "stream",
          "name": "stderr",
          "text": [
            "<ipython-input-45-45aa0fa4a706>:7: RuntimeWarning: divide by zero encountered in long_scalars\n",
            "  n=A[p+1,i]/A[p,p]\n",
            "<ipython-input-45-45aa0fa4a706>:12: RuntimeWarning: invalid value encountered in multiply\n",
            "  A[p+1]=A[p+1]-n*A[p]\n"
          ]
        }
      ]
    }
  ]
}