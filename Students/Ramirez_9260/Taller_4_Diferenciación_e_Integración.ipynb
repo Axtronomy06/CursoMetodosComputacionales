{
 "cells": [
  {
   "cell_type": "code",
   "execution_count": 1,
   "id": "844480c4",
   "metadata": {
    "id": "844480c4"
   },
   "outputs": [],
   "source": [
    "import numpy as np\n",
    "import matplotlib.pyplot as plt\n",
    "\n",
    "%matplotlib inline"
   ]
  },
  {
   "cell_type": "markdown",
   "id": "3023d15a",
   "metadata": {
    "id": "3023d15a"
   },
   "source": [
    "# Cálculo numérico"
   ]
  },
  {
   "cell_type": "code",
   "execution_count": 7,
   "id": "228d823b-28a9-40af-b0ef-4a784444694f",
   "metadata": {},
   "outputs": [
    {
     "data": {
      "text/plain": [
       "[<matplotlib.lines.Line2D at 0x7f1f5aee5220>]"
      ]
     },
     "execution_count": 7,
     "metadata": {},
     "output_type": "execute_result"
    },
    {
     "data": {
      "image/png": "[encoded data removed]",
      "text/plain": [
       "<Figure size 432x288 with 1 Axes>"
      ]
     },
     "metadata": {
      "needs_background": "light"
     },
     "output_type": "display_data"
    }
   ],
   "source": [
    "def f(x):\n",
    "    return np.exp(-x**2)\n",
    "\n",
    "xmin=-2\n",
    "xmax=2\n",
    "dx=0.1\n",
    "\n",
    "x=np.arange(xmin,xmax+dx,dx)\n",
    "\n",
    "plt.plot(x,f(x))\n",
    "plt.grid()\n",
    "\n",
    "x0=1\n",
    "\n",
    "m=(f(x0+dx)-f(x0))/dx\n",
    "\n",
    "def recta(x):\n",
    "    return m*(x-x0)+f(x0)\n",
    "\n",
    "xlin=np.arange(x0-.5,x0+.5+dx,dx)\n",
    "\n",
    "plt.plot(xlin,recta(xlin))"
   ]
  },
  {
   "cell_type": "markdown",
   "id": "b915eb1b",
   "metadata": {
    "id": "b915eb1b"
   },
   "source": [
    "# Diferenciación\n",
    "\n",
    "Series de Taylor:\n",
    "\n",
    "$$f(x)=\\sum_n^\\infty \\frac{f^{(n)}(x_0)}{n!}(x-x_0)$$\n",
    "\n",
    "### Primer orden (Diferencia hacia adelante)\n",
    "\n",
    "$$f(x)=f(x_0)+f'(x_0)(x-x_0)+\\sum_{n=2}^\\infty \\frac{f^{(n)}(x_0)}{n!}(x-x_0)$$\n",
    "\n",
    "$$f(x)\\approx f(x_0)+f'(x_0)(x-x0)$$\n",
    "\n",
    "$$x-x_0=h$$\n",
    "\n",
    "$$f(x_0+h)\\approx f(x_0)+f'(x_0)h$$\n",
    "\n",
    "$$\\boxed{f'(x_0)=\\frac{f(x_0+h)-f(x_0)}{h}}$$\n",
    "\n",
    "### Segundo orden (Diferencia Central)\n",
    "\n",
    "$$f(x)=f(x_0)+f'(x_0)(x-x0)+\\frac{f''(x_0)}{2}(x-x_0)^2+\\sum_{n=3}^\\infty \\frac{f^{(n)}(x_0)}{n!}(x-x_0)$$\n",
    "\n",
    "$$f(x) \\approx f(x_0)+f'(x_0)(x-x0)+\\frac{f''(x_0)}{2}(x-x_0)^2$$\n",
    "\n",
    "$$x-x_0=h$$\n",
    "\n",
    "$$x-x_0=-h$$\n",
    "\n",
    "$$f(x_0+h)\\approx f(x_0)+f'(x_0)h+\\frac{f''(x_0)}{2}h^2$$\n",
    "\n",
    "$$f(x_0-h)\\approx f(x_0)-f'(x_0)h+\\frac{f''(x_0)}{2}h^2$$\n",
    "\n",
    "$$f(x_0+h)-f(x_0-h)=2f'(x_0)h$$\n",
    "\n",
    "$$f(x_0+h)+f(x_0-h)=2f(x_0)+f''(x_0)h^2$$\n",
    "\n",
    "$$\\boxed{f'(x_0)=\\frac{f(x_0+h)-f(x_0-h)}{2 h}}$$\n",
    "\n",
    "$$\\boxed{f''(x_0)=\\frac{f(x_0+h)+f(x_0-h)-2f(x_0)}{h^2}}$$"
   ]
  },
  {
   "cell_type": "code",
   "execution_count": null,
   "id": "3d9e6391",
   "metadata": {
    "id": "3d9e6391"
   },
   "outputs": [],
   "source": []
  },
  {
   "cell_type": "markdown",
   "id": "5425fae1",
   "metadata": {
    "id": "5425fae1"
   },
   "source": [
    "# Otra notación\n",
    "\n",
    "$$x_i\\pm \\Delta x = x_{i \\pm 1}$$\n",
    "\n",
    "$$f(x_i)=f_i$$"
   ]
  },
  {
   "cell_type": "markdown",
   "id": "5b693edd",
   "metadata": {
    "id": "5b693edd"
   },
   "source": [
    "# Si no conocemos la expresión analitica de $f$\n",
    "\n",
    "$$f'_i=\\frac{f_{i+1}-f_i}{\\Delta x}$$\n",
    "\n",
    "$$f'_i=\\frac{f_{i+1}-f_{i-1}}{2\\Delta x}$$\n",
    "\n",
    "$$f''_i=\\frac{f_{i+1}+f_{i-1}-2f_i}{{\\Delta x}^2}$$\n",
    "\n",
    "<img src=\"Diferencias.png\" alt=\"drawing\" width=\"500\"/>\n"
   ]
  },
  {
   "cell_type": "code",
   "execution_count": null,
   "id": "e4dc2c56",
   "metadata": {
    "id": "e4dc2c56"
   },
   "outputs": [],
   "source": [
    "%reset -f"
   ]
  },
  {
   "cell_type": "code",
   "execution_count": null,
   "id": "d5603460",
   "metadata": {
    "id": "d5603460"
   },
   "outputs": [],
   "source": [
    "import numpy as np\n",
    "import matplotlib.pyplot as plt\n",
    "from sympy import *\n",
    "%matplotlib inline"
   ]
  },
  {
   "cell_type": "code",
   "execution_count": null,
   "id": "f8cf10b7",
   "metadata": {
    "id": "f8cf10b7"
   },
   "outputs": [],
   "source": [
    "def interpolacion_Lagrange(x_int,xn,yn):\n",
    "    n=len(xn)-1\n",
    "\n",
    "    def L(x,n,i):\n",
    "        prod=1.\n",
    "        for m in range(0,n+1):\n",
    "            if m != i:\n",
    "                prod*= (x-xn[m])/(xn[i]-xn[m])\n",
    "        return prod\n",
    "\n",
    "    suma=0\n",
    "    for i in range(0,n+1):\n",
    "        suma+=yn[i]*L(x_int,n,i)\n",
    "\n",
    "    return suma"
   ]
  },
  {
   "cell_type": "markdown",
   "id": "3348cb08",
   "metadata": {
    "id": "3348cb08"
   },
   "source": [
    "# Integrales numéricas\n",
    "\n",
    "#### Sumas de Riemann\n",
    "\n",
    "$$\\int_a^b dx f(x) = \\lim_{\\Delta_x \\to 0}\\sum_{i=1}^{N} f(x_i)\\Delta x \\approx \\sum_{i=1}^{N} f(x_i)\\Delta x$$"
   ]
  },
  {
   "cell_type": "code",
   "execution_count": null,
   "id": "ff5a7893",
   "metadata": {
    "id": "ff5a7893",
    "outputId": "f3f54644-db91-4ed0-af26-e791c554e85e"
   },
   "outputs": [
    {
     "name": "stdout",
     "output_type": "stream",
     "text": [
      "Función:  x + cos(x)**2 + 1\n",
      "Integral x**2/2 + 3*x/2 + sin(x)*cos(x)/2\n"
     ]
    }
   ],
   "source": [
    "xs = Symbol('x')\n",
    "\n",
    "fx = 1+cos(xs)**2+xs\n",
    "\n",
    "Fx=integrate(fx,xs)\n",
    "\n",
    "print('Función: ', fx)\n",
    "print('Integral', Fx)\n",
    "\n",
    "f = lambdify(xs,fx,\"numpy\")\n",
    "\n",
    "F = lambdify(xs,Fx,\"numpy\")"
   ]
  },
  {
   "cell_type": "code",
   "execution_count": null,
   "id": "0990aa5c",
   "metadata": {
    "id": "0990aa5c",
    "outputId": "8171d35a-defd-43cb-cdce-d06846427226"
   },
   "outputs": [
    {
     "name": "stdout",
     "output_type": "stream",
     "text": [
      "Area exacta:  4.245647748216941\n",
      "Area Riemann: \n",
      "Error:\n"
     ]
    },
    {
     "data": {
      "image/png": "[encoded data removed]",
      "text/plain": [
       "<Figure size 640x480 with 1 Axes>"
      ]
     },
     "metadata": {},
     "output_type": "display_data"
    }
   ],
   "source": [
    "dx=0.1\n",
    "xmin=-1\n",
    "xmax=2\n",
    "\n",
    "a=-0.5\n",
    "b=1.5\n",
    "\n",
    "x=np.arange(xmin,xmax+dx,dx)\n",
    "\n",
    "plt.plot(x,f(x),color='black')\n",
    "plt.plot(a,f(a),'o',color='red')\n",
    "plt.plot(b,f(b),'o',color='red')\n",
    "\n",
    "plt.vlines(a,0,f(a),color='black',linestyles='dashed')\n",
    "plt.vlines(b,0,f(b),color='black',linestyles='dashed')\n",
    "plt.hlines(0,xmin,xmax,color='black',linestyles='dashed')\n",
    "\n",
    "#xf=np.arange()\n",
    "#plt.fill_between(xf,f(xf),color='green',alpha=0.5)\n",
    "#plt.grid()\n",
    "\n",
    "def Ar(a,b):\n",
    "    return F(b)-F(a)\n",
    "\n",
    "print('Area exacta: ', Ar(a,b))\n",
    "print('Area Riemann: ')\n",
    "print('Error:')"
   ]
  },
  {
   "cell_type": "markdown",
   "id": "242e6e18",
   "metadata": {
    "id": "242e6e18"
   },
   "source": [
    "# Cuadratura numérica\n",
    "\n",
    "$$a=x_0$$\n",
    "\n",
    "\n",
    "$$b=x_n$$\n",
    "\n",
    "\n",
    "$$n=N-1$$\n",
    "\n",
    "\n",
    "$$f(x) \\approx P_n(x) = \\sum_{i}^{n} f(x_i) L_{n,i}(x)$$\n",
    "\n",
    "\n",
    "$$L_{n,i}(x)=\\prod_{m}^{n} \\frac{x-x_m}{x_i-x_m} \\text{ con } m\\neq i$$\n",
    "\n",
    "\n",
    "$$\\int_a^b dx f(x) \\approx \\int_a^b dx P_n(x) = \\int_a^b dx \\sum_{i}^{n} f(x_i) L_{n,i}(x) = \\sum_{i}^{n} \\int_a^b dx f(x_i) L_{n,i}(x)$$\n",
    "\n",
    "\n",
    "$$E[f] = \\frac{1}{(n+1)!} \\int_a^b dx \\prod_i^n (x-x_i)f^{n+1}(\\xi(x))$$"
   ]
  },
  {
   "cell_type": "code",
   "execution_count": null,
   "id": "19968a56",
   "metadata": {
    "id": "19968a56",
    "outputId": "e7f28ebe-5eb0-4898-f00d-8c7ef5fcb19b"
   },
   "outputs": [
    {
     "data": {
      "image/png": "[encoded data removed]",
      "text/plain": [
       "<Figure size 640x480 with 1 Axes>"
      ]
     },
     "metadata": {},
     "output_type": "display_data"
    }
   ],
   "source": [
    "def Quadrature(N,f,a,b):\n",
    "    xn=np.linspace(a,b,N)\n",
    "    yn=f(xn)\n",
    "\n",
    "    plt.plot(x,f(x),color='black',zorder=1)\n",
    "    plt.plot(xn,yn,'o',color='red',zorder=2)\n",
    "\n",
    "    plt.vlines(a,0,f(a),color='black',linestyles='dashed')\n",
    "    plt.vlines(b,0,f(b),color='black',linestyles='dashed')\n",
    "    plt.hlines(0,xmin,xmax,color='black',linestyles='dashed')\n",
    "\n",
    "    #plt.plot(xf,y,color='blue',zorder=3)\n",
    "    #plt.fill_between(xf,y,color='green',alpha=0.5)\n",
    "    plt.grid(True)\n",
    "\n",
    "N=2\n",
    "a=-0.5\n",
    "b=1.5\n",
    "Quadrature(N,f,a,b)"
   ]
  },
  {
   "cell_type": "markdown",
   "id": "1828624a",
   "metadata": {
    "id": "1828624a"
   },
   "source": [
    "# Regla del trapecio $N=2$\n",
    "\n",
    "$$\\int_a^b dx f(x) \\approx \\int_a^b dx P_1(x)$$\n",
    "\n",
    "$$P_1(x)=f(x_0) \\frac{x-x_1}{x_0-x_1} + f(x_1) \\frac{x-x_0}{x_1-x_0}$$\n",
    "\n",
    "$$P_1(x)=f(a) \\frac{x-b}{a-b} + f(b) \\frac{x-a}{b-a}$$\n",
    "\n",
    "$$\\int_a^b dx f(x) \\approx \\frac{1}{2} (b-a) (f(a)+f(b))$$\n",
    "\n",
    "$$E[f]=\\frac{(b-a)^3}{12} f''(\\xi)$$"
   ]
  },
  {
   "cell_type": "code",
   "execution_count": null,
   "id": "5dbc3d03",
   "metadata": {
    "id": "5dbc3d03",
    "outputId": "502e9267-30e3-4736-b7d6-626c725c7d1d"
   },
   "outputs": [
    {
     "name": "stdout",
     "output_type": "stream",
     "text": [
      "Area real: 4.245647748216941\n"
     ]
    }
   ],
   "source": [
    "print('Area real:', Ar(a,b))\n",
    "#print('Area trapecio:', Ar_trap(a,b))"
   ]
  },
  {
   "cell_type": "markdown",
   "id": "cb9d6188",
   "metadata": {
    "id": "cb9d6188"
   },
   "source": [
    "# Regla de Simpson N=3\n",
    "\n",
    "$$\\int_a^b dx f(x) \\approx \\int_{x_0}^{x_2} dx P_2(x)$$\n",
    "\n",
    "$$P_2(x)=f(x_0) \\frac{x-x_1}{x_0-x_1}\\frac{x-x_2}{x_0-x_2} + f(x_1) \\frac{x-x_0}{x_1-x_0}\\frac{x-x_2}{x_1-x_2} + f(x_2) \\frac{x-x_0}{x_2-x_0}\\frac{x-x_1}{x_2-x_1}$$\n",
    "\n",
    "$$x_{i+1}=x_i+h \\;; \\forall i$$\n",
    "\n",
    "$$\\int_{x_0}^{x_2} dx f(x) \\approx \\frac{h}{3} (f(x_0)+4f(x_1)+f(x_2))$$\n",
    "\n",
    "$$E[f]=\\frac{h^5}{90} f^{(4)}(\\xi)$$"
   ]
  },
  {
   "cell_type": "code",
   "execution_count": null,
   "id": "1ac331cd",
   "metadata": {
    "id": "1ac331cd",
    "outputId": "4a42aa56-71f1-4856-fa45-7ca9cf0d7b9f"
   },
   "outputs": [
    {
     "name": "stdout",
     "output_type": "stream",
     "text": [
      "Area real: 4.245647748216941\n"
     ]
    }
   ],
   "source": [
    "print('Area real:', Ar(a,b))\n",
    "#print('Area Trapecio:', Ar_trap(a,b))\n",
    "#print('Area Simpson:', Ar_simp(a,b))"
   ]
  },
  {
   "cell_type": "markdown",
   "id": "2437409e",
   "metadata": {
    "id": "2437409e"
   },
   "source": [
    "# Reglas compuestas\n",
    "\n",
    "$$\\int_{x_0}^{x_n} dx f(x) = \\int_{x_0}^{x_1} dx f(x) + \\int_{x_1}^{x_2} dx f(x) + ... +\\int_{x_{n-1}}^{x_n} dx f(x)$$"
   ]
  },
  {
   "cell_type": "markdown",
   "id": "5d5e7e03",
   "metadata": {
    "id": "5d5e7e03"
   },
   "source": [
    "# Trapecio N=2"
   ]
  },
  {
   "cell_type": "code",
   "execution_count": null,
   "id": "eab0836b",
   "metadata": {
    "id": "eab0836b",
    "outputId": "f7e34abd-4389-4674-c337-f429d1b7679a"
   },
   "outputs": [
    {
     "name": "stdout",
     "output_type": "stream",
     "text": [
      "Area real: 4.245647748216941\n"
     ]
    }
   ],
   "source": [
    "#print('dx:', hi)\n",
    "print('Area real:', Ar(a,b))\n",
    "#print('Area Trapecio compuesto:', Ar_trap_comp)\n",
    "#print('Error:',abs(Ar_trap_comp-Ar(a,b)))"
   ]
  },
  {
   "cell_type": "markdown",
   "id": "e046c40c",
   "metadata": {
    "id": "e046c40c"
   },
   "source": [
    "# Simpson N=3"
   ]
  },
  {
   "cell_type": "code",
   "execution_count": null,
   "id": "88b7a22b",
   "metadata": {
    "id": "88b7a22b",
    "outputId": "f1f552b1-becf-4639-9098-9f666b46cab1"
   },
   "outputs": [
    {
     "name": "stdout",
     "output_type": "stream",
     "text": [
      "Area real: 4.245647748216941\n"
     ]
    }
   ],
   "source": [
    "#print('dx:', hi)\n",
    "print('Area real:', Ar(a,b))\n",
    "#print('Area Trapecio compuesto:', Ar_trap_comp)\n",
    "#print('Error:',abs(Ar_trap_comp-Ar(a,b)))\n",
    "#print('Area Simpson compuesto:', Ar_simp_comp)\n",
    "#print('Error:',abs(Ar_simp_comp-Ar(a,b)))"
   ]
  },
  {
   "cell_type": "markdown",
   "id": "610db6b6",
   "metadata": {
    "id": "610db6b6"
   },
   "source": [
    "# Cuadraturas de orden superior $N=4$\n",
    "\n",
    "#### Simpson’s Three-Eighths rule\n"
   ]
  },
  {
   "cell_type": "code",
   "execution_count": null,
   "id": "a2a143bd",
   "metadata": {
    "id": "a2a143bd",
    "outputId": "b90fd393-008f-4f57-dcfd-518efe15e763"
   },
   "outputs": [
    {
     "name": "stdout",
     "output_type": "stream",
     "text": [
      "N: 2\n",
      "h*(f0 + f1)/2\n",
      "-----------\n",
      "N: 3\n",
      "h*(f0/3 + 4*f1/3 + f2/3)\n",
      "-----------\n",
      "N: 4\n",
      "h*(3*f0/8 + 9*f1/8 + 9*f2/8 + 3*f3/8)\n",
      "-----------\n"
     ]
    }
   ],
   "source": [
    "def lag(n):\n",
    "    x = Symbol('x')\n",
    "    def L(n,i):\n",
    "        xi=Symbol('x%s'%i)\n",
    "        prod=1.\n",
    "        for m in range(n+1):\n",
    "            if m != i:\n",
    "                xm = Symbol('x%s'%m)\n",
    "                prod*=(x-xm)/(xi-xm)\n",
    "        return prod\n",
    "    suma=0\n",
    "    for i in range(0,n+1):\n",
    "        string='f%s'%i\n",
    "        yi=Symbol(string)\n",
    "        suma+=yi*L(n,i)\n",
    "\n",
    "    return suma\n",
    "\n",
    "for n in range(1,4):\n",
    "    print('N:',n+1)\n",
    "    a=Symbol('x0')\n",
    "    b=Symbol('x%s'%n)\n",
    "    h=Symbol('h')\n",
    "\n",
    "    L=lag(n)\n",
    "    integral=integrate(L,(xs,a,b))\n",
    "\n",
    "\n",
    "    for i in range(0,n):\n",
    "        xi=Symbol('x%s'%i)\n",
    "        xi1=Symbol('x%s'%(i+1))\n",
    "        integral=integral.subs(xi,xi1-h)\n",
    "\n",
    "\n",
    "    integral=integral.subs(xi1,0)\n",
    "    integral=simplify(integral)\n",
    "    integral=nsimplify(integral)\n",
    "    print(integral)\n",
    "    print('-----------')\n"
   ]
  },
  {
   "cell_type": "code",
   "execution_count": null,
   "id": "07f9e177",
   "metadata": {
    "id": "07f9e177",
    "outputId": "de4910cf-ee3f-46da-e5d8-4d02dfc4071d"
   },
   "outputs": [
    {
     "name": "stdout",
     "output_type": "stream",
     "text": [
      "Area real: 4.245647748216941\n"
     ]
    },
    {
     "data": {
      "image/png": "[encoded data removed]",
      "text/plain": [
       "<Figure size 640x480 with 1 Axes>"
      ]
     },
     "metadata": {},
     "output_type": "display_data"
    }
   ],
   "source": [
    "N=4\n",
    "a=-0.5\n",
    "b=1.5\n",
    "Quadrature(N,f,a,b)\n",
    "\n",
    "def Ar_sup(a,b):\n",
    "    xn=np.linspace(a,b,N)\n",
    "    h=xn[1]-xn[0]\n",
    "\n",
    "    f0=f(xn[0])\n",
    "    f1=f(xn[1])\n",
    "    f2=f(xn[2])\n",
    "    f3=f(xn[3])\n",
    "\n",
    "    return h*(3*f0/8 + 9*f1/8 + 9*f2/8 + 3*f3/8)\n",
    "\n",
    "print('Area real:', Ar(a,b))\n",
    "#print('Area Trapecio:', Ar_trap(a,b))\n",
    "#print('Area Simpson:', Ar_simp(a,b))\n",
    "#print('Area N=4:', Ar_sup(a,b))\n",
    "#print('-------------------')\n",
    "#print('Error Trapecio', abs(Ar_trap(a,b)-Ar(a,b)))\n",
    "#print('Error Simpson', abs(Ar_simp(a,b)-Ar(a,b)))\n",
    "#print('Error N=4', abs(Ar_sup(a,b)-Ar(a,b)))"
   ]
  },
  {
   "cell_type": "code",
   "execution_count": null,
   "id": "ce00e946",
   "metadata": {
    "id": "ce00e946"
   },
   "outputs": [],
   "source": []
  }
 ],
 "metadata": {
  "colab": {
   "provenance": []
  },
  "kernelspec": {
   "display_name": "Python 3 (ipykernel)",
   "language": "python",
   "name": "python3"
  },
  "language_info": {
   "codemirror_mode": {
    "name": "ipython",
    "version": 3
   },
   "file_extension": ".py",
   "mimetype": "text/x-python",
   "name": "python",
   "nbconvert_exporter": "python",
   "pygments_lexer": "ipython3",
   "version": "3.9.12"
  }
 },
 "nbformat": 4,
 "nbformat_minor": 5
}
