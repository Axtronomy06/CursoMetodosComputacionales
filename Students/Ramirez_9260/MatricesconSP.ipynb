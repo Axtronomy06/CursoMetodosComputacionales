{
  "nbformat": 4,
  "nbformat_minor": 0,
  "metadata": {
    "colab": {
      "provenance": []
    },
    "kernelspec": {
      "name": "python3",
      "display_name": "Python 3"
    },
    "language_info": {
      "name": "python"
    }
  },
  "cells": [
    {
      "cell_type": "code",
      "execution_count": null,
      "metadata": {
        "id": "7v5sj92QST5F"
      },
      "outputs": [],
      "source": [
        "import numpy as np\n",
        "import sympy as sp\n",
        "import scipy as scp"
      ]
    },
    {
      "cell_type": "code",
      "source": [
        "Bz=sp.symbols(\"Bz\")\n",
        "Bx=sp.symbols(\"Bx\")\n",
        "By=sp.symbols(\"By\")"
      ],
      "metadata": {
        "id": "NOQBvfmfSfuw"
      },
      "execution_count": null,
      "outputs": []
    },
    {
      "cell_type": "code",
      "source": [],
      "metadata": {
        "id": "zB3T2AbhX6mA"
      },
      "execution_count": null,
      "outputs": []
    },
    {
      "cell_type": "code",
      "source": [
        "H = sp.Matrix([[Bz,Bx-1j*Bz],[Bx+1j*Bz,-Bz]])\n",
        "H"
      ],
      "metadata": {
        "colab": {
          "base_uri": "https://localhost:8080/",
          "height": 58
        },
        "id": "znQiZR8ET9RB",
        "outputId": "7074e58c-28b3-48ad-8c1a-a1ed8fa91df0"
      },
      "execution_count": null,
      "outputs": [
        {
          "output_type": "execute_result",
          "data": {
            "text/plain": [
              "Matrix([\n",
              "[           Bz, Bx - 1.0*I*Bz],\n",
              "[Bx + 1.0*I*Bz,           -Bz]])"
            ],
            "text/latex": "$\\displaystyle \\left[\\begin{matrix}Bz & Bx - 1.0 i Bz\\\\Bx + 1.0 i Bz & - Bz\\end{matrix}\\right]$"
          },
          "metadata": {},
          "execution_count": 10
        }
      ]
    }
  ]
}