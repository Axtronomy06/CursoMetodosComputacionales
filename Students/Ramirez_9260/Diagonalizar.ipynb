{
  "nbformat": 4,
  "nbformat_minor": 0,
  "metadata": {
    "colab": {
      "provenance": []
    },
    "kernelspec": {
      "name": "python3",
      "display_name": "Python 3"
    },
    "language_info": {
      "name": "python"
    }
  },
  "cells": [
    {
      "cell_type": "code",
      "execution_count": null,
      "metadata": {
        "id": "Z_qMcAPsvQoG"
      },
      "outputs": [],
      "source": [
        "import numpy as np\n",
        "import scipy as scp\n",
        "import sympy as sp\n",
        "import matplotlib.pyplot as plt\n",
        "from scipy import linalg"
      ]
    },
    {
      "cell_type": "code",
      "source": [
        "A=np.matrix(([1,-2],\n",
        "             [-2,3],))"
      ],
      "metadata": {
        "id": "FU03h_iLvVoI"
      },
      "execution_count": null,
      "outputs": []
    },
    {
      "cell_type": "code",
      "source": [
        "Ap=np.poly(A)          #Polinomio caracteristico\n",
        "\n",
        "Pa,Pe=np.linalg.eig(A) #Autovalores y autovectores\n",
        "\n",
        "Pei=linalg.inv(Pe).round(1)"
      ],
      "metadata": {
        "id": "jWsHEV9Svm0o"
      },
      "execution_count": null,
      "outputs": []
    },
    {
      "cell_type": "code",
      "source": [
        "(Pei*A*Pe).round(1)"
      ],
      "metadata": {
        "id": "DktKk6tH05hi",
        "colab": {
          "base_uri": "https://localhost:8080/"
        },
        "outputId": "84826037-1c9b-45a8-ed03-92bf398b91fd"
      },
      "execution_count": null,
      "outputs": [
        {
          "output_type": "execute_result",
          "data": {
            "text/plain": [
              "array([[-0.2, -0.2],\n",
              "       [-0. ,  4.4]])"
            ]
          },
          "metadata": {},
          "execution_count": 111
        }
      ]
    },
    {
      "cell_type": "code",
      "source": [
        "λu,λd=Pa\n"
      ],
      "metadata": {
        "id": "1pgfQZjm8tZW"
      },
      "execution_count": null,
      "outputs": []
    }
  ]
}