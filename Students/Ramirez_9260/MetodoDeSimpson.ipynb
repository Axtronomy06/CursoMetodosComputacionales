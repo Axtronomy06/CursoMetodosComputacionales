{
  "nbformat": 4,
  "nbformat_minor": 0,
  "metadata": {
    "colab": {
      "provenance": []
    },
    "kernelspec": {
      "name": "python3",
      "display_name": "Python 3"
    },
    "language_info": {
      "name": "python"
    }
  },
  "cells": [
    {
      "cell_type": "code",
      "execution_count": null,
      "metadata": {
        "id": "uLCrzizW4bzN"
      },
      "outputs": [],
      "source": [
        "import scipy\n",
        "import sympy as sp\n",
        "import numpy as np\n",
        "import matplotlib.pyplot as plt\n",
        "\n",
        "a=0\n",
        "b=1\n",
        "N=10000000\n",
        "x=np.linspace(a,b,N)\n",
        "h=x[1]-x[0]\n",
        "xp=x[2:N-2:2]\n",
        "xi=x[1:N-1:2]"
      ]
    },
    {
      "cell_type": "code",
      "source": [
        "def fun(x):\n",
        "  return x**2"
      ],
      "metadata": {
        "id": "Z1iGGMAU4pKh"
      },
      "execution_count": null,
      "outputs": []
    },
    {
      "cell_type": "code",
      "source": [
        "sump=fun(xp).sum()\n",
        "sumi=fun(xi).sum()"
      ],
      "metadata": {
        "id": "2QTQZOviDHna"
      },
      "execution_count": null,
      "outputs": []
    },
    {
      "cell_type": "code",
      "source": [
        "def simpcom(x):\n",
        "  return (h/3)*(fun(a)+2*(sump)+4*(sumi)+fun(b))"
      ],
      "metadata": {
        "id": "KtVwxHm58Z15"
      },
      "execution_count": null,
      "outputs": []
    },
    {
      "cell_type": "code",
      "source": [
        "simpcom(x)"
      ],
      "metadata": {
        "colab": {
          "base_uri": "https://localhost:8080/"
        },
        "id": "uWw5FToD5ZgR",
        "outputId": "341493e7-b470-4a9a-ce01-15caa88e372e"
      },
      "execution_count": null,
      "outputs": [
        {
          "output_type": "execute_result",
          "data": {
            "text/plain": [
              "0.3333332333333398"
            ]
          },
          "metadata": {},
          "execution_count": 13
        }
      ]
    },
    {
      "cell_type": "code",
      "source": [
        "scipy.integrate.simps(fun(x),x)"
      ],
      "metadata": {
        "colab": {
          "base_uri": "https://localhost:8080/"
        },
        "id": "UQ0RQRobLKxK",
        "outputId": "3da129fa-8e7b-46c2-e655-bfa25fd929fa"
      },
      "execution_count": null,
      "outputs": [
        {
          "output_type": "execute_result",
          "data": {
            "text/plain": [
              "0.3333333333333336"
            ]
          },
          "metadata": {},
          "execution_count": 14
        }
      ]
    },
    {
      "cell_type": "code",
      "source": [
        "inteq, einte=scipy.integrate.quad(fun,a,b)\n",
        "inteq"
      ],
      "metadata": {
        "colab": {
          "base_uri": "https://localhost:8080/"
        },
        "id": "y2kvzIzxKs_b",
        "outputId": "bba9c17b-17bd-41aa-aedd-087d5fa5f99c"
      },
      "execution_count": null,
      "outputs": [
        {
          "output_type": "execute_result",
          "data": {
            "text/plain": [
              "0.33333333333333337"
            ]
          },
          "metadata": {},
          "execution_count": 15
        }
      ]
    }
  ]
}