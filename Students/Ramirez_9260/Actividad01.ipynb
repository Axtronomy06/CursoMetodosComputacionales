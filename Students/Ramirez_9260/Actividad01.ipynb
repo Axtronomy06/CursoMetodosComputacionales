{
  "nbformat": 4,
  "nbformat_minor": 0,
  "metadata": {
    "colab": {
      "provenance": []
    },
    "kernelspec": {
      "name": "python3",
      "display_name": "Python 3"
    },
    "language_info": {
      "name": "python"
    }
  },
  "cells": [
    {
      "cell_type": "markdown",
      "source": [
        "Punto 1\n"
      ],
      "metadata": {
        "id": "_wz7sePW_CyG"
      }
    },
    {
      "cell_type": "code",
      "execution_count": null,
      "metadata": {
        "colab": {
          "base_uri": "https://localhost:8080/"
        },
        "id": "LzIOvwqx4Gnu",
        "outputId": "2ce6ee65-2cc4-47b1-bfee-3a0962cfcf50"
      },
      "outputs": [
        {
          "output_type": "stream",
          "name": "stdout",
          "text": [
            "Ingrese un valor para n: 25\n",
            "Doble factorial de 25: 7905853580625\n"
          ]
        }
      ],
      "source": [
        "def doble_factorial(n):\n",
        "    # Manejar casos especiales para n = 0 y n = 1\n",
        "    if n <= 1:\n",
        "        return 1\n",
        "\n",
        "    # Inicializar el valor del doble factorial con n\n",
        "    resultado = n\n",
        "\n",
        "    # Calcular el doble factorial\n",
        "    while n > 2:\n",
        "        # Reducir n en 2 para mantener la paridad\n",
        "        n -= 2\n",
        "\n",
        "        # Multiplicar el valor actual del doble factorial por el nuevo valor de n\n",
        "        resultado *= n\n",
        "\n",
        "    # Retornar el resultado del cálculo\n",
        "    return resultado\n",
        "\n",
        "# Solicitar al usuario que ingrese el valor de n\n",
        "n = int(input(\"Ingrese un valor para n: \"))\n",
        "\n",
        "# Calcular el doble factorial usando la función y mostrar el resultado\n",
        "resultado = doble_factorial(n)\n",
        "print(f\"Doble factorial de {n}: {resultado}\")\n"
      ]
    },
    {
      "cell_type": "markdown",
      "source": [
        "Punto 2\n"
      ],
      "metadata": {
        "id": "JXSBujep_GUu"
      }
    },
    {
      "cell_type": "code",
      "source": [
        "def lucas(n):\n",
        "    # Manejar los casos especiales para los primeros términos\n",
        "    if n == 0:\n",
        "        return 2\n",
        "    elif n == 1:\n",
        "        return 1\n",
        "\n",
        "    # Inicializar los primeros dos términos de la sucesión\n",
        "    termino_anterior = 2\n",
        "    termino_actual = 1\n",
        "\n",
        "    # Calcular el término n de la sucesión de Lucas\n",
        "    for i in range(2, n + 1):\n",
        "        # Calcular el siguiente término sumando los dos anteriores\n",
        "        siguiente_termino = termino_anterior + termino_actual\n",
        "\n",
        "        # Actualizar los términos anteriores para el próximo cálculo\n",
        "        termino_anterior, termino_actual = termino_actual, siguiente_termino\n",
        "\n",
        "    return termino_actual\n",
        "\n",
        "# Solicitar al usuario que ingrese el valor de n\n",
        "n = int(input(\"Ingrese un valor para n: \"))\n",
        "\n",
        "# Calcular el n-ésimo término de la sucesión de Lucas usando la función y mostrar el resultado\n",
        "resultado = lucas(n)\n",
        "print(f\"{n}-esimo término de la sucesión de Lucas: {resultado}\")"
      ],
      "metadata": {
        "colab": {
          "base_uri": "https://localhost:8080/"
        },
        "id": "CjognZUD5Jt-",
        "outputId": "2297554c-865e-4f10-805d-c8ff070006ed"
      },
      "execution_count": 6,
      "outputs": [
        {
          "output_type": "stream",
          "name": "stdout",
          "text": [
            "Ingrese un valor para n: 100\n",
            "100-esimo término de la sucesión de Lucas: 792070839848372253127\n"
          ]
        }
      ]
    },
    {
      "cell_type": "markdown",
      "source": [
        "Punto 3\n"
      ],
      "metadata": {
        "id": "7OSH48Cw_Hpe"
      }
    },
    {
      "cell_type": "code",
      "source": [
        "def binomial(n, k):\n",
        "    # Caso base: Si k es igual a 0 o igual a n, el coeficiente binomial es 1\n",
        "    if k == 0 or k == n:\n",
        "        return 1\n",
        "\n",
        "    # Inicializar el coeficiente binomial\n",
        "    coeficiente = 1\n",
        "\n",
        "    # Calcular el coeficiente binomial utilizando la fórmula n! / (k! * (n - k)!)\n",
        "    for i in range(1, min(k, n - k) + 1):\n",
        "        coeficiente *= n\n",
        "        coeficiente //= i\n",
        "        n -= 1\n",
        "\n",
        "    return coeficiente\n",
        "\n",
        "# Solicitar al usuario que ingrese los valores de n y k\n",
        "n = int(input(\"Ingrese el valor de n: \"))\n",
        "k = int(input(\"Ingrese el valor de k: \"))\n",
        "\n",
        "# Calcular el coeficiente binomial usando la función y mostrar el resultado\n",
        "resultado = binomial(n, k)\n",
        "print(f\"Coeficiente binomial de C({n}, {k}): {resultado}\")"
      ],
      "metadata": {
        "colab": {
          "base_uri": "https://localhost:8080/"
        },
        "id": "ji5iD0ak5b_v",
        "outputId": "d2bd94b9-968a-474e-91cf-71d75a993b87"
      },
      "execution_count": null,
      "outputs": [
        {
          "output_type": "stream",
          "name": "stdout",
          "text": [
            "Ingrese el valor de n: 5\n",
            "Ingrese el valor de k: 6\n",
            "Coeficiente binomial de C(5, 6): 1\n"
          ]
        }
      ]
    }
  ]
}