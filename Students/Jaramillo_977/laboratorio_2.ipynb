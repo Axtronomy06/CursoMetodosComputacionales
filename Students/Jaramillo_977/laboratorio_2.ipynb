{
  "cells": [
    {
      "cell_type": "markdown",
      "metadata": {
        "id": "kKNBYkSAIO_-"
      },
      "source": [
        "<a href=\"https://colab.research.google.com/github/hernansalinas/autogrades/blob/main/Laboratorios_Taller/Lab02_v2_python_basico02.ipynb\" target=\"_parent\"><img src=\"https://colab.research.google.com/assets/colab-badge.svg\" alt=\"Open In Colab\"/></a>\n",
        "\n",
        "\n",
        "# Laboratorio 02\n",
        "### Métodos computacionales para físicos  y astrónomos\n",
        "### Universidad de Antioquia\n",
        "### Prof: Hernan D. Salinas Jiménez\n",
        "\n"
      ]
    },
    {
      "cell_type": "code",
      "execution_count": 1,
      "metadata": {
        "colab": {
          "base_uri": "https://localhost:8080/"
        },
        "id": "TFmOxrpqWCiE",
        "outputId": "e6d80b9e-27a9-4dc5-8f06-7b896bd840fd"
      },
      "outputs": [
        {
          "output_type": "stream",
          "name": "stdout",
          "text": [
            "Cloning into 'autogradesMetodosComputacionales'...\n",
            "remote: Enumerating objects: 624, done.\u001b[K\n",
            "remote: Counting objects: 100% (240/240), done.\u001b[K\n",
            "remote: Compressing objects: 100% (161/161), done.\u001b[K\n",
            "remote: Total 624 (delta 134), reused 139 (delta 78), pack-reused 384\u001b[K\n",
            "Receiving objects: 100% (624/624), 38.77 MiB | 31.14 MiB/s, done.\n",
            "Resolving deltas: 100% (328/328), done.\n"
          ]
        }
      ],
      "source": [
        "# Ejecutar esta celda antes de cada laboratorio\n",
        "!git clone https://github.com/hernansalinas/autogradesMetodosComputacionales.git"
      ]
    },
    {
      "cell_type": "code",
      "execution_count": 2,
      "metadata": {
        "id": "5tCaVJVzIRe3"
      },
      "outputs": [],
      "source": [
        "# Ejecutar esta celda antes de cada laboratorio\n",
        "path=\"autogradesMetodosComputacionales/Laboratorios_Taller/libs\"\n",
        "pathL=\"autogradesMetodosComputacionales/Laboratorios_Taller/libs/Lab_02\"\n",
        "%run -i {path}/libUnitTest.py"
      ]
    },
    {
      "cell_type": "markdown",
      "metadata": {
        "id": "Y94jQ_tzdU6l"
      },
      "source": [
        "### Teoria de números\n",
        "\n",
        "\n",
        "Diseñar un programa en el que entrado  un numero `a`  retorne una variable booleana True or false si cumple que es:\n",
        "\n",
        "2. [Números defectivo](https://es.wikipedia.org/wiki/Número_defectivo) : la suma de los divisores propios es menor que el número.\n",
        "\n",
        "  La rutina se deberá llamar números_defectivos\n",
        "\n",
        "\n",
        "\n",
        "3. [Números abundantes](https://es.wikipedia.org/wiki/Número_abundante): la suma de los divisores es mayor que el número.\n",
        "\n",
        "  La rutina se deberá llamar números_abundantes\n",
        "\n",
        "\n",
        "\n",
        "4. [Números semiperfectos](https://es.wikipedia.org/wiki/N%C3%BAmero_semiperfecto) la suma de todos o algunos de los divisores propios es igual al número.\n",
        "\n",
        "  La rutina se debera llamar numeros_semiperfectos\n",
        "\n",
        "5. [Números perfectos](https://es.wikipedia.org/wiki/N%C3%BAmero_perfecto) la suma de todos sus divisores propios, excepto el mismo numero, es igual al número.\n",
        "\n",
        "   La rutina se deberá llamar numeros_perfectos\n",
        "\n",
        "\n",
        "6. [Números primos](https://es.wikipedia.org/wiki/N%C3%BAmero_primo) el número es divisible unicamente por sí mismo y por 1.\n",
        "   La rutina se deberá llamar numeros_primos\n",
        "\n",
        "\n",
        "Problema no obligatorio:\n",
        "\n",
        "P1. Retornar los 30 primeros números de cada clase"
      ]
    },
    {
      "cell_type": "code",
      "execution_count": 3,
      "metadata": {
        "id": "75dleaTfK3YA"
      },
      "outputs": [],
      "source": [
        "\n",
        "#las rutinas numeros_defectivos y numeros abundantes\n",
        "#funcionan recorriendo los numeros menores que n y suma aquellos cuyo residuo al dividir n entre ellos sea 0\n",
        "\n",
        "def numeros_defectivos(n):\n",
        "  sum=1\n",
        "  for i in range(2,int(n/2)+1):\n",
        "    if n%i==0:\n",
        "      sum=sum+i\n",
        "  return sum<n\n",
        "\n",
        "def numeros_abundantes(n):\n",
        "  sum=1\n",
        "  for i in range(2,int(n/2)+1):\n",
        "    if n%i==0:\n",
        "      sum=sum+i\n",
        "  return sum>n\n",
        "\n",
        "\n",
        "def numeros_semiperfectos(n):\n",
        "\n",
        "  #con esto descartamos rápidamente 2 casos que conocemos\n",
        "  if numeros_defectivos(n):\n",
        "    return False\n",
        "  elif numeros_perfectos(n):\n",
        "    return True\n",
        "\n",
        "#el siguiente bloque hace una lista con los divisores de n\n",
        "  divisores=[1]\n",
        "  for i in range(2,int(n/2+1)):\n",
        "    if n%i==0:\n",
        "      divisores.append(i)\n",
        "\n",
        "\n",
        "#el resto de la funcion establece el rango\n",
        "  max=2**len(divisores)\n",
        "  min=0\n",
        "\n",
        "#se emplea un algoritmo de búsqueda binaria para recorrer los subconjuntos\n",
        "  while max!=min:\n",
        "\n",
        "    ev=int((max+min)/2)\n",
        "\n",
        "    #Bin es el contador inicial en binario\n",
        "    #aux la lista que va a contener el los valores del subconjunto que vamos a sumar\n",
        "    aux=[]\n",
        "    Bin=format(ev, '{fill}{width}b'.format(width=len(divisores), fill=0))[::-1]\n",
        "    for i in range(0,len(divisores)):\n",
        "      if Bin[i]==\"1\":\n",
        "        aux.append(divisores[i])\n",
        "\n",
        "    #se encuentra la suma de el subconjunto de divisores evaluado\n",
        "    sum=0\n",
        "    for i in range(0,len(aux)):\n",
        "      sum=sum+aux[i]\n",
        "\n",
        "    if sum==n:\n",
        "      return True\n",
        "    elif sum>n:\n",
        "      max=ev\n",
        "    elif sum<n:\n",
        "      min=ev\n",
        "\n",
        "  return False\n",
        "\n",
        "def numeros_perfectos(n):\n",
        "  sum=1\n",
        "  for i in range(2,n):\n",
        "    if n%i==0:\n",
        "      sum=sum+i\n",
        "  return sum==n\n",
        "\n",
        "def numeros_primos(n):\n",
        "  if n==1:\n",
        "    return False\n",
        "  divisores=[]\n",
        "  for i in range(2,n):\n",
        "    if n%i==0:\n",
        "      return False\n",
        "  return True"
      ]
    },
    {
      "cell_type": "code",
      "execution_count": 4,
      "metadata": {
        "id": "XSyDVlnzi9KL",
        "colab": {
          "base_uri": "https://localhost:8080/",
          "height": 215
        },
        "outputId": "5fe1dca6-3240-43ef-eed4-6721d43f9745"
      },
      "outputs": [
        {
          "output_type": "display_data",
          "data": {
            "text/plain": [
              "<IPython.core.display.HTML object>"
            ],
            "text/html": [
              "<style>\n",
              "  table { text-align: left; border-collapse: collapse; margin: 1em; caption-side: bottom; font-family: Sans-Serif; font-size: 12px}\n",
              "  caption { text-align: left; padding: 5px }\n",
              "  th, td { border: 2px solid #BFC9CA; padding: 5px }\n",
              "  th { background-color: #BFC9CA }\n",
              "  .passed { background-color: #76D7C4 }\n",
              "  .failed { background-color: #EC7063 }\n",
              "  .skipped { background-color: #EDBB99 }\n",
              "  .score { background-color: #7DCEA0 }\n",
              "  .results .points { display: none }\n",
              "  .results .message { display: block; font-size:smaller; color:#D35400 }\n",
              "  .results .note { display: block; font-size:smaller; font-decoration:italics }\n",
              "  .results .passed::before  { content: \"Passed\" } \n",
              "  .results .skipped::before  { content: \"Skipped\" } \n",
              "  .results .failed::before  { content: \"Failed\" } \n",
              "  .grade .passed  .message:empty::before { content:\"Passed\" }\n",
              "  .grade .failed  .message:empty::before { content:\"Failed\" }\n",
              "  .grade .skipped .message:empty::before { content:\"Skipped\" }   \n",
              "</style>\n",
              "<table class='results'>\n",
              "  <th class='test'>Test</th><th class='result'>Result</th></tr>\n",
              "<tr>\n",
              "  <td class='test'>\n",
              "    Números defectivos, la variable debe ser booleana  \n",
              "    <div class='message'>Done</div>\n",
              "  </td>\n",
              "  <td class='result passed'></td>\n",
              "</tr>\n",
              "<tr>\n",
              "  <td class='test'>\n",
              "    Comprobando si el número 2 es defectivo   \n",
              "    <div class='message'>Done</div>\n",
              "  </td>\n",
              "  <td class='result passed'></td>\n",
              "</tr>\n",
              "<tr>\n",
              "  <td class='test'>\n",
              "    Comprobando si el 6 es un número es defectivo   \n",
              "    <div class='message'>Done</div>\n",
              "  </td>\n",
              "  <td class='result passed'></td>\n",
              "</tr>  <tr><th class='score'>Total Points</th><th class='score'>3</th></tr></table>\n"
            ]
          },
          "metadata": {}
        }
      ],
      "source": [
        "%run -i {pathL}/test02.py"
      ]
    },
    {
      "cell_type": "code",
      "execution_count": 5,
      "metadata": {
        "id": "DfHfIk0DkQev",
        "colab": {
          "base_uri": "https://localhost:8080/",
          "height": 215
        },
        "outputId": "8647ce3e-a10c-4bd2-912a-af0f5423f655"
      },
      "outputs": [
        {
          "output_type": "display_data",
          "data": {
            "text/plain": [
              "<IPython.core.display.HTML object>"
            ],
            "text/html": [
              "<style>\n",
              "  table { text-align: left; border-collapse: collapse; margin: 1em; caption-side: bottom; font-family: Sans-Serif; font-size: 12px}\n",
              "  caption { text-align: left; padding: 5px }\n",
              "  th, td { border: 2px solid #BFC9CA; padding: 5px }\n",
              "  th { background-color: #BFC9CA }\n",
              "  .passed { background-color: #76D7C4 }\n",
              "  .failed { background-color: #EC7063 }\n",
              "  .skipped { background-color: #EDBB99 }\n",
              "  .score { background-color: #7DCEA0 }\n",
              "  .results .points { display: none }\n",
              "  .results .message { display: block; font-size:smaller; color:#D35400 }\n",
              "  .results .note { display: block; font-size:smaller; font-decoration:italics }\n",
              "  .results .passed::before  { content: \"Passed\" } \n",
              "  .results .skipped::before  { content: \"Skipped\" } \n",
              "  .results .failed::before  { content: \"Failed\" } \n",
              "  .grade .passed  .message:empty::before { content:\"Passed\" }\n",
              "  .grade .failed  .message:empty::before { content:\"Failed\" }\n",
              "  .grade .skipped .message:empty::before { content:\"Skipped\" }   \n",
              "</style>\n",
              "<table class='results'>\n",
              "  <th class='test'>Test</th><th class='result'>Result</th></tr>\n",
              "<tr>\n",
              "  <td class='test'>\n",
              "    Números abundantes, la variable debe ser booleana  \n",
              "    <div class='message'>Done</div>\n",
              "  </td>\n",
              "  <td class='result passed'></td>\n",
              "</tr>\n",
              "<tr>\n",
              "  <td class='test'>\n",
              "    Comprobando si el número 100 es abundantes   \n",
              "    <div class='message'>Done</div>\n",
              "  </td>\n",
              "  <td class='result passed'></td>\n",
              "</tr>\n",
              "<tr>\n",
              "  <td class='test'>\n",
              "    Comprobando si el 6 es un número  abundante   \n",
              "    <div class='message'>Done</div>\n",
              "  </td>\n",
              "  <td class='result passed'></td>\n",
              "</tr>  <tr><th class='score'>Total Points</th><th class='score'>3</th></tr></table>\n"
            ]
          },
          "metadata": {}
        }
      ],
      "source": [
        "%run -i {pathL}/test03.py"
      ]
    },
    {
      "cell_type": "code",
      "execution_count": 6,
      "metadata": {
        "id": "MJzLOXxHqKrz",
        "colab": {
          "base_uri": "https://localhost:8080/",
          "height": 215
        },
        "outputId": "754461f6-ad60-4931-c5a5-2e6c914a8f41"
      },
      "outputs": [
        {
          "output_type": "display_data",
          "data": {
            "text/plain": [
              "<IPython.core.display.HTML object>"
            ],
            "text/html": [
              "<style>\n",
              "  table { text-align: left; border-collapse: collapse; margin: 1em; caption-side: bottom; font-family: Sans-Serif; font-size: 12px}\n",
              "  caption { text-align: left; padding: 5px }\n",
              "  th, td { border: 2px solid #BFC9CA; padding: 5px }\n",
              "  th { background-color: #BFC9CA }\n",
              "  .passed { background-color: #76D7C4 }\n",
              "  .failed { background-color: #EC7063 }\n",
              "  .skipped { background-color: #EDBB99 }\n",
              "  .score { background-color: #7DCEA0 }\n",
              "  .results .points { display: none }\n",
              "  .results .message { display: block; font-size:smaller; color:#D35400 }\n",
              "  .results .note { display: block; font-size:smaller; font-decoration:italics }\n",
              "  .results .passed::before  { content: \"Passed\" } \n",
              "  .results .skipped::before  { content: \"Skipped\" } \n",
              "  .results .failed::before  { content: \"Failed\" } \n",
              "  .grade .passed  .message:empty::before { content:\"Passed\" }\n",
              "  .grade .failed  .message:empty::before { content:\"Failed\" }\n",
              "  .grade .skipped .message:empty::before { content:\"Skipped\" }   \n",
              "</style>\n",
              "<table class='results'>\n",
              "  <th class='test'>Test</th><th class='result'>Result</th></tr>\n",
              "<tr>\n",
              "  <td class='test'>\n",
              "    Números semiperfectos, la variable debe ser booleana  \n",
              "    <div class='message'>Done</div>\n",
              "  </td>\n",
              "  <td class='result passed'></td>\n",
              "</tr>\n",
              "<tr>\n",
              "  <td class='test'>\n",
              "    Comprobando si el número 60 es semiperfectos   \n",
              "    <div class='message'>Done</div>\n",
              "  </td>\n",
              "  <td class='result passed'></td>\n",
              "</tr>\n",
              "<tr>\n",
              "  <td class='test'>\n",
              "    Comprobando si el 3 es un número  semiperfectos   \n",
              "    <div class='message'>Done</div>\n",
              "  </td>\n",
              "  <td class='result passed'></td>\n",
              "</tr>  <tr><th class='score'>Total Points</th><th class='score'>3</th></tr></table>\n"
            ]
          },
          "metadata": {}
        }
      ],
      "source": [
        "%run -i {pathL}/test04.py"
      ]
    },
    {
      "cell_type": "code",
      "execution_count": 7,
      "metadata": {
        "id": "m9bNF9I6qMnD",
        "colab": {
          "base_uri": "https://localhost:8080/",
          "height": 215
        },
        "outputId": "c1b8d377-1883-4f84-bfa4-fb9dd4fd3565"
      },
      "outputs": [
        {
          "output_type": "display_data",
          "data": {
            "text/plain": [
              "<IPython.core.display.HTML object>"
            ],
            "text/html": [
              "<style>\n",
              "  table { text-align: left; border-collapse: collapse; margin: 1em; caption-side: bottom; font-family: Sans-Serif; font-size: 12px}\n",
              "  caption { text-align: left; padding: 5px }\n",
              "  th, td { border: 2px solid #BFC9CA; padding: 5px }\n",
              "  th { background-color: #BFC9CA }\n",
              "  .passed { background-color: #76D7C4 }\n",
              "  .failed { background-color: #EC7063 }\n",
              "  .skipped { background-color: #EDBB99 }\n",
              "  .score { background-color: #7DCEA0 }\n",
              "  .results .points { display: none }\n",
              "  .results .message { display: block; font-size:smaller; color:#D35400 }\n",
              "  .results .note { display: block; font-size:smaller; font-decoration:italics }\n",
              "  .results .passed::before  { content: \"Passed\" } \n",
              "  .results .skipped::before  { content: \"Skipped\" } \n",
              "  .results .failed::before  { content: \"Failed\" } \n",
              "  .grade .passed  .message:empty::before { content:\"Passed\" }\n",
              "  .grade .failed  .message:empty::before { content:\"Failed\" }\n",
              "  .grade .skipped .message:empty::before { content:\"Skipped\" }   \n",
              "</style>\n",
              "<table class='results'>\n",
              "  <th class='test'>Test</th><th class='result'>Result</th></tr>\n",
              "<tr>\n",
              "  <td class='test'>\n",
              "    Números perfectos, la variable debe ser booleana  \n",
              "    <div class='message'>Done</div>\n",
              "  </td>\n",
              "  <td class='result passed'></td>\n",
              "</tr>\n",
              "<tr>\n",
              "  <td class='test'>\n",
              "    Comprobando si el número 6 es perfecto   \n",
              "    <div class='message'>Done</div>\n",
              "  </td>\n",
              "  <td class='result passed'></td>\n",
              "</tr>\n",
              "<tr>\n",
              "  <td class='test'>\n",
              "    Comprobando si el 9 es un número  perfecto   \n",
              "    <div class='message'>Done</div>\n",
              "  </td>\n",
              "  <td class='result passed'></td>\n",
              "</tr>  <tr><th class='score'>Total Points</th><th class='score'>3</th></tr></table>\n"
            ]
          },
          "metadata": {}
        }
      ],
      "source": [
        "%run -i {pathL}/test05.py"
      ]
    },
    {
      "cell_type": "code",
      "execution_count": 8,
      "metadata": {
        "id": "4uRbgtG8qN25",
        "colab": {
          "base_uri": "https://localhost:8080/",
          "height": 215
        },
        "outputId": "2fd4e174-9ba0-4132-96a0-2eb044ffed7a"
      },
      "outputs": [
        {
          "output_type": "display_data",
          "data": {
            "text/plain": [
              "<IPython.core.display.HTML object>"
            ],
            "text/html": [
              "<style>\n",
              "  table { text-align: left; border-collapse: collapse; margin: 1em; caption-side: bottom; font-family: Sans-Serif; font-size: 12px}\n",
              "  caption { text-align: left; padding: 5px }\n",
              "  th, td { border: 2px solid #BFC9CA; padding: 5px }\n",
              "  th { background-color: #BFC9CA }\n",
              "  .passed { background-color: #76D7C4 }\n",
              "  .failed { background-color: #EC7063 }\n",
              "  .skipped { background-color: #EDBB99 }\n",
              "  .score { background-color: #7DCEA0 }\n",
              "  .results .points { display: none }\n",
              "  .results .message { display: block; font-size:smaller; color:#D35400 }\n",
              "  .results .note { display: block; font-size:smaller; font-decoration:italics }\n",
              "  .results .passed::before  { content: \"Passed\" } \n",
              "  .results .skipped::before  { content: \"Skipped\" } \n",
              "  .results .failed::before  { content: \"Failed\" } \n",
              "  .grade .passed  .message:empty::before { content:\"Passed\" }\n",
              "  .grade .failed  .message:empty::before { content:\"Failed\" }\n",
              "  .grade .skipped .message:empty::before { content:\"Skipped\" }   \n",
              "</style>\n",
              "<table class='results'>\n",
              "  <th class='test'>Test</th><th class='result'>Result</th></tr>\n",
              "<tr>\n",
              "  <td class='test'>\n",
              "    Números primos, la variable debe ser booleana  \n",
              "    <div class='message'>Done</div>\n",
              "  </td>\n",
              "  <td class='result passed'></td>\n",
              "</tr>\n",
              "<tr>\n",
              "  <td class='test'>\n",
              "    Comprobando si el número 41 es primos   \n",
              "    <div class='message'>Done</div>\n",
              "  </td>\n",
              "  <td class='result passed'></td>\n",
              "</tr>\n",
              "<tr>\n",
              "  <td class='test'>\n",
              "    Comprobando si el 8 es un número  primos   \n",
              "    <div class='message'>Done</div>\n",
              "  </td>\n",
              "  <td class='result passed'></td>\n",
              "</tr>  <tr><th class='score'>Total Points</th><th class='score'>3</th></tr></table>\n"
            ]
          },
          "metadata": {}
        }
      ],
      "source": [
        "%run -i {pathL}/test06.py"
      ]
    },
    {
      "cell_type": "markdown",
      "metadata": {
        "id": "WXOT_ssoJh8x"
      },
      "source": [
        "\n",
        "7. Diseñar un programa en el que entrado dos números `a`  y `b` retorne una variable booleana **True** o **false**.\n",
        "\n",
        "  [Números amigos](https://es.wikipedia.org/wiki/N%C3%BAmeros_amigos) `a` y `b` tales que a es la suma de los divisores propios de `b` y viceversa.\n",
        "    La rutina se debera llamar numeros_amigos\n",
        "\n",
        "\n",
        "\n",
        "\n",
        "P2. Retornar los 10 primeros pares de numeros perfectos, semiperfectos, amigos\n",
        "\n"
      ]
    },
    {
      "cell_type": "code",
      "source": [
        "def suma_divisores(n):\n",
        "  sum=1\n",
        "  for i in range(2,n):\n",
        "    if n%i==0:\n",
        "      sum=sum+i\n",
        "  return sum\n",
        "\n",
        "def numeros_amigos(a,b):\n",
        "  return (suma_divisores(a)==b)and(suma_divisores(b)==a)\n"
      ],
      "metadata": {
        "id": "JU3tynDbfaMZ"
      },
      "execution_count": 9,
      "outputs": []
    },
    {
      "cell_type": "code",
      "execution_count": 10,
      "metadata": {
        "id": "VKsxuvsll5gm",
        "colab": {
          "base_uri": "https://localhost:8080/",
          "height": 215
        },
        "outputId": "0d7b1d30-6c0c-4aff-c31f-ab987921dbe3"
      },
      "outputs": [
        {
          "output_type": "display_data",
          "data": {
            "text/plain": [
              "<IPython.core.display.HTML object>"
            ],
            "text/html": [
              "<style>\n",
              "  table { text-align: left; border-collapse: collapse; margin: 1em; caption-side: bottom; font-family: Sans-Serif; font-size: 12px}\n",
              "  caption { text-align: left; padding: 5px }\n",
              "  th, td { border: 2px solid #BFC9CA; padding: 5px }\n",
              "  th { background-color: #BFC9CA }\n",
              "  .passed { background-color: #76D7C4 }\n",
              "  .failed { background-color: #EC7063 }\n",
              "  .skipped { background-color: #EDBB99 }\n",
              "  .score { background-color: #7DCEA0 }\n",
              "  .results .points { display: none }\n",
              "  .results .message { display: block; font-size:smaller; color:#D35400 }\n",
              "  .results .note { display: block; font-size:smaller; font-decoration:italics }\n",
              "  .results .passed::before  { content: \"Passed\" } \n",
              "  .results .skipped::before  { content: \"Skipped\" } \n",
              "  .results .failed::before  { content: \"Failed\" } \n",
              "  .grade .passed  .message:empty::before { content:\"Passed\" }\n",
              "  .grade .failed  .message:empty::before { content:\"Failed\" }\n",
              "  .grade .skipped .message:empty::before { content:\"Skipped\" }   \n",
              "</style>\n",
              "<table class='results'>\n",
              "  <th class='test'>Test</th><th class='result'>Result</th></tr>\n",
              "<tr>\n",
              "  <td class='test'>\n",
              "    Números amigos, la variable debe ser booleana  \n",
              "    <div class='message'>Done</div>\n",
              "  </td>\n",
              "  <td class='result passed'></td>\n",
              "</tr>\n",
              "<tr>\n",
              "  <td class='test'>\n",
              "    Comprobando si los números (220, 284) son amigos   \n",
              "    <div class='message'>Done</div>\n",
              "  </td>\n",
              "  <td class='result passed'></td>\n",
              "</tr>\n",
              "<tr>\n",
              "  <td class='test'>\n",
              "    Comprobando si  (152, 64) no es un número amigo   \n",
              "    <div class='message'>Done</div>\n",
              "  </td>\n",
              "  <td class='result passed'></td>\n",
              "</tr>  <tr><th class='score'>Total Points</th><th class='score'>3</th></tr></table>\n"
            ]
          },
          "metadata": {}
        }
      ],
      "source": [
        "%run -i {pathL}/test07.py"
      ]
    },
    {
      "cell_type": "markdown",
      "metadata": {
        "id": "1g5BinQAKZnd"
      },
      "source": [
        "8 Construir un programa en el que  entrado un arreglo de números se  ordenen de forma ascendente, Ver algoritmo\n",
        "[Quicksort](https://es.wikipedia.org/wiki/Quicksort).\n",
        "\n",
        "\n",
        "```python\n",
        "\n",
        "\n",
        "<<< v = [22, 32, 42, 12, 22, 31, 41, 11, 12, 232, 24, 12, 22]\n",
        "<<< def quicksort(v):\n",
        "\n",
        "<<<     return v\n",
        "<<< w = print(quicksort(v))\n",
        "<<< [11, 12, 12, 12, 22, 22, 22, 24, 31, 32, 41, 42, 232]\n",
        "\n",
        "```\n",
        "\n",
        "Sólo para comprobar tu código,  puedes hacer uso del comando sort de python.\n",
        "```python\n",
        "<<< b = [22, 32, 42, 12, 22, 31, 41, 11, 12, 232, 24, 12, 22]\n",
        "\n",
        "<<< print(b.sort())\n",
        "\n",
        "<<< [11, 12, 12, 12, 22, 22, 22, 24, 31, 32, 41, 42, 232]\n",
        "```"
      ]
    },
    {
      "cell_type": "code",
      "execution_count": 11,
      "metadata": {
        "id": "z52Jut9kKZnd",
        "colab": {
          "base_uri": "https://localhost:8080/"
        },
        "outputId": "c0598e21-4f66-4c97-9fbb-6efd071ee333"
      },
      "outputs": [
        {
          "output_type": "execute_result",
          "data": {
            "text/plain": [
              "[11, 12, 12, 12, 22, 22, 22, 24, 31, 32, 41, 42, 232]"
            ]
          },
          "metadata": {},
          "execution_count": 11
        }
      ],
      "source": [
        "def ordenar(arr):\n",
        "    if len(arr) <= 1:\n",
        "        return arr\n",
        "    pivote=arr[len(arr)//2]\n",
        "    izq=[x for x in arr if x<pivote]\n",
        "    med=[x for x in arr if x==pivote]\n",
        "    der=[x for x in arr if x >pivote]\n",
        "    return ordenar(izq)+med+ordenar(der)\n",
        "\n",
        "ordenar([22, 32, 42, 12, 22, 31, 41, 11, 12, 232, 24, 12, 22])"
      ]
    }
  ],
  "metadata": {
    "colab": {
      "provenance": []
    },
    "kernelspec": {
      "display_name": "Python 3 (ipykernel)",
      "language": "python",
      "name": "python3"
    },
    "language_info": {
      "codemirror_mode": {
        "name": "ipython",
        "version": 3
      },
      "file_extension": ".py",
      "mimetype": "text/x-python",
      "name": "python",
      "nbconvert_exporter": "python",
      "pygments_lexer": "ipython3",
      "version": "3.10.9"
    }
  },
  "nbformat": 4,
  "nbformat_minor": 0
}