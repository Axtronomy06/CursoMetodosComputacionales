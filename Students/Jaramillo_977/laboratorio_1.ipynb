{
  "cells": [
    {
      "cell_type": "markdown",
      "metadata": {
        "id": "GUTNoRgHTjfg"
      },
      "source": [
        "<a href=\"https://colab.research.google.com/github/hernansalinas/autogradesMetodosComputacionales/blob/main/Laboratorios_Taller/Lab01_python_basico01.ipynb\" target=\"_parent\"><img src=\"https://colab.research.google.com/assets/colab-badge.svg\" alt=\"Open In Colab\"/></a>\n",
        "\n",
        "\n",
        "\n",
        "\n",
        "# Laboratorio 01\n",
        "### Métodos computacionales para físicos  y astrónomos\n",
        "### Universidad de Antioquia\n",
        "### Prof: Hernan D. Salinas Jiménez\n"
      ]
    },
    {
      "cell_type": "code",
      "execution_count": 19,
      "metadata": {
        "colab": {
          "base_uri": "https://localhost:8080/"
        },
        "id": "NmGdQYCBL7cs",
        "outputId": "d75a5371-4640-4520-e433-80aef0d34f09"
      },
      "outputs": [
        {
          "output_type": "stream",
          "name": "stdout",
          "text": [
            "fatal: destination path 'autogradesMetodosComputacionales' already exists and is not an empty directory.\n"
          ]
        }
      ],
      "source": [
        "# Ejecutar esta celda antes de cada laboratorio\n",
        "!git clone https://github.com/hernansalinas/autogradesMetodosComputacionales.git\n",
        "%run -i autogradesMetodosComputacionales/example/libs/libUnitTest.py"
      ]
    },
    {
      "cell_type": "markdown",
      "metadata": {
        "id": "OkdTI9KQ8MLN"
      },
      "source": [
        "# Operaciones básicas en python.\n",
        "\n",
        "\n",
        "### Definicion de variables\n",
        "1. Definir una variable x tipo entero.\n",
        "2. Definir una variable y tipo float\n",
        "3. Definir una variable z tipo string."
      ]
    },
    {
      "cell_type": "code",
      "source": [
        "x=2\n",
        "y=2.1\n",
        "z='wassd'"
      ],
      "metadata": {
        "id": "87qkWt9ihrAh"
      },
      "execution_count": 20,
      "outputs": []
    },
    {
      "cell_type": "code",
      "execution_count": 21,
      "metadata": {
        "colab": {
          "base_uri": "https://localhost:8080/",
          "height": 215
        },
        "id": "aod54z2z-ZeY",
        "outputId": "9068a476-22e4-4065-b21f-9ece7c851924"
      },
      "outputs": [
        {
          "output_type": "display_data",
          "data": {
            "text/plain": [
              "<IPython.core.display.HTML object>"
            ],
            "text/html": [
              "<style>\n",
              "  table { text-align: left; border-collapse: collapse; margin: 1em; caption-side: bottom; font-family: Sans-Serif; font-size: 12px}\n",
              "  caption { text-align: left; padding: 5px }\n",
              "  th, td { border: 2px solid #BFC9CA; padding: 5px }\n",
              "  th { background-color: #BFC9CA }\n",
              "  .passed { background-color: #76D7C4 }\n",
              "  .failed { background-color: #EC7063 }\n",
              "  .skipped { background-color: #EDBB99 }\n",
              "  .score { background-color: #7DCEA0 }\n",
              "  .results .points { display: none }\n",
              "  .results .message { display: block; font-size:smaller; color:#D35400 }\n",
              "  .results .note { display: block; font-size:smaller; font-decoration:italics }\n",
              "  .results .passed::before  { content: \"Passed\" } \n",
              "  .results .skipped::before  { content: \"Skipped\" } \n",
              "  .results .failed::before  { content: \"Failed\" } \n",
              "  .grade .passed  .message:empty::before { content:\"Passed\" }\n",
              "  .grade .failed  .message:empty::before { content:\"Failed\" }\n",
              "  .grade .skipped .message:empty::before { content:\"Skipped\" }   \n",
              "</style>\n",
              "<table class='results'>\n",
              "  <th class='test'>Test</th><th class='result'>Result</th></tr>\n",
              "<tr>\n",
              "  <td class='test'>\n",
              "    Definir x como un numero entero\n",
              "    <div class='message'>Done</div>\n",
              "  </td>\n",
              "  <td class='result passed'></td>\n",
              "</tr>\n",
              "<tr>\n",
              "  <td class='test'>\n",
              "    Defiir y como una variable tipo float\n",
              "    <div class='message'>Done</div>\n",
              "  </td>\n",
              "  <td class='result passed'></td>\n",
              "</tr>\n",
              "<tr>\n",
              "  <td class='test'>\n",
              "    Definir z como un string\n",
              "    <div class='message'>Done</div>\n",
              "  </td>\n",
              "  <td class='result passed'></td>\n",
              "</tr>  <tr><th class='score'>Total Points</th><th class='score'>3</th></tr></table>\n"
            ]
          },
          "metadata": {}
        }
      ],
      "source": [
        "# Ejecute la presente celda para probar su solucion\n",
        "%run -i autogradesMetodosComputacionales/example/libs/Lab_autotesting01/test01.py"
      ]
    },
    {
      "cell_type": "markdown",
      "metadata": {
        "id": "9JTEaQro_I8E"
      },
      "source": [
        "\n",
        "\n",
        "###  Creación de Funciones\n",
        "4. Crear una función con el nombre mul_lambda, lambda que multiple dos enteros, el resultado deberá ser un número entero.  \n",
        "\n",
        "Ejemplo de ejecución:\n",
        "\n",
        "```python\n",
        "mul_lambda(a,b)\n",
        "donde a, y b son numeros enteros\n",
        "```\n",
        "\n",
        "\n",
        "5. Crear una función explicita con el nombre de suma_int, que realice la suma de dos números enteros\n",
        "\n",
        "Ejemplo de ejecución:\n",
        "\n",
        "```python\n",
        "sum_int(a,b)\n",
        "donde a, y b son numeros enteros\n",
        "```\n",
        "\n"
      ]
    },
    {
      "cell_type": "code",
      "source": [
        "def mul_lambda(a,b):\n",
        "  return a*b\n",
        "\n",
        "def sum_int(a,b):\n",
        "  return a+b"
      ],
      "metadata": {
        "id": "zuouE-H7h7Bm"
      },
      "execution_count": 22,
      "outputs": []
    },
    {
      "cell_type": "code",
      "execution_count": 23,
      "metadata": {
        "colab": {
          "base_uri": "https://localhost:8080/",
          "height": 175
        },
        "id": "lSsnEjAx_Gay",
        "outputId": "6a0aaf9a-6098-4f0b-daa7-5a6be6c4e018"
      },
      "outputs": [
        {
          "output_type": "display_data",
          "data": {
            "text/plain": [
              "<IPython.core.display.HTML object>"
            ],
            "text/html": [
              "<style>\n",
              "  table { text-align: left; border-collapse: collapse; margin: 1em; caption-side: bottom; font-family: Sans-Serif; font-size: 12px}\n",
              "  caption { text-align: left; padding: 5px }\n",
              "  th, td { border: 2px solid #BFC9CA; padding: 5px }\n",
              "  th { background-color: #BFC9CA }\n",
              "  .passed { background-color: #76D7C4 }\n",
              "  .failed { background-color: #EC7063 }\n",
              "  .skipped { background-color: #EDBB99 }\n",
              "  .score { background-color: #7DCEA0 }\n",
              "  .results .points { display: none }\n",
              "  .results .message { display: block; font-size:smaller; color:#D35400 }\n",
              "  .results .note { display: block; font-size:smaller; font-decoration:italics }\n",
              "  .results .passed::before  { content: \"Passed\" } \n",
              "  .results .skipped::before  { content: \"Skipped\" } \n",
              "  .results .failed::before  { content: \"Failed\" } \n",
              "  .grade .passed  .message:empty::before { content:\"Passed\" }\n",
              "  .grade .failed  .message:empty::before { content:\"Failed\" }\n",
              "  .grade .skipped .message:empty::before { content:\"Skipped\" }   \n",
              "</style>\n",
              "<table class='results'>\n",
              "  <th class='test'>Test</th><th class='result'>Result</th></tr>\n",
              "<tr>\n",
              "  <td class='test'>\n",
              "    Crear una funcion que multiplique dos números\n",
              "    <div class='message'>Done</div>\n",
              "  </td>\n",
              "  <td class='result passed'></td>\n",
              "</tr>\n",
              "<tr>\n",
              "  <td class='test'>\n",
              "    Crear una funcion que sume dos números\n",
              "    <div class='message'>Done</div>\n",
              "  </td>\n",
              "  <td class='result passed'></td>\n",
              "</tr>  <tr><th class='score'>Total Points</th><th class='score'>2</th></tr></table>\n"
            ]
          },
          "metadata": {}
        }
      ],
      "source": [
        "%run -i autogradesMetodosComputacionales/example/libs/Lab_autotesting01/test02.py"
      ]
    },
    {
      "cell_type": "markdown",
      "metadata": {
        "id": "uu42QkJsCQMb"
      },
      "source": [
        "\n",
        "###  Números complejos\n",
        "\n",
        "6. Defina un número complejo w.\n",
        "7. Retorne la parte imaginaria de w, almacenela en una variable w_img\n",
        "8. Retorne la parte real de w, almacenela en una variable w_real.\n",
        "9. Retorne el complejo conjugado de w, almacenla en una varible w_con.\n"
      ]
    },
    {
      "cell_type": "code",
      "source": [
        "w=12+1j\n",
        "w_imag=w.imag\n",
        "w_real=w.real\n",
        "w_con=w.conjugate()"
      ],
      "metadata": {
        "id": "7OWPmKw5iarc",
        "colab": {
          "base_uri": "https://localhost:8080/"
        },
        "outputId": "fd3783ca-af3a-4cd3-8dc1-421d1d2fabc4"
      },
      "execution_count": 38,
      "outputs": [
        {
          "output_type": "execute_result",
          "data": {
            "text/plain": [
              "1.0"
            ]
          },
          "metadata": {},
          "execution_count": 38
        }
      ]
    },
    {
      "cell_type": "code",
      "execution_count": 39,
      "metadata": {
        "colab": {
          "base_uri": "https://localhost:8080/",
          "height": 254
        },
        "id": "jx3J6yE1Kwki",
        "outputId": "0064ad2e-3743-4038-be48-a928529e9d79"
      },
      "outputs": [
        {
          "output_type": "display_data",
          "data": {
            "text/plain": [
              "<IPython.core.display.HTML object>"
            ],
            "text/html": [
              "<style>\n",
              "  table { text-align: left; border-collapse: collapse; margin: 1em; caption-side: bottom; font-family: Sans-Serif; font-size: 12px}\n",
              "  caption { text-align: left; padding: 5px }\n",
              "  th, td { border: 2px solid #BFC9CA; padding: 5px }\n",
              "  th { background-color: #BFC9CA }\n",
              "  .passed { background-color: #76D7C4 }\n",
              "  .failed { background-color: #EC7063 }\n",
              "  .skipped { background-color: #EDBB99 }\n",
              "  .score { background-color: #7DCEA0 }\n",
              "  .results .points { display: none }\n",
              "  .results .message { display: block; font-size:smaller; color:#D35400 }\n",
              "  .results .note { display: block; font-size:smaller; font-decoration:italics }\n",
              "  .results .passed::before  { content: \"Passed\" } \n",
              "  .results .skipped::before  { content: \"Skipped\" } \n",
              "  .results .failed::before  { content: \"Failed\" } \n",
              "  .grade .passed  .message:empty::before { content:\"Passed\" }\n",
              "  .grade .failed  .message:empty::before { content:\"Failed\" }\n",
              "  .grade .skipped .message:empty::before { content:\"Skipped\" }   \n",
              "</style>\n",
              "<table class='results'>\n",
              "  <th class='test'>Test</th><th class='result'>Result</th></tr>\n",
              "<tr>\n",
              "  <td class='test'>\n",
              "    Definir w como un número complejo\n",
              "    <div class='message'>Done</div>\n",
              "  </td>\n",
              "  <td class='result passed'></td>\n",
              "</tr>\n",
              "<tr>\n",
              "  <td class='test'>\n",
              "    Determinar la parte real de w\n",
              "    <div class='message'>Done</div>\n",
              "  </td>\n",
              "  <td class='result passed'></td>\n",
              "</tr>\n",
              "<tr>\n",
              "  <td class='test'>\n",
              "    Determinar la parte imaginaria  de w\n",
              "    <div class='message'>Error: 1.0 != 0.0 : #-The expect value is 1.0 and the functions test is 0.0\n",
              "</div>\n",
              "  </td>\n",
              "  <td class='result failed'></td>\n",
              "</tr>\n",
              "<tr>\n",
              "  <td class='test'>\n",
              "    Determinar el conjugado de w\n",
              "    <div class='message'>Done</div>\n",
              "  </td>\n",
              "  <td class='result passed'></td>\n",
              "</tr>  <tr><th class='score'>Total Points</th><th class='score'>2</th></tr></table>\n"
            ]
          },
          "metadata": {}
        }
      ],
      "source": [
        "%run -i autogradesMetodosComputacionales/example/libs/Lab_autotesting01/test03.py"
      ]
    },
    {
      "cell_type": "markdown",
      "metadata": {
        "id": "P-2vd2FFV-R-"
      },
      "source": [
        "###  Listas\n",
        "\n",
        "10.0  Construir una lista L con las variables usadas hasta acá y los resultados de las funciones.\n",
        "\n",
        "L=[x,y,z,mul_lambda, mul_int,w, w_img, w_real, w_con ]\n",
        "\n",
        "11.0 Invierta la lista y almacene en una variable L_reverse\n",
        "\n",
        "12.0 Almacene los elementos impares de la lista, L_imp\n",
        "\n",
        "13.0 Almacene los elementos pares de la lista, L_par\n",
        "\n",
        "14.0 Modifique el elemento 5 de la lista L con la palabra \"hello world\"\n"
      ]
    },
    {
      "cell_type": "code",
      "execution_count": 26,
      "metadata": {
        "id": "qq83TzINWBph"
      },
      "outputs": [],
      "source": [
        "w=1+0.j\n",
        "x=int(1)\n",
        "y=float(2.0)\n",
        "z=\"hola\"\n",
        "\n",
        "mul_lambda=lambda x:2\n",
        "mul_int=lambda x:2\n",
        "\n",
        "w_img=w.imag\n",
        "w_real=w.real\n",
        "w_con=w.conjugate()\n",
        "\n",
        "L=[x,y,z,mul_lambda,mul_int, w, w_img,w_real,w_con]\n",
        "\n",
        "L_reverse=list(reversed(L))\n",
        "L_imp=L[1::2]\n",
        "L_par=L[0::2]\n",
        "#L_new=L\n",
        "#L_new[5]=\"hello_world\""
      ]
    },
    {
      "cell_type": "code",
      "execution_count": 27,
      "metadata": {
        "colab": {
          "base_uri": "https://localhost:8080/",
          "height": 647
        },
        "id": "rUAEpJDDdM2q",
        "outputId": "e51e9000-6c70-40bf-8c60-f64a6596b6d7"
      },
      "outputs": [
        {
          "output_type": "display_data",
          "data": {
            "text/plain": [
              "<IPython.core.display.HTML object>"
            ],
            "text/html": [
              "<style>\n",
              "  table { text-align: left; border-collapse: collapse; margin: 1em; caption-side: bottom; font-family: Sans-Serif; font-size: 12px}\n",
              "  caption { text-align: left; padding: 5px }\n",
              "  th, td { border: 2px solid #BFC9CA; padding: 5px }\n",
              "  th { background-color: #BFC9CA }\n",
              "  .passed { background-color: #76D7C4 }\n",
              "  .failed { background-color: #EC7063 }\n",
              "  .skipped { background-color: #EDBB99 }\n",
              "  .score { background-color: #7DCEA0 }\n",
              "  .results .points { display: none }\n",
              "  .results .message { display: block; font-size:smaller; color:#D35400 }\n",
              "  .results .note { display: block; font-size:smaller; font-decoration:italics }\n",
              "  .results .passed::before  { content: \"Passed\" } \n",
              "  .results .skipped::before  { content: \"Skipped\" } \n",
              "  .results .failed::before  { content: \"Failed\" } \n",
              "  .grade .passed  .message:empty::before { content:\"Passed\" }\n",
              "  .grade .failed  .message:empty::before { content:\"Failed\" }\n",
              "  .grade .skipped .message:empty::before { content:\"Skipped\" }   \n",
              "</style>\n",
              "<table class='results'>\n",
              "  <th class='test'>Test</th><th class='result'>Result</th></tr>\n",
              "<tr>\n",
              "  <td class='test'>\n",
              "    Definir x como un numero entero\n",
              "    <div class='message'>Done</div>\n",
              "  </td>\n",
              "  <td class='result passed'></td>\n",
              "</tr>\n",
              "<tr>\n",
              "  <td class='test'>\n",
              "    Defiir y como una variable tipo float\n",
              "    <div class='message'>Done</div>\n",
              "  </td>\n",
              "  <td class='result passed'></td>\n",
              "</tr>\n",
              "<tr>\n",
              "  <td class='test'>\n",
              "    Definir z como un string\n",
              "    <div class='message'>Done</div>\n",
              "  </td>\n",
              "  <td class='result passed'></td>\n",
              "</tr>\n",
              "<tr>\n",
              "  <td class='test'>\n",
              "    Definir mul_lambda como una funcion\n",
              "    <div class='message'>Done</div>\n",
              "  </td>\n",
              "  <td class='result passed'></td>\n",
              "</tr>\n",
              "<tr>\n",
              "  <td class='test'>\n",
              "    Definir mul_int como una funcion\n",
              "    <div class='message'>Done</div>\n",
              "  </td>\n",
              "  <td class='result passed'></td>\n",
              "</tr>\n",
              "<tr>\n",
              "  <td class='test'>\n",
              "    Definir w como un número complejo\n",
              "    <div class='message'>Done</div>\n",
              "  </td>\n",
              "  <td class='result passed'></td>\n",
              "</tr>\n",
              "<tr>\n",
              "  <td class='test'>\n",
              "    Determinar la parte imaginiaria de w\n",
              "    <div class='message'>Done</div>\n",
              "  </td>\n",
              "  <td class='result passed'></td>\n",
              "</tr>\n",
              "<tr>\n",
              "  <td class='test'>\n",
              "    Determinar la parte real de w\n",
              "    <div class='message'>Done</div>\n",
              "  </td>\n",
              "  <td class='result passed'></td>\n",
              "</tr>\n",
              "<tr>\n",
              "  <td class='test'>\n",
              "    Calcular el complejo conjugado de w\n",
              "    <div class='message'>Done</div>\n",
              "  </td>\n",
              "  <td class='result passed'></td>\n",
              "</tr>\n",
              "<tr>\n",
              "  <td class='test'>\n",
              "    Definir una lista L\n",
              "    <div class='message'>Done</div>\n",
              "  </td>\n",
              "  <td class='result passed'></td>\n",
              "</tr>\n",
              "<tr>\n",
              "  <td class='test'>\n",
              "    La longitud de lista debe ser 9 \n",
              "    <div class='message'>Done</div>\n",
              "  </td>\n",
              "  <td class='result passed'></td>\n",
              "</tr>\n",
              "<tr>\n",
              "  <td class='test'>\n",
              "    Invierta la lista L\n",
              "    <div class='message'>Done</div>\n",
              "  </td>\n",
              "  <td class='result passed'></td>\n",
              "</tr>\n",
              "<tr>\n",
              "  <td class='test'>\n",
              "    Determine los valores impares de la lista\n",
              "    <div class='message'>Done</div>\n",
              "  </td>\n",
              "  <td class='result passed'></td>\n",
              "</tr>\n",
              "<tr>\n",
              "  <td class='test'>\n",
              "    Determinar los valores pares de la lista\n",
              "    <div class='message'>Done</div>\n",
              "  </td>\n",
              "  <td class='result passed'></td>\n",
              "</tr>  <tr><th class='score'>Total Points</th><th class='score'>14</th></tr></table>\n"
            ]
          },
          "metadata": {}
        }
      ],
      "source": [
        "%run -i autogradesMetodosComputacionales/example/libs/Lab_autotesting01/test04.py"
      ]
    },
    {
      "cell_type": "markdown",
      "metadata": {
        "id": "9vVIrQeytD30"
      },
      "source": [
        "###  Tuplas\n",
        "\n",
        "15.0 Definir una tupla con 5 elementos almacenda en la variable Tup, los primeros 3 tipo string y los ultimos dos, tipo float."
      ]
    },
    {
      "cell_type": "code",
      "source": [
        "Tup=('hola','mundo','.',2.1,3.2)"
      ],
      "metadata": {
        "id": "weFbS04ci6jt"
      },
      "execution_count": 46,
      "outputs": []
    },
    {
      "cell_type": "code",
      "execution_count": 47,
      "metadata": {
        "colab": {
          "base_uri": "https://localhost:8080/",
          "height": 254
        },
        "id": "UswyGx3xuou2",
        "outputId": "ac83a268-49cf-4d35-af02-cb18abb04086"
      },
      "outputs": [
        {
          "output_type": "display_data",
          "data": {
            "text/plain": [
              "<IPython.core.display.HTML object>"
            ],
            "text/html": [
              "<style>\n",
              "  table { text-align: left; border-collapse: collapse; margin: 1em; caption-side: bottom; font-family: Sans-Serif; font-size: 12px}\n",
              "  caption { text-align: left; padding: 5px }\n",
              "  th, td { border: 2px solid #BFC9CA; padding: 5px }\n",
              "  th { background-color: #BFC9CA }\n",
              "  .passed { background-color: #76D7C4 }\n",
              "  .failed { background-color: #EC7063 }\n",
              "  .skipped { background-color: #EDBB99 }\n",
              "  .score { background-color: #7DCEA0 }\n",
              "  .results .points { display: none }\n",
              "  .results .message { display: block; font-size:smaller; color:#D35400 }\n",
              "  .results .note { display: block; font-size:smaller; font-decoration:italics }\n",
              "  .results .passed::before  { content: \"Passed\" } \n",
              "  .results .skipped::before  { content: \"Skipped\" } \n",
              "  .results .failed::before  { content: \"Failed\" } \n",
              "  .grade .passed  .message:empty::before { content:\"Passed\" }\n",
              "  .grade .failed  .message:empty::before { content:\"Failed\" }\n",
              "  .grade .skipped .message:empty::before { content:\"Skipped\" }   \n",
              "</style>\n",
              "<table class='results'>\n",
              "  <th class='test'>Test</th><th class='result'>Result</th></tr>\n",
              "<tr>\n",
              "  <td class='test'>\n",
              "    Definir una tupla\n",
              "    <div class='message'>Done</div>\n",
              "  </td>\n",
              "  <td class='result passed'></td>\n",
              "</tr>\n",
              "<tr>\n",
              "  <td class='test'>\n",
              "    La longitud de la tupla debe ser 5 \n",
              "    <div class='message'>Done</div>\n",
              "  </td>\n",
              "  <td class='result passed'></td>\n",
              "</tr>\n",
              "<tr>\n",
              "  <td class='test'>\n",
              "    Los tres primeros elementos deben string \n",
              "    <div class='message'>Done</div>\n",
              "  </td>\n",
              "  <td class='result passed'></td>\n",
              "</tr>\n",
              "<tr>\n",
              "  <td class='test'>\n",
              "    Los dos ultimos elementos deben ser float \n",
              "    <div class='message'>Done</div>\n",
              "  </td>\n",
              "  <td class='result passed'></td>\n",
              "</tr>  <tr><th class='score'>Total Points</th><th class='score'>4</th></tr></table>\n"
            ]
          },
          "metadata": {}
        }
      ],
      "source": [
        " %run -i autogradesMetodosComputacionales/example/libs/Lab_autotesting01/test05.py"
      ]
    },
    {
      "cell_type": "markdown",
      "metadata": {
        "id": "E1VlbpbEysKy"
      },
      "source": [
        "###  Set\n",
        "16.0 Defina una variable tipo set llamada  D con los primeros 10 numeros de Bernulli, consultalos en la red. Notese que pasa en este variables cuando alguno de los elementos se repite\n",
        "\n",
        "17.0 Defina una variable tipo set llamada E con los números naturales del 1 al 20.\n",
        "\n",
        "18.0 Calcule la unión  y almacenela en una variable U.\n",
        "\n",
        "19.0 Calcule la intersección y almacenela en una variable I\n"
      ]
    },
    {
      "cell_type": "code",
      "source": [
        "D={1,-0.5,1/6,0,-1/30,0,1/42,0,-1/30,0,5/66}\n",
        "E={1,2,3,4,5,6,7,8,9,10,11,12,13,14,15,16,17,18,19,20}\n",
        "U=D.union(E)\n",
        "I=E.intersection(D)"
      ],
      "metadata": {
        "id": "zdZweQxHjPIH"
      },
      "execution_count": 30,
      "outputs": []
    },
    {
      "cell_type": "code",
      "execution_count": 31,
      "metadata": {
        "colab": {
          "base_uri": "https://localhost:8080/",
          "height": 450
        },
        "id": "YJiDfeEr2cSc",
        "outputId": "7a090a62-707f-422f-9731-79d4f7b2a40d"
      },
      "outputs": [
        {
          "output_type": "display_data",
          "data": {
            "text/plain": [
              "<IPython.core.display.HTML object>"
            ],
            "text/html": [
              "<style>\n",
              "  table { text-align: left; border-collapse: collapse; margin: 1em; caption-side: bottom; font-family: Sans-Serif; font-size: 12px}\n",
              "  caption { text-align: left; padding: 5px }\n",
              "  th, td { border: 2px solid #BFC9CA; padding: 5px }\n",
              "  th { background-color: #BFC9CA }\n",
              "  .passed { background-color: #76D7C4 }\n",
              "  .failed { background-color: #EC7063 }\n",
              "  .skipped { background-color: #EDBB99 }\n",
              "  .score { background-color: #7DCEA0 }\n",
              "  .results .points { display: none }\n",
              "  .results .message { display: block; font-size:smaller; color:#D35400 }\n",
              "  .results .note { display: block; font-size:smaller; font-decoration:italics }\n",
              "  .results .passed::before  { content: \"Passed\" } \n",
              "  .results .skipped::before  { content: \"Skipped\" } \n",
              "  .results .failed::before  { content: \"Failed\" } \n",
              "  .grade .passed  .message:empty::before { content:\"Passed\" }\n",
              "  .grade .failed  .message:empty::before { content:\"Failed\" }\n",
              "  .grade .skipped .message:empty::before { content:\"Skipped\" }   \n",
              "</style>\n",
              "<table class='results'>\n",
              "  <th class='test'>Test</th><th class='result'>Result</th></tr>\n",
              "<tr>\n",
              "  <td class='test'>\n",
              "    Definir una variable D tipo set\n",
              "    <div class='message'>Done</div>\n",
              "  </td>\n",
              "  <td class='result passed'></td>\n",
              "</tr>\n",
              "<tr>\n",
              "  <td class='test'>\n",
              "    Definir una variable E tipo set\n",
              "    <div class='message'>Done</div>\n",
              "  </td>\n",
              "  <td class='result passed'></td>\n",
              "</tr>\n",
              "<tr>\n",
              "  <td class='test'>\n",
              "    Definir una variable U tipo set\n",
              "    <div class='message'>Done</div>\n",
              "  </td>\n",
              "  <td class='result passed'></td>\n",
              "</tr>\n",
              "<tr>\n",
              "  <td class='test'>\n",
              "    Definir una variable I tipo set\n",
              "    <div class='message'>Done</div>\n",
              "  </td>\n",
              "  <td class='result passed'></td>\n",
              "</tr>\n",
              "<tr>\n",
              "  <td class='test'>\n",
              "    La longitud del set debe ser 7, notese que set no cuenta elementos repetidos \n",
              "    <div class='message'>Done</div>\n",
              "  </td>\n",
              "  <td class='result passed'></td>\n",
              "</tr>\n",
              "<tr>\n",
              "  <td class='test'>\n",
              "    10 primeros números de Bernulli\n",
              "    <div class='message'>Done</div>\n",
              "  </td>\n",
              "  <td class='result passed'></td>\n",
              "</tr>\n",
              "<tr>\n",
              "  <td class='test'>\n",
              "    20 primeros numeros naturales \n",
              "    <div class='message'>Done</div>\n",
              "  </td>\n",
              "  <td class='result passed'></td>\n",
              "</tr>\n",
              "<tr>\n",
              "  <td class='test'>\n",
              "    union \n",
              "    <div class='message'>Done</div>\n",
              "  </td>\n",
              "  <td class='result passed'></td>\n",
              "</tr>\n",
              "<tr>\n",
              "  <td class='test'>\n",
              "    Calcule la interseccion \n",
              "    <div class='message'>Done</div>\n",
              "  </td>\n",
              "  <td class='result passed'></td>\n",
              "</tr>  <tr><th class='score'>Total Points</th><th class='score'>9</th></tr></table>\n"
            ]
          },
          "metadata": {}
        }
      ],
      "source": [
        " %run -i autogradesMetodosComputacionales/example/libs/Lab_autotesting01/test06.py"
      ]
    },
    {
      "cell_type": "markdown",
      "metadata": {
        "id": "HWfazmVWTq1T"
      },
      "source": [
        "\n",
        "\n",
        "\n",
        "\n",
        "\n",
        "\n",
        "\n",
        "\n",
        "\n",
        "\n",
        "\n",
        "\n",
        "\n",
        "\n",
        "###  Diccionarios\n",
        "20.0 Construi un diccionario con 5 elementos cuya clave es el nombre del autor y valor el nombre del libro. Almacenarlo en una variable dicc.\n",
        "\n",
        "\n",
        "\n"
      ]
    },
    {
      "cell_type": "code",
      "source": [
        "dicc={\n",
        "    'Noches blancas':'Fiodor Dostoyevsky',\n",
        "    'El mito de sisifo':'Albert Camus',\n",
        "    'cien años de soledad':'Gabriel Garcia Marquez',\n",
        "    'Introduction To Mechanics':'Daniel Kleppner',\n",
        "    'Principia Mathematica':'Isaac Newton',\n",
        "\n",
        "}"
      ],
      "metadata": {
        "id": "vfdgiI-UlDEe"
      },
      "execution_count": 32,
      "outputs": []
    },
    {
      "cell_type": "code",
      "execution_count": 33,
      "metadata": {
        "colab": {
          "base_uri": "https://localhost:8080/",
          "height": 175
        },
        "id": "yfHkEyXV6DjL",
        "outputId": "64a1876f-5f3d-4f56-a830-2bf62eb6f6ef"
      },
      "outputs": [
        {
          "output_type": "display_data",
          "data": {
            "text/plain": [
              "<IPython.core.display.HTML object>"
            ],
            "text/html": [
              "<style>\n",
              "  table { text-align: left; border-collapse: collapse; margin: 1em; caption-side: bottom; font-family: Sans-Serif; font-size: 12px}\n",
              "  caption { text-align: left; padding: 5px }\n",
              "  th, td { border: 2px solid #BFC9CA; padding: 5px }\n",
              "  th { background-color: #BFC9CA }\n",
              "  .passed { background-color: #76D7C4 }\n",
              "  .failed { background-color: #EC7063 }\n",
              "  .skipped { background-color: #EDBB99 }\n",
              "  .score { background-color: #7DCEA0 }\n",
              "  .results .points { display: none }\n",
              "  .results .message { display: block; font-size:smaller; color:#D35400 }\n",
              "  .results .note { display: block; font-size:smaller; font-decoration:italics }\n",
              "  .results .passed::before  { content: \"Passed\" } \n",
              "  .results .skipped::before  { content: \"Skipped\" } \n",
              "  .results .failed::before  { content: \"Failed\" } \n",
              "  .grade .passed  .message:empty::before { content:\"Passed\" }\n",
              "  .grade .failed  .message:empty::before { content:\"Failed\" }\n",
              "  .grade .skipped .message:empty::before { content:\"Skipped\" }   \n",
              "</style>\n",
              "<table class='results'>\n",
              "  <th class='test'>Test</th><th class='result'>Result</th></tr>\n",
              "<tr>\n",
              "  <td class='test'>\n",
              "    Definir una variable dicc tipo diccionario\n",
              "    <div class='message'>Done</div>\n",
              "  </td>\n",
              "  <td class='result passed'></td>\n",
              "</tr>\n",
              "<tr>\n",
              "  <td class='test'>\n",
              "    la longitud del diccionario debe ser 5 \n",
              "    <div class='message'>Done</div>\n",
              "  </td>\n",
              "  <td class='result passed'></td>\n",
              "</tr>  <tr><th class='score'>Total Points</th><th class='score'>2</th></tr></table>\n"
            ]
          },
          "metadata": {}
        }
      ],
      "source": [
        " %run -i autogradesMetodosComputacionales/example/libs/Lab_autotesting01/test07.py"
      ]
    },
    {
      "cell_type": "markdown",
      "metadata": {
        "id": "7g0xWN387wOo"
      },
      "source": [
        "\n",
        "####  Ciclos y condicionales\n",
        "\n",
        "21.0  Cálculo de $\\pi$. Empleando la siguiente seria :\n",
        "\n",
        "\\begin{equation}\n",
        "\\frac{\\pi}{4} = 1 -\\frac{1}{3}+-\\frac{1}{5}-\\frac{1}{7}+\\frac{1}{9}-...\n",
        "\\end{equation}\n",
        "\n",
        "Construya una función llamada pi_number en el que entrado el valor de k,(número de términos de la serie ) calcule el valor de pi. Si k es negativo deberá retornar un error como una variable tipo string.\n",
        "\n",
        "Ejemplo de ecución:\n",
        "```python\n",
        "pi_number(10)\n",
        "```"
      ]
    },
    {
      "cell_type": "code",
      "execution_count": 48,
      "metadata": {
        "id": "d9jPmhkW_Rhf",
        "outputId": "af90fcb2-fc7f-482d-cb58-7b806c241fd6",
        "colab": {
          "base_uri": "https://localhost:8080/"
        }
      },
      "outputs": [
        {
          "output_type": "stream",
          "name": "stdout",
          "text": [
            "3.1414926535900345\n"
          ]
        }
      ],
      "source": [
        "def pi_number(k):\n",
        "  if k<0 or not(isinstance(k,int)):\n",
        "    return 'error, k tiene que ser un entero positivo positivo'\n",
        "  s=0\n",
        "  for i in range(0,k):\n",
        "    s=s+1/(((-1)**(i))*(2*i+1))\n",
        "  return s*4\n",
        "print(pi_number(10000))"
      ]
    },
    {
      "cell_type": "code",
      "execution_count": 49,
      "metadata": {
        "colab": {
          "base_uri": "https://localhost:8080/",
          "height": 175
        },
        "id": "OEACMhp6BS2k",
        "outputId": "56f21543-c85f-4f4f-e167-3d9f2647159e"
      },
      "outputs": [
        {
          "output_type": "display_data",
          "data": {
            "text/plain": [
              "<IPython.core.display.HTML object>"
            ],
            "text/html": [
              "<style>\n",
              "  table { text-align: left; border-collapse: collapse; margin: 1em; caption-side: bottom; font-family: Sans-Serif; font-size: 12px}\n",
              "  caption { text-align: left; padding: 5px }\n",
              "  th, td { border: 2px solid #BFC9CA; padding: 5px }\n",
              "  th { background-color: #BFC9CA }\n",
              "  .passed { background-color: #76D7C4 }\n",
              "  .failed { background-color: #EC7063 }\n",
              "  .skipped { background-color: #EDBB99 }\n",
              "  .score { background-color: #7DCEA0 }\n",
              "  .results .points { display: none }\n",
              "  .results .message { display: block; font-size:smaller; color:#D35400 }\n",
              "  .results .note { display: block; font-size:smaller; font-decoration:italics }\n",
              "  .results .passed::before  { content: \"Passed\" } \n",
              "  .results .skipped::before  { content: \"Skipped\" } \n",
              "  .results .failed::before  { content: \"Failed\" } \n",
              "  .grade .passed  .message:empty::before { content:\"Passed\" }\n",
              "  .grade .failed  .message:empty::before { content:\"Failed\" }\n",
              "  .grade .skipped .message:empty::before { content:\"Skipped\" }   \n",
              "</style>\n",
              "<table class='results'>\n",
              "  <th class='test'>Test</th><th class='result'>Result</th></tr>\n",
              "<tr>\n",
              "  <td class='test'>\n",
              "    Crear una funcion que calcule el numero pi\n",
              "    <div class='message'>Done</div>\n",
              "  </td>\n",
              "  <td class='result passed'></td>\n",
              "</tr>\n",
              "<tr>\n",
              "  <td class='test'>\n",
              "    Prueba para valores negativos \n",
              "    <div class='message'>Done</div>\n",
              "  </td>\n",
              "  <td class='result passed'></td>\n",
              "</tr>  <tr><th class='score'>Total Points</th><th class='score'>2</th></tr></table>\n"
            ]
          },
          "metadata": {}
        }
      ],
      "source": [
        " %run -i autogradesMetodosComputacionales/example/libs/Lab_autotesting01/test08.py"
      ]
    }
  ],
  "metadata": {
    "colab": {
      "provenance": []
    },
    "kernelspec": {
      "display_name": "Python 3 (ipykernel)",
      "language": "python",
      "name": "python3"
    },
    "language_info": {
      "codemirror_mode": {
        "name": "ipython",
        "version": 3
      },
      "file_extension": ".py",
      "mimetype": "text/x-python",
      "name": "python",
      "nbconvert_exporter": "python",
      "pygments_lexer": "ipython3",
      "version": "3.8.12"
    }
  },
  "nbformat": 4,
  "nbformat_minor": 0
}