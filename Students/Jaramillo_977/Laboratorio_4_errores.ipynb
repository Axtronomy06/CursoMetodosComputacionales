{
  "cells": [
    {
      "cell_type": "markdown",
      "metadata": {
        "id": "eIZ2Sde65031"
      },
      "source": [
        "<a href=\"https://colab.research.google.com/github/hernansalinas/autogrades/blob/main/Laboratorios_Taller/Lab05_errores.ipynb\" target=\"_parent\"><img src=\"https://colab.research.google.com/assets/colab-badge.svg\" alt=\"Open In Colab\"/></a>"
      ]
    },
    {
      "cell_type": "markdown",
      "metadata": {
        "id": "ifkkjBLv1XCU"
      },
      "source": [
        "\n",
        "## Exponencial, serie alternante (serieEn)\n",
        "Objetivo: Analizar el uso de la cancelación substractiva\n",
        "\n",
        "\n",
        "Copia textual del libro  [Computational Physics. ](https://www.dropbox.com/s/n06ul2r4l65khl6/Computational%20Physics%20-%20Problem%20Solving%20with%20Computers%2C%203527406263.pdf?dl=0)\n",
        "\n",
        "- Write a program that calculates $e^{-x}$\n",
        "\n",
        "\\begin{equation}\n",
        "e^{-x}=\\sum_{n=0}^{N}  (-1)^n \\frac{x^{n}}{n!}\n",
        "\\end{equation}\n",
        "\n",
        "\n",
        "- Calculate your series for $x \\le 1$ and compare it to the built-in function\n",
        "exp(x) (you may assume that the built-in exponential function is exact).\n",
        "You should pick an N for which the next term in the series is no more\n",
        "than $10^{-7}$ of the sum up to that point\n",
        "\n",
        "\\begin{equation}\n",
        "\\left| \\frac{(-x)^{N+1}}{(N+1)!} \\right | \\le \\left| 10^{-7} \\sum_{N=0}^{N} \\frac{(-x)^{n}}{n!} \\right|\n",
        "\\end{equation}\n",
        "\n",
        "- Examine the terms in the series for $x\\approx 10$ and observe the significant subtractive cancellations that occur when large terms add together to give small answers. In particular, print out the near-perfect cancellation\n",
        "at $n \\approx x − 1$.\n",
        "\n",
        "- See if better precision is obtained by being clever and using exp(−x) = 1/ exp(x) for large x values. This eliminates subtractive cancellation, but does not eliminate all roundoff errors\n",
        "\n",
        "- By progressively increasing x from 1 to 10, and then from 10 to 100, use your program to determine experimentally when the series starts to lose accuracy, and when the series no longer converges\n",
        "\n",
        "- Make a series of graphs of the error versus N for different values of x.\n",
        "\n",
        "\n",
        "## Cancelación sustractiva\n",
        "\n",
        "\n",
        "\n",
        "**serieSn**. Un ejemplo de la cancelacion substractiva es en la suma de series alternantes. Considere la serie $\\mathrm{S}_N$,  escrita  matematicamente de tres formas diferentes:\n",
        "\n",
        "-\n",
        "\\begin{equation}\n",
        "\\mathrm{S}_N^{(1)} = \\sum_{n = 1}^{2N} (-1)^n \\frac{n}{n+1}\n",
        "\\end{equation}\n",
        "\n",
        "- Sumando números pares e impares.\n",
        "\n",
        "\\begin{equation}\n",
        "\\mathrm{S}_N^{(2)} = -\\sum_{n = 1}^{N}\\frac{2n-1}{2n} + \\sum_{n=1}^{N} \\frac{2n}{2n+1}\n",
        "\\end{equation}\n",
        "\n",
        "- Combinando las series de una forma analítica\n",
        "\n",
        "\\begin{equation}\n",
        "\\mathrm{S}_N^{(3)} = \\sum_{n = 1}^{N}\\frac{1}{2n(2n+1)}\n",
        "\\end{equation}\n",
        "\n",
        "\n",
        "\n",
        "Las tres sumas $\\mathrm{S}_N^{(1)}$, $\\mathrm{S}_N^{(2)}$ y $\\mathrm{S}_N^{(3)}$ son matemáticamente iguales, pero los resultados  pueden tener resultados numéricos diferentes.\n",
        "\n",
        "\n",
        "- Escribir un programa que realice el cálculo de $\\mathrm{S}_N^{(1)}$, $\\mathrm{S}_N^{(2)}$ y $\\mathrm{S}_N^{(3)}$\n",
        "- Estudiar la convergencia de la serie para los tres casos.\n",
        "- Considere  que $S_N^{(3)}$ es la solución exacta, realizar dos graficos log-log, del error relativo en función\n",
        "del número de términos ($\\mathrm{Log_{10}} E$ VS $\\mathrm{Log_{10}} N$), para $S_N^{(1)}$ y $S_N^{(2)}$. Donde,  $E = |(S_N^{(i)} - S_N^{(3)})/S_N^{(3)}|$, i = 1, 2. Considere valores de $N = 1\\times 10^{6}$.\n",
        "- Analizar y discutir los resultados. Tenga en cuenta la discusión realizada sobre teoría de errores en la página\n",
        "39 del libro del libro [Computational Physics. ](https://www.dropbox.com/s/n06ul2r4l65khl6/Computational%20Physics%20-%20Problem%20Solving%20with%20Computers%2C%203527406263.pdf?dl=0)\n",
        "\n",
        "\n"
      ]
    },
    {
      "cell_type": "code",
      "source": [
        "#Write a program that calculates  e−x\n",
        "import numpy as np\n",
        "import matplotlib.pyplot as plt\n",
        "from numpy import exp\n",
        "\n",
        "def factorial(n):\n",
        "  fac = 1\n",
        "  while n != 0:\n",
        "    fac = fac*n\n",
        "    n -= 1\n",
        "  return fac\n",
        "\n",
        "def e_to_xth(x, rtol = 1e-7, nth_term = lambda n,x : (-1)**n*(x**n/factorial(n)), max_iter=200):\n",
        "\n",
        "  Sn = 0\n",
        "  n=0\n",
        "  a_ = lambda n : nth_term(n,x)\n",
        "\n",
        "  while abs(a_(n+1))>abs(rtol*Sn) and n < max_iter :\n",
        "    Sn += a_(n)\n",
        "    n += 1\n",
        "\n",
        "  return Sn\n",
        "\n",
        "print(e_to_xth(0.4),exp(-0.4))"
      ],
      "metadata": {
        "id": "HEKhuuuq4NPA",
        "colab": {
          "base_uri": "https://localhost:8080/"
        },
        "outputId": "f9816084-e7ce-43a7-90da-f90bffcae085"
      },
      "execution_count": null,
      "outputs": [
        {
          "output_type": "stream",
          "name": "stdout",
          "text": [
            "0.6703203555555554 0.6703200460356393\n"
          ]
        }
      ]
    },
    {
      "cell_type": "code",
      "source": [
        "e_to_xth(9.9999)"
      ],
      "metadata": {
        "colab": {
          "base_uri": "https://localhost:8080/"
        },
        "id": "RDzO4cB9GFwT",
        "outputId": "1a48f375-8585-4990-d01e-1685f1ed9b07"
      },
      "execution_count": null,
      "outputs": [
        {
          "output_type": "execute_result",
          "data": {
            "text/plain": [
              "4.5404476249320634e-05"
            ]
          },
          "metadata": {},
          "execution_count": 131
        }
      ]
    },
    {
      "cell_type": "code",
      "source": [
        "print(e_to_xth(10))\n",
        "\n",
        "def aux(x, rtol = 1e-7, nth_term = lambda n,x : (-1)**n*(x**n/factorial(n)), max_iter=200):\n",
        "\n",
        "  Sn = 0\n",
        "  n=0\n",
        "  a_ = lambda n : nth_term(n,x)\n",
        "\n",
        "  while abs(a_(n+1)) > abs(rtol*Sn):\n",
        "    if n==9:\n",
        "      print('para ',n,'=9 los terminos son ' ,a_(n),a_(n+1),' y su resta es: ',a_(n)+a_(n+1))\n",
        "\n",
        "    Sn += a_(n)\n",
        "    n += 1\n",
        "\n",
        "  return Sn\n",
        "\n",
        "\n",
        "\n",
        "print('la diferencia entre aux(9.9999999999)-exp(-9.9999999999) es :',aux(9.9999999999)-exp(-9.9999999999),' lo que es distinto de 0')\n",
        "print('utilizando exp(-x)=1/exp(x) tenemos: que exp(9.9999999999)',1/exp(-9.9999999999),' lo cual es un resultado muy impreciso')"
      ],
      "metadata": {
        "colab": {
          "base_uri": "https://localhost:8080/"
        },
        "id": "DoPTK6H8NcPn",
        "outputId": "70440c11-bb0a-481a-f0ab-c84fa6634bc8"
      },
      "execution_count": null,
      "outputs": [
        {
          "output_type": "stream",
          "name": "stdout",
          "text": [
            "4.5399936295743496e-05\n",
            "para  9 =9 los terminos son  -2755.731922150573 2755.731922123016  y su resta es:  -2.755723471636884e-08\n",
            "la diferencia entre aux(9.9999999999)-exp(-9.9999999999) es : 7.242152332746863e-12  lo que es distinto de 0\n",
            "utilizando exp(-x)=1/exp(x) tenemos: que exp(9.9999999999) 22026.46579260407  lo cual es un resultado muy impreciso\n"
          ]
        }
      ]
    },
    {
      "cell_type": "code",
      "source": [
        "for i in range(1,101):\n",
        "  print('x=',i,'e^x=',e_to_xth(i),', diferencia entre la serie y su aproximacion mejorada:',e_to_xth(i)-1/(e_to_xth(-i)))"
      ],
      "metadata": {
        "colab": {
          "base_uri": "https://localhost:8080/"
        },
        "id": "xKjo4o2lWbbV",
        "outputId": "878d99f7-0446-48bf-8c0e-dd28d59b1c28"
      },
      "execution_count": null,
      "outputs": [
        {
          "output_type": "stream",
          "name": "stdout",
          "text": [
            "x= 1 e^x= 0.3678791887125221 , diferencia entre la serie y su aproximacion mejorada: -2.9345006746783753e-07\n",
            "x= 2 e^x= 0.13533530549403575 , diferencia entre la serie y su aproximacion mejorada: -5.8039421046984785e-09\n",
            "x= 3 e^x= 0.0497870766692686 , diferencia entre la serie y su aproximacion mejorada: 2.1238159286784963e-09\n",
            "x= 4 e^x= 0.018315641219919312 , diferencia entre la serie y su aproximacion mejorada: -2.2143473339675257e-09\n",
            "x= 5 e^x= 0.006737947579184599 , diferencia entre la serie y su aproximacion mejorada: -1.745932491463431e-09\n",
            "x= 6 e^x= 0.0024787514789560493 , diferencia entre la serie y su aproximacion mejorada: -1.6664159037046988e-09\n",
            "x= 7 e^x= 0.0009118818129335872 , diferencia entre la serie y su aproximacion mejorada: -5.072938668530119e-10\n",
            "x= 8 e^x= 0.00033546259492638574 , diferencia entre la serie y su aproximacion mejorada: -1.5211392817007438e-10\n",
            "x= 9 e^x= 0.00012340983673634218 , diferencia entre la serie y su aproximacion mejorada: -5.018966172569764e-12\n",
            "x= 10 e^x= 4.5399936295743496e-05 , diferencia entre la serie y su aproximacion mejorada: -4.861905047667554e-12\n",
            "x= 11 e^x= 1.6701703504788775e-05 , diferencia entre la serie y su aproximacion mejorada: -6.199265310347177e-13\n",
            "x= 12 e^x= 6.144211348591424e-06 , diferencia entre la serie y su aproximacion mejorada: -1.9557909123536668e-12\n",
            "x= 13 e^x= 2.2603275567246856e-06 , diferencia entre la serie y su aproximacion mejorada: -2.597082760198504e-12\n",
            "x= 14 e^x= 8.315329026162471e-07 , diferencia entre la serie y su aproximacion mejorada: 3.982230772371654e-12\n",
            "x= 15 e^x= 3.05934287319534e-07 , diferencia entre la serie y su aproximacion mejorada: 3.191315019803812e-11\n",
            "x= 16 e^x= 1.1254295247689512e-07 , diferencia entre la serie y su aproximacion mejorada: 7.740889630941221e-12\n",
            "x= 17 e^x= 4.182438320002904e-08 , diferencia entre la serie y su aproximacion mejorada: 4.2499646788401065e-10\n",
            "x= 18 e^x= 1.4601273910345405e-08 , diferencia entre la serie y su aproximacion mejorada: -6.287119321598005e-10\n",
            "x= 19 e^x= 2.9023846072556188e-09 , diferencia entre la serie y su aproximacion mejorada: -2.7004133793376388e-09\n",
            "x= 20 e^x= 5.478102097164234e-10 , diferencia entre la serie y su aproximacion mejorada: -1.513343805234032e-09\n",
            "x= 21 e^x= 4.673541620234235e-09 , diferencia entre la serie y su aproximacion mejorada: 3.9152853426038495e-09\n",
            "x= 22 e^x= -2.3904102596299442e-08 , diferencia entre la serie y su aproximacion mejorada: -2.4183049464446758e-08\n",
            "x= 23 e^x= -2.749904962094474e-08 , diferencia entre la serie y su aproximacion mejorada: -2.760166845105071e-08\n",
            "x= 24 e^x= -2.3641818757383463e-07 , diferencia entre la serie y su aproximacion mejorada: -2.3645593892768623e-07\n",
            "x= 25 e^x= -6.689559728171749e-07 , diferencia entre la serie y su aproximacion mejorada: -6.689698607657064e-07\n",
            "x= 26 e^x= -1.3466525857755504e-06 , diferencia entre la serie y su aproximacion mejorada: -1.3466576948657344e-06\n",
            "x= 27 e^x= -4.4741212933569415e-06 , diferencia entre la serie y su aproximacion mejorada: -4.474123172886382e-06\n",
            "x= 28 e^x= 5.016910139315962e-06 , diferencia entre la serie y su aproximacion mejorada: 5.016909447875797e-06\n",
            "x= 29 e^x= 5.509575960927895e-05 , diferencia entre la serie y su aproximacion mejorada: 5.5095759354912304e-05\n",
            "x= 30 e^x= -8.553015166809626e-05 , diferencia entre la serie y su aproximacion mejorada: -8.553015176167251e-05\n",
            "x= 31 e^x= -0.0001558789554295544 , diferencia entre la serie y su aproximacion mejorada: -0.00015587895546397918\n",
            "x= 32 e^x= -0.00025975447302422424 , diferencia entre la serie y su aproximacion mejorada: -0.0002597544730368884\n",
            "x= 33 e^x= 0.0008490321476589169 , diferencia entre la serie y su aproximacion mejorada: 0.000849032147654258\n",
            "x= 34 e^x= -0.009038224707491365 , diferencia entre la serie y su aproximacion mejorada: -0.009038224707493079\n",
            "x= 35 e^x= -0.008022393785356057 , diferencia entre la serie y su aproximacion mejorada: -0.008022393785356687\n",
            "x= 36 e^x= -0.008689680765798423 , diferencia entre la serie y su aproximacion mejorada: -0.008689680765798655\n",
            "x= 37 e^x= -0.10550054334754451 , diferencia entre la serie y su aproximacion mejorada: -0.10550054334754459\n",
            "x= 38 e^x= -0.4662588439883617 , diferencia entre la serie y su aproximacion mejorada: -0.46625884398836176\n",
            "x= 39 e^x= 0.24042435062784115 , diferencia entre la serie y su aproximacion mejorada: 0.24042435062784115\n",
            "x= 40 e^x= 0.1470264278889382 , diferencia entre la serie y su aproximacion mejorada: 0.1470264278889382\n",
            "x= 41 e^x= -5.814920542099993 , diferencia entre la serie y su aproximacion mejorada: -5.814920542099993\n",
            "x= 42 e^x= -2.2561972934837553 , diferencia entre la serie y su aproximacion mejorada: -2.2561972934837553\n",
            "x= 43 e^x= -27.450853747872035 , diferencia entre la serie y su aproximacion mejorada: -27.450853747872035\n",
            "x= 44 e^x= 3.7548451154981386 , diferencia entre la serie y su aproximacion mejorada: 3.7548451154981386\n",
            "x= 45 e^x= -104.65827246072533 , diferencia entre la serie y su aproximacion mejorada: -104.65827246072533\n",
            "x= 46 e^x= 426.52725033362174 , diferencia entre la serie y su aproximacion mejorada: 426.52725033362174\n",
            "x= 47 e^x= -3773.0167721060025 , diferencia entre la serie y su aproximacion mejorada: -3773.0167721060025\n",
            "x= 48 e^x= -8347.930520256221 , diferencia entre la serie y su aproximacion mejorada: -8347.930520256221\n",
            "x= 49 e^x= 390.7737158121577 , diferencia entre la serie y su aproximacion mejorada: 390.7737158121577\n",
            "x= 50 e^x= -7015.775133569917 , diferencia entre la serie y su aproximacion mejorada: -7015.775133569917\n",
            "x= 51 e^x= 76244.20306570722 , diferencia entre la serie y su aproximacion mejorada: 76244.20306570722\n",
            "x= 52 e^x= 131009.9333786089 , diferencia entre la serie y su aproximacion mejorada: 131009.9333786089\n",
            "x= 53 e^x= -199020.8541394473 , diferencia entre la serie y su aproximacion mejorada: -199020.8541394473\n",
            "x= 54 e^x= -1022060.3913459181 , diferencia entre la serie y su aproximacion mejorada: -1022060.3913459181\n",
            "x= 55 e^x= -9724967.833365016 , diferencia entre la serie y su aproximacion mejorada: -9724967.833365016\n",
            "x= 56 e^x= 31657157.129667804 , diferencia entre la serie y su aproximacion mejorada: 31657157.129667804\n",
            "x= 57 e^x= -33685510.953222334 , diferencia entre la serie y su aproximacion mejorada: -33685510.953222334\n",
            "x= 58 e^x= 87721492.28813484 , diferencia entre la serie y su aproximacion mejorada: 87721492.28813484\n",
            "x= 59 e^x= 200736098.61658838 , diferencia entre la serie y su aproximacion mejorada: 200736098.61658838\n",
            "x= 60 e^x= -1223051277.665182 , diferencia entre la serie y su aproximacion mejorada: -1223051277.665182\n",
            "x= 61 e^x= -796366591.6057622 , diferencia entre la serie y su aproximacion mejorada: -796366591.6057622\n",
            "x= 62 e^x= 7805716005.957181 , diferencia entre la serie y su aproximacion mejorada: 7805716005.957181\n",
            "x= 63 e^x= -20637711109.373764 , diferencia entre la serie y su aproximacion mejorada: -20637711109.373764\n",
            "x= 64 e^x= 1632816609.085993 , diferencia entre la serie y su aproximacion mejorada: 1632816609.085993\n",
            "x= 65 e^x= -74068017464.65283 , diferencia entre la serie y su aproximacion mejorada: -74068017464.65283\n",
            "x= 66 e^x= 63134991326.915146 , diferencia entre la serie y su aproximacion mejorada: 63134991326.915146\n",
            "x= 67 e^x= -1806558907487.0935 , diferencia entre la serie y su aproximacion mejorada: -1806558907487.0935\n",
            "x= 68 e^x= -3042462970139.707 , diferencia entre la serie y su aproximacion mejorada: -3042462970139.707\n",
            "x= 69 e^x= -4463749307238.752 , diferencia entre la serie y su aproximacion mejorada: -4463749307238.752\n",
            "x= 70 e^x= 15141761573304.684 , diferencia entre la serie y su aproximacion mejorada: 15141761573304.684\n",
            "x= 71 e^x= 10409213941860.033 , diferencia entre la serie y su aproximacion mejorada: 10409213941860.033\n",
            "x= 72 e^x= -49611434567053.766 , diferencia entre la serie y su aproximacion mejorada: -49611434567053.766\n",
            "x= 73 e^x= -248772475672114.38 , diferencia entre la serie y su aproximacion mejorada: -248772475672114.38\n",
            "x= 74 e^x= -389809352707801.94 , diferencia entre la serie y su aproximacion mejorada: -389809352707801.94\n",
            "x= 75 e^x= 2366174149974666.5 , diferencia entre la serie y su aproximacion mejorada: 2366174149974666.5\n",
            "x= 76 e^x= -1.677347330444199e+16 , diferencia entre la serie y su aproximacion mejorada: -1.677347330444199e+16\n",
            "x= 77 e^x= 90440782668748.19 , diferencia entre la serie y su aproximacion mejorada: 90440782668748.19\n",
            "x= 78 e^x= 1459606419840216.5 , diferencia entre la serie y su aproximacion mejorada: 1459606419840216.5\n",
            "x= 79 e^x= -2.4028258982390794e+17 , diferencia entre la serie y su aproximacion mejorada: -2.4028258982390794e+17\n",
            "x= 80 e^x= 6.772464984879274e+17 , diferencia entre la serie y su aproximacion mejorada: 6.772464984879274e+17\n",
            "x= 81 e^x= 4.6659510045392723e+17 , diferencia entre la serie y su aproximacion mejorada: 4.6659510045392723e+17\n",
            "x= 82 e^x= -2.56801588942474e+17 , diferencia entre la serie y su aproximacion mejorada: -2.56801588942474e+17\n",
            "x= 83 e^x= 4.726227435022214e+18 , diferencia entre la serie y su aproximacion mejorada: 4.726227435022214e+18\n",
            "x= 84 e^x= 1.8235900465063666e+19 , diferencia entre la serie y su aproximacion mejorada: 1.8235900465063666e+19\n",
            "x= 85 e^x= 1.1471191979219585e+19 , diferencia entre la serie y su aproximacion mejorada: 1.1471191979219585e+19\n",
            "x= 86 e^x= -2.0258392033246695e+20 , diferencia entre la serie y su aproximacion mejorada: -2.0258392033246695e+20\n",
            "x= 87 e^x= 6.385284655081142e+19 , diferencia entre la serie y su aproximacion mejorada: 6.385284655081142e+19\n",
            "x= 88 e^x= -8.794986000910054e+20 , diferencia entre la serie y su aproximacion mejorada: -8.794986000910054e+20\n",
            "x= 89 e^x= 4.958099368581112e+21 , diferencia entre la serie y su aproximacion mejorada: 4.958099368581112e+21\n",
            "x= 90 e^x= -7.884994294897353e+21 , diferencia entre la serie y su aproximacion mejorada: -7.884994294897353e+21\n",
            "x= 91 e^x= 5.3994688220788785e+22 , diferencia entre la serie y su aproximacion mejorada: 5.3994688220788785e+22\n",
            "x= 92 e^x= 6.341498729814174e+22 , diferencia entre la serie y su aproximacion mejorada: 6.341498729814174e+22\n",
            "x= 93 e^x= 5.974593691874667e+22 , diferencia entre la serie y su aproximacion mejorada: 5.974593691874667e+22\n",
            "x= 94 e^x= -3.459263443614218e+22 , diferencia entre la serie y su aproximacion mejorada: -3.459263443614218e+22\n",
            "x= 95 e^x= 2.580338773658618e+23 , diferencia entre la serie y su aproximacion mejorada: 2.580338773658618e+23\n",
            "x= 96 e^x= 1.591828723207073e+24 , diferencia entre la serie y su aproximacion mejorada: 1.591828723207073e+24\n",
            "x= 97 e^x= -1.923539259675338e+25 , diferencia entre la serie y su aproximacion mejorada: -1.923539259675338e+25\n",
            "x= 98 e^x= 3.820523366063427e+25 , diferencia entre la serie y su aproximacion mejorada: 3.820523366063427e+25\n",
            "x= 99 e^x= 1.3054824423073525e+26 , diferencia entre la serie y su aproximacion mejorada: 1.3054824423073525e+26\n",
            "x= 100 e^x= -2.9602839718928937e+26 , diferencia entre la serie y su aproximacion mejorada: -2.9602839718928937e+26\n"
          ]
        }
      ]
    },
    {
      "cell_type": "markdown",
      "source": [
        "aproximada mente a partir de x=11 la funci'on comienza a perder precisi'on, (esto se ve claramente ya que la diferencia entre la aproximaci'on mas presisa y nuestra serie original comienza a crecer comienza a crecer)."
      ],
      "metadata": {
        "id": "EZgj8uxCdC7r"
      }
    },
    {
      "cell_type": "code",
      "source": [
        "plt.figure()\n",
        "\n",
        "for x in range(-5,50):\n",
        "  plt.plot(x,e_to_xth(x),'bo')"
      ],
      "metadata": {
        "id": "uYceCZubhgQA",
        "colab": {
          "base_uri": "https://localhost:8080/",
          "height": 430
        },
        "outputId": "ca5d8840-f047-45b8-d6c0-2b293c1d65c5"
      },
      "execution_count": null,
      "outputs": [
        {
          "output_type": "display_data",
          "data": {
            "text/plain": [
              "<Figure size 640x480 with 1 Axes>"
            ],
            "image/png": "[encoded data removed]"
          },
          "metadata": {}
        }
      ]
    },
    {
      "cell_type": "code",
      "source": [
        "def serie(a_, start = 1, stop = None, lista=False, sn1=False):\n",
        "  if stop == None:\n",
        "    stop=start\n",
        "    start = 1\n",
        "\n",
        "  conjunto = range(start,stop+1)\n",
        "  if lista==False:\n",
        "    a_n=[a_(n) for n in conjunto]\n",
        "    return sum(a_n)\n",
        "  elif lista==True:\n",
        "    ret=[0]\n",
        "    for n in conjunto:\n",
        "      ret.append(ret[-1]+a_(n))\n",
        "    ret.remove(0)\n",
        "    if sn1==True:\n",
        "      return np.array(ret[1::2])\n",
        "    else:\n",
        "      return np.array(ret)\n",
        "\n",
        "def sn1(N, lista=False):\n",
        "  return serie(lambda n : (-1)**n*(n/(n+1)), stop = 2*N, lista=lista, sn1=True)\n",
        "\n",
        "def sn2(N, lista=False):\n",
        "  return serie(lambda n : -(2*n-1)/(2*n), stop = N, lista=lista) + serie(lambda n : (2*n)/(2*n+1), stop = N, lista=lista)\n",
        "\n",
        "def sn3(N, lista=False):\n",
        "  return serie(lambda n : 1/(2*n*(2*n+1)), stop = N, lista=lista)"
      ],
      "metadata": {
        "id": "NKK-iDy148Km"
      },
      "execution_count": 271,
      "outputs": []
    },
    {
      "cell_type": "code",
      "source": [
        "n=1000000\n",
        "rango=range(1,n+1)\n",
        "\n",
        "E = lambda sni, N : np.array(abs((sni(N,lista=True)-sn3(N,lista=True))/sn3(N,lista=True)))\n",
        "\n",
        "x = [np.log10(n) for n in rango]\n",
        "y1 = np.log10(E(sn1,n))\n",
        "y2 = np.log10(E(sn2,n))\n",
        "\n",
        "plt.plot(x,y1,'b.')\n",
        "plt.plot(x,y2,'r.')\n",
        "\n",
        "plt.title('log10(E) vs log10(N)')\n",
        "plt.xlabel('log10(N)')\n",
        "plt.ylabel('log10(error relativo de Sn)')\n",
        "plt.legend(['Error serie 1','Error serie 2'],)"
      ],
      "metadata": {
        "colab": {
          "base_uri": "https://localhost:8080/",
          "height": 559
        },
        "id": "qF_LeWpm_9FT",
        "outputId": "e7cf9b86-89bb-42f4-9945-64d2632e5ef3"
      },
      "execution_count": 272,
      "outputs": [
        {
          "output_type": "stream",
          "name": "stderr",
          "text": [
            "<ipython-input-272-ccc1e47f64c9>:7: RuntimeWarning: divide by zero encountered in log10\n",
            "  y1 = np.log10(E(sn1,n))\n",
            "<ipython-input-272-ccc1e47f64c9>:8: RuntimeWarning: divide by zero encountered in log10\n",
            "  y2 = np.log10(E(sn2,n))\n"
          ]
        },
        {
          "output_type": "execute_result",
          "data": {
            "text/plain": [
              "<matplotlib.legend.Legend at 0x79230f9095a0>"
            ]
          },
          "metadata": {},
          "execution_count": 272
        },
        {
          "output_type": "display_data",
          "data": {
            "text/plain": [
              "<Figure size 640x480 with 1 Axes>"
            ],
            "image/png": "[encoded data removed]"
          },
          "metadata": {}
        }
      ]
    },
    {
      "cell_type": "markdown",
      "source": [
        "en general las 2 series tiene resultados bastante similares (el error relativo es pequeño), pero la magnitud de los errores es considerablemente distinta, además para la primera serie no son fáciles de ver las regiones de convergencia del algoritmo, para la segunda serie por otro lado son más claras las regiones de convergencia (dónde comienza a decrecer rápidamente el error relativo)"
      ],
      "metadata": {
        "id": "rC3Beaw79jf4"
      }
    }
  ],
  "metadata": {
    "colab": {
      "provenance": []
    },
    "kernelspec": {
      "display_name": "Python 3 (ipykernel)",
      "language": "python",
      "name": "python3"
    },
    "language_info": {
      "codemirror_mode": {
        "name": "ipython",
        "version": 3
      },
      "file_extension": ".py",
      "mimetype": "text/x-python",
      "name": "python",
      "nbconvert_exporter": "python",
      "pygments_lexer": "ipython3",
      "version": "3.8.12"
    }
  },
  "nbformat": 4,
  "nbformat_minor": 0
}