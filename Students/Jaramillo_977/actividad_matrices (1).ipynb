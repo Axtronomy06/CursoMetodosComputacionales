{
  "cells": [
    {
      "cell_type": "code",
      "execution_count": 34,
      "metadata": {
        "id": "E9NMYbCxHbCj"
      },
      "outputs": [],
      "source": [
        "import numpy as np\n",
        "from numpy.random import randint as rd\n",
        "import matplotlib.pyplot as plt\n"
      ]
    },
    {
      "cell_type": "markdown",
      "metadata": {
        "id": "hwBlRkoQH3zf"
      },
      "source": [
        "# **Actividad matrices**\n",
        "\n",
        "Para los siguientes enunciados trabajar con matrices simbolicas y objetos de numpy.\n",
        "\n",
        "1. Disenar un programa que permita sumar dos matrices.\n",
        "\n",
        "2. Disenar un programa que permita multiplicar dos matrices.\n",
        "\n",
        "3. Determinar la transpuesta de una matrix\n",
        "\n",
        "4. La matriz de rotación en 2D. Es una matriz que se usa para rotar puntos en el plano xy en sentido antihorario alrededor del origen. La matriz tiene la siguiente forma:\n",
        "\n",
        "\n",
        "\\begin{equation}\n",
        "R(\\theta) = \\begin{bmatrix}\n",
        "\\cos \\theta & -\\sin \\theta \\\\\n",
        "\\sin \\theta & \\cos \\theta\n",
        "\\end{bmatrix}\n",
        "\\end{equation}\n",
        "\n",
        "\n",
        "Construir un programa en python que permita realizar la rotación de un vector un ángulo theta, Mostrar la representación vectorial en el plano indicando la rotacion a realizar.\n",
        "\n",
        "Pruebe su solución para el vector $\\vec{v}=(1,1)$ rotado 20 grados en sentido antihorario. Muestre el vector antes de la rotación y después de la rotación\n",
        "\n"
      ]
    },
    {
      "cell_type": "markdown",
      "metadata": {
        "id": "di5fEljdJjXC"
      },
      "source": [
        "# **R/**"
      ]
    },
    {
      "cell_type": "markdown",
      "metadata": {
        "id": "e3VMox_kJF5C"
      },
      "source": [
        "1. Disenar un programa que permita sumar dos matrices."
      ]
    },
    {
      "cell_type": "markdown",
      "metadata": {
        "id": "j3I9ydejJD9Q"
      },
      "source": [
        "2. Disenar un programa que permita multiplicar dos matrices."
      ]
    },
    {
      "cell_type": "code",
      "execution_count": 2,
      "metadata": {
        "id": "sLrahQ98GXvg"
      },
      "outputs": [],
      "source": [
        "def matrix_mul(A, B, lista = False, shapeB = None):\n",
        "    if shapeB == None:\n",
        "        shapeB = np.shape(B)\n",
        "\n",
        "# el argumento lista = True sirve para multiplicar dos iterables de matrices elemento a elemento.\n",
        "# devuelve una lista de matrices\n",
        "    if lista:\n",
        "        return [matrix_mul(A[k],B[k],shapeB = np.shape(B)) for k in range(len(A))]\n",
        "\n",
        "# ciclo para verificar si las dimensiones de las matrices son validas.\n",
        "    if (np.shape(A)[1] != shapeB[0]):\n",
        "        raise Exception(f\"la cantidad de columnas de A ({np.shape(A)[1]}) no es la misma cantidad de filas de B ({np.shape(B)[0]})\")\n",
        "\n",
        "    n = shapeB[1]\n",
        "    return np.array([[sum(Ai*B[:,j]) for j in range(n)] for Ai in A])"
      ]
    },
    {
      "cell_type": "code",
      "execution_count": 81,
      "metadata": {
        "colab": {
          "base_uri": "https://localhost:8080/"
        },
        "id": "A9iN746uKn_h",
        "outputId": "467352f9-6b64-4400-921a-b91181023c39"
      },
      "outputs": [
        {
          "output_type": "execute_result",
          "data": {
            "text/plain": [
              "array([[ True,  True,  True],\n",
              "       [ True,  True,  True],\n",
              "       [ True,  True,  True],\n",
              "       [ True,  True,  True],\n",
              "       [ True,  True,  True],\n",
              "       [ True,  True,  True],\n",
              "       [ True,  True,  True],\n",
              "       [ True,  True,  True],\n",
              "       [ True,  True,  True],\n",
              "       [ True,  True,  True],\n",
              "       [ True,  True,  True],\n",
              "       [ True,  True,  True],\n",
              "       [ True,  True,  True],\n",
              "       [ True,  True,  True],\n",
              "       [ True,  True,  True]])"
            ]
          },
          "metadata": {},
          "execution_count": 81
        }
      ],
      "source": [
        "# prueba\n",
        "# A es una matriz mxk y B es kxn\n",
        "\n",
        "m = rd(2,20)\n",
        "n = rd(2,20)\n",
        "k = rd(2,20)\n",
        "\n",
        "A = rd(1,10,(m,k))\n",
        "B = rd(1,10,(k,n))\n",
        "\n",
        "matrix_mul(A,B) == np.matmul(A,B)"
      ]
    },
    {
      "cell_type": "markdown",
      "metadata": {
        "id": "qZzkFEmFJDDT"
      },
      "source": [
        "3. Determinar la transpuesta de una matrix"
      ]
    },
    {
      "cell_type": "code",
      "source": [
        "def transpose_matrix(A):\n",
        "    m, n = np.shape(A)\n",
        "    return np.array([[A[i,j] for i in range(m)] for j in range(n)])"
      ],
      "metadata": {
        "id": "s1lNEFJB_SNo"
      },
      "execution_count": null,
      "outputs": []
    },
    {
      "cell_type": "code",
      "source": [
        "# Prueba\n",
        "transpose_matrix(A) == np.transpose(A)"
      ],
      "metadata": {
        "colab": {
          "base_uri": "https://localhost:8080/"
        },
        "id": "tVf1BOcOCLJE",
        "outputId": "5f916f74-1cca-43c2-d340-2c8d758914f8"
      },
      "execution_count": 84,
      "outputs": [
        {
          "output_type": "execute_result",
          "data": {
            "text/plain": [
              "array([[ True,  True,  True,  True,  True,  True,  True,  True,  True,\n",
              "         True,  True,  True,  True,  True,  True],\n",
              "       [ True,  True,  True,  True,  True,  True,  True,  True,  True,\n",
              "         True,  True,  True,  True,  True,  True],\n",
              "       [ True,  True,  True,  True,  True,  True,  True,  True,  True,\n",
              "         True,  True,  True,  True,  True,  True],\n",
              "       [ True,  True,  True,  True,  True,  True,  True,  True,  True,\n",
              "         True,  True,  True,  True,  True,  True],\n",
              "       [ True,  True,  True,  True,  True,  True,  True,  True,  True,\n",
              "         True,  True,  True,  True,  True,  True],\n",
              "       [ True,  True,  True,  True,  True,  True,  True,  True,  True,\n",
              "         True,  True,  True,  True,  True,  True],\n",
              "       [ True,  True,  True,  True,  True,  True,  True,  True,  True,\n",
              "         True,  True,  True,  True,  True,  True],\n",
              "       [ True,  True,  True,  True,  True,  True,  True,  True,  True,\n",
              "         True,  True,  True,  True,  True,  True],\n",
              "       [ True,  True,  True,  True,  True,  True,  True,  True,  True,\n",
              "         True,  True,  True,  True,  True,  True]])"
            ]
          },
          "metadata": {},
          "execution_count": 84
        }
      ]
    },
    {
      "cell_type": "markdown",
      "metadata": {
        "id": "QJO6PbWCKSaF"
      },
      "source": [
        "4. La matriz de rotación en 2D. Es una matriz que se usa para rotar puntos en el plano xy en sentido antihorario alrededor del origen. La matriz tiene la siguiente forma:\n",
        "\n",
        "\n",
        "\\begin{equation}\n",
        "R(\\theta) = \\begin{bmatrix}\n",
        "\\cos \\theta & -\\sin \\theta \\\\\n",
        "\\sin \\theta & \\cos \\theta\n",
        "\\end{bmatrix}\n",
        "\\end{equation}\n",
        "\n",
        "\n",
        "Construir un programa en python que permita realizar la rotación de un vector un ángulo theta, Mostrar la representación vectorial en el plano indicando la rotacion a realizar.\n",
        "\n",
        "Pruebe su solución para el vector $\\vec{v}=(1,1)$ rotado 20 grados en sentido antihorario. Muestre el vector antes de la rotación y después de la rotación"
      ]
    },
    {
      "cell_type": "code",
      "execution_count": 86,
      "metadata": {
        "id": "hFuG5BCIKigD"
      },
      "outputs": [],
      "source": [
        "def rotation_2d(v, theta, deg = False):\n",
        "\n",
        "    if deg:\n",
        "        theta = theta*(np.pi/180)\n",
        "    if np.shape(v) == (2,):\n",
        "        v = v.transpose()\n",
        "\n",
        "    rotmatrix = np.array([\n",
        "        [np.cos(theta),-np.sin(theta)],\n",
        "        [np.sin(theta), np.cos(theta)]\n",
        "    ])\n",
        "    return matrix_mul(rotmatrix, v)"
      ]
    },
    {
      "cell_type": "code",
      "execution_count": 92,
      "metadata": {
        "colab": {
          "base_uri": "https://localhost:8080/",
          "height": 528
        },
        "id": "nT2monksH_Qj",
        "outputId": "18b2a8cd-6a86-4283-9b2e-55274ec57d2b"
      },
      "outputs": [
        {
          "output_type": "display_data",
          "data": {
            "text/plain": [
              "<Figure size 650x600 with 1 Axes>"
            ],
            "image/png": "[encoded data removed]"
          },
          "metadata": {}
        }
      ],
      "source": [
        "v = np.array([[1],[1]])\n",
        "rotation = rotation_2d(v, 20, deg = True)\n",
        "\n",
        "plt.figure(figsize = (6.5,6))\n",
        "plt.arrow(0, 0, v[0][0], v[1][0], width = 0.03, length_includes_head = True, head_width = 0.1, head_length = 0.1, lw = 0)\n",
        "plt.arrow(0, 0, rotation[0][0], rotation[1][0], width = 0.03, length_includes_head = True, head_width = 0.1, head_length = 0.1, lw = 0, color = '#FF8000')\n",
        "plt.legend(['vector original','rotacion de 20 grados en sentido antihorario'])\n",
        "plt.xlim(-0.5, 2)\n",
        "plt.ylim(-0.5, 2)\n",
        "plt.grid(True)\n",
        "plt.show()"
      ]
    }
  ],
  "metadata": {
    "colab": {
      "provenance": []
    },
    "kernelspec": {
      "display_name": "Python 3",
      "name": "python3"
    },
    "language_info": {
      "name": "python"
    }
  },
  "nbformat": 4,
  "nbformat_minor": 0
}