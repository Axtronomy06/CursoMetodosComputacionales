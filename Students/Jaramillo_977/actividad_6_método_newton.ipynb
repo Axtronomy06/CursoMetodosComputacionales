{
  "nbformat": 4,
  "nbformat_minor": 0,
  "metadata": {
    "colab": {
      "provenance": []
    },
    "kernelspec": {
      "name": "python3",
      "display_name": "Python 3"
    },
    "language_info": {
      "name": "python"
    }
  },
  "cells": [
    {
      "cell_type": "markdown",
      "source": [
        "# **Newton Raphson**"
      ],
      "metadata": {
        "id": "NrW6JJ0qls7F"
      }
    },
    {
      "cell_type": "code",
      "source": [
        "import numpy as np\n",
        "from scipy import optimize"
      ],
      "metadata": {
        "id": "BUcKU0q6opKP"
      },
      "execution_count": null,
      "outputs": []
    },
    {
      "cell_type": "code",
      "execution_count": null,
      "metadata": {
        "id": "04iNBmJBlsZ5"
      },
      "outputs": [],
      "source": [
        "def newton(x0, f, fp, e=0):\n",
        "  n=0\n",
        "  while abs(f(x0))>e and n<100:\n",
        "\n",
        "    x0=x0-f(x0)/fp(x0)\n",
        "    n+=1\n",
        "\n",
        "  return x0\n"
      ]
    },
    {
      "cell_type": "code",
      "source": [
        "\n",
        "f = lambda x : np.sin(x)\n",
        "fp = lambda x : np.cos(x)\n",
        "\n",
        "print(\"elresultado dela función newton() es: \",newton(-4.14,f,fp),\"\\n\\nla diferencia con optimize.newton() para f es de \",abs(newton(-4.14,f,fp)-optimize.newton(f,-4.14,fprime=fp)) )\n"
      ],
      "metadata": {
        "colab": {
          "base_uri": "https://localhost:8080/"
        },
        "id": "X55fW7verVBJ",
        "outputId": "5bb1aa02-814f-4cda-f86e-bb9f8bf27ded"
      },
      "execution_count": null,
      "outputs": [
        {
          "output_type": "stream",
          "name": "stdout",
          "text": [
            "elresultado dela función newton() es:  -3.141592653589793 \n",
            "\n",
            "la diferencia con optimize.newton() para f es de  0.0\n"
          ]
        }
      ]
    }
  ]
}