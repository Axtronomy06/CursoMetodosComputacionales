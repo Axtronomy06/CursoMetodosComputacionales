{
  "cells": [
    {
      "cell_type": "markdown",
      "metadata": {
        "id": "NdBGojwq7YN1"
      },
      "source": [
        "<a href=\"https://colab.research.google.com/github/hernansalinas/autogrades/blob/main/Actividades_clase/Actividad_07_Interpolation_spline_detallada.pynb\" target=\"_parent\"><img src=\"https://colab.research.google.com/assets/colab-badge.svg\" alt=\"Open In Colab\"/></a>\n"
      ]
    },
    {
      "cell_type": "markdown",
      "metadata": {
        "id": "Cw4my8j77YN9"
      },
      "source": [
        "Actividad :\n",
        "\n",
        "Entender el siguiente código para realizar la interpolación de splinbe de forma detallada. Agregar un punto adicional y realizar un proceso analogo al detallado a continuación."
      ]
    },
    {
      "cell_type": "markdown",
      "metadata": {
        "id": "LAi7gwybR1zQ"
      },
      "source": [
        "# Spline interpolacion\n",
        "  "
      ]
    },
    {
      "cell_type": "code",
      "execution_count": 1,
      "metadata": {
        "id": "KCviXwLQR1zV"
      },
      "outputs": [],
      "source": [
        "import numpy as np\n",
        "import matplotlib.pylab as plt\n",
        "from numpy.linalg import solve\n",
        "%matplotlib inline\n",
        "#REF: Adaptado de  https://github.com/rrgalvan"
      ]
    },
    {
      "cell_type": "markdown",
      "metadata": {
        "id": "rfMQrtUZR1zf"
      },
      "source": [
        "Calcular el spline cúbico que interpola los puntos $(-1,5)$, $(0,3)$, $(1,3)$."
      ]
    },
    {
      "cell_type": "code",
      "execution_count": 2,
      "metadata": {
        "id": "dWntiVEoR1zh"
      },
      "outputs": [],
      "source": [
        "x0, x1, x2 = -1, 0, 1\n",
        "_x = np.array([x0, x1, x2])\n",
        "y0, y1, y2 =  5, 3, 3\n",
        "_y = np.array([y0, y1, y2])"
      ]
    },
    {
      "cell_type": "markdown",
      "metadata": {
        "id": "l-GSuaVdR1zo"
      },
      "source": [
        "Para calcular los splines cúbicos debemos resolver el sistema de ecuaciones que define los coeficientes de los polinomios cúbicos en los subintervalos $[-1,0]$ y $[0,1]$. Empleando las condiciones del metodo de spline, y defiendo los polinomios para garantizar la continuidad en cada unos de los puntos, tenemos que:\n",
        "\n",
        "Sean:\n",
        "  * $s_0(x) = a_0 + b_0 (x-x_0) + c_0 (x-x_0)^2 + d_0 (x-x_0)^3$,\n",
        "  * $s_1(x) = a_1 + b_1 (x-x_1) + c_1 (x-x_1)^2 + d_1 (x-x_1)^3$,\n",
        "\n",
        "es decir:\n",
        "  * $s_0(x) = a_0 + b_0 (x+1) + c_0 (x+1)^2 + d_0 (x+1)^3$,\n",
        "  * $s_1(x) = a_1 + b_1 x + c_1 x^2 + d_1 x^3$.\n",
        "\n",
        "Entonces\n",
        "  * $s_0'(x) =  b_0 + 2 c_0 (x+1) + 3 d_0 (x+1)^2$,\n",
        "  * $s_0''(x) = 2 c_0 + 6 d_0 (x+1)$,\n",
        "  * $s_1'(x) =  b_1 + 2 c_1 x + 3 d_1 x^2$,\n",
        "  * $s_1''(x) = 2 c_1 + 6 d_1 x$.\n",
        "\n",
        "Tenemos 8 incógnitas, $a_i$, $b_i$, $c_i$, $d_i$ con $i=0,1$. Las ecuaciones son:\n",
        "\n",
        "  * Interpolación (y continuidad en 0):\n",
        "\n",
        "    * $s_0(-1) = 5$, es decir, $a_0=5$.\n",
        "    * $s_0(0)  = 3$, es decir, $a_0+b_0+c_0+d_0=3$.\n",
        "    * $s_1(0) = 3$, es decir, $a_1=3$.\n",
        "    * $s_1(1)  = 3$, es decir, $a_1+b_1+c_1+d_1=3$.\n",
        "    \n",
        "  * Derivabilidad:\n",
        "\n",
        "    * $s_0'(0) = s_1'(-1)$, es decir, $b_0+2c_0+3d_0 = b_1$.\n",
        "    * $s_0''(0) = s_1''(-1)$, es decir, $2c_0+6d_0 = 2c_1$.\n",
        "\n",
        "  * Condiciones naturales en los extremos, $-1$ y $1$:\n",
        "\n",
        "    * $s_0''(-1) = 0$, es decir, $2c_0=0$.\n",
        "    * $s_1''(1) = 0$, o sea $2c_1+6d_1=0$.\n",
        "\n",
        "\n",
        "De estas ecuaciones tenemos directamente $a_0$, $a_1$, y $c_1$. Le damos valores a las variables en python:"
      ]
    },
    {
      "cell_type": "code",
      "source": [],
      "metadata": {
        "id": "b76NoS-A6coU"
      },
      "execution_count": 75,
      "outputs": []
    },
    {
      "cell_type": "code",
      "execution_count": null,
      "metadata": {
        "id": "5sxEuNwNR1zp"
      },
      "outputs": [],
      "source": [
        "a0 = 5\n",
        "a1 = 3\n",
        "c0 = 0"
      ]
    },
    {
      "cell_type": "markdown",
      "metadata": {
        "id": "eZScj4sDR1zu"
      },
      "source": [
        "Así, podemos eliminar la primera, tercera y séptima ecuación, llegando a un sistema de cinco ecuaciones con cinco incógnitas ($b_0$, $d_0$, $b_1$, $c_1$, $d_1$):\n",
        "\n",
        " * $b_0+d_0=3-a_0-c_0=-2$,\n",
        " * $b_1+c_1+d_1=3-a_1=0$,\n",
        " * $b_0+3d_0 - b_1 = -2c_0 = 0$,\n",
        " * $6d_0 - 2c_1 = -2c_0=0$\n",
        " * $2c_1+6d_1=0$\n",
        "\n",
        "\n",
        "La matriz y el segundo miembro asociados son:"
      ]
    },
    {
      "cell_type": "code",
      "execution_count": null,
      "metadata": {
        "id": "psxIbmXlR1zw"
      },
      "outputs": [],
      "source": [
        "A = np.array([\n",
        "\t[ 1, 1,   0,  0, 0],\n",
        "\t[ 0, 0,   1,  1, 1],\n",
        "\t[ 1, 3,  -1,  0, 0],\n",
        "\t[ 0, 6,   0, -2, 0],\n",
        "\t[ 0, 0,   0,  2, 6]])\n",
        "b = np.array([-2, 0, 0, 0, 0])"
      ]
    },
    {
      "cell_type": "code",
      "execution_count": null,
      "metadata": {
        "colab": {
          "base_uri": "https://localhost:8080/",
          "height": 34
        },
        "id": "WwMP5DSdVCuD",
        "outputId": "a3806283-4f1d-422d-d3e3-da19aeda0517"
      },
      "outputs": [
        {
          "name": "stdout",
          "output_type": "stream",
          "text": [
            "[-2.5  0.5 -1.   1.5 -0.5]\n"
          ]
        }
      ],
      "source": [
        "sol = solve(A,b)\n",
        "print(sol)"
      ]
    },
    {
      "cell_type": "markdown",
      "metadata": {
        "id": "1bjXd0wHR1z1"
      },
      "source": [
        "Ahora podemos resolver este sistema usando la función `solve()` (incluida en el modulo \"linalg\" del paquete *numpy*):"
      ]
    },
    {
      "cell_type": "code",
      "execution_count": null,
      "metadata": {
        "colab": {
          "base_uri": "https://localhost:8080/",
          "height": 51
        },
        "id": "NWQhfHd_R1z3",
        "outputId": "068c6ba6-fab8-4b92-d5f2-66377a31f507"
      },
      "outputs": [
        {
          "name": "stdout",
          "output_type": "stream",
          "text": [
            "a0, b0, c0, d0 = 5.000000, -2.500000, 0.000000, 0.500000\n",
            "a1, b1, c1, d1 = 3.000000, -1.000000, 1.500000, -0.500000\n"
          ]
        }
      ],
      "source": [
        "sol = solve(A,b)\n",
        "\n",
        "# Definimos la solución como variables b0, d0, b1, c1 y d1\n",
        "b0, d0, b1, c1, d1 = sol\n",
        "\n",
        "# Y mostramos los resultados\n",
        "print (\"a0, b0, c0, d0 = %f, %f, %f, %f\" % (a0, b0, c0, d0))\n",
        "print (\"a1, b1, c1, d1 = %f, %f, %f, %f\" % (a1, b1, c1, d1))"
      ]
    },
    {
      "cell_type": "markdown",
      "metadata": {
        "id": "SP51eFLgR1z_"
      },
      "source": [
        "Para dibujar la gráfica, lo más fácil es definir los polinomios $s_0$ y $s_1$ y representarlos gráficamente."
      ]
    },
    {
      "cell_type": "code",
      "execution_count": null,
      "metadata": {
        "colab": {
          "base_uri": "https://localhost:8080/",
          "height": 518
        },
        "id": "iZCSh6rkR10A",
        "outputId": "a7f26a77-41d2-489a-cbce-637c0a4155e8"
      },
      "outputs": [
        {
          "data": {
            "image/png": "[encoded data removed]",
            "text/plain": [
              "<Figure size 720x576 with 1 Axes>"
            ]
          },
          "metadata": {
            "tags": []
          },
          "output_type": "display_data"
        }
      ],
      "source": [
        "def s0(x):\n",
        "    return a0 + b0*(x+1) + c0*(x+1)**2 + d0*(x+1)**3\n",
        "def s1(x):\n",
        "    return a1 + b1*x + c1*x**2 + d1*x**3\n",
        "\n",
        "xx0 = np.linspace(-1,0)\n",
        "xx1 = np.linspace(0,1)\n",
        "\n",
        "plt.figure(figsize=(10, 8))\n",
        "plt.plot(xx0, s0(xx0), lw=3, label = \"S0\")\n",
        "plt.plot(xx1, s1(xx1), lw=3, label = \"S1\")\n",
        "plt.plot(_x, _y, 'o')\n",
        "plt.axvline(color = \"k\", ls=\"-.\")\n",
        "plt.ylabel(\"f(x)\", fontsize=20)\n",
        "plt.xlabel(\"x\", fontsize=20)\n",
        "plt.xticks(fontsize=20)\n",
        "plt.yticks(fontsize=20)\n",
        "plt.legend(loc = \"upper right\", fontsize= 20)\n",
        "plt.grid()\n",
        "plt.show()"
      ]
    },
    {
      "cell_type": "code",
      "source": [
        "def cubspline(X,Y):\n",
        "  n = len(X)\n",
        "\n",
        "  zeros_front_after = lambda array, i: np.hstack((np.zeros(4*i), array, np.zeros(4*(n-2-i))))\n",
        "\n",
        "  spline   = lambda x, i : zeros_front_after(np.array([1, x-X[i], (x-X[i])**2, (x-X[i])**3]),i)\n",
        "  Dspline  = lambda x, i : zeros_front_after(np.hstack(( np.array([0,      1,  2*(x-X[i]), 3*(x-X[i])**2]) )),i)\n",
        "  D2spline = lambda x, i : zeros_front_after(np.hstack(( np.array([0,      0,           2, 6*(x-X[i])]) )),i)\n",
        "\n",
        "  # cada elemento 'eqs' corresponde a una condición de los polinomios del spline cúbico de la siguiente manera:\n",
        "  # (S_i representa el i-ésimo polinomio)\n",
        "  # eqs1 : S_i(x_i) = y_i\n",
        "  # eqs2 : S_{i}(x_{i+1}) = y_{i+1}\n",
        "  # eqs3 : S_i'(x+1) = S_{i+1}'(x+1)\n",
        "  # eqs4 : S_i''(x+1) = S_{i+1}''(x+1)\n",
        "  # eqs5 : segunda derivada en los extremos es 0\n",
        "\n",
        "  eqs1 = np.array([spline(X[i],i) for i in range(n-1)])\n",
        "  eqs2 = np.array([spline(X[i+1],i) for i in range(n-1)])\n",
        "  eqs3 = np.array([Dspline(X[i+1],i) - Dspline(X[i+1],i+1) for i in range(n-2)])\n",
        "  eqs4 = np.array([D2spline(X[i+1],i) - D2spline(X[i+1],i+1) for i in range(n-2)])\n",
        "  eqs5 = np.array([D2spline(X[0],0), D2spline(X[-1],n-2)])\n",
        "\n",
        "  sol1 = np.array([Y[i] for i in range(n-1)])\n",
        "  sol2 = np.array([Y[i+1] for i in range(n-1)])\n",
        "  sol3 = np.array([0 for _ in range(n-2)])\n",
        "  sol4 = np.array([0 for _ in range(n-2)])\n",
        "  sol5 = np.array([0, 0])\n",
        "\n",
        "  A = np.block([\n",
        "      [eqs1],\n",
        "      [eqs2],\n",
        "      [eqs3],\n",
        "      [eqs4],\n",
        "      [eqs5]\n",
        "  ])\n",
        "\n",
        "  b = np.block([\n",
        "      sol1,\n",
        "      sol2,\n",
        "      sol3,\n",
        "      sol4,\n",
        "      sol5\n",
        "  ])\n",
        "  scalars = solve(A,b)\n",
        "\n",
        "  def infi(x): #interval finder\n",
        "    interval = 0\n",
        "    for i in range(len(X)-2):\n",
        "      if x <= X[i+1]:\n",
        "        break\n",
        "      interval += 1\n",
        "    return interval\n",
        "\n",
        "  def mask_interpolation(x):\n",
        "    try:\n",
        "      ret =  np.array([mask_interpolation(xi) for xi in x])\n",
        "      return ret\n",
        "    except:\n",
        "      i = infi(x)\n",
        "\n",
        "      poli = sum([scalars[i*4+k]*(x-X[i])**k for k in range(4)])\n",
        "      return poli\n",
        "\n",
        "  return mask_interpolation"
      ],
      "metadata": {
        "id": "baDxJYeqEA7a"
      },
      "execution_count": 9,
      "outputs": []
    },
    {
      "cell_type": "code",
      "source": [
        "X = [-1,0,1,2]\n",
        "Y = [5,3,3,0]"
      ],
      "metadata": {
        "id": "pqNb5ZTENYLJ"
      },
      "execution_count": 11,
      "outputs": []
    },
    {
      "cell_type": "code",
      "source": [
        "fun = cubspline(X,Y)\n",
        "\n",
        "x = np.linspace(-1,2,50)\n",
        "\n",
        "plt.plot(x,fun(x))\n",
        "plt.plot(X,Y,'r.')"
      ],
      "metadata": {
        "colab": {
          "base_uri": "https://localhost:8080/",
          "height": 447
        },
        "id": "qkvilusAHcOH",
        "outputId": "7dbd0010-4695-4781-a409-cd20eb9dd1be"
      },
      "execution_count": 13,
      "outputs": [
        {
          "output_type": "execute_result",
          "data": {
            "text/plain": [
              "[<matplotlib.lines.Line2D at 0x7fd2c9c8e0e0>]"
            ]
          },
          "metadata": {},
          "execution_count": 13
        },
        {
          "output_type": "display_data",
          "data": {
            "text/plain": [
              "<Figure size 640x480 with 1 Axes>"
            ],
            "image/png": "[encoded data removed]"
          },
          "metadata": {}
        }
      ]
    },
    {
      "cell_type": "code",
      "source": [
        "\n",
        "X = np.linspace(0,10,11)\n",
        "\n",
        "x = 20.5\n",
        "\n"
      ],
      "metadata": {
        "colab": {
          "base_uri": "https://localhost:8080/"
        },
        "id": "LPHF3zJFM3RS",
        "outputId": "89247a8d-07bf-4b41-9780-0c09ed0f2df2"
      },
      "execution_count": 135,
      "outputs": [
        {
          "output_type": "execute_result",
          "data": {
            "text/plain": [
              "9"
            ]
          },
          "metadata": {},
          "execution_count": 135
        }
      ]
    }
  ],
  "metadata": {
    "colab": {
      "provenance": []
    },
    "kernelspec": {
      "display_name": "Python 3 (ipykernel)",
      "language": "python",
      "name": "python3"
    },
    "language_info": {
      "codemirror_mode": {
        "name": "ipython",
        "version": 3
      },
      "file_extension": ".py",
      "mimetype": "text/x-python",
      "name": "python",
      "nbconvert_exporter": "python",
      "pygments_lexer": "ipython3",
      "version": "3.10.9"
    }
  },
  "nbformat": 4,
  "nbformat_minor": 0
}