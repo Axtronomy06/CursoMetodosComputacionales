{
 "cells": [
  {
   "cell_type": "code",
   "execution_count": null,
   "metadata": {
    "colab": {
     "base_uri": "https://localhost:8080/",
     "height": 35
    },
    "id": "lSVJbftiNuLz",
    "outputId": "16b7237a-3cec-40f3-f947-2ecba5f02794"
   },
   "outputs": [
    {
     "data": {
      "application/vnd.google.colaboratory.intrinsic+json": {
       "type": "string"
      },
      "text/plain": [
       "'ala es palindroma'"
      ]
     },
     "execution_count": 20,
     "metadata": {},
     "output_type": "execute_result"
    }
   ],
   "source": [
    "## comprobar si des palindorma\n",
    "\n",
    "\n",
    "def palind(a):\n",
    "  b=a.lower()\n",
    "  if not(isinstance(a,str)):\n",
    "    r=\"El argumento no es una cadena\"\n",
    "  elif b==b[::-1]:\n",
    "    r=a+\" es palindroma\"\n",
    "  else:\n",
    "    r=a+\" no es palindroma\"\n",
    "  return r\n",
    "a=\"ala\"\n",
    "palind(a)"
   ]
  },
  {
   "cell_type": "markdown",
   "metadata": {
    "id": "R9bZiJ1yIAHn"
   },
   "source": [
    "# Punto 1"
   ]
  },
  {
   "cell_type": "code",
   "execution_count": null,
   "metadata": {
    "colab": {
     "base_uri": "https://localhost:8080/"
    },
    "id": "XOMSqFfMSdFA",
    "outputId": "e28665a2-0a7f-4357-b51f-bf32dcb98107"
   },
   "outputs": [
    {
     "name": "stdout",
     "output_type": "stream",
     "text": [
      "ingrese un numero natural no-negativo: 7\n",
      "105.0\n"
     ]
    }
   ],
   "source": [
    "## El argumento de la funcion debe ser del tipo int o float (valores del tipo complex no se les puede aplicar el operador modulo (%)).\n",
    "## La funcion entra en un bucle infinito si el argumento es <0.\n",
    "\n",
    "def doble_factorial(n):\n",
    "  c=n\n",
    "  p=(n+2)%2+2\n",
    "  if n==0:\n",
    "    n=1\n",
    "  else:\n",
    "    while c!=p:\n",
    "      c=c-2\n",
    "      n=n*c\n",
    "  return n\n",
    "n=input(\"ingrese un numero natural no-negativo: \")\n",
    "n=float(n)\n",
    "\n",
    "print('El doble factorial de 15 es: ',doble_factorial(15))\n",
    "print('El doble factorial de 7 es: ',doble_factorial(7))\n",
    "print('El doble factorial de 8 es: ',doble_factorial(8))\n",
    "print('El doble factorial de 0 es: ',doble_factorial(0))\n",
    "\n"
   ]
  },
  {
   "cell_type": "code",
   "execution_count": null,
   "metadata": {
    "colab": {
     "base_uri": "https://localhost:8080/"
    },
    "id": "kgR7pcC-fP3X",
    "outputId": "93258f0b-3a46-4e9f-baa9-7985ca6c33ce"
   },
   "outputs": [
    {
     "name": "stdout",
     "output_type": "stream",
     "text": [
      "El doble factorial de 15 es:  2027025\n",
      "El doble factorial de 7 es:  105\n",
      "El doble factorial de 8 es:  384\n",
      "El doble factorial de 0 es:  1\n"
     ]
    }
   ],
   "source": [
    "def factorial(n):\n",
    "  contador=n\n",
    "  if n==0:\n",
    "    n=1\n",
    "    return n\n",
    "  while contador!=1:\n",
    "    contador=contador-1\n",
    "    n=n*contador\n",
    "  return n\n",
    "\n",
    "## la funcion doble_factorial funciona con una definicion relacionada con el factorial\n",
    "## el input de doble factorial debe ser 0 o un entero positivo. Siempre devuelve un valor tipo int\n",
    "def doble_factorial(n):\n",
    "  if n==0:\n",
    "    n=1\n",
    "    return n\n",
    "  if (n%2)==0:\n",
    "    k=int(n/2)\n",
    "    return (2**k)*factorial(k)\n",
    "  else:\n",
    "    k=int((n+1)/2)\n",
    "    return int((factorial(2*k))/((2**k)*factorial(k)))\n",
    "\n",
    "print('El doble factorial de 15 es: ',doble_factorial(15))\n",
    "print('El doble factorial de 7 es: ',doble_factorial(7))\n",
    "print('El doble factorial de 8 es: ',doble_factorial(8))\n",
    "print('El doble factorial de 0 es: ',doble_factorial(0))"
   ]
  },
  {
   "cell_type": "markdown",
   "metadata": {
    "id": "k_8puV7iIKXI"
   },
   "source": [
    "# Punto 2"
   ]
  },
  {
   "cell_type": "code",
   "execution_count": null,
   "metadata": {
    "colab": {
     "base_uri": "https://localhost:8080/"
    },
    "id": "sod4bni07mS1",
    "outputId": "582540b2-229a-4436-f856-c018e6890d6f"
   },
   "outputs": [
    {
     "name": "stdout",
     "output_type": "stream",
     "text": [
      "lucas de  2 es:  1\n",
      "lucas de  3 es:  3\n",
      "lucas de  4 es:  4\n",
      "lucas de  6 es:  11\n",
      "lucas de  8 es:  29\n",
      "lucas de  11 es:  123\n"
     ]
    }
   ],
   "source": [
    "def lucas(n,contador=2):\n",
    "  n_1=2\n",
    "  n_2=1\n",
    "  if n==1:\n",
    "    return n_1\n",
    "  if n==2:\n",
    "    return n_2\n",
    "\n",
    "  if contador!=3:\n",
    "    contador=contador+1\n",
    "    n= lucas(n-1)+lucas(n-2)\n",
    "  return n\n",
    "\n",
    "\n",
    "for i in [2,3,4,6,8,11]:\n",
    "  print('lucas de ',i,'es: ',lucas(i))"
   ]
  },
  {
   "cell_type": "markdown",
   "metadata": {
    "id": "dyE-FulPILzK"
   },
   "source": [
    "# Punto 3"
   ]
  },
  {
   "cell_type": "code",
   "execution_count": null,
   "metadata": {
    "colab": {
     "base_uri": "https://localhost:8080/"
    },
    "id": "4H-ElKBjHvMb",
    "outputId": "394404a9-7477-4b49-e593-33f42a0b16a2"
   },
   "outputs": [
    {
     "name": "stdout",
     "output_type": "stream",
     "text": [
      "el coeficiente binomial de  3  y  2  es:  3\n",
      "el coeficiente binomial de  6  y  4  es:  15\n",
      "el coeficiente binomial de  7  y  2  es:  21\n",
      "el coeficiente binomial de  11  y  5  es:  462\n"
     ]
    }
   ],
   "source": [
    "def factorial(n):\n",
    "  contador=n\n",
    "  if n==0:\n",
    "    n=1\n",
    "    return n\n",
    "  while contador!=1:\n",
    "    contador=contador-1\n",
    "    n=n*contador\n",
    "  return n\n",
    "\n",
    "\n",
    "##la funcion binomial depende del factorial, por lo que primero creo la funcion factorial arriba\n",
    "##la funcion entra en un bucle infinito si el segundo argumento es mayor que el primero, esto se debe a que si se hace esto el\n",
    "\n",
    "def binomial(n,k):\n",
    "  return int((factorial(n))/(factorial(k)*factorial(n-k)))\n",
    "\n",
    "for i in [[3,2],[6,4],[7,2],[11,5]]:\n",
    "  print('el coeficiente binomial de ',i[0],\" y \",i[1],' es: ',binomial(i[0],i[1]))"
   ]
  }
 ],
 "metadata": {
  "colab": {
   "provenance": []
  },
  "kernelspec": {
   "display_name": "Python 3 (ipykernel)",
   "language": "python",
   "name": "python3"
  },
  "language_info": {
   "codemirror_mode": {
    "name": "ipython",
    "version": 3
   },
   "file_extension": ".py",
   "mimetype": "text/x-python",
   "name": "python",
   "nbconvert_exporter": "python",
   "pygments_lexer": "ipython3",
   "version": "3.10.9"
  }
 },
 "nbformat": 4,
 "nbformat_minor": 1
}
