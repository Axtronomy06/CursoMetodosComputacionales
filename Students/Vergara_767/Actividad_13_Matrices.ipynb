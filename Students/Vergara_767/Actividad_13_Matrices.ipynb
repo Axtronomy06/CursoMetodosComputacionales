{
  "nbformat": 4,
  "nbformat_minor": 0,
  "metadata": {
    "colab": {
      "provenance": []
    },
    "kernelspec": {
      "name": "python3",
      "display_name": "Python 3"
    },
    "language_info": {
      "name": "python"
    }
  },
  "cells": [
    {
      "cell_type": "code",
      "source": [
        "import numpy as np\n",
        "import matplotlib.pyplot as plt"
      ],
      "metadata": {
        "id": "5UC4EXg3fBT8"
      },
      "execution_count": 40,
      "outputs": []
    },
    {
      "cell_type": "markdown",
      "source": [
        "# Gauss-Jordan"
      ],
      "metadata": {
        "id": "k2DkA58sfaRz"
      }
    },
    {
      "cell_type": "code",
      "source": [
        "def gauss_jordan(A):\n",
        "    # Convertimos la matriz A a su forma escalonada reducida por filas\n",
        "    A = A.astype(float)  # Convertir a punto flotante\n",
        "    n, m = A.shape\n",
        "    for i in range(n):\n",
        "        # Buscamos el primer pivote no nulo en la columna i\n",
        "        pivot_row = i\n",
        "        while pivot_row < n and A[pivot_row, i] == 0:\n",
        "            pivot_row += 1\n",
        "\n",
        "        # Si no encontramos un pivote no nulo, continuamos con la siguiente columna\n",
        "        if pivot_row == n:\n",
        "            continue\n",
        "\n",
        "        # Intercambiamos la fila actual con la fila del pivote\n",
        "        A[[i, pivot_row]] = A[[pivot_row, i]]\n",
        "\n",
        "        # Hacemos que el pivote sea 1\n",
        "        pivot = A[i, i]\n",
        "        A[i, :] /= pivot\n",
        "\n",
        "        # Hacemos ceros en las otras filas\n",
        "        for j in range(n):\n",
        "            if i != j:\n",
        "                factor = A[j, i]\n",
        "                A[j, :] -= factor * A[i, :]\n",
        "\n",
        "    return A\n",
        "\n",
        "# Ejemplo de uso\n",
        "matriz_ejemplo = np.array([[1, 2, 3], [4, 5, 6], [7, 8, 9]])\n",
        "\n",
        "# Aplicamos el método de Gauss-Jordan\n",
        "matriz_resultante = gauss_jordan(matriz_ejemplo)\n",
        "\n",
        "# Imprimir el resultado\n",
        "print(\"Matriz resultante:\")\n",
        "print(matriz_resultante)"
      ],
      "metadata": {
        "colab": {
          "base_uri": "https://localhost:8080/"
        },
        "id": "waEry7UzqhMd",
        "outputId": "d43e3ccf-cdb5-4d79-9e19-5780352621ff"
      },
      "execution_count": 41,
      "outputs": [
        {
          "output_type": "stream",
          "name": "stdout",
          "text": [
            "Matriz resultante:\n",
            "[[ 1.  0. -1.]\n",
            " [-0.  1.  2.]\n",
            " [ 0.  0.  0.]]\n"
          ]
        }
      ]
    },
    {
      "cell_type": "markdown",
      "source": [
        "# Rotación Matrices"
      ],
      "metadata": {
        "id": "JMGEriGvfUoU"
      }
    },
    {
      "cell_type": "code",
      "execution_count": 42,
      "metadata": {
        "colab": {
          "base_uri": "https://localhost:8080/",
          "height": 539
        },
        "id": "o0Za_KNAewOL",
        "outputId": "8214382d-4efc-4ec9-f210-8b1841d999e6"
      },
      "outputs": [
        {
          "output_type": "stream",
          "name": "stdout",
          "text": [
            "Vector original:\n",
            "[[3]\n",
            " [4]]\n",
            "Vector después de la rotación:\n",
            "[[-4.]\n",
            " [ 3.]]\n"
          ]
        },
        {
          "output_type": "display_data",
          "data": {
            "text/plain": [
              "<Figure size 640x480 with 1 Axes>"
            ],
            "image/png": "[encoded data removed]"
          },
          "metadata": {}
        }
      ],
      "source": [
        "import numpy as np\n",
        "import matplotlib.pyplot as plt\n",
        "\n",
        "def rot(v, ang):\n",
        "    # Convierte el ángulo de grados a radianes\n",
        "    ang_rad = ang * np.pi / 180\n",
        "\n",
        "    # Matriz de rotación 2D\n",
        "    rot = np.array([[np.cos(ang_rad), -np.sin(ang_rad)], [np.sin(ang_rad), np.cos(ang_rad)]])\n",
        "\n",
        "    # Aplica la rotación a un vector v\n",
        "    return np.matmul(rot, v)\n",
        "\n",
        "# Ángulo de rotación en grados\n",
        "ang = 90\n",
        "\n",
        "# Crea un vector v aleatorio de dimensiones 2x1\n",
        "v = np.random.randint(0, 10, (2, 1))\n",
        "print(\"Vector original:\")\n",
        "print(v)\n",
        "\n",
        "# Aplica la rotación al vector v\n",
        "w = rot(v, ang)\n",
        "print(\"Vector después de la rotación:\")\n",
        "print(w)\n",
        "\n",
        "# Configuración para visualización de vectores usando matplotlib\n",
        "plt.quiver(0, 0, v[0], v[1], angles='xy', scale_units='xy', scale=1, color='r', label='Vector original')\n",
        "plt.quiver(0, 0, w[0], w[1], angles='xy', scale_units='xy', scale=1, color='b', label='Vector rotado')\n",
        "\n",
        "# Ajusta los límites del gráfico\n",
        "plt.xlim(-(v[0] + 10), v[0] + 10)\n",
        "plt.ylim(-(v[0] + 10), v[0] + 10)\n",
        "\n",
        "# Muestra la cuadrícula en el gráfico\n",
        "plt.grid(True)\n",
        "\n",
        "# Muestra la leyenda\n",
        "plt.legend()\n",
        "\n",
        "# Muestra el gráfico\n",
        "plt.show()"
      ]
    },
    {
      "cell_type": "markdown",
      "source": [
        "## Diagonalización"
      ],
      "metadata": {
        "id": "em_1RhvZfe02"
      }
    },
    {
      "cell_type": "code",
      "source": [
        "def diagonalizar(matriz):\n",
        "    # Obtener los autovalores y autovectores\n",
        "    autovalores, autovectores = np.linalg.eig(matriz)\n",
        "\n",
        "    # Construir la matriz P con los autovectores como columnas\n",
        "    P = autovectores\n",
        "\n",
        "    # Construir la matriz inversa de P\n",
        "    P_inv = np.linalg.inv(P)\n",
        "\n",
        "    # Obtener la matriz diagonal D\n",
        "    D = np.diag(autovalores)\n",
        "\n",
        "    # Verificar que P_inv * A * P sea diagonal\n",
        "    diagonalizada = np.allclose(P_inv @ matriz @ P, D)\n",
        "\n",
        "    return P, D, P_inv, diagonalizada\n",
        "\n",
        "# Ejemplo de uso\n",
        "matriz_ejemplo = np.array([[2, 1], [1, 3]])\n",
        "\n",
        "# Diagonalizar la matriz\n",
        "P, D, P_inv, diagonalizada = diagonalizar(matriz_ejemplo)\n",
        "\n",
        "# Imprimir resultados\n",
        "print(\"Matriz original:\")\n",
        "print(matriz_ejemplo)\n",
        "\n",
        "print(\"\\nMatriz diagonal:\")\n",
        "print(D)\n",
        "\n",
        "print(\"\\nMatriz P:\")\n",
        "print(P)\n",
        "\n",
        "print(\"\\nMatriz inversa de P:\")\n",
        "print(P_inv)\n",
        "\n",
        "print(\"\\n¿La matriz fue diagonalizada correctamente?\", diagonalizada)"
      ],
      "metadata": {
        "id": "FvOjxHjBfF88",
        "colab": {
          "base_uri": "https://localhost:8080/"
        },
        "outputId": "5375282d-4475-4f84-cf7e-d5a5d06b4f57"
      },
      "execution_count": 43,
      "outputs": [
        {
          "output_type": "stream",
          "name": "stdout",
          "text": [
            "Matriz original:\n",
            "[[2 1]\n",
            " [1 3]]\n",
            "\n",
            "Matriz diagonal:\n",
            "[[1.38196601 0.        ]\n",
            " [0.         3.61803399]]\n",
            "\n",
            "Matriz P:\n",
            "[[-0.85065081 -0.52573111]\n",
            " [ 0.52573111 -0.85065081]]\n",
            "\n",
            "Matriz inversa de P:\n",
            "[[-0.85065081  0.52573111]\n",
            " [-0.52573111 -0.85065081]]\n",
            "\n",
            "¿La matriz fue diagonalizada correctamente? True\n"
          ]
        }
      ]
    }
  ]
}