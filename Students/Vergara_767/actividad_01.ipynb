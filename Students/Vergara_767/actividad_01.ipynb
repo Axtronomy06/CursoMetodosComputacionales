{
  "nbformat": 4,
  "nbformat_minor": 0,
  "metadata": {
    "colab": {
      "provenance": []
    },
    "kernelspec": {
      "name": "python3",
      "display_name": "Python 3"
    },
    "language_info": {
      "name": "python"
    }
  },
  "cells": [
    {
      "cell_type": "code",
      "execution_count": 22,
      "metadata": {
        "colab": {
          "base_uri": "https://localhost:8080/"
        },
        "id": "mv9EaNDrlM2x",
        "outputId": "9a0b9ec5-6818-496f-90f2-a6855b3632c4"
      },
      "outputs": [
        {
          "output_type": "stream",
          "name": "stdout",
          "text": [
            "ingrese número: 5\n",
            "15\n"
          ]
        }
      ],
      "source": [
        "def doble_factorial(n):\n",
        "  f = 1\n",
        "  if n%2 == 0:\n",
        "    a = 0\n",
        "  else:\n",
        "    a = 1\n",
        "  for j in range(a,n+1,2):\n",
        "    if j != 0:\n",
        "      f *= j\n",
        "  return f\n",
        "\n",
        "print(doble_factorial(int(input(\"ingrese número: \"))))"
      ]
    },
    {
      "cell_type": "code",
      "source": [
        "def lucas(n):\n",
        "  s = [2,1]\n",
        "  for i in range(n):\n",
        "    s.append(s[i+1]+s[i])\n",
        "  return s[n]\n",
        "\n",
        "print(lucas(int(input(\"ingrese posición: \"))))"
      ],
      "metadata": {
        "colab": {
          "base_uri": "https://localhost:8080/"
        },
        "id": "cBuU9D4jmZsK",
        "outputId": "e37ccd7a-815d-4bb4-895b-e3191169835b"
      },
      "execution_count": 18,
      "outputs": [
        {
          "output_type": "stream",
          "name": "stdout",
          "text": [
            "ingrese posición: 3\n",
            "4\n"
          ]
        }
      ]
    },
    {
      "cell_type": "code",
      "source": [
        "from math import factorial\n",
        "def binomial(n,k):\n",
        "  c_b = factorial(n)/(factorial(k)*factorial(n-k))\n",
        "  return c_b\n",
        "\n",
        "print(binomial(int(input(\"ingrese número de elementos: \")),int(input(\"ingrese el número de elementos a elegir: \"))))"
      ],
      "metadata": {
        "colab": {
          "base_uri": "https://localhost:8080/"
        },
        "id": "wxMobz6Hsl-h",
        "outputId": "2b4238ba-b2a1-42ef-d6f7-753677ebab98"
      },
      "execution_count": 21,
      "outputs": [
        {
          "output_type": "stream",
          "name": "stdout",
          "text": [
            "ingrese número de elementos: 5\n",
            "ingrese el número de elementos a elegir: 3\n",
            "10.0\n"
          ]
        }
      ]
    }
  ]
}