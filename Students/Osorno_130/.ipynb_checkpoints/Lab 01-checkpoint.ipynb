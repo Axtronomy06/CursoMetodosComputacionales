{
 "cells": [
  {
   "cell_type": "markdown",
   "metadata": {
    "id": "GUTNoRgHTjfg"
   },
   "source": [
    "<a href=\"https://colab.research.google.com/github/hernansalinas/autogradesMetodosComputacionales/blob/main/Laboratorios_Taller/Lab01_python_basico01.ipynb\" target=\"_parent\"><img src=\"https://colab.research.google.com/assets/colab-badge.svg\" alt=\"Open In Colab\"/></a>\n",
    "\n",
    "\n",
    "\n",
    "\n",
    "# Laboratorio 01\n",
    "### Métodos computacionales para físicos  y astrónomos\n",
    "### Universidad de Antioquia\n",
    "### Prof: Hernan D. Salinas Jiménez\n"
   ]
  },
  {
   "cell_type": "code",
   "execution_count": null,
   "metadata": {
    "colab": {
     "base_uri": "https://localhost:8080/"
    },
    "executionInfo": {
     "elapsed": 3276,
     "status": "ok",
     "timestamp": 1691521050738,
     "user": {
      "displayName": "LUZ COSMOS OSORNO GOMEZ",
      "userId": "08606577214404876378"
     },
     "user_tz": 300
    },
    "id": "NmGdQYCBL7cs",
    "outputId": "5ac803fd-e501-4942-adb4-190dee096a57"
   },
   "outputs": [
    {
     "name": "stdout",
     "output_type": "stream",
     "text": [
      "Cloning into 'autogradesMetodosComputacionales'...\n",
      "remote: Enumerating objects: 556, done.\u001b[K\n",
      "remote: Counting objects: 100% (172/172), done.\u001b[K\n",
      "remote: Compressing objects: 100% (102/102), done.\u001b[K\n",
      "remote: Total 556 (delta 98), reused 120 (delta 69), pack-reused 384\u001b[K\n",
      "Receiving objects: 100% (556/556), 38.59 MiB | 21.70 MiB/s, done.\n",
      "Resolving deltas: 100% (292/292), done.\n"
     ]
    }
   ],
   "source": [
    "# Ejecutar esta celda antes de cada laboratorio\n",
    "!git clone https://github.com/hernansalinas/autogradesMetodosComputacionales.git\n",
    "%run -i autogradesMetodosComputacionales/example/libs/libUnitTest.py"
   ]
  },
  {
   "cell_type": "markdown",
   "metadata": {
    "id": "OkdTI9KQ8MLN"
   },
   "source": [
    "# Operaciones básicas en python.\n",
    "\n",
    "\n",
    "### Definicion de variables\n",
    "1. Definir una variable x tipo entero.\n",
    "2. Definir una variable y tipo float\n",
    "3. Definir una variable z tipo string."
   ]
  },
  {
   "cell_type": "code",
   "execution_count": null,
   "metadata": {
    "colab": {
     "base_uri": "https://localhost:8080/",
     "height": 215
    },
    "executionInfo": {
     "elapsed": 237,
     "status": "ok",
     "timestamp": 1691031164024,
     "user": {
      "displayName": "LUZ COSMOS OSORNO GOMEZ",
      "userId": "08606577214404876378"
     },
     "user_tz": 300
    },
    "id": "aod54z2z-ZeY",
    "outputId": "46866123-7416-4e10-b157-0d6e4742b1f8"
   },
   "outputs": [
    {
     "data": {
      "text/html": [
       "<style>\n",
       "  table { text-align: left; border-collapse: collapse; margin: 1em; caption-side: bottom; font-family: Sans-Serif; font-size: 12px}\n",
       "  caption { text-align: left; padding: 5px }\n",
       "  th, td { border: 2px solid #BFC9CA; padding: 5px }\n",
       "  th { background-color: #BFC9CA }\n",
       "  .passed { background-color: #76D7C4 }\n",
       "  .failed { background-color: #EC7063 }\n",
       "  .skipped { background-color: #EDBB99 }\n",
       "  .score { background-color: #7DCEA0 }\n",
       "  .results .points { display: none }\n",
       "  .results .message { display: block; font-size:smaller; color:#D35400 }\n",
       "  .results .note { display: block; font-size:smaller; font-decoration:italics }\n",
       "  .results .passed::before  { content: \"Passed\" } \n",
       "  .results .skipped::before  { content: \"Skipped\" } \n",
       "  .results .failed::before  { content: \"Failed\" } \n",
       "  .grade .passed  .message:empty::before { content:\"Passed\" }\n",
       "  .grade .failed  .message:empty::before { content:\"Failed\" }\n",
       "  .grade .skipped .message:empty::before { content:\"Skipped\" }   \n",
       "</style>\n",
       "<table class='results'>\n",
       "  <th class='test'>Test</th><th class='result'>Result</th></tr>\n",
       "<tr>\n",
       "  <td class='test'>\n",
       "    Definir x como un numero entero\n",
       "    <div class='message'>Done</div>\n",
       "  </td>\n",
       "  <td class='result passed'></td>\n",
       "</tr>\n",
       "<tr>\n",
       "  <td class='test'>\n",
       "    Defiir y como una variable tipo float\n",
       "    <div class='message'>Done</div>\n",
       "  </td>\n",
       "  <td class='result passed'></td>\n",
       "</tr>\n",
       "<tr>\n",
       "  <td class='test'>\n",
       "    Definir z como un string\n",
       "    <div class='message'>Done</div>\n",
       "  </td>\n",
       "  <td class='result passed'></td>\n",
       "</tr>  <tr><th class='score'>Total Points</th><th class='score'>3</th></tr></table>\n"
      ],
      "text/plain": [
       "<IPython.core.display.HTML object>"
      ]
     },
     "metadata": {},
     "output_type": "display_data"
    }
   ],
   "source": [
    "# Ejecute la presente celda para probar su solucion\n",
    "\n",
    "x= 3\n",
    "y=4.5\n",
    "z=\"Hola Métodos\"\n",
    "\n",
    "%run -i autogradesMetodosComputacionales/example/libs/Lab_autotesting01/test01.py"
   ]
  },
  {
   "cell_type": "markdown",
   "metadata": {
    "id": "9JTEaQro_I8E"
   },
   "source": [
    "\n",
    "\n",
    "###  Creación de Funciones\n",
    "4. Crear una función con el nombre mul_lambda, lambda que multiple dos enteros, el resultado deberá ser un número entero.  \n",
    "\n",
    "Ejemplo de ejecución:\n",
    "\n",
    "```python\n",
    "mul_lambda(a,b)\n",
    "donde a, y b son numeros enteros\n",
    "```\n",
    "\n",
    "\n",
    "5. Crear una función explicita con el nombre de suma_int, que realice la suma de dos números enteros\n",
    "\n",
    "Ejemplo de ejecución:\n",
    "\n",
    "```python\n",
    "sum_int(a,b)\n",
    "donde a, y b son numeros enteros\n",
    "```\n",
    "\n"
   ]
  },
  {
   "cell_type": "code",
   "execution_count": null,
   "metadata": {
    "colab": {
     "base_uri": "https://localhost:8080/",
     "height": 175
    },
    "executionInfo": {
     "elapsed": 238,
     "status": "ok",
     "timestamp": 1691031168143,
     "user": {
      "displayName": "LUZ COSMOS OSORNO GOMEZ",
      "userId": "08606577214404876378"
     },
     "user_tz": 300
    },
    "id": "lSsnEjAx_Gay",
    "outputId": "588d3eb4-adec-4959-87f9-c124a0e6f57a"
   },
   "outputs": [
    {
     "data": {
      "text/html": [
       "<style>\n",
       "  table { text-align: left; border-collapse: collapse; margin: 1em; caption-side: bottom; font-family: Sans-Serif; font-size: 12px}\n",
       "  caption { text-align: left; padding: 5px }\n",
       "  th, td { border: 2px solid #BFC9CA; padding: 5px }\n",
       "  th { background-color: #BFC9CA }\n",
       "  .passed { background-color: #76D7C4 }\n",
       "  .failed { background-color: #EC7063 }\n",
       "  .skipped { background-color: #EDBB99 }\n",
       "  .score { background-color: #7DCEA0 }\n",
       "  .results .points { display: none }\n",
       "  .results .message { display: block; font-size:smaller; color:#D35400 }\n",
       "  .results .note { display: block; font-size:smaller; font-decoration:italics }\n",
       "  .results .passed::before  { content: \"Passed\" } \n",
       "  .results .skipped::before  { content: \"Skipped\" } \n",
       "  .results .failed::before  { content: \"Failed\" } \n",
       "  .grade .passed  .message:empty::before { content:\"Passed\" }\n",
       "  .grade .failed  .message:empty::before { content:\"Failed\" }\n",
       "  .grade .skipped .message:empty::before { content:\"Skipped\" }   \n",
       "</style>\n",
       "<table class='results'>\n",
       "  <th class='test'>Test</th><th class='result'>Result</th></tr>\n",
       "<tr>\n",
       "  <td class='test'>\n",
       "    Crear una funcion que multiplique dos números\n",
       "    <div class='message'>Done</div>\n",
       "  </td>\n",
       "  <td class='result passed'></td>\n",
       "</tr>\n",
       "<tr>\n",
       "  <td class='test'>\n",
       "    Crear una funcion que sume dos números\n",
       "    <div class='message'>Done</div>\n",
       "  </td>\n",
       "  <td class='result passed'></td>\n",
       "</tr>  <tr><th class='score'>Total Points</th><th class='score'>2</th></tr></table>\n"
      ],
      "text/plain": [
       "<IPython.core.display.HTML object>"
      ]
     },
     "metadata": {},
     "output_type": "display_data"
    }
   ],
   "source": [
    "def mul_lambda(a,b):\n",
    "  return a*b\n",
    "\n",
    "def sum_int(a,b):\n",
    "  return a+b\n",
    "\n",
    "%run -i autogradesMetodosComputacionales/example/libs/Lab_autotesting01/test02.py"
   ]
  },
  {
   "cell_type": "markdown",
   "metadata": {
    "id": "uu42QkJsCQMb"
   },
   "source": [
    "\n",
    "###  Números complejos\n",
    "\n",
    "6. Defina un número complejo w.\n",
    "7. Retorne la parte imaginaria de w, almacenela en una variable w_img\n",
    "8. Retorne la parte real de w, almacenela en una variable w_real.\n",
    "9. Retorne el complejo conjugado de w, almacenla en una varible w_con.\n"
   ]
  },
  {
   "cell_type": "code",
   "execution_count": null,
   "metadata": {
    "id": "jx3J6yE1Kwki"
   },
   "outputs": [],
   "source": [
    "w = 2+2.j\n",
    "w_real = w.real\n",
    "w_img = w.imag\n",
    "w_con = w.conjugate()"
   ]
  },
  {
   "cell_type": "code",
   "execution_count": null,
   "metadata": {
    "colab": {
     "base_uri": "https://localhost:8080/",
     "height": 254
    },
    "executionInfo": {
     "elapsed": 4,
     "status": "ok",
     "timestamp": 1691031173160,
     "user": {
      "displayName": "LUZ COSMOS OSORNO GOMEZ",
      "userId": "08606577214404876378"
     },
     "user_tz": 300
    },
    "id": "sf3Y01lwXG-y",
    "outputId": "d696ddb9-dd6d-4138-d7f2-43b16e9e2ff7"
   },
   "outputs": [
    {
     "data": {
      "text/html": [
       "<style>\n",
       "  table { text-align: left; border-collapse: collapse; margin: 1em; caption-side: bottom; font-family: Sans-Serif; font-size: 12px}\n",
       "  caption { text-align: left; padding: 5px }\n",
       "  th, td { border: 2px solid #BFC9CA; padding: 5px }\n",
       "  th { background-color: #BFC9CA }\n",
       "  .passed { background-color: #76D7C4 }\n",
       "  .failed { background-color: #EC7063 }\n",
       "  .skipped { background-color: #EDBB99 }\n",
       "  .score { background-color: #7DCEA0 }\n",
       "  .results .points { display: none }\n",
       "  .results .message { display: block; font-size:smaller; color:#D35400 }\n",
       "  .results .note { display: block; font-size:smaller; font-decoration:italics }\n",
       "  .results .passed::before  { content: \"Passed\" } \n",
       "  .results .skipped::before  { content: \"Skipped\" } \n",
       "  .results .failed::before  { content: \"Failed\" } \n",
       "  .grade .passed  .message:empty::before { content:\"Passed\" }\n",
       "  .grade .failed  .message:empty::before { content:\"Failed\" }\n",
       "  .grade .skipped .message:empty::before { content:\"Skipped\" }   \n",
       "</style>\n",
       "<table class='results'>\n",
       "  <th class='test'>Test</th><th class='result'>Result</th></tr>\n",
       "<tr>\n",
       "  <td class='test'>\n",
       "    Definir w como un número complejo\n",
       "    <div class='message'>Done</div>\n",
       "  </td>\n",
       "  <td class='result passed'></td>\n",
       "</tr>\n",
       "<tr>\n",
       "  <td class='test'>\n",
       "    Determinar la parte real de w\n",
       "    <div class='message'>Done</div>\n",
       "  </td>\n",
       "  <td class='result passed'></td>\n",
       "</tr>\n",
       "<tr>\n",
       "  <td class='test'>\n",
       "    Determinar la parte imaginaria  de w\n",
       "    <div class='message'>Done</div>\n",
       "  </td>\n",
       "  <td class='result passed'></td>\n",
       "</tr>\n",
       "<tr>\n",
       "  <td class='test'>\n",
       "    Determinar el conjugado de w\n",
       "    <div class='message'>Done</div>\n",
       "  </td>\n",
       "  <td class='result passed'></td>\n",
       "</tr>  <tr><th class='score'>Total Points</th><th class='score'>4</th></tr></table>\n"
      ],
      "text/plain": [
       "<IPython.core.display.HTML object>"
      ]
     },
     "metadata": {},
     "output_type": "display_data"
    }
   ],
   "source": [
    "%run -i autogradesMetodosComputacionales/example/libs/Lab_autotesting01/test03.py\n"
   ]
  },
  {
   "cell_type": "markdown",
   "metadata": {
    "id": "P-2vd2FFV-R-"
   },
   "source": [
    "###  Listas\n",
    "\n",
    "10.0  Construir una lista L con las variables usadas hasta acá y los resultados de las funciones.\n",
    "\n",
    "L=[x,y,z,mul_lambda, mul_int,w, w_img, w_real, w_con ]\n",
    "\n",
    "11.0 Invierta la lista y almacene en una variable L_reverse\n",
    "\n",
    "12.0 Almacene los elementos impares de la lista, L_imp\n",
    "\n",
    "13.0 Almacene los elementos pares de la lista, L_par\n",
    "\n",
    "14.0 Modifique el elemento 5 de la lista L con la palabra \"hello world\"\n"
   ]
  },
  {
   "cell_type": "code",
   "execution_count": null,
   "metadata": {
    "colab": {
     "base_uri": "https://localhost:8080/",
     "height": 1000
    },
    "executionInfo": {
     "elapsed": 243,
     "status": "ok",
     "timestamp": 1691033514553,
     "user": {
      "displayName": "LUZ COSMOS OSORNO GOMEZ",
      "userId": "08606577214404876378"
     },
     "user_tz": 300
    },
    "id": "aM17CFx0XFv7",
    "outputId": "9879df8b-85f9-46b6-eca3-4d8dec19e7bc"
   },
   "outputs": [
    {
     "name": "stdout",
     "output_type": "stream",
     "text": [
      "0\n",
      "1\n",
      "0\n",
      "1\n",
      "0\n",
      "1\n",
      "0\n",
      "1\n",
      "0\n",
      "valor de L:\n",
      "[3, 4.5, 'Hola Métodos', <function mul_lambda at 0x7b423a4935b0>, 'hello world', (2+2j), 2.0, 2.0, (2-2j)]\n",
      "valor de L_reverse:\n",
      "[(2-2j), 2.0, 2.0, (2+2j), <function mul_int at 0x7b421dc43c70>, <function mul_lambda at 0x7b423a4935b0>, 'Hola Métodos', 4.5, 3]\n",
      "valor de L_imp:\n",
      "[4.5, <function mul_lambda at 0x7b423a4935b0>, (2+2j), 2.0]\n",
      "valor de L_par:\n",
      "[3, 'Hola Métodos', <function mul_int at 0x7b421dc43c70>, 2.0, (2-2j)]\n"
     ]
    },
    {
     "data": {
      "text/html": [
       "<style>\n",
       "  table { text-align: left; border-collapse: collapse; margin: 1em; caption-side: bottom; font-family: Sans-Serif; font-size: 12px}\n",
       "  caption { text-align: left; padding: 5px }\n",
       "  th, td { border: 2px solid #BFC9CA; padding: 5px }\n",
       "  th { background-color: #BFC9CA }\n",
       "  .passed { background-color: #76D7C4 }\n",
       "  .failed { background-color: #EC7063 }\n",
       "  .skipped { background-color: #EDBB99 }\n",
       "  .score { background-color: #7DCEA0 }\n",
       "  .results .points { display: none }\n",
       "  .results .message { display: block; font-size:smaller; color:#D35400 }\n",
       "  .results .note { display: block; font-size:smaller; font-decoration:italics }\n",
       "  .results .passed::before  { content: \"Passed\" } \n",
       "  .results .skipped::before  { content: \"Skipped\" } \n",
       "  .results .failed::before  { content: \"Failed\" } \n",
       "  .grade .passed  .message:empty::before { content:\"Passed\" }\n",
       "  .grade .failed  .message:empty::before { content:\"Failed\" }\n",
       "  .grade .skipped .message:empty::before { content:\"Skipped\" }   \n",
       "</style>\n",
       "<table class='results'>\n",
       "  <th class='test'>Test</th><th class='result'>Result</th></tr>\n",
       "<tr>\n",
       "  <td class='test'>\n",
       "    Definir x como un numero entero\n",
       "    <div class='message'>Done</div>\n",
       "  </td>\n",
       "  <td class='result passed'></td>\n",
       "</tr>\n",
       "<tr>\n",
       "  <td class='test'>\n",
       "    Defiir y como una variable tipo float\n",
       "    <div class='message'>Done</div>\n",
       "  </td>\n",
       "  <td class='result passed'></td>\n",
       "</tr>\n",
       "<tr>\n",
       "  <td class='test'>\n",
       "    Definir z como un string\n",
       "    <div class='message'>Done</div>\n",
       "  </td>\n",
       "  <td class='result passed'></td>\n",
       "</tr>\n",
       "<tr>\n",
       "  <td class='test'>\n",
       "    Definir mul_lambda como una funcion\n",
       "    <div class='message'>Done</div>\n",
       "  </td>\n",
       "  <td class='result passed'></td>\n",
       "</tr>\n",
       "<tr>\n",
       "  <td class='test'>\n",
       "    Definir mul_int como una funcion\n",
       "    <div class='message'>Done</div>\n",
       "  </td>\n",
       "  <td class='result passed'></td>\n",
       "</tr>\n",
       "<tr>\n",
       "  <td class='test'>\n",
       "    Definir w como un número complejo\n",
       "    <div class='message'>Done</div>\n",
       "  </td>\n",
       "  <td class='result passed'></td>\n",
       "</tr>\n",
       "<tr>\n",
       "  <td class='test'>\n",
       "    Determinar la parte imaginiaria de w\n",
       "    <div class='message'>Done</div>\n",
       "  </td>\n",
       "  <td class='result passed'></td>\n",
       "</tr>\n",
       "<tr>\n",
       "  <td class='test'>\n",
       "    Determinar la parte real de w\n",
       "    <div class='message'>Done</div>\n",
       "  </td>\n",
       "  <td class='result passed'></td>\n",
       "</tr>\n",
       "<tr>\n",
       "  <td class='test'>\n",
       "    Calcular el complejo conjugado de w\n",
       "    <div class='message'>Done</div>\n",
       "  </td>\n",
       "  <td class='result passed'></td>\n",
       "</tr>\n",
       "<tr>\n",
       "  <td class='test'>\n",
       "    Definir una lista L\n",
       "    <div class='message'>Done</div>\n",
       "  </td>\n",
       "  <td class='result passed'></td>\n",
       "</tr>\n",
       "<tr>\n",
       "  <td class='test'>\n",
       "    La longitud de lista debe ser 9 \n",
       "    <div class='message'>Done</div>\n",
       "  </td>\n",
       "  <td class='result passed'></td>\n",
       "</tr>\n",
       "<tr>\n",
       "  <td class='test'>\n",
       "    Invierta la lista L\n",
       "    <div class='message'>Error: Lists differ: [(2-2[17 chars]2j), &#x27;hello world&#x27;, &lt;function mul_lambda at 0x[33 chars]5, 3] != [(2-2[17 chars]2j), &lt;function mul_int at 0x7b421dc43c70&gt;, &lt;fu[56 chars]5, 3]\n",
       "\n",
       "First differing element 4:\n",
       "&#x27;hello world&#x27;\n",
       "&lt;function mul_int at 0x7b421dc43c70&gt;\n",
       "\n",
       "  [(2-2j),\n",
       "   2.0,\n",
       "   2.0,\n",
       "   (2+2j),\n",
       "-  &#x27;hello world&#x27;,\n",
       "+  &lt;function mul_int at 0x7b421dc43c70&gt;,\n",
       "   &lt;function mul_lambda at 0x7b423a4935b0&gt;,\n",
       "   &#x27;Hola Métodos&#x27;,\n",
       "   4.5,\n",
       "   3] : #-The expect value is [(2-2j), 2.0, 2.0, (2+2j), &#x27;hello world&#x27;, &lt;function mul_lambda at 0x7b423a4935b0&gt;, &#x27;Hola Métodos&#x27;, 4.5, 3] and the functions test is [(2-2j), 2.0, 2.0, (2+2j), &lt;function mul_int at 0x7b421dc43c70&gt;, &lt;function mul_lambda at 0x7b423a4935b0&gt;, &#x27;Hola Métodos&#x27;, 4.5, 3]\n",
       "</div>\n",
       "  </td>\n",
       "  <td class='result failed'></td>\n",
       "</tr>\n",
       "<tr>\n",
       "  <td class='test'>\n",
       "    Determine los valores impares de la lista\n",
       "    <div class='message'>Done</div>\n",
       "  </td>\n",
       "  <td class='result passed'></td>\n",
       "</tr>\n",
       "<tr>\n",
       "  <td class='test'>\n",
       "    Determinar los valores pares de la lista\n",
       "    <div class='message'>Error: Lists differ: [3, &#x27;Hola Métodos&#x27;, &#x27;hello world&#x27;, 2.0, (2-2j)] != [3, &#x27;Hola Métodos&#x27;, &lt;function mul_int at 0x7b421dc43c70&gt;, 2.0, (2-2j)]\n",
       "\n",
       "First differing element 2:\n",
       "&#x27;hello world&#x27;\n",
       "&lt;function mul_int at 0x7b421dc43c70&gt;\n",
       "\n",
       "- [3, &#x27;Hola Métodos&#x27;, &#x27;hello world&#x27;, 2.0, (2-2j)]\n",
       "+ [3, &#x27;Hola Métodos&#x27;, &lt;function mul_int at 0x7b421dc43c70&gt;, 2.0, (2-2j)] : #-The expect value is [3, &#x27;Hola Métodos&#x27;, &#x27;hello world&#x27;, 2.0, (2-2j)] and the functions test is [3, &#x27;Hola Métodos&#x27;, &lt;function mul_int at 0x7b421dc43c70&gt;, 2.0, (2-2j)]\n",
       "</div>\n",
       "  </td>\n",
       "  <td class='result failed'></td>\n",
       "</tr>  <tr><th class='score'>Total Points</th><th class='score'>11</th></tr></table>\n"
      ],
      "text/plain": [
       "<IPython.core.display.HTML object>"
      ]
     },
     "metadata": {},
     "output_type": "display_data"
    }
   ],
   "source": [
    "\n",
    "x= 3\n",
    "y=4.5\n",
    "z=\"Hola Métodos\"\n",
    "def mul_lambda(a,b):\n",
    "  return a*b\n",
    "\n",
    "def mul_int(a,b):\n",
    "  return a*b\n",
    "\n",
    "w = 2+2.j\n",
    "w_real = w.real\n",
    "w_img = w.imag\n",
    "w_con = w.conjugate()\n",
    "\n",
    "L=[x,y,z,mul_lambda, mul_int,w, w_img, w_real, w_con]\n",
    "\n",
    "L_reverse = L[::-1]\n",
    "L_imp = []\n",
    "L_par = []\n",
    "count = 0\n",
    "for el in L:\n",
    "  modulo = count%2\n",
    "  if (modulo == 0):\n",
    "    L_par.append(el)\n",
    "  else:\n",
    "    L_imp.append(el)\n",
    "  print(modulo)\n",
    "  count = count + 1\n",
    "\n",
    "L[4] = \"hello world\"\n",
    "\n",
    "\n",
    "print (\"valor de L:\")\n",
    "print(L)\n",
    "print (\"valor de L_reverse:\")\n",
    "print(L_reverse)\n",
    "print (\"valor de L_imp:\")\n",
    "print(L_imp)\n",
    "print (\"valor de L_par:\")\n",
    "print(L_par)\n",
    "\n",
    "%run -i autogradesMetodosComputacionales/example/libs/Lab_autotesting01/test04.py\n"
   ]
  },
  {
   "cell_type": "code",
   "execution_count": null,
   "metadata": {
    "colab": {
     "base_uri": "https://localhost:8080/",
     "height": 71
    },
    "executionInfo": {
     "elapsed": 256,
     "status": "ok",
     "timestamp": 1691025936469,
     "user": {
      "displayName": "LUZ COSMOS OSORNO GOMEZ",
      "userId": "08606577214404876378"
     },
     "user_tz": 300
    },
    "id": "qq83TzINWBph",
    "outputId": "e732cc68-f732-4f6e-8ea5-220891dda685"
   },
   "outputs": [
    {
     "data": {
      "application/vnd.google.colaboratory.intrinsic+json": {
       "type": "string"
      },
      "text/plain": [
       "'w=1+0.j\\nx=int(1)\\ny=float(2.0)\\nz=\"hola\"\\n\\nmul_lambda=lambda x:2\\nmul_int=lambda x:2\\n\\nw_img=w.imag\\nw_real=w.real\\nw_con=w.conjugate()\\n\\nL=[x,y,z,mul_lambda,mul_int, w, w_img,w_real,w_con]\\n\\nL_reverse=list(reversed(L))\\nL_imp=L[1::2]\\nL_par=L[0::2]'"
      ]
     },
     "execution_count": 20,
     "metadata": {},
     "output_type": "execute_result"
    }
   ],
   "source": [
    "\"\"\"w=1+0.j\n",
    "x=int(1)\n",
    "y=float(2.0)\n",
    "z=\"hola\"\n",
    "\n",
    "mul_lambda=lambda x:2\n",
    "mul_int=lambda x:2\n",
    "\n",
    "w_img=w.imag\n",
    "w_real=w.real\n",
    "w_con=w.conjugate()\n",
    "\n",
    "L=[x,y,z,mul_lambda,mul_int, w, w_img,w_real,w_con]\n",
    "\n",
    "L_reverse=list(reversed(L))\n",
    "L_imp=L[1::2]\n",
    "L_par=L[0::2]\"\"\"\n",
    "#L_new=L\n",
    "#L_new[5]=\"hello_world\""
   ]
  },
  {
   "cell_type": "code",
   "execution_count": null,
   "metadata": {
    "id": "rUAEpJDDdM2q"
   },
   "outputs": [],
   "source": []
  },
  {
   "cell_type": "markdown",
   "metadata": {
    "id": "9vVIrQeytD30"
   },
   "source": [
    "###  Tuplas\n",
    "\n",
    "15.0 Definir una tupla con 5 elementos almacenda en la variable Tup, los primeros 3 tipo string y los ultimos dos, tipo float."
   ]
  },
  {
   "cell_type": "code",
   "execution_count": null,
   "metadata": {
    "colab": {
     "base_uri": "https://localhost:8080/",
     "height": 254
    },
    "executionInfo": {
     "elapsed": 205,
     "status": "ok",
     "timestamp": 1691033856405,
     "user": {
      "displayName": "LUZ COSMOS OSORNO GOMEZ",
      "userId": "08606577214404876378"
     },
     "user_tz": 300
    },
    "id": "UswyGx3xuou2",
    "outputId": "90199ed7-6f4b-4cdb-e4e1-7224a9ddae82"
   },
   "outputs": [
    {
     "data": {
      "text/html": [
       "<style>\n",
       "  table { text-align: left; border-collapse: collapse; margin: 1em; caption-side: bottom; font-family: Sans-Serif; font-size: 12px}\n",
       "  caption { text-align: left; padding: 5px }\n",
       "  th, td { border: 2px solid #BFC9CA; padding: 5px }\n",
       "  th { background-color: #BFC9CA }\n",
       "  .passed { background-color: #76D7C4 }\n",
       "  .failed { background-color: #EC7063 }\n",
       "  .skipped { background-color: #EDBB99 }\n",
       "  .score { background-color: #7DCEA0 }\n",
       "  .results .points { display: none }\n",
       "  .results .message { display: block; font-size:smaller; color:#D35400 }\n",
       "  .results .note { display: block; font-size:smaller; font-decoration:italics }\n",
       "  .results .passed::before  { content: \"Passed\" } \n",
       "  .results .skipped::before  { content: \"Skipped\" } \n",
       "  .results .failed::before  { content: \"Failed\" } \n",
       "  .grade .passed  .message:empty::before { content:\"Passed\" }\n",
       "  .grade .failed  .message:empty::before { content:\"Failed\" }\n",
       "  .grade .skipped .message:empty::before { content:\"Skipped\" }   \n",
       "</style>\n",
       "<table class='results'>\n",
       "  <th class='test'>Test</th><th class='result'>Result</th></tr>\n",
       "<tr>\n",
       "  <td class='test'>\n",
       "    Definir una tupla\n",
       "    <div class='message'>Done</div>\n",
       "  </td>\n",
       "  <td class='result passed'></td>\n",
       "</tr>\n",
       "<tr>\n",
       "  <td class='test'>\n",
       "    La longitud de la tupla debe ser 5 \n",
       "    <div class='message'>Done</div>\n",
       "  </td>\n",
       "  <td class='result passed'></td>\n",
       "</tr>\n",
       "<tr>\n",
       "  <td class='test'>\n",
       "    Los tres primeros elementos deben string \n",
       "    <div class='message'>Done</div>\n",
       "  </td>\n",
       "  <td class='result passed'></td>\n",
       "</tr>\n",
       "<tr>\n",
       "  <td class='test'>\n",
       "    Los dos ultimos elementos deben ser float \n",
       "    <div class='message'>Done</div>\n",
       "  </td>\n",
       "  <td class='result passed'></td>\n",
       "</tr>  <tr><th class='score'>Total Points</th><th class='score'>4</th></tr></table>\n"
      ],
      "text/plain": [
       "<IPython.core.display.HTML object>"
      ]
     },
     "metadata": {},
     "output_type": "display_data"
    }
   ],
   "source": [
    " Tup = (\"a\", \"b\", \"c\",3.0,2.0)\n",
    "\n",
    " %run -i autogradesMetodosComputacionales/example/libs/Lab_autotesting01/test05.py"
   ]
  },
  {
   "cell_type": "markdown",
   "metadata": {
    "id": "E1VlbpbEysKy"
   },
   "source": [
    "###  Set\n",
    "16.0 Defina una variable tipo set llamada  D con los primeros 10 numeros de Bernulli, consultalos en la red. Notese que pasa en este variables cuando alguno de los elementos se repite\n",
    "\n",
    "17.0 Defina una variable tipo set llamada E con los números naturales del 1 al 20.\n",
    "\n",
    "18.0 Calcule la unión  y almacenela en una variable U.\n",
    "\n",
    "19.0 Calcule la intersección y almacenela en una variable I\n"
   ]
  },
  {
   "cell_type": "code",
   "execution_count": null,
   "metadata": {
    "colab": {
     "base_uri": "https://localhost:8080/",
     "height": 552
    },
    "executionInfo": {
     "elapsed": 234,
     "status": "ok",
     "timestamp": 1691071596102,
     "user": {
      "displayName": "LUZ COSMOS OSORNO GOMEZ",
      "userId": "08606577214404876378"
     },
     "user_tz": 300
    },
    "id": "YJiDfeEr2cSc",
    "outputId": "97ceb351-d579-41f9-8e7d-3f3d6331aeb2"
   },
   "outputs": [
    {
     "name": "stdout",
     "output_type": "stream",
     "text": [
      "{-0.5, 1, 0.16666666666666666, 0, 0.023809523809523808, 0.07575757575757576, -0.03333333333333333}\n",
      "{1, 2, 3, 4, 5, 6, 7, 8, 9, 10, 11, 12, 13, 14, 15, 16, 17, 18, 19, 20}\n",
      "{-0.5, 1, 0.16666666666666666, 0, 0.023809523809523808, 2, 3, 4, 5, 6, 7, 8, 9, 10, 11, 12, 13, 14, 15, 16, 17, 18, 19, 20, 0.07575757575757576, -0.03333333333333333}\n",
      "{1}\n"
     ]
    },
    {
     "data": {
      "text/html": [
       "<style>\n",
       "  table { text-align: left; border-collapse: collapse; margin: 1em; caption-side: bottom; font-family: Sans-Serif; font-size: 12px}\n",
       "  caption { text-align: left; padding: 5px }\n",
       "  th, td { border: 2px solid #BFC9CA; padding: 5px }\n",
       "  th { background-color: #BFC9CA }\n",
       "  .passed { background-color: #76D7C4 }\n",
       "  .failed { background-color: #EC7063 }\n",
       "  .skipped { background-color: #EDBB99 }\n",
       "  .score { background-color: #7DCEA0 }\n",
       "  .results .points { display: none }\n",
       "  .results .message { display: block; font-size:smaller; color:#D35400 }\n",
       "  .results .note { display: block; font-size:smaller; font-decoration:italics }\n",
       "  .results .passed::before  { content: \"Passed\" } \n",
       "  .results .skipped::before  { content: \"Skipped\" } \n",
       "  .results .failed::before  { content: \"Failed\" } \n",
       "  .grade .passed  .message:empty::before { content:\"Passed\" }\n",
       "  .grade .failed  .message:empty::before { content:\"Failed\" }\n",
       "  .grade .skipped .message:empty::before { content:\"Skipped\" }   \n",
       "</style>\n",
       "<table class='results'>\n",
       "  <th class='test'>Test</th><th class='result'>Result</th></tr>\n",
       "<tr>\n",
       "  <td class='test'>\n",
       "    Definir una variable D tipo set\n",
       "    <div class='message'>Done</div>\n",
       "  </td>\n",
       "  <td class='result passed'></td>\n",
       "</tr>\n",
       "<tr>\n",
       "  <td class='test'>\n",
       "    Definir una variable E tipo set\n",
       "    <div class='message'>Done</div>\n",
       "  </td>\n",
       "  <td class='result passed'></td>\n",
       "</tr>\n",
       "<tr>\n",
       "  <td class='test'>\n",
       "    Definir una variable U tipo set\n",
       "    <div class='message'>Done</div>\n",
       "  </td>\n",
       "  <td class='result passed'></td>\n",
       "</tr>\n",
       "<tr>\n",
       "  <td class='test'>\n",
       "    Definir una variable I tipo set\n",
       "    <div class='message'>Done</div>\n",
       "  </td>\n",
       "  <td class='result passed'></td>\n",
       "</tr>\n",
       "<tr>\n",
       "  <td class='test'>\n",
       "    La longitud de la tupla debe ser 5 \n",
       "    <div class='message'>Done</div>\n",
       "  </td>\n",
       "  <td class='result passed'></td>\n",
       "</tr>\n",
       "<tr>\n",
       "  <td class='test'>\n",
       "    10 primeros números de Bernulli\n",
       "    <div class='message'>Done</div>\n",
       "  </td>\n",
       "  <td class='result passed'></td>\n",
       "</tr>\n",
       "<tr>\n",
       "  <td class='test'>\n",
       "    20 primeros numeros naturales \n",
       "    <div class='message'>Error: Items in the second set but not the first:\n",
       "20 : #-The expect value is {1, 2, 3, 4, 5, 6, 7, 8, 9, 10, 11, 12, 13, 14, 15, 16, 17, 18, 19} and the functions test is {1, 2, 3, 4, 5, 6, 7, 8, 9, 10, 11, 12, 13, 14, 15, 16, 17, 18, 19, 20}\n",
       "</div>\n",
       "  </td>\n",
       "  <td class='result failed'></td>\n",
       "</tr>\n",
       "<tr>\n",
       "  <td class='test'>\n",
       "    union \n",
       "    <div class='message'>Need resolve the before assignement </div>\n",
       "  </td>\n",
       "  <td class='result skipped'></td>\n",
       "</tr>\n",
       "<tr>\n",
       "  <td class='test'>\n",
       "    Calcule la interseccion \n",
       "    <div class='message'>Done</div>\n",
       "  </td>\n",
       "  <td class='result passed'></td>\n",
       "</tr>  <tr><th class='score'>Total Points</th><th class='score'>5</th></tr></table>\n"
      ],
      "text/plain": [
       "<IPython.core.display.HTML object>"
      ]
     },
     "metadata": {},
     "output_type": "display_data"
    }
   ],
   "source": [
    " D = {1,-0.5,1/6,0,-1/30,0,1/42,0,-1/30,0, 5/66}\n",
    " E ={1,2,3,4,5,6,7,8,9,10,11,12,13,14,15,16,17,18,19,20}\n",
    " U = D | E\n",
    " I = D&E\n",
    " print(D)\n",
    " print(E)\n",
    " print(U)\n",
    " print(I)\n",
    "\n",
    " %run -i autogradesMetodosComputacionales/example/libs/Lab_autotesting01/test06.py"
   ]
  },
  {
   "cell_type": "markdown",
   "metadata": {
    "id": "HWfazmVWTq1T"
   },
   "source": [
    "\n",
    "\n",
    "\n",
    "\n",
    "\n",
    "\n",
    "\n",
    "\n",
    "\n",
    "\n",
    "\n",
    "\n",
    "\n",
    "\n",
    "###  Diccionarios\n",
    "20.0 Construi un diccionario con 5 elementos cuya clave es el nombre del autor y valor el nombre del libro. Almacenarlo en una variable dicc.\n",
    "\n",
    "\n",
    "\n"
   ]
  },
  {
   "cell_type": "code",
   "execution_count": null,
   "metadata": {
    "colab": {
     "base_uri": "https://localhost:8080/",
     "height": 175
    },
    "executionInfo": {
     "elapsed": 222,
     "status": "ok",
     "timestamp": 1691079473886,
     "user": {
      "displayName": "LUZ COSMOS OSORNO GOMEZ",
      "userId": "08606577214404876378"
     },
     "user_tz": 300
    },
    "id": "yfHkEyXV6DjL",
    "outputId": "825c5465-4185-433d-9573-099211e604ca"
   },
   "outputs": [
    {
     "data": {
      "text/html": [
       "<style>\n",
       "  table { text-align: left; border-collapse: collapse; margin: 1em; caption-side: bottom; font-family: Sans-Serif; font-size: 12px}\n",
       "  caption { text-align: left; padding: 5px }\n",
       "  th, td { border: 2px solid #BFC9CA; padding: 5px }\n",
       "  th { background-color: #BFC9CA }\n",
       "  .passed { background-color: #76D7C4 }\n",
       "  .failed { background-color: #EC7063 }\n",
       "  .skipped { background-color: #EDBB99 }\n",
       "  .score { background-color: #7DCEA0 }\n",
       "  .results .points { display: none }\n",
       "  .results .message { display: block; font-size:smaller; color:#D35400 }\n",
       "  .results .note { display: block; font-size:smaller; font-decoration:italics }\n",
       "  .results .passed::before  { content: \"Passed\" } \n",
       "  .results .skipped::before  { content: \"Skipped\" } \n",
       "  .results .failed::before  { content: \"Failed\" } \n",
       "  .grade .passed  .message:empty::before { content:\"Passed\" }\n",
       "  .grade .failed  .message:empty::before { content:\"Failed\" }\n",
       "  .grade .skipped .message:empty::before { content:\"Skipped\" }   \n",
       "</style>\n",
       "<table class='results'>\n",
       "  <th class='test'>Test</th><th class='result'>Result</th></tr>\n",
       "<tr>\n",
       "  <td class='test'>\n",
       "    Definir una variable dicc tipo diccionario\n",
       "    <div class='message'>Done</div>\n",
       "  </td>\n",
       "  <td class='result passed'></td>\n",
       "</tr>\n",
       "<tr>\n",
       "  <td class='test'>\n",
       "    la longitud del diccionario debe ser 5 \n",
       "    <div class='message'>Done</div>\n",
       "  </td>\n",
       "  <td class='result passed'></td>\n",
       "</tr>  <tr><th class='score'>Total Points</th><th class='score'>2</th></tr></table>\n"
      ],
      "text/plain": [
       "<IPython.core.display.HTML object>"
      ]
     },
     "metadata": {},
     "output_type": "display_data"
    }
   ],
   "source": [
    " dicc = {\"Julilo Verne\": \"De la Tierra a la Luna\", \"Arthur Conan Doyle\":\"Estudio en escarlata\", \"J. K. Rowling\":\"Harry Potter\",\"C. S. Lewis\":\"Las Crónicas de Narnia\", \"John Ronald Reuel Tolkien\":\"El señor de los anillos\"}\n",
    "\n",
    " %run -i autogradesMetodosComputacionales/example/libs/Lab_autotesting01/test07.py"
   ]
  },
  {
   "cell_type": "markdown",
   "metadata": {
    "id": "7g0xWN387wOo"
   },
   "source": [
    "\n",
    "####  Ciclos y condicionales\n",
    "\n",
    "21.0  Cálculo de $\\pi$. Empleando la siguiente seria :\n",
    "\n",
    "\\begin{equation}\n",
    "\\frac{\\pi}{4} = 1 -\\frac{1}{3}+-\\frac{1}{5}-\\frac{1}{7}+\\frac{1}{9}-...\n",
    "\\end{equation}\n",
    "\n",
    "Construya una función llamada pi_number en el que entrado el valor de k,(número de términos de la serie ) calcule el valor de pi. Si k es negativo deberá retornar un error como una variable tipo string.\n",
    "\n",
    "Ejemplo de ecución:\n",
    "```python\n",
    "pi_number(10)\n",
    "```"
   ]
  },
  {
   "cell_type": "code",
   "execution_count": null,
   "metadata": {
    "colab": {
     "base_uri": "https://localhost:8080/",
     "height": 193
    },
    "executionInfo": {
     "elapsed": 204,
     "status": "ok",
     "timestamp": 1691084605502,
     "user": {
      "displayName": "LUZ COSMOS OSORNO GOMEZ",
      "userId": "08606577214404876378"
     },
     "user_tz": 300
    },
    "id": "OEACMhp6BS2k",
    "outputId": "23986599-394c-452a-83b7-bfa40c8309a6"
   },
   "outputs": [
    {
     "name": "stdout",
     "output_type": "stream",
     "text": [
      "3.1414926535900345\n"
     ]
    },
    {
     "data": {
      "text/html": [
       "<style>\n",
       "  table { text-align: left; border-collapse: collapse; margin: 1em; caption-side: bottom; font-family: Sans-Serif; font-size: 12px}\n",
       "  caption { text-align: left; padding: 5px }\n",
       "  th, td { border: 2px solid #BFC9CA; padding: 5px }\n",
       "  th { background-color: #BFC9CA }\n",
       "  .passed { background-color: #76D7C4 }\n",
       "  .failed { background-color: #EC7063 }\n",
       "  .skipped { background-color: #EDBB99 }\n",
       "  .score { background-color: #7DCEA0 }\n",
       "  .results .points { display: none }\n",
       "  .results .message { display: block; font-size:smaller; color:#D35400 }\n",
       "  .results .note { display: block; font-size:smaller; font-decoration:italics }\n",
       "  .results .passed::before  { content: \"Passed\" } \n",
       "  .results .skipped::before  { content: \"Skipped\" } \n",
       "  .results .failed::before  { content: \"Failed\" } \n",
       "  .grade .passed  .message:empty::before { content:\"Passed\" }\n",
       "  .grade .failed  .message:empty::before { content:\"Failed\" }\n",
       "  .grade .skipped .message:empty::before { content:\"Skipped\" }   \n",
       "</style>\n",
       "<table class='results'>\n",
       "  <th class='test'>Test</th><th class='result'>Result</th></tr>\n",
       "<tr>\n",
       "  <td class='test'>\n",
       "    Crear una funcion que calcule el numero pi\n",
       "    <div class='message'>Done</div>\n",
       "  </td>\n",
       "  <td class='result passed'></td>\n",
       "</tr>\n",
       "<tr>\n",
       "  <td class='test'>\n",
       "    Prueba para valores negativos \n",
       "    <div class='message'>Done</div>\n",
       "  </td>\n",
       "  <td class='result passed'></td>\n",
       "</tr>  <tr><th class='score'>Total Points</th><th class='score'>2</th></tr></table>\n"
      ],
      "text/plain": [
       "<IPython.core.display.HTML object>"
      ]
     },
     "metadata": {},
     "output_type": "display_data"
    }
   ],
   "source": [
    "\n",
    " def pi_number(k):\n",
    "  if (k >= 0) :\n",
    "    x = 0\n",
    "    for n in range(k):\n",
    "      d = (n*2)+ 1\n",
    "      modulo = n%2\n",
    "      if (modulo == 0):\n",
    "        x = x + (1/d)\n",
    "      else:\n",
    "        x = x - (1/d)\n",
    "    pi = 4*x\n",
    "    return pi\n",
    "  else:\n",
    "    return \"Error el valor enviado como parámetro debe ser positivo\"\n",
    "\n",
    " n = pi_number(10000)\n",
    " print(n)\n",
    " %run -i autogradesMetodosComputacionales/example/libs/Lab_autotesting01/test08.py"
   ]
  }
 ],
 "metadata": {
  "colab": {
   "provenance": [
    {
     "file_id": "https://github.com/hernansalinas/autogrades/blob/main/Laboratorios_Taller/Lab01_python_basico01.ipynb",
     "timestamp": 1690915189518
    }
   ]
  },
  "kernelspec": {
   "display_name": "Python 3 (ipykernel)",
   "language": "python",
   "name": "python3"
  },
  "language_info": {
   "codemirror_mode": {
    "name": "ipython",
    "version": 3
   },
   "file_extension": ".py",
   "mimetype": "text/x-python",
   "name": "python",
   "nbconvert_exporter": "python",
   "pygments_lexer": "ipython3",
   "version": "3.10.9"
  }
 },
 "nbformat": 4,
 "nbformat_minor": 1
}
