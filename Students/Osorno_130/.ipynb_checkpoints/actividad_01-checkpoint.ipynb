{
 "cells": [
  {
   "cell_type": "code",
   "execution_count": 7,
   "metadata": {
    "executionInfo": {
     "elapsed": 283,
     "status": "ok",
     "timestamp": 1691693286042,
     "user": {
      "displayName": "LUZ COSMOS OSORNO GOMEZ",
      "userId": "08606577214404876378"
     },
     "user_tz": 300
    },
    "id": "V1_UVXD-bKgn"
   },
   "outputs": [],
   "source": [
    "def doble_factorial(n):\n",
    "  esInt = isinstance(n, int)\n",
    "  if esInt == False:\n",
    "    print (\"La variable ingresada como parámetro debe ser un entero\")\n",
    "    return 0\n",
    "  if n < 0:\n",
    "    print (\"Solo se pueden ingresar enteros números positivos\")\n",
    "    return 0\n",
    "  factorial = 1\n",
    "  i = n\n",
    "  while i > 0:\n",
    "    factorial = factorial*i\n",
    "    i = i-2\n",
    "  return factorial\n",
    "\n",
    "def dob_fac_recursiva(n, rec=False):\n",
    "  esInt = isinstance(n, int)\n",
    "  if esInt == False:\n",
    "    print (\"La variable ingresada como parámetro debe ser un entero\")\n",
    "    return 0\n",
    "  if n < 0:\n",
    "    if rec==False:\n",
    "      print (\"Solo se pueden ingresar enteros números positivos\")\n",
    "    return 0\n",
    "  factorial = 1\n",
    "  aux = n*dob_fac_recursiva(n-2,True)\n",
    "  if aux != 0:\n",
    "    factorial = aux\n",
    "  return factorial"
   ]
  },
  {
   "cell_type": "code",
   "execution_count": 8,
   "metadata": {
    "colab": {
     "base_uri": "https://localhost:8080/"
    },
    "executionInfo": {
     "elapsed": 283,
     "status": "ok",
     "timestamp": 1691693287733,
     "user": {
      "displayName": "LUZ COSMOS OSORNO GOMEZ",
      "userId": "08606577214404876378"
     },
     "user_tz": 300
    },
    "id": "9zX05IQjcKSA",
    "outputId": "5acc73ea-39aa-4950-f59c-85d71a553770"
   },
   "outputs": [
    {
     "name": "stdout",
     "output_type": "stream",
     "text": [
      "1  -  1\n"
     ]
    }
   ],
   "source": [
    "a = doble_factorial(1)\n",
    "b = dob_fac_recursiva(1)\n",
    "print(a,\" - \", b)"
   ]
  },
  {
   "cell_type": "code",
   "execution_count": 9,
   "metadata": {
    "executionInfo": {
     "elapsed": 321,
     "status": "ok",
     "timestamp": 1691690420938,
     "user": {
      "displayName": "LUZ COSMOS OSORNO GOMEZ",
      "userId": "08606577214404876378"
     },
     "user_tz": 300
    },
    "id": "dw2b8Y_Sert7"
   },
   "outputs": [],
   "source": [
    "def lucas(n):\n",
    "  esInt = isinstance(n, int)\n",
    "  if esInt == False:\n",
    "    print (\"La variable ingresada como parámetro debe ser un entero\")\n",
    "    return 0\n",
    "  if n < 0:\n",
    "    print (\"Solo se pueden ingresar enteros números positivos\")\n",
    "    return 0\n",
    "  if n == 0:\n",
    "    return 2\n",
    "  inicial = 2\n",
    "  lucas = 1\n",
    "  for i in range(1,n):\n",
    "    aux = lucas\n",
    "    lucas = inicial + lucas\n",
    "    inicial = aux\n",
    "  return lucas\n",
    "\n",
    "def lucas_rec(n,rec=False):\n",
    "  esInt = isinstance(n, int)\n",
    "  if esInt == False:\n",
    "    print (\"La variable ingresada como parámetro debe ser un entero\")\n",
    "    return 0\n",
    "  if n < 0:\n",
    "    if rec==False:\n",
    "      print (\"Solo se pueden ingresar enteros números positivos\")\n",
    "    return 0\n",
    "  if n == 0:\n",
    "    return 2\n",
    "  inicial = 2\n",
    "  lucas = 1\n",
    "  for i in range(1,n):\n",
    "    aux = lucas\n",
    "    lucas = inicial + lucas\n",
    "    inicial = aux\n",
    "  return lucas"
   ]
  },
  {
   "cell_type": "code",
   "execution_count": null,
   "metadata": {
    "id": "SxGt5wuyvFJM"
   },
   "outputs": [],
   "source": []
  },
  {
   "cell_type": "code",
   "execution_count": 10,
   "metadata": {
    "colab": {
     "base_uri": "https://localhost:8080/"
    },
    "executionInfo": {
     "elapsed": 287,
     "status": "ok",
     "timestamp": 1691692983777,
     "user": {
      "displayName": "LUZ COSMOS OSORNO GOMEZ",
      "userId": "08606577214404876378"
     },
     "user_tz": 300
    },
    "id": "0N_EsZ_pf4Bj",
    "outputId": "048d511c-6e13-4be3-a652-d06dcdf373e3"
   },
   "outputs": [
    {
     "data": {
      "text/plain": [
       "1"
      ]
     },
     "execution_count": 10,
     "metadata": {},
     "output_type": "execute_result"
    }
   ],
   "source": [
    "lucas(1)"
   ]
  },
  {
   "cell_type": "code",
   "execution_count": 11,
   "metadata": {
    "executionInfo": {
     "elapsed": 263,
     "status": "ok",
     "timestamp": 1691693396486,
     "user": {
      "displayName": "LUZ COSMOS OSORNO GOMEZ",
      "userId": "08606577214404876378"
     },
     "user_tz": 300
    },
    "id": "XNQ3A7aMAyzc"
   },
   "outputs": [],
   "source": [
    "def factorial(n,rec=False):\n",
    "  esInt = isinstance(n, int)\n",
    "  if esInt == False:\n",
    "    print (\"La variable ingresada como parámetro debe ser un entero\")\n",
    "    return 0\n",
    "  if n < 0:\n",
    "    if rec==False:\n",
    "      print (\"Solo se pueden ingresar números positivos\")\n",
    "    return 0\n",
    "  factorial = 1\n",
    "  aux = n*(factorial(n-1,True))\n",
    "  if aux != 0:\n",
    "    factorial = aux\n",
    "  return factorial\n",
    "\n",
    "def binomial (n, k):\n",
    "  n_esInt = isinstance(n, int)\n",
    "  k_esInt = isinstance(k, int)\n",
    "  if (n_esInt and k_esInt) == False:\n",
    "    print (\"Las variables ingresadas como parámetro debe enteros, n >= 0, k > 0\")\n",
    "    return -1\n",
    "  if n < 0:\n",
    "    print (\"Solo se pueden ingresar números positivos para el valor de n, n >= 0, k > 0\")\n",
    "    return -1\n",
    "  if k <= 0:\n",
    "    print (\"Solo se pueden ingresar números positivos para el valor de k, k > 0\")\n",
    "    return -1\n",
    "  if k > n:\n",
    "    return 0\n",
    "  coeficiente = (factorial(n))/((factorial(k))*factorial(n-k))\n",
    "  return coeficiente\n"
   ]
  },
  {
   "cell_type": "code",
   "execution_count": 12,
   "metadata": {
    "colab": {
     "base_uri": "https://localhost:8080/",
     "height": 321
    },
    "executionInfo": {
     "elapsed": 275,
     "status": "error",
     "timestamp": 1691693381476,
     "user": {
      "displayName": "LUZ COSMOS OSORNO GOMEZ",
      "userId": "08606577214404876378"
     },
     "user_tz": 300
    },
    "id": "O-8Y3-RgIgEQ",
    "outputId": "70ccc060-925b-4d49-a1a3-07f07e9ea4aa"
   },
   "outputs": [
    {
     "ename": "TypeError",
     "evalue": "'int' object is not callable",
     "output_type": "error",
     "traceback": [
      "\u001b[0;31m---------------------------------------------------------------------------\u001b[0m",
      "\u001b[0;31mTypeError\u001b[0m                                 Traceback (most recent call last)",
      "Cell \u001b[0;32mIn[12], line 1\u001b[0m\n\u001b[0;32m----> 1\u001b[0m \u001b[43mbinomial\u001b[49m\u001b[43m(\u001b[49m\u001b[38;5;241;43m5\u001b[39;49m\u001b[43m,\u001b[49m\u001b[38;5;241;43m3\u001b[39;49m\u001b[43m)\u001b[49m\n",
      "Cell \u001b[0;32mIn[11], line 30\u001b[0m, in \u001b[0;36mbinomial\u001b[0;34m(n, k)\u001b[0m\n\u001b[1;32m     28\u001b[0m \u001b[38;5;28;01mif\u001b[39;00m k \u001b[38;5;241m>\u001b[39m n:\n\u001b[1;32m     29\u001b[0m   \u001b[38;5;28;01mreturn\u001b[39;00m \u001b[38;5;241m0\u001b[39m\n\u001b[0;32m---> 30\u001b[0m coeficiente \u001b[38;5;241m=\u001b[39m (\u001b[43mfactorial\u001b[49m\u001b[43m(\u001b[49m\u001b[43mn\u001b[49m\u001b[43m)\u001b[49m)\u001b[38;5;241m/\u001b[39m((factorial(k))\u001b[38;5;241m*\u001b[39mfactorial(n\u001b[38;5;241m-\u001b[39mk))\n\u001b[1;32m     31\u001b[0m \u001b[38;5;28;01mreturn\u001b[39;00m coeficiente\n",
      "Cell \u001b[0;32mIn[11], line 11\u001b[0m, in \u001b[0;36mfactorial\u001b[0;34m(n, rec)\u001b[0m\n\u001b[1;32m      9\u001b[0m   \u001b[38;5;28;01mreturn\u001b[39;00m \u001b[38;5;241m0\u001b[39m\n\u001b[1;32m     10\u001b[0m factorial \u001b[38;5;241m=\u001b[39m \u001b[38;5;241m1\u001b[39m\n\u001b[0;32m---> 11\u001b[0m aux \u001b[38;5;241m=\u001b[39m n\u001b[38;5;241m*\u001b[39m(\u001b[43mfactorial\u001b[49m\u001b[43m(\u001b[49m\u001b[43mn\u001b[49m\u001b[38;5;241;43m-\u001b[39;49m\u001b[38;5;241;43m1\u001b[39;49m\u001b[43m,\u001b[49m\u001b[38;5;28;43;01mTrue\u001b[39;49;00m\u001b[43m)\u001b[49m)\n\u001b[1;32m     12\u001b[0m \u001b[38;5;28;01mif\u001b[39;00m aux \u001b[38;5;241m!=\u001b[39m \u001b[38;5;241m0\u001b[39m:\n\u001b[1;32m     13\u001b[0m   factorial \u001b[38;5;241m=\u001b[39m aux\n",
      "\u001b[0;31mTypeError\u001b[0m: 'int' object is not callable"
     ]
    }
   ],
   "source": [
    "binomial(5,3)"
   ]
  },
  {
   "cell_type": "code",
   "execution_count": null,
   "metadata": {},
   "outputs": [],
   "source": []
  }
 ],
 "metadata": {
  "colab": {
   "authorship_tag": "ABX9TyOvOjUAfd+7RATRhEqBhvYY",
   "provenance": []
  },
  "kernelspec": {
   "display_name": "Python 3 (ipykernel)",
   "language": "python",
   "name": "python3"
  },
  "language_info": {
   "codemirror_mode": {
    "name": "ipython",
    "version": 3
   },
   "file_extension": ".py",
   "mimetype": "text/x-python",
   "name": "python",
   "nbconvert_exporter": "python",
   "pygments_lexer": "ipython3",
   "version": "3.10.9"
  }
 },
 "nbformat": 4,
 "nbformat_minor": 1
}
