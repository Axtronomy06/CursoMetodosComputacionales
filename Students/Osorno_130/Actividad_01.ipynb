{
  "nbformat": 4,
  "nbformat_minor": 0,
  "metadata": {
    "colab": {
      "provenance": []
    },
    "kernelspec": {
      "name": "python3",
      "display_name": "Python 3"
    },
    "language_info": {
      "name": "python"
    }
  },
  "cells": [
    {
      "cell_type": "code",
      "execution_count": 3,
      "metadata": {
        "id": "V1_UVXD-bKgn"
      },
      "outputs": [],
      "source": [
        "def doble_factorial(n):\n",
        "  esInt = isinstance(n, int)\n",
        "  if esInt == False:\n",
        "    print (\"La variable ingresada como parámetro debe ser un entero\")\n",
        "    return 0\n",
        "  if n < 0:\n",
        "    print (\"Solo se pueden ingresar enteros números positivos\")\n",
        "    return 0\n",
        "  factorial = 1\n",
        "  i = n\n",
        "  while i > 0:\n",
        "    factorial = factorial*i\n",
        "    i = i-2\n",
        "  return factorial\n",
        "\n",
        "def dob_fac_recursiva(n, rec=False):\n",
        "  esInt = isinstance(n, int)\n",
        "  if esInt == False:\n",
        "    print (\"La variable ingresada como parámetro debe ser un entero\")\n",
        "    return 0\n",
        "  if n < 0:\n",
        "    if rec==False:\n",
        "      print (\"Solo se pueden ingresar enteros números positivos\")\n",
        "    return 0\n",
        "  factorial = 1\n",
        "  aux = n*dob_fac_recursiva(n-2,True)\n",
        "  if aux != 0:\n",
        "    factorial = aux\n",
        "  return factorial"
      ]
    },
    {
      "cell_type": "code",
      "source": [
        "a = doble_factorial(1)\n",
        "b = dob_fac_recursiva(1)\n",
        "print(a,\" - \", b)"
      ],
      "metadata": {
        "colab": {
          "base_uri": "https://localhost:8080/"
        },
        "id": "9zX05IQjcKSA",
        "outputId": "7c31b098-0292-4632-e186-30f698044bd2"
      },
      "execution_count": 4,
      "outputs": [
        {
          "output_type": "stream",
          "name": "stdout",
          "text": [
            "1  -  1\n"
          ]
        }
      ]
    },
    {
      "cell_type": "code",
      "source": [
        "def lucas(n):\n",
        "  esInt = isinstance(n, int)\n",
        "  if esInt == False:\n",
        "    print (\"La variable ingresada como parámetro debe ser un entero\")\n",
        "    return 0\n",
        "  if n < 0:\n",
        "    print (\"Solo se pueden ingresar enteros números positivos\")\n",
        "    return 0\n",
        "  if n == 0:\n",
        "    return 2\n",
        "  inicial = 2\n",
        "  lucas = 1\n",
        "  for i in range(1,n):\n",
        "    aux = lucas\n",
        "    lucas = inicial + lucas\n",
        "    inicial = aux\n",
        "  return lucas\n",
        "\n",
        "def lucas_rec(n,rec=False):\n",
        "  esInt = isinstance(n, int)\n",
        "  if esInt == False:\n",
        "    print (\"La variable ingresada como parámetro debe ser un entero\")\n",
        "    return 0\n",
        "  if n < 0:\n",
        "    if rec==False:\n",
        "      print (\"Solo se pueden ingresar enteros números positivos\")\n",
        "    return 0\n",
        "  if n == 0:\n",
        "    return 2\n",
        "  inicial = 2\n",
        "  lucas = 1\n",
        "  for i in range(1,n):\n",
        "    aux = lucas\n",
        "    lucas = inicial + lucas\n",
        "    inicial = aux\n",
        "  return lucas"
      ],
      "metadata": {
        "id": "dw2b8Y_Sert7"
      },
      "execution_count": 5,
      "outputs": []
    },
    {
      "cell_type": "code",
      "source": [
        "lucas(1)"
      ],
      "metadata": {
        "colab": {
          "base_uri": "https://localhost:8080/"
        },
        "id": "0N_EsZ_pf4Bj",
        "outputId": "f32322e7-45cd-40a3-8d0d-b3d691b3ed08"
      },
      "execution_count": 6,
      "outputs": [
        {
          "output_type": "execute_result",
          "data": {
            "text/plain": [
              "1"
            ]
          },
          "metadata": {},
          "execution_count": 6
        }
      ]
    },
    {
      "cell_type": "code",
      "source": [
        "def factorial(n,rec=False):\n",
        "  esInt = isinstance(n, int)\n",
        "  if esInt == False:\n",
        "    print (\"La variable ingresada como parámetro debe ser un entero\")\n",
        "    return 0\n",
        "  if n < 0:\n",
        "    if rec==False:\n",
        "      print (\"Solo se pueden ingresar números positivos\")\n",
        "    return 0\n",
        "  fac = 1\n",
        "  aux = n*(factorial(n-1,True))\n",
        "  if aux != 0:\n",
        "    fac = aux\n",
        "  return fac\n",
        "\n",
        "def binomial (n, k):\n",
        "  n_esInt = isinstance(n, int)\n",
        "  k_esInt = isinstance(k, int)\n",
        "  if (n_esInt and k_esInt) == False:\n",
        "    print (\"Las variables ingresadas como parámetro debe enteros, n >= 0, k > 0\")\n",
        "    return -1\n",
        "  if n < 0:\n",
        "    print (\"Solo se pueden ingresar números positivos para el valor de n, n >= 0, k > 0\")\n",
        "    return -1\n",
        "  if k <= 0:\n",
        "    print (\"Solo se pueden ingresar números positivos para el valor de k, k > 0\")\n",
        "    return -1\n",
        "  if k > n:\n",
        "    return 0\n",
        "  coeficiente = (factorial(n))/((factorial(k))*factorial(n-k))\n",
        "  return coeficiente\n"
      ],
      "metadata": {
        "id": "XNQ3A7aMAyzc"
      },
      "execution_count": 10,
      "outputs": []
    },
    {
      "cell_type": "code",
      "source": [
        "binomial(5,3)"
      ],
      "metadata": {
        "colab": {
          "base_uri": "https://localhost:8080/"
        },
        "id": "O-8Y3-RgIgEQ",
        "outputId": "3c2970d5-96a5-4823-f855-012301f941f8"
      },
      "execution_count": 11,
      "outputs": [
        {
          "output_type": "execute_result",
          "data": {
            "text/plain": [
              "10.0"
            ]
          },
          "metadata": {},
          "execution_count": 11
        }
      ]
    }
  ]
}