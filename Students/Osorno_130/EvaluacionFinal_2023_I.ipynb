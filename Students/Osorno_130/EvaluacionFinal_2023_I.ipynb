{
  "cells": [
    {
      "cell_type": "markdown",
      "metadata": {
        "id": "6jnsZ2eUKKSc"
      },
      "source": [
        "<a href=\"https://colab.research.google.com/github/hernansalinas/autogrades/blob/main/Evaluaciones/EvaluacionFinal_2023_I.ipynb\" target=\"_parent\"><img src=\"https://colab.research.google.com/assets/colab-badge.svg\" alt=\"Open In Colab\"/></a>"
      ]
    },
    {
      "cell_type": "markdown",
      "metadata": {
        "id": "ZJKDD4sdpzP7"
      },
      "source": [
        "Examen Final:\n",
        "\n",
        "Métodos Computacionales para físicos\n",
        "\n",
        "\n",
        "\n",
        "Nota: La entrega del examen es a través del github en la página del curso, en el directorio asociado a cada uno.\n",
        "\n",
        "\n",
        "\n",
        "\n",
        "Las aletas son sólidos que transfieren calor por conducción a lo largo de su geometría y por convección a través de su entorno. La ecuación diferencial que describe la temperatura como función de  la longitud de una  aleta viene dada por :\n",
        "\n",
        "\n",
        "\\begin{equation}\n",
        "\\frac{d^2(T-T_{\\infty})}{dx^2} - \\left( \\frac{hp}{kAc} \\right ) ^2 (T-T_{\\infty})=0\n",
        "\\end{equation}\n",
        "\n",
        "donde Ac es el  área de la sección transversal Ac, p es perímetro,\n",
        "k es el coficiente de conducción que depende de cada material y h el coficiente de convección. La temperatura  $T_{\\infty}$ es la temperatura ambiente.\n",
        "\n",
        "\n",
        "![aleta](https://github.com/hernansalinas/autogradesMetodosComputacionales/blob/main/Evaluaciones/img/aleta.png?raw=true)\n",
        "\n",
        "\n",
        "\n",
        "En general, el área de la sección transversal A y el perímetro p de una aleta\n",
        "varían con x, lo cual hace que esta ecuación diferencial sea difícil de resolver. En el caso especial de una sección transversal constante y conductividad térmica constante, la ecuación diferencial se reduce a\n",
        "\n",
        "\\begin{equation}\n",
        "\\frac{d^2 \\theta}{dx^2} - a ^2 \\theta=0\n",
        "\\end{equation}\n",
        "\n",
        "\n",
        "donde  $\\theta=T-T_{\\infty}$ y $a=\\frac{hp}{kAc}$\n",
        "\n",
        "\n",
        "Para una aleta suficientemente larga de sección transversal uniforme (Ac =\n",
        "constante), la temperatura en la base de la aleta viene dada por:\n",
        "\n",
        "\n",
        "\\begin{equation}\n",
        "\\theta(0)=\\theta_b=T_b-T_{\\infty}\n",
        "\\end{equation}\n",
        "\n",
        "\n",
        " y en la punta de la aleta, tenderá a la del medio, por consiguiente $\\theta$ tenderá a cero.\n",
        "\n",
        "\\begin{equation}\n",
        "\\theta(L)=T(L)-T_{\\infty}=0\n",
        "\\end{equation}\n",
        "\n",
        "La solucion  exacta viene dada por :\n",
        "\n",
        "\\begin{equation}\n",
        "T(x)=T_{\\infty}+(T_b-T_{\\infty})e^{-x\\sqrt{hp/kAc}}\n",
        "\\end{equation}\n",
        "\n",
        "\n",
        "\n",
        "Considerando  una aleta rectangular muy larga, fijada a una\n",
        "superficie plana de tal forma que la temperatura en el extremo\n",
        "de la aleta es prácticamente la del aire circundante, es decir,\n",
        "$T_{\\infty}=300K$. Asuma que el ancho es de 5.0 cm, el espesor de 1 mm, es decir, su area $A=5\\times 10^{-5}m^2$ y su perimetro de $p=0.102m$. La  conductividad térmica es $k=200 W/m K$, la temperatura en la base de $T_b=313K$ y el coeficiente de transferencia de calor es de $h=20 W/m^2K$. Calcule:\n",
        "\n",
        "\n",
        "\n",
        "1 (30%) La solución numérica de la ecuación diferencial.\n",
        "\n",
        "2 (20%) Construya un gráfico de  la temperatura de la aleta como función de la longitud de la aleta\n",
        "\n",
        "3 (25%) Compare la solución numérica con la analítica\n",
        "\n",
        "4 (25%) Empleando el método de newton detetermine el punto de la aleta para la cual la temperatura es de 305K\n",
        "\n",
        "\n",
        "\n",
        "\n",
        "\n",
        "Referencias: Ejercicio e imagenes tomado y adaptado de:\n",
        "\n",
        "Cengel, Y. A. (2016). “Transferencia de calor y masa” McGRAW-HILL/INTERAMERICANA EDITORES, S.A. DE C.V. 3ra. Edición\n",
        "\n"
      ]
    },
    {
      "cell_type": "markdown",
      "source": [
        "\\begin{equation}\n",
        "\\frac{d^2 \\theta}{dx^2} - a ^2 \\theta=0\n",
        "\\end{equation}\n",
        "\\begin{equation}\n",
        "\\frac{d \\theta}{dx} = \\omega\n",
        "\\end{equation}\n",
        "\n",
        "\\begin{equation}\n",
        "\\frac{d \\omega}{dx} = a^2 \\theta\n",
        "\\end{equation}\n",
        "\n",
        "por lo que los valores iniciales $\\theta_0, \\omega_0$, son 13 y 0 respectivamente $\\theta_i = (\\theta_0, \\omega_0) = (13, 10^{-12})$\n",
        "\n",
        "\n",
        "#Ecuación diferencial de primer orden\n",
        "\n",
        "\\begin{equation}\n",
        "\\frac{d \\theta}{d x} = f(x, \\theta)\n",
        "\\end{equation}\n",
        "\n",
        "\\begin{equation}\n",
        "\\frac{\\theta(x+\\Delta x) - \\theta(t)}{\\Delta x} = f(x, \\theta)\n",
        "\\end{equation}\n",
        "\n",
        "\\begin{equation}\n",
        "\\theta(x+\\Delta x)= \\theta(x) +\\Delta x f(x, \\theta)\n",
        "\\end{equation}\n",
        "\n",
        "\n",
        "\\begin{equation}\n",
        "\\theta_{i+1}= \\theta_i +\\Delta x f(x, \\theta_i)\n",
        "\\end{equation}\n"
      ],
      "metadata": {
        "id": "ytGpCi-3at7e"
      }
    },
    {
      "cell_type": "code",
      "source": [
        "import numpy as np\n",
        "import scipy as sc\n",
        "import sympy as sp\n",
        "import matplotlib.pyplot as plt\n"
      ],
      "metadata": {
        "id": "d87E-1PMOX68"
      },
      "execution_count": 13,
      "outputs": []
    },
    {
      "cell_type": "code",
      "execution_count": 58,
      "metadata": {
        "id": "AkOvTEXo1X8i"
      },
      "outputs": [],
      "source": [
        "#Parametros iniciales\n",
        "T8 = 300      #en grados kelvin\n",
        "Tb = 313      #temperatura base en grados kelvin\n",
        "L = 0.05      #Ancho o Longitud en m\n",
        "esp = 0.001    #esperos en m\n",
        "p = 0.102     #perímetro en m\n",
        "k = 200       #conductividad en W/mK\n",
        "h = 20        #coeficiente de transferencia de calor en W/(m²K)\n",
        "Ac = L*esp     #Area en m^2\n",
        "\n",
        "params = (T8,Tb,Ac,p,k,h)\n",
        "theta_0 = 13\n",
        "omega_0 = -13*np.sqrt((h*p)/(k*Ac))"
      ]
    },
    {
      "cell_type": "code",
      "source": [
        "def funcion (x, theta_0, omega_0,params):\n",
        "  cond_ini = np.array([theta_0,omega_0])\n",
        "  h = x[1]-x[0]\n",
        "  N = len(x)\n",
        "  theta = np.zeros(N)\n",
        "  omega = np.zeros(N)\n",
        "  theta[0] = cond_ini[0]\n",
        "  omega[0] = cond_ini[1]\n",
        "  for i in range(0, N-1):\n",
        "    euler_so = funcion_euler_segundo_orden(x[i], cond_ini, params)\n",
        "    theta[i+1] = theta[i] + h*euler_so[0]\n",
        "    omega[i+1] = omega[i] + h*euler_so[1]\n",
        "    cond_ini = np.array([theta[i+1],omega[i+1]])\n",
        "  return theta, omega\n",
        "\n",
        "def funcion_euler_segundo_orden(x,cond_ini,params):\n",
        "    T8 = params[0]\n",
        "    Tb = params[1]\n",
        "    Ac = params[2]\n",
        "    p = params[3]\n",
        "    k = params[4]\n",
        "    h = params[5]\n",
        "    dthetadt = cond_ini[1]\n",
        "    domegadt = (((h*p)/(k*Ac))**2)*cond_ini[0]\n",
        "    return dthetadt, domegadt\n",
        "\n"
      ],
      "metadata": {
        "id": "depbgwaybtXM"
      },
      "execution_count": 45,
      "outputs": []
    },
    {
      "cell_type": "code",
      "source": [
        "def Temperatura(x,params):\n",
        "  T8 = params[0]\n",
        "  Tb = params[1]\n",
        "  Ac = params[2]\n",
        "  p = params[3]\n",
        "  k = params[4]\n",
        "  h = params[5]\n",
        "  T = T8 + (Tb-T8)*np.exp(-1*x*np.sqrt((h*p)/(k*Ac)))\n",
        "  return T"
      ],
      "metadata": {
        "id": "SWtXRHUXNkvG"
      },
      "execution_count": 54,
      "outputs": []
    },
    {
      "cell_type": "code",
      "source": [
        "x = np.linspace(0,L,100)\n",
        "T = Temperatura(x,params)\n",
        "theta_, omega_ = funcion(x, theta_0, omega_0,params)\n",
        "T_= theta_+T8\n"
      ],
      "metadata": {
        "id": "IX8_QpUqjICm"
      },
      "execution_count": 59,
      "outputs": []
    },
    {
      "cell_type": "code",
      "source": [
        "\n",
        "plt.plot(x,T, label=\"Teórica\")\n",
        "plt.plot(x,T_, label = \"Numérica\")\n",
        "plt.xlabel(\"Longitudb [m]\")\n",
        "plt.ylabel(\"Temperatura [K]\")\n",
        "plt.title(\"Temperatura VS Longitud\")\n",
        "plt.grid(linestyle = \"--\")\n",
        "plt.legend()"
      ],
      "metadata": {
        "colab": {
          "base_uri": "https://localhost:8080/",
          "height": 490
        },
        "id": "9PRps2puQaoI",
        "outputId": "a1757396-5969-43ae-d88b-77acc6c05a57"
      },
      "execution_count": 57,
      "outputs": [
        {
          "output_type": "execute_result",
          "data": {
            "text/plain": [
              "<matplotlib.legend.Legend at 0x7ab15116e500>"
            ]
          },
          "metadata": {},
          "execution_count": 57
        },
        {
          "output_type": "display_data",
          "data": {
            "text/plain": [
              "<Figure size 640x480 with 1 Axes>"
            ],
            "image/png": "[encoded data removed]"
          },
          "metadata": {}
        }
      ]
    },
    {
      "cell_type": "markdown",
      "source": [
        "Empleando el método de newton detetermine el punto de la aleta para la cual la temperatura es de 305K"
      ],
      "metadata": {
        "id": "SNhGJBQ4k5k0"
      }
    },
    {
      "cell_type": "code",
      "source": [
        "from scipy import optimize as op\n",
        "\n",
        "def Temperatura2(x,params):\n",
        "  T8 = params[0]\n",
        "  Tb = params[1]\n",
        "  Ac = params[2]\n",
        "  p = params[3]\n",
        "  k = params[4]\n",
        "  h = params[5]\n",
        "  T = T8 + (Tb-T8)*np.exp(-1*x*np.sqrt((h*p)/(k*Ac)))-305\n",
        "  return T\n",
        "\n",
        "opx = op.newton(Temperatura2,Tb,args=params tol = E-12)\n",
        "print(opx)"
      ],
      "metadata": {
        "colab": {
          "base_uri": "https://localhost:8080/",
          "height": 145
        },
        "id": "NNTWwTe9kyaU",
        "outputId": "7db8203f-5b63-4cac-ec26-4987b07e1c66"
      },
      "execution_count": 61,
      "outputs": [
        {
          "output_type": "error",
          "ename": "SyntaxError",
          "evalue": "ignored",
          "traceback": [
            "\u001b[0;36m  File \u001b[0;32m\"<ipython-input-61-3d06170e8fa3>\"\u001b[0;36m, line \u001b[0;32m13\u001b[0m\n\u001b[0;31m    opx = op.newton(Temperatura2,Tb,args=params tol = E-12)\u001b[0m\n\u001b[0m                                         ^\u001b[0m\n\u001b[0;31mSyntaxError\u001b[0m\u001b[0;31m:\u001b[0m invalid syntax. Perhaps you forgot a comma?\n"
          ]
        }
      ]
    }
  ],
  "metadata": {
    "colab": {
      "provenance": []
    },
    "kernelspec": {
      "display_name": "Python 3 (ipykernel)",
      "language": "python",
      "name": "python3"
    },
    "language_info": {
      "codemirror_mode": {
        "name": "ipython",
        "version": 3
      },
      "file_extension": ".py",
      "mimetype": "text/x-python",
      "name": "python",
      "nbconvert_exporter": "python",
      "pygments_lexer": "ipython3",
      "version": "3.10.9"
    }
  },
  "nbformat": 4,
  "nbformat_minor": 0
}