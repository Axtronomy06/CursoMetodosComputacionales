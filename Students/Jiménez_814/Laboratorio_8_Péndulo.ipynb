{
  "nbformat": 4,
  "nbformat_minor": 0,
  "metadata": {
    "colab": {
      "provenance": [],
      "authorship_tag": "ABX9TyNzJ4u5ZVe6Ut4TQ90LjbTU",
      "include_colab_link": true
    },
    "kernelspec": {
      "name": "python3",
      "display_name": "Python 3"
    },
    "language_info": {
      "name": "python"
    }
  },
  "cells": [
    {
      "cell_type": "markdown",
      "metadata": {
        "id": "view-in-github",
        "colab_type": "text"
      },
      "source": [
        "<a href=\"https://colab.research.google.com/github/Elizajr/CursoMetodosComputacionales/blob/main/Laboratorio_8_P%C3%A9ndulo.ipynb\" target=\"_parent\"><img src=\"https://colab.research.google.com/assets/colab-badge.svg\" alt=\"Open In Colab\"/></a>"
      ]
    },
    {
      "cell_type": "markdown",
      "source": [
        "# Péndulo Físico\n",
        "$$ ϴ <<1;rad \\\\\n",
        "ω^2 = \\frac{mgd}{I_0}\\\\\n",
        "I_0 = \\frac{1}{12}md^2\\\\\n",
        "P_0=2\\pi \\sqrt{\\frac {I_0}{mgd}}\\\\\n",
        "P=P_0 \\int_0 ^ {\\pi /2} P(ϕ) d\\phi\\\\\n",
        "P(\\phi)=\\frac 1 {\\sqrt{1-k^2\\sin^2\\phi}}\\\\\n",
        "k= \\sin \\frac {\\theta_0} 2$$"
      ],
      "metadata": {
        "id": "rmgFJLi_dTKj"
      }
    },
    {
      "cell_type": "code",
      "source": [
        "import numpy as np\n",
        "import scipy as sc\n",
        "import pylab as plt\n",
        "import sympy as sy\n",
        "from IPython.display import display, Latex"
      ],
      "metadata": {
        "id": "asTeQlCegFTE"
      },
      "execution_count": null,
      "outputs": []
    },
    {
      "cell_type": "code",
      "source": [
        "#@title Datos iniciales\n",
        "#==================================================================\n",
        "m = 0.1 #kg\n",
        "d = 0.5 # m\n",
        "g = 9.8 #m/s²\n",
        "tetha0 = np.pi/4 #rad\n",
        "I0 = (1/12)*m*d**2 #kg*m²\n",
        "p0 = 2*np.pi*np.sqrt(I0/(m*g*d)) #s\n",
        "k = np.sin(tetha0/2)\n",
        "omega = np.sqrt(m*g*d/I0)\n",
        "U = lambda tetha: m*g*b*(1-np.cos(tetha)) # Energía potencial\n",
        "E = lambda tetha: I0*omega**2/2+m*g*b*(1-np.cos(tetha))\n",
        "# Esta es nuestra función a integrar\n",
        "Pf = lambda x: 1/(np.sqrt(1-k**2*(np.sin(x))**2))\n"
      ],
      "metadata": {
        "id": "rVnweUiSdS4R"
      },
      "execution_count": null,
      "outputs": []
    },
    {
      "cell_type": "code",
      "execution_count": null,
      "metadata": {
        "id": "hXOXC7-QcnZC"
      },
      "outputs": [],
      "source": [
        "# @title Integremos\n",
        "phip = np.linspace (0,np.pi/2,1000)\n",
        "Parray = Pf(phip)\n",
        "trapecio = sc.integrate.trapz(Parray,phip)\n",
        "quad = sc.integrate.quad(Pf,0,np.pi/2)\n"
      ]
    },
    {
      "cell_type": "code",
      "source": [
        "def Pq(x):\n",
        "  return 2*p0/np.pi * quad[0]\n",
        "\n",
        "def Pt(x):\n",
        "  return 2*p0/np.pi * trapecio\n"
      ],
      "metadata": {
        "id": "s9n33-_tjnnW"
      },
      "execution_count": null,
      "outputs": []
    },
    {
      "cell_type": "code",
      "source": [
        "print(\"Diferencia métodos: \",Pt(tetha0)-Pq(tetha0))\n",
        "print(\"Trapecio: \", Pt(tetha0))\n",
        "print(\"Quad: \", Pq(tetha0))"
      ],
      "metadata": {
        "colab": {
          "base_uri": "https://localhost:8080/"
        },
        "id": "ahl4ospckllw",
        "outputId": "e4df9c4c-caac-4692-80d1-c9859d47d26d"
      },
      "execution_count": null,
      "outputs": [
        {
          "output_type": "stream",
          "name": "stdout",
          "text": [
            "Diferencia métodos:  5.551115123125783e-17\n",
            "Trapecio:  0.4260724143935225\n",
            "Quad:  0.42607241439352245\n"
          ]
        }
      ]
    },
    {
      "cell_type": "code",
      "source": [
        "# @title Ahora a generalizar\n",
        "def kv(x):\n",
        "  return np.sin(x/2)\n",
        "\n",
        "def Pfv(phi,theta0):\n",
        "  return 1/(np.sqrt(1-(kv(theta0))**2*(np.sin(phi))**2))\n",
        "\n",
        "phip = np.linspace (0,np.pi/2,100)\n",
        "Parray = Pfv(phip,tetha0)\n",
        "trapecio = sc.integrate.trapz(Parray,phip)\n",
        "quad = sc.integrate.quad(Pfv,0,np.pi/2,args=tetha0)\n",
        "quad"
      ],
      "metadata": {
        "colab": {
          "base_uri": "https://localhost:8080/"
        },
        "id": "bLvxFDVilRHk",
        "outputId": "2888271a-b7f4-4f54-c998-0b17310b7589"
      },
      "execution_count": null,
      "outputs": [
        {
          "output_type": "execute_result",
          "data": {
            "text/plain": [
              "(1.6335863074581476, 1.8136451312524256e-14)"
            ]
          },
          "metadata": {},
          "execution_count": 64
        }
      ]
    },
    {
      "cell_type": "code",
      "source": [
        "n = 1000\n",
        "tetha = np.linspace(0,np.pi/3,n)\n",
        "phi = np.linspace (0,np.pi/2,n)\n",
        "Kt = kv(tetha)\n",
        "Intgrupo = []\n",
        "\n",
        "for i in tetha:\n",
        "  Intgrupo.append(Pfv(phip,i))\n",
        "\n",
        "Intgrupo = np.array(Intgrupo)\n",
        "\n",
        "trap = np.zeros(len(tetha))\n",
        "quad = []\n",
        "\n",
        "for m in range(len(tetha)):\n",
        "  trap[m] = sc.integrate.trapz(Intgrupo[m],phip)\n",
        "  quad.append(sc.integrate.quad(Pfv,0,np.pi/2,args=tetha[m])[0])\n",
        "\n",
        "quad = np.array(quad)\n"
      ],
      "metadata": {
        "id": "gqLDw2MZmMVR"
      },
      "execution_count": null,
      "outputs": []
    },
    {
      "cell_type": "code",
      "source": [
        "def P(integral):\n",
        "  return (2*p0/np.pi)*integral"
      ],
      "metadata": {
        "id": "mU4iZBPVp982"
      },
      "execution_count": null,
      "outputs": []
    },
    {
      "cell_type": "code",
      "source": [
        "Ptgrup = P(trap)\n",
        "Pqgrup = P(quad)"
      ],
      "metadata": {
        "id": "zAqKmZB0qauS"
      },
      "execution_count": null,
      "outputs": []
    },
    {
      "cell_type": "code",
      "source": [
        "plt.figure()\n",
        "#plt.plot(tetha,Ptgrup,c=\"m\", alpha=0.5)\n",
        "plt.plot(tetha,Pqgrup, c = \"lime\", alpha=0.4)\n",
        "plt.xlabel(\"$θ~(rad)$\")\n",
        "plt.ylabel(\"P$(s)$\")\n",
        "plt.title(\"Periodo con theta variable\")\n",
        "plt.grid()\n",
        "plt.show()"
      ],
      "metadata": {
        "colab": {
          "base_uri": "https://localhost:8080/",
          "height": 474
        },
        "id": "uHw8oWTGq479",
        "outputId": "e952c282-c42d-48e0-f76c-a80d349cee32"
      },
      "execution_count": null,
      "outputs": [
        {
          "output_type": "display_data",
          "data": {
            "text/plain": [
              "<Figure size 640x480 with 1 Axes>"
            ],
            "image/png": "[encoded data removed]"
          },
          "metadata": {}
        }
      ]
    },
    {
      "cell_type": "code",
      "source": [
        "#Falta más"
      ],
      "metadata": {
        "id": "GwazHJEDvVHt"
      },
      "execution_count": null,
      "outputs": []
    },
    {
      "cell_type": "markdown",
      "source": [
        "# Método de Simpsons compuesto\n"
      ],
      "metadata": {
        "id": "fH__Q3hf4qTw"
      }
    },
    {
      "cell_type": "markdown",
      "source": [
        "El profesor quiere que usemos $\\int^{+∞}_{0}\\cos (xe^x)$\n",
        "\n",
        "![image.png](data:image/png;base64,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)"
      ],
      "metadata": {
        "id": "j9uRI56v45jx"
      }
    },
    {
      "cell_type": "code",
      "source": [
        "f = lambda x: x**2\n",
        "a = 0\n",
        "b = 5\n",
        "n = 10\n",
        "rango = np.linspace(0,5,n)"
      ],
      "metadata": {
        "id": "EkqDYOev4oZ7"
      },
      "execution_count": null,
      "outputs": []
    },
    {
      "cell_type": "code",
      "source": [
        "((b-a)/6)*(f(a)+4*f((a+b)/2)+f(b))"
      ],
      "metadata": {
        "colab": {
          "base_uri": "https://localhost:8080/"
        },
        "id": "hteR2d1I6Msj",
        "outputId": "f7507ea5-5e6e-46ef-afb1-190db9e4f0b9"
      },
      "execution_count": null,
      "outputs": [
        {
          "output_type": "execute_result",
          "data": {
            "text/plain": [
              "41.66666666666667"
            ]
          },
          "metadata": {},
          "execution_count": 71
        }
      ]
    },
    {
      "cell_type": "code",
      "source": [
        "def simpsons(f,a,b):\n",
        "  res = ((b-a)/6)*(f(a)+4*f((a+b)/2)+f(b))\n",
        "  h = (b-a)/2\n",
        "  _y = sy.Symbol(\"y\")\n",
        "  der = lambda x:-1*sy.lambdify(_y,sy.diff(f(_y),_y,4),\"numpy\")(x)\n",
        "  max = sc.optimize.fmin(der,a)[0]\n",
        "  error = -h**5/90*f(max)\n",
        "  return np.array([res,error])"
      ],
      "metadata": {
        "id": "B4LXcete60DD"
      },
      "execution_count": null,
      "outputs": []
    },
    {
      "cell_type": "markdown",
      "source": [
        "$h=\\frac{b-a}n$\n",
        "\n",
        "![image.png](data:image/png;base64,iVBORw0KGgoAAAANSUhEUgAAAicAAABGCAYAAAAXZzQLAAAccElEQVR4Ae3dO84sS1IH8OY6IzxAGg8DfAwwEQYPCwcGZgPDYI4zcBcwDyw8QMJEAizwgBUAKwBMxgE2AIgNgH7cjlFM3syqzOrHV90nQqqTVfmM/McjI7Oqv3O5FBUChUAhUAgUAoVAIVAInAqBb14ul+91rlMxWcwUAoVAIVAIFAIvjMCvdtZZa6/8og4C/3C5XP63c/1Yp25lFQKFQCFQCBQChcA6At/vrLPWXvlFHQQEJ8ARjOSrU7WyNhD4nWtU/CuXy+WPL5fLz2/UraLXRYBcyfe3LpfL710uF3Ivej8EfqKRM5nLKyoEbkEgr7GfXYOVCk4GiEZwMiiu7AkEOC1ByX9fHZh7x3VF74eAYOQvUlDCforeDwFyFoD+7XVqZM6uiwqBeyEgUKmTkw00KzjZAGehyI6aA0Oxs74+VvJmCPzzdT5Z5m82xZrOdYMhQEEh8+tjJYXAzQhUcLIDYQUnOwBNFucjfo7MwuU6QnZo372+NjjSvto8DoGfSbtpp2MWr6OvdujHNy6Xyz89jt3q+QYE+EanohGERqCy2mW8InIK4zrqF1bHrfrnRqCCkx35VHCyA9BkseDEwoUsWkcXLO0FJ05h6tXQF3ie6V8LSyxS0lu+RdAXvXG0W3Q+BMgWRXBxNKjIrwHZdAWjV2A/8aSCkx0FqOBkB6APKubEKjj5IPCfOKxAtIKTJwL+AUNlWy55f4AATjpkBSc7gqngZAegDyrODu2DWKhhn4BALVZPAPlEQ7BrPreoEKjgZEcHKjjZAWin+Ocul8vnG9cvpfbxqx4LUnv9QqrnlhOrn5g1oHzg41c2ZEz+/phhJn9YqZVxPNODIHl1chJonCP9+o6sv5rY9Kon5Nqm8Zo3qnvmb7P8o6zSTw+BCk52ZF7ByQ5AO8W/eLlc/nTj+o3UnnOyaI2uVLWCkwzGCe5/fEPG5P+dhseRjOXnxamCkwa4Ezx+a0fWP514FJyMZJ2DEzL37Yk056eu6vYTQ6CCkx2BV3CyA9AHFdfJyQcB/+RhKzh5MuAfMFwOTAwfH9p+ACs15IkQqOBkRxgVnOwA9AHFApO/v37V7yfFRe+JgF90/fn1tQ45C1SK3g8BwYhXd3HxuUWFQAUnOzpQwckOQAvFfloa10KzblWK6yo6HwKO5clZcJFf0ZyP0+LoVgRCzkd/Rhzjhz2XTQcildIFAWt9WzjQhQpOBsAsZluw4u8XxB9hW+yiqr8IAv6QFnk74aoj+hcR2gE2/Q0alwDUf01RVAjcE4GXC04YAoP4m6vz+9kOGgIKEde/d8pWsyo4WUVsXD92V+RSH72NcXr1EnJmpwITtlr0ngiwYRd585NFhcA9EXip4ITD861BvHt23PNf16/BW1AYy1+2mQeeKzg5ANqgCUdmward9ACgN8p2asJ22GzR+yLAF5NzbDzed6Y1s2cj8FLBiZ+kORGJ3dhPXp//sUEtJtX+bYWm2tRjBSdTMC1VcuzvXXXReyPgmxOyLnpvBASg8T+Ov/dMa3bPRCDW8Zf45sTOW7AQC5s/zCVY+bsGsQhieq98mqq7jxWc7EI0VUFAGQuVkxM766L3Q8BCFa9T7arj/v1mWjNiz7FR5Ifr9KR04p4IvFRw0k5cRCVib41CPqf429cF0cmK+yNUwckR1L7cRmDpjyx9rY77vwzOm+WEnOuE7M0E20zHyZhNxrevtt0U12MhcBMCLxmceF3j7x8IQOL7k4yCgEIk//vXn5sKTDyb7CpVcLKKWNUvBAqBTwmB+q7oU5L28+b6ksEJpr3SsUPz89RsHDGh/NqggpPnKdRopAgMpaNL21FZzh+NUfkfj0CW0+h+Vs7aF50XgVa+OG3zZp/PO8vi7KMQoDsOFV7im5MWpGA+/n6G8t73Jn9yw7vvOjlpUV9/pmBx+RsnMB1dXtNF3VHqF1tF50OATENmTjVHMpavPOpupff4bux8SL02R17nZJltyZm957qje6fcRYVARiDW95cITnxb4v1mpnCI8b/WxvcmJhbEER79+ar+XwKcmOwJU8FhOCV/n4Zs8oXlkFdO3ftFlld3nFd2dCHvE073k2UpNgZk7Sf+P9WRcyvrkLd8MvXK1olo6EvZ3vnUiU3+S5LR707IOWZB3gJOp9l8cgSp0qwLUb/STxcB+sAPvIQPiEAkf2cSCxaDQerkv2/C4ZmglPNc/TC2gpMrsDcmISeyuGWXRIYcWZbxjaxV8zsiwJFEYHHLCZcFzK/wBDlF50OAP41TTjK65YQrdGbVN58PleLongi8VHAi0rbIxTcmTlI4wlioYjL575v49oQRIb8eiLbXrN3k3sGJn0Gv8rDFJAzaXytt1f+oMs4rnFkEi0d5EYgKUCIgPdpP285x9ZkpfrZ5Zh7xFpsIcr5118O2sz3fY+73tsF78JT7ODt/watNRgSi+dV6lK+kAhN6c0/iF/NG9p5936OvV/Ddj9BF699MIBrr+ZQPwajL7tVF8M8WPkYpsV2ZBcpzLPaELXjxs9Ug9/IcFR9ZxFeDE7wIiHqBUPz0Lni7R0qAdph2Ms8k46JIr4+biUUmnBmZ3BJc0L+vb4725UIYecX0R18uOqwfna4elvX5jadOtzC2Iud7BqLsaco5pcllG8y+QBU2ePQVbxriobf09N4L9QzDZLwiZ33yPWHTbOsWIudVn8Cn9H6yTgdgKD0rwfojfHfGY89WVm0v9711r9+9TQd8pjc4YdgaWFwsws8OTkw4DCjSLRBuLVsNTtS3w3XUmQUbgdOt/PTae7dPHs8yRE6IQxDwCRD3lCzzbCcczszPwZ9FnB6Z0GHjZ70lr1sd6zPmQd/pV+b9kePaiERgL7Woz+qYnVHI+d8W2t1jPhw+30Te0qDYqMTzmVOnEs8KovgmeuVyumnj1wZ1I6zYFR8Qsp7ZEY/6Ws2PwATf9DPTM+0kj7t6/2zf3fLHVmK9am2FXB9FM75MHXqV19FNfsLprCxImx2evJCSz4JjxwNMqYU7G7h+Hmm4Fv1ZPjPkFusV4jTzz7ct6ubsJGOGPsqZwYYMfu0qm+DVYmsRm110o91Hpfg3j1Wii4KNWVJfUBGnjU5DyHllwQzd0E4w+wwKPsMGg39js8lX8Vscs8XBfFZp9fUffQr9lxqXjc+eYrB9Mnaxpdl2q/Nq6wtI2DWdzH6Mnz1iI23/z3p+lu9u5xO2Qn7tm4Vn2IoPqbe+S1sOTsLhHDGaFpxXeKbks4u+er1ok6OM714eNeejY+CZEswSR8AJxe6ds/c8i5Fx8Jqd2TN0iSPrnY4Itp61cM5ivFePjuVFd6++cg5oRUbkS0aBTTiKFadvocu/6nhGYGCOPVsLRzyD1VnqsDWLxAqR04qMIrDIQScMyX5lMxVttNtacFbmslU35In/ltj6Cu9t+2c/84e9dWOPD5iv+O62vzPYClsd+bLwOficIoIH5AwoIni7LwrrCH+0CK1G+lOM3qnSDy6Xy19N9BVOIZx5bgJcx2cjopxZQBaG2MmM2rT5IUh9rdCqguMrAhPjRLC6Ou49P6bbm29gY3fV6q3/2gAvI+L84gTMjjDPfdTm0flHdlqrwYk5ZD2EATvuBXhb86XXHJC2dtWrerLVd6+M/VmcWzmT8daizTdl3vLce+M8I883VbO+Nvgx7615Rr1IyZV88pG+uZPX9KJw7cy42h1pG/zMpoIP47SnNJ7lj9aa1obVC/ueHfve9cI/Zf2bGWPVd7d93mIrt65XwQseRv43cJkK0EPwnOMeWQh0SvgGsWtiaIwgKxSBjJjbG+MZ5f96uVz+emcgcwrDNEf3+ZhRYNIzdAt9lBGSAA5mdjGrX7+HU1rF8hYF58QsOHnXtQPVjxQHZo90ZnAVUBtDaswwLJhxzL3dlzrawkc7ATTZyDs63x+Z/A0PeDKPFToSnET/9JQ+wmE1aNZHnK6RwapeBw97KXsLfQobzAsu2Y0CK2UwvdUG93hcLfc9wtZC2+sv/ECvbDaPfhu3ZxdbffD1EYhqv7rYbvUdZeySnMnYWO7JLQjPxoZDS/Qw/Ctdjnt98WUfRSGzZ/nuR9iKQ4gjxO62Nu7/M+tvI1qdOZ4dOQLMhFI5/rNzPeLwjgBxpA0l/rOJhhG49Y4TzdG8W+IEYqH0PQCjEsUzNhhl0v8eTgy1N07up71Xv2fIbb322ZyM5zq68zCn7MxWnWHL0+g5Fsd2np5HTpgMAm9y4sAQfrMzlDfaZUf7L1rO/7vXzncn+GnnszXC0eAkAm/jrXyz0vLCAcHaNfINbZvV55Bnzz+NbJD+hw3GiYHUBgyvWRb0/Kiu9+YS4/bK5MV8VuxCGzZ5lMzXhsPCfYRijYCdBStvRI/0N2oT/qctt8D35t/qf+ihfPd5MwmDPdm0424962tPb/D8LN+N19CtFVtht4FLz1a2MBiVmXNPXlH/P2dxwRxBjo7MokPpljAoLKWYNbpfv1wu37nj9a3M6M79bHASSt5iQwk49p4SZGdPSLHgwC6UAHscBeOxe996BUY+W6dagXlOndbk57jPTnkLIs7gluP6UHJ6pZ/Zcbd4astycJHLzNW4rQOFP76C6EDgSi7Bo3pkoy4Dy/LUVt9RN/qS9vLkk7H+2uAnt3UffNOtHuEr5BgpvenJenZ3q575+IjtCJkz/daHqxfEH+k3twlcenMaOf+8KNFlwSdcWxukQ+RLPnDMRF49uxzJmQ4J+lwwybae+40FxLx6pP+Qb06dTuXnuO/10eaZS+h6Wzb7DKOQs/tHENx6i/losWOjIQ8+Gn9wkZdtPfyslN1HG3OQN7LNXC/P1/xDb3p/wiDqPtt3mzsMjtoKnEe2EnOaSW20+P2RL5sOTgjrPzY6aplhsPf45uQ3L5fLH97x+rxldON5NjjJwsrdAd1Hgb3gJNfjPHtOgfLkyLI1mNwHBbejGBGFpAz5Yjz5Oe455xmKRSvzONMu1+H4GcrW3HL91fsRtoIS444MwzhRpye/OFVQL9/v8ddzqtqEo9zDMhzLiG/ON+QYqYW3J+uecxrxHx+3tsHcqH6bbxGGt+sRwYk5juQJ0xHuwaeFp3fEzBb0i38LmfsZ+yCnnozwEoEsHzl61aWtsfTTI/oS8s0pO8rPcd/rI+exw3sEE/jCA97v0V/m0X3YZE+HyHjPftgy3kayYctIP3F/zeom+unVC10JuzbmiJ7tux9lK6P5jfLp5kgW2kwFJ6EQvQW0N7Aok2JylIRHIUS7hJidG+cIqLMSI5t5rcOpjYxCfs8xUloU2OYFMHZT2mXF11c4tmvzHybKKPkK6b9npKM+4JGdqbaUSxR9lOiA9jHno/2M2um7p2PBe8/5h2zimDqepbEw5Xu6HnKS/91Ur+Ur6rX5njm0kR5FfQYdu5bI20vNsaeDo3YWKjuaLBN8kXUPr1E/OR8uNitZz3P5rfd80wg7+b354wnRhVZPQs7KY3fN9vixIH5uZI9w6tmWgCT3Z9webelnr748bUYYjNrIN4/s2/G+padbfSnjh47wsdevcrzRw/aUWhndGo0bsm71hJyjLO49GyPkxA7a/9ct8zrCKuwHviO+9KPs0b4789tikMvwsmcrsMk+NeapH/oNRxc/GBjmMeLeONaUEU0FJ+GkZx3LCGjMMEYAvMI3JzMfxHIITpR6AgW6wKUtIzjOX35gG7tYxhf1pXGvr5HihFPKdUcCz/nqaztD6lHK7EzDUYyOO/f6NWfOPua+V3+1PB/h9tqaizlkstiYp3xGrE5gBK9cnxMTmOSfT3JU+hjtGkeODA8MmYy3CA97ddr2eF7RDfLMzll/5ASLcOTtGHvP+hz5hb22M+UwGfVPjm2ZebBBgVjYYMiWPrb145QjHLEFxz2cekSWoTe9cnl0xPg9etYHseaBD/zGFa8Ae3zt5VkjnLLlTehem5VyepxtMrclP/Jocad7ZI20zbJVluvDQBBN3oivdh8YXbN/mGi7ZdPKbOj00yPtR369Vz/y4JD5jvyZVECQMchttmzFXLZsRTnfB2t6xcbgPSJz2Drt3/wglqACXEKntDliGg06EoT6lJYShSMY9XGG/JmfElMQ2BBaj+DVHhfDh9BE45SesrgnWIoaCwDhuYJGSowH/a1iuqrgFJox0wsLP6OzaAW/wedMSg+0nw14Z/ps64QhjYyYXFp95og4pwgwzO+Xrw5qtJDAJL5FgA2ZMk5kAWNDcQlk4l6qfpB7Mt4izmPEx6gdvch6NKoX+RZnfMAgnDMdPyorPLseRWGDI/7kt7iG42R3ytignV7IvafTZKmeMrIKezUveVmu9CE/x2IXGMQ48dymcULW5m89w6Gd51Z9siXX3nVkw0DP+KFHBSbmwtZafxpzDD1oT1W08c0Hu9HW/44edtrzmWTJ7smIzD2blxTRpyzb1qaj3rX6/wc3fF2brxzPz/DdwUtgtGIreb2C5chWYBrBrvECtxi7TfU18kvB59BvYIrwGIrU4IR1NsIn3o4Y1NZcGPoIvGgHF8Y9MsgQbNSPFL8WRgJ0UZY2wGEAeSHCj3YtmTcFJ9AVWg1O9G2+2lmA8T+a9xYf5stY28Bgq82RMnwypBEZn4G0RBZhvOSnXqtb4bi0JRM6EJQdmTxyiYtM476Vl34ERlvEabZ6slVfWchsr14u5+BDztLW4ee6W/ef78hgq+1sGdnAf8QjGWb5RL9hg8rDBkPuUUdZPtLXTwQaOQhVP8tV3/k5+pPyoWHX6vVI+dAx9xpcx1sJTsyZb+9dgyGG2WRAN1s7GTY4UABPp9R0akTsubUP88w2rNxzqy/kqi7ST2CpfusnQrafXQOVeJYiMuYjguhNfo58ePEXq8QmY6yVto+0FXywibChHKj0eDTvkb6YG8zM82WJojJigrezp1ChYLdOSl8jcIxHwZWHEo/GU94azKhuzie43Dfj783N/Ed85v7a+9jdt/mPfsYvJX4UCQAsyFvyM7bAqg0kZnnSd8wBjuFgwiDpRy+Qx9uILFS9RTTqW0TowCq1jnK1/dH6nFScNBztY6sdjOFpnD1c6Fw4za0+2zILVshWWV5k5AteIljJbSM4yXnuycJOW7kTuQhScj2O2Xx6+pPr9e57vPTq3TOPHTnKZ3OPIBg7iZLCvw0q8ph4aAOJXD66j74Dc/Yd/UhD19r2ZNWzaXmhk23fuY9n+e5Yr9iA125bdNRW9GnOIZ8t3PyRwby2tfy8fHBi8Y4FIiYnQDmyUEf7nG4tbhwT8NXZCzwo/JYg8pjtPedF0R1L9oIJ76YpRC9oafs6wzP5UP5biLGPHGEs8DAjoz1c6MoRfSFTY3gVYAE2LpLSC2U9GuWTLVnTE3Wiv+iDsSpr86P8bCnbhH84qqP8bQUU8IA9H7Bng3Rm6xRtxB/90T+ZeB2Qg4mQc0/HyInMWqJr+I4r9xd1zbn1a1F2tlRgAtctOc3wLPAmox7BjC6RAcz3CD8RZOzVzeX6Jw++lnxCrvLIwwLf0ig40VY7/kEw2gsan+m7V21F/VUy52xjgVvrs2Z8mTovfXLi5ILgM1GgGQXObUb3BDRauGKHPGuU6uH3CIWRtG0J0DvUI4bY9vWMZ38ng/KO5jPLA/mOghN9hFHM4iJYmq07y+OoXi/AHNXN+U4IX2XBEpgImKW3EKwEsyNSThdm7YoNjux5NMbR/KP6JJjLC+PR8Z/VbstHzvLQLmptO1jSfXY94zsETPRipm471pHnIzb9bN+NRxiewVbYoEBwi14+OBFti67saGKHxlh6Ee4WEKOyexhe7tvu7p4Gw2jbqDSPd6Z7cxeYcBxHCXaOd+O49Gg/vXZHHEyvn0fl9XZejxrrln7J13czeycZe2MIJNj2rQFOOw7fcE8bbPu/9fns/OX5CepvPQXlt31/thWE5jFn7/nGowHi7Bi31HsF3/0IXWR7M7725YMTysE4ODHvPCn5zMRnlerewcnsuO9W75adNCXlwMjVovfSR33vJthmPhyPAHT2NDE3J2ftOUR2R875iDjXrfuPR8Dul5yOEFk7+bST57fJOjaXR/qrNu+HwFsEJ5TaTto7SUruNc+9dkYVnNyu9OTDATlmdZQ3urybjTK4u8iSTNurHNntcnlED2QsgAw55jSOcnOe+mTsisAzy3r2CPoRc6k+xwjEqZbXLCFP8u3JWLl6IWcbyCxj9xWEjrH+VEtePjhxNEaxBSM+prKgUXavee5BFZzcjiL5tM7olmcyKTofAo7lb5Frr+0trwDPh9B7cOTEoyerW/KOnLS9B5o1ixECLx+ceKXTKrZInaGY3K1UwcmtCH7RPmQhHV1qjspy/n04ql4egUCW0+h+Vs7aF50XgVa+OG3zZp/PO8vi7KMQoDvWcadxL0l25b1fbZjUPXZdFZy8pFoU04VAIVAIFAIvjMDLByc+qGq/8vaq515H/xWcnEO7KWpRIVAIFAKFwKeBwMsHJ741EUAIUnzl74/n+I+ERn/MZ1WsFZysIrZdX+C4+jNgr+3iozsf1hW9BgI+UCfvWYpNhV9lPfNvVMzyV/X6CPiJ+4pd8tn8NTlLX+VPIfRnX7mPQuDlg5MAxqsdi1jvFU/UOZJWcHIEte02K4GjV3P5S37yWFnwtjmp0kcisCJnfAhIoo2FS0BadH4EBBuuWYrNhvrarW5WZsepeq+NwNsEJ48SQwUn90OWI/rGoiPzh7zIIMhO61X+GFnw/CmmgosINGbn7zuxILvpLPfIr/RcCJDT6smHIDQHnuS+qivnQqG4eQQCFZzsoFrByQ5AC8XxNxEiuLCDir+N0Pv7CByW/LxIRf2FYavqkxEg3/hDaoYOOYbs4hVdpOo6IcvBiRNQf/ek6LwICEoEoewzTk5CxpGGjCM1G/XzCTe55+fzzrg4eyYCFZzsoF3ByQ5Ak8UWKJdXNCs7LU6ugpNJkE9SjXxXv0PwR/UsUhwSsljVcf8VjJMm5MymV+VUwclJBXoytio42RFIBSc7AC0Ut47MMwc3uuzGYmcWw7RHwpFf6bkQEITGt0HkOJJxLHC4zycn8nNQeq7ZFTeBQBuECiq3ZK0duTpJCSL30JXIq7QQqOBkRwcqONkBaKE4jnbDMXFInNnosqjFaUsMQx73/o/gou9K74MAuQpOyE5wSY4jGcuPhSna4EK79k8E3Ie76uWeCDg1Ieew6S05K0P+S4KoTzdWT16u3VTy5ghUcLIj4ApOdgBaKLbL8j8K+8ZghTgybb99/enhStuq+3wELFbsZuXnpbgUpDgZ+1r9lPj5Qjs4ooCSfUaAOdONgIR+kDMdWfUHM2NUnddHoIKTHRlWcLID0JOKLXiuovdGwMLltUDR+yNAzuRdVAj0EKjgpIdKyqvgJIFRt4VAIVAIFAKFwBMQqOBkB+QKTnYAquJCoBAoBAqBQuDOCFRwsgNoBSc7AFVxIVAIFAKFQCFwZwQqONkBtIKTHYCquBAoBAqBQqAQuDMCFZzsAFrByQ5AVVwIFAKFQCFQCNwZgQpOdgCt4GQHoCouBAqBQqAQKATujEAFJzuAVnCyA1AVFwKFQCFQCBQCd0aggpMdQCM4AVS+dppVcSFQCBQChUAhUAgsIJDX2M+u/6WF/1+tqIOA4MT//dBeQCwqBAqBQqAQKAQKgdsREIS066znCk4G2H7zcrn8QecaVK/sQqAQKAQKgUKgEFhEwP+91Ftr4/9kWuyuqhcChUAhUAgUAoVAIfBEBP4PVqG5viZ+/ioAAAAASUVORK5CYII=)"
      ],
      "metadata": {
        "id": "ZoQlzUCL7r3e"
      }
    },
    {
      "cell_type": "code",
      "source": [
        "simpsons(f,a,b)"
      ],
      "metadata": {
        "colab": {
          "base_uri": "https://localhost:8080/"
        },
        "id": "m358SyPe94WM",
        "outputId": "0ee43288-794c-473a-a1fa-0f5714f7f620"
      },
      "execution_count": null,
      "outputs": [
        {
          "output_type": "stream",
          "name": "stdout",
          "text": [
            "Optimization terminated successfully.\n",
            "         Current function value: 0.000000\n",
            "         Iterations: 3\n",
            "         Function evaluations: 8\n"
          ]
        },
        {
          "output_type": "execute_result",
          "data": {
            "text/plain": [
              "array([41.66666667, -0.        ])"
            ]
          },
          "metadata": {},
          "execution_count": 73
        }
      ]
    },
    {
      "cell_type": "markdown",
      "source": [
        "$$\\int^b_af(x)dx≈\\frac h 3[f(x_0)+2\\sum^{\\frac n 2-1}_{k=1}f(x_{2k})+4\\sum^{\\frac n 2}f(x_{2k-1})+f(x_n)]\\\\\n",
        "x_i=a+ih\\\\\n",
        "h=\\frac{b-a}n\\\\\n",
        "x_0 = a\\\\\n",
        "E = (b-a)\\frac{h^4}{180}\\max_{a<=\\xi<=b}|f^{(4)}(\\xi)|$$"
      ],
      "metadata": {
        "id": "NGt5IP79-i9W"
      }
    },
    {
      "cell_type": "code",
      "source": [
        "def simp3(f,a,b,n):\n",
        "  h = (b-a)/n\n",
        "  rango = np.linspace(a,b,n,endpoint=False)\n",
        "  par = f(rango[2::2])\n",
        "  impar = f(rango[1::2])\n",
        "  res = (h/3) * (f(a)+2*par.sum()+4*impar.sum()+f(b))\n",
        "  #_y = sy.Symbol(\"y\")\n",
        "  #der = lambda x:-1*sy.lambdify(_y,sy.diff(f(_y),_y,4),\"numpy\")(x)\n",
        "  #max = sc.optimize.fmin(der,a)[0]\n",
        "  #error = (b-a)*((h**4)/180)*der(max)\n",
        "  return res #np.array(res, error)\n",
        "\n"
      ],
      "metadata": {
        "id": "CoAketlJ7ywJ"
      },
      "execution_count": null,
      "outputs": []
    },
    {
      "cell_type": "code",
      "source": [
        "def simpf3(f,a,b,n):\n",
        "  h = (b-a)/n\n",
        "  rango = np.linspace(a,b,n,endpoint=False)[1::]\n",
        "  par = 0\n",
        "  impar = 0\n",
        "  c = -1\n",
        "  for i in rango:\n",
        "    c+= 1\n",
        "    if c%2 == 0:\n",
        "      par += f(i)\n",
        "    else:\n",
        "      impar += f(i)\n",
        "\n",
        "\n",
        "  res = (h/3) * (f(a)+2*par+4*impar+f(b))\n",
        "  return res"
      ],
      "metadata": {
        "id": "9m4TSKjBK5MN"
      },
      "execution_count": null,
      "outputs": []
    },
    {
      "cell_type": "code",
      "source": [
        "range(1,n+1)"
      ],
      "metadata": {
        "colab": {
          "base_uri": "https://localhost:8080/"
        },
        "id": "aRjQJ4WcAfJJ",
        "outputId": "bd43ad8e-9274-4642-87cf-a5d93c352675"
      },
      "execution_count": null,
      "outputs": [
        {
          "output_type": "execute_result",
          "data": {
            "text/plain": [
              "range(1, 11)"
            ]
          },
          "metadata": {},
          "execution_count": 76
        }
      ]
    },
    {
      "cell_type": "code",
      "source": [
        "rango[1:n-1:2]"
      ],
      "metadata": {
        "colab": {
          "base_uri": "https://localhost:8080/"
        },
        "id": "edshgkF07GiD",
        "outputId": "9547b1f3-1918-4baf-874e-1ff94b01000c"
      },
      "execution_count": null,
      "outputs": [
        {
          "output_type": "execute_result",
          "data": {
            "text/plain": [
              "array([0.55555556, 1.66666667, 2.77777778, 3.88888889])"
            ]
          },
          "metadata": {},
          "execution_count": 77
        }
      ]
    },
    {
      "cell_type": "code",
      "source": [
        "g = lambda x: np.cos(x*np.exp(x))\n",
        "simp3(g,0,5,1000)"
      ],
      "metadata": {
        "colab": {
          "base_uri": "https://localhost:8080/"
        },
        "id": "i-HHGaoFCIIq",
        "outputId": "b01f8b41-2f63-480f-b45b-5f04ea70e204"
      },
      "execution_count": null,
      "outputs": [
        {
          "output_type": "execute_result",
          "data": {
            "text/plain": [
              "0.342391026040391"
            ]
          },
          "metadata": {},
          "execution_count": 78
        }
      ]
    },
    {
      "cell_type": "code",
      "source": [
        "simpf3(g,0,5,100000)"
      ],
      "metadata": {
        "colab": {
          "base_uri": "https://localhost:8080/"
        },
        "id": "wNATHbaaMkFc",
        "outputId": "60812e8e-9f56-4b92-fab9-103937e080af"
      },
      "execution_count": null,
      "outputs": [
        {
          "output_type": "execute_result",
          "data": {
            "text/plain": [
              "0.32401565375834224"
            ]
          },
          "metadata": {},
          "execution_count": 79
        }
      ]
    },
    {
      "cell_type": "code",
      "source": [
        "# A mí si me converge más rápido la vectorial"
      ],
      "metadata": {
        "id": "sfAWaX7FNRuw"
      },
      "execution_count": null,
      "outputs": []
    },
    {
      "cell_type": "code",
      "source": [
        "grandes = np.arange(1,1e+3,100)\n",
        "for i in grandes:\n",
        "  print(simp3(g,a,i,100))\n"
      ],
      "metadata": {
        "colab": {
          "base_uri": "https://localhost:8080/"
        },
        "id": "LcjjTTcoDIXC",
        "outputId": "7c59972f-1e82-4086-848e-af3e686a5591"
      },
      "execution_count": null,
      "outputs": [
        {
          "output_type": "stream",
          "name": "stdout",
          "text": [
            "0.42650172896330385\n",
            "-1.9694614372873773\n",
            "-7.5091622429487535\n",
            "15.622917316513224\n",
            "-33.85217675856809\n",
            "-61.87134723924914\n",
            "60.21678716247833\n",
            "-17.2201252042383\n",
            "nan\n",
            "nan\n"
          ]
        },
        {
          "output_type": "stream",
          "name": "stderr",
          "text": [
            "<ipython-input-78-fb0fe47a54fc>:1: RuntimeWarning: overflow encountered in exp\n",
            "  g = lambda x: np.cos(x*np.exp(x))\n",
            "<ipython-input-78-fb0fe47a54fc>:1: RuntimeWarning: overflow encountered in multiply\n",
            "  g = lambda x: np.cos(x*np.exp(x))\n",
            "<ipython-input-78-fb0fe47a54fc>:1: RuntimeWarning: invalid value encountered in cos\n",
            "  g = lambda x: np.cos(x*np.exp(x))\n"
          ]
        }
      ]
    },
    {
      "cell_type": "code",
      "source": [
        "_x = sy.Symbol(\"x\")\n",
        "_y = sy.Symbol(\"y\")\n",
        "sy.integrate(sy.cos(_x*sy.exp(_x)),(_x,0,sy.oo))"
      ],
      "metadata": {
        "colab": {
          "base_uri": "https://localhost:8080/",
          "height": 77
        },
        "id": "wHACpvhMJpnF",
        "outputId": "0f72f0e9-3ece-4004-d293-9a06b6edca98"
      },
      "execution_count": null,
      "outputs": [
        {
          "output_type": "execute_result",
          "data": {
            "text/plain": [
              "Integral(cos(x*exp(x)), (x, 0, oo))"
            ],
            "text/latex": "$\\displaystyle \\int\\limits_{0}^{\\infty} \\cos{\\left(x e^{x} \\right)}\\, dx$"
          },
          "metadata": {},
          "execution_count": 82
        }
      ]
    },
    {
      "cell_type": "code",
      "source": [
        "infinita = lambda x: np.cos(x*np.exp(x))\n",
        "sc.integrate.quad(infinita, 0, np.inf)\n",
        "#profe, la función está muy difícil y a scipy no le gusta >:c"
      ],
      "metadata": {
        "colab": {
          "base_uri": "https://localhost:8080/"
        },
        "id": "BhyjFhede0Qg",
        "outputId": "7a7c5b21-8778-4610-f111-879fbf51b2e4"
      },
      "execution_count": null,
      "outputs": [
        {
          "output_type": "stream",
          "name": "stderr",
          "text": [
            "<ipython-input-83-3a08c74d4cff>:1: RuntimeWarning: overflow encountered in exp\n",
            "  infinita = lambda x: np.cos(x*np.exp(x))\n",
            "<ipython-input-83-3a08c74d4cff>:1: RuntimeWarning: invalid value encountered in cos\n",
            "  infinita = lambda x: np.cos(x*np.exp(x))\n",
            "<ipython-input-83-3a08c74d4cff>:2: IntegrationWarning: The maximum number of subdivisions (50) has been achieved.\n",
            "  If increasing the limit yields no improvement it is advised to analyze \n",
            "  the integrand in order to determine the difficulties.  If the position of a \n",
            "  local difficulty can be determined (singularity, discontinuity) one will \n",
            "  probably gain from splitting up the interval and calling the integrator \n",
            "  on the subranges.  Perhaps a special-purpose integrator should be used.\n",
            "  sc.integrate.quad(infinita, 0, np.inf)\n"
          ]
        },
        {
          "output_type": "execute_result",
          "data": {
            "text/plain": [
              "(nan, nan)"
            ]
          },
          "metadata": {},
          "execution_count": 83
        }
      ]
    },
    {
      "cell_type": "markdown",
      "source": [
        "![imagen_2023-10-18_112046146.png](data:image/png;base64,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)"
      ],
      "metadata": {
        "id": "eyQbB8W7ltyW"
      }
    },
    {
      "cell_type": "code",
      "source": [
        "#qawfe\n",
        "print(sc.integrate.quad(infinita, 0, np.inf, limit = 1)[0]/1000, \"Lo dividí por mil para que se parezca\")\n",
        "print(\"Da un error enorme, pero solo de magnitud\")"
      ],
      "metadata": {
        "colab": {
          "base_uri": "https://localhost:8080/"
        },
        "id": "ldwLGBdNik_0",
        "outputId": "43d2cae4-1247-4780-fced-42fc4555447c"
      },
      "execution_count": null,
      "outputs": [
        {
          "output_type": "stream",
          "name": "stdout",
          "text": [
            "0.4230850212451257 Lo dividí por mil para que se parezca\n",
            "Da un error enorme, pero solo de magnitud\n"
          ]
        },
        {
          "output_type": "stream",
          "name": "stderr",
          "text": [
            "<ipython-input-84-c4d9f0c0a187>:2: IntegrationWarning: The maximum number of subdivisions (1) has been achieved.\n",
            "  If increasing the limit yields no improvement it is advised to analyze \n",
            "  the integrand in order to determine the difficulties.  If the position of a \n",
            "  local difficulty can be determined (singularity, discontinuity) one will \n",
            "  probably gain from splitting up the interval and calling the integrator \n",
            "  on the subranges.  Perhaps a special-purpose integrator should be used.\n",
            "  print(sc.integrate.quad(infinita, 0, np.inf, limit = 1)[0]/1000, \"Lo dividí por mil para que se parezca\")\n"
          ]
        }
      ]
    },
    {
      "cell_type": "code",
      "source": [
        "sc.integrate.quad(infinita, 0, np.inf,limlst = 1)"
      ],
      "metadata": {
        "colab": {
          "base_uri": "https://localhost:8080/"
        },
        "id": "DrBT0kuzl03B",
        "outputId": "04b1e67a-7b70-42ee-cc3e-3f3908bb7dd4"
      },
      "execution_count": null,
      "outputs": [
        {
          "output_type": "stream",
          "name": "stderr",
          "text": [
            "<ipython-input-83-3a08c74d4cff>:1: RuntimeWarning: overflow encountered in exp\n",
            "  infinita = lambda x: np.cos(x*np.exp(x))\n",
            "<ipython-input-83-3a08c74d4cff>:1: RuntimeWarning: invalid value encountered in cos\n",
            "  infinita = lambda x: np.cos(x*np.exp(x))\n",
            "<ipython-input-85-3df77f50f8dc>:1: IntegrationWarning: The maximum number of subdivisions (50) has been achieved.\n",
            "  If increasing the limit yields no improvement it is advised to analyze \n",
            "  the integrand in order to determine the difficulties.  If the position of a \n",
            "  local difficulty can be determined (singularity, discontinuity) one will \n",
            "  probably gain from splitting up the interval and calling the integrator \n",
            "  on the subranges.  Perhaps a special-purpose integrator should be used.\n",
            "  sc.integrate.quad(infinita, 0, np.inf,limlst = 1)\n"
          ]
        },
        {
          "output_type": "execute_result",
          "data": {
            "text/plain": [
              "(nan, nan)"
            ]
          },
          "metadata": {},
          "execution_count": 85
        }
      ]
    },
    {
      "cell_type": "markdown",
      "source": [
        "$$\\int^\\infty_{-\\infty}\\frac{dx}{x^2+1}$$"
      ],
      "metadata": {
        "id": "fZ9R50_JReVV"
      }
    },
    {
      "cell_type": "code",
      "source": [
        "grandes = np.linspace(-100,100,1000)\n",
        "m = lambda x: 1/(x**2+1)\n",
        "Yg = m(grandes)\n",
        "Integral = np.zeros(len(grandes))\n",
        "for n,i in enumerate(grandes):\n",
        "  Integral[n]=(simp3(m,-i,i,1000))\n"
      ],
      "metadata": {
        "id": "MvnU-7QVRd_W"
      },
      "execution_count": null,
      "outputs": []
    },
    {
      "cell_type": "code",
      "source": [
        "Integral\n",
        "#Por alguna razón no funciona y los valores no se acercan"
      ],
      "metadata": {
        "colab": {
          "base_uri": "https://localhost:8080/"
        },
        "id": "aM397jcbXcRN",
        "outputId": "91fab618-806a-4bf0-ef0b-037415ed64e2"
      },
      "execution_count": null,
      "outputs": [
        {
          "output_type": "execute_result",
          "data": {
            "text/plain": [
              "array([-2.94225535, -2.93817331, -2.9339212 , -2.92948821, -2.92486259,\n",
              "       -2.92003157, -2.91498121, -2.9096963 , -2.90416018, -2.89835461,\n",
              "       -2.89225951, -2.88585282, -2.87911013, -2.87200449, -2.86450596,\n",
              "       -2.85658126, -2.84819327, -2.83930047, -2.82985625, -2.81980815,\n",
              "       -2.80909689, -2.79765527, -2.78540678, -2.77226396, -2.75812644,\n",
              "       -2.74287843, -2.72638575, -2.70849204, -2.68901415, -2.66773619,\n",
              "       -2.64440209, -2.61870607, -2.59028033, -2.55867906, -2.52335745,\n",
              "       -2.48364391, -2.43870307, -2.38748595, -2.32866278, -2.26053197,\n",
              "       -2.18089762, -2.08690735, -1.97484664, -1.83990282, -1.67596245,\n",
              "       -1.47563012, -1.23091132, -0.93535969, -0.58846913, -0.2013373 ,\n",
              "        0.2013373 ,  0.58846913,  0.93535969,  1.23091132,  1.47563012,\n",
              "        1.67596245,  1.83990282,  1.97484664,  2.08690735,  2.18089762,\n",
              "        2.26053197,  2.32866278,  2.38748595,  2.43870307,  2.48364391,\n",
              "        2.52335745,  2.55867906,  2.59028033,  2.61870607,  2.64440209,\n",
              "        2.66773619,  2.68901415,  2.70849204,  2.72638575,  2.74287843,\n",
              "        2.75812644,  2.77226396,  2.78540678,  2.79765527,  2.80909689,\n",
              "        2.81980815,  2.82985625,  2.83930047,  2.84819327,  2.85658126,\n",
              "        2.86450596,  2.87200449,  2.87911013,  2.88585282,  2.89225951,\n",
              "        2.89835461,  2.90416018,  2.9096963 ,  2.91498121,  2.92003157,\n",
              "        2.92486259,  2.92948821,  2.9339212 ,  2.93817331,  2.94225535])"
            ]
          },
          "metadata": {},
          "execution_count": 87
        }
      ]
    },
    {
      "cell_type": "code",
      "source": [
        "inte = sc.integrate.quad(m,-np.inf,np.inf)\n",
        "print(f\"Integral scipy = {inte[0]}\\n Con un error de {inte[1]}\")\n",
        "inteyo = simp3(m,-100,100,1000)\n",
        "print(f\"Con mi función = {inteyo}\\n aiuda no funciona D:\")"
      ],
      "metadata": {
        "colab": {
          "base_uri": "https://localhost:8080/"
        },
        "id": "u7FttJNfUzvF",
        "outputId": "e3485c65-eba7-4163-f8c6-e3128394f548"
      },
      "execution_count": null,
      "outputs": [
        {
          "output_type": "stream",
          "name": "stdout",
          "text": [
            "Integral scipy = 3.141592653589793\n",
            " Con un error de 5.155583041103855e-10\n",
            "Con mi función = 3.121593004587603\n",
            " aiuda no funciona D:\n"
          ]
        }
      ]
    },
    {
      "cell_type": "code",
      "source": [
        "plt.figure()\n",
        "plt.plot(grandes, Yg)\n",
        "#plt.plot(grandes[0], inte[0])\n",
        "plt.show()"
      ],
      "metadata": {
        "colab": {
          "base_uri": "https://localhost:8080/",
          "height": 430
        },
        "id": "aO1X3EjbV0FC",
        "outputId": "dfaa93ec-e7ff-4107-9e5e-fb0b956d9f54"
      },
      "execution_count": null,
      "outputs": [
        {
          "output_type": "display_data",
          "data": {
            "text/plain": [
              "<Figure size 640x480 with 1 Axes>"
            ],
            "image/png": "[encoded data removed]"
          },
          "metadata": {}
        }
      ]
    },
    {
      "cell_type": "markdown",
      "source": [
        "# Integral doble\n",
        "$$\n",
        " \\int_{0}^{\\pi/4} \\int_{\\sin x}^{\\cos x} (2y\\sin x +\\cos^2 x)\\, dxdy\n",
        " $$"
      ],
      "metadata": {
        "id": "xPhsSVlvopmt"
      }
    },
    {
      "cell_type": "code",
      "source": [
        "#@title empezando por x\n",
        "fs = lambda x,y: 2*y*sy.sin(x)+(sy.cos(x))**2\n",
        "ifsx = sy.integrate(fs(_x,_y),_x)\n",
        "int1x = sy.lambdify(_x,ifsx,\"numpy\")\n",
        "sy.integrate(2*_y*sy.sin(_x)+(sy.cos(_x))**2,(_x,sy.sin(_x),sy.cos(_x)))"
      ],
      "metadata": {
        "colab": {
          "base_uri": "https://localhost:8080/",
          "height": 53
        },
        "id": "QoV2boP-og-v",
        "outputId": "ef2954ea-2d91-467e-ef86-9702e6a20d51"
      },
      "execution_count": null,
      "outputs": [
        {
          "output_type": "execute_result",
          "data": {
            "text/plain": [
              "2*y*cos(sin(x)) - 2*y*cos(cos(x)) - sin(x)/2 - sin(sin(x))*cos(sin(x))/2 + sin(cos(x))*cos(cos(x))/2 + cos(x)/2"
            ],
            "text/latex": "$\\displaystyle 2 y \\cos{\\left(\\sin{\\left(x \\right)} \\right)} - 2 y \\cos{\\left(\\cos{\\left(x \\right)} \\right)} - \\frac{\\sin{\\left(x \\right)}}{2} - \\frac{\\sin{\\left(\\sin{\\left(x \\right)} \\right)} \\cos{\\left(\\sin{\\left(x \\right)} \\right)}}{2} + \\frac{\\sin{\\left(\\cos{\\left(x \\right)} \\right)} \\cos{\\left(\\cos{\\left(x \\right)} \\right)}}{2} + \\frac{\\cos{\\left(x \\right)}}{2}$"
          },
          "metadata": {},
          "execution_count": 90
        }
      ]
    },
    {
      "cell_type": "code",
      "source": [
        "#@title empezando por y\n",
        "ifsy = sy.integrate(fs(_x,_y),(_y,sy.sin(_x),sy.cos(_x)))\n",
        "ifsy\n",
        "#display(Latex(ifsy))\n",
        "#ifsx2 = sy.integrate(ifsy,_x)\n",
        "#ifsx2"
      ],
      "metadata": {
        "colab": {
          "base_uri": "https://localhost:8080/",
          "height": 38
        },
        "id": "EVutVMS-rUhc",
        "outputId": "33017088-64ef-42bd-b3ca-dedac971fba6"
      },
      "execution_count": null,
      "outputs": [
        {
          "output_type": "execute_result",
          "data": {
            "text/plain": [
              "-sin(x)**3 + cos(x)**3"
            ],
            "text/latex": "$\\displaystyle - \\sin^{3}{\\left(x \\right)} + \\cos^{3}{\\left(x \\right)}$"
          },
          "metadata": {},
          "execution_count": 91
        }
      ]
    },
    {
      "cell_type": "code",
      "source": [
        "ifsx2 = sy.integrate(ifsy,(_x,0,sy.pi/4))\n",
        "ifsx2"
      ],
      "metadata": {
        "colab": {
          "base_uri": "https://localhost:8080/",
          "height": 55
        },
        "id": "bCjQkdQUseZg",
        "outputId": "481e2b62-7f50-4c65-a7a4-5da30b543b44"
      },
      "execution_count": null,
      "outputs": [
        {
          "output_type": "execute_result",
          "data": {
            "text/plain": [
              "-2/3 + 5*sqrt(2)/6"
            ],
            "text/latex": "$\\displaystyle - \\frac{2}{3} + \\frac{5 \\sqrt{2}}{6}$"
          },
          "metadata": {},
          "execution_count": 92
        }
      ]
    },
    {
      "cell_type": "code",
      "source": [
        "-2/3+5*np.sqrt(2)/6\n"
      ],
      "metadata": {
        "colab": {
          "base_uri": "https://localhost:8080/"
        },
        "id": "sExn81Wqxb0x",
        "outputId": "6ebb8507-44e2-4670-8bc1-115fcc859c91"
      },
      "execution_count": null,
      "outputs": [
        {
          "output_type": "execute_result",
          "data": {
            "text/plain": [
              "0.5118446353109126"
            ]
          },
          "metadata": {},
          "execution_count": 93
        }
      ]
    },
    {
      "cell_type": "code",
      "source": [
        "def simp3(f,a,b,n):\n",
        "  h = (b-a)/n\n",
        "  rango = np.linspace(a,b,n,endpoint=False)\n",
        "  par = f(rango[2::2])\n",
        "  impar = f(rango[1::2])\n",
        "  res = (h/3) * (f(a)+2*par.sum()+4*impar.sum()+f(b))\n",
        "  #_y = sy.Symbol(\"y\")\n",
        "  #der = lambda x:-1*sy.lambdify(_y,sy.diff(f(_y),_y,4),\"numpy\")(x)\n",
        "  #max = sc.optimize.fmin(der,a)[0]\n",
        "  #error = (b-a)*((h**4)/180)*der(max)\n",
        "  return res #np.array(res, error)"
      ],
      "metadata": {
        "id": "ENQZ1rH_tfU5"
      },
      "execution_count": null,
      "outputs": []
    },
    {
      "cell_type": "code",
      "source": [
        "np.pi/4"
      ],
      "metadata": {
        "colab": {
          "base_uri": "https://localhost:8080/"
        },
        "id": "Tzt2ep_ju5WI",
        "outputId": "4c93aeaf-2ee2-43c3-c11f-1f4f345caf71"
      },
      "execution_count": null,
      "outputs": [
        {
          "output_type": "execute_result",
          "data": {
            "text/plain": [
              "0.7853981633974483"
            ]
          },
          "metadata": {},
          "execution_count": 95
        }
      ]
    },
    {
      "cell_type": "code",
      "source": [
        "def simp3(f,a,b,n):\n",
        "  h = (b-a)/n\n",
        "  rango = np.linspace(a,b,n,endpoint=False)\n",
        "  par = f(rango[2::2])\n",
        "  impar = f(rango[1::2])\n",
        "  res = (h/3) * (f(a)+2*par.sum()+4*impar.sum()+f(b))\n",
        "  #_y = sy.Symbol(\"y\")\n",
        "  #der = lambda x:-1*sy.lambdify(_y,sy.diff(f(_y),_y,4),\"numpy\")(x)\n",
        "  #max = sc.optimize.fmin(der,a)[0]\n",
        "  #error = (b-a)*((h**4)/180)*der(max)\n",
        "  return res #np.array(res, error)"
      ],
      "metadata": {
        "id": "U1u-GcdUvMu8"
      },
      "execution_count": null,
      "outputs": []
    },
    {
      "cell_type": "code",
      "source": [
        "def simps2v(f,a,b,n,x,y):\n",
        "  h = (b-a)/n\n",
        "  rango = np.linspace(a,b,n,endpoint=False)\n",
        "  if x == \"x\":\n",
        "    par = f(x = rango[2::2],y = y)\n",
        "    impar = f(x = rango[1::2], y = y)\n",
        "    res = (h/3) * (f(x = a, y = y)+2*par.sum()+4*impar.sum()+f(x = b, y = y))\n",
        "  if x == \"y\":\n",
        "    par = f(y = rango[2::2],x = y)\n",
        "    impar = f(y = rango[1::2], x = y)\n",
        "    res = (h/3) * (f(y = a,x = y)+2*par.sum()+4*impar.sum()+f(y = b, x = y))\n",
        "  return res"
      ],
      "metadata": {
        "id": "4rc2fgsyvT3A"
      },
      "execution_count": null,
      "outputs": []
    },
    {
      "cell_type": "code",
      "source": [
        "f = lambda x,y: 2*y*np.sin(x)+(np.cos(x))**2\n"
      ],
      "metadata": {
        "id": "er-8wCAvtOG1"
      },
      "execution_count": null,
      "outputs": []
    },
    {
      "cell_type": "code",
      "source": [
        "sc.integrate.dblquad(f,0, np.pi/4, lambda x: np.sin(x),lambda x: np.cos(x))\n",
        "# da otro valor, no tengo ni idea de porqué"
      ],
      "metadata": {
        "colab": {
          "base_uri": "https://localhost:8080/"
        },
        "id": "SWrPI_jgiNKs",
        "outputId": "ec37629e-81ab-400a-f302-aab621eabdf6"
      },
      "execution_count": null,
      "outputs": [
        {
          "output_type": "execute_result",
          "data": {
            "text/plain": [
              "(0.4041197515454243, 8.073391512546048e-15)"
            ]
          },
          "metadata": {},
          "execution_count": 99
        }
      ]
    },
    {
      "cell_type": "code",
      "source": [
        "x=np.linspace(0, np.pi/4,n)\n",
        "x[n-1]"
      ],
      "metadata": {
        "colab": {
          "base_uri": "https://localhost:8080/"
        },
        "id": "GQAuiJiIx5b7",
        "outputId": "f2604ef7-b3d9-4b3d-ef5d-e8759b73b39b"
      },
      "execution_count": null,
      "outputs": [
        {
          "output_type": "execute_result",
          "data": {
            "text/plain": [
              "0.7853981633974483"
            ]
          },
          "metadata": {},
          "execution_count": 100
        }
      ]
    },
    {
      "cell_type": "code",
      "source": [
        "x=np.linspace(0, np.pi/4,n)\n",
        "y=np.linspace(0, np.pi/4,n)\n",
        "f(x,y)"
      ],
      "metadata": {
        "colab": {
          "base_uri": "https://localhost:8080/"
        },
        "id": "1HexFeTAyfF4",
        "outputId": "bdd90abe-277a-4c45-8597-0df676716bed"
      },
      "execution_count": null,
      "outputs": [
        {
          "output_type": "execute_result",
          "data": {
            "text/plain": [
              "array([1.        , 1.00006423, 1.00025691, 1.00057806, 1.00102766,\n",
              "       1.00160571, 1.00231222, 1.00314719, 1.00411062, 1.0052025 ,\n",
              "       1.00642284, 1.00777163, 1.00924888, 1.01085458, 1.01258873,\n",
              "       1.01445132, 1.01644237, 1.01856185, 1.02080978, 1.02318613,\n",
              "       1.02569092, 1.02832413, 1.03108575, 1.03397578, 1.0369942 ,\n",
              "       1.04014101, 1.04341619, 1.04681972, 1.0503516 , 1.05401179,\n",
              "       1.05780029, 1.06171707, 1.06576211, 1.06993537, 1.07423683,\n",
              "       1.07866646, 1.08322422, 1.08791006, 1.09272396, 1.09766586,\n",
              "       1.10273572, 1.10793348, 1.11325909, 1.11871247, 1.12429358,\n",
              "       1.13000234, 1.13583866, 1.14180248, 1.14789371, 1.15411226,\n",
              "       1.16045802, 1.1669309 , 1.17353079, 1.18025757, 1.18711113,\n",
              "       1.19409133, 1.20119803, 1.20843111, 1.21579039, 1.22327574,\n",
              "       1.23088697, 1.23862392, 1.2464864 , 1.25447423, 1.26258719,\n",
              "       1.27082509, 1.27918769, 1.28767478, 1.2962861 , 1.30502142,\n",
              "       1.31388046, 1.32286297, 1.33196865, 1.34119721, 1.35054835,\n",
              "       1.36002174, 1.36961707, 1.37933397, 1.38917211, 1.39913111,\n",
              "       1.40921059, 1.41941015, 1.42972939, 1.44016787, 1.45072517,\n",
              "       1.46140083, 1.47219439, 1.48310535, 1.49413322, 1.50527749,\n",
              "       1.51653763, 1.52791308, 1.5394033 , 1.55100768, 1.56272565,\n",
              "       1.57455658, 1.58649984, 1.59855478, 1.61072073])"
            ]
          },
          "metadata": {},
          "execution_count": 101
        }
      ]
    },
    {
      "cell_type": "code",
      "source": [
        "sc"
      ],
      "metadata": {
        "id": "hLGmJg3w0TkH",
        "colab": {
          "base_uri": "https://localhost:8080/"
        },
        "outputId": "d4bf8879-cc13-42cc-a882-7ca8fd12bb55"
      },
      "execution_count": null,
      "outputs": [
        {
          "output_type": "execute_result",
          "data": {
            "text/plain": [
              "<module 'scipy' from '/usr/local/lib/python3.10/dist-packages/scipy/__init__.py'>"
            ]
          },
          "metadata": {},
          "execution_count": 102
        }
      ]
    },
    {
      "cell_type": "code",
      "source": [
        "n = 1000\n",
        "x=np.linspace(0, np.pi/4,n)\n",
        "suma= np.zeros(n)\n",
        "for m,i in enumerate(x):\n",
        "  y = np.linspace(np.sin(i),np.cos(i),n)\n",
        "  suma[m] = simps2v(f,y[0],y[n-1],n,\"y\",i)\n",
        "\n",
        "\n",
        "sc.integrate.simpson(suma,x)"
      ],
      "metadata": {
        "colab": {
          "base_uri": "https://localhost:8080/"
        },
        "id": "uuR1F2ZguWjX",
        "outputId": "554788c5-b0a1-4fd2-8d0b-43ca800454f3"
      },
      "execution_count": null,
      "outputs": [
        {
          "output_type": "execute_result",
          "data": {
            "text/plain": [
              "0.5118446353111166"
            ]
          },
          "metadata": {},
          "execution_count": 103
        }
      ]
    },
    {
      "cell_type": "markdown",
      "source": [
        "# Me estaba complicando, se puede usar la función de scipy\n"
      ],
      "metadata": {
        "id": "ZLzjZA3R288C"
      }
    },
    {
      "cell_type": "code",
      "source": [
        "fp = lambda x,y: 2*y*np.sin(x)+(np.cos(x))**2\n",
        "n = 100\n",
        "x = np.linspace(0, np.pi/4,n)\n",
        "I = np.zeros(n)\n",
        "for i,m in enumerate(x):\n",
        "  y = np.linspace(np.sin(m),np.cos(m),n)\n",
        "  I[i] = sc.integrate.simpson(fp(m,y),y)\n",
        "\n",
        "\n",
        "sc.integrate.simpson(I,x)"
      ],
      "metadata": {
        "colab": {
          "base_uri": "https://localhost:8080/"
        },
        "id": "vPyOINpf1d-c",
        "outputId": "9241e37b-041a-4442-cecb-c4fcdd5ebbae"
      },
      "execution_count": null,
      "outputs": [
        {
          "output_type": "execute_result",
          "data": {
            "text/plain": [
              "0.5118446374265215"
            ]
          },
          "metadata": {},
          "execution_count": 104
        }
      ]
    },
    {
      "cell_type": "code",
      "source": [
        "n = 100\n",
        "x = np.linspace(0, np.pi/4,n)\n",
        "I = np.zeros(n)\n",
        "for i,m in enumerate(x):\n",
        "  y = np.linspace(np.sin(m),np.cos(m),n)\n",
        "  I[i] = sc.integrate.trapezoid(fp(m,y),y)\n",
        "\n",
        "sc.integrate.trapz(I,x)"
      ],
      "metadata": {
        "colab": {
          "base_uri": "https://localhost:8080/"
        },
        "id": "Bz4HmVE330sJ",
        "outputId": "46f9652a-6d55-4c7a-c75f-1eb29fef462b"
      },
      "execution_count": null,
      "outputs": [
        {
          "output_type": "execute_result",
          "data": {
            "text/plain": [
              "0.5118335093392186"
            ]
          },
          "metadata": {},
          "execution_count": 105
        }
      ]
    }
  ]
}
