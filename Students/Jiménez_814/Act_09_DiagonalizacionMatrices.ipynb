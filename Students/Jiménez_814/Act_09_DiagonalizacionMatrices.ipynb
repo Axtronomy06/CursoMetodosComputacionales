{
  "nbformat": 4,
  "nbformat_minor": 0,
  "metadata": {
    "colab": {
      "provenance": [],
      "authorship_tag": "ABX9TyMGoXyd8W6G41E3WUD0fqJX",
      "include_colab_link": true
    },
    "kernelspec": {
      "name": "python3",
      "display_name": "Python 3"
    },
    "language_info": {
      "name": "python"
    }
  },
  "cells": [
    {
      "cell_type": "markdown",
      "metadata": {
        "id": "view-in-github",
        "colab_type": "text"
      },
      "source": [
        "<a href=\"https://colab.research.google.com/github/Elizajr/CursoMetodosComputacionales/blob/main/Act_09_DiagonalizacionMatrices.ipynb\" target=\"_parent\"><img src=\"https://colab.research.google.com/assets/colab-badge.svg\" alt=\"Open In Colab\"/></a>"
      ]
    },
    {
      "cell_type": "markdown",
      "source": [
        "# Autovalores, autovectores, polinomio caracteristico, diagonalización."
      ],
      "metadata": {
        "id": "Lr9MEh6kBGK1"
      }
    },
    {
      "cell_type": "code",
      "execution_count": null,
      "metadata": {
        "id": "OI7PL2WH-FVg"
      },
      "outputs": [],
      "source": [
        "import numpy as np\n",
        "from numpy import linalg\n",
        "import sympy as sy\n",
        "from IPython.display import display, Latex"
      ]
    },
    {
      "cell_type": "code",
      "source": [
        "ma = np.matrix([[1,-1, 4],\n",
        "               [3, 2,-1],\n",
        "               [2, 1,-1]])\n",
        "\n",
        "mb = np.matrix([[3, -5],\n",
        "                [1, -1]])\n",
        "\n",
        "A = sy.Matrix(ma)\n",
        "\n",
        "B = sy.Matrix(mb)\n",
        "display(Latex(\"A=\"),A)\n",
        "print(\" \")\n",
        "display(Latex(\"B=\"), B)"
      ],
      "metadata": {
        "colab": {
          "base_uri": "https://localhost:8080/",
          "height": 179
        },
        "id": "pFuTG34-BGAS",
        "outputId": "6b359779-c609-417b-f8c2-24cb13230acb"
      },
      "execution_count": null,
      "outputs": [
        {
          "output_type": "display_data",
          "data": {
            "text/plain": [
              "<IPython.core.display.Latex object>"
            ],
            "text/latex": "A="
          },
          "metadata": {}
        },
        {
          "output_type": "display_data",
          "data": {
            "text/plain": [
              "Matrix([\n",
              "[1, -1,  4],\n",
              "[3,  2, -1],\n",
              "[2,  1, -1]])"
            ],
            "text/latex": "$\\displaystyle \\left[\\begin{matrix}1 & -1 & 4\\\\3 & 2 & -1\\\\2 & 1 & -1\\end{matrix}\\right]$"
          },
          "metadata": {}
        },
        {
          "output_type": "stream",
          "name": "stdout",
          "text": [
            " \n"
          ]
        },
        {
          "output_type": "display_data",
          "data": {
            "text/plain": [
              "<IPython.core.display.Latex object>"
            ],
            "text/latex": "B="
          },
          "metadata": {}
        },
        {
          "output_type": "display_data",
          "data": {
            "text/plain": [
              "Matrix([\n",
              "[3, -5],\n",
              "[1, -1]])"
            ],
            "text/latex": "$\\displaystyle \\left[\\begin{matrix}3 & -5\\\\1 & -1\\end{matrix}\\right]$"
          },
          "metadata": {}
        }
      ]
    },
    {
      "cell_type": "code",
      "source": [
        "a_np_val,a_np_vec = np.linalg.eig(ma)\n",
        "a_np_val"
      ],
      "metadata": {
        "colab": {
          "base_uri": "https://localhost:8080/"
        },
        "id": "xbEr_EoDDY5u",
        "outputId": "64aef981-1bc2-4651-d8a6-32c0d6c41627"
      },
      "execution_count": null,
      "outputs": [
        {
          "output_type": "execute_result",
          "data": {
            "text/plain": [
              "array([ 3., -2.,  1.])"
            ]
          },
          "metadata": {},
          "execution_count": 21
        }
      ]
    },
    {
      "cell_type": "code",
      "source": [
        "a_sy_val = np.array(list(A.eigenvals().keys()))\n",
        "a_sy_val"
      ],
      "metadata": {
        "colab": {
          "base_uri": "https://localhost:8080/"
        },
        "id": "Q8q6gHGkF2hG",
        "outputId": "7ebb4fbb-808a-44c7-c16e-69d049d0dced"
      },
      "execution_count": null,
      "outputs": [
        {
          "output_type": "execute_result",
          "data": {
            "text/plain": [
              "array([3, 1, -2], dtype=object)"
            ]
          },
          "metadata": {},
          "execution_count": 22
        }
      ]
    },
    {
      "cell_type": "code",
      "source": [
        "a_np_vec"
      ],
      "metadata": {
        "colab": {
          "base_uri": "https://localhost:8080/"
        },
        "id": "ykOSkUNcJE5P",
        "outputId": "1a7dc33c-0a9d-4b52-cd42-1c2816cfbf75"
      },
      "execution_count": null,
      "outputs": [
        {
          "output_type": "execute_result",
          "data": {
            "text/plain": [
              "matrix([[ 0.40824829,  0.57735027,  0.23570226],\n",
              "        [ 0.81649658, -0.57735027, -0.94280904],\n",
              "        [ 0.40824829, -0.57735027, -0.23570226]])"
            ]
          },
          "metadata": {},
          "execution_count": 23
        }
      ]
    },
    {
      "cell_type": "code",
      "source": [
        "(np.linalg.inv(a_np_vec) * ma * a_np_vec).round()"
      ],
      "metadata": {
        "colab": {
          "base_uri": "https://localhost:8080/"
        },
        "id": "XpB01tNbQKLQ",
        "outputId": "05f12b19-6a17-4670-fe73-945a6bf73777"
      },
      "execution_count": null,
      "outputs": [
        {
          "output_type": "execute_result",
          "data": {
            "text/plain": [
              "matrix([[ 3., -0., -0.],\n",
              "        [ 0., -2., -0.],\n",
              "        [ 0., -0.,  1.]])"
            ]
          },
          "metadata": {},
          "execution_count": 24
        }
      ]
    },
    {
      "cell_type": "code",
      "source": [
        "sy_veca = A.eigenvects()\n",
        "sy_veca"
      ],
      "metadata": {
        "colab": {
          "base_uri": "https://localhost:8080/"
        },
        "id": "GJBotIyfHB2c",
        "outputId": "80f303e3-58bc-4997-b324-edb8dac24a22"
      },
      "execution_count": null,
      "outputs": [
        {
          "output_type": "execute_result",
          "data": {
            "text/plain": [
              "[(-2,\n",
              "  1,\n",
              "  [Matrix([\n",
              "   [-1],\n",
              "   [ 1],\n",
              "   [ 1]])]),\n",
              " (1,\n",
              "  1,\n",
              "  [Matrix([\n",
              "   [-1],\n",
              "   [ 4],\n",
              "   [ 1]])]),\n",
              " (3,\n",
              "  1,\n",
              "  [Matrix([\n",
              "   [1],\n",
              "   [2],\n",
              "   [1]])])]"
            ]
          },
          "metadata": {},
          "execution_count": 25
        }
      ]
    },
    {
      "cell_type": "code",
      "source": [
        "v0 = sy_veca[0][2][0]\n",
        "v1 = (sy_veca)[1][2][0]\n",
        "v2 = (sy_veca)[2][2][0]\n",
        "a_sy_vec = v0.row_join(v1)\n",
        "a_sy_vec = a_sy_vec.row_join(v2)"
      ],
      "metadata": {
        "id": "PEM0SybELV-V"
      },
      "execution_count": null,
      "outputs": []
    },
    {
      "cell_type": "code",
      "source": [
        "a_sy_vec.inv()*A*a_sy_vec"
      ],
      "metadata": {
        "colab": {
          "base_uri": "https://localhost:8080/",
          "height": 78
        },
        "id": "5_JqxXizOYqH",
        "outputId": "b594f8b4-ed4e-43bd-99dd-f658804864a4"
      },
      "execution_count": null,
      "outputs": [
        {
          "output_type": "execute_result",
          "data": {
            "text/plain": [
              "Matrix([\n",
              "[-2, 0, 0],\n",
              "[ 0, 1, 0],\n",
              "[ 0, 0, 3]])"
            ],
            "text/latex": "$\\displaystyle \\left[\\begin{matrix}-2 & 0 & 0\\\\0 & 1 & 0\\\\0 & 0 & 3\\end{matrix}\\right]$"
          },
          "metadata": {},
          "execution_count": 27
        }
      ]
    },
    {
      "cell_type": "code",
      "source": [
        "def diagonalizar_np(A):\n",
        "  a_np_val,a_np_vec = np.linalg.eig(A)\n",
        "  return (np.linalg.inv(a_np_vec) * A * a_np_vec).round()\n"
      ],
      "metadata": {
        "id": "Q0azc69QQz1l"
      },
      "execution_count": null,
      "outputs": []
    },
    {
      "cell_type": "code",
      "source": [
        "sy.Matrix(diagonalizar_np(mb))"
      ],
      "metadata": {
        "colab": {
          "base_uri": "https://localhost:8080/",
          "height": 58
        },
        "id": "youLJdPJRD4j",
        "outputId": "f5185956-341b-49e1-9553-de92b51d4a5a"
      },
      "execution_count": null,
      "outputs": [
        {
          "output_type": "execute_result",
          "data": {
            "text/plain": [
              "Matrix([\n",
              "[1.0 + 1.0*I,           0],\n",
              "[          0, 1.0 - 1.0*I]])"
            ],
            "text/latex": "$\\displaystyle \\left[\\begin{matrix}1.0 + 1.0 i & 0\\\\0 & 1.0 - 1.0 i\\end{matrix}\\right]$"
          },
          "metadata": {},
          "execution_count": 29
        }
      ]
    },
    {
      "cell_type": "code",
      "source": [
        "def diagonalizar_sy(A):\n",
        "  A = sy.Matrix(A)\n",
        "  dim = sy.shape(A)\n",
        "  if dim[0] == dim[1]:\n",
        "    sy_veca = A.eigenvects()\n",
        "    salida = sy_veca[0][2][0]\n",
        "    for m in range(dim[1]):\n",
        "      salida = salida.row_join3(sy_veca[i+1][2][0])\n",
        "    return salida.inv()*A*salida\n",
        "  else:\n",
        "    raise TypeError(\"No es una matriz cuadrada\")"
      ],
      "metadata": {
        "id": "DtAIr_18RRTs"
      },
      "execution_count": null,
      "outputs": []
    },
    {
      "cell_type": "code",
      "source": [
        "#diagonalizar_sy(mb)"
      ],
      "metadata": {
        "id": "3xcEWwkMyeQp"
      },
      "execution_count": null,
      "outputs": []
    },
    {
      "cell_type": "code",
      "source": [
        "sy.Matrix(diagonalizar_np(ma))"
      ],
      "metadata": {
        "colab": {
          "base_uri": "https://localhost:8080/",
          "height": 78
        },
        "id": "AmPpAgUbyb_2",
        "outputId": "a7a70cad-c352-430a-ac95-582db3b35467"
      },
      "execution_count": null,
      "outputs": [
        {
          "output_type": "execute_result",
          "data": {
            "text/plain": [
              "Matrix([\n",
              "[3.0,    0,   0],\n",
              "[  0, -2.0,   0],\n",
              "[  0,    0, 1.0]])"
            ],
            "text/latex": "$\\displaystyle \\left[\\begin{matrix}3.0 & 0 & 0\\\\0 & -2.0 & 0\\\\0 & 0 & 1.0\\end{matrix}\\right]$"
          },
          "metadata": {},
          "execution_count": 32
        }
      ]
    },
    {
      "cell_type": "code",
      "source": [
        "A"
      ],
      "metadata": {
        "colab": {
          "base_uri": "https://localhost:8080/",
          "height": 78
        },
        "id": "VDY67dKrR0zI",
        "outputId": "ae87c982-3a56-4d1a-83a8-86d81c3f330f"
      },
      "execution_count": null,
      "outputs": [
        {
          "output_type": "execute_result",
          "data": {
            "text/plain": [
              "Matrix([\n",
              "[1, -1,  4],\n",
              "[3,  2, -1],\n",
              "[2,  1, -1]])"
            ],
            "text/latex": "$\\displaystyle \\left[\\begin{matrix}1 & -1 & 4\\\\3 & 2 & -1\\\\2 & 1 & -1\\end{matrix}\\right]$"
          },
          "metadata": {},
          "execution_count": 33
        }
      ]
    },
    {
      "cell_type": "code",
      "source": [
        "A.charpoly()"
      ],
      "metadata": {
        "colab": {
          "base_uri": "https://localhost:8080/",
          "height": 38
        },
        "id": "RKikhSsZIq67",
        "outputId": "627f4063-c1c6-4741-d7ef-02183bf629bd"
      },
      "execution_count": null,
      "outputs": [
        {
          "output_type": "execute_result",
          "data": {
            "text/plain": [
              "PurePoly(lambda**3 - 2*lambda**2 - 5*lambda + 6, lambda, domain='ZZ')"
            ],
            "text/latex": "$\\displaystyle \\operatorname{PurePoly}{\\left( \\lambda^{3} - 2 \\lambda^{2} - 5 \\lambda + 6, \\lambda, domain=\\mathbb{Z} \\right)}$"
          },
          "metadata": {},
          "execution_count": 34
        }
      ]
    },
    {
      "cell_type": "code",
      "source": [
        "np.poly(ma)"
      ],
      "metadata": {
        "colab": {
          "base_uri": "https://localhost:8080/"
        },
        "id": "sN6qe8Cm4kUb",
        "outputId": "3d245757-6b60-47dc-af6c-4e1550207f4e"
      },
      "execution_count": null,
      "outputs": [
        {
          "output_type": "execute_result",
          "data": {
            "text/plain": [
              "array([ 1., -2., -5.,  6.])"
            ]
          },
          "metadata": {},
          "execution_count": 94
        }
      ]
    },
    {
      "cell_type": "code",
      "source": [
        "t_ = sy.Symbol(\"t\")\n",
        "It = (np.diag(np.ones(np.shape(A)[0],dtype=int))*t_)\n",
        "sy.Matrix(It)"
      ],
      "metadata": {
        "colab": {
          "base_uri": "https://localhost:8080/",
          "height": 78
        },
        "id": "PTg02jzj2KFD",
        "outputId": "334be28d-bd26-4662-fe08-b179d4f10fcb"
      },
      "execution_count": null,
      "outputs": [
        {
          "output_type": "execute_result",
          "data": {
            "text/plain": [
              "Matrix([\n",
              "[t, 0, 0],\n",
              "[0, t, 0],\n",
              "[0, 0, t]])"
            ],
            "text/latex": "$\\displaystyle \\left[\\begin{matrix}t & 0 & 0\\\\0 & t & 0\\\\0 & 0 & t\\end{matrix}\\right]$"
          },
          "metadata": {},
          "execution_count": 47
        }
      ]
    },
    {
      "cell_type": "code",
      "source": [
        "A-It"
      ],
      "metadata": {
        "colab": {
          "base_uri": "https://localhost:8080/",
          "height": 78
        },
        "id": "VQurWdJev23J",
        "outputId": "426da545-d66c-4488-e52d-a6a7b819a58d"
      },
      "execution_count": null,
      "outputs": [
        {
          "output_type": "execute_result",
          "data": {
            "text/plain": [
              "Matrix([\n",
              "[1 - t,    -1,      4],\n",
              "[    3, 2 - t,     -1],\n",
              "[    2,     1, -t - 1]])"
            ],
            "text/latex": "$\\displaystyle \\left[\\begin{matrix}1 - t & -1 & 4\\\\3 & 2 - t & -1\\\\2 & 1 & - t - 1\\end{matrix}\\right]$"
          },
          "metadata": {},
          "execution_count": 48
        }
      ]
    },
    {
      "cell_type": "code",
      "source": [
        "carac = ma-It"
      ],
      "metadata": {
        "colab": {
          "base_uri": "https://localhost:8080/"
        },
        "id": "Pzjuj8DJwxqI",
        "outputId": "b00b7628-3a8f-427d-d6e8-a2f3b49b965b"
      },
      "execution_count": null,
      "outputs": [
        {
          "output_type": "execute_result",
          "data": {
            "text/plain": [
              "matrix([[1 - t, -1, 4],\n",
              "        [3, 2 - t, -1],\n",
              "        [2, 1, -t - 1]], dtype=object)"
            ]
          },
          "metadata": {},
          "execution_count": 52
        }
      ]
    },
    {
      "cell_type": "code",
      "source": [
        "A[0:,0:]"
      ],
      "metadata": {
        "colab": {
          "base_uri": "https://localhost:8080/",
          "height": 78
        },
        "id": "H4imEOfrx__8",
        "outputId": "c5c3077a-baf2-4824-e29a-0265cadc27e7"
      },
      "execution_count": null,
      "outputs": [
        {
          "output_type": "execute_result",
          "data": {
            "text/plain": [
              "Matrix([\n",
              "[1, -1,  4],\n",
              "[3,  2, -1],\n",
              "[2,  1, -1]])"
            ],
            "text/latex": "$\\displaystyle \\left[\\begin{matrix}1 & -1 & 4\\\\3 & 2 & -1\\\\2 & 1 & -1\\end{matrix}\\right]$"
          },
          "metadata": {},
          "execution_count": 58
        }
      ]
    },
    {
      "cell_type": "code",
      "source": [
        "np.prod(mb.diagonal())"
      ],
      "metadata": {
        "colab": {
          "base_uri": "https://localhost:8080/"
        },
        "id": "nNPzhcrX1DkR",
        "outputId": "be903b0b-4a4f-4355-9285-60bb391b1442"
      },
      "execution_count": null,
      "outputs": [
        {
          "output_type": "execute_result",
          "data": {
            "text/plain": [
              "-3"
            ]
          },
          "metadata": {},
          "execution_count": 82
        }
      ]
    },
    {
      "cell_type": "code",
      "source": [
        "np.prod(mb.diagonal()) - np.prod(np.fliplr(mb).diagonal())"
      ],
      "metadata": {
        "colab": {
          "base_uri": "https://localhost:8080/"
        },
        "id": "oV1twu9CzCtA",
        "outputId": "edf71b51-5f61-40c0-ce2a-3456e1c39a2c"
      },
      "execution_count": null,
      "outputs": [
        {
          "output_type": "execute_result",
          "data": {
            "text/plain": [
              "2"
            ]
          },
          "metadata": {},
          "execution_count": 84
        }
      ]
    },
    {
      "cell_type": "code",
      "source": [
        "def det(A):\n",
        "  dim = np.shape(A)\n",
        "  det = 0\n",
        "  detf = 0\n",
        "  factores = []\n",
        "  if dim[0] == dim[1]:\n",
        "    if dim[0] == 2:\n",
        "      det = np.prod(A.diagonal())- np.prod(np.fliplr(A).diagonal())\n",
        "    else:\n",
        "      for n in range(dim[0]):\n",
        "        B = A[n+1:,n+1:]\n",
        "        factores.append(A[n:,:1])\n",
        "        if np.shape(B)[0]==2:\n",
        "          det = np.prod(B.diagonal())- np.prod(np.fliplr(B).diagonal())\n",
        "          detf += factores\n",
        "\n",
        "\n",
        "  else:\n",
        "    raise TypeError(\"No es una matriz cuadrada\")\n",
        "  return det"
      ],
      "metadata": {
        "id": "ntrAaBcDv8sC"
      },
      "execution_count": null,
      "outputs": []
    },
    {
      "cell_type": "code",
      "source": [
        "def det2(A):\n",
        "  dim = np.shape(A)\n",
        "  if dim[0]==dim[1]==2:\n",
        "    return np.prod(A.diagonal())- np.prod(np.fliplr(A).diagonal())\n",
        "  else:\n",
        "    raise TypeError(\"Necesito una matrix 2x2\")"
      ],
      "metadata": {
        "id": "ZJBCHNIR2xTN"
      },
      "execution_count": null,
      "outputs": []
    },
    {
      "cell_type": "code",
      "source": [
        "prueba = sy.diag(t_,t_)\n",
        "det2(prueba)"
      ],
      "metadata": {
        "colab": {
          "base_uri": "https://localhost:8080/",
          "height": 38
        },
        "id": "7zv0omRi3-9Y",
        "outputId": "af58598e-ad36-4a4f-defe-e5d5add01e5e"
      },
      "execution_count": null,
      "outputs": [
        {
          "output_type": "execute_result",
          "data": {
            "text/plain": [
              "t**2"
            ],
            "text/latex": "$\\displaystyle t^{2}$"
          },
          "metadata": {},
          "execution_count": 91
        }
      ]
    },
    {
      "cell_type": "code",
      "source": [
        "A"
      ],
      "metadata": {
        "colab": {
          "base_uri": "https://localhost:8080/",
          "height": 78
        },
        "id": "xZGvr9TR49ST",
        "outputId": "93ff481e-69e8-4eb7-ac97-5ac34bce38de"
      },
      "execution_count": null,
      "outputs": [
        {
          "output_type": "execute_result",
          "data": {
            "text/plain": [
              "Matrix([\n",
              "[1, -1,  4],\n",
              "[3,  2, -1],\n",
              "[2,  1, -1]])"
            ],
            "text/latex": "$\\displaystyle \\left[\\begin{matrix}1 & -1 & 4\\\\3 & 2 & -1\\\\2 & 1 & -1\\end{matrix}\\right]$"
          },
          "metadata": {},
          "execution_count": 109
        }
      ]
    },
    {
      "cell_type": "code",
      "source": [
        "A[0:1,1:2]"
      ],
      "metadata": {
        "colab": {
          "base_uri": "https://localhost:8080/",
          "height": 38
        },
        "id": "9MSbmXBp42Jk",
        "outputId": "d3783ae3-7dcf-4e58-8473-3c1475859c24"
      },
      "execution_count": null,
      "outputs": [
        {
          "output_type": "execute_result",
          "data": {
            "text/plain": [
              "Matrix([[-1]])"
            ],
            "text/latex": "$\\displaystyle \\left[\\begin{matrix}-1\\end{matrix}\\right]$"
          },
          "metadata": {},
          "execution_count": 95
        }
      ]
    },
    {
      "cell_type": "code",
      "source": [
        "def intercambioc(A,i,j):\n",
        "  A = A.copy()\n",
        "  b = A[:,i:i+1].copy()\n",
        "  A[:,i:i+1] = A[:,j:j+1]\n",
        "  A[:,j:j+1] = b\n",
        "  return A.copy()"
      ],
      "metadata": {
        "id": "jpARDDnx5R0E"
      },
      "execution_count": null,
      "outputs": []
    },
    {
      "cell_type": "code",
      "source": [
        "A"
      ],
      "metadata": {
        "colab": {
          "base_uri": "https://localhost:8080/",
          "height": 78
        },
        "id": "LUD_PQep6ng0",
        "outputId": "34149a2d-3c16-41d0-9f0e-0fd757b45763"
      },
      "execution_count": null,
      "outputs": [
        {
          "output_type": "execute_result",
          "data": {
            "text/plain": [
              "Matrix([\n",
              "[1, -1,  4],\n",
              "[3,  2, -1],\n",
              "[2,  1, -1]])"
            ],
            "text/latex": "$\\displaystyle \\left[\\begin{matrix}1 & -1 & 4\\\\3 & 2 & -1\\\\2 & 1 & -1\\end{matrix}\\right]$"
          },
          "metadata": {},
          "execution_count": 117
        }
      ]
    },
    {
      "cell_type": "code",
      "source": [
        "intercambioc(A,1,0)"
      ],
      "metadata": {
        "colab": {
          "base_uri": "https://localhost:8080/",
          "height": 78
        },
        "id": "OkXBWKJy6KiF",
        "outputId": "1da2a1ad-ddb0-43e2-f67e-d37477db048a"
      },
      "execution_count": null,
      "outputs": [
        {
          "output_type": "execute_result",
          "data": {
            "text/plain": [
              "Matrix([\n",
              "[-1, 1,  4],\n",
              "[ 2, 3, -1],\n",
              "[ 1, 2, -1]])"
            ],
            "text/latex": "$\\displaystyle \\left[\\begin{matrix}-1 & 1 & 4\\\\2 & 3 & -1\\\\1 & 2 & -1\\end{matrix}\\right]$"
          },
          "metadata": {},
          "execution_count": 118
        }
      ]
    },
    {
      "cell_type": "code",
      "source": [
        "A"
      ],
      "metadata": {
        "colab": {
          "base_uri": "https://localhost:8080/",
          "height": 78
        },
        "id": "dYngwc0O6uCp",
        "outputId": "c7308a10-eeba-4d0a-b2c3-5b83841be3f0"
      },
      "execution_count": null,
      "outputs": [
        {
          "output_type": "execute_result",
          "data": {
            "text/plain": [
              "Matrix([\n",
              "[1, -1,  4],\n",
              "[3,  2, -1],\n",
              "[2,  1, -1]])"
            ],
            "text/latex": "$\\displaystyle \\left[\\begin{matrix}1 & -1 & 4\\\\3 & 2 & -1\\\\2 & 1 & -1\\end{matrix}\\right]$"
          },
          "metadata": {},
          "execution_count": 119
        }
      ]
    },
    {
      "cell_type": "code",
      "source": [
        "def detp(A):\n",
        "  dim = np.shape(A)\n",
        "  det = 0\n",
        "  factores = []\n",
        "  if dim[0] == dim[1]:\n",
        "    dim = dim[0]\n",
        "    if dim == 2:\n",
        "      return det2(A)\n",
        "    else:\n",
        "      for n in range(dim):\n",
        "        for m in range(dim):\n",
        "          A = intercambioc(A,n,0)\n",
        "          B = A[1:,1:].copy()\n",
        "          if np.shape(B)[0]==2:\n",
        "            det += ((-1)**(n+m)) * A[0][0] * det2(B)\n",
        "          else:\n",
        "            print(\"hola\")\n",
        "\n",
        "    return det\n",
        "\n",
        "            # Falta (-1)^n\n",
        "\n",
        "\n",
        "  else:\n",
        "    raise TypeError(\"No es una matriz cuadrada\")\n",
        "  return det"
      ],
      "metadata": {
        "id": "XsnBaZe9_yBn"
      },
      "execution_count": null,
      "outputs": []
    },
    {
      "cell_type": "code",
      "source": [
        "def submatriz(A):\n",
        "  return A[1:,1:].copy()"
      ],
      "metadata": {
        "id": "-jcBetoPBjgS"
      },
      "execution_count": null,
      "outputs": []
    },
    {
      "cell_type": "code",
      "source": [
        "submatriz(A)"
      ],
      "metadata": {
        "colab": {
          "base_uri": "https://localhost:8080/",
          "height": 58
        },
        "id": "gpFH7zlsCMxQ",
        "outputId": "51846cfc-62e5-4c02-8a7e-b09c44af920e"
      },
      "execution_count": null,
      "outputs": [
        {
          "output_type": "execute_result",
          "data": {
            "text/plain": [
              "Matrix([\n",
              "[2, -1],\n",
              "[1, -1]])"
            ],
            "text/latex": "$\\displaystyle \\left[\\begin{matrix}2 & -1\\\\1 & -1\\end{matrix}\\right]$"
          },
          "metadata": {},
          "execution_count": 174
        }
      ]
    },
    {
      "cell_type": "code",
      "source": [
        "def det(A):\n",
        "  dim = np.shape(A)\n",
        "  det = 0\n",
        "  factores = []\n",
        "  if dim[0] == dim[1]:\n",
        "    dim = dim[0]\n",
        "    if dim == 2:\n",
        "      return det2(A)\n",
        "    else:\n",
        "      for n in range(dim):\n",
        "        C = intercambioc(A,n,0)\n",
        "        B = submatriz(C)\n",
        "        if np.shape(B)[0]==2:\n",
        "          display(sy.Matrix(B))\n",
        "          for m in range(dim):\n",
        "            det += ((-1)**(n+m+1)) * C[0:1,0:1] * det2(B)\n",
        "\n",
        "        else:\n",
        "          print(\"hola\")\n",
        "\n",
        "    return det\n",
        "\n",
        "            # Falta (-1)^n\n",
        "\n",
        "\n",
        "  else:\n",
        "    raise TypeError(\"No es una matriz cuadrada\")\n",
        "  return det"
      ],
      "metadata": {
        "id": "HNh_9qCf2hJa"
      },
      "execution_count": null,
      "outputs": []
    },
    {
      "cell_type": "code",
      "source": [
        "ma"
      ],
      "metadata": {
        "colab": {
          "base_uri": "https://localhost:8080/"
        },
        "id": "pKK2GI729oNF",
        "outputId": "9c6ce58b-acf7-438c-b027-a0220f21b14a"
      },
      "execution_count": null,
      "outputs": [
        {
          "output_type": "execute_result",
          "data": {
            "text/plain": [
              "matrix([[ 1, -1,  4],\n",
              "        [ 3,  2, -1],\n",
              "        [ 2,  1, -1]])"
            ]
          },
          "metadata": {},
          "execution_count": 148
        }
      ]
    },
    {
      "cell_type": "code",
      "source": [
        "ma[1:,1:]"
      ],
      "metadata": {
        "colab": {
          "base_uri": "https://localhost:8080/"
        },
        "id": "j9-YdyYV9971",
        "outputId": "7adaf43b-f7ba-42b4-e456-3062092a6ce6"
      },
      "execution_count": null,
      "outputs": [
        {
          "output_type": "execute_result",
          "data": {
            "text/plain": [
              "matrix([[ 2, -1],\n",
              "        [ 1, -1]])"
            ]
          },
          "metadata": {},
          "execution_count": 149
        }
      ]
    },
    {
      "cell_type": "code",
      "source": [
        "np.shape(mb)[0] ==2"
      ],
      "metadata": {
        "colab": {
          "base_uri": "https://localhost:8080/"
        },
        "id": "6T5yJzXE9uBS",
        "outputId": "a2c527ca-b182-4e1d-de0a-dca77861d1e1"
      },
      "execution_count": null,
      "outputs": [
        {
          "output_type": "execute_result",
          "data": {
            "text/plain": [
              "True"
            ]
          },
          "metadata": {},
          "execution_count": 145
        }
      ]
    },
    {
      "cell_type": "code",
      "source": [
        "A.det()"
      ],
      "metadata": {
        "colab": {
          "base_uri": "https://localhost:8080/",
          "height": 37
        },
        "id": "QiG1r5xA-Pn6",
        "outputId": "ce813d1b-2dff-47c6-d272-a5c1457e578d"
      },
      "execution_count": null,
      "outputs": [
        {
          "output_type": "execute_result",
          "data": {
            "text/plain": [
              "-6"
            ],
            "text/latex": "$\\displaystyle -6$"
          },
          "metadata": {},
          "execution_count": 152
        }
      ]
    },
    {
      "cell_type": "code",
      "source": [
        "A"
      ],
      "metadata": {
        "colab": {
          "base_uri": "https://localhost:8080/",
          "height": 78
        },
        "id": "wHSFG0ZI_qdR",
        "outputId": "f1aa80b0-0d0b-40ec-935c-41fc374f58ce"
      },
      "execution_count": null,
      "outputs": [
        {
          "output_type": "execute_result",
          "data": {
            "text/plain": [
              "Matrix([\n",
              "[1, -1,  4],\n",
              "[3,  2, -1],\n",
              "[2,  1, -1]])"
            ],
            "text/latex": "$\\displaystyle \\left[\\begin{matrix}1 & -1 & 4\\\\3 & 2 & -1\\\\2 & 1 & -1\\end{matrix}\\right]$"
          },
          "metadata": {},
          "execution_count": 170
        }
      ]
    },
    {
      "cell_type": "code",
      "source": [
        "det(ma)"
      ],
      "metadata": {
        "colab": {
          "base_uri": "https://localhost:8080/",
          "height": 156
        },
        "id": "giUZtY9N9jiO",
        "outputId": "064d9a42-819b-418f-ef2d-a37606cad901"
      },
      "execution_count": null,
      "outputs": [
        {
          "output_type": "display_data",
          "data": {
            "text/plain": [
              "Matrix([\n",
              "[2, -1],\n",
              "[1, -1]])"
            ],
            "text/latex": "$\\displaystyle \\left[\\begin{matrix}2 & -1\\\\1 & -1\\end{matrix}\\right]$"
          },
          "metadata": {}
        },
        {
          "output_type": "display_data",
          "data": {
            "text/plain": [
              "Matrix([\n",
              "[3, -1],\n",
              "[2, -1]])"
            ],
            "text/latex": "$\\displaystyle \\left[\\begin{matrix}3 & -1\\\\2 & -1\\end{matrix}\\right]$"
          },
          "metadata": {}
        },
        {
          "output_type": "display_data",
          "data": {
            "text/plain": [
              "Matrix([\n",
              "[2, 3],\n",
              "[1, 2]])"
            ],
            "text/latex": "$\\displaystyle \\left[\\begin{matrix}2 & 3\\\\1 & 2\\end{matrix}\\right]$"
          },
          "metadata": {}
        },
        {
          "output_type": "execute_result",
          "data": {
            "text/plain": [
              "matrix([[-2]])"
            ]
          },
          "metadata": {},
          "execution_count": 182
        }
      ]
    },
    {
      "cell_type": "code",
      "source": [
        "mb[1:,1:]"
      ],
      "metadata": {
        "colab": {
          "base_uri": "https://localhost:8080/"
        },
        "id": "tUcReQHUwpF4",
        "outputId": "fa323652-602a-4952-a4be-a3e499ad495c"
      },
      "execution_count": null,
      "outputs": [
        {
          "output_type": "execute_result",
          "data": {
            "text/plain": [
              "matrix([[-1]])"
            ]
          },
          "metadata": {},
          "execution_count": 139
        }
      ]
    },
    {
      "cell_type": "code",
      "source": [
        "def polchar(A,t):\n",
        "  dim = np.shape(A)\n",
        "  I = np.diag(np.ones(dim[0]))\n",
        "  m = A-t*I\n",
        "  return np.linalg.det(m)"
      ],
      "metadata": {
        "id": "5apjHxm01kvJ"
      },
      "execution_count": null,
      "outputs": []
    },
    {
      "cell_type": "code",
      "source": [
        "def reduccion(A):\n",
        "  dim = np.shape(A)\n",
        "  for m in range(dim[0]):\n",
        "    for i in range(dim[1]):\n",
        "      if m != i:\n",
        "        if A[i][m] != 0 and A[m][m] != 0:\n",
        "          A[i] = (-1)*(A[i][m]/A[m][m])*A[m]+A[i]\n",
        "      #print(A[i])\n",
        "    if A[m][m]!= 0 :\n",
        "      A[m] = A[m]/A[m][m]\n",
        "    #if A[m] == np.zeros(dim[1]):\n",
        "     # A[m:m+1,dim[1]-1:dim[1]] = sy.Symbol(\"∞\")\n",
        "  return A\n"
      ],
      "metadata": {
        "id": "vW7Xbiggvhct"
      },
      "execution_count": null,
      "outputs": []
    }
  ]
}
