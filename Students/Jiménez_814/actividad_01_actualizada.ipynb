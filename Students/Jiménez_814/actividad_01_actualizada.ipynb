{
  "nbformat": 4,
  "nbformat_minor": 0,
  "metadata": {
    "colab": {
      "provenance": [],
      "authorship_tag": "ABX9TyNd5cvTm6BKruR1Q75iHZnh",
      "include_colab_link": true
    },
    "kernelspec": {
      "name": "python3",
      "display_name": "Python 3"
    },
    "language_info": {
      "name": "python"
    }
  },
  "cells": [
    {
      "cell_type": "markdown",
      "metadata": {
        "id": "view-in-github",
        "colab_type": "text"
      },
      "source": [
        "<a href=\"https://colab.research.google.com/github/Elizajr/CursoMetodosComputacionales/blob/main/Students/Jim%C3%A9nez_814/actividad_01_actualizada.ipynb\" target=\"_parent\"><img src=\"https://colab.research.google.com/assets/colab-badge.svg\" alt=\"Open In Colab\"/></a>"
      ]
    },
    {
      "cell_type": "code",
      "source": [
        "def doble_factorial(n):\n",
        "  if n<0:\n",
        "    return (\"Necesito un número positivo\")\n",
        "  elif n==0:\n",
        "    return 1\n",
        "  if isinstance(n,int):\n",
        "    b=1\n",
        "    while n>0:\n",
        "      b=b*n\n",
        "      n-=2\n",
        "    return b\n",
        "\n",
        "  else:\n",
        "    return (\"Necesito que la variable ingresada sea entero\")\n",
        "\n",
        "\n",
        "\n",
        "\n",
        "print(f\"El doble factorial de 6 es {doble_factorial(6)}\")\n",
        "print(f\"El doble factorial de 7 es {doble_factorial(7)}\")\n",
        "print(f\"El doble factorial de 8 es {doble_factorial(8)}\")\n"
      ],
      "metadata": {
        "colab": {
          "base_uri": "https://localhost:8080/"
        },
        "id": "7Vfmzw9qXHIy",
        "outputId": "2487fe7d-6fb8-40e3-acda-434a8c227faa"
      },
      "execution_count": null,
      "outputs": [
        {
          "output_type": "stream",
          "name": "stdout",
          "text": [
            "El doble factorial de 6 es 48\n",
            "El doble factorial de 7 es 105\n",
            "El doble factorial de 8 es 384\n"
          ]
        }
      ]
    },
    {
      "cell_type": "markdown",
      "source": [
        "El de abajo no está terminado:\n"
      ],
      "metadata": {
        "id": "lks1RNHHXsYT"
      }
    },
    {
      "cell_type": "code",
      "source": [
        "def lucas(n):\n",
        "  a=2\n",
        "  b=1\n",
        "  for i in range(1,n,1):\n",
        "    siguiente=a+b\n",
        "    a=b\n",
        "    b=siguiente\n",
        "\n",
        "  return siguiente\n",
        "\n",
        "print(f\"El término noveno de la sucesión de lucas es {lucas(9)}\")\n",
        "print(f\"El término décimo de la sucesión de lucas es {lucas(10)}\")\n",
        "print(f\"El término onceavo de la sucesión de lucas es {lucas(11)}\")"
      ],
      "metadata": {
        "id": "B3Av7nGqaiRq"
      },
      "execution_count": null,
      "outputs": []
    },
    {
      "cell_type": "code",
      "source": [
        "def binomial(n,k):\n",
        "  if isinstance(n,int)and isinstance(k,int):\n",
        "      a=1\n",
        "      r=(factorial(n))/(factorial(k)*factorial(n-k))\n",
        "      r=int(r)\n",
        "      return r\n",
        "\n",
        "  else:\n",
        "    return (\"Necesito que las variables ingresadas sean enteros\")\n",
        "\n",
        "print(f\"El coeficiente binomial de 6 y 4 es {binomial(6,4)}\")\n",
        "print(f\"El coeficiente binomial de 7 y 2 es {binomial(7,2)}\")"
      ],
      "metadata": {
        "colab": {
          "base_uri": "https://localhost:8080/"
        },
        "id": "TZnIhhPGe1Io",
        "outputId": "566538f4-1040-483a-fee4-70630fc5b321"
      },
      "execution_count": null,
      "outputs": [
        {
          "output_type": "stream",
          "name": "stdout",
          "text": [
            "El coeficiente binomial de 6 y 4 es 15\n",
            "El coeficiente binomial de 7 y 2 es 21\n"
          ]
        }
      ]
    }
  ]
}