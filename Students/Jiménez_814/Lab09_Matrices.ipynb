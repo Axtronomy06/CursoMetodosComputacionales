{
  "cells": [
    {
      "cell_type": "markdown",
      "metadata": {
        "id": "view-in-github",
        "colab_type": "text"
      },
      "source": [
        "<a href=\"https://colab.research.google.com/github/Elizajr/CursoMetodosComputacionales/blob/main/Lab09_Matrices.ipynb\" target=\"_parent\"><img src=\"https://colab.research.google.com/assets/colab-badge.svg\" alt=\"Open In Colab\"/></a>"
      ]
    },
    {
      "cell_type": "markdown",
      "metadata": {
        "id": "zX5mmeZ08lWy"
      },
      "source": [
        "<a href=\"https://colab.research.google.com/github/hernansalinas/autogrades/blob/main/Laboratorios_Taller/Lab09_Matrices_v0.ipynb\" target=\"_parent\"><img src=\"https://colab.research.google.com/assets/colab-badge.svg\" alt=\"Open In Colab\"/></a>"
      ]
    },
    {
      "cell_type": "code",
      "source": [
        "import numpy as np\n",
        "from numpy import linalg\n",
        "import sympy as sy\n",
        "import pylab as plt"
      ],
      "metadata": {
        "id": "MB0oTdsFf3FF"
      },
      "execution_count": 113,
      "outputs": []
    },
    {
      "cell_type": "markdown",
      "metadata": {
        "id": "zRInnDiKcbSB"
      },
      "source": [
        "# Matrices\n",
        "\n",
        "1. **Modelo de encriptación**\n",
        "\n",
        "Un proceso para encriptar un mensaje secreto es usar cierta matrix cuadrada cuyos elementos son enteros con elementos enteros en la inversa. Se recibe un mensaje, se asigna un número a cada letra Por ejemplo, A=1, B=2, C=3, ... etc y espacio=27), se arreglan los números en una matriz de izquierda a derecha en cada fila, donde el número de elementos en la fila es igual al tamaño de la matriz de código, se multiplica esa matriz por la matriz de código por la derecha, se transcribe el mensaje en una cadena de números y se manda el mensaje.\n",
        "\n",
        "La persona que debe recibir el mensaje conoce la matriz de código. El o ella arrglan el mensaje encriptado en una matriz de izquierda a derecha en cada fila, en donde el número de elementos en una fila conicide con el tamaño de la matriz de código multiplicada por la derecha, por el inverso de la matriz de código y puede leer mensaje decodificado.\n",
        "\n",
        "Usted a recibido el siguiente mensaje que fue encriptado usando la matriz A. Decodifiquelo.\n",
        "\n",
        "```\n",
        "matrix([[ 1,  2, -3,  4,  5],\n",
        "        [-2, -5,  8, -8, -9],\n",
        "        [ 1,  2, -2,  7,  9],\n",
        "        [ 1,  1,  0,  6, 12],\n",
        "        [ 2,  4, -6,  8, 11]])\n",
        "```\n",
        "\n",
        "Mensaje\n",
        "\n",
        "47,49,-19,257,487,10,-9,63,137,236, 79,142,-184,372,536,59,70,-40,332,588,\n",
        "\n",
        "la primera fila del mensaje es 47,49,-19,257,487\n",
        "\n",
        "¿Cual es el mensaje?\n",
        "\n"
      ]
    },
    {
      "cell_type": "code",
      "source": [
        "m = np.matrix([[ 1,  2, -3,  4,  5],\n",
        "              [-2, -5,  8, -8, -9],\n",
        "              [ 1,  2, -2,  7,  9],\n",
        "              [ 1,  1,  0,  6, 12],\n",
        "              [ 2,  4, -6,  8, 11]])\n",
        "m"
      ],
      "metadata": {
        "colab": {
          "base_uri": "https://localhost:8080/"
        },
        "id": "JJTUJixRfvA1",
        "outputId": "771f2133-795f-422e-cf23-4dc89361e323"
      },
      "execution_count": 114,
      "outputs": [
        {
          "output_type": "execute_result",
          "data": {
            "text/plain": [
              "matrix([[ 1,  2, -3,  4,  5],\n",
              "        [-2, -5,  8, -8, -9],\n",
              "        [ 1,  2, -2,  7,  9],\n",
              "        [ 1,  1,  0,  6, 12],\n",
              "        [ 2,  4, -6,  8, 11]])"
            ]
          },
          "metadata": {},
          "execution_count": 114
        }
      ]
    },
    {
      "cell_type": "code",
      "source": [
        "inversa = np.linalg.inv(m)\n",
        "#np.shape(inversa)\n",
        "inversa"
      ],
      "metadata": {
        "colab": {
          "base_uri": "https://localhost:8080/"
        },
        "id": "nLW_qVOSgKm-",
        "outputId": "3a578cac-7c04-48d4-a7be-bc3f43ec73dd"
      },
      "execution_count": 115,
      "outputs": [
        {
          "output_type": "execute_result",
          "data": {
            "text/plain": [
              "matrix([[ 14.,   1.,  -2.,   1.,  -5.],\n",
              "        [ 22.,  -7.,  -4.,   6., -19.],\n",
              "        [ 13.,  -3.,  -2.,   3., -10.],\n",
              "        [ -2.,   1.,   1.,  -1.,   2.],\n",
              "        [ -2.,  -0.,  -0.,  -0.,   1.]])"
            ]
          },
          "metadata": {},
          "execution_count": 115
        }
      ]
    },
    {
      "cell_type": "code",
      "source": [
        "mensaje = np.matrix([[47,49,-19,257,487],\n",
        "                    [10,-9,63,137,236],\n",
        "                    [79,142,-184,372,536],\n",
        "                    [59,70,-40,332,588]])\n",
        "#np.shape(mensaje)\n",
        "mensaje"
      ],
      "metadata": {
        "colab": {
          "base_uri": "https://localhost:8080/"
        },
        "id": "ENb2hGgBgUfL",
        "outputId": "f9b560ec-a077-405c-b945-4c3e681d19f4"
      },
      "execution_count": 116,
      "outputs": [
        {
          "output_type": "execute_result",
          "data": {
            "text/plain": [
              "matrix([[  47,   49,  -19,  257,  487],\n",
              "        [  10,   -9,   63,  137,  236],\n",
              "        [  79,  142, -184,  372,  536],\n",
              "        [  59,   70,  -40,  332,  588]])"
            ]
          },
          "metadata": {},
          "execution_count": 116
        }
      ]
    },
    {
      "cell_type": "code",
      "source": [
        "descrip = np.matmul(mensaje,inversa)\n",
        "#descrip = descrip.astype(int)+1\n",
        "descrip = descrip.reshape(1,20)\n",
        "descrip"
      ],
      "metadata": {
        "colab": {
          "base_uri": "https://localhost:8080/"
        },
        "id": "Qm01KU1bg4xG",
        "outputId": "e5412b5a-0d5f-4184-b219-8981c059de2a"
      },
      "execution_count": 117,
      "outputs": [
        {
          "output_type": "execute_result",
          "data": {
            "text/plain": [
              "matrix([[ 1., 18.,  5., 27., 25., 15., 21., 27.,  8.,  1., 22.,  9., 14.,\n",
              "          7., 27.,  6., 21., 14., 27., 27.]])"
            ]
          },
          "metadata": {},
          "execution_count": 117
        }
      ]
    },
    {
      "cell_type": "code",
      "source": [
        "letras = [\"a\", \"b\", \"c\", \"d\", \"e\", \"f\", \"g\", \"h\", \"i\", \"j\", \"k\", \"l\", \"m\", \"n\", \"o\", \"p\", \"q\", \"r\", \"s\", \"t\", \"u\", \"v\", \"w\", \"x\", \"y\", \"z\", \" \"]\n",
        "dicc ={}\n",
        "for i,e in enumerate(letras):\n",
        "  dicc[i+1] = e\n",
        "dicc"
      ],
      "metadata": {
        "colab": {
          "base_uri": "https://localhost:8080/"
        },
        "id": "x7ysoPHOhkMf",
        "outputId": "1808f648-54bc-4ce1-c0d9-63c903d1a533"
      },
      "execution_count": 118,
      "outputs": [
        {
          "output_type": "execute_result",
          "data": {
            "text/plain": [
              "{1: 'a',\n",
              " 2: 'b',\n",
              " 3: 'c',\n",
              " 4: 'd',\n",
              " 5: 'e',\n",
              " 6: 'f',\n",
              " 7: 'g',\n",
              " 8: 'h',\n",
              " 9: 'i',\n",
              " 10: 'j',\n",
              " 11: 'k',\n",
              " 12: 'l',\n",
              " 13: 'm',\n",
              " 14: 'n',\n",
              " 15: 'o',\n",
              " 16: 'p',\n",
              " 17: 'q',\n",
              " 18: 'r',\n",
              " 19: 's',\n",
              " 20: 't',\n",
              " 21: 'u',\n",
              " 22: 'v',\n",
              " 23: 'w',\n",
              " 24: 'x',\n",
              " 25: 'y',\n",
              " 26: 'z',\n",
              " 27: ' '}"
            ]
          },
          "metadata": {},
          "execution_count": 118
        }
      ]
    },
    {
      "cell_type": "code",
      "source": [
        "arreglo = np.array(descrip)\n",
        "salida = \"\"\n",
        "for i,m in enumerate(arreglo[0]):\n",
        "  #print(round(m))\n",
        "  salida += (dicc[round(m)])"
      ],
      "metadata": {
        "id": "U9NiUE1fizhG"
      },
      "execution_count": 119,
      "outputs": []
    },
    {
      "cell_type": "code",
      "source": [
        "arreglo[0]"
      ],
      "metadata": {
        "colab": {
          "base_uri": "https://localhost:8080/"
        },
        "id": "WCpE_rJWseoN",
        "outputId": "ef4257cf-dcd4-431d-9636-0bc067947aeb"
      },
      "execution_count": 120,
      "outputs": [
        {
          "output_type": "execute_result",
          "data": {
            "text/plain": [
              "array([ 1., 18.,  5., 27., 25., 15., 21., 27.,  8.,  1., 22.,  9., 14.,\n",
              "        7., 27.,  6., 21., 14., 27., 27.])"
            ]
          },
          "metadata": {},
          "execution_count": 120
        }
      ]
    },
    {
      "cell_type": "code",
      "source": [
        "salida"
      ],
      "metadata": {
        "colab": {
          "base_uri": "https://localhost:8080/",
          "height": 35
        },
        "id": "b3oeDrRmm6EL",
        "outputId": "e21d3f50-20f8-4436-def5-1098cfb35e57"
      },
      "execution_count": 121,
      "outputs": [
        {
          "output_type": "execute_result",
          "data": {
            "text/plain": [
              "'are you having fun  '"
            ],
            "application/vnd.google.colaboratory.intrinsic+json": {
              "type": "string"
            }
          },
          "metadata": {},
          "execution_count": 121
        }
      ]
    },
    {
      "cell_type": "code",
      "source": [
        "def desencriptar(entrada, contraseña):\n",
        "  letras = {1: 'a',2: 'b', 3: 'c', 4: 'd', 5: 'e', 6: 'f', 7: 'g', 8: 'h', 9: 'i', 10: 'j', 11: 'k', 12: 'l', 13: 'm', 14: 'n', 15: 'o', 16: 'p', 17: 'q', 18: 'r', 19: 's', 20: 't', 21: 'u', 22: 'v', 23: 'w', 24: 'x', 25: 'y', 26: 'z', 27: ' '}\n",
        "  inversa = np.linalg.inv(contraseña)\n",
        "  mensaje = np.matmul(entrada , inversa)\n",
        "  mensaje = np.array(mensaje)\n",
        "  salida = \"\"\n",
        "  for i in range(len(mensaje)):\n",
        "    for m in mensaje[i]:\n",
        "      salida += letras[round(m)]\n",
        "\n",
        "  return salida"
      ],
      "metadata": {
        "id": "Rhkw9Xipow7O"
      },
      "execution_count": 122,
      "outputs": []
    },
    {
      "cell_type": "code",
      "source": [
        "contraseña = np.matrix([[ 1,  2, -3,  4,  5],\n",
        "              [-2, -5,  8, -8, -9],\n",
        "              [ 1,  2, -2,  7,  9],\n",
        "              [ 1,  1,  0,  6, 12],\n",
        "              [ 2,  4, -6,  8, 11]])"
      ],
      "metadata": {
        "id": "d9NAlyIgqdFg"
      },
      "execution_count": 123,
      "outputs": []
    },
    {
      "cell_type": "code",
      "source": [
        "mensaje"
      ],
      "metadata": {
        "colab": {
          "base_uri": "https://localhost:8080/"
        },
        "id": "w3-ueqiGqxfY",
        "outputId": "3021ea7a-3de6-44db-8d0f-5b3932942782"
      },
      "execution_count": 124,
      "outputs": [
        {
          "output_type": "execute_result",
          "data": {
            "text/plain": [
              "matrix([[  47,   49,  -19,  257,  487],\n",
              "        [  10,   -9,   63,  137,  236],\n",
              "        [  79,  142, -184,  372,  536],\n",
              "        [  59,   70,  -40,  332,  588]])"
            ]
          },
          "metadata": {},
          "execution_count": 124
        }
      ]
    },
    {
      "cell_type": "code",
      "source": [
        "desencriptar(mensaje,contraseña)\n",
        "# No se porque solo me lee la primera fila"
      ],
      "metadata": {
        "colab": {
          "base_uri": "https://localhost:8080/",
          "height": 35
        },
        "id": "5VPjfFHLp7s5",
        "outputId": "da616710-9bb9-4217-ee59-2074344d06ea"
      },
      "execution_count": 125,
      "outputs": [
        {
          "output_type": "execute_result",
          "data": {
            "text/plain": [
              "'are you having fun  '"
            ],
            "application/vnd.google.colaboratory.intrinsic+json": {
              "type": "string"
            }
          },
          "metadata": {},
          "execution_count": 125
        }
      ]
    },
    {
      "cell_type": "markdown",
      "metadata": {
        "id": "EWkTmx0pfb3G"
      },
      "source": [
        "2. Operaciones matricial con regresión lineal.\n",
        "\n",
        "Cuando se desea hacer una regresión lineal multivariada, existen diferentes formas de realizar la regresión, una de ellas es encontrar el error cuadrático medio y miniminzar el conjunto de parámetros de la regresión emplando algún metodo de minimización, otra forma es encontrar la expresión analítica en forma matricial, para determinar el conjunto de parámetros de la regresión. En este último caso, la regresión lineal viene dada por la siguiente expresion generalizada:\n",
        "\n",
        "\n",
        "- $\\Theta = (X^T X)^{-1} X^T y$\n",
        "\n",
        "donte $\\Theta$ es la matriz de parametros asociados a la regresión lineal, X la matriz de características y $y$ los valores esperados, así, si tenemos una conjunto de datos en N dimensiones; la recta, plano o hyperplano puede ser calculado como:\n",
        "\n",
        "$Y=\\Theta^T X$\n",
        "\n",
        "\n",
        "En el caso de dos dimensiones, supongamos que X, y Y presentan un comportamiento lineal, y vienen dados por ( En este caso el super indice es :\n",
        "\n",
        "\n",
        "- Sea $\\vec{X}=x^{(1)}, x^{(2)}, x^{(3)}, x^{(4)}, ..., x^{(m)}$\n",
        "- Sea $\\vec{Y}=y^{(1)}, y^{(2)}, y^{(3)}, y^{(4)}, ..., y^{(m)}$\n",
        "\n",
        "Para determinar la ecuación de la recta, hay que conocer los párametros $\\theta_0 $, $\\theta_1$, que cumplen que :   $y^{(i)} = \\theta_1 x^{(i)} + \\theta_0$ la anterior expresión puede ser escrita como:\n",
        "\n",
        "\\begin{equation}\n",
        "\\begin{bmatrix}\n",
        "y^{(1)}\\\\\n",
        "y^{(2)}\\\\\n",
        "\\vdots\\\\\n",
        "y^{(m)}\\\\\n",
        "\\end{bmatrix}=\n",
        "\\begin{bmatrix}\n",
        "\\theta_0 & \\theta_1 \\\\\n",
        "\\end{bmatrix}\n",
        "\\begin{bmatrix}\n",
        "1 & 1 & \\cdots & 1 \\\\\n",
        "x_1^{(1)} & x_1^{(2)} & \\cdots & x_1^{(m)} \\\\\n",
        "\\end{bmatrix}\n",
        "\\end{equation}\n",
        "\n",
        "\n",
        "Para determinar la matriz de theta entonces se puede aplicar la ecuación:\n",
        "\n",
        "- $\\Theta = (X^T X)^{-1} X^T y$\n",
        "\n",
        "donde:\n",
        "\\begin{equation}\n",
        "X=\n",
        "\\begin{bmatrix}\n",
        "1 & x_1^{(1)} \\\\\n",
        "1 & x_1^{(2)} \\\\\n",
        "\\vdots & \\vdots \\\\\n",
        "1 & x_1^{(m)}\n",
        "\\end{bmatrix}\n",
        "\\end{equation}\n",
        "\n",
        "y\n",
        "\n",
        "\n",
        "\\begin{equation}\n",
        "y=\n",
        "\\begin{bmatrix}\n",
        "y^{(1)} \\\\\n",
        "y^{(2)} \\\\\n",
        "\\vdots\\\\\n",
        "y^{(m)}\n",
        "\\end{bmatrix}\n",
        "\\end{equation}\n",
        "\n",
        "Su tarea será construir un programa que realice la regresión lineal para los siguientes puntos:\n",
        "```python\n",
        "N = 10\n",
        "x1 = np.linspace(0, 10, N)\n",
        "noise=2*np.random.random(N)-1\n",
        "y = 0.9*x1 + noise\n",
        "```\n",
        "\n",
        "\n",
        "\n",
        "Generalice para el siguiente problema bidimensional:\n",
        "\n",
        "\n",
        "```python\n",
        "N = 10\n",
        "x1 = np.linspace(-1, 1, N)\n",
        "x2 = np.linspace(-2, 2, N)\n",
        "noise1=2*np.random.random(N)-1\n",
        "noise2=2*np.random.random(N)-1\n",
        "y = 2*(x1+noise1) - 3*(x2+noise2) + 0.0 #+ 4*np.random.random(100)\n",
        "\n",
        "N = 10\n",
        "X1, X2 = np.meshgrid(x1,x2)\n",
        "Y = 2*X1 - 3*X2 + 0.0\n",
        "fig, ax = plt.subplots(subplot_kw={\"projection\": \"3d\"})\n",
        "surf = ax.plot_surface(X1, X2, Y)\n",
        "#scatter = ax.scatter(x1, x2, y,\"-\")\n",
        "```\n"
      ]
    },
    {
      "cell_type": "code",
      "execution_count": 126,
      "metadata": {
        "id": "KswExEHkfb3H"
      },
      "outputs": [],
      "source": [
        "N = 10\n",
        "x0 = np.ones(N).reshape(1,N)\n",
        "x1 = np.linspace(0, 10, N).reshape(1,N)\n",
        "noise=2*np.random.random(N)-1\n",
        "y = 0.9*x1 + noise"
      ]
    },
    {
      "cell_type": "code",
      "source": [
        "y"
      ],
      "metadata": {
        "colab": {
          "base_uri": "https://localhost:8080/"
        },
        "id": "66SwhzQzvZNL",
        "outputId": "2b7aadce-7539-41fa-a787-2c752221f5d4"
      },
      "execution_count": 127,
      "outputs": [
        {
          "output_type": "execute_result",
          "data": {
            "text/plain": [
              "array([[-0.64159333,  1.96524584,  2.34867244,  3.16574501,  3.81235521,\n",
              "         5.01357176,  6.69751811,  6.30010589,  8.30131855,  9.97891458]])"
            ]
          },
          "metadata": {},
          "execution_count": 127
        }
      ]
    },
    {
      "cell_type": "code",
      "source": [
        "result = np.zeros((2,N))\n",
        "result[0:1,0:] = x0\n",
        "result[1:,:]=x1\n",
        "Xt = result\n"
      ],
      "metadata": {
        "id": "6JJdaFlkuEI6"
      },
      "execution_count": 128,
      "outputs": []
    },
    {
      "cell_type": "code",
      "source": [
        "X = Xt.T\n",
        "parentesis = np.matmul(Xt,X)\n",
        "inversa = np.linalg.inv(parentesis)\n",
        "multiplicacion1 = np.matmul(inversa, Xt)\n",
        "multiplicacion2 = np.matmul(y,multiplicacion1.T)\n",
        "theta = multiplicacion2\n",
        "\n",
        "Y = y.T\n",
        "Y\n",
        "#theta = np.matmul(np.matmul(np.linalg.inv(np.matmul(Xt,X)),Xt),y)"
      ],
      "metadata": {
        "colab": {
          "base_uri": "https://localhost:8080/"
        },
        "id": "mhzvl5RDsztm",
        "outputId": "41192329-55af-4360-fbe5-feefc7b3b868"
      },
      "execution_count": 129,
      "outputs": [
        {
          "output_type": "execute_result",
          "data": {
            "text/plain": [
              "array([[-0.64159333],\n",
              "       [ 1.96524584],\n",
              "       [ 2.34867244],\n",
              "       [ 3.16574501],\n",
              "       [ 3.81235521],\n",
              "       [ 5.01357176],\n",
              "       [ 6.69751811],\n",
              "       [ 6.30010589],\n",
              "       [ 8.30131855],\n",
              "       [ 9.97891458]])"
            ]
          },
          "metadata": {},
          "execution_count": 129
        }
      ]
    },
    {
      "cell_type": "code",
      "source": [
        "np.matmul(y,multiplicacion1.T)"
      ],
      "metadata": {
        "colab": {
          "base_uri": "https://localhost:8080/"
        },
        "id": "Q69yDnh4zhhW",
        "outputId": "766e8d2b-d104-4bcb-d6ed-cd8354100af6"
      },
      "execution_count": 130,
      "outputs": [
        {
          "output_type": "execute_result",
          "data": {
            "text/plain": [
              "array([[0.01716404, 0.93540427]])"
            ]
          },
          "metadata": {},
          "execution_count": 130
        }
      ]
    },
    {
      "cell_type": "code",
      "source": [
        "X"
      ],
      "metadata": {
        "colab": {
          "base_uri": "https://localhost:8080/"
        },
        "id": "qLuBd-He0Bwm",
        "outputId": "c480a13a-c996-493d-bb21-176594ce1f12"
      },
      "execution_count": 131,
      "outputs": [
        {
          "output_type": "execute_result",
          "data": {
            "text/plain": [
              "array([[ 1.        ,  0.        ],\n",
              "       [ 1.        ,  1.11111111],\n",
              "       [ 1.        ,  2.22222222],\n",
              "       [ 1.        ,  3.33333333],\n",
              "       [ 1.        ,  4.44444444],\n",
              "       [ 1.        ,  5.55555556],\n",
              "       [ 1.        ,  6.66666667],\n",
              "       [ 1.        ,  7.77777778],\n",
              "       [ 1.        ,  8.88888889],\n",
              "       [ 1.        , 10.        ]])"
            ]
          },
          "metadata": {},
          "execution_count": 131
        }
      ]
    },
    {
      "cell_type": "code",
      "source": [
        "theta[0]"
      ],
      "metadata": {
        "colab": {
          "base_uri": "https://localhost:8080/"
        },
        "id": "xMmQ1_SS0X1-",
        "outputId": "8a5e97ef-4f6c-442c-9027-eed32747f01d"
      },
      "execution_count": 132,
      "outputs": [
        {
          "output_type": "execute_result",
          "data": {
            "text/plain": [
              "array([0.01716404, 0.93540427])"
            ]
          },
          "metadata": {},
          "execution_count": 132
        }
      ]
    },
    {
      "cell_type": "code",
      "source": [
        "intercepto = theta[0][0]\n",
        "pendiente = theta[0][1]"
      ],
      "metadata": {
        "id": "bhJQU0KK0XwX"
      },
      "execution_count": 133,
      "outputs": []
    },
    {
      "cell_type": "code",
      "source": [
        "f = lambda x: pendiente*x+intercepto"
      ],
      "metadata": {
        "id": "Q9xn3Q9-1RIy"
      },
      "execution_count": 134,
      "outputs": []
    },
    {
      "cell_type": "code",
      "source": [
        "x = np.linspace(0,10,100)"
      ],
      "metadata": {
        "id": "gRxlURun1d0B"
      },
      "execution_count": 135,
      "outputs": []
    },
    {
      "cell_type": "code",
      "source": [
        "plt.figure()\n",
        "plt.plot(x,f(x), c=\"pink\")\n",
        "plt.scatter(x1,y,c=\"cyan\")\n",
        "plt.grid(c=\"paleturquoise\",linestyle=\":\")\n",
        "plt.title(\"Regresión lineal puntos dados\")\n",
        "plt.xlabel(\"x\")\n",
        "plt.ylabel(\"y\")\n",
        "plt.show()"
      ],
      "metadata": {
        "colab": {
          "base_uri": "https://localhost:8080/",
          "height": 472
        },
        "id": "ouPhHORj1bkb",
        "outputId": "826caeb3-3951-41db-dea3-e818f19d91ff"
      },
      "execution_count": 136,
      "outputs": [
        {
          "output_type": "display_data",
          "data": {
            "text/plain": [
              "<Figure size 640x480 with 1 Axes>"
            ],
            "image/png": "[encoded data removed]"
          },
          "metadata": {}
        }
      ]
    },
    {
      "cell_type": "markdown",
      "source": [
        "# Ahora tridimensional\n"
      ],
      "metadata": {
        "id": "PcWCnPqMl6sF"
      }
    },
    {
      "cell_type": "code",
      "source": [
        "N = 10\n",
        "x0 = np.ones(N).reshape(1,N)\n",
        "x1 = np.linspace(0, 10, N).reshape(1,N)\n",
        "#x1 = np.random.rand(1,N)*10\n",
        "x2b = np.random.rand(2,N)*10\n",
        "noise=2*np.random.random(N)-1\n",
        "y = 0.9*x1 + noise\n",
        "result = np.zeros((3,N))\n",
        "result[0:1,0:] = x0\n",
        "result[1:,:]=x2b\n",
        "Xt = result\n",
        "X = Xt.T"
      ],
      "metadata": {
        "id": "Ygis4NyLl87-"
      },
      "execution_count": 137,
      "outputs": []
    },
    {
      "cell_type": "code",
      "source": [
        "sy.Matrix(X)"
      ],
      "metadata": {
        "colab": {
          "base_uri": "https://localhost:8080/",
          "height": 220
        },
        "id": "7Yl6RrgUmdAf",
        "outputId": "839de12c-5c48-47e6-e176-c5072ea5a800"
      },
      "execution_count": 138,
      "outputs": [
        {
          "output_type": "execute_result",
          "data": {
            "text/plain": [
              "Matrix([\n",
              "[1.0,  4.77628295670488,  5.49384667129439],\n",
              "[1.0, 0.470707663122019,   3.2417147881395],\n",
              "[1.0,  3.12990626618689, 0.307130228034411],\n",
              "[1.0,  3.55532825958438,  1.29809903016372],\n",
              "[1.0,  8.72799516176893,  4.62868960340585],\n",
              "[1.0,   7.8850119936077,  9.51681300470235],\n",
              "[1.0,  8.25636624817501,   1.5256638301835],\n",
              "[1.0,  9.91248641441711,  9.54258010080675],\n",
              "[1.0,  6.54315574060152,  8.81999987465713],\n",
              "[1.0,  8.53274929019402, 0.367905940761486]])"
            ],
            "text/latex": "$\\displaystyle \\left[\\begin{matrix}1.0 & 4.77628295670488 & 5.49384667129439\\\\1.0 & 0.470707663122019 & 3.2417147881395\\\\1.0 & 3.12990626618689 & 0.307130228034411\\\\1.0 & 3.55532825958438 & 1.29809903016372\\\\1.0 & 8.72799516176893 & 4.62868960340585\\\\1.0 & 7.8850119936077 & 9.51681300470235\\\\1.0 & 8.25636624817501 & 1.5256638301835\\\\1.0 & 9.91248641441711 & 9.54258010080675\\\\1.0 & 6.54315574060152 & 8.81999987465713\\\\1.0 & 8.53274929019402 & 0.367905940761486\\end{matrix}\\right]$"
          },
          "metadata": {},
          "execution_count": 138
        }
      ]
    },
    {
      "cell_type": "code",
      "source": [
        "def regresion(X,y):\n",
        "  Xt = X.T\n",
        "  parentesis = np.matmul(Xt,X)\n",
        "  inversa = np.linalg.inv(parentesis)\n",
        "  multiplicacion1 = np.matmul(inversa, Xt)\n",
        "  multiplicacion2 = np.matmul(y,multiplicacion1.T)\n",
        "  theta = multiplicacion2\n",
        "\n",
        "  return theta"
      ],
      "metadata": {
        "id": "pC80nHsXoOs-"
      },
      "execution_count": 139,
      "outputs": []
    },
    {
      "cell_type": "code",
      "source": [
        "Y= y.T"
      ],
      "metadata": {
        "id": "AdEzUhtBr5MY"
      },
      "execution_count": 152,
      "outputs": []
    },
    {
      "cell_type": "code",
      "source": [
        "regresione = regresion(X,y)\n",
        "# primero intercepto\n",
        "#segundo va con x1\n",
        "# tercero en x2"
      ],
      "metadata": {
        "id": "S4JFpX-joygf"
      },
      "execution_count": 140,
      "outputs": []
    },
    {
      "cell_type": "code",
      "source": [
        "regresione[0][0]"
      ],
      "metadata": {
        "colab": {
          "base_uri": "https://localhost:8080/"
        },
        "id": "JG5EyGSpqRCU",
        "outputId": "e499bdcd-b68e-4eda-bc2a-43b07619cb09"
      },
      "execution_count": 149,
      "outputs": [
        {
          "output_type": "execute_result",
          "data": {
            "text/plain": [
              "0.49689945939884056"
            ]
          },
          "metadata": {},
          "execution_count": 149
        }
      ]
    },
    {
      "cell_type": "code",
      "source": [
        "funcion = lambda x,z: regresione[0][0]+regresione[0][1]*x+regresione[0][2]*z"
      ],
      "metadata": {
        "id": "Ja-xh0xGpW1Q"
      },
      "execution_count": 150,
      "outputs": []
    },
    {
      "cell_type": "code",
      "source": [
        "x2b[1]"
      ],
      "metadata": {
        "colab": {
          "base_uri": "https://localhost:8080/"
        },
        "id": "33BwNuVaqKwY",
        "outputId": "3ab741c1-85ee-42e3-95e0-7f39526f2ad7"
      },
      "execution_count": 145,
      "outputs": [
        {
          "output_type": "execute_result",
          "data": {
            "text/plain": [
              "array([5.49384667, 3.24171479, 0.30713023, 1.29809903, 4.6286896 ,\n",
              "       9.516813  , 1.52566383, 9.5425801 , 8.81999987, 0.36790594])"
            ]
          },
          "metadata": {},
          "execution_count": 145
        }
      ]
    },
    {
      "cell_type": "code",
      "source": [
        "funcion(x2b[0],x2b[1])"
      ],
      "metadata": {
        "colab": {
          "base_uri": "https://localhost:8080/"
        },
        "id": "vJ_xf2_mqCdJ",
        "outputId": "1aca7fa4-a10e-45e9-bb05-802b95967eef"
      },
      "execution_count": 151,
      "outputs": [
        {
          "output_type": "execute_result",
          "data": {
            "text/plain": [
              "array([3.3353583 , 0.4950182 , 2.70037421, 2.90087927, 6.24805834,\n",
              "       5.13618144, 6.23481767, 6.58159831, 4.25044441, 6.55296462])"
            ]
          },
          "metadata": {},
          "execution_count": 151
        }
      ]
    },
    {
      "cell_type": "code",
      "source": [
        "X1_bidim , X2_bidim = np.meshgrid(x2b[0],x2b[1])\n",
        "Y_bidim = funcion(X1_bidim,X2_bidim)\n",
        "\n",
        "fig,ax = plt.subplots(subplot_kw ={\"projection\":\"3d\"})\n",
        "surf = ax.plot_surface(X1_bidim , X2_bidim,Y_bidim,cmap = \"twilight\",alpha=0.1)\n",
        "ax.scatter(X1_bidim , X2_bidim,Y_bidim, label = \"Datos\", c=\"lavenderblush\")\n",
        "ax.legend()\n",
        "ax.set_title(\"Regresión 3d\")\n",
        "ax.set_xlabel(\"X1\")\n",
        "ax.set_ylabel(\"X2\")\n",
        "ax.set_zlabel(\"Y\")\n",
        "plt.show()"
      ],
      "metadata": {
        "colab": {
          "base_uri": "https://localhost:8080/",
          "height": 439
        },
        "id": "Up1gK_H9rh_s",
        "outputId": "e5e03c5e-c95d-48ac-a92e-f1a858b37ec8"
      },
      "execution_count": 166,
      "outputs": [
        {
          "output_type": "display_data",
          "data": {
            "text/plain": [
              "<Figure size 640x480 with 1 Axes>"
            ],
            "image/png": "[encoded data removed]"
          },
          "metadata": {}
        }
      ]
    }
  ],
  "metadata": {
    "colab": {
      "provenance": [],
      "include_colab_link": true
    },
    "kernelspec": {
      "display_name": "Python 3 (ipykernel)",
      "language": "python",
      "name": "python3"
    },
    "language_info": {
      "codemirror_mode": {
        "name": "ipython",
        "version": 3
      },
      "file_extension": ".py",
      "mimetype": "text/x-python",
      "name": "python",
      "nbconvert_exporter": "python",
      "pygments_lexer": "ipython3",
      "version": "3.10.9"
    }
  },
  "nbformat": 4,
  "nbformat_minor": 0
}
