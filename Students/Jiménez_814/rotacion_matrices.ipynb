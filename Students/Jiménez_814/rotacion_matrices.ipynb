{
  "nbformat": 4,
  "nbformat_minor": 0,
  "metadata": {
    "colab": {
      "provenance": [],
      "authorship_tag": "ABX9TyN0TCSHiz07BPIXA7/ThxIw",
      "include_colab_link": true
    },
    "kernelspec": {
      "name": "python3",
      "display_name": "Python 3"
    },
    "language_info": {
      "name": "python"
    }
  },
  "cells": [
    {
      "cell_type": "markdown",
      "metadata": {
        "id": "view-in-github",
        "colab_type": "text"
      },
      "source": [
        "<a href=\"https://colab.research.google.com/github/Elizajr/CursoMetodosComputacionales/blob/main/rotacion_matrices.ipynb\" target=\"_parent\"><img src=\"https://colab.research.google.com/assets/colab-badge.svg\" alt=\"Open In Colab\"/></a>"
      ]
    },
    {
      "cell_type": "code",
      "execution_count": 2,
      "metadata": {
        "id": "KkTx2_dR6wjR"
      },
      "outputs": [],
      "source": [
        "import numpy as np\n",
        "import pylab as plt"
      ]
    },
    {
      "cell_type": "code",
      "source": [
        "matriz = np.random.randint(255,size = (8,8))"
      ],
      "metadata": {
        "id": "1euvK0Dp6zUo"
      },
      "execution_count": null,
      "outputs": []
    },
    {
      "cell_type": "code",
      "source": [
        "matriz"
      ],
      "metadata": {
        "colab": {
          "base_uri": "https://localhost:8080/"
        },
        "id": "WbaMHE0x7Oj4",
        "outputId": "3ff37812-669d-47fc-8d4b-3a58f5d13e70"
      },
      "execution_count": null,
      "outputs": [
        {
          "output_type": "execute_result",
          "data": {
            "text/plain": [
              "array([[ 72,  70, 224, 159, 117, 229,  51,  64],\n",
              "       [209, 136, 100,  90,   7, 243,   4, 184],\n",
              "       [229, 166,  81, 221,  74,  28, 195, 228],\n",
              "       [211, 131, 244,  30,  84,  78, 121, 217],\n",
              "       [ 68, 190, 129,  26, 120,   9, 248,  76],\n",
              "       [235, 145, 111, 193,  96,  56,  99,  79],\n",
              "       [244, 176, 124, 244,  82, 238, 150,   4],\n",
              "       [ 17,  65, 156,  67, 151, 149, 142, 233]])"
            ]
          },
          "metadata": {},
          "execution_count": 12
        }
      ]
    },
    {
      "cell_type": "code",
      "source": [
        "#Fila 0\n",
        "matriz[0]"
      ],
      "metadata": {
        "colab": {
          "base_uri": "https://localhost:8080/"
        },
        "id": "k8GeDTYu7KEg",
        "outputId": "0345f460-cd3b-45f8-fd09-17e525cd33b4"
      },
      "execution_count": null,
      "outputs": [
        {
          "output_type": "execute_result",
          "data": {
            "text/plain": [
              "array([ 72,  70, 224, 159, 117, 229,  51,  64])"
            ]
          },
          "metadata": {},
          "execution_count": 13
        }
      ]
    },
    {
      "cell_type": "code",
      "source": [
        "#columna 0\n",
        "matriz[:,0]"
      ],
      "metadata": {
        "colab": {
          "base_uri": "https://localhost:8080/"
        },
        "id": "HF2paehA7PsG",
        "outputId": "098e2e49-9935-46e8-de08-d6a9e4e72617"
      },
      "execution_count": null,
      "outputs": [
        {
          "output_type": "execute_result",
          "data": {
            "text/plain": [
              "array([ 72, 209, 229, 211,  68, 235, 244,  17])"
            ]
          },
          "metadata": {},
          "execution_count": 14
        }
      ]
    },
    {
      "cell_type": "code",
      "source": [
        "matriz[:,0:3]"
      ],
      "metadata": {
        "colab": {
          "base_uri": "https://localhost:8080/"
        },
        "id": "u8vEez6W7UtG",
        "outputId": "39ca0e7b-04ff-41a4-cf08-8141f4b77476"
      },
      "execution_count": null,
      "outputs": [
        {
          "output_type": "execute_result",
          "data": {
            "text/plain": [
              "array([[ 72,  70, 224],\n",
              "       [209, 136, 100],\n",
              "       [229, 166,  81],\n",
              "       [211, 131, 244],\n",
              "       [ 68, 190, 129],\n",
              "       [235, 145, 111],\n",
              "       [244, 176, 124],\n",
              "       [ 17,  65, 156]])"
            ]
          },
          "metadata": {},
          "execution_count": 15
        }
      ]
    },
    {
      "cell_type": "code",
      "source": [
        "matriz[2::2,2:7:2]"
      ],
      "metadata": {
        "colab": {
          "base_uri": "https://localhost:8080/"
        },
        "id": "S5Ek0Hl277if",
        "outputId": "7db2c738-1290-4804-8592-3d5ad2c55a90"
      },
      "execution_count": null,
      "outputs": [
        {
          "output_type": "execute_result",
          "data": {
            "text/plain": [
              "array([[ 81,  74, 195],\n",
              "       [129, 120, 248],\n",
              "       [124,  82, 150]])"
            ]
          },
          "metadata": {},
          "execution_count": 16
        }
      ]
    },
    {
      "cell_type": "code",
      "source": [
        "plt.imshow(matriz,cmap=\"prism\")"
      ],
      "metadata": {
        "colab": {
          "base_uri": "https://localhost:8080/",
          "height": 447
        },
        "id": "GW_Z11Qm8Ogy",
        "outputId": "87b99a67-0de6-4019-a620-27a5323528da"
      },
      "execution_count": null,
      "outputs": [
        {
          "output_type": "execute_result",
          "data": {
            "text/plain": [
              "<matplotlib.image.AxesImage at 0x7b80793608b0>"
            ]
          },
          "metadata": {},
          "execution_count": 17
        },
        {
          "output_type": "display_data",
          "data": {
            "text/plain": [
              "<Figure size 640x480 with 1 Axes>"
            ],
            "image/png": "[encoded data removed]"
          },
          "metadata": {}
        }
      ]
    },
    {
      "cell_type": "code",
      "source": [
        "#@title Filtro\n",
        "filtro = matriz > 125\n",
        "matriz[filtro]"
      ],
      "metadata": {
        "colab": {
          "base_uri": "https://localhost:8080/"
        },
        "id": "3abhouwE-FGa",
        "outputId": "a9f9221a-fbe8-4063-d54e-93f4b5cdc980"
      },
      "execution_count": null,
      "outputs": [
        {
          "output_type": "execute_result",
          "data": {
            "text/plain": [
              "array([224, 159, 229, 209, 136, 243, 184, 229, 166, 221, 195, 228, 211,\n",
              "       131, 244, 217, 190, 129, 248, 235, 145, 193, 244, 176, 244, 238,\n",
              "       150, 156, 151, 149, 142, 233])"
            ]
          },
          "metadata": {},
          "execution_count": 21
        }
      ]
    },
    {
      "cell_type": "code",
      "source": [
        "m4 = np.random.randint(1,7,(4,4),dtype = int)\n",
        "m4"
      ],
      "metadata": {
        "colab": {
          "base_uri": "https://localhost:8080/"
        },
        "id": "1FTTN-WN7vSI",
        "outputId": "f504090f-1b82-4474-edb9-7e5cd912ddc2"
      },
      "execution_count": null,
      "outputs": [
        {
          "output_type": "execute_result",
          "data": {
            "text/plain": [
              "array([[5, 1, 4, 6],\n",
              "       [3, 4, 6, 1],\n",
              "       [3, 6, 4, 5],\n",
              "       [3, 1, 3, 5]])"
            ]
          },
          "metadata": {},
          "execution_count": 26
        }
      ]
    },
    {
      "cell_type": "code",
      "source": [
        "dim = np.shape(m4)\n",
        "print(f\"Nuestra matriz tiene un tamaño: {dim}\")"
      ],
      "metadata": {
        "colab": {
          "base_uri": "https://localhost:8080/"
        },
        "id": "moK4FIDO8MDR",
        "outputId": "63a715a3-bad6-4372-c8fe-a6b5fcef6420"
      },
      "execution_count": null,
      "outputs": [
        {
          "output_type": "stream",
          "name": "stdout",
          "text": [
            "Nuestra matriz tiene un tamaño: (4, 4)\n"
          ]
        }
      ]
    },
    {
      "cell_type": "code",
      "source": [
        "N = 3*m4\n",
        "N"
      ],
      "metadata": {
        "colab": {
          "base_uri": "https://localhost:8080/"
        },
        "id": "9H-_1bOi8-7A",
        "outputId": "c0c8a545-5088-4ab7-abc0-77ef36382508"
      },
      "execution_count": null,
      "outputs": [
        {
          "output_type": "execute_result",
          "data": {
            "text/plain": [
              "array([[15,  3, 12, 18],\n",
              "       [ 9, 12, 18,  3],\n",
              "       [ 9, 18, 12, 15],\n",
              "       [ 9,  3,  9, 15]])"
            ]
          },
          "metadata": {},
          "execution_count": 37
        }
      ]
    },
    {
      "cell_type": "code",
      "source": [
        "transp = m4.T\n",
        "transp"
      ],
      "metadata": {
        "colab": {
          "base_uri": "https://localhost:8080/"
        },
        "id": "Bq8FytFB8evq",
        "outputId": "c20efe4c-99e6-4e38-9091-912eb28f9056"
      },
      "execution_count": null,
      "outputs": [
        {
          "output_type": "execute_result",
          "data": {
            "text/plain": [
              "array([[5, 3, 3, 3],\n",
              "       [1, 4, 6, 1],\n",
              "       [4, 6, 4, 3],\n",
              "       [6, 1, 5, 5]])"
            ]
          },
          "metadata": {},
          "execution_count": 31
        }
      ]
    },
    {
      "cell_type": "code",
      "source": [
        "v = np.array([2,3,4,5])\n",
        "q=np.shape(v)"
      ],
      "metadata": {
        "id": "9X5MzBWF9Tui"
      },
      "execution_count": null,
      "outputs": []
    },
    {
      "cell_type": "code",
      "source": [
        "np.zeros((4,4))"
      ],
      "metadata": {
        "colab": {
          "base_uri": "https://localhost:8080/"
        },
        "id": "5K20FR1tAUKw",
        "outputId": "8d93cb97-4ea9-41f1-b4a6-317007e1c3cc"
      },
      "execution_count": null,
      "outputs": [
        {
          "output_type": "execute_result",
          "data": {
            "text/plain": [
              "array([[0., 0., 0., 0.],\n",
              "       [0., 0., 0., 0.],\n",
              "       [0., 0., 0., 0.],\n",
              "       [0., 0., 0., 0.]])"
            ]
          },
          "metadata": {},
          "execution_count": 70
        }
      ]
    },
    {
      "cell_type": "code",
      "source": [
        "i = np.arange(1,5,dtype = int)\n",
        "i"
      ],
      "metadata": {
        "colab": {
          "base_uri": "https://localhost:8080/"
        },
        "id": "iY_Y14AGCX3G",
        "outputId": "af49ce65-dd64-4291-b049-bb4953945ad5"
      },
      "execution_count": null,
      "outputs": [
        {
          "output_type": "execute_result",
          "data": {
            "text/plain": [
              "array([1, 2, 3, 4])"
            ]
          },
          "metadata": {},
          "execution_count": 74
        }
      ]
    },
    {
      "cell_type": "markdown",
      "source": [
        "Filas = x\n",
        "Columnas = y\n",
        "\n",
        "el número de columnas de\n",
        "A\n",
        " y el número de filas de\n",
        "B\n",
        " tiene que ser el mismo."
      ],
      "metadata": {
        "id": "TTwNaQxu_VTi"
      }
    },
    {
      "cell_type": "code",
      "source": [
        "def mult(m1,m2):\n",
        "  n1 = np.shape(m1)\n",
        "  n2 = np.shape(m2)\n",
        "\n",
        "  if len(n2) == 1:\n",
        "    m2 = m2.reshape(n2[0],1)\n",
        "    n2 = np.shape(m2)\n",
        "  # condición por si le entro un vector sin formato\n",
        "\n",
        "  res = np.zeros((n1[0],n2[1]))\n",
        "\n",
        "\n",
        "  if n1[1] == n2[0]:\n",
        "    res[0:n1[0]:,0:n2[1]:] = np.dot(m1[0:n1[0]:,0:n1[1]:], m2[0:n1[1]:,0:n2[1]:] )\n",
        "  else:\n",
        "    raise TypeError(\"No puedo multiplicarlas ya que sus dimensiones no nos lo permiten\")\n",
        "  return res\n"
      ],
      "metadata": {
        "id": "PT0TsEyI92SZ"
      },
      "execution_count": null,
      "outputs": []
    },
    {
      "cell_type": "code",
      "source": [
        "# Valor teórico\n",
        "np.matmul(m4,v)"
      ],
      "metadata": {
        "colab": {
          "base_uri": "https://localhost:8080/"
        },
        "id": "Mvt3MBnB9Zy2",
        "outputId": "6ed7fcfc-092c-4855-bd02-5f03ae066751"
      },
      "execution_count": null,
      "outputs": [
        {
          "output_type": "execute_result",
          "data": {
            "text/plain": [
              "array([59, 47, 65, 46])"
            ]
          },
          "metadata": {},
          "execution_count": 40
        }
      ]
    },
    {
      "cell_type": "code",
      "source": [
        "v= v.reshape(4,1)\n",
        "v"
      ],
      "metadata": {
        "colab": {
          "base_uri": "https://localhost:8080/"
        },
        "id": "ddOU3aBfGGCA",
        "outputId": "81a7d99b-772e-4c70-b7d9-fd5ed74e363b"
      },
      "execution_count": null,
      "outputs": [
        {
          "output_type": "execute_result",
          "data": {
            "text/plain": [
              "array([[2],\n",
              "       [3],\n",
              "       [4],\n",
              "       [5]])"
            ]
          },
          "metadata": {},
          "execution_count": 106
        }
      ]
    },
    {
      "cell_type": "code",
      "source": [
        "#probando probando\n",
        " (m4[0:4,0:4]*v[0:4,0:1])"
      ],
      "metadata": {
        "colab": {
          "base_uri": "https://localhost:8080/"
        },
        "id": "kt7lu9tfFYvz",
        "outputId": "3b23548b-efe4-4e3f-b68e-c7e2da0dfd1b"
      },
      "execution_count": null,
      "outputs": [
        {
          "output_type": "execute_result",
          "data": {
            "text/plain": [
              "array([[10,  2,  8, 12],\n",
              "       [ 9, 12, 18,  3],\n",
              "       [12, 24, 16, 20],\n",
              "       [15,  5, 15, 25]])"
            ]
          },
          "metadata": {},
          "execution_count": 126
        }
      ]
    },
    {
      "cell_type": "code",
      "source": [
        "# Funciona\n",
        "mult(m4,v)"
      ],
      "metadata": {
        "colab": {
          "base_uri": "https://localhost:8080/"
        },
        "id": "VMueP0mXDiN4",
        "outputId": "2f4b22e3-46ac-4401-8d54-04fc44fcbe32"
      },
      "execution_count": null,
      "outputs": [
        {
          "output_type": "execute_result",
          "data": {
            "text/plain": [
              "array([[59.],\n",
              "       [47.],\n",
              "       [65.],\n",
              "       [46.]])"
            ]
          },
          "metadata": {},
          "execution_count": 136
        }
      ]
    },
    {
      "cell_type": "code",
      "source": [
        "#@title Ver que funciona el error\n",
        "#mult(np.random.randint(0,5,(4,4)),np.random.randint(0,5,(2,1)))"
      ],
      "metadata": {
        "colab": {
          "base_uri": "https://localhost:8080/",
          "height": 279
        },
        "id": "8_oD5l2sIGsK",
        "outputId": "dfa43227-0734-4986-ec90-e68b88f38b33"
      },
      "execution_count": null,
      "outputs": [
        {
          "output_type": "error",
          "ename": "TypeError",
          "evalue": "ignored",
          "traceback": [
            "\u001b[0;31m---------------------------------------------------------------------------\u001b[0m",
            "\u001b[0;31mTypeError\u001b[0m                                 Traceback (most recent call last)",
            "\u001b[0;32m<ipython-input-141-efdccf61e852>\u001b[0m in \u001b[0;36m<cell line: 1>\u001b[0;34m()\u001b[0m\n\u001b[0;32m----> 1\u001b[0;31m \u001b[0mmult\u001b[0m\u001b[0;34m(\u001b[0m\u001b[0mnp\u001b[0m\u001b[0;34m.\u001b[0m\u001b[0mrandom\u001b[0m\u001b[0;34m.\u001b[0m\u001b[0mrandint\u001b[0m\u001b[0;34m(\u001b[0m\u001b[0;36m0\u001b[0m\u001b[0;34m,\u001b[0m\u001b[0;36m5\u001b[0m\u001b[0;34m,\u001b[0m\u001b[0;34m(\u001b[0m\u001b[0;36m4\u001b[0m\u001b[0;34m,\u001b[0m\u001b[0;36m4\u001b[0m\u001b[0;34m)\u001b[0m\u001b[0;34m)\u001b[0m\u001b[0;34m,\u001b[0m\u001b[0mnp\u001b[0m\u001b[0;34m.\u001b[0m\u001b[0mrandom\u001b[0m\u001b[0;34m.\u001b[0m\u001b[0mrandint\u001b[0m\u001b[0;34m(\u001b[0m\u001b[0;36m0\u001b[0m\u001b[0;34m,\u001b[0m\u001b[0;36m5\u001b[0m\u001b[0;34m,\u001b[0m\u001b[0;34m(\u001b[0m\u001b[0;36m2\u001b[0m\u001b[0;34m,\u001b[0m\u001b[0;36m1\u001b[0m\u001b[0;34m)\u001b[0m\u001b[0;34m)\u001b[0m\u001b[0;34m)\u001b[0m\u001b[0;34m\u001b[0m\u001b[0;34m\u001b[0m\u001b[0m\n\u001b[0m",
            "\u001b[0;32m<ipython-input-140-d146df36255a>\u001b[0m in \u001b[0;36mmult\u001b[0;34m(m1, m2)\u001b[0m\n\u001b[1;32m     14\u001b[0m     \u001b[0mres\u001b[0m\u001b[0;34m[\u001b[0m\u001b[0;36m0\u001b[0m\u001b[0;34m:\u001b[0m\u001b[0mn1\u001b[0m\u001b[0;34m[\u001b[0m\u001b[0;36m0\u001b[0m\u001b[0;34m]\u001b[0m\u001b[0;34m:\u001b[0m\u001b[0;34m,\u001b[0m\u001b[0;36m0\u001b[0m\u001b[0;34m:\u001b[0m\u001b[0mn2\u001b[0m\u001b[0;34m[\u001b[0m\u001b[0;36m1\u001b[0m\u001b[0;34m]\u001b[0m\u001b[0;34m:\u001b[0m\u001b[0;34m]\u001b[0m \u001b[0;34m=\u001b[0m \u001b[0mnp\u001b[0m\u001b[0;34m.\u001b[0m\u001b[0mdot\u001b[0m\u001b[0;34m(\u001b[0m\u001b[0mm1\u001b[0m\u001b[0;34m[\u001b[0m\u001b[0;36m0\u001b[0m\u001b[0;34m:\u001b[0m\u001b[0mn1\u001b[0m\u001b[0;34m[\u001b[0m\u001b[0;36m0\u001b[0m\u001b[0;34m]\u001b[0m\u001b[0;34m:\u001b[0m\u001b[0;34m,\u001b[0m\u001b[0;36m0\u001b[0m\u001b[0;34m:\u001b[0m\u001b[0mn1\u001b[0m\u001b[0;34m[\u001b[0m\u001b[0;36m1\u001b[0m\u001b[0;34m]\u001b[0m\u001b[0;34m:\u001b[0m\u001b[0;34m]\u001b[0m\u001b[0;34m,\u001b[0m \u001b[0mm2\u001b[0m\u001b[0;34m[\u001b[0m\u001b[0;36m0\u001b[0m\u001b[0;34m:\u001b[0m\u001b[0mn1\u001b[0m\u001b[0;34m[\u001b[0m\u001b[0;36m1\u001b[0m\u001b[0;34m]\u001b[0m\u001b[0;34m:\u001b[0m\u001b[0;34m,\u001b[0m\u001b[0;36m0\u001b[0m\u001b[0;34m:\u001b[0m\u001b[0mn2\u001b[0m\u001b[0;34m[\u001b[0m\u001b[0;36m1\u001b[0m\u001b[0;34m]\u001b[0m\u001b[0;34m:\u001b[0m\u001b[0;34m]\u001b[0m \u001b[0;34m)\u001b[0m\u001b[0;34m\u001b[0m\u001b[0;34m\u001b[0m\u001b[0m\n\u001b[1;32m     15\u001b[0m   \u001b[0;32melse\u001b[0m\u001b[0;34m:\u001b[0m\u001b[0;34m\u001b[0m\u001b[0;34m\u001b[0m\u001b[0m\n\u001b[0;32m---> 16\u001b[0;31m     \u001b[0;32mraise\u001b[0m \u001b[0mTypeError\u001b[0m\u001b[0;34m(\u001b[0m\u001b[0;34m\"No puedo multiplicarlas ya que sus dimensiones no nos lo permiten\"\u001b[0m\u001b[0;34m)\u001b[0m\u001b[0;34m\u001b[0m\u001b[0;34m\u001b[0m\u001b[0m\n\u001b[0m\u001b[1;32m     17\u001b[0m   \u001b[0;32mreturn\u001b[0m \u001b[0mres\u001b[0m\u001b[0;34m\u001b[0m\u001b[0;34m\u001b[0m\u001b[0m\n",
            "\u001b[0;31mTypeError\u001b[0m: No puedo multiplicarlas ya que sus dimensiones no nos lo permiten"
          ]
        }
      ]
    },
    {
      "cell_type": "code",
      "source": [
        "m = np.asmatrix(m4)"
      ],
      "metadata": {
        "id": "0g_tywrsIv9g"
      },
      "execution_count": null,
      "outputs": []
    },
    {
      "cell_type": "code",
      "source": [
        "# Sacar inversa\n",
        "m.I"
      ],
      "metadata": {
        "colab": {
          "base_uri": "https://localhost:8080/"
        },
        "id": "0FkrlFz3JLkk",
        "outputId": "bab69b31-1a85-4671-cd4d-de595e2c55b6"
      },
      "execution_count": null,
      "outputs": [
        {
          "output_type": "execute_result",
          "data": {
            "text/plain": [
              "matrix([[ 0.85294118, -0.08088235,  0.09558824, -1.10294118],\n",
              "        [ 0.08823529, -0.05147059,  0.24264706, -0.33823529],\n",
              "        [-0.44117647,  0.25735294, -0.21323529,  0.69117647],\n",
              "        [-0.26470588, -0.09558824,  0.02205882,  0.51470588]])"
            ]
          },
          "metadata": {},
          "execution_count": 144
        }
      ]
    },
    {
      "cell_type": "code",
      "source": [
        "np.linalg.det(m4)"
      ],
      "metadata": {
        "colab": {
          "base_uri": "https://localhost:8080/"
        },
        "id": "nKFOu6tGJPmh",
        "outputId": "0c54bc68-9827-4afe-a94b-a27e17129bcc"
      },
      "execution_count": null,
      "outputs": [
        {
          "output_type": "execute_result",
          "data": {
            "text/plain": [
              "-135.99999999999991"
            ]
          },
          "metadata": {},
          "execution_count": 155
        }
      ]
    },
    {
      "cell_type": "markdown",
      "source": [
        "$$R(\\theta)=\\begin{bmatrix}\n",
        "\\cos \\theta & -\\sin \\theta\\\\\n",
        "\\sin \\theta & \\cos \\theta\n",
        "\\end{bmatrix}$$"
      ],
      "metadata": {
        "id": "GC6OwcH3NSek"
      }
    },
    {
      "cell_type": "code",
      "source": [
        "def rotar(theta, v):\n",
        "  R = np.array([[np.cos(theta),-np.sin(theta)],\n",
        "                [np.sin(theta), np.cos(theta)]])\n",
        "  return np.matmul(R,v)"
      ],
      "metadata": {
        "id": "t7uKuG_OLBYi"
      },
      "execution_count": 3,
      "outputs": []
    },
    {
      "cell_type": "code",
      "source": [
        "v = np.array([1,1])\n",
        "theta = np.deg2rad(20)\n"
      ],
      "metadata": {
        "id": "HX8WcxnxLb_K"
      },
      "execution_count": 4,
      "outputs": []
    },
    {
      "cell_type": "code",
      "source": [
        "a=np.array([1,1])\n",
        "b=np.array([2,2])\n",
        "plt.figure()\n",
        "#plt.quiver(a.T)\n",
        "plt.plot(v)\n",
        "plt.plot(rotar(theta,v))\n",
        "#plt.arrow([0,0],[v[0],v[1]])\n",
        "#plt.quiver(v,np.array([0,0]))\n",
        "plt.grid()\n",
        "# debe haber una forma diferente que tenga algo de sentido\n",
        "#plt.quiver(rotar(theta , v)[0],rotar(theta , v)[1])\n",
        "plt.show()"
      ],
      "metadata": {
        "colab": {
          "base_uri": "https://localhost:8080/",
          "height": 430
        },
        "id": "1FlVlh1oLgEW",
        "outputId": "9a6f9f44-30a6-4a71-e3f7-7909290f55d6"
      },
      "execution_count": 5,
      "outputs": [
        {
          "output_type": "display_data",
          "data": {
            "text/plain": [
              "<Figure size 640x480 with 1 Axes>"
            ],
            "image/png": "[encoded data removed]"
          },
          "metadata": {}
        }
      ]
    },
    {
      "cell_type": "code",
      "source": [],
      "metadata": {
        "id": "DtJIx0D9N5FG"
      },
      "execution_count": null,
      "outputs": []
    }
  ]
}
