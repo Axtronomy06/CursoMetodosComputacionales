{
  "cells": [
    {
      "cell_type": "markdown",
      "metadata": {
        "id": "view-in-github",
        "colab_type": "text"
      },
      "source": [
        "<a href=\"https://colab.research.google.com/github/Elizajr/CursoMetodosComputacionales/blob/main/Lab05_errores.ipynb\" target=\"_parent\"><img src=\"https://colab.research.google.com/assets/colab-badge.svg\" alt=\"Open In Colab\"/></a>"
      ]
    },
    {
      "cell_type": "markdown",
      "metadata": {
        "id": "eIZ2Sde65031"
      },
      "source": [
        "<a href=\"https://colab.research.google.com/github/hernansalinas/autogrades/blob/main/Laboratorios_Taller/Lab05_errores.ipynb\" target=\"_parent\"><img src=\"https://colab.research.google.com/assets/colab-badge.svg\" alt=\"Open In Colab\"/></a>"
      ]
    },
    {
      "cell_type": "markdown",
      "metadata": {
        "id": "ifkkjBLv1XCU"
      },
      "source": [
        "\n",
        "## Exponencial, serie alternante (serieEn)\n",
        "Objetivo: Analizar el uso de la cancelación substractiva\n",
        "\n",
        "\n",
        "Copia textual del libro  [Computational Physics. ](https://www.dropbox.com/s/n06ul2r4l65khl6/Computational%20Physics%20-%20Problem%20Solving%20with%20Computers%2C%203527406263.pdf?dl=0)\n",
        "\n",
        "- Write a program that calculates $e^{-x}$\n",
        "\n",
        "\\begin{equation}\n",
        "e^{-x}=\\sum_{n=0}^{N}  (-1)^n \\frac{x^{n}}{n!}\n",
        "\\end{equation}\n",
        "\n",
        "\n",
        "- Calculate your series for $x \\le 1$ and compare it to the built-in function\n",
        "exp(x) (you may assume that the built-in exponential function is exact).\n",
        "You should pick an N for which the next term in the series is no more\n",
        "than $10^{-7}$ of the sum up to that point\n",
        "\n",
        "\\begin{equation}\n",
        "\\left| \\frac{(-x)^{N+1}}{(N+1)!} \\right | \\le \\left| 10^{-7} \\sum_{N=0}^{N} \\frac{(-x)^{n}}{n!} \\right|\n",
        "\\end{equation}\n",
        "\n",
        "- Examine the terms in the series for $x\\approx 10$ and observe the significant subtractive cancellations that occur when large terms add together to give small answers. In particular, print out the near-perfect cancellation\n",
        "at $n \\approx x − 1$.\n",
        "\n",
        "- See if better precision is obtained by being clever and using exp(−x) = 1/ exp(x) for large x values. This eliminates subtractive cancellation, but does not eliminate all roundoff errors\n",
        "\n",
        "- By progressively increasing x from 1 to 10, and then from 10 to 100, use your program to determine experimentally when the series starts to lose accuracy, and when the series no longer converges\n",
        "\n",
        "- Make a series of graphs of the error versus N for different values of x.\n",
        "\n",
        "\n",
        "## Cancelación sustractiva\n",
        "\n",
        "\n",
        "\n",
        "**serieSn**. Un ejemplo de la cancelacion substractiva es en la suma de series alternantes. Considere la serie $\\mathrm{S}_N$,  escrita  matematicamente de tres formas diferentes:\n",
        "\n",
        "-\n",
        "\\begin{equation}\n",
        "\\mathrm{S}_N^{(1)} = \\sum_{n = 1}^{2N} (-1)^n \\frac{n}{n+1}\n",
        "\\end{equation}\n",
        "\n",
        "- Sumando números pares e impares.\n",
        "\n",
        "\\begin{equation}\n",
        "\\mathrm{S}_N^{(2)} = -\\sum_{n = 1}^{N}\\frac{2n-1}{2n} + \\sum_{n=1}^{N} \\frac{2n}{2n+1}\n",
        "\\end{equation}\n",
        "\n",
        "- Combinando las series de una forma analítica\n",
        "\n",
        "\\begin{equation}\n",
        "\\mathrm{S}_N^{(3)} = \\sum_{n = 1}^{N}\\frac{1}{2n(2n+1)}\n",
        "\\end{equation}\n",
        "\n",
        "\n",
        "\n",
        "Las tres sumas $\\mathrm{S}_N^{(1)}$, $\\mathrm{S}_N^{(2)}$ y $\\mathrm{S}_N^{(3)}$ son matemáticamente iguales, pero los resultados  pueden tener resultados numéricos diferentes.\n",
        "\n",
        "\n",
        "- Escribir un programa que realice el cálculo de $\\mathrm{S}_N^{(1)}$, $\\mathrm{S}_N^{(2)}$ y $\\mathrm{S}_N^{(3)}$\n",
        "- Estudiar la convergencia de la serie para los tres casos.\n",
        "- Considere  que $S_N^{(3)}$ es la solución exacta, realizar dos graficos log-log, del error relativo en función\n",
        "del número de términos ($\\mathrm{Log_{10}} E$ VS $\\mathrm{Log_{10}} N$), para $S_N^{(1)}$ y $S_N^{(2)}$. Donde,  $E = |(S_N^{(i)} - S_N^{(3)})/S_N^{(3)}|$, i = 1, 2. Considere valores de $N = 1\\times 10^{6}$.\n",
        "- Analizar y discutir los resultados. Tenga en cuenta la discusión realizada sobre teoría de errores en la página\n",
        "39 del libro del libro [Computational Physics. ](https://www.dropbox.com/s/n06ul2r4l65khl6/Computational%20Physics%20-%20Problem%20Solving%20with%20Computers%2C%203527406263.pdf?dl=0)\n",
        "\n",
        "\n"
      ]
    },
    {
      "cell_type": "code",
      "source": [
        "from math import factorial, exp\n",
        "import numpy as np\n",
        "import matplotlib.pyplot as plt\n"
      ],
      "metadata": {
        "id": "cBt3uY2XVunH"
      },
      "execution_count": 2,
      "outputs": []
    },
    {
      "cell_type": "code",
      "source": [
        "def serie_expn(x,N):\n",
        "  N=int(N)\n",
        "  suma=0\n",
        "  for n in range(0,N+1,1):\n",
        "    if n%2==0:\n",
        "      suma+=(x**n)/factorial(n)\n",
        "    else:\n",
        "      suma-=(x**n)/factorial(n)\n",
        "  return suma\n",
        "#Según x más grande se hace necesario N mucho más grandes, para 6 el ideal es 30\n",
        "#pero según se hace más grande no funciona"
      ],
      "metadata": {
        "id": "QkGftHnjUf_X"
      },
      "execution_count": 3,
      "outputs": []
    },
    {
      "cell_type": "code",
      "source": [
        "def error(x,N):\n",
        "  return abs(serie_expn(x,N)-exp(-x))/exp(-x)*100"
      ],
      "metadata": {
        "id": "Lkf6tzqtWKuY"
      },
      "execution_count": 4,
      "outputs": []
    },
    {
      "cell_type": "code",
      "source": [
        "serie_expn(1,5)"
      ],
      "metadata": {
        "id": "dCUqn8C5ezNl",
        "outputId": "c2ba4e98-91e2-484a-c690-04a150437ed7",
        "colab": {
          "base_uri": "https://localhost:8080/"
        }
      },
      "execution_count": 5,
      "outputs": [
        {
          "output_type": "execute_result",
          "data": {
            "text/plain": [
              "0.3666666666666667"
            ]
          },
          "metadata": {},
          "execution_count": 5
        }
      ]
    },
    {
      "cell_type": "code",
      "source": [
        "N=np.linspace(3,40,41,dtype=int)\n",
        "Y=np.zeros(len(N))\n",
        "Y1=np.zeros(len(N))\n",
        "plt.figure()\n",
        "contador=0\n",
        "for n in N:\n",
        "  Y[contador]=error(9,n)\n",
        "  Y1[contador]=serie_expn(9,n)\n",
        "  contador+=1\n",
        "plt.plot(N,Y,color=\"pink\")\n",
        "plt.plot(N,Y1,color=\"blue\")\n",
        "plt.show()"
      ],
      "metadata": {
        "id": "S0Z8FbANWX2u",
        "outputId": "f0073203-b910-42e5-9c09-1d772cbfeacc",
        "colab": {
          "base_uri": "https://localhost:8080/",
          "height": 445
        }
      },
      "execution_count": 6,
      "outputs": [
        {
          "output_type": "display_data",
          "data": {
            "text/plain": [
              "<Figure size 640x480 with 1 Axes>"
            ],
            "image/png": "[encoded data removed]"
          },
          "metadata": {}
        }
      ]
    },
    {
      "cell_type": "code",
      "source": [
        "def des_abs(x,N):\n",
        "  comparar=abs(10e-7*serie_expn(x,N))\n",
        "  absoluto=abs((-x)**(N+1)/factorial(N+1))\n",
        "  #print(comparar-absoluto)\n",
        "  #return absoluto <= comparar\n",
        "  return comparar - absoluto\n"
      ],
      "metadata": {
        "id": "9rzx5GdIdZpG"
      },
      "execution_count": 7,
      "outputs": []
    },
    {
      "cell_type": "code",
      "source": [
        "des_abs(3,100)"
      ],
      "metadata": {
        "id": "PRIGLzIBhUMV",
        "outputId": "2e0f0123-0c05-4a77-dcb5-6abfa0055d37",
        "colab": {
          "base_uri": "https://localhost:8080/"
        }
      },
      "execution_count": 8,
      "outputs": [
        {
          "output_type": "execute_result",
          "data": {
            "text/plain": [
              "4.978706836786398e-08"
            ]
          },
          "metadata": {},
          "execution_count": 8
        }
      ]
    },
    {
      "cell_type": "code",
      "source": [
        "X=np.linspace(2,1000,dtype=int)\n",
        "Y=np.zeros(len(X))\n",
        "contador=0\n",
        "for x in X:\n",
        "  Y[contador]=des_abs(x,x-1)\n",
        "plt.figure()\n",
        "plt.plot(X,Y)\n",
        "plt.show()"
      ],
      "metadata": {
        "id": "A2poM3xyiM3B",
        "outputId": "ae49b2f3-8488-4b7f-f5c0-e2486eecd2d7",
        "colab": {
          "base_uri": "https://localhost:8080/",
          "height": 445
        }
      },
      "execution_count": 13,
      "outputs": [
        {
          "output_type": "display_data",
          "data": {
            "text/plain": [
              "<Figure size 640x480 with 1 Axes>"
            ],
            "image/png": "[encoded data removed]"
          },
          "metadata": {}
        }
      ]
    },
    {
      "cell_type": "code",
      "source": [
        "#e^-x es menos efectivo que 1/e^x\n",
        "#veamos esta comparación\n",
        "def exp_s(x,k):\n",
        "  k=int(k)\n",
        "  suma=0\n",
        "  for i in range(k):\n",
        "    suma+=(x**i)/factorial(i)\n",
        "  return suma\n"
      ],
      "metadata": {
        "id": "mZtD4UuEi0vL"
      },
      "execution_count": 1,
      "outputs": []
    },
    {
      "cell_type": "code",
      "source": [
        "def precision(x):\n",
        "  xi=serie_expn(x,400)\n",
        "  #serie para x negativos\n",
        "  xd=1/exp_s(x,400)\n",
        "  #dividiendo\n",
        "  xr=exp(-x)\n",
        "  #valor real\n",
        "  valores={\"Serie para negativos\":xi,\"1/serie exp\":xd,\"Valor real\":xr}\n",
        "  return dict(sorted(valores.items(), key=lambda item:item[1]))\n"
      ],
      "metadata": {
        "id": "RE-sudXp7KBF"
      },
      "execution_count": 20,
      "outputs": []
    },
    {
      "cell_type": "code",
      "source": [
        "precision(300)"
      ],
      "metadata": {
        "colab": {
          "base_uri": "https://localhost:8080/"
        },
        "id": "cYsNszf_-NWO",
        "outputId": "6bb0df34-8f78-403b-aeda-c727e849e5f1"
      },
      "execution_count": 21,
      "outputs": [
        {
          "output_type": "execute_result",
          "data": {
            "text/plain": [
              "{'Valor real': 5.148200222412013e-131,\n",
              " '1/serie exp': 5.148200336014878e-131,\n",
              " 'Serie para negativos': 4.717980157146126e+121}"
            ]
          },
          "metadata": {},
          "execution_count": 21
        }
      ]
    },
    {
      "cell_type": "code",
      "source": [
        "precision(57)"
      ],
      "metadata": {
        "colab": {
          "base_uri": "https://localhost:8080/"
        },
        "id": "PAi_rBG6_GlQ",
        "outputId": "9c129ecb-46f0-4041-e76e-6afc3898da9b"
      },
      "execution_count": 22,
      "outputs": [
        {
          "output_type": "execute_result",
          "data": {
            "text/plain": [
              "{'Serie para negativos': -33685507.89807121,\n",
              " 'Valor real': 1.7587922024243116e-25,\n",
              " '1/serie exp': 1.7587922024243128e-25}"
            ]
          },
          "metadata": {},
          "execution_count": 22
        }
      ]
    },
    {
      "cell_type": "markdown",
      "source": [
        "Así podemos ver que nos acercamos más, y tenemos un error menor cuando usamos 1/exp(x), que cuando usamos exp(-x) directamente\n"
      ],
      "metadata": {
        "id": "JGt1w4Co_Jz_"
      }
    },
    {
      "cell_type": "code",
      "source": [
        "X=np.linspace(0,10)\n",
        "Y1=np.zeros(len(X))\n",
        "Y2=np.zeros(len(X))\n",
        "Y3=np.zeros(len(X))\n",
        "contador=0\n",
        "for x in X:\n",
        "  Y1[contador]=serie_expn(x,100)\n",
        "  Y2[contador]=1/exp_s(x,100)\n",
        "  Y3[contador]=exp(x)\n",
        "  contador+=1\n",
        "plt.figure()\n",
        "plt.plot(X,Y1,c=\"magenta\",alpha=0.2)\n",
        "plt.plot(X,Y2,c=\"pink\",alpha=0.2)\n",
        "plt.plot(X,Y3,c=\"purple\",alpha=0.2)\n",
        "plt.show()"
      ],
      "metadata": {
        "colab": {
          "base_uri": "https://localhost:8080/",
          "height": 656
        },
        "id": "2S_3H3Kf_JQP",
        "outputId": "0192efcd-0525-4ac2-ffc1-f6ec456b1293"
      },
      "execution_count": 39,
      "outputs": [
        {
          "output_type": "display_data",
          "data": {
            "text/plain": [
              "<Figure size 640x480 with 1 Axes>"
            ],
            "image/png": "[encoded data removed]"
          },
          "metadata": {}
        },
        {
          "output_type": "execute_result",
          "data": {
            "text/plain": [
              "array([1.00000000e+00, 8.15395806e-01, 6.64870320e-01, 5.42132470e-01,\n",
              "       4.42052542e-01, 3.60447789e-01, 2.93907615e-01, 2.39651036e-01,\n",
              "       1.95410450e-01, 1.59336861e-01, 1.29922608e-01, 1.05938350e-01,\n",
              "       8.63816861e-02, 7.04352645e-02, 5.74326193e-02, 4.68303169e-02,\n",
              "       3.81852439e-02, 3.11360877e-02, 2.53882353e-02, 2.07014606e-02,\n",
              "       1.68798841e-02, 1.37637867e-02, 1.12229340e-02, 9.15113329e-03,\n",
              "       7.46179570e-03, 6.08431691e-03, 4.96112649e-03, 4.04528173e-03,\n",
              "       3.29850576e-03, 2.68958776e-03, 2.19307858e-03, 1.78822707e-03,\n",
              "       1.45811285e-03, 1.18893911e-03, 9.69455960e-04, 7.90490323e-04,\n",
              "       6.44562494e-04, 5.25573554e-04, 4.28550471e-04, 3.49438257e-04,\n",
              "       2.84930489e-04, 2.32331126e-04, 1.89441825e-04, 1.54470070e-04,\n",
              "       1.25954247e-04, 1.02702565e-04, 8.37432404e-05, 6.82838870e-05,\n",
              "       5.56783950e-05, 4.53999298e-05])"
            ]
          },
          "metadata": {},
          "execution_count": 39
        }
      ]
    },
    {
      "cell_type": "code",
      "source": [
        "X=np.linspace(0,100,101)\n",
        "Y1=np.zeros(len(X))\n",
        "Y2=np.zeros(len(X))\n",
        "Y3=np.zeros(len(X))\n",
        "contador=0\n",
        "for x in X:\n",
        "  Y1[contador]=serie_expn(x,100)\n",
        "  Y2[contador]=1/exp_s(x,100)\n",
        "  Y3[contador]=exp(x)\n",
        "  contador+=1\n",
        "plt.figure()\n",
        "plt.plot(X,Y1,c=\"magenta\",alpha=0.5)\n",
        "plt.plot(X,Y2,c=\"pink\",alpha=0.5)\n",
        "plt.plot(X,Y3,c=\"purple\",alpha=0.5)\n",
        "plt.show()"
      ],
      "metadata": {
        "colab": {
          "base_uri": "https://localhost:8080/",
          "height": 445
        },
        "id": "T1j2xtWLBcIf",
        "outputId": "8a214f93-b150-434a-e279-8fff4cad6291"
      },
      "execution_count": 42,
      "outputs": [
        {
          "output_type": "display_data",
          "data": {
            "text/plain": [
              "<Figure size 640x480 with 1 Axes>"
            ],
            "image/png": "[encoded data removed]"
          },
          "metadata": {}
        }
      ]
    },
    {
      "cell_type": "code",
      "source": [
        "X=np.linspace(0,100,101)\n",
        "Y1=np.zeros(len(X))\n",
        "Y2=np.zeros(len(X))\n",
        "contador=0\n",
        "for x in X:\n",
        "  Y1[contador]=abs(serie_expn(x,100)-exp(x))\n",
        "  Y2[contador]=abs(exp(x)-1/exp_s(x,100))\n",
        "  contador+=1\n",
        "plt.figure()\n",
        "plt.plot(X,Y1,c=\"magenta\",alpha=0.5)\n",
        "plt.plot(X,Y2,c=\"pink\",alpha=0.5)\n",
        "plt.show()"
      ],
      "metadata": {
        "colab": {
          "base_uri": "https://localhost:8080/",
          "height": 445
        },
        "id": "W3LexgAzBqNQ",
        "outputId": "9f389016-aa73-47ff-917f-30dd4006a056"
      },
      "execution_count": 44,
      "outputs": [
        {
          "output_type": "display_data",
          "data": {
            "text/plain": [
              "<Figure size 640x480 with 1 Axes>"
            ],
            "image/png": "[encoded data removed]"
          },
          "metadata": {}
        }
      ]
    }
  ],
  "metadata": {
    "colab": {
      "provenance": [],
      "include_colab_link": true
    },
    "kernelspec": {
      "display_name": "Python 3 (ipykernel)",
      "language": "python",
      "name": "python3"
    },
    "language_info": {
      "codemirror_mode": {
        "name": "ipython",
        "version": 3
      },
      "file_extension": ".py",
      "mimetype": "text/x-python",
      "name": "python",
      "nbconvert_exporter": "python",
      "pygments_lexer": "ipython3",
      "version": "3.8.12"
    }
  },
  "nbformat": 4,
  "nbformat_minor": 0
}
