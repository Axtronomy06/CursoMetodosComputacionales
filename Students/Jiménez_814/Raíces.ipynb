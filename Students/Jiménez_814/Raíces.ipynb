{
  "cells": [
    {
      "cell_type": "markdown",
      "metadata": {
        "id": "view-in-github",
        "colab_type": "text"
      },
      "source": [
        "<a href=\"https://colab.research.google.com/github/Elizajr/CursoMetodosComputacionales/blob/main/Ra%C3%ADces.ipynb\" target=\"_parent\"><img src=\"https://colab.research.google.com/assets/colab-badge.svg\" alt=\"Open In Colab\"/></a>"
      ]
    },
    {
      "cell_type": "markdown",
      "metadata": {
        "id": "Kp2K3_hgLEx_"
      },
      "source": [
        "# Importando librerías"
      ]
    },
    {
      "cell_type": "code",
      "execution_count": null,
      "metadata": {
        "id": "R2ngYus1LEyE"
      },
      "outputs": [],
      "source": [
        "import matplotlib.pyplot as plt\n",
        "import numpy as np\n",
        "from scipy import optimize\n",
        "from IPython.display import display, Math, Latex"
      ]
    },
    {
      "cell_type": "markdown",
      "metadata": {
        "id": "3l5PDZzpLEyH"
      },
      "source": [
        "# Bisección"
      ]
    },
    {
      "cell_type": "code",
      "execution_count": null,
      "metadata": {
        "id": "Bv63x3NDLEyH"
      },
      "outputs": [],
      "source": [
        "def bisection(f,a,b,N):\n",
        "    p=1\n",
        "    for n in range(N):\n",
        "        p=(a+b)/2\n",
        "        if f(p)==0:\n",
        "            return p\n",
        "        if f(p)*f(a)>0:\n",
        "            a=p\n",
        "        if f(p)*f(a) < 0:\n",
        "            b=p\n",
        "    return p"
      ]
    },
    {
      "cell_type": "code",
      "execution_count": null,
      "metadata": {
        "id": "mDjcB4FoLEyI",
        "outputId": "4baa05c7-693f-4b70-b459-ae1812b8b188"
      },
      "outputs": [
        {
          "name": "stdout",
          "output_type": "stream",
          "text": [
            "Valor para 0 iteraciones: 1\n",
            "Valor para 1 iteraciones: 1.0\n",
            "Valor para 2 iteraciones: 1.5\n",
            "Valor para 3 iteraciones: 1.25\n",
            "Valor para 4 iteraciones: 1.375\n",
            "Valor para 5 iteraciones: 1.3125\n",
            "Valor para 6 iteraciones: 1.28125\n",
            "Valor para 7 iteraciones: 1.265625\n",
            "Valor para 8 iteraciones: 1.2578125\n",
            "Valor para 9 iteraciones: 1.26171875\n",
            "Valor para 10 iteraciones: 1.259765625\n",
            "Valor para 11 iteraciones: 1.2607421875\n",
            "Valor para 12 iteraciones: 1.26025390625\n",
            "Valor para 13 iteraciones: 1.260009765625\n",
            "Valor para 14 iteraciones: 1.2598876953125\n",
            "Valor para 15 iteraciones: 1.25994873046875\n",
            "Valor para 16 iteraciones: 1.259918212890625\n",
            "Valor para 17 iteraciones: 1.2599334716796875\n",
            "Valor para 18 iteraciones: 1.2599258422851562\n",
            "Valor para 19 iteraciones: 1.2599220275878906\n",
            "Valor real:  1.2599210498948732\n",
            "Error absoluto:  9.296556153781665e-07\n"
          ]
        }
      ],
      "source": [
        "f= lambda x: x**3-2\n",
        "a=0\n",
        "b= 2\n",
        "N=20\n",
        "for n in range(N):\n",
        "    print(f\"Valor para {n} iteraciones: {bisection(f,a,b,n)}\")\n",
        "result=bisection(f,a,b,N)\n",
        "print(\"Valor real: \",2**(1/3))\n",
        "print(\"Error absoluto: \",abs((2**(1/3)-result)))\n"
      ]
    },
    {
      "cell_type": "code",
      "execution_count": null,
      "metadata": {
        "id": "NQ6n7a6CLEyK",
        "outputId": "56dc8be9-5028-4064-a5b9-23963c11ee71"
      },
      "outputs": [
        {
          "name": "stdout",
          "output_type": "stream",
          "text": [
            "Raíz de la función: 1.628718494926943\n"
          ]
        },
        {
          "data": {
            "image/png": "[encoded data removed]",
            "text/plain": [
              "<Figure size 432x288 with 1 Axes>"
            ]
          },
          "metadata": {
            "needs_background": "light"
          },
          "output_type": "display_data"
        }
      ],
      "source": [
        "def g(x):\n",
        "    return np.sqrt(x**2+1)+np.exp(x)*np.sin(x)-7\n",
        "a=0\n",
        "b=2\n",
        "intervalo = np.linspace(-0.4,2.4)\n",
        "Y=g(intervalo)\n",
        "r, result= optimize.bisect(g,a,b,full_output=True)\n",
        "print(f\"Raíz de la función: {r}\")\n",
        "plt.figure()\n",
        "plt.plot(intervalo,Y,c=\"m\")\n",
        "plt.plot(r,g(r),\"o\",c=\"c\")\n",
        "plt.grid()\n",
        "plt.show()"
      ]
    },
    {
      "cell_type": "markdown",
      "metadata": {
        "id": "nBdBWiUALEyM"
      },
      "source": [
        "# Método de Newton-Raphson"
      ]
    },
    {
      "cell_type": "code",
      "execution_count": null,
      "metadata": {
        "id": "PP-yDdN2LEyN"
      },
      "outputs": [],
      "source": [
        "#Se ingresa función (f), derivada (fp), tolerancia(eps) y punto de ev(x0)\n",
        "\n",
        "def newton(x0,f,fp,eps):\n",
        "    if f(x0) == 0:\n",
        "        return x0\n",
        "    else:\n",
        "        while abs(f(x0)) >= eps:\n",
        "            if fp(x0) == 0:\n",
        "                return \"Error, no lo puedo calcular porque su derivada es nula\"\n",
        "            else:\n",
        "                x0-=f(x0)/fp(x0)\n",
        "        return x0\n",
        ""
      ]
    },
    {
      "cell_type": "code",
      "execution_count": null,
      "metadata": {
        "id": "3ZR2vEICLEyO"
      },
      "outputs": [],
      "source": [
        "# Funciones\n",
        "f = lambda x: (x-1)**2\n",
        "fp = lambda x: 2*(x-1)\n",
        "eps = 1e-20"
      ]
    },
    {
      "cell_type": "code",
      "execution_count": null,
      "metadata": {
        "id": "AA41ljS8LEyP",
        "outputId": "c6f22011-7cf7-45e2-b50d-d50601760b6d"
      },
      "outputs": [
        {
          "data": {
            "text/latex": [
              "$$f(x) = (x-1)^2$$"
            ],
            "text/plain": [
              "<IPython.core.display.Latex object>"
            ]
          },
          "metadata": {},
          "output_type": "display_data"
        },
        {
          "name": "stdout",
          "output_type": "stream",
          "text": [
            "Raíces: \n",
            "Con scipy : 1.0000000074505806\n",
            "Con nuestra función : 1.0000000000582077\n"
          ]
        }
      ],
      "source": [
        "rm = newton(3,f,fp,eps)\n",
        "rsc = optimize.newton(f,3,fp)\n",
        "display(Latex(\"$$f(x) = (x-1)^2$$\"))\n",
        "print(f\"Raíces: \")\n",
        "print(f\"Con scipy : {rsc}\")\n",
        "print(f\"Con nuestra función : {rm}\")"
      ]
    },
    {
      "cell_type": "code",
      "execution_count": null,
      "metadata": {
        "id": "JQ6hXKFyLEyQ",
        "outputId": "eabeb2b1-60a0-4582-bd4d-b18dad397c81"
      },
      "outputs": [
        {
          "data": {
            "text/plain": [
              "3.3881317890172014e-21"
            ]
          },
          "execution_count": 10,
          "metadata": {},
          "output_type": "execute_result"
        }
      ],
      "source": [
        "f(rm)"
      ]
    },
    {
      "cell_type": "code",
      "execution_count": null,
      "metadata": {
        "id": "LBCIhYlyLEyQ",
        "outputId": "4da01850-eda4-49ef-bb4d-e66c20eb9c43"
      },
      "outputs": [
        {
          "data": {
            "image/png": "[encoded data removed]",
            "text/plain": [
              "<Figure size 432x288 with 1 Axes>"
            ]
          },
          "metadata": {
            "needs_background": "light"
          },
          "output_type": "display_data"
        }
      ],
      "source": [
        "x = np.linspace(-1,2,100)\n",
        "\n",
        "plt.figure()\n",
        "plt.plot(x,fp(x), c=\"pink\")\n",
        "plt.plot(x,f(x), c= \"m\")\n",
        "plt.plot(rm,f(rm),\"o\",alpha=0.3)\n",
        "plt.plot(rsc,f(rsc),\"o\",alpha=0.3)\n",
        "plt.xlabel(\"x\")\n",
        "plt.ylabel(\"$(x-1)^2$\")\n",
        "plt.plot(rm,f(rm))\n",
        "plt.plot(rsc,f(rsc))\n",
        "plt.grid()\n",
        "plt.show()"
      ]
    },
    {
      "cell_type": "markdown",
      "metadata": {
        "id": "zgeOLm2ELEyR"
      },
      "source": [
        "# Método Secante"
      ]
    },
    {
      "cell_type": "code",
      "execution_count": null,
      "metadata": {
        "id": "MA4VnCmyLEyR"
      },
      "outputs": [],
      "source": [
        "# Función\n",
        "\n",
        "f = lambda x: (x-2)**2"
      ]
    },
    {
      "cell_type": "code",
      "execution_count": null,
      "metadata": {
        "id": "qvOHHJZxLEyR"
      },
      "outputs": [],
      "source": [
        "def secante(f,x0,x1,eps):\n",
        "    if abs(f(x0)) <= eps:\n",
        "        return x0\n",
        "    if abs(f(x1)) <= eps:\n",
        "        return x1\n",
        "    else:\n",
        "        while abs(x1-x0)>= eps:\n",
        "            xs = x1 - (f(x1)*(x1-x0)/(f(x1)-f(x0)))\n",
        "            x0 = x1\n",
        "            x1 = xs\n",
        "        return xs"
      ]
    },
    {
      "cell_type": "code",
      "execution_count": null,
      "metadata": {
        "id": "jtZvuA4jLEyS",
        "outputId": "bbd884bb-fafb-48c5-bae5-c0f07422603f"
      },
      "outputs": [
        {
          "data": {
            "text/latex": [
              "$$f(x) = (x-2)^2$$"
            ],
            "text/plain": [
              "<IPython.core.display.Latex object>"
            ]
          },
          "metadata": {},
          "output_type": "display_data"
        },
        {
          "name": "stdout",
          "output_type": "stream",
          "text": [
            "Raíces: \n",
            "Con scipy : 1.9999999804565562\n",
            "Con nuestra función : 2.0000000000000004\n",
            "Diferencia : 1.9543444196301607e-08\n"
          ]
        }
      ],
      "source": [
        "rs = secante(f,0,3,eps)\n",
        "rss = optimize.newton(f,0)\n",
        "#==========================================\n",
        "display(Latex(\"$$f(x) = (x-2)^2$$\"))\n",
        "print(f\"Raíces: \")\n",
        "print(f\"Con scipy : {rss}\")\n",
        "print(f\"Con nuestra función : {rs}\")\n",
        "print(f\"Diferencia : {abs(rs-rss)}\")"
      ]
    },
    {
      "cell_type": "code",
      "execution_count": null,
      "metadata": {
        "id": "KVAENaDvLEyS",
        "outputId": "349562a3-547d-4136-bac5-472da80641f8"
      },
      "outputs": [
        {
          "data": {
            "image/png": "[encoded data removed]",
            "text/plain": [
              "<Figure size 432x288 with 1 Axes>"
            ]
          },
          "metadata": {
            "needs_background": "light"
          },
          "output_type": "display_data"
        }
      ],
      "source": [
        "rango = np.linspace(-2,6,100)\n",
        "\n",
        "plt.figure()\n",
        "plt.plot(rango,f(rango))\n",
        "plt.plot(rs, f(rs),\"o\")\n",
        "plt.ylabel(\"$(x-2)^2$\")\n",
        "plt.xlabel(\"$x$\")\n",
        "plt.grid(alpha=0.4)\n",
        "plt.show()"
      ]
    },
    {
      "cell_type": "markdown",
      "metadata": {
        "id": "G7LHITEBLEyS"
      },
      "source": [
        "# Método del punto fijo"
      ]
    },
    {
      "cell_type": "code",
      "execution_count": null,
      "metadata": {
        "id": "BdeyGkyALEyT"
      },
      "outputs": [],
      "source": [
        "# Funciones\n",
        "\n",
        "f = lambda x: (x-1)**2\n",
        "g = lambda x: x-f(x)"
      ]
    },
    {
      "cell_type": "code",
      "execution_count": null,
      "metadata": {
        "id": "6uei1ZeqLEyT"
      },
      "outputs": [],
      "source": [
        "def punto_fijo(f,p0,eps):\n",
        "    g = lambda x: x-f(x)\n",
        "    while (abs(g(p0)-p0)) >= eps:\n",
        "        p0=g(p0)\n",
        "    return p0"
      ]
    },
    {
      "cell_type": "code",
      "execution_count": null,
      "metadata": {
        "id": "-z0ht5X8LEyT",
        "outputId": "5a2b0be4-aa28-4191-a970-47f4cfd803b8"
      },
      "outputs": [
        {
          "data": {
            "text/latex": [
              "$$f(x) = (x-1)^2$$"
            ],
            "text/plain": [
              "<IPython.core.display.Latex object>"
            ]
          },
          "metadata": {},
          "output_type": "display_data"
        },
        {
          "name": "stdout",
          "output_type": "stream",
          "text": [
            "Raíces: \n",
            "Con scipy : 0.38196601125010515\n",
            "Con nuestra función : 1\n",
            "Diferencia : 0.6180339887498949\n"
          ]
        }
      ],
      "source": [
        "rf = punto_fijo(f,2,eps)\n",
        "rfs = optimize.fixed_point(f,0)\n",
        "#==========================================\n",
        "display(Latex(\"$$f(x) = (x-1)^2$$\"))\n",
        "print(f\"Raíces: \")\n",
        "print(f\"Con scipy : {rfs}\")\n",
        "print(f\"Con nuestra función : {rf}\")\n",
        "print(f\"Diferencia : {abs(rf-rfs)}\")"
      ]
    },
    {
      "cell_type": "code",
      "execution_count": null,
      "metadata": {
        "id": "WcBmialZLEyT",
        "outputId": "5da8469e-7bda-4ecb-ae71-5d8863700437"
      },
      "outputs": [
        {
          "data": {
            "image/png": "[encoded data removed]",
            "text/plain": [
              "<Figure size 432x288 with 1 Axes>"
            ]
          },
          "metadata": {
            "needs_background": "light"
          },
          "output_type": "display_data"
        }
      ],
      "source": [
        "plt.figure()\n",
        "plt.plot(rango, f(rango), c=\"m\",alpha= 0.7)\n",
        "plt.plot(rango, g(rango),c= \"pink\",alpha= 0.7)\n",
        "plt.plot(rango, rango,c = \"skyblue\",alpha= 0.7)\n",
        "plt.plot(rf,f(rf),\".\")\n",
        "plt.plot(rfs,f(rfs),\".\")\n",
        "plt.legend([\"$f(x)$\",\"$g(x)=x+f(x)$\",\"$x$\",\"Mi función\",\"Scipy\"])\n",
        "plt.xlabel(\"x\")\n",
        "plt.grid(\":\",alpha=0.4)\n",
        "plt.show()\n"
      ]
    }
  ],
  "metadata": {
    "kernelspec": {
      "display_name": "Python 3",
      "language": "python",
      "name": "python3"
    },
    "language_info": {
      "codemirror_mode": {
        "name": "ipython",
        "version": 3
      },
      "file_extension": ".py",
      "mimetype": "text/x-python",
      "name": "python",
      "nbconvert_exporter": "python",
      "pygments_lexer": "ipython3",
      "version": "3.10.2"
    },
    "orig_nbformat": 4,
    "colab": {
      "provenance": [],
      "include_colab_link": true
    }
  },
  "nbformat": 4,
  "nbformat_minor": 0
}
