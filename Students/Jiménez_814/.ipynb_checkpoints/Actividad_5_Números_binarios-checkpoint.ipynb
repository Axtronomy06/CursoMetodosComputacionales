{
 "cells": [
  {
   "cell_type": "markdown",
   "id": "ee422f80",
   "metadata": {
    "colab_type": "text",
    "id": "view-in-github"
   },
   "source": [
    "<a href=\"https://colab.research.google.com/github/Elizajr/CursoMetodosComputacionales/blob/main/Actividad_5_N%C3%BAmeros_binarios.ipynb\" target=\"_parent\"><img src=\"https://colab.research.google.com/assets/colab-badge.svg\" alt=\"Open In Colab\"/></a>"
   ]
  },
  {
   "cell_type": "markdown",
   "id": "6d26e874",
   "metadata": {
    "id": "6d26e874"
   },
   "source": [
    "<a href=\"https://colab.research.google.com/github/hernansalinas/autogrades/blob/main/Actividades_clase/Actividad_04_Binarios_Errores.ipynb\" target=\"_parent\"><img src=\"https://colab.research.google.com/assets/colab-badge.svg\" alt=\"Open In Colab\"/></a>\n",
    "\n",
    "\n",
    "\n",
    "# Actividad 4\n",
    "### Métodos computacionales para físicos  y astrónomos\n",
    "### Universidad de Antioquia\n",
    "### Prof: Hernan D. Salinas Jiménez\n"
   ]
  },
  {
   "cell_type": "code",
   "execution_count": 1,
   "id": "eae80e3f",
   "metadata": {
    "colab": {
     "base_uri": "https://localhost:8080/"
    },
    "id": "eae80e3f",
    "outputId": "96a0078f-6ecc-49a8-d06e-ad66af7fa9d5"
   },
   "outputs": [
    {
     "name": "stdout",
     "output_type": "stream",
     "text": [
      "Cloning into 'autogrades'...\n",
      "remote: Enumerating objects: 736, done.\u001b[K\n",
      "remote: Counting objects: 100% (36/36), done.\u001b[K\n",
      "remote: Compressing objects: 100% (24/24), done.\u001b[K\n",
      "remote: Total 736 (delta 21), reused 23 (delta 12), pack-reused 700\u001b[K\n",
      "Receiving objects: 100% (736/736), 38.74 MiB | 1.97 MiB/s, done.\n",
      "Resolving deltas: 100% (421/421), done.\n"
     ]
    },
    {
     "name": "stderr",
     "output_type": "stream",
     "text": [
      "/Users/neuman/Documents/Docencia/Cursos/MetodosComputacionales/CursoMetodosComputacionales/Students/Jiménez_814/autogrades/Actividades_clase/libs/libUnitTest.py:3: DeprecationWarning: Importing display from IPython.core.display is deprecated since IPython 7.14, please import from IPython display\n",
      "  from IPython.core.display import display, HTML\n"
     ]
    }
   ],
   "source": [
    "!git clone https://github.com/hernansalinas/autogrades.git\n",
    "#path=\"libs\"\n",
    "path=\"autogrades/Actividades_clase/libs\"\n",
    "%run -i {path}/libUnitTest.py"
   ]
  },
  {
   "cell_type": "markdown",
   "id": "74f1131a",
   "metadata": {
    "id": "74f1131a"
   },
   "source": [
    "### Activity 1.0:\n",
    "\n",
    "Implement a function that get the binary representation of an integer with name mybin, the algorithm should return\n",
    "a string with 8 characters, the maximun number that represent the funcition is integer of 8 bit. The name of function is\n",
    "mybin\n",
    "\n",
    "Ejexample :\n",
    "\n",
    "b=mybin(x)\n",
    "\n",
    "b='00101000'"
   ]
  },
  {
   "cell_type": "code",
   "execution_count": 2,
   "id": "4c8dabcf",
   "metadata": {
    "id": "4c8dabcf"
   },
   "outputs": [],
   "source": [
    "##!/usr/bin/env python3\n",
    "def mybin(x):\n",
    "    #print('__name__ = {}'.format(__name__))\n",
    "   # Write your code here and change the next line as required\n",
    "#\n",
    "    resultado=\"\"\n",
    "    while x!=1:\n",
    "      if x%2==0:\n",
    "        resultado+=\"0\"\n",
    "        x=x/2\n",
    "      else:\n",
    "        resultado+=\"1\"\n",
    "        x=x//2\n",
    "    resultado=resultado[::-1]\n",
    "    resultado=\"1\"+resultado\n",
    "    longitud=len(resultado)\n",
    "    if longitud!=8:\n",
    "      ceros=8-longitud\n",
    "      for i in range(1,ceros+1,1):\n",
    "        resultado=\"0\"+resultado\n",
    "    return resultado\n"
   ]
  },
  {
   "cell_type": "code",
   "execution_count": 3,
   "id": "885be6fb",
   "metadata": {
    "colab": {
     "base_uri": "https://localhost:8080/",
     "height": 215
    },
    "id": "885be6fb",
    "outputId": "597f8209-fde4-4429-d93c-2b88bc124cb3"
   },
   "outputs": [
    {
     "data": {
      "text/html": [
       "<style>\n",
       "  table { text-align: left; border-collapse: collapse; margin: 1em; caption-side: bottom; font-family: Sans-Serif; font-size: 12px}\n",
       "  caption { text-align: left; padding: 5px }\n",
       "  th, td { border: 2px solid #BFC9CA; padding: 5px }\n",
       "  th { background-color: #BFC9CA }\n",
       "  .passed { background-color: #76D7C4 }\n",
       "  .failed { background-color: #EC7063 }\n",
       "  .skipped { background-color: #EDBB99 }\n",
       "  .score { background-color: #7DCEA0 }\n",
       "  .results .points { display: none }\n",
       "  .results .message { display: block; font-size:smaller; color:#D35400 }\n",
       "  .results .note { display: block; font-size:smaller; font-decoration:italics }\n",
       "  .results .passed::before  { content: \"Passed\" } \n",
       "  .results .skipped::before  { content: \"Skipped\" } \n",
       "  .results .failed::before  { content: \"Failed\" } \n",
       "  .grade .passed  .message:empty::before { content:\"Passed\" }\n",
       "  .grade .failed  .message:empty::before { content:\"Failed\" }\n",
       "  .grade .skipped .message:empty::before { content:\"Skipped\" }   \n",
       "</style>\n",
       "<table class='results'>\n",
       "  <th class='test'>Test</th><th class='result'>Result</th></tr>\n",
       "<tr>\n",
       "  <td class='test'>\n",
       "    La salida debe ser un string \n",
       "    <div class='message'>Done</div>\n",
       "  </td>\n",
       "  <td class='result passed'></td>\n",
       "</tr>\n",
       "<tr>\n",
       "  <td class='test'>\n",
       "    La longitud del string debe ser de 8 \n",
       "    <div class='message'>Done</div>\n",
       "  </td>\n",
       "  <td class='result passed'></td>\n",
       "</tr>\n",
       "<tr>\n",
       "  <td class='test'>\n",
       "    Para el número 151 su representacion es 10010111 \n",
       "    <div class='message'>Done</div>\n",
       "  </td>\n",
       "  <td class='result passed'></td>\n",
       "</tr>  <tr><th class='score'>Total Points</th><th class='score'>3</th></tr></table>\n"
      ],
      "text/plain": [
       "<IPython.core.display.HTML object>"
      ]
     },
     "metadata": {},
     "output_type": "display_data"
    }
   ],
   "source": [
    "%run -i {path}/Act_02/test01.py"
   ]
  },
  {
   "cell_type": "markdown",
   "id": "e622b7b5",
   "metadata": {
    "id": "e622b7b5"
   },
   "source": [
    "### Activity 2.0:\n",
    "\n",
    "With the binary representation please try to implement the formula to recover the number.\n",
    "\n",
    "Hint: Use as input the binary representation as a string and invert its order\n",
    "\n",
    "```\n",
    "number32(BIN):\n",
    "\n",
    "```\n",
    "\n",
    "Where BIN is a string with the binary number\n",
    "\n",
    "Example:\n",
    "\n",
    "\n",
    "Test your solution for the next number:\n",
    "\n",
    "number32(\"00111110001000000000001000010000\")"
   ]
  },
  {
   "cell_type": "code",
   "execution_count": 4,
   "id": "5f3c6506",
   "metadata": {
    "id": "5f3c6506"
   },
   "outputs": [],
   "source": [
    "\n",
    "def numero(bin):\n",
    "  bin=bin[::-1]\n",
    "  resultado=0\n",
    "  for i in range(0,len(bin),1):\n",
    "    if bin[i]==\"1\":\n",
    "      resultado+=2**(i)\n",
    "\n",
    "  return float(resultado)\n",
    "\n",
    "#no era eso, porque estos números funcionan de otra forma"
   ]
  },
  {
   "cell_type": "code",
   "execution_count": 5,
   "id": "zY2q328Q-rK8",
   "metadata": {
    "id": "zY2q328Q-rK8"
   },
   "outputs": [],
   "source": [
    "def number32(bin):\n",
    "  if len(bin)==32:\n",
    "    #fracción\n",
    "    frac=1\n",
    "    for i in range(0,23):\n",
    "      frac+=int(bin[9+i])/2**(1+i)\n",
    "    #exponente\n",
    "    e=0\n",
    "    for i in range(0,7):\n",
    "      e+=int(bin[8-i])*2**i\n",
    "    return (((-1)**int(bin[0]))/(2**(127-e)))*(frac)\n",
    "  else:\n",
    "    print(\"Necesito un número de 32 bits\")\n"
   ]
  },
  {
   "cell_type": "code",
   "execution_count": 6,
   "id": "bFt9ILU8F7MP",
   "metadata": {
    "colab": {
     "base_uri": "https://localhost:8080/"
    },
    "id": "bFt9ILU8F7MP",
    "outputId": "159d88c6-4578-4e3a-b172-573f8af44179"
   },
   "outputs": [
    {
     "data": {
      "text/plain": [
       "0.15625786781311035"
      ]
     },
     "execution_count": 6,
     "metadata": {},
     "output_type": "execute_result"
    }
   ],
   "source": [
    "number32(\"00111110001000000000001000010000\")"
   ]
  },
  {
   "cell_type": "code",
   "execution_count": 7,
   "id": "155ffd7f",
   "metadata": {
    "colab": {
     "base_uri": "https://localhost:8080/"
    },
    "id": "155ffd7f",
    "outputId": "fb148db0-77fc-4cb3-8a83-676f19b8187b"
   },
   "outputs": [
    {
     "name": "stdout",
     "output_type": "stream",
     "text": [
      "Necesito un número de 32 bits\n"
     ]
    },
    {
     "data": {
      "text/html": [
       "<style>\n",
       "  table { text-align: left; border-collapse: collapse; margin: 1em; caption-side: bottom; font-family: Sans-Serif; font-size: 12px}\n",
       "  caption { text-align: left; padding: 5px }\n",
       "  th, td { border: 2px solid #BFC9CA; padding: 5px }\n",
       "  th { background-color: #BFC9CA }\n",
       "  .passed { background-color: #76D7C4 }\n",
       "  .failed { background-color: #EC7063 }\n",
       "  .skipped { background-color: #EDBB99 }\n",
       "  .score { background-color: #7DCEA0 }\n",
       "  .results .points { display: none }\n",
       "  .results .message { display: block; font-size:smaller; color:#D35400 }\n",
       "  .results .note { display: block; font-size:smaller; font-decoration:italics }\n",
       "  .results .passed::before  { content: \"Passed\" } \n",
       "  .results .skipped::before  { content: \"Skipped\" } \n",
       "  .results .failed::before  { content: \"Failed\" } \n",
       "  .grade .passed  .message:empty::before { content:\"Passed\" }\n",
       "  .grade .failed  .message:empty::before { content:\"Failed\" }\n",
       "  .grade .skipped .message:empty::before { content:\"Skipped\" }   \n",
       "</style>\n",
       "<table class='results'>\n",
       "  <th class='test'>Test</th><th class='result'>Result</th></tr>\n",
       "<tr>\n",
       "  <td class='test'>\n",
       "    La salida debe ser un float \n",
       "    <div class='message'>Error: &lt;class &#x27;float&#x27;&gt; != &lt;class &#x27;NoneType&#x27;&gt; : #-The expect value is &lt;class &#x27;float&#x27;&gt; and the functions test is &lt;class &#x27;NoneType&#x27;&gt;\n",
       "</div>\n",
       "  </td>\n",
       "  <td class='result failed'></td>\n",
       "</tr>\n",
       "<tr>\n",
       "  <td class='test'>\n",
       "    Realizando prueba para un numero binario \n",
       "    <div class='message'>Done</div>\n",
       "  </td>\n",
       "  <td class='result passed'></td>\n",
       "</tr>  <tr><th class='score'>Total Points</th><th class='score'>1</th></tr></table>\n"
      ],
      "text/plain": [
       "<IPython.core.display.HTML object>"
      ]
     },
     "metadata": {},
     "output_type": "display_data"
    }
   ],
   "source": [
    "%run -i {path}/Act_02/test02.py"
   ]
  },
  {
   "cell_type": "markdown",
   "id": "d11e596d",
   "metadata": {
    "id": "d11e596d"
   },
   "source": [
    "### Activity 3.0:\n",
    "1. Write a python script that calculates the double precision number represented by a 64-bits binary.\n",
    "\n",
    "the name of function should be:\n",
    "```\n",
    "number64(BIN):\n",
    "\n",
    "```\n",
    "\n",
    "2. What is the number represented by:\n",
    "\n",
    "BIN=\"0 10000000011 1011100100001111111111111111111111111111111111111111\""
   ]
  },
  {
   "cell_type": "code",
   "execution_count": 8,
   "id": "tyWjONhCGad6",
   "metadata": {
    "id": "tyWjONhCGad6"
   },
   "outputs": [
    {
     "ename": "SyntaxError",
     "evalue": "unmatched ')' (2066332955.py, line 11)",
     "output_type": "error",
     "traceback": [
      "\u001b[0;36m  Cell \u001b[0;32mIn[8], line 11\u001b[0;36m\u001b[0m\n\u001b[0;31m    return (s)*(2**(e-1023)))*(frac)\u001b[0m\n\u001b[0m                            ^\u001b[0m\n\u001b[0;31mSyntaxError\u001b[0m\u001b[0;31m:\u001b[0m unmatched ')'\n"
     ]
    }
   ],
   "source": [
    "def number64(bin):\n",
    "  s=(-1)**int(bin[0])\n",
    "  #fracción\n",
    "  frac=1\n",
    "  for i in range(1,53):\n",
    "    frac+=int(bin[11+i])/2**(i)\n",
    "  #exponente\n",
    "  e=0\n",
    "  for i in range(0,10):\n",
    "    e+=int(bin[11-i])*2**i\n",
    "  return (s)*(2**(e-1023)))*(frac)"
   ]
  },
  {
   "cell_type": "code",
   "execution_count": null,
   "id": "vmGcocMAHDqI",
   "metadata": {
    "colab": {
     "base_uri": "https://localhost:8080/"
    },
    "id": "vmGcocMAHDqI",
    "outputId": "53441ed7-f806-49ea-daa2-af290d9ce3f3"
   },
   "outputs": [],
   "source": [
    "number64(\"0100000000111011100100001111111111111111111111111111111111111111\")"
   ]
  },
  {
   "cell_type": "code",
   "execution_count": null,
   "id": "cd48a992",
   "metadata": {
    "colab": {
     "base_uri": "https://localhost:8080/",
     "height": 140
    },
    "id": "cd48a992",
    "outputId": "fd5ddf96-bce1-4ef3-f154-ffbd66e3766b",
    "scrolled": false
   },
   "outputs": [],
   "source": [
    "%run -i {path}/Act_02/test03.py"
   ]
  },
  {
   "cell_type": "code",
   "execution_count": null,
   "id": "ad05998b",
   "metadata": {},
   "outputs": [],
   "source": []
  }
 ],
 "metadata": {
  "colab": {
   "include_colab_link": true,
   "provenance": []
  },
  "kernelspec": {
   "display_name": "Python 3 (ipykernel)",
   "language": "python",
   "name": "python3"
  },
  "language_info": {
   "codemirror_mode": {
    "name": "ipython",
    "version": 3
   },
   "file_extension": ".py",
   "mimetype": "text/x-python",
   "name": "python",
   "nbconvert_exporter": "python",
   "pygments_lexer": "ipython3",
   "version": "3.10.9"
  }
 },
 "nbformat": 4,
 "nbformat_minor": 5
}
