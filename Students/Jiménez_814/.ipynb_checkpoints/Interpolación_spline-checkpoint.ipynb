{
 "cells": [
  {
   "cell_type": "markdown",
   "metadata": {
    "colab_type": "text",
    "id": "view-in-github"
   },
   "source": [
    "<a href=\"https://colab.research.google.com/github/Elizajr/CursoMetodosComputacionales/blob/main/Interpolaci%C3%B3n_spline.ipynb\" target=\"_parent\"><img src=\"https://colab.research.google.com/assets/colab-badge.svg\" alt=\"Open In Colab\"/></a>"
   ]
  },
  {
   "cell_type": "markdown",
   "metadata": {
    "id": "LAi7gwybR1zQ"
   },
   "source": [
    "# Spline interpolacion\n",
    "  "
   ]
  },
  {
   "cell_type": "code",
   "execution_count": null,
   "metadata": {
    "id": "KCviXwLQR1zV"
   },
   "outputs": [],
   "source": [
    "import numpy as np\n",
    "import matplotlib.pylab as plt\n",
    "from numpy.linalg import solve\n",
    "import sympy as sp\n",
    "from IPython.display import display, Latex\n",
    "%matplotlib inline\n",
    "#REF: Adaptado de  https://github.com/rrgalvan"
   ]
  },
  {
   "cell_type": "markdown",
   "metadata": {
    "id": "rfMQrtUZR1zf"
   },
   "source": [
    "Calcular el spline cúbico que interpola los puntos $(-1,5)$, $(0,3)$, $(1,3)$."
   ]
  },
  {
   "cell_type": "code",
   "execution_count": null,
   "metadata": {
    "id": "dWntiVEoR1zh"
   },
   "outputs": [],
   "source": [
    "x0, x1, x2 = -1, 0, 1\n",
    "_x = np.array([x0, x1, x2])\n",
    "y0, y1, y2 =  5, 3, 3\n",
    "_y = np.array([y0, y1, y2])"
   ]
  },
  {
   "cell_type": "markdown",
   "metadata": {
    "id": "l-GSuaVdR1zo"
   },
   "source": [
    "Para calcular los splines cúbicos debemos resolver el sistema de ecuaciones que define los coeficientes de los polinomios cúbicos en los subintervalos $[-1,0]$ y $[0,1]$. Empleando las condiciones del metodo de spline, y defiendo los polinomios para garantizar la continuidad en cada unos de los puntos, tenemos que:\n",
    "\n",
    "Sean:\n",
    "  * $s_0(x) = a_0 + b_0 (x-x_0) + c_0 (x-x_0)^2 + d_0 (x-x_0)^3$,\n",
    "  * $s_1(x) = a_1 + b_1 (x-x_1) + c_1 (x-x_1)^2 + d_1 (x-x_1)^3$,\n",
    "\n",
    "es decir:\n",
    "  * $s_0(x) = a_0 + b_0 (x+1) + c_0 (x+1)^2 + d_0 (x+1)^3$,\n",
    "  * $s_1(x) = a_1 + b_1 x + c_1 x^2 + d_1 x^3$.\n",
    "\n",
    "Entonces\n",
    "  * $s_0'(x) =  b_0 + 2 c_0 (x+1) + 3 d_0 (x+1)^2$,\n",
    "  * $s_0''(x) = 2 c_0 + 6 d_0 (x+1)$,\n",
    "  * $s_1'(x) =  b_1 + 2 c_1 x + 3 d_1 x^2$,\n",
    "  * $s_1''(x) = 2 c_1 + 6 d_1 x$.\n",
    "\n",
    "Tenemos 8 incógnitas, $a_i$, $b_i$, $c_i$, $d_i$ con $i=0,1$. Las ecuaciones son:\n",
    "\n",
    "  * Interpolación (y continuidad en 0):\n",
    "\n",
    "    * $s_0(-1) = 5$, es decir, $a_0=5$.\n",
    "    * $s_0(0)  = 3$, es decir, $a_0+b_0+c_0+d_0=3$.\n",
    "    * $s_1(0) = 3$, es decir, $a_1=3$.\n",
    "    * $s_1(1)  = 3$, es decir, $a_1+b_1+c_1+d_1=3$.\n",
    "    \n",
    "  * Derivabilidad:\n",
    "\n",
    "    * $s_0'(0) = s_1'(-1)$, es decir, $b_0+2c_0+3d_0 = b_1$.\n",
    "    * $s_0''(0) = s_1''(-1)$, es decir, $2c_0+6d_0 = 2c_1$.\n",
    "\n",
    "  * Condiciones naturales en los extremos, $-1$ y $1$:\n",
    "\n",
    "    * $s_0''(-1) = 0$, es decir, $2c_0=0$.\n",
    "    * $s_1''(1) = 0$, o sea $2c_1+6d_1=0$.\n",
    "\n",
    "\n",
    "De estas ecuaciones tenemos directamente $a_0$, $a_1$, y $c_1$. Le damos valores a las variables en python:"
   ]
  },
  {
   "cell_type": "code",
   "execution_count": null,
   "metadata": {
    "id": "5sxEuNwNR1zp"
   },
   "outputs": [],
   "source": [
    "a0 = 5\n",
    "a1 = 3\n",
    "c0 = 0"
   ]
  },
  {
   "cell_type": "markdown",
   "metadata": {
    "id": "eZScj4sDR1zu"
   },
   "source": [
    "Así, podemos eliminar la primera, tercera y séptima ecuación, llegando a un sistema de cinco ecuaciones con cinco incógnitas ($b_0$, $d_0$, $b_1$, $c_1$, $d_1$):\n",
    "\n",
    " * $b_0+d_0=3-a_0-c_0=-2$,\n",
    " * $b_1+c_1+d_1=3-a_1=0$,\n",
    " * $b_0+3d_0 - b_1 = -2c_0 = 0$,\n",
    " * $6d_0 - 2c_1 = -2c_0=0$\n",
    " * $2c_1+6d_1=0$\n",
    "\n",
    "\n",
    "La matriz y el segundo miembro asociados son:"
   ]
  },
  {
   "cell_type": "code",
   "execution_count": null,
   "metadata": {
    "id": "psxIbmXlR1zw"
   },
   "outputs": [],
   "source": [
    "A = np.array([\n",
    "\t[ 1, 1,   0,  0, 0],\n",
    "\t[ 0, 0,   1,  1, 1],\n",
    "\t[ 1, 3,  -1,  0, 0],\n",
    "\t[ 0, 6,   0, -2, 0],\n",
    "\t[ 0, 0,   0,  2, 6]])\n",
    "b = np.array([-2, 0, 0, 0, 0])\n",
    "#vector solución"
   ]
  },
  {
   "cell_type": "code",
   "execution_count": null,
   "metadata": {
    "colab": {
     "base_uri": "https://localhost:8080/"
    },
    "id": "WwMP5DSdVCuD",
    "outputId": "c686517e-6a49-43c7-818d-29f786b2819a"
   },
   "outputs": [
    {
     "name": "stdout",
     "output_type": "stream",
     "text": [
      "[-2.5  0.5 -1.   1.5 -0.5]\n"
     ]
    }
   ],
   "source": [
    "sol = solve(A,b)\n",
    "print(sol)"
   ]
  },
  {
   "cell_type": "markdown",
   "metadata": {
    "id": "1bjXd0wHR1z1"
   },
   "source": [
    "Ahora podemos resolver este sistema usando la función `solve()` (incluida en el modulo \"linalg\" del paquete *numpy*):"
   ]
  },
  {
   "cell_type": "code",
   "execution_count": null,
   "metadata": {
    "colab": {
     "base_uri": "https://localhost:8080/"
    },
    "id": "NWQhfHd_R1z3",
    "outputId": "76175769-6edf-4bba-840d-f78ea062b1e1"
   },
   "outputs": [
    {
     "name": "stdout",
     "output_type": "stream",
     "text": [
      "a0, b0, c0, d0 = 5.000000, -2.500000, 0.000000, 0.500000\n",
      "a1, b1, c1, d1 = 3.000000, -1.000000, 1.500000, -0.500000\n"
     ]
    }
   ],
   "source": [
    "sol = solve(A,b)\n",
    "\n",
    "# Definimos la solución como variables b0, d0, b1, c1 y d1\n",
    "b0, d0, b1, c1, d1 = sol\n",
    "\n",
    "# Y mostramos los resultados\n",
    "print (\"a0, b0, c0, d0 = %f, %f, %f, %f\" % (a0, b0, c0, d0))\n",
    "print (\"a1, b1, c1, d1 = %f, %f, %f, %f\" % (a1, b1, c1, d1))"
   ]
  },
  {
   "cell_type": "markdown",
   "metadata": {
    "id": "SP51eFLgR1z_"
   },
   "source": [
    "Para dibujar la gráfica, lo más fácil es definir los polinomios $s_0$ y $s_1$ y representarlos gráficamente."
   ]
  },
  {
   "cell_type": "code",
   "execution_count": null,
   "metadata": {
    "colab": {
     "base_uri": "https://localhost:8080/",
     "height": 724
    },
    "id": "iZCSh6rkR10A",
    "outputId": "7a1435ad-2821-4153-ce13-6f6c898a2079"
   },
   "outputs": [
    {
     "data": {
      "image/png": "[encoded data removed]",
      "text/plain": [
       "<Figure size 1000x800 with 1 Axes>"
      ]
     },
     "metadata": {},
     "output_type": "display_data"
    }
   ],
   "source": [
    "def s0(x):\n",
    "    return a0 + b0*(x+1) + c0*(x+1)**2 + d0*(x+1)**3\n",
    "#s0 es para los primeros 2 puntos\n",
    "def s1(x):\n",
    "    return a1 + b1*x + c1*x**2 + d1*x**3\n",
    "\n",
    "xx0 = np.linspace(-1,0)\n",
    "#para la primera parte de la función\n",
    "xx1 = np.linspace(0,1)\n",
    "#la segunda\n",
    "\n",
    "plt.figure(figsize=(10, 8))\n",
    "plt.plot(xx0, s0(xx0), lw=3, label = \"S0\")\n",
    "#lw, linewidth\n",
    "plt.plot(xx1, s1(xx1), lw=3, label = \"S1\")\n",
    "plt.plot(_x, _y, 'o')\n",
    "plt.axvline(color = \"k\", ls=\"-.\")\n",
    "plt.ylabel(\"f(x)\", fontsize=20)\n",
    "plt.xlabel(\"x\", fontsize=20)\n",
    "plt.xticks(fontsize=20)\n",
    "plt.yticks(fontsize=20)\n",
    "plt.legend(loc = \"upper right\", fontsize= 20)\n",
    "plt.grid()\n",
    "plt.show()"
   ]
  },
  {
   "cell_type": "markdown",
   "metadata": {
    "id": "CCSuDa8V0KKE"
   },
   "source": [
    "Puntos que traía: $(-1,5)$, $(0,3)$, $(1,3)$\n",
    "\n",
    "Realizar con un nuevo punto, elegiré $(4,1.1)$ #El profesor nos dio otro\n",
    "Sean:\n",
    "  * $s_0(x) = a_0 + b_0 (x-x_0) + c_0 (x-x_0)^2 + d_0 (x-x_0)^3 $,\n",
    "  * $s_1(x) = a_1 + b_1 (x-x_1) + c_1 (x-x_1)^2 + d_1 (x-x_1)^3 $,\n",
    "  * $s_2(x) = a_2 + b_2 (x-x_2) + c_2 (x-x_2)^2 + d_2 (x-x_2)^3 $\n",
    "\n",
    "Reemplazando:\n",
    "  * $s_0(x) = a_0 + b_0 (x+1) + c_0 (x+1)^2 + d_0 (x+1)^3 $,\n",
    "  * $s_1(x) = a_1 + b_1 (x) + c_1 (x)^2 + d_1 (x)^3 $,\n",
    "  * $s_2(x) = a_2 + b_2 (x-1) + c_2 (x-1)^2 + d_2 (x-1)^3 $\n"
   ]
  },
  {
   "cell_type": "code",
   "execution_count": null,
   "metadata": {
    "id": "h88hPxqI5ToR"
   },
   "outputs": [],
   "source": [
    "letras=[\"a\",\"b\",\"c\",\"d\"]\n",
    "v0=[sp.Symbol(f\"{s}_0\") for s in letras]\n",
    "v1=[sp.Symbol(f\"{s}_1\") for s in letras]\n",
    "v2=[sp.Symbol(f\"{s}_2\") for s in letras]\n",
    "_x=sp.Symbol(\"x\")"
   ]
  },
  {
   "cell_type": "code",
   "execution_count": null,
   "metadata": {
    "colab": {
     "base_uri": "https://localhost:8080/"
    },
    "id": "z3bwIFvz5T_j",
    "outputId": "982da06b-4ccb-4234-fc27-ae2b1889fd58"
   },
   "outputs": [
    {
     "name": "stdout",
     "output_type": "stream",
     "text": [
      "a_0 + b_0*(x + 1) + c_0*(x + 1)**2 + d_0*(x + 1)**3\n",
      "a_1 + b_1*x + c_1*x**2 + d_1*x**3\n",
      "a_2 + b_2*(x - 1) + c_2*(x - 1)**2 + d_2*(x - 1)**3\n"
     ]
    }
   ],
   "source": [
    "v=[v0,v1,v2]\n",
    "v=np.array(v)\n",
    "s=[]\n",
    "#grupo de funciones\n",
    "xx = np.array([-1,0,1,2])\n",
    "\n",
    "for i in range(3):\n",
    "  s.append(lambda x: v[i][0] + v[i][1] * (x-xx[i]) + v[i][2] * (x- xx[i])**2 + v[i][3] * (x-xx[i])**3)\n",
    "  print(s[i](_x))\n"
   ]
  },
  {
   "cell_type": "code",
   "execution_count": null,
   "metadata": {
    "colab": {
     "base_uri": "https://localhost:8080/"
    },
    "id": "z9YxxSCGqJyX",
    "outputId": "8a8001b4-19c0-46ee-fd5a-0eb75724065d"
   },
   "outputs": [
    {
     "name": "stdout",
     "output_type": "stream",
     "text": [
      "a_0 + b_0*(x + 1) + c_0*(x + 1)**2 + d_0*(x + 1)**3\n",
      "a_1 + b_1*x + c_1*x**2 + d_1*x**3\n",
      "a_2 + b_2*(x - 1) + c_2*(x - 1)**2 + d_2*(x - 1)**3\n"
     ]
    }
   ],
   "source": [
    "for i,funcion in enumerate (s):\n",
    "  print(funcion(_x))"
   ]
  },
  {
   "cell_type": "code",
   "execution_count": null,
   "metadata": {
    "colab": {
     "base_uri": "https://localhost:8080/",
     "height": 147
    },
    "id": "nl-Omz6IQNAz",
    "outputId": "0940da93-dcd4-4514-d268-56579d4e8456"
   },
   "outputs": [
    {
     "data": {
      "text/latex": [
       "s_0="
      ],
      "text/plain": [
       "<IPython.core.display.Latex object>"
      ]
     },
     "metadata": {},
     "output_type": "display_data"
    },
    {
     "data": {
      "text/latex": [
       "$\\displaystyle a_{0} + b_{0} \\left(x + 1\\right) + c_{0} \\left(x + 1\\right)^{2} + d_{0} \\left(x + 1\\right)^{3}$"
      ],
      "text/plain": [
       "a_0 + b_0*(x + 1) + c_0*(x + 1)**2 + d_0*(x + 1)**3"
      ]
     },
     "metadata": {},
     "output_type": "display_data"
    },
    {
     "data": {
      "text/latex": [
       "s_1="
      ],
      "text/plain": [
       "<IPython.core.display.Latex object>"
      ]
     },
     "metadata": {},
     "output_type": "display_data"
    },
    {
     "data": {
      "text/latex": [
       "$\\displaystyle a_{1} + b_{1} x + c_{1} x^{2} + d_{1} x^{3}$"
      ],
      "text/plain": [
       "a_1 + b_1*x + c_1*x**2 + d_1*x**3"
      ]
     },
     "metadata": {},
     "output_type": "display_data"
    },
    {
     "data": {
      "text/latex": [
       "s_2="
      ],
      "text/plain": [
       "<IPython.core.display.Latex object>"
      ]
     },
     "metadata": {},
     "output_type": "display_data"
    },
    {
     "data": {
      "text/latex": [
       "$\\displaystyle a_{2} + b_{2} \\left(x - 1\\right) + c_{2} \\left(x - 1\\right)^{2} + d_{2} \\left(x - 1\\right)^{3}$"
      ],
      "text/plain": [
       "a_2 + b_2*(x - 1) + c_2*(x - 1)**2 + d_2*(x - 1)**3"
      ]
     },
     "metadata": {},
     "output_type": "display_data"
    }
   ],
   "source": [
    "for i in range(3):\n",
    "    display(Latex(f\"s_{i}=\"),(s[i](_x)))"
   ]
  },
  {
   "cell_type": "code",
   "execution_count": null,
   "metadata": {
    "colab": {
     "base_uri": "https://localhost:8080/",
     "height": 148
    },
    "id": "pvextSwSpqcO",
    "outputId": "89a2cccb-1fd5-43d0-dbf7-97350b8025ff"
   },
   "outputs": [
    {
     "data": {
      "text/latex": [
       "s_0="
      ],
      "text/plain": [
       "<IPython.core.display.Latex object>"
      ]
     },
     "metadata": {},
     "output_type": "display_data"
    },
    {
     "data": {
      "text/latex": [
       "$\\displaystyle a_{2} + b_{2} \\left(x - 1\\right) + c_{2} \\left(x - 1\\right)^{2} + d_{2} \\left(x - 1\\right)^{3}$"
      ],
      "text/plain": [
       "a_2 + b_2*(x - 1) + c_2*(x - 1)**2 + d_2*(x - 1)**3"
      ]
     },
     "metadata": {},
     "output_type": "display_data"
    },
    {
     "data": {
      "text/latex": [
       "s_1="
      ],
      "text/plain": [
       "<IPython.core.display.Latex object>"
      ]
     },
     "metadata": {},
     "output_type": "display_data"
    },
    {
     "data": {
      "text/latex": [
       "$\\displaystyle a_{2} + b_{2} \\left(x - 1\\right) + c_{2} \\left(x - 1\\right)^{2} + d_{2} \\left(x - 1\\right)^{3}$"
      ],
      "text/plain": [
       "a_2 + b_2*(x - 1) + c_2*(x - 1)**2 + d_2*(x - 1)**3"
      ]
     },
     "metadata": {},
     "output_type": "display_data"
    },
    {
     "data": {
      "text/latex": [
       "s_2="
      ],
      "text/plain": [
       "<IPython.core.display.Latex object>"
      ]
     },
     "metadata": {},
     "output_type": "display_data"
    },
    {
     "data": {
      "text/latex": [
       "$\\displaystyle a_{2} + b_{2} \\left(x - 1\\right) + c_{2} \\left(x - 1\\right)^{2} + d_{2} \\left(x - 1\\right)^{3}$"
      ],
      "text/plain": [
       "a_2 + b_2*(x - 1) + c_2*(x - 1)**2 + d_2*(x - 1)**3"
      ]
     },
     "metadata": {},
     "output_type": "display_data"
    }
   ],
   "source": [
    "for n in range(3):\n",
    "  display(Latex(f\"s_{n}=\"),(s[n](_x)))"
   ]
  },
  {
   "cell_type": "code",
   "execution_count": null,
   "metadata": {
    "colab": {
     "base_uri": "https://localhost:8080/",
     "height": 147
    },
    "id": "ckLjDBVDRMYG",
    "outputId": "821b2e4f-daf1-42d6-8341-91c846dd34d2"
   },
   "outputs": [
    {
     "data": {
      "text/latex": [
       "s'_0="
      ],
      "text/plain": [
       "<IPython.core.display.Latex object>"
      ]
     },
     "metadata": {},
     "output_type": "display_data"
    },
    {
     "data": {
      "text/latex": [
       "$\\displaystyle b_{0} + c_{0} \\cdot \\left(2 x + 2\\right) + 3 d_{0} \\left(x + 1\\right)^{2}$"
      ],
      "text/plain": [
       "b_0 + c_0*(2*x + 2) + 3*d_0*(x + 1)**2"
      ]
     },
     "metadata": {},
     "output_type": "display_data"
    },
    {
     "data": {
      "text/latex": [
       "s'_1="
      ],
      "text/plain": [
       "<IPython.core.display.Latex object>"
      ]
     },
     "metadata": {},
     "output_type": "display_data"
    },
    {
     "data": {
      "text/latex": [
       "$\\displaystyle b_{1} + 2 c_{1} x + 3 d_{1} x^{2}$"
      ],
      "text/plain": [
       "b_1 + 2*c_1*x + 3*d_1*x**2"
      ]
     },
     "metadata": {},
     "output_type": "display_data"
    },
    {
     "data": {
      "text/latex": [
       "s'_2="
      ],
      "text/plain": [
       "<IPython.core.display.Latex object>"
      ]
     },
     "metadata": {},
     "output_type": "display_data"
    },
    {
     "data": {
      "text/latex": [
       "$\\displaystyle b_{2} + c_{2} \\cdot \\left(2 x - 2\\right) + 3 d_{2} \\left(x - 1\\right)^{2}$"
      ],
      "text/plain": [
       "b_2 + c_2*(2*x - 2) + 3*d_2*(x - 1)**2"
      ]
     },
     "metadata": {},
     "output_type": "display_data"
    }
   ],
   "source": [
    "for i in range(3):\n",
    "  display(Latex(f\"s'_{i}=\"),sp.diff(s[i](_x),_x))\n",
    "def spri0(x,v):\n",
    "  return v[0][1]+v[0][2]*(2*x+2)+3*v[0][3]*(x+1)**2\n",
    "spri1= lambda x,v: v[1][1]+2*v[1][2]*x+3*v[1][3]*x**2\n",
    "spri2= lambda x,v: v[2][1]+v[2][2]*(2*x-2)\n",
    "spri=[spri0,spri1,spri2]"
   ]
  },
  {
   "cell_type": "code",
   "execution_count": null,
   "metadata": {
    "colab": {
     "base_uri": "https://localhost:8080/"
    },
    "id": "VAjXUnrsmly9",
    "outputId": "2268a2df-cf29-41d7-bfa1-b4952d73ea6c"
   },
   "outputs": [
    {
     "data": {
      "text/plain": [
       "array([[a_0, b_0, c_0, d_0],\n",
       "       [a_1, b_1, c_1, d_1],\n",
       "       [a_2, b_2, c_2, d_2]], dtype=object)"
      ]
     },
     "execution_count": 46,
     "metadata": {},
     "output_type": "execute_result"
    }
   ],
   "source": [
    "v"
   ]
  },
  {
   "cell_type": "code",
   "execution_count": null,
   "metadata": {
    "colab": {
     "base_uri": "https://localhost:8080/",
     "height": 145
    },
    "id": "saay6zvdThWj",
    "outputId": "8521c303-6de1-4aa1-a099-23ec9927c3a4"
   },
   "outputs": [
    {
     "data": {
      "text/latex": [
       "s''_0="
      ],
      "text/plain": [
       "<IPython.core.display.Latex object>"
      ]
     },
     "metadata": {},
     "output_type": "display_data"
    },
    {
     "data": {
      "text/latex": [
       "$\\displaystyle 2 \\left(c_{0} + 3 d_{0} \\left(x + 1\\right)\\right)$"
      ],
      "text/plain": [
       "2*(c_0 + 3*d_0*(x + 1))"
      ]
     },
     "metadata": {},
     "output_type": "display_data"
    },
    {
     "data": {
      "text/latex": [
       "s''_1="
      ],
      "text/plain": [
       "<IPython.core.display.Latex object>"
      ]
     },
     "metadata": {},
     "output_type": "display_data"
    },
    {
     "data": {
      "text/latex": [
       "$\\displaystyle 2 \\left(c_{1} + 3 d_{1} x\\right)$"
      ],
      "text/plain": [
       "2*(c_1 + 3*d_1*x)"
      ]
     },
     "metadata": {},
     "output_type": "display_data"
    },
    {
     "data": {
      "text/latex": [
       "s''_2="
      ],
      "text/plain": [
       "<IPython.core.display.Latex object>"
      ]
     },
     "metadata": {},
     "output_type": "display_data"
    },
    {
     "data": {
      "text/latex": [
       "$\\displaystyle 2 \\left(c_{2} + 3 d_{2} \\left(x - 1\\right)\\right)$"
      ],
      "text/plain": [
       "2*(c_2 + 3*d_2*(x - 1))"
      ]
     },
     "metadata": {},
     "output_type": "display_data"
    }
   ],
   "source": [
    "for i in range(3):\n",
    "  display(Latex(f\"s''_{i}=\"),sp.diff(s[i](_x),_x,2))\n",
    "ssec0 = lambda x,v: 2 * (v[0][2]+3*v[0][3])\n",
    "ssec1 = lambda x,v : 2 * (v[1][2] + 3*v[1][3]*x)\n",
    "ssec2= lambda x,v : 2 * (v[2][2] + 3* v[2][3]*(x-1))\n",
    "ssec = [ssec0,ssec1,ssec2]"
   ]
  },
  {
   "cell_type": "code",
   "execution_count": null,
   "metadata": {
    "colab": {
     "base_uri": "https://localhost:8080/",
     "height": 166
    },
    "id": "hyE-_yZsToWC",
    "outputId": "879781af-cf21-4e34-b095-7ace6c0a69b7"
   },
   "outputs": [
    {
     "data": {
      "text/latex": [
       "s'''_0="
      ],
      "text/plain": [
       "<IPython.core.display.Latex object>"
      ]
     },
     "metadata": {},
     "output_type": "display_data"
    },
    {
     "data": {
      "text/latex": [
       "$\\displaystyle 6 d_{0}$"
      ],
      "text/plain": [
       "6*d_0"
      ]
     },
     "metadata": {},
     "output_type": "display_data"
    },
    {
     "data": {
      "text/latex": [
       "s'''_1="
      ],
      "text/plain": [
       "<IPython.core.display.Latex object>"
      ]
     },
     "metadata": {},
     "output_type": "display_data"
    },
    {
     "data": {
      "text/latex": [
       "$\\displaystyle 6 d_{1}$"
      ],
      "text/plain": [
       "6*d_1"
      ]
     },
     "metadata": {},
     "output_type": "display_data"
    },
    {
     "data": {
      "text/latex": [
       "s'''_2="
      ],
      "text/plain": [
       "<IPython.core.display.Latex object>"
      ]
     },
     "metadata": {},
     "output_type": "display_data"
    },
    {
     "data": {
      "text/latex": [
       "$\\displaystyle 6 d_{2}$"
      ],
      "text/plain": [
       "6*d_2"
      ]
     },
     "metadata": {},
     "output_type": "display_data"
    },
    {
     "data": {
      "text/latex": [
       "$\\displaystyle 6 d_{2}$"
      ],
      "text/plain": [
       "6*d_2"
      ]
     },
     "execution_count": 48,
     "metadata": {},
     "output_type": "execute_result"
    }
   ],
   "source": [
    "for i in range(3):\n",
    "  display(Latex(f\"s'''_{i}=\"),sp.diff(s[i](_x),_x,3))\n",
    "ster0 = lambda x,v: 6*v[0][3]\n",
    "ster1 = lambda x,v: 6*v[1][3]\n",
    "ster2= lambda x,v: 6*v[2][3]\n",
    "ster = [ster0, ster1, ster2]\n",
    "ster2(_x,v)"
   ]
  },
  {
   "cell_type": "markdown",
   "metadata": {
    "id": "S50NzfrhUY0L"
   },
   "source": [
    "$(-1,5)$, $(0,3)$, $(1,3)$, $(2,4)$\n",
    "\n",
    "$$s_0(-1)=5\\\\s_0(0)=s_1(1)=s_1(3)=s_2(1)=3\n",
    "\\\\s_2(2)=4$$"
   ]
  },
  {
   "cell_type": "code",
   "execution_count": null,
   "metadata": {
    "colab": {
     "base_uri": "https://localhost:8080/",
     "height": 209
    },
    "id": "h16lU36-VI-1",
    "outputId": "381d4038-9bc5-428b-b4e0-67d3b1b6bed8"
   },
   "outputs": [
    {
     "data": {
      "text/latex": [
       "s_0(-1)=5"
      ],
      "text/plain": [
       "<IPython.core.display.Latex object>"
      ]
     },
     "metadata": {},
     "output_type": "display_data"
    },
    {
     "data": {
      "text/latex": [
       "$\\displaystyle a_{2} - 2 b_{2} + 4 c_{2} - 8 d_{2}$"
      ],
      "text/plain": [
       "a_2 - 2*b_2 + 4*c_2 - 8*d_2"
      ]
     },
     "metadata": {},
     "output_type": "display_data"
    },
    {
     "data": {
      "text/latex": [
       "s_0(0)=s_1(1)=s_1(3)=s_2(1)=3"
      ],
      "text/plain": [
       "<IPython.core.display.Latex object>"
      ]
     },
     "metadata": {},
     "output_type": "display_data"
    },
    {
     "data": {
      "text/latex": [
       "$\\displaystyle a_{2} - b_{2} + c_{2} - d_{2}$"
      ],
      "text/plain": [
       "a_2 - b_2 + c_2 - d_2"
      ]
     },
     "metadata": {},
     "output_type": "display_data"
    },
    {
     "data": {
      "text/latex": [
       "$\\displaystyle a_{2}$"
      ],
      "text/plain": [
       "a_2"
      ]
     },
     "metadata": {},
     "output_type": "display_data"
    },
    {
     "data": {
      "text/latex": [
       "$\\displaystyle a_{2} + 2 b_{2} + 4 c_{2} + 8 d_{2}$"
      ],
      "text/plain": [
       "a_2 + 2*b_2 + 4*c_2 + 8*d_2"
      ]
     },
     "metadata": {},
     "output_type": "display_data"
    },
    {
     "data": {
      "text/latex": [
       "$\\displaystyle a_{2}$"
      ],
      "text/plain": [
       "a_2"
      ]
     },
     "metadata": {},
     "output_type": "display_data"
    },
    {
     "data": {
      "text/latex": [
       "s_2(2)=4"
      ],
      "text/plain": [
       "<IPython.core.display.Latex object>"
      ]
     },
     "metadata": {},
     "output_type": "display_data"
    },
    {
     "data": {
      "text/latex": [
       "$\\displaystyle a_{2} + b_{2} + c_{2} + d_{2}$"
      ],
      "text/plain": [
       "a_2 + b_2 + c_2 + d_2"
      ]
     },
     "metadata": {},
     "output_type": "display_data"
    }
   ],
   "source": [
    "display(Latex(\"s_0(-1)=5\"),s[0](-1),\n",
    "        Latex(\"s_0(0)=s_1(1)=s_1(3)=s_2(1)=3\"),s[0](0),s[1](1),s[1](3),s[2](1),\n",
    "        Latex(\"s_2(2)=4\"),s[2](2))"
   ]
  },
  {
   "cell_type": "code",
   "execution_count": null,
   "metadata": {
    "id": "eTLd4I5BV479"
   },
   "outputs": [],
   "source": [
    "Reemp=v.copy()\n",
    "Reemp[2][0]=3\n",
    "#a2=3\n",
    "#d0=d2=0\n",
    "Reemp[0][3]=0\n",
    "Reemp[2][3]=0"
   ]
  },
  {
   "cell_type": "code",
   "execution_count": null,
   "metadata": {
    "colab": {
     "base_uri": "https://localhost:8080/"
    },
    "id": "m6rlmg7-hw6S",
    "outputId": "996b1a78-73eb-40a4-a128-1c6782b3576d"
   },
   "outputs": [
    {
     "data": {
      "text/plain": [
       "array([[a_0, b_0, c_0, 0],\n",
       "       [a_1, b_1, c_1, d_1],\n",
       "       [3, b_2, c_2, 0]], dtype=object)"
      ]
     },
     "execution_count": 51,
     "metadata": {},
     "output_type": "execute_result"
    }
   ],
   "source": [
    "Reemp"
   ]
  },
  {
   "cell_type": "markdown",
   "metadata": {
    "id": "3_Q6rau2XXFU"
   },
   "source": [
    "$(-1,5)$, $(0,3)$, $(1,3)$, $(2,4)$\n",
    "## Derivabilidad\n",
    "$$\n",
    "\\begin{matrix}\n",
    "   s'_0(0)=s'_1(-1) & s'_1(1)=s'_2(0) \\\\\n",
    "   s''_0(0)=s''_1(-1) & s''_1(1)=s''_2(0)\n",
    "\\end{matrix}$$\n",
    "\n",
    "## Condiciones extremos\n",
    "$$s''_0(-1)=0=s''_2(2)$$"
   ]
  },
  {
   "cell_type": "code",
   "execution_count": null,
   "metadata": {
    "colab": {
     "base_uri": "https://localhost:8080/",
     "height": 39
    },
    "id": "gqy8HaIInKq6",
    "outputId": "6a1a9c4b-7b93-4719-b689-f224dca69179"
   },
   "outputs": [
    {
     "data": {
      "text/latex": [
       "$\\displaystyle b_{0} + c_{0} \\cdot \\left(2 x + 2\\right) + 3 d_{0} \\left(x + 1\\right)^{2}$"
      ],
      "text/plain": [
       "b_0 + c_0*(2*x + 2) + 3*d_0*(x + 1)**2"
      ]
     },
     "execution_count": 52,
     "metadata": {},
     "output_type": "execute_result"
    }
   ],
   "source": [
    "spri[0](_x,v)"
   ]
  },
  {
   "cell_type": "code",
   "execution_count": null,
   "metadata": {
    "colab": {
     "base_uri": "https://localhost:8080/",
     "height": 206
    },
    "id": "vGMeE4IyiPmI",
    "outputId": "7bf632bb-99a4-4d5d-b326-9c6066f73822"
   },
   "outputs": [
    {
     "data": {
      "text/latex": [
       "$\\displaystyle b_{0} + 2 c_{0} + 3 d_{0}$"
      ],
      "text/plain": [
       "b_0 + 2*c_0 + 3*d_0"
      ]
     },
     "metadata": {},
     "output_type": "display_data"
    },
    {
     "data": {
      "text/latex": [
       "="
      ],
      "text/plain": [
       "<IPython.core.display.Latex object>"
      ]
     },
     "metadata": {},
     "output_type": "display_data"
    },
    {
     "data": {
      "text/latex": [
       "$\\displaystyle b_{1} - 2 c_{1} + 3 d_{1}$"
      ],
      "text/plain": [
       "b_1 - 2*c_1 + 3*d_1"
      ]
     },
     "metadata": {},
     "output_type": "display_data"
    },
    {
     "data": {
      "text/latex": [
       "$\\displaystyle 2 c_{0} + 6 d_{0}$"
      ],
      "text/plain": [
       "2*c_0 + 6*d_0"
      ]
     },
     "metadata": {},
     "output_type": "display_data"
    },
    {
     "data": {
      "text/latex": [
       "="
      ],
      "text/plain": [
       "<IPython.core.display.Latex object>"
      ]
     },
     "metadata": {},
     "output_type": "display_data"
    },
    {
     "data": {
      "text/latex": [
       "$\\displaystyle 2 c_{1} - 6 d_{1}$"
      ],
      "text/plain": [
       "2*c_1 - 6*d_1"
      ]
     },
     "metadata": {},
     "output_type": "display_data"
    },
    {
     "data": {
      "text/latex": [
       "$\\displaystyle c_{0} + 3 d_{0}$"
      ],
      "text/plain": [
       "c_0 + 3*d_0"
      ]
     },
     "metadata": {},
     "output_type": "display_data"
    },
    {
     "data": {
      "text/latex": [
       "="
      ],
      "text/plain": [
       "<IPython.core.display.Latex object>"
      ]
     },
     "metadata": {},
     "output_type": "display_data"
    },
    {
     "data": {
      "text/latex": [
       "$\\displaystyle c_{1} - 3 d_{1}$"
      ],
      "text/plain": [
       "c_1 - 3*d_1"
      ]
     },
     "metadata": {},
     "output_type": "display_data"
    }
   ],
   "source": [
    "display(spri[0](0,v),Latex(\"=\"),spri[1](-1,v),\n",
    "        ssec[0](0,v),Latex(\"=\"),ssec[1](-1,v),\n",
    "        ssec[0](0,v)/2,Latex(\"=\"),ssec[1](-1,v)/2)"
   ]
  },
  {
   "cell_type": "markdown",
   "metadata": {
    "id": "k-pDK8HIASFk"
   },
   "source": [
    "Como no me quiere dar, lo hice manualmente"
   ]
  },
  {
   "cell_type": "code",
   "execution_count": null,
   "metadata": {
    "colab": {
     "base_uri": "https://localhost:8080/"
    },
    "id": "fNT09cf_LjKM",
    "outputId": "89a837b4-a80b-4070-875f-5453414f8253"
   },
   "outputs": [
    {
     "data": {
      "text/plain": [
       "array([-2.26666667,  0.26666667, -1.46666667,  0.8       ,  0.66666667,\n",
       "        2.13333333,  2.8       , -0.93333333])"
      ]
     },
     "execution_count": 54,
     "metadata": {},
     "output_type": "execute_result"
    }
   ],
   "source": [
    "A=np.array([\n",
    "    [1,1,0,0,0,0,0,0],\n",
    "    [0,0,1,1,1,0,0,0],\n",
    "    [0,0,0,0,0,1,1,1],\n",
    "    [1,3,-1,0,0,0,0,0],\n",
    "    [0,0,1,2,3,-1,0,0],\n",
    "    [0,6,0,-2,0,0,0,0],\n",
    "    [0,0,0,2,6,0,-2,0],\n",
    "    [0,0,0,0,0,0,2,6]])\n",
    "\n",
    "b=np.array([-2,0,4,0,0,0,0,0])\n",
    "solucion=solve(A,b)\n",
    "solucion"
   ]
  },
  {
   "cell_type": "code",
   "execution_count": null,
   "metadata": {
    "id": "LyvemednApWD"
   },
   "outputs": [],
   "source": [
    "a0 = 5\n",
    "a1 = 3\n",
    "a2 = 3\n",
    "\n",
    "b0=sp.Symbol('b_0')\n",
    "b1=sp.Symbol('b_1')\n",
    "b2=sp.Symbol('b_2')\n",
    "\n",
    "c0 = 0\n",
    "c1=sp.Symbol('c_1')\n",
    "c2=sp.Symbol('c_2')\n",
    "\n",
    "d0=sp.Symbol('d_0')\n",
    "d1=sp.Symbol('d_1')\n",
    "d2=sp.Symbol('d_2')"
   ]
  },
  {
   "cell_type": "code",
   "execution_count": null,
   "metadata": {
    "id": "XiZ_zlmtA2-X"
   },
   "outputs": [],
   "source": [
    "b0,d0,b1,c1,d1,b2,c2,d2 = solucion"
   ]
  },
  {
   "cell_type": "code",
   "execution_count": null,
   "metadata": {
    "colab": {
     "base_uri": "https://localhost:8080/"
    },
    "id": "YotwP3HkA5FE",
    "outputId": "de49e580-4acf-4b12-8343-aa47239fdc2f"
   },
   "outputs": [
    {
     "name": "stdout",
     "output_type": "stream",
     "text": [
      "Los valores para a_0,b_0,c_0,d_0 son:(5, -2.2666666666666666, 0, 0.2666666666666666)\n",
      "Los valores para a_1,b_1,c_1,d_1 son:(3, -1.4666666666666668, 0.7999999999999998, 0.6666666666666667)\n",
      "Los valores para a_2,b_2,c_2,d_2 son:(3, 2.1333333333333333, 2.8000000000000003, -0.9333333333333335)\n"
     ]
    }
   ],
   "source": [
    "print(f'Los valores para a_0,b_0,c_0,d_0 son:{a0,b0,c0,d0}')\n",
    "print(f'Los valores para a_1,b_1,c_1,d_1 son:{a1,b1,c1,d1}')\n",
    "print(f'Los valores para a_2,b_2,c_2,d_2 son:{a2,b2,c2,d2}')"
   ]
  },
  {
   "cell_type": "code",
   "execution_count": null,
   "metadata": {
    "id": "qtkqyBFKBFRh"
   },
   "outputs": [],
   "source": [
    "\n",
    "def s_0(x):\n",
    " return a0+b0*(x+1)+c0*(x+1)**2+d0*(x+1)**3\n",
    "\n",
    "\n",
    "def s_1(x):\n",
    "  return a1+b1*(x)+c1*(x)**2+d1*(x)**3\n",
    "\n",
    "\n",
    "def s_2(x):\n",
    "  return a2 + b2*(x - 1) + c2*(x - 1)**2 + d2*(x - 1)**3\n",
    "\n"
   ]
  },
  {
   "cell_type": "code",
   "execution_count": null,
   "metadata": {
    "colab": {
     "base_uri": "https://localhost:8080/"
    },
    "id": "sq8ZCwaqunvh",
    "outputId": "15de40b3-698a-431e-ad29-99159cbb944f"
   },
   "outputs": [
    {
     "data": {
      "text/plain": [
       "array([5.        , 4.95374376, 4.90750113, 4.86128569, 4.81511105,\n",
       "       4.76899081, 4.72293857, 4.67696793, 4.63109249, 4.58532584,\n",
       "       4.5396816 , 4.49417335, 4.44881469, 4.40361924, 4.35860058,\n",
       "       4.31377232, 4.26914806, 4.22474139, 4.18056592, 4.13663525,\n",
       "       4.09296297, 4.04956268, 4.00644799, 3.9636325 , 3.9211298 ,\n",
       "       3.8789535 , 3.83711719, 3.79563447, 3.75451895, 3.71378422,\n",
       "       3.67344389, 3.63351155, 3.5940008 , 3.55492524, 3.51629848,\n",
       "       3.47813411, 3.44044573, 3.40324695, 3.36655135, 3.33037255,\n",
       "       3.29472414, 3.25961972, 3.22507289, 3.19109725, 3.1577064 ,\n",
       "       3.12491394, 3.09273347, 3.06117859, 3.0302629 , 3.        ])"
      ]
     },
     "execution_count": 66,
     "metadata": {},
     "output_type": "execute_result"
    }
   ],
   "source": [
    "s_0(xx0)"
   ]
  },
  {
   "cell_type": "code",
   "execution_count": null,
   "metadata": {
    "id": "IhdfL8mXvroM"
   },
   "outputs": [],
   "source": [
    "x0, x1, x2,x3 = -1, 0, 1,2\n",
    "_x1 = np.array([x0, x1, x2,x3])\n",
    "y0, y1, y2,y3 =  5, 3, 3, 7\n",
    "_y1 = np.array([y0, y1, y2,y3])"
   ]
  },
  {
   "cell_type": "code",
   "execution_count": null,
   "metadata": {
    "colab": {
     "base_uri": "https://localhost:8080/",
     "height": 827
    },
    "id": "p1ATpa-zBJHl",
    "outputId": "aa1caed9-1aa3-4e65-e400-11e812703fc7"
   },
   "outputs": [
    {
     "data": {
      "image/png": "[encoded data removed]",
      "text/plain": [
       "<Figure size 1000x800 with 1 Axes>"
      ]
     },
     "metadata": {},
     "output_type": "display_data"
    }
   ],
   "source": [
    "#Grafico del resultado\n",
    "xx0 = np.linspace(-1,0)\n",
    "xx1 = np.linspace(0,1)\n",
    "xx2 = np.linspace(1,2)\n",
    "\n",
    "\n",
    "plt.figure(figsize=(10, 8))\n",
    "plt.title('Interpolación método spline agregando un punto',fontsize=20)\n",
    "plt.plot(xx0, s_0(xx0),'m',lw=3, label = \"$S_0$\")\n",
    "plt.plot(xx1, s_1(xx1),'g', lw=3, label = \"$S_1$\")\n",
    "plt.plot(xx2, s_2(xx2),'r', lw=3, label = \"$S_2$\")\n",
    "plt.plot(_x1, _y1, '.k',markersize=12)\n",
    "plt.ylabel(\"f(x)\", fontsize=20)\n",
    "plt.xlabel('''x\n",
    "Figura 2. Utiliza el spline cúbico para conectar 4 puntos\n",
    "con tres polinomios $S_0$,$S_1$ y $S_2$''',\n",
    "fontsize=20)\n",
    "plt.xticks(fontsize=20)\n",
    "plt.yticks(fontsize=20)\n",
    "plt.legend(loc = \"lower right\", fontsize= 20)\n",
    "plt.grid()\n",
    "plt.show()"
   ]
  }
 ],
 "metadata": {
  "colab": {
   "include_colab_link": true,
   "provenance": []
  },
  "kernelspec": {
   "display_name": "Python 3 (ipykernel)",
   "language": "python",
   "name": "python3"
  },
  "language_info": {
   "codemirror_mode": {
    "name": "ipython",
    "version": 3
   },
   "file_extension": ".py",
   "mimetype": "text/x-python",
   "name": "python",
   "nbconvert_exporter": "python",
   "pygments_lexer": "ipython3",
   "version": "3.10.9"
  }
 },
 "nbformat": 4,
 "nbformat_minor": 1
}
