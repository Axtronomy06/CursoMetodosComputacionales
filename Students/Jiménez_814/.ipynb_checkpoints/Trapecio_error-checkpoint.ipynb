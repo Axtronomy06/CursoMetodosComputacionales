{
 "cells": [
  {
   "cell_type": "markdown",
   "metadata": {
    "colab_type": "text",
    "id": "view-in-github"
   },
   "source": [
    "<a href=\"https://colab.research.google.com/github/Elizajr/CursoMetodosComputacionales/blob/main/Trapecio_error.ipynb\" target=\"_parent\"><img src=\"https://colab.research.google.com/assets/colab-badge.svg\" alt=\"Open In Colab\"/></a>"
   ]
  },
  {
   "cell_type": "code",
   "execution_count": null,
   "metadata": {
    "id": "DCOC5-GCkr-7"
   },
   "outputs": [],
   "source": [
    "import scipy as sc\n",
    "import sympy as sy\n",
    "import numpy as np\n",
    "import matplotlib.pyplot as plt\n",
    "from math import ceil\n",
    "from IPython.display import display, Latex"
   ]
  },
  {
   "cell_type": "markdown",
   "metadata": {
    "id": "ngOw-tLUlKTA"
   },
   "source": [
    "$$ E=-\\frac{(b-a)^3}{12n^2}f''(\\xi),~~ \\xi=máx\\\\\n",
    "f(x)=\\frac{(x-1)^2}{3}\\sin x+1\\\\\n",
    "a = 0, b = 2$$"
   ]
  },
  {
   "cell_type": "code",
   "execution_count": null,
   "metadata": {
    "id": "2creDw3Ukxlw"
   },
   "outputs": [],
   "source": [
    "n = 100\n",
    "a = 0\n",
    "b = 2\n",
    "f = lambda x: ((x-1)**2)/3*np.sin(x)+1\n",
    "rango = np.linspace(a,b,n)\n"
   ]
  },
  {
   "cell_type": "code",
   "execution_count": null,
   "metadata": {
    "colab": {
     "base_uri": "https://localhost:8080/"
    },
    "id": "LkPezuv3nnyL",
    "outputId": "d2fe1b14-8f12-4c7e-d2f8-ec93d19ddc14"
   },
   "outputs": [
    {
     "name": "stdout",
     "output_type": "stream",
     "text": [
      "Optimization terminated successfully.\n",
      "         Current function value: -0.720789\n",
      "         Iterations: 26\n",
      "         Function evaluations: 52\n",
      "El valor máximo de la segunda derivada: 1.2873\n"
     ]
    }
   ],
   "source": [
    "_x = sy.Symbol(\"x\")\n",
    "dfs = sy.diff(((_x-1)**2)/3*sy.sin(_x)+1,_x,2)\n",
    "d2f = sy.utilities.lambdify(_x,dfs,\"numpy\")\n",
    "d2fi = lambda x: -1*d2f(x)\n",
    "max = sc.optimize.fmin(d2fi,a)\n",
    "print(f\"El valor máximo de la segunda derivada: {max[0]:.5}\")#sy.diff(((_x-1)**2)/3*sy.sin(_x)+1,_x,2)"
   ]
  },
  {
   "cell_type": "code",
   "execution_count": null,
   "metadata": {
    "colab": {
     "base_uri": "https://localhost:8080/"
    },
    "id": "xfnoOwadwT3z",
    "outputId": "4f6520d6-e6d8-4841-ef9b-158b1617de87"
   },
   "outputs": [
    {
     "data": {
      "text/plain": [
       "0.7207892067295385"
      ]
     },
     "execution_count": 4,
     "metadata": {},
     "output_type": "execute_result"
    }
   ],
   "source": [
    "d2f(max[0])"
   ]
  },
  {
   "cell_type": "code",
   "execution_count": null,
   "metadata": {
    "id": "60Nj-fFwnjFl"
   },
   "outputs": [],
   "source": [
    "#sc.misc.derivative(f,a,n=2)\n",
    "#def errorn(f,a,b,eps):\n",
    "#    return np.sqrt(((b-a)**3)/12e-3*sc.diff?)\n",
    "scint = sc.integrate.quad(f,rango.min(),rango.max())"
   ]
  },
  {
   "cell_type": "code",
   "execution_count": null,
   "metadata": {
    "colab": {
     "base_uri": "https://localhost:8080/",
     "height": 56
    },
    "id": "liNXZ-hSx5TW",
    "outputId": "9b96fe03-9b28-48d7-98d9-8f8fdb40ad35"
   },
   "outputs": [
    {
     "data": {
      "text/latex": [
       "$\\displaystyle \\frac{- \\left(x - 1\\right)^{2} \\sin{\\left(x \\right)} + 4 \\left(x - 1\\right) \\cos{\\left(x \\right)} + 2 \\sin{\\left(x \\right)}}{3}$"
      ],
      "text/plain": [
       "(-(x - 1)**2*sin(x) + 4*(x - 1)*cos(x) + 2*sin(x))/3"
      ]
     },
     "execution_count": 6,
     "metadata": {},
     "output_type": "execute_result"
    }
   ],
   "source": [
    "dfs"
   ]
  },
  {
   "cell_type": "code",
   "execution_count": null,
   "metadata": {
    "id": "reo32s36yLZK"
   },
   "outputs": [],
   "source": [
    "def integral(f,rango):\n",
    "  min = rango.min()\n",
    "  max = rango.max()\n",
    "  eps = 1e-7\n",
    "  a = np.arange(min,max,eps)\n",
    "  b = np.arange(max,min,-eps)[::-1]\n",
    "  res = ((b-a)*1/2)*(f(a)+f(b))\n",
    "  #print(len(res))\n",
    "  return abs(res.sum())"
   ]
  },
  {
   "cell_type": "code",
   "execution_count": null,
   "metadata": {
    "colab": {
     "base_uri": "https://localhost:8080/"
    },
    "id": "Y_9ULPriybcm",
    "outputId": "b9a75df3-854e-4b77-b925-e96dce203956"
   },
   "outputs": [
    {
     "data": {
      "text/plain": [
       "2.122061198873805"
      ]
     },
     "execution_count": 8,
     "metadata": {},
     "output_type": "execute_result"
    }
   ],
   "source": [
    "inf = integral(f,rango)\n",
    "inf"
   ]
  },
  {
   "cell_type": "code",
   "execution_count": null,
   "metadata": {
    "id": "LF25Dy7ny4Uv"
   },
   "outputs": [],
   "source": [
    "def errorn(f,a,b,eps):\n",
    "  _x = sy.Symbol(\"x\")\n",
    "  dfs = sy.diff(((_x-1)**2)/3*sy.sin(_x)+1,_x,2)\n",
    "  d2f = sy.utilities.lambdify(_x,dfs,\"numpy\")\n",
    "  d2fi = lambda x: -1*d2f(x)\n",
    "  max = sc.optimize.fmin(d2fi,a)[0]\n",
    "  return ceil(np.sqrt(abs(((b-a)**3)/(12*eps)*d2f(max))))\n"
   ]
  },
  {
   "cell_type": "code",
   "execution_count": null,
   "metadata": {
    "colab": {
     "base_uri": "https://localhost:8080/"
    },
    "id": "Vz_0cdsgz0_8",
    "outputId": "c83771db-d3b6-48b7-c8ab-710b27fe3c72"
   },
   "outputs": [
    {
     "name": "stdout",
     "output_type": "stream",
     "text": [
      "Optimization terminated successfully.\n",
      "         Current function value: -0.720789\n",
      "         Iterations: 26\n",
      "         Function evaluations: 52\n"
     ]
    },
    {
     "data": {
      "text/plain": [
       "22"
      ]
     },
     "execution_count": 15,
     "metadata": {},
     "output_type": "execute_result"
    }
   ],
   "source": [
    "n = errorn(f,a,b,1e-3)\n",
    "n"
   ]
  },
  {
   "cell_type": "code",
   "execution_count": null,
   "metadata": {
    "id": "ylHYq27u07yA"
   },
   "outputs": [],
   "source": [
    "def trapz(f,rango,n):\n",
    "  min = rango.min()\n",
    "  max = rango.max()\n",
    "  a = np.linspace(min,max,n, endpoint=False)\n",
    "  b = np.linspace(max,min,n,endpoint=False)[::-1]\n",
    "  res = ((b-a)*1/2)*(f(a)+f(b))\n",
    "  return abs(res).sum()"
   ]
  },
  {
   "cell_type": "code",
   "execution_count": null,
   "metadata": {
    "colab": {
     "base_uri": "https://localhost:8080/"
    },
    "id": "IAldkN1e0-ZT",
    "outputId": "59ced07a-0805-4a2d-9395-8234dc2ec5f6"
   },
   "outputs": [
    {
     "name": "stdout",
     "output_type": "stream",
     "text": [
      "Integral con las iteraciones óptimas:  2.134242125027954\n",
      "Integral scipy (2.13414933903474, 2.3693817341849278e-14)\n",
      "Diferencia integrales:  9.278599321405068e-05\n"
     ]
    }
   ],
   "source": [
    "print(\"Integral con las iteraciones óptimas: \",trapz(f,rango,n))\n",
    "print(\"Integral scipy\",scint)\n",
    "print(\"Diferencia integrales: \",trapz(f,rango,n)-scint[0])"
   ]
  },
  {
   "cell_type": "code",
   "execution_count": null,
   "metadata": {
    "colab": {
     "base_uri": "https://localhost:8080/",
     "height": 498
    },
    "id": "2WMxZW2qmF2U",
    "outputId": "7208d8e8-62ef-4726-8bb6-5772094f2980"
   },
   "outputs": [
    {
     "data": {
      "image/png": "[encoded data removed]",
      "text/plain": [
       "<Figure size 800x500 with 2 Axes>"
      ]
     },
     "metadata": {},
     "output_type": "display_data"
    }
   ],
   "source": [
    "fig, axs = plt.subplots(1,2,figsize=(8,5))\n",
    "axs[0].plot(rango,f(rango),color = \"#EB4B98\")\n",
    "axs[0].plot(max,f(max),\"o\",color = \"#F26DF9\")\n",
    "axs[0].title.set_text(r\"Función y punto máximo $f(x)$\")\n",
    "axs[0].set_xlabel(r\"x\")\n",
    "axs[0].set_ylabel(r\"$f(x)=\\frac{(x-1)^2}{3}\\sin x+1$\")\n",
    "axs[0].fill_between(rango,f(rango),color=\"#EB4B98\",alpha= 0.3)\n",
    "axs[0].grid()\n",
    "\n",
    "#plt.plot(rango,d2f(rango))\n",
    "#plt.plot(rango,d2fi(rango))\n",
    "axs[1].plot(rango,d2f(rango),color = \"#5158BB\")\n",
    "axs[1].plot(max,d2f(max),\"o\", color =\"#043565\")\n",
    "axs[1].grid(color=\"#02394A\")\n",
    "axs[1].title.set_text(r\"Segunda derivada $(\\frac{d^2f}{dx^2})$\")\n",
    "axs[1].set_xlabel(r\"x\")\n",
    "axs[1].set_ylabel(r\"$f''(x)$\")\n",
    "plt.show()"
   ]
  }
 ],
 "metadata": {
  "colab": {
   "authorship_tag": "ABX9TyNTO4M6Mk5wPq9tSj5LTYew",
   "include_colab_link": true,
   "provenance": []
  },
  "kernelspec": {
   "display_name": "Python 3 (ipykernel)",
   "language": "python",
   "name": "python3"
  },
  "language_info": {
   "codemirror_mode": {
    "name": "ipython",
    "version": 3
   },
   "file_extension": ".py",
   "mimetype": "text/x-python",
   "name": "python",
   "nbconvert_exporter": "python",
   "pygments_lexer": "ipython3",
   "version": "3.10.9"
  }
 },
 "nbformat": 4,
 "nbformat_minor": 1
}
