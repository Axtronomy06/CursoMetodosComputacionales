{
 "cells": [
  {
   "cell_type": "markdown",
   "metadata": {
    "colab_type": "text",
    "id": "view-in-github"
   },
   "source": [
    "<a href=\"https://colab.research.google.com/github/Elizajr/CursoMetodosComputacionales/blob/main/Reducci%C3%B3n_gauss_Jordan.ipynb\" target=\"_parent\"><img src=\"https://colab.research.google.com/assets/colab-badge.svg\" alt=\"Open In Colab\"/></a>"
   ]
  },
  {
   "cell_type": "code",
   "execution_count": null,
   "metadata": {
    "id": "bynl5Ab8pwva"
   },
   "outputs": [],
   "source": [
    "import numpy as np\n",
    "import sympy as sy\n",
    "import pylab as plt\n",
    "from numpy import linalg"
   ]
  },
  {
   "cell_type": "code",
   "execution_count": null,
   "metadata": {
    "colab": {
     "base_uri": "https://localhost:8080/"
    },
    "id": "Xm_uhaW2p4-a",
    "outputId": "d62ba84d-ef1c-479e-c60a-d94ce64b87c0"
   },
   "outputs": [
    {
     "data": {
      "text/plain": [
       "array([[5],\n",
       "       [1],\n",
       "       [4]])"
      ]
     },
     "execution_count": 24,
     "metadata": {},
     "output_type": "execute_result"
    }
   ],
   "source": [
    "ejemplo = np.matrix([[2,1, 1],\n",
    "                     [4,1, 1],\n",
    "                     [6,2, 1]])\n",
    "resultado = np.array([5,1,4]).reshape((3,1))\n",
    "resultado"
   ]
  },
  {
   "cell_type": "code",
   "execution_count": null,
   "metadata": {
    "colab": {
     "base_uri": "https://localhost:8080/"
    },
    "id": "inGeVPkjquj6",
    "outputId": "ff533c5e-827a-4701-ee46-e06b9a37a6b2"
   },
   "outputs": [
    {
     "data": {
      "text/plain": [
       "array([[-2.],\n",
       "       [ 7.],\n",
       "       [ 2.]])"
      ]
     },
     "execution_count": 25,
     "metadata": {},
     "output_type": "execute_result"
    }
   ],
   "source": [
    "np.linalg.solve(ejemplo,resultado)"
   ]
  },
  {
   "cell_type": "code",
   "execution_count": null,
   "metadata": {
    "colab": {
     "base_uri": "https://localhost:8080/"
    },
    "id": "-xhrHgUTte3b",
    "outputId": "c07458c8-b0fd-4e0d-f5ed-7988d5298855"
   },
   "outputs": [
    {
     "data": {
      "text/plain": [
       "matrix([[-4, -2, -2]])"
      ]
     },
     "execution_count": 26,
     "metadata": {},
     "output_type": "execute_result"
    }
   ],
   "source": [
    "-2*ejemplo[:1,:]"
   ]
  },
  {
   "cell_type": "code",
   "execution_count": null,
   "metadata": {
    "colab": {
     "base_uri": "https://localhost:8080/"
    },
    "id": "sjMXI8nrtqbl",
    "outputId": "499b1886-ffda-44d4-98a2-dc610b2e8da6"
   },
   "outputs": [
    {
     "data": {
      "text/plain": [
       "array([[2., 1., 1., 5.],\n",
       "       [4., 1., 1., 1.],\n",
       "       [6., 2., 1., 4.]])"
      ]
     },
     "execution_count": 36,
     "metadata": {},
     "output_type": "execute_result"
    }
   ],
   "source": [
    "reducida = np.zeros((3,4))\n",
    "reducida[:,:3] = ejemplo\n",
    "reducida[:,3:] = resultado\n",
    "reducida"
   ]
  },
  {
   "cell_type": "code",
   "execution_count": null,
   "metadata": {
    "colab": {
     "base_uri": "https://localhost:8080/"
    },
    "id": "nwoFia_5uixj",
    "outputId": "4fc82c91-6ad9-4762-d698-09fbb5a1cfab"
   },
   "outputs": [
    {
     "data": {
      "text/plain": [
       "array([[ 2.,  1.,  1.,  5.],\n",
       "       [ 0., -1., -1., -9.],\n",
       "       [ 0.,  0., -1., -2.]])"
      ]
     },
     "execution_count": 42,
     "metadata": {},
     "output_type": "execute_result"
    }
   ],
   "source": [
    "reducida"
   ]
  },
  {
   "cell_type": "code",
   "execution_count": null,
   "metadata": {
    "id": "em7fPRrnsxcc"
   },
   "outputs": [],
   "source": [
    "reducida[1]=-2*reducida[0]+reducida[1]\n",
    "# 2 ya que 4/2=2 *-1 para restarla\n"
   ]
  },
  {
   "cell_type": "code",
   "execution_count": null,
   "metadata": {
    "id": "cfyYqIlQvI-h"
   },
   "outputs": [],
   "source": [
    "# 6/2 = 3\n",
    "reducida[2] = -3*reducida[0]+reducida[2]"
   ]
  },
  {
   "cell_type": "code",
   "execution_count": null,
   "metadata": {
    "id": "3eecdE5GvX4n"
   },
   "outputs": [],
   "source": [
    "# -1/-1 = 1\n",
    "reducida[2] = -1*reducida[1]+reducida[2]"
   ]
  },
  {
   "cell_type": "code",
   "execution_count": null,
   "metadata": {
    "id": "XeTxDofevt_6"
   },
   "outputs": [],
   "source": [
    "# Como a_{3,3} = 1 ya tenemos una solución"
   ]
  },
  {
   "cell_type": "code",
   "execution_count": null,
   "metadata": {
    "id": "YgIwSs2QrbLQ"
   },
   "outputs": [],
   "source": [
    "# Operaciones elementales de fila\n",
    "A = []\n",
    "for i in range(3):\n",
    "  for m in range(3):\n",
    "    r = \"a_{\"+str(i+1)+str(m+1)+\"}\"\n",
    "    A.append(sy.Symbol(r))\n",
    "  A.append(sy.Symbol(\"r_{\"+str(i+1)+\"}\"))\n"
   ]
  },
  {
   "cell_type": "code",
   "execution_count": null,
   "metadata": {
    "colab": {
     "base_uri": "https://localhost:8080/",
     "height": 78
    },
    "id": "Le8UqFhYz0uI",
    "outputId": "772dfb2c-5944-4250-b4ed-c4220a713c04"
   },
   "outputs": [
    {
     "data": {
      "text/latex": [
       "$\\displaystyle \\left[\\begin{matrix}a_{11} & a_{12} & a_{13} & r_{1}\\\\a_{21} & a_{22} & a_{23} & r_{2}\\\\a_{31} & a_{32} & a_{33} & r_{3}\\end{matrix}\\right]$"
      ],
      "text/plain": [
       "Matrix([\n",
       "[a_{11}, a_{12}, a_{13}, r_{1}],\n",
       "[a_{21}, a_{22}, a_{23}, r_{2}],\n",
       "[a_{31}, a_{32}, a_{33}, r_{3}]])"
      ]
     },
     "execution_count": 222,
     "metadata": {},
     "output_type": "execute_result"
    }
   ],
   "source": [
    "A = np.array(A).reshape(3,4)\n",
    "B = sy.Matrix(A)\n",
    "B"
   ]
  },
  {
   "cell_type": "code",
   "execution_count": null,
   "metadata": {
    "colab": {
     "base_uri": "https://localhost:8080/",
     "height": 38
    },
    "id": "cJf7iq4x0L0Z",
    "outputId": "98fbca1d-b148-4987-ca6b-213f54ae0ee9"
   },
   "outputs": [
    {
     "data": {
      "text/latex": [
       "$\\displaystyle \\left[\\begin{matrix}a_{11} & a_{12} & a_{13} & r_{1}\\end{matrix}\\right]$"
      ],
      "text/plain": [
       "Matrix([[a_{11}, a_{12}, a_{13}, r_{1}]])"
      ]
     },
     "execution_count": 223,
     "metadata": {},
     "output_type": "execute_result"
    }
   ],
   "source": [
    "B[0:1,0:]"
   ]
  },
  {
   "cell_type": "code",
   "execution_count": null,
   "metadata": {
    "colab": {
     "base_uri": "https://localhost:8080/"
    },
    "id": "kG--41-S1FN2",
    "outputId": "249a41c7-1848-41de-9bb4-1b48f3be2b24"
   },
   "outputs": [
    {
     "data": {
      "text/plain": [
       "array([a_{21}, a_{22}, a_{23}, r_{2}], dtype=object)"
      ]
     },
     "execution_count": 224,
     "metadata": {},
     "output_type": "execute_result"
    }
   ],
   "source": [
    "A[1]"
   ]
  },
  {
   "cell_type": "code",
   "execution_count": null,
   "metadata": {
    "colab": {
     "base_uri": "https://localhost:8080/",
     "height": 38
    },
    "id": "Mx9bb3WPz8C8",
    "outputId": "0ecd8bae-3776-4f5e-e14b-cd96a8f94447"
   },
   "outputs": [
    {
     "data": {
      "text/latex": [
       "$\\displaystyle \\left[\\begin{matrix}a_{21} & a_{22} & a_{23} & r_{2}\\end{matrix}\\right]$"
      ],
      "text/plain": [
       "Matrix([[a_{21}, a_{22}, a_{23}, r_{2}]])"
      ]
     },
     "execution_count": 225,
     "metadata": {},
     "output_type": "execute_result"
    }
   ],
   "source": [
    "B[1:2,:]"
   ]
  },
  {
   "cell_type": "code",
   "execution_count": null,
   "metadata": {
    "id": "6EPd7sW71OE1"
   },
   "outputs": [],
   "source": [
    "#(-B[1:2,:1]/B[:1,:1])*B[0:1,0:]+B[1:2,:]"
   ]
  },
  {
   "cell_type": "code",
   "execution_count": null,
   "metadata": {
    "id": "ngdgyV7Wv5Ri"
   },
   "outputs": [],
   "source": [
    "A[1]=(-A[1][0]/A[0][0])*A[0]+A[1]"
   ]
  },
  {
   "cell_type": "code",
   "execution_count": null,
   "metadata": {
    "id": "HQwTglahwM-l"
   },
   "outputs": [],
   "source": [
    "A[2] = (-A[2][0]/A[0][0])*A[0]+A[2]"
   ]
  },
  {
   "cell_type": "code",
   "execution_count": null,
   "metadata": {
    "id": "jYezVpnJwyvf"
   },
   "outputs": [],
   "source": [
    "A[2] = (-A[2][1]/A[1][1])*A[1]+A[2]"
   ]
  },
  {
   "cell_type": "code",
   "execution_count": null,
   "metadata": {
    "colab": {
     "base_uri": "https://localhost:8080/",
     "height": 98
    },
    "id": "U8qB9_pqwiDg",
    "outputId": "1dc7583e-82da-4f9e-9fe2-947e52b957f0"
   },
   "outputs": [
    {
     "data": {
      "text/latex": [
       "$\\displaystyle \\left[\\begin{matrix}a_{11} & a_{12} & a_{13} & r_{1}\\\\0 & a_{22} - \\frac{a_{12} a_{21}}{a_{11}} & a_{23} - \\frac{a_{13} a_{21}}{a_{11}} & r_{2} - \\frac{a_{21} r_{1}}{a_{11}}\\\\0 & 0 & a_{33} + \\frac{\\left(a_{23} - \\frac{a_{13} a_{21}}{a_{11}}\\right) \\left(- a_{32} + \\frac{a_{12} a_{31}}{a_{11}}\\right)}{a_{22} - \\frac{a_{12} a_{21}}{a_{11}}} - \\frac{a_{13} a_{31}}{a_{11}} & r_{3} + \\frac{\\left(- a_{32} + \\frac{a_{12} a_{31}}{a_{11}}\\right) \\left(r_{2} - \\frac{a_{21} r_{1}}{a_{11}}\\right)}{a_{22} - \\frac{a_{12} a_{21}}{a_{11}}} - \\frac{a_{31} r_{1}}{a_{11}}\\end{matrix}\\right]$"
      ],
      "text/plain": [
       "Matrix([\n",
       "[a_{11},                        a_{12},                                                                                                                           a_{13},                                                                                                                        r_{1}],\n",
       "[     0, a_{22} - a_{12}*a_{21}/a_{11},                                                                                                    a_{23} - a_{13}*a_{21}/a_{11},                                                                                                  r_{2} - a_{21}*r_{1}/a_{11}],\n",
       "[     0,                             0, a_{33} + (a_{23} - a_{13}*a_{21}/a_{11})*(-a_{32} + a_{12}*a_{31}/a_{11})/(a_{22} - a_{12}*a_{21}/a_{11}) - a_{13}*a_{31}/a_{11}, r_{3} + (-a_{32} + a_{12}*a_{31}/a_{11})*(r_{2} - a_{21}*r_{1}/a_{11})/(a_{22} - a_{12}*a_{21}/a_{11}) - a_{31}*r_{1}/a_{11}]])"
      ]
     },
     "execution_count": 230,
     "metadata": {},
     "output_type": "execute_result"
    }
   ],
   "source": [
    "sy.Matrix(A)"
   ]
  },
  {
   "cell_type": "code",
   "execution_count": null,
   "metadata": {
    "colab": {
     "base_uri": "https://localhost:8080/"
    },
    "id": "-zKTtcGAxijz",
    "outputId": "b8332684-92ba-4764-dab5-a1ee6542dab6"
   },
   "outputs": [
    {
     "data": {
      "text/plain": [
       "(3, 4)"
      ]
     },
     "execution_count": 231,
     "metadata": {},
     "output_type": "execute_result"
    }
   ],
   "source": [
    "np.shape(A)"
   ]
  },
  {
   "cell_type": "markdown",
   "metadata": {
    "id": "Vyya-ZaP9dJO"
   },
   "source": [
    "# Mi función <3"
   ]
  },
  {
   "cell_type": "code",
   "execution_count": null,
   "metadata": {
    "id": "RV1XV-buxYM0"
   },
   "outputs": [],
   "source": [
    "def reduccion(A):\n",
    "  dim = np.shape(A)\n",
    "  for m in range(dim[0]):\n",
    "    for i in range(dim[1]-1):\n",
    "      if m != i:\n",
    "        if A[i][m] != 0 and A[m][m] != 0:\n",
    "          A[i] = (-A[i][m]/A[m][m])*A[m]+A[i]\n",
    "      #print(A[i])\n",
    "    if A[m][m]!= 0 :\n",
    "      A[m] = A[m]/A[m][m]\n",
    "  return A[:,dim[1]-1:]\n"
   ]
  },
  {
   "cell_type": "code",
   "execution_count": null,
   "metadata": {
    "colab": {
     "base_uri": "https://localhost:8080/",
     "height": 281
    },
    "id": "i0k_BxyjyOPq",
    "outputId": "e28e6f20-9491-4d78-fc6a-d47c3ac863e0"
   },
   "outputs": [
    {
     "data": {
      "text/latex": [
       "$\\displaystyle \\left[\\begin{matrix}1 & 0 & 0 & \\frac{- \\frac{a_{12} \\left(r_{2} - \\frac{a_{21} r_{1}}{a_{11}}\\right)}{a_{22} - \\frac{a_{12} a_{21}}{a_{11}}} + r_{1} + \\frac{\\left(\\frac{a_{12} \\left(a_{23} - \\frac{a_{13} a_{21}}{a_{11}}\\right)}{a_{22} - \\frac{a_{12} a_{21}}{a_{11}}} - a_{13}\\right) \\left(r_{3} + \\frac{\\left(- a_{32} + \\frac{a_{12} a_{31}}{a_{11}}\\right) \\left(r_{2} - \\frac{a_{21} r_{1}}{a_{11}}\\right)}{a_{22} - \\frac{a_{12} a_{21}}{a_{11}}} - \\frac{a_{31} r_{1}}{a_{11}}\\right)}{a_{33} + \\frac{\\left(a_{23} - \\frac{a_{13} a_{21}}{a_{11}}\\right) \\left(- a_{32} + \\frac{a_{12} a_{31}}{a_{11}}\\right)}{a_{22} - \\frac{a_{12} a_{21}}{a_{11}}} - \\frac{a_{13} a_{31}}{a_{11}}}}{a_{11}}\\\\0 & 1 & 0 & \\frac{r_{2} + \\frac{\\left(- a_{23} + \\frac{a_{13} a_{21}}{a_{11}}\\right) \\left(r_{3} + \\frac{\\left(- a_{32} + \\frac{a_{12} a_{31}}{a_{11}}\\right) \\left(r_{2} - \\frac{a_{21} r_{1}}{a_{11}}\\right)}{a_{22} - \\frac{a_{12} a_{21}}{a_{11}}} - \\frac{a_{31} r_{1}}{a_{11}}\\right)}{a_{33} + \\frac{\\left(a_{23} - \\frac{a_{13} a_{21}}{a_{11}}\\right) \\left(- a_{32} + \\frac{a_{12} a_{31}}{a_{11}}\\right)}{a_{22} - \\frac{a_{12} a_{21}}{a_{11}}} - \\frac{a_{13} a_{31}}{a_{11}}} - \\frac{a_{21} r_{1}}{a_{11}}}{a_{22} - \\frac{a_{12} a_{21}}{a_{11}}}\\\\0 & 0 & 1 & \\frac{r_{3} + \\frac{\\left(- a_{32} + \\frac{a_{12} a_{31}}{a_{11}}\\right) \\left(r_{2} - \\frac{a_{21} r_{1}}{a_{11}}\\right)}{a_{22} - \\frac{a_{12} a_{21}}{a_{11}}} - \\frac{a_{31} r_{1}}{a_{11}}}{a_{33} + \\frac{\\left(a_{23} - \\frac{a_{13} a_{21}}{a_{11}}\\right) \\left(- a_{32} + \\frac{a_{12} a_{31}}{a_{11}}\\right)}{a_{22} - \\frac{a_{12} a_{21}}{a_{11}}} - \\frac{a_{13} a_{31}}{a_{11}}}\\end{matrix}\\right]$"
      ],
      "text/plain": [
       "Matrix([\n",
       "[1, 0, 0, (-a_{12}*(r_{2} - a_{21}*r_{1}/a_{11})/(a_{22} - a_{12}*a_{21}/a_{11}) + r_{1} + (a_{12}*(a_{23} - a_{13}*a_{21}/a_{11})/(a_{22} - a_{12}*a_{21}/a_{11}) - a_{13})*(r_{3} + (-a_{32} + a_{12}*a_{31}/a_{11})*(r_{2} - a_{21}*r_{1}/a_{11})/(a_{22} - a_{12}*a_{21}/a_{11}) - a_{31}*r_{1}/a_{11})/(a_{33} + (a_{23} - a_{13}*a_{21}/a_{11})*(-a_{32} + a_{12}*a_{31}/a_{11})/(a_{22} - a_{12}*a_{21}/a_{11}) - a_{13}*a_{31}/a_{11}))/a_{11}],\n",
       "[0, 1, 0,                                                                           (r_{2} + (-a_{23} + a_{13}*a_{21}/a_{11})*(r_{3} + (-a_{32} + a_{12}*a_{31}/a_{11})*(r_{2} - a_{21}*r_{1}/a_{11})/(a_{22} - a_{12}*a_{21}/a_{11}) - a_{31}*r_{1}/a_{11})/(a_{33} + (a_{23} - a_{13}*a_{21}/a_{11})*(-a_{32} + a_{12}*a_{31}/a_{11})/(a_{22} - a_{12}*a_{21}/a_{11}) - a_{13}*a_{31}/a_{11}) - a_{21}*r_{1}/a_{11})/(a_{22} - a_{12}*a_{21}/a_{11})],\n",
       "[0, 0, 1,                                                                                                                                                                            (r_{3} + (-a_{32} + a_{12}*a_{31}/a_{11})*(r_{2} - a_{21}*r_{1}/a_{11})/(a_{22} - a_{12}*a_{21}/a_{11}) - a_{31}*r_{1}/a_{11})/(a_{33} + (a_{23} - a_{13}*a_{21}/a_{11})*(-a_{32} + a_{12}*a_{31}/a_{11})/(a_{22} - a_{12}*a_{21}/a_{11}) - a_{13}*a_{31}/a_{11})]])"
      ]
     },
     "execution_count": 244,
     "metadata": {},
     "output_type": "execute_result"
    }
   ],
   "source": [
    "sy.Matrix(reduccion(A))"
   ]
  },
  {
   "cell_type": "code",
   "execution_count": null,
   "metadata": {
    "colab": {
     "base_uri": "https://localhost:8080/",
     "height": 78
    },
    "id": "3wNzevzs2sX7",
    "outputId": "015befc0-d86f-4ae8-dea9-4a5ce4faa2bb"
   },
   "outputs": [
    {
     "data": {
      "text/latex": [
       "$\\displaystyle \\left[\\begin{matrix}-2.0\\\\7.0\\\\2.0\\end{matrix}\\right]$"
      ],
      "text/plain": [
       "Matrix([\n",
       "[-2.0],\n",
       "[ 7.0],\n",
       "[ 2.0]])"
      ]
     },
     "execution_count": 28,
     "metadata": {},
     "output_type": "execute_result"
    }
   ],
   "source": [
    "sy.Matrix(reduccion(reducida))\n",
    "# Falta que los cosos sean 1"
   ]
  },
  {
   "cell_type": "code",
   "execution_count": null,
   "metadata": {
    "colab": {
     "base_uri": "https://localhost:8080/",
     "height": 281
    },
    "id": "_FfjCIOH3aco",
    "outputId": "2dcf4f64-a84e-4b95-d2d5-1661c44f2fac"
   },
   "outputs": [
    {
     "data": {
      "text/latex": [
       "$\\displaystyle \\left[\\begin{matrix}1 & 0 & 0 & \\frac{- \\frac{a_{12} \\left(r_{2} - \\frac{a_{21} r_{1}}{a_{11}}\\right)}{a_{22} - \\frac{a_{12} a_{21}}{a_{11}}} + r_{1} + \\frac{\\left(\\frac{a_{12} \\left(a_{23} - \\frac{a_{13} a_{21}}{a_{11}}\\right)}{a_{22} - \\frac{a_{12} a_{21}}{a_{11}}} - a_{13}\\right) \\left(r_{3} + \\frac{\\left(- a_{32} + \\frac{a_{12} a_{31}}{a_{11}}\\right) \\left(r_{2} - \\frac{a_{21} r_{1}}{a_{11}}\\right)}{a_{22} - \\frac{a_{12} a_{21}}{a_{11}}} - \\frac{a_{31} r_{1}}{a_{11}}\\right)}{a_{33} + \\frac{\\left(a_{23} - \\frac{a_{13} a_{21}}{a_{11}}\\right) \\left(- a_{32} + \\frac{a_{12} a_{31}}{a_{11}}\\right)}{a_{22} - \\frac{a_{12} a_{21}}{a_{11}}} - \\frac{a_{13} a_{31}}{a_{11}}}}{a_{11}}\\\\0 & 1 & 0 & \\frac{r_{2} + \\frac{\\left(- a_{23} + \\frac{a_{13} a_{21}}{a_{11}}\\right) \\left(r_{3} + \\frac{\\left(- a_{32} + \\frac{a_{12} a_{31}}{a_{11}}\\right) \\left(r_{2} - \\frac{a_{21} r_{1}}{a_{11}}\\right)}{a_{22} - \\frac{a_{12} a_{21}}{a_{11}}} - \\frac{a_{31} r_{1}}{a_{11}}\\right)}{a_{33} + \\frac{\\left(a_{23} - \\frac{a_{13} a_{21}}{a_{11}}\\right) \\left(- a_{32} + \\frac{a_{12} a_{31}}{a_{11}}\\right)}{a_{22} - \\frac{a_{12} a_{21}}{a_{11}}} - \\frac{a_{13} a_{31}}{a_{11}}} - \\frac{a_{21} r_{1}}{a_{11}}}{a_{22} - \\frac{a_{12} a_{21}}{a_{11}}}\\\\0 & 0 & 1 & \\frac{r_{3} + \\frac{\\left(- a_{32} + \\frac{a_{12} a_{31}}{a_{11}}\\right) \\left(r_{2} - \\frac{a_{21} r_{1}}{a_{11}}\\right)}{a_{22} - \\frac{a_{12} a_{21}}{a_{11}}} - \\frac{a_{31} r_{1}}{a_{11}}}{a_{33} + \\frac{\\left(a_{23} - \\frac{a_{13} a_{21}}{a_{11}}\\right) \\left(- a_{32} + \\frac{a_{12} a_{31}}{a_{11}}\\right)}{a_{22} - \\frac{a_{12} a_{21}}{a_{11}}} - \\frac{a_{13} a_{31}}{a_{11}}}\\end{matrix}\\right]$"
      ],
      "text/plain": [
       "Matrix([\n",
       "[1, 0, 0, (-a_{12}*(r_{2} - a_{21}*r_{1}/a_{11})/(a_{22} - a_{12}*a_{21}/a_{11}) + r_{1} + (a_{12}*(a_{23} - a_{13}*a_{21}/a_{11})/(a_{22} - a_{12}*a_{21}/a_{11}) - a_{13})*(r_{3} + (-a_{32} + a_{12}*a_{31}/a_{11})*(r_{2} - a_{21}*r_{1}/a_{11})/(a_{22} - a_{12}*a_{21}/a_{11}) - a_{31}*r_{1}/a_{11})/(a_{33} + (a_{23} - a_{13}*a_{21}/a_{11})*(-a_{32} + a_{12}*a_{31}/a_{11})/(a_{22} - a_{12}*a_{21}/a_{11}) - a_{13}*a_{31}/a_{11}))/a_{11}],\n",
       "[0, 1, 0,                                                                           (r_{2} + (-a_{23} + a_{13}*a_{21}/a_{11})*(r_{3} + (-a_{32} + a_{12}*a_{31}/a_{11})*(r_{2} - a_{21}*r_{1}/a_{11})/(a_{22} - a_{12}*a_{21}/a_{11}) - a_{31}*r_{1}/a_{11})/(a_{33} + (a_{23} - a_{13}*a_{21}/a_{11})*(-a_{32} + a_{12}*a_{31}/a_{11})/(a_{22} - a_{12}*a_{21}/a_{11}) - a_{13}*a_{31}/a_{11}) - a_{21}*r_{1}/a_{11})/(a_{22} - a_{12}*a_{21}/a_{11})],\n",
       "[0, 0, 1,                                                                                                                                                                            (r_{3} + (-a_{32} + a_{12}*a_{31}/a_{11})*(r_{2} - a_{21}*r_{1}/a_{11})/(a_{22} - a_{12}*a_{21}/a_{11}) - a_{31}*r_{1}/a_{11})/(a_{33} + (a_{23} - a_{13}*a_{21}/a_{11})*(-a_{32} + a_{12}*a_{31}/a_{11})/(a_{22} - a_{12}*a_{21}/a_{11}) - a_{13}*a_{31}/a_{11})]])"
      ]
     },
     "execution_count": 248,
     "metadata": {},
     "output_type": "execute_result"
    }
   ],
   "source": [
    "sy.Matrix(A)"
   ]
  },
  {
   "cell_type": "code",
   "execution_count": null,
   "metadata": {
    "colab": {
     "base_uri": "https://localhost:8080/",
     "height": 281
    },
    "id": "iJtWThjN3fle",
    "outputId": "14ed32be-e39c-4e5d-ae16-85cee853cb49"
   },
   "outputs": [
    {
     "data": {
      "text/latex": [
       "$\\displaystyle \\left[\\begin{matrix}\\frac{- \\frac{a_{12} \\left(r_{2} - \\frac{a_{21} r_{1}}{a_{11}}\\right)}{a_{22} - \\frac{a_{12} a_{21}}{a_{11}}} + r_{1} + \\frac{\\left(\\frac{a_{12} \\left(a_{23} - \\frac{a_{13} a_{21}}{a_{11}}\\right)}{a_{22} - \\frac{a_{12} a_{21}}{a_{11}}} - a_{13}\\right) \\left(r_{3} + \\frac{\\left(- a_{32} + \\frac{a_{12} a_{31}}{a_{11}}\\right) \\left(r_{2} - \\frac{a_{21} r_{1}}{a_{11}}\\right)}{a_{22} - \\frac{a_{12} a_{21}}{a_{11}}} - \\frac{a_{31} r_{1}}{a_{11}}\\right)}{a_{33} + \\frac{\\left(a_{23} - \\frac{a_{13} a_{21}}{a_{11}}\\right) \\left(- a_{32} + \\frac{a_{12} a_{31}}{a_{11}}\\right)}{a_{22} - \\frac{a_{12} a_{21}}{a_{11}}} - \\frac{a_{13} a_{31}}{a_{11}}}}{a_{11}}\\\\\\frac{r_{2} + \\frac{\\left(- a_{23} + \\frac{a_{13} a_{21}}{a_{11}}\\right) \\left(r_{3} + \\frac{\\left(- a_{32} + \\frac{a_{12} a_{31}}{a_{11}}\\right) \\left(r_{2} - \\frac{a_{21} r_{1}}{a_{11}}\\right)}{a_{22} - \\frac{a_{12} a_{21}}{a_{11}}} - \\frac{a_{31} r_{1}}{a_{11}}\\right)}{a_{33} + \\frac{\\left(a_{23} - \\frac{a_{13} a_{21}}{a_{11}}\\right) \\left(- a_{32} + \\frac{a_{12} a_{31}}{a_{11}}\\right)}{a_{22} - \\frac{a_{12} a_{21}}{a_{11}}} - \\frac{a_{13} a_{31}}{a_{11}}} - \\frac{a_{21} r_{1}}{a_{11}}}{a_{22} - \\frac{a_{12} a_{21}}{a_{11}}}\\\\\\frac{r_{3} + \\frac{\\left(- a_{32} + \\frac{a_{12} a_{31}}{a_{11}}\\right) \\left(r_{2} - \\frac{a_{21} r_{1}}{a_{11}}\\right)}{a_{22} - \\frac{a_{12} a_{21}}{a_{11}}} - \\frac{a_{31} r_{1}}{a_{11}}}{a_{33} + \\frac{\\left(a_{23} - \\frac{a_{13} a_{21}}{a_{11}}\\right) \\left(- a_{32} + \\frac{a_{12} a_{31}}{a_{11}}\\right)}{a_{22} - \\frac{a_{12} a_{21}}{a_{11}}} - \\frac{a_{13} a_{31}}{a_{11}}}\\end{matrix}\\right]$"
      ],
      "text/plain": [
       "Matrix([\n",
       "[(-a_{12}*(r_{2} - a_{21}*r_{1}/a_{11})/(a_{22} - a_{12}*a_{21}/a_{11}) + r_{1} + (a_{12}*(a_{23} - a_{13}*a_{21}/a_{11})/(a_{22} - a_{12}*a_{21}/a_{11}) - a_{13})*(r_{3} + (-a_{32} + a_{12}*a_{31}/a_{11})*(r_{2} - a_{21}*r_{1}/a_{11})/(a_{22} - a_{12}*a_{21}/a_{11}) - a_{31}*r_{1}/a_{11})/(a_{33} + (a_{23} - a_{13}*a_{21}/a_{11})*(-a_{32} + a_{12}*a_{31}/a_{11})/(a_{22} - a_{12}*a_{21}/a_{11}) - a_{13}*a_{31}/a_{11}))/a_{11}],\n",
       "[                                                                          (r_{2} + (-a_{23} + a_{13}*a_{21}/a_{11})*(r_{3} + (-a_{32} + a_{12}*a_{31}/a_{11})*(r_{2} - a_{21}*r_{1}/a_{11})/(a_{22} - a_{12}*a_{21}/a_{11}) - a_{31}*r_{1}/a_{11})/(a_{33} + (a_{23} - a_{13}*a_{21}/a_{11})*(-a_{32} + a_{12}*a_{31}/a_{11})/(a_{22} - a_{12}*a_{21}/a_{11}) - a_{13}*a_{31}/a_{11}) - a_{21}*r_{1}/a_{11})/(a_{22} - a_{12}*a_{21}/a_{11})],\n",
       "[                                                                                                                                                                           (r_{3} + (-a_{32} + a_{12}*a_{31}/a_{11})*(r_{2} - a_{21}*r_{1}/a_{11})/(a_{22} - a_{12}*a_{21}/a_{11}) - a_{31}*r_{1}/a_{11})/(a_{33} + (a_{23} - a_{13}*a_{21}/a_{11})*(-a_{32} + a_{12}*a_{31}/a_{11})/(a_{22} - a_{12}*a_{21}/a_{11}) - a_{13}*a_{31}/a_{11})]])"
      ]
     },
     "execution_count": 252,
     "metadata": {},
     "output_type": "execute_result"
    }
   ],
   "source": [
    "sy.Matrix(reduccion(A))"
   ]
  },
  {
   "cell_type": "code",
   "execution_count": null,
   "metadata": {
    "id": "dDeVYSps6QqH"
   },
   "outputs": [],
   "source": [
    "prueba = []\n",
    "for i in range(4):\n",
    "  for m in range(4):\n",
    "    r = \"a_{\"+str(i+1)+str(m+1)+\"}\"\n",
    "    prueba.append(sy.Symbol(r))\n",
    "  prueba.append(sy.Symbol(\"r_{\"+str(i+1)+\"}\"))\n",
    "prueba = np.array(prueba).reshape(4,5)"
   ]
  },
  {
   "cell_type": "code",
   "execution_count": null,
   "metadata": {
    "colab": {
     "base_uri": "https://localhost:8080/",
     "height": 98
    },
    "id": "j2QfUxCI6VML",
    "outputId": "f9bd7673-fce9-4290-c48f-ffcc328770e3"
   },
   "outputs": [
    {
     "data": {
      "text/latex": [
       "$\\displaystyle \\left[\\begin{matrix}a_{11} & a_{12} & a_{13} & a_{14} & r_{1}\\\\a_{21} & a_{22} & a_{23} & a_{24} & r_{2}\\\\a_{31} & a_{32} & a_{33} & a_{34} & r_{3}\\\\a_{41} & a_{42} & a_{43} & a_{44} & r_{4}\\end{matrix}\\right]$"
      ],
      "text/plain": [
       "Matrix([\n",
       "[a_{11}, a_{12}, a_{13}, a_{14}, r_{1}],\n",
       "[a_{21}, a_{22}, a_{23}, a_{24}, r_{2}],\n",
       "[a_{31}, a_{32}, a_{33}, a_{34}, r_{3}],\n",
       "[a_{41}, a_{42}, a_{43}, a_{44}, r_{4}]])"
      ]
     },
     "execution_count": 23,
     "metadata": {},
     "output_type": "execute_result"
    }
   ],
   "source": [
    "sy.Matrix(prueba)"
   ]
  },
  {
   "cell_type": "code",
   "execution_count": null,
   "metadata": {
    "colab": {
     "base_uri": "https://localhost:8080/",
     "height": 688
    },
    "id": "HRlBzcuk6-Us",
    "outputId": "c165793c-c5da-450c-abcd-8c89336de8c4"
   },
   "outputs": [
    {
     "data": {
      "text/latex": [
       "$\\displaystyle \\left[\\begin{matrix}\\frac{\\left(\\frac{a_{12} \\left(a_{23} - \\frac{a_{13} a_{21}}{a_{11}}\\right)}{a_{11} \\left(a_{22} - \\frac{a_{12} a_{21}}{a_{11}}\\right)} - \\frac{a_{13}}{a_{11}}\\right) \\left(r_{3} + \\frac{\\left(- a_{32} + \\frac{a_{12} a_{31}}{a_{11}}\\right) \\left(r_{2} - \\frac{a_{21} r_{1}}{a_{11}}\\right)}{a_{22} - \\frac{a_{12} a_{21}}{a_{11}}} - \\frac{a_{31} r_{1}}{a_{11}}\\right)}{a_{33} + \\frac{\\left(a_{23} - \\frac{a_{13} a_{21}}{a_{11}}\\right) \\left(- a_{32} + \\frac{a_{12} a_{31}}{a_{11}}\\right)}{a_{22} - \\frac{a_{12} a_{21}}{a_{11}}} - \\frac{a_{13} a_{31}}{a_{11}}} + \\frac{\\left(- \\frac{\\left(\\frac{a_{12} \\left(a_{23} - \\frac{a_{13} a_{21}}{a_{11}}\\right)}{a_{11} \\left(a_{22} - \\frac{a_{12} a_{21}}{a_{11}}\\right)} - \\frac{a_{13}}{a_{11}}\\right) \\left(a_{34} + \\frac{\\left(a_{24} - \\frac{a_{14} a_{21}}{a_{11}}\\right) \\left(- a_{32} + \\frac{a_{12} a_{31}}{a_{11}}\\right)}{a_{22} - \\frac{a_{12} a_{21}}{a_{11}}} - \\frac{a_{14} a_{31}}{a_{11}}\\right)}{a_{33} + \\frac{\\left(a_{23} - \\frac{a_{13} a_{21}}{a_{11}}\\right) \\left(- a_{32} + \\frac{a_{12} a_{31}}{a_{11}}\\right)}{a_{22} - \\frac{a_{12} a_{21}}{a_{11}}} - \\frac{a_{13} a_{31}}{a_{11}}} + \\frac{a_{12} \\left(a_{24} - \\frac{a_{14} a_{21}}{a_{11}}\\right)}{a_{11} \\left(a_{22} - \\frac{a_{12} a_{21}}{a_{11}}\\right)} - \\frac{a_{14}}{a_{11}}\\right) \\left(r_{4} + \\frac{\\left(- a_{43} - \\frac{\\left(a_{23} - \\frac{a_{13} a_{21}}{a_{11}}\\right) \\left(- a_{42} + \\frac{a_{12} a_{41}}{a_{11}}\\right)}{a_{22} - \\frac{a_{12} a_{21}}{a_{11}}} + \\frac{a_{13} a_{41}}{a_{11}}\\right) \\left(r_{3} + \\frac{\\left(- a_{32} + \\frac{a_{12} a_{31}}{a_{11}}\\right) \\left(r_{2} - \\frac{a_{21} r_{1}}{a_{11}}\\right)}{a_{22} - \\frac{a_{12} a_{21}}{a_{11}}} - \\frac{a_{31} r_{1}}{a_{11}}\\right)}{a_{33} + \\frac{\\left(a_{23} - \\frac{a_{13} a_{21}}{a_{11}}\\right) \\left(- a_{32} + \\frac{a_{12} a_{31}}{a_{11}}\\right)}{a_{22} - \\frac{a_{12} a_{21}}{a_{11}}} - \\frac{a_{13} a_{31}}{a_{11}}} + \\frac{\\left(- a_{42} + \\frac{a_{12} a_{41}}{a_{11}}\\right) \\left(r_{2} - \\frac{a_{21} r_{1}}{a_{11}}\\right)}{a_{22} - \\frac{a_{12} a_{21}}{a_{11}}} - \\frac{a_{41} r_{1}}{a_{11}}\\right)}{a_{44} + \\frac{\\left(a_{34} + \\frac{\\left(a_{24} - \\frac{a_{14} a_{21}}{a_{11}}\\right) \\left(- a_{32} + \\frac{a_{12} a_{31}}{a_{11}}\\right)}{a_{22} - \\frac{a_{12} a_{21}}{a_{11}}} - \\frac{a_{14} a_{31}}{a_{11}}\\right) \\left(- a_{43} - \\frac{\\left(a_{23} - \\frac{a_{13} a_{21}}{a_{11}}\\right) \\left(- a_{42} + \\frac{a_{12} a_{41}}{a_{11}}\\right)}{a_{22} - \\frac{a_{12} a_{21}}{a_{11}}} + \\frac{a_{13} a_{41}}{a_{11}}\\right)}{a_{33} + \\frac{\\left(a_{23} - \\frac{a_{13} a_{21}}{a_{11}}\\right) \\left(- a_{32} + \\frac{a_{12} a_{31}}{a_{11}}\\right)}{a_{22} - \\frac{a_{12} a_{21}}{a_{11}}} - \\frac{a_{13} a_{31}}{a_{11}}} + \\frac{\\left(a_{24} - \\frac{a_{14} a_{21}}{a_{11}}\\right) \\left(- a_{42} + \\frac{a_{12} a_{41}}{a_{11}}\\right)}{a_{22} - \\frac{a_{12} a_{21}}{a_{11}}} - \\frac{a_{14} a_{41}}{a_{11}}} - \\frac{a_{12} \\left(r_{2} - \\frac{a_{21} r_{1}}{a_{11}}\\right)}{a_{11} \\left(a_{22} - \\frac{a_{12} a_{21}}{a_{11}}\\right)} + \\frac{r_{1}}{a_{11}}\\\\\\frac{\\left(\\frac{\\left(a_{23} - \\frac{a_{13} a_{21}}{a_{11}}\\right) \\left(a_{34} + \\frac{\\left(a_{24} - \\frac{a_{14} a_{21}}{a_{11}}\\right) \\left(- a_{32} + \\frac{a_{12} a_{31}}{a_{11}}\\right)}{a_{22} - \\frac{a_{12} a_{21}}{a_{11}}} - \\frac{a_{14} a_{31}}{a_{11}}\\right)}{\\left(a_{22} - \\frac{a_{12} a_{21}}{a_{11}}\\right) \\left(a_{33} + \\frac{\\left(a_{23} - \\frac{a_{13} a_{21}}{a_{11}}\\right) \\left(- a_{32} + \\frac{a_{12} a_{31}}{a_{11}}\\right)}{a_{22} - \\frac{a_{12} a_{21}}{a_{11}}} - \\frac{a_{13} a_{31}}{a_{11}}\\right)} - \\frac{a_{24} - \\frac{a_{14} a_{21}}{a_{11}}}{a_{22} - \\frac{a_{12} a_{21}}{a_{11}}}\\right) \\left(r_{4} + \\frac{\\left(- a_{43} - \\frac{\\left(a_{23} - \\frac{a_{13} a_{21}}{a_{11}}\\right) \\left(- a_{42} + \\frac{a_{12} a_{41}}{a_{11}}\\right)}{a_{22} - \\frac{a_{12} a_{21}}{a_{11}}} + \\frac{a_{13} a_{41}}{a_{11}}\\right) \\left(r_{3} + \\frac{\\left(- a_{32} + \\frac{a_{12} a_{31}}{a_{11}}\\right) \\left(r_{2} - \\frac{a_{21} r_{1}}{a_{11}}\\right)}{a_{22} - \\frac{a_{12} a_{21}}{a_{11}}} - \\frac{a_{31} r_{1}}{a_{11}}\\right)}{a_{33} + \\frac{\\left(a_{23} - \\frac{a_{13} a_{21}}{a_{11}}\\right) \\left(- a_{32} + \\frac{a_{12} a_{31}}{a_{11}}\\right)}{a_{22} - \\frac{a_{12} a_{21}}{a_{11}}} - \\frac{a_{13} a_{31}}{a_{11}}} + \\frac{\\left(- a_{42} + \\frac{a_{12} a_{41}}{a_{11}}\\right) \\left(r_{2} - \\frac{a_{21} r_{1}}{a_{11}}\\right)}{a_{22} - \\frac{a_{12} a_{21}}{a_{11}}} - \\frac{a_{41} r_{1}}{a_{11}}\\right)}{a_{44} + \\frac{\\left(a_{34} + \\frac{\\left(a_{24} - \\frac{a_{14} a_{21}}{a_{11}}\\right) \\left(- a_{32} + \\frac{a_{12} a_{31}}{a_{11}}\\right)}{a_{22} - \\frac{a_{12} a_{21}}{a_{11}}} - \\frac{a_{14} a_{31}}{a_{11}}\\right) \\left(- a_{43} - \\frac{\\left(a_{23} - \\frac{a_{13} a_{21}}{a_{11}}\\right) \\left(- a_{42} + \\frac{a_{12} a_{41}}{a_{11}}\\right)}{a_{22} - \\frac{a_{12} a_{21}}{a_{11}}} + \\frac{a_{13} a_{41}}{a_{11}}\\right)}{a_{33} + \\frac{\\left(a_{23} - \\frac{a_{13} a_{21}}{a_{11}}\\right) \\left(- a_{32} + \\frac{a_{12} a_{31}}{a_{11}}\\right)}{a_{22} - \\frac{a_{12} a_{21}}{a_{11}}} - \\frac{a_{13} a_{31}}{a_{11}}} + \\frac{\\left(a_{24} - \\frac{a_{14} a_{21}}{a_{11}}\\right) \\left(- a_{42} + \\frac{a_{12} a_{41}}{a_{11}}\\right)}{a_{22} - \\frac{a_{12} a_{21}}{a_{11}}} - \\frac{a_{14} a_{41}}{a_{11}}} - \\frac{\\left(a_{23} - \\frac{a_{13} a_{21}}{a_{11}}\\right) \\left(r_{3} + \\frac{\\left(- a_{32} + \\frac{a_{12} a_{31}}{a_{11}}\\right) \\left(r_{2} - \\frac{a_{21} r_{1}}{a_{11}}\\right)}{a_{22} - \\frac{a_{12} a_{21}}{a_{11}}} - \\frac{a_{31} r_{1}}{a_{11}}\\right)}{\\left(a_{22} - \\frac{a_{12} a_{21}}{a_{11}}\\right) \\left(a_{33} + \\frac{\\left(a_{23} - \\frac{a_{13} a_{21}}{a_{11}}\\right) \\left(- a_{32} + \\frac{a_{12} a_{31}}{a_{11}}\\right)}{a_{22} - \\frac{a_{12} a_{21}}{a_{11}}} - \\frac{a_{13} a_{31}}{a_{11}}\\right)} + \\frac{r_{2} - \\frac{a_{21} r_{1}}{a_{11}}}{a_{22} - \\frac{a_{12} a_{21}}{a_{11}}}\\\\- \\frac{\\left(a_{34} + \\frac{\\left(a_{24} - \\frac{a_{14} a_{21}}{a_{11}}\\right) \\left(- a_{32} + \\frac{a_{12} a_{31}}{a_{11}}\\right)}{a_{22} - \\frac{a_{12} a_{21}}{a_{11}}} - \\frac{a_{14} a_{31}}{a_{11}}\\right) \\left(r_{4} + \\frac{\\left(- a_{43} - \\frac{\\left(a_{23} - \\frac{a_{13} a_{21}}{a_{11}}\\right) \\left(- a_{42} + \\frac{a_{12} a_{41}}{a_{11}}\\right)}{a_{22} - \\frac{a_{12} a_{21}}{a_{11}}} + \\frac{a_{13} a_{41}}{a_{11}}\\right) \\left(r_{3} + \\frac{\\left(- a_{32} + \\frac{a_{12} a_{31}}{a_{11}}\\right) \\left(r_{2} - \\frac{a_{21} r_{1}}{a_{11}}\\right)}{a_{22} - \\frac{a_{12} a_{21}}{a_{11}}} - \\frac{a_{31} r_{1}}{a_{11}}\\right)}{a_{33} + \\frac{\\left(a_{23} - \\frac{a_{13} a_{21}}{a_{11}}\\right) \\left(- a_{32} + \\frac{a_{12} a_{31}}{a_{11}}\\right)}{a_{22} - \\frac{a_{12} a_{21}}{a_{11}}} - \\frac{a_{13} a_{31}}{a_{11}}} + \\frac{\\left(- a_{42} + \\frac{a_{12} a_{41}}{a_{11}}\\right) \\left(r_{2} - \\frac{a_{21} r_{1}}{a_{11}}\\right)}{a_{22} - \\frac{a_{12} a_{21}}{a_{11}}} - \\frac{a_{41} r_{1}}{a_{11}}\\right)}{\\left(a_{33} + \\frac{\\left(a_{23} - \\frac{a_{13} a_{21}}{a_{11}}\\right) \\left(- a_{32} + \\frac{a_{12} a_{31}}{a_{11}}\\right)}{a_{22} - \\frac{a_{12} a_{21}}{a_{11}}} - \\frac{a_{13} a_{31}}{a_{11}}\\right) \\left(a_{44} + \\frac{\\left(a_{34} + \\frac{\\left(a_{24} - \\frac{a_{14} a_{21}}{a_{11}}\\right) \\left(- a_{32} + \\frac{a_{12} a_{31}}{a_{11}}\\right)}{a_{22} - \\frac{a_{12} a_{21}}{a_{11}}} - \\frac{a_{14} a_{31}}{a_{11}}\\right) \\left(- a_{43} - \\frac{\\left(a_{23} - \\frac{a_{13} a_{21}}{a_{11}}\\right) \\left(- a_{42} + \\frac{a_{12} a_{41}}{a_{11}}\\right)}{a_{22} - \\frac{a_{12} a_{21}}{a_{11}}} + \\frac{a_{13} a_{41}}{a_{11}}\\right)}{a_{33} + \\frac{\\left(a_{23} - \\frac{a_{13} a_{21}}{a_{11}}\\right) \\left(- a_{32} + \\frac{a_{12} a_{31}}{a_{11}}\\right)}{a_{22} - \\frac{a_{12} a_{21}}{a_{11}}} - \\frac{a_{13} a_{31}}{a_{11}}} + \\frac{\\left(a_{24} - \\frac{a_{14} a_{21}}{a_{11}}\\right) \\left(- a_{42} + \\frac{a_{12} a_{41}}{a_{11}}\\right)}{a_{22} - \\frac{a_{12} a_{21}}{a_{11}}} - \\frac{a_{14} a_{41}}{a_{11}}\\right)} + \\frac{r_{3} + \\frac{\\left(- a_{32} + \\frac{a_{12} a_{31}}{a_{11}}\\right) \\left(r_{2} - \\frac{a_{21} r_{1}}{a_{11}}\\right)}{a_{22} - \\frac{a_{12} a_{21}}{a_{11}}} - \\frac{a_{31} r_{1}}{a_{11}}}{a_{33} + \\frac{\\left(a_{23} - \\frac{a_{13} a_{21}}{a_{11}}\\right) \\left(- a_{32} + \\frac{a_{12} a_{31}}{a_{11}}\\right)}{a_{22} - \\frac{a_{12} a_{21}}{a_{11}}} - \\frac{a_{13} a_{31}}{a_{11}}}\\\\\\frac{r_{4} + \\frac{\\left(- a_{43} - \\frac{\\left(a_{23} - \\frac{a_{13} a_{21}}{a_{11}}\\right) \\left(- a_{42} + \\frac{a_{12} a_{41}}{a_{11}}\\right)}{a_{22} - \\frac{a_{12} a_{21}}{a_{11}}} + \\frac{a_{13} a_{41}}{a_{11}}\\right) \\left(r_{3} + \\frac{\\left(- a_{32} + \\frac{a_{12} a_{31}}{a_{11}}\\right) \\left(r_{2} - \\frac{a_{21} r_{1}}{a_{11}}\\right)}{a_{22} - \\frac{a_{12} a_{21}}{a_{11}}} - \\frac{a_{31} r_{1}}{a_{11}}\\right)}{a_{33} + \\frac{\\left(a_{23} - \\frac{a_{13} a_{21}}{a_{11}}\\right) \\left(- a_{32} + \\frac{a_{12} a_{31}}{a_{11}}\\right)}{a_{22} - \\frac{a_{12} a_{21}}{a_{11}}} - \\frac{a_{13} a_{31}}{a_{11}}} + \\frac{\\left(- a_{42} + \\frac{a_{12} a_{41}}{a_{11}}\\right) \\left(r_{2} - \\frac{a_{21} r_{1}}{a_{11}}\\right)}{a_{22} - \\frac{a_{12} a_{21}}{a_{11}}} - \\frac{a_{41} r_{1}}{a_{11}}}{a_{44} + \\frac{\\left(a_{34} + \\frac{\\left(a_{24} - \\frac{a_{14} a_{21}}{a_{11}}\\right) \\left(- a_{32} + \\frac{a_{12} a_{31}}{a_{11}}\\right)}{a_{22} - \\frac{a_{12} a_{21}}{a_{11}}} - \\frac{a_{14} a_{31}}{a_{11}}\\right) \\left(- a_{43} - \\frac{\\left(a_{23} - \\frac{a_{13} a_{21}}{a_{11}}\\right) \\left(- a_{42} + \\frac{a_{12} a_{41}}{a_{11}}\\right)}{a_{22} - \\frac{a_{12} a_{21}}{a_{11}}} + \\frac{a_{13} a_{41}}{a_{11}}\\right)}{a_{33} + \\frac{\\left(a_{23} - \\frac{a_{13} a_{21}}{a_{11}}\\right) \\left(- a_{32} + \\frac{a_{12} a_{31}}{a_{11}}\\right)}{a_{22} - \\frac{a_{12} a_{21}}{a_{11}}} - \\frac{a_{13} a_{31}}{a_{11}}} + \\frac{\\left(a_{24} - \\frac{a_{14} a_{21}}{a_{11}}\\right) \\left(- a_{42} + \\frac{a_{12} a_{41}}{a_{11}}\\right)}{a_{22} - \\frac{a_{12} a_{21}}{a_{11}}} - \\frac{a_{14} a_{41}}{a_{11}}}\\end{matrix}\\right]$"
      ],
      "text/plain": [
       "Matrix([\n",
       "[(a_{12}*(a_{23} - a_{13}*a_{21}/a_{11})/(a_{11}*(a_{22} - a_{12}*a_{21}/a_{11})) - a_{13}/a_{11})*(r_{3} + (-a_{32} + a_{12}*a_{31}/a_{11})*(r_{2} - a_{21}*r_{1}/a_{11})/(a_{22} - a_{12}*a_{21}/a_{11}) - a_{31}*r_{1}/a_{11})/(a_{33} + (a_{23} - a_{13}*a_{21}/a_{11})*(-a_{32} + a_{12}*a_{31}/a_{11})/(a_{22} - a_{12}*a_{21}/a_{11}) - a_{13}*a_{31}/a_{11}) + (-(a_{12}*(a_{23} - a_{13}*a_{21}/a_{11})/(a_{11}*(a_{22} - a_{12}*a_{21}/a_{11})) - a_{13}/a_{11})*(a_{34} + (a_{24} - a_{14}*a_{21}/a_{11})*(-a_{32} + a_{12}*a_{31}/a_{11})/(a_{22} - a_{12}*a_{21}/a_{11}) - a_{14}*a_{31}/a_{11})/(a_{33} + (a_{23} - a_{13}*a_{21}/a_{11})*(-a_{32} + a_{12}*a_{31}/a_{11})/(a_{22} - a_{12}*a_{21}/a_{11}) - a_{13}*a_{31}/a_{11}) + a_{12}*(a_{24} - a_{14}*a_{21}/a_{11})/(a_{11}*(a_{22} - a_{12}*a_{21}/a_{11})) - a_{14}/a_{11})*(r_{4} + (-a_{43} - (a_{23} - a_{13}*a_{21}/a_{11})*(-a_{42} + a_{12}*a_{41}/a_{11})/(a_{22} - a_{12}*a_{21}/a_{11}) + a_{13}*a_{41}/a_{11})*(r_{3} + (-a_{32} + a_{12}*a_{31}/a_{11})*(r_{2} - a_{21}*r_{1}/a_{11})/(a_{22} - a_{12}*a_{21}/a_{11}) - a_{31}*r_{1}/a_{11})/(a_{33} + (a_{23} - a_{13}*a_{21}/a_{11})*(-a_{32} + a_{12}*a_{31}/a_{11})/(a_{22} - a_{12}*a_{21}/a_{11}) - a_{13}*a_{31}/a_{11}) + (-a_{42} + a_{12}*a_{41}/a_{11})*(r_{2} - a_{21}*r_{1}/a_{11})/(a_{22} - a_{12}*a_{21}/a_{11}) - a_{41}*r_{1}/a_{11})/(a_{44} + (a_{34} + (a_{24} - a_{14}*a_{21}/a_{11})*(-a_{32} + a_{12}*a_{31}/a_{11})/(a_{22} - a_{12}*a_{21}/a_{11}) - a_{14}*a_{31}/a_{11})*(-a_{43} - (a_{23} - a_{13}*a_{21}/a_{11})*(-a_{42} + a_{12}*a_{41}/a_{11})/(a_{22} - a_{12}*a_{21}/a_{11}) + a_{13}*a_{41}/a_{11})/(a_{33} + (a_{23} - a_{13}*a_{21}/a_{11})*(-a_{32} + a_{12}*a_{31}/a_{11})/(a_{22} - a_{12}*a_{21}/a_{11}) - a_{13}*a_{31}/a_{11}) + (a_{24} - a_{14}*a_{21}/a_{11})*(-a_{42} + a_{12}*a_{41}/a_{11})/(a_{22} - a_{12}*a_{21}/a_{11}) - a_{14}*a_{41}/a_{11}) - a_{12}*(r_{2} - a_{21}*r_{1}/a_{11})/(a_{11}*(a_{22} - a_{12}*a_{21}/a_{11})) + r_{1}/a_{11}],\n",
       "[                                                                                                                                ((a_{23} - a_{13}*a_{21}/a_{11})*(a_{34} + (a_{24} - a_{14}*a_{21}/a_{11})*(-a_{32} + a_{12}*a_{31}/a_{11})/(a_{22} - a_{12}*a_{21}/a_{11}) - a_{14}*a_{31}/a_{11})/((a_{22} - a_{12}*a_{21}/a_{11})*(a_{33} + (a_{23} - a_{13}*a_{21}/a_{11})*(-a_{32} + a_{12}*a_{31}/a_{11})/(a_{22} - a_{12}*a_{21}/a_{11}) - a_{13}*a_{31}/a_{11})) - (a_{24} - a_{14}*a_{21}/a_{11})/(a_{22} - a_{12}*a_{21}/a_{11}))*(r_{4} + (-a_{43} - (a_{23} - a_{13}*a_{21}/a_{11})*(-a_{42} + a_{12}*a_{41}/a_{11})/(a_{22} - a_{12}*a_{21}/a_{11}) + a_{13}*a_{41}/a_{11})*(r_{3} + (-a_{32} + a_{12}*a_{31}/a_{11})*(r_{2} - a_{21}*r_{1}/a_{11})/(a_{22} - a_{12}*a_{21}/a_{11}) - a_{31}*r_{1}/a_{11})/(a_{33} + (a_{23} - a_{13}*a_{21}/a_{11})*(-a_{32} + a_{12}*a_{31}/a_{11})/(a_{22} - a_{12}*a_{21}/a_{11}) - a_{13}*a_{31}/a_{11}) + (-a_{42} + a_{12}*a_{41}/a_{11})*(r_{2} - a_{21}*r_{1}/a_{11})/(a_{22} - a_{12}*a_{21}/a_{11}) - a_{41}*r_{1}/a_{11})/(a_{44} + (a_{34} + (a_{24} - a_{14}*a_{21}/a_{11})*(-a_{32} + a_{12}*a_{31}/a_{11})/(a_{22} - a_{12}*a_{21}/a_{11}) - a_{14}*a_{31}/a_{11})*(-a_{43} - (a_{23} - a_{13}*a_{21}/a_{11})*(-a_{42} + a_{12}*a_{41}/a_{11})/(a_{22} - a_{12}*a_{21}/a_{11}) + a_{13}*a_{41}/a_{11})/(a_{33} + (a_{23} - a_{13}*a_{21}/a_{11})*(-a_{32} + a_{12}*a_{31}/a_{11})/(a_{22} - a_{12}*a_{21}/a_{11}) - a_{13}*a_{31}/a_{11}) + (a_{24} - a_{14}*a_{21}/a_{11})*(-a_{42} + a_{12}*a_{41}/a_{11})/(a_{22} - a_{12}*a_{21}/a_{11}) - a_{14}*a_{41}/a_{11}) - (a_{23} - a_{13}*a_{21}/a_{11})*(r_{3} + (-a_{32} + a_{12}*a_{31}/a_{11})*(r_{2} - a_{21}*r_{1}/a_{11})/(a_{22} - a_{12}*a_{21}/a_{11}) - a_{31}*r_{1}/a_{11})/((a_{22} - a_{12}*a_{21}/a_{11})*(a_{33} + (a_{23} - a_{13}*a_{21}/a_{11})*(-a_{32} + a_{12}*a_{31}/a_{11})/(a_{22} - a_{12}*a_{21}/a_{11}) - a_{13}*a_{31}/a_{11})) + (r_{2} - a_{21}*r_{1}/a_{11})/(a_{22} - a_{12}*a_{21}/a_{11})],\n",
       "[                                                                                                                                                                                                                                                                                                                                                                                                     -(a_{34} + (a_{24} - a_{14}*a_{21}/a_{11})*(-a_{32} + a_{12}*a_{31}/a_{11})/(a_{22} - a_{12}*a_{21}/a_{11}) - a_{14}*a_{31}/a_{11})*(r_{4} + (-a_{43} - (a_{23} - a_{13}*a_{21}/a_{11})*(-a_{42} + a_{12}*a_{41}/a_{11})/(a_{22} - a_{12}*a_{21}/a_{11}) + a_{13}*a_{41}/a_{11})*(r_{3} + (-a_{32} + a_{12}*a_{31}/a_{11})*(r_{2} - a_{21}*r_{1}/a_{11})/(a_{22} - a_{12}*a_{21}/a_{11}) - a_{31}*r_{1}/a_{11})/(a_{33} + (a_{23} - a_{13}*a_{21}/a_{11})*(-a_{32} + a_{12}*a_{31}/a_{11})/(a_{22} - a_{12}*a_{21}/a_{11}) - a_{13}*a_{31}/a_{11}) + (-a_{42} + a_{12}*a_{41}/a_{11})*(r_{2} - a_{21}*r_{1}/a_{11})/(a_{22} - a_{12}*a_{21}/a_{11}) - a_{41}*r_{1}/a_{11})/((a_{33} + (a_{23} - a_{13}*a_{21}/a_{11})*(-a_{32} + a_{12}*a_{31}/a_{11})/(a_{22} - a_{12}*a_{21}/a_{11}) - a_{13}*a_{31}/a_{11})*(a_{44} + (a_{34} + (a_{24} - a_{14}*a_{21}/a_{11})*(-a_{32} + a_{12}*a_{31}/a_{11})/(a_{22} - a_{12}*a_{21}/a_{11}) - a_{14}*a_{31}/a_{11})*(-a_{43} - (a_{23} - a_{13}*a_{21}/a_{11})*(-a_{42} + a_{12}*a_{41}/a_{11})/(a_{22} - a_{12}*a_{21}/a_{11}) + a_{13}*a_{41}/a_{11})/(a_{33} + (a_{23} - a_{13}*a_{21}/a_{11})*(-a_{32} + a_{12}*a_{31}/a_{11})/(a_{22} - a_{12}*a_{21}/a_{11}) - a_{13}*a_{31}/a_{11}) + (a_{24} - a_{14}*a_{21}/a_{11})*(-a_{42} + a_{12}*a_{41}/a_{11})/(a_{22} - a_{12}*a_{21}/a_{11}) - a_{14}*a_{41}/a_{11})) + (r_{3} + (-a_{32} + a_{12}*a_{31}/a_{11})*(r_{2} - a_{21}*r_{1}/a_{11})/(a_{22} - a_{12}*a_{21}/a_{11}) - a_{31}*r_{1}/a_{11})/(a_{33} + (a_{23} - a_{13}*a_{21}/a_{11})*(-a_{32} + a_{12}*a_{31}/a_{11})/(a_{22} - a_{12}*a_{21}/a_{11}) - a_{13}*a_{31}/a_{11})],\n",
       "[                                                                                                                                                                                                                                                                                                                                                                                                                                                                                                                                                                                                                                                                                                                                                                                                                                                                                                                                                  (r_{4} + (-a_{43} - (a_{23} - a_{13}*a_{21}/a_{11})*(-a_{42} + a_{12}*a_{41}/a_{11})/(a_{22} - a_{12}*a_{21}/a_{11}) + a_{13}*a_{41}/a_{11})*(r_{3} + (-a_{32} + a_{12}*a_{31}/a_{11})*(r_{2} - a_{21}*r_{1}/a_{11})/(a_{22} - a_{12}*a_{21}/a_{11}) - a_{31}*r_{1}/a_{11})/(a_{33} + (a_{23} - a_{13}*a_{21}/a_{11})*(-a_{32} + a_{12}*a_{31}/a_{11})/(a_{22} - a_{12}*a_{21}/a_{11}) - a_{13}*a_{31}/a_{11}) + (-a_{42} + a_{12}*a_{41}/a_{11})*(r_{2} - a_{21}*r_{1}/a_{11})/(a_{22} - a_{12}*a_{21}/a_{11}) - a_{41}*r_{1}/a_{11})/(a_{44} + (a_{34} + (a_{24} - a_{14}*a_{21}/a_{11})*(-a_{32} + a_{12}*a_{31}/a_{11})/(a_{22} - a_{12}*a_{21}/a_{11}) - a_{14}*a_{31}/a_{11})*(-a_{43} - (a_{23} - a_{13}*a_{21}/a_{11})*(-a_{42} + a_{12}*a_{41}/a_{11})/(a_{22} - a_{12}*a_{21}/a_{11}) + a_{13}*a_{41}/a_{11})/(a_{33} + (a_{23} - a_{13}*a_{21}/a_{11})*(-a_{32} + a_{12}*a_{31}/a_{11})/(a_{22} - a_{12}*a_{21}/a_{11}) - a_{13}*a_{31}/a_{11}) + (a_{24} - a_{14}*a_{21}/a_{11})*(-a_{42} + a_{12}*a_{41}/a_{11})/(a_{22} - a_{12}*a_{21}/a_{11}) - a_{14}*a_{41}/a_{11})]])"
      ]
     },
     "execution_count": 30,
     "metadata": {},
     "output_type": "execute_result"
    }
   ],
   "source": [
    "sy.Matrix(reduccion(prueba))"
   ]
  },
  {
   "cell_type": "code",
   "execution_count": null,
   "metadata": {
    "colab": {
     "base_uri": "https://localhost:8080/",
     "height": 98
    },
    "id": "HbOsKJ497Gyr",
    "outputId": "0d1ff5f9-a52d-44ff-fb4f-df3caa3bea11"
   },
   "outputs": [
    {
     "data": {
      "text/latex": [
       "$\\displaystyle \\left[\\begin{matrix}1\\\\0\\\\-1\\\\2\\end{matrix}\\right]$"
      ],
      "text/plain": [
       "Matrix([\n",
       "[ 1],\n",
       "[ 0],\n",
       "[-1],\n",
       "[ 2]])"
      ]
     },
     "execution_count": 75,
     "metadata": {},
     "output_type": "execute_result"
    }
   ],
   "source": [
    "prueba2 = np.random.randint(20,size=(4,5))\n",
    "sy.Matrix(reduccion(prueba2))"
   ]
  }
 ],
 "metadata": {
  "colab": {
   "authorship_tag": "ABX9TyNdzme/4dGGSxhI6ZGvdJcH",
   "include_colab_link": true,
   "provenance": []
  },
  "kernelspec": {
   "display_name": "Python 3 (ipykernel)",
   "language": "python",
   "name": "python3"
  },
  "language_info": {
   "codemirror_mode": {
    "name": "ipython",
    "version": 3
   },
   "file_extension": ".py",
   "mimetype": "text/x-python",
   "name": "python",
   "nbconvert_exporter": "python",
   "pygments_lexer": "ipython3",
   "version": "3.10.9"
  }
 },
 "nbformat": 4,
 "nbformat_minor": 1
}
