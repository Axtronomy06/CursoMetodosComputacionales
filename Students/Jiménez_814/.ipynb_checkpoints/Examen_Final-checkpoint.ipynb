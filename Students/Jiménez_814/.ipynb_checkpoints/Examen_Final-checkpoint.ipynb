{
 "cells": [
  {
   "cell_type": "markdown",
   "metadata": {
    "colab_type": "text",
    "id": "view-in-github"
   },
   "source": [
    "<a href=\"https://colab.research.google.com/github/Elizajr/CursoMetodosComputacionales/blob/main/Students/Jim%C3%A9nez_814/Examen_Final.ipynb\" target=\"_parent\"><img src=\"https://colab.research.google.com/assets/colab-badge.svg\" alt=\"Open In Colab\"/></a>"
   ]
  },
  {
   "cell_type": "markdown",
   "metadata": {
    "id": "lP2d4Op5KuvU"
   },
   "source": [
    "\\begin{equation}\n",
    "\\frac{d^2(T-T_{\\infty})}{dx^2} - \\left( \\frac{hp}{kA_c} \\right ) ^2 (T-T_{\\infty})=0\\\\\n",
    "\\frac{d^2\\theta}{dx^2} - a^2 \\theta=0\n",
    "\\end{equation}"
   ]
  },
  {
   "cell_type": "code",
   "execution_count": 16,
   "metadata": {
    "id": "D4VRWOl4L45i"
   },
   "outputs": [],
   "source": [
    "import numpy as np\n",
    "import pylab as plt\n",
    "from scipy.integrate import odeint\n",
    "from scipy.optimize import newton\n",
    "import sympy as sy"
   ]
  },
  {
   "cell_type": "code",
   "execution_count": 17,
   "metadata": {
    "id": "-TOhBdacKrSN"
   },
   "outputs": [],
   "source": [
    "#-------------------------------------------------------------------------\n",
    "#     Condiciones iniciales\n",
    "#-------------------------------------------------------------------------\n",
    "\n",
    "Tinf = 300 #K temperatura extremo\n",
    "ancho = 0.05 #m\n",
    "espesor = 0.001 #m\n",
    "Area = 5e-5 #m² área\n",
    "p = 0.102 #m perímetro\n",
    "k = 200 # W/mK conductividad t+ermica\n",
    "Tb = 313 # K temperatura base\n",
    "h = 20 #W/m²K Coeficiente de transferencia de calor\n",
    "n=100\n",
    "#theta = lambda T: T-Tinf\n",
    "theta0 = Tb - Tinf\n",
    "a = (h*p)/(k*Area)\n",
    "x = np.linspace(0,1,n)\n",
    "thetaf = 0"
   ]
  },
  {
   "cell_type": "code",
   "execution_count": 18,
   "metadata": {
    "colab": {
     "base_uri": "https://localhost:8080/"
    },
    "id": "FfbTqel_WAy8",
    "outputId": "50d9fca7-8946-47f6-d6d3-10989c2d8691"
   },
   "outputs": [
    {
     "data": {
      "text/plain": [
       "204.0"
      ]
     },
     "execution_count": 18,
     "metadata": {},
     "output_type": "execute_result"
    }
   ],
   "source": [
    "a"
   ]
  },
  {
   "cell_type": "markdown",
   "metadata": {
    "id": "CP34G-QKcEE1"
   },
   "source": [
    "Teórica\n",
    "\n",
    "\\begin{equation}\n",
    "T(x)=T_{\\infty}+(T_b-T_{\\infty})e^{-x\\sqrt{hp/kAc}}\\\\\n",
    "\\theta=\\theta_0 e^{-x\\sqrt a}\n",
    "\\end{equation}"
   ]
  },
  {
   "cell_type": "code",
   "execution_count": 19,
   "metadata": {
    "id": "QDZsbkczTpZC"
   },
   "outputs": [],
   "source": [
    "def teorica(x):\n",
    "  arg = np.sqrt(a)\n",
    "  T = Tinf+ (Tb-Tinf) * np.exp(-x*arg)\n",
    "  return T\n"
   ]
  },
  {
   "cell_type": "code",
   "execution_count": 20,
   "metadata": {
    "colab": {
     "base_uri": "https://localhost:8080/",
     "height": 509
    },
    "id": "vTEvkjiOTjjR",
    "outputId": "f1c70e7c-41c5-4e09-f59a-f99694306e7a"
   },
   "outputs": [
    {
     "name": "stderr",
     "output_type": "stream",
     "text": [
      "WARNING:matplotlib.legend:No artists with labels found to put in legend.  Note that artists whose label start with an underscore are ignored when legend() is called with no argument.\n"
     ]
    },
    {
     "data": {
      "image/png": "[encoded data removed]",
      "text/plain": [
       "<Figure size 640x480 with 1 Axes>"
      ]
     },
     "metadata": {},
     "output_type": "display_data"
    }
   ],
   "source": [
    "#prueba = lambda x: theta0*np.exp(-x* np.sqrt(a))\n",
    "plt.figure()\n",
    "plt.plot(x,teorica(x),c = \"pink\")\n",
    "#plt.plot(x,prueba(x))\n",
    "plt.xlabel(\"Posición (m)\")\n",
    "plt.ylabel(\"Temperatura (°K)\")\n",
    "plt.title(\"Solución Teórica\")\n",
    "#plt.plot(x305,teorica(x305),\"o\", c = \"magenta\")\n",
    "#plt.axhline(305, linestyle = \":\", c = \"lavenderblush\", label = r\"305°K\")\n",
    "plt.grid(alpha = 0.5)\n",
    "plt.legend()\n",
    "plt.show()\n"
   ]
  },
  {
   "cell_type": "markdown",
   "metadata": {
    "id": "nnA0gAs2PajJ"
   },
   "source": [
    "llamaré\n",
    "$$\\omega=\\theta'\\\\\n",
    "\\sigma = \\omega' = \\theta''$$"
   ]
  },
  {
   "cell_type": "markdown",
   "metadata": {
    "id": "9L4kCB6EP2Cp"
   },
   "source": [
    "$$\\frac{d\\omega}{dx}=a^2\\theta$$"
   ]
  },
  {
   "cell_type": "code",
   "execution_count": 21,
   "metadata": {
    "id": "1Ghg4Z8VOgSg"
   },
   "outputs": [],
   "source": [
    "def func(T,x):\n",
    "  theta, omega = T\n",
    "  dtdx = [omega, (a**2)*theta]\n",
    "  return dtdx"
   ]
  },
  {
   "cell_type": "code",
   "execution_count": 22,
   "metadata": {
    "id": "UYgBvA2VS8cd"
   },
   "outputs": [],
   "source": [
    "#def func0 (T,x):\n"
   ]
  },
  {
   "cell_type": "code",
   "execution_count": 23,
   "metadata": {
    "colab": {
     "base_uri": "https://localhost:8080/"
    },
    "id": "AqjZ_yElR5qa",
    "outputId": "d9c02c90-c2e5-4a7b-bdfb-f9e9feefd619"
   },
   "outputs": [
    {
     "data": {
      "text/plain": [
       "[13, 541008.0]"
      ]
     },
     "execution_count": 23,
     "metadata": {},
     "output_type": "execute_result"
    }
   ],
   "source": [
    "t0 = [theta0 , theta0*(a**2)]\n",
    "#condiciones iniciales, para theta y omega\n",
    "t0"
   ]
  },
  {
   "cell_type": "code",
   "execution_count": 24,
   "metadata": {
    "id": "BZR_AYGuRj5c"
   },
   "outputs": [],
   "source": [
    "sol = odeint(func,t0,x)"
   ]
  },
  {
   "cell_type": "code",
   "execution_count": 25,
   "metadata": {
    "colab": {
     "base_uri": "https://localhost:8080/"
    },
    "id": "OjKSVUYHSM58",
    "outputId": "72e4491a-bbd4-4b5f-82b5-a9d5327d5584"
   },
   "outputs": [
    {
     "data": {
      "text/plain": [
       "array([[1.30000000e+01, 5.41008000e+05],\n",
       "       [1.02930198e+04, 2.16835008e+06],\n",
       "       [8.21057757e+04, 1.67583130e+07],\n",
       "       [6.44755350e+05, 1.31531204e+08],\n",
       "       [5.06181908e+06, 1.03261123e+09],\n",
       "       [3.97389607e+07, 8.10674800e+09],\n",
       "       [3.11979719e+08, 6.36438627e+10],\n",
       "       [2.44926750e+09, 4.99650570e+11],\n",
       "       [1.92285297e+10, 3.92262006e+12],\n",
       "       [1.50957931e+11, 3.07954179e+13],\n",
       "       [1.18512945e+12, 2.41766408e+14],\n",
       "       [9.30412740e+12, 1.89804199e+15],\n",
       "       [7.30441611e+13, 1.49010089e+16],\n",
       "       [5.73449743e+14, 1.16983748e+17],\n",
       "       [4.50199719e+15, 9.18407427e+17],\n",
       "       [3.53439494e+16, 7.21016568e+18],\n",
       "       [2.77475686e+17, 5.66050400e+19],\n",
       "       [2.17838577e+18, 4.44390697e+20],\n",
       "       [1.71019112e+19, 3.48878989e+21],\n",
       "       [1.34262431e+20, 2.73895359e+22],\n",
       "       [1.05405765e+21, 2.15027760e+23],\n",
       "       [8.27511847e+21, 1.68812417e+24],\n",
       "       [6.49656932e+22, 1.32530014e+25],\n",
       "       [5.10027900e+23, 1.04045692e+26],\n",
       "       [4.00408964e+24, 8.16834286e+26],\n",
       "       [3.14350133e+25, 6.41274271e+27],\n",
       "       [2.46787697e+26, 5.03446902e+28],\n",
       "       [1.93746276e+27, 3.95242402e+29],\n",
       "       [1.52104905e+28, 3.10294007e+30],\n",
       "       [1.19413404e+29, 2.43603343e+31],\n",
       "       [9.37481992e+29, 1.91246326e+32],\n",
       "       [7.35991487e+30, 1.50142263e+33],\n",
       "       [5.77806800e+31, 1.17872587e+34],\n",
       "       [4.53620325e+32, 9.25385463e+34],\n",
       "       [3.56124918e+33, 7.26494833e+35],\n",
       "       [2.79583939e+34, 5.70351236e+36],\n",
       "       [2.19493709e+35, 4.47767166e+37],\n",
       "       [1.72318511e+36, 3.51529763e+38],\n",
       "       [1.35282553e+37, 2.75976409e+39],\n",
       "       [1.06206635e+38, 2.16661535e+40],\n",
       "       [8.33799260e+38, 1.70095049e+41],\n",
       "       [6.54593009e+39, 1.33536974e+42],\n",
       "       [5.13903079e+40, 1.04836228e+43],\n",
       "       [4.03451261e+41, 8.23040572e+43],\n",
       "       [3.16738557e+42, 6.46146656e+44],\n",
       "       [2.48662784e+43, 5.07272079e+45],\n",
       "       [1.95218355e+44, 3.98245444e+46],\n",
       "       [1.53260594e+45, 3.12651613e+47],\n",
       "       [1.20320704e+46, 2.45454235e+48],\n",
       "       [9.44604956e+46, 1.92699411e+49],\n",
       "       [7.41583532e+47, 1.51283041e+50],\n",
       "       [5.82196961e+48, 1.18768180e+51],\n",
       "       [4.57066921e+49, 9.32416518e+51],\n",
       "       [3.58830746e+50, 7.32014723e+52],\n",
       "       [2.81708211e+51, 5.74684750e+53],\n",
       "       [2.21161416e+52, 4.51169289e+54],\n",
       "       [1.73627783e+53, 3.54200677e+55],\n",
       "       [1.36310427e+54, 2.78073270e+56],\n",
       "       [1.07013590e+55, 2.18307724e+57],\n",
       "       [8.40134445e+55, 1.71387427e+58],\n",
       "       [6.59566590e+56, 1.34551584e+59],\n",
       "       [5.17807702e+57, 1.05632771e+60],\n",
       "       [4.06516673e+58, 8.29294013e+60],\n",
       "       [3.19145129e+59, 6.51056063e+61],\n",
       "       [2.50552117e+60, 5.11126319e+62],\n",
       "       [1.96701619e+61, 4.01271303e+63],\n",
       "       [1.54425064e+62, 3.15027132e+64],\n",
       "       [1.21234897e+63, 2.47319190e+65],\n",
       "       [9.51782040e+63, 1.94163536e+66],\n",
       "       [7.47218064e+64, 1.52432485e+67],\n",
       "       [5.86620478e+65, 1.19670578e+68],\n",
       "       [4.60539703e+66, 9.39500995e+68],\n",
       "       [3.61557133e+67, 7.37576551e+69],\n",
       "       [2.83848623e+68, 5.79051190e+70],\n",
       "       [2.22841795e+69, 4.54597262e+71],\n",
       "       [1.74947002e+70, 3.56891885e+72],\n",
       "       [1.37346110e+71, 2.80186064e+73],\n",
       "       [1.07826677e+72, 2.19966420e+74],\n",
       "       [8.46517766e+72, 1.72689624e+75],\n",
       "       [6.64577960e+73, 1.35573904e+76],\n",
       "       [5.21741991e+74, 1.06435366e+77],\n",
       "       [4.09605376e+75, 8.35594968e+77],\n",
       "       [3.21569985e+76, 6.56002770e+78],\n",
       "       [2.52455806e+77, 5.15009844e+79],\n",
       "       [1.98196153e+78, 4.04320151e+80],\n",
       "       [1.55598382e+79, 3.17420699e+81],\n",
       "       [1.22156037e+80, 2.49198315e+82],\n",
       "       [9.59013656e+80, 1.95638786e+83],\n",
       "       [7.52895408e+81, 1.53590663e+84],\n",
       "       [5.91077606e+82, 1.20579832e+85],\n",
       "       [4.64038872e+83, 9.46639300e+85],\n",
       "       [3.64304235e+84, 7.43180640e+86],\n",
       "       [2.86005297e+85, 5.83450807e+87],\n",
       "       [2.24534941e+86, 4.58051281e+88],\n",
       "       [1.76276245e+87, 3.59603540e+89],\n",
       "       [1.38389662e+88, 2.82314910e+90],\n",
       "       [1.08645941e+89, 2.21637719e+91],\n",
       "       [8.52949586e+89, 1.74001715e+92],\n",
       "       [6.69627406e+90, 1.36603991e+93],\n",
       "       [5.25706173e+91, 1.07244059e+94]])"
      ]
     },
     "execution_count": 25,
     "metadata": {},
     "output_type": "execute_result"
    }
   ],
   "source": [
    "sol"
   ]
  },
  {
   "cell_type": "code",
   "execution_count": 25,
   "metadata": {
    "id": "mynDPvfIV8Qz"
   },
   "outputs": [],
   "source": []
  },
  {
   "cell_type": "code",
   "execution_count": 26,
   "metadata": {
    "colab": {
     "base_uri": "https://localhost:8080/",
     "height": 445
    },
    "id": "QByE7vw2SJgC",
    "outputId": "eeef5e9f-df7f-4e19-b9e7-003da8564fe5"
   },
   "outputs": [
    {
     "data": {
      "image/png": "[encoded data removed]",
      "text/plain": [
       "<Figure size 640x480 with 1 Axes>"
      ]
     },
     "metadata": {},
     "output_type": "display_data"
    }
   ],
   "source": [
    "plt.figure()\n",
    "plt.plot(x, sol[:, 0], color = \"red\", label='theta(t)')\n",
    "#plt.plot(x, sol[:, 1], 'g', label='omega(t)')\n",
    "plt.legend()\n",
    "plt.show()"
   ]
  },
  {
   "cell_type": "markdown",
   "metadata": {
    "id": "qK4-DaYmhzZ-"
   },
   "source": [
    "Falla porque le falta la condición final, la cual no podemos aregar con odeint. >:c"
   ]
  },
  {
   "cell_type": "markdown",
   "metadata": {
    "id": "cStpv_KxbdXF"
   },
   "source": [
    "# 4. Empleando el método de newton detetermine el punto de la aleta para la cual la temperatura es de 305K"
   ]
  },
  {
   "cell_type": "code",
   "execution_count": 28,
   "metadata": {
    "id": "FOSQ0Y9KeAzf"
   },
   "outputs": [],
   "source": [
    "t305 = lambda x: teorica(x)-305\n",
    "x_ = sy.Symbol(\"x\")"
   ]
  },
  {
   "cell_type": "code",
   "execution_count": 29,
   "metadata": {
    "id": "BqCaZskhbcmn"
   },
   "outputs": [],
   "source": [
    "expr = (Tb-Tinf) * sy.exp(-x_*sy.sqrt(a))\n",
    "dt = sy.lambdify(x_, sy.diff(expr,x_), \"numpy\")\n",
    "dt0 = lambda x: -185.677139142114*np.exp(-14.2828568570857*x)"
   ]
  },
  {
   "cell_type": "code",
   "execution_count": 30,
   "metadata": {
    "colab": {
     "base_uri": "https://localhost:8080/",
     "height": 38
    },
    "id": "Q5ONdmwMiR44",
    "outputId": "11d6beac-b5cd-4d71-f8ab-520224da1f1a"
   },
   "outputs": [
    {
     "data": {
      "text/latex": [
       "$\\displaystyle - 185.677139142114 e^{- 14.2828568570857 x}$"
      ],
      "text/plain": [
       "-185.677139142114*exp(-14.2828568570857*x)"
      ]
     },
     "execution_count": 30,
     "metadata": {},
     "output_type": "execute_result"
    }
   ],
   "source": [
    "sy.diff(expr,x_)"
   ]
  },
  {
   "cell_type": "code",
   "execution_count": 31,
   "metadata": {
    "colab": {
     "base_uri": "https://localhost:8080/",
     "height": 366
    },
    "id": "mbYqTUYXiP4j",
    "outputId": "c7a64938-8fda-4f65-afc7-dfe266246756"
   },
   "outputs": [
    {
     "name": "stderr",
     "output_type": "stream",
     "text": [
      "<ipython-input-19-dff18e010785>:3: RuntimeWarning: overflow encountered in exp\n",
      "  T = Tinf+ (Tb-Tinf) * np.exp(-x*arg)\n"
     ]
    },
    {
     "ename": "RuntimeError",
     "evalue": "ignored",
     "output_type": "error",
     "traceback": [
      "\u001b[0;31m---------------------------------------------------------------------------\u001b[0m",
      "\u001b[0;31mRuntimeError\u001b[0m                              Traceback (most recent call last)",
      "\u001b[0;32m<ipython-input-31-0a2496198031>\u001b[0m in \u001b[0;36m<cell line: 1>\u001b[0;34m()\u001b[0m\n\u001b[0;32m----> 1\u001b[0;31m \u001b[0mx305\u001b[0m \u001b[0;34m=\u001b[0m \u001b[0mnewton\u001b[0m\u001b[0;34m(\u001b[0m\u001b[0mt305\u001b[0m\u001b[0;34m,\u001b[0m\u001b[0;36m1\u001b[0m \u001b[0;34m,\u001b[0m \u001b[0mfprime\u001b[0m \u001b[0;34m=\u001b[0m \u001b[0mdt0\u001b[0m\u001b[0;34m)\u001b[0m\u001b[0;34m\u001b[0m\u001b[0;34m\u001b[0m\u001b[0m\n\u001b[0m\u001b[1;32m      2\u001b[0m \u001b[0mprint\u001b[0m\u001b[0;34m(\u001b[0m\u001b[0;34mf\"Para {x305:.3}m alcanza una temperatura de 305°K\"\u001b[0m\u001b[0;34m)\u001b[0m\u001b[0;34m\u001b[0m\u001b[0;34m\u001b[0m\u001b[0m\n",
      "\u001b[0;32m/usr/local/lib/python3.10/dist-packages/scipy/optimize/_zeros_py.py\u001b[0m in \u001b[0;36mnewton\u001b[0;34m(func, x0, fprime, args, tol, maxiter, fprime2, x1, rtol, full_output, disp)\u001b[0m\n\u001b[1;32m    382\u001b[0m         msg = (\"Failed to converge after %d iterations, value is %s.\"\n\u001b[1;32m    383\u001b[0m                % (itr + 1, p))\n\u001b[0;32m--> 384\u001b[0;31m         \u001b[0;32mraise\u001b[0m \u001b[0mRuntimeError\u001b[0m\u001b[0;34m(\u001b[0m\u001b[0mmsg\u001b[0m\u001b[0;34m)\u001b[0m\u001b[0;34m\u001b[0m\u001b[0;34m\u001b[0m\u001b[0m\n\u001b[0m\u001b[1;32m    385\u001b[0m \u001b[0;34m\u001b[0m\u001b[0m\n\u001b[1;32m    386\u001b[0m     \u001b[0;32mreturn\u001b[0m \u001b[0m_results_select\u001b[0m\u001b[0;34m(\u001b[0m\u001b[0mfull_output\u001b[0m\u001b[0;34m,\u001b[0m \u001b[0;34m(\u001b[0m\u001b[0mp\u001b[0m\u001b[0;34m,\u001b[0m \u001b[0mfuncalls\u001b[0m\u001b[0;34m,\u001b[0m \u001b[0mitr\u001b[0m \u001b[0;34m+\u001b[0m \u001b[0;36m1\u001b[0m\u001b[0;34m,\u001b[0m \u001b[0m_ECONVERR\u001b[0m\u001b[0;34m)\u001b[0m\u001b[0;34m)\u001b[0m\u001b[0;34m\u001b[0m\u001b[0;34m\u001b[0m\u001b[0m\n",
      "\u001b[0;31mRuntimeError\u001b[0m: Failed to converge after 50 iterations, value is nan."
     ]
    }
   ],
   "source": [
    "x305 = newton(t305,1 , fprime = dt0)\n",
    "print(f\"Para {x305:.3}m alcanza una temperatura de 305°K\")"
   ]
  },
  {
   "cell_type": "markdown",
   "metadata": {
    "id": "-i4sfn5CiqBb"
   },
   "source": [
    "Profe, esto funcionaba, hasta que reinicie el kernel, me quedé sin tiempo de corregirlo, el valor era $≈0.6$ m"
   ]
  },
  {
   "cell_type": "code",
   "execution_count": null,
   "metadata": {
    "id": "oHjKqrzMfNwj"
   },
   "outputs": [],
   "source": [
    "teorica(x305)\n",
    "#Comprobando"
   ]
  }
 ],
 "metadata": {
  "colab": {
   "authorship_tag": "ABX9TyM/6ACuXY70SITt89KjFqi3",
   "include_colab_link": true,
   "provenance": []
  },
  "kernelspec": {
   "display_name": "Python 3 (ipykernel)",
   "language": "python",
   "name": "python3"
  },
  "language_info": {
   "codemirror_mode": {
    "name": "ipython",
    "version": 3
   },
   "file_extension": ".py",
   "mimetype": "text/x-python",
   "name": "python",
   "nbconvert_exporter": "python",
   "pygments_lexer": "ipython3",
   "version": "3.10.9"
  }
 },
 "nbformat": 4,
 "nbformat_minor": 1
}
