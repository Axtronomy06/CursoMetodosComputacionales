{
  "nbformat": 4,
  "nbformat_minor": 0,
  "metadata": {
    "colab": {
      "provenance": []
    },
    "kernelspec": {
      "name": "python3",
      "display_name": "Python 3"
    },
    "language_info": {
      "name": "python"
    }
  },
  "cells": [
    {
      "cell_type": "markdown",
      "source": [
        "#Jair Sánchez Sierra"
      ],
      "metadata": {
        "id": "trC7TRdyiFNW"
      }
    },
    {
      "cell_type": "code",
      "source": [
        "import numpy as np\n",
        "import pandas as pd\n",
        "import sympy as sy\n",
        "import matplotlib.pyplot as plt\n"
      ],
      "metadata": {
        "id": "LGEtqLJlw2eb"
      },
      "execution_count": 1,
      "outputs": []
    },
    {
      "cell_type": "markdown",
      "source": [
        "# Arreglos de numpy"
      ],
      "metadata": {
        "id": "wtJNu-2mLSsV"
      }
    },
    {
      "cell_type": "code",
      "source": [
        "X =np.array([[1,2],[3,3],[2,5]])\n",
        "np.shape(X)\n"
      ],
      "metadata": {
        "colab": {
          "base_uri": "https://localhost:8080/"
        },
        "id": "dMUHlg5QTyuz",
        "outputId": "82b3051a-b725-48f6-ea8f-ebcb5c3dbf6e"
      },
      "execution_count": 2,
      "outputs": [
        {
          "output_type": "execute_result",
          "data": {
            "text/plain": [
              "(3, 2)"
            ]
          },
          "metadata": {},
          "execution_count": 2
        }
      ]
    },
    {
      "cell_type": "code",
      "source": [
        "type(X)"
      ],
      "metadata": {
        "colab": {
          "base_uri": "https://localhost:8080/"
        },
        "id": "Lhom7E3nUEZo",
        "outputId": "1e18e4f6-07c3-4878-96fc-5a7da2acedbc"
      },
      "execution_count": 3,
      "outputs": [
        {
          "output_type": "execute_result",
          "data": {
            "text/plain": [
              "numpy.ndarray"
            ]
          },
          "metadata": {},
          "execution_count": 3
        }
      ]
    },
    {
      "cell_type": "code",
      "source": [
        "X[:3]"
      ],
      "metadata": {
        "colab": {
          "base_uri": "https://localhost:8080/"
        },
        "id": "hbTIJPECUcoh",
        "outputId": "a754658b-a138-4225-8957-a9023877fc42"
      },
      "execution_count": 4,
      "outputs": [
        {
          "output_type": "execute_result",
          "data": {
            "text/plain": [
              "array([[1, 2],\n",
              "       [3, 3],\n",
              "       [2, 5]])"
            ]
          },
          "metadata": {},
          "execution_count": 4
        }
      ]
    },
    {
      "cell_type": "code",
      "source": [
        "# Generemos una arreglos ndimensaionales, ¿como podemos acceder a los elementos?\n",
        "X = np.random.randint(0, 100, (6,6))\n",
        "X"
      ],
      "metadata": {
        "colab": {
          "base_uri": "https://localhost:8080/"
        },
        "id": "97ecIcqMhbru",
        "outputId": "f8d434be-119c-4597-a369-f8bcfcffa4fc"
      },
      "execution_count": 5,
      "outputs": [
        {
          "output_type": "execute_result",
          "data": {
            "text/plain": [
              "array([[33, 62, 75, 22, 93, 24],\n",
              "       [54, 15, 22,  9, 47, 29],\n",
              "       [97, 25, 59, 90, 69, 38],\n",
              "       [68,  9, 13, 36, 50, 58],\n",
              "       [40, 64, 45, 68, 87, 29],\n",
              "       [39, 91, 94, 83, 47, 55]])"
            ]
          },
          "metadata": {},
          "execution_count": 5
        }
      ]
    },
    {
      "cell_type": "code",
      "source": [
        "\"\"\"\n",
        "Si laimagen está entre 0 - 255 estoy trabajando con 8 Bites y se reesala entre 0,1\n",
        "\n",
        "si la imagen está entre 0 - 512 estoy trabajando con\n",
        "\n",
        "\"\"\""
      ],
      "metadata": {
        "id": "erB1AdYLXXzO",
        "colab": {
          "base_uri": "https://localhost:8080/",
          "height": 35
        },
        "outputId": "24e673da-cd21-4caf-e62a-d58f45064d18"
      },
      "execution_count": 6,
      "outputs": [
        {
          "output_type": "execute_result",
          "data": {
            "text/plain": [
              "'\\nSi laimagen está entre 0 - 255 estoy trabajando con 8 Bites y se reesala entre 0,1\\n\\nsi la imagen está entre 0 - 512 estoy trabajando con\\n\\n'"
            ],
            "application/vnd.google.colaboratory.intrinsic+json": {
              "type": "string"
            }
          },
          "metadata": {},
          "execution_count": 6
        }
      ]
    },
    {
      "cell_type": "code",
      "source": [
        "plt.imshow(100*X, cmap=\"gray\")"
      ],
      "metadata": {
        "colab": {
          "base_uri": "https://localhost:8080/",
          "height": 447
        },
        "id": "2Geosx2UWF82",
        "outputId": "e1e4c469-f61e-413c-c43f-2336949fdff1"
      },
      "execution_count": 7,
      "outputs": [
        {
          "output_type": "execute_result",
          "data": {
            "text/plain": [
              "<matplotlib.image.AxesImage at 0x787ff904e020>"
            ]
          },
          "metadata": {},
          "execution_count": 7
        },
        {
          "output_type": "display_data",
          "data": {
            "text/plain": [
              "<Figure size 640x480 with 1 Axes>"
            ],
            "image/png": "[encoded data removed]"
          },
          "metadata": {}
        }
      ]
    },
    {
      "cell_type": "code",
      "source": [
        "M = np.array((X,X,X))\n",
        "M"
      ],
      "metadata": {
        "id": "1sleieuoX2I6",
        "colab": {
          "base_uri": "https://localhost:8080/"
        },
        "outputId": "b044a7e7-3eb4-482b-c75a-55259bda08e6"
      },
      "execution_count": 8,
      "outputs": [
        {
          "output_type": "execute_result",
          "data": {
            "text/plain": [
              "array([[[33, 62, 75, 22, 93, 24],\n",
              "        [54, 15, 22,  9, 47, 29],\n",
              "        [97, 25, 59, 90, 69, 38],\n",
              "        [68,  9, 13, 36, 50, 58],\n",
              "        [40, 64, 45, 68, 87, 29],\n",
              "        [39, 91, 94, 83, 47, 55]],\n",
              "\n",
              "       [[33, 62, 75, 22, 93, 24],\n",
              "        [54, 15, 22,  9, 47, 29],\n",
              "        [97, 25, 59, 90, 69, 38],\n",
              "        [68,  9, 13, 36, 50, 58],\n",
              "        [40, 64, 45, 68, 87, 29],\n",
              "        [39, 91, 94, 83, 47, 55]],\n",
              "\n",
              "       [[33, 62, 75, 22, 93, 24],\n",
              "        [54, 15, 22,  9, 47, 29],\n",
              "        [97, 25, 59, 90, 69, 38],\n",
              "        [68,  9, 13, 36, 50, 58],\n",
              "        [40, 64, 45, 68, 87, 29],\n",
              "        [39, 91, 94, 83, 47, 55]]])"
            ]
          },
          "metadata": {},
          "execution_count": 8
        }
      ]
    },
    {
      "cell_type": "code",
      "source": [
        "np.shape(M)"
      ],
      "metadata": {
        "colab": {
          "base_uri": "https://localhost:8080/"
        },
        "id": "v_QomBt-YClr",
        "outputId": "b8d2560a-b41f-4e0a-f992-ec41a597846d"
      },
      "execution_count": 9,
      "outputs": [
        {
          "output_type": "execute_result",
          "data": {
            "text/plain": [
              "(3, 6, 6)"
            ]
          },
          "metadata": {},
          "execution_count": 9
        }
      ]
    },
    {
      "cell_type": "code",
      "source": [],
      "metadata": {
        "id": "6srAKpRUYE6V"
      },
      "execution_count": 9,
      "outputs": []
    },
    {
      "cell_type": "code",
      "source": [
        "X[2][0]\n",
        "X[0][1]\n",
        "X[3:6:1, 4:6]"
      ],
      "metadata": {
        "colab": {
          "base_uri": "https://localhost:8080/"
        },
        "id": "OxOMONCHVBuV",
        "outputId": "4ea06874-5fb7-4949-962e-89c65a27622d"
      },
      "execution_count": 10,
      "outputs": [
        {
          "output_type": "execute_result",
          "data": {
            "text/plain": [
              "array([[50, 58],\n",
              "       [87, 29],\n",
              "       [47, 55]])"
            ]
          },
          "metadata": {},
          "execution_count": 10
        }
      ]
    },
    {
      "cell_type": "code",
      "source": [
        "# X[fila][ini:fin:step]\n",
        "# X[col][ini: fin: step]"
      ],
      "metadata": {
        "id": "W5W3ZbQdUlg8"
      },
      "execution_count": 11,
      "outputs": []
    },
    {
      "cell_type": "code",
      "source": [
        "l = X.T   #traspuesta\n",
        "l"
      ],
      "metadata": {
        "colab": {
          "base_uri": "https://localhost:8080/"
        },
        "id": "GuxEo9bxY2BF",
        "outputId": "88b3d9fc-f7bf-46e5-c786-aef11f4c8680"
      },
      "execution_count": 12,
      "outputs": [
        {
          "output_type": "execute_result",
          "data": {
            "text/plain": [
              "array([[33, 54, 97, 68, 40, 39],\n",
              "       [62, 15, 25,  9, 64, 91],\n",
              "       [75, 22, 59, 13, 45, 94],\n",
              "       [22,  9, 90, 36, 68, 83],\n",
              "       [93, 47, 69, 50, 87, 47],\n",
              "       [24, 29, 38, 58, 29, 55]])"
            ]
          },
          "metadata": {},
          "execution_count": 12
        }
      ]
    },
    {
      "cell_type": "code",
      "source": [
        "X[0]"
      ],
      "metadata": {
        "colab": {
          "base_uri": "https://localhost:8080/"
        },
        "id": "UPZ4HVeSiAa_",
        "outputId": "19cc089e-a478-4bc8-f110-b1ec4585604d"
      },
      "execution_count": 13,
      "outputs": [
        {
          "output_type": "execute_result",
          "data": {
            "text/plain": [
              "array([33, 62, 75, 22, 93, 24])"
            ]
          },
          "metadata": {},
          "execution_count": 13
        }
      ]
    },
    {
      "cell_type": "code",
      "source": [
        "X[0][1:4]"
      ],
      "metadata": {
        "colab": {
          "base_uri": "https://localhost:8080/"
        },
        "id": "FfnQsOUDibOE",
        "outputId": "5341f40d-5481-44cb-cb3b-bf0aa26bb27f"
      },
      "execution_count": 14,
      "outputs": [
        {
          "output_type": "execute_result",
          "data": {
            "text/plain": [
              "array([62, 75, 22])"
            ]
          },
          "metadata": {},
          "execution_count": 14
        }
      ]
    },
    {
      "cell_type": "code",
      "source": [
        "X[0, 1:4:2]"
      ],
      "metadata": {
        "colab": {
          "base_uri": "https://localhost:8080/"
        },
        "id": "vkNXHb5rizs5",
        "outputId": "68998b11-03a1-4126-9b73-439d7561ad28"
      },
      "execution_count": 15,
      "outputs": [
        {
          "output_type": "execute_result",
          "data": {
            "text/plain": [
              "array([62, 22])"
            ]
          },
          "metadata": {},
          "execution_count": 15
        }
      ]
    },
    {
      "cell_type": "code",
      "source": [
        "X[2::2,::2 ]"
      ],
      "metadata": {
        "colab": {
          "base_uri": "https://localhost:8080/"
        },
        "id": "KMe75hMwletS",
        "outputId": "bd588930-835a-4991-90f8-ea2dd6f8b744"
      },
      "execution_count": 16,
      "outputs": [
        {
          "output_type": "execute_result",
          "data": {
            "text/plain": [
              "array([[97, 59, 69],\n",
              "       [40, 45, 87]])"
            ]
          },
          "metadata": {},
          "execution_count": 16
        }
      ]
    },
    {
      "cell_type": "code",
      "source": [
        "# Permutaciones:"
      ],
      "metadata": {
        "id": "hC_QTDyyM0T3"
      },
      "execution_count": 17,
      "outputs": []
    },
    {
      "cell_type": "code",
      "source": [
        "X"
      ],
      "metadata": {
        "colab": {
          "base_uri": "https://localhost:8080/"
        },
        "id": "JYhVm8_TM2Tf",
        "outputId": "d389fd0e-ef2f-4658-b632-f6a4701386be"
      },
      "execution_count": 18,
      "outputs": [
        {
          "output_type": "execute_result",
          "data": {
            "text/plain": [
              "array([[33, 62, 75, 22, 93, 24],\n",
              "       [54, 15, 22,  9, 47, 29],\n",
              "       [97, 25, 59, 90, 69, 38],\n",
              "       [68,  9, 13, 36, 50, 58],\n",
              "       [40, 64, 45, 68, 87, 29],\n",
              "       [39, 91, 94, 83, 47, 55]])"
            ]
          },
          "metadata": {},
          "execution_count": 18
        }
      ]
    },
    {
      "cell_type": "code",
      "source": [
        "X[[2,1]] =X[[1,2]]"
      ],
      "metadata": {
        "id": "m-oTG0W7M4Ku"
      },
      "execution_count": 19,
      "outputs": []
    },
    {
      "cell_type": "code",
      "source": [
        "X"
      ],
      "metadata": {
        "colab": {
          "base_uri": "https://localhost:8080/"
        },
        "id": "cc_qEzAeNdmX",
        "outputId": "bd5cb724-a4f7-45fc-e7d8-87c02bae8c45"
      },
      "execution_count": 20,
      "outputs": [
        {
          "output_type": "execute_result",
          "data": {
            "text/plain": [
              "array([[33, 62, 75, 22, 93, 24],\n",
              "       [97, 25, 59, 90, 69, 38],\n",
              "       [54, 15, 22,  9, 47, 29],\n",
              "       [68,  9, 13, 36, 50, 58],\n",
              "       [40, 64, 45, 68, 87, 29],\n",
              "       [39, 91, 94, 83, 47, 55]])"
            ]
          },
          "metadata": {},
          "execution_count": 20
        }
      ]
    },
    {
      "cell_type": "code",
      "source": [
        "np.shape(X)"
      ],
      "metadata": {
        "colab": {
          "base_uri": "https://localhost:8080/"
        },
        "id": "p_6h6SHtfu3e",
        "outputId": "d26165cd-fcd6-4025-ccec-435bd8726952"
      },
      "execution_count": 21,
      "outputs": [
        {
          "output_type": "execute_result",
          "data": {
            "text/plain": [
              "(6, 6)"
            ]
          },
          "metadata": {},
          "execution_count": 21
        }
      ]
    },
    {
      "cell_type": "code",
      "source": [
        "# Operaciones matriciales"
      ],
      "metadata": {
        "id": "tpPPxUiULgge"
      },
      "execution_count": 22,
      "outputs": []
    },
    {
      "cell_type": "code",
      "source": [
        "X=np.array([[1,2],[3,4]])\n",
        "B=np.array([[5,2],[1,4]])\n",
        "np.linalg.inv(X)"
      ],
      "metadata": {
        "colab": {
          "base_uri": "https://localhost:8080/"
        },
        "id": "U8snX3DpLXtp",
        "outputId": "a2250a18-62bb-498d-a0b5-945c4e3e062a"
      },
      "execution_count": 23,
      "outputs": [
        {
          "output_type": "execute_result",
          "data": {
            "text/plain": [
              "array([[-2. ,  1. ],\n",
              "       [ 1.5, -0.5]])"
            ]
          },
          "metadata": {},
          "execution_count": 23
        }
      ]
    },
    {
      "cell_type": "code",
      "source": [
        "# @title linalg."
      ],
      "metadata": {
        "id": "vxjE4ll-ZXZq"
      },
      "execution_count": 24,
      "outputs": []
    },
    {
      "cell_type": "code",
      "source": [
        "X"
      ],
      "metadata": {
        "colab": {
          "base_uri": "https://localhost:8080/"
        },
        "id": "os1870e1aE_f",
        "outputId": "ee0a5a0a-a800-496a-9c07-ceb1add12f54"
      },
      "execution_count": 25,
      "outputs": [
        {
          "output_type": "execute_result",
          "data": {
            "text/plain": [
              "array([[1, 2],\n",
              "       [3, 4]])"
            ]
          },
          "metadata": {},
          "execution_count": 25
        }
      ]
    },
    {
      "cell_type": "code",
      "source": [
        "np.linalg.det(X)"
      ],
      "metadata": {
        "colab": {
          "base_uri": "https://localhost:8080/"
        },
        "id": "XwCim3VlLfKU",
        "outputId": "d5384887-2ab0-4d34-e4fb-e15e8f84f300"
      },
      "execution_count": 26,
      "outputs": [
        {
          "output_type": "execute_result",
          "data": {
            "text/plain": [
              "-2.0000000000000004"
            ]
          },
          "metadata": {},
          "execution_count": 26
        }
      ]
    },
    {
      "cell_type": "code",
      "source": [
        "np.dot([2j, 3j], [2j, 3j])"
      ],
      "metadata": {
        "colab": {
          "base_uri": "https://localhost:8080/"
        },
        "id": "JyXfDy4TL46a",
        "outputId": "f7fcb95b-1475-4c84-b5d3-5aefffa321a2"
      },
      "execution_count": 27,
      "outputs": [
        {
          "output_type": "execute_result",
          "data": {
            "text/plain": [
              "(-13+0j)"
            ]
          },
          "metadata": {},
          "execution_count": 27
        }
      ]
    },
    {
      "cell_type": "code",
      "source": [
        "X*B"
      ],
      "metadata": {
        "colab": {
          "base_uri": "https://localhost:8080/"
        },
        "id": "WPC3XJLjMTvU",
        "outputId": "dbae36a1-5499-4f42-8c48-5ec39ff397b8"
      },
      "execution_count": 28,
      "outputs": [
        {
          "output_type": "execute_result",
          "data": {
            "text/plain": [
              "array([[ 5,  4],\n",
              "       [ 3, 16]])"
            ]
          },
          "metadata": {},
          "execution_count": 28
        }
      ]
    },
    {
      "cell_type": "code",
      "source": [
        "X@B    #Multiplicación d ematrices"
      ],
      "metadata": {
        "colab": {
          "base_uri": "https://localhost:8080/"
        },
        "id": "SXr0_TeBMf2m",
        "outputId": "02b449b2-7436-43c2-fd9c-dd079c5321dc"
      },
      "execution_count": 29,
      "outputs": [
        {
          "output_type": "execute_result",
          "data": {
            "text/plain": [
              "array([[ 7, 10],\n",
              "       [19, 22]])"
            ]
          },
          "metadata": {},
          "execution_count": 29
        }
      ]
    },
    {
      "cell_type": "code",
      "source": [
        "np.matmul(X,B)"
      ],
      "metadata": {
        "colab": {
          "base_uri": "https://localhost:8080/"
        },
        "id": "Ht4V1OxIMg40",
        "outputId": "04fd132a-8938-4ae8-cf7c-1608a27433b7"
      },
      "execution_count": 30,
      "outputs": [
        {
          "output_type": "execute_result",
          "data": {
            "text/plain": [
              "array([[ 7, 10],\n",
              "       [19, 22]])"
            ]
          },
          "metadata": {},
          "execution_count": 30
        }
      ]
    },
    {
      "cell_type": "code",
      "source": [
        "np.linalg.inv(B)"
      ],
      "metadata": {
        "colab": {
          "base_uri": "https://localhost:8080/"
        },
        "id": "YZgtA_BoZgWt",
        "outputId": "cdb6dbc3-f0ac-48e0-eabf-3e3d4c7770b4"
      },
      "execution_count": 31,
      "outputs": [
        {
          "output_type": "execute_result",
          "data": {
            "text/plain": [
              "array([[ 0.22222222, -0.11111111],\n",
              "       [-0.05555556,  0.27777778]])"
            ]
          },
          "metadata": {},
          "execution_count": 31
        }
      ]
    },
    {
      "cell_type": "code",
      "source": [
        "X[[0,1]] = X[[1,0]]\n",
        "X"
      ],
      "metadata": {
        "colab": {
          "base_uri": "https://localhost:8080/"
        },
        "id": "xkhClK4vZ9mY",
        "outputId": "d4245b67-f8fe-4a7c-8b6a-f118944c5696"
      },
      "execution_count": 32,
      "outputs": [
        {
          "output_type": "execute_result",
          "data": {
            "text/plain": [
              "array([[3, 4],\n",
              "       [1, 2]])"
            ]
          },
          "metadata": {},
          "execution_count": 32
        }
      ]
    },
    {
      "cell_type": "markdown",
      "source": [
        "# Algunos ejemplo\n",
        "\n",
        "```python\n",
        "import numpy as np\n",
        "\n",
        "# Producto de matrices\n",
        "A = np.array([[1, 2], [3, 4]])\n",
        "B = np.array([[5, 6], [7, 8]])\n",
        "producto = np.dot(A, B)\n",
        "\n",
        "# Determinante de una matriz\n",
        "C = np.array([[9, 2], [3, 4]])\n",
        "determinante = np.linalg.det(C)\n",
        "\n",
        "# Inversa de una matriz\n",
        "D = np.array([[2, 5], [1, 3]])\n",
        "inversa = np.linalg.inv(D)\n",
        "\n",
        "# Autovalores y autovectores\n",
        "E = np.array([[2, 0], [0, 3]])\n",
        "autovalores, autovectores = np.linalg.eig(E)\n",
        "\n",
        "# Resolución de sistemas de ecuaciones lineales\n",
        "F = np.array([[1, 1], [1, -1]])\n",
        "b = np.array([5, 1])\n",
        "solucion = np.linalg.solve(F, b)\n",
        "\n",
        "\n",
        "# Norma de un vector o matriz\n",
        "H = np.array([1, 2, 3])\n",
        "norma = np.linalg.norm(H)\n",
        "\n",
        "# Rango de una matriz\n",
        "I = np.array([[1, 2], [2, 4]])\n",
        "rango = np.linalg.matrix_rank(I)\n",
        "\n",
        "# Potencia de una matriz\n",
        "J = np.array([[1, 2], [3, 4]])\n",
        "potencia = np.linalg.matrix_power(J, 3)\n",
        "\n",
        "# Descomposición SVD\n",
        "G = np.array([[1, 2], [3, 4]])\n",
        "U, S, V = np.linalg.svd(G)\n",
        "\n",
        "\n",
        "```\n"
      ],
      "metadata": {
        "id": "wOgkVu4yL-mp"
      }
    },
    {
      "cell_type": "markdown",
      "source": [
        "# Matrices de numpy"
      ],
      "metadata": {
        "id": "iV1bdIUxLOwM"
      }
    },
    {
      "cell_type": "code",
      "source": [
        "M = np.matrix(X)\n",
        "type(M)"
      ],
      "metadata": {
        "colab": {
          "base_uri": "https://localhost:8080/"
        },
        "id": "ZoTW7RE1mDjk",
        "outputId": "11e5e1a3-ff3f-4b80-a8d6-6f6ec21e7fed"
      },
      "execution_count": 33,
      "outputs": [
        {
          "output_type": "execute_result",
          "data": {
            "text/plain": [
              "numpy.matrix"
            ]
          },
          "metadata": {},
          "execution_count": 33
        }
      ]
    },
    {
      "cell_type": "code",
      "source": [
        "M"
      ],
      "metadata": {
        "colab": {
          "base_uri": "https://localhost:8080/"
        },
        "id": "vLOJVJLdaoBl",
        "outputId": "4c6bc7b8-2a13-4bc3-d94a-8cb116c52f1c"
      },
      "execution_count": 34,
      "outputs": [
        {
          "output_type": "execute_result",
          "data": {
            "text/plain": [
              "matrix([[3, 4],\n",
              "        [1, 2]])"
            ]
          },
          "metadata": {},
          "execution_count": 34
        }
      ]
    },
    {
      "cell_type": "code",
      "source": [
        "M[:,0]"
      ],
      "metadata": {
        "colab": {
          "base_uri": "https://localhost:8080/"
        },
        "id": "0l5LwbbSaicO",
        "outputId": "e46cd955-f058-4043-d807-9ddaeaa482bd"
      },
      "execution_count": 35,
      "outputs": [
        {
          "output_type": "execute_result",
          "data": {
            "text/plain": [
              "matrix([[3],\n",
              "        [1]])"
            ]
          },
          "metadata": {},
          "execution_count": 35
        }
      ]
    },
    {
      "cell_type": "code",
      "source": [
        "M@M"
      ],
      "metadata": {
        "colab": {
          "base_uri": "https://localhost:8080/"
        },
        "id": "smYYFQDnmSHx",
        "outputId": "abf1487b-349c-4fc1-8bf2-47c241807e1e"
      },
      "execution_count": 36,
      "outputs": [
        {
          "output_type": "execute_result",
          "data": {
            "text/plain": [
              "matrix([[13, 20],\n",
              "        [ 5,  8]])"
            ]
          },
          "metadata": {},
          "execution_count": 36
        }
      ]
    },
    {
      "cell_type": "code",
      "source": [
        "M.T"
      ],
      "metadata": {
        "colab": {
          "base_uri": "https://localhost:8080/"
        },
        "id": "v0j1xF0Xnu3A",
        "outputId": "92c5e4e2-7620-4f3c-b087-758eea3d964d"
      },
      "execution_count": 37,
      "outputs": [
        {
          "output_type": "execute_result",
          "data": {
            "text/plain": [
              "matrix([[3, 1],\n",
              "        [4, 2]])"
            ]
          },
          "metadata": {},
          "execution_count": 37
        }
      ]
    },
    {
      "cell_type": "code",
      "source": [
        "M.I"
      ],
      "metadata": {
        "colab": {
          "base_uri": "https://localhost:8080/"
        },
        "id": "-okypnwca4FU",
        "outputId": "23d938b3-2afd-4adc-970d-55a9fef3fa55"
      },
      "execution_count": 38,
      "outputs": [
        {
          "output_type": "execute_result",
          "data": {
            "text/plain": [
              "matrix([[ 1. , -2. ],\n",
              "        [-0.5,  1.5]])"
            ]
          },
          "metadata": {},
          "execution_count": 38
        }
      ]
    },
    {
      "cell_type": "code",
      "source": [
        "type(X)"
      ],
      "metadata": {
        "colab": {
          "base_uri": "https://localhost:8080/"
        },
        "id": "jsRxH4R9mJFs",
        "outputId": "5aba1531-fbd7-4f6e-c61d-db704a15729d"
      },
      "execution_count": 39,
      "outputs": [
        {
          "output_type": "execute_result",
          "data": {
            "text/plain": [
              "numpy.ndarray"
            ]
          },
          "metadata": {},
          "execution_count": 39
        }
      ]
    },
    {
      "cell_type": "code",
      "source": [
        "np.transpose(X)"
      ],
      "metadata": {
        "colab": {
          "base_uri": "https://localhost:8080/"
        },
        "id": "I6yi4tSzmXkx",
        "outputId": "6a1afa8f-d7f5-4a64-909a-7b868368376d"
      },
      "execution_count": 40,
      "outputs": [
        {
          "output_type": "execute_result",
          "data": {
            "text/plain": [
              "array([[3, 1],\n",
              "       [4, 2]])"
            ]
          },
          "metadata": {},
          "execution_count": 40
        }
      ]
    },
    {
      "cell_type": "code",
      "source": [
        "x = sy.Symbol(\"x\")"
      ],
      "metadata": {
        "id": "XQviMu9KmhP5"
      },
      "execution_count": 41,
      "outputs": []
    },
    {
      "cell_type": "code",
      "source": [
        "Y = np.array([[x**2,sy.sin(x)],[x,x]])\n",
        "q = sy.Matrix(Y)\n",
        "q"
      ],
      "metadata": {
        "colab": {
          "base_uri": "https://localhost:8080/",
          "height": 58
        },
        "id": "6NQ5_urmm8P5",
        "outputId": "ccc7bf6f-2356-4af2-b967-bf87717dddda"
      },
      "execution_count": 42,
      "outputs": [
        {
          "output_type": "execute_result",
          "data": {
            "text/plain": [
              "Matrix([\n",
              "[x**2, sin(x)],\n",
              "[   x,      x]])"
            ],
            "text/latex": "$\\displaystyle \\left[\\begin{matrix}x^{2} & \\sin{\\left(x \\right)}\\\\x & x\\end{matrix}\\right]$"
          },
          "metadata": {},
          "execution_count": 42
        }
      ]
    },
    {
      "cell_type": "code",
      "source": [
        "q@q"
      ],
      "metadata": {
        "colab": {
          "base_uri": "https://localhost:8080/",
          "height": 58
        },
        "id": "1H5elz7jnEKY",
        "outputId": "a24de51f-4b4b-4fce-d211-26cf82cc5977"
      },
      "execution_count": 43,
      "outputs": [
        {
          "output_type": "execute_result",
          "data": {
            "text/plain": [
              "Matrix([\n",
              "[x**4 + x*sin(x), x**2*sin(x) + x*sin(x)],\n",
              "[    x**3 + x**2,        x**2 + x*sin(x)]])"
            ],
            "text/latex": "$\\displaystyle \\left[\\begin{matrix}x^{4} + x \\sin{\\left(x \\right)} & x^{2} \\sin{\\left(x \\right)} + x \\sin{\\left(x \\right)}\\\\x^{3} + x^{2} & x^{2} + x \\sin{\\left(x \\right)}\\end{matrix}\\right]$"
          },
          "metadata": {},
          "execution_count": 43
        }
      ]
    },
    {
      "cell_type": "code",
      "source": [
        "q.inv()  #inversa"
      ],
      "metadata": {
        "id": "owwyiJ0yN3oN",
        "colab": {
          "base_uri": "https://localhost:8080/",
          "height": 69
        },
        "outputId": "b7adb213-5fcf-4d45-f51d-4d087c851479"
      },
      "execution_count": 44,
      "outputs": [
        {
          "output_type": "execute_result",
          "data": {
            "text/plain": [
              "Matrix([\n",
              "[   1/(x**2 - sin(x)), -sin(x)/(x**3 - x*sin(x))],\n",
              "[-x/(x**3 - x*sin(x)),    x**2/(x**3 - x*sin(x))]])"
            ],
            "text/latex": "$\\displaystyle \\left[\\begin{matrix}\\frac{1}{x^{2} - \\sin{\\left(x \\right)}} & - \\frac{\\sin{\\left(x \\right)}}{x^{3} - x \\sin{\\left(x \\right)}}\\\\- \\frac{x}{x^{3} - x \\sin{\\left(x \\right)}} & \\frac{x^{2}}{x^{3} - x \\sin{\\left(x \\right)}}\\end{matrix}\\right]$"
          },
          "metadata": {},
          "execution_count": 44
        }
      ]
    },
    {
      "cell_type": "markdown",
      "source": [
        "# Actividad:\n",
        "\n",
        "1. Construir un programa que permita multiplicar dos matrices\n",
        "\n",
        "2. Cosntruir un programa que permita construir una regresion lineal simple empleando lo que sigue:\n",
        "\n",
        "3. Construir un programa que permita calcular una regresion bidimensional y hacer su representación .\n",
        "\n",
        "\n",
        "Operaciones matricial con regresión lineal.\n",
        "\n",
        "Cuando se desea hacer una regresion lineal multivariada, existen diferentes formas de realizar la regresión, una de ellas es encontrar el error cuadrático medio y miniminzar el conjunto de parámetros de la regresión emplando algún metodo de minimización, otra forma es encontrar la expresión analítica en forma matricial para enoncontrar el conjunto de parametros de la regresión. En este último caso, la regresion lineal viene dada por la siguiente expresion generalizada:\n",
        "\n",
        "\n",
        "- $\\Theta = (X^T X)^{-1} X^T y$\n",
        "\n",
        "donte $\\Theta$ es la matriz de parametros asociados a la regresión lineal, X la matriz de características y y los valos esperados, así, si tenemos una conjunto de datos en N dimensiones la recta, plano o hyperplano puede ser calculado como:\n",
        "\n",
        "$Y=\\Theta^T X$\n",
        "\n",
        "\n",
        "En el caso de dos dimensiones, tenemos lo siguiente, Supongamos que X, y Y presentan un comportamiento lineal, y vienen dados por:\n",
        "\n",
        "\n",
        "- Sea $\\vec{X}=x^1, x^2, x^3, x^4, ..., x^m$\n",
        "- Sea $\\vec{Y}=y^1, y^2, y^3, y^4, ..., y^m$\n",
        "\n",
        "Para determinar la ecuacion de la recta, hay que conocer los párametros $\\theta_0 $, $\\theta_1$, que cumplen que :   $y^{i} = \\theta_1 x^{i} + \\theta_0$ la anterior expresion puede ser escrita como:\n",
        "\n",
        "\\begin{equation}\n",
        "\\begin{bmatrix}\n",
        "y^{1}\\\\\n",
        "y^{2}\\\\\n",
        "\\vdots\\\\\n",
        "y^{m}\\\\\n",
        "\\end{bmatrix}=\n",
        "\\begin{bmatrix}\n",
        "\\theta_0 & \\theta_1 \\\\\n",
        "\\end{bmatrix}\n",
        "\\begin{bmatrix}\n",
        "1 & 1 & \\cdots & 1 \\\\\n",
        "x_1^{1} & x_1^{2} & \\cdots & x_1^{m} \\\\\n",
        "\\end{bmatrix}\n",
        "\\end{equation}\n",
        "\n",
        "\n",
        "Para determinar la matriz de theta entonces se puede aplicar la ecuación:\n",
        "\n",
        "- $\\Theta = (X^T X)^{-1} X^T y$\n",
        "\n",
        "donde:\n",
        "\\begin{equation}\n",
        "X=\n",
        "\\begin{bmatrix}\n",
        "1 & x_1^{1} \\\\\n",
        "1 & x_1^{2} \\\\\n",
        "\\vdots & \\vdots \\\\\n",
        "1 & x_1^{m}\n",
        "\\end{bmatrix}\n",
        "\\end{equation}\n",
        "\n",
        "y\n",
        "\n",
        "\n",
        "\\begin{equation}\n",
        "y=\n",
        "\\begin{bmatrix}\n",
        "y^1 \\\\\n",
        "y^2 \\\\\n",
        "\\vdots\\\\\n",
        "y^m\n",
        "\\end{bmatrix}\n",
        "\\end{equation}\n",
        "\n",
        "Su tarea será construir un programa que realice la regresión lineal para los siguientes puntos:\n",
        "```python\n",
        "N = 10\n",
        "x1 = np.linspace(0, 10, N)\n",
        "noise=2*np.random.random(N)-1\n",
        "y = 0.9*x1 + noise\n",
        "```\n",
        "\n",
        "\n",
        "\n",
        "Generalice para el siguiente problema bidimensional:\n",
        "\n",
        "\n",
        "```python\n",
        "N = 10\n",
        "x1 = np.linspace(-1, 1, N)\n",
        "x2 = np.linspace(-2, 2, N)\n",
        "noise1=2*np.random.random(N)-1\n",
        "noise2=2*np.random.random(N)-1\n",
        "y = 2*(x1+noise1) - 3*(x2+noise2) + 0.0 #+ 4*np.random.random(100)\n",
        "\n",
        "N = 10\n",
        "X1, X2 = np.meshgrid(x1,x2)\n",
        "Y = 2*X1 - 3*X2 + 0.0\n",
        "fig, ax = plt.subplots(subplot_kw={\"projection\": \"3d\"})\n",
        "surf = ax.plot_surface(X1, X2, Y)\n",
        "#scatter = ax.scatter(x1, x2, y,\"-\")\n",
        "```\n",
        "\n",
        "\n",
        "\n",
        "4. Construir un programa que permita realizar eliminacion de Gauss- Jordan de una matriz\n",
        "\n"
      ],
      "metadata": {
        "id": "k9jPDzNSjgnZ"
      }
    },
    {
      "cell_type": "markdown",
      "source": [
        "# 1. Multiplicación de matrices"
      ],
      "metadata": {
        "id": "XJc3OOlchNz1"
      }
    },
    {
      "cell_type": "code",
      "source": [
        "X = sy.Matrix([[1,2,4],[2,3,3], [3,2,1]])\n",
        "X\n",
        "Y = sy.Matrix([[1,3,4],[2,5,4],[2,2,1]])\n",
        "X,Y , X@Y"
      ],
      "metadata": {
        "colab": {
          "base_uri": "https://localhost:8080/"
        },
        "id": "UpxfdSiNcUX9",
        "outputId": "e48615ae-bfa9-4058-d669-10d7f4bf1708"
      },
      "execution_count": 45,
      "outputs": [
        {
          "output_type": "execute_result",
          "data": {
            "text/plain": [
              "(Matrix([\n",
              " [1, 2, 4],\n",
              " [2, 3, 3],\n",
              " [3, 2, 1]]),\n",
              " Matrix([\n",
              " [1, 3, 4],\n",
              " [2, 5, 4],\n",
              " [2, 2, 1]]),\n",
              " Matrix([\n",
              " [13, 21, 16],\n",
              " [14, 27, 23],\n",
              " [ 9, 21, 21]]))"
            ]
          },
          "metadata": {},
          "execution_count": 45
        }
      ]
    },
    {
      "cell_type": "code",
      "source": [
        "X[1 , 0:3] #seleccionar filas\n",
        "X[0:3 , 1]  # seleccionar columnas"
      ],
      "metadata": {
        "colab": {
          "base_uri": "https://localhost:8080/",
          "height": 78
        },
        "id": "oWDUO5e1dggv",
        "outputId": "59853b3f-1b21-4257-84fd-4f6bde5dff29"
      },
      "execution_count": 46,
      "outputs": [
        {
          "output_type": "execute_result",
          "data": {
            "text/plain": [
              "Matrix([\n",
              "[2],\n",
              "[3],\n",
              "[2]])"
            ],
            "text/latex": "$\\displaystyle \\left[\\begin{matrix}2\\\\3\\\\2\\end{matrix}\\right]$"
          },
          "metadata": {},
          "execution_count": 46
        }
      ]
    },
    {
      "cell_type": "code",
      "source": [
        "X = np.array([[1,2,4],[2,3,3], [3,2,1]])\n",
        "X\n",
        "Y = np.array([[1,3],[5,4],[2,1]])\n",
        "X, Y"
      ],
      "metadata": {
        "colab": {
          "base_uri": "https://localhost:8080/"
        },
        "id": "e3TExBs2hhow",
        "outputId": "8fdc23f3-c412-4b03-f25a-0641703a01a0"
      },
      "execution_count": 47,
      "outputs": [
        {
          "output_type": "execute_result",
          "data": {
            "text/plain": [
              "(array([[1, 2, 4],\n",
              "        [2, 3, 3],\n",
              "        [3, 2, 1]]),\n",
              " array([[1, 3],\n",
              "        [5, 4],\n",
              "        [2, 1]]))"
            ]
          },
          "metadata": {},
          "execution_count": 47
        }
      ]
    },
    {
      "cell_type": "code",
      "source": [
        "L = X@Y\n",
        "L"
      ],
      "metadata": {
        "colab": {
          "base_uri": "https://localhost:8080/"
        },
        "id": "ft_ASjovhsZt",
        "outputId": "1a1675db-e6b6-43f7-91c6-5422d51d5276"
      },
      "execution_count": 48,
      "outputs": [
        {
          "output_type": "execute_result",
          "data": {
            "text/plain": [
              "array([[19, 15],\n",
              "       [23, 21],\n",
              "       [15, 18]])"
            ]
          },
          "metadata": {},
          "execution_count": 48
        }
      ]
    },
    {
      "cell_type": "code",
      "source": [
        "# @title Función que multiplica matrices\n",
        "def Matrix_producto(M, N):\n",
        "\n",
        "  n, m = np.shape(M)   # fila n, col = m\n",
        "  l, p = np.shape(N)    # fila = k, col = p\n",
        "  M_ = np.zeros((n,p))\n",
        "  if l==n:\n",
        "    for k in range(0, n):\n",
        "      for i in range(0, p):\n",
        "        for j in range(0,l):\n",
        "          M_[k,i] += M[k,j] * N[j,i]\n",
        "  else:\n",
        "    print(\"Coloqupe matrices válidas\")\n",
        "  return(M_)"
      ],
      "metadata": {
        "id": "j1tUZ5d3ci5t"
      },
      "execution_count": 49,
      "outputs": []
    },
    {
      "cell_type": "code",
      "source": [
        "Matrix_producto(X,Y)"
      ],
      "metadata": {
        "colab": {
          "base_uri": "https://localhost:8080/"
        },
        "id": "NeDDebLChW7b",
        "outputId": "acc922ba-1a62-4004-b14e-7b40aca29f44"
      },
      "execution_count": 50,
      "outputs": [
        {
          "output_type": "execute_result",
          "data": {
            "text/plain": [
              "array([[19., 15.],\n",
              "       [23., 21.],\n",
              "       [15., 18.]])"
            ]
          },
          "metadata": {},
          "execution_count": 50
        }
      ]
    },
    {
      "cell_type": "code",
      "source": [
        "l = (np.shape(X)[-1])\n",
        "l"
      ],
      "metadata": {
        "id": "KKDRhbnBeq5H",
        "colab": {
          "base_uri": "https://localhost:8080/"
        },
        "outputId": "27f3cb7e-8fa3-4d9a-d398-8b1279bc3db8"
      },
      "execution_count": 51,
      "outputs": [
        {
          "output_type": "execute_result",
          "data": {
            "text/plain": [
              "3"
            ]
          },
          "metadata": {},
          "execution_count": 51
        }
      ]
    },
    {
      "cell_type": "markdown",
      "source": [
        "# 2. Operaciones matricial con regresión lineal."
      ],
      "metadata": {
        "id": "ZenI49pPhVCj"
      }
    },
    {
      "cell_type": "code",
      "source": [
        "N = 10\n",
        "x1 = np.linspace(0, 10, N)\n",
        "noise=2*np.random.random(N)-1\n",
        "y = 0.9*x1 + noise"
      ],
      "metadata": {
        "id": "LHo9roomer61"
      },
      "execution_count": 52,
      "outputs": []
    },
    {
      "cell_type": "code",
      "source": [
        "X = np.zeros((len(x1),2))\n",
        "X[:,0] = 1\n",
        "X[:,1] = x1\n",
        "X = np.matrix(X)\n",
        "sy.Matrix(X)"
      ],
      "metadata": {
        "colab": {
          "base_uri": "https://localhost:8080/",
          "height": 220
        },
        "id": "Fhml-KiHh8yl",
        "outputId": "c8441449-79ad-4867-9c4c-00e2d58c970d"
      },
      "execution_count": 53,
      "outputs": [
        {
          "output_type": "execute_result",
          "data": {
            "text/plain": [
              "Matrix([\n",
              "[1.0,                0],\n",
              "[1.0, 1.11111111111111],\n",
              "[1.0, 2.22222222222222],\n",
              "[1.0, 3.33333333333333],\n",
              "[1.0, 4.44444444444444],\n",
              "[1.0, 5.55555555555556],\n",
              "[1.0, 6.66666666666667],\n",
              "[1.0, 7.77777777777778],\n",
              "[1.0, 8.88888888888889],\n",
              "[1.0,             10.0]])"
            ],
            "text/latex": "$\\displaystyle \\left[\\begin{matrix}1.0 & 0\\\\1.0 & 1.11111111111111\\\\1.0 & 2.22222222222222\\\\1.0 & 3.33333333333333\\\\1.0 & 4.44444444444444\\\\1.0 & 5.55555555555556\\\\1.0 & 6.66666666666667\\\\1.0 & 7.77777777777778\\\\1.0 & 8.88888888888889\\\\1.0 & 10.0\\end{matrix}\\right]$"
          },
          "metadata": {},
          "execution_count": 53
        }
      ]
    },
    {
      "cell_type": "code",
      "source": [
        "#Matriz Y\n",
        "\n",
        "sy.Matrix(y)"
      ],
      "metadata": {
        "colab": {
          "base_uri": "https://localhost:8080/",
          "height": 220
        },
        "id": "HhS2QTI5iHj8",
        "outputId": "47a2a898-6741-4c5e-ba5c-e43c7e8b1c39"
      },
      "execution_count": 54,
      "outputs": [
        {
          "output_type": "execute_result",
          "data": {
            "text/plain": [
              "Matrix([\n",
              "[-0.0529901225834803],\n",
              "[  0.573874993220582],\n",
              "[   1.03471875805839],\n",
              "[    2.0334989038742],\n",
              "[    4.4853180051638],\n",
              "[   5.01853575416422],\n",
              "[   6.34184144482044],\n",
              "[   6.87451787775685],\n",
              "[   8.24273383990756],\n",
              "[   8.73250928976181]])"
            ],
            "text/latex": "$\\displaystyle \\left[\\begin{matrix}-0.0529901225834803\\\\0.573874993220582\\\\1.03471875805839\\\\2.0334989038742\\\\4.4853180051638\\\\5.01853575416422\\\\6.34184144482044\\\\6.87451787775685\\\\8.24273383990756\\\\8.73250928976181\\end{matrix}\\right]$"
          },
          "metadata": {},
          "execution_count": 54
        }
      ]
    },
    {
      "cell_type": "markdown",
      "source": [
        "$$\\Theta = (X^T X)^{-1} X^T y$$"
      ],
      "metadata": {
        "id": "0-09VK7bixwV"
      }
    },
    {
      "cell_type": "code",
      "source": [
        "#Ecuaciòn de theta\n",
        "the = (X.T @ X).I @ X.T @ y  #calculò lo primero de la ecuaciòn\n",
        "print(\"Matrix theta:\",sy.Matrix(the))\n",
        "\n",
        "# np.linalg.inv(X.T @ X) @ X.T @ y  (Otra manera de calcular lo de arriba)\n",
        "\n",
        "\n"
      ],
      "metadata": {
        "colab": {
          "base_uri": "https://localhost:8080/"
        },
        "id": "giiBS6kFiKOS",
        "outputId": "0d32a316-2915-48d0-a71b-fea81da7a794"
      },
      "execution_count": 55,
      "outputs": [
        {
          "output_type": "stream",
          "name": "stdout",
          "text": [
            "Matrix theta: Matrix([[-0.455419060355960, 0.956774986954080]])\n"
          ]
        }
      ]
    },
    {
      "cell_type": "markdown",
      "source": [
        " $Y=\\Theta X^T$"
      ],
      "metadata": {
        "id": "2uaSgjsUkU_Z"
      }
    },
    {
      "cell_type": "code",
      "source": [
        "Y = sy.Matrix(the @ X.T)\n",
        "print(f\"Los valors de Y: {sy.Matrix(Y)}\")"
      ],
      "metadata": {
        "colab": {
          "base_uri": "https://localhost:8080/"
        },
        "id": "bSx_NrOMkUlp",
        "outputId": "c889e2e4-f45b-41bf-a913-c2f854a2c9dc"
      },
      "execution_count": 56,
      "outputs": [
        {
          "output_type": "stream",
          "name": "stdout",
          "text": [
            "Los valors de Y: Matrix([[-0.455419060355960, 0.607664258481907, 1.67074757731977, 2.73383089615764, 3.79691421499551, 4.85999753383337, 5.92308085267124, 6.98616417150911, 8.04924749034697, 9.11233080918484]])\n"
          ]
        }
      ]
    },
    {
      "cell_type": "code",
      "source": [
        "plt.xlabel(\"Puntos x\")\n",
        "plt.ylabel(\"Puntos y\")\n",
        "plt.title(\"Regesión lineal y Datos originales de los puntos x\")\n",
        "plt.plot(x1, y, \"r*\", label = \"Datos\")\n",
        "plt.plot(x1, Y.T, \"k--\",label = \"Regresiòn lineal\" )\n",
        "plt.legend()\n",
        "plt.grid()"
      ],
      "metadata": {
        "colab": {
          "base_uri": "https://localhost:8080/",
          "height": 472
        },
        "id": "Ss4quD8sjFeZ",
        "outputId": "3e6f721f-dee9-422d-df14-694ea22a2b14"
      },
      "execution_count": 57,
      "outputs": [
        {
          "output_type": "display_data",
          "data": {
            "text/plain": [
              "<Figure size 640x480 with 1 Axes>"
            ],
            "image/png": "[encoded data removed]"
          },
          "metadata": {}
        }
      ]
    },
    {
      "cell_type": "code",
      "source": [
        "# @title 3. Bidimensional\n",
        "N = 20\n",
        "x1 = np.linspace(-1, 1, N)\n",
        "x2 = np.linspace(-2, 2, N)\n",
        "noise1=2*np.random.random(N)-1\n",
        "noise2=2*np.random.random(N)-1\n",
        "y = 2*(x1+noise1) - 3*(x2+noise2) + 0.0 #+ 4*np.random.random(100)\n",
        "\n",
        "\n",
        "X = np.zeros((len(x1),3))\n",
        "X[:,0] = 1\n",
        "X[:,1] = x1\n",
        "X[:,2] = x2\n",
        "\n",
        "\n",
        "#prod = np.linalg.inv(X.T @ X) @ X.T @ y\n",
        "\n",
        "\n",
        "X = np.matrix(X)\n",
        "\n",
        "\n",
        "\n",
        "thet = (X.T @ X).I @ X.T @ y\n",
        "#multiplicando para sacaa el theta"
      ],
      "metadata": {
        "id": "4PRDzwaujupg"
      },
      "execution_count": 58,
      "outputs": []
    },
    {
      "cell_type": "code",
      "source": [
        "thet = (X.T @ X).I @ X.T @ y   #theta bidimensional\n",
        "thet = sy.Matrix(thet)\n",
        "\n",
        "\n",
        "Y = thet @ X.T\n",
        "print(f\"Los valors de Y: {sy.Matrix(Y)}\")\n"
      ],
      "metadata": {
        "colab": {
          "base_uri": "https://localhost:8080/"
        },
        "id": "PQhXcl8Hl4e7",
        "outputId": "e82ff4ab-3df2-4268-c1d5-40bb252d8ad2"
      },
      "execution_count": 59,
      "outputs": [
        {
          "output_type": "stream",
          "name": "stdout",
          "text": [
            "Los valors de Y: Matrix([[4.58232185407659, 4.11924278295908, 3.65616371184156, 3.19308464072405, 2.73000556960653, 2.26692649848902, 1.80384742737150, 1.34076835625399, 0.877689285136475, 0.414610214018960, -0.0484688570985548, -0.511547928216070, -0.974626999333584, -1.43770607045110, -1.90078514156861, -2.36386421268613, -2.82694328380364, -3.29002235492116, -3.75310142603867, -4.21618049715619]])\n"
          ]
        }
      ]
    },
    {
      "cell_type": "code",
      "source": [
        "X1, X2 = np.meshgrid(x1,x2)\n",
        "Y = 2*X1 - 3*X2 + 0.0\n",
        "fig, ax = plt.subplots(subplot_kw={\"projection\": \"3d\"})\n",
        "surf = ax.plot_surface(X1, X2, Y)\n",
        "s = ax.scatter(x1,x2,y)#\"k-\")\n",
        "#scatter = ax.scatter(x1, x2, y,\"-\")"
      ],
      "metadata": {
        "colab": {
          "base_uri": "https://localhost:8080/",
          "height": 415
        },
        "id": "2Ow-kUPVl7qT",
        "outputId": "f728d557-d92b-4b52-91ff-12d1605deecd"
      },
      "execution_count": 60,
      "outputs": [
        {
          "output_type": "display_data",
          "data": {
            "text/plain": [
              "<Figure size 640x480 with 1 Axes>"
            ],
            "image/png": "[encoded data removed]"
          },
          "metadata": {}
        }
      ]
    },
    {
      "cell_type": "code",
      "source": [
        "X1, X2 = np.meshgrid(x1,x2)\n",
        "Y = 2*X1 - 3*X2 + 0.0\n",
        "fig, ax = plt.subplots(subplot_kw={\"projection\": \"3d\"})\n",
        "surf = ax.plot_surface(X1, X2, Y)"
      ],
      "metadata": {
        "id": "RPBlKZoDa3Hm",
        "colab": {
          "base_uri": "https://localhost:8080/",
          "height": 415
        },
        "outputId": "5d36b02a-be76-4389-9b85-1bbe3c025aa5"
      },
      "execution_count": 61,
      "outputs": [
        {
          "output_type": "display_data",
          "data": {
            "text/plain": [
              "<Figure size 640x480 with 1 Axes>"
            ],
            "image/png": "[encoded data removed]"
          },
          "metadata": {}
        }
      ]
    },
    {
      "cell_type": "markdown",
      "source": [
        "# 4. Construir un programa que permita realizar eliminacion de Gauss- Jordan de una matriz"
      ],
      "metadata": {
        "id": "3xsJnvfYZrgP"
      }
    },
    {
      "cell_type": "code",
      "source": [
        "def eliminacion_gauus(A, b):\n",
        "\n",
        "    matriz_au = np.column_stack([A, b]) #se aumenta la matriz\n",
        "\n",
        "\n",
        "    n = len(matriz_au)\n",
        "    for i in range(n):    # se escalona la matriz usando pivotes\n",
        "        pivote = matriz_au[i]\n",
        "        piv = pivote[i]\n",
        "        matriz_au[i] = pivote/ piv\n",
        "\n",
        "\n",
        "        for j in range(i + 1, n): # se elimina hacia abajo\n",
        "            factor = matriz_au[j][i]\n",
        "            matriz_au[j] -= factor * matriz_au[i]\n",
        "\n",
        "\n",
        "    for i in range(n - 1, -1, -1):   #Se reduce en una matriz escalonada\n",
        "\n",
        "        for j in range(i - 1, -1, -1): #se elimina hacia arriba\n",
        "            factor -= factor * matriz_au[i]\n",
        "\n",
        "    return matriz_au[:, -1]\n",
        "\n",
        "A = np.array([[1, 2, 3],\n",
        "              [-4, -5, 6],\n",
        "              [7, 8, 9]])\n",
        "b = np.array([1, 1, 2])\n",
        "\n",
        "\n",
        "print(f\"Solución del sistema: {eliminacion_gauus(A, b)}\")\n",
        "\n"
      ],
      "metadata": {
        "id": "XrRT5X57mB6M",
        "colab": {
          "base_uri": "https://localhost:8080/"
        },
        "outputId": "cd474c5d-4c20-4293-f321-05cf0e6f128f"
      },
      "execution_count": 69,
      "outputs": [
        {
          "output_type": "stream",
          "name": "stdout",
          "text": [
            "Solución del sistema: [1 1 0]\n"
          ]
        }
      ]
    },
    {
      "cell_type": "code",
      "source": [],
      "metadata": {
        "id": "O03EOu9jgvAg"
      },
      "execution_count": null,
      "outputs": []
    }
  ]
}