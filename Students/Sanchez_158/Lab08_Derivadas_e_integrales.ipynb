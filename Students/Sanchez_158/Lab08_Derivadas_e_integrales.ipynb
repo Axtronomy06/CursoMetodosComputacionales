{
  "cells": [
    {
      "cell_type": "markdown",
      "source": [
        "Jair Sánchez Sierra"
      ],
      "metadata": {
        "id": "mspH5YsgPQsj"
      }
    },
    {
      "cell_type": "markdown",
      "metadata": {
        "id": "xTjqjBeTws8E"
      },
      "source": [
        "<a href=\"https://colab.research.google.com/github/hernansalinas/autogrades/blob/main/Laboratorios_Taller/Lab08_Derivadas_e_integrales.ipynb\" target=\"_parent\"><img src=\"https://colab.research.google.com/assets/colab-badge.svg\" alt=\"Open In Colab\"/></a>"
      ]
    },
    {
      "cell_type": "code",
      "execution_count": 276,
      "metadata": {
        "id": "J5O5W6xbuoZS"
      },
      "outputs": [],
      "source": [
        "import numpy as np\n",
        "import matplotlib.pyplot as plt\n",
        "import pandas as pd\n",
        "import scipy as sc\n",
        "import sympy as sy\n",
        "from scipy.interpolate import lagrange\n",
        "\n",
        "from scipy.constants import pi\n",
        "from sympy import pi, oo, tan, symbols, integrate"
      ]
    },
    {
      "cell_type": "markdown",
      "metadata": {
        "id": "mjVxBoseufI6"
      },
      "source": [
        "#Parte 1\n",
        "\n",
        "En un cirtcuito con un voltaje de  $\\varepsilon(t)$ y una inductancia de L, la primera ley de kirshhoff nos da la siguiente relación\n",
        "\n",
        "\\begin{equation}\n",
        "\\varepsilon(t) = L\\frac{\\mathrm{d}i}{\\mathrm{d}t} + Ri\n",
        "\\end{equation}\n",
        "\n",
        "donde $R$, es la resistencia del ciruito, $I$ es la corriente. Suponga que medimos la corriente con varios valores de $t$ y obtenemos:\n",
        "\n",
        "``t = 1.00, 1.01, 1.02, 1.03, 1.04``\n",
        "\n",
        "``i = 3.10, 3.12, 3.14, 3.18, 3.24``\n",
        "\n",
        "\n",
        "donde $t$ se mide en segundos, $I$ se da en Amperios, la inductancia $L$ es una constante de 0.98 H, la resistencia es de 0.142 $\\Omega$. Aproxime el votaje  $\\varepsilon(t)$ en los valores t=1.00, 1.01, 1.02, 1.03, 1.04 ,  para ello realice lo siguiente:\n",
        "\n",
        "\n",
        "- Construya un data frame de pandas con los valores de tiempo y corriente\n",
        "- Emplee un metodo calcular la derivada numérica."
      ]
    },
    {
      "cell_type": "code",
      "source": [
        "t = np.array([1.00, 1.01, 1.02, 1.03, 1.04])\n",
        "\n",
        "i = np.array([3.10, 3.12, 3.14, 3.18, 3.24])"
      ],
      "metadata": {
        "id": "8h5JSf9IxQvf"
      },
      "execution_count": 277,
      "outputs": []
    },
    {
      "cell_type": "code",
      "source": [
        "df = pd.DataFrame()\n",
        "df[\"Tiempo(s)\"] = t\n",
        "df[\"Corriente (A)\"] = i\n",
        "df"
      ],
      "metadata": {
        "colab": {
          "base_uri": "https://localhost:8080/",
          "height": 206
        },
        "id": "iAeOk0hwxwm-",
        "outputId": "13eab88c-504c-4949-9680-989cbecd63fc"
      },
      "execution_count": 278,
      "outputs": [
        {
          "output_type": "execute_result",
          "data": {
            "text/plain": [
              "   Tiempo(s)  Corriente (A)\n",
              "0       1.00           3.10\n",
              "1       1.01           3.12\n",
              "2       1.02           3.14\n",
              "3       1.03           3.18\n",
              "4       1.04           3.24"
            ],
            "text/html": [
              "\n",
              "  <div id=\"df-bc4131a7-9694-4d51-bc45-9d6afd783171\" class=\"colab-df-container\">\n",
              "    <div>\n",
              "<style scoped>\n",
              "    .dataframe tbody tr th:only-of-type {\n",
              "        vertical-align: middle;\n",
              "    }\n",
              "\n",
              "    .dataframe tbody tr th {\n",
              "        vertical-align: top;\n",
              "    }\n",
              "\n",
              "    .dataframe thead th {\n",
              "        text-align: right;\n",
              "    }\n",
              "</style>\n",
              "<table border=\"1\" class=\"dataframe\">\n",
              "  <thead>\n",
              "    <tr style=\"text-align: right;\">\n",
              "      <th></th>\n",
              "      <th>Tiempo(s)</th>\n",
              "      <th>Corriente (A)</th>\n",
              "    </tr>\n",
              "  </thead>\n",
              "  <tbody>\n",
              "    <tr>\n",
              "      <th>0</th>\n",
              "      <td>1.00</td>\n",
              "      <td>3.10</td>\n",
              "    </tr>\n",
              "    <tr>\n",
              "      <th>1</th>\n",
              "      <td>1.01</td>\n",
              "      <td>3.12</td>\n",
              "    </tr>\n",
              "    <tr>\n",
              "      <th>2</th>\n",
              "      <td>1.02</td>\n",
              "      <td>3.14</td>\n",
              "    </tr>\n",
              "    <tr>\n",
              "      <th>3</th>\n",
              "      <td>1.03</td>\n",
              "      <td>3.18</td>\n",
              "    </tr>\n",
              "    <tr>\n",
              "      <th>4</th>\n",
              "      <td>1.04</td>\n",
              "      <td>3.24</td>\n",
              "    </tr>\n",
              "  </tbody>\n",
              "</table>\n",
              "</div>\n",
              "    <div class=\"colab-df-buttons\">\n",
              "\n",
              "  <div class=\"colab-df-container\">\n",
              "    <button class=\"colab-df-convert\" onclick=\"convertToInteractive('df-bc4131a7-9694-4d51-bc45-9d6afd783171')\"\n",
              "            title=\"Convert this dataframe to an interactive table.\"\n",
              "            style=\"display:none;\">\n",
              "\n",
              "  <svg xmlns=\"http://www.w3.org/2000/svg\" height=\"24px\" viewBox=\"0 -960 960 960\">\n",
              "    <path d=\"M120-120v-720h720v720H120Zm60-500h600v-160H180v160Zm220 220h160v-160H400v160Zm0 220h160v-160H400v160ZM180-400h160v-160H180v160Zm440 0h160v-160H620v160ZM180-180h160v-160H180v160Zm440 0h160v-160H620v160Z\"/>\n",
              "  </svg>\n",
              "    </button>\n",
              "\n",
              "  <style>\n",
              "    .colab-df-container {\n",
              "      display:flex;\n",
              "      gap: 12px;\n",
              "    }\n",
              "\n",
              "    .colab-df-convert {\n",
              "      background-color: #E8F0FE;\n",
              "      border: none;\n",
              "      border-radius: 50%;\n",
              "      cursor: pointer;\n",
              "      display: none;\n",
              "      fill: #1967D2;\n",
              "      height: 32px;\n",
              "      padding: 0 0 0 0;\n",
              "      width: 32px;\n",
              "    }\n",
              "\n",
              "    .colab-df-convert:hover {\n",
              "      background-color: #E2EBFA;\n",
              "      box-shadow: 0px 1px 2px rgba(60, 64, 67, 0.3), 0px 1px 3px 1px rgba(60, 64, 67, 0.15);\n",
              "      fill: #174EA6;\n",
              "    }\n",
              "\n",
              "    .colab-df-buttons div {\n",
              "      margin-bottom: 4px;\n",
              "    }\n",
              "\n",
              "    [theme=dark] .colab-df-convert {\n",
              "      background-color: #3B4455;\n",
              "      fill: #D2E3FC;\n",
              "    }\n",
              "\n",
              "    [theme=dark] .colab-df-convert:hover {\n",
              "      background-color: #434B5C;\n",
              "      box-shadow: 0px 1px 3px 1px rgba(0, 0, 0, 0.15);\n",
              "      filter: drop-shadow(0px 1px 2px rgba(0, 0, 0, 0.3));\n",
              "      fill: #FFFFFF;\n",
              "    }\n",
              "  </style>\n",
              "\n",
              "    <script>\n",
              "      const buttonEl =\n",
              "        document.querySelector('#df-bc4131a7-9694-4d51-bc45-9d6afd783171 button.colab-df-convert');\n",
              "      buttonEl.style.display =\n",
              "        google.colab.kernel.accessAllowed ? 'block' : 'none';\n",
              "\n",
              "      async function convertToInteractive(key) {\n",
              "        const element = document.querySelector('#df-bc4131a7-9694-4d51-bc45-9d6afd783171');\n",
              "        const dataTable =\n",
              "          await google.colab.kernel.invokeFunction('convertToInteractive',\n",
              "                                                    [key], {});\n",
              "        if (!dataTable) return;\n",
              "\n",
              "        const docLinkHtml = 'Like what you see? Visit the ' +\n",
              "          '<a target=\"_blank\" href=https://colab.research.google.com/notebooks/data_table.ipynb>data table notebook</a>'\n",
              "          + ' to learn more about interactive tables.';\n",
              "        element.innerHTML = '';\n",
              "        dataTable['output_type'] = 'display_data';\n",
              "        await google.colab.output.renderOutput(dataTable, element);\n",
              "        const docLink = document.createElement('div');\n",
              "        docLink.innerHTML = docLinkHtml;\n",
              "        element.appendChild(docLink);\n",
              "      }\n",
              "    </script>\n",
              "  </div>\n",
              "\n",
              "\n",
              "<div id=\"df-e5f171e1-c821-41d9-888c-26617be740d6\">\n",
              "  <button class=\"colab-df-quickchart\" onclick=\"quickchart('df-e5f171e1-c821-41d9-888c-26617be740d6')\"\n",
              "            title=\"Suggest charts\"\n",
              "            style=\"display:none;\">\n",
              "\n",
              "<svg xmlns=\"http://www.w3.org/2000/svg\" height=\"24px\"viewBox=\"0 0 24 24\"\n",
              "     width=\"24px\">\n",
              "    <g>\n",
              "        <path d=\"M19 3H5c-1.1 0-2 .9-2 2v14c0 1.1.9 2 2 2h14c1.1 0 2-.9 2-2V5c0-1.1-.9-2-2-2zM9 17H7v-7h2v7zm4 0h-2V7h2v10zm4 0h-2v-4h2v4z\"/>\n",
              "    </g>\n",
              "</svg>\n",
              "  </button>\n",
              "\n",
              "<style>\n",
              "  .colab-df-quickchart {\n",
              "      --bg-color: #E8F0FE;\n",
              "      --fill-color: #1967D2;\n",
              "      --hover-bg-color: #E2EBFA;\n",
              "      --hover-fill-color: #174EA6;\n",
              "      --disabled-fill-color: #AAA;\n",
              "      --disabled-bg-color: #DDD;\n",
              "  }\n",
              "\n",
              "  [theme=dark] .colab-df-quickchart {\n",
              "      --bg-color: #3B4455;\n",
              "      --fill-color: #D2E3FC;\n",
              "      --hover-bg-color: #434B5C;\n",
              "      --hover-fill-color: #FFFFFF;\n",
              "      --disabled-bg-color: #3B4455;\n",
              "      --disabled-fill-color: #666;\n",
              "  }\n",
              "\n",
              "  .colab-df-quickchart {\n",
              "    background-color: var(--bg-color);\n",
              "    border: none;\n",
              "    border-radius: 50%;\n",
              "    cursor: pointer;\n",
              "    display: none;\n",
              "    fill: var(--fill-color);\n",
              "    height: 32px;\n",
              "    padding: 0;\n",
              "    width: 32px;\n",
              "  }\n",
              "\n",
              "  .colab-df-quickchart:hover {\n",
              "    background-color: var(--hover-bg-color);\n",
              "    box-shadow: 0 1px 2px rgba(60, 64, 67, 0.3), 0 1px 3px 1px rgba(60, 64, 67, 0.15);\n",
              "    fill: var(--button-hover-fill-color);\n",
              "  }\n",
              "\n",
              "  .colab-df-quickchart-complete:disabled,\n",
              "  .colab-df-quickchart-complete:disabled:hover {\n",
              "    background-color: var(--disabled-bg-color);\n",
              "    fill: var(--disabled-fill-color);\n",
              "    box-shadow: none;\n",
              "  }\n",
              "\n",
              "  .colab-df-spinner {\n",
              "    border: 2px solid var(--fill-color);\n",
              "    border-color: transparent;\n",
              "    border-bottom-color: var(--fill-color);\n",
              "    animation:\n",
              "      spin 1s steps(1) infinite;\n",
              "  }\n",
              "\n",
              "  @keyframes spin {\n",
              "    0% {\n",
              "      border-color: transparent;\n",
              "      border-bottom-color: var(--fill-color);\n",
              "      border-left-color: var(--fill-color);\n",
              "    }\n",
              "    20% {\n",
              "      border-color: transparent;\n",
              "      border-left-color: var(--fill-color);\n",
              "      border-top-color: var(--fill-color);\n",
              "    }\n",
              "    30% {\n",
              "      border-color: transparent;\n",
              "      border-left-color: var(--fill-color);\n",
              "      border-top-color: var(--fill-color);\n",
              "      border-right-color: var(--fill-color);\n",
              "    }\n",
              "    40% {\n",
              "      border-color: transparent;\n",
              "      border-right-color: var(--fill-color);\n",
              "      border-top-color: var(--fill-color);\n",
              "    }\n",
              "    60% {\n",
              "      border-color: transparent;\n",
              "      border-right-color: var(--fill-color);\n",
              "    }\n",
              "    80% {\n",
              "      border-color: transparent;\n",
              "      border-right-color: var(--fill-color);\n",
              "      border-bottom-color: var(--fill-color);\n",
              "    }\n",
              "    90% {\n",
              "      border-color: transparent;\n",
              "      border-bottom-color: var(--fill-color);\n",
              "    }\n",
              "  }\n",
              "</style>\n",
              "\n",
              "  <script>\n",
              "    async function quickchart(key) {\n",
              "      const quickchartButtonEl =\n",
              "        document.querySelector('#' + key + ' button');\n",
              "      quickchartButtonEl.disabled = true;  // To prevent multiple clicks.\n",
              "      quickchartButtonEl.classList.add('colab-df-spinner');\n",
              "      try {\n",
              "        const charts = await google.colab.kernel.invokeFunction(\n",
              "            'suggestCharts', [key], {});\n",
              "      } catch (error) {\n",
              "        console.error('Error during call to suggestCharts:', error);\n",
              "      }\n",
              "      quickchartButtonEl.classList.remove('colab-df-spinner');\n",
              "      quickchartButtonEl.classList.add('colab-df-quickchart-complete');\n",
              "    }\n",
              "    (() => {\n",
              "      let quickchartButtonEl =\n",
              "        document.querySelector('#df-e5f171e1-c821-41d9-888c-26617be740d6 button');\n",
              "      quickchartButtonEl.style.display =\n",
              "        google.colab.kernel.accessAllowed ? 'block' : 'none';\n",
              "    })();\n",
              "  </script>\n",
              "</div>\n",
              "\n",
              "  <div id=\"id_f14879eb-3b00-46ad-9390-50446fd32abb\">\n",
              "    <style>\n",
              "      .colab-df-generate {\n",
              "        background-color: #E8F0FE;\n",
              "        border: none;\n",
              "        border-radius: 50%;\n",
              "        cursor: pointer;\n",
              "        display: none;\n",
              "        fill: #1967D2;\n",
              "        height: 32px;\n",
              "        padding: 0 0 0 0;\n",
              "        width: 32px;\n",
              "      }\n",
              "\n",
              "      .colab-df-generate:hover {\n",
              "        background-color: #E2EBFA;\n",
              "        box-shadow: 0px 1px 2px rgba(60, 64, 67, 0.3), 0px 1px 3px 1px rgba(60, 64, 67, 0.15);\n",
              "        fill: #174EA6;\n",
              "      }\n",
              "\n",
              "      [theme=dark] .colab-df-generate {\n",
              "        background-color: #3B4455;\n",
              "        fill: #D2E3FC;\n",
              "      }\n",
              "\n",
              "      [theme=dark] .colab-df-generate:hover {\n",
              "        background-color: #434B5C;\n",
              "        box-shadow: 0px 1px 3px 1px rgba(0, 0, 0, 0.15);\n",
              "        filter: drop-shadow(0px 1px 2px rgba(0, 0, 0, 0.3));\n",
              "        fill: #FFFFFF;\n",
              "      }\n",
              "    </style>\n",
              "    <button class=\"colab-df-generate\" onclick=\"generateWithVariable('df')\"\n",
              "            title=\"Generate code using this dataframe.\"\n",
              "            style=\"display:none;\">\n",
              "\n",
              "  <svg xmlns=\"http://www.w3.org/2000/svg\" height=\"24px\"viewBox=\"0 0 24 24\"\n",
              "       width=\"24px\">\n",
              "    <path d=\"M7,19H8.4L18.45,9,17,7.55,7,17.6ZM5,21V16.75L18.45,3.32a2,2,0,0,1,2.83,0l1.4,1.43a1.91,1.91,0,0,1,.58,1.4,1.91,1.91,0,0,1-.58,1.4L9.25,21ZM18.45,9,17,7.55Zm-12,3A5.31,5.31,0,0,0,4.9,8.1,5.31,5.31,0,0,0,1,6.5,5.31,5.31,0,0,0,4.9,4.9,5.31,5.31,0,0,0,6.5,1,5.31,5.31,0,0,0,8.1,4.9,5.31,5.31,0,0,0,12,6.5,5.46,5.46,0,0,0,6.5,12Z\"/>\n",
              "  </svg>\n",
              "    </button>\n",
              "    <script>\n",
              "      (() => {\n",
              "      const buttonEl =\n",
              "        document.querySelector('#id_f14879eb-3b00-46ad-9390-50446fd32abb button.colab-df-generate');\n",
              "      buttonEl.style.display =\n",
              "        google.colab.kernel.accessAllowed ? 'block' : 'none';\n",
              "\n",
              "      buttonEl.onclick = () => {\n",
              "        google.colab.notebook.generateWithVariable('df');\n",
              "      }\n",
              "      })();\n",
              "    </script>\n",
              "  </div>\n",
              "\n",
              "    </div>\n",
              "  </div>\n"
            ],
            "application/vnd.google.colaboratory.intrinsic+json": {
              "type": "dataframe",
              "variable_name": "df",
              "summary": "{\n  \"name\": \"df\",\n  \"rows\": 5,\n  \"fields\": [\n    {\n      \"column\": \"Tiempo(s)\",\n      \"properties\": {\n        \"dtype\": \"number\",\n        \"std\": 0.01581138830084191,\n        \"min\": 1.0,\n        \"max\": 1.04,\n        \"num_unique_values\": 5,\n        \"samples\": [\n          1.01,\n          1.04,\n          1.02\n        ],\n        \"semantic_type\": \"\",\n        \"description\": \"\"\n      }\n    },\n    {\n      \"column\": \"Corriente (A)\",\n      \"properties\": {\n        \"dtype\": \"number\",\n        \"std\": 0.055497747702046483,\n        \"min\": 3.1,\n        \"max\": 3.24,\n        \"num_unique_values\": 5,\n        \"samples\": [\n          3.12,\n          3.24,\n          3.14\n        ],\n        \"semantic_type\": \"\",\n        \"description\": \"\"\n      }\n    }\n  ]\n}"
            }
          },
          "metadata": {},
          "execution_count": 278
        }
      ]
    },
    {
      "cell_type": "code",
      "source": [
        "plt.plot(df[\"Tiempo(s)\"],df[\"Corriente (A)\"], \"ro-\" )\n",
        "plt.grid()"
      ],
      "metadata": {
        "colab": {
          "base_uri": "https://localhost:8080/",
          "height": 430
        },
        "id": "l2Tt-MJsyIl1",
        "outputId": "5f2318f1-ff94-47bb-d2f9-a04447fc9a82"
      },
      "execution_count": 279,
      "outputs": [
        {
          "output_type": "display_data",
          "data": {
            "text/plain": [
              "<Figure size 640x480 with 1 Axes>"
            ],
            "image/png": "[encoded data removed]"
          },
          "metadata": {}
        }
      ]
    },
    {
      "cell_type": "code",
      "source": [
        "derivada = np.gradient(i,t) #\n",
        "\n",
        "# di = np.diff(i) diferencia de valores de i\n",
        "# dt = np.diff(t)\n",
        "# d=di/dt"
      ],
      "metadata": {
        "id": "yNkQbKoFyopN"
      },
      "execution_count": 280,
      "outputs": []
    },
    {
      "cell_type": "code",
      "source": [
        "L = 0.98\n",
        "\n",
        "R = 0.142\n",
        "\n",
        "E_t = L * derivada + R*i\n",
        "\n",
        "df[\"fem(v)\"] = E_t\n",
        "\n",
        "df"
      ],
      "metadata": {
        "colab": {
          "base_uri": "https://localhost:8080/",
          "height": 206
        },
        "id": "MloplqGUzxKR",
        "outputId": "dcf3471e-3880-41f7-cc8d-7adf88d59d66"
      },
      "execution_count": 281,
      "outputs": [
        {
          "output_type": "execute_result",
          "data": {
            "text/plain": [
              "   Tiempo(s)  Corriente (A)   fem(v)\n",
              "0       1.00           3.10  2.40020\n",
              "1       1.01           3.12  2.40304\n",
              "2       1.02           3.14  3.38588\n",
              "3       1.03           3.18  5.35156\n",
              "4       1.04           3.24  6.34008"
            ],
            "text/html": [
              "\n",
              "  <div id=\"df-3e7d1581-66bc-412b-8a79-b6ba3a10d023\" class=\"colab-df-container\">\n",
              "    <div>\n",
              "<style scoped>\n",
              "    .dataframe tbody tr th:only-of-type {\n",
              "        vertical-align: middle;\n",
              "    }\n",
              "\n",
              "    .dataframe tbody tr th {\n",
              "        vertical-align: top;\n",
              "    }\n",
              "\n",
              "    .dataframe thead th {\n",
              "        text-align: right;\n",
              "    }\n",
              "</style>\n",
              "<table border=\"1\" class=\"dataframe\">\n",
              "  <thead>\n",
              "    <tr style=\"text-align: right;\">\n",
              "      <th></th>\n",
              "      <th>Tiempo(s)</th>\n",
              "      <th>Corriente (A)</th>\n",
              "      <th>fem(v)</th>\n",
              "    </tr>\n",
              "  </thead>\n",
              "  <tbody>\n",
              "    <tr>\n",
              "      <th>0</th>\n",
              "      <td>1.00</td>\n",
              "      <td>3.10</td>\n",
              "      <td>2.40020</td>\n",
              "    </tr>\n",
              "    <tr>\n",
              "      <th>1</th>\n",
              "      <td>1.01</td>\n",
              "      <td>3.12</td>\n",
              "      <td>2.40304</td>\n",
              "    </tr>\n",
              "    <tr>\n",
              "      <th>2</th>\n",
              "      <td>1.02</td>\n",
              "      <td>3.14</td>\n",
              "      <td>3.38588</td>\n",
              "    </tr>\n",
              "    <tr>\n",
              "      <th>3</th>\n",
              "      <td>1.03</td>\n",
              "      <td>3.18</td>\n",
              "      <td>5.35156</td>\n",
              "    </tr>\n",
              "    <tr>\n",
              "      <th>4</th>\n",
              "      <td>1.04</td>\n",
              "      <td>3.24</td>\n",
              "      <td>6.34008</td>\n",
              "    </tr>\n",
              "  </tbody>\n",
              "</table>\n",
              "</div>\n",
              "    <div class=\"colab-df-buttons\">\n",
              "\n",
              "  <div class=\"colab-df-container\">\n",
              "    <button class=\"colab-df-convert\" onclick=\"convertToInteractive('df-3e7d1581-66bc-412b-8a79-b6ba3a10d023')\"\n",
              "            title=\"Convert this dataframe to an interactive table.\"\n",
              "            style=\"display:none;\">\n",
              "\n",
              "  <svg xmlns=\"http://www.w3.org/2000/svg\" height=\"24px\" viewBox=\"0 -960 960 960\">\n",
              "    <path d=\"M120-120v-720h720v720H120Zm60-500h600v-160H180v160Zm220 220h160v-160H400v160Zm0 220h160v-160H400v160ZM180-400h160v-160H180v160Zm440 0h160v-160H620v160ZM180-180h160v-160H180v160Zm440 0h160v-160H620v160Z\"/>\n",
              "  </svg>\n",
              "    </button>\n",
              "\n",
              "  <style>\n",
              "    .colab-df-container {\n",
              "      display:flex;\n",
              "      gap: 12px;\n",
              "    }\n",
              "\n",
              "    .colab-df-convert {\n",
              "      background-color: #E8F0FE;\n",
              "      border: none;\n",
              "      border-radius: 50%;\n",
              "      cursor: pointer;\n",
              "      display: none;\n",
              "      fill: #1967D2;\n",
              "      height: 32px;\n",
              "      padding: 0 0 0 0;\n",
              "      width: 32px;\n",
              "    }\n",
              "\n",
              "    .colab-df-convert:hover {\n",
              "      background-color: #E2EBFA;\n",
              "      box-shadow: 0px 1px 2px rgba(60, 64, 67, 0.3), 0px 1px 3px 1px rgba(60, 64, 67, 0.15);\n",
              "      fill: #174EA6;\n",
              "    }\n",
              "\n",
              "    .colab-df-buttons div {\n",
              "      margin-bottom: 4px;\n",
              "    }\n",
              "\n",
              "    [theme=dark] .colab-df-convert {\n",
              "      background-color: #3B4455;\n",
              "      fill: #D2E3FC;\n",
              "    }\n",
              "\n",
              "    [theme=dark] .colab-df-convert:hover {\n",
              "      background-color: #434B5C;\n",
              "      box-shadow: 0px 1px 3px 1px rgba(0, 0, 0, 0.15);\n",
              "      filter: drop-shadow(0px 1px 2px rgba(0, 0, 0, 0.3));\n",
              "      fill: #FFFFFF;\n",
              "    }\n",
              "  </style>\n",
              "\n",
              "    <script>\n",
              "      const buttonEl =\n",
              "        document.querySelector('#df-3e7d1581-66bc-412b-8a79-b6ba3a10d023 button.colab-df-convert');\n",
              "      buttonEl.style.display =\n",
              "        google.colab.kernel.accessAllowed ? 'block' : 'none';\n",
              "\n",
              "      async function convertToInteractive(key) {\n",
              "        const element = document.querySelector('#df-3e7d1581-66bc-412b-8a79-b6ba3a10d023');\n",
              "        const dataTable =\n",
              "          await google.colab.kernel.invokeFunction('convertToInteractive',\n",
              "                                                    [key], {});\n",
              "        if (!dataTable) return;\n",
              "\n",
              "        const docLinkHtml = 'Like what you see? Visit the ' +\n",
              "          '<a target=\"_blank\" href=https://colab.research.google.com/notebooks/data_table.ipynb>data table notebook</a>'\n",
              "          + ' to learn more about interactive tables.';\n",
              "        element.innerHTML = '';\n",
              "        dataTable['output_type'] = 'display_data';\n",
              "        await google.colab.output.renderOutput(dataTable, element);\n",
              "        const docLink = document.createElement('div');\n",
              "        docLink.innerHTML = docLinkHtml;\n",
              "        element.appendChild(docLink);\n",
              "      }\n",
              "    </script>\n",
              "  </div>\n",
              "\n",
              "\n",
              "<div id=\"df-c03ee36f-bcc3-4809-9a9a-11e558a2aa5c\">\n",
              "  <button class=\"colab-df-quickchart\" onclick=\"quickchart('df-c03ee36f-bcc3-4809-9a9a-11e558a2aa5c')\"\n",
              "            title=\"Suggest charts\"\n",
              "            style=\"display:none;\">\n",
              "\n",
              "<svg xmlns=\"http://www.w3.org/2000/svg\" height=\"24px\"viewBox=\"0 0 24 24\"\n",
              "     width=\"24px\">\n",
              "    <g>\n",
              "        <path d=\"M19 3H5c-1.1 0-2 .9-2 2v14c0 1.1.9 2 2 2h14c1.1 0 2-.9 2-2V5c0-1.1-.9-2-2-2zM9 17H7v-7h2v7zm4 0h-2V7h2v10zm4 0h-2v-4h2v4z\"/>\n",
              "    </g>\n",
              "</svg>\n",
              "  </button>\n",
              "\n",
              "<style>\n",
              "  .colab-df-quickchart {\n",
              "      --bg-color: #E8F0FE;\n",
              "      --fill-color: #1967D2;\n",
              "      --hover-bg-color: #E2EBFA;\n",
              "      --hover-fill-color: #174EA6;\n",
              "      --disabled-fill-color: #AAA;\n",
              "      --disabled-bg-color: #DDD;\n",
              "  }\n",
              "\n",
              "  [theme=dark] .colab-df-quickchart {\n",
              "      --bg-color: #3B4455;\n",
              "      --fill-color: #D2E3FC;\n",
              "      --hover-bg-color: #434B5C;\n",
              "      --hover-fill-color: #FFFFFF;\n",
              "      --disabled-bg-color: #3B4455;\n",
              "      --disabled-fill-color: #666;\n",
              "  }\n",
              "\n",
              "  .colab-df-quickchart {\n",
              "    background-color: var(--bg-color);\n",
              "    border: none;\n",
              "    border-radius: 50%;\n",
              "    cursor: pointer;\n",
              "    display: none;\n",
              "    fill: var(--fill-color);\n",
              "    height: 32px;\n",
              "    padding: 0;\n",
              "    width: 32px;\n",
              "  }\n",
              "\n",
              "  .colab-df-quickchart:hover {\n",
              "    background-color: var(--hover-bg-color);\n",
              "    box-shadow: 0 1px 2px rgba(60, 64, 67, 0.3), 0 1px 3px 1px rgba(60, 64, 67, 0.15);\n",
              "    fill: var(--button-hover-fill-color);\n",
              "  }\n",
              "\n",
              "  .colab-df-quickchart-complete:disabled,\n",
              "  .colab-df-quickchart-complete:disabled:hover {\n",
              "    background-color: var(--disabled-bg-color);\n",
              "    fill: var(--disabled-fill-color);\n",
              "    box-shadow: none;\n",
              "  }\n",
              "\n",
              "  .colab-df-spinner {\n",
              "    border: 2px solid var(--fill-color);\n",
              "    border-color: transparent;\n",
              "    border-bottom-color: var(--fill-color);\n",
              "    animation:\n",
              "      spin 1s steps(1) infinite;\n",
              "  }\n",
              "\n",
              "  @keyframes spin {\n",
              "    0% {\n",
              "      border-color: transparent;\n",
              "      border-bottom-color: var(--fill-color);\n",
              "      border-left-color: var(--fill-color);\n",
              "    }\n",
              "    20% {\n",
              "      border-color: transparent;\n",
              "      border-left-color: var(--fill-color);\n",
              "      border-top-color: var(--fill-color);\n",
              "    }\n",
              "    30% {\n",
              "      border-color: transparent;\n",
              "      border-left-color: var(--fill-color);\n",
              "      border-top-color: var(--fill-color);\n",
              "      border-right-color: var(--fill-color);\n",
              "    }\n",
              "    40% {\n",
              "      border-color: transparent;\n",
              "      border-right-color: var(--fill-color);\n",
              "      border-top-color: var(--fill-color);\n",
              "    }\n",
              "    60% {\n",
              "      border-color: transparent;\n",
              "      border-right-color: var(--fill-color);\n",
              "    }\n",
              "    80% {\n",
              "      border-color: transparent;\n",
              "      border-right-color: var(--fill-color);\n",
              "      border-bottom-color: var(--fill-color);\n",
              "    }\n",
              "    90% {\n",
              "      border-color: transparent;\n",
              "      border-bottom-color: var(--fill-color);\n",
              "    }\n",
              "  }\n",
              "</style>\n",
              "\n",
              "  <script>\n",
              "    async function quickchart(key) {\n",
              "      const quickchartButtonEl =\n",
              "        document.querySelector('#' + key + ' button');\n",
              "      quickchartButtonEl.disabled = true;  // To prevent multiple clicks.\n",
              "      quickchartButtonEl.classList.add('colab-df-spinner');\n",
              "      try {\n",
              "        const charts = await google.colab.kernel.invokeFunction(\n",
              "            'suggestCharts', [key], {});\n",
              "      } catch (error) {\n",
              "        console.error('Error during call to suggestCharts:', error);\n",
              "      }\n",
              "      quickchartButtonEl.classList.remove('colab-df-spinner');\n",
              "      quickchartButtonEl.classList.add('colab-df-quickchart-complete');\n",
              "    }\n",
              "    (() => {\n",
              "      let quickchartButtonEl =\n",
              "        document.querySelector('#df-c03ee36f-bcc3-4809-9a9a-11e558a2aa5c button');\n",
              "      quickchartButtonEl.style.display =\n",
              "        google.colab.kernel.accessAllowed ? 'block' : 'none';\n",
              "    })();\n",
              "  </script>\n",
              "</div>\n",
              "\n",
              "  <div id=\"id_9330eb2f-6b26-48a1-a489-c4db85c13694\">\n",
              "    <style>\n",
              "      .colab-df-generate {\n",
              "        background-color: #E8F0FE;\n",
              "        border: none;\n",
              "        border-radius: 50%;\n",
              "        cursor: pointer;\n",
              "        display: none;\n",
              "        fill: #1967D2;\n",
              "        height: 32px;\n",
              "        padding: 0 0 0 0;\n",
              "        width: 32px;\n",
              "      }\n",
              "\n",
              "      .colab-df-generate:hover {\n",
              "        background-color: #E2EBFA;\n",
              "        box-shadow: 0px 1px 2px rgba(60, 64, 67, 0.3), 0px 1px 3px 1px rgba(60, 64, 67, 0.15);\n",
              "        fill: #174EA6;\n",
              "      }\n",
              "\n",
              "      [theme=dark] .colab-df-generate {\n",
              "        background-color: #3B4455;\n",
              "        fill: #D2E3FC;\n",
              "      }\n",
              "\n",
              "      [theme=dark] .colab-df-generate:hover {\n",
              "        background-color: #434B5C;\n",
              "        box-shadow: 0px 1px 3px 1px rgba(0, 0, 0, 0.15);\n",
              "        filter: drop-shadow(0px 1px 2px rgba(0, 0, 0, 0.3));\n",
              "        fill: #FFFFFF;\n",
              "      }\n",
              "    </style>\n",
              "    <button class=\"colab-df-generate\" onclick=\"generateWithVariable('df')\"\n",
              "            title=\"Generate code using this dataframe.\"\n",
              "            style=\"display:none;\">\n",
              "\n",
              "  <svg xmlns=\"http://www.w3.org/2000/svg\" height=\"24px\"viewBox=\"0 0 24 24\"\n",
              "       width=\"24px\">\n",
              "    <path d=\"M7,19H8.4L18.45,9,17,7.55,7,17.6ZM5,21V16.75L18.45,3.32a2,2,0,0,1,2.83,0l1.4,1.43a1.91,1.91,0,0,1,.58,1.4,1.91,1.91,0,0,1-.58,1.4L9.25,21ZM18.45,9,17,7.55Zm-12,3A5.31,5.31,0,0,0,4.9,8.1,5.31,5.31,0,0,0,1,6.5,5.31,5.31,0,0,0,4.9,4.9,5.31,5.31,0,0,0,6.5,1,5.31,5.31,0,0,0,8.1,4.9,5.31,5.31,0,0,0,12,6.5,5.46,5.46,0,0,0,6.5,12Z\"/>\n",
              "  </svg>\n",
              "    </button>\n",
              "    <script>\n",
              "      (() => {\n",
              "      const buttonEl =\n",
              "        document.querySelector('#id_9330eb2f-6b26-48a1-a489-c4db85c13694 button.colab-df-generate');\n",
              "      buttonEl.style.display =\n",
              "        google.colab.kernel.accessAllowed ? 'block' : 'none';\n",
              "\n",
              "      buttonEl.onclick = () => {\n",
              "        google.colab.notebook.generateWithVariable('df');\n",
              "      }\n",
              "      })();\n",
              "    </script>\n",
              "  </div>\n",
              "\n",
              "    </div>\n",
              "  </div>\n"
            ],
            "application/vnd.google.colaboratory.intrinsic+json": {
              "type": "dataframe",
              "variable_name": "df",
              "summary": "{\n  \"name\": \"df\",\n  \"rows\": 5,\n  \"fields\": [\n    {\n      \"column\": \"Tiempo(s)\",\n      \"properties\": {\n        \"dtype\": \"number\",\n        \"std\": 0.01581138830084191,\n        \"min\": 1.0,\n        \"max\": 1.04,\n        \"num_unique_values\": 5,\n        \"samples\": [\n          1.01,\n          1.04,\n          1.02\n        ],\n        \"semantic_type\": \"\",\n        \"description\": \"\"\n      }\n    },\n    {\n      \"column\": \"Corriente (A)\",\n      \"properties\": {\n        \"dtype\": \"number\",\n        \"std\": 0.055497747702046483,\n        \"min\": 3.1,\n        \"max\": 3.24,\n        \"num_unique_values\": 5,\n        \"samples\": [\n          3.12,\n          3.24,\n          3.14\n        ],\n        \"semantic_type\": \"\",\n        \"description\": \"\"\n      }\n    },\n    {\n      \"column\": \"fem(v)\",\n      \"properties\": {\n        \"dtype\": \"number\",\n        \"std\": 1.7879198710009347,\n        \"min\": 2.4002,\n        \"max\": 6.3400799999999995,\n        \"num_unique_values\": 5,\n        \"samples\": [\n          2.40304,\n          6.3400799999999995,\n          3.38588\n        ],\n        \"semantic_type\": \"\",\n        \"description\": \"\"\n      }\n    }\n  ]\n}"
            }
          },
          "metadata": {},
          "execution_count": 281
        }
      ]
    },
    {
      "cell_type": "code",
      "source": [
        "plt.plot(df[\"Tiempo(s)\"],df[\"Corriente (A)\"],\"ro-\")\n",
        "plt.grid()\n",
        "plt.title(\"I vs T\")"
      ],
      "metadata": {
        "colab": {
          "base_uri": "https://localhost:8080/",
          "height": 469
        },
        "id": "kcmxcyYB0Fta",
        "outputId": "bf85616a-676f-4112-feb9-7455b577e82c"
      },
      "execution_count": 282,
      "outputs": [
        {
          "output_type": "execute_result",
          "data": {
            "text/plain": [
              "Text(0.5, 1.0, 'I vs T')"
            ]
          },
          "metadata": {},
          "execution_count": 282
        },
        {
          "output_type": "display_data",
          "data": {
            "text/plain": [
              "<Figure size 640x480 with 1 Axes>"
            ],
            "image/png": "[encoded data removed]"
          },
          "metadata": {}
        }
      ]
    },
    {
      "cell_type": "code",
      "source": [
        "pol= lagrange(t,df[\"Corriente (A)\"])\n",
        "h = 1e-6\n",
        "x=np.linspace(1,1.04,100)\n",
        "\n",
        "def derivada_I(pol,x,h):\n",
        "  f_prima = (1 / (2*h)) * ((-3)* pol(x) + 4*pol(x+h)- pol(x + 2*h))\n",
        "  return f_prima"
      ],
      "metadata": {
        "id": "GAJpxiIk2iWX"
      },
      "execution_count": 283,
      "outputs": []
    },
    {
      "cell_type": "code",
      "source": [
        "f=derivada_I(pol,x,h)\n",
        "plt.plot(df[\"Tiempo(s)\"],derivada)\n",
        "plt.plot(x,f)\n",
        "plt.grid()\n"
      ],
      "metadata": {
        "colab": {
          "base_uri": "https://localhost:8080/",
          "height": 430
        },
        "id": "zgz98ucg3t_2",
        "outputId": "d723486d-c80b-44a3-a22b-8c3fc77591ad"
      },
      "execution_count": 284,
      "outputs": [
        {
          "output_type": "display_data",
          "data": {
            "text/plain": [
              "<Figure size 640x480 with 1 Axes>"
            ],
            "image/png": "[encoded data removed]"
          },
          "metadata": {}
        }
      ]
    },
    {
      "cell_type": "markdown",
      "metadata": {
        "id": "yyh50GiIux2j"
      },
      "source": [
        "##**Parte 2**\n",
        "\n",
        "1. Escribir en código Markdown la expresión para calcular una integral con la regla del trapecio.\n",
        "\n",
        "2. Escribir en código Markdown la expresión para calcular una integral con la regla del simpson.\n",
        "\n",
        "3. Escribir en código Markdown la expresión para calcular una integral con el metodo de cuadratura.\n",
        "\n",
        "4. Calcular una aproximación con el metodo 1,2,3 de las siguientes integrales"
      ]
    },
    {
      "cell_type": "markdown",
      "metadata": {
        "id": "j3rJW3FevAeC"
      },
      "source": [
        "---\n",
        "$$\n",
        " \\int_0^{\\pi/2} \\frac{1}{\\sqrt{\\tan x}}\\mathrm{dx}\n",
        " $$\n",
        "\n",
        "----\n",
        "$$\n",
        " \\int_{1}^{\\infty} \\frac{\\cos x}{x^3}\\mathrm{dx}\n",
        " $$\n",
        "\n",
        "\n",
        "----\n",
        "\n",
        "$$\n",
        " \\int_{0}^{\\pi/4} \\int_{0}^{\\sin x} \\frac{1}{\\sqrt{1-y^2}}\\mathrm{dxdy}\n",
        " $$\n",
        "\n",
        "---\n",
        "\n",
        "Garantizando  que el error sea menor a $\\varepsilon=1\\times 10^{-5}$."
      ]
    },
    {
      "cell_type": "code",
      "source": [
        "import scipy as sp\n",
        "\n",
        "import matplotlib.pyplot as plt"
      ],
      "metadata": {
        "id": "byWvU4yAt-qE"
      },
      "execution_count": 285,
      "outputs": []
    },
    {
      "cell_type": "code",
      "source": [
        "# @title Metodo del trapecio\n",
        "\n",
        "def integral_trapa(f, a, b, n):\n",
        "  x = np.linspace(a, b, n)\n",
        "  suma = 0\n",
        "  for i in range(1, n, 1):\n",
        "    suma = suma + f(x[i])\n",
        "  I = ((b-a)/(2*n))* (f(a) + f(b) + 2*suma)\n",
        "  return I"
      ],
      "metadata": {
        "id": "EzzHXUN-8tB2"
      },
      "execution_count": 286,
      "outputs": []
    },
    {
      "cell_type": "code",
      "source": [
        "tan1 =lambda x: 1 / ((np.tan(x))**0.5)\n",
        "\n",
        "a = 1e-9\n",
        "b = np.pi/2\n",
        "n = 1000000\n",
        "\n",
        "print(\"Integral con metodo del trapecio =\",integral_trapa(tan1,a,b,n))\n",
        "\n",
        "\n",
        "I = sp.integrate.quad(tan1,a,b)\n",
        "print(\"Integral con libreria =\",I)\n"
      ],
      "metadata": {
        "colab": {
          "base_uri": "https://localhost:8080/"
        },
        "id": "yPy6Mjq-_nNQ",
        "outputId": "afcbf44c-9d1a-456e-b732-6bb25283a3df"
      },
      "execution_count": 287,
      "outputs": [
        {
          "output_type": "stream",
          "name": "stdout",
          "text": [
            "Integral con metodo del trapecio = 2.244444393911449\n",
            "Integral con libreria = (2.22144146908185, 1.0970602204452007e-09)\n"
          ]
        }
      ]
    },
    {
      "cell_type": "code",
      "source": [
        "# @title Metodo de simpson"
      ],
      "metadata": {
        "id": "B4MyPtw-KFMA"
      },
      "execution_count": 288,
      "outputs": []
    },
    {
      "cell_type": "code",
      "source": [
        "# @title Metodo de cuadratura"
      ],
      "metadata": {
        "id": "2fA7Do93KMi7"
      },
      "execution_count": 289,
      "outputs": []
    },
    {
      "cell_type": "code",
      "source": [
        "import sympy as sp\n",
        "from sympy import pi, oo, tan, symbols, integrate\n"
      ],
      "metadata": {
        "id": "stYN91Sg2fF0"
      },
      "execution_count": 290,
      "outputs": []
    },
    {
      "cell_type": "code",
      "source": [
        "# @title Primera integral\n",
        "#Simbolicamente\n",
        "\n",
        "x = symbols(\"x\")\n",
        "tan =  1 / ((sp.tan(x))**0.5)\n",
        "\n",
        "I = integrate(tan, (x, 0, pi/2)).evalf()\n",
        "I"
      ],
      "metadata": {
        "id": "Y1idJ3cS2qc-",
        "colab": {
          "base_uri": "https://localhost:8080/",
          "height": 37
        },
        "outputId": "acf6678d-7dbe-4bd6-afbc-6227cfb59277"
      },
      "execution_count": 291,
      "outputs": [
        {
          "output_type": "execute_result",
          "data": {
            "text/plain": [
              "2.22144146907918"
            ],
            "text/latex": "$\\displaystyle 2.22144146907918$"
          },
          "metadata": {},
          "execution_count": 291
        }
      ]
    },
    {
      "cell_type": "code",
      "source": [
        "# Metodo de trapecio\n",
        "\n",
        "\n"
      ],
      "metadata": {
        "id": "qShzet4dKbgX"
      },
      "execution_count": 292,
      "outputs": []
    },
    {
      "cell_type": "code",
      "source": [
        "# @title Segunda integral\n",
        "f = (sp.cos(x))/x**3\n",
        "I = integrate(f,(x,1,oo)).evalf()\n",
        "I"
      ],
      "metadata": {
        "id": "o4AJewxX3F3g",
        "colab": {
          "base_uri": "https://localhost:8080/",
          "height": 37
        },
        "outputId": "f85a37a5-9ab6-43a4-92c3-b580a3ecb288"
      },
      "execution_count": 293,
      "outputs": [
        {
          "output_type": "execute_result",
          "data": {
            "text/plain": [
              "0.0181176219806057"
            ],
            "text/latex": "$\\displaystyle 0.0181176219806057$"
          },
          "metadata": {},
          "execution_count": 293
        }
      ]
    },
    {
      "cell_type": "markdown",
      "source": [
        "$$\n",
        " \\int_{0}^{\\pi/4} \\int_{0}^{\\sin x} \\frac{1}{\\sqrt{1-y^2}}\\mathrm{dydx}\n",
        " $$"
      ],
      "metadata": {
        "id": "qveIufRH928j"
      }
    },
    {
      "cell_type": "code",
      "source": [
        "# @title Tercera integral\n",
        "y = symbols(\"y\")\n",
        "\n",
        "ff = 1 / sp.sqrt(1-(y**2))\n",
        "I = integrate(ff, (y,0,sp.sin(x))).evalf()  #se evalua primero la parte de dy, porque simbolicamente el resultado esuna función que dependerá de x\n",
        "I\n",
        "\n",
        "II = integrate(I,(x,0, pi/4)).evalf()  #se evalua la función resultante de la integración anterioir en los limites de la variable x\n",
        "print(\"Resultado de la integral con symbols : \",II)"
      ],
      "metadata": {
        "id": "VyPyz3Vd9j_W",
        "colab": {
          "base_uri": "https://localhost:8080/"
        },
        "outputId": "f927d25d-3d3d-4f51-ab9e-7a83a77ae016"
      },
      "execution_count": 294,
      "outputs": [
        {
          "output_type": "stream",
          "name": "stdout",
          "text": [
            "Resultado de la integral con symbols :  0.308425137534042\n"
          ]
        }
      ]
    },
    {
      "cell_type": "code",
      "source": [
        "pi**2/32"
      ],
      "metadata": {
        "id": "pWQSYePx_EGh",
        "colab": {
          "base_uri": "https://localhost:8080/",
          "height": 54
        },
        "outputId": "4a4a14e4-4434-4ca3-a37a-e4b51c517d34"
      },
      "execution_count": 295,
      "outputs": [
        {
          "output_type": "execute_result",
          "data": {
            "text/plain": [
              "pi**2/32"
            ],
            "text/latex": "$\\displaystyle \\frac{\\pi^{2}}{32}$"
          },
          "metadata": {},
          "execution_count": 295
        }
      ]
    },
    {
      "cell_type": "markdown",
      "metadata": {
        "id": "pvB9I2lavCdW"
      },
      "source": [
        "## Parte 3\n",
        "\n",
        "Un péndulo físico en el regimen de pequeñas oscilaciones tiene un periodo de:\n",
        "\n",
        "\\begin{equation}\n",
        "P_0=2\\pi \\sqrt{\\frac{I_0}{mgb}}\n",
        "\\end{equation}\n",
        "\n",
        "Cuando las oscilaciones no son pequeñas, podemos encontrar una expresión para el periodo como sigue:\n",
        "\n",
        "\n",
        "La energia de un péndulo físico viene dada por:\n",
        "\n",
        "\\begin{equation}\n",
        "E=\\frac{I_0\\omega^2}{2}+mgb(1-\\cos \\theta)\n",
        "\\end{equation}\n",
        "\n",
        "En el punto más alejado de su posición de equilibrio, su energía es solo potencial y viene dada por:\n",
        "\n",
        "\\begin{equation}\n",
        "Ep = mgb(1-\\cos \\theta),\n",
        "\\end{equation}\n",
        "\n",
        "Igualando ambas expresiones tenemos que:\n",
        "\n",
        "\\begin{equation}\n",
        "mgb(1-\\cos \\theta)=\\frac{I_0\\omega^2}{2}+mgb(1-\\cos \\theta)\n",
        "\\end{equation}\n",
        "\n",
        "Integrando la ecuación respecto a $\\theta$ y realizando la sustitución:\n",
        "\n",
        "$\\sin \\phi = \\frac{\\sin \\frac{\\theta}{2}}{\\sin \\frac{\\theta_0}{2}}$ y  $k = \\sin \\frac{\\theta_0}{2}$, se puede encontrar  que el periodo de oscilación, viene dado en terminos de  la integral elíptica completa de primera especie:\n",
        "\n",
        "\n",
        "\\begin{equation}\n",
        "P = \\frac{2P_0}{\\pi} \\int _0^{\\pi/2} \\frac{\\mathrm{d\\phi}}{\\sqrt{1-k^2\\sin^2\\phi}}\n",
        "\\end{equation}\n",
        "\n",
        "donde,  $P_0$ es el periodo de las oscilaciones pequeñas.\n",
        "\n",
        "Determinar el periodo de oscilación de un péndulo. Para ello:\n",
        "\n",
        "1. Suponga los párametros iniciales del pendulo.\n",
        "2. Realice una buena planificación del código para calcular la integral.\n",
        "3. Emplee un  método de integracion numérico que conozca.\n",
        "4. Compruebe su solucion con el valor exacto de la integral mostrado en el punto"
      ]
    },
    {
      "cell_type": "code",
      "source": [
        "# 1) Los parametros iniciales que tomaremos serán:\n",
        "\n",
        "I0 = 1  #Momento de inercia [kg*m^2]\n",
        "theta = np.pi/4    #Angulo en radianes\n",
        "l = 1  # Longitud del pendulo [m]\n",
        "m = 1 # La masa en [kg]\n",
        "g = 9.87  # Aceleracion gravitacional [m/s^2]\n"
      ],
      "metadata": {
        "id": "547zOsl_pC7D"
      },
      "execution_count": 296,
      "outputs": []
    },
    {
      "cell_type": "code",
      "source": [
        "# 2) Calculo de la integral\n",
        "\n",
        "def integral(phi):\n",
        "  elip = 1 / np.sqrt(1 - k**2 * (np.sin(phi))**2)\n",
        "  return elip\n",
        "\n",
        "def integral_(k):\n",
        "  N = 10000\n",
        "  phi = np.linspace(0, np.pi/2, N)\n",
        "  integrall = np.trapz(integral(phi),phi)  #hallamos la integral con el metodo del trapecio\n",
        "  return integrall\n",
        "\n",
        ""
      ],
      "metadata": {
        "id": "-a8FOTwru_nf"
      },
      "execution_count": 297,
      "outputs": []
    },
    {
      "cell_type": "code",
      "source": [
        "# 3) Se calcula el periodo de oscilación\n",
        "# suponemos a b muy pequeño que lo podemos ignorar al poder hallar P0 (dado que es para peueñas oscilaciones)\n",
        "\n",
        "P_0 = 2 * np.pi * np.sqrt(I0 /(m  *g))\n",
        "\n",
        "k = np.sin(theta/2) #tomamos este valor como parametro dado\n",
        "\n",
        "\n",
        "P = (2 * P_0 / np.pi )* integral_(k)\n",
        "\n",
        "print(\"Periodo de oscilación para pequeñas oscilaciones:\", P_0, \"s\")\n",
        "print(\"Periodo de oscilación para NO pequeñas oscilaciones (Metodo Trapecio):\", P,\"s\")\n",
        "\n"
      ],
      "metadata": {
        "colab": {
          "base_uri": "https://localhost:8080/"
        },
        "id": "Im1JfNqE4Zeu",
        "outputId": "8259303f-acb7-4da7-e9f5-1edadf4a66dd"
      },
      "execution_count": 298,
      "outputs": [
        {
          "output_type": "stream",
          "name": "stdout",
          "text": [
            "Periodo de oscilación para pequeñas oscilaciones: 1.999959918655044 s\n",
            "Periodo de oscilación para NO pequeñas oscilaciones (Metodo Trapecio): 2.079905002863294 s\n"
          ]
        }
      ]
    },
    {
      "cell_type": "code",
      "source": [
        "#Esta libreria puede calcular la integral eliptica\n",
        "\n",
        "from scipy.special import ellipk\n",
        "\n",
        "P = 2 * P_0 / np.pi * ellipk(k**2)  #a ellipk solo se le da el valor del parametro de la integral eliptica, que en este caso es K^2\n",
        "print(\"Este es el valor del periodo P, usando una libreria que lo calcula directamente :\",P,\"s\")"
      ],
      "metadata": {
        "colab": {
          "base_uri": "https://localhost:8080/"
        },
        "id": "KhARzFSzGgTR",
        "outputId": "239f9829-33f7-4453-d5e5-fa3cdb56012c"
      },
      "execution_count": 299,
      "outputs": [
        {
          "output_type": "stream",
          "name": "stdout",
          "text": [
            "Este es el valor del periodo P, usando una libreria que lo calcula directamente : 2.079905002863294 s\n"
          ]
        }
      ]
    },
    {
      "cell_type": "markdown",
      "metadata": {
        "id": "R2jgnjm4vd95"
      },
      "source": [
        "## Parte 4\n",
        "\n",
        "The next  problems are examples of how elliptic integrals enter into realistic physics problems. It is straightforward to evaluate any integral numerically using the techniques of this chapter, but it may be difficult for you to  know if the answers you obtain are correct. One way to hone your integral evaluating skills is to compare your answers from quadrature to power series\n",
        "expressions, or to a polynomial approximations of know precision. To help you in this regard, we present here a polynomial approximation for an elliptic integral (Abramowitz and Stegun, 1972):\n",
        "\n",
        "\\begin{equation}\n",
        "K(m)=\\int_{0}^{\\pi/2} \\frac{\\mathrm{d\\phi}}{\\sqrt{1-m\\sin^2\\phi}}\n",
        "\\end{equation}\n",
        "\n",
        "\\begin{equation}\n",
        "\\approx a_0+a_1m_1+a_2m_2 - [ b_0+b_1m_1+b_2m_1^2]\\ln m_1 + \\epsilon(m)\n",
        "\\end{equation}\n",
        "\n",
        "\n",
        "* $m_1 = 1-m$,\n",
        "\n",
        "* $ 0 \\le m \\le1 $\n",
        "\n",
        "* $\\epsilon(m)\\leq 3\\times 10^{-5}$\n",
        "\n",
        "* $a_0 = 1.3862944$\n",
        "\n",
        "* $b_0 = 0.5$\n",
        "\n",
        "* $a_1 = 0.1119723$\n",
        "\n",
        "* $b_1 = 0.1213478$\n",
        "\n",
        "* $a_2 = 0.00725296$\n",
        "\n",
        "* $b_2 = 0.0288729$"
      ]
    },
    {
      "cell_type": "code",
      "source": [
        "# Coeficientes de la aproximación polinomial\n",
        "eps = 3 * 10**-5\n",
        "a0 = 1.3862944\n",
        "b0 = 0.5\n",
        "a1 = 0.1119723\n",
        "b1 = 0.1213478\n",
        "a2 = 0.00725296\n",
        "b2 = 0.0288729\n",
        "\n",
        "def aprox_pol(m):\n",
        "    m1 = 1 - m\n",
        "    b_terminos = (b0+(b1*m1) + b2 * (m1 ** 2)) * np.log(m1)\n",
        "    return a0+(a1 * m1) + a2 * (m1 ** 2) - b_terminos + eps\n",
        "\n",
        "def aprox_num(m):\n",
        "    integral = lambda phi: 1 / np.sqrt(1 - m * (np.sin(phi) ** 2))\n",
        "    resultado, error = sc.integrate.quad(integral, 0, np.pi/2)\n",
        "    return resultado\n",
        "\n",
        "\n",
        "\n",
        "# Calcular los valores para diferentes valores de m\n",
        "m  = np.linspace(0,0.99999999999, 10)\n",
        "Resultado_pol = [aprox_pol(i) for i in m]\n",
        "Resultado_num = [aprox_num(i) for i in m]\n",
        "\n",
        "\n",
        "for i in range(len(Resultado_num)):\n",
        "  print(f\"Resultado polinomial = {Resultado_pol[i]} y Resultado numerico = {Resultado_num[i]}\")\n",
        "\n",
        "#Hay una division por cero cuando m toma valores muy cercanos a 1 e incluso el 1, Por eso lo coloqué hasta 0.99999999999\n"
      ],
      "metadata": {
        "colab": {
          "base_uri": "https://localhost:8080/"
        },
        "id": "NN1Fcr-cRw_9",
        "outputId": "7f75c308-a62b-46fd-bdb0-cff4a746ae5b"
      },
      "execution_count": 300,
      "outputs": [
        {
          "output_type": "stream",
          "name": "stdout",
          "text": [
            "Resultado polinomial = 1.5055496599999998 y Resultado numerico = 1.5707963267948966\n",
            "Resultado polinomial = 1.5658692208171585 y Resultado numerico = 1.6173867356242346\n",
            "Resultado polinomial = 1.6315677761046081 y Resultado numerico = 1.6710043608207488\n",
            "Resultado polinomial = 1.7049333148465917 y Resultado numerico = 1.733916885255877\n",
            "Resultado polinomial = 1.789527028489491 y Resultado numerico = 1.809667495483234\n",
            "Resultado polinomial = 1.891348004269479 y Resultado numerico = 1.9042414169396467\n",
            "Resultado polinomial = 2.021723048280324 y Resultado numerico = 2.028959102740042\n",
            "Resultado polinomial = 2.206307768018912 y Resultado numerico = 2.209483927337824\n",
            "Resultado polinomial = 2.527876185205694 y Resultado numerico = 2.5286255321814184\n",
            "Resultado polinomial = 14.050542370128923 y Resultado numerico = 14.05051186735126\n"
          ]
        }
      ]
    },
    {
      "cell_type": "markdown",
      "metadata": {
        "id": "xDFUsTNRvzOV"
      },
      "source": [
        "# Parte 5 (Opcional)\n",
        "\n",
        "Figure 5.7 shows a current loop of radius a carrying a current I. The point P\n",
        "is a distance r from the center of the loop with spherical coordinates (r, θ, φ).\n",
        "Jackson (1988) solves for the φ component of the vector potential at point P\n",
        "in terms of elliptic integrals:\n",
        "\n",
        "\\begin{equation}\n",
        "A_{\\phi}(r, \\theta)=\\frac{\\mu_0}{4\\pi}\\frac{4Ia}{\\sqrt{a^2+r^2+2ar\\sin \\theta}}\\left(\\frac{(2-k^2)K(k)-2E(k)}{k^2} \\right)\n",
        "\\end{equation}\n",
        "\n",
        "\n",
        "where\n",
        "\n",
        "\\begin{equation}\n",
        "K(k)=\\int_{0}^{\\pi/2} \\frac{\\mathrm{d\\phi}}{\\sqrt{1-k^2\\sin^2\\phi}}\n",
        "\\end{equation}\n",
        "\n",
        "\n",
        "\\begin{equation}\n",
        "E(k)=\\int_{0}^{\\pi/2} \\mathrm{d\\phi} \\sqrt{1-k^2\\sin^2\\phi}\n",
        "\\end{equation}\n",
        "\n",
        "\n",
        "\\begin{equation}\n",
        "k^2=\\frac{4ar\\sin\\theta}{a^2+r^2+2ar\\sin\\theta}\n",
        "\\end{equation}\n",
        "\n",
        "\n",
        "\n",
        "Here K(k) is a complete elliptic integral of the first kind and E(k) is a complete\n",
        "elliptic integral of the second kind. For a = 1, I = 3, and μ0∕4π = 1, compute\n",
        "and plot\n",
        "\n",
        "a) Aφ(r = 1.1, θ) vs. θ\n",
        "\n",
        "b) Aφ(r, θ = π∕3) vs. r\n"
      ]
    },
    {
      "cell_type": "code",
      "execution_count": 301,
      "metadata": {
        "id": "Ny-ACuTtur-3"
      },
      "outputs": [],
      "source": [
        "import scipy as sc\n",
        "from scipy import integrate"
      ]
    },
    {
      "cell_type": "code",
      "source": [
        "#theta = np.pi/4\n",
        "theta = np.linspace(0.1,np.pi/2,100)\n",
        "r = np.linspace(0.1, 5, 100)\n",
        "a = 1\n",
        "m = 1  #u_0/4pi = 1\n",
        "I = 3\n"
      ],
      "metadata": {
        "id": "KDx41is8D9KK"
      },
      "execution_count": 302,
      "outputs": []
    },
    {
      "cell_type": "code",
      "source": [
        "def k_(r,a,theta):\n",
        "  k = (4 * a * r * np.sin(theta)) / ((a**2)+(r**2)+(2*a*r*np.sin(theta)))\n",
        "  return k\n",
        "\n",
        "kk = k_(r,a, theta)\n",
        "kk"
      ],
      "metadata": {
        "id": "mTAJV-BkFZTu",
        "colab": {
          "base_uri": "https://localhost:8080/"
        },
        "outputId": "53bd558f-5fd3-4ca0-b8da-80641945f2a7"
      },
      "execution_count": 303,
      "outputs": [
        {
          "output_type": "execute_result",
          "data": {
            "text/plain": [
              "array([0.03877151, 0.06485903, 0.09436292, 0.12634621, 0.15989426,\n",
              "       0.19416876, 0.22844336, 0.26212128, 0.29473811, 0.32595375,\n",
              "       0.35553774, 0.3833516 , 0.40933063, 0.43346697, 0.45579466,\n",
              "       0.47637721, 0.49529766, 0.51265073, 0.52853703, 0.5430587 ,\n",
              "       0.55631642, 0.56840734, 0.57942377, 0.58945239, 0.59857391,\n",
              "       0.60686295, 0.61438816, 0.62121245, 0.6273933 , 0.63298309,\n",
              "       0.63802949, 0.64257586, 0.64666157, 0.65032236, 0.65359069,\n",
              "       0.65649603, 0.65906514, 0.66132232, 0.66328969, 0.66498734,\n",
              "       0.66643356, 0.66764501, 0.66863688, 0.66942303, 0.6700161 ,\n",
              "       0.67042766, 0.67066828, 0.67074765, 0.67067463, 0.67045737,\n",
              "       0.67010333, 0.66961939, 0.66901186, 0.66828655, 0.66744882,\n",
              "       0.66650361, 0.66545548, 0.66430865, 0.66306701, 0.66173417,\n",
              "       0.66031347, 0.65880801, 0.65722065, 0.65555407, 0.65381075,\n",
              "       0.65199298, 0.65010293, 0.64814258, 0.6461138 , 0.64401833,\n",
              "       0.64185779, 0.63963371, 0.63734749, 0.63500047, 0.6325939 ,\n",
              "       0.63012894, 0.62760668, 0.62502815, 0.62239432, 0.61970609,\n",
              "       0.61696433, 0.61416984, 0.61132339, 0.60842568, 0.6054774 ,\n",
              "       0.60247919, 0.59943167, 0.59633541, 0.59319096, 0.58999885,\n",
              "       0.58675956, 0.58347359, 0.58014137, 0.57676335, 0.57333994,\n",
              "       0.56987154, 0.56635854, 0.56280131, 0.5592002 , 0.55555556])"
            ]
          },
          "metadata": {},
          "execution_count": 303
        }
      ]
    },
    {
      "cell_type": "code",
      "source": [
        "def E_k(k):\n",
        "  f = lambda phi: np.sqrt(1 - (k * (np.sin(phi))**2))\n",
        "  I = integrate.quad(f, 0, np.pi/2)\n",
        "  return I\n",
        "\n",
        "E_ = np.zeros(100)\n",
        "for i in range(len(kk)):\n",
        "  E_[i] = E_k(kk[i])[0]\n",
        "print(E_)\n"
      ],
      "metadata": {
        "id": "yfqZ5-cuFO1P",
        "colab": {
          "base_uri": "https://localhost:8080/"
        },
        "outputId": "e7173c83-14bd-4d82-e234-41e23c1d235f"
      },
      "execution_count": 304,
      "outputs": [
        {
          "output_type": "stream",
          "name": "stdout",
          "text": [
            "[1.55545828 1.54500782 1.53305727 1.51993836 1.50598591 1.49151862\n",
            " 1.47682503 1.46215479 1.44771483 1.43366935 1.42014261 1.40722332\n",
            " 1.39496984 1.38341549 1.37257363 1.36244216 1.3530074  1.34424732\n",
            " 1.33613419 1.32863663 1.32172123 1.31535375 1.30950003 1.30412667\n",
            " 1.2992014  1.29469346 1.29057372 1.28681481 1.28339113 1.28027882\n",
            " 1.27745576 1.27490144 1.27259692 1.27052473 1.26866874 1.26701413\n",
            " 1.26554724 1.2642555  1.26312736 1.26215217 1.26132016 1.26062232\n",
            " 1.26005036 1.25959664 1.25925412 1.25901631 1.25887723 1.25883135\n",
            " 1.25887357 1.25899915 1.25920372 1.25948326 1.25983399 1.26025244\n",
            " 1.26073539 1.26127984 1.26188298 1.26254223 1.26325516 1.26401951\n",
            " 1.26483319 1.26569421 1.26660075 1.26755108 1.26854358 1.26957673\n",
            " 1.27064913 1.27175944 1.27290639 1.27408881 1.27530558 1.27655565\n",
            " 1.27783803 1.27915178 1.28049601 1.28186989 1.2832726  1.28470341\n",
            " 1.28616158 1.28764643 1.28915732 1.29069361 1.29225472 1.29384008\n",
            " 1.29544915 1.2970814  1.29873635 1.3004135  1.30211241 1.30383263\n",
            " 1.30557373 1.30733531 1.30911696 1.31091831 1.31273899 1.31457862\n",
            " 1.31643687 1.3183134  1.32020787 1.32211997]\n"
          ]
        }
      ]
    },
    {
      "cell_type": "code",
      "source": [
        "def K_k(k):\n",
        "  f = lambda phi: 1 / (np.sqrt(1 - (k * (np.sin(phi))**2)))\n",
        "  I = integrate.quad(f, 0, np.pi/2)\n",
        "  return I\n",
        "\n",
        "K_ = np.zeros(100)\n",
        "for i in range(len(kk)):\n",
        "  K_[i] = K_k(kk[i])[0]\n",
        "print(K_)\n"
      ],
      "metadata": {
        "id": "QWb-Pa1BDLK7",
        "colab": {
          "base_uri": "https://localhost:8080/"
        },
        "outputId": "6aa97800-33b1-421e-d045-1db59534c93a"
      },
      "execution_count": 305,
      "outputs": [
        {
          "output_type": "stream",
          "name": "stdout",
          "text": [
            "[1.58636313 1.59723969 1.60995845 1.62428131 1.63994938 1.65669552\n",
            " 1.67425539 1.6923765  1.71082475 1.72938891 1.74788296 1.7661469\n",
            " 1.78404622 1.8014706  1.81833198 1.83456229 1.85011116 1.86494353\n",
            " 1.87903744 1.89238194 1.90497517 1.91682277 1.92793632 1.93833208\n",
            " 1.94802994 1.95705245 1.96542405 1.97317043 1.980318   1.98689347\n",
            " 1.99292348 1.99843434 2.00345184 2.00800105 2.01210623 2.01579074\n",
            " 2.01907698 2.02198635 2.02453928 2.02675518 2.02865246 2.0302486\n",
            " 2.0315601  2.0326026  2.03339083 2.03393872 2.03425939 2.03436521\n",
            " 2.03426785 2.03397829 2.03350689 2.0328634  2.03205701 2.03109639\n",
            " 2.02998968 2.02874458 2.02736836 2.02586785 2.02424952 2.02251946\n",
            " 2.02068343 2.01874687 2.01671494 2.01459249 2.01238414 2.01009423\n",
            " 2.00772692 2.00528611 2.00277551 2.00019867 1.99755891 1.99485943\n",
            " 1.99210325 1.98929325 1.98643216 1.98352259 1.98056704 1.97756787\n",
            " 1.97452733 1.9714476  1.96833073 1.96517869 1.96199337 1.95877657\n",
            " 1.95553002 1.95225536 1.94895419 1.94562802 1.94227831 1.93890645\n",
            " 1.9355138  1.93210163 1.9286712  1.92522369 1.92176025 1.91828199\n",
            " 1.91478997 1.91128522 1.90776871 1.90424142]\n"
          ]
        }
      ]
    },
    {
      "cell_type": "markdown",
      "source": [
        "\\begin{equation}\n",
        "A_{\\phi}(r, \\theta)=\\frac{\\mu_0}{4\\pi}\\frac{4Ia}{\\sqrt{a^2+r^2+2ar\\sin \\theta}}\\left(\\frac{(2-k^2)K(k)-2E(k)}{k^2} \\right)\n",
        "\\end{equation}"
      ],
      "metadata": {
        "id": "eMMuupKHLdYl"
      }
    },
    {
      "cell_type": "code",
      "source": [
        "def Potencial(r, theta, k, K, E, m, I):\n",
        "  A = m * (4 * I * a / np.sqrt((a**2)+(r**2)+(2*a*r*np.sin(theta)))) * (((2 - k)* K_ - 2 * E_)/ k)\n",
        "  return A\n",
        "\n",
        "AA = Potencial(r,theta, kk, K_, E_, m, I)\n",
        "AA"
      ],
      "metadata": {
        "id": "Z9jpJ8OmKlNI",
        "colab": {
          "base_uri": "https://localhost:8080/"
        },
        "outputId": "b516e513-4543-4303-81a6-222dce096ad6"
      },
      "execution_count": 306,
      "outputs": [
        {
          "output_type": "execute_result",
          "data": {
            "text/plain": [
              "array([0.09271384, 0.15628894, 0.22912342, 0.3090519 , 0.39382275,\n",
              "       0.481234  , 0.56924245, 0.65604059, 0.74010128, 0.82019445,\n",
              "       0.89538173, 0.96499554, 1.02860863, 1.08599909, 1.13711433,\n",
              "       1.18203679, 1.22095262, 1.25412437, 1.28186777, 1.30453259,\n",
              "       1.3224872 , 1.33610645, 1.34576236, 1.35181725, 1.35461879,\n",
              "       1.35449664, 1.35176037, 1.34669833, 1.33957728, 1.33064256,\n",
              "       1.32011869, 1.30821022, 1.29510281, 1.28096436, 1.26594628,\n",
              "       1.25018468, 1.23380162, 1.2169063 , 1.19959614, 1.18195792,\n",
              "       1.1640687 , 1.14599682, 1.12780269, 1.10953963, 1.09125455,\n",
              "       1.07298864, 1.05477794, 1.03665387, 1.01864376, 1.00077127,\n",
              "       0.98305677, 0.96551772, 0.94816898, 0.9310231 , 0.91409059,\n",
              "       0.89738013, 0.88089881, 0.86465225, 0.84864487, 0.83287994,\n",
              "       0.81735974, 0.80208574, 0.7870586 , 0.77227835, 0.75774442,\n",
              "       0.74345577, 0.72941089, 0.71560791, 0.70204463, 0.68871856,\n",
              "       0.67562699, 0.66276701, 0.65013554, 0.63772934, 0.62554509,\n",
              "       0.61357935, 0.60182865, 0.59028943, 0.5789581 , 0.56783106,\n",
              "       0.5569047 , 0.54617539, 0.53563954, 0.52529354, 0.51513383,\n",
              "       0.50515687, 0.49535916, 0.48573724, 0.47628768, 0.46700713,\n",
              "       0.45789224, 0.44893975, 0.44014645, 0.43150915, 0.42302477,\n",
              "       0.41469024, 0.40650257, 0.39845882, 0.39055611, 0.38279161])"
            ]
          },
          "metadata": {},
          "execution_count": 306
        }
      ]
    },
    {
      "cell_type": "code",
      "source": [
        "import matplotlib.pyplot as plt"
      ],
      "metadata": {
        "id": "eWQCF6C2NOsx"
      },
      "execution_count": 307,
      "outputs": []
    },
    {
      "cell_type": "code",
      "source": [
        "\n",
        "plt.xlabel(\"theta\")\n",
        "plt.ylabel(\"Potencial\")\n",
        "plt.title(\"Grafica\")\n",
        "plt.plot(theta, AA, \"b--\")\n",
        "plt.plot(r, AA, \"r-\")\n",
        "plt.show()"
      ],
      "metadata": {
        "id": "VDSEn4CvTB8-",
        "colab": {
          "base_uri": "https://localhost:8080/",
          "height": 472
        },
        "outputId": "8c4a90ff-cb7d-4e42-9700-eb0be5b8dab6"
      },
      "execution_count": 308,
      "outputs": [
        {
          "output_type": "display_data",
          "data": {
            "text/plain": [
              "<Figure size 640x480 with 1 Axes>"
            ],
            "image/png": "[encoded data removed]"
          },
          "metadata": {}
        }
      ]
    },
    {
      "cell_type": "code",
      "source": [],
      "metadata": {
        "id": "T4o_qxQGTIix"
      },
      "execution_count": 308,
      "outputs": []
    }
  ],
  "metadata": {
    "colab": {
      "provenance": []
    },
    "kernelspec": {
      "display_name": "Python 3 (ipykernel)",
      "language": "python",
      "name": "python3"
    },
    "language_info": {
      "codemirror_mode": {
        "name": "ipython",
        "version": 3
      },
      "file_extension": ".py",
      "mimetype": "text/x-python",
      "name": "python",
      "nbconvert_exporter": "python",
      "pygments_lexer": "ipython3",
      "version": "3.10.9"
    }
  },
  "nbformat": 4,
  "nbformat_minor": 0
}