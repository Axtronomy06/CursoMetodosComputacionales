{
  "cells": [
    {
      "cell_type": "markdown",
      "id": "6d26e874",
      "metadata": {
        "id": "6d26e874"
      },
      "source": [
        "<a href=\"https://colab.research.google.com/github/hernansalinas/autogrades/blob/main/Actividades_clase/Actividad_04_Binarios_Errores.ipynb\" target=\"_parent\"><img src=\"https://colab.research.google.com/assets/colab-badge.svg\" alt=\"Open In Colab\"/></a>\n",
        "\n",
        "\n",
        "\n",
        "# Actividad 4\n",
        "### Métodos computacionales para físicos  y astrónomos\n",
        "### Universidad de Antioquia\n",
        "### Prof: Hernan D. Salinas Jiménez\n"
      ]
    },
    {
      "cell_type": "code",
      "execution_count": null,
      "id": "eae80e3f",
      "metadata": {
        "id": "eae80e3f",
        "outputId": "25143295-bd60-4b14-d857-62522991c896",
        "colab": {
          "base_uri": "https://localhost:8080/"
        }
      },
      "outputs": [
        {
          "output_type": "stream",
          "name": "stdout",
          "text": [
            "Cloning into 'autogrades'...\n",
            "remote: Enumerating objects: 1002, done.\u001b[K\n",
            "remote: Counting objects: 100% (64/64), done.\u001b[K\n",
            "remote: Compressing objects: 100% (54/54), done.\u001b[K\n",
            "remote: Total 1002 (delta 33), reused 35 (delta 9), pack-reused 938\u001b[K\n",
            "Receiving objects: 100% (1002/1002), 38.88 MiB | 23.01 MiB/s, done.\n",
            "Resolving deltas: 100% (608/608), done.\n"
          ]
        }
      ],
      "source": [
        "!git clone https://github.com/hernansalinas/autogrades.git\n",
        "#path=\"libs\"\n",
        "path=\"autogrades/Actividades_clase/libs\"\n",
        "%run -i {path}/libUnitTest.py"
      ]
    },
    {
      "cell_type": "markdown",
      "id": "74f1131a",
      "metadata": {
        "id": "74f1131a"
      },
      "source": [
        "### Activity 1.0:\n",
        "\n",
        "Implement a function that get the binary representation of an integer with name mybin, the algorithm should return\n",
        "a string with 8 characters, the maximun number that represent the funcition is integer of 8 bit. The name of function is\n",
        "mybin\n",
        "\n",
        "Ejexample :\n",
        "\n",
        "b=mybin(x)\n",
        "\n",
        "b='00101000'"
      ]
    },
    {
      "cell_type": "code",
      "execution_count": 21,
      "id": "4c8dabcf",
      "metadata": {
        "id": "4c8dabcf",
        "colab": {
          "base_uri": "https://localhost:8080/"
        },
        "outputId": "1b92ed10-87d6-4eb5-d530-1da56ea43b1a"
      },
      "outputs": [
        {
          "output_type": "stream",
          "name": "stdout",
          "text": [
            "El numpero 7 corresponde al binario: 00000111\n"
          ]
        }
      ],
      "source": [
        "##!/usr/bin/env python3\n",
        "def mybin(x):\n",
        "\n",
        "    #print('__name__ = {}'.format(__name__))\n",
        "\n",
        "    List=[]\n",
        "    y=int(x)\n",
        "\n",
        "    while y>0:\n",
        "      t=y//2\n",
        "      res=y%2\n",
        "      List.append(res)\n",
        "      y=t\n",
        "      d=list(map( lambda x: str(x),List))\n",
        "      l=d[::-1]\n",
        "      st = ''.join(map(str, l))   #\n",
        "      st_r= st.zfill(8)  #le agrego zeros a la izquierda\n",
        "    print(f\"El numpero {x} corresponde al binario: {st_r}\")\n",
        "\n",
        "\n",
        "mybin(7)"
      ]
    },
    {
      "cell_type": "code",
      "execution_count": null,
      "id": "885be6fb",
      "metadata": {
        "id": "885be6fb",
        "outputId": "0c2d1223-5417-4f20-e396-cea2fc764bd3",
        "colab": {
          "base_uri": "https://localhost:8080/",
          "height": 267
        }
      },
      "outputs": [
        {
          "output_type": "stream",
          "name": "stdout",
          "text": [
            "__name__ = __main__\n",
            "__name__ = __main__\n",
            "__name__ = __main__\n"
          ]
        },
        {
          "output_type": "display_data",
          "data": {
            "text/plain": [
              "<IPython.core.display.HTML object>"
            ],
            "text/html": [
              "<style>\n",
              "  table { text-align: left; border-collapse: collapse; margin: 1em; caption-side: bottom; font-family: Sans-Serif; font-size: 12px}\n",
              "  caption { text-align: left; padding: 5px }\n",
              "  th, td { border: 2px solid #BFC9CA; padding: 5px }\n",
              "  th { background-color: #BFC9CA }\n",
              "  .passed { background-color: #76D7C4 }\n",
              "  .failed { background-color: #EC7063 }\n",
              "  .skipped { background-color: #EDBB99 }\n",
              "  .score { background-color: #7DCEA0 }\n",
              "  .results .points { display: none }\n",
              "  .results .message { display: block; font-size:smaller; color:#D35400 }\n",
              "  .results .note { display: block; font-size:smaller; font-decoration:italics }\n",
              "  .results .passed::before  { content: \"Passed\" } \n",
              "  .results .skipped::before  { content: \"Skipped\" } \n",
              "  .results .failed::before  { content: \"Failed\" } \n",
              "  .grade .passed  .message:empty::before { content:\"Passed\" }\n",
              "  .grade .failed  .message:empty::before { content:\"Failed\" }\n",
              "  .grade .skipped .message:empty::before { content:\"Skipped\" }   \n",
              "</style>\n",
              "<table class='results'>\n",
              "  <th class='test'>Test</th><th class='result'>Result</th></tr>\n",
              "<tr>\n",
              "  <td class='test'>\n",
              "    La salida debe ser un string \n",
              "    <div class='message'>Done</div>\n",
              "  </td>\n",
              "  <td class='result passed'></td>\n",
              "</tr>\n",
              "<tr>\n",
              "  <td class='test'>\n",
              "    La longitud del string debe ser de 8 \n",
              "    <div class='message'>Done</div>\n",
              "  </td>\n",
              "  <td class='result passed'></td>\n",
              "</tr>\n",
              "<tr>\n",
              "  <td class='test'>\n",
              "    Para el número 178 su representacion es 10110010 \n",
              "    <div class='message'>Done</div>\n",
              "  </td>\n",
              "  <td class='result passed'></td>\n",
              "</tr>  <tr><th class='score'>Total Points</th><th class='score'>3</th></tr></table>\n"
            ]
          },
          "metadata": {}
        }
      ],
      "source": [
        "%run -i {path}/Act_02/test01.py"
      ]
    },
    {
      "cell_type": "markdown",
      "id": "e622b7b5",
      "metadata": {
        "id": "e622b7b5"
      },
      "source": [
        "### Activity 2.0:\n",
        "\n",
        "With the binary representation please try to implement the formula to recover the number.\n",
        "\n",
        "Hint: Use as input the binary representation as a string and invert its order\n",
        "\n",
        "```\n",
        "number32(BIN):\n",
        "\n",
        "```\n",
        "\n",
        "Where BIN is a string with the binary number\n",
        "\n",
        "Example:\n",
        "\n",
        "\n",
        "Test your solution for the next number:\n",
        "\n",
        "number32(\"00111110001000000000001000010000\")"
      ]
    },
    {
      "cell_type": "code",
      "source": [
        "#Programar e\n",
        "b= \"00111110001000000000001000010000\"\n",
        "#print(len(b))\n",
        "b1=b[::-1]\n",
        "pos_signo = b1[31]\n",
        "pos_signo\n",
        "pos_exponente= b1[23:31]\n",
        "pos_fraccion=b1[0:23]\n",
        "\n",
        "pos_signo,pos_exponente\n",
        "len(pos_signo),len(pos_exponente), len(pos_fraccion)\n",
        "\n",
        "\n",
        "def e_(pos_exponente):\n",
        "  e=0\n",
        "  for i in range(8):\n",
        "    e+=(2**i)*int(pos_exponente[i])\n",
        "  #print(e)\n",
        "  return e\n",
        "\n",
        "\n",
        "def r_(pos_fraccion):\n",
        "  l=0\n",
        "  for i in range(0,22):\n",
        "    l+=int(pos_fraccion[i])/(2**(23-i))\n",
        "    if pos_signo==\"0\":\n",
        "      s=(-1)**2\n",
        "    else:\n",
        "      s=(-1)**1\n",
        "    r=(s/(2**(127-e_(pos_exponente)))*(1+l))\n",
        "  print(f\"El numpero binario {b} corresponde al decimal: {r}\")\n",
        "\n",
        "\n",
        "r_(pos_fraccion)"
      ],
      "metadata": {
        "colab": {
          "base_uri": "https://localhost:8080/"
        },
        "id": "r7H4EpeM3nwp",
        "outputId": "ffee5065-4791-40f9-99ed-1fc404daf262"
      },
      "id": "r7H4EpeM3nwp",
      "execution_count": 18,
      "outputs": [
        {
          "output_type": "stream",
          "name": "stdout",
          "text": [
            "El numpero binario 00111110001000000000001000010000 corresponde al decimal: 0.15625786781311035\n"
          ]
        }
      ]
    },
    {
      "cell_type": "code",
      "execution_count": null,
      "id": "155ffd7f",
      "metadata": {
        "id": "155ffd7f"
      },
      "outputs": [],
      "source": [
        "#%run -i {path}/Act_02/test02.py"
      ]
    },
    {
      "cell_type": "markdown",
      "id": "d11e596d",
      "metadata": {
        "id": "d11e596d"
      },
      "source": [
        "### Activity 3.0:\n",
        "1. Write a python script that calculates the double precision number represented by a 64-bits binary.\n",
        "\n",
        "the name of function should be:\n",
        "```\n",
        "number64(BIN):\n",
        "\n",
        "```\n",
        "\n",
        "2. What is the number represented by:\n",
        "\n",
        "BIN=\"0 10000000011 1011100100001111111111111111111111111111111111111111\""
      ]
    },
    {
      "cell_type": "code",
      "execution_count": 13,
      "id": "b0922a1d",
      "metadata": {
        "id": "b0922a1d",
        "colab": {
          "base_uri": "https://localhost:8080/"
        },
        "outputId": "236f53df-c91c-4aa5-e30b-9f1fc2e542a2"
      },
      "outputs": [
        {
          "output_type": "stream",
          "name": "stdout",
          "text": [
            "El numpero binario 0100000000111011100100001111111111111111111111111111111111111111 corresponde al decimal: 27.566406249999996\n"
          ]
        }
      ],
      "source": [
        "b= \"0100000000111011100100001111111111111111111111111111111111111111\"\n",
        "#print(len(b))\n",
        "b1=b[::-1]\n",
        "#print(b1)\n",
        "pos_signo = b1[63]\n",
        "pos_signo\n",
        "pos_exponente= b1[52:63]\n",
        "pos_fraccion=b1[0:52]\n",
        "\n",
        "pos_signo,pos_exponente\n",
        "len(pos_signo),len(pos_exponente), len(pos_fraccion)\n",
        "\n",
        "def e_(pos_exponente):\n",
        "  e=0\n",
        "  for i in range(11):\n",
        "    e+=(2**i)*int(pos_exponente[i])\n",
        "  #print(e)\n",
        "  return e\n",
        "\n",
        "e_(pos_exponente)\n",
        "\n",
        "def r_(pos_fraccion):\n",
        "  l=0\n",
        "  for i in range(0,52):\n",
        "    l+=int(pos_fraccion[i])/(2**(52-i))\n",
        "    if pos_signo==\"0\":\n",
        "      s=(-1)**2\n",
        "    else:\n",
        "      s=(-1)**1\n",
        "    r=(s*(1+l)*(2**(e_(pos_exponente)-1023)))\n",
        "  print(f\"El numpero binario {b} corresponde al decimal: {r}\")\n",
        "\n",
        "\n",
        "r_(pos_fraccion)\n",
        "\n",
        "\n"
      ]
    },
    {
      "cell_type": "code",
      "execution_count": null,
      "id": "cd48a992",
      "metadata": {
        "scrolled": false,
        "id": "cd48a992"
      },
      "outputs": [],
      "source": [
        "  %run -i {path}/Act_02/test03.py"
      ]
    }
  ],
  "metadata": {
    "kernelspec": {
      "display_name": "Python 3 (ipykernel)",
      "language": "python",
      "name": "python3"
    },
    "language_info": {
      "codemirror_mode": {
        "name": "ipython",
        "version": 3
      },
      "file_extension": ".py",
      "mimetype": "text/x-python",
      "name": "python",
      "nbconvert_exporter": "python",
      "pygments_lexer": "ipython3",
      "version": "3.10.9"
    },
    "colab": {
      "provenance": []
    }
  },
  "nbformat": 4,
  "nbformat_minor": 5
}